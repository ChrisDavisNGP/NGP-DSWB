{
 "cells": [
  {
   "cell_type": "code",
   "execution_count": null,
   "metadata": {
    "collapsed": false,
    "input_collapsed": false
   },
   "outputs": [],
   "source": [
    "using ODBC\n",
    "using DataFrames\n",
    "using DSWB\n",
    "using Formatting\n",
    "\n",
    "dsn = \"dswb-natgeo\" # Redshift esetTable(tableRt, tableType = \"RESOURCE_TABLE\")ndpoint\n",
    "table = \"beacons_4744\" # beacon table name\n",
    "tableRt = \"beacons_4744_rt\"\n",
    "\n",
    "# Connect to Beacon Data\n",
    "setRedshiftEndpoint(dsn)\n",
    "setTable(tableRt, tableType = \"RESOURCE_TABLE\")\n",
    "setTable(table)"
   ]
  },
  {
   "cell_type": "code",
   "execution_count": null,
   "metadata": {
    "collapsed": false,
    "input_collapsed": false
   },
   "outputs": [],
   "source": [
    "# Packages\n",
    "include(\"../../Lib/Include-Package-v2.1.jl\")\n",
    "\n",
    "#TV = timeVariables(2017,4,15,10,0,2017,4,15,10,9);\n",
    "#TV = timeVariables(2017,4,21,10,0,2017,4,21,10,9);\n",
    "TV = weeklyTimeVariables(days=7);"
   ]
  },
  {
   "cell_type": "code",
   "execution_count": null,
   "metadata": {
    "collapsed": false,
    "input_collapsed": false
   },
   "outputs": [],
   "source": [
    "include(\"RD-Body-v1.0.jl\")\n",
    "customer = \"Nat Geo\" \n",
    "#productPageGroup = \"%\"\n",
    "productPageGroup = \"%\" # primary page group\n",
    "localUrl = \"%\"\n",
    "resourceUrl = \"%ng-black-logo.ngsversion.dafe07f7.png%\"\n",
    "\n",
    "localTable = \"$(table)_Find_Resource_Details\"\n",
    "linesOutput = 25\n",
    "minimumEncoded = 0\n",
    ";"
   ]
  },
  {
   "cell_type": "code",
   "execution_count": null,
   "metadata": {
    "collapsed": false,
    "input_collapsed": false
   },
   "outputs": [],
   "source": [
    "resourceMatched(tableRt;linesOut=3)\n",
    ";"
   ]
  },
  {
   "cell_type": "code",
   "execution_count": null,
   "metadata": {
    "collapsed": false,
    "input_collapsed": false
   },
   "outputs": [],
   "source": [
    "resourceSummaryAllFields(tableRt;linesOut=3)\n",
    ";"
   ]
  },
  {
   "cell_type": "code",
   "execution_count": null,
   "metadata": {
    "collapsed": false,
    "input_collapsed": false,
    "scrolled": false
   },
   "outputs": [],
   "source": [
    "resourceSummary(tableRt;linesOut=linesOutput)\n",
    ";"
   ]
  },
  {
   "cell_type": "code",
   "execution_count": null,
   "metadata": {
    "collapsed": false,
    "input_collapsed": false
   },
   "outputs": [],
   "source": [
    "resourceSize(tableRt;linesOut=linesOutput,minEncoded=minimumEncoded)\n",
    ";"
   ]
  },
  {
   "cell_type": "code",
   "execution_count": null,
   "metadata": {
    "collapsed": false,
    "input_collapsed": false
   },
   "outputs": [],
   "source": [
    "resourceScreen(tableRt;linesOut=linesOutput)\n",
    ";"
   ]
  },
  {
   "cell_type": "code",
   "execution_count": null,
   "metadata": {
    "collapsed": false,
    "input_collapsed": false,
    "scrolled": false
   },
   "outputs": [],
   "source": [
    "resourceSummaryDomainUrl(tableRt;linesOut=linesOutput)\n",
    ";\n"
   ]
  },
  {
   "cell_type": "code",
   "execution_count": null,
   "metadata": {
    "collapsed": false,
    "input_collapsed": false,
    "scrolled": false
   },
   "outputs": [],
   "source": []
  },
  {
   "cell_type": "code",
   "execution_count": null,
   "metadata": {
    "collapsed": false,
    "input_collapsed": false,
    "scrolled": false
   },
   "outputs": [],
   "source": [
    "function resourceTime1(tableRt::ASCIIString;linesOut::Int64=25)\n",
    "    \n",
    "    try\n",
    "        joinTables = query(\"\"\"\\\n",
    "        select \n",
    "        count(*),\n",
    "        avg(start_time) as \"Start Time\",\n",
    "        avg(fetch_start) as \"Fetch Start\",\n",
    "        avg(dns_end-dns_start) as \"DNS ms\",\n",
    "        avg(tcp_connection_end-tcp_connection_start) as \"TCP ms\",\n",
    "        avg(request_start) as \"Req Start\",\n",
    "        avg(response_first_byte) as \"Req FB\",\t\n",
    "        avg(response_last_byte) as \"Req LB\",\n",
    "        max(response_last_byte) as \"Max Req LB\",\n",
    "        url,\n",
    "        avg(redirect_start) as \"Redirect Start\",\n",
    "        avg(redirect_end) as \"Redirect End\",\n",
    "        avg(secure_connection_start) as \"Secure Conn Start\"\n",
    "        from $tableRt\n",
    "        where \n",
    "          url ilike '$resourceUrl' and\n",
    "          \"timestamp\" between $(TV.startTimeMsUTC) and $(TV.endTimeMsUTC)\n",
    "        group by url\n",
    "        order by count(*) desc\n",
    "        \"\"\");\n",
    "\n",
    "        displayTitle(chart_title = \"Raw Resource Url Pattern $(resourceUrl)\", chart_info = [TV.timeString], showTimeStamp=false)\n",
    "        #scrubUrlToPrint(joinTables,limit=150)\n",
    "        beautifyDF(joinTables[1:min(linesOut,end),:])\n",
    "    catch y\n",
    "        println(\"bigTable5 Exception \",y)\n",
    "    end\n",
    "end \n"
   ]
  },
  {
   "cell_type": "code",
   "execution_count": null,
   "metadata": {
    "collapsed": false,
    "input_collapsed": false,
    "scrolled": false
   },
   "outputs": [],
   "source": [
    "resourceTime1(tableRt;linesOut=linesOutput)\n",
    ";"
   ]
  },
  {
   "cell_type": "code",
   "execution_count": null,
   "metadata": {
    "collapsed": false,
    "input_collapsed": false,
    "scrolled": false
   },
   "outputs": [],
   "source": [
    "function resourceTime2(tableRt::ASCIIString;linesOut::Int64=25)\n",
    "    \n",
    "    try\n",
    "        timeTable = query(\"\"\"\\\n",
    "        select \n",
    "        (response_last_byte-start_time) as \"Time Taken\",\n",
    "        (start_time) as \"Start Time\",\n",
    "        (fetch_start) as \"Fetch Start\",\n",
    "        (dns_end-dns_start) as \"DNS ms\",\n",
    "        (tcp_connection_end-tcp_connection_start) as \"TCP ms\",\n",
    "        (request_start) as \"Req Start\",\n",
    "        (response_first_byte) as \"Req FB\",\t\n",
    "        (response_last_byte) as \"Req LB\",\n",
    "        url,\n",
    "        (redirect_start) as \"Redirect Start\",\n",
    "        (redirect_end) as \"Redirect End\",\n",
    "        (secure_connection_start) as \"Secure Conn Start\"\n",
    "        from $tableRt\n",
    "        where \n",
    "          url ilike '$resourceUrl' and\n",
    "        \"timestamp\" between $(TV.startTimeMsUTC) and $(TV.endTimeMsUTC) and\n",
    "        (response_last_byte-start_time) > 75 and (response_last_byte-start_time) < 10000\n",
    "        order by \"Time Taken\" desc\n",
    "        \"\"\");\n",
    "\n",
    "        #todo remove negitives\n",
    "        \n",
    "        displayTitle(chart_title = \"Raw Resource Url Pattern $(resourceUrl)\", chart_info = [TV.timeString], showTimeStamp=false)\n",
    "        #scrubUrlToPrint(timeTable,limit=150)\n",
    "        beautifyDF(timeTable[1:min(linesOut,end),:])\n",
    "        \n",
    "        timeTable = names!(timeTable[:,:],\n",
    "        [symbol(\"taken\"),symbol(\"start\"),symbol(\"fetch\"),symbol(\"dns\"),symbol(\"tcp\"),symbol(\"req_start\"),symbol(\"req_fb\"),symbol(\"req_lb\"),symbol(\"url\")\n",
    "            ,symbol(\"redirect_start\"),symbol(\"redirect_end\"),symbol(\"secure_conn_start\")])\n",
    "        \n",
    "        dv1 = timeTable[:taken]\n",
    "        statsDF1 = limitedStatsFromDV(dv1)\n",
    "        showLimitedStats(TV,statsDF1,\"Time Taken Stats\")\n",
    "        \n",
    "        dv2 = timeTable[:dns]\n",
    "        statsDF2 = limitedStatsFromDV(dv2)\n",
    "        showLimitedStats(TV,statsDF2,\"DNS Stats\")\n",
    "        \n",
    "        dv3 = timeTable[:tcp]\n",
    "        statsDF3 = limitedStatsFromDV(dv3)\n",
    "        showLimitedStats(TV,statsDF3,\"TCP Stats\")\n",
    "        \n",
    "        dv4 = timeTable[:start]\n",
    "        statsDF4 = limitedStatsFromDV(dv4)\n",
    "        showLimitedStats(TV,statsDF4,\"Start Time On Page Stats\")\n",
    "        \n",
    "        dv5 = timeTable[:fetch]\n",
    "        statsDF5 = limitedStatsFromDV(dv5)\n",
    "        showLimitedStats(TV,statsDF5,\"Fetching Request Stats\")\n",
    "        \n",
    "        dv6 = timeTable[:req_start]\n",
    "        statsDF6 = limitedStatsFromDV(dv6)\n",
    "        showLimitedStats(TV,statsDF6,\"Request Start Stats\")\n",
    "        \n",
    "        dv7 = timeTable[:req_fb]\n",
    "        statsDF7 = limitedStatsFromDV(dv7)\n",
    "        showLimitedStats(TV,statsDF7,\"Request First Byte Stats\")\n",
    "        \n",
    "        dv8 = timeTable[:req_lb]\n",
    "        statsDF8 = limitedStatsFromDV(dv8)\n",
    "        showLimitedStats(TV,statsDF8,\"Request Last Byte Stats\")\n",
    "        \n",
    "        \n",
    "        \n",
    "        \n",
    "    catch y\n",
    "        println(\"bigTable5 Exception \",y)\n",
    "    end\n",
    "end \n"
   ]
  },
  {
   "cell_type": "code",
   "execution_count": null,
   "metadata": {
    "collapsed": false,
    "input_collapsed": false,
    "scrolled": false
   },
   "outputs": [],
   "source": [
    "resourceTime2(tableRt;linesOut=linesOutput)\n",
    ";"
   ]
  },
  {
   "cell_type": "code",
   "execution_count": null,
   "metadata": {
    "collapsed": false,
    "input_collapsed": false,
    "scrolled": false
   },
   "outputs": [],
   "source": [
    "function resourceTime3(tableRt::ASCIIString;linesOut::Int64=25)\n",
    "    \n",
    "    try\n",
    "        joinTables = query(\"\"\"\\\n",
    "        select \n",
    "        (response_last_byte-start_time) as \"Time Taken\",\n",
    "        (start_time) as \"Start Time\",\n",
    "        (fetch_start) as \"Fetch S\",\n",
    "        (dns_end-dns_start) as \"DNS ms\",\n",
    "        (tcp_connection_end-tcp_connection_start) as \"TCP ms\",\n",
    "        (request_start) as \"Req S\",\n",
    "        (response_first_byte) as \"Req FB\",\t\n",
    "        (response_last_byte) as \"Req LB\",\n",
    "        url, params_u,\n",
    "        (redirect_start) as \"Redirect S\",\n",
    "        (redirect_end) as \"Redirect E\",\n",
    "        (secure_connection_start) as \"Secure Conn S\"\n",
    "        from $tableRt\n",
    "        where \n",
    "          url ilike '$resourceUrl' and\n",
    "        \"timestamp\" between $(TV.startTimeMsUTC) and $(TV.endTimeMsUTC) and\n",
    "        start_time > 10000\n",
    "        order by start_time desc\n",
    "        limit 25\n",
    "        \"\"\");\n",
    "\n",
    "        displayTitle(chart_title = \"Raw Resource Url Pattern $(resourceUrl)\", chart_info = [TV.timeString], showTimeStamp=false)\n",
    "        #scrubUrlToPrint(joinTables,limit=150)\n",
    "        beautifyDF(joinTables[1:min(linesOut,end),:])\n",
    "    catch y\n",
    "        println(\"bigTable5 Exception \",y)\n",
    "    end\n",
    "end \n"
   ]
  },
  {
   "cell_type": "code",
   "execution_count": null,
   "metadata": {
    "collapsed": false,
    "input_collapsed": false,
    "scrolled": false
   },
   "outputs": [],
   "source": [
    "resourceTime3(tableRt;linesOut=linesOutput)\n",
    ";"
   ]
  },
  {
   "cell_type": "code",
   "execution_count": null,
   "metadata": {
    "collapsed": false,
    "input_collapsed": false
   },
   "outputs": [],
   "source": [
    "## Resource and it parent is also interesting below this point\n",
    "\n",
    "#try\n",
    "#    query(\"\"\"\\\n",
    "#        create or replace view $localTable as (\n",
    "#            select * from $table \n",
    "#                where \n",
    "#                    \"timestamp\" between $(TV.startTimeMsUTC) and $(TV.endTimeMsUTC) and \n",
    "#                    page_group ilike '$(productPageGroup)' and\n",
    "#                    params_u ilike '$(localUrl)' \n",
    "#        )\n",
    "#    \"\"\")\n",
    "#    cnt = query(\"\"\"SELECT count(*) FROM $localTable\"\"\")\n",
    "#    println(\"$localTable count is \",cnt[1,1])\n",
    "#catch y\n",
    "#    println(\"setupLocalTable Exception \",y)\n",
    "#end\n"
   ]
  },
  {
   "cell_type": "code",
   "execution_count": null,
   "metadata": {
    "collapsed": true,
    "input_collapsed": false
   },
   "outputs": [],
   "source": []
  }
 ],
 "metadata": {
  "kernelspec": {
   "display_name": "Julia 0.4.7",
   "language": "julia",
   "name": "julia-0.4"
  },
  "language_info": {
   "file_extension": ".jl",
   "mimetype": "application/julia",
   "name": "julia",
   "version": "0.4.7"
  },
  "library_version": "1.0.0",
  "notebook_uuid": "568c97a0-3ab7-44cd-930c-caf395b082c5",
  "readOnly": false
 },
 "nbformat": 4,
 "nbformat_minor": 0
}
