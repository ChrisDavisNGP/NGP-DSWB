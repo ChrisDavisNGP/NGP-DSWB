{
 "cells": [
  {
   "cell_type": "code",
   "execution_count": 17,
   "metadata": {
    "collapsed": false,
    "input_collapsed": false
   },
   "outputs": [
    {
     "name": "stdout",
     "output_type": "stream",
     "text": [
      "Set Redshift endpoint done. 2017-04-23T20:24:36\n"
     ]
    },
    {
     "data": {
      "text/plain": [
       "\"beacons_4744\""
      ]
     },
     "execution_count": 17,
     "metadata": {},
     "output_type": "execute_result"
    }
   ],
   "source": [
    "using ODBC\n",
    "using DataFrames\n",
    "using DSWB\n",
    "using Formatting\n",
    "\n",
    "dsn = \"dswb-natgeo\" # Redshift esetTable(tableRt, tableType = \"RESOURCE_TABLE\")ndpoint\n",
    "table = \"beacons_4744\" # beacon table name\n",
    "tableRt = \"beacons_4744_rt\"\n",
    "\n",
    "# Connect to Beacon Data\n",
    "setRedshiftEndpoint(dsn)\n",
    "setTable(tableRt, tableType = \"RESOURCE_TABLE\")\n",
    "setTable(table)"
   ]
  },
  {
   "cell_type": "code",
   "execution_count": 18,
   "metadata": {
    "collapsed": false,
    "input_collapsed": false
   },
   "outputs": [
    {
     "name": "stdout",
     "output_type": "stream",
     "text": [
      "April 15, 2017 23:59:00 to April 22, 2017 23:59:00 Local Time\n",
      "April 16, 2017 03:59:00 to April 23, 2017 03:59:00 UTC Time\n"
     ]
    }
   ],
   "source": [
    "# Packages\n",
    "include(\"/data/notebook_home/Production/Lib/Include-Package-v1.0.jl\")\n",
    "\n",
    "#TV = timeVariables(2017,4,15,10,0,2017,4,15,10,9);\n",
    "#TV = timeVariables(2017,4,21,10,0,2017,4,21,10,9);\n",
    "TV = weeklyTimeVariables(days=7);"
   ]
  },
  {
   "cell_type": "code",
   "execution_count": 19,
   "metadata": {
    "collapsed": false,
    "input_collapsed": false
   },
   "outputs": [],
   "source": [
    "include(\"/data/notebook_home/Production/Bodies/RD-Body-v1.0.jl\")\n",
    "customer = \"Nat Geo\" \n",
    "#productPageGroup = \"%\"\n",
    "productPageGroup = \"%\" # primary page group\n",
    "localUrl = \"%\"\n",
    "resourceUrl = \"%ng-black-logo.ngsversion.dafe07f7.png%\"\n",
    "\n",
    "localTable = \"$(table)_Find_Resource_Details\"\n",
    "linesOutput = 25\n",
    "minimumEncoded = 0\n",
    ";"
   ]
  },
  {
   "cell_type": "code",
   "execution_count": 20,
   "metadata": {
    "collapsed": false,
    "input_collapsed": false
   },
   "outputs": [
    {
     "data": {
      "text/html": [
       "<div class=\"dswbOutputText\"><h1 class=\"chart_title\" style=\"color:#ccc\">Matches For Url Pattern %ng-black-logo.ngsversion.dafe07f7.png%</h1><h3 class=\"chart_info\" style=\"color:#ccc\">April 15, 2017 23:59:00 to April 22, 2017 23:59:00 Local Time</h3></div>"
      ]
     },
     "metadata": {},
     "output_type": "display_data"
    },
    {
     "data": {
      "text/html": [
       "    <table  class=\"dataframe-table\">\n",
       "    <thead><tr><th class=\"cell-1\" style=\"\">count</th></tr></thead>\n",
       "    <tbody>\n",
       "    <tr><td class=\"cell-1\" style=\"text-align:right;\">597</td></tr>\n",
       "    </tbody>\n"
      ]
     },
     "metadata": {},
     "output_type": "display_data"
    }
   ],
   "source": [
    "resourceMatched(tableRt;linesOut=3)\n",
    ";"
   ]
  },
  {
   "cell_type": "code",
   "execution_count": 21,
   "metadata": {
    "collapsed": false,
    "input_collapsed": false
   },
   "outputs": [
    {
     "data": {
      "text/html": [
       "<div class=\"dswbOutputText\"><h1 class=\"chart_title\" style=\"color:#ccc\">Raw Resource Url Pattern %ng-black-logo.ngsversion.dafe07f7.png%</h1><h3 class=\"chart_info\" style=\"color:#ccc\">April 15, 2017 23:59:00 to April 22, 2017 23:59:00 Local Time</h3></div>"
      ]
     },
     "metadata": {},
     "output_type": "display_data"
    },
    {
     "data": {
      "text/html": [
       "    <table  class=\"dataframe-table\">\n",
       "    <thead><tr><th class=\"cell-1\" style=\"\">params u</th> <th class=\"cell-2\" style=\"\">session id</th> <th class=\"cell-3\" style=\"\">session start</th> <th class=\"cell-4\" style=\"\">timestamp</th> <th class=\"cell-5\" style=\"\">url</th> <th class=\"cell-6\" style=\"\">initiator type</th> <th class=\"cell-7\" style=\"\">start time</th> <th class=\"cell-8\" style=\"\">redirect start</th> <th class=\"cell-9\" style=\"\">redirect end</th> <th class=\"cell-10\" style=\"\">fetch start</th> <th class=\"cell-11\" style=\"\">dns start</th> <th class=\"cell-12\" style=\"\">dns end</th> <th class=\"cell-13\" style=\"\">tcp connection start</th> <th class=\"cell-14\" style=\"\">secure connection start</th> <th class=\"cell-15\" style=\"\">tcp connection end</th> <th class=\"cell-16\" style=\"\">request start</th> <th class=\"cell-17\" style=\"\">response first byte</th> <th class=\"cell-18\" style=\"\">response last byte</th> <th class=\"cell-19\" style=\"\">worker start</th> <th class=\"cell-20\" style=\"\">encoded size</th> <th class=\"cell-21\" style=\"\">transferred size</th> <th class=\"cell-22\" style=\"\">decoded size</th> <th class=\"cell-23\" style=\"\">height</th> <th class=\"cell-24\" style=\"\">width</th> <th class=\"cell-25\" style=\"\">x</th> <th class=\"cell-26\" style=\"\">y</th></tr></thead>\n",
       "    <tbody>\n",
       "    <tr><td class=\"cell-1\" style=\"\">http://www.nationalgeographic.com/travel/destinations/europe/ireland/road-trip-history-ireland-ancient-east/?utm_source=Twitter&utm_medium=Social&utm_content=link_tw20170404travel-ireland&utm_campaign=Content&sf67898714=1</td> <td class=\"cell-2\" style=\"\">48c1d140-34c0-4009-b985-c24bbc2e10cc-ooi61k</td> <td class=\"cell-3\" style=\"text-align:right;\">1,492,346,647,632</td> <td class=\"cell-4\" style=\"text-align:right;\">2017-04-16T12:44:18.280</td> <td class=\"cell-5\" style=\"\">http://www.nationalgeographic.com/etc/designs/platform/v2/images/logos/ng-black-logo.ngsversion.dafe07f7.png</td> <td class=\"cell-6\" style=\"\">img</td> <td class=\"cell-7\" style=\"text-align:right;\">468</td> <td class=\"cell-8\" style=\"text-align:right;\">0</td> <td class=\"cell-9\" style=\"text-align:right;\">0</td> <td class=\"cell-10\" style=\"text-align:right;\">468</td> <td class=\"cell-11\" style=\"text-align:right;\">0</td> <td class=\"cell-12\" style=\"text-align:right;\">0</td> <td class=\"cell-13\" style=\"text-align:right;\">0</td> <td class=\"cell-14\" style=\"text-align:right;\">0</td> <td class=\"cell-15\" style=\"text-align:right;\">0</td> <td class=\"cell-16\" style=\"text-align:right;\">496</td> <td class=\"cell-17\" style=\"text-align:right;\">514</td> <td class=\"cell-18\" style=\"text-align:right;\">549</td> <td class=\"cell-19\" style=\"\">NA</td> <td class=\"cell-20\" style=\"\">NA</td> <td class=\"cell-21\" style=\"\">NA</td> <td class=\"cell-22\" style=\"\">NA</td> <td class=\"cell-23\" style=\"\">NA</td> <td class=\"cell-24\" style=\"\">NA</td> <td class=\"cell-25\" style=\"\">NA</td> <td class=\"cell-26\" style=\"\">NA</td></tr>\n",
       "<tr><td class=\"cell-1\" style=\"\">http://news.nationalgeographic.com/2017/03/humpback-whales-swarms-south-africa/</td> <td class=\"cell-2\" style=\"\">6cd37d0f-536e-47e9-93c1-940d18e97cdc-oohxnx</td> <td class=\"cell-3\" style=\"text-align:right;\">1,492,335,789,011</td> <td class=\"cell-4\" style=\"text-align:right;\">2017-04-16T09:47:05.427</td> <td class=\"cell-5\" style=\"\">http://news.nationalgeographic.com/etc/designs/platform/v2/images/logos/ng-black-logo.ngsversion.dafe07f7.png</td> <td class=\"cell-6\" style=\"\">img</td> <td class=\"cell-7\" style=\"text-align:right;\">693</td> <td class=\"cell-8\" style=\"text-align:right;\">0</td> <td class=\"cell-9\" style=\"text-align:right;\">0</td> <td class=\"cell-10\" style=\"text-align:right;\">693</td> <td class=\"cell-11\" style=\"text-align:right;\">0</td> <td class=\"cell-12\" style=\"text-align:right;\">0</td> <td class=\"cell-13\" style=\"text-align:right;\">0</td> <td class=\"cell-14\" style=\"text-align:right;\">0</td> <td class=\"cell-15\" style=\"text-align:right;\">0</td> <td class=\"cell-16\" style=\"text-align:right;\">699</td> <td class=\"cell-17\" style=\"text-align:right;\">707</td> <td class=\"cell-18\" style=\"text-align:right;\">716</td> <td class=\"cell-19\" style=\"\">NA</td> <td class=\"cell-20\" style=\"text-align:right;\">23,967</td> <td class=\"cell-21\" style=\"text-align:right;\">0</td> <td class=\"cell-22\" style=\"\">NA</td> <td class=\"cell-23\" style=\"\">NA</td> <td class=\"cell-24\" style=\"\">NA</td> <td class=\"cell-25\" style=\"\">NA</td> <td class=\"cell-26\" style=\"\">NA</td></tr>\n",
       "<tr><td class=\"cell-1\" style=\"\">http://news.nationalgeographic.com/news/energy/2012/02/pictures/120228-spain-solar-energy/</td> <td class=\"cell-2\" style=\"\">ff79de5e-57a7-4c38-9e88-91af09c2835d-ooi0e4</td> <td class=\"cell-3\" style=\"text-align:right;\">1,492,339,324,025</td> <td class=\"cell-4\" style=\"text-align:right;\">2017-04-16T10:42:39.684</td> <td class=\"cell-5\" style=\"\">http://news.nationalgeographic.com/etc/designs/platform/v2/images/logos/ng-black-logo.ngsversion.dafe07f7.png</td> <td class=\"cell-6\" style=\"\">img</td> <td class=\"cell-7\" style=\"text-align:right;\">11,689</td> <td class=\"cell-8\" style=\"text-align:right;\">0</td> <td class=\"cell-9\" style=\"text-align:right;\">0</td> <td class=\"cell-10\" style=\"text-align:right;\">11,689</td> <td class=\"cell-11\" style=\"text-align:right;\">0</td> <td class=\"cell-12\" style=\"text-align:right;\">0</td> <td class=\"cell-13\" style=\"text-align:right;\">0</td> <td class=\"cell-14\" style=\"text-align:right;\">0</td> <td class=\"cell-15\" style=\"text-align:right;\">0</td> <td class=\"cell-16\" style=\"text-align:right;\">12,615</td> <td class=\"cell-17\" style=\"text-align:right;\">12,615</td> <td class=\"cell-18\" style=\"text-align:right;\">12,615</td> <td class=\"cell-19\" style=\"\">NA</td> <td class=\"cell-20\" style=\"\">NA</td> <td class=\"cell-21\" style=\"\">NA</td> <td class=\"cell-22\" style=\"\">NA</td> <td class=\"cell-23\" style=\"\">NA</td> <td class=\"cell-24\" style=\"\">NA</td> <td class=\"cell-25\" style=\"\">NA</td> <td class=\"cell-26\" style=\"\">NA</td></tr>\n",
       "    </tbody>\n"
      ]
     },
     "metadata": {},
     "output_type": "display_data"
    }
   ],
   "source": [
    "resourceSummaryAllFields(tableRt;linesOut=3)\n",
    ";"
   ]
  },
  {
   "cell_type": "code",
   "execution_count": 22,
   "metadata": {
    "collapsed": false,
    "input_collapsed": false,
    "scrolled": false
   },
   "outputs": [
    {
     "data": {
      "text/html": [
       "<div class=\"dswbOutputText\"><h1 class=\"chart_title\" style=\"color:#ccc\">Resource Pattern %ng-black-logo.ngsversion.dafe07f7.png%</h1><h3 class=\"chart_info\" style=\"color:#ccc\">April 15, 2017 23:59:00 to April 22, 2017 23:59:00 Local Time</h3></div>"
      ]
     },
     "metadata": {},
     "output_type": "display_data"
    },
    {
     "data": {
      "text/html": [
       "    <table  class=\"dataframe-table\">\n",
       "    <thead><tr><th class=\"cell-1\" style=\"\">count</th> <th class=\"cell-2\" style=\"\">url</th></tr></thead>\n",
       "    <tbody>\n",
       "    <tr><td class=\"cell-1\" style=\"text-align:right;\">326</td> <td class=\"cell-2\" style=\"\">http://news.nationalgeographic.com/etc/designs/platform/v2/images/logos/ng-black-logo.ngsversion.dafe07f7.png</td></tr>\n",
       "<tr><td class=\"cell-1\" style=\"text-align:right;\">270</td> <td class=\"cell-2\" style=\"\">http://www.nationalgeographic.com/etc/designs/platform/v2/images/logos/ng-black-logo.ngsversion.dafe07f7.png</td></tr>\n",
       "<tr><td class=\"cell-1\" style=\"text-align:right;\">1</td> <td class=\"cell-2\" style=\"\">http://1.1.1.1/bmi/news.nationalgeographic.com/etc/designs/platform/v2/images/logos/ng-black-logo.ngsversion.dafe07f7.png</td></tr>\n",
       "    </tbody>\n"
      ]
     },
     "metadata": {},
     "output_type": "display_data"
    }
   ],
   "source": [
    "resourceSummary(tableRt;linesOut=linesOutput)\n",
    ";"
   ]
  },
  {
   "cell_type": "code",
   "execution_count": 23,
   "metadata": {
    "collapsed": false,
    "input_collapsed": false
   },
   "outputs": [
    {
     "data": {
      "text/html": [
       "<div class=\"dswbOutputText\"><h1 class=\"chart_title\" style=\"color:#ccc\">Size Details For Resource Pattern %ng-black-logo.ngsversion.dafe07f7.png%</h1><h3 class=\"chart_info\" style=\"color:#ccc\">April 15, 2017 23:59:00 to April 22, 2017 23:59:00 Local Time</h3></div>"
      ]
     },
     "metadata": {},
     "output_type": "display_data"
    },
    {
     "data": {
      "text/html": [
       "    <table  class=\"dataframe-table\">\n",
       "    <thead><tr><th class=\"cell-1\" style=\"\">count</th> <th class=\"cell-2\" style=\"\">encoded size</th> <th class=\"cell-3\" style=\"\">transferred size</th> <th class=\"cell-4\" style=\"\">decoded size</th> <th class=\"cell-5\" style=\"\">url</th></tr></thead>\n",
       "    <tbody>\n",
       "    <tr><td class=\"cell-1\" style=\"text-align:right;\">206</td> <td class=\"cell-2\" style=\"text-align:right;\">23,967</td> <td class=\"cell-3\" style=\"text-align:right;\">0</td> <td class=\"cell-4\" style=\"\">NA</td> <td class=\"cell-5\" style=\"\">http://news.nationalgeographic.com/etc/designs/platform/v2/images/logos/ng-black-logo.ngsversion.dafe07f7.png</td></tr>\n",
       "<tr><td class=\"cell-1\" style=\"text-align:right;\">196</td> <td class=\"cell-2\" style=\"text-align:right;\">23,967</td> <td class=\"cell-3\" style=\"text-align:right;\">0</td> <td class=\"cell-4\" style=\"\">NA</td> <td class=\"cell-5\" style=\"\">http://www.nationalgeographic.com/etc/designs/platform/v2/images/logos/ng-black-logo.ngsversion.dafe07f7.png</td></tr>\n",
       "<tr><td class=\"cell-1\" style=\"text-align:right;\">2</td> <td class=\"cell-2\" style=\"text-align:right;\">4,601</td> <td class=\"cell-3\" style=\"text-align:right;\">4,974</td> <td class=\"cell-4\" style=\"\">NA</td> <td class=\"cell-5\" style=\"\">http://news.nationalgeographic.com/etc/designs/platform/v2/images/logos/ng-black-logo.ngsversion.dafe07f7.png</td></tr>\n",
       "<tr><td class=\"cell-1\" style=\"text-align:right;\">1</td> <td class=\"cell-2\" style=\"text-align:right;\">4,601</td> <td class=\"cell-3\" style=\"text-align:right;\">5,006</td> <td class=\"cell-4\" style=\"\">NA</td> <td class=\"cell-5\" style=\"\">http://www.nationalgeographic.com/etc/designs/platform/v2/images/logos/ng-black-logo.ngsversion.dafe07f7.png</td></tr>\n",
       "<tr><td class=\"cell-1\" style=\"text-align:right;\">1</td> <td class=\"cell-2\" style=\"text-align:right;\">23,967</td> <td class=\"cell-3\" style=\"text-align:right;\">24,209</td> <td class=\"cell-4\" style=\"\">NA</td> <td class=\"cell-5\" style=\"\">http://www.nationalgeographic.com/etc/designs/platform/v2/images/logos/ng-black-logo.ngsversion.dafe07f7.png</td></tr>\n",
       "<tr><td class=\"cell-1\" style=\"text-align:right;\">1</td> <td class=\"cell-2\" style=\"text-align:right;\">6,074</td> <td class=\"cell-3\" style=\"text-align:right;\">0</td> <td class=\"cell-4\" style=\"\">NA</td> <td class=\"cell-5\" style=\"\">http://www.nationalgeographic.com/etc/designs/platform/v2/images/logos/ng-black-logo.ngsversion.dafe07f7.png</td></tr>\n",
       "    </tbody>\n"
      ]
     },
     "metadata": {},
     "output_type": "display_data"
    },
    {
     "data": {
      "text/html": [
       "<div class=\"dswbOutputText\"><h1 class=\"chart_title\" style=\"color:#ccc\">Encoded Size Stats (Page Views are Groups In Above Table)</h1><h3 class=\"chart_info\" style=\"color:#ccc\">April 15, 2017 23:59:00 to April 22, 2017 23:59:00 Local Time</h3></div>"
      ]
     },
     "metadata": {},
     "output_type": "display_data"
    },
    {
     "data": {
      "text/html": [
       "    <table  class=\"dataframe-table\">\n",
       "    <thead><tr><th class=\"cell-1\" style=\"\">Page Views</th> <th class=\"cell-2\" style=\"\">Mean(ms)</th> <th class=\"cell-3\" style=\"\">Median(ms)</th> <th class=\"cell-4\" style=\"\">Min(ms)</th> <th class=\"cell-5\" style=\"\">Max(ms)</th> <th class=\"cell-6\" style=\"\">25 Percentile</th> <th class=\"cell-7\" style=\"\">75 Percentile</th></tr></thead>\n",
       "    <tbody>\n",
       "    <tr><td class=\"cell-1\" style=\"text-align:right;\">6</td> <td class=\"cell-2\" style=\"text-align:right;\">14,530</td> <td class=\"cell-3\" style=\"text-align:right;\">15,020</td> <td class=\"cell-4\" style=\"text-align:right;\">4,601</td> <td class=\"cell-5\" style=\"text-align:right;\">23,967</td> <td class=\"cell-6\" style=\"text-align:right;\">4,969</td> <td class=\"cell-7\" style=\"text-align:right;\">23,967</td></tr>\n",
       "    </tbody>\n"
      ]
     },
     "metadata": {},
     "output_type": "display_data"
    },
    {
     "data": {
      "text/html": [
       "<div class=\"dswbOutputText\"><h1 class=\"chart_title\" style=\"color:#ccc\">Transferred Size Stats</h1><h3 class=\"chart_info\" style=\"color:#ccc\">April 15, 2017 23:59:00 to April 22, 2017 23:59:00 Local Time</h3></div>"
      ]
     },
     "metadata": {},
     "output_type": "display_data"
    },
    {
     "data": {
      "text/html": [
       "    <table  class=\"dataframe-table\">\n",
       "    <thead><tr><th class=\"cell-1\" style=\"\">Page Views</th> <th class=\"cell-2\" style=\"\">Mean(ms)</th> <th class=\"cell-3\" style=\"\">Median(ms)</th> <th class=\"cell-4\" style=\"\">Min(ms)</th> <th class=\"cell-5\" style=\"\">Max(ms)</th> <th class=\"cell-6\" style=\"\">25 Percentile</th> <th class=\"cell-7\" style=\"\">75 Percentile</th></tr></thead>\n",
       "    <tbody>\n",
       "    <tr><td class=\"cell-1\" style=\"text-align:right;\">6</td> <td class=\"cell-2\" style=\"text-align:right;\">5,698</td> <td class=\"cell-3\" style=\"text-align:right;\">2,487</td> <td class=\"cell-4\" style=\"text-align:right;\">0</td> <td class=\"cell-5\" style=\"text-align:right;\">24,209</td> <td class=\"cell-6\" style=\"text-align:right;\">0</td> <td class=\"cell-7\" style=\"text-align:right;\">4,998</td></tr>\n",
       "    </tbody>\n"
      ]
     },
     "metadata": {},
     "output_type": "display_data"
    }
   ],
   "source": [
    "resourceSize(tableRt;linesOut=linesOutput,minEncoded=minimumEncoded)\n",
    ";"
   ]
  },
  {
   "cell_type": "code",
   "execution_count": 24,
   "metadata": {
    "collapsed": false,
    "input_collapsed": false
   },
   "outputs": [
    {
     "data": {
      "text/html": [
       "<div class=\"dswbOutputText\"><h1 class=\"chart_title\" style=\"color:#ccc\">Screen Details For Resource Pattern %ng-black-logo.ngsversion.dafe07f7.png%</h1><h3 class=\"chart_info\" style=\"color:#ccc\">April 15, 2017 23:59:00 to April 22, 2017 23:59:00 Local Time</h3></div>"
      ]
     },
     "metadata": {},
     "output_type": "display_data"
    },
    {
     "data": {
      "text/html": [
       "    <table  class=\"dataframe-table\">\n",
       "    <thead><tr><th class=\"cell-1\" style=\"\">count</th> <th class=\"cell-2\" style=\"\">initiator type</th> <th class=\"cell-3\" style=\"\">height</th> <th class=\"cell-4\" style=\"\">width</th> <th class=\"cell-5\" style=\"\">x</th> <th class=\"cell-6\" style=\"\">y</th> <th class=\"cell-7\" style=\"\">url</th></tr></thead>\n",
       "    <tbody>\n",
       "    <tr><td class=\"cell-1\" style=\"text-align:right;\">326</td> <td class=\"cell-2\" style=\"\">img</td> <td class=\"cell-3\" style=\"\">NA</td> <td class=\"cell-4\" style=\"\">NA</td> <td class=\"cell-5\" style=\"\">NA</td> <td class=\"cell-6\" style=\"\">NA</td> <td class=\"cell-7\" style=\"\">http://news.nationalgeographic.com/etc/designs/platform/v2/images/logos/ng-black-logo.ngsversion.dafe07f7.png</td></tr>\n",
       "<tr><td class=\"cell-1\" style=\"text-align:right;\">270</td> <td class=\"cell-2\" style=\"\">img</td> <td class=\"cell-3\" style=\"\">NA</td> <td class=\"cell-4\" style=\"\">NA</td> <td class=\"cell-5\" style=\"\">NA</td> <td class=\"cell-6\" style=\"\">NA</td> <td class=\"cell-7\" style=\"\">http://www.nationalgeographic.com/etc/designs/platform/v2/images/logos/ng-black-logo.ngsversion.dafe07f7.png</td></tr>\n",
       "<tr><td class=\"cell-1\" style=\"text-align:right;\">1</td> <td class=\"cell-2\" style=\"\">img</td> <td class=\"cell-3\" style=\"\">NA</td> <td class=\"cell-4\" style=\"\">NA</td> <td class=\"cell-5\" style=\"\">NA</td> <td class=\"cell-6\" style=\"\">NA</td> <td class=\"cell-7\" style=\"\">http://1.1.1.1/bmi/news.nationalgeographic.com/etc/designs/platform/v2/images/logos/ng-black-logo.ngsversion.dafe07f7.png</td></tr>\n",
       "    </tbody>\n"
      ]
     },
     "metadata": {},
     "output_type": "display_data"
    }
   ],
   "source": [
    "resourceScreen(tableRt;linesOut=linesOutput)\n",
    ";"
   ]
  },
  {
   "cell_type": "code",
   "execution_count": 25,
   "metadata": {
    "collapsed": false,
    "input_collapsed": false,
    "scrolled": false
   },
   "outputs": [
    {
     "data": {
      "text/html": [
       "<div class=\"dswbOutputText\"><h1 class=\"chart_title\" style=\"color:#ccc\">Domain Url For Resource Pattern %ng-black-logo.ngsversion.dafe07f7.png%</h1><h3 class=\"chart_info\" style=\"color:#ccc\">April 15, 2017 23:59:00 to April 22, 2017 23:59:00 Local Time</h3></div>"
      ]
     },
     "metadata": {},
     "output_type": "display_data"
    },
    {
     "data": {
      "text/html": [
       "    <table  class=\"dataframe-table\">\n",
       "    <thead><tr><th class=\"cell-1\" style=\"\">count</th> <th class=\"cell-2\" style=\"\">url</th> <th class=\"cell-3\" style=\"\">params u</th></tr></thead>\n",
       "    <tbody>\n",
       "    <tr><td class=\"cell-1\" style=\"text-align:right;\">42</td> <td class=\"cell-2\" style=\"\">http://news.nationalgeographic.com/etc/designs/platform/v2/images/logos/ng-black-logo.ngsversion.dafe07f7.png</td> <td class=\"cell-3\" style=\"\">http://news.nationalgeographic.com/2017/03/python-snake-swallows-man-whole-indonesia/</td></tr>\n",
       "<tr><td class=\"cell-1\" style=\"text-align:right;\">16</td> <td class=\"cell-2\" style=\"\">http://news.nationalgeographic.com/etc/designs/platform/v2/images/logos/ng-black-logo.ngsversion.dafe07f7.png</td> <td class=\"cell-3\" style=\"\">http://news.nationalgeographic.com/2017/03/badger-buries-entire-cow-carcass/</td></tr>\n",
       "<tr><td class=\"cell-1\" style=\"text-align:right;\">14</td> <td class=\"cell-2\" style=\"\">http://www.nationalgeographic.com/etc/designs/platform/v2/images/logos/ng-black-logo.ngsversion.dafe07f7.png</td> <td class=\"cell-3\" style=\"\">http://www.nationalgeographic.com/photography/photo-of-the-day/2016/3/morskie-oko-scene/</td></tr>\n",
       "<tr><td class=\"cell-1\" style=\"text-align:right;\">12</td> <td class=\"cell-2\" style=\"\">http://news.nationalgeographic.com/etc/designs/platform/v2/images/logos/ng-black-logo.ngsversion.dafe07f7.png</td> <td class=\"cell-3\" style=\"\">http://news.nationalgeographic.com/2017/02/crystal-caves-mine-microbes-mexico-boston-aaas-aliens-science/?utm_source=Facebook&utm_medium=Social&utm_content=link_fb20170217news-cavemicrobes&utm_campaign=Content&sf57044048=1</td></tr>\n",
       "<tr><td class=\"cell-1\" style=\"text-align:right;\">12</td> <td class=\"cell-2\" style=\"\">http://www.nationalgeographic.com/etc/designs/platform/v2/images/logos/ng-black-logo.ngsversion.dafe07f7.png</td> <td class=\"cell-3\" style=\"\">http://www.nationalgeographic.com/photography/proof/2017/03/gelada-baboon-giving-birth/</td></tr>\n",
       "<tr><td class=\"cell-1\" style=\"text-align:right;\">12</td> <td class=\"cell-2\" style=\"\">http://www.nationalgeographic.com/etc/designs/platform/v2/images/logos/ng-black-logo.ngsversion.dafe07f7.png</td> <td class=\"cell-3\" style=\"\">http://www.nationalgeographic.com/magazine/2017/03/dark-star-deepest-cave-climbing-uzbekistan/?utm_source=Facebook&utm_medium=Social&utm_content=link_fb20170207ngm-darkstar&utm_campaign=Content&sf54744609=1</td></tr>\n",
       "<tr><td class=\"cell-1\" style=\"text-align:right;\">11</td> <td class=\"cell-2\" style=\"\">http://news.nationalgeographic.com/etc/designs/platform/v2/images/logos/ng-black-logo.ngsversion.dafe07f7.png</td> <td class=\"cell-3\" style=\"\">http://news.nationalgeographic.com/2017/03/channeled-scablands/</td></tr>\n",
       "<tr><td class=\"cell-1\" style=\"text-align:right;\">11</td> <td class=\"cell-2\" style=\"\">http://www.nationalgeographic.com/etc/designs/platform/v2/images/logos/ng-black-logo.ngsversion.dafe07f7.png</td> <td class=\"cell-3\" style=\"\">http://www.nationalgeographic.com/adventure/trips/best-trails/worlds-best-grail-trails/?utm_source=Facebook&utm_medium=Social&utm_content=link_fbadv20170323adv-besthikes&utm_campaign=Content&sf65421455=1</td></tr>\n",
       "<tr><td class=\"cell-1\" style=\"text-align:right;\">9</td> <td class=\"cell-2\" style=\"\">http://news.nationalgeographic.com/etc/designs/platform/v2/images/logos/ng-black-logo.ngsversion.dafe07f7.png</td> <td class=\"cell-3\" style=\"\">http://news.nationalgeographic.com/2017/03/human-heart-spinach-leaf-medicine-science/</td></tr>\n",
       "<tr><td class=\"cell-1\" style=\"text-align:right;\">8</td> <td class=\"cell-2\" style=\"\">http://www.nationalgeographic.com/etc/designs/platform/v2/images/logos/ng-black-logo.ngsversion.dafe07f7.png</td> <td class=\"cell-3\" style=\"\">http://www.nationalgeographic.com/photography/proof/2017/03/gelada-baboon-giving-birth/?utm_source=NatGeocom&utm_medium=Email&utm_content=pom_20170326&utm_campaign=Content&utm_rd=1911474017</td></tr>\n",
       "<tr><td class=\"cell-1\" style=\"text-align:right;\">7</td> <td class=\"cell-2\" style=\"\">http://news.nationalgeographic.com/etc/designs/platform/v2/images/logos/ng-black-logo.ngsversion.dafe07f7.png</td> <td class=\"cell-3\" style=\"\">http://news.nationalgeographic.com/2017/03/human-heart-spinach-leaf-medicine-science/?utm_source=Facebook&utm_medium=Social&utm_content=link_fb20170325news-spinachheart&utm_campaign=Content&sf65838089=1</td></tr>\n",
       "<tr><td class=\"cell-1\" style=\"text-align:right;\">7</td> <td class=\"cell-2\" style=\"\">http://news.nationalgeographic.com/etc/designs/platform/v2/images/logos/ng-black-logo.ngsversion.dafe07f7.png</td> <td class=\"cell-3\" style=\"\">http://news.nationalgeographic.com/2015/01/150116-burma-climb-myanmar-hkakabo-razi/</td></tr>\n",
       "<tr><td class=\"cell-1\" style=\"text-align:right;\">7</td> <td class=\"cell-2\" style=\"\">http://www.nationalgeographic.com/etc/designs/platform/v2/images/logos/ng-black-logo.ngsversion.dafe07f7.png</td> <td class=\"cell-3\" style=\"\">http://www.nationalgeographic.com/photography/photo-of-the-day/2017/03/northern-lights-lapland/</td></tr>\n",
       "<tr><td class=\"cell-1\" style=\"text-align:right;\">7</td> <td class=\"cell-2\" style=\"\">http://news.nationalgeographic.com/etc/designs/platform/v2/images/logos/ng-black-logo.ngsversion.dafe07f7.png</td> <td class=\"cell-3\" style=\"\">http://news.nationalgeographic.com/2016/04/160401-april-fools-day-animals-pictures/?utm_source=Facebook&utm_medium=Social&utm_content=link_fb20170401news-nakedanimalpics2&utm_campaign=Content&sf23514124=1&sf67139872=1</td></tr>\n",
       "<tr><td class=\"cell-1\" style=\"text-align:right;\">6</td> <td class=\"cell-2\" style=\"\">http://news.nationalgeographic.com/etc/designs/platform/v2/images/logos/ng-black-logo.ngsversion.dafe07f7.png</td> <td class=\"cell-3\" style=\"\">http://news.nationalgeographic.com/2017/03/charles-minard-cartography-infographics-history/</td></tr>\n",
       "<tr><td class=\"cell-1\" style=\"text-align:right;\">6</td> <td class=\"cell-2\" style=\"\">http://www.nationalgeographic.com/etc/designs/platform/v2/images/logos/ng-black-logo.ngsversion.dafe07f7.png</td> <td class=\"cell-3\" style=\"\">http://www.nationalgeographic.com/travel/features/nowruz-persian-new-year-celebrations/</td></tr>\n",
       "<tr><td class=\"cell-1\" style=\"text-align:right;\">6</td> <td class=\"cell-2\" style=\"\">http://news.nationalgeographic.com/etc/designs/platform/v2/images/logos/ng-black-logo.ngsversion.dafe07f7.png</td> <td class=\"cell-3\" style=\"\">http://news.nationalgeographic.com/2017/03/inside-north-korea-ceremonies-pictures/?utm_source=Facebook&utm_medium=Social&utm_content=link_fbp20170329proof-NorthKorea&utm_campaign=Content&sf66645477=1</td></tr>\n",
       "<tr><td class=\"cell-1\" style=\"text-align:right;\">6</td> <td class=\"cell-2\" style=\"\">http://news.nationalgeographic.com/etc/designs/platform/v2/images/logos/ng-black-logo.ngsversion.dafe07f7.png</td> <td class=\"cell-3\" style=\"\">http://news.nationalgeographic.com/news/2014/08/140827-ivory-elephant-africa-asia-poaching-born-free/?utm_source=Facebook&utm_medium=Social&utm_content=link_fb20140827news-poach&utm_campaign=Content&sf4369311=1</td></tr>\n",
       "<tr><td class=\"cell-1\" style=\"text-align:right;\">6</td> <td class=\"cell-2\" style=\"\">http://www.nationalgeographic.com/etc/designs/platform/v2/images/logos/ng-black-logo.ngsversion.dafe07f7.png</td> <td class=\"cell-3\" style=\"\">http://www.nationalgeographic.com/magazine/2017/02/interview-president-obama-underwater-snorkeling/</td></tr>\n",
       "<tr><td class=\"cell-1\" style=\"text-align:right;\">6</td> <td class=\"cell-2\" style=\"\">http://www.nationalgeographic.com/etc/designs/platform/v2/images/logos/ng-black-logo.ngsversion.dafe07f7.png</td> <td class=\"cell-3\" style=\"\">http://www.nationalgeographic.com/travel/lists/underrated-mediterranean-destinations/?utm_source=Facebook&utm_medium=Social&utm_content=link_fb20170331travel-mediterranean&utm_campaign=Content&sf67131963=1</td></tr>\n",
       "<tr><td class=\"cell-1\" style=\"text-align:right;\">6</td> <td class=\"cell-2\" style=\"\">http://news.nationalgeographic.com/etc/designs/platform/v2/images/logos/ng-black-logo.ngsversion.dafe07f7.png</td> <td class=\"cell-3\" style=\"\">http://news.nationalgeographic.com/2017/03/king-solomon-mines-bible-timna-dung/?utm_source=Facebook&utm_medium=Social&utm_content=link_fb20170403news-solomonsmines&utm_campaign=Content&sf67602699=1</td></tr>\n",
       "<tr><td class=\"cell-1\" style=\"text-align:right;\">5</td> <td class=\"cell-2\" style=\"\">http://news.nationalgeographic.com/etc/designs/platform/v2/images/logos/ng-black-logo.ngsversion.dafe07f7.png</td> <td class=\"cell-3\" style=\"\">http://news.nationalgeographic.com/2017/03/bush-baby-new-primate-species-angola/</td></tr>\n",
       "<tr><td class=\"cell-1\" style=\"text-align:right;\">5</td> <td class=\"cell-2\" style=\"\">http://news.nationalgeographic.com/etc/designs/platform/v2/images/logos/ng-black-logo.ngsversion.dafe07f7.png</td> <td class=\"cell-3\" style=\"\">http://news.nationalgeographic.com/2017/03/siberia-batagiaka-crater-climate-change/?utm_source=Facebook&utm_medium=Social&utm_content=link_fb20170301news-trendingcrater&utm_campaign=Content&sf59632613=1</td></tr>\n",
       "<tr><td class=\"cell-1\" style=\"text-align:right;\">5</td> <td class=\"cell-2\" style=\"\">http://www.nationalgeographic.com/etc/designs/platform/v2/images/logos/ng-black-logo.ngsversion.dafe07f7.png</td> <td class=\"cell-3\" style=\"\">http://www.nationalgeographic.com/environment/global-warming/deforestation/</td></tr>\n",
       "<tr><td class=\"cell-1\" style=\"text-align:right;\">5</td> <td class=\"cell-2\" style=\"\">http://www.nationalgeographic.com/etc/designs/platform/v2/images/logos/ng-black-logo.ngsversion.dafe07f7.png</td> <td class=\"cell-3\" style=\"\">http://www.nationalgeographic.com/travel/destinations/middle-east/iran/iran-beautiful-natural-wonders/?utm_source=Facebook&utm_medium=Social&utm_content=link_fbt20170317iranmostwildbeautifulplaces2343&utm_campaign=Content&sf63444972=1</td></tr>\n",
       "    </tbody>\n"
      ]
     },
     "metadata": {},
     "output_type": "display_data"
    }
   ],
   "source": [
    "resourceSummaryDomainUrl(tableRt;linesOut=linesOutput)\n",
    ";\n"
   ]
  },
  {
   "cell_type": "code",
   "execution_count": null,
   "metadata": {
    "collapsed": false,
    "input_collapsed": false,
    "scrolled": false
   },
   "outputs": [],
   "source": []
  },
  {
   "cell_type": "code",
   "execution_count": 26,
   "metadata": {
    "collapsed": false,
    "input_collapsed": false,
    "scrolled": false
   },
   "outputs": [
    {
     "data": {
      "text/plain": [
       "resourceTime1 (generic function with 1 method)"
      ]
     },
     "execution_count": 26,
     "metadata": {},
     "output_type": "execute_result"
    }
   ],
   "source": [
    "function resourceTime1(tableRt::ASCIIString;linesOut::Int64=25)\n",
    "    \n",
    "    try\n",
    "        joinTables = query(\"\"\"\\\n",
    "        select \n",
    "        count(*),\n",
    "        avg(start_time) as \"Start Time\",\n",
    "        avg(fetch_start) as \"Fetch Start\",\n",
    "        avg(dns_end-dns_start) as \"DNS ms\",\n",
    "        avg(tcp_connection_end-tcp_connection_start) as \"TCP ms\",\n",
    "        avg(request_start) as \"Req Start\",\n",
    "        avg(response_first_byte) as \"Req FB\",\t\n",
    "        avg(response_last_byte) as \"Req LB\",\n",
    "        max(response_last_byte) as \"Max Req LB\",\n",
    "        url,\n",
    "        avg(redirect_start) as \"Redirect Start\",\n",
    "        avg(redirect_end) as \"Redirect End\",\n",
    "        avg(secure_connection_start) as \"Secure Conn Start\"\n",
    "        from $tableRt\n",
    "        where \n",
    "          url ilike '$resourceUrl' and\n",
    "          \"timestamp\" between $(TV.startTimeMsUTC) and $(TV.endTimeMsUTC)\n",
    "        group by url\n",
    "        order by count(*) desc\n",
    "        \"\"\");\n",
    "\n",
    "        displayTitle(chart_title = \"Raw Resource Url Pattern $(resourceUrl)\", chart_info = [TV.timeString], showTimeStamp=false)\n",
    "        #scrubUrlToPrint(joinTables,limit=150)\n",
    "        beautifyDF(joinTables[1:min(linesOut,end),:])\n",
    "    catch y\n",
    "        println(\"bigTable5 Exception \",y)\n",
    "    end\n",
    "end \n"
   ]
  },
  {
   "cell_type": "code",
   "execution_count": 27,
   "metadata": {
    "collapsed": false,
    "input_collapsed": false,
    "scrolled": false
   },
   "outputs": [
    {
     "data": {
      "text/html": [
       "<div class=\"dswbOutputText\"><h1 class=\"chart_title\" style=\"color:#ccc\">Raw Resource Url Pattern %ng-black-logo.ngsversion.dafe07f7.png%</h1><h3 class=\"chart_info\" style=\"color:#ccc\">April 15, 2017 23:59:00 to April 22, 2017 23:59:00 Local Time</h3></div>"
      ]
     },
     "metadata": {},
     "output_type": "display_data"
    },
    {
     "data": {
      "text/html": [
       "    <table  class=\"dataframe-table\">\n",
       "    <thead><tr><th class=\"cell-1\" style=\"\">count</th> <th class=\"cell-2\" style=\"\">start time</th> <th class=\"cell-3\" style=\"\">fetch start</th> <th class=\"cell-4\" style=\"\">dns ms</th> <th class=\"cell-5\" style=\"\">tcp ms</th> <th class=\"cell-6\" style=\"\">req start</th> <th class=\"cell-7\" style=\"\">req fb</th> <th class=\"cell-8\" style=\"\">req lb</th> <th class=\"cell-9\" style=\"\">max req lb</th> <th class=\"cell-10\" style=\"\">url</th> <th class=\"cell-11\" style=\"\">redirect start</th> <th class=\"cell-12\" style=\"\">redirect end</th> <th class=\"cell-13\" style=\"\">secure conn start</th></tr></thead>\n",
       "    <tbody>\n",
       "    <tr><td class=\"cell-1\" style=\"text-align:right;\">326</td> <td class=\"cell-2\" style=\"text-align:right;\">1,454</td> <td class=\"cell-3\" style=\"text-align:right;\">1,454</td> <td class=\"cell-4\" style=\"text-align:right;\">0</td> <td class=\"cell-5\" style=\"text-align:right;\">2</td> <td class=\"cell-6\" style=\"text-align:right;\">1,481</td> <td class=\"cell-7\" style=\"text-align:right;\">1,922</td> <td class=\"cell-8\" style=\"text-align:right;\">2,172</td> <td class=\"cell-9\" style=\"text-align:right;\">57,951</td> <td class=\"cell-10\" style=\"\">http://news.nationalgeographic.com/etc/designs/platform/v2/images/logos/ng-black-logo.ngsversion.dafe07f7.png</td> <td class=\"cell-11\" style=\"text-align:right;\">0</td> <td class=\"cell-12\" style=\"text-align:right;\">0</td> <td class=\"cell-13\" style=\"text-align:right;\">0</td></tr>\n",
       "<tr><td class=\"cell-1\" style=\"text-align:right;\">270</td> <td class=\"cell-2\" style=\"text-align:right;\">1,482</td> <td class=\"cell-3\" style=\"text-align:right;\">1,482</td> <td class=\"cell-4\" style=\"text-align:right;\">0</td> <td class=\"cell-5\" style=\"text-align:right;\">0</td> <td class=\"cell-6\" style=\"text-align:right;\">1,501</td> <td class=\"cell-7\" style=\"text-align:right;\">1,840</td> <td class=\"cell-8\" style=\"text-align:right;\">1,986</td> <td class=\"cell-9\" style=\"text-align:right;\">82,097</td> <td class=\"cell-10\" style=\"\">http://www.nationalgeographic.com/etc/designs/platform/v2/images/logos/ng-black-logo.ngsversion.dafe07f7.png</td> <td class=\"cell-11\" style=\"text-align:right;\">0</td> <td class=\"cell-12\" style=\"text-align:right;\">0</td> <td class=\"cell-13\" style=\"text-align:right;\">0</td></tr>\n",
       "<tr><td class=\"cell-1\" style=\"text-align:right;\">1</td> <td class=\"cell-2\" style=\"text-align:right;\">1,220</td> <td class=\"cell-3\" style=\"text-align:right;\">1,220</td> <td class=\"cell-4\" style=\"text-align:right;\">0</td> <td class=\"cell-5\" style=\"text-align:right;\">0</td> <td class=\"cell-6\" style=\"text-align:right;\">0</td> <td class=\"cell-7\" style=\"text-align:right;\">0</td> <td class=\"cell-8\" style=\"text-align:right;\">1,282</td> <td class=\"cell-9\" style=\"text-align:right;\">1,282</td> <td class=\"cell-10\" style=\"\">http://1.1.1.1/bmi/news.nationalgeographic.com/etc/designs/platform/v2/images/logos/ng-black-logo.ngsversion.dafe07f7.png</td> <td class=\"cell-11\" style=\"text-align:right;\">0</td> <td class=\"cell-12\" style=\"text-align:right;\">0</td> <td class=\"cell-13\" style=\"text-align:right;\">0</td></tr>\n",
       "    </tbody>\n"
      ]
     },
     "metadata": {},
     "output_type": "display_data"
    }
   ],
   "source": [
    "resourceTime1(tableRt;linesOut=linesOutput)\n",
    ";"
   ]
  },
  {
   "cell_type": "code",
   "execution_count": 28,
   "metadata": {
    "collapsed": false,
    "input_collapsed": false,
    "scrolled": false
   },
   "outputs": [
    {
     "data": {
      "text/plain": [
       "resourceTime2 (generic function with 1 method)"
      ]
     },
     "execution_count": 28,
     "metadata": {},
     "output_type": "execute_result"
    }
   ],
   "source": [
    "function resourceTime2(tableRt::ASCIIString;linesOut::Int64=25)\n",
    "    \n",
    "    try\n",
    "        timeTable = query(\"\"\"\\\n",
    "        select \n",
    "        (response_last_byte-start_time) as \"Time Taken\",\n",
    "        (start_time) as \"Start Time\",\n",
    "        (fetch_start) as \"Fetch Start\",\n",
    "        (dns_end-dns_start) as \"DNS ms\",\n",
    "        (tcp_connection_end-tcp_connection_start) as \"TCP ms\",\n",
    "        (request_start) as \"Req Start\",\n",
    "        (response_first_byte) as \"Req FB\",\t\n",
    "        (response_last_byte) as \"Req LB\",\n",
    "        url,\n",
    "        (redirect_start) as \"Redirect Start\",\n",
    "        (redirect_end) as \"Redirect End\",\n",
    "        (secure_connection_start) as \"Secure Conn Start\"\n",
    "        from $tableRt\n",
    "        where \n",
    "          url ilike '$resourceUrl' and\n",
    "        \"timestamp\" between $(TV.startTimeMsUTC) and $(TV.endTimeMsUTC) and\n",
    "        (response_last_byte-start_time) > 75 and (response_last_byte-start_time) < 10000\n",
    "        order by \"Time Taken\" desc\n",
    "        \"\"\");\n",
    "\n",
    "        #todo remove negitives\n",
    "        \n",
    "        displayTitle(chart_title = \"Raw Resource Url Pattern $(resourceUrl)\", chart_info = [TV.timeString], showTimeStamp=false)\n",
    "        #scrubUrlToPrint(timeTable,limit=150)\n",
    "        beautifyDF(timeTable[1:min(linesOut,end),:])\n",
    "        \n",
    "        timeTable = names!(timeTable[:,:],\n",
    "        [symbol(\"taken\"),symbol(\"start\"),symbol(\"fetch\"),symbol(\"dns\"),symbol(\"tcp\"),symbol(\"req_start\"),symbol(\"req_fb\"),symbol(\"req_lb\"),symbol(\"url\")\n",
    "            ,symbol(\"redirect_start\"),symbol(\"redirect_end\"),symbol(\"secure_conn_start\")])\n",
    "        \n",
    "        dv1 = timeTable[:taken]\n",
    "        statsDF1 = limitedStatsFromDV(dv1)\n",
    "        showLimitedStats(TV,statsDF1,\"Time Taken Stats\")\n",
    "        \n",
    "        dv2 = timeTable[:dns]\n",
    "        statsDF2 = limitedStatsFromDV(dv2)\n",
    "        showLimitedStats(TV,statsDF2,\"DNS Stats\")\n",
    "        \n",
    "        dv3 = timeTable[:tcp]\n",
    "        statsDF3 = limitedStatsFromDV(dv3)\n",
    "        showLimitedStats(TV,statsDF3,\"TCP Stats\")\n",
    "        \n",
    "        dv4 = timeTable[:start]\n",
    "        statsDF4 = limitedStatsFromDV(dv4)\n",
    "        showLimitedStats(TV,statsDF4,\"Start Time On Page Stats\")\n",
    "        \n",
    "        dv5 = timeTable[:fetch]\n",
    "        statsDF5 = limitedStatsFromDV(dv5)\n",
    "        showLimitedStats(TV,statsDF5,\"Fetching Request Stats\")\n",
    "        \n",
    "        dv6 = timeTable[:req_start]\n",
    "        statsDF6 = limitedStatsFromDV(dv6)\n",
    "        showLimitedStats(TV,statsDF6,\"Request Start Stats\")\n",
    "        \n",
    "        dv7 = timeTable[:req_fb]\n",
    "        statsDF7 = limitedStatsFromDV(dv7)\n",
    "        showLimitedStats(TV,statsDF7,\"Request First Byte Stats\")\n",
    "        \n",
    "        dv8 = timeTable[:req_lb]\n",
    "        statsDF8 = limitedStatsFromDV(dv8)\n",
    "        showLimitedStats(TV,statsDF8,\"Request Last Byte Stats\")\n",
    "        \n",
    "        \n",
    "        \n",
    "        \n",
    "    catch y\n",
    "        println(\"bigTable5 Exception \",y)\n",
    "    end\n",
    "end \n"
   ]
  },
  {
   "cell_type": "code",
   "execution_count": 29,
   "metadata": {
    "collapsed": false,
    "input_collapsed": false,
    "scrolled": false
   },
   "outputs": [
    {
     "data": {
      "text/html": [
       "<div class=\"dswbOutputText\"><h1 class=\"chart_title\" style=\"color:#ccc\">Raw Resource Url Pattern %ng-black-logo.ngsversion.dafe07f7.png%</h1><h3 class=\"chart_info\" style=\"color:#ccc\">April 15, 2017 23:59:00 to April 22, 2017 23:59:00 Local Time</h3></div>"
      ]
     },
     "metadata": {},
     "output_type": "display_data"
    },
    {
     "data": {
      "text/html": [
       "    <table  class=\"dataframe-table\">\n",
       "    <thead><tr><th class=\"cell-1\" style=\"\">time taken</th> <th class=\"cell-2\" style=\"\">start time</th> <th class=\"cell-3\" style=\"\">fetch start</th> <th class=\"cell-4\" style=\"\">dns ms</th> <th class=\"cell-5\" style=\"\">tcp ms</th> <th class=\"cell-6\" style=\"\">req start</th> <th class=\"cell-7\" style=\"\">req fb</th> <th class=\"cell-8\" style=\"\">req lb</th> <th class=\"cell-9\" style=\"\">url</th> <th class=\"cell-10\" style=\"\">redirect start</th> <th class=\"cell-11\" style=\"\">redirect end</th> <th class=\"cell-12\" style=\"\">secure conn start</th></tr></thead>\n",
       "    <tbody>\n",
       "    <tr><td class=\"cell-1\" style=\"text-align:right;\">8,506</td> <td class=\"cell-2\" style=\"text-align:right;\">6,404</td> <td class=\"cell-3\" style=\"text-align:right;\">6,404</td> <td class=\"cell-4\" style=\"text-align:right;\">0</td> <td class=\"cell-5\" style=\"text-align:right;\">0</td> <td class=\"cell-6\" style=\"text-align:right;\">6,407</td> <td class=\"cell-7\" style=\"text-align:right;\">9,243</td> <td class=\"cell-8\" style=\"text-align:right;\">14,910</td> <td class=\"cell-9\" style=\"\">http://news.nationalgeographic.com/etc/designs/platform/v2/images/logos/ng-black-logo.ngsversion.dafe07f7.png</td> <td class=\"cell-10\" style=\"text-align:right;\">0</td> <td class=\"cell-11\" style=\"text-align:right;\">0</td> <td class=\"cell-12\" style=\"text-align:right;\">0</td></tr>\n",
       "<tr><td class=\"cell-1\" style=\"text-align:right;\">6,323</td> <td class=\"cell-2\" style=\"text-align:right;\">2,216</td> <td class=\"cell-3\" style=\"text-align:right;\">2,216</td> <td class=\"cell-4\" style=\"text-align:right;\">0</td> <td class=\"cell-5\" style=\"text-align:right;\">0</td> <td class=\"cell-6\" style=\"text-align:right;\">0</td> <td class=\"cell-7\" style=\"text-align:right;\">5,182</td> <td class=\"cell-8\" style=\"text-align:right;\">8,539</td> <td class=\"cell-9\" style=\"\">http://www.nationalgeographic.com/etc/designs/platform/v2/images/logos/ng-black-logo.ngsversion.dafe07f7.png</td> <td class=\"cell-10\" style=\"text-align:right;\">0</td> <td class=\"cell-11\" style=\"text-align:right;\">0</td> <td class=\"cell-12\" style=\"text-align:right;\">0</td></tr>\n",
       "<tr><td class=\"cell-1\" style=\"text-align:right;\">6,302</td> <td class=\"cell-2\" style=\"text-align:right;\">2,225</td> <td class=\"cell-3\" style=\"text-align:right;\">2,225</td> <td class=\"cell-4\" style=\"text-align:right;\">0</td> <td class=\"cell-5\" style=\"text-align:right;\">0</td> <td class=\"cell-6\" style=\"text-align:right;\">0</td> <td class=\"cell-7\" style=\"text-align:right;\">5,150</td> <td class=\"cell-8\" style=\"text-align:right;\">8,527</td> <td class=\"cell-9\" style=\"\">http://news.nationalgeographic.com/etc/designs/platform/v2/images/logos/ng-black-logo.ngsversion.dafe07f7.png</td> <td class=\"cell-10\" style=\"text-align:right;\">0</td> <td class=\"cell-11\" style=\"text-align:right;\">0</td> <td class=\"cell-12\" style=\"text-align:right;\">0</td></tr>\n",
       "<tr><td class=\"cell-1\" style=\"text-align:right;\">6,287</td> <td class=\"cell-2\" style=\"text-align:right;\">75,810</td> <td class=\"cell-3\" style=\"text-align:right;\">75,810</td> <td class=\"cell-4\" style=\"text-align:right;\">0</td> <td class=\"cell-5\" style=\"text-align:right;\">0</td> <td class=\"cell-6\" style=\"text-align:right;\">76,653</td> <td class=\"cell-7\" style=\"text-align:right;\">81,633</td> <td class=\"cell-8\" style=\"text-align:right;\">82,097</td> <td class=\"cell-9\" style=\"\">http://www.nationalgeographic.com/etc/designs/platform/v2/images/logos/ng-black-logo.ngsversion.dafe07f7.png</td> <td class=\"cell-10\" style=\"text-align:right;\">0</td> <td class=\"cell-11\" style=\"text-align:right;\">0</td> <td class=\"cell-12\" style=\"text-align:right;\">0</td></tr>\n",
       "<tr><td class=\"cell-1\" style=\"text-align:right;\">5,347</td> <td class=\"cell-2\" style=\"text-align:right;\">2,467</td> <td class=\"cell-3\" style=\"text-align:right;\">2,467</td> <td class=\"cell-4\" style=\"text-align:right;\">0</td> <td class=\"cell-5\" style=\"text-align:right;\">0</td> <td class=\"cell-6\" style=\"text-align:right;\">0</td> <td class=\"cell-7\" style=\"text-align:right;\">5,306</td> <td class=\"cell-8\" style=\"text-align:right;\">7,814</td> <td class=\"cell-9\" style=\"\">http://www.nationalgeographic.com/etc/designs/platform/v2/images/logos/ng-black-logo.ngsversion.dafe07f7.png</td> <td class=\"cell-10\" style=\"text-align:right;\">0</td> <td class=\"cell-11\" style=\"text-align:right;\">0</td> <td class=\"cell-12\" style=\"text-align:right;\">0</td></tr>\n",
       "<tr><td class=\"cell-1\" style=\"text-align:right;\">5,072</td> <td class=\"cell-2\" style=\"text-align:right;\">3,738</td> <td class=\"cell-3\" style=\"text-align:right;\">3,738</td> <td class=\"cell-4\" style=\"text-align:right;\">0</td> <td class=\"cell-5\" style=\"text-align:right;\">0</td> <td class=\"cell-6\" style=\"text-align:right;\">0</td> <td class=\"cell-7\" style=\"text-align:right;\">6,728</td> <td class=\"cell-8\" style=\"text-align:right;\">8,810</td> <td class=\"cell-9\" style=\"\">http://www.nationalgeographic.com/etc/designs/platform/v2/images/logos/ng-black-logo.ngsversion.dafe07f7.png</td> <td class=\"cell-10\" style=\"text-align:right;\">0</td> <td class=\"cell-11\" style=\"text-align:right;\">0</td> <td class=\"cell-12\" style=\"text-align:right;\">0</td></tr>\n",
       "<tr><td class=\"cell-1\" style=\"text-align:right;\">5,033</td> <td class=\"cell-2\" style=\"text-align:right;\">4,358</td> <td class=\"cell-3\" style=\"text-align:right;\">4,358</td> <td class=\"cell-4\" style=\"text-align:right;\">0</td> <td class=\"cell-5\" style=\"text-align:right;\">0</td> <td class=\"cell-6\" style=\"text-align:right;\">4,359</td> <td class=\"cell-7\" style=\"text-align:right;\">6,813</td> <td class=\"cell-8\" style=\"text-align:right;\">9,391</td> <td class=\"cell-9\" style=\"\">http://www.nationalgeographic.com/etc/designs/platform/v2/images/logos/ng-black-logo.ngsversion.dafe07f7.png</td> <td class=\"cell-10\" style=\"text-align:right;\">0</td> <td class=\"cell-11\" style=\"text-align:right;\">0</td> <td class=\"cell-12\" style=\"text-align:right;\">0</td></tr>\n",
       "<tr><td class=\"cell-1\" style=\"text-align:right;\">5,014</td> <td class=\"cell-2\" style=\"text-align:right;\">3,767</td> <td class=\"cell-3\" style=\"text-align:right;\">3,767</td> <td class=\"cell-4\" style=\"text-align:right;\">0</td> <td class=\"cell-5\" style=\"text-align:right;\">0</td> <td class=\"cell-6\" style=\"text-align:right;\">0</td> <td class=\"cell-7\" style=\"text-align:right;\">6,694</td> <td class=\"cell-8\" style=\"text-align:right;\">8,781</td> <td class=\"cell-9\" style=\"\">http://news.nationalgeographic.com/etc/designs/platform/v2/images/logos/ng-black-logo.ngsversion.dafe07f7.png</td> <td class=\"cell-10\" style=\"text-align:right;\">0</td> <td class=\"cell-11\" style=\"text-align:right;\">0</td> <td class=\"cell-12\" style=\"text-align:right;\">0</td></tr>\n",
       "<tr><td class=\"cell-1\" style=\"text-align:right;\">4,569</td> <td class=\"cell-2\" style=\"text-align:right;\">2,738</td> <td class=\"cell-3\" style=\"text-align:right;\">2,738</td> <td class=\"cell-4\" style=\"text-align:right;\">0</td> <td class=\"cell-5\" style=\"text-align:right;\">0</td> <td class=\"cell-6\" style=\"text-align:right;\">0</td> <td class=\"cell-7\" style=\"text-align:right;\">4,818</td> <td class=\"cell-8\" style=\"text-align:right;\">7,307</td> <td class=\"cell-9\" style=\"\">http://www.nationalgeographic.com/etc/designs/platform/v2/images/logos/ng-black-logo.ngsversion.dafe07f7.png</td> <td class=\"cell-10\" style=\"text-align:right;\">0</td> <td class=\"cell-11\" style=\"text-align:right;\">0</td> <td class=\"cell-12\" style=\"text-align:right;\">0</td></tr>\n",
       "<tr><td class=\"cell-1\" style=\"text-align:right;\">4,553</td> <td class=\"cell-2\" style=\"text-align:right;\">3,220</td> <td class=\"cell-3\" style=\"text-align:right;\">3,220</td> <td class=\"cell-4\" style=\"text-align:right;\">0</td> <td class=\"cell-5\" style=\"text-align:right;\">0</td> <td class=\"cell-6\" style=\"text-align:right;\">7,454</td> <td class=\"cell-7\" style=\"text-align:right;\">7,644</td> <td class=\"cell-8\" style=\"text-align:right;\">7,773</td> <td class=\"cell-9\" style=\"\">http://www.nationalgeographic.com/etc/designs/platform/v2/images/logos/ng-black-logo.ngsversion.dafe07f7.png</td> <td class=\"cell-10\" style=\"text-align:right;\">0</td> <td class=\"cell-11\" style=\"text-align:right;\">0</td> <td class=\"cell-12\" style=\"text-align:right;\">0</td></tr>\n",
       "<tr><td class=\"cell-1\" style=\"text-align:right;\">4,368</td> <td class=\"cell-2\" style=\"text-align:right;\">1,825</td> <td class=\"cell-3\" style=\"text-align:right;\">1,825</td> <td class=\"cell-4\" style=\"text-align:right;\">0</td> <td class=\"cell-5\" style=\"text-align:right;\">0</td> <td class=\"cell-6\" style=\"text-align:right;\">0</td> <td class=\"cell-7\" style=\"text-align:right;\">5,273</td> <td class=\"cell-8\" style=\"text-align:right;\">6,193</td> <td class=\"cell-9\" style=\"\">http://news.nationalgeographic.com/etc/designs/platform/v2/images/logos/ng-black-logo.ngsversion.dafe07f7.png</td> <td class=\"cell-10\" style=\"text-align:right;\">0</td> <td class=\"cell-11\" style=\"text-align:right;\">0</td> <td class=\"cell-12\" style=\"text-align:right;\">0</td></tr>\n",
       "<tr><td class=\"cell-1\" style=\"text-align:right;\">4,004</td> <td class=\"cell-2\" style=\"text-align:right;\">6,739</td> <td class=\"cell-3\" style=\"text-align:right;\">6,739</td> <td class=\"cell-4\" style=\"text-align:right;\">0</td> <td class=\"cell-5\" style=\"text-align:right;\">0</td> <td class=\"cell-6\" style=\"text-align:right;\">10,306</td> <td class=\"cell-7\" style=\"text-align:right;\">10,523</td> <td class=\"cell-8\" style=\"text-align:right;\">10,743</td> <td class=\"cell-9\" style=\"\">http://www.nationalgeographic.com/etc/designs/platform/v2/images/logos/ng-black-logo.ngsversion.dafe07f7.png</td> <td class=\"cell-10\" style=\"text-align:right;\">0</td> <td class=\"cell-11\" style=\"text-align:right;\">0</td> <td class=\"cell-12\" style=\"text-align:right;\">0</td></tr>\n",
       "<tr><td class=\"cell-1\" style=\"text-align:right;\">3,688</td> <td class=\"cell-2\" style=\"text-align:right;\">2,062</td> <td class=\"cell-3\" style=\"text-align:right;\">2,062</td> <td class=\"cell-4\" style=\"text-align:right;\">0</td> <td class=\"cell-5\" style=\"text-align:right;\">0</td> <td class=\"cell-6\" style=\"text-align:right;\">0</td> <td class=\"cell-7\" style=\"text-align:right;\">3,719</td> <td class=\"cell-8\" style=\"text-align:right;\">5,750</td> <td class=\"cell-9\" style=\"\">http://news.nationalgeographic.com/etc/designs/platform/v2/images/logos/ng-black-logo.ngsversion.dafe07f7.png</td> <td class=\"cell-10\" style=\"text-align:right;\">0</td> <td class=\"cell-11\" style=\"text-align:right;\">0</td> <td class=\"cell-12\" style=\"text-align:right;\">0</td></tr>\n",
       "<tr><td class=\"cell-1\" style=\"text-align:right;\">3,681</td> <td class=\"cell-2\" style=\"text-align:right;\">7,490</td> <td class=\"cell-3\" style=\"text-align:right;\">7,490</td> <td class=\"cell-4\" style=\"text-align:right;\">0</td> <td class=\"cell-5\" style=\"text-align:right;\">0</td> <td class=\"cell-6\" style=\"text-align:right;\">10,813</td> <td class=\"cell-7\" style=\"text-align:right;\">10,985</td> <td class=\"cell-8\" style=\"text-align:right;\">11,171</td> <td class=\"cell-9\" style=\"\">http://www.nationalgeographic.com/etc/designs/platform/v2/images/logos/ng-black-logo.ngsversion.dafe07f7.png</td> <td class=\"cell-10\" style=\"text-align:right;\">0</td> <td class=\"cell-11\" style=\"text-align:right;\">0</td> <td class=\"cell-12\" style=\"text-align:right;\">0</td></tr>\n",
       "<tr><td class=\"cell-1\" style=\"text-align:right;\">3,179</td> <td class=\"cell-2\" style=\"text-align:right;\">1,918</td> <td class=\"cell-3\" style=\"text-align:right;\">1,918</td> <td class=\"cell-4\" style=\"text-align:right;\">0</td> <td class=\"cell-5\" style=\"text-align:right;\">0</td> <td class=\"cell-6\" style=\"text-align:right;\">0</td> <td class=\"cell-7\" style=\"text-align:right;\">2,975</td> <td class=\"cell-8\" style=\"text-align:right;\">5,097</td> <td class=\"cell-9\" style=\"\">http://news.nationalgeographic.com/etc/designs/platform/v2/images/logos/ng-black-logo.ngsversion.dafe07f7.png</td> <td class=\"cell-10\" style=\"text-align:right;\">0</td> <td class=\"cell-11\" style=\"text-align:right;\">0</td> <td class=\"cell-12\" style=\"text-align:right;\">0</td></tr>\n",
       "<tr><td class=\"cell-1\" style=\"text-align:right;\">3,083</td> <td class=\"cell-2\" style=\"text-align:right;\">2,061</td> <td class=\"cell-3\" style=\"text-align:right;\">2,061</td> <td class=\"cell-4\" style=\"text-align:right;\">0</td> <td class=\"cell-5\" style=\"text-align:right;\">0</td> <td class=\"cell-6\" style=\"text-align:right;\">0</td> <td class=\"cell-7\" style=\"text-align:right;\">3,242</td> <td class=\"cell-8\" style=\"text-align:right;\">5,144</td> <td class=\"cell-9\" style=\"\">http://www.nationalgeographic.com/etc/designs/platform/v2/images/logos/ng-black-logo.ngsversion.dafe07f7.png</td> <td class=\"cell-10\" style=\"text-align:right;\">0</td> <td class=\"cell-11\" style=\"text-align:right;\">0</td> <td class=\"cell-12\" style=\"text-align:right;\">0</td></tr>\n",
       "<tr><td class=\"cell-1\" style=\"text-align:right;\">3,053</td> <td class=\"cell-2\" style=\"text-align:right;\">1,918</td> <td class=\"cell-3\" style=\"text-align:right;\">1,918</td> <td class=\"cell-4\" style=\"text-align:right;\">0</td> <td class=\"cell-5\" style=\"text-align:right;\">235</td> <td class=\"cell-6\" style=\"text-align:right;\">4,059</td> <td class=\"cell-7\" style=\"text-align:right;\">4,628</td> <td class=\"cell-8\" style=\"text-align:right;\">4,971</td> <td class=\"cell-9\" style=\"\">http://www.nationalgeographic.com/etc/designs/platform/v2/images/logos/ng-black-logo.ngsversion.dafe07f7.png</td> <td class=\"cell-10\" style=\"text-align:right;\">0</td> <td class=\"cell-11\" style=\"text-align:right;\">0</td> <td class=\"cell-12\" style=\"text-align:right;\">0</td></tr>\n",
       "<tr><td class=\"cell-1\" style=\"text-align:right;\">3,021</td> <td class=\"cell-2\" style=\"text-align:right;\">2,097</td> <td class=\"cell-3\" style=\"text-align:right;\">2,097</td> <td class=\"cell-4\" style=\"text-align:right;\">0</td> <td class=\"cell-5\" style=\"text-align:right;\">0</td> <td class=\"cell-6\" style=\"text-align:right;\">0</td> <td class=\"cell-7\" style=\"text-align:right;\">3,225</td> <td class=\"cell-8\" style=\"text-align:right;\">5,118</td> <td class=\"cell-9\" style=\"\">http://news.nationalgeographic.com/etc/designs/platform/v2/images/logos/ng-black-logo.ngsversion.dafe07f7.png</td> <td class=\"cell-10\" style=\"text-align:right;\">0</td> <td class=\"cell-11\" style=\"text-align:right;\">0</td> <td class=\"cell-12\" style=\"text-align:right;\">0</td></tr>\n",
       "<tr><td class=\"cell-1\" style=\"text-align:right;\">3,007</td> <td class=\"cell-2\" style=\"text-align:right;\">2,087</td> <td class=\"cell-3\" style=\"text-align:right;\">2,087</td> <td class=\"cell-4\" style=\"text-align:right;\">0</td> <td class=\"cell-5\" style=\"text-align:right;\">0</td> <td class=\"cell-6\" style=\"text-align:right;\">0</td> <td class=\"cell-7\" style=\"text-align:right;\">3,082</td> <td class=\"cell-8\" style=\"text-align:right;\">5,094</td> <td class=\"cell-9\" style=\"\">http://www.nationalgeographic.com/etc/designs/platform/v2/images/logos/ng-black-logo.ngsversion.dafe07f7.png</td> <td class=\"cell-10\" style=\"text-align:right;\">0</td> <td class=\"cell-11\" style=\"text-align:right;\">0</td> <td class=\"cell-12\" style=\"text-align:right;\">0</td></tr>\n",
       "<tr><td class=\"cell-1\" style=\"text-align:right;\">2,973</td> <td class=\"cell-2\" style=\"text-align:right;\">2,096</td> <td class=\"cell-3\" style=\"text-align:right;\">2,096</td> <td class=\"cell-4\" style=\"text-align:right;\">0</td> <td class=\"cell-5\" style=\"text-align:right;\">0</td> <td class=\"cell-6\" style=\"text-align:right;\">0</td> <td class=\"cell-7\" style=\"text-align:right;\">3,051</td> <td class=\"cell-8\" style=\"text-align:right;\">5,069</td> <td class=\"cell-9\" style=\"\">http://news.nationalgeographic.com/etc/designs/platform/v2/images/logos/ng-black-logo.ngsversion.dafe07f7.png</td> <td class=\"cell-10\" style=\"text-align:right;\">0</td> <td class=\"cell-11\" style=\"text-align:right;\">0</td> <td class=\"cell-12\" style=\"text-align:right;\">0</td></tr>\n",
       "<tr><td class=\"cell-1\" style=\"text-align:right;\">2,970</td> <td class=\"cell-2\" style=\"text-align:right;\">5,375</td> <td class=\"cell-3\" style=\"text-align:right;\">5,375</td> <td class=\"cell-4\" style=\"text-align:right;\">0</td> <td class=\"cell-5\" style=\"text-align:right;\">0</td> <td class=\"cell-6\" style=\"text-align:right;\">5,377</td> <td class=\"cell-7\" style=\"text-align:right;\">6,431</td> <td class=\"cell-8\" style=\"text-align:right;\">8,345</td> <td class=\"cell-9\" style=\"\">http://news.nationalgeographic.com/etc/designs/platform/v2/images/logos/ng-black-logo.ngsversion.dafe07f7.png</td> <td class=\"cell-10\" style=\"text-align:right;\">0</td> <td class=\"cell-11\" style=\"text-align:right;\">0</td> <td class=\"cell-12\" style=\"text-align:right;\">0</td></tr>\n",
       "<tr><td class=\"cell-1\" style=\"text-align:right;\">2,890</td> <td class=\"cell-2\" style=\"text-align:right;\">22,206</td> <td class=\"cell-3\" style=\"text-align:right;\">22,206</td> <td class=\"cell-4\" style=\"text-align:right;\">0</td> <td class=\"cell-5\" style=\"text-align:right;\">0</td> <td class=\"cell-6\" style=\"text-align:right;\">25,096</td> <td class=\"cell-7\" style=\"text-align:right;\">25,096</td> <td class=\"cell-8\" style=\"text-align:right;\">25,096</td> <td class=\"cell-9\" style=\"\">http://news.nationalgeographic.com/etc/designs/platform/v2/images/logos/ng-black-logo.ngsversion.dafe07f7.png</td> <td class=\"cell-10\" style=\"text-align:right;\">0</td> <td class=\"cell-11\" style=\"text-align:right;\">0</td> <td class=\"cell-12\" style=\"text-align:right;\">0</td></tr>\n",
       "<tr><td class=\"cell-1\" style=\"text-align:right;\">2,867</td> <td class=\"cell-2\" style=\"text-align:right;\">2,041</td> <td class=\"cell-3\" style=\"text-align:right;\">2,041</td> <td class=\"cell-4\" style=\"text-align:right;\">0</td> <td class=\"cell-5\" style=\"text-align:right;\">0</td> <td class=\"cell-6\" style=\"text-align:right;\">0</td> <td class=\"cell-7\" style=\"text-align:right;\">3,029</td> <td class=\"cell-8\" style=\"text-align:right;\">4,908</td> <td class=\"cell-9\" style=\"\">http://news.nationalgeographic.com/etc/designs/platform/v2/images/logos/ng-black-logo.ngsversion.dafe07f7.png</td> <td class=\"cell-10\" style=\"text-align:right;\">0</td> <td class=\"cell-11\" style=\"text-align:right;\">0</td> <td class=\"cell-12\" style=\"text-align:right;\">0</td></tr>\n",
       "<tr><td class=\"cell-1\" style=\"text-align:right;\">2,849</td> <td class=\"cell-2\" style=\"text-align:right;\">2,311</td> <td class=\"cell-3\" style=\"text-align:right;\">2,311</td> <td class=\"cell-4\" style=\"text-align:right;\">0</td> <td class=\"cell-5\" style=\"text-align:right;\">0</td> <td class=\"cell-6\" style=\"text-align:right;\">0</td> <td class=\"cell-7\" style=\"text-align:right;\">3,256</td> <td class=\"cell-8\" style=\"text-align:right;\">5,160</td> <td class=\"cell-9\" style=\"\">http://www.nationalgeographic.com/etc/designs/platform/v2/images/logos/ng-black-logo.ngsversion.dafe07f7.png</td> <td class=\"cell-10\" style=\"text-align:right;\">0</td> <td class=\"cell-11\" style=\"text-align:right;\">0</td> <td class=\"cell-12\" style=\"text-align:right;\">0</td></tr>\n",
       "<tr><td class=\"cell-1\" style=\"text-align:right;\">2,838</td> <td class=\"cell-2\" style=\"text-align:right;\">2,312</td> <td class=\"cell-3\" style=\"text-align:right;\">2,312</td> <td class=\"cell-4\" style=\"text-align:right;\">0</td> <td class=\"cell-5\" style=\"text-align:right;\">0</td> <td class=\"cell-6\" style=\"text-align:right;\">0</td> <td class=\"cell-7\" style=\"text-align:right;\">3,221</td> <td class=\"cell-8\" style=\"text-align:right;\">5,150</td> <td class=\"cell-9\" style=\"\">http://news.nationalgeographic.com/etc/designs/platform/v2/images/logos/ng-black-logo.ngsversion.dafe07f7.png</td> <td class=\"cell-10\" style=\"text-align:right;\">0</td> <td class=\"cell-11\" style=\"text-align:right;\">0</td> <td class=\"cell-12\" style=\"text-align:right;\">0</td></tr>\n",
       "    </tbody>\n"
      ]
     },
     "metadata": {},
     "output_type": "display_data"
    },
    {
     "data": {
      "text/html": [
       "<div class=\"dswbOutputText\"><h1 class=\"chart_title\" style=\"color:#ccc\">Time Taken Stats</h1><h3 class=\"chart_info\" style=\"color:#ccc\">April 15, 2017 23:59:00 to April 22, 2017 23:59:00 Local Time</h3></div>"
      ]
     },
     "metadata": {},
     "output_type": "display_data"
    },
    {
     "data": {
      "text/html": [
       "    <table  class=\"dataframe-table\">\n",
       "    <thead><tr><th class=\"cell-1\" style=\"\">Page Views</th> <th class=\"cell-2\" style=\"\">Mean(ms)</th> <th class=\"cell-3\" style=\"\">Median(ms)</th> <th class=\"cell-4\" style=\"\">Min(ms)</th> <th class=\"cell-5\" style=\"\">Max(ms)</th> <th class=\"cell-6\" style=\"\">25 Percentile</th> <th class=\"cell-7\" style=\"\">75 Percentile</th></tr></thead>\n",
       "    <tbody>\n",
       "    <tr><td class=\"cell-1\" style=\"text-align:right;\">204</td> <td class=\"cell-2\" style=\"text-align:right;\">930</td> <td class=\"cell-3\" style=\"text-align:right;\">312</td> <td class=\"cell-4\" style=\"text-align:right;\">76</td> <td class=\"cell-5\" style=\"text-align:right;\">8,506</td> <td class=\"cell-6\" style=\"text-align:right;\">122</td> <td class=\"cell-7\" style=\"text-align:right;\">835</td></tr>\n",
       "    </tbody>\n"
      ]
     },
     "metadata": {},
     "output_type": "display_data"
    },
    {
     "data": {
      "text/html": [
       "<div class=\"dswbOutputText\"><h1 class=\"chart_title\" style=\"color:#ccc\">DNS Stats</h1><h3 class=\"chart_info\" style=\"color:#ccc\">April 15, 2017 23:59:00 to April 22, 2017 23:59:00 Local Time</h3></div>"
      ]
     },
     "metadata": {},
     "output_type": "display_data"
    },
    {
     "data": {
      "text/html": [
       "    <table  class=\"dataframe-table\">\n",
       "    <thead><tr><th class=\"cell-1\" style=\"\">Page Views</th> <th class=\"cell-2\" style=\"\">Mean(ms)</th> <th class=\"cell-3\" style=\"\">Median(ms)</th> <th class=\"cell-4\" style=\"\">Min(ms)</th> <th class=\"cell-5\" style=\"\">Max(ms)</th> <th class=\"cell-6\" style=\"\">25 Percentile</th> <th class=\"cell-7\" style=\"\">75 Percentile</th></tr></thead>\n",
       "    <tbody>\n",
       "    <tr><td class=\"cell-1\" style=\"text-align:right;\">204</td> <td class=\"cell-2\" style=\"text-align:right;\">2</td> <td class=\"cell-3\" style=\"text-align:right;\">0</td> <td class=\"cell-4\" style=\"text-align:right;\">0</td> <td class=\"cell-5\" style=\"text-align:right;\">269</td> <td class=\"cell-6\" style=\"text-align:right;\">0</td> <td class=\"cell-7\" style=\"text-align:right;\">0</td></tr>\n",
       "    </tbody>\n"
      ]
     },
     "metadata": {},
     "output_type": "display_data"
    },
    {
     "data": {
      "text/html": [
       "<div class=\"dswbOutputText\"><h1 class=\"chart_title\" style=\"color:#ccc\">TCP Stats</h1><h3 class=\"chart_info\" style=\"color:#ccc\">April 15, 2017 23:59:00 to April 22, 2017 23:59:00 Local Time</h3></div>"
      ]
     },
     "metadata": {},
     "output_type": "display_data"
    },
    {
     "data": {
      "text/html": [
       "    <table  class=\"dataframe-table\">\n",
       "    <thead><tr><th class=\"cell-1\" style=\"\">Page Views</th> <th class=\"cell-2\" style=\"\">Mean(ms)</th> <th class=\"cell-3\" style=\"\">Median(ms)</th> <th class=\"cell-4\" style=\"\">Min(ms)</th> <th class=\"cell-5\" style=\"\">Max(ms)</th> <th class=\"cell-6\" style=\"\">25 Percentile</th> <th class=\"cell-7\" style=\"\">75 Percentile</th></tr></thead>\n",
       "    <tbody>\n",
       "    <tr><td class=\"cell-1\" style=\"text-align:right;\">204</td> <td class=\"cell-2\" style=\"text-align:right;\">5</td> <td class=\"cell-3\" style=\"text-align:right;\">0</td> <td class=\"cell-4\" style=\"text-align:right;\">0</td> <td class=\"cell-5\" style=\"text-align:right;\">760</td> <td class=\"cell-6\" style=\"text-align:right;\">0</td> <td class=\"cell-7\" style=\"text-align:right;\">0</td></tr>\n",
       "    </tbody>\n"
      ]
     },
     "metadata": {},
     "output_type": "display_data"
    },
    {
     "data": {
      "text/html": [
       "<div class=\"dswbOutputText\"><h1 class=\"chart_title\" style=\"color:#ccc\">Start Time On Page Stats</h1><h3 class=\"chart_info\" style=\"color:#ccc\">April 15, 2017 23:59:00 to April 22, 2017 23:59:00 Local Time</h3></div>"
      ]
     },
     "metadata": {},
     "output_type": "display_data"
    },
    {
     "data": {
      "text/html": [
       "    <table  class=\"dataframe-table\">\n",
       "    <thead><tr><th class=\"cell-1\" style=\"\">Page Views</th> <th class=\"cell-2\" style=\"\">Mean(ms)</th> <th class=\"cell-3\" style=\"\">Median(ms)</th> <th class=\"cell-4\" style=\"\">Min(ms)</th> <th class=\"cell-5\" style=\"\">Max(ms)</th> <th class=\"cell-6\" style=\"\">25 Percentile</th> <th class=\"cell-7\" style=\"\">75 Percentile</th></tr></thead>\n",
       "    <tbody>\n",
       "    <tr><td class=\"cell-1\" style=\"text-align:right;\">204</td> <td class=\"cell-2\" style=\"text-align:right;\">2,406</td> <td class=\"cell-3\" style=\"text-align:right;\">922</td> <td class=\"cell-4\" style=\"text-align:right;\">29</td> <td class=\"cell-5\" style=\"text-align:right;\">75,810</td> <td class=\"cell-6\" style=\"text-align:right;\">374</td> <td class=\"cell-7\" style=\"text-align:right;\">2,088</td></tr>\n",
       "    </tbody>\n"
      ]
     },
     "metadata": {},
     "output_type": "display_data"
    },
    {
     "data": {
      "text/html": [
       "<div class=\"dswbOutputText\"><h1 class=\"chart_title\" style=\"color:#ccc\">Fetching Request Stats</h1><h3 class=\"chart_info\" style=\"color:#ccc\">April 15, 2017 23:59:00 to April 22, 2017 23:59:00 Local Time</h3></div>"
      ]
     },
     "metadata": {},
     "output_type": "display_data"
    },
    {
     "data": {
      "text/html": [
       "    <table  class=\"dataframe-table\">\n",
       "    <thead><tr><th class=\"cell-1\" style=\"\">Page Views</th> <th class=\"cell-2\" style=\"\">Mean(ms)</th> <th class=\"cell-3\" style=\"\">Median(ms)</th> <th class=\"cell-4\" style=\"\">Min(ms)</th> <th class=\"cell-5\" style=\"\">Max(ms)</th> <th class=\"cell-6\" style=\"\">25 Percentile</th> <th class=\"cell-7\" style=\"\">75 Percentile</th></tr></thead>\n",
       "    <tbody>\n",
       "    <tr><td class=\"cell-1\" style=\"text-align:right;\">204</td> <td class=\"cell-2\" style=\"text-align:right;\">2,406</td> <td class=\"cell-3\" style=\"text-align:right;\">922</td> <td class=\"cell-4\" style=\"text-align:right;\">29</td> <td class=\"cell-5\" style=\"text-align:right;\">75,810</td> <td class=\"cell-6\" style=\"text-align:right;\">374</td> <td class=\"cell-7\" style=\"text-align:right;\">2,088</td></tr>\n",
       "    </tbody>\n"
      ]
     },
     "metadata": {},
     "output_type": "display_data"
    },
    {
     "data": {
      "text/html": [
       "<div class=\"dswbOutputText\"><h1 class=\"chart_title\" style=\"color:#ccc\">Request Start Stats</h1><h3 class=\"chart_info\" style=\"color:#ccc\">April 15, 2017 23:59:00 to April 22, 2017 23:59:00 Local Time</h3></div>"
      ]
     },
     "metadata": {},
     "output_type": "display_data"
    },
    {
     "data": {
      "text/html": [
       "    <table  class=\"dataframe-table\">\n",
       "    <thead><tr><th class=\"cell-1\" style=\"\">Page Views</th> <th class=\"cell-2\" style=\"\">Mean(ms)</th> <th class=\"cell-3\" style=\"\">Median(ms)</th> <th class=\"cell-4\" style=\"\">Min(ms)</th> <th class=\"cell-5\" style=\"\">Max(ms)</th> <th class=\"cell-6\" style=\"\">25 Percentile</th> <th class=\"cell-7\" style=\"\">75 Percentile</th></tr></thead>\n",
       "    <tbody>\n",
       "    <tr><td class=\"cell-1\" style=\"text-align:right;\">204</td> <td class=\"cell-2\" style=\"text-align:right;\">2,197</td> <td class=\"cell-3\" style=\"text-align:right;\">595</td> <td class=\"cell-4\" style=\"text-align:right;\">0</td> <td class=\"cell-5\" style=\"text-align:right;\">76,653</td> <td class=\"cell-6\" style=\"text-align:right;\">204</td> <td class=\"cell-7\" style=\"text-align:right;\">1,536</td></tr>\n",
       "    </tbody>\n"
      ]
     },
     "metadata": {},
     "output_type": "display_data"
    },
    {
     "data": {
      "text/html": [
       "<div class=\"dswbOutputText\"><h1 class=\"chart_title\" style=\"color:#ccc\">Request First Byte Stats</h1><h3 class=\"chart_info\" style=\"color:#ccc\">April 15, 2017 23:59:00 to April 22, 2017 23:59:00 Local Time</h3></div>"
      ]
     },
     "metadata": {},
     "output_type": "display_data"
    },
    {
     "data": {
      "text/html": [
       "    <table  class=\"dataframe-table\">\n",
       "    <thead><tr><th class=\"cell-1\" style=\"\">Page Views</th> <th class=\"cell-2\" style=\"\">Mean(ms)</th> <th class=\"cell-3\" style=\"\">Median(ms)</th> <th class=\"cell-4\" style=\"\">Min(ms)</th> <th class=\"cell-5\" style=\"\">Max(ms)</th> <th class=\"cell-6\" style=\"\">25 Percentile</th> <th class=\"cell-7\" style=\"\">75 Percentile</th></tr></thead>\n",
       "    <tbody>\n",
       "    <tr><td class=\"cell-1\" style=\"text-align:right;\">204</td> <td class=\"cell-2\" style=\"text-align:right;\">2,949</td> <td class=\"cell-3\" style=\"text-align:right;\">1,127</td> <td class=\"cell-4\" style=\"text-align:right;\">141</td> <td class=\"cell-5\" style=\"text-align:right;\">81,633</td> <td class=\"cell-6\" style=\"text-align:right;\">545</td> <td class=\"cell-7\" style=\"text-align:right;\">3,034</td></tr>\n",
       "    </tbody>\n"
      ]
     },
     "metadata": {},
     "output_type": "display_data"
    },
    {
     "data": {
      "text/html": [
       "<div class=\"dswbOutputText\"><h1 class=\"chart_title\" style=\"color:#ccc\">Request Last Byte Stats</h1><h3 class=\"chart_info\" style=\"color:#ccc\">April 15, 2017 23:59:00 to April 22, 2017 23:59:00 Local Time</h3></div>"
      ]
     },
     "metadata": {},
     "output_type": "display_data"
    },
    {
     "data": {
      "text/html": [
       "    <table  class=\"dataframe-table\">\n",
       "    <thead><tr><th class=\"cell-1\" style=\"\">Page Views</th> <th class=\"cell-2\" style=\"\">Mean(ms)</th> <th class=\"cell-3\" style=\"\">Median(ms)</th> <th class=\"cell-4\" style=\"\">Min(ms)</th> <th class=\"cell-5\" style=\"\">Max(ms)</th> <th class=\"cell-6\" style=\"\">25 Percentile</th> <th class=\"cell-7\" style=\"\">75 Percentile</th></tr></thead>\n",
       "    <tbody>\n",
       "    <tr><td class=\"cell-1\" style=\"text-align:right;\">204</td> <td class=\"cell-2\" style=\"text-align:right;\">3,336</td> <td class=\"cell-3\" style=\"text-align:right;\">1,246</td> <td class=\"cell-4\" style=\"text-align:right;\">148</td> <td class=\"cell-5\" style=\"text-align:right;\">82,097</td> <td class=\"cell-6\" style=\"text-align:right;\">651</td> <td class=\"cell-7\" style=\"text-align:right;\">4,417</td></tr>\n",
       "    </tbody>\n"
      ]
     },
     "metadata": {},
     "output_type": "display_data"
    }
   ],
   "source": [
    "resourceTime2(tableRt;linesOut=linesOutput)\n",
    ";"
   ]
  },
  {
   "cell_type": "code",
   "execution_count": 30,
   "metadata": {
    "collapsed": false,
    "input_collapsed": false,
    "scrolled": false
   },
   "outputs": [
    {
     "data": {
      "text/plain": [
       "resourceTime3 (generic function with 1 method)"
      ]
     },
     "execution_count": 30,
     "metadata": {},
     "output_type": "execute_result"
    }
   ],
   "source": [
    "function resourceTime3(tableRt::ASCIIString;linesOut::Int64=25)\n",
    "    \n",
    "    try\n",
    "        joinTables = query(\"\"\"\\\n",
    "        select \n",
    "        (response_last_byte-start_time) as \"Time Taken\",\n",
    "        (start_time) as \"Start Time\",\n",
    "        (fetch_start) as \"Fetch S\",\n",
    "        (dns_end-dns_start) as \"DNS ms\",\n",
    "        (tcp_connection_end-tcp_connection_start) as \"TCP ms\",\n",
    "        (request_start) as \"Req S\",\n",
    "        (response_first_byte) as \"Req FB\",\t\n",
    "        (response_last_byte) as \"Req LB\",\n",
    "        url, params_u,\n",
    "        (redirect_start) as \"Redirect S\",\n",
    "        (redirect_end) as \"Redirect E\",\n",
    "        (secure_connection_start) as \"Secure Conn S\"\n",
    "        from $tableRt\n",
    "        where \n",
    "          url ilike '$resourceUrl' and\n",
    "        \"timestamp\" between $(TV.startTimeMsUTC) and $(TV.endTimeMsUTC) and\n",
    "        start_time > 10000\n",
    "        order by start_time desc\n",
    "        limit 25\n",
    "        \"\"\");\n",
    "\n",
    "        displayTitle(chart_title = \"Raw Resource Url Pattern $(resourceUrl)\", chart_info = [TV.timeString], showTimeStamp=false)\n",
    "        #scrubUrlToPrint(joinTables,limit=150)\n",
    "        beautifyDF(joinTables[1:min(linesOut,end),:])\n",
    "    catch y\n",
    "        println(\"bigTable5 Exception \",y)\n",
    "    end\n",
    "end \n"
   ]
  },
  {
   "cell_type": "code",
   "execution_count": 31,
   "metadata": {
    "collapsed": false,
    "input_collapsed": false,
    "scrolled": false
   },
   "outputs": [
    {
     "data": {
      "text/html": [
       "<div class=\"dswbOutputText\"><h1 class=\"chart_title\" style=\"color:#ccc\">Raw Resource Url Pattern %ng-black-logo.ngsversion.dafe07f7.png%</h1><h3 class=\"chart_info\" style=\"color:#ccc\">April 15, 2017 23:59:00 to April 22, 2017 23:59:00 Local Time</h3></div>"
      ]
     },
     "metadata": {},
     "output_type": "display_data"
    },
    {
     "data": {
      "text/html": [
       "    <table  class=\"dataframe-table\">\n",
       "    <thead><tr><th class=\"cell-1\" style=\"\">time taken</th> <th class=\"cell-2\" style=\"\">start time</th> <th class=\"cell-3\" style=\"\">fetch s</th> <th class=\"cell-4\" style=\"\">dns ms</th> <th class=\"cell-5\" style=\"\">tcp ms</th> <th class=\"cell-6\" style=\"\">req s</th> <th class=\"cell-7\" style=\"\">req fb</th> <th class=\"cell-8\" style=\"\">req lb</th> <th class=\"cell-9\" style=\"\">url</th> <th class=\"cell-10\" style=\"\">params u</th> <th class=\"cell-11\" style=\"\">redirect s</th> <th class=\"cell-12\" style=\"\">redirect e</th> <th class=\"cell-13\" style=\"\">secure conn s</th></tr></thead>\n",
       "    <tbody>\n",
       "    <tr><td class=\"cell-1\" style=\"text-align:right;\">6,287</td> <td class=\"cell-2\" style=\"text-align:right;\">75,810</td> <td class=\"cell-3\" style=\"text-align:right;\">75,810</td> <td class=\"cell-4\" style=\"text-align:right;\">0</td> <td class=\"cell-5\" style=\"text-align:right;\">0</td> <td class=\"cell-6\" style=\"text-align:right;\">76,653</td> <td class=\"cell-7\" style=\"text-align:right;\">81,633</td> <td class=\"cell-8\" style=\"text-align:right;\">82,097</td> <td class=\"cell-9\" style=\"\">http://www.nationalgeographic.com/etc/designs/platform/v2/images/logos/ng-black-logo.ngsversion.dafe07f7.png</td> <td class=\"cell-10\" style=\"\">http://www.nationalgeographic.com/environment/natural-disasters/volcanoes/</td> <td class=\"cell-11\" style=\"text-align:right;\">0</td> <td class=\"cell-12\" style=\"text-align:right;\">0</td> <td class=\"cell-13\" style=\"text-align:right;\">0</td></tr>\n",
       "<tr><td class=\"cell-1\" style=\"text-align:right;\">15,490</td> <td class=\"cell-2\" style=\"text-align:right;\">26,152</td> <td class=\"cell-3\" style=\"text-align:right;\">26,152</td> <td class=\"cell-4\" style=\"text-align:right;\">0</td> <td class=\"cell-5\" style=\"text-align:right;\">0</td> <td class=\"cell-6\" style=\"text-align:right;\">26,154</td> <td class=\"cell-7\" style=\"text-align:right;\">38,790</td> <td class=\"cell-8\" style=\"text-align:right;\">41,642</td> <td class=\"cell-9\" style=\"\">http://news.nationalgeographic.com/etc/designs/platform/v2/images/logos/ng-black-logo.ngsversion.dafe07f7.png</td> <td class=\"cell-10\" style=\"\">http://news.nationalgeographic.com/news/2015/02/150219-gold-hoard-coins-dinars-israel-fatimid-caesarea-archaeology/</td> <td class=\"cell-11\" style=\"text-align:right;\">0</td> <td class=\"cell-12\" style=\"text-align:right;\">0</td> <td class=\"cell-13\" style=\"text-align:right;\">0</td></tr>\n",
       "<tr><td class=\"cell-1\" style=\"text-align:right;\">14</td> <td class=\"cell-2\" style=\"text-align:right;\">22,290</td> <td class=\"cell-3\" style=\"text-align:right;\">22,290</td> <td class=\"cell-4\" style=\"text-align:right;\">0</td> <td class=\"cell-5\" style=\"text-align:right;\">0</td> <td class=\"cell-6\" style=\"text-align:right;\">22,301</td> <td class=\"cell-7\" style=\"text-align:right;\">22,303</td> <td class=\"cell-8\" style=\"text-align:right;\">22,304</td> <td class=\"cell-9\" style=\"\">http://www.nationalgeographic.com/etc/designs/platform/v2/images/logos/ng-black-logo.ngsversion.dafe07f7.png</td> <td class=\"cell-10\" style=\"\">http://www.nationalgeographic.com/animals/mammals/group/howler-monkeys/</td> <td class=\"cell-11\" style=\"text-align:right;\">0</td> <td class=\"cell-12\" style=\"text-align:right;\">0</td> <td class=\"cell-13\" style=\"text-align:right;\">0</td></tr>\n",
       "<tr><td class=\"cell-1\" style=\"text-align:right;\">2,890</td> <td class=\"cell-2\" style=\"text-align:right;\">22,206</td> <td class=\"cell-3\" style=\"text-align:right;\">22,206</td> <td class=\"cell-4\" style=\"text-align:right;\">0</td> <td class=\"cell-5\" style=\"text-align:right;\">0</td> <td class=\"cell-6\" style=\"text-align:right;\">25,096</td> <td class=\"cell-7\" style=\"text-align:right;\">25,096</td> <td class=\"cell-8\" style=\"text-align:right;\">25,096</td> <td class=\"cell-9\" style=\"\">http://news.nationalgeographic.com/etc/designs/platform/v2/images/logos/ng-black-logo.ngsversion.dafe07f7.png</td> <td class=\"cell-10\" style=\"\">http://news.nationalgeographic.com/2017/03/monkeys-saved-lost-tourist-bolivian-amazon-shamans/</td> <td class=\"cell-11\" style=\"text-align:right;\">0</td> <td class=\"cell-12\" style=\"text-align:right;\">0</td> <td class=\"cell-13\" style=\"text-align:right;\">0</td></tr>\n",
       "<tr><td class=\"cell-1\" style=\"text-align:right;\">21,561</td> <td class=\"cell-2\" style=\"text-align:right;\">20,243</td> <td class=\"cell-3\" style=\"text-align:right;\">20,243</td> <td class=\"cell-4\" style=\"text-align:right;\">0</td> <td class=\"cell-5\" style=\"text-align:right;\">0</td> <td class=\"cell-6\" style=\"text-align:right;\">20,245</td> <td class=\"cell-7\" style=\"text-align:right;\">33,219</td> <td class=\"cell-8\" style=\"text-align:right;\">41,804</td> <td class=\"cell-9\" style=\"\">http://news.nationalgeographic.com/etc/designs/platform/v2/images/logos/ng-black-logo.ngsversion.dafe07f7.png</td> <td class=\"cell-10\" style=\"\">http://news.nationalgeographic.com/news/2012/02/120221-oldest-seeds-regenerated-plants-science/</td> <td class=\"cell-11\" style=\"text-align:right;\">0</td> <td class=\"cell-12\" style=\"text-align:right;\">0</td> <td class=\"cell-13\" style=\"text-align:right;\">0</td></tr>\n",
       "<tr><td class=\"cell-1\" style=\"text-align:right;\">6</td> <td class=\"cell-2\" style=\"text-align:right;\">16,911</td> <td class=\"cell-3\" style=\"text-align:right;\">16,911</td> <td class=\"cell-4\" style=\"text-align:right;\">0</td> <td class=\"cell-5\" style=\"text-align:right;\">0</td> <td class=\"cell-6\" style=\"text-align:right;\">16,912</td> <td class=\"cell-7\" style=\"text-align:right;\">16,914</td> <td class=\"cell-8\" style=\"text-align:right;\">16,917</td> <td class=\"cell-9\" style=\"\">http://news.nationalgeographic.com/etc/designs/platform/v2/images/logos/ng-black-logo.ngsversion.dafe07f7.png</td> <td class=\"cell-10\" style=\"\">http://news.nationalgeographic.com/2017/01/scurvy-disease-discovery-jonathan-lamb/</td> <td class=\"cell-11\" style=\"text-align:right;\">0</td> <td class=\"cell-12\" style=\"text-align:right;\">0</td> <td class=\"cell-13\" style=\"text-align:right;\">0</td></tr>\n",
       "<tr><td class=\"cell-1\" style=\"text-align:right;\">130</td> <td class=\"cell-2\" style=\"text-align:right;\">13,698</td> <td class=\"cell-3\" style=\"text-align:right;\">13,698</td> <td class=\"cell-4\" style=\"text-align:right;\">0</td> <td class=\"cell-5\" style=\"text-align:right;\">0</td> <td class=\"cell-6\" style=\"text-align:right;\">13,761</td> <td class=\"cell-7\" style=\"text-align:right;\">13,761</td> <td class=\"cell-8\" style=\"text-align:right;\">13,828</td> <td class=\"cell-9\" style=\"\">http://news.nationalgeographic.com/etc/designs/platform/v2/images/logos/ng-black-logo.ngsversion.dafe07f7.png</td> <td class=\"cell-10\" style=\"\">http://news.nationalgeographic.com/2017/03/channeled-scablands/?utm_source=Facebook&utm_medium=Social&utm_content=link_fb20170328news-scablands2&utm_campaign=Content&sf66163662=1</td> <td class=\"cell-11\" style=\"text-align:right;\">0</td> <td class=\"cell-12\" style=\"text-align:right;\">0</td> <td class=\"cell-13\" style=\"text-align:right;\">0</td></tr>\n",
       "<tr><td class=\"cell-1\" style=\"text-align:right;\">624</td> <td class=\"cell-2\" style=\"text-align:right;\">13,549</td> <td class=\"cell-3\" style=\"text-align:right;\">13,549</td> <td class=\"cell-4\" style=\"text-align:right;\">0</td> <td class=\"cell-5\" style=\"text-align:right;\">0</td> <td class=\"cell-6\" style=\"text-align:right;\">13,910</td> <td class=\"cell-7\" style=\"text-align:right;\">14,142</td> <td class=\"cell-8\" style=\"text-align:right;\">14,173</td> <td class=\"cell-9\" style=\"\">http://www.nationalgeographic.com/etc/designs/platform/v2/images/logos/ng-black-logo.ngsversion.dafe07f7.png</td> <td class=\"cell-10\" style=\"\">http://www.nationalgeographic.com/travel/features/best-trips-2017/</td> <td class=\"cell-11\" style=\"text-align:right;\">0</td> <td class=\"cell-12\" style=\"text-align:right;\">0</td> <td class=\"cell-13\" style=\"text-align:right;\">0</td></tr>\n",
       "<tr><td class=\"cell-1\" style=\"text-align:right;\">555</td> <td class=\"cell-2\" style=\"text-align:right;\">13,126</td> <td class=\"cell-3\" style=\"text-align:right;\">13,126</td> <td class=\"cell-4\" style=\"text-align:right;\">0</td> <td class=\"cell-5\" style=\"text-align:right;\">0</td> <td class=\"cell-6\" style=\"text-align:right;\">13,681</td> <td class=\"cell-7\" style=\"text-align:right;\">13,681</td> <td class=\"cell-8\" style=\"text-align:right;\">13,681</td> <td class=\"cell-9\" style=\"\">http://news.nationalgeographic.com/etc/designs/platform/v2/images/logos/ng-black-logo.ngsversion.dafe07f7.png</td> <td class=\"cell-10\" style=\"\">http://news.nationalgeographic.com/2017/03/monkeys-saved-lost-tourist-bolivian-amazon-shamans/</td> <td class=\"cell-11\" style=\"text-align:right;\">0</td> <td class=\"cell-12\" style=\"text-align:right;\">0</td> <td class=\"cell-13\" style=\"text-align:right;\">0</td></tr>\n",
       "<tr><td class=\"cell-1\" style=\"text-align:right;\">2,322</td> <td class=\"cell-2\" style=\"text-align:right;\">12,537</td> <td class=\"cell-3\" style=\"text-align:right;\">12,537</td> <td class=\"cell-4\" style=\"text-align:right;\">0</td> <td class=\"cell-5\" style=\"text-align:right;\">0</td> <td class=\"cell-6\" style=\"text-align:right;\">14,859</td> <td class=\"cell-7\" style=\"text-align:right;\">14,859</td> <td class=\"cell-8\" style=\"text-align:right;\">14,859</td> <td class=\"cell-9\" style=\"\">http://news.nationalgeographic.com/etc/designs/platform/v2/images/logos/ng-black-logo.ngsversion.dafe07f7.png</td> <td class=\"cell-10\" style=\"\">http://news.nationalgeographic.com/2017/03/monkeys-saved-lost-tourist-bolivian-amazon-shamans/</td> <td class=\"cell-11\" style=\"text-align:right;\">0</td> <td class=\"cell-12\" style=\"text-align:right;\">0</td> <td class=\"cell-13\" style=\"text-align:right;\">0</td></tr>\n",
       "<tr><td class=\"cell-1\" style=\"text-align:right;\">14,349</td> <td class=\"cell-2\" style=\"text-align:right;\">11,851</td> <td class=\"cell-3\" style=\"text-align:right;\">11,851</td> <td class=\"cell-4\" style=\"text-align:right;\">0</td> <td class=\"cell-5\" style=\"text-align:right;\">0</td> <td class=\"cell-6\" style=\"text-align:right;\">11,853</td> <td class=\"cell-7\" style=\"text-align:right;\">21,638</td> <td class=\"cell-8\" style=\"text-align:right;\">26,200</td> <td class=\"cell-9\" style=\"\">http://news.nationalgeographic.com/etc/designs/platform/v2/images/logos/ng-black-logo.ngsversion.dafe07f7.png</td> <td class=\"cell-10\" style=\"\">http://news.nationalgeographic.com/news/2012/02/120221-oldest-seeds-regenerated-plants-science/</td> <td class=\"cell-11\" style=\"text-align:right;\">0</td> <td class=\"cell-12\" style=\"text-align:right;\">0</td> <td class=\"cell-13\" style=\"text-align:right;\">0</td></tr>\n",
       "<tr><td class=\"cell-1\" style=\"text-align:right;\">926</td> <td class=\"cell-2\" style=\"text-align:right;\">11,689</td> <td class=\"cell-3\" style=\"text-align:right;\">11,689</td> <td class=\"cell-4\" style=\"text-align:right;\">0</td> <td class=\"cell-5\" style=\"text-align:right;\">0</td> <td class=\"cell-6\" style=\"text-align:right;\">12,615</td> <td class=\"cell-7\" style=\"text-align:right;\">12,615</td> <td class=\"cell-8\" style=\"text-align:right;\">12,615</td> <td class=\"cell-9\" style=\"\">http://news.nationalgeographic.com/etc/designs/platform/v2/images/logos/ng-black-logo.ngsversion.dafe07f7.png</td> <td class=\"cell-10\" style=\"\">http://news.nationalgeographic.com/news/energy/2012/02/pictures/120228-spain-solar-energy/</td> <td class=\"cell-11\" style=\"text-align:right;\">0</td> <td class=\"cell-12\" style=\"text-align:right;\">0</td> <td class=\"cell-13\" style=\"text-align:right;\">0</td></tr>\n",
       "<tr><td class=\"cell-1\" style=\"text-align:right;\">871</td> <td class=\"cell-2\" style=\"text-align:right;\">11,646</td> <td class=\"cell-3\" style=\"text-align:right;\">11,646</td> <td class=\"cell-4\" style=\"text-align:right;\">0</td> <td class=\"cell-5\" style=\"text-align:right;\">0</td> <td class=\"cell-6\" style=\"text-align:right;\">12,517</td> <td class=\"cell-7\" style=\"text-align:right;\">12,517</td> <td class=\"cell-8\" style=\"text-align:right;\">12,517</td> <td class=\"cell-9\" style=\"\">http://news.nationalgeographic.com/etc/designs/platform/v2/images/logos/ng-black-logo.ngsversion.dafe07f7.png</td> <td class=\"cell-10\" style=\"\">http://news.nationalgeographic.com/news/energy/2012/02/pictures/120228-spain-solar-energy/</td> <td class=\"cell-11\" style=\"text-align:right;\">0</td> <td class=\"cell-12\" style=\"text-align:right;\">0</td> <td class=\"cell-13\" style=\"text-align:right;\">0</td></tr>\n",
       "<tr><td class=\"cell-1\" style=\"text-align:right;\">101</td> <td class=\"cell-2\" style=\"text-align:right;\">11,546</td> <td class=\"cell-3\" style=\"text-align:right;\">11,546</td> <td class=\"cell-4\" style=\"text-align:right;\">0</td> <td class=\"cell-5\" style=\"text-align:right;\">0</td> <td class=\"cell-6\" style=\"text-align:right;\">11,556</td> <td class=\"cell-7\" style=\"text-align:right;\">11,633</td> <td class=\"cell-8\" style=\"text-align:right;\">11,647</td> <td class=\"cell-9\" style=\"\">http://news.nationalgeographic.com/etc/designs/platform/v2/images/logos/ng-black-logo.ngsversion.dafe07f7.png</td> <td class=\"cell-10\" style=\"\">http://news.nationalgeographic.com/news/2014/05/140527-brain-muscle-metabolism-genes-apes-science/</td> <td class=\"cell-11\" style=\"text-align:right;\">0</td> <td class=\"cell-12\" style=\"text-align:right;\">0</td> <td class=\"cell-13\" style=\"text-align:right;\">0</td></tr>\n",
       "<tr><td class=\"cell-1\" style=\"text-align:right;\">1,630</td> <td class=\"cell-2\" style=\"text-align:right;\">11,024</td> <td class=\"cell-3\" style=\"text-align:right;\">11,024</td> <td class=\"cell-4\" style=\"text-align:right;\">0</td> <td class=\"cell-5\" style=\"text-align:right;\">0</td> <td class=\"cell-6\" style=\"text-align:right;\">12,654</td> <td class=\"cell-7\" style=\"text-align:right;\">12,654</td> <td class=\"cell-8\" style=\"text-align:right;\">12,654</td> <td class=\"cell-9\" style=\"\">http://news.nationalgeographic.com/etc/designs/platform/v2/images/logos/ng-black-logo.ngsversion.dafe07f7.png</td> <td class=\"cell-10\" style=\"\">http://news.nationalgeographic.com/2017/03/monkeys-saved-lost-tourist-bolivian-amazon-shamans/</td> <td class=\"cell-11\" style=\"text-align:right;\">0</td> <td class=\"cell-12\" style=\"text-align:right;\">0</td> <td class=\"cell-13\" style=\"text-align:right;\">0</td></tr>\n",
       "<tr><td class=\"cell-1\" style=\"text-align:right;\">195</td> <td class=\"cell-2\" style=\"text-align:right;\">10,957</td> <td class=\"cell-3\" style=\"text-align:right;\">10,957</td> <td class=\"cell-4\" style=\"text-align:right;\">0</td> <td class=\"cell-5\" style=\"text-align:right;\">0</td> <td class=\"cell-6\" style=\"text-align:right;\">0</td> <td class=\"cell-7\" style=\"text-align:right;\">11,134</td> <td class=\"cell-8\" style=\"text-align:right;\">11,152</td> <td class=\"cell-9\" style=\"\">http://www.nationalgeographic.com/etc/designs/platform/v2/images/logos/ng-black-logo.ngsversion.dafe07f7.png</td> <td class=\"cell-10\" style=\"\">http://www.nationalgeographic.com/travel/top-10/europe-castles/?utm_source=Facebook&utm_medium=Social&utm_content=link_fbt20170323castlesofeurope2433322443&utm_campaign=Content&sf65128386=1</td> <td class=\"cell-11\" style=\"text-align:right;\">0</td> <td class=\"cell-12\" style=\"text-align:right;\">0</td> <td class=\"cell-13\" style=\"text-align:right;\">0</td></tr>\n",
       "<tr><td class=\"cell-1\" style=\"text-align:right;\">59</td> <td class=\"cell-2\" style=\"text-align:right;\">10,048</td> <td class=\"cell-3\" style=\"text-align:right;\">10,048</td> <td class=\"cell-4\" style=\"text-align:right;\">0</td> <td class=\"cell-5\" style=\"text-align:right;\">0</td> <td class=\"cell-6\" style=\"text-align:right;\">10,099</td> <td class=\"cell-7\" style=\"text-align:right;\">10,105</td> <td class=\"cell-8\" style=\"text-align:right;\">10,107</td> <td class=\"cell-9\" style=\"\">http://www.nationalgeographic.com/etc/designs/platform/v2/images/logos/ng-black-logo.ngsversion.dafe07f7.png</td> <td class=\"cell-10\" style=\"\">http://www.nationalgeographic.com/environment/freshwater/pollution/</td> <td class=\"cell-11\" style=\"text-align:right;\">0</td> <td class=\"cell-12\" style=\"text-align:right;\">0</td> <td class=\"cell-13\" style=\"text-align:right;\">0</td></tr>\n",
       "    </tbody>\n"
      ]
     },
     "metadata": {},
     "output_type": "display_data"
    }
   ],
   "source": [
    "resourceTime3(tableRt;linesOut=linesOutput)\n",
    ";"
   ]
  },
  {
   "cell_type": "code",
   "execution_count": 32,
   "metadata": {
    "collapsed": false,
    "input_collapsed": false
   },
   "outputs": [],
   "source": [
    "## Resource and it parent is also interesting below this point\n",
    "\n",
    "#try\n",
    "#    query(\"\"\"\\\n",
    "#        create or replace view $localTable as (\n",
    "#            select * from $table \n",
    "#                where \n",
    "#                    \"timestamp\" between $(TV.startTimeMsUTC) and $(TV.endTimeMsUTC) and \n",
    "#                    page_group ilike '$(productPageGroup)' and\n",
    "#                    params_u ilike '$(localUrl)' \n",
    "#        )\n",
    "#    \"\"\")\n",
    "#    cnt = query(\"\"\"SELECT count(*) FROM $localTable\"\"\")\n",
    "#    println(\"$localTable count is \",cnt[1,1])\n",
    "#catch y\n",
    "#    println(\"setupLocalTable Exception \",y)\n",
    "#end\n"
   ]
  },
  {
   "cell_type": "code",
   "execution_count": null,
   "metadata": {
    "collapsed": true,
    "input_collapsed": false
   },
   "outputs": [],
   "source": []
  }
 ],
 "metadata": {
  "kernelspec": {
   "display_name": "Julia 0.4.7",
   "language": "julia",
   "name": "julia-0.4"
  },
  "language_info": {
   "file_extension": ".jl",
   "mimetype": "application/julia",
   "name": "julia",
   "version": "0.4.7"
  },
  "library_version": "1.0.0",
  "notebook_uuid": "568c97a0-3ab7-44cd-930c-caf395b082c5",
  "readOnly": false
 },
 "nbformat": 4,
 "nbformat_minor": 0
}
