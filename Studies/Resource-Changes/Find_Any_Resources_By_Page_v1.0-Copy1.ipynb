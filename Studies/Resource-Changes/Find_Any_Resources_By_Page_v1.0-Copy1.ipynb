{
 "cells": [
  {
   "cell_type": "code",
   "execution_count": null,
   "metadata": {
    "collapsed": false,
    "input_collapsed": false
   },
   "outputs": [],
   "source": [
    "using ODBC\n",
    "using DataFrames\n",
    "using DSWB\n",
    "using Formatting\n",
    "\n",
    "dsn = \"dswb-natgeo\" # Redshift esetTable(tableRt, tableType = \"RESOURCE_TABLE\")ndpoint\n",
    "table = \"beacons_4744\" # beacon table name\n",
    "tableRt = \"beacons_4744_rt\"\n",
    "\n",
    "# Connect to Beacon Data\n",
    "setRedshiftEndpoint(dsn)\n",
    "setTable(tableRt, tableType = \"RESOURCE_TABLE\")\n",
    "setTable(table)"
   ]
  },
  {
   "cell_type": "code",
   "execution_count": null,
   "metadata": {
    "collapsed": false,
    "input_collapsed": false
   },
   "outputs": [],
   "source": [
    "# Packages\n",
    "include(\"../../Lib/Include-Package-v2.1.jl\")\n",
    "\n",
    "#TV = timeVariables(2017,1,2,2,30,2017,1,2,2,45);\n",
    "#TV = timeVariables(2017,3,20,10,0,2017,3,20,13,59);\n",
    "TV = weeklyTimeVariables(days=1);"
   ]
  },
  {
   "cell_type": "code",
   "execution_count": null,
   "metadata": {
    "collapsed": false,
    "input_collapsed": false
   },
   "outputs": [],
   "source": [
    "customer = \"Nat Geo\" \n",
    "#productPageGroup = \"%\"\n",
    "productPageGroup = \"%\" # primary page group\n",
    "localUrl = \"%\"\n",
    "resourceUrl = \"%ng-black-logo%\"\n",
    "\n",
    "localTable = \"$(table)_Find_Any_Resource_view\"\n",
    "linesOutput = 250\n",
    "minimumEncoded = 100000\n",
    ";"
   ]
  },
  {
   "cell_type": "code",
   "execution_count": null,
   "metadata": {
    "collapsed": false,
    "input_collapsed": false
   },
   "outputs": [],
   "source": [
    "try\n",
    "    query(\"\"\"\\\n",
    "        create or replace view $localTable as (\n",
    "            select * from $table \n",
    "                where \n",
    "                    \"timestamp\" between $(TV.startTimeMsUTC) and $(TV.endTimeMsUTC) and \n",
    "                    page_group ilike '$(productPageGroup)' and\n",
    "                    params_u ilike '$(localUrl)' \n",
    "        )\n",
    "    \"\"\")\n",
    "    cnt = query(\"\"\"SELECT count(*) FROM $localTable\"\"\")\n",
    "    println(\"$localTable count is \",cnt[1,1])\n",
    "catch y\n",
    "    println(\"setupLocalTable Exception \",y)\n",
    "end"
   ]
  },
  {
   "cell_type": "code",
   "execution_count": null,
   "metadata": {
    "collapsed": false,
    "input_collapsed": false,
    "scrolled": false
   },
   "outputs": [],
   "source": [
    "function resourceSummary(localTable::ASCIIString,tableRt::ASCIIString;linesOut::Int64=25,minEncoded::Int64=1000)\n",
    "    \n",
    "    try\n",
    "        joinTables = query(\"\"\"\\\n",
    "        select \n",
    "        $tableRt.url, $tableRt.params_u, $localTable.url,\n",
    "            count(*)\n",
    "        from $localTable join $tableRt\n",
    "        on $localTable.session_id = $tableRt.session_id and $localTable.\"timestamp\" = $tableRt.\"timestamp\"\n",
    "        where \n",
    "        $tableRt.url ilike '$resourceUrl'\n",
    "        group by \n",
    "        $tableRt.url, $tableRt.params_u, $localTable.url\n",
    "        \"\"\");\n",
    "\n",
    "        displayTitle(chart_title = \"Resource Url Pattern $(resourceUrl)\", chart_info = [TV.timeString], showTimeStamp=false)\n",
    "        scrubUrlToPrint(joinTables,:url,limit=150)\n",
    "        beautifyDF(joinTables[1:min(linesOut,end),:])\n",
    "    catch y\n",
    "        println(\"bigTable5 Exception \",y)\n",
    "    end\n",
    "end \n"
   ]
  },
  {
   "cell_type": "code",
   "execution_count": null,
   "metadata": {
    "collapsed": false,
    "input_collapsed": false,
    "scrolled": false
   },
   "outputs": [],
   "source": [
    "resourceSummary(localTable,tableRt;linesOut=linesOutput,minEncoded=minimumEncoded)\n",
    ";\n",
    "#resourceSizes(localTable,tableRt,\"%css\";linesOut=linesOutput,minEncoded=minimumEncoded)"
   ]
  },
  {
   "cell_type": "code",
   "execution_count": null,
   "metadata": {
    "collapsed": false,
    "input_collapsed": false,
    "scrolled": false
   },
   "outputs": [],
   "source": [
    "function resourceSummary2(localTable::ASCIIString,tableRt::ASCIIString;linesOut::Int64=25,minEncoded::Int64=1000)\n",
    "    \n",
    "    try\n",
    "        joinTables = query(\"\"\"\\\n",
    "        select \n",
    "        url,params_u,count(*)\n",
    "        from $tableRt\n",
    "        where \n",
    "          url ilike '$resourceUrl' and\n",
    "          \"timestamp\" between $(TV.startTimeMsUTC) and $(TV.endTimeMsUTC)\n",
    "        group by \n",
    "            url, params_u\n",
    "        order by count(*) desc\n",
    "        \"\"\");\n",
    "\n",
    "        displayTitle(chart_title = \"Raw Resource Url Pattern $(resourceUrl)\", chart_info = [TV.timeString], showTimeStamp=false)\n",
    "        scrubUrlToPrint(joinTables,:url,limit=150)\n",
    "        beautifyDF(joinTables[1:min(linesOut,end),:])\n",
    "    catch y\n",
    "        println(\"bigTable5 Exception \",y)\n",
    "    end\n",
    "end \n"
   ]
  },
  {
   "cell_type": "code",
   "execution_count": null,
   "metadata": {
    "collapsed": false,
    "input_collapsed": false,
    "scrolled": false
   },
   "outputs": [],
   "source": [
    "resourceSummary2(localTable,tableRt;linesOut=linesOutput,minEncoded=minimumEncoded)\n",
    ";\n",
    "#resourceSizes(localTable,tableRt,\"%css\";linesOut=linesOutput,minEncoded=minimumEncoded)"
   ]
  },
  {
   "cell_type": "code",
   "execution_count": null,
   "metadata": {
    "collapsed": false,
    "input_collapsed": false,
    "scrolled": false
   },
   "outputs": [],
   "source": [
    "function resourceSummary3(localTable::ASCIIString,tableRt::ASCIIString;linesOut::Int64=25,minEncoded::Int64=1000)\n",
    "    \n",
    "    try\n",
    "        joinTables = query(\"\"\"\\\n",
    "        select \n",
    "        *\n",
    "        from $tableRt\n",
    "        where \n",
    "          url ilike '$resourceUrl' and\n",
    "          \"timestamp\" between $(TV.startTimeMsUTC) and $(TV.endTimeMsUTC)\n",
    "        limit 3\n",
    "        \"\"\");\n",
    "\n",
    "        displayTitle(chart_title = \"Raw Resource Url Pattern $(resourceUrl)\", chart_info = [TV.timeString], showTimeStamp=false)\n",
    "        scrubUrlToPrint(joinTables,:url,limit=150)\n",
    "        beautifyDF(joinTables[1:min(linesOut,end),:])\n",
    "    catch y\n",
    "        println(\"bigTable5 Exception \",y)\n",
    "    end\n",
    "end \n"
   ]
  },
  {
   "cell_type": "code",
   "execution_count": null,
   "metadata": {
    "collapsed": false,
    "input_collapsed": false,
    "scrolled": false
   },
   "outputs": [],
   "source": [
    "resourceSummary3(localTable,tableRt;linesOut=linesOutput,minEncoded=minimumEncoded)\n",
    ";\n",
    "#resourceSizes(localTable,tableRt,\"%css\";linesOut=linesOutput,minEncoded=minimumEncoded)"
   ]
  },
  {
   "cell_type": "code",
   "execution_count": null,
   "metadata": {
    "collapsed": false,
    "input_collapsed": false,
    "scrolled": false
   },
   "outputs": [],
   "source": [
    "function resourceSummary4(localTable::ASCIIString,tableRt::ASCIIString;linesOut::Int64=25,minEncoded::Int64=1000)\n",
    "    \n",
    "    try\n",
    "        joinTables = query(\"\"\"\\\n",
    "        select \n",
    "        count(*),\n",
    "        avg(start_time) as \"Start Time\",\n",
    "        avg(fetch_start) as \"Fetch S\",\n",
    "        avg(dns_end-dns_start) as \"DNS ms\",\n",
    "        avg(tcp_connection_end-tcp_connection_start) as \"TCP ms\",\n",
    "        avg(request_start) as \"Req S\",\n",
    "        avg(response_first_byte) as \"Req FB\",\t\n",
    "        avg(response_last_byte) as \"Req LB\",\n",
    "        max(response_last_byte) as \"Max Req LB\",\n",
    "        url, params_u,\n",
    "        avg(redirect_start) as \"Redirect S\",\n",
    "        avg(redirect_end) as \"Redirect E\",\n",
    "        avg(secure_connection_start) as \"Secure Conn S\"\n",
    "        from $tableRt\n",
    "        where \n",
    "          url ilike '$resourceUrl' and\n",
    "          \"timestamp\" between $(TV.startTimeMsUTC) and $(TV.endTimeMsUTC)\n",
    "        group by url, params_u\n",
    "        order by count(*) desc\n",
    "        \"\"\");\n",
    "\n",
    "        displayTitle(chart_title = \"Raw Resource Url Pattern $(resourceUrl)\", chart_info = [TV.timeString], showTimeStamp=false)\n",
    "        #scrubUrlToPrint(joinTables,limit=150)\n",
    "        beautifyDF(joinTables[1:min(linesOut,end),:])\n",
    "    catch y\n",
    "        println(\"bigTable5 Exception \",y)\n",
    "    end\n",
    "end \n"
   ]
  },
  {
   "cell_type": "code",
   "execution_count": null,
   "metadata": {
    "collapsed": false,
    "input_collapsed": false,
    "scrolled": false
   },
   "outputs": [],
   "source": [
    "resourceSummary4(localTable,tableRt;linesOut=linesOutput,minEncoded=minimumEncoded)\n",
    ";\n",
    "#resourceSizes(localTable,tableRt,\"%css\";linesOut=linesOutput,minEncoded=minimumEncoded)"
   ]
  },
  {
   "cell_type": "code",
   "execution_count": null,
   "metadata": {
    "collapsed": false,
    "input_collapsed": false,
    "scrolled": false
   },
   "outputs": [],
   "source": [
    "function resourceSummary5(localTable::ASCIIString,tableRt::ASCIIString;linesOut::Int64=25,minEncoded::Int64=1000)\n",
    "    \n",
    "    try\n",
    "        joinTables = query(\"\"\"\\\n",
    "        select \n",
    "        (response_last_byte-start_time) as \"Time Taken\",\n",
    "        (start_time) as \"Start Time\",\n",
    "        (fetch_start) as \"Fetch S\",\n",
    "        (dns_end-dns_start) as \"DNS ms\",\n",
    "        (tcp_connection_end-tcp_connection_start) as \"TCP ms\",\n",
    "        (request_start) as \"Req S\",\n",
    "        (response_first_byte) as \"Req FB\",\t\n",
    "        (response_last_byte) as \"Req LB\",\n",
    "        url, params_u,\n",
    "        (redirect_start) as \"Redirect S\",\n",
    "        (redirect_end) as \"Redirect E\",\n",
    "        (secure_connection_start) as \"Secure Conn S\"\n",
    "        from $tableRt\n",
    "        where \n",
    "          url ilike '$resourceUrl' and\n",
    "        \"timestamp\" between $(TV.startTimeMsUTC) and $(TV.endTimeMsUTC) and\n",
    "        (response_last_byte-start_time) > 5000\n",
    "        order by \"Time Taken\" desc\n",
    "        \"\"\");\n",
    "\n",
    "        displayTitle(chart_title = \"Raw Resource Url Pattern $(resourceUrl)\", chart_info = [TV.timeString], showTimeStamp=false)\n",
    "        #scrubUrlToPrint(joinTables,limit=150)\n",
    "        beautifyDF(joinTables[1:min(linesOut,end),:])\n",
    "    catch y\n",
    "        println(\"bigTable5 Exception \",y)\n",
    "    end\n",
    "end \n"
   ]
  },
  {
   "cell_type": "code",
   "execution_count": null,
   "metadata": {
    "collapsed": false,
    "input_collapsed": false,
    "scrolled": false
   },
   "outputs": [],
   "source": [
    "resourceSummary5(localTable,tableRt;linesOut=linesOutput,minEncoded=minimumEncoded)\n",
    ";\n",
    "#resourceSizes(localTable,tableRt,\"%css\";linesOut=linesOutput,minEncoded=minimumEncoded)"
   ]
  },
  {
   "cell_type": "code",
   "execution_count": null,
   "metadata": {
    "collapsed": false,
    "input_collapsed": false,
    "scrolled": false
   },
   "outputs": [],
   "source": [
    "function resourceSummary6(localTable::ASCIIString,tableRt::ASCIIString;linesOut::Int64=25,minEncoded::Int64=1000)\n",
    "    \n",
    "    try\n",
    "        joinTables = query(\"\"\"\\\n",
    "        select \n",
    "        (response_last_byte-start_time) as \"Time Taken\",\n",
    "        (start_time) as \"Start Time\",\n",
    "        (fetch_start) as \"Fetch S\",\n",
    "        (dns_end-dns_start) as \"DNS ms\",\n",
    "        (tcp_connection_end-tcp_connection_start) as \"TCP ms\",\n",
    "        (request_start) as \"Req S\",\n",
    "        (response_first_byte) as \"Req FB\",\t\n",
    "        (response_last_byte) as \"Req LB\",\n",
    "        url, params_u,\n",
    "        (redirect_start) as \"Redirect S\",\n",
    "        (redirect_end) as \"Redirect E\",\n",
    "        (secure_connection_start) as \"Secure Conn S\"\n",
    "        from $tableRt\n",
    "        where \n",
    "          url ilike '$resourceUrl' and\n",
    "        \"timestamp\" between $(TV.startTimeMsUTC) and $(TV.endTimeMsUTC) and\n",
    "        start_time > 10000\n",
    "        order by start_time desc\n",
    "        \"\"\");\n",
    "\n",
    "        displayTitle(chart_title = \"Raw Resource Url Pattern $(resourceUrl)\", chart_info = [TV.timeString], showTimeStamp=false)\n",
    "        #scrubUrlToPrint(joinTables,limit=150)\n",
    "        beautifyDF(joinTables[1:min(linesOut,end),:])\n",
    "    catch y\n",
    "        println(\"bigTable5 Exception \",y)\n",
    "    end\n",
    "end \n"
   ]
  },
  {
   "cell_type": "code",
   "execution_count": null,
   "metadata": {
    "collapsed": false,
    "input_collapsed": false,
    "scrolled": false
   },
   "outputs": [],
   "source": [
    "resourceSummary6(localTable,tableRt;linesOut=linesOutput,minEncoded=minimumEncoded)\n",
    ";\n",
    "#resourceSizes(localTable,tableRt,\"%css\";linesOut=linesOutput,minEncoded=minimumEncoded)"
   ]
  },
  {
   "cell_type": "code",
   "execution_count": null,
   "metadata": {
    "collapsed": true,
    "input_collapsed": true
   },
   "outputs": [],
   "source": []
  }
 ],
 "metadata": {
  "kernelspec": {
   "display_name": "Julia 0.4.7",
   "language": "julia",
   "name": "julia-0.4"
  },
  "language_info": {
   "file_extension": ".jl",
   "mimetype": "application/julia",
   "name": "julia",
   "version": "0.4.7"
  },
  "library_version": "1.0.0",
  "notebook_uuid": "e354ffa9-339e-4356-ae8a-e4bc0d0f0b10",
  "readOnly": false
 },
 "nbformat": 4,
 "nbformat_minor": 0
}
