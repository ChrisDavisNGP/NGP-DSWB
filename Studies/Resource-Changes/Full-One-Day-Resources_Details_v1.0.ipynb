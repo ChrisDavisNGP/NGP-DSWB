{
 "cells": [
  {
   "cell_type": "code",
   "execution_count": 45,
   "metadata": {
    "collapsed": false,
    "input_collapsed": false
   },
   "outputs": [
    {
     "name": "stdout",
     "output_type": "stream",
     "text": [
      "Set Redshift endpoint done. 2017-04-23T19:48:12\n"
     ]
    },
    {
     "data": {
      "text/plain": [
       "\"beacons_4744\""
      ]
     },
     "execution_count": 45,
     "metadata": {},
     "output_type": "execute_result"
    }
   ],
   "source": [
    "using ODBC\n",
    "using DataFrames\n",
    "using DSWB\n",
    "using Formatting\n",
    "\n",
    "dsn = \"dswb-natgeo\" # Redshift esetTable(tableRt, tableType = \"RESOURCE_TABLE\")ndpoint\n",
    "table = \"beacons_4744\" # beacon table name\n",
    "tableRt = \"beacons_4744_rt\"\n",
    "\n",
    "# Connect to Beacon Data\n",
    "setRedshiftEndpoint(dsn)\n",
    "setTable(tableRt, tableType = \"RESOURCE_TABLE\")\n",
    "setTable(table)"
   ]
  },
  {
   "cell_type": "code",
   "execution_count": 46,
   "metadata": {
    "collapsed": false,
    "input_collapsed": false
   },
   "outputs": [
    {
     "name": "stdout",
     "output_type": "stream",
     "text": [
      "April 21, 2017 23:59:00 to April 22, 2017 23:59:00 Local Time\n",
      "April 22, 2017 03:59:00 to April 23, 2017 03:59:00 UTC Time\n"
     ]
    }
   ],
   "source": [
    "# Packages\n",
    "include(\"/data/notebook_home/Production/Lib/Include-Package-v1.0.jl\")\n",
    "\n",
    "#TV = timeVariables(2017,4,15,10,0,2017,4,15,10,9);\n",
    "#TV = timeVariables(2017,4,21,10,0,2017,4,21,10,9);\n",
    "TV = weeklyTimeVariables(days=1);"
   ]
  },
  {
   "cell_type": "code",
   "execution_count": 47,
   "metadata": {
    "collapsed": false,
    "input_collapsed": false
   },
   "outputs": [],
   "source": [
    "include(\"/data/notebook_home/Production/Bodies/RD-Body-v1.0.jl\")\n",
    "customer = \"Nat Geo\" \n",
    "#productPageGroup = \"%\"\n",
    "productPageGroup = \"%\" # primary page group\n",
    "localUrl = \"%\"\n",
    "resourceUrl = \"%ng-black-logo%\"\n",
    "\n",
    "localTable = \"$(table)_Find_Resource_Details\"\n",
    "linesOutput = 25\n",
    "minimumEncoded = 0\n",
    ";"
   ]
  },
  {
   "cell_type": "code",
   "execution_count": 48,
   "metadata": {
    "collapsed": false,
    "input_collapsed": false
   },
   "outputs": [
    {
     "data": {
      "text/html": [
       "<div class=\"dswbOutputText\"><h1 class=\"chart_title\" style=\"color:#ccc\">Matches For Url Pattern %ng-black-logo%</h1><h3 class=\"chart_info\" style=\"color:#ccc\">April 21, 2017 23:59:00 to April 22, 2017 23:59:00 Local Time</h3></div>"
      ]
     },
     "metadata": {},
     "output_type": "display_data"
    },
    {
     "data": {
      "text/html": [
       "    <table  class=\"dataframe-table\">\n",
       "    <thead><tr><th class=\"cell-1\" style=\"\">count</th></tr></thead>\n",
       "    <tbody>\n",
       "    <tr><td class=\"cell-1\" style=\"text-align:right;\">147,335</td></tr>\n",
       "    </tbody>\n"
      ]
     },
     "metadata": {},
     "output_type": "display_data"
    }
   ],
   "source": [
    "resourceMatched(tableRt;linesOut=3)\n",
    ";"
   ]
  },
  {
   "cell_type": "code",
   "execution_count": 49,
   "metadata": {
    "collapsed": false,
    "input_collapsed": false
   },
   "outputs": [
    {
     "data": {
      "text/html": [
       "<div class=\"dswbOutputText\"><h1 class=\"chart_title\" style=\"color:#ccc\">Raw Resource Url Pattern %ng-black-logo%</h1><h3 class=\"chart_info\" style=\"color:#ccc\">April 21, 2017 23:59:00 to April 22, 2017 23:59:00 Local Time</h3></div>"
      ]
     },
     "metadata": {},
     "output_type": "display_data"
    },
    {
     "data": {
      "text/html": [
       "    <table  class=\"dataframe-table\">\n",
       "    <thead><tr><th class=\"cell-1\" style=\"\">params u</th> <th class=\"cell-2\" style=\"\">session id</th> <th class=\"cell-3\" style=\"\">session start</th> <th class=\"cell-4\" style=\"\">timestamp</th> <th class=\"cell-5\" style=\"\">url</th> <th class=\"cell-6\" style=\"\">initiator type</th> <th class=\"cell-7\" style=\"\">start time</th> <th class=\"cell-8\" style=\"\">redirect start</th> <th class=\"cell-9\" style=\"\">redirect end</th> <th class=\"cell-10\" style=\"\">fetch start</th> <th class=\"cell-11\" style=\"\">dns start</th> <th class=\"cell-12\" style=\"\">dns end</th> <th class=\"cell-13\" style=\"\">tcp connection start</th> <th class=\"cell-14\" style=\"\">secure connection start</th> <th class=\"cell-15\" style=\"\">tcp connection end</th> <th class=\"cell-16\" style=\"\">request start</th> <th class=\"cell-17\" style=\"\">response first byte</th> <th class=\"cell-18\" style=\"\">response last byte</th> <th class=\"cell-19\" style=\"\">worker start</th> <th class=\"cell-20\" style=\"\">encoded size</th> <th class=\"cell-21\" style=\"\">transferred size</th> <th class=\"cell-22\" style=\"\">decoded size</th> <th class=\"cell-23\" style=\"\">height</th> <th class=\"cell-24\" style=\"\">width</th> <th class=\"cell-25\" style=\"\">x</th> <th class=\"cell-26\" style=\"\">y</th></tr></thead>\n",
       "    <tbody>\n",
       "    <tr><td class=\"cell-1\" style=\"\">http://www.nationalgeographic.com/photography/proof/2017/04/earth-day-pictures-wildlife/?utm_source=Facebook&utm_medium=Social&utm_content=link_fb20170421news-nicklengallery&utm_campaign&sf72178206=1</td> <td class=\"cell-2\" style=\"\">75f08597-5bce-4a1f-ba33-3117e07868db-oosltr</td> <td class=\"cell-3\" style=\"text-align:right;\">1,492,833,662,635</td> <td class=\"cell-4\" style=\"text-align:right;\">2017-04-22T04:01:26.342</td> <td class=\"cell-5\" style=\"\">http://www.nationalgeographic.com/etc/designs/platform/v2/images/logos/ng-black-logo.ngsversion.45ded159.png</td> <td class=\"cell-6\" style=\"\">img</td> <td class=\"cell-7\" style=\"text-align:right;\">257</td> <td class=\"cell-8\" style=\"text-align:right;\">0</td> <td class=\"cell-9\" style=\"text-align:right;\">0</td> <td class=\"cell-10\" style=\"text-align:right;\">257</td> <td class=\"cell-11\" style=\"text-align:right;\">0</td> <td class=\"cell-12\" style=\"text-align:right;\">0</td> <td class=\"cell-13\" style=\"text-align:right;\">0</td> <td class=\"cell-14\" style=\"text-align:right;\">0</td> <td class=\"cell-15\" style=\"text-align:right;\">0</td> <td class=\"cell-16\" style=\"text-align:right;\">746</td> <td class=\"cell-17\" style=\"text-align:right;\">813</td> <td class=\"cell-18\" style=\"text-align:right;\">817</td> <td class=\"cell-19\" style=\"\">NA</td> <td class=\"cell-20\" style=\"text-align:right;\">4,601</td> <td class=\"cell-21\" style=\"text-align:right;\">5,006</td> <td class=\"cell-22\" style=\"\">NA</td> <td class=\"cell-23\" style=\"\">NA</td> <td class=\"cell-24\" style=\"\">NA</td> <td class=\"cell-25\" style=\"\">NA</td> <td class=\"cell-26\" style=\"\">NA</td></tr>\n",
       "<tr><td class=\"cell-1\" style=\"\">http://www.nationalgeographic.com/photography/proof/2017/04/earth-day-pictures-wildlife/?utm_source=Facebook&utm_medium=Social&utm_content=link_fb20170421news-nicklengallery&utm_campaign&sf72178206=1</td> <td class=\"cell-2\" style=\"\">330f4d65-224d-41a8-a890-addedda9def7-oosm0s</td> <td class=\"cell-3\" style=\"text-align:right;\">1,492,833,915,663</td> <td class=\"cell-4\" style=\"text-align:right;\">2017-04-22T04:01:55.80</td> <td class=\"cell-5\" style=\"\">http://www.nationalgeographic.com/etc/designs/platform/v2/images/logos/ng-black-logo.ngsversion.45ded159.png</td> <td class=\"cell-6\" style=\"\">img</td> <td class=\"cell-7\" style=\"text-align:right;\">943</td> <td class=\"cell-8\" style=\"text-align:right;\">0</td> <td class=\"cell-9\" style=\"text-align:right;\">0</td> <td class=\"cell-10\" style=\"text-align:right;\">943</td> <td class=\"cell-11\" style=\"text-align:right;\">954</td> <td class=\"cell-12\" style=\"text-align:right;\">954</td> <td class=\"cell-13\" style=\"text-align:right;\">954</td> <td class=\"cell-14\" style=\"text-align:right;\">0</td> <td class=\"cell-15\" style=\"text-align:right;\">990</td> <td class=\"cell-16\" style=\"text-align:right;\">991</td> <td class=\"cell-17\" style=\"text-align:right;\">1,033</td> <td class=\"cell-18\" style=\"text-align:right;\">1,036</td> <td class=\"cell-19\" style=\"\">NA</td> <td class=\"cell-20\" style=\"\">NA</td> <td class=\"cell-21\" style=\"\">NA</td> <td class=\"cell-22\" style=\"\">NA</td> <td class=\"cell-23\" style=\"\">NA</td> <td class=\"cell-24\" style=\"\">NA</td> <td class=\"cell-25\" style=\"\">NA</td> <td class=\"cell-26\" style=\"\">NA</td></tr>\n",
       "<tr><td class=\"cell-1\" style=\"\">http://news.nationalgeographic.com/2015/03/150319-joro-spiders-animals-science-invasive-species-asia-nation/</td> <td class=\"cell-2\" style=\"\">463c3503-b84a-4c53-8476-d4a40ccbaf96-oosm2n</td> <td class=\"cell-3\" style=\"text-align:right;\">1,492,833,982,608</td> <td class=\"cell-4\" style=\"text-align:right;\">2017-04-22T04:06:41.640</td> <td class=\"cell-5\" style=\"\">http://news.nationalgeographic.com/etc/designs/platform/v2/images/logos/ng-black-logo.ngsversion.45ded159.png</td> <td class=\"cell-6\" style=\"\">img</td> <td class=\"cell-7\" style=\"text-align:right;\">848</td> <td class=\"cell-8\" style=\"text-align:right;\">0</td> <td class=\"cell-9\" style=\"text-align:right;\">0</td> <td class=\"cell-10\" style=\"text-align:right;\">848</td> <td class=\"cell-11\" style=\"text-align:right;\">0</td> <td class=\"cell-12\" style=\"text-align:right;\">0</td> <td class=\"cell-13\" style=\"text-align:right;\">0</td> <td class=\"cell-14\" style=\"text-align:right;\">0</td> <td class=\"cell-15\" style=\"text-align:right;\">0</td> <td class=\"cell-16\" style=\"text-align:right;\">899</td> <td class=\"cell-17\" style=\"text-align:right;\">981</td> <td class=\"cell-18\" style=\"text-align:right;\">981</td> <td class=\"cell-19\" style=\"\">NA</td> <td class=\"cell-20\" style=\"text-align:right;\">4,601</td> <td class=\"cell-21\" style=\"text-align:right;\">4,974</td> <td class=\"cell-22\" style=\"\">NA</td> <td class=\"cell-23\" style=\"\">NA</td> <td class=\"cell-24\" style=\"\">NA</td> <td class=\"cell-25\" style=\"\">NA</td> <td class=\"cell-26\" style=\"\">NA</td></tr>\n",
       "    </tbody>\n"
      ]
     },
     "metadata": {},
     "output_type": "display_data"
    }
   ],
   "source": [
    "resourceSummaryAllFields(tableRt;linesOut=3)\n",
    ";"
   ]
  },
  {
   "cell_type": "code",
   "execution_count": 50,
   "metadata": {
    "collapsed": false,
    "input_collapsed": false,
    "scrolled": false
   },
   "outputs": [
    {
     "data": {
      "text/html": [
       "<div class=\"dswbOutputText\"><h1 class=\"chart_title\" style=\"color:#ccc\">Resource Pattern %ng-black-logo%</h1><h3 class=\"chart_info\" style=\"color:#ccc\">April 21, 2017 23:59:00 to April 22, 2017 23:59:00 Local Time</h3></div>"
      ]
     },
     "metadata": {},
     "output_type": "display_data"
    },
    {
     "data": {
      "text/html": [
       "    <table  class=\"dataframe-table\">\n",
       "    <thead><tr><th class=\"cell-1\" style=\"\">count</th> <th class=\"cell-2\" style=\"\">url</th></tr></thead>\n",
       "    <tbody>\n",
       "    <tr><td class=\"cell-1\" style=\"text-align:right;\">71,024</td> <td class=\"cell-2\" style=\"\">http://news.nationalgeographic.com/etc/designs/platform/v2/images/logos/ng-black-logo.ngsversion.45ded159.png</td></tr>\n",
       "<tr><td class=\"cell-1\" style=\"text-align:right;\">66,759</td> <td class=\"cell-2\" style=\"\">http://www.nationalgeographic.com/etc/designs/platform/v2/images/logos/ng-black-logo.ngsversion.45ded159.png</td></tr>\n",
       "<tr><td class=\"cell-1\" style=\"text-align:right;\">5,474</td> <td class=\"cell-2\" style=\"\">http://www.nationalgeographic.com/etc/designs/platform/v2/images/logos/ng-black-logo.ngsversion.45ded567.png</td></tr>\n",
       "<tr><td class=\"cell-1\" style=\"text-align:right;\">3,643</td> <td class=\"cell-2\" style=\"\">http://www.nationalgeographic.com/etc/designs/platform/v2/images/logos/ng-black-logo.ngsversion.2fc3d452.png</td></tr>\n",
       "<tr><td class=\"cell-1\" style=\"text-align:right;\">78</td> <td class=\"cell-2\" style=\"\">http://news-staging.nationalgeographic.com/etc/designs/platform/v2/images/logos/ng-black-logo.ngsversion.87e22b4.png</td></tr>\n",
       "<tr><td class=\"cell-1\" style=\"text-align:right;\">78</td> <td class=\"cell-2\" style=\"\">http://www-staging.nationalgeographic.com/etc/designs/platform/v2/images/logos/ng-black-logo.ngsversion.87e22b4.png</td></tr>\n",
       "<tr><td class=\"cell-1\" style=\"text-align:right;\">46</td> <td class=\"cell-2\" style=\"\">http://news.nationalgeographic.com/etc/designs/platform/v2/images/logos/ng-black-logo.ngsversion.93df43dc.png</td></tr>\n",
       "<tr><td class=\"cell-1\" style=\"text-align:right;\">35</td> <td class=\"cell-2\" style=\"\">http://www.nationalgeographic.com/etc/designs/platform/v2/images/logos/ng-black-logo.ngsversion.93df43dc.png</td></tr>\n",
       "<tr><td class=\"cell-1\" style=\"text-align:right;\">20</td> <td class=\"cell-2\" style=\"\">http://news.nationalgeographic.com/etc/designs/platform/v2/images/logos/ng-black-logo.ngsversion.e2d5317d.png</td></tr>\n",
       "<tr><td class=\"cell-1\" style=\"text-align:right;\">20</td> <td class=\"cell-2\" style=\"\">http://1.1.1.1/bmi/news.nationalgeographic.com/etc/designs/platform/v2/images/logos/ng-black-logo.ngsversion.45ded159.png</td></tr>\n",
       "<tr><td class=\"cell-1\" style=\"text-align:right;\">19</td> <td class=\"cell-2\" style=\"\">http://91.68.209.8/bmi/www.nationalgeographic.com/etc/designs/platform/v2/images/logos/ng-black-logo.ngsversion.45ded159.png</td></tr>\n",
       "<tr><td class=\"cell-1\" style=\"text-align:right;\">16</td> <td class=\"cell-2\" style=\"\">http://1.1.1.3/bmi/www.nationalgeographic.com/etc/designs/platform/v2/images/logos/ng-black-logo.ngsversion.45ded159.png</td></tr>\n",
       "<tr><td class=\"cell-1\" style=\"text-align:right;\">15</td> <td class=\"cell-2\" style=\"\">http://www.nationalgeographic.com/etc/designs/platform/v2/images/logos/ng-black-logo.ngsversion.dafe07f7.png</td></tr>\n",
       "<tr><td class=\"cell-1\" style=\"text-align:right;\">13</td> <td class=\"cell-2\" style=\"\">http://91.68.209.8/bmi/news.nationalgeographic.com/etc/designs/platform/v2/images/logos/ng-black-logo.ngsversion.45ded159.png</td></tr>\n",
       "<tr><td class=\"cell-1\" style=\"text-align:right;\">13</td> <td class=\"cell-2\" style=\"\">http://1.1.1.1/bmi/www.nationalgeographic.com/etc/designs/platform/v2/images/logos/ng-black-logo.ngsversion.45ded159.png</td></tr>\n",
       "<tr><td class=\"cell-1\" style=\"text-align:right;\">13</td> <td class=\"cell-2\" style=\"\">http://news.nationalgeographic.com/etc/designs/platform/v2/images/logos/ng-black-logo.ngsversion.dafe07f7.png</td></tr>\n",
       "<tr><td class=\"cell-1\" style=\"text-align:right;\">12</td> <td class=\"cell-2\" style=\"\">http://1.1.1.3/bmi/news.nationalgeographic.com/etc/designs/platform/v2/images/logos/ng-black-logo.ngsversion.45ded159.png</td></tr>\n",
       "<tr><td class=\"cell-1\" style=\"text-align:right;\">12</td> <td class=\"cell-2\" style=\"\">http://news.nationalgeographic.com/etc/designs/platform/v2/images/logos/ng-black-logo.ngsversion.45ded567.png</td></tr>\n",
       "<tr><td class=\"cell-1\" style=\"text-align:right;\">8</td> <td class=\"cell-2\" style=\"\">http://news.nationalgeographic.com/etc/designs/platform/v2/images/logos/ng-black-logo.ngsversion.2fc3d452.png</td></tr>\n",
       "<tr><td class=\"cell-1\" style=\"text-align:right;\">7</td> <td class=\"cell-2\" style=\"\">http://www.nationalgeographic.com/etc/designs/platform/v2/images/logos/ng-black-logo.ngsversion.e2d5317d.png</td></tr>\n",
       "<tr><td class=\"cell-1\" style=\"text-align:right;\">6</td> <td class=\"cell-2\" style=\"\">http://news.nationalgeographic.com/etc/designs/platform/v2/images/logos/ng-black-logo.ngsversion.wfd98514.png</td></tr>\n",
       "<tr><td class=\"cell-1\" style=\"text-align:right;\">3</td> <td class=\"cell-2\" style=\"\">http://1.1.1.1/bmi/www.nationalgeographic.com/etc/designs/platform/v2/images/logos/ng-black-logo.ngsversion.93df43dc.png</td></tr>\n",
       "<tr><td class=\"cell-1\" style=\"text-align:right;\">3</td> <td class=\"cell-2\" style=\"\">http://91.68.209.10/bmi/www.nationalgeographic.com/etc/designs/platform/v2/images/logos/ng-black-logo.ngsversion.45ded159.png</td></tr>\n",
       "<tr><td class=\"cell-1\" style=\"text-align:right;\">3</td> <td class=\"cell-2\" style=\"\">http://news.nationalgeographic.com/etc/designs/platform/v2/images/logos/ng-black-logo.ngsversion.45ded10c.png</td></tr>\n",
       "<tr><td class=\"cell-1\" style=\"text-align:right;\">2</td> <td class=\"cell-2\" style=\"\">http://www.nationalgeographic.com/etc/designs/platform/v2/images/logos/ng-black-logo.ngsversion.wfd98514.png</td></tr>\n",
       "    </tbody>\n"
      ]
     },
     "metadata": {},
     "output_type": "display_data"
    }
   ],
   "source": [
    "resourceSummary(tableRt;linesOut=linesOutput)\n",
    ";"
   ]
  },
  {
   "cell_type": "code",
   "execution_count": 51,
   "metadata": {
    "collapsed": false,
    "input_collapsed": false
   },
   "outputs": [
    {
     "data": {
      "text/html": [
       "<div class=\"dswbOutputText\"><h1 class=\"chart_title\" style=\"color:#ccc\">Size Details For Resource Pattern %ng-black-logo%</h1><h3 class=\"chart_info\" style=\"color:#ccc\">April 21, 2017 23:59:00 to April 22, 2017 23:59:00 Local Time</h3></div>"
      ]
     },
     "metadata": {},
     "output_type": "display_data"
    },
    {
     "data": {
      "text/html": [
       "    <table  class=\"dataframe-table\">\n",
       "    <thead><tr><th class=\"cell-1\" style=\"\">count</th> <th class=\"cell-2\" style=\"\">encoded size</th> <th class=\"cell-3\" style=\"\">transferred size</th> <th class=\"cell-4\" style=\"\">decoded size</th> <th class=\"cell-5\" style=\"\">url</th></tr></thead>\n",
       "    <tbody>\n",
       "    <tr><td class=\"cell-1\" style=\"text-align:right;\">40,868</td> <td class=\"cell-2\" style=\"text-align:right;\">4,601</td> <td class=\"cell-3\" style=\"text-align:right;\">4,974</td> <td class=\"cell-4\" style=\"\">NA</td> <td class=\"cell-5\" style=\"\">http://news.nationalgeographic.com/etc/designs/platform/v2/images/logos/ng-black-logo.ngsversion.45ded159.png</td></tr>\n",
       "<tr><td class=\"cell-1\" style=\"text-align:right;\">36,421</td> <td class=\"cell-2\" style=\"text-align:right;\">4,601</td> <td class=\"cell-3\" style=\"text-align:right;\">5,006</td> <td class=\"cell-4\" style=\"\">NA</td> <td class=\"cell-5\" style=\"\">http://www.nationalgeographic.com/etc/designs/platform/v2/images/logos/ng-black-logo.ngsversion.45ded159.png</td></tr>\n",
       "<tr><td class=\"cell-1\" style=\"text-align:right;\">11,346</td> <td class=\"cell-2\" style=\"text-align:right;\">4,601</td> <td class=\"cell-3\" style=\"text-align:right;\">0</td> <td class=\"cell-4\" style=\"\">NA</td> <td class=\"cell-5\" style=\"\">http://www.nationalgeographic.com/etc/designs/platform/v2/images/logos/ng-black-logo.ngsversion.45ded159.png</td></tr>\n",
       "<tr><td class=\"cell-1\" style=\"text-align:right;\">11,334</td> <td class=\"cell-2\" style=\"text-align:right;\">4,601</td> <td class=\"cell-3\" style=\"text-align:right;\">0</td> <td class=\"cell-4\" style=\"\">NA</td> <td class=\"cell-5\" style=\"\">http://news.nationalgeographic.com/etc/designs/platform/v2/images/logos/ng-black-logo.ngsversion.45ded159.png</td></tr>\n",
       "<tr><td class=\"cell-1\" style=\"text-align:right;\">3,308</td> <td class=\"cell-2\" style=\"text-align:right;\">4,601</td> <td class=\"cell-3\" style=\"text-align:right;\">5,006</td> <td class=\"cell-4\" style=\"\">NA</td> <td class=\"cell-5\" style=\"\">http://www.nationalgeographic.com/etc/designs/platform/v2/images/logos/ng-black-logo.ngsversion.45ded567.png</td></tr>\n",
       "<tr><td class=\"cell-1\" style=\"text-align:right;\">2,111</td> <td class=\"cell-2\" style=\"text-align:right;\">4,601</td> <td class=\"cell-3\" style=\"text-align:right;\">5,006</td> <td class=\"cell-4\" style=\"\">NA</td> <td class=\"cell-5\" style=\"\">http://www.nationalgeographic.com/etc/designs/platform/v2/images/logos/ng-black-logo.ngsversion.2fc3d452.png</td></tr>\n",
       "<tr><td class=\"cell-1\" style=\"text-align:right;\">779</td> <td class=\"cell-2\" style=\"text-align:right;\">4,601</td> <td class=\"cell-3\" style=\"text-align:right;\">0</td> <td class=\"cell-4\" style=\"\">NA</td> <td class=\"cell-5\" style=\"\">http://www.nationalgeographic.com/etc/designs/platform/v2/images/logos/ng-black-logo.ngsversion.45ded567.png</td></tr>\n",
       "<tr><td class=\"cell-1\" style=\"text-align:right;\">459</td> <td class=\"cell-2\" style=\"text-align:right;\">4,601</td> <td class=\"cell-3\" style=\"text-align:right;\">0</td> <td class=\"cell-4\" style=\"\">NA</td> <td class=\"cell-5\" style=\"\">http://www.nationalgeographic.com/etc/designs/platform/v2/images/logos/ng-black-logo.ngsversion.2fc3d452.png</td></tr>\n",
       "<tr><td class=\"cell-1\" style=\"text-align:right;\">249</td> <td class=\"cell-2\" style=\"text-align:right;\">4,601</td> <td class=\"cell-3\" style=\"text-align:right;\">5,118</td> <td class=\"cell-4\" style=\"\">NA</td> <td class=\"cell-5\" style=\"\">http://news.nationalgeographic.com/etc/designs/platform/v2/images/logos/ng-black-logo.ngsversion.45ded159.png</td></tr>\n",
       "<tr><td class=\"cell-1\" style=\"text-align:right;\">184</td> <td class=\"cell-2\" style=\"text-align:right;\">4,601</td> <td class=\"cell-3\" style=\"text-align:right;\">5,152</td> <td class=\"cell-4\" style=\"\">NA</td> <td class=\"cell-5\" style=\"\">http://www.nationalgeographic.com/etc/designs/platform/v2/images/logos/ng-black-logo.ngsversion.45ded159.png</td></tr>\n",
       "<tr><td class=\"cell-1\" style=\"text-align:right;\">158</td> <td class=\"cell-2\" style=\"text-align:right;\">4,601</td> <td class=\"cell-3\" style=\"text-align:right;\">5,004</td> <td class=\"cell-4\" style=\"\">NA</td> <td class=\"cell-5\" style=\"\">http://www.nationalgeographic.com/etc/designs/platform/v2/images/logos/ng-black-logo.ngsversion.45ded159.png</td></tr>\n",
       "<tr><td class=\"cell-1\" style=\"text-align:right;\">120</td> <td class=\"cell-2\" style=\"text-align:right;\">4,601</td> <td class=\"cell-3\" style=\"text-align:right;\">4,950</td> <td class=\"cell-4\" style=\"\">NA</td> <td class=\"cell-5\" style=\"\">http://news.nationalgeographic.com/etc/designs/platform/v2/images/logos/ng-black-logo.ngsversion.45ded159.png</td></tr>\n",
       "<tr><td class=\"cell-1\" style=\"text-align:right;\">120</td> <td class=\"cell-2\" style=\"text-align:right;\">4,601</td> <td class=\"cell-3\" style=\"text-align:right;\">5,150</td> <td class=\"cell-4\" style=\"\">NA</td> <td class=\"cell-5\" style=\"\">http://www.nationalgeographic.com/etc/designs/platform/v2/images/logos/ng-black-logo.ngsversion.45ded159.png</td></tr>\n",
       "<tr><td class=\"cell-1\" style=\"text-align:right;\">102</td> <td class=\"cell-2\" style=\"text-align:right;\">4,601</td> <td class=\"cell-3\" style=\"text-align:right;\">4,973</td> <td class=\"cell-4\" style=\"\">NA</td> <td class=\"cell-5\" style=\"\">http://news.nationalgeographic.com/etc/designs/platform/v2/images/logos/ng-black-logo.ngsversion.45ded159.png</td></tr>\n",
       "<tr><td class=\"cell-1\" style=\"text-align:right;\">97</td> <td class=\"cell-2\" style=\"text-align:right;\">4,601</td> <td class=\"cell-3\" style=\"text-align:right;\">4,969</td> <td class=\"cell-4\" style=\"\">NA</td> <td class=\"cell-5\" style=\"\">http://news.nationalgeographic.com/etc/designs/platform/v2/images/logos/ng-black-logo.ngsversion.45ded159.png</td></tr>\n",
       "<tr><td class=\"cell-1\" style=\"text-align:right;\">92</td> <td class=\"cell-2\" style=\"text-align:right;\">4,601</td> <td class=\"cell-3\" style=\"text-align:right;\">5,001</td> <td class=\"cell-4\" style=\"\">NA</td> <td class=\"cell-5\" style=\"\">http://www.nationalgeographic.com/etc/designs/platform/v2/images/logos/ng-black-logo.ngsversion.45ded159.png</td></tr>\n",
       "<tr><td class=\"cell-1\" style=\"text-align:right;\">91</td> <td class=\"cell-2\" style=\"text-align:right;\">4,601</td> <td class=\"cell-3\" style=\"text-align:right;\">4,982</td> <td class=\"cell-4\" style=\"\">NA</td> <td class=\"cell-5\" style=\"\">http://www.nationalgeographic.com/etc/designs/platform/v2/images/logos/ng-black-logo.ngsversion.45ded159.png</td></tr>\n",
       "<tr><td class=\"cell-1\" style=\"text-align:right;\">87</td> <td class=\"cell-2\" style=\"text-align:right;\">4,601</td> <td class=\"cell-3\" style=\"text-align:right;\">8,941</td> <td class=\"cell-4\" style=\"\">NA</td> <td class=\"cell-5\" style=\"\">http://news.nationalgeographic.com/etc/designs/platform/v2/images/logos/ng-black-logo.ngsversion.45ded159.png</td></tr>\n",
       "<tr><td class=\"cell-1\" style=\"text-align:right;\">87</td> <td class=\"cell-2\" style=\"text-align:right;\">4,601</td> <td class=\"cell-3\" style=\"text-align:right;\">5,005</td> <td class=\"cell-4\" style=\"\">NA</td> <td class=\"cell-5\" style=\"\">http://www.nationalgeographic.com/etc/designs/platform/v2/images/logos/ng-black-logo.ngsversion.45ded159.png</td></tr>\n",
       "<tr><td class=\"cell-1\" style=\"text-align:right;\">86</td> <td class=\"cell-2\" style=\"text-align:right;\">4,601</td> <td class=\"cell-3\" style=\"text-align:right;\">5,019</td> <td class=\"cell-4\" style=\"\">NA</td> <td class=\"cell-5\" style=\"\">http://www.nationalgeographic.com/etc/designs/platform/v2/images/logos/ng-black-logo.ngsversion.45ded159.png</td></tr>\n",
       "<tr><td class=\"cell-1\" style=\"text-align:right;\">84</td> <td class=\"cell-2\" style=\"text-align:right;\">4,601</td> <td class=\"cell-3\" style=\"text-align:right;\">8,941</td> <td class=\"cell-4\" style=\"\">NA</td> <td class=\"cell-5\" style=\"\">http://www.nationalgeographic.com/etc/designs/platform/v2/images/logos/ng-black-logo.ngsversion.45ded159.png</td></tr>\n",
       "<tr><td class=\"cell-1\" style=\"text-align:right;\">84</td> <td class=\"cell-2\" style=\"text-align:right;\">4,601</td> <td class=\"cell-3\" style=\"text-align:right;\">4,972</td> <td class=\"cell-4\" style=\"\">NA</td> <td class=\"cell-5\" style=\"\">http://news.nationalgeographic.com/etc/designs/platform/v2/images/logos/ng-black-logo.ngsversion.45ded159.png</td></tr>\n",
       "<tr><td class=\"cell-1\" style=\"text-align:right;\">78</td> <td class=\"cell-2\" style=\"text-align:right;\">4,601</td> <td class=\"cell-3\" style=\"text-align:right;\">4,974</td> <td class=\"cell-4\" style=\"\">NA</td> <td class=\"cell-5\" style=\"\">http://news-staging.nationalgeographic.com/etc/designs/platform/v2/images/logos/ng-black-logo.ngsversion.87e22b4.png</td></tr>\n",
       "<tr><td class=\"cell-1\" style=\"text-align:right;\">78</td> <td class=\"cell-2\" style=\"text-align:right;\">4,601</td> <td class=\"cell-3\" style=\"text-align:right;\">5,006</td> <td class=\"cell-4\" style=\"\">NA</td> <td class=\"cell-5\" style=\"\">http://www-staging.nationalgeographic.com/etc/designs/platform/v2/images/logos/ng-black-logo.ngsversion.87e22b4.png</td></tr>\n",
       "<tr><td class=\"cell-1\" style=\"text-align:right;\">71</td> <td class=\"cell-2\" style=\"text-align:right;\">4,601</td> <td class=\"cell-3\" style=\"text-align:right;\">5,120</td> <td class=\"cell-4\" style=\"\">NA</td> <td class=\"cell-5\" style=\"\">http://news.nationalgeographic.com/etc/designs/platform/v2/images/logos/ng-black-logo.ngsversion.45ded159.png</td></tr>\n",
       "    </tbody>\n"
      ]
     },
     "metadata": {},
     "output_type": "display_data"
    },
    {
     "data": {
      "text/html": [
       "<div class=\"dswbOutputText\"><h1 class=\"chart_title\" style=\"color:#ccc\">Encoded Size Stats</h1><h3 class=\"chart_info\" style=\"color:#ccc\">April 21, 2017 23:59:00 to April 22, 2017 23:59:00 Local Time</h3></div>"
      ]
     },
     "metadata": {},
     "output_type": "display_data"
    },
    {
     "data": {
      "text/html": [
       "    <table  class=\"dataframe-table\">\n",
       "    <thead><tr><th class=\"cell-1\" style=\"\">Page Views</th> <th class=\"cell-2\" style=\"\">Mean(ms)</th> <th class=\"cell-3\" style=\"\">Median(ms)</th> <th class=\"cell-4\" style=\"\">Min(ms)</th> <th class=\"cell-5\" style=\"\">Max(ms)</th> <th class=\"cell-6\" style=\"\">25 Percentile</th> <th class=\"cell-7\" style=\"\">75 Percentile</th></tr></thead>\n",
       "    <tbody>\n",
       "    <tr><td class=\"cell-1\" style=\"text-align:right;\">677</td> <td class=\"cell-2\" style=\"text-align:right;\">5,209</td> <td class=\"cell-3\" style=\"text-align:right;\">4,601</td> <td class=\"cell-4\" style=\"text-align:right;\">3,076</td> <td class=\"cell-5\" style=\"text-align:right;\">48,984</td> <td class=\"cell-6\" style=\"text-align:right;\">4,601</td> <td class=\"cell-7\" style=\"text-align:right;\">4,601</td></tr>\n",
       "    </tbody>\n"
      ]
     },
     "metadata": {},
     "output_type": "display_data"
    },
    {
     "data": {
      "text/html": [
       "<div class=\"dswbOutputText\"><h1 class=\"chart_title\" style=\"color:#ccc\">Transferred Size Stats</h1><h3 class=\"chart_info\" style=\"color:#ccc\">April 21, 2017 23:59:00 to April 22, 2017 23:59:00 Local Time</h3></div>"
      ]
     },
     "metadata": {},
     "output_type": "display_data"
    },
    {
     "data": {
      "text/html": [
       "    <table  class=\"dataframe-table\">\n",
       "    <thead><tr><th class=\"cell-1\" style=\"\">Page Views</th> <th class=\"cell-2\" style=\"\">Mean(ms)</th> <th class=\"cell-3\" style=\"\">Median(ms)</th> <th class=\"cell-4\" style=\"\">Min(ms)</th> <th class=\"cell-5\" style=\"\">Max(ms)</th> <th class=\"cell-6\" style=\"\">25 Percentile</th> <th class=\"cell-7\" style=\"\">75 Percentile</th></tr></thead>\n",
       "    <tbody>\n",
       "    <tr><td class=\"cell-1\" style=\"text-align:right;\">677</td> <td class=\"cell-2\" style=\"text-align:right;\">5,376</td> <td class=\"cell-3\" style=\"text-align:right;\">5,078</td> <td class=\"cell-4\" style=\"text-align:right;\">0</td> <td class=\"cell-5\" style=\"text-align:right;\">49,448</td> <td class=\"cell-6\" style=\"text-align:right;\">5,009</td> <td class=\"cell-7\" style=\"text-align:right;\">5,154</td></tr>\n",
       "    </tbody>\n"
      ]
     },
     "metadata": {},
     "output_type": "display_data"
    }
   ],
   "source": [
    "resourceSize(tableRt;linesOut=linesOutput,minEncoded=minimumEncoded)\n",
    ";"
   ]
  },
  {
   "cell_type": "code",
   "execution_count": 52,
   "metadata": {
    "collapsed": false,
    "input_collapsed": false
   },
   "outputs": [
    {
     "data": {
      "text/html": [
       "<div class=\"dswbOutputText\"><h1 class=\"chart_title\" style=\"color:#ccc\">Screen Details For Resource Pattern %ng-black-logo%</h1><h3 class=\"chart_info\" style=\"color:#ccc\">April 21, 2017 23:59:00 to April 22, 2017 23:59:00 Local Time</h3></div>"
      ]
     },
     "metadata": {},
     "output_type": "display_data"
    },
    {
     "data": {
      "text/html": [
       "    <table  class=\"dataframe-table\">\n",
       "    <thead><tr><th class=\"cell-1\" style=\"\">count</th> <th class=\"cell-2\" style=\"\">initiator type</th> <th class=\"cell-3\" style=\"\">height</th> <th class=\"cell-4\" style=\"\">width</th> <th class=\"cell-5\" style=\"\">x</th> <th class=\"cell-6\" style=\"\">y</th> <th class=\"cell-7\" style=\"\">url</th></tr></thead>\n",
       "    <tbody>\n",
       "    <tr><td class=\"cell-1\" style=\"text-align:right;\">70,904</td> <td class=\"cell-2\" style=\"\">img</td> <td class=\"cell-3\" style=\"\">NA</td> <td class=\"cell-4\" style=\"\">NA</td> <td class=\"cell-5\" style=\"\">NA</td> <td class=\"cell-6\" style=\"\">NA</td> <td class=\"cell-7\" style=\"\">http://news.nationalgeographic.com/etc/designs/platform/v2/images/logos/ng-black-logo.ngsversion.45ded159.png</td></tr>\n",
       "<tr><td class=\"cell-1\" style=\"text-align:right;\">66,628</td> <td class=\"cell-2\" style=\"\">img</td> <td class=\"cell-3\" style=\"\">NA</td> <td class=\"cell-4\" style=\"\">NA</td> <td class=\"cell-5\" style=\"\">NA</td> <td class=\"cell-6\" style=\"\">NA</td> <td class=\"cell-7\" style=\"\">http://www.nationalgeographic.com/etc/designs/platform/v2/images/logos/ng-black-logo.ngsversion.45ded159.png</td></tr>\n",
       "<tr><td class=\"cell-1\" style=\"text-align:right;\">5,457</td> <td class=\"cell-2\" style=\"\">img</td> <td class=\"cell-3\" style=\"\">NA</td> <td class=\"cell-4\" style=\"\">NA</td> <td class=\"cell-5\" style=\"\">NA</td> <td class=\"cell-6\" style=\"\">NA</td> <td class=\"cell-7\" style=\"\">http://www.nationalgeographic.com/etc/designs/platform/v2/images/logos/ng-black-logo.ngsversion.45ded567.png</td></tr>\n",
       "<tr><td class=\"cell-1\" style=\"text-align:right;\">3,637</td> <td class=\"cell-2\" style=\"\">img</td> <td class=\"cell-3\" style=\"\">NA</td> <td class=\"cell-4\" style=\"\">NA</td> <td class=\"cell-5\" style=\"\">NA</td> <td class=\"cell-6\" style=\"\">NA</td> <td class=\"cell-7\" style=\"\">http://www.nationalgeographic.com/etc/designs/platform/v2/images/logos/ng-black-logo.ngsversion.2fc3d452.png</td></tr>\n",
       "<tr><td class=\"cell-1\" style=\"text-align:right;\">104</td> <td class=\"cell-2\" style=\"\">other</td> <td class=\"cell-3\" style=\"\">NA</td> <td class=\"cell-4\" style=\"\">NA</td> <td class=\"cell-5\" style=\"\">NA</td> <td class=\"cell-6\" style=\"\">NA</td> <td class=\"cell-7\" style=\"\">http://www.nationalgeographic.com/etc/designs/platform/v2/images/logos/ng-black-logo.ngsversion.45ded159.png</td></tr>\n",
       "<tr><td class=\"cell-1\" style=\"text-align:right;\">100</td> <td class=\"cell-2\" style=\"\">other</td> <td class=\"cell-3\" style=\"\">NA</td> <td class=\"cell-4\" style=\"\">NA</td> <td class=\"cell-5\" style=\"\">NA</td> <td class=\"cell-6\" style=\"\">NA</td> <td class=\"cell-7\" style=\"\">http://news.nationalgeographic.com/etc/designs/platform/v2/images/logos/ng-black-logo.ngsversion.45ded159.png</td></tr>\n",
       "<tr><td class=\"cell-1\" style=\"text-align:right;\">78</td> <td class=\"cell-2\" style=\"\">img</td> <td class=\"cell-3\" style=\"\">NA</td> <td class=\"cell-4\" style=\"\">NA</td> <td class=\"cell-5\" style=\"\">NA</td> <td class=\"cell-6\" style=\"\">NA</td> <td class=\"cell-7\" style=\"\">http://news-staging.nationalgeographic.com/etc/designs/platform/v2/images/logos/ng-black-logo.ngsversion.87e22b4.png</td></tr>\n",
       "<tr><td class=\"cell-1\" style=\"text-align:right;\">78</td> <td class=\"cell-2\" style=\"\">img</td> <td class=\"cell-3\" style=\"\">NA</td> <td class=\"cell-4\" style=\"\">NA</td> <td class=\"cell-5\" style=\"\">NA</td> <td class=\"cell-6\" style=\"\">NA</td> <td class=\"cell-7\" style=\"\">http://www-staging.nationalgeographic.com/etc/designs/platform/v2/images/logos/ng-black-logo.ngsversion.87e22b4.png</td></tr>\n",
       "<tr><td class=\"cell-1\" style=\"text-align:right;\">46</td> <td class=\"cell-2\" style=\"\">img</td> <td class=\"cell-3\" style=\"\">NA</td> <td class=\"cell-4\" style=\"\">NA</td> <td class=\"cell-5\" style=\"\">NA</td> <td class=\"cell-6\" style=\"\">NA</td> <td class=\"cell-7\" style=\"\">http://news.nationalgeographic.com/etc/designs/platform/v2/images/logos/ng-black-logo.ngsversion.93df43dc.png</td></tr>\n",
       "<tr><td class=\"cell-1\" style=\"text-align:right;\">35</td> <td class=\"cell-2\" style=\"\">img</td> <td class=\"cell-3\" style=\"\">NA</td> <td class=\"cell-4\" style=\"\">NA</td> <td class=\"cell-5\" style=\"\">NA</td> <td class=\"cell-6\" style=\"\">NA</td> <td class=\"cell-7\" style=\"\">http://www.nationalgeographic.com/etc/designs/platform/v2/images/logos/ng-black-logo.ngsversion.93df43dc.png</td></tr>\n",
       "<tr><td class=\"cell-1\" style=\"text-align:right;\">20</td> <td class=\"cell-2\" style=\"\">img</td> <td class=\"cell-3\" style=\"\">NA</td> <td class=\"cell-4\" style=\"\">NA</td> <td class=\"cell-5\" style=\"\">NA</td> <td class=\"cell-6\" style=\"\">NA</td> <td class=\"cell-7\" style=\"\">http://1.1.1.1/bmi/news.nationalgeographic.com/etc/designs/platform/v2/images/logos/ng-black-logo.ngsversion.45ded159.png</td></tr>\n",
       "<tr><td class=\"cell-1\" style=\"text-align:right;\">20</td> <td class=\"cell-2\" style=\"\">img</td> <td class=\"cell-3\" style=\"\">NA</td> <td class=\"cell-4\" style=\"\">NA</td> <td class=\"cell-5\" style=\"\">NA</td> <td class=\"cell-6\" style=\"\">NA</td> <td class=\"cell-7\" style=\"\">http://news.nationalgeographic.com/etc/designs/platform/v2/images/logos/ng-black-logo.ngsversion.e2d5317d.png</td></tr>\n",
       "<tr><td class=\"cell-1\" style=\"text-align:right;\">19</td> <td class=\"cell-2\" style=\"\">img</td> <td class=\"cell-3\" style=\"\">NA</td> <td class=\"cell-4\" style=\"\">NA</td> <td class=\"cell-5\" style=\"\">NA</td> <td class=\"cell-6\" style=\"\">NA</td> <td class=\"cell-7\" style=\"\">http://91.68.209.8/bmi/www.nationalgeographic.com/etc/designs/platform/v2/images/logos/ng-black-logo.ngsversion.45ded159.png</td></tr>\n",
       "<tr><td class=\"cell-1\" style=\"text-align:right;\">16</td> <td class=\"cell-2\" style=\"\">other</td> <td class=\"cell-3\" style=\"\">NA</td> <td class=\"cell-4\" style=\"\">NA</td> <td class=\"cell-5\" style=\"\">NA</td> <td class=\"cell-6\" style=\"\">NA</td> <td class=\"cell-7\" style=\"\">http://www.nationalgeographic.com/etc/designs/platform/v2/images/logos/ng-black-logo.ngsversion.45ded567.png</td></tr>\n",
       "<tr><td class=\"cell-1\" style=\"text-align:right;\">16</td> <td class=\"cell-2\" style=\"\">img</td> <td class=\"cell-3\" style=\"\">NA</td> <td class=\"cell-4\" style=\"\">NA</td> <td class=\"cell-5\" style=\"\">NA</td> <td class=\"cell-6\" style=\"\">NA</td> <td class=\"cell-7\" style=\"\">http://1.1.1.3/bmi/www.nationalgeographic.com/etc/designs/platform/v2/images/logos/ng-black-logo.ngsversion.45ded159.png</td></tr>\n",
       "<tr><td class=\"cell-1\" style=\"text-align:right;\">15</td> <td class=\"cell-2\" style=\"\">img</td> <td class=\"cell-3\" style=\"\">NA</td> <td class=\"cell-4\" style=\"\">NA</td> <td class=\"cell-5\" style=\"\">NA</td> <td class=\"cell-6\" style=\"\">NA</td> <td class=\"cell-7\" style=\"\">http://www.nationalgeographic.com/etc/designs/platform/v2/images/logos/ng-black-logo.ngsversion.dafe07f7.png</td></tr>\n",
       "<tr><td class=\"cell-1\" style=\"text-align:right;\">13</td> <td class=\"cell-2\" style=\"\">img</td> <td class=\"cell-3\" style=\"\">NA</td> <td class=\"cell-4\" style=\"\">NA</td> <td class=\"cell-5\" style=\"\">NA</td> <td class=\"cell-6\" style=\"\">NA</td> <td class=\"cell-7\" style=\"\">http://91.68.209.8/bmi/news.nationalgeographic.com/etc/designs/platform/v2/images/logos/ng-black-logo.ngsversion.45ded159.png</td></tr>\n",
       "<tr><td class=\"cell-1\" style=\"text-align:right;\">13</td> <td class=\"cell-2\" style=\"\">img</td> <td class=\"cell-3\" style=\"\">NA</td> <td class=\"cell-4\" style=\"\">NA</td> <td class=\"cell-5\" style=\"\">NA</td> <td class=\"cell-6\" style=\"\">NA</td> <td class=\"cell-7\" style=\"\">http://1.1.1.1/bmi/www.nationalgeographic.com/etc/designs/platform/v2/images/logos/ng-black-logo.ngsversion.45ded159.png</td></tr>\n",
       "<tr><td class=\"cell-1\" style=\"text-align:right;\">13</td> <td class=\"cell-2\" style=\"\">img</td> <td class=\"cell-3\" style=\"\">NA</td> <td class=\"cell-4\" style=\"\">NA</td> <td class=\"cell-5\" style=\"\">NA</td> <td class=\"cell-6\" style=\"\">NA</td> <td class=\"cell-7\" style=\"\">http://news.nationalgeographic.com/etc/designs/platform/v2/images/logos/ng-black-logo.ngsversion.dafe07f7.png</td></tr>\n",
       "<tr><td class=\"cell-1\" style=\"text-align:right;\">12</td> <td class=\"cell-2\" style=\"\">img</td> <td class=\"cell-3\" style=\"\">NA</td> <td class=\"cell-4\" style=\"\">NA</td> <td class=\"cell-5\" style=\"\">NA</td> <td class=\"cell-6\" style=\"\">NA</td> <td class=\"cell-7\" style=\"\">http://news.nationalgeographic.com/etc/designs/platform/v2/images/logos/ng-black-logo.ngsversion.45ded567.png</td></tr>\n",
       "<tr><td class=\"cell-1\" style=\"text-align:right;\">12</td> <td class=\"cell-2\" style=\"\">img</td> <td class=\"cell-3\" style=\"\">NA</td> <td class=\"cell-4\" style=\"\">NA</td> <td class=\"cell-5\" style=\"\">NA</td> <td class=\"cell-6\" style=\"\">NA</td> <td class=\"cell-7\" style=\"\">http://1.1.1.3/bmi/news.nationalgeographic.com/etc/designs/platform/v2/images/logos/ng-black-logo.ngsversion.45ded159.png</td></tr>\n",
       "<tr><td class=\"cell-1\" style=\"text-align:right;\">8</td> <td class=\"cell-2\" style=\"\">img</td> <td class=\"cell-3\" style=\"\">NA</td> <td class=\"cell-4\" style=\"\">NA</td> <td class=\"cell-5\" style=\"\">NA</td> <td class=\"cell-6\" style=\"\">NA</td> <td class=\"cell-7\" style=\"\">http://news.nationalgeographic.com/etc/designs/platform/v2/images/logos/ng-black-logo.ngsversion.2fc3d452.png</td></tr>\n",
       "<tr><td class=\"cell-1\" style=\"text-align:right;\">7</td> <td class=\"cell-2\" style=\"\">img</td> <td class=\"cell-3\" style=\"\">NA</td> <td class=\"cell-4\" style=\"\">NA</td> <td class=\"cell-5\" style=\"\">NA</td> <td class=\"cell-6\" style=\"\">NA</td> <td class=\"cell-7\" style=\"\">http://www.nationalgeographic.com/etc/designs/platform/v2/images/logos/ng-black-logo.ngsversion.e2d5317d.png</td></tr>\n",
       "<tr><td class=\"cell-1\" style=\"text-align:right;\">6</td> <td class=\"cell-2\" style=\"\">xmlhttprequest</td> <td class=\"cell-3\" style=\"\">NA</td> <td class=\"cell-4\" style=\"\">NA</td> <td class=\"cell-5\" style=\"\">NA</td> <td class=\"cell-6\" style=\"\">NA</td> <td class=\"cell-7\" style=\"\">http://news.nationalgeographic.com/etc/designs/platform/v2/images/logos/ng-black-logo.ngsversion.45ded159.png</td></tr>\n",
       "<tr><td class=\"cell-1\" style=\"text-align:right;\">6</td> <td class=\"cell-2\" style=\"\">img</td> <td class=\"cell-3\" style=\"text-align:right;\">160</td> <td class=\"cell-4\" style=\"text-align:right;\">542</td> <td class=\"cell-5\" style=\"text-align:right;\">8</td> <td class=\"cell-6\" style=\"text-align:right;\">162</td> <td class=\"cell-7\" style=\"\">http://www.nationalgeographic.com/etc/designs/platform/v2/images/logos/ng-black-logo.ngsversion.45ded159.png</td></tr>\n",
       "    </tbody>\n"
      ]
     },
     "metadata": {},
     "output_type": "display_data"
    }
   ],
   "source": [
    "resourceScreen(tableRt;linesOut=linesOutput)\n",
    ";"
   ]
  },
  {
   "cell_type": "code",
   "execution_count": 53,
   "metadata": {
    "collapsed": false,
    "input_collapsed": false,
    "scrolled": false
   },
   "outputs": [
    {
     "data": {
      "text/html": [
       "<div class=\"dswbOutputText\"><h1 class=\"chart_title\" style=\"color:#ccc\">Domain Url For Resource Pattern %ng-black-logo%</h1><h3 class=\"chart_info\" style=\"color:#ccc\">April 21, 2017 23:59:00 to April 22, 2017 23:59:00 Local Time</h3></div>"
      ]
     },
     "metadata": {},
     "output_type": "display_data"
    },
    {
     "data": {
      "text/html": [
       "    <table  class=\"dataframe-table\">\n",
       "    <thead><tr><th class=\"cell-1\" style=\"\">count</th> <th class=\"cell-2\" style=\"\">url</th> <th class=\"cell-3\" style=\"\">params u</th></tr></thead>\n",
       "    <tbody>\n",
       "    <tr><td class=\"cell-1\" style=\"text-align:right;\">7,247</td> <td class=\"cell-2\" style=\"\">http://www.nationalgeographic.com/etc/designs/platform/v2/images/logos/ng-black-logo.ngsversion.45ded159.png</td> <td class=\"cell-3\" style=\"\">http://www.nationalgeographic.com/photography/proof/2017/04/earth-day-pictures-wildlife/?utm_source=Facebook&utm_medium=Social&utm_content=link_fb20170421news-nicklengallery&utm_campaign&sf72178206=1</td></tr>\n",
       "<tr><td class=\"cell-1\" style=\"text-align:right;\">5,237</td> <td class=\"cell-2\" style=\"\">http://news.nationalgeographic.com/etc/designs/platform/v2/images/logos/ng-black-logo.ngsversion.45ded159.png</td> <td class=\"cell-3\" style=\"\">http://news.nationalgeographic.com/2017/04/science-march-einstein-fbi-genius-science/</td></tr>\n",
       "<tr><td class=\"cell-1\" style=\"text-align:right;\">4,229</td> <td class=\"cell-2\" style=\"\">http://www.nationalgeographic.com/etc/designs/platform/v2/images/logos/ng-black-logo.ngsversion.45ded159.png</td> <td class=\"cell-3\" style=\"\">http://www.nationalgeographic.com/photography/photo-of-the-day/2017/04/petite-terre-aerial/</td></tr>\n",
       "<tr><td class=\"cell-1\" style=\"text-align:right;\">4,015</td> <td class=\"cell-2\" style=\"\">http://news.nationalgeographic.com/etc/designs/platform/v2/images/logos/ng-black-logo.ngsversion.45ded159.png</td> <td class=\"cell-3\" style=\"\">http://news.nationalgeographic.com/2017/04/michelangelo-secret-room-pictures-genius/?utm_source=Facebook&utm_medium=Social&utm_content=link_fb20170421news-michelangelo&utm_campaign&sf72250929=1</td></tr>\n",
       "<tr><td class=\"cell-1\" style=\"text-align:right;\">3,932</td> <td class=\"cell-2\" style=\"\">http://www.nationalgeographic.com/etc/designs/platform/v2/images/logos/ng-black-logo.ngsversion.45ded159.png</td> <td class=\"cell-3\" style=\"\">http://www.nationalgeographic.com/magazine/2017/05/genius-genetics-intelligence-neuroscience-creativity-einstein/</td></tr>\n",
       "<tr><td class=\"cell-1\" style=\"text-align:right;\">2,728</td> <td class=\"cell-2\" style=\"\">http://news.nationalgeographic.com/etc/designs/platform/v2/images/logos/ng-black-logo.ngsversion.45ded159.png</td> <td class=\"cell-3\" style=\"\">http://news.nationalgeographic.com/2017/04/michelangelo-secret-room-pictures-genius/</td></tr>\n",
       "<tr><td class=\"cell-1\" style=\"text-align:right;\">2,504</td> <td class=\"cell-2\" style=\"\">http://news.nationalgeographic.com/etc/designs/platform/v2/images/logos/ng-black-logo.ngsversion.45ded159.png</td> <td class=\"cell-3\" style=\"\">http://news.nationalgeographic.com/2017/04/blue-whale-krill-feeding-habits-drone-video/</td></tr>\n",
       "<tr><td class=\"cell-1\" style=\"text-align:right;\">1,854</td> <td class=\"cell-2\" style=\"\">http://www.nationalgeographic.com/etc/designs/platform/v2/images/logos/ng-black-logo.ngsversion.45ded159.png</td> <td class=\"cell-3\" style=\"\">http://www.nationalgeographic.com/magazine/2017/04/evolution-genetics-medicine-brain-technology-cyborg/</td></tr>\n",
       "<tr><td class=\"cell-1\" style=\"text-align:right;\">1,420</td> <td class=\"cell-2\" style=\"\">http://news.nationalgeographic.com/etc/designs/platform/v2/images/logos/ng-black-logo.ngsversion.45ded159.png</td> <td class=\"cell-3\" style=\"\">http://news.nationalgeographic.com/2015/09/150909-queen-elizabeth-monarchy-record-pictures-photos-england/?utm_source=Facebook&utm_medium=Social&utm_content=link_fb20170420news-queenelizabeth&utm_campaign&sf71964640=1</td></tr>\n",
       "<tr><td class=\"cell-1\" style=\"text-align:right;\">1,391</td> <td class=\"cell-2\" style=\"\">http://www.nationalgeographic.com/etc/designs/platform/v2/images/logos/ng-black-logo.ngsversion.45ded159.png</td> <td class=\"cell-3\" style=\"\">http://www.nationalgeographic.com/magazine/2017/05/genius-genetics-intelligence-neuroscience-creativity-einstein/?utm_source=digg&utm_medium=email</td></tr>\n",
       "<tr><td class=\"cell-1\" style=\"text-align:right;\">1,370</td> <td class=\"cell-2\" style=\"\">http://news.nationalgeographic.com/etc/designs/platform/v2/images/logos/ng-black-logo.ngsversion.45ded159.png</td> <td class=\"cell-3\" style=\"\">http://news.nationalgeographic.com/2017/04/spiders-snakes-shedding-skins/</td></tr>\n",
       "<tr><td class=\"cell-1\" style=\"text-align:right;\">1,259</td> <td class=\"cell-2\" style=\"\">http://www.nationalgeographic.com/etc/designs/platform/v2/images/logos/ng-black-logo.ngsversion.45ded567.png</td> <td class=\"cell-3\" style=\"\">http://www.nationalgeographic.com/magazine/2013/09/rising-seas-ice-melt-new-shoreline-maps-b/</td></tr>\n",
       "<tr><td class=\"cell-1\" style=\"text-align:right;\">1,247</td> <td class=\"cell-2\" style=\"\">http://news.nationalgeographic.com/etc/designs/platform/v2/images/logos/ng-black-logo.ngsversion.45ded159.png</td> <td class=\"cell-3\" style=\"\">http://news.nationalgeographic.com/2017/04/michelangelo-secret-room-pictures-genius/?utm_source=Facebook&utm_medium=Social&utm_content=link_fbp20170421news-michaelangelo&utm_campaign=Content&sf72239217=1</td></tr>\n",
       "<tr><td class=\"cell-1\" style=\"text-align:right;\">1,219</td> <td class=\"cell-2\" style=\"\">http://news.nationalgeographic.com/etc/designs/platform/v2/images/logos/ng-black-logo.ngsversion.45ded159.png</td> <td class=\"cell-3\" style=\"\">http://news.nationalgeographic.com/2017/04/science-march-funding-technology-genius/</td></tr>\n",
       "<tr><td class=\"cell-1\" style=\"text-align:right;\">1,032</td> <td class=\"cell-2\" style=\"\">http://news.nationalgeographic.com/etc/designs/platform/v2/images/logos/ng-black-logo.ngsversion.45ded159.png</td> <td class=\"cell-3\" style=\"\">http://news.nationalgeographic.com/2017/04/china-great-green-wall-gobi-tengger-desertification/</td></tr>\n",
       "<tr><td class=\"cell-1\" style=\"text-align:right;\">1,016</td> <td class=\"cell-2\" style=\"\">http://news.nationalgeographic.com/etc/designs/platform/v2/images/logos/ng-black-logo.ngsversion.45ded159.png</td> <td class=\"cell-3\" style=\"\">http://news.nationalgeographic.com/2017/04/london-national-park-greenspace-urban-conservation/?utm_source=Facebook&utm_medium=Social&utm_content=link_fb20170421news-londonpark&utm_campaign&sf72177055=1</td></tr>\n",
       "<tr><td class=\"cell-1\" style=\"text-align:right;\">941</td> <td class=\"cell-2\" style=\"\">http://www.nationalgeographic.com/etc/designs/platform/v2/images/logos/ng-black-logo.ngsversion.45ded159.png</td> <td class=\"cell-3\" style=\"\">http://www.nationalgeographic.com/photography/proof/2017/04/earth-day-pictures-wildlife/</td></tr>\n",
       "<tr><td class=\"cell-1\" style=\"text-align:right;\">907</td> <td class=\"cell-2\" style=\"\">http://www.nationalgeographic.com/etc/designs/platform/v2/images/logos/ng-black-logo.ngsversion.45ded159.png</td> <td class=\"cell-3\" style=\"\">http://www.nationalgeographic.com/magazine/2017/05/genius-genetics-intelligence-neuroscience-creativity-einstein/?utm_source=Facebook&utm_medium=Social&utm_content=link_fbp20170421ngm-geniuscover&utm_campaign=Content&sf72272221=1</td></tr>\n",
       "<tr><td class=\"cell-1\" style=\"text-align:right;\">894</td> <td class=\"cell-2\" style=\"\">http://www.nationalgeographic.com/etc/designs/platform/v2/images/logos/ng-black-logo.ngsversion.45ded159.png</td> <td class=\"cell-3\" style=\"\">http://www.nationalgeographic.com/travel/features/travel-photo-contest-past-winners/?utm_source=Facebook&utm_medium=Social&utm_content=link_fb20170421travel-tpcyearspast&utm_campaign&sf72148925=1</td></tr>\n",
       "<tr><td class=\"cell-1\" style=\"text-align:right;\">879</td> <td class=\"cell-2\" style=\"\">http://news.nationalgeographic.com/etc/designs/platform/v2/images/logos/ng-black-logo.ngsversion.45ded159.png</td> <td class=\"cell-3\" style=\"\">http://news.nationalgeographic.com/2015/08/150818-spiders-animals-science-flying-forests/</td></tr>\n",
       "<tr><td class=\"cell-1\" style=\"text-align:right;\">852</td> <td class=\"cell-2\" style=\"\">http://www.nationalgeographic.com/etc/designs/platform/v2/images/logos/ng-black-logo.ngsversion.45ded567.png</td> <td class=\"cell-3\" style=\"\">http://www.nationalgeographic.com/magazine/2013/09/rising-seas-ice-melt-new-shoreline-maps/</td></tr>\n",
       "<tr><td class=\"cell-1\" style=\"text-align:right;\">823</td> <td class=\"cell-2\" style=\"\">http://news.nationalgeographic.com/etc/designs/platform/v2/images/logos/ng-black-logo.ngsversion.45ded159.png</td> <td class=\"cell-3\" style=\"\">http://news.nationalgeographic.com/2017/04/blue-whale-krill-feeding-habits-drone-video/?utm_source=Twitter&utm_medium=Social&utm_content=link_tw20170422news-bluewhale&utm_campaign&sf72322300=1</td></tr>\n",
       "<tr><td class=\"cell-1\" style=\"text-align:right;\">801</td> <td class=\"cell-2\" style=\"\">http://news.nationalgeographic.com/etc/designs/platform/v2/images/logos/ng-black-logo.ngsversion.45ded159.png</td> <td class=\"cell-3\" style=\"\">http://news.nationalgeographic.com/2017/04/china-great-green-wall-gobi-tengger-desertification/?google_editors_picks=true</td></tr>\n",
       "<tr><td class=\"cell-1\" style=\"text-align:right;\">758</td> <td class=\"cell-2\" style=\"\">http://www.nationalgeographic.com/etc/designs/platform/v2/images/logos/ng-black-logo.ngsversion.45ded159.png</td> <td class=\"cell-3\" style=\"\">http://www.nationalgeographic.com/animals/mammals/g/giraffe/</td></tr>\n",
       "<tr><td class=\"cell-1\" style=\"text-align:right;\">738</td> <td class=\"cell-2\" style=\"\">http://news.nationalgeographic.com/etc/designs/platform/v2/images/logos/ng-black-logo.ngsversion.45ded159.png</td> <td class=\"cell-3\" style=\"\">http://news.nationalgeographic.com/2017/04/monks-sustainable-holy-cross-abbey/</td></tr>\n",
       "    </tbody>\n"
      ]
     },
     "metadata": {},
     "output_type": "display_data"
    }
   ],
   "source": [
    "resourceSummaryDomainUrl(tableRt;linesOut=linesOutput)\n",
    ";\n"
   ]
  },
  {
   "cell_type": "code",
   "execution_count": null,
   "metadata": {
    "collapsed": false,
    "input_collapsed": false,
    "scrolled": false
   },
   "outputs": [],
   "source": []
  },
  {
   "cell_type": "code",
   "execution_count": 54,
   "metadata": {
    "collapsed": false,
    "input_collapsed": false,
    "scrolled": false
   },
   "outputs": [
    {
     "data": {
      "text/plain": [
       "resourceTime1 (generic function with 1 method)"
      ]
     },
     "execution_count": 54,
     "metadata": {},
     "output_type": "execute_result"
    }
   ],
   "source": [
    "function resourceTime1(tableRt::ASCIIString;linesOut::Int64=25)\n",
    "    \n",
    "    try\n",
    "        joinTables = query(\"\"\"\\\n",
    "        select \n",
    "        count(*),\n",
    "        avg(start_time) as \"Start Time\",\n",
    "        avg(fetch_start) as \"Fetch Start\",\n",
    "        avg(dns_end-dns_start) as \"DNS ms\",\n",
    "        avg(tcp_connection_end-tcp_connection_start) as \"TCP ms\",\n",
    "        avg(request_start) as \"Req Start\",\n",
    "        avg(response_first_byte) as \"Req FB\",\t\n",
    "        avg(response_last_byte) as \"Req LB\",\n",
    "        max(response_last_byte) as \"Max Req LB\",\n",
    "        url,\n",
    "        avg(redirect_start) as \"Redirect Start\",\n",
    "        avg(redirect_end) as \"Redirect End\",\n",
    "        avg(secure_connection_start) as \"Secure Conn Start\"\n",
    "        from $tableRt\n",
    "        where \n",
    "          url ilike '$resourceUrl' and\n",
    "          \"timestamp\" between $(TV.startTimeMsUTC) and $(TV.endTimeMsUTC)\n",
    "        group by url\n",
    "        order by count(*) desc\n",
    "        \"\"\");\n",
    "\n",
    "        displayTitle(chart_title = \"Raw Resource Url Pattern $(resourceUrl)\", chart_info = [TV.timeString], showTimeStamp=false)\n",
    "        #scrubUrlToPrint(joinTables,limit=150)\n",
    "        beautifyDF(joinTables[1:min(linesOut,end),:])\n",
    "    catch y\n",
    "        println(\"bigTable5 Exception \",y)\n",
    "    end\n",
    "end \n"
   ]
  },
  {
   "cell_type": "code",
   "execution_count": 55,
   "metadata": {
    "collapsed": false,
    "input_collapsed": false,
    "scrolled": false
   },
   "outputs": [
    {
     "data": {
      "text/html": [
       "<div class=\"dswbOutputText\"><h1 class=\"chart_title\" style=\"color:#ccc\">Raw Resource Url Pattern %ng-black-logo%</h1><h3 class=\"chart_info\" style=\"color:#ccc\">April 21, 2017 23:59:00 to April 22, 2017 23:59:00 Local Time</h3></div>"
      ]
     },
     "metadata": {},
     "output_type": "display_data"
    },
    {
     "data": {
      "text/html": [
       "    <table  class=\"dataframe-table\">\n",
       "    <thead><tr><th class=\"cell-1\" style=\"\">count</th> <th class=\"cell-2\" style=\"\">start time</th> <th class=\"cell-3\" style=\"\">fetch start</th> <th class=\"cell-4\" style=\"\">dns ms</th> <th class=\"cell-5\" style=\"\">tcp ms</th> <th class=\"cell-6\" style=\"\">req start</th> <th class=\"cell-7\" style=\"\">req fb</th> <th class=\"cell-8\" style=\"\">req lb</th> <th class=\"cell-9\" style=\"\">max req lb</th> <th class=\"cell-10\" style=\"\">url</th> <th class=\"cell-11\" style=\"\">redirect start</th> <th class=\"cell-12\" style=\"\">redirect end</th> <th class=\"cell-13\" style=\"\">secure conn start</th></tr></thead>\n",
       "    <tbody>\n",
       "    <tr><td class=\"cell-1\" style=\"text-align:right;\">71,024</td> <td class=\"cell-2\" style=\"text-align:right;\">2,843</td> <td class=\"cell-3\" style=\"text-align:right;\">2,843</td> <td class=\"cell-4\" style=\"text-align:right;\">27</td> <td class=\"cell-5\" style=\"text-align:right;\">5</td> <td class=\"cell-6\" style=\"text-align:right;\">1,427</td> <td class=\"cell-7\" style=\"text-align:right;\">1,532</td> <td class=\"cell-8\" style=\"text-align:right;\">2,441</td> <td class=\"cell-9\" style=\"text-align:right;\">15,528,998</td> <td class=\"cell-10\" style=\"\">http://news.nationalgeographic.com/etc/designs/platform/v2/images/logos/ng-black-logo.ngsversion.45ded159.png</td> <td class=\"cell-11\" style=\"text-align:right;\">2</td> <td class=\"cell-12\" style=\"text-align:right;\">5</td> <td class=\"cell-13\" style=\"text-align:right;\">0</td></tr>\n",
       "<tr><td class=\"cell-1\" style=\"text-align:right;\">66,759</td> <td class=\"cell-2\" style=\"text-align:right;\">2,547</td> <td class=\"cell-3\" style=\"text-align:right;\">2,546</td> <td class=\"cell-4\" style=\"text-align:right;\">29</td> <td class=\"cell-5\" style=\"text-align:right;\">7</td> <td class=\"cell-6\" style=\"text-align:right;\">1,695</td> <td class=\"cell-7\" style=\"text-align:right;\">1,841</td> <td class=\"cell-8\" style=\"text-align:right;\">44,123,147</td> <td class=\"cell-9\" style=\"text-align:right;\">1,472,739,268,481</td> <td class=\"cell-10\" style=\"\">http://www.nationalgeographic.com/etc/designs/platform/v2/images/logos/ng-black-logo.ngsversion.45ded159.png</td> <td class=\"cell-11\" style=\"text-align:right;\">3</td> <td class=\"cell-12\" style=\"text-align:right;\">5</td> <td class=\"cell-13\" style=\"text-align:right;\">0</td></tr>\n",
       "<tr><td class=\"cell-1\" style=\"text-align:right;\">5,474</td> <td class=\"cell-2\" style=\"text-align:right;\">1,114</td> <td class=\"cell-3\" style=\"text-align:right;\">1,114</td> <td class=\"cell-4\" style=\"text-align:right;\">24</td> <td class=\"cell-5\" style=\"text-align:right;\">5</td> <td class=\"cell-6\" style=\"text-align:right;\">1,467</td> <td class=\"cell-7\" style=\"text-align:right;\">1,592</td> <td class=\"cell-8\" style=\"text-align:right;\">2,005</td> <td class=\"cell-9\" style=\"text-align:right;\">1,313,612</td> <td class=\"cell-10\" style=\"\">http://www.nationalgeographic.com/etc/designs/platform/v2/images/logos/ng-black-logo.ngsversion.45ded567.png</td> <td class=\"cell-11\" style=\"text-align:right;\">1</td> <td class=\"cell-12\" style=\"text-align:right;\">2</td> <td class=\"cell-13\" style=\"text-align:right;\">0</td></tr>\n",
       "<tr><td class=\"cell-1\" style=\"text-align:right;\">3,643</td> <td class=\"cell-2\" style=\"text-align:right;\">1,031</td> <td class=\"cell-3\" style=\"text-align:right;\">1,029</td> <td class=\"cell-4\" style=\"text-align:right;\">16</td> <td class=\"cell-5\" style=\"text-align:right;\">5</td> <td class=\"cell-6\" style=\"text-align:right;\">1,366</td> <td class=\"cell-7\" style=\"text-align:right;\">1,507</td> <td class=\"cell-8\" style=\"text-align:right;\">1,705</td> <td class=\"cell-9\" style=\"text-align:right;\">496,873</td> <td class=\"cell-10\" style=\"\">http://www.nationalgeographic.com/etc/designs/platform/v2/images/logos/ng-black-logo.ngsversion.2fc3d452.png</td> <td class=\"cell-11\" style=\"text-align:right;\">2</td> <td class=\"cell-12\" style=\"text-align:right;\">3</td> <td class=\"cell-13\" style=\"text-align:right;\">0</td></tr>\n",
       "<tr><td class=\"cell-1\" style=\"text-align:right;\">78</td> <td class=\"cell-2\" style=\"text-align:right;\">479</td> <td class=\"cell-3\" style=\"text-align:right;\">479</td> <td class=\"cell-4\" style=\"text-align:right;\">0</td> <td class=\"cell-5\" style=\"text-align:right;\">0</td> <td class=\"cell-6\" style=\"text-align:right;\">508</td> <td class=\"cell-7\" style=\"text-align:right;\">513</td> <td class=\"cell-8\" style=\"text-align:right;\">513</td> <td class=\"cell-9\" style=\"text-align:right;\">3,754</td> <td class=\"cell-10\" style=\"\">http://news-staging.nationalgeographic.com/etc/designs/platform/v2/images/logos/ng-black-logo.ngsversion.87e22b4.png</td> <td class=\"cell-11\" style=\"text-align:right;\">0</td> <td class=\"cell-12\" style=\"text-align:right;\">0</td> <td class=\"cell-13\" style=\"text-align:right;\">0</td></tr>\n",
       "<tr><td class=\"cell-1\" style=\"text-align:right;\">78</td> <td class=\"cell-2\" style=\"text-align:right;\">415</td> <td class=\"cell-3\" style=\"text-align:right;\">415</td> <td class=\"cell-4\" style=\"text-align:right;\">0</td> <td class=\"cell-5\" style=\"text-align:right;\">0</td> <td class=\"cell-6\" style=\"text-align:right;\">466</td> <td class=\"cell-7\" style=\"text-align:right;\">484</td> <td class=\"cell-8\" style=\"text-align:right;\">484</td> <td class=\"cell-9\" style=\"text-align:right;\">1,187</td> <td class=\"cell-10\" style=\"\">http://www-staging.nationalgeographic.com/etc/designs/platform/v2/images/logos/ng-black-logo.ngsversion.87e22b4.png</td> <td class=\"cell-11\" style=\"text-align:right;\">0</td> <td class=\"cell-12\" style=\"text-align:right;\">0</td> <td class=\"cell-13\" style=\"text-align:right;\">0</td></tr>\n",
       "<tr><td class=\"cell-1\" style=\"text-align:right;\">46</td> <td class=\"cell-2\" style=\"text-align:right;\">512</td> <td class=\"cell-3\" style=\"text-align:right;\">512</td> <td class=\"cell-4\" style=\"text-align:right;\">0</td> <td class=\"cell-5\" style=\"text-align:right;\">0</td> <td class=\"cell-6\" style=\"text-align:right;\">504</td> <td class=\"cell-7\" style=\"text-align:right;\">783</td> <td class=\"cell-8\" style=\"text-align:right;\">937</td> <td class=\"cell-9\" style=\"text-align:right;\">17,268</td> <td class=\"cell-10\" style=\"\">http://news.nationalgeographic.com/etc/designs/platform/v2/images/logos/ng-black-logo.ngsversion.93df43dc.png</td> <td class=\"cell-11\" style=\"text-align:right;\">0</td> <td class=\"cell-12\" style=\"text-align:right;\">0</td> <td class=\"cell-13\" style=\"text-align:right;\">0</td></tr>\n",
       "<tr><td class=\"cell-1\" style=\"text-align:right;\">35</td> <td class=\"cell-2\" style=\"text-align:right;\">1,216</td> <td class=\"cell-3\" style=\"text-align:right;\">1,216</td> <td class=\"cell-4\" style=\"text-align:right;\">0</td> <td class=\"cell-5\" style=\"text-align:right;\">0</td> <td class=\"cell-6\" style=\"text-align:right;\">1,470</td> <td class=\"cell-7\" style=\"text-align:right;\">2,178</td> <td class=\"cell-8\" style=\"text-align:right;\">2,497</td> <td class=\"cell-9\" style=\"text-align:right;\">40,711</td> <td class=\"cell-10\" style=\"\">http://www.nationalgeographic.com/etc/designs/platform/v2/images/logos/ng-black-logo.ngsversion.93df43dc.png</td> <td class=\"cell-11\" style=\"text-align:right;\">0</td> <td class=\"cell-12\" style=\"text-align:right;\">0</td> <td class=\"cell-13\" style=\"text-align:right;\">0</td></tr>\n",
       "<tr><td class=\"cell-1\" style=\"text-align:right;\">20</td> <td class=\"cell-2\" style=\"text-align:right;\">375</td> <td class=\"cell-3\" style=\"text-align:right;\">375</td> <td class=\"cell-4\" style=\"text-align:right;\">0</td> <td class=\"cell-5\" style=\"text-align:right;\">0</td> <td class=\"cell-6\" style=\"text-align:right;\">319</td> <td class=\"cell-7\" style=\"text-align:right;\">346</td> <td class=\"cell-8\" style=\"text-align:right;\">69,151</td> <td class=\"cell-9\" style=\"text-align:right;\">1,375,836</td> <td class=\"cell-10\" style=\"\">http://news.nationalgeographic.com/etc/designs/platform/v2/images/logos/ng-black-logo.ngsversion.e2d5317d.png</td> <td class=\"cell-11\" style=\"text-align:right;\">0</td> <td class=\"cell-12\" style=\"text-align:right;\">0</td> <td class=\"cell-13\" style=\"text-align:right;\">0</td></tr>\n",
       "<tr><td class=\"cell-1\" style=\"text-align:right;\">20</td> <td class=\"cell-2\" style=\"text-align:right;\">1,579</td> <td class=\"cell-3\" style=\"text-align:right;\">1,579</td> <td class=\"cell-4\" style=\"text-align:right;\">0</td> <td class=\"cell-5\" style=\"text-align:right;\">0</td> <td class=\"cell-6\" style=\"text-align:right;\">119</td> <td class=\"cell-7\" style=\"text-align:right;\">132</td> <td class=\"cell-8\" style=\"text-align:right;\">2,098</td> <td class=\"cell-9\" style=\"text-align:right;\">12,301</td> <td class=\"cell-10\" style=\"\">http://1.1.1.1/bmi/news.nationalgeographic.com/etc/designs/platform/v2/images/logos/ng-black-logo.ngsversion.45ded159.png</td> <td class=\"cell-11\" style=\"text-align:right;\">0</td> <td class=\"cell-12\" style=\"text-align:right;\">0</td> <td class=\"cell-13\" style=\"text-align:right;\">0</td></tr>\n",
       "<tr><td class=\"cell-1\" style=\"text-align:right;\">19</td> <td class=\"cell-2\" style=\"text-align:right;\">1,476</td> <td class=\"cell-3\" style=\"text-align:right;\">1,476</td> <td class=\"cell-4\" style=\"text-align:right;\">0</td> <td class=\"cell-5\" style=\"text-align:right;\">0</td> <td class=\"cell-6\" style=\"text-align:right;\">88</td> <td class=\"cell-7\" style=\"text-align:right;\">95</td> <td class=\"cell-8\" style=\"text-align:right;\">1,786</td> <td class=\"cell-9\" style=\"text-align:right;\">4,432</td> <td class=\"cell-10\" style=\"\">http://91.68.209.8/bmi/www.nationalgeographic.com/etc/designs/platform/v2/images/logos/ng-black-logo.ngsversion.45ded159.png</td> <td class=\"cell-11\" style=\"text-align:right;\">0</td> <td class=\"cell-12\" style=\"text-align:right;\">0</td> <td class=\"cell-13\" style=\"text-align:right;\">0</td></tr>\n",
       "<tr><td class=\"cell-1\" style=\"text-align:right;\">16</td> <td class=\"cell-2\" style=\"text-align:right;\">992</td> <td class=\"cell-3\" style=\"text-align:right;\">992</td> <td class=\"cell-4\" style=\"text-align:right;\">0</td> <td class=\"cell-5\" style=\"text-align:right;\">0</td> <td class=\"cell-6\" style=\"text-align:right;\">99</td> <td class=\"cell-7\" style=\"text-align:right;\">388</td> <td class=\"cell-8\" style=\"text-align:right;\">1,965</td> <td class=\"cell-9\" style=\"text-align:right;\">6,220</td> <td class=\"cell-10\" style=\"\">http://1.1.1.3/bmi/www.nationalgeographic.com/etc/designs/platform/v2/images/logos/ng-black-logo.ngsversion.45ded159.png</td> <td class=\"cell-11\" style=\"text-align:right;\">0</td> <td class=\"cell-12\" style=\"text-align:right;\">0</td> <td class=\"cell-13\" style=\"text-align:right;\">0</td></tr>\n",
       "<tr><td class=\"cell-1\" style=\"text-align:right;\">15</td> <td class=\"cell-2\" style=\"text-align:right;\">1,167</td> <td class=\"cell-3\" style=\"text-align:right;\">1,167</td> <td class=\"cell-4\" style=\"text-align:right;\">0</td> <td class=\"cell-5\" style=\"text-align:right;\">15</td> <td class=\"cell-6\" style=\"text-align:right;\">1,109</td> <td class=\"cell-7\" style=\"text-align:right;\">1,573</td> <td class=\"cell-8\" style=\"text-align:right;\">1,784</td> <td class=\"cell-9\" style=\"text-align:right;\">7,814</td> <td class=\"cell-10\" style=\"\">http://www.nationalgeographic.com/etc/designs/platform/v2/images/logos/ng-black-logo.ngsversion.dafe07f7.png</td> <td class=\"cell-11\" style=\"text-align:right;\">0</td> <td class=\"cell-12\" style=\"text-align:right;\">0</td> <td class=\"cell-13\" style=\"text-align:right;\">0</td></tr>\n",
       "<tr><td class=\"cell-1\" style=\"text-align:right;\">13</td> <td class=\"cell-2\" style=\"text-align:right;\">1,492</td> <td class=\"cell-3\" style=\"text-align:right;\">1,492</td> <td class=\"cell-4\" style=\"text-align:right;\">0</td> <td class=\"cell-5\" style=\"text-align:right;\">0</td> <td class=\"cell-6\" style=\"text-align:right;\">0</td> <td class=\"cell-7\" style=\"text-align:right;\">0</td> <td class=\"cell-8\" style=\"text-align:right;\">1,911</td> <td class=\"cell-9\" style=\"text-align:right;\">5,085</td> <td class=\"cell-10\" style=\"\">http://91.68.209.8/bmi/news.nationalgeographic.com/etc/designs/platform/v2/images/logos/ng-black-logo.ngsversion.45ded159.png</td> <td class=\"cell-11\" style=\"text-align:right;\">0</td> <td class=\"cell-12\" style=\"text-align:right;\">0</td> <td class=\"cell-13\" style=\"text-align:right;\">0</td></tr>\n",
       "<tr><td class=\"cell-1\" style=\"text-align:right;\">13</td> <td class=\"cell-2\" style=\"text-align:right;\">2,097</td> <td class=\"cell-3\" style=\"text-align:right;\">2,097</td> <td class=\"cell-4\" style=\"text-align:right;\">0</td> <td class=\"cell-5\" style=\"text-align:right;\">0</td> <td class=\"cell-6\" style=\"text-align:right;\">0</td> <td class=\"cell-7\" style=\"text-align:right;\">0</td> <td class=\"cell-8\" style=\"text-align:right;\">2,853</td> <td class=\"cell-9\" style=\"text-align:right;\">15,357</td> <td class=\"cell-10\" style=\"\">http://1.1.1.1/bmi/www.nationalgeographic.com/etc/designs/platform/v2/images/logos/ng-black-logo.ngsversion.45ded159.png</td> <td class=\"cell-11\" style=\"text-align:right;\">0</td> <td class=\"cell-12\" style=\"text-align:right;\">0</td> <td class=\"cell-13\" style=\"text-align:right;\">0</td></tr>\n",
       "<tr><td class=\"cell-1\" style=\"text-align:right;\">13</td> <td class=\"cell-2\" style=\"text-align:right;\">1,853</td> <td class=\"cell-3\" style=\"text-align:right;\">1,853</td> <td class=\"cell-4\" style=\"text-align:right;\">20</td> <td class=\"cell-5\" style=\"text-align:right;\">58</td> <td class=\"cell-6\" style=\"text-align:right;\">1,919</td> <td class=\"cell-7\" style=\"text-align:right;\">2,854</td> <td class=\"cell-8\" style=\"text-align:right;\">3,371</td> <td class=\"cell-9\" style=\"text-align:right;\">26,200</td> <td class=\"cell-10\" style=\"\">http://news.nationalgeographic.com/etc/designs/platform/v2/images/logos/ng-black-logo.ngsversion.dafe07f7.png</td> <td class=\"cell-11\" style=\"text-align:right;\">0</td> <td class=\"cell-12\" style=\"text-align:right;\">0</td> <td class=\"cell-13\" style=\"text-align:right;\">0</td></tr>\n",
       "<tr><td class=\"cell-1\" style=\"text-align:right;\">12</td> <td class=\"cell-2\" style=\"text-align:right;\">912</td> <td class=\"cell-3\" style=\"text-align:right;\">912</td> <td class=\"cell-4\" style=\"text-align:right;\">0</td> <td class=\"cell-5\" style=\"text-align:right;\">0</td> <td class=\"cell-6\" style=\"text-align:right;\">0</td> <td class=\"cell-7\" style=\"text-align:right;\">0</td> <td class=\"cell-8\" style=\"text-align:right;\">1,346</td> <td class=\"cell-9\" style=\"text-align:right;\">2,464</td> <td class=\"cell-10\" style=\"\">http://1.1.1.3/bmi/news.nationalgeographic.com/etc/designs/platform/v2/images/logos/ng-black-logo.ngsversion.45ded159.png</td> <td class=\"cell-11\" style=\"text-align:right;\">0</td> <td class=\"cell-12\" style=\"text-align:right;\">0</td> <td class=\"cell-13\" style=\"text-align:right;\">0</td></tr>\n",
       "<tr><td class=\"cell-1\" style=\"text-align:right;\">12</td> <td class=\"cell-2\" style=\"text-align:right;\">368</td> <td class=\"cell-3\" style=\"text-align:right;\">368</td> <td class=\"cell-4\" style=\"text-align:right;\">0</td> <td class=\"cell-5\" style=\"text-align:right;\">0</td> <td class=\"cell-6\" style=\"text-align:right;\">396</td> <td class=\"cell-7\" style=\"text-align:right;\">405</td> <td class=\"cell-8\" style=\"text-align:right;\">410</td> <td class=\"cell-9\" style=\"text-align:right;\">984</td> <td class=\"cell-10\" style=\"\">http://news.nationalgeographic.com/etc/designs/platform/v2/images/logos/ng-black-logo.ngsversion.45ded567.png</td> <td class=\"cell-11\" style=\"text-align:right;\">0</td> <td class=\"cell-12\" style=\"text-align:right;\">0</td> <td class=\"cell-13\" style=\"text-align:right;\">0</td></tr>\n",
       "<tr><td class=\"cell-1\" style=\"text-align:right;\">8</td> <td class=\"cell-2\" style=\"text-align:right;\">3,488</td> <td class=\"cell-3\" style=\"text-align:right;\">3,488</td> <td class=\"cell-4\" style=\"text-align:right;\">0</td> <td class=\"cell-5\" style=\"text-align:right;\">0</td> <td class=\"cell-6\" style=\"text-align:right;\">2,911</td> <td class=\"cell-7\" style=\"text-align:right;\">3,540</td> <td class=\"cell-8\" style=\"text-align:right;\">3,543</td> <td class=\"cell-9\" style=\"text-align:right;\">20,285</td> <td class=\"cell-10\" style=\"\">http://news.nationalgeographic.com/etc/designs/platform/v2/images/logos/ng-black-logo.ngsversion.2fc3d452.png</td> <td class=\"cell-11\" style=\"text-align:right;\">0</td> <td class=\"cell-12\" style=\"text-align:right;\">0</td> <td class=\"cell-13\" style=\"text-align:right;\">0</td></tr>\n",
       "<tr><td class=\"cell-1\" style=\"text-align:right;\">7</td> <td class=\"cell-2\" style=\"text-align:right;\">529</td> <td class=\"cell-3\" style=\"text-align:right;\">529</td> <td class=\"cell-4\" style=\"text-align:right;\">0</td> <td class=\"cell-5\" style=\"text-align:right;\">0</td> <td class=\"cell-6\" style=\"text-align:right;\">533</td> <td class=\"cell-7\" style=\"text-align:right;\">587</td> <td class=\"cell-8\" style=\"text-align:right;\">599</td> <td class=\"cell-9\" style=\"text-align:right;\">1,151</td> <td class=\"cell-10\" style=\"\">http://www.nationalgeographic.com/etc/designs/platform/v2/images/logos/ng-black-logo.ngsversion.e2d5317d.png</td> <td class=\"cell-11\" style=\"text-align:right;\">0</td> <td class=\"cell-12\" style=\"text-align:right;\">0</td> <td class=\"cell-13\" style=\"text-align:right;\">0</td></tr>\n",
       "<tr><td class=\"cell-1\" style=\"text-align:right;\">6</td> <td class=\"cell-2\" style=\"text-align:right;\">317</td> <td class=\"cell-3\" style=\"text-align:right;\">317</td> <td class=\"cell-4\" style=\"text-align:right;\">0</td> <td class=\"cell-5\" style=\"text-align:right;\">0</td> <td class=\"cell-6\" style=\"text-align:right;\">403</td> <td class=\"cell-7\" style=\"text-align:right;\">443</td> <td class=\"cell-8\" style=\"text-align:right;\">449</td> <td class=\"cell-9\" style=\"text-align:right;\">1,005</td> <td class=\"cell-10\" style=\"\">http://news.nationalgeographic.com/etc/designs/platform/v2/images/logos/ng-black-logo.ngsversion.wfd98514.png</td> <td class=\"cell-11\" style=\"text-align:right;\">0</td> <td class=\"cell-12\" style=\"text-align:right;\">0</td> <td class=\"cell-13\" style=\"text-align:right;\">0</td></tr>\n",
       "<tr><td class=\"cell-1\" style=\"text-align:right;\">3</td> <td class=\"cell-2\" style=\"text-align:right;\">349</td> <td class=\"cell-3\" style=\"text-align:right;\">349</td> <td class=\"cell-4\" style=\"text-align:right;\">0</td> <td class=\"cell-5\" style=\"text-align:right;\">0</td> <td class=\"cell-6\" style=\"text-align:right;\">0</td> <td class=\"cell-7\" style=\"text-align:right;\">0</td> <td class=\"cell-8\" style=\"text-align:right;\">96</td> <td class=\"cell-9\" style=\"text-align:right;\">288</td> <td class=\"cell-10\" style=\"\">http://1.1.1.1/bmi/www.nationalgeographic.com/etc/designs/platform/v2/images/logos/ng-black-logo.ngsversion.93df43dc.png</td> <td class=\"cell-11\" style=\"text-align:right;\">0</td> <td class=\"cell-12\" style=\"text-align:right;\">0</td> <td class=\"cell-13\" style=\"text-align:right;\">0</td></tr>\n",
       "<tr><td class=\"cell-1\" style=\"text-align:right;\">3</td> <td class=\"cell-2\" style=\"text-align:right;\">745</td> <td class=\"cell-3\" style=\"text-align:right;\">745</td> <td class=\"cell-4\" style=\"text-align:right;\">0</td> <td class=\"cell-5\" style=\"text-align:right;\">0</td> <td class=\"cell-6\" style=\"text-align:right;\">0</td> <td class=\"cell-7\" style=\"text-align:right;\">0</td> <td class=\"cell-8\" style=\"text-align:right;\">1,427</td> <td class=\"cell-9\" style=\"text-align:right;\">1,878</td> <td class=\"cell-10\" style=\"\">http://91.68.209.10/bmi/www.nationalgeographic.com/etc/designs/platform/v2/images/logos/ng-black-logo.ngsversion.45ded159.png</td> <td class=\"cell-11\" style=\"text-align:right;\">0</td> <td class=\"cell-12\" style=\"text-align:right;\">0</td> <td class=\"cell-13\" style=\"text-align:right;\">0</td></tr>\n",
       "<tr><td class=\"cell-1\" style=\"text-align:right;\">3</td> <td class=\"cell-2\" style=\"text-align:right;\">3,560</td> <td class=\"cell-3\" style=\"text-align:right;\">3,560</td> <td class=\"cell-4\" style=\"text-align:right;\">0</td> <td class=\"cell-5\" style=\"text-align:right;\">0</td> <td class=\"cell-6\" style=\"text-align:right;\">3,536</td> <td class=\"cell-7\" style=\"text-align:right;\">3,591</td> <td class=\"cell-8\" style=\"text-align:right;\">3,609</td> <td class=\"cell-9\" style=\"text-align:right;\">9,788</td> <td class=\"cell-10\" style=\"\">http://news.nationalgeographic.com/etc/designs/platform/v2/images/logos/ng-black-logo.ngsversion.45ded10c.png</td> <td class=\"cell-11\" style=\"text-align:right;\">0</td> <td class=\"cell-12\" style=\"text-align:right;\">0</td> <td class=\"cell-13\" style=\"text-align:right;\">0</td></tr>\n",
       "<tr><td class=\"cell-1\" style=\"text-align:right;\">2</td> <td class=\"cell-2\" style=\"text-align:right;\">494</td> <td class=\"cell-3\" style=\"text-align:right;\">494</td> <td class=\"cell-4\" style=\"text-align:right;\">0</td> <td class=\"cell-5\" style=\"text-align:right;\">0</td> <td class=\"cell-6\" style=\"text-align:right;\">68</td> <td class=\"cell-7\" style=\"text-align:right;\">1,860</td> <td class=\"cell-8\" style=\"text-align:right;\">2,039</td> <td class=\"cell-9\" style=\"text-align:right;\">3,926</td> <td class=\"cell-10\" style=\"\">http://www.nationalgeographic.com/etc/designs/platform/v2/images/logos/ng-black-logo.ngsversion.wfd98514.png</td> <td class=\"cell-11\" style=\"text-align:right;\">0</td> <td class=\"cell-12\" style=\"text-align:right;\">0</td> <td class=\"cell-13\" style=\"text-align:right;\">0</td></tr>\n",
       "    </tbody>\n"
      ]
     },
     "metadata": {},
     "output_type": "display_data"
    }
   ],
   "source": [
    "resourceTime1(tableRt;linesOut=linesOutput)\n",
    ";"
   ]
  },
  {
   "cell_type": "code",
   "execution_count": 56,
   "metadata": {
    "collapsed": false,
    "input_collapsed": false,
    "scrolled": false
   },
   "outputs": [
    {
     "data": {
      "text/plain": [
       "resourceTime2 (generic function with 1 method)"
      ]
     },
     "execution_count": 56,
     "metadata": {},
     "output_type": "execute_result"
    }
   ],
   "source": [
    "function resourceTime2(tableRt::ASCIIString;linesOut::Int64=25)\n",
    "    \n",
    "    try\n",
    "        timeTable = query(\"\"\"\\\n",
    "        select \n",
    "        (response_last_byte-start_time) as \"Time Taken\",\n",
    "        (start_time) as \"Start Time\",\n",
    "        (fetch_start) as \"Fetch Start\",\n",
    "        (dns_end-dns_start) as \"DNS ms\",\n",
    "        (tcp_connection_end-tcp_connection_start) as \"TCP ms\",\n",
    "        (request_start) as \"Req Start\",\n",
    "        (response_first_byte) as \"Req FB\",\t\n",
    "        (response_last_byte) as \"Req LB\",\n",
    "        url,\n",
    "        (redirect_start) as \"Redirect Start\",\n",
    "        (redirect_end) as \"Redirect End\",\n",
    "        (secure_connection_start) as \"Secure Conn Start\"\n",
    "        from $tableRt\n",
    "        where \n",
    "          url ilike '$resourceUrl' and\n",
    "        \"timestamp\" between $(TV.startTimeMsUTC) and $(TV.endTimeMsUTC) and\n",
    "        (response_last_byte-start_time) > 75 and (response_last_byte-start_time) < 10000\n",
    "        order by \"Time Taken\" desc\n",
    "        \"\"\");\n",
    "\n",
    "        #todo remove negitives\n",
    "        \n",
    "        displayTitle(chart_title = \"Raw Resource Url Pattern $(resourceUrl)\", chart_info = [TV.timeString], showTimeStamp=false)\n",
    "        #scrubUrlToPrint(timeTable,limit=150)\n",
    "        beautifyDF(timeTable[1:min(linesOut,end),:])\n",
    "        \n",
    "        timeTable = names!(timeTable[:,:],\n",
    "        [symbol(\"taken\"),symbol(\"start\"),symbol(\"fetch\"),symbol(\"dns\"),symbol(\"tcp\"),symbol(\"req_start\"),symbol(\"req_fb\"),symbol(\"req_lb\"),symbol(\"url\")\n",
    "            ,symbol(\"redirect_start\"),symbol(\"redirect_end\"),symbol(\"secure_conn_start\")])\n",
    "        \n",
    "        dv1 = timeTable[:taken]\n",
    "        statsDF1 = limitedStatsFromDV(dv1)\n",
    "        showLimitedStats(TV,statsDF1,\"Time Taken Stats\")\n",
    "        \n",
    "        dv2 = timeTable[:dns]\n",
    "        statsDF2 = limitedStatsFromDV(dv2)\n",
    "        showLimitedStats(TV,statsDF2,\"DNS Stats\")\n",
    "        \n",
    "        dv3 = timeTable[:tcp]\n",
    "        statsDF3 = limitedStatsFromDV(dv3)\n",
    "        showLimitedStats(TV,statsDF3,\"TCP Stats\")\n",
    "        \n",
    "        dv4 = timeTable[:start]\n",
    "        statsDF4 = limitedStatsFromDV(dv4)\n",
    "        showLimitedStats(TV,statsDF4,\"Start Time On Page Stats\")\n",
    "        \n",
    "        dv5 = timeTable[:fetch]\n",
    "        statsDF5 = limitedStatsFromDV(dv5)\n",
    "        showLimitedStats(TV,statsDF5,\"Fetching Request Stats\")\n",
    "        \n",
    "        dv6 = timeTable[:req_start]\n",
    "        statsDF6 = limitedStatsFromDV(dv6)\n",
    "        showLimitedStats(TV,statsDF6,\"Request Start Stats\")\n",
    "        \n",
    "        dv7 = timeTable[:req_fb]\n",
    "        statsDF7 = limitedStatsFromDV(dv7)\n",
    "        showLimitedStats(TV,statsDF7,\"Request First Byte Stats\")\n",
    "        \n",
    "        dv8 = timeTable[:req_lb]\n",
    "        statsDF8 = limitedStatsFromDV(dv8)\n",
    "        showLimitedStats(TV,statsDF8,\"Request Last Byte Stats\")\n",
    "        \n",
    "        \n",
    "        \n",
    "        \n",
    "    catch y\n",
    "        println(\"bigTable5 Exception \",y)\n",
    "    end\n",
    "end \n"
   ]
  },
  {
   "cell_type": "code",
   "execution_count": 57,
   "metadata": {
    "collapsed": false,
    "input_collapsed": false,
    "scrolled": false
   },
   "outputs": [
    {
     "data": {
      "text/html": [
       "<div class=\"dswbOutputText\"><h1 class=\"chart_title\" style=\"color:#ccc\">Raw Resource Url Pattern %ng-black-logo%</h1><h3 class=\"chart_info\" style=\"color:#ccc\">April 21, 2017 23:59:00 to April 22, 2017 23:59:00 Local Time</h3></div>"
      ]
     },
     "metadata": {},
     "output_type": "display_data"
    },
    {
     "data": {
      "text/html": [
       "    <table  class=\"dataframe-table\">\n",
       "    <thead><tr><th class=\"cell-1\" style=\"\">time taken</th> <th class=\"cell-2\" style=\"\">start time</th> <th class=\"cell-3\" style=\"\">fetch start</th> <th class=\"cell-4\" style=\"\">dns ms</th> <th class=\"cell-5\" style=\"\">tcp ms</th> <th class=\"cell-6\" style=\"\">req start</th> <th class=\"cell-7\" style=\"\">req fb</th> <th class=\"cell-8\" style=\"\">req lb</th> <th class=\"cell-9\" style=\"\">url</th> <th class=\"cell-10\" style=\"\">redirect start</th> <th class=\"cell-11\" style=\"\">redirect end</th> <th class=\"cell-12\" style=\"\">secure conn start</th></tr></thead>\n",
       "    <tbody>\n",
       "    <tr><td class=\"cell-1\" style=\"text-align:right;\">9,991</td> <td class=\"cell-2\" style=\"text-align:right;\">2,972</td> <td class=\"cell-3\" style=\"text-align:right;\">2,972</td> <td class=\"cell-4\" style=\"text-align:right;\">0</td> <td class=\"cell-5\" style=\"text-align:right;\">0</td> <td class=\"cell-6\" style=\"text-align:right;\">12,180</td> <td class=\"cell-7\" style=\"text-align:right;\">12,959</td> <td class=\"cell-8\" style=\"text-align:right;\">12,963</td> <td class=\"cell-9\" style=\"\">http://www.nationalgeographic.com/etc/designs/platform/v2/images/logos/ng-black-logo.ngsversion.45ded159.png</td> <td class=\"cell-10\" style=\"text-align:right;\">0</td> <td class=\"cell-11\" style=\"text-align:right;\">0</td> <td class=\"cell-12\" style=\"text-align:right;\">0</td></tr>\n",
       "<tr><td class=\"cell-1\" style=\"text-align:right;\">9,990</td> <td class=\"cell-2\" style=\"text-align:right;\">1,824</td> <td class=\"cell-3\" style=\"text-align:right;\">1,824</td> <td class=\"cell-4\" style=\"text-align:right;\">0</td> <td class=\"cell-5\" style=\"text-align:right;\">0</td> <td class=\"cell-6\" style=\"text-align:right;\">9,653</td> <td class=\"cell-7\" style=\"text-align:right;\">10,673</td> <td class=\"cell-8\" style=\"text-align:right;\">11,814</td> <td class=\"cell-9\" style=\"\">http://news.nationalgeographic.com/etc/designs/platform/v2/images/logos/ng-black-logo.ngsversion.45ded159.png</td> <td class=\"cell-10\" style=\"text-align:right;\">0</td> <td class=\"cell-11\" style=\"text-align:right;\">0</td> <td class=\"cell-12\" style=\"text-align:right;\">0</td></tr>\n",
       "<tr><td class=\"cell-1\" style=\"text-align:right;\">9,977</td> <td class=\"cell-2\" style=\"text-align:right;\">1,084</td> <td class=\"cell-3\" style=\"text-align:right;\">1,084</td> <td class=\"cell-4\" style=\"text-align:right;\">0</td> <td class=\"cell-5\" style=\"text-align:right;\">0</td> <td class=\"cell-6\" style=\"text-align:right;\">9,436</td> <td class=\"cell-7\" style=\"text-align:right;\">10,713</td> <td class=\"cell-8\" style=\"text-align:right;\">11,061</td> <td class=\"cell-9\" style=\"\">http://news.nationalgeographic.com/etc/designs/platform/v2/images/logos/ng-black-logo.ngsversion.45ded159.png</td> <td class=\"cell-10\" style=\"text-align:right;\">0</td> <td class=\"cell-11\" style=\"text-align:right;\">0</td> <td class=\"cell-12\" style=\"text-align:right;\">0</td></tr>\n",
       "<tr><td class=\"cell-1\" style=\"text-align:right;\">9,972</td> <td class=\"cell-2\" style=\"text-align:right;\">3,177</td> <td class=\"cell-3\" style=\"text-align:right;\">3,177</td> <td class=\"cell-4\" style=\"text-align:right;\">0</td> <td class=\"cell-5\" style=\"text-align:right;\">0</td> <td class=\"cell-6\" style=\"text-align:right;\">12,948</td> <td class=\"cell-7\" style=\"text-align:right;\">13,148</td> <td class=\"cell-8\" style=\"text-align:right;\">13,149</td> <td class=\"cell-9\" style=\"\">http://www.nationalgeographic.com/etc/designs/platform/v2/images/logos/ng-black-logo.ngsversion.45ded159.png</td> <td class=\"cell-10\" style=\"text-align:right;\">0</td> <td class=\"cell-11\" style=\"text-align:right;\">0</td> <td class=\"cell-12\" style=\"text-align:right;\">0</td></tr>\n",
       "<tr><td class=\"cell-1\" style=\"text-align:right;\">9,967</td> <td class=\"cell-2\" style=\"text-align:right;\">7,237</td> <td class=\"cell-3\" style=\"text-align:right;\">7,237</td> <td class=\"cell-4\" style=\"text-align:right;\">0</td> <td class=\"cell-5\" style=\"text-align:right;\">0</td> <td class=\"cell-6\" style=\"text-align:right;\">16,703</td> <td class=\"cell-7\" style=\"text-align:right;\">17,204</td> <td class=\"cell-8\" style=\"text-align:right;\">17,204</td> <td class=\"cell-9\" style=\"\">http://news.nationalgeographic.com/etc/designs/platform/v2/images/logos/ng-black-logo.ngsversion.45ded159.png</td> <td class=\"cell-10\" style=\"text-align:right;\">0</td> <td class=\"cell-11\" style=\"text-align:right;\">0</td> <td class=\"cell-12\" style=\"text-align:right;\">0</td></tr>\n",
       "<tr><td class=\"cell-1\" style=\"text-align:right;\">9,958</td> <td class=\"cell-2\" style=\"text-align:right;\">20,359</td> <td class=\"cell-3\" style=\"text-align:right;\">20,359</td> <td class=\"cell-4\" style=\"text-align:right;\">0</td> <td class=\"cell-5\" style=\"text-align:right;\">0</td> <td class=\"cell-6\" style=\"text-align:right;\">28,119</td> <td class=\"cell-7\" style=\"text-align:right;\">30,312</td> <td class=\"cell-8\" style=\"text-align:right;\">30,317</td> <td class=\"cell-9\" style=\"\">http://www.nationalgeographic.com/etc/designs/platform/v2/images/logos/ng-black-logo.ngsversion.45ded159.png</td> <td class=\"cell-10\" style=\"text-align:right;\">0</td> <td class=\"cell-11\" style=\"text-align:right;\">0</td> <td class=\"cell-12\" style=\"text-align:right;\">0</td></tr>\n",
       "<tr><td class=\"cell-1\" style=\"text-align:right;\">9,953</td> <td class=\"cell-2\" style=\"text-align:right;\">4,482</td> <td class=\"cell-3\" style=\"text-align:right;\">4,482</td> <td class=\"cell-4\" style=\"text-align:right;\">0</td> <td class=\"cell-5\" style=\"text-align:right;\">0</td> <td class=\"cell-6\" style=\"text-align:right;\">13,392</td> <td class=\"cell-7\" style=\"text-align:right;\">14,433</td> <td class=\"cell-8\" style=\"text-align:right;\">14,435</td> <td class=\"cell-9\" style=\"\">http://www.nationalgeographic.com/etc/designs/platform/v2/images/logos/ng-black-logo.ngsversion.45ded159.png</td> <td class=\"cell-10\" style=\"text-align:right;\">0</td> <td class=\"cell-11\" style=\"text-align:right;\">0</td> <td class=\"cell-12\" style=\"text-align:right;\">0</td></tr>\n",
       "<tr><td class=\"cell-1\" style=\"text-align:right;\">9,950</td> <td class=\"cell-2\" style=\"text-align:right;\">16,807</td> <td class=\"cell-3\" style=\"text-align:right;\">16,807</td> <td class=\"cell-4\" style=\"text-align:right;\">0</td> <td class=\"cell-5\" style=\"text-align:right;\">0</td> <td class=\"cell-6\" style=\"text-align:right;\">16,816</td> <td class=\"cell-7\" style=\"text-align:right;\">26,749</td> <td class=\"cell-8\" style=\"text-align:right;\">26,757</td> <td class=\"cell-9\" style=\"\">http://news.nationalgeographic.com/etc/designs/platform/v2/images/logos/ng-black-logo.ngsversion.45ded159.png</td> <td class=\"cell-10\" style=\"text-align:right;\">0</td> <td class=\"cell-11\" style=\"text-align:right;\">0</td> <td class=\"cell-12\" style=\"text-align:right;\">0</td></tr>\n",
       "<tr><td class=\"cell-1\" style=\"text-align:right;\">9,948</td> <td class=\"cell-2\" style=\"text-align:right;\">3,711</td> <td class=\"cell-3\" style=\"text-align:right;\">3,711</td> <td class=\"cell-4\" style=\"text-align:right;\">0</td> <td class=\"cell-5\" style=\"text-align:right;\">0</td> <td class=\"cell-6\" style=\"text-align:right;\">13,418</td> <td class=\"cell-7\" style=\"text-align:right;\">13,581</td> <td class=\"cell-8\" style=\"text-align:right;\">13,659</td> <td class=\"cell-9\" style=\"\">http://www.nationalgeographic.com/etc/designs/platform/v2/images/logos/ng-black-logo.ngsversion.45ded159.png</td> <td class=\"cell-10\" style=\"text-align:right;\">0</td> <td class=\"cell-11\" style=\"text-align:right;\">0</td> <td class=\"cell-12\" style=\"text-align:right;\">0</td></tr>\n",
       "<tr><td class=\"cell-1\" style=\"text-align:right;\">9,944</td> <td class=\"cell-2\" style=\"text-align:right;\">4,291</td> <td class=\"cell-3\" style=\"text-align:right;\">4,291</td> <td class=\"cell-4\" style=\"text-align:right;\">0</td> <td class=\"cell-5\" style=\"text-align:right;\">0</td> <td class=\"cell-6\" style=\"text-align:right;\">13,779</td> <td class=\"cell-7\" style=\"text-align:right;\">14,179</td> <td class=\"cell-8\" style=\"text-align:right;\">14,235</td> <td class=\"cell-9\" style=\"\">http://news.nationalgeographic.com/etc/designs/platform/v2/images/logos/ng-black-logo.ngsversion.45ded159.png</td> <td class=\"cell-10\" style=\"text-align:right;\">0</td> <td class=\"cell-11\" style=\"text-align:right;\">0</td> <td class=\"cell-12\" style=\"text-align:right;\">0</td></tr>\n",
       "<tr><td class=\"cell-1\" style=\"text-align:right;\">9,943</td> <td class=\"cell-2\" style=\"text-align:right;\">5,454</td> <td class=\"cell-3\" style=\"text-align:right;\">5,454</td> <td class=\"cell-4\" style=\"text-align:right;\">0</td> <td class=\"cell-5\" style=\"text-align:right;\">0</td> <td class=\"cell-6\" style=\"text-align:right;\">13,185</td> <td class=\"cell-7\" style=\"text-align:right;\">14,328</td> <td class=\"cell-8\" style=\"text-align:right;\">15,397</td> <td class=\"cell-9\" style=\"\">http://www.nationalgeographic.com/etc/designs/platform/v2/images/logos/ng-black-logo.ngsversion.45ded159.png</td> <td class=\"cell-10\" style=\"text-align:right;\">0</td> <td class=\"cell-11\" style=\"text-align:right;\">0</td> <td class=\"cell-12\" style=\"text-align:right;\">0</td></tr>\n",
       "<tr><td class=\"cell-1\" style=\"text-align:right;\">9,922</td> <td class=\"cell-2\" style=\"text-align:right;\">11,850</td> <td class=\"cell-3\" style=\"text-align:right;\">11,850</td> <td class=\"cell-4\" style=\"text-align:right;\">0</td> <td class=\"cell-5\" style=\"text-align:right;\">0</td> <td class=\"cell-6\" style=\"text-align:right;\">21,669</td> <td class=\"cell-7\" style=\"text-align:right;\">21,687</td> <td class=\"cell-8\" style=\"text-align:right;\">21,772</td> <td class=\"cell-9\" style=\"\">http://news.nationalgeographic.com/etc/designs/platform/v2/images/logos/ng-black-logo.ngsversion.45ded159.png</td> <td class=\"cell-10\" style=\"text-align:right;\">0</td> <td class=\"cell-11\" style=\"text-align:right;\">0</td> <td class=\"cell-12\" style=\"text-align:right;\">0</td></tr>\n",
       "<tr><td class=\"cell-1\" style=\"text-align:right;\">9,907</td> <td class=\"cell-2\" style=\"text-align:right;\">500</td> <td class=\"cell-3\" style=\"text-align:right;\">500</td> <td class=\"cell-4\" style=\"text-align:right;\">0</td> <td class=\"cell-5\" style=\"text-align:right;\">0</td> <td class=\"cell-6\" style=\"text-align:right;\">1,813</td> <td class=\"cell-7\" style=\"text-align:right;\">9,782</td> <td class=\"cell-8\" style=\"text-align:right;\">10,407</td> <td class=\"cell-9\" style=\"\">http://www.nationalgeographic.com/etc/designs/platform/v2/images/logos/ng-black-logo.ngsversion.45ded159.png</td> <td class=\"cell-10\" style=\"text-align:right;\">0</td> <td class=\"cell-11\" style=\"text-align:right;\">0</td> <td class=\"cell-12\" style=\"text-align:right;\">0</td></tr>\n",
       "<tr><td class=\"cell-1\" style=\"text-align:right;\">9,901</td> <td class=\"cell-2\" style=\"text-align:right;\">3,092</td> <td class=\"cell-3\" style=\"text-align:right;\">3,092</td> <td class=\"cell-4\" style=\"text-align:right;\">0</td> <td class=\"cell-5\" style=\"text-align:right;\">0</td> <td class=\"cell-6\" style=\"text-align:right;\">12,834</td> <td class=\"cell-7\" style=\"text-align:right;\">12,959</td> <td class=\"cell-8\" style=\"text-align:right;\">12,993</td> <td class=\"cell-9\" style=\"\">http://www.nationalgeographic.com/etc/designs/platform/v2/images/logos/ng-black-logo.ngsversion.45ded159.png</td> <td class=\"cell-10\" style=\"text-align:right;\">0</td> <td class=\"cell-11\" style=\"text-align:right;\">0</td> <td class=\"cell-12\" style=\"text-align:right;\">0</td></tr>\n",
       "<tr><td class=\"cell-1\" style=\"text-align:right;\">9,899</td> <td class=\"cell-2\" style=\"text-align:right;\">2,028</td> <td class=\"cell-3\" style=\"text-align:right;\">2,028</td> <td class=\"cell-4\" style=\"text-align:right;\">2,029</td> <td class=\"cell-5\" style=\"text-align:right;\">0</td> <td class=\"cell-6\" style=\"text-align:right;\">11,507</td> <td class=\"cell-7\" style=\"text-align:right;\">11,714</td> <td class=\"cell-8\" style=\"text-align:right;\">11,927</td> <td class=\"cell-9\" style=\"\">http://news.nationalgeographic.com/etc/designs/platform/v2/images/logos/ng-black-logo.ngsversion.45ded159.png</td> <td class=\"cell-10\" style=\"text-align:right;\">0</td> <td class=\"cell-11\" style=\"text-align:right;\">0</td> <td class=\"cell-12\" style=\"text-align:right;\">0</td></tr>\n",
       "<tr><td class=\"cell-1\" style=\"text-align:right;\">9,897</td> <td class=\"cell-2\" style=\"text-align:right;\">6,807</td> <td class=\"cell-3\" style=\"text-align:right;\">6,807</td> <td class=\"cell-4\" style=\"text-align:right;\">0</td> <td class=\"cell-5\" style=\"text-align:right;\">0</td> <td class=\"cell-6\" style=\"text-align:right;\">16,334</td> <td class=\"cell-7\" style=\"text-align:right;\">16,684</td> <td class=\"cell-8\" style=\"text-align:right;\">16,704</td> <td class=\"cell-9\" style=\"\">http://www.nationalgeographic.com/etc/designs/platform/v2/images/logos/ng-black-logo.ngsversion.45ded159.png</td> <td class=\"cell-10\" style=\"text-align:right;\">0</td> <td class=\"cell-11\" style=\"text-align:right;\">0</td> <td class=\"cell-12\" style=\"text-align:right;\">0</td></tr>\n",
       "<tr><td class=\"cell-1\" style=\"text-align:right;\">9,882</td> <td class=\"cell-2\" style=\"text-align:right;\">4,593</td> <td class=\"cell-3\" style=\"text-align:right;\">4,593</td> <td class=\"cell-4\" style=\"text-align:right;\">0</td> <td class=\"cell-5\" style=\"text-align:right;\">0</td> <td class=\"cell-6\" style=\"text-align:right;\">10,763</td> <td class=\"cell-7\" style=\"text-align:right;\">12,508</td> <td class=\"cell-8\" style=\"text-align:right;\">14,475</td> <td class=\"cell-9\" style=\"\">http://www.nationalgeographic.com/etc/designs/platform/v2/images/logos/ng-black-logo.ngsversion.45ded159.png</td> <td class=\"cell-10\" style=\"text-align:right;\">0</td> <td class=\"cell-11\" style=\"text-align:right;\">0</td> <td class=\"cell-12\" style=\"text-align:right;\">0</td></tr>\n",
       "<tr><td class=\"cell-1\" style=\"text-align:right;\">9,873</td> <td class=\"cell-2\" style=\"text-align:right;\">4,780</td> <td class=\"cell-3\" style=\"text-align:right;\">4,780</td> <td class=\"cell-4\" style=\"text-align:right;\">0</td> <td class=\"cell-5\" style=\"text-align:right;\">0</td> <td class=\"cell-6\" style=\"text-align:right;\">10,763</td> <td class=\"cell-7\" style=\"text-align:right;\">13,457</td> <td class=\"cell-8\" style=\"text-align:right;\">14,653</td> <td class=\"cell-9\" style=\"\">http://news.nationalgeographic.com/etc/designs/platform/v2/images/logos/ng-black-logo.ngsversion.45ded159.png</td> <td class=\"cell-10\" style=\"text-align:right;\">0</td> <td class=\"cell-11\" style=\"text-align:right;\">0</td> <td class=\"cell-12\" style=\"text-align:right;\">0</td></tr>\n",
       "<tr><td class=\"cell-1\" style=\"text-align:right;\">9,873</td> <td class=\"cell-2\" style=\"text-align:right;\">2,839</td> <td class=\"cell-3\" style=\"text-align:right;\">2,839</td> <td class=\"cell-4\" style=\"text-align:right;\">0</td> <td class=\"cell-5\" style=\"text-align:right;\">0</td> <td class=\"cell-6\" style=\"text-align:right;\">2,844</td> <td class=\"cell-7\" style=\"text-align:right;\">12,596</td> <td class=\"cell-8\" style=\"text-align:right;\">12,712</td> <td class=\"cell-9\" style=\"\">http://www.nationalgeographic.com/etc/designs/platform/v2/images/logos/ng-black-logo.ngsversion.45ded159.png</td> <td class=\"cell-10\" style=\"text-align:right;\">0</td> <td class=\"cell-11\" style=\"text-align:right;\">0</td> <td class=\"cell-12\" style=\"text-align:right;\">0</td></tr>\n",
       "<tr><td class=\"cell-1\" style=\"text-align:right;\">9,870</td> <td class=\"cell-2\" style=\"text-align:right;\">5,488</td> <td class=\"cell-3\" style=\"text-align:right;\">5,488</td> <td class=\"cell-4\" style=\"text-align:right;\">0</td> <td class=\"cell-5\" style=\"text-align:right;\">0</td> <td class=\"cell-6\" style=\"text-align:right;\">13,285</td> <td class=\"cell-7\" style=\"text-align:right;\">14,758</td> <td class=\"cell-8\" style=\"text-align:right;\">15,358</td> <td class=\"cell-9\" style=\"\">http://www.nationalgeographic.com/etc/designs/platform/v2/images/logos/ng-black-logo.ngsversion.45ded159.png</td> <td class=\"cell-10\" style=\"text-align:right;\">0</td> <td class=\"cell-11\" style=\"text-align:right;\">0</td> <td class=\"cell-12\" style=\"text-align:right;\">0</td></tr>\n",
       "<tr><td class=\"cell-1\" style=\"text-align:right;\">9,868</td> <td class=\"cell-2\" style=\"text-align:right;\">3,990</td> <td class=\"cell-3\" style=\"text-align:right;\">3,990</td> <td class=\"cell-4\" style=\"text-align:right;\">0</td> <td class=\"cell-5\" style=\"text-align:right;\">352</td> <td class=\"cell-6\" style=\"text-align:right;\">13,436</td> <td class=\"cell-7\" style=\"text-align:right;\">13,855</td> <td class=\"cell-8\" style=\"text-align:right;\">13,858</td> <td class=\"cell-9\" style=\"\">http://news.nationalgeographic.com/etc/designs/platform/v2/images/logos/ng-black-logo.ngsversion.45ded159.png</td> <td class=\"cell-10\" style=\"text-align:right;\">0</td> <td class=\"cell-11\" style=\"text-align:right;\">0</td> <td class=\"cell-12\" style=\"text-align:right;\">0</td></tr>\n",
       "<tr><td class=\"cell-1\" style=\"text-align:right;\">9,868</td> <td class=\"cell-2\" style=\"text-align:right;\">5,180</td> <td class=\"cell-3\" style=\"text-align:right;\">5,180</td> <td class=\"cell-4\" style=\"text-align:right;\">0</td> <td class=\"cell-5\" style=\"text-align:right;\">0</td> <td class=\"cell-6\" style=\"text-align:right;\">14,328</td> <td class=\"cell-7\" style=\"text-align:right;\">15,025</td> <td class=\"cell-8\" style=\"text-align:right;\">15,048</td> <td class=\"cell-9\" style=\"\">http://www.nationalgeographic.com/etc/designs/platform/v2/images/logos/ng-black-logo.ngsversion.45ded159.png</td> <td class=\"cell-10\" style=\"text-align:right;\">0</td> <td class=\"cell-11\" style=\"text-align:right;\">0</td> <td class=\"cell-12\" style=\"text-align:right;\">0</td></tr>\n",
       "<tr><td class=\"cell-1\" style=\"text-align:right;\">9,868</td> <td class=\"cell-2\" style=\"text-align:right;\">6,826</td> <td class=\"cell-3\" style=\"text-align:right;\">6,826</td> <td class=\"cell-4\" style=\"text-align:right;\">0</td> <td class=\"cell-5\" style=\"text-align:right;\">0</td> <td class=\"cell-6\" style=\"text-align:right;\">16,647</td> <td class=\"cell-7\" style=\"text-align:right;\">16,690</td> <td class=\"cell-8\" style=\"text-align:right;\">16,694</td> <td class=\"cell-9\" style=\"\">http://news.nationalgeographic.com/etc/designs/platform/v2/images/logos/ng-black-logo.ngsversion.45ded159.png</td> <td class=\"cell-10\" style=\"text-align:right;\">0</td> <td class=\"cell-11\" style=\"text-align:right;\">0</td> <td class=\"cell-12\" style=\"text-align:right;\">0</td></tr>\n",
       "<tr><td class=\"cell-1\" style=\"text-align:right;\">9,864</td> <td class=\"cell-2\" style=\"text-align:right;\">2,456</td> <td class=\"cell-3\" style=\"text-align:right;\">2,456</td> <td class=\"cell-4\" style=\"text-align:right;\">0</td> <td class=\"cell-5\" style=\"text-align:right;\">0</td> <td class=\"cell-6\" style=\"text-align:right;\">12,194</td> <td class=\"cell-7\" style=\"text-align:right;\">12,285</td> <td class=\"cell-8\" style=\"text-align:right;\">12,320</td> <td class=\"cell-9\" style=\"\">http://news.nationalgeographic.com/etc/designs/platform/v2/images/logos/ng-black-logo.ngsversion.45ded159.png</td> <td class=\"cell-10\" style=\"text-align:right;\">0</td> <td class=\"cell-11\" style=\"text-align:right;\">0</td> <td class=\"cell-12\" style=\"text-align:right;\">0</td></tr>\n",
       "<tr><td class=\"cell-1\" style=\"text-align:right;\">9,857</td> <td class=\"cell-2\" style=\"text-align:right;\">4,161</td> <td class=\"cell-3\" style=\"text-align:right;\">4,161</td> <td class=\"cell-4\" style=\"text-align:right;\">0</td> <td class=\"cell-5\" style=\"text-align:right;\">0</td> <td class=\"cell-6\" style=\"text-align:right;\">13,006</td> <td class=\"cell-7\" style=\"text-align:right;\">13,755</td> <td class=\"cell-8\" style=\"text-align:right;\">14,018</td> <td class=\"cell-9\" style=\"\">http://www.nationalgeographic.com/etc/designs/platform/v2/images/logos/ng-black-logo.ngsversion.45ded159.png</td> <td class=\"cell-10\" style=\"text-align:right;\">0</td> <td class=\"cell-11\" style=\"text-align:right;\">0</td> <td class=\"cell-12\" style=\"text-align:right;\">0</td></tr>\n",
       "    </tbody>\n"
      ]
     },
     "metadata": {},
     "output_type": "display_data"
    },
    {
     "data": {
      "text/html": [
       "<div class=\"dswbOutputText\"><h1 class=\"chart_title\" style=\"color:#ccc\">Time Taken Stats</h1><h3 class=\"chart_info\" style=\"color:#ccc\">April 21, 2017 23:59:00 to April 22, 2017 23:59:00 Local Time</h3></div>"
      ]
     },
     "metadata": {},
     "output_type": "display_data"
    },
    {
     "data": {
      "text/html": [
       "    <table  class=\"dataframe-table\">\n",
       "    <thead><tr><th class=\"cell-1\" style=\"\">Page Views</th> <th class=\"cell-2\" style=\"\">Mean(ms)</th> <th class=\"cell-3\" style=\"\">Median(ms)</th> <th class=\"cell-4\" style=\"\">Min(ms)</th> <th class=\"cell-5\" style=\"\">Max(ms)</th> <th class=\"cell-6\" style=\"\">25 Percentile</th> <th class=\"cell-7\" style=\"\">75 Percentile</th></tr></thead>\n",
       "    <tbody>\n",
       "    <tr><td class=\"cell-1\" style=\"text-align:right;\">103,061</td> <td class=\"cell-2\" style=\"text-align:right;\">581</td> <td class=\"cell-3\" style=\"text-align:right;\">285</td> <td class=\"cell-4\" style=\"text-align:right;\">76</td> <td class=\"cell-5\" style=\"text-align:right;\">9,991</td> <td class=\"cell-6\" style=\"text-align:right;\">162</td> <td class=\"cell-7\" style=\"text-align:right;\">547</td></tr>\n",
       "    </tbody>\n"
      ]
     },
     "metadata": {},
     "output_type": "display_data"
    },
    {
     "data": {
      "text/html": [
       "<div class=\"dswbOutputText\"><h1 class=\"chart_title\" style=\"color:#ccc\">DNS Stats</h1><h3 class=\"chart_info\" style=\"color:#ccc\">April 21, 2017 23:59:00 to April 22, 2017 23:59:00 Local Time</h3></div>"
      ]
     },
     "metadata": {},
     "output_type": "display_data"
    },
    {
     "data": {
      "text/html": [
       "    <table  class=\"dataframe-table\">\n",
       "    <thead><tr><th class=\"cell-1\" style=\"\">Page Views</th> <th class=\"cell-2\" style=\"\">Mean(ms)</th> <th class=\"cell-3\" style=\"\">Median(ms)</th> <th class=\"cell-4\" style=\"\">Min(ms)</th> <th class=\"cell-5\" style=\"\">Max(ms)</th> <th class=\"cell-6\" style=\"\">25 Percentile</th> <th class=\"cell-7\" style=\"\">75 Percentile</th></tr></thead>\n",
       "    <tbody>\n",
       "    <tr><td class=\"cell-1\" style=\"text-align:right;\">103,061</td> <td class=\"cell-2\" style=\"text-align:right;\">30</td> <td class=\"cell-3\" style=\"text-align:right;\">0</td> <td class=\"cell-4\" style=\"text-align:right;\">-180</td> <td class=\"cell-5\" style=\"text-align:right;\">170,856</td> <td class=\"cell-6\" style=\"text-align:right;\">0</td> <td class=\"cell-7\" style=\"text-align:right;\">0</td></tr>\n",
       "    </tbody>\n"
      ]
     },
     "metadata": {},
     "output_type": "display_data"
    },
    {
     "data": {
      "text/html": [
       "<div class=\"dswbOutputText\"><h1 class=\"chart_title\" style=\"color:#ccc\">TCP Stats</h1><h3 class=\"chart_info\" style=\"color:#ccc\">April 21, 2017 23:59:00 to April 22, 2017 23:59:00 Local Time</h3></div>"
      ]
     },
     "metadata": {},
     "output_type": "display_data"
    },
    {
     "data": {
      "text/html": [
       "    <table  class=\"dataframe-table\">\n",
       "    <thead><tr><th class=\"cell-1\" style=\"\">Page Views</th> <th class=\"cell-2\" style=\"\">Mean(ms)</th> <th class=\"cell-3\" style=\"\">Median(ms)</th> <th class=\"cell-4\" style=\"\">Min(ms)</th> <th class=\"cell-5\" style=\"\">Max(ms)</th> <th class=\"cell-6\" style=\"\">25 Percentile</th> <th class=\"cell-7\" style=\"\">75 Percentile</th></tr></thead>\n",
       "    <tbody>\n",
       "    <tr><td class=\"cell-1\" style=\"text-align:right;\">103,061</td> <td class=\"cell-2\" style=\"text-align:right;\">8</td> <td class=\"cell-3\" style=\"text-align:right;\">0</td> <td class=\"cell-4\" style=\"text-align:right;\">-458</td> <td class=\"cell-5\" style=\"text-align:right;\">11,299</td> <td class=\"cell-6\" style=\"text-align:right;\">0</td> <td class=\"cell-7\" style=\"text-align:right;\">0</td></tr>\n",
       "    </tbody>\n"
      ]
     },
     "metadata": {},
     "output_type": "display_data"
    },
    {
     "data": {
      "text/html": [
       "<div class=\"dswbOutputText\"><h1 class=\"chart_title\" style=\"color:#ccc\">Start Time On Page Stats</h1><h3 class=\"chart_info\" style=\"color:#ccc\">April 21, 2017 23:59:00 to April 22, 2017 23:59:00 Local Time</h3></div>"
      ]
     },
     "metadata": {},
     "output_type": "display_data"
    },
    {
     "data": {
      "text/html": [
       "    <table  class=\"dataframe-table\">\n",
       "    <thead><tr><th class=\"cell-1\" style=\"\">Page Views</th> <th class=\"cell-2\" style=\"\">Mean(ms)</th> <th class=\"cell-3\" style=\"\">Median(ms)</th> <th class=\"cell-4\" style=\"\">Min(ms)</th> <th class=\"cell-5\" style=\"\">Max(ms)</th> <th class=\"cell-6\" style=\"\">25 Percentile</th> <th class=\"cell-7\" style=\"\">75 Percentile</th></tr></thead>\n",
       "    <tbody>\n",
       "    <tr><td class=\"cell-1\" style=\"text-align:right;\">103,061</td> <td class=\"cell-2\" style=\"text-align:right;\">1,273</td> <td class=\"cell-3\" style=\"text-align:right;\">652</td> <td class=\"cell-4\" style=\"text-align:right;\">4</td> <td class=\"cell-5\" style=\"text-align:right;\">454,621</td> <td class=\"cell-6\" style=\"text-align:right;\">377</td> <td class=\"cell-7\" style=\"text-align:right;\">1,234</td></tr>\n",
       "    </tbody>\n"
      ]
     },
     "metadata": {},
     "output_type": "display_data"
    },
    {
     "data": {
      "text/html": [
       "<div class=\"dswbOutputText\"><h1 class=\"chart_title\" style=\"color:#ccc\">Fetching Request Stats</h1><h3 class=\"chart_info\" style=\"color:#ccc\">April 21, 2017 23:59:00 to April 22, 2017 23:59:00 Local Time</h3></div>"
      ]
     },
     "metadata": {},
     "output_type": "display_data"
    },
    {
     "data": {
      "text/html": [
       "    <table  class=\"dataframe-table\">\n",
       "    <thead><tr><th class=\"cell-1\" style=\"\">Page Views</th> <th class=\"cell-2\" style=\"\">Mean(ms)</th> <th class=\"cell-3\" style=\"\">Median(ms)</th> <th class=\"cell-4\" style=\"\">Min(ms)</th> <th class=\"cell-5\" style=\"\">Max(ms)</th> <th class=\"cell-6\" style=\"\">25 Percentile</th> <th class=\"cell-7\" style=\"\">75 Percentile</th></tr></thead>\n",
       "    <tbody>\n",
       "    <tr><td class=\"cell-1\" style=\"text-align:right;\">103,061</td> <td class=\"cell-2\" style=\"text-align:right;\">1,273</td> <td class=\"cell-3\" style=\"text-align:right;\">652</td> <td class=\"cell-4\" style=\"text-align:right;\">1</td> <td class=\"cell-5\" style=\"text-align:right;\">454,621</td> <td class=\"cell-6\" style=\"text-align:right;\">376</td> <td class=\"cell-7\" style=\"text-align:right;\">1,234</td></tr>\n",
       "    </tbody>\n"
      ]
     },
     "metadata": {},
     "output_type": "display_data"
    },
    {
     "data": {
      "text/html": [
       "<div class=\"dswbOutputText\"><h1 class=\"chart_title\" style=\"color:#ccc\">Request Start Stats</h1><h3 class=\"chart_info\" style=\"color:#ccc\">April 21, 2017 23:59:00 to April 22, 2017 23:59:00 Local Time</h3></div>"
      ]
     },
     "metadata": {},
     "output_type": "display_data"
    },
    {
     "data": {
      "text/html": [
       "    <table  class=\"dataframe-table\">\n",
       "    <thead><tr><th class=\"cell-1\" style=\"\">Page Views</th> <th class=\"cell-2\" style=\"\">Mean(ms)</th> <th class=\"cell-3\" style=\"\">Median(ms)</th> <th class=\"cell-4\" style=\"\">Min(ms)</th> <th class=\"cell-5\" style=\"\">Max(ms)</th> <th class=\"cell-6\" style=\"\">25 Percentile</th> <th class=\"cell-7\" style=\"\">75 Percentile</th></tr></thead>\n",
       "    <tbody>\n",
       "    <tr><td class=\"cell-1\" style=\"text-align:right;\">103,061</td> <td class=\"cell-2\" style=\"text-align:right;\">1,694</td> <td class=\"cell-3\" style=\"text-align:right;\">940</td> <td class=\"cell-4\" style=\"text-align:right;\">0</td> <td class=\"cell-5\" style=\"text-align:right;\">455,017</td> <td class=\"cell-6\" style=\"text-align:right;\">569</td> <td class=\"cell-7\" style=\"text-align:right;\">1,691</td></tr>\n",
       "    </tbody>\n"
      ]
     },
     "metadata": {},
     "output_type": "display_data"
    },
    {
     "data": {
      "text/html": [
       "<div class=\"dswbOutputText\"><h1 class=\"chart_title\" style=\"color:#ccc\">Request First Byte Stats</h1><h3 class=\"chart_info\" style=\"color:#ccc\">April 21, 2017 23:59:00 to April 22, 2017 23:59:00 Local Time</h3></div>"
      ]
     },
     "metadata": {},
     "output_type": "display_data"
    },
    {
     "data": {
      "text/html": [
       "    <table  class=\"dataframe-table\">\n",
       "    <thead><tr><th class=\"cell-1\" style=\"\">Page Views</th> <th class=\"cell-2\" style=\"\">Mean(ms)</th> <th class=\"cell-3\" style=\"\">Median(ms)</th> <th class=\"cell-4\" style=\"\">Min(ms)</th> <th class=\"cell-5\" style=\"\">Max(ms)</th> <th class=\"cell-6\" style=\"\">25 Percentile</th> <th class=\"cell-7\" style=\"\">75 Percentile</th></tr></thead>\n",
       "    <tbody>\n",
       "    <tr><td class=\"cell-1\" style=\"text-align:right;\">103,061</td> <td class=\"cell-2\" style=\"text-align:right;\">1,828</td> <td class=\"cell-3\" style=\"text-align:right;\">1,019</td> <td class=\"cell-4\" style=\"text-align:right;\">0</td> <td class=\"cell-5\" style=\"text-align:right;\">455,023</td> <td class=\"cell-6\" style=\"text-align:right;\">629</td> <td class=\"cell-7\" style=\"text-align:right;\">1,817</td></tr>\n",
       "    </tbody>\n"
      ]
     },
     "metadata": {},
     "output_type": "display_data"
    },
    {
     "data": {
      "text/html": [
       "<div class=\"dswbOutputText\"><h1 class=\"chart_title\" style=\"color:#ccc\">Request Last Byte Stats</h1><h3 class=\"chart_info\" style=\"color:#ccc\">April 21, 2017 23:59:00 to April 22, 2017 23:59:00 Local Time</h3></div>"
      ]
     },
     "metadata": {},
     "output_type": "display_data"
    },
    {
     "data": {
      "text/html": [
       "    <table  class=\"dataframe-table\">\n",
       "    <thead><tr><th class=\"cell-1\" style=\"\">Page Views</th> <th class=\"cell-2\" style=\"\">Mean(ms)</th> <th class=\"cell-3\" style=\"\">Median(ms)</th> <th class=\"cell-4\" style=\"\">Min(ms)</th> <th class=\"cell-5\" style=\"\">Max(ms)</th> <th class=\"cell-6\" style=\"\">25 Percentile</th> <th class=\"cell-7\" style=\"\">75 Percentile</th></tr></thead>\n",
       "    <tbody>\n",
       "    <tr><td class=\"cell-1\" style=\"text-align:right;\">103,061</td> <td class=\"cell-2\" style=\"text-align:right;\">1,853</td> <td class=\"cell-3\" style=\"text-align:right;\">1,031</td> <td class=\"cell-4\" style=\"text-align:right;\">84</td> <td class=\"cell-5\" style=\"text-align:right;\">455,023</td> <td class=\"cell-6\" style=\"text-align:right;\">637</td> <td class=\"cell-7\" style=\"text-align:right;\">1,838</td></tr>\n",
       "    </tbody>\n"
      ]
     },
     "metadata": {},
     "output_type": "display_data"
    }
   ],
   "source": [
    "resourceTime2(tableRt;linesOut=linesOutput)\n",
    ";"
   ]
  },
  {
   "cell_type": "code",
   "execution_count": 58,
   "metadata": {
    "collapsed": false,
    "input_collapsed": false,
    "scrolled": false
   },
   "outputs": [
    {
     "data": {
      "text/plain": [
       "resourceTime3 (generic function with 1 method)"
      ]
     },
     "execution_count": 58,
     "metadata": {},
     "output_type": "execute_result"
    }
   ],
   "source": [
    "function resourceTime3(tableRt::ASCIIString;linesOut::Int64=25)\n",
    "    \n",
    "    try\n",
    "        joinTables = query(\"\"\"\\\n",
    "        select \n",
    "        (response_last_byte-start_time) as \"Time Taken\",\n",
    "        (start_time) as \"Start Time\",\n",
    "        (fetch_start) as \"Fetch S\",\n",
    "        (dns_end-dns_start) as \"DNS ms\",\n",
    "        (tcp_connection_end-tcp_connection_start) as \"TCP ms\",\n",
    "        (request_start) as \"Req S\",\n",
    "        (response_first_byte) as \"Req FB\",\t\n",
    "        (response_last_byte) as \"Req LB\",\n",
    "        url, params_u,\n",
    "        (redirect_start) as \"Redirect S\",\n",
    "        (redirect_end) as \"Redirect E\",\n",
    "        (secure_connection_start) as \"Secure Conn S\"\n",
    "        from $tableRt\n",
    "        where \n",
    "          url ilike '$resourceUrl' and\n",
    "        \"timestamp\" between $(TV.startTimeMsUTC) and $(TV.endTimeMsUTC) and\n",
    "        start_time > 10000\n",
    "        order by start_time desc\n",
    "        limit 25\n",
    "        \"\"\");\n",
    "\n",
    "        displayTitle(chart_title = \"Raw Resource Url Pattern $(resourceUrl)\", chart_info = [TV.timeString], showTimeStamp=false)\n",
    "        #scrubUrlToPrint(joinTables,limit=150)\n",
    "        beautifyDF(joinTables[1:min(linesOut,end),:])\n",
    "    catch y\n",
    "        println(\"bigTable5 Exception \",y)\n",
    "    end\n",
    "end \n"
   ]
  },
  {
   "cell_type": "code",
   "execution_count": 59,
   "metadata": {
    "collapsed": false,
    "input_collapsed": false,
    "scrolled": false
   },
   "outputs": [
    {
     "data": {
      "text/html": [
       "<div class=\"dswbOutputText\"><h1 class=\"chart_title\" style=\"color:#ccc\">Raw Resource Url Pattern %ng-black-logo%</h1><h3 class=\"chart_info\" style=\"color:#ccc\">April 21, 2017 23:59:00 to April 22, 2017 23:59:00 Local Time</h3></div>"
      ]
     },
     "metadata": {},
     "output_type": "display_data"
    },
    {
     "data": {
      "text/html": [
       "    <table  class=\"dataframe-table\">\n",
       "    <thead><tr><th class=\"cell-1\" style=\"\">time taken</th> <th class=\"cell-2\" style=\"\">start time</th> <th class=\"cell-3\" style=\"\">fetch s</th> <th class=\"cell-4\" style=\"\">dns ms</th> <th class=\"cell-5\" style=\"\">tcp ms</th> <th class=\"cell-6\" style=\"\">req s</th> <th class=\"cell-7\" style=\"\">req fb</th> <th class=\"cell-8\" style=\"\">req lb</th> <th class=\"cell-9\" style=\"\">url</th> <th class=\"cell-10\" style=\"\">params u</th> <th class=\"cell-11\" style=\"\">redirect s</th> <th class=\"cell-12\" style=\"\">redirect e</th> <th class=\"cell-13\" style=\"\">secure conn s</th></tr></thead>\n",
       "    <tbody>\n",
       "    <tr><td class=\"cell-1\" style=\"text-align:right;\">-77,958,796</td> <td class=\"cell-2\" style=\"text-align:right;\">77,958,796</td> <td class=\"cell-3\" style=\"text-align:right;\">77,958,796</td> <td class=\"cell-4\" style=\"text-align:right;\">0</td> <td class=\"cell-5\" style=\"text-align:right;\">0</td> <td class=\"cell-6\" style=\"text-align:right;\">0</td> <td class=\"cell-7\" style=\"text-align:right;\">0</td> <td class=\"cell-8\" style=\"text-align:right;\">0</td> <td class=\"cell-9\" style=\"\">http://www.nationalgeographic.com/etc/designs/platform/v2/images/logos/ng-black-logo.ngsversion.45ded159.png</td> <td class=\"cell-10\" style=\"\">http://www.nationalgeographic.com/animals/mammals/group/wallabies/</td> <td class=\"cell-11\" style=\"text-align:right;\">0</td> <td class=\"cell-12\" style=\"text-align:right;\">0</td> <td class=\"cell-13\" style=\"text-align:right;\">0</td></tr>\n",
       "<tr><td class=\"cell-1\" style=\"text-align:right;\">-70,016,527</td> <td class=\"cell-2\" style=\"text-align:right;\">70,016,527</td> <td class=\"cell-3\" style=\"text-align:right;\">70,016,527</td> <td class=\"cell-4\" style=\"text-align:right;\">0</td> <td class=\"cell-5\" style=\"text-align:right;\">0</td> <td class=\"cell-6\" style=\"text-align:right;\">0</td> <td class=\"cell-7\" style=\"text-align:right;\">0</td> <td class=\"cell-8\" style=\"text-align:right;\">0</td> <td class=\"cell-9\" style=\"\">http://news.nationalgeographic.com/etc/designs/platform/v2/images/logos/ng-black-logo.ngsversion.45ded159.png</td> <td class=\"cell-10\" style=\"\">http://news.nationalgeographic.com/news/2011/110304-fire-tornado-picture-firenado-science-whirl-devil-budapest-hungary/</td> <td class=\"cell-11\" style=\"text-align:right;\">0</td> <td class=\"cell-12\" style=\"text-align:right;\">0</td> <td class=\"cell-13\" style=\"text-align:right;\">0</td></tr>\n",
       "<tr><td class=\"cell-1\" style=\"text-align:right;\">-52,870,977</td> <td class=\"cell-2\" style=\"text-align:right;\">52,870,977</td> <td class=\"cell-3\" style=\"text-align:right;\">52,870,977</td> <td class=\"cell-4\" style=\"text-align:right;\">0</td> <td class=\"cell-5\" style=\"text-align:right;\">0</td> <td class=\"cell-6\" style=\"text-align:right;\">0</td> <td class=\"cell-7\" style=\"text-align:right;\">0</td> <td class=\"cell-8\" style=\"text-align:right;\">0</td> <td class=\"cell-9\" style=\"\">http://news.nationalgeographic.com/etc/designs/platform/v2/images/logos/ng-black-logo.ngsversion.45ded159.png</td> <td class=\"cell-10\" style=\"\">http://news.nationalgeographic.com/2016/12/wildlife-watch-mongoose-hair-paintbrushes/</td> <td class=\"cell-11\" style=\"text-align:right;\">0</td> <td class=\"cell-12\" style=\"text-align:right;\">0</td> <td class=\"cell-13\" style=\"text-align:right;\">0</td></tr>\n",
       "<tr><td class=\"cell-1\" style=\"text-align:right;\">402</td> <td class=\"cell-2\" style=\"text-align:right;\">454,621</td> <td class=\"cell-3\" style=\"text-align:right;\">454,621</td> <td class=\"cell-4\" style=\"text-align:right;\">0</td> <td class=\"cell-5\" style=\"text-align:right;\">0</td> <td class=\"cell-6\" style=\"text-align:right;\">455,017</td> <td class=\"cell-7\" style=\"text-align:right;\">455,023</td> <td class=\"cell-8\" style=\"text-align:right;\">455,023</td> <td class=\"cell-9\" style=\"\">http://www.nationalgeographic.com/etc/designs/platform/v2/images/logos/ng-black-logo.ngsversion.45ded159.png</td> <td class=\"cell-10\" style=\"\">http://www.nationalgeographic.com/photography/photo-of-the-day/2017/04/petite-terre-aerial/</td> <td class=\"cell-11\" style=\"text-align:right;\">0</td> <td class=\"cell-12\" style=\"text-align:right;\">0</td> <td class=\"cell-13\" style=\"text-align:right;\">0</td></tr>\n",
       "<tr><td class=\"cell-1\" style=\"text-align:right;\">2</td> <td class=\"cell-2\" style=\"text-align:right;\">320,323</td> <td class=\"cell-3\" style=\"text-align:right;\">320,323</td> <td class=\"cell-4\" style=\"text-align:right;\">0</td> <td class=\"cell-5\" style=\"text-align:right;\">0</td> <td class=\"cell-6\" style=\"text-align:right;\">320,324</td> <td class=\"cell-7\" style=\"text-align:right;\">320,324</td> <td class=\"cell-8\" style=\"text-align:right;\">320,325</td> <td class=\"cell-9\" style=\"\">http://www.nationalgeographic.com/etc/designs/platform/v2/images/logos/ng-black-logo.ngsversion.45ded159.png</td> <td class=\"cell-10\" style=\"\">http://www.nationalgeographic.com/adventure/destinations/united-states/national-parks/10-ultimate-must-do-national-parks-adventures-activities/?utm_source=NatGeocom&utm_medium=Email&utm_content=adventure_20170420&utm_campaign=Content&utm_rd=38897133</td> <td class=\"cell-11\" style=\"text-align:right;\">0</td> <td class=\"cell-12\" style=\"text-align:right;\">0</td> <td class=\"cell-13\" style=\"text-align:right;\">0</td></tr>\n",
       "<tr><td class=\"cell-1\" style=\"text-align:right;\">650</td> <td class=\"cell-2\" style=\"text-align:right;\">291,323</td> <td class=\"cell-3\" style=\"text-align:right;\">291,323</td> <td class=\"cell-4\" style=\"text-align:right;\">0</td> <td class=\"cell-5\" style=\"text-align:right;\">0</td> <td class=\"cell-6\" style=\"text-align:right;\">0</td> <td class=\"cell-7\" style=\"text-align:right;\">291,912</td> <td class=\"cell-8\" style=\"text-align:right;\">291,973</td> <td class=\"cell-9\" style=\"\">http://www.nationalgeographic.com/etc/designs/platform/v2/images/logos/ng-black-logo.ngsversion.45ded159.png</td> <td class=\"cell-10\" style=\"\">http://www.nationalgeographic.com/photography/photo-of-the-day/2011/9/vw-bug-rio/</td> <td class=\"cell-11\" style=\"text-align:right;\">0</td> <td class=\"cell-12\" style=\"text-align:right;\">0</td> <td class=\"cell-13\" style=\"text-align:right;\">0</td></tr>\n",
       "<tr><td class=\"cell-1\" style=\"text-align:right;\">4,346</td> <td class=\"cell-2\" style=\"text-align:right;\">285,433</td> <td class=\"cell-3\" style=\"text-align:right;\">285,433</td> <td class=\"cell-4\" style=\"text-align:right;\">0</td> <td class=\"cell-5\" style=\"text-align:right;\">0</td> <td class=\"cell-6\" style=\"text-align:right;\">289,193</td> <td class=\"cell-7\" style=\"text-align:right;\">289,772</td> <td class=\"cell-8\" style=\"text-align:right;\">289,779</td> <td class=\"cell-9\" style=\"\">http://www.nationalgeographic.com/etc/designs/platform/v2/images/logos/ng-black-logo.ngsversion.45ded159.png</td> <td class=\"cell-10\" style=\"\">http://www.nationalgeographic.com/photography/photo-of-the-day/2011/9/vw-bug-rio/</td> <td class=\"cell-11\" style=\"text-align:right;\">0</td> <td class=\"cell-12\" style=\"text-align:right;\">0</td> <td class=\"cell-13\" style=\"text-align:right;\">0</td></tr>\n",
       "<tr><td class=\"cell-1\" style=\"text-align:right;\">186</td> <td class=\"cell-2\" style=\"text-align:right;\">278,582</td> <td class=\"cell-3\" style=\"text-align:right;\">278,582</td> <td class=\"cell-4\" style=\"text-align:right;\">0</td> <td class=\"cell-5\" style=\"text-align:right;\">0</td> <td class=\"cell-6\" style=\"text-align:right;\">278,678</td> <td class=\"cell-7\" style=\"text-align:right;\">278,730</td> <td class=\"cell-8\" style=\"text-align:right;\">278,768</td> <td class=\"cell-9\" style=\"\">http://news.nationalgeographic.com/etc/designs/platform/v2/images/logos/ng-black-logo.ngsversion.45ded159.png</td> <td class=\"cell-10\" style=\"\">http://news.nationalgeographic.com/2016/07/fighting-hospital-superbugs-has-a-bonus-effect/</td> <td class=\"cell-11\" style=\"text-align:right;\">0</td> <td class=\"cell-12\" style=\"text-align:right;\">0</td> <td class=\"cell-13\" style=\"text-align:right;\">0</td></tr>\n",
       "<tr><td class=\"cell-1\" style=\"text-align:right;\">308</td> <td class=\"cell-2\" style=\"text-align:right;\">272,968</td> <td class=\"cell-3\" style=\"text-align:right;\">272,968</td> <td class=\"cell-4\" style=\"text-align:right;\">0</td> <td class=\"cell-5\" style=\"text-align:right;\">0</td> <td class=\"cell-6\" style=\"text-align:right;\">273,257</td> <td class=\"cell-7\" style=\"text-align:right;\">273,275</td> <td class=\"cell-8\" style=\"text-align:right;\">273,276</td> <td class=\"cell-9\" style=\"\">http://www.nationalgeographic.com/etc/designs/platform/v2/images/logos/ng-black-logo.ngsversion.45ded159.png</td> <td class=\"cell-10\" style=\"\">http://www.nationalgeographic.com/travel/lists/parks/national-parks-from-outer-space-aerial-photos/</td> <td class=\"cell-11\" style=\"text-align:right;\">0</td> <td class=\"cell-12\" style=\"text-align:right;\">0</td> <td class=\"cell-13\" style=\"text-align:right;\">0</td></tr>\n",
       "<tr><td class=\"cell-1\" style=\"text-align:right;\">22,150</td> <td class=\"cell-2\" style=\"text-align:right;\">263,377</td> <td class=\"cell-3\" style=\"text-align:right;\">263,377</td> <td class=\"cell-4\" style=\"text-align:right;\">0</td> <td class=\"cell-5\" style=\"text-align:right;\">0</td> <td class=\"cell-6\" style=\"text-align:right;\">285,349</td> <td class=\"cell-7\" style=\"text-align:right;\">285,519</td> <td class=\"cell-8\" style=\"text-align:right;\">285,527</td> <td class=\"cell-9\" style=\"\">http://news.nationalgeographic.com/etc/designs/platform/v2/images/logos/ng-black-logo.ngsversion.45ded159.png</td> <td class=\"cell-10\" style=\"\">http://news.nationalgeographic.com/news/2014/07/140731-termites-mounds-insects-entomology-science/</td> <td class=\"cell-11\" style=\"text-align:right;\">0</td> <td class=\"cell-12\" style=\"text-align:right;\">0</td> <td class=\"cell-13\" style=\"text-align:right;\">0</td></tr>\n",
       "<tr><td class=\"cell-1\" style=\"text-align:right;\">15,537</td> <td class=\"cell-2\" style=\"text-align:right;\">248,150</td> <td class=\"cell-3\" style=\"text-align:right;\">248,150</td> <td class=\"cell-4\" style=\"text-align:right;\">14,301</td> <td class=\"cell-5\" style=\"text-align:right;\">125</td> <td class=\"cell-6\" style=\"text-align:right;\">263,539</td> <td class=\"cell-7\" style=\"text-align:right;\">263,687</td> <td class=\"cell-8\" style=\"text-align:right;\">263,687</td> <td class=\"cell-9\" style=\"\">http://news.nationalgeographic.com/etc/designs/platform/v2/images/logos/ng-black-logo.ngsversion.45ded159.png</td> <td class=\"cell-10\" style=\"\">http://news.nationalgeographic.com/2015/11/151104-newton-einstein-gravity-vulcan-planets-mercury-astronomy-theory-of-relativity-ngbooktalk/</td> <td class=\"cell-11\" style=\"text-align:right;\">0</td> <td class=\"cell-12\" style=\"text-align:right;\">0</td> <td class=\"cell-13\" style=\"text-align:right;\">0</td></tr>\n",
       "<tr><td class=\"cell-1\" style=\"text-align:right;\">241</td> <td class=\"cell-2\" style=\"text-align:right;\">235,609</td> <td class=\"cell-3\" style=\"text-align:right;\">235,609</td> <td class=\"cell-4\" style=\"text-align:right;\">0</td> <td class=\"cell-5\" style=\"text-align:right;\">0</td> <td class=\"cell-6\" style=\"text-align:right;\">235,804</td> <td class=\"cell-7\" style=\"text-align:right;\">235,847</td> <td class=\"cell-8\" style=\"text-align:right;\">235,850</td> <td class=\"cell-9\" style=\"\">http://news.nationalgeographic.com/etc/designs/platform/v2/images/logos/ng-black-logo.ngsversion.45ded159.png</td> <td class=\"cell-10\" style=\"\">http://news.nationalgeographic.com/2017/04/monks-sustainable-holy-cross-abbey/?google_editors_picks=true</td> <td class=\"cell-11\" style=\"text-align:right;\">0</td> <td class=\"cell-12\" style=\"text-align:right;\">0</td> <td class=\"cell-13\" style=\"text-align:right;\">0</td></tr>\n",
       "<tr><td class=\"cell-1\" style=\"text-align:right;\">3,375</td> <td class=\"cell-2\" style=\"text-align:right;\">192,293</td> <td class=\"cell-3\" style=\"text-align:right;\">192,293</td> <td class=\"cell-4\" style=\"text-align:right;\">2,044</td> <td class=\"cell-5\" style=\"text-align:right;\">509</td> <td class=\"cell-6\" style=\"text-align:right;\">194,848</td> <td class=\"cell-7\" style=\"text-align:right;\">195,658</td> <td class=\"cell-8\" style=\"text-align:right;\">195,668</td> <td class=\"cell-9\" style=\"\">http://news.nationalgeographic.com/etc/designs/platform/v2/images/logos/ng-black-logo.ngsversion.45ded159.png</td> <td class=\"cell-10\" style=\"\">http://news.nationalgeographic.com/news/2010/05/photogalleries/100504-gulf-of-mexico-oil-spill-environment-nation-pictures/</td> <td class=\"cell-11\" style=\"text-align:right;\">0</td> <td class=\"cell-12\" style=\"text-align:right;\">0</td> <td class=\"cell-13\" style=\"text-align:right;\">0</td></tr>\n",
       "<tr><td class=\"cell-1\" style=\"text-align:right;\">627</td> <td class=\"cell-2\" style=\"text-align:right;\">181,709</td> <td class=\"cell-3\" style=\"text-align:right;\">181,709</td> <td class=\"cell-4\" style=\"text-align:right;\">183</td> <td class=\"cell-5\" style=\"text-align:right;\">3</td> <td class=\"cell-6\" style=\"text-align:right;\">181,898</td> <td class=\"cell-7\" style=\"text-align:right;\">182,335</td> <td class=\"cell-8\" style=\"text-align:right;\">182,336</td> <td class=\"cell-9\" style=\"\">http://news.nationalgeographic.com/etc/designs/platform/v2/images/logos/ng-black-logo.ngsversion.45ded159.png</td> <td class=\"cell-10\" style=\"\">http://news.nationalgeographic.com/2017/04/michelangelo-secret-room-pictures-genius/</td> <td class=\"cell-11\" style=\"text-align:right;\">0</td> <td class=\"cell-12\" style=\"text-align:right;\">0</td> <td class=\"cell-13\" style=\"text-align:right;\">0</td></tr>\n",
       "<tr><td class=\"cell-1\" style=\"text-align:right;\">551</td> <td class=\"cell-2\" style=\"text-align:right;\">175,957</td> <td class=\"cell-3\" style=\"text-align:right;\">175,957</td> <td class=\"cell-4\" style=\"text-align:right;\">0</td> <td class=\"cell-5\" style=\"text-align:right;\">0</td> <td class=\"cell-6\" style=\"text-align:right;\">0</td> <td class=\"cell-7\" style=\"text-align:right;\">176,488</td> <td class=\"cell-8\" style=\"text-align:right;\">176,508</td> <td class=\"cell-9\" style=\"\">http://www.nationalgeographic.com/etc/designs/platform/v2/images/logos/ng-black-logo.ngsversion.45ded159.png</td> <td class=\"cell-10\" style=\"\">http://www.nationalgeographic.com/photography/photo-of-the-day/2017/04/operating-room-table/</td> <td class=\"cell-11\" style=\"text-align:right;\">0</td> <td class=\"cell-12\" style=\"text-align:right;\">0</td> <td class=\"cell-13\" style=\"text-align:right;\">0</td></tr>\n",
       "<tr><td class=\"cell-1\" style=\"text-align:right;\">1,365</td> <td class=\"cell-2\" style=\"text-align:right;\">170,791</td> <td class=\"cell-3\" style=\"text-align:right;\">170,791</td> <td class=\"cell-4\" style=\"text-align:right;\">170,856</td> <td class=\"cell-5\" style=\"text-align:right;\">0</td> <td class=\"cell-6\" style=\"text-align:right;\">170,895</td> <td class=\"cell-7\" style=\"text-align:right;\">170,947</td> <td class=\"cell-8\" style=\"text-align:right;\">172,156</td> <td class=\"cell-9\" style=\"\">http://www.nationalgeographic.com/etc/designs/platform/v2/images/logos/ng-black-logo.ngsversion.45ded159.png</td> <td class=\"cell-10\" style=\"\">http://www.nationalgeographic.com/magazine/2017/05/genius-genetics-intelligence-neuroscience-creativity-einstein/</td> <td class=\"cell-11\" style=\"text-align:right;\">0</td> <td class=\"cell-12\" style=\"text-align:right;\">0</td> <td class=\"cell-13\" style=\"text-align:right;\">0</td></tr>\n",
       "<tr><td class=\"cell-1\" style=\"text-align:right;\">26,415</td> <td class=\"cell-2\" style=\"text-align:right;\">169,476</td> <td class=\"cell-3\" style=\"text-align:right;\">169,476</td> <td class=\"cell-4\" style=\"text-align:right;\">9,039</td> <td class=\"cell-5\" style=\"text-align:right;\">7,009</td> <td class=\"cell-6\" style=\"text-align:right;\">190,120</td> <td class=\"cell-7\" style=\"text-align:right;\">192,622</td> <td class=\"cell-8\" style=\"text-align:right;\">195,891</td> <td class=\"cell-9\" style=\"\">http://www.nationalgeographic.com/etc/designs/platform/v2/images/logos/ng-black-logo.ngsversion.45ded159.png</td> <td class=\"cell-10\" style=\"\">http://www.nationalgeographic.com/travel/top-10/europe-castles/?utm_source=NGdotcom-Travel&utm_medium=Email&utm_content=20170413_Travel_Newsletter&utm_campaign=NGdotcom&utm_rd=12551233235</td> <td class=\"cell-11\" style=\"text-align:right;\">0</td> <td class=\"cell-12\" style=\"text-align:right;\">0</td> <td class=\"cell-13\" style=\"text-align:right;\">0</td></tr>\n",
       "<tr><td class=\"cell-1\" style=\"text-align:right;\">988</td> <td class=\"cell-2\" style=\"text-align:right;\">165,556</td> <td class=\"cell-3\" style=\"text-align:right;\">165,556</td> <td class=\"cell-4\" style=\"text-align:right;\">0</td> <td class=\"cell-5\" style=\"text-align:right;\">0</td> <td class=\"cell-6\" style=\"text-align:right;\">165,750</td> <td class=\"cell-7\" style=\"text-align:right;\">166,375</td> <td class=\"cell-8\" style=\"text-align:right;\">166,544</td> <td class=\"cell-9\" style=\"\">http://www.nationalgeographic.com/etc/designs/platform/v2/images/logos/ng-black-logo.ngsversion.45ded159.png</td> <td class=\"cell-10\" style=\"\">http://www.nationalgeographic.com/science/space/universe/origins-of-the-universe/</td> <td class=\"cell-11\" style=\"text-align:right;\">0</td> <td class=\"cell-12\" style=\"text-align:right;\">0</td> <td class=\"cell-13\" style=\"text-align:right;\">0</td></tr>\n",
       "<tr><td class=\"cell-1\" style=\"text-align:right;\">437</td> <td class=\"cell-2\" style=\"text-align:right;\">161,303</td> <td class=\"cell-3\" style=\"text-align:right;\">161,303</td> <td class=\"cell-4\" style=\"text-align:right;\">0</td> <td class=\"cell-5\" style=\"text-align:right;\">0</td> <td class=\"cell-6\" style=\"text-align:right;\">161,669</td> <td class=\"cell-7\" style=\"text-align:right;\">161,733</td> <td class=\"cell-8\" style=\"text-align:right;\">161,740</td> <td class=\"cell-9\" style=\"\">http://news.nationalgeographic.com/etc/designs/platform/v2/images/logos/ng-black-logo.ngsversion.45ded159.png</td> <td class=\"cell-10\" style=\"\">http://news.nationalgeographic.com/news/2014/01/140114-progeria-disease-berns-children-premature-aging-research-gene-mutation/</td> <td class=\"cell-11\" style=\"text-align:right;\">0</td> <td class=\"cell-12\" style=\"text-align:right;\">0</td> <td class=\"cell-13\" style=\"text-align:right;\">0</td></tr>\n",
       "<tr><td class=\"cell-1\" style=\"text-align:right;\">436</td> <td class=\"cell-2\" style=\"text-align:right;\">161,129</td> <td class=\"cell-3\" style=\"text-align:right;\">161,129</td> <td class=\"cell-4\" style=\"text-align:right;\">0</td> <td class=\"cell-5\" style=\"text-align:right;\">0</td> <td class=\"cell-6\" style=\"text-align:right;\">161,534</td> <td class=\"cell-7\" style=\"text-align:right;\">161,537</td> <td class=\"cell-8\" style=\"text-align:right;\">161,565</td> <td class=\"cell-9\" style=\"\">http://www.nationalgeographic.com/etc/designs/platform/v2/images/logos/ng-black-logo.ngsversion.45ded159.png</td> <td class=\"cell-10\" style=\"\">http://www.nationalgeographic.com/photography/photo-of-the-day/2017/04/petite-terre-aerial/</td> <td class=\"cell-11\" style=\"text-align:right;\">0</td> <td class=\"cell-12\" style=\"text-align:right;\">0</td> <td class=\"cell-13\" style=\"text-align:right;\">0</td></tr>\n",
       "<tr><td class=\"cell-1\" style=\"text-align:right;\">475</td> <td class=\"cell-2\" style=\"text-align:right;\">158,011</td> <td class=\"cell-3\" style=\"text-align:right;\">158,011</td> <td class=\"cell-4\" style=\"text-align:right;\">0</td> <td class=\"cell-5\" style=\"text-align:right;\">0</td> <td class=\"cell-6\" style=\"text-align:right;\">158,461</td> <td class=\"cell-7\" style=\"text-align:right;\">158,462</td> <td class=\"cell-8\" style=\"text-align:right;\">158,486</td> <td class=\"cell-9\" style=\"\">http://www.nationalgeographic.com/etc/designs/platform/v2/images/logos/ng-black-logo.ngsversion.45ded159.png</td> <td class=\"cell-10\" style=\"\">http://www.nationalgeographic.com/photography/photo-of-the-day/2017/04/petite-terre-aerial/</td> <td class=\"cell-11\" style=\"text-align:right;\">0</td> <td class=\"cell-12\" style=\"text-align:right;\">0</td> <td class=\"cell-13\" style=\"text-align:right;\">0</td></tr>\n",
       "<tr><td class=\"cell-1\" style=\"text-align:right;\">6,436</td> <td class=\"cell-2\" style=\"text-align:right;\">144,666</td> <td class=\"cell-3\" style=\"text-align:right;\">144,666</td> <td class=\"cell-4\" style=\"text-align:right;\">0</td> <td class=\"cell-5\" style=\"text-align:right;\">0</td> <td class=\"cell-6\" style=\"text-align:right;\">150,433</td> <td class=\"cell-7\" style=\"text-align:right;\">151,095</td> <td class=\"cell-8\" style=\"text-align:right;\">151,102</td> <td class=\"cell-9\" style=\"\">http://www.nationalgeographic.com/etc/designs/platform/v2/images/logos/ng-black-logo.ngsversion.45ded159.png</td> <td class=\"cell-10\" style=\"\">http://www.nationalgeographic.com/adventure/trips/best-ski-towns-photos/</td> <td class=\"cell-11\" style=\"text-align:right;\">0</td> <td class=\"cell-12\" style=\"text-align:right;\">0</td> <td class=\"cell-13\" style=\"text-align:right;\">0</td></tr>\n",
       "<tr><td class=\"cell-1\" style=\"text-align:right;\">2</td> <td class=\"cell-2\" style=\"text-align:right;\">131,706</td> <td class=\"cell-3\" style=\"text-align:right;\">131,706</td> <td class=\"cell-4\" style=\"text-align:right;\">0</td> <td class=\"cell-5\" style=\"text-align:right;\">0</td> <td class=\"cell-6\" style=\"text-align:right;\">131,708</td> <td class=\"cell-7\" style=\"text-align:right;\">131,708</td> <td class=\"cell-8\" style=\"text-align:right;\">131,708</td> <td class=\"cell-9\" style=\"\">http://news.nationalgeographic.com/etc/designs/platform/v2/images/logos/ng-black-logo.ngsversion.45ded159.png</td> <td class=\"cell-10\" style=\"\">http://news.nationalgeographic.com/2017/04/science-march-funding-technology-genius/</td> <td class=\"cell-11\" style=\"text-align:right;\">0</td> <td class=\"cell-12\" style=\"text-align:right;\">0</td> <td class=\"cell-13\" style=\"text-align:right;\">0</td></tr>\n",
       "<tr><td class=\"cell-1\" style=\"text-align:right;\">171,550</td> <td class=\"cell-2\" style=\"text-align:right;\">126,773</td> <td class=\"cell-3\" style=\"text-align:right;\">126,773</td> <td class=\"cell-4\" style=\"text-align:right;\">0</td> <td class=\"cell-5\" style=\"text-align:right;\">0</td> <td class=\"cell-6\" style=\"text-align:right;\">298,248</td> <td class=\"cell-7\" style=\"text-align:right;\">298,318</td> <td class=\"cell-8\" style=\"text-align:right;\">298,323</td> <td class=\"cell-9\" style=\"\">http://www.nationalgeographic.com/etc/designs/platform/v2/images/logos/ng-black-logo.ngsversion.45ded159.png</td> <td class=\"cell-10\" style=\"\">http://www.nationalgeographic.com/magazine/2017/05/genius-genetics-intelligence-neuroscience-creativity-einstein/?utm_source=digg&utm_medium=email</td> <td class=\"cell-11\" style=\"text-align:right;\">0</td> <td class=\"cell-12\" style=\"text-align:right;\">0</td> <td class=\"cell-13\" style=\"text-align:right;\">0</td></tr>\n",
       "<tr><td class=\"cell-1\" style=\"text-align:right;\">2</td> <td class=\"cell-2\" style=\"text-align:right;\">126,722</td> <td class=\"cell-3\" style=\"text-align:right;\">126,722</td> <td class=\"cell-4\" style=\"text-align:right;\">0</td> <td class=\"cell-5\" style=\"text-align:right;\">0</td> <td class=\"cell-6\" style=\"text-align:right;\">126,723</td> <td class=\"cell-7\" style=\"text-align:right;\">126,723</td> <td class=\"cell-8\" style=\"text-align:right;\">126,724</td> <td class=\"cell-9\" style=\"\">http://news.nationalgeographic.com/etc/designs/platform/v2/images/logos/ng-black-logo.ngsversion.45ded159.png</td> <td class=\"cell-10\" style=\"\">http://news.nationalgeographic.com/2017/04/black-hole-event-horizon-telescope-pictures-genius-science/</td> <td class=\"cell-11\" style=\"text-align:right;\">0</td> <td class=\"cell-12\" style=\"text-align:right;\">0</td> <td class=\"cell-13\" style=\"text-align:right;\">0</td></tr>\n",
       "    </tbody>\n"
      ]
     },
     "metadata": {},
     "output_type": "display_data"
    }
   ],
   "source": [
    "resourceTime3(tableRt;linesOut=linesOutput)\n",
    ";"
   ]
  },
  {
   "cell_type": "code",
   "execution_count": 60,
   "metadata": {
    "collapsed": false,
    "input_collapsed": false
   },
   "outputs": [],
   "source": [
    "## Resource and it parent is also interesting below this point\n",
    "\n",
    "#try\n",
    "#    query(\"\"\"\\\n",
    "#        create or replace view $localTable as (\n",
    "#            select * from $table \n",
    "#                where \n",
    "#                    \"timestamp\" between $(TV.startTimeMsUTC) and $(TV.endTimeMsUTC) and \n",
    "#                    page_group ilike '$(productPageGroup)' and\n",
    "#                    params_u ilike '$(localUrl)' \n",
    "#        )\n",
    "#    \"\"\")\n",
    "#    cnt = query(\"\"\"SELECT count(*) FROM $localTable\"\"\")\n",
    "#    println(\"$localTable count is \",cnt[1,1])\n",
    "#catch y\n",
    "#    println(\"setupLocalTable Exception \",y)\n",
    "#end\n"
   ]
  },
  {
   "cell_type": "code",
   "execution_count": null,
   "metadata": {
    "collapsed": true,
    "input_collapsed": false
   },
   "outputs": [],
   "source": []
  }
 ],
 "metadata": {
  "kernelspec": {
   "display_name": "Julia 0.4.7",
   "language": "julia",
   "name": "julia-0.4"
  },
  "language_info": {
   "file_extension": ".jl",
   "mimetype": "application/julia",
   "name": "julia",
   "version": "0.4.7"
  },
  "library_version": "1.0.0",
  "notebook_uuid": "e2b3ef35-f60d-4b7c-b617-bd711326f858",
  "readOnly": false
 },
 "nbformat": 4,
 "nbformat_minor": 0
}
