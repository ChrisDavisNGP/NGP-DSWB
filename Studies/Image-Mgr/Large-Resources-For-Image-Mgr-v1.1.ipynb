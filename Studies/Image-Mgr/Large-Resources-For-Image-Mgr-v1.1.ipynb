{
 "cells": [
  {
   "cell_type": "code",
   "execution_count": 1,
   "metadata": {
    "collapsed": false,
    "input_collapsed": false
   },
   "outputs": [
    {
     "name": "stdout",
     "output_type": "stream",
     "text": [
      "Redshift endpoint set: 2017-07-29T23:38:09\n"
     ]
    },
    {
     "data": {
      "text/plain": [
       "\"beacons_4744\""
      ]
     },
     "execution_count": 1,
     "metadata": {},
     "output_type": "execute_result"
    }
   ],
   "source": [
    "using ODBC\n",
    "using DataFrames\n",
    "using DSWB\n",
    "using Formatting\n",
    "\n",
    "dsn = \"dswb-natgeo\" # Redshift esetTable(tableRt, tableType = \"RESOURCE_TABLE\")ndpoint\n",
    "table = \"beacons_4744\" # beacon table name\n",
    "tableRt = \"beacons_4744_rt\"\n",
    "\n",
    "# Connect to Beacon Data\n",
    "setRedshiftEndpoint(dsn)\n",
    "setTable(tableRt, tableType = \"RESOURCE_TABLE\")\n",
    "setTable(table)"
   ]
  },
  {
   "cell_type": "code",
   "execution_count": 2,
   "metadata": {
    "collapsed": false,
    "input_collapsed": false
   },
   "outputs": [
    {
     "name": "stdout",
     "output_type": "stream",
     "text": [
      "July 21, 2017 23:59:00 to July 28, 2017 23:59:00 Local Time\n",
      "July 22, 2017 03:59:00 to July 29, 2017 03:59:00 UTC Time\n"
     ]
    }
   ],
   "source": [
    "# Packages\n",
    "include(\"/data/notebook_home/Production/Lib/Include-Package-v1.1.jl\")\n",
    "include(\"/data/notebook_home/Production/Bodies/Large-Resources-For-Image-Mgr-Body-v1.1.jl\")\n",
    "\n",
    "#TV = timeVariables(2017,6,17,10,0,2017,6,17,10,59);\n",
    "TV = weeklyTimeVariables(days=7);\n",
    "#TV = timeVariables(2017,7,25,9,0,2017,7,25,16,59);"
   ]
  },
  {
   "cell_type": "code",
   "execution_count": 3,
   "metadata": {
    "collapsed": false,
    "input_collapsed": false
   },
   "outputs": [],
   "source": [
    "UP = UrlParamsInit()\n",
    "UP.btView = \"$(table)_Large_Resources_For_Image_Mgr_view\" #localtable\n",
    "UP.pageGroup = \"%\"   #productPageGroup\n",
    "UP.urlRegEx = \"%\"   #localUrl\n",
    "UP.deviceType = \"Mobile\"\n",
    "UP.sizeMin = 200000\n",
    "UP.timeLowerMs = 10       # 10 ms not 1 sec\n",
    "UP.timeUpperMs = 9000000  # 9 million not 600k only care about size\n",
    "\n",
    "SG = SoastaGraphsInit()\n",
    "\n",
    "SP = ShowParamsInit()\n",
    "SP.debugLevel = 0\n",
    "SP.showLines = 10\n",
    "\n",
    ";"
   ]
  },
  {
   "cell_type": "code",
   "execution_count": 4,
   "metadata": {
    "collapsed": false,
    "input_collapsed": false
   },
   "outputs": [
    {
     "name": "stdout",
     "output_type": "stream",
     "text": [
      "Low=10 High=9000000\n"
     ]
    }
   ],
   "source": [
    "defaultBeaconView(TV,UP,SP)\n",
    ";"
   ]
  },
  {
   "cell_type": "code",
   "execution_count": 5,
   "metadata": {
    "collapsed": false,
    "input_collapsed": false
   },
   "outputs": [
    {
     "data": {
      "text/plain": [
       "knownPatterns (generic function with 1 method)"
      ]
     },
     "execution_count": 5,
     "metadata": {},
     "output_type": "execute_result"
    }
   ],
   "source": [
    "function idImageMgrPolicy(SP::ShowParams,imageDf::DataFrame)\n",
    "    try\n",
    "\n",
    "        urlPatterns = knownPatterns()\n",
    "        for (url in imageDf[:,:url])\n",
    "            found = false\n",
    "            for key in keys(urlPatterns)\n",
    "                if (ismatch(key,url))\n",
    "                    value = get(urlPatterns,key,\"None\")                \n",
    "                    #println(\"Found \",value)                  \n",
    "                    found = true\n",
    "                    urlPatterns[key] = [value[1],value[2],value[3],value[4],value[5]+1,url]\n",
    "                    break\n",
    "                end\n",
    "            end\n",
    "            if (!found)\n",
    "                #println(\"Missed \",url)\n",
    "                regExpStart = search(url,\".com\")[2]+3\n",
    "                regExpStr = url[regExpStart:end]\n",
    "                regExpEnd = min(60,length(regExpStr))\n",
    "                regExpStr = regExpStr[1:regExpEnd]\n",
    "                \n",
    "                #println(\"(r\\\".*\",regExpStr)\n",
    "                println(\"Not Found: (r\\\".*\",regExpStr,\"\\\",[\\\"\\\",\\\"\\\",\\\"\",regExpStr,\"\\\",\\\"\",regExpStr,\"\\\",0,\\\"\\\"]),\")\n",
    "#(r\".*/adventure/features/everest/first-woman-to-climb-everest-jun\",[\"/adventure/features/everest/first-woman-to-climb-everest-jun\"\",\"\",\",0,\"\"]),\n",
    "            end\n",
    "        end\n",
    "\n",
    "        println(\"\\n\\n\\nHere are the patterns matched for large files:\\n\\n\")\n",
    "\n",
    "        for key in keys(urlPatterns)\n",
    "            value = get(urlPatterns,key,\"None\")\n",
    "            if (value[5] > 0 && value[2] == \"Known\")\n",
    "                println(\"$(value[5])\\tKnown: \\\"\",value[1],\"\\\"\",\",\\\"\",value[2],\"\\\",\\\"\",value[3],\"\\\",\\\"\",value[4],\"\\\",\",value[5],\",\\\"\",value[6],\"\\\"\")\n",
    "            end\n",
    "        end\n",
    "\n",
    "        println(\"\\n\\n\")\n",
    "\n",
    "        for key in keys(urlPatterns)\n",
    "            value = get(urlPatterns,key,\"None\")\n",
    "            if (value[5] > 0 && value[2] == \"Ignoring\")\n",
    "                println(\"$(value[5])\\tIgnore: \\\"\",value[1],\"\\\"\",\",\\\"\",value[2],\"\\\",\\\"\",value[3],\"\\\",\\\"\",value[4],\"\\\",\",value[5],\",\\\"\",value[6],\"\\\"\")\n",
    "            end\n",
    "        end\n",
    "\n",
    "        println(\"\\n\\n\")\n",
    "        \n",
    "        for key in keys(urlPatterns)\n",
    "            value = get(urlPatterns,key,\"None\")\n",
    "            if (value[5] > 0 && value[2] == \"Sponsor\")\n",
    "                println(\"$(value[5])\\tSponsor: \\\"\",value[1],\"\\\"\",\",\\\"\",value[2],\"\\\",\\\"\",value[3],\"\\\",\\\"\",value[4],\"\\\",\",value[5],\",\\\"\",value[6],\"\\\"\")\n",
    "            end\n",
    "        end\n",
    "\n",
    "        println(\"\\n\\n\")\n",
    "\n",
    "        for key in keys(urlPatterns)\n",
    "            value = get(urlPatterns,key,\"None\")\n",
    "            if (value[5] > 0 && value[2] == \"\")\n",
    "                println(\"$(value[5])\\tPending: \\\"\",value[1],\"\\\"\",\",\\\"\",value[2],\"\\\",\\\"\",value[3],\"\\\",\\\"\",value[4],\"\\\",\",value[5],\",\\\"\",value[6],\"\\\"\")\n",
    "            end\n",
    "        end\n",
    "\n",
    "        println(\"\\n\\n\")\n",
    "        \n",
    "        \n",
    "    catch y\n",
    "        println(\"idImageMgrPolicy Exception \",y)\n",
    "    end\n",
    "end        \n",
    "\n",
    "\n",
    "function knownPatterns()\n",
    "    try\n",
    "        \n",
    "        urlPatterns = Dict([\n",
    "\n",
    "            (r\".*/content/dam/.*\",[\"Image Mgr\",\"Known\",\".*/content/dam/.*\",\"Content Dam\",0,\"\"]),\n",
    "            (r\".*/interactive-assets/.*\",[\"Interactive Assets\",\"Ignoring\",\".*/interactive-assets/.*\",\"Interactive Assets\",0,\"\"]),\n",
    "            \n",
    "#            (r\".*/content/dam/travel/.*\",[\"Content Dam Travel\",0,\"\"]),\n",
    "#            (r\".*/content/dam/photography/.*\",[\"Photography\",0,\"\"]),\n",
    "#            (r\".*/content/dam/adventure/.*\",[\"Content Dam Adventure\",0,\"\"]),\n",
    "#            (r\".*/content/dam/archaeologyandhistory/.*\",[\"Content Dam Archaeologyandhistory\",0,\"\"]),\n",
    "#            (r\".*/content/dam/magazine/.*\",[\"Content Dam Magazine\",0,\"\"]),\n",
    "#            (r\".*/content/dam/environment/.*\",[\"Content Dam Environment\",0,\"\"]),\n",
    "#            (r\".*/content/dam/news/.*\",[\"content Dam News\",0,\"\"]),\n",
    "#            (r\".*/content/dam/science/.*\",[\"Content Dam Science\",0,\"\"]),\n",
    "#            (r\".*/content/dam/contributors/.*\",[\"Content Dam Contributors\",0,\"\"]),\n",
    "#            (r\".*/content/dam/natgeo/video/.*\",[\"Content Dam Video\",0,\"\"]),\n",
    "#            (r\".*/content/dam/parks/.*\",[\"Content Dam Parks\",0,\"\"]),\n",
    "#            (r\".*/content/dam/animals/.*\",[\"Content Dam Animals\",0,\"\"]),\n",
    "#            (r\".*/content/dam/ngdotcom/.*\",[\"Content Dam Ngdotcom\",0,\"\"]),\n",
    "#            (r\".*/content/dam/peopleandculture/.*\",[\"Content Dam People and Culture\",0,\"\"]),\n",
    "#            (r\".*/content/dam/books/.*\",[\"Content Dam Books\",0,\"\"]),\n",
    "            \n",
    "            (r\".*/adventure/features/.*\",[\"\",\"\",\".*/adventure/features/.*\",\"Adventure Features\",0,\"\"]),            \n",
    "            (r\".*/contributors/r/melody-rowell/.*\",[\"\",\"\",\".*/contributors/r/melody-rowell/.*\",\"Contributors Melody Rowell\",0,\"\"]),\n",
    "            (r\".*/countryman/assets/.*\",[\"\",\"\",\"/countryman/assets/.*\",\"Countryman\",0,\"\"]),\n",
    "            (r\".*/foodfeatures/.*\",[\"\",\"\",\".*/foodfeatures/.*\",\"Food Features\",0,\"\"]),\n",
    "            (r\".*/new-york-city-skyline-tallest.*\",[\"\",\"\",\".*/new-york-city-skyline-tallest.*\",\"New York Skyline\",0,\"\"]),\n",
    "            (r\".*/cosmic-dawn/.*\",[\"\",\"\",\".*/cosmic-dawn/.*\",\"Cosmic Dawn\",0,\"\"]),\n",
    "            (r\".*/taking-back-detroit/.*\",[\"\",\"\",\".*/taking-back-detroit/.*\",\"Taking Back Detroit\",0,\"\"]),\n",
    "            (r\".*/americannile/.*\",[\"\",\"\",\".*/americannile/.*\",\"American Nile\",0,\"\"]),\n",
    "            (r\".*/healing-soldiers/.*\",[\"\",\"\",\".*/healing-soldiers/.*\",\"Healing Soldiers\",0,\"\"]),\n",
    "            (r\".*/environment/global-warming/.*\",[\"\",\"\",\".*/environment/global-warming/.*\",\"Global Warming\",0,\"\"]),\n",
    "            (r\".*/magazines/pdf/.*\",[\"\",\"\",\".*/magazines/pdf/.*\",\"Magazines Pdf\",0,\"\"]),\n",
    "            (r\".*/worldlegacyawards/.*\",[\"\",\"\",\".*/worldlegacyawards/.*\",\"World Legacy Awards\",0,\"\"]),\n",
    "            (r\".*/news-features/son-doong-cave/.*\",[\"\",\"\",\".*/news-features/son-doong-cave/.*\",\"News Features Son-doong-cave\",0,\"\"]),\n",
    "            (r\".*/trajan-column/.*\",[\"\",\"\",\".*/trajan-column/.*\",\"Trajan Column\",0,\"\"]),\n",
    "            (r\".*/magazines/l/multisubs/images/.*\",[\"\",\"\",\".*/magazines/l/multisubs/images/.*\",\"Magazines Multisubs\",0,\"\"]),\n",
    "            (r\".*/astrobiology/.*\",[\"\",\"\",\".*/astrobiology/.*\",\"Astrobiology\",0,\"\"]),\n",
    "            (r\".*/alwaysexploring/.*\",[\"\",\"\",\".*/alwaysexploring/.*\",\"Always Exploring\",0,\"\"]),\n",
    "            (r\".*/annual-report-.*\",[\"\",\"\",\".*/annual-report-.*\",\"Annual Report\",0,\"\"]),\n",
    "            (r\".*/china-caves/.*\",[\"\",\"\",\".*/china-caves/.*\",\"China Caves\",0,\"\"]),\n",
    "            (r\".*/clean-water-access-.*\",[\"\",\"\",\".*/clean-water-access-.*\",\"Clean Water Access\",0,\"\"]),\n",
    "            (r\".*/climate-change/.*\",[\"\",\"\",\".*/climate-change/.*\",\"Climate Change\",0,\"\"]),\n",
    "            (r\".*/discoverjapancontest/.*\",[\"\",\"\",\".*/discoverjapancontest/.*\",\"Discover Japan Contest\",0,\"\"]),\n",
    "            (r\".*/gecpartnershowcase/.*\",[\"\",\"\",\".*/gecpartnershowcase/.*\",\"Gec Partner Showcase\",0,\"\"]),\n",
    "            (r\".*/giftguide/.*\",[\"\",\"\",\".*/giftguide/.*\",\"Gift Guide\",0,\"\"]),\n",
    "            (r\".*/hubble-timeline/.*\",[\"\",\"\",\".*/hubble-timeline/.*\",\"Hubble Timeline\",0,\"\"]),\n",
    "            (r\".*/hurricane-katrina-new-orleans.*\",[\"\",\"\",\".*/hurricane-katrina-new-orleans.*\",\"Hurricane Katrina\",0,\"\"]),\n",
    "            (r\".*/impact-report-.*\",[\"\",\"\",\".*/impact-report-.*\",\"Impact Report\",0,\"\"]),\n",
    "            (r\".*/journeytojordan/.*\",[\"\",\"\",\".*/journeytojordan/.*\",\"Journey To Jordan\",0,\"\"]),\n",
    "            (r\".*/love-collection-.*\",[\"\",\"\",\".*/love-collection-.*\",\"Love Collection\",0,\"\"]),\n",
    "            (r\".*/loveswitzerland/.*\",[\"\",\"\",\".*/loveswitzerland/.*\",\"Love Switzerland\",0,\"\"]),\n",
    "            (r\".*/magazine/201.*\",[\"\",\"\",\".*/magazine/201.*\",\"Magazine 20xx\",0,\"\"]),\n",
    "            (r\".*/memorablemoments/.*\",[\"\",\"\",\".*/memorablemoments/.*\",\"Memorable Moments\",0,\"\"]),\n",
    "            (r\".*/mindsuckers/.*\",[\"\",\"\",\".*/mindsuckers/.*\",\"Mindsuckers\",0,\"\"]),\n",
    "            (r\".*/myaway/.*\",[\"\",\"\",\".*/myaway/.*\",\"Myaway\",0,\"\"]),\n",
    "            (r\".*/people-and-culture/.*\",[\"\",\"\",\".*/people-and-culture/.*\",\"People And Culture\",0,\"\"]),\n",
    "            (r\".*/promo/ngtseminars/.*\",[\"\",\"\",\".*/promo/ngtseminars/.*\",\"Promo Ngtseminars\",0,\"\"]),\n",
    "            (r\".*/staralliance20/.*\",[\"\",\"\",\".*/staralliance20/.*\",\"Star Alliance\",0,\"\"]),\n",
    "            (r\".*/sunrise-to-sunset/.*\",[\"\",\"\",\".*/sunrise-to-sunset/.*\",\"Sunrise To Sunset\",0,\"\"]),\n",
    "            (r\".*/tracking-ivory/.*\",[\"\",\"\",\".*/tracking-ivory/.*\",\"Tracking Ivory\",0,\"\"]),\n",
    "            (r\".*/travelmarketplace/.*\",[\"\",\"\",\".*/travelmarketplace/.*\",\"Travel Marketplace\",0,\"\"]),\n",
    "            (r\".*/usofadventure/.*\",[\"\",\"\",\".*/usofadventure/.*\",\"Us Of Adventure\",0,\"\"]),\n",
    "            (r\".*/voteyourpark/.*\",[\"\",\"\",\".*/voteyourpark/.*\",\"Vote Your Park\",0,\"\"]),\n",
    "            (r\".*/west-snow-fail/.*\",[\"\",\"\",\".*/west-snow-fail/.*\",\"West Snow Fail\",0,\"\"]),\n",
    "            (r\".*/year-in-review-.*\",[\"\",\"\",\".*/year-in-review-.*\",\"Year In Review\",0,\"\"]),\n",
    "\n",
    "            \n",
    "            (r\".*/visitpandora/.*\",[\"Sponsor\",\"Sponsor\",\".*/visitpandora/.*\",\"Visit Pandora\",0,\"\"]),\n",
    "            (r\".*/microsoft/.*\",[\"Sponsor\",\"Sponsor\",\".*/microsoft/.*\",\"Microsoft\",0,\"\"]),\n",
    "            (r\".*/stellaartois/.*\",[\"Sponsor\",\"Sponsor\",\".*/stellaartois/.*\",\"Stella Artois\",0,\"\"]),\n",
    "            (r\".*/subaru/.*\",[\"Sponsor\",\"Sponsor\",\".*/subaru/.*\",\"Subaru\",0,\"\"]),\n",
    "            (r\".*/visitcalifornia/.*\",[\"Sponsor\",\"Sponsor\",\".*/visitcalifornia/.*\",\"Visit California\",0,\"\"]),\n",
    "            (r\".*/cisco/.*\",[\"Sponsor\",\"Sponsor\",\".*/cisco/.*\",\"Cisco\",0,\"\"]),\n",
    "                      \n",
    "            \n",
    "            (r\".*/unchartedwaters/.*\",[\"Sponsor\",\"Sponsor\",\".*/unchartedwaters/.*\",\"Unchartedwaters\",0,\"\"])\n",
    "            ]);\n",
    "        \n",
    "        return urlPatterns\n",
    "        \n",
    "    catch y\n",
    "        println(\"knownPatterns Exception \",y)\n",
    "    end\n",
    "end                \n"
   ]
  },
  {
   "cell_type": "code",
   "execution_count": 7,
   "metadata": {
    "collapsed": false,
    "input_collapsed": false,
    "scrolled": false
   },
   "outputs": [
    {
     "name": "stdout",
     "output_type": "stream",
     "text": [
      "\n",
      "\n",
      "\n",
      "Here are the patterns matched for large files:\n",
      "\n",
      "\n",
      "3385\tKnown: \"Image Mgr\",\"Known\",\".*/content/dam/.*\",\"Content Dam\",3385,\"http://www.nationalgeographic.com/content/dam/travel/rights-exempt/Travel-2016/IT/2016-04/feel-good-travel/yala-national-park-elephants-safari-sri-lanka.adapt.1190.1.jpg\"\n",
      "\n",
      "\n",
      "\n",
      "421\tIgnore: \"Interactive Assets\",\"Ignoring\",\".*/interactive-assets/.*\",\"Interactive Assets\",421,\"http://www.nationalgeographic.com/interactive-assets/svalbard/v16/assets/img/globe_m.jpg\"\n",
      "\n",
      "\n",
      "\n",
      "1\tSponsor: \"Sponsor\",\"Sponsor\",\".*/unchartedwaters/.*\",\"Unchartedwaters\",1,\"http://www.nationalgeographic.com/unchartedwaters/assets/img/homepage/video-fpo-update.jpg\"\n",
      "1\tSponsor: \"Sponsor\",\"Sponsor\",\".*/microsoft/.*\",\"Microsoft\",1,\"http://www.nationalgeographic.com/microsoft/rio/galleries/images/galleries/main/image1.jpg\"\n",
      "9\tSponsor: \"Sponsor\",\"Sponsor\",\".*/cisco/.*\",\"Cisco\",9,\"http://www.nationalgeographic.com/cisco/img/galaxy.jpg\"\n",
      "1\tSponsor: \"Sponsor\",\"Sponsor\",\".*/subaru/.*\",\"Subaru\",1,\"http://www.nationalgeographic.com/subaru/img/04.jpg\"\n",
      "\n",
      "\n",
      "\n",
      "4\tPending: \"\",\"\",\".*/astrobiology/.*\",\"Astrobiology\",4,\"http://www.nationalgeographic.com/astrobiology/images/MM8277_131011_00642.jpg\"\n",
      "15\tPending: \"\",\"\",\".*/taking-back-detroit/.*\",\"Taking Back Detroit\",15,\"http://www.nationalgeographic.com/taking-back-detroit/img/street/Burbank_2_640.jpg\"\n",
      "2\tPending: \"\",\"\",\".*/tracking-ivory/.*\",\"Tracking Ivory\",2,\"http://www.nationalgeographic.com/tracking-ivory/assets/img/maps/slides/map_opener_2048.jpg\"\n",
      "2\tPending: \"\",\"\",\".*/discoverjapancontest/.*\",\"Discover Japan Contest\",2,\"http://www.nationalgeographic.com/discoverjapancontest/img/01.jpg\"\n",
      "4\tPending: \"\",\"\",\".*/cosmic-dawn/.*\",\"Cosmic Dawn\",4,\"http://www.nationalgeographic.com/cosmic-dawn/images/MM8208_121121-007676.jpg\"\n",
      "33\tPending: \"\",\"\",\".*/foodfeatures/.*\",\"Food Features\",33,\"http://www.nationalgeographic.com/foodfeatures/evolution-of-diet/images/region1_2048.jpg\"\n",
      "1\tPending: \"\",\"\",\".*/promo/ngtseminars/.*\",\"Promo Ngtseminars\",1,\"http://www.nationalgeographic.com/promo/ngtseminars/assets/series/BeyelerLauren_03.jpg\"\n",
      "1\tPending: \"\",\"\",\".*/news-features/son-doong-cave/.*\",\"News Features Son-doong-cave\",1,\"http://www.nationalgeographic.com/news-features/son-doong-cave/2/img/intro1.jpg\"\n",
      "7\tPending: \"\",\"\",\".*/environment/global-warming/.*\",\"Global Warming\",7,\"http://www.nationalgeographic.com/environment/global-warming/global-warming-causes/_jcr_content/content/image.img.jpg/1484334010735.adapt.536.1.true.jpg\"\n",
      "3\tPending: \"\",\"\",\".*/west-snow-fail/.*\",\"West Snow Fail\",3,\"http://www.nationalgeographic.com/west-snow-fail/img/West-Snow-Fail_gallery-thumb.jpg\"\n",
      "10\tPending: \"\",\"\",\".*/impact-report-.*\",\"Impact Report\",10,\"http://www.nationalgeographic.com/impact-report-2014/imgs/bg_mining-640.jpg\"\n",
      "14\tPending: \"\",\"\",\".*/americannile/.*\",\"American Nile\",14,\"http://www.nationalgeographic.com/americannile/img/NationalGeographic_1394981.jpg\"\n",
      "44\tPending: \"\",\"\",\".*/magazines/pdf/.*\",\"Magazines Pdf\",44,\"http://www.nationalgeographic.com/magazines/pdf/061717_dom/static/img/carousel/cover.jpg\"\n",
      "14\tPending: \"\",\"\",\".*/china-caves/.*\",\"China Caves\",14,\"http://www.nationalgeographic.com/china-caves/img/gallery-1-1.aee7.jpg\"\n",
      "4\tPending: \"\",\"\",\".*/travelmarketplace/.*\",\"Travel Marketplace\",4,\"http://www.nationalgeographic.com/travelmarketplace/img/MRC-Logo.jpg\"\n",
      "1\tPending: \"\",\"\",\".*/year-in-review-.*\",\"Year In Review\",1,\"http://www.nationalgeographic.com/year-in-review-2013/assets/i/index/2013/geopolitics-05-1589100.jpg\"\n",
      "2\tPending: \"\",\"\",\".*/worldlegacyawards/.*\",\"World Legacy Awards\",2,\"http://www.nationalgeographic.com/worldlegacyawards/images/gallery2016.jpg\"\n",
      "1\tPending: \"\",\"\",\".*/sunrise-to-sunset/.*\",\"Sunrise To Sunset\",1,\"http://www.nationalgeographic.com/sunrise-to-sunset/img/hero-bg.jpg\"\n",
      "13\tPending: \"\",\"\",\".*/new-york-city-skyline-tallest.*\",\"New York Skyline\",13,\"http://www.nationalgeographic.com/new-york-city-skyline-tallest-midtown-manhattan/assets/img/skyline-downtown/downtown-3.jpg\"\n",
      "2\tPending: \"\",\"\",\".*/adventure/features/.*\",\"Adventure Features\",2,\"http://www.nationalgeographic.com/adventure/features/everest/first-woman-to-climb-everest-junko-tabei-dies/_jcr_content/content/image.img.jpg/1477323546496.adapt.470.1.true.jpg\"\n",
      "8\tPending: \"\",\"\",\"/countryman/assets/.*\",\"Countryman\",8,\"http://www.nationalgeographic.com/countryman/assets/img/photo-gallery/photo-gallery7.jpg\"\n",
      "10\tPending: \"\",\"\",\".*/trajan-column/.*\",\"Trajan Column\",10,\"http://www.nationalgeographic.com/trajan-column/img/column_article/graphic_web.jpg\"\n",
      "5\tPending: \"\",\"\",\".*/annual-report-.*\",\"Annual Report\",5,\"http://www.nationalgeographic.com/annual-report-2014/img/fallback.jpg\"\n",
      "8\tPending: \"\",\"\",\".*/healing-soldiers/.*\",\"Healing Soldiers\",8,\"http://www.nationalgeographic.com/healing-soldiers/img/soldierInfoModule/wester.jpg\"\n",
      "8\tPending: \"\",\"\",\".*/magazines/l/multisubs/images/.*\",\"Magazines Multisubs\",8,\"http://www.nationalgeographic.com/magazines/l/multisubs/images/cover_ngt_xlarge.jpg\"\n",
      "26\tPending: \"\",\"\",\".*/magazine/201.*\",\"Magazine 20xx\",26,\"http://www.nationalgeographic.com/magazine/2016/07/forensic-science-justice-crime-evidence/_jcr_content/content/image.img.jpg/1488232843831.adapt.1900.1.true.jpg\"\n",
      "1\tPending: \"\",\"\",\".*/climate-change/.*\",\"Climate Change\",1,\"http://www.nationalgeographic.com/climate-change/carbon-free-power-grid/assets/assets/images/home-bg_m.jpg\"\n",
      "\n",
      "\n",
      "\n"
     ]
    }
   ],
   "source": [
    "fileType = \"%jpg\"\n",
    "imagesDf = resourceImages(TV,UP,SP,fileType)\n",
    "if (size(imagesDf)[1] > 0)\n",
    "    idImageMgrPolicy(SP,imagesDf)\n",
    "end\n",
    ";"
   ]
  },
  {
   "cell_type": "code",
   "execution_count": 9,
   "metadata": {
    "collapsed": false,
    "input_collapsed": false
   },
   "outputs": [
    {
     "name": "stdout",
     "output_type": "stream",
     "text": [
      "\n",
      "\n",
      "\n",
      "Here are the patterns matched for large files:\n",
      "\n",
      "\n",
      "127\tKnown: \"Image Mgr\",\"Known\",\".*/content/dam/.*\",\"Content Dam\",127,\"http://www.nationalgeographic.com/content/dam/ngdotcom/rights-exempt/otherhppromos2/mattdamonsusangoldbergwatercrisis.adapt.470.1.png\"\n",
      "\n",
      "\n",
      "\n",
      "71\tIgnore: \"Interactive Assets\",\"Ignoring\",\".*/interactive-assets/.*\",\"Interactive Assets\",71,\"http://www.nationalgeographic.com/interactive-assets/nggraphics/birthofbooze-map/build-2017-02-11_12-34-58/graphic-mobile-tablet.png\"\n",
      "\n",
      "\n",
      "\n",
      "5\tSponsor: \"Sponsor\",\"Sponsor\",\".*/unchartedwaters/.*\",\"Unchartedwaters\",5,\"http://www.nationalgeographic.com/unchartedwaters/assets/img/homepage/question-4-crisis@2x.png\"\n",
      "\n",
      "\n",
      "\n",
      "3\tPending: \"\",\"\",\".*/taking-back-detroit/.*\",\"Taking Back Detroit\",3,\"http://www.nationalgeographic.com/taking-back-detroit/img/maps/Detroit_mobile_woodbridge.png\"\n",
      "1\tPending: \"\",\"\",\".*/tracking-ivory/.*\",\"Tracking Ivory\",1,\"http://www.nationalgeographic.com/tracking-ivory/assets/img/maps/slides/map_opener_tusk_sm.png\"\n",
      "9\tPending: \"\",\"\",\".*/foodfeatures/.*\",\"Food Features\",9,\"http://www.nationalgeographic.com/foodfeatures/hunger/images/Houston_map_mobile.png\"\n",
      "4\tPending: \"\",\"\",\".*/news-features/son-doong-cave/.*\",\"News Features Son-doong-cave\",4,\"http://www.nationalgeographic.com/news-features/son-doong-cave/2/SonDoong360data/floorplan/entrance_panogroup82.png\"\n",
      "1\tPending: \"\",\"\",\".*/impact-report-.*\",\"Impact Report\",1,\"http://www.nationalgeographic.com/impact-report-2014/imgs/natgeo-cover.png\"\n",
      "3\tPending: \"\",\"\",\".*/americannile/.*\",\"American Nile\",3,\"http://www.nationalgeographic.com/americannile/img/ch3.png\"\n",
      "4\tPending: \"\",\"\",\".*/magazines/pdf/.*\",\"Magazines Pdf\",4,\"http://www.nationalgeographic.com/magazines/pdf/063017_int/static/img/carousel/p35.png\"\n",
      "1\tPending: \"\",\"\",\".*/travelmarketplace/.*\",\"Travel Marketplace\",1,\"http://www.nationalgeographic.com/travelmarketplace/img/visit-montana-logo.png\"\n",
      "2\tPending: \"\",\"\",\".*/worldlegacyawards/.*\",\"World Legacy Awards\",2,\"http://www.nationalgeographic.com/worldlegacyawards/images/winners-finalist-hero.png\"\n",
      "1\tPending: \"\",\"\",\".*/sunrise-to-sunset/.*\",\"Sunrise To Sunset\",1,\"http://www.nationalgeographic.com/sunrise-to-sunset/img/winner.png\"\n",
      "2\tPending: \"\",\"\",\"/countryman/assets/.*\",\"Countryman\",2,\"http://www.nationalgeographic.com/countryman/assets/img/mini-hero-v2.png\"\n",
      "\n",
      "\n",
      "\n"
     ]
    }
   ],
   "source": [
    "LV.fileType = \"%png\"\n",
    "imagesDf = resourceImages(TV,UP,SP,fileType)\n",
    "if (size(imagesDf)[1] > 0)\n",
    "    idImageMgrPolicy(SP,imagesDf)\n",
    "end\n",
    ";"
   ]
  },
  {
   "cell_type": "code",
   "execution_count": 10,
   "metadata": {
    "collapsed": false,
    "input_collapsed": false
   },
   "outputs": [],
   "source": [
    "LV.fileType = \"%jpeg\"\n",
    "imagesDf = resourceImages(TV,UP,SP,fileType)\n",
    "if (size(imagesDf)[1] > 0)\n",
    "    idImageMgrPolicy(SP,imagesDf)\n",
    "end\n",
    ";"
   ]
  },
  {
   "cell_type": "code",
   "execution_count": 11,
   "metadata": {
    "collapsed": false,
    "input_collapsed": false
   },
   "outputs": [
    {
     "name": "stdout",
     "output_type": "stream",
     "text": [
      "\n",
      "\n",
      "\n",
      "Here are the patterns matched for large files:\n",
      "\n",
      "\n",
      "\n",
      "\n",
      "\n",
      "14\tIgnore: \"Interactive Assets\",\"Ignoring\",\".*/interactive-assets/.*\",\"Interactive Assets\",14,\"http://www.nationalgeographic.com/interactive-assets/nggraphics/ngm-Akhenaten-Graphic/build-2017-04-21_14-21-01/img/sculp-reduced-right.gif\"\n",
      "\n",
      "\n",
      "\n",
      "\n",
      "\n",
      "\n",
      "3\tPending: \"\",\"\",\".*/taking-back-detroit/.*\",\"Taking Back Detroit\",3,\"http://www.nationalgeographic.com/taking-back-detroit/vid/TEXTURAL_2.gif\"\n",
      "4\tPending: \"\",\"\",\".*/americannile/.*\",\"American Nile\",4,\"http://www.nationalgeographic.com/americannile/img/col-river-kremmling.gif\"\n",
      "\n",
      "\n",
      "\n"
     ]
    }
   ],
   "source": [
    "LV.fileType = \"%gif\"\n",
    "imagesDf = resourceImages(TV,UP,SP,fileType)\n",
    "if (size(imagesDf)[1] > 0)\n",
    "    idImageMgrPolicy(SP,imagesDf)\n",
    "end\n",
    ";"
   ]
  },
  {
   "cell_type": "code",
   "execution_count": 12,
   "metadata": {
    "collapsed": false,
    "input_collapsed": false
   },
   "outputs": [],
   "source": [
    "LV.fileType = \"%imviewer\"\n",
    "imagesDf = resourceImages(TV,UP,SP,fileType)\n",
    "if (size(imagesDf)[1] > 0)\n",
    "    idImageMgrPolicy(SP,imagesDf)\n",
    "end\n",
    ";"
   ]
  },
  {
   "cell_type": "code",
   "execution_count": 13,
   "metadata": {
    "collapsed": false,
    "input_collapsed": false
   },
   "outputs": [
    {
     "name": "stdout",
     "output_type": "stream",
     "text": [
      "Not Found: (r\".*/etc/designs/platform/v2/images/logos/ng-logo-small.ngsversi\",[\"\",\"\",\"/etc/designs/platform/v2/images/logos/ng-logo-small.ngsversi\",\"/etc/designs/platform/v2/images/logos/ng-logo-small.ngsversi\",0,\"\"]),\n",
      "\n",
      "\n",
      "\n",
      "Here are the patterns matched for large files:\n",
      "\n",
      "\n",
      "\n",
      "\n",
      "\n",
      "1\tIgnore: \"Interactive Assets\",\"Ignoring\",\".*/interactive-assets/.*\",\"Interactive Assets\",1,\"http://www.nationalgeographic.com/interactive-assets/blindness/v9/assets/img/eye-cataracs-01.svg\"\n",
      "\n",
      "\n",
      "\n",
      "\n",
      "\n",
      "\n",
      "2\tPending: \"\",\"\",\".*/astrobiology/.*\",\"Astrobiology\",2,\"http://www.nationalgeographic.com/astrobiology/images/svg/Astrobiology_Graphic_480.svg\"\n",
      "2\tPending: \"\",\"\",\".*/hubble-timeline/.*\",\"Hubble Timeline\",2,\"http://www.nationalgeographic.com/hubble-timeline/img/mobile1_0-01.svg\"\n",
      "\n",
      "\n",
      "\n"
     ]
    }
   ],
   "source": [
    "LV.fileType = \"%svg\"\n",
    "imagesDf = resourceImages(TV,UP,SP,fileType)\n",
    "if (size(imagesDf)[1] > 0)\n",
    "    idImageMgrPolicy(SP,imagesDf)\n",
    "end\n",
    ";"
   ]
  },
  {
   "cell_type": "code",
   "execution_count": 14,
   "metadata": {
    "collapsed": false,
    "input_collapsed": false
   },
   "outputs": [],
   "source": [
    "LV.fileType = \"%jpeg\"\n",
    "imagesDf = resourceImages(TV,UP,SP,fileType)\n",
    "if (size(imagesDf)[1] > 0)\n",
    "    idImageMgrPolicy(SP,imagesDf)\n",
    "end\n",
    ";"
   ]
  },
  {
   "cell_type": "code",
   "execution_count": 15,
   "metadata": {
    "collapsed": true,
    "input_collapsed": false
   },
   "outputs": [],
   "source": [
    "q = query(\"\"\" drop view if exists $(UP.btView);\"\"\")\n",
    ";"
   ]
  },
  {
   "cell_type": "code",
   "execution_count": null,
   "metadata": {
    "collapsed": true,
    "input_collapsed": true
   },
   "outputs": [],
   "source": []
  }
 ],
 "metadata": {
  "kernelspec": {
   "display_name": "Julia 0.4.7",
   "language": "julia",
   "name": "julia-0.4"
  },
  "language_info": {
   "file_extension": ".jl",
   "mimetype": "application/julia",
   "name": "julia",
   "version": "0.4.7"
  },
  "library_version": "1.0.0",
  "notebook_uuid": "960146f1-83af-48ff-954e-8a869165531f",
  "readOnly": false
 },
 "nbformat": 4,
 "nbformat_minor": 0
}
