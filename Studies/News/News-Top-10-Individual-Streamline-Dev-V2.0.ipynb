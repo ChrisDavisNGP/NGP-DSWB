{
 "cells": [
  {
   "cell_type": "markdown",
   "metadata": {},
   "source": [
    "## Tables and Data Source setup"
   ]
  },
  {
   "cell_type": "code",
   "execution_count": null,
   "metadata": {
    "collapsed": false,
    "input_collapsed": false,
    "scrolled": true
   },
   "outputs": [],
   "source": [
    "using ODBC\n",
    "using DataFrames\n",
    "using DSWB\n",
    "using Formatting\n",
    "using URIParser\n",
    "\n",
    "dsn = \"dswb-natgeo\" # Redshift esetTable(tableRt, tableType = \"RESOURCE_TABLE\")ndpoint\n",
    "table = \"beacons_4744\" # beacon table name\n",
    "tableRt = \"beacons_4744_rt\"\n",
    "\n",
    "# Connect to Beacon Data\n",
    "setRedshiftEndpoint(dsn)\n",
    "setTable(table)\n",
    "setTable(tableRt, tableType = \"RESOURCE_TABLE\")"
   ]
  },
  {
   "cell_type": "code",
   "execution_count": null,
   "metadata": {
    "collapsed": false,
    "input_collapsed": false
   },
   "outputs": [],
   "source": [
    "# Packages\n",
    "\n",
    "include(\"/data/notebook_home/Production/Bodies/Individual-Streamline-v1.1.jl\")\n",
    "include(\"/data/notebook_home/Production/Lib/Include-Package-v1.0.jl\")\n",
    ";\n",
    "# tv structure created in include above, so init time here\n",
    "#timeVariables(2017,4,5,14,0,2017,4,5,16,59)\n",
    "#weeklyTimeVariables(days=1)\n",
    "yesterdayTimeVariables()\n",
    "\n",
    "#pageGroup = \"%\"\n",
    "pageGroup = \"News Article\"\n",
    "#top10 = 1\n",
    "top10 = 10\n",
    "showDesktop=true\n",
    "showMobile=true\n",
    "showDevView=true\n",
    "showCriticalPathOnly=true\n",
    "showDebug=false\n",
    "usePageLoad=true\n",
    ";"
   ]
  },
  {
   "cell_type": "code",
   "execution_count": null,
   "metadata": {
    "collapsed": false,
    "input_collapsed": false
   },
   "outputs": [],
   "source": [
    "WellKnownHost = wellKnownHostDictionary();\n",
    "WellKnownPath = wellKnownPathDictionary();"
   ]
  },
  {
   "cell_type": "code",
   "execution_count": null,
   "metadata": {
    "collapsed": true,
    "input_collapsed": false
   },
   "outputs": [],
   "source": [
    "#done for now.  Top n below"
   ]
  },
  {
   "cell_type": "code",
   "execution_count": null,
   "metadata": {
    "collapsed": false,
    "input_collapsed": false,
    "scrolled": false
   },
   "outputs": [],
   "source": [
    "topUrlDF = returnTopUrlTable(table,pageGroup,tv.startTimeMsUTC,tv.endTimeMsUTC,limit=top10)\n",
    "topUrlList = topUrlDF[:urlgroup]\n",
    "#display(topUrlList)\n",
    "\n",
    "\n",
    "for url in topUrlList\n",
    "\n",
    "    trim1FrontIdx = searchindex(url,\"http://\")\n",
    "    trim2FrontIdx = searchindex(url,\"https://\")\n",
    "    if (trim1FrontIdx > 0)\n",
    "        testUrl = url[8:end]\n",
    "    end\n",
    "    \n",
    "    if (trim2FrontIdx > 0)\n",
    "        testUrl = url[9:end]\n",
    "    end\n",
    "    \n",
    "    trimEndIdx = searchindex(testUrl,\"/?\")\n",
    "    if (trimEndIdx > 0)\n",
    "        testUrl = testUrl[1:trimEndIdx]\n",
    "    end\n",
    "    \n",
    "    if (testUrl[end] == '/')\n",
    "        testUrl = testUrl[1:end-1]\n",
    "    end\n",
    "\n",
    "    fullUrlString = string(\"/\",ASCIIString(testUrl),\"/\")\n",
    "    localUrlString = string(\"%\",ASCIIString(testUrl),\"%\")\n",
    "    #println(\"url \",url,\" testUrl \",testUrl)\n",
    "    if (showMobile)\n",
    "        individualStreamlineMain(TV,UP,SP,WellKnownHost,WellKnownPath,\"mobile\",3000.0,15000.0)\n",
    "    end\n",
    "    if (showDesktop)\n",
    "        individualStreamlineMain(TV,UP,SP,WellKnownHost,WellKnownPath,\"desktop\",3000.0,15000.0)\n",
    "    end\n",
    "end"
   ]
  }
 ],
 "metadata": {
  "chart_version": "1.0.0",
  "kernelspec": {
   "display_name": "Julia 0.4.7",
   "language": "julia",
   "name": "julia-0.4"
  },
  "language_info": {
   "file_extension": ".jl",
   "mimetype": "application/julia",
   "name": "julia",
   "version": "0.4.7"
  },
  "library_version": "1.0.0",
  "notebook_uuid": "64166cf9-1c8e-4005-be2d-2c8a14926ca7",
  "readOnly": false
 },
 "nbformat": 4,
 "nbformat_minor": 0
}
