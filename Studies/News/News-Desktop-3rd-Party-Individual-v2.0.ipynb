{
 "cells": [
  {
   "cell_type": "markdown",
   "metadata": {},
   "source": [
    "## Tables and Data Source setup"
   ]
  },
  {
   "cell_type": "code",
   "execution_count": 1,
   "metadata": {
    "collapsed": false,
    "input_collapsed": false,
    "scrolled": true
   },
   "outputs": [
    {
     "name": "stdout",
     "output_type": "stream",
     "text": [
      "Redshift endpoint set: 2017-11-24T17:53:03\n"
     ]
    }
   ],
   "source": [
    "using ODBC\n",
    "using DataFrames\n",
    "using DSWB\n",
    "using Formatting\n",
    "using URIParser\n",
    "\n",
    "dsn = \"dswb-natgeo\" # Redshift esetTable(tableRt, tableType = \"RESOURCE_TABLE\")ndpoint\n",
    "table = \"beacons_4744\" # beacon table name\n",
    "tableRt = \"beacons_4744_rt\"\n",
    "\n",
    "# Connect to Beacon Data\n",
    "setRedshiftEndpoint(dsn)\n",
    "setTable(table)\n",
    "setTable(tableRt, tableType = \"RESOURCE_TABLE\")\n",
    ";"
   ]
  },
  {
   "cell_type": "code",
   "execution_count": 2,
   "metadata": {
    "collapsed": true,
    "input_collapsed": false
   },
   "outputs": [],
   "source": [
    "# Time & Structures First\n",
    "include(\"../../Lib/Include-Package-v2.1.jl\")\n",
    ";"
   ]
  },
  {
   "cell_type": "code",
   "execution_count": 3,
   "metadata": {
    "collapsed": false,
    "input_collapsed": false
   },
   "outputs": [
    {
     "name": "stdout",
     "output_type": "stream",
     "text": [
      "November 23, 2017 06:59:00 to November 23, 2017 16:59:00 Local Time\n",
      "November 23, 2017 11:59:00 to November 23, 2017 21:59:00 UTC Time\n"
     ]
    }
   ],
   "source": [
    "#TV = timeVariables(2017,10,27,23,59,2017,11,3,23,59)\n",
    "#TV = weeklyTimeVariables(days=7)\n",
    "TV = yesterdayTimeVariables()\n",
    ";"
   ]
  },
  {
   "cell_type": "code",
   "execution_count": 4,
   "metadata": {
    "collapsed": true,
    "input_collapsed": false
   },
   "outputs": [],
   "source": [
    "# This is the Mobile Only, Time Based report\n",
    "UP = UrlParamsInit()\n",
    "UP.agentOs = \"%\"\n",
    "UP.beaconTable = table\n",
    "UP.btView = \"$(table)_spike_pview_prod\" #localtable\n",
    "UP.deviceType = \"desktop\"\n",
    "UP.limitRows = 10\n",
    "#UP.limitRows = 250\n",
    "UP.orderBy = \"time\"\n",
    "UP.pageGroup = \"News Article\"   #productPageGroup\n",
    "UP.resourceTable = tableRt\n",
    "UP.rtView = \"$(tableRt)_spike_pview_prod\" #localtableRt\n",
    "UP.samplesMin = 10\n",
    "UP.sizeMin = 10000\n",
    "UP.timeLowerMs = 2 * 1000.0\n",
    "UP.timeUpperMs = 20 * 1000.0\n",
    "UP.urlRegEx = \"%/news.nationalgeographic.com/2017/11/ancient-fossil-forest-found-antarctica-gondwana-spd%\"   #localUrl\n",
    "UP.urlFull = \"%\"\n",
    "UP.usePageLoad=false\n",
    "\n",
    "SP = ShowParamsInit()\n",
    "SP.desktop=true\n",
    "SP.mobile=false\n",
    "SP.devView=false\n",
    "SP.criticalPathOnly=true\n",
    "SP.debug=true\n",
    "SP.debugLevel = 1   # Tests use even numbers with > tests, make this an odd number or zero\n",
    "SP.reportLevel = 10\n",
    "\n",
    "SG = SoastaGraphsInit()\n",
    "customer = \"Nat Geo\" \n",
    "SG.customer = customer\n",
    ";"
   ]
  },
  {
   "cell_type": "code",
   "execution_count": 5,
   "metadata": {
    "collapsed": false,
    "input_collapsed": false
   },
   "outputs": [
    {
     "name": "stdout",
     "output_type": "stream",
     "text": [
      "Using Short Dictionary for Debug\n"
     ]
    }
   ],
   "source": [
    "WellKnownHost = wellKnownHostDictionary(SP.debug);\n",
    "WellKnownPath = wellKnownPathDictionary(SP.debug);"
   ]
  },
  {
   "cell_type": "code",
   "execution_count": 6,
   "metadata": {
    "collapsed": false,
    "input_collapsed": false,
    "scrolled": true
   },
   "outputs": [],
   "source": [
    "localTableDF = estimateBeacons(TV,UP,SP);"
   ]
  },
  {
   "cell_type": "code",
   "execution_count": 7,
   "metadata": {
    "collapsed": false,
    "input_collapsed": false
   },
   "outputs": [
    {
     "data": {
      "text/html": [
       "<div class=\"dswbOutputText\"><h1 class=\"chart_title\" style=\"color:#ccc\">Page Domain Ready Time Stats: % for desktop</h1><h3 class=\"chart_info\" style=\"color:#ccc\">November 23, 2017 06:59:00 to November 23, 2017 16:59:00 Local Time</h3></div>"
      ]
     },
     "metadata": {},
     "output_type": "display_data"
    },
    {
     "data": {
      "text/html": [
       "    <table  class=\"dataframe-table\">\n",
       "    <thead><tr><th class=\"cell-1\" style=\"\">Page Views</th> <th class=\"cell-2\" style=\"\">Mean(ms)</th> <th class=\"cell-3\" style=\"\">Median(ms)</th> <th class=\"cell-4\" style=\"\">Min(ms)</th> <th class=\"cell-5\" style=\"\">Max(ms)</th> <th class=\"cell-6\" style=\"\">25 Percentile</th> <th class=\"cell-7\" style=\"\">75 Percentile</th></tr></thead>\n",
       "    <tbody>\n",
       "    <tr><td class=\"cell-1\" style=\"text-align:right;\">120</td> <td class=\"cell-2\" style=\"text-align:right;\">8,090</td> <td class=\"cell-3\" style=\"text-align:right;\">6,861</td> <td class=\"cell-4\" style=\"text-align:right;\">2,172</td> <td class=\"cell-5\" style=\"text-align:right;\">19,783</td> <td class=\"cell-6\" style=\"text-align:right;\">4,936</td> <td class=\"cell-7\" style=\"text-align:right;\">10,349</td></tr>\n",
       "    \n",
       "    \n",
       "    </tbody>\n"
      ],
      "text/plain": [
       "HTML{UTF8String}(\"    <table  class=\\\"dataframe-table\\\">\\n    <thead><tr><th class=\\\"cell-1\\\" style=\\\"\\\">Page Views</th> <th class=\\\"cell-2\\\" style=\\\"\\\">Mean(ms)</th> <th class=\\\"cell-3\\\" style=\\\"\\\">Median(ms)</th> <th class=\\\"cell-4\\\" style=\\\"\\\">Min(ms)</th> <th class=\\\"cell-5\\\" style=\\\"\\\">Max(ms)</th> <th class=\\\"cell-6\\\" style=\\\"\\\">25 Percentile</th> <th class=\\\"cell-7\\\" style=\\\"\\\">75 Percentile</th></tr></thead>\\n    <tbody>\\n    <tr><td class=\\\"cell-1\\\" style=\\\"text-align:right;\\\">120</td> <td class=\\\"cell-2\\\" style=\\\"text-align:right;\\\">8,090</td> <td class=\\\"cell-3\\\" style=\\\"text-align:right;\\\">6,861</td> <td class=\\\"cell-4\\\" style=\\\"text-align:right;\\\">2,172</td> <td class=\\\"cell-5\\\" style=\\\"text-align:right;\\\">19,783</td> <td class=\\\"cell-6\\\" style=\\\"text-align:right;\\\">4,936</td> <td class=\\\"cell-7\\\" style=\\\"text-align:right;\\\">10,349</td></tr>\\n    \\n    \\n    </tbody>\\n\")"
      ]
     },
     "metadata": {},
     "output_type": "display_data"
    }
   ],
   "source": [
    "# Stats on the data\n",
    "statsDF = DataFrame()\n",
    "statsDF = beaconStats(TV,UP,SP)\n",
    "UP.timeLowerMs = statsDF[1:1,:q25][1]\n",
    "UP.timeUpperMs = statsDF[1:1,:q75][1]\n",
    ";"
   ]
  },
  {
   "cell_type": "code",
   "execution_count": 8,
   "metadata": {
    "collapsed": false,
    "input_collapsed": false
   },
   "outputs": [],
   "source": [
    "#UP.timeLowerMs = 5.0 * 1000\n",
    "#UP.timeUpperMs = 6.0 * 1000\n",
    "localTableRtDF = getResourcesForBeacon(TV,UP)\n",
    "#println(\"$tableRt count is \",size(localTableRtDF))\n",
    ";"
   ]
  },
  {
   "cell_type": "code",
   "execution_count": 9,
   "metadata": {
    "collapsed": false,
    "input_collapsed": false,
    "scrolled": false
   },
   "outputs": [
    {
     "name": "stdout",
     "output_type": "stream",
     "text": [
      "individualPageReportV2(TV,UP,SP,WellKnownHost,WellKnownPath,\"%\",9284,\"0497818d-118a-489f-924b-b6a2b84d5cca-ozvgig\",1511442530699) #    Time=9284\n",
      "individualPageReportV2(TV,UP,SP,WellKnownHost,WellKnownPath,\"%\",8942,\"1fe8e7cf-6f75-415b-91c8-7d421bf20d4a-ozvoss\",1511453262859) #    Time=8942\n",
      "individualPageReportV2(TV,UP,SP,WellKnownHost,WellKnownPath,\"%\",7310,\"206a3b05-75d9-4dc1-9445-2cb97ac06d71-ozvepc\",1511440942988) #    Time=7310\n",
      "individualPageReportV2(TV,UP,SP,WellKnownHost,WellKnownPath,\"%\",8063,\"238042e2-abe2-43df-8b57-f456341e71fa-ozvjcr\",1511446219653) #    Time=8063\n",
      "individualPageReportV2(TV,UP,SP,WellKnownHost,WellKnownPath,\"%\",5305,\"3908dbe8-adce-4a53-9b09-f7de318a2622-ozvmbs\",1511446463201) #    Time=5305\n",
      "individualPageReportV2(TV,UP,SP,WellKnownHost,WellKnownPath,\"%\",5901,\"577b5fcb-81a1-447c-9f6e-7ae70715f2ed-ozvjco\",1511446206594) #    Time=5901\n",
      "individualPageReportV2(TV,UP,SP,WellKnownHost,WellKnownPath,\"%\",7524,\"64b0ce06-f6db-46fa-bdcc-b3f68fa14913-ozvn4r\",1511451106402) #    Time=7524\n",
      "individualPageReportV2(TV,UP,SP,WellKnownHost,WellKnownPath,\"%\",7591,\"e190defa-f620-46ba-8d05-45f694a107fe-ozvjzu\",1511447041776) #    Time=7591\n",
      "individualPageReportV2(TV,UP,SP,WellKnownHost,WellKnownPath,\"%\",5782,\"edc61201-82b2-4f38-9a66-8dc2328f0438-ozvo6d\",1511452455354) #    Time=5782\n"
     ]
    }
   ],
   "source": [
    "showAvailableSessions(TV,UP,SP,localTableDF,localTableRtDF,showLines=10,showCriticalPathOnly=true)"
   ]
  },
  {
   "cell_type": "code",
   "execution_count": null,
   "metadata": {
    "collapsed": false,
    "input_collapsed": false,
    "scrolled": false
   },
   "outputs": [
    {
     "name": "stdout",
     "output_type": "stream",
     "text": [
      "studySession Exception MethodError(individualPageReportV2,(TimeVars(2017-11-23T06:59:00,2017-11-23T16:59:00,1511420340000,1511456340000,2017-11-23T11:59:00,2017-11-23T21:59:00,1511438340000,1511474340000,:hour,\"November 23, 2017 06:59:00 to November 23, 2017 16:59:00 Local Time\",\"November 23, 2017 11:59:00 to November 23, 2017 21:59:00 UTC Time\"),UrlParams(\"beacons_4744\",\"beacons_4744_spike_pview_prod\",\"beacons_4744_rt\",\"beacons_4744_rt_spike_pview_prod\",\"News Article\",\"%/news.nationalgeographic.com/2017/11/ancient-fossil-forest-found-antarctica-gondwana-spd%\",\"%\",\"%\",4936,10349,10,10,10000,\"time\",false,\"desktop\",\"%\"),ShowParams(true,false,false,true,true,1,10),Dict(\"b.monetate.net\"=>\"Monetate Personalization\",\"fontlibrary.org\"=>\"Font\",\"use.typekit.net\"=>\"Font\",\"06.creativecdn.com\"=>\"06.creativecdn.com\",\"appservices.nationalgeographic.com\"=>\"NGP Requests\",\"f.monetate.net\"=>\"Monetate Personalization\",\"fonts.typekit.net\"=>\"Font\",\"www.google.co.uk\"=>\"Www.google.co.uk\",\"www.googleadservices.com\"=>\"Google Doubleclick Ads\",\"www.googletagmanager.com\"=>\"Google Tag Manager\",\"www.google.com\"=>\"www.google.com\",\"sb.monetate.net\"=>\"Monetate Personalization\",\"fast.fonts.net\"=>\"Font\",\"se.monetate.net\"=>\"Monetate Personalization\",\"apiadn.fonts.com\"=>\"Font\",\"www.google-analytics.com\"=>\"Google Analytics\",\"www.googletagservices.com\"=>\"Google Publisher Tags Ads\",\"fonts.ngeo.com\"=>\"Font\",\"openfontlibrary.org\"=>\"Font\",\"yourshot.nationalgeographic.com\"=>\"NGP Yourshot\",\"p.typekit.net\"=>\"Font\",\"e.monetate.net\"=>\"Monetate Personalization\"),Dict(\"/ngs-header/build/lib/typeahead-custom.js\"=>\"NGP Script\",\"/static/asset-cache/widget-latest.min.js\"=>\"NGP Yourshot\",\"/etc/designs/ngdotcom/scripts/main.ngsversion.aa8c51dd.js\"=>\"NGP Script\",\"/ngs-header/build/lib/error.min.js\"=>\"NGP Script\",\"/etc/designs/platform/v2/images/misc/icongs-play-black.ngsversion.aa8c51da.svg\"=>\"NGP Script\",\"/modules-global-footer/latest/dist/scripts/global-footer.min.js\"=>\"NGP Script\",\"/versions/20160804-v1111111111111111111111/_jcr_content/content/multilayout_0.promo-all.json\"=>\"NGP Script\",\"/ngs-header/build/views/header.min.hbs\"=>\"NGP Script\",\"/modules-global-nav/styles/main-nonresponsive.css\"=>\"NGP Script\",\"/modules-global-footer/latest/dist/styles/fonts/icongs.eot\"=>\"NGP Script\",\"/versions/20160804-v1111111111111111111111/_jcr_content/content/multilayout.promo-all.json\"=>\"NGP Script\",\"/ngs-header/build/lib/jquery.jsonp-custom.js\"=>\"NGP Script\",\"/ngs-header/build/ngs-header.no-userui.min.js\"=>\"NGP Script\",\"/modules-global-footer/latest/dist/styles/main.css\"=>\"NGP Script\",\"/ngs-header/css/dialog.css\"=>\"NGP Script\",\"/etc/designs/ngdotcom/styles/main.ngsversion.aa8c51dd.css\"=>\"NGP Script\",\"/versions/20160804-v1111111111111111111111/_jcr_content/content/multilayout_3.promo-all.json\"=>\"NGP Script\",\"/global/js/advertising.js\"=>\"NGP Script\",\"/modules-global-nav/styles/fonts/icongs.eot\"=>\"NGP Script\",\"/ngs-header/build/lib/underscore-min.js\"=>\"NGP Script\",\"/ngs-header/build/lib/handlebars.runtime.js\"=>\"NGP Script\",\"/geolocalization/country.js\"=>\"NGP Script\",\"/etc/designs/platform/v2/scripts/ngs-global.ngsversion.aa8c51dd.js\"=>\"NGP Script\",\"/versions/20160804-v1111111111111111111111/_jcr_content/content/multilayout_5.promo-all.json\"=>\"NGP Script\",\"/etc/designs/platform/v2/styles/main.ngsversion.aa8c51dd.css\"=>\"NGP Script\",\"/versions/20160804-v1111111111111111111111/_jcr_content/content/videoplaylist.promo-all.json\"=>\"NGP Script\",\"/geoip/country.js\"=>\"NGP Script\",\"/ngs-header/build/lib/Uri.min.js\"=>\"NGP Script\",\"/Assets/ErrorPages/WpcBlockFrame.htm\"=>\"NGP Assets\",\"/modules-global-nav/scripts/global-nav.min.js\"=>\"NGP Script\",\"/etc/designs/platform/v2/scripts/ngs-vendor.ngsversion.aa8c51dd.js\"=>\"NGP Script\",\"/versions/20160804-v1111111111111111111111/_jcr_content/content/multilayout_4.promo-all.json\"=>\"NGP Script\",\"/ngs-header/bootstrap.js\"=>\"NGP Script\",\"/etc/designs/platform/v2/images/logos/ng-logo-small.ngsversion.aa8c51da.svg\"=>\"NGP Script\",\"/versions/20160804-v1111111111111111111111/_jcr_content/content/multilayout_6.promo-all.json\"=>\"NGP Script\",\"/ads/measurement/l\"=>\"Google Doubleclick Ads\",\"/versions/20160804-v1111111111111111111111/_jcr_content/content/multilayout_2.promo-all.json\"=>\"NGP Script\",\"/ngs-header/build/lib/yepnope.1.5.4-min.js\"=>\"NGP Script\",\"/global-nav-content/content-by-region/US\"=>\"NGP Script\",\"/ngs-header/build/lib/modernizr-custom.js\"=>\"NGP Script\",\"/ngs-header/build/lib/jquery.min.js\"=>\"NGP Script\",\"/versions/20160804-v1111111111111111111111/_jcr_content/content/multilayout_1.promo-all.json\"=>\"NGP Script\",\"/ngs-header/css/header.css\"=>\"NGP Script\"),\"%\",9284,\"0497818d-118a-489f-924b-b6a2b84d5cca-ozvgig\",1511442530699))\n"
     ]
    }
   ],
   "source": [
    "try\n",
    "#individualPageReport(\"03b205aa-6adb-480d-ac6f-0a171a49873a-ojj4vk\",1483993417016,showCriticalPathOnly=false) #    Time=5238\n",
    "    individualPageReportV2(TV,UP,SP,WellKnownHost,WellKnownPath,\"%\",9284,\"0497818d-118a-489f-924b-b6a2b84d5cca-ozvgig\",1511442530699) #    Time=9284    \n",
    "    catch y\n",
    "    println(\"studySession Exception \",y)\n",
    "end  "
   ]
  },
  {
   "cell_type": "code",
   "execution_count": null,
   "metadata": {
    "collapsed": true,
    "input_collapsed": true
   },
   "outputs": [],
   "source": []
  }
 ],
 "metadata": {
  "chart_version": "1.0.0",
  "kernelspec": {
   "display_name": "Julia 0.4.7",
   "language": "julia",
   "name": "julia-0.4"
  },
  "language_info": {
   "file_extension": ".jl",
   "mimetype": "application/julia",
   "name": "julia",
   "version": "0.4.7"
  },
  "library_version": "1.0.0",
  "notebook_uuid": "66f5ed06-e003-4def-b1f1-516b8b47792c",
  "readOnly": false
 },
 "nbformat": 4,
 "nbformat_minor": 0
}
