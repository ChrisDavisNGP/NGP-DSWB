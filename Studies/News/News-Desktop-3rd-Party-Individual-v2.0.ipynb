{
 "cells": [
  {
   "cell_type": "markdown",
   "metadata": {},
   "source": [
    "## Tables and Data Source setup"
   ]
  },
  {
   "cell_type": "code",
   "execution_count": null,
   "metadata": {
    "collapsed": false,
    "input_collapsed": false,
    "scrolled": true
   },
   "outputs": [],
   "source": [
    "using ODBC\n",
    "using DataFrames\n",
    "using DSWB\n",
    "using Formatting\n",
    "using URIParser\n",
    "\n",
    "dsn = \"dswb-natgeo\" # Redshift esetTable(tableRt, tableType = \"RESOURCE_TABLE\")ndpoint\n",
    "table = \"beacons_4744\" # beacon table name\n",
    "tableRt = \"beacons_4744_rt\"\n",
    "\n",
    "# Connect to Beacon Data\n",
    "setRedshiftEndpoint(dsn)\n",
    "setTable(table)\n",
    "setTable(tableRt, tableType = \"RESOURCE_TABLE\")\n",
    ";"
   ]
  },
  {
   "cell_type": "code",
   "execution_count": null,
   "metadata": {
    "collapsed": true,
    "input_collapsed": false
   },
   "outputs": [],
   "source": [
    "include(\"../../Lib/Include-Package-v2.1.jl\")\n",
    "include(\"../../Lib/URL-Classification-Package-v2.0.jl\")\n",
    ";"
   ]
  },
  {
   "cell_type": "code",
   "execution_count": null,
   "metadata": {
    "collapsed": false,
    "input_collapsed": false
   },
   "outputs": [],
   "source": [
    "#TV = timeVariables(2017,10,27,23,59,2017,11,3,23,59)\n",
    "#TV = weeklyTimeVariables(days=7)\n",
    "TV = yesterdayTimeVariables()\n",
    ";"
   ]
  },
  {
   "cell_type": "code",
   "execution_count": null,
   "metadata": {
    "collapsed": true,
    "input_collapsed": false
   },
   "outputs": [],
   "source": [
    "# This is the Mobile Only, Time Based report\n",
    "UP = UrlParamsInit(\"News_Desktop_3rd_Party_Individual\")\n",
    "UP.agentOs = \"%\"\n",
    "UP.deviceType = \"desktop\"\n",
    "UP.limitRows = 10\n",
    "#UP.limitRows = 250\n",
    "UP.orderBy = \"time\"\n",
    "UP.pageGroup = \"News Article\"   #productPageGroup\n",
    "UP.samplesMin = 10\n",
    "UP.sizeMin = 10000\n",
    "UP.timeLowerMs = 2 * 1000.0\n",
    "UP.timeUpperMs = 20 * 1000.0\n",
    "UP.urlRegEx = \"%/news.nationalgeographic.com/2017/11/ancient-fossil-forest-found-antarctica-gondwana-spd%\"   #localUrl\n",
    "UP.urlFull = \"%\"\n",
    "UP.usePageLoad=false\n",
    "UrlParamsValidate(UP)\n",
    "\n",
    "SP = ShowParamsInit()\n",
    "SP.desktop=true\n",
    "SP.mobile=false\n",
    "SP.devView=true\n",
    "SP.criticalPathOnly=true\n",
    "SP.debugLevel = 1   # Tests use even numbers with > tests, make this an odd number or zero\n",
    "SP.reportLevel = 10\n",
    "ShowParamsValidate(SP)\n",
    "\n",
    ";"
   ]
  },
  {
   "cell_type": "code",
   "execution_count": null,
   "metadata": {
    "collapsed": false,
    "input_collapsed": false
   },
   "outputs": [],
   "source": [
    "WellKnownHostDirectory = wellKnownHostEncyclopedia(SP.debug);\n",
    "WellKnownPath = wellKnownPathDictionary(SP.debug);"
   ]
  },
  {
   "cell_type": "code",
   "execution_count": null,
   "metadata": {
    "collapsed": false,
    "input_collapsed": false,
    "scrolled": true
   },
   "outputs": [],
   "source": [
    "localTableDF = defaultBeaconsToDF(TV,UP,SP);"
   ]
  },
  {
   "cell_type": "code",
   "execution_count": null,
   "metadata": {
    "collapsed": false,
    "input_collapsed": false
   },
   "outputs": [],
   "source": [
    "# Stats on the data\n",
    "statsDF = DataFrame()\n",
    "statsDF = beaconStats(TV,UP,SP)\n",
    "UP.timeLowerMs = statsDF[1:1,:q25][1]\n",
    "UP.timeUpperMs = statsDF[1:1,:q75][1]\n",
    ";"
   ]
  },
  {
   "cell_type": "code",
   "execution_count": null,
   "metadata": {
    "collapsed": false,
    "input_collapsed": false
   },
   "outputs": [],
   "source": [
    "#UP.timeLowerMs = 5.0 * 1000\n",
    "#UP.timeUpperMs = 6.0 * 1000\n",
    "localTableRtDF = getResourcesForBeacon(TV,UP)\n",
    "#println(\"$tableRt count is \",size(localTableRtDF))\n",
    ";"
   ]
  },
  {
   "cell_type": "code",
   "execution_count": null,
   "metadata": {
    "collapsed": false,
    "input_collapsed": false,
    "scrolled": false
   },
   "outputs": [],
   "source": [
    "showAvailableSessions(TV,UP,SP,localTableDF,localTableRtDF)"
   ]
  },
  {
   "cell_type": "code",
   "execution_count": null,
   "metadata": {
    "collapsed": false,
    "input_collapsed": false,
    "scrolled": false
   },
   "outputs": [],
   "source": [
    "try\n",
    "\n",
    "    executeSingleSession(TV,UP,SP,WellKnownHost,WellKnownPath,9284,\"0497818d-118a-489f-924b-b6a2b84d5cca-ozvgig\",1511442530699) #    Time=9284\n",
    "    \n",
    "    \n",
    "catch y\n",
    "    println(\"studySession Exception \",y)\n",
    "end  "
   ]
  },
  {
   "cell_type": "code",
   "execution_count": null,
   "metadata": {
    "collapsed": true,
    "input_collapsed": false
   },
   "outputs": [],
   "source": []
  }
 ],
 "metadata": {
  "chart_version": "1.0.0",
  "kernelspec": {
   "display_name": "Julia 0.4.7",
   "language": "julia",
   "name": "julia-0.4"
  },
  "language_info": {
   "file_extension": ".jl",
   "mimetype": "application/julia",
   "name": "julia",
   "version": "0.4.7"
  },
  "library_version": "1.0.0",
  "notebook_uuid": "66f5ed06-e003-4def-b1f1-516b8b47792c",
  "readOnly": false
 },
 "nbformat": 4,
 "nbformat_minor": 0
}
