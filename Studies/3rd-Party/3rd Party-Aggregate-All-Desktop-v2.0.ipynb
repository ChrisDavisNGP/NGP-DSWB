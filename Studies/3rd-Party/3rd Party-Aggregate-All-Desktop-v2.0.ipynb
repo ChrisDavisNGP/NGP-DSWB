{
 "cells": [
  {
   "cell_type": "markdown",
   "metadata": {},
   "source": [
    "## Tables and Data Source setup"
   ]
  },
  {
   "cell_type": "code",
   "execution_count": 1,
   "metadata": {
    "collapsed": false,
    "input_collapsed": false,
    "scrolled": true
   },
   "outputs": [
    {
     "name": "stdout",
     "output_type": "stream",
     "text": [
      "Redshift endpoint set: 2017-11-22T05:16:01\n"
     ]
    }
   ],
   "source": [
    "using ODBC\n",
    "using DataFrames\n",
    "using DSWB\n",
    "using Formatting\n",
    "using URIParser\n",
    "\n",
    "dsn = \"dswb-natgeo\" # Redshift esetTable(tableRt, tableType = \"RESOURCE_TABLE\")ndpoint\n",
    "table = \"beacons_4744\" # beacon table name\n",
    "tableRt = \"beacons_4744_rt\"\n",
    "\n",
    "# Connect to Beacon Data\n",
    "setRedshiftEndpoint(dsn)\n",
    "setTable(table)\n",
    "setTable(tableRt, tableType = \"RESOURCE_TABLE\")\n",
    ";"
   ]
  },
  {
   "cell_type": "code",
   "execution_count": 2,
   "metadata": {
    "collapsed": false,
    "input_collapsed": false
   },
   "outputs": [],
   "source": [
    "# Time & Structures First\n",
    "include(\"../../Lib/Include-Package-v2.1.jl\")\n",
    ";"
   ]
  },
  {
   "cell_type": "code",
   "execution_count": 3,
   "metadata": {
    "collapsed": false,
    "input_collapsed": false
   },
   "outputs": [
    {
     "name": "stdout",
     "output_type": "stream",
     "text": [
      "November 20, 2017 06:59:00 to November 20, 2017 16:59:00 Local Time\n",
      "November 20, 2017 11:59:00 to November 20, 2017 21:59:00 UTC Time\n"
     ]
    }
   ],
   "source": [
    "#TV = timeVariables(2017,10,27,23,59,2017,11,3,23,59)\n",
    "#TV = weeklyTimeVariables(days=7)\n",
    "TV = yesterdayTimeVariables()\n",
    ";"
   ]
  },
  {
   "cell_type": "code",
   "execution_count": 4,
   "metadata": {
    "collapsed": true,
    "input_collapsed": false
   },
   "outputs": [],
   "source": [
    "UP = UrlParamsInit()\n",
    "UP.agentOs = \"%\"\n",
    "UP.beaconTable = table\n",
    "UP.deviceType = \"%\"\n",
    "UP.limitRows = 10\n",
    "#UP.limitRows = 250\n",
    "UP.orderBy = \"time\"\n",
    "UP.pageGroup = \"%\"   #productPageGroup\n",
    "UP.resourceTable = tableRt\n",
    "UP.samplesMin = 10\n",
    "UP.sizeMin = 10000\n",
    "UP.timeLowerMs = 2000.0\n",
    "UP.timeUpperMs = 60000.0\n",
    "UP.urlRegEx = \"%\"   #localUrl\n",
    "UP.urlFull = \"%\"\n",
    "UP.usePageLoad=false\n",
    "UP.btView = \"$(table)_all_dt_view_prod\" #localtable\n",
    "UP.rtView = \"$(tableRt)_all_dt_view_prod\" #localtableRt\n",
    "\n",
    "SP = ShowParamsInit()\n",
    "SP.desktop=false\n",
    "SP.mobile=false\n",
    "SP.devView=false\n",
    "SP.criticalPathOnly=true\n",
    "SP.debug=false\n",
    "SP.debugLevel = 0   # Tests use even numbers with > tests, make this an odd number or zero\n",
    "\n",
    "SG = SoastaGraphsInit()\n",
    "customer = \"Nat Geo\" \n",
    "SG.customer = customer\n",
    "\n",
    "#type LocalVars\n",
    "#    mobileView::ASCIIString\n",
    "#    desktopView::ASCIIString\n",
    "#end\n",
    "#\n",
    "#LV = LocalVars(\"$(table)_Video_Mobile_view_prod\",\"$(table)_Video_Desktop_view_prod\")\n",
    ";"
   ]
  },
  {
   "cell_type": "code",
   "execution_count": 5,
   "metadata": {
    "collapsed": true,
    "input_collapsed": false
   },
   "outputs": [],
   "source": [
    "WellKnownHost = wellKnownHostDictionary();\n",
    "WellKnownPath = wellKnownPathDictionary();"
   ]
  },
  {
   "cell_type": "code",
   "execution_count": 6,
   "metadata": {
    "collapsed": false,
    "input_collapsed": false,
    "scrolled": false
   },
   "outputs": [
    {
     "data": {
      "text/html": [
       "<div class=\"dswbOutputText\"><h1 class=\"chart_title\" style=\"color:#ccc\">Beacon Data Stats for News Article</h1><h3 class=\"chart_info\" style=\"color:#ccc\">November 20, 2017 06:59:00 to November 20, 2017 16:59:00 Local Time</h3></div>"
      ]
     },
     "metadata": {},
     "output_type": "display_data"
    },
    {
     "data": {
      "text/html": [
       "    <table  class=\"dataframe-table\">\n",
       "    <thead><tr><th class=\"cell-1\" style=\"\">unit</th> <th class=\"cell-2\" style=\"\">count</th> <th class=\"cell-3\" style=\"\">mean</th> <th class=\"cell-4\" style=\"\">median</th> <th class=\"cell-5\" style=\"\">stddev</th> <th class=\"cell-6\" style=\"\">variance</th> <th class=\"cell-7\" style=\"\">min</th> <th class=\"cell-8\" style=\"\">max</th> <th class=\"cell-9\" style=\"\">q25</th> <th class=\"cell-10\" style=\"\">q75</th> <th class=\"cell-11\" style=\"\">kurtosis</th> <th class=\"cell-12\" style=\"\">skewness</th> <th class=\"cell-13\" style=\"\">entropy</th> <th class=\"cell-14\" style=\"\">modes</th> <th class=\"cell-15\" style=\"\">LowerBy3Stddev</th> <th class=\"cell-16\" style=\"\">UpperBy3Stddev</th></tr></thead>\n",
       "    <tbody>\n",
       "    <tr><td class=\"cell-1\" style=\"\">milliseconds</td> <td class=\"cell-2\" style=\"text-align:right;\">46,142</td> <td class=\"cell-3\" style=\"text-align:right;\">10,121</td> <td class=\"cell-4\" style=\"text-align:right;\">7,000</td> <td class=\"cell-5\" style=\"text-align:right;\">9,019</td> <td class=\"cell-6\" style=\"text-align:right;\">81,343,469</td> <td class=\"cell-7\" style=\"text-align:right;\">2,000</td> <td class=\"cell-8\" style=\"text-align:right;\">59,982</td> <td class=\"cell-9\" style=\"text-align:right;\">4,541</td> <td class=\"cell-10\" style=\"text-align:right;\">11,937</td> <td class=\"cell-11\" style=\"text-align:right;\">6.7</td> <td class=\"cell-12\" style=\"text-align:right;\">2.4</td> <td class=\"cell-13\" style=\"text-align:right;\">-4,445,021,189</td> <td class=\"cell-14\" style=\"text-align:right;\">4,060</td> <td class=\"cell-15\" style=\"text-align:right;\">1</td> <td class=\"cell-16\" style=\"text-align:right;\">34,057</td></tr>\n",
       "    \n",
       "    \n",
       "    </tbody>\n"
      ],
      "text/plain": [
       "HTML{UTF8String}(\"    <table  class=\\\"dataframe-table\\\">\\n    <thead><tr><th class=\\\"cell-1\\\" style=\\\"\\\">unit</th> <th class=\\\"cell-2\\\" style=\\\"\\\">count</th> <th class=\\\"cell-3\\\" style=\\\"\\\">mean</th> <th class=\\\"cell-4\\\" style=\\\"\\\">median</th> <th class=\\\"cell-5\\\" style=\\\"\\\">stddev</th> <th class=\\\"cell-6\\\" style=\\\"\\\">variance</th> <th class=\\\"cell-7\\\" style=\\\"\\\">min</th> <th class=\\\"cell-8\\\" style=\\\"\\\">max</th> <th class=\\\"cell-9\\\" style=\\\"\\\">q25</th> <th class=\\\"cell-10\\\" style=\\\"\\\">q75</th> <th class=\\\"cell-11\\\" style=\\\"\\\">kurtosis</th> <th class=\\\"cell-12\\\" style=\\\"\\\">skewness</th> <th class=\\\"cell-13\\\" style=\\\"\\\">entropy</th> <th class=\\\"cell-14\\\" style=\\\"\\\">modes</th> <th class=\\\"cell-15\\\" style=\\\"\\\">LowerBy3Stddev</th> <th class=\\\"cell-16\\\" style=\\\"\\\">UpperBy3Stddev</th></tr></thead>\\n    <tbody>\\n    <tr><td class=\\\"cell-1\\\" style=\\\"\\\">milliseconds</td> <td class=\\\"cell-2\\\" style=\\\"text-align:right;\\\">46,142</td> <td class=\\\"cell-3\\\" style=\\\"text-align:right;\\\">10,121</td> <td class=\\\"cell-4\\\" style=\\\"text-align:right;\\\">7,000</td> <td class=\\\"cell-5\\\" style=\\\"text-align:right;\\\">9,019</td> <td class=\\\"cell-6\\\" style=\\\"text-align:right;\\\">81,343,469</td> <td class=\\\"cell-7\\\" style=\\\"text-align:right;\\\">2,000</td> <td class=\\\"cell-8\\\" style=\\\"text-align:right;\\\">59,982</td> <td class=\\\"cell-9\\\" style=\\\"text-align:right;\\\">4,541</td> <td class=\\\"cell-10\\\" style=\\\"text-align:right;\\\">11,937</td> <td class=\\\"cell-11\\\" style=\\\"text-align:right;\\\">6.7</td> <td class=\\\"cell-12\\\" style=\\\"text-align:right;\\\">2.4</td> <td class=\\\"cell-13\\\" style=\\\"text-align:right;\\\">-4,445,021,189</td> <td class=\\\"cell-14\\\" style=\\\"text-align:right;\\\">4,060</td> <td class=\\\"cell-15\\\" style=\\\"text-align:right;\\\">1</td> <td class=\\\"cell-16\\\" style=\\\"text-align:right;\\\">34,057</td></tr>\\n    \\n    \\n    </tbody>\\n\")"
      ]
     },
     "metadata": {},
     "output_type": "display_data"
    },
    {
     "name": "stdout",
     "output_type": "stream",
     "text": [
      "beacons_4744 count is (46142,246)\n",
      "allPageUrlUrlTableDF Exception UndefVarError(:usePageLoad)\n",
      "typeAll Exception MethodError(getindex,(nothing,Colon(),Colon()))\n"
     ]
    }
   ],
   "source": [
    "typeAllBodyQuick(TV,UP,SP,\"News Article\",\"%\",\"Desktop\")\n",
    "#typeAllBodyQuick(TV,UP,SP,\"Your Shot\",\"%\",\"Desktop\")\n",
    "#typeAllBodyQuick(TV,UP,SP,\"Channel\",\"%\",\"Desktop\")\n",
    "#typeAllBodyQuick(TV,UP,SP,\"Adventure\",\"%\",\"Desktop\")\n",
    "#typeAllBodyQuick(TV,UP,SP,\"Photography\",\"%\",\"Desktop\")\n",
    "#typeAllBodyQuick(TV,UP,SP,\"Kids\",\"%\",\"Desktop\")\n",
    "#typeAllBodyQuick(TV,UP,SP,\"Video\",\"%\",\"Desktop\")\n",
    "#typeAllBodyQuick(TV,UP,SP,\"Nat Geo Site\",\"%\",\"Desktop\")\n",
    "#typeAllBodyQuick(TV,UP,SP,\"Nat Geo Homepage\",\"%\",\"Desktop\")\n",
    "#typeAllBodyQuick(TV,UP,SP,\"TravelAEM\",\"%\",\"Desktop\")"
   ]
  },
  {
   "cell_type": "code",
   "execution_count": 5,
   "metadata": {
    "collapsed": false,
    "input_collapsed": false,
    "scrolled": false
   },
   "outputs": [],
   "source": [
    "#typeAllBodyQuick(TV,UP,SP,\"News Article\",\"%\",\"Mobile\")\n",
    "#typeAllBodyQuick(TV,UP,SP,\"Your Shot\",\"%\",\"Mobile\")\n",
    "#typeAllBodyQuick(TV,UP,SP,\"Channel\",\"%\",\"Mobile\")\n",
    "#typeAllBodyQuick(TV,UP,SP,\"Adventure\",\"%\",\"Mobile\")\n",
    "#typeAllBodyQuick(TV,UP,SP,\"Photography\",\"%\",\"Mobile\")\n",
    "#typeAllBodyQuick(TV,UP,SP,\"Kids\",\"%\",\"Mobile\")\n",
    "#typeAllBodyQuick(TV,UP,SP,\"Video\",\"%\",\"Mobile\")\n",
    "#typeAllBodyQuick(TV,UP,SP,\"Nat Geo Site\",\"%\",\"Mobile\")\n",
    "#typeAllBodyQuick(TV,UP,SP,\"Nat Geo Homepage\",\"%\",\"Mobile\")\n",
    "#typeAllBodyQuick(TV,UP,SP,\"TravelAEM\",\"%\",\"Mobile\")"
   ]
  }
 ],
 "metadata": {
  "chart_version": "1.0.0",
  "kernelspec": {
   "display_name": "Julia 0.4.7",
   "language": "julia",
   "name": "julia-0.4"
  },
  "language_info": {
   "file_extension": ".jl",
   "mimetype": "application/julia",
   "name": "julia",
   "version": "0.4.7"
  },
  "library_version": "1.0.0",
  "notebook_uuid": "8d9e93e2-c413-49f0-b995-ef4387712f83",
  "readOnly": false
 },
 "nbformat": 4,
 "nbformat_minor": 0
}
