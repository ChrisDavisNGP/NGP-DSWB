{
 "cells": [
  {
   "cell_type": "markdown",
   "metadata": {},
   "source": [
    "## Tables and Data Source setup"
   ]
  },
  {
   "cell_type": "code",
   "execution_count": null,
   "metadata": {
    "collapsed": false,
    "input_collapsed": false,
    "scrolled": true
   },
   "outputs": [],
   "source": [
    "using ODBC\n",
    "using DataFrames\n",
    "using DSWB\n",
    "using Formatting\n",
    "using URIParser\n",
    "\n",
    "dsn = \"dswb-natgeo\" # Redshift esetTable(tableRt, tableType = \"RESOURCE_TABLE\")ndpoint\n",
    "table = \"beacons_4744\" # beacon table name\n",
    "tableRt = \"beacons_4744_rt\"\n",
    "\n",
    "# Connect to Beacon Data\n",
    "setRedshiftEndpoint(dsn)\n",
    "setTable(table)\n",
    "setTable(tableRt, tableType = \"RESOURCE_TABLE\")\n",
    ";"
   ]
  },
  {
   "cell_type": "code",
   "execution_count": null,
   "metadata": {
    "collapsed": false,
    "input_collapsed": false
   },
   "outputs": [],
   "source": [
    "include(\"../../Lib/Include-Package-v2.1.jl\")\n",
    "include(\"../../Lib/URL-Classification-Package-v2.0.jl\")\n",
    ";"
   ]
  },
  {
   "cell_type": "code",
   "execution_count": null,
   "metadata": {
    "collapsed": false,
    "input_collapsed": false
   },
   "outputs": [],
   "source": [
    "#TV = timeVariables(2017,10,27,23,59,2017,11,3,23,59)\n",
    "#TV = weeklyTimeVariables(days=7)\n",
    "TV = yesterdayTimeVariables()\n",
    ";"
   ]
  },
  {
   "cell_type": "code",
   "execution_count": null,
   "metadata": {
    "collapsed": true,
    "input_collapsed": false
   },
   "outputs": [],
   "source": [
    "UP = UrlParamsInit(\"3rd_Party_Agg_All_Mobile\")\n",
    "UP.agentOs = \"%\"\n",
    "UP.deviceType = \"%\"\n",
    "UP.limitRows = 10\n",
    "#UP.limitRows = 250\n",
    "UP.orderBy = \"time\"\n",
    "UP.pageGroup = \"%\"   #productPageGroup\n",
    "UP.samplesMin = 10\n",
    "UP.sizeMin = 10000\n",
    "UP.timeLowerMs = 2000.0\n",
    "UP.timeUpperMs = 60000.0\n",
    "UP.urlRegEx = \"%\"   #localUrl\n",
    "UP.urlFull = \"%\"\n",
    "UP.usePageLoad=false\n",
    "UrlParamsValidate(UP)\n",
    "\n",
    "SP = ShowParamsInit()\n",
    "SP.desktop=false\n",
    "SP.mobile=false\n",
    "SP.devView=false\n",
    "SP.criticalPathOnly=true\n",
    "SP.debugLevel = 0   # Tests use even numbers with > tests, make this an odd number or zero\n",
    "ShowParamsValidate(SP)\n",
    "\n",
    ";"
   ]
  },
  {
   "cell_type": "code",
   "execution_count": null,
   "metadata": {
    "collapsed": true,
    "input_collapsed": false
   },
   "outputs": [],
   "source": [
    "WellKnownHostDirectory = wellKnownHostEncyclopedia(SP.debug);\n",
    "WellKnownPath = wellKnownPathDictionary(SP.debug);"
   ]
  },
  {
   "cell_type": "code",
   "execution_count": null,
   "metadata": {
    "collapsed": false,
    "input_collapsed": false,
    "scrolled": false
   },
   "outputs": [],
   "source": [
    "#typeAllBodyQuick(TV,UP,SP,\"News Article\",\"%\",\"Desktop\")\n",
    "#typeAllBodyQuick(TV,UP,SP,\"Your Shot\",\"%\",\"Desktop\")\n",
    "#typeAllBodyQuick(TV,UP,SP,\"Channel\",\"%\",\"Desktop\")\n",
    "#typeAllBodyQuick(TV,UP,SP,\"Adventure\",\"%\",\"Desktop\")\n",
    "#typeAllBodyQuick(TV,UP,SP,\"Photography\",\"%\",\"Desktop\")\n",
    "#typeAllBodyQuick(TV,UP,SP,\"Kids\",\"%\",\"Desktop\")\n",
    "#typeAllBodyQuick(TV,UP,SP,\"Video\",\"%\",\"Desktop\")\n",
    "#typeAllBodyQuick(TV,UP,SP,\"Nat Geo Site\",\"%\",\"Desktop\")\n",
    "#typeAllBodyQuick(TV,UP,SP,\"Nat Geo Homepage\",\"%\",\"Desktop\")\n",
    "#typeAllBodyQuick(TV,UP,SP,\"TravelAEM\",\"%\",\"Desktop\")"
   ]
  },
  {
   "cell_type": "code",
   "execution_count": null,
   "metadata": {
    "collapsed": false,
    "input_collapsed": false,
    "scrolled": false
   },
   "outputs": [],
   "source": [
    "typeAllBodyQuick(TV,UP,SP,\"News Article\",\"%\",\"Mobile\")\n",
    "#typeAllBodyQuick(TV,UP,SP,\"Your Shot\",\"%\",\"Mobile\")\n",
    "#typeAllBodyQuick(TV,UP,SP,\"Channel\",\"%\",\"Mobile\")\n",
    "#typeAllBodyQuick(TV,UP,SP,\"Adventure\",\"%\",\"Mobile\")\n",
    "#typeAllBodyQuick(TV,UP,SP,\"Photography\",\"%\",\"Mobile\")\n",
    "#typeAllBodyQuick(TV,UP,SP,\"Kids\",\"%\",\"Mobile\")\n",
    "#typeAllBodyQuick(TV,UP,SP,\"Video\",\"%\",\"Mobile\")\n",
    "#typeAllBodyQuick(TV,UP,SP,\"Nat Geo Site\",\"%\",\"Mobile\")\n",
    "#typeAllBodyQuick(TV,UP,SP,\"Nat Geo Homepage\",\"%\",\"Mobile\")\n",
    "#typeAllBodyQuick(TV,UP,SP,\"TravelAEM\",\"%\",\"Mobile\")"
   ]
  },
  {
   "cell_type": "code",
   "execution_count": null,
   "metadata": {
    "collapsed": true,
    "input_collapsed": true
   },
   "outputs": [],
   "source": []
  }
 ],
 "metadata": {
  "chart_version": "1.0.0",
  "kernelspec": {
   "display_name": "Julia 0.4.7",
   "language": "julia",
   "name": "julia-0.4"
  },
  "language_info": {
   "file_extension": ".jl",
   "mimetype": "application/julia",
   "name": "julia",
   "version": "0.4.7"
  },
  "library_version": "1.0.0",
  "notebook_uuid": "da745bbe-5bb3-49ef-93bd-78b9fde22a4f",
  "readOnly": false
 },
 "nbformat": 4,
 "nbformat_minor": 0
}
