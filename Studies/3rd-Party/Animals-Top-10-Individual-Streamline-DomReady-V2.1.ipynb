{
 "cells": [
  {
   "cell_type": "markdown",
   "metadata": {},
   "source": [
    "## Tables and Data Source setup"
   ]
  },
  {
   "cell_type": "code",
   "execution_count": null,
   "metadata": {
    "collapsed": false,
    "input_collapsed": false,
    "scrolled": true
   },
   "outputs": [],
   "source": [
    "using ODBC\n",
    "using DataFrames\n",
    "using DSWB\n",
    "using Formatting\n",
    "using URIParser\n",
    "\n",
    "dsn = \"dswb-natgeo\" # Redshift esetTable(tableRt, tableType = \"RESOURCE_TABLE\")ndpoint\n",
    "table = \"beacons_4744\" # beacon table name\n",
    "tableRt = \"beacons_4744_rt\"\n",
    "\n",
    "# Connect to Beacon Data\n",
    "setRedshiftEndpoint(dsn)\n",
    "setTable(table)\n",
    "setTable(tableRt, tableType = \"RESOURCE_TABLE\")"
   ]
  },
  {
   "cell_type": "code",
   "execution_count": null,
   "metadata": {
    "collapsed": false,
    "input_collapsed": false
   },
   "outputs": [],
   "source": [
    "# Packages\n",
    "\n",
    "include(\"/data/notebook_home/Production/Lib/Include-Package-v1.0.jl\")\n",
    "include(\"/data/notebook_home/Production/Bodies/Individual-Streamline-v1.1.jl\")\n",
    ";\n",
    "# tv structure created in include above, so init time here\n",
    "#timeVariables(2017,4,5,14,0,2017,4,5,16,59)\n",
    "#weeklyTimeVariables(days=1)\n",
    "yesterdayTimeVariables()\n",
    "\n",
    "#pageGroup = \"%\"\n",
    "pageGroup = \"Animals AEM\"\n",
    "top10 = 10\n",
    "#top10 = 1\n",
    "showDesktop=true\n",
    "showMobile=true\n",
    "showDevView=true\n",
    "showCriticalPathOnly=true\n",
    "showDebug=false\n",
    "usePageLoad=false\n",
    ";"
   ]
  },
  {
   "cell_type": "code",
   "execution_count": null,
   "metadata": {
    "collapsed": false,
    "input_collapsed": false
   },
   "outputs": [],
   "source": [
    "#methods(estimateBeacons)"
   ]
  },
  {
   "cell_type": "code",
   "execution_count": null,
   "metadata": {
    "collapsed": false,
    "input_collapsed": false
   },
   "outputs": [],
   "source": [
    "WellKnownHost = wellKnownHostDictionary();\n",
    "WellKnownPath = wellKnownPathDictionary();"
   ]
  },
  {
   "cell_type": "code",
   "execution_count": null,
   "metadata": {
    "collapsed": false,
    "input_collapsed": false,
    "scrolled": false
   },
   "outputs": [],
   "source": [
    "topUrlDF = returnTopUrlTable(table,pageGroup,tv.startTimeMsUTC,tv.endTimeMsUTC,limit=top10)\n",
    "topUrlList = topUrlDF[:urlgroup]\n",
    "#display(topUrlList)\n",
    "\n",
    "for url in topUrlList\n",
    "\n",
    "    trim1FrontIdx = searchindex(url,\"http://\")\n",
    "    trim2FrontIdx = searchindex(url,\"https://\")\n",
    "    if (trim1FrontIdx > 0)\n",
    "        testUrl = url[8:end]\n",
    "    end\n",
    "    \n",
    "    if (trim2FrontIdx > 0)\n",
    "        testUrl = url[9:end]\n",
    "    end\n",
    "    \n",
    "    trimEndIdx = searchindex(testUrl,\"/?\")\n",
    "    if (trimEndIdx > 0)\n",
    "        testUrl = testUrl[1:trimEndIdx]\n",
    "    end\n",
    "    \n",
    "    if (testUrl[end] == '/')\n",
    "        testUrl = testUrl[1:end-1]\n",
    "    end\n",
    "\n",
    "    fullUrlString = string(\"/\",ASCIIString(testUrl),\"/\")\n",
    "    localUrlString = string(\"%\",ASCIIString(testUrl),\"%\")\n",
    "    #println(\"url \",url,\" testUrl \",testUrl)\n",
    "    if (showMobile)\n",
    "        individualStreamlineMain(TV,UP,SP,WellKnownHost,WellKnownPath,\"mobile\",3000.0,15000.0)\n",
    "    end\n",
    "    if (showDesktop)\n",
    "        individualStreamlineMain(TV,UP,SP,WellKnownHost,WellKnownPath,\"desktop\",3000.0,15000.0)\n",
    "    end\n",
    "end"
   ]
  },
  {
   "cell_type": "code",
   "execution_count": null,
   "metadata": {
    "collapsed": false,
    "input_collapsed": false,
    "scrolled": false
   },
   "outputs": [],
   "source": [
    "#include(\"/data/notebook_home/Production/Bodies/Individual-Streamline-v1.0.jl\")\n",
    "#    testUrl = \"news.nationalgeographic.com/2017/04/eddie-amanda-kisfaludy-fly-helicopter-over-atlantic-greenland-melting-ice-climate\"\n",
    "#    fullUrlString = string(\"/\",ASCIIString(testUrl),\"/\")\n",
    "#    localUrlString = string(\"%\",ASCIIString(testUrl),\"%\")\n",
    "#    #println(\"url \",url,\" testUrl \",testUrl)\n",
    "#    #individualStreamlineMain(WellKnownHost,WellKnownPath,table,tableRt,pageGroup,fullUrlString,localUrlString,\"mobile\",1000.0,2000.0;showDevView=true,showCriticalPathOnly=false,repeat=1)\n",
    "#\"/news.nationalgeographic.com/2017/04/eddie-amanda-kisfaludy-fly-helicopter-over-atlantic-greenland-melting-ice-climate/ 1.71 Seconds for mobile\",\n",
    "#\"%news.nationalgeographic.com/2017/04/eddie-amanda-kisfaludy-fly-helicopter-over-atlantic-greenland-melting-ice-climate%\",\n",
    "#\"23657b43-a44d-48ad-8707-05a7d36ed8c5-onybl6\",\n",
    "#1491420720092,1710,showCriticalPathOnly=false,showAdditionals=true)\n"
   ]
  },
  {
   "cell_type": "code",
   "execution_count": null,
   "metadata": {
    "collapsed": true,
    "input_collapsed": false
   },
   "outputs": [],
   "source": []
  }
 ],
 "metadata": {
  "chart_version": "1.0.0",
  "kernelspec": {
   "display_name": "Julia 0.4.7",
   "language": "julia",
   "name": "julia-0.4"
  },
  "language_info": {
   "file_extension": ".jl",
   "mimetype": "application/julia",
   "name": "julia",
   "version": "0.4.7"
  },
  "library_version": "1.0.0",
  "notebook_uuid": "c65c3985-06c1-42b8-913c-326c2727fe4d",
  "readOnly": false
 },
 "nbformat": 4,
 "nbformat_minor": 0
}
