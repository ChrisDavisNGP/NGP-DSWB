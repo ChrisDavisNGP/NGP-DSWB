{
 "cells": [
  {
   "cell_type": "markdown",
   "metadata": {},
   "source": [
    "## Tables and Data Source setup"
   ]
  },
  {
   "cell_type": "code",
   "execution_count": 1,
   "metadata": {
    "collapsed": false,
    "input_collapsed": false,
    "scrolled": true
   },
   "outputs": [
    {
     "name": "stdout",
     "output_type": "stream",
     "text": [
      "Redshift endpoint set: 2017-11-21T21:42:16\n"
     ]
    }
   ],
   "source": [
    "using ODBC\n",
    "using DataFrames\n",
    "using DSWB\n",
    "using Formatting\n",
    "using URIParser\n",
    "\n",
    "dsn = \"dswb-natgeo\" # Redshift esetTable(tableRt, tableType = \"RESOURCE_TABLE\")ndpoint\n",
    "table = \"beacons_4744\" # beacon table name\n",
    "tableRt = \"beacons_4744_rt\"\n",
    "\n",
    "# Connect to Beacon Data\n",
    "setRedshiftEndpoint(dsn)\n",
    "setTable(table)\n",
    "setTable(tableRt, tableType = \"RESOURCE_TABLE\")\n",
    ";"
   ]
  },
  {
   "cell_type": "code",
   "execution_count": 2,
   "metadata": {
    "collapsed": true,
    "input_collapsed": false
   },
   "outputs": [],
   "source": [
    "# Time & Structures First\n",
    "include(\"../../Lib/Include-Package-v2.1.jl\")\n",
    ";"
   ]
  },
  {
   "cell_type": "code",
   "execution_count": 3,
   "metadata": {
    "collapsed": false,
    "input_collapsed": false
   },
   "outputs": [
    {
     "name": "stdout",
     "output_type": "stream",
     "text": [
      "November 20, 2017 06:59:00 to November 20, 2017 16:59:00 Local Time\n",
      "November 20, 2017 11:59:00 to November 20, 2017 21:59:00 UTC Time\n"
     ]
    }
   ],
   "source": [
    "#TV = timeVariables(2017,10,27,23,59,2017,11,3,23,59)\n",
    "#TV = weeklyTimeVariables(days=7)\n",
    "TV = yesterdayTimeVariables()\n",
    ";"
   ]
  },
  {
   "cell_type": "code",
   "execution_count": 4,
   "metadata": {
    "collapsed": false,
    "input_collapsed": false
   },
   "outputs": [],
   "source": [
    "UP = UrlParamsInit()\n",
    "UP.agentOs = \"%\"\n",
    "UP.beaconTable = table\n",
    "UP.btView = \"$(table)_spike_pview_prod\" #localtable\n",
    "UP.deviceType = \"mobile\"\n",
    "UP.limitRows = 10\n",
    "#UP.limitRows = 250\n",
    "UP.orderBy = \"time\"\n",
    "UP.pageGroup = \"Animals AEM\"   #productPageGroup\n",
    "UP.resourceTable = tableRt\n",
    "UP.rtView = \"$(tableRt)_spike_pview_prod\" #localtableRt\n",
    "UP.samplesMin = 10\n",
    "UP.sizeMin = 10000\n",
    "UP.timeLowerMs = 2000.0\n",
    "UP.timeUpperMs = 60000.0\n",
    "UP.urlRegEx = \"%\"   #localUrl\n",
    "UP.urlFull = \"%\"\n",
    "UP.usePageLoad=false\n",
    "\n",
    "SP = ShowParamsInit()\n",
    "SP.desktop=true\n",
    "SP.mobile=true\n",
    "SP.devView=true\n",
    "SP.criticalPathOnly=true\n",
    "SP.debug=false\n",
    "SP.debugLevel = 0   # Tests use even numbers with > tests, make this an odd number or zero\n",
    "\n",
    "SG = SoastaGraphsInit()\n",
    "customer = \"Nat Geo\" \n",
    "SG.customer = customer\n",
    "\n",
    "#type LocalVars\n",
    "#    useJson::Bool\n",
    "#end\n",
    ";"
   ]
  },
  {
   "cell_type": "code",
   "execution_count": 5,
   "metadata": {
    "collapsed": false,
    "input_collapsed": false
   },
   "outputs": [],
   "source": [
    "WellKnownHost = wellKnownHostDictionary();\n",
    "WellKnownPath = wellKnownPathDictionary();"
   ]
  },
  {
   "cell_type": "code",
   "execution_count": 6,
   "metadata": {
    "collapsed": false,
    "input_collapsed": false,
    "scrolled": false
   },
   "outputs": [
    {
     "name": "stdout",
     "output_type": "stream",
     "text": [
      "Individual Streamline Main Exception UndefVarError(:localTableDF)\n",
      "Individual Streamline Main Exception UndefVarError(:localTableDF)\n",
      "Individual Streamline Main Exception UndefVarError(:localTableDF)\n",
      "Individual Streamline Main Exception UndefVarError(:localTableDF)\n",
      "Individual Streamline Main Exception UndefVarError(:localTableDF)\n",
      "Individual Streamline Main Exception UndefVarError(:localTableDF)\n",
      "Individual Streamline Main Exception UndefVarError(:localTableDF)\n",
      "Individual Streamline Main Exception UndefVarError(:localTableDF)\n",
      "Individual Streamline Main Exception UndefVarError(:localTableDF)\n",
      "Individual Streamline Main Exception UndefVarError(:localTableDF)\n",
      "Individual Streamline Main Exception UndefVarError(:localTableDF)\n",
      "Individual Streamline Main Exception UndefVarError(:localTableDF)\n",
      "Individual Streamline Main Exception UndefVarError(:localTableDF)\n",
      "Individual Streamline Main Exception UndefVarError(:localTableDF)\n",
      "Individual Streamline Main Exception UndefVarError(:localTableDF)\n",
      "Individual Streamline Main Exception UndefVarError(:localTableDF)\n",
      "Individual Streamline Main Exception UndefVarError(:localTableDF)\n",
      "Individual Streamline Main Exception UndefVarError(:localTableDF)\n",
      "Individual Streamline Main Exception UndefVarError(:localTableDF)\n",
      "Individual Streamline Main Exception UndefVarError(:localTableDF)\n"
     ]
    }
   ],
   "source": [
    "topUrlDF = returnTopUrlTable(UP.beaconTable,UP.pageGroup,TV.startTimeMsUTC,TV.endTimeMsUTC,limit=UP.limitRows)\n",
    "topUrlList = topUrlDF[:urlgroup]\n",
    "#display(topUrlList)\n",
    "\n",
    "for url in topUrlList\n",
    "\n",
    "    trim1FrontIdx = searchindex(url,\"http://\")\n",
    "    trim2FrontIdx = searchindex(url,\"https://\")\n",
    "    if (trim1FrontIdx > 0)\n",
    "        testUrl = url[8:end]\n",
    "    end\n",
    "    \n",
    "    if (trim2FrontIdx > 0)\n",
    "        testUrl = url[9:end]\n",
    "    end\n",
    "    \n",
    "    trimEndIdx = searchindex(testUrl,\"/?\")\n",
    "    if (trimEndIdx > 0)\n",
    "        testUrl = testUrl[1:trimEndIdx]\n",
    "    end\n",
    "    \n",
    "    if (testUrl[end] == '/')\n",
    "        testUrl = testUrl[1:end-1]\n",
    "    end\n",
    "\n",
    "    UP.urlFull = string(\"/\",ASCIIString(testUrl),\"/\")\n",
    "    UP.urlRegEx = string(\"%\",ASCIIString(testUrl),\"%\")\n",
    "    \n",
    "    if (SP.mobile)\n",
    "        individualStreamlineMain(TV,UP,SP,WellKnownHost,WellKnownPath,\"mobile\",3000.0,15000.0)\n",
    "    end\n",
    "    if (SP.desktop)\n",
    "        individualStreamlineMain(TV,UP,SP,WellKnownHost,WellKnownPath,\"desktop\",3000.0,15000.0)\n",
    "    end\n",
    "end"
   ]
  },
  {
   "cell_type": "code",
   "execution_count": null,
   "metadata": {
    "collapsed": true,
    "input_collapsed": true
   },
   "outputs": [],
   "source": []
  }
 ],
 "metadata": {
  "chart_version": "1.0.0",
  "kernelspec": {
   "display_name": "Julia 0.4.7",
   "language": "julia",
   "name": "julia-0.4"
  },
  "language_info": {
   "file_extension": ".jl",
   "mimetype": "application/julia",
   "name": "julia",
   "version": "0.4.7"
  },
  "library_version": "1.0.0",
  "notebook_uuid": "c65c3985-06c1-42b8-913c-326c2727fe4d",
  "readOnly": false
 },
 "nbformat": 4,
 "nbformat_minor": 0
}
