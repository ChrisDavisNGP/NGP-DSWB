{
 "cells": [
  {
   "cell_type": "markdown",
   "metadata": {},
   "source": [
    "## Tables and Data Source setup"
   ]
  },
  {
   "cell_type": "code",
   "execution_count": 1,
   "metadata": {
    "collapsed": false,
    "input_collapsed": false,
    "scrolled": true
   },
   "outputs": [
    {
     "name": "stdout",
     "output_type": "stream",
     "text": [
      "Redshift endpoint set: 2017-11-21T21:18:47\n"
     ]
    }
   ],
   "source": [
    "using ODBC\n",
    "using DataFrames\n",
    "using DSWB\n",
    "using Formatting\n",
    "using URIParser\n",
    "using JSON\n",
    "\n",
    "dsn = \"dswb-natgeo\" # Redshift esetTable(tableRt, tableType = \"RESOURCE_TABLE\")ndpoint\n",
    "table = \"beacons_4744\" # beacon table name\n",
    "tableRt = \"beacons_4744_rt\"\n",
    "\n",
    "# Connect to Beacon Data\n",
    "setRedshiftEndpoint(dsn)\n",
    "setTable(table)\n",
    "setTable(tableRt, tableType = \"RESOURCE_TABLE\")\n",
    ";"
   ]
  },
  {
   "cell_type": "code",
   "execution_count": 2,
   "metadata": {
    "collapsed": false,
    "input_collapsed": false
   },
   "outputs": [],
   "source": [
    "# Time & Structures First\n",
    "include(\"../../Lib/Include-Package-v2.1.jl\")\n",
    ";"
   ]
  },
  {
   "cell_type": "code",
   "execution_count": 3,
   "metadata": {
    "collapsed": false,
    "input_collapsed": false
   },
   "outputs": [
    {
     "name": "stdout",
     "output_type": "stream",
     "text": [
      "November 20, 2017 06:59:00 to November 20, 2017 16:59:00 Local Time\n",
      "November 20, 2017 11:59:00 to November 20, 2017 21:59:00 UTC Time\n"
     ]
    }
   ],
   "source": [
    "#TV = timeVariables(2017,5,9,16,0,2017,5,9,16,59)\n",
    "#TV = weeklyTimeVariables(days=7)\n",
    "TV = yesterdayTimeVariables()\n",
    ";"
   ]
  },
  {
   "cell_type": "code",
   "execution_count": 4,
   "metadata": {
    "collapsed": false,
    "input_collapsed": false
   },
   "outputs": [],
   "source": [
    "# This is the Desktop Only, Time based report\n",
    "\n",
    "UP = UrlParamsInit(\"Part_5_Weekly\")\n",
    "UP.agentOs = \"%\"\n",
    "UP.deviceType = \"desktop\"\n",
    "UP.limitRows = 10\n",
    "#UP.limitRows = 250\n",
    "UP.orderBy = \"time\"\n",
    "UP.pageGroup = \"%\"   #productPageGroup\n",
    "UP.samplesMin = 10\n",
    "UP.sizeMin = 10000\n",
    "UP.timeLowerMs = 2000.0\n",
    "UP.timeUpperMs = 60000.0\n",
    "UP.urlRegEx = \"%\"   #localUrl\n",
    "UP.urlFull = \"%\"\n",
    "UP.usePageLoad=false\n",
    "UrlParamsValidate(UP)\n",
    "\n",
    "SP = ShowParamsInit()\n",
    "SP.desktop=true\n",
    "SP.mobile=false\n",
    "SP.devView=false\n",
    "SP.criticalPathOnly=true\n",
    "SP.debugLevel = 0   # Tests use even numbers with > tests, make this an odd number or zero\n",
    "ShowParamsValidate(SP)\n",
    "\n",
    "type LocalVars\n",
    "    useJson::Bool\n",
    "end\n",
    "\n",
    "LV = LocalVars(false) #useJSon = false\n",
    ";"
   ]
  },
  {
   "cell_type": "code",
   "execution_count": 6,
   "metadata": {
    "collapsed": false,
    "input_collapsed": false,
    "scrolled": false
   },
   "outputs": [
    {
     "data": {
      "text/html": [
       "    <table  class=\"dataframe-table\">\n",
       "    <thead><tr><th class=\"cell-1\" style=\"\">Recent Urls (Sorted By Time Descending; Min Samples  10 ; Top  10  Page Views)</th> <th class=\"cell-2\" style=\"\">Time</th> <th class=\"cell-3\" style=\"\">Request Made</th> <th class=\"cell-4\" style=\"\">Page Size</th> <th class=\"cell-5\" style=\"\">Samples</th></tr></thead>\n",
       "    <tbody>\n",
       "    <tr><td class=\"cell-1\" style=\"\">/www.nationalgeographic.com/magazine/2017/09/explore-health-rorschach-psychology-test/%</td> <td class=\"cell-2\" style=\"text-align:right;\">7,756</td> <td class=\"cell-3\" style=\"text-align:right;\">70</td> <td class=\"cell-4\" style=\"text-align:right;\">831,948</td> <td class=\"cell-5\" style=\"text-align:right;\">3,230</td></tr>\n",
       "<tr><td class=\"cell-1\" style=\"\">/news.nationalgeographic.com/2017/08/yeti-abominable-snowman-bear-daniel-taylor/%</td> <td class=\"cell-2\" style=\"text-align:right;\">7,498</td> <td class=\"cell-3\" style=\"text-align:right;\">72</td> <td class=\"cell-4\" style=\"text-align:right;\">893,272</td> <td class=\"cell-5\" style=\"text-align:right;\">4,279</td></tr>\n",
       "<tr><td class=\"cell-1\" style=\"\">/www.nationalgeographic.com/%</td> <td class=\"cell-2\" style=\"text-align:right;\">6,829</td> <td class=\"cell-3\" style=\"text-align:right;\">87</td> <td class=\"cell-4\" style=\"text-align:right;\">1,122,134</td> <td class=\"cell-5\" style=\"text-align:right;\">72,694</td></tr>\n",
       "<tr><td class=\"cell-1\" style=\"\">/kids.nationalgeographic.com/explore/history/first-thanksgiving/%</td> <td class=\"cell-2\" style=\"text-align:right;\">5,498</td> <td class=\"cell-3\" style=\"text-align:right;\">29</td> <td class=\"cell-4\" style=\"text-align:right;\">326,279</td> <td class=\"cell-5\" style=\"text-align:right;\">3,233</td></tr>\n",
       "<tr><td class=\"cell-1\" style=\"\">/news.nationalgeographic.com/2017/07/dogs-breeds-pets-wolves-evolution/%</td> <td class=\"cell-2\" style=\"text-align:right;\">5,367</td> <td class=\"cell-3\" style=\"text-align:right;\">68</td> <td class=\"cell-4\" style=\"text-align:right;\">854,577</td> <td class=\"cell-5\" style=\"text-align:right;\">3,475</td></tr>\n",
       "    \n",
       "    <tr><td class=\"cell-1\" style=\"\">/kids.nationalgeographic.com/%</td> <td class=\"cell-2\" style=\"text-align:right;\">5,247</td> <td class=\"cell-3\" style=\"text-align:right;\">42</td> <td class=\"cell-4\" style=\"text-align:right;\">523,514</td> <td class=\"cell-5\" style=\"text-align:right;\">26,711</td></tr>\n",
       "<tr><td class=\"cell-1\" style=\"\">/kids.nationalgeographic.com/animals/%</td> <td class=\"cell-2\" style=\"text-align:right;\">4,959</td> <td class=\"cell-3\" style=\"text-align:right;\">35</td> <td class=\"cell-4\" style=\"text-align:right;\">344,703</td> <td class=\"cell-5\" style=\"text-align:right;\">6,668</td></tr>\n",
       "<tr><td class=\"cell-1\" style=\"\">/kids.nationalgeographic.com/games/%</td> <td class=\"cell-2\" style=\"text-align:right;\">4,783</td> <td class=\"cell-3\" style=\"text-align:right;\">41</td> <td class=\"cell-4\" style=\"text-align:right;\">648,579</td> <td class=\"cell-5\" style=\"text-align:right;\">4,361</td></tr>\n",
       "<tr><td class=\"cell-1\" style=\"\">/members.nationalgeographic.com/inbox/%</td> <td class=\"cell-2\" style=\"text-align:right;\">4,462</td> <td class=\"cell-3\" style=\"text-align:right;\">85</td> <td class=\"cell-4\" style=\"text-align:right;\">34,262</td> <td class=\"cell-5\" style=\"text-align:right;\">4,893</td></tr>\n",
       "<tr><td class=\"cell-1\" style=\"\">/kids.nationalgeographic.com/search-results/%</td> <td class=\"cell-2\" style=\"text-align:right;\">3,340</td> <td class=\"cell-3\" style=\"text-align:right;\">108</td> <td class=\"cell-4\" style=\"text-align:right;\">812,582</td> <td class=\"cell-5\" style=\"text-align:right;\">539</td></tr>\n",
       "    </tbody>\n"
      ],
      "text/plain": [
       "HTML{UTF8String}(\"    <table  class=\\\"dataframe-table\\\">\\n    <thead><tr><th class=\\\"cell-1\\\" style=\\\"\\\">Recent Urls (Sorted By Time Descending; Min Samples  10 ; Top  10  Page Views)</th> <th class=\\\"cell-2\\\" style=\\\"\\\">Time</th> <th class=\\\"cell-3\\\" style=\\\"\\\">Request Made</th> <th class=\\\"cell-4\\\" style=\\\"\\\">Page Size</th> <th class=\\\"cell-5\\\" style=\\\"\\\">Samples</th></tr></thead>\\n    <tbody>\\n    <tr><td class=\\\"cell-1\\\" style=\\\"\\\">/www.nationalgeographic.com/magazine/2017/09/explore-health-rorschach-psychology-test/%</td> <td class=\\\"cell-2\\\" style=\\\"text-align:right;\\\">7,756</td> <td class=\\\"cell-3\\\" style=\\\"text-align:right;\\\">70</td> <td class=\\\"cell-4\\\" style=\\\"text-align:right;\\\">831,948</td> <td class=\\\"cell-5\\\" style=\\\"text-align:right;\\\">3,230</td></tr>\\n<tr><td class=\\\"cell-1\\\" style=\\\"\\\">/news.nationalgeographic.com/2017/08/yeti-abominable-snowman-bear-daniel-taylor/%</td> <td class=\\\"cell-2\\\" style=\\\"text-align:right;\\\">7,498</td> <td class=\\\"cell-3\\\" style=\\\"text-align:right;\\\">72</td> <td class=\\\"cell-4\\\" style=\\\"text-align:right;\\\">893,272</td> <td class=\\\"cell-5\\\" style=\\\"text-align:right;\\\">4,279</td></tr>\\n<tr><td class=\\\"cell-1\\\" style=\\\"\\\">/www.nationalgeographic.com/%</td> <td class=\\\"cell-2\\\" style=\\\"text-align:right;\\\">6,829</td> <td class=\\\"cell-3\\\" style=\\\"text-align:right;\\\">87</td> <td class=\\\"cell-4\\\" style=\\\"text-align:right;\\\">1,122,134</td> <td class=\\\"cell-5\\\" style=\\\"text-align:right;\\\">72,694</td></tr>\\n<tr><td class=\\\"cell-1\\\" style=\\\"\\\">/kids.nationalgeographic.com/explore/history/first-thanksgiving/%</td> <td class=\\\"cell-2\\\" style=\\\"text-align:right;\\\">5,498</td> <td class=\\\"cell-3\\\" style=\\\"text-align:right;\\\">29</td> <td class=\\\"cell-4\\\" style=\\\"text-align:right;\\\">326,279</td> <td class=\\\"cell-5\\\" style=\\\"text-align:right;\\\">3,233</td></tr>\\n<tr><td class=\\\"cell-1\\\" style=\\\"\\\">/news.nationalgeographic.com/2017/07/dogs-breeds-pets-wolves-evolution/%</td> <td class=\\\"cell-2\\\" style=\\\"text-align:right;\\\">5,367</td> <td class=\\\"cell-3\\\" style=\\\"text-align:right;\\\">68</td> <td class=\\\"cell-4\\\" style=\\\"text-align:right;\\\">854,577</td> <td class=\\\"cell-5\\\" style=\\\"text-align:right;\\\">3,475</td></tr>\\n    \\n    <tr><td class=\\\"cell-1\\\" style=\\\"\\\">/kids.nationalgeographic.com/%</td> <td class=\\\"cell-2\\\" style=\\\"text-align:right;\\\">5,247</td> <td class=\\\"cell-3\\\" style=\\\"text-align:right;\\\">42</td> <td class=\\\"cell-4\\\" style=\\\"text-align:right;\\\">523,514</td> <td class=\\\"cell-5\\\" style=\\\"text-align:right;\\\">26,711</td></tr>\\n<tr><td class=\\\"cell-1\\\" style=\\\"\\\">/kids.nationalgeographic.com/animals/%</td> <td class=\\\"cell-2\\\" style=\\\"text-align:right;\\\">4,959</td> <td class=\\\"cell-3\\\" style=\\\"text-align:right;\\\">35</td> <td class=\\\"cell-4\\\" style=\\\"text-align:right;\\\">344,703</td> <td class=\\\"cell-5\\\" style=\\\"text-align:right;\\\">6,668</td></tr>\\n<tr><td class=\\\"cell-1\\\" style=\\\"\\\">/kids.nationalgeographic.com/games/%</td> <td class=\\\"cell-2\\\" style=\\\"text-align:right;\\\">4,783</td> <td class=\\\"cell-3\\\" style=\\\"text-align:right;\\\">41</td> <td class=\\\"cell-4\\\" style=\\\"text-align:right;\\\">648,579</td> <td class=\\\"cell-5\\\" style=\\\"text-align:right;\\\">4,361</td></tr>\\n<tr><td class=\\\"cell-1\\\" style=\\\"\\\">/members.nationalgeographic.com/inbox/%</td> <td class=\\\"cell-2\\\" style=\\\"text-align:right;\\\">4,462</td> <td class=\\\"cell-3\\\" style=\\\"text-align:right;\\\">85</td> <td class=\\\"cell-4\\\" style=\\\"text-align:right;\\\">34,262</td> <td class=\\\"cell-5\\\" style=\\\"text-align:right;\\\">4,893</td></tr>\\n<tr><td class=\\\"cell-1\\\" style=\\\"\\\">/kids.nationalgeographic.com/search-results/%</td> <td class=\\\"cell-2\\\" style=\\\"text-align:right;\\\">3,340</td> <td class=\\\"cell-3\\\" style=\\\"text-align:right;\\\">108</td> <td class=\\\"cell-4\\\" style=\\\"text-align:right;\\\">812,582</td> <td class=\\\"cell-5\\\" style=\\\"text-align:right;\\\">539</td></tr>\\n    </tbody>\\n\")"
      ]
     },
     "metadata": {},
     "output_type": "display_data"
    }
   ],
   "source": [
    "individualStreamlineWorkflow(TV,UP,SP)\n",
    ";"
   ]
  },
  {
   "cell_type": "code",
   "execution_count": null,
   "metadata": {
    "collapsed": true,
    "input_collapsed": false
   },
   "outputs": [],
   "source": []
  }
 ],
 "metadata": {
  "chart_version": "1.0.0",
  "kernelspec": {
   "display_name": "Julia 0.4.7",
   "language": "julia",
   "name": "julia-0.4"
  },
  "language_info": {
   "file_extension": ".jl",
   "mimetype": "application/julia",
   "name": "julia",
   "version": "0.4.7"
  },
  "library_version": "1.0.0",
  "notebook_uuid": "24434b3a-263c-478d-bdfb-10f542912df5",
  "readOnly": false
 },
 "nbformat": 4,
 "nbformat_minor": 0
}
