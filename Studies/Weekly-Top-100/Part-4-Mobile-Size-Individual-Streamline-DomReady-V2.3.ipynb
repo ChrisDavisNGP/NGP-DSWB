{
 "cells": [
  {
   "cell_type": "markdown",
   "metadata": {},
   "source": [
    "## Tables and Data Source setup"
   ]
  },
  {
   "cell_type": "code",
   "execution_count": 1,
   "metadata": {
    "collapsed": false,
    "input_collapsed": false,
    "scrolled": true
   },
   "outputs": [
    {
     "name": "stdout",
     "output_type": "stream",
     "text": [
      "Redshift endpoint set: 2017-11-21T21:11:25\n"
     ]
    }
   ],
   "source": [
    "using ODBC\n",
    "using DataFrames\n",
    "using DSWB\n",
    "using Formatting\n",
    "using URIParser\n",
    "using JSON\n",
    "\n",
    "dsn = \"dswb-natgeo\" # Redshift esetTable(tableRt, tableType = \"RESOURCE_TABLE\")ndpoint\n",
    "table = \"beacons_4744\" # beacon table name\n",
    "tableRt = \"beacons_4744_rt\"\n",
    "\n",
    "# Connect to Beacon Data\n",
    "setRedshiftEndpoint(dsn)\n",
    "setTable(table)\n",
    "setTable(tableRt, tableType = \"RESOURCE_TABLE\")\n",
    ";"
   ]
  },
  {
   "cell_type": "code",
   "execution_count": 2,
   "metadata": {
    "collapsed": false,
    "input_collapsed": false
   },
   "outputs": [],
   "source": [
    "# Time & Structures First\n",
    "include(\"../../Lib/Include-Package-v2.1.jl\")\n",
    ";"
   ]
  },
  {
   "cell_type": "code",
   "execution_count": 3,
   "metadata": {
    "collapsed": false,
    "input_collapsed": false
   },
   "outputs": [
    {
     "name": "stdout",
     "output_type": "stream",
     "text": [
      "November 20, 2017 06:59:00 to November 20, 2017 16:59:00 Local Time\n",
      "November 20, 2017 11:59:00 to November 20, 2017 21:59:00 UTC Time\n"
     ]
    }
   ],
   "source": [
    "#TV = timeVariables(2017,5,9,16,0,2017,5,9,16,59)\n",
    "#TV = weeklyTimeVariables(days=7)\n",
    "TV = yesterdayTimeVariables()\n",
    ";"
   ]
  },
  {
   "cell_type": "code",
   "execution_count": 4,
   "metadata": {
    "collapsed": false,
    "input_collapsed": false
   },
   "outputs": [],
   "source": [
    "# This is the Mobile Only, Size based report\n",
    "\n",
    "UP = UrlParamsInit()\n",
    "UP.agentOs = \"%\"\n",
    "UP.beaconTable = table\n",
    "UP.btView = \"$(table)_spike_pview_prod\" #localtable\n",
    "UP.deviceType = \"mobile\"\n",
    "UP.limitRows = 10\n",
    "#UP.limitRows = 250\n",
    "UP.orderBy = \"size\"\n",
    "UP.pageGroup = \"%\"   #productPageGroup\n",
    "UP.resourceTable = tableRt\n",
    "UP.rtView = \"$(tableRt)_spike_pview_prod\" #localtableRt\n",
    "UP.samplesMin = 10\n",
    "UP.sizeMin = 10000\n",
    "UP.timeLowerMs = 2000.0\n",
    "UP.timeUpperMs = 60000.0\n",
    "UP.urlRegEx = \"%\"   #localUrl\n",
    "UP.urlFull = \"%\"\n",
    "UP.usePageLoad=false\n",
    "\n",
    "SP = ShowParamsInit()\n",
    "SP.desktop=false\n",
    "SP.mobile=true\n",
    "SP.devView=false\n",
    "SP.criticalPathOnly=true\n",
    "SP.debug=false\n",
    "SP.debugLevel = 0   # Tests use even numbers with > tests, make this an odd number or zero\n",
    "\n",
    "type LocalVars\n",
    "    useJson::Bool\n",
    "end\n",
    "\n",
    "LV = LocalVars(false) #useJSon = false\n",
    ";"
   ]
  },
  {
   "cell_type": "code",
   "execution_count": 6,
   "metadata": {
    "collapsed": false,
    "input_collapsed": false,
    "scrolled": false
   },
   "outputs": [
    {
     "data": {
      "text/html": [
       "    <table  class=\"dataframe-table\">\n",
       "    <thead><tr><th class=\"cell-1\" style=\"\">Recent Urls (Sorted By Size Descending; Min Samples  10 ; Top  10  Page Views)</th> <th class=\"cell-2\" style=\"\">Time</th> <th class=\"cell-3\" style=\"\">Request Made</th> <th class=\"cell-4\" style=\"\">Page Size</th> <th class=\"cell-5\" style=\"\">Samples</th></tr></thead>\n",
       "    <tbody>\n",
       "    <tr><td class=\"cell-1\" style=\"\">/www.nationalgeographic.com/magazine/2017/11/vaccine-health-infection-global-children/%</td> <td class=\"cell-2\" style=\"text-align:right;\">9,370</td> <td class=\"cell-3\" style=\"text-align:right;\">95</td> <td class=\"cell-4\" style=\"text-align:right;\">1,661,970</td> <td class=\"cell-5\" style=\"text-align:right;\">2,251</td></tr>\n",
       "<tr><td class=\"cell-1\" style=\"\">/www.nationalgeographic.com/travel/lists/travel-gear/top-10-compact-cameras-travel/%</td> <td class=\"cell-2\" style=\"text-align:right;\">13,859</td> <td class=\"cell-3\" style=\"text-align:right;\">91</td> <td class=\"cell-4\" style=\"text-align:right;\">1,536,469</td> <td class=\"cell-5\" style=\"text-align:right;\">3,496</td></tr>\n",
       "<tr><td class=\"cell-1\" style=\"\">/www.nationalgeographic.com/magazine/2012/04/titanic-shipwreck-revealed-complete-mosaic-images/%</td> <td class=\"cell-2\" style=\"text-align:right;\">17,485</td> <td class=\"cell-3\" style=\"text-align:right;\">91</td> <td class=\"cell-4\" style=\"text-align:right;\">1,105,632</td> <td class=\"cell-5\" style=\"text-align:right;\">2,550</td></tr>\n",
       "<tr><td class=\"cell-1\" style=\"\">/www.nationalgeographic.com/%</td> <td class=\"cell-2\" style=\"text-align:right;\">14,263</td> <td class=\"cell-3\" style=\"text-align:right;\">90</td> <td class=\"cell-4\" style=\"text-align:right;\">1,027,266</td> <td class=\"cell-5\" style=\"text-align:right;\">47,805</td></tr>\n",
       "    \n",
       "    <tr><td class=\"cell-1\" style=\"\">/news.nationalgeographic.com/2015/09/150909-queen-elizabeth-monarchy-record-pictures-photos-england/%</td> <td class=\"cell-2\" style=\"text-align:right;\">15,958</td> <td class=\"cell-3\" style=\"text-align:right;\">87</td> <td class=\"cell-4\" style=\"text-align:right;\">1,016,910</td> <td class=\"cell-5\" style=\"text-align:right;\">3,298</td></tr>\n",
       "<tr><td class=\"cell-1\" style=\"\">/news.nationalgeographic.com/2017/08/yeti-abominable-snowman-bear-daniel-taylor/%</td> <td class=\"cell-2\" style=\"text-align:right;\">15,802</td> <td class=\"cell-3\" style=\"text-align:right;\">86</td> <td class=\"cell-4\" style=\"text-align:right;\">1,006,098</td> <td class=\"cell-5\" style=\"text-align:right;\">22,705</td></tr>\n",
       "<tr><td class=\"cell-1\" style=\"\">/www.nationalgeographic.com/magazine/2017/09/explore-health-rorschach-psychology-test/%</td> <td class=\"cell-2\" style=\"text-align:right;\">17,611</td> <td class=\"cell-3\" style=\"text-align:right;\">86</td> <td class=\"cell-4\" style=\"text-align:right;\">981,504</td> <td class=\"cell-5\" style=\"text-align:right;\">12,839</td></tr>\n",
       "<tr><td class=\"cell-1\" style=\"\">/news.nationalgeographic.com/2017/07/dogs-breeds-pets-wolves-evolution/%</td> <td class=\"cell-2\" style=\"text-align:right;\">11,883</td> <td class=\"cell-3\" style=\"text-align:right;\">84</td> <td class=\"cell-4\" style=\"text-align:right;\">955,455</td> <td class=\"cell-5\" style=\"text-align:right;\">10,029</td></tr>\n",
       "    </tbody>\n"
      ],
      "text/plain": [
       "HTML{UTF8String}(\"    <table  class=\\\"dataframe-table\\\">\\n    <thead><tr><th class=\\\"cell-1\\\" style=\\\"\\\">Recent Urls (Sorted By Size Descending; Min Samples  10 ; Top  10  Page Views)</th> <th class=\\\"cell-2\\\" style=\\\"\\\">Time</th> <th class=\\\"cell-3\\\" style=\\\"\\\">Request Made</th> <th class=\\\"cell-4\\\" style=\\\"\\\">Page Size</th> <th class=\\\"cell-5\\\" style=\\\"\\\">Samples</th></tr></thead>\\n    <tbody>\\n    <tr><td class=\\\"cell-1\\\" style=\\\"\\\">/www.nationalgeographic.com/magazine/2017/11/vaccine-health-infection-global-children/%</td> <td class=\\\"cell-2\\\" style=\\\"text-align:right;\\\">9,370</td> <td class=\\\"cell-3\\\" style=\\\"text-align:right;\\\">95</td> <td class=\\\"cell-4\\\" style=\\\"text-align:right;\\\">1,661,970</td> <td class=\\\"cell-5\\\" style=\\\"text-align:right;\\\">2,251</td></tr>\\n<tr><td class=\\\"cell-1\\\" style=\\\"\\\">/www.nationalgeographic.com/travel/lists/travel-gear/top-10-compact-cameras-travel/%</td> <td class=\\\"cell-2\\\" style=\\\"text-align:right;\\\">13,859</td> <td class=\\\"cell-3\\\" style=\\\"text-align:right;\\\">91</td> <td class=\\\"cell-4\\\" style=\\\"text-align:right;\\\">1,536,469</td> <td class=\\\"cell-5\\\" style=\\\"text-align:right;\\\">3,496</td></tr>\\n<tr><td class=\\\"cell-1\\\" style=\\\"\\\">/www.nationalgeographic.com/magazine/2012/04/titanic-shipwreck-revealed-complete-mosaic-images/%</td> <td class=\\\"cell-2\\\" style=\\\"text-align:right;\\\">17,485</td> <td class=\\\"cell-3\\\" style=\\\"text-align:right;\\\">91</td> <td class=\\\"cell-4\\\" style=\\\"text-align:right;\\\">1,105,632</td> <td class=\\\"cell-5\\\" style=\\\"text-align:right;\\\">2,550</td></tr>\\n<tr><td class=\\\"cell-1\\\" style=\\\"\\\">/www.nationalgeographic.com/%</td> <td class=\\\"cell-2\\\" style=\\\"text-align:right;\\\">14,263</td> <td class=\\\"cell-3\\\" style=\\\"text-align:right;\\\">90</td> <td class=\\\"cell-4\\\" style=\\\"text-align:right;\\\">1,027,266</td> <td class=\\\"cell-5\\\" style=\\\"text-align:right;\\\">47,805</td></tr>\\n    \\n    <tr><td class=\\\"cell-1\\\" style=\\\"\\\">/news.nationalgeographic.com/2015/09/150909-queen-elizabeth-monarchy-record-pictures-photos-england/%</td> <td class=\\\"cell-2\\\" style=\\\"text-align:right;\\\">15,958</td> <td class=\\\"cell-3\\\" style=\\\"text-align:right;\\\">87</td> <td class=\\\"cell-4\\\" style=\\\"text-align:right;\\\">1,016,910</td> <td class=\\\"cell-5\\\" style=\\\"text-align:right;\\\">3,298</td></tr>\\n<tr><td class=\\\"cell-1\\\" style=\\\"\\\">/news.nationalgeographic.com/2017/08/yeti-abominable-snowman-bear-daniel-taylor/%</td> <td class=\\\"cell-2\\\" style=\\\"text-align:right;\\\">15,802</td> <td class=\\\"cell-3\\\" style=\\\"text-align:right;\\\">86</td> <td class=\\\"cell-4\\\" style=\\\"text-align:right;\\\">1,006,098</td> <td class=\\\"cell-5\\\" style=\\\"text-align:right;\\\">22,705</td></tr>\\n<tr><td class=\\\"cell-1\\\" style=\\\"\\\">/www.nationalgeographic.com/magazine/2017/09/explore-health-rorschach-psychology-test/%</td> <td class=\\\"cell-2\\\" style=\\\"text-align:right;\\\">17,611</td> <td class=\\\"cell-3\\\" style=\\\"text-align:right;\\\">86</td> <td class=\\\"cell-4\\\" style=\\\"text-align:right;\\\">981,504</td> <td class=\\\"cell-5\\\" style=\\\"text-align:right;\\\">12,839</td></tr>\\n<tr><td class=\\\"cell-1\\\" style=\\\"\\\">/news.nationalgeographic.com/2017/07/dogs-breeds-pets-wolves-evolution/%</td> <td class=\\\"cell-2\\\" style=\\\"text-align:right;\\\">11,883</td> <td class=\\\"cell-3\\\" style=\\\"text-align:right;\\\">84</td> <td class=\\\"cell-4\\\" style=\\\"text-align:right;\\\">955,455</td> <td class=\\\"cell-5\\\" style=\\\"text-align:right;\\\">10,029</td></tr>\\n    </tbody>\\n\")"
      ]
     },
     "metadata": {},
     "output_type": "display_data"
    }
   ],
   "source": [
    "individualStreamlineWorkFlow(TV,UP,SP)\n",
    ";"
   ]
  },
  {
   "cell_type": "code",
   "execution_count": null,
   "metadata": {
    "collapsed": true,
    "input_collapsed": false
   },
   "outputs": [],
   "source": []
  }
 ],
 "metadata": {
  "chart_version": "1.0.0",
  "kernelspec": {
   "display_name": "Julia 0.4.7",
   "language": "julia",
   "name": "julia-0.4"
  },
  "language_info": {
   "file_extension": ".jl",
   "mimetype": "application/julia",
   "name": "julia",
   "version": "0.4.7"
  },
  "library_version": "1.0.0",
  "notebook_uuid": "f28bdc15-63b0-4d47-b4e1-3b8ff1a6ca16",
  "readOnly": false
 },
 "nbformat": 4,
 "nbformat_minor": 0
}
