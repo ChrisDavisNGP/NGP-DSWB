{
 "cells": [
  {
   "cell_type": "markdown",
   "metadata": {},
   "source": [
    "## Tables and Data Source setup"
   ]
  },
  {
   "cell_type": "code",
   "execution_count": 1,
   "metadata": {
    "collapsed": false,
    "input_collapsed": false,
    "scrolled": true
   },
   "outputs": [
    {
     "name": "stdout",
     "output_type": "stream",
     "text": [
      "Redshift endpoint set: 2017-11-21T21:04:07\n"
     ]
    }
   ],
   "source": [
    "using ODBC\n",
    "using DataFrames\n",
    "using DSWB\n",
    "using Formatting\n",
    "using URIParser\n",
    "using JSON\n",
    "\n",
    "dsn = \"dswb-natgeo\" # Redshift esetTable(tableRt, tableType = \"RESOURCE_TABLE\")ndpoint\n",
    "table = \"beacons_4744\" # beacon table name\n",
    "tableRt = \"beacons_4744_rt\"\n",
    "\n",
    "# Connect to Beacon Data\n",
    "setRedshiftEndpoint(dsn)\n",
    "setTable(table)\n",
    "setTable(tableRt, tableType = \"RESOURCE_TABLE\")\n",
    ";"
   ]
  },
  {
   "cell_type": "code",
   "execution_count": 2,
   "metadata": {
    "collapsed": false,
    "input_collapsed": false
   },
   "outputs": [],
   "source": [
    "# Time & Structures First\n",
    "include(\"../../Lib/Include-Package-v2.1.jl\")\n",
    ";"
   ]
  },
  {
   "cell_type": "code",
   "execution_count": 3,
   "metadata": {
    "collapsed": false,
    "input_collapsed": false
   },
   "outputs": [
    {
     "name": "stdout",
     "output_type": "stream",
     "text": [
      "November 20, 2017 06:59:00 to November 20, 2017 16:59:00 Local Time\n",
      "November 20, 2017 11:59:00 to November 20, 2017 21:59:00 UTC Time\n"
     ]
    }
   ],
   "source": [
    "#TV = timeVariables(2017,5,9,16,0,2017,5,9,16,59)\n",
    "#TV = weeklyTimeVariables(days=7)\n",
    "TV = yesterdayTimeVariables()\n",
    ";"
   ]
  },
  {
   "cell_type": "code",
   "execution_count": 4,
   "metadata": {
    "collapsed": false,
    "input_collapsed": false
   },
   "outputs": [],
   "source": [
    "# This is the iOS Mobile Only, Time Based report\n",
    "\n",
    "UP = UrlParamsInit()\n",
    "UP.agentOs = \"iOS\"\n",
    "UP.beaconTable = table\n",
    "UP.btView = \"$(table)_spike_pview_prod\" #localtable\n",
    "UP.deviceType = \"mobile\"\n",
    "UP.limitRows = 10\n",
    "#UP.limitRows = 250\n",
    "UP.orderBy = \"time\"\n",
    "UP.pageGroup = \"News Article\"   #productPageGroup\n",
    "UP.resourceTable = tableRt\n",
    "UP.rtView = \"$(tableRt)_spike_pview_prod\" #localtableRt\n",
    "UP.samplesMin = 10\n",
    "UP.sizeMin = 10000\n",
    "UP.timeLowerMs = 2000.0\n",
    "UP.timeUpperMs = 60000.0\n",
    "UP.urlRegEx = \"%\"   #localUrl\n",
    "UP.urlFull = \"%\"\n",
    "UP.usePageLoad=false\n",
    "\n",
    "SP = ShowParamsInit()\n",
    "SP.desktop=false\n",
    "SP.mobile=true\n",
    "SP.devView=false\n",
    "SP.criticalPathOnly=true\n",
    "SP.debug=false\n",
    "SP.debugLevel = 0   # Tests use even numbers with > tests, make this an odd number or zero\n",
    "\n",
    "SG = SoastaGraphsInit()\n",
    "customer = \"Nat Geo\" \n",
    "SG.customer = customer\n",
    "\n",
    "type LocalVars\n",
    "    useJson::Bool\n",
    "end\n",
    "\n",
    "LV = LocalVars(false) #useJSon = false\n",
    ";"
   ]
  },
  {
   "cell_type": "code",
   "execution_count": 5,
   "metadata": {
    "collapsed": false,
    "input_collapsed": false
   },
   "outputs": [],
   "source": [
    "urlListDF = returnMatchingUrlTableV2(TV,UP)\n",
    "if (SP.debugLevel > 4)\n",
    "    beautifyDF(urlListDF[1:min(10,end),:])\n",
    "end\n",
    ";"
   ]
  },
  {
   "cell_type": "code",
   "execution_count": 6,
   "metadata": {
    "collapsed": false,
    "input_collapsed": false
   },
   "outputs": [],
   "source": [
    "newListDF = urlListDF[Bool[x > UP.samplesMin for x in urlListDF[:cnt]],:]\n",
    "topUrlList = newListDF[:urlgroup]\n",
    "topUrls = cleanupTopUrlTable(topUrlList)\n",
    "if (SP.debugLevel > 8)\n",
    "    println(topUrls)\n",
    "end\n",
    ";"
   ]
  },
  {
   "cell_type": "code",
   "execution_count": 7,
   "metadata": {
    "collapsed": false,
    "input_collapsed": false,
    "scrolled": false
   },
   "outputs": [
    {
     "data": {
      "text/html": [
       "    <table  class=\"dataframe-table\">\n",
       "    <thead><tr><th class=\"cell-1\" style=\"\">Recent Urls (Sorted By Time Descending; Min Samples  10 ; Top  10  Page Views)</th> <th class=\"cell-2\" style=\"\">Time</th> <th class=\"cell-3\" style=\"\">Request Made</th> <th class=\"cell-4\" style=\"\">Page Size</th> <th class=\"cell-5\" style=\"\">Samples</th></tr></thead>\n",
       "    <tbody>\n",
       "    <tr><td class=\"cell-1\" style=\"\">/news.nationalgeographic.com/2017/11/ancient-fossil-forest-found-antarctica-gondwana-spd/%</td> <td class=\"cell-2\" style=\"text-align:right;\">9,530</td> <td class=\"cell-3\" style=\"text-align:right;\">96</td> <td class=\"cell-4\" style=\"text-align:right;\">0</td> <td class=\"cell-5\" style=\"text-align:right;\">282</td></tr>\n",
       "<tr><td class=\"cell-1\" style=\"\">/news.nationalgeographic.com/2017/08/yeti-abominable-snowman-bear-daniel-taylor/%</td> <td class=\"cell-2\" style=\"text-align:right;\">9,284</td> <td class=\"cell-3\" style=\"text-align:right;\">78</td> <td class=\"cell-4\" style=\"text-align:right;\">0</td> <td class=\"cell-5\" style=\"text-align:right;\">9,356</td></tr>\n",
       "<tr><td class=\"cell-1\" style=\"\">/news.nationalgeographic.com/2015/09/150909-queen-elizabeth-monarchy-record-pictures-photos-england/%</td> <td class=\"cell-2\" style=\"text-align:right;\">9,250</td> <td class=\"cell-3\" style=\"text-align:right;\">81</td> <td class=\"cell-4\" style=\"text-align:right;\">0</td> <td class=\"cell-5\" style=\"text-align:right;\">1,356</td></tr>\n",
       "<tr><td class=\"cell-1\" style=\"\">/news.nationalgeographic.com/2017/11/turkeys-holidays-animals-thanksgiving-nation/%</td> <td class=\"cell-2\" style=\"text-align:right;\">9,132</td> <td class=\"cell-3\" style=\"text-align:right;\">79</td> <td class=\"cell-4\" style=\"text-align:right;\">0</td> <td class=\"cell-5\" style=\"text-align:right;\">286</td></tr>\n",
       "<tr><td class=\"cell-1\" style=\"\">/news.nationalgeographic.com/2017/08/cardinal-feeding-goldfish-instincts-parents/%</td> <td class=\"cell-2\" style=\"text-align:right;\">8,041</td> <td class=\"cell-3\" style=\"text-align:right;\">62</td> <td class=\"cell-4\" style=\"text-align:right;\">0</td> <td class=\"cell-5\" style=\"text-align:right;\">163</td></tr>\n",
       "    \n",
       "    <tr><td class=\"cell-1\" style=\"\">/news.nationalgeographic.com/2017/11/climate-change-sea-level-water-will-come-jeff-goodell/%</td> <td class=\"cell-2\" style=\"text-align:right;\">7,644</td> <td class=\"cell-3\" style=\"text-align:right;\">79</td> <td class=\"cell-4\" style=\"text-align:right;\">0</td> <td class=\"cell-5\" style=\"text-align:right;\">168</td></tr>\n",
       "<tr><td class=\"cell-1\" style=\"\">/news.nationalgeographic.com/2017/11/wildlife-watch-trump-trophy-hunting-ban-tweet-elephants0/%</td> <td class=\"cell-2\" style=\"text-align:right;\">7,470</td> <td class=\"cell-3\" style=\"text-align:right;\">84</td> <td class=\"cell-4\" style=\"text-align:right;\">0</td> <td class=\"cell-5\" style=\"text-align:right;\">236</td></tr>\n",
       "<tr><td class=\"cell-1\" style=\"\">/news.nationalgeographic.com/2017/07/dogs-breeds-pets-wolves-evolution/%</td> <td class=\"cell-2\" style=\"text-align:right;\">7,229</td> <td class=\"cell-3\" style=\"text-align:right;\">83</td> <td class=\"cell-4\" style=\"text-align:right;\">0</td> <td class=\"cell-5\" style=\"text-align:right;\">2,135</td></tr>\n",
       "<tr><td class=\"cell-1\" style=\"\">/news.nationalgeographic.com/2017/11/mega-projects-fail-infrastructure-energy-dams-nuclear/%</td> <td class=\"cell-2\" style=\"text-align:right;\">7,168</td> <td class=\"cell-3\" style=\"text-align:right;\">76</td> <td class=\"cell-4\" style=\"text-align:right;\">0</td> <td class=\"cell-5\" style=\"text-align:right;\">564</td></tr>\n",
       "<tr><td class=\"cell-1\" style=\"\">/news.nationalgeographic.com/2017/11/greek-sealstone-gemstone-combat-griffin-warrior-tomb-spd/%</td> <td class=\"cell-2\" style=\"text-align:right;\">6,544</td> <td class=\"cell-3\" style=\"text-align:right;\">79</td> <td class=\"cell-4\" style=\"text-align:right;\">0</td> <td class=\"cell-5\" style=\"text-align:right;\">171</td></tr>\n",
       "    </tbody>\n"
      ],
      "text/plain": [
       "HTML{UTF8String}(\"    <table  class=\\\"dataframe-table\\\">\\n    <thead><tr><th class=\\\"cell-1\\\" style=\\\"\\\">Recent Urls (Sorted By Time Descending; Min Samples  10 ; Top  10  Page Views)</th> <th class=\\\"cell-2\\\" style=\\\"\\\">Time</th> <th class=\\\"cell-3\\\" style=\\\"\\\">Request Made</th> <th class=\\\"cell-4\\\" style=\\\"\\\">Page Size</th> <th class=\\\"cell-5\\\" style=\\\"\\\">Samples</th></tr></thead>\\n    <tbody>\\n    <tr><td class=\\\"cell-1\\\" style=\\\"\\\">/news.nationalgeographic.com/2017/11/ancient-fossil-forest-found-antarctica-gondwana-spd/%</td> <td class=\\\"cell-2\\\" style=\\\"text-align:right;\\\">9,530</td> <td class=\\\"cell-3\\\" style=\\\"text-align:right;\\\">96</td> <td class=\\\"cell-4\\\" style=\\\"text-align:right;\\\">0</td> <td class=\\\"cell-5\\\" style=\\\"text-align:right;\\\">282</td></tr>\\n<tr><td class=\\\"cell-1\\\" style=\\\"\\\">/news.nationalgeographic.com/2017/08/yeti-abominable-snowman-bear-daniel-taylor/%</td> <td class=\\\"cell-2\\\" style=\\\"text-align:right;\\\">9,284</td> <td class=\\\"cell-3\\\" style=\\\"text-align:right;\\\">78</td> <td class=\\\"cell-4\\\" style=\\\"text-align:right;\\\">0</td> <td class=\\\"cell-5\\\" style=\\\"text-align:right;\\\">9,356</td></tr>\\n<tr><td class=\\\"cell-1\\\" style=\\\"\\\">/news.nationalgeographic.com/2015/09/150909-queen-elizabeth-monarchy-record-pictures-photos-england/%</td> <td class=\\\"cell-2\\\" style=\\\"text-align:right;\\\">9,250</td> <td class=\\\"cell-3\\\" style=\\\"text-align:right;\\\">81</td> <td class=\\\"cell-4\\\" style=\\\"text-align:right;\\\">0</td> <td class=\\\"cell-5\\\" style=\\\"text-align:right;\\\">1,356</td></tr>\\n<tr><td class=\\\"cell-1\\\" style=\\\"\\\">/news.nationalgeographic.com/2017/11/turkeys-holidays-animals-thanksgiving-nation/%</td> <td class=\\\"cell-2\\\" style=\\\"text-align:right;\\\">9,132</td> <td class=\\\"cell-3\\\" style=\\\"text-align:right;\\\">79</td> <td class=\\\"cell-4\\\" style=\\\"text-align:right;\\\">0</td> <td class=\\\"cell-5\\\" style=\\\"text-align:right;\\\">286</td></tr>\\n<tr><td class=\\\"cell-1\\\" style=\\\"\\\">/news.nationalgeographic.com/2017/08/cardinal-feeding-goldfish-instincts-parents/%</td> <td class=\\\"cell-2\\\" style=\\\"text-align:right;\\\">8,041</td> <td class=\\\"cell-3\\\" style=\\\"text-align:right;\\\">62</td> <td class=\\\"cell-4\\\" style=\\\"text-align:right;\\\">0</td> <td class=\\\"cell-5\\\" style=\\\"text-align:right;\\\">163</td></tr>\\n    \\n    <tr><td class=\\\"cell-1\\\" style=\\\"\\\">/news.nationalgeographic.com/2017/11/climate-change-sea-level-water-will-come-jeff-goodell/%</td> <td class=\\\"cell-2\\\" style=\\\"text-align:right;\\\">7,644</td> <td class=\\\"cell-3\\\" style=\\\"text-align:right;\\\">79</td> <td class=\\\"cell-4\\\" style=\\\"text-align:right;\\\">0</td> <td class=\\\"cell-5\\\" style=\\\"text-align:right;\\\">168</td></tr>\\n<tr><td class=\\\"cell-1\\\" style=\\\"\\\">/news.nationalgeographic.com/2017/11/wildlife-watch-trump-trophy-hunting-ban-tweet-elephants0/%</td> <td class=\\\"cell-2\\\" style=\\\"text-align:right;\\\">7,470</td> <td class=\\\"cell-3\\\" style=\\\"text-align:right;\\\">84</td> <td class=\\\"cell-4\\\" style=\\\"text-align:right;\\\">0</td> <td class=\\\"cell-5\\\" style=\\\"text-align:right;\\\">236</td></tr>\\n<tr><td class=\\\"cell-1\\\" style=\\\"\\\">/news.nationalgeographic.com/2017/07/dogs-breeds-pets-wolves-evolution/%</td> <td class=\\\"cell-2\\\" style=\\\"text-align:right;\\\">7,229</td> <td class=\\\"cell-3\\\" style=\\\"text-align:right;\\\">83</td> <td class=\\\"cell-4\\\" style=\\\"text-align:right;\\\">0</td> <td class=\\\"cell-5\\\" style=\\\"text-align:right;\\\">2,135</td></tr>\\n<tr><td class=\\\"cell-1\\\" style=\\\"\\\">/news.nationalgeographic.com/2017/11/mega-projects-fail-infrastructure-energy-dams-nuclear/%</td> <td class=\\\"cell-2\\\" style=\\\"text-align:right;\\\">7,168</td> <td class=\\\"cell-3\\\" style=\\\"text-align:right;\\\">76</td> <td class=\\\"cell-4\\\" style=\\\"text-align:right;\\\">0</td> <td class=\\\"cell-5\\\" style=\\\"text-align:right;\\\">564</td></tr>\\n<tr><td class=\\\"cell-1\\\" style=\\\"\\\">/news.nationalgeographic.com/2017/11/greek-sealstone-gemstone-combat-griffin-warrior-tomb-spd/%</td> <td class=\\\"cell-2\\\" style=\\\"text-align:right;\\\">6,544</td> <td class=\\\"cell-3\\\" style=\\\"text-align:right;\\\">79</td> <td class=\\\"cell-4\\\" style=\\\"text-align:right;\\\">0</td> <td class=\\\"cell-5\\\" style=\\\"text-align:right;\\\">171</td></tr>\\n    </tbody>\\n\")"
      ]
     },
     "metadata": {},
     "output_type": "display_data"
    }
   ],
   "source": [
    "finalUrlTableOutput(TV,UP,SP,topUrls)\n",
    ";"
   ]
  },
  {
   "cell_type": "code",
   "execution_count": null,
   "metadata": {
    "collapsed": true,
    "input_collapsed": true
   },
   "outputs": [],
   "source": []
  }
 ],
 "metadata": {
  "chart_version": "1.0.0",
  "kernelspec": {
   "display_name": "Julia 0.4.7",
   "language": "julia",
   "name": "julia-0.4"
  },
  "language_info": {
   "file_extension": ".jl",
   "mimetype": "application/julia",
   "name": "julia",
   "version": "0.4.7"
  },
  "library_version": "1.0.0",
  "notebook_uuid": "7c1e2593-541b-4924-a6c2-1523c8678f8e",
  "readOnly": false
 },
 "nbformat": 4,
 "nbformat_minor": 0
}
