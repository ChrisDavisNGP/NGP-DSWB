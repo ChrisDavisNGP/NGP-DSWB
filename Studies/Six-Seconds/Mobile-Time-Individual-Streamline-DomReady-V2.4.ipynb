{
 "cells": [
  {
   "cell_type": "markdown",
   "metadata": {},
   "source": [
    "## Tables and Data Source setup"
   ]
  },
  {
   "cell_type": "code",
   "execution_count": 1,
   "metadata": {
    "collapsed": false,
    "input_collapsed": false,
    "scrolled": true
   },
   "outputs": [
    {
     "name": "stdout",
     "output_type": "stream",
     "text": [
      "Redshift endpoint set: 2017-10-10T12:39:27\n"
     ]
    }
   ],
   "source": [
    "using ODBC\n",
    "using DataFrames\n",
    "using DSWB\n",
    "using Formatting\n",
    "using URIParser\n",
    "using JSON\n",
    "\n",
    "dsn = \"dswb-natgeo\" # Redshift esetTable(tableRt, tableType = \"RESOURCE_TABLE\")ndpoint\n",
    "table = \"beacons_4744\" # beacon table name\n",
    "tableRt = \"beacons_4744_rt\"\n",
    "\n",
    "# Connect to Beacon Data\n",
    "setRedshiftEndpoint(dsn)\n",
    "setTable(table)\n",
    "setTable(tableRt, tableType = \"RESOURCE_TABLE\")\n",
    ";"
   ]
  },
  {
   "cell_type": "code",
   "execution_count": 2,
   "metadata": {
    "collapsed": false,
    "input_collapsed": false
   },
   "outputs": [
    {
     "name": "stdout",
     "output_type": "stream",
     "text": [
      "October 9, 2017 06:59:00 to October 9, 2017 16:59:00 Local Time\n",
      "October 9, 2017 10:59:00 to October 9, 2017 20:59:00 UTC Time\n"
     ]
    }
   ],
   "source": [
    "# Packages\n",
    "\n",
    "include(\"/data/notebook_home/Production/Lib/Include-Package-v1.0.jl\")\n",
    "include(\"/data/notebook_home/Production/Bodies/Individual-Streamline-Body-v2.0.jl\")\n",
    "\n",
    "#timeVariables(2017,5,9,16,0,2017,5,9,16,59)\n",
    "#weeklyTimeVariables(days=7)\n",
    "yesterdayTimeVariables()\n",
    ";"
   ]
  },
  {
   "cell_type": "code",
   "execution_count": 3,
   "metadata": {
    "collapsed": false,
    "input_collapsed": false
   },
   "outputs": [],
   "source": [
    "# This is the Mobile Only, Time Based report\n",
    "\n",
    "UP = UrlParamsInit()\n",
    "UP.beaconTable = table\n",
    "UP.resourceTable = tableRt\n",
    "UP.pageGroup = \"%\"\n",
    "UP.urlRegEx = \"%\"\n",
    "UP.urlFull = \"%\"\n",
    "#UP.limitRows = 3\n",
    "UP.limitRows = 25\n",
    "UP.samplesMin = 10\n",
    "UP.sizeMin = 10000\n",
    "UP.usePageLoad=false\n",
    "UP.timeLowerMs = 2000.0\n",
    "UP.timeUpperMs = 60000.0\n",
    "UP.orderBy = \"time\"\n",
    "UP.deviceType = \"mobile\"\n",
    "\n",
    "SP = ShowParamsInit()\n",
    "SP.desktop=false\n",
    "SP.mobile=true\n",
    "SP.devView=false\n",
    "SP.criticalPathOnly=true\n",
    "SP.debug=false\n",
    "SP.debugLevel = 0   # Tests use even numbers with > tests, make this an odd number or zero\n",
    "\n",
    "LV = LocalVars(false) #useJSon = false\n",
    ";"
   ]
  },
  {
   "cell_type": "code",
   "execution_count": 4,
   "metadata": {
    "collapsed": false,
    "input_collapsed": false
   },
   "outputs": [],
   "source": [
    "urlListDF = returnMatchingUrlTableV2(TV,UP)\n",
    "if (SP.debugLevel > 4)\n",
    "    beautifyDF(urlListDF[1:min(3,end),:])\n",
    "end\n",
    "\n",
    "newListDF = urlListDF[Bool[x > UP.samplesMin for x in urlListDF[:cnt]],:]\n",
    "topUrlList = newListDF[:urlgroup]\n",
    "topUrls = cleanupTopUrlTable(topUrlList)\n",
    "if (SP.debugLevel > 8)\n",
    "    println(topUrls)\n",
    "end\n",
    ";"
   ]
  },
  {
   "cell_type": "code",
   "execution_count": 5,
   "metadata": {
    "collapsed": false,
    "input_collapsed": false,
    "scrolled": false
   },
   "outputs": [
    {
     "data": {
      "text/html": [
       "    <table  class=\"dataframe-table\">\n",
       "    <thead><tr><th class=\"cell-1\" style=\"\">Recent Urls (Sorted By Time Descending; Min Samples  10 ; Top  25  Page Views)</th> <th class=\"cell-2\" style=\"\">Time</th> <th class=\"cell-3\" style=\"\">Request Made</th> <th class=\"cell-4\" style=\"\">Page Size</th> <th class=\"cell-5\" style=\"\">Samples</th></tr></thead>\n",
       "    <tbody>\n",
       "    <tr><td class=\"cell-1\" style=\"\">/www.nationalgeographic.com/magazine/2017/09/holland-agriculture-sustainable-farming/%</td> <td class=\"cell-2\" style=\"text-align:right;\">15,542</td> <td class=\"cell-3\" style=\"text-align:right;\">125</td> <td class=\"cell-4\" style=\"text-align:right;\">9,712,768</td> <td class=\"cell-5\" style=\"text-align:right;\">1,042</td></tr>\n",
       "<tr><td class=\"cell-1\" style=\"\">/channel.nationalgeographic.com/original-sin-sex/videos/sex-scandals-in-france/%</td> <td class=\"cell-2\" style=\"text-align:right;\">14,858</td> <td class=\"cell-3\" style=\"text-align:right;\">77</td> <td class=\"cell-4\" style=\"text-align:right;\">199,692</td> <td class=\"cell-5\" style=\"text-align:right;\">749</td></tr>\n",
       "<tr><td class=\"cell-1\" style=\"\">/channel.nationalgeographic.com/original-sin-sex/videos/sex-myths/%</td> <td class=\"cell-2\" style=\"text-align:right;\">14,575</td> <td class=\"cell-3\" style=\"text-align:right;\">77</td> <td class=\"cell-4\" style=\"text-align:right;\">198,234</td> <td class=\"cell-5\" style=\"text-align:right;\">596</td></tr>\n",
       "<tr><td class=\"cell-1\" style=\"\">/news.nationalgeographic.com/2017/10/ancient-ritual-pagan-sardinia-monsters/%</td> <td class=\"cell-2\" style=\"text-align:right;\">14,099</td> <td class=\"cell-3\" style=\"text-align:right;\">93</td> <td class=\"cell-4\" style=\"text-align:right;\">875,019</td> <td class=\"cell-5\" style=\"text-align:right;\">2,358</td></tr>\n",
       "<tr><td class=\"cell-1\" style=\"\">/www.nationalgeographic.com/travel/destinations/asia/lebanon/qadisha-valley-mountain-hermit-dario-escobar/%</td> <td class=\"cell-2\" style=\"text-align:right;\">13,018</td> <td class=\"cell-3\" style=\"text-align:right;\">89</td> <td class=\"cell-4\" style=\"text-align:right;\">1,027,451</td> <td class=\"cell-5\" style=\"text-align:right;\">464</td></tr>\n",
       "<tr><td class=\"cell-1\" style=\"\">/www.nationalgeographic.com/photography/proof/2016/08/irish-travellers-uphold-the-traditions-of-a-bygone-world/%</td> <td class=\"cell-2\" style=\"text-align:right;\">12,916</td> <td class=\"cell-3\" style=\"text-align:right;\">88</td> <td class=\"cell-4\" style=\"text-align:right;\">944,388</td> <td class=\"cell-5\" style=\"text-align:right;\">2,086</td></tr>\n",
       "<tr><td class=\"cell-1\" style=\"\">/news.nationalgeographic.com/2015/10/151011-columbus-day-leif-erikson-italian-americans-holiday-history/%</td> <td class=\"cell-2\" style=\"text-align:right;\">11,952</td> <td class=\"cell-3\" style=\"text-align:right;\">87</td> <td class=\"cell-4\" style=\"text-align:right;\">1,458,258</td> <td class=\"cell-5\" style=\"text-align:right;\">3,195</td></tr>\n",
       "<tr><td class=\"cell-1\" style=\"\">/www.nationalgeographic.com/video/shorts/welcome-to-twinsburg-home-of-the-worlds-largest-twin-festival/%</td> <td class=\"cell-2\" style=\"text-align:right;\">11,566</td> <td class=\"cell-3\" style=\"text-align:right;\">86</td> <td class=\"cell-4\" style=\"text-align:right;\">873,354</td> <td class=\"cell-5\" style=\"text-align:right;\">1,886</td></tr>\n",
       "<tr><td class=\"cell-1\" style=\"\">/news.nationalgeographic.com/2017/10/elizebeth-friedman-codebreaker-nazi-spy-fagone/%</td> <td class=\"cell-2\" style=\"text-align:right;\">11,435</td> <td class=\"cell-3\" style=\"text-align:right;\">86</td> <td class=\"cell-4\" style=\"text-align:right;\">1,109,553</td> <td class=\"cell-5\" style=\"text-align:right;\">1,843</td></tr>\n",
       "<tr><td class=\"cell-1\" style=\"\">/www.nationalgeographic.com/travel/destinations/europe/italy/ischia-things-to-do-italian-island/%</td> <td class=\"cell-2\" style=\"text-align:right;\">11,238</td> <td class=\"cell-3\" style=\"text-align:right;\">88</td> <td class=\"cell-4\" style=\"text-align:right;\">1,045,030</td> <td class=\"cell-5\" style=\"text-align:right;\">520</td></tr>\n",
       "<tr><td class=\"cell-1\" style=\"\">/news.nationalgeographic.com/2017/10/columbus-nina-pinta-santa-maria-shipwreck-archaeology/%</td> <td class=\"cell-2\" style=\"text-align:right;\">10,880</td> <td class=\"cell-3\" style=\"text-align:right;\">89</td> <td class=\"cell-4\" style=\"text-align:right;\">1,151,194</td> <td class=\"cell-5\" style=\"text-align:right;\">1,706</td></tr>\n",
       "    \n",
       "    <tr><td class=\"cell-1\" style=\"\">/www.nationalgeographic.com/%</td> <td class=\"cell-2\" style=\"text-align:right;\">10,820</td> <td class=\"cell-3\" style=\"text-align:right;\">87</td> <td class=\"cell-4\" style=\"text-align:right;\">963,576</td> <td class=\"cell-5\" style=\"text-align:right;\">31,537</td></tr>\n",
       "<tr><td class=\"cell-1\" style=\"\">/www.nationalgeographic.com/voteyourmainstreet/%</td> <td class=\"cell-2\" style=\"text-align:right;\">10,820</td> <td class=\"cell-3\" style=\"text-align:right;\">91</td> <td class=\"cell-4\" style=\"text-align:right;\">3,725,401</td> <td class=\"cell-5\" style=\"text-align:right;\">1,227</td></tr>\n",
       "<tr><td class=\"cell-1\" style=\"\">/news.nationalgeographic.com/2017/10/invasive-species-camels-horses-hippos-extinction-environment/%</td> <td class=\"cell-2\" style=\"text-align:right;\">10,744</td> <td class=\"cell-3\" style=\"text-align:right;\">90</td> <td class=\"cell-4\" style=\"text-align:right;\">1,068,712</td> <td class=\"cell-5\" style=\"text-align:right;\">889</td></tr>\n",
       "<tr><td class=\"cell-1\" style=\"\">/photography.nationalgeographic.com/nature-photographer-of-the-year-2017/gallery/week-3-underwater/6%</td> <td class=\"cell-2\" style=\"text-align:right;\">10,556</td> <td class=\"cell-3\" style=\"text-align:right;\">63</td> <td class=\"cell-4\" style=\"text-align:right;\">303,965</td> <td class=\"cell-5\" style=\"text-align:right;\">2,288</td></tr>\n",
       "<tr><td class=\"cell-1\" style=\"\">/www.nationalgeographic.com/travel/destinations/north-america/united-states/montana/sponsor-content-fall-experiences-montana/%</td> <td class=\"cell-2\" style=\"text-align:right;\">8,399</td> <td class=\"cell-3\" style=\"text-align:right;\">77</td> <td class=\"cell-4\" style=\"text-align:right;\">1,472,761</td> <td class=\"cell-5\" style=\"text-align:right;\">425</td></tr>\n",
       "<tr><td class=\"cell-1\" style=\"\">/channel.nationalgeographic.com/the-story-of-us-with-morgan-freeman/videos/the-story-of-us-with-morgan-freeman-trailer/%</td> <td class=\"cell-2\" style=\"text-align:right;\">8,149</td> <td class=\"cell-3\" style=\"text-align:right;\">74</td> <td class=\"cell-4\" style=\"text-align:right;\">178,009</td> <td class=\"cell-5\" style=\"text-align:right;\">908</td></tr>\n",
       "<tr><td class=\"cell-1\" style=\"\">/channel.nationalgeographic.com/the-story-of-us-with-morgan-freeman/%</td> <td class=\"cell-2\" style=\"text-align:right;\">7,616</td> <td class=\"cell-3\" style=\"text-align:right;\">75</td> <td class=\"cell-4\" style=\"text-align:right;\">201,294</td> <td class=\"cell-5\" style=\"text-align:right;\">1,524</td></tr>\n",
       "<tr><td class=\"cell-1\" style=\"\">/m.yourshot.nationalgeographic.com/%</td> <td class=\"cell-2\" style=\"text-align:right;\">6,676</td> <td class=\"cell-3\" style=\"text-align:right;\">93</td> <td class=\"cell-4\" style=\"text-align:right;\">570,555</td> <td class=\"cell-5\" style=\"text-align:right;\">8,376</td></tr>\n",
       "<tr><td class=\"cell-1\" style=\"\">/video.nationalgeographic.com/video/tarantula_goliath%</td> <td class=\"cell-2\" style=\"text-align:right;\">6,583</td> <td class=\"cell-3\" style=\"text-align:right;\">92</td> <td class=\"cell-4\" style=\"text-align:right;\">169,663</td> <td class=\"cell-5\" style=\"text-align:right;\">671</td></tr>\n",
       "<tr><td class=\"cell-1\" style=\"\">/members.nationalgeographic.com/inbox/%</td> <td class=\"cell-2\" style=\"text-align:right;\">5,882</td> <td class=\"cell-3\" style=\"text-align:right;\">73</td> <td class=\"cell-4\" style=\"text-align:right;\">30,704</td> <td class=\"cell-5\" style=\"text-align:right;\">1,926</td></tr>\n",
       "    </tbody>\n"
      ],
      "text/plain": [
       "HTML{UTF8String}(\"    <table  class=\\\"dataframe-table\\\">\\n    <thead><tr><th class=\\\"cell-1\\\" style=\\\"\\\">Recent Urls (Sorted By Time Descending; Min Samples  10 ; Top  25  Page Views)</th> <th class=\\\"cell-2\\\" style=\\\"\\\">Time</th> <th class=\\\"cell-3\\\" style=\\\"\\\">Request Made</th> <th class=\\\"cell-4\\\" style=\\\"\\\">Page Size</th> <th class=\\\"cell-5\\\" style=\\\"\\\">Samples</th></tr></thead>\\n    <tbody>\\n    <tr><td class=\\\"cell-1\\\" style=\\\"\\\">/www.nationalgeographic.com/magazine/2017/09/holland-agriculture-sustainable-farming/%</td> <td class=\\\"cell-2\\\" style=\\\"text-align:right;\\\">15,542</td> <td class=\\\"cell-3\\\" style=\\\"text-align:right;\\\">125</td> <td class=\\\"cell-4\\\" style=\\\"text-align:right;\\\">9,712,768</td> <td class=\\\"cell-5\\\" style=\\\"text-align:right;\\\">1,042</td></tr>\\n<tr><td class=\\\"cell-1\\\" style=\\\"\\\">/channel.nationalgeographic.com/original-sin-sex/videos/sex-scandals-in-france/%</td> <td class=\\\"cell-2\\\" style=\\\"text-align:right;\\\">14,858</td> <td class=\\\"cell-3\\\" style=\\\"text-align:right;\\\">77</td> <td class=\\\"cell-4\\\" style=\\\"text-align:right;\\\">199,692</td> <td class=\\\"cell-5\\\" style=\\\"text-align:right;\\\">749</td></tr>\\n<tr><td class=\\\"cell-1\\\" style=\\\"\\\">/channel.nationalgeographic.com/original-sin-sex/videos/sex-myths/%</td> <td class=\\\"cell-2\\\" style=\\\"text-align:right;\\\">14,575</td> <td class=\\\"cell-3\\\" style=\\\"text-align:right;\\\">77</td> <td class=\\\"cell-4\\\" style=\\\"text-align:right;\\\">198,234</td> <td class=\\\"cell-5\\\" style=\\\"text-align:right;\\\">596</td></tr>\\n<tr><td class=\\\"cell-1\\\" style=\\\"\\\">/news.nationalgeographic.com/2017/10/ancient-ritual-pagan-sardinia-monsters/%</td> <td class=\\\"cell-2\\\" style=\\\"text-align:right;\\\">14,099</td> <td class=\\\"cell-3\\\" style=\\\"text-align:right;\\\">93</td> <td class=\\\"cell-4\\\" style=\\\"text-align:right;\\\">875,019</td> <td class=\\\"cell-5\\\" style=\\\"text-align:right;\\\">2,358</td></tr>\\n<tr><td class=\\\"cell-1\\\" style=\\\"\\\">/www.nationalgeographic.com/travel/destinations/asia/lebanon/qadisha-valley-mountain-hermit-dario-escobar/%</td> <td class=\\\"cell-2\\\" style=\\\"text-align:right;\\\">13,018</td> <td class=\\\"cell-3\\\" style=\\\"text-align:right;\\\">89</td> <td class=\\\"cell-4\\\" style=\\\"text-align:right;\\\">1,027,451</td> <td class=\\\"cell-5\\\" style=\\\"text-align:right;\\\">464</td></tr>\\n<tr><td class=\\\"cell-1\\\" style=\\\"\\\">/www.nationalgeographic.com/photography/proof/2016/08/irish-travellers-uphold-the-traditions-of-a-bygone-world/%</td> <td class=\\\"cell-2\\\" style=\\\"text-align:right;\\\">12,916</td> <td class=\\\"cell-3\\\" style=\\\"text-align:right;\\\">88</td> <td class=\\\"cell-4\\\" style=\\\"text-align:right;\\\">944,388</td> <td class=\\\"cell-5\\\" style=\\\"text-align:right;\\\">2,086</td></tr>\\n<tr><td class=\\\"cell-1\\\" style=\\\"\\\">/news.nationalgeographic.com/2015/10/151011-columbus-day-leif-erikson-italian-americans-holiday-history/%</td> <td class=\\\"cell-2\\\" style=\\\"text-align:right;\\\">11,952</td> <td class=\\\"cell-3\\\" style=\\\"text-align:right;\\\">87</td> <td class=\\\"cell-4\\\" style=\\\"text-align:right;\\\">1,458,258</td> <td class=\\\"cell-5\\\" style=\\\"text-align:right;\\\">3,195</td></tr>\\n<tr><td class=\\\"cell-1\\\" style=\\\"\\\">/www.nationalgeographic.com/video/shorts/welcome-to-twinsburg-home-of-the-worlds-largest-twin-festival/%</td> <td class=\\\"cell-2\\\" style=\\\"text-align:right;\\\">11,566</td> <td class=\\\"cell-3\\\" style=\\\"text-align:right;\\\">86</td> <td class=\\\"cell-4\\\" style=\\\"text-align:right;\\\">873,354</td> <td class=\\\"cell-5\\\" style=\\\"text-align:right;\\\">1,886</td></tr>\\n<tr><td class=\\\"cell-1\\\" style=\\\"\\\">/news.nationalgeographic.com/2017/10/elizebeth-friedman-codebreaker-nazi-spy-fagone/%</td> <td class=\\\"cell-2\\\" style=\\\"text-align:right;\\\">11,435</td> <td class=\\\"cell-3\\\" style=\\\"text-align:right;\\\">86</td> <td class=\\\"cell-4\\\" style=\\\"text-align:right;\\\">1,109,553</td> <td class=\\\"cell-5\\\" style=\\\"text-align:right;\\\">1,843</td></tr>\\n<tr><td class=\\\"cell-1\\\" style=\\\"\\\">/www.nationalgeographic.com/travel/destinations/europe/italy/ischia-things-to-do-italian-island/%</td> <td class=\\\"cell-2\\\" style=\\\"text-align:right;\\\">11,238</td> <td class=\\\"cell-3\\\" style=\\\"text-align:right;\\\">88</td> <td class=\\\"cell-4\\\" style=\\\"text-align:right;\\\">1,045,030</td> <td class=\\\"cell-5\\\" style=\\\"text-align:right;\\\">520</td></tr>\\n<tr><td class=\\\"cell-1\\\" style=\\\"\\\">/news.nationalgeographic.com/2017/10/columbus-nina-pinta-santa-maria-shipwreck-archaeology/%</td> <td class=\\\"cell-2\\\" style=\\\"text-align:right;\\\">10,880</td> <td class=\\\"cell-3\\\" style=\\\"text-align:right;\\\">89</td> <td class=\\\"cell-4\\\" style=\\\"text-align:right;\\\">1,151,194</td> <td class=\\\"cell-5\\\" style=\\\"text-align:right;\\\">1,706</td></tr>\\n    \\n    <tr><td class=\\\"cell-1\\\" style=\\\"\\\">/www.nationalgeographic.com/%</td> <td class=\\\"cell-2\\\" style=\\\"text-align:right;\\\">10,820</td> <td class=\\\"cell-3\\\" style=\\\"text-align:right;\\\">87</td> <td class=\\\"cell-4\\\" style=\\\"text-align:right;\\\">963,576</td> <td class=\\\"cell-5\\\" style=\\\"text-align:right;\\\">31,537</td></tr>\\n<tr><td class=\\\"cell-1\\\" style=\\\"\\\">/www.nationalgeographic.com/voteyourmainstreet/%</td> <td class=\\\"cell-2\\\" style=\\\"text-align:right;\\\">10,820</td> <td class=\\\"cell-3\\\" style=\\\"text-align:right;\\\">91</td> <td class=\\\"cell-4\\\" style=\\\"text-align:right;\\\">3,725,401</td> <td class=\\\"cell-5\\\" style=\\\"text-align:right;\\\">1,227</td></tr>\\n<tr><td class=\\\"cell-1\\\" style=\\\"\\\">/news.nationalgeographic.com/2017/10/invasive-species-camels-horses-hippos-extinction-environment/%</td> <td class=\\\"cell-2\\\" style=\\\"text-align:right;\\\">10,744</td> <td class=\\\"cell-3\\\" style=\\\"text-align:right;\\\">90</td> <td class=\\\"cell-4\\\" style=\\\"text-align:right;\\\">1,068,712</td> <td class=\\\"cell-5\\\" style=\\\"text-align:right;\\\">889</td></tr>\\n<tr><td class=\\\"cell-1\\\" style=\\\"\\\">/photography.nationalgeographic.com/nature-photographer-of-the-year-2017/gallery/week-3-underwater/6%</td> <td class=\\\"cell-2\\\" style=\\\"text-align:right;\\\">10,556</td> <td class=\\\"cell-3\\\" style=\\\"text-align:right;\\\">63</td> <td class=\\\"cell-4\\\" style=\\\"text-align:right;\\\">303,965</td> <td class=\\\"cell-5\\\" style=\\\"text-align:right;\\\">2,288</td></tr>\\n<tr><td class=\\\"cell-1\\\" style=\\\"\\\">/www.nationalgeographic.com/travel/destinations/north-america/united-states/montana/sponsor-content-fall-experiences-montana/%</td> <td class=\\\"cell-2\\\" style=\\\"text-align:right;\\\">8,399</td> <td class=\\\"cell-3\\\" style=\\\"text-align:right;\\\">77</td> <td class=\\\"cell-4\\\" style=\\\"text-align:right;\\\">1,472,761</td> <td class=\\\"cell-5\\\" style=\\\"text-align:right;\\\">425</td></tr>\\n<tr><td class=\\\"cell-1\\\" style=\\\"\\\">/channel.nationalgeographic.com/the-story-of-us-with-morgan-freeman/videos/the-story-of-us-with-morgan-freeman-trailer/%</td> <td class=\\\"cell-2\\\" style=\\\"text-align:right;\\\">8,149</td> <td class=\\\"cell-3\\\" style=\\\"text-align:right;\\\">74</td> <td class=\\\"cell-4\\\" style=\\\"text-align:right;\\\">178,009</td> <td class=\\\"cell-5\\\" style=\\\"text-align:right;\\\">908</td></tr>\\n<tr><td class=\\\"cell-1\\\" style=\\\"\\\">/channel.nationalgeographic.com/the-story-of-us-with-morgan-freeman/%</td> <td class=\\\"cell-2\\\" style=\\\"text-align:right;\\\">7,616</td> <td class=\\\"cell-3\\\" style=\\\"text-align:right;\\\">75</td> <td class=\\\"cell-4\\\" style=\\\"text-align:right;\\\">201,294</td> <td class=\\\"cell-5\\\" style=\\\"text-align:right;\\\">1,524</td></tr>\\n<tr><td class=\\\"cell-1\\\" style=\\\"\\\">/m.yourshot.nationalgeographic.com/%</td> <td class=\\\"cell-2\\\" style=\\\"text-align:right;\\\">6,676</td> <td class=\\\"cell-3\\\" style=\\\"text-align:right;\\\">93</td> <td class=\\\"cell-4\\\" style=\\\"text-align:right;\\\">570,555</td> <td class=\\\"cell-5\\\" style=\\\"text-align:right;\\\">8,376</td></tr>\\n<tr><td class=\\\"cell-1\\\" style=\\\"\\\">/video.nationalgeographic.com/video/tarantula_goliath%</td> <td class=\\\"cell-2\\\" style=\\\"text-align:right;\\\">6,583</td> <td class=\\\"cell-3\\\" style=\\\"text-align:right;\\\">92</td> <td class=\\\"cell-4\\\" style=\\\"text-align:right;\\\">169,663</td> <td class=\\\"cell-5\\\" style=\\\"text-align:right;\\\">671</td></tr>\\n<tr><td class=\\\"cell-1\\\" style=\\\"\\\">/members.nationalgeographic.com/inbox/%</td> <td class=\\\"cell-2\\\" style=\\\"text-align:right;\\\">5,882</td> <td class=\\\"cell-3\\\" style=\\\"text-align:right;\\\">73</td> <td class=\\\"cell-4\\\" style=\\\"text-align:right;\\\">30,704</td> <td class=\\\"cell-5\\\" style=\\\"text-align:right;\\\">1,926</td></tr>\\n    </tbody>\\n\")"
      ]
     },
     "metadata": {},
     "output_type": "display_data"
    }
   ],
   "source": [
    "finalUrlTableOutput(TV,UP,SP,topUrls)\n",
    ";"
   ]
  },
  {
   "cell_type": "code",
   "execution_count": null,
   "metadata": {
    "collapsed": true,
    "input_collapsed": true
   },
   "outputs": [],
   "source": []
  }
 ],
 "metadata": {
  "chart_version": "1.0.0",
  "kernelspec": {
   "display_name": "Julia 0.4.7",
   "language": "julia",
   "name": "julia-0.4"
  },
  "language_info": {
   "file_extension": ".jl",
   "mimetype": "application/julia",
   "name": "julia",
   "version": "0.4.7"
  },
  "library_version": "1.0.0",
  "notebook_uuid": "d168d12d-601f-4d2c-b572-8e078f29f2e6",
  "readOnly": false
 },
 "nbformat": 4,
 "nbformat_minor": 0
}
