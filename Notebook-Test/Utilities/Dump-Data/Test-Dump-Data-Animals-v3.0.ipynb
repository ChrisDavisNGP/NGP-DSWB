{
 "cells": [
  {
   "cell_type": "code",
   "execution_count": null,
   "metadata": {
    "collapsed": true,
    "input_collapsed": false
   },
   "outputs": [],
   "source": [
    "#UUID unreliable in test tree but good for debugging in Jay or Chris\n",
    "scriptName=\"Test_Dump_Data_Animals\"\n",
    "include(\"../../../Notebook-JL/Utilities/Dump-Data/Dump-Data-Animals-v3.0.jl\")\n",
    ";"
   ]
  }
 ],
 "metadata": {
  "kernelspec": {
   "display_name": "Julia 0.4.7",
   "language": "julia",
   "name": "julia-0.4"
  },
  "language_info": {
   "file_extension": ".jl",
   "mimetype": "application/julia",
   "name": "julia",
   "version": "0.4.7"
  },
  "library_version": "1.0.0",
  "notebook_uuid": "b363f39c-8e74-46f3-970d-7664537b8dae",
  "readOnly": false
 },
 "nbformat": 4,
 "nbformat_minor": 0
}
