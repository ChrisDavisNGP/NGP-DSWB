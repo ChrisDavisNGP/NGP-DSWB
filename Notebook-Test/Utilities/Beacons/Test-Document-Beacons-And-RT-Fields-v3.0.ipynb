{
 "cells": [
  {
   "cell_type": "code",
   "execution_count": null,
   "metadata": {
    "collapsed": true,
    "input_collapsed": false
   },
   "outputs": [],
   "source": [
    "#UUID unreliable in test tree but good for debugging in Jay or Chris\n",
    "scriptName=\"Test_Document_Beacons_And_RT_Fields\"\n",
    "include(\"../../../Notebook-JL/Utilities/Beacons/Document-Beacons-And-RT-Fields-v3.0.jl\")\n",
    ";"
   ]
  }
 ],
 "metadata": {
  "kernelspec": {
   "display_name": "Julia 0.4.7",
   "language": "julia",
   "name": "julia-0.4"
  },
  "language_info": {
   "file_extension": ".jl",
   "mimetype": "application/julia",
   "name": "julia",
   "version": "0.4.7"
  },
  "library_version": "1.0.0",
  "notebook_uuid": "c9ead8db-aafa-4a21-a0ca-5aa2b0ed9de7",
  "readOnly": false
 },
 "nbformat": 4,
 "nbformat_minor": 0
}
