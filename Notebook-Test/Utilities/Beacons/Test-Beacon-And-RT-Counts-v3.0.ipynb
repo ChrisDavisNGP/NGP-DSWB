{
 "cells": [
  {
   "cell_type": "code",
   "execution_count": null,
   "metadata": {
    "collapsed": true,
    "input_collapsed": true
   },
   "outputs": [],
   "source": [
    "#UUID unreliable in test tree but good for debugging in Jay or Chris\n",
    "scriptName=\"Test_Beacon_And_RT_Counts\"\n",
    "include(\"../../../Notebook-JL/Utilities/Beacons/Beacon-And-RT-Counts-v3.0.jl\")\n",
    ";"
   ]
  }
 ],
 "metadata": {
  "kernelspec": {
   "display_name": "Julia 0.4.7",
   "language": "julia",
   "name": "julia-0.4"
  },
  "language_info": {
   "file_extension": ".jl",
   "mimetype": "application/julia",
   "name": "julia",
   "version": "0.4.7"
  },
  "library_version": "1.0.0",
  "notebook_uuid": "163b8453-1d20-4e27-924c-10c2d7b237bf",
  "readOnly": false
 },
 "nbformat": 4,
 "nbformat_minor": 0
}
