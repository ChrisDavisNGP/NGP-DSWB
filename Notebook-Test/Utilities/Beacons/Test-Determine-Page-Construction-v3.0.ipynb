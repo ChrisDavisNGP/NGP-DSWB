{
 "cells": [
  {
   "cell_type": "code",
   "execution_count": null,
   "metadata": {
    "collapsed": true,
    "input_collapsed": false
   },
   "outputs": [],
   "source": [
    "scriptName=\"Prod3_Determine_Page_Construction\"\n",
    "include(\"../../../NGP-DSWB-Reporting/Notebook-JL/Utilities/Beacons/Determine-Page-Construction-v3.0.jl\")\n",
    ";"
   ]
  }
 ],
 "metadata": {
  "kernelspec": {
   "display_name": "Julia 0.4.7",
   "language": "julia",
   "name": "julia-0.4"
  },
  "language_info": {
   "file_extension": ".jl",
   "mimetype": "application/julia",
   "name": "julia",
   "version": "0.4.7"
  },
  "library_version": "1.0.0",
  "notebook_uuid": "9c904960-16b9-45ff-b1e5-47c2cd88d391",
  "readOnly": false
 },
 "nbformat": 4,
 "nbformat_minor": 0
}
