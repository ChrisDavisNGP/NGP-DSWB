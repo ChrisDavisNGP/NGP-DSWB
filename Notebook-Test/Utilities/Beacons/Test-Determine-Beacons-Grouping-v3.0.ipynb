{
 "cells": [
  {
   "cell_type": "code",
   "execution_count": null,
   "metadata": {
    "collapsed": true,
    "input_collapsed": true
   },
   "outputs": [],
   "source": [
    "scriptName=\"Prod3_Determine_Beacons_Grouping\"\n",
    "include(\"../../../NGP-DSWB-Reporting/Notebook-JL/Utilities/Beacons/Determine-Beacons-Grouping-v3.0.jl\")\n",
    ";"
   ]
  }
 ],
 "metadata": {
  "kernelspec": {
   "display_name": "Julia 0.4.7",
   "language": "julia",
   "name": "julia-0.4"
  },
  "language_info": {
   "file_extension": ".jl",
   "mimetype": "application/julia",
   "name": "julia",
   "version": "0.4.7"
  },
  "library_version": "1.0.0",
  "notebook_uuid": "c278f7a4-f972-444c-ac1f-c7756c9076cf",
  "readOnly": false
 },
 "nbformat": 4,
 "nbformat_minor": 0
}
