{
 "cells": [
  {
   "cell_type": "code",
   "execution_count": null,
   "metadata": {
    "collapsed": false,
    "input_collapsed": false,
    "scrolled": false
   },
   "outputs": [],
   "source": [
     "#UUID unreliable in test tree but good for debugging in Jay or Chris\n",
    "scriptName=\"Test_Group_NatGeoSite\"\n",
    "include(\"../../../Notebook-JL/Utilities/URL-Groups/Group-NatGeoSite-v3.0.jl\")\n",
    ";"
   ]
  },
  {
   "cell_type": "code",
   "execution_count": null,
   "metadata": {
    "collapsed": true,
    "input_collapsed": true
   },
   "outputs": [],
   "source": []
  }
 ],
 "metadata": {
  "kernelspec": {
   "display_name": "Julia 0.4.7",
   "language": "julia",
   "name": "julia-0.4"
  },
  "language_info": {
   "file_extension": ".jl",
   "mimetype": "application/julia",
   "name": "julia",
   "version": "0.4.7"
  },
  "library_version": "1.0.0",
  "notebook_uuid": "d6d395cc-5a7f-485c-8239-172c0e0cd6fd",
  "readOnly": false
 },
 "nbformat": 4,
 "nbformat_minor": 0
}
