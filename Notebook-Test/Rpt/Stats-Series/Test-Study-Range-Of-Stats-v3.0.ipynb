{
 "cells": [
  {
   "cell_type": "code",
   "execution_count": null,
   "metadata": {
    "collapsed": true,
    "input_collapsed": false
   },
   "outputs": [],
   "source": [
    "#UUID unreliable in test tree but good for debugging in Jay or Chris"
    "scriptName = \"Test-Study-Range-Of-Stats\"\n",
    "include(\"../../../Notebook-JL/Rpt/Stats-Series/Study-Range-Of-Stats-v3.0.jl\")\n",
    ";"
   ]
  }
 ],
 "metadata": {
  "kernelspec": {
   "display_name": "Julia 0.4.7",
   "language": "julia",
   "name": "julia-0.4"
  },
  "language_info": {
   "file_extension": ".jl",
   "mimetype": "application/julia",
   "name": "julia",
   "version": "0.4.7"
  },
  "library_version": "1.0.0",
  "notebook_uuid": "239f9005-5a18-4a67-bb11-6730ed16f3e1",
  "readOnly": false
 },
 "nbformat": 4,
 "nbformat_minor": 0
}
