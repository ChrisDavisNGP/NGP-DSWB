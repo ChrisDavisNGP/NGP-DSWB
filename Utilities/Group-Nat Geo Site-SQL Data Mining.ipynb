{
 "cells": [
  {
   "cell_type": "code",
   "execution_count": 1,
   "metadata": {
    "collapsed": false,
    "input_collapsed": false
   },
   "outputs": [
    {
     "name": "stdout",
     "output_type": "stream",
     "text": [
      "Redshift endpoint set: 2017-11-01T07:11:55\n"
     ]
    },
    {
     "data": {
      "text/plain": [
       "\"beacons_4744\""
      ]
     },
     "execution_count": 1,
     "metadata": {},
     "output_type": "execute_result"
    }
   ],
   "source": [
    "using ODBC\n",
    "using DataFrames\n",
    "using DSWB\n",
    "using Formatting\n",
    "\n",
    "dsn = \"dswb-natgeo\" # Redshift endpoint\n",
    "table = \"beacons_4744\" # beacon table name\n",
    "tableRt = \"beacons_4744_rt\"\n",
    "\n",
    "# Connect to Beacon Data\n",
    "setRedshiftEndpoint(dsn)\n",
    "setTable(table)"
   ]
  },
  {
   "cell_type": "code",
   "execution_count": 9,
   "metadata": {
    "collapsed": false,
    "input_collapsed": false,
    "scrolled": true
   },
   "outputs": [
    {
     "name": "stdout",
     "output_type": "stream",
     "text": [
      "October 28, 2017 23:59:00 to October 31, 2017 23:59:00 Local Time\n",
      "October 29, 2017 03:59:00 to November 1, 2017 03:59:00 UTC Time\n"
     ]
    }
   ],
   "source": [
    "include(\"/data/notebook_home/Production/Lib/Include-Package-v1.0.jl\")\n",
    "include(\"/data/notebook_home/Production/Bodies/Group-NatGeo-Site-Sql-Data-Mining-Body-v1.0.jl\")\n",
    "\n",
    "#timeVariables(2017,6,8,10,59,2017,6,8,12,59)\n",
    "weeklyTimeVariables(days=3)\n",
    "#yesterdayTimeVariables()\n",
    ";"
   ]
  },
  {
   "cell_type": "code",
   "execution_count": 10,
   "metadata": {
    "collapsed": false,
    "input_collapsed": false
   },
   "outputs": [],
   "source": [
    "UP = UrlParamsInit()\n",
    "UP.beaconTable = table   #table\n",
    "UP.resourceTable = tableRt\n",
    "UP.btView = \"$(table)_sql_nat_geo_site_view\" #localtable\n",
    "UP.rtView = \"$(tableRt)_sql_nat_geo_site_view\" #localtableRt\n",
    "UP.pageGroup = \"Nat Geo Site\"   #productPageGroup\n",
    "UP.urlRegEx = \"%\"   #localUrl\n",
    "UP.deviceType = \"%\"\n",
    "\n",
    "SG = SoastaGraphsInit()\n",
    "customer = \"Nat Geo\" \n",
    "SG.customer = customer\n",
    "\n",
    "SP = ShowParamsInit()\n",
    "SP.debugLevel = 10;\n",
    "SP.debug = true;\n",
    ";\n",
    "\n",
    "LV = LocalVars(0)\n",
    "LV.linesOutput = 25\n",
    ";\n",
    "\n"
   ]
  },
  {
   "cell_type": "code",
   "execution_count": 11,
   "metadata": {
    "collapsed": false,
    "input_collapsed": false
   },
   "outputs": [
    {
     "name": "stdout",
     "output_type": "stream",
     "text": [
      "beacons_4744_sql_nat_geo_site_view count is 17873\n"
     ]
    }
   ],
   "source": [
    "defaultTableGNGSSDM(tv,UP)\n",
    ";"
   ]
  },
  {
   "cell_type": "code",
   "execution_count": 12,
   "metadata": {
    "collapsed": false,
    "input_collapsed": false
   },
   "outputs": [
    {
     "data": {
      "text/html": [
       "    <table  class=\"dataframe-table\">\n",
       "    <thead><tr><th class=\"cell-1\" style=\"\">url</th> <th class=\"cell-2\" style=\"\">count</th></tr></thead>\n",
       "    <tbody>\n",
       "    <tr><td class=\"cell-1\" style=\"\">https://www.nationalgeographic.com/</td> <td class=\"cell-2\" style=\"text-align:right;\">17,825</td></tr>\n",
       "    \n",
       "    <tr><td class=\"cell-1\" style=\"\">http://www.nationalgeographic.com/</td> <td class=\"cell-2\" style=\"text-align:right;\">48</td></tr>\n",
       "    </tbody>\n"
      ],
      "text/plain": [
       "HTML{UTF8String}(\"    <table  class=\\\"dataframe-table\\\">\\n    <thead><tr><th class=\\\"cell-1\\\" style=\\\"\\\">url</th> <th class=\\\"cell-2\\\" style=\\\"\\\">count</th></tr></thead>\\n    <tbody>\\n    <tr><td class=\\\"cell-1\\\" style=\\\"\\\">https://www.nationalgeographic.com/</td> <td class=\\\"cell-2\\\" style=\\\"text-align:right;\\\">17,825</td></tr>\\n    \\n    <tr><td class=\\\"cell-1\\\" style=\\\"\\\">http://www.nationalgeographic.com/</td> <td class=\\\"cell-2\\\" style=\\\"text-align:right;\\\">48</td></tr>\\n    </tbody>\\n\")"
      ]
     },
     "metadata": {},
     "output_type": "display_data"
    }
   ],
   "source": [
    "test1GNGSSDM(UP,LV)\n",
    ";"
   ]
  },
  {
   "cell_type": "code",
   "execution_count": 13,
   "metadata": {
    "collapsed": false,
    "input_collapsed": false,
    "scrolled": false
   },
   "outputs": [
    {
     "data": {
      "text/html": [
       "    <table  class=\"dataframe-table\">\n",
       "    <thead><tr><th class=\"cell-1\" style=\"\">count</th> <th class=\"cell-2\" style=\"\">url</th> <th class=\"cell-3\" style=\"\">params u</th></tr></thead>\n",
       "    <tbody>\n",
       "    <tr><td class=\"cell-1\" style=\"text-align:right;\">2,197</td> <td class=\"cell-2\" style=\"\">https://www.nationalgeographic.com/</td> <td class=\"cell-3\" style=\"\">https://www.nationalgeographic.com/loveisoutthere/?utm_medium=Social&utm_campaign=Subaru&utm_source=Facebook&utm_content=loveisoutthere&kwp_0=548930&kwp_4=2010123&kwp_1=840171</td></tr>\n",
       "<tr><td class=\"cell-1\" style=\"text-align:right;\">1,295</td> <td class=\"cell-2\" style=\"\">https://www.nationalgeographic.com/</td> <td class=\"cell-3\" style=\"\">https://www.nationalgeographic.com/loveisoutthere/?utm_medium=Social&utm_campaign=Subaru&utm_source=Facebook&utm_content=loveisoutthere&kwp_0=548925&kwp_4=2010120&kwp_1=840171</td></tr>\n",
       "<tr><td class=\"cell-1\" style=\"text-align:right;\">886</td> <td class=\"cell-2\" style=\"\">https://www.nationalgeographic.com/</td> <td class=\"cell-3\" style=\"\">https://www.nationalgeographic.com/loveisoutthere/</td></tr>\n",
       "<tr><td class=\"cell-1\" style=\"text-align:right;\">699</td> <td class=\"cell-2\" style=\"\">https://www.nationalgeographic.com/</td> <td class=\"cell-3\" style=\"\">https://www.nationalgeographic.com/staralliance20/</td></tr>\n",
       "<tr><td class=\"cell-1\" style=\"text-align:right;\">635</td> <td class=\"cell-2\" style=\"\">https://www.nationalgeographic.com/</td> <td class=\"cell-3\" style=\"\">https://www.nationalgeographic.com/loveisoutthere/?utm_medium=Social&utm_campaign=Subaru&utm_source=Facebook&utm_content=loveisoutthere&kwp_0=548925&kwp_4=2010549&kwp_1=840394</td></tr>\n",
       "<tr><td class=\"cell-1\" style=\"text-align:right;\">624</td> <td class=\"cell-2\" style=\"\">https://www.nationalgeographic.com/</td> <td class=\"cell-3\" style=\"\">https://www.nationalgeographic.com/loveisoutthere/?utm_medium=Social&utm_campaign=Subaru&utm_source=Facebook&utm_content=loveisoutthere&kwp_0=548925&kwp_4=2010162&kwp_1=840178</td></tr>\n",
       "<tr><td class=\"cell-1\" style=\"text-align:right;\">616</td> <td class=\"cell-2\" style=\"\">https://www.nationalgeographic.com/</td> <td class=\"cell-3\" style=\"\">https://www.nationalgeographic.com/loveisoutthere/?utm_medium=Social&utm_campaign=Subaru&utm_source=Facebook&utm_content=loveisoutthere&kwp_0=548930&kwp_4=2010554&kwp_1=840394</td></tr>\n",
       "<tr><td class=\"cell-1\" style=\"text-align:right;\">576</td> <td class=\"cell-2\" style=\"\">https://www.nationalgeographic.com/</td> <td class=\"cell-3\" style=\"\">https://www.nationalgeographic.com/loveisoutthere/?utm_medium=Social&utm_campaign=Subaru&utm_source=Facebook&utm_content=loveisoutthere&kwp_0=548927&kwp_4=2010121&kwp_1=840171</td></tr>\n",
       "<tr><td class=\"cell-1\" style=\"text-align:right;\">419</td> <td class=\"cell-2\" style=\"\">https://www.nationalgeographic.com/</td> <td class=\"cell-3\" style=\"\">https://www.nationalgeographic.com/?isfromtac=1</td></tr>\n",
       "<tr><td class=\"cell-1\" style=\"text-align:right;\">347</td> <td class=\"cell-2\" style=\"\">https://www.nationalgeographic.com/</td> <td class=\"cell-3\" style=\"\">https://www.nationalgeographic.com/loveisoutthere/?utm_medium=Social&utm_campaign=Subaru&utm_source=Facebook&utm_content=loveisoutthere&kwp_0=548930</td></tr>\n",
       "<tr><td class=\"cell-1\" style=\"text-align:right;\">305</td> <td class=\"cell-2\" style=\"\">https://www.nationalgeographic.com/</td> <td class=\"cell-3\" style=\"\">https://www.nationalgeographic.com/seo.jpg</td></tr>\n",
       "<tr><td class=\"cell-1\" style=\"text-align:right;\">271</td> <td class=\"cell-2\" style=\"\">https://www.nationalgeographic.com/</td> <td class=\"cell-3\" style=\"\">https://www.nationalgeographic.com/loveisoutthere/?utm_medium=Social&utm_campaign=Subaru&utm_source=Facebook&utm_content=loveisoutthere&kwp_0=548924&kwp_4=2010119&kwp_1=840171</td></tr>\n",
       "<tr><td class=\"cell-1\" style=\"text-align:right;\">270</td> <td class=\"cell-2\" style=\"\">https://www.nationalgeographic.com/</td> <td class=\"cell-3\" style=\"\">https://www.nationalgeographic.com/loveisoutthere/?utm_medium=Social&utm_campaign=Subaru&utm_source=Facebook&utm_content=loveisoutthere&kwp_0=548930&kwp_4=2010165&kwp_1=840178</td></tr>\n",
       "    \n",
       "    <tr><td class=\"cell-1\" style=\"text-align:right;\">263</td> <td class=\"cell-2\" style=\"\">https://www.nationalgeographic.com/</td> <td class=\"cell-3\" style=\"\">https://www.nationalgeographic.com/loveisoutthere/?utm_medium=Social&utm_campaign=Subaru&utm_source=Facebook&utm_content=loveisoutthere&kwp_0=548925&kwp_4=2010168&kwp_1=840179</td></tr>\n",
       "<tr><td class=\"cell-1\" style=\"text-align:right;\">207</td> <td class=\"cell-2\" style=\"\">https://www.nationalgeographic.com/</td> <td class=\"cell-3\" style=\"\">https://www.nationalgeographic.com/loveisoutthere/?utm_medium=Social&utm_campaign=Subaru&utm_source=Facebook&utm_content=loveisoutthere&kwp_0=548925&kwp_4=2010132&kwp_1=840173</td></tr>\n",
       "<tr><td class=\"cell-1\" style=\"text-align:right;\">204</td> <td class=\"cell-2\" style=\"\">https://www.nationalgeographic.com/</td> <td class=\"cell-3\" style=\"\">https://www.nationalgeographic.com/axaresearchfund/</td></tr>\n",
       "<tr><td class=\"cell-1\" style=\"text-align:right;\">195</td> <td class=\"cell-2\" style=\"\">https://www.nationalgeographic.com/</td> <td class=\"cell-3\" style=\"\">https://www.nationalgeographic.com/loveisoutthere/?utm_medium=Social&utm_campaign=Subaru&utm_source=Facebook&utm_content=loveisoutthere&kwp_0=548929&kwp_4=2010122&kwp_1=840171</td></tr>\n",
       "<tr><td class=\"cell-1\" style=\"text-align:right;\">187</td> <td class=\"cell-2\" style=\"\">https://www.nationalgeographic.com/</td> <td class=\"cell-3\" style=\"\">https://www.nationalgeographic.com/loveisoutthere/?utm_medium=Social&utm_campaign=Subaru&utm_source=Facebook&utm_content=loveisoutthere&kwp_0=548927&kwp_4=2010169&kwp_1=840179</td></tr>\n",
       "<tr><td class=\"cell-1\" style=\"text-align:right;\">181</td> <td class=\"cell-2\" style=\"\">https://www.nationalgeographic.com/</td> <td class=\"cell-3\" style=\"\">https://www.nationalgeographic.com/loveisoutthere/?utm_medium=Social&utm_campaign=Subaru&utm_source=Facebook&utm_content=loveisoutthere&kwp_0=548927&kwp_4=2010163&kwp_1=840178</td></tr>\n",
       "<tr><td class=\"cell-1\" style=\"text-align:right;\">170</td> <td class=\"cell-2\" style=\"\">https://www.nationalgeographic.com/</td> <td class=\"cell-3\" style=\"\">https://www.nationalgeographic.com/backend-proxy/geobee/quiz/today/</td></tr>\n",
       "<tr><td class=\"cell-1\" style=\"text-align:right;\">164</td> <td class=\"cell-2\" style=\"\">https://www.nationalgeographic.com/</td> <td class=\"cell-3\" style=\"\">https://www.nationalgeographic.com/loveisoutthere/?utm_medium=Social&utm_campaign=Subaru&utm_source=Facebook&utm_content=loveisoutthere&kwp_0=548924&kwp_4=2010560&kwp_1=840394</td></tr>\n",
       "<tr><td class=\"cell-1\" style=\"text-align:right;\">162</td> <td class=\"cell-2\" style=\"\">https://www.nationalgeographic.com/</td> <td class=\"cell-3\" style=\"\">https://www.nationalgeographic.com/loveisoutthere/?utm_medium=Social&utm_campaign=Subaru&utm_source=Facebook&utm_content=loveisoutthere&kwp_0=548925&kwp_4=2010138&kwp_1=840174</td></tr>\n",
       "<tr><td class=\"cell-1\" style=\"text-align:right;\">152</td> <td class=\"cell-2\" style=\"\">https://www.nationalgeographic.com/</td> <td class=\"cell-3\" style=\"\">https://www.nationalgeographic.com/loveisoutthere/?utm_medium=Social&utm_campaign=Subaru&utm_source=Facebook&utm_content=loveisoutthere&kwp_0=548919&kwp_4=2010118&kwp_1=840171</td></tr>\n",
       "<tr><td class=\"cell-1\" style=\"text-align:right;\">127</td> <td class=\"cell-2\" style=\"\">https://www.nationalgeographic.com/</td> <td class=\"cell-3\" style=\"\">https://www.nationalgeographic.com/loveisoutthere/?utm_medium=Social&utm_campaign=Subaru&utm_source=Facebook&utm_content=loveisoutthere&kwp_0=548927&kwp_4=2010133&kwp_1=840173</td></tr>\n",
       "<tr><td class=\"cell-1\" style=\"text-align:right;\">125</td> <td class=\"cell-2\" style=\"\">https://www.nationalgeographic.com/</td> <td class=\"cell-3\" style=\"\">https://www.nationalgeographic.com/loveisoutthere/?utm_medium=Social&utm_campaign=Subaru&utm_source=Facebook&utm_content=loveisoutthere&kwp_0=548924&kwp_4=2010161&kwp_1=840178</td></tr>\n",
       "    </tbody>\n"
      ],
      "text/plain": [
       "HTML{UTF8String}(\"    <table  class=\\\"dataframe-table\\\">\\n    <thead><tr><th class=\\\"cell-1\\\" style=\\\"\\\">count</th> <th class=\\\"cell-2\\\" style=\\\"\\\">url</th> <th class=\\\"cell-3\\\" style=\\\"\\\">params u</th></tr></thead>\\n    <tbody>\\n    <tr><td class=\\\"cell-1\\\" style=\\\"text-align:right;\\\">2,197</td> <td class=\\\"cell-2\\\" style=\\\"\\\">https://www.nationalgeographic.com/</td> <td class=\\\"cell-3\\\" style=\\\"\\\">https://www.nationalgeographic.com/loveisoutthere/?utm_medium=Social&utm_campaign=Subaru&utm_source=Facebook&utm_content=loveisoutthere&kwp_0=548930&kwp_4=2010123&kwp_1=840171</td></tr>\\n<tr><td class=\\\"cell-1\\\" style=\\\"text-align:right;\\\">1,295</td> <td class=\\\"cell-2\\\" style=\\\"\\\">https://www.nationalgeographic.com/</td> <td class=\\\"cell-3\\\" style=\\\"\\\">https://www.nationalgeographic.com/loveisoutthere/?utm_medium=Social&utm_campaign=Subaru&utm_source=Facebook&utm_content=loveisoutthere&kwp_0=548925&kwp_4=2010120&kwp_1=840171</td></tr>\\n<tr><td class=\\\"cell-1\\\" style=\\\"text-align:right;\\\">886</td> <td class=\\\"cell-2\\\" style=\\\"\\\">https://www.nationalgeographic.com/</td> <td class=\\\"cell-3\\\" style=\\\"\\\">https://www.nationalgeographic.com/loveisoutthere/</td></tr>\\n<tr><td class=\\\"cell-1\\\" style=\\\"text-align:right;\\\">699</td> <td class=\\\"cell-2\\\" style=\\\"\\\">https://www.nationalgeographic.com/</td> <td class=\\\"cell-3\\\" style=\\\"\\\">https://www.nationalgeographic.com/staralliance20/</td></tr>\\n<tr><td class=\\\"cell-1\\\" style=\\\"text-align:right;\\\">635</td> <td class=\\\"cell-2\\\" style=\\\"\\\">https://www.nationalgeographic.com/</td> <td class=\\\"cell-3\\\" style=\\\"\\\">https://www.nationalgeographic.com/loveisoutthere/?utm_medium=Social&utm_campaign=Subaru&utm_source=Facebook&utm_content=loveisoutthere&kwp_0=548925&kwp_4=2010549&kwp_1=840394</td></tr>\\n<tr><td class=\\\"cell-1\\\" style=\\\"text-align:right;\\\">624</td> <td class=\\\"cell-2\\\" style=\\\"\\\">https://www.nationalgeographic.com/</td> <td class=\\\"cell-3\\\" style=\\\"\\\">https://www.nationalgeographic.com/loveisoutthere/?utm_medium=Social&utm_campaign=Subaru&utm_source=Facebook&utm_content=loveisoutthere&kwp_0=548925&kwp_4=2010162&kwp_1=840178</td></tr>\\n<tr><td class=\\\"cell-1\\\" style=\\\"text-align:right;\\\">616</td> <td class=\\\"cell-2\\\" style=\\\"\\\">https://www.nationalgeographic.com/</td> <td class=\\\"cell-3\\\" style=\\\"\\\">https://www.nationalgeographic.com/loveisoutthere/?utm_medium=Social&utm_campaign=Subaru&utm_source=Facebook&utm_content=loveisoutthere&kwp_0=548930&kwp_4=2010554&kwp_1=840394</td></tr>\\n<tr><td class=\\\"cell-1\\\" style=\\\"text-align:right;\\\">576</td> <td class=\\\"cell-2\\\" style=\\\"\\\">https://www.nationalgeographic.com/</td> <td class=\\\"cell-3\\\" style=\\\"\\\">https://www.nationalgeographic.com/loveisoutthere/?utm_medium=Social&utm_campaign=Subaru&utm_source=Facebook&utm_content=loveisoutthere&kwp_0=548927&kwp_4=2010121&kwp_1=840171</td></tr>\\n<tr><td class=\\\"cell-1\\\" style=\\\"text-align:right;\\\">419</td> <td class=\\\"cell-2\\\" style=\\\"\\\">https://www.nationalgeographic.com/</td> <td class=\\\"cell-3\\\" style=\\\"\\\">https://www.nationalgeographic.com/?isfromtac=1</td></tr>\\n<tr><td class=\\\"cell-1\\\" style=\\\"text-align:right;\\\">347</td> <td class=\\\"cell-2\\\" style=\\\"\\\">https://www.nationalgeographic.com/</td> <td class=\\\"cell-3\\\" style=\\\"\\\">https://www.nationalgeographic.com/loveisoutthere/?utm_medium=Social&utm_campaign=Subaru&utm_source=Facebook&utm_content=loveisoutthere&kwp_0=548930</td></tr>\\n<tr><td class=\\\"cell-1\\\" style=\\\"text-align:right;\\\">305</td> <td class=\\\"cell-2\\\" style=\\\"\\\">https://www.nationalgeographic.com/</td> <td class=\\\"cell-3\\\" style=\\\"\\\">https://www.nationalgeographic.com/seo.jpg</td></tr>\\n<tr><td class=\\\"cell-1\\\" style=\\\"text-align:right;\\\">271</td> <td class=\\\"cell-2\\\" style=\\\"\\\">https://www.nationalgeographic.com/</td> <td class=\\\"cell-3\\\" style=\\\"\\\">https://www.nationalgeographic.com/loveisoutthere/?utm_medium=Social&utm_campaign=Subaru&utm_source=Facebook&utm_content=loveisoutthere&kwp_0=548924&kwp_4=2010119&kwp_1=840171</td></tr>\\n<tr><td class=\\\"cell-1\\\" style=\\\"text-align:right;\\\">270</td> <td class=\\\"cell-2\\\" style=\\\"\\\">https://www.nationalgeographic.com/</td> <td class=\\\"cell-3\\\" style=\\\"\\\">https://www.nationalgeographic.com/loveisoutthere/?utm_medium=Social&utm_campaign=Subaru&utm_source=Facebook&utm_content=loveisoutthere&kwp_0=548930&kwp_4=2010165&kwp_1=840178</td></tr>\\n    \\n    <tr><td class=\\\"cell-1\\\" style=\\\"text-align:right;\\\">263</td> <td class=\\\"cell-2\\\" style=\\\"\\\">https://www.nationalgeographic.com/</td> <td class=\\\"cell-3\\\" style=\\\"\\\">https://www.nationalgeographic.com/loveisoutthere/?utm_medium=Social&utm_campaign=Subaru&utm_source=Facebook&utm_content=loveisoutthere&kwp_0=548925&kwp_4=2010168&kwp_1=840179</td></tr>\\n<tr><td class=\\\"cell-1\\\" style=\\\"text-align:right;\\\">207</td> <td class=\\\"cell-2\\\" style=\\\"\\\">https://www.nationalgeographic.com/</td> <td class=\\\"cell-3\\\" style=\\\"\\\">https://www.nationalgeographic.com/loveisoutthere/?utm_medium=Social&utm_campaign=Subaru&utm_source=Facebook&utm_content=loveisoutthere&kwp_0=548925&kwp_4=2010132&kwp_1=840173</td></tr>\\n<tr><td class=\\\"cell-1\\\" style=\\\"text-align:right;\\\">204</td> <td class=\\\"cell-2\\\" style=\\\"\\\">https://www.nationalgeographic.com/</td> <td class=\\\"cell-3\\\" style=\\\"\\\">https://www.nationalgeographic.com/axaresearchfund/</td></tr>\\n<tr><td class=\\\"cell-1\\\" style=\\\"text-align:right;\\\">195</td> <td class=\\\"cell-2\\\" style=\\\"\\\">https://www.nationalgeographic.com/</td> <td class=\\\"cell-3\\\" style=\\\"\\\">https://www.nationalgeographic.com/loveisoutthere/?utm_medium=Social&utm_campaign=Subaru&utm_source=Facebook&utm_content=loveisoutthere&kwp_0=548929&kwp_4=2010122&kwp_1=840171</td></tr>\\n<tr><td class=\\\"cell-1\\\" style=\\\"text-align:right;\\\">187</td> <td class=\\\"cell-2\\\" style=\\\"\\\">https://www.nationalgeographic.com/</td> <td class=\\\"cell-3\\\" style=\\\"\\\">https://www.nationalgeographic.com/loveisoutthere/?utm_medium=Social&utm_campaign=Subaru&utm_source=Facebook&utm_content=loveisoutthere&kwp_0=548927&kwp_4=2010169&kwp_1=840179</td></tr>\\n<tr><td class=\\\"cell-1\\\" style=\\\"text-align:right;\\\">181</td> <td class=\\\"cell-2\\\" style=\\\"\\\">https://www.nationalgeographic.com/</td> <td class=\\\"cell-3\\\" style=\\\"\\\">https://www.nationalgeographic.com/loveisoutthere/?utm_medium=Social&utm_campaign=Subaru&utm_source=Facebook&utm_content=loveisoutthere&kwp_0=548927&kwp_4=2010163&kwp_1=840178</td></tr>\\n<tr><td class=\\\"cell-1\\\" style=\\\"text-align:right;\\\">170</td> <td class=\\\"cell-2\\\" style=\\\"\\\">https://www.nationalgeographic.com/</td> <td class=\\\"cell-3\\\" style=\\\"\\\">https://www.nationalgeographic.com/backend-proxy/geobee/quiz/today/</td></tr>\\n<tr><td class=\\\"cell-1\\\" style=\\\"text-align:right;\\\">164</td> <td class=\\\"cell-2\\\" style=\\\"\\\">https://www.nationalgeographic.com/</td> <td class=\\\"cell-3\\\" style=\\\"\\\">https://www.nationalgeographic.com/loveisoutthere/?utm_medium=Social&utm_campaign=Subaru&utm_source=Facebook&utm_content=loveisoutthere&kwp_0=548924&kwp_4=2010560&kwp_1=840394</td></tr>\\n<tr><td class=\\\"cell-1\\\" style=\\\"text-align:right;\\\">162</td> <td class=\\\"cell-2\\\" style=\\\"\\\">https://www.nationalgeographic.com/</td> <td class=\\\"cell-3\\\" style=\\\"\\\">https://www.nationalgeographic.com/loveisoutthere/?utm_medium=Social&utm_campaign=Subaru&utm_source=Facebook&utm_content=loveisoutthere&kwp_0=548925&kwp_4=2010138&kwp_1=840174</td></tr>\\n<tr><td class=\\\"cell-1\\\" style=\\\"text-align:right;\\\">152</td> <td class=\\\"cell-2\\\" style=\\\"\\\">https://www.nationalgeographic.com/</td> <td class=\\\"cell-3\\\" style=\\\"\\\">https://www.nationalgeographic.com/loveisoutthere/?utm_medium=Social&utm_campaign=Subaru&utm_source=Facebook&utm_content=loveisoutthere&kwp_0=548919&kwp_4=2010118&kwp_1=840171</td></tr>\\n<tr><td class=\\\"cell-1\\\" style=\\\"text-align:right;\\\">127</td> <td class=\\\"cell-2\\\" style=\\\"\\\">https://www.nationalgeographic.com/</td> <td class=\\\"cell-3\\\" style=\\\"\\\">https://www.nationalgeographic.com/loveisoutthere/?utm_medium=Social&utm_campaign=Subaru&utm_source=Facebook&utm_content=loveisoutthere&kwp_0=548927&kwp_4=2010133&kwp_1=840173</td></tr>\\n<tr><td class=\\\"cell-1\\\" style=\\\"text-align:right;\\\">125</td> <td class=\\\"cell-2\\\" style=\\\"\\\">https://www.nationalgeographic.com/</td> <td class=\\\"cell-3\\\" style=\\\"\\\">https://www.nationalgeographic.com/loveisoutthere/?utm_medium=Social&utm_campaign=Subaru&utm_source=Facebook&utm_content=loveisoutthere&kwp_0=548924&kwp_4=2010161&kwp_1=840178</td></tr>\\n    </tbody>\\n\")"
      ]
     },
     "metadata": {},
     "output_type": "display_data"
    }
   ],
   "source": [
    "test2GNGSSDM(UP,LV)\n",
    ";"
   ]
  },
  {
   "cell_type": "code",
   "execution_count": 7,
   "metadata": {
    "collapsed": false,
    "input_collapsed": false,
    "scrolled": false
   },
   "outputs": [
    {
     "data": {
      "text/html": [
       "    <table  class=\"dataframe-table\">\n",
       "    <thead><tr></tr></thead>\n",
       "    <tbody>\n",
       "    \n",
       "    \n",
       "    \n",
       "    </tbody>\n"
      ],
      "text/plain": [
       "HTML{UTF8String}(\"    <table  class=\\\"dataframe-table\\\">\\n    <thead><tr></tr></thead>\\n    <tbody>\\n    \\n    \\n    \\n    </tbody>\\n\")"
      ]
     },
     "metadata": {},
     "output_type": "display_data"
    }
   ],
   "source": [
    "test3GNGSSDM(UP,LV)\n",
    ";"
   ]
  },
  {
   "cell_type": "code",
   "execution_count": 8,
   "metadata": {
    "collapsed": false,
    "input_collapsed": false
   },
   "outputs": [],
   "source": [
    "q = query(\"\"\" drop view if exists $(UP.btView);\"\"\")\n",
    "q = query(\"\"\" drop view if exists $(UP.rtView);\"\"\")\n",
    ";"
   ]
  }
 ],
 "metadata": {
  "celltoolbar": "Raw Cell Format",
  "kernelspec": {
   "display_name": "Julia 0.4.7",
   "language": "julia",
   "name": "julia-0.4"
  },
  "language_info": {
   "file_extension": ".jl",
   "mimetype": "application/julia",
   "name": "julia",
   "version": "0.4.7"
  },
  "library_version": "1.0.0",
  "notebook_uuid": "952451a4-bb18-4d08-a2e8-694dcf3d9916",
  "readOnly": false
 },
 "nbformat": 4,
 "nbformat_minor": 0
}
