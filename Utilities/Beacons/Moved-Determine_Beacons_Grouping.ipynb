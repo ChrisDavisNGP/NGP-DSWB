{
 "cells": [
  {
   "cell_type": "code",
   "execution_count": 1,
   "metadata": {
    "collapsed": false
   },
   "outputs": [
    {
     "name": "stdout",
     "output_type": "stream",
     "text": [
      "Redshift endpoint set: 2017-11-22T13:03:15\n"
     ]
    },
    {
     "data": {
      "text/plain": [
       "\"beacons_4744\""
      ]
     },
     "execution_count": 1,
     "metadata": {},
     "output_type": "execute_result"
    }
   ],
   "source": [
    "using ODBC\n",
    "using DataFrames\n",
    "using DSWB\n",
    "using Formatting\n",
    "\n",
    "dsn = \"dswb-natgeo\" # Redshift endpoint\n",
    "table = \"beacons_4744\" # beacon table name\n",
    "tableRt = \"beacons_4744_rt\"\n",
    "\n",
    "# Connect to Beacon Data\n",
    "setRedshiftEndpoint(dsn)\n",
    "setTable(table)\n",
    "\n",
    "# setTable(tableRt, tableType = \"RESOURCE_TABLE\")"
   ]
  },
  {
   "cell_type": "code",
   "execution_count": 3,
   "metadata": {
    "collapsed": false,
    "input_collapsed": false
   },
   "outputs": [],
   "source": [
    "include(\"../../Lib/Include-Package-v2.1.jl\")\n",
    ";"
   ]
  },
  {
   "cell_type": "code",
   "execution_count": 4,
   "metadata": {
    "collapsed": false
   },
   "outputs": [
    {
     "data": {
      "text/plain": [
       "(4292,17)"
      ]
     },
     "execution_count": 4,
     "metadata": {},
     "output_type": "execute_result"
    }
   ],
   "source": [
    "short_results = getLatestResults(hours=0, minutes=5, table_name=table)\n",
    "size(short_results)"
   ]
  },
  {
   "cell_type": "code",
   "execution_count": 5,
   "metadata": {
    "collapsed": false,
    "scrolled": false
   },
   "outputs": [
    {
     "data": {
      "text/html": [
       "    <p id=\"progress-0.6775442142737669\"></p>\n",
       "    <script>\n",
       "    function groupResultsProgress(text) {\n",
       "        var p = document.getElementById(\"progress-0.6775442142737669\");\n",
       "        if(p) {\n",
       "            p.innerText = text;\n",
       "        }\n",
       "        var parent = p.parentNode.parentNode.parentNode;\n",
       "        if(parent) {\n",
       "            var divs = parent.getElementsByClassName(\"output_area\");\n",
       "            for(var i=1; i<divs.length; i++) {\n",
       "                divs[i].parentNode.removeChild(divs[i])\n",
       "            }\n",
       "        }\n",
       "    }\n"
      ]
     },
     "metadata": {},
     "output_type": "display_data"
    },
    {
     "data": {
      "text/html": [
       "<script>groupResultsProgress(\"Starting...\");</script>"
      ]
     },
     "metadata": {},
     "output_type": "display_data"
    },
    {
     "data": {
      "text/html": [
       "<script>groupResultsProgress(\"Trying 39 dimension combinations...\");</script>"
      ]
     },
     "metadata": {},
     "output_type": "display_data"
    },
    {
     "data": {
      "text/html": [
       "<script>groupResultsProgress(\"Trying 1/39 (1 candidates)...\");</script>"
      ]
     },
     "metadata": {},
     "output_type": "display_data"
    },
    {
     "data": {
      "text/html": [
       "<script>groupResultsProgress(\"Found candidate: 1/39\");</script>"
      ]
     },
     "metadata": {},
     "output_type": "display_data"
    },
    {
     "data": {
      "text/html": [
       "<script>groupResultsProgress(\"Trying 2/39 (2 candidates)...\");</script>"
      ]
     },
     "metadata": {},
     "output_type": "display_data"
    },
    {
     "data": {
      "text/html": [
       "<script>groupResultsProgress(\"Trying 3/39 (2 candidates)...\");</script>"
      ]
     },
     "metadata": {},
     "output_type": "display_data"
    },
    {
     "data": {
      "text/html": [
       "<script>groupResultsProgress(\"Trying 4/39 (2 candidates)...\");</script>"
      ]
     },
     "metadata": {},
     "output_type": "display_data"
    },
    {
     "data": {
      "text/html": [
       "<script>groupResultsProgress(\"Trying 5/39 (2 candidates)...\");</script>"
      ]
     },
     "metadata": {},
     "output_type": "display_data"
    },
    {
     "data": {
      "text/html": [
       "<script>groupResultsProgress(\"Trying 6/39 (2 candidates)...\");</script>"
      ]
     },
     "metadata": {},
     "output_type": "display_data"
    },
    {
     "data": {
      "text/html": [
       "<script>groupResultsProgress(\"Trying 7/39 (2 candidates)...\");</script>"
      ]
     },
     "metadata": {},
     "output_type": "display_data"
    },
    {
     "data": {
      "text/html": [
       "<script>groupResultsProgress(\"Trying 8/39 (2 candidates)...\");</script>"
      ]
     },
     "metadata": {},
     "output_type": "display_data"
    },
    {
     "data": {
      "text/html": [
       "<script>groupResultsProgress(\"Trying 9/39 (2 candidates)...\");</script>"
      ]
     },
     "metadata": {},
     "output_type": "display_data"
    },
    {
     "data": {
      "text/html": [
       "<script>groupResultsProgress(\"Trying 10/39 (2 candidates)...\");</script>"
      ]
     },
     "metadata": {},
     "output_type": "display_data"
    },
    {
     "data": {
      "text/html": [
       "<script>groupResultsProgress(\"Trying 11/39 (2 candidates)...\");</script>"
      ]
     },
     "metadata": {},
     "output_type": "display_data"
    },
    {
     "data": {
      "text/html": [
       "<script>groupResultsProgress(\"Trying 12/39 (2 candidates)...\");</script>"
      ]
     },
     "metadata": {},
     "output_type": "display_data"
    },
    {
     "data": {
      "text/html": [
       "<script>groupResultsProgress(\"Trying 13/39 (2 candidates)...\");</script>"
      ]
     },
     "metadata": {},
     "output_type": "display_data"
    },
    {
     "data": {
      "text/html": [
       "<script>groupResultsProgress(\"Trying 14/39 (2 candidates)...\");</script>"
      ]
     },
     "metadata": {},
     "output_type": "display_data"
    },
    {
     "data": {
      "text/html": [
       "<script>groupResultsProgress(\"Trying 15/39 (2 candidates)...\");</script>"
      ]
     },
     "metadata": {},
     "output_type": "display_data"
    },
    {
     "data": {
      "text/html": [
       "<script>groupResultsProgress(\"Trying 16/39 (2 candidates)...\");</script>"
      ]
     },
     "metadata": {},
     "output_type": "display_data"
    },
    {
     "data": {
      "text/html": [
       "<script>groupResultsProgress(\"Trying 17/39 (2 candidates)...\");</script>"
      ]
     },
     "metadata": {},
     "output_type": "display_data"
    },
    {
     "data": {
      "text/html": [
       "<script>groupResultsProgress(\"Trying 18/39 (2 candidates)...\");</script>"
      ]
     },
     "metadata": {},
     "output_type": "display_data"
    },
    {
     "data": {
      "text/html": [
       "<script>groupResultsProgress(\"Trying 19/39 (2 candidates)...\");</script>"
      ]
     },
     "metadata": {},
     "output_type": "display_data"
    },
    {
     "data": {
      "text/html": [
       "<script>groupResultsProgress(\"Trying 20/39 (2 candidates)...\");</script>"
      ]
     },
     "metadata": {},
     "output_type": "display_data"
    },
    {
     "data": {
      "text/html": [
       "<script>groupResultsProgress(\"Trying 21/39 (2 candidates)...\");</script>"
      ]
     },
     "metadata": {},
     "output_type": "display_data"
    },
    {
     "data": {
      "text/html": [
       "<script>groupResultsProgress(\"Trying 22/39 (2 candidates)...\");</script>"
      ]
     },
     "metadata": {},
     "output_type": "display_data"
    },
    {
     "data": {
      "text/html": [
       "<script>groupResultsProgress(\"Trying 23/39 (2 candidates)...\");</script>"
      ]
     },
     "metadata": {},
     "output_type": "display_data"
    },
    {
     "data": {
      "text/html": [
       "<script>groupResultsProgress(\"Trying 24/39 (2 candidates)...\");</script>"
      ]
     },
     "metadata": {},
     "output_type": "display_data"
    },
    {
     "data": {
      "text/html": [
       "<script>groupResultsProgress(\"Trying 25/39 (2 candidates)...\");</script>"
      ]
     },
     "metadata": {},
     "output_type": "display_data"
    },
    {
     "data": {
      "text/html": [
       "<script>groupResultsProgress(\"Trying 26/39 (2 candidates)...\");</script>"
      ]
     },
     "metadata": {},
     "output_type": "display_data"
    },
    {
     "data": {
      "text/html": [
       "<script>groupResultsProgress(\"Trying 27/39 (2 candidates)...\");</script>"
      ]
     },
     "metadata": {},
     "output_type": "display_data"
    },
    {
     "data": {
      "text/html": [
       "<script>groupResultsProgress(\"Trying 28/39 (2 candidates)...\");</script>"
      ]
     },
     "metadata": {},
     "output_type": "display_data"
    },
    {
     "data": {
      "text/html": [
       "<script>groupResultsProgress(\"Trying 29/39 (2 candidates)...\");</script>"
      ]
     },
     "metadata": {},
     "output_type": "display_data"
    },
    {
     "data": {
      "text/html": [
       "<script>groupResultsProgress(\"Trying 30/39 (2 candidates)...\");</script>"
      ]
     },
     "metadata": {},
     "output_type": "display_data"
    },
    {
     "data": {
      "text/html": [
       "<script>groupResultsProgress(\"Trying 31/39 (2 candidates)...\");</script>"
      ]
     },
     "metadata": {},
     "output_type": "display_data"
    },
    {
     "data": {
      "text/html": [
       "<script>groupResultsProgress(\"Trying 32/39 (2 candidates)...\");</script>"
      ]
     },
     "metadata": {},
     "output_type": "display_data"
    },
    {
     "data": {
      "text/html": [
       "<script>groupResultsProgress(\"Trying 33/39 (2 candidates)...\");</script>"
      ]
     },
     "metadata": {},
     "output_type": "display_data"
    },
    {
     "data": {
      "text/html": [
       "<script>groupResultsProgress(\"Trying 34/39 (2 candidates)...\");</script>"
      ]
     },
     "metadata": {},
     "output_type": "display_data"
    },
    {
     "data": {
      "text/html": [
       "<script>groupResultsProgress(\"Trying 35/39 (2 candidates)...\");</script>"
      ]
     },
     "metadata": {},
     "output_type": "display_data"
    },
    {
     "data": {
      "text/html": [
       "<script>groupResultsProgress(\"Trying 36/39 (2 candidates)...\");</script>"
      ]
     },
     "metadata": {},
     "output_type": "display_data"
    },
    {
     "data": {
      "text/html": [
       "<script>groupResultsProgress(\"Trying 37/39 (2 candidates)...\");</script>"
      ]
     },
     "metadata": {},
     "output_type": "display_data"
    },
    {
     "data": {
      "text/html": [
       "<script>groupResultsProgress(\"Trying 38/39 (2 candidates)...\");</script>"
      ]
     },
     "metadata": {},
     "output_type": "display_data"
    },
    {
     "data": {
      "text/html": [
       "<script>groupResultsProgress(\"Trying 39/39 (2 candidates)...\");</script>"
      ]
     },
     "metadata": {},
     "output_type": "display_data"
    },
    {
     "data": {
      "text/html": [
       "<script>groupResultsProgress(\"Done: 2 candidates\");</script>"
      ]
     },
     "metadata": {},
     "output_type": "display_data"
    },
    {
     "data": {
      "text/html": [
       "    <table  class=\"dataframe-table\">\n",
       "    <thead><tr><th class=\"cell-1\" style=\"\">name</th> <th class=\"cell-2\" style=\"\">spread</th> <th class=\"cell-3\" style=\"\">n</th> <th class=\"cell-4\" style=\"\">p</th> <th class=\"cell-5\" style=\"\">count</th></tr></thead>\n",
       "    <tbody>\n",
       "    <tr><td class=\"cell-1\" style=\"\"></td> <td class=\"cell-2\" style=\"text-align:right;\">Inf</td> <td class=\"cell-3\" style=\"text-align:right;\">4,292</td> <td class=\"cell-4\" style=\"text-align:right;\">Inf</td> <td class=\"cell-5\" style=\"text-align:right;\">1</td></tr>\n",
       "    \n",
       "    <tr><td class=\"cell-1\" style=\"\">page_group</td> <td class=\"cell-2\" style=\"text-align:right;\">Inf</td> <td class=\"cell-3\" style=\"text-align:right;\">186</td> <td class=\"cell-4\" style=\"text-align:right;\">Inf</td> <td class=\"cell-5\" style=\"text-align:right;\">23</td></tr>\n",
       "    </tbody>\n"
      ],
      "text/plain": [
       "HTML{UTF8String}(\"    <table  class=\\\"dataframe-table\\\">\\n    <thead><tr><th class=\\\"cell-1\\\" style=\\\"\\\">name</th> <th class=\\\"cell-2\\\" style=\\\"\\\">spread</th> <th class=\\\"cell-3\\\" style=\\\"\\\">n</th> <th class=\\\"cell-4\\\" style=\\\"\\\">p</th> <th class=\\\"cell-5\\\" style=\\\"\\\">count</th></tr></thead>\\n    <tbody>\\n    <tr><td class=\\\"cell-1\\\" style=\\\"\\\"></td> <td class=\\\"cell-2\\\" style=\\\"text-align:right;\\\">Inf</td> <td class=\\\"cell-3\\\" style=\\\"text-align:right;\\\">4,292</td> <td class=\\\"cell-4\\\" style=\\\"text-align:right;\\\">Inf</td> <td class=\\\"cell-5\\\" style=\\\"text-align:right;\\\">1</td></tr>\\n    \\n    <tr><td class=\\\"cell-1\\\" style=\\\"\\\">page_group</td> <td class=\\\"cell-2\\\" style=\\\"text-align:right;\\\">Inf</td> <td class=\\\"cell-3\\\" style=\\\"text-align:right;\\\">186</td> <td class=\\\"cell-4\\\" style=\\\"text-align:right;\\\">Inf</td> <td class=\\\"cell-5\\\" style=\\\"text-align:right;\\\">23</td></tr>\\n    </tbody>\\n\")"
      ]
     },
     "metadata": {},
     "output_type": "display_data"
    },
    {
     "name": "stderr",
     "output_type": "stream",
     "text": [
      "\u001b[1m\u001b[31mWARNING: rep{T <: Integer}(x::AbstractVector, lengths::AbstractVector{T}) is deprecated.\u001b[0m\n",
      " in depwarn at deprecated.jl:73\n",
      " in rep at /home/ubuntu/.julia/v0.4/DataArrays/src/deprecated.jl:123\n",
      " in combine at /home/ubuntu/.julia/v0.4/DataFrames/src/groupeddataframe/grouping.jl:213\n",
      " in groupResults at /data/notebook_home/NGP-DSWB-Chris/Lib/Grouping-Package-v2.0.jl:304\n",
      " in include_string at loading.jl:295\n",
      " in execute_request at /home/ubuntu/.julia/v0.4/IJulia/src/execute_request.jl:157\n",
      " in eventloop at /home/ubuntu/.julia/v0.4/IJulia/src/eventloop.jl:8\n",
      " in anonymous at task.jl:447\n",
      "while loading In[5], in expression starting on line 1\n"
     ]
    }
   ],
   "source": [
    "groups, group_summary = groupResults(short_results, dims=2, showProgress=true)\n",
    "beautifyDF(group_summary)"
   ]
  },
  {
   "cell_type": "code",
   "execution_count": 6,
   "metadata": {
    "collapsed": false,
    "scrolled": false
   },
   "outputs": [
    {
     "data": {
      "text/html": [
       "    <p id=\"progress-0.8083032889564827\">Best group dimension(s):  with 4292 groups</p>\n",
       "    <script>\n",
       "    function groupResultsProgress(text) {\n",
       "        var p = document.getElementById(\"progress-0.8083032889564827\");\n",
       "        if(p) {\n",
       "            p.innerText = text;\n",
       "        }\n",
       "        var parent = p.parentNode.parentNode.parentNode;\n",
       "        if(parent) {\n",
       "            var divs = parent.getElementsByClassName(\"output_area\");\n",
       "            for(var i=1; i<divs.length; i++) {\n",
       "                divs[i].parentNode.removeChild(divs[i])\n",
       "            }\n",
       "        }\n",
       "    }\n"
      ]
     },
     "metadata": {},
     "output_type": "display_data"
    },
    {
     "data": {
      "text/html": [
       "    <table  class=\"dataframe-table\">\n",
       "    <thead><tr><th class=\"cell-1\" style=\"\">n</th> <th class=\"cell-2\" style=\"\">median</th> <th class=\"cell-3\" style=\"\">spread</th> <th class=\"cell-4\" style=\"\">p</th> <th class=\"cell-5\" style=\"\">minf</th> <th class=\"cell-6\" style=\"\">low wm</th> <th class=\"cell-7\" style=\"\">p2</th> <th class=\"cell-8\" style=\"\">p25</th> <th class=\"cell-9\" style=\"\">p75</th> <th class=\"cell-10\" style=\"\">p98</th> <th class=\"cell-11\" style=\"\">high wm</th> <th class=\"cell-12\" style=\"\">maxf</th> <th class=\"cell-13\" style=\"\">bytes</th> <th class=\"cell-14\" style=\"\">nodes</th> <th class=\"cell-15\" style=\"\">scripts</th> <th class=\"cell-16\" style=\"\">images</th> <th class=\"cell-17\" style=\"\">page group</th> <th class=\"cell-18\" style=\"\">params u</th> <th class=\"cell-19\" style=\"\">geo cc</th> <th class=\"cell-20\" style=\"\">geo rg</th> <th class=\"cell-21\" style=\"\">geo city</th> <th class=\"cell-22\" style=\"\">geo org</th> <th class=\"cell-23\" style=\"\">geo netspeed</th> <th class=\"cell-24\" style=\"\">user agent family</th> <th class=\"cell-25\" style=\"\">user agent major</th> <th class=\"cell-26\" style=\"\">user agent os</th> <th class=\"cell-27\" style=\"\">user agent osversion</th> <th class=\"cell-28\" style=\"\">user agent model</th></tr></thead>\n",
       "    <tbody>\n",
       "    <tr><td class=\"cell-1\" style=\"text-align:right;\">4,292</td> <td class=\"cell-2\" style=\"text-align:right;\">7,235</td> <td class=\"cell-3\" style=\"text-align:right;\">Inf</td> <td class=\"cell-4\" style=\"text-align:right;\">Inf</td> <td class=\"cell-5\" style=\"text-align:right;\">0</td> <td class=\"cell-6\" style=\"text-align:right;\">0</td> <td class=\"cell-7\" style=\"text-align:right;\">1,500</td> <td class=\"cell-8\" style=\"text-align:right;\">4,214</td> <td class=\"cell-9\" style=\"text-align:right;\">14,129</td> <td class=\"cell-10\" style=\"text-align:right;\">62,873</td> <td class=\"cell-11\" style=\"text-align:right;\">29,001</td> <td class=\"cell-12\" style=\"text-align:right;\">532,083</td> <td class=\"cell-13\" style=\"text-align:right;\">230,550</td> <td class=\"cell-14\" style=\"text-align:right;\">1,360</td> <td class=\"cell-15\" style=\"text-align:right;\">78</td> <td class=\"cell-16\" style=\"text-align:right;\">36</td> <td class=\"cell-17\" style=\"text-align:right;\">23</td> <td class=\"cell-18\" style=\"text-align:right;\">1,957</td> <td class=\"cell-19\" style=\"text-align:right;\">86</td> <td class=\"cell-20\" style=\"text-align:right;\">196</td> <td class=\"cell-21\" style=\"text-align:right;\">1,330</td> <td class=\"cell-22\" style=\"text-align:right;\">729</td> <td class=\"cell-23\" style=\"text-align:right;\">5</td> <td class=\"cell-24\" style=\"text-align:right;\">27</td> <td class=\"cell-25\" style=\"text-align:right;\">79</td> <td class=\"cell-26\" style=\"text-align:right;\">11</td> <td class=\"cell-27\" style=\"text-align:right;\">30</td> <td class=\"cell-28\" style=\"text-align:right;\">21</td></tr>\n",
       "    \n",
       "    \n",
       "    </tbody>\n"
      ],
      "text/plain": [
       "HTML{UTF8String}(\"    <table  class=\\\"dataframe-table\\\">\\n    <thead><tr><th class=\\\"cell-1\\\" style=\\\"\\\">n</th> <th class=\\\"cell-2\\\" style=\\\"\\\">median</th> <th class=\\\"cell-3\\\" style=\\\"\\\">spread</th> <th class=\\\"cell-4\\\" style=\\\"\\\">p</th> <th class=\\\"cell-5\\\" style=\\\"\\\">minf</th> <th class=\\\"cell-6\\\" style=\\\"\\\">low wm</th> <th class=\\\"cell-7\\\" style=\\\"\\\">p2</th> <th class=\\\"cell-8\\\" style=\\\"\\\">p25</th> <th class=\\\"cell-9\\\" style=\\\"\\\">p75</th> <th class=\\\"cell-10\\\" style=\\\"\\\">p98</th> <th class=\\\"cell-11\\\" style=\\\"\\\">high wm</th> <th class=\\\"cell-12\\\" style=\\\"\\\">maxf</th> <th class=\\\"cell-13\\\" style=\\\"\\\">bytes</th> <th class=\\\"cell-14\\\" style=\\\"\\\">nodes</th> <th class=\\\"cell-15\\\" style=\\\"\\\">scripts</th> <th class=\\\"cell-16\\\" style=\\\"\\\">images</th> <th class=\\\"cell-17\\\" style=\\\"\\\">page group</th> <th class=\\\"cell-18\\\" style=\\\"\\\">params u</th> <th class=\\\"cell-19\\\" style=\\\"\\\">geo cc</th> <th class=\\\"cell-20\\\" style=\\\"\\\">geo rg</th> <th class=\\\"cell-21\\\" style=\\\"\\\">geo city</th> <th class=\\\"cell-22\\\" style=\\\"\\\">geo org</th> <th class=\\\"cell-23\\\" style=\\\"\\\">geo netspeed</th> <th class=\\\"cell-24\\\" style=\\\"\\\">user agent family</th> <th class=\\\"cell-25\\\" style=\\\"\\\">user agent major</th> <th class=\\\"cell-26\\\" style=\\\"\\\">user agent os</th> <th class=\\\"cell-27\\\" style=\\\"\\\">user agent osversion</th> <th class=\\\"cell-28\\\" style=\\\"\\\">user agent model</th></tr></thead>\\n    <tbody>\\n    <tr><td class=\\\"cell-1\\\" style=\\\"text-align:right;\\\">4,292</td> <td class=\\\"cell-2\\\" style=\\\"text-align:right;\\\">7,235</td> <td class=\\\"cell-3\\\" style=\\\"text-align:right;\\\">Inf</td> <td class=\\\"cell-4\\\" style=\\\"text-align:right;\\\">Inf</td> <td class=\\\"cell-5\\\" style=\\\"text-align:right;\\\">0</td> <td class=\\\"cell-6\\\" style=\\\"text-align:right;\\\">0</td> <td class=\\\"cell-7\\\" style=\\\"text-align:right;\\\">1,500</td> <td class=\\\"cell-8\\\" style=\\\"text-align:right;\\\">4,214</td> <td class=\\\"cell-9\\\" style=\\\"text-align:right;\\\">14,129</td> <td class=\\\"cell-10\\\" style=\\\"text-align:right;\\\">62,873</td> <td class=\\\"cell-11\\\" style=\\\"text-align:right;\\\">29,001</td> <td class=\\\"cell-12\\\" style=\\\"text-align:right;\\\">532,083</td> <td class=\\\"cell-13\\\" style=\\\"text-align:right;\\\">230,550</td> <td class=\\\"cell-14\\\" style=\\\"text-align:right;\\\">1,360</td> <td class=\\\"cell-15\\\" style=\\\"text-align:right;\\\">78</td> <td class=\\\"cell-16\\\" style=\\\"text-align:right;\\\">36</td> <td class=\\\"cell-17\\\" style=\\\"text-align:right;\\\">23</td> <td class=\\\"cell-18\\\" style=\\\"text-align:right;\\\">1,957</td> <td class=\\\"cell-19\\\" style=\\\"text-align:right;\\\">86</td> <td class=\\\"cell-20\\\" style=\\\"text-align:right;\\\">196</td> <td class=\\\"cell-21\\\" style=\\\"text-align:right;\\\">1,330</td> <td class=\\\"cell-22\\\" style=\\\"text-align:right;\\\">729</td> <td class=\\\"cell-23\\\" style=\\\"text-align:right;\\\">5</td> <td class=\\\"cell-24\\\" style=\\\"text-align:right;\\\">27</td> <td class=\\\"cell-25\\\" style=\\\"text-align:right;\\\">79</td> <td class=\\\"cell-26\\\" style=\\\"text-align:right;\\\">11</td> <td class=\\\"cell-27\\\" style=\\\"text-align:right;\\\">30</td> <td class=\\\"cell-28\\\" style=\\\"text-align:right;\\\">21</td></tr>\\n    \\n    \\n    </tbody>\\n\")"
      ]
     },
     "metadata": {},
     "output_type": "display_data"
    }
   ],
   "source": [
    "gbg = getBestGrouping(short_results, group_summary)\n",
    "beautifyDF(gbg)"
   ]
  },
  {
   "cell_type": "code",
   "execution_count": 7,
   "metadata": {
    "collapsed": false
   },
   "outputs": [
    {
     "data": {
      "text/plain": [
       "(266323,17)"
      ]
     },
     "execution_count": 7,
     "metadata": {},
     "output_type": "execute_result"
    }
   ],
   "source": [
    "soasta_results = getLatestResults(table_name=table, hours=4);\n",
    "size(soasta_results)"
   ]
  },
  {
   "cell_type": "code",
   "execution_count": 8,
   "metadata": {
    "collapsed": false,
    "scrolled": false
   },
   "outputs": [
    {
     "data": {
      "text/html": [
       "    <p id=\"progress-0.7972812403087803\"></p>\n",
       "    <script>\n",
       "    function groupResultsProgress(text) {\n",
       "        var p = document.getElementById(\"progress-0.7972812403087803\");\n",
       "        if(p) {\n",
       "            p.innerText = text;\n",
       "        }\n",
       "        var parent = p.parentNode.parentNode.parentNode;\n",
       "        if(parent) {\n",
       "            var divs = parent.getElementsByClassName(\"output_area\");\n",
       "            for(var i=1; i<divs.length; i++) {\n",
       "                divs[i].parentNode.removeChild(divs[i])\n",
       "            }\n",
       "        }\n",
       "    }\n"
      ]
     },
     "metadata": {},
     "output_type": "display_data"
    },
    {
     "data": {
      "text/html": [
       "<script>groupResultsProgress(\"Starting...\");</script>"
      ]
     },
     "metadata": {},
     "output_type": "display_data"
    },
    {
     "data": {
      "text/html": [
       "<script>groupResultsProgress(\"Trying 39 dimension combinations...\");</script>"
      ]
     },
     "metadata": {},
     "output_type": "display_data"
    },
    {
     "data": {
      "text/html": [
       "<script>groupResultsProgress(\"Trying 1/39 (1 candidates)...\");</script>"
      ]
     },
     "metadata": {},
     "output_type": "display_data"
    },
    {
     "data": {
      "text/html": [
       "<script>groupResultsProgress(\"Found candidate: 1/39\");</script>"
      ]
     },
     "metadata": {},
     "output_type": "display_data"
    },
    {
     "data": {
      "text/html": [
       "<script>groupResultsProgress(\"Trying 2/39 (2 candidates)...\");</script>"
      ]
     },
     "metadata": {},
     "output_type": "display_data"
    },
    {
     "data": {
      "text/html": [
       "<script>groupResultsProgress(\"Trying 3/39 (2 candidates)...\");</script>"
      ]
     },
     "metadata": {},
     "output_type": "display_data"
    },
    {
     "data": {
      "text/html": [
       "<script>groupResultsProgress(\"Trying 4/39 (2 candidates)...\");</script>"
      ]
     },
     "metadata": {},
     "output_type": "display_data"
    },
    {
     "data": {
      "text/html": [
       "<script>groupResultsProgress(\"Trying 5/39 (2 candidates)...\");</script>"
      ]
     },
     "metadata": {},
     "output_type": "display_data"
    },
    {
     "data": {
      "text/html": [
       "<script>groupResultsProgress(\"Trying 6/39 (2 candidates)...\");</script>"
      ]
     },
     "metadata": {},
     "output_type": "display_data"
    },
    {
     "data": {
      "text/html": [
       "<script>groupResultsProgress(\"Trying 7/39 (2 candidates)...\");</script>"
      ]
     },
     "metadata": {},
     "output_type": "display_data"
    },
    {
     "data": {
      "text/html": [
       "<script>groupResultsProgress(\"Trying 8/39 (2 candidates)...\");</script>"
      ]
     },
     "metadata": {},
     "output_type": "display_data"
    },
    {
     "data": {
      "text/html": [
       "<script>groupResultsProgress(\"Trying 9/39 (2 candidates)...\");</script>"
      ]
     },
     "metadata": {},
     "output_type": "display_data"
    },
    {
     "data": {
      "text/html": [
       "<script>groupResultsProgress(\"Trying 10/39 (2 candidates)...\");</script>"
      ]
     },
     "metadata": {},
     "output_type": "display_data"
    },
    {
     "data": {
      "text/html": [
       "<script>groupResultsProgress(\"Trying 11/39 (2 candidates)...\");</script>"
      ]
     },
     "metadata": {},
     "output_type": "display_data"
    },
    {
     "data": {
      "text/html": [
       "<script>groupResultsProgress(\"Trying 12/39 (2 candidates)...\");</script>"
      ]
     },
     "metadata": {},
     "output_type": "display_data"
    },
    {
     "data": {
      "text/html": [
       "<script>groupResultsProgress(\"Trying 13/39 (2 candidates)...\");</script>"
      ]
     },
     "metadata": {},
     "output_type": "display_data"
    },
    {
     "data": {
      "text/html": [
       "<script>groupResultsProgress(\"Trying 14/39 (2 candidates)...\");</script>"
      ]
     },
     "metadata": {},
     "output_type": "display_data"
    },
    {
     "data": {
      "text/html": [
       "<script>groupResultsProgress(\"Trying 15/39 (2 candidates)...\");</script>"
      ]
     },
     "metadata": {},
     "output_type": "display_data"
    },
    {
     "data": {
      "text/html": [
       "<script>groupResultsProgress(\"Trying 16/39 (2 candidates)...\");</script>"
      ]
     },
     "metadata": {},
     "output_type": "display_data"
    },
    {
     "data": {
      "text/html": [
       "<script>groupResultsProgress(\"Trying 17/39 (2 candidates)...\");</script>"
      ]
     },
     "metadata": {},
     "output_type": "display_data"
    },
    {
     "data": {
      "text/html": [
       "<script>groupResultsProgress(\"Trying 18/39 (2 candidates)...\");</script>"
      ]
     },
     "metadata": {},
     "output_type": "display_data"
    },
    {
     "data": {
      "text/html": [
       "<script>groupResultsProgress(\"Trying 19/39 (2 candidates)...\");</script>"
      ]
     },
     "metadata": {},
     "output_type": "display_data"
    },
    {
     "data": {
      "text/html": [
       "<script>groupResultsProgress(\"Trying 20/39 (2 candidates)...\");</script>"
      ]
     },
     "metadata": {},
     "output_type": "display_data"
    },
    {
     "data": {
      "text/html": [
       "<script>groupResultsProgress(\"Trying 21/39 (2 candidates)...\");</script>"
      ]
     },
     "metadata": {},
     "output_type": "display_data"
    },
    {
     "data": {
      "text/html": [
       "<script>groupResultsProgress(\"Trying 22/39 (2 candidates)...\");</script>"
      ]
     },
     "metadata": {},
     "output_type": "display_data"
    },
    {
     "data": {
      "text/html": [
       "<script>groupResultsProgress(\"Trying 23/39 (2 candidates)...\");</script>"
      ]
     },
     "metadata": {},
     "output_type": "display_data"
    },
    {
     "data": {
      "text/html": [
       "<script>groupResultsProgress(\"Trying 24/39 (2 candidates)...\");</script>"
      ]
     },
     "metadata": {},
     "output_type": "display_data"
    },
    {
     "data": {
      "text/html": [
       "<script>groupResultsProgress(\"Trying 25/39 (2 candidates)...\");</script>"
      ]
     },
     "metadata": {},
     "output_type": "display_data"
    },
    {
     "data": {
      "text/html": [
       "<script>groupResultsProgress(\"Trying 26/39 (2 candidates)...\");</script>"
      ]
     },
     "metadata": {},
     "output_type": "display_data"
    },
    {
     "data": {
      "text/html": [
       "<script>groupResultsProgress(\"Trying 27/39 (2 candidates)...\");</script>"
      ]
     },
     "metadata": {},
     "output_type": "display_data"
    },
    {
     "data": {
      "text/html": [
       "<script>groupResultsProgress(\"Trying 28/39 (2 candidates)...\");</script>"
      ]
     },
     "metadata": {},
     "output_type": "display_data"
    },
    {
     "data": {
      "text/html": [
       "<script>groupResultsProgress(\"Trying 29/39 (2 candidates)...\");</script>"
      ]
     },
     "metadata": {},
     "output_type": "display_data"
    },
    {
     "data": {
      "text/html": [
       "<script>groupResultsProgress(\"Trying 30/39 (2 candidates)...\");</script>"
      ]
     },
     "metadata": {},
     "output_type": "display_data"
    },
    {
     "data": {
      "text/html": [
       "<script>groupResultsProgress(\"Trying 31/39 (2 candidates)...\");</script>"
      ]
     },
     "metadata": {},
     "output_type": "display_data"
    },
    {
     "data": {
      "text/html": [
       "<script>groupResultsProgress(\"Trying 32/39 (2 candidates)...\");</script>"
      ]
     },
     "metadata": {},
     "output_type": "display_data"
    },
    {
     "data": {
      "text/html": [
       "<script>groupResultsProgress(\"Trying 33/39 (2 candidates)...\");</script>"
      ]
     },
     "metadata": {},
     "output_type": "display_data"
    },
    {
     "data": {
      "text/html": [
       "<script>groupResultsProgress(\"Trying 34/39 (2 candidates)...\");</script>"
      ]
     },
     "metadata": {},
     "output_type": "display_data"
    },
    {
     "data": {
      "text/html": [
       "<script>groupResultsProgress(\"Trying 35/39 (2 candidates)...\");</script>"
      ]
     },
     "metadata": {},
     "output_type": "display_data"
    },
    {
     "data": {
      "text/html": [
       "<script>groupResultsProgress(\"Trying 36/39 (2 candidates)...\");</script>"
      ]
     },
     "metadata": {},
     "output_type": "display_data"
    },
    {
     "data": {
      "text/html": [
       "<script>groupResultsProgress(\"Trying 37/39 (2 candidates)...\");</script>"
      ]
     },
     "metadata": {},
     "output_type": "display_data"
    },
    {
     "data": {
      "text/html": [
       "<script>groupResultsProgress(\"Trying 38/39 (2 candidates)...\");</script>"
      ]
     },
     "metadata": {},
     "output_type": "display_data"
    },
    {
     "data": {
      "text/html": [
       "<script>groupResultsProgress(\"Trying 39/39 (2 candidates)...\");</script>"
      ]
     },
     "metadata": {},
     "output_type": "display_data"
    },
    {
     "data": {
      "text/html": [
       "<script>groupResultsProgress(\"Done: 2 candidates\");</script>"
      ]
     },
     "metadata": {},
     "output_type": "display_data"
    }
   ],
   "source": [
    "groups, group_summary = groupResults(soasta_results, dims=2, showProgress=true);"
   ]
  },
  {
   "cell_type": "code",
   "execution_count": 9,
   "metadata": {
    "collapsed": false,
    "input_collapsed": false
   },
   "outputs": [
    {
     "data": {
      "text/html": [
       "    <table  class=\"dataframe-table\">\n",
       "    <thead><tr><th class=\"cell-1\" style=\"\">name</th> <th class=\"cell-2\" style=\"\">spread</th> <th class=\"cell-3\" style=\"\">n</th> <th class=\"cell-4\" style=\"\">p</th> <th class=\"cell-5\" style=\"\">count</th></tr></thead>\n",
       "    <tbody>\n",
       "    <tr><td class=\"cell-1\" style=\"\"></td> <td class=\"cell-2\" style=\"text-align:right;\">Inf</td> <td class=\"cell-3\" style=\"text-align:right;\">266,323</td> <td class=\"cell-4\" style=\"text-align:right;\">Inf</td> <td class=\"cell-5\" style=\"text-align:right;\">1</td></tr>\n",
       "    \n",
       "    <tr><td class=\"cell-1\" style=\"\">page_group</td> <td class=\"cell-2\" style=\"text-align:right;\">Inf</td> <td class=\"cell-3\" style=\"text-align:right;\">8,877</td> <td class=\"cell-4\" style=\"text-align:right;\">Inf</td> <td class=\"cell-5\" style=\"text-align:right;\">30</td></tr>\n",
       "    </tbody>\n"
      ],
      "text/plain": [
       "HTML{UTF8String}(\"    <table  class=\\\"dataframe-table\\\">\\n    <thead><tr><th class=\\\"cell-1\\\" style=\\\"\\\">name</th> <th class=\\\"cell-2\\\" style=\\\"\\\">spread</th> <th class=\\\"cell-3\\\" style=\\\"\\\">n</th> <th class=\\\"cell-4\\\" style=\\\"\\\">p</th> <th class=\\\"cell-5\\\" style=\\\"\\\">count</th></tr></thead>\\n    <tbody>\\n    <tr><td class=\\\"cell-1\\\" style=\\\"\\\"></td> <td class=\\\"cell-2\\\" style=\\\"text-align:right;\\\">Inf</td> <td class=\\\"cell-3\\\" style=\\\"text-align:right;\\\">266,323</td> <td class=\\\"cell-4\\\" style=\\\"text-align:right;\\\">Inf</td> <td class=\\\"cell-5\\\" style=\\\"text-align:right;\\\">1</td></tr>\\n    \\n    <tr><td class=\\\"cell-1\\\" style=\\\"\\\">page_group</td> <td class=\\\"cell-2\\\" style=\\\"text-align:right;\\\">Inf</td> <td class=\\\"cell-3\\\" style=\\\"text-align:right;\\\">8,877</td> <td class=\\\"cell-4\\\" style=\\\"text-align:right;\\\">Inf</td> <td class=\\\"cell-5\\\" style=\\\"text-align:right;\\\">30</td></tr>\\n    </tbody>\\n\")"
      ]
     },
     "metadata": {},
     "output_type": "display_data"
    }
   ],
   "source": [
    "beautifyDF(group_summary)"
   ]
  },
  {
   "cell_type": "code",
   "execution_count": 10,
   "metadata": {
    "collapsed": false,
    "input_collapsed": false,
    "scrolled": false
   },
   "outputs": [
    {
     "data": {
      "text/html": [
       "    <p id=\"progress-0.7737717817952752\">Best group dimension(s):  with 266323 groups</p>\n",
       "    <script>\n",
       "    function groupResultsProgress(text) {\n",
       "        var p = document.getElementById(\"progress-0.7737717817952752\");\n",
       "        if(p) {\n",
       "            p.innerText = text;\n",
       "        }\n",
       "        var parent = p.parentNode.parentNode.parentNode;\n",
       "        if(parent) {\n",
       "            var divs = parent.getElementsByClassName(\"output_area\");\n",
       "            for(var i=1; i<divs.length; i++) {\n",
       "                divs[i].parentNode.removeChild(divs[i])\n",
       "            }\n",
       "        }\n",
       "    }\n"
      ]
     },
     "metadata": {},
     "output_type": "display_data"
    },
    {
     "data": {
      "text/html": [
       "    <table  class=\"dataframe-table\">\n",
       "    <thead><tr><th class=\"cell-1\" style=\"\">n</th> <th class=\"cell-2\" style=\"\">median</th> <th class=\"cell-3\" style=\"\">spread</th> <th class=\"cell-4\" style=\"\">p</th> <th class=\"cell-5\" style=\"\">minf</th> <th class=\"cell-6\" style=\"\">low wm</th> <th class=\"cell-7\" style=\"\">p2</th> <th class=\"cell-8\" style=\"\">p25</th> <th class=\"cell-9\" style=\"\">p75</th> <th class=\"cell-10\" style=\"\">p98</th> <th class=\"cell-11\" style=\"\">high wm</th> <th class=\"cell-12\" style=\"\">maxf</th> <th class=\"cell-13\" style=\"\">bytes</th> <th class=\"cell-14\" style=\"\">nodes</th> <th class=\"cell-15\" style=\"\">scripts</th> <th class=\"cell-16\" style=\"\">images</th> <th class=\"cell-17\" style=\"\">page group</th> <th class=\"cell-18\" style=\"\">params u</th> <th class=\"cell-19\" style=\"\">geo cc</th> <th class=\"cell-20\" style=\"\">geo rg</th> <th class=\"cell-21\" style=\"\">geo city</th> <th class=\"cell-22\" style=\"\">geo org</th> <th class=\"cell-23\" style=\"\">geo netspeed</th> <th class=\"cell-24\" style=\"\">user agent family</th> <th class=\"cell-25\" style=\"\">user agent major</th> <th class=\"cell-26\" style=\"\">user agent os</th> <th class=\"cell-27\" style=\"\">user agent osversion</th> <th class=\"cell-28\" style=\"\">user agent model</th></tr></thead>\n",
       "    <tbody>\n",
       "    <tr><td class=\"cell-1\" style=\"text-align:right;\">266,323</td> <td class=\"cell-2\" style=\"text-align:right;\">6,689</td> <td class=\"cell-3\" style=\"text-align:right;\">Inf</td> <td class=\"cell-4\" style=\"text-align:right;\">Inf</td> <td class=\"cell-5\" style=\"text-align:right;\">0</td> <td class=\"cell-6\" style=\"text-align:right;\">0</td> <td class=\"cell-7\" style=\"text-align:right;\">1,407</td> <td class=\"cell-8\" style=\"text-align:right;\">3,967</td> <td class=\"cell-9\" style=\"text-align:right;\">12,771</td> <td class=\"cell-10\" style=\"text-align:right;\">66,477</td> <td class=\"cell-11\" style=\"text-align:right;\">25,977</td> <td class=\"cell-12\" style=\"text-align:right;\">599,547</td> <td class=\"cell-13\" style=\"text-align:right;\">0</td> <td class=\"cell-14\" style=\"text-align:right;\">0</td> <td class=\"cell-15\" style=\"text-align:right;\">0</td> <td class=\"cell-16\" style=\"text-align:right;\">0</td> <td class=\"cell-17\" style=\"text-align:right;\">33</td> <td class=\"cell-18\" style=\"text-align:right;\">55,098</td> <td class=\"cell-19\" style=\"text-align:right;\">203</td> <td class=\"cell-20\" style=\"text-align:right;\">379</td> <td class=\"cell-21\" style=\"text-align:right;\">12,274</td> <td class=\"cell-22\" style=\"text-align:right;\">9,372</td> <td class=\"cell-23\" style=\"text-align:right;\">5</td> <td class=\"cell-24\" style=\"text-align:right;\">56</td> <td class=\"cell-25\" style=\"text-align:right;\">156</td> <td class=\"cell-26\" style=\"text-align:right;\">22</td> <td class=\"cell-27\" style=\"text-align:right;\">95</td> <td class=\"cell-28\" style=\"text-align:right;\">229</td></tr>\n",
       "    \n",
       "    \n",
       "    </tbody>\n"
      ],
      "text/plain": [
       "HTML{UTF8String}(\"    <table  class=\\\"dataframe-table\\\">\\n    <thead><tr><th class=\\\"cell-1\\\" style=\\\"\\\">n</th> <th class=\\\"cell-2\\\" style=\\\"\\\">median</th> <th class=\\\"cell-3\\\" style=\\\"\\\">spread</th> <th class=\\\"cell-4\\\" style=\\\"\\\">p</th> <th class=\\\"cell-5\\\" style=\\\"\\\">minf</th> <th class=\\\"cell-6\\\" style=\\\"\\\">low wm</th> <th class=\\\"cell-7\\\" style=\\\"\\\">p2</th> <th class=\\\"cell-8\\\" style=\\\"\\\">p25</th> <th class=\\\"cell-9\\\" style=\\\"\\\">p75</th> <th class=\\\"cell-10\\\" style=\\\"\\\">p98</th> <th class=\\\"cell-11\\\" style=\\\"\\\">high wm</th> <th class=\\\"cell-12\\\" style=\\\"\\\">maxf</th> <th class=\\\"cell-13\\\" style=\\\"\\\">bytes</th> <th class=\\\"cell-14\\\" style=\\\"\\\">nodes</th> <th class=\\\"cell-15\\\" style=\\\"\\\">scripts</th> <th class=\\\"cell-16\\\" style=\\\"\\\">images</th> <th class=\\\"cell-17\\\" style=\\\"\\\">page group</th> <th class=\\\"cell-18\\\" style=\\\"\\\">params u</th> <th class=\\\"cell-19\\\" style=\\\"\\\">geo cc</th> <th class=\\\"cell-20\\\" style=\\\"\\\">geo rg</th> <th class=\\\"cell-21\\\" style=\\\"\\\">geo city</th> <th class=\\\"cell-22\\\" style=\\\"\\\">geo org</th> <th class=\\\"cell-23\\\" style=\\\"\\\">geo netspeed</th> <th class=\\\"cell-24\\\" style=\\\"\\\">user agent family</th> <th class=\\\"cell-25\\\" style=\\\"\\\">user agent major</th> <th class=\\\"cell-26\\\" style=\\\"\\\">user agent os</th> <th class=\\\"cell-27\\\" style=\\\"\\\">user agent osversion</th> <th class=\\\"cell-28\\\" style=\\\"\\\">user agent model</th></tr></thead>\\n    <tbody>\\n    <tr><td class=\\\"cell-1\\\" style=\\\"text-align:right;\\\">266,323</td> <td class=\\\"cell-2\\\" style=\\\"text-align:right;\\\">6,689</td> <td class=\\\"cell-3\\\" style=\\\"text-align:right;\\\">Inf</td> <td class=\\\"cell-4\\\" style=\\\"text-align:right;\\\">Inf</td> <td class=\\\"cell-5\\\" style=\\\"text-align:right;\\\">0</td> <td class=\\\"cell-6\\\" style=\\\"text-align:right;\\\">0</td> <td class=\\\"cell-7\\\" style=\\\"text-align:right;\\\">1,407</td> <td class=\\\"cell-8\\\" style=\\\"text-align:right;\\\">3,967</td> <td class=\\\"cell-9\\\" style=\\\"text-align:right;\\\">12,771</td> <td class=\\\"cell-10\\\" style=\\\"text-align:right;\\\">66,477</td> <td class=\\\"cell-11\\\" style=\\\"text-align:right;\\\">25,977</td> <td class=\\\"cell-12\\\" style=\\\"text-align:right;\\\">599,547</td> <td class=\\\"cell-13\\\" style=\\\"text-align:right;\\\">0</td> <td class=\\\"cell-14\\\" style=\\\"text-align:right;\\\">0</td> <td class=\\\"cell-15\\\" style=\\\"text-align:right;\\\">0</td> <td class=\\\"cell-16\\\" style=\\\"text-align:right;\\\">0</td> <td class=\\\"cell-17\\\" style=\\\"text-align:right;\\\">33</td> <td class=\\\"cell-18\\\" style=\\\"text-align:right;\\\">55,098</td> <td class=\\\"cell-19\\\" style=\\\"text-align:right;\\\">203</td> <td class=\\\"cell-20\\\" style=\\\"text-align:right;\\\">379</td> <td class=\\\"cell-21\\\" style=\\\"text-align:right;\\\">12,274</td> <td class=\\\"cell-22\\\" style=\\\"text-align:right;\\\">9,372</td> <td class=\\\"cell-23\\\" style=\\\"text-align:right;\\\">5</td> <td class=\\\"cell-24\\\" style=\\\"text-align:right;\\\">56</td> <td class=\\\"cell-25\\\" style=\\\"text-align:right;\\\">156</td> <td class=\\\"cell-26\\\" style=\\\"text-align:right;\\\">22</td> <td class=\\\"cell-27\\\" style=\\\"text-align:right;\\\">95</td> <td class=\\\"cell-28\\\" style=\\\"text-align:right;\\\">229</td></tr>\\n    \\n    \\n    </tbody>\\n\")"
      ]
     },
     "metadata": {},
     "output_type": "display_data"
    }
   ],
   "source": [
    "gbg = getBestGrouping(soasta_results, group_summary)\n",
    "beautifyDF(gbg)"
   ]
  },
  {
   "cell_type": "code",
   "execution_count": null,
   "metadata": {
    "collapsed": true,
    "input_collapsed": false
   },
   "outputs": [],
   "source": []
  }
 ],
 "metadata": {
  "kernelspec": {
   "display_name": "Julia 0.4.7",
   "language": "julia",
   "name": "julia-0.4"
  },
  "language": "Julia",
  "language_info": {
   "file_extension": ".jl",
   "mimetype": "application/julia",
   "name": "julia",
   "version": "0.4.7"
  },
  "library_version": "1.0.0",
  "notebook_uuid": "db4176cd-85f1-4674-99af-0b357b5dfa8a",
  "readOnly": false
 },
 "nbformat": 4,
 "nbformat_minor": 0
}
