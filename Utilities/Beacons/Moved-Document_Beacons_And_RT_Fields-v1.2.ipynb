{
 "cells": [
  {
   "cell_type": "code",
   "execution_count": 1,
   "metadata": {
    "collapsed": false,
    "input_collapsed": false,
    "scrolled": true
   },
   "outputs": [
    {
     "name": "stdout",
     "output_type": "stream",
     "text": [
      "Set Redshift endpoint done. 2017-03-17T11:24:22\n"
     ]
    },
    {
     "data": {
      "text/plain": [
       "\"beacons_4744_rt\""
      ]
     },
     "execution_count": 1,
     "metadata": {},
     "output_type": "execute_result"
    }
   ],
   "source": [
    "using ODBC\n",
    "using DataFrames\n",
    "using DSWB\n",
    "using Formatting\n",
    "\n",
    "dsn = \"dswb-natgeo\" # Redshift esetTable(tableRt, tableType = \"RESOURCE_TABLE\")ndpoint\n",
    "table = \"beacons_4744\" # beacon table name\n",
    "tableRt = \"beacons_4744_rt\"\n",
    "\n",
    "# Connect to Beacon Data\n",
    "setRedshiftEndpoint(dsn)\n",
    "setTable(table)\n",
    "setTable(tableRt, tableType = \"RESOURCE_TABLE\")"
   ]
  },
  {
   "cell_type": "code",
   "execution_count": 2,
   "metadata": {
    "collapsed": true,
    "input_collapsed": false
   },
   "outputs": [],
   "source": [
    "# Packages\n",
    "\n",
    "include(\"../../Lib/Include-Package-v2.1.jl\")\n"
   ]
  },
  {
   "cell_type": "code",
   "execution_count": 3,
   "metadata": {
    "collapsed": false,
    "input_collapsed": false
   },
   "outputs": [
    {
     "data": {
      "text/plain": [
       "\"http://www.nationalgeographic.com/\""
      ]
     },
     "execution_count": 3,
     "metadata": {},
     "output_type": "execute_result"
    }
   ],
   "source": [
    "customer = \"Nat Geo\" \n",
    "productPageGroup = \"Nat Geo Homepage\" # primary page group \n",
    "localTable = \"$(table)_DOC_view\"\n",
    "localTableRt = \"$(tableRt)_DOC_view\"\n",
    "localTableRt = \"$(tableRt)_URL_view_cd\"\n",
    "localUrl = \"%www.nationalgeographic.com/\"\n",
    "localUrlFull = \"http://www.nationalgeographic.com/\""
   ]
  },
  {
   "cell_type": "code",
   "execution_count": 4,
   "metadata": {
    "collapsed": false,
    "input_collapsed": false
   },
   "outputs": [
    {
     "ename": "LoadError",
     "evalue": "LoadError: UndefVarError: startTimeTest not defined\nwhile loading In[4], in expression starting on line 4",
     "output_type": "error",
     "traceback": [
      "LoadError: UndefVarError: startTimeTest not defined\nwhile loading In[4], in expression starting on line 4",
      ""
     ]
    }
   ],
   "source": [
    "# v92 code\n",
    "\n",
    "\n",
    "timeString = \"$(padDateTime(startTimeTest)) to $(padDateTime(endTimeTest))\"\n"
   ]
  },
  {
   "cell_type": "code",
   "execution_count": 5,
   "metadata": {
    "collapsed": false,
    "input_collapsed": false
   },
   "outputs": [
    {
     "name": "stdout",
     "output_type": "stream",
     "text": [
      "March 15, 2017 23:59:59 to March 16, 2017 23:59:59\n"
     ]
    }
   ],
   "source": [
    "firstAndLast = getBeaconsFirstAndLast()\n",
    "endTime = DateTime(firstAndLast[1,2])\n",
    "startTime = DateTime(endTime - Day(1))\n",
    "\n",
    "startTimeMs = datetimeToMs(startTime)\n",
    "endTimeMs = datetimeToMs(endTime)\n",
    "\n",
    "#graphics covering 24 hours or less can use minutes, otherwise try :hours or :days or :seconds depending on how wide the time range is\n",
    "datePart = :minute\n",
    "timeString = \"$(padDateTime(startTime)) to $(padDateTime(endTime))\"\n",
    "println(timeString)"
   ]
  },
  {
   "cell_type": "code",
   "execution_count": 6,
   "metadata": {
    "collapsed": false,
    "input_collapsed": false
   },
   "outputs": [
    {
     "name": "stdout",
     "output_type": "stream",
     "text": [
      "beacons_4744_DOC_view count is 20000\n"
     ]
    }
   ],
   "source": [
    "try\n",
    "    query(\"\"\"\\\n",
    "        drop view if exists $localTable\n",
    "    \"\"\")\n",
    "\n",
    "     query(\"\"\"\\\n",
    "        create or replace view $localTable as \n",
    "            (\n",
    "            select * from $table where \n",
    "                \"timestamp\" between $startTimeMs and \n",
    "                $endTimeMs and \n",
    "                page_group = '$(productPageGroup)' and\n",
    "                params_u = '$(localUrlFull)'\n",
    "                limit 20000\n",
    "            )\n",
    "        \"\"\")\n",
    "\n",
    "    # Some routines use the unload events, some do not.  First count is all beacons such as page view and unload\n",
    "    # where beacon_type = 'page view'\n",
    "    cnt = query(\"\"\"SELECT count(*) FROM $localTable\"\"\")\n",
    "    #Hide output from final report\n",
    "    println(\"$localTable count is \",cnt[1,1])\n",
    "catch y\n",
    "    println(\"Setup Tables Exception \",y)\n",
    "end\n"
   ]
  },
  {
   "cell_type": "code",
   "execution_count": 7,
   "metadata": {
    "collapsed": false,
    "input_collapsed": false,
    "scrolled": true
   },
   "outputs": [
    {
     "data": {
      "text/html": [
       "<div class=\"dswbOutputText\"><h1 class=\"chart_title\" style=\"color:#ccc\">Top URL Page Views for Nat Geo Homepage</h1><h3 class=\"chart_info\" style=\"color:#ccc\">March 15, 2017 23:59:59 to March 16, 2017 23:59:59</h3></div>"
      ]
     },
     "metadata": {},
     "output_type": "display_data"
    },
    {
     "data": {
      "text/html": [
       "<table class=\"data-frame\"><tr><th></th><th>count</th><th>params_u</th></tr><tr><th>1</th><td>18008</td><td>http://www.nationalgeographic.com/</td></tr></table>"
      ],
      "text/plain": [
       "1x2 DataFrames.DataFrame\n",
       "│ Row │ count │ params_u                             │\n",
       "┝━━━━━┿━━━━━━━┿━━━━━━━━━━━━━━━━━━━━━━━━━━━━━━━━━━━━━━┥\n",
       "│ 1   │ 18008 │ \"http://www.nationalgeographic.com/\" │"
      ]
     },
     "execution_count": 7,
     "metadata": {},
     "output_type": "execute_result"
    }
   ],
   "source": [
    "displayTitle(chart_title = \"Top URL Page Views for $(productPageGroup)\", chart_info = [timeString],showTimeStamp=false)\n",
    "\n",
    "query(\"\"\"\\\n",
    "\n",
    "select count(*),params_u\n",
    "FROM $(localTable)\n",
    "where \n",
    "beacon_type = 'page view' \n",
    "group by params_u\n",
    "order by count(*) desc\n",
    "limit 5\n",
    "\n",
    "\"\"\")"
   ]
  },
  {
   "cell_type": "code",
   "execution_count": 8,
   "metadata": {
    "collapsed": false,
    "input_collapsed": false,
    "scrolled": true
   },
   "outputs": [
    {
     "data": {
      "text/html": [
       "<div class=\"dswbOutputText\"><h1 class=\"chart_title\" style=\"color:#ccc\">Top URL Page Views for Nat Geo Homepage</h1><h3 class=\"chart_info\" style=\"color:#ccc\">March 15, 2017 23:59:59 to March 16, 2017 23:59:59</h3></div>"
      ]
     },
     "metadata": {},
     "output_type": "display_data"
    },
    {
     "data": {
      "text/html": [
       "<table class=\"data-frame\"><tr><th></th><th>count</th><th>session_id</th><th>params_u</th></tr><tr><th>1</th><td>596</td><td>NA</td><td>http://www.nationalgeographic.com/</td></tr><tr><th>2</th><td>177</td><td>917f08f4-41b2-46fe-bb19-8c4dcf7b2fa0-omrjpv</td><td>http://www.nationalgeographic.com/</td></tr><tr><th>3</th><td>17</td><td>16d9b5d7-e314-4a1f-a94a-aba878b3873e-omx2p0</td><td>http://www.nationalgeographic.com/</td></tr><tr><th>4</th><td>15</td><td>aaef1dfb-8574-4829-ae1d-8fcac9fd3be1-omwkql</td><td>http://www.nationalgeographic.com/</td></tr><tr><th>5</th><td>15</td><td>682a6025-8b6d-47e8-b9dd-4a523bab42a6-omvymi</td><td>http://www.nationalgeographic.com/</td></tr><tr><th>6</th><td>15</td><td>e80a3e11-b578-4622-90f6-b6c69158ad3a-omvsy0</td><td>http://www.nationalgeographic.com/</td></tr><tr><th>7</th><td>15</td><td>0ddc69ab-6e90-432c-8fe9-0d7ddedac0ba-omwqzj</td><td>http://www.nationalgeographic.com/</td></tr><tr><th>8</th><td>15</td><td>215dc602-4147-48cd-a979-39bb6d650583-omvxdc</td><td>http://www.nationalgeographic.com/</td></tr><tr><th>9</th><td>15</td><td>10c6466c-eb44-4a37-ac3a-9340bef731ce-omxfhm</td><td>http://www.nationalgeographic.com/</td></tr><tr><th>10</th><td>15</td><td>403f603f-1885-4808-ba2f-09015e3d7946-omx63z</td><td>http://www.nationalgeographic.com/</td></tr><tr><th>11</th><td>15</td><td>74ace488-57cf-4613-b906-a15d95e4c403-omwty1</td><td>http://www.nationalgeographic.com/</td></tr><tr><th>12</th><td>15</td><td>f5466437-df02-4dfd-a540-94f3c657fddf-omvubx</td><td>http://www.nationalgeographic.com/</td></tr><tr><th>13</th><td>15</td><td>8674a4d5-b688-4d4b-a789-3b7ccd6f4676-omxm4c</td><td>http://www.nationalgeographic.com/</td></tr><tr><th>14</th><td>15</td><td>2dd581bc-a4f5-4524-a2da-cd3d7e046f26-omvvwp</td><td>http://www.nationalgeographic.com/</td></tr><tr><th>15</th><td>15</td><td>570307d7-872d-4ea3-82f8-ee19fc673cf8-omvu7g</td><td>http://www.nationalgeographic.com/</td></tr><tr><th>16</th><td>15</td><td>67f13b23-cd82-4a53-bd62-281f4f4afe94-omwnvh</td><td>http://www.nationalgeographic.com/</td></tr><tr><th>17</th><td>15</td><td>a155c997-bc8d-4f9e-a2c6-6af981e6a66f-omvxbf</td><td>http://www.nationalgeographic.com/</td></tr><tr><th>18</th><td>15</td><td>56e01301-ea97-4e55-8047-cb3a8e1e24af-omwwyk</td><td>http://www.nationalgeographic.com/</td></tr><tr><th>19</th><td>15</td><td>939fcedd-9431-4389-ba74-e37b23e8ac89-omwzzb</td><td>http://www.nationalgeographic.com/</td></tr><tr><th>20</th><td>15</td><td>ec752761-dd8d-403f-a669-991d0540e6ad-omxfox</td><td>http://www.nationalgeographic.com/</td></tr><tr><th>21</th><td>15</td><td>c75e8cf7-e585-4fff-94ac-d4643cb36baf-omxlef</td><td>http://www.nationalgeographic.com/</td></tr><tr><th>22</th><td>15</td><td>332a07b2-e128-4fee-ab27-94d543323a4f-omxm9z</td><td>http://www.nationalgeographic.com/</td></tr><tr><th>23</th><td>15</td><td>8319f5e3-28e4-46f2-b6bf-564b36952d32-omxisx</td><td>http://www.nationalgeographic.com/</td></tr><tr><th>24</th><td>15</td><td>e1f0cdcf-8b1b-4d7f-a74a-2b678d6ddd7a-omwhn5</td><td>http://www.nationalgeographic.com/</td></tr><tr><th>25</th><td>15</td><td>dc1533c9-187b-4cb6-a82c-99dca682d989-omxiym</td><td>http://www.nationalgeographic.com/</td></tr><tr><th>26</th><td>15</td><td>d50e1b03-7a1d-46a4-abd1-f8fe9c5a2691-omx32x</td><td>http://www.nationalgeographic.com/</td></tr><tr><th>27</th><td>15</td><td>cbeb1cad-fc17-4fbb-9b6b-24d9832581d3-omxfg0</td><td>http://www.nationalgeographic.com/</td></tr><tr><th>28</th><td>15</td><td>5625fa75-27d7-4a4d-8dd7-bc173efbf008-omxih2</td><td>http://www.nationalgeographic.com/</td></tr><tr><th>29</th><td>12</td><td>6080b606-9ddb-48ff-96e0-6fa9e8a83998-omwc7c</td><td>http://www.nationalgeographic.com/</td></tr><tr><th>30</th><td>12</td><td>1002caf5-3b21-43af-b140-2a6c706c4ab5-omwsj7</td><td>http://www.nationalgeographic.com/</td></tr><tr><th>&vellip;</th><td>&vellip;</td><td>&vellip;</td><td>&vellip;</td></tr></table>"
      ],
      "text/plain": [
       "13669x3 DataFrames.DataFrame\n",
       "│ Row   │ count │ session_id                                    │\n",
       "┝━━━━━━━┿━━━━━━━┿━━━━━━━━━━━━━━━━━━━━━━━━━━━━━━━━━━━━━━━━━━━━━━━┥\n",
       "│ 1     │ 596   │ NA                                            │\n",
       "│ 2     │ 177   │ \"917f08f4-41b2-46fe-bb19-8c4dcf7b2fa0-omrjpv\" │\n",
       "│ 3     │ 17    │ \"16d9b5d7-e314-4a1f-a94a-aba878b3873e-omx2p0\" │\n",
       "│ 4     │ 15    │ \"aaef1dfb-8574-4829-ae1d-8fcac9fd3be1-omwkql\" │\n",
       "│ 5     │ 15    │ \"682a6025-8b6d-47e8-b9dd-4a523bab42a6-omvymi\" │\n",
       "│ 6     │ 15    │ \"e80a3e11-b578-4622-90f6-b6c69158ad3a-omvsy0\" │\n",
       "│ 7     │ 15    │ \"0ddc69ab-6e90-432c-8fe9-0d7ddedac0ba-omwqzj\" │\n",
       "│ 8     │ 15    │ \"215dc602-4147-48cd-a979-39bb6d650583-omvxdc\" │\n",
       "│ 9     │ 15    │ \"10c6466c-eb44-4a37-ac3a-9340bef731ce-omxfhm\" │\n",
       "│ 10    │ 15    │ \"403f603f-1885-4808-ba2f-09015e3d7946-omx63z\" │\n",
       "│ 11    │ 15    │ \"74ace488-57cf-4613-b906-a15d95e4c403-omwty1\" │\n",
       "⋮\n",
       "│ 13658 │ 1     │ \"5c0ff7e0-1c4c-46b9-b160-1005da3a8a64-omx6np\" │\n",
       "│ 13659 │ 1     │ \"ad56e18e-254d-417e-8bbc-d5d218ba661b-omx71k\" │\n",
       "│ 13660 │ 1     │ \"e2847ee1-d4f8-4663-88e9-6ee8d9d91d52-omvvam\" │\n",
       "│ 13661 │ 1     │ \"18d49dde-71fc-4464-80a4-3a00c8744037-omx7qn\" │\n",
       "│ 13662 │ 1     │ \"1eb3a810-cd7d-449b-838e-36b8cb677e3f-omvwne\" │\n",
       "│ 13663 │ 1     │ \"0464becc-1150-4acb-a5df-f4bb5066b8b6-omx88f\" │\n",
       "│ 13664 │ 1     │ \"1bcb6faf-8355-41cb-bc7a-d85539c0dccf-omvx2x\" │\n",
       "│ 13665 │ 1     │ \"eda60be8-24ca-4341-a031-06d79c617154-omx8m1\" │\n",
       "│ 13666 │ 1     │ \"fe5c2774-3131-46d8-bea1-1d3e9adb08d4-omvxqf\" │\n",
       "│ 13667 │ 1     │ \"bfaf7384-ecb7-455c-80b3-f7f9d139ed70-omx1p4\" │\n",
       "│ 13668 │ 1     │ \"0be66ceb-0a05-4479-942a-d01a88cff5bb-omx25q\" │\n",
       "│ 13669 │ 1     │ \"be23d96c-e61f-47f9-a9a1-14ede24815c2-omwunz\" │\n",
       "\n",
       "│ Row   │ params_u                             │\n",
       "┝━━━━━━━┿━━━━━━━━━━━━━━━━━━━━━━━━━━━━━━━━━━━━━━┥\n",
       "│ 1     │ \"http://www.nationalgeographic.com/\" │\n",
       "│ 2     │ \"http://www.nationalgeographic.com/\" │\n",
       "│ 3     │ \"http://www.nationalgeographic.com/\" │\n",
       "│ 4     │ \"http://www.nationalgeographic.com/\" │\n",
       "│ 5     │ \"http://www.nationalgeographic.com/\" │\n",
       "│ 6     │ \"http://www.nationalgeographic.com/\" │\n",
       "│ 7     │ \"http://www.nationalgeographic.com/\" │\n",
       "│ 8     │ \"http://www.nationalgeographic.com/\" │\n",
       "│ 9     │ \"http://www.nationalgeographic.com/\" │\n",
       "│ 10    │ \"http://www.nationalgeographic.com/\" │\n",
       "│ 11    │ \"http://www.nationalgeographic.com/\" │\n",
       "⋮\n",
       "│ 13658 │ \"http://www.nationalgeographic.com/\" │\n",
       "│ 13659 │ \"http://www.nationalgeographic.com/\" │\n",
       "│ 13660 │ \"http://www.nationalgeographic.com/\" │\n",
       "│ 13661 │ \"http://www.nationalgeographic.com/\" │\n",
       "│ 13662 │ \"http://www.nationalgeographic.com/\" │\n",
       "│ 13663 │ \"http://www.nationalgeographic.com/\" │\n",
       "│ 13664 │ \"http://www.nationalgeographic.com/\" │\n",
       "│ 13665 │ \"http://www.nationalgeographic.com/\" │\n",
       "│ 13666 │ \"http://www.nationalgeographic.com/\" │\n",
       "│ 13667 │ \"http://www.nationalgeographic.com/\" │\n",
       "│ 13668 │ \"http://www.nationalgeographic.com/\" │\n",
       "│ 13669 │ \"http://www.nationalgeographic.com/\" │"
      ]
     },
     "execution_count": 8,
     "metadata": {},
     "output_type": "execute_result"
    }
   ],
   "source": [
    "displayTitle(chart_title = \"Top URL Page Views for $(productPageGroup)\", chart_info = [timeString],showTimeStamp=false)\n",
    "\n",
    "query(\"\"\"\\\n",
    "\n",
    "select count(*),session_id,params_u\n",
    "FROM $(localTable)\n",
    "where \n",
    "beacon_type = 'page view' and\n",
    "params_u ilike '$(localUrl)'\n",
    "group by params_u,session_id\n",
    "order by count(*) desc\n",
    "\"\"\")"
   ]
  },
  {
   "cell_type": "code",
   "execution_count": 9,
   "metadata": {
    "collapsed": false,
    "input_collapsed": false
   },
   "outputs": [
    {
     "data": {
      "text/plain": [
       "\"ad2fd687-691f-4764-a9bb-2182db03634e-oho76h\""
      ]
     },
     "execution_count": 9,
     "metadata": {},
     "output_type": "execute_result"
    }
   ],
   "source": [
    "sessionId = \"ad2fd687-691f-4764-a9bb-2182db03634e-oho76h\""
   ]
  },
  {
   "cell_type": "code",
   "execution_count": 10,
   "metadata": {
    "collapsed": false,
    "input_collapsed": false,
    "scrolled": true
   },
   "outputs": [
    {
     "data": {
      "text/html": [
       "<div class=\"dswbOutputText\"><h1 class=\"chart_title\" style=\"color:#ccc\">Top URL Page Views for Nat Geo Homepage</h1><h3 class=\"chart_info\" style=\"color:#ccc\">March 15, 2017 23:59:59 to March 16, 2017 23:59:59</h3></div>"
      ]
     },
     "metadata": {},
     "output_type": "display_data"
    },
    {
     "data": {
      "text/html": [
       "<table class=\"data-frame\"><tr><th></th></tr></table>"
      ],
      "text/plain": [
       "0x0 DataFrames.DataFrame\n"
      ]
     },
     "execution_count": 10,
     "metadata": {},
     "output_type": "execute_result"
    }
   ],
   "source": [
    "displayTitle(chart_title = \"Top URL Page Views for $(productPageGroup)\", chart_info = [timeString],showTimeStamp=false)\n",
    "\n",
    "query(\"\"\"\\\n",
    "\n",
    "select count(*),session_id,params_u,\"timestamp\"\n",
    "FROM $(localTable)\n",
    "where \n",
    "beacon_type = 'page view' and\n",
    "session_id = '$sessionId'\n",
    "group by params_u,session_id,\"timestamp\"\n",
    "order by \"timestamp\" asc\n",
    "\"\"\")"
   ]
  },
  {
   "cell_type": "code",
   "execution_count": 11,
   "metadata": {
    "collapsed": false,
    "input_collapsed": false
   },
   "outputs": [],
   "source": [
    "ts = \"('1482106711154','1482106711161','1482107709775')\";"
   ]
  },
  {
   "cell_type": "code",
   "execution_count": 12,
   "metadata": {
    "collapsed": false,
    "input_collapsed": false
   },
   "outputs": [
    {
     "name": "stdout",
     "output_type": "stream",
     "text": [
      "beacons_4744_rt_URL_view_cd count is 0\n"
     ]
    }
   ],
   "source": [
    "    query(\"\"\"\\\n",
    "        drop view if exists $localTableRt\n",
    "    \"\"\")\n",
    "\n",
    "\n",
    "\n",
    "#query(\"\"\"create or replace view $localTableRt as (select * from $tableRt where \"timestamp\" between $startTimeMs and $endTimeMs and (url ilike '$(localUrlRt)' or params_u ilike '$(localUrlRt)'))\"\"\")\n",
    "query(\"\"\"create or replace view $localTableRt as (select * from $tableRt where \"timestamp\" between $startTimeMs and $endTimeMs and session_id = '$sessionId') limit 10000\"\"\")\n",
    "\n",
    "# Some routines use the unload events, some do not.  First count is all beacons such as page view and unload\n",
    "# where beacon_type = 'page view'\n",
    "cnt = query(\"\"\"SELECT count(*) FROM $localTableRt\"\"\")\n",
    "#Hide output from final report\n",
    "println(\"$localTableRt count is \",cnt[1,1])\n"
   ]
  },
  {
   "cell_type": "code",
   "execution_count": 13,
   "metadata": {
    "collapsed": false,
    "input_collapsed": false
   },
   "outputs": [
    {
     "data": {
      "text/html": [
       "<table class=\"data-frame\"><tr><th></th><th>count</th></tr><tr><th>1</th><td>0</td></tr></table>"
      ],
      "text/plain": [
       "1x1 DataFrames.DataFrame\n",
       "│ Row │ count │\n",
       "┝━━━━━┿━━━━━━━┥\n",
       "│ 1   │ 0     │"
      ]
     },
     "metadata": {},
     "output_type": "display_data"
    },
    {
     "data": {
      "text/html": [
       "<table class=\"data-frame\"><tr><th></th><th>count</th></tr><tr><th>1</th><td>0</td></tr></table>"
      ],
      "text/plain": [
       "1x1 DataFrames.DataFrame\n",
       "│ Row │ count │\n",
       "┝━━━━━┿━━━━━━━┥\n",
       "│ 1   │ 0     │"
      ]
     },
     "execution_count": 13,
     "metadata": {},
     "output_type": "execute_result"
    }
   ],
   "source": [
    "sBeacon = query(\"\"\"\\\n",
    "select count(*)\n",
    "from $localTable\n",
    "where session_id = '$(sessionId)' and \"timestamp\" in $(ts)\n",
    "\"\"\")\n",
    "display(sBeacon)\n",
    "\n",
    "sRt = query(\"\"\"\\\n",
    "select count(*)\n",
    "from $localTableRt\n",
    "where session_id = '$(sessionId)' and \"timestamp\" in $(ts)\n",
    "\"\"\")\n"
   ]
  },
  {
   "cell_type": "code",
   "execution_count": 14,
   "metadata": {
    "collapsed": false,
    "input_collapsed": false
   },
   "outputs": [],
   "source": [
    "#methods(beautifyDF)\n",
    "#methodswith(DataArray)\n",
    "#describe(tlfields)"
   ]
  },
  {
   "cell_type": "code",
   "execution_count": 15,
   "metadata": {
    "collapsed": false,
    "input_collapsed": false,
    "scrolled": true
   },
   "outputs": [],
   "source": [
    "#tlfields[:, Bool[ismatch(r\"^session_\", x) for x in tlfields[:column]]]\n",
    "#tlfields[:, :Bool[ismatch(r\"^session_\", x) for x in tlfields[1:1,:]]]\n",
    "#beautifyDF(tlfields[1:1,:session_id])\n",
    "\n",
    "#println(tlfields[1:1,:session_id])\n",
    "#println(tlfields[1:1,:session_isunload])\n",
    "#println(tlfields[1:1,:session_latest])\n",
    "#println(tlfields[1:1,:session_obopages])\n",
    "#println(tlfields[1:1,:session_pages])\n",
    "#println(tlfields[1:1,:session_start])\n",
    "#println(tlfields[1:1,:session_totalloadtime])\n"
   ]
  },
  {
   "cell_type": "code",
   "execution_count": 16,
   "metadata": {
    "collapsed": false,
    "input_collapsed": false,
    "scrolled": true
   },
   "outputs": [
    {
     "data": {
      "text/html": [
       "<div class=\"dswbOutputText\"><h1 class=\"chart_title\" style=\"color:#ccc\">Top Level Fields (1) from Beacon</h1></div>"
      ]
     },
     "metadata": {},
     "output_type": "display_data"
    },
    {
     "data": {
      "text/html": [
       "<table class=\"data-frame\"><tr><th></th></tr></table>"
      ],
      "text/plain": [
       "0x0 DataFrames.DataFrame\n"
      ]
     },
     "execution_count": 16,
     "metadata": {},
     "output_type": "execute_result"
    }
   ],
   "source": [
    "displayTitle(chart_title = \"Top Level Fields (1) from Beacon\", showTimeStamp=false)\n",
    "sessionFields = query(\"\"\"\\\n",
    "select \n",
    "domain,\"timestamp\",key,http_method,http_referrer,http_version,site_version,url\n",
    "from $localTable\n",
    "where session_id = '$(sessionId)' and \"timestamp\" in $(ts)\n",
    "order by \"timestamp\"\n",
    "\"\"\")"
   ]
  },
  {
   "cell_type": "code",
   "execution_count": 17,
   "metadata": {
    "collapsed": false,
    "input_collapsed": false,
    "scrolled": true
   },
   "outputs": [
    {
     "data": {
      "text/html": [
       "<div class=\"dswbOutputText\"><h1 class=\"chart_title\" style=\"color:#ccc\">Top Level Fields (2) from Beacon</h1></div>"
      ]
     },
     "metadata": {},
     "output_type": "display_data"
    },
    {
     "data": {
      "text/html": [
       "<table class=\"data-frame\"><tr><th></th></tr></table>"
      ],
      "text/plain": [
       "0x0 DataFrames.DataFrame\n"
      ]
     },
     "execution_count": 17,
     "metadata": {},
     "output_type": "execute_result"
    }
   ],
   "source": [
    "displayTitle(chart_title = \"Top Level Fields (2) from Beacon\", showTimeStamp=false)\n",
    "sessionFields = query(\"\"\"\\\n",
    "select \n",
    "beacon_type,page_group,remote_ip,proxy_address,\n",
    "errors,warnings,spdy,ssl,ipv6,\n",
    "mobile_connection_type,compression_types,ab_test\n",
    "from $localTable\n",
    "where session_id = '$(sessionId)' and \"timestamp\" in $(ts)\n",
    "order by \"timestamp\"\n",
    "\"\"\")"
   ]
  },
  {
   "cell_type": "code",
   "execution_count": 18,
   "metadata": {
    "collapsed": false,
    "input_collapsed": false
   },
   "outputs": [
    {
     "data": {
      "text/html": [
       "<div class=\"dswbOutputText\"><h1 class=\"chart_title\" style=\"color:#ccc\">Session from Beacon</h1></div>"
      ]
     },
     "metadata": {},
     "output_type": "display_data"
    },
    {
     "data": {
      "text/html": [
       "<table class=\"data-frame\"><tr><th></th></tr></table>"
      ],
      "text/plain": [
       "0x0 DataFrames.DataFrame\n"
      ]
     },
     "execution_count": 18,
     "metadata": {},
     "output_type": "execute_result"
    }
   ],
   "source": [
    "displayTitle(chart_title = \"Session from Beacon\", showTimeStamp=false)\n",
    "sessionFields = query(\"\"\"\\\n",
    "select session_id,session_start,session_latest,session_obopages,session_pages,session_totalloadtime,session_isunload\n",
    "from $localTable\n",
    "where session_id = '$(sessionId)' and \"timestamp\" in $(ts)\n",
    "order by \"timestamp\"\n",
    "\"\"\")"
   ]
  },
  {
   "cell_type": "code",
   "execution_count": 19,
   "metadata": {
    "collapsed": false,
    "input_collapsed": false,
    "scrolled": true
   },
   "outputs": [
    {
     "data": {
      "text/html": [
       "<div class=\"dswbOutputText\"><h1 class=\"chart_title\" style=\"color:#ccc\">User Agent Fields from Beacon</h1></div>"
      ]
     },
     "metadata": {},
     "output_type": "display_data"
    },
    {
     "data": {
      "text/html": [
       "<table class=\"data-frame\"><tr><th></th></tr></table>"
      ],
      "text/plain": [
       "0x0 DataFrames.DataFrame\n"
      ]
     },
     "execution_count": 19,
     "metadata": {},
     "output_type": "execute_result"
    }
   ],
   "source": [
    "displayTitle(chart_title = \"User Agent Fields from Beacon\", showTimeStamp=false)\n",
    "sessionFields = query(\"\"\"\\\n",
    "select user_agent_family,user_agent_major,user_agent_minor,user_agent_mobile,user_agent_model,user_agent_os,user_agent_osversion,\n",
    "user_agent_manufacturer,user_agent_device_type,user_agent_isp,params_ua_plt,params_ua_vnd\n",
    "from $localTable\n",
    "where session_id = '$(sessionId)' and \"timestamp\" in $(ts)\n",
    "order by \"timestamp\"\n",
    "\"\"\")"
   ]
  },
  {
   "cell_type": "code",
   "execution_count": 20,
   "metadata": {
    "collapsed": false,
    "input_collapsed": false,
    "scrolled": true
   },
   "outputs": [
    {
     "data": {
      "text/html": [
       "<div class=\"dswbOutputText\"><h1 class=\"chart_title\" style=\"color:#ccc\">User Agent Fields Raw from Beacon</h1></div>"
      ]
     },
     "metadata": {},
     "output_type": "display_data"
    },
    {
     "data": {
      "text/html": [
       "<table class=\"data-frame\"><tr><th></th></tr></table>"
      ],
      "text/plain": [
       "0x0 DataFrames.DataFrame\n"
      ]
     },
     "execution_count": 20,
     "metadata": {},
     "output_type": "execute_result"
    }
   ],
   "source": [
    "displayTitle(chart_title = \"User Agent Fields Raw from Beacon\", showTimeStamp=false)\n",
    "sessionFields = query(\"\"\"\\\n",
    "select user_agent_raw\n",
    "from $localTable\n",
    "where session_id = '$(sessionId)' and \"timestamp\" in $(ts)\n",
    "order by \"timestamp\"\n",
    "\"\"\")"
   ]
  },
  {
   "cell_type": "code",
   "execution_count": 21,
   "metadata": {
    "collapsed": false,
    "input_collapsed": false
   },
   "outputs": [
    {
     "data": {
      "text/html": [
       "<div class=\"dswbOutputText\"><h1 class=\"chart_title\" style=\"color:#ccc\">Geo from Beacon</h1></div>"
      ]
     },
     "metadata": {},
     "output_type": "display_data"
    },
    {
     "data": {
      "text/html": [
       "<table class=\"data-frame\"><tr><th></th></tr></table>"
      ],
      "text/plain": [
       "0x0 DataFrames.DataFrame\n"
      ]
     },
     "execution_count": 21,
     "metadata": {},
     "output_type": "execute_result"
    }
   ],
   "source": [
    "displayTitle(chart_title = \"Geo from Beacon\", showTimeStamp=false)\n",
    "sessionFields = query(\"\"\"\\\n",
    "select geo_cc,geo_city,geo_lat,geo_lon,geo_netspeed,geo_org,geo_postalcode,geo_rg,geo_isp\n",
    "from $localTable\n",
    "where session_id = '$(sessionId)' and \"timestamp\" in $(ts)\n",
    "order by \"timestamp\"\n",
    "\"\"\")"
   ]
  },
  {
   "cell_type": "code",
   "execution_count": 22,
   "metadata": {
    "collapsed": false,
    "input_collapsed": false
   },
   "outputs": [
    {
     "data": {
      "text/html": [
       "<div class=\"dswbOutputText\"><h1 class=\"chart_title\" style=\"color:#ccc\">Bandwidth from Beacon</h1></div>"
      ]
     },
     "metadata": {},
     "output_type": "display_data"
    },
    {
     "data": {
      "text/html": [
       "<table class=\"data-frame\"><tr><th></th></tr></table>"
      ],
      "text/plain": [
       "0x0 DataFrames.DataFrame\n"
      ]
     },
     "execution_count": 22,
     "metadata": {},
     "output_type": "execute_result"
    }
   ],
   "source": [
    "displayTitle(chart_title = \"Bandwidth from Beacon\", showTimeStamp=false)\n",
    "sessionFields = query(\"\"\"\\\n",
    "select bandwidth_kbps,bandwidth_error_pc,bandwidth_block\t\n",
    "from $localTable\n",
    "where \n",
    "session_id = '$(sessionId)' and \"timestamp\" in $(ts)\n",
    "order by \"timestamp\"\n",
    "--and bandwidth_kbps IS NOT NULL\n",
    "\"\"\")"
   ]
  },
  {
   "cell_type": "code",
   "execution_count": 23,
   "metadata": {
    "collapsed": false,
    "input_collapsed": false
   },
   "outputs": [
    {
     "data": {
      "text/html": [
       "<div class=\"dswbOutputText\"><h1 class=\"chart_title\" style=\"color:#ccc\">Timers (T) from Beacon</h1></div>"
      ]
     },
     "metadata": {},
     "output_type": "display_data"
    },
    {
     "data": {
      "text/html": [
       "<table class=\"data-frame\"><tr><th></th></tr></table>"
      ],
      "text/plain": [
       "0x0 DataFrames.DataFrame\n"
      ]
     },
     "metadata": {},
     "output_type": "display_data"
    },
    {
     "name": "stdout",
     "output_type": "stream",
     "text": [
      "times_t_resp = Beacon Back End\n",
      "times_t_page = Beacon Front End\n",
      "times_t_done = Beacon Page Load\n"
     ]
    }
   ],
   "source": [
    "displayTitle(chart_title = \"Timers (T) from Beacon\", showTimeStamp=false)\n",
    "sessionFields = query(\"\"\"\\\n",
    "select \n",
    "timers_t_resp,timers_t_page,timers_t_done,timers_t_domloaded,timers_t_configfb,timers_t_configjs,\n",
    "timers_t_load,timers_t_prerender,timers_t_postrender\n",
    "from $localTable\n",
    "where session_id = '$(sessionId)' and \"timestamp\" in $(ts)\n",
    "order by \"timestamp\"\n",
    "\"\"\");\n",
    "display(sessionFields)\n",
    "println(\"times_t_resp = Beacon Back End\")\n",
    "println(\"times_t_page = Beacon Front End\")\n",
    "println(\"times_t_done = Beacon Page Load\")"
   ]
  },
  {
   "cell_type": "code",
   "execution_count": 24,
   "metadata": {
    "collapsed": false,
    "input_collapsed": false
   },
   "outputs": [
    {
     "data": {
      "text/html": [
       "<div class=\"dswbOutputText\"><h1 class=\"chart_title\" style=\"color:#ccc\">Timers (boomr) from Beacon</h1></div>"
      ]
     },
     "metadata": {},
     "output_type": "display_data"
    },
    {
     "data": {
      "text/html": [
       "<table class=\"data-frame\"><tr><th></th></tr></table>"
      ],
      "text/plain": [
       "0x0 DataFrames.DataFrame\n"
      ]
     },
     "execution_count": 24,
     "metadata": {},
     "output_type": "execute_result"
    }
   ],
   "source": [
    "displayTitle(chart_title = \"Timers (boomr) from Beacon\", showTimeStamp=false)\n",
    "sessionFields = query(\"\"\"\\\n",
    "select \n",
    "timers_boomr_ld,timers_boomr_fb,timers_boomr_lat,timers_boomerang,timers_fb_to_boomr,timers_navst_to_boomr,timers_boomr_to_end\n",
    "from $localTable\n",
    "where session_id = '$(sessionId)' and \"timestamp\" in $(ts)\n",
    "order by \"timestamp\"\n",
    "\"\"\")"
   ]
  },
  {
   "cell_type": "code",
   "execution_count": 25,
   "metadata": {
    "collapsed": false,
    "input_collapsed": false
   },
   "outputs": [
    {
     "data": {
      "text/html": [
       "<div class=\"dswbOutputText\"><h1 class=\"chart_title\" style=\"color:#ccc\">Timers from Beacon</h1></div>"
      ]
     },
     "metadata": {},
     "output_type": "display_data"
    },
    {
     "data": {
      "text/html": [
       "<table class=\"data-frame\"><tr><th></th></tr></table>"
      ],
      "text/plain": [
       "0x0 DataFrames.DataFrame\n"
      ]
     },
     "metadata": {},
     "output_type": "display_data"
    },
    {
     "name": "stdout",
     "output_type": "stream",
     "text": [
      "timers_dns = DNS\n",
      "timers_tcp = TCP\n",
      "timers_ssl = SSL\n",
      "timers_domload = DOM Loading\n",
      "timers_domready = DOM Complete\n",
      "timers_renderstart = First Paint\n",
      "timers_loaded = nt_load_end - nt_nav_st\n"
     ]
    }
   ],
   "source": [
    "displayTitle(chart_title = \"Timers from Beacon\", showTimeStamp=false)\n",
    "sessionFields = query(\"\"\"\\\n",
    "select \n",
    "timers_before_dns,timers_dns,timers_tcp,timers_ssl,timers_domload,timers_domready,timers_renderstart,timers_loaded,timers_missing\n",
    "from $localTable\n",
    "where session_id = '$(sessionId)' and \"timestamp\" in $(ts)\n",
    "order by \"timestamp\"\n",
    "\"\"\");\n",
    "display(sessionFields)\n",
    "println(\"timers_dns = DNS\")\n",
    "println(\"timers_tcp = TCP\")\n",
    "println(\"timers_ssl = SSL\")\n",
    "println(\"timers_domload = DOM Loading\")\n",
    "println(\"timers_domready = DOM Complete\")\n",
    "println(\"timers_renderstart = First Paint\")\n",
    "println(\"timers_loaded = nt_load_end - nt_nav_st\")"
   ]
  },
  {
   "cell_type": "code",
   "execution_count": 26,
   "metadata": {
    "collapsed": false,
    "input_collapsed": false
   },
   "outputs": [
    {
     "data": {
      "text/html": [
       "<div class=\"dswbOutputText\"><h1 class=\"chart_title\" style=\"color:#ccc\">Timers from Beacon</h1></div>"
      ]
     },
     "metadata": {},
     "output_type": "display_data"
    },
    {
     "data": {
      "text/html": [
       "<table class=\"data-frame\"><tr><th></th></tr></table>"
      ],
      "text/plain": [
       "0x0 DataFrames.DataFrame\n"
      ]
     },
     "metadata": {},
     "output_type": "display_data"
    },
    {
     "name": "stdout",
     "output_type": "stream",
     "text": [
      "timers_custom3 = Moat Ad\n",
      "timers_custom4 = DoubleClick\n",
      "timers_custom5 = JS\n",
      "timers_custom6 = CSS\n",
      "timers_custom7 = JPG\n"
     ]
    }
   ],
   "source": [
    "displayTitle(chart_title = \"Timers from Beacon\", showTimeStamp=false)\n",
    "sessionFields = query(\"\"\"\\\n",
    "select timers_custom0,timers_custom1,timers_custom2,timers_custom3,timers_custom4,timers_custom5,timers_custom6,timers_custom7,timers_custom8,timers_custom9\t\n",
    "from $localTable\n",
    "where session_id = '$(sessionId)' and \"timestamp\" in $(ts)\n",
    "order by \"timestamp\"\n",
    "\"\"\");\n",
    "display(sessionFields)\n",
    "println(\"timers_custom3 = Moat Ad\")\n",
    "println(\"timers_custom4 = DoubleClick\")\n",
    "println(\"timers_custom5 = JS\")\n",
    "println(\"timers_custom6 = CSS\")\n",
    "println(\"timers_custom7 = JPG\")"
   ]
  },
  {
   "cell_type": "code",
   "execution_count": 27,
   "metadata": {
    "collapsed": false,
    "input_collapsed": false
   },
   "outputs": [
    {
     "data": {
      "text/html": [
       "<div class=\"dswbOutputText\"><h1 class=\"chart_title\" style=\"color:#ccc\">Custom from Beacon</h1></div>"
      ]
     },
     "metadata": {},
     "output_type": "display_data"
    },
    {
     "data": {
      "text/html": [
       "<table class=\"data-frame\"><tr><th></th></tr></table>"
      ],
      "text/plain": [
       "0x0 DataFrames.DataFrame\n"
      ]
     },
     "execution_count": 27,
     "metadata": {},
     "output_type": "execute_result"
    }
   ],
   "source": [
    "displayTitle(chart_title = \"Custom from Beacon\", showTimeStamp=false)\n",
    "sessionFields = query(\"\"\"\\\n",
    "select\n",
    "custom_metrics_0,custom_metrics_1,custom_metrics_2,custom_metrics_3,custom_metrics_4,custom_metrics_5,custom_metrics_6,custom_metrics_7,custom_metrics_8,custom_metrics_9\t\n",
    "from $localTable\n",
    "where session_id = '$(sessionId)' and \"timestamp\" in $(ts)\n",
    "order by \"timestamp\"\n",
    "\"\"\")"
   ]
  },
  {
   "cell_type": "code",
   "execution_count": 28,
   "metadata": {
    "collapsed": false,
    "input_collapsed": false
   },
   "outputs": [
    {
     "data": {
      "text/html": [
       "<div class=\"dswbOutputText\"><h1 class=\"chart_title\" style=\"color:#ccc\">CloudFlare Headers from Beacon</h1></div>"
      ]
     },
     "metadata": {},
     "output_type": "display_data"
    },
    {
     "data": {
      "text/html": [
       "<table class=\"data-frame\"><tr><th></th></tr></table>"
      ],
      "text/plain": [
       "0x0 DataFrames.DataFrame\n"
      ]
     },
     "execution_count": 28,
     "metadata": {},
     "output_type": "execute_result"
    }
   ],
   "source": [
    "displayTitle(chart_title = \"CloudFlare Headers from Beacon\", showTimeStamp=false)\n",
    "sessionFields = query(\"\"\"\\\n",
    "select\n",
    "headers_cf_visitor,headers_cf_ray,headers_cf_connecting_ip,headers_x_forwarded_for,headers_x_forwarded_proto\n",
    "from $localTable\n",
    "where session_id = '$(sessionId)' and \"timestamp\" in $(ts)\n",
    "order by \"timestamp\"\n",
    "\"\"\")"
   ]
  },
  {
   "cell_type": "code",
   "execution_count": 29,
   "metadata": {
    "collapsed": false,
    "input_collapsed": false
   },
   "outputs": [
    {
     "data": {
      "text/html": [
       "<div class=\"dswbOutputText\"><h1 class=\"chart_title\" style=\"color:#ccc\">HTTP Headers from Beacon</h1></div>"
      ]
     },
     "metadata": {},
     "output_type": "display_data"
    },
    {
     "data": {
      "text/html": [
       "<table class=\"data-frame\"><tr><th></th></tr></table>"
      ],
      "text/plain": [
       "0x0 DataFrames.DataFrame\n"
      ]
     },
     "execution_count": 29,
     "metadata": {},
     "output_type": "execute_result"
    }
   ],
   "source": [
    "displayTitle(chart_title = \"HTTP Headers from Beacon\", showTimeStamp=false)\n",
    "sessionFields = query(\"\"\"\\\n",
    "select\n",
    "headers_connection,headers_host,headers_accept_encoding,headers_accept_language,headers_accept,headers_content_length,headers_various\t\n",
    "from $localTable\n",
    "where session_id = '$(sessionId)' and \"timestamp\" in $(ts)\n",
    "order by \"timestamp\"\n",
    "\"\"\")"
   ]
  },
  {
   "cell_type": "code",
   "execution_count": 30,
   "metadata": {
    "collapsed": false,
    "input_collapsed": false
   },
   "outputs": [
    {
     "data": {
      "text/html": [
       "<div class=\"dswbOutputText\"><h1 class=\"chart_title\" style=\"color:#ccc\">Navigation Timing (1) from Beacon</h1></div>"
      ]
     },
     "metadata": {},
     "output_type": "display_data"
    },
    {
     "data": {
      "text/html": [
       "<table class=\"data-frame\"><tr><th></th></tr></table>"
      ],
      "text/plain": [
       "0x0 DataFrames.DataFrame\n"
      ]
     },
     "execution_count": 30,
     "metadata": {},
     "output_type": "execute_result"
    }
   ],
   "source": [
    "displayTitle(chart_title = \"Navigation Timing (1) from Beacon\", showTimeStamp=false)\n",
    "sessionFields = query(\"\"\"\\\n",
    "select \n",
    "params_nt_nav_type,params_nt_red_cnt,params_nt_spdy,params_nt_cinf\n",
    "from $localTable\n",
    "where session_id = '$(sessionId)' and \"timestamp\" in $(ts)\n",
    "order by \"timestamp\"\n",
    "\"\"\")"
   ]
  },
  {
   "cell_type": "code",
   "execution_count": 31,
   "metadata": {
    "collapsed": false,
    "input_collapsed": false
   },
   "outputs": [
    {
     "data": {
      "text/html": [
       "<div class=\"dswbOutputText\"><h1 class=\"chart_title\" style=\"color:#ccc\">Navigation Timing (2) from Beacon</h1></div>"
      ]
     },
     "metadata": {},
     "output_type": "display_data"
    },
    {
     "data": {
      "text/html": [
       "<table class=\"data-frame\"><tr><th></th></tr></table>"
      ],
      "text/plain": [
       "0x0 DataFrames.DataFrame\n"
      ]
     },
     "execution_count": 31,
     "metadata": {},
     "output_type": "execute_result"
    }
   ],
   "source": [
    "displayTitle(chart_title = \"Navigation Timing (2) from Beacon\", showTimeStamp=false)\n",
    "sessionFields = query(\"\"\"\\\n",
    "select \n",
    "params_nt_nav_st,\n",
    "params_nt_red_st,params_nt_red_end,(params_nt_red_end-params_nt_red_st) red_delta,\n",
    "params_nt_fet_st,\n",
    "params_nt_dns_st,params_nt_dns_end,(params_nt_dns_end-params_nt_dns_st) dns_delta,\n",
    "params_nt_con_st,params_nt_ssl_st,params_nt_con_end,(params_nt_con_end-params_nt_con_st) con_delta\n",
    "from $localTable\n",
    "where session_id = '$(sessionId)' and \"timestamp\" in $(ts)\n",
    "order by \"timestamp\"\n",
    "\"\"\")"
   ]
  },
  {
   "cell_type": "code",
   "execution_count": 32,
   "metadata": {
    "collapsed": false,
    "input_collapsed": false
   },
   "outputs": [
    {
     "data": {
      "text/html": [
       "<div class=\"dswbOutputText\"><h1 class=\"chart_title\" style=\"color:#ccc\">Navigation Timing (3) from Beacon</h1></div>"
      ]
     },
     "metadata": {},
     "output_type": "display_data"
    },
    {
     "data": {
      "text/html": [
       "<table class=\"data-frame\"><tr><th></th></tr></table>"
      ],
      "text/plain": [
       "0x0 DataFrames.DataFrame\n"
      ]
     },
     "execution_count": 32,
     "metadata": {},
     "output_type": "execute_result"
    }
   ],
   "source": [
    "displayTitle(chart_title = \"Navigation Timing (3) from Beacon\", showTimeStamp=false)\n",
    "sessionFields = query(\"\"\"\\\n",
    "select \n",
    "params_nt_req_st,params_nt_res_st,\n",
    "params_nt_unload_st,params_nt_unload_end,\n",
    "params_nt_first_paint,params_nt_domloading,\n",
    "params_nt_res_end\n",
    "from $localTable\n",
    "where session_id = '$(sessionId)' and \"timestamp\" in $(ts)\n",
    "order by \"timestamp\"\n",
    "\"\"\")"
   ]
  },
  {
   "cell_type": "code",
   "execution_count": 33,
   "metadata": {
    "collapsed": false,
    "input_collapsed": false
   },
   "outputs": [
    {
     "data": {
      "text/html": [
       "<div class=\"dswbOutputText\"><h1 class=\"chart_title\" style=\"color:#ccc\">Navigation Timing (4) from Beacon</h1></div>"
      ]
     },
     "metadata": {},
     "output_type": "display_data"
    },
    {
     "data": {
      "text/html": [
       "<table class=\"data-frame\"><tr><th></th></tr></table>"
      ],
      "text/plain": [
       "0x0 DataFrames.DataFrame\n"
      ]
     },
     "execution_count": 33,
     "metadata": {},
     "output_type": "execute_result"
    }
   ],
   "source": [
    "displayTitle(chart_title = \"Navigation Timing (4) from Beacon\", showTimeStamp=false)\n",
    "sessionFields = query(\"\"\"\\\n",
    "select \n",
    "params_nt_domint,params_nt_domcontloaded_st,params_nt_domcontloaded_e,params_nt_domcomp,\n",
    "params_nt_load_st,params_nt_load_end\n",
    "from $localTable\n",
    "where session_id = '$(sessionId)' and \"timestamp\" in $(ts)\n",
    "order by \"timestamp\"\n",
    "\"\"\")"
   ]
  },
  {
   "cell_type": "code",
   "execution_count": 34,
   "metadata": {
    "collapsed": false,
    "input_collapsed": false
   },
   "outputs": [
    {
     "data": {
      "text/html": [
       "<div class=\"dswbOutputText\"><h1 class=\"chart_title\" style=\"color:#ccc\">Boomerang Debug Info from Beacon</h1></div>"
      ]
     },
     "metadata": {},
     "output_type": "display_data"
    },
    {
     "data": {
      "text/html": [
       "<table class=\"data-frame\"><tr><th></th></tr></table>"
      ],
      "text/plain": [
       "0x0 DataFrames.DataFrame\n"
      ]
     },
     "execution_count": 34,
     "metadata": {},
     "output_type": "execute_result"
    }
   ],
   "source": [
    "displayTitle(chart_title = \"Boomerang Debug Info from Beacon\", showTimeStamp=false)\n",
    "sessionFields = query(\"\"\"\\\n",
    "select\n",
    "params_rt_bmr_conen,params_rt_bmr_const,params_rt_bmr_domen,params_rt_bmr_domst,params_rt_bmr_fetst,params_rt_bmr_reqst,params_rt_bmr_resen,params_rt_bmr_resst,params_rt_bmr_secst\n",
    "from $localTable\n",
    "where session_id = '$(sessionId)' and \"timestamp\" in $(ts)\n",
    "order by \"timestamp\"\n",
    "\"\"\")"
   ]
  },
  {
   "cell_type": "code",
   "execution_count": 35,
   "metadata": {
    "collapsed": false,
    "input_collapsed": false
   },
   "outputs": [
    {
     "data": {
      "text/html": [
       "<div class=\"dswbOutputText\"><h1 class=\"chart_title\" style=\"color:#ccc\">Config.js Debug Info from Beacon</h1></div>"
      ]
     },
     "metadata": {},
     "output_type": "display_data"
    },
    {
     "data": {
      "text/html": [
       "<table class=\"data-frame\"><tr><th></th></tr></table>"
      ],
      "text/plain": [
       "0x0 DataFrames.DataFrame\n"
      ]
     },
     "execution_count": 35,
     "metadata": {},
     "output_type": "execute_result"
    }
   ],
   "source": [
    "displayTitle(chart_title = \"Config.js Debug Info from Beacon\", showTimeStamp=false)\n",
    "sessionFields = query(\"\"\"\\\n",
    "select\n",
    "params_rt_cnf_conen,params_rt_cnf_const,params_rt_cnf_domen,params_rt_cnf_domst,params_rt_cnf_fetst,params_rt_cnf_reqst,params_rt_cnf_resen,params_rt_cnf_resst,params_rt_cnf_secst\n",
    "from $localTable\n",
    "where session_id = '$(sessionId)' and \"timestamp\" in $(ts)\n",
    "order by \"timestamp\"\n",
    "\"\"\")"
   ]
  },
  {
   "cell_type": "code",
   "execution_count": 36,
   "metadata": {
    "collapsed": false,
    "input_collapsed": false
   },
   "outputs": [
    {
     "data": {
      "text/html": [
       "<div class=\"dswbOutputText\"><h1 class=\"chart_title\" style=\"color:#ccc\">Debug Info from Beacon</h1></div>"
      ]
     },
     "metadata": {},
     "output_type": "display_data"
    },
    {
     "data": {
      "text/html": [
       "<table class=\"data-frame\"><tr><th></th></tr></table>"
      ],
      "text/plain": [
       "0x0 DataFrames.DataFrame\n"
      ]
     },
     "execution_count": 36,
     "metadata": {},
     "output_type": "execute_result"
    }
   ],
   "source": [
    "displayTitle(chart_title = \"Debug Info from Beacon\", showTimeStamp=false)\n",
    "sessionFields = query(\"\"\"\\\n",
    "select\n",
    "params_rt_abld,params_rt_blstart,params_rt_bstart,params_rt_cstart,params_rt_end,params_rt_ntvu,params_rt_obo,\n",
    "params_rt_quit,params_rt_sh,params_rt_si,params_rt_sl,params_rt_srst,params_rt_start,params_rt_tstart,params_rt_tt,params_rt_ss,\n",
    "params_cmet_mpulseid,params_errors,params_h_t,params_if,params_v,params_h_cr\n",
    "from $localTable\n",
    "where session_id = '$(sessionId)' and \"timestamp\" in $(ts)\n",
    "order by \"timestamp\"\n",
    "\"\"\")"
   ]
  },
  {
   "cell_type": "code",
   "execution_count": 37,
   "metadata": {
    "collapsed": false,
    "input_collapsed": false
   },
   "outputs": [
    {
     "data": {
      "text/html": [
       "<div class=\"dswbOutputText\"><h1 class=\"chart_title\" style=\"color:#ccc\">URL from Beacon</h1></div>"
      ]
     },
     "metadata": {},
     "output_type": "display_data"
    },
    {
     "data": {
      "text/html": [
       "<table class=\"data-frame\"><tr><th></th></tr></table>"
      ],
      "text/plain": [
       "0x0 DataFrames.DataFrame\n"
      ]
     },
     "execution_count": 37,
     "metadata": {},
     "output_type": "execute_result"
    }
   ],
   "source": [
    "displayTitle(chart_title = \"URL from Beacon\", showTimeStamp=false)\n",
    "sessionFields = query(\"\"\"\\\n",
    "select\n",
    "params_u,params_pgu,params_r,params_r2,params_nu\t\n",
    "from $localTable\n",
    "where session_id = '$(sessionId)' and \"timestamp\" in $(ts)\n",
    "order by \"timestamp\"\n",
    "\"\"\")"
   ]
  },
  {
   "cell_type": "code",
   "execution_count": 38,
   "metadata": {
    "collapsed": false,
    "input_collapsed": false
   },
   "outputs": [
    {
     "data": {
      "text/html": [
       "<div class=\"dswbOutputText\"><h1 class=\"chart_title\" style=\"color:#ccc\">Page Structure from Beacon</h1></div>"
      ]
     },
     "metadata": {},
     "output_type": "display_data"
    },
    {
     "data": {
      "text/html": [
       "<table class=\"data-frame\"><tr><th></th></tr></table>"
      ],
      "text/plain": [
       "0x0 DataFrames.DataFrame\n"
      ]
     },
     "metadata": {},
     "output_type": "display_data"
    },
    {
     "name": "stdout",
     "output_type": "stream",
     "text": [
      "params_dom_doms\t\t=\tUnique Domain Count\n",
      "params_dom_img\t\t=\tDOM Images On Page\n",
      "params_dom_img_ext\t=\tDOM Images Ext\n",
      "params_dom_script\t=\tDOM Srcipts On Page\n",
      "params_dom_script_ext\t=\tDOM Scripts Ext\n",
      "params_dom_ln\t\t=\tDOM Nodes On Page\n",
      "params_dom_res\t\t=\tResources in RT\n",
      "params_dom_sz\t\t=\tDOM Size\n"
     ]
    }
   ],
   "source": [
    "displayTitle(chart_title = \"Page Structure from Beacon\", showTimeStamp=false)\n",
    "sessionFields = query(\"\"\"\\\n",
    "select\n",
    "params_dom_doms,params_dom_img,params_dom_img_ext,\n",
    "params_dom_script,params_dom_script_ext,\n",
    "params_dom_ln,params_dom_res,params_dom_sz,params_dom_res_slowest\n",
    "from $localTable\n",
    "where session_id = '$(sessionId)' and \"timestamp\" in $(ts)\n",
    "order by \"timestamp\"\n",
    "\"\"\");\n",
    "display(sessionFields)\n",
    "println(\"params_dom_doms\\t\\t=\\tUnique Domain Count\")\n",
    "println(\"params_dom_img\\t\\t=\\tDOM Images On Page\")\n",
    "println(\"params_dom_img_ext\\t=\\tDOM Images Ext\")\n",
    "println(\"params_dom_script\\t=\\tDOM Srcipts On Page\")\n",
    "println(\"params_dom_script_ext\\t=\\tDOM Scripts Ext\")\n",
    "println(\"params_dom_ln\\t\\t=\\tDOM Nodes On Page\")\n",
    "println(\"params_dom_res\\t\\t=\\tResources in RT\")\n",
    "println(\"params_dom_sz\\t\\t=\\tDOM Size\")\n"
   ]
  },
  {
   "cell_type": "code",
   "execution_count": 39,
   "metadata": {
    "collapsed": false,
    "input_collapsed": false
   },
   "outputs": [
    {
     "data": {
      "text/html": [
       "<div class=\"dswbOutputText\"><h1 class=\"chart_title\" style=\"color:#ccc\">Screen and Device Details from Beacon</h1></div>"
      ]
     },
     "metadata": {},
     "output_type": "display_data"
    },
    {
     "data": {
      "text/html": [
       "<table class=\"data-frame\"><tr><th></th></tr></table>"
      ],
      "text/plain": [
       "0x0 DataFrames.DataFrame\n"
      ]
     },
     "execution_count": 39,
     "metadata": {},
     "output_type": "execute_result"
    }
   ],
   "source": [
    "displayTitle(chart_title = \"Screen and Device Details from Beacon\", showTimeStamp=false)\n",
    "sessionFields = query(\"\"\"\\\n",
    "select\n",
    "params_scr_bpp,params_scr_dpx,params_scr_mtp,params_scr_orn,params_scr_xy,params_mem_total,params_mem_used,params_bat_lvl,params_cpu_cnc\t\n",
    "from $localTable\n",
    "where session_id = '$(sessionId)' and \"timestamp\" in $(ts)\n",
    "order by \"timestamp\"\n",
    "\"\"\")"
   ]
  },
  {
   "cell_type": "code",
   "execution_count": 40,
   "metadata": {
    "collapsed": false,
    "input_collapsed": false
   },
   "outputs": [
    {
     "data": {
      "text/html": [
       "<div class=\"dswbOutputText\"><h1 class=\"chart_title\" style=\"color:#ccc\">Visibility State from Beacon</h1></div>"
      ]
     },
     "metadata": {},
     "output_type": "display_data"
    },
    {
     "data": {
      "text/html": [
       "<table class=\"data-frame\"><tr><th></th></tr></table>"
      ],
      "text/plain": [
       "0x0 DataFrames.DataFrame\n"
      ]
     },
     "execution_count": 40,
     "metadata": {},
     "output_type": "execute_result"
    }
   ],
   "source": [
    "displayTitle(chart_title = \"Visibility State from Beacon\", showTimeStamp=false)\n",
    "sessionFields = query(\"\"\"\\\n",
    "select\n",
    "params_vis_lh,params_vis_lv,params_vis_st\t\n",
    "from $localTable\n",
    "where session_id = '$(sessionId)' and \"timestamp\" in $(ts)\n",
    "order by \"timestamp\"\n",
    "\"\"\")"
   ]
  },
  {
   "cell_type": "code",
   "execution_count": 41,
   "metadata": {
    "collapsed": false,
    "input_collapsed": false
   },
   "outputs": [
    {
     "data": {
      "text/html": [
       "<div class=\"dswbOutputText\"><h1 class=\"chart_title\" style=\"color:#ccc\">XHR Details from Beacon</h1></div>"
      ]
     },
     "metadata": {},
     "output_type": "display_data"
    },
    {
     "data": {
      "text/html": [
       "<table class=\"data-frame\"><tr><th></th></tr></table>"
      ],
      "text/plain": [
       "0x0 DataFrames.DataFrame\n"
      ]
     },
     "execution_count": 41,
     "metadata": {},
     "output_type": "execute_result"
    }
   ],
   "source": [
    "displayTitle(chart_title = \"XHR Details from Beacon\", showTimeStamp=false)\n",
    "sessionFields = query(\"\"\"\\\n",
    "select\n",
    "http_errno,params_http_method,params_http_hdr,params_http_initiator,params_xhr_sync,params_rt_subres\n",
    "from $localTable\n",
    "where session_id = '$(sessionId)' and \"timestamp\" in $(ts)\n",
    "order by \"timestamp\"\n",
    "\"\"\")"
   ]
  },
  {
   "cell_type": "code",
   "execution_count": 42,
   "metadata": {
    "collapsed": false,
    "input_collapsed": false
   },
   "outputs": [
    {
     "data": {
      "text/html": [
       "<div class=\"dswbOutputText\"><h1 class=\"chart_title\" style=\"color:#ccc\">Bandwidth & Latency Details from Beacon</h1></div>"
      ]
     },
     "metadata": {},
     "output_type": "display_data"
    },
    {
     "data": {
      "text/html": [
       "<table class=\"data-frame\"><tr><th></th></tr></table>"
      ],
      "text/plain": [
       "0x0 DataFrames.DataFrame\n"
      ]
     },
     "execution_count": 42,
     "metadata": {},
     "output_type": "execute_result"
    }
   ],
   "source": [
    "displayTitle(chart_title = \"Bandwidth & Latency Details from Beacon\", showTimeStamp=false)\n",
    "sessionFields = query(\"\"\"\\\n",
    "select\n",
    "params_bw_time,params_lat,params_lat_err\n",
    "from $localTable\n",
    "where session_id = '$(sessionId)' and \"timestamp\" in $(ts)\n",
    "order by \"timestamp\"\n",
    "\"\"\")"
   ]
  },
  {
   "cell_type": "code",
   "execution_count": 43,
   "metadata": {
    "collapsed": false,
    "input_collapsed": false
   },
   "outputs": [
    {
     "data": {
      "text/html": [
       "<div class=\"dswbOutputText\"><h1 class=\"chart_title\" style=\"color:#ccc\">Mobile Connection Details from Beacon</h1></div>"
      ]
     },
     "metadata": {},
     "output_type": "display_data"
    },
    {
     "data": {
      "text/html": [
       "<table class=\"data-frame\"><tr><th></th></tr></table>"
      ],
      "text/plain": [
       "0x0 DataFrames.DataFrame\n"
      ]
     },
     "execution_count": 43,
     "metadata": {},
     "output_type": "execute_result"
    }
   ],
   "source": [
    "displayTitle(chart_title = \"Mobile Connection Details from Beacon\", showTimeStamp=false)\n",
    "sessionFields = query(\"\"\"\\\n",
    "select\n",
    "params_mob_ct,params_mob_bw,params_mob_mt\t\n",
    "from $localTable\n",
    "where session_id = '$(sessionId)' and \"timestamp\" in $(ts)\n",
    "order by \"timestamp\"\n",
    "\"\"\")"
   ]
  },
  {
   "cell_type": "code",
   "execution_count": 44,
   "metadata": {
    "collapsed": false,
    "input_collapsed": false
   },
   "outputs": [
    {
     "data": {
      "text/html": [
       "<div class=\"dswbOutputText\"><h1 class=\"chart_title\" style=\"color:#ccc\">Params Custom from Beacon</h1></div>"
      ]
     },
     "metadata": {},
     "output_type": "display_data"
    },
    {
     "data": {
      "text/html": [
       "<table class=\"data-frame\"><tr><th></th></tr></table>"
      ],
      "text/plain": [
       "0x0 DataFrames.DataFrame\n"
      ]
     },
     "execution_count": 44,
     "metadata": {},
     "output_type": "execute_result"
    }
   ],
   "source": [
    "displayTitle(chart_title = \"Params Custom from Beacon\", showTimeStamp=false)\n",
    "sessionFields = query(\"\"\"\\\n",
    "select\n",
    "params_custom0_st,params_custom1_st,params_custom2_st,params_custom3_st,params_custom4_st,params_custom5_st,params_custom6_st,params_custom7_st,params_custom8_st,params_custom9_st\t\n",
    "from $localTable\n",
    "where session_id = '$(sessionId)' and \"timestamp\" in $(ts)\n",
    "order by \"timestamp\"\n",
    "\"\"\")"
   ]
  },
  {
   "cell_type": "code",
   "execution_count": 45,
   "metadata": {
    "collapsed": false,
    "input_collapsed": false
   },
   "outputs": [
    {
     "data": {
      "text/html": [
       "<div class=\"dswbOutputText\"><h1 class=\"chart_title\" style=\"color:#ccc\">Google Analytics from Beacon</h1></div>"
      ]
     },
     "metadata": {},
     "output_type": "display_data"
    },
    {
     "name": "stdout",
     "output_type": "stream",
     "text": [
      "[ODBC] 42703: ERROR: column \"ga_clientid\" does not exist in beacons_4744_doc_view;\n",
      "Error while executing the query\n"
     ]
    },
    {
     "ename": "LoadError",
     "evalue": "LoadError: [ODBC]: SQLExecDirect failed; Return Code: SQL_DEFAULT_ERROR\nwhile loading In[45], in expression starting on line 2",
     "output_type": "error",
     "traceback": [
      "LoadError: [ODBC]: SQLExecDirect failed; Return Code: SQL_DEFAULT_ERROR\nwhile loading In[45], in expression starting on line 2",
      "",
      " in error at ./error.jl:21",
      " in ODBCQueryExecute at /home/ubuntu/.julia/v0.4/ODBC/src/backend.jl:45",
      " in query at /home/ubuntu/.julia/v0.4/ODBC/src/userfacing.jl:46",
      " in query at /home/ubuntu/.julia/v0.4/ODBC/src/userfacing.jl:42"
     ]
    }
   ],
   "source": [
    "displayTitle(chart_title = \"Google Analytics from Beacon\", showTimeStamp=false)\n",
    "sessionFields = query(\"\"\"\\\n",
    "select\n",
    "ga_clientid,ga_utm_source,ga_utm_medium,ga_utm_term,ga_utm_content,ga_utm_campaign\t\n",
    "from $localTable\n",
    "where session_id = '$(sessionId)' and \"timestamp\" in $(ts)\n",
    "order by \"timestamp\"\n",
    "\"\"\")"
   ]
  },
  {
   "cell_type": "code",
   "execution_count": 46,
   "metadata": {
    "collapsed": false,
    "input_collapsed": false
   },
   "outputs": [
    {
     "data": {
      "text/html": [
       "<div class=\"dswbOutputText\"><h1 class=\"chart_title\" style=\"color:#ccc\">AA & IA from Beacon</h1></div>"
      ]
     },
     "metadata": {},
     "output_type": "display_data"
    },
    {
     "name": "stdout",
     "output_type": "stream",
     "text": [
      "[ODBC] 42703: ERROR: column \"aa_aid\" does not exist in beacons_4744_doc_view;\n",
      "Error while executing the query\n"
     ]
    },
    {
     "ename": "LoadError",
     "evalue": "LoadError: [ODBC]: SQLExecDirect failed; Return Code: SQL_DEFAULT_ERROR\nwhile loading In[46], in expression starting on line 2",
     "output_type": "error",
     "traceback": [
      "LoadError: [ODBC]: SQLExecDirect failed; Return Code: SQL_DEFAULT_ERROR\nwhile loading In[46], in expression starting on line 2",
      "",
      " in error at ./error.jl:21",
      " in ODBCQueryExecute at /home/ubuntu/.julia/v0.4/ODBC/src/backend.jl:45",
      " in query at /home/ubuntu/.julia/v0.4/ODBC/src/userfacing.jl:46",
      " in query at /home/ubuntu/.julia/v0.4/ODBC/src/userfacing.jl:42"
     ]
    }
   ],
   "source": [
    "displayTitle(chart_title = \"AA & IA from Beacon\", showTimeStamp=false)\n",
    "sessionFields = query(\"\"\"\\\n",
    "select\n",
    "aa_aid,aa_mid,aa_campaign,ia_coreid,ia_mmc_vendor,ia_mmc_category,ia_mmc_placement,ia_mmc_item\n",
    "from $localTable\n",
    "where session_id = '$(sessionId)' and \"timestamp\" in $(ts)\n",
    "order by \"timestamp\"\n",
    "\"\"\")"
   ]
  },
  {
   "cell_type": "code",
   "execution_count": 47,
   "metadata": {
    "collapsed": false,
    "input_collapsed": false,
    "scrolled": true
   },
   "outputs": [
    {
     "data": {
      "text/html": [
       "<div class=\"dswbOutputText\"><h1 class=\"chart_title\" style=\"color:#ccc\">Customer Dimensions from Beacon</h1></div>"
      ]
     },
     "metadata": {},
     "output_type": "display_data"
    },
    {
     "data": {
      "text/html": [
       "<table class=\"data-frame\"><tr><th></th></tr></table>"
      ],
      "text/plain": [
       "0x0 DataFrames.DataFrame\n"
      ]
     },
     "execution_count": 47,
     "metadata": {},
     "output_type": "execute_result"
    }
   ],
   "source": [
    "displayTitle(chart_title = \"Customer Dimensions from Beacon\", showTimeStamp=false)\n",
    "sessionFields = query(\"\"\"\\\n",
    "select\n",
    "cdim\n",
    "from $localTable\n",
    "where session_id = '$(sessionId)' and \"timestamp\" in $(ts)\n",
    "order by \"timestamp\"\n",
    "\"\"\")"
   ]
  },
  {
   "cell_type": "markdown",
   "metadata": {},
   "source": [
    "***\n",
    "## RT Section\n",
    "***"
   ]
  },
  {
   "cell_type": "code",
   "execution_count": null,
   "metadata": {
    "collapsed": true,
    "input_collapsed": true
   },
   "outputs": [],
   "source": []
  },
  {
   "cell_type": "code",
   "execution_count": 48,
   "metadata": {
    "collapsed": false,
    "input_collapsed": false
   },
   "outputs": [
    {
     "data": {
      "text/html": [
       "<div class=\"dswbOutputText\"><h1 class=\"chart_title\" style=\"color:#ccc\">Matching Records from RT Data</h1></div>"
      ]
     },
     "metadata": {},
     "output_type": "display_data"
    },
    {
     "data": {
      "text/html": [
       "<table class=\"data-frame\"><tr><th></th></tr></table>"
      ],
      "text/plain": [
       "0x0 DataFrames.DataFrame\n"
      ]
     },
     "execution_count": 48,
     "metadata": {},
     "output_type": "execute_result"
    }
   ],
   "source": [
    "displayTitle(chart_title = \"Matching Records from RT Data\", showTimeStamp=false)\n",
    "sessionFields = query(\"\"\"\\\n",
    "select\n",
    "count(*),\"timestamp\", session_id\n",
    "from $localTableRt\n",
    "where session_id = '$(sessionId)' and \"timestamp\" in $(ts)\n",
    "group by session_id,\"timestamp\"\n",
    "order by \"timestamp\"\n",
    "\"\"\")"
   ]
  },
  {
   "cell_type": "code",
   "execution_count": 49,
   "metadata": {
    "collapsed": false,
    "input_collapsed": false,
    "scrolled": false
   },
   "outputs": [
    {
     "data": {
      "text/html": [
       "<div class=\"dswbOutputText\"><h1 class=\"chart_title\" style=\"color:#ccc\">Description Fields from RT Data</h1></div>"
      ]
     },
     "metadata": {},
     "output_type": "display_data"
    },
    {
     "data": {
      "text/html": [
       "<table class=\"data-frame\"><tr><th></th></tr></table>"
      ],
      "text/plain": [
       "0x0 DataFrames.DataFrame\n"
      ]
     },
     "metadata": {},
     "output_type": "display_data"
    }
   ],
   "source": [
    "displayTitle(chart_title = \"Description Fields from RT Data\", showTimeStamp=false)\n",
    "sessionFields = query(\"\"\"\\\n",
    "select\n",
    "session_id,session_start,\"timestamp\",params_u\n",
    "from $localTableRt\n",
    "where session_id = '$(sessionId)' and \"timestamp\" in $(ts)\n",
    "order by \"timestamp\",start_time\n",
    "limit 1000\n",
    "\"\"\")\n",
    "\n",
    "display(sessionFields[1:3,:])\n",
    "#display(sessionFields[31:end,:])\n",
    "#data is all the same except timestamp may vary depending on in clause above"
   ]
  },
  {
   "cell_type": "code",
   "execution_count": 50,
   "metadata": {
    "collapsed": false,
    "input_collapsed": false
   },
   "outputs": [
    {
     "data": {
      "text/html": [
       "<div class=\"dswbOutputText\"><h1 class=\"chart_title\" style=\"color:#ccc\">URL Fields from RT Data</h1></div>"
      ]
     },
     "metadata": {},
     "output_type": "display_data"
    },
    {
     "data": {
      "text/html": [
       "<table class=\"data-frame\"><tr><th></th></tr></table>"
      ],
      "text/plain": [
       "0x0 DataFrames.DataFrame\n"
      ]
     },
     "metadata": {},
     "output_type": "display_data"
    },
    {
     "data": {
      "text/html": [
       "<table class=\"data-frame\"><tr><th></th></tr></table>"
      ],
      "text/plain": [
       "0x0 DataFrames.DataFrame\n"
      ]
     },
     "metadata": {},
     "output_type": "display_data"
    }
   ],
   "source": [
    "displayTitle(chart_title = \"URL Fields from RT Data\", showTimeStamp=false)\n",
    "\n",
    "#todo for loop on all in the \"in\" list\n",
    "#figure out how to do more than 30\n",
    "\n",
    "sessionFields = query(\"\"\"\\\n",
    "select\n",
    "initiator_type, substring(url for position('/' in substring(url from 9)) +7) urlgroup,url\n",
    "from $localTableRt\n",
    "where session_id = '$(sessionId)' and \"timestamp\" in $(ts)\n",
    "order by \"timestamp\",start_time\n",
    "limit 1000\n",
    "\"\"\")\n",
    "\n",
    "display(sessionFields[1:30,:])\n",
    "display(sessionFields[31:end,:])"
   ]
  },
  {
   "cell_type": "code",
   "execution_count": 51,
   "metadata": {
    "collapsed": false,
    "input_collapsed": false
   },
   "outputs": [
    {
     "data": {
      "text/html": [
       "<div class=\"dswbOutputText\"><h1 class=\"chart_title\" style=\"color:#ccc\">Timing from RT Data</h1></div>"
      ]
     },
     "metadata": {},
     "output_type": "display_data"
    },
    {
     "data": {
      "text/html": [
       "<table class=\"data-frame\"><tr><th></th></tr></table>"
      ],
      "text/plain": [
       "0x0 DataFrames.DataFrame\n"
      ]
     },
     "metadata": {},
     "output_type": "display_data"
    },
    {
     "data": {
      "text/html": [
       "<table class=\"data-frame\"><tr><th></th></tr></table>"
      ],
      "text/plain": [
       "0x0 DataFrames.DataFrame\n"
      ]
     },
     "metadata": {},
     "output_type": "display_data"
    }
   ],
   "source": [
    "displayTitle(chart_title = \"Timing from RT Data\", showTimeStamp=false)\n",
    "sessionFields = query(\"\"\"\\\n",
    "select\n",
    "start_time,\n",
    "redirect_start,redirect_end,\n",
    "fetch_start,\n",
    "dns_start,dns_end,\n",
    "tcp_connection_start,secure_connection_start,\n",
    "tcp_connection_end,\n",
    "request_start, response_first_byte,response_last_byte,\n",
    "worker_start\n",
    "from $localTableRt\n",
    "where session_id = '$(sessionId)' and \"timestamp\" in $(ts)\n",
    "order by \"timestamp\",start_time\n",
    "limit 1000\n",
    "\"\"\")\n",
    "display(sessionFields[1:30,:])\n",
    "display(sessionFields[31:end,:])"
   ]
  },
  {
   "cell_type": "code",
   "execution_count": 52,
   "metadata": {
    "collapsed": false,
    "input_collapsed": false,
    "scrolled": false
   },
   "outputs": [
    {
     "data": {
      "text/html": [
       "<div class=\"dswbOutputText\"><h1 class=\"chart_title\" style=\"color:#ccc\">Additional Details from RT Data</h1></div>"
      ]
     },
     "metadata": {},
     "output_type": "display_data"
    },
    {
     "data": {
      "text/html": [
       "<table class=\"data-frame\"><tr><th></th></tr></table>"
      ],
      "text/plain": [
       "0x0 DataFrames.DataFrame\n"
      ]
     },
     "execution_count": 52,
     "metadata": {},
     "output_type": "execute_result"
    }
   ],
   "source": [
    "displayTitle(chart_title = \"Additional Details from RT Data\", showTimeStamp=false)\n",
    "sessionFields = query(\"\"\"\\\n",
    "select\n",
    "encoded_size,transferred_size,decoded_size,height,width,x,y\n",
    "from $localTableRt\n",
    "where session_id = '$(sessionId)' and \"timestamp\" in $(ts)\n",
    "order by start_time\n",
    "limit 1000\n",
    "\"\"\")"
   ]
  },
  {
   "cell_type": "code",
   "execution_count": 53,
   "metadata": {
    "collapsed": false,
    "input_collapsed": false
   },
   "outputs": [
    {
     "data": {
      "text/html": [
       "<table class=\"data-frame\"><tr><th></th></tr></table>"
      ],
      "text/plain": [
       "0x0 DataFrames.DataFrame\n"
      ]
     },
     "execution_count": 53,
     "metadata": {},
     "output_type": "execute_result"
    }
   ],
   "source": [
    "try\n",
    "    query(\"\"\"\\\n",
    "        drop view if exists $localTable\n",
    "    \"\"\")\n",
    "    \n",
    "    query(\"\"\"\\\n",
    "        drop view if exists $localTableRt\n",
    "    \"\"\")\n",
    "\n",
    "catch y\n",
    "    println(\"clean up Exception \",y)\n",
    "end\n"
   ]
  },
  {
   "cell_type": "code",
   "execution_count": null,
   "metadata": {
    "collapsed": true,
    "input_collapsed": true
   },
   "outputs": [],
   "source": []
  }
 ],
 "metadata": {
  "kernelspec": {
   "display_name": "Julia 0.4.7",
   "language": "julia",
   "name": "julia-0.4"
  },
  "language_info": {
   "file_extension": ".jl",
   "mimetype": "application/julia",
   "name": "julia",
   "version": "0.4.7"
  },
  "library_version": "1.0.0",
  "notebook_uuid": "4928f775-af13-4941-a341-2d026a17b2e5",
  "readOnly": false
 },
 "nbformat": 4,
 "nbformat_minor": 0
}
