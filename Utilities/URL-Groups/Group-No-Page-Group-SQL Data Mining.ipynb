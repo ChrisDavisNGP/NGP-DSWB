{
 "cells": [
  {
   "cell_type": "code",
   "execution_count": 1,
   "metadata": {
    "collapsed": false,
    "input_collapsed": false
   },
   "outputs": [
    {
     "name": "stdout",
     "output_type": "stream",
     "text": [
      "Redshift endpoint set: 2017-07-24T17:58:19\n"
     ]
    },
    {
     "data": {
      "text/plain": [
       "\"beacons_4744\""
      ]
     },
     "execution_count": 1,
     "metadata": {},
     "output_type": "execute_result"
    }
   ],
   "source": [
    "using ODBC\n",
    "using DataFrames\n",
    "using DSWB\n",
    "using Formatting\n",
    "\n",
    "dsn = \"dswb-natgeo\" # Redshift endpoint\n",
    "table = \"beacons_4744\" # beacon table name\n",
    "tableRt = \"beacons_4744_rt\"\n",
    "\n",
    "# Connect to Beacon Data\n",
    "setRedshiftEndpoint(dsn)\n",
    "setTable(table)"
   ]
  },
  {
   "cell_type": "code",
   "execution_count": 2,
   "metadata": {
    "collapsed": false,
    "input_collapsed": false,
    "scrolled": true
   },
   "outputs": [
    {
     "name": "stdout",
     "output_type": "stream",
     "text": [
      "July 22, 2017 23:59:00 to July 23, 2017 23:59:00 Local Time\n",
      "July 23, 2017 03:59:00 to July 24, 2017 03:59:00 UTC Time\n"
     ]
    }
   ],
   "source": [
    "include(\"/data/notebook_home/Production/Lib/Include-Package-v1.0.jl\")\n",
    "include(\"/data/notebook_home/Production/Bodies/Group-NatGeo-Site-Sql-Data-Mining-Body-v1.0.jl\")\n",
    "\n",
    "#timeVariables(2017,6,8,10,59,2017,6,8,12,59)\n",
    "weeklyTimeVariables(days=1)\n",
    "#yesterdayTimeVariables()\n",
    ";"
   ]
  },
  {
   "cell_type": "code",
   "execution_count": 3,
   "metadata": {
    "collapsed": false,
    "input_collapsed": false
   },
   "outputs": [],
   "source": [
    "UP = UrlParamsInit()\n",
    "UP.beaconTable = table   #table\n",
    "UP.resourceTable = tableRt\n",
    "UP.btView = \"$(table)_sql_no_page_group_view\"\n",
    "UP.rtView = \"$(tableRt)_sql_no_page_group_view\"\n",
    "UP.pageGroup = \"(No Page Group)\"   #productPageGroup\n",
    "UP.urlRegEx = \"%\"   #localUrl\n",
    "UP.deviceType = \"%\"\n",
    "\n",
    "SG = SoastaGraphsInit()\n",
    "customer = \"Nat Geo\" \n",
    "SG.customer = customer\n",
    "\n",
    "SP = ShowParamsInit()\n",
    "SP.debugLevel = 10;\n",
    "SP.debug = true;\n",
    "SP.showLines = 25\n",
    "\n",
    ";"
   ]
  },
  {
   "cell_type": "code",
   "execution_count": 4,
   "metadata": {
    "collapsed": false,
    "input_collapsed": false
   },
   "outputs": [
    {
     "name": "stdout",
     "output_type": "stream",
     "text": [
      "beacons_4744_sql_no_page_group_view count is 18\n"
     ]
    }
   ],
   "source": [
    "defaultTableGNGSSDM(tv,UP)\n",
    ";"
   ]
  },
  {
   "cell_type": "code",
   "execution_count": 5,
   "metadata": {
    "collapsed": false,
    "input_collapsed": true
   },
   "outputs": [
    {
     "data": {
      "text/html": [
       "    <table  class=\"dataframe-table\">\n",
       "    <thead><tr><th class=\"cell-1\" style=\"\">url</th> <th class=\"cell-2\" style=\"\">count</th></tr></thead>\n",
       "    <tbody>\n",
       "    <tr><td class=\"cell-1\" style=\"\">https://www-s.nationalgeographic.com/</td> <td class=\"cell-2\" style=\"text-align:right;\">7</td></tr>\n",
       "<tr><td class=\"cell-1\" style=\"\">http://relay.nationalgeographic.com/</td> <td class=\"cell-2\" style=\"text-align:right;\">3</td></tr>\n",
       "<tr><td class=\"cell-1\" style=\"\">http://www.nationalgeographic.com/</td> <td class=\"cell-2\" style=\"text-align:right;\">3</td></tr>\n",
       "    \n",
       "    <tr><td class=\"cell-1\" style=\"\">http://channel-beta.nationalgeographic.com/</td> <td class=\"cell-2\" style=\"text-align:right;\">2</td></tr>\n",
       "<tr><td class=\"cell-1\" style=\"\">http://nationalgeographic.com/</td> <td class=\"cell-2\" style=\"text-align:right;\">2</td></tr>\n",
       "<tr><td class=\"cell-1\" style=\"\">http://magma.nationalgeographic.com/</td> <td class=\"cell-2\" style=\"text-align:right;\">1</td></tr>\n",
       "    </tbody>\n"
      ],
      "text/plain": [
       "HTML{UTF8String}(\"    <table  class=\\\"dataframe-table\\\">\\n    <thead><tr><th class=\\\"cell-1\\\" style=\\\"\\\">url</th> <th class=\\\"cell-2\\\" style=\\\"\\\">count</th></tr></thead>\\n    <tbody>\\n    <tr><td class=\\\"cell-1\\\" style=\\\"\\\">https://www-s.nationalgeographic.com/</td> <td class=\\\"cell-2\\\" style=\\\"text-align:right;\\\">7</td></tr>\\n<tr><td class=\\\"cell-1\\\" style=\\\"\\\">http://relay.nationalgeographic.com/</td> <td class=\\\"cell-2\\\" style=\\\"text-align:right;\\\">3</td></tr>\\n<tr><td class=\\\"cell-1\\\" style=\\\"\\\">http://www.nationalgeographic.com/</td> <td class=\\\"cell-2\\\" style=\\\"text-align:right;\\\">3</td></tr>\\n    \\n    <tr><td class=\\\"cell-1\\\" style=\\\"\\\">http://channel-beta.nationalgeographic.com/</td> <td class=\\\"cell-2\\\" style=\\\"text-align:right;\\\">2</td></tr>\\n<tr><td class=\\\"cell-1\\\" style=\\\"\\\">http://nationalgeographic.com/</td> <td class=\\\"cell-2\\\" style=\\\"text-align:right;\\\">2</td></tr>\\n<tr><td class=\\\"cell-1\\\" style=\\\"\\\">http://magma.nationalgeographic.com/</td> <td class=\\\"cell-2\\\" style=\\\"text-align:right;\\\">1</td></tr>\\n    </tbody>\\n\")"
      ]
     },
     "metadata": {},
     "output_type": "display_data"
    }
   ],
   "source": [
    "test1GNGSSDM(UP,SP)\n",
    ";"
   ]
  },
  {
   "cell_type": "code",
   "execution_count": 6,
   "metadata": {
    "collapsed": false,
    "input_collapsed": false
   },
   "outputs": [
    {
     "data": {
      "text/html": [
       "    <table  class=\"dataframe-table\">\n",
       "    <thead><tr><th class=\"cell-1\" style=\"\">count</th> <th class=\"cell-2\" style=\"\">url</th> <th class=\"cell-3\" style=\"\">params u</th></tr></thead>\n",
       "    <tbody>\n",
       "    <tr><td class=\"cell-1\" style=\"text-align:right;\">7</td> <td class=\"cell-2\" style=\"\">https://www-s.nationalgeographic.com/</td> <td class=\"cell-3\" style=\"\">https://www-s.nationalgeographic.com/aem-proxy/</td></tr>\n",
       "<tr><td class=\"cell-1\" style=\"text-align:right;\">3</td> <td class=\"cell-2\" style=\"\">http://relay.nationalgeographic.com/</td> <td class=\"cell-3\" style=\"\">http://relay.nationalgeographic.com/proxy/distribution/public/amp/2016/02/160206-American-trophy-hunting-wildlife-conservation</td></tr>\n",
       "<tr><td class=\"cell-1\" style=\"text-align:right;\">2</td> <td class=\"cell-2\" style=\"\">http://channel-beta.nationalgeographic.com/</td> <td class=\"cell-3\" style=\"\">http://channel-beta.nationalgeographic.com/faq/authentication/authentication</td></tr>\n",
       "<tr><td class=\"cell-1\" style=\"text-align:right;\">1</td> <td class=\"cell-2\" style=\"\">http://magma.nationalgeographic.com/</td> <td class=\"cell-3\" style=\"\">http://magma.nationalgeographic.com/cgi-bin/pearlharbor/memory_book.cgi</td></tr>\n",
       "<tr><td class=\"cell-1\" style=\"text-align:right;\">1</td> <td class=\"cell-2\" style=\"\">http://www.nationalgeographic.com/</td> <td class=\"cell-3\" style=\"\">http://www.nationalgeographic.com/2017/07trypophobia-%20fear/</td></tr>\n",
       "    \n",
       "    <tr><td class=\"cell-1\" style=\"text-align:right;\">1</td> <td class=\"cell-2\" style=\"\">http://www.nationalgeographic.com/</td> <td class=\"cell-3\" style=\"\">http://www.nationalgeographic.com/2017/07trypophobia-%20fear-%20of-%20holes-%20study-%20spd/</td></tr>\n",
       "<tr><td class=\"cell-1\" style=\"text-align:right;\">1</td> <td class=\"cell-2\" style=\"\">http://nationalgeographic.com/</td> <td class=\"cell-3\" style=\"\">http://nationalgeographic.com/about</td></tr>\n",
       "<tr><td class=\"cell-1\" style=\"text-align:right;\">1</td> <td class=\"cell-2\" style=\"\">http://nationalgeographic.com/</td> <td class=\"cell-3\" style=\"\">http://nationalgeographic.com/</td></tr>\n",
       "<tr><td class=\"cell-1\" style=\"text-align:right;\">1</td> <td class=\"cell-2\" style=\"\">http://www.nationalgeographic.com/</td> <td class=\"cell-3\" style=\"\">http://www.nationalgeographic.com/0702/</td></tr>\n",
       "    </tbody>\n"
      ],
      "text/plain": [
       "HTML{UTF8String}(\"    <table  class=\\\"dataframe-table\\\">\\n    <thead><tr><th class=\\\"cell-1\\\" style=\\\"\\\">count</th> <th class=\\\"cell-2\\\" style=\\\"\\\">url</th> <th class=\\\"cell-3\\\" style=\\\"\\\">params u</th></tr></thead>\\n    <tbody>\\n    <tr><td class=\\\"cell-1\\\" style=\\\"text-align:right;\\\">7</td> <td class=\\\"cell-2\\\" style=\\\"\\\">https://www-s.nationalgeographic.com/</td> <td class=\\\"cell-3\\\" style=\\\"\\\">https://www-s.nationalgeographic.com/aem-proxy/</td></tr>\\n<tr><td class=\\\"cell-1\\\" style=\\\"text-align:right;\\\">3</td> <td class=\\\"cell-2\\\" style=\\\"\\\">http://relay.nationalgeographic.com/</td> <td class=\\\"cell-3\\\" style=\\\"\\\">http://relay.nationalgeographic.com/proxy/distribution/public/amp/2016/02/160206-American-trophy-hunting-wildlife-conservation</td></tr>\\n<tr><td class=\\\"cell-1\\\" style=\\\"text-align:right;\\\">2</td> <td class=\\\"cell-2\\\" style=\\\"\\\">http://channel-beta.nationalgeographic.com/</td> <td class=\\\"cell-3\\\" style=\\\"\\\">http://channel-beta.nationalgeographic.com/faq/authentication/authentication</td></tr>\\n<tr><td class=\\\"cell-1\\\" style=\\\"text-align:right;\\\">1</td> <td class=\\\"cell-2\\\" style=\\\"\\\">http://magma.nationalgeographic.com/</td> <td class=\\\"cell-3\\\" style=\\\"\\\">http://magma.nationalgeographic.com/cgi-bin/pearlharbor/memory_book.cgi</td></tr>\\n<tr><td class=\\\"cell-1\\\" style=\\\"text-align:right;\\\">1</td> <td class=\\\"cell-2\\\" style=\\\"\\\">http://www.nationalgeographic.com/</td> <td class=\\\"cell-3\\\" style=\\\"\\\">http://www.nationalgeographic.com/2017/07trypophobia-%20fear/</td></tr>\\n    \\n    <tr><td class=\\\"cell-1\\\" style=\\\"text-align:right;\\\">1</td> <td class=\\\"cell-2\\\" style=\\\"\\\">http://www.nationalgeographic.com/</td> <td class=\\\"cell-3\\\" style=\\\"\\\">http://www.nationalgeographic.com/2017/07trypophobia-%20fear-%20of-%20holes-%20study-%20spd/</td></tr>\\n<tr><td class=\\\"cell-1\\\" style=\\\"text-align:right;\\\">1</td> <td class=\\\"cell-2\\\" style=\\\"\\\">http://nationalgeographic.com/</td> <td class=\\\"cell-3\\\" style=\\\"\\\">http://nationalgeographic.com/about</td></tr>\\n<tr><td class=\\\"cell-1\\\" style=\\\"text-align:right;\\\">1</td> <td class=\\\"cell-2\\\" style=\\\"\\\">http://nationalgeographic.com/</td> <td class=\\\"cell-3\\\" style=\\\"\\\">http://nationalgeographic.com/</td></tr>\\n<tr><td class=\\\"cell-1\\\" style=\\\"text-align:right;\\\">1</td> <td class=\\\"cell-2\\\" style=\\\"\\\">http://www.nationalgeographic.com/</td> <td class=\\\"cell-3\\\" style=\\\"\\\">http://www.nationalgeographic.com/0702/</td></tr>\\n    </tbody>\\n\")"
      ]
     },
     "metadata": {},
     "output_type": "display_data"
    }
   ],
   "source": [
    "test2GNGSSDM(UP,LV)\n",
    ";"
   ]
  },
  {
   "cell_type": "code",
   "execution_count": 7,
   "metadata": {
    "collapsed": false,
    "input_collapsed": false
   },
   "outputs": [
    {
     "data": {
      "text/html": [
       "    <table  class=\"dataframe-table\">\n",
       "    <thead><tr></tr></thead>\n",
       "    <tbody>\n",
       "    \n",
       "    \n",
       "    \n",
       "    </tbody>\n"
      ],
      "text/plain": [
       "HTML{UTF8String}(\"    <table  class=\\\"dataframe-table\\\">\\n    <thead><tr></tr></thead>\\n    <tbody>\\n    \\n    \\n    \\n    </tbody>\\n\")"
      ]
     },
     "metadata": {},
     "output_type": "display_data"
    }
   ],
   "source": [
    "test3GNGSSDM(UP,LV)\n",
    ";"
   ]
  },
  {
   "cell_type": "code",
   "execution_count": 8,
   "metadata": {
    "collapsed": false,
    "input_collapsed": false
   },
   "outputs": [],
   "source": [
    "q = query(\"\"\" drop view if exists $(UP.btView);\"\"\")\n",
    "q = query(\"\"\" drop view if exists $(UP.rtView);\"\"\")\n",
    ";"
   ]
  }
 ],
 "metadata": {
  "celltoolbar": "Raw Cell Format",
  "kernelspec": {
   "display_name": "Julia 0.4.7",
   "language": "julia",
   "name": "julia-0.4"
  },
  "language_info": {
   "file_extension": ".jl",
   "mimetype": "application/julia",
   "name": "julia",
   "version": "0.4.7"
  },
  "library_version": "1.0.0",
  "notebook_uuid": "452e1ce0-1a7e-49c9-a9c4-f645efc06fe9",
  "readOnly": false
 },
 "nbformat": 4,
 "nbformat_minor": 0
}
