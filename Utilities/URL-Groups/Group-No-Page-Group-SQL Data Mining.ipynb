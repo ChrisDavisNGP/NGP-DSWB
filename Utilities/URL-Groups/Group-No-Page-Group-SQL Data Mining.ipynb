{
 "cells": [
  {
   "cell_type": "code",
   "execution_count": 1,
   "metadata": {
    "collapsed": false,
    "input_collapsed": false
   },
   "outputs": [
    {
     "name": "stdout",
     "output_type": "stream",
     "text": [
      "Redshift endpoint set: 2017-11-28T08:11:00\n"
     ]
    }
   ],
   "source": [
    "using ODBC\n",
    "using DataFrames\n",
    "using DSWB\n",
    "using Formatting\n",
    "\n",
    "dsn = \"dswb-natgeo\" # Redshift endpoint\n",
    "table = \"beacons_4744\" # beacon table name\n",
    "tableRt = \"beacons_4744_rt\"\n",
    "\n",
    "# Connect to Beacon Data\n",
    "setRedshiftEndpoint(dsn)\n",
    "setTable(table)\n",
    "# setTable(tableRt, tableType = \"RESOURCE_TABLE\")\n",
    ";"
   ]
  },
  {
   "cell_type": "code",
   "execution_count": 2,
   "metadata": {
    "collapsed": false,
    "input_collapsed": false,
    "scrolled": true
   },
   "outputs": [],
   "source": [
    "include(\"../../Lib/Include-Package-v2.1.jl\")\n",
    ";"
   ]
  },
  {
   "cell_type": "code",
   "execution_count": 3,
   "metadata": {
    "collapsed": false,
    "input_collapsed": false,
    "scrolled": true
   },
   "outputs": [
    {
     "name": "stdout",
     "output_type": "stream",
     "text": [
      "November 27, 2017 06:59:00 to November 27, 2017 16:59:00 Local Time\n",
      "November 27, 2017 11:59:00 to November 27, 2017 21:59:00 UTC Time\n"
     ]
    }
   ],
   "source": [
    "#TV = timeVariables(2017,6,8,10,59,2017,6,8,12,59)\n",
    "#TV = weeklyTimeVariables(days=1)\n",
    "TV = yesterdayTimeVariables()\n",
    ";"
   ]
  },
  {
   "cell_type": "code",
   "execution_count": 4,
   "metadata": {
    "collapsed": false,
    "input_collapsed": false
   },
   "outputs": [],
   "source": [
    "UP = UrlParamsInit(\"Group_NoPageGroup_SQL_Mining\")\n",
    "UP.agentOs = \"%\"\n",
    "UP.deviceType = \"%\"\n",
    "UP.limitRows = 250\n",
    "UP.orderBy = \"time\"\n",
    "UP.pageGroup = \"(No Page Group)\"   #productPageGroup\n",
    "UP.samplesMin = 10\n",
    "UP.sizeMin = 10000\n",
    "UP.timeLowerMs = 2000.0\n",
    "UP.timeUpperMs = 60000.0\n",
    "UP.urlRegEx = \"%\"   #localUrl\n",
    "UP.urlFull = \"%\"\n",
    "UP.usePageLoad=false\n",
    "UrlParamsValidate(UP)\n",
    "\n",
    "SP = ShowParamsInit()\n",
    "SP.criticalPathOnly=true\n",
    "SP.desktop=true\n",
    "SP.devView=false\n",
    "SP.debug=false\n",
    "SP.debugLevel = 0   # Tests use even numbers with > tests, make this an odd number or zero\n",
    "SP.mobile=true\n",
    "SP.showLines = 25\n",
    "ShowParamsValidate(SP)\n",
    ";"
   ]
  },
  {
   "cell_type": "code",
   "execution_count": 5,
   "metadata": {
    "collapsed": false,
    "input_collapsed": false,
    "scrolled": false
   },
   "outputs": [
    {
     "name": "stdout",
     "output_type": "stream",
     "text": [
      "beacons_4744_sql_no_page_group_view count is 31"
     ]
    },
    {
     "data": {
      "text/html": [
       "    <table  class=\"dataframe-table\">\n",
       "    <thead><tr><th class=\"cell-1\" style=\"\">url</th> <th class=\"cell-2\" style=\"\">count</th></tr></thead>\n",
       "    <tbody>\n",
       "    <tr><td class=\"cell-1\" style=\"\">http://travel.nationalgeographic.com/</td> <td class=\"cell-2\" style=\"text-align:right;\">20</td></tr>\n",
       "<tr><td class=\"cell-1\" style=\"\">https://news.nationalgeographic.com/</td> <td class=\"cell-2\" style=\"text-align:right;\">7</td></tr>\n",
       "<tr><td class=\"cell-1\" style=\"\">https://www.nationalgeographic.com/</td> <td class=\"cell-2\" style=\"text-align:right;\">2</td></tr>\n",
       "    \n",
       "    <tr><td class=\"cell-1\" style=\"\">https://ngkidsubs.nationalgeographic.com/</td> <td class=\"cell-2\" style=\"text-align:right;\">1</td></tr>\n",
       "<tr><td class=\"cell-1\" style=\"\">http://animals.nationalgeographic.com/</td> <td class=\"cell-2\" style=\"text-align:right;\">1</td></tr>\n",
       "    </tbody>\n"
      ],
      "text/plain": [
       "HTML{UTF8String}(\"    <table  class=\\\"dataframe-table\\\">\\n    <thead><tr><th class=\\\"cell-1\\\" style=\\\"\\\">url</th> <th class=\\\"cell-2\\\" style=\\\"\\\">count</th></tr></thead>\\n    <tbody>\\n    <tr><td class=\\\"cell-1\\\" style=\\\"\\\">http://travel.nationalgeographic.com/</td> <td class=\\\"cell-2\\\" style=\\\"text-align:right;\\\">20</td></tr>\\n<tr><td class=\\\"cell-1\\\" style=\\\"\\\">https://news.nationalgeographic.com/</td> <td class=\\\"cell-2\\\" style=\\\"text-align:right;\\\">7</td></tr>\\n<tr><td class=\\\"cell-1\\\" style=\\\"\\\">https://www.nationalgeographic.com/</td> <td class=\\\"cell-2\\\" style=\\\"text-align:right;\\\">2</td></tr>\\n    \\n    <tr><td class=\\\"cell-1\\\" style=\\\"\\\">https://ngkidsubs.nationalgeographic.com/</td> <td class=\\\"cell-2\\\" style=\\\"text-align:right;\\\">1</td></tr>\\n<tr><td class=\\\"cell-1\\\" style=\\\"\\\">http://animals.nationalgeographic.com/</td> <td class=\\\"cell-2\\\" style=\\\"text-align:right;\\\">1</td></tr>\\n    </tbody>\\n\")"
      ]
     },
     "metadata": {},
     "output_type": "display_data"
    },
    {
     "data": {
      "text/html": [
       "    <table  class=\"dataframe-table\">\n",
       "    <thead><tr><th class=\"cell-1\" style=\"\">count</th> <th class=\"cell-2\" style=\"\">url</th> <th class=\"cell-3\" style=\"\">params u</th></tr></thead>\n",
       "    <tbody>\n",
       "    <tr><td class=\"cell-1\" style=\"text-align:right;\">6</td> <td class=\"cell-2\" style=\"\">http://travel.nationalgeographic.com/</td> <td class=\"cell-3\" style=\"\">http://travel.nationalgeographic.com/photo-contest-2015/gallery/week-11-all/35</td></tr>\n",
       "<tr><td class=\"cell-1\" style=\"text-align:right;\">4</td> <td class=\"cell-2\" style=\"\">http://travel.nationalgeographic.com/</td> <td class=\"cell-3\" style=\"\">http://travel.nationalgeographic.com/photo-contest-2015/gallery/winners-all/1</td></tr>\n",
       "<tr><td class=\"cell-1\" style=\"text-align:right;\">3</td> <td class=\"cell-2\" style=\"\">https://news.nationalgeographic.com/</td> <td class=\"cell-3\" style=\"\">https://news.nationalgeographic.com/news2013/13/130422-avalanche-safety-tips/</td></tr>\n",
       "<tr><td class=\"cell-1\" style=\"text-align:right;\">1</td> <td class=\"cell-2\" style=\"\">https://news.nationalgeographic.com/</td> <td class=\"cell-3\" style=\"\">https://news.nationalgeographic.com/SyncId=2EAAF184-C157-3F47-887D-44FAFE57CD08/</td></tr>\n",
       "<tr><td class=\"cell-1\" style=\"text-align:right;\">1</td> <td class=\"cell-2\" style=\"\">https://www.nationalgeographic.com/</td> <td class=\"cell-3\" style=\"\">https://www.nationalgeographic.com/2017/03/</td></tr>\n",
       "<tr><td class=\"cell-1\" style=\"text-align:right;\">1</td> <td class=\"cell-2\" style=\"\">http://travel.nationalgeographic.com/</td> <td class=\"cell-3\" style=\"\">http://travel.nationalgeographic.com/photo-contest-2015/gallery/week-2-all/9</td></tr>\n",
       "<tr><td class=\"cell-1\" style=\"text-align:right;\">1</td> <td class=\"cell-2\" style=\"\">http://travel.nationalgeographic.com/</td> <td class=\"cell-3\" style=\"\">http://travel.nationalgeographic.com/photo-contest-2015/gallery/week-10-all/27</td></tr>\n",
       "<tr><td class=\"cell-1\" style=\"text-align:right;\">1</td> <td class=\"cell-2\" style=\"\">https://news.nationalgeographic.com/</td> <td class=\"cell-3\" style=\"\">https://news.nationalgeographic.com/2017/pentagon-fights-climate-change-sea-level-rise-defense-department-military/</td></tr>\n",
       "<tr><td class=\"cell-1\" style=\"text-align:right;\">1</td> <td class=\"cell-2\" style=\"\">http://travel.nationalgeographic.com/</td> <td class=\"cell-3\" style=\"\">http://travel.nationalgeographic.com/photo-contest-2015/gallery/winners-all/8</td></tr>\n",
       "<tr><td class=\"cell-1\" style=\"text-align:right;\">1</td> <td class=\"cell-2\" style=\"\">http://travel.nationalgeographic.com/</td> <td class=\"cell-3\" style=\"\">http://travel.nationalgeographic.com/photo-contest-2015/gallery/week-8-all/21</td></tr>\n",
       "<tr><td class=\"cell-1\" style=\"text-align:right;\">1</td> <td class=\"cell-2\" style=\"\">https://news.nationalgeographic.com/</td> <td class=\"cell-3\" style=\"\">https://news.nationalgeographic.com/news2004/03/03011_040311_idesmarch_2/</td></tr>\n",
       "    \n",
       "    <tr><td class=\"cell-1\" style=\"text-align:right;\">1</td> <td class=\"cell-2\" style=\"\">http://travel.nationalgeographic.com/</td> <td class=\"cell-3\" style=\"\">http://travel.nationalgeographic.com/photo-contest-2015/gallery/week-12-all/29</td></tr>\n",
       "<tr><td class=\"cell-1\" style=\"text-align:right;\">1</td> <td class=\"cell-2\" style=\"\">https://www.nationalgeographic.com/</td> <td class=\"cell-3\" style=\"\">https://www.nationalgeographic.com/2.0%20DNA%20ANCESTRY%20KIT</td></tr>\n",
       "<tr><td class=\"cell-1\" style=\"text-align:right;\">1</td> <td class=\"cell-2\" style=\"\">https://news.nationalgeographic.com/</td> <td class=\"cell-3\" style=\"\">https://news.nationalgeographic.com/%202017/04/wildlife-watch-wildlife-services-cyanide-idaho-predator-control/</td></tr>\n",
       "<tr><td class=\"cell-1\" style=\"text-align:right;\">1</td> <td class=\"cell-2\" style=\"\">http://travel.nationalgeographic.com/</td> <td class=\"cell-3\" style=\"\">http://travel.nationalgeographic.com/photo-contest-2015/gallery/week-9-all/11</td></tr>\n",
       "<tr><td class=\"cell-1\" style=\"text-align:right;\">1</td> <td class=\"cell-2\" style=\"\">https://ngkidsubs.nationalgeographic.com/</td> <td class=\"cell-3\" style=\"\">https://ngkidsubs.nationalgeographic.com/servlet/Show?WESPAGE=OrderPages/tr/1311/thanks_dgprt_15A3.jsp&MSRSMAG=TR&EFK1=TRAKXH&EFK2=TRAKXF&EFK3=TRAKXJ&MSCCMPLX=WOTYPXSL1</td></tr>\n",
       "<tr><td class=\"cell-1\" style=\"text-align:right;\">1</td> <td class=\"cell-2\" style=\"\">http://travel.nationalgeographic.com/</td> <td class=\"cell-3\" style=\"\">http://travel.nationalgeographic.com/photo-contest-2015/gallery/week-12-all/30</td></tr>\n",
       "<tr><td class=\"cell-1\" style=\"text-align:right;\">1</td> <td class=\"cell-2\" style=\"\">http://travel.nationalgeographic.com/</td> <td class=\"cell-3\" style=\"\">http://travel.nationalgeographic.com/photo-contest-2015/all-entries</td></tr>\n",
       "<tr><td class=\"cell-1\" style=\"text-align:right;\">1</td> <td class=\"cell-2\" style=\"\">http://travel.nationalgeographic.com/</td> <td class=\"cell-3\" style=\"\">http://travel.nationalgeographic.com/travel/countries/patagonia-photos/</td></tr>\n",
       "<tr><td class=\"cell-1\" style=\"text-align:right;\">1</td> <td class=\"cell-2\" style=\"\">http://travel.nationalgeographic.com/</td> <td class=\"cell-3\" style=\"\">http://travel.nationalgeographic.com/photo-contest-2015/my-entries</td></tr>\n",
       "<tr><td class=\"cell-1\" style=\"text-align:right;\">1</td> <td class=\"cell-2\" style=\"\">http://animals.nationalgeographic.com/</td> <td class=\"cell-3\" style=\"\">http://animals.nationalgeographic.com/animals/mammals/opossum/</td></tr>\n",
       "    </tbody>\n"
      ],
      "text/plain": [
       "HTML{UTF8String}(\"    <table  class=\\\"dataframe-table\\\">\\n    <thead><tr><th class=\\\"cell-1\\\" style=\\\"\\\">count</th> <th class=\\\"cell-2\\\" style=\\\"\\\">url</th> <th class=\\\"cell-3\\\" style=\\\"\\\">params u</th></tr></thead>\\n    <tbody>\\n    <tr><td class=\\\"cell-1\\\" style=\\\"text-align:right;\\\">6</td> <td class=\\\"cell-2\\\" style=\\\"\\\">http://travel.nationalgeographic.com/</td> <td class=\\\"cell-3\\\" style=\\\"\\\">http://travel.nationalgeographic.com/photo-contest-2015/gallery/week-11-all/35</td></tr>\\n<tr><td class=\\\"cell-1\\\" style=\\\"text-align:right;\\\">4</td> <td class=\\\"cell-2\\\" style=\\\"\\\">http://travel.nationalgeographic.com/</td> <td class=\\\"cell-3\\\" style=\\\"\\\">http://travel.nationalgeographic.com/photo-contest-2015/gallery/winners-all/1</td></tr>\\n<tr><td class=\\\"cell-1\\\" style=\\\"text-align:right;\\\">3</td> <td class=\\\"cell-2\\\" style=\\\"\\\">https://news.nationalgeographic.com/</td> <td class=\\\"cell-3\\\" style=\\\"\\\">https://news.nationalgeographic.com/news2013/13/130422-avalanche-safety-tips/</td></tr>\\n<tr><td class=\\\"cell-1\\\" style=\\\"text-align:right;\\\">1</td> <td class=\\\"cell-2\\\" style=\\\"\\\">https://news.nationalgeographic.com/</td> <td class=\\\"cell-3\\\" style=\\\"\\\">https://news.nationalgeographic.com/SyncId=2EAAF184-C157-3F47-887D-44FAFE57CD08/</td></tr>\\n<tr><td class=\\\"cell-1\\\" style=\\\"text-align:right;\\\">1</td> <td class=\\\"cell-2\\\" style=\\\"\\\">https://www.nationalgeographic.com/</td> <td class=\\\"cell-3\\\" style=\\\"\\\">https://www.nationalgeographic.com/2017/03/</td></tr>\\n<tr><td class=\\\"cell-1\\\" style=\\\"text-align:right;\\\">1</td> <td class=\\\"cell-2\\\" style=\\\"\\\">http://travel.nationalgeographic.com/</td> <td class=\\\"cell-3\\\" style=\\\"\\\">http://travel.nationalgeographic.com/photo-contest-2015/gallery/week-2-all/9</td></tr>\\n<tr><td class=\\\"cell-1\\\" style=\\\"text-align:right;\\\">1</td> <td class=\\\"cell-2\\\" style=\\\"\\\">http://travel.nationalgeographic.com/</td> <td class=\\\"cell-3\\\" style=\\\"\\\">http://travel.nationalgeographic.com/photo-contest-2015/gallery/week-10-all/27</td></tr>\\n<tr><td class=\\\"cell-1\\\" style=\\\"text-align:right;\\\">1</td> <td class=\\\"cell-2\\\" style=\\\"\\\">https://news.nationalgeographic.com/</td> <td class=\\\"cell-3\\\" style=\\\"\\\">https://news.nationalgeographic.com/2017/pentagon-fights-climate-change-sea-level-rise-defense-department-military/</td></tr>\\n<tr><td class=\\\"cell-1\\\" style=\\\"text-align:right;\\\">1</td> <td class=\\\"cell-2\\\" style=\\\"\\\">http://travel.nationalgeographic.com/</td> <td class=\\\"cell-3\\\" style=\\\"\\\">http://travel.nationalgeographic.com/photo-contest-2015/gallery/winners-all/8</td></tr>\\n<tr><td class=\\\"cell-1\\\" style=\\\"text-align:right;\\\">1</td> <td class=\\\"cell-2\\\" style=\\\"\\\">http://travel.nationalgeographic.com/</td> <td class=\\\"cell-3\\\" style=\\\"\\\">http://travel.nationalgeographic.com/photo-contest-2015/gallery/week-8-all/21</td></tr>\\n<tr><td class=\\\"cell-1\\\" style=\\\"text-align:right;\\\">1</td> <td class=\\\"cell-2\\\" style=\\\"\\\">https://news.nationalgeographic.com/</td> <td class=\\\"cell-3\\\" style=\\\"\\\">https://news.nationalgeographic.com/news2004/03/03011_040311_idesmarch_2/</td></tr>\\n    \\n    <tr><td class=\\\"cell-1\\\" style=\\\"text-align:right;\\\">1</td> <td class=\\\"cell-2\\\" style=\\\"\\\">http://travel.nationalgeographic.com/</td> <td class=\\\"cell-3\\\" style=\\\"\\\">http://travel.nationalgeographic.com/photo-contest-2015/gallery/week-12-all/29</td></tr>\\n<tr><td class=\\\"cell-1\\\" style=\\\"text-align:right;\\\">1</td> <td class=\\\"cell-2\\\" style=\\\"\\\">https://www.nationalgeographic.com/</td> <td class=\\\"cell-3\\\" style=\\\"\\\">https://www.nationalgeographic.com/2.0%20DNA%20ANCESTRY%20KIT</td></tr>\\n<tr><td class=\\\"cell-1\\\" style=\\\"text-align:right;\\\">1</td> <td class=\\\"cell-2\\\" style=\\\"\\\">https://news.nationalgeographic.com/</td> <td class=\\\"cell-3\\\" style=\\\"\\\">https://news.nationalgeographic.com/%202017/04/wildlife-watch-wildlife-services-cyanide-idaho-predator-control/</td></tr>\\n<tr><td class=\\\"cell-1\\\" style=\\\"text-align:right;\\\">1</td> <td class=\\\"cell-2\\\" style=\\\"\\\">http://travel.nationalgeographic.com/</td> <td class=\\\"cell-3\\\" style=\\\"\\\">http://travel.nationalgeographic.com/photo-contest-2015/gallery/week-9-all/11</td></tr>\\n<tr><td class=\\\"cell-1\\\" style=\\\"text-align:right;\\\">1</td> <td class=\\\"cell-2\\\" style=\\\"\\\">https://ngkidsubs.nationalgeographic.com/</td> <td class=\\\"cell-3\\\" style=\\\"\\\">https://ngkidsubs.nationalgeographic.com/servlet/Show?WESPAGE=OrderPages/tr/1311/thanks_dgprt_15A3.jsp&MSRSMAG=TR&EFK1=TRAKXH&EFK2=TRAKXF&EFK3=TRAKXJ&MSCCMPLX=WOTYPXSL1</td></tr>\\n<tr><td class=\\\"cell-1\\\" style=\\\"text-align:right;\\\">1</td> <td class=\\\"cell-2\\\" style=\\\"\\\">http://travel.nationalgeographic.com/</td> <td class=\\\"cell-3\\\" style=\\\"\\\">http://travel.nationalgeographic.com/photo-contest-2015/gallery/week-12-all/30</td></tr>\\n<tr><td class=\\\"cell-1\\\" style=\\\"text-align:right;\\\">1</td> <td class=\\\"cell-2\\\" style=\\\"\\\">http://travel.nationalgeographic.com/</td> <td class=\\\"cell-3\\\" style=\\\"\\\">http://travel.nationalgeographic.com/photo-contest-2015/all-entries</td></tr>\\n<tr><td class=\\\"cell-1\\\" style=\\\"text-align:right;\\\">1</td> <td class=\\\"cell-2\\\" style=\\\"\\\">http://travel.nationalgeographic.com/</td> <td class=\\\"cell-3\\\" style=\\\"\\\">http://travel.nationalgeographic.com/travel/countries/patagonia-photos/</td></tr>\\n<tr><td class=\\\"cell-1\\\" style=\\\"text-align:right;\\\">1</td> <td class=\\\"cell-2\\\" style=\\\"\\\">http://travel.nationalgeographic.com/</td> <td class=\\\"cell-3\\\" style=\\\"\\\">http://travel.nationalgeographic.com/photo-contest-2015/my-entries</td></tr>\\n<tr><td class=\\\"cell-1\\\" style=\\\"text-align:right;\\\">1</td> <td class=\\\"cell-2\\\" style=\\\"\\\">http://animals.nationalgeographic.com/</td> <td class=\\\"cell-3\\\" style=\\\"\\\">http://animals.nationalgeographic.com/animals/mammals/opossum/</td></tr>\\n    </tbody>\\n\")"
      ]
     },
     "metadata": {},
     "output_type": "display_data"
    },
    {
     "data": {
      "text/html": [
       "    <table  class=\"dataframe-table\">\n",
       "    <thead><tr></tr></thead>\n",
       "    <tbody>\n",
       "    \n",
       "    \n",
       "    \n",
       "    </tbody>\n"
      ],
      "text/plain": [
       "HTML{UTF8String}(\"    <table  class=\\\"dataframe-table\\\">\\n    <thead><tr></tr></thead>\\n    <tbody>\\n    \\n    \\n    \\n    </tbody>\\n\")"
      ]
     },
     "metadata": {},
     "output_type": "display_data"
    },
    {
     "name": "stdout",
     "output_type": "stream",
     "text": [
      "\n"
     ]
    }
   ],
   "source": [
    "dumpDataFieldsV2Workflow(TV,UP,SP)\n",
    ";"
   ]
  }
 ],
 "metadata": {
  "celltoolbar": "Raw Cell Format",
  "kernelspec": {
   "display_name": "Julia 0.4.7",
   "language": "julia",
   "name": "julia-0.4"
  },
  "language_info": {
   "file_extension": ".jl",
   "mimetype": "application/julia",
   "name": "julia",
   "version": "0.4.7"
  },
  "library_version": "1.0.0",
  "notebook_uuid": "452e1ce0-1a7e-49c9-a9c4-f645efc06fe9",
  "readOnly": false
 },
 "nbformat": 4,
 "nbformat_minor": 0
}
