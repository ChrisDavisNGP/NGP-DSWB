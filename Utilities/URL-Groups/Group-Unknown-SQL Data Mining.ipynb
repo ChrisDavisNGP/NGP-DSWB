{
 "cells": [
  {
   "cell_type": "code",
   "execution_count": 1,
   "metadata": {
    "collapsed": false,
    "input_collapsed": false
   },
   "outputs": [
    {
     "name": "stdout",
     "output_type": "stream",
     "text": [
      "Redshift endpoint set: 2017-11-28T08:14:55\n"
     ]
    }
   ],
   "source": [
    "using ODBC\n",
    "using DataFrames\n",
    "using DSWB\n",
    "using Formatting\n",
    "\n",
    "dsn = \"dswb-natgeo\" # Redshift endpoint\n",
    "table = \"beacons_4744\" # beacon table name\n",
    "tableRt = \"beacons_4744_rt\"\n",
    "\n",
    "# Connect to Beacon Data\n",
    "setRedshiftEndpoint(dsn)\n",
    "setTable(table)\n",
    "# setTable(tableRt, tableType = \"RESOURCE_TABLE\")\n",
    ";"
   ]
  },
  {
   "cell_type": "code",
   "execution_count": 2,
   "metadata": {
    "collapsed": false,
    "input_collapsed": false,
    "scrolled": true
   },
   "outputs": [],
   "source": [
    "include(\"../../Lib/Include-Package-v2.1.jl\")\n",
    ";"
   ]
  },
  {
   "cell_type": "code",
   "execution_count": 3,
   "metadata": {
    "collapsed": false,
    "input_collapsed": false,
    "scrolled": true
   },
   "outputs": [
    {
     "name": "stdout",
     "output_type": "stream",
     "text": [
      "November 27, 2017 06:59:00 to November 27, 2017 16:59:00 Local Time\n",
      "November 27, 2017 11:59:00 to November 27, 2017 21:59:00 UTC Time\n"
     ]
    }
   ],
   "source": [
    "#TV = timeVariables(2017,6,8,10,59,2017,6,8,12,59)\n",
    "#TV = weeklyTimeVariables(days=7)\n",
    "TV = yesterdayTimeVariables()\n",
    ";"
   ]
  },
  {
   "cell_type": "code",
   "execution_count": 4,
   "metadata": {
    "collapsed": false,
    "input_collapsed": false
   },
   "outputs": [],
   "source": [
    "UP = UrlParamsInit()\n",
    "UP.agentOs = \"%\"\n",
    "UP.beaconTable = table\n",
    "UP.btView = \"$(table)_sql_unknown_view\" #localtable\n",
    "UP.deviceType = \"%\"\n",
    "UP.limitRows = 250\n",
    "UP.orderBy = \"time\"\n",
    "UP.pageGroup = \"Unknown\"   #productPageGroup\n",
    "UP.resourceTable = tableRt\n",
    "UP.rtView = \"$(tableRt)_sql_unknown_view\" #localtableRt\n",
    "UP.samplesMin = 10\n",
    "UP.sizeMin = 10000\n",
    "UP.timeLowerMs = 2000.0\n",
    "UP.timeUpperMs = 60000.0\n",
    "UP.urlRegEx = \"%\"   #localUrl\n",
    "UP.urlFull = \"%\"\n",
    "UP.usePageLoad=false\n",
    "UrlParamsValidate(UP)\n",
    "\n",
    "SP = ShowParamsInit()\n",
    "SP.criticalPathOnly=true\n",
    "SP.desktop=true\n",
    "SP.devView=false\n",
    "SP.debug=false\n",
    "SP.debugLevel = 0   # Tests use even numbers with > tests, make this an odd number or zero\n",
    "SP.mobile=true\n",
    "SP.showLines = 25\n",
    "ShowParamsValidate(SP)\n",
    ";"
   ]
  },
  {
   "cell_type": "code",
   "execution_count": 5,
   "metadata": {
    "collapsed": false,
    "input_collapsed": false
   },
   "outputs": [
    {
     "name": "stdout",
     "output_type": "stream",
     "text": [
      "beacons_4744_sql_unknown_view count is 63"
     ]
    },
    {
     "data": {
      "text/html": [
       "    <table  class=\"dataframe-table\">\n",
       "    <thead><tr><th class=\"cell-1\" style=\"\">url</th> <th class=\"cell-2\" style=\"\">count</th></tr></thead>\n",
       "    <tbody>\n",
       "    <tr><td class=\"cell-1\" style=\"\">https://www.nationalgeographic.com/</td> <td class=\"cell-2\" style=\"text-align:right;\">63</td></tr>\n",
       "    \n",
       "    \n",
       "    </tbody>\n"
      ],
      "text/plain": [
       "HTML{UTF8String}(\"    <table  class=\\\"dataframe-table\\\">\\n    <thead><tr><th class=\\\"cell-1\\\" style=\\\"\\\">url</th> <th class=\\\"cell-2\\\" style=\\\"\\\">count</th></tr></thead>\\n    <tbody>\\n    <tr><td class=\\\"cell-1\\\" style=\\\"\\\">https://www.nationalgeographic.com/</td> <td class=\\\"cell-2\\\" style=\\\"text-align:right;\\\">63</td></tr>\\n    \\n    \\n    </tbody>\\n\")"
      ]
     },
     "metadata": {},
     "output_type": "display_data"
    },
    {
     "data": {
      "text/html": [
       "    <table  class=\"dataframe-table\">\n",
       "    <thead><tr><th class=\"cell-1\" style=\"\">count</th> <th class=\"cell-2\" style=\"\">url</th> <th class=\"cell-3\" style=\"\">params u</th></tr></thead>\n",
       "    <tbody>\n",
       "    <tr><td class=\"cell-1\" style=\"text-align:right;\">4</td> <td class=\"cell-2\" style=\"\">https://www.nationalgeographic.com/</td> <td class=\"cell-3\" style=\"\">https://www.nationalgeographic.com/?utm_source=NatGeocom&utm_medium=Email&utm_content=Welcome6&utm_campaign=WelcomeSeries&utm_rd=21662536195</td></tr>\n",
       "<tr><td class=\"cell-1\" style=\"text-align:right;\">3</td> <td class=\"cell-2\" style=\"\">https://www.nationalgeographic.com/</td> <td class=\"cell-3\" style=\"\">https://www.nationalgeographic.com/?utm_source=NatGeocom&utm_medium=Email&utm_content=inside_20171125&utm_campaign=Content&utm_rd=681837</td></tr>\n",
       "<tr><td class=\"cell-1\" style=\"text-align:right;\">2</td> <td class=\"cell-2\" style=\"\">https://www.nationalgeographic.com/</td> <td class=\"cell-3\" style=\"\">https://www.nationalgeographic.com/?utm_source=NatGeocom&utm_medium=Email&utm_content=Welcome3&utm_campaign=WelcomeSeries&utm_rd=22447184035</td></tr>\n",
       "<tr><td class=\"cell-1\" style=\"text-align:right;\">2</td> <td class=\"cell-2\" style=\"\">https://www.nationalgeographic.com/</td> <td class=\"cell-3\" style=\"\">https://www.nationalgeographic.com/?utm_source=NatGeocom&utm_medium=Email&utm_content=inside_20171125&utm_campaign=Content&utm_rd=937657062</td></tr>\n",
       "<tr><td class=\"cell-1\" style=\"text-align:right;\">2</td> <td class=\"cell-2\" style=\"\">https://www.nationalgeographic.com/</td> <td class=\"cell-3\" style=\"\">https://www.nationalgeographic.com/?utm_source=NatGeocom&utm_medium=Email&utm_content=Welcome1&utm_campaign=WelcomeSeries&utm_rd=20923242255</td></tr>\n",
       "<tr><td class=\"cell-1\" style=\"text-align:right;\">2</td> <td class=\"cell-2\" style=\"\">https://www.nationalgeographic.com/</td> <td class=\"cell-3\" style=\"\">https://www.nationalgeographic.com/?utm_source=NatGeocom&utm_medium=Email&utm_content=inside_20171125&utm_campaign=Content&utm_rd=19238305775</td></tr>\n",
       "<tr><td class=\"cell-1\" style=\"text-align:right;\">2</td> <td class=\"cell-2\" style=\"\">https://www.nationalgeographic.com/</td> <td class=\"cell-3\" style=\"\">https://www.nationalgeographic.com/?utm_source=NatGeocom&utm_medium=Email&utm_content=Monetate_Lightbox_Signup&utm_campaign=Content&utm_rd=21662536195</td></tr>\n",
       "<tr><td class=\"cell-1\" style=\"text-align:right;\">2</td> <td class=\"cell-2\" style=\"\">https://www.nationalgeographic.com/</td> <td class=\"cell-3\" style=\"\">https://www.nationalgeographic.com/?utm_source=NatGeocom&utm_medium=Email&utm_content=inside_20170918&utm_campaign=Content&utm_rd=18456265</td></tr>\n",
       "<tr><td class=\"cell-1\" style=\"text-align:right;\">1</td> <td class=\"cell-2\" style=\"\">https://www.nationalgeographic.com/</td> <td class=\"cell-3\" style=\"\">https://www.nationalgeographic.com/?utm_source=NatGeocom&utm_medium=Email&utm_content=inside_20171125&utm_campaign=Content&utm_rd=17064824</td></tr>\n",
       "<tr><td class=\"cell-1\" style=\"text-align:right;\">1</td> <td class=\"cell-2\" style=\"\">https://www.nationalgeographic.com/</td> <td class=\"cell-3\" style=\"\">https://www.nationalgeographic.com/?utm_source=NatGeocom&utm_medium=Email&utm_content=Welcome1&utm_campaign=WelcomeSeries&utm_rd=22447442235</td></tr>\n",
       "<tr><td class=\"cell-1\" style=\"text-align:right;\">1</td> <td class=\"cell-2\" style=\"\">https://www.nationalgeographic.com/</td> <td class=\"cell-3\" style=\"\">https://www.nationalgeographic.com/?utm_source=NatGeocom&utm_medium=Email&utm_content=specialedition_20171128&utm_campaign=Content&utm_rd=18494452935</td></tr>\n",
       "<tr><td class=\"cell-1\" style=\"text-align:right;\">1</td> <td class=\"cell-2\" style=\"\">https://www.nationalgeographic.com/</td> <td class=\"cell-3\" style=\"\">https://www.nationalgeographic.com/?utm_source=NatGeocom&utm_medium=Email&utm_content=inside_20171125&utm_campaign=Content&utm_rd=18494630675</td></tr>\n",
       "<tr><td class=\"cell-1\" style=\"text-align:right;\">1</td> <td class=\"cell-2\" style=\"\">https://www.nationalgeographic.com/</td> <td class=\"cell-3\" style=\"\">https://www.nationalgeographic.com/?utm_source=NatGeocom&utm_medium=Email&utm_content=Monetate_Lightbox_Signup&utm_campaign=Content&utm_rd=17999424</td></tr>\n",
       "    \n",
       "    <tr><td class=\"cell-1\" style=\"text-align:right;\">1</td> <td class=\"cell-2\" style=\"\">https://www.nationalgeographic.com/</td> <td class=\"cell-3\" style=\"\">https://www.nationalgeographic.com/?utm_source=NatGeocom&utm_medium=Email&utm_content=inside_20171125&utm_campaign=Content&utm_rd=17581878</td></tr>\n",
       "<tr><td class=\"cell-1\" style=\"text-align:right;\">1</td> <td class=\"cell-2\" style=\"\">https://www.nationalgeographic.com/</td> <td class=\"cell-3\" style=\"\">https://www.nationalgeographic.com/?utm_source=NatGeocom&utm_medium=Email&utm_content=Welcome1&utm_campaign=WelcomeSeries&utm_rd=22447457495</td></tr>\n",
       "<tr><td class=\"cell-1\" style=\"text-align:right;\">1</td> <td class=\"cell-2\" style=\"\">https://www.nationalgeographic.com/</td> <td class=\"cell-3\" style=\"\">https://www.nationalgeographic.com/?utm_source=NatGeocom&utm_medium=Email&utm_content=inside_20171125&utm_campaign=Content&utm_rd=884318975</td></tr>\n",
       "<tr><td class=\"cell-1\" style=\"text-align:right;\">1</td> <td class=\"cell-2\" style=\"\">https://www.nationalgeographic.com/</td> <td class=\"cell-3\" style=\"\">https://www.nationalgeographic.com/?utm_source=NatGeocom&utm_medium=Email&utm_content=pom_20131215&utm_campaign=Content</td></tr>\n",
       "<tr><td class=\"cell-1\" style=\"text-align:right;\">1</td> <td class=\"cell-2\" style=\"\">https://www.nationalgeographic.com/</td> <td class=\"cell-3\" style=\"\">https://www.nationalgeographic.com/?utm_source=NatGeocom&utm_medium=Email&utm_content=Look_Newsletter_20171121&utm_campaign=Look_Newsletter&utm_rd=18462704255</td></tr>\n",
       "<tr><td class=\"cell-1\" style=\"text-align:right;\">1</td> <td class=\"cell-2\" style=\"\">https://www.nationalgeographic.com/</td> <td class=\"cell-3\" style=\"\">https://www.nationalgeographic.com/?utm_source=NatGeocom&utm_medium=Email&utm_content=inside_20171125&utm_campaign=Content&utm_rd=21243418935</td></tr>\n",
       "<tr><td class=\"cell-1\" style=\"text-align:right;\">1</td> <td class=\"cell-2\" style=\"\">https://www.nationalgeographic.com/</td> <td class=\"cell-3\" style=\"\">https://www.nationalgeographic.com/?utm_source=NatGeocom&utm_medium=Email&utm_content=Message8&utm_campaign=WelcomeSeries&utm_rd=21662541415</td></tr>\n",
       "<tr><td class=\"cell-1\" style=\"text-align:right;\">1</td> <td class=\"cell-2\" style=\"\">https://www.nationalgeographic.com/</td> <td class=\"cell-3\" style=\"\">https://www.nationalgeographic.com/?utm_source=NatGeocom&utm_medium=Email&utm_content=inside_20171125&utm_campaign=Content&utm_rd=20811832695</td></tr>\n",
       "<tr><td class=\"cell-1\" style=\"text-align:right;\">1</td> <td class=\"cell-2\" style=\"\">https://www.nationalgeographic.com/</td> <td class=\"cell-3\" style=\"\">https://www.nationalgeographic.com/?utm_source=NatGeocom&utm_medium=Email&utm_content=wildscience_20171120&utm_campaign=Content&utm_rd=18486141455</td></tr>\n",
       "<tr><td class=\"cell-1\" style=\"text-align:right;\">1</td> <td class=\"cell-2\" style=\"\">https://www.nationalgeographic.com/</td> <td class=\"cell-3\" style=\"\">https://www.nationalgeographic.com/?utm_source=NatGeocom&utm_medium=Email&utm_content=inside_20171125&utm_campaign=Content&utm_rd=11154239835</td></tr>\n",
       "<tr><td class=\"cell-1\" style=\"text-align:right;\">1</td> <td class=\"cell-2\" style=\"\">https://www.nationalgeographic.com/</td> <td class=\"cell-3\" style=\"\">https://www.nationalgeographic.com/?utm_source=NatGeocom&utm_medium=Email&utm_content=Welcome1&utm_campaign=WelcomeSeries&utm_rd=22447411095</td></tr>\n",
       "<tr><td class=\"cell-1\" style=\"text-align:right;\">1</td> <td class=\"cell-2\" style=\"\">https://www.nationalgeographic.com/</td> <td class=\"cell-3\" style=\"\">https://www.nationalgeographic.com/?utm_source=NatGeocom&utm_medium=Email&utm_content=inside_20170227&utm_campaign=Content&utm_rd=15400384295</td></tr>\n",
       "    </tbody>\n"
      ],
      "text/plain": [
       "HTML{UTF8String}(\"    <table  class=\\\"dataframe-table\\\">\\n    <thead><tr><th class=\\\"cell-1\\\" style=\\\"\\\">count</th> <th class=\\\"cell-2\\\" style=\\\"\\\">url</th> <th class=\\\"cell-3\\\" style=\\\"\\\">params u</th></tr></thead>\\n    <tbody>\\n    <tr><td class=\\\"cell-1\\\" style=\\\"text-align:right;\\\">4</td> <td class=\\\"cell-2\\\" style=\\\"\\\">https://www.nationalgeographic.com/</td> <td class=\\\"cell-3\\\" style=\\\"\\\">https://www.nationalgeographic.com/?utm_source=NatGeocom&utm_medium=Email&utm_content=Welcome6&utm_campaign=WelcomeSeries&utm_rd=21662536195</td></tr>\\n<tr><td class=\\\"cell-1\\\" style=\\\"text-align:right;\\\">3</td> <td class=\\\"cell-2\\\" style=\\\"\\\">https://www.nationalgeographic.com/</td> <td class=\\\"cell-3\\\" style=\\\"\\\">https://www.nationalgeographic.com/?utm_source=NatGeocom&utm_medium=Email&utm_content=inside_20171125&utm_campaign=Content&utm_rd=681837</td></tr>\\n<tr><td class=\\\"cell-1\\\" style=\\\"text-align:right;\\\">2</td> <td class=\\\"cell-2\\\" style=\\\"\\\">https://www.nationalgeographic.com/</td> <td class=\\\"cell-3\\\" style=\\\"\\\">https://www.nationalgeographic.com/?utm_source=NatGeocom&utm_medium=Email&utm_content=Welcome3&utm_campaign=WelcomeSeries&utm_rd=22447184035</td></tr>\\n<tr><td class=\\\"cell-1\\\" style=\\\"text-align:right;\\\">2</td> <td class=\\\"cell-2\\\" style=\\\"\\\">https://www.nationalgeographic.com/</td> <td class=\\\"cell-3\\\" style=\\\"\\\">https://www.nationalgeographic.com/?utm_source=NatGeocom&utm_medium=Email&utm_content=inside_20171125&utm_campaign=Content&utm_rd=937657062</td></tr>\\n<tr><td class=\\\"cell-1\\\" style=\\\"text-align:right;\\\">2</td> <td class=\\\"cell-2\\\" style=\\\"\\\">https://www.nationalgeographic.com/</td> <td class=\\\"cell-3\\\" style=\\\"\\\">https://www.nationalgeographic.com/?utm_source=NatGeocom&utm_medium=Email&utm_content=Welcome1&utm_campaign=WelcomeSeries&utm_rd=20923242255</td></tr>\\n<tr><td class=\\\"cell-1\\\" style=\\\"text-align:right;\\\">2</td> <td class=\\\"cell-2\\\" style=\\\"\\\">https://www.nationalgeographic.com/</td> <td class=\\\"cell-3\\\" style=\\\"\\\">https://www.nationalgeographic.com/?utm_source=NatGeocom&utm_medium=Email&utm_content=inside_20171125&utm_campaign=Content&utm_rd=19238305775</td></tr>\\n<tr><td class=\\\"cell-1\\\" style=\\\"text-align:right;\\\">2</td> <td class=\\\"cell-2\\\" style=\\\"\\\">https://www.nationalgeographic.com/</td> <td class=\\\"cell-3\\\" style=\\\"\\\">https://www.nationalgeographic.com/?utm_source=NatGeocom&utm_medium=Email&utm_content=Monetate_Lightbox_Signup&utm_campaign=Content&utm_rd=21662536195</td></tr>\\n<tr><td class=\\\"cell-1\\\" style=\\\"text-align:right;\\\">2</td> <td class=\\\"cell-2\\\" style=\\\"\\\">https://www.nationalgeographic.com/</td> <td class=\\\"cell-3\\\" style=\\\"\\\">https://www.nationalgeographic.com/?utm_source=NatGeocom&utm_medium=Email&utm_content=inside_20170918&utm_campaign=Content&utm_rd=18456265</td></tr>\\n<tr><td class=\\\"cell-1\\\" style=\\\"text-align:right;\\\">1</td> <td class=\\\"cell-2\\\" style=\\\"\\\">https://www.nationalgeographic.com/</td> <td class=\\\"cell-3\\\" style=\\\"\\\">https://www.nationalgeographic.com/?utm_source=NatGeocom&utm_medium=Email&utm_content=inside_20171125&utm_campaign=Content&utm_rd=17064824</td></tr>\\n<tr><td class=\\\"cell-1\\\" style=\\\"text-align:right;\\\">1</td> <td class=\\\"cell-2\\\" style=\\\"\\\">https://www.nationalgeographic.com/</td> <td class=\\\"cell-3\\\" style=\\\"\\\">https://www.nationalgeographic.com/?utm_source=NatGeocom&utm_medium=Email&utm_content=Welcome1&utm_campaign=WelcomeSeries&utm_rd=22447442235</td></tr>\\n<tr><td class=\\\"cell-1\\\" style=\\\"text-align:right;\\\">1</td> <td class=\\\"cell-2\\\" style=\\\"\\\">https://www.nationalgeographic.com/</td> <td class=\\\"cell-3\\\" style=\\\"\\\">https://www.nationalgeographic.com/?utm_source=NatGeocom&utm_medium=Email&utm_content=specialedition_20171128&utm_campaign=Content&utm_rd=18494452935</td></tr>\\n<tr><td class=\\\"cell-1\\\" style=\\\"text-align:right;\\\">1</td> <td class=\\\"cell-2\\\" style=\\\"\\\">https://www.nationalgeographic.com/</td> <td class=\\\"cell-3\\\" style=\\\"\\\">https://www.nationalgeographic.com/?utm_source=NatGeocom&utm_medium=Email&utm_content=inside_20171125&utm_campaign=Content&utm_rd=18494630675</td></tr>\\n<tr><td class=\\\"cell-1\\\" style=\\\"text-align:right;\\\">1</td> <td class=\\\"cell-2\\\" style=\\\"\\\">https://www.nationalgeographic.com/</td> <td class=\\\"cell-3\\\" style=\\\"\\\">https://www.nationalgeographic.com/?utm_source=NatGeocom&utm_medium=Email&utm_content=Monetate_Lightbox_Signup&utm_campaign=Content&utm_rd=17999424</td></tr>\\n    \\n    <tr><td class=\\\"cell-1\\\" style=\\\"text-align:right;\\\">1</td> <td class=\\\"cell-2\\\" style=\\\"\\\">https://www.nationalgeographic.com/</td> <td class=\\\"cell-3\\\" style=\\\"\\\">https://www.nationalgeographic.com/?utm_source=NatGeocom&utm_medium=Email&utm_content=inside_20171125&utm_campaign=Content&utm_rd=17581878</td></tr>\\n<tr><td class=\\\"cell-1\\\" style=\\\"text-align:right;\\\">1</td> <td class=\\\"cell-2\\\" style=\\\"\\\">https://www.nationalgeographic.com/</td> <td class=\\\"cell-3\\\" style=\\\"\\\">https://www.nationalgeographic.com/?utm_source=NatGeocom&utm_medium=Email&utm_content=Welcome1&utm_campaign=WelcomeSeries&utm_rd=22447457495</td></tr>\\n<tr><td class=\\\"cell-1\\\" style=\\\"text-align:right;\\\">1</td> <td class=\\\"cell-2\\\" style=\\\"\\\">https://www.nationalgeographic.com/</td> <td class=\\\"cell-3\\\" style=\\\"\\\">https://www.nationalgeographic.com/?utm_source=NatGeocom&utm_medium=Email&utm_content=inside_20171125&utm_campaign=Content&utm_rd=884318975</td></tr>\\n<tr><td class=\\\"cell-1\\\" style=\\\"text-align:right;\\\">1</td> <td class=\\\"cell-2\\\" style=\\\"\\\">https://www.nationalgeographic.com/</td> <td class=\\\"cell-3\\\" style=\\\"\\\">https://www.nationalgeographic.com/?utm_source=NatGeocom&utm_medium=Email&utm_content=pom_20131215&utm_campaign=Content</td></tr>\\n<tr><td class=\\\"cell-1\\\" style=\\\"text-align:right;\\\">1</td> <td class=\\\"cell-2\\\" style=\\\"\\\">https://www.nationalgeographic.com/</td> <td class=\\\"cell-3\\\" style=\\\"\\\">https://www.nationalgeographic.com/?utm_source=NatGeocom&utm_medium=Email&utm_content=Look_Newsletter_20171121&utm_campaign=Look_Newsletter&utm_rd=18462704255</td></tr>\\n<tr><td class=\\\"cell-1\\\" style=\\\"text-align:right;\\\">1</td> <td class=\\\"cell-2\\\" style=\\\"\\\">https://www.nationalgeographic.com/</td> <td class=\\\"cell-3\\\" style=\\\"\\\">https://www.nationalgeographic.com/?utm_source=NatGeocom&utm_medium=Email&utm_content=inside_20171125&utm_campaign=Content&utm_rd=21243418935</td></tr>\\n<tr><td class=\\\"cell-1\\\" style=\\\"text-align:right;\\\">1</td> <td class=\\\"cell-2\\\" style=\\\"\\\">https://www.nationalgeographic.com/</td> <td class=\\\"cell-3\\\" style=\\\"\\\">https://www.nationalgeographic.com/?utm_source=NatGeocom&utm_medium=Email&utm_content=Message8&utm_campaign=WelcomeSeries&utm_rd=21662541415</td></tr>\\n<tr><td class=\\\"cell-1\\\" style=\\\"text-align:right;\\\">1</td> <td class=\\\"cell-2\\\" style=\\\"\\\">https://www.nationalgeographic.com/</td> <td class=\\\"cell-3\\\" style=\\\"\\\">https://www.nationalgeographic.com/?utm_source=NatGeocom&utm_medium=Email&utm_content=inside_20171125&utm_campaign=Content&utm_rd=20811832695</td></tr>\\n<tr><td class=\\\"cell-1\\\" style=\\\"text-align:right;\\\">1</td> <td class=\\\"cell-2\\\" style=\\\"\\\">https://www.nationalgeographic.com/</td> <td class=\\\"cell-3\\\" style=\\\"\\\">https://www.nationalgeographic.com/?utm_source=NatGeocom&utm_medium=Email&utm_content=wildscience_20171120&utm_campaign=Content&utm_rd=18486141455</td></tr>\\n<tr><td class=\\\"cell-1\\\" style=\\\"text-align:right;\\\">1</td> <td class=\\\"cell-2\\\" style=\\\"\\\">https://www.nationalgeographic.com/</td> <td class=\\\"cell-3\\\" style=\\\"\\\">https://www.nationalgeographic.com/?utm_source=NatGeocom&utm_medium=Email&utm_content=inside_20171125&utm_campaign=Content&utm_rd=11154239835</td></tr>\\n<tr><td class=\\\"cell-1\\\" style=\\\"text-align:right;\\\">1</td> <td class=\\\"cell-2\\\" style=\\\"\\\">https://www.nationalgeographic.com/</td> <td class=\\\"cell-3\\\" style=\\\"\\\">https://www.nationalgeographic.com/?utm_source=NatGeocom&utm_medium=Email&utm_content=Welcome1&utm_campaign=WelcomeSeries&utm_rd=22447411095</td></tr>\\n<tr><td class=\\\"cell-1\\\" style=\\\"text-align:right;\\\">1</td> <td class=\\\"cell-2\\\" style=\\\"\\\">https://www.nationalgeographic.com/</td> <td class=\\\"cell-3\\\" style=\\\"\\\">https://www.nationalgeographic.com/?utm_source=NatGeocom&utm_medium=Email&utm_content=inside_20170227&utm_campaign=Content&utm_rd=15400384295</td></tr>\\n    </tbody>\\n\")"
      ]
     },
     "metadata": {},
     "output_type": "display_data"
    },
    {
     "data": {
      "text/html": [
       "    <table  class=\"dataframe-table\">\n",
       "    <thead><tr></tr></thead>\n",
       "    <tbody>\n",
       "    \n",
       "    \n",
       "    \n",
       "    </tbody>\n"
      ],
      "text/plain": [
       "HTML{UTF8String}(\"    <table  class=\\\"dataframe-table\\\">\\n    <thead><tr></tr></thead>\\n    <tbody>\\n    \\n    \\n    \\n    </tbody>\\n\")"
      ]
     },
     "metadata": {},
     "output_type": "display_data"
    },
    {
     "name": "stdout",
     "output_type": "stream",
     "text": [
      "\n"
     ]
    }
   ],
   "source": [
    "dumpDataFieldsV2Workflow(TV,UP,SP)\n",
    ";"
   ]
  }
 ],
 "metadata": {
  "celltoolbar": "Raw Cell Format",
  "kernelspec": {
   "display_name": "Julia 0.4.7",
   "language": "julia",
   "name": "julia-0.4"
  },
  "language_info": {
   "file_extension": ".jl",
   "mimetype": "application/julia",
   "name": "julia",
   "version": "0.4.7"
  },
  "library_version": "1.0.0",
  "notebook_uuid": "46ce5438-2cb3-4c40-baa1-88cf7fd07f67",
  "readOnly": false
 },
 "nbformat": 4,
 "nbformat_minor": 0
}
