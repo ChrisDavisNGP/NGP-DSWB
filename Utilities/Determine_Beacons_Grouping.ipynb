{
 "cells": [
  {
   "cell_type": "code",
   "execution_count": 1,
   "metadata": {
    "collapsed": false
   },
   "outputs": [
    {
     "name": "stdout",
     "output_type": "stream",
     "text": [
      "Set Redshift endpoint done. 2016-12-22T22:03:39\n"
     ]
    },
    {
     "data": {
      "text/plain": [
       "\"beacons_4744\""
      ]
     },
     "execution_count": 1,
     "metadata": {},
     "output_type": "execute_result"
    }
   ],
   "source": [
    "using ODBC\n",
    "using DataFrames\n",
    "using DSWB\n",
    "using Formatting\n",
    "\n",
    "dsn = \"dswb-natgeo\" # Redshift endpoint\n",
    "table = \"beacons_4744\" # beacon table name\n",
    "tableRt = \"beacons_4744_rt\"\n",
    "\n",
    "# Connect to Beacon Data\n",
    "setRedshiftEndpoint(dsn)\n",
    "setTable(table)\n",
    "\n",
    "# setTable(tableRt, tableType = \"RESOURCE_TABLE\")"
   ]
  },
  {
   "cell_type": "code",
   "execution_count": 2,
   "metadata": {
    "collapsed": false,
    "input_collapsed": false
   },
   "outputs": [],
   "source": [
    "# Packages\n",
    "#include(\"/data/notebook_home/Production/Bodies/Find-A-Page-View-Spike-Body-v1.3.jl\")\n",
    "include(\"/data/notebook_home/Production/Lib/Include-Package-v1.0.jl\")\n",
    ";"
   ]
  },
  {
   "cell_type": "code",
   "execution_count": 3,
   "metadata": {
    "collapsed": false
   },
   "outputs": [
    {
     "data": {
      "text/plain": [
       "(5344,17)"
      ]
     },
     "execution_count": 3,
     "metadata": {},
     "output_type": "execute_result"
    }
   ],
   "source": [
    "short_results = getLatestResults(hours=0, minutes=5, table_name=table)\n",
    "size(short_results)"
   ]
  },
  {
   "cell_type": "code",
   "execution_count": 4,
   "metadata": {
    "collapsed": false,
    "scrolled": false
   },
   "outputs": [
    {
     "data": {
      "text/html": [
       "    <p id=\"progress-0.6844681097721279\"></p>\n",
       "    <script>\n",
       "    function groupResultsProgress(text) {\n",
       "        var p = document.getElementById(\"progress-0.6844681097721279\");\n",
       "        if(p) {\n",
       "            p.innerText = text;\n",
       "        }\n",
       "        var parent = p.parentNode.parentNode.parentNode;\n",
       "        if(parent) {\n",
       "            var divs = parent.getElementsByClassName(\"output_area\");\n",
       "            for(var i=1; i<divs.length; i++) {\n",
       "                divs[i].parentNode.removeChild(divs[i])\n",
       "            }\n",
       "        }\n",
       "    }\n"
      ]
     },
     "metadata": {},
     "output_type": "display_data"
    },
    {
     "data": {
      "text/html": [
       "<script>groupResultsProgress(\"Starting...\");</script>"
      ]
     },
     "metadata": {},
     "output_type": "display_data"
    },
    {
     "data": {
      "text/html": [
       "<script>groupResultsProgress(\"Trying 39 dimension combinations...\");</script>"
      ]
     },
     "metadata": {},
     "output_type": "display_data"
    },
    {
     "data": {
      "text/html": [
       "<script>groupResultsProgress(\"Trying 1/39 (1 candidates)...\");</script>"
      ]
     },
     "metadata": {},
     "output_type": "display_data"
    },
    {
     "data": {
      "text/html": [
       "<script>groupResultsProgress(\"Found candidate: 1/39\");</script>"
      ]
     },
     "metadata": {},
     "output_type": "display_data"
    },
    {
     "data": {
      "text/html": [
       "<script>groupResultsProgress(\"Trying 2/39 (2 candidates)...\");</script>"
      ]
     },
     "metadata": {},
     "output_type": "display_data"
    },
    {
     "data": {
      "text/html": [
       "<script>groupResultsProgress(\"Trying 3/39 (2 candidates)...\");</script>"
      ]
     },
     "metadata": {},
     "output_type": "display_data"
    },
    {
     "data": {
      "text/html": [
       "<script>groupResultsProgress(\"Trying 4/39 (2 candidates)...\");</script>"
      ]
     },
     "metadata": {},
     "output_type": "display_data"
    },
    {
     "data": {
      "text/html": [
       "<script>groupResultsProgress(\"Trying 5/39 (2 candidates)...\");</script>"
      ]
     },
     "metadata": {},
     "output_type": "display_data"
    },
    {
     "data": {
      "text/html": [
       "<script>groupResultsProgress(\"Trying 6/39 (2 candidates)...\");</script>"
      ]
     },
     "metadata": {},
     "output_type": "display_data"
    },
    {
     "data": {
      "text/html": [
       "<script>groupResultsProgress(\"Trying 7/39 (2 candidates)...\");</script>"
      ]
     },
     "metadata": {},
     "output_type": "display_data"
    },
    {
     "data": {
      "text/html": [
       "<script>groupResultsProgress(\"Trying 8/39 (2 candidates)...\");</script>"
      ]
     },
     "metadata": {},
     "output_type": "display_data"
    },
    {
     "data": {
      "text/html": [
       "<script>groupResultsProgress(\"Trying 9/39 (2 candidates)...\");</script>"
      ]
     },
     "metadata": {},
     "output_type": "display_data"
    },
    {
     "data": {
      "text/html": [
       "<script>groupResultsProgress(\"Trying 10/39 (2 candidates)...\");</script>"
      ]
     },
     "metadata": {},
     "output_type": "display_data"
    },
    {
     "data": {
      "text/html": [
       "<script>groupResultsProgress(\"Trying 11/39 (2 candidates)...\");</script>"
      ]
     },
     "metadata": {},
     "output_type": "display_data"
    },
    {
     "data": {
      "text/html": [
       "<script>groupResultsProgress(\"Trying 12/39 (2 candidates)...\");</script>"
      ]
     },
     "metadata": {},
     "output_type": "display_data"
    },
    {
     "data": {
      "text/html": [
       "<script>groupResultsProgress(\"Trying 13/39 (2 candidates)...\");</script>"
      ]
     },
     "metadata": {},
     "output_type": "display_data"
    },
    {
     "data": {
      "text/html": [
       "<script>groupResultsProgress(\"Trying 14/39 (2 candidates)...\");</script>"
      ]
     },
     "metadata": {},
     "output_type": "display_data"
    },
    {
     "data": {
      "text/html": [
       "<script>groupResultsProgress(\"Trying 15/39 (2 candidates)...\");</script>"
      ]
     },
     "metadata": {},
     "output_type": "display_data"
    },
    {
     "data": {
      "text/html": [
       "<script>groupResultsProgress(\"Trying 16/39 (2 candidates)...\");</script>"
      ]
     },
     "metadata": {},
     "output_type": "display_data"
    },
    {
     "data": {
      "text/html": [
       "<script>groupResultsProgress(\"Trying 17/39 (2 candidates)...\");</script>"
      ]
     },
     "metadata": {},
     "output_type": "display_data"
    },
    {
     "data": {
      "text/html": [
       "<script>groupResultsProgress(\"Trying 18/39 (2 candidates)...\");</script>"
      ]
     },
     "metadata": {},
     "output_type": "display_data"
    },
    {
     "data": {
      "text/html": [
       "<script>groupResultsProgress(\"Trying 19/39 (2 candidates)...\");</script>"
      ]
     },
     "metadata": {},
     "output_type": "display_data"
    },
    {
     "data": {
      "text/html": [
       "<script>groupResultsProgress(\"Trying 20/39 (2 candidates)...\");</script>"
      ]
     },
     "metadata": {},
     "output_type": "display_data"
    },
    {
     "data": {
      "text/html": [
       "<script>groupResultsProgress(\"Trying 21/39 (2 candidates)...\");</script>"
      ]
     },
     "metadata": {},
     "output_type": "display_data"
    },
    {
     "data": {
      "text/html": [
       "<script>groupResultsProgress(\"Trying 22/39 (2 candidates)...\");</script>"
      ]
     },
     "metadata": {},
     "output_type": "display_data"
    },
    {
     "data": {
      "text/html": [
       "<script>groupResultsProgress(\"Trying 23/39 (2 candidates)...\");</script>"
      ]
     },
     "metadata": {},
     "output_type": "display_data"
    },
    {
     "data": {
      "text/html": [
       "<script>groupResultsProgress(\"Trying 24/39 (2 candidates)...\");</script>"
      ]
     },
     "metadata": {},
     "output_type": "display_data"
    },
    {
     "data": {
      "text/html": [
       "<script>groupResultsProgress(\"Trying 25/39 (2 candidates)...\");</script>"
      ]
     },
     "metadata": {},
     "output_type": "display_data"
    },
    {
     "data": {
      "text/html": [
       "<script>groupResultsProgress(\"Trying 26/39 (2 candidates)...\");</script>"
      ]
     },
     "metadata": {},
     "output_type": "display_data"
    },
    {
     "data": {
      "text/html": [
       "<script>groupResultsProgress(\"Trying 27/39 (2 candidates)...\");</script>"
      ]
     },
     "metadata": {},
     "output_type": "display_data"
    },
    {
     "data": {
      "text/html": [
       "<script>groupResultsProgress(\"Trying 28/39 (2 candidates)...\");</script>"
      ]
     },
     "metadata": {},
     "output_type": "display_data"
    },
    {
     "data": {
      "text/html": [
       "<script>groupResultsProgress(\"Trying 29/39 (2 candidates)...\");</script>"
      ]
     },
     "metadata": {},
     "output_type": "display_data"
    },
    {
     "data": {
      "text/html": [
       "<script>groupResultsProgress(\"Trying 30/39 (2 candidates)...\");</script>"
      ]
     },
     "metadata": {},
     "output_type": "display_data"
    },
    {
     "data": {
      "text/html": [
       "<script>groupResultsProgress(\"Trying 31/39 (2 candidates)...\");</script>"
      ]
     },
     "metadata": {},
     "output_type": "display_data"
    },
    {
     "data": {
      "text/html": [
       "<script>groupResultsProgress(\"Trying 32/39 (2 candidates)...\");</script>"
      ]
     },
     "metadata": {},
     "output_type": "display_data"
    },
    {
     "data": {
      "text/html": [
       "<script>groupResultsProgress(\"Trying 33/39 (2 candidates)...\");</script>"
      ]
     },
     "metadata": {},
     "output_type": "display_data"
    },
    {
     "data": {
      "text/html": [
       "<script>groupResultsProgress(\"Trying 34/39 (2 candidates)...\");</script>"
      ]
     },
     "metadata": {},
     "output_type": "display_data"
    },
    {
     "data": {
      "text/html": [
       "<script>groupResultsProgress(\"Trying 35/39 (2 candidates)...\");</script>"
      ]
     },
     "metadata": {},
     "output_type": "display_data"
    },
    {
     "data": {
      "text/html": [
       "<script>groupResultsProgress(\"Trying 36/39 (2 candidates)...\");</script>"
      ]
     },
     "metadata": {},
     "output_type": "display_data"
    },
    {
     "data": {
      "text/html": [
       "<script>groupResultsProgress(\"Trying 37/39 (2 candidates)...\");</script>"
      ]
     },
     "metadata": {},
     "output_type": "display_data"
    },
    {
     "data": {
      "text/html": [
       "<script>groupResultsProgress(\"Trying 38/39 (2 candidates)...\");</script>"
      ]
     },
     "metadata": {},
     "output_type": "display_data"
    },
    {
     "data": {
      "text/html": [
       "<script>groupResultsProgress(\"Trying 39/39 (2 candidates)...\");</script>"
      ]
     },
     "metadata": {},
     "output_type": "display_data"
    },
    {
     "data": {
      "text/html": [
       "<script>groupResultsProgress(\"Done: 2 candidates\");</script>"
      ]
     },
     "metadata": {},
     "output_type": "display_data"
    },
    {
     "data": {
      "text/html": [
       "    <table  class=\"dataframe-table\">\n",
       "    <thead><tr><th class=\"cell-1\" style=\"\">name</th> <th class=\"cell-2\" style=\"\">spread</th> <th class=\"cell-3\" style=\"\">n</th> <th class=\"cell-4\" style=\"\">p</th> <th class=\"cell-5\" style=\"\">count</th></tr></thead>\n",
       "    <tbody>\n",
       "    <tr><td class=\"cell-1\" style=\"\"></td> <td class=\"cell-2\" style=\"text-align:right;\">8,716.833</td> <td class=\"cell-3\" style=\"text-align:right;\">5,344</td> <td class=\"cell-4\" style=\"text-align:right;\">1.631144</td> <td class=\"cell-5\" style=\"text-align:right;\">1</td></tr>\n",
       "<tr><td class=\"cell-1\" style=\"\">page_group</td> <td class=\"cell-2\" style=\"text-align:right;\">819.381027</td> <td class=\"cell-3\" style=\"text-align:right;\">144</td> <td class=\"cell-4\" style=\"text-align:right;\">12.343703</td> <td class=\"cell-5\" style=\"text-align:right;\">37</td></tr>\n",
       "    </tbody>\n"
      ]
     },
     "metadata": {},
     "output_type": "display_data"
    },
    {
     "name": "stderr",
     "output_type": "stream",
     "text": [
      "WARNING: rep{T <: Integer}(x::AbstractVector, lengths::AbstractVector{T}) is deprecated.\n",
      " in depwarn at deprecated.jl:73\n",
      " in rep at /home/ubuntu/.julia/v0.4/DataArrays/src/deprecated.jl:123\n",
      " in combine at /home/ubuntu/.julia/v0.4/DataFrames/src/groupeddataframe/grouping.jl:213\n",
      " in groupResults at /data/notebook_home/Production/Lib/Grouping-Package-v1.0.jl:304\n",
      " in include_string at loading.jl:282\n",
      " in execute_request_0x535c5df2 at /home/ubuntu/.julia/v0.4/IJulia/src/execute_request.jl:183\n",
      " in eventloop at /home/ubuntu/.julia/v0.4/IJulia/src/IJulia.jl:143\n",
      " in anonymous at task.jl:447\n",
      "while loading In[4], in expression starting on line 1\n"
     ]
    }
   ],
   "source": [
    "groups, group_summary = groupResults(short_results, dims=2, showProgress=true)\n",
    "beautifyDF(group_summary)"
   ]
  },
  {
   "cell_type": "code",
   "execution_count": 5,
   "metadata": {
    "collapsed": false,
    "scrolled": false
   },
   "outputs": [
    {
     "data": {
      "text/html": [
       "    <p id=\"progress-0.6359152132533619\">Best group dimension(s): page_group with 144 groups</p>\n",
       "    <script>\n",
       "    function groupResultsProgress(text) {\n",
       "        var p = document.getElementById(\"progress-0.6359152132533619\");\n",
       "        if(p) {\n",
       "            p.innerText = text;\n",
       "        }\n",
       "        var parent = p.parentNode.parentNode.parentNode;\n",
       "        if(parent) {\n",
       "            var divs = parent.getElementsByClassName(\"output_area\");\n",
       "            for(var i=1; i<divs.length; i++) {\n",
       "                divs[i].parentNode.removeChild(divs[i])\n",
       "            }\n",
       "        }\n",
       "    }\n"
      ]
     },
     "metadata": {},
     "output_type": "display_data"
    },
    {
     "data": {
      "text/html": [
       "    <table  class=\"dataframe-table\">\n",
       "    <thead><tr><th class=\"cell-1\" style=\"\">page group</th> <th class=\"cell-2\" style=\"\">n</th> <th class=\"cell-3\" style=\"\">median</th> <th class=\"cell-4\" style=\"\">spread</th> <th class=\"cell-5\" style=\"\">p</th> <th class=\"cell-6\" style=\"\">minf</th> <th class=\"cell-7\" style=\"\">low wm</th> <th class=\"cell-8\" style=\"\">p2</th> <th class=\"cell-9\" style=\"\">p25</th> <th class=\"cell-10\" style=\"\">p75</th> <th class=\"cell-11\" style=\"\">p98</th> <th class=\"cell-12\" style=\"\">high wm</th> <th class=\"cell-13\" style=\"\">maxf</th> <th class=\"cell-14\" style=\"\">bytes</th> <th class=\"cell-15\" style=\"\">nodes</th> <th class=\"cell-16\" style=\"\">scripts</th> <th class=\"cell-17\" style=\"\">images</th> <th class=\"cell-18\" style=\"\">params u</th> <th class=\"cell-19\" style=\"\">geo cc</th> <th class=\"cell-20\" style=\"\">geo rg</th> <th class=\"cell-21\" style=\"\">geo city</th> <th class=\"cell-22\" style=\"\">geo org</th> <th class=\"cell-23\" style=\"\">geo netspeed</th> <th class=\"cell-24\" style=\"\">user agent family</th> <th class=\"cell-25\" style=\"\">user agent major</th> <th class=\"cell-26\" style=\"\">user agent os</th> <th class=\"cell-27\" style=\"\">user agent osversion</th> <th class=\"cell-28\" style=\"\">user agent model</th></tr></thead>\n",
       "    <tbody>\n",
       "    <tr><td class=\"cell-1\" style=\"\">News Article</td> <td class=\"cell-2\" style=\"text-align:right;\">1,153</td> <td class=\"cell-3\" style=\"text-align:right;\">10,578</td> <td class=\"cell-4\" style=\"text-align:right;\">1,258.831</td> <td class=\"cell-5\" style=\"text-align:right;\">1.092</td> <td class=\"cell-6\" style=\"text-align:right;\">1,031</td> <td class=\"cell-7\" style=\"text-align:right;\">1,031</td> <td class=\"cell-8\" style=\"text-align:right;\">2,589</td> <td class=\"cell-9\" style=\"text-align:right;\">5,922</td> <td class=\"cell-10\" style=\"text-align:right;\">20,832</td> <td class=\"cell-11\" style=\"text-align:right;\">77,799</td> <td class=\"cell-12\" style=\"text-align:right;\">43,197</td> <td class=\"cell-13\" style=\"text-align:right;\">178,856</td> <td class=\"cell-14\" style=\"text-align:right;\">194,633</td> <td class=\"cell-15\" style=\"text-align:right;\">985</td> <td class=\"cell-16\" style=\"text-align:right;\">61</td> <td class=\"cell-17\" style=\"text-align:right;\">6</td> <td class=\"cell-18\" style=\"text-align:right;\">200</td> <td class=\"cell-19\" style=\"text-align:right;\">74</td> <td class=\"cell-20\" style=\"text-align:right;\">151</td> <td class=\"cell-21\" style=\"text-align:right;\">603</td> <td class=\"cell-22\" style=\"text-align:right;\">339</td> <td class=\"cell-23\" style=\"text-align:right;\">5</td> <td class=\"cell-24\" style=\"text-align:right;\">19</td> <td class=\"cell-25\" style=\"text-align:right;\">66</td> <td class=\"cell-26\" style=\"text-align:right;\">8</td> <td class=\"cell-27\" style=\"text-align:right;\">29</td> <td class=\"cell-28\" style=\"text-align:right;\">13</td></tr>\n",
       "<tr><td class=\"cell-1\" style=\"\">Your Shot</td> <td class=\"cell-2\" style=\"text-align:right;\">540</td> <td class=\"cell-3\" style=\"text-align:right;\">3,367</td> <td class=\"cell-4\" style=\"text-align:right;\">303.36</td> <td class=\"cell-5\" style=\"text-align:right;\">0.562</td> <td class=\"cell-6\" style=\"text-align:right;\">664</td> <td class=\"cell-7\" style=\"text-align:right;\">664</td> <td class=\"cell-8\" style=\"text-align:right;\">1,232</td> <td class=\"cell-9\" style=\"text-align:right;\">2,451</td> <td class=\"cell-10\" style=\"text-align:right;\">5,581</td> <td class=\"cell-11\" style=\"text-align:right;\">24,144</td> <td class=\"cell-12\" style=\"text-align:right;\">10,277</td> <td class=\"cell-13\" style=\"text-align:right;\">119,396</td> <td class=\"cell-14\" style=\"text-align:right;\">276,567</td> <td class=\"cell-15\" style=\"text-align:right;\">1,034</td> <td class=\"cell-16\" style=\"text-align:right;\">76</td> <td class=\"cell-17\" style=\"text-align:right;\">58</td> <td class=\"cell-18\" style=\"text-align:right;\">407</td> <td class=\"cell-19\" style=\"text-align:right;\">38</td> <td class=\"cell-20\" style=\"text-align:right;\">63</td> <td class=\"cell-21\" style=\"text-align:right;\">124</td> <td class=\"cell-22\" style=\"text-align:right;\">98</td> <td class=\"cell-23\" style=\"text-align:right;\">5</td> <td class=\"cell-24\" style=\"text-align:right;\">11</td> <td class=\"cell-25\" style=\"text-align:right;\">25</td> <td class=\"cell-26\" style=\"text-align:right;\">5</td> <td class=\"cell-27\" style=\"text-align:right;\">10</td> <td class=\"cell-28\" style=\"text-align:right;\">3</td></tr>\n",
       "<tr><td class=\"cell-1\" style=\"\">Video Player Base</td> <td class=\"cell-2\" style=\"text-align:right;\">424</td> <td class=\"cell-3\" style=\"text-align:right;\">2,994</td> <td class=\"cell-4\" style=\"text-align:right;\">3,834.695</td> <td class=\"cell-5\" style=\"text-align:right;\">9.044</td> <td class=\"cell-6\" style=\"text-align:right;\">237</td> <td class=\"cell-7\" style=\"text-align:right;\">237</td> <td class=\"cell-8\" style=\"text-align:right;\">412</td> <td class=\"cell-9\" style=\"text-align:right;\">1,551</td> <td class=\"cell-10\" style=\"text-align:right;\">6,744</td> <td class=\"cell-11\" style=\"text-align:right;\">25,762</td> <td class=\"cell-12\" style=\"text-align:right;\">14,534</td> <td class=\"cell-13\" style=\"text-align:right;\">72,309</td> <td class=\"cell-14\" style=\"text-align:right;\">166,157</td> <td class=\"cell-15\" style=\"text-align:right;\">112</td> <td class=\"cell-16\" style=\"text-align:right;\">39</td> <td class=\"cell-17\" style=\"text-align:right;\">2</td> <td class=\"cell-18\" style=\"text-align:right;\">29</td> <td class=\"cell-19\" style=\"text-align:right;\">16</td> <td class=\"cell-20\" style=\"text-align:right;\">42</td> <td class=\"cell-21\" style=\"text-align:right;\">79</td> <td class=\"cell-22\" style=\"text-align:right;\">58</td> <td class=\"cell-23\" style=\"text-align:right;\">4</td> <td class=\"cell-24\" style=\"text-align:right;\">11</td> <td class=\"cell-25\" style=\"text-align:right;\">31</td> <td class=\"cell-26\" style=\"text-align:right;\">5</td> <td class=\"cell-27\" style=\"text-align:right;\">15</td> <td class=\"cell-28\" style=\"text-align:right;\">3</td></tr>\n",
       "<tr><td class=\"cell-1\" style=\"\">Kids</td> <td class=\"cell-2\" style=\"text-align:right;\">372</td> <td class=\"cell-3\" style=\"text-align:right;\">3,905</td> <td class=\"cell-4\" style=\"text-align:right;\">1,208.689</td> <td class=\"cell-5\" style=\"text-align:right;\">3.249</td> <td class=\"cell-6\" style=\"text-align:right;\">692</td> <td class=\"cell-7\" style=\"text-align:right;\">692</td> <td class=\"cell-8\" style=\"text-align:right;\">911</td> <td class=\"cell-9\" style=\"text-align:right;\">1,952</td> <td class=\"cell-10\" style=\"text-align:right;\">8,072</td> <td class=\"cell-11\" style=\"text-align:right;\">44,164</td> <td class=\"cell-12\" style=\"text-align:right;\">17,251</td> <td class=\"cell-13\" style=\"text-align:right;\">118,871</td> <td class=\"cell-14\" style=\"text-align:right;\">145,700</td> <td class=\"cell-15\" style=\"text-align:right;\">942</td> <td class=\"cell-16\" style=\"text-align:right;\">94</td> <td class=\"cell-17\" style=\"text-align:right;\">60</td> <td class=\"cell-18\" style=\"text-align:right;\">168</td> <td class=\"cell-19\" style=\"text-align:right;\">10</td> <td class=\"cell-20\" style=\"text-align:right;\">49</td> <td class=\"cell-21\" style=\"text-align:right;\">141</td> <td class=\"cell-22\" style=\"text-align:right;\">58</td> <td class=\"cell-23\" style=\"text-align:right;\">5</td> <td class=\"cell-24\" style=\"text-align:right;\">11</td> <td class=\"cell-25\" style=\"text-align:right;\">23</td> <td class=\"cell-26\" style=\"text-align:right;\">8</td> <td class=\"cell-27\" style=\"text-align:right;\">16</td> <td class=\"cell-28\" style=\"text-align:right;\">5</td></tr>\n",
       "<tr><td class=\"cell-1\" style=\"\">Blogs</td> <td class=\"cell-2\" style=\"text-align:right;\">371</td> <td class=\"cell-3\" style=\"text-align:right;\">8,748</td> <td class=\"cell-4\" style=\"text-align:right;\">450.767</td> <td class=\"cell-5\" style=\"text-align:right;\">1.215</td> <td class=\"cell-6\" style=\"text-align:right;\">1,653</td> <td class=\"cell-7\" style=\"text-align:right;\">1,653</td> <td class=\"cell-8\" style=\"text-align:right;\">2,958</td> <td class=\"cell-9\" style=\"text-align:right;\">5,746</td> <td class=\"cell-10\" style=\"text-align:right;\">15,985</td> <td class=\"cell-11\" style=\"text-align:right;\">70,323</td> <td class=\"cell-12\" style=\"text-align:right;\">31,344</td> <td class=\"cell-13\" style=\"text-align:right;\">242,773</td> <td class=\"cell-14\" style=\"text-align:right;\">410,910</td> <td class=\"cell-15\" style=\"text-align:right;\">1,765</td> <td class=\"cell-16\" style=\"text-align:right;\">80</td> <td class=\"cell-17\" style=\"text-align:right;\">98</td> <td class=\"cell-18\" style=\"text-align:right;\">25</td> <td class=\"cell-19\" style=\"text-align:right;\">24</td> <td class=\"cell-20\" style=\"text-align:right;\">83</td> <td class=\"cell-21\" style=\"text-align:right;\">241</td> <td class=\"cell-22\" style=\"text-align:right;\">116</td> <td class=\"cell-23\" style=\"text-align:right;\">5</td> <td class=\"cell-24\" style=\"text-align:right;\">12</td> <td class=\"cell-25\" style=\"text-align:right;\">20</td> <td class=\"cell-26\" style=\"text-align:right;\">5</td> <td class=\"cell-27\" style=\"text-align:right;\">18</td> <td class=\"cell-28\" style=\"text-align:right;\">6</td></tr>\n",
       "<tr><td class=\"cell-1\" style=\"\">Channel</td> <td class=\"cell-2\" style=\"text-align:right;\">354</td> <td class=\"cell-3\" style=\"text-align:right;\">6,835</td> <td class=\"cell-4\" style=\"text-align:right;\">1,805.745</td> <td class=\"cell-5\" style=\"text-align:right;\">5.101</td> <td class=\"cell-6\" style=\"text-align:right;\">460</td> <td class=\"cell-7\" style=\"text-align:right;\">460</td> <td class=\"cell-8\" style=\"text-align:right;\">1,275</td> <td class=\"cell-9\" style=\"text-align:right;\">4,066</td> <td class=\"cell-10\" style=\"text-align:right;\">11,280</td> <td class=\"cell-11\" style=\"text-align:right;\">47,930</td> <td class=\"cell-12\" style=\"text-align:right;\">22,100</td> <td class=\"cell-13\" style=\"text-align:right;\">375,116</td> <td class=\"cell-14\" style=\"text-align:right;\">162,523</td> <td class=\"cell-15\" style=\"text-align:right;\">1,409</td> <td class=\"cell-16\" style=\"text-align:right;\">77</td> <td class=\"cell-17\" style=\"text-align:right;\">57</td> <td class=\"cell-18\" style=\"text-align:right;\">178</td> <td class=\"cell-19\" style=\"text-align:right;\">29</td> <td class=\"cell-20\" style=\"text-align:right;\">66</td> <td class=\"cell-21\" style=\"text-align:right;\">167</td> <td class=\"cell-22\" style=\"text-align:right;\">96</td> <td class=\"cell-23\" style=\"text-align:right;\">5</td> <td class=\"cell-24\" style=\"text-align:right;\">16</td> <td class=\"cell-25\" style=\"text-align:right;\">22</td> <td class=\"cell-26\" style=\"text-align:right;\">9</td> <td class=\"cell-27\" style=\"text-align:right;\">16</td> <td class=\"cell-28\" style=\"text-align:right;\">5</td></tr>\n",
       "<tr><td class=\"cell-1\" style=\"\">Magazine Homepage</td> <td class=\"cell-2\" style=\"text-align:right;\">242</td> <td class=\"cell-3\" style=\"text-align:right;\">8,293</td> <td class=\"cell-4\" style=\"text-align:right;\">825.912</td> <td class=\"cell-5\" style=\"text-align:right;\">3.413</td> <td class=\"cell-6\" style=\"text-align:right;\">1,553</td> <td class=\"cell-7\" style=\"text-align:right;\">1,553</td> <td class=\"cell-8\" style=\"text-align:right;\">2,088</td> <td class=\"cell-9\" style=\"text-align:right;\">5,087</td> <td class=\"cell-10\" style=\"text-align:right;\">16,683</td> <td class=\"cell-11\" style=\"text-align:right;\">78,589</td> <td class=\"cell-12\" style=\"text-align:right;\">34,077</td> <td class=\"cell-13\" style=\"text-align:right;\">173,145</td> <td class=\"cell-14\" style=\"text-align:right;\">255,090</td> <td class=\"cell-15\" style=\"text-align:right;\">1,081</td> <td class=\"cell-16\" style=\"text-align:right;\">60</td> <td class=\"cell-17\" style=\"text-align:right;\">9</td> <td class=\"cell-18\" style=\"text-align:right;\">84</td> <td class=\"cell-19\" style=\"text-align:right;\">26</td> <td class=\"cell-20\" style=\"text-align:right;\">67</td> <td class=\"cell-21\" style=\"text-align:right;\">155</td> <td class=\"cell-22\" style=\"text-align:right;\">102</td> <td class=\"cell-23\" style=\"text-align:right;\">5</td> <td class=\"cell-24\" style=\"text-align:right;\">14</td> <td class=\"cell-25\" style=\"text-align:right;\">36</td> <td class=\"cell-26\" style=\"text-align:right;\">7</td> <td class=\"cell-27\" style=\"text-align:right;\">14</td> <td class=\"cell-28\" style=\"text-align:right;\">5</td></tr>\n",
       "<tr><td class=\"cell-1\" style=\"\">Photography</td> <td class=\"cell-2\" style=\"text-align:right;\">183</td> <td class=\"cell-3\" style=\"text-align:right;\">6,768</td> <td class=\"cell-4\" style=\"text-align:right;\">625.274</td> <td class=\"cell-5\" style=\"text-align:right;\">3.417</td> <td class=\"cell-6\" style=\"text-align:right;\">1,455</td> <td class=\"cell-7\" style=\"text-align:right;\">1,455</td> <td class=\"cell-8\" style=\"text-align:right;\">1,819</td> <td class=\"cell-9\" style=\"text-align:right;\">4,494</td> <td class=\"cell-10\" style=\"text-align:right;\">14,962</td> <td class=\"cell-11\" style=\"text-align:right;\">53,980</td> <td class=\"cell-12\" style=\"text-align:right;\">30,662</td> <td class=\"cell-13\" style=\"text-align:right;\">150,934</td> <td class=\"cell-14\" style=\"text-align:right;\">236,967</td> <td class=\"cell-15\" style=\"text-align:right;\">1,283</td> <td class=\"cell-16\" style=\"text-align:right;\">73</td> <td class=\"cell-17\" style=\"text-align:right;\">7</td> <td class=\"cell-18\" style=\"text-align:right;\">59</td> <td class=\"cell-19\" style=\"text-align:right;\">38</td> <td class=\"cell-20\" style=\"text-align:right;\">67</td> <td class=\"cell-21\" style=\"text-align:right;\">115</td> <td class=\"cell-22\" style=\"text-align:right;\">90</td> <td class=\"cell-23\" style=\"text-align:right;\">5</td> <td class=\"cell-24\" style=\"text-align:right;\">14</td> <td class=\"cell-25\" style=\"text-align:right;\">34</td> <td class=\"cell-26\" style=\"text-align:right;\">6</td> <td class=\"cell-27\" style=\"text-align:right;\">14</td> <td class=\"cell-28\" style=\"text-align:right;\">6</td></tr>\n",
       "<tr><td class=\"cell-1\" style=\"\">Video</td> <td class=\"cell-2\" style=\"text-align:right;\">172</td> <td class=\"cell-3\" style=\"text-align:right;\">6,403</td> <td class=\"cell-4\" style=\"text-align:right;\">722.515</td> <td class=\"cell-5\" style=\"text-align:right;\">4.201</td> <td class=\"cell-6\" style=\"text-align:right;\">881</td> <td class=\"cell-7\" style=\"text-align:right;\">881</td> <td class=\"cell-8\" style=\"text-align:right;\">1,213</td> <td class=\"cell-9\" style=\"text-align:right;\">3,892</td> <td class=\"cell-10\" style=\"text-align:right;\">9,396</td> <td class=\"cell-11\" style=\"text-align:right;\">43,737</td> <td class=\"cell-12\" style=\"text-align:right;\">17,652</td> <td class=\"cell-13\" style=\"text-align:right;\">319,068</td> <td class=\"cell-14\" style=\"text-align:right;\">139,418</td> <td class=\"cell-15\" style=\"text-align:right;\">834</td> <td class=\"cell-16\" style=\"text-align:right;\">78</td> <td class=\"cell-17\" style=\"text-align:right;\">44</td> <td class=\"cell-18\" style=\"text-align:right;\">91</td> <td class=\"cell-19\" style=\"text-align:right;\">33</td> <td class=\"cell-20\" style=\"text-align:right;\">61</td> <td class=\"cell-21\" style=\"text-align:right;\">118</td> <td class=\"cell-22\" style=\"text-align:right;\">84</td> <td class=\"cell-23\" style=\"text-align:right;\">5</td> <td class=\"cell-24\" style=\"text-align:right;\">9</td> <td class=\"cell-25\" style=\"text-align:right;\">29</td> <td class=\"cell-26\" style=\"text-align:right;\">5</td> <td class=\"cell-27\" style=\"text-align:right;\">11</td> <td class=\"cell-28\" style=\"text-align:right;\">4</td></tr>\n",
       "<tr><td class=\"cell-1\" style=\"\">Nat Geo Homepage</td> <td class=\"cell-2\" style=\"text-align:right;\">170</td> <td class=\"cell-3\" style=\"text-align:right;\">7,824</td> <td class=\"cell-4\" style=\"text-align:right;\">1,371.643</td> <td class=\"cell-5\" style=\"text-align:right;\">8.068</td> <td class=\"cell-6\" style=\"text-align:right;\">796</td> <td class=\"cell-7\" style=\"text-align:right;\">796</td> <td class=\"cell-8\" style=\"text-align:right;\">1,343</td> <td class=\"cell-9\" style=\"text-align:right;\">4,026</td> <td class=\"cell-10\" style=\"text-align:right;\">15,010</td> <td class=\"cell-11\" style=\"text-align:right;\">46,572</td> <td class=\"cell-12\" style=\"text-align:right;\">31,486</td> <td class=\"cell-13\" style=\"text-align:right;\">158,438</td> <td class=\"cell-14\" style=\"text-align:right;\">233,654</td> <td class=\"cell-15\" style=\"text-align:right;\">1,311</td> <td class=\"cell-16\" style=\"text-align:right;\">56</td> <td class=\"cell-17\" style=\"text-align:right;\">20</td> <td class=\"cell-18\" style=\"\">NA</td> <td class=\"cell-19\" style=\"text-align:right;\">23</td> <td class=\"cell-20\" style=\"text-align:right;\">57</td> <td class=\"cell-21\" style=\"text-align:right;\">114</td> <td class=\"cell-22\" style=\"text-align:right;\">80</td> <td class=\"cell-23\" style=\"text-align:right;\">5</td> <td class=\"cell-24\" style=\"text-align:right;\">12</td> <td class=\"cell-25\" style=\"text-align:right;\">23</td> <td class=\"cell-26\" style=\"text-align:right;\">7</td> <td class=\"cell-27\" style=\"text-align:right;\">12</td> <td class=\"cell-28\" style=\"text-align:right;\">3</td></tr>\n",
       "<tr><td class=\"cell-1\" style=\"\">Nat Geo Site</td> <td class=\"cell-2\" style=\"text-align:right;\">158</td> <td class=\"cell-3\" style=\"text-align:right;\">7,910</td> <td class=\"cell-4\" style=\"text-align:right;\">5,296.5</td> <td class=\"cell-5\" style=\"text-align:right;\">33.522</td> <td class=\"cell-6\" style=\"text-align:right;\">604</td> <td class=\"cell-7\" style=\"text-align:right;\">604</td> <td class=\"cell-8\" style=\"text-align:right;\">1,150</td> <td class=\"cell-9\" style=\"text-align:right;\">4,464</td> <td class=\"cell-10\" style=\"text-align:right;\">15,672</td> <td class=\"cell-11\" style=\"text-align:right;\">113,212</td> <td class=\"cell-12\" style=\"text-align:right;\">32,484</td> <td class=\"cell-13\" style=\"text-align:right;\">250,374</td> <td class=\"cell-14\" style=\"text-align:right;\">215,905</td> <td class=\"cell-15\" style=\"text-align:right;\">1,320</td> <td class=\"cell-16\" style=\"text-align:right;\">66</td> <td class=\"cell-17\" style=\"text-align:right;\">10</td> <td class=\"cell-18\" style=\"text-align:right;\">96</td> <td class=\"cell-19\" style=\"text-align:right;\">15</td> <td class=\"cell-20\" style=\"text-align:right;\">56</td> <td class=\"cell-21\" style=\"text-align:right;\">98</td> <td class=\"cell-22\" style=\"text-align:right;\">64</td> <td class=\"cell-23\" style=\"text-align:right;\">5</td> <td class=\"cell-24\" style=\"text-align:right;\">11</td> <td class=\"cell-25\" style=\"text-align:right;\">22</td> <td class=\"cell-26\" style=\"text-align:right;\">8</td> <td class=\"cell-27\" style=\"text-align:right;\">15</td> <td class=\"cell-28\" style=\"text-align:right;\">4</td></tr>\n",
       "<tr><td class=\"cell-1\" style=\"\">News SubDir</td> <td class=\"cell-2\" style=\"text-align:right;\">131</td> <td class=\"cell-3\" style=\"text-align:right;\">9,811</td> <td class=\"cell-4\" style=\"text-align:right;\">1,551.46</td> <td class=\"cell-5\" style=\"text-align:right;\">11.843</td> <td class=\"cell-6\" style=\"text-align:right;\">987</td> <td class=\"cell-7\" style=\"text-align:right;\">987</td> <td class=\"cell-8\" style=\"text-align:right;\">2,246</td> <td class=\"cell-9\" style=\"text-align:right;\">5,820</td> <td class=\"cell-10\" style=\"text-align:right;\">16,962</td> <td class=\"cell-11\" style=\"text-align:right;\">102,156</td> <td class=\"cell-12\" style=\"text-align:right;\">33,673</td> <td class=\"cell-13\" style=\"text-align:right;\">305,952</td> <td class=\"cell-14\" style=\"text-align:right;\">189,928</td> <td class=\"cell-15\" style=\"text-align:right;\">979</td> <td class=\"cell-16\" style=\"text-align:right;\">61</td> <td class=\"cell-17\" style=\"text-align:right;\">8</td> <td class=\"cell-18\" style=\"text-align:right;\">98</td> <td class=\"cell-19\" style=\"text-align:right;\">21</td> <td class=\"cell-20\" style=\"text-align:right;\">52</td> <td class=\"cell-21\" style=\"text-align:right;\">97</td> <td class=\"cell-22\" style=\"text-align:right;\">77</td> <td class=\"cell-23\" style=\"text-align:right;\">5</td> <td class=\"cell-24\" style=\"text-align:right;\">17</td> <td class=\"cell-25\" style=\"text-align:right;\">23</td> <td class=\"cell-26\" style=\"text-align:right;\">7</td> <td class=\"cell-27\" style=\"text-align:right;\">18</td> <td class=\"cell-28\" style=\"text-align:right;\">5</td></tr>\n",
       "<tr><td class=\"cell-1\" style=\"\">Travel AEM</td> <td class=\"cell-2\" style=\"text-align:right;\">104</td> <td class=\"cell-3\" style=\"text-align:right;\">9,366</td> <td class=\"cell-4\" style=\"text-align:right;\">288.581</td> <td class=\"cell-5\" style=\"text-align:right;\">2.775</td> <td class=\"cell-6\" style=\"text-align:right;\">1,975</td> <td class=\"cell-7\" style=\"text-align:right;\">1,975</td> <td class=\"cell-8\" style=\"text-align:right;\">3,037</td> <td class=\"cell-9\" style=\"text-align:right;\">5,511</td> <td class=\"cell-10\" style=\"text-align:right;\">17,213</td> <td class=\"cell-11\" style=\"text-align:right;\">49,784</td> <td class=\"cell-12\" style=\"text-align:right;\">34,766</td> <td class=\"cell-13\" style=\"text-align:right;\">95,804</td> <td class=\"cell-14\" style=\"text-align:right;\">239,073</td> <td class=\"cell-15\" style=\"text-align:right;\">1,272</td> <td class=\"cell-16\" style=\"text-align:right;\">64</td> <td class=\"cell-17\" style=\"text-align:right;\">6</td> <td class=\"cell-18\" style=\"text-align:right;\">44</td> <td class=\"cell-19\" style=\"text-align:right;\">26</td> <td class=\"cell-20\" style=\"text-align:right;\">51</td> <td class=\"cell-21\" style=\"text-align:right;\">76</td> <td class=\"cell-22\" style=\"text-align:right;\">69</td> <td class=\"cell-23\" style=\"text-align:right;\">5</td> <td class=\"cell-24\" style=\"text-align:right;\">10</td> <td class=\"cell-25\" style=\"text-align:right;\">25</td> <td class=\"cell-26\" style=\"text-align:right;\">5</td> <td class=\"cell-27\" style=\"text-align:right;\">11</td> <td class=\"cell-28\" style=\"text-align:right;\">4</td></tr>\n",
       "<tr><td class=\"cell-1\" style=\"\">Magazine Subs</td> <td class=\"cell-2\" style=\"text-align:right;\">100</td> <td class=\"cell-3\" style=\"text-align:right;\">2,424</td> <td class=\"cell-4\" style=\"text-align:right;\">783.801</td> <td class=\"cell-5\" style=\"text-align:right;\">7.838</td> <td class=\"cell-6\" style=\"text-align:right;\">501</td> <td class=\"cell-7\" style=\"text-align:right;\">501</td> <td class=\"cell-8\" style=\"text-align:right;\">546</td> <td class=\"cell-9\" style=\"text-align:right;\">1,442</td> <td class=\"cell-10\" style=\"text-align:right;\">4,942</td> <td class=\"cell-11\" style=\"text-align:right;\">21,028</td> <td class=\"cell-12\" style=\"text-align:right;\">10,193</td> <td class=\"cell-13\" style=\"text-align:right;\">77,665</td> <td class=\"cell-14\" style=\"text-align:right;\">133,392</td> <td class=\"cell-15\" style=\"text-align:right;\">710</td> <td class=\"cell-16\" style=\"text-align:right;\">38</td> <td class=\"cell-17\" style=\"text-align:right;\">11</td> <td class=\"cell-18\" style=\"text-align:right;\">46</td> <td class=\"cell-19\" style=\"text-align:right;\">10</td> <td class=\"cell-20\" style=\"text-align:right;\">35</td> <td class=\"cell-21\" style=\"text-align:right;\">65</td> <td class=\"cell-22\" style=\"text-align:right;\">44</td> <td class=\"cell-23\" style=\"text-align:right;\">5</td> <td class=\"cell-24\" style=\"text-align:right;\">8</td> <td class=\"cell-25\" style=\"text-align:right;\">15</td> <td class=\"cell-26\" style=\"text-align:right;\">4</td> <td class=\"cell-27\" style=\"text-align:right;\">7</td> <td class=\"cell-28\" style=\"text-align:right;\">3</td></tr>\n",
       "<tr><td class=\"cell-1\" style=\"\">Phenomena</td> <td class=\"cell-2\" style=\"text-align:right;\">96</td> <td class=\"cell-3\" style=\"text-align:right;\">14,090</td> <td class=\"cell-4\" style=\"text-align:right;\">317.761</td> <td class=\"cell-5\" style=\"text-align:right;\">3.31</td> <td class=\"cell-6\" style=\"text-align:right;\">2,621</td> <td class=\"cell-7\" style=\"text-align:right;\">2,621</td> <td class=\"cell-8\" style=\"text-align:right;\">4,091</td> <td class=\"cell-9\" style=\"text-align:right;\">9,204</td> <td class=\"cell-10\" style=\"text-align:right;\">20,836</td> <td class=\"cell-11\" style=\"text-align:right;\">88,994</td> <td class=\"cell-12\" style=\"text-align:right;\">38,285</td> <td class=\"cell-13\" style=\"text-align:right;\">554,805</td> <td class=\"cell-14\" style=\"text-align:right;\">226,572</td> <td class=\"cell-15\" style=\"text-align:right;\">1,560</td> <td class=\"cell-16\" style=\"text-align:right;\">71</td> <td class=\"cell-17\" style=\"text-align:right;\">29</td> <td class=\"cell-18\" style=\"text-align:right;\">30</td> <td class=\"cell-19\" style=\"text-align:right;\">23</td> <td class=\"cell-20\" style=\"text-align:right;\">43</td> <td class=\"cell-21\" style=\"text-align:right;\">60</td> <td class=\"cell-22\" style=\"text-align:right;\">58</td> <td class=\"cell-23\" style=\"text-align:right;\">5</td> <td class=\"cell-24\" style=\"text-align:right;\">9</td> <td class=\"cell-25\" style=\"text-align:right;\">24</td> <td class=\"cell-26\" style=\"text-align:right;\">5</td> <td class=\"cell-27\" style=\"text-align:right;\">12</td> <td class=\"cell-28\" style=\"text-align:right;\">2</td></tr>\n",
       "<tr><td class=\"cell-1\" style=\"\">Members</td> <td class=\"cell-2\" style=\"text-align:right;\">91</td> <td class=\"cell-3\" style=\"text-align:right;\">2,647</td> <td class=\"cell-4\" style=\"text-align:right;\">938.724</td> <td class=\"cell-5\" style=\"text-align:right;\">10.316</td> <td class=\"cell-6\" style=\"text-align:right;\">497</td> <td class=\"cell-7\" style=\"text-align:right;\">497</td> <td class=\"cell-8\" style=\"text-align:right;\">538</td> <td class=\"cell-9\" style=\"text-align:right;\">1,670</td> <td class=\"cell-10\" style=\"text-align:right;\">4,582</td> <td class=\"cell-11\" style=\"text-align:right;\">28,049</td> <td class=\"cell-12\" style=\"text-align:right;\">8,949</td> <td class=\"cell-13\" style=\"text-align:right;\">36,597</td> <td class=\"cell-14\" style=\"text-align:right;\">79,526</td> <td class=\"cell-15\" style=\"text-align:right;\">540</td> <td class=\"cell-16\" style=\"text-align:right;\">47</td> <td class=\"cell-17\" style=\"text-align:right;\">19</td> <td class=\"cell-18\" style=\"text-align:right;\">32</td> <td class=\"cell-19\" style=\"text-align:right;\">14</td> <td class=\"cell-20\" style=\"text-align:right;\">36</td> <td class=\"cell-21\" style=\"text-align:right;\">47</td> <td class=\"cell-22\" style=\"text-align:right;\">40</td> <td class=\"cell-23\" style=\"text-align:right;\">4</td> <td class=\"cell-24\" style=\"text-align:right;\">7</td> <td class=\"cell-25\" style=\"text-align:right;\">11</td> <td class=\"cell-26\" style=\"text-align:right;\">5</td> <td class=\"cell-27\" style=\"text-align:right;\">9</td> <td class=\"cell-28\" style=\"text-align:right;\">3</td></tr>\n",
       "<tr><td class=\"cell-1\" style=\"\">Ocean</td> <td class=\"cell-2\" style=\"text-align:right;\">79</td> <td class=\"cell-3\" style=\"text-align:right;\">10,359</td> <td class=\"cell-4\" style=\"text-align:right;\">282.008</td> <td class=\"cell-5\" style=\"text-align:right;\">3.57</td> <td class=\"cell-6\" style=\"text-align:right;\">2,154</td> <td class=\"cell-7\" style=\"text-align:right;\">2,154</td> <td class=\"cell-8\" style=\"text-align:right;\">3,203</td> <td class=\"cell-9\" style=\"text-align:right;\">6,786</td> <td class=\"cell-10\" style=\"text-align:right;\">17,841</td> <td class=\"cell-11\" style=\"text-align:right;\">56,515</td> <td class=\"cell-12\" style=\"text-align:right;\">34,424</td> <td class=\"cell-13\" style=\"text-align:right;\">180,764</td> <td class=\"cell-14\" style=\"text-align:right;\">292,230</td> <td class=\"cell-15\" style=\"text-align:right;\">1,163</td> <td class=\"cell-16\" style=\"text-align:right;\">97</td> <td class=\"cell-17\" style=\"text-align:right;\">60</td> <td class=\"cell-18\" style=\"text-align:right;\">13</td> <td class=\"cell-19\" style=\"text-align:right;\">21</td> <td class=\"cell-20\" style=\"text-align:right;\">35</td> <td class=\"cell-21\" style=\"text-align:right;\">58</td> <td class=\"cell-22\" style=\"text-align:right;\">48</td> <td class=\"cell-23\" style=\"text-align:right;\">5</td> <td class=\"cell-24\" style=\"text-align:right;\">7</td> <td class=\"cell-25\" style=\"text-align:right;\">12</td> <td class=\"cell-26\" style=\"text-align:right;\">5</td> <td class=\"cell-27\" style=\"text-align:right;\">9</td> <td class=\"cell-28\" style=\"text-align:right;\">3</td></tr>\n",
       "<tr><td class=\"cell-1\" style=\"\">Kids MyShot</td> <td class=\"cell-2\" style=\"text-align:right;\">75</td> <td class=\"cell-3\" style=\"text-align:right;\">3,771</td> <td class=\"cell-4\" style=\"text-align:right;\">136.1</td> <td class=\"cell-5\" style=\"text-align:right;\">1.815</td> <td class=\"cell-6\" style=\"text-align:right;\">1,070</td> <td class=\"cell-7\" style=\"text-align:right;\">1,070</td> <td class=\"cell-8\" style=\"text-align:right;\">1,171</td> <td class=\"cell-9\" style=\"text-align:right;\">2,332</td> <td class=\"cell-10\" style=\"text-align:right;\">5,338</td> <td class=\"cell-11\" style=\"text-align:right;\">17,320</td> <td class=\"cell-12\" style=\"text-align:right;\">9,848</td> <td class=\"cell-13\" style=\"text-align:right;\">19,879</td> <td class=\"cell-14\" style=\"text-align:right;\">103,734</td> <td class=\"cell-15\" style=\"text-align:right;\">1,091</td> <td class=\"cell-16\" style=\"text-align:right;\">47</td> <td class=\"cell-17\" style=\"text-align:right;\">106</td> <td class=\"cell-18\" style=\"text-align:right;\">48</td> <td class=\"cell-19\" style=\"text-align:right;\">4</td> <td class=\"cell-20\" style=\"text-align:right;\">10</td> <td class=\"cell-21\" style=\"text-align:right;\">11</td> <td class=\"cell-22\" style=\"text-align:right;\">8</td> <td class=\"cell-23\" style=\"text-align:right;\">3</td> <td class=\"cell-24\" style=\"text-align:right;\">5</td> <td class=\"cell-25\" style=\"text-align:right;\">6</td> <td class=\"cell-26\" style=\"text-align:right;\">5</td> <td class=\"cell-27\" style=\"text-align:right;\">5</td> <td class=\"cell-28\" style=\"text-align:right;\">3</td></tr>\n",
       "<tr><td class=\"cell-1\" style=\"\">Travel WPF</td> <td class=\"cell-2\" style=\"text-align:right;\">72</td> <td class=\"cell-3\" style=\"text-align:right;\">13,512</td> <td class=\"cell-4\" style=\"text-align:right;\">862.931</td> <td class=\"cell-5\" style=\"text-align:right;\">11.985</td> <td class=\"cell-6\" style=\"text-align:right;\">1,924</td> <td class=\"cell-7\" style=\"text-align:right;\">1,924</td> <td class=\"cell-8\" style=\"text-align:right;\">2,567</td> <td class=\"cell-9\" style=\"text-align:right;\">7,067</td> <td class=\"cell-10\" style=\"text-align:right;\">23,734</td> <td class=\"cell-11\" style=\"text-align:right;\">87,438</td> <td class=\"cell-12\" style=\"text-align:right;\">48,734</td> <td class=\"cell-13\" style=\"text-align:right;\">268,897</td> <td class=\"cell-14\" style=\"text-align:right;\">314,076</td> <td class=\"cell-15\" style=\"text-align:right;\">1,243</td> <td class=\"cell-16\" style=\"text-align:right;\">99</td> <td class=\"cell-17\" style=\"text-align:right;\">58</td> <td class=\"cell-18\" style=\"text-align:right;\">60</td> <td class=\"cell-19\" style=\"text-align:right;\">11</td> <td class=\"cell-20\" style=\"text-align:right;\">38</td> <td class=\"cell-21\" style=\"text-align:right;\">49</td> <td class=\"cell-22\" style=\"text-align:right;\">37</td> <td class=\"cell-23\" style=\"text-align:right;\">4</td> <td class=\"cell-24\" style=\"text-align:right;\">9</td> <td class=\"cell-25\" style=\"text-align:right;\">15</td> <td class=\"cell-26\" style=\"text-align:right;\">4</td> <td class=\"cell-27\" style=\"text-align:right;\">9</td> <td class=\"cell-28\" style=\"text-align:right;\">4</td></tr>\n",
       "<tr><td class=\"cell-1\" style=\"\">Animals</td> <td class=\"cell-2\" style=\"text-align:right;\">69</td> <td class=\"cell-3\" style=\"text-align:right;\">18,258</td> <td class=\"cell-4\" style=\"text-align:right;\">428.931</td> <td class=\"cell-5\" style=\"text-align:right;\">6.216</td> <td class=\"cell-6\" style=\"text-align:right;\">2,465</td> <td class=\"cell-7\" style=\"text-align:right;\">2,465</td> <td class=\"cell-8\" style=\"text-align:right;\">3,355</td> <td class=\"cell-9\" style=\"text-align:right;\">9,039</td> <td class=\"cell-10\" style=\"text-align:right;\">30,590</td> <td class=\"cell-11\" style=\"text-align:right;\">56,386</td> <td class=\"cell-12\" style=\"text-align:right;\">62,916</td> <td class=\"cell-13\" style=\"text-align:right;\">73,235</td> <td class=\"cell-14\" style=\"text-align:right;\">662,686</td> <td class=\"cell-15\" style=\"text-align:right;\">2,301</td> <td class=\"cell-16\" style=\"text-align:right;\">102</td> <td class=\"cell-17\" style=\"text-align:right;\">341</td> <td class=\"cell-18\" style=\"text-align:right;\">61</td> <td class=\"cell-19\" style=\"text-align:right;\">7</td> <td class=\"cell-20\" style=\"text-align:right;\">36</td> <td class=\"cell-21\" style=\"text-align:right;\">61</td> <td class=\"cell-22\" style=\"text-align:right;\">34</td> <td class=\"cell-23\" style=\"text-align:right;\">5</td> <td class=\"cell-24\" style=\"text-align:right;\">9</td> <td class=\"cell-25\" style=\"text-align:right;\">15</td> <td class=\"cell-26\" style=\"text-align:right;\">4</td> <td class=\"cell-27\" style=\"text-align:right;\">9</td> <td class=\"cell-28\" style=\"text-align:right;\">3</td></tr>\n",
       "<tr><td class=\"cell-1\" style=\"\">Genographic</td> <td class=\"cell-2\" style=\"text-align:right;\">60</td> <td class=\"cell-3\" style=\"text-align:right;\">2,074</td> <td class=\"cell-4\" style=\"text-align:right;\">139.67</td> <td class=\"cell-5\" style=\"text-align:right;\">2.328</td> <td class=\"cell-6\" style=\"text-align:right;\">598</td> <td class=\"cell-7\" style=\"text-align:right;\">598</td> <td class=\"cell-8\" style=\"text-align:right;\">655</td> <td class=\"cell-9\" style=\"text-align:right;\">1,106</td> <td class=\"cell-10\" style=\"text-align:right;\">3,216</td> <td class=\"cell-11\" style=\"text-align:right;\">8,577</td> <td class=\"cell-12\" style=\"text-align:right;\">6,383</td> <td class=\"cell-13\" style=\"text-align:right;\">12,759</td> <td class=\"cell-14\" style=\"text-align:right;\">97,932</td> <td class=\"cell-15\" style=\"text-align:right;\">408</td> <td class=\"cell-16\" style=\"text-align:right;\">42</td> <td class=\"cell-17\" style=\"text-align:right;\">12</td> <td class=\"cell-18\" style=\"text-align:right;\">25</td> <td class=\"cell-19\" style=\"text-align:right;\">3</td> <td class=\"cell-20\" style=\"text-align:right;\">19</td> <td class=\"cell-21\" style=\"text-align:right;\">25</td> <td class=\"cell-22\" style=\"text-align:right;\">18</td> <td class=\"cell-23\" style=\"text-align:right;\">4</td> <td class=\"cell-24\" style=\"text-align:right;\">7</td> <td class=\"cell-25\" style=\"text-align:right;\">8</td> <td class=\"cell-26\" style=\"text-align:right;\">5</td> <td class=\"cell-27\" style=\"text-align:right;\">6</td> <td class=\"cell-28\" style=\"text-align:right;\">3</td></tr>\n",
       "<tr><td class=\"cell-1\" style=\"\">Magazine</td> <td class=\"cell-2\" style=\"text-align:right;\">58</td> <td class=\"cell-3\" style=\"text-align:right;\">7,040</td> <td class=\"cell-4\" style=\"text-align:right;\">1,459.946</td> <td class=\"cell-5\" style=\"text-align:right;\">25.171</td> <td class=\"cell-6\" style=\"text-align:right;\">1,000</td> <td class=\"cell-7\" style=\"text-align:right;\">1,000</td> <td class=\"cell-8\" style=\"text-align:right;\">1,350</td> <td class=\"cell-9\" style=\"text-align:right;\">3,531</td> <td class=\"cell-10\" style=\"text-align:right;\">13,913</td> <td class=\"cell-11\" style=\"text-align:right;\">66,833</td> <td class=\"cell-12\" style=\"text-align:right;\">29,487</td> <td class=\"cell-13\" style=\"text-align:right;\">74,795</td> <td class=\"cell-14\" style=\"text-align:right;\">190,543</td> <td class=\"cell-15\" style=\"text-align:right;\">803</td> <td class=\"cell-16\" style=\"text-align:right;\">85</td> <td class=\"cell-17\" style=\"text-align:right;\">32</td> <td class=\"cell-18\" style=\"text-align:right;\">45</td> <td class=\"cell-19\" style=\"text-align:right;\">11</td> <td class=\"cell-20\" style=\"text-align:right;\">33</td> <td class=\"cell-21\" style=\"text-align:right;\">43</td> <td class=\"cell-22\" style=\"text-align:right;\">30</td> <td class=\"cell-23\" style=\"text-align:right;\">4</td> <td class=\"cell-24\" style=\"text-align:right;\">8</td> <td class=\"cell-25\" style=\"text-align:right;\">10</td> <td class=\"cell-26\" style=\"text-align:right;\">4</td> <td class=\"cell-27\" style=\"text-align:right;\">6</td> <td class=\"cell-28\" style=\"text-align:right;\">3</td></tr>\n",
       "<tr><td class=\"cell-1\" style=\"\">Voices News</td> <td class=\"cell-2\" style=\"text-align:right;\">52</td> <td class=\"cell-3\" style=\"text-align:right;\">10,725</td> <td class=\"cell-4\" style=\"text-align:right;\">452.521</td> <td class=\"cell-5\" style=\"text-align:right;\">8.702</td> <td class=\"cell-6\" style=\"text-align:right;\">2,148</td> <td class=\"cell-7\" style=\"text-align:right;\">2,148</td> <td class=\"cell-8\" style=\"text-align:right;\">2,759</td> <td class=\"cell-9\" style=\"text-align:right;\">6,724</td> <td class=\"cell-10\" style=\"text-align:right;\">15,962</td> <td class=\"cell-11\" style=\"text-align:right;\">89,938</td> <td class=\"cell-12\" style=\"text-align:right;\">29,819</td> <td class=\"cell-13\" style=\"text-align:right;\">139,772</td> <td class=\"cell-14\" style=\"text-align:right;\">293,154</td> <td class=\"cell-15\" style=\"text-align:right;\">1,079</td> <td class=\"cell-16\" style=\"text-align:right;\">79</td> <td class=\"cell-17\" style=\"text-align:right;\">40</td> <td class=\"cell-18\" style=\"text-align:right;\">37</td> <td class=\"cell-19\" style=\"text-align:right;\">11</td> <td class=\"cell-20\" style=\"text-align:right;\">33</td> <td class=\"cell-21\" style=\"text-align:right;\">41</td> <td class=\"cell-22\" style=\"text-align:right;\">28</td> <td class=\"cell-23\" style=\"text-align:right;\">5</td> <td class=\"cell-24\" style=\"text-align:right;\">10</td> <td class=\"cell-25\" style=\"text-align:right;\">14</td> <td class=\"cell-26\" style=\"text-align:right;\">6</td> <td class=\"cell-27\" style=\"text-align:right;\">11</td> <td class=\"cell-28\" style=\"text-align:right;\">3</td></tr>\n",
       "<tr><td class=\"cell-1\" style=\"\">Adventure</td> <td class=\"cell-2\" style=\"text-align:right;\">37</td> <td class=\"cell-3\" style=\"text-align:right;\">13,965</td> <td class=\"cell-4\" style=\"text-align:right;\">564.034</td> <td class=\"cell-5\" style=\"text-align:right;\">15.244</td> <td class=\"cell-6\" style=\"text-align:right;\">2,582</td> <td class=\"cell-7\" style=\"text-align:right;\">2,582</td> <td class=\"cell-8\" style=\"text-align:right;\">2,933</td> <td class=\"cell-9\" style=\"text-align:right;\">6,720</td> <td class=\"cell-10\" style=\"text-align:right;\">28,201</td> <td class=\"cell-11\" style=\"text-align:right;\">70,684</td> <td class=\"cell-12\" style=\"text-align:right;\">60,422</td> <td class=\"cell-13\" style=\"text-align:right;\">75,660</td> <td class=\"cell-14\" style=\"text-align:right;\">224,463</td> <td class=\"cell-15\" style=\"text-align:right;\">1,123</td> <td class=\"cell-16\" style=\"text-align:right;\">62</td> <td class=\"cell-17\" style=\"text-align:right;\">14</td> <td class=\"cell-18\" style=\"text-align:right;\">25</td> <td class=\"cell-19\" style=\"text-align:right;\">15</td> <td class=\"cell-20\" style=\"text-align:right;\">24</td> <td class=\"cell-21\" style=\"text-align:right;\">27</td> <td class=\"cell-22\" style=\"text-align:right;\">29</td> <td class=\"cell-23\" style=\"text-align:right;\">4</td> <td class=\"cell-24\" style=\"text-align:right;\">7</td> <td class=\"cell-25\" style=\"text-align:right;\">12</td> <td class=\"cell-26\" style=\"text-align:right;\">5</td> <td class=\"cell-27\" style=\"text-align:right;\">9</td> <td class=\"cell-28\" style=\"text-align:right;\">4</td></tr>\n",
       "<tr><td class=\"cell-1\" style=\"\">Science</td> <td class=\"cell-2\" style=\"text-align:right;\">29</td> <td class=\"cell-3\" style=\"text-align:right;\">21,748</td> <td class=\"cell-4\" style=\"text-align:right;\">230.783</td> <td class=\"cell-5\" style=\"text-align:right;\">7.958</td> <td class=\"cell-6\" style=\"text-align:right;\">4,193</td> <td class=\"cell-7\" style=\"text-align:right;\">4,193</td> <td class=\"cell-8\" style=\"text-align:right;\">5,296</td> <td class=\"cell-9\" style=\"text-align:right;\">9,830</td> <td class=\"cell-10\" style=\"text-align:right;\">33,297</td> <td class=\"cell-11\" style=\"text-align:right;\">74,820</td> <td class=\"cell-12\" style=\"text-align:right;\">68,498</td> <td class=\"cell-13\" style=\"text-align:right;\">81,104</td> <td class=\"cell-14\" style=\"text-align:right;\">390,882</td> <td class=\"cell-15\" style=\"text-align:right;\">1,189</td> <td class=\"cell-16\" style=\"text-align:right;\">105</td> <td class=\"cell-17\" style=\"text-align:right;\">50</td> <td class=\"cell-18\" style=\"text-align:right;\">23</td> <td class=\"cell-19\" style=\"text-align:right;\">7</td> <td class=\"cell-20\" style=\"text-align:right;\">19</td> <td class=\"cell-21\" style=\"text-align:right;\">23</td> <td class=\"cell-22\" style=\"text-align:right;\">20</td> <td class=\"cell-23\" style=\"text-align:right;\">4</td> <td class=\"cell-24\" style=\"text-align:right;\">7</td> <td class=\"cell-25\" style=\"text-align:right;\">8</td> <td class=\"cell-26\" style=\"text-align:right;\">5</td> <td class=\"cell-27\" style=\"text-align:right;\">7</td> <td class=\"cell-28\" style=\"text-align:right;\">3</td></tr>\n",
       "<tr><td class=\"cell-1\" style=\"\">Events</td> <td class=\"cell-2\" style=\"text-align:right;\">24</td> <td class=\"cell-3\" style=\"text-align:right;\">3,368</td> <td class=\"cell-4\" style=\"text-align:right;\">1,577.183</td> <td class=\"cell-5\" style=\"text-align:right;\">65.716</td> <td class=\"cell-6\" style=\"text-align:right;\">1,162</td> <td class=\"cell-7\" style=\"text-align:right;\">1,162</td> <td class=\"cell-8\" style=\"text-align:right;\">1,262</td> <td class=\"cell-9\" style=\"text-align:right;\">2,553</td> <td class=\"cell-10\" style=\"text-align:right;\">5,590</td> <td class=\"cell-11\" style=\"text-align:right;\">227,922</td> <td class=\"cell-12\" style=\"text-align:right;\">10,146</td> <td class=\"cell-13\" style=\"text-align:right;\">404,700</td> <td class=\"cell-14\" style=\"text-align:right;\">107,039</td> <td class=\"cell-15\" style=\"text-align:right;\">741</td> <td class=\"cell-16\" style=\"text-align:right;\">59</td> <td class=\"cell-17\" style=\"text-align:right;\">10</td> <td class=\"cell-18\" style=\"text-align:right;\">11</td> <td class=\"cell-19\" style=\"text-align:right;\">2</td> <td class=\"cell-20\" style=\"text-align:right;\">5</td> <td class=\"cell-21\" style=\"text-align:right;\">6</td> <td class=\"cell-22\" style=\"text-align:right;\">6</td> <td class=\"cell-23\" style=\"text-align:right;\">3</td> <td class=\"cell-24\" style=\"text-align:right;\">4</td> <td class=\"cell-25\" style=\"text-align:right;\">5</td> <td class=\"cell-26\" style=\"text-align:right;\">3</td> <td class=\"cell-27\" style=\"text-align:right;\">3</td> <td class=\"cell-28\" style=\"\">NA</td></tr>\n",
       "<tr><td class=\"cell-1\" style=\"\">Environment</td> <td class=\"cell-2\" style=\"text-align:right;\">24</td> <td class=\"cell-3\" style=\"text-align:right;\">21,706</td> <td class=\"cell-4\" style=\"text-align:right;\">661.7</td> <td class=\"cell-5\" style=\"text-align:right;\">27.571</td> <td class=\"cell-6\" style=\"text-align:right;\">5,873</td> <td class=\"cell-7\" style=\"text-align:right;\">5,873</td> <td class=\"cell-8\" style=\"text-align:right;\">5,934</td> <td class=\"cell-9\" style=\"text-align:right;\">13,012</td> <td class=\"cell-10\" style=\"text-align:right;\">36,529</td> <td class=\"cell-11\" style=\"text-align:right;\">321,145</td> <td class=\"cell-12\" style=\"text-align:right;\">71,804</td> <td class=\"cell-13\" style=\"text-align:right;\">503,440</td> <td class=\"cell-14\" style=\"text-align:right;\">320,073</td> <td class=\"cell-15\" style=\"text-align:right;\">1,038</td> <td class=\"cell-16\" style=\"text-align:right;\">108</td> <td class=\"cell-17\" style=\"text-align:right;\">42</td> <td class=\"cell-18\" style=\"text-align:right;\">20</td> <td class=\"cell-19\" style=\"text-align:right;\">3</td> <td class=\"cell-20\" style=\"text-align:right;\">13</td> <td class=\"cell-21\" style=\"text-align:right;\">19</td> <td class=\"cell-22\" style=\"text-align:right;\">14</td> <td class=\"cell-23\" style=\"text-align:right;\">4</td> <td class=\"cell-24\" style=\"text-align:right;\">9</td> <td class=\"cell-25\" style=\"text-align:right;\">9</td> <td class=\"cell-26\" style=\"text-align:right;\">5</td> <td class=\"cell-27\" style=\"text-align:right;\">7</td> <td class=\"cell-28\" style=\"text-align:right;\">3</td></tr>\n",
       "<tr><td class=\"cell-1\" style=\"\">Dev</td> <td class=\"cell-2\" style=\"text-align:right;\">21</td> <td class=\"cell-3\" style=\"text-align:right;\">9,142</td> <td class=\"cell-4\" style=\"text-align:right;\">423.655</td> <td class=\"cell-5\" style=\"text-align:right;\">20.174</td> <td class=\"cell-6\" style=\"text-align:right;\">1,355</td> <td class=\"cell-7\" style=\"text-align:right;\">1,355</td> <td class=\"cell-8\" style=\"text-align:right;\">2,137</td> <td class=\"cell-9\" style=\"text-align:right;\">5,798</td> <td class=\"cell-10\" style=\"text-align:right;\">10,877</td> <td class=\"cell-11\" style=\"text-align:right;\">66,315</td> <td class=\"cell-12\" style=\"text-align:right;\">18,496</td> <td class=\"cell-13\" style=\"text-align:right;\">76,213</td> <td class=\"cell-14\" style=\"text-align:right;\">190,100</td> <td class=\"cell-15\" style=\"text-align:right;\">973</td> <td class=\"cell-16\" style=\"text-align:right;\">61</td> <td class=\"cell-17\" style=\"text-align:right;\">17</td> <td class=\"cell-18\" style=\"text-align:right;\">7</td> <td class=\"cell-19\" style=\"text-align:right;\">3</td> <td class=\"cell-20\" style=\"text-align:right;\">12</td> <td class=\"cell-21\" style=\"text-align:right;\">14</td> <td class=\"cell-22\" style=\"text-align:right;\">16</td> <td class=\"cell-23\" style=\"text-align:right;\">3</td> <td class=\"cell-24\" style=\"text-align:right;\">6</td> <td class=\"cell-25\" style=\"text-align:right;\">5</td> <td class=\"cell-26\" style=\"text-align:right;\">5</td> <td class=\"cell-27\" style=\"text-align:right;\">7</td> <td class=\"cell-28\" style=\"text-align:right;\">2</td></tr>\n",
       "<tr><td class=\"cell-1\" style=\"\">Games</td> <td class=\"cell-2\" style=\"text-align:right;\">17</td> <td class=\"cell-3\" style=\"text-align:right;\">7,220</td> <td class=\"cell-4\" style=\"text-align:right;\">282.904</td> <td class=\"cell-5\" style=\"text-align:right;\">16.641</td> <td class=\"cell-6\" style=\"text-align:right;\">2,904</td> <td class=\"cell-7\" style=\"text-align:right;\">2,904</td> <td class=\"cell-8\" style=\"text-align:right;\">3,087</td> <td class=\"cell-9\" style=\"text-align:right;\">5,297</td> <td class=\"cell-10\" style=\"text-align:right;\">8,359</td> <td class=\"cell-11\" style=\"text-align:right;\">195,813</td> <td class=\"cell-12\" style=\"text-align:right;\">12,952</td> <td class=\"cell-13\" style=\"text-align:right;\">249,742</td> <td class=\"cell-14\" style=\"text-align:right;\">181,832</td> <td class=\"cell-15\" style=\"text-align:right;\">949</td> <td class=\"cell-16\" style=\"text-align:right;\">102</td> <td class=\"cell-17\" style=\"text-align:right;\">47</td> <td class=\"cell-18\" style=\"text-align:right;\">2</td> <td class=\"cell-19\" style=\"text-align:right;\">3</td> <td class=\"cell-20\" style=\"text-align:right;\">12</td> <td class=\"cell-21\" style=\"text-align:right;\">13</td> <td class=\"cell-22\" style=\"text-align:right;\">9</td> <td class=\"cell-23\" style=\"text-align:right;\">3</td> <td class=\"cell-24\" style=\"text-align:right;\">5</td> <td class=\"cell-25\" style=\"text-align:right;\">6</td> <td class=\"cell-26\" style=\"text-align:right;\">2</td> <td class=\"cell-27\" style=\"text-align:right;\">4</td> <td class=\"cell-28\" style=\"text-align:right;\">2</td></tr>\n",
       "<tr><td class=\"cell-1\" style=\"\">Kids Subs</td> <td class=\"cell-2\" style=\"text-align:right;\">13</td> <td class=\"cell-3\" style=\"text-align:right;\">2,222</td> <td class=\"cell-4\" style=\"text-align:right;\">575.163</td> <td class=\"cell-5\" style=\"text-align:right;\">44.243</td> <td class=\"cell-6\" style=\"text-align:right;\">707</td> <td class=\"cell-7\" style=\"text-align:right;\">707</td> <td class=\"cell-8\" style=\"text-align:right;\">744</td> <td class=\"cell-9\" style=\"text-align:right;\">1,044</td> <td class=\"cell-10\" style=\"text-align:right;\">3,136</td> <td class=\"cell-11\" style=\"text-align:right;\">48,219</td> <td class=\"cell-12\" style=\"text-align:right;\">6,274</td> <td class=\"cell-13\" style=\"text-align:right;\">61,442</td> <td class=\"cell-14\" style=\"text-align:right;\">169,537</td> <td class=\"cell-15\" style=\"text-align:right;\">1,010</td> <td class=\"cell-16\" style=\"text-align:right;\">34</td> <td class=\"cell-17\" style=\"text-align:right;\">11</td> <td class=\"cell-18\" style=\"text-align:right;\">9</td> <td class=\"cell-19\" style=\"text-align:right;\">2</td> <td class=\"cell-20\" style=\"text-align:right;\">9</td> <td class=\"cell-21\" style=\"text-align:right;\">9</td> <td class=\"cell-22\" style=\"text-align:right;\">8</td> <td class=\"cell-23\" style=\"text-align:right;\">3</td> <td class=\"cell-24\" style=\"text-align:right;\">5</td> <td class=\"cell-25\" style=\"text-align:right;\">5</td> <td class=\"cell-26\" style=\"text-align:right;\">3</td> <td class=\"cell-27\" style=\"text-align:right;\">2</td> <td class=\"cell-28\" style=\"text-align:right;\">2</td></tr>\n",
       "<tr><td class=\"cell-1\" style=\"\">Archive</td> <td class=\"cell-2\" style=\"text-align:right;\">11</td> <td class=\"cell-3\" style=\"text-align:right;\">2,567</td> <td class=\"cell-4\" style=\"text-align:right;\">67.474</td> <td class=\"cell-5\" style=\"text-align:right;\">6.134</td> <td class=\"cell-6\" style=\"text-align:right;\">721</td> <td class=\"cell-7\" style=\"text-align:right;\">721</td> <td class=\"cell-8\" style=\"text-align:right;\">722</td> <td class=\"cell-9\" style=\"text-align:right;\">2,026</td> <td class=\"cell-10\" style=\"text-align:right;\">3,818</td> <td class=\"cell-11\" style=\"text-align:right;\">5,913</td> <td class=\"cell-12\" style=\"text-align:right;\">5,940</td> <td class=\"cell-13\" style=\"text-align:right;\">5,940</td> <td class=\"cell-14\" style=\"text-align:right;\">46,057</td> <td class=\"cell-15\" style=\"text-align:right;\">213</td> <td class=\"cell-16\" style=\"text-align:right;\">40</td> <td class=\"cell-17\" style=\"text-align:right;\">17</td> <td class=\"cell-18\" style=\"text-align:right;\">3</td> <td class=\"cell-19\" style=\"text-align:right;\">3</td> <td class=\"cell-20\" style=\"text-align:right;\">4</td> <td class=\"cell-21\" style=\"text-align:right;\">4</td> <td class=\"cell-22\" style=\"text-align:right;\">4</td> <td class=\"cell-23\" style=\"text-align:right;\">3</td> <td class=\"cell-24\" style=\"text-align:right;\">2</td> <td class=\"cell-25\" style=\"text-align:right;\">2</td> <td class=\"cell-26\" style=\"text-align:right;\">2</td> <td class=\"cell-27\" style=\"text-align:right;\">2</td> <td class=\"cell-28\" style=\"\">NA</td></tr>\n",
       "<tr><td class=\"cell-1\" style=\"\">Explorers</td> <td class=\"cell-2\" style=\"text-align:right;\">8</td> <td class=\"cell-3\" style=\"text-align:right;\">9,547</td> <td class=\"cell-4\" style=\"text-align:right;\">507.386</td> <td class=\"cell-5\" style=\"text-align:right;\">63.423</td> <td class=\"cell-6\" style=\"text-align:right;\">1,535</td> <td class=\"cell-7\" style=\"text-align:right;\">1,535</td> <td class=\"cell-8\" style=\"text-align:right;\">1,758</td> <td class=\"cell-9\" style=\"text-align:right;\">6,900</td> <td class=\"cell-10\" style=\"text-align:right;\">15,902</td> <td class=\"cell-11\" style=\"text-align:right;\">46,573</td> <td class=\"cell-12\" style=\"text-align:right;\">29,404</td> <td class=\"cell-13\" style=\"text-align:right;\">50,496</td> <td class=\"cell-14\" style=\"text-align:right;\">228,681</td> <td class=\"cell-15\" style=\"text-align:right;\">1,020</td> <td class=\"cell-16\" style=\"text-align:right;\">100</td> <td class=\"cell-17\" style=\"text-align:right;\">42</td> <td class=\"cell-18\" style=\"text-align:right;\">6</td> <td class=\"cell-19\" style=\"text-align:right;\">3</td> <td class=\"cell-20\" style=\"text-align:right;\">7</td> <td class=\"cell-21\" style=\"text-align:right;\">7</td> <td class=\"cell-22\" style=\"text-align:right;\">7</td> <td class=\"cell-23\" style=\"text-align:right;\">2</td> <td class=\"cell-24\" style=\"text-align:right;\">3</td> <td class=\"cell-25\" style=\"text-align:right;\">4</td> <td class=\"cell-26\" style=\"text-align:right;\">3</td> <td class=\"cell-27\" style=\"text-align:right;\">4</td> <td class=\"cell-28\" style=\"text-align:right;\">3</td></tr>\n",
       "<tr><td class=\"cell-1\" style=\"\">Photography Proof</td> <td class=\"cell-2\" style=\"text-align:right;\">8</td> <td class=\"cell-3\" style=\"text-align:right;\">16,144</td> <td class=\"cell-4\" style=\"text-align:right;\">25.607</td> <td class=\"cell-5\" style=\"text-align:right;\">3.201</td> <td class=\"cell-6\" style=\"text-align:right;\">8,266</td> <td class=\"cell-7\" style=\"text-align:right;\">8,266</td> <td class=\"cell-8\" style=\"text-align:right;\">8,477</td> <td class=\"cell-9\" style=\"text-align:right;\">12,292</td> <td class=\"cell-10\" style=\"text-align:right;\">23,210</td> <td class=\"cell-11\" style=\"text-align:right;\">45,326</td> <td class=\"cell-12\" style=\"text-align:right;\">39,587</td> <td class=\"cell-13\" style=\"text-align:right;\">45,739</td> <td class=\"cell-14\" style=\"text-align:right;\">356,292</td> <td class=\"cell-15\" style=\"text-align:right;\">1,496</td> <td class=\"cell-16\" style=\"text-align:right;\">83</td> <td class=\"cell-17\" style=\"text-align:right;\">86</td> <td class=\"cell-18\" style=\"text-align:right;\">8</td> <td class=\"cell-19\" style=\"text-align:right;\">5</td> <td class=\"cell-20\" style=\"text-align:right;\">6</td> <td class=\"cell-21\" style=\"text-align:right;\">6</td> <td class=\"cell-22\" style=\"text-align:right;\">8</td> <td class=\"cell-23\" style=\"text-align:right;\">3</td> <td class=\"cell-24\" style=\"text-align:right;\">5</td> <td class=\"cell-25\" style=\"text-align:right;\">5</td> <td class=\"cell-26\" style=\"text-align:right;\">4</td> <td class=\"cell-27\" style=\"text-align:right;\">4</td> <td class=\"cell-28\" style=\"text-align:right;\">2</td></tr>\n",
       "<tr><td class=\"cell-1\" style=\"\">Help</td> <td class=\"cell-2\" style=\"text-align:right;\">7</td> <td class=\"cell-3\" style=\"text-align:right;\">4,503</td> <td class=\"cell-4\" style=\"text-align:right;\">4.683</td> <td class=\"cell-5\" style=\"text-align:right;\">0.669</td> <td class=\"cell-6\" style=\"text-align:right;\">2,491</td> <td class=\"cell-7\" style=\"text-align:right;\">2,491</td> <td class=\"cell-8\" style=\"text-align:right;\">2,622</td> <td class=\"cell-9\" style=\"text-align:right;\">3,926</td> <td class=\"cell-10\" style=\"text-align:right;\">4,990</td> <td class=\"cell-11\" style=\"text-align:right;\">5,499</td> <td class=\"cell-12\" style=\"text-align:right;\">5,561</td> <td class=\"cell-13\" style=\"text-align:right;\">5,561</td> <td class=\"cell-14\" style=\"text-align:right;\">97,277</td> <td class=\"cell-15\" style=\"text-align:right;\">250</td> <td class=\"cell-16\" style=\"text-align:right;\">53</td> <td class=\"cell-17\" style=\"text-align:right;\">3</td> <td class=\"cell-18\" style=\"text-align:right;\">6</td> <td class=\"cell-19\" style=\"text-align:right;\">3</td> <td class=\"cell-20\" style=\"text-align:right;\">3</td> <td class=\"cell-21\" style=\"text-align:right;\">3</td> <td class=\"cell-22\" style=\"text-align:right;\">3</td> <td class=\"cell-23\" style=\"\">NA</td> <td class=\"cell-24\" style=\"text-align:right;\">3</td> <td class=\"cell-25\" style=\"text-align:right;\">2</td> <td class=\"cell-26\" style=\"text-align:right;\">2</td> <td class=\"cell-27\" style=\"text-align:right;\">2</td> <td class=\"cell-28\" style=\"text-align:right;\">2</td></tr>\n",
       "<tr><td class=\"cell-1\" style=\"\">Food</td> <td class=\"cell-2\" style=\"text-align:right;\">7</td> <td class=\"cell-3\" style=\"text-align:right;\">26,778</td> <td class=\"cell-4\" style=\"text-align:right;\">19.439</td> <td class=\"cell-5\" style=\"text-align:right;\">2.777</td> <td class=\"cell-6\" style=\"text-align:right;\">9,833</td> <td class=\"cell-7\" style=\"text-align:right;\">9,833</td> <td class=\"cell-8\" style=\"text-align:right;\">10,048</td> <td class=\"cell-9\" style=\"text-align:right;\">16,742</td> <td class=\"cell-10\" style=\"text-align:right;\">34,334</td> <td class=\"cell-11\" style=\"text-align:right;\">43,276</td> <td class=\"cell-12\" style=\"text-align:right;\">44,378</td> <td class=\"cell-13\" style=\"text-align:right;\">44,378</td> <td class=\"cell-14\" style=\"text-align:right;\">313,362</td> <td class=\"cell-15\" style=\"text-align:right;\">950</td> <td class=\"cell-16\" style=\"text-align:right;\">73</td> <td class=\"cell-17\" style=\"text-align:right;\">20</td> <td class=\"cell-18\" style=\"text-align:right;\">5</td> <td class=\"cell-19\" style=\"text-align:right;\">2</td> <td class=\"cell-20\" style=\"text-align:right;\">6</td> <td class=\"cell-21\" style=\"text-align:right;\">6</td> <td class=\"cell-22\" style=\"text-align:right;\">5</td> <td class=\"cell-23\" style=\"text-align:right;\">2</td> <td class=\"cell-24\" style=\"text-align:right;\">4</td> <td class=\"cell-25\" style=\"text-align:right;\">5</td> <td class=\"cell-26\" style=\"text-align:right;\">4</td> <td class=\"cell-27\" style=\"text-align:right;\">3</td> <td class=\"cell-28\" style=\"text-align:right;\">2</td></tr>\n",
       "<tr><td class=\"cell-1\" style=\"\">Press</td> <td class=\"cell-2\" style=\"text-align:right;\">3</td> <td class=\"cell-3\" style=\"text-align:right;\">3,618</td> <td class=\"cell-4\" style=\"text-align:right;\">6.886</td> <td class=\"cell-5\" style=\"text-align:right;\">2.295</td> <td class=\"cell-6\" style=\"text-align:right;\">3,426</td> <td class=\"cell-7\" style=\"text-align:right;\">3,426</td> <td class=\"cell-8\" style=\"text-align:right;\">3,434</td> <td class=\"cell-9\" style=\"text-align:right;\">3,522</td> <td class=\"cell-10\" style=\"text-align:right;\">6,364</td> <td class=\"cell-11\" style=\"text-align:right;\">8,891</td> <td class=\"cell-12\" style=\"text-align:right;\">9,111</td> <td class=\"cell-13\" style=\"text-align:right;\">9,111</td> <td class=\"cell-14\" style=\"text-align:right;\">205,270</td> <td class=\"cell-15\" style=\"text-align:right;\">769</td> <td class=\"cell-16\" style=\"text-align:right;\">62</td> <td class=\"cell-17\" style=\"text-align:right;\">6</td> <td class=\"cell-18\" style=\"text-align:right;\">3</td> <td class=\"cell-19\" style=\"\">NA</td> <td class=\"cell-20\" style=\"text-align:right;\">2</td> <td class=\"cell-21\" style=\"text-align:right;\">2</td> <td class=\"cell-22\" style=\"text-align:right;\">2</td> <td class=\"cell-23\" style=\"\">NA</td> <td class=\"cell-24\" style=\"text-align:right;\">2</td> <td class=\"cell-25\" style=\"text-align:right;\">2</td> <td class=\"cell-26\" style=\"text-align:right;\">2</td> <td class=\"cell-27\" style=\"text-align:right;\">2</td> <td class=\"cell-28\" style=\"text-align:right;\">2</td></tr>\n",
       "<tr><td class=\"cell-1\" style=\"\">Maps</td> <td class=\"cell-2\" style=\"text-align:right;\">2</td> <td class=\"cell-3\" style=\"text-align:right;\">52,808</td> <td class=\"cell-4\" style=\"text-align:right;\">23.836</td> <td class=\"cell-5\" style=\"text-align:right;\">11.918</td> <td class=\"cell-6\" style=\"text-align:right;\">17,255</td> <td class=\"cell-7\" style=\"text-align:right;\">17,255</td> <td class=\"cell-8\" style=\"text-align:right;\">18,677</td> <td class=\"cell-9\" style=\"text-align:right;\">35,031</td> <td class=\"cell-10\" style=\"text-align:right;\">70,584</td> <td class=\"cell-11\" style=\"text-align:right;\">86,938</td> <td class=\"cell-12\" style=\"text-align:right;\">88,360</td> <td class=\"cell-13\" style=\"text-align:right;\">88,360</td> <td class=\"cell-14\" style=\"text-align:right;\">230,576</td> <td class=\"cell-15\" style=\"text-align:right;\">1,062</td> <td class=\"cell-16\" style=\"text-align:right;\">92</td> <td class=\"cell-17\" style=\"text-align:right;\">50</td> <td class=\"cell-18\" style=\"\">NA</td> <td class=\"cell-19\" style=\"text-align:right;\">2</td> <td class=\"cell-20\" style=\"text-align:right;\">2</td> <td class=\"cell-21\" style=\"text-align:right;\">2</td> <td class=\"cell-22\" style=\"text-align:right;\">2</td> <td class=\"cell-23\" style=\"\">NA</td> <td class=\"cell-24\" style=\"text-align:right;\">2</td> <td class=\"cell-25\" style=\"text-align:right;\">2</td> <td class=\"cell-26\" style=\"\">NA</td> <td class=\"cell-27\" style=\"text-align:right;\">2</td> <td class=\"cell-28\" style=\"\">NA</td></tr>\n",
       "<tr><td class=\"cell-1\" style=\"\">Travel Subs</td> <td class=\"cell-2\" style=\"text-align:right;\">1</td> <td class=\"cell-3\" style=\"text-align:right;\">1,188</td> <td class=\"cell-4\" style=\"text-align:right;\">1</td> <td class=\"cell-5\" style=\"text-align:right;\">1</td> <td class=\"cell-6\" style=\"text-align:right;\">1,188</td> <td class=\"cell-7\" style=\"text-align:right;\">1,188</td> <td class=\"cell-8\" style=\"text-align:right;\">1,188</td> <td class=\"cell-9\" style=\"text-align:right;\">1,188</td> <td class=\"cell-10\" style=\"text-align:right;\">1,188</td> <td class=\"cell-11\" style=\"text-align:right;\">1,188</td> <td class=\"cell-12\" style=\"text-align:right;\">1,188</td> <td class=\"cell-13\" style=\"text-align:right;\">1,188</td> <td class=\"cell-14\" style=\"text-align:right;\">267,963</td> <td class=\"cell-15\" style=\"text-align:right;\">1,852</td> <td class=\"cell-16\" style=\"text-align:right;\">48</td> <td class=\"cell-17\" style=\"text-align:right;\">14</td> <td class=\"cell-18\" style=\"\">NA</td> <td class=\"cell-19\" style=\"\">NA</td> <td class=\"cell-20\" style=\"\">NA</td> <td class=\"cell-21\" style=\"\">NA</td> <td class=\"cell-22\" style=\"\">NA</td> <td class=\"cell-23\" style=\"\">NA</td> <td class=\"cell-24\" style=\"\">NA</td> <td class=\"cell-25\" style=\"\">NA</td> <td class=\"cell-26\" style=\"\">NA</td> <td class=\"cell-27\" style=\"\">NA</td> <td class=\"cell-28\" style=\"\">NA</td></tr>\n",
       "<tr><td class=\"cell-1\" style=\"\">(No Page Group)</td> <td class=\"cell-2\" style=\"text-align:right;\">1</td> <td class=\"cell-3\" style=\"text-align:right;\">1,482</td> <td class=\"cell-4\" style=\"text-align:right;\">1</td> <td class=\"cell-5\" style=\"text-align:right;\">1</td> <td class=\"cell-6\" style=\"text-align:right;\">1,482</td> <td class=\"cell-7\" style=\"text-align:right;\">1,482</td> <td class=\"cell-8\" style=\"text-align:right;\">1,482</td> <td class=\"cell-9\" style=\"text-align:right;\">1,482</td> <td class=\"cell-10\" style=\"text-align:right;\">1,482</td> <td class=\"cell-11\" style=\"text-align:right;\">1,482</td> <td class=\"cell-12\" style=\"text-align:right;\">1,482</td> <td class=\"cell-13\" style=\"text-align:right;\">1,482</td> <td class=\"cell-14\" style=\"text-align:right;\">47,283</td> <td class=\"cell-15\" style=\"text-align:right;\">376</td> <td class=\"cell-16\" style=\"text-align:right;\">39</td> <td class=\"cell-17\" style=\"text-align:right;\">65</td> <td class=\"cell-18\" style=\"\">NA</td> <td class=\"cell-19\" style=\"\">NA</td> <td class=\"cell-20\" style=\"\">NA</td> <td class=\"cell-21\" style=\"\">NA</td> <td class=\"cell-22\" style=\"\">NA</td> <td class=\"cell-23\" style=\"\">NA</td> <td class=\"cell-24\" style=\"\">NA</td> <td class=\"cell-25\" style=\"\">NA</td> <td class=\"cell-26\" style=\"\">NA</td> <td class=\"cell-27\" style=\"\">NA</td> <td class=\"cell-28\" style=\"\">NA</td></tr>\n",
       "<tr><td class=\"cell-1\" style=\"\">History</td> <td class=\"cell-2\" style=\"text-align:right;\">1</td> <td class=\"cell-3\" style=\"text-align:right;\">2,488</td> <td class=\"cell-4\" style=\"text-align:right;\">1</td> <td class=\"cell-5\" style=\"text-align:right;\">1</td> <td class=\"cell-6\" style=\"text-align:right;\">2,488</td> <td class=\"cell-7\" style=\"text-align:right;\">2,488</td> <td class=\"cell-8\" style=\"text-align:right;\">2,488</td> <td class=\"cell-9\" style=\"text-align:right;\">2,488</td> <td class=\"cell-10\" style=\"text-align:right;\">2,488</td> <td class=\"cell-11\" style=\"text-align:right;\">2,488</td> <td class=\"cell-12\" style=\"text-align:right;\">2,488</td> <td class=\"cell-13\" style=\"text-align:right;\">2,488</td> <td class=\"cell-14\" style=\"text-align:right;\">133,831</td> <td class=\"cell-15\" style=\"text-align:right;\">1,897</td> <td class=\"cell-16\" style=\"text-align:right;\">49</td> <td class=\"cell-17\" style=\"text-align:right;\">16</td> <td class=\"cell-18\" style=\"\">NA</td> <td class=\"cell-19\" style=\"\">NA</td> <td class=\"cell-20\" style=\"\">NA</td> <td class=\"cell-21\" style=\"\">NA</td> <td class=\"cell-22\" style=\"\">NA</td> <td class=\"cell-23\" style=\"\">NA</td> <td class=\"cell-24\" style=\"\">NA</td> <td class=\"cell-25\" style=\"\">NA</td> <td class=\"cell-26\" style=\"\">NA</td> <td class=\"cell-27\" style=\"\">NA</td> <td class=\"cell-28\" style=\"\">NA</td></tr>\n",
       "<tr><td class=\"cell-1\" style=\"\">Staging</td> <td class=\"cell-2\" style=\"text-align:right;\">1</td> <td class=\"cell-3\" style=\"text-align:right;\">3,798</td> <td class=\"cell-4\" style=\"text-align:right;\">1</td> <td class=\"cell-5\" style=\"text-align:right;\">1</td> <td class=\"cell-6\" style=\"text-align:right;\">3,798</td> <td class=\"cell-7\" style=\"text-align:right;\">3,798</td> <td class=\"cell-8\" style=\"text-align:right;\">3,798</td> <td class=\"cell-9\" style=\"text-align:right;\">3,798</td> <td class=\"cell-10\" style=\"text-align:right;\">3,798</td> <td class=\"cell-11\" style=\"text-align:right;\">3,798</td> <td class=\"cell-12\" style=\"text-align:right;\">3,798</td> <td class=\"cell-13\" style=\"text-align:right;\">3,798</td> <td class=\"cell-14\" style=\"text-align:right;\">162,531</td> <td class=\"cell-15\" style=\"text-align:right;\">996</td> <td class=\"cell-16\" style=\"text-align:right;\">52</td> <td class=\"cell-17\" style=\"text-align:right;\">7</td> <td class=\"cell-18\" style=\"\">NA</td> <td class=\"cell-19\" style=\"\">NA</td> <td class=\"cell-20\" style=\"\">NA</td> <td class=\"cell-21\" style=\"\">NA</td> <td class=\"cell-22\" style=\"\">NA</td> <td class=\"cell-23\" style=\"\">NA</td> <td class=\"cell-24\" style=\"\">NA</td> <td class=\"cell-25\" style=\"\">NA</td> <td class=\"cell-26\" style=\"\">NA</td> <td class=\"cell-27\" style=\"\">NA</td> <td class=\"cell-28\" style=\"\">NA</td></tr>\n",
       "<tr><td class=\"cell-1\" style=\"\">Channel Story of God</td> <td class=\"cell-2\" style=\"text-align:right;\">1</td> <td class=\"cell-3\" style=\"text-align:right;\">4,255</td> <td class=\"cell-4\" style=\"text-align:right;\">1</td> <td class=\"cell-5\" style=\"text-align:right;\">1</td> <td class=\"cell-6\" style=\"text-align:right;\">4,255</td> <td class=\"cell-7\" style=\"text-align:right;\">4,255</td> <td class=\"cell-8\" style=\"text-align:right;\">4,255</td> <td class=\"cell-9\" style=\"text-align:right;\">4,255</td> <td class=\"cell-10\" style=\"text-align:right;\">4,255</td> <td class=\"cell-11\" style=\"text-align:right;\">4,255</td> <td class=\"cell-12\" style=\"text-align:right;\">4,255</td> <td class=\"cell-13\" style=\"text-align:right;\">4,255</td> <td class=\"cell-14\" style=\"text-align:right;\">55,813</td> <td class=\"cell-15\" style=\"text-align:right;\">220</td> <td class=\"cell-16\" style=\"text-align:right;\">32</td> <td class=\"cell-17\" style=\"text-align:right;\">4</td> <td class=\"cell-18\" style=\"\">NA</td> <td class=\"cell-19\" style=\"\">NA</td> <td class=\"cell-20\" style=\"\">NA</td> <td class=\"cell-21\" style=\"\">NA</td> <td class=\"cell-22\" style=\"\">NA</td> <td class=\"cell-23\" style=\"\">NA</td> <td class=\"cell-24\" style=\"\">NA</td> <td class=\"cell-25\" style=\"\">NA</td> <td class=\"cell-26\" style=\"\">NA</td> <td class=\"cell-27\" style=\"\">NA</td> <td class=\"cell-28\" style=\"\">NA</td></tr>\n",
       "<tr><td class=\"cell-1\" style=\"\">Movies</td> <td class=\"cell-2\" style=\"text-align:right;\">1</td> <td class=\"cell-3\" style=\"text-align:right;\">24,010</td> <td class=\"cell-4\" style=\"text-align:right;\">1</td> <td class=\"cell-5\" style=\"text-align:right;\">1</td> <td class=\"cell-6\" style=\"text-align:right;\">24,010</td> <td class=\"cell-7\" style=\"text-align:right;\">24,010</td> <td class=\"cell-8\" style=\"text-align:right;\">24,010</td> <td class=\"cell-9\" style=\"text-align:right;\">24,010</td> <td class=\"cell-10\" style=\"text-align:right;\">24,010</td> <td class=\"cell-11\" style=\"text-align:right;\">24,010</td> <td class=\"cell-12\" style=\"text-align:right;\">24,010</td> <td class=\"cell-13\" style=\"text-align:right;\">24,010</td> <td class=\"cell-14\" style=\"text-align:right;\">290,628</td> <td class=\"cell-15\" style=\"text-align:right;\">1,074</td> <td class=\"cell-16\" style=\"text-align:right;\">99</td> <td class=\"cell-17\" style=\"text-align:right;\">47</td> <td class=\"cell-18\" style=\"\">NA</td> <td class=\"cell-19\" style=\"\">NA</td> <td class=\"cell-20\" style=\"\">NA</td> <td class=\"cell-21\" style=\"\">NA</td> <td class=\"cell-22\" style=\"\">NA</td> <td class=\"cell-23\" style=\"\">NA</td> <td class=\"cell-24\" style=\"\">NA</td> <td class=\"cell-25\" style=\"\">NA</td> <td class=\"cell-26\" style=\"\">NA</td> <td class=\"cell-27\" style=\"\">NA</td> <td class=\"cell-28\" style=\"\">NA</td></tr>\n",
       "<tr><td class=\"cell-1\" style=\"\">Travel Nomad</td> <td class=\"cell-2\" style=\"text-align:right;\">1</td> <td class=\"cell-3\" style=\"text-align:right;\">28,372</td> <td class=\"cell-4\" style=\"text-align:right;\">1</td> <td class=\"cell-5\" style=\"text-align:right;\">1</td> <td class=\"cell-6\" style=\"text-align:right;\">28,372</td> <td class=\"cell-7\" style=\"text-align:right;\">28,372</td> <td class=\"cell-8\" style=\"text-align:right;\">28,372</td> <td class=\"cell-9\" style=\"text-align:right;\">28,372</td> <td class=\"cell-10\" style=\"text-align:right;\">28,372</td> <td class=\"cell-11\" style=\"text-align:right;\">28,372</td> <td class=\"cell-12\" style=\"text-align:right;\">28,372</td> <td class=\"cell-13\" style=\"text-align:right;\">28,372</td> <td class=\"cell-14\" style=\"text-align:right;\">442,250</td> <td class=\"cell-15\" style=\"text-align:right;\">1,086</td> <td class=\"cell-16\" style=\"text-align:right;\">84</td> <td class=\"cell-17\" style=\"text-align:right;\">24</td> <td class=\"cell-18\" style=\"\">NA</td> <td class=\"cell-19\" style=\"\">NA</td> <td class=\"cell-20\" style=\"\">NA</td> <td class=\"cell-21\" style=\"\">NA</td> <td class=\"cell-22\" style=\"\">NA</td> <td class=\"cell-23\" style=\"\">NA</td> <td class=\"cell-24\" style=\"\">NA</td> <td class=\"cell-25\" style=\"\">NA</td> <td class=\"cell-26\" style=\"\">NA</td> <td class=\"cell-27\" style=\"\">NA</td> <td class=\"cell-28\" style=\"\">NA</td></tr>\n",
       "    </tbody>\n"
      ]
     },
     "metadata": {},
     "output_type": "display_data"
    }
   ],
   "source": [
    "gbg = getBestGrouping(short_results, group_summary)\n",
    "beautifyDF(gbg)"
   ]
  },
  {
   "cell_type": "code",
   "execution_count": 6,
   "metadata": {
    "collapsed": false
   },
   "outputs": [
    {
     "data": {
      "text/plain": [
       "(270746,17)"
      ]
     },
     "execution_count": 6,
     "metadata": {},
     "output_type": "execute_result"
    }
   ],
   "source": [
    "soasta_results = getLatestResults(table_name=table, hours=4);\n",
    "size(soasta_results)"
   ]
  },
  {
   "cell_type": "code",
   "execution_count": 7,
   "metadata": {
    "collapsed": false,
    "scrolled": false
   },
   "outputs": [
    {
     "data": {
      "text/html": [
       "    <p id=\"progress-0.2743513688155348\"></p>\n",
       "    <script>\n",
       "    function groupResultsProgress(text) {\n",
       "        var p = document.getElementById(\"progress-0.2743513688155348\");\n",
       "        if(p) {\n",
       "            p.innerText = text;\n",
       "        }\n",
       "        var parent = p.parentNode.parentNode.parentNode;\n",
       "        if(parent) {\n",
       "            var divs = parent.getElementsByClassName(\"output_area\");\n",
       "            for(var i=1; i<divs.length; i++) {\n",
       "                divs[i].parentNode.removeChild(divs[i])\n",
       "            }\n",
       "        }\n",
       "    }\n"
      ]
     },
     "metadata": {},
     "output_type": "display_data"
    },
    {
     "data": {
      "text/html": [
       "<script>groupResultsProgress(\"Starting...\");</script>"
      ]
     },
     "metadata": {},
     "output_type": "display_data"
    },
    {
     "data": {
      "text/html": [
       "<script>groupResultsProgress(\"Trying 39 dimension combinations...\");</script>"
      ]
     },
     "metadata": {},
     "output_type": "display_data"
    },
    {
     "data": {
      "text/html": [
       "<script>groupResultsProgress(\"Trying 1/39 (1 candidates)...\");</script>"
      ]
     },
     "metadata": {},
     "output_type": "display_data"
    },
    {
     "data": {
      "text/html": [
       "<script>groupResultsProgress(\"Found candidate: 1/39\");</script>"
      ]
     },
     "metadata": {},
     "output_type": "display_data"
    },
    {
     "data": {
      "text/html": [
       "<script>groupResultsProgress(\"Trying 2/39 (2 candidates)...\");</script>"
      ]
     },
     "metadata": {},
     "output_type": "display_data"
    },
    {
     "data": {
      "text/html": [
       "<script>groupResultsProgress(\"Trying 3/39 (2 candidates)...\");</script>"
      ]
     },
     "metadata": {},
     "output_type": "display_data"
    },
    {
     "data": {
      "text/html": [
       "<script>groupResultsProgress(\"Trying 4/39 (2 candidates)...\");</script>"
      ]
     },
     "metadata": {},
     "output_type": "display_data"
    },
    {
     "data": {
      "text/html": [
       "<script>groupResultsProgress(\"Trying 5/39 (2 candidates)...\");</script>"
      ]
     },
     "metadata": {},
     "output_type": "display_data"
    },
    {
     "data": {
      "text/html": [
       "<script>groupResultsProgress(\"Trying 6/39 (2 candidates)...\");</script>"
      ]
     },
     "metadata": {},
     "output_type": "display_data"
    },
    {
     "data": {
      "text/html": [
       "<script>groupResultsProgress(\"Trying 7/39 (2 candidates)...\");</script>"
      ]
     },
     "metadata": {},
     "output_type": "display_data"
    },
    {
     "data": {
      "text/html": [
       "<script>groupResultsProgress(\"Trying 8/39 (2 candidates)...\");</script>"
      ]
     },
     "metadata": {},
     "output_type": "display_data"
    },
    {
     "data": {
      "text/html": [
       "<script>groupResultsProgress(\"Trying 9/39 (2 candidates)...\");</script>"
      ]
     },
     "metadata": {},
     "output_type": "display_data"
    },
    {
     "data": {
      "text/html": [
       "<script>groupResultsProgress(\"Trying 10/39 (2 candidates)...\");</script>"
      ]
     },
     "metadata": {},
     "output_type": "display_data"
    },
    {
     "data": {
      "text/html": [
       "<script>groupResultsProgress(\"Trying 11/39 (2 candidates)...\");</script>"
      ]
     },
     "metadata": {},
     "output_type": "display_data"
    },
    {
     "data": {
      "text/html": [
       "<script>groupResultsProgress(\"Trying 12/39 (2 candidates)...\");</script>"
      ]
     },
     "metadata": {},
     "output_type": "display_data"
    },
    {
     "data": {
      "text/html": [
       "<script>groupResultsProgress(\"Trying 13/39 (2 candidates)...\");</script>"
      ]
     },
     "metadata": {},
     "output_type": "display_data"
    },
    {
     "data": {
      "text/html": [
       "<script>groupResultsProgress(\"Trying 14/39 (2 candidates)...\");</script>"
      ]
     },
     "metadata": {},
     "output_type": "display_data"
    },
    {
     "data": {
      "text/html": [
       "<script>groupResultsProgress(\"Trying 15/39 (2 candidates)...\");</script>"
      ]
     },
     "metadata": {},
     "output_type": "display_data"
    },
    {
     "data": {
      "text/html": [
       "<script>groupResultsProgress(\"Trying 16/39 (2 candidates)...\");</script>"
      ]
     },
     "metadata": {},
     "output_type": "display_data"
    },
    {
     "data": {
      "text/html": [
       "<script>groupResultsProgress(\"Trying 17/39 (2 candidates)...\");</script>"
      ]
     },
     "metadata": {},
     "output_type": "display_data"
    },
    {
     "data": {
      "text/html": [
       "<script>groupResultsProgress(\"Trying 18/39 (2 candidates)...\");</script>"
      ]
     },
     "metadata": {},
     "output_type": "display_data"
    },
    {
     "data": {
      "text/html": [
       "<script>groupResultsProgress(\"Trying 19/39 (2 candidates)...\");</script>"
      ]
     },
     "metadata": {},
     "output_type": "display_data"
    },
    {
     "data": {
      "text/html": [
       "<script>groupResultsProgress(\"Trying 20/39 (2 candidates)...\");</script>"
      ]
     },
     "metadata": {},
     "output_type": "display_data"
    },
    {
     "data": {
      "text/html": [
       "<script>groupResultsProgress(\"Trying 21/39 (2 candidates)...\");</script>"
      ]
     },
     "metadata": {},
     "output_type": "display_data"
    },
    {
     "data": {
      "text/html": [
       "<script>groupResultsProgress(\"Trying 22/39 (2 candidates)...\");</script>"
      ]
     },
     "metadata": {},
     "output_type": "display_data"
    },
    {
     "data": {
      "text/html": [
       "<script>groupResultsProgress(\"Trying 23/39 (2 candidates)...\");</script>"
      ]
     },
     "metadata": {},
     "output_type": "display_data"
    },
    {
     "data": {
      "text/html": [
       "<script>groupResultsProgress(\"Trying 24/39 (2 candidates)...\");</script>"
      ]
     },
     "metadata": {},
     "output_type": "display_data"
    },
    {
     "data": {
      "text/html": [
       "<script>groupResultsProgress(\"Trying 25/39 (2 candidates)...\");</script>"
      ]
     },
     "metadata": {},
     "output_type": "display_data"
    },
    {
     "data": {
      "text/html": [
       "<script>groupResultsProgress(\"Trying 26/39 (2 candidates)...\");</script>"
      ]
     },
     "metadata": {},
     "output_type": "display_data"
    },
    {
     "data": {
      "text/html": [
       "<script>groupResultsProgress(\"Trying 27/39 (2 candidates)...\");</script>"
      ]
     },
     "metadata": {},
     "output_type": "display_data"
    },
    {
     "data": {
      "text/html": [
       "<script>groupResultsProgress(\"Trying 28/39 (2 candidates)...\");</script>"
      ]
     },
     "metadata": {},
     "output_type": "display_data"
    },
    {
     "data": {
      "text/html": [
       "<script>groupResultsProgress(\"Trying 29/39 (2 candidates)...\");</script>"
      ]
     },
     "metadata": {},
     "output_type": "display_data"
    },
    {
     "data": {
      "text/html": [
       "<script>groupResultsProgress(\"Trying 30/39 (2 candidates)...\");</script>"
      ]
     },
     "metadata": {},
     "output_type": "display_data"
    },
    {
     "data": {
      "text/html": [
       "<script>groupResultsProgress(\"Trying 31/39 (2 candidates)...\");</script>"
      ]
     },
     "metadata": {},
     "output_type": "display_data"
    },
    {
     "data": {
      "text/html": [
       "<script>groupResultsProgress(\"Trying 32/39 (2 candidates)...\");</script>"
      ]
     },
     "metadata": {},
     "output_type": "display_data"
    },
    {
     "data": {
      "text/html": [
       "<script>groupResultsProgress(\"Trying 33/39 (2 candidates)...\");</script>"
      ]
     },
     "metadata": {},
     "output_type": "display_data"
    },
    {
     "data": {
      "text/html": [
       "<script>groupResultsProgress(\"Trying 34/39 (2 candidates)...\");</script>"
      ]
     },
     "metadata": {},
     "output_type": "display_data"
    },
    {
     "data": {
      "text/html": [
       "<script>groupResultsProgress(\"Trying 35/39 (2 candidates)...\");</script>"
      ]
     },
     "metadata": {},
     "output_type": "display_data"
    },
    {
     "data": {
      "text/html": [
       "<script>groupResultsProgress(\"Trying 36/39 (2 candidates)...\");</script>"
      ]
     },
     "metadata": {},
     "output_type": "display_data"
    },
    {
     "data": {
      "text/html": [
       "<script>groupResultsProgress(\"Trying 37/39 (2 candidates)...\");</script>"
      ]
     },
     "metadata": {},
     "output_type": "display_data"
    },
    {
     "data": {
      "text/html": [
       "<script>groupResultsProgress(\"Trying 38/39 (2 candidates)...\");</script>"
      ]
     },
     "metadata": {},
     "output_type": "display_data"
    },
    {
     "data": {
      "text/html": [
       "<script>groupResultsProgress(\"Trying 39/39 (2 candidates)...\");</script>"
      ]
     },
     "metadata": {},
     "output_type": "display_data"
    },
    {
     "data": {
      "text/html": [
       "<script>groupResultsProgress(\"Done: 2 candidates\");</script>"
      ]
     },
     "metadata": {},
     "output_type": "display_data"
    }
   ],
   "source": [
    "groups, group_summary = groupResults(soasta_results, dims=2, showProgress=true);"
   ]
  },
  {
   "cell_type": "code",
   "execution_count": 8,
   "metadata": {
    "collapsed": false,
    "input_collapsed": false
   },
   "outputs": [
    {
     "data": {
      "text/html": [
       "    <table  class=\"dataframe-table\">\n",
       "    <thead><tr><th class=\"cell-1\" style=\"\">name</th> <th class=\"cell-2\" style=\"\">spread</th> <th class=\"cell-3\" style=\"\">n</th> <th class=\"cell-4\" style=\"\">p</th> <th class=\"cell-5\" style=\"\">count</th></tr></thead>\n",
       "    <tbody>\n",
       "    <tr><td class=\"cell-1\" style=\"\"></td> <td class=\"cell-2\" style=\"text-align:right;\">41,991.364</td> <td class=\"cell-3\" style=\"text-align:right;\">270,746</td> <td class=\"cell-4\" style=\"text-align:right;\">0.155095</td> <td class=\"cell-5\" style=\"text-align:right;\">1</td></tr>\n",
       "<tr><td class=\"cell-1\" style=\"\">page_group</td> <td class=\"cell-2\" style=\"text-align:right;\">2,630.54202</td> <td class=\"cell-3\" style=\"text-align:right;\">5,525</td> <td class=\"cell-4\" style=\"text-align:right;\">2.80002</td> <td class=\"cell-5\" style=\"text-align:right;\">49</td></tr>\n",
       "    </tbody>\n"
      ]
     },
     "metadata": {},
     "output_type": "display_data"
    }
   ],
   "source": [
    "beautifyDF(group_summary)"
   ]
  },
  {
   "cell_type": "code",
   "execution_count": 9,
   "metadata": {
    "collapsed": false,
    "input_collapsed": false,
    "scrolled": false
   },
   "outputs": [
    {
     "data": {
      "text/html": [
       "    <p id=\"progress-0.9751635276974129\">Best group dimension(s): page_group with 5525 groups</p>\n",
       "    <script>\n",
       "    function groupResultsProgress(text) {\n",
       "        var p = document.getElementById(\"progress-0.9751635276974129\");\n",
       "        if(p) {\n",
       "            p.innerText = text;\n",
       "        }\n",
       "        var parent = p.parentNode.parentNode.parentNode;\n",
       "        if(parent) {\n",
       "            var divs = parent.getElementsByClassName(\"output_area\");\n",
       "            for(var i=1; i<divs.length; i++) {\n",
       "                divs[i].parentNode.removeChild(divs[i])\n",
       "            }\n",
       "        }\n",
       "    }\n"
      ]
     },
     "metadata": {},
     "output_type": "display_data"
    },
    {
     "data": {
      "text/html": [
       "    <table  class=\"dataframe-table\">\n",
       "    <thead><tr><th class=\"cell-1\" style=\"\">page group</th> <th class=\"cell-2\" style=\"\">n</th> <th class=\"cell-3\" style=\"\">median</th> <th class=\"cell-4\" style=\"\">spread</th> <th class=\"cell-5\" style=\"\">p</th> <th class=\"cell-6\" style=\"\">minf</th> <th class=\"cell-7\" style=\"\">low wm</th> <th class=\"cell-8\" style=\"\">p2</th> <th class=\"cell-9\" style=\"\">p25</th> <th class=\"cell-10\" style=\"\">p75</th> <th class=\"cell-11\" style=\"\">p98</th> <th class=\"cell-12\" style=\"\">high wm</th> <th class=\"cell-13\" style=\"\">maxf</th> <th class=\"cell-14\" style=\"\">bytes</th> <th class=\"cell-15\" style=\"\">nodes</th> <th class=\"cell-16\" style=\"\">scripts</th> <th class=\"cell-17\" style=\"\">images</th> <th class=\"cell-18\" style=\"\">params u</th> <th class=\"cell-19\" style=\"\">geo cc</th> <th class=\"cell-20\" style=\"\">geo rg</th> <th class=\"cell-21\" style=\"\">geo city</th> <th class=\"cell-22\" style=\"\">geo org</th> <th class=\"cell-23\" style=\"\">geo netspeed</th> <th class=\"cell-24\" style=\"\">user agent family</th> <th class=\"cell-25\" style=\"\">user agent major</th> <th class=\"cell-26\" style=\"\">user agent os</th> <th class=\"cell-27\" style=\"\">user agent osversion</th> <th class=\"cell-28\" style=\"\">user agent model</th></tr></thead>\n",
       "    <tbody>\n",
       "    <tr><td class=\"cell-1\" style=\"\">News Article</td> <td class=\"cell-2\" style=\"text-align:right;\">56,661</td> <td class=\"cell-3\" style=\"text-align:right;\">9,879</td> <td class=\"cell-4\" style=\"text-align:right;\">2,932.467</td> <td class=\"cell-5\" style=\"text-align:right;\">0.052</td> <td class=\"cell-6\" style=\"text-align:right;\">441</td> <td class=\"cell-7\" style=\"text-align:right;\">441</td> <td class=\"cell-8\" style=\"text-align:right;\">2,220</td> <td class=\"cell-9\" style=\"text-align:right;\">5,508</td> <td class=\"cell-10\" style=\"text-align:right;\">19,119</td> <td class=\"cell-11\" style=\"text-align:right;\">72,623</td> <td class=\"cell-12\" style=\"text-align:right;\">39,536</td> <td class=\"cell-13\" style=\"text-align:right;\">589,915</td> <td class=\"cell-14\" style=\"text-align:right;\">0</td> <td class=\"cell-15\" style=\"text-align:right;\">0</td> <td class=\"cell-16\" style=\"text-align:right;\">0</td> <td class=\"cell-17\" style=\"text-align:right;\">0</td> <td class=\"cell-18\" style=\"text-align:right;\">1,862</td> <td class=\"cell-19\" style=\"text-align:right;\">182</td> <td class=\"cell-20\" style=\"text-align:right;\">368</td> <td class=\"cell-21\" style=\"text-align:right;\">7,621</td> <td class=\"cell-22\" style=\"text-align:right;\">4,460</td> <td class=\"cell-23\" style=\"text-align:right;\">5</td> <td class=\"cell-24\" style=\"text-align:right;\">40</td> <td class=\"cell-25\" style=\"text-align:right;\">107</td> <td class=\"cell-26\" style=\"text-align:right;\">14</td> <td class=\"cell-27\" style=\"text-align:right;\">80</td> <td class=\"cell-28\" style=\"text-align:right;\">228</td></tr>\n",
       "<tr><td class=\"cell-1\" style=\"\">Your Shot</td> <td class=\"cell-2\" style=\"text-align:right;\">27,130</td> <td class=\"cell-3\" style=\"text-align:right;\">3,676</td> <td class=\"cell-4\" style=\"text-align:right;\">1,085.909</td> <td class=\"cell-5\" style=\"text-align:right;\">0.04</td> <td class=\"cell-6\" style=\"text-align:right;\">281</td> <td class=\"cell-7\" style=\"text-align:right;\">281</td> <td class=\"cell-8\" style=\"text-align:right;\">1,174</td> <td class=\"cell-9\" style=\"text-align:right;\">2,366</td> <td class=\"cell-10\" style=\"text-align:right;\">6,369</td> <td class=\"cell-11\" style=\"text-align:right;\">28,952</td> <td class=\"cell-12\" style=\"text-align:right;\">12,374</td> <td class=\"cell-13\" style=\"text-align:right;\">570,042</td> <td class=\"cell-14\" style=\"text-align:right;\">280,076</td> <td class=\"cell-15\" style=\"text-align:right;\">1,108</td> <td class=\"cell-16\" style=\"text-align:right;\">76</td> <td class=\"cell-17\" style=\"text-align:right;\">58</td> <td class=\"cell-18\" style=\"text-align:right;\">11,820</td> <td class=\"cell-19\" style=\"text-align:right;\">113</td> <td class=\"cell-20\" style=\"text-align:right;\">251</td> <td class=\"cell-21\" style=\"text-align:right;\">1,869</td> <td class=\"cell-22\" style=\"text-align:right;\">1,077</td> <td class=\"cell-23\" style=\"text-align:right;\">5</td> <td class=\"cell-24\" style=\"text-align:right;\">29</td> <td class=\"cell-25\" style=\"text-align:right;\">69</td> <td class=\"cell-26\" style=\"text-align:right;\">14</td> <td class=\"cell-27\" style=\"text-align:right;\">43</td> <td class=\"cell-28\" style=\"text-align:right;\">34</td></tr>\n",
       "<tr><td class=\"cell-1\" style=\"\">Kids</td> <td class=\"cell-2\" style=\"text-align:right;\">23,149</td> <td class=\"cell-3\" style=\"text-align:right;\">4,210</td> <td class=\"cell-4\" style=\"text-align:right;\">1,845.231</td> <td class=\"cell-5\" style=\"text-align:right;\">0.08</td> <td class=\"cell-6\" style=\"text-align:right;\">344</td> <td class=\"cell-7\" style=\"text-align:right;\">344</td> <td class=\"cell-8\" style=\"text-align:right;\">917</td> <td class=\"cell-9\" style=\"text-align:right;\">2,366</td> <td class=\"cell-10\" style=\"text-align:right;\">7,984</td> <td class=\"cell-11\" style=\"text-align:right;\">35,467</td> <td class=\"cell-12\" style=\"text-align:right;\">16,411</td> <td class=\"cell-13\" style=\"text-align:right;\">595,259</td> <td class=\"cell-14\" style=\"text-align:right;\">160,032</td> <td class=\"cell-15\" style=\"text-align:right;\">981</td> <td class=\"cell-16\" style=\"text-align:right;\">94</td> <td class=\"cell-17\" style=\"text-align:right;\">63</td> <td class=\"cell-18\" style=\"text-align:right;\">2,254</td> <td class=\"cell-19\" style=\"text-align:right;\">98</td> <td class=\"cell-20\" style=\"text-align:right;\">141</td> <td class=\"cell-21\" style=\"text-align:right;\">1,929</td> <td class=\"cell-22\" style=\"text-align:right;\">927</td> <td class=\"cell-23\" style=\"text-align:right;\">5</td> <td class=\"cell-24\" style=\"text-align:right;\">24</td> <td class=\"cell-25\" style=\"text-align:right;\">58</td> <td class=\"cell-26\" style=\"text-align:right;\">12</td> <td class=\"cell-27\" style=\"text-align:right;\">63</td> <td class=\"cell-28\" style=\"text-align:right;\">50</td></tr>\n",
       "<tr><td class=\"cell-1\" style=\"\">Channel</td> <td class=\"cell-2\" style=\"text-align:right;\">20,372</td> <td class=\"cell-3\" style=\"text-align:right;\">6,216</td> <td class=\"cell-4\" style=\"text-align:right;\">3,740.134</td> <td class=\"cell-5\" style=\"text-align:right;\">0.184</td> <td class=\"cell-6\" style=\"text-align:right;\">219</td> <td class=\"cell-7\" style=\"text-align:right;\">219</td> <td class=\"cell-8\" style=\"text-align:right;\">1,275</td> <td class=\"cell-9\" style=\"text-align:right;\">3,561</td> <td class=\"cell-10\" style=\"text-align:right;\">11,058</td> <td class=\"cell-11\" style=\"text-align:right;\">46,834</td> <td class=\"cell-12\" style=\"text-align:right;\">22,304</td> <td class=\"cell-13\" style=\"text-align:right;\">567,017</td> <td class=\"cell-14\" style=\"text-align:right;\">162,716</td> <td class=\"cell-15\" style=\"text-align:right;\">1,397</td> <td class=\"cell-16\" style=\"text-align:right;\">78</td> <td class=\"cell-17\" style=\"text-align:right;\">56</td> <td class=\"cell-18\" style=\"text-align:right;\">3,810</td> <td class=\"cell-19\" style=\"text-align:right;\">134</td> <td class=\"cell-20\" style=\"text-align:right;\">286</td> <td class=\"cell-21\" style=\"text-align:right;\">3,107</td> <td class=\"cell-22\" style=\"text-align:right;\">1,666</td> <td class=\"cell-23\" style=\"text-align:right;\">5</td> <td class=\"cell-24\" style=\"text-align:right;\">35</td> <td class=\"cell-25\" style=\"text-align:right;\">75</td> <td class=\"cell-26\" style=\"text-align:right;\">15</td> <td class=\"cell-27\" style=\"text-align:right;\">60</td> <td class=\"cell-28\" style=\"text-align:right;\">98</td></tr>\n",
       "<tr><td class=\"cell-1\" style=\"\">Magazine Homepage</td> <td class=\"cell-2\" style=\"text-align:right;\">15,750</td> <td class=\"cell-3\" style=\"text-align:right;\">7,768</td> <td class=\"cell-4\" style=\"text-align:right;\">5,927.918</td> <td class=\"cell-5\" style=\"text-align:right;\">0.376</td> <td class=\"cell-6\" style=\"text-align:right;\">291</td> <td class=\"cell-7\" style=\"text-align:right;\">291</td> <td class=\"cell-8\" style=\"text-align:right;\">1,528</td> <td class=\"cell-9\" style=\"text-align:right;\">4,293</td> <td class=\"cell-10\" style=\"text-align:right;\">15,686</td> <td class=\"cell-11\" style=\"text-align:right;\">80,421</td> <td class=\"cell-12\" style=\"text-align:right;\">32,775</td> <td class=\"cell-13\" style=\"text-align:right;\">596,339</td> <td class=\"cell-14\" style=\"text-align:right;\">289,216</td> <td class=\"cell-15\" style=\"text-align:right;\">1,093</td> <td class=\"cell-16\" style=\"text-align:right;\">61</td> <td class=\"cell-17\" style=\"text-align:right;\">9</td> <td class=\"cell-18\" style=\"text-align:right;\">1,321</td> <td class=\"cell-19\" style=\"text-align:right;\">134</td> <td class=\"cell-20\" style=\"text-align:right;\">308</td> <td class=\"cell-21\" style=\"text-align:right;\">3,365</td> <td class=\"cell-22\" style=\"text-align:right;\">1,873</td> <td class=\"cell-23\" style=\"text-align:right;\">5</td> <td class=\"cell-24\" style=\"text-align:right;\">38</td> <td class=\"cell-25\" style=\"text-align:right;\">100</td> <td class=\"cell-26\" style=\"text-align:right;\">14</td> <td class=\"cell-27\" style=\"text-align:right;\">56</td> <td class=\"cell-28\" style=\"text-align:right;\">64</td></tr>\n",
       "<tr><td class=\"cell-1\" style=\"\">Blogs</td> <td class=\"cell-2\" style=\"text-align:right;\">13,007</td> <td class=\"cell-3\" style=\"text-align:right;\">8,751</td> <td class=\"cell-4\" style=\"text-align:right;\">474.404</td> <td class=\"cell-5\" style=\"text-align:right;\">0.036</td> <td class=\"cell-6\" style=\"text-align:right;\">1,201</td> <td class=\"cell-7\" style=\"text-align:right;\">1,201</td> <td class=\"cell-8\" style=\"text-align:right;\">2,981</td> <td class=\"cell-9\" style=\"text-align:right;\">5,486</td> <td class=\"cell-10\" style=\"text-align:right;\">15,070</td> <td class=\"cell-11\" style=\"text-align:right;\">57,679</td> <td class=\"cell-12\" style=\"text-align:right;\">29,448</td> <td class=\"cell-13\" style=\"text-align:right;\">522,560</td> <td class=\"cell-14\" style=\"text-align:right;\">409,334</td> <td class=\"cell-15\" style=\"text-align:right;\">1,763</td> <td class=\"cell-16\" style=\"text-align:right;\">80</td> <td class=\"cell-17\" style=\"text-align:right;\">98</td> <td class=\"cell-18\" style=\"text-align:right;\">333</td> <td class=\"cell-19\" style=\"text-align:right;\">94</td> <td class=\"cell-20\" style=\"text-align:right;\">286</td> <td class=\"cell-21\" style=\"text-align:right;\">3,210</td> <td class=\"cell-22\" style=\"text-align:right;\">1,820</td> <td class=\"cell-23\" style=\"text-align:right;\">5</td> <td class=\"cell-24\" style=\"text-align:right;\">27</td> <td class=\"cell-25\" style=\"text-align:right;\">57</td> <td class=\"cell-26\" style=\"text-align:right;\">13</td> <td class=\"cell-27\" style=\"text-align:right;\">52</td> <td class=\"cell-28\" style=\"text-align:right;\">62</td></tr>\n",
       "<tr><td class=\"cell-1\" style=\"\">Photography</td> <td class=\"cell-2\" style=\"text-align:right;\">10,988</td> <td class=\"cell-3\" style=\"text-align:right;\">7,216</td> <td class=\"cell-4\" style=\"text-align:right;\">1,651.331</td> <td class=\"cell-5\" style=\"text-align:right;\">0.15</td> <td class=\"cell-6\" style=\"text-align:right;\">648</td> <td class=\"cell-7\" style=\"text-align:right;\">648</td> <td class=\"cell-8\" style=\"text-align:right;\">1,708</td> <td class=\"cell-9\" style=\"text-align:right;\">4,186</td> <td class=\"cell-10\" style=\"text-align:right;\">13,420</td> <td class=\"cell-11\" style=\"text-align:right;\">67,009</td> <td class=\"cell-12\" style=\"text-align:right;\">27,271</td> <td class=\"cell-13\" style=\"text-align:right;\">562,098</td> <td class=\"cell-14\" style=\"text-align:right;\">234,203</td> <td class=\"cell-15\" style=\"text-align:right;\">1,248</td> <td class=\"cell-16\" style=\"text-align:right;\">71</td> <td class=\"cell-17\" style=\"text-align:right;\">7</td> <td class=\"cell-18\" style=\"text-align:right;\">1,046</td> <td class=\"cell-19\" style=\"text-align:right;\">128</td> <td class=\"cell-20\" style=\"text-align:right;\">298</td> <td class=\"cell-21\" style=\"text-align:right;\">2,741</td> <td class=\"cell-22\" style=\"text-align:right;\">1,699</td> <td class=\"cell-23\" style=\"text-align:right;\">5</td> <td class=\"cell-24\" style=\"text-align:right;\">34</td> <td class=\"cell-25\" style=\"text-align:right;\">90</td> <td class=\"cell-26\" style=\"text-align:right;\">16</td> <td class=\"cell-27\" style=\"text-align:right;\">54</td> <td class=\"cell-28\" style=\"text-align:right;\">47</td></tr>\n",
       "<tr><td class=\"cell-1\" style=\"\">Video</td> <td class=\"cell-2\" style=\"text-align:right;\">10,112</td> <td class=\"cell-3\" style=\"text-align:right;\">6,246</td> <td class=\"cell-4\" style=\"text-align:right;\">978.207</td> <td class=\"cell-5\" style=\"text-align:right;\">0.097</td> <td class=\"cell-6\" style=\"text-align:right;\">559</td> <td class=\"cell-7\" style=\"text-align:right;\">559</td> <td class=\"cell-8\" style=\"text-align:right;\">1,527</td> <td class=\"cell-9\" style=\"text-align:right;\">3,879</td> <td class=\"cell-10\" style=\"text-align:right;\">9,923</td> <td class=\"cell-11\" style=\"text-align:right;\">43,972</td> <td class=\"cell-12\" style=\"text-align:right;\">18,989</td> <td class=\"cell-13\" style=\"text-align:right;\">529,014</td> <td class=\"cell-14\" style=\"text-align:right;\">138,947</td> <td class=\"cell-15\" style=\"text-align:right;\">825</td> <td class=\"cell-16\" style=\"text-align:right;\">77</td> <td class=\"cell-17\" style=\"text-align:right;\">42</td> <td class=\"cell-18\" style=\"text-align:right;\">1,642</td> <td class=\"cell-19\" style=\"text-align:right;\">142</td> <td class=\"cell-20\" style=\"text-align:right;\">298</td> <td class=\"cell-21\" style=\"text-align:right;\">2,815</td> <td class=\"cell-22\" style=\"text-align:right;\">1,551</td> <td class=\"cell-23\" style=\"text-align:right;\">5</td> <td class=\"cell-24\" style=\"text-align:right;\">30</td> <td class=\"cell-25\" style=\"text-align:right;\">95</td> <td class=\"cell-26\" style=\"text-align:right;\">13</td> <td class=\"cell-27\" style=\"text-align:right;\">59</td> <td class=\"cell-28\" style=\"text-align:right;\">82</td></tr>\n",
       "<tr><td class=\"cell-1\" style=\"\">Nat Geo Site</td> <td class=\"cell-2\" style=\"text-align:right;\">9,735</td> <td class=\"cell-3\" style=\"text-align:right;\">6,964</td> <td class=\"cell-4\" style=\"text-align:right;\">3,135.305</td> <td class=\"cell-5\" style=\"text-align:right;\">0.322</td> <td class=\"cell-6\" style=\"text-align:right;\">305</td> <td class=\"cell-7\" style=\"text-align:right;\">305</td> <td class=\"cell-8\" style=\"text-align:right;\">1,507</td> <td class=\"cell-9\" style=\"text-align:right;\">4,090</td> <td class=\"cell-10\" style=\"text-align:right;\">11,752</td> <td class=\"cell-11\" style=\"text-align:right;\">61,988</td> <td class=\"cell-12\" style=\"text-align:right;\">23,245</td> <td class=\"cell-13\" style=\"text-align:right;\">598,160</td> <td class=\"cell-14\" style=\"text-align:right;\">181,243</td> <td class=\"cell-15\" style=\"text-align:right;\">973</td> <td class=\"cell-16\" style=\"text-align:right;\">68</td> <td class=\"cell-17\" style=\"text-align:right;\">11</td> <td class=\"cell-18\" style=\"text-align:right;\">2,784</td> <td class=\"cell-19\" style=\"text-align:right;\">119</td> <td class=\"cell-20\" style=\"text-align:right;\">252</td> <td class=\"cell-21\" style=\"text-align:right;\">2,208</td> <td class=\"cell-22\" style=\"text-align:right;\">1,317</td> <td class=\"cell-23\" style=\"text-align:right;\">5</td> <td class=\"cell-24\" style=\"text-align:right;\">35</td> <td class=\"cell-25\" style=\"text-align:right;\">70</td> <td class=\"cell-26\" style=\"text-align:right;\">14</td> <td class=\"cell-27\" style=\"text-align:right;\">61</td> <td class=\"cell-28\" style=\"text-align:right;\">41</td></tr>\n",
       "<tr><td class=\"cell-1\" style=\"\">Nat Geo Homepage</td> <td class=\"cell-2\" style=\"text-align:right;\">8,497</td> <td class=\"cell-3\" style=\"text-align:right;\">6,643</td> <td class=\"cell-4\" style=\"text-align:right;\">2,262.152</td> <td class=\"cell-5\" style=\"text-align:right;\">0.266</td> <td class=\"cell-6\" style=\"text-align:right;\">484</td> <td class=\"cell-7\" style=\"text-align:right;\">484</td> <td class=\"cell-8\" style=\"text-align:right;\">1,436</td> <td class=\"cell-9\" style=\"text-align:right;\">3,853</td> <td class=\"cell-10\" style=\"text-align:right;\">12,362</td> <td class=\"cell-11\" style=\"text-align:right;\">62,562</td> <td class=\"cell-12\" style=\"text-align:right;\">25,126</td> <td class=\"cell-13\" style=\"text-align:right;\">565,296</td> <td class=\"cell-14\" style=\"text-align:right;\">229,245</td> <td class=\"cell-15\" style=\"text-align:right;\">1,295</td> <td class=\"cell-16\" style=\"text-align:right;\">57</td> <td class=\"cell-17\" style=\"text-align:right;\">19</td> <td class=\"cell-18\" style=\"\">NA</td> <td class=\"cell-19\" style=\"text-align:right;\">116</td> <td class=\"cell-20\" style=\"text-align:right;\">256</td> <td class=\"cell-21\" style=\"text-align:right;\">2,263</td> <td class=\"cell-22\" style=\"text-align:right;\">1,569</td> <td class=\"cell-23\" style=\"text-align:right;\">5</td> <td class=\"cell-24\" style=\"text-align:right;\">34</td> <td class=\"cell-25\" style=\"text-align:right;\">66</td> <td class=\"cell-26\" style=\"text-align:right;\">14</td> <td class=\"cell-27\" style=\"text-align:right;\">51</td> <td class=\"cell-28\" style=\"text-align:right;\">42</td></tr>\n",
       "<tr><td class=\"cell-1\" style=\"\">Video Player Base</td> <td class=\"cell-2\" style=\"text-align:right;\">7,445</td> <td class=\"cell-3\" style=\"text-align:right;\">2,709</td> <td class=\"cell-4\" style=\"text-align:right;\">21,410.263</td> <td class=\"cell-5\" style=\"text-align:right;\">2.876</td> <td class=\"cell-6\" style=\"text-align:right;\">38</td> <td class=\"cell-7\" style=\"text-align:right;\">38</td> <td class=\"cell-8\" style=\"text-align:right;\">338</td> <td class=\"cell-9\" style=\"text-align:right;\">1,506</td> <td class=\"cell-10\" style=\"text-align:right;\">5,984</td> <td class=\"cell-11\" style=\"text-align:right;\">21,651</td> <td class=\"cell-12\" style=\"text-align:right;\">12,701</td> <td class=\"cell-13\" style=\"text-align:right;\">466,590</td> <td class=\"cell-14\" style=\"text-align:right;\">166,741</td> <td class=\"cell-15\" style=\"text-align:right;\">109</td> <td class=\"cell-16\" style=\"text-align:right;\">40</td> <td class=\"cell-17\" style=\"text-align:right;\">2</td> <td class=\"cell-18\" style=\"text-align:right;\">387</td> <td class=\"cell-19\" style=\"text-align:right;\">67</td> <td class=\"cell-20\" style=\"text-align:right;\">147</td> <td class=\"cell-21\" style=\"text-align:right;\">722</td> <td class=\"cell-22\" style=\"text-align:right;\">400</td> <td class=\"cell-23\" style=\"text-align:right;\">5</td> <td class=\"cell-24\" style=\"text-align:right;\">25</td> <td class=\"cell-25\" style=\"text-align:right;\">73</td> <td class=\"cell-26\" style=\"text-align:right;\">11</td> <td class=\"cell-27\" style=\"text-align:right;\">45</td> <td class=\"cell-28\" style=\"text-align:right;\">19</td></tr>\n",
       "<tr><td class=\"cell-1\" style=\"\">News SubDir</td> <td class=\"cell-2\" style=\"text-align:right;\">6,695</td> <td class=\"cell-3\" style=\"text-align:right;\">8,197</td> <td class=\"cell-4\" style=\"text-align:right;\">1,436</td> <td class=\"cell-5\" style=\"text-align:right;\">0.214</td> <td class=\"cell-6\" style=\"text-align:right;\">819</td> <td class=\"cell-7\" style=\"text-align:right;\">819</td> <td class=\"cell-8\" style=\"text-align:right;\">2,009</td> <td class=\"cell-9\" style=\"text-align:right;\">4,836</td> <td class=\"cell-10\" style=\"text-align:right;\">15,975</td> <td class=\"cell-11\" style=\"text-align:right;\">72,292</td> <td class=\"cell-12\" style=\"text-align:right;\">32,684</td> <td class=\"cell-13\" style=\"text-align:right;\">532,341</td> <td class=\"cell-14\" style=\"text-align:right;\">192,794</td> <td class=\"cell-15\" style=\"text-align:right;\">990</td> <td class=\"cell-16\" style=\"text-align:right;\">61</td> <td class=\"cell-17\" style=\"text-align:right;\">8</td> <td class=\"cell-18\" style=\"text-align:right;\">1,624</td> <td class=\"cell-19\" style=\"text-align:right;\">105</td> <td class=\"cell-20\" style=\"text-align:right;\">272</td> <td class=\"cell-21\" style=\"text-align:right;\">2,131</td> <td class=\"cell-22\" style=\"text-align:right;\">1,218</td> <td class=\"cell-23\" style=\"text-align:right;\">5</td> <td class=\"cell-24\" style=\"text-align:right;\">33</td> <td class=\"cell-25\" style=\"text-align:right;\">70</td> <td class=\"cell-26\" style=\"text-align:right;\">14</td> <td class=\"cell-27\" style=\"text-align:right;\">57</td> <td class=\"cell-28\" style=\"text-align:right;\">53</td></tr>\n",
       "<tr><td class=\"cell-1\" style=\"\">Members</td> <td class=\"cell-2\" style=\"text-align:right;\">6,358</td> <td class=\"cell-3\" style=\"text-align:right;\">2,494</td> <td class=\"cell-4\" style=\"text-align:right;\">898.282</td> <td class=\"cell-5\" style=\"text-align:right;\">0.141</td> <td class=\"cell-6\" style=\"text-align:right;\">304</td> <td class=\"cell-7\" style=\"text-align:right;\">304</td> <td class=\"cell-8\" style=\"text-align:right;\">622</td> <td class=\"cell-9\" style=\"text-align:right;\">1,511</td> <td class=\"cell-10\" style=\"text-align:right;\">4,258</td> <td class=\"cell-11\" style=\"text-align:right;\">20,271</td> <td class=\"cell-12\" style=\"text-align:right;\">8,379</td> <td class=\"cell-13\" style=\"text-align:right;\">356,370</td> <td class=\"cell-14\" style=\"text-align:right;\">82,675</td> <td class=\"cell-15\" style=\"text-align:right;\">562</td> <td class=\"cell-16\" style=\"text-align:right;\">49</td> <td class=\"cell-17\" style=\"text-align:right;\">19</td> <td class=\"cell-18\" style=\"text-align:right;\">626</td> <td class=\"cell-19\" style=\"text-align:right;\">101</td> <td class=\"cell-20\" style=\"text-align:right;\">205</td> <td class=\"cell-21\" style=\"text-align:right;\">1,103</td> <td class=\"cell-22\" style=\"text-align:right;\">640</td> <td class=\"cell-23\" style=\"text-align:right;\">5</td> <td class=\"cell-24\" style=\"text-align:right;\">21</td> <td class=\"cell-25\" style=\"text-align:right;\">50</td> <td class=\"cell-26\" style=\"text-align:right;\">10</td> <td class=\"cell-27\" style=\"text-align:right;\">25</td> <td class=\"cell-28\" style=\"text-align:right;\">12</td></tr>\n",
       "<tr><td class=\"cell-1\" style=\"\">Travel AEM</td> <td class=\"cell-2\" style=\"text-align:right;\">5,661</td> <td class=\"cell-3\" style=\"text-align:right;\">9,043</td> <td class=\"cell-4\" style=\"text-align:right;\">1,162.926</td> <td class=\"cell-5\" style=\"text-align:right;\">0.205</td> <td class=\"cell-6\" style=\"text-align:right;\">1,081</td> <td class=\"cell-7\" style=\"text-align:right;\">1,081</td> <td class=\"cell-8\" style=\"text-align:right;\">2,132</td> <td class=\"cell-9\" style=\"text-align:right;\">5,158</td> <td class=\"cell-10\" style=\"text-align:right;\">17,589</td> <td class=\"cell-11\" style=\"text-align:right;\">73,959</td> <td class=\"cell-12\" style=\"text-align:right;\">36,236</td> <td class=\"cell-13\" style=\"text-align:right;\">571,720</td> <td class=\"cell-14\" style=\"text-align:right;\">0</td> <td class=\"cell-15\" style=\"text-align:right;\">0</td> <td class=\"cell-16\" style=\"text-align:right;\">0</td> <td class=\"cell-17\" style=\"text-align:right;\">0</td> <td class=\"cell-18\" style=\"text-align:right;\">618</td> <td class=\"cell-19\" style=\"text-align:right;\">120</td> <td class=\"cell-20\" style=\"text-align:right;\">267</td> <td class=\"cell-21\" style=\"text-align:right;\">1,769</td> <td class=\"cell-22\" style=\"text-align:right;\">1,128</td> <td class=\"cell-23\" style=\"text-align:right;\">5</td> <td class=\"cell-24\" style=\"text-align:right;\">30</td> <td class=\"cell-25\" style=\"text-align:right;\">89</td> <td class=\"cell-26\" style=\"text-align:right;\">12</td> <td class=\"cell-27\" style=\"text-align:right;\">47</td> <td class=\"cell-28\" style=\"text-align:right;\">45</td></tr>\n",
       "<tr><td class=\"cell-1\" style=\"\">Phenomena</td> <td class=\"cell-2\" style=\"text-align:right;\">5,402</td> <td class=\"cell-3\" style=\"text-align:right;\">13,782</td> <td class=\"cell-4\" style=\"text-align:right;\">799.857</td> <td class=\"cell-5\" style=\"text-align:right;\">0.148</td> <td class=\"cell-6\" style=\"text-align:right;\">1,451</td> <td class=\"cell-7\" style=\"text-align:right;\">1,451</td> <td class=\"cell-8\" style=\"text-align:right;\">3,252</td> <td class=\"cell-9\" style=\"text-align:right;\">8,558</td> <td class=\"cell-10\" style=\"text-align:right;\">22,761</td> <td class=\"cell-11\" style=\"text-align:right;\">85,652</td> <td class=\"cell-12\" style=\"text-align:right;\">44,066</td> <td class=\"cell-13\" style=\"text-align:right;\">581,881</td> <td class=\"cell-14\" style=\"text-align:right;\">222,582</td> <td class=\"cell-15\" style=\"text-align:right;\">1,528</td> <td class=\"cell-16\" style=\"text-align:right;\">71</td> <td class=\"cell-17\" style=\"text-align:right;\">28</td> <td class=\"cell-18\" style=\"text-align:right;\">419</td> <td class=\"cell-19\" style=\"text-align:right;\">123</td> <td class=\"cell-20\" style=\"text-align:right;\">271</td> <td class=\"cell-21\" style=\"text-align:right;\">1,973</td> <td class=\"cell-22\" style=\"text-align:right;\">1,082</td> <td class=\"cell-23\" style=\"text-align:right;\">5</td> <td class=\"cell-24\" style=\"text-align:right;\">29</td> <td class=\"cell-25\" style=\"text-align:right;\">98</td> <td class=\"cell-26\" style=\"text-align:right;\">12</td> <td class=\"cell-27\" style=\"text-align:right;\">44</td> <td class=\"cell-28\" style=\"text-align:right;\">35</td></tr>\n",
       "<tr><td class=\"cell-1\" style=\"\">Magazine Subs</td> <td class=\"cell-2\" style=\"text-align:right;\">5,129</td> <td class=\"cell-3\" style=\"text-align:right;\">2,630</td> <td class=\"cell-4\" style=\"text-align:right;\">1,087.541</td> <td class=\"cell-5\" style=\"text-align:right;\">0.212</td> <td class=\"cell-6\" style=\"text-align:right;\">230</td> <td class=\"cell-7\" style=\"text-align:right;\">230</td> <td class=\"cell-8\" style=\"text-align:right;\">682</td> <td class=\"cell-9\" style=\"text-align:right;\">1,659</td> <td class=\"cell-10\" style=\"text-align:right;\">4,338</td> <td class=\"cell-11\" style=\"text-align:right;\">20,418</td> <td class=\"cell-12\" style=\"text-align:right;\">8,356</td> <td class=\"cell-13\" style=\"text-align:right;\">351,397</td> <td class=\"cell-14\" style=\"text-align:right;\">140,200</td> <td class=\"cell-15\" style=\"text-align:right;\">735</td> <td class=\"cell-16\" style=\"text-align:right;\">38</td> <td class=\"cell-17\" style=\"text-align:right;\">11</td> <td class=\"cell-18\" style=\"text-align:right;\">522</td> <td class=\"cell-19\" style=\"text-align:right;\">87</td> <td class=\"cell-20\" style=\"text-align:right;\">228</td> <td class=\"cell-21\" style=\"text-align:right;\">1,528</td> <td class=\"cell-22\" style=\"text-align:right;\">854</td> <td class=\"cell-23\" style=\"text-align:right;\">5</td> <td class=\"cell-24\" style=\"text-align:right;\">28</td> <td class=\"cell-25\" style=\"text-align:right;\">68</td> <td class=\"cell-26\" style=\"text-align:right;\">12</td> <td class=\"cell-27\" style=\"text-align:right;\">41</td> <td class=\"cell-28\" style=\"text-align:right;\">21</td></tr>\n",
       "<tr><td class=\"cell-1\" style=\"\">Travel WPF</td> <td class=\"cell-2\" style=\"text-align:right;\">4,955</td> <td class=\"cell-3\" style=\"text-align:right;\">10,755</td> <td class=\"cell-4\" style=\"text-align:right;\">5,098.471</td> <td class=\"cell-5\" style=\"text-align:right;\">1.029</td> <td class=\"cell-6\" style=\"text-align:right;\">317</td> <td class=\"cell-7\" style=\"text-align:right;\">317</td> <td class=\"cell-8\" style=\"text-align:right;\">2,268</td> <td class=\"cell-9\" style=\"text-align:right;\">6,066</td> <td class=\"cell-10\" style=\"text-align:right;\">20,104</td> <td class=\"cell-11\" style=\"text-align:right;\">89,055</td> <td class=\"cell-12\" style=\"text-align:right;\">41,162</td> <td class=\"cell-13\" style=\"text-align:right;\">524,210</td> <td class=\"cell-14\" style=\"text-align:right;\">303,100</td> <td class=\"cell-15\" style=\"text-align:right;\">1,181</td> <td class=\"cell-16\" style=\"text-align:right;\">98</td> <td class=\"cell-17\" style=\"text-align:right;\">51</td> <td class=\"cell-18\" style=\"text-align:right;\">1,420</td> <td class=\"cell-19\" style=\"text-align:right;\">108</td> <td class=\"cell-20\" style=\"text-align:right;\">230</td> <td class=\"cell-21\" style=\"text-align:right;\">1,537</td> <td class=\"cell-22\" style=\"text-align:right;\">990</td> <td class=\"cell-23\" style=\"text-align:right;\">5</td> <td class=\"cell-24\" style=\"text-align:right;\">26</td> <td class=\"cell-25\" style=\"text-align:right;\">57</td> <td class=\"cell-26\" style=\"text-align:right;\">11</td> <td class=\"cell-27\" style=\"text-align:right;\">46</td> <td class=\"cell-28\" style=\"text-align:right;\">34</td></tr>\n",
       "<tr><td class=\"cell-1\" style=\"\">Animals</td> <td class=\"cell-2\" style=\"text-align:right;\">4,380</td> <td class=\"cell-3\" style=\"text-align:right;\">15,668</td> <td class=\"cell-4\" style=\"text-align:right;\">7,865.562</td> <td class=\"cell-5\" style=\"text-align:right;\">1.796</td> <td class=\"cell-6\" style=\"text-align:right;\">256</td> <td class=\"cell-7\" style=\"text-align:right;\">256</td> <td class=\"cell-8\" style=\"text-align:right;\">2,717</td> <td class=\"cell-9\" style=\"text-align:right;\">8,605</td> <td class=\"cell-10\" style=\"text-align:right;\">29,080</td> <td class=\"cell-11\" style=\"text-align:right;\">91,486</td> <td class=\"cell-12\" style=\"text-align:right;\">59,792</td> <td class=\"cell-13\" style=\"text-align:right;\">586,064</td> <td class=\"cell-14\" style=\"text-align:right;\">0</td> <td class=\"cell-15\" style=\"text-align:right;\">0</td> <td class=\"cell-16\" style=\"text-align:right;\">0</td> <td class=\"cell-17\" style=\"text-align:right;\">0</td> <td class=\"cell-18\" style=\"text-align:right;\">535</td> <td class=\"cell-19\" style=\"text-align:right;\">94</td> <td class=\"cell-20\" style=\"text-align:right;\">199</td> <td class=\"cell-21\" style=\"text-align:right;\">1,536</td> <td class=\"cell-22\" style=\"text-align:right;\">784</td> <td class=\"cell-23\" style=\"text-align:right;\">5</td> <td class=\"cell-24\" style=\"text-align:right;\">27</td> <td class=\"cell-25\" style=\"text-align:right;\">54</td> <td class=\"cell-26\" style=\"text-align:right;\">12</td> <td class=\"cell-27\" style=\"text-align:right;\">48</td> <td class=\"cell-28\" style=\"text-align:right;\">44</td></tr>\n",
       "<tr><td class=\"cell-1\" style=\"\">Ocean</td> <td class=\"cell-2\" style=\"text-align:right;\">3,663</td> <td class=\"cell-3\" style=\"text-align:right;\">11,360</td> <td class=\"cell-4\" style=\"text-align:right;\">1,066.065</td> <td class=\"cell-5\" style=\"text-align:right;\">0.291</td> <td class=\"cell-6\" style=\"text-align:right;\">1,129</td> <td class=\"cell-7\" style=\"text-align:right;\">1,129</td> <td class=\"cell-8\" style=\"text-align:right;\">2,771</td> <td class=\"cell-9\" style=\"text-align:right;\">6,674</td> <td class=\"cell-10\" style=\"text-align:right;\">20,898</td> <td class=\"cell-11\" style=\"text-align:right;\">78,958</td> <td class=\"cell-12\" style=\"text-align:right;\">42,235</td> <td class=\"cell-13\" style=\"text-align:right;\">599,487</td> <td class=\"cell-14\" style=\"text-align:right;\">288,155</td> <td class=\"cell-15\" style=\"text-align:right;\">1,167</td> <td class=\"cell-16\" style=\"text-align:right;\">97</td> <td class=\"cell-17\" style=\"text-align:right;\">61</td> <td class=\"cell-18\" style=\"text-align:right;\">82</td> <td class=\"cell-19\" style=\"text-align:right;\">99</td> <td class=\"cell-20\" style=\"text-align:right;\">241</td> <td class=\"cell-21\" style=\"text-align:right;\">1,392</td> <td class=\"cell-22\" style=\"text-align:right;\">811</td> <td class=\"cell-23\" style=\"text-align:right;\">5</td> <td class=\"cell-24\" style=\"text-align:right;\">27</td> <td class=\"cell-25\" style=\"text-align:right;\">82</td> <td class=\"cell-26\" style=\"text-align:right;\">12</td> <td class=\"cell-27\" style=\"text-align:right;\">38</td> <td class=\"cell-28\" style=\"text-align:right;\">28</td></tr>\n",
       "<tr><td class=\"cell-1\" style=\"\">Genographic</td> <td class=\"cell-2\" style=\"text-align:right;\">3,605</td> <td class=\"cell-3\" style=\"text-align:right;\">2,472</td> <td class=\"cell-4\" style=\"text-align:right;\">934.347</td> <td class=\"cell-5\" style=\"text-align:right;\">0.259</td> <td class=\"cell-6\" style=\"text-align:right;\">341</td> <td class=\"cell-7\" style=\"text-align:right;\">341</td> <td class=\"cell-8\" style=\"text-align:right;\">602</td> <td class=\"cell-9\" style=\"text-align:right;\">1,417</td> <td class=\"cell-10\" style=\"text-align:right;\">4,237</td> <td class=\"cell-11\" style=\"text-align:right;\">22,668</td> <td class=\"cell-12\" style=\"text-align:right;\">8,467</td> <td class=\"cell-13\" style=\"text-align:right;\">184,893</td> <td class=\"cell-14\" style=\"text-align:right;\">100,729</td> <td class=\"cell-15\" style=\"text-align:right;\">407</td> <td class=\"cell-16\" style=\"text-align:right;\">42</td> <td class=\"cell-17\" style=\"text-align:right;\">13</td> <td class=\"cell-18\" style=\"text-align:right;\">338</td> <td class=\"cell-19\" style=\"text-align:right;\">51</td> <td class=\"cell-20\" style=\"text-align:right;\">135</td> <td class=\"cell-21\" style=\"text-align:right;\">592</td> <td class=\"cell-22\" style=\"text-align:right;\">296</td> <td class=\"cell-23\" style=\"text-align:right;\">5</td> <td class=\"cell-24\" style=\"text-align:right;\">18</td> <td class=\"cell-25\" style=\"text-align:right;\">39</td> <td class=\"cell-26\" style=\"text-align:right;\">8</td> <td class=\"cell-27\" style=\"text-align:right;\">34</td> <td class=\"cell-28\" style=\"text-align:right;\">16</td></tr>\n",
       "<tr><td class=\"cell-1\" style=\"\">Magazine</td> <td class=\"cell-2\" style=\"text-align:right;\">3,365</td> <td class=\"cell-3\" style=\"text-align:right;\">6,982</td> <td class=\"cell-4\" style=\"text-align:right;\">11,313.321</td> <td class=\"cell-5\" style=\"text-align:right;\">3.362</td> <td class=\"cell-6\" style=\"text-align:right;\">75</td> <td class=\"cell-7\" style=\"text-align:right;\">75</td> <td class=\"cell-8\" style=\"text-align:right;\">1,618</td> <td class=\"cell-9\" style=\"text-align:right;\">3,965</td> <td class=\"cell-10\" style=\"text-align:right;\">12,548</td> <td class=\"cell-11\" style=\"text-align:right;\">53,986</td> <td class=\"cell-12\" style=\"text-align:right;\">25,422</td> <td class=\"cell-13\" style=\"text-align:right;\">538,957</td> <td class=\"cell-14\" style=\"text-align:right;\">201,794</td> <td class=\"cell-15\" style=\"text-align:right;\">871</td> <td class=\"cell-16\" style=\"text-align:right;\">86</td> <td class=\"cell-17\" style=\"text-align:right;\">33</td> <td class=\"cell-18\" style=\"text-align:right;\">927</td> <td class=\"cell-19\" style=\"text-align:right;\">76</td> <td class=\"cell-20\" style=\"text-align:right;\">204</td> <td class=\"cell-21\" style=\"text-align:right;\">1,100</td> <td class=\"cell-22\" style=\"text-align:right;\">660</td> <td class=\"cell-23\" style=\"text-align:right;\">5</td> <td class=\"cell-24\" style=\"text-align:right;\">26</td> <td class=\"cell-25\" style=\"text-align:right;\">57</td> <td class=\"cell-26\" style=\"text-align:right;\">11</td> <td class=\"cell-27\" style=\"text-align:right;\">40</td> <td class=\"cell-28\" style=\"text-align:right;\">33</td></tr>\n",
       "<tr><td class=\"cell-1\" style=\"\">Kids MyShot</td> <td class=\"cell-2\" style=\"text-align:right;\">2,715</td> <td class=\"cell-3\" style=\"text-align:right;\">3,164</td> <td class=\"cell-4\" style=\"text-align:right;\">1,813.397</td> <td class=\"cell-5\" style=\"text-align:right;\">0.668</td> <td class=\"cell-6\" style=\"text-align:right;\">297</td> <td class=\"cell-7\" style=\"text-align:right;\">297</td> <td class=\"cell-8\" style=\"text-align:right;\">629</td> <td class=\"cell-9\" style=\"text-align:right;\">1,704</td> <td class=\"cell-10\" style=\"text-align:right;\">5,710</td> <td class=\"cell-11\" style=\"text-align:right;\">28,909</td> <td class=\"cell-12\" style=\"text-align:right;\">11,718</td> <td class=\"cell-13\" style=\"text-align:right;\">533,195</td> <td class=\"cell-14\" style=\"text-align:right;\">108,385</td> <td class=\"cell-15\" style=\"text-align:right;\">1,102</td> <td class=\"cell-16\" style=\"text-align:right;\">45</td> <td class=\"cell-17\" style=\"text-align:right;\">119</td> <td class=\"cell-18\" style=\"text-align:right;\">1,173</td> <td class=\"cell-19\" style=\"text-align:right;\">21</td> <td class=\"cell-20\" style=\"text-align:right;\">71</td> <td class=\"cell-21\" style=\"text-align:right;\">246</td> <td class=\"cell-22\" style=\"text-align:right;\">115</td> <td class=\"cell-23\" style=\"text-align:right;\">5</td> <td class=\"cell-24\" style=\"text-align:right;\">10</td> <td class=\"cell-25\" style=\"text-align:right;\">28</td> <td class=\"cell-26\" style=\"text-align:right;\">7</td> <td class=\"cell-27\" style=\"text-align:right;\">28</td> <td class=\"cell-28\" style=\"text-align:right;\">9</td></tr>\n",
       "<tr><td class=\"cell-1\" style=\"\">Voices News</td> <td class=\"cell-2\" style=\"text-align:right;\">2,677</td> <td class=\"cell-3\" style=\"text-align:right;\">10,214</td> <td class=\"cell-4\" style=\"text-align:right;\">597.331</td> <td class=\"cell-5\" style=\"text-align:right;\">0.223</td> <td class=\"cell-6\" style=\"text-align:right;\">1,165</td> <td class=\"cell-7\" style=\"text-align:right;\">1,165</td> <td class=\"cell-8\" style=\"text-align:right;\">2,733</td> <td class=\"cell-9\" style=\"text-align:right;\">6,906</td> <td class=\"cell-10\" style=\"text-align:right;\">16,798</td> <td class=\"cell-11\" style=\"text-align:right;\">60,121</td> <td class=\"cell-12\" style=\"text-align:right;\">31,636</td> <td class=\"cell-13\" style=\"text-align:right;\">545,546</td> <td class=\"cell-14\" style=\"text-align:right;\">309,968</td> <td class=\"cell-15\" style=\"text-align:right;\">1,192</td> <td class=\"cell-16\" style=\"text-align:right;\">79</td> <td class=\"cell-17\" style=\"text-align:right;\">50</td> <td class=\"cell-18\" style=\"text-align:right;\">880</td> <td class=\"cell-19\" style=\"text-align:right;\">96</td> <td class=\"cell-20\" style=\"text-align:right;\">194</td> <td class=\"cell-21\" style=\"text-align:right;\">1,102</td> <td class=\"cell-22\" style=\"text-align:right;\">615</td> <td class=\"cell-23\" style=\"text-align:right;\">5</td> <td class=\"cell-24\" style=\"text-align:right;\">25</td> <td class=\"cell-25\" style=\"text-align:right;\">62</td> <td class=\"cell-26\" style=\"text-align:right;\">13</td> <td class=\"cell-27\" style=\"text-align:right;\">38</td> <td class=\"cell-28\" style=\"text-align:right;\">25</td></tr>\n",
       "<tr><td class=\"cell-1\" style=\"\">Adventure</td> <td class=\"cell-2\" style=\"text-align:right;\">2,538</td> <td class=\"cell-3\" style=\"text-align:right;\">8,394</td> <td class=\"cell-4\" style=\"text-align:right;\">1,608.156</td> <td class=\"cell-5\" style=\"text-align:right;\">0.634</td> <td class=\"cell-6\" style=\"text-align:right;\">856</td> <td class=\"cell-7\" style=\"text-align:right;\">856</td> <td class=\"cell-8\" style=\"text-align:right;\">1,921</td> <td class=\"cell-9\" style=\"text-align:right;\">4,834</td> <td class=\"cell-10\" style=\"text-align:right;\">15,534</td> <td class=\"cell-11\" style=\"text-align:right;\">83,725</td> <td class=\"cell-12\" style=\"text-align:right;\">31,583</td> <td class=\"cell-13\" style=\"text-align:right;\">528,015</td> <td class=\"cell-14\" style=\"text-align:right;\">372,757</td> <td class=\"cell-15\" style=\"text-align:right;\">1,241</td> <td class=\"cell-16\" style=\"text-align:right;\">61</td> <td class=\"cell-17\" style=\"text-align:right;\">12</td> <td class=\"cell-18\" style=\"text-align:right;\">351</td> <td class=\"cell-19\" style=\"text-align:right;\">89</td> <td class=\"cell-20\" style=\"text-align:right;\">192</td> <td class=\"cell-21\" style=\"text-align:right;\">972</td> <td class=\"cell-22\" style=\"text-align:right;\">584</td> <td class=\"cell-23\" style=\"text-align:right;\">5</td> <td class=\"cell-24\" style=\"text-align:right;\">23</td> <td class=\"cell-25\" style=\"text-align:right;\">71</td> <td class=\"cell-26\" style=\"text-align:right;\">10</td> <td class=\"cell-27\" style=\"text-align:right;\">40</td> <td class=\"cell-28\" style=\"text-align:right;\">17</td></tr>\n",
       "<tr><td class=\"cell-1\" style=\"\">Environment</td> <td class=\"cell-2\" style=\"text-align:right;\">1,672</td> <td class=\"cell-3\" style=\"text-align:right;\">13,176</td> <td class=\"cell-4\" style=\"text-align:right;\">2,186.068</td> <td class=\"cell-5\" style=\"text-align:right;\">1.307</td> <td class=\"cell-6\" style=\"text-align:right;\">1,022</td> <td class=\"cell-7\" style=\"text-align:right;\">1,022</td> <td class=\"cell-8\" style=\"text-align:right;\">2,662</td> <td class=\"cell-9\" style=\"text-align:right;\">7,301</td> <td class=\"cell-10\" style=\"text-align:right;\">24,941</td> <td class=\"cell-11\" style=\"text-align:right;\">115,721</td> <td class=\"cell-12\" style=\"text-align:right;\">51,401</td> <td class=\"cell-13\" style=\"text-align:right;\">570,327</td> <td class=\"cell-14\" style=\"text-align:right;\">314,630</td> <td class=\"cell-15\" style=\"text-align:right;\">1,119</td> <td class=\"cell-16\" style=\"text-align:right;\">108</td> <td class=\"cell-17\" style=\"text-align:right;\">52</td> <td class=\"cell-18\" style=\"text-align:right;\">235</td> <td class=\"cell-19\" style=\"text-align:right;\">75</td> <td class=\"cell-20\" style=\"text-align:right;\">141</td> <td class=\"cell-21\" style=\"text-align:right;\">676</td> <td class=\"cell-22\" style=\"text-align:right;\">409</td> <td class=\"cell-23\" style=\"text-align:right;\">5</td> <td class=\"cell-24\" style=\"text-align:right;\">21</td> <td class=\"cell-25\" style=\"text-align:right;\">44</td> <td class=\"cell-26\" style=\"text-align:right;\">11</td> <td class=\"cell-27\" style=\"text-align:right;\">27</td> <td class=\"cell-28\" style=\"text-align:right;\">14</td></tr>\n",
       "<tr><td class=\"cell-1\" style=\"\">Science</td> <td class=\"cell-2\" style=\"text-align:right;\">1,456</td> <td class=\"cell-3\" style=\"text-align:right;\">13,195</td> <td class=\"cell-4\" style=\"text-align:right;\">15,703.307</td> <td class=\"cell-5\" style=\"text-align:right;\">10.785</td> <td class=\"cell-6\" style=\"text-align:right;\">199</td> <td class=\"cell-7\" style=\"text-align:right;\">199</td> <td class=\"cell-8\" style=\"text-align:right;\">1,831</td> <td class=\"cell-9\" style=\"text-align:right;\">6,376</td> <td class=\"cell-10\" style=\"text-align:right;\">26,837</td> <td class=\"cell-11\" style=\"text-align:right;\">99,456</td> <td class=\"cell-12\" style=\"text-align:right;\">57,528</td> <td class=\"cell-13\" style=\"text-align:right;\">336,171</td> <td class=\"cell-14\" style=\"text-align:right;\">338,009</td> <td class=\"cell-15\" style=\"text-align:right;\">1,154</td> <td class=\"cell-16\" style=\"text-align:right;\">103</td> <td class=\"cell-17\" style=\"text-align:right;\">48</td> <td class=\"cell-18\" style=\"text-align:right;\">234</td> <td class=\"cell-19\" style=\"text-align:right;\">69</td> <td class=\"cell-20\" style=\"text-align:right;\">138</td> <td class=\"cell-21\" style=\"text-align:right;\">642</td> <td class=\"cell-22\" style=\"text-align:right;\">374</td> <td class=\"cell-23\" style=\"text-align:right;\">5</td> <td class=\"cell-24\" style=\"text-align:right;\">20</td> <td class=\"cell-25\" style=\"text-align:right;\">45</td> <td class=\"cell-26\" style=\"text-align:right;\">11</td> <td class=\"cell-27\" style=\"text-align:right;\">38</td> <td class=\"cell-28\" style=\"text-align:right;\">24</td></tr>\n",
       "<tr><td class=\"cell-1\" style=\"\">Games</td> <td class=\"cell-2\" style=\"text-align:right;\">1,279</td> <td class=\"cell-3\" style=\"text-align:right;\">8,637</td> <td class=\"cell-4\" style=\"text-align:right;\">12,067.596</td> <td class=\"cell-5\" style=\"text-align:right;\">9.435</td> <td class=\"cell-6\" style=\"text-align:right;\">246</td> <td class=\"cell-7\" style=\"text-align:right;\">246</td> <td class=\"cell-8\" style=\"text-align:right;\">2,506</td> <td class=\"cell-9\" style=\"text-align:right;\">5,126</td> <td class=\"cell-10\" style=\"text-align:right;\">15,064</td> <td class=\"cell-11\" style=\"text-align:right;\">248,188</td> <td class=\"cell-12\" style=\"text-align:right;\">29,969</td> <td class=\"cell-13\" style=\"text-align:right;\">493,179</td> <td class=\"cell-14\" style=\"text-align:right;\">181,008</td> <td class=\"cell-15\" style=\"text-align:right;\">958</td> <td class=\"cell-16\" style=\"text-align:right;\">100</td> <td class=\"cell-17\" style=\"text-align:right;\">46</td> <td class=\"cell-18\" style=\"text-align:right;\">25</td> <td class=\"cell-19\" style=\"text-align:right;\">41</td> <td class=\"cell-20\" style=\"text-align:right;\">99</td> <td class=\"cell-21\" style=\"text-align:right;\">464</td> <td class=\"cell-22\" style=\"text-align:right;\">288</td> <td class=\"cell-23\" style=\"text-align:right;\">5</td> <td class=\"cell-24\" style=\"text-align:right;\">11</td> <td class=\"cell-25\" style=\"text-align:right;\">26</td> <td class=\"cell-26\" style=\"text-align:right;\">7</td> <td class=\"cell-27\" style=\"text-align:right;\">16</td> <td class=\"cell-28\" style=\"text-align:right;\">3</td></tr>\n",
       "<tr><td class=\"cell-1\" style=\"\">Dev</td> <td class=\"cell-2\" style=\"text-align:right;\">1,006</td> <td class=\"cell-3\" style=\"text-align:right;\">9,318</td> <td class=\"cell-4\" style=\"text-align:right;\">1,279.438</td> <td class=\"cell-5\" style=\"text-align:right;\">1.272</td> <td class=\"cell-6\" style=\"text-align:right;\">1,109</td> <td class=\"cell-7\" style=\"text-align:right;\">1,109</td> <td class=\"cell-8\" style=\"text-align:right;\">1,919</td> <td class=\"cell-9\" style=\"text-align:right;\">5,000</td> <td class=\"cell-10\" style=\"text-align:right;\">17,443</td> <td class=\"cell-11\" style=\"text-align:right;\">75,422</td> <td class=\"cell-12\" style=\"text-align:right;\">36,108</td> <td class=\"cell-13\" style=\"text-align:right;\">519,847</td> <td class=\"cell-14\" style=\"text-align:right;\">203,336</td> <td class=\"cell-15\" style=\"text-align:right;\">1,012</td> <td class=\"cell-16\" style=\"text-align:right;\">63</td> <td class=\"cell-17\" style=\"text-align:right;\">22</td> <td class=\"cell-18\" style=\"text-align:right;\">51</td> <td class=\"cell-19\" style=\"text-align:right;\">53</td> <td class=\"cell-20\" style=\"text-align:right;\">148</td> <td class=\"cell-21\" style=\"text-align:right;\">543</td> <td class=\"cell-22\" style=\"text-align:right;\">285</td> <td class=\"cell-23\" style=\"text-align:right;\">5</td> <td class=\"cell-24\" style=\"text-align:right;\">23</td> <td class=\"cell-25\" style=\"text-align:right;\">48</td> <td class=\"cell-26\" style=\"text-align:right;\">13</td> <td class=\"cell-27\" style=\"text-align:right;\">36</td> <td class=\"cell-28\" style=\"text-align:right;\">20</td></tr>\n",
       "<tr><td class=\"cell-1\" style=\"\">Events</td> <td class=\"cell-2\" style=\"text-align:right;\">948</td> <td class=\"cell-3\" style=\"text-align:right;\">3,658</td> <td class=\"cell-4\" style=\"text-align:right;\">1,192.765</td> <td class=\"cell-5\" style=\"text-align:right;\">1.258</td> <td class=\"cell-6\" style=\"text-align:right;\">344</td> <td class=\"cell-7\" style=\"text-align:right;\">344</td> <td class=\"cell-8\" style=\"text-align:right;\">854</td> <td class=\"cell-9\" style=\"text-align:right;\">2,194</td> <td class=\"cell-10\" style=\"text-align:right;\">6,330</td> <td class=\"cell-11\" style=\"text-align:right;\">27,948</td> <td class=\"cell-12\" style=\"text-align:right;\">12,534</td> <td class=\"cell-13\" style=\"text-align:right;\">404,700</td> <td class=\"cell-14\" style=\"text-align:right;\">123,471</td> <td class=\"cell-15\" style=\"text-align:right;\">809</td> <td class=\"cell-16\" style=\"text-align:right;\">53</td> <td class=\"cell-17\" style=\"text-align:right;\">20</td> <td class=\"cell-18\" style=\"text-align:right;\">168</td> <td class=\"cell-19\" style=\"text-align:right;\">24</td> <td class=\"cell-20\" style=\"text-align:right;\">57</td> <td class=\"cell-21\" style=\"text-align:right;\">122</td> <td class=\"cell-22\" style=\"text-align:right;\">104</td> <td class=\"cell-23\" style=\"text-align:right;\">5</td> <td class=\"cell-24\" style=\"text-align:right;\">14</td> <td class=\"cell-25\" style=\"text-align:right;\">22</td> <td class=\"cell-26\" style=\"text-align:right;\">7</td> <td class=\"cell-27\" style=\"text-align:right;\">16</td> <td class=\"cell-28\" style=\"text-align:right;\">4</td></tr>\n",
       "<tr><td class=\"cell-1\" style=\"\">Kids Subs</td> <td class=\"cell-2\" style=\"text-align:right;\">689</td> <td class=\"cell-3\" style=\"text-align:right;\">2,196</td> <td class=\"cell-4\" style=\"text-align:right;\">668.848</td> <td class=\"cell-5\" style=\"text-align:right;\">0.971</td> <td class=\"cell-6\" style=\"text-align:right;\">302</td> <td class=\"cell-7\" style=\"text-align:right;\">302</td> <td class=\"cell-8\" style=\"text-align:right;\">595</td> <td class=\"cell-9\" style=\"text-align:right;\">1,389</td> <td class=\"cell-10\" style=\"text-align:right;\">3,844</td> <td class=\"cell-11\" style=\"text-align:right;\">15,977</td> <td class=\"cell-12\" style=\"text-align:right;\">7,526</td> <td class=\"cell-13\" style=\"text-align:right;\">63,253</td> <td class=\"cell-14\" style=\"text-align:right;\">223,412</td> <td class=\"cell-15\" style=\"text-align:right;\">1,445</td> <td class=\"cell-16\" style=\"text-align:right;\">33</td> <td class=\"cell-17\" style=\"text-align:right;\">13</td> <td class=\"cell-18\" style=\"text-align:right;\">97</td> <td class=\"cell-19\" style=\"text-align:right;\">15</td> <td class=\"cell-20\" style=\"text-align:right;\">68</td> <td class=\"cell-21\" style=\"text-align:right;\">249</td> <td class=\"cell-22\" style=\"text-align:right;\">133</td> <td class=\"cell-23\" style=\"text-align:right;\">5</td> <td class=\"cell-24\" style=\"text-align:right;\">12</td> <td class=\"cell-25\" style=\"text-align:right;\">25</td> <td class=\"cell-26\" style=\"text-align:right;\">7</td> <td class=\"cell-27\" style=\"text-align:right;\">21</td> <td class=\"cell-28\" style=\"text-align:right;\">6</td></tr>\n",
       "<tr><td class=\"cell-1\" style=\"\">Explorers</td> <td class=\"cell-2\" style=\"text-align:right;\">621</td> <td class=\"cell-3\" style=\"text-align:right;\">8,101</td> <td class=\"cell-4\" style=\"text-align:right;\">914.873</td> <td class=\"cell-5\" style=\"text-align:right;\">1.473</td> <td class=\"cell-6\" style=\"text-align:right;\">906</td> <td class=\"cell-7\" style=\"text-align:right;\">906</td> <td class=\"cell-8\" style=\"text-align:right;\">1,539</td> <td class=\"cell-9\" style=\"text-align:right;\">4,501</td> <td class=\"cell-10\" style=\"text-align:right;\">13,572</td> <td class=\"cell-11\" style=\"text-align:right;\">46,923</td> <td class=\"cell-12\" style=\"text-align:right;\">27,178</td> <td class=\"cell-13\" style=\"text-align:right;\">208,982</td> <td class=\"cell-14\" style=\"text-align:right;\">244,091</td> <td class=\"cell-15\" style=\"text-align:right;\">1,168</td> <td class=\"cell-16\" style=\"text-align:right;\">99</td> <td class=\"cell-17\" style=\"text-align:right;\">42</td> <td class=\"cell-18\" style=\"text-align:right;\">158</td> <td class=\"cell-19\" style=\"text-align:right;\">28</td> <td class=\"cell-20\" style=\"text-align:right;\">71</td> <td class=\"cell-21\" style=\"text-align:right;\">188</td> <td class=\"cell-22\" style=\"text-align:right;\">135</td> <td class=\"cell-23\" style=\"text-align:right;\">5</td> <td class=\"cell-24\" style=\"text-align:right;\">11</td> <td class=\"cell-25\" style=\"text-align:right;\">26</td> <td class=\"cell-26\" style=\"text-align:right;\">8</td> <td class=\"cell-27\" style=\"text-align:right;\">25</td> <td class=\"cell-28\" style=\"text-align:right;\">7</td></tr>\n",
       "<tr><td class=\"cell-1\" style=\"\">Help</td> <td class=\"cell-2\" style=\"text-align:right;\">513</td> <td class=\"cell-3\" style=\"text-align:right;\">2,737</td> <td class=\"cell-4\" style=\"text-align:right;\">847.289</td> <td class=\"cell-5\" style=\"text-align:right;\">1.652</td> <td class=\"cell-6\" style=\"text-align:right;\">349</td> <td class=\"cell-7\" style=\"text-align:right;\">349</td> <td class=\"cell-8\" style=\"text-align:right;\">586</td> <td class=\"cell-9\" style=\"text-align:right;\">1,715</td> <td class=\"cell-10\" style=\"text-align:right;\">4,535</td> <td class=\"cell-11\" style=\"text-align:right;\">19,778</td> <td class=\"cell-12\" style=\"text-align:right;\">8,765</td> <td class=\"cell-13\" style=\"text-align:right;\">95,575</td> <td class=\"cell-14\" style=\"text-align:right;\">97,249</td> <td class=\"cell-15\" style=\"text-align:right;\">249</td> <td class=\"cell-16\" style=\"text-align:right;\">55</td> <td class=\"cell-17\" style=\"text-align:right;\">3</td> <td class=\"cell-18\" style=\"text-align:right;\">111</td> <td class=\"cell-19\" style=\"text-align:right;\">30</td> <td class=\"cell-20\" style=\"text-align:right;\">77</td> <td class=\"cell-21\" style=\"text-align:right;\">205</td> <td class=\"cell-22\" style=\"text-align:right;\">111</td> <td class=\"cell-23\" style=\"text-align:right;\">5</td> <td class=\"cell-24\" style=\"text-align:right;\">13</td> <td class=\"cell-25\" style=\"text-align:right;\">23</td> <td class=\"cell-26\" style=\"text-align:right;\">7</td> <td class=\"cell-27\" style=\"text-align:right;\">17</td> <td class=\"cell-28\" style=\"text-align:right;\">6</td></tr>\n",
       "<tr><td class=\"cell-1\" style=\"\">Archive</td> <td class=\"cell-2\" style=\"text-align:right;\">483</td> <td class=\"cell-3\" style=\"text-align:right;\">2,912</td> <td class=\"cell-4\" style=\"text-align:right;\">858.982</td> <td class=\"cell-5\" style=\"text-align:right;\">1.778</td> <td class=\"cell-6\" style=\"text-align:right;\">305</td> <td class=\"cell-7\" style=\"text-align:right;\">305</td> <td class=\"cell-8\" style=\"text-align:right;\">580</td> <td class=\"cell-9\" style=\"text-align:right;\">1,908</td> <td class=\"cell-10\" style=\"text-align:right;\">5,223</td> <td class=\"cell-11\" style=\"text-align:right;\">14,893</td> <td class=\"cell-12\" style=\"text-align:right;\">10,196</td> <td class=\"cell-13\" style=\"text-align:right;\">97,249</td> <td class=\"cell-14\" style=\"text-align:right;\">47,246</td> <td class=\"cell-15\" style=\"text-align:right;\">198</td> <td class=\"cell-16\" style=\"text-align:right;\">39</td> <td class=\"cell-17\" style=\"text-align:right;\">17</td> <td class=\"cell-18\" style=\"text-align:right;\">20</td> <td class=\"cell-19\" style=\"text-align:right;\">24</td> <td class=\"cell-20\" style=\"text-align:right;\">66</td> <td class=\"cell-21\" style=\"text-align:right;\">131</td> <td class=\"cell-22\" style=\"text-align:right;\">84</td> <td class=\"cell-23\" style=\"text-align:right;\">5</td> <td class=\"cell-24\" style=\"text-align:right;\">10</td> <td class=\"cell-25\" style=\"text-align:right;\">17</td> <td class=\"cell-26\" style=\"text-align:right;\">7</td> <td class=\"cell-27\" style=\"text-align:right;\">14</td> <td class=\"cell-28\" style=\"text-align:right;\">5</td></tr>\n",
       "<tr><td class=\"cell-1\" style=\"\">Food</td> <td class=\"cell-2\" style=\"text-align:right;\">390</td> <td class=\"cell-3\" style=\"text-align:right;\">11,116</td> <td class=\"cell-4\" style=\"text-align:right;\">1,568.921</td> <td class=\"cell-5\" style=\"text-align:right;\">4.023</td> <td class=\"cell-6\" style=\"text-align:right;\">825</td> <td class=\"cell-7\" style=\"text-align:right;\">825</td> <td class=\"cell-8\" style=\"text-align:right;\">2,239</td> <td class=\"cell-9\" style=\"text-align:right;\">7,031</td> <td class=\"cell-10\" style=\"text-align:right;\">18,866</td> <td class=\"cell-11\" style=\"text-align:right;\">79,134</td> <td class=\"cell-12\" style=\"text-align:right;\">36,619</td> <td class=\"cell-13\" style=\"text-align:right;\">598,219</td> <td class=\"cell-14\" style=\"text-align:right;\">316,328</td> <td class=\"cell-15\" style=\"text-align:right;\">986</td> <td class=\"cell-16\" style=\"text-align:right;\">72</td> <td class=\"cell-17\" style=\"text-align:right;\">21</td> <td class=\"cell-18\" style=\"text-align:right;\">121</td> <td class=\"cell-19\" style=\"text-align:right;\">36</td> <td class=\"cell-20\" style=\"text-align:right;\">84</td> <td class=\"cell-21\" style=\"text-align:right;\">241</td> <td class=\"cell-22\" style=\"text-align:right;\">146</td> <td class=\"cell-23\" style=\"text-align:right;\">5</td> <td class=\"cell-24\" style=\"text-align:right;\">16</td> <td class=\"cell-25\" style=\"text-align:right;\">31</td> <td class=\"cell-26\" style=\"text-align:right;\">8</td> <td class=\"cell-27\" style=\"text-align:right;\">19</td> <td class=\"cell-28\" style=\"text-align:right;\">12</td></tr>\n",
       "<tr><td class=\"cell-1\" style=\"\">Press</td> <td class=\"cell-2\" style=\"text-align:right;\">356</td> <td class=\"cell-3\" style=\"text-align:right;\">4,815</td> <td class=\"cell-4\" style=\"text-align:right;\">2,037.388</td> <td class=\"cell-5\" style=\"text-align:right;\">5.723</td> <td class=\"cell-6\" style=\"text-align:right;\">512</td> <td class=\"cell-7\" style=\"text-align:right;\">512</td> <td class=\"cell-8\" style=\"text-align:right;\">719</td> <td class=\"cell-9\" style=\"text-align:right;\">3,227</td> <td class=\"cell-10\" style=\"text-align:right;\">7,686</td> <td class=\"cell-11\" style=\"text-align:right;\">52,197</td> <td class=\"cell-12\" style=\"text-align:right;\">14,375</td> <td class=\"cell-13\" style=\"text-align:right;\">259,520</td> <td class=\"cell-14\" style=\"text-align:right;\">214,732</td> <td class=\"cell-15\" style=\"text-align:right;\">892</td> <td class=\"cell-16\" style=\"text-align:right;\">60</td> <td class=\"cell-17\" style=\"text-align:right;\">6</td> <td class=\"cell-18\" style=\"text-align:right;\">110</td> <td class=\"cell-19\" style=\"text-align:right;\">29</td> <td class=\"cell-20\" style=\"text-align:right;\">76</td> <td class=\"cell-21\" style=\"text-align:right;\">154</td> <td class=\"cell-22\" style=\"text-align:right;\">126</td> <td class=\"cell-23\" style=\"text-align:right;\">5</td> <td class=\"cell-24\" style=\"text-align:right;\">14</td> <td class=\"cell-25\" style=\"text-align:right;\">28</td> <td class=\"cell-26\" style=\"text-align:right;\">7</td> <td class=\"cell-27\" style=\"text-align:right;\">19</td> <td class=\"cell-28\" style=\"text-align:right;\">7</td></tr>\n",
       "<tr><td class=\"cell-1\" style=\"\">Photography Proof</td> <td class=\"cell-2\" style=\"text-align:right;\">312</td> <td class=\"cell-3\" style=\"text-align:right;\">13,522</td> <td class=\"cell-4\" style=\"text-align:right;\">766.692</td> <td class=\"cell-5\" style=\"text-align:right;\">2.457</td> <td class=\"cell-6\" style=\"text-align:right;\">1,648</td> <td class=\"cell-7\" style=\"text-align:right;\">1,648</td> <td class=\"cell-8\" style=\"text-align:right;\">2,983</td> <td class=\"cell-9\" style=\"text-align:right;\">8,040</td> <td class=\"cell-10\" style=\"text-align:right;\">24,687</td> <td class=\"cell-11\" style=\"text-align:right;\">75,893</td> <td class=\"cell-12\" style=\"text-align:right;\">49,657</td> <td class=\"cell-13\" style=\"text-align:right;\">276,480</td> <td class=\"cell-14\" style=\"text-align:right;\">372,989</td> <td class=\"cell-15\" style=\"text-align:right;\">1,797</td> <td class=\"cell-16\" style=\"text-align:right;\">82</td> <td class=\"cell-17\" style=\"text-align:right;\">118</td> <td class=\"cell-18\" style=\"text-align:right;\">154</td> <td class=\"cell-19\" style=\"text-align:right;\">46</td> <td class=\"cell-20\" style=\"text-align:right;\">82</td> <td class=\"cell-21\" style=\"text-align:right;\">191</td> <td class=\"cell-22\" style=\"text-align:right;\">156</td> <td class=\"cell-23\" style=\"text-align:right;\">5</td> <td class=\"cell-24\" style=\"text-align:right;\">16</td> <td class=\"cell-25\" style=\"text-align:right;\">31</td> <td class=\"cell-26\" style=\"text-align:right;\">9</td> <td class=\"cell-27\" style=\"text-align:right;\">20</td> <td class=\"cell-28\" style=\"text-align:right;\">6</td></tr>\n",
       "<tr><td class=\"cell-1\" style=\"\">Maps</td> <td class=\"cell-2\" style=\"text-align:right;\">218</td> <td class=\"cell-3\" style=\"text-align:right;\">9,434</td> <td class=\"cell-4\" style=\"text-align:right;\">2,087.996</td> <td class=\"cell-5\" style=\"text-align:right;\">9.578</td> <td class=\"cell-6\" style=\"text-align:right;\">624</td> <td class=\"cell-7\" style=\"text-align:right;\">624</td> <td class=\"cell-8\" style=\"text-align:right;\">1,933</td> <td class=\"cell-9\" style=\"text-align:right;\">5,948</td> <td class=\"cell-10\" style=\"text-align:right;\">17,152</td> <td class=\"cell-11\" style=\"text-align:right;\">74,150</td> <td class=\"cell-12\" style=\"text-align:right;\">33,957</td> <td class=\"cell-13\" style=\"text-align:right;\">118,194</td> <td class=\"cell-14\" style=\"text-align:right;\">235,908</td> <td class=\"cell-15\" style=\"text-align:right;\">980</td> <td class=\"cell-16\" style=\"text-align:right;\">90</td> <td class=\"cell-17\" style=\"text-align:right;\">41</td> <td class=\"cell-18\" style=\"text-align:right;\">23</td> <td class=\"cell-19\" style=\"text-align:right;\">40</td> <td class=\"cell-20\" style=\"text-align:right;\">82</td> <td class=\"cell-21\" style=\"text-align:right;\">145</td> <td class=\"cell-22\" style=\"text-align:right;\">115</td> <td class=\"cell-23\" style=\"text-align:right;\">5</td> <td class=\"cell-24\" style=\"text-align:right;\">15</td> <td class=\"cell-25\" style=\"text-align:right;\">24</td> <td class=\"cell-26\" style=\"text-align:right;\">10</td> <td class=\"cell-27\" style=\"text-align:right;\">16</td> <td class=\"cell-28\" style=\"text-align:right;\">3</td></tr>\n",
       "<tr><td class=\"cell-1\" style=\"\">Education</td> <td class=\"cell-2\" style=\"text-align:right;\">169</td> <td class=\"cell-3\" style=\"text-align:right;\">1,827</td> <td class=\"cell-4\" style=\"text-align:right;\">246.812</td> <td class=\"cell-5\" style=\"text-align:right;\">1.46</td> <td class=\"cell-6\" style=\"text-align:right;\">328</td> <td class=\"cell-7\" style=\"text-align:right;\">328</td> <td class=\"cell-8\" style=\"text-align:right;\">502</td> <td class=\"cell-9\" style=\"text-align:right;\">1,423</td> <td class=\"cell-10\" style=\"text-align:right;\">2,431</td> <td class=\"cell-11\" style=\"text-align:right;\">10,298</td> <td class=\"cell-12\" style=\"text-align:right;\">3,943</td> <td class=\"cell-13\" style=\"text-align:right;\">25,064</td> <td class=\"cell-14\" style=\"text-align:right;\">115,170</td> <td class=\"cell-15\" style=\"text-align:right;\">342</td> <td class=\"cell-16\" style=\"text-align:right;\">40</td> <td class=\"cell-17\" style=\"text-align:right;\">23</td> <td class=\"cell-18\" style=\"text-align:right;\">27</td> <td class=\"cell-19\" style=\"text-align:right;\">3</td> <td class=\"cell-20\" style=\"text-align:right;\">5</td> <td class=\"cell-21\" style=\"text-align:right;\">9</td> <td class=\"cell-22\" style=\"text-align:right;\">7</td> <td class=\"cell-23\" style=\"text-align:right;\">2</td> <td class=\"cell-24\" style=\"text-align:right;\">5</td> <td class=\"cell-25\" style=\"text-align:right;\">7</td> <td class=\"cell-26\" style=\"text-align:right;\">3</td> <td class=\"cell-27\" style=\"text-align:right;\">5</td> <td class=\"cell-28\" style=\"\">NA</td></tr>\n",
       "<tr><td class=\"cell-1\" style=\"\">Travel Subs</td> <td class=\"cell-2\" style=\"text-align:right;\">144</td> <td class=\"cell-3\" style=\"text-align:right;\">2,180</td> <td class=\"cell-4\" style=\"text-align:right;\">262.482</td> <td class=\"cell-5\" style=\"text-align:right;\">1.823</td> <td class=\"cell-6\" style=\"text-align:right;\">555</td> <td class=\"cell-7\" style=\"text-align:right;\">555</td> <td class=\"cell-8\" style=\"text-align:right;\">658</td> <td class=\"cell-9\" style=\"text-align:right;\">1,450</td> <td class=\"cell-10\" style=\"text-align:right;\">3,507</td> <td class=\"cell-11\" style=\"text-align:right;\">14,533</td> <td class=\"cell-12\" style=\"text-align:right;\">6,593</td> <td class=\"cell-13\" style=\"text-align:right;\">24,707</td> <td class=\"cell-14\" style=\"text-align:right;\">172,897</td> <td class=\"cell-15\" style=\"text-align:right;\">1,106</td> <td class=\"cell-16\" style=\"text-align:right;\">44</td> <td class=\"cell-17\" style=\"text-align:right;\">10</td> <td class=\"cell-18\" style=\"text-align:right;\">64</td> <td class=\"cell-19\" style=\"text-align:right;\">9</td> <td class=\"cell-20\" style=\"text-align:right;\">32</td> <td class=\"cell-21\" style=\"text-align:right;\">63</td> <td class=\"cell-22\" style=\"text-align:right;\">39</td> <td class=\"cell-23\" style=\"text-align:right;\">5</td> <td class=\"cell-24\" style=\"text-align:right;\">9</td> <td class=\"cell-25\" style=\"text-align:right;\">12</td> <td class=\"cell-26\" style=\"text-align:right;\">4</td> <td class=\"cell-27\" style=\"text-align:right;\">9</td> <td class=\"cell-28\" style=\"text-align:right;\">3</td></tr>\n",
       "<tr><td class=\"cell-1\" style=\"\">(No Page Group)</td> <td class=\"cell-2\" style=\"text-align:right;\">138</td> <td class=\"cell-3\" style=\"text-align:right;\">7,977</td> <td class=\"cell-4\" style=\"text-align:right;\">2,081.248</td> <td class=\"cell-5\" style=\"text-align:right;\">15.082</td> <td class=\"cell-6\" style=\"text-align:right;\">818</td> <td class=\"cell-7\" style=\"text-align:right;\">818</td> <td class=\"cell-8\" style=\"text-align:right;\">1,070</td> <td class=\"cell-9\" style=\"text-align:right;\">4,431</td> <td class=\"cell-10\" style=\"text-align:right;\">11,894</td> <td class=\"cell-11\" style=\"text-align:right;\">78,889</td> <td class=\"cell-12\" style=\"text-align:right;\">23,089</td> <td class=\"cell-13\" style=\"text-align:right;\">503,337</td> <td class=\"cell-14\" style=\"text-align:right;\">170,050</td> <td class=\"cell-15\" style=\"text-align:right;\">732</td> <td class=\"cell-16\" style=\"text-align:right;\">61</td> <td class=\"cell-17\" style=\"text-align:right;\">19</td> <td class=\"cell-18\" style=\"text-align:right;\">64</td> <td class=\"cell-19\" style=\"text-align:right;\">26</td> <td class=\"cell-20\" style=\"text-align:right;\">49</td> <td class=\"cell-21\" style=\"text-align:right;\">83</td> <td class=\"cell-22\" style=\"text-align:right;\">74</td> <td class=\"cell-23\" style=\"text-align:right;\">5</td> <td class=\"cell-24\" style=\"text-align:right;\">12</td> <td class=\"cell-25\" style=\"text-align:right;\">16</td> <td class=\"cell-26\" style=\"text-align:right;\">7</td> <td class=\"cell-27\" style=\"text-align:right;\">15</td> <td class=\"cell-28\" style=\"text-align:right;\">3</td></tr>\n",
       "<tr><td class=\"cell-1\" style=\"\">History</td> <td class=\"cell-2\" style=\"text-align:right;\">81</td> <td class=\"cell-3\" style=\"text-align:right;\">2,511</td> <td class=\"cell-4\" style=\"text-align:right;\">1,275.899</td> <td class=\"cell-5\" style=\"text-align:right;\">15.752</td> <td class=\"cell-6\" style=\"text-align:right;\">363</td> <td class=\"cell-7\" style=\"text-align:right;\">363</td> <td class=\"cell-8\" style=\"text-align:right;\">525</td> <td class=\"cell-9\" style=\"text-align:right;\">1,629</td> <td class=\"cell-10\" style=\"text-align:right;\">4,027</td> <td class=\"cell-11\" style=\"text-align:right;\">31,869</td> <td class=\"cell-12\" style=\"text-align:right;\">7,624</td> <td class=\"cell-13\" style=\"text-align:right;\">58,809</td> <td class=\"cell-14\" style=\"text-align:right;\">111,218</td> <td class=\"cell-15\" style=\"text-align:right;\">1,399</td> <td class=\"cell-16\" style=\"text-align:right;\">48</td> <td class=\"cell-17\" style=\"text-align:right;\">13</td> <td class=\"cell-18\" style=\"text-align:right;\">43</td> <td class=\"cell-19\" style=\"text-align:right;\">5</td> <td class=\"cell-20\" style=\"text-align:right;\">24</td> <td class=\"cell-21\" style=\"text-align:right;\">32</td> <td class=\"cell-22\" style=\"text-align:right;\">22</td> <td class=\"cell-23\" style=\"text-align:right;\">5</td> <td class=\"cell-24\" style=\"text-align:right;\">8</td> <td class=\"cell-25\" style=\"text-align:right;\">7</td> <td class=\"cell-26\" style=\"text-align:right;\">4</td> <td class=\"cell-27\" style=\"text-align:right;\">5</td> <td class=\"cell-28\" style=\"text-align:right;\">3</td></tr>\n",
       "<tr><td class=\"cell-1\" style=\"\">Staging</td> <td class=\"cell-2\" style=\"text-align:right;\">76</td> <td class=\"cell-3\" style=\"text-align:right;\">2,426</td> <td class=\"cell-4\" style=\"text-align:right;\">163.876</td> <td class=\"cell-5\" style=\"text-align:right;\">2.156</td> <td class=\"cell-6\" style=\"text-align:right;\">555</td> <td class=\"cell-7\" style=\"text-align:right;\">555</td> <td class=\"cell-8\" style=\"text-align:right;\">644</td> <td class=\"cell-9\" style=\"text-align:right;\">940</td> <td class=\"cell-10\" style=\"text-align:right;\">3,496</td> <td class=\"cell-11\" style=\"text-align:right;\">7,993</td> <td class=\"cell-12\" style=\"text-align:right;\">7,328</td> <td class=\"cell-13\" style=\"text-align:right;\">8,747</td> <td class=\"cell-14\" style=\"text-align:right;\">162,804</td> <td class=\"cell-15\" style=\"text-align:right;\">726</td> <td class=\"cell-16\" style=\"text-align:right;\">44</td> <td class=\"cell-17\" style=\"text-align:right;\">21</td> <td class=\"cell-18\" style=\"text-align:right;\">13</td> <td class=\"cell-19\" style=\"text-align:right;\">2</td> <td class=\"cell-20\" style=\"text-align:right;\">9</td> <td class=\"cell-21\" style=\"text-align:right;\">11</td> <td class=\"cell-22\" style=\"text-align:right;\">11</td> <td class=\"cell-23\" style=\"text-align:right;\">4</td> <td class=\"cell-24\" style=\"text-align:right;\">3</td> <td class=\"cell-25\" style=\"text-align:right;\">4</td> <td class=\"cell-26\" style=\"text-align:right;\">4</td> <td class=\"cell-27\" style=\"text-align:right;\">4</td> <td class=\"cell-28\" style=\"text-align:right;\">2</td></tr>\n",
       "<tr><td class=\"cell-1\" style=\"\">Travel Nomad</td> <td class=\"cell-2\" style=\"text-align:right;\">66</td> <td class=\"cell-3\" style=\"text-align:right;\">12,240</td> <td class=\"cell-4\" style=\"text-align:right;\">653.534</td> <td class=\"cell-5\" style=\"text-align:right;\">9.902</td> <td class=\"cell-6\" style=\"text-align:right;\">2,321</td> <td class=\"cell-7\" style=\"text-align:right;\">2,321</td> <td class=\"cell-8\" style=\"text-align:right;\">2,867</td> <td class=\"cell-9\" style=\"text-align:right;\">7,193</td> <td class=\"cell-10\" style=\"text-align:right;\">19,875</td> <td class=\"cell-11\" style=\"text-align:right;\">111,810</td> <td class=\"cell-12\" style=\"text-align:right;\">38,897</td> <td class=\"cell-13\" style=\"text-align:right;\">232,997</td> <td class=\"cell-14\" style=\"text-align:right;\">365,057</td> <td class=\"cell-15\" style=\"text-align:right;\">1,322</td> <td class=\"cell-16\" style=\"text-align:right;\">82</td> <td class=\"cell-17\" style=\"text-align:right;\">43</td> <td class=\"cell-18\" style=\"text-align:right;\">35</td> <td class=\"cell-19\" style=\"text-align:right;\">14</td> <td class=\"cell-20\" style=\"text-align:right;\">34</td> <td class=\"cell-21\" style=\"text-align:right;\">39</td> <td class=\"cell-22\" style=\"text-align:right;\">42</td> <td class=\"cell-23\" style=\"text-align:right;\">5</td> <td class=\"cell-24\" style=\"text-align:right;\">9</td> <td class=\"cell-25\" style=\"text-align:right;\">12</td> <td class=\"cell-26\" style=\"text-align:right;\">7</td> <td class=\"cell-27\" style=\"text-align:right;\">11</td> <td class=\"cell-28\" style=\"text-align:right;\">3</td></tr>\n",
       "<tr><td class=\"cell-1\" style=\"\">Tickets</td> <td class=\"cell-2\" style=\"text-align:right;\">62</td> <td class=\"cell-3\" style=\"text-align:right;\">2,623</td> <td class=\"cell-4\" style=\"text-align:right;\">71.307</td> <td class=\"cell-5\" style=\"text-align:right;\">1.15</td> <td class=\"cell-6\" style=\"text-align:right;\">1,026</td> <td class=\"cell-7\" style=\"text-align:right;\">1,026</td> <td class=\"cell-8\" style=\"text-align:right;\">1,161</td> <td class=\"cell-9\" style=\"text-align:right;\">2,142</td> <td class=\"cell-10\" style=\"text-align:right;\">4,342</td> <td class=\"cell-11\" style=\"text-align:right;\">11,116</td> <td class=\"cell-12\" style=\"text-align:right;\">7,641</td> <td class=\"cell-13\" style=\"text-align:right;\">12,362</td> <td class=\"cell-14\" style=\"text-align:right;\">89,938</td> <td class=\"cell-15\" style=\"text-align:right;\">513</td> <td class=\"cell-16\" style=\"text-align:right;\">80</td> <td class=\"cell-17\" style=\"text-align:right;\">4</td> <td class=\"cell-18\" style=\"text-align:right;\">27</td> <td class=\"cell-19\" style=\"\">NA</td> <td class=\"cell-20\" style=\"text-align:right;\">10</td> <td class=\"cell-21\" style=\"text-align:right;\">16</td> <td class=\"cell-22\" style=\"text-align:right;\">15</td> <td class=\"cell-23\" style=\"text-align:right;\">3</td> <td class=\"cell-24\" style=\"text-align:right;\">8</td> <td class=\"cell-25\" style=\"text-align:right;\">9</td> <td class=\"cell-26\" style=\"text-align:right;\">4</td> <td class=\"cell-27\" style=\"text-align:right;\">6</td> <td class=\"cell-28\" style=\"text-align:right;\">3</td></tr>\n",
       "<tr><td class=\"cell-1\" style=\"\">Movies</td> <td class=\"cell-2\" style=\"text-align:right;\">62</td> <td class=\"cell-3\" style=\"text-align:right;\">10,770</td> <td class=\"cell-4\" style=\"text-align:right;\">782.152</td> <td class=\"cell-5\" style=\"text-align:right;\">12.615</td> <td class=\"cell-6\" style=\"text-align:right;\">1,603</td> <td class=\"cell-7\" style=\"text-align:right;\">1,603</td> <td class=\"cell-8\" style=\"text-align:right;\">2,682</td> <td class=\"cell-9\" style=\"text-align:right;\">6,067</td> <td class=\"cell-10\" style=\"text-align:right;\">20,738</td> <td class=\"cell-11\" style=\"text-align:right;\">78,671</td> <td class=\"cell-12\" style=\"text-align:right;\">42,745</td> <td class=\"cell-13\" style=\"text-align:right;\">101,428</td> <td class=\"cell-14\" style=\"text-align:right;\">263,292</td> <td class=\"cell-15\" style=\"text-align:right;\">1,019</td> <td class=\"cell-16\" style=\"text-align:right;\">89</td> <td class=\"cell-17\" style=\"text-align:right;\">45</td> <td class=\"cell-18\" style=\"text-align:right;\">11</td> <td class=\"cell-19\" style=\"text-align:right;\">15</td> <td class=\"cell-20\" style=\"text-align:right;\">23</td> <td class=\"cell-21\" style=\"text-align:right;\">41</td> <td class=\"cell-22\" style=\"text-align:right;\">37</td> <td class=\"cell-23\" style=\"text-align:right;\">4</td> <td class=\"cell-24\" style=\"text-align:right;\">8</td> <td class=\"cell-25\" style=\"text-align:right;\">13</td> <td class=\"cell-26\" style=\"text-align:right;\">4</td> <td class=\"cell-27\" style=\"text-align:right;\">8</td> <td class=\"cell-28\" style=\"text-align:right;\">4</td></tr>\n",
       "<tr><td class=\"cell-1\" style=\"\">Channel Story of God</td> <td class=\"cell-2\" style=\"text-align:right;\">8</td> <td class=\"cell-3\" style=\"text-align:right;\">8,386</td> <td class=\"cell-4\" style=\"text-align:right;\">23.871</td> <td class=\"cell-5\" style=\"text-align:right;\">2.984</td> <td class=\"cell-6\" style=\"text-align:right;\">4,255</td> <td class=\"cell-7\" style=\"text-align:right;\">4,255</td> <td class=\"cell-8\" style=\"text-align:right;\">4,315</td> <td class=\"cell-9\" style=\"text-align:right;\">5,216</td> <td class=\"cell-10\" style=\"text-align:right;\">15,536</td> <td class=\"cell-11\" style=\"text-align:right;\">20,539</td> <td class=\"cell-12\" style=\"text-align:right;\">21,341</td> <td class=\"cell-13\" style=\"text-align:right;\">21,341</td> <td class=\"cell-14\" style=\"text-align:right;\">55,192</td> <td class=\"cell-15\" style=\"text-align:right;\">212</td> <td class=\"cell-16\" style=\"text-align:right;\">32</td> <td class=\"cell-17\" style=\"text-align:right;\">4</td> <td class=\"cell-18\" style=\"text-align:right;\">6</td> <td class=\"cell-19\" style=\"text-align:right;\">3</td> <td class=\"cell-20\" style=\"text-align:right;\">5</td> <td class=\"cell-21\" style=\"text-align:right;\">6</td> <td class=\"cell-22\" style=\"text-align:right;\">6</td> <td class=\"cell-23\" style=\"text-align:right;\">3</td> <td class=\"cell-24\" style=\"text-align:right;\">4</td> <td class=\"cell-25\" style=\"text-align:right;\">5</td> <td class=\"cell-26\" style=\"text-align:right;\">3</td> <td class=\"cell-27\" style=\"text-align:right;\">4</td> <td class=\"cell-28\" style=\"text-align:right;\">2</td></tr>\n",
       "<tr><td class=\"cell-1\" style=\"\">LocalHost</td> <td class=\"cell-2\" style=\"text-align:right;\">4</td> <td class=\"cell-3\" style=\"text-align:right;\">8,097</td> <td class=\"cell-4\" style=\"text-align:right;\">25.658</td> <td class=\"cell-5\" style=\"text-align:right;\">6.414</td> <td class=\"cell-6\" style=\"text-align:right;\">2,729</td> <td class=\"cell-7\" style=\"text-align:right;\">2,729</td> <td class=\"cell-8\" style=\"text-align:right;\">2,754</td> <td class=\"cell-9\" style=\"text-align:right;\">3,047</td> <td class=\"cell-10\" style=\"text-align:right;\">13,259</td> <td class=\"cell-11\" style=\"text-align:right;\">13,862</td> <td class=\"cell-12\" style=\"text-align:right;\">13,914</td> <td class=\"cell-13\" style=\"text-align:right;\">13,914</td> <td class=\"cell-14\" style=\"text-align:right;\">171,944</td> <td class=\"cell-15\" style=\"text-align:right;\">458</td> <td class=\"cell-16\" style=\"text-align:right;\">70</td> <td class=\"cell-17\" style=\"text-align:right;\">0</td> <td class=\"cell-18\" style=\"text-align:right;\">2</td> <td class=\"cell-19\" style=\"text-align:right;\">2</td> <td class=\"cell-20\" style=\"text-align:right;\">2</td> <td class=\"cell-21\" style=\"text-align:right;\">2</td> <td class=\"cell-22\" style=\"text-align:right;\">2</td> <td class=\"cell-23\" style=\"\">NA</td> <td class=\"cell-24\" style=\"\">NA</td> <td class=\"cell-25\" style=\"\">NA</td> <td class=\"cell-26\" style=\"\">NA</td> <td class=\"cell-27\" style=\"\">NA</td> <td class=\"cell-28\" style=\"\">NA</td></tr>\n",
       "<tr><td class=\"cell-1\" style=\"\">QA</td> <td class=\"cell-2\" style=\"text-align:right;\">2</td> <td class=\"cell-3\" style=\"text-align:right;\">11,431</td> <td class=\"cell-4\" style=\"text-align:right;\">2.847</td> <td class=\"cell-5\" style=\"text-align:right;\">1.424</td> <td class=\"cell-6\" style=\"text-align:right;\">8,448</td> <td class=\"cell-7\" style=\"text-align:right;\">8,448</td> <td class=\"cell-8\" style=\"text-align:right;\">8,567</td> <td class=\"cell-9\" style=\"text-align:right;\">9,940</td> <td class=\"cell-10\" style=\"text-align:right;\">12,922</td> <td class=\"cell-11\" style=\"text-align:right;\">14,295</td> <td class=\"cell-12\" style=\"text-align:right;\">14,414</td> <td class=\"cell-13\" style=\"text-align:right;\">14,414</td> <td class=\"cell-14\" style=\"text-align:right;\">197,746</td> <td class=\"cell-15\" style=\"text-align:right;\">626</td> <td class=\"cell-16\" style=\"text-align:right;\">80</td> <td class=\"cell-17\" style=\"text-align:right;\">10</td> <td class=\"cell-18\" style=\"text-align:right;\">2</td> <td class=\"cell-19\" style=\"text-align:right;\">2</td> <td class=\"cell-20\" style=\"text-align:right;\">2</td> <td class=\"cell-21\" style=\"text-align:right;\">2</td> <td class=\"cell-22\" style=\"text-align:right;\">2</td> <td class=\"cell-23\" style=\"text-align:right;\">2</td> <td class=\"cell-24\" style=\"\">NA</td> <td class=\"cell-25\" style=\"\">NA</td> <td class=\"cell-26\" style=\"\">NA</td> <td class=\"cell-27\" style=\"\">NA</td> <td class=\"cell-28\" style=\"text-align:right;\">2</td></tr>\n",
       "<tr><td class=\"cell-1\" style=\"\">Channel Wicked Tuna</td> <td class=\"cell-2\" style=\"text-align:right;\">2</td> <td class=\"cell-3\" style=\"text-align:right;\">14,486</td> <td class=\"cell-4\" style=\"text-align:right;\">2.133</td> <td class=\"cell-5\" style=\"text-align:right;\">1.066</td> <td class=\"cell-6\" style=\"text-align:right;\">11,720</td> <td class=\"cell-7\" style=\"text-align:right;\">11,720</td> <td class=\"cell-8\" style=\"text-align:right;\">11,831</td> <td class=\"cell-9\" style=\"text-align:right;\">13,103</td> <td class=\"cell-10\" style=\"text-align:right;\">15,870</td> <td class=\"cell-11\" style=\"text-align:right;\">17,142</td> <td class=\"cell-12\" style=\"text-align:right;\">17,253</td> <td class=\"cell-13\" style=\"text-align:right;\">17,253</td> <td class=\"cell-14\" style=\"text-align:right;\">152,774</td> <td class=\"cell-15\" style=\"text-align:right;\">1,228</td> <td class=\"cell-16\" style=\"text-align:right;\">37</td> <td class=\"cell-17\" style=\"text-align:right;\">44</td> <td class=\"cell-18\" style=\"\">NA</td> <td class=\"cell-19\" style=\"\">NA</td> <td class=\"cell-20\" style=\"\">NA</td> <td class=\"cell-21\" style=\"\">NA</td> <td class=\"cell-22\" style=\"\">NA</td> <td class=\"cell-23\" style=\"\">NA</td> <td class=\"cell-24\" style=\"\">NA</td> <td class=\"cell-25\" style=\"\">NA</td> <td class=\"cell-26\" style=\"\">NA</td> <td class=\"cell-27\" style=\"\">NA</td> <td class=\"cell-28\" style=\"\">NA</td></tr>\n",
       "    </tbody>\n"
      ]
     },
     "metadata": {},
     "output_type": "display_data"
    }
   ],
   "source": [
    "gbg = getBestGrouping(soasta_results, group_summary)\n",
    "beautifyDF(gbg)"
   ]
  },
  {
   "cell_type": "code",
   "execution_count": null,
   "metadata": {
    "collapsed": true,
    "input_collapsed": true
   },
   "outputs": [],
   "source": []
  }
 ],
 "metadata": {
  "kernelspec": {
   "display_name": "Julia 0.4.7",
   "language": "julia",
   "name": "julia-0.4"
  },
  "language": "Julia",
  "language_info": {
   "file_extension": ".jl",
   "mimetype": "application/julia",
   "name": "julia",
   "version": "0.4.7"
  },
  "library_version": "1.0.0",
  "notebook_uuid": "db4176cd-85f1-4674-99af-0b357b5dfa8a",
  "readOnly": false
 },
 "nbformat": 4,
 "nbformat_minor": 0
}
