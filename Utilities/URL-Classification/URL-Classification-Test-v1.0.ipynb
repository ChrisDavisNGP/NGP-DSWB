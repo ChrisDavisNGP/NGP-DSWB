{
 "cells": [
  {
   "cell_type": "markdown",
   "metadata": {},
   "source": [
    "## Tables and Data Source setup"
   ]
  },
  {
   "cell_type": "code",
   "execution_count": 1,
   "metadata": {
    "collapsed": false,
    "input_collapsed": false,
    "scrolled": true
   },
   "outputs": [
    {
     "name": "stdout",
     "output_type": "stream",
     "text": [
      "Redshift endpoint set: 2017-11-30T16:17:58\n"
     ]
    }
   ],
   "source": [
    "using ODBC\n",
    "using DataFrames\n",
    "using DSWB\n",
    "using Formatting\n",
    "using URIParser\n",
    "\n",
    "dsn = \"dswb-natgeo\" # Redshift esetTable(tableRt, tableType = \"RESOURCE_TABLE\")ndpoint\n",
    "table = \"beacons_4744\" # beacon table name\n",
    "tableRt = \"beacons_4744_rt\"\n",
    "\n",
    "# Connect to Beacon Data\n",
    "setRedshiftEndpoint(dsn)\n",
    "setTable(table)\n",
    "setTable(tableRt, tableType = \"RESOURCE_TABLE\")\n",
    ";"
   ]
  },
  {
   "cell_type": "code",
   "execution_count": 2,
   "metadata": {
    "collapsed": false,
    "input_collapsed": false
   },
   "outputs": [],
   "source": [
    "# Time & Structures First\n",
    "include(\"../../Lib/Include-Package-v2.1.jl\")\n",
    ";"
   ]
  },
  {
   "cell_type": "code",
   "execution_count": 3,
   "metadata": {
    "collapsed": false,
    "input_collapsed": false
   },
   "outputs": [
    {
     "name": "stdout",
     "output_type": "stream",
     "text": [
      "November 27, 2017 23:59:00 to November 29, 2017 23:59:00 Local Time\n",
      "November 28, 2017 04:59:00 to November 30, 2017 04:59:00 UTC Time\n"
     ]
    }
   ],
   "source": [
    "#TV = timeVariables(2017,10,27,23,59,2017,11,3,23,59)\n",
    "TV = weeklyTimeVariables(days=2)\n",
    "#TV = yesterdayTimeVariables()\n",
    ";"
   ]
  },
  {
   "cell_type": "code",
   "execution_count": 4,
   "metadata": {
    "collapsed": false,
    "input_collapsed": false,
    "scrolled": true
   },
   "outputs": [],
   "source": [
    "UP = UrlParamsInit()\n",
    "UP.agentOs = \"%\"\n",
    "UP.deviceType = \"%\"\n",
    "UP.limitRows = 10\n",
    "#UP.limitRows = 250\n",
    "UP.orderBy = \"time\"\n",
    "UP.pageGroup = \"%\"   #productPageGroup\n",
    "UP.samplesMin = 10\n",
    "UP.sizeMin = 20000\n",
    "UP.timeLowerMs = 2000.0\n",
    "UP.timeUpperMs = 60000.0\n",
    "UP.urlRegEx = \"%\"   #localUrl\n",
    "UP.urlFull = \"%\"\n",
    "UP.usePageLoad=false\n",
    "UP.btView = \"$(table)_all_dt_view_prod\" #localtable\n",
    "UP.rtView = \"$(tableRt)_all_dt_view_prod\" #localtableRt\n",
    "UrlParamsValidate(UP)\n",
    "\n",
    "SP = ShowParamsInit()\n",
    "SP.desktop=false\n",
    "SP.mobile=false\n",
    "SP.devView=false\n",
    "SP.criticalPathOnly=true\n",
    "SP.debug=true\n",
    "SP.debugLevel = 10   # Tests use even numbers with > tests, make this an odd number or zero\n",
    "ShowParamsValidate(SP)\n",
    ";"
   ]
  },
  {
   "cell_type": "code",
   "execution_count": 5,
   "metadata": {
    "collapsed": false,
    "input_collapsed": false,
    "scrolled": false
   },
   "outputs": [],
   "source": [
    "toppageurl = query(\"\"\"\\\n",
    "    select \n",
    "        'None' as urlpagegroup,\n",
    "        CASE WHEN (position('?' in url) > 0) then trim('/' from (substring(url for position('?' in substring(url from 9)) +7))) else trim('/' from url) end as urlgroup\n",
    "    FROM $(UP.resourceTable)\n",
    "    where\n",
    "        \"timestamp\" between $(TV.startTimeMsUTC) and $(TV.endTimeMsUTC)\n",
    "    group by urlgroup,urlpagegroup\n",
    "    limit $(UP.limitRows)\n",
    " \"\"\");    "
   ]
  },
  {
   "cell_type": "code",
   "execution_count": 6,
   "metadata": {
    "collapsed": false,
    "input_collapsed": false
   },
   "outputs": [
    {
     "data": {
      "text/plain": [
       "(10,2)"
      ]
     },
     "metadata": {},
     "output_type": "display_data"
    }
   ],
   "source": [
    "display(size(toppageurl))"
   ]
  },
  {
   "cell_type": "code",
   "execution_count": 7,
   "metadata": {
    "collapsed": false,
    "input_collapsed": false
   },
   "outputs": [],
   "source": [
    "#save for debug\n",
    "toppageurlbackup = deepcopy(toppageurl);        "
   ]
  },
  {
   "cell_type": "code",
   "execution_count": 8,
   "metadata": {
    "collapsed": false,
    "input_collapsed": false,
    "scrolled": false
   },
   "outputs": [
    {
     "name": "stdout",
     "output_type": "stream",
     "text": [
      "Using Short Dictionary for Debug\n"
     ]
    }
   ],
   "source": [
    "include(\"../../Lib/URL-Classification-Package-v2.0.jl\")\n",
    "\n",
    "WellKnownHostDirectory = wellKnownHostEncyclopedia(SP.debug);\n",
    "WellKnownHost = wellKnownHostDictionary(SP.debug);\n",
    "WellKnownPath = wellKnownPathDictionary(SP.debug);\n"
   ]
  },
  {
   "cell_type": "code",
   "execution_count": 10,
   "metadata": {
    "collapsed": false,
    "input_collapsed": false,
    "scrolled": false
   },
   "outputs": [
    {
     "name": "stdout",
     "output_type": "stream",
     "text": [
      "z.moatads.com and Z\n",
      "New Group NoneInner\n",
      "cdn.krxd.net and C\n",
      "New Group NoneInner\n",
      "        (\"cdn.krxd.net\",\"cdn.krxd.net\"),\n",
      "www.facebook.com and W\n",
      "New Group NoneInner\n",
      "        (\"www.facebook.com\",\"www.facebook.com\"),\n",
      "www.zergnet.com and W\n",
      "New Group NoneInner\n",
      "www.googletagmanager.com and W\n",
      "New Group NoneInner\n",
      "        (\"www.googletagmanager.com\",\"www.googletagmanager.com\"),\n",
      "news.nationalgeographic.com and N\n",
      "New Group NoneInner\n",
      "news.nationalgeographic.com and N\n",
      "New Group NoneInner\n",
      "news.nationalgeographic.com and N\n",
      "New Group NoneInner\n",
      "tpc.googlesyndication.com and T\n",
      "New Group NoneInner\n",
      "        (\"tpc.googlesyndication.com\",\"tpc.googlesyndication.com\"),\n",
      "tpc.googlesyndication.com and T\n",
      "New Group NoneInner\n",
      "        (\"tpc.googlesyndication.com\",\"tpc.googlesyndication.com\"),\n"
     ]
    }
   ],
   "source": [
    "include(\"../../Lib/URL-Classification-Package-v2.0.jl\")\n",
    "\n",
    "# Debug\n",
    "toppageurl = deepcopy(toppageurlbackup)\n",
    "\n",
    "scrubUrlToPrint(toppageurl);\n",
    "classifyUrl(toppageurl,showProblems=false);        \n",
    "#"
   ]
  },
  {
   "cell_type": "code",
   "execution_count": null,
   "metadata": {
    "collapsed": false,
    "input_collapsed": false
   },
   "outputs": [],
   "source": [
    "display(toppageurl)"
   ]
  },
  {
   "cell_type": "code",
   "execution_count": null,
   "metadata": {
    "collapsed": true,
    "input_collapsed": true
   },
   "outputs": [],
   "source": []
  }
 ],
 "metadata": {
  "chart_version": "1.0.0",
  "kernelspec": {
   "display_name": "Julia 0.4.7",
   "language": "julia",
   "name": "julia-0.4"
  },
  "language_info": {
   "file_extension": ".jl",
   "mimetype": "application/julia",
   "name": "julia",
   "version": "0.4.7"
  },
  "library_version": "1.0.0",
  "notebook_uuid": "42d998b1-0b97-4ae9-a85d-563fc917d182",
  "readOnly": false
 },
 "nbformat": 4,
 "nbformat_minor": 0
}
