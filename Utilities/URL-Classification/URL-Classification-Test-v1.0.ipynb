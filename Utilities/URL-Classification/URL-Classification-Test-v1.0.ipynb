{
 "cells": [
  {
   "cell_type": "markdown",
   "metadata": {},
   "source": [
    "## Tables and Data Source setup"
   ]
  },
  {
   "cell_type": "code",
   "execution_count": 1,
   "metadata": {
    "collapsed": false,
    "input_collapsed": false,
    "scrolled": true
   },
   "outputs": [
    {
     "name": "stdout",
     "output_type": "stream",
     "text": [
      "Redshift endpoint set: 2017-11-29T21:09:02\n"
     ]
    }
   ],
   "source": [
    "using ODBC\n",
    "using DataFrames\n",
    "using DSWB\n",
    "using Formatting\n",
    "using URIParser\n",
    "\n",
    "dsn = \"dswb-natgeo\" # Redshift esetTable(tableRt, tableType = \"RESOURCE_TABLE\")ndpoint\n",
    "table = \"beacons_4744\" # beacon table name\n",
    "tableRt = \"beacons_4744_rt\"\n",
    "\n",
    "# Connect to Beacon Data\n",
    "setRedshiftEndpoint(dsn)\n",
    "setTable(table)\n",
    "setTable(tableRt, tableType = \"RESOURCE_TABLE\")\n",
    ";"
   ]
  },
  {
   "cell_type": "code",
   "execution_count": 2,
   "metadata": {
    "collapsed": false,
    "input_collapsed": false
   },
   "outputs": [],
   "source": [
    "# Time & Structures First\n",
    "include(\"../../Lib/Include-Package-v2.1.jl\")\n",
    ";"
   ]
  },
  {
   "cell_type": "code",
   "execution_count": 3,
   "metadata": {
    "collapsed": false,
    "input_collapsed": false
   },
   "outputs": [
    {
     "name": "stdout",
     "output_type": "stream",
     "text": [
      "November 28, 2017 06:59:00 to November 28, 2017 16:59:00 Local Time\n",
      "November 28, 2017 11:59:00 to November 28, 2017 21:59:00 UTC Time\n"
     ]
    }
   ],
   "source": [
    "#TV = timeVariables(2017,10,27,23,59,2017,11,3,23,59)\n",
    "#TV = weeklyTimeVariables(days=7)\n",
    "TV = yesterdayTimeVariables()\n",
    ";"
   ]
  },
  {
   "cell_type": "code",
   "execution_count": 10,
   "metadata": {
    "collapsed": false,
    "input_collapsed": false,
    "scrolled": true
   },
   "outputs": [],
   "source": [
    "UP = UrlParamsInit()\n",
    "UP.agentOs = \"%\"\n",
    "UP.deviceType = \"%\"\n",
    "UP.limitRows = 10000\n",
    "#UP.limitRows = 250\n",
    "UP.orderBy = \"time\"\n",
    "UP.pageGroup = \"News Article\"   #productPageGroup\n",
    "UP.samplesMin = 10\n",
    "UP.sizeMin = 20000\n",
    "UP.timeLowerMs = 2000.0\n",
    "UP.timeUpperMs = 60000.0\n",
    "UP.urlRegEx = \"%\"   #localUrl\n",
    "UP.urlFull = \"%\"\n",
    "UP.usePageLoad=false\n",
    "UP.btView = \"$(table)_all_dt_view_prod\" #localtable\n",
    "UP.rtView = \"$(tableRt)_all_dt_view_prod\" #localtableRt\n",
    "UrlParamsValidate(UP)\n",
    "\n",
    "SP = ShowParamsInit()\n",
    "SP.desktop=false\n",
    "SP.mobile=false\n",
    "SP.devView=false\n",
    "SP.criticalPathOnly=true\n",
    "SP.debug=false\n",
    "SP.debugLevel = 0   # Tests use even numbers with > tests, make this an odd number or zero\n",
    "ShowParamsValidate(SP)\n",
    ";"
   ]
  },
  {
   "cell_type": "code",
   "execution_count": 11,
   "metadata": {
    "collapsed": false,
    "input_collapsed": false,
    "scrolled": false
   },
   "outputs": [],
   "source": [
    "toppageurl = query(\"\"\"\\\n",
    "    select \n",
    "        'None' as urlpagegroup,\n",
    "        CASE WHEN (position('?' in url) > 0) then trim('/' from (substring(url for position('?' in substring(url from 9)) +7))) else trim('/' from url) end as urlgroup\n",
    "    FROM $(UP.resourceTable)\n",
    "    where\n",
    "        \"timestamp\" between $(TV.startTimeMsUTC) and $(TV.endTimeMsUTC)\n",
    "    group by urlgroup,urlpagegroup\n",
    "    limit $(UP.limitRows)\n",
    " \"\"\");    "
   ]
  },
  {
   "cell_type": "code",
   "execution_count": 12,
   "metadata": {
    "collapsed": false,
    "input_collapsed": false
   },
   "outputs": [],
   "source": [
    "#save for debug\n",
    "toppageurlbackup = deepcopy(toppageurl);        "
   ]
  },
  {
   "cell_type": "code",
   "execution_count": 13,
   "metadata": {
    "collapsed": false,
    "input_collapsed": false,
    "scrolled": false
   },
   "outputs": [],
   "source": [
    "include(\"../../Lib/URL-Classification-Package-v2.0.jl\")\n",
    "\n",
    "WellKnownHost = wellKnownHostDictionary(SP.debug);\n",
    "WellKnownPath = wellKnownPathDictionary(SP.debug);\n"
   ]
  },
  {
   "cell_type": "code",
   "execution_count": 14,
   "metadata": {
    "collapsed": false,
    "input_collapsed": false,
    "scrolled": false
   },
   "outputs": [
    {
     "name": "stdout",
     "output_type": "stream",
     "text": [
      "Yourshot to do: Classify /photos\n",
      "    (\"d3qdfnco3bamip.cloudfront.net\",\"d3qdfnco3bamip.cloudfront.net\"),\n",
      "    (\"d3qdfnco3bamip.cloudfront.net\",\"d3qdfnco3bamip.cloudfront.net\"),\n",
      "    (\"d2xvc2nqkduarq.cloudfront.net\",\"d2xvc2nqkduarq.cloudfront.net\"),\n",
      "    (\"www.google.co.th\",\"www.google.co.th\"),\n",
      "    (\"bundle.clearstream.tv\",\"bundle.clearstream.tv\"),\n",
      "    (\"d3qdfnco3bamip.cloudfront.net\",\"d3qdfnco3bamip.cloudfront.net\"),\n",
      "    (\"d3qdfnco3bamip.cloudfront.net\",\"d3qdfnco3bamip.cloudfront.net\"),\n",
      "    (\"www.natgeomaps.com\",\"www.natgeomaps.com\"),\n",
      "Yourshot to do: Classify /search\n",
      "    (\"resus.u3.ucweb.com\",\"resus.u3.ucweb.com\"),\n",
      "    (\"cdn-stage.actiflex.org\",\"cdn-stage.actiflex.org\"),\n",
      "    (\"mpc.nl.mxptint.net\",\"mpc.nl.mxptint.net\"),\n",
      "    (\"dpstvy7p9whsy.cloudfront.net\",\"dpstvy7p9whsy.cloudfront.net\"),\n",
      "Yourshot to do: Classify /tags/barefoot\n",
      "    (\"dcc4iyjchzom0.cloudfront.net\",\"dcc4iyjchzom0.cloudfront.net\"),\n",
      "    (\"quantcast584928381.s.moatpixel.com\",\"quantcast584928381.s.moatpixel.com\"),\n",
      "    (\"reports.metadsp.co.uk\",\"reports.metadsp.co.uk\"),\n",
      "    (\"profitkode.com\",\"profitkode.com\"),\n",
      "    (\"profitkode.com\",\"profitkode.com\"),\n",
      "    (\"profitkode.com\",\"profitkode.com\"),\n",
      "    (\"profitkode.com\",\"profitkode.com\"),\n",
      "    (\"profitkode.com\",\"profitkode.com\"),\n",
      "    (\"pixel-geo.prfct.co\",\"pixel-geo.prfct.co\"),\n",
      "    (\"pixel-geo.prfct.co\",\"pixel-geo.prfct.co\"),\n",
      "    (\"www.google.se\",\"www.google.se\"),\n",
      "Yourshot to do: Classify /upload\n",
      "    (\"d3qdfnco3bamip.cloudfront.net\",\"d3qdfnco3bamip.cloudfront.net\"),\n",
      "    (\"d3qdfnco3bamip.cloudfront.net\",\"d3qdfnco3bamip.cloudfront.net\"),\n",
      "    (\"d3qdfnco3bamip.cloudfront.net\",\"d3qdfnco3bamip.cloudfront.net\"),\n",
      "Yourshot to do: Classify /\n"
     ]
    }
   ],
   "source": [
    "include(\"../../Lib/URL-Classification-Package-v2.0.jl\")\n",
    "\n",
    "# Debug\n",
    "toppageurl = deepcopy(toppageurlbackup)\n",
    "\n",
    "scrubUrlToPrint(toppageurl);\n",
    "classifyUrl(toppageurl,showProblems=false);        \n",
    "#"
   ]
  },
  {
   "cell_type": "code",
   "execution_count": null,
   "metadata": {
    "collapsed": true,
    "input_collapsed": true
   },
   "outputs": [],
   "source": []
  }
 ],
 "metadata": {
  "chart_version": "1.0.0",
  "kernelspec": {
   "display_name": "Julia 0.4.7",
   "language": "julia",
   "name": "julia-0.4"
  },
  "language_info": {
   "file_extension": ".jl",
   "mimetype": "application/julia",
   "name": "julia",
   "version": "0.4.7"
  },
  "library_version": "1.0.0",
  "notebook_uuid": "42d998b1-0b97-4ae9-a85d-563fc917d182",
  "readOnly": false
 },
 "nbformat": 4,
 "nbformat_minor": 0
}
