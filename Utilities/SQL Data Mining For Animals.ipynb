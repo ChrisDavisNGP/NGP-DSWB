{
 "cells": [
  {
   "cell_type": "code",
   "execution_count": 1,
   "metadata": {
    "collapsed": false,
    "input_collapsed": false
   },
   "outputs": [
    {
     "name": "stdout",
     "output_type": "stream",
     "text": [
      "Redshift endpoint set: 2017-07-14T14:30:07\n"
     ]
    },
    {
     "data": {
      "text/plain": [
       "\"beacons_4744\""
      ]
     },
     "execution_count": 1,
     "metadata": {},
     "output_type": "execute_result"
    }
   ],
   "source": [
    "using ODBC\n",
    "using DataFrames\n",
    "using DSWB\n",
    "using Formatting\n",
    "\n",
    "dsn = \"dswb-natgeo\" # Redshift endpoint\n",
    "table = \"beacons_4744\" # beacon table name\n",
    "tableRt = \"beacons_4744_rt\"\n",
    "\n",
    "# Connect to Beacon Data\n",
    "setRedshiftEndpoint(dsn)\n",
    "setTable(table)"
   ]
  },
  {
   "cell_type": "code",
   "execution_count": 2,
   "metadata": {
    "collapsed": false,
    "input_collapsed": false,
    "scrolled": true
   },
   "outputs": [
    {
     "name": "stdout",
     "output_type": "stream",
     "text": [
      "July 6, 2017 23:59:00 to July 13, 2017 23:59:00 Local Time\n",
      "July 7, 2017 03:59:00 to July 14, 2017 03:59:00 UTC Time\n"
     ]
    }
   ],
   "source": [
    "# Packages\n",
    "include(\"/data/notebook_home/Production/Lib/Include-Package-v1.0.jl\")\n",
    "include(\"/data/notebook_home/Production/Bodies/SQL-Data-Mining-For-Group-Body-v1.0.jl\")\n",
    "\n",
    "#timeVariables(2017,6,8,10,59,2017,6,8,12,59)\n",
    "weeklyTimeVariables(days=7)\n",
    "#yesterdayTimeVariables()\n",
    ";"
   ]
  },
  {
   "cell_type": "code",
   "execution_count": 3,
   "metadata": {
    "collapsed": false,
    "input_collapsed": false
   },
   "outputs": [],
   "source": [
    "UP = UrlParamsInit()\n",
    "UP.beaconTable = table   #table\n",
    "UP.resourceTable = tableRt\n",
    "UP.btView = \"$(table)_SQL_Data_Mining_For_Group_pview_prod\" #localtable\n",
    "UP.rtView = \"$(tableRt)_SQL_Data_Mining_For_Group_pview_prod\" #localtableRt\n",
    "UP.pageGroup = \"%\"   #productPageGroup\n",
    "UP.urlRegEx = \"%\"   #localUrl\n",
    "UP.deviceType = \"Mobile\"\n",
    "\n",
    "SG = SoastaGraphsInit()\n",
    "customer = \"Nat Geo\" \n",
    "SG.customer = customer\n",
    "\n",
    "SP = ShowParamsInit()\n",
    "SP.debugLevel = 10;\n",
    "SP.debug = true;\n",
    ";\n",
    "\n",
    "LV = LocalVars(0)\n",
    "LV.linesOutput = 25\n",
    ";"
   ]
  },
  {
   "cell_type": "code",
   "execution_count": 4,
   "metadata": {
    "collapsed": false,
    "input_collapsed": false,
    "scrolled": false
   },
   "outputs": [
    {
     "data": {
      "text/html": [
       "<div class=\"dswbOutputText\"><h1 class=\"chart_title\" style=\"color:#ccc\">Top Beacons Counts (limit 25) For Animals WPF</h1><h3 class=\"chart_info\" style=\"color:#ccc\">July 6, 2017 23:59:00 to July 13, 2017 23:59:00 Local Time</h3></div>"
      ]
     },
     "metadata": {},
     "output_type": "display_data"
    },
    {
     "data": {
      "text/html": [
       "    <table  class=\"dataframe-table\">\n",
       "    <thead><tr><th class=\"cell-1\" style=\"\">count</th> <th class=\"cell-2\" style=\"\">url</th> <th class=\"cell-3\" style=\"\">params u</th></tr></thead>\n",
       "    <tbody>\n",
       "    <tr><td class=\"cell-1\" style=\"text-align:right;\">1,262</td> <td class=\"cell-2\" style=\"\">http://animals.nationalgeographic.com/</td> <td class=\"cell-3\" style=\"\">http://animals.nationalgeographic.com/animals/photos/</td></tr>\n",
       "<tr><td class=\"cell-1\" style=\"text-align:right;\">1,073</td> <td class=\"cell-2\" style=\"\">http://animals.nationalgeographic.com/</td> <td class=\"cell-3\" style=\"\">http://animals.nationalgeographic.com/animals/photos/lions/</td></tr>\n",
       "<tr><td class=\"cell-1\" style=\"text-align:right;\">1,030</td> <td class=\"cell-2\" style=\"\">http://animals.nationalgeographic.com/</td> <td class=\"cell-3\" style=\"\">http://animals.nationalgeographic.com/animals/birding/backyard-bird-identifier/</td></tr>\n",
       "<tr><td class=\"cell-1\" style=\"text-align:right;\">987</td> <td class=\"cell-2\" style=\"\">http://animals.nationalgeographic.com/</td> <td class=\"cell-3\" style=\"\">http://animals.nationalgeographic.com/animals/prehistoric/devil-frog.html</td></tr>\n",
       "<tr><td class=\"cell-1\" style=\"text-align:right;\">984</td> <td class=\"cell-2\" style=\"\">http://animals.nationalgeographic.com/</td> <td class=\"cell-3\" style=\"\">http://animals.nationalgeographic.com/animals/photos/snakes/</td></tr>\n",
       "<tr><td class=\"cell-1\" style=\"text-align:right;\">815</td> <td class=\"cell-2\" style=\"\">http://animals.nationalgeographic.com/</td> <td class=\"cell-3\" style=\"\">http://animals.nationalgeographic.com/animals/photos/elephants/</td></tr>\n",
       "<tr><td class=\"cell-1\" style=\"text-align:right;\">796</td> <td class=\"cell-2\" style=\"\">http://animals.nationalgeographic.com/</td> <td class=\"cell-3\" style=\"\">http://animals.nationalgeographic.com/animals/photos/tigers/</td></tr>\n",
       "<tr><td class=\"cell-1\" style=\"text-align:right;\">781</td> <td class=\"cell-2\" style=\"\">http://animals.nationalgeographic.com/</td> <td class=\"cell-3\" style=\"\">http://animals.nationalgeographic.com/animals/prehistoric/tyrannosaurus-rex/</td></tr>\n",
       "<tr><td class=\"cell-1\" style=\"text-align:right;\">771</td> <td class=\"cell-2\" style=\"\">http://animals.nationalgeographic.com/</td> <td class=\"cell-3\" style=\"\">http://animals.nationalgeographic.com/animals/photos/birds-of-prey-photos/</td></tr>\n",
       "<tr><td class=\"cell-1\" style=\"text-align:right;\">750</td> <td class=\"cell-2\" style=\"\">http://animals.nationalgeographic.com/</td> <td class=\"cell-3\" style=\"\">http://animals.nationalgeographic.com/animals/quiz/</td></tr>\n",
       "<tr><td class=\"cell-1\" style=\"text-align:right;\">711</td> <td class=\"cell-2\" style=\"\">http://animals.nationalgeographic.com/</td> <td class=\"cell-3\" style=\"\">http://animals.nationalgeographic.com/animals/sharks/</td></tr>\n",
       "<tr><td class=\"cell-1\" style=\"text-align:right;\">695</td> <td class=\"cell-2\" style=\"\">http://animals.nationalgeographic.com/</td> <td class=\"cell-3\" style=\"\">http://animals.nationalgeographic.com/animals/wild/shows-deadly-60/pictures/</td></tr>\n",
       "<tr><td class=\"cell-1\" style=\"text-align:right;\">649</td> <td class=\"cell-2\" style=\"\">http://animals.nationalgeographic.com/</td> <td class=\"cell-3\" style=\"\">http://animals.nationalgeographic.com/animals/photo-ark/pictures/monogamous-animals/</td></tr>\n",
       "    \n",
       "    <tr><td class=\"cell-1\" style=\"text-align:right;\">641</td> <td class=\"cell-2\" style=\"\">http://animals.nationalgeographic.com/</td> <td class=\"cell-3\" style=\"\">http://animals.nationalgeographic.com/animals/birding/bird-photos/</td></tr>\n",
       "<tr><td class=\"cell-1\" style=\"text-align:right;\">561</td> <td class=\"cell-2\" style=\"\">http://animals.nationalgeographic.com/</td> <td class=\"cell-3\" style=\"\">http://animals.nationalgeographic.com/animals/bugs/</td></tr>\n",
       "<tr><td class=\"cell-1\" style=\"text-align:right;\">555</td> <td class=\"cell-2\" style=\"\">http://animals.nationalgeographic.com/</td> <td class=\"cell-3\" style=\"\">http://animals.nationalgeographic.com/animals/wild/events-monster-bash/worlds-weirdest-pictures/</td></tr>\n",
       "<tr><td class=\"cell-1\" style=\"text-align:right;\">509</td> <td class=\"cell-2\" style=\"\">http://animals.nationalgeographic.com/</td> <td class=\"cell-3\" style=\"\">http://animals.nationalgeographic.com/animals/photos/hummingbird-photos/</td></tr>\n",
       "<tr><td class=\"cell-1\" style=\"text-align:right;\">507</td> <td class=\"cell-2\" style=\"\">http://animals.nationalgeographic.com/</td> <td class=\"cell-3\" style=\"\">http://animals.nationalgeographic.com/animals/birding/backyard-birds-all/</td></tr>\n",
       "<tr><td class=\"cell-1\" style=\"text-align:right;\">444</td> <td class=\"cell-2\" style=\"\">http://animals.nationalgeographic.com/</td> <td class=\"cell-3\" style=\"\">http://animals.nationalgeographic.com/animals/photos/sharks/</td></tr>\n",
       "<tr><td class=\"cell-1\" style=\"text-align:right;\">416</td> <td class=\"cell-2\" style=\"\">http://animals.nationalgeographic.com/</td> <td class=\"cell-3\" style=\"\">http://animals.nationalgeographic.com/animals/photos/baby-animals/</td></tr>\n",
       "<tr><td class=\"cell-1\" style=\"text-align:right;\">393</td> <td class=\"cell-2\" style=\"\">http://animals.nationalgeographic.com/</td> <td class=\"cell-3\" style=\"\">http://animals.nationalgeographic.com/animals/photos/songbird-photos/</td></tr>\n",
       "<tr><td class=\"cell-1\" style=\"text-align:right;\">387</td> <td class=\"cell-2\" style=\"\">http://animals.nationalgeographic.com/</td> <td class=\"cell-3\" style=\"\">http://animals.nationalgeographic.com/animals/photos/big-cats/</td></tr>\n",
       "<tr><td class=\"cell-1\" style=\"text-align:right;\">356</td> <td class=\"cell-2\" style=\"\">http://animals.nationalgeographic.com/</td> <td class=\"cell-3\" style=\"\">http://animals.nationalgeographic.com/animals/wild/shows-deadly-60/fun-facts/</td></tr>\n",
       "<tr><td class=\"cell-1\" style=\"text-align:right;\">330</td> <td class=\"cell-2\" style=\"\">http://animals.nationalgeographic.com/</td> <td class=\"cell-3\" style=\"\">http://animals.nationalgeographic.com/animals/big-cats/facts/</td></tr>\n",
       "<tr><td class=\"cell-1\" style=\"text-align:right;\">311</td> <td class=\"cell-2\" style=\"\">http://animals.nationalgeographic.com/</td> <td class=\"cell-3\" style=\"\">http://animals.nationalgeographic.com/animals/photos/whales/</td></tr>\n",
       "    </tbody>\n"
      ],
      "text/plain": [
       "HTML{UTF8String}(\"    <table  class=\\\"dataframe-table\\\">\\n    <thead><tr><th class=\\\"cell-1\\\" style=\\\"\\\">count</th> <th class=\\\"cell-2\\\" style=\\\"\\\">url</th> <th class=\\\"cell-3\\\" style=\\\"\\\">params u</th></tr></thead>\\n    <tbody>\\n    <tr><td class=\\\"cell-1\\\" style=\\\"text-align:right;\\\">1,262</td> <td class=\\\"cell-2\\\" style=\\\"\\\">http://animals.nationalgeographic.com/</td> <td class=\\\"cell-3\\\" style=\\\"\\\">http://animals.nationalgeographic.com/animals/photos/</td></tr>\\n<tr><td class=\\\"cell-1\\\" style=\\\"text-align:right;\\\">1,073</td> <td class=\\\"cell-2\\\" style=\\\"\\\">http://animals.nationalgeographic.com/</td> <td class=\\\"cell-3\\\" style=\\\"\\\">http://animals.nationalgeographic.com/animals/photos/lions/</td></tr>\\n<tr><td class=\\\"cell-1\\\" style=\\\"text-align:right;\\\">1,030</td> <td class=\\\"cell-2\\\" style=\\\"\\\">http://animals.nationalgeographic.com/</td> <td class=\\\"cell-3\\\" style=\\\"\\\">http://animals.nationalgeographic.com/animals/birding/backyard-bird-identifier/</td></tr>\\n<tr><td class=\\\"cell-1\\\" style=\\\"text-align:right;\\\">987</td> <td class=\\\"cell-2\\\" style=\\\"\\\">http://animals.nationalgeographic.com/</td> <td class=\\\"cell-3\\\" style=\\\"\\\">http://animals.nationalgeographic.com/animals/prehistoric/devil-frog.html</td></tr>\\n<tr><td class=\\\"cell-1\\\" style=\\\"text-align:right;\\\">984</td> <td class=\\\"cell-2\\\" style=\\\"\\\">http://animals.nationalgeographic.com/</td> <td class=\\\"cell-3\\\" style=\\\"\\\">http://animals.nationalgeographic.com/animals/photos/snakes/</td></tr>\\n<tr><td class=\\\"cell-1\\\" style=\\\"text-align:right;\\\">815</td> <td class=\\\"cell-2\\\" style=\\\"\\\">http://animals.nationalgeographic.com/</td> <td class=\\\"cell-3\\\" style=\\\"\\\">http://animals.nationalgeographic.com/animals/photos/elephants/</td></tr>\\n<tr><td class=\\\"cell-1\\\" style=\\\"text-align:right;\\\">796</td> <td class=\\\"cell-2\\\" style=\\\"\\\">http://animals.nationalgeographic.com/</td> <td class=\\\"cell-3\\\" style=\\\"\\\">http://animals.nationalgeographic.com/animals/photos/tigers/</td></tr>\\n<tr><td class=\\\"cell-1\\\" style=\\\"text-align:right;\\\">781</td> <td class=\\\"cell-2\\\" style=\\\"\\\">http://animals.nationalgeographic.com/</td> <td class=\\\"cell-3\\\" style=\\\"\\\">http://animals.nationalgeographic.com/animals/prehistoric/tyrannosaurus-rex/</td></tr>\\n<tr><td class=\\\"cell-1\\\" style=\\\"text-align:right;\\\">771</td> <td class=\\\"cell-2\\\" style=\\\"\\\">http://animals.nationalgeographic.com/</td> <td class=\\\"cell-3\\\" style=\\\"\\\">http://animals.nationalgeographic.com/animals/photos/birds-of-prey-photos/</td></tr>\\n<tr><td class=\\\"cell-1\\\" style=\\\"text-align:right;\\\">750</td> <td class=\\\"cell-2\\\" style=\\\"\\\">http://animals.nationalgeographic.com/</td> <td class=\\\"cell-3\\\" style=\\\"\\\">http://animals.nationalgeographic.com/animals/quiz/</td></tr>\\n<tr><td class=\\\"cell-1\\\" style=\\\"text-align:right;\\\">711</td> <td class=\\\"cell-2\\\" style=\\\"\\\">http://animals.nationalgeographic.com/</td> <td class=\\\"cell-3\\\" style=\\\"\\\">http://animals.nationalgeographic.com/animals/sharks/</td></tr>\\n<tr><td class=\\\"cell-1\\\" style=\\\"text-align:right;\\\">695</td> <td class=\\\"cell-2\\\" style=\\\"\\\">http://animals.nationalgeographic.com/</td> <td class=\\\"cell-3\\\" style=\\\"\\\">http://animals.nationalgeographic.com/animals/wild/shows-deadly-60/pictures/</td></tr>\\n<tr><td class=\\\"cell-1\\\" style=\\\"text-align:right;\\\">649</td> <td class=\\\"cell-2\\\" style=\\\"\\\">http://animals.nationalgeographic.com/</td> <td class=\\\"cell-3\\\" style=\\\"\\\">http://animals.nationalgeographic.com/animals/photo-ark/pictures/monogamous-animals/</td></tr>\\n    \\n    <tr><td class=\\\"cell-1\\\" style=\\\"text-align:right;\\\">641</td> <td class=\\\"cell-2\\\" style=\\\"\\\">http://animals.nationalgeographic.com/</td> <td class=\\\"cell-3\\\" style=\\\"\\\">http://animals.nationalgeographic.com/animals/birding/bird-photos/</td></tr>\\n<tr><td class=\\\"cell-1\\\" style=\\\"text-align:right;\\\">561</td> <td class=\\\"cell-2\\\" style=\\\"\\\">http://animals.nationalgeographic.com/</td> <td class=\\\"cell-3\\\" style=\\\"\\\">http://animals.nationalgeographic.com/animals/bugs/</td></tr>\\n<tr><td class=\\\"cell-1\\\" style=\\\"text-align:right;\\\">555</td> <td class=\\\"cell-2\\\" style=\\\"\\\">http://animals.nationalgeographic.com/</td> <td class=\\\"cell-3\\\" style=\\\"\\\">http://animals.nationalgeographic.com/animals/wild/events-monster-bash/worlds-weirdest-pictures/</td></tr>\\n<tr><td class=\\\"cell-1\\\" style=\\\"text-align:right;\\\">509</td> <td class=\\\"cell-2\\\" style=\\\"\\\">http://animals.nationalgeographic.com/</td> <td class=\\\"cell-3\\\" style=\\\"\\\">http://animals.nationalgeographic.com/animals/photos/hummingbird-photos/</td></tr>\\n<tr><td class=\\\"cell-1\\\" style=\\\"text-align:right;\\\">507</td> <td class=\\\"cell-2\\\" style=\\\"\\\">http://animals.nationalgeographic.com/</td> <td class=\\\"cell-3\\\" style=\\\"\\\">http://animals.nationalgeographic.com/animals/birding/backyard-birds-all/</td></tr>\\n<tr><td class=\\\"cell-1\\\" style=\\\"text-align:right;\\\">444</td> <td class=\\\"cell-2\\\" style=\\\"\\\">http://animals.nationalgeographic.com/</td> <td class=\\\"cell-3\\\" style=\\\"\\\">http://animals.nationalgeographic.com/animals/photos/sharks/</td></tr>\\n<tr><td class=\\\"cell-1\\\" style=\\\"text-align:right;\\\">416</td> <td class=\\\"cell-2\\\" style=\\\"\\\">http://animals.nationalgeographic.com/</td> <td class=\\\"cell-3\\\" style=\\\"\\\">http://animals.nationalgeographic.com/animals/photos/baby-animals/</td></tr>\\n<tr><td class=\\\"cell-1\\\" style=\\\"text-align:right;\\\">393</td> <td class=\\\"cell-2\\\" style=\\\"\\\">http://animals.nationalgeographic.com/</td> <td class=\\\"cell-3\\\" style=\\\"\\\">http://animals.nationalgeographic.com/animals/photos/songbird-photos/</td></tr>\\n<tr><td class=\\\"cell-1\\\" style=\\\"text-align:right;\\\">387</td> <td class=\\\"cell-2\\\" style=\\\"\\\">http://animals.nationalgeographic.com/</td> <td class=\\\"cell-3\\\" style=\\\"\\\">http://animals.nationalgeographic.com/animals/photos/big-cats/</td></tr>\\n<tr><td class=\\\"cell-1\\\" style=\\\"text-align:right;\\\">356</td> <td class=\\\"cell-2\\\" style=\\\"\\\">http://animals.nationalgeographic.com/</td> <td class=\\\"cell-3\\\" style=\\\"\\\">http://animals.nationalgeographic.com/animals/wild/shows-deadly-60/fun-facts/</td></tr>\\n<tr><td class=\\\"cell-1\\\" style=\\\"text-align:right;\\\">330</td> <td class=\\\"cell-2\\\" style=\\\"\\\">http://animals.nationalgeographic.com/</td> <td class=\\\"cell-3\\\" style=\\\"\\\">http://animals.nationalgeographic.com/animals/big-cats/facts/</td></tr>\\n<tr><td class=\\\"cell-1\\\" style=\\\"text-align:right;\\\">311</td> <td class=\\\"cell-2\\\" style=\\\"\\\">http://animals.nationalgeographic.com/</td> <td class=\\\"cell-3\\\" style=\\\"\\\">http://animals.nationalgeographic.com/animals/photos/whales/</td></tr>\\n    </tbody>\\n\")"
      ]
     },
     "metadata": {},
     "output_type": "display_data"
    },
    {
     "data": {
      "text/html": [
       "<div class=\"dswbOutputText\"><h1 class=\"chart_title\" style=\"color:#ccc\">Top Beacons Counts (limit 25) For Animals AEM</h1><h3 class=\"chart_info\" style=\"color:#ccc\">July 6, 2017 23:59:00 to July 13, 2017 23:59:00 Local Time</h3></div>"
      ]
     },
     "metadata": {},
     "output_type": "display_data"
    },
    {
     "data": {
      "text/html": [
       "    <table  class=\"dataframe-table\">\n",
       "    <thead><tr><th class=\"cell-1\" style=\"\">count</th> <th class=\"cell-2\" style=\"\">url</th> <th class=\"cell-3\" style=\"\">params u</th></tr></thead>\n",
       "    <tbody>\n",
       "    <tr><td class=\"cell-1\" style=\"text-align:right;\">6,854</td> <td class=\"cell-2\" style=\"\">http://www.nationalgeographic.com/</td> <td class=\"cell-3\" style=\"\">http://www.nationalgeographic.com/animals/mammals/g/giraffe/</td></tr>\n",
       "<tr><td class=\"cell-1\" style=\"text-align:right;\">4,094</td> <td class=\"cell-2\" style=\"\">http://www.nationalgeographic.com/</td> <td class=\"cell-3\" style=\"\">http://www.nationalgeographic.com/animals/index/</td></tr>\n",
       "<tr><td class=\"cell-1\" style=\"text-align:right;\">3,761</td> <td class=\"cell-2\" style=\"\">http://www.nationalgeographic.com/</td> <td class=\"cell-3\" style=\"\">http://www.nationalgeographic.com/animals/</td></tr>\n",
       "<tr><td class=\"cell-1\" style=\"text-align:right;\">3,224</td> <td class=\"cell-2\" style=\"\">http://www.nationalgeographic.com/</td> <td class=\"cell-3\" style=\"\">http://www.nationalgeographic.com/animals/mammals/b/blue-whale/</td></tr>\n",
       "<tr><td class=\"cell-1\" style=\"text-align:right;\">2,991</td> <td class=\"cell-2\" style=\"\">http://www.nationalgeographic.com/</td> <td class=\"cell-3\" style=\"\">http://www.nationalgeographic.com/animals/invertebrates/group/black-widow-spiders/</td></tr>\n",
       "<tr><td class=\"cell-1\" style=\"text-align:right;\">2,814</td> <td class=\"cell-2\" style=\"\">http://www.nationalgeographic.com/</td> <td class=\"cell-3\" style=\"\">http://www.nationalgeographic.com/animals/invertebrates/p/portuguese-man-of-war/</td></tr>\n",
       "<tr><td class=\"cell-1\" style=\"text-align:right;\">2,448</td> <td class=\"cell-2\" style=\"\">http://www.nationalgeographic.com/</td> <td class=\"cell-3\" style=\"\">http://www.nationalgeographic.com/animals/invertebrates/group/fireflies/</td></tr>\n",
       "<tr><td class=\"cell-1\" style=\"text-align:right;\">2,269</td> <td class=\"cell-2\" style=\"\">http://www.nationalgeographic.com/</td> <td class=\"cell-3\" style=\"\">http://www.nationalgeographic.com/animals/?source=sitenav</td></tr>\n",
       "<tr><td class=\"cell-1\" style=\"text-align:right;\">2,126</td> <td class=\"cell-2\" style=\"\">http://www.nationalgeographic.com/</td> <td class=\"cell-3\" style=\"\">http://www.nationalgeographic.com/animals/birds/</td></tr>\n",
       "<tr><td class=\"cell-1\" style=\"text-align:right;\">2,009</td> <td class=\"cell-2\" style=\"\">http://www.nationalgeographic.com/</td> <td class=\"cell-3\" style=\"\">http://www.nationalgeographic.com/animals/fish/w/whale-shark/</td></tr>\n",
       "<tr><td class=\"cell-1\" style=\"text-align:right;\">1,918</td> <td class=\"cell-2\" style=\"\">http://www.nationalgeographic.com/</td> <td class=\"cell-3\" style=\"\">http://www.nationalgeographic.com/animals/birds/group/peacocks/</td></tr>\n",
       "<tr><td class=\"cell-1\" style=\"text-align:right;\">1,878</td> <td class=\"cell-2\" style=\"\">http://www.nationalgeographic.com/</td> <td class=\"cell-3\" style=\"\">http://www.nationalgeographic.com/animals/invertebrates/c/camel-spider/</td></tr>\n",
       "<tr><td class=\"cell-1\" style=\"text-align:right;\">1,795</td> <td class=\"cell-2\" style=\"\">http://www.nationalgeographic.com/</td> <td class=\"cell-3\" style=\"\">http://www.nationalgeographic.com/animals/invertebrates/group/cicadas/</td></tr>\n",
       "    \n",
       "    <tr><td class=\"cell-1\" style=\"text-align:right;\">1,693</td> <td class=\"cell-2\" style=\"\">http://www.nationalgeographic.com/</td> <td class=\"cell-3\" style=\"\">http://www.nationalgeographic.com/animals/mammals/o/orca/</td></tr>\n",
       "<tr><td class=\"cell-1\" style=\"text-align:right;\">1,661</td> <td class=\"cell-2\" style=\"\">http://www.nationalgeographic.com/</td> <td class=\"cell-3\" style=\"\">http://www.nationalgeographic.com/animals/fish/b/bull-shark/</td></tr>\n",
       "<tr><td class=\"cell-1\" style=\"text-align:right;\">1,563</td> <td class=\"cell-2\" style=\"\">http://www.nationalgeographic.com/</td> <td class=\"cell-3\" style=\"\">http://www.nationalgeographic.com/animals/fish/n/nurse-shark/</td></tr>\n",
       "<tr><td class=\"cell-1\" style=\"text-align:right;\">1,539</td> <td class=\"cell-2\" style=\"\">http://www.nationalgeographic.com/</td> <td class=\"cell-3\" style=\"\">http://www.nationalgeographic.com/animals/mammals/a/african-elephant/</td></tr>\n",
       "<tr><td class=\"cell-1\" style=\"text-align:right;\">1,517</td> <td class=\"cell-2\" style=\"\">http://www.nationalgeographic.com/</td> <td class=\"cell-3\" style=\"\">http://www.nationalgeographic.com/animals/mammals/</td></tr>\n",
       "<tr><td class=\"cell-1\" style=\"text-align:right;\">1,465</td> <td class=\"cell-2\" style=\"\">http://www.nationalgeographic.com/</td> <td class=\"cell-3\" style=\"\">http://www.nationalgeographic.com/animals/fish/g/great-white-shark/</td></tr>\n",
       "<tr><td class=\"cell-1\" style=\"text-align:right;\">1,414</td> <td class=\"cell-2\" style=\"\">http://www.nationalgeographic.com/</td> <td class=\"cell-3\" style=\"\">http://www.nationalgeographic.com/animals/mammals/g/gray-wolf/</td></tr>\n",
       "<tr><td class=\"cell-1\" style=\"text-align:right;\">1,379</td> <td class=\"cell-2\" style=\"\">http://www.nationalgeographic.com/</td> <td class=\"cell-3\" style=\"\">http://www.nationalgeographic.com/animals/fish/group/pufferfish/</td></tr>\n",
       "<tr><td class=\"cell-1\" style=\"text-align:right;\">1,366</td> <td class=\"cell-2\" style=\"\">http://www.nationalgeographic.com/</td> <td class=\"cell-3\" style=\"\">http://www.nationalgeographic.com/animals/mammals/r/red-fox/</td></tr>\n",
       "<tr><td class=\"cell-1\" style=\"text-align:right;\">1,292</td> <td class=\"cell-2\" style=\"\">http://www.nationalgeographic.com/</td> <td class=\"cell-3\" style=\"\">http://www.nationalgeographic.com/animals/mammals/p/platypus/</td></tr>\n",
       "<tr><td class=\"cell-1\" style=\"text-align:right;\">1,284</td> <td class=\"cell-2\" style=\"\">http://www.nationalgeographic.com/</td> <td class=\"cell-3\" style=\"\">http://www.nationalgeographic.com/animals/mammals/w/wolverine/</td></tr>\n",
       "<tr><td class=\"cell-1\" style=\"text-align:right;\">1,264</td> <td class=\"cell-2\" style=\"\">http://www.nationalgeographic.com/</td> <td class=\"cell-3\" style=\"\">http://www.nationalgeographic.com/animals/invertebrates/group/wasps/</td></tr>\n",
       "    </tbody>\n"
      ],
      "text/plain": [
       "HTML{UTF8String}(\"    <table  class=\\\"dataframe-table\\\">\\n    <thead><tr><th class=\\\"cell-1\\\" style=\\\"\\\">count</th> <th class=\\\"cell-2\\\" style=\\\"\\\">url</th> <th class=\\\"cell-3\\\" style=\\\"\\\">params u</th></tr></thead>\\n    <tbody>\\n    <tr><td class=\\\"cell-1\\\" style=\\\"text-align:right;\\\">6,854</td> <td class=\\\"cell-2\\\" style=\\\"\\\">http://www.nationalgeographic.com/</td> <td class=\\\"cell-3\\\" style=\\\"\\\">http://www.nationalgeographic.com/animals/mammals/g/giraffe/</td></tr>\\n<tr><td class=\\\"cell-1\\\" style=\\\"text-align:right;\\\">4,094</td> <td class=\\\"cell-2\\\" style=\\\"\\\">http://www.nationalgeographic.com/</td> <td class=\\\"cell-3\\\" style=\\\"\\\">http://www.nationalgeographic.com/animals/index/</td></tr>\\n<tr><td class=\\\"cell-1\\\" style=\\\"text-align:right;\\\">3,761</td> <td class=\\\"cell-2\\\" style=\\\"\\\">http://www.nationalgeographic.com/</td> <td class=\\\"cell-3\\\" style=\\\"\\\">http://www.nationalgeographic.com/animals/</td></tr>\\n<tr><td class=\\\"cell-1\\\" style=\\\"text-align:right;\\\">3,224</td> <td class=\\\"cell-2\\\" style=\\\"\\\">http://www.nationalgeographic.com/</td> <td class=\\\"cell-3\\\" style=\\\"\\\">http://www.nationalgeographic.com/animals/mammals/b/blue-whale/</td></tr>\\n<tr><td class=\\\"cell-1\\\" style=\\\"text-align:right;\\\">2,991</td> <td class=\\\"cell-2\\\" style=\\\"\\\">http://www.nationalgeographic.com/</td> <td class=\\\"cell-3\\\" style=\\\"\\\">http://www.nationalgeographic.com/animals/invertebrates/group/black-widow-spiders/</td></tr>\\n<tr><td class=\\\"cell-1\\\" style=\\\"text-align:right;\\\">2,814</td> <td class=\\\"cell-2\\\" style=\\\"\\\">http://www.nationalgeographic.com/</td> <td class=\\\"cell-3\\\" style=\\\"\\\">http://www.nationalgeographic.com/animals/invertebrates/p/portuguese-man-of-war/</td></tr>\\n<tr><td class=\\\"cell-1\\\" style=\\\"text-align:right;\\\">2,448</td> <td class=\\\"cell-2\\\" style=\\\"\\\">http://www.nationalgeographic.com/</td> <td class=\\\"cell-3\\\" style=\\\"\\\">http://www.nationalgeographic.com/animals/invertebrates/group/fireflies/</td></tr>\\n<tr><td class=\\\"cell-1\\\" style=\\\"text-align:right;\\\">2,269</td> <td class=\\\"cell-2\\\" style=\\\"\\\">http://www.nationalgeographic.com/</td> <td class=\\\"cell-3\\\" style=\\\"\\\">http://www.nationalgeographic.com/animals/?source=sitenav</td></tr>\\n<tr><td class=\\\"cell-1\\\" style=\\\"text-align:right;\\\">2,126</td> <td class=\\\"cell-2\\\" style=\\\"\\\">http://www.nationalgeographic.com/</td> <td class=\\\"cell-3\\\" style=\\\"\\\">http://www.nationalgeographic.com/animals/birds/</td></tr>\\n<tr><td class=\\\"cell-1\\\" style=\\\"text-align:right;\\\">2,009</td> <td class=\\\"cell-2\\\" style=\\\"\\\">http://www.nationalgeographic.com/</td> <td class=\\\"cell-3\\\" style=\\\"\\\">http://www.nationalgeographic.com/animals/fish/w/whale-shark/</td></tr>\\n<tr><td class=\\\"cell-1\\\" style=\\\"text-align:right;\\\">1,918</td> <td class=\\\"cell-2\\\" style=\\\"\\\">http://www.nationalgeographic.com/</td> <td class=\\\"cell-3\\\" style=\\\"\\\">http://www.nationalgeographic.com/animals/birds/group/peacocks/</td></tr>\\n<tr><td class=\\\"cell-1\\\" style=\\\"text-align:right;\\\">1,878</td> <td class=\\\"cell-2\\\" style=\\\"\\\">http://www.nationalgeographic.com/</td> <td class=\\\"cell-3\\\" style=\\\"\\\">http://www.nationalgeographic.com/animals/invertebrates/c/camel-spider/</td></tr>\\n<tr><td class=\\\"cell-1\\\" style=\\\"text-align:right;\\\">1,795</td> <td class=\\\"cell-2\\\" style=\\\"\\\">http://www.nationalgeographic.com/</td> <td class=\\\"cell-3\\\" style=\\\"\\\">http://www.nationalgeographic.com/animals/invertebrates/group/cicadas/</td></tr>\\n    \\n    <tr><td class=\\\"cell-1\\\" style=\\\"text-align:right;\\\">1,693</td> <td class=\\\"cell-2\\\" style=\\\"\\\">http://www.nationalgeographic.com/</td> <td class=\\\"cell-3\\\" style=\\\"\\\">http://www.nationalgeographic.com/animals/mammals/o/orca/</td></tr>\\n<tr><td class=\\\"cell-1\\\" style=\\\"text-align:right;\\\">1,661</td> <td class=\\\"cell-2\\\" style=\\\"\\\">http://www.nationalgeographic.com/</td> <td class=\\\"cell-3\\\" style=\\\"\\\">http://www.nationalgeographic.com/animals/fish/b/bull-shark/</td></tr>\\n<tr><td class=\\\"cell-1\\\" style=\\\"text-align:right;\\\">1,563</td> <td class=\\\"cell-2\\\" style=\\\"\\\">http://www.nationalgeographic.com/</td> <td class=\\\"cell-3\\\" style=\\\"\\\">http://www.nationalgeographic.com/animals/fish/n/nurse-shark/</td></tr>\\n<tr><td class=\\\"cell-1\\\" style=\\\"text-align:right;\\\">1,539</td> <td class=\\\"cell-2\\\" style=\\\"\\\">http://www.nationalgeographic.com/</td> <td class=\\\"cell-3\\\" style=\\\"\\\">http://www.nationalgeographic.com/animals/mammals/a/african-elephant/</td></tr>\\n<tr><td class=\\\"cell-1\\\" style=\\\"text-align:right;\\\">1,517</td> <td class=\\\"cell-2\\\" style=\\\"\\\">http://www.nationalgeographic.com/</td> <td class=\\\"cell-3\\\" style=\\\"\\\">http://www.nationalgeographic.com/animals/mammals/</td></tr>\\n<tr><td class=\\\"cell-1\\\" style=\\\"text-align:right;\\\">1,465</td> <td class=\\\"cell-2\\\" style=\\\"\\\">http://www.nationalgeographic.com/</td> <td class=\\\"cell-3\\\" style=\\\"\\\">http://www.nationalgeographic.com/animals/fish/g/great-white-shark/</td></tr>\\n<tr><td class=\\\"cell-1\\\" style=\\\"text-align:right;\\\">1,414</td> <td class=\\\"cell-2\\\" style=\\\"\\\">http://www.nationalgeographic.com/</td> <td class=\\\"cell-3\\\" style=\\\"\\\">http://www.nationalgeographic.com/animals/mammals/g/gray-wolf/</td></tr>\\n<tr><td class=\\\"cell-1\\\" style=\\\"text-align:right;\\\">1,379</td> <td class=\\\"cell-2\\\" style=\\\"\\\">http://www.nationalgeographic.com/</td> <td class=\\\"cell-3\\\" style=\\\"\\\">http://www.nationalgeographic.com/animals/fish/group/pufferfish/</td></tr>\\n<tr><td class=\\\"cell-1\\\" style=\\\"text-align:right;\\\">1,366</td> <td class=\\\"cell-2\\\" style=\\\"\\\">http://www.nationalgeographic.com/</td> <td class=\\\"cell-3\\\" style=\\\"\\\">http://www.nationalgeographic.com/animals/mammals/r/red-fox/</td></tr>\\n<tr><td class=\\\"cell-1\\\" style=\\\"text-align:right;\\\">1,292</td> <td class=\\\"cell-2\\\" style=\\\"\\\">http://www.nationalgeographic.com/</td> <td class=\\\"cell-3\\\" style=\\\"\\\">http://www.nationalgeographic.com/animals/mammals/p/platypus/</td></tr>\\n<tr><td class=\\\"cell-1\\\" style=\\\"text-align:right;\\\">1,284</td> <td class=\\\"cell-2\\\" style=\\\"\\\">http://www.nationalgeographic.com/</td> <td class=\\\"cell-3\\\" style=\\\"\\\">http://www.nationalgeographic.com/animals/mammals/w/wolverine/</td></tr>\\n<tr><td class=\\\"cell-1\\\" style=\\\"text-align:right;\\\">1,264</td> <td class=\\\"cell-2\\\" style=\\\"\\\">http://www.nationalgeographic.com/</td> <td class=\\\"cell-3\\\" style=\\\"\\\">http://www.nationalgeographic.com/animals/invertebrates/group/wasps/</td></tr>\\n    </tbody>\\n\")"
      ]
     },
     "metadata": {},
     "output_type": "display_data"
    }
   ],
   "source": [
    "UP.pageGroup = \"Animals WPF\"\n",
    "displayGroup(tv,UP,LV)\n",
    "\n",
    "UP.pageGroup = \"Animals AEM\"\n",
    "displayGroup(tv,UP,LV)\n",
    ";"
   ]
  },
  {
   "cell_type": "code",
   "execution_count": 5,
   "metadata": {
    "collapsed": true,
    "input_collapsed": false
   },
   "outputs": [],
   "source": []
  }
 ],
 "metadata": {
  "celltoolbar": "Raw Cell Format",
  "kernelspec": {
   "display_name": "Julia 0.4.7",
   "language": "julia",
   "name": "julia-0.4"
  },
  "language_info": {
   "file_extension": ".jl",
   "mimetype": "application/julia",
   "name": "julia",
   "version": "0.4.7"
  },
  "library_version": "1.0.0",
  "notebook_uuid": "dff7ce27-74ce-4c8c-9f8c-cec32a0dcfab",
  "readOnly": false
 },
 "nbformat": 4,
 "nbformat_minor": 0
}
