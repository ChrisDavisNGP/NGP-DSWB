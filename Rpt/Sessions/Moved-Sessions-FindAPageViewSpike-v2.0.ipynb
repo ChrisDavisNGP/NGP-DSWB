{
 "cells": [
  {
   "cell_type": "markdown",
   "metadata": {},
   "source": [
    "## Tables and Data Source setup"
   ]
  },
  {
   "cell_type": "code",
   "execution_count": null,
   "metadata": {
    "collapsed": false,
    "input_collapsed": false,
    "scrolled": true
   },
   "outputs": [],
   "source": [
    "using ODBC\n",
    "using DataFrames\n",
    "using DSWB\n",
    "using Formatting\n",
    "\n",
    "dsn = \"dswb-natgeo\" # Redshift endpoint\n",
    "table = \"beacons_4744\" # beacon table name\n",
    "tableRt = \"beacons_4744_rt\"\n",
    "\n",
    "# Connect to Beacon Data\n",
    "setRedshiftEndpoint(dsn)\n",
    "setTable(table)\n",
    "setTable(tableRt, tableType = \"RESOURCE_TABLE\")\n",
    ";"
   ]
  },
  {
   "cell_type": "code",
   "execution_count": null,
   "metadata": {
    "collapsed": false,
    "input_collapsed": false
   },
   "outputs": [],
   "source": [
    "# Packages\n",
    "include(\"Find-A-Page-View-Spike-Body-v1.3.jl\")\n",
    "include(\"../../Lib/Include-Package-v2.1.jl\")\n",
    "\n",
    "TV = timeVariables(2017,5,30,7,59,2017,5,30,14,59)\n",
    "#TV = weeklyTimeVariables(days=1)\n",
    "#TV = yesterdayTimeVariables()\n",
    ";"
   ]
  },
  {
   "cell_type": "code",
   "execution_count": null,
   "metadata": {
    "collapsed": false,
    "input_collapsed": false,
    "scrolled": true
   },
   "outputs": [],
   "source": [
    "customer = \"Nat Geo\" \n",
    "productPageGroup = \"Your Shot\" # primary page group \n",
    "#productPageGroup = \"Travel AEM\" # primary page group \n",
    "localTable = \"$(table)_spike_pview_prod\"\n",
    "localTableRt = \"$(tableRt)_spike_pview_prod\"\n",
    ";"
   ]
  },
  {
   "cell_type": "code",
   "execution_count": null,
   "metadata": {
    "collapsed": false,
    "input_collapsed": false
   },
   "outputs": [],
   "source": [
    "toppagecount = query(\"\"\"\\\n",
    "            select\n",
    "            count(*),session_id,geo_cc, geo_isp, proxy_address,remote_ip,user_agent_device_type\n",
    "            FROM $table\n",
    "            where\n",
    "                \"timestamp\" between $(TV.startTimeMsUTC) and $(TV.endTimeMsUTC)\n",
    "                and session_id IS NOT NULL\n",
    "                group by session_id,geo_cc, geo_isp, proxy_address,remote_ip,user_agent_device_type\n",
    "                order by count(*) desc\n",
    "                \"\"\"); \n",
    "\n",
    "beautifyDF(toppagecount[1:min(10,end),:])\n"
   ]
  },
  {
   "cell_type": "code",
   "execution_count": null,
   "metadata": {
    "collapsed": false,
    "input_collapsed": false
   },
   "outputs": [],
   "source": [
    "firstSession = (toppagecount[1:1,:session_id][1])\n",
    "#println(firstSession)\n",
    ";"
   ]
  },
  {
   "cell_type": "code",
   "execution_count": null,
   "metadata": {
    "collapsed": false,
    "input_collapsed": false
   },
   "outputs": [],
   "source": [
    "debugRecords = query(\"\"\"\\\n",
    "            select\n",
    "            *\n",
    "            FROM $table\n",
    "            where\n",
    "                \"timestamp\" between $(TV.startTimeMsUTC) and $(TV.endTimeMsUTC)\n",
    "                and session_id = '$(firstSession)'\n",
    "                limit 10\n",
    "            \"\"\"); \n",
    "\n",
    "beautifyDF(debugRecords[1:min(10,end),:])\n"
   ]
  },
  {
   "cell_type": "code",
   "execution_count": null,
   "metadata": {
    "collapsed": false,
    "input_collapsed": false
   },
   "outputs": [],
   "source": [
    "debugRecords = query(\"\"\"\\\n",
    "            select\n",
    "count(*), geo_cc, geo_isp, proxy_address,remote_ip,user_agent_device_type,http_referrer\n",
    "            FROM $table\n",
    "            where\n",
    "                \"timestamp\" between $(TV.startTimeMsUTC) and $(TV.endTimeMsUTC)\n",
    "                and session_id = '$(firstSession)'\n",
    "group by geo_cc, geo_isp, proxy_address,remote_ip,user_agent_device_type,http_referrer\n",
    "                order by count(*) desc\n",
    "            \"\"\"); \n",
    "\n",
    "beautifyDF(debugRecords[1:min(100,end),:])\n",
    "\n"
   ]
  },
  {
   "cell_type": "code",
   "execution_count": null,
   "metadata": {
    "collapsed": false,
    "input_collapsed": false,
    "scrolled": false
   },
   "outputs": [],
   "source": [
    "debugRecords = query(\"\"\"\\\n",
    "            select\n",
    "count(*), geo_cc, geo_isp, proxy_address,remote_ip,user_agent_device_type,params_u\n",
    "            FROM $table\n",
    "            where\n",
    "                \"timestamp\" between $(TV.startTimeMsUTC) and $(TV.endTimeMsUTC)\n",
    "                and session_id = '$(firstSession)'\n",
    "group by geo_cc, geo_isp, proxy_address,remote_ip,user_agent_device_type,params_u\n",
    "                order by count(*) desc\n",
    "            \"\"\"); \n",
    "\n",
    "beautifyDF(debugRecords[1:min(100,end),:])"
   ]
  },
  {
   "cell_type": "code",
   "execution_count": null,
   "metadata": {
    "collapsed": false,
    "input_collapsed": false,
    "scrolled": false
   },
   "outputs": [],
   "source": [
    "debugRecords = query(\"\"\"\\\n",
    "            select\n",
    "\"timestamp\", geo_cc, geo_isp, proxy_address,remote_ip,user_agent_device_type,http_referrer,params_u\n",
    "            FROM $table\n",
    "            where\n",
    "                \"timestamp\" between $(TV.startTimeMsUTC) and $(TV.endTimeMsUTC)\n",
    "                and session_id = '$(firstSession)'\n",
    "order by \"timestamp\"\n",
    "            \"\"\"); \n",
    "\n",
    "beautifyDF(debugRecords[1:min(100,end),:])"
   ]
  },
  {
   "cell_type": "code",
   "execution_count": null,
   "metadata": {
    "collapsed": true,
    "input_collapsed": true
   },
   "outputs": [],
   "source": []
  },
  {
   "cell_type": "code",
   "execution_count": null,
   "metadata": {
    "collapsed": false,
    "input_collapsed": false
   },
   "outputs": [],
   "source": [
    "#                avg($tableRt.start_time),\n",
    "#                avg(CASE WHEN ($tableRt.response_last_byte = 0) THEN (0) ELSE ($tableRt.response_last_byte-$tableRt.start_time) END) as total,\n",
    "#                avg($tableRt.redirect_end-$tableRt.redirect_start) as redirect,\n",
    "#                avg(CASE WHEN ($tableRt.dns_start = 0 and $tableRt.request_start = 0) THEN (0) WHEN ($tableRt.dns_start = 0) THEN ($tableRt.request_start-$tableRt.fetch_start) ELSE ($tableRt.dns_start-$tableRt.fetch_start) END) as blocking,\n",
    "#                avg($tableRt.dns_end-$tableRt.dns_start) as dns,\n",
    "#                avg($tableRt.tcp_connection_end-$tableRt.tcp_connection_start) as tcp,\n",
    "#                avg($tableRt.response_first_byte-$tableRt.request_start) as request,\n",
    "#                avg(CASE WHEN ($tableRt.response_first_byte = 0) THEN (0) ELSE ($tableRt.response_last_byte-$tableRt.response_first_byte) END) as response,\n",
    "#              avg(0) as gap,\n",
    "#              avg(0) as critical,\n",
    "#               CASE WHEN (position('?' in $tableRt.url) > 0) then trim('/' from (substring($tableRt.url for position('?' in substring($tableRt.url from 9)) +7))) else trim('/' from $tableRt.url) end as urlgroup,\n",
    "#                count(*) as request_count,\n",
    "#                'Label' as label,\n",
    "#                avg(CASE WHEN ($tableRt.response_last_byte = 0) THEN (0) ELSE (($tableRt.response_last_byte-$tableRt.start_time)/1000.0) END) as load,\n",
    "#                avg($table.timers_domready) as beacon_time\n",
    "#localUrl = \"%\"\n",
    "#deviceType = \"%\"\n",
    "#st = (TV.startTimeMsUTC)\n",
    "#et = (TV.endTimeMsUTC)\n",
    "#println(st,\" , \",et)\n",
    "\n",
    "toppagecount = query(\"\"\"\\\n",
    "            select\n",
    "            count(*),session_id\n",
    "            FROM $table\n",
    "            where\n",
    "                \"timestamp\" between $(TV.startTimeMsUTC) and $(TV.endTimeMsUTC)\n",
    "                and session_id IS NOT NULL\n",
    "                group by session_id\n",
    "                order by count(*) desc\n",
    "                \"\"\"); \n",
    "\n",
    "beautifyDF(toppagecount[1:min(10,end),:])\n",
    "\n",
    "#toppagecount = query(\"\"\"\\\n",
    "#            select\n",
    "#            count(*),$tableRt.session_id\n",
    "#            FROM $tableRt join $table on $tableRt.session_id = $table.session_id and $tableRt.\"timestamp\" = $table.\"timestamp\"\n",
    "#            where\n",
    "#                $tableRt.\"timestamp\" between $(TV.startTimeMsUTC) and $(TV.endTimeMsUTC)\n",
    "#                and $table.session_id IS NOT NULL\n",
    "#                group by $tableRt.session_id\n",
    "#                order by count(*) desc\n",
    "#                \"\"\"); \n",
    "\n",
    "\n",
    "#toppagecount = query(\"\"\"\\\n",
    "#            select\n",
    "#            count(*) as request_count,\n",
    "#                $tableRT.session_id\n",
    "#            FROM $tableRt join $table on $tableRt.session_id = $table.session_id and $tableRt.\"timestamp\" = $table.\"timestamp\"\n",
    "#                where\n",
    "#                $tableRt.\"timestamp\" between $TV.startTimeMsUTC and $TV.endTimeMsUTC \n",
    "#                and $table.session_id IS NOT NULL\n",
    "#                and $table.page_group ilike '$(productPageGroup)'\n",
    "#                and $table.params_u ilike '$(localUrl)'\n",
    "#                and $table.user_agent_device_type ilike '$(deviceType)'\n",
    "#                group by session_id\n",
    "#                \"\"\"); \n",
    "\n",
    "#beautifyDF(toppagecount[1:min(10,end),:])\n"
   ]
  },
  {
   "cell_type": "code",
   "execution_count": null,
   "metadata": {
    "collapsed": true,
    "input_collapsed": true
   },
   "outputs": [],
   "source": []
  },
  {
   "cell_type": "code",
   "execution_count": null,
   "metadata": {
    "collapsed": false,
    "input_collapsed": false,
    "scrolled": true
   },
   "outputs": [],
   "source": [
    "firstAndLast()"
   ]
  },
  {
   "cell_type": "code",
   "execution_count": null,
   "metadata": {
    "collapsed": false,
    "input_collapsed": false,
    "scrolled": false
   },
   "outputs": [],
   "source": [
    "sessionsBeacons()"
   ]
  },
  {
   "cell_type": "code",
   "execution_count": null,
   "metadata": {
    "collapsed": false,
    "input_collapsed": false,
    "scrolled": false
   },
   "outputs": [],
   "source": [
    "loadTime()\n",
    "topUrls()\n",
    "peakTable()\n",
    "statsTable()\n"
   ]
  },
  {
   "cell_type": "code",
   "execution_count": null,
   "metadata": {
    "collapsed": false,
    "input_collapsed": false
   },
   "outputs": [],
   "source": [
    "q = query(\"\"\" drop view if exists $localTable;\"\"\")\n",
    "q = query(\"\"\" drop view if exists $localTableRt;\"\"\")\n",
    ";"
   ]
  },
  {
   "cell_type": "code",
   "execution_count": null,
   "metadata": {
    "collapsed": true,
    "input_collapsed": true
   },
   "outputs": [],
   "source": []
  }
 ],
 "metadata": {
  "chart_version": "1.0.0",
  "kernelspec": {
   "display_name": "Julia 0.4.7",
   "language": "julia",
   "name": "julia-0.4"
  },
  "language_info": {
   "file_extension": ".jl",
   "mimetype": "application/julia",
   "name": "julia",
   "version": "0.4.7"
  },
  "library_version": "1.0.0",
  "notebook_uuid": "2a5e4155-13f3-4b94-b16b-34984d01e93a",
  "readOnly": false
 },
 "nbformat": 4,
 "nbformat_minor": 0
}
