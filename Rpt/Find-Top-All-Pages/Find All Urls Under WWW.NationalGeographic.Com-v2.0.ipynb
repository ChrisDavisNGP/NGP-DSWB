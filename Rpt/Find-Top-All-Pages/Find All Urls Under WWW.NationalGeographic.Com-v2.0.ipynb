{
 "cells": [
  {
   "cell_type": "markdown",
   "metadata": {},
   "source": [
    "## Tables and Data Source setup"
   ]
  },
  {
   "cell_type": "code",
   "execution_count": null,
   "metadata": {
    "collapsed": false,
    "input_collapsed": false,
    "scrolled": true
   },
   "outputs": [],
   "source": [
    "using ODBC\n",
    "using DataFrames\n",
    "using DSWB\n",
    "using Formatting\n",
    "\n",
    "dsn = \"dswb-natgeo\" # Redshift endpoint\n",
    "table = \"beacons_4744\" # beacon table name\n",
    "tableRt = \"beacons_4744_rt\"\n",
    "\n",
    "# Connect to Beacon Data\n",
    "setRedshiftEndpoint(dsn)\n",
    "setTable(table)\n",
    "# setTable(tableRt, tableType = \"RESOURCE_TABLE\")\n",
    ";"
   ]
  },
  {
   "cell_type": "code",
   "execution_count": null,
   "metadata": {
    "collapsed": false,
    "input_collapsed": false
   },
   "outputs": [],
   "source": [
    "include(\"../../Lib/Include-Package-v2.1.jl\")\n",
    ";"
   ]
  },
  {
   "cell_type": "code",
   "execution_count": null,
   "metadata": {
    "collapsed": false,
    "input_collapsed": false
   },
   "outputs": [],
   "source": [
    "#TV = weeklyTimeVariables(days=1)\n",
    "#TV = timeVariables(2017,7,21,10,59,2017,7,21,12,59)\n",
    "TV = yesterdayTimeVariables()\n",
    ";"
   ]
  },
  {
   "cell_type": "code",
   "execution_count": null,
   "metadata": {
    "collapsed": true,
    "input_collapsed": false
   },
   "outputs": [],
   "source": [
    "UP = UrlParamsInit(\"Find_All_Urls_Under_NatGeo\")\n",
    "UP.agentOs = \"%\"\n",
    "UP.deviceType = \"%\"\n",
    "UP.limitRows = 250\n",
    "UP.orderBy = \"time\"\n",
    "UP.pageGroup = \"%\"   #productPageGroup\n",
    "UP.samplesMin = 10\n",
    "UP.sizeMin = 10000\n",
    "UP.timeLowerMs = 2000.0\n",
    "UP.timeUpperMs = 60000.0\n",
    "UP.urlRegEx = \"www.nationalgeographic.com%\"   #localUrl\n",
    "UP.urlFull = \"%\"\n",
    "UP.usePageLoad=false\n",
    "UrlParamsValidate(UP)\n",
    "\n",
    "SP = ShowParamsInit()\n",
    "SP.criticalPathOnly=true\n",
    "SP.desktop=true\n",
    "SP.devView=false\n",
    "SP.debug=false\n",
    "SP.debugLevel = 0   # Tests use even numbers with > tests, make this an odd number or zero\n",
    "SP.mobile=true\n",
    "ShowParamsValidate(SP)\n",
    ";"
   ]
  },
  {
   "cell_type": "code",
   "execution_count": null,
   "metadata": {
    "collapsed": false,
    "input_collapsed": false,
    "scrolled": false
   },
   "outputs": [],
   "source": [
    "displayTopUrlsByCount(TV,UP,SP,\"%\";rowLimit=10000,beaconsLimit=10,paginate=true);\n"
   ]
  },
  {
   "cell_type": "code",
   "execution_count": null,
   "metadata": {
    "collapsed": true,
    "input_collapsed": true
   },
   "outputs": [],
   "source": []
  }
 ],
 "metadata": {
  "chart_version": "1.0.0",
  "kernelspec": {
   "display_name": "Julia 0.4.7",
   "language": "julia",
   "name": "julia-0.4"
  },
  "language_info": {
   "file_extension": ".jl",
   "mimetype": "application/julia",
   "name": "julia",
   "version": "0.4.7"
  },
  "library_version": "1.0.0",
  "notebook_uuid": "526e9be1-2603-48ae-9254-41d9bd3568ed",
  "readOnly": false
 },
 "nbformat": 4,
 "nbformat_minor": 0
}
