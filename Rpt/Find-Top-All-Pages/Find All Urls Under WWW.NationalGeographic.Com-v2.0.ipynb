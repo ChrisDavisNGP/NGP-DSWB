{
 "cells": [
  {
   "cell_type": "markdown",
   "metadata": {},
   "source": [
    "## Tables and Data Source setup"
   ]
  },
  {
   "cell_type": "code",
   "execution_count": 13,
   "metadata": {
    "collapsed": false,
    "input_collapsed": false,
    "scrolled": true
   },
   "outputs": [
    {
     "name": "stdout",
     "output_type": "stream",
     "text": [
      "Redshift endpoint set: 2017-07-24T17:48:32\n"
     ]
    },
    {
     "data": {
      "text/plain": [
       "\"beacons_4744\""
      ]
     },
     "execution_count": 13,
     "metadata": {},
     "output_type": "execute_result"
    }
   ],
   "source": [
    "using ODBC\n",
    "using DataFrames\n",
    "using DSWB\n",
    "using Formatting\n",
    "\n",
    "dsn = \"dswb-natgeo\" # Redshift endpoint\n",
    "table = \"beacons_4744\" # beacon table name\n",
    "tableRt = \"beacons_4744_rt\"\n",
    "\n",
    "# Connect to Beacon Data\n",
    "setRedshiftEndpoint(dsn)\n",
    "setTable(table)\n",
    "# setTable(tableRt, tableType = \"RESOURCE_TABLE\")"
   ]
  },
  {
   "cell_type": "code",
   "execution_count": 14,
   "metadata": {
    "collapsed": false,
    "input_collapsed": false
   },
   "outputs": [
    {
     "name": "stdout",
     "output_type": "stream",
     "text": [
      "July 21, 2017 10:59:00 to July 21, 2017 12:59:00 Local Time\n",
      "July 21, 2017 14:59:00 to July 21, 2017 16:59:00 UTC Time\n"
     ]
    }
   ],
   "source": [
    "# Packages\n",
    "include(\"../../Lib/Include-Package-v2.1.jl\")\n",
    "include(\"Find-Top-All-Pages-Body-v1.0.jl\")\n",
    "\n",
    "#TV = weeklyTimeVariables(days=1)\n",
    "TV = timeVariables(2017,7,21,10,59,2017,7,21,12,59)\n",
    "#TV = yesterdayTimeVariables()\n"
   ]
  },
  {
   "cell_type": "code",
   "execution_count": 15,
   "metadata": {
    "collapsed": true,
    "input_collapsed": false
   },
   "outputs": [],
   "source": [
    "UP = UrlParamsInit()\n",
    "UP.beaconTable = table   #table\n",
    "UP.resourceTable = tableRt\n",
    "UP.btView = \"$(table)_wpf_pview_prod\" #localtable\n",
    "UP.rtView = \"$(tableRt)_wpf_pview_prod\" #localtableRt\n",
    "UP.pageGroup = \"%\"   #productPageGroup\n",
    "UP.urlRegEx = \"www.nationalgeographic.com%\"   #localUrl\n",
    "UP.deviceType = \"Mobile\"\n",
    "\n",
    ";"
   ]
  },
  {
   "cell_type": "code",
   "execution_count": 24,
   "metadata": {
    "collapsed": false,
    "input_collapsed": false
   },
   "outputs": [
    {
     "data": {
      "text/plain": [
       "allLimitedTable (generic function with 1 method)"
      ]
     },
     "execution_count": 24,
     "metadata": {},
     "output_type": "execute_result"
    }
   ],
   "source": [
    "function allLimitedTable(localTable::ASCIIString,table::ASCIIString,productPageGroup::ASCIIString,startTimeMs::Int64, endTimeMs::Int64)\n",
    "    try\n",
    "        query(\"\"\"\\\n",
    "            drop view if exists $localTable\n",
    "        \"\"\")\n",
    "        \n",
    "        query(\"\"\"\\\n",
    "            create or replace view $localTable as \n",
    "                (select \n",
    "                * from $table where\n",
    "                    beacon_type = 'page view'\n",
    "                    and \"timestamp\" between $startTimeMs and $endTimeMs\n",
    "                    and page_group like '$(productPageGroup)'\n",
    "        and params_u ilike 'http://www.nationalgeographic.com%'\n",
    "                )\n",
    "        \"\"\")\n",
    "\n",
    "    catch y\n",
    "        println(\"unLimitedTable Exception\",y)\n",
    "    end\n",
    "end\n",
    "\n"
   ]
  },
  {
   "cell_type": "code",
   "execution_count": 25,
   "metadata": {
    "collapsed": false,
    "input_collapsed": false,
    "scrolled": false
   },
   "outputs": [
    {
     "data": {
      "text/html": [
       "<div class=\"dswbOutputText\"><h1 class=\"chart_title\" style=\"color:#ccc\">Top 10000 (min 10) WPF URLs for %</h1><h3 class=\"chart_info\" style=\"color:#ccc\">Note: If you see AEM URL's in this list tell Chris Davis</h3><h3 class=\"chart_info\" style=\"color:#ccc\">July 21, 2017 10:59:00 to July 21, 2017 12:59:00 Local Time</h3></div>"
      ]
     },
     "metadata": {},
     "output_type": "display_data"
    },
    {
     "data": {
      "text/html": [
       "    <table  class=\"dataframe-table\">\n",
       "    <thead><tr><th class=\"cell-1\" style=\"\">Views</th> <th class=\"cell-2\" style=\"\">Url - %</th></tr></thead>\n",
       "    <tbody>\n",
       "    <tr><td class=\"cell-1\" style=\"text-align:right;\">4,105</td> <td class=\"cell-2\" style=\"\">http://www.nationalgeographic.com</td></tr>\n",
       "<tr><td class=\"cell-1\" style=\"text-align:right;\">985</td> <td class=\"cell-2\" style=\"\">http://www.nationalgeographic.com/photography/photo-of-the-day/2017/07/uluru-ayers-australia</td></tr>\n",
       "<tr><td class=\"cell-1\" style=\"text-align:right;\">784</td> <td class=\"cell-2\" style=\"\">http://www.nationalgeographic.com/photography/proof/2017/07/apollo-missions-nasa-lunar-moon-landing</td></tr>\n",
       "<tr><td class=\"cell-1\" style=\"text-align:right;\">718</td> <td class=\"cell-2\" style=\"\">http://www.nationalgeographic.com/latest-stories</td></tr>\n",
       "<tr><td class=\"cell-1\" style=\"text-align:right;\">636</td> <td class=\"cell-2\" style=\"\">http://www.nationalgeographic.com/adventure/lists/offline-apps-backcountry-camping-hiking-adventure</td></tr>\n",
       "<tr><td class=\"cell-1\" style=\"text-align:right;\">547</td> <td class=\"cell-2\" style=\"\">http://www.nationalgeographic.com/games/photo-puzzle-jigsaw</td></tr>\n",
       "<tr><td class=\"cell-1\" style=\"text-align:right;\">537</td> <td class=\"cell-2\" style=\"\">http://www.nationalgeographic.com/travel/features/nature-photography</td></tr>\n",
       "<tr><td class=\"cell-1\" style=\"text-align:right;\">523</td> <td class=\"cell-2\" style=\"\">http://www.nationalgeographic.com/search</td></tr>\n",
       "<tr><td class=\"cell-1\" style=\"text-align:right;\">503</td> <td class=\"cell-2\" style=\"\">http://www.nationalgeographic.com/video/safari-live</td></tr>\n",
       "<tr><td class=\"cell-1\" style=\"text-align:right;\">420</td> <td class=\"cell-2\" style=\"\">http://www.nationalgeographic.com/magazine/2017/07/hummingbird-secrets-speed-worlds-smallest-bird</td></tr>\n",
       "<tr><td class=\"cell-1\" style=\"text-align:right;\">328</td> <td class=\"cell-2\" style=\"\">http://www.nationalgeographic.com/photography</td></tr>\n",
       "<tr><td class=\"cell-1\" style=\"text-align:right;\">308</td> <td class=\"cell-2\" style=\"\">http://www.nationalgeographic.com/magazine</td></tr>\n",
       "<tr><td class=\"cell-1\" style=\"text-align:right;\">275</td> <td class=\"cell-2\" style=\"\">http://www.nationalgeographic.com/subscribe/magazines</td></tr>\n",
       "    \n",
       "    <tr><td class=\"cell-1\" style=\"text-align:right;\">273</td> <td class=\"cell-2\" style=\"\">http://www.nationalgeographic.com/magazine/2017/08/shortfin-mako-fastest-shark-ocean</td></tr>\n",
       "<tr><td class=\"cell-1\" style=\"text-align:right;\">266</td> <td class=\"cell-2\" style=\"\">http://www.nationalgeographic.com/travel/travel-interests/tips-and-advice/six-things-solo-alone-travel-teaches-you</td></tr>\n",
       "<tr><td class=\"cell-1\" style=\"text-align:right;\">255</td> <td class=\"cell-2\" style=\"\">http://www.nationalgeographic.com/adventure/destinations/europe/iceland/photos-iceland-adventures</td></tr>\n",
       "<tr><td class=\"cell-1\" style=\"text-align:right;\">233</td> <td class=\"cell-2\" style=\"\">http://www.nationalgeographic.com/adventure/destinations/asia/nepal/mount-everest-video-chance-encounter-heroic-rescue-s...</td></tr>\n",
       "<tr><td class=\"cell-1\" style=\"text-align:right;\">205</td> <td class=\"cell-2\" style=\"\">http://www.nationalgeographic.com/travel/destinations/north-america/united-states/new-hampshire/what-to-do-in-new-hampsh...</td></tr>\n",
       "<tr><td class=\"cell-1\" style=\"text-align:right;\">201</td> <td class=\"cell-2\" style=\"\">http://www.nationalgeographic.com/jobs</td></tr>\n",
       "<tr><td class=\"cell-1\" style=\"text-align:right;\">191</td> <td class=\"cell-2\" style=\"\">http://www.nationalgeographic.com/adventure/destinations/united-states/montana/weekend-adventure-itinerary</td></tr>\n",
       "<tr><td class=\"cell-1\" style=\"text-align:right;\">181</td> <td class=\"cell-2\" style=\"\">http://www.nationalgeographic.com/photography/photo-of-the-day/archive</td></tr>\n",
       "<tr><td class=\"cell-1\" style=\"text-align:right;\">181</td> <td class=\"cell-2\" style=\"\">http://www.nationalgeographic.com/photography/proof/2017/07/jesus-messiah-faith-social-media</td></tr>\n",
       "<tr><td class=\"cell-1\" style=\"text-align:right;\">177</td> <td class=\"cell-2\" style=\"\">http://www.nationalgeographic.com/adventure/destinations/united-states/50-adventures-50-states</td></tr>\n",
       "<tr><td class=\"cell-1\" style=\"text-align:right;\">174</td> <td class=\"cell-2\" style=\"\">http://www.nationalgeographic.com/magazine/2017/06/explore-alexander-graham-bell-progress</td></tr>\n",
       "<tr><td class=\"cell-1\" style=\"text-align:right;\">166</td> <td class=\"cell-2\" style=\"\">http://www.nationalgeographic.com/adventure/lists/camping/13-tips-perfect-campervan-camping-trip</td></tr>\n",
       "    </tbody>\n"
      ],
      "text/plain": [
       "HTML{UTF8String}(\"    <table  class=\\\"dataframe-table\\\">\\n    <thead><tr><th class=\\\"cell-1\\\" style=\\\"\\\">Views</th> <th class=\\\"cell-2\\\" style=\\\"\\\">Url - %</th></tr></thead>\\n    <tbody>\\n    <tr><td class=\\\"cell-1\\\" style=\\\"text-align:right;\\\">4,105</td> <td class=\\\"cell-2\\\" style=\\\"\\\">http://www.nationalgeographic.com</td></tr>\\n<tr><td class=\\\"cell-1\\\" style=\\\"text-align:right;\\\">985</td> <td class=\\\"cell-2\\\" style=\\\"\\\">http://www.nationalgeographic.com/photography/photo-of-the-day/2017/07/uluru-ayers-australia</td></tr>\\n<tr><td class=\\\"cell-1\\\" style=\\\"text-align:right;\\\">784</td> <td class=\\\"cell-2\\\" style=\\\"\\\">http://www.nationalgeographic.com/photography/proof/2017/07/apollo-missions-nasa-lunar-moon-landing</td></tr>\\n<tr><td class=\\\"cell-1\\\" style=\\\"text-align:right;\\\">718</td> <td class=\\\"cell-2\\\" style=\\\"\\\">http://www.nationalgeographic.com/latest-stories</td></tr>\\n<tr><td class=\\\"cell-1\\\" style=\\\"text-align:right;\\\">636</td> <td class=\\\"cell-2\\\" style=\\\"\\\">http://www.nationalgeographic.com/adventure/lists/offline-apps-backcountry-camping-hiking-adventure</td></tr>\\n<tr><td class=\\\"cell-1\\\" style=\\\"text-align:right;\\\">547</td> <td class=\\\"cell-2\\\" style=\\\"\\\">http://www.nationalgeographic.com/games/photo-puzzle-jigsaw</td></tr>\\n<tr><td class=\\\"cell-1\\\" style=\\\"text-align:right;\\\">537</td> <td class=\\\"cell-2\\\" style=\\\"\\\">http://www.nationalgeographic.com/travel/features/nature-photography</td></tr>\\n<tr><td class=\\\"cell-1\\\" style=\\\"text-align:right;\\\">523</td> <td class=\\\"cell-2\\\" style=\\\"\\\">http://www.nationalgeographic.com/search</td></tr>\\n<tr><td class=\\\"cell-1\\\" style=\\\"text-align:right;\\\">503</td> <td class=\\\"cell-2\\\" style=\\\"\\\">http://www.nationalgeographic.com/video/safari-live</td></tr>\\n<tr><td class=\\\"cell-1\\\" style=\\\"text-align:right;\\\">420</td> <td class=\\\"cell-2\\\" style=\\\"\\\">http://www.nationalgeographic.com/magazine/2017/07/hummingbird-secrets-speed-worlds-smallest-bird</td></tr>\\n<tr><td class=\\\"cell-1\\\" style=\\\"text-align:right;\\\">328</td> <td class=\\\"cell-2\\\" style=\\\"\\\">http://www.nationalgeographic.com/photography</td></tr>\\n<tr><td class=\\\"cell-1\\\" style=\\\"text-align:right;\\\">308</td> <td class=\\\"cell-2\\\" style=\\\"\\\">http://www.nationalgeographic.com/magazine</td></tr>\\n<tr><td class=\\\"cell-1\\\" style=\\\"text-align:right;\\\">275</td> <td class=\\\"cell-2\\\" style=\\\"\\\">http://www.nationalgeographic.com/subscribe/magazines</td></tr>\\n    \\n    <tr><td class=\\\"cell-1\\\" style=\\\"text-align:right;\\\">273</td> <td class=\\\"cell-2\\\" style=\\\"\\\">http://www.nationalgeographic.com/magazine/2017/08/shortfin-mako-fastest-shark-ocean</td></tr>\\n<tr><td class=\\\"cell-1\\\" style=\\\"text-align:right;\\\">266</td> <td class=\\\"cell-2\\\" style=\\\"\\\">http://www.nationalgeographic.com/travel/travel-interests/tips-and-advice/six-things-solo-alone-travel-teaches-you</td></tr>\\n<tr><td class=\\\"cell-1\\\" style=\\\"text-align:right;\\\">255</td> <td class=\\\"cell-2\\\" style=\\\"\\\">http://www.nationalgeographic.com/adventure/destinations/europe/iceland/photos-iceland-adventures</td></tr>\\n<tr><td class=\\\"cell-1\\\" style=\\\"text-align:right;\\\">233</td> <td class=\\\"cell-2\\\" style=\\\"\\\">http://www.nationalgeographic.com/adventure/destinations/asia/nepal/mount-everest-video-chance-encounter-heroic-rescue-s...</td></tr>\\n<tr><td class=\\\"cell-1\\\" style=\\\"text-align:right;\\\">205</td> <td class=\\\"cell-2\\\" style=\\\"\\\">http://www.nationalgeographic.com/travel/destinations/north-america/united-states/new-hampshire/what-to-do-in-new-hampsh...</td></tr>\\n<tr><td class=\\\"cell-1\\\" style=\\\"text-align:right;\\\">201</td> <td class=\\\"cell-2\\\" style=\\\"\\\">http://www.nationalgeographic.com/jobs</td></tr>\\n<tr><td class=\\\"cell-1\\\" style=\\\"text-align:right;\\\">191</td> <td class=\\\"cell-2\\\" style=\\\"\\\">http://www.nationalgeographic.com/adventure/destinations/united-states/montana/weekend-adventure-itinerary</td></tr>\\n<tr><td class=\\\"cell-1\\\" style=\\\"text-align:right;\\\">181</td> <td class=\\\"cell-2\\\" style=\\\"\\\">http://www.nationalgeographic.com/photography/photo-of-the-day/archive</td></tr>\\n<tr><td class=\\\"cell-1\\\" style=\\\"text-align:right;\\\">181</td> <td class=\\\"cell-2\\\" style=\\\"\\\">http://www.nationalgeographic.com/photography/proof/2017/07/jesus-messiah-faith-social-media</td></tr>\\n<tr><td class=\\\"cell-1\\\" style=\\\"text-align:right;\\\">177</td> <td class=\\\"cell-2\\\" style=\\\"\\\">http://www.nationalgeographic.com/adventure/destinations/united-states/50-adventures-50-states</td></tr>\\n<tr><td class=\\\"cell-1\\\" style=\\\"text-align:right;\\\">174</td> <td class=\\\"cell-2\\\" style=\\\"\\\">http://www.nationalgeographic.com/magazine/2017/06/explore-alexander-graham-bell-progress</td></tr>\\n<tr><td class=\\\"cell-1\\\" style=\\\"text-align:right;\\\">166</td> <td class=\\\"cell-2\\\" style=\\\"\\\">http://www.nationalgeographic.com/adventure/lists/camping/13-tips-perfect-campervan-camping-trip</td></tr>\\n    </tbody>\\n\")"
      ]
     },
     "metadata": {},
     "output_type": "display_data"
    },
    {
     "data": {
      "text/html": [
       "    <table  class=\"dataframe-table\">\n",
       "    <thead><tr><th class=\"cell-1\" style=\"\">Views</th> <th class=\"cell-2\" style=\"\">Url - %</th></tr></thead>\n",
       "    <tbody>\n",
       "    <tr><td class=\"cell-1\" style=\"text-align:right;\">140</td> <td class=\"cell-2\" style=\"\">http://www.nationalgeographic.com/travel</td></tr>\n",
       "<tr><td class=\"cell-1\" style=\"text-align:right;\">136</td> <td class=\"cell-2\" style=\"\">http://www.nationalgeographic.com/magazine/2017/08/space-race-moon-google-lunar-xprize</td></tr>\n",
       "<tr><td class=\"cell-1\" style=\"text-align:right;\">134</td> <td class=\"cell-2\" style=\"\">http://www.nationalgeographic.com/adventure/features/athletes/alex-honnold/most-dangerous-free-solo-climb-yosemite-natio...</td></tr>\n",
       "<tr><td class=\"cell-1\" style=\"text-align:right;\">134</td> <td class=\"cell-2\" style=\"\">http://www.nationalgeographic.com/travel/lists/transportation/16-scenic-train-trips</td></tr>\n",
       "<tr><td class=\"cell-1\" style=\"text-align:right;\">124</td> <td class=\"cell-2\" style=\"\">http://www.nationalgeographic.com/magazine/2017/06/dinosaur-nodosaur-fossil-discovery</td></tr>\n",
       "<tr><td class=\"cell-1\" style=\"text-align:right;\">123</td> <td class=\"cell-2\" style=\"\">http://www.nationalgeographic.com/contact</td></tr>\n",
       "<tr><td class=\"cell-1\" style=\"text-align:right;\">121</td> <td class=\"cell-2\" style=\"\">http://www.nationalgeographic.com/animals</td></tr>\n",
       "<tr><td class=\"cell-1\" style=\"text-align:right;\">114</td> <td class=\"cell-2\" style=\"\">http://www.nationalgeographic.com/travel/photos-top-10-oceanfront-cities</td></tr>\n",
       "<tr><td class=\"cell-1\" style=\"text-align:right;\">114</td> <td class=\"cell-2\" style=\"\">http://www.nationalgeographic.com/magazine/plus</td></tr>\n",
       "<tr><td class=\"cell-1\" style=\"text-align:right;\">113</td> <td class=\"cell-2\" style=\"\">http://www.nationalgeographic.com/animals/mammals/g/giraffe</td></tr>\n",
       "<tr><td class=\"cell-1\" style=\"text-align:right;\">105</td> <td class=\"cell-2\" style=\"\">http://www.nationalgeographic.com/magazine/2016/05/yellowstone-national-parks-supervolcano-animation</td></tr>\n",
       "<tr><td class=\"cell-1\" style=\"text-align:right;\">102</td> <td class=\"cell-2\" style=\"\">http://www.nationalgeographic.com/photography/proof/2017/07/snakes-world-snake-day-environment-animals-joel-sartore-phot...</td></tr>\n",
       "<tr><td class=\"cell-1\" style=\"text-align:right;\">100</td> <td class=\"cell-2\" style=\"\">http://www.nationalgeographic.com/adventure/destinations/europe/croatia/sea-kayaking-stand-up-paddleboard</td></tr>\n",
       "    \n",
       "    <tr><td class=\"cell-1\" style=\"text-align:right;\">99</td> <td class=\"cell-2\" style=\"\">http://www.nationalgeographic.com/magazine/2017/07/explore-adventure-brian-skerry-rolex-explorer-of-the-year</td></tr>\n",
       "<tr><td class=\"cell-1\" style=\"text-align:right;\">95</td> <td class=\"cell-2\" style=\"\">http://www.nationalgeographic.com/magazine/2013/09/rising-seas-ice-melt-new-shoreline-maps</td></tr>\n",
       "<tr><td class=\"cell-1\" style=\"text-align:right;\">94</td> <td class=\"cell-2\" style=\"\">http://www.nationalgeographic.com/travel/national-parks/most-visited-parks-photos</td></tr>\n",
       "<tr><td class=\"cell-1\" style=\"text-align:right;\">94</td> <td class=\"cell-2\" style=\"\">http://www.nationalgeographic.com/magazines/l/multisubs/kids-sem.html</td></tr>\n",
       "<tr><td class=\"cell-1\" style=\"text-align:right;\">93</td> <td class=\"cell-2\" style=\"\">http://www.nationalgeographic.com/photography/proof/2017/06/hummingbirds-slow-motion-flight-videos</td></tr>\n",
       "<tr><td class=\"cell-1\" style=\"text-align:right;\">87</td> <td class=\"cell-2\" style=\"\">http://www.nationalgeographic.com/magazine/2017/07/under-antarctica-frozen-beauty-exotic-creatures-penguins</td></tr>\n",
       "<tr><td class=\"cell-1\" style=\"text-align:right;\">82</td> <td class=\"cell-2\" style=\"\">http://www.nationalgeographic.com/magazine/2017/08/space-odyssey-astronaut-scott-kelly-book-endurance</td></tr>\n",
       "<tr><td class=\"cell-1\" style=\"text-align:right;\">79</td> <td class=\"cell-2\" style=\"\">http://www.nationalgeographic.com/science</td></tr>\n",
       "<tr><td class=\"cell-1\" style=\"text-align:right;\">78</td> <td class=\"cell-2\" style=\"\">http://www.nationalgeographic.com/travel/destinations/north-america/united-states/washington/sequim-lavender-festival</td></tr>\n",
       "<tr><td class=\"cell-1\" style=\"text-align:right;\">77</td> <td class=\"cell-2\" style=\"\">http://www.nationalgeographic.com/activate</td></tr>\n",
       "<tr><td class=\"cell-1\" style=\"text-align:right;\">75</td> <td class=\"cell-2\" style=\"\">http://www.nationalgeographic.com/environment</td></tr>\n",
       "<tr><td class=\"cell-1\" style=\"text-align:right;\">74</td> <td class=\"cell-2\" style=\"\">http://www.nationalgeographic.com/travel/travel-interests/tips-and-advice/summer-reading-list-travel-books</td></tr>\n",
       "    </tbody>\n"
      ],
      "text/plain": [
       "HTML{UTF8String}(\"    <table  class=\\\"dataframe-table\\\">\\n    <thead><tr><th class=\\\"cell-1\\\" style=\\\"\\\">Views</th> <th class=\\\"cell-2\\\" style=\\\"\\\">Url - %</th></tr></thead>\\n    <tbody>\\n    <tr><td class=\\\"cell-1\\\" style=\\\"text-align:right;\\\">140</td> <td class=\\\"cell-2\\\" style=\\\"\\\">http://www.nationalgeographic.com/travel</td></tr>\\n<tr><td class=\\\"cell-1\\\" style=\\\"text-align:right;\\\">136</td> <td class=\\\"cell-2\\\" style=\\\"\\\">http://www.nationalgeographic.com/magazine/2017/08/space-race-moon-google-lunar-xprize</td></tr>\\n<tr><td class=\\\"cell-1\\\" style=\\\"text-align:right;\\\">134</td> <td class=\\\"cell-2\\\" style=\\\"\\\">http://www.nationalgeographic.com/adventure/features/athletes/alex-honnold/most-dangerous-free-solo-climb-yosemite-natio...</td></tr>\\n<tr><td class=\\\"cell-1\\\" style=\\\"text-align:right;\\\">134</td> <td class=\\\"cell-2\\\" style=\\\"\\\">http://www.nationalgeographic.com/travel/lists/transportation/16-scenic-train-trips</td></tr>\\n<tr><td class=\\\"cell-1\\\" style=\\\"text-align:right;\\\">124</td> <td class=\\\"cell-2\\\" style=\\\"\\\">http://www.nationalgeographic.com/magazine/2017/06/dinosaur-nodosaur-fossil-discovery</td></tr>\\n<tr><td class=\\\"cell-1\\\" style=\\\"text-align:right;\\\">123</td> <td class=\\\"cell-2\\\" style=\\\"\\\">http://www.nationalgeographic.com/contact</td></tr>\\n<tr><td class=\\\"cell-1\\\" style=\\\"text-align:right;\\\">121</td> <td class=\\\"cell-2\\\" style=\\\"\\\">http://www.nationalgeographic.com/animals</td></tr>\\n<tr><td class=\\\"cell-1\\\" style=\\\"text-align:right;\\\">114</td> <td class=\\\"cell-2\\\" style=\\\"\\\">http://www.nationalgeographic.com/travel/photos-top-10-oceanfront-cities</td></tr>\\n<tr><td class=\\\"cell-1\\\" style=\\\"text-align:right;\\\">114</td> <td class=\\\"cell-2\\\" style=\\\"\\\">http://www.nationalgeographic.com/magazine/plus</td></tr>\\n<tr><td class=\\\"cell-1\\\" style=\\\"text-align:right;\\\">113</td> <td class=\\\"cell-2\\\" style=\\\"\\\">http://www.nationalgeographic.com/animals/mammals/g/giraffe</td></tr>\\n<tr><td class=\\\"cell-1\\\" style=\\\"text-align:right;\\\">105</td> <td class=\\\"cell-2\\\" style=\\\"\\\">http://www.nationalgeographic.com/magazine/2016/05/yellowstone-national-parks-supervolcano-animation</td></tr>\\n<tr><td class=\\\"cell-1\\\" style=\\\"text-align:right;\\\">102</td> <td class=\\\"cell-2\\\" style=\\\"\\\">http://www.nationalgeographic.com/photography/proof/2017/07/snakes-world-snake-day-environment-animals-joel-sartore-phot...</td></tr>\\n<tr><td class=\\\"cell-1\\\" style=\\\"text-align:right;\\\">100</td> <td class=\\\"cell-2\\\" style=\\\"\\\">http://www.nationalgeographic.com/adventure/destinations/europe/croatia/sea-kayaking-stand-up-paddleboard</td></tr>\\n    \\n    <tr><td class=\\\"cell-1\\\" style=\\\"text-align:right;\\\">99</td> <td class=\\\"cell-2\\\" style=\\\"\\\">http://www.nationalgeographic.com/magazine/2017/07/explore-adventure-brian-skerry-rolex-explorer-of-the-year</td></tr>\\n<tr><td class=\\\"cell-1\\\" style=\\\"text-align:right;\\\">95</td> <td class=\\\"cell-2\\\" style=\\\"\\\">http://www.nationalgeographic.com/magazine/2013/09/rising-seas-ice-melt-new-shoreline-maps</td></tr>\\n<tr><td class=\\\"cell-1\\\" style=\\\"text-align:right;\\\">94</td> <td class=\\\"cell-2\\\" style=\\\"\\\">http://www.nationalgeographic.com/travel/national-parks/most-visited-parks-photos</td></tr>\\n<tr><td class=\\\"cell-1\\\" style=\\\"text-align:right;\\\">94</td> <td class=\\\"cell-2\\\" style=\\\"\\\">http://www.nationalgeographic.com/magazines/l/multisubs/kids-sem.html</td></tr>\\n<tr><td class=\\\"cell-1\\\" style=\\\"text-align:right;\\\">93</td> <td class=\\\"cell-2\\\" style=\\\"\\\">http://www.nationalgeographic.com/photography/proof/2017/06/hummingbirds-slow-motion-flight-videos</td></tr>\\n<tr><td class=\\\"cell-1\\\" style=\\\"text-align:right;\\\">87</td> <td class=\\\"cell-2\\\" style=\\\"\\\">http://www.nationalgeographic.com/magazine/2017/07/under-antarctica-frozen-beauty-exotic-creatures-penguins</td></tr>\\n<tr><td class=\\\"cell-1\\\" style=\\\"text-align:right;\\\">82</td> <td class=\\\"cell-2\\\" style=\\\"\\\">http://www.nationalgeographic.com/magazine/2017/08/space-odyssey-astronaut-scott-kelly-book-endurance</td></tr>\\n<tr><td class=\\\"cell-1\\\" style=\\\"text-align:right;\\\">79</td> <td class=\\\"cell-2\\\" style=\\\"\\\">http://www.nationalgeographic.com/science</td></tr>\\n<tr><td class=\\\"cell-1\\\" style=\\\"text-align:right;\\\">78</td> <td class=\\\"cell-2\\\" style=\\\"\\\">http://www.nationalgeographic.com/travel/destinations/north-america/united-states/washington/sequim-lavender-festival</td></tr>\\n<tr><td class=\\\"cell-1\\\" style=\\\"text-align:right;\\\">77</td> <td class=\\\"cell-2\\\" style=\\\"\\\">http://www.nationalgeographic.com/activate</td></tr>\\n<tr><td class=\\\"cell-1\\\" style=\\\"text-align:right;\\\">75</td> <td class=\\\"cell-2\\\" style=\\\"\\\">http://www.nationalgeographic.com/environment</td></tr>\\n<tr><td class=\\\"cell-1\\\" style=\\\"text-align:right;\\\">74</td> <td class=\\\"cell-2\\\" style=\\\"\\\">http://www.nationalgeographic.com/travel/travel-interests/tips-and-advice/summer-reading-list-travel-books</td></tr>\\n    </tbody>\\n\")"
      ]
     },
     "metadata": {},
     "output_type": "display_data"
    },
    {
     "data": {
      "text/html": [
       "    <table  class=\"dataframe-table\">\n",
       "    <thead><tr><th class=\"cell-1\" style=\"\">Views</th> <th class=\"cell-2\" style=\"\">Url - %</th></tr></thead>\n",
       "    <tbody>\n",
       "    <tr><td class=\"cell-1\" style=\"text-align:right;\">74</td> <td class=\"cell-2\" style=\"\">http://www.nationalgeographic.com/adventure</td></tr>\n",
       "<tr><td class=\"cell-1\" style=\"text-align:right;\">73</td> <td class=\"cell-2\" style=\"\">http://www.nationalgeographic.com/animals/fish/o/ocean-sunfish</td></tr>\n",
       "<tr><td class=\"cell-1\" style=\"text-align:right;\">71</td> <td class=\"cell-2\" style=\"\">http://www.nationalgeographic.com/archaeology-and-history/archaeology/crystal-skulls</td></tr>\n",
       "<tr><td class=\"cell-1\" style=\"text-align:right;\">70</td> <td class=\"cell-2\" style=\"\">http://www.nationalgeographic.com/magazine/2017/08/new-messiahs-jesus-christ-second-coming-photos</td></tr>\n",
       "<tr><td class=\"cell-1\" style=\"text-align:right;\">68</td> <td class=\"cell-2\" style=\"\">http://www.nationalgeographic.com/magazine/2017/08/space-preserving-moon-from-private-industry</td></tr>\n",
       "<tr><td class=\"cell-1\" style=\"text-align:right;\">68</td> <td class=\"cell-2\" style=\"\">http://www.nationalgeographic.com/maps</td></tr>\n",
       "<tr><td class=\"cell-1\" style=\"text-align:right;\">66</td> <td class=\"cell-2\" style=\"\">http://www.nationalgeographic.com/photography/photo-of-the-day</td></tr>\n",
       "<tr><td class=\"cell-1\" style=\"text-align:right;\">64</td> <td class=\"cell-2\" style=\"\">http://www.nationalgeographic.com/adventure/destinations/europe/iceland/teens-backcountry-skiing-keely-kelleher</td></tr>\n",
       "<tr><td class=\"cell-1\" style=\"text-align:right;\">63</td> <td class=\"cell-2\" style=\"\">http://www.nationalgeographic.com/travel/destinations/asia/iran/bam-iran-ancient-mud-city-unesco</td></tr>\n",
       "<tr><td class=\"cell-1\" style=\"text-align:right;\">62</td> <td class=\"cell-2\" style=\"\">http://www.nationalgeographic.com/adventure/features/best-trips/best-dog-adventures</td></tr>\n",
       "<tr><td class=\"cell-1\" style=\"text-align:right;\">61</td> <td class=\"cell-2\" style=\"\">http://www.nationalgeographic.com/travel/destinations/north-america/united-states/louisiana/top-10-summer-music-festival...</td></tr>\n",
       "<tr><td class=\"cell-1\" style=\"text-align:right;\">60</td> <td class=\"cell-2\" style=\"\">http://www.nationalgeographic.com/photography/proof/2017/07/antarctica-expedition-archive-larsen-c</td></tr>\n",
       "<tr><td class=\"cell-1\" style=\"text-align:right;\">58</td> <td class=\"cell-2\" style=\"\">http://www.nationalgeographic.com/archaeology-and-history</td></tr>\n",
       "    \n",
       "    <tr><td class=\"cell-1\" style=\"text-align:right;\">57</td> <td class=\"cell-2\" style=\"\">http://www.nationalgeographic.com/animals/index</td></tr>\n",
       "<tr><td class=\"cell-1\" style=\"text-align:right;\">55</td> <td class=\"cell-2\" style=\"\">http://www.nationalgeographic.com/travel/destinations/europe/croatia/underrated-places-to-go</td></tr>\n",
       "<tr><td class=\"cell-1\" style=\"text-align:right;\">54</td> <td class=\"cell-2\" style=\"\">http://www.nationalgeographic.com/photography/proof/2017/03/hunting-trophies-abensur</td></tr>\n",
       "<tr><td class=\"cell-1\" style=\"text-align:right;\">54</td> <td class=\"cell-2\" style=\"\">http://www.nationalgeographic.com/magazine/2017/06/startalk-mayim-bialik</td></tr>\n",
       "<tr><td class=\"cell-1\" style=\"text-align:right;\">54</td> <td class=\"cell-2\" style=\"\">http://www.nationalgeographic.com/adventure/lists/hiking-backpacking/worlds-best-hikes-dream-trails</td></tr>\n",
       "<tr><td class=\"cell-1\" style=\"text-align:right;\">51</td> <td class=\"cell-2\" style=\"\">http://www.nationalgeographic.com/environment/global-warming/pollution</td></tr>\n",
       "<tr><td class=\"cell-1\" style=\"text-align:right;\">51</td> <td class=\"cell-2\" style=\"\">http://www.nationalgeographic.com/travel/destinations/oceania/new-zealand/things-to-do-experience</td></tr>\n",
       "<tr><td class=\"cell-1\" style=\"text-align:right;\">49</td> <td class=\"cell-2\" style=\"\">http://www.nationalgeographic.com/travel/top-10/europe-castles</td></tr>\n",
       "<tr><td class=\"cell-1\" style=\"text-align:right;\">49</td> <td class=\"cell-2\" style=\"\">http://www.nationalgeographic.com/travel/features/best-trips-2017</td></tr>\n",
       "<tr><td class=\"cell-1\" style=\"text-align:right;\">48</td> <td class=\"cell-2\" style=\"\">http://www.nationalgeographic.com/photography/photo-of-the-day/2017/07/tibet-festival-competition</td></tr>\n",
       "<tr><td class=\"cell-1\" style=\"text-align:right;\">48</td> <td class=\"cell-2\" style=\"\">http://www.nationalgeographic.com/photography/proof/2017/05/nodosaur-fossil-discovery-science-photography</td></tr>\n",
       "<tr><td class=\"cell-1\" style=\"text-align:right;\">47</td> <td class=\"cell-2\" style=\"\">http://www.nationalgeographic.com/environment/global-warming/deforestation</td></tr>\n",
       "    </tbody>\n"
      ],
      "text/plain": [
       "HTML{UTF8String}(\"    <table  class=\\\"dataframe-table\\\">\\n    <thead><tr><th class=\\\"cell-1\\\" style=\\\"\\\">Views</th> <th class=\\\"cell-2\\\" style=\\\"\\\">Url - %</th></tr></thead>\\n    <tbody>\\n    <tr><td class=\\\"cell-1\\\" style=\\\"text-align:right;\\\">74</td> <td class=\\\"cell-2\\\" style=\\\"\\\">http://www.nationalgeographic.com/adventure</td></tr>\\n<tr><td class=\\\"cell-1\\\" style=\\\"text-align:right;\\\">73</td> <td class=\\\"cell-2\\\" style=\\\"\\\">http://www.nationalgeographic.com/animals/fish/o/ocean-sunfish</td></tr>\\n<tr><td class=\\\"cell-1\\\" style=\\\"text-align:right;\\\">71</td> <td class=\\\"cell-2\\\" style=\\\"\\\">http://www.nationalgeographic.com/archaeology-and-history/archaeology/crystal-skulls</td></tr>\\n<tr><td class=\\\"cell-1\\\" style=\\\"text-align:right;\\\">70</td> <td class=\\\"cell-2\\\" style=\\\"\\\">http://www.nationalgeographic.com/magazine/2017/08/new-messiahs-jesus-christ-second-coming-photos</td></tr>\\n<tr><td class=\\\"cell-1\\\" style=\\\"text-align:right;\\\">68</td> <td class=\\\"cell-2\\\" style=\\\"\\\">http://www.nationalgeographic.com/magazine/2017/08/space-preserving-moon-from-private-industry</td></tr>\\n<tr><td class=\\\"cell-1\\\" style=\\\"text-align:right;\\\">68</td> <td class=\\\"cell-2\\\" style=\\\"\\\">http://www.nationalgeographic.com/maps</td></tr>\\n<tr><td class=\\\"cell-1\\\" style=\\\"text-align:right;\\\">66</td> <td class=\\\"cell-2\\\" style=\\\"\\\">http://www.nationalgeographic.com/photography/photo-of-the-day</td></tr>\\n<tr><td class=\\\"cell-1\\\" style=\\\"text-align:right;\\\">64</td> <td class=\\\"cell-2\\\" style=\\\"\\\">http://www.nationalgeographic.com/adventure/destinations/europe/iceland/teens-backcountry-skiing-keely-kelleher</td></tr>\\n<tr><td class=\\\"cell-1\\\" style=\\\"text-align:right;\\\">63</td> <td class=\\\"cell-2\\\" style=\\\"\\\">http://www.nationalgeographic.com/travel/destinations/asia/iran/bam-iran-ancient-mud-city-unesco</td></tr>\\n<tr><td class=\\\"cell-1\\\" style=\\\"text-align:right;\\\">62</td> <td class=\\\"cell-2\\\" style=\\\"\\\">http://www.nationalgeographic.com/adventure/features/best-trips/best-dog-adventures</td></tr>\\n<tr><td class=\\\"cell-1\\\" style=\\\"text-align:right;\\\">61</td> <td class=\\\"cell-2\\\" style=\\\"\\\">http://www.nationalgeographic.com/travel/destinations/north-america/united-states/louisiana/top-10-summer-music-festival...</td></tr>\\n<tr><td class=\\\"cell-1\\\" style=\\\"text-align:right;\\\">60</td> <td class=\\\"cell-2\\\" style=\\\"\\\">http://www.nationalgeographic.com/photography/proof/2017/07/antarctica-expedition-archive-larsen-c</td></tr>\\n<tr><td class=\\\"cell-1\\\" style=\\\"text-align:right;\\\">58</td> <td class=\\\"cell-2\\\" style=\\\"\\\">http://www.nationalgeographic.com/archaeology-and-history</td></tr>\\n    \\n    <tr><td class=\\\"cell-1\\\" style=\\\"text-align:right;\\\">57</td> <td class=\\\"cell-2\\\" style=\\\"\\\">http://www.nationalgeographic.com/animals/index</td></tr>\\n<tr><td class=\\\"cell-1\\\" style=\\\"text-align:right;\\\">55</td> <td class=\\\"cell-2\\\" style=\\\"\\\">http://www.nationalgeographic.com/travel/destinations/europe/croatia/underrated-places-to-go</td></tr>\\n<tr><td class=\\\"cell-1\\\" style=\\\"text-align:right;\\\">54</td> <td class=\\\"cell-2\\\" style=\\\"\\\">http://www.nationalgeographic.com/photography/proof/2017/03/hunting-trophies-abensur</td></tr>\\n<tr><td class=\\\"cell-1\\\" style=\\\"text-align:right;\\\">54</td> <td class=\\\"cell-2\\\" style=\\\"\\\">http://www.nationalgeographic.com/magazine/2017/06/startalk-mayim-bialik</td></tr>\\n<tr><td class=\\\"cell-1\\\" style=\\\"text-align:right;\\\">54</td> <td class=\\\"cell-2\\\" style=\\\"\\\">http://www.nationalgeographic.com/adventure/lists/hiking-backpacking/worlds-best-hikes-dream-trails</td></tr>\\n<tr><td class=\\\"cell-1\\\" style=\\\"text-align:right;\\\">51</td> <td class=\\\"cell-2\\\" style=\\\"\\\">http://www.nationalgeographic.com/environment/global-warming/pollution</td></tr>\\n<tr><td class=\\\"cell-1\\\" style=\\\"text-align:right;\\\">51</td> <td class=\\\"cell-2\\\" style=\\\"\\\">http://www.nationalgeographic.com/travel/destinations/oceania/new-zealand/things-to-do-experience</td></tr>\\n<tr><td class=\\\"cell-1\\\" style=\\\"text-align:right;\\\">49</td> <td class=\\\"cell-2\\\" style=\\\"\\\">http://www.nationalgeographic.com/travel/top-10/europe-castles</td></tr>\\n<tr><td class=\\\"cell-1\\\" style=\\\"text-align:right;\\\">49</td> <td class=\\\"cell-2\\\" style=\\\"\\\">http://www.nationalgeographic.com/travel/features/best-trips-2017</td></tr>\\n<tr><td class=\\\"cell-1\\\" style=\\\"text-align:right;\\\">48</td> <td class=\\\"cell-2\\\" style=\\\"\\\">http://www.nationalgeographic.com/photography/photo-of-the-day/2017/07/tibet-festival-competition</td></tr>\\n<tr><td class=\\\"cell-1\\\" style=\\\"text-align:right;\\\">48</td> <td class=\\\"cell-2\\\" style=\\\"\\\">http://www.nationalgeographic.com/photography/proof/2017/05/nodosaur-fossil-discovery-science-photography</td></tr>\\n<tr><td class=\\\"cell-1\\\" style=\\\"text-align:right;\\\">47</td> <td class=\\\"cell-2\\\" style=\\\"\\\">http://www.nationalgeographic.com/environment/global-warming/deforestation</td></tr>\\n    </tbody>\\n\")"
      ]
     },
     "metadata": {},
     "output_type": "display_data"
    },
    {
     "data": {
      "text/html": [
       "    <table  class=\"dataframe-table\">\n",
       "    <thead><tr><th class=\"cell-1\" style=\"\">Views</th> <th class=\"cell-2\" style=\"\">Url - %</th></tr></thead>\n",
       "    <tbody>\n",
       "    <tr><td class=\"cell-1\" style=\"text-align:right;\">45</td> <td class=\"cell-2\" style=\"\">http://www.nationalgeographic.com/magazine/2017/01/how-science-helps-us-understand-gender-identity</td></tr>\n",
       "<tr><td class=\"cell-1\" style=\"text-align:right;\">44</td> <td class=\"cell-2\" style=\"\">http://www.nationalgeographic.com/animals/photos</td></tr>\n",
       "<tr><td class=\"cell-1\" style=\"text-align:right;\">44</td> <td class=\"cell-2\" style=\"\">http://www.nationalgeographic.com/travel/top-10/top-beaches-world</td></tr>\n",
       "<tr><td class=\"cell-1\" style=\"text-align:right;\">44</td> <td class=\"cell-2\" style=\"\">http://www.nationalgeographic.com/magazine/2016/05/yellowstone-national-parks-bears-video</td></tr>\n",
       "<tr><td class=\"cell-1\" style=\"text-align:right;\">43</td> <td class=\"cell-2\" style=\"\">http://www.nationalgeographic.com/photography/best-of-photo-of-the-day/2017/june</td></tr>\n",
       "<tr><td class=\"cell-1\" style=\"text-align:right;\">42</td> <td class=\"cell-2\" style=\"\">http://www.nationalgeographic.com/magazine/2016/04/death-dying-grief-funeral-ceremony-corpse</td></tr>\n",
       "<tr><td class=\"cell-1\" style=\"text-align:right;\">41</td> <td class=\"cell-2\" style=\"\">http://www.nationalgeographic.com/disable-adblock</td></tr>\n",
       "<tr><td class=\"cell-1\" style=\"text-align:right;\">40</td> <td class=\"cell-2\" style=\"\">http://www.nationalgeographic.com/environment/global-warming/global-warming-effects</td></tr>\n",
       "<tr><td class=\"cell-1\" style=\"text-align:right;\">40</td> <td class=\"cell-2\" style=\"\">http://www.nationalgeographic.com/environment/global-warming/global-warming-overview</td></tr>\n",
       "<tr><td class=\"cell-1\" style=\"text-align:right;\">38</td> <td class=\"cell-2\" style=\"\">http://www.nationalgeographic.com/travel/road-trips/california-pacific-coast-road-trip</td></tr>\n",
       "<tr><td class=\"cell-1\" style=\"text-align:right;\">38</td> <td class=\"cell-2\" style=\"\">http://www.nationalgeographic.com/photography/best-photos-2016</td></tr>\n",
       "<tr><td class=\"cell-1\" style=\"text-align:right;\">37</td> <td class=\"cell-2\" style=\"\">http://www.nationalgeographic.com/travel/top-10/natural-wonders-asia</td></tr>\n",
       "<tr><td class=\"cell-1\" style=\"text-align:right;\">36</td> <td class=\"cell-2\" style=\"\">http://www.nationalgeographic.com/travel/travel-interests/arts-and-culture/ancient-sites-built-by-aliens</td></tr>\n",
       "    \n",
       "    <tr><td class=\"cell-1\" style=\"text-align:right;\">36</td> <td class=\"cell-2\" style=\"\">http://www.nationalgeographic.com/travel/top-10/top-10-compact-cameras-for-travelers-2017</td></tr>\n",
       "<tr><td class=\"cell-1\" style=\"text-align:right;\">35</td> <td class=\"cell-2\" style=\"\">http://www.nationalgeographic.com/animals/invertebrates/group/cicadas</td></tr>\n",
       "<tr><td class=\"cell-1\" style=\"text-align:right;\">35</td> <td class=\"cell-2\" style=\"\">http://www.nationalgeographic.com/travel/destinations/europe/france/secrets-of-versailles</td></tr>\n",
       "<tr><td class=\"cell-1\" style=\"text-align:right;\">35</td> <td class=\"cell-2\" style=\"\">http://www.nationalgeographic.com/community/privacy</td></tr>\n",
       "<tr><td class=\"cell-1\" style=\"text-align:right;\">35</td> <td class=\"cell-2\" style=\"\">http://www.nationalgeographic.com/magazine/2017/07/antarctica-sea-level-rise-climate-change</td></tr>\n",
       "<tr><td class=\"cell-1\" style=\"text-align:right;\">33</td> <td class=\"cell-2\" style=\"\">http://www.nationalgeographic.com/magazine/2017/07/honey-hunters-bees-climbing-nepal</td></tr>\n",
       "<tr><td class=\"cell-1\" style=\"text-align:right;\">32</td> <td class=\"cell-2\" style=\"\">http://www.nationalgeographic.com/adventure/lists/hiking-backpacking/via-ferratas-around-the-world</td></tr>\n",
       "<tr><td class=\"cell-1\" style=\"text-align:right;\">32</td> <td class=\"cell-2\" style=\"\">http://www.nationalgeographic.com/travel/destinations/europe/iceland/things-to-see-traditional-houses</td></tr>\n",
       "<tr><td class=\"cell-1\" style=\"text-align:right;\">31</td> <td class=\"cell-2\" style=\"\">http://www.nationalgeographic.com/animals/invertebrates/group/black-widow-spiders</td></tr>\n",
       "<tr><td class=\"cell-1\" style=\"text-align:right;\">31</td> <td class=\"cell-2\" style=\"\">http://www.nationalgeographic.com/animals/birds/group/peacocks</td></tr>\n",
       "<tr><td class=\"cell-1\" style=\"text-align:right;\">31</td> <td class=\"cell-2\" style=\"\">http://www.nationalgeographic.com/animals/mammals/b/blue-whale</td></tr>\n",
       "<tr><td class=\"cell-1\" style=\"text-align:right;\">31</td> <td class=\"cell-2\" style=\"\">http://www.nationalgeographic.com/adventure/adventurers-of-the-year</td></tr>\n",
       "    </tbody>\n"
      ],
      "text/plain": [
       "HTML{UTF8String}(\"    <table  class=\\\"dataframe-table\\\">\\n    <thead><tr><th class=\\\"cell-1\\\" style=\\\"\\\">Views</th> <th class=\\\"cell-2\\\" style=\\\"\\\">Url - %</th></tr></thead>\\n    <tbody>\\n    <tr><td class=\\\"cell-1\\\" style=\\\"text-align:right;\\\">45</td> <td class=\\\"cell-2\\\" style=\\\"\\\">http://www.nationalgeographic.com/magazine/2017/01/how-science-helps-us-understand-gender-identity</td></tr>\\n<tr><td class=\\\"cell-1\\\" style=\\\"text-align:right;\\\">44</td> <td class=\\\"cell-2\\\" style=\\\"\\\">http://www.nationalgeographic.com/animals/photos</td></tr>\\n<tr><td class=\\\"cell-1\\\" style=\\\"text-align:right;\\\">44</td> <td class=\\\"cell-2\\\" style=\\\"\\\">http://www.nationalgeographic.com/travel/top-10/top-beaches-world</td></tr>\\n<tr><td class=\\\"cell-1\\\" style=\\\"text-align:right;\\\">44</td> <td class=\\\"cell-2\\\" style=\\\"\\\">http://www.nationalgeographic.com/magazine/2016/05/yellowstone-national-parks-bears-video</td></tr>\\n<tr><td class=\\\"cell-1\\\" style=\\\"text-align:right;\\\">43</td> <td class=\\\"cell-2\\\" style=\\\"\\\">http://www.nationalgeographic.com/photography/best-of-photo-of-the-day/2017/june</td></tr>\\n<tr><td class=\\\"cell-1\\\" style=\\\"text-align:right;\\\">42</td> <td class=\\\"cell-2\\\" style=\\\"\\\">http://www.nationalgeographic.com/magazine/2016/04/death-dying-grief-funeral-ceremony-corpse</td></tr>\\n<tr><td class=\\\"cell-1\\\" style=\\\"text-align:right;\\\">41</td> <td class=\\\"cell-2\\\" style=\\\"\\\">http://www.nationalgeographic.com/disable-adblock</td></tr>\\n<tr><td class=\\\"cell-1\\\" style=\\\"text-align:right;\\\">40</td> <td class=\\\"cell-2\\\" style=\\\"\\\">http://www.nationalgeographic.com/environment/global-warming/global-warming-effects</td></tr>\\n<tr><td class=\\\"cell-1\\\" style=\\\"text-align:right;\\\">40</td> <td class=\\\"cell-2\\\" style=\\\"\\\">http://www.nationalgeographic.com/environment/global-warming/global-warming-overview</td></tr>\\n<tr><td class=\\\"cell-1\\\" style=\\\"text-align:right;\\\">38</td> <td class=\\\"cell-2\\\" style=\\\"\\\">http://www.nationalgeographic.com/travel/road-trips/california-pacific-coast-road-trip</td></tr>\\n<tr><td class=\\\"cell-1\\\" style=\\\"text-align:right;\\\">38</td> <td class=\\\"cell-2\\\" style=\\\"\\\">http://www.nationalgeographic.com/photography/best-photos-2016</td></tr>\\n<tr><td class=\\\"cell-1\\\" style=\\\"text-align:right;\\\">37</td> <td class=\\\"cell-2\\\" style=\\\"\\\">http://www.nationalgeographic.com/travel/top-10/natural-wonders-asia</td></tr>\\n<tr><td class=\\\"cell-1\\\" style=\\\"text-align:right;\\\">36</td> <td class=\\\"cell-2\\\" style=\\\"\\\">http://www.nationalgeographic.com/travel/travel-interests/arts-and-culture/ancient-sites-built-by-aliens</td></tr>\\n    \\n    <tr><td class=\\\"cell-1\\\" style=\\\"text-align:right;\\\">36</td> <td class=\\\"cell-2\\\" style=\\\"\\\">http://www.nationalgeographic.com/travel/top-10/top-10-compact-cameras-for-travelers-2017</td></tr>\\n<tr><td class=\\\"cell-1\\\" style=\\\"text-align:right;\\\">35</td> <td class=\\\"cell-2\\\" style=\\\"\\\">http://www.nationalgeographic.com/animals/invertebrates/group/cicadas</td></tr>\\n<tr><td class=\\\"cell-1\\\" style=\\\"text-align:right;\\\">35</td> <td class=\\\"cell-2\\\" style=\\\"\\\">http://www.nationalgeographic.com/travel/destinations/europe/france/secrets-of-versailles</td></tr>\\n<tr><td class=\\\"cell-1\\\" style=\\\"text-align:right;\\\">35</td> <td class=\\\"cell-2\\\" style=\\\"\\\">http://www.nationalgeographic.com/community/privacy</td></tr>\\n<tr><td class=\\\"cell-1\\\" style=\\\"text-align:right;\\\">35</td> <td class=\\\"cell-2\\\" style=\\\"\\\">http://www.nationalgeographic.com/magazine/2017/07/antarctica-sea-level-rise-climate-change</td></tr>\\n<tr><td class=\\\"cell-1\\\" style=\\\"text-align:right;\\\">33</td> <td class=\\\"cell-2\\\" style=\\\"\\\">http://www.nationalgeographic.com/magazine/2017/07/honey-hunters-bees-climbing-nepal</td></tr>\\n<tr><td class=\\\"cell-1\\\" style=\\\"text-align:right;\\\">32</td> <td class=\\\"cell-2\\\" style=\\\"\\\">http://www.nationalgeographic.com/adventure/lists/hiking-backpacking/via-ferratas-around-the-world</td></tr>\\n<tr><td class=\\\"cell-1\\\" style=\\\"text-align:right;\\\">32</td> <td class=\\\"cell-2\\\" style=\\\"\\\">http://www.nationalgeographic.com/travel/destinations/europe/iceland/things-to-see-traditional-houses</td></tr>\\n<tr><td class=\\\"cell-1\\\" style=\\\"text-align:right;\\\">31</td> <td class=\\\"cell-2\\\" style=\\\"\\\">http://www.nationalgeographic.com/animals/invertebrates/group/black-widow-spiders</td></tr>\\n<tr><td class=\\\"cell-1\\\" style=\\\"text-align:right;\\\">31</td> <td class=\\\"cell-2\\\" style=\\\"\\\">http://www.nationalgeographic.com/animals/birds/group/peacocks</td></tr>\\n<tr><td class=\\\"cell-1\\\" style=\\\"text-align:right;\\\">31</td> <td class=\\\"cell-2\\\" style=\\\"\\\">http://www.nationalgeographic.com/animals/mammals/b/blue-whale</td></tr>\\n<tr><td class=\\\"cell-1\\\" style=\\\"text-align:right;\\\">31</td> <td class=\\\"cell-2\\\" style=\\\"\\\">http://www.nationalgeographic.com/adventure/adventurers-of-the-year</td></tr>\\n    </tbody>\\n\")"
      ]
     },
     "metadata": {},
     "output_type": "display_data"
    },
    {
     "data": {
      "text/html": [
       "    <table  class=\"dataframe-table\">\n",
       "    <thead><tr><th class=\"cell-1\" style=\"\">Views</th> <th class=\"cell-2\" style=\"\">Url - %</th></tr></thead>\n",
       "    <tbody>\n",
       "    <tr><td class=\"cell-1\" style=\"text-align:right;\">30</td> <td class=\"cell-2\" style=\"\">http://www.nationalgeographic.com/animals/mammals</td></tr>\n",
       "<tr><td class=\"cell-1\" style=\"text-align:right;\">30</td> <td class=\"cell-2\" style=\"\">http://www.nationalgeographic.com/travel/lists/2017-places-that-deserve-more-travelers</td></tr>\n",
       "<tr><td class=\"cell-1\" style=\"text-align:right;\">29</td> <td class=\"cell-2\" style=\"\">http://www.nationalgeographic.com/environment/global-warming/sea-level-rise</td></tr>\n",
       "<tr><td class=\"cell-1\" style=\"text-align:right;\">29</td> <td class=\"cell-2\" style=\"\">http://www.nationalgeographic.com/about</td></tr>\n",
       "<tr><td class=\"cell-1\" style=\"text-align:right;\">29</td> <td class=\"cell-2\" style=\"\">http://www.nationalgeographic.com/animals/invertebrates/g/giant-pacific-octopus</td></tr>\n",
       "<tr><td class=\"cell-1\" style=\"text-align:right;\">29</td> <td class=\"cell-2\" style=\"\">http://www.nationalgeographic.com/animals/birds</td></tr>\n",
       "<tr><td class=\"cell-1\" style=\"text-align:right;\">29</td> <td class=\"cell-2\" style=\"\">http://www.nationalgeographic.com/travel/where-the-locals-go/wellington</td></tr>\n",
       "<tr><td class=\"cell-1\" style=\"text-align:right;\">28</td> <td class=\"cell-2\" style=\"\">http://www.nationalgeographic.com/photography/proof/2017/07/full-moonrise-boston</td></tr>\n",
       "<tr><td class=\"cell-1\" style=\"text-align:right;\">28</td> <td class=\"cell-2\" style=\"\">http://www.nationalgeographic.com/photography/photogalleries</td></tr>\n",
       "<tr><td class=\"cell-1\" style=\"text-align:right;\">28</td> <td class=\"cell-2\" style=\"\">http://www.nationalgeographic.com/travel/destinations/europe/united-kingdom/scotland/12-reasons-to-go-scotland-now</td></tr>\n",
       "<tr><td class=\"cell-1\" style=\"text-align:right;\">28</td> <td class=\"cell-2\" style=\"\">http://www.nationalgeographic.com/animals/fish/w/whale-shark</td></tr>\n",
       "<tr><td class=\"cell-1\" style=\"text-align:right;\">28</td> <td class=\"cell-2\" style=\"\">http://www.nationalgeographic.com/photography/proof</td></tr>\n",
       "<tr><td class=\"cell-1\" style=\"text-align:right;\">28</td> <td class=\"cell-2\" style=\"\">http://www.nationalgeographic.com/photography/proof/2017/07/uzbekistan-circumcision-ceremony-photos</td></tr>\n",
       "    \n",
       "    <tr><td class=\"cell-1\" style=\"text-align:right;\">28</td> <td class=\"cell-2\" style=\"\">http://www.nationalgeographic.com/magazine/2017/06/lying-hoax-false-fibs-science</td></tr>\n",
       "<tr><td class=\"cell-1\" style=\"text-align:right;\">27</td> <td class=\"cell-2\" style=\"\">http://www.nationalgeographic.com/magazine/2012/04/titanic-shipwreck-revealed-complete-mosaic-images</td></tr>\n",
       "<tr><td class=\"cell-1\" style=\"text-align:right;\">27</td> <td class=\"cell-2\" style=\"\">http://www.nationalgeographic.com/animals/invertebrates/p/portuguese-man-of-war</td></tr>\n",
       "<tr><td class=\"cell-1\" style=\"text-align:right;\">27</td> <td class=\"cell-2\" style=\"\">http://www.nationalgeographic.com/photography/photo-tips</td></tr>\n",
       "<tr><td class=\"cell-1\" style=\"text-align:right;\">27</td> <td class=\"cell-2\" style=\"\">http://www.nationalgeographic.com/environment/global-warming/big-thaw</td></tr>\n",
       "<tr><td class=\"cell-1\" style=\"text-align:right;\">26</td> <td class=\"cell-2\" style=\"\">http://www.nationalgeographic.com/magazine/2017/05/genius-genetics-intelligence-neuroscience-creativity-einstein</td></tr>\n",
       "<tr><td class=\"cell-1\" style=\"text-align:right;\">26</td> <td class=\"cell-2\" style=\"\">http://www.nationalgeographic.com/science/prehistoric-world/dinosaur-extinction</td></tr>\n",
       "<tr><td class=\"cell-1\" style=\"text-align:right;\">26</td> <td class=\"cell-2\" style=\"\">http://www.nationalgeographic.com/travel/lists/night-travel-photos</td></tr>\n",
       "<tr><td class=\"cell-1\" style=\"text-align:right;\">26</td> <td class=\"cell-2\" style=\"\">http://www.nationalgeographic.com/magazine/2016/01/call-to-wild</td></tr>\n",
       "<tr><td class=\"cell-1\" style=\"text-align:right;\">26</td> <td class=\"cell-2\" style=\"\">http://www.nationalgeographic.com/travel/canada/places-of-a-lifetime</td></tr>\n",
       "<tr><td class=\"cell-1\" style=\"text-align:right;\">26</td> <td class=\"cell-2\" style=\"\">http://www.nationalgeographic.com/community/terms</td></tr>\n",
       "<tr><td class=\"cell-1\" style=\"text-align:right;\">26</td> <td class=\"cell-2\" style=\"\">http://www.nationalgeographic.com/magazine/2016/12/orangutans-behaviors-borneo-sumatra</td></tr>\n",
       "    </tbody>\n"
      ],
      "text/plain": [
       "HTML{UTF8String}(\"    <table  class=\\\"dataframe-table\\\">\\n    <thead><tr><th class=\\\"cell-1\\\" style=\\\"\\\">Views</th> <th class=\\\"cell-2\\\" style=\\\"\\\">Url - %</th></tr></thead>\\n    <tbody>\\n    <tr><td class=\\\"cell-1\\\" style=\\\"text-align:right;\\\">30</td> <td class=\\\"cell-2\\\" style=\\\"\\\">http://www.nationalgeographic.com/animals/mammals</td></tr>\\n<tr><td class=\\\"cell-1\\\" style=\\\"text-align:right;\\\">30</td> <td class=\\\"cell-2\\\" style=\\\"\\\">http://www.nationalgeographic.com/travel/lists/2017-places-that-deserve-more-travelers</td></tr>\\n<tr><td class=\\\"cell-1\\\" style=\\\"text-align:right;\\\">29</td> <td class=\\\"cell-2\\\" style=\\\"\\\">http://www.nationalgeographic.com/environment/global-warming/sea-level-rise</td></tr>\\n<tr><td class=\\\"cell-1\\\" style=\\\"text-align:right;\\\">29</td> <td class=\\\"cell-2\\\" style=\\\"\\\">http://www.nationalgeographic.com/about</td></tr>\\n<tr><td class=\\\"cell-1\\\" style=\\\"text-align:right;\\\">29</td> <td class=\\\"cell-2\\\" style=\\\"\\\">http://www.nationalgeographic.com/animals/invertebrates/g/giant-pacific-octopus</td></tr>\\n<tr><td class=\\\"cell-1\\\" style=\\\"text-align:right;\\\">29</td> <td class=\\\"cell-2\\\" style=\\\"\\\">http://www.nationalgeographic.com/animals/birds</td></tr>\\n<tr><td class=\\\"cell-1\\\" style=\\\"text-align:right;\\\">29</td> <td class=\\\"cell-2\\\" style=\\\"\\\">http://www.nationalgeographic.com/travel/where-the-locals-go/wellington</td></tr>\\n<tr><td class=\\\"cell-1\\\" style=\\\"text-align:right;\\\">28</td> <td class=\\\"cell-2\\\" style=\\\"\\\">http://www.nationalgeographic.com/photography/proof/2017/07/full-moonrise-boston</td></tr>\\n<tr><td class=\\\"cell-1\\\" style=\\\"text-align:right;\\\">28</td> <td class=\\\"cell-2\\\" style=\\\"\\\">http://www.nationalgeographic.com/photography/photogalleries</td></tr>\\n<tr><td class=\\\"cell-1\\\" style=\\\"text-align:right;\\\">28</td> <td class=\\\"cell-2\\\" style=\\\"\\\">http://www.nationalgeographic.com/travel/destinations/europe/united-kingdom/scotland/12-reasons-to-go-scotland-now</td></tr>\\n<tr><td class=\\\"cell-1\\\" style=\\\"text-align:right;\\\">28</td> <td class=\\\"cell-2\\\" style=\\\"\\\">http://www.nationalgeographic.com/animals/fish/w/whale-shark</td></tr>\\n<tr><td class=\\\"cell-1\\\" style=\\\"text-align:right;\\\">28</td> <td class=\\\"cell-2\\\" style=\\\"\\\">http://www.nationalgeographic.com/photography/proof</td></tr>\\n<tr><td class=\\\"cell-1\\\" style=\\\"text-align:right;\\\">28</td> <td class=\\\"cell-2\\\" style=\\\"\\\">http://www.nationalgeographic.com/photography/proof/2017/07/uzbekistan-circumcision-ceremony-photos</td></tr>\\n    \\n    <tr><td class=\\\"cell-1\\\" style=\\\"text-align:right;\\\">28</td> <td class=\\\"cell-2\\\" style=\\\"\\\">http://www.nationalgeographic.com/magazine/2017/06/lying-hoax-false-fibs-science</td></tr>\\n<tr><td class=\\\"cell-1\\\" style=\\\"text-align:right;\\\">27</td> <td class=\\\"cell-2\\\" style=\\\"\\\">http://www.nationalgeographic.com/magazine/2012/04/titanic-shipwreck-revealed-complete-mosaic-images</td></tr>\\n<tr><td class=\\\"cell-1\\\" style=\\\"text-align:right;\\\">27</td> <td class=\\\"cell-2\\\" style=\\\"\\\">http://www.nationalgeographic.com/animals/invertebrates/p/portuguese-man-of-war</td></tr>\\n<tr><td class=\\\"cell-1\\\" style=\\\"text-align:right;\\\">27</td> <td class=\\\"cell-2\\\" style=\\\"\\\">http://www.nationalgeographic.com/photography/photo-tips</td></tr>\\n<tr><td class=\\\"cell-1\\\" style=\\\"text-align:right;\\\">27</td> <td class=\\\"cell-2\\\" style=\\\"\\\">http://www.nationalgeographic.com/environment/global-warming/big-thaw</td></tr>\\n<tr><td class=\\\"cell-1\\\" style=\\\"text-align:right;\\\">26</td> <td class=\\\"cell-2\\\" style=\\\"\\\">http://www.nationalgeographic.com/magazine/2017/05/genius-genetics-intelligence-neuroscience-creativity-einstein</td></tr>\\n<tr><td class=\\\"cell-1\\\" style=\\\"text-align:right;\\\">26</td> <td class=\\\"cell-2\\\" style=\\\"\\\">http://www.nationalgeographic.com/science/prehistoric-world/dinosaur-extinction</td></tr>\\n<tr><td class=\\\"cell-1\\\" style=\\\"text-align:right;\\\">26</td> <td class=\\\"cell-2\\\" style=\\\"\\\">http://www.nationalgeographic.com/travel/lists/night-travel-photos</td></tr>\\n<tr><td class=\\\"cell-1\\\" style=\\\"text-align:right;\\\">26</td> <td class=\\\"cell-2\\\" style=\\\"\\\">http://www.nationalgeographic.com/magazine/2016/01/call-to-wild</td></tr>\\n<tr><td class=\\\"cell-1\\\" style=\\\"text-align:right;\\\">26</td> <td class=\\\"cell-2\\\" style=\\\"\\\">http://www.nationalgeographic.com/travel/canada/places-of-a-lifetime</td></tr>\\n<tr><td class=\\\"cell-1\\\" style=\\\"text-align:right;\\\">26</td> <td class=\\\"cell-2\\\" style=\\\"\\\">http://www.nationalgeographic.com/community/terms</td></tr>\\n<tr><td class=\\\"cell-1\\\" style=\\\"text-align:right;\\\">26</td> <td class=\\\"cell-2\\\" style=\\\"\\\">http://www.nationalgeographic.com/magazine/2016/12/orangutans-behaviors-borneo-sumatra</td></tr>\\n    </tbody>\\n\")"
      ]
     },
     "metadata": {},
     "output_type": "display_data"
    },
    {
     "data": {
      "text/html": [
       "    <table  class=\"dataframe-table\">\n",
       "    <thead><tr><th class=\"cell-1\" style=\"\">Views</th> <th class=\"cell-2\" style=\"\">Url - %</th></tr></thead>\n",
       "    <tbody>\n",
       "    <tr><td class=\"cell-1\" style=\"text-align:right;\">26</td> <td class=\"cell-2\" style=\"\">http://www.nationalgeographic.com/people-and-culture</td></tr>\n",
       "<tr><td class=\"cell-1\" style=\"text-align:right;\">26</td> <td class=\"cell-2\" style=\"\">http://www.nationalgeographic.com/environment/climate-change</td></tr>\n",
       "<tr><td class=\"cell-1\" style=\"text-align:right;\">25</td> <td class=\"cell-2\" style=\"\">http://www.nationalgeographic.com/environment/global-warming/acid-rain</td></tr>\n",
       "<tr><td class=\"cell-1\" style=\"text-align:right;\">25</td> <td class=\"cell-2\" style=\"\">http://www.nationalgeographic.com/archaeology-and-history/magazine/2016/07-08/profile-adam-weishaupt-illuminati-secret-s...</td></tr>\n",
       "<tr><td class=\"cell-1\" style=\"text-align:right;\">25</td> <td class=\"cell-2\" style=\"\">http://www.nationalgeographic.com/travel/road-trips/banff-jasper-canada-road-trip</td></tr>\n",
       "<tr><td class=\"cell-1\" style=\"text-align:right;\">25</td> <td class=\"cell-2\" style=\"\">http://www.nationalgeographic.com/environment/natural-disasters/lightning</td></tr>\n",
       "<tr><td class=\"cell-1\" style=\"text-align:right;\">24</td> <td class=\"cell-2\" style=\"\">http://www.nationalgeographic.com/photography/proof/2017/06/venezuela-health-crisis-spirits-photography</td></tr>\n",
       "<tr><td class=\"cell-1\" style=\"text-align:right;\">24</td> <td class=\"cell-2\" style=\"\">http://www.nationalgeographic.com/animals/mammals/group/porcupines</td></tr>\n",
       "<tr><td class=\"cell-1\" style=\"text-align:right;\">24</td> <td class=\"cell-2\" style=\"\">http://www.nationalgeographic.com/magazine/2017/08/race-to-space-graphic</td></tr>\n",
       "<tr><td class=\"cell-1\" style=\"text-align:right;\">24</td> <td class=\"cell-2\" style=\"\">http://www.nationalgeographic.com/photography/proof/2017/07/drone-photography-contest</td></tr>\n",
       "<tr><td class=\"cell-1\" style=\"text-align:right;\">24</td> <td class=\"cell-2\" style=\"\">http://www.nationalgeographic.com/photography/photo-of-the-day/2017/07/islam-prayers-bangladesh</td></tr>\n",
       "<tr><td class=\"cell-1\" style=\"text-align:right;\">24</td> <td class=\"cell-2\" style=\"\">http://www.nationalgeographic.com/travel/top-10</td></tr>\n",
       "<tr><td class=\"cell-1\" style=\"text-align:right;\">24</td> <td class=\"cell-2\" style=\"\">http://www.nationalgeographic.com/magazine/2017/04/gelada-monkeys-grass-eating-guassa-ethiopia-bleeding-heart</td></tr>\n",
       "    \n",
       "    <tr><td class=\"cell-1\" style=\"text-align:right;\">24</td> <td class=\"cell-2\" style=\"\">http://www.nationalgeographic.com/travel/destinations/north-america/canada/quebec/ten-must-try-restaurants-in-quebec-cit...</td></tr>\n",
       "<tr><td class=\"cell-1\" style=\"text-align:right;\">24</td> <td class=\"cell-2\" style=\"\">http://www.nationalgeographic.com/travel/destinations/north-america/united-states/hawaii/top-10-things-to-do</td></tr>\n",
       "<tr><td class=\"cell-1\" style=\"text-align:right;\">24</td> <td class=\"cell-2\" style=\"\">http://www.nationalgeographic.com/archaeology-and-history/archaeology/emperor-qin</td></tr>\n",
       "<tr><td class=\"cell-1\" style=\"text-align:right;\">23</td> <td class=\"cell-2\" style=\"\">http://www.nationalgeographic.com/animals/invertebrates/group/box-jellyfish</td></tr>\n",
       "<tr><td class=\"cell-1\" style=\"text-align:right;\">23</td> <td class=\"cell-2\" style=\"\">http://www.nationalgeographic.com/animals/mammals/p/platypus</td></tr>\n",
       "<tr><td class=\"cell-1\" style=\"text-align:right;\">23</td> <td class=\"cell-2\" style=\"\">http://www.nationalgeographic.com/archaeology-and-history/archaeology/lost-city-petra</td></tr>\n",
       "<tr><td class=\"cell-1\" style=\"text-align:right;\">23</td> <td class=\"cell-2\" style=\"\">http://www.nationalgeographic.com/travel/top-10/museum-galleries</td></tr>\n",
       "<tr><td class=\"cell-1\" style=\"text-align:right;\">23</td> <td class=\"cell-2\" style=\"\">http://www.nationalgeographic.com/countryman</td></tr>\n",
       "<tr><td class=\"cell-1\" style=\"text-align:right;\">23</td> <td class=\"cell-2\" style=\"\">http://www.nationalgeographic.com/adventure/lists/surfing/best-surf-towns-photos</td></tr>\n",
       "<tr><td class=\"cell-1\" style=\"text-align:right;\">23</td> <td class=\"cell-2\" style=\"\">http://www.nationalgeographic.com/magazine/2017/07</td></tr>\n",
       "<tr><td class=\"cell-1\" style=\"text-align:right;\">22</td> <td class=\"cell-2\" style=\"\">http://www.nationalgeographic.com/animals/invertebrates/c/camel-spider</td></tr>\n",
       "<tr><td class=\"cell-1\" style=\"text-align:right;\">22</td> <td class=\"cell-2\" style=\"\">http://www.nationalgeographic.com/animals/invertebrates/p/praying-mantis</td></tr>\n",
       "    </tbody>\n"
      ],
      "text/plain": [
       "HTML{UTF8String}(\"    <table  class=\\\"dataframe-table\\\">\\n    <thead><tr><th class=\\\"cell-1\\\" style=\\\"\\\">Views</th> <th class=\\\"cell-2\\\" style=\\\"\\\">Url - %</th></tr></thead>\\n    <tbody>\\n    <tr><td class=\\\"cell-1\\\" style=\\\"text-align:right;\\\">26</td> <td class=\\\"cell-2\\\" style=\\\"\\\">http://www.nationalgeographic.com/people-and-culture</td></tr>\\n<tr><td class=\\\"cell-1\\\" style=\\\"text-align:right;\\\">26</td> <td class=\\\"cell-2\\\" style=\\\"\\\">http://www.nationalgeographic.com/environment/climate-change</td></tr>\\n<tr><td class=\\\"cell-1\\\" style=\\\"text-align:right;\\\">25</td> <td class=\\\"cell-2\\\" style=\\\"\\\">http://www.nationalgeographic.com/environment/global-warming/acid-rain</td></tr>\\n<tr><td class=\\\"cell-1\\\" style=\\\"text-align:right;\\\">25</td> <td class=\\\"cell-2\\\" style=\\\"\\\">http://www.nationalgeographic.com/archaeology-and-history/magazine/2016/07-08/profile-adam-weishaupt-illuminati-secret-s...</td></tr>\\n<tr><td class=\\\"cell-1\\\" style=\\\"text-align:right;\\\">25</td> <td class=\\\"cell-2\\\" style=\\\"\\\">http://www.nationalgeographic.com/travel/road-trips/banff-jasper-canada-road-trip</td></tr>\\n<tr><td class=\\\"cell-1\\\" style=\\\"text-align:right;\\\">25</td> <td class=\\\"cell-2\\\" style=\\\"\\\">http://www.nationalgeographic.com/environment/natural-disasters/lightning</td></tr>\\n<tr><td class=\\\"cell-1\\\" style=\\\"text-align:right;\\\">24</td> <td class=\\\"cell-2\\\" style=\\\"\\\">http://www.nationalgeographic.com/photography/proof/2017/06/venezuela-health-crisis-spirits-photography</td></tr>\\n<tr><td class=\\\"cell-1\\\" style=\\\"text-align:right;\\\">24</td> <td class=\\\"cell-2\\\" style=\\\"\\\">http://www.nationalgeographic.com/animals/mammals/group/porcupines</td></tr>\\n<tr><td class=\\\"cell-1\\\" style=\\\"text-align:right;\\\">24</td> <td class=\\\"cell-2\\\" style=\\\"\\\">http://www.nationalgeographic.com/magazine/2017/08/race-to-space-graphic</td></tr>\\n<tr><td class=\\\"cell-1\\\" style=\\\"text-align:right;\\\">24</td> <td class=\\\"cell-2\\\" style=\\\"\\\">http://www.nationalgeographic.com/photography/proof/2017/07/drone-photography-contest</td></tr>\\n<tr><td class=\\\"cell-1\\\" style=\\\"text-align:right;\\\">24</td> <td class=\\\"cell-2\\\" style=\\\"\\\">http://www.nationalgeographic.com/photography/photo-of-the-day/2017/07/islam-prayers-bangladesh</td></tr>\\n<tr><td class=\\\"cell-1\\\" style=\\\"text-align:right;\\\">24</td> <td class=\\\"cell-2\\\" style=\\\"\\\">http://www.nationalgeographic.com/travel/top-10</td></tr>\\n<tr><td class=\\\"cell-1\\\" style=\\\"text-align:right;\\\">24</td> <td class=\\\"cell-2\\\" style=\\\"\\\">http://www.nationalgeographic.com/magazine/2017/04/gelada-monkeys-grass-eating-guassa-ethiopia-bleeding-heart</td></tr>\\n    \\n    <tr><td class=\\\"cell-1\\\" style=\\\"text-align:right;\\\">24</td> <td class=\\\"cell-2\\\" style=\\\"\\\">http://www.nationalgeographic.com/travel/destinations/north-america/canada/quebec/ten-must-try-restaurants-in-quebec-cit...</td></tr>\\n<tr><td class=\\\"cell-1\\\" style=\\\"text-align:right;\\\">24</td> <td class=\\\"cell-2\\\" style=\\\"\\\">http://www.nationalgeographic.com/travel/destinations/north-america/united-states/hawaii/top-10-things-to-do</td></tr>\\n<tr><td class=\\\"cell-1\\\" style=\\\"text-align:right;\\\">24</td> <td class=\\\"cell-2\\\" style=\\\"\\\">http://www.nationalgeographic.com/archaeology-and-history/archaeology/emperor-qin</td></tr>\\n<tr><td class=\\\"cell-1\\\" style=\\\"text-align:right;\\\">23</td> <td class=\\\"cell-2\\\" style=\\\"\\\">http://www.nationalgeographic.com/animals/invertebrates/group/box-jellyfish</td></tr>\\n<tr><td class=\\\"cell-1\\\" style=\\\"text-align:right;\\\">23</td> <td class=\\\"cell-2\\\" style=\\\"\\\">http://www.nationalgeographic.com/animals/mammals/p/platypus</td></tr>\\n<tr><td class=\\\"cell-1\\\" style=\\\"text-align:right;\\\">23</td> <td class=\\\"cell-2\\\" style=\\\"\\\">http://www.nationalgeographic.com/archaeology-and-history/archaeology/lost-city-petra</td></tr>\\n<tr><td class=\\\"cell-1\\\" style=\\\"text-align:right;\\\">23</td> <td class=\\\"cell-2\\\" style=\\\"\\\">http://www.nationalgeographic.com/travel/top-10/museum-galleries</td></tr>\\n<tr><td class=\\\"cell-1\\\" style=\\\"text-align:right;\\\">23</td> <td class=\\\"cell-2\\\" style=\\\"\\\">http://www.nationalgeographic.com/countryman</td></tr>\\n<tr><td class=\\\"cell-1\\\" style=\\\"text-align:right;\\\">23</td> <td class=\\\"cell-2\\\" style=\\\"\\\">http://www.nationalgeographic.com/adventure/lists/surfing/best-surf-towns-photos</td></tr>\\n<tr><td class=\\\"cell-1\\\" style=\\\"text-align:right;\\\">23</td> <td class=\\\"cell-2\\\" style=\\\"\\\">http://www.nationalgeographic.com/magazine/2017/07</td></tr>\\n<tr><td class=\\\"cell-1\\\" style=\\\"text-align:right;\\\">22</td> <td class=\\\"cell-2\\\" style=\\\"\\\">http://www.nationalgeographic.com/animals/invertebrates/c/camel-spider</td></tr>\\n<tr><td class=\\\"cell-1\\\" style=\\\"text-align:right;\\\">22</td> <td class=\\\"cell-2\\\" style=\\\"\\\">http://www.nationalgeographic.com/animals/invertebrates/p/praying-mantis</td></tr>\\n    </tbody>\\n\")"
      ]
     },
     "metadata": {},
     "output_type": "display_data"
    },
    {
     "data": {
      "text/html": [
       "    <table  class=\"dataframe-table\">\n",
       "    <thead><tr><th class=\"cell-1\" style=\"\">Views</th> <th class=\"cell-2\" style=\"\">Url - %</th></tr></thead>\n",
       "    <tbody>\n",
       "    <tr><td class=\"cell-1\" style=\"text-align:right;\">22</td> <td class=\"cell-2\" style=\"\">http://www.nationalgeographic.com/travel/best-trips/best-winter-trips-united-states</td></tr>\n",
       "<tr><td class=\"cell-1\" style=\"text-align:right;\">22</td> <td class=\"cell-2\" style=\"\">http://www.nationalgeographic.com/environment/global-warming/ozone-depletion</td></tr>\n",
       "<tr><td class=\"cell-1\" style=\"text-align:right;\">22</td> <td class=\"cell-2\" style=\"\">http://www.nationalgeographic.com/adventure/lists/national-parks/national-park-day-hikes</td></tr>\n",
       "<tr><td class=\"cell-1\" style=\"text-align:right;\">21</td> <td class=\"cell-2\" style=\"\">http://www.nationalgeographic.com/travel/destinations/europe/italy/ischia-things-to-do-italian-island</td></tr>\n",
       "<tr><td class=\"cell-1\" style=\"text-align:right;\">21</td> <td class=\"cell-2\" style=\"\">http://www.nationalgeographic.com/science/space/universe/origins-of-the-universe</td></tr>\n",
       "<tr><td class=\"cell-1\" style=\"text-align:right;\">21</td> <td class=\"cell-2\" style=\"\">http://www.nationalgeographic.com/magazine/2017/08/explore-space-suit-neil-armstrong-z-2</td></tr>\n",
       "<tr><td class=\"cell-1\" style=\"text-align:right;\">21</td> <td class=\"cell-2\" style=\"\">http://www.nationalgeographic.com/travel/countries/your-scandinavia-photos</td></tr>\n",
       "<tr><td class=\"cell-1\" style=\"text-align:right;\">21</td> <td class=\"cell-2\" style=\"\">http://www.nationalgeographic.com/magazine/2017/08/explore-space-radio-telescope-australia</td></tr>\n",
       "<tr><td class=\"cell-1\" style=\"text-align:right;\">21</td> <td class=\"cell-2\" style=\"\">http://www.nationalgeographic.com/travel/road-trips/olympic-peninsula-washington-road-trip</td></tr>\n",
       "<tr><td class=\"cell-1\" style=\"text-align:right;\">21</td> <td class=\"cell-2\" style=\"\">http://www.nationalgeographic.com/animals/mammals/b/bobcat</td></tr>\n",
       "<tr><td class=\"cell-1\" style=\"text-align:right;\">20</td> <td class=\"cell-2\" style=\"\">http://www.nationalgeographic.com/animals/mammals/o/orca</td></tr>\n",
       "<tr><td class=\"cell-1\" style=\"text-align:right;\">20</td> <td class=\"cell-2\" style=\"\">http://www.nationalgeographic.com/travel/destinations/north-america/united-states/civil-war-sites</td></tr>\n",
       "<tr><td class=\"cell-1\" style=\"text-align:right;\">20</td> <td class=\"cell-2\" style=\"\">http://www.nationalgeographic.com/animals/fish/b/bull-shark</td></tr>\n",
       "    \n",
       "    <tr><td class=\"cell-1\" style=\"text-align:right;\">20</td> <td class=\"cell-2\" style=\"\">http://www.nationalgeographic.com/animals/fish</td></tr>\n",
       "<tr><td class=\"cell-1\" style=\"text-align:right;\">20</td> <td class=\"cell-2\" style=\"\">http://www.nationalgeographic.com/archaeology-and-history/archaeology/giza-pyramids</td></tr>\n",
       "<tr><td class=\"cell-1\" style=\"text-align:right;\">20</td> <td class=\"cell-2\" style=\"\">http://www.nationalgeographic.com/magazine/2017/06/nodosaur-3d-interactive-dinosaur-fossil</td></tr>\n",
       "<tr><td class=\"cell-1\" style=\"text-align:right;\">20</td> <td class=\"cell-2\" style=\"\">http://www.nationalgeographic.com/photography/proof/2017/06/bird-gallery</td></tr>\n",
       "<tr><td class=\"cell-1\" style=\"text-align:right;\">20</td> <td class=\"cell-2\" style=\"\">http://www.nationalgeographic.com/magazine/plus/films</td></tr>\n",
       "<tr><td class=\"cell-1\" style=\"text-align:right;\">19</td> <td class=\"cell-2\" style=\"\">http://www.nationalgeographic.com/travel/destinations/north-america/mexico/top-10-things-to-do-in-mexico-city</td></tr>\n",
       "<tr><td class=\"cell-1\" style=\"text-align:right;\">19</td> <td class=\"cell-2\" style=\"\">http://www.nationalgeographic.com/travel/destinations/oceania/new-zealand/epic-beautiful-photos-landscapes</td></tr>\n",
       "<tr><td class=\"cell-1\" style=\"text-align:right;\">19</td> <td class=\"cell-2\" style=\"\">http://www.nationalgeographic.com/adventure/features/survival/lightning-safety-tips</td></tr>\n",
       "<tr><td class=\"cell-1\" style=\"text-align:right;\">19</td> <td class=\"cell-2\" style=\"\">http://www.nationalgeographic.com/animals/invertebrates/group/hornets</td></tr>\n",
       "<tr><td class=\"cell-1\" style=\"text-align:right;\">19</td> <td class=\"cell-2\" style=\"\">http://www.nationalgeographic.com/animals/mammals/a/african-lion</td></tr>\n",
       "<tr><td class=\"cell-1\" style=\"text-align:right;\">19</td> <td class=\"cell-2\" style=\"\">http://www.nationalgeographic.com/magazine/2017/03/dark-star-deepest-cave-climbing-uzbekistan</td></tr>\n",
       "<tr><td class=\"cell-1\" style=\"text-align:right;\">19</td> <td class=\"cell-2\" style=\"\">http://www.nationalgeographic.com/photography/photo-of-the-day/2017/07/blizzard-banff-canada</td></tr>\n",
       "    </tbody>\n"
      ],
      "text/plain": [
       "HTML{UTF8String}(\"    <table  class=\\\"dataframe-table\\\">\\n    <thead><tr><th class=\\\"cell-1\\\" style=\\\"\\\">Views</th> <th class=\\\"cell-2\\\" style=\\\"\\\">Url - %</th></tr></thead>\\n    <tbody>\\n    <tr><td class=\\\"cell-1\\\" style=\\\"text-align:right;\\\">22</td> <td class=\\\"cell-2\\\" style=\\\"\\\">http://www.nationalgeographic.com/travel/best-trips/best-winter-trips-united-states</td></tr>\\n<tr><td class=\\\"cell-1\\\" style=\\\"text-align:right;\\\">22</td> <td class=\\\"cell-2\\\" style=\\\"\\\">http://www.nationalgeographic.com/environment/global-warming/ozone-depletion</td></tr>\\n<tr><td class=\\\"cell-1\\\" style=\\\"text-align:right;\\\">22</td> <td class=\\\"cell-2\\\" style=\\\"\\\">http://www.nationalgeographic.com/adventure/lists/national-parks/national-park-day-hikes</td></tr>\\n<tr><td class=\\\"cell-1\\\" style=\\\"text-align:right;\\\">21</td> <td class=\\\"cell-2\\\" style=\\\"\\\">http://www.nationalgeographic.com/travel/destinations/europe/italy/ischia-things-to-do-italian-island</td></tr>\\n<tr><td class=\\\"cell-1\\\" style=\\\"text-align:right;\\\">21</td> <td class=\\\"cell-2\\\" style=\\\"\\\">http://www.nationalgeographic.com/science/space/universe/origins-of-the-universe</td></tr>\\n<tr><td class=\\\"cell-1\\\" style=\\\"text-align:right;\\\">21</td> <td class=\\\"cell-2\\\" style=\\\"\\\">http://www.nationalgeographic.com/magazine/2017/08/explore-space-suit-neil-armstrong-z-2</td></tr>\\n<tr><td class=\\\"cell-1\\\" style=\\\"text-align:right;\\\">21</td> <td class=\\\"cell-2\\\" style=\\\"\\\">http://www.nationalgeographic.com/travel/countries/your-scandinavia-photos</td></tr>\\n<tr><td class=\\\"cell-1\\\" style=\\\"text-align:right;\\\">21</td> <td class=\\\"cell-2\\\" style=\\\"\\\">http://www.nationalgeographic.com/magazine/2017/08/explore-space-radio-telescope-australia</td></tr>\\n<tr><td class=\\\"cell-1\\\" style=\\\"text-align:right;\\\">21</td> <td class=\\\"cell-2\\\" style=\\\"\\\">http://www.nationalgeographic.com/travel/road-trips/olympic-peninsula-washington-road-trip</td></tr>\\n<tr><td class=\\\"cell-1\\\" style=\\\"text-align:right;\\\">21</td> <td class=\\\"cell-2\\\" style=\\\"\\\">http://www.nationalgeographic.com/animals/mammals/b/bobcat</td></tr>\\n<tr><td class=\\\"cell-1\\\" style=\\\"text-align:right;\\\">20</td> <td class=\\\"cell-2\\\" style=\\\"\\\">http://www.nationalgeographic.com/animals/mammals/o/orca</td></tr>\\n<tr><td class=\\\"cell-1\\\" style=\\\"text-align:right;\\\">20</td> <td class=\\\"cell-2\\\" style=\\\"\\\">http://www.nationalgeographic.com/travel/destinations/north-america/united-states/civil-war-sites</td></tr>\\n<tr><td class=\\\"cell-1\\\" style=\\\"text-align:right;\\\">20</td> <td class=\\\"cell-2\\\" style=\\\"\\\">http://www.nationalgeographic.com/animals/fish/b/bull-shark</td></tr>\\n    \\n    <tr><td class=\\\"cell-1\\\" style=\\\"text-align:right;\\\">20</td> <td class=\\\"cell-2\\\" style=\\\"\\\">http://www.nationalgeographic.com/animals/fish</td></tr>\\n<tr><td class=\\\"cell-1\\\" style=\\\"text-align:right;\\\">20</td> <td class=\\\"cell-2\\\" style=\\\"\\\">http://www.nationalgeographic.com/archaeology-and-history/archaeology/giza-pyramids</td></tr>\\n<tr><td class=\\\"cell-1\\\" style=\\\"text-align:right;\\\">20</td> <td class=\\\"cell-2\\\" style=\\\"\\\">http://www.nationalgeographic.com/magazine/2017/06/nodosaur-3d-interactive-dinosaur-fossil</td></tr>\\n<tr><td class=\\\"cell-1\\\" style=\\\"text-align:right;\\\">20</td> <td class=\\\"cell-2\\\" style=\\\"\\\">http://www.nationalgeographic.com/photography/proof/2017/06/bird-gallery</td></tr>\\n<tr><td class=\\\"cell-1\\\" style=\\\"text-align:right;\\\">20</td> <td class=\\\"cell-2\\\" style=\\\"\\\">http://www.nationalgeographic.com/magazine/plus/films</td></tr>\\n<tr><td class=\\\"cell-1\\\" style=\\\"text-align:right;\\\">19</td> <td class=\\\"cell-2\\\" style=\\\"\\\">http://www.nationalgeographic.com/travel/destinations/north-america/mexico/top-10-things-to-do-in-mexico-city</td></tr>\\n<tr><td class=\\\"cell-1\\\" style=\\\"text-align:right;\\\">19</td> <td class=\\\"cell-2\\\" style=\\\"\\\">http://www.nationalgeographic.com/travel/destinations/oceania/new-zealand/epic-beautiful-photos-landscapes</td></tr>\\n<tr><td class=\\\"cell-1\\\" style=\\\"text-align:right;\\\">19</td> <td class=\\\"cell-2\\\" style=\\\"\\\">http://www.nationalgeographic.com/adventure/features/survival/lightning-safety-tips</td></tr>\\n<tr><td class=\\\"cell-1\\\" style=\\\"text-align:right;\\\">19</td> <td class=\\\"cell-2\\\" style=\\\"\\\">http://www.nationalgeographic.com/animals/invertebrates/group/hornets</td></tr>\\n<tr><td class=\\\"cell-1\\\" style=\\\"text-align:right;\\\">19</td> <td class=\\\"cell-2\\\" style=\\\"\\\">http://www.nationalgeographic.com/animals/mammals/a/african-lion</td></tr>\\n<tr><td class=\\\"cell-1\\\" style=\\\"text-align:right;\\\">19</td> <td class=\\\"cell-2\\\" style=\\\"\\\">http://www.nationalgeographic.com/magazine/2017/03/dark-star-deepest-cave-climbing-uzbekistan</td></tr>\\n<tr><td class=\\\"cell-1\\\" style=\\\"text-align:right;\\\">19</td> <td class=\\\"cell-2\\\" style=\\\"\\\">http://www.nationalgeographic.com/photography/photo-of-the-day/2017/07/blizzard-banff-canada</td></tr>\\n    </tbody>\\n\")"
      ]
     },
     "metadata": {},
     "output_type": "display_data"
    },
    {
     "data": {
      "text/html": [
       "    <table  class=\"dataframe-table\">\n",
       "    <thead><tr><th class=\"cell-1\" style=\"\">Views</th> <th class=\"cell-2\" style=\"\">Url - %</th></tr></thead>\n",
       "    <tbody>\n",
       "    <tr><td class=\"cell-1\" style=\"text-align:right;\">18</td> <td class=\"cell-2\" style=\"\">http://www.nationalgeographic.com/magazine/2017/01</td></tr>\n",
       "<tr><td class=\"cell-1\" style=\"text-align:right;\">18</td> <td class=\"cell-2\" style=\"\">http://www.nationalgeographic.com/environment/natural-disasters/tsunamis</td></tr>\n",
       "<tr><td class=\"cell-1\" style=\"text-align:right;\">18</td> <td class=\"cell-2\" style=\"\">http://www.nationalgeographic.com/photography/proof/2017/06/amazon-river-dams-displacement-indigenous-elkaim</td></tr>\n",
       "<tr><td class=\"cell-1\" style=\"text-align:right;\">18</td> <td class=\"cell-2\" style=\"\">http://www.nationalgeographic.com/photography/best-of-photo-of-the-day/2017/may</td></tr>\n",
       "<tr><td class=\"cell-1\" style=\"text-align:right;\">18</td> <td class=\"cell-2\" style=\"\">http://www.nationalgeographic.com/environment/global-warming/global-warming-real</td></tr>\n",
       "<tr><td class=\"cell-1\" style=\"text-align:right;\">18</td> <td class=\"cell-2\" style=\"\">http://www.nationalgeographic.com/environment/oceans</td></tr>\n",
       "<tr><td class=\"cell-1\" style=\"text-align:right;\">18</td> <td class=\"cell-2\" style=\"\">http://www.nationalgeographic.com/magazine/2017/07/the-science-of-hummingbirds</td></tr>\n",
       "<tr><td class=\"cell-1\" style=\"text-align:right;\">18</td> <td class=\"cell-2\" style=\"\">http://www.nationalgeographic.com/magazine/2017/06/lava-tubes-hawaii-caves</td></tr>\n",
       "<tr><td class=\"cell-1\" style=\"text-align:right;\">18</td> <td class=\"cell-2\" style=\"\">http://www.nationalgeographic.com/adventure/lists/national-parks/best-backpacking-trips-parks</td></tr>\n",
       "<tr><td class=\"cell-1\" style=\"text-align:right;\">18</td> <td class=\"cell-2\" style=\"\">http://www.nationalgeographic.com/foodfeatures/evolution-of-diet</td></tr>\n",
       "<tr><td class=\"cell-1\" style=\"text-align:right;\">17</td> <td class=\"cell-2\" style=\"\">http://www.nationalgeographic.com/photography/proof/2017/04/your-shot-unbelievable-landscapes</td></tr>\n",
       "<tr><td class=\"cell-1\" style=\"text-align:right;\">17</td> <td class=\"cell-2\" style=\"\">http://www.nationalgeographic.com/environment/natural-disasters/earthquakes</td></tr>\n",
       "<tr><td class=\"cell-1\" style=\"text-align:right;\">17</td> <td class=\"cell-2\" style=\"\">http://www.nationalgeographic.com/animals/invertebrates/m/monarch-butterfly</td></tr>\n",
       "    \n",
       "    <tr><td class=\"cell-1\" style=\"text-align:right;\">17</td> <td class=\"cell-2\" style=\"\">http://www.nationalgeographic.com/environment/natural-disasters/floods</td></tr>\n",
       "<tr><td class=\"cell-1\" style=\"text-align:right;\">17</td> <td class=\"cell-2\" style=\"\">http://www.nationalgeographic.com/adventure/features/athletes/alex-honnold/interview-rope-free-solo-climb-yosemite-el-ca...</td></tr>\n",
       "<tr><td class=\"cell-1\" style=\"text-align:right;\">17</td> <td class=\"cell-2\" style=\"\">http://www.nationalgeographic.com/animals/invertebrates/group/locusts</td></tr>\n",
       "<tr><td class=\"cell-1\" style=\"text-align:right;\">17</td> <td class=\"cell-2\" style=\"\">http://www.nationalgeographic.com/environment/natural-disasters/wildfires</td></tr>\n",
       "<tr><td class=\"cell-1\" style=\"text-align:right;\">17</td> <td class=\"cell-2\" style=\"\">http://www.nationalgeographic.com/animals/mammals/a/african-elephant</td></tr>\n",
       "<tr><td class=\"cell-1\" style=\"text-align:right;\">17</td> <td class=\"cell-2\" style=\"\">http://www.nationalgeographic.com/photography/photo-of-the-day/2017/07/singapore-gardens-clouds</td></tr>\n",
       "<tr><td class=\"cell-1\" style=\"text-align:right;\">17</td> <td class=\"cell-2\" style=\"\">http://www.nationalgeographic.com/travel/destinations</td></tr>\n",
       "<tr><td class=\"cell-1\" style=\"text-align:right;\">17</td> <td class=\"cell-2\" style=\"\">http://www.nationalgeographic.com/adventure/lists/biking/best-mountain-biking-towns</td></tr>\n",
       "<tr><td class=\"cell-1\" style=\"text-align:right;\">16</td> <td class=\"cell-2\" style=\"\">http://www.nationalgeographic.com/animals/invertebrates/group/starfish</td></tr>\n",
       "<tr><td class=\"cell-1\" style=\"text-align:right;\">16</td> <td class=\"cell-2\" style=\"\">http://www.nationalgeographic.com/animals/mammals/j/jaguar</td></tr>\n",
       "<tr><td class=\"cell-1\" style=\"text-align:right;\">16</td> <td class=\"cell-2\" style=\"\">http://www.nationalgeographic.com/photography/best-of-photo-of-the-day</td></tr>\n",
       "<tr><td class=\"cell-1\" style=\"text-align:right;\">16</td> <td class=\"cell-2\" style=\"\">http://www.nationalgeographic.com/animals/invertebrates/group/wasps</td></tr>\n",
       "    </tbody>\n"
      ],
      "text/plain": [
       "HTML{UTF8String}(\"    <table  class=\\\"dataframe-table\\\">\\n    <thead><tr><th class=\\\"cell-1\\\" style=\\\"\\\">Views</th> <th class=\\\"cell-2\\\" style=\\\"\\\">Url - %</th></tr></thead>\\n    <tbody>\\n    <tr><td class=\\\"cell-1\\\" style=\\\"text-align:right;\\\">18</td> <td class=\\\"cell-2\\\" style=\\\"\\\">http://www.nationalgeographic.com/magazine/2017/01</td></tr>\\n<tr><td class=\\\"cell-1\\\" style=\\\"text-align:right;\\\">18</td> <td class=\\\"cell-2\\\" style=\\\"\\\">http://www.nationalgeographic.com/environment/natural-disasters/tsunamis</td></tr>\\n<tr><td class=\\\"cell-1\\\" style=\\\"text-align:right;\\\">18</td> <td class=\\\"cell-2\\\" style=\\\"\\\">http://www.nationalgeographic.com/photography/proof/2017/06/amazon-river-dams-displacement-indigenous-elkaim</td></tr>\\n<tr><td class=\\\"cell-1\\\" style=\\\"text-align:right;\\\">18</td> <td class=\\\"cell-2\\\" style=\\\"\\\">http://www.nationalgeographic.com/photography/best-of-photo-of-the-day/2017/may</td></tr>\\n<tr><td class=\\\"cell-1\\\" style=\\\"text-align:right;\\\">18</td> <td class=\\\"cell-2\\\" style=\\\"\\\">http://www.nationalgeographic.com/environment/global-warming/global-warming-real</td></tr>\\n<tr><td class=\\\"cell-1\\\" style=\\\"text-align:right;\\\">18</td> <td class=\\\"cell-2\\\" style=\\\"\\\">http://www.nationalgeographic.com/environment/oceans</td></tr>\\n<tr><td class=\\\"cell-1\\\" style=\\\"text-align:right;\\\">18</td> <td class=\\\"cell-2\\\" style=\\\"\\\">http://www.nationalgeographic.com/magazine/2017/07/the-science-of-hummingbirds</td></tr>\\n<tr><td class=\\\"cell-1\\\" style=\\\"text-align:right;\\\">18</td> <td class=\\\"cell-2\\\" style=\\\"\\\">http://www.nationalgeographic.com/magazine/2017/06/lava-tubes-hawaii-caves</td></tr>\\n<tr><td class=\\\"cell-1\\\" style=\\\"text-align:right;\\\">18</td> <td class=\\\"cell-2\\\" style=\\\"\\\">http://www.nationalgeographic.com/adventure/lists/national-parks/best-backpacking-trips-parks</td></tr>\\n<tr><td class=\\\"cell-1\\\" style=\\\"text-align:right;\\\">18</td> <td class=\\\"cell-2\\\" style=\\\"\\\">http://www.nationalgeographic.com/foodfeatures/evolution-of-diet</td></tr>\\n<tr><td class=\\\"cell-1\\\" style=\\\"text-align:right;\\\">17</td> <td class=\\\"cell-2\\\" style=\\\"\\\">http://www.nationalgeographic.com/photography/proof/2017/04/your-shot-unbelievable-landscapes</td></tr>\\n<tr><td class=\\\"cell-1\\\" style=\\\"text-align:right;\\\">17</td> <td class=\\\"cell-2\\\" style=\\\"\\\">http://www.nationalgeographic.com/environment/natural-disasters/earthquakes</td></tr>\\n<tr><td class=\\\"cell-1\\\" style=\\\"text-align:right;\\\">17</td> <td class=\\\"cell-2\\\" style=\\\"\\\">http://www.nationalgeographic.com/animals/invertebrates/m/monarch-butterfly</td></tr>\\n    \\n    <tr><td class=\\\"cell-1\\\" style=\\\"text-align:right;\\\">17</td> <td class=\\\"cell-2\\\" style=\\\"\\\">http://www.nationalgeographic.com/environment/natural-disasters/floods</td></tr>\\n<tr><td class=\\\"cell-1\\\" style=\\\"text-align:right;\\\">17</td> <td class=\\\"cell-2\\\" style=\\\"\\\">http://www.nationalgeographic.com/adventure/features/athletes/alex-honnold/interview-rope-free-solo-climb-yosemite-el-ca...</td></tr>\\n<tr><td class=\\\"cell-1\\\" style=\\\"text-align:right;\\\">17</td> <td class=\\\"cell-2\\\" style=\\\"\\\">http://www.nationalgeographic.com/animals/invertebrates/group/locusts</td></tr>\\n<tr><td class=\\\"cell-1\\\" style=\\\"text-align:right;\\\">17</td> <td class=\\\"cell-2\\\" style=\\\"\\\">http://www.nationalgeographic.com/environment/natural-disasters/wildfires</td></tr>\\n<tr><td class=\\\"cell-1\\\" style=\\\"text-align:right;\\\">17</td> <td class=\\\"cell-2\\\" style=\\\"\\\">http://www.nationalgeographic.com/animals/mammals/a/african-elephant</td></tr>\\n<tr><td class=\\\"cell-1\\\" style=\\\"text-align:right;\\\">17</td> <td class=\\\"cell-2\\\" style=\\\"\\\">http://www.nationalgeographic.com/photography/photo-of-the-day/2017/07/singapore-gardens-clouds</td></tr>\\n<tr><td class=\\\"cell-1\\\" style=\\\"text-align:right;\\\">17</td> <td class=\\\"cell-2\\\" style=\\\"\\\">http://www.nationalgeographic.com/travel/destinations</td></tr>\\n<tr><td class=\\\"cell-1\\\" style=\\\"text-align:right;\\\">17</td> <td class=\\\"cell-2\\\" style=\\\"\\\">http://www.nationalgeographic.com/adventure/lists/biking/best-mountain-biking-towns</td></tr>\\n<tr><td class=\\\"cell-1\\\" style=\\\"text-align:right;\\\">16</td> <td class=\\\"cell-2\\\" style=\\\"\\\">http://www.nationalgeographic.com/animals/invertebrates/group/starfish</td></tr>\\n<tr><td class=\\\"cell-1\\\" style=\\\"text-align:right;\\\">16</td> <td class=\\\"cell-2\\\" style=\\\"\\\">http://www.nationalgeographic.com/animals/mammals/j/jaguar</td></tr>\\n<tr><td class=\\\"cell-1\\\" style=\\\"text-align:right;\\\">16</td> <td class=\\\"cell-2\\\" style=\\\"\\\">http://www.nationalgeographic.com/photography/best-of-photo-of-the-day</td></tr>\\n<tr><td class=\\\"cell-1\\\" style=\\\"text-align:right;\\\">16</td> <td class=\\\"cell-2\\\" style=\\\"\\\">http://www.nationalgeographic.com/animals/invertebrates/group/wasps</td></tr>\\n    </tbody>\\n\")"
      ]
     },
     "metadata": {},
     "output_type": "display_data"
    },
    {
     "data": {
      "text/html": [
       "    <table  class=\"dataframe-table\">\n",
       "    <thead><tr><th class=\"cell-1\" style=\"\">Views</th> <th class=\"cell-2\" style=\"\">Url - %</th></tr></thead>\n",
       "    <tbody>\n",
       "    <tr><td class=\"cell-1\" style=\"text-align:right;\">16</td> <td class=\"cell-2\" style=\"\">http://www.nationalgeographic.com/science/space/solar-system/earth</td></tr>\n",
       "<tr><td class=\"cell-1\" style=\"text-align:right;\">16</td> <td class=\"cell-2\" style=\"\">http://www.nationalgeographic.com/taking-back-detroit/see-detroit.html</td></tr>\n",
       "<tr><td class=\"cell-1\" style=\"text-align:right;\">16</td> <td class=\"cell-2\" style=\"\">http://www.nationalgeographic.com/travel/destinations/north-america/united-states/59-national-parks-photos</td></tr>\n",
       "<tr><td class=\"cell-1\" style=\"text-align:right;\">16</td> <td class=\"cell-2\" style=\"\">http://www.nationalgeographic.com/subscribe/semJ.html</td></tr>\n",
       "<tr><td class=\"cell-1\" style=\"text-align:right;\">16</td> <td class=\"cell-2\" style=\"\">http://www.nationalgeographic.com/animals/mammals/a/american-black-bear</td></tr>\n",
       "<tr><td class=\"cell-1\" style=\"text-align:right;\">16</td> <td class=\"cell-2\" style=\"\">http://www.nationalgeographic.com/travel/top-10/2016-worlds-happiest-countries</td></tr>\n",
       "<tr><td class=\"cell-1\" style=\"text-align:right;\">15</td> <td class=\"cell-2\" style=\"\">http://www.nationalgeographic.com/digitalaccess</td></tr>\n",
       "<tr><td class=\"cell-1\" style=\"text-align:right;\">15</td> <td class=\"cell-2\" style=\"\">http://www.nationalgeographic.com/animals/mammals/w/wolverine</td></tr>\n",
       "<tr><td class=\"cell-1\" style=\"text-align:right;\">15</td> <td class=\"cell-2\" style=\"\">http://www.nationalgeographic.com/photography/best-of-photo-of-the-day/2017/april</td></tr>\n",
       "<tr><td class=\"cell-1\" style=\"text-align:right;\">15</td> <td class=\"cell-2\" style=\"\">http://www.nationalgeographic.com/foodfeatures/feeding-9-billion</td></tr>\n",
       "<tr><td class=\"cell-1\" style=\"text-align:right;\">15</td> <td class=\"cell-2\" style=\"\">http://www.nationalgeographic.com/what-the-world-eats</td></tr>\n",
       "<tr><td class=\"cell-1\" style=\"text-align:right;\">15</td> <td class=\"cell-2\" style=\"\">http://www.nationalgeographic.com/animals/reptiles/k/komodo-dragon</td></tr>\n",
       "<tr><td class=\"cell-1\" style=\"text-align:right;\">15</td> <td class=\"cell-2\" style=\"\">http://www.nationalgeographic.com/photography/photographers</td></tr>\n",
       "    \n",
       "    <tr><td class=\"cell-1\" style=\"text-align:right;\">15</td> <td class=\"cell-2\" style=\"\">http://www.nationalgeographic.com/magazine/2017/05/akhenaten-revolutionary-egypt-king</td></tr>\n",
       "<tr><td class=\"cell-1\" style=\"text-align:right;\">15</td> <td class=\"cell-2\" style=\"\">http://www.nationalgeographic.com/archaeology-and-history/archaeology/ark-covenant</td></tr>\n",
       "<tr><td class=\"cell-1\" style=\"text-align:right;\">15</td> <td class=\"cell-2\" style=\"\">http://www.nationalgeographic.com/magazine/2016/02/evolution-of-eyes</td></tr>\n",
       "<tr><td class=\"cell-1\" style=\"text-align:right;\">15</td> <td class=\"cell-2\" style=\"\">http://www.nationalgeographic.com/magazine/2016/06/shark-species-family-tree-ocean-ecosystem-predator</td></tr>\n",
       "<tr><td class=\"cell-1\" style=\"text-align:right;\">15</td> <td class=\"cell-2\" style=\"\">http://www.nationalgeographic.com/archaeology-and-history/archaeology/nasca-lines</td></tr>\n",
       "<tr><td class=\"cell-1\" style=\"text-align:right;\">15</td> <td class=\"cell-2\" style=\"\">http://www.nationalgeographic.com/new-york-city-skyline-tallest-midtown-manhattan</td></tr>\n",
       "<tr><td class=\"cell-1\" style=\"text-align:right;\">15</td> <td class=\"cell-2\" style=\"\">http://www.nationalgeographic.com/environment/freshwater/water-conservation-tips</td></tr>\n",
       "<tr><td class=\"cell-1\" style=\"text-align:right;\">15</td> <td class=\"cell-2\" style=\"\">http://www.nationalgeographic.com/archaeology-and-history/archaeology/atlantis</td></tr>\n",
       "<tr><td class=\"cell-1\" style=\"text-align:right;\">14</td> <td class=\"cell-2\" style=\"\">http://www.nationalgeographic.com/animals/fish/n/nurse-shark</td></tr>\n",
       "<tr><td class=\"cell-1\" style=\"text-align:right;\">14</td> <td class=\"cell-2\" style=\"\">http://www.nationalgeographic.com/environment/global-warming/global-warming-causes</td></tr>\n",
       "<tr><td class=\"cell-1\" style=\"text-align:right;\">14</td> <td class=\"cell-2\" style=\"\">http://www.nationalgeographic.com/travel/destinations/europe/switzerland/switzerland-grand-tour/activities</td></tr>\n",
       "<tr><td class=\"cell-1\" style=\"text-align:right;\">14</td> <td class=\"cell-2\" style=\"\">http://www.nationalgeographic.com/animals/invertebrates/group/fireflies</td></tr>\n",
       "    </tbody>\n"
      ],
      "text/plain": [
       "HTML{UTF8String}(\"    <table  class=\\\"dataframe-table\\\">\\n    <thead><tr><th class=\\\"cell-1\\\" style=\\\"\\\">Views</th> <th class=\\\"cell-2\\\" style=\\\"\\\">Url - %</th></tr></thead>\\n    <tbody>\\n    <tr><td class=\\\"cell-1\\\" style=\\\"text-align:right;\\\">16</td> <td class=\\\"cell-2\\\" style=\\\"\\\">http://www.nationalgeographic.com/science/space/solar-system/earth</td></tr>\\n<tr><td class=\\\"cell-1\\\" style=\\\"text-align:right;\\\">16</td> <td class=\\\"cell-2\\\" style=\\\"\\\">http://www.nationalgeographic.com/taking-back-detroit/see-detroit.html</td></tr>\\n<tr><td class=\\\"cell-1\\\" style=\\\"text-align:right;\\\">16</td> <td class=\\\"cell-2\\\" style=\\\"\\\">http://www.nationalgeographic.com/travel/destinations/north-america/united-states/59-national-parks-photos</td></tr>\\n<tr><td class=\\\"cell-1\\\" style=\\\"text-align:right;\\\">16</td> <td class=\\\"cell-2\\\" style=\\\"\\\">http://www.nationalgeographic.com/subscribe/semJ.html</td></tr>\\n<tr><td class=\\\"cell-1\\\" style=\\\"text-align:right;\\\">16</td> <td class=\\\"cell-2\\\" style=\\\"\\\">http://www.nationalgeographic.com/animals/mammals/a/american-black-bear</td></tr>\\n<tr><td class=\\\"cell-1\\\" style=\\\"text-align:right;\\\">16</td> <td class=\\\"cell-2\\\" style=\\\"\\\">http://www.nationalgeographic.com/travel/top-10/2016-worlds-happiest-countries</td></tr>\\n<tr><td class=\\\"cell-1\\\" style=\\\"text-align:right;\\\">15</td> <td class=\\\"cell-2\\\" style=\\\"\\\">http://www.nationalgeographic.com/digitalaccess</td></tr>\\n<tr><td class=\\\"cell-1\\\" style=\\\"text-align:right;\\\">15</td> <td class=\\\"cell-2\\\" style=\\\"\\\">http://www.nationalgeographic.com/animals/mammals/w/wolverine</td></tr>\\n<tr><td class=\\\"cell-1\\\" style=\\\"text-align:right;\\\">15</td> <td class=\\\"cell-2\\\" style=\\\"\\\">http://www.nationalgeographic.com/photography/best-of-photo-of-the-day/2017/april</td></tr>\\n<tr><td class=\\\"cell-1\\\" style=\\\"text-align:right;\\\">15</td> <td class=\\\"cell-2\\\" style=\\\"\\\">http://www.nationalgeographic.com/foodfeatures/feeding-9-billion</td></tr>\\n<tr><td class=\\\"cell-1\\\" style=\\\"text-align:right;\\\">15</td> <td class=\\\"cell-2\\\" style=\\\"\\\">http://www.nationalgeographic.com/what-the-world-eats</td></tr>\\n<tr><td class=\\\"cell-1\\\" style=\\\"text-align:right;\\\">15</td> <td class=\\\"cell-2\\\" style=\\\"\\\">http://www.nationalgeographic.com/animals/reptiles/k/komodo-dragon</td></tr>\\n<tr><td class=\\\"cell-1\\\" style=\\\"text-align:right;\\\">15</td> <td class=\\\"cell-2\\\" style=\\\"\\\">http://www.nationalgeographic.com/photography/photographers</td></tr>\\n    \\n    <tr><td class=\\\"cell-1\\\" style=\\\"text-align:right;\\\">15</td> <td class=\\\"cell-2\\\" style=\\\"\\\">http://www.nationalgeographic.com/magazine/2017/05/akhenaten-revolutionary-egypt-king</td></tr>\\n<tr><td class=\\\"cell-1\\\" style=\\\"text-align:right;\\\">15</td> <td class=\\\"cell-2\\\" style=\\\"\\\">http://www.nationalgeographic.com/archaeology-and-history/archaeology/ark-covenant</td></tr>\\n<tr><td class=\\\"cell-1\\\" style=\\\"text-align:right;\\\">15</td> <td class=\\\"cell-2\\\" style=\\\"\\\">http://www.nationalgeographic.com/magazine/2016/02/evolution-of-eyes</td></tr>\\n<tr><td class=\\\"cell-1\\\" style=\\\"text-align:right;\\\">15</td> <td class=\\\"cell-2\\\" style=\\\"\\\">http://www.nationalgeographic.com/magazine/2016/06/shark-species-family-tree-ocean-ecosystem-predator</td></tr>\\n<tr><td class=\\\"cell-1\\\" style=\\\"text-align:right;\\\">15</td> <td class=\\\"cell-2\\\" style=\\\"\\\">http://www.nationalgeographic.com/archaeology-and-history/archaeology/nasca-lines</td></tr>\\n<tr><td class=\\\"cell-1\\\" style=\\\"text-align:right;\\\">15</td> <td class=\\\"cell-2\\\" style=\\\"\\\">http://www.nationalgeographic.com/new-york-city-skyline-tallest-midtown-manhattan</td></tr>\\n<tr><td class=\\\"cell-1\\\" style=\\\"text-align:right;\\\">15</td> <td class=\\\"cell-2\\\" style=\\\"\\\">http://www.nationalgeographic.com/environment/freshwater/water-conservation-tips</td></tr>\\n<tr><td class=\\\"cell-1\\\" style=\\\"text-align:right;\\\">15</td> <td class=\\\"cell-2\\\" style=\\\"\\\">http://www.nationalgeographic.com/archaeology-and-history/archaeology/atlantis</td></tr>\\n<tr><td class=\\\"cell-1\\\" style=\\\"text-align:right;\\\">14</td> <td class=\\\"cell-2\\\" style=\\\"\\\">http://www.nationalgeographic.com/animals/fish/n/nurse-shark</td></tr>\\n<tr><td class=\\\"cell-1\\\" style=\\\"text-align:right;\\\">14</td> <td class=\\\"cell-2\\\" style=\\\"\\\">http://www.nationalgeographic.com/environment/global-warming/global-warming-causes</td></tr>\\n<tr><td class=\\\"cell-1\\\" style=\\\"text-align:right;\\\">14</td> <td class=\\\"cell-2\\\" style=\\\"\\\">http://www.nationalgeographic.com/travel/destinations/europe/switzerland/switzerland-grand-tour/activities</td></tr>\\n<tr><td class=\\\"cell-1\\\" style=\\\"text-align:right;\\\">14</td> <td class=\\\"cell-2\\\" style=\\\"\\\">http://www.nationalgeographic.com/animals/invertebrates/group/fireflies</td></tr>\\n    </tbody>\\n\")"
      ]
     },
     "metadata": {},
     "output_type": "display_data"
    },
    {
     "data": {
      "text/html": [
       "    <table  class=\"dataframe-table\">\n",
       "    <thead><tr><th class=\"cell-1\" style=\"\">Views</th> <th class=\"cell-2\" style=\"\">Url - %</th></tr></thead>\n",
       "    <tbody>\n",
       "    <tr><td class=\"cell-1\" style=\"text-align:right;\">14</td> <td class=\"cell-2\" style=\"\">http://www.nationalgeographic.com/animals/mammals/g/gray-wolf</td></tr>\n",
       "<tr><td class=\"cell-1\" style=\"text-align:right;\">14</td> <td class=\"cell-2\" style=\"\">http://www.nationalgeographic.com/animals/birds/b/bald-eagle</td></tr>\n",
       "<tr><td class=\"cell-1\" style=\"text-align:right;\">14</td> <td class=\"cell-2\" style=\"\">http://www.nationalgeographic.com/science/space</td></tr>\n",
       "<tr><td class=\"cell-1\" style=\"text-align:right;\">14</td> <td class=\"cell-2\" style=\"\">http://www.nationalgeographic.com/animals/mammals/n/narwhal</td></tr>\n",
       "<tr><td class=\"cell-1\" style=\"text-align:right;\">14</td> <td class=\"cell-2\" style=\"\">http://www.nationalgeographic.com/animals/mammals/d/domestic-cat</td></tr>\n",
       "<tr><td class=\"cell-1\" style=\"text-align:right;\">14</td> <td class=\"cell-2\" style=\"\">http://www.nationalgeographic.com/animals/mammals/n/nutria</td></tr>\n",
       "<tr><td class=\"cell-1\" style=\"text-align:right;\">14</td> <td class=\"cell-2\" style=\"\">http://www.nationalgeographic.com/animals/reptiles/group/flying-snakes</td></tr>\n",
       "<tr><td class=\"cell-1\" style=\"text-align:right;\">14</td> <td class=\"cell-2\" style=\"\">http://www.nationalgeographic.com/animals/mammals/c/coyote</td></tr>\n",
       "<tr><td class=\"cell-1\" style=\"text-align:right;\">14</td> <td class=\"cell-2\" style=\"\">http://www.nationalgeographic.com/environment/global-warming/solar-power</td></tr>\n",
       "<tr><td class=\"cell-1\" style=\"text-align:right;\">14</td> <td class=\"cell-2\" style=\"\">http://www.nationalgeographic.com/environment/habitats/sustainable-agriculture</td></tr>\n",
       "<tr><td class=\"cell-1\" style=\"text-align:right;\">14</td> <td class=\"cell-2\" style=\"\">http://www.nationalgeographic.com/adventure/trips/americas-best-adventures</td></tr>\n",
       "<tr><td class=\"cell-1\" style=\"text-align:right;\">14</td> <td class=\"cell-2\" style=\"\">http://www.nationalgeographic.com/science/space/dark-matter</td></tr>\n",
       "<tr><td class=\"cell-1\" style=\"text-align:right;\">14</td> <td class=\"cell-2\" style=\"\">http://www.nationalgeographic.com/environment/habitats/deserts</td></tr>\n",
       "    \n",
       "    <tr><td class=\"cell-1\" style=\"text-align:right;\">13</td> <td class=\"cell-2\" style=\"\">http://www.nationalgeographic.com/animals/fish/group/seahorses</td></tr>\n",
       "<tr><td class=\"cell-1\" style=\"text-align:right;\">13</td> <td class=\"cell-2\" style=\"\">http://www.nationalgeographic.com/photography/proof/2017/06/under-antarctica-behind-scenes-photo</td></tr>\n",
       "<tr><td class=\"cell-1\" style=\"text-align:right;\">13</td> <td class=\"cell-2\" style=\"\">http://www.nationalgeographic.com/photography/proof/2017/06/giraffe-radio-collar-solar-tracker</td></tr>\n",
       "<tr><td class=\"cell-1\" style=\"text-align:right;\">13</td> <td class=\"cell-2\" style=\"\">http://www.nationalgeographic.com/travel/features/best-trips/best-summer-trips-2017</td></tr>\n",
       "<tr><td class=\"cell-1\" style=\"text-align:right;\">13</td> <td class=\"cell-2\" style=\"\">http://www.nationalgeographic.com/photography/proof/2017/05/shark-photographs-alphabet</td></tr>\n",
       "<tr><td class=\"cell-1\" style=\"text-align:right;\">13</td> <td class=\"cell-2\" style=\"\">http://www.nationalgeographic.com/animals/fish/group/stingrays</td></tr>\n",
       "<tr><td class=\"cell-1\" style=\"text-align:right;\">13</td> <td class=\"cell-2\" style=\"\">http://www.nationalgeographic.com/science/space/universe/galaxies</td></tr>\n",
       "<tr><td class=\"cell-1\" style=\"text-align:right;\">13</td> <td class=\"cell-2\" style=\"\">http://www.nationalgeographic.com/travel/destinations/asia/turkey</td></tr>\n",
       "<tr><td class=\"cell-1\" style=\"text-align:right;\">13</td> <td class=\"cell-2\" style=\"\">http://www.nationalgeographic.com/travel/destinations/north-america/canada/quebec/quebec-city-three-day-itinerary-plan</td></tr>\n",
       "<tr><td class=\"cell-1\" style=\"text-align:right;\">13</td> <td class=\"cell-2\" style=\"\">http://www.nationalgeographic.com/power-of-parks</td></tr>\n",
       "<tr><td class=\"cell-1\" style=\"text-align:right;\">13</td> <td class=\"cell-2\" style=\"\">http://www.nationalgeographic.com/environment/natural-disasters/earthquake-safety-tips</td></tr>\n",
       "<tr><td class=\"cell-1\" style=\"text-align:right;\">13</td> <td class=\"cell-2\" style=\"\">http://www.nationalgeographic.com/science/health-and-human-body/human-body/brain</td></tr>\n",
       "    </tbody>\n"
      ],
      "text/plain": [
       "HTML{UTF8String}(\"    <table  class=\\\"dataframe-table\\\">\\n    <thead><tr><th class=\\\"cell-1\\\" style=\\\"\\\">Views</th> <th class=\\\"cell-2\\\" style=\\\"\\\">Url - %</th></tr></thead>\\n    <tbody>\\n    <tr><td class=\\\"cell-1\\\" style=\\\"text-align:right;\\\">14</td> <td class=\\\"cell-2\\\" style=\\\"\\\">http://www.nationalgeographic.com/animals/mammals/g/gray-wolf</td></tr>\\n<tr><td class=\\\"cell-1\\\" style=\\\"text-align:right;\\\">14</td> <td class=\\\"cell-2\\\" style=\\\"\\\">http://www.nationalgeographic.com/animals/birds/b/bald-eagle</td></tr>\\n<tr><td class=\\\"cell-1\\\" style=\\\"text-align:right;\\\">14</td> <td class=\\\"cell-2\\\" style=\\\"\\\">http://www.nationalgeographic.com/science/space</td></tr>\\n<tr><td class=\\\"cell-1\\\" style=\\\"text-align:right;\\\">14</td> <td class=\\\"cell-2\\\" style=\\\"\\\">http://www.nationalgeographic.com/animals/mammals/n/narwhal</td></tr>\\n<tr><td class=\\\"cell-1\\\" style=\\\"text-align:right;\\\">14</td> <td class=\\\"cell-2\\\" style=\\\"\\\">http://www.nationalgeographic.com/animals/mammals/d/domestic-cat</td></tr>\\n<tr><td class=\\\"cell-1\\\" style=\\\"text-align:right;\\\">14</td> <td class=\\\"cell-2\\\" style=\\\"\\\">http://www.nationalgeographic.com/animals/mammals/n/nutria</td></tr>\\n<tr><td class=\\\"cell-1\\\" style=\\\"text-align:right;\\\">14</td> <td class=\\\"cell-2\\\" style=\\\"\\\">http://www.nationalgeographic.com/animals/reptiles/group/flying-snakes</td></tr>\\n<tr><td class=\\\"cell-1\\\" style=\\\"text-align:right;\\\">14</td> <td class=\\\"cell-2\\\" style=\\\"\\\">http://www.nationalgeographic.com/animals/mammals/c/coyote</td></tr>\\n<tr><td class=\\\"cell-1\\\" style=\\\"text-align:right;\\\">14</td> <td class=\\\"cell-2\\\" style=\\\"\\\">http://www.nationalgeographic.com/environment/global-warming/solar-power</td></tr>\\n<tr><td class=\\\"cell-1\\\" style=\\\"text-align:right;\\\">14</td> <td class=\\\"cell-2\\\" style=\\\"\\\">http://www.nationalgeographic.com/environment/habitats/sustainable-agriculture</td></tr>\\n<tr><td class=\\\"cell-1\\\" style=\\\"text-align:right;\\\">14</td> <td class=\\\"cell-2\\\" style=\\\"\\\">http://www.nationalgeographic.com/adventure/trips/americas-best-adventures</td></tr>\\n<tr><td class=\\\"cell-1\\\" style=\\\"text-align:right;\\\">14</td> <td class=\\\"cell-2\\\" style=\\\"\\\">http://www.nationalgeographic.com/science/space/dark-matter</td></tr>\\n<tr><td class=\\\"cell-1\\\" style=\\\"text-align:right;\\\">14</td> <td class=\\\"cell-2\\\" style=\\\"\\\">http://www.nationalgeographic.com/environment/habitats/deserts</td></tr>\\n    \\n    <tr><td class=\\\"cell-1\\\" style=\\\"text-align:right;\\\">13</td> <td class=\\\"cell-2\\\" style=\\\"\\\">http://www.nationalgeographic.com/animals/fish/group/seahorses</td></tr>\\n<tr><td class=\\\"cell-1\\\" style=\\\"text-align:right;\\\">13</td> <td class=\\\"cell-2\\\" style=\\\"\\\">http://www.nationalgeographic.com/photography/proof/2017/06/under-antarctica-behind-scenes-photo</td></tr>\\n<tr><td class=\\\"cell-1\\\" style=\\\"text-align:right;\\\">13</td> <td class=\\\"cell-2\\\" style=\\\"\\\">http://www.nationalgeographic.com/photography/proof/2017/06/giraffe-radio-collar-solar-tracker</td></tr>\\n<tr><td class=\\\"cell-1\\\" style=\\\"text-align:right;\\\">13</td> <td class=\\\"cell-2\\\" style=\\\"\\\">http://www.nationalgeographic.com/travel/features/best-trips/best-summer-trips-2017</td></tr>\\n<tr><td class=\\\"cell-1\\\" style=\\\"text-align:right;\\\">13</td> <td class=\\\"cell-2\\\" style=\\\"\\\">http://www.nationalgeographic.com/photography/proof/2017/05/shark-photographs-alphabet</td></tr>\\n<tr><td class=\\\"cell-1\\\" style=\\\"text-align:right;\\\">13</td> <td class=\\\"cell-2\\\" style=\\\"\\\">http://www.nationalgeographic.com/animals/fish/group/stingrays</td></tr>\\n<tr><td class=\\\"cell-1\\\" style=\\\"text-align:right;\\\">13</td> <td class=\\\"cell-2\\\" style=\\\"\\\">http://www.nationalgeographic.com/science/space/universe/galaxies</td></tr>\\n<tr><td class=\\\"cell-1\\\" style=\\\"text-align:right;\\\">13</td> <td class=\\\"cell-2\\\" style=\\\"\\\">http://www.nationalgeographic.com/travel/destinations/asia/turkey</td></tr>\\n<tr><td class=\\\"cell-1\\\" style=\\\"text-align:right;\\\">13</td> <td class=\\\"cell-2\\\" style=\\\"\\\">http://www.nationalgeographic.com/travel/destinations/north-america/canada/quebec/quebec-city-three-day-itinerary-plan</td></tr>\\n<tr><td class=\\\"cell-1\\\" style=\\\"text-align:right;\\\">13</td> <td class=\\\"cell-2\\\" style=\\\"\\\">http://www.nationalgeographic.com/power-of-parks</td></tr>\\n<tr><td class=\\\"cell-1\\\" style=\\\"text-align:right;\\\">13</td> <td class=\\\"cell-2\\\" style=\\\"\\\">http://www.nationalgeographic.com/environment/natural-disasters/earthquake-safety-tips</td></tr>\\n<tr><td class=\\\"cell-1\\\" style=\\\"text-align:right;\\\">13</td> <td class=\\\"cell-2\\\" style=\\\"\\\">http://www.nationalgeographic.com/science/health-and-human-body/human-body/brain</td></tr>\\n    </tbody>\\n\")"
      ]
     },
     "metadata": {},
     "output_type": "display_data"
    },
    {
     "data": {
      "text/html": [
       "    <table  class=\"dataframe-table\">\n",
       "    <thead><tr><th class=\"cell-1\" style=\"\">Views</th> <th class=\"cell-2\" style=\"\">Url - %</th></tr></thead>\n",
       "    <tbody>\n",
       "    <tr><td class=\"cell-1\" style=\"text-align:right;\">13</td> <td class=\"cell-2\" style=\"\">http://www.nationalgeographic.com/animals/mammals/a/aardvark</td></tr>\n",
       "<tr><td class=\"cell-1\" style=\"text-align:right;\">13</td> <td class=\"cell-2\" style=\"\">http://www.nationalgeographic.com/travel/destinations/north-america/united-states/florida/miami</td></tr>\n",
       "<tr><td class=\"cell-1\" style=\"text-align:right;\">13</td> <td class=\"cell-2\" style=\"\">http://www.nationalgeographic.com/animals/invertebrates/g/giant-squid</td></tr>\n",
       "<tr><td class=\"cell-1\" style=\"text-align:right;\">13</td> <td class=\"cell-2\" style=\"\">http://www.nationalgeographic.com/animals/mammals/w/white-tailed-deer</td></tr>\n",
       "<tr><td class=\"cell-1\" style=\"text-align:right;\">13</td> <td class=\"cell-2\" style=\"\">http://www.nationalgeographic.com/magazine/2017/07/making-of-a-massacre-mexico</td></tr>\n",
       "<tr><td class=\"cell-1\" style=\"text-align:right;\">13</td> <td class=\"cell-2\" style=\"\">http://www.nationalgeographic.com/magazine/2017/04/evolution-genetics-medicine-brain-technology-cyborg</td></tr>\n",
       "<tr><td class=\"cell-1\" style=\"text-align:right;\">13</td> <td class=\"cell-2\" style=\"\">http://www.nationalgeographic.com/magazine/2015/06/marijuana-science-drug-research-legality</td></tr>\n",
       "<tr><td class=\"cell-1\" style=\"text-align:right;\">13</td> <td class=\"cell-2\" style=\"\">http://www.nationalgeographic.com/community/privacy.html</td></tr>\n",
       "<tr><td class=\"cell-1\" style=\"text-align:right;\">13</td> <td class=\"cell-2\" style=\"\">http://www.nationalgeographic.com/animals/invertebrates/group/stick-insects</td></tr>\n",
       "<tr><td class=\"cell-1\" style=\"text-align:right;\">13</td> <td class=\"cell-2\" style=\"\">http://www.nationalgeographic.com/animals/mammals/m/moose</td></tr>\n",
       "<tr><td class=\"cell-1\" style=\"text-align:right;\">13</td> <td class=\"cell-2\" style=\"\">http://www.nationalgeographic.com/photography/photos/prints-photo-galleries</td></tr>\n",
       "<tr><td class=\"cell-1\" style=\"text-align:right;\">13</td> <td class=\"cell-2\" style=\"\">http://www.nationalgeographic.com/travel/road-trips/united-states/utah-national-parks</td></tr>\n",
       "<tr><td class=\"cell-1\" style=\"text-align:right;\">13</td> <td class=\"cell-2\" style=\"\">http://www.nationalgeographic.com/magazine/2017/06</td></tr>\n",
       "    \n",
       "    <tr><td class=\"cell-1\" style=\"text-align:right;\">12</td> <td class=\"cell-2\" style=\"\">http://www.nationalgeographic.com/travel/top-10/things-to-do-in-japan</td></tr>\n",
       "<tr><td class=\"cell-1\" style=\"text-align:right;\">12</td> <td class=\"cell-2\" style=\"\">http://www.nationalgeographic.com/photography/proof/2017/07/walden-pond-henry-david-thoreau</td></tr>\n",
       "<tr><td class=\"cell-1\" style=\"text-align:right;\">12</td> <td class=\"cell-2\" style=\"\">http://www.nationalgeographic.com/travel/lists/2017-new-unesco-world-heritage-sites</td></tr>\n",
       "<tr><td class=\"cell-1\" style=\"text-align:right;\">12</td> <td class=\"cell-2\" style=\"\">http://www.nationalgeographic.com/games/puzzles-quizzes</td></tr>\n",
       "<tr><td class=\"cell-1\" style=\"text-align:right;\">12</td> <td class=\"cell-2\" style=\"\">http://www.nationalgeographic.com/animals/mammals/group/armadillos</td></tr>\n",
       "<tr><td class=\"cell-1\" style=\"text-align:right;\">12</td> <td class=\"cell-2\" style=\"\">http://www.nationalgeographic.com/photography/proof/2017/04/earth-day-pictures-wildlife</td></tr>\n",
       "<tr><td class=\"cell-1\" style=\"text-align:right;\">12</td> <td class=\"cell-2\" style=\"\">http://www.nationalgeographic.com/travel/lists/seasonal/11-incredible-swimming-pools-around-the-world</td></tr>\n",
       "<tr><td class=\"cell-1\" style=\"text-align:right;\">12</td> <td class=\"cell-2\" style=\"\">http://www.nationalgeographic.com/photography/photo-of-the-day/2017/07/park-hong-kong-apartments</td></tr>\n",
       "<tr><td class=\"cell-1\" style=\"text-align:right;\">12</td> <td class=\"cell-2\" style=\"\">http://www.nationalgeographic.com/travel/road-trips/black-hills-south-dakota-road-trip</td></tr>\n",
       "<tr><td class=\"cell-1\" style=\"text-align:right;\">12</td> <td class=\"cell-2\" style=\"\">http://www.nationalgeographic.com/travel/destinations/north-america/canada/alberta/alberta-rocky-mountains-epic-road-tri...</td></tr>\n",
       "<tr><td class=\"cell-1\" style=\"text-align:right;\">12</td> <td class=\"cell-2\" style=\"\">http://www.nationalgeographic.com/photography/photo-tips/iphone-photography-tips</td></tr>\n",
       "<tr><td class=\"cell-1\" style=\"text-align:right;\">12</td> <td class=\"cell-2\" style=\"\">http://www.nationalgeographic.com/animals/mammals/c/cheetah</td></tr>\n",
       "    </tbody>\n"
      ],
      "text/plain": [
       "HTML{UTF8String}(\"    <table  class=\\\"dataframe-table\\\">\\n    <thead><tr><th class=\\\"cell-1\\\" style=\\\"\\\">Views</th> <th class=\\\"cell-2\\\" style=\\\"\\\">Url - %</th></tr></thead>\\n    <tbody>\\n    <tr><td class=\\\"cell-1\\\" style=\\\"text-align:right;\\\">13</td> <td class=\\\"cell-2\\\" style=\\\"\\\">http://www.nationalgeographic.com/animals/mammals/a/aardvark</td></tr>\\n<tr><td class=\\\"cell-1\\\" style=\\\"text-align:right;\\\">13</td> <td class=\\\"cell-2\\\" style=\\\"\\\">http://www.nationalgeographic.com/travel/destinations/north-america/united-states/florida/miami</td></tr>\\n<tr><td class=\\\"cell-1\\\" style=\\\"text-align:right;\\\">13</td> <td class=\\\"cell-2\\\" style=\\\"\\\">http://www.nationalgeographic.com/animals/invertebrates/g/giant-squid</td></tr>\\n<tr><td class=\\\"cell-1\\\" style=\\\"text-align:right;\\\">13</td> <td class=\\\"cell-2\\\" style=\\\"\\\">http://www.nationalgeographic.com/animals/mammals/w/white-tailed-deer</td></tr>\\n<tr><td class=\\\"cell-1\\\" style=\\\"text-align:right;\\\">13</td> <td class=\\\"cell-2\\\" style=\\\"\\\">http://www.nationalgeographic.com/magazine/2017/07/making-of-a-massacre-mexico</td></tr>\\n<tr><td class=\\\"cell-1\\\" style=\\\"text-align:right;\\\">13</td> <td class=\\\"cell-2\\\" style=\\\"\\\">http://www.nationalgeographic.com/magazine/2017/04/evolution-genetics-medicine-brain-technology-cyborg</td></tr>\\n<tr><td class=\\\"cell-1\\\" style=\\\"text-align:right;\\\">13</td> <td class=\\\"cell-2\\\" style=\\\"\\\">http://www.nationalgeographic.com/magazine/2015/06/marijuana-science-drug-research-legality</td></tr>\\n<tr><td class=\\\"cell-1\\\" style=\\\"text-align:right;\\\">13</td> <td class=\\\"cell-2\\\" style=\\\"\\\">http://www.nationalgeographic.com/community/privacy.html</td></tr>\\n<tr><td class=\\\"cell-1\\\" style=\\\"text-align:right;\\\">13</td> <td class=\\\"cell-2\\\" style=\\\"\\\">http://www.nationalgeographic.com/animals/invertebrates/group/stick-insects</td></tr>\\n<tr><td class=\\\"cell-1\\\" style=\\\"text-align:right;\\\">13</td> <td class=\\\"cell-2\\\" style=\\\"\\\">http://www.nationalgeographic.com/animals/mammals/m/moose</td></tr>\\n<tr><td class=\\\"cell-1\\\" style=\\\"text-align:right;\\\">13</td> <td class=\\\"cell-2\\\" style=\\\"\\\">http://www.nationalgeographic.com/photography/photos/prints-photo-galleries</td></tr>\\n<tr><td class=\\\"cell-1\\\" style=\\\"text-align:right;\\\">13</td> <td class=\\\"cell-2\\\" style=\\\"\\\">http://www.nationalgeographic.com/travel/road-trips/united-states/utah-national-parks</td></tr>\\n<tr><td class=\\\"cell-1\\\" style=\\\"text-align:right;\\\">13</td> <td class=\\\"cell-2\\\" style=\\\"\\\">http://www.nationalgeographic.com/magazine/2017/06</td></tr>\\n    \\n    <tr><td class=\\\"cell-1\\\" style=\\\"text-align:right;\\\">12</td> <td class=\\\"cell-2\\\" style=\\\"\\\">http://www.nationalgeographic.com/travel/top-10/things-to-do-in-japan</td></tr>\\n<tr><td class=\\\"cell-1\\\" style=\\\"text-align:right;\\\">12</td> <td class=\\\"cell-2\\\" style=\\\"\\\">http://www.nationalgeographic.com/photography/proof/2017/07/walden-pond-henry-david-thoreau</td></tr>\\n<tr><td class=\\\"cell-1\\\" style=\\\"text-align:right;\\\">12</td> <td class=\\\"cell-2\\\" style=\\\"\\\">http://www.nationalgeographic.com/travel/lists/2017-new-unesco-world-heritage-sites</td></tr>\\n<tr><td class=\\\"cell-1\\\" style=\\\"text-align:right;\\\">12</td> <td class=\\\"cell-2\\\" style=\\\"\\\">http://www.nationalgeographic.com/games/puzzles-quizzes</td></tr>\\n<tr><td class=\\\"cell-1\\\" style=\\\"text-align:right;\\\">12</td> <td class=\\\"cell-2\\\" style=\\\"\\\">http://www.nationalgeographic.com/animals/mammals/group/armadillos</td></tr>\\n<tr><td class=\\\"cell-1\\\" style=\\\"text-align:right;\\\">12</td> <td class=\\\"cell-2\\\" style=\\\"\\\">http://www.nationalgeographic.com/photography/proof/2017/04/earth-day-pictures-wildlife</td></tr>\\n<tr><td class=\\\"cell-1\\\" style=\\\"text-align:right;\\\">12</td> <td class=\\\"cell-2\\\" style=\\\"\\\">http://www.nationalgeographic.com/travel/lists/seasonal/11-incredible-swimming-pools-around-the-world</td></tr>\\n<tr><td class=\\\"cell-1\\\" style=\\\"text-align:right;\\\">12</td> <td class=\\\"cell-2\\\" style=\\\"\\\">http://www.nationalgeographic.com/photography/photo-of-the-day/2017/07/park-hong-kong-apartments</td></tr>\\n<tr><td class=\\\"cell-1\\\" style=\\\"text-align:right;\\\">12</td> <td class=\\\"cell-2\\\" style=\\\"\\\">http://www.nationalgeographic.com/travel/road-trips/black-hills-south-dakota-road-trip</td></tr>\\n<tr><td class=\\\"cell-1\\\" style=\\\"text-align:right;\\\">12</td> <td class=\\\"cell-2\\\" style=\\\"\\\">http://www.nationalgeographic.com/travel/destinations/north-america/canada/alberta/alberta-rocky-mountains-epic-road-tri...</td></tr>\\n<tr><td class=\\\"cell-1\\\" style=\\\"text-align:right;\\\">12</td> <td class=\\\"cell-2\\\" style=\\\"\\\">http://www.nationalgeographic.com/photography/photo-tips/iphone-photography-tips</td></tr>\\n<tr><td class=\\\"cell-1\\\" style=\\\"text-align:right;\\\">12</td> <td class=\\\"cell-2\\\" style=\\\"\\\">http://www.nationalgeographic.com/animals/mammals/c/cheetah</td></tr>\\n    </tbody>\\n\")"
      ]
     },
     "metadata": {},
     "output_type": "display_data"
    },
    {
     "data": {
      "text/html": [
       "    <table  class=\"dataframe-table\">\n",
       "    <thead><tr><th class=\"cell-1\" style=\"\">Views</th> <th class=\"cell-2\" style=\"\">Url - %</th></tr></thead>\n",
       "    <tbody>\n",
       "    <tr><td class=\"cell-1\" style=\"text-align:right;\">12</td> <td class=\"cell-2\" style=\"\">http://www.nationalgeographic.com/environment/natural-disasters/volcanoes</td></tr>\n",
       "<tr><td class=\"cell-1\" style=\"text-align:right;\">12</td> <td class=\"cell-2\" style=\"\">http://www.nationalgeographic.com/travel/destinations/north-america/canada/quebec/quebec-road-trip-drive-loop-montreal-q...</td></tr>\n",
       "<tr><td class=\"cell-1\" style=\"text-align:right;\">12</td> <td class=\"cell-2\" style=\"\">http://www.nationalgeographic.com/animals/fish/group/anglerfish</td></tr>\n",
       "<tr><td class=\"cell-1\" style=\"text-align:right;\">12</td> <td class=\"cell-2\" style=\"\">http://www.nationalgeographic.com/animals/fish/g/great-white-shark</td></tr>\n",
       "<tr><td class=\"cell-1\" style=\"text-align:right;\">12</td> <td class=\"cell-2\" style=\"\">http://www.nationalgeographic.com/archaeology-and-history/archaeology/el-dorado</td></tr>\n",
       "<tr><td class=\"cell-1\" style=\"text-align:right;\">12</td> <td class=\"cell-2\" style=\"\">http://www.nationalgeographic.com/magazine/2017/05</td></tr>\n",
       "<tr><td class=\"cell-1\" style=\"text-align:right;\">12</td> <td class=\"cell-2\" style=\"\">http://www.nationalgeographic.com/animals/mammals/group/chipmunks</td></tr>\n",
       "<tr><td class=\"cell-1\" style=\"text-align:right;\">12</td> <td class=\"cell-2\" style=\"\">http://www.nationalgeographic.com/adventure/lists/hiking-backpacking/worlds-best-grail-trails</td></tr>\n",
       "<tr><td class=\"cell-1\" style=\"text-align:right;\">12</td> <td class=\"cell-2\" style=\"\">http://www.nationalgeographic.com/animals/reptiles/b/black-mamba</td></tr>\n",
       "<tr><td class=\"cell-1\" style=\"text-align:right;\">12</td> <td class=\"cell-2\" style=\"\">http://www.nationalgeographic.com/animals/mammals/s/siberian-tiger</td></tr>\n",
       "<tr><td class=\"cell-1\" style=\"text-align:right;\">12</td> <td class=\"cell-2\" style=\"\">http://www.nationalgeographic.com/travel/destinations/europe/france/the-best-unesco-world-heritage-sites-in-france-borde...</td></tr>\n",
       "<tr><td class=\"cell-1\" style=\"text-align:right;\">12</td> <td class=\"cell-2\" style=\"\">http://www.nationalgeographic.com/animals/fish/group/pufferfish</td></tr>\n",
       "<tr><td class=\"cell-1\" style=\"text-align:right;\">12</td> <td class=\"cell-2\" style=\"\">http://www.nationalgeographic.com/travel/road-trips/ozarks-arkansas-road-trip</td></tr>\n",
       "    \n",
       "    <tr><td class=\"cell-1\" style=\"text-align:right;\">12</td> <td class=\"cell-2\" style=\"\">http://www.nationalgeographic.com/science/earth/earths-atmosphere/clouds</td></tr>\n",
       "<tr><td class=\"cell-1\" style=\"text-align:right;\">11</td> <td class=\"cell-2\" style=\"\">http://www.nationalgeographic.com/video/shorts/why-is-this-field-full-of-huge-presidents</td></tr>\n",
       "<tr><td class=\"cell-1\" style=\"text-align:right;\">11</td> <td class=\"cell-2\" style=\"\">http://www.nationalgeographic.com/animals/invertebrates/group/ants</td></tr>\n",
       "<tr><td class=\"cell-1\" style=\"text-align:right;\">11</td> <td class=\"cell-2\" style=\"\">http://www.nationalgeographic.com/travel/destinations/europe/italy/venice</td></tr>\n",
       "<tr><td class=\"cell-1\" style=\"text-align:right;\">11</td> <td class=\"cell-2\" style=\"\">http://www.nationalgeographic.com/photography/proof/2017/05/best-travel-photographer-contest</td></tr>\n",
       "<tr><td class=\"cell-1\" style=\"text-align:right;\">11</td> <td class=\"cell-2\" style=\"\">http://www.nationalgeographic.com/travel/destinations/europe/italy/venice/activities-to-do-kayaking</td></tr>\n",
       "<tr><td class=\"cell-1\" style=\"text-align:right;\">11</td> <td class=\"cell-2\" style=\"\">http://www.nationalgeographic.com/magazine/2017/08</td></tr>\n",
       "<tr><td class=\"cell-1\" style=\"text-align:right;\">11</td> <td class=\"cell-2\" style=\"\">http://www.nationalgeographic.com/magazine/2017/01/children-explain-how-gender-affects-their-lives</td></tr>\n",
       "<tr><td class=\"cell-1\" style=\"text-align:right;\">11</td> <td class=\"cell-2\" style=\"\">http://www.nationalgeographic.com/photography/photo-tips/macro-photo-tips</td></tr>\n",
       "<tr><td class=\"cell-1\" style=\"text-align:right;\">11</td> <td class=\"cell-2\" style=\"\">http://www.nationalgeographic.com/people-and-culture/food/the-plate/2016/11/seaweed-may-be-the-solution-for-burping-cows</td></tr>\n",
       "<tr><td class=\"cell-1\" style=\"text-align:right;\">11</td> <td class=\"cell-2\" style=\"\">http://www.nationalgeographic.com/photography/photo-of-the-day/2017/07/shark-thailand-diving</td></tr>\n",
       "<tr><td class=\"cell-1\" style=\"text-align:right;\">11</td> <td class=\"cell-2\" style=\"\">http://www.nationalgeographic.com/adventure/lists/national-parks/national-park-hikes</td></tr>\n",
       "    </tbody>\n"
      ],
      "text/plain": [
       "HTML{UTF8String}(\"    <table  class=\\\"dataframe-table\\\">\\n    <thead><tr><th class=\\\"cell-1\\\" style=\\\"\\\">Views</th> <th class=\\\"cell-2\\\" style=\\\"\\\">Url - %</th></tr></thead>\\n    <tbody>\\n    <tr><td class=\\\"cell-1\\\" style=\\\"text-align:right;\\\">12</td> <td class=\\\"cell-2\\\" style=\\\"\\\">http://www.nationalgeographic.com/environment/natural-disasters/volcanoes</td></tr>\\n<tr><td class=\\\"cell-1\\\" style=\\\"text-align:right;\\\">12</td> <td class=\\\"cell-2\\\" style=\\\"\\\">http://www.nationalgeographic.com/travel/destinations/north-america/canada/quebec/quebec-road-trip-drive-loop-montreal-q...</td></tr>\\n<tr><td class=\\\"cell-1\\\" style=\\\"text-align:right;\\\">12</td> <td class=\\\"cell-2\\\" style=\\\"\\\">http://www.nationalgeographic.com/animals/fish/group/anglerfish</td></tr>\\n<tr><td class=\\\"cell-1\\\" style=\\\"text-align:right;\\\">12</td> <td class=\\\"cell-2\\\" style=\\\"\\\">http://www.nationalgeographic.com/animals/fish/g/great-white-shark</td></tr>\\n<tr><td class=\\\"cell-1\\\" style=\\\"text-align:right;\\\">12</td> <td class=\\\"cell-2\\\" style=\\\"\\\">http://www.nationalgeographic.com/archaeology-and-history/archaeology/el-dorado</td></tr>\\n<tr><td class=\\\"cell-1\\\" style=\\\"text-align:right;\\\">12</td> <td class=\\\"cell-2\\\" style=\\\"\\\">http://www.nationalgeographic.com/magazine/2017/05</td></tr>\\n<tr><td class=\\\"cell-1\\\" style=\\\"text-align:right;\\\">12</td> <td class=\\\"cell-2\\\" style=\\\"\\\">http://www.nationalgeographic.com/animals/mammals/group/chipmunks</td></tr>\\n<tr><td class=\\\"cell-1\\\" style=\\\"text-align:right;\\\">12</td> <td class=\\\"cell-2\\\" style=\\\"\\\">http://www.nationalgeographic.com/adventure/lists/hiking-backpacking/worlds-best-grail-trails</td></tr>\\n<tr><td class=\\\"cell-1\\\" style=\\\"text-align:right;\\\">12</td> <td class=\\\"cell-2\\\" style=\\\"\\\">http://www.nationalgeographic.com/animals/reptiles/b/black-mamba</td></tr>\\n<tr><td class=\\\"cell-1\\\" style=\\\"text-align:right;\\\">12</td> <td class=\\\"cell-2\\\" style=\\\"\\\">http://www.nationalgeographic.com/animals/mammals/s/siberian-tiger</td></tr>\\n<tr><td class=\\\"cell-1\\\" style=\\\"text-align:right;\\\">12</td> <td class=\\\"cell-2\\\" style=\\\"\\\">http://www.nationalgeographic.com/travel/destinations/europe/france/the-best-unesco-world-heritage-sites-in-france-borde...</td></tr>\\n<tr><td class=\\\"cell-1\\\" style=\\\"text-align:right;\\\">12</td> <td class=\\\"cell-2\\\" style=\\\"\\\">http://www.nationalgeographic.com/animals/fish/group/pufferfish</td></tr>\\n<tr><td class=\\\"cell-1\\\" style=\\\"text-align:right;\\\">12</td> <td class=\\\"cell-2\\\" style=\\\"\\\">http://www.nationalgeographic.com/travel/road-trips/ozarks-arkansas-road-trip</td></tr>\\n    \\n    <tr><td class=\\\"cell-1\\\" style=\\\"text-align:right;\\\">12</td> <td class=\\\"cell-2\\\" style=\\\"\\\">http://www.nationalgeographic.com/science/earth/earths-atmosphere/clouds</td></tr>\\n<tr><td class=\\\"cell-1\\\" style=\\\"text-align:right;\\\">11</td> <td class=\\\"cell-2\\\" style=\\\"\\\">http://www.nationalgeographic.com/video/shorts/why-is-this-field-full-of-huge-presidents</td></tr>\\n<tr><td class=\\\"cell-1\\\" style=\\\"text-align:right;\\\">11</td> <td class=\\\"cell-2\\\" style=\\\"\\\">http://www.nationalgeographic.com/animals/invertebrates/group/ants</td></tr>\\n<tr><td class=\\\"cell-1\\\" style=\\\"text-align:right;\\\">11</td> <td class=\\\"cell-2\\\" style=\\\"\\\">http://www.nationalgeographic.com/travel/destinations/europe/italy/venice</td></tr>\\n<tr><td class=\\\"cell-1\\\" style=\\\"text-align:right;\\\">11</td> <td class=\\\"cell-2\\\" style=\\\"\\\">http://www.nationalgeographic.com/photography/proof/2017/05/best-travel-photographer-contest</td></tr>\\n<tr><td class=\\\"cell-1\\\" style=\\\"text-align:right;\\\">11</td> <td class=\\\"cell-2\\\" style=\\\"\\\">http://www.nationalgeographic.com/travel/destinations/europe/italy/venice/activities-to-do-kayaking</td></tr>\\n<tr><td class=\\\"cell-1\\\" style=\\\"text-align:right;\\\">11</td> <td class=\\\"cell-2\\\" style=\\\"\\\">http://www.nationalgeographic.com/magazine/2017/08</td></tr>\\n<tr><td class=\\\"cell-1\\\" style=\\\"text-align:right;\\\">11</td> <td class=\\\"cell-2\\\" style=\\\"\\\">http://www.nationalgeographic.com/magazine/2017/01/children-explain-how-gender-affects-their-lives</td></tr>\\n<tr><td class=\\\"cell-1\\\" style=\\\"text-align:right;\\\">11</td> <td class=\\\"cell-2\\\" style=\\\"\\\">http://www.nationalgeographic.com/photography/photo-tips/macro-photo-tips</td></tr>\\n<tr><td class=\\\"cell-1\\\" style=\\\"text-align:right;\\\">11</td> <td class=\\\"cell-2\\\" style=\\\"\\\">http://www.nationalgeographic.com/people-and-culture/food/the-plate/2016/11/seaweed-may-be-the-solution-for-burping-cows</td></tr>\\n<tr><td class=\\\"cell-1\\\" style=\\\"text-align:right;\\\">11</td> <td class=\\\"cell-2\\\" style=\\\"\\\">http://www.nationalgeographic.com/photography/photo-of-the-day/2017/07/shark-thailand-diving</td></tr>\\n<tr><td class=\\\"cell-1\\\" style=\\\"text-align:right;\\\">11</td> <td class=\\\"cell-2\\\" style=\\\"\\\">http://www.nationalgeographic.com/adventure/lists/national-parks/national-park-hikes</td></tr>\\n    </tbody>\\n\")"
      ]
     },
     "metadata": {},
     "output_type": "display_data"
    },
    {
     "data": {
      "text/html": [
       "    <table  class=\"dataframe-table\">\n",
       "    <thead><tr><th class=\"cell-1\" style=\"\">Views</th> <th class=\"cell-2\" style=\"\">Url - %</th></tr></thead>\n",
       "    <tbody>\n",
       "    <tr><td class=\"cell-1\" style=\"text-align:right;\">11</td> <td class=\"cell-2\" style=\"\">http://www.nationalgeographic.com/animals/birds/a/atlantic-puffin</td></tr>\n",
       "<tr><td class=\"cell-1\" style=\"text-align:right;\">11</td> <td class=\"cell-2\" style=\"\">http://www.nationalgeographic.com/magazine/2017/04</td></tr>\n",
       "<tr><td class=\"cell-1\" style=\"text-align:right;\">11</td> <td class=\"cell-2\" style=\"\">http://www.nationalgeographic.com/animals/mammals/k/koala</td></tr>\n",
       "<tr><td class=\"cell-1\" style=\"text-align:right;\">11</td> <td class=\"cell-2\" style=\"\">http://www.nationalgeographic.com/animals/mammals/k/kinkajou</td></tr>\n",
       "<tr><td class=\"cell-1\" style=\"text-align:right;\">11</td> <td class=\"cell-2\" style=\"\">http://www.nationalgeographic.com/magazine/2013/04/species-revival-bringing-back-extinct-animals</td></tr>\n",
       "<tr><td class=\"cell-1\" style=\"text-align:right;\">11</td> <td class=\"cell-2\" style=\"\">http://www.nationalgeographic.com/animals/invertebrates/group/tarantulas</td></tr>\n",
       "<tr><td class=\"cell-1\" style=\"text-align:right;\">11</td> <td class=\"cell-2\" style=\"\">http://www.nationalgeographic.com/magazine/2016/07/great-white-shark-research-population-behavior</td></tr>\n",
       "    \n",
       "    <tr><td class=\"cell-1\" style=\"text-align:right;\">11</td> <td class=\"cell-2\" style=\"\">http://www.nationalgeographic.com/adventure/destinations/united-states/best-places-to-camp-summer-beach-camping</td></tr>\n",
       "<tr><td class=\"cell-1\" style=\"text-align:right;\">11</td> <td class=\"cell-2\" style=\"\">http://www.nationalgeographic.com/animals/mammals/a/african-wild-dog</td></tr>\n",
       "<tr><td class=\"cell-1\" style=\"text-align:right;\">11</td> <td class=\"cell-2\" style=\"\">http://www.nationalgeographic.com/environment/natural-disasters/flood-safety-tips</td></tr>\n",
       "<tr><td class=\"cell-1\" style=\"text-align:right;\">11</td> <td class=\"cell-2\" style=\"\">http://www.nationalgeographic.com/travel/top-10/historic-sites-in-ireland-and-northern-ireland</td></tr>\n",
       "<tr><td class=\"cell-1\" style=\"text-align:right;\">11</td> <td class=\"cell-2\" style=\"\">http://www.nationalgeographic.com/travel/destinations/north-america/united-states/arkansas/top-ten-10-things-to-do-arkan...</td></tr>\n",
       "<tr><td class=\"cell-1\" style=\"text-align:right;\">11</td> <td class=\"cell-2\" style=\"\">http://www.nationalgeographic.com/travel/top-10/peru/machu-picchu/secrets</td></tr>\n",
       "<tr><td class=\"cell-1\" style=\"text-align:right;\">11</td> <td class=\"cell-2\" style=\"\">http://www.nationalgeographic.com/video/shorts</td></tr>\n",
       "    </tbody>\n"
      ],
      "text/plain": [
       "HTML{UTF8String}(\"    <table  class=\\\"dataframe-table\\\">\\n    <thead><tr><th class=\\\"cell-1\\\" style=\\\"\\\">Views</th> <th class=\\\"cell-2\\\" style=\\\"\\\">Url - %</th></tr></thead>\\n    <tbody>\\n    <tr><td class=\\\"cell-1\\\" style=\\\"text-align:right;\\\">11</td> <td class=\\\"cell-2\\\" style=\\\"\\\">http://www.nationalgeographic.com/animals/birds/a/atlantic-puffin</td></tr>\\n<tr><td class=\\\"cell-1\\\" style=\\\"text-align:right;\\\">11</td> <td class=\\\"cell-2\\\" style=\\\"\\\">http://www.nationalgeographic.com/magazine/2017/04</td></tr>\\n<tr><td class=\\\"cell-1\\\" style=\\\"text-align:right;\\\">11</td> <td class=\\\"cell-2\\\" style=\\\"\\\">http://www.nationalgeographic.com/animals/mammals/k/koala</td></tr>\\n<tr><td class=\\\"cell-1\\\" style=\\\"text-align:right;\\\">11</td> <td class=\\\"cell-2\\\" style=\\\"\\\">http://www.nationalgeographic.com/animals/mammals/k/kinkajou</td></tr>\\n<tr><td class=\\\"cell-1\\\" style=\\\"text-align:right;\\\">11</td> <td class=\\\"cell-2\\\" style=\\\"\\\">http://www.nationalgeographic.com/magazine/2013/04/species-revival-bringing-back-extinct-animals</td></tr>\\n<tr><td class=\\\"cell-1\\\" style=\\\"text-align:right;\\\">11</td> <td class=\\\"cell-2\\\" style=\\\"\\\">http://www.nationalgeographic.com/animals/invertebrates/group/tarantulas</td></tr>\\n<tr><td class=\\\"cell-1\\\" style=\\\"text-align:right;\\\">11</td> <td class=\\\"cell-2\\\" style=\\\"\\\">http://www.nationalgeographic.com/magazine/2016/07/great-white-shark-research-population-behavior</td></tr>\\n    \\n    <tr><td class=\\\"cell-1\\\" style=\\\"text-align:right;\\\">11</td> <td class=\\\"cell-2\\\" style=\\\"\\\">http://www.nationalgeographic.com/adventure/destinations/united-states/best-places-to-camp-summer-beach-camping</td></tr>\\n<tr><td class=\\\"cell-1\\\" style=\\\"text-align:right;\\\">11</td> <td class=\\\"cell-2\\\" style=\\\"\\\">http://www.nationalgeographic.com/animals/mammals/a/african-wild-dog</td></tr>\\n<tr><td class=\\\"cell-1\\\" style=\\\"text-align:right;\\\">11</td> <td class=\\\"cell-2\\\" style=\\\"\\\">http://www.nationalgeographic.com/environment/natural-disasters/flood-safety-tips</td></tr>\\n<tr><td class=\\\"cell-1\\\" style=\\\"text-align:right;\\\">11</td> <td class=\\\"cell-2\\\" style=\\\"\\\">http://www.nationalgeographic.com/travel/top-10/historic-sites-in-ireland-and-northern-ireland</td></tr>\\n<tr><td class=\\\"cell-1\\\" style=\\\"text-align:right;\\\">11</td> <td class=\\\"cell-2\\\" style=\\\"\\\">http://www.nationalgeographic.com/travel/destinations/north-america/united-states/arkansas/top-ten-10-things-to-do-arkan...</td></tr>\\n<tr><td class=\\\"cell-1\\\" style=\\\"text-align:right;\\\">11</td> <td class=\\\"cell-2\\\" style=\\\"\\\">http://www.nationalgeographic.com/travel/top-10/peru/machu-picchu/secrets</td></tr>\\n<tr><td class=\\\"cell-1\\\" style=\\\"text-align:right;\\\">11</td> <td class=\\\"cell-2\\\" style=\\\"\\\">http://www.nationalgeographic.com/video/shorts</td></tr>\\n    </tbody>\\n\")"
      ]
     },
     "metadata": {},
     "output_type": "display_data"
    }
   ],
   "source": [
    "firstAndLast(UP.btView,\"%\";rowLimit=10000,beaconsLimit=10,paginate=true);\n"
   ]
  },
  {
   "cell_type": "code",
   "execution_count": null,
   "metadata": {
    "collapsed": true,
    "input_collapsed": true
   },
   "outputs": [],
   "source": []
  }
 ],
 "metadata": {
  "chart_version": "1.0.0",
  "kernelspec": {
   "display_name": "Julia 0.4.7",
   "language": "julia",
   "name": "julia-0.4"
  },
  "language_info": {
   "file_extension": ".jl",
   "mimetype": "application/julia",
   "name": "julia",
   "version": "0.4.7"
  },
  "library_version": "1.0.0",
  "notebook_uuid": "526e9be1-2603-48ae-9254-41d9bd3568ed",
  "readOnly": false
 },
 "nbformat": 4,
 "nbformat_minor": 0
}
