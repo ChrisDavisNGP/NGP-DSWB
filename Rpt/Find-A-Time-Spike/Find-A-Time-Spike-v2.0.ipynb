{
 "cells": [
  {
   "cell_type": "markdown",
   "metadata": {},
   "source": [
    "## Tables and Data Source setup"
   ]
  },
  {
   "cell_type": "code",
   "execution_count": 2,
   "metadata": {
    "collapsed": false,
    "input_collapsed": false,
    "scrolled": true
   },
   "outputs": [
    {
     "name": "stdout",
     "output_type": "stream",
     "text": [
      "Redshift endpoint set: 2017-11-20T15:52:19\n"
     ]
    },
    {
     "data": {
      "text/plain": [
       "\"beacons_4744\""
      ]
     },
     "execution_count": 2,
     "metadata": {},
     "output_type": "execute_result"
    }
   ],
   "source": [
    "using ODBC\n",
    "using DataFrames\n",
    "using DSWB\n",
    "using Formatting\n",
    "\n",
    "dsn = \"dswb-natgeo\" # Redshift endpoint\n",
    "table = \"beacons_4744\" # beacon table name\n",
    "tableRt = \"beacons_4744_rt\"\n",
    "\n",
    "# Connect to Beacon Data\n",
    "setRedshiftEndpoint(dsn)\n",
    "setTable(table)\n",
    "# setTable(tableRt, tableType = \"RESOURCE_TABLE\")"
   ]
  },
  {
   "cell_type": "code",
   "execution_count": 3,
   "metadata": {
    "collapsed": false,
    "input_collapsed": false
   },
   "outputs": [],
   "source": [
    "# Time & Structures First\n",
    "include(\"../../Lib/Include-Package-v2.1.jl\")\n",
    "include(\"Find-A-Time-Spike-Body-v2.0.jl\")\n",
    ";"
   ]
  },
  {
   "cell_type": "code",
   "execution_count": 4,
   "metadata": {
    "collapsed": false,
    "input_collapsed": false
   },
   "outputs": [
    {
     "name": "stdout",
     "output_type": "stream",
     "text": [
      "November 19, 2017 06:59:00 to November 19, 2017 16:59:00 Local Time\n",
      "November 19, 2017 11:59:00 to November 19, 2017 21:59:00 UTC Time\n"
     ]
    }
   ],
   "source": [
    "#TV = timeVariables(2017,6,21,14,0,2017,6,21,14,59)\n",
    "#TV = weeklyTimeVariables(days=2)\n",
    "TV = yesterdayTimeVariables()\n",
    ";"
   ]
  },
  {
   "cell_type": "code",
   "execution_count": 5,
   "metadata": {
    "collapsed": false,
    "input_collapsed": false,
    "scrolled": true
   },
   "outputs": [],
   "source": [
    "UP = UrlParamsInit()\n",
    "UP.agentOs = \"%\"\n",
    "UP.beaconTable = table\n",
    "UP.btView = \"$(table)_tspike_pview_prod\" #localtable\n",
    "UP.deviceType = \"%\"\n",
    "UP.limitRows = 250\n",
    "UP.orderBy = \"time\"\n",
    "UP.pageGroup = \"News Article\"   #productPageGroup\n",
    "UP.resourceTable = tableRt\n",
    "UP.rtView = \"$(tableRt)_tspike_pview_prod\" #localtableRt\n",
    "UP.samplesMin = 10\n",
    "UP.sizeMin = 10000\n",
    "UP.timeLowerMs = 2000.0\n",
    "UP.timeUpperMs = 60000.0\n",
    "UP.urlRegEx = \"%\"   #localUrl\n",
    "UP.urlFull = \"%\"\n",
    "UP.usePageLoad=false\n",
    "\n",
    "SP = ShowParamsInit()\n",
    "SP.criticalPathOnly=true\n",
    "SP.desktop=true\n",
    "SP.devView=false\n",
    "SP.debug=false\n",
    "SP.debugLevel = 0   # Tests use even numbers with > tests, make this an odd number or zero\n",
    "SP.mobile=true\n",
    "\n",
    ";"
   ]
  },
  {
   "cell_type": "code",
   "execution_count": 6,
   "metadata": {
    "collapsed": false,
    "input_collapsed": false
   },
   "outputs": [],
   "source": [
    "defaultTableFATS(TV,UP)\n",
    ";"
   ]
  },
  {
   "cell_type": "code",
   "execution_count": 7,
   "metadata": {
    "collapsed": false,
    "input_collapsed": false
   },
   "outputs": [],
   "source": [
    "#try\n",
    "#    setTable(UP.btView)\n",
    "#    firstAndLast = getBeaconsFirstAndLast()\n",
    "#catch y\n",
    "#    println(\"firstLast exception \",y)\n",
    "#end    "
   ]
  },
  {
   "cell_type": "code",
   "execution_count": 8,
   "metadata": {
    "collapsed": false,
    "input_collapsed": false,
    "scrolled": true
   },
   "outputs": [
    {
     "data": {
      "text/html": [
       "<div class=\"dswbOutputText\"><h1 class=\"chart_title\" style=\"color:#ccc\">Raw Data Stats Including Those above 600 seconds for News Article</h1><h3 class=\"chart_info\" style=\"color:#ccc\">November 19, 2017 06:59:00 to November 19, 2017 16:59:00 Local Time</h3></div>"
      ]
     },
     "metadata": {},
     "output_type": "display_data"
    },
    {
     "data": {
      "text/html": [
       "    <table  class=\"dataframe-table\">\n",
       "    <thead><tr><th class=\"cell-1\" style=\"\">unit</th> <th class=\"cell-2\" style=\"\">count</th> <th class=\"cell-3\" style=\"\">mean</th> <th class=\"cell-4\" style=\"\">median</th> <th class=\"cell-5\" style=\"\">stddev</th> <th class=\"cell-6\" style=\"\">min</th> <th class=\"cell-7\" style=\"\">max</th> <th class=\"cell-8\" style=\"\">LowerBy25p</th> <th class=\"cell-9\" style=\"\">UpperBy25p</th> <th class=\"cell-10\" style=\"\">LowerBy3Stddev</th> <th class=\"cell-11\" style=\"\">UpperBy3Stddev</th></tr></thead>\n",
       "    <tbody>\n",
       "    <tr><td class=\"cell-1\" style=\"\">milliseconds</td> <td class=\"cell-2\" style=\"text-align:right;\">179,176</td> <td class=\"cell-3\" style=\"text-align:right;\">16,423</td> <td class=\"cell-4\" style=\"text-align:right;\">9,753</td> <td class=\"cell-5\" style=\"text-align:right;\">24,309</td> <td class=\"cell-6\" style=\"text-align:right;\">0</td> <td class=\"cell-7\" style=\"text-align:right;\">599,837</td> <td class=\"cell-8\" style=\"text-align:right;\">7,315</td> <td class=\"cell-9\" style=\"text-align:right;\">12,191</td> <td class=\"cell-10\" style=\"text-align:right;\">1,000</td> <td class=\"cell-11\" style=\"text-align:right;\">82,680</td></tr>\n",
       "<tr><td class=\"cell-1\" style=\"\">seconds</td> <td class=\"cell-2\" style=\"text-align:right;\">179,176</td> <td class=\"cell-3\" style=\"text-align:right;\">16.423</td> <td class=\"cell-4\" style=\"text-align:right;\">9.753</td> <td class=\"cell-5\" style=\"text-align:right;\">24.309</td> <td class=\"cell-6\" style=\"text-align:right;\">0</td> <td class=\"cell-7\" style=\"text-align:right;\">599.837</td> <td class=\"cell-8\" style=\"text-align:right;\">7.315</td> <td class=\"cell-9\" style=\"text-align:right;\">12.191</td> <td class=\"cell-10\" style=\"text-align:right;\">1</td> <td class=\"cell-11\" style=\"text-align:right;\">82.68</td></tr>\n",
       "    \n",
       "    <tr><td class=\"cell-1\" style=\"\">minutes</td> <td class=\"cell-2\" style=\"text-align:right;\">179,176</td> <td class=\"cell-3\" style=\"text-align:right;\">0.3</td> <td class=\"cell-4\" style=\"text-align:right;\">0.2</td> <td class=\"cell-5\" style=\"text-align:right;\">0.4</td> <td class=\"cell-6\" style=\"text-align:right;\">0</td> <td class=\"cell-7\" style=\"text-align:right;\">10</td> <td class=\"cell-8\" style=\"text-align:right;\">0.1</td> <td class=\"cell-9\" style=\"text-align:right;\">0.2</td> <td class=\"cell-10\" style=\"text-align:right;\">0</td> <td class=\"cell-11\" style=\"text-align:right;\">1.4</td></tr>\n",
       "    </tbody>\n"
      ],
      "text/plain": [
       "HTML{UTF8String}(\"    <table  class=\\\"dataframe-table\\\">\\n    <thead><tr><th class=\\\"cell-1\\\" style=\\\"\\\">unit</th> <th class=\\\"cell-2\\\" style=\\\"\\\">count</th> <th class=\\\"cell-3\\\" style=\\\"\\\">mean</th> <th class=\\\"cell-4\\\" style=\\\"\\\">median</th> <th class=\\\"cell-5\\\" style=\\\"\\\">stddev</th> <th class=\\\"cell-6\\\" style=\\\"\\\">min</th> <th class=\\\"cell-7\\\" style=\\\"\\\">max</th> <th class=\\\"cell-8\\\" style=\\\"\\\">LowerBy25p</th> <th class=\\\"cell-9\\\" style=\\\"\\\">UpperBy25p</th> <th class=\\\"cell-10\\\" style=\\\"\\\">LowerBy3Stddev</th> <th class=\\\"cell-11\\\" style=\\\"\\\">UpperBy3Stddev</th></tr></thead>\\n    <tbody>\\n    <tr><td class=\\\"cell-1\\\" style=\\\"\\\">milliseconds</td> <td class=\\\"cell-2\\\" style=\\\"text-align:right;\\\">179,176</td> <td class=\\\"cell-3\\\" style=\\\"text-align:right;\\\">16,423</td> <td class=\\\"cell-4\\\" style=\\\"text-align:right;\\\">9,753</td> <td class=\\\"cell-5\\\" style=\\\"text-align:right;\\\">24,309</td> <td class=\\\"cell-6\\\" style=\\\"text-align:right;\\\">0</td> <td class=\\\"cell-7\\\" style=\\\"text-align:right;\\\">599,837</td> <td class=\\\"cell-8\\\" style=\\\"text-align:right;\\\">7,315</td> <td class=\\\"cell-9\\\" style=\\\"text-align:right;\\\">12,191</td> <td class=\\\"cell-10\\\" style=\\\"text-align:right;\\\">1,000</td> <td class=\\\"cell-11\\\" style=\\\"text-align:right;\\\">82,680</td></tr>\\n<tr><td class=\\\"cell-1\\\" style=\\\"\\\">seconds</td> <td class=\\\"cell-2\\\" style=\\\"text-align:right;\\\">179,176</td> <td class=\\\"cell-3\\\" style=\\\"text-align:right;\\\">16.423</td> <td class=\\\"cell-4\\\" style=\\\"text-align:right;\\\">9.753</td> <td class=\\\"cell-5\\\" style=\\\"text-align:right;\\\">24.309</td> <td class=\\\"cell-6\\\" style=\\\"text-align:right;\\\">0</td> <td class=\\\"cell-7\\\" style=\\\"text-align:right;\\\">599.837</td> <td class=\\\"cell-8\\\" style=\\\"text-align:right;\\\">7.315</td> <td class=\\\"cell-9\\\" style=\\\"text-align:right;\\\">12.191</td> <td class=\\\"cell-10\\\" style=\\\"text-align:right;\\\">1</td> <td class=\\\"cell-11\\\" style=\\\"text-align:right;\\\">82.68</td></tr>\\n    \\n    <tr><td class=\\\"cell-1\\\" style=\\\"\\\">minutes</td> <td class=\\\"cell-2\\\" style=\\\"text-align:right;\\\">179,176</td> <td class=\\\"cell-3\\\" style=\\\"text-align:right;\\\">0.3</td> <td class=\\\"cell-4\\\" style=\\\"text-align:right;\\\">0.2</td> <td class=\\\"cell-5\\\" style=\\\"text-align:right;\\\">0.4</td> <td class=\\\"cell-6\\\" style=\\\"text-align:right;\\\">0</td> <td class=\\\"cell-7\\\" style=\\\"text-align:right;\\\">10</td> <td class=\\\"cell-8\\\" style=\\\"text-align:right;\\\">0.1</td> <td class=\\\"cell-9\\\" style=\\\"text-align:right;\\\">0.2</td> <td class=\\\"cell-10\\\" style=\\\"text-align:right;\\\">0</td> <td class=\\\"cell-11\\\" style=\\\"text-align:right;\\\">1.4</td></tr>\\n    </tbody>\\n\")"
      ]
     },
     "metadata": {},
     "output_type": "display_data"
    }
   ],
   "source": [
    "statsDF = DataFrame()\n",
    "\n",
    "statsDF = rawStatsFATS(TV,UP)\n",
    ";"
   ]
  },
  {
   "cell_type": "code",
   "execution_count": 9,
   "metadata": {
    "collapsed": false,
    "input_collapsed": false
   },
   "outputs": [],
   "source": [
    "localStats2 = DataFrame()\n",
    "\n",
    "localStats2 = localStatsFATS(TV,UP,statsDF)\n",
    ";"
   ]
  },
  {
   "cell_type": "code",
   "execution_count": 10,
   "metadata": {
    "collapsed": false,
    "input_collapsed": false
   },
   "outputs": [],
   "source": [
    "#studySession = \"fd8c6953-ac8e-4ace-8ad7-51eb8d6eebc3-oifn7l\"\n",
    "#studyTime = 1482151207938\n",
    "#waterFallFinder(TV,UP,studySession,studyTime)"
   ]
  },
  {
   "cell_type": "code",
   "execution_count": 11,
   "metadata": {
    "collapsed": false,
    "input_collapsed": false,
    "scrolled": true
   },
   "outputs": [
    {
     "data": {
      "text/html": [
       "<div class=\"dswbOutputText\"><h1 class=\"chart_title\" style=\"color:#ccc\">Table Data Stats Outside 3 Stddev for News Article</h1><h3 class=\"chart_info\" style=\"color:#ccc\">November 19, 2017 06:59:00 to November 19, 2017 16:59:00 Local Time</h3></div>"
      ]
     },
     "metadata": {},
     "output_type": "display_data"
    },
    {
     "data": {
      "text/html": [
       "    <table  class=\"dataframe-table\">\n",
       "    <thead><tr><th class=\"cell-1\" style=\"\">unit</th> <th class=\"cell-2\" style=\"\">count</th> <th class=\"cell-3\" style=\"\">mean</th> <th class=\"cell-4\" style=\"\">median</th> <th class=\"cell-5\" style=\"\">stddev</th> <th class=\"cell-6\" style=\"\">min</th> <th class=\"cell-7\" style=\"\">max</th> <th class=\"cell-8\" style=\"\">rangeLowerBy25p</th> <th class=\"cell-9\" style=\"\">rangeUpperBy25p</th> <th class=\"cell-10\" style=\"\">rangeLowerByStd</th> <th class=\"cell-11\" style=\"\">rangeUpperByStd</th></tr></thead>\n",
       "    <tbody>\n",
       "    <tr><td class=\"cell-1\" style=\"\">milliseconds</td> <td class=\"cell-2\" style=\"text-align:right;\">73,786</td> <td class=\"cell-3\" style=\"text-align:right;\">34,337</td> <td class=\"cell-4\" style=\"text-align:right;\">22,087</td> <td class=\"cell-5\" style=\"text-align:right;\">388,392</td> <td class=\"cell-6\" style=\"text-align:right;\">12,192</td> <td class=\"cell-7\" style=\"text-align:right;\">59,851,396</td> <td class=\"cell-8\" style=\"text-align:right;\">16,565</td> <td class=\"cell-9\" style=\"text-align:right;\">27,609</td> <td class=\"cell-10\" style=\"text-align:right;\">1</td> <td class=\"cell-11\" style=\"text-align:right;\">1,187,263</td></tr>\n",
       "<tr><td class=\"cell-1\" style=\"\">seconds</td> <td class=\"cell-2\" style=\"text-align:right;\">73,786</td> <td class=\"cell-3\" style=\"text-align:right;\">34.337</td> <td class=\"cell-4\" style=\"text-align:right;\">22.087</td> <td class=\"cell-5\" style=\"text-align:right;\">388.392</td> <td class=\"cell-6\" style=\"text-align:right;\">12.192</td> <td class=\"cell-7\" style=\"text-align:right;\">59,851.396</td> <td class=\"cell-8\" style=\"text-align:right;\">16.565</td> <td class=\"cell-9\" style=\"text-align:right;\">27.609</td> <td class=\"cell-10\" style=\"text-align:right;\">0.001</td> <td class=\"cell-11\" style=\"text-align:right;\">1,187.263</td></tr>\n",
       "    \n",
       "    <tr><td class=\"cell-1\" style=\"\">minutes</td> <td class=\"cell-2\" style=\"text-align:right;\">73,786</td> <td class=\"cell-3\" style=\"text-align:right;\">0.6</td> <td class=\"cell-4\" style=\"text-align:right;\">0.4</td> <td class=\"cell-5\" style=\"text-align:right;\">6.5</td> <td class=\"cell-6\" style=\"text-align:right;\">0.2</td> <td class=\"cell-7\" style=\"text-align:right;\">997.5</td> <td class=\"cell-8\" style=\"text-align:right;\">0.3</td> <td class=\"cell-9\" style=\"text-align:right;\">0.5</td> <td class=\"cell-10\" style=\"text-align:right;\">0</td> <td class=\"cell-11\" style=\"text-align:right;\">19.8</td></tr>\n",
       "    </tbody>\n"
      ],
      "text/plain": [
       "HTML{UTF8String}(\"    <table  class=\\\"dataframe-table\\\">\\n    <thead><tr><th class=\\\"cell-1\\\" style=\\\"\\\">unit</th> <th class=\\\"cell-2\\\" style=\\\"\\\">count</th> <th class=\\\"cell-3\\\" style=\\\"\\\">mean</th> <th class=\\\"cell-4\\\" style=\\\"\\\">median</th> <th class=\\\"cell-5\\\" style=\\\"\\\">stddev</th> <th class=\\\"cell-6\\\" style=\\\"\\\">min</th> <th class=\\\"cell-7\\\" style=\\\"\\\">max</th> <th class=\\\"cell-8\\\" style=\\\"\\\">rangeLowerBy25p</th> <th class=\\\"cell-9\\\" style=\\\"\\\">rangeUpperBy25p</th> <th class=\\\"cell-10\\\" style=\\\"\\\">rangeLowerByStd</th> <th class=\\\"cell-11\\\" style=\\\"\\\">rangeUpperByStd</th></tr></thead>\\n    <tbody>\\n    <tr><td class=\\\"cell-1\\\" style=\\\"\\\">milliseconds</td> <td class=\\\"cell-2\\\" style=\\\"text-align:right;\\\">73,786</td> <td class=\\\"cell-3\\\" style=\\\"text-align:right;\\\">34,337</td> <td class=\\\"cell-4\\\" style=\\\"text-align:right;\\\">22,087</td> <td class=\\\"cell-5\\\" style=\\\"text-align:right;\\\">388,392</td> <td class=\\\"cell-6\\\" style=\\\"text-align:right;\\\">12,192</td> <td class=\\\"cell-7\\\" style=\\\"text-align:right;\\\">59,851,396</td> <td class=\\\"cell-8\\\" style=\\\"text-align:right;\\\">16,565</td> <td class=\\\"cell-9\\\" style=\\\"text-align:right;\\\">27,609</td> <td class=\\\"cell-10\\\" style=\\\"text-align:right;\\\">1</td> <td class=\\\"cell-11\\\" style=\\\"text-align:right;\\\">1,187,263</td></tr>\\n<tr><td class=\\\"cell-1\\\" style=\\\"\\\">seconds</td> <td class=\\\"cell-2\\\" style=\\\"text-align:right;\\\">73,786</td> <td class=\\\"cell-3\\\" style=\\\"text-align:right;\\\">34.337</td> <td class=\\\"cell-4\\\" style=\\\"text-align:right;\\\">22.087</td> <td class=\\\"cell-5\\\" style=\\\"text-align:right;\\\">388.392</td> <td class=\\\"cell-6\\\" style=\\\"text-align:right;\\\">12.192</td> <td class=\\\"cell-7\\\" style=\\\"text-align:right;\\\">59,851.396</td> <td class=\\\"cell-8\\\" style=\\\"text-align:right;\\\">16.565</td> <td class=\\\"cell-9\\\" style=\\\"text-align:right;\\\">27.609</td> <td class=\\\"cell-10\\\" style=\\\"text-align:right;\\\">0.001</td> <td class=\\\"cell-11\\\" style=\\\"text-align:right;\\\">1,187.263</td></tr>\\n    \\n    <tr><td class=\\\"cell-1\\\" style=\\\"\\\">minutes</td> <td class=\\\"cell-2\\\" style=\\\"text-align:right;\\\">73,786</td> <td class=\\\"cell-3\\\" style=\\\"text-align:right;\\\">0.6</td> <td class=\\\"cell-4\\\" style=\\\"text-align:right;\\\">0.4</td> <td class=\\\"cell-5\\\" style=\\\"text-align:right;\\\">6.5</td> <td class=\\\"cell-6\\\" style=\\\"text-align:right;\\\">0.2</td> <td class=\\\"cell-7\\\" style=\\\"text-align:right;\\\">997.5</td> <td class=\\\"cell-8\\\" style=\\\"text-align:right;\\\">0.3</td> <td class=\\\"cell-9\\\" style=\\\"text-align:right;\\\">0.5</td> <td class=\\\"cell-10\\\" style=\\\"text-align:right;\\\">0</td> <td class=\\\"cell-11\\\" style=\\\"text-align:right;\\\">19.8</td></tr>\\n    </tbody>\\n\")"
      ]
     },
     "metadata": {},
     "output_type": "display_data"
    }
   ],
   "source": [
    "longTimesFATS(TV,UP,localStats2)\n",
    ";"
   ]
  },
  {
   "cell_type": "code",
   "execution_count": 12,
   "metadata": {
    "collapsed": false,
    "input_collapsed": false,
    "scrolled": false
   },
   "outputs": [
    {
     "ename": "LoadError",
     "evalue": "ArgumentError: Non-digit character encountered",
     "output_type": "error",
     "traceback": [
      "ArgumentError: Non-digit character encountered",
      "",
      " in getslot at dates/io.jl:143",
      " in parse at dates/io.jl:158",
      " in call at dates/io.jl:202",
      " in anonymous at /home/ubuntu/datascienceworkbench/lib/Modules/DSWBUtilities/src/DSWBUtilities.jl:1152",
      " [inlined code] from /home/ubuntu/.julia/v0.4/DataArrays/src/broadcast.jl:59",
      " in _F_ at /home/ubuntu/.julia/v0.4/DataArrays/src/broadcast.jl:164",
      " in map! at /home/ubuntu/.julia/v0.4/DataArrays/src/broadcast.jl:214",
      " in formatDatepartOutput at /home/ubuntu/datascienceworkbench/lib/Modules/DSWBUtilities/src/DSWBUtilities.jl:1152",
      " in getBeaconsBelowThresholdOverTime at /home/ubuntu/datascienceworkbench/lib/Modules/DSWBAnalysis/src/DSWBAnalysis.jl:3730",
      " in chartPercentageOfBeaconsBelowThresholdStackedBar at /home/ubuntu/datascienceworkbench/lib/Modules/DSWBCharting/src/DSWBCharting.jl:2029"
     ]
    }
   ],
   "source": [
    "setTable(UP.btView)\n",
    "chartPercentageOfBeaconsBelowThresholdStackedBar(TV.startTimeUTC, TV.endTimeUTC, TV.datePart)"
   ]
  },
  {
   "cell_type": "code",
   "execution_count": 13,
   "metadata": {
    "collapsed": false,
    "input_collapsed": false,
    "scrolled": false
   },
   "outputs": [],
   "source": [
    "#setTable(table)\n"
   ]
  },
  {
   "cell_type": "code",
   "execution_count": 14,
   "metadata": {
    "collapsed": false,
    "input_collapsed": false
   },
   "outputs": [],
   "source": [
    "#println(medianThreshold)\n",
    "#thresholdValues = [1000;10000;100000]\n",
    "#chartResponseTimesVsTargets(startTime, endTime, :minute, thresholdValues)"
   ]
  },
  {
   "cell_type": "code",
   "execution_count": 15,
   "metadata": {
    "collapsed": false,
    "input_collapsed": false
   },
   "outputs": [],
   "source": [
    "# See getBeaconsBelowThresholdOverTime(startTime::DateTime, endTime::DateTime, datepart::Symbol)\n",
    "#\n",
    "#::DataFrame - This function returns a DataFrame with the first column as the dateparts between the given start and end time. \n",
    "#The second column gives the number of beacons whose timer was below the given threshold. \n",
    "#The third column gives the number of beacons whose timer was above the given threshold. \n",
    "#The fourth column gives the total count of beacons for that time. \n",
    "#The fifth column gives the percentage of beacons below the threshold. \n",
    "#The sixth column gives the percentage of beacons above the threshold.\n"
   ]
  },
  {
   "cell_type": "code",
   "execution_count": 16,
   "metadata": {
    "collapsed": false,
    "input_collapsed": false,
    "scrolled": false
   },
   "outputs": [
    {
     "data": {
      "text/html": [
       "<div class=\"dswbOutputText\"><h1 class=\"chart_title\" style=\"color:#ccc\">Median Load Times</h1><h3 class=\"chart_info\" style=\"color:#ccc\">November 19, 2017 11:59:00 to November 19, 2017 21:59:00</h3><h5 class=\"chart_lastCalled\" style=\"color:#ccc\">Run at November 20, 2017 15:53:32</h5></div>"
      ]
     },
     "metadata": {},
     "output_type": "display_data"
    },
    {
     "data": {
      "text/html": [
       "    <iframe id=\"timeSeries-MJYHSFORMKEDGLAZLCNKXOUCPDANXEJE\" class=\"dswbiframe\" width=\"100%\" height=\"600\" src=\"about:blank\" scrolling=\"no\"></iframe>\n",
       "    <script>\n",
       "    (function() {\n",
       "        var iframe = document.getElementById(\"timeSeries-MJYHSFORMKEDGLAZLCNKXOUCPDANXEJE\");\n",
       "        iframe.timeSeriesRendererLoaded = function(runner) {\n",
       "            iframe.runner = runner;\n",
       "            iframe.runner([[\"x\",\"November 19, 2017 11:00:00\",\"November 19, 2017 12:00:00\",\"November 19, 2017 13:00:00\",\"November 19, 2017 14:00:00\",\"November 19, 2017 15:00:00\",\"November 19, 2017 16:00:00\",\"November 19, 2017 17:00:00\",\"November 19, 2017 18:00:00\",\"November 19, 2017 19:00:00\",\"November 19, 2017 20:00:00\",\"November 19, 2017 21:00:00\"],[\"data1\",569.0,445.0,463.0,459.0,607.0,550.0,529.0,490.0,408.0,377.0,375.0],[\"data2\",9183.0,10805.0,9952.0,9737.0,10528.0,10235.0,9978.0,9742.0,8875.0,8182.0,8316.0],[\"data3\",10634.0,11515.0,10584.0,10374.0,11359.0,11059.0,10792.0,10469.0,9517.0,8720.0,8879.5]],\n",
       "                [\"Back-end Load Time\",\"Front-end Load Time\",\"Full Page Load Time\",\"Beacon Count\"],\n",
       "                [\"hour\",\"Milliseconds\",\"Count\"],\n",
       "                [\"area\",\"area\",\"spline\",\"line\"],\n",
       "                [\"hsla(130, 61%, 50%, 0.9)\",\"hsla(214, 86%, 60%, 0.9)\",\"hsla(35, 100%, 50%, 0.9)\"],\n",
       "                [[\"data1\",\"data2\"]],\n",
       "                [\"data4\"],\n",
       "                \"\",\n",
       "                [\"data4\"],\n",
       "                {\"axis_y_min\":0,\"axis_y2_min\":0}\n",
       "            );\n",
       "        }\n",
       "        iframe.src = \"/static/graphs/templates/c3Viz_template.html#id=timeSeries-MJYHSFORMKEDGLAZLCNKXOUCPDANXEJE\";\n",
       "    }());\n",
       "    </script>\n"
      ]
     },
     "metadata": {},
     "output_type": "display_data"
    }
   ],
   "source": [
    "#displayTitle(chart_title = \"Median Load Times for $(productPageGroup)\", chart_info = [timeString])\n",
    "setTable(UP.btView)\n",
    "chartLoadTimes(TV.startTimeUTC, TV.endTimeUTC, TV.datePart)\n",
    "#setTable(UP.beaconTable)\n",
    "#chartLoadTimes(startTime, endTime, :second)"
   ]
  },
  {
   "cell_type": "code",
   "execution_count": 17,
   "metadata": {
    "collapsed": false,
    "input_collapsed": false,
    "scrolled": false
   },
   "outputs": [
    {
     "data": {
      "text/html": [
       "<div class=\"dswbOutputText\"><h1 class=\"chart_title\" style=\"color:#ccc\">Session Duration Quartiles By hour</h1><h3 class=\"chart_info\" style=\"color:#ccc\">November 19, 2017 11:59:00 to November 19, 2017 21:59:00</h3><h3 class=\"chart_info\" style=\"color:#ccc\">Lower Percentile: 0.05</h3><h3 class=\"chart_info\" style=\"color:#ccc\">Upper Percentile: 0.95</h3><h5 class=\"chart_lastCalled\" style=\"color:#ccc\">Run at November 20, 2017 15:53:47</h5></div>"
      ]
     },
     "metadata": {},
     "output_type": "display_data"
    },
    {
     "data": {
      "text/html": [
       "    <iframe id=\"boxplots-CHAKKWYAYGEMDMBKFTQYRUQGBHVLONIE\" class=\"dswbiframe\" width=\"100%\" height=\"800\" src=\"about:blank\" scrolling=\"no\"></iframe>\n",
       "    <script>\n",
       "    (function() {\n",
       "        var iframe = document.getElementById(\"boxplots-CHAKKWYAYGEMDMBKFTQYRUQGBHVLONIE\");\n",
       "        iframe.boxplotsRendererLoaded = function(runner) {\n",
       "            iframe.runner = runner;\n",
       "            iframe.runner(\n",
       "                {\"median_color\":\"#ff9800\",\"tooltipTuples\":[[\"Minimum\",\"min\"],[\"Lower Quartile\",\"lower_quartile\"],[\"Median\",\"median\"],[\"Upper Quartile\",\"upper_quartile\"],[\"Max\",\"max\"],[\"IQR\",\"iqr\"],[\"Count\",\"count\"]],\"legendNums\":[334.857,473.392],\"yAxisLabel\":\"Session Duration (Seconds)\",\"centerline_color\":\"grey\",\"maxYValue\":-1,\"legend_colors\":[\"#29B6F6\",\"#2196F3\",\"#0277BD\"],\"boxPlotData\":[{\"median\":194.3385,\"box_name\":\"2017-11-19T11:00:00\",\"max\":1769.931,\"min\":76.827,\"iqr\":1364.1779999999999,\"upper_quartile\":1522.952,\"count\":6,\"box_color\":\"#0277BD\",\"lower_quartile\":158.774},{\"median\":235.4925,\"box_name\":\"2017-11-19T12:00:00\",\"max\":1601.749,\"min\":16.273,\"iqr\":495.975,\"upper_quartile\":579.363,\"count\":638,\"box_color\":\"#0277BD\",\"lower_quartile\":83.388},{\"median\":232.154,\"box_name\":\"2017-11-19T13:00:00\",\"max\":1478.373,\"min\":17.312,\"iqr\":444.18000000000006,\"upper_quartile\":519.628,\"count\":797,\"box_color\":\"#2196F3\",\"lower_quartile\":75.448},{\"median\":241.0335,\"box_name\":\"2017-11-19T14:00:00\",\"max\":1628.699,\"min\":17.791,\"iqr\":500.914,\"upper_quartile\":585.586,\"count\":738,\"box_color\":\"#0277BD\",\"lower_quartile\":84.672},{\"median\":215.031,\"box_name\":\"2017-11-19T15:00:00\",\"max\":1491.454,\"min\":15.814,\"iqr\":447.91099999999994,\"upper_quartile\":523.002,\"count\":1065,\"box_color\":\"#2196F3\",\"lower_quartile\":75.091},{\"median\":235.446,\"box_name\":\"2017-11-19T16:00:00\",\"max\":1448.582,\"min\":16.478,\"iqr\":473.39199999999994,\"upper_quartile\":558.036,\"count\":1015,\"box_color\":\"#2196F3\",\"lower_quartile\":84.644},{\"median\":218.809,\"box_name\":\"2017-11-19T17:00:00\",\"max\":1492.74,\"min\":16.391,\"iqr\":488.17099999999994,\"upper_quartile\":561.569,\"count\":933,\"box_color\":\"#0277BD\",\"lower_quartile\":73.398},{\"median\":195.4605,\"box_name\":\"2017-11-19T18:00:00\",\"max\":1528.057,\"min\":12.997,\"iqr\":441.517,\"upper_quartile\":505.01,\"count\":920,\"box_color\":\"#2196F3\",\"lower_quartile\":63.493},{\"median\":141.884,\"box_name\":\"2017-11-19T19:00:00\",\"max\":1266.637,\"min\":11.032,\"iqr\":334.85699999999997,\"upper_quartile\":383.0,\"count\":1419,\"box_color\":\"#29B6F6\",\"lower_quartile\":48.143},{\"median\":122.786,\"box_name\":\"2017-11-19T20:00:00\",\"max\":1192.281,\"min\":13.38,\"iqr\":303.336,\"upper_quartile\":350.384,\"count\":3059,\"box_color\":\"#29B6F6\",\"lower_quartile\":47.048},{\"median\":116.587,\"box_name\":\"2017-11-19T21:00:00\",\"max\":1057.305,\"min\":12.253,\"iqr\":257.953,\"upper_quartile\":303.498,\"count\":2419,\"box_color\":\"#29B6F6\",\"lower_quartile\":45.545}],\"legend_label\":\"Inner Quartile Range\"}\n",
       "            );\n",
       "        }\n",
       "        iframe.src = \"/static/graphs/templates/boxplots_template.html#id=boxplots-CHAKKWYAYGEMDMBKFTQYRUQGBHVLONIE\";\n",
       "    }());\n",
       "    </script>\n"
      ]
     },
     "metadata": {},
     "output_type": "display_data"
    }
   ],
   "source": [
    "setTable(UP.btView)\n",
    "chartSessionDurationQuantilesByDatepart(TV.startTimeUTC, TV.endTimeUTC, TV.datePart)"
   ]
  },
  {
   "cell_type": "code",
   "execution_count": 18,
   "metadata": {
    "collapsed": false,
    "input_collapsed": false,
    "scrolled": false
   },
   "outputs": [
    {
     "data": {
      "text/html": [
       "<div class=\"dswbOutputText\"><h1 class=\"chart_title\" style=\"color:#ccc\">Top 20 URLs by Median Full Page Load Time</h1><h3 class=\"chart_info\" style=\"color:#ccc\">Page Group = All Page Groups</h3><h3 class=\"chart_info\" style=\"color:#ccc\">November 19, 2017 11:59:00 to November 19, 2017 21:59:00</h3><h5 class=\"chart_lastCalled\" style=\"color:#ccc\">Run at November 20, 2017 15:54:01</h5></div>"
      ]
     },
     "metadata": {},
     "output_type": "display_data"
    },
    {
     "data": {
      "text/html": [
       "    <iframe id=\"timeSeries-GWBPHEITAHHFBBFHWMMPRPVUXWKQHSBX\" class=\"dswbiframe\" width=\"100%\" height=\"600\" src=\"about:blank\" scrolling=\"no\"></iframe>\n",
       "    <script>\n",
       "    (function() {\n",
       "        var iframe = document.getElementById(\"timeSeries-GWBPHEITAHHFBBFHWMMPRPVUXWKQHSBX\");\n",
       "        iframe.timeSeriesRendererLoaded = function(runner) {\n",
       "            iframe.runner = runner;\n",
       "            iframe.runner([[\"x\",\"https://news.nationalgeographic.com/2017/05/einstein-relativity-thought-experiment-train-lightning-genius/\",\"https://news.nationalgeographic.com/energy/2016/03/160310-will-we-soon-be-riding-on-solar-roads/\",\"https://news.nationalgeographic.com/2017/10/sponsor-content-food-for-change/?utm_medium=Social&utm_campaign=Cargill&utm_source=Facebook&utm_content=Sponsired-FoodForChange&kwp_0=553562\",\"https://news.nationalgeographic.com/2017/10/sponsor-content-food-for-change/?utm_medium=Social&utm_campaign=Cargill&utm_source=Facebook&utm_content=Sponsired-FoodForChange&kwp_0=553562&kwp_4=1989642&kwp_1=832762\",\"https://news.nationalgeographic.com/2017/10/sponsor-content-food-for-change/?utm_medium=Social&utm_campaign=Cargill&utm_source=Facebook&utm_content=Sponsired-FoodForChange&kwp_0=553562&kwp_4=1989637&kwp_1=832757\",\"https://news.nationalgeographic.com/2017/11/sponsor-content-can-an-early-warning-prevent-earthquakes-becoming-disasters/?utm_source=Facebook&utm_medium=SocialAds&utm_campaign=Ads-AXA&utm_content=link_fb201711AXA&kwp_0=585053&kwp_4=2087461&kwp_1=872221\",\"https://news.nationalgeographic.com/news/2013/12/pictures/131221-rare-endangered-species-animals-joel-sartore-science/?utm_source=Facebook&utm_medium=Social&utm_content=link_fb20170414news-rarestanimals&utm_campaign=Content&sf69788134=1\",\"https://news.nationalgeographic.com/2017/10/sponsor-content-food-for-change/?utm_medium=Social&utm_campaign=Cargill&utm_source=Facebook&utm_content=Sponsired-FoodForChange&kwp_0=553562&kwp_4=1989636&kwp_1=832756\",\"https://news.nationalgeographic.com/news/2011/12/111205-native-americans-europeans-population-dna-genetics-science/\",\"https://news.nationalgeographic.com/2016/03/you-and-almost-everyone-you-know-owe-your-life-to-this-man/\",\"https://news.nationalgeographic.com/2017/10/dogs-cats-clean-licking-bacteria-health-science/\",\"https://news.nationalgeographic.com/2017/07/dogs-breeds-pets-wolves-evolution/?utm_source=Facebook&amp;utm_medium=Social&amp;utm_content=link_fb20171117news-resurffriendlydogs&amp;utm_campaign=Content&amp;sf99255202=1&amp;sf173577201=1\",\"https://news.nationalgeographic.com/2016/04/160430-animals-science-longest-tails-reptiles/\",\"https://news.nationalgeographic.com/2017/02/roach-in-nose-ear-insects-science/\",\"https://news.nationalgeographic.com/news/2011/02/pictures/110228-best-pictures-worlds-rarest-birds-ibis-owl-crane-parrot/\",\"https://news.nationalgeographic.com/2017/05/new-seafloor-map-gulf-of-mexico/\",\"https://news.nationalgeographic.com/news/2013/08/130809-bedbug-diy-trap-detector-science/\",\"https://news.nationalgeographic.com/2015/12/151208-best-viral-videos-year-animal-videos/\",\"https://news.nationalgeographic.com/2017/11/climate-change-drought-drove-isis-terrorist-recruiting-iraq/?utm_content=buffer14d9d&utm_medium=social&utm_source=facebook.com&utm_campaign=buffer\",\"https://news.nationalgeographic.com/2017/11/climate-change-sea-level-water-will-come-jeff-goodell/?utm_source=feedburner&utm_medium=feed&utm_campaign=Feed%3A+ng%2FNews%2FNews_Main+%28National+Geographic+News+-+Main%29\"],[\"data1\",77971.0,70683.0,32196.0,28831.0,28286.0,28006.5,27876.0,27696.0,21628.5,21071.0,19373.0,18458.0,18112.0,18019.0,17201.0,17071.5,16875.0,16759.0,16734.0,16476.0]],\n",
       "                [\"Median Full Page Load Time\"],\n",
       "                [\"\",\"\"],\n",
       "                [\"bar\"],\n",
       "                [\"hsla(214, 86%, 60%, 0.9)\",\"hsla(130, 61%, 50%, 0.9)\",\"hsla(35, 100%, 50%, 0.9)\",\"hsla(0, 100%, 60%, 0.9)\",\"hsla(207, 34%, 49%, 0.9)\",\"hsla(80, 61%, 50%, 0.9)\",\"hsla(181, 72%, 56%, 0.9)\",\"hsla(330, 100%, 71%, 0.9)\",\"hsla(55, 74%, 68%, 0.9)\",\"hsla(116, 26%, 64%, 0.9)\",\"hsla(34, 49%, 65%, 0.9)\",\"hsla(197, 70%, 73%, 0.9)\",\"hsla(300, 47%, 74%, 0.9)\",\"hsla(28, 100%, 86%, 0.9)\",\"hsla(181, 26%, 50%, 0.9)\",\"hsla(17, 100%, 74%, 0.9)\"],\n",
       "                [],\n",
       "                [],\n",
       "                \"\",\n",
       "                [],\n",
       "                {\"axis_y_min\":0}\n",
       "            );\n",
       "        }\n",
       "        iframe.src = \"/static/graphs/templates/c3VizRotated_template.html#id=timeSeries-GWBPHEITAHHFBBFHWMMPRPVUXWKQHSBX\";\n",
       "    }());\n",
       "    </script>\n"
      ]
     },
     "metadata": {},
     "output_type": "display_data"
    }
   ],
   "source": [
    "chartTopURLsByLoadTime(TV.startTimeUTC, TV.endTimeUTC)"
   ]
  },
  {
   "cell_type": "code",
   "execution_count": 19,
   "metadata": {
    "collapsed": false,
    "input_collapsed": false
   },
   "outputs": [],
   "source": [
    "#usually no bounces\n",
    "\n",
    "#chartBounceRateByDatepart(startTime, endTime, datePart)\n",
    "#chartBounceRateByDimension(startTime, endTime; dimension=\"minute\", n=15, minPercentage=0.01, beaconType=\"page view\", pageGroup=[productPageGroup], country=[\"US\"], device=[\"Desktop\"])\n",
    "#chartBounceRateByDimension(startTime, endTime; dimension=\"page_group\", n=15, minPercentage=0.01, beaconType=\"page view\", pageGroup=[productPageGroup], country=[\"US\"], device=[\"Desktop\"])\n"
   ]
  },
  {
   "cell_type": "code",
   "execution_count": 20,
   "metadata": {
    "collapsed": false,
    "input_collapsed": false,
    "scrolled": false
   },
   "outputs": [
    {
     "data": {
      "text/html": [
       "<div class=\"dswbOutputText\">\n",
       "    <strong><span class=\"chart_info\" style=\"color:#B1D6ED;\">Using session timeout value of 30 minutes...</strong>\n",
       "</div>\n"
      ]
     },
     "metadata": {},
     "output_type": "display_data"
    },
    {
     "data": {
      "text/html": [
       "<div class=\"dswbOutputText\"><h1 class=\"chart_title\" style=\"color:#ccc\">Concurrent Sessions and Beacons by hour</h1><h3 class=\"chart_info\" style=\"color:#ccc\">November 19, 2017 11:59:00 to November 19, 2017 21:59:00</h3><h5 class=\"chart_lastCalled\" style=\"color:#ccc\">Run at November 20, 2017 15:54:09</h5></div>"
      ]
     },
     "metadata": {},
     "output_type": "display_data"
    },
    {
     "data": {
      "text/html": [
       "    <iframe id=\"timeSeries-EMBLJKQEIMXKUIXWGHPCDKYPHTKYMRDB\" class=\"dswbiframe\" width=\"100%\" height=\"600\" src=\"about:blank\" scrolling=\"no\"></iframe>\n",
       "    <script>\n",
       "    (function() {\n",
       "        var iframe = document.getElementById(\"timeSeries-EMBLJKQEIMXKUIXWGHPCDKYPHTKYMRDB\");\n",
       "        iframe.timeSeriesRendererLoaded = function(runner) {\n",
       "            iframe.runner = runner;\n",
       "            iframe.runner([[\"x\",\"2017-11-19 11:00:00\",\"2017-11-19 12:00:00\",\"2017-11-19 13:00:00\",\"2017-11-19 14:00:00\",\"2017-11-19 15:00:00\",\"2017-11-19 16:00:00\",\"2017-11-19 17:00:00\",\"2017-11-19 18:00:00\",\"2017-11-19 19:00:00\",\"2017-11-19 20:00:00\",\"2017-11-19 21:00:00\"],[\"data1\",84,7886,8265,7448,12141,12028,10399,9994,18033,40680,33231],[\"data2\",91,8895,9497,8632,13712,13615,11916,11454,20019,44639,36723]],\n",
       "                [\"Sessions\",\"Beacons\"],\n",
       "                [\"hour\",\"Concurrent Sessions\",\"Beacon Count\"],\n",
       "                [\"area-spline\",\"bar\"],\n",
       "                [\"hsla(28, 100%, 86%, 0.9)\",\"hsla(197, 70%, 73%, 0.9)\"],\n",
       "                [],\n",
       "                [\"data2\"],\n",
       "                \"    .c3-line {\\n        stroke: #039BE5;\\n    }\\n\\n    .c3-area {\\n        opacity:0.4;\\n    }\\n\\n    .c3 text {\\n        stroke: #979797 !important;\\n    }\\n\",\n",
       "                [],\n",
       "                {\"point_r\":0,\"axis_y_min\":0,\"axis_x_tick_culling_max\":20,\"axis_y2_min\":0}\n",
       "            );\n",
       "        }\n",
       "        iframe.src = \"/static/graphs/templates/c3Viz_template.html#id=timeSeries-EMBLJKQEIMXKUIXWGHPCDKYPHTKYMRDB\";\n",
       "    }());\n",
       "    </script>\n"
      ]
     },
     "metadata": {},
     "output_type": "display_data"
    }
   ],
   "source": [
    "#displayTitle(chart_title = \"Concurrent Sessions and Beacons for $(productPageGroup)\", chart_info = [timeString])\n",
    "chartConcurrentSessionsAndBeaconsOverTime(TV.startTimeUTC, TV.endTimeUTC, TV.datePart)"
   ]
  },
  {
   "cell_type": "code",
   "execution_count": 21,
   "metadata": {
    "collapsed": false,
    "input_collapsed": false,
    "scrolled": false
   },
   "outputs": [
    {
     "data": {
      "text/html": [
       "<div class=\"dswbOutputText\"><h1 class=\"chart_title\" style=\"color:#ccc\">Points above 3 Standard Dev</h1><h3 class=\"chart_info\" style=\"color:#ccc\">These are the long points only limited to the first 500</h3><h5 class=\"chart_lastCalled\" style=\"color:#ccc\">Run at November 20, 2017 15:54:09</h5></div>"
      ]
     },
     "metadata": {},
     "output_type": "display_data"
    },
    {
     "data": {
      "text/html": [
       "    <iframe id=\"timeSeries-BYXBHLLZTGSICZSKRFBELILBHZTUBVCH\" class=\"dswbiframe\" width=\"100%\" height=\"600\" src=\"about:blank\" scrolling=\"no\"></iframe>\n",
       "    <script>\n",
       "    (function() {\n",
       "        var iframe = document.getElementById(\"timeSeries-BYXBHLLZTGSICZSKRFBELILBHZTUBVCH\");\n",
       "        iframe.timeSeriesRendererLoaded = function(runner) {\n",
       "            iframe.runner = runner;\n",
       "            iframe.runner([[\"x\",1511092786545,1511092790893,1511092799778,1511092747944,1511092778310,1511092742393,1511092776152,1511092788665,1511092773180,1511092789213,1511092742200,1511092771241,1511092774268,1511092776477,1511092756240,1511092762902,1511092785596,1511092779164,1511092788776,1511092769658,1511092789775,1511092775725,1511092746612,1511093795084,1511093867504,1511094564362,1511094831805,1511094885589,1511094928734,1511095634603,1511096003487,1511096233971,1511096301098,1511096380149,1511093374974,1511093861331,1511094838573,1511094867876,1511094903278,1511095197898,1511095670493,1511095945954,1511096302425,1511096350712,1511093024056,1511094084959,1511094172124,1511094938915,1511096241067,1511096287262,1511093058876,1511093155481,1511093815429,1511094148736,1511094172387,1511094457370,1511094868338,1511095668504,1511095967687,1511092864728,1511092964691,1511093980764,1511094011809,1511095032722,1511093084248,1511095333181,1511095812059,1511096098215,1511093708889,1511093719367,1511096207630,1511092819930,1511092938391,1511093552397,1511093569176,1511093587531,1511094840918,1511093603188,1511094848712,1511093665263,1511093902380,1511094305657,1511094388062,1511095641000,1511094640512,1511096378820,1511093115922,1511093422573,1511095419677,1511095466140,1511095469858,1511095762050,1511094506393,1511094514702,1511094519085,1511094926419,1511093215803,1511095279107,1511095955799,1511096013341,1511096254380,1511096269204,1511096326995,1511096345078,1511093009955,1511093673168,1511093468336,1511093516110,1511093706768,1511093744322,1511094195244,1511094196038,1511094199070,1511094405905,1511094654598,1511094748979,1511094424769,1511094582512,1511095395005,1511095244657,1511095827448,1511095529660,1511092909467,1511096012429,1511093192702,1511096317878,1511096335414,1511096381846,1511093511029,1511093787351,1511094035480,1511094089636,1511094119292,1511094182845,1511095359883,1511094861711,1511094924427,1511096219299,1511092849917,1511093528106,1511093624945,1511093948365,1511096309920,1511094293366,1511094320882,1511094365130,1511093139149,1511094992275,1511095010921,1511093354384,1511093394347,1511093420987,1511093474892,1511093775877,1511093816484,1511094569508,1511095175116,1511095651281,1511096178065,1511092808895,1511093266006,1511095860991,1511095990597,1511096262375,1511096319098,1511093942478,1511093996688,1511094255125,1511094338228,1511094386999,1511094745759,1511093509017,1511094763291,1511095070056,1511094185162,1511094452786,1511094456509,1511094462343,1511095777703,1511095801042,1511094879035,1511096068485,1511095190789,1511093524866,1511093609299,1511093680558,1511096336280,1511096366344,1511094004793,1511093057751,1511093492572,1511094738474,1511095024788,1511093739381,1511094092606,1511094550683,1511096080320,1511094805247,1511096091064,1511095282059,1511093201423,1511093218591,1511096256310,1511096337233,1511093099425,1511093443028,1511093704314,1511093773144,1511093811988,1511094698657,1511093869642,1511094801841,1511095785887,1511096179847,1511096196839,1511096207905,1511092830129,1511093175668,1511093557234,1511096228960,1511096263278,1511096313590,1511093948890,1511094048522,1511094643823,1511094680291,1511094699141,1511094142883,1511094194412,1511094886218,1511095179176,1511093240808,1511093281122,1511093307424,1511093332669,1511095628316,1511095656363,1511093610331,1511095870579,1511093925195,1511093941042,1511094021120,1511096302204,1511094252535,1511094684516,1511094687780,1511094703141,1511093458530,1511094973758,1511095075924,1511093756369,1511095485417,1511094061377,1511094130084,1511094151768,1511095495263,1511095752613,1511095782797,1511095833247,1511096062150,1511096180064,1511096207468,1511094493147,1511095144720,1511095223319,1511093538974,1511093595566,1511095603590,1511093955950,1511094013905,1511094051898,1511094254870,1511096351260,1511094391276,1511094712727,1511095022154,1511095046223,1511095063425,1511093422145,1511095329822,1511095392406,1511093510669,1511093854526,1511094069022,1511094157144,1511094187501,1511096047750,1511094449338,1511094485347,1511094512147,1511092929084,1511095140425,1511093529004,1511094004252,1511094007763,1511095285091,1511094601787,1511095555927,1511095558257,1511095030428,1511095426825,1511096100174,1511093153416,1511093465845,1511092937398,1511093321407,1511094427712,1511093543600,1511094796397,1511094305254,1511095613941,1511095617421,1511094414323,1511095676407,1511095892609,1511096020393,1511094966289,1511095097146,1511095099417,1511093092290,1511093397115,1511095441714,1511093446860,1511095682649,1511095713865,1511095773977,1511095797622,1511095853847,1511093768589,1511096083485,1511096125592,1511094062650,1511094095426,1511094212193,1511092893904,1511094486807,1511094560149,1511094868300,1511093319514,1511095254141,1511093335189,1511093953861,1511094245296,1511094247875,1511094364906,1511094387159,1511096375374,1511094983953,1511095094949,1511093029750,1511093034547,1511095137469,1511093716171,1511093726220,1511094177175,1511092866719,1511095231474,1511093536751,1511095276429,1511093653430,1511095580293,1511095646079,1511093953319,1511094001107,1511096013286,1511094335033,1511096247102,1511092980254,1511093008354,1511093077778,1511093427334,1511095322510,1511095373426,1511093519333,1511093713356,1511093778396,1511095702494,1511095818652,1511093876414,1511094137868,1511094159285,1511096097470,1511096129624,1511096191587,1511096195175,1511092942086,1511094450750,1511094559464,1511094856568,1511094893293,1511094901592,1511094959070,1511093555575,1511095161724,1511093575376,1511093605042,1511095184233,1511095200513,1511093981708,1511095554367,1511095556228,1511095585806,1511095599903,1511095655261,1511094331210,1511095890917,1511095935175,1511095976542,1511094649686,1511094717886,1511094752428,1511096243023,1511096265823,1511096329943,1511092988737,1511093059108,1511093074317,1511093104499,1511093137607,1511093371049,1511093426511,1511096197969,1511093484531,1511092863554,1511093727126,1511093759777,1511093861178,1511093867740,1511093873850,1511094074007,1511094080822,1511094111254,1511094129928,1511094145294,1511094170955,1511094233597,1511094236208,1511094440219,1511094448442,1511094495842,1511093573154,1511094815240,1511094824004,1511094850908,1511094860806,1511094899525,1511094933721,1511095141441,1511095199127,1511095256391,1511095297343,1511095303004,1511095532558,1511095554167,1511095637395,1511095882844,1511095887702,1511095939527,1511095969274,1511096017616,1511096020402,1511096295528,1511096334255,1511092983310,1511092994033,1511093054210,1511093099409,1511093124910,1511095835981,1511093358720,1511093366179,1511093374860,1511093404724,1511093499022,1511092948621,1511093790405,1511093815349,1511093837419,1511093859450,1511093223739,1511094061214,1511094075225,1511094136196,1511094163119,1511094167933,1511094188255,1511093599118,1511093889791,1511094544021,1511094841058,1511094846619,1511094874548,1511094893738,1511094940767,1511094948244,1511095163127,1511095184753,1511095194296,1511095214037,1511095530862],[\"data1\",41586,43392,20668,14536,16065,22671,19465,20903,107258,14477,179102,30747,15525,36205,47181,267697,15607,36114,14072,14231,25540,13593,12343,25928,36743,16586,60594,96037,31364,52489,32716,34189,19705,13290,20247,21857,74875,15266,14228,16696,54473,14464,15824,13398,22070,14316,19380,18551,26459,29454,16632,19610,15925,24476,68132,18497,45837,206120,21272,44884,12406,31242,36904,55299,51155,22817,26405,48730,12703,15418,13639,14374,32849,31986,12287,15106,15613,15310,34345,27476,16623,23558,21930,23111,32693,22078,26018,13024,27043,18369,17576,16632,19730,13110,31322,37339,23026,20440,27322,28623,44767,42817,101568,18809,94621,39888,19532,29312,36306,61607,26498,15643,12342,25413,23004,49492,36263,20175,45491,16351,15915,63308,25391,34933,122947,49073,21492,29907,127232,12511,39034,37065,20602,18535,25523,13057,73486,15273,17767,16840,14459,26088,17594,22569,37667,15396,24206,18374,33150,183059,37720,16571,25896,61489,21151,17176,20993,15647,26758,32008,29299,16376,20097,36070,38657,98080,32645,18698,19569,15927,12807,29561,12275,50648,33277,31196,31980,14375,35390,81024,118119,15076,21475,25689,20837,25676,32014,27531,31471,35546,18225,33223,74728,35107,19174,14319,49820,60425,19176,30923,16130,29450,22990,68652,23752,26783,51288,17612,42910,94386,66424,12992,42367,95791,19582,55956,23207,13572,24033,42094,14885,19333,77345,92955,19981,36709,26333,17923,14357,16145,13474,218147,15557,22020,19862,30517,21204,37629,15428,12287,19073,32943,19564,16979,13576,47754,27016,15943,118416,18922,41496,32520,18827,33940,41886,20198,31577,23558,29859,18007,21222,40715,207097,54645,75050,15952,12516,14152,29791,47533,23047,16419,46236,22972,17165,106025,49811,13467,13984,53256,38178,35195,23847,26110,58904,23579,34706,22982,85028,20352,19983,23902,15799,16323,12298,38561,76802,16837,27674,34049,28846,29753,170487,24458,95011,16566,15233,19424,17703,13284,20833,22867,74550,30747,535243,17279,36287,103773,17377,86136,19993,29491,123656,36347,63662,19806,15555,16570,13941,13665,17437,31928,12221,27773,13520,17986,22326,40273,33171,18471,16629,12820,281504,50745,17609,23534,60448,80288,13160,36004,14945,44541,440174,93034,107544,17676,25578,15642,16905,12231,16039,45744,17727,17323,12357,34296,14272,42049,25095,15827,16630,46564,42577,18119,65649,47153,19979,44830,13498,38874,12918,36065,44295,26603,28935,16829,44474,37271,22012,35524,99642,24292,17255,19502,48260,64734,79581,79232,15789,19835,21544,49752,28010,191732,32832,35926,36699,47214,17582,47955,13093,12983,20300,26386,35740,39662,17629,36133,20017,48095,461652,13062,28242,29724,122519,22068,35460,24572,19190,13683,22721,41883,16000,36016,21411,31000,23362,34163,145713,14133,22752,24333,66584,18325,15222,13661,24795,39934,29129,12458,53431,32552,93619,15343,18759,22075,148652,15999,19323,14836,55734,24902,19605,23253,24432,14369,36116,24630,20836,24664,20334,15531,23835,62499,14483,20877,37632,12559,24352,33393,284252,18937,79003,86871,20689,29927,17382,18720,23830,50084,49686,26488,12524,23352,75736,27950,12908,20771,13413,30845],[\"data2\",\"c137c486-ad90-4d25-89cb-b81fe579777e-oznymd\",\"2935c8a6-9426-4e13-92d9-39ca75c3608d-oznymm\",\"e389aee5-5505-4954-9d8f-f4bbb1dc2d06-oznync\",\"8265c6d2-bd5f-43b3-8631-963cfe00e38f-oznyl0\",\"1d796035-b37e-42a5-8c04-cc2ae63d7bd5-oznymx\",\"d30a0906-5e4c-4a93-bdae-ede49190c2e9-oznyls\",\"a8fa9aa1-8ae0-4bd8-bfb3-42c1442c348d-oznymu\",\"d7ef8281-ad17-4531-aa78-34e093b7c203-oznyft\",\"02366365-45ed-4dcc-8d36-100f716da6b8-oznyk4\",\"cd6d6fcc-934a-4714-bd28-21fe225f2cfe-oznyna\",\"df192531-2438-4188-9943-01976607b399-oznyhk\",\"9af5cbe4-ceee-4857-9b35-b44edcacd093-oznymb\",\"3d1c5336-46a5-4fa0-b446-9fdfa0c34cbe-oznymt\",\"fab3ba58-ada1-45cc-bae9-eafbf6cb8b6c-oznymb\",\"992dd201-3a76-4988-949d-8da93d44c77b-oznyl3\",\"33fba46a-d1df-43fb-a00f-5798550c6da2-ozny6c\",\"e2771dbf-e335-40d9-ab83-9b21ab518ef0-oznyn4\",\"4f72eebe-2fda-4991-bfc7-bd1f63a5c850-oznymf\",\"201b946c-6cfd-448b-9e21-bba9e57d7c3a-ozny8n\",\"3dc37270-9496-43fa-9627-3653b64c9685-oznymr\",\"5a9ce629-2030-4a36-8af4-529e62e0f8d3-oznymz\",\"718d5a9d-29a2-4cbf-b9b9-2cc0b401414a-oznymy\",\"e50d324b-63b2-4421-8811-d58c70248161-oznxud\",\"ff6b02aa-2aed-4c89-a0f5-d97c2942b260-oznzct\",\"311dafd9-bbc8-4fa4-81f6-3e86d7ec28e7-oznzgf\",\"4d8eb821-de4f-4ecd-bd5c-9d32ea92ce80-ozo00g\",\"bc9c186e-f4e5-4f64-a677-495175f80e4f-ozo06r\",\"dbee8f87-94f9-49f2-a16c-0f319411dac8-ozo075\",\"27562a43-5f0f-41c4-9135-2e00af104bc0-ozo0a8\",\"8454d39d-9b7e-4914-9190-ef3d8801fa06-ozo0t1\",\"4e997d3a-facb-46e2-a72c-a305b4cb7319-ozo143\",\"43ac4d59-8661-4f1d-afb2-4368e0f113ab-ozo1ae\",\"266246ff-a312-4485-ade0-940e0649cd73-ozo1co\",\"c8356cd7-ce44-4cf5-ad03-98c8d4c95289-ozo1f2\",\"33486c7b-6756-4691-b948-33e568b8b770-oznz3f\",\"e039181b-4616-47e2-86aa-d1a163381254-oznzgv\",\"b8789401-7857-4f19-b7f9-d74f9dcf0c06-oznzi5\",\"303e320d-1089-4816-b9e2-a06301954119-ozo090\",\"04b0bb88-9914-4c1c-a5e5-50c93d30d4a6-ozo0a3\",\"d6bff48f-455d-493f-9049-38423ef26039-ozo0i9\",\"b718c33c-92c8-46ee-8f92-9c55b66d8f0a-ozo0mx\",\"1db22b59-cff9-4ab8-87ca-39631b5ee4ed-ozo13e\",\"380c8548-8c71-4dbd-aa37-ac67bee895ff-ozo1cu\",\"b140963e-f4cf-4758-a26c-1bad5f1d89c4-ozo1e9\",\"a470756f-d2c6-4232-a83d-58b0c1ffae30-oznytl\",\"8cc4b7e6-dcbb-4347-8a2a-639875bb4239-oznznd\",\"d9506b4d-5288-4412-97b0-1ef0f8a98811-oznzpj\",\"982d8b53-517e-4f41-b759-3f80a99c3209-ozo0cd\",\"6b230d03-a04a-436c-88ec-c3ff12b5a2aa-ozo1ay\",\"d288d784-1b0e-4d82-97e3-ad83fdda5a4a-ozo19c\",\"76d67f9b-5868-4e74-be2a-c84083814a41-oznyut\",\"82c2eb0e-8bb2-46d9-9fdf-8ba503983c9e-oznyxa\",\"05476627-4eba-42b6-bcf8-85654263284b-oznzfr\",\"e828e2d4-f5e4-45c6-b623-ec37603ae1ea-oznzos\",\"f7167666-95b4-4790-9ea1-3f79e480528f-oznzne\",\"fa811673-c3a3-4c6c-abbc-70bef66ad40d-oznzxh\",\"46dada59-0de5-4c28-822b-d78b7eb6459c-ozo058\",\"4ce2891a-585c-4bd7-bc83-e762b05c903d-ozo0px\",\"8223abd7-0e95-4230-8b54-d79edeb3a141-ozo13e\",\"b4785862-e258-47b0-84ba-c785977c6112-oznyok\",\"b7a6568a-aed1-40d1-8d57-08689bcb48e5-oznys7\",\"ff6b02aa-2aed-4c89-a0f5-d97c2942b260-oznzct\",\"18e56e90-ea42-4ab9-ac8e-147546c11e72-oznzkn\",\"5637e91c-7a67-4bc0-a428-7a58b06fc09f-ozo0cb\",\"90a5b155-c4f8-4c1b-853b-d150b2a65aa4-oznyu6\",\"2d7d127f-c6b9-4edd-8b69-c7edeef52362-oznxsg\",\"106c2a5d-e0c8-4a48-b882-a4b1798a450f-ozo0yx\",\"f39d73bf-1b01-41c7-9b05-10228b8fae80-ozo16f\",\"33588368-14db-414e-89ce-09b863d8d68f-oznzcv\",\"c34917bb-5124-4978-b4ec-505fb965b05e-oznzd2\",\"db44c598-9388-4540-960c-389cd19a58a7-ozo1a2\",\"b4bc5130-d257-43f4-93fe-dd9309dd47ba-oznyo5\",\"425efd87-1e94-4f73-81d2-52d64e248215-oznyra\",\"815f4bd3-d70b-4a54-9161-2b2ddc5c0ba3-oznz7y\",\"1ebb8a88-5610-4ad1-a452-22ce6715987c-oznz89\",\"48eda703-a02d-4ba8-ac3d-3ab192b45b2f-oznz9f\",\"4ea8a55d-26ae-41a3-95d2-c33c1bb45738-ozo08c\",\"f4f37d75-af56-4f10-b578-73adff06e3e3-oznz9u\",\"c9984e39-b952-4f67-95a7-690cb3b504a7-ozo080\",\"d453b6d8-b967-4472-bc15-2d825e03bfab-oznzba\",\"b8789401-7857-4f19-b7f9-d74f9dcf0c06-oznzi5\",\"a7cb4d88-388c-4ea5-90f4-60fe62fb70d3-oznzt3\",\"8c145cba-1eed-45e6-9c87-953901cf366d-oznzqm\",\"099b4c9e-6b4a-42d9-a5cd-cb00158dde35-ozo0u8\",\"45f7b254-22f9-471f-954b-4a1d3df84cb0-ozo027\",\"644737a6-802c-49df-9b9e-d2572f72d9e9-ozo0yz\",\"ec8ab4a1-2932-4554-9b8e-55fe8e152432-oznyw0\",\"7a19b641-5cd9-45ab-827d-714fb6aa22ca-oznyeh\",\"e238e148-f1c4-447c-b4e8-86bf9e573b4d-ozo0nx\",\"77fe9176-7397-480d-816f-d04bb6a6f2d8-ozo0pi\",\"bff81736-145c-4f7b-81e4-73737864e8e3-ozo0pp\",\"b5eda0d3-e9f5-4d96-b2f5-c27e35517e9f-ozo0te\",\"a2dfe7fb-c535-4a60-9c9b-5dc96ec42089-oznzys\",\"b5d916e3-8042-4202-af50-e16842c3f5f3-oznzz8\",\"531a96c9-3f86-4ad1-bf60-ca12190f087d-ozo08v\",\"f2169580-d25a-499f-8ce0-cb1e71be5cfe-ozo0a0\",\"906623a8-cf96-47b3-9af9-8e88dd04e51a-oznyyw\",\"92b06607-4da2-4715-a6ff-011d044ea2c6-ozo0k9\",\"b7aba31c-77a9-492e-8bd4-362115da9519-ozo121\",\"84eacc7b-12cf-42f0-a122-da59cccd0153-ozo14p\",\"ebd34509-3fd6-43ad-bbfb-a49e753a61cd-ozo1ap\",\"08131b43-b4df-443e-be03-cf4a5f31836d-ozo1ba\",\"e607db01-bf58-42bc-9fc9-4dc2fb0e8628-ozo1b7\",\"b7aba31c-77a9-492e-8bd4-362115da9519-ozo121\",\"0b81a65b-3a6f-47c9-9d6e-b002bd5652b5-oznyr2\",\"05416aca-b230-432f-986d-e0d685c29c82-oznzb5\",\"e65e2652-8ad3-40c7-8c06-ce33afe3fc0f-oznz61\",\"5629a4e0-855b-49a4-b0fa-9e73a0780cb8-oznz72\",\"ff75c227-a9ab-46c6-94c7-ed35a3bcdc5d-oznzff\",\"37c13dd9-7017-4126-95a6-951b4552b999-oznzch\",\"0a38dcce-95af-45bb-a990-049fd1c57888-oznzpz\",\"e307f463-0d6f-4804-a0f0-587dae757fa7-oznzqc\",\"101b26d3-89c3-4530-bed0-8d15eda81c33-oznzqi\",\"20bf4edb-b0b7-4236-85e6-5774eba019d0-oznzvw\",\"f254ad06-3f6b-4a3b-89da-79b20b4e908e-ozo02r\",\"a990ebcb-f3d6-4cc0-8e37-f5d44e63d27f-ozo04q\",\"fc2efdca-86f9-4041-b244-7208e499c6d1-oznzto\",\"129ecddb-e47c-43e6-b209-9cc27cdfc3e6-ozo00w\",\"24637cb0-1ba6-4b7b-8f82-b05046531264-ozo0mr\",\"b4d756d7-ee4d-4a5a-90c6-e5d33471ac67-ozo0jf\",\"9f53bf46-09ee-4fb6-acf2-51e97b566808-ozo0zn\",\"870bfae5-b4bd-45bc-b295-fd2caa2a8f62-ozo0q2\",\"6d6652e1-e783-424b-9fe0-8a461e1234dd-oznyvw\",\"c1e75eb5-38be-4827-8ddf-b5a9ff8982ec-ozo144\",\"55b22829-76b4-45bd-9782-e240d6e72360-oznyvh\",\"a50955d9-4140-47ec-bd7f-f0746d231d2b-ozo1ca\",null,\"6f654b15-f414-40de-84f1-fbc277624da8-ozo1n3\",\"67ec885c-c7cc-4d3c-87ce-f759ef46dc61-oznyzh\",\"65f5b0e3-37ed-49ad-a208-bb958cf899e5-oznzf5\",\"b893e28d-5ce8-4fa2-b66f-c988eb7915ad-oznzl7\",\"20437c91-78e4-4d07-84cf-14399cdf6e57-oznzmw\",\"07bdecc6-0f09-459f-88fb-8937919a37ab-oznzo3\",\"d5431b7d-bdcc-447a-a403-f2f6986e0ee5-oznzpw\",\"84b249fa-fe3d-45ee-b935-e118e00f60e3-ozo0me\",\"1ac984f4-c031-4162-8330-ea1e995a57fa-ozo04j\",\"1a7772b1-6284-45ed-900a-8a14e9facc3d-ozo08y\",\"2ab1870c-335e-472b-b30c-f3f3bea37fb4-ozo1ak\",\"d569fdf8-035d-4f1a-839b-831171ed5180-oznyov\",\"75c46f48-32e1-45bd-9a00-64d481408e4e-oznz7o\",\"655ac710-6adc-4e98-ac9c-c95b99b48798-oznz8r\",\"f09425e3-ca22-49a3-bab7-281ee9dffbbd-oznzj5\",\"691eac46-2c03-4c90-85b2-33234dacc77a-ozo1cy\",\"9fd03460-1992-4952-99c6-f9051eaa2bcb-oznzrk\",\"80937077-5522-43d0-8312-d044725b3b0d-oznzt3\",\"827278dc-8798-4f77-ba6b-6fe29cdfd58e-oznzv1\",\"1ae305ef-4240-492c-8494-8c9cccdd9db6-oznywr\",\"e9b5a707-cf58-4d88-9f66-41c49dae8d8b-ozo0ca\",\"1837e112-d2a6-452a-9259-4946e1165037-ozo0cj\",\"17119b57-c6a6-4dbe-9e59-31a1df4dc661-oznyya\",\"ba5d462a-2b1f-4d16-b0ab-1b0fc644be49-oznz3e\",\"17c02fd1-8ae6-4dac-8f01-af2d0ce4221d-oznz4r\",\"97ee830c-be66-462d-b222-bf594e1d8fa8-oznz5z\",\"24a2458e-2cfb-4d47-b7bd-72b6d8d323e4-oznzde\",\"c14790b6-37e1-47e9-93d3-cf46b31a1dff-oznzfu\",\"d29399aa-1ab5-4681-a0ca-3db00bd6956d-ozo00n\",\"0b84906b-4674-4e4a-b583-b47b481c1785-ozo0hc\",\"0951cacc-7792-43e4-ba26-398c1fec6555-ozo0uq\",\"3aa9e96d-7ac9-42fe-a7ab-8c19fe99bfca-ozo192\",\"4c3b46f0-1d45-4e25-9fcd-da97a0b27837-oznyn5\",\"bd6140bd-9341-4b4a-8978-6f843117009a-oznz1m\",\"df3919bf-46f3-4fe2-b3c8-4335307a758e-ozo10n\",\"2e67f653-1edb-42c8-b293-26d52a06bcce-ozo142\",\"2e334d29-e9d9-412d-a52b-a800578cd646-ozo1b5\",\"9d6fbd0a-3f53-4a95-baa5-00d6a7f5eebc-ozo1cn\",\"7e781f98-c5ec-4f10-9e0e-71a6838e7000-oznzsy\",\"08738a9a-296d-4150-a2b0-56291364f408-oznzjy\",\"95762ad1-9c52-4bf1-bf47-bb01d03339f0-oznzrv\",\"a6711a0b-a984-42dc-af1c-f89957b08738-oznzu7\",\"5ffbcf68-9a24-4616-947f-849955c3e1c1-oznzvm\",\"85a0fa3a-f413-487d-b352-238c61b4413f-ozo05o\",\"e513c2e4-4e78-4ac2-b21d-9e919b76a5e4-oznz6v\",\"b9c67295-226b-4ae4-9ae6-20bc34010a2c-ozo067\",\"f2d980de-9226-467b-88d2-a009ebf16839-ozo0bi\",\"21ae4359-63ee-484c-ae4c-7e7bc5423de5-oznzn0\",\"c81b278c-56e4-4859-ac0d-8a230887072a-oznzx1\",\"9a5a063e-ea00-421f-8a68-a07ecc9adf4b-oznzx5\",\"1883f9bd-848b-43ab-813f-a854e8e63679-oznzxq\",\"a1df0bc3-f4d5-472b-bab9-8a54650ab1d1-ozo0xt\",\"e88005bc-c569-4ead-81ec-42e769acf56d-ozo0wv\",\"8a86d4f6-e55d-49c1-900b-6dd5e685fa54-ozo06f\",\"6967f71e-cca9-4496-aeb4-98210e401f38-ozo16d\",\"3be67925-a304-4e00-92ad-98ba00356f8f-ozo0hs\",\"4ede249c-d82f-4faf-80ce-efacd5a63c83-oznz7d\",\"eb09045f-575c-433d-87be-c32a9b8f9791-oznz9w\",\"643f8b20-7f3e-4a34-bf99-de8440b64c78-oznzc4\",\"5592957b-f931-4a93-8b25-c171c46497dc-ozo1df\",\"d7cfc0cc-a3d2-41a6-a4a0-77b205f09757-ozo1e9\",\"95472061-4219-433a-ba2c-e9c2ead89ad0-oznzkl\",\"a556bac1-fe52-4bd8-bafe-c50b54281f36-oznyu4\",\"ae38241a-ce65-4214-8ca8-9614074af9ea-oznz6m\",\"2d57d2b2-8575-493e-8569-08200d16f5ae-ozo04r\",\"f7c399b2-489c-4e2f-95d8-e5968409aeb3-ozo0bk\",\"045e3b34-527c-43cc-b15e-8805727c4f9f-oznzd2\",\"a57d9656-6b55-4835-b53a-733de113c7a9-ozhzbq\",\"f1b3b030-6823-48f2-a786-28082320b003-oznzyx\",\"86ed2e9d-c005-49ae-8b92-540e54488059-ozo13w\",\"db268fa5-9e40-4e67-adbd-fcd3f2154bbd-ozo05z\",\"13d73e5e-febb-4653-a6cc-3bd31ecf78cb-ozo16v\",\"3bd626b4-7a8f-43cd-8949-6155a093611d-ozo0k1\",\"3a389519-f5e4-40ff-9e9f-3e1e7599065a-oznyyo\",\"ed7169ef-6f63-4a9d-830e-4e6cc3215e44-oznyyr\",\"684233be-c162-49ab-ae8a-0dea6f47a7eb-ozo1cr\",\"18ded432-54d5-46fa-9a06-4793dc61c6cd-ozo1ca\",\"fa8d5f27-fee4-4f60-9cfa-73fd7d5a7db8-oznyvo\",\"c2a0e78e-93e0-4440-bb03-79f356e1eaed-oznzd6\",\"fd29a2da-d8b2-44c1-898c-41114dd0fd96-oznznp\",\"26161bb4-99ba-402f-994e-d704b53b6c8e-oznzej\",\"fd29a2da-d8b2-44c1-898c-41114dd0fd96-oznznp\",\"cfd030cc-9f0e-4318-89f0-054bfa407703-ozo01z\",\"7475ec67-0eb3-4283-b66e-3563963ab785-oznzfp\",\"78c8c84a-6430-4498-b939-07857ec840ae-ozo074\",\"7c1a6894-91a9-4c65-a1d7-800fcc68faaf-ozo0xs\",\"0e3714f1-0b28-4775-9363-00d121a0ce21-ozo177\",\"75cf5d32-8980-4764-8d0e-3b09bdd5eae5-ozo19s\",\"598c3dad-5702-4c5d-8171-46db3d394eb5-ozo191\",\"bf9098ff-4d64-4625-9c3f-21028ddb3766-oznyo5\",\"834aa624-7c5d-4206-9734-bd5942bf112b-oznyy2\",\"f134ff0c-c02b-4dca-b37e-34d39e4cad2e-oznz8d\",\"f64b8d1a-ddb4-459b-be6a-718304e0379d-ozo181\",\"431322b4-857f-4462-83e9-b228ee7419d2-ozo1br\",\"91765ea6-833b-49e9-9bbc-8b6a2eda0988-ozo1d1\",\"a7dba7d3-5c50-4e73-ba95-530505b0b42f-oznzhl\",\"b47cf929-26bb-4bee-a186-266b4b727d7a-oznx5j\",\"99490a60-f804-4707-a353-aa79021eddcf-ozo02n\",null,\"bfdedccc-3a68-4053-bb28-7a948a6a4f3c-ozo03x\",\"6a67fdf7-0aa3-4652-8d6a-a568b61f38cc-oznzou\",\"01808753-bc38-4078-bb01-b68c0e4ea332-oznzq7\",\"b9b81723-0932-4578-8374-7012fc1e2ce0-ozo09f\",\"9353cad5-f753-4f12-a28f-cb67d35e9bb5-ozo0hp\",\"0b60ceab-9026-4ef9-932d-c14d81a469fe-oznyu7\",\"d0ce07bf-76d0-48cd-a4b7-0703adf77dce-oznz0u\",\"7c04a069-5f5b-4ee1-870a-afd3d8054706-oznz1d\",\"539845dd-6904-4a84-9e06-cf49770f4621-oznz3n\",\"e647ba79-e69d-47a1-9c48-6d04e2fa5089-ozo0sp\",\"2161b27b-d5bf-456a-b648-869c53375eac-ozo0uq\",\"7cc8786b-8e3a-43d8-a499-f9ddbd156c5f-oznz9i\",\"1689d7a8-3e6e-4d07-96d3-9228214581b3-ozo10v\",\"ddf874e6-7c95-48ed-a063-8a373718f24e-oznziw\",\"c5ec3aad-872a-42a1-812c-befb88ed052d-ozo5j9\",\"eb1742f9-8b70-45a2-bdcf-657e8a4aad4c-oznzkx\",\"b5da8311-cb49-4083-b061-88b273958d7c-ozo1h5\",\"be711a37-ec17-4304-a88c-58cbe994d5fb-oznzrv\",\"7f60c0f4-b863-4c92-939d-52652869d5e4-ozo03y\",\"b623c9bc-876d-4229-8563-19d7c08fbeee-ozo030\",\"8e58d157-6511-4e45-8b1a-c4f592cbacde-ozo043\",\"d4bab641-0239-44b2-9b84-bdd11050977c-oznyl3\",\"b4664153-4aab-43f9-b7f3-34315ad94611-ozo08x\",\"546678b3-3c58-415e-82b0-aee8da45ae2b-ozo0en\",null,\"4dda9069-7f0a-4907-96b5-4980065373d9-ozo0pn\",\"b1605597-3682-410c-b63c-7d4ea56b14c9-oznzmi\",\"a0d1b5f9-742e-40a1-9401-813170d9b280-oznznz\",\"4719ebbc-6854-4334-8d69-aebf0c033dd1-oznzoi\",\"86db9c0a-c5fb-4e02-80fa-dcea380232df-ozo0qa\",\"b68db0c6-b1b0-4136-8fe5-ce2431fe3039-ozo0x4\",\"9517dc1c-c2bf-429c-9966-1fe5d43c1288-ozo088\",\"e97b0dc3-40a3-4231-b67f-0cadb49b827c-ozo16v\",\"ba42a983-48a7-4b83-9c91-9f53f30c11e3-ozo162\",\"104fc168-6cda-4227-b86d-309efd7c69a2-ozo19a\",\"3f0a693b-ba32-49e3-8000-013d965fb927-ozo19j\",\"102d6c25-e13b-41da-a907-c85f2e9aa3b7-oznzse\",\"3140e445-5dcd-4b30-a51f-283b3a18978c-ozo0fg\",\"8971a4e6-f921-466d-aa2c-efcbe7565228-ozo0h7\",\"1b8ef13d-9a3a-4e3f-befe-1643affc2802-oznz82\",\"ff841d41-b9af-4d9e-a33f-d379b0228d66-oznyvr\",\"71c2d601-1a31-4ef0-bfb3-ae05b66a1cd9-ozo0tg\",\"e65be5fa-f3db-414e-8b3a-06a7ce0b5b7a-oznzj9\",\"065b93bc-0457-466a-be07-b4ad0de3abce-oznzkf\",\"bc921fe4-af11-4c4d-ac96-747c03c246b2-oznzm3\",\"b648b729-6243-4e65-bb1f-50600fe564ad-oznzpe\",\"525d6eef-637f-456a-8319-b5ab59fdd78e-ozo1d9\",\"13c23982-a745-4a81-aa63-6d6bb15a3d8d-oznzto\",\"299e5f34-969f-42d5-88fe-4d672b6df171-ozo04p\",\"0b2cabeb-de9f-4ec0-8d1f-a99892ad3bc4-ozo0aq\",\"2308ace6-b70c-4e53-a283-a443cc8a7d77-ozo0cz\",\"4a7988cd-0228-4944-acd4-e8ac83cd122d-ozo0eh\",\"bf7a6b40-9596-42f0-978c-13759ac887e0-oznyqo\",\"0b2cabeb-de9f-4ec0-8d1f-a99892ad3bc4-ozo0aq\",\"05dc445c-b283-40b0-8ac3-97ecb096da1a-ozo3ho\",\"942162d9-f4d1-4507-b9ab-a48ca7224724-oznz6q\",\"42916996-3120-4490-b422-d0f9a4cf00ce-oznzgo\",\"7271c5db-c71b-4eb7-a259-6aa90674481d-oznzmf\",\"6e0fec3d-8c7d-42d7-a7f1-ba0bafc5b7c0-oznzo0\",\"e7bc0e74-4440-450c-bd78-18505749808d-oznzpt\",\"a1ac9558-4b84-4709-8444-fe416a1aaf5a-ozo14u\",\"a329fba6-8ec9-444b-97fb-713e2a067e60-oznzx4\",\"e73d2ad8-585f-4200-8d2f-140e609607b4-oznzwf\",\"df83fc16-9b21-4e26-9b12-b8e68a2e0b0d-oznzyz\",\"19301469-e394-49d8-a1fc-e8e893cc4322-oznyqt\",\"396326d8-dd5c-43ed-b9ab-fc12552c1d40-ozo0gd\",\"283e7657-ed28-41e7-abd9-90f4450dac2e-oznz7s\",\"0840be09-caa0-4cad-997e-1d4378d36853-oznzky\",\"8a699eac-bf2a-4bea-bacf-5def0fe4b958-oznzl7\",\"53f52d49-d4b3-4990-82cc-13b2832dd77b-ozo0jx\",\"10fc8f37-1e07-4534-a589-94bb8204adb3-oznzzw\",\"e253464a-de79-4721-8b01-12a01bf56526-ozo0s2\",\"8a0ebb55-a982-4df5-b514-22117bbb7d42-ozo0rt\",\"f6baf176-6a42-48d3-8e04-fbd56f87eb57-ozo0d2\",\"f111eb14-d03f-44d3-b5c7-980e6150be36-ozo0o5\",\"cbedf89d-051d-4411-a701-3753e04cd98a-ozo16t\",\"fca219e6-3a97-4ed1-96e2-4b1d26e34ba4-oznyvh\",\"f1837177-05bf-4dbc-a97f-38c41a54b1b8-oznz5u\",\"563a43bd-bddd-47af-8703-c8b9409eb182-oznyp6\",\"be3948f0-8f53-4e10-a048-09a5ba7e2562-oznz1z\",\"b8f2c369-4d76-4d7f-b179-dc30dadbac13-oznzwr\",\"9c264081-aa73-4648-8552-abce2773759d-oznz82\",\"ef33d411-2119-46e2-bbef-a7a59de36bc8-ozo071\",\"2b5da5ad-7318-4291-aadf-8a0d195f9b36-oznztl\",\"1b00dc30-f78d-4f15-8ba6-d595626601c0-ozo0tj\",\"cd6d02e7-5c0e-41ee-87e8-8bf028a97ac3-ozo0tm\",\"b3b5cde1-01bd-43b6-a068-8adc914247df-oznzry\",\"b5c0be98-87c5-41d6-a254-f9834198cb0a-ozo0v0\",\"10d630e1-b36b-451c-9733-5beb0c1b0a37-oznxxl\",\"8a613696-6c67-4cd2-9fdd-45d1d8005b47-ozo150\",\"09de9440-ae03-4369-8295-c613676f0ecc-ozo0b5\",\"0e7f418e-e63e-46a4-9579-eae8a951e35b-ozo0cu\",\"3564367c-eb05-441d-a27e-c595ab73ebde-ozo0fc\",\"90ed4f79-894f-4b4c-b1d5-28e717413785-oznytn\",\"95d8956f-0c4d-4af3-897e-ea9fda775f7a-oznz40\",\"90c77644-ea9d-45f1-9a83-df66937a2801-ozo0oj\",\"c6651e7a-21c3-4a08-b864-14668f10ccf5-oznz25\",\"7deb63f5-08ac-4964-97f2-f915c529176c-ozo0v0\",\"9d486269-ab7f-4e0a-9fe6-ad4e15d8e805-oznytc\",\"bdcdfe0a-903d-4465-adda-d5147e31cf75-ozo0y1\",\"b9bea885-a27f-4ffc-88f0-ec8aa9398c63-ozo0yt\",\"0040f00c-c504-4c39-a3c4-7d172ba74540-ozo10d\",null,\"9678b77a-fd66-460c-b3fc-b3999e745f2c-ozo16s\",\"4a9ca597-db96-424e-b202-8be98c5a3d0d-ozo17w\",\"a5d6cf53-6924-40da-bfb0-3b5f90aa851f-oznzm6\",\"738b970f-8478-4a0b-9ee7-5f2856c011a0-oznznl\",\"8911146d-da00-40d5-8e45-9358348e01e9-oznzph\",\"eca91f3e-9eba-425c-99ed-8e181f5f2764-oznyq6\",\"660bcbc3-9cac-4f6e-ac7d-65bd5a5ce70b-oznzzy\",\"8f4c8a9e-563e-4857-9e11-9a1b178498ab-ozo009\",\"5f67c5e7-5583-4e8a-93b2-c0eb9dfcb19e-ozo08a\",\"074309c0-a63b-41ab-b9ee-130415653e4b-oznz1h\",\"9d6a0456-852c-4101-a176-c86d82286884-ozo0jn\",\"611d6376-a48c-44b8-abbc-585b2c4861b2-oznz2f\",\"2664444d-a02e-463f-98f7-8595a39ce8bf-oznzjn\",\"c23df17f-d2c3-4af2-87f5-30d19985e050-oznzk4\",\"4f94b8db-8e90-4308-9edf-cd7249f76ac1-oznzqn\",\"6b48c892-4c27-4636-a7fa-fb272cc3a344-oznzuw\",\"147309dc-49f3-4184-ac5c-bde6b439af55-oznzvd\",\"93b8df85-a3fc-4efd-8566-7d2a235e75c5-ozo1e2\",\"4719ebbc-6854-4334-8d69-aebf0c033dd1-oznzoi\",\"372232d8-c2d0-4a8e-9ddc-c3a3db034c06-ozo0fb\",\"f41d69a6-afe0-44a4-9733-c89e7c5217a3-oznyta\",\"af41763d-6851-4c88-88f3-cb299c8dae3a-oznyu2\",\"2171fc87-d379-4862-83fc-2900e85be856-ozo0fo\",\"1fb4110f-bf94-4f8e-9a40-c104a3759057-oznz10\",\"4ded71c9-da8f-44d0-a301-4205c50c97df-oznzb0\",\"3ed5c770-518b-432c-9916-7c2596b4df91-oznzms\",\"6f42fc39-a2b3-4aeb-b987-530066fac15e-oznypc\",\"db5fd916-0122-4e8d-ab9e-2e7f38942f31-ozo0it\",\"12e63891-6d79-4bf3-9c23-a9278afe64e7-oznz7z\",\"f59cee93-be7a-4bb8-bc96-6990f2debba2-ozo0k6\",\"0fbe7306-1754-4f25-82f1-711adc8d877b-oznzbc\",\"324150e2-1ec4-4066-93c4-defc51f2907e-ozo0ss\",\"aaefa9be-a30d-4934-93f5-fa4c095b7f8e-ozo0tr\",\"3dcf7ab2-2d9e-4255-804b-748194b12a61-oznzjj\",\"921f93bc-a73c-40bd-91f0-fc70408848c3-oznzkv\",\"433147df-6472-4ff2-bbd0-54bc77bfb3b6-ozo0xr\",\"a9cc9861-1509-4d74-ad56-44e23bd073be-oznztp\",\"8ec7cf00-9e04-449e-a3f6-20a56be09948-ozo1bc\",\"09d4bd3a-5a2a-46bc-bd93-d2154fc17f1a-oznyrs\",\"0564c136-e855-45a6-ab2e-90090856ec27-oznyt2\",\"5585a35b-9ecc-4b89-83a9-10b0ae87335c-oznyva\",\"f2a6a1cb-c2af-4999-a367-1d69474a6bd6-oznz4x\",\"26bdc49a-222f-4307-b86b-e32b15ce0f67-ozo0kr\",\"26bdc49a-222f-4307-b86b-e32b15ce0f67-ozo0kr\",\"0f61a80e-825f-4c0d-b16b-58af578d8600-oznz7g\",\"54c9ced8-aa91-464d-83a4-4c0393b3f2f9-oznzbj\",\"b7ef79f5-d458-419e-9703-8fb4141dda8e-oznzdu\",null,\"5c6aa07e-b8b7-4375-91c6-bd6738623035-ozo10w\",\"31c8b7e9-179e-47c6-a0ef-2b0607ddf10f-oznzad\",\"e7636a87-5b79-4f7d-8eac-f113e42a68db-oznzo1\",\"c5e10431-278c-4832-bfba-3407e1fe74ff-oznzpe\",\"6ff09696-bf5b-4268-82e1-5a47ec6e9d82-ozo22v\",\"61c7875b-ecca-48ad-8790-d05a9cf68ff4-ozo17a\",\"ad65708d-3f3d-405f-b7d6-ed4f9c285b1a-ozo19h\",\"c4d9104a-9c71-4882-b237-c2d204948f24-ozo19h\",\"69b19f1c-5cfc-45c9-b6ba-d6352368adab-oznyre\",\"9f762bc0-1f0c-4034-a959-fc8ccead5b96-oznzwm\",\"9a6b240b-6f34-4534-b260-8199214ede03-ozp8n0\",\"f3c2e08e-64dc-4f29-8cb3-0aae10514966-ozo08g\",\"9d91ce17-1d04-4ace-96bf-7c3c9d0cf480-ozo09a\",\"d5afa321-18c8-462a-bca0-eb880fadad3a-ozo07l\",\"5075084e-6bc0-40bc-a7ad-44e43c5edf17-ozo0b8\",\"38ea99bc-977b-497f-b56b-ee9a64748b70-oznz8h\",\"a4db8682-6306-4f6f-a943-c7f21b038ef3-ozo09h\",\"147480f5-7769-4c15-8bd6-5c05e9f4f5e9-oznz86\",\"800318a3-ccda-4089-aa3b-359d9c11a959-oznz8e\",\"3ff44103-cd44-49df-9fc8-633115edbd1f-ozo0g2\",\"d3932e7a-cc75-4a35-90d6-a64b69e0a997-ozo0gj\",\"ab8df21f-78ad-4982-b16f-ac90b5812049-oznziv\",\"4aaba9e4-f92b-4834-8b40-fd1310041a78-ozo0ru\",\"dc7e4c62-50ae-4b5c-8b56-ca5a96e0be17-oznzsf\",\"89cb1def-a208-4074-b666-ddb112e069de-ozo06v\",null,\"89703bda-3ecf-4c04-93e1-61db46a5ab6e-ozo0pp\",\"17da30da-5e3a-426a-a34e-5f17520bdbad-oznzuh\",\"1b219163-f8e0-4dab-8690-a81782c8a312-ozo10w\",\"8a9fe413-06e5-46bb-b180-6955e3aa0f68-ozo11x\",\"68a688fc-b10c-47da-88c7-a28bd1151ff2-ozo12t\",\"00491ffe-16cc-49a9-aa67-b1d5bef50b48-ozo2v9\",\"71502519-9ae4-499d-89fa-8beb476a23b8-ozo03x\",\"226495f0-edaa-4fd1-8832-6884c98a7b00-ozo05k\",\"351cffdf-6cc1-42ef-8cf6-5c18e35208d3-ozo162\",\"6fa26f41-37cb-4590-a853-329f6baf2d2e-ozo1bp\",\"a1951280-edca-4273-a0e9-93fc77702e60-ozo1dc\",\"bb811339-faa3-4a11-b8ab-3bc363cfc7e4-oznz14\",\"f18e0f2a-2894-449a-933e-da95691d5ae9-oznyu2\",\"7db7113e-6684-4984-8919-b1d95c0b79c8-oznyv4\",\"520deb3b-01a8-4885-815e-f4d36f65af1c-oznyve\",\"43406082-edee-4b13-8876-70e96a6d3a69-oznywl\",\"21ca5668-88c6-426f-89c3-61f15e545d81-oznz2k\",\"9a93236a-b958-4fda-a9f1-9292c0979142-oznys2\",\"370fb1d7-c69c-4470-91ad-44ed57d4831d-ozo19v\",\"74b23bdf-6ebe-40df-8e3f-1468b10ed744-oznz8m\",\"1df78f8d-c56b-4167-9c3e-a1b8d4cd7902-oznyov\",\"df94126f-9b2a-4d3e-834d-7313b154d3c4-oznzaa\",\"659fa2ef-cbbc-49fa-bff4-bf7188868a9e-oznze1\",\"deba4f60-a985-4af8-9c28-2c60dac502d9-oznzgi\",\"8ac3ca6c-f982-4b3b-b529-95548fcd2216-oznzgx\",\"64d0b503-0f88-454a-bb0c-898237a1add7-oznzha\",\"bd04fe69-71b2-491e-945c-088fd4d319e3-oznydz\",\"14f6c18a-2115-44ea-beaf-0b03a8d265ee-oznzmy\",\"66582898-937a-42e0-9547-23d8cb486c8d-oznzhm\",\"eb2a1e57-2092-4887-b680-67afe4ae2e8b-oznzog\",\"c9bdb543-aedc-42d7-8f95-10e2e909fd2f-oznzoa\",\"8679e71f-98e8-4e82-a086-773af5766775-oznxe4\",\"741d4280-7c4b-4981-a4c1-4fcd22467649-oznzsd\",\"fa22d808-2ecb-4cab-bada-a1424265fa11-oznx65\",\"ea7bbf30-7846-4eca-8f6d-60db7f32797f-oznzw8\",\"0cad6861-b23e-4e3e-a9b2-b60f797d23ba-oznzue\",\"08827ead-6664-4bcd-8ef1-c45ab87221f3-oznzyo\",\"4f48cbc3-f3b2-4255-82ca-210aaf9dbfb4-oznz8t\",\"eafebc48-bc4a-4d5d-b52e-50dc323e78cf-ozo07a\",\"860941e1-703a-488c-b49a-3e7a77629be7-ozo065\",\"4b386441-789c-486e-b74e-84a92cf6fe39-ozpuve\",\"e47b8b9a-fb04-43bf-ac7e-ab0007033add-ozo08r\",\"2b9b850e-7fd3-4fdf-bcda-9dbc101f9e8e-ozo09v\",\"83c17dd2-0968-479a-bf46-389112398649-ozo0c6\",\"58411cfc-58b9-48b6-9c4f-037e5b149309-ozo0fw\",\"5c9d06e4-3aa8-42da-966e-d0ca970ccd86-ozo11i\",\"8fab1e23-ac33-4de2-9f32-b5b9c7d5c076-ozo0jv\",\"232ddf66-ea75-46f3-9f9c-06084d55db43-ozo0jt\",\"071cbb74-3970-4554-ac93-beb6748a58d6-ozo0kk\",\"306ea46a-1597-426e-869a-76e93110481c-ozo0pi\",\"0587f1e3-d57b-4d7b-85fc-5f95bca6adc6-ozo0s1\",\"978d946b-92dc-40b6-9e77-0ab7625fa008-ozo0u8\",\"a6be5d6a-ac71-4b91-b6fe-7a393bb0f9df-ozo10z\",\"9c8f63cb-c6c2-4b67-bd76-4cdd4b686de4-ozo0qk\",\"c8226ae4-97d7-4204-b320-552838167cac-ozo0qp\",\"6a9fa0f8-dcfc-43b0-98fa-f4a11f4ad7a9-ozo13h\",\"2d7b9e01-3197-4794-90b4-20b7a4746795-ozo14y\",\"316c89db-2e40-4b4d-80fb-cb1b8c07739c-ozo13w\",\"82fa7c40-a849-4c14-ad98-f2b8f41b4608-ozo1cf\",\"a1f9eca9-8f49-4eee-ba6a-26acb5f15ab8-ozo1dm\",\"87bf2c17-7a97-4c10-919d-15264f784ae5-oznysd\",\"044a9a76-b8aa-4bad-87f1-1010ee0c15ad-oznysn\",\"626874f9-f507-48fd-9b24-15337ff06e4d-oznyum\",\"570ecd98-c1d3-45c2-9aaa-5e8dce9a7b83-oznyv6\",\"9f0178a7-ce2e-4ac6-8067-729de11beb48-oznyus\",\"a1a5acca-878e-40c2-b309-b260449d1a27-ozo0zq\",\"3630daf3-8356-4d0d-9012-c0b69ad7e70e-oznz2u\",\"b21c8233-f350-4848-bbe8-b43307826c53-oznz35\",\"f34831f6-e4a9-4a53-b876-a31885507698-ozo249\",\"1ecc243e-6b57-4312-a3b3-d8e780e619f0-oznz3w\",\"67133e69-e2f2-4e7a-8e00-88ebf49dd92f-oznz5l\",\"be736be8-02f2-448b-a038-84c051e964d8-oznyrp\",\"9040e14f-ec84-4f14-9397-175176e73485-oznzey\",\"86a09b16-5d33-4fd4-b2f2-c252e4130237-oznzf4\",\"456cef7c-bad1-492c-b84d-323fefea218d-oznzgg\",\"12abc2a7-348f-4e96-9a8e-fcd7b6d89c8a-oznzgr\",\"982096e4-0ff0-43e0-9f68-b06d13422e06-oznyyt\",\"92cfb938-5aa9-48ba-980b-cd11377d4ef6-oznzf4\",\"7d644221-7c46-4a60-8a5c-bbbedf181602-oznzmw\",\"b3989232-4821-4f8d-b212-ccc7e99d8d19-oznzj9\",\"3d034338-b17d-4720-bde3-fd3e592c584e-oznzn5\",\"231f9c1d-4110-4201-bab4-3849d84e861f-oznzpd\",\"40ae80dc-c789-4856-8aae-3ab79c4f1f18-oznzmu\",\"1df0df5e-a7d8-4b63-bb27-354c434e4896-oznz9o\",\"cdb93d26-4ac7-481c-90c6-a69f8887429e-oznzhr\",\"13946839-62c1-4935-a757-3d827c415b48-oznzzs\",\"ceebf6d0-4d79-42aa-ad0e-aadc73503efd-ozo07a\",\"e56dd375-aa99-4207-8014-8c184958c508-ozo07i\",\"50881d1b-d41f-4bb1-be60-b6eec73ac88c-ozo03o\",\"51fcc6ae-6acf-443a-ba01-9a9f643098c3-ozo091\",\"0e8ff0c2-fbad-4c5d-9a10-95bdcb61c0a8-ozo0ak\",\"c508e75f-d6c7-422a-a261-bf71c6f7f3f7-ozo09c\",\"36413b7f-28e0-495a-9ab5-854db8b63ad8-ozo0gh\",\"5cf87438-3696-4413-8188-ad0fb80b98b3-ozo0ea\",\"fc7dcc04-5cb8-4496-823c-5c2b3240b6c8-ozo0hf\",\"4742bc62-26f8-4dd2-b456-644900e61742-ozo0io\",\"d9953a48-683b-4f6c-9912-a7af8587cf39-ozo0qw\"]],\n",
       "                [\"Current Long Page Views Completed\"],\n",
       "                [\"Timestamps\",\"Milliseconds to Finish\"],\n",
       "                [],\n",
       "                [\"#EEC584\",\"rgb(85,134,140)\"],\n",
       "                [],\n",
       "                [],\n",
       "                \"\",\n",
       "                [],\n",
       "                {\"point_r\":2}\n",
       "            );\n",
       "        }\n",
       "        iframe.src = \"/static/graphs/templates/c3Viz_template.html#id=timeSeries-BYXBHLLZTGSICZSKRFBELILBHZTUBVCH\";\n",
       "    }());\n",
       "    </script>\n"
      ]
     },
     "metadata": {},
     "output_type": "display_data"
    }
   ],
   "source": [
    "graphLongTimesFATS(localStats2)\n",
    ";"
   ]
  },
  {
   "cell_type": "code",
   "execution_count": 22,
   "metadata": {
    "collapsed": true,
    "input_collapsed": false
   },
   "outputs": [],
   "source": [
    "# Need Resource table here"
   ]
  },
  {
   "cell_type": "code",
   "execution_count": 23,
   "metadata": {
    "collapsed": false,
    "input_collapsed": false
   },
   "outputs": [],
   "source": [
    "#chartResourceResponseTimeDistribution(startTime, endTime)"
   ]
  },
  {
   "cell_type": "code",
   "execution_count": 24,
   "metadata": {
    "collapsed": true,
    "input_collapsed": false
   },
   "outputs": [],
   "source": [
    "q = query(\"\"\" drop view if exists $(UP.btView);\"\"\")\n",
    "q = query(\"\"\" drop view if exists $(UP.rtView);\"\"\")\n",
    ";"
   ]
  },
  {
   "cell_type": "code",
   "execution_count": null,
   "metadata": {
    "collapsed": true,
    "input_collapsed": true
   },
   "outputs": [],
   "source": []
  }
 ],
 "metadata": {
  "chart_version": "1.0.0",
  "kernelspec": {
   "display_name": "Julia 0.4.7",
   "language": "julia",
   "name": "julia-0.4"
  },
  "language_info": {
   "file_extension": ".jl",
   "mimetype": "application/julia",
   "name": "julia",
   "version": "0.4.7"
  },
  "library_version": "1.0.0",
  "notebook_uuid": "d25477b1-0073-44e5-9178-5700a0c80718",
  "readOnly": false
 },
 "nbformat": 4,
 "nbformat_minor": 0
}
