{
 "cells": [
  {
   "cell_type": "markdown",
   "metadata": {},
   "source": [
    "## Tables and Data Source setup"
   ]
  },
  {
   "cell_type": "code",
   "execution_count": 23,
   "metadata": {
    "collapsed": false,
    "input_collapsed": false,
    "scrolled": true
   },
   "outputs": [
    {
     "name": "stdout",
     "output_type": "stream",
     "text": [
      "Redshift endpoint set: 2017-06-22T11:12:23\n"
     ]
    },
    {
     "data": {
      "text/plain": [
       "\"beacons_4744\""
      ]
     },
     "execution_count": 23,
     "metadata": {},
     "output_type": "execute_result"
    }
   ],
   "source": [
    "using ODBC\n",
    "using DataFrames\n",
    "using DSWB\n",
    "using Formatting\n",
    "\n",
    "dsn = \"dswb-natgeo\" # Redshift endpoint\n",
    "table = \"beacons_4744\" # beacon table name\n",
    "tableRt = \"beacons_4744_rt\"\n",
    "\n",
    "# Connect to Beacon Data\n",
    "setRedshiftEndpoint(dsn)\n",
    "setTable(table)\n",
    "# setTable(tableRt, tableType = \"RESOURCE_TABLE\")"
   ]
  },
  {
   "cell_type": "code",
   "execution_count": 24,
   "metadata": {
    "collapsed": false,
    "input_collapsed": false
   },
   "outputs": [
    {
     "name": "stdout",
     "output_type": "stream",
     "text": [
      "June 21, 2017 14:00:00 to June 21, 2017 14:59:00 Local Time\n",
      "June 21, 2017 18:00:00 to June 21, 2017 18:59:00 UTC Time\n"
     ]
    }
   ],
   "source": [
    "# Packages\n",
    "include(\"/data/notebook_home/Production/Lib/Include-Package-v1.0.jl\")\n",
    "include(\"/data/notebook_home/Production/Bodies/Find-A-Time-Spike-Body-v1.2.jl\")\n",
    "\n",
    "timeVariables(2017,6,21,14,0,2017,6,21,14,59)\n",
    "#weeklyTimeVariables(days=2)\n",
    "#yesterdayTimeVariables()\n",
    ";"
   ]
  },
  {
   "cell_type": "code",
   "execution_count": 25,
   "metadata": {
    "collapsed": false,
    "input_collapsed": false,
    "scrolled": true
   },
   "outputs": [],
   "source": [
    "UP = UrlParamsInit()\n",
    "UP.beaconTable = table   #table\n",
    "UP.resourceTable = tableRt\n",
    "UP.btView = \"$(table)_tspike_pview_prod\" #localtable\n",
    "UP.rtView = \"$(tableRt)_tspike_pview_prod\" #localtableRt\n",
    "UP.pageGroup = \"News Article\"   #productPageGroup\n",
    "UP.urlRegEx = \"%\"   #localUrl\n",
    "UP.deviceType = \"%\"\n",
    "\n",
    "SG = SoastaGraphsInit()\n",
    "customer = \"Nat Geo\" \n",
    "SG.customer = customer\n",
    "\n",
    "SP = ShowParamsInit()\n",
    "SP.debugLevel = 10;\n",
    "SP.debug = true;\n",
    ";"
   ]
  },
  {
   "cell_type": "code",
   "execution_count": 26,
   "metadata": {
    "collapsed": false,
    "input_collapsed": false
   },
   "outputs": [],
   "source": [
    "defaultTableFATS(tv,UP)\n",
    ";"
   ]
  },
  {
   "cell_type": "code",
   "execution_count": 27,
   "metadata": {
    "collapsed": false,
    "input_collapsed": false
   },
   "outputs": [],
   "source": [
    "#try\n",
    "#    setTable(UP.btView)\n",
    "#    firstAndLast = getBeaconsFirstAndLast()\n",
    "#catch y\n",
    "#    println(\"firstLast exception \",y)\n",
    "#end    "
   ]
  },
  {
   "cell_type": "code",
   "execution_count": 28,
   "metadata": {
    "collapsed": false,
    "input_collapsed": false,
    "scrolled": true
   },
   "outputs": [
    {
     "data": {
      "text/html": [
       "<div class=\"dswbOutputText\"><h1 class=\"chart_title\" style=\"color:#ccc\">Raw Data Stats Including Those above 600 seconds for News Article</h1><h3 class=\"chart_info\" style=\"color:#ccc\">June 21, 2017 14:00:00 to June 21, 2017 14:59:00 Local Time</h3></div>"
      ]
     },
     "metadata": {},
     "output_type": "display_data"
    },
    {
     "data": {
      "text/html": [
       "    <table  class=\"dataframe-table\">\n",
       "    <thead><tr><th class=\"cell-1\" style=\"\">unit</th> <th class=\"cell-2\" style=\"\">count</th> <th class=\"cell-3\" style=\"\">mean</th> <th class=\"cell-4\" style=\"\">median</th> <th class=\"cell-5\" style=\"\">stddev</th> <th class=\"cell-6\" style=\"\">min</th> <th class=\"cell-7\" style=\"\">max</th> <th class=\"cell-8\" style=\"\">LowerBy25p</th> <th class=\"cell-9\" style=\"\">UpperBy25p</th> <th class=\"cell-10\" style=\"\">LowerBy3Stddev</th> <th class=\"cell-11\" style=\"\">UpperBy3Stddev</th></tr></thead>\n",
       "    <tbody>\n",
       "    <tr><td class=\"cell-1\" style=\"\">milliseconds</td> <td class=\"cell-2\" style=\"text-align:right;\">12,966</td> <td class=\"cell-3\" style=\"text-align:right;\">13,643</td> <td class=\"cell-4\" style=\"text-align:right;\">7,125</td> <td class=\"cell-5\" style=\"text-align:right;\">23,498</td> <td class=\"cell-6\" style=\"text-align:right;\">363</td> <td class=\"cell-7\" style=\"text-align:right;\">587,984</td> <td class=\"cell-8\" style=\"text-align:right;\">5,344</td> <td class=\"cell-9\" style=\"text-align:right;\">8,906</td> <td class=\"cell-10\" style=\"text-align:right;\">1,000</td> <td class=\"cell-11\" style=\"text-align:right;\">77,619</td></tr>\n",
       "<tr><td class=\"cell-1\" style=\"\">seconds</td> <td class=\"cell-2\" style=\"text-align:right;\">12,966</td> <td class=\"cell-3\" style=\"text-align:right;\">13.643</td> <td class=\"cell-4\" style=\"text-align:right;\">7.125</td> <td class=\"cell-5\" style=\"text-align:right;\">23.498</td> <td class=\"cell-6\" style=\"text-align:right;\">0.363</td> <td class=\"cell-7\" style=\"text-align:right;\">587.984</td> <td class=\"cell-8\" style=\"text-align:right;\">5.344</td> <td class=\"cell-9\" style=\"text-align:right;\">8.906</td> <td class=\"cell-10\" style=\"text-align:right;\">1</td> <td class=\"cell-11\" style=\"text-align:right;\">77.619</td></tr>\n",
       "    \n",
       "    <tr><td class=\"cell-1\" style=\"\">minutes</td> <td class=\"cell-2\" style=\"text-align:right;\">12,966</td> <td class=\"cell-3\" style=\"text-align:right;\">0.2</td> <td class=\"cell-4\" style=\"text-align:right;\">0.1</td> <td class=\"cell-5\" style=\"text-align:right;\">0.4</td> <td class=\"cell-6\" style=\"text-align:right;\">0</td> <td class=\"cell-7\" style=\"text-align:right;\">9.8</td> <td class=\"cell-8\" style=\"text-align:right;\">0.1</td> <td class=\"cell-9\" style=\"text-align:right;\">0.1</td> <td class=\"cell-10\" style=\"text-align:right;\">0</td> <td class=\"cell-11\" style=\"text-align:right;\">1.3</td></tr>\n",
       "    </tbody>\n"
      ],
      "text/plain": [
       "HTML{UTF8String}(\"    <table  class=\\\"dataframe-table\\\">\\n    <thead><tr><th class=\\\"cell-1\\\" style=\\\"\\\">unit</th> <th class=\\\"cell-2\\\" style=\\\"\\\">count</th> <th class=\\\"cell-3\\\" style=\\\"\\\">mean</th> <th class=\\\"cell-4\\\" style=\\\"\\\">median</th> <th class=\\\"cell-5\\\" style=\\\"\\\">stddev</th> <th class=\\\"cell-6\\\" style=\\\"\\\">min</th> <th class=\\\"cell-7\\\" style=\\\"\\\">max</th> <th class=\\\"cell-8\\\" style=\\\"\\\">LowerBy25p</th> <th class=\\\"cell-9\\\" style=\\\"\\\">UpperBy25p</th> <th class=\\\"cell-10\\\" style=\\\"\\\">LowerBy3Stddev</th> <th class=\\\"cell-11\\\" style=\\\"\\\">UpperBy3Stddev</th></tr></thead>\\n    <tbody>\\n    <tr><td class=\\\"cell-1\\\" style=\\\"\\\">milliseconds</td> <td class=\\\"cell-2\\\" style=\\\"text-align:right;\\\">12,966</td> <td class=\\\"cell-3\\\" style=\\\"text-align:right;\\\">13,643</td> <td class=\\\"cell-4\\\" style=\\\"text-align:right;\\\">7,125</td> <td class=\\\"cell-5\\\" style=\\\"text-align:right;\\\">23,498</td> <td class=\\\"cell-6\\\" style=\\\"text-align:right;\\\">363</td> <td class=\\\"cell-7\\\" style=\\\"text-align:right;\\\">587,984</td> <td class=\\\"cell-8\\\" style=\\\"text-align:right;\\\">5,344</td> <td class=\\\"cell-9\\\" style=\\\"text-align:right;\\\">8,906</td> <td class=\\\"cell-10\\\" style=\\\"text-align:right;\\\">1,000</td> <td class=\\\"cell-11\\\" style=\\\"text-align:right;\\\">77,619</td></tr>\\n<tr><td class=\\\"cell-1\\\" style=\\\"\\\">seconds</td> <td class=\\\"cell-2\\\" style=\\\"text-align:right;\\\">12,966</td> <td class=\\\"cell-3\\\" style=\\\"text-align:right;\\\">13.643</td> <td class=\\\"cell-4\\\" style=\\\"text-align:right;\\\">7.125</td> <td class=\\\"cell-5\\\" style=\\\"text-align:right;\\\">23.498</td> <td class=\\\"cell-6\\\" style=\\\"text-align:right;\\\">0.363</td> <td class=\\\"cell-7\\\" style=\\\"text-align:right;\\\">587.984</td> <td class=\\\"cell-8\\\" style=\\\"text-align:right;\\\">5.344</td> <td class=\\\"cell-9\\\" style=\\\"text-align:right;\\\">8.906</td> <td class=\\\"cell-10\\\" style=\\\"text-align:right;\\\">1</td> <td class=\\\"cell-11\\\" style=\\\"text-align:right;\\\">77.619</td></tr>\\n    \\n    <tr><td class=\\\"cell-1\\\" style=\\\"\\\">minutes</td> <td class=\\\"cell-2\\\" style=\\\"text-align:right;\\\">12,966</td> <td class=\\\"cell-3\\\" style=\\\"text-align:right;\\\">0.2</td> <td class=\\\"cell-4\\\" style=\\\"text-align:right;\\\">0.1</td> <td class=\\\"cell-5\\\" style=\\\"text-align:right;\\\">0.4</td> <td class=\\\"cell-6\\\" style=\\\"text-align:right;\\\">0</td> <td class=\\\"cell-7\\\" style=\\\"text-align:right;\\\">9.8</td> <td class=\\\"cell-8\\\" style=\\\"text-align:right;\\\">0.1</td> <td class=\\\"cell-9\\\" style=\\\"text-align:right;\\\">0.1</td> <td class=\\\"cell-10\\\" style=\\\"text-align:right;\\\">0</td> <td class=\\\"cell-11\\\" style=\\\"text-align:right;\\\">1.3</td></tr>\\n    </tbody>\\n\")"
      ]
     },
     "metadata": {},
     "output_type": "display_data"
    }
   ],
   "source": [
    "statsDF = DataFrame()\n",
    "\n",
    "statsDF = rawStatsFATS(tv,UP)\n",
    ";"
   ]
  },
  {
   "cell_type": "code",
   "execution_count": 29,
   "metadata": {
    "collapsed": false,
    "input_collapsed": false
   },
   "outputs": [],
   "source": [
    "localStats2 = DataFrame()\n",
    "\n",
    "localStats2 = localStatsFATS(tv,UP,statsDF)\n",
    ";"
   ]
  },
  {
   "cell_type": "code",
   "execution_count": 30,
   "metadata": {
    "collapsed": false,
    "input_collapsed": false
   },
   "outputs": [],
   "source": [
    "#studySession = \"fd8c6953-ac8e-4ace-8ad7-51eb8d6eebc3-oifn7l\"\n",
    "#studyTime = 1482151207938\n",
    "#waterFallFinder(table,studySession,studyTime,tv)"
   ]
  },
  {
   "cell_type": "code",
   "execution_count": 31,
   "metadata": {
    "collapsed": false,
    "input_collapsed": false,
    "scrolled": true
   },
   "outputs": [
    {
     "data": {
      "text/html": [
       "<div class=\"dswbOutputText\"><h1 class=\"chart_title\" style=\"color:#ccc\">Table Data Stats Outside 3 Stddev for News Article</h1><h3 class=\"chart_info\" style=\"color:#ccc\">June 21, 2017 14:00:00 to June 21, 2017 14:59:00 Local Time</h3></div>"
      ]
     },
     "metadata": {},
     "output_type": "display_data"
    },
    {
     "data": {
      "text/html": [
       "    <table  class=\"dataframe-table\">\n",
       "    <thead><tr><th class=\"cell-1\" style=\"\">unit</th> <th class=\"cell-2\" style=\"\">count</th> <th class=\"cell-3\" style=\"\">mean</th> <th class=\"cell-4\" style=\"\">median</th> <th class=\"cell-5\" style=\"\">stddev</th> <th class=\"cell-6\" style=\"\">min</th> <th class=\"cell-7\" style=\"\">max</th> <th class=\"cell-8\" style=\"\">rangeLowerBy25p</th> <th class=\"cell-9\" style=\"\">rangeUpperBy25p</th> <th class=\"cell-10\" style=\"\">rangeLowerByStd</th> <th class=\"cell-11\" style=\"\">rangeUpperByStd</th></tr></thead>\n",
       "    <tbody>\n",
       "    <tr><td class=\"cell-1\" style=\"\">milliseconds</td> <td class=\"cell-2\" style=\"text-align:right;\">5,433</td> <td class=\"cell-3\" style=\"text-align:right;\">47,356</td> <td class=\"cell-4\" style=\"text-align:right;\">17,395</td> <td class=\"cell-5\" style=\"text-align:right;\">1,455,546</td> <td class=\"cell-6\" style=\"text-align:right;\">8,907</td> <td class=\"cell-7\" style=\"text-align:right;\">107,182,464</td> <td class=\"cell-8\" style=\"text-align:right;\">13,046</td> <td class=\"cell-9\" style=\"text-align:right;\">21,744</td> <td class=\"cell-10\" style=\"text-align:right;\">1</td> <td class=\"cell-11\" style=\"text-align:right;\">4,384,033</td></tr>\n",
       "<tr><td class=\"cell-1\" style=\"\">seconds</td> <td class=\"cell-2\" style=\"text-align:right;\">5,433</td> <td class=\"cell-3\" style=\"text-align:right;\">47.356</td> <td class=\"cell-4\" style=\"text-align:right;\">17.395</td> <td class=\"cell-5\" style=\"text-align:right;\">1,455.546</td> <td class=\"cell-6\" style=\"text-align:right;\">8.907</td> <td class=\"cell-7\" style=\"text-align:right;\">107,182.464</td> <td class=\"cell-8\" style=\"text-align:right;\">13.046</td> <td class=\"cell-9\" style=\"text-align:right;\">21.744</td> <td class=\"cell-10\" style=\"text-align:right;\">0.001</td> <td class=\"cell-11\" style=\"text-align:right;\">4,384.033</td></tr>\n",
       "    \n",
       "    <tr><td class=\"cell-1\" style=\"\">minutes</td> <td class=\"cell-2\" style=\"text-align:right;\">5,433</td> <td class=\"cell-3\" style=\"text-align:right;\">0.8</td> <td class=\"cell-4\" style=\"text-align:right;\">0.3</td> <td class=\"cell-5\" style=\"text-align:right;\">24.3</td> <td class=\"cell-6\" style=\"text-align:right;\">0.1</td> <td class=\"cell-7\" style=\"text-align:right;\">1,786.4</td> <td class=\"cell-8\" style=\"text-align:right;\">0.2</td> <td class=\"cell-9\" style=\"text-align:right;\">0.4</td> <td class=\"cell-10\" style=\"text-align:right;\">0</td> <td class=\"cell-11\" style=\"text-align:right;\">73.1</td></tr>\n",
       "    </tbody>\n"
      ],
      "text/plain": [
       "HTML{UTF8String}(\"    <table  class=\\\"dataframe-table\\\">\\n    <thead><tr><th class=\\\"cell-1\\\" style=\\\"\\\">unit</th> <th class=\\\"cell-2\\\" style=\\\"\\\">count</th> <th class=\\\"cell-3\\\" style=\\\"\\\">mean</th> <th class=\\\"cell-4\\\" style=\\\"\\\">median</th> <th class=\\\"cell-5\\\" style=\\\"\\\">stddev</th> <th class=\\\"cell-6\\\" style=\\\"\\\">min</th> <th class=\\\"cell-7\\\" style=\\\"\\\">max</th> <th class=\\\"cell-8\\\" style=\\\"\\\">rangeLowerBy25p</th> <th class=\\\"cell-9\\\" style=\\\"\\\">rangeUpperBy25p</th> <th class=\\\"cell-10\\\" style=\\\"\\\">rangeLowerByStd</th> <th class=\\\"cell-11\\\" style=\\\"\\\">rangeUpperByStd</th></tr></thead>\\n    <tbody>\\n    <tr><td class=\\\"cell-1\\\" style=\\\"\\\">milliseconds</td> <td class=\\\"cell-2\\\" style=\\\"text-align:right;\\\">5,433</td> <td class=\\\"cell-3\\\" style=\\\"text-align:right;\\\">47,356</td> <td class=\\\"cell-4\\\" style=\\\"text-align:right;\\\">17,395</td> <td class=\\\"cell-5\\\" style=\\\"text-align:right;\\\">1,455,546</td> <td class=\\\"cell-6\\\" style=\\\"text-align:right;\\\">8,907</td> <td class=\\\"cell-7\\\" style=\\\"text-align:right;\\\">107,182,464</td> <td class=\\\"cell-8\\\" style=\\\"text-align:right;\\\">13,046</td> <td class=\\\"cell-9\\\" style=\\\"text-align:right;\\\">21,744</td> <td class=\\\"cell-10\\\" style=\\\"text-align:right;\\\">1</td> <td class=\\\"cell-11\\\" style=\\\"text-align:right;\\\">4,384,033</td></tr>\\n<tr><td class=\\\"cell-1\\\" style=\\\"\\\">seconds</td> <td class=\\\"cell-2\\\" style=\\\"text-align:right;\\\">5,433</td> <td class=\\\"cell-3\\\" style=\\\"text-align:right;\\\">47.356</td> <td class=\\\"cell-4\\\" style=\\\"text-align:right;\\\">17.395</td> <td class=\\\"cell-5\\\" style=\\\"text-align:right;\\\">1,455.546</td> <td class=\\\"cell-6\\\" style=\\\"text-align:right;\\\">8.907</td> <td class=\\\"cell-7\\\" style=\\\"text-align:right;\\\">107,182.464</td> <td class=\\\"cell-8\\\" style=\\\"text-align:right;\\\">13.046</td> <td class=\\\"cell-9\\\" style=\\\"text-align:right;\\\">21.744</td> <td class=\\\"cell-10\\\" style=\\\"text-align:right;\\\">0.001</td> <td class=\\\"cell-11\\\" style=\\\"text-align:right;\\\">4,384.033</td></tr>\\n    \\n    <tr><td class=\\\"cell-1\\\" style=\\\"\\\">minutes</td> <td class=\\\"cell-2\\\" style=\\\"text-align:right;\\\">5,433</td> <td class=\\\"cell-3\\\" style=\\\"text-align:right;\\\">0.8</td> <td class=\\\"cell-4\\\" style=\\\"text-align:right;\\\">0.3</td> <td class=\\\"cell-5\\\" style=\\\"text-align:right;\\\">24.3</td> <td class=\\\"cell-6\\\" style=\\\"text-align:right;\\\">0.1</td> <td class=\\\"cell-7\\\" style=\\\"text-align:right;\\\">1,786.4</td> <td class=\\\"cell-8\\\" style=\\\"text-align:right;\\\">0.2</td> <td class=\\\"cell-9\\\" style=\\\"text-align:right;\\\">0.4</td> <td class=\\\"cell-10\\\" style=\\\"text-align:right;\\\">0</td> <td class=\\\"cell-11\\\" style=\\\"text-align:right;\\\">73.1</td></tr>\\n    </tbody>\\n\")"
      ]
     },
     "metadata": {},
     "output_type": "display_data"
    }
   ],
   "source": [
    "longTimesFATS(tv,UP,localStats2)\n",
    ";"
   ]
  },
  {
   "cell_type": "code",
   "execution_count": 32,
   "metadata": {
    "collapsed": false,
    "input_collapsed": false,
    "scrolled": false
   },
   "outputs": [
    {
     "ename": "LoadError",
     "evalue": "ArgumentError: Non-digit character encountered",
     "output_type": "error",
     "traceback": [
      "ArgumentError: Non-digit character encountered",
      "",
      " in getslot at dates/io.jl:143",
      " in parse at dates/io.jl:158",
      " in call at dates/io.jl:202",
      " in anonymous at /home/ubuntu/datascienceworkbench/lib/Modules/DSWBUtilities/src/DSWBUtilities.jl:1152",
      " [inlined code] from /home/ubuntu/.julia/v0.4/DataArrays/src/broadcast.jl:59",
      " in _F_ at /home/ubuntu/.julia/v0.4/DataArrays/src/broadcast.jl:164",
      " in map! at /home/ubuntu/.julia/v0.4/DataArrays/src/broadcast.jl:214",
      " in formatDatepartOutput at /home/ubuntu/datascienceworkbench/lib/Modules/DSWBUtilities/src/DSWBUtilities.jl:1152",
      " in getBeaconsBelowThresholdOverTime at /home/ubuntu/datascienceworkbench/lib/Modules/DSWBAnalysis/src/DSWBAnalysis.jl:3730",
      " in chartPercentageOfBeaconsBelowThresholdStackedBar at /home/ubuntu/datascienceworkbench/lib/Modules/DSWBCharting/src/DSWBCharting.jl:2029"
     ]
    }
   ],
   "source": [
    "setTable(UP.btView)\n",
    "#chartPercentageOfBeaconsBelowThresholdStackedBar(tv.startTimeUTC, tv.endTimeUTC, tv.datePart; table=UP.btView)\n",
    "chartPercentageOfBeaconsBelowThresholdStackedBar(tv.startTimeUTC, tv.endTimeUTC, tv.datePart)"
   ]
  },
  {
   "cell_type": "code",
   "execution_count": 33,
   "metadata": {
    "collapsed": false,
    "input_collapsed": false,
    "scrolled": false
   },
   "outputs": [],
   "source": [
    "#setTable(table)\n",
    "#chartPercentageOfBeaconsBelowThresholdStackedBar(tv.startTime, tv.endTime, tv.datePart; pageGroup=productPageGroup)"
   ]
  },
  {
   "cell_type": "code",
   "execution_count": 34,
   "metadata": {
    "collapsed": false,
    "input_collapsed": false
   },
   "outputs": [],
   "source": [
    "#println(medianThreshold)\n",
    "#thresholdValues = [1000;10000;100000]\n",
    "#chartResponseTimesVsTargets(startTime, endTime, :minute, thresholdValues)"
   ]
  },
  {
   "cell_type": "code",
   "execution_count": 35,
   "metadata": {
    "collapsed": false,
    "input_collapsed": false
   },
   "outputs": [],
   "source": [
    "#chartPercentageOfBeaconsBelowThresholdTimeSeries(tv.startTimeUTC, tv.endTimeUTC, tv.datePart; threshold=medianThreshold)\n",
    "# See getBeaconsBelowThresholdOverTime(startTime::DateTime, endTime::DateTime, datepart::Symbol)\n",
    "#\n",
    "#::DataFrame - This function returns a DataFrame with the first column as the dateparts between the given start and end time. \n",
    "#The second column gives the number of beacons whose timer was below the given threshold. \n",
    "#The third column gives the number of beacons whose timer was above the given threshold. \n",
    "#The fourth column gives the total count of beacons for that time. \n",
    "#The fifth column gives the percentage of beacons below the threshold. \n",
    "#The sixth column gives the percentage of beacons above the threshold.\n"
   ]
  },
  {
   "cell_type": "code",
   "execution_count": 36,
   "metadata": {
    "collapsed": false,
    "input_collapsed": false,
    "scrolled": false
   },
   "outputs": [
    {
     "data": {
      "text/html": [
       "<div class=\"dswbOutputText\"><h1 class=\"chart_title\" style=\"color:#ccc\">Median Load Times</h1><h3 class=\"chart_info\" style=\"color:#ccc\">June 21, 2017 18:00:00 to June 21, 2017 18:59:00</h3><h5 class=\"chart_lastCalled\" style=\"color:#ccc\">Run at June 22, 2017 11:12:44</h5></div>"
      ]
     },
     "metadata": {},
     "output_type": "display_data"
    },
    {
     "data": {
      "text/html": [
       "    <iframe id=\"timeSeries-OCKBBTOKSRHPPFYCBPURCXLHZUYBIIOE\" class=\"dswbiframe\" width=\"100%\" height=\"600\" src=\"about:blank\" scrolling=\"no\"></iframe>\n",
       "    <script>\n",
       "    (function() {\n",
       "        var iframe = document.getElementById(\"timeSeries-OCKBBTOKSRHPPFYCBPURCXLHZUYBIIOE\");\n",
       "        iframe.timeSeriesRendererLoaded = function(runner) {\n",
       "            iframe.runner = runner;\n",
       "            iframe.runner([[\"x\",\"June 21, 2017 18:00:00\",\"June 21, 2017 18:01:00\",\"June 21, 2017 18:02:00\",\"June 21, 2017 18:03:00\",\"June 21, 2017 18:04:00\",\"June 21, 2017 18:05:00\",\"June 21, 2017 18:06:00\",\"June 21, 2017 18:07:00\",\"June 21, 2017 18:08:00\",\"June 21, 2017 18:09:00\",\"June 21, 2017 18:10:00\",\"June 21, 2017 18:11:00\",\"June 21, 2017 18:12:00\",\"June 21, 2017 18:13:00\",\"June 21, 2017 18:14:00\",\"June 21, 2017 18:15:00\",\"June 21, 2017 18:16:00\",\"June 21, 2017 18:17:00\",\"June 21, 2017 18:18:00\",\"June 21, 2017 18:19:00\",\"June 21, 2017 18:20:00\",\"June 21, 2017 18:21:00\",\"June 21, 2017 18:22:00\",\"June 21, 2017 18:23:00\",\"June 21, 2017 18:24:00\",\"June 21, 2017 18:25:00\",\"June 21, 2017 18:26:00\",\"June 21, 2017 18:27:00\",\"June 21, 2017 18:28:00\",\"June 21, 2017 18:29:00\",\"June 21, 2017 18:30:00\",\"June 21, 2017 18:31:00\",\"June 21, 2017 18:32:00\",\"June 21, 2017 18:33:00\",\"June 21, 2017 18:34:00\",\"June 21, 2017 18:35:00\",\"June 21, 2017 18:36:00\",\"June 21, 2017 18:37:00\",\"June 21, 2017 18:38:00\",\"June 21, 2017 18:39:00\",\"June 21, 2017 18:40:00\",\"June 21, 2017 18:41:00\",\"June 21, 2017 18:42:00\",\"June 21, 2017 18:43:00\",\"June 21, 2017 18:44:00\",\"June 21, 2017 18:45:00\",\"June 21, 2017 18:46:00\",\"June 21, 2017 18:47:00\",\"June 21, 2017 18:48:00\",\"June 21, 2017 18:49:00\",\"June 21, 2017 18:50:00\",\"June 21, 2017 18:51:00\",\"June 21, 2017 18:52:00\",\"June 21, 2017 18:53:00\",\"June 21, 2017 18:54:00\",\"June 21, 2017 18:55:00\",\"June 21, 2017 18:56:00\",\"June 21, 2017 18:57:00\",\"June 21, 2017 18:58:00\",\"June 21, 2017 18:59:00\"],[\"data1\",379.0,311.0,318.0,338.0,322.5,376.5,348.0,325.0,351.5,326.0,330.0,359.0,317.0,328.0,294.5,350.0,369.0,319.5,332.0,278.0,332.0,323.5,353.5,336.5,343.5,352.0,328.5,292.0,352.0,353.0,351.0,248.0,372.0,401.0,324.0,349.0,343.0,348.0,350.0,333.0,392.0,335.0,352.0,312.0,264.0,336.0,311.0,291.5,342.0,335.0,315.0,297.5,324.0,323.0,348.5,369.0,319.5,282.0,347.0,null],[\"data2\",6053.5,5842.0,6511.0,6584.0,6533.5,6337.0,7518.0,6362.0,7222.0,6436.0,6936.0,7111.0,6243.5,6096.0,6981.5,6581.0,7321.0,6467.5,6092.0,6292.0,7644.0,6573.0,7035.5,6102.0,5605.5,6243.0,7295.0,5413.5,5841.5,7267.0,6587.0,6215.0,7559.5,6458.0,6236.0,7369.0,6971.0,7782.5,7261.5,5970.0,7620.0,6200.0,6353.5,5658.5,6416.5,6305.0,6525.0,6861.5,7131.0,6082.0,6023.0,7720.5,6768.5,6125.0,7408.5,6655.0,7947.0,5950.0,8538.0,null],[\"data3\",6513.5,6256.0,6941.5,7125.0,7348.0,6888.5,8007.0,6871.0,7761.0,6915.0,7241.0,7755.0,6941.0,6692.0,7440.0,6934.0,8141.0,7079.0,6609.0,6782.0,8208.0,6868.0,7671.0,6863.0,6030.0,6978.0,8033.0,5836.0,6200.0,8123.0,7152.0,6671.5,7894.0,6840.5,6567.0,7859.0,7506.5,8444.0,7685.0,6277.5,8080.0,6574.0,7083.5,6097.0,6754.0,6946.0,6992.5,7612.0,7680.0,6700.0,6659.0,8291.0,7292.5,6599.0,8168.0,7325.0,8406.5,6507.0,9063.5,null]],\n",
       "                [\"Back-end Load Time\",\"Front-end Load Time\",\"Full Page Load Time\",\"Beacon Count\"],\n",
       "                [\"minute\",\"Milliseconds\",\"Count\"],\n",
       "                [\"area\",\"area\",\"spline\",\"line\"],\n",
       "                [\"hsla(130, 61%, 50%, 0.9)\",\"hsla(214, 86%, 60%, 0.9)\",\"hsla(35, 100%, 50%, 0.9)\"],\n",
       "                [[\"data1\",\"data2\"]],\n",
       "                [\"data4\"],\n",
       "                \"\",\n",
       "                [\"data4\"],\n",
       "                {\"axis_y_min\":0,\"axis_y2_min\":0}\n",
       "            );\n",
       "        }\n",
       "        iframe.src = \"/static/graphs/templates/c3Viz_template.html#id=timeSeries-OCKBBTOKSRHPPFYCBPURCXLHZUYBIIOE\";\n",
       "    }());\n",
       "    </script>\n"
      ]
     },
     "metadata": {},
     "output_type": "display_data"
    }
   ],
   "source": [
    "#displayTitle(chart_title = \"Median Load Times for $(productPageGroup)\", chart_info = [timeString])\n",
    "setTable(UP.btView)\n",
    "chartLoadTimes(tv.startTimeUTC, tv.endTimeUTC, tv.datePart)\n",
    "#setTable(UP.beaconTable)\n",
    "#chartLoadTimes(tv.startTime, tv.endTime, tv.datePart)\n",
    "#chartLoadTimes(startTime, endTime, :second)"
   ]
  },
  {
   "cell_type": "code",
   "execution_count": 37,
   "metadata": {
    "collapsed": false,
    "input_collapsed": false,
    "scrolled": false
   },
   "outputs": [
    {
     "data": {
      "text/html": [
       "<div class=\"dswbOutputText\"><h1 class=\"chart_title\" style=\"color:#ccc\">Session Duration Quartiles By minute</h1><h3 class=\"chart_info\" style=\"color:#ccc\">June 21, 2017 18:00:00 to June 21, 2017 18:59:00</h3><h3 class=\"chart_info\" style=\"color:#ccc\">Lower Percentile: 0.05</h3><h3 class=\"chart_info\" style=\"color:#ccc\">Upper Percentile: 0.95</h3><h5 class=\"chart_lastCalled\" style=\"color:#ccc\">Run at June 22, 2017 11:12:49</h5></div>"
      ]
     },
     "metadata": {},
     "output_type": "display_data"
    },
    {
     "data": {
      "text/html": [
       "    <iframe id=\"boxplots-SCMSLPJNXQJJKRNGDROXIKBNRQMRFUTN\" class=\"dswbiframe\" width=\"100%\" height=\"800\" src=\"about:blank\" scrolling=\"no\"></iframe>\n",
       "    <script>\n",
       "    (function() {\n",
       "        var iframe = document.getElementById(\"boxplots-SCMSLPJNXQJJKRNGDROXIKBNRQMRFUTN\");\n",
       "        iframe.boxplotsRendererLoaded = function(runner) {\n",
       "            iframe.runner = runner;\n",
       "            iframe.runner(\n",
       "                {\"median_color\":\"#ff9800\",\"tooltipTuples\":[[\"Minimum\",\"min\"],[\"Lower Quartile\",\"lower_quartile\"],[\"Median\",\"median\"],[\"Upper Quartile\",\"upper_quartile\"],[\"Max\",\"max\"],[\"IQR\",\"iqr\"],[\"Count\",\"count\"]],\"legendNums\":[210.12,320.598],\"yAxisLabel\":\"Session Duration (Seconds)\",\"centerline_color\":\"grey\",\"maxYValue\":-1,\"legend_colors\":[\"#29B6F6\",\"#2196F3\",\"#0277BD\"],\"boxPlotData\":[{\"median\":126.3035,\"box_name\":\"2017-06-21T18:00:00\",\"max\":2557.535,\"min\":10.201,\"iqr\":1065.53,\"upper_quartile\":1101.504,\"count\":14,\"box_color\":\"#0277BD\",\"lower_quartile\":35.974},{\"median\":215.6735,\"box_name\":\"2017-06-21T18:01:00\",\"max\":1263.749,\"min\":1.565,\"iqr\":390.985,\"upper_quartile\":449.336,\"count\":20,\"box_color\":\"#0277BD\",\"lower_quartile\":58.351},{\"median\":168.9735,\"box_name\":\"2017-06-21T18:02:00\",\"max\":3055.268,\"min\":32.712,\"iqr\":329.846,\"upper_quartile\":414.637,\"count\":16,\"box_color\":\"#0277BD\",\"lower_quartile\":84.791},{\"median\":230.325,\"box_name\":\"2017-06-21T18:03:00\",\"max\":951.243,\"min\":30.443,\"iqr\":541.351,\"upper_quartile\":628.96,\"count\":22,\"box_color\":\"#0277BD\",\"lower_quartile\":87.609},{\"median\":385.8865,\"box_name\":\"2017-06-21T18:04:00\",\"max\":2046.293,\"min\":11.288,\"iqr\":701.308,\"upper_quartile\":785.158,\"count\":18,\"box_color\":\"#0277BD\",\"lower_quartile\":83.85},{\"median\":115.8785,\"box_name\":\"2017-06-21T18:05:00\",\"max\":1607.529,\"min\":0.507,\"iqr\":294.396,\"upper_quartile\":338.637,\"count\":12,\"box_color\":\"#2196F3\",\"lower_quartile\":44.241},{\"median\":143.993,\"box_name\":\"2017-06-21T18:06:00\",\"max\":2401.88,\"min\":10.78,\"iqr\":273.598,\"upper_quartile\":323.336,\"count\":18,\"box_color\":\"#2196F3\",\"lower_quartile\":49.738},{\"median\":240.461,\"box_name\":\"2017-06-21T18:07:00\",\"max\":2009.034,\"min\":12.681,\"iqr\":302.096,\"upper_quartile\":411.502,\"count\":32,\"box_color\":\"#2196F3\",\"lower_quartile\":109.406},{\"median\":138.478,\"box_name\":\"2017-06-21T18:08:00\",\"max\":1393.427,\"min\":35.138,\"iqr\":320.598,\"upper_quartile\":398.392,\"count\":21,\"box_color\":\"#2196F3\",\"lower_quartile\":77.794},{\"median\":176.5805,\"box_name\":\"2017-06-21T18:09:00\",\"max\":841.308,\"min\":9.49,\"iqr\":684.373,\"upper_quartile\":715.004,\"count\":20,\"box_color\":\"#0277BD\",\"lower_quartile\":30.631},{\"median\":275.639,\"box_name\":\"2017-06-21T18:10:00\",\"max\":1986.22,\"min\":26.065,\"iqr\":727.737,\"upper_quartile\":783.757,\"count\":12,\"box_color\":\"#0277BD\",\"lower_quartile\":56.02},{\"median\":206.5995,\"box_name\":\"2017-06-21T18:11:00\",\"max\":1491.79,\"min\":31.07,\"iqr\":399.685,\"upper_quartile\":453.362,\"count\":24,\"box_color\":\"#0277BD\",\"lower_quartile\":53.677},{\"median\":459.0075,\"box_name\":\"2017-06-21T18:12:00\",\"max\":1900.718,\"min\":20.49,\"iqr\":763.1560000000001,\"upper_quartile\":994.046,\"count\":18,\"box_color\":\"#0277BD\",\"lower_quartile\":230.89},{\"median\":157.8575,\"box_name\":\"2017-06-21T18:13:00\",\"max\":1436.126,\"min\":45.531,\"iqr\":205.435,\"upper_quartile\":305.931,\"count\":22,\"box_color\":\"#29B6F6\",\"lower_quartile\":100.496},{\"median\":198.526,\"box_name\":\"2017-06-21T18:14:00\",\"max\":1010.702,\"min\":5.012,\"iqr\":318.179,\"upper_quartile\":361.185,\"count\":20,\"box_color\":\"#2196F3\",\"lower_quartile\":43.006},{\"median\":128.674,\"box_name\":\"2017-06-21T18:15:00\",\"max\":893.049,\"min\":15.194,\"iqr\":199.614,\"upper_quartile\":279.87,\"count\":18,\"box_color\":\"#29B6F6\",\"lower_quartile\":80.256},{\"median\":114.514,\"box_name\":\"2017-06-21T18:16:00\",\"max\":1610.353,\"min\":12.557,\"iqr\":405.55,\"upper_quartile\":458.269,\"count\":17,\"box_color\":\"#0277BD\",\"lower_quartile\":52.719},{\"median\":239.376,\"box_name\":\"2017-06-21T18:17:00\",\"max\":1759.691,\"min\":6.541,\"iqr\":424.54499999999996,\"upper_quartile\":497.491,\"count\":17,\"box_color\":\"#0277BD\",\"lower_quartile\":72.946},{\"median\":218.32,\"box_name\":\"2017-06-21T18:18:00\",\"max\":2021.033,\"min\":9.916,\"iqr\":662.7919999999999,\"upper_quartile\":747.843,\"count\":22,\"box_color\":\"#0277BD\",\"lower_quartile\":85.051},{\"median\":88.799,\"box_name\":\"2017-06-21T18:19:00\",\"max\":506.644,\"min\":0.004,\"iqr\":252.75199999999998,\"upper_quartile\":273.652,\"count\":14,\"box_color\":\"#2196F3\",\"lower_quartile\":20.9},{\"median\":174.61,\"box_name\":\"2017-06-21T18:20:00\",\"max\":1699.29,\"min\":21.235,\"iqr\":295.39099999999996,\"upper_quartile\":360.823,\"count\":25,\"box_color\":\"#2196F3\",\"lower_quartile\":65.432},{\"median\":104.0725,\"box_name\":\"2017-06-21T18:21:00\",\"max\":1484.089,\"min\":5.108,\"iqr\":79.739,\"upper_quartile\":123.373,\"count\":20,\"box_color\":\"#29B6F6\",\"lower_quartile\":43.634},{\"median\":121.525,\"box_name\":\"2017-06-21T18:22:00\",\"max\":809.742,\"min\":23.619,\"iqr\":171.61599999999999,\"upper_quartile\":229.933,\"count\":21,\"box_color\":\"#29B6F6\",\"lower_quartile\":58.317},{\"median\":257.413,\"box_name\":\"2017-06-21T18:23:00\",\"max\":951.692,\"min\":38.857,\"iqr\":392.992,\"upper_quartile\":518.759,\"count\":21,\"box_color\":\"#0277BD\",\"lower_quartile\":125.767},{\"median\":85.492,\"box_name\":\"2017-06-21T18:24:00\",\"max\":1772.371,\"min\":3.16,\"iqr\":175.189,\"upper_quartile\":211.142,\"count\":26,\"box_color\":\"#29B6F6\",\"lower_quartile\":35.953},{\"median\":129.241,\"box_name\":\"2017-06-21T18:25:00\",\"max\":1871.139,\"min\":19.853,\"iqr\":231.27499999999998,\"upper_quartile\":302.203,\"count\":19,\"box_color\":\"#2196F3\",\"lower_quartile\":70.928},{\"median\":262.6525,\"box_name\":\"2017-06-21T18:26:00\",\"max\":1178.956,\"min\":34.927,\"iqr\":572.451,\"upper_quartile\":700.218,\"count\":16,\"box_color\":\"#0277BD\",\"lower_quartile\":127.767},{\"median\":159.954,\"box_name\":\"2017-06-21T18:27:00\",\"max\":1245.276,\"min\":25.809,\"iqr\":220.44099999999997,\"upper_quartile\":282.455,\"count\":25,\"box_color\":\"#2196F3\",\"lower_quartile\":62.014},{\"median\":159.0225,\"box_name\":\"2017-06-21T18:28:00\",\"max\":1160.82,\"min\":4.672,\"iqr\":262.975,\"upper_quartile\":324.086,\"count\":20,\"box_color\":\"#2196F3\",\"lower_quartile\":61.111},{\"median\":419.6775,\"box_name\":\"2017-06-21T18:29:00\",\"max\":1366.774,\"min\":30.523,\"iqr\":627.8530000000001,\"upper_quartile\":872.274,\"count\":10,\"box_color\":\"#0277BD\",\"lower_quartile\":244.421},{\"median\":152.742,\"box_name\":\"2017-06-21T18:30:00\",\"max\":650.35,\"min\":30.297,\"iqr\":346.223,\"upper_quartile\":427.68,\"count\":18,\"box_color\":\"#0277BD\",\"lower_quartile\":81.457},{\"median\":80.6445,\"box_name\":\"2017-06-21T18:31:00\",\"max\":1549.319,\"min\":23.256,\"iqr\":199.772,\"upper_quartile\":242.487,\"count\":16,\"box_color\":\"#29B6F6\",\"lower_quartile\":42.715},{\"median\":178.409,\"box_name\":\"2017-06-21T18:32:00\",\"max\":496.065,\"min\":40.314,\"iqr\":226.009,\"upper_quartile\":290.039,\"count\":22,\"box_color\":\"#2196F3\",\"lower_quartile\":64.03},{\"median\":152.954,\"box_name\":\"2017-06-21T18:33:00\",\"max\":868.941,\"min\":6.682,\"iqr\":291.98900000000003,\"upper_quartile\":351.684,\"count\":10,\"box_color\":\"#2196F3\",\"lower_quartile\":59.695},{\"median\":142.863,\"box_name\":\"2017-06-21T18:34:00\",\"max\":1062.209,\"min\":5.949,\"iqr\":260.774,\"upper_quartile\":337.726,\"count\":15,\"box_color\":\"#2196F3\",\"lower_quartile\":76.952},{\"median\":159.7915,\"box_name\":\"2017-06-21T18:35:00\",\"max\":1333.082,\"min\":21.454,\"iqr\":407.097,\"upper_quartile\":484.839,\"count\":16,\"box_color\":\"#0277BD\",\"lower_quartile\":77.742},{\"median\":294.163,\"box_name\":\"2017-06-21T18:36:00\",\"max\":1246.386,\"min\":8.978,\"iqr\":618.0459999999999,\"upper_quartile\":743.059,\"count\":19,\"box_color\":\"#0277BD\",\"lower_quartile\":125.013},{\"median\":172.495,\"box_name\":\"2017-06-21T18:37:00\",\"max\":375.586,\"min\":8.307,\"iqr\":210.12,\"upper_quartile\":245.481,\"count\":20,\"box_color\":\"#29B6F6\",\"lower_quartile\":35.361},{\"median\":120.885,\"box_name\":\"2017-06-21T18:38:00\",\"max\":501.742,\"min\":11.775,\"iqr\":279.639,\"upper_quartile\":318.298,\"count\":18,\"box_color\":\"#2196F3\",\"lower_quartile\":38.659},{\"median\":142.284,\"box_name\":\"2017-06-21T18:39:00\",\"max\":770.794,\"min\":2.406,\"iqr\":247.12199999999999,\"upper_quartile\":275.904,\"count\":16,\"box_color\":\"#2196F3\",\"lower_quartile\":28.782},{\"median\":210.475,\"box_name\":\"2017-06-21T18:40:00\",\"max\":747.544,\"min\":21.984,\"iqr\":427.271,\"upper_quartile\":483.168,\"count\":21,\"box_color\":\"#0277BD\",\"lower_quartile\":55.897},{\"median\":139.168,\"box_name\":\"2017-06-21T18:41:00\",\"max\":851.794,\"min\":7.051,\"iqr\":436.302,\"upper_quartile\":492.326,\"count\":18,\"box_color\":\"#0277BD\",\"lower_quartile\":56.024},{\"median\":69.803,\"box_name\":\"2017-06-21T18:42:00\",\"max\":442.254,\"min\":16.692,\"iqr\":221.043,\"upper_quartile\":253.169,\"count\":22,\"box_color\":\"#2196F3\",\"lower_quartile\":32.126},{\"median\":96.8335,\"box_name\":\"2017-06-21T18:43:00\",\"max\":517.205,\"min\":10.673,\"iqr\":200.798,\"upper_quartile\":229.947,\"count\":20,\"box_color\":\"#29B6F6\",\"lower_quartile\":29.149},{\"median\":212.986,\"box_name\":\"2017-06-21T18:44:00\",\"max\":646.349,\"min\":8.342,\"iqr\":291.48800000000006,\"upper_quartile\":355.523,\"count\":17,\"box_color\":\"#2196F3\",\"lower_quartile\":64.035},{\"median\":69.545,\"box_name\":\"2017-06-21T18:45:00\",\"max\":567.006,\"min\":8.341,\"iqr\":116.22500000000001,\"upper_quartile\":151.288,\"count\":17,\"box_color\":\"#29B6F6\",\"lower_quartile\":35.063},{\"median\":123.243,\"box_name\":\"2017-06-21T18:46:00\",\"max\":512.156,\"min\":18.413,\"iqr\":265.029,\"upper_quartile\":325.959,\"count\":15,\"box_color\":\"#2196F3\",\"lower_quartile\":60.93},{\"median\":126.7355,\"box_name\":\"2017-06-21T18:47:00\",\"max\":540.931,\"min\":10.856,\"iqr\":163.43699999999998,\"upper_quartile\":226.897,\"count\":20,\"box_color\":\"#29B6F6\",\"lower_quartile\":63.46},{\"median\":150.788,\"box_name\":\"2017-06-21T18:48:00\",\"max\":407.311,\"min\":8.549,\"iqr\":302.642,\"upper_quartile\":325.517,\"count\":11,\"box_color\":\"#2196F3\",\"lower_quartile\":22.875},{\"median\":136.41,\"box_name\":\"2017-06-21T18:49:00\",\"max\":492.543,\"min\":22.074,\"iqr\":208.37800000000001,\"upper_quartile\":266.495,\"count\":22,\"box_color\":\"#29B6F6\",\"lower_quartile\":58.117},{\"median\":159.703,\"box_name\":\"2017-06-21T18:50:00\",\"max\":240.204,\"min\":91.634,\"iqr\":35.339999999999975,\"upper_quartile\":177.801,\"count\":6,\"box_color\":\"#29B6F6\",\"lower_quartile\":142.461},{\"median\":193.638,\"box_name\":\"2017-06-21T18:51:00\",\"max\":396.93,\"min\":74.8,\"iqr\":150.803,\"upper_quartile\":263.741,\"count\":13,\"box_color\":\"#29B6F6\",\"lower_quartile\":112.938},{\"median\":73.5985,\"box_name\":\"2017-06-21T18:52:00\",\"max\":303.571,\"min\":23.725,\"iqr\":129.23399999999998,\"upper_quartile\":179.278,\"count\":16,\"box_color\":\"#29B6F6\",\"lower_quartile\":50.044},{\"median\":155.761,\"box_name\":\"2017-06-21T18:53:00\",\"max\":304.281,\"min\":2.244,\"iqr\":163.229,\"upper_quartile\":226.068,\"count\":11,\"box_color\":\"#29B6F6\",\"lower_quartile\":62.839},{\"median\":103.384,\"box_name\":\"2017-06-21T18:54:00\",\"max\":225.589,\"min\":15.875,\"iqr\":112.57,\"upper_quartile\":174.691,\"count\":19,\"box_color\":\"#29B6F6\",\"lower_quartile\":62.121},{\"median\":82.846,\"box_name\":\"2017-06-21T18:55:00\",\"max\":205.456,\"min\":0.256,\"iqr\":84.697,\"upper_quartile\":121.106,\"count\":17,\"box_color\":\"#29B6F6\",\"lower_quartile\":36.409},{\"median\":76.8115,\"box_name\":\"2017-06-21T18:56:00\",\"max\":146.718,\"min\":19.861,\"iqr\":49.699000000000005,\"upper_quartile\":85.233,\"count\":10,\"box_color\":\"#29B6F6\",\"lower_quartile\":35.534},{\"median\":57.436,\"box_name\":\"2017-06-21T18:57:00\",\"max\":93.579,\"min\":9.132,\"iqr\":40.038,\"upper_quartile\":65.887,\"count\":9,\"box_color\":\"#29B6F6\",\"lower_quartile\":25.849},{\"median\":32.873,\"box_name\":\"2017-06-21T18:58:00\",\"max\":41.461,\"min\":24.285,\"iqr\":17.176,\"upper_quartile\":41.461,\"count\":2,\"box_color\":\"#29B6F6\",\"lower_quartile\":24.285},{\"median\":{},\"box_name\":\"2017-06-21T18:59:00\",\"max\":{},\"min\":{},\"iqr\":{},\"upper_quartile\":{},\"count\":{},\"box_color\":\"#0277BD\",\"lower_quartile\":{}}],\"legend_label\":\"Inner Quartile Range\"}\n",
       "            );\n",
       "        }\n",
       "        iframe.src = \"/static/graphs/templates/boxplots_template.html#id=boxplots-SCMSLPJNXQJJKRNGDROXIKBNRQMRFUTN\";\n",
       "    }());\n",
       "    </script>\n"
      ]
     },
     "metadata": {},
     "output_type": "display_data"
    }
   ],
   "source": [
    "setTable(UP.btView)\n",
    "chartSessionDurationQuantilesByDatepart(tv.startTimeUTC, tv.endTimeUTC, tv.datePart)"
   ]
  },
  {
   "cell_type": "code",
   "execution_count": 38,
   "metadata": {
    "collapsed": false,
    "input_collapsed": false,
    "scrolled": false
   },
   "outputs": [
    {
     "data": {
      "text/html": [
       "<div class=\"dswbOutputText\"><h1 class=\"chart_title\" style=\"color:#ccc\">Top 20 URLs by Median Full Page Load Time</h1><h3 class=\"chart_info\" style=\"color:#ccc\">Page Group = All Page Groups</h3><h3 class=\"chart_info\" style=\"color:#ccc\">June 21, 2017 18:00:00 to June 21, 2017 18:59:00</h3><h5 class=\"chart_lastCalled\" style=\"color:#ccc\">Run at June 22, 2017 11:12:52</h5></div>"
      ]
     },
     "metadata": {},
     "output_type": "display_data"
    },
    {
     "data": {
      "text/html": [
       "    <iframe id=\"timeSeries-PSFHKPXQJUTAJSVHQQUVRHNGJEDKACTU\" class=\"dswbiframe\" width=\"100%\" height=\"600\" src=\"about:blank\" scrolling=\"no\"></iframe>\n",
       "    <script>\n",
       "    (function() {\n",
       "        var iframe = document.getElementById(\"timeSeries-PSFHKPXQJUTAJSVHQQUVRHNGJEDKACTU\");\n",
       "        iframe.timeSeriesRendererLoaded = function(runner) {\n",
       "            iframe.runner = runner;\n",
       "            iframe.runner([[\"x\",\"http://news.nationalgeographic.com/2015/11/151113-virgin-mary-sightings-map/\",\"http://news.nationalgeographic.com/2015/02/150213-tuvalu-sopoaga-kench-kiribati-maldives-cyclone-marshall-islands/\",\"http://news.nationalgeographic.com/2015/11/151118-ten-countries-pledges-paris-climate-talks-warming-carbon/\",\"http://news.nationalgeographic.com/2015/05/150518-spiders-australia-silk-webs-animals-environment/\",\"http://news.nationalgeographic.com/2016/02/160207-mosquitoes-zika-virus-environment-science-animals/\",\"http://news.nationalgeographic.com/2015/10/151019-edward-curtis-photo-picture-native-american-indian/\",\"http://news.nationalgeographic.com/2016/02/160224-refugees-children-syria-migrants-wennman-photos/?utm_source=nextdraft\",\"http://news.nationalgeographic.com/2016/08/wildlife-giraffes-garamba-national-park-poaching-tails/\",\"http://news.nationalgeographic.com/2016/07/eagles-science-animals-australia-children/\",\"http://news.nationalgeographic.com/2017/02/rhino-african-elephant-animal-behavior/\",\"http://news.nationalgeographic.com/2016/11/animals-eat-ocean-plastic-because-of-smell-dms-algae-seabirds-fish/\",\"http://news.nationalgeographic.com/news/2011/08/pictures/110805-rise-planet-apes-movie-science-chimps-gorillas-tools/\",\"http://news.nationalgeographic.com/2017/02/wildlife-watch-abalone-poaching-south-africa/\",\"http://news.nationalgeographic.com/news/2013/02/130220-russia-meteorite-ann-hodges-science-space-hit/\",\"http://news.nationalgeographic.com/news/2014/01/140107-hubble-oldest-frontier-science-space-astronomy/\",\"http://news.nationalgeographic.com/news/2014/12/141205-world-soil-day-soil-agriculture-environment-ngfood/\",\"http://news.nationalgeographic.com/2015/04/150401-travel-adventure-world-countries-ngbooktalk/\",\"http://news.nationalgeographic.com/2015/06/150610-octopus-mollusk-marine-biology-aquarium-animal-behavior-ngbooktalk/\",\"http://news.nationalgeographic.com/2016/08/dog-days-of-summer-photos/?utm_source=Facebook&utm_medium=Social&utm_content=link_fb20160814news-dogdaysphotos2&utm_campaign=Content&sf33238572=1\",\"http://news.nationalgeographic.com/2016/02/160203-feminized-fish-endocrine-disruption-hormones-wildlife-refuges/\"],[\"data1\",null,null,null,null,null,null,null,null,null,null,null,null,null,null,null,null,null,null,null,null]],\n",
       "                [\"Median Full Page Load Time\"],\n",
       "                [\"\",\"\"],\n",
       "                [\"bar\"],\n",
       "                [\"hsla(214, 86%, 60%, 0.9)\",\"hsla(130, 61%, 50%, 0.9)\",\"hsla(35, 100%, 50%, 0.9)\",\"hsla(0, 100%, 60%, 0.9)\",\"hsla(207, 34%, 49%, 0.9)\",\"hsla(80, 61%, 50%, 0.9)\",\"hsla(181, 72%, 56%, 0.9)\",\"hsla(330, 100%, 71%, 0.9)\",\"hsla(55, 74%, 68%, 0.9)\",\"hsla(116, 26%, 64%, 0.9)\",\"hsla(34, 49%, 65%, 0.9)\",\"hsla(197, 70%, 73%, 0.9)\",\"hsla(300, 47%, 74%, 0.9)\",\"hsla(28, 100%, 86%, 0.9)\",\"hsla(181, 26%, 50%, 0.9)\",\"hsla(17, 100%, 74%, 0.9)\"],\n",
       "                [],\n",
       "                [],\n",
       "                \"\",\n",
       "                [],\n",
       "                {\"axis_y_min\":0}\n",
       "            );\n",
       "        }\n",
       "        iframe.src = \"/static/graphs/templates/c3VizRotated_template.html#id=timeSeries-PSFHKPXQJUTAJSVHQQUVRHNGJEDKACTU\";\n",
       "    }());\n",
       "    </script>\n"
      ]
     },
     "metadata": {},
     "output_type": "display_data"
    }
   ],
   "source": [
    "chartTopURLsByLoadTime(tv.startTimeUTC, tv.endTimeUTC)"
   ]
  },
  {
   "cell_type": "code",
   "execution_count": 39,
   "metadata": {
    "collapsed": false,
    "input_collapsed": false
   },
   "outputs": [],
   "source": [
    "#usually no bounces\n",
    "\n",
    "#chartBounceRateByDatepart(startTime, endTime, datePart)\n",
    "#chartBounceRateByDimension(startTime, endTime; dimension=\"minute\", n=15, minPercentage=0.01, beaconType=\"page view\", pageGroup=[productPageGroup], country=[\"US\"], device=[\"Desktop\"])\n",
    "#chartBounceRateByDimension(startTime, endTime; dimension=\"page_group\", n=15, minPercentage=0.01, beaconType=\"page view\", pageGroup=[productPageGroup], country=[\"US\"], device=[\"Desktop\"])\n"
   ]
  },
  {
   "cell_type": "code",
   "execution_count": 40,
   "metadata": {
    "collapsed": false,
    "input_collapsed": false,
    "scrolled": false
   },
   "outputs": [
    {
     "data": {
      "text/html": [
       "<div class=\"dswbOutputText\">\n",
       "    <strong><span class=\"chart_info\" style=\"color:#B1D6ED;\">Using session timeout value of 30 minutes...</strong>\n",
       "</div>\n"
      ]
     },
     "metadata": {},
     "output_type": "display_data"
    },
    {
     "data": {
      "text/html": [
       "<div class=\"dswbOutputText\"><h1 class=\"chart_title\" style=\"color:#ccc\">Concurrent Sessions and Beacons by minute</h1><h3 class=\"chart_info\" style=\"color:#ccc\">June 21, 2017 18:00:00 to June 21, 2017 18:59:00</h3><h5 class=\"chart_lastCalled\" style=\"color:#ccc\">Run at June 22, 2017 11:12:53</h5></div>"
      ]
     },
     "metadata": {},
     "output_type": "display_data"
    },
    {
     "data": {
      "text/html": [
       "    <iframe id=\"timeSeries-MSYJENDUBBDXKSHWKZCVNTIRQLMEOHJK\" class=\"dswbiframe\" width=\"100%\" height=\"600\" src=\"about:blank\" scrolling=\"no\"></iframe>\n",
       "    <script>\n",
       "    (function() {\n",
       "        var iframe = document.getElementById(\"timeSeries-MSYJENDUBBDXKSHWKZCVNTIRQLMEOHJK\");\n",
       "        iframe.timeSeriesRendererLoaded = function(runner) {\n",
       "            iframe.runner = runner;\n",
       "            iframe.runner([[\"x\",\"2017-06-21 18:00:00\",\"2017-06-21 18:01:00\",\"2017-06-21 18:02:00\",\"2017-06-21 18:03:00\",\"2017-06-21 18:04:00\",\"2017-06-21 18:05:00\",\"2017-06-21 18:06:00\",\"2017-06-21 18:07:00\",\"2017-06-21 18:08:00\",\"2017-06-21 18:09:00\",\"2017-06-21 18:10:00\",\"2017-06-21 18:11:00\",\"2017-06-21 18:12:00\",\"2017-06-21 18:13:00\",\"2017-06-21 18:14:00\",\"2017-06-21 18:15:00\",\"2017-06-21 18:16:00\",\"2017-06-21 18:17:00\",\"2017-06-21 18:18:00\",\"2017-06-21 18:19:00\",\"2017-06-21 18:20:00\",\"2017-06-21 18:21:00\",\"2017-06-21 18:22:00\",\"2017-06-21 18:23:00\",\"2017-06-21 18:24:00\",\"2017-06-21 18:25:00\",\"2017-06-21 18:26:00\",\"2017-06-21 18:27:00\",\"2017-06-21 18:28:00\",\"2017-06-21 18:29:00\",\"2017-06-21 18:30:00\",\"2017-06-21 18:31:00\",\"2017-06-21 18:32:00\",\"2017-06-21 18:33:00\",\"2017-06-21 18:34:00\",\"2017-06-21 18:35:00\",\"2017-06-21 18:36:00\",\"2017-06-21 18:37:00\",\"2017-06-21 18:38:00\",\"2017-06-21 18:39:00\",\"2017-06-21 18:40:00\",\"2017-06-21 18:41:00\",\"2017-06-21 18:42:00\",\"2017-06-21 18:43:00\",\"2017-06-21 18:44:00\",\"2017-06-21 18:45:00\",\"2017-06-21 18:46:00\",\"2017-06-21 18:47:00\",\"2017-06-21 18:48:00\",\"2017-06-21 18:49:00\",\"2017-06-21 18:50:00\",\"2017-06-21 18:51:00\",\"2017-06-21 18:52:00\",\"2017-06-21 18:53:00\",\"2017-06-21 18:54:00\",\"2017-06-21 18:55:00\",\"2017-06-21 18:56:00\",\"2017-06-21 18:57:00\",\"2017-06-21 18:58:00\"],[\"data1\",185,217,212,219,221,232,203,230,205,208,229,216,236,211,208,231,206,214,201,195,190,196,196,213,217,195,202,204,221,194,201,191,207,208,184,220,209,217,215,218,210,225,202,214,216,221,211,205,211,229,188,186,207,196,207,227,199,200,198],[\"data2\",200,227,226,229,226,244,216,235,216,217,241,221,242,225,230,245,211,226,213,209,205,210,214,224,236,210,212,214,232,203,211,198,214,218,189,227,222,226,230,230,215,233,218,230,228,235,222,214,217,241,197,190,216,207,220,233,206,215,206]],\n",
       "                [\"Sessions\",\"Beacons\"],\n",
       "                [\"minute\",\"Concurrent Sessions\",\"Beacon Count\"],\n",
       "                [\"area-spline\",\"bar\"],\n",
       "                [\"hsla(28, 100%, 86%, 0.9)\",\"hsla(197, 70%, 73%, 0.9)\"],\n",
       "                [],\n",
       "                [\"data2\"],\n",
       "                \"    .c3-line {\\n        stroke: #039BE5;\\n    }\\n\\n    .c3-area {\\n        opacity:0.4;\\n    }\\n\\n    .c3 text {\\n        stroke: #979797 !important;\\n    }\\n\",\n",
       "                [],\n",
       "                {\"point_r\":0,\"axis_y_min\":0,\"axis_x_tick_culling_max\":20,\"axis_y2_min\":0}\n",
       "            );\n",
       "        }\n",
       "        iframe.src = \"/static/graphs/templates/c3Viz_template.html#id=timeSeries-MSYJENDUBBDXKSHWKZCVNTIRQLMEOHJK\";\n",
       "    }());\n",
       "    </script>\n"
      ]
     },
     "metadata": {},
     "output_type": "display_data"
    }
   ],
   "source": [
    "#displayTitle(chart_title = \"Concurrent Sessions and Beacons for $(productPageGroup)\", chart_info = [timeString])\n",
    "chartConcurrentSessionsAndBeaconsOverTime(tv.startTimeUTC, tv.endTimeUTC, tv.datePart)"
   ]
  },
  {
   "cell_type": "code",
   "execution_count": 41,
   "metadata": {
    "collapsed": false,
    "input_collapsed": false,
    "scrolled": false
   },
   "outputs": [
    {
     "data": {
      "text/html": [
       "<div class=\"dswbOutputText\"><h1 class=\"chart_title\" style=\"color:#ccc\">Points above 3 Standard Dev</h1><h3 class=\"chart_info\" style=\"color:#ccc\">These are the long points only limited to the first 500</h3><h5 class=\"chart_lastCalled\" style=\"color:#ccc\">Run at June 22, 2017 11:12:53</h5></div>"
      ]
     },
     "metadata": {},
     "output_type": "display_data"
    },
    {
     "data": {
      "text/html": [
       "    <iframe id=\"timeSeries-TTZWKZEPLFLPBCSETNLYYQLOBHTWQGUC\" class=\"dswbiframe\" width=\"100%\" height=\"600\" src=\"about:blank\" scrolling=\"no\"></iframe>\n",
       "    <script>\n",
       "    (function() {\n",
       "        var iframe = document.getElementById(\"timeSeries-TTZWKZEPLFLPBCSETNLYYQLOBHTWQGUC\");\n",
       "        iframe.timeSeriesRendererLoaded = function(runner) {\n",
       "            iframe.runner = runner;\n",
       "            iframe.runner([[\"x\",1498068007608,1498068461276,1498068754315,1498068839410,1498069219576,1498069469584,1498069544333,1498069548804,1498069618903,1498069846489,1498070178173,1498070187784,1498070545167,1498070598582,1498070934144,1498071282571,1498071312503,1498071345156,1498071363617,1498068088954,1498068128054,1498068166074,1498068507577,1498068756794,1498068838424,1498068892443,1498069154853,1498069508858,1498069615807,1498069956358,1498069978864,1498070895199,1498071050685,1498068062192,1498068078604,1498068104138,1498068759624,1498069153709,1498069184475,1498069508483,1498070196691,1498070263722,1498070526293,1498070618976,1498070673478,1498070899974,1498068070595,1498068494083,1498069183870,1498069243752,1498069460649,1498070312760,1498070318957,1498070523937,1498070544510,1498070635248,1498070639469,1498070641588,1498070667175,1498070919958,1498070930577,1498070995339,1498071047436,1498068032619,1498068082234,1498068118302,1498068409402,1498068530217,1498068858504,1498069528044,1498069550267,1498069600880,1498069943264,1498070193034,1498070197362,1498070241139,1498070283142,1498070311014,1498070337029,1498070575900,1498070616902,1498070629619,1498070913380,1498070922214,1498070934192,1498071318378,1498068118058,1498068498205,1498068536413,1498068791791,1498068899363,1498069185742,1498070198630,1498070548473,1498070566439,1498070597948,1498070608621,1498070934838,1498068040394,1498068084650,1498068128085,1498068178889,1498068369675,1498068478125,1498068513546,1498068733052,1498068765365,1498069160064,1498069224942,1498069252500,1498069473193,1498069800270,1498069963869,1498070191286,1498070241836,1498070256244,1498070292395,1498070319891,1498070592289,1498068011377,1498068112707,1498068121572,1498068495407,1498068793914,1498069459430,1498069533645,1498069862992,1498069903313,1498069975282,1498070200818,1498070213984,1498070228832,1498070319428,1498070323315,1498070661407,1498071284822,1498068055674,1498068166156,1498068376319,1498068484412,1498068809103,1498069217194,1498069237884,1498069819162,1498070205795,1498070224116,1498070237853,1498070301362,1498070548695,1498071305906,1498071349082,1498071377568,1498068175332,1498068396190,1498068462830,1498068489233,1498068745238,1498068753045,1498068847209,1498068874736,1498069107307,1498069135305,1498069221668,1498069499365,1498070329233,1498070604580,1498070614500,1498070946771,1498068042458,1498068062444,1498068131913,1498068373002,1498068460247,1498068510769,1498068527249,1498068749154,1498069117652,1498069179654,1498069226752,1498069460038,1498069585595,1498069950406,1498070184944,1498070263147,1498070624563,1498070639650,1498070918790,1498070960947,1498071006609,1498071255620,1498071373251,1498071397577,1498068386310,1498068408378,1498068414277,1498068424749,1498068440146,1498068513560,1498068527730,1498068758047,1498068778678,1498068891687,1498069095368,1498069190549,1498069561578,1498069589448,1498069596439,1498069845846,1498069860648,1498069904321,1498069936252,1498070231562,1498070241764,1498070289186,1498070298695,1498070891090,1498070901633,1498071345130,1498068133951,1498068446186,1498068773641,1498069144203,1498069155553,1498069451328,1498069486555,1498069551859,1498070190635,1498070242710,1498070293607,1498070542254,1498070598565,1498070692584,1498071058498,1498071282344,1498071296151,1498071373472,1498071375746,1498068051484,1498068093572,1498070636251,1498070664032,1498070957160,1498070989847,1498071350986,1498068139592,1498068157650,1498068395463,1498068425875,1498069081831,1498069110473,1498069115098,1498069582819,1498069606805,1498069830684,1498070204918,1498070229426,1498070255143,1498070278154,1498070313746,1498070556068,1498070652666,1498070663647,1498068104444,1498068482952,1498069554046,1498070336322,1498070692624,1498070894508,1498071029763,1498071260987,1498071303404,1498071305007,1498071380667,1498068033825,1498068045544,1498068095068,1498068746287,1498069169832,1498069496054,1498069505963,1498069543036,1498069584981,1498070589624,1498070671236,1498068194870,1498068219172,1498070958098,1498071304273,1498068919744,1498068999924,1498069022174,1498069025087,1498069276079,1498069280916,1498069291080,1498069389383,1498068037057,1498068071462,1498068164610,1498069630618,1498069664984,1498068381853,1498068537077,1498068760476,1498070154027,1498070366308,1498070458166,1498069081418,1498069180448,1498069185484,1498070728402,1498069239761,1498069546057,1498069589456,1498071193218,1498069832369,1498071227945,1498070184825,1498070229174,1498070308753,1498071443378,1498071518030,1498071525059,1498070645663,1498068218617,1498068247678,1498068293839,1498068636463,1498068647455,1498068652673,1498070885037,1498070954063,1498068902055,1498068906807,1498068930775,1498069272734,1498069665328,1498069672432,1498069679225,1498069690103,1498071001385,1498070396209,1498070416483,1498070428203,1498070481016,1498071260859,1498071276966,1498071309592,1498071367126,1498068094721,1498068171497,1498068384858,1498068436671,1498068875047,1498069110605,1498069449056,1498069454990,1498069562455,1498069585195,1498069597003,1498070506820,1498070737974,1498069817877,1498069857231,1498070240685,1498070320299,1498070559094,1498070567103,1498070612105,1498070636395,1498071433773,1498071458719,1498070882285,1498071313357,1498071343550,1498071402474,1498068676297,1498068082196,1498068101526,1498068702122,1498068821544,1498068863616,1498069107254,1498069110658,1498069182076,1498069324855,1498069362711,1498069394349,1498069414947,1498069419306,1498069620151,1498069643414,1498069720823,1498070102547,1498070115569,1498070399580,1498069481174,1498069555880,1498069600369,1498069612874,1498069932806,1498070779676,1498071492955,1498071518103,1498068267070,1498068554352,1498068649028,1498070547202,1498070613375,1498068984331,1498069280663,1498069370023,1498070984791,1498070999897,1498069752235,1498071262689,1498071363500,1498070116899,1498071404815,1498068002605,1498068131813,1498070378108,1498070423198,1498070433707,1498070469175,1498068424665,1498070707643,1498070859151,1498070862834,1498068857335,1498068868737,1498071069581,1498068892097,1498069832026,1498069905710,1498069923908,1498070213947,1498070220545,1498070309475,1498070544036,1498068662704,1498068995183,1498069038640,1498069043577,1498069427706,1498070908435,1498070933755,1498070982724,1498071045462,1498069631085,1498069725067,1498068511562,1498070101470,1498070130771,1498068738742,1498068766562,1498068777314,1498070142609,1498070363959,1498070393797,1498070432846,1498070702325,1498069201997,1498069211131,1498070743316,1498071151727,1498069483872,1498069592844,1498069912596,1498068239929,1498068264678,1498068278586,1498069972961,1498068616561,1498068678980,1498070303281,1498070605272,1498068106183,1498068161717,1498068179379,1498068730530,1498069087661,1498069133385,1498069189249,1498069235928,1498069558449,1498069859338,1498069886974,1498070288645,1498070550510,1498070600067,1498070606474,1498070616299,1498070960453,1498068102099,1498068158639,1498068431210,1498068745504,1498069478152,1498069801038],[\"data1\",10382,22002,38783,61950,30206,9021,167448,27909,38941,12714,12338,103838,15136,17034,15442,15450,71270,9498,13736,11022,22602,9078,16649,14556,14752,12945,20696,17834,23976,9395,13694,28792,39095,33993,9060,109837,24046,28270,9604,30645,13414,41852,16791,9612,12091,13074,33362,17866,20544,27809,20655,25745,16182,32255,25785,20367,29588,37732,13421,24806,10051,14962,18726,28499,10795,13476,15418,19727,36650,44102,11760,21500,10165,13627,18206,16895,40565,20148,1897940,10563,15643,12455,16253,13319,9115,24276,26083,25907,10546,21994,43383,48021,13723,15746,205294,13720,24785,45640,32934,25229,20522,15191,17412,17352,37764,25445,100293,10555,19989,55654,19559,69924,21766,16276,18453,32886,15929,11006,25706,25863,34902,10371,38102,19274,21817,84128,11550,13370,37179,162861,24379,9033,51565,27096,29547,17639,48280,12587,13267,24492,14077,71264,12601,13955,33060,35666,27486,43868,30453,23118,32577,15638,27492,19260,9460,16622,9379,73397,12874,13543,14573,52742,21598,12023,15431,18918,39110,17454,9231,10570,17586,22061,9741,86515,17770,22859,12434,151998,18079,18377,13048,12728,23008,9165,69167,42992,33161,14394,91046,9662,9778,16882,14447,16571,9311,21212,16467,62730,14864,15883,14432,37699,12593,17860,11864,10761,9959,20439,20025,11954,19749,31476,16978,32753,22298,14242,41202,16236,45735,33620,11908,23910,23855,25687,15694,26167,21247,18063,15601,9269,15561,9140,9666,9442,15562,9087,55469,13590,10739,131682,51571,42119,17604,16578,25886,39573,17081,24567,107751,27157,18264,28020,21363,22094,73679,13759,53408,19397,12473,24710,9191,13618,27695,12731,15674,16606,10171,10438,12887,46158,28430,13063,32680,17693,9358,13983,13686,12746,16734,20804,27118,13320,14136,16169,13034,15872,9128,23710,23744,9708,20671,12514,28547,16744,11961,11197,13128,16800,19997,11451,18711,20158,56691,15234,18932,4391374,27144,20156,28436,9872,17366,23373,26415,11919,25363,14698,37156,23046,22324,20579,21772,105483,19186,20806,13797,22613,16230,13763,10063,29732,13235,30671,10283,29081,11587,9853,11199,70108,27431,12168,10129,33391,11119,13430,22402,13245,10191,13714,13631,10540,55947,31594,9006,44502,22071,38741,31974,36171,9783,12743,13297,9582,17230,11303,10528,56931,17244,20198,16019,9835,44542,11751,10004,9566,19288,50333,31923,14985,12041,34731,22653,13619,13247,21573,10779,36610,68539,11736,10312,24588,54034,17720,20216,150843,24378,14077,47004,386581,9610,21320,33367,14062,14513,21072,12079,32142,36073,45061,32640,468801,22216,27459,18382,13361,15970,12417,22215,32149,15366,11693,18472,9658,30856,9887,49252,38091,37439,11826,19460,16970,21269,11630,17917,21672,22776,21507,20142,31308,8950,11576,19329,13473,42677,37418,11623,11608,10682,33671,22234,285476,10306,11083,14839,13995,32018,88337,28585,23908,31904,149342,17157,51570,9947,45500,9250,9284,13819,9740,23863,31103,9175,22264,20653,14375,24259,34978,14017,24643,23271,18641,15948,20797,9175,15445,20612,27725,18947,123481,20845,22760,13193,16438,21828,60691,22876,33855,17493,74535,29853,93306],[\"data2\",\"4faa5571-d528-4557-9a24-988624bd9c93-orwsnw\",\"90e771f7-02de-453e-a2a2-b92bba0a85e2-orwsy5\",\"df39cd28-da97-4511-82ea-68fb3e562332-orwsvx\",\"54451820-e5bd-4b15-ac46-a9c974dce0c2-orwt84\",\"16575817-7693-497f-ba76-e0a192f5f1f5-orwtl1\",\"226a0e0e-d317-4108-af4d-b9fb95a39c21-orwts8\",\"ac975960-e2df-46d7-9d89-f57582a52983-orwtq4\",\"c1f2e1f4-6a63-4d4f-b576-5be489b7df92-orwu1d\",\"d65cbb9f-1753-4121-92c3-ee27a41ffc16-orwtuc\",\"87245702-8f7b-4fc9-9392-6774630844a3-orwu2x\",null,\"4e1dd29b-3172-4b7d-a8f0-048b14432f42-orwqn4\",\"61b5cc3f-dc0a-4651-a87f-ebf60f3dbb56-orwusu\",\"0baa35e2-4acb-4ec9-8498-782060033ac0-orwunn\",\"2ebaf72e-714b-4997-af92-303f86508bb5-orwuoz\",\"0283e6ef-254d-4a14-993d-a1755a493c51-orwv6r\",\"d5baa407-d954-4681-9287-d1c1c91f3308-orwv5z\",\"7c58c63b-d50b-4917-bc07-e2e004abd67e-orwv8n\",\"bce30902-57c4-406d-bee3-baeb26934cc8-orwv91\",\"7dc9113a-b34f-457d-b644-0c24bfb04ecd-orwsq5\",\"f87af06f-68ba-4641-8dda-a0b4864bc566-orwsqz\",\"bb594537-d74b-4d47-8eeb-68b3896ed634-orwssd\",\"d0420831-7c3a-4157-8f3b-557116cad194-orwt1m\",\"86e9faa7-70bf-4284-a614-f9ab237c2280-orwt7r\",\"b64fd077-a8c4-4a5b-9dce-03a3d53390c1-orwtav\",\"68c675de-4bcf-4ad1-bf76-936a689116e6-orwtce\",\"eef373f6-e899-48a3-9ecd-49c366b1a47b-orwtjf\",\"542b8d75-47b0-4e4e-a904-552c5be431b8-orwu9b\",\"409ca740-f135-4617-bcab-76c9beb8f26e-orwtui\",\"b760b42b-dbaf-4e2b-a39b-9217ccab7a04-orwu63\",\"ec80be22-34d4-4819-af9a-a012adb59d1d-orwu6j\",\"4d36e4c5-821d-4e90-8987-a35ae50c6ca6-orwuvm\",\"744bfd34-2616-4e05-9b38-a9e8d9d00777-orwuys\",\"d527c2e5-d02d-4674-9566-f0c484c7208b-orwsoq\",\"344edb76-05ac-4421-b37e-5d4d5b2f3ac8-orwspx\",\"31c219e7-9b61-4b83-a385-d96082a79f13-orwsnu\",\"a3ba8068-2226-4c4f-8d14-bbbf603a1aac-orwt8d\",\"83d44cbd-f906-4b0f-a59b-ee76fffd8d2c-orwtja\",\"ba50b697-2cce-4bce-8df2-ee99f2eb7a94-orwtkn\",\"38e1cd11-c804-4cdc-9eb5-ff3b78ce70e5-orwtt0\",\"6ddf5a0b-2457-4f58-a78f-bce620293342-orwucp\",\"49b60c0b-5123-495b-8c87-4edff3b72acd-orwuea\",\"2d1931b4-1265-4e7d-92c5-025dd5ba2d38-orwulo\",\"f89ed162-3bb5-4d12-a76f-3d8dd46d1827-orwuok\",\"d7c20650-298b-4413-a579-ec6591c9c162-orwupx\",\"86706bc4-ef86-4634-acd7-5ee9b1c9b849-orwuw6\",\"0707470c-f220-4bdb-8917-3cae85184c6a-orwsoz\",\"16b6850d-d9de-4d58-a517-8c2918836a9e-orwszp\",\"a3e765bb-4236-4c0b-b7f1-d3ce144acbd8-orwtk8\",\"94160baa-8ddc-4c8e-b146-0fc66be12ddc-orwtlq\",\"e1567125-c429-414f-ac27-338494d9de04-orwts5\",\"f88a011c-4dc9-4651-bd68-0a48f2f099c9-orwufd\",\"d2ac4c8e-a5ee-43b8-a81c-d8926a862257-orwufx\",\"765e3390-a5c4-4cbb-a551-df884adc4a31-orwue2\",null,\"cc323459-ea84-4d2d-8371-c1bac2acd495-orwt4y\",\"f64f1ad7-4f08-4595-98cf-73122419d902-orwuog\",\"0f3d7eb9-c625-4b07-ba0e-73a8fec90e55-orwuo8\",\"9a30852b-f822-41b7-ad4f-48506ea8c908-orwupq\",\"812fcf59-779c-4169-a05c-3f54a4940846-orwuwe\",\"1c394b87-f7a4-4207-ac6e-87f579b588f2-orwux4\",\"0c4de5c5-df0b-42a9-b53f-faa62a63a9cc-orwuyl\",\"88162155-9669-4e56-9997-9d7f5f5cb4ba-orwv03\",null,\"3797c00d-8577-4f0a-b9bb-b2dc390e0749-orwspy\",\"d4e2e3ea-217f-42ca-a060-f6214a5b27e1-orwsqy\",\"96abdef0-76b1-4fbf-a3db-2cf2b357af6c-orwsyy\",\"de2cf2dd-063b-458b-a04e-e229db306741-orwt24\",\"751c3513-6e6d-46f1-846c-6975152044a8-orwtax\",\"13d1c405-814d-4181-9515-fa86d3ba488c-orwtt2\",\"76b78f69-d958-4d0b-b664-4a527792c464-orwtuw\",\"54fb999e-f43d-4689-92c4-fa21b081c6de-orwtw8\",\"9762cdc7-55a0-47d8-9c02-21830be19ab9-orwu5p\",\"ccbd9f51-d580-4281-bbff-99c210c45097-orwucj\",\"1aea74ec-36b3-49cb-a657-1852d2434286-orwuc2\",\"5d7c6322-9933-4eb3-9bc7-7858c5036c01-orwudr\",\"4d3b8ac0-03b8-46e4-9fdf-19a794c9040a-orwuea\",\"767bb9f2-0dc3-4ee3-9ef5-2f24d996821b-orwufm\",null,\"9a3462f9-7147-4729-ae1a-45f30c86fa37-orwun9\",\"4e880ecb-495e-40de-ab4c-965d3082c883-orwuvf\",\"300bac66-64dd-4a7c-93d9-1df94d5ab886-orwumc\",\"a50a7b99-a4d5-4f14-b07f-9d26b577484e-orwuxo\",\"265139c0-93b3-449d-b75d-9cd3c4863f4b-orwuwt\",\"7cd217fd-74a4-4a03-a951-8a82a0757656-orwuwl\",\"fbd52c6f-0660-49a4-b5ed-b025818b9ae8-orwv7f\",\"56c6bf10-38d8-4998-bc0e-dc4772158cfa-orwsqf\",\"ffbca795-0f43-4e69-900d-6e473841afec-orwt16\",\"30c2fd99-24ad-4f73-9efe-6bcc9b6693c6-orwt2e\",\"d5188d8f-36e6-4d65-b9d2-e155f7577085-orwt9d\",\"7e6ff2c5-d0aa-4b8f-8110-4293dd7e0d88-orwtbs\",\"2c7ec112-088e-467d-a6e7-df1ca3630b0d-orwtjp\",\"dba9f9f9-aed4-4324-8203-7d27c96d1a6b-orwuco\",\"cca7cda7-c0d0-43a3-bc95-f2d20634dae8-orwumc\",\"3be75944-1166-4a4b-8b45-88249b2bc71a-orwzrq\",\"ccee7659-99b9-454b-ba1f-c008e81234f5-orwunr\",\"ccee7659-99b9-454b-ba1f-c008e81234f5-orwunr\",\"3658f235-a01f-4b5d-9359-2539983df84d-orwuw9\",\"3433f17e-c2eb-4c6b-9034-0ccc8aebac4b-orwsns\",\"359607ab-3e53-42c8-9325-3b4601c9552c-orwspm\",\"91c78b38-d55c-455a-b7a3-4d3bac45d92f-orwsqz\",\"5cd1f391-d355-41cc-8584-996f2f62699e-orwssj\",\"0f18b483-b14b-4225-ada9-b795459f6fab-orwsxz\",\"758d74b9-4cf5-4570-b0bb-be34fbaacf9c-orwt0t\",\"0afe5bc4-ba3b-46e9-8020-1ff52ae6ea6e-orwue9\",\"43b8934e-ffd9-489e-a230-88f6319c44e3-orwt7n\",\"657e9c06-2eff-4101-93fe-9ecf987f4a11-orwt6c\",\"35fdcd56-b379-4774-b51f-bee9fef74e40-orwtjx\",\"f0ad2c57-acb0-41ed-a8a5-40fc490d9440-orwtm4\",\"da40ff88-a9ca-44d3-b295-11ad28e16e3d-orwtl5\",\"b5de5692-69ac-4937-8201-30710aa6821b-orwtsb\",\"5e0f55ba-8c61-42c8-85f6-e3c06d812fcb-orwtzr\",\"448393fb-e0da-4759-964b-9c0b220a6768-orwu5x\",\"01fa8979-92bf-42d8-91e5-7c7a41b51823-orwucf\",\"8da0ec6f-584a-4ac6-b795-477ad2bb55c0-orwudp\",\"5d3dd401-0e23-4977-942c-db0cbed96674-orwudp\",\"8d9a976d-54e2-4f60-b5db-d777c69e2a48-orwuf9\",\"cb6b1646-b9a0-47c5-ab21-2d4298ca3ff9-orwug5\",\"2c205397-ab9e-47cf-9faa-99eba45e4351-orwuoi\",\"48dfc744-688c-430f-bfa2-29bc2cb90576-orwsgu\",\"5c92732f-1974-4206-bf7b-51500d75b80c-orwssh\",\"9dd0e4c1-5fba-4302-bb45-9f13f591360a-orwsoc\",\"a6774a4c-2452-403a-986b-fa22ec37a1b3-orwt0o\",\"287446ac-e1c3-415a-8608-12d20bf7abff-orwt9i\",\"736174cc-972d-4ef4-bb2a-4bdb540a50cc-orwtnv\",\"02672b5d-7c90-4ddc-b234-381865cd3a8b-orwts4\",\"b3d92936-cbed-4ad5-ab7c-3c0e7f52bee4-orwu3f\",\"5602f621-c843-4125-b9c1-2a87c38b5d64-orwu4i\",\"dbc29e49-8a77-4fdc-8120-0ad9380f4b9e-orwu5v\",\"30623d1c-c800-403e-a4ed-f1f96b5085a5-orwu8j\",\"36004080-be73-4d11-aa99-cbe793313b50-orwucq\",null,\"60395409-8573-430b-ad0a-77f818ce76ad-orwudp\",\"6abfc8ff-e89d-489d-b9b6-b6b7163c8646-orwuft\",\"b08ed83f-2825-4cbd-b75b-4e442835a4f5-orwup3\",\"b4b17987-bed3-4577-b56b-beadf7e4d238-orwv6p\",\"604b7a7d-7f95-4737-b9f2-02d6cdee3655-orwso3\",\"7527180f-0ef7-42f9-af5b-3baa8133af3d-orwss9\",\"298add24-c252-4b8f-a10c-f6991994183e-orwsy3\",\"4748f804-84bc-469e-95c8-e404f0182654-orwt0r\",\"4895383a-2d42-48db-90c2-f5ccc6a34e54-orwt9w\",\"fd7a911c-72e0-4609-915e-ffe479658ca0-orwtnz\",\"542b8d75-47b0-4e4e-a904-552c5be431b8-orwu9b\",\"2ece3eea-bab6-4bba-8658-89bbe15bf098-orwu25\",null,\"650b1cd1-424b-45da-9a1c-2a84e0400930-orwuco\",\"15f4e3b5-e8d7-4a28-93d8-0ff687e92a85-orwud7\",\"0bc03b19-f0b2-44fb-96e5-7bb3a3050563-orwugo\",\"af323f74-6a8e-4e0a-b2e6-840295d0003a-orwulv\",\"eab99921-3400-4600-9efa-868b2437f5c7-orwv76\",\"f00305cf-d859-413c-bb27-5a0a45284c17-orwv83\",\"67e1258d-067f-4222-bdea-21906452ca5e-orwv9d\",\"15cee147-864a-42c5-9ba4-e3548df95a17-orwss5\",\"f4216110-af1b-47a1-9f08-5cf8569e6ab0-orwsyd\",\"de256d72-c333-4554-abe4-acf471a19754-orwt0k\",\"2ae88a0a-55d1-4271-a1d9-dad5642aabd5-orwt13\",\"466789d8-02d3-481c-ba1d-7d4522947234-orwt8g\",\"d4bca744-442c-4057-97b3-9b9708c4275c-orwt6u\",\"db82f909-1626-4363-8512-109746ab55e5-orwt3y\",\"e3553197-9d1c-4d85-9f17-3473e58c2d9d-orwtbx\",\"aa4e7a56-9bf6-4751-9a36-24bdd543da41-orwtif\",\"367e617d-b3be-43f5-bd8d-5917b08138cd-orwti5\",\"eebbc42b-1afa-420b-a56f-064f0c7966ed-orwt87\",null,\"9a01675f-7c09-497f-b85f-cf656b743de6-orwug8\",\"2e46a44d-49f6-4f0c-a997-82472157c28d-orwu16\",\"4acc1689-654b-41d7-ada6-e877a89be782-orwune\",\"c0a285a7-8828-4193-a7d1-d2654630a295-orwuxd\",\"785a9b58-f774-42d2-a7d8-984a062c65b7-orwse2\",\"9cf172ad-11ae-409c-a918-6ecf86534ae7-orwspc\",\"2520d5b4-be84-4498-974a-ad735fd1c431-orwsqn\",\"c6191fcf-7406-44a5-9ce1-9d2792674800-orwsxq\",\"5adbca7d-281e-4a34-9dd8-ae7d42e4c8f8-orwt0g\",\"5eff93f6-2a77-4a42-8985-6e2b537102c4-orwsxc\",\"39e0dc2d-9a71-4a2a-b62c-d1c2c69ae1f4-orwt24\",\"473992d9-adc0-487d-9d6e-a4eb4c547016-orwt80\",\"a4d2f62c-f56b-4017-82ba-b09bcf01f2a2-orwtjb\",\"06c0835f-7dbe-471a-bf8a-22efa2bd3f30-orwtgj\",\"b30ede76-ae8c-4447-818b-c4d8938bdc36-orwtlj\",\"a64b94f6-789c-40aa-b166-531fee565638-orwtot\",\"dfefd743-e604-4bb2-b23c-1b51e3841792-orwtu1\",\"b434e868-14aa-494c-ac6b-270684d56dcb-orwu5t\",\"c84430a6-2e61-4ca0-a9d7-2402272383bb-orwuc1\",\"fa635dc9-1f7e-418c-b6bf-7958cf612162-orwuee\",\"24d55bb3-f415-4bf9-af59-687a69b6e6ab-orwumt\",\"caa83be2-19d5-4ae5-bde1-3e6154d29114-orwuo2\",\"d06fc3d2-051a-44f7-b92c-f55b4452615a-orwuvv\",\"af6b15ac-b205-4854-b078-aa6a497b5008-orwuvw\",\"f1f9670f-b800-4319-b96e-357ca48f1380-orwuwz\",\"67803dd7-9e3f-44eb-8e90-e40769cf1fb1-orwv66\",\"cf1b9bb5-f4a6-4086-9e46-19540a649bad-orwv9f\",\"59dd7237-0153-4190-b895-9d472a278e8c-orwv9w\",\"1cd5757d-f365-45cf-aeff-986ba581dc48-orwsy9\",\"4a3c24ea-2cbd-4dfb-9f8e-fea2d6c86343-orwsyu\",\"58584255-5664-4448-9a27-abff75b9d9d4-orwsz2\",\"d192e4af-fb1f-4cf0-be44-f22d09b9edd5-orwsz7\",\"4ca758ac-e29c-4e48-a17e-5e52a1aa568d-orwszs\",\"96abdef0-76b1-4fbf-a3db-2cf2b357af6c-orwsyy\",\"68492c7c-9756-4d86-bfd9-d3f45f78ac22-orwt2b\",\"75c345f8-c449-4a1c-92aa-4da0bb7a286e-orwt8k\",\"bcba14dd-8bb9-44f4-973a-d11fbab81c01-orwt98\",\"e9f93711-f701-4a52-b867-0cbc8a3b9e74-orwtbo\",\"3622616c-6485-47f1-a23b-4729c794a1db-orwtht\",\"eeb02a13-ed47-420f-9e87-cdbfd7cfc026-orwtkl\",null,\"6e788a62-b457-4781-9055-eea29e6af304-orwtvu\",\"5325be31-90ac-4c62-ac53-d75310c07000-orwtw1\",\"e305469c-980c-4d86-9e57-a5659cf7cf71-orwu2n\",\"05459b82-c0ac-4db3-a26e-670c27fd732f-orwu38\",\"a7458695-517d-44b6-af4e-76f1dafe0ff5-orwu4l\",\"21ac9104-b6aa-499d-834a-fef0807a86c9-orwu58\",\"b39be02c-1165-4a9f-93c9-26a79da3fa7e-orwufc\",\"ead1b27a-c8df-42f2-b02e-d46e55ce6b76-orwuds\",\"70dc2d1a-ee3e-4919-9184-3b46944846b8-orwuek\",\"f8b90635-600c-4bdd-9657-320a98c25c08-orwufa\",\"2453590d-e9b6-46ba-848b-32cdb8c34250-orwuvx\",\"9e0e8c73-59ad-4e7f-a02a-bbded6962ae2-orwuve\",\"c51cf766-8cf7-4d8d-ae6a-0b83bd6f43d0-orwv8g\",\"3e5ca551-103a-42d4-b7bb-968f19d62ab7-orwsln\",\"91c1b9dd-8248-4ac1-8b75-d5d24d0195a8-orwt83\",\"67f37d67-6efd-49ce-8370-fbce4f6ebecd-orwt95\",\"5130e480-09c9-43e3-b5ce-73cddad5b83c-orwtxp\",null,\"ff9c9b81-3454-4df7-b7c0-1bac59d3c5fc-orwtm9\",\"532c2bad-6fdc-4910-a716-faa89b7b2d8d-orwtss\",\"a0d2069e-0736-400a-909e-95f97a072a2a-orwtqx\",\"963085da-3f33-4de7-8084-177cd3614b2d-orwuc6\",\"23ce6891-6139-494a-adb6-75f5e3d90268-orwudq\",\"5b0ce0d0-7fed-4196-bcb3-c78afd6cb318-orwufa\",\"7e770f09-3859-4b71-a10a-70d838ac6467-orwumd\",\"3be75944-1166-4a4b-8b45-88249b2bc71a-orwzrq\",null,\"23460dee-f0bf-4c30-b0e8-1cf02521682a-orwuk9\",\"586d9f06-ec79-459b-82c8-796cd8da7d51-orwv6x\",\"b3bb130d-ea7b-4d47-bacc-527a7a9e8c0a-orwv74\",\"a4f4bb24-77ce-4b55-9013-7bfccfa7d20e-orwv9f\",\"9b59d2ee-df6d-4067-8e87-b41867392450-orwv88\",\"4b8e45da-b2cb-40e5-8ecf-8b92095cbf20-orwsoz\",\"47ab8247-cb22-45ea-a76d-2fdec3fb845a-orwsqa\",\"0854fe1a-5957-4f23-ba99-96b997066c28-orwulg\",\"4ae84a95-0e7d-4218-94a4-77442841f60c-orwuz0\",\"0191e6b8-3e3e-4478-a685-a98a33f3c357-orwuwt\",\"275c8af7-2594-4d59-b969-088d0e3d80f9-orwuyj\",\"388ef82a-9a4c-4ca3-9c9e-acba47380db4-orwvmd\",\"69c028a2-de4d-4397-ae40-442248858856-orwsr4\",\"5221f332-1040-4f99-9481-d7d83bac0ae5-orwsr8\",\"f4cec321-6083-478a-bed9-33fd8625ffd1-orwsyj\",\"f0c79a69-c744-4baf-a91d-7de1438ecfaf-orwt0h\",\"61d83cef-747d-4099-b66f-cadf76122293-orwtf2\",\"347d40e8-3845-4e7e-9b56-1b46dfa33c23-orwti1\",\"478cb091-ee07-4c25-b06e-61eb2bf0974b-orwtha\",\"58d04334-15ee-4b3b-9dc7-8dda27463b53-orwtv5\",\"d932f01c-2ea8-47fc-810e-7352569b59dc-orwtsy\",\"96c2d438-503b-4522-9f13-8e820997d105-orwu28\",\"cd85efda-5e2b-46d1-916b-0cc3f7b617c8-orwub7\",\"9513a422-9565-40c2-a5d0-381bee8286b8-orwudi\",\"27dc4a44-8383-40bf-b702-7a0867fff170-orwud5\",\"a1d8c118-6149-48c6-b343-a6b4eba27fac-orwueq\",\"f52ff8e0-84c6-476b-9a3a-51660c68ce60-orwszz\",\"1991642f-b1b0-45d5-bb54-e6448db4fc44-orwumb\",\"ef34c813-57e6-46a0-a6e5-5ebce4a1baa4-orwupe\",\"cf907ca4-0959-4e4a-86c0-7710dee152a6-orwupl\",\"9910bb94-84be-4ebb-90e3-10ce10d542e8-orwsq3\",\"16a34976-1f8b-4ca8-803d-1608512001c0-orwt12\",\"5c453f5d-0dfc-4aea-acbc-5f62ecc37d62-orwtup\",null,\"1f3aec45-9048-403d-a15f-dd425ce544c3-orwuqi\",\"38f01df1-611d-429e-be34-1e914d52d5ae-orwuw3\",null,\"bec53f38-8651-42ad-bcca-27f8402eecaf-orwv5a\",\"a361353d-118e-4192-bb81-83b779f8475d-orwv6y\",\"9b31fc71-e18c-49ea-b2e2-fa19e176a89b-orwv7f\",\"6f5cc38e-f12d-4638-9386-942980a8adcc-orwv8z\",\"273ea671-9fe2-4465-9a99-d23d5637aa14-orwso7\",\"7a4528ac-52c8-406f-af92-7c60ec083118-orwsp0\",\"5d4f28da-5e43-4397-b43d-2552fd3c0a7e-orwsq9\",\"fecc527c-c2ad-421c-9276-042ccecd16d5-orwt8b\",\"be99349a-d7ec-4d27-a813-bbd47d879af8-orwtk3\",\"9f2e9032-386e-4775-853f-431bd0873dfa-orwtsz\",\"276b2bc1-3412-48d5-9a7b-e2f75d458854-orwtt9\",\"26dabcf7-de2c-4c7c-9fcc-955cb8aacde7-orwtu2\",\"d1f3f534-3554-458b-9eef-9953de09a182-orwtvl\",\"d182485b-1c7c-4d04-b355-c94de0d0a525-orwunj\",\"df0cc6c5-18e4-483e-9645-604ae6c4095f-orwupp\",\"829e9d51-7f52-4cdf-951f-01d5fed24f3a-orwst2\",\"3cc1ef3d-ff0d-4c90-8c8a-8e1ac4daf441-orwstl\",\"f396a259-3cd7-4054-add8-bf9452b3391f-orwuxx\",\"283edc90-9ec6-4963-8746-88c3049b9b4a-orwv77\",\"46a4a353-fcfc-4ea2-aebd-2adcca55b3d4-orwtcv\",\"34095bc3-2706-4b98-814f-27f48843c92d-orwtfh\",\"51c3b2e7-0d97-444d-b0b1-52036091a887-orwtfs\",\"400dc74d-ea8b-4b92-9fc9-76d7a79b7234-orwtg7\",\"629c3309-5b13-4419-bad1-7383e173a12e-orwtmo\",\"f1dd15ba-3f1d-4397-9904-1357752a7e99-orwtn4\",\"90d7874c-9bae-4578-a33e-4a0aa1eabaef-orwtmg\",\"9877e1b0-1a53-4e58-8f55-378ddda7eb3f-orwtqa\",\"0d80caf3-1abf-4397-8f95-21025d113eff-orwsol\",\"8ca9f9e3-0c8e-4604-a7c1-994ceb5678c3-orwspi\",null,\"721a8296-205c-447d-a865-d2c44b68df2a-orwtwz\",\"675d3450-6465-4eb7-b274-eb7c875426e2-orwtxg\",\"05715e16-a475-4645-a651-d70d806f9597-orwsxz\",\"36f40528-11a3-4b46-a859-86791c58b4a6-orwt1c\",\"2c215df6-8955-4981-8c97-d046ae6dc65e-orwt2p\",\"6474599a-f766-4662-8f49-8179425327dd-orwub9\",null,\"721a8296-205c-447d-a865-d2c44b68df2a-orwtwz\",\"2d2aad02-40f0-41fc-bee2-c0bd143d7e19-orwthd\",\"0628d319-f55b-4ad3-9ee9-56c6e932416e-orwtjy\",\"50e71273-eafa-4581-b581-df373239a875-orwtki\",\"4f926c1d-0d55-4cda-9e65-0e6afa2ab43b-orwurv\",null,\"d159ad3a-a4f2-4364-b317-468068581fc8-orwtu8\",\"d6981bab-a7dc-43a8-8207-0c081151e5a2-orwtub\",\"35d0c053-faaf-4c1d-930c-2c71b48c7b88-orwv3y\",\"759ddc75-7bdf-416f-9486-691f835aa9b2-orwuis\",\"32050242-8f43-4181-acf4-8afc8f09e9dd-orwv40\",\"b7617a24-b6b2-4354-8228-e865fce5ea88-orwuc0\",\"42a4e0bc-425b-4bd9-a5ec-8bf003ef817d-orwud9\",\"e1b2ca5a-dccf-446f-a9d9-b57eeea202f8-orwufj\",\"06855d21-8a2c-4025-b5e9-0c78a85ccdc6-orwvb1\",\"3f0fbe1b-e10d-4af0-a534-825acfe38d05-orwvas\",\"d4bd0f19-b119-45d9-8958-5a2378e99c80-orwvdd\",\"83767b86-745d-49c1-bd4b-7d41abde2ab0-orwuoa\",\"f328a318-3fc8-44e0-8ee6-00cc0c8637e7-orwstp\",\"fdb0a430-c5c2-43f8-8c1a-9e45772ffb80-orwsu8\",\"b9b08d0b-c446-4582-b2cc-7d6ee62c817e-orwswo\",\"bab65bfe-fd5c-45fb-a4e2-a6349aae2016-orwt5a\",\"42888cd6-dd05-498f-8206-2fd2896328b5-orwt2d\",\"b50f1710-eb58-449b-943b-87f5634abad5-orwt51\",\"b038dca5-9a3b-426b-9280-649bee7b0084-orwuvq\",\"604213a8-c492-447c-b550-c98fd9309d87-orwux3\",\"c9db320f-55c2-4b56-a8cc-2d0d1cb5e5a2-orwtcr\",\"e808edb0-7912-4368-b1af-28d2226910a1-orwtcc\",\"68c675de-4bcf-4ad1-bf76-936a689116e6-orwtce\",\"0017ab46-cd8d-4c39-8f45-6be27323c0a1-orwtn2\",\"11296596-876b-40f8-87b0-8f5ae2269076-orwtxy\",\"695798fe-8822-457c-8a19-5fc5c28df49d-orwtwh\",\"590b8617-82df-4d8e-b2bb-98ac9dfc9ef7-orwtxv\",\"cddd6555-c5c9-4161-b69e-6f32f12d4f3c-orwtyc\",\"30bfd340-947c-4993-a28e-a551e4d5616c-orwuzp\",\"ae4444c2-a25f-4eec-bee6-f6a8bbe34911-orwuhm\",\"ad457ab9-d9cf-426c-b3ca-c5ee85876e09-orwuit\",\"c83a793d-4c93-40d3-b5ac-e7b2b1c6fa00-orwuj2\",\"15f4e3b5-e8d7-4a28-93d8-0ff687e92a85-orwud7\",\"b9f44995-538a-428d-9414-26155274a21b-orwv67\",\"8074a482-49aa-4d2e-b585-179545e64885-orwv6q\",\"9d6a7006-e3a4-49e3-a7b1-dbb30e9dc3fc-orwumr\",\"dbebe901-9131-443e-97cc-8b6cfe43f438-orwv95\",\"808160b5-c157-497f-8795-eae8b5978dad-orwsqc\",\"69e1ceee-604c-40b8-96cc-9947b2866f48-orwsr7\",\"bfc78eb0-345d-4f44-9e67-9820ca368aa6-orwsxv\",null,\"0e6e222a-c9d0-43da-ac07-a6e0691b6932-orwtaz\",\"a08d9ac8-f900-4672-9c82-2cc237da1b49-orwti4\",\"c9702641-8079-4513-b882-7b4242843a8b-orwtr4\",\"1ecdea22-4161-4a4a-a306-f6f42b63199c-orwtqx\",\"08ebdf07-52f2-45e5-b0dc-6e31e5f680a5-orwtue\",\"fd09b067-f16a-49f7-a27c-1d1f553339e0-orwtvr\",\"3d13923d-ea3d-409e-9b67-438dfa9d2bff-orwtvz\",\"15f4e3b5-e8d7-4a28-93d8-0ff687e92a85-orwud7\",\"895f414e-1eb5-4c49-a233-b4cc3fde3311-orwurs\",\"ec7809f6-fc9b-42b7-8c40-ebad60978102-orwu20\",\"da8631de-d78d-4efd-a7c1-a074cd9ad1bc-orwu3d\",\"40be0d06-652f-41a2-84b3-32f552f9f0a5-orwudy\",null,\"f7640f78-9eed-4fff-abac-a290b976c6dc-orwuml\",\"da3de933-59b9-4a61-8195-6591e19d5775-orwump\",\"10dba7a7-9855-4eaf-ac4a-8eb597e05f9d-orwuo1\",\"5830a98b-cd9c-43f5-b869-f3b04e5de91f-orwuoy\",\"b5e49575-a7a7-46ba-9304-7fd068c55799-orwva4\",\"849e0e66-0dd7-4b45-9288-bbb29727856d-orwvc3\",\"8d468aff-f67b-4ce0-a895-c986960641c5-orwuvs\",\"9090e16d-f084-4084-86b9-e30f135c1c12-orwv7r\",\"abfe9241-11b3-4ae3-8957-a95e16821a56-orwv8c\",\"4bebd3f2-cd17-4237-a0ec-12bbebba3d24-orwv8g\",\"6338fd12-4ff8-4868-b862-ad5e976b39ad-orwt60\",\"24b547e6-69d1-4735-97d7-9780b221008c-orwspv\",\"974ea0ef-b7ce-482a-8451-d22b08f6650d-orwsqi\",\"e21a817c-9494-4509-943d-459f1402f6eb-orwt6h\",\"1cfc98dc-740d-4846-a420-e60a96a7f87f-orwta5\",\"1c49d892-259c-48c5-a141-731072337423-orwtbm\",\"e86a355c-ec13-4dc6-8340-3d419b487e39-orwt6c\",\"38a9f835-3083-417b-bb43-f93ccda064d2-orwtmj\",\"e86a355c-ec13-4dc6-8340-3d419b487e39-orwt6c\",\"2a86361e-bd95-4563-82b0-e781ae0ffab7-orwtns\",\"ad49ba05-746c-40ff-b239-573820185829-orwtny\",\"62c75c45-5063-4077-a116-a232824ff96f-orwtqe\",\"a36692b1-e2ad-46c9-bd13-bf7b3944488f-orwtr0\",\"27dc2bba-c68f-4867-aff3-f45d23a1400a-orwtqp\",\"01addcbd-9377-4f49-9422-a2ab23e73421-orwtvj\",\"105f867c-6ec2-4369-936f-b7cf2c759d66-orwtx3\",\"0b297b80-a23f-4d96-9470-593217872320-orwtz6\",\"eebbc42b-1afa-420b-a56f-064f0c7966ed-orwt87\",\"016c1bbf-8620-4c9b-9edc-d4cb56ca756a-orwufp\",\"fb59a226-df2a-4608-81c7-b291a2c800a8-orwui7\",\"c7576aed-1343-4083-9f23-a76fca5f22c0-orwtrr\",\"bacbff05-4a7f-4600-b329-eed784ee7a56-orws21\",\"67a5f409-9836-4c02-b7fc-24f4c9ea8e43-orwtw7\",\"d65d3426-4a13-4acd-8b52-3ea09715fcc5-orwtw6\",\"2daa4e13-7091-49a5-af38-8fe7a9d66a91-orwu4o\",\"74b6b1da-c56c-44d3-8bbf-db36487978a3-orwust\",\"1280e169-777c-4e45-8590-c0d9a4e26895-orwvkq\",\"5942715b-8c66-42d1-bcf3-928c1d7f2115-orwvcs\",\"e19544d2-a70f-427a-bb55-31e677f9abe8-orwsv3\",\"85f004d0-bf90-4c8a-9245-68bb16cc2260-orwt2f\",\"cc323459-ea84-4d2d-8371-c1bac2acd495-orwt4y\",\"640cb516-6226-48e4-9111-8cc43aea6ab9-orwulg\",\"df5e6bd3-222c-4055-9824-1cf83b748eaf-orwunn\",\"09f0d142-c1bc-403f-bc69-5baddbc89e4c-orwt0w\",\"ccdda298-7fd8-4f65-90de-39df7d0e72a4-orwtmw\",\"8bb5aabb-be8d-4b30-b290-b5c6f614f78e-orwtpa\",\"e206df24-913e-4e82-ae55-61d59ff6d289-orwuye\",\"a53d90ae-3e69-43e1-a2c3-e26ebbffd894-orwuyy\",\"d5727f02-5ff9-4d1b-b969-87ef4f504473-orwu07\",\"9dcfab4f-e5f5-4e93-aa62-d4ac76cfd26e-orwv6a\",\"17dd9119-a36a-4a73-bc2c-746763b910ae-orwv8m\",\"cfb9c3d1-7dc0-43d3-b018-64cd6011271a-orwu9u\",\"c98c2d7b-8de2-45d7-9035-8dad02e5a51d-orwva4\",\"10596231-37cd-44c2-af7e-b71ac34ee23d-orwsm1\",\"71445b38-1991-4dae-96e5-dd4d7704a95e-orwsmi\",\"b06f0cff-e7e8-4b8b-8392-d3130a357e73-orwu20\",\"68915aa3-4336-488a-bd6e-72afa561e0b4-orwuig\",\"cd652bad-3b29-43db-8d06-c098c74189d7-orwujb\",\"cc323459-ea84-4d2d-8371-c1bac2acd495-orwt4y\",\"e8d87630-8947-47bd-8976-c08c5cb7ca6b-orwsyo\",\"177db9dc-9ac8-482a-8ced-12672c285728-orwuq5\",\"703f7965-7d86-4c7d-bd80-ba5034db3f46-orwuv2\",\"38a23159-d958-4bb3-9c1b-3b6055f1ebdd-orwusi\",\"98ea7fc6-9165-40dc-ba95-c6f6de45fe9f-orwt9n\",\"aebb963f-bfbb-4032-8f26-f7d8995394cb-orwtb5\",\"4b345ba4-1c66-4893-9031-6c6b0aded849-orwv0x\",\"d6012408-09da-4637-b293-a37316908824-orwtca\",\"8f6e9521-8377-4bda-9e1f-3e6019cd8f71-orwu2e\",\"75888934-16b1-478a-a7c7-27f46b9b98aa-orwu52\",\"c4006e53-7144-49ac-85be-387dccd2bb1a-orwu4t\",\"c4006e53-7144-49ac-85be-387dccd2bb1a-orwu4t\",\"9f9dbc41-7926-40d0-a919-ef95919448b0-orwubk\",\"2eed4dee-ee7e-423c-9178-b1a5fa42c5cf-orwufw\",\"26ba94a9-9a95-416c-8230-8ba43281ed80-orwumc\",\"a8414ba7-b391-4078-b275-a29b7f936226-orwt5u\",\"c23d08bd-e4ac-4288-bdfb-6849391bb9b1-orwtp5\",\"d4968105-34cf-4a07-ad28-de87e5931b3e-orwtfe\",\"1fc3ec88-4af8-4cfa-b5fa-402b4360c87b-orwtfy\",\"ca3d1d60-7513-494d-925e-76e279e19e16-orwtrb\",\"270efc2e-3479-44f3-b68e-fdc820d38342-orwuwg\",\"51a3f0f6-610f-4d43-8dc2-105f6baeee84-orwux8\",\"8ca7c8da-d999-4393-8207-6837af2213e6-orwuxy\",null,\"f565b250-a955-45c6-801c-35ae40ab5a9a-orwtp9\",\"2cb3347b-91de-4155-98a2-63d3c260ee64-orwtzn\",\"e09a020f-1d67-4b5f-828e-6764a097140b-orwt1v\",\"600f1ab3-f6ac-4cf2-8820-654e80e881f6-orwu9x\",\"82443728-4f0d-4429-83ed-aecdfca90e33-orwuar\",\"d53365a6-1c8d-4082-9abb-e794013fe52f-orwt4a\",\"ee60473a-938f-407e-890e-b67932e2d9ea-orwt51\",\"eb767531-d8ef-4cc4-8adb-c759ec952a4b-orwt8p\",\"d868b6e9-19af-44a2-a58d-b14416074f9d-orwuau\",\"da3a2397-a068-4bbb-8c92-db625546733c-orwugj\",\"3d27652f-58fb-4eac-92f1-0710d609e60f-orwue5\",\"c1d46ba3-107d-4f48-bc53-769c5bbf63a1-orwuj3\",\"b270950c-6e3f-4d3f-9cc6-60bc27f903c4-orwupm\",\"368bc2e3-619c-43a4-8996-301366fdbe20-orwtl4\",\"160a65b8-67d2-4579-a07a-a8b36657ece8-orwtkb\",\"e0af6179-ddac-4a1d-a3a9-ee8d751b260e-orwurw\",\"2cd8acdd-aa04-49a3-8959-577119224ea7-orwv4d\",\"0d580bad-62b5-4ee5-8fd5-52192cdb2935-orwtrq\",\"d21f5556-b79e-48bc-99e0-ad106719cba2-orwtvz\",\"5059aec4-3634-44a5-88ab-743a3c259a2a-orwu4f\",\"ed2be765-9bf8-49c6-b312-5f2daa085ae7-orwsrf\",\"86ffef58-6cb3-404c-8e9d-2c130fc6895a-orwsv3\",\"abb40d24-610d-4f1e-b7fc-2327965c43df-orwsv3\",\"5059aec4-3634-44a5-88ab-743a3c259a2a-orwu4f\",\"52713578-c38b-49fa-8e17-205402cc0ac5-orwt1j\",\"c6370ae1-54ec-4efd-ae4e-043bd9377aee-orwt66\",\"0bc32901-a532-4320-9296-5fe6a1facaf1-orwuf2\",\"9054ff7e-f4ea-4854-9b5c-3c5801430e49-orwunz\",\"d2253253-7a6e-4417-8c44-4efc690289a3-orwsp9\",\"a66df5dc-cfae-47f1-bcac-5a73ef58781d-orwss7\",\"4b8e45da-b2cb-40e5-8ecf-8b92095cbf20-orwsoz\",\"6975def1-91b7-463b-8b8e-7eaca88ed07a-orwt7u\",\"1a827b03-f84a-4f40-848c-05b585e2df98-orwte7\",\"0a2c60be-04df-40db-bdab-c7a7286ed83b-orwtj7\",\"8a6cac15-380e-41ba-8bca-75721b540fcb-orwtkl\",\"8a7f35cb-81d0-4836-8201-01e430ba552d-orwtlr\",\"23049d21-29ca-456b-9a01-205920565918-orwtuh\",\"c935d6c0-2f81-47ac-bad9-ccc94ac14992-orwu34\",\"afce9d21-daa0-4249-8d85-761ba601190a-orwu0y\",\"aba16540-77ac-4d78-858f-c87962abf1a2-orwued\",null,\"f244611e-7a9e-4bac-870e-c3314156434f-orwunu\",\"400a289c-3aaf-4ec6-a7b8-a811cd4a9473-orwunz\",\"974d9a28-f214-4a55-8a42-373ce7af5f5d-orwuo1\",\"9d58ff97-30e4-4919-b69b-96430718aaf6-orwuwl\",\"38e643b9-ada4-4c76-ad9a-ea2abc12ed08-orwsst\",\"082d8695-3c88-43a7-8aee-5817c58b9874-orwsrf\",\"ef147d6f-96dc-49d9-b80b-075e769b8378-orwqt0\",\"452b1711-6d7e-4e50-8917-b762fe8afb2a-orwt67\",\"1929b345-0190-4999-ae6c-7346703e3e60-orwts1\",\"6fcbb59e-8e64-421e-be8a-8b288ab8e14f-orwtz9\"]],\n",
       "                [\"Current Long Page Views Completed\"],\n",
       "                [\"Timestamps\",\"Milliseconds to Finish\"],\n",
       "                [],\n",
       "                [\"#EEC584\",\"rgb(85,134,140)\"],\n",
       "                [],\n",
       "                [],\n",
       "                \"\",\n",
       "                [],\n",
       "                {\"point_r\":2}\n",
       "            );\n",
       "        }\n",
       "        iframe.src = \"/static/graphs/templates/c3Viz_template.html#id=timeSeries-TTZWKZEPLFLPBCSETNLYYQLOBHTWQGUC\";\n",
       "    }());\n",
       "    </script>\n"
      ]
     },
     "metadata": {},
     "output_type": "display_data"
    }
   ],
   "source": [
    "graphLongTimesFATS(localStats2)\n",
    ";"
   ]
  },
  {
   "cell_type": "code",
   "execution_count": 42,
   "metadata": {
    "collapsed": true,
    "input_collapsed": false
   },
   "outputs": [],
   "source": [
    "# Need Resource table here"
   ]
  },
  {
   "cell_type": "code",
   "execution_count": 43,
   "metadata": {
    "collapsed": false,
    "input_collapsed": false
   },
   "outputs": [],
   "source": [
    "#chartResourceResponseTimeDistribution(startTime, endTime)"
   ]
  },
  {
   "cell_type": "code",
   "execution_count": 44,
   "metadata": {
    "collapsed": true,
    "input_collapsed": false
   },
   "outputs": [],
   "source": [
    "q = query(\"\"\" drop view if exists $(UP.btView);\"\"\")\n",
    "q = query(\"\"\" drop view if exists $(UP.rtView);\"\"\")\n",
    ";"
   ]
  }
 ],
 "metadata": {
  "chart_version": "1.0.0",
  "kernelspec": {
   "display_name": "Julia 0.4.7",
   "language": "julia",
   "name": "julia-0.4"
  },
  "language_info": {
   "file_extension": ".jl",
   "mimetype": "application/julia",
   "name": "julia",
   "version": "0.4.7"
  },
  "library_version": "1.0.0",
  "notebook_uuid": "d25477b1-0073-44e5-9178-5700a0c80718",
  "readOnly": false
 },
 "nbformat": 4,
 "nbformat_minor": 0
}
