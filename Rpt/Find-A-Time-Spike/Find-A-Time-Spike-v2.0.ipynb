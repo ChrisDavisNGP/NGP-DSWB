{
 "cells": [
  {
   "cell_type": "markdown",
   "metadata": {},
   "source": [
    "## Tables and Data Source setup"
   ]
  },
  {
   "cell_type": "code",
   "execution_count": 1,
   "metadata": {
    "collapsed": false,
    "input_collapsed": false,
    "scrolled": true
   },
   "outputs": [
    {
     "name": "stdout",
     "output_type": "stream",
     "text": [
      "Redshift endpoint set: 2017-11-29T16:15:41\n"
     ]
    }
   ],
   "source": [
    "using ODBC\n",
    "using DataFrames\n",
    "using DSWB\n",
    "using Formatting\n",
    "\n",
    "dsn = \"dswb-natgeo\" # Redshift endpoint\n",
    "table = \"beacons_4744\" # beacon table name\n",
    "tableRt = \"beacons_4744_rt\"\n",
    "\n",
    "# Connect to Beacon Data\n",
    "setRedshiftEndpoint(dsn)\n",
    "setTable(table)\n",
    "# setTable(tableRt, tableType = \"RESOURCE_TABLE\")\n",
    ";"
   ]
  },
  {
   "cell_type": "code",
   "execution_count": 2,
   "metadata": {
    "collapsed": false,
    "input_collapsed": false
   },
   "outputs": [],
   "source": [
    "include(\"../../Lib/Include-Package-v2.1.jl\")\n",
    ";"
   ]
  },
  {
   "cell_type": "code",
   "execution_count": 3,
   "metadata": {
    "collapsed": false,
    "input_collapsed": false
   },
   "outputs": [
    {
     "name": "stdout",
     "output_type": "stream",
     "text": [
      "November 28, 2017 06:59:00 to November 28, 2017 16:59:00 Local Time\n",
      "November 28, 2017 11:59:00 to November 28, 2017 21:59:00 UTC Time\n"
     ]
    }
   ],
   "source": [
    "#TV = timeVariables(2017,6,21,14,0,2017,6,21,14,59)\n",
    "#TV = weeklyTimeVariables(days=2)\n",
    "TV = yesterdayTimeVariables()\n",
    ";"
   ]
  },
  {
   "cell_type": "code",
   "execution_count": 4,
   "metadata": {
    "collapsed": false,
    "input_collapsed": false,
    "scrolled": true
   },
   "outputs": [],
   "source": [
    "UP = UrlParamsInit(\"Find_A_Time_Spike\")\n",
    "UP.agentOs = \"%\"\n",
    "UP.deviceType = \"%\"\n",
    "UP.limitRows = 250\n",
    "UP.orderBy = \"time\"\n",
    "UP.pageGroup = \"News Article\"   #productPageGroup\n",
    "UP.samplesMin = 10\n",
    "UP.sizeMin = 10000\n",
    "UP.timeLowerMs = 2000.0\n",
    "UP.timeUpperMs = 60000.0\n",
    "UP.urlRegEx = \"%\"   #localUrl\n",
    "UP.urlFull = \"%\"\n",
    "UP.usePageLoad=false\n",
    "UrlParamsValidate(UP)\n",
    "\n",
    "SP = ShowParamsInit()\n",
    "SP.criticalPathOnly=true\n",
    "SP.desktop=true\n",
    "SP.devView=false\n",
    "SP.debugLevel = 0   # Tests use even numbers with > tests, make this an odd number or zero\n",
    "SP.mobile=true\n",
    "ShowParamsValidate(SP)\n",
    "\n",
    ";"
   ]
  },
  {
   "cell_type": "code",
   "execution_count": 5,
   "metadata": {
    "collapsed": false,
    "input_collapsed": false,
    "scrolled": false
   },
   "outputs": [
    {
     "data": {
      "text/html": [
       "<div class=\"dswbOutputText\"><h1 class=\"chart_title\" style=\"color:#ccc\">Raw Data Stats Including Those above 600 seconds for News Article</h1><h3 class=\"chart_info\" style=\"color:#ccc\">November 28, 2017 06:59:00 to November 28, 2017 16:59:00 Local Time</h3></div>"
      ]
     },
     "metadata": {},
     "output_type": "display_data"
    },
    {
     "data": {
      "text/html": [
       "    <table  class=\"dataframe-table\">\n",
       "    <thead><tr><th class=\"cell-1\" style=\"\">unit</th> <th class=\"cell-2\" style=\"\">count</th> <th class=\"cell-3\" style=\"\">mean</th> <th class=\"cell-4\" style=\"\">median</th> <th class=\"cell-5\" style=\"\">stddev</th> <th class=\"cell-6\" style=\"\">min</th> <th class=\"cell-7\" style=\"\">max</th> <th class=\"cell-8\" style=\"\">LowerBy25p</th> <th class=\"cell-9\" style=\"\">UpperBy25p</th> <th class=\"cell-10\" style=\"\">LowerBy3Stddev</th> <th class=\"cell-11\" style=\"\">UpperBy3Stddev</th></tr></thead>\n",
       "    <tbody>\n",
       "    <tr><td class=\"cell-1\" style=\"\">milliseconds</td> <td class=\"cell-2\" style=\"text-align:right;\">196,282</td> <td class=\"cell-3\" style=\"text-align:right;\">14,436</td> <td class=\"cell-4\" style=\"text-align:right;\">9,945</td> <td class=\"cell-5\" style=\"text-align:right;\">11,902</td> <td class=\"cell-6\" style=\"text-align:right;\">2,000</td> <td class=\"cell-7\" style=\"text-align:right;\">59,997</td> <td class=\"cell-8\" style=\"text-align:right;\">7,459</td> <td class=\"cell-9\" style=\"text-align:right;\">12,431</td> <td class=\"cell-10\" style=\"text-align:right;\">1,000</td> <td class=\"cell-11\" style=\"text-align:right;\">45,651</td></tr>\n",
       "<tr><td class=\"cell-1\" style=\"\">seconds</td> <td class=\"cell-2\" style=\"text-align:right;\">196,282</td> <td class=\"cell-3\" style=\"text-align:right;\">14.436</td> <td class=\"cell-4\" style=\"text-align:right;\">9.945</td> <td class=\"cell-5\" style=\"text-align:right;\">11.902</td> <td class=\"cell-6\" style=\"text-align:right;\">2</td> <td class=\"cell-7\" style=\"text-align:right;\">59.997</td> <td class=\"cell-8\" style=\"text-align:right;\">7.459</td> <td class=\"cell-9\" style=\"text-align:right;\">12.431</td> <td class=\"cell-10\" style=\"text-align:right;\">1</td> <td class=\"cell-11\" style=\"text-align:right;\">45.651</td></tr>\n",
       "    \n",
       "    <tr><td class=\"cell-1\" style=\"\">minutes</td> <td class=\"cell-2\" style=\"text-align:right;\">196,282</td> <td class=\"cell-3\" style=\"text-align:right;\">0.2</td> <td class=\"cell-4\" style=\"text-align:right;\">0.2</td> <td class=\"cell-5\" style=\"text-align:right;\">0.2</td> <td class=\"cell-6\" style=\"text-align:right;\">0</td> <td class=\"cell-7\" style=\"text-align:right;\">1</td> <td class=\"cell-8\" style=\"text-align:right;\">0.1</td> <td class=\"cell-9\" style=\"text-align:right;\">0.2</td> <td class=\"cell-10\" style=\"text-align:right;\">0</td> <td class=\"cell-11\" style=\"text-align:right;\">0.8</td></tr>\n",
       "    </tbody>\n"
      ],
      "text/plain": [
       "HTML{UTF8String}(\"    <table  class=\\\"dataframe-table\\\">\\n    <thead><tr><th class=\\\"cell-1\\\" style=\\\"\\\">unit</th> <th class=\\\"cell-2\\\" style=\\\"\\\">count</th> <th class=\\\"cell-3\\\" style=\\\"\\\">mean</th> <th class=\\\"cell-4\\\" style=\\\"\\\">median</th> <th class=\\\"cell-5\\\" style=\\\"\\\">stddev</th> <th class=\\\"cell-6\\\" style=\\\"\\\">min</th> <th class=\\\"cell-7\\\" style=\\\"\\\">max</th> <th class=\\\"cell-8\\\" style=\\\"\\\">LowerBy25p</th> <th class=\\\"cell-9\\\" style=\\\"\\\">UpperBy25p</th> <th class=\\\"cell-10\\\" style=\\\"\\\">LowerBy3Stddev</th> <th class=\\\"cell-11\\\" style=\\\"\\\">UpperBy3Stddev</th></tr></thead>\\n    <tbody>\\n    <tr><td class=\\\"cell-1\\\" style=\\\"\\\">milliseconds</td> <td class=\\\"cell-2\\\" style=\\\"text-align:right;\\\">196,282</td> <td class=\\\"cell-3\\\" style=\\\"text-align:right;\\\">14,436</td> <td class=\\\"cell-4\\\" style=\\\"text-align:right;\\\">9,945</td> <td class=\\\"cell-5\\\" style=\\\"text-align:right;\\\">11,902</td> <td class=\\\"cell-6\\\" style=\\\"text-align:right;\\\">2,000</td> <td class=\\\"cell-7\\\" style=\\\"text-align:right;\\\">59,997</td> <td class=\\\"cell-8\\\" style=\\\"text-align:right;\\\">7,459</td> <td class=\\\"cell-9\\\" style=\\\"text-align:right;\\\">12,431</td> <td class=\\\"cell-10\\\" style=\\\"text-align:right;\\\">1,000</td> <td class=\\\"cell-11\\\" style=\\\"text-align:right;\\\">45,651</td></tr>\\n<tr><td class=\\\"cell-1\\\" style=\\\"\\\">seconds</td> <td class=\\\"cell-2\\\" style=\\\"text-align:right;\\\">196,282</td> <td class=\\\"cell-3\\\" style=\\\"text-align:right;\\\">14.436</td> <td class=\\\"cell-4\\\" style=\\\"text-align:right;\\\">9.945</td> <td class=\\\"cell-5\\\" style=\\\"text-align:right;\\\">11.902</td> <td class=\\\"cell-6\\\" style=\\\"text-align:right;\\\">2</td> <td class=\\\"cell-7\\\" style=\\\"text-align:right;\\\">59.997</td> <td class=\\\"cell-8\\\" style=\\\"text-align:right;\\\">7.459</td> <td class=\\\"cell-9\\\" style=\\\"text-align:right;\\\">12.431</td> <td class=\\\"cell-10\\\" style=\\\"text-align:right;\\\">1</td> <td class=\\\"cell-11\\\" style=\\\"text-align:right;\\\">45.651</td></tr>\\n    \\n    <tr><td class=\\\"cell-1\\\" style=\\\"\\\">minutes</td> <td class=\\\"cell-2\\\" style=\\\"text-align:right;\\\">196,282</td> <td class=\\\"cell-3\\\" style=\\\"text-align:right;\\\">0.2</td> <td class=\\\"cell-4\\\" style=\\\"text-align:right;\\\">0.2</td> <td class=\\\"cell-5\\\" style=\\\"text-align:right;\\\">0.2</td> <td class=\\\"cell-6\\\" style=\\\"text-align:right;\\\">0</td> <td class=\\\"cell-7\\\" style=\\\"text-align:right;\\\">1</td> <td class=\\\"cell-8\\\" style=\\\"text-align:right;\\\">0.1</td> <td class=\\\"cell-9\\\" style=\\\"text-align:right;\\\">0.2</td> <td class=\\\"cell-10\\\" style=\\\"text-align:right;\\\">0</td> <td class=\\\"cell-11\\\" style=\\\"text-align:right;\\\">0.8</td></tr>\\n    </tbody>\\n\")"
      ]
     },
     "metadata": {},
     "output_type": "display_data"
    },
    {
     "data": {
      "text/html": [
       "<div class=\"dswbOutputText\"><h1 class=\"chart_title\" style=\"color:#ccc\">Table Data Stats Outside 3 Stddev for News Article</h1><h3 class=\"chart_info\" style=\"color:#ccc\">November 28, 2017 06:59:00 to November 28, 2017 16:59:00 Local Time</h3></div>"
      ]
     },
     "metadata": {},
     "output_type": "display_data"
    },
    {
     "data": {
      "text/html": [
       "    <table  class=\"dataframe-table\">\n",
       "    <thead><tr><th class=\"cell-1\" style=\"\">unit</th> <th class=\"cell-2\" style=\"\">count</th> <th class=\"cell-3\" style=\"\">mean</th> <th class=\"cell-4\" style=\"\">median</th> <th class=\"cell-5\" style=\"\">stddev</th> <th class=\"cell-6\" style=\"\">min</th> <th class=\"cell-7\" style=\"\">max</th> <th class=\"cell-8\" style=\"\">rangeLowerBy25p</th> <th class=\"cell-9\" style=\"\">rangeUpperBy25p</th> <th class=\"cell-10\" style=\"\">rangeLowerByStd</th> <th class=\"cell-11\" style=\"\">rangeUpperByStd</th></tr></thead>\n",
       "    <tbody>\n",
       "    <tr><td class=\"cell-1\" style=\"\">milliseconds</td> <td class=\"cell-2\" style=\"text-align:right;\">79,803</td> <td class=\"cell-3\" style=\"text-align:right;\">25,552</td> <td class=\"cell-4\" style=\"text-align:right;\">22,164</td> <td class=\"cell-5\" style=\"text-align:right;\">11,466</td> <td class=\"cell-6\" style=\"text-align:right;\">12,432</td> <td class=\"cell-7\" style=\"text-align:right;\">59,997</td> <td class=\"cell-8\" style=\"text-align:right;\">16,623</td> <td class=\"cell-9\" style=\"text-align:right;\">27,705</td> <td class=\"cell-10\" style=\"text-align:right;\">1</td> <td class=\"cell-11\" style=\"text-align:right;\">56,562</td></tr>\n",
       "<tr><td class=\"cell-1\" style=\"\">seconds</td> <td class=\"cell-2\" style=\"text-align:right;\">79,803</td> <td class=\"cell-3\" style=\"text-align:right;\">25.552</td> <td class=\"cell-4\" style=\"text-align:right;\">22.164</td> <td class=\"cell-5\" style=\"text-align:right;\">11.466</td> <td class=\"cell-6\" style=\"text-align:right;\">12.432</td> <td class=\"cell-7\" style=\"text-align:right;\">59.997</td> <td class=\"cell-8\" style=\"text-align:right;\">16.623</td> <td class=\"cell-9\" style=\"text-align:right;\">27.705</td> <td class=\"cell-10\" style=\"text-align:right;\">0.001</td> <td class=\"cell-11\" style=\"text-align:right;\">56.562</td></tr>\n",
       "    \n",
       "    <tr><td class=\"cell-1\" style=\"\">minutes</td> <td class=\"cell-2\" style=\"text-align:right;\">79,803</td> <td class=\"cell-3\" style=\"text-align:right;\">0.4</td> <td class=\"cell-4\" style=\"text-align:right;\">0.4</td> <td class=\"cell-5\" style=\"text-align:right;\">0.2</td> <td class=\"cell-6\" style=\"text-align:right;\">0.2</td> <td class=\"cell-7\" style=\"text-align:right;\">1</td> <td class=\"cell-8\" style=\"text-align:right;\">0.3</td> <td class=\"cell-9\" style=\"text-align:right;\">0.5</td> <td class=\"cell-10\" style=\"text-align:right;\">0</td> <td class=\"cell-11\" style=\"text-align:right;\">0.9</td></tr>\n",
       "    </tbody>\n"
      ],
      "text/plain": [
       "HTML{UTF8String}(\"    <table  class=\\\"dataframe-table\\\">\\n    <thead><tr><th class=\\\"cell-1\\\" style=\\\"\\\">unit</th> <th class=\\\"cell-2\\\" style=\\\"\\\">count</th> <th class=\\\"cell-3\\\" style=\\\"\\\">mean</th> <th class=\\\"cell-4\\\" style=\\\"\\\">median</th> <th class=\\\"cell-5\\\" style=\\\"\\\">stddev</th> <th class=\\\"cell-6\\\" style=\\\"\\\">min</th> <th class=\\\"cell-7\\\" style=\\\"\\\">max</th> <th class=\\\"cell-8\\\" style=\\\"\\\">rangeLowerBy25p</th> <th class=\\\"cell-9\\\" style=\\\"\\\">rangeUpperBy25p</th> <th class=\\\"cell-10\\\" style=\\\"\\\">rangeLowerByStd</th> <th class=\\\"cell-11\\\" style=\\\"\\\">rangeUpperByStd</th></tr></thead>\\n    <tbody>\\n    <tr><td class=\\\"cell-1\\\" style=\\\"\\\">milliseconds</td> <td class=\\\"cell-2\\\" style=\\\"text-align:right;\\\">79,803</td> <td class=\\\"cell-3\\\" style=\\\"text-align:right;\\\">25,552</td> <td class=\\\"cell-4\\\" style=\\\"text-align:right;\\\">22,164</td> <td class=\\\"cell-5\\\" style=\\\"text-align:right;\\\">11,466</td> <td class=\\\"cell-6\\\" style=\\\"text-align:right;\\\">12,432</td> <td class=\\\"cell-7\\\" style=\\\"text-align:right;\\\">59,997</td> <td class=\\\"cell-8\\\" style=\\\"text-align:right;\\\">16,623</td> <td class=\\\"cell-9\\\" style=\\\"text-align:right;\\\">27,705</td> <td class=\\\"cell-10\\\" style=\\\"text-align:right;\\\">1</td> <td class=\\\"cell-11\\\" style=\\\"text-align:right;\\\">56,562</td></tr>\\n<tr><td class=\\\"cell-1\\\" style=\\\"\\\">seconds</td> <td class=\\\"cell-2\\\" style=\\\"text-align:right;\\\">79,803</td> <td class=\\\"cell-3\\\" style=\\\"text-align:right;\\\">25.552</td> <td class=\\\"cell-4\\\" style=\\\"text-align:right;\\\">22.164</td> <td class=\\\"cell-5\\\" style=\\\"text-align:right;\\\">11.466</td> <td class=\\\"cell-6\\\" style=\\\"text-align:right;\\\">12.432</td> <td class=\\\"cell-7\\\" style=\\\"text-align:right;\\\">59.997</td> <td class=\\\"cell-8\\\" style=\\\"text-align:right;\\\">16.623</td> <td class=\\\"cell-9\\\" style=\\\"text-align:right;\\\">27.705</td> <td class=\\\"cell-10\\\" style=\\\"text-align:right;\\\">0.001</td> <td class=\\\"cell-11\\\" style=\\\"text-align:right;\\\">56.562</td></tr>\\n    \\n    <tr><td class=\\\"cell-1\\\" style=\\\"\\\">minutes</td> <td class=\\\"cell-2\\\" style=\\\"text-align:right;\\\">79,803</td> <td class=\\\"cell-3\\\" style=\\\"text-align:right;\\\">0.4</td> <td class=\\\"cell-4\\\" style=\\\"text-align:right;\\\">0.4</td> <td class=\\\"cell-5\\\" style=\\\"text-align:right;\\\">0.2</td> <td class=\\\"cell-6\\\" style=\\\"text-align:right;\\\">0.2</td> <td class=\\\"cell-7\\\" style=\\\"text-align:right;\\\">1</td> <td class=\\\"cell-8\\\" style=\\\"text-align:right;\\\">0.3</td> <td class=\\\"cell-9\\\" style=\\\"text-align:right;\\\">0.5</td> <td class=\\\"cell-10\\\" style=\\\"text-align:right;\\\">0</td> <td class=\\\"cell-11\\\" style=\\\"text-align:right;\\\">0.9</td></tr>\\n    </tbody>\\n\")"
      ]
     },
     "metadata": {},
     "output_type": "display_data"
    },
    {
     "data": {
      "text/html": [
       "<div class=\"dswbOutputText\"><h1 class=\"chart_title\" style=\"color:#ccc\">Median Load Times</h1><h3 class=\"chart_info\" style=\"color:#ccc\">November 28, 2017 11:59:00 to November 28, 2017 21:59:00</h3><h5 class=\"chart_lastCalled\" style=\"color:#ccc\">Run at November 29, 2017 16:16:02</h5></div>"
      ]
     },
     "metadata": {},
     "output_type": "display_data"
    },
    {
     "data": {
      "text/html": [
       "    <iframe id=\"timeSeries-NUSOTWMGNJXTLWYGREZGBUTBZJMTSFCO\" class=\"dswbiframe\" width=\"100%\" height=\"600\" src=\"about:blank\" scrolling=\"no\"></iframe>\n",
       "    <script>\n",
       "    (function() {\n",
       "        var iframe = document.getElementById(\"timeSeries-NUSOTWMGNJXTLWYGREZGBUTBZJMTSFCO\");\n",
       "        iframe.timeSeriesRendererLoaded = function(runner) {\n",
       "            iframe.runner = runner;\n",
       "            iframe.runner([[\"x\",\"November 28, 2017 11:00:00\",\"November 28, 2017 12:00:00\",\"November 28, 2017 13:00:00\",\"November 28, 2017 14:00:00\",\"November 28, 2017 15:00:00\",\"November 28, 2017 16:00:00\",\"November 28, 2017 17:00:00\",\"November 28, 2017 18:00:00\",\"November 28, 2017 19:00:00\",\"November 28, 2017 20:00:00\",\"November 28, 2017 21:00:00\"],[\"data1\",737.0,708.0,758.0,694.0,576.0,516.0,473.0,430.0,444.0,409.0,425.0],[\"data2\",10340.0,10633.0,9593.0,9459.0,9022.0,9003.0,8838.0,8825.0,8749.0,8813.5,9028.0],[\"data3\",12112.0,11662.0,10623.0,10419.0,9835.5,9781.0,9567.0,9495.0,9454.0,9484.0,9708.0]],\n",
       "                [\"Back-end Load Time\",\"Front-end Load Time\",\"Full Page Load Time\",\"Beacon Count\"],\n",
       "                [\"hour\",\"Milliseconds\",\"Count\"],\n",
       "                [\"area\",\"area\",\"spline\",\"line\"],\n",
       "                [\"hsla(130, 61%, 50%, 0.9)\",\"hsla(214, 86%, 60%, 0.9)\",\"hsla(35, 100%, 50%, 0.9)\"],\n",
       "                [[\"data1\",\"data2\"]],\n",
       "                [\"data4\"],\n",
       "                \"\",\n",
       "                [\"data4\"],\n",
       "                {\"axis_y_min\":0,\"axis_y2_min\":0}\n",
       "            );\n",
       "        }\n",
       "        iframe.src = \"/static/graphs/templates/c3Viz_template.html#id=timeSeries-NUSOTWMGNJXTLWYGREZGBUTBZJMTSFCO\";\n",
       "    }());\n",
       "    </script>\n"
      ]
     },
     "metadata": {},
     "output_type": "display_data"
    },
    {
     "data": {
      "text/html": [
       "<div class=\"dswbOutputText\"><h1 class=\"chart_title\" style=\"color:#ccc\">Session Duration Quartiles By hour</h1><h3 class=\"chart_info\" style=\"color:#ccc\">November 28, 2017 11:59:00 to November 28, 2017 21:59:00</h3><h3 class=\"chart_info\" style=\"color:#ccc\">Lower Percentile: 0.05</h3><h3 class=\"chart_info\" style=\"color:#ccc\">Upper Percentile: 0.95</h3><h5 class=\"chart_lastCalled\" style=\"color:#ccc\">Run at November 29, 2017 16:16:06</h5></div>"
      ]
     },
     "metadata": {},
     "output_type": "display_data"
    },
    {
     "data": {
      "text/html": [
       "    <iframe id=\"boxplots-IWLFFJXIIXMECNYLDFWBCUECQUGYZUII\" class=\"dswbiframe\" width=\"100%\" height=\"800\" src=\"about:blank\" scrolling=\"no\"></iframe>\n",
       "    <script>\n",
       "    (function() {\n",
       "        var iframe = document.getElementById(\"boxplots-IWLFFJXIIXMECNYLDFWBCUECQUGYZUII\");\n",
       "        iframe.boxplotsRendererLoaded = function(runner) {\n",
       "            iframe.runner = runner;\n",
       "            iframe.runner(\n",
       "                {\"median_color\":\"#ff9800\",\"tooltipTuples\":[[\"Minimum\",\"min\"],[\"Lower Quartile\",\"lower_quartile\"],[\"Median\",\"median\"],[\"Upper Quartile\",\"upper_quartile\"],[\"Max\",\"max\"],[\"IQR\",\"iqr\"],[\"Count\",\"count\"]],\"legendNums\":[466.759,528.867],\"yAxisLabel\":\"Session Duration (Seconds)\",\"centerline_color\":\"grey\",\"maxYValue\":-1,\"legend_colors\":[\"#29B6F6\",\"#2196F3\",\"#0277BD\"],\"boxPlotData\":[{\"median\":64.691,\"box_name\":\"2017-11-28T11:00:00\",\"max\":339.738,\"min\":43.205,\"iqr\":59.256,\"upper_quartile\":119.229,\"count\":5,\"box_color\":\"#29B6F6\",\"lower_quartile\":59.973},{\"median\":247.4185,\"box_name\":\"2017-11-28T12:00:00\",\"max\":1464.193,\"min\":19.349,\"iqr\":568.306,\"upper_quartile\":646.442,\"count\":890,\"box_color\":\"#0277BD\",\"lower_quartile\":78.136},{\"median\":265.632,\"box_name\":\"2017-11-28T13:00:00\",\"max\":1540.936,\"min\":14.253,\"iqr\":575.619,\"upper_quartile\":658.865,\"count\":1958,\"box_color\":\"#0277BD\",\"lower_quartile\":83.246},{\"median\":273.096,\"box_name\":\"2017-11-28T14:00:00\",\"max\":1614.599,\"min\":13.837,\"iqr\":556.086,\"upper_quartile\":646.32,\"count\":2253,\"box_color\":\"#0277BD\",\"lower_quartile\":90.234},{\"median\":259.369,\"box_name\":\"2017-11-28T15:00:00\",\"max\":1536.734,\"min\":15.308,\"iqr\":519.698,\"upper_quartile\":606.001,\"count\":2144,\"box_color\":\"#2196F3\",\"lower_quartile\":86.303},{\"median\":250.652,\"box_name\":\"2017-11-28T16:00:00\",\"max\":1495.657,\"min\":14.398,\"iqr\":514.501,\"upper_quartile\":594.886,\"count\":2025,\"box_color\":\"#2196F3\",\"lower_quartile\":80.385},{\"median\":251.4095,\"box_name\":\"2017-11-28T17:00:00\",\"max\":1620.538,\"min\":13.389,\"iqr\":561.3050000000001,\"upper_quartile\":645.359,\"count\":1942,\"box_color\":\"#0277BD\",\"lower_quartile\":84.054},{\"median\":245.9635,\"box_name\":\"2017-11-28T18:00:00\",\"max\":1475.204,\"min\":13.503,\"iqr\":522.7819999999999,\"upper_quartile\":598.929,\"count\":1798,\"box_color\":\"#2196F3\",\"lower_quartile\":76.147},{\"median\":233.436,\"box_name\":\"2017-11-28T19:00:00\",\"max\":1528.956,\"min\":15.992,\"iqr\":466.75900000000007,\"upper_quartile\":542.94,\"count\":1719,\"box_color\":\"#29B6F6\",\"lower_quartile\":76.181},{\"median\":227.495,\"box_name\":\"2017-11-28T20:00:00\",\"max\":1514.211,\"min\":15.462,\"iqr\":528.867,\"upper_quartile\":605.523,\"count\":1740,\"box_color\":\"#2196F3\",\"lower_quartile\":76.656},{\"median\":208.72,\"box_name\":\"2017-11-28T21:00:00\",\"max\":1129.977,\"min\":13.213,\"iqr\":436.08900000000006,\"upper_quartile\":505.398,\"count\":1485,\"box_color\":\"#29B6F6\",\"lower_quartile\":69.309}],\"legend_label\":\"Inner Quartile Range\"}\n",
       "            );\n",
       "        }\n",
       "        iframe.src = \"/static/graphs/templates/boxplots_template.html#id=boxplots-IWLFFJXIIXMECNYLDFWBCUECQUGYZUII\";\n",
       "    }());\n",
       "    </script>\n"
      ]
     },
     "metadata": {},
     "output_type": "display_data"
    },
    {
     "data": {
      "text/html": [
       "<div class=\"dswbOutputText\"><h1 class=\"chart_title\" style=\"color:#ccc\">Top 20 URLs by Median Full Page Load Time</h1><h3 class=\"chart_info\" style=\"color:#ccc\">Page Group = All Page Groups</h3><h3 class=\"chart_info\" style=\"color:#ccc\">November 28, 2017 11:59:00 to November 28, 2017 21:59:00</h3><h5 class=\"chart_lastCalled\" style=\"color:#ccc\">Run at November 29, 2017 16:16:09</h5></div>"
      ]
     },
     "metadata": {},
     "output_type": "display_data"
    },
    {
     "data": {
      "text/html": [
       "    <iframe id=\"timeSeries-TKMIQCBIIWCFJGMFUBIUGNRGBBQWPTYC\" class=\"dswbiframe\" width=\"100%\" height=\"600\" src=\"about:blank\" scrolling=\"no\"></iframe>\n",
       "    <script>\n",
       "    (function() {\n",
       "        var iframe = document.getElementById(\"timeSeries-TKMIQCBIIWCFJGMFUBIUGNRGBBQWPTYC\");\n",
       "        iframe.timeSeriesRendererLoaded = function(runner) {\n",
       "            iframe.runner = runner;\n",
       "            iframe.runner([[\"x\",\"https://news.nationalgeographic.com/2017/05/einstein-relativity-thought-experiment-train-lightning-genius/\",\"https://news.nationalgeographic.com/2017/07/swiss-couple-found-bodies-ice-glacier-spd/\",\"https://news.nationalgeographic.com/news/2013/12/pictures/131221-rare-endangered-species-animals-joel-sartore-science/?utm_source=Facebook&utm_medium=Social&utm_content=link_fb20170414news-rarestanimals&utm_campaign=Content&sf69788134=1\",\"https://news.nationalgeographic.com/news/2010/08/100817-science-environment-wildebeest-migration-tanzania-road/\",\"https://news.nationalgeographic.com/2017/10/sponsor-content-food-for-change/?utm_medium=Social&utm_campaign=Cargill&utm_source=Facebook&utm_content=Sponsired-FoodForChange&kwp_0=553562&kwp_4=1989637&kwp_1=832757\",\"https://news.nationalgeographic.com/2016/06/seahorse-reproduction-behavior-conservation/\",\"https://news.nationalgeographic.com/2017/11/wildlife-watch-illegal-orchid-trade-ornamental-food-medicine/?utm_source=Facebook&utm_medium=Social&utm_campaign=NEWS&utm_content=link_fbwd20171127NEWSwildlifewatchillegalorchirdtradeornamentalfoodmedicin&sf174417124=1\",\"https://news.nationalgeographic.com/2015/08/140829-ten-years-of-hurricanes-tropical-storms-graphic/\",\"https://news.nationalgeographic.com/2015/04/150403-smelt-california-bay-delta-extinction-endangered-species-drought-fish/\",\"https://news.nationalgeographic.com/2017/11/how-to-see-brightest-supermoon-2017-december-space-science/?utm_source=Twitter&utm_medium=Social&utm_content=link_tw20171127news-supermoon&utm_campaign=Content&sf174439021=1\",\"https://news.nationalgeographic.com/2015/12/151204-tornado-environment-display-el-reno-samaras-storm-science/\",\"https://news.nationalgeographic.com/news/2013/12/pictures/131221-rare-endangered-species-animals-joel-sartore-science/?utm_source=Facebook&utm_medium=Social&utm_content=link_fb20171124news-resurfrareanimalsgallery4&utm_campaign=Content&sf173871470=1\",\"https://news.nationalgeographic.com/2017/11/hairless-dog-mexico-xolo-xoloitzcuintli-Aztec/?google_editors_picks=true\",\"https://news.nationalgeographic.com/2017/11/titanic-nuclear-submarine-scorpion-thresher-ballard/?utm_source=Facebook&utm_medium=Social&utm_content=link_fbp20171126news-titanicballard&utm_campaign=Content&sf173934250=1\",\"https://news.nationalgeographic.com/2016/03/160314-pictures-death-ritual-funeral-burial-ceremony-people-culture/\",\"https://news.nationalgeographic.com/2017/02/mr-trash-wheels-professor-trash-wheels-baltimore-harbor-ocean-trash-pickup/\",\"https://news.nationalgeographic.com/2015/04/150422-glyphosate-roundup-herbicide-weeds/\",\"https://news.nationalgeographic.com/2017/11/hornets-nest-louisiana-removal-video/?utm_source=Facebook&utm_medium=Social&utm_campaign=NEWS&utm_content=link_fbwd20171127NEWShornetsnestlouisianaremovalvideo&sf174491916=1\",\"https://news.nationalgeographic.com/2016/04/160425-new-delhi-most-polluted-city-matthieu-paley/\",\"https://news.nationalgeographic.com/news/2014/12/141214-battle-of-the-bulge-hitler-churchill-history-culture-ngbooktalk/\"],[\"data1\",42819.5,36594.0,32874.5,28958.0,24315.0,21279.0,18912.5,18549.0,18400.0,17202.0,16909.0,16824.0,16778.0,16567.5,16174.0,16035.0,15887.0,15788.0,15750.0,15656.5]],\n",
       "                [\"Median Full Page Load Time\"],\n",
       "                [\"\",\"\"],\n",
       "                [\"bar\"],\n",
       "                [\"hsla(214, 86%, 60%, 0.9)\",\"hsla(130, 61%, 50%, 0.9)\",\"hsla(35, 100%, 50%, 0.9)\",\"hsla(0, 100%, 60%, 0.9)\",\"hsla(207, 34%, 49%, 0.9)\",\"hsla(80, 61%, 50%, 0.9)\",\"hsla(181, 72%, 56%, 0.9)\",\"hsla(330, 100%, 71%, 0.9)\",\"hsla(55, 74%, 68%, 0.9)\",\"hsla(116, 26%, 64%, 0.9)\",\"hsla(34, 49%, 65%, 0.9)\",\"hsla(197, 70%, 73%, 0.9)\",\"hsla(300, 47%, 74%, 0.9)\",\"hsla(28, 100%, 86%, 0.9)\",\"hsla(181, 26%, 50%, 0.9)\",\"hsla(17, 100%, 74%, 0.9)\"],\n",
       "                [],\n",
       "                [],\n",
       "                \"\",\n",
       "                [],\n",
       "                {\"axis_y_min\":0}\n",
       "            );\n",
       "        }\n",
       "        iframe.src = \"/static/graphs/templates/c3VizRotated_template.html#id=timeSeries-TKMIQCBIIWCFJGMFUBIUGNRGBBQWPTYC\";\n",
       "    }());\n",
       "    </script>\n"
      ]
     },
     "metadata": {},
     "output_type": "display_data"
    },
    {
     "data": {
      "text/html": [
       "<div class=\"dswbOutputText\">\n",
       "    <strong><span class=\"chart_info\" style=\"color:#B1D6ED;\">Using session timeout value of 30 minutes...</strong>\n",
       "</div>\n"
      ]
     },
     "metadata": {},
     "output_type": "display_data"
    },
    {
     "data": {
      "text/html": [
       "<div class=\"dswbOutputText\"><h1 class=\"chart_title\" style=\"color:#ccc\">Concurrent Sessions and Beacons by hour</h1><h3 class=\"chart_info\" style=\"color:#ccc\">November 28, 2017 11:59:00 to November 28, 2017 21:59:00</h3><h5 class=\"chart_lastCalled\" style=\"color:#ccc\">Run at November 29, 2017 16:16:10</h5></div>"
      ]
     },
     "metadata": {},
     "output_type": "display_data"
    },
    {
     "data": {
      "text/html": [
       "    <iframe id=\"timeSeries-WVBHWVIWPQDIYCPCTTKQQREGMCLDSCQF\" class=\"dswbiframe\" width=\"100%\" height=\"600\" src=\"about:blank\" scrolling=\"no\"></iframe>\n",
       "    <script>\n",
       "    (function() {\n",
       "        var iframe = document.getElementById(\"timeSeries-WVBHWVIWPQDIYCPCTTKQQREGMCLDSCQF\");\n",
       "        iframe.timeSeriesRendererLoaded = function(runner) {\n",
       "            iframe.runner = runner;\n",
       "            iframe.runner([[\"x\",\"2017-11-28 11:00:00\",\"2017-11-28 12:00:00\",\"2017-11-28 13:00:00\",\"2017-11-28 14:00:00\",\"2017-11-28 15:00:00\",\"2017-11-28 16:00:00\",\"2017-11-28 17:00:00\",\"2017-11-28 18:00:00\",\"2017-11-28 19:00:00\",\"2017-11-28 20:00:00\",\"2017-11-28 21:00:00\"],[\"data1\",115,10890,19684,20756,19282,18477,17446,16121,15870,15997,14740],[\"data2\",123,12251,22390,24151,22358,21468,20509,18819,18450,18605,17158]],\n",
       "                [\"Sessions\",\"Beacons\"],\n",
       "                [\"hour\",\"Concurrent Sessions\",\"Beacon Count\"],\n",
       "                [\"area-spline\",\"bar\"],\n",
       "                [\"hsla(28, 100%, 86%, 0.9)\",\"hsla(197, 70%, 73%, 0.9)\"],\n",
       "                [],\n",
       "                [\"data2\"],\n",
       "                \"    .c3-line {\\n        stroke: #039BE5;\\n    }\\n\\n    .c3-area {\\n        opacity:0.4;\\n    }\\n\\n    .c3 text {\\n        stroke: #979797 !important;\\n    }\\n\",\n",
       "                [],\n",
       "                {\"point_r\":0,\"axis_y_min\":0,\"axis_x_tick_culling_max\":20,\"axis_y2_min\":0}\n",
       "            );\n",
       "        }\n",
       "        iframe.src = \"/static/graphs/templates/c3Viz_template.html#id=timeSeries-WVBHWVIWPQDIYCPCTTKQQREGMCLDSCQF\";\n",
       "    }());\n",
       "    </script>\n"
      ]
     },
     "metadata": {},
     "output_type": "display_data"
    },
    {
     "data": {
      "text/html": [
       "<div class=\"dswbOutputText\"><h1 class=\"chart_title\" style=\"color:#ccc\">Points above 3 Standard Dev</h1><h3 class=\"chart_info\" style=\"color:#ccc\">These are the long points only limited to the first 500</h3><h5 class=\"chart_lastCalled\" style=\"color:#ccc\">Run at November 29, 2017 16:16:10</h5></div>"
      ]
     },
     "metadata": {},
     "output_type": "display_data"
    },
    {
     "data": {
      "text/html": [
       "    <iframe id=\"timeSeries-XQKYIAHZSTTNGAZKYBNKBRCGJSAJEHRE\" class=\"dswbiframe\" width=\"100%\" height=\"600\" src=\"about:blank\" scrolling=\"no\"></iframe>\n",
       "    <script>\n",
       "    (function() {\n",
       "        var iframe = document.getElementById(\"timeSeries-XQKYIAHZSTTNGAZKYBNKBRCGJSAJEHRE\");\n",
       "        iframe.timeSeriesRendererLoaded = function(runner) {\n",
       "            iframe.runner = runner;\n",
       "            iframe.runner([[\"x\",1511870379377,1511870351201,1511870390736,1511870366841,1511870390963,1511870376059,1511870386214,1511870358363,1511870384619,1511870391060,1511870367542,1511870380668,1511870391099,1511870352738,1511870391058,1511870373738,1511870386914,1511870377684,1511870384207,1511870389350,1511870564560,1511871483615,1511871494434,1511871908740,1511872309356,1511872347294,1511872610036,1511872925960,1511873360882,1511873425362,1511873786872,1511873800087,1511870404242,1511870896084,1511871194526,1511871644694,1511871873212,1511871893161,1511871896046,1511871971499,1511872257958,1511872302681,1511872337601,1511872593416,1511872951913,1511873011033,1511873664774,1511873688675,1511873693179,1511870513369,1511870538355,1511870889992,1511870365370,1511871252535,1511871260042,1511871298217,1511871480694,1511871612630,1511871842264,1511871874547,1511871967188,1511872210722,1511872215034,1511872218179,1511872234869,1511872720248,1511873058986,1511873071482,1511873362754,1511873668226,1511873686501,1511873716260,1511873754680,1511871544342,1511871865700,1511871920412,1511871951009,1511871974014,1511871977629,1511871993413,1511871996096,1511872259686,1511872262078,1511872308700,1511872313742,1511872324146,1511872659333,1511873003428,1511873284609,1511873360482,1511873434374,1511873676575,1511873816994,1511870434712,1511870855263,1511871276625,1511871572691,1511871590960,1511871608507,1511871615522,1511871992593,1511872328996,1511872590379,1511872646368,1511872670692,1511872698850,1511873066141,1511873087371,1511873734938,1511870534805,1511871481061,1511871569800,1511871642188,1511871862281,1511872284247,1511872347702,1511872360591,1511872564767,1511870362771,1511870343900,1511870354859,1511870349479,1511870378100,1511870399684,1511870374090,1511870364789,1511870388782,1511870390591,1511870391171,1511870393369,1511870346471,1511870342819,1511870354109,1511870377949,1511870355931,1511870398748,1511870373841,1511870349466,1511870373677,1511870380849,1511870394365,1511870761481,1511870902665,1511871295350,1511871485322,1511871532304,1511871899588,1511871916602,1511872203388,1511872237986,1511872345042,1511872636672,1511872638815,1511872644640,1511873017640,1511873029623,1511873455543,1511873677388,1511873745204,1511870421806,1511870573050,1511870869021,1511871140920,1511871618792,1511871901932,1511872293774,1511872302821,1511872567609,1511873690082,1511873741028,1511873753588,1511870518446,1511870852008,1511870367233,1511871593808,1511871918087,1511871992463,1511872588717,1511872631108,1511872924680,1511872946993,1511873323777,1511873670390,1511873748592,1511870777134,1511870785207,1511871521185,1511871937302,1511872004493,1511872287176,1511872303065,1511872309261,1511872672381,1511872924647,1511872941816,1511872948135,1511872948570,1511873429759,1511870810717,1511871617606,1511871915603,1511871928701,1511871960287,1511872009356,1511872299951,1511872355397,1511872595103,1511872617761,1511873086997,1511873662102,1511870811741,1511870341345,1511871860045,1511871901066,1511871906045,1511871922023,1511872226921,1511872300395,1511872599096,1511872620173,1511872720267,1511873078492,1511873413288,1511870549355,1511870790688,1511871260816,1511871285250,1511872356913,1511872600103,1511872664631,1511872726269,1511872972958,1511873298171,1511870458758,1511870537082,1511870938071,1511872695445,1511873023757,1511873097710,1511873353902,1511873644944,1511873711520,1511873750172,1511873804841,1511870558732,1511871265632,1511871524152,1511871890727,1511871915360,1511872249730,1511872923871,1511873001006,1511873079045,1511873094524,1511873366810,1511873665103,1511873665998,1511870445858,1511870843714,1511870863787,1511871957410,1511872924363,1511873098884,1511873723759,1511873769465,1511870883789,1511871201879,1511871220139,1511870372764,1511871621290,1511871844685,1511871968714,1511872200045,1511872561887,1511872573879,1511872981487,1511872989580,1511873292086,1511873364091,1511873366061,1511873383031,1511873652383,1511873702955,1511870783722,1511871191129,1511871534543,1511871651263,1511872704244,1511872977293,1511873283991,1511873686402,1511873713655,1511873763469,1511871165076,1511871253270,1511871935986,1511871959896,1511872213959,1511872620642,1511872633611,1511872657134,1511873011251,1511873409669,1511873452616,1511873653697,1511873774108,1511870497329,1511870526167,1511870394396,1511871595069,1511872274238,1511872352215,1511872584925,1511872920978,1511872990833,1511873386487,1511873434631,1511873688552,1511873701471,1511873731057,1511873791785,1511873804957,1511873811452,1511870419991,1511870513031,1511870874101,1511871561522,1511871583204,1511871651938,1511871656070,1511871856012,1511871979115,1511872201988,1511872234990,1511872942137,1511873094706,1511873401591,1511873411207,1511873459106,1511873664214,1511873696024,1511873781920,1511873786440,1511870433405,1511870521458,1511871160267,1511871222087,1511871297952,1511871559854,1511871574815,1511871600909,1511872015359,1511872256788,1511872586129,1511871145365,1511871640139,1511871849046,1511871856937,1511872244975,1511872279287,1511872572713,1511872634009,1511872925776,1511873390905,1511873429527,1511873661781,1511873752775,1511870444322,1511871238864,1511871549510,1511871653896,1511871862172,1511872002285,1511872257759,1511872261835,1511872635500,1511872981152,1511873038803,1511873307343,1511873336621,1511873755824,1511873782055,1511873801879,1511870934480,1511871208048,1511871623043,1511871624374,1511871852210,1511872356471,1511872631580,1511872668289,1511872934863,1511872957362,1511873421856,1511870490955,1511871265956,1511871491322,1511871560740,1511871610495,1511871636449,1511870380133,1511871934035,1511872270758,1511872314443,1511872346073,1511872567568,1511872680921,1511872936023,1511873028914,1511873308361,1511873749465,1511873788043,1511870578470,1511870767841,1511871612342,1511872923168,1511873286758,1511873362124,1511873806169,1511870844075,1511871878590,1511871947262,1511872349951,1511872643545,1511872931365,1511872972736,1511873013998,1511873088024,1511873096889,1511873404254,1511873405650,1511873772742,1511870380304,1511870837091,1511871224704,1511871249595,1511871874836,1511872629514,1511873349820,1511873654996,1511873658586,1511870405183,1511870526257,1511870387232,1511870572930,1511871518310,1511871524930,1511871569597,1511871855439,1511871876655,1511872225350,1511872294203,1511870398057,1511872924972,1511873384438,1511873388882,1511873410900,1511873424201,1511870878091,1511870880138,1511870911769,1511871257483,1511871283043,1511871633679,1511871940102,1511871987627,1511872232899,1511872310512,1511872564382,1511872709552,1511873005126,1511872648559,1511872654792,1511872688791,1511872935657,1511872983462,1511873416028,1511873777772,1511870341500,1511870499163,1511870838606,1511871172592,1511871503118,1511871511210,1511871558861,1511871853426,1511871869208,1511871980022,1511872004242,1511872257349,1511872271530,1511872621227,1511872709512,1511872721004,1511872933611,1511872972000,1511873059323,1511873060515,1511873344729,1511873647412],[\"data1\",24872,20702,36764,22469,17547,29613,21074,49906,22829,13228,23644,27442,34980,29856,14121,29500,28182,14236,12478,41986,40832,26847,17270,51712,15784,28361,16860,37269,21113,23412,46791,17467,18486,23201,14226,47471,16488,51508,53778,12649,18381,15612,22489,18679,58401,33499,32732,12731,46015,18184,17528,14110,21667,33176,15208,15908,26509,15286,14582,47977,20587,17273,29200,16218,13019,19593,59824,13696,19073,15691,16821,20956,24314,26383,18070,41440,23347,13859,21502,31130,19137,28532,18931,48672,20754,18580,14963,42182,17884,23589,14914,24509,29132,27658,18586,16523,34191,22678,24768,17415,22845,20293,15964,53483,20781,26979,32421,29091,12589,20269,58548,17004,14567,22612,36343,49416,14096,18121,15488,16394,26597,35591,15156,35267,13388,32720,27565,19778,45029,13898,16191,15661,38820,36034,36554,35261,16856,18946,16647,13747,38070,36002,26701,30584,17281,16148,32348,27707,41228,34729,15423,25741,22155,41150,13120,25422,13930,50121,27647,14855,26041,23492,59867,59326,37986,38625,16914,27913,33991,19239,22813,12628,52017,39016,14525,16536,12919,42416,25744,16283,27169,21078,32978,20618,14237,43110,33195,15003,42923,34893,15644,13377,20255,58285,45038,45690,31660,35542,18917,13396,32683,14485,13422,15356,38251,19024,13367,20907,21168,35224,48243,12804,33083,15100,23472,42430,13287,18573,17227,17235,16350,20019,28891,29729,24108,13589,15252,20112,16177,18391,19599,12739,21736,17598,26270,48952,16889,21603,17837,30458,20280,56593,19609,15709,15046,18875,32638,15479,14966,24635,30774,25246,37023,42496,45195,13996,34057,14811,19415,53188,22495,13441,12528,23509,17779,46973,19426,15495,27379,16809,29624,25949,25025,13481,16525,21128,18080,14765,17629,34053,12862,21859,13342,23334,14056,15519,14398,25741,33192,29913,14133,33053,22974,19579,22599,20586,14051,13315,28845,13367,12686,13252,18212,25575,21785,34459,17723,18191,23595,27559,31438,13115,17608,48058,17602,16630,28924,16222,18337,37808,28660,28110,16828,29034,19828,16901,13420,15414,27291,15268,13615,14434,29819,13360,31395,42259,30180,18125,40407,32081,28949,36106,35222,35854,19117,51793,30956,52650,27574,16865,37398,44762,13690,15654,18914,23446,13800,28982,38432,17668,51116,21074,19348,28282,23067,24700,29809,48001,30149,29132,23560,25897,20097,14175,20931,23313,47542,16273,12791,13390,21404,31149,21815,29630,16725,21948,23910,44833,21769,12960,24154,19162,12683,14642,25345,20663,13066,15149,31743,24970,19120,19778,24513,25018,13286,17842,50650,16109,13066,30955,19985,17159,26645,20480,22816,26089,23695,15583,49851,33846,23392,17053,13421,33226,12830,28917,15966,12947,50201,29609,20481,36018,24661,59563,51844,14673,31448,59639,13321,12501,42239,39233,36604,27256,31442,20853,30061,15047,15984,19150,34553,13677,15429,12519,20770,19066,29730,13391,14538,24744,25213,33709,21932,15325,18348,14092,12936,14720,26971,14851,13455,13643,47622,44478,27028,13656,14926,28720,53203,41282,38386,13749,23658,13734,17846,14729,12572,30307,32549,13064,32826,14025,14377,12791,27116,29995,24962,24104,43706,51698],[\"data2\",\"a0768a45-59a3-4452-90c2-01e5ecf059dc-p04mnj\",\"59cf6369-292e-4742-bdb8-1a2beea90080-p04mlz\",\"fa9a0f17-a2d1-4222-9a45-3ad4a33aa3b6-p04mq5\",\"41166472-19f8-4aa3-8548-d96e106b94de-p04mth\",\"0db3780b-4bc2-4e9f-9767-f91adf4a15f8-p04mn8\",\"6439d82b-675f-4c7a-bf73-9d62b766419f-p04mmi\",\"e9a84e76-cf14-4b85-a5d7-0deec97d062f-p04mmy\",\"7f0a56c5-b725-4702-b3d7-469df13fa55e-p04mlf\",\"7d3de62d-251f-4199-96d2-81af95749a9d-p04mmx\",\"da509b62-62c3-472a-b075-45f8298242c2-p04mnd\",\"5519c8fa-eb05-40ed-824a-4fdaf3dee26d-p04m8y\",\"018ef981-0e92-4408-a673-7a9e0a3f6c92-p04mmp\",\"da0ec526-0d02-4d4f-8326-a5541b3cc773-p04mmq\",\"fb6ff85c-3c94-4f94-bd51-b836833c39aa-p04mls\",\"ee64c8e3-ea52-4002-b78b-a57c18d8c586-p04mnb\",\"7133a923-d940-46c1-aaad-573b4a61712e-p04mln\",\"e45cba6f-b070-414b-9bbd-6e45441937ae-p04mmw\",\"5768602d-6ada-4d99-9c19-911ebccdf114-p04mmz\",\"5cacc2fb-f01f-45b7-b865-100fcc5a42c0-p04mn7\",\"fcf3df6c-f182-41de-9b2e-6dfc47215478-p04moi\",\"e6f0dd2a-81d9-49cb-ae2a-926ce5e41acb-p04mrd\",\"30b0d7fe-c3ae-4893-a1e1-585e9bf326b4-p04nha\",\"95367159-5944-42ae-90fb-3f82309d34cf-p04ndk\",\"ed8531b1-5bc3-470e-bd4c-902b8903978b-p04nsg\",\"04d701d6-5419-4cae-ab54-3008f37f0087-p04o4h\",\"62407e74-9a4e-452d-b2fe-6eea21728571-p04o57\",\"e1e329d3-29f3-42b2-a678-f71693a6fb1c-p04ocw\",\"13f3000a-9755-4853-ad3e-a574deda5738-p04oh7\",\"d023a3db-f4b0-4b41-99d3-fcbf3d97ec35-p04oxo\",\"2a3589d5-cb77-4def-b887-d50ef946a626-p04ozc\",\"081e482f-785f-4314-abee-1da2f53d5f90-p04p8r\",\"280c2dcb-ee05-4a16-8730-ae6f387cd179-p04p9s\",\"0a5a1440-db5b-4e39-ac89-82f639f16246-p04ltc\",\"e4be7c7e-bf63-4e24-89ca-4530ae039226-p04n14\",\"00217d78-df05-419e-b5ea-76b93146e65c-p04n9r\",\"8683fa8e-0ea8-4e0e-82ad-c7ea8ca24c87-p04nl7\",\"6b9131c2-d565-4472-9923-8119d42816ea-p04nsg\",\"420a21cb-2431-463f-b2b4-4720f22cbdec-p04o1d\",\"c687cac3-a06d-457b-be1f-e3dc1f5ef30d-p04oyk\",\"d8dd6660-b811-4e6c-8a92-a5e80542de02-p04nva\",\"0ec14565-ba36-40d1-941a-98581508ac84-p04o33\",\"43b52432-40d5-4089-9004-7117420bc385-p04o4e\",\"b7348fbb-a620-41c1-b956-157342e78861-p04o56\",\"d667b192-5d56-4412-8cdc-d72f7518f8c5-p04ocf\",\"49cc0fdd-210b-46eb-91a9-0d0acc3bb899-p04okx\",\"fcdf9587-9963-4913-ac5c-6a4d45347d3b-p04onk\",\"a87d0bbf-ff7f-4c37-bf11-bccd92f18be1-p04p5n\",\"af4d5997-ef6f-4419-86dd-0ffd494b265c-p04p71\",\"371d7110-2478-4647-a78f-4bf83e535e7a-p04p67\",\"1ca0f63f-a98c-4b0a-8691-97c24b426e8f-p04mqk\",\"e3dfe4e7-c086-4bd3-afc9-0b90d20a8c3a-p04mrc\",\"8f802a39-b3ba-4adc-9fed-b888419a0aae-p04n22\",\"e97b79c2-4012-47ef-b14b-243796175423-p04mmf\",\"86ac11f0-8d1a-4e6c-97f1-f46f37cf8826-p04naq\",\"d8d42a0a-40aa-4434-8fce-47bbcd3083d6-p04nbg\",\"51d56c07-d703-471d-b41e-85c0b506538c-p04nch\",\"3f14387a-4533-4be5-8dd2-478a8ddc264a-p04nh9\",\"50396aff-950e-4a25-9b6a-b4517c045f86-p04nl9\",\"7f531706-643b-4287-a72d-25086b91f3cf-p04nrm\",\"2822df1e-57a2-4155-920c-ea701d620a15-p04nn3\",\"72a18150-b145-40b3-a987-295a5b3e459c-p04nux\",\"99beafce-fa81-49b7-9870-87ae678e18a6-p04o1o\",\"3123c6fe-9f4f-4622-a114-5a8f9d1de0ec-p04o1k\",\"e39df3e8-fdd8-4bca-b399-47ec0984aadc-p04o21\",\"4a8b65b3-6a6b-46dc-9928-fd0cffa3e586-p04o2k\",\"17823072-f4d8-445b-b0fc-f5b8af736802-p04ofu\",null,\"4f4d3e85-d024-49ec-bd6a-f195ee24bdae-p04og7\",\"b34721c1-1141-4175-b6ef-1972b66da359-p04oxr\",\"39dffd94-aa65-4fac-8320-0a2a58ffdaaa-p04p6c\",\"1b8d925f-3ea6-43df-b0d8-5a961cc3721f-p04p6n\",\"55462292-4a11-4ff0-83b4-f5a8416a4a91-p04p7j\",\"b0046556-125e-4aaf-8669-17082fd78fb3-p04p8h\",\"2ac3eebb-04f7-4f57-95f2-f598bd85076a-p04nj0\",\"fd7401d8-d2d3-441c-aeed-0b28e98eda62-p04ns6\",\"8434b78d-b0ce-452d-921e-697f783e944c-p04nt0\",\"f1341777-d405-4416-a00b-3f107bea61cb-p04nue\",\"322b9a88-ef86-4299-a092-cf9c2d5defb9-p04nva\",\"3b4517ed-6603-4da6-8045-ab4336877d13-p04nv7\",\"b841c6fe-4e96-448f-9dd3-33dbbff3ba0d-p04nve\",\"51ad8adc-690f-430b-85e6-a6c82b93d501-p04nvn\",\"2ab9a03f-60c5-4bc3-90c1-7175bbee7847-p04o2u\",\"4fd354e2-17bc-4816-ade5-21255e4dc341-p04o36\",\"e3db2ed5-192b-4b9a-9363-bfe58420f06c-p04o3l\",\"88723126-cac2-498d-bbc4-c05815892964-p04o10\",\"08172899-949b-411a-a8f3-2fe371dee32d-p04o4u\",\"82b1e5dd-9620-4dbe-aa1b-e847824aad92-p04o4b\",\"e9463217-dddf-4eb9-85d0-6d21366d950f-p04omy\",\"5197c6e1-df39-4a45-a8a4-2216dc2426a3-p04ovm\",\"56cd6d7c-d911-4f2b-b598-daa41e15707e-p04oxl\",\"9f3fb9c6-60ac-4ca3-9f6e-ee62311bed5f-p04ozv\",\"c797a189-0587-4dbb-8521-e93f8db92ae9-p04p6d\",\"b4c49ce0-d157-48e5-826b-a61bd932e849-p04pa3\",null,\"7188d145-df97-475f-b178-5edae3452210-p04n03\",\"c70d064e-af3a-4101-b2b3-41ab8b0ff3e6-p04nbu\",\"6712c8b0-6d7d-4c35-912f-2ea5c178c3e7-p04njm\",\"c86b73ee-e4c7-42f2-a41a-41615af9191d-p04ni1\",\"d2575720-c772-4720-a83e-fe6b6953ba90-p04nku\",\"bf91a780-f622-4e10-a137-6cf13c478e5a-p04nl9\",\"650dbf83-b736-4946-b9aa-88ccbb791eec-p04o69\",\"50894079-a7c2-4c91-a4c1-10802dc6a70f-p04o4z\",\"2079a0f4-c985-4796-a6ec-4e281bdaa119-p04kq0\",\"a2f48670-ab2c-4f57-b184-82d0cd8c568e-p04ocg\",\"ed176ec3-4255-4c7c-b2d5-4c9c619519ac-p04oeh\",\"858fc13d-dfef-4a52-a890-31d357a6ed31-p04of2\",\"e4236130-1802-4a77-97c4-2dbdef4cdfb9-p04op4\",\"d1d1fd7d-bca3-4bdf-a91a-f1b532932b9e-p04opt\",\"fc7a9b94-3fe4-4451-b9f0-3597f362fb3c-p04p8a\",\"244649c7-dbcf-48ca-867e-1cbe9a643c31-p04mi4\",\"7b028fb5-8100-4613-a053-57231ff56d59-p04ngd\",\"74b52653-a7f2-4cbe-9f64-177ea871ea28-p04njz\",\"b61ca571-1caf-4302-ae0a-c674405b455c-p04nlu\",\"8dda7f75-9053-42b8-8030-d362c4bb19e9-p04nry\",\"408a828d-8317-494b-873c-23cc4905a204-p04o4c\",\"7a5c598d-841e-46b6-aa9d-192c29885969-p04o4m\",\"ec6853fd-51cb-4b18-8ef2-c58f45b80a7a-p04o61\",\"0958ed25-77da-4e76-9ac3-82f4877d6168-p04obo\",\"af4927b3-fe3f-47ef-bfcc-f48aa15fe952-p04mmj\",\"3f63b715-9583-4bfd-a6f1-250312c7640e-p04mlh\",\"99bb024c-16d6-4464-bedb-d9324d49eb73-p04maj\",\"eab69bc5-b66f-4c84-8194-924a25e86909-p04mgg\",\"b087a66f-09e3-4692-9bd3-c5eaccbccad0-p04mmz\",\"131df670-19c5-4b5a-8e53-b52b79a85438-p04mn2\",\"3f26a243-8ed3-4c4c-9253-dc9296e61ae9-p04mmy\",\"544bc5e3-14ae-4508-a0e7-b43d891e07a2-p04l9e\",\"d2a581a2-50dc-4253-bcab-fe2963ed4ef9-p04mmu\",\"7d3ac338-13a9-49c1-9270-c9b453c140d4-p04mn6\",\"b0b60781-e154-455b-8e2a-b2928939c028-p04mh6\",\"5cce6ae9-23b4-4b1e-9c4e-32e63719a243-p04mjq\",\"2ce8dbe2-0099-41d7-8884-014814e83c96-p04lvp\",\"13f350e5-7a1a-4631-a1e7-d6481f9674de-p04lt7\",\"6f6e00c9-6048-4b25-b4b9-13f62983eeed-p04mll\",\"70284084-6c28-487b-9699-dd5e7fdcde59-p04mmc\",\"444b11ff-d9b6-48ec-9d3b-ba5fdfb304bd-p04lpo\",\"c977377a-dfa7-42c7-94c6-451e2cd35f8e-p04mmx\",\"4b3febaa-7bdd-4c6f-a981-e0bd20f2f0c8-p04mms\",\"69586b15-29f9-4955-a6b3-44064e6a585a-p04mlh\",\"83a611c5-73fe-4d6d-b45f-755e3c01817d-p04mmt\",\"301ff241-4523-4687-89ef-0875cdf65136-p04mn3\",\"4387f07c-dcb5-474e-bd8f-f36d3d9feb0c-p04mmp\",\"165e9daa-ae65-4268-8798-3d62fd426dd1-p04mot\",\"5e2efad2-bacf-4dcf-9237-17f3acf5bbec-p04n15\",\"888deee5-6cc8-458f-8747-628de9f508b8-p04nci\",\"ea73ea2d-d888-459b-9f4d-5fa6c78dde0e-p04nf7\",\"8c26c29a-eb41-41b6-b1cb-f785d3d22284-p04nix\",\"57ba3664-f4dd-47dc-b4a6-fa66eeebe8df-p04nss\",\"2a9cd22c-3ea6-4c0f-8a8f-a16eaa68ee02-p04ntb\",\"23185c98-1154-47fc-beec-9f784c206e56-p04o0x\",\"71a34ab1-ee2c-411f-9317-8c66d72b858f-p04o23\",\"d7198ec0-6efa-4936-a14c-cc3f3863cc6f-p04o5j\",\"d1f4a0f9-cff0-4dc8-8e8a-5069d28a308d-p04ode\",\"d1f4a0f9-cff0-4dc8-8e8a-5069d28a308d-p04ode\",null,\"d766dd4a-7825-4db3-87b0-b3699580f855-p04oii\",\"df8f8b2a-822c-4e6a-8e0d-e0e4c2cd94aa-p04ooc\",\"4af1d0e6-8718-45f6-9e79-a3dabebad73e-p04p0h\",\"d298d1b3-7dc3-459f-9f6d-f082fdcf2095-p04ors\",\"d766dd4a-7825-4db3-87b0-b3699580f855-p04oii\",\"784f1cc2-ac9f-497c-b718-869a2736579e-p04mph\",\"2c11fe3b-8f95-4ed9-9a93-9d1c6018331d-p04mtu\",\"82a9d35b-09e6-4234-814e-67cd0c11e957-p04n0c\",\"b088a61a-90eb-4d21-823c-283c3ae753fc-p04n6t\",\"afcd02c5-8610-44c5-b2be-4dc3f6bb6577-p04nlz\",\"facdc29f-56fe-45f4-a7eb-00cbdcb331a0-p04nsu\",\"42b93a31-1297-4170-b154-40b22d34619a-p04o3h\",\"250c2569-23d3-49a1-b481-2e88217188ac-p04o4a\",\"4260b7de-ede2-433f-91ba-a43ad98f24a6-p04obf\",\"3120070c-d4d4-485b-9573-3dc20f5afd30-p04p6g\",\"feac6796-3a3f-45c4-a43c-abaff7d9f8d0-p04p8d\",\"b4ead628-845a-41b8-953d-f709532bbcc1-p04p8i\",\"6e846c42-a84b-47c2-832d-8bd5e54a4750-p04mow\",\"d98a5ed9-591f-4aa8-b5b1-c0a635aa6a22-p04mz1\",\"b9b61149-183c-4ea8-9c5c-e60296676447-p04mm9\",\"35ed923a-ae46-4c03-b436-0bbb929c377f-p04nlf\",\"28779801-f9e8-4595-8331-c7697d7f38ab-p04ntp\",\"e8f308e3-00df-40d6-a4e3-03d6a1d62d2e-p04nq8\",\"6a47bbc2-83b5-4558-af6a-8d7aa6f97138-p04obm\",\"204b5d27-2b4c-4986-8cfe-0195923e0ac5-p04oda\",\"cd84bc98-3d12-4b59-a590-552645556221-p04olo\",\"324925cc-ffca-4fa6-aeef-289af96438e8-p04on9\",\"9ceb910b-be26-4c97-af7c-0c2d15e01203-p04owk\",\"918762e5-6952-4b17-b2b4-bbd1ba7aa7dc-p04p5w\",\"2228ad36-8aef-44c9-833d-749f1d4f94bd-p04p1q\",\"53c04e67-abd5-41d5-a6fb-764291fc8603-p04my3\",\"c0bea88d-2098-4425-9409-8544badecfc1-p04mub\",\"1c560337-6ae0-411a-aa7b-59a91689aac2-p04ni7\",\"7101a099-9d67-4375-a7fd-ebd2d516a8a3-p04nu8\",\"6069ca8d-0faf-4b2b-984d-dc2a3a24ec79-p04nvd\",\"2664951f-e219-402c-b1f7-0353039dbea6-p04o3h\",\"4b9e1940-ca51-4a46-a4d8-e720b22fb4c4-p04o4f\",\"e3f54501-61f1-4237-a5c3-608c0b1d3a6e-p04o4n\",\"9ee1e1af-803a-4ecd-b637-0cd6fe2ea0be-p04oej\",\"51845a07-0efc-4eac-b5aa-2f49291eb7a8-p04ok2\",\"fa9a0f17-a2d1-4222-9a45-3ad4a33aa3b6-p04oog\",\"411c7d20-2bf2-40ef-9409-bbcac65d2a03-p04oj2\",\"fa82ce4b-0462-4b63-934c-5d8c20fbc0aa-p04olv\",\"bcce971d-912a-4924-a1aa-8dca9f1581b4-p04oz3\",\"4e240014-104d-45c2-a23a-011c8c6a094b-p04myv\",\"d169dc97-84e2-4cbf-b366-d502a669ad57-p04nlg\",\"a2c1a374-93ff-4b98-a1f7-6d235d85e6fe-p04nsx\",\"110c02ca-fa51-449a-a1d4-e2be6f603ace-p04nu1\",\"9eb5e604-ab48-4848-9663-868935c96412-p04nux\",\"b0472acf-e26f-483b-92ce-93768459e9ef-p04nw9\",\"09a8fe11-611d-4e44-861f-1513af8e578f-p04o3l\",\"75363aa9-c363-41de-9873-371f5a488da0-p04o5s\",\"93722abf-e1b3-41d5-8c98-a427d2578bc5-p04o77\",\"5019be68-efd1-4228-aec9-62656d54edf1-p04oab\",\"302e6b5e-8019-4524-9118-02d7afde2b18-p04ond\",\"f48eadc0-b9d0-4652-8453-89d4bb3383a8-p04p5m\",\"c10fb7ca-33c8-4e9f-a070-fa12bf8e16c1-p04my2\",\"21d2da33-d10a-45e3-8f04-17226cf2457f-p04mm0\",\"3c16cfb0-3277-4ab9-840e-f1876c38c335-p04nrm\",\"554fffcb-d5c2-4e5e-9f95-6fb7e709f98d-p04nt9\",\"3c16cfb0-3277-4ab9-840e-f1876c38c335-p04nrm\",null,\"676426af-ae3b-472e-b647-3458fe92ecec-p04o2d\",\"aff5f3be-5285-4449-99c9-3a2fb4324490-p04o47\",\"70afdefc-fd17-43e6-9845-bcc2871910ca-p04ocl\",\"248aba3e-17d6-41b4-b6f0-4225daa75535-p04od6\",null,\"b768d253-3301-469c-8c4c-788e53ab70e2-p04opt\",\"4c4e4b4a-76b5-4316-9d3d-86ee380bbabc-p04oyv\",\"38cc7f91-b084-4576-bbc3-a0514b1f7718-p04mrb\",\"01d1ae29-992d-4b96-819c-c120545df3b9-p04my4\",\"081300f9-89d1-4276-bd20-aef034d79bbf-p04nbh\",\"81ad99ab-d89a-41b7-95fe-602994751de7-p04nc4\",\"2a8893f8-1cd0-4a1a-a432-40e4927089e9-p04o5s\",\"8f53190c-5aab-4b32-8639-0328440b93f0-p04oco\",\"2fe9d667-42d1-43a1-a843-46abf38c612e-p04oec\",\"f91fe9c7-3185-4fe7-af7d-37bcd6c913af-p04og2\",\"fde0e3ab-905d-4494-8bf3-a1da60372690-p04on4\",\"4e1db74f-e809-402e-8e4f-bbcaa06e4d7d-p04ovv\",\"99bb024c-16d6-4464-bedb-d9324d49eb73-p04maj\",\"37b42ab7-c93a-4a22-85af-02e37698ab27-p04mr4\",\"dcba9371-3bdf-4185-a3ec-8fbbd15dac41-p04n1j\",\"1eedbf2a-843b-4c0a-9af5-f84a9e06b2b2-p04of9\",\"ad322ec2-8512-4fe5-b3af-89bf10cf7357-p04oo8\",\"5c3ef109-c3c1-4adf-a535-bb53306470ce-p04oqf\",\"bb4bdd8d-5c7c-4689-9965-ec74add4e79a-p04ox6\",\"b25a391e-d702-40b4-bd93-64fdda2984e5-p04p5e\",\"abd34420-4645-48b7-89ba-be52fa021227-p04dhe\",\"2d9f63ec-5a0d-4d6a-a2ef-a88b7c38ee00-p04p8h\",\"b2bd169e-7766-4dd3-b650-2006908ec33e-p04pa4\",\"12aa6fc7-8729-4f0b-9128-7d012d984184-p04mrv\",\"c1f40290-db2b-4402-9c44-6976cd28b066-p04nbk\",\"678eb9d0-a7c8-44c6-8ecb-a5d5b868befb-p04ni9\",\"76c1c4a5-43b8-484a-9751-b66d34d118c7-p04nsz\",\"cb242f79-b935-4dc7-9a26-d0855d0d0d22-p04ntn\",\"c463f981-4876-4d3b-ab0e-2f41b4b9dac2-p04o2p\",\"7f1abdec-cc82-4e47-b820-462f74532cbb-p04oko\",\"fc269cc5-2061-47de-a8e4-7003cd58a4da-p04onj\",\"1a7f6dc7-c3b3-4656-9b12-fbc4ae39463e-p04opd\",\"0b058d72-16f6-4e5b-b2af-44f8b776521e-p04opf\",\"b946fd2d-11e1-43c8-babb-664d69002aec-p04owx\",\"e2b3db03-043b-4516-85f5-f413e157a405-p04p6a\",\"fd26f617-bc77-4d15-9e42-1f6d328453bd-p04p4b\",\"eb6d67d3-a60e-416b-b42c-706eda7140f6-p04mou\",\"405e20f7-c23e-4594-bcb1-c0843be0a3c4-p04mzs\",\"c4496ad3-dd4a-4449-bd06-faee19d40afb-p04mzf\",\"2cbdf7cf-9041-416a-866d-f716d8d2b339-p04nur\",\"d2c5df0c-2c31-4d03-8a46-d55c993408d7-p04olq\",\"3dbfb288-7cac-4965-90b3-68d7657b4b3d-p04oqm\",\"c20913aa-983d-4394-81b8-b9202b8db36f-p04p7n\",\"27ef5760-fdfd-44e2-b1e2-49f6cd30b7e6-p04p93\",\"a9d5c778-cb6b-4b40-a2d0-ad8801a89595-p04n03\",\"cc41ca1b-d839-4aae-b989-6a62aa3c7a16-p04naq\",\"278cc71a-fe64-4805-87ab-314c26b41cc0-p04nac\",\"0a07ab11-3cf2-4384-9a92-b0b88389812a-p04mmh\",\"05c78ded-30bd-49a9-aaf5-b7a82b7c4849-p04nld\",\"aec36c6a-4045-49c9-bbe0-b7429744ea0d-p04nra\",\"492091ec-651e-404f-a436-1d1a7ed3af65-p04nqr\",\"b6b2824e-21a4-4a35-bfb4-e2a3ba7c1dbf-p04o15\",\"7d48b85e-6a07-43d3-825a-50ff14598bd5-p04obo\",\"840d477b-870a-4abc-acda-b94be0e397b1-p04oby\",\"5a93e68d-2424-4045-9c90-9481531c4f18-p04on2\",\"fbe53844-9bfc-44d8-b9ef-5d1bc814ad98-p04one\",\"b2655b44-3e7d-45b8-91a0-e74e4207d190-p04ovw\",\"c4c188b3-5cb1-4162-bee9-ab7fc93b18de-p04oxu\",\"4c62ad30-3506-4292-9b6d-a3ea64579a65-p04oxb\",\"f7347e47-c022-46c7-b17f-94c9dea99a92-p04oyt\",\"fa35df7e-3d4f-4797-a04b-fc06c572f0d0-p04p5q\",\"db4a4692-2eb1-4ff7-a6c1-6ff914007db2-p04p7f\",\"5ff5fbf1-9719-4bec-8562-f593c01cfcf5-p04my0\",\"7212b8e5-5426-4165-9b77-42956cb4e818-p04n9j\",\"817af538-1c42-41db-8cb2-c0eb65bed0a9-p04nj6\",\"1a03db1a-eae7-43bb-a4ae-4da132f2bc2d-p04nmd\",\"6e025c46-751b-426b-9951-9a395e548872-p04of9\",\"b7fbfc8b-fd85-4581-8654-10887cfdf5b1-p04oml\",\"9ac50efe-4af9-4941-8778-068ee8a59a64-p04ov8\",\"baefa00c-e40a-43fc-859b-2e51d265e6f6-p04p6u\",null,\"cbd5935b-fa5c-470e-a4a0-92fe88201bd8-p04p8u\",\"2f5582e7-234c-45af-8dff-e062559c3349-p04n8o\",\"c0c866b8-c065-4761-b0b7-0f699def44d7-p04nb0\",\"2bb93b33-8320-4453-8c39-ae41ef6fc6d1-p04nui\",null,\"982e8fcc-8907-4a12-bbf7-55e2f89ac541-p04o20\",\"cbf0f396-34e5-47e4-905f-218e80fcb2d3-p04ocs\",\"7c0b7350-892e-43ce-8c37-c8274f670b93-p04odm\",\"cec6b50d-dc41-43b6-a57c-a6e9389f5122-p04oeb\",\"60e224d4-2d63-4d30-a682-fe0d9e53e706-p04m7s\",\"37ec3cb5-d0c1-47e7-a2fe-f9d0c11ab46e-p04oz3\",\"802716fa-905d-47b3-bd49-8f8ca9a8e9fe-p04p00\",\"8f336309-2a60-406d-adb0-b079b3139136-p04p4u\",\"0a7a63bb-4523-41ae-95ff-29cdc50e9557-p04p8u\",\"b087a66f-09e3-4692-9bd3-c5eaccbccad0-p04mmz\",\"9dbf77df-802f-40ad-be5c-a38d68e23f05-p04mqz\",\"99affd8c-209a-426d-aec3-0ae3b26c4813-p04mn6\",\"c1602216-b77e-4f7a-95f6-7c7a91ce4aa0-p04nkf\",\"773b7195-810b-413d-b66b-985e791daf02-p04o35\",\"f9d7bcc7-ad99-4759-b1bd-f1b1ecd1c170-p04o5u\",\"a3384ea8-dbaa-487d-b714-08542f0d721b-p04oc7\",\"2f869d35-2927-4796-bf3e-a008f99741db-p04okn\",\"7e2e1fdb-188b-4b72-b4f3-412a65fa8ea7-p04onf\",\"2960f8e9-36f0-4d98-abec-5a9cc1d14e1d-p04ozb\",\"f0c46581-1136-4350-bb7f-789b9c67563c-p04ozd\",\"e67bde38-fc8f-4035-8625-cc2c8267ebc1-p04p6v\",\"f046b80e-4518-4922-bd36-edb6fd53e475-p04p79\",\"1e8408f4-83d4-4804-8dae-487c6e19e80e-p04p7h\",\"065a6824-a25a-4a56-8e4e-51ce5eb4481b-p04p9m\",\"cf090041-bcd6-43e0-a5a3-38462231f75e-p04p9t\",\"3b150759-4bc2-4f1f-86e1-01a6d699bfc8-p04pa9\",\"8ce074ff-a51d-4df1-96b5-3cc8206837d0-p04mnq\",\"2541921b-9533-457c-b2f8-141fce5e889c-p04mqj\",\"70d95b9a-afa6-4bc8-af29-bd895d6dbd6b-p04n0p\",\"5500d8e2-0b0e-4a38-a832-7ef99889c436-p04njq\",\"2faf9768-0ee5-4bba-b19d-551d6ff8f827-p04nkf\",\"3ece408b-1dd3-4703-b5c0-b1bf9bf46cf8-p04nm0\",\"227fc57d-9f62-4df0-9311-997392b9efa7-p04nno\",\"990464e3-8ab8-4c8e-90dc-a683347cbb9e-p04ns2\",\"a769f7c8-f346-4bdd-bc6d-82ec0d1946f6-p04nvf\",\"46c932e9-eff5-421d-8817-c25c49d466c8-p04o17\",\"556a46fc-afc6-4279-9ffa-9061e93a7bbc-p04o2m\",\"e1cf8b5a-917e-4ef8-bbcd-7842de3eef70-p04olr\",\"35fbb0d8-4e5b-46b3-9abb-e3e6e3d248e8-p04ope\",\"e44fc26d-d882-48dc-90d6-c9dd69766020-p04oyf\",\"7909b172-e08d-4517-99d3-9ab6203d7a49-p04oz4\",\"2694da2b-dd60-4461-835d-97a7782fae54-p04ozu\",\"383ac64f-d002-4954-9056-653fd9cc4103-p04p5r\",\"31f5cda9-8614-4689-99e8-9f54715b8391-p04p6q\",\"b30b4ad4-6886-4b77-a4af-36180c8ae525-p04p8v\",\"2694da2b-dd60-4461-835d-97a7782fae54-p04ozu\",\"7d43eec7-a3dc-4aa9-bd6e-d861c7db0785-p05jv8\",\"1fc80244-6c6a-4fb8-af5d-ef37658b032f-p04msa\",\"a5d86837-81d6-498f-bbb0-539eeb0a9d38-p04n7j\",\"d4239a8b-8135-45d9-915b-863138d9646a-p04n9x\",\"77c0b47b-3784-4083-9d2c-e2a83af95026-p04nbg\",\"b1efde59-9d50-4625-aabb-2aea00b629b4-p04njj\",\"5303195f-34c9-4ef7-a72b-fe4c4f60c33d-p04nki\",\"33d5aa92-aae7-42aa-9e53-50c18186910f-p04nkd\",\"92f0cbc6-f005-4653-8b51-29c6d617d78d-p04nvu\",\"4531b483-439e-4f58-a9b0-a5dd18dae958-p04o5v\",\"12bbdab3-e6d9-494e-8a8c-fe3f92358b81-p04ou8\",\"b96f1080-0ddc-4bc0-b75e-3ff5384290fc-p04mgt\",\"eb145dc0-c702-418e-a1e0-5e55b564f63f-p04ngh\",\"7f9f483f-f628-4fca-9232-4b445ae5c56d-p04nru\",\"30918c4d-5af7-4d8f-9ae5-804c0a5f026e-p04nrj\",\"907f7a38-4f32-49a0-8aef-071c6de614e8-p04o27\",\"4333cb17-3721-4ef1-b2c2-03a188a1a734-p04o3o\",\"df8232a1-9eba-4ff5-b428-89f5d32fe8b7-p04oaz\",\"45ec43a6-1127-430d-975b-219016f3904f-p04odf\",\"8b85b548-5d5e-4f14-8d9d-b2620b3c87bd-p04olo\",\"fcfe8275-0d56-4ac4-8c10-03cae6770532-p04oya\",\"e2085b40-32bf-43fc-803c-2c561f504327-p04ozj\",\"85184577-8c22-47a3-8e32-7907a2e49176-p04p5v\",\"31260436-8898-4674-9240-0ac0ea88e839-p04p89\",\"4808a15e-2745-47dc-acc8-af2c60d2fc56-p04mnr\",\"fa6f2bfe-d663-4cb6-8163-e782a1c5ee59-p04nad\",\"9c2b1564-9800-4e9f-8732-8790601f82bc-p04nj7\",\"df3a1e42-dcec-4dd8-96fb-77ad3f9c401c-p04nm6\",\"492091ec-651e-404f-a436-1d1a7ed3af65-p04nqr\",\"d75881e3-c4f2-49f3-ab1e-28bf1aee6877-p04nvy\",\"a64f0796-743a-4b4d-8b9b-31fa913adcff-p04o38\",\"b042c445-cb8c-4701-b37b-4a0574e0d697-p04o31\",\"5054bc39-b3e5-4d6c-819c-5567baa37c97-p04oay\",\"3fbe06dc-3ccb-4af5-b181-ae34eb4df82f-p04o8p\",\"d73667a9-319c-4613-b785-0b543f65c9a1-p04ooq\",\"9493f989-7d3e-4976-a650-fada9ab57b81-p04owe\",\"7dd58a10-ecf2-4e74-91fc-4d73034fa6f6-p04ox6\",\"0c6b7607-6c2e-4583-a129-7511ab8472fe-p04p88\",\"25409f9e-29fb-4046-b08e-0f974340d6d6-p04p90\",\"ab1633a0-7020-46b1-93c2-529aa2497851-p04p9v\",\"c5b1a1cd-4244-4492-bdc4-b4496d39fd4a-p04n1q\",\"df3eb45d-c761-4980-bce7-7d4cadc8f57e-p04n9y\",\"caa0a186-4385-4529-94ae-5cd878122afc-p04nld\",\"d90c4e13-1f87-46a5-96b3-69a5a8f463d8-p04nlb\",\"f4dcf946-4908-4327-9393-b907ab2c30f1-p04nr2\",\"31d8f66a-b566-45db-b405-13bed0b3cc7f-p04o5p\",\"33d3d252-3677-4c6c-8cd3-f9995d53629f-p04odm\",\"66196cb8-1239-4f11-930c-80b5c41a1c15-p04o6s\",\"00660d11-32ec-4772-a451-4e97ad387fe5-p04olv\",\"a24e615a-d400-4ddd-95e5-b5d0368e703f-p04omo\",\"e0bcfd1e-e516-4255-bc51-23bd64643182-p04ozj\",\"adb9c359-efb9-4489-b869-32a7c99cb729-p04mpq\",\"2ebdbd5f-ac95-446b-a1bf-ed690f88f040-p04nbe\",\"e768d2b7-bad2-4ef8-8b70-38a62748f2e0-p04nhx\",\"8a652aa0-b3cf-477d-a2df-88a9eca07785-p04njt\",\"18d4c773-2982-4f3b-9b50-35a764ad88a9-p04nkp\",\"4c63735e-8766-45f4-bf82-037d19a56399-p04nln\",\"96e03f76-f1f7-4eb0-b4de-0c091809879c-p04mmw\",\"e5dd432b-e488-44d3-bffe-37929a8fdeaf-p04nu0\",\"e51e673b-38d7-45da-a747-fe429bfc33ee-p04o3b\",\"2502b2e3-a3c6-4a9f-a76a-c6084ee37970-p04o4f\",\"649a4794-7312-4852-9a37-f88f0eb100c5-p04o5n\",\"5e417239-75b0-4b96-a491-48cfef728325-p04o7h\",\"79435748-2ace-4590-8328-1c0e58cf18ed-p04odf\",\"a21a3272-4996-49db-8358-979d6032c746-p04om1\",\"571387fe-576a-47c8-9267-6c8e77fd257a-p04oo8\",\"29af0287-38e6-4c87-a57a-cabafeadea89-p04ovs\",\"87785a1e-55b5-448e-807a-eb4562c7b2b5-p04p29\",\"9bf9c80d-fc7b-4fb4-92ab-1d716b201a43-p04p9k\",\"6b4f74a3-ff99-4db6-a34a-956dc99852f8-p04ms7\",\"53f3a35d-97a9-4ece-9ff3-1a38492d4e25-p04mxm\",\"c4cea249-b861-41d2-b435-8b8ce510072b-p04nl1\",\"d91d0888-3668-415d-8129-efd3ec7cd4f8-p04olb\",\"61cb934f-d777-4b05-b53f-30d47723c380-p04ovj\",\"2eafad39-ef2f-415b-a808-87ef3b751e20-p04orp\",\"3d1a1d30-221e-4895-a0a0-a11efdfe2e98-p04p95\",\"bb90a6de-961f-4e9f-aa43-befcd65d1e3a-p04mzc\",\"69814655-8bf8-4cbb-8ceb-6ff06efe4c10-p04nse\",\"09eec298-0a9e-4752-ae39-519a3e391930-p04nuh\",\"ce41d6a2-a5d1-40c5-8ac6-3280704555f0-p04o7e\",\"e058ff74-4039-4c0c-848c-5e47e1aa17f9-p04odc\",\"aaa6d88d-fd31-45c3-9321-ccbc199f593e-p04ok9\",\"95172ba4-958e-424a-9a07-ef53ff82a646-p04omn\",\"9f6424e5-7727-41c8-87f7-8c5e6ee3f2cf-p04oo5\",\"79e27e01-c2c9-42d3-8df1-9a4854a5167b-p04oq8\",\"c875341a-05e6-406c-9805-34ba5394beb5-p04oph\",\"2c4d8803-f3eb-439a-b02a-480050f69161-p04oym\",\"5669c092-b206-4c6d-a941-ca2d0d7043c0-p04oyw\",\"44593541-e745-430b-a9f4-709d5f8701cb-p04p8o\",\"ff5619bf-ffa7-42f1-bd61-8bb314be8994-p04l3l\",\"79a75043-518b-444a-a489-e5c1f4735354-p04myf\",\"d16e0a43-b081-4e3c-a2dc-c0b4759f9ceb-p04n9c\",\"bbe9f1a4-e84c-490e-b6a3-ee7e872a0e61-p04nb6\",\"9d68c5cf-2e13-4199-aef0-8a7e6c25ec86-p04nrp\",\"5651ec22-8267-40ac-8ded-986ea0d25ce8-p04oc6\",\"15431d31-f27c-4d15-901a-b969bcadb721-p04oxk\",\"225ecfb0-2f31-4f98-9741-7cc00d203e5d-p04p62\",\"f27fac65-283f-4c21-9456-a16ff6686af3-p04p5a\",\"97956d25-b841-4f2d-87c2-d4de90f7a027-p04mn1\",\"32e12906-575d-4e48-bbea-30929ca059d5-p04mqg\",\"e74f98d6-5f0f-422b-a26a-3ed092f28d6a-p04mpb\",\"ece6734c-cab6-47f3-a5a4-9de5831e377e-p04mry\",\"1e089352-f3e2-41ff-a633-ba3d9e13dc51-p04nif\",\"0b96d8d7-ff5f-4128-849a-83303d2e95b9-p04nif\",\"dc18f016-c3e3-43fe-8418-5fe13f8fceed-p04nk2\",\"7094ef4c-a7fd-4a9c-848c-9d0875512bcb-p04nrv\",\"4bea92b2-d53b-4470-8a22-bd36a59e3cd3-p04nsf\",\"16afa0f3-e954-4312-9531-f1acf7c26e04-p04o1j\",\"965de536-0825-4202-aaaf-f497a6895494-p04o48\",\"bffd5427-e2d4-43db-beca-38f632e82327-p04m6j\",\"92161875-570b-45cc-8532-ce9627f1143c-p04om2\",\"42ed0b6d-1dec-43c6-9f19-323c90f2c34e-p04oya\",\"25ed28e1-e4a9-4296-8db7-8e69bb6de857-p04pn0\",\"b62a58f5-a41c-4bd9-a82a-9fbeaff93b37-p04op7\",\"c3a96dab-babe-4a37-9673-a46900cbb08a-p04ozm\",\"bd13edd3-b56e-4bec-9f72-48ecd0d7a7e2-p04n0v\",\"c1351f01-ad34-44a9-9b36-9f5a421d5c00-p04n0m\",\"ffe743af-96f4-4edb-b291-30d2effd7ad6-p04n1g\",\"ef61bf03-77fe-4a96-920b-c4f7d05589fb-p04nau\",\"f93792df-4530-4587-9d95-ac86158ac469-p04nbx\",\"b0cdef62-db25-408e-b558-e2eb4fc534df-p04nls\",\"f6e9861e-7398-4a19-87ad-381076a0daa2-p04nu7\",\"d89d8078-b9b6-46d3-bc58-55bb1e22fdf7-p04nvp\",\"aa5b0fdf-c12b-4090-afb9-fe5e603e1cee-p04nwb\",\"ec74b789-8786-4dba-bc14-0e77e24c2efa-p04o4m\",\"61ec55fd-00c5-4a40-abad-2177fcc61064-p04obc\",\"ec74b789-8786-4dba-bc14-0e77e24c2efa-p04o4m\",\"2aecea99-e8f3-459b-b549-2cfb72d9f737-p04onz\",\"5fd2ac0b-a18a-4f40-a044-1cdf5038b0b2-p04oe3\",\"296617bf-66f1-4e04-8045-28f4005011b1-p04od7\",\"904d3e5c-b92f-4175-99ff-9255aea2f01c-p04oeh\",\"4acdbcbf-5615-4d20-b7a7-991190b72a3b-p04oit\",\"2c287c49-19e9-4008-baa1-68811c51f6f5-p04one\",\"3c0201cb-f665-4e13-83fc-9994d7fabd7d-p04ozd\",\"296617bf-66f1-4e04-8045-28f4005011b1-p04od7\",\"44e8f729-7dab-4024-a031-7ee4096ca060-p04mkt\",\"26795022-b06a-4b21-94dc-1385672ff684-p04mpk\",\"469ea9fe-c900-40f6-a4e8-a512c99bbd91-p04mz4\",\"b31d6962-c6d7-4440-b1af-c55a15256c66-p04n93\",\"b7e8e0d9-4886-44fa-8837-0e98a77965ff-p04nsz\",\"b62ab5c0-cc0e-45a4-804d-b3873fdbbedb-p04nig\",\"24adf7de-5268-4479-80de-47a61fe76d3a-p04njp\",\"95b57d39-b3b3-4c8e-bea5-49e1c5a9dd4a-p04nry\",\"03382107-3f41-4556-b4c3-09c030ca238f-p04np4\",\"5af9ab40-970c-476c-a767-0bc25150e617-p04nuz\",\"3f52e7ca-99d9-4d2a-8c7f-bc0e8462bc4d-p04nvl\",\"d12c42ba-73d0-4492-b91e-df2074df4c40-p04o37\",\"ff5c683d-7a6e-4890-964c-7a375b758119-p04o1x\",\"df523c98-9789-4c73-a79e-35bfdb678c04-p04oda\",\"60716442-a556-4f6f-a08f-2a8891d9132b-p04ofq\",\"8ff5f451-9a56-43a5-87d0-f4608e02dd28-p04og4\",\"63075364-c688-4e8c-b311-065aa7088e2d-p04olm\",\"e30c9d32-fbff-4b93-b48c-6addd0438f52-p04omj\",\"a9e79167-56fa-4b5c-888e-4e93af6df35b-p04op5\",\"b62a58f5-a41c-4bd9-a82a-9fbeaff93b37-p04op7\",\"1e7e5caa-5c4a-4cc9-ac0a-0d263aec91fc-p04owo\",\"d4c9e713-ed13-42d2-a9b2-79b334d315af-p04rui\"]],\n",
       "                [\"Current Long Page Views Completed\"],\n",
       "                [\"Timestamps\",\"Milliseconds to Finish\"],\n",
       "                [],\n",
       "                [\"#EEC584\",\"rgb(85,134,140)\"],\n",
       "                [],\n",
       "                [],\n",
       "                \"\",\n",
       "                [],\n",
       "                {\"point_r\":2}\n",
       "            );\n",
       "        }\n",
       "        iframe.src = \"/static/graphs/templates/c3Viz_template.html#id=timeSeries-XQKYIAHZSTTNGAZKYBNKBRCGJSAJEHRE\";\n",
       "    }());\n",
       "    </script>\n"
      ]
     },
     "metadata": {},
     "output_type": "display_data"
    }
   ],
   "source": [
    "findATimeSpikeWorkflow(TV,UP,SP)\n",
    ";"
   ]
  },
  {
   "cell_type": "code",
   "execution_count": null,
   "metadata": {
    "collapsed": true,
    "input_collapsed": false
   },
   "outputs": [],
   "source": []
  }
 ],
 "metadata": {
  "chart_version": "1.0.0",
  "kernelspec": {
   "display_name": "Julia 0.4.7",
   "language": "julia",
   "name": "julia-0.4"
  },
  "language_info": {
   "file_extension": ".jl",
   "mimetype": "application/julia",
   "name": "julia",
   "version": "0.4.7"
  },
  "library_version": "1.0.0",
  "notebook_uuid": "d25477b1-0073-44e5-9178-5700a0c80718",
  "readOnly": false
 },
 "nbformat": 4,
 "nbformat_minor": 0
}
