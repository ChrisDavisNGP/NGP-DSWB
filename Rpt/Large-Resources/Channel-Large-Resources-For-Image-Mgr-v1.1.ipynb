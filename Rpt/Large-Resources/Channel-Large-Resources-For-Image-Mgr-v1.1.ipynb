{
 "cells": [
  {
   "cell_type": "code",
   "execution_count": null,
   "metadata": {
    "collapsed": false,
    "input_collapsed": false
   },
   "outputs": [],
   "source": [
    "using ODBC\n",
    "using DataFrames\n",
    "using DSWB\n",
    "using Formatting\n",
    "\n",
    "dsn = \"dswb-natgeo\" # Redshift esetTable(tableRt, tableType = \"RESOURCE_TABLE\")ndpoint\n",
    "table = \"beacons_4744\" # beacon table name\n",
    "tableRt = \"beacons_4744_rt\"\n",
    "\n",
    "# Connect to Beacon Data\n",
    "setRedshiftEndpoint(dsn)\n",
    "setTable(tableRt, tableType = \"RESOURCE_TABLE\")\n",
    "setTable(table)\n",
    ";"
   ]
  },
  {
   "cell_type": "code",
   "execution_count": null,
   "metadata": {
    "collapsed": false,
    "input_collapsed": false
   },
   "outputs": [],
   "source": [
    "include(\"../../Lib/Include-Package-v2.1.jl\")\n",
    ";"
   ]
  },
  {
   "cell_type": "code",
   "execution_count": null,
   "metadata": {
    "collapsed": false,
    "input_collapsed": false
   },
   "outputs": [],
   "source": [
    "#TV = timeVariables(2017,6,17,10,0,2017,6,17,10,59);\n",
    "TV = weeklyTimeVariables(days=1)\n",
    ";"
   ]
  },
  {
   "cell_type": "code",
   "execution_count": null,
   "metadata": {
    "collapsed": false,
    "input_collapsed": false
   },
   "outputs": [],
   "source": [
    "UP = UrlParamsInit(\"Channel_Large_Res_For_Image_Mgr\")\n",
    "UP.pageGroup = \"Channel\"   #productPageGroup\n",
    "UP.urlRegEx = \"%\"   #localUrl\n",
    "UP.deviceType = \"%\"\n",
    "UP.sizeMin = 50000\n",
    "\n",
    "SP = ShowParamsInit()\n",
    "SP.debugLevel = 5\n",
    "SP.showLines = 10\n",
    ";"
   ]
  },
  {
   "cell_type": "code",
   "execution_count": null,
   "metadata": {
    "collapsed": false,
    "input_collapsed": false
   },
   "outputs": [],
   "source": [
    "defaultBeaconCreateView(TV,UP,SP)\n",
    ";"
   ]
  },
  {
   "cell_type": "code",
   "execution_count": null,
   "metadata": {
    "collapsed": false,
    "input_collapsed": false,
    "scrolled": false
   },
   "outputs": [],
   "source": [
    "fileType = \"%jpg\"\n",
    "imagesDf = resourceImages(TV,UP,SP,fileType)\n",
    "if (size(imagesDf)[1] > 0)\n",
    "    idImageMgrPolicy(SP,imagesDf)\n",
    "end\n",
    ";"
   ]
  },
  {
   "cell_type": "code",
   "execution_count": null,
   "metadata": {
    "collapsed": false,
    "input_collapsed": false
   },
   "outputs": [],
   "source": [
    "fileType = \"%png\"\n",
    "imagesDf = resourceImages(TV,UP,SP,fileType)\n",
    "if (size(imagesDf)[1] > 0)\n",
    "    idImageMgrPolicy(SP,imagesDf)\n",
    "end\n",
    ";"
   ]
  },
  {
   "cell_type": "code",
   "execution_count": null,
   "metadata": {
    "collapsed": false,
    "input_collapsed": false
   },
   "outputs": [],
   "source": [
    "fileType = \"%jpeg\"\n",
    "imagesDf = resourceImages(TV,UP,SP,fileType)\n",
    "if (size(imagesDf)[1] > 0)\n",
    "    idImageMgrPolicy(SP,imagesDf)\n",
    "end\n",
    ";"
   ]
  },
  {
   "cell_type": "code",
   "execution_count": null,
   "metadata": {
    "collapsed": false,
    "input_collapsed": false
   },
   "outputs": [],
   "source": [
    "fileType = \"%gif\"\n",
    "imagesDf = resourceImages(TV,UP,SP,fileType)\n",
    "if (size(imagesDf)[1] > 0)\n",
    "    idImageMgrPolicy(SP,imagesDf)\n",
    "end\n",
    ";"
   ]
  },
  {
   "cell_type": "code",
   "execution_count": null,
   "metadata": {
    "collapsed": false,
    "input_collapsed": false
   },
   "outputs": [],
   "source": [
    "fileType = \"%imviewer\"\n",
    "imagesDf = resourceImages(TV,UP,SP,fileType)\n",
    "if (size(imagesDf)[1] > 0)\n",
    "    idImageMgrPolicy(SP,imagesDf)\n",
    "end\n",
    ";"
   ]
  },
  {
   "cell_type": "code",
   "execution_count": null,
   "metadata": {
    "collapsed": false,
    "input_collapsed": false
   },
   "outputs": [],
   "source": [
    "fileType = \"%svg\"\n",
    "imagesDf = resourceImages(TV,UP,SP,fileType)\n",
    "if (size(imagesDf)[1] > 0)\n",
    "    idImageMgrPolicy(SP,imagesDf)\n",
    "end\n",
    ";"
   ]
  },
  {
   "cell_type": "code",
   "execution_count": null,
   "metadata": {
    "collapsed": false,
    "input_collapsed": false
   },
   "outputs": [],
   "source": [
    "fileType = \"%jpeg\"\n",
    "imagesDf = resourceImages(TV,UP,SP,fileType)\n",
    "if (size(imagesDf)[1] > 0)\n",
    "    idImageMgrPolicy(SP,imagesDf)\n",
    "end\n",
    ";"
   ]
  },
  {
   "cell_type": "code",
   "execution_count": null,
   "metadata": {
    "collapsed": false,
    "input_collapsed": false
   },
   "outputs": [],
   "source": [
    "fileType = \"%\"\n",
    "imagesDf = resourceImages(TV,UP,SP,fileType)\n",
    "if (size(imagesDf)[1] > 0)\n",
    "    idImageMgrPolicy(SP,imagesDf)\n",
    "end\n",
    ";"
   ]
  },
  {
   "cell_type": "code",
   "execution_count": null,
   "metadata": {
    "collapsed": true,
    "input_collapsed": false
   },
   "outputs": [],
   "source": [
    "q = query(\"\"\" drop view if exists $(UP.btView);\"\"\")\n",
    ";"
   ]
  }
 ],
 "metadata": {
  "kernelspec": {
   "display_name": "Julia 0.4.7",
   "language": "julia",
   "name": "julia-0.4"
  },
  "language_info": {
   "file_extension": ".jl",
   "mimetype": "application/julia",
   "name": "julia",
   "version": "0.4.7"
  },
  "library_version": "1.0.0",
  "notebook_uuid": "bc4fc1c8-77d7-4e46-9a68-4e567bd0abf7",
  "readOnly": false
 },
 "nbformat": 4,
 "nbformat_minor": 0
}
