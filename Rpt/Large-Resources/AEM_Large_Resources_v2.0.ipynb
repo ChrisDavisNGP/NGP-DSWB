{
 "cells": [
  {
   "cell_type": "code",
   "execution_count": 1,
   "metadata": {
    "collapsed": false,
    "input_collapsed": false
   },
   "outputs": [
    {
     "name": "stdout",
     "output_type": "stream",
     "text": [
      "Redshift endpoint set: 2017-06-09T12:39:10\n"
     ]
    },
    {
     "data": {
      "text/plain": [
       "\"beacons_4744\""
      ]
     },
     "execution_count": 1,
     "metadata": {},
     "output_type": "execute_result"
    }
   ],
   "source": [
    "using ODBC\n",
    "using DataFrames\n",
    "using DSWB\n",
    "using Formatting\n",
    "\n",
    "dsn = \"dswb-natgeo\" # Redshift esetTable(tableRt, tableType = \"RESOURCE_TABLE\")ndpoint\n",
    "table = \"beacons_4744\" # beacon table name\n",
    "tableRt = \"beacons_4744_rt\"\n",
    "\n",
    "# Connect to Beacon Data\n",
    "setRedshiftEndpoint(dsn)\n",
    "setTable(tableRt, tableType = \"RESOURCE_TABLE\")\n",
    "setTable(table)\n",
    ";"
   ]
  },
  {
   "cell_type": "code",
   "execution_count": 21,
   "metadata": {
    "collapsed": false,
    "input_collapsed": false
   },
   "outputs": [
    {
     "name": "stdout",
     "output_type": "stream",
     "text": [
      "June 7, 2017 23:59:00 to June 8, 2017 23:59:00 Local Time\n",
      "June 8, 2017 03:59:00 to June 9, 2017 03:59:00 UTC Time\n"
     ]
    }
   ],
   "source": [
    "include(\"../../Lib/Include-Package-v2.1.jl\")\n",
    "include(\"AEM-Large-Resources-Body-v1.0.jl\")\n",
    ";"
   ]
  },
  {
   "cell_type": "code",
   "execution_count": 21,
   "metadata": {
    "collapsed": false,
    "input_collapsed": false
   },
   "outputs": [
    {
     "name": "stdout",
     "output_type": "stream",
     "text": [
      "June 7, 2017 23:59:00 to June 8, 2017 23:59:00 Local Time\n",
      "June 8, 2017 03:59:00 to June 9, 2017 03:59:00 UTC Time\n"
     ]
    }
   ],
   "source": [
    "#TV = timeVariables(2017,6,7,10,0,2017,6,7,10,59)\n",
    "#TV = weeklyTimeVariables(days=3)\n",
    "TV = yesterdayTimeVariables()\n",
    ";"
   ]
  },
  {
   "cell_type": "code",
   "execution_count": 22,
   "metadata": {
    "collapsed": false,
    "input_collapsed": false
   },
   "outputs": [],
   "source": [
    "UP = UrlParamsInit()\n",
    "UP.agentOs = \"%\"\n",
    "UP.beaconTable = table\n",
    "UP.btView = \"$(table)_Large_Resources_view\" #localtable\n",
    "UP.deviceType = \"Mobile\"\n",
    "UP.limitRows = 250\n",
    "UP.orderBy = \"time\"\n",
    "UP.pageGroup = \"Magazine AEM\"   #productPageGroup\n",
    "UP.resourceTable = tableRt\n",
    "UP.rtView = \"$(tableRt)_Large_Resources_view\" #localtableRt\n",
    "UP.samplesMin = 10\n",
    "UP.sizeMin = 10000\n",
    "UP.timeLowerMs = 2000.0\n",
    "UP.timeUpperMs = 600000.0\n",
    "UP.urlRegEx = \"%\"   #localUrl\n",
    "UP.urlFull = \"%\"\n",
    "UP.usePageLoad=false\n",
    "\n",
    "SP = ShowParamsInit()\n",
    "SP.criticalPathOnly=true\n",
    "SP.desktop=true\n",
    "SP.devView=false\n",
    "SP.debug=true\n",
    "SP.debugLevel = 10   # Tests use even numbers with > tests, make this an odd number or zero\n",
    "SP.mobile=true\n",
    "#SP.showLines = 300\n",
    "SP.showLines = 50\n",
    "\n",
    "linesOutput = 50\n",
    "minimumEncoded = 500000\n",
    ";"
   ]
  },
  {
   "cell_type": "code",
   "execution_count": 23,
   "metadata": {
    "collapsed": false,
    "input_collapsed": false
   },
   "outputs": [
    {
     "name": "stdout",
     "output_type": "stream",
     "text": [
      "beacons_4744_AEM_Large_Resources_view count is 8418\n"
     ]
    }
   ],
   "source": [
    "defaultBeaconView(TV,UP,SP)\n",
    ";"
   ]
  },
  {
   "cell_type": "code",
   "execution_count": 24,
   "metadata": {
    "collapsed": false,
    "input_collapsed": false,
    "scrolled": false
   },
   "outputs": [
    {
     "data": {
      "text/html": [
       "<div class=\"dswbOutputText\"><h1 class=\"chart_title\" style=\"color:#ccc\">Mobile Big Pages Details (Min 500000 KB), File Type %jpg</h1><h3 class=\"chart_info\" style=\"color:#ccc\">June 7, 2017 23:59:00 to June 8, 2017 23:59:00 Local Time</h3></div>"
      ]
     },
     "metadata": {},
     "output_type": "display_data"
    },
    {
     "data": {
      "text/html": [
       "    <table  class=\"dataframe-table\">\n",
       "    <thead><tr><th class=\"cell-1\" style=\"\">encoded</th> <th class=\"cell-2\" style=\"\">transferred</th> <th class=\"cell-3\" style=\"\">decoded</th> <th class=\"cell-4\" style=\"\">user agent os</th> <th class=\"cell-5\" style=\"\">user agent family</th> <th class=\"cell-6\" style=\"\">count</th></tr></thead>\n",
       "    <tbody>\n",
       "    <tr><td class=\"cell-1\" style=\"text-align:right;\">1,771,751</td> <td class=\"cell-2\" style=\"text-align:right;\">1,253,157</td> <td class=\"cell-3\" style=\"\"></td> <td class=\"cell-4\" style=\"\">Android OS</td> <td class=\"cell-5\" style=\"\">Chrome Mobile</td> <td class=\"cell-6\" style=\"text-align:right;\">6</td></tr>\n",
       "    \n",
       "    <tr><td class=\"cell-1\" style=\"text-align:right;\">656,795</td> <td class=\"cell-2\" style=\"text-align:right;\">0</td> <td class=\"cell-3\" style=\"\"></td> <td class=\"cell-4\" style=\"\">Android OS</td> <td class=\"cell-5\" style=\"\">Amazon Silk</td> <td class=\"cell-6\" style=\"text-align:right;\">1</td></tr>\n",
       "    </tbody>\n"
      ],
      "text/plain": [
       "HTML{UTF8String}(\"    <table  class=\\\"dataframe-table\\\">\\n    <thead><tr><th class=\\\"cell-1\\\" style=\\\"\\\">encoded</th> <th class=\\\"cell-2\\\" style=\\\"\\\">transferred</th> <th class=\\\"cell-3\\\" style=\\\"\\\">decoded</th> <th class=\\\"cell-4\\\" style=\\\"\\\">user agent os</th> <th class=\\\"cell-5\\\" style=\\\"\\\">user agent family</th> <th class=\\\"cell-6\\\" style=\\\"\\\">count</th></tr></thead>\\n    <tbody>\\n    <tr><td class=\\\"cell-1\\\" style=\\\"text-align:right;\\\">1,771,751</td> <td class=\\\"cell-2\\\" style=\\\"text-align:right;\\\">1,253,157</td> <td class=\\\"cell-3\\\" style=\\\"\\\"></td> <td class=\\\"cell-4\\\" style=\\\"\\\">Android OS</td> <td class=\\\"cell-5\\\" style=\\\"\\\">Chrome Mobile</td> <td class=\\\"cell-6\\\" style=\\\"text-align:right;\\\">6</td></tr>\\n    \\n    <tr><td class=\\\"cell-1\\\" style=\\\"text-align:right;\\\">656,795</td> <td class=\\\"cell-2\\\" style=\\\"text-align:right;\\\">0</td> <td class=\\\"cell-3\\\" style=\\\"\\\"></td> <td class=\\\"cell-4\\\" style=\\\"\\\">Android OS</td> <td class=\\\"cell-5\\\" style=\\\"\\\">Amazon Silk</td> <td class=\\\"cell-6\\\" style=\\\"text-align:right;\\\">1</td></tr>\\n    </tbody>\\n\")"
      ]
     },
     "metadata": {},
     "output_type": "display_data"
    },
    {
     "data": {
      "text/html": [
       "    <table  class=\"dataframe-table\">\n",
       "    <thead><tr><th class=\"cell-1\" style=\"\">encoded</th> <th class=\"cell-2\" style=\"\">transferred</th> <th class=\"cell-3\" style=\"\">decoded</th> <th class=\"cell-4\" style=\"\">count</th> <th class=\"cell-5\" style=\"\">urlgroup</th> <th class=\"cell-6\" style=\"\">url</th></tr></thead>\n",
       "    <tbody>\n",
       "    <tr><td class=\"cell-1\" style=\"text-align:right;\">2,456,279</td> <td class=\"cell-2\" style=\"text-align:right;\">2,456,657</td> <td class=\"cell-3\" style=\"\"></td> <td class=\"cell-4\" style=\"text-align:right;\">1</td> <td class=\"cell-5\" style=\"\">http://www.nationalgeographic.com/magazine/2017/04/explore-wine-aged-underwater</td> <td class=\"cell-6\" style=\"\">http://www.nationalgeographic.com/content/dam/contributors/rights-exempt/Nina%20Strochlic_160715_0311-min%20Cropped.jpg</td></tr>\n",
       "<tr><td class=\"cell-1\" style=\"text-align:right;\">2,456,279</td> <td class=\"cell-2\" style=\"text-align:right;\">0</td> <td class=\"cell-3\" style=\"\"></td> <td class=\"cell-4\" style=\"text-align:right;\">1</td> <td class=\"cell-5\" style=\"\">http://www.nationalgeographic.com/magazine/2017/07/explore-adventure-wingsuit-danger</td> <td class=\"cell-6\" style=\"\">http://www.nationalgeographic.com/content/dam/contributors/rights-exempt/Nina%20Strochlic_160715_0311-min%20Cropped.jpg</td></tr>\n",
       "<tr><td class=\"cell-1\" style=\"text-align:right;\">2,438,713</td> <td class=\"cell-2\" style=\"text-align:right;\">2,439,091</td> <td class=\"cell-3\" style=\"\"></td> <td class=\"cell-4\" style=\"text-align:right;\">1</td> <td class=\"cell-5\" style=\"\">http://www.nationalgeographic.com/magazine/2017/06/dinosaur-nodosaur-fossil-discovery</td> <td class=\"cell-6\" style=\"\">http://www.nationalgeographic.com/content/dam/contributors/rights-exempt/Michael%20Greshko_160712_0077-min%20Cropped.jpg</td></tr>\n",
       "    \n",
       "    <tr><td class=\"cell-1\" style=\"text-align:right;\">1,311,220</td> <td class=\"cell-2\" style=\"text-align:right;\">1,311,598</td> <td class=\"cell-3\" style=\"\"></td> <td class=\"cell-4\" style=\"text-align:right;\">1</td> <td class=\"cell-5\" style=\"\">http://www.nationalgeographic.com/magazine/2017/07/explore-adventure-assisted-hiking-iron-roads</td> <td class=\"cell-6\" style=\"\">http://www.nationalgeographic.com/content/dam/contributors/rights-exempt/PEdmonds%20head%20shot.jpg</td></tr>\n",
       "<tr><td class=\"cell-1\" style=\"text-align:right;\">1,311,220</td> <td class=\"cell-2\" style=\"text-align:right;\">1,311,598</td> <td class=\"cell-3\" style=\"\"></td> <td class=\"cell-4\" style=\"text-align:right;\">1</td> <td class=\"cell-5\" style=\"\">http://www.nationalgeographic.com/magazine/2017/07/explore-adventure-assisted-hiking-iron-roads</td> <td class=\"cell-6\" style=\"\">http://www.nationalgeographic.com/content/dam/contributors/rights-exempt/PEdmonds%20head%20shot.jpg</td></tr>\n",
       "    </tbody>\n"
      ],
      "text/plain": [
       "HTML{UTF8String}(\"    <table  class=\\\"dataframe-table\\\">\\n    <thead><tr><th class=\\\"cell-1\\\" style=\\\"\\\">encoded</th> <th class=\\\"cell-2\\\" style=\\\"\\\">transferred</th> <th class=\\\"cell-3\\\" style=\\\"\\\">decoded</th> <th class=\\\"cell-4\\\" style=\\\"\\\">count</th> <th class=\\\"cell-5\\\" style=\\\"\\\">urlgroup</th> <th class=\\\"cell-6\\\" style=\\\"\\\">url</th></tr></thead>\\n    <tbody>\\n    <tr><td class=\\\"cell-1\\\" style=\\\"text-align:right;\\\">2,456,279</td> <td class=\\\"cell-2\\\" style=\\\"text-align:right;\\\">2,456,657</td> <td class=\\\"cell-3\\\" style=\\\"\\\"></td> <td class=\\\"cell-4\\\" style=\\\"text-align:right;\\\">1</td> <td class=\\\"cell-5\\\" style=\\\"\\\">http://www.nationalgeographic.com/magazine/2017/04/explore-wine-aged-underwater</td> <td class=\\\"cell-6\\\" style=\\\"\\\">http://www.nationalgeographic.com/content/dam/contributors/rights-exempt/Nina%20Strochlic_160715_0311-min%20Cropped.jpg</td></tr>\\n<tr><td class=\\\"cell-1\\\" style=\\\"text-align:right;\\\">2,456,279</td> <td class=\\\"cell-2\\\" style=\\\"text-align:right;\\\">0</td> <td class=\\\"cell-3\\\" style=\\\"\\\"></td> <td class=\\\"cell-4\\\" style=\\\"text-align:right;\\\">1</td> <td class=\\\"cell-5\\\" style=\\\"\\\">http://www.nationalgeographic.com/magazine/2017/07/explore-adventure-wingsuit-danger</td> <td class=\\\"cell-6\\\" style=\\\"\\\">http://www.nationalgeographic.com/content/dam/contributors/rights-exempt/Nina%20Strochlic_160715_0311-min%20Cropped.jpg</td></tr>\\n<tr><td class=\\\"cell-1\\\" style=\\\"text-align:right;\\\">2,438,713</td> <td class=\\\"cell-2\\\" style=\\\"text-align:right;\\\">2,439,091</td> <td class=\\\"cell-3\\\" style=\\\"\\\"></td> <td class=\\\"cell-4\\\" style=\\\"text-align:right;\\\">1</td> <td class=\\\"cell-5\\\" style=\\\"\\\">http://www.nationalgeographic.com/magazine/2017/06/dinosaur-nodosaur-fossil-discovery</td> <td class=\\\"cell-6\\\" style=\\\"\\\">http://www.nationalgeographic.com/content/dam/contributors/rights-exempt/Michael%20Greshko_160712_0077-min%20Cropped.jpg</td></tr>\\n    \\n    <tr><td class=\\\"cell-1\\\" style=\\\"text-align:right;\\\">1,311,220</td> <td class=\\\"cell-2\\\" style=\\\"text-align:right;\\\">1,311,598</td> <td class=\\\"cell-3\\\" style=\\\"\\\"></td> <td class=\\\"cell-4\\\" style=\\\"text-align:right;\\\">1</td> <td class=\\\"cell-5\\\" style=\\\"\\\">http://www.nationalgeographic.com/magazine/2017/07/explore-adventure-assisted-hiking-iron-roads</td> <td class=\\\"cell-6\\\" style=\\\"\\\">http://www.nationalgeographic.com/content/dam/contributors/rights-exempt/PEdmonds%20head%20shot.jpg</td></tr>\\n<tr><td class=\\\"cell-1\\\" style=\\\"text-align:right;\\\">1,311,220</td> <td class=\\\"cell-2\\\" style=\\\"text-align:right;\\\">1,311,598</td> <td class=\\\"cell-3\\\" style=\\\"\\\"></td> <td class=\\\"cell-4\\\" style=\\\"text-align:right;\\\">1</td> <td class=\\\"cell-5\\\" style=\\\"\\\">http://www.nationalgeographic.com/magazine/2017/07/explore-adventure-assisted-hiking-iron-roads</td> <td class=\\\"cell-6\\\" style=\\\"\\\">http://www.nationalgeographic.com/content/dam/contributors/rights-exempt/PEdmonds%20head%20shot.jpg</td></tr>\\n    </tbody>\\n\")"
      ]
     },
     "metadata": {},
     "output_type": "display_data"
    }
   ],
   "source": [
    "fileType= \"%jpg\"\n",
    "bigPageSizeDetails(TV,UP,SP,fileType;minEncoded=minimumEncoded)\n",
    ";"
   ]
  },
  {
   "cell_type": "code",
   "execution_count": 25,
   "metadata": {
    "collapsed": false,
    "input_collapsed": false,
    "scrolled": false
   },
   "outputs": [
    {
     "data": {
      "text/html": [
       "<div class=\"dswbOutputText\"><h1 class=\"chart_title\" style=\"color:#ccc\">Mobile Big Pages Details (Min 500000 KB), File Type %png</h1><h3 class=\"chart_info\" style=\"color:#ccc\">June 7, 2017 23:59:00 to June 8, 2017 23:59:00 Local Time</h3></div>"
      ]
     },
     "metadata": {},
     "output_type": "display_data"
    },
    {
     "data": {
      "text/html": [
       "    <table  class=\"dataframe-table\">\n",
       "    <thead><tr><th class=\"cell-1\" style=\"\">encoded</th> <th class=\"cell-2\" style=\"\">transferred</th> <th class=\"cell-3\" style=\"\">decoded</th> <th class=\"cell-4\" style=\"\">user agent os</th> <th class=\"cell-5\" style=\"\">user agent family</th> <th class=\"cell-6\" style=\"\">count</th></tr></thead>\n",
       "    <tbody>\n",
       "    <tr><td class=\"cell-1\" style=\"text-align:right;\">928,331</td> <td class=\"cell-2\" style=\"text-align:right;\">580,449</td> <td class=\"cell-3\" style=\"\"></td> <td class=\"cell-4\" style=\"\">Android OS</td> <td class=\"cell-5\" style=\"\">Chrome Mobile</td> <td class=\"cell-6\" style=\"text-align:right;\">75</td></tr>\n",
       "    \n",
       "    <tr><td class=\"cell-1\" style=\"text-align:right;\">792,916</td> <td class=\"cell-2\" style=\"text-align:right;\">793,214</td> <td class=\"cell-3\" style=\"\"></td> <td class=\"cell-4\" style=\"\">Android OS</td> <td class=\"cell-5\" style=\"\">Firefox Mobile</td> <td class=\"cell-6\" style=\"text-align:right;\">4</td></tr>\n",
       "    </tbody>\n"
      ],
      "text/plain": [
       "HTML{UTF8String}(\"    <table  class=\\\"dataframe-table\\\">\\n    <thead><tr><th class=\\\"cell-1\\\" style=\\\"\\\">encoded</th> <th class=\\\"cell-2\\\" style=\\\"\\\">transferred</th> <th class=\\\"cell-3\\\" style=\\\"\\\">decoded</th> <th class=\\\"cell-4\\\" style=\\\"\\\">user agent os</th> <th class=\\\"cell-5\\\" style=\\\"\\\">user agent family</th> <th class=\\\"cell-6\\\" style=\\\"\\\">count</th></tr></thead>\\n    <tbody>\\n    <tr><td class=\\\"cell-1\\\" style=\\\"text-align:right;\\\">928,331</td> <td class=\\\"cell-2\\\" style=\\\"text-align:right;\\\">580,449</td> <td class=\\\"cell-3\\\" style=\\\"\\\"></td> <td class=\\\"cell-4\\\" style=\\\"\\\">Android OS</td> <td class=\\\"cell-5\\\" style=\\\"\\\">Chrome Mobile</td> <td class=\\\"cell-6\\\" style=\\\"text-align:right;\\\">75</td></tr>\\n    \\n    <tr><td class=\\\"cell-1\\\" style=\\\"text-align:right;\\\">792,916</td> <td class=\\\"cell-2\\\" style=\\\"text-align:right;\\\">793,214</td> <td class=\\\"cell-3\\\" style=\\\"\\\"></td> <td class=\\\"cell-4\\\" style=\\\"\\\">Android OS</td> <td class=\\\"cell-5\\\" style=\\\"\\\">Firefox Mobile</td> <td class=\\\"cell-6\\\" style=\\\"text-align:right;\\\">4</td></tr>\\n    </tbody>\\n\")"
      ]
     },
     "metadata": {},
     "output_type": "display_data"
    },
    {
     "data": {
      "text/html": [
       "    <table  class=\"dataframe-table\">\n",
       "    <thead><tr><th class=\"cell-1\" style=\"\">encoded</th> <th class=\"cell-2\" style=\"\">transferred</th> <th class=\"cell-3\" style=\"\">decoded</th> <th class=\"cell-4\" style=\"\">count</th> <th class=\"cell-5\" style=\"\">urlgroup</th> <th class=\"cell-6\" style=\"\">url</th></tr></thead>\n",
       "    <tbody>\n",
       "    <tr><td class=\"cell-1\" style=\"text-align:right;\">2,621,481</td> <td class=\"cell-2\" style=\"text-align:right;\">1,310,906</td> <td class=\"cell-3\" style=\"\"></td> <td class=\"cell-4\" style=\"text-align:right;\">2</td> <td class=\"cell-5\" style=\"\">http://www.nationalgeographic.com/magazine/2017/01</td> <td class=\"cell-6\" style=\"\">http://www.nationalgeographic.com/content/dam/magazine/rights-exempt/2017/01/gender-revolution-ngm-covers-transparent.adapt.1900.1.png</td></tr>\n",
       "<tr><td class=\"cell-1\" style=\"text-align:right;\">919,993</td> <td class=\"cell-2\" style=\"text-align:right;\">920,291</td> <td class=\"cell-3\" style=\"\"></td> <td class=\"cell-4\" style=\"text-align:right;\">1</td> <td class=\"cell-5\" style=\"\">http://www.nationalgeographic.com/magazines/pdf/060717_dom/indexB6.html</td> <td class=\"cell-6\" style=\"\">http://www.nationalgeographic.com/magazines/pdf/060717_dom/static/img/carousel/p118.png</td></tr>\n",
       "<tr><td class=\"cell-1\" style=\"text-align:right;\">919,993</td> <td class=\"cell-2\" style=\"text-align:right;\">920,291</td> <td class=\"cell-3\" style=\"\"></td> <td class=\"cell-4\" style=\"text-align:right;\">1</td> <td class=\"cell-5\" style=\"\">http://www.nationalgeographic.com/magazines/pdf/060717_dom/indexB6.html</td> <td class=\"cell-6\" style=\"\">http://www.nationalgeographic.com/magazines/pdf/060717_dom/static/img/carousel/p118.png</td></tr>\n",
       "<tr><td class=\"cell-1\" style=\"text-align:right;\">919,993</td> <td class=\"cell-2\" style=\"text-align:right;\">920,291</td> <td class=\"cell-3\" style=\"\"></td> <td class=\"cell-4\" style=\"text-align:right;\">1</td> <td class=\"cell-5\" style=\"\">http://www.nationalgeographic.com/magazines/pdf/060717_dom/indexC4.html</td> <td class=\"cell-6\" style=\"\">http://www.nationalgeographic.com/magazines/pdf/060717_dom/static/img/carousel/p118.png</td></tr>\n",
       "<tr><td class=\"cell-1\" style=\"text-align:right;\">919,993</td> <td class=\"cell-2\" style=\"text-align:right;\">920,291</td> <td class=\"cell-3\" style=\"\"></td> <td class=\"cell-4\" style=\"text-align:right;\">1</td> <td class=\"cell-5\" style=\"\">http://www.nationalgeographic.com/magazines/pdf/060717_dom/indexC4.html</td> <td class=\"cell-6\" style=\"\">http://www.nationalgeographic.com/magazines/pdf/060717_dom/static/img/carousel/p118.png</td></tr>\n",
       "<tr><td class=\"cell-1\" style=\"text-align:right;\">919,993</td> <td class=\"cell-2\" style=\"text-align:right;\">920,291</td> <td class=\"cell-3\" style=\"\"></td> <td class=\"cell-4\" style=\"text-align:right;\">1</td> <td class=\"cell-5\" style=\"\">http://www.nationalgeographic.com/magazines/pdf/060717_dom/indexC4.html</td> <td class=\"cell-6\" style=\"\">http://www.nationalgeographic.com/magazines/pdf/060717_dom/static/img/carousel/p118.png</td></tr>\n",
       "<tr><td class=\"cell-1\" style=\"text-align:right;\">919,993</td> <td class=\"cell-2\" style=\"text-align:right;\">920,291</td> <td class=\"cell-3\" style=\"\"></td> <td class=\"cell-4\" style=\"text-align:right;\">1</td> <td class=\"cell-5\" style=\"\">http://www.nationalgeographic.com/magazines/pdf/060717_dom/indexB6.html</td> <td class=\"cell-6\" style=\"\">http://www.nationalgeographic.com/magazines/pdf/060717_dom/static/img/carousel/p118.png</td></tr>\n",
       "<tr><td class=\"cell-1\" style=\"text-align:right;\">919,993</td> <td class=\"cell-2\" style=\"text-align:right;\">920,291</td> <td class=\"cell-3\" style=\"\"></td> <td class=\"cell-4\" style=\"text-align:right;\">1</td> <td class=\"cell-5\" style=\"\">http://www.nationalgeographic.com/magazines/pdf/060717_dom/indexC4.html</td> <td class=\"cell-6\" style=\"\">http://www.nationalgeographic.com/magazines/pdf/060717_dom/static/img/carousel/p118.png</td></tr>\n",
       "<tr><td class=\"cell-1\" style=\"text-align:right;\">919,993</td> <td class=\"cell-2\" style=\"text-align:right;\">920,291</td> <td class=\"cell-3\" style=\"\"></td> <td class=\"cell-4\" style=\"text-align:right;\">1</td> <td class=\"cell-5\" style=\"\">http://www.nationalgeographic.com/magazines/pdf/060717_dom/indexB6.html</td> <td class=\"cell-6\" style=\"\">http://www.nationalgeographic.com/magazines/pdf/060717_dom/static/img/carousel/p118.png</td></tr>\n",
       "<tr><td class=\"cell-1\" style=\"text-align:right;\">919,993</td> <td class=\"cell-2\" style=\"text-align:right;\">920,291</td> <td class=\"cell-3\" style=\"\"></td> <td class=\"cell-4\" style=\"text-align:right;\">1</td> <td class=\"cell-5\" style=\"\">http://www.nationalgeographic.com/magazines/pdf/060717_dom/indexC4.html</td> <td class=\"cell-6\" style=\"\">http://www.nationalgeographic.com/magazines/pdf/060717_dom/static/img/carousel/p118.png</td></tr>\n",
       "<tr><td class=\"cell-1\" style=\"text-align:right;\">919,993</td> <td class=\"cell-2\" style=\"text-align:right;\">920,291</td> <td class=\"cell-3\" style=\"\"></td> <td class=\"cell-4\" style=\"text-align:right;\">1</td> <td class=\"cell-5\" style=\"\">http://www.nationalgeographic.com/magazines/pdf/060717_dom/indexB6.html</td> <td class=\"cell-6\" style=\"\">http://www.nationalgeographic.com/magazines/pdf/060717_dom/static/img/carousel/p118.png</td></tr>\n",
       "<tr><td class=\"cell-1\" style=\"text-align:right;\">919,993</td> <td class=\"cell-2\" style=\"text-align:right;\">920,291</td> <td class=\"cell-3\" style=\"\"></td> <td class=\"cell-4\" style=\"text-align:right;\">1</td> <td class=\"cell-5\" style=\"\">http://www.nationalgeographic.com/magazines/pdf/060717_dom/indexC4.html</td> <td class=\"cell-6\" style=\"\">http://www.nationalgeographic.com/magazines/pdf/060717_dom/static/img/carousel/p118.png</td></tr>\n",
       "<tr><td class=\"cell-1\" style=\"text-align:right;\">919,993</td> <td class=\"cell-2\" style=\"text-align:right;\">920,291</td> <td class=\"cell-3\" style=\"\"></td> <td class=\"cell-4\" style=\"text-align:right;\">1</td> <td class=\"cell-5\" style=\"\">http://www.nationalgeographic.com/magazines/pdf/060717_dom/indexC4.html</td> <td class=\"cell-6\" style=\"\">http://www.nationalgeographic.com/magazines/pdf/060717_dom/static/img/carousel/p118.png</td></tr>\n",
       "<tr><td class=\"cell-1\" style=\"text-align:right;\">919,993</td> <td class=\"cell-2\" style=\"text-align:right;\">920,291</td> <td class=\"cell-3\" style=\"\"></td> <td class=\"cell-4\" style=\"text-align:right;\">1</td> <td class=\"cell-5\" style=\"\">http://www.nationalgeographic.com/magazines/pdf/060717_dom/indexB6.html</td> <td class=\"cell-6\" style=\"\">http://www.nationalgeographic.com/magazines/pdf/060717_dom/static/img/carousel/p118.png</td></tr>\n",
       "<tr><td class=\"cell-1\" style=\"text-align:right;\">919,993</td> <td class=\"cell-2\" style=\"text-align:right;\">920,291</td> <td class=\"cell-3\" style=\"\"></td> <td class=\"cell-4\" style=\"text-align:right;\">1</td> <td class=\"cell-5\" style=\"\">http://www.nationalgeographic.com/magazines/pdf/060717_dom/indexC4.html</td> <td class=\"cell-6\" style=\"\">http://www.nationalgeographic.com/magazines/pdf/060717_dom/static/img/carousel/p118.png</td></tr>\n",
       "<tr><td class=\"cell-1\" style=\"text-align:right;\">919,993</td> <td class=\"cell-2\" style=\"text-align:right;\">920,291</td> <td class=\"cell-3\" style=\"\"></td> <td class=\"cell-4\" style=\"text-align:right;\">1</td> <td class=\"cell-5\" style=\"\">http://www.nationalgeographic.com/magazines/pdf/060717_dom/indexC4.html</td> <td class=\"cell-6\" style=\"\">http://www.nationalgeographic.com/magazines/pdf/060717_dom/static/img/carousel/p118.png</td></tr>\n",
       "<tr><td class=\"cell-1\" style=\"text-align:right;\">919,993</td> <td class=\"cell-2\" style=\"text-align:right;\">920,291</td> <td class=\"cell-3\" style=\"\"></td> <td class=\"cell-4\" style=\"text-align:right;\">1</td> <td class=\"cell-5\" style=\"\">http://www.nationalgeographic.com/magazines/pdf/060717_dom/indexB6.html</td> <td class=\"cell-6\" style=\"\">http://www.nationalgeographic.com/magazines/pdf/060717_dom/static/img/carousel/p118.png</td></tr>\n",
       "<tr><td class=\"cell-1\" style=\"text-align:right;\">919,993</td> <td class=\"cell-2\" style=\"text-align:right;\">920,291</td> <td class=\"cell-3\" style=\"\"></td> <td class=\"cell-4\" style=\"text-align:right;\">1</td> <td class=\"cell-5\" style=\"\">http://www.nationalgeographic.com/magazines/pdf/060717_dom/indexC4.html</td> <td class=\"cell-6\" style=\"\">http://www.nationalgeographic.com/magazines/pdf/060717_dom/static/img/carousel/p118.png</td></tr>\n",
       "<tr><td class=\"cell-1\" style=\"text-align:right;\">919,993</td> <td class=\"cell-2\" style=\"text-align:right;\">920,291</td> <td class=\"cell-3\" style=\"\"></td> <td class=\"cell-4\" style=\"text-align:right;\">1</td> <td class=\"cell-5\" style=\"\">http://www.nationalgeographic.com/magazines/pdf/060717_dom/indexB6.html</td> <td class=\"cell-6\" style=\"\">http://www.nationalgeographic.com/magazines/pdf/060717_dom/static/img/carousel/p118.png</td></tr>\n",
       "<tr><td class=\"cell-1\" style=\"text-align:right;\">919,993</td> <td class=\"cell-2\" style=\"text-align:right;\">920,290</td> <td class=\"cell-3\" style=\"\"></td> <td class=\"cell-4\" style=\"text-align:right;\">1</td> <td class=\"cell-5\" style=\"\">http://www.nationalgeographic.com/magazines/pdf/060717_dom/indexC4.html</td> <td class=\"cell-6\" style=\"\">http://www.nationalgeographic.com/magazines/pdf/060717_dom/static/img/carousel/p118.png</td></tr>\n",
       "<tr><td class=\"cell-1\" style=\"text-align:right;\">919,993</td> <td class=\"cell-2\" style=\"text-align:right;\">920,290</td> <td class=\"cell-3\" style=\"\"></td> <td class=\"cell-4\" style=\"text-align:right;\">1</td> <td class=\"cell-5\" style=\"\">http://www.nationalgeographic.com/magazines/pdf/060717_dom/indexB6.html</td> <td class=\"cell-6\" style=\"\">http://www.nationalgeographic.com/magazines/pdf/060717_dom/static/img/carousel/p118.png</td></tr>\n",
       "<tr><td class=\"cell-1\" style=\"text-align:right;\">919,993</td> <td class=\"cell-2\" style=\"text-align:right;\">920,290</td> <td class=\"cell-3\" style=\"\"></td> <td class=\"cell-4\" style=\"text-align:right;\">1</td> <td class=\"cell-5\" style=\"\">http://www.nationalgeographic.com/magazines/pdf/060717_dom/indexC4.html</td> <td class=\"cell-6\" style=\"\">http://www.nationalgeographic.com/magazines/pdf/060717_dom/static/img/carousel/p118.png</td></tr>\n",
       "<tr><td class=\"cell-1\" style=\"text-align:right;\">919,993</td> <td class=\"cell-2\" style=\"text-align:right;\">460,145</td> <td class=\"cell-3\" style=\"\"></td> <td class=\"cell-4\" style=\"text-align:right;\">2</td> <td class=\"cell-5\" style=\"\">http://www.nationalgeographic.com/magazines/pdf/060717_dom/indexB6.html</td> <td class=\"cell-6\" style=\"\">http://www.nationalgeographic.com/magazines/pdf/060717_dom/static/img/carousel/p118.png</td></tr>\n",
       "<tr><td class=\"cell-1\" style=\"text-align:right;\">919,993</td> <td class=\"cell-2\" style=\"text-align:right;\">460,145</td> <td class=\"cell-3\" style=\"\"></td> <td class=\"cell-4\" style=\"text-align:right;\">2</td> <td class=\"cell-5\" style=\"\">http://www.nationalgeographic.com/magazines/pdf/060717_dom/indexC4.html</td> <td class=\"cell-6\" style=\"\">http://www.nationalgeographic.com/magazines/pdf/060717_dom/static/img/carousel/p118.png</td></tr>\n",
       "<tr><td class=\"cell-1\" style=\"text-align:right;\">919,993</td> <td class=\"cell-2\" style=\"text-align:right;\">460,145</td> <td class=\"cell-3\" style=\"\"></td> <td class=\"cell-4\" style=\"text-align:right;\">2</td> <td class=\"cell-5\" style=\"\">http://www.nationalgeographic.com/magazines/pdf/060717_dom/indexC4.html</td> <td class=\"cell-6\" style=\"\">http://www.nationalgeographic.com/magazines/pdf/060717_dom/static/img/carousel/p118.png</td></tr>\n",
       "    \n",
       "    <tr><td class=\"cell-1\" style=\"text-align:right;\">919,993</td> <td class=\"cell-2\" style=\"text-align:right;\">460,145</td> <td class=\"cell-3\" style=\"\"></td> <td class=\"cell-4\" style=\"text-align:right;\">2</td> <td class=\"cell-5\" style=\"\">http://www.nationalgeographic.com/magazines/pdf/060717_dom/indexC4.html</td> <td class=\"cell-6\" style=\"\">http://www.nationalgeographic.com/magazines/pdf/060717_dom/static/img/carousel/p118.png</td></tr>\n",
       "<tr><td class=\"cell-1\" style=\"text-align:right;\">919,993</td> <td class=\"cell-2\" style=\"text-align:right;\">460,145</td> <td class=\"cell-3\" style=\"\"></td> <td class=\"cell-4\" style=\"text-align:right;\">2</td> <td class=\"cell-5\" style=\"\">http://www.nationalgeographic.com/magazines/pdf/060717_dom/indexA8.html</td> <td class=\"cell-6\" style=\"\">http://www.nationalgeographic.com/magazines/pdf/060717_dom/static/img/carousel/p118.png</td></tr>\n",
       "<tr><td class=\"cell-1\" style=\"text-align:right;\">919,993</td> <td class=\"cell-2\" style=\"text-align:right;\">0</td> <td class=\"cell-3\" style=\"\"></td> <td class=\"cell-4\" style=\"text-align:right;\">1</td> <td class=\"cell-5\" style=\"\">http://www.nationalgeographic.com/magazines/pdf/060717_dom/indexC4.html</td> <td class=\"cell-6\" style=\"\">http://www.nationalgeographic.com/magazines/pdf/060717_dom/static/img/carousel/p118.png</td></tr>\n",
       "<tr><td class=\"cell-1\" style=\"text-align:right;\">753,422</td> <td class=\"cell-2\" style=\"text-align:right;\">753,752</td> <td class=\"cell-3\" style=\"\"></td> <td class=\"cell-4\" style=\"text-align:right;\">1</td> <td class=\"cell-5\" style=\"\">http://www.nationalgeographic.com/magazine/2017/01</td> <td class=\"cell-6\" style=\"\">http://www.nationalgeographic.com/content/dam/magazine/rights-exempt/2017/01/gender-revolution-ngm-covers-transparent.adapt.945.1.png</td></tr>\n",
       "<tr><td class=\"cell-1\" style=\"text-align:right;\">665,840</td> <td class=\"cell-2\" style=\"text-align:right;\">666,138</td> <td class=\"cell-3\" style=\"\"></td> <td class=\"cell-4\" style=\"text-align:right;\">1</td> <td class=\"cell-5\" style=\"\">http://www.nationalgeographic.com/magazines/pdf/060717_dom/indexB6.html</td> <td class=\"cell-6\" style=\"\">http://www.nationalgeographic.com/magazines/pdf/060717_dom/static/img/carousel/p101.png</td></tr>\n",
       "<tr><td class=\"cell-1\" style=\"text-align:right;\">665,840</td> <td class=\"cell-2\" style=\"text-align:right;\">666,138</td> <td class=\"cell-3\" style=\"\"></td> <td class=\"cell-4\" style=\"text-align:right;\">1</td> <td class=\"cell-5\" style=\"\">http://www.nationalgeographic.com/magazines/pdf/060717_dom/indexB6.html</td> <td class=\"cell-6\" style=\"\">http://www.nationalgeographic.com/magazines/pdf/060717_dom/static/img/carousel/p101.png</td></tr>\n",
       "<tr><td class=\"cell-1\" style=\"text-align:right;\">665,840</td> <td class=\"cell-2\" style=\"text-align:right;\">666,138</td> <td class=\"cell-3\" style=\"\"></td> <td class=\"cell-4\" style=\"text-align:right;\">1</td> <td class=\"cell-5\" style=\"\">http://www.nationalgeographic.com/magazines/pdf/060717_dom/indexC4.html</td> <td class=\"cell-6\" style=\"\">http://www.nationalgeographic.com/magazines/pdf/060717_dom/static/img/carousel/p101.png</td></tr>\n",
       "<tr><td class=\"cell-1\" style=\"text-align:right;\">665,840</td> <td class=\"cell-2\" style=\"text-align:right;\">666,138</td> <td class=\"cell-3\" style=\"\"></td> <td class=\"cell-4\" style=\"text-align:right;\">1</td> <td class=\"cell-5\" style=\"\">http://www.nationalgeographic.com/magazines/pdf/060717_dom/indexC4.html</td> <td class=\"cell-6\" style=\"\">http://www.nationalgeographic.com/magazines/pdf/060717_dom/static/img/carousel/p101.png</td></tr>\n",
       "<tr><td class=\"cell-1\" style=\"text-align:right;\">665,840</td> <td class=\"cell-2\" style=\"text-align:right;\">666,138</td> <td class=\"cell-3\" style=\"\"></td> <td class=\"cell-4\" style=\"text-align:right;\">1</td> <td class=\"cell-5\" style=\"\">http://www.nationalgeographic.com/magazines/pdf/060717_dom/indexC4.html</td> <td class=\"cell-6\" style=\"\">http://www.nationalgeographic.com/magazines/pdf/060717_dom/static/img/carousel/p101.png</td></tr>\n",
       "<tr><td class=\"cell-1\" style=\"text-align:right;\">665,840</td> <td class=\"cell-2\" style=\"text-align:right;\">666,138</td> <td class=\"cell-3\" style=\"\"></td> <td class=\"cell-4\" style=\"text-align:right;\">1</td> <td class=\"cell-5\" style=\"\">http://www.nationalgeographic.com/magazines/pdf/060717_dom/indexC4.html</td> <td class=\"cell-6\" style=\"\">http://www.nationalgeographic.com/magazines/pdf/060717_dom/static/img/carousel/p101.png</td></tr>\n",
       "<tr><td class=\"cell-1\" style=\"text-align:right;\">665,840</td> <td class=\"cell-2\" style=\"text-align:right;\">666,138</td> <td class=\"cell-3\" style=\"\"></td> <td class=\"cell-4\" style=\"text-align:right;\">1</td> <td class=\"cell-5\" style=\"\">http://www.nationalgeographic.com/magazines/pdf/060717_dom/indexB6.html</td> <td class=\"cell-6\" style=\"\">http://www.nationalgeographic.com/magazines/pdf/060717_dom/static/img/carousel/p101.png</td></tr>\n",
       "<tr><td class=\"cell-1\" style=\"text-align:right;\">665,840</td> <td class=\"cell-2\" style=\"text-align:right;\">666,138</td> <td class=\"cell-3\" style=\"\"></td> <td class=\"cell-4\" style=\"text-align:right;\">1</td> <td class=\"cell-5\" style=\"\">http://www.nationalgeographic.com/magazines/pdf/060717_dom/indexB6.html</td> <td class=\"cell-6\" style=\"\">http://www.nationalgeographic.com/magazines/pdf/060717_dom/static/img/carousel/p101.png</td></tr>\n",
       "<tr><td class=\"cell-1\" style=\"text-align:right;\">665,840</td> <td class=\"cell-2\" style=\"text-align:right;\">666,138</td> <td class=\"cell-3\" style=\"\"></td> <td class=\"cell-4\" style=\"text-align:right;\">1</td> <td class=\"cell-5\" style=\"\">http://www.nationalgeographic.com/magazines/pdf/060717_dom/indexC4.html</td> <td class=\"cell-6\" style=\"\">http://www.nationalgeographic.com/magazines/pdf/060717_dom/static/img/carousel/p101.png</td></tr>\n",
       "<tr><td class=\"cell-1\" style=\"text-align:right;\">665,840</td> <td class=\"cell-2\" style=\"text-align:right;\">666,138</td> <td class=\"cell-3\" style=\"\"></td> <td class=\"cell-4\" style=\"text-align:right;\">1</td> <td class=\"cell-5\" style=\"\">http://www.nationalgeographic.com/magazines/pdf/060717_dom/indexC4.html</td> <td class=\"cell-6\" style=\"\">http://www.nationalgeographic.com/magazines/pdf/060717_dom/static/img/carousel/p101.png</td></tr>\n",
       "<tr><td class=\"cell-1\" style=\"text-align:right;\">665,840</td> <td class=\"cell-2\" style=\"text-align:right;\">666,138</td> <td class=\"cell-3\" style=\"\"></td> <td class=\"cell-4\" style=\"text-align:right;\">1</td> <td class=\"cell-5\" style=\"\">http://www.nationalgeographic.com/magazines/pdf/060717_dom/indexB6.html</td> <td class=\"cell-6\" style=\"\">http://www.nationalgeographic.com/magazines/pdf/060717_dom/static/img/carousel/p101.png</td></tr>\n",
       "<tr><td class=\"cell-1\" style=\"text-align:right;\">665,840</td> <td class=\"cell-2\" style=\"text-align:right;\">666,138</td> <td class=\"cell-3\" style=\"\"></td> <td class=\"cell-4\" style=\"text-align:right;\">1</td> <td class=\"cell-5\" style=\"\">http://www.nationalgeographic.com/magazines/pdf/060717_dom/indexC4.html</td> <td class=\"cell-6\" style=\"\">http://www.nationalgeographic.com/magazines/pdf/060717_dom/static/img/carousel/p101.png</td></tr>\n",
       "<tr><td class=\"cell-1\" style=\"text-align:right;\">665,840</td> <td class=\"cell-2\" style=\"text-align:right;\">666,138</td> <td class=\"cell-3\" style=\"\"></td> <td class=\"cell-4\" style=\"text-align:right;\">1</td> <td class=\"cell-5\" style=\"\">http://www.nationalgeographic.com/magazines/pdf/060717_dom/indexB6.html</td> <td class=\"cell-6\" style=\"\">http://www.nationalgeographic.com/magazines/pdf/060717_dom/static/img/carousel/p101.png</td></tr>\n",
       "<tr><td class=\"cell-1\" style=\"text-align:right;\">665,840</td> <td class=\"cell-2\" style=\"text-align:right;\">666,138</td> <td class=\"cell-3\" style=\"\"></td> <td class=\"cell-4\" style=\"text-align:right;\">1</td> <td class=\"cell-5\" style=\"\">http://www.nationalgeographic.com/magazines/pdf/060717_dom/indexC4.html</td> <td class=\"cell-6\" style=\"\">http://www.nationalgeographic.com/magazines/pdf/060717_dom/static/img/carousel/p101.png</td></tr>\n",
       "<tr><td class=\"cell-1\" style=\"text-align:right;\">665,840</td> <td class=\"cell-2\" style=\"text-align:right;\">666,138</td> <td class=\"cell-3\" style=\"\"></td> <td class=\"cell-4\" style=\"text-align:right;\">1</td> <td class=\"cell-5\" style=\"\">http://www.nationalgeographic.com/magazines/pdf/060717_dom/indexC4.html</td> <td class=\"cell-6\" style=\"\">http://www.nationalgeographic.com/magazines/pdf/060717_dom/static/img/carousel/p101.png</td></tr>\n",
       "<tr><td class=\"cell-1\" style=\"text-align:right;\">665,840</td> <td class=\"cell-2\" style=\"text-align:right;\">666,138</td> <td class=\"cell-3\" style=\"\"></td> <td class=\"cell-4\" style=\"text-align:right;\">1</td> <td class=\"cell-5\" style=\"\">http://www.nationalgeographic.com/magazines/pdf/060717_dom/indexB6.html</td> <td class=\"cell-6\" style=\"\">http://www.nationalgeographic.com/magazines/pdf/060717_dom/static/img/carousel/p101.png</td></tr>\n",
       "<tr><td class=\"cell-1\" style=\"text-align:right;\">665,840</td> <td class=\"cell-2\" style=\"text-align:right;\">666,138</td> <td class=\"cell-3\" style=\"\"></td> <td class=\"cell-4\" style=\"text-align:right;\">1</td> <td class=\"cell-5\" style=\"\">http://www.nationalgeographic.com/magazines/pdf/060717_dom/indexC4.html</td> <td class=\"cell-6\" style=\"\">http://www.nationalgeographic.com/magazines/pdf/060717_dom/static/img/carousel/p101.png</td></tr>\n",
       "<tr><td class=\"cell-1\" style=\"text-align:right;\">665,840</td> <td class=\"cell-2\" style=\"text-align:right;\">666,138</td> <td class=\"cell-3\" style=\"\"></td> <td class=\"cell-4\" style=\"text-align:right;\">1</td> <td class=\"cell-5\" style=\"\">http://www.nationalgeographic.com/magazines/pdf/060717_dom/indexB6.html</td> <td class=\"cell-6\" style=\"\">http://www.nationalgeographic.com/magazines/pdf/060717_dom/static/img/carousel/p101.png</td></tr>\n",
       "<tr><td class=\"cell-1\" style=\"text-align:right;\">665,840</td> <td class=\"cell-2\" style=\"text-align:right;\">666,137</td> <td class=\"cell-3\" style=\"\"></td> <td class=\"cell-4\" style=\"text-align:right;\">1</td> <td class=\"cell-5\" style=\"\">http://www.nationalgeographic.com/magazines/pdf/060717_dom/indexB6.html</td> <td class=\"cell-6\" style=\"\">http://www.nationalgeographic.com/magazines/pdf/060717_dom/static/img/carousel/p101.png</td></tr>\n",
       "<tr><td class=\"cell-1\" style=\"text-align:right;\">665,840</td> <td class=\"cell-2\" style=\"text-align:right;\">666,137</td> <td class=\"cell-3\" style=\"\"></td> <td class=\"cell-4\" style=\"text-align:right;\">1</td> <td class=\"cell-5\" style=\"\">http://www.nationalgeographic.com/magazines/pdf/060717_dom/indexC4.html</td> <td class=\"cell-6\" style=\"\">http://www.nationalgeographic.com/magazines/pdf/060717_dom/static/img/carousel/p101.png</td></tr>\n",
       "<tr><td class=\"cell-1\" style=\"text-align:right;\">665,840</td> <td class=\"cell-2\" style=\"text-align:right;\">666,137</td> <td class=\"cell-3\" style=\"\"></td> <td class=\"cell-4\" style=\"text-align:right;\">1</td> <td class=\"cell-5\" style=\"\">http://www.nationalgeographic.com/magazines/pdf/060717_dom/indexC4.html</td> <td class=\"cell-6\" style=\"\">http://www.nationalgeographic.com/magazines/pdf/060717_dom/static/img/carousel/p101.png</td></tr>\n",
       "    </tbody>\n"
      ],
      "text/plain": [
       "HTML{UTF8String}(\"    <table  class=\\\"dataframe-table\\\">\\n    <thead><tr><th class=\\\"cell-1\\\" style=\\\"\\\">encoded</th> <th class=\\\"cell-2\\\" style=\\\"\\\">transferred</th> <th class=\\\"cell-3\\\" style=\\\"\\\">decoded</th> <th class=\\\"cell-4\\\" style=\\\"\\\">count</th> <th class=\\\"cell-5\\\" style=\\\"\\\">urlgroup</th> <th class=\\\"cell-6\\\" style=\\\"\\\">url</th></tr></thead>\\n    <tbody>\\n    <tr><td class=\\\"cell-1\\\" style=\\\"text-align:right;\\\">2,621,481</td> <td class=\\\"cell-2\\\" style=\\\"text-align:right;\\\">1,310,906</td> <td class=\\\"cell-3\\\" style=\\\"\\\"></td> <td class=\\\"cell-4\\\" style=\\\"text-align:right;\\\">2</td> <td class=\\\"cell-5\\\" style=\\\"\\\">http://www.nationalgeographic.com/magazine/2017/01</td> <td class=\\\"cell-6\\\" style=\\\"\\\">http://www.nationalgeographic.com/content/dam/magazine/rights-exempt/2017/01/gender-revolution-ngm-covers-transparent.adapt.1900.1.png</td></tr>\\n<tr><td class=\\\"cell-1\\\" style=\\\"text-align:right;\\\">919,993</td> <td class=\\\"cell-2\\\" style=\\\"text-align:right;\\\">920,291</td> <td class=\\\"cell-3\\\" style=\\\"\\\"></td> <td class=\\\"cell-4\\\" style=\\\"text-align:right;\\\">1</td> <td class=\\\"cell-5\\\" style=\\\"\\\">http://www.nationalgeographic.com/magazines/pdf/060717_dom/indexB6.html</td> <td class=\\\"cell-6\\\" style=\\\"\\\">http://www.nationalgeographic.com/magazines/pdf/060717_dom/static/img/carousel/p118.png</td></tr>\\n<tr><td class=\\\"cell-1\\\" style=\\\"text-align:right;\\\">919,993</td> <td class=\\\"cell-2\\\" style=\\\"text-align:right;\\\">920,291</td> <td class=\\\"cell-3\\\" style=\\\"\\\"></td> <td class=\\\"cell-4\\\" style=\\\"text-align:right;\\\">1</td> <td class=\\\"cell-5\\\" style=\\\"\\\">http://www.nationalgeographic.com/magazines/pdf/060717_dom/indexB6.html</td> <td class=\\\"cell-6\\\" style=\\\"\\\">http://www.nationalgeographic.com/magazines/pdf/060717_dom/static/img/carousel/p118.png</td></tr>\\n<tr><td class=\\\"cell-1\\\" style=\\\"text-align:right;\\\">919,993</td> <td class=\\\"cell-2\\\" style=\\\"text-align:right;\\\">920,291</td> <td class=\\\"cell-3\\\" style=\\\"\\\"></td> <td class=\\\"cell-4\\\" style=\\\"text-align:right;\\\">1</td> <td class=\\\"cell-5\\\" style=\\\"\\\">http://www.nationalgeographic.com/magazines/pdf/060717_dom/indexC4.html</td> <td class=\\\"cell-6\\\" style=\\\"\\\">http://www.nationalgeographic.com/magazines/pdf/060717_dom/static/img/carousel/p118.png</td></tr>\\n<tr><td class=\\\"cell-1\\\" style=\\\"text-align:right;\\\">919,993</td> <td class=\\\"cell-2\\\" style=\\\"text-align:right;\\\">920,291</td> <td class=\\\"cell-3\\\" style=\\\"\\\"></td> <td class=\\\"cell-4\\\" style=\\\"text-align:right;\\\">1</td> <td class=\\\"cell-5\\\" style=\\\"\\\">http://www.nationalgeographic.com/magazines/pdf/060717_dom/indexC4.html</td> <td class=\\\"cell-6\\\" style=\\\"\\\">http://www.nationalgeographic.com/magazines/pdf/060717_dom/static/img/carousel/p118.png</td></tr>\\n<tr><td class=\\\"cell-1\\\" style=\\\"text-align:right;\\\">919,993</td> <td class=\\\"cell-2\\\" style=\\\"text-align:right;\\\">920,291</td> <td class=\\\"cell-3\\\" style=\\\"\\\"></td> <td class=\\\"cell-4\\\" style=\\\"text-align:right;\\\">1</td> <td class=\\\"cell-5\\\" style=\\\"\\\">http://www.nationalgeographic.com/magazines/pdf/060717_dom/indexC4.html</td> <td class=\\\"cell-6\\\" style=\\\"\\\">http://www.nationalgeographic.com/magazines/pdf/060717_dom/static/img/carousel/p118.png</td></tr>\\n<tr><td class=\\\"cell-1\\\" style=\\\"text-align:right;\\\">919,993</td> <td class=\\\"cell-2\\\" style=\\\"text-align:right;\\\">920,291</td> <td class=\\\"cell-3\\\" style=\\\"\\\"></td> <td class=\\\"cell-4\\\" style=\\\"text-align:right;\\\">1</td> <td class=\\\"cell-5\\\" style=\\\"\\\">http://www.nationalgeographic.com/magazines/pdf/060717_dom/indexB6.html</td> <td class=\\\"cell-6\\\" style=\\\"\\\">http://www.nationalgeographic.com/magazines/pdf/060717_dom/static/img/carousel/p118.png</td></tr>\\n<tr><td class=\\\"cell-1\\\" style=\\\"text-align:right;\\\">919,993</td> <td class=\\\"cell-2\\\" style=\\\"text-align:right;\\\">920,291</td> <td class=\\\"cell-3\\\" style=\\\"\\\"></td> <td class=\\\"cell-4\\\" style=\\\"text-align:right;\\\">1</td> <td class=\\\"cell-5\\\" style=\\\"\\\">http://www.nationalgeographic.com/magazines/pdf/060717_dom/indexC4.html</td> <td class=\\\"cell-6\\\" style=\\\"\\\">http://www.nationalgeographic.com/magazines/pdf/060717_dom/static/img/carousel/p118.png</td></tr>\\n<tr><td class=\\\"cell-1\\\" style=\\\"text-align:right;\\\">919,993</td> <td class=\\\"cell-2\\\" style=\\\"text-align:right;\\\">920,291</td> <td class=\\\"cell-3\\\" style=\\\"\\\"></td> <td class=\\\"cell-4\\\" style=\\\"text-align:right;\\\">1</td> <td class=\\\"cell-5\\\" style=\\\"\\\">http://www.nationalgeographic.com/magazines/pdf/060717_dom/indexB6.html</td> <td class=\\\"cell-6\\\" style=\\\"\\\">http://www.nationalgeographic.com/magazines/pdf/060717_dom/static/img/carousel/p118.png</td></tr>\\n<tr><td class=\\\"cell-1\\\" style=\\\"text-align:right;\\\">919,993</td> <td class=\\\"cell-2\\\" style=\\\"text-align:right;\\\">920,291</td> <td class=\\\"cell-3\\\" style=\\\"\\\"></td> <td class=\\\"cell-4\\\" style=\\\"text-align:right;\\\">1</td> <td class=\\\"cell-5\\\" style=\\\"\\\">http://www.nationalgeographic.com/magazines/pdf/060717_dom/indexC4.html</td> <td class=\\\"cell-6\\\" style=\\\"\\\">http://www.nationalgeographic.com/magazines/pdf/060717_dom/static/img/carousel/p118.png</td></tr>\\n<tr><td class=\\\"cell-1\\\" style=\\\"text-align:right;\\\">919,993</td> <td class=\\\"cell-2\\\" style=\\\"text-align:right;\\\">920,291</td> <td class=\\\"cell-3\\\" style=\\\"\\\"></td> <td class=\\\"cell-4\\\" style=\\\"text-align:right;\\\">1</td> <td class=\\\"cell-5\\\" style=\\\"\\\">http://www.nationalgeographic.com/magazines/pdf/060717_dom/indexB6.html</td> <td class=\\\"cell-6\\\" style=\\\"\\\">http://www.nationalgeographic.com/magazines/pdf/060717_dom/static/img/carousel/p118.png</td></tr>\\n<tr><td class=\\\"cell-1\\\" style=\\\"text-align:right;\\\">919,993</td> <td class=\\\"cell-2\\\" style=\\\"text-align:right;\\\">920,291</td> <td class=\\\"cell-3\\\" style=\\\"\\\"></td> <td class=\\\"cell-4\\\" style=\\\"text-align:right;\\\">1</td> <td class=\\\"cell-5\\\" style=\\\"\\\">http://www.nationalgeographic.com/magazines/pdf/060717_dom/indexC4.html</td> <td class=\\\"cell-6\\\" style=\\\"\\\">http://www.nationalgeographic.com/magazines/pdf/060717_dom/static/img/carousel/p118.png</td></tr>\\n<tr><td class=\\\"cell-1\\\" style=\\\"text-align:right;\\\">919,993</td> <td class=\\\"cell-2\\\" style=\\\"text-align:right;\\\">920,291</td> <td class=\\\"cell-3\\\" style=\\\"\\\"></td> <td class=\\\"cell-4\\\" style=\\\"text-align:right;\\\">1</td> <td class=\\\"cell-5\\\" style=\\\"\\\">http://www.nationalgeographic.com/magazines/pdf/060717_dom/indexC4.html</td> <td class=\\\"cell-6\\\" style=\\\"\\\">http://www.nationalgeographic.com/magazines/pdf/060717_dom/static/img/carousel/p118.png</td></tr>\\n<tr><td class=\\\"cell-1\\\" style=\\\"text-align:right;\\\">919,993</td> <td class=\\\"cell-2\\\" style=\\\"text-align:right;\\\">920,291</td> <td class=\\\"cell-3\\\" style=\\\"\\\"></td> <td class=\\\"cell-4\\\" style=\\\"text-align:right;\\\">1</td> <td class=\\\"cell-5\\\" style=\\\"\\\">http://www.nationalgeographic.com/magazines/pdf/060717_dom/indexB6.html</td> <td class=\\\"cell-6\\\" style=\\\"\\\">http://www.nationalgeographic.com/magazines/pdf/060717_dom/static/img/carousel/p118.png</td></tr>\\n<tr><td class=\\\"cell-1\\\" style=\\\"text-align:right;\\\">919,993</td> <td class=\\\"cell-2\\\" style=\\\"text-align:right;\\\">920,291</td> <td class=\\\"cell-3\\\" style=\\\"\\\"></td> <td class=\\\"cell-4\\\" style=\\\"text-align:right;\\\">1</td> <td class=\\\"cell-5\\\" style=\\\"\\\">http://www.nationalgeographic.com/magazines/pdf/060717_dom/indexC4.html</td> <td class=\\\"cell-6\\\" style=\\\"\\\">http://www.nationalgeographic.com/magazines/pdf/060717_dom/static/img/carousel/p118.png</td></tr>\\n<tr><td class=\\\"cell-1\\\" style=\\\"text-align:right;\\\">919,993</td> <td class=\\\"cell-2\\\" style=\\\"text-align:right;\\\">920,291</td> <td class=\\\"cell-3\\\" style=\\\"\\\"></td> <td class=\\\"cell-4\\\" style=\\\"text-align:right;\\\">1</td> <td class=\\\"cell-5\\\" style=\\\"\\\">http://www.nationalgeographic.com/magazines/pdf/060717_dom/indexC4.html</td> <td class=\\\"cell-6\\\" style=\\\"\\\">http://www.nationalgeographic.com/magazines/pdf/060717_dom/static/img/carousel/p118.png</td></tr>\\n<tr><td class=\\\"cell-1\\\" style=\\\"text-align:right;\\\">919,993</td> <td class=\\\"cell-2\\\" style=\\\"text-align:right;\\\">920,291</td> <td class=\\\"cell-3\\\" style=\\\"\\\"></td> <td class=\\\"cell-4\\\" style=\\\"text-align:right;\\\">1</td> <td class=\\\"cell-5\\\" style=\\\"\\\">http://www.nationalgeographic.com/magazines/pdf/060717_dom/indexB6.html</td> <td class=\\\"cell-6\\\" style=\\\"\\\">http://www.nationalgeographic.com/magazines/pdf/060717_dom/static/img/carousel/p118.png</td></tr>\\n<tr><td class=\\\"cell-1\\\" style=\\\"text-align:right;\\\">919,993</td> <td class=\\\"cell-2\\\" style=\\\"text-align:right;\\\">920,291</td> <td class=\\\"cell-3\\\" style=\\\"\\\"></td> <td class=\\\"cell-4\\\" style=\\\"text-align:right;\\\">1</td> <td class=\\\"cell-5\\\" style=\\\"\\\">http://www.nationalgeographic.com/magazines/pdf/060717_dom/indexC4.html</td> <td class=\\\"cell-6\\\" style=\\\"\\\">http://www.nationalgeographic.com/magazines/pdf/060717_dom/static/img/carousel/p118.png</td></tr>\\n<tr><td class=\\\"cell-1\\\" style=\\\"text-align:right;\\\">919,993</td> <td class=\\\"cell-2\\\" style=\\\"text-align:right;\\\">920,291</td> <td class=\\\"cell-3\\\" style=\\\"\\\"></td> <td class=\\\"cell-4\\\" style=\\\"text-align:right;\\\">1</td> <td class=\\\"cell-5\\\" style=\\\"\\\">http://www.nationalgeographic.com/magazines/pdf/060717_dom/indexB6.html</td> <td class=\\\"cell-6\\\" style=\\\"\\\">http://www.nationalgeographic.com/magazines/pdf/060717_dom/static/img/carousel/p118.png</td></tr>\\n<tr><td class=\\\"cell-1\\\" style=\\\"text-align:right;\\\">919,993</td> <td class=\\\"cell-2\\\" style=\\\"text-align:right;\\\">920,290</td> <td class=\\\"cell-3\\\" style=\\\"\\\"></td> <td class=\\\"cell-4\\\" style=\\\"text-align:right;\\\">1</td> <td class=\\\"cell-5\\\" style=\\\"\\\">http://www.nationalgeographic.com/magazines/pdf/060717_dom/indexC4.html</td> <td class=\\\"cell-6\\\" style=\\\"\\\">http://www.nationalgeographic.com/magazines/pdf/060717_dom/static/img/carousel/p118.png</td></tr>\\n<tr><td class=\\\"cell-1\\\" style=\\\"text-align:right;\\\">919,993</td> <td class=\\\"cell-2\\\" style=\\\"text-align:right;\\\">920,290</td> <td class=\\\"cell-3\\\" style=\\\"\\\"></td> <td class=\\\"cell-4\\\" style=\\\"text-align:right;\\\">1</td> <td class=\\\"cell-5\\\" style=\\\"\\\">http://www.nationalgeographic.com/magazines/pdf/060717_dom/indexB6.html</td> <td class=\\\"cell-6\\\" style=\\\"\\\">http://www.nationalgeographic.com/magazines/pdf/060717_dom/static/img/carousel/p118.png</td></tr>\\n<tr><td class=\\\"cell-1\\\" style=\\\"text-align:right;\\\">919,993</td> <td class=\\\"cell-2\\\" style=\\\"text-align:right;\\\">920,290</td> <td class=\\\"cell-3\\\" style=\\\"\\\"></td> <td class=\\\"cell-4\\\" style=\\\"text-align:right;\\\">1</td> <td class=\\\"cell-5\\\" style=\\\"\\\">http://www.nationalgeographic.com/magazines/pdf/060717_dom/indexC4.html</td> <td class=\\\"cell-6\\\" style=\\\"\\\">http://www.nationalgeographic.com/magazines/pdf/060717_dom/static/img/carousel/p118.png</td></tr>\\n<tr><td class=\\\"cell-1\\\" style=\\\"text-align:right;\\\">919,993</td> <td class=\\\"cell-2\\\" style=\\\"text-align:right;\\\">460,145</td> <td class=\\\"cell-3\\\" style=\\\"\\\"></td> <td class=\\\"cell-4\\\" style=\\\"text-align:right;\\\">2</td> <td class=\\\"cell-5\\\" style=\\\"\\\">http://www.nationalgeographic.com/magazines/pdf/060717_dom/indexB6.html</td> <td class=\\\"cell-6\\\" style=\\\"\\\">http://www.nationalgeographic.com/magazines/pdf/060717_dom/static/img/carousel/p118.png</td></tr>\\n<tr><td class=\\\"cell-1\\\" style=\\\"text-align:right;\\\">919,993</td> <td class=\\\"cell-2\\\" style=\\\"text-align:right;\\\">460,145</td> <td class=\\\"cell-3\\\" style=\\\"\\\"></td> <td class=\\\"cell-4\\\" style=\\\"text-align:right;\\\">2</td> <td class=\\\"cell-5\\\" style=\\\"\\\">http://www.nationalgeographic.com/magazines/pdf/060717_dom/indexC4.html</td> <td class=\\\"cell-6\\\" style=\\\"\\\">http://www.nationalgeographic.com/magazines/pdf/060717_dom/static/img/carousel/p118.png</td></tr>\\n<tr><td class=\\\"cell-1\\\" style=\\\"text-align:right;\\\">919,993</td> <td class=\\\"cell-2\\\" style=\\\"text-align:right;\\\">460,145</td> <td class=\\\"cell-3\\\" style=\\\"\\\"></td> <td class=\\\"cell-4\\\" style=\\\"text-align:right;\\\">2</td> <td class=\\\"cell-5\\\" style=\\\"\\\">http://www.nationalgeographic.com/magazines/pdf/060717_dom/indexC4.html</td> <td class=\\\"cell-6\\\" style=\\\"\\\">http://www.nationalgeographic.com/magazines/pdf/060717_dom/static/img/carousel/p118.png</td></tr>\\n    \\n    <tr><td class=\\\"cell-1\\\" style=\\\"text-align:right;\\\">919,993</td> <td class=\\\"cell-2\\\" style=\\\"text-align:right;\\\">460,145</td> <td class=\\\"cell-3\\\" style=\\\"\\\"></td> <td class=\\\"cell-4\\\" style=\\\"text-align:right;\\\">2</td> <td class=\\\"cell-5\\\" style=\\\"\\\">http://www.nationalgeographic.com/magazines/pdf/060717_dom/indexC4.html</td> <td class=\\\"cell-6\\\" style=\\\"\\\">http://www.nationalgeographic.com/magazines/pdf/060717_dom/static/img/carousel/p118.png</td></tr>\\n<tr><td class=\\\"cell-1\\\" style=\\\"text-align:right;\\\">919,993</td> <td class=\\\"cell-2\\\" style=\\\"text-align:right;\\\">460,145</td> <td class=\\\"cell-3\\\" style=\\\"\\\"></td> <td class=\\\"cell-4\\\" style=\\\"text-align:right;\\\">2</td> <td class=\\\"cell-5\\\" style=\\\"\\\">http://www.nationalgeographic.com/magazines/pdf/060717_dom/indexA8.html</td> <td class=\\\"cell-6\\\" style=\\\"\\\">http://www.nationalgeographic.com/magazines/pdf/060717_dom/static/img/carousel/p118.png</td></tr>\\n<tr><td class=\\\"cell-1\\\" style=\\\"text-align:right;\\\">919,993</td> <td class=\\\"cell-2\\\" style=\\\"text-align:right;\\\">0</td> <td class=\\\"cell-3\\\" style=\\\"\\\"></td> <td class=\\\"cell-4\\\" style=\\\"text-align:right;\\\">1</td> <td class=\\\"cell-5\\\" style=\\\"\\\">http://www.nationalgeographic.com/magazines/pdf/060717_dom/indexC4.html</td> <td class=\\\"cell-6\\\" style=\\\"\\\">http://www.nationalgeographic.com/magazines/pdf/060717_dom/static/img/carousel/p118.png</td></tr>\\n<tr><td class=\\\"cell-1\\\" style=\\\"text-align:right;\\\">753,422</td> <td class=\\\"cell-2\\\" style=\\\"text-align:right;\\\">753,752</td> <td class=\\\"cell-3\\\" style=\\\"\\\"></td> <td class=\\\"cell-4\\\" style=\\\"text-align:right;\\\">1</td> <td class=\\\"cell-5\\\" style=\\\"\\\">http://www.nationalgeographic.com/magazine/2017/01</td> <td class=\\\"cell-6\\\" style=\\\"\\\">http://www.nationalgeographic.com/content/dam/magazine/rights-exempt/2017/01/gender-revolution-ngm-covers-transparent.adapt.945.1.png</td></tr>\\n<tr><td class=\\\"cell-1\\\" style=\\\"text-align:right;\\\">665,840</td> <td class=\\\"cell-2\\\" style=\\\"text-align:right;\\\">666,138</td> <td class=\\\"cell-3\\\" style=\\\"\\\"></td> <td class=\\\"cell-4\\\" style=\\\"text-align:right;\\\">1</td> <td class=\\\"cell-5\\\" style=\\\"\\\">http://www.nationalgeographic.com/magazines/pdf/060717_dom/indexB6.html</td> <td class=\\\"cell-6\\\" style=\\\"\\\">http://www.nationalgeographic.com/magazines/pdf/060717_dom/static/img/carousel/p101.png</td></tr>\\n<tr><td class=\\\"cell-1\\\" style=\\\"text-align:right;\\\">665,840</td> <td class=\\\"cell-2\\\" style=\\\"text-align:right;\\\">666,138</td> <td class=\\\"cell-3\\\" style=\\\"\\\"></td> <td class=\\\"cell-4\\\" style=\\\"text-align:right;\\\">1</td> <td class=\\\"cell-5\\\" style=\\\"\\\">http://www.nationalgeographic.com/magazines/pdf/060717_dom/indexB6.html</td> <td class=\\\"cell-6\\\" style=\\\"\\\">http://www.nationalgeographic.com/magazines/pdf/060717_dom/static/img/carousel/p101.png</td></tr>\\n<tr><td class=\\\"cell-1\\\" style=\\\"text-align:right;\\\">665,840</td> <td class=\\\"cell-2\\\" style=\\\"text-align:right;\\\">666,138</td> <td class=\\\"cell-3\\\" style=\\\"\\\"></td> <td class=\\\"cell-4\\\" style=\\\"text-align:right;\\\">1</td> <td class=\\\"cell-5\\\" style=\\\"\\\">http://www.nationalgeographic.com/magazines/pdf/060717_dom/indexC4.html</td> <td class=\\\"cell-6\\\" style=\\\"\\\">http://www.nationalgeographic.com/magazines/pdf/060717_dom/static/img/carousel/p101.png</td></tr>\\n<tr><td class=\\\"cell-1\\\" style=\\\"text-align:right;\\\">665,840</td> <td class=\\\"cell-2\\\" style=\\\"text-align:right;\\\">666,138</td> <td class=\\\"cell-3\\\" style=\\\"\\\"></td> <td class=\\\"cell-4\\\" style=\\\"text-align:right;\\\">1</td> <td class=\\\"cell-5\\\" style=\\\"\\\">http://www.nationalgeographic.com/magazines/pdf/060717_dom/indexC4.html</td> <td class=\\\"cell-6\\\" style=\\\"\\\">http://www.nationalgeographic.com/magazines/pdf/060717_dom/static/img/carousel/p101.png</td></tr>\\n<tr><td class=\\\"cell-1\\\" style=\\\"text-align:right;\\\">665,840</td> <td class=\\\"cell-2\\\" style=\\\"text-align:right;\\\">666,138</td> <td class=\\\"cell-3\\\" style=\\\"\\\"></td> <td class=\\\"cell-4\\\" style=\\\"text-align:right;\\\">1</td> <td class=\\\"cell-5\\\" style=\\\"\\\">http://www.nationalgeographic.com/magazines/pdf/060717_dom/indexC4.html</td> <td class=\\\"cell-6\\\" style=\\\"\\\">http://www.nationalgeographic.com/magazines/pdf/060717_dom/static/img/carousel/p101.png</td></tr>\\n<tr><td class=\\\"cell-1\\\" style=\\\"text-align:right;\\\">665,840</td> <td class=\\\"cell-2\\\" style=\\\"text-align:right;\\\">666,138</td> <td class=\\\"cell-3\\\" style=\\\"\\\"></td> <td class=\\\"cell-4\\\" style=\\\"text-align:right;\\\">1</td> <td class=\\\"cell-5\\\" style=\\\"\\\">http://www.nationalgeographic.com/magazines/pdf/060717_dom/indexC4.html</td> <td class=\\\"cell-6\\\" style=\\\"\\\">http://www.nationalgeographic.com/magazines/pdf/060717_dom/static/img/carousel/p101.png</td></tr>\\n<tr><td class=\\\"cell-1\\\" style=\\\"text-align:right;\\\">665,840</td> <td class=\\\"cell-2\\\" style=\\\"text-align:right;\\\">666,138</td> <td class=\\\"cell-3\\\" style=\\\"\\\"></td> <td class=\\\"cell-4\\\" style=\\\"text-align:right;\\\">1</td> <td class=\\\"cell-5\\\" style=\\\"\\\">http://www.nationalgeographic.com/magazines/pdf/060717_dom/indexB6.html</td> <td class=\\\"cell-6\\\" style=\\\"\\\">http://www.nationalgeographic.com/magazines/pdf/060717_dom/static/img/carousel/p101.png</td></tr>\\n<tr><td class=\\\"cell-1\\\" style=\\\"text-align:right;\\\">665,840</td> <td class=\\\"cell-2\\\" style=\\\"text-align:right;\\\">666,138</td> <td class=\\\"cell-3\\\" style=\\\"\\\"></td> <td class=\\\"cell-4\\\" style=\\\"text-align:right;\\\">1</td> <td class=\\\"cell-5\\\" style=\\\"\\\">http://www.nationalgeographic.com/magazines/pdf/060717_dom/indexB6.html</td> <td class=\\\"cell-6\\\" style=\\\"\\\">http://www.nationalgeographic.com/magazines/pdf/060717_dom/static/img/carousel/p101.png</td></tr>\\n<tr><td class=\\\"cell-1\\\" style=\\\"text-align:right;\\\">665,840</td> <td class=\\\"cell-2\\\" style=\\\"text-align:right;\\\">666,138</td> <td class=\\\"cell-3\\\" style=\\\"\\\"></td> <td class=\\\"cell-4\\\" style=\\\"text-align:right;\\\">1</td> <td class=\\\"cell-5\\\" style=\\\"\\\">http://www.nationalgeographic.com/magazines/pdf/060717_dom/indexC4.html</td> <td class=\\\"cell-6\\\" style=\\\"\\\">http://www.nationalgeographic.com/magazines/pdf/060717_dom/static/img/carousel/p101.png</td></tr>\\n<tr><td class=\\\"cell-1\\\" style=\\\"text-align:right;\\\">665,840</td> <td class=\\\"cell-2\\\" style=\\\"text-align:right;\\\">666,138</td> <td class=\\\"cell-3\\\" style=\\\"\\\"></td> <td class=\\\"cell-4\\\" style=\\\"text-align:right;\\\">1</td> <td class=\\\"cell-5\\\" style=\\\"\\\">http://www.nationalgeographic.com/magazines/pdf/060717_dom/indexC4.html</td> <td class=\\\"cell-6\\\" style=\\\"\\\">http://www.nationalgeographic.com/magazines/pdf/060717_dom/static/img/carousel/p101.png</td></tr>\\n<tr><td class=\\\"cell-1\\\" style=\\\"text-align:right;\\\">665,840</td> <td class=\\\"cell-2\\\" style=\\\"text-align:right;\\\">666,138</td> <td class=\\\"cell-3\\\" style=\\\"\\\"></td> <td class=\\\"cell-4\\\" style=\\\"text-align:right;\\\">1</td> <td class=\\\"cell-5\\\" style=\\\"\\\">http://www.nationalgeographic.com/magazines/pdf/060717_dom/indexB6.html</td> <td class=\\\"cell-6\\\" style=\\\"\\\">http://www.nationalgeographic.com/magazines/pdf/060717_dom/static/img/carousel/p101.png</td></tr>\\n<tr><td class=\\\"cell-1\\\" style=\\\"text-align:right;\\\">665,840</td> <td class=\\\"cell-2\\\" style=\\\"text-align:right;\\\">666,138</td> <td class=\\\"cell-3\\\" style=\\\"\\\"></td> <td class=\\\"cell-4\\\" style=\\\"text-align:right;\\\">1</td> <td class=\\\"cell-5\\\" style=\\\"\\\">http://www.nationalgeographic.com/magazines/pdf/060717_dom/indexC4.html</td> <td class=\\\"cell-6\\\" style=\\\"\\\">http://www.nationalgeographic.com/magazines/pdf/060717_dom/static/img/carousel/p101.png</td></tr>\\n<tr><td class=\\\"cell-1\\\" style=\\\"text-align:right;\\\">665,840</td> <td class=\\\"cell-2\\\" style=\\\"text-align:right;\\\">666,138</td> <td class=\\\"cell-3\\\" style=\\\"\\\"></td> <td class=\\\"cell-4\\\" style=\\\"text-align:right;\\\">1</td> <td class=\\\"cell-5\\\" style=\\\"\\\">http://www.nationalgeographic.com/magazines/pdf/060717_dom/indexB6.html</td> <td class=\\\"cell-6\\\" style=\\\"\\\">http://www.nationalgeographic.com/magazines/pdf/060717_dom/static/img/carousel/p101.png</td></tr>\\n<tr><td class=\\\"cell-1\\\" style=\\\"text-align:right;\\\">665,840</td> <td class=\\\"cell-2\\\" style=\\\"text-align:right;\\\">666,138</td> <td class=\\\"cell-3\\\" style=\\\"\\\"></td> <td class=\\\"cell-4\\\" style=\\\"text-align:right;\\\">1</td> <td class=\\\"cell-5\\\" style=\\\"\\\">http://www.nationalgeographic.com/magazines/pdf/060717_dom/indexC4.html</td> <td class=\\\"cell-6\\\" style=\\\"\\\">http://www.nationalgeographic.com/magazines/pdf/060717_dom/static/img/carousel/p101.png</td></tr>\\n<tr><td class=\\\"cell-1\\\" style=\\\"text-align:right;\\\">665,840</td> <td class=\\\"cell-2\\\" style=\\\"text-align:right;\\\">666,138</td> <td class=\\\"cell-3\\\" style=\\\"\\\"></td> <td class=\\\"cell-4\\\" style=\\\"text-align:right;\\\">1</td> <td class=\\\"cell-5\\\" style=\\\"\\\">http://www.nationalgeographic.com/magazines/pdf/060717_dom/indexC4.html</td> <td class=\\\"cell-6\\\" style=\\\"\\\">http://www.nationalgeographic.com/magazines/pdf/060717_dom/static/img/carousel/p101.png</td></tr>\\n<tr><td class=\\\"cell-1\\\" style=\\\"text-align:right;\\\">665,840</td> <td class=\\\"cell-2\\\" style=\\\"text-align:right;\\\">666,138</td> <td class=\\\"cell-3\\\" style=\\\"\\\"></td> <td class=\\\"cell-4\\\" style=\\\"text-align:right;\\\">1</td> <td class=\\\"cell-5\\\" style=\\\"\\\">http://www.nationalgeographic.com/magazines/pdf/060717_dom/indexB6.html</td> <td class=\\\"cell-6\\\" style=\\\"\\\">http://www.nationalgeographic.com/magazines/pdf/060717_dom/static/img/carousel/p101.png</td></tr>\\n<tr><td class=\\\"cell-1\\\" style=\\\"text-align:right;\\\">665,840</td> <td class=\\\"cell-2\\\" style=\\\"text-align:right;\\\">666,138</td> <td class=\\\"cell-3\\\" style=\\\"\\\"></td> <td class=\\\"cell-4\\\" style=\\\"text-align:right;\\\">1</td> <td class=\\\"cell-5\\\" style=\\\"\\\">http://www.nationalgeographic.com/magazines/pdf/060717_dom/indexC4.html</td> <td class=\\\"cell-6\\\" style=\\\"\\\">http://www.nationalgeographic.com/magazines/pdf/060717_dom/static/img/carousel/p101.png</td></tr>\\n<tr><td class=\\\"cell-1\\\" style=\\\"text-align:right;\\\">665,840</td> <td class=\\\"cell-2\\\" style=\\\"text-align:right;\\\">666,138</td> <td class=\\\"cell-3\\\" style=\\\"\\\"></td> <td class=\\\"cell-4\\\" style=\\\"text-align:right;\\\">1</td> <td class=\\\"cell-5\\\" style=\\\"\\\">http://www.nationalgeographic.com/magazines/pdf/060717_dom/indexB6.html</td> <td class=\\\"cell-6\\\" style=\\\"\\\">http://www.nationalgeographic.com/magazines/pdf/060717_dom/static/img/carousel/p101.png</td></tr>\\n<tr><td class=\\\"cell-1\\\" style=\\\"text-align:right;\\\">665,840</td> <td class=\\\"cell-2\\\" style=\\\"text-align:right;\\\">666,137</td> <td class=\\\"cell-3\\\" style=\\\"\\\"></td> <td class=\\\"cell-4\\\" style=\\\"text-align:right;\\\">1</td> <td class=\\\"cell-5\\\" style=\\\"\\\">http://www.nationalgeographic.com/magazines/pdf/060717_dom/indexB6.html</td> <td class=\\\"cell-6\\\" style=\\\"\\\">http://www.nationalgeographic.com/magazines/pdf/060717_dom/static/img/carousel/p101.png</td></tr>\\n<tr><td class=\\\"cell-1\\\" style=\\\"text-align:right;\\\">665,840</td> <td class=\\\"cell-2\\\" style=\\\"text-align:right;\\\">666,137</td> <td class=\\\"cell-3\\\" style=\\\"\\\"></td> <td class=\\\"cell-4\\\" style=\\\"text-align:right;\\\">1</td> <td class=\\\"cell-5\\\" style=\\\"\\\">http://www.nationalgeographic.com/magazines/pdf/060717_dom/indexC4.html</td> <td class=\\\"cell-6\\\" style=\\\"\\\">http://www.nationalgeographic.com/magazines/pdf/060717_dom/static/img/carousel/p101.png</td></tr>\\n<tr><td class=\\\"cell-1\\\" style=\\\"text-align:right;\\\">665,840</td> <td class=\\\"cell-2\\\" style=\\\"text-align:right;\\\">666,137</td> <td class=\\\"cell-3\\\" style=\\\"\\\"></td> <td class=\\\"cell-4\\\" style=\\\"text-align:right;\\\">1</td> <td class=\\\"cell-5\\\" style=\\\"\\\">http://www.nationalgeographic.com/magazines/pdf/060717_dom/indexC4.html</td> <td class=\\\"cell-6\\\" style=\\\"\\\">http://www.nationalgeographic.com/magazines/pdf/060717_dom/static/img/carousel/p101.png</td></tr>\\n    </tbody>\\n\")"
      ]
     },
     "metadata": {},
     "output_type": "display_data"
    }
   ],
   "source": [
    "fileType= \"%png\"\n",
    "resourceSummary(UP,fileType;linesOut=linesOutput,minEncoded=minimumEncoded)\n",
    "resourceSizes2(UP,fileType;linesOut=linesOutput,minEncoded=minimumEncoded)\n",
    ";\n",
    "#resourceSizes(localTable,tableRt,\"%png\";linesOut=linesOutput,minEncoded=minimumEncoded)"
   ]
  },
  {
   "cell_type": "code",
   "execution_count": 26,
   "metadata": {
    "collapsed": false,
    "input_collapsed": false
   },
   "outputs": [
    {
     "data": {
      "text/html": [
       "<div class=\"dswbOutputText\"><h1 class=\"chart_title\" style=\"color:#ccc\">Mobile Big Pages Details (Min 500000 KB), File Type %svg</h1><h3 class=\"chart_info\" style=\"color:#ccc\">June 7, 2017 23:59:00 to June 8, 2017 23:59:00 Local Time</h3></div>"
      ]
     },
     "metadata": {},
     "output_type": "display_data"
    },
    {
     "data": {
      "text/html": [
       "    <table  class=\"dataframe-table\">\n",
       "    <thead><tr></tr></thead>\n",
       "    <tbody>\n",
       "    \n",
       "    \n",
       "    \n",
       "    </tbody>\n"
      ],
      "text/plain": [
       "HTML{UTF8String}(\"    <table  class=\\\"dataframe-table\\\">\\n    <thead><tr></tr></thead>\\n    <tbody>\\n    \\n    \\n    \\n    </tbody>\\n\")"
      ]
     },
     "metadata": {},
     "output_type": "display_data"
    },
    {
     "data": {
      "text/html": [
       "    <table  class=\"dataframe-table\">\n",
       "    <thead><tr></tr></thead>\n",
       "    <tbody>\n",
       "    \n",
       "    \n",
       "    \n",
       "    </tbody>\n"
      ],
      "text/plain": [
       "HTML{UTF8String}(\"    <table  class=\\\"dataframe-table\\\">\\n    <thead><tr></tr></thead>\\n    <tbody>\\n    \\n    \\n    \\n    </tbody>\\n\")"
      ]
     },
     "metadata": {},
     "output_type": "display_data"
    }
   ],
   "source": [
    "fileType= \"%svg\"\n",
    "resourceSummary(UP,fileType;linesOut=linesOutput,minEncoded=minimumEncoded)\n",
    "resourceSizes2(UP,fileType;linesOut=linesOutput,minEncoded=minimumEncoded)\n",
    ";\n",
    "#resourceSizes(localTable,tableRt,\"%svg\";linesOut=linesOutput,minEncoded=minimumEncoded)"
   ]
  },
  {
   "cell_type": "code",
   "execution_count": 27,
   "metadata": {
    "collapsed": false,
    "input_collapsed": false
   },
   "outputs": [
    {
     "data": {
      "text/html": [
       "<div class=\"dswbOutputText\"><h1 class=\"chart_title\" style=\"color:#ccc\">Mobile Big Pages Details (Min 500000 KB), File Type %mp3</h1><h3 class=\"chart_info\" style=\"color:#ccc\">June 7, 2017 23:59:00 to June 8, 2017 23:59:00 Local Time</h3></div>"
      ]
     },
     "metadata": {},
     "output_type": "display_data"
    },
    {
     "data": {
      "text/html": [
       "    <table  class=\"dataframe-table\">\n",
       "    <thead><tr><th class=\"cell-1\" style=\"\">encoded</th> <th class=\"cell-2\" style=\"\">transferred</th> <th class=\"cell-3\" style=\"\">decoded</th> <th class=\"cell-4\" style=\"\">user agent os</th> <th class=\"cell-5\" style=\"\">user agent family</th> <th class=\"cell-6\" style=\"\">count</th></tr></thead>\n",
       "    <tbody>\n",
       "    <tr><td class=\"cell-1\" style=\"text-align:right;\">2,031,350</td> <td class=\"cell-2\" style=\"text-align:right;\">2,077,796</td> <td class=\"cell-3\" style=\"\"></td> <td class=\"cell-4\" style=\"\">Android OS</td> <td class=\"cell-5\" style=\"\">Chrome Mobile</td> <td class=\"cell-6\" style=\"text-align:right;\">10</td></tr>\n",
       "    \n",
       "    \n",
       "    </tbody>\n"
      ],
      "text/plain": [
       "HTML{UTF8String}(\"    <table  class=\\\"dataframe-table\\\">\\n    <thead><tr><th class=\\\"cell-1\\\" style=\\\"\\\">encoded</th> <th class=\\\"cell-2\\\" style=\\\"\\\">transferred</th> <th class=\\\"cell-3\\\" style=\\\"\\\">decoded</th> <th class=\\\"cell-4\\\" style=\\\"\\\">user agent os</th> <th class=\\\"cell-5\\\" style=\\\"\\\">user agent family</th> <th class=\\\"cell-6\\\" style=\\\"\\\">count</th></tr></thead>\\n    <tbody>\\n    <tr><td class=\\\"cell-1\\\" style=\\\"text-align:right;\\\">2,031,350</td> <td class=\\\"cell-2\\\" style=\\\"text-align:right;\\\">2,077,796</td> <td class=\\\"cell-3\\\" style=\\\"\\\"></td> <td class=\\\"cell-4\\\" style=\\\"\\\">Android OS</td> <td class=\\\"cell-5\\\" style=\\\"\\\">Chrome Mobile</td> <td class=\\\"cell-6\\\" style=\\\"text-align:right;\\\">10</td></tr>\\n    \\n    \\n    </tbody>\\n\")"
      ]
     },
     "metadata": {},
     "output_type": "display_data"
    },
    {
     "data": {
      "text/html": [
       "    <table  class=\"dataframe-table\">\n",
       "    <thead><tr></tr></thead>\n",
       "    <tbody>\n",
       "    \n",
       "    \n",
       "    \n",
       "    </tbody>\n"
      ],
      "text/plain": [
       "HTML{UTF8String}(\"    <table  class=\\\"dataframe-table\\\">\\n    <thead><tr></tr></thead>\\n    <tbody>\\n    \\n    \\n    \\n    </tbody>\\n\")"
      ]
     },
     "metadata": {},
     "output_type": "display_data"
    }
   ],
   "source": [
    "fileType= \"%mp3\"\n",
    "resourceSummary(UP,fileType;linesOut=linesOutput,minEncoded=minimumEncoded)\n",
    "resourceSizes2(UP,fileType;linesOut=linesOutput,minEncoded=minimumEncoded)\n",
    ";\n",
    "#resourceSizes(localTable,tableRt,\"%mp4\";linesOut=linesOutput,minEncoded=minimumEncoded)"
   ]
  },
  {
   "cell_type": "code",
   "execution_count": 28,
   "metadata": {
    "collapsed": false,
    "input_collapsed": false
   },
   "outputs": [
    {
     "data": {
      "text/html": [
       "<div class=\"dswbOutputText\"><h1 class=\"chart_title\" style=\"color:#ccc\">Mobile Big Pages Details (Min 500000 KB), File Type %mp4</h1><h3 class=\"chart_info\" style=\"color:#ccc\">June 7, 2017 23:59:00 to June 8, 2017 23:59:00 Local Time</h3></div>"
      ]
     },
     "metadata": {},
     "output_type": "display_data"
    },
    {
     "data": {
      "text/html": [
       "    <table  class=\"dataframe-table\">\n",
       "    <thead><tr><th class=\"cell-1\" style=\"\">encoded</th> <th class=\"cell-2\" style=\"\">transferred</th> <th class=\"cell-3\" style=\"\">decoded</th> <th class=\"cell-4\" style=\"\">user agent os</th> <th class=\"cell-5\" style=\"\">user agent family</th> <th class=\"cell-6\" style=\"\">count</th></tr></thead>\n",
       "    <tbody>\n",
       "    <tr><td class=\"cell-1\" style=\"text-align:right;\">1,061,659</td> <td class=\"cell-2\" style=\"text-align:right;\">916,820</td> <td class=\"cell-3\" style=\"\"></td> <td class=\"cell-4\" style=\"\">Android OS</td> <td class=\"cell-5\" style=\"\">Chrome Mobile</td> <td class=\"cell-6\" style=\"text-align:right;\">49</td></tr>\n",
       "    \n",
       "    \n",
       "    </tbody>\n"
      ],
      "text/plain": [
       "HTML{UTF8String}(\"    <table  class=\\\"dataframe-table\\\">\\n    <thead><tr><th class=\\\"cell-1\\\" style=\\\"\\\">encoded</th> <th class=\\\"cell-2\\\" style=\\\"\\\">transferred</th> <th class=\\\"cell-3\\\" style=\\\"\\\">decoded</th> <th class=\\\"cell-4\\\" style=\\\"\\\">user agent os</th> <th class=\\\"cell-5\\\" style=\\\"\\\">user agent family</th> <th class=\\\"cell-6\\\" style=\\\"\\\">count</th></tr></thead>\\n    <tbody>\\n    <tr><td class=\\\"cell-1\\\" style=\\\"text-align:right;\\\">1,061,659</td> <td class=\\\"cell-2\\\" style=\\\"text-align:right;\\\">916,820</td> <td class=\\\"cell-3\\\" style=\\\"\\\"></td> <td class=\\\"cell-4\\\" style=\\\"\\\">Android OS</td> <td class=\\\"cell-5\\\" style=\\\"\\\">Chrome Mobile</td> <td class=\\\"cell-6\\\" style=\\\"text-align:right;\\\">49</td></tr>\\n    \\n    \\n    </tbody>\\n\")"
      ]
     },
     "metadata": {},
     "output_type": "display_data"
    },
    {
     "data": {
      "text/html": [
       "    <table  class=\"dataframe-table\">\n",
       "    <thead><tr></tr></thead>\n",
       "    <tbody>\n",
       "    \n",
       "    \n",
       "    \n",
       "    </tbody>\n"
      ],
      "text/plain": [
       "HTML{UTF8String}(\"    <table  class=\\\"dataframe-table\\\">\\n    <thead><tr></tr></thead>\\n    <tbody>\\n    \\n    \\n    \\n    </tbody>\\n\")"
      ]
     },
     "metadata": {},
     "output_type": "display_data"
    }
   ],
   "source": [
    "fileType= \"%mp4\"\n",
    "resourceSummary(UP,fileType;linesOut=linesOutput,minEncoded=minimumEncoded)\n",
    "resourceSizes2(UP,fileType;linesOut=linesOutput,minEncoded=minimumEncoded)\n",
    ";\n",
    "#resourceSizes(localTable,tableRt,\"%mp4\";linesOut=linesOutput,minEncoded=minimumEncoded)"
   ]
  },
  {
   "cell_type": "code",
   "execution_count": 29,
   "metadata": {
    "collapsed": false,
    "input_collapsed": false
   },
   "outputs": [
    {
     "data": {
      "text/html": [
       "<div class=\"dswbOutputText\"><h1 class=\"chart_title\" style=\"color:#ccc\">Mobile Big Pages Details (Min 500000 KB), File Type %gif</h1><h3 class=\"chart_info\" style=\"color:#ccc\">June 7, 2017 23:59:00 to June 8, 2017 23:59:00 Local Time</h3></div>"
      ]
     },
     "metadata": {},
     "output_type": "display_data"
    },
    {
     "data": {
      "text/html": [
       "    <table  class=\"dataframe-table\">\n",
       "    <thead><tr><th class=\"cell-1\" style=\"\">encoded</th> <th class=\"cell-2\" style=\"\">transferred</th> <th class=\"cell-3\" style=\"\">decoded</th> <th class=\"cell-4\" style=\"\">user agent os</th> <th class=\"cell-5\" style=\"\">user agent family</th> <th class=\"cell-6\" style=\"\">count</th></tr></thead>\n",
       "    <tbody>\n",
       "    <tr><td class=\"cell-1\" style=\"text-align:right;\">1,351,488</td> <td class=\"cell-2\" style=\"text-align:right;\">1,102,289</td> <td class=\"cell-3\" style=\"\"></td> <td class=\"cell-4\" style=\"\">Android OS</td> <td class=\"cell-5\" style=\"\">Chrome Mobile</td> <td class=\"cell-6\" style=\"text-align:right;\">22</td></tr>\n",
       "    \n",
       "    \n",
       "    </tbody>\n"
      ],
      "text/plain": [
       "HTML{UTF8String}(\"    <table  class=\\\"dataframe-table\\\">\\n    <thead><tr><th class=\\\"cell-1\\\" style=\\\"\\\">encoded</th> <th class=\\\"cell-2\\\" style=\\\"\\\">transferred</th> <th class=\\\"cell-3\\\" style=\\\"\\\">decoded</th> <th class=\\\"cell-4\\\" style=\\\"\\\">user agent os</th> <th class=\\\"cell-5\\\" style=\\\"\\\">user agent family</th> <th class=\\\"cell-6\\\" style=\\\"\\\">count</th></tr></thead>\\n    <tbody>\\n    <tr><td class=\\\"cell-1\\\" style=\\\"text-align:right;\\\">1,351,488</td> <td class=\\\"cell-2\\\" style=\\\"text-align:right;\\\">1,102,289</td> <td class=\\\"cell-3\\\" style=\\\"\\\"></td> <td class=\\\"cell-4\\\" style=\\\"\\\">Android OS</td> <td class=\\\"cell-5\\\" style=\\\"\\\">Chrome Mobile</td> <td class=\\\"cell-6\\\" style=\\\"text-align:right;\\\">22</td></tr>\\n    \\n    \\n    </tbody>\\n\")"
      ]
     },
     "metadata": {},
     "output_type": "display_data"
    },
    {
     "data": {
      "text/html": [
       "    <table  class=\"dataframe-table\">\n",
       "    <thead><tr></tr></thead>\n",
       "    <tbody>\n",
       "    \n",
       "    \n",
       "    \n",
       "    </tbody>\n"
      ],
      "text/plain": [
       "HTML{UTF8String}(\"    <table  class=\\\"dataframe-table\\\">\\n    <thead><tr></tr></thead>\\n    <tbody>\\n    \\n    \\n    \\n    </tbody>\\n\")"
      ]
     },
     "metadata": {},
     "output_type": "display_data"
    }
   ],
   "source": [
    "fileType= \"%gif\"\n",
    "resourceSummary(UP,fileType;linesOut=linesOutput,minEncoded=minimumEncoded)\n",
    "resourceSizes2(UP,fileType;linesOut=linesOutput,minEncoded=minimumEncoded)\n",
    ";\n",
    "#resourceSizes(localTable,tableRt,\"%gif\";linesOut=linesOutput,minEncoded=minimumEncoded)"
   ]
  },
  {
   "cell_type": "code",
   "execution_count": 30,
   "metadata": {
    "collapsed": false,
    "input_collapsed": false
   },
   "outputs": [
    {
     "data": {
      "text/html": [
       "<div class=\"dswbOutputText\"><h1 class=\"chart_title\" style=\"color:#ccc\">Mobile Big Pages Details (Min 500000 KB), File Type %wav</h1><h3 class=\"chart_info\" style=\"color:#ccc\">June 7, 2017 23:59:00 to June 8, 2017 23:59:00 Local Time</h3></div>"
      ]
     },
     "metadata": {},
     "output_type": "display_data"
    },
    {
     "data": {
      "text/html": [
       "    <table  class=\"dataframe-table\">\n",
       "    <thead><tr></tr></thead>\n",
       "    <tbody>\n",
       "    \n",
       "    \n",
       "    \n",
       "    </tbody>\n"
      ],
      "text/plain": [
       "HTML{UTF8String}(\"    <table  class=\\\"dataframe-table\\\">\\n    <thead><tr></tr></thead>\\n    <tbody>\\n    \\n    \\n    \\n    </tbody>\\n\")"
      ]
     },
     "metadata": {},
     "output_type": "display_data"
    },
    {
     "data": {
      "text/html": [
       "    <table  class=\"dataframe-table\">\n",
       "    <thead><tr></tr></thead>\n",
       "    <tbody>\n",
       "    \n",
       "    \n",
       "    \n",
       "    </tbody>\n"
      ],
      "text/plain": [
       "HTML{UTF8String}(\"    <table  class=\\\"dataframe-table\\\">\\n    <thead><tr></tr></thead>\\n    <tbody>\\n    \\n    \\n    \\n    </tbody>\\n\")"
      ]
     },
     "metadata": {},
     "output_type": "display_data"
    }
   ],
   "source": [
    "fileType= \"%wav\"\n",
    "resourceSummary(UP,fileType;linesOut=linesOutput,minEncoded=minimumEncoded)\n",
    "resourceSizes2(UP,fileType;linesOut=linesOutput,minEncoded=minimumEncoded)\n",
    ";\n",
    "#resourceSizes(localTable,tableRt,\"%wav\";linesOut=linesOutput,minEncoded=minimumEncoded)"
   ]
  },
  {
   "cell_type": "code",
   "execution_count": 31,
   "metadata": {
    "collapsed": false,
    "input_collapsed": false
   },
   "outputs": [
    {
     "data": {
      "text/html": [
       "<div class=\"dswbOutputText\"><h1 class=\"chart_title\" style=\"color:#ccc\">Mobile Big Pages Details (Min 500000 KB), File Type %jog</h1><h3 class=\"chart_info\" style=\"color:#ccc\">June 7, 2017 23:59:00 to June 8, 2017 23:59:00 Local Time</h3></div>"
      ]
     },
     "metadata": {},
     "output_type": "display_data"
    },
    {
     "data": {
      "text/html": [
       "    <table  class=\"dataframe-table\">\n",
       "    <thead><tr></tr></thead>\n",
       "    <tbody>\n",
       "    \n",
       "    \n",
       "    \n",
       "    </tbody>\n"
      ],
      "text/plain": [
       "HTML{UTF8String}(\"    <table  class=\\\"dataframe-table\\\">\\n    <thead><tr></tr></thead>\\n    <tbody>\\n    \\n    \\n    \\n    </tbody>\\n\")"
      ]
     },
     "metadata": {},
     "output_type": "display_data"
    },
    {
     "data": {
      "text/html": [
       "    <table  class=\"dataframe-table\">\n",
       "    <thead><tr></tr></thead>\n",
       "    <tbody>\n",
       "    \n",
       "    \n",
       "    \n",
       "    </tbody>\n"
      ],
      "text/plain": [
       "HTML{UTF8String}(\"    <table  class=\\\"dataframe-table\\\">\\n    <thead><tr></tr></thead>\\n    <tbody>\\n    \\n    \\n    \\n    </tbody>\\n\")"
      ]
     },
     "metadata": {},
     "output_type": "display_data"
    }
   ],
   "source": [
    "fileType= \"%jog\"\n",
    "resourceSummary(UP,fileType;linesOut=linesOutput,minEncoded=minimumEncoded)\n",
    "resourceSizes2(UP,fileType;linesOut=linesOutput,minEncoded=minimumEncoded)\n",
    ";\n",
    "#resourceSizes(localTable,tableRt,\"%jog\";linesOut=linesOutput,minEncoded=minimumEncoded)"
   ]
  },
  {
   "cell_type": "code",
   "execution_count": 32,
   "metadata": {
    "collapsed": false,
    "input_collapsed": false,
    "scrolled": false
   },
   "outputs": [
    {
     "data": {
      "text/html": [
       "<div class=\"dswbOutputText\"><h1 class=\"chart_title\" style=\"color:#ccc\">Mobile Big Pages Details (Min 500000 KB), File Type %js</h1><h3 class=\"chart_info\" style=\"color:#ccc\">June 7, 2017 23:59:00 to June 8, 2017 23:59:00 Local Time</h3></div>"
      ]
     },
     "metadata": {},
     "output_type": "display_data"
    },
    {
     "data": {
      "text/html": [
       "    <table  class=\"dataframe-table\">\n",
       "    <thead><tr><th class=\"cell-1\" style=\"\">encoded</th> <th class=\"cell-2\" style=\"\">transferred</th> <th class=\"cell-3\" style=\"\">decoded</th> <th class=\"cell-4\" style=\"\">user agent os</th> <th class=\"cell-5\" style=\"\">user agent family</th> <th class=\"cell-6\" style=\"\">count</th></tr></thead>\n",
       "    <tbody>\n",
       "    <tr><td class=\"cell-1\" style=\"text-align:right;\">825,585</td> <td class=\"cell-2\" style=\"text-align:right;\">413,187</td> <td class=\"cell-3\" style=\"\"></td> <td class=\"cell-4\" style=\"\">Android OS</td> <td class=\"cell-5\" style=\"\">Chrome Mobile</td> <td class=\"cell-6\" style=\"text-align:right;\">8</td></tr>\n",
       "    \n",
       "    \n",
       "    </tbody>\n"
      ],
      "text/plain": [
       "HTML{UTF8String}(\"    <table  class=\\\"dataframe-table\\\">\\n    <thead><tr><th class=\\\"cell-1\\\" style=\\\"\\\">encoded</th> <th class=\\\"cell-2\\\" style=\\\"\\\">transferred</th> <th class=\\\"cell-3\\\" style=\\\"\\\">decoded</th> <th class=\\\"cell-4\\\" style=\\\"\\\">user agent os</th> <th class=\\\"cell-5\\\" style=\\\"\\\">user agent family</th> <th class=\\\"cell-6\\\" style=\\\"\\\">count</th></tr></thead>\\n    <tbody>\\n    <tr><td class=\\\"cell-1\\\" style=\\\"text-align:right;\\\">825,585</td> <td class=\\\"cell-2\\\" style=\\\"text-align:right;\\\">413,187</td> <td class=\\\"cell-3\\\" style=\\\"\\\"></td> <td class=\\\"cell-4\\\" style=\\\"\\\">Android OS</td> <td class=\\\"cell-5\\\" style=\\\"\\\">Chrome Mobile</td> <td class=\\\"cell-6\\\" style=\\\"text-align:right;\\\">8</td></tr>\\n    \\n    \\n    </tbody>\\n\")"
      ]
     },
     "metadata": {},
     "output_type": "display_data"
    },
    {
     "data": {
      "text/html": [
       "    <table  class=\"dataframe-table\">\n",
       "    <thead><tr><th class=\"cell-1\" style=\"\">encoded</th> <th class=\"cell-2\" style=\"\">transferred</th> <th class=\"cell-3\" style=\"\">decoded</th> <th class=\"cell-4\" style=\"\">count</th> <th class=\"cell-5\" style=\"\">urlgroup</th> <th class=\"cell-6\" style=\"\">url</th></tr></thead>\n",
       "    <tbody>\n",
       "    <tr><td class=\"cell-1\" style=\"text-align:right;\">830,310</td> <td class=\"cell-2\" style=\"text-align:right;\">415,671</td> <td class=\"cell-3\" style=\"\"></td> <td class=\"cell-4\" style=\"text-align:right;\">2</td> <td class=\"cell-5\" style=\"\">http://www.nationalgeographic.com/magazine/2017/06/lying-hoax-false-fibs-science</td> <td class=\"cell-6\" style=\"\">http://www.nationalgeographic.com/etc/designs/platform/v2/scripts/ngs-vendor.ngsversion.4b73f110.js</td></tr>\n",
       "<tr><td class=\"cell-1\" style=\"text-align:right;\">830,310</td> <td class=\"cell-2\" style=\"text-align:right;\">415,432</td> <td class=\"cell-3\" style=\"\"></td> <td class=\"cell-4\" style=\"text-align:right;\">2</td> <td class=\"cell-5\" style=\"\">http://www.nationalgeographic.com/magazine/2002/04/afghan-girl-revealed</td> <td class=\"cell-6\" style=\"\">http://www.nationalgeographic.com/etc/designs/platform/v2/scripts/ngs-vendor.ngsversion.4b73f110.js</td></tr>\n",
       "    \n",
       "    <tr><td class=\"cell-1\" style=\"text-align:right;\">820,860</td> <td class=\"cell-2\" style=\"text-align:right;\">410,940</td> <td class=\"cell-3\" style=\"\"></td> <td class=\"cell-4\" style=\"text-align:right;\">2</td> <td class=\"cell-5\" style=\"\">http://www.nationalgeographic.com/magazine/2017/06/lying-hoax-false-fibs-science</td> <td class=\"cell-6\" style=\"\">http://www.nationalgeographic.com/etc/designs/platform/v2/scripts/ngs-global.ngsversion.4b73f110.js</td></tr>\n",
       "<tr><td class=\"cell-1\" style=\"text-align:right;\">820,860</td> <td class=\"cell-2\" style=\"text-align:right;\">410,707</td> <td class=\"cell-3\" style=\"\"></td> <td class=\"cell-4\" style=\"text-align:right;\">2</td> <td class=\"cell-5\" style=\"\">http://www.nationalgeographic.com/magazine/2002/04/afghan-girl-revealed</td> <td class=\"cell-6\" style=\"\">http://www.nationalgeographic.com/etc/designs/platform/v2/scripts/ngs-global.ngsversion.4b73f110.js</td></tr>\n",
       "    </tbody>\n"
      ],
      "text/plain": [
       "HTML{UTF8String}(\"    <table  class=\\\"dataframe-table\\\">\\n    <thead><tr><th class=\\\"cell-1\\\" style=\\\"\\\">encoded</th> <th class=\\\"cell-2\\\" style=\\\"\\\">transferred</th> <th class=\\\"cell-3\\\" style=\\\"\\\">decoded</th> <th class=\\\"cell-4\\\" style=\\\"\\\">count</th> <th class=\\\"cell-5\\\" style=\\\"\\\">urlgroup</th> <th class=\\\"cell-6\\\" style=\\\"\\\">url</th></tr></thead>\\n    <tbody>\\n    <tr><td class=\\\"cell-1\\\" style=\\\"text-align:right;\\\">830,310</td> <td class=\\\"cell-2\\\" style=\\\"text-align:right;\\\">415,671</td> <td class=\\\"cell-3\\\" style=\\\"\\\"></td> <td class=\\\"cell-4\\\" style=\\\"text-align:right;\\\">2</td> <td class=\\\"cell-5\\\" style=\\\"\\\">http://www.nationalgeographic.com/magazine/2017/06/lying-hoax-false-fibs-science</td> <td class=\\\"cell-6\\\" style=\\\"\\\">http://www.nationalgeographic.com/etc/designs/platform/v2/scripts/ngs-vendor.ngsversion.4b73f110.js</td></tr>\\n<tr><td class=\\\"cell-1\\\" style=\\\"text-align:right;\\\">830,310</td> <td class=\\\"cell-2\\\" style=\\\"text-align:right;\\\">415,432</td> <td class=\\\"cell-3\\\" style=\\\"\\\"></td> <td class=\\\"cell-4\\\" style=\\\"text-align:right;\\\">2</td> <td class=\\\"cell-5\\\" style=\\\"\\\">http://www.nationalgeographic.com/magazine/2002/04/afghan-girl-revealed</td> <td class=\\\"cell-6\\\" style=\\\"\\\">http://www.nationalgeographic.com/etc/designs/platform/v2/scripts/ngs-vendor.ngsversion.4b73f110.js</td></tr>\\n    \\n    <tr><td class=\\\"cell-1\\\" style=\\\"text-align:right;\\\">820,860</td> <td class=\\\"cell-2\\\" style=\\\"text-align:right;\\\">410,940</td> <td class=\\\"cell-3\\\" style=\\\"\\\"></td> <td class=\\\"cell-4\\\" style=\\\"text-align:right;\\\">2</td> <td class=\\\"cell-5\\\" style=\\\"\\\">http://www.nationalgeographic.com/magazine/2017/06/lying-hoax-false-fibs-science</td> <td class=\\\"cell-6\\\" style=\\\"\\\">http://www.nationalgeographic.com/etc/designs/platform/v2/scripts/ngs-global.ngsversion.4b73f110.js</td></tr>\\n<tr><td class=\\\"cell-1\\\" style=\\\"text-align:right;\\\">820,860</td> <td class=\\\"cell-2\\\" style=\\\"text-align:right;\\\">410,707</td> <td class=\\\"cell-3\\\" style=\\\"\\\"></td> <td class=\\\"cell-4\\\" style=\\\"text-align:right;\\\">2</td> <td class=\\\"cell-5\\\" style=\\\"\\\">http://www.nationalgeographic.com/magazine/2002/04/afghan-girl-revealed</td> <td class=\\\"cell-6\\\" style=\\\"\\\">http://www.nationalgeographic.com/etc/designs/platform/v2/scripts/ngs-global.ngsversion.4b73f110.js</td></tr>\\n    </tbody>\\n\")"
      ]
     },
     "metadata": {},
     "output_type": "display_data"
    }
   ],
   "source": [
    "fileType= \"%js\"\n",
    "resourceSummary(UP,fileType;linesOut=linesOutput,minEncoded=minimumEncoded)\n",
    "resourceSizes2(UP,fileType;linesOut=linesOutput,minEncoded=minimumEncoded)\n",
    ";\n",
    "#resourceSizes(localTable,tableRt,\"%js\";linesOut=linesOutput,minEncoded=minimumEncoded)"
   ]
  },
  {
   "cell_type": "code",
   "execution_count": 33,
   "metadata": {
    "collapsed": false,
    "input_collapsed": false,
    "scrolled": false
   },
   "outputs": [
    {
     "data": {
      "text/html": [
       "<div class=\"dswbOutputText\"><h1 class=\"chart_title\" style=\"color:#ccc\">Mobile Big Pages Details (Min 500000 KB), File Type %.js?%</h1><h3 class=\"chart_info\" style=\"color:#ccc\">June 7, 2017 23:59:00 to June 8, 2017 23:59:00 Local Time</h3></div>"
      ]
     },
     "metadata": {},
     "output_type": "display_data"
    },
    {
     "data": {
      "text/html": [
       "    <table  class=\"dataframe-table\">\n",
       "    <thead><tr></tr></thead>\n",
       "    <tbody>\n",
       "    \n",
       "    \n",
       "    \n",
       "    </tbody>\n"
      ],
      "text/plain": [
       "HTML{UTF8String}(\"    <table  class=\\\"dataframe-table\\\">\\n    <thead><tr></tr></thead>\\n    <tbody>\\n    \\n    \\n    \\n    </tbody>\\n\")"
      ]
     },
     "metadata": {},
     "output_type": "display_data"
    },
    {
     "data": {
      "text/html": [
       "    <table  class=\"dataframe-table\">\n",
       "    <thead><tr></tr></thead>\n",
       "    <tbody>\n",
       "    \n",
       "    \n",
       "    \n",
       "    </tbody>\n"
      ],
      "text/plain": [
       "HTML{UTF8String}(\"    <table  class=\\\"dataframe-table\\\">\\n    <thead><tr></tr></thead>\\n    <tbody>\\n    \\n    \\n    \\n    </tbody>\\n\")"
      ]
     },
     "metadata": {},
     "output_type": "display_data"
    }
   ],
   "source": [
    "fileType= \"%.js?%\"\n",
    "resourceSummary(UP,fileType;linesOut=linesOutput,minEncoded=minimumEncoded)\n",
    "resourceSizes2(UP,fileType;linesOut=linesOutput,minEncoded=minimumEncoded)\n",
    ";\n",
    "#resourceSizes(localTable,tableRt,\"%.js?%\";linesOut=linesOutput,minEncoded=minimumEncoded)"
   ]
  },
  {
   "cell_type": "code",
   "execution_count": 34,
   "metadata": {
    "collapsed": false,
    "input_collapsed": false
   },
   "outputs": [
    {
     "data": {
      "text/html": [
       "<div class=\"dswbOutputText\"><h1 class=\"chart_title\" style=\"color:#ccc\">Mobile Big Pages Details (Min 500000 KB), File Type %css</h1><h3 class=\"chart_info\" style=\"color:#ccc\">June 7, 2017 23:59:00 to June 8, 2017 23:59:00 Local Time</h3></div>"
      ]
     },
     "metadata": {},
     "output_type": "display_data"
    },
    {
     "data": {
      "text/html": [
       "    <table  class=\"dataframe-table\">\n",
       "    <thead><tr></tr></thead>\n",
       "    <tbody>\n",
       "    \n",
       "    \n",
       "    \n",
       "    </tbody>\n"
      ],
      "text/plain": [
       "HTML{UTF8String}(\"    <table  class=\\\"dataframe-table\\\">\\n    <thead><tr></tr></thead>\\n    <tbody>\\n    \\n    \\n    \\n    </tbody>\\n\")"
      ]
     },
     "metadata": {},
     "output_type": "display_data"
    },
    {
     "data": {
      "text/html": [
       "    <table  class=\"dataframe-table\">\n",
       "    <thead><tr></tr></thead>\n",
       "    <tbody>\n",
       "    \n",
       "    \n",
       "    \n",
       "    </tbody>\n"
      ],
      "text/plain": [
       "HTML{UTF8String}(\"    <table  class=\\\"dataframe-table\\\">\\n    <thead><tr></tr></thead>\\n    <tbody>\\n    \\n    \\n    \\n    </tbody>\\n\")"
      ]
     },
     "metadata": {},
     "output_type": "display_data"
    }
   ],
   "source": [
    "fileType= \"%css\"\n",
    "resourceSummary(UP,fileType;linesOut=linesOutput,minEncoded=minimumEncoded)\n",
    "resourceSizes2(UP,fileType;linesOut=linesOutput,minEncoded=minimumEncoded)\n",
    ";\n",
    "#resourceSizes(localTable,tableRt,\"%css\";linesOut=linesOutput,minEncoded=minimumEncoded)"
   ]
  },
  {
   "cell_type": "code",
   "execution_count": 35,
   "metadata": {
    "collapsed": false,
    "input_collapsed": false,
    "scrolled": true
   },
   "outputs": [
    {
     "data": {
      "text/html": [
       "<div class=\"dswbOutputText\"><h1 class=\"chart_title\" style=\"color:#ccc\">Mobile Big Pages Details (Min 500000 KB), File Type %ttf</h1><h3 class=\"chart_info\" style=\"color:#ccc\">June 7, 2017 23:59:00 to June 8, 2017 23:59:00 Local Time</h3></div>"
      ]
     },
     "metadata": {},
     "output_type": "display_data"
    },
    {
     "data": {
      "text/html": [
       "    <table  class=\"dataframe-table\">\n",
       "    <thead><tr></tr></thead>\n",
       "    <tbody>\n",
       "    \n",
       "    \n",
       "    \n",
       "    </tbody>\n"
      ],
      "text/plain": [
       "HTML{UTF8String}(\"    <table  class=\\\"dataframe-table\\\">\\n    <thead><tr></tr></thead>\\n    <tbody>\\n    \\n    \\n    \\n    </tbody>\\n\")"
      ]
     },
     "metadata": {},
     "output_type": "display_data"
    },
    {
     "data": {
      "text/html": [
       "    <table  class=\"dataframe-table\">\n",
       "    <thead><tr></tr></thead>\n",
       "    <tbody>\n",
       "    \n",
       "    \n",
       "    \n",
       "    </tbody>\n"
      ],
      "text/plain": [
       "HTML{UTF8String}(\"    <table  class=\\\"dataframe-table\\\">\\n    <thead><tr></tr></thead>\\n    <tbody>\\n    \\n    \\n    \\n    </tbody>\\n\")"
      ]
     },
     "metadata": {},
     "output_type": "display_data"
    }
   ],
   "source": [
    "fileType= \"%ttf\"\n",
    "resourceSummary(UP,fileType;linesOut=linesOutput,minEncoded=minimumEncoded)\n",
    "resourceSizes2(UP,fileType;linesOut=linesOutput,minEncoded=minimumEncoded)\n",
    ";\n",
    "#resourceSizes(localTable,tableRt,\"%css\";linesOut=linesOutput,minEncoded=minimumEncoded)"
   ]
  },
  {
   "cell_type": "code",
   "execution_count": 36,
   "metadata": {
    "collapsed": false,
    "input_collapsed": false
   },
   "outputs": [
    {
     "data": {
      "text/html": [
       "<div class=\"dswbOutputText\"><h1 class=\"chart_title\" style=\"color:#ccc\">Mobile Big Pages Details (Min 500000 KB), File Type %woff%</h1><h3 class=\"chart_info\" style=\"color:#ccc\">June 7, 2017 23:59:00 to June 8, 2017 23:59:00 Local Time</h3></div>"
      ]
     },
     "metadata": {},
     "output_type": "display_data"
    },
    {
     "data": {
      "text/html": [
       "    <table  class=\"dataframe-table\">\n",
       "    <thead><tr></tr></thead>\n",
       "    <tbody>\n",
       "    \n",
       "    \n",
       "    \n",
       "    </tbody>\n"
      ],
      "text/plain": [
       "HTML{UTF8String}(\"    <table  class=\\\"dataframe-table\\\">\\n    <thead><tr></tr></thead>\\n    <tbody>\\n    \\n    \\n    \\n    </tbody>\\n\")"
      ]
     },
     "metadata": {},
     "output_type": "display_data"
    },
    {
     "data": {
      "text/html": [
       "    <table  class=\"dataframe-table\">\n",
       "    <thead><tr></tr></thead>\n",
       "    <tbody>\n",
       "    \n",
       "    \n",
       "    \n",
       "    </tbody>\n"
      ],
      "text/plain": [
       "HTML{UTF8String}(\"    <table  class=\\\"dataframe-table\\\">\\n    <thead><tr></tr></thead>\\n    <tbody>\\n    \\n    \\n    \\n    </tbody>\\n\")"
      ]
     },
     "metadata": {},
     "output_type": "display_data"
    }
   ],
   "source": [
    "fileType= \"%woff%\"\n",
    "resourceSummary(UP,fileType;linesOut=linesOutput,minEncoded=minimumEncoded)\n",
    "resourceSizes2(UP,fileType;linesOut=linesOutput,minEncoded=minimumEncoded)\n",
    ";\n",
    "#resourceSizes(localTable,tableRt,\"%css\";linesOut=linesOutput,minEncoded=minimumEncoded)"
   ]
  },
  {
   "cell_type": "code",
   "execution_count": 37,
   "metadata": {
    "collapsed": false,
    "input_collapsed": false,
    "scrolled": false
   },
   "outputs": [
    {
     "name": "stdout",
     "output_type": "stream",
     "text": [
      "lookForLeftOversALR Exception InterruptException()\n"
     ]
    }
   ],
   "source": [
    "lookForLeftOversALR(UP,linesOutput)\n",
    ";"
   ]
  },
  {
   "cell_type": "code",
   "execution_count": null,
   "metadata": {
    "collapsed": true,
    "input_collapsed": true
   },
   "outputs": [],
   "source": []
  },
  {
   "cell_type": "code",
   "execution_count": null,
   "metadata": {
    "collapsed": false,
    "input_collapsed": false,
    "scrolled": false
   },
   "outputs": [],
   "source": [
    "\n",
    "lookForLeftOversDetailsALR(UP,linesOutput)\n",
    ";"
   ]
  },
  {
   "cell_type": "code",
   "execution_count": null,
   "metadata": {
    "collapsed": true,
    "input_collapsed": false
   },
   "outputs": [],
   "source": [
    "q = query(\"\"\" drop view if exists $(UP.btView);\"\"\")\n",
    ";"
   ]
  }
 ],
 "metadata": {
  "kernelspec": {
   "display_name": "Julia 0.4.7",
   "language": "julia",
   "name": "julia-0.4"
  },
  "language_info": {
   "file_extension": ".jl",
   "mimetype": "application/julia",
   "name": "julia",
   "version": "0.4.7"
  },
  "library_version": "1.0.0",
  "notebook_uuid": "3a192055-a2d2-4500-8726-e3878bc410f3",
  "readOnly": false
 },
 "nbformat": 4,
 "nbformat_minor": 0
}
