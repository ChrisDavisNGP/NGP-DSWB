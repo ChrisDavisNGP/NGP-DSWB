{
 "cells": [
  {
   "cell_type": "code",
   "execution_count": 1,
   "metadata": {
    "collapsed": false,
    "input_collapsed": false
   },
   "outputs": [
    {
     "name": "stdout",
     "output_type": "stream",
     "text": [
      "Redshift endpoint set: 2017-11-28T14:10:36\n"
     ]
    }
   ],
   "source": [
    "using ODBC\n",
    "using DataFrames\n",
    "using DSWB\n",
    "using Formatting\n",
    "\n",
    "dsn = \"dswb-natgeo\" # Redshift esetTable(tableRt, tableType = \"RESOURCE_TABLE\")ndpoint\n",
    "table = \"beacons_4744\" # beacon table name\n",
    "tableRt = \"beacons_4744_rt\"\n",
    "\n",
    "# Connect to Beacon Data\n",
    "setRedshiftEndpoint(dsn)\n",
    "setTable(tableRt, tableType = \"RESOURCE_TABLE\")\n",
    "setTable(table)\n",
    ";"
   ]
  },
  {
   "cell_type": "code",
   "execution_count": 17,
   "metadata": {
    "collapsed": false,
    "input_collapsed": false
   },
   "outputs": [],
   "source": [
    "include(\"../../Lib/Include-Package-v2.1.jl\")\n",
    "include(\"AEM-Large-Resources-Body-v2.0.jl\")\n",
    ";"
   ]
  },
  {
   "cell_type": "code",
   "execution_count": 18,
   "metadata": {
    "collapsed": false,
    "input_collapsed": false
   },
   "outputs": [
    {
     "name": "stdout",
     "output_type": "stream",
     "text": [
      "November 27, 2017 06:59:00 to November 27, 2017 16:59:00 Local Time\n",
      "November 27, 2017 11:59:00 to November 27, 2017 21:59:00 UTC Time\n"
     ]
    }
   ],
   "source": [
    "#TV = timeVariables(2017,6,7,10,0,2017,6,7,10,59)\n",
    "#TV = weeklyTimeVariables(days=3)\n",
    "TV = yesterdayTimeVariables()\n",
    ";"
   ]
  },
  {
   "cell_type": "code",
   "execution_count": 19,
   "metadata": {
    "collapsed": false,
    "input_collapsed": false
   },
   "outputs": [],
   "source": [
    "UP = UrlParamsInit()\n",
    "UP.agentOs = \"%\"\n",
    "UP.btView = \"$(table)_Large_Resources_view\" #localtable\n",
    "UP.deviceType = \"Mobile\"\n",
    "UP.limitRows = 250\n",
    "UP.orderBy = \"time\"\n",
    "UP.pageGroup = \"Magazine AEM\"   #productPageGroup\n",
    "UP.rtView = \"$(tableRt)_Large_Resources_view\" #localtableRt\n",
    "UP.samplesMin = 10\n",
    "UP.sizeMin = 10000\n",
    "UP.timeLowerMs = 2000.0\n",
    "UP.timeUpperMs = 600000.0\n",
    "UP.urlRegEx = \"%\"   #localUrl\n",
    "UP.urlFull = \"%\"\n",
    "UP.usePageLoad=false\n",
    "UrlParamsValidate(UP)\n",
    "\n",
    "SP = ShowParamsInit()\n",
    "SP.criticalPathOnly=true\n",
    "SP.desktop=true\n",
    "SP.devView=false\n",
    "SP.debug=true\n",
    "SP.debugLevel = 10   # Tests use even numbers with > tests, make this an odd number or zero\n",
    "SP.mobile=true\n",
    "#SP.showLines = 300\n",
    "SP.showLines = 50\n",
    "ShowParamsValidate(SP)\n",
    "\n",
    "linesOutput = 50\n",
    "minimumEncoded = 500000\n",
    ";"
   ]
  },
  {
   "cell_type": "code",
   "execution_count": 20,
   "metadata": {
    "collapsed": false,
    "input_collapsed": false
   },
   "outputs": [
    {
     "name": "stdout",
     "output_type": "stream",
     "text": [
      "Low=2000 High=600000\n",
      "beacons_4744_Large_Resources_view count is 5075\n"
     ]
    }
   ],
   "source": [
    "defaultBeaconView(TV,UP,SP)\n",
    ";"
   ]
  },
  {
   "cell_type": "code",
   "execution_count": 21,
   "metadata": {
    "collapsed": false,
    "input_collapsed": false,
    "scrolled": false
   },
   "outputs": [
    {
     "data": {
      "text/html": [
       "<div class=\"dswbOutputText\"><h1 class=\"chart_title\" style=\"color:#ccc\">Mobile Big Pages Details (Min 500000 KB), File Type %jpg</h1><h3 class=\"chart_info\" style=\"color:#ccc\">November 27, 2017 06:59:00 to November 27, 2017 16:59:00 Local Time</h3></div>"
      ]
     },
     "metadata": {},
     "output_type": "display_data"
    },
    {
     "data": {
      "text/html": [
       "    <table  class=\"dataframe-table\">\n",
       "    <thead><tr></tr></thead>\n",
       "    <tbody>\n",
       "    \n",
       "    \n",
       "    \n",
       "    </tbody>\n"
      ],
      "text/plain": [
       "HTML{UTF8String}(\"    <table  class=\\\"dataframe-table\\\">\\n    <thead><tr></tr></thead>\\n    <tbody>\\n    \\n    \\n    \\n    </tbody>\\n\")"
      ]
     },
     "metadata": {},
     "output_type": "display_data"
    },
    {
     "data": {
      "text/html": [
       "    <table  class=\"dataframe-table\">\n",
       "    <thead><tr></tr></thead>\n",
       "    <tbody>\n",
       "    \n",
       "    \n",
       "    \n",
       "    </tbody>\n"
      ],
      "text/plain": [
       "HTML{UTF8String}(\"    <table  class=\\\"dataframe-table\\\">\\n    <thead><tr></tr></thead>\\n    <tbody>\\n    \\n    \\n    \\n    </tbody>\\n\")"
      ]
     },
     "metadata": {},
     "output_type": "display_data"
    }
   ],
   "source": [
    "fileType= \"%jpg\"\n",
    "bigPageSizeDetails(TV,UP,SP,fileType;minEncoded=minimumEncoded)\n",
    ";"
   ]
  },
  {
   "cell_type": "code",
   "execution_count": null,
   "metadata": {
    "collapsed": false,
    "input_collapsed": true
   },
   "outputs": [
    {
     "data": {
      "text/html": [
       "<div class=\"dswbOutputText\"><h1 class=\"chart_title\" style=\"color:#ccc\">Mobile Big Pages Details (Min 500000 KB), File Type %png</h1><h3 class=\"chart_info\" style=\"color:#ccc\">November 27, 2017 06:59:00 to November 27, 2017 16:59:00 Local Time</h3></div>"
      ]
     },
     "metadata": {},
     "output_type": "display_data"
    },
    {
     "data": {
      "text/html": [
       "    <table  class=\"dataframe-table\">\n",
       "    <thead><tr><th class=\"cell-1\" style=\"\">encoded</th> <th class=\"cell-2\" style=\"\">transferred</th> <th class=\"cell-3\" style=\"\">decoded</th> <th class=\"cell-4\" style=\"\">user agent os</th> <th class=\"cell-5\" style=\"\">user agent family</th> <th class=\"cell-6\" style=\"\">count</th></tr></thead>\n",
       "    <tbody>\n",
       "    <tr><td class=\"cell-1\" style=\"text-align:right;\">1,203,442</td> <td class=\"cell-2\" style=\"text-align:right;\">1,203,813</td> <td class=\"cell-3\" style=\"\"></td> <td class=\"cell-4\" style=\"\">Android OS</td> <td class=\"cell-5\" style=\"\">Chrome Mobile</td> <td class=\"cell-6\" style=\"text-align:right;\">1</td></tr>\n",
       "    \n",
       "    \n",
       "    </tbody>\n"
      ],
      "text/plain": [
       "HTML{UTF8String}(\"    <table  class=\\\"dataframe-table\\\">\\n    <thead><tr><th class=\\\"cell-1\\\" style=\\\"\\\">encoded</th> <th class=\\\"cell-2\\\" style=\\\"\\\">transferred</th> <th class=\\\"cell-3\\\" style=\\\"\\\">decoded</th> <th class=\\\"cell-4\\\" style=\\\"\\\">user agent os</th> <th class=\\\"cell-5\\\" style=\\\"\\\">user agent family</th> <th class=\\\"cell-6\\\" style=\\\"\\\">count</th></tr></thead>\\n    <tbody>\\n    <tr><td class=\\\"cell-1\\\" style=\\\"text-align:right;\\\">1,203,442</td> <td class=\\\"cell-2\\\" style=\\\"text-align:right;\\\">1,203,813</td> <td class=\\\"cell-3\\\" style=\\\"\\\"></td> <td class=\\\"cell-4\\\" style=\\\"\\\">Android OS</td> <td class=\\\"cell-5\\\" style=\\\"\\\">Chrome Mobile</td> <td class=\\\"cell-6\\\" style=\\\"text-align:right;\\\">1</td></tr>\\n    \\n    \\n    </tbody>\\n\")"
      ]
     },
     "metadata": {},
     "output_type": "display_data"
    },
    {
     "data": {
      "text/html": [
       "    <table  class=\"dataframe-table\">\n",
       "    <thead><tr><th class=\"cell-1\" style=\"\">encoded</th> <th class=\"cell-2\" style=\"\">transferred</th> <th class=\"cell-3\" style=\"\">decoded</th> <th class=\"cell-4\" style=\"\">count</th> <th class=\"cell-5\" style=\"\">urlgroup</th> <th class=\"cell-6\" style=\"\">url</th></tr></thead>\n",
       "    <tbody>\n",
       "    <tr><td class=\"cell-1\" style=\"text-align:right;\">1,203,442</td> <td class=\"cell-2\" style=\"text-align:right;\">1,203,813</td> <td class=\"cell-3\" style=\"\"></td> <td class=\"cell-4\" style=\"text-align:right;\">1</td> <td class=\"cell-5\" style=\"\">https://www.nationalgeographic.com/magazine</td> <td class=\"cell-6\" style=\"\">https://www.nationalgeographic.com/content/dam/magazine/rights-exempt/subs/three-covers-jesus.adapt.1900.1.png</td></tr>\n",
       "    \n",
       "    \n",
       "    </tbody>\n"
      ],
      "text/plain": [
       "HTML{UTF8String}(\"    <table  class=\\\"dataframe-table\\\">\\n    <thead><tr><th class=\\\"cell-1\\\" style=\\\"\\\">encoded</th> <th class=\\\"cell-2\\\" style=\\\"\\\">transferred</th> <th class=\\\"cell-3\\\" style=\\\"\\\">decoded</th> <th class=\\\"cell-4\\\" style=\\\"\\\">count</th> <th class=\\\"cell-5\\\" style=\\\"\\\">urlgroup</th> <th class=\\\"cell-6\\\" style=\\\"\\\">url</th></tr></thead>\\n    <tbody>\\n    <tr><td class=\\\"cell-1\\\" style=\\\"text-align:right;\\\">1,203,442</td> <td class=\\\"cell-2\\\" style=\\\"text-align:right;\\\">1,203,813</td> <td class=\\\"cell-3\\\" style=\\\"\\\"></td> <td class=\\\"cell-4\\\" style=\\\"text-align:right;\\\">1</td> <td class=\\\"cell-5\\\" style=\\\"\\\">https://www.nationalgeographic.com/magazine</td> <td class=\\\"cell-6\\\" style=\\\"\\\">https://www.nationalgeographic.com/content/dam/magazine/rights-exempt/subs/three-covers-jesus.adapt.1900.1.png</td></tr>\\n    \\n    \\n    </tbody>\\n\")"
      ]
     },
     "metadata": {},
     "output_type": "display_data"
    }
   ],
   "source": [
    "bigPageSizeDetails(TV,UP,SP,\"%png\";minEncoded=minimumEncoded);\n",
    "bigPageSizeDetails(TV,UP,SP,\"%svg\";minEncoded=minimumEncoded);\n",
    "bigPageSizeDetails(TV,UP,SP,\"%mp3\";minEncoded=minimumEncoded);\n",
    "bigPageSizeDetails(TV,UP,SP,\"%mp4\";minEncoded=minimumEncoded);\n",
    "bigPageSizeDetails(TV,UP,SP,\"%gif\";minEncoded=minimumEncoded);\n",
    "bigPageSizeDetails(TV,UP,SP,\"%wav\";minEncoded=minimumEncoded);\n",
    "bigPageSizeDetails(TV,UP,SP,\"%jog\";minEncoded=minimumEncoded);\n",
    "bigPageSizeDetails(TV,UP,SP,\"%js\";minEncoded=minimumEncoded);\n",
    "bigPageSizeDetails(TV,UP,SP,\"%js?%\";minEncoded=minimumEncoded);\n",
    "bigPageSizeDetails(TV,UP,SP,\"%css\";minEncoded=minimumEncoded);\n",
    "bigPageSizeDetails(TV,UP,SP,\"%ttf\";minEncoded=minimumEncoded);\n",
    "bigPageSizeDetails(TV,UP,SP,\"%woff\";minEncoded=minimumEncoded);"
   ]
  },
  {
   "cell_type": "code",
   "execution_count": 37,
   "metadata": {
    "collapsed": false,
    "input_collapsed": false,
    "scrolled": false
   },
   "outputs": [
    {
     "name": "stdout",
     "output_type": "stream",
     "text": [
      "lookForLeftOversALR Exception InterruptException()\n"
     ]
    }
   ],
   "source": [
    "lookForLeftOversALR(UP,linesOutput)\n",
    ";"
   ]
  },
  {
   "cell_type": "code",
   "execution_count": null,
   "metadata": {
    "collapsed": true,
    "input_collapsed": true
   },
   "outputs": [],
   "source": []
  },
  {
   "cell_type": "code",
   "execution_count": null,
   "metadata": {
    "collapsed": false,
    "input_collapsed": false,
    "scrolled": false
   },
   "outputs": [],
   "source": [
    "\n",
    "lookForLeftOversDetailsALR(UP,linesOutput)\n",
    ";"
   ]
  },
  {
   "cell_type": "code",
   "execution_count": null,
   "metadata": {
    "collapsed": true,
    "input_collapsed": false
   },
   "outputs": [],
   "source": [
    "q = query(\"\"\" drop view if exists $(UP.btView);\"\"\")\n",
    ";"
   ]
  }
 ],
 "metadata": {
  "kernelspec": {
   "display_name": "Julia 0.4.7",
   "language": "julia",
   "name": "julia-0.4"
  },
  "language_info": {
   "file_extension": ".jl",
   "mimetype": "application/julia",
   "name": "julia",
   "version": "0.4.7"
  },
  "library_version": "1.0.0",
  "notebook_uuid": "3a192055-a2d2-4500-8726-e3878bc410f3",
  "readOnly": false
 },
 "nbformat": 4,
 "nbformat_minor": 0
}
