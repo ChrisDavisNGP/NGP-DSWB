{
 "cells": [
  {
   "cell_type": "markdown",
   "metadata": {},
   "source": [
    "## Tables and Data Source setup"
   ]
  },
  {
   "cell_type": "code",
   "execution_count": null,
   "metadata": {
    "input_collapsed": false,
    "scrolled": true
   },
   "outputs": [],
   "source": [
    "using ODBC\n",
    "using DataFrames\n",
    "using DSWB\n",
    "using Formatting\n",
    "\n",
    "dsn = \"dswb-natgeo\" # Redshift endpoint\n",
    "table = \"beacons_4744\" # beacon table name\n",
    "tableRt = \"beacons_4744_rt\"\n",
    "\n",
    "# Connect to Beacon Data\n",
    "setRedshiftEndpoint(dsn)\n",
    "setTable(table)\n",
    "# setTable(tableRt, tableType = \"RESOURCE_TABLE\")"
   ]
  },
  {
   "cell_type": "code",
   "execution_count": null,
   "metadata": {
    "input_collapsed": false
   },
   "outputs": [],
   "source": [
    "# Packages\n",
    "include(\"../Lib/Include-Package-v2.0.jl\")\n",
    "include(\"Find-A-Page-View-Spike-Body-v2.0.jl\")\n",
    "\n",
    "#timeVariables(2017,7,15,23,59,2017,7,16,23,59)\n",
    "weeklyTimeVariables(days=7)\n",
    "#yesterdayTimeVariables()\n",
    ";"
   ]
  },
  {
   "cell_type": "code",
   "execution_count": null,
   "metadata": {
    "input_collapsed": false,
    "scrolled": true
   },
   "outputs": [],
   "source": [
    "UP = UrlParamsInit()\n",
    "UP.beaconTable = table   #table\n",
    "UP.resourceTable = tableRt\n",
    "UP.btView = \"$(table)_spike_pview_prod\" #localtable\n",
    "UP.rtView = \"$(tableRt)_spike_pview_prod\" #localtableRt\n",
    "UP.pageGroup = \"Your Shot\"   #productPageGroup\n",
    "UP.urlRegEx = \"%\"   #localUrl\n",
    "UP.deviceType = \"%\"\n",
    "\n",
    "SG = SoastaGraphsInit()\n",
    "customer = \"Nat Geo\" \n",
    "SG.customer = customer\n",
    ";"
   ]
  },
  {
   "cell_type": "code",
   "execution_count": 4,
   "metadata": {
    "input_collapsed": false
   },
   "outputs": [
    {
     "data": {
      "text/html": [
       "<table class=\"data-frame\"><tr><th></th><th>First Beacon</th><th>Last Beacon</th></tr><tr><th>1</th><td>2017-09-13T03:59:00</td><td>2017-09-13T23:59:59</td></tr></table>"
      ],
      "text/plain": [
       "1x2 DataFrames.DataFrame\n",
       "│ Row │ First Beacon        │ Last Beacon         │\n",
       "┝━━━━━┿━━━━━━━━━━━━━━━━━━━━━┿━━━━━━━━━━━━━━━━━━━━━┥\n",
       "│ 1   │ 2017-09-13T03:59:00 │ 2017-09-13T23:59:59 │"
      ]
     },
     "execution_count": 4,
     "metadata": {},
     "output_type": "execute_result"
    }
   ],
   "source": [
    "firstAndLastFAPVSB(tv,UP)"
   ]
  },
  {
   "cell_type": "code",
   "execution_count": 5,
   "metadata": {
    "input_collapsed": false,
    "scrolled": false
   },
   "outputs": [
    {
     "data": {
      "text/html": [
       "<div class=\"dswbOutputText\">\n",
       "    <strong><span class=\"chart_info\" style=\"color:#B1D6ED;\">Using session timeout value of 30 minutes...</strong>\n",
       "</div>\n"
      ]
     },
     "metadata": {},
     "output_type": "display_data"
    },
    {
     "data": {
      "text/html": [
       "<div class=\"dswbOutputText\"><h1 class=\"chart_title\" style=\"color:#ccc\">Concurrent Sessions and Beacons by hour</h1><h3 class=\"chart_info\" style=\"color:#ccc\">September 13, 2017 03:59:00 to September 14, 2017 03:59:00</h3><h5 class=\"chart_lastCalled\" style=\"color:#ccc\">Run at September 14, 2017 19:53:08</h5></div>"
      ]
     },
     "metadata": {},
     "output_type": "display_data"
    },
    {
     "data": {
      "text/html": [
       "    <iframe id=\"timeSeries-DRGVMOGYNSDKMQBGYYYQOVICSHGEGPGM\" class=\"dswbiframe\" width=\"100%\" height=\"600\" src=\"about:blank\" scrolling=\"no\"></iframe>\n",
       "    <script>\n",
       "    (function() {\n",
       "        var iframe = document.getElementById(\"timeSeries-DRGVMOGYNSDKMQBGYYYQOVICSHGEGPGM\");\n",
       "        iframe.timeSeriesRendererLoaded = function(runner) {\n",
       "            iframe.runner = runner;\n",
       "            iframe.runner([[\"x\",\"2017-09-13 03:00:00\",\"2017-09-13 04:00:00\",\"2017-09-13 05:00:00\",\"2017-09-13 06:00:00\",\"2017-09-13 07:00:00\",\"2017-09-13 08:00:00\",\"2017-09-13 09:00:00\",\"2017-09-13 10:00:00\",\"2017-09-13 11:00:00\",\"2017-09-13 12:00:00\",\"2017-09-13 13:00:00\",\"2017-09-13 14:00:00\",\"2017-09-13 15:00:00\",\"2017-09-13 16:00:00\",\"2017-09-13 17:00:00\",\"2017-09-13 18:00:00\",\"2017-09-13 19:00:00\",\"2017-09-13 20:00:00\",\"2017-09-13 21:00:00\",\"2017-09-13 22:00:00\",\"2017-09-13 23:00:00\"],[\"data1\",60,1479,1444,1433,1325,1409,1368,1436,1628,1760,1958,1967,1951,1908,1905,1794,1721,1590,1443,1181,1121],[\"data2\",99,6797,6136,5463,5546,5444,5833,6382,6869,7444,8427,8109,8461,8587,8799,8799,8142,6615,5870,4888,4480]],\n",
       "                [\"Sessions\",\"Beacons\"],\n",
       "                [\"hour\",\"Concurrent Sessions\",\"Beacon Count\"],\n",
       "                [\"area-spline\",\"bar\"],\n",
       "                [\"hsla(28, 100%, 86%, 0.9)\",\"hsla(197, 70%, 73%, 0.9)\"],\n",
       "                [],\n",
       "                [\"data2\"],\n",
       "                \"    .c3-line {\\n        stroke: #039BE5;\\n    }\\n\\n    .c3-area {\\n        opacity:0.4;\\n    }\\n\\n    .c3 text {\\n        stroke: #979797 !important;\\n    }\\n\",\n",
       "                [],\n",
       "                {\"point_r\":0,\"axis_y_min\":0,\"axis_x_tick_culling_max\":20,\"axis_y2_min\":0}\n",
       "            );\n",
       "        }\n",
       "        iframe.src = \"/static/graphs/templates/c3Viz_template.html#id=timeSeries-DRGVMOGYNSDKMQBGYYYQOVICSHGEGPGM\";\n",
       "    }());\n",
       "    </script>\n"
      ]
     },
     "metadata": {},
     "output_type": "display_data"
    }
   ],
   "source": [
    "sessionsBeaconsFAPVSB(tv,UP)"
   ]
  },
  {
   "cell_type": "code",
   "execution_count": 6,
   "metadata": {
    "input_collapsed": false,
    "scrolled": false
   },
   "outputs": [
    {
     "data": {
      "text/html": [
       "<div class=\"dswbOutputText\"><h1 class=\"chart_title\" style=\"color:#ccc\">Median Load Times</h1><h3 class=\"chart_info\" style=\"color:#ccc\">September 13, 2017 03:59:00 to September 14, 2017 03:59:00</h3><h5 class=\"chart_lastCalled\" style=\"color:#ccc\">Run at September 14, 2017 19:53:14</h5></div>"
      ]
     },
     "metadata": {},
     "output_type": "display_data"
    },
    {
     "data": {
      "text/html": [
       "    <iframe id=\"timeSeries-LHJRSHFKMJXTREIISOBFGALPWILJLSDI\" class=\"dswbiframe\" width=\"100%\" height=\"600\" src=\"about:blank\" scrolling=\"no\"></iframe>\n",
       "    <script>\n",
       "    (function() {\n",
       "        var iframe = document.getElementById(\"timeSeries-LHJRSHFKMJXTREIISOBFGALPWILJLSDI\");\n",
       "        iframe.timeSeriesRendererLoaded = function(runner) {\n",
       "            iframe.runner = runner;\n",
       "            iframe.runner([[\"x\",\"September 13, 2017 03:00:00\",\"September 13, 2017 04:00:00\",\"September 13, 2017 05:00:00\",\"September 13, 2017 06:00:00\",\"September 13, 2017 07:00:00\",\"September 13, 2017 08:00:00\",\"September 13, 2017 09:00:00\",\"September 13, 2017 10:00:00\",\"September 13, 2017 11:00:00\",\"September 13, 2017 12:00:00\",\"September 13, 2017 13:00:00\",\"September 13, 2017 14:00:00\",\"September 13, 2017 15:00:00\",\"September 13, 2017 16:00:00\",\"September 13, 2017 17:00:00\",\"September 13, 2017 18:00:00\",\"September 13, 2017 19:00:00\",\"September 13, 2017 20:00:00\",\"September 13, 2017 21:00:00\",\"September 13, 2017 22:00:00\",\"September 13, 2017 23:00:00\",\"September 14, 2017 00:00:00\",\"September 14, 2017 01:00:00\",\"September 14, 2017 02:00:00\",\"September 14, 2017 03:00:00\"],[\"data1\",686.5,702.0,752.0,891.0,757.0,812.0,775.0,774.0,809.0,754.0,780.0,750.5,725.0,815.0,763.0,760.0,749.0,663.0,636.0,611.0,632.0,null,null,null,null],[\"data2\",3278.0,3610.0,4114.5,4175.0,3773.5,4063.0,4059.0,4118.5,3959.0,3685.5,3784.0,3782.5,3713.0,3719.0,3691.0,3389.0,3233.5,3725.5,3323.0,3189.0,3238.0,null,null,null,null],[\"data3\",3750.0,4409.0,4975.0,5409.0,4647.5,5097.0,4936.0,4944.5,5146.0,4467.5,4646.0,4576.0,4452.0,4523.0,4550.0,4215.0,4000.0,4399.0,3992.0,3850.0,3951.5,null,null,null,null]],\n",
       "                [\"Back-end Load Time\",\"Front-end Load Time\",\"Full Page Load Time\",\"Beacon Count\"],\n",
       "                [\"hour\",\"Milliseconds\",\"Count\"],\n",
       "                [\"area\",\"area\",\"spline\",\"line\"],\n",
       "                [\"hsla(130, 61%, 50%, 0.9)\",\"hsla(214, 86%, 60%, 0.9)\",\"hsla(35, 100%, 50%, 0.9)\"],\n",
       "                [[\"data1\",\"data2\"]],\n",
       "                [\"data4\"],\n",
       "                \"\",\n",
       "                [\"data4\"],\n",
       "                {\"axis_y_min\":0,\"axis_y2_min\":0}\n",
       "            );\n",
       "        }\n",
       "        iframe.src = \"/static/graphs/templates/c3Viz_template.html#id=timeSeries-LHJRSHFKMJXTREIISOBFGALPWILJLSDI\";\n",
       "    }());\n",
       "    </script>\n"
      ]
     },
     "metadata": {},
     "output_type": "display_data"
    }
   ],
   "source": [
    "loadTimeFAPVSB(tv,UP)"
   ]
  },
  {
   "cell_type": "code",
   "execution_count": 7,
   "metadata": {
    "input_collapsed": false,
    "scrolled": false
   },
   "outputs": [
    {
     "data": {
      "text/html": [
       "<div class=\"dswbOutputText\"><h1 class=\"chart_title\" style=\"color:#ccc\">Top URL Page Views for Your Shot</h1><h3 class=\"chart_info\" style=\"color:#ccc\">Pages Load Used</h3><h3 class=\"chart_info\" style=\"color:#ccc\">September 12, 2017 23:59:00 to September 13, 2017 23:59:00 Local Time</h3></div>"
      ]
     },
     "metadata": {},
     "output_type": "display_data"
    },
    {
     "data": {
      "text/html": [
       "    <table  class=\"dataframe-table\">\n",
       "    <thead><tr><th class=\"cell-1\" style=\"\">Views</th> <th class=\"cell-2\" style=\"\">Url - With Grouping After Parameters Dropped</th></tr></thead>\n",
       "    <tbody>\n",
       "    <tr><td class=\"cell-1\" style=\"text-align:right;\">6,049</td> <td class=\"cell-2\" style=\"\">http://yourshot.nationalgeographic.com</td></tr>\n",
       "<tr><td class=\"cell-1\" style=\"text-align:right;\">4,011</td> <td class=\"cell-2\" style=\"\">http://yourshot.nationalgeographic.com/photos</td></tr>\n",
       "<tr><td class=\"cell-1\" style=\"text-align:right;\">3,408</td> <td class=\"cell-2\" style=\"\">http://m.yourshot.nationalgeographic.com</td></tr>\n",
       "<tr><td class=\"cell-1\" style=\"text-align:right;\">2,981</td> <td class=\"cell-2\" style=\"\">http://yourshot.nationalgeographic.com/daily-dozen</td></tr>\n",
       "<tr><td class=\"cell-1\" style=\"text-align:right;\">2,332</td> <td class=\"cell-2\" style=\"\">http://yourshot.nationalgeographic.com/assignments/quiet-moments</td></tr>\n",
       "<tr><td class=\"cell-1\" style=\"text-align:right;\">1,732</td> <td class=\"cell-2\" style=\"\">http://yourshot.nationalgeographic.com/assignments-stories</td></tr>\n",
       "<tr><td class=\"cell-1\" style=\"text-align:right;\">1,724</td> <td class=\"cell-2\" style=\"\">http://photography.nationalgeographic.com/nature-photographer-of-the-year-2017</td></tr>\n",
       "<tr><td class=\"cell-1\" style=\"text-align:right;\">1,284</td> <td class=\"cell-2\" style=\"\">http://m.yourshot.nationalgeographic.com/photos</td></tr>\n",
       "    \n",
       "    <tr><td class=\"cell-1\" style=\"text-align:right;\">1,191</td> <td class=\"cell-2\" style=\"\">http://yourshot.nationalgeographic.com/search</td></tr>\n",
       "<tr><td class=\"cell-1\" style=\"text-align:right;\">1,088</td> <td class=\"cell-2\" style=\"\">http://m.yourshot.nationalgeographic.com/daily-dozen</td></tr>\n",
       "<tr><td class=\"cell-1\" style=\"text-align:right;\">720</td> <td class=\"cell-2\" style=\"\">http://m.yourshot.nationalgeographic.com/upload</td></tr>\n",
       "<tr><td class=\"cell-1\" style=\"text-align:right;\">623</td> <td class=\"cell-2\" style=\"\">http://m.yourshot.nationalgeographic.com/assignments-stories</td></tr>\n",
       "<tr><td class=\"cell-1\" style=\"text-align:right;\">538</td> <td class=\"cell-2\" style=\"\">http://photography.nationalgeographic.com/nature-photographer-of-the-year-2017/all-entries</td></tr>\n",
       "<tr><td class=\"cell-1\" style=\"text-align:right;\">462</td> <td class=\"cell-2\" style=\"\">http://m.yourshot.nationalgeographic.com/assignments/quiet-moments</td></tr>\n",
       "<tr><td class=\"cell-1\" style=\"text-align:right;\">462</td> <td class=\"cell-2\" style=\"\">http://photography.nationalgeographic.com/nature-photographer-of-the-year-2017/enter</td></tr>\n",
       "    </tbody>\n"
      ],
      "text/plain": [
       "HTML{UTF8String}(\"    <table  class=\\\"dataframe-table\\\">\\n    <thead><tr><th class=\\\"cell-1\\\" style=\\\"\\\">Views</th> <th class=\\\"cell-2\\\" style=\\\"\\\">Url - With Grouping After Parameters Dropped</th></tr></thead>\\n    <tbody>\\n    <tr><td class=\\\"cell-1\\\" style=\\\"text-align:right;\\\">6,049</td> <td class=\\\"cell-2\\\" style=\\\"\\\">http://yourshot.nationalgeographic.com</td></tr>\\n<tr><td class=\\\"cell-1\\\" style=\\\"text-align:right;\\\">4,011</td> <td class=\\\"cell-2\\\" style=\\\"\\\">http://yourshot.nationalgeographic.com/photos</td></tr>\\n<tr><td class=\\\"cell-1\\\" style=\\\"text-align:right;\\\">3,408</td> <td class=\\\"cell-2\\\" style=\\\"\\\">http://m.yourshot.nationalgeographic.com</td></tr>\\n<tr><td class=\\\"cell-1\\\" style=\\\"text-align:right;\\\">2,981</td> <td class=\\\"cell-2\\\" style=\\\"\\\">http://yourshot.nationalgeographic.com/daily-dozen</td></tr>\\n<tr><td class=\\\"cell-1\\\" style=\\\"text-align:right;\\\">2,332</td> <td class=\\\"cell-2\\\" style=\\\"\\\">http://yourshot.nationalgeographic.com/assignments/quiet-moments</td></tr>\\n<tr><td class=\\\"cell-1\\\" style=\\\"text-align:right;\\\">1,732</td> <td class=\\\"cell-2\\\" style=\\\"\\\">http://yourshot.nationalgeographic.com/assignments-stories</td></tr>\\n<tr><td class=\\\"cell-1\\\" style=\\\"text-align:right;\\\">1,724</td> <td class=\\\"cell-2\\\" style=\\\"\\\">http://photography.nationalgeographic.com/nature-photographer-of-the-year-2017</td></tr>\\n<tr><td class=\\\"cell-1\\\" style=\\\"text-align:right;\\\">1,284</td> <td class=\\\"cell-2\\\" style=\\\"\\\">http://m.yourshot.nationalgeographic.com/photos</td></tr>\\n    \\n    <tr><td class=\\\"cell-1\\\" style=\\\"text-align:right;\\\">1,191</td> <td class=\\\"cell-2\\\" style=\\\"\\\">http://yourshot.nationalgeographic.com/search</td></tr>\\n<tr><td class=\\\"cell-1\\\" style=\\\"text-align:right;\\\">1,088</td> <td class=\\\"cell-2\\\" style=\\\"\\\">http://m.yourshot.nationalgeographic.com/daily-dozen</td></tr>\\n<tr><td class=\\\"cell-1\\\" style=\\\"text-align:right;\\\">720</td> <td class=\\\"cell-2\\\" style=\\\"\\\">http://m.yourshot.nationalgeographic.com/upload</td></tr>\\n<tr><td class=\\\"cell-1\\\" style=\\\"text-align:right;\\\">623</td> <td class=\\\"cell-2\\\" style=\\\"\\\">http://m.yourshot.nationalgeographic.com/assignments-stories</td></tr>\\n<tr><td class=\\\"cell-1\\\" style=\\\"text-align:right;\\\">538</td> <td class=\\\"cell-2\\\" style=\\\"\\\">http://photography.nationalgeographic.com/nature-photographer-of-the-year-2017/all-entries</td></tr>\\n<tr><td class=\\\"cell-1\\\" style=\\\"text-align:right;\\\">462</td> <td class=\\\"cell-2\\\" style=\\\"\\\">http://m.yourshot.nationalgeographic.com/assignments/quiet-moments</td></tr>\\n<tr><td class=\\\"cell-1\\\" style=\\\"text-align:right;\\\">462</td> <td class=\\\"cell-2\\\" style=\\\"\\\">http://photography.nationalgeographic.com/nature-photographer-of-the-year-2017/enter</td></tr>\\n    </tbody>\\n\")"
      ]
     },
     "metadata": {},
     "output_type": "display_data"
    },
    {
     "data": {
      "text/html": [
       "    <table  class=\"dataframe-table\">\n",
       "    <thead><tr><th class=\"cell-1\" style=\"\">Views</th> <th class=\"cell-2\" style=\"\">Avg MB</th> <th class=\"cell-3\" style=\"\">Avg MS</th> <th class=\"cell-4\" style=\"\">Url - Individual</th></tr></thead>\n",
       "    <tbody>\n",
       "    <tr><td class=\"cell-1\" style=\"text-align:right;\">5,715</td> <td class=\"cell-2\" style=\"text-align:right;\">258,289</td> <td class=\"cell-3\" style=\"text-align:right;\">8,408</td> <td class=\"cell-4\" style=\"\">http://yourshot.nationalgeographic.com/</td></tr>\n",
       "<tr><td class=\"cell-1\" style=\"text-align:right;\">4,007</td> <td class=\"cell-2\" style=\"text-align:right;\">254,342</td> <td class=\"cell-3\" style=\"text-align:right;\">8,858</td> <td class=\"cell-4\" style=\"\">http://yourshot.nationalgeographic.com/photos/</td></tr>\n",
       "<tr><td class=\"cell-1\" style=\"text-align:right;\">2,974</td> <td class=\"cell-2\" style=\"text-align:right;\">240,851</td> <td class=\"cell-3\" style=\"text-align:right;\">7,798</td> <td class=\"cell-4\" style=\"\">http://m.yourshot.nationalgeographic.com/</td></tr>\n",
       "<tr><td class=\"cell-1\" style=\"text-align:right;\">2,853</td> <td class=\"cell-2\" style=\"text-align:right;\">261,732</td> <td class=\"cell-3\" style=\"text-align:right;\">8,989</td> <td class=\"cell-4\" style=\"\">http://yourshot.nationalgeographic.com/daily-dozen/</td></tr>\n",
       "<tr><td class=\"cell-1\" style=\"text-align:right;\">2,314</td> <td class=\"cell-2\" style=\"text-align:right;\">409,358</td> <td class=\"cell-3\" style=\"text-align:right;\">11,976</td> <td class=\"cell-4\" style=\"\">http://yourshot.nationalgeographic.com/assignments/quiet-moments/</td></tr>\n",
       "<tr><td class=\"cell-1\" style=\"text-align:right;\">1,732</td> <td class=\"cell-2\" style=\"text-align:right;\">396,565</td> <td class=\"cell-3\" style=\"text-align:right;\">8,988</td> <td class=\"cell-4\" style=\"\">http://yourshot.nationalgeographic.com/assignments-stories/</td></tr>\n",
       "<tr><td class=\"cell-1\" style=\"text-align:right;\">1,271</td> <td class=\"cell-2\" style=\"text-align:right;\">260,333</td> <td class=\"cell-3\" style=\"text-align:right;\">6,307</td> <td class=\"cell-4\" style=\"\">http://m.yourshot.nationalgeographic.com/photos/</td></tr>\n",
       "<tr><td class=\"cell-1\" style=\"text-align:right;\">770</td> <td class=\"cell-2\" style=\"text-align:right;\">387,439</td> <td class=\"cell-3\" style=\"text-align:right;\">9,626</td> <td class=\"cell-4\" style=\"\">http://m.yourshot.nationalgeographic.com/daily-dozen/</td></tr>\n",
       "    \n",
       "    <tr><td class=\"cell-1\" style=\"text-align:right;\">720</td> <td class=\"cell-2\" style=\"text-align:right;\">252,637</td> <td class=\"cell-3\" style=\"text-align:right;\">7,785</td> <td class=\"cell-4\" style=\"\">http://m.yourshot.nationalgeographic.com/upload/</td></tr>\n",
       "<tr><td class=\"cell-1\" style=\"text-align:right;\">623</td> <td class=\"cell-2\" style=\"text-align:right;\">261,663</td> <td class=\"cell-3\" style=\"text-align:right;\">6,731</td> <td class=\"cell-4\" style=\"\">http://m.yourshot.nationalgeographic.com/assignments-stories/</td></tr>\n",
       "<tr><td class=\"cell-1\" style=\"text-align:right;\">592</td> <td class=\"cell-2\" style=\"text-align:right;\">155,151</td> <td class=\"cell-3\" style=\"text-align:right;\">7,868</td> <td class=\"cell-4\" style=\"\">http://photography.nationalgeographic.com/nature-photographer-of-the-year-2017/?sitenav</td></tr>\n",
       "<tr><td class=\"cell-1\" style=\"text-align:right;\">553</td> <td class=\"cell-2\" style=\"text-align:right;\">156,391</td> <td class=\"cell-3\" style=\"text-align:right;\">9,822</td> <td class=\"cell-4\" style=\"\">http://photography.nationalgeographic.com/nature-photographer-of-the-year-2017/?utm_source=Facebook</td></tr>\n",
       "<tr><td class=\"cell-1\" style=\"text-align:right;\">474</td> <td class=\"cell-2\" style=\"text-align:right;\">169,807</td> <td class=\"cell-3\" style=\"text-align:right;\">10,249</td> <td class=\"cell-4\" style=\"\">http://photography.nationalgeographic.com/nature-photographer-of-the-year-2017/all-entries/?utm_source=Facebook</td></tr>\n",
       "<tr><td class=\"cell-1\" style=\"text-align:right;\">462</td> <td class=\"cell-2\" style=\"text-align:right;\">145,576</td> <td class=\"cell-3\" style=\"text-align:right;\">5,488</td> <td class=\"cell-4\" style=\"\">http://photography.nationalgeographic.com/nature-photographer-of-the-year-2017/enter</td></tr>\n",
       "<tr><td class=\"cell-1\" style=\"text-align:right;\">459</td> <td class=\"cell-2\" style=\"text-align:right;\">388,868</td> <td class=\"cell-3\" style=\"text-align:right;\">10,522</td> <td class=\"cell-4\" style=\"\">http://m.yourshot.nationalgeographic.com/assignments/quiet-moments/</td></tr>\n",
       "    </tbody>\n"
      ],
      "text/plain": [
       "HTML{UTF8String}(\"    <table  class=\\\"dataframe-table\\\">\\n    <thead><tr><th class=\\\"cell-1\\\" style=\\\"\\\">Views</th> <th class=\\\"cell-2\\\" style=\\\"\\\">Avg MB</th> <th class=\\\"cell-3\\\" style=\\\"\\\">Avg MS</th> <th class=\\\"cell-4\\\" style=\\\"\\\">Url - Individual</th></tr></thead>\\n    <tbody>\\n    <tr><td class=\\\"cell-1\\\" style=\\\"text-align:right;\\\">5,715</td> <td class=\\\"cell-2\\\" style=\\\"text-align:right;\\\">258,289</td> <td class=\\\"cell-3\\\" style=\\\"text-align:right;\\\">8,408</td> <td class=\\\"cell-4\\\" style=\\\"\\\">http://yourshot.nationalgeographic.com/</td></tr>\\n<tr><td class=\\\"cell-1\\\" style=\\\"text-align:right;\\\">4,007</td> <td class=\\\"cell-2\\\" style=\\\"text-align:right;\\\">254,342</td> <td class=\\\"cell-3\\\" style=\\\"text-align:right;\\\">8,858</td> <td class=\\\"cell-4\\\" style=\\\"\\\">http://yourshot.nationalgeographic.com/photos/</td></tr>\\n<tr><td class=\\\"cell-1\\\" style=\\\"text-align:right;\\\">2,974</td> <td class=\\\"cell-2\\\" style=\\\"text-align:right;\\\">240,851</td> <td class=\\\"cell-3\\\" style=\\\"text-align:right;\\\">7,798</td> <td class=\\\"cell-4\\\" style=\\\"\\\">http://m.yourshot.nationalgeographic.com/</td></tr>\\n<tr><td class=\\\"cell-1\\\" style=\\\"text-align:right;\\\">2,853</td> <td class=\\\"cell-2\\\" style=\\\"text-align:right;\\\">261,732</td> <td class=\\\"cell-3\\\" style=\\\"text-align:right;\\\">8,989</td> <td class=\\\"cell-4\\\" style=\\\"\\\">http://yourshot.nationalgeographic.com/daily-dozen/</td></tr>\\n<tr><td class=\\\"cell-1\\\" style=\\\"text-align:right;\\\">2,314</td> <td class=\\\"cell-2\\\" style=\\\"text-align:right;\\\">409,358</td> <td class=\\\"cell-3\\\" style=\\\"text-align:right;\\\">11,976</td> <td class=\\\"cell-4\\\" style=\\\"\\\">http://yourshot.nationalgeographic.com/assignments/quiet-moments/</td></tr>\\n<tr><td class=\\\"cell-1\\\" style=\\\"text-align:right;\\\">1,732</td> <td class=\\\"cell-2\\\" style=\\\"text-align:right;\\\">396,565</td> <td class=\\\"cell-3\\\" style=\\\"text-align:right;\\\">8,988</td> <td class=\\\"cell-4\\\" style=\\\"\\\">http://yourshot.nationalgeographic.com/assignments-stories/</td></tr>\\n<tr><td class=\\\"cell-1\\\" style=\\\"text-align:right;\\\">1,271</td> <td class=\\\"cell-2\\\" style=\\\"text-align:right;\\\">260,333</td> <td class=\\\"cell-3\\\" style=\\\"text-align:right;\\\">6,307</td> <td class=\\\"cell-4\\\" style=\\\"\\\">http://m.yourshot.nationalgeographic.com/photos/</td></tr>\\n<tr><td class=\\\"cell-1\\\" style=\\\"text-align:right;\\\">770</td> <td class=\\\"cell-2\\\" style=\\\"text-align:right;\\\">387,439</td> <td class=\\\"cell-3\\\" style=\\\"text-align:right;\\\">9,626</td> <td class=\\\"cell-4\\\" style=\\\"\\\">http://m.yourshot.nationalgeographic.com/daily-dozen/</td></tr>\\n    \\n    <tr><td class=\\\"cell-1\\\" style=\\\"text-align:right;\\\">720</td> <td class=\\\"cell-2\\\" style=\\\"text-align:right;\\\">252,637</td> <td class=\\\"cell-3\\\" style=\\\"text-align:right;\\\">7,785</td> <td class=\\\"cell-4\\\" style=\\\"\\\">http://m.yourshot.nationalgeographic.com/upload/</td></tr>\\n<tr><td class=\\\"cell-1\\\" style=\\\"text-align:right;\\\">623</td> <td class=\\\"cell-2\\\" style=\\\"text-align:right;\\\">261,663</td> <td class=\\\"cell-3\\\" style=\\\"text-align:right;\\\">6,731</td> <td class=\\\"cell-4\\\" style=\\\"\\\">http://m.yourshot.nationalgeographic.com/assignments-stories/</td></tr>\\n<tr><td class=\\\"cell-1\\\" style=\\\"text-align:right;\\\">592</td> <td class=\\\"cell-2\\\" style=\\\"text-align:right;\\\">155,151</td> <td class=\\\"cell-3\\\" style=\\\"text-align:right;\\\">7,868</td> <td class=\\\"cell-4\\\" style=\\\"\\\">http://photography.nationalgeographic.com/nature-photographer-of-the-year-2017/?sitenav</td></tr>\\n<tr><td class=\\\"cell-1\\\" style=\\\"text-align:right;\\\">553</td> <td class=\\\"cell-2\\\" style=\\\"text-align:right;\\\">156,391</td> <td class=\\\"cell-3\\\" style=\\\"text-align:right;\\\">9,822</td> <td class=\\\"cell-4\\\" style=\\\"\\\">http://photography.nationalgeographic.com/nature-photographer-of-the-year-2017/?utm_source=Facebook</td></tr>\\n<tr><td class=\\\"cell-1\\\" style=\\\"text-align:right;\\\">474</td> <td class=\\\"cell-2\\\" style=\\\"text-align:right;\\\">169,807</td> <td class=\\\"cell-3\\\" style=\\\"text-align:right;\\\">10,249</td> <td class=\\\"cell-4\\\" style=\\\"\\\">http://photography.nationalgeographic.com/nature-photographer-of-the-year-2017/all-entries/?utm_source=Facebook</td></tr>\\n<tr><td class=\\\"cell-1\\\" style=\\\"text-align:right;\\\">462</td> <td class=\\\"cell-2\\\" style=\\\"text-align:right;\\\">145,576</td> <td class=\\\"cell-3\\\" style=\\\"text-align:right;\\\">5,488</td> <td class=\\\"cell-4\\\" style=\\\"\\\">http://photography.nationalgeographic.com/nature-photographer-of-the-year-2017/enter</td></tr>\\n<tr><td class=\\\"cell-1\\\" style=\\\"text-align:right;\\\">459</td> <td class=\\\"cell-2\\\" style=\\\"text-align:right;\\\">388,868</td> <td class=\\\"cell-3\\\" style=\\\"text-align:right;\\\">10,522</td> <td class=\\\"cell-4\\\" style=\\\"\\\">http://m.yourshot.nationalgeographic.com/assignments/quiet-moments/</td></tr>\\n    </tbody>\\n\")"
      ]
     },
     "metadata": {},
     "output_type": "display_data"
    }
   ],
   "source": [
    "topUrlsFAPVSB(tv,UP)"
   ]
  },
  {
   "cell_type": "code",
   "execution_count": 8,
   "metadata": {
    "input_collapsed": false,
    "scrolled": false
   },
   "outputs": [
    {
     "data": {
      "text/html": [
       "<div class=\"dswbOutputText\"><h1 class=\"chart_title\" style=\"color:#ccc\">Peak Arrivals for Your Shot</h1><h3 class=\"chart_info\" style=\"color:#ccc\">September 12, 2017 23:59:00 to September 13, 2017 23:59:00 Local Time</h3></div>"
      ]
     },
     "metadata": {},
     "output_type": "display_data"
    },
    {
     "data": {
      "text/html": [
       "    <table  class=\"dataframe-table\">\n",
       "    <thead><tr><th class=\"cell-1\" style=\"\"></th> <th class=\"cell-2\" style=\"\">Date</th> <th class=\"cell-3\" style=\"\">Page Views</th></tr></thead>\n",
       "    <tbody>\n",
       "    <tr><td class=\"cell-1\" style=\"\">7 Day Peak Day</td> <td class=\"cell-2\" style=\"\">2017-09-13T00:00:00</td> <td class=\"cell-3\" style=\"text-align:right;\">137,190</td></tr>\n",
       "<tr><td class=\"cell-1\" style=\"\">7 Day Peak Hour</td> <td class=\"cell-2\" style=\"\">2017-09-13T17:00:00</td> <td class=\"cell-3\" style=\"text-align:right;\">8,799</td></tr>\n",
       "    \n",
       "    <tr><td class=\"cell-1\" style=\"\">7 Day Peak Minute</td> <td class=\"cell-2\" style=\"\">2017-09-13T17:38:00</td> <td class=\"cell-3\" style=\"text-align:right;\">195</td></tr>\n",
       "    </tbody>\n"
      ],
      "text/plain": [
       "HTML{UTF8String}(\"    <table  class=\\\"dataframe-table\\\">\\n    <thead><tr><th class=\\\"cell-1\\\" style=\\\"\\\"></th> <th class=\\\"cell-2\\\" style=\\\"\\\">Date</th> <th class=\\\"cell-3\\\" style=\\\"\\\">Page Views</th></tr></thead>\\n    <tbody>\\n    <tr><td class=\\\"cell-1\\\" style=\\\"\\\">7 Day Peak Day</td> <td class=\\\"cell-2\\\" style=\\\"\\\">2017-09-13T00:00:00</td> <td class=\\\"cell-3\\\" style=\\\"text-align:right;\\\">137,190</td></tr>\\n<tr><td class=\\\"cell-1\\\" style=\\\"\\\">7 Day Peak Hour</td> <td class=\\\"cell-2\\\" style=\\\"\\\">2017-09-13T17:00:00</td> <td class=\\\"cell-3\\\" style=\\\"text-align:right;\\\">8,799</td></tr>\\n    \\n    <tr><td class=\\\"cell-1\\\" style=\\\"\\\">7 Day Peak Minute</td> <td class=\\\"cell-2\\\" style=\\\"\\\">2017-09-13T17:38:00</td> <td class=\\\"cell-3\\\" style=\\\"text-align:right;\\\">195</td></tr>\\n    </tbody>\\n\")"
      ]
     },
     "metadata": {},
     "output_type": "display_data"
    }
   ],
   "source": [
    "peakTableFAPVSB(TV,UP,SP)"
   ]
  },
  {
   "cell_type": "code",
   "execution_count": 9,
   "metadata": {
    "input_collapsed": false,
    "scrolled": false
   },
   "outputs": [
    {
     "data": {
      "text/html": [
       "<div class=\"dswbOutputText\"><h1 class=\"chart_title\" style=\"color:#ccc\">Raw Data Stats Including Those above 600 seconds for Your Shot</h1><h3 class=\"chart_info\" style=\"color:#ccc\">September 12, 2017 23:59:00 to September 13, 2017 23:59:00 Local Time</h3></div>"
      ]
     },
     "metadata": {},
     "output_type": "display_data"
    },
    {
     "data": {
      "text/html": [
       "    <table  class=\"dataframe-table\">\n",
       "    <thead><tr><th class=\"cell-1\" style=\"\">unit</th> <th class=\"cell-2\" style=\"\">count</th> <th class=\"cell-3\" style=\"\">mean</th> <th class=\"cell-4\" style=\"\">median</th> <th class=\"cell-5\" style=\"\">stddev</th> <th class=\"cell-6\" style=\"\">min</th> <th class=\"cell-7\" style=\"\">max</th> <th class=\"cell-8\" style=\"\">LowerBy25p</th> <th class=\"cell-9\" style=\"\">UpperBy25p</th> <th class=\"cell-10\" style=\"\">LowerBy3Stddev</th> <th class=\"cell-11\" style=\"\">UpperBy3Stddev</th></tr></thead>\n",
       "    <tbody>\n",
       "    <tr><td class=\"cell-1\" style=\"\">milliseconds</td> <td class=\"cell-2\" style=\"text-align:right;\">137,190</td> <td class=\"cell-3\" style=\"text-align:right;\">8,574</td> <td class=\"cell-4\" style=\"text-align:right;\">4,542</td> <td class=\"cell-5\" style=\"text-align:right;\">19,084</td> <td class=\"cell-6\" style=\"text-align:right;\">1,000</td> <td class=\"cell-7\" style=\"text-align:right;\">594,920</td> <td class=\"cell-8\" style=\"text-align:right;\">3,406</td> <td class=\"cell-9\" style=\"text-align:right;\">5,678</td> <td class=\"cell-10\" style=\"text-align:right;\">1,000</td> <td class=\"cell-11\" style=\"text-align:right;\">61,794</td></tr>\n",
       "<tr><td class=\"cell-1\" style=\"\">seconds</td> <td class=\"cell-2\" style=\"text-align:right;\">137,190</td> <td class=\"cell-3\" style=\"text-align:right;\">8.574</td> <td class=\"cell-4\" style=\"text-align:right;\">4.542</td> <td class=\"cell-5\" style=\"text-align:right;\">19.084</td> <td class=\"cell-6\" style=\"text-align:right;\">1</td> <td class=\"cell-7\" style=\"text-align:right;\">594.92</td> <td class=\"cell-8\" style=\"text-align:right;\">3.406</td> <td class=\"cell-9\" style=\"text-align:right;\">5.678</td> <td class=\"cell-10\" style=\"text-align:right;\">1</td> <td class=\"cell-11\" style=\"text-align:right;\">61.794</td></tr>\n",
       "    \n",
       "    <tr><td class=\"cell-1\" style=\"\">minutes</td> <td class=\"cell-2\" style=\"text-align:right;\">137,190</td> <td class=\"cell-3\" style=\"text-align:right;\">0.1</td> <td class=\"cell-4\" style=\"text-align:right;\">0.1</td> <td class=\"cell-5\" style=\"text-align:right;\">0.3</td> <td class=\"cell-6\" style=\"text-align:right;\">0</td> <td class=\"cell-7\" style=\"text-align:right;\">9.9</td> <td class=\"cell-8\" style=\"text-align:right;\">0.1</td> <td class=\"cell-9\" style=\"text-align:right;\">0.1</td> <td class=\"cell-10\" style=\"text-align:right;\">0</td> <td class=\"cell-11\" style=\"text-align:right;\">1</td></tr>\n",
       "    </tbody>\n"
      ],
      "text/plain": [
       "HTML{UTF8String}(\"    <table  class=\\\"dataframe-table\\\">\\n    <thead><tr><th class=\\\"cell-1\\\" style=\\\"\\\">unit</th> <th class=\\\"cell-2\\\" style=\\\"\\\">count</th> <th class=\\\"cell-3\\\" style=\\\"\\\">mean</th> <th class=\\\"cell-4\\\" style=\\\"\\\">median</th> <th class=\\\"cell-5\\\" style=\\\"\\\">stddev</th> <th class=\\\"cell-6\\\" style=\\\"\\\">min</th> <th class=\\\"cell-7\\\" style=\\\"\\\">max</th> <th class=\\\"cell-8\\\" style=\\\"\\\">LowerBy25p</th> <th class=\\\"cell-9\\\" style=\\\"\\\">UpperBy25p</th> <th class=\\\"cell-10\\\" style=\\\"\\\">LowerBy3Stddev</th> <th class=\\\"cell-11\\\" style=\\\"\\\">UpperBy3Stddev</th></tr></thead>\\n    <tbody>\\n    <tr><td class=\\\"cell-1\\\" style=\\\"\\\">milliseconds</td> <td class=\\\"cell-2\\\" style=\\\"text-align:right;\\\">137,190</td> <td class=\\\"cell-3\\\" style=\\\"text-align:right;\\\">8,574</td> <td class=\\\"cell-4\\\" style=\\\"text-align:right;\\\">4,542</td> <td class=\\\"cell-5\\\" style=\\\"text-align:right;\\\">19,084</td> <td class=\\\"cell-6\\\" style=\\\"text-align:right;\\\">1,000</td> <td class=\\\"cell-7\\\" style=\\\"text-align:right;\\\">594,920</td> <td class=\\\"cell-8\\\" style=\\\"text-align:right;\\\">3,406</td> <td class=\\\"cell-9\\\" style=\\\"text-align:right;\\\">5,678</td> <td class=\\\"cell-10\\\" style=\\\"text-align:right;\\\">1,000</td> <td class=\\\"cell-11\\\" style=\\\"text-align:right;\\\">61,794</td></tr>\\n<tr><td class=\\\"cell-1\\\" style=\\\"\\\">seconds</td> <td class=\\\"cell-2\\\" style=\\\"text-align:right;\\\">137,190</td> <td class=\\\"cell-3\\\" style=\\\"text-align:right;\\\">8.574</td> <td class=\\\"cell-4\\\" style=\\\"text-align:right;\\\">4.542</td> <td class=\\\"cell-5\\\" style=\\\"text-align:right;\\\">19.084</td> <td class=\\\"cell-6\\\" style=\\\"text-align:right;\\\">1</td> <td class=\\\"cell-7\\\" style=\\\"text-align:right;\\\">594.92</td> <td class=\\\"cell-8\\\" style=\\\"text-align:right;\\\">3.406</td> <td class=\\\"cell-9\\\" style=\\\"text-align:right;\\\">5.678</td> <td class=\\\"cell-10\\\" style=\\\"text-align:right;\\\">1</td> <td class=\\\"cell-11\\\" style=\\\"text-align:right;\\\">61.794</td></tr>\\n    \\n    <tr><td class=\\\"cell-1\\\" style=\\\"\\\">minutes</td> <td class=\\\"cell-2\\\" style=\\\"text-align:right;\\\">137,190</td> <td class=\\\"cell-3\\\" style=\\\"text-align:right;\\\">0.1</td> <td class=\\\"cell-4\\\" style=\\\"text-align:right;\\\">0.1</td> <td class=\\\"cell-5\\\" style=\\\"text-align:right;\\\">0.3</td> <td class=\\\"cell-6\\\" style=\\\"text-align:right;\\\">0</td> <td class=\\\"cell-7\\\" style=\\\"text-align:right;\\\">9.9</td> <td class=\\\"cell-8\\\" style=\\\"text-align:right;\\\">0.1</td> <td class=\\\"cell-9\\\" style=\\\"text-align:right;\\\">0.1</td> <td class=\\\"cell-10\\\" style=\\\"text-align:right;\\\">0</td> <td class=\\\"cell-11\\\" style=\\\"text-align:right;\\\">1</td></tr>\\n    </tbody>\\n\")"
      ]
     },
     "metadata": {},
     "output_type": "display_data"
    }
   ],
   "source": [
    "statsTableFAPVSB(tv,UP)"
   ]
  },
  {
   "cell_type": "code",
   "execution_count": 10,
   "metadata": {
    "input_collapsed": false
   },
   "outputs": [],
   "source": [
    "q = query(\"\"\" drop view if exists $(UP.btView);\"\"\")\n",
    "q = query(\"\"\" drop view if exists $(UP.rtView);\"\"\")\n",
    ";"
   ]
  },
  {
   "cell_type": "code",
   "execution_count": null,
   "metadata": {
    "collapsed": true,
    "input_collapsed": true
   },
   "outputs": [],
   "source": []
  }
 ],
 "metadata": {
  "chart_version": "1.0.0",
  "kernelspec": {
   "display_name": "Julia 0.6.1",
   "language": "julia",
   "name": "julia-0.6"
  },
  "language_info": {
   "file_extension": ".jl",
   "mimetype": "application/julia",
   "name": "julia",
   "version": "0.4.7"
  },
  "library_version": "1.0.0",
  "notebook_uuid": "107f82e1-5122-4a64-ba3f-765b352a25d5",
  "readOnly": false
 },
 "nbformat": 4,
 "nbformat_minor": 1
}
