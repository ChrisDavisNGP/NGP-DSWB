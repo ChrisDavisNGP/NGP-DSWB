{
 "cells": [
  {
   "cell_type": "markdown",
   "metadata": {},
   "source": [
    "## Tables and Data Source setup"
   ]
  },
  {
   "cell_type": "code",
   "execution_count": 12,
   "metadata": {
    "collapsed": false,
    "input_collapsed": false,
    "scrolled": true
   },
   "outputs": [
    {
     "name": "stdout",
     "output_type": "stream",
     "text": [
      "Redshift endpoint set: 2017-11-17T16:36:40\n"
     ]
    },
    {
     "data": {
      "text/plain": [
       "\"beacons_4744\""
      ]
     },
     "execution_count": 12,
     "metadata": {},
     "output_type": "execute_result"
    }
   ],
   "source": [
    "using ODBC\n",
    "using DataFrames\n",
    "using DSWB\n",
    "using Formatting\n",
    "\n",
    "dsn = \"dswb-natgeo\" # Redshift endpoint\n",
    "table = \"beacons_4744\" # beacon table name\n",
    "tableRt = \"beacons_4744_rt\"\n",
    "\n",
    "# Connect to Beacon Data\n",
    "setRedshiftEndpoint(dsn)\n",
    "setTable(table)\n",
    "# setTable(tableRt, tableType = \"RESOURCE_TABLE\")"
   ]
  },
  {
   "cell_type": "code",
   "execution_count": 21,
   "metadata": {
    "collapsed": false,
    "input_collapsed": false
   },
   "outputs": [
    {
     "name": "stdout",
     "output_type": "stream",
     "text": [
      "November 15, 2017 23:59:00 to November 16, 2017 23:59:00 Local Time\n",
      "November 16, 2017 04:59:00 to November 17, 2017 04:59:00 UTC Time\n"
     ]
    }
   ],
   "source": [
    "# Time & Structures First\n",
    "include(\"../../Lib/Include-Package-v2.1.jl\")\n",
    "include(\"Find-A-Page-View-Spike-Body-v2.0.jl\")\n",
    ";"
   ]
  },
  {
   "cell_type": "code",
   "execution_count": 21,
   "metadata": {
    "collapsed": false,
    "input_collapsed": false
   },
   "outputs": [
    {
     "name": "stdout",
     "output_type": "stream",
     "text": [
      "November 15, 2017 23:59:00 to November 16, 2017 23:59:00 Local Time\n",
      "November 16, 2017 04:59:00 to November 17, 2017 04:59:00 UTC Time\n"
     ]
    }
   ],
   "source": [
    "#TV = timeVariables(2017,11,15,23,59,2017,11,16,23,59)\n",
    "#TV = weeklyTimeVariables(days=7)\n",
    "TV = yesterdayTimeVariables()\n",
    ";"
   ]
  },
  {
   "cell_type": "code",
   "execution_count": null,
   "metadata": {
    "collapsed": true,
    "input_collapsed": false
   },
   "outputs": [],
   "source": []
  },
  {
   "cell_type": "code",
   "execution_count": 22,
   "metadata": {
    "collapsed": true,
    "input_collapsed": false,
    "scrolled": true
   },
   "outputs": [],
   "source": [
    "UP = UrlParamsInit()\n",
    "UP.agentOs = \"iOS\"\n",
    "UP.beaconTable = table\n",
    "UP.btView = \"$(table)_spike_pview_prod\" #localtable\n",
    "UP.deviceType = \"%\"\n",
    "UP.limitRows = 250\n",
    "UP.orderBy = \"time\"\n",
    "UP.pageGroup = \"Your Shot\"   #productPageGroup\n",
    "UP.resourceTable = tableRt\n",
    "UP.rtView = \"$(tableRt)_spike_pview_prod\" #localtableRt\n",
    "UP.samplesMin = 10\n",
    "UP.sizeMin = 10000\n",
    "UP.timeLowerMs = 2000.0\n",
    "UP.timeUpperMs = 60000.0\n",
    "UP.urlRegEx = \"%\"   #localUrl\n",
    "UP.urlFull = \"%\"\n",
    "UP.usePageLoad=false\n",
    "\n",
    "SP = ShowParamsInit()\n",
    "SP.criticalPathOnly=true\n",
    "SP.desktop=false\n",
    "SP.devView=false\n",
    "SP.debug=false\n",
    "SP.debugLevel = 0   # Tests use even numbers with > tests, make this an odd number or zero\n",
    "SP.mobile=true\n",
    "\n",
    "SG = SoastaGraphsInit()\n",
    "customer = \"Nat Geo\" \n",
    "SG.customer = customer\n",
    ";"
   ]
  },
  {
   "cell_type": "code",
   "execution_count": 23,
   "metadata": {
    "collapsed": false,
    "input_collapsed": false
   },
   "outputs": [
    {
     "data": {
      "text/html": [
       "<table class=\"data-frame\"><tr><th></th><th>First Beacon</th><th>Last Beacon</th></tr><tr><th>1</th><td>2017-11-16T04:59:00</td><td>2017-11-16T23:59:58</td></tr></table>"
      ],
      "text/plain": [
       "1x2 DataFrames.DataFrame\n",
       "│ Row │ First Beacon        │ Last Beacon         │\n",
       "┝━━━━━┿━━━━━━━━━━━━━━━━━━━━━┿━━━━━━━━━━━━━━━━━━━━━┥\n",
       "│ 1   │ 2017-11-16T04:59:00 │ 2017-11-16T23:59:58 │"
      ]
     },
     "execution_count": 23,
     "metadata": {},
     "output_type": "execute_result"
    }
   ],
   "source": [
    "firstAndLastBeaconReport(TV,UP)"
   ]
  },
  {
   "cell_type": "code",
   "execution_count": 16,
   "metadata": {
    "collapsed": false,
    "input_collapsed": false,
    "scrolled": false
   },
   "outputs": [
    {
     "data": {
      "text/html": [
       "<div class=\"dswbOutputText\">\n",
       "    <strong><span class=\"chart_info\" style=\"color:#B1D6ED;\">Using session timeout value of 30 minutes...</strong>\n",
       "</div>\n"
      ]
     },
     "metadata": {},
     "output_type": "display_data"
    },
    {
     "data": {
      "text/html": [
       "<div class=\"dswbOutputText\"><h1 class=\"chart_title\" style=\"color:#ccc\">Concurrent Sessions and Beacons by hour</h1><h3 class=\"chart_info\" style=\"color:#ccc\">November 10, 2017 04:59:00 to November 17, 2017 04:59:00</h3><h5 class=\"chart_lastCalled\" style=\"color:#ccc\">Run at November 17, 2017 16:37:04</h5></div>"
      ]
     },
     "metadata": {},
     "output_type": "display_data"
    },
    {
     "data": {
      "text/html": [
       "    <iframe id=\"timeSeries-PKPCEXADTPZWLCFLWDKKXIZAMCUDEXYO\" class=\"dswbiframe\" width=\"100%\" height=\"600\" src=\"about:blank\" scrolling=\"no\"></iframe>\n",
       "    <script>\n",
       "    (function() {\n",
       "        var iframe = document.getElementById(\"timeSeries-PKPCEXADTPZWLCFLWDKKXIZAMCUDEXYO\");\n",
       "        iframe.timeSeriesRendererLoaded = function(runner) {\n",
       "            iframe.runner = runner;\n",
       "            iframe.runner([[\"x\",\"2017-11-10 04:00:00\",\"2017-11-10 05:00:00\",\"2017-11-10 06:00:00\",\"2017-11-10 07:00:00\",\"2017-11-10 08:00:00\",\"2017-11-10 09:00:00\",\"2017-11-10 10:00:00\",\"2017-11-10 11:00:00\",\"2017-11-10 12:00:00\",\"2017-11-10 13:00:00\",\"2017-11-10 14:00:00\",\"2017-11-10 15:00:00\",\"2017-11-10 16:00:00\",\"2017-11-10 17:00:00\",\"2017-11-10 18:00:00\",\"2017-11-10 19:00:00\",\"2017-11-10 20:00:00\",\"2017-11-10 21:00:00\",\"2017-11-10 22:00:00\",\"2017-11-10 23:00:00\",\"2017-11-11 00:00:00\",\"2017-11-11 01:00:00\",\"2017-11-11 02:00:00\",\"2017-11-11 03:00:00\",\"2017-11-11 04:00:00\",\"2017-11-11 05:00:00\",\"2017-11-11 06:00:00\",\"2017-11-11 07:00:00\",\"2017-11-11 08:00:00\",\"2017-11-11 09:00:00\",\"2017-11-11 10:00:00\",\"2017-11-11 11:00:00\",\"2017-11-11 12:00:00\",\"2017-11-11 13:00:00\",\"2017-11-11 14:00:00\",\"2017-11-11 15:00:00\",\"2017-11-11 16:00:00\",\"2017-11-11 17:00:00\",\"2017-11-11 18:00:00\",\"2017-11-11 19:00:00\",\"2017-11-11 20:00:00\",\"2017-11-11 21:00:00\",\"2017-11-11 22:00:00\",\"2017-11-11 23:00:00\",\"2017-11-12 00:00:00\",\"2017-11-12 01:00:00\",\"2017-11-12 02:00:00\",\"2017-11-12 03:00:00\",\"2017-11-12 04:00:00\",\"2017-11-12 05:00:00\",\"2017-11-12 06:00:00\",\"2017-11-12 07:00:00\",\"2017-11-12 08:00:00\",\"2017-11-12 09:00:00\",\"2017-11-12 10:00:00\",\"2017-11-12 11:00:00\",\"2017-11-12 12:00:00\",\"2017-11-12 13:00:00\",\"2017-11-12 14:00:00\",\"2017-11-12 15:00:00\",\"2017-11-12 16:00:00\",\"2017-11-12 17:00:00\",\"2017-11-12 18:00:00\",\"2017-11-12 19:00:00\",\"2017-11-12 20:00:00\",\"2017-11-12 21:00:00\",\"2017-11-12 22:00:00\",\"2017-11-12 23:00:00\",\"2017-11-13 00:00:00\",\"2017-11-13 01:00:00\",\"2017-11-13 02:00:00\",\"2017-11-13 03:00:00\",\"2017-11-13 04:00:00\",\"2017-11-13 05:00:00\",\"2017-11-13 06:00:00\",\"2017-11-13 07:00:00\",\"2017-11-13 08:00:00\",\"2017-11-13 09:00:00\",\"2017-11-13 10:00:00\",\"2017-11-13 11:00:00\",\"2017-11-13 12:00:00\",\"2017-11-13 13:00:00\",\"2017-11-13 14:00:00\",\"2017-11-13 15:00:00\",\"2017-11-13 16:00:00\",\"2017-11-13 17:00:00\",\"2017-11-13 18:00:00\",\"2017-11-13 19:00:00\",\"2017-11-13 20:00:00\",\"2017-11-13 21:00:00\",\"2017-11-13 22:00:00\",\"2017-11-13 23:00:00\",\"2017-11-14 00:00:00\",\"2017-11-14 01:00:00\",\"2017-11-14 02:00:00\",\"2017-11-14 03:00:00\",\"2017-11-14 04:00:00\",\"2017-11-14 05:00:00\",\"2017-11-14 06:00:00\",\"2017-11-14 07:00:00\",\"2017-11-14 08:00:00\",\"2017-11-14 09:00:00\",\"2017-11-14 10:00:00\",\"2017-11-14 11:00:00\",\"2017-11-14 12:00:00\",\"2017-11-14 13:00:00\",\"2017-11-14 14:00:00\",\"2017-11-14 15:00:00\",\"2017-11-14 16:00:00\",\"2017-11-14 17:00:00\",\"2017-11-14 18:00:00\",\"2017-11-14 19:00:00\",\"2017-11-14 20:00:00\",\"2017-11-14 21:00:00\",\"2017-11-14 22:00:00\",\"2017-11-14 23:00:00\",\"2017-11-15 00:00:00\",\"2017-11-15 01:00:00\",\"2017-11-15 02:00:00\",\"2017-11-15 03:00:00\",\"2017-11-15 04:00:00\",\"2017-11-15 05:00:00\",\"2017-11-15 06:00:00\",\"2017-11-15 07:00:00\",\"2017-11-15 08:00:00\",\"2017-11-15 09:00:00\",\"2017-11-15 10:00:00\",\"2017-11-15 11:00:00\",\"2017-11-15 12:00:00\",\"2017-11-15 13:00:00\",\"2017-11-15 14:00:00\",\"2017-11-15 15:00:00\",\"2017-11-15 16:00:00\",\"2017-11-15 17:00:00\",\"2017-11-15 18:00:00\",\"2017-11-15 19:00:00\",\"2017-11-15 20:00:00\",\"2017-11-15 21:00:00\",\"2017-11-15 22:00:00\",\"2017-11-15 23:00:00\",\"2017-11-16 00:00:00\",\"2017-11-16 01:00:00\",\"2017-11-16 02:00:00\",\"2017-11-16 03:00:00\",\"2017-11-16 04:00:00\",\"2017-11-16 05:00:00\",\"2017-11-16 06:00:00\",\"2017-11-16 07:00:00\",\"2017-11-16 08:00:00\",\"2017-11-16 09:00:00\",\"2017-11-16 10:00:00\",\"2017-11-16 11:00:00\",\"2017-11-16 12:00:00\",\"2017-11-16 13:00:00\",\"2017-11-16 14:00:00\",\"2017-11-16 15:00:00\",\"2017-11-16 16:00:00\",\"2017-11-16 17:00:00\",\"2017-11-16 18:00:00\",\"2017-11-16 19:00:00\",\"2017-11-16 20:00:00\",\"2017-11-16 21:00:00\",\"2017-11-16 22:00:00\",\"2017-11-16 23:00:00\"],[\"data1\",47,1436,1389,1411,1354,1345,1458,1579,1742,1880,2028,2113,2019,2109,2187,2305,1840,1821,1620,1526,1337,1262,1288,1300,1275,1700,1564,1519,1482,1517,1494,1460,1766,2159,2195,2089,2066,1997,2219,1959,1795,1704,1564,1402,1365,1310,1299,1276,1314,1138,1212,1172,1163,1292,1188,1761,1947,2590,2561,8492,9081,7426,6194,5115,4717,4478,4151,3640,3572,3387,3405,3367,3028,2914,2863,2723,2838,2694,2654,2799,3326,3619,3880,3404,2712,2566,2828,2494,2224,2051,1976,1699,1671,1720,1691,1801,1728,1725,1623,1525,1552,1598,1546,1748,2048,2281,2724,2637,2553,6248,9365,7902,6161,5532,4830,4201,3997,3953,3869,3843,3464,3247,3151,2954,2759,2629,2584,2912,3410,3680,3943,4368,5275,4272,3134,2913,2811,2853,2478,2237,2069,2231,2139,2105,2051,1968,1993,1956,2008,1862,1906,3343,3756,3637,3794,3621,3291,3107,3148,2842,3014,2751,2419,2184],[\"data2\",83,5491,5419,5224,5063,5404,5754,5828,6541,7789,7836,8351,8386,8316,8486,9396,7594,7093,6537,6180,5597,5550,5080,5889,4838,5100,5009,4439,4853,5334,4967,5754,6169,7538,7843,7349,8065,7653,7395,6786,6788,6476,6078,5410,4850,4861,5101,5153,5097,4451,4402,4156,4185,4877,4216,5576,6945,8533,8921,16572,16355,15351,13927,10957,10569,9871,9495,7992,7797,9097,8192,8534,7439,7503,7617,7074,7849,7236,7077,7551,9461,10361,11573,11031,11038,10823,11004,9888,9455,8252,8045,6650,6670,6933,6241,6581,6493,6198,6110,5210,5514,5792,5653,6905,7625,7821,9995,9843,9896,14012,19351,16609,13552,12438,11542,10211,9530,10110,9259,9600,9215,8539,8274,8002,7731,7563,7310,8166,9752,10364,11241,12346,13791,12343,10565,9139,9995,9170,8134,7298,7475,7149,7239,6755,6348,6733,6625,6413,6212,5885,6221,8797,11490,11005,11502,12135,12574,10987,11515,9716,10459,9056,8388,7697]],\n",
       "                [\"Sessions\",\"Beacons\"],\n",
       "                [\"hour\",\"Concurrent Sessions\",\"Beacon Count\"],\n",
       "                [\"area-spline\",\"bar\"],\n",
       "                [\"hsla(28, 100%, 86%, 0.9)\",\"hsla(197, 70%, 73%, 0.9)\"],\n",
       "                [],\n",
       "                [\"data2\"],\n",
       "                \"    .c3-line {\\n        stroke: #039BE5;\\n    }\\n\\n    .c3-area {\\n        opacity:0.4;\\n    }\\n\\n    .c3 text {\\n        stroke: #979797 !important;\\n    }\\n\",\n",
       "                [],\n",
       "                {\"point_r\":0,\"axis_y_min\":0,\"axis_x_tick_culling_max\":20,\"axis_y2_min\":0}\n",
       "            );\n",
       "        }\n",
       "        iframe.src = \"/static/graphs/templates/c3Viz_template.html#id=timeSeries-PKPCEXADTPZWLCFLWDKKXIZAMCUDEXYO\";\n",
       "    }());\n",
       "    </script>\n"
      ]
     },
     "metadata": {},
     "output_type": "display_data"
    }
   ],
   "source": [
    "sessionsBeaconsFAPVSB(TV,UP)"
   ]
  },
  {
   "cell_type": "code",
   "execution_count": 17,
   "metadata": {
    "collapsed": false,
    "input_collapsed": false,
    "scrolled": false
   },
   "outputs": [
    {
     "data": {
      "text/html": [
       "<div class=\"dswbOutputText\"><h1 class=\"chart_title\" style=\"color:#ccc\">Median Load Times</h1><h3 class=\"chart_info\" style=\"color:#ccc\">November 10, 2017 04:59:00 to November 17, 2017 04:59:00</h3><h5 class=\"chart_lastCalled\" style=\"color:#ccc\">Run at November 17, 2017 16:37:09</h5></div>"
      ]
     },
     "metadata": {},
     "output_type": "display_data"
    },
    {
     "data": {
      "text/html": [
       "    <iframe id=\"timeSeries-YERUDWDWPUXKICRLSAZLLABOLMQZMJPX\" class=\"dswbiframe\" width=\"100%\" height=\"600\" src=\"about:blank\" scrolling=\"no\"></iframe>\n",
       "    <script>\n",
       "    (function() {\n",
       "        var iframe = document.getElementById(\"timeSeries-YERUDWDWPUXKICRLSAZLLABOLMQZMJPX\");\n",
       "        iframe.timeSeriesRendererLoaded = function(runner) {\n",
       "            iframe.runner = runner;\n",
       "            iframe.runner([[\"x\",\"November 10, 2017 04:00:00\",\"November 10, 2017 05:00:00\",\"November 10, 2017 06:00:00\",\"November 10, 2017 07:00:00\",\"November 10, 2017 08:00:00\",\"November 10, 2017 09:00:00\",\"November 10, 2017 10:00:00\",\"November 10, 2017 11:00:00\",\"November 10, 2017 12:00:00\",\"November 10, 2017 13:00:00\",\"November 10, 2017 14:00:00\",\"November 10, 2017 15:00:00\",\"November 10, 2017 16:00:00\",\"November 10, 2017 17:00:00\",\"November 10, 2017 18:00:00\",\"November 10, 2017 19:00:00\",\"November 10, 2017 20:00:00\",\"November 10, 2017 21:00:00\",\"November 10, 2017 22:00:00\",\"November 10, 2017 23:00:00\",\"November 11, 2017 00:00:00\",\"November 11, 2017 01:00:00\",\"November 11, 2017 02:00:00\",\"November 11, 2017 03:00:00\",\"November 11, 2017 04:00:00\",\"November 11, 2017 05:00:00\",\"November 11, 2017 06:00:00\",\"November 11, 2017 07:00:00\",\"November 11, 2017 08:00:00\",\"November 11, 2017 09:00:00\",\"November 11, 2017 10:00:00\",\"November 11, 2017 11:00:00\",\"November 11, 2017 12:00:00\",\"November 11, 2017 13:00:00\",\"November 11, 2017 14:00:00\",\"November 11, 2017 15:00:00\",\"November 11, 2017 16:00:00\",\"November 11, 2017 17:00:00\",\"November 11, 2017 18:00:00\",\"November 11, 2017 19:00:00\",\"November 11, 2017 20:00:00\",\"November 11, 2017 21:00:00\",\"November 11, 2017 22:00:00\",\"November 11, 2017 23:00:00\",\"November 12, 2017 00:00:00\",\"November 12, 2017 01:00:00\",\"November 12, 2017 02:00:00\",\"November 12, 2017 03:00:00\",\"November 12, 2017 04:00:00\",\"November 12, 2017 05:00:00\",\"November 12, 2017 06:00:00\",\"November 12, 2017 07:00:00\",\"November 12, 2017 08:00:00\",\"November 12, 2017 09:00:00\",\"November 12, 2017 10:00:00\",\"November 12, 2017 11:00:00\",\"November 12, 2017 12:00:00\",\"November 12, 2017 13:00:00\",\"November 12, 2017 14:00:00\",\"November 12, 2017 15:00:00\",\"November 12, 2017 16:00:00\",\"November 12, 2017 17:00:00\",\"November 12, 2017 18:00:00\",\"November 12, 2017 19:00:00\",\"November 12, 2017 20:00:00\",\"November 12, 2017 21:00:00\",\"November 12, 2017 22:00:00\",\"November 12, 2017 23:00:00\",\"November 13, 2017 00:00:00\",\"November 13, 2017 01:00:00\",\"November 13, 2017 02:00:00\",\"November 13, 2017 03:00:00\",\"November 13, 2017 04:00:00\",\"November 13, 2017 05:00:00\",\"November 13, 2017 06:00:00\",\"November 13, 2017 07:00:00\",\"November 13, 2017 08:00:00\",\"November 13, 2017 09:00:00\",\"November 13, 2017 10:00:00\",\"November 13, 2017 11:00:00\",\"November 13, 2017 12:00:00\",\"November 13, 2017 13:00:00\",\"November 13, 2017 14:00:00\",\"November 13, 2017 15:00:00\",\"November 13, 2017 16:00:00\",\"November 13, 2017 17:00:00\",\"November 13, 2017 18:00:00\",\"November 13, 2017 19:00:00\",\"November 13, 2017 20:00:00\",\"November 13, 2017 21:00:00\",\"November 13, 2017 22:00:00\",\"November 13, 2017 23:00:00\",\"November 14, 2017 00:00:00\",\"November 14, 2017 01:00:00\",\"November 14, 2017 02:00:00\",\"November 14, 2017 03:00:00\",\"November 14, 2017 04:00:00\",\"November 14, 2017 05:00:00\",\"November 14, 2017 06:00:00\",\"November 14, 2017 07:00:00\",\"November 14, 2017 08:00:00\",\"November 14, 2017 09:00:00\",\"November 14, 2017 10:00:00\",\"November 14, 2017 11:00:00\",\"November 14, 2017 12:00:00\",\"November 14, 2017 13:00:00\",\"November 14, 2017 14:00:00\",\"November 14, 2017 15:00:00\",\"November 14, 2017 16:00:00\",\"November 14, 2017 17:00:00\",\"November 14, 2017 18:00:00\",\"November 14, 2017 19:00:00\",\"November 14, 2017 20:00:00\",\"November 14, 2017 21:00:00\",\"November 14, 2017 22:00:00\",\"November 14, 2017 23:00:00\",\"November 15, 2017 00:00:00\",\"November 15, 2017 01:00:00\",\"November 15, 2017 02:00:00\",\"November 15, 2017 03:00:00\",\"November 15, 2017 04:00:00\",\"November 15, 2017 05:00:00\",\"November 15, 2017 06:00:00\",\"November 15, 2017 07:00:00\",\"November 15, 2017 08:00:00\",\"November 15, 2017 09:00:00\",\"November 15, 2017 10:00:00\",\"November 15, 2017 11:00:00\",\"November 15, 2017 12:00:00\",\"November 15, 2017 13:00:00\",\"November 15, 2017 14:00:00\",\"November 15, 2017 15:00:00\",\"November 15, 2017 16:00:00\",\"November 15, 2017 17:00:00\",\"November 15, 2017 18:00:00\",\"November 15, 2017 19:00:00\",\"November 15, 2017 20:00:00\",\"November 15, 2017 21:00:00\",\"November 15, 2017 22:00:00\",\"November 15, 2017 23:00:00\",\"November 16, 2017 00:00:00\",\"November 16, 2017 01:00:00\",\"November 16, 2017 02:00:00\",\"November 16, 2017 03:00:00\",\"November 16, 2017 04:00:00\",\"November 16, 2017 05:00:00\",\"November 16, 2017 06:00:00\",\"November 16, 2017 07:00:00\",\"November 16, 2017 08:00:00\",\"November 16, 2017 09:00:00\",\"November 16, 2017 10:00:00\",\"November 16, 2017 11:00:00\",\"November 16, 2017 12:00:00\",\"November 16, 2017 13:00:00\",\"November 16, 2017 14:00:00\",\"November 16, 2017 15:00:00\",\"November 16, 2017 16:00:00\",\"November 16, 2017 17:00:00\",\"November 16, 2017 18:00:00\",\"November 16, 2017 19:00:00\",\"November 16, 2017 20:00:00\",\"November 16, 2017 21:00:00\",\"November 16, 2017 22:00:00\",\"November 16, 2017 23:00:00\",\"November 17, 2017 00:00:00\",\"November 17, 2017 01:00:00\",\"November 17, 2017 02:00:00\",\"November 17, 2017 03:00:00\",\"November 17, 2017 04:00:00\"],[\"data1\",652.0,651.0,681.0,701.0,699.0,705.0,735.0,1023.0,962.5,995.0,736.0,693.0,653.0,661.0,617.0,636.0,608.0,595.0,591.0,573.0,590.0,595.0,603.0,621.0,642.0,719.0,698.0,675.0,706.0,682.0,834.0,926.0,719.0,660.0,716.0,667.0,693.0,664.0,664.0,655.0,640.0,616.0,613.0,619.0,608.0,622.0,634.0,647.0,646.0,699.0,687.0,727.0,711.0,739.0,816.0,810.0,734.0,662.0,687.0,713.0,630.0,714.0,652.0,543.0,563.0,577.0,556.0,563.0,569.0,573.0,570.0,597.0,630.0,654.0,654.0,653.0,668.0,708.0,761.5,891.0,992.5,657.0,667.0,754.0,653.0,731.0,696.0,618.0,640.0,613.0,599.0,610.0,592.0,606.0,617.0,618.0,648.0,689.0,693.0,715.0,706.0,701.0,788.0,839.0,668.0,678.0,813.0,687.0,667.0,733.0,877.0,801.5,748.0,656.0,626.0,635.0,620.0,623.0,617.0,654.0,691.0,675.0,692.0,707.0,694.0,717.0,807.0,705.0,931.0,1008.0,810.0,711.0,618.0,626.0,599.0,605.0,600.0,587.0,575.5,571.0,590.0,596.0,582.0,617.0,652.0,673.0,689.0,718.0,702.0,709.0,846.0,759.0,815.5,760.0,846.0,885.0,972.0,863.5,842.0,820.0,787.0,722.0,765.0,701.0,null,null,null,null,null],[\"data2\",3548.0,4023.0,4536.0,4336.0,4387.5,4265.0,4415.0,4408.0,4142.0,4361.0,4302.5,3977.0,4186.0,4489.5,4238.0,4255.5,3924.0,3794.0,3624.0,4117.0,3936.5,3692.0,3944.5,3860.0,4161.0,4826.0,4783.0,4748.0,4579.0,4697.0,4429.0,4330.5,4422.0,4424.0,4449.5,4234.5,4142.0,4118.0,4463.0,4167.5,3745.0,3773.0,3816.0,3656.0,3738.0,3754.5,3928.0,3712.0,3914.0,4463.0,4328.0,4116.0,4407.0,4307.5,4472.0,4628.0,4231.0,4118.0,4224.5,4992.0,5280.5,5069.0,4711.0,4815.5,4407.0,4385.0,4283.0,4196.0,4388.0,4135.0,4393.5,4398.0,4682.5,4660.5,4622.0,4863.0,4850.0,4798.0,4784.0,4812.0,4580.5,4501.0,4428.0,4303.0,4149.0,4020.5,4297.0,3850.0,3332.0,3754.0,3472.5,3568.0,3578.0,3862.0,4004.5,4250.0,4020.5,4375.0,4726.0,4860.0,4670.0,4506.0,4322.0,4158.0,4133.5,4268.0,4099.0,3974.0,3880.5,4670.0,4580.5,4317.0,4342.0,4277.5,4138.0,4205.5,4257.0,3993.5,4377.0,4603.0,4752.0,4847.0,5032.0,4950.0,4568.0,4561.5,4743.5,4747.0,4470.0,4586.0,4686.0,4476.0,4573.0,4373.0,4213.0,4239.5,3844.0,3979.5,3528.0,3949.0,3642.0,4201.0,4057.5,4241.5,4744.5,4498.0,4725.0,4868.5,4987.5,4555.5,4656.5,4455.5,4113.0,4181.0,4141.0,4420.5,4118.0,4077.0,3937.5,3901.0,3543.5,3689.0,3713.5,3720.0,null,null,null,null,null],[\"data3\",4175.0,4715.0,5270.0,5053.5,5197.0,5048.5,5231.0,5554.0,5287.0,5411.0,5093.5,4753.0,4916.0,5230.5,4884.0,4958.5,4591.0,4446.0,4255.0,4776.0,4574.0,4362.0,4585.5,4565.0,4856.0,5663.5,5568.0,5561.0,5401.0,5468.5,5315.0,5363.5,5266.0,5172.0,5268.0,4982.0,4831.0,4851.0,5169.0,4859.5,4393.0,4459.0,4470.0,4332.0,4406.5,4431.0,4612.0,4391.0,4637.0,5219.0,5084.0,4868.0,5221.0,5039.0,5414.5,5547.0,5024.0,4821.0,5005.0,5936.0,6109.0,5919.0,5424.0,5429.0,4972.0,5003.0,4888.0,4810.5,5030.0,4762.0,4992.5,5070.0,5415.0,5474.0,5396.0,5582.0,5614.0,5591.5,5618.0,5841.0,5781.0,5282.0,5106.0,5155.0,4868.0,4817.0,5076.0,4510.0,3986.0,4422.0,4092.0,4206.0,4169.0,4526.0,4687.0,4955.0,4714.0,5197.5,5554.0,5761.5,5504.5,5287.5,5240.0,5100.0,4906.0,5020.0,5051.0,4759.0,4574.0,5566.0,5639.0,5220.0,5195.0,5067.0,4876.0,4909.0,5011.5,4666.0,5102.0,5349.5,5575.0,5662.0,5810.0,5807.0,5347.0,5385.0,5671.0,5569.0,5553.0,5758.0,5610.0,5294.5,5262.0,5056.0,4850.0,4894.0,4503.0,4593.0,4119.0,4590.5,4271.0,4864.0,4695.0,4939.0,5472.5,5256.0,5523.0,5675.0,5763.0,5295.0,5671.0,5361.0,5048.0,5068.0,5093.5,5401.0,5151.0,5011.0,4861.0,4819.0,4346.0,4488.0,4494.5,4670.0,null,null,null,null,null]],\n",
       "                [\"Back-end Load Time\",\"Front-end Load Time\",\"Full Page Load Time\",\"Beacon Count\"],\n",
       "                [\"hour\",\"Milliseconds\",\"Count\"],\n",
       "                [\"area\",\"area\",\"spline\",\"line\"],\n",
       "                [\"hsla(130, 61%, 50%, 0.9)\",\"hsla(214, 86%, 60%, 0.9)\",\"hsla(35, 100%, 50%, 0.9)\"],\n",
       "                [[\"data1\",\"data2\"]],\n",
       "                [\"data4\"],\n",
       "                \"\",\n",
       "                [\"data4\"],\n",
       "                {\"axis_y_min\":0,\"axis_y2_min\":0}\n",
       "            );\n",
       "        }\n",
       "        iframe.src = \"/static/graphs/templates/c3Viz_template.html#id=timeSeries-YERUDWDWPUXKICRLSAZLLABOLMQZMJPX\";\n",
       "    }());\n",
       "    </script>\n"
      ]
     },
     "metadata": {},
     "output_type": "display_data"
    }
   ],
   "source": [
    "loadTimeFAPVSB(TV,UP)"
   ]
  },
  {
   "cell_type": "code",
   "execution_count": 18,
   "metadata": {
    "collapsed": false,
    "input_collapsed": false,
    "scrolled": false
   },
   "outputs": [
    {
     "data": {
      "text/html": [
       "<div class=\"dswbOutputText\"><h1 class=\"chart_title\" style=\"color:#ccc\">Top URL Page Views for Your Shot</h1><h3 class=\"chart_info\" style=\"color:#ccc\">Pages Load Used</h3><h3 class=\"chart_info\" style=\"color:#ccc\">November 9, 2017 23:59:00 to November 16, 2017 23:59:00 Local Time</h3></div>"
      ]
     },
     "metadata": {},
     "output_type": "display_data"
    },
    {
     "data": {
      "text/html": [
       "    <table  class=\"dataframe-table\">\n",
       "    <thead><tr><th class=\"cell-1\" style=\"\">Views</th> <th class=\"cell-2\" style=\"\">Url - With Grouping After Parameters Dropped</th></tr></thead>\n",
       "    <tbody>\n",
       "    <tr><td class=\"cell-1\" style=\"text-align:right;\">60,434</td> <td class=\"cell-2\" style=\"\">http://photography.nationalgeographic.com/nature-photographer-of-the-year-2017/gallery/week-8-all/1</td></tr>\n",
       "<tr><td class=\"cell-1\" style=\"text-align:right;\">48,686</td> <td class=\"cell-2\" style=\"\">http://photography.nationalgeographic.com/nature-photographer-of-the-year-2017/gallery/week-9-all/1</td></tr>\n",
       "<tr><td class=\"cell-1\" style=\"text-align:right;\">45,941</td> <td class=\"cell-2\" style=\"\">http://yourshot.nationalgeographic.com</td></tr>\n",
       "<tr><td class=\"cell-1\" style=\"text-align:right;\">38,426</td> <td class=\"cell-2\" style=\"\">http://photography.nationalgeographic.com/nature-photographer-of-the-year-2017</td></tr>\n",
       "<tr><td class=\"cell-1\" style=\"text-align:right;\">27,633</td> <td class=\"cell-2\" style=\"\">http://yourshot.nationalgeographic.com/photos</td></tr>\n",
       "<tr><td class=\"cell-1\" style=\"text-align:right;\">23,508</td> <td class=\"cell-2\" style=\"\">http://photography.nationalgeographic.com/nature-photographer-of-the-year-2017/enter</td></tr>\n",
       "<tr><td class=\"cell-1\" style=\"text-align:right;\">22,337</td> <td class=\"cell-2\" style=\"\">http://m.yourshot.nationalgeographic.com</td></tr>\n",
       "<tr><td class=\"cell-1\" style=\"text-align:right;\">19,130</td> <td class=\"cell-2\" style=\"\">http://yourshot.nationalgeographic.com/daily-dozen</td></tr>\n",
       "    \n",
       "    <tr><td class=\"cell-1\" style=\"text-align:right;\">16,695</td> <td class=\"cell-2\" style=\"\">http://photography.nationalgeographic.com/nature-photographer-of-the-year-2017/gallery/week-9-wildlife/1</td></tr>\n",
       "<tr><td class=\"cell-1\" style=\"text-align:right;\">12,724</td> <td class=\"cell-2\" style=\"\">http://yourshot.nationalgeographic.com/assignments-stories</td></tr>\n",
       "<tr><td class=\"cell-1\" style=\"text-align:right;\">10,022</td> <td class=\"cell-2\" style=\"\">http://yourshot.nationalgeographic.com/search</td></tr>\n",
       "<tr><td class=\"cell-1\" style=\"text-align:right;\">9,431</td> <td class=\"cell-2\" style=\"\">http://m.yourshot.nationalgeographic.com/daily-dozen</td></tr>\n",
       "<tr><td class=\"cell-1\" style=\"text-align:right;\">9,413</td> <td class=\"cell-2\" style=\"\">http://yourshot.nationalgeographic.com/assignments/quest-happiness</td></tr>\n",
       "<tr><td class=\"cell-1\" style=\"text-align:right;\">8,994</td> <td class=\"cell-2\" style=\"\">http://m.yourshot.nationalgeographic.com/photos</td></tr>\n",
       "<tr><td class=\"cell-1\" style=\"text-align:right;\">8,623</td> <td class=\"cell-2\" style=\"\">https://members.nationalgeographic.com/account</td></tr>\n",
       "    </tbody>\n"
      ],
      "text/plain": [
       "HTML{UTF8String}(\"    <table  class=\\\"dataframe-table\\\">\\n    <thead><tr><th class=\\\"cell-1\\\" style=\\\"\\\">Views</th> <th class=\\\"cell-2\\\" style=\\\"\\\">Url - With Grouping After Parameters Dropped</th></tr></thead>\\n    <tbody>\\n    <tr><td class=\\\"cell-1\\\" style=\\\"text-align:right;\\\">60,434</td> <td class=\\\"cell-2\\\" style=\\\"\\\">http://photography.nationalgeographic.com/nature-photographer-of-the-year-2017/gallery/week-8-all/1</td></tr>\\n<tr><td class=\\\"cell-1\\\" style=\\\"text-align:right;\\\">48,686</td> <td class=\\\"cell-2\\\" style=\\\"\\\">http://photography.nationalgeographic.com/nature-photographer-of-the-year-2017/gallery/week-9-all/1</td></tr>\\n<tr><td class=\\\"cell-1\\\" style=\\\"text-align:right;\\\">45,941</td> <td class=\\\"cell-2\\\" style=\\\"\\\">http://yourshot.nationalgeographic.com</td></tr>\\n<tr><td class=\\\"cell-1\\\" style=\\\"text-align:right;\\\">38,426</td> <td class=\\\"cell-2\\\" style=\\\"\\\">http://photography.nationalgeographic.com/nature-photographer-of-the-year-2017</td></tr>\\n<tr><td class=\\\"cell-1\\\" style=\\\"text-align:right;\\\">27,633</td> <td class=\\\"cell-2\\\" style=\\\"\\\">http://yourshot.nationalgeographic.com/photos</td></tr>\\n<tr><td class=\\\"cell-1\\\" style=\\\"text-align:right;\\\">23,508</td> <td class=\\\"cell-2\\\" style=\\\"\\\">http://photography.nationalgeographic.com/nature-photographer-of-the-year-2017/enter</td></tr>\\n<tr><td class=\\\"cell-1\\\" style=\\\"text-align:right;\\\">22,337</td> <td class=\\\"cell-2\\\" style=\\\"\\\">http://m.yourshot.nationalgeographic.com</td></tr>\\n<tr><td class=\\\"cell-1\\\" style=\\\"text-align:right;\\\">19,130</td> <td class=\\\"cell-2\\\" style=\\\"\\\">http://yourshot.nationalgeographic.com/daily-dozen</td></tr>\\n    \\n    <tr><td class=\\\"cell-1\\\" style=\\\"text-align:right;\\\">16,695</td> <td class=\\\"cell-2\\\" style=\\\"\\\">http://photography.nationalgeographic.com/nature-photographer-of-the-year-2017/gallery/week-9-wildlife/1</td></tr>\\n<tr><td class=\\\"cell-1\\\" style=\\\"text-align:right;\\\">12,724</td> <td class=\\\"cell-2\\\" style=\\\"\\\">http://yourshot.nationalgeographic.com/assignments-stories</td></tr>\\n<tr><td class=\\\"cell-1\\\" style=\\\"text-align:right;\\\">10,022</td> <td class=\\\"cell-2\\\" style=\\\"\\\">http://yourshot.nationalgeographic.com/search</td></tr>\\n<tr><td class=\\\"cell-1\\\" style=\\\"text-align:right;\\\">9,431</td> <td class=\\\"cell-2\\\" style=\\\"\\\">http://m.yourshot.nationalgeographic.com/daily-dozen</td></tr>\\n<tr><td class=\\\"cell-1\\\" style=\\\"text-align:right;\\\">9,413</td> <td class=\\\"cell-2\\\" style=\\\"\\\">http://yourshot.nationalgeographic.com/assignments/quest-happiness</td></tr>\\n<tr><td class=\\\"cell-1\\\" style=\\\"text-align:right;\\\">8,994</td> <td class=\\\"cell-2\\\" style=\\\"\\\">http://m.yourshot.nationalgeographic.com/photos</td></tr>\\n<tr><td class=\\\"cell-1\\\" style=\\\"text-align:right;\\\">8,623</td> <td class=\\\"cell-2\\\" style=\\\"\\\">https://members.nationalgeographic.com/account</td></tr>\\n    </tbody>\\n\")"
      ]
     },
     "metadata": {},
     "output_type": "display_data"
    },
    {
     "data": {
      "text/html": [
       "    <table  class=\"dataframe-table\">\n",
       "    <thead><tr><th class=\"cell-1\" style=\"\">Views</th> <th class=\"cell-2\" style=\"\">Avg MB</th> <th class=\"cell-3\" style=\"\">Avg MS</th> <th class=\"cell-4\" style=\"\">Url - Individual</th></tr></thead>\n",
       "    <tbody>\n",
       "    <tr><td class=\"cell-1\" style=\"text-align:right;\">40,881</td> <td class=\"cell-2\" style=\"text-align:right;\">269,997</td> <td class=\"cell-3\" style=\"text-align:right;\">8,616</td> <td class=\"cell-4\" style=\"\">http://yourshot.nationalgeographic.com/</td></tr>\n",
       "<tr><td class=\"cell-1\" style=\"text-align:right;\">33,408</td> <td class=\"cell-2\" style=\"text-align:right;\">168,522</td> <td class=\"cell-3\" style=\"text-align:right;\">11,912</td> <td class=\"cell-4\" style=\"\">http://photography.nationalgeographic.com/nature-photographer-of-the-year-2017/gallery/week-9-all/1</td></tr>\n",
       "<tr><td class=\"cell-1\" style=\"text-align:right;\">32,043</td> <td class=\"cell-2\" style=\"text-align:right;\">166,416</td> <td class=\"cell-3\" style=\"text-align:right;\">12,181</td> <td class=\"cell-4\" style=\"\">http://photography.nationalgeographic.com/nature-photographer-of-the-year-2017/gallery/week-8-all/1</td></tr>\n",
       "<tr><td class=\"cell-1\" style=\"text-align:right;\">27,479</td> <td class=\"cell-2\" style=\"text-align:right;\">150,934</td> <td class=\"cell-3\" style=\"text-align:right;\">9,743</td> <td class=\"cell-4\" style=\"\">http://photography.nationalgeographic.com/nature-photographer-of-the-year-2017/gallery/week-8-all/1?utm_source=Instagram...</td></tr>\n",
       "<tr><td class=\"cell-1\" style=\"text-align:right;\">27,309</td> <td class=\"cell-2\" style=\"text-align:right;\">259,151</td> <td class=\"cell-3\" style=\"text-align:right;\">8,880</td> <td class=\"cell-4\" style=\"\">http://yourshot.nationalgeographic.com/photos/</td></tr>\n",
       "<tr><td class=\"cell-1\" style=\"text-align:right;\">19,319</td> <td class=\"cell-2\" style=\"text-align:right;\">261,090</td> <td class=\"cell-3\" style=\"text-align:right;\">7,973</td> <td class=\"cell-4\" style=\"\">http://m.yourshot.nationalgeographic.com/</td></tr>\n",
       "<tr><td class=\"cell-1\" style=\"text-align:right;\">17,941</td> <td class=\"cell-2\" style=\"text-align:right;\">268,917</td> <td class=\"cell-3\" style=\"text-align:right;\">9,162</td> <td class=\"cell-4\" style=\"\">http://yourshot.nationalgeographic.com/daily-dozen/</td></tr>\n",
       "<tr><td class=\"cell-1\" style=\"text-align:right;\">12,578</td> <td class=\"cell-2\" style=\"text-align:right;\">416,411</td> <td class=\"cell-3\" style=\"text-align:right;\">9,686</td> <td class=\"cell-4\" style=\"\">http://yourshot.nationalgeographic.com/assignments-stories/</td></tr>\n",
       "    \n",
       "    <tr><td class=\"cell-1\" style=\"text-align:right;\">12,062</td> <td class=\"cell-2\" style=\"text-align:right;\">170,855</td> <td class=\"cell-3\" style=\"text-align:right;\">12,501</td> <td class=\"cell-4\" style=\"\">http://photography.nationalgeographic.com/nature-photographer-of-the-year-2017/gallery/week-9-wildlife/1</td></tr>\n",
       "<tr><td class=\"cell-1\" style=\"text-align:right;\">10,713</td> <td class=\"cell-2\" style=\"text-align:right;\">155,087</td> <td class=\"cell-3\" style=\"text-align:right;\">11,322</td> <td class=\"cell-4\" style=\"\">http://photography.nationalgeographic.com/nature-photographer-of-the-year-2017/gallery/week-9-all/1?utm_source=Instagram...</td></tr>\n",
       "<tr><td class=\"cell-1\" style=\"text-align:right;\">10,425</td> <td class=\"cell-2\" style=\"text-align:right;\">167,445</td> <td class=\"cell-3\" style=\"text-align:right;\">10,668</td> <td class=\"cell-4\" style=\"\">http://photography.nationalgeographic.com/nature-photographer-of-the-year-2017/</td></tr>\n",
       "<tr><td class=\"cell-1\" style=\"text-align:right;\">9,196</td> <td class=\"cell-2\" style=\"text-align:right;\">414,641</td> <td class=\"cell-3\" style=\"text-align:right;\">11,491</td> <td class=\"cell-4\" style=\"\">http://yourshot.nationalgeographic.com/assignments/quest-happiness/</td></tr>\n",
       "<tr><td class=\"cell-1\" style=\"text-align:right;\">8,886</td> <td class=\"cell-2\" style=\"text-align:right;\">276,701</td> <td class=\"cell-3\" style=\"text-align:right;\">6,854</td> <td class=\"cell-4\" style=\"\">http://m.yourshot.nationalgeographic.com/photos/</td></tr>\n",
       "<tr><td class=\"cell-1\" style=\"text-align:right;\">6,882</td> <td class=\"cell-2\" style=\"text-align:right;\">404,393</td> <td class=\"cell-3\" style=\"text-align:right;\">10,885</td> <td class=\"cell-4\" style=\"\">http://m.yourshot.nationalgeographic.com/daily-dozen/</td></tr>\n",
       "<tr><td class=\"cell-1\" style=\"text-align:right;\">6,843</td> <td class=\"cell-2\" style=\"text-align:right;\">159,740</td> <td class=\"cell-3\" style=\"text-align:right;\">8,835</td> <td class=\"cell-4\" style=\"\">http://photography.nationalgeographic.com/nature-photographer-of-the-year-2017/enter</td></tr>\n",
       "    </tbody>\n"
      ],
      "text/plain": [
       "HTML{UTF8String}(\"    <table  class=\\\"dataframe-table\\\">\\n    <thead><tr><th class=\\\"cell-1\\\" style=\\\"\\\">Views</th> <th class=\\\"cell-2\\\" style=\\\"\\\">Avg MB</th> <th class=\\\"cell-3\\\" style=\\\"\\\">Avg MS</th> <th class=\\\"cell-4\\\" style=\\\"\\\">Url - Individual</th></tr></thead>\\n    <tbody>\\n    <tr><td class=\\\"cell-1\\\" style=\\\"text-align:right;\\\">40,881</td> <td class=\\\"cell-2\\\" style=\\\"text-align:right;\\\">269,997</td> <td class=\\\"cell-3\\\" style=\\\"text-align:right;\\\">8,616</td> <td class=\\\"cell-4\\\" style=\\\"\\\">http://yourshot.nationalgeographic.com/</td></tr>\\n<tr><td class=\\\"cell-1\\\" style=\\\"text-align:right;\\\">33,408</td> <td class=\\\"cell-2\\\" style=\\\"text-align:right;\\\">168,522</td> <td class=\\\"cell-3\\\" style=\\\"text-align:right;\\\">11,912</td> <td class=\\\"cell-4\\\" style=\\\"\\\">http://photography.nationalgeographic.com/nature-photographer-of-the-year-2017/gallery/week-9-all/1</td></tr>\\n<tr><td class=\\\"cell-1\\\" style=\\\"text-align:right;\\\">32,043</td> <td class=\\\"cell-2\\\" style=\\\"text-align:right;\\\">166,416</td> <td class=\\\"cell-3\\\" style=\\\"text-align:right;\\\">12,181</td> <td class=\\\"cell-4\\\" style=\\\"\\\">http://photography.nationalgeographic.com/nature-photographer-of-the-year-2017/gallery/week-8-all/1</td></tr>\\n<tr><td class=\\\"cell-1\\\" style=\\\"text-align:right;\\\">27,479</td> <td class=\\\"cell-2\\\" style=\\\"text-align:right;\\\">150,934</td> <td class=\\\"cell-3\\\" style=\\\"text-align:right;\\\">9,743</td> <td class=\\\"cell-4\\\" style=\\\"\\\">http://photography.nationalgeographic.com/nature-photographer-of-the-year-2017/gallery/week-8-all/1?utm_source=Instagram...</td></tr>\\n<tr><td class=\\\"cell-1\\\" style=\\\"text-align:right;\\\">27,309</td> <td class=\\\"cell-2\\\" style=\\\"text-align:right;\\\">259,151</td> <td class=\\\"cell-3\\\" style=\\\"text-align:right;\\\">8,880</td> <td class=\\\"cell-4\\\" style=\\\"\\\">http://yourshot.nationalgeographic.com/photos/</td></tr>\\n<tr><td class=\\\"cell-1\\\" style=\\\"text-align:right;\\\">19,319</td> <td class=\\\"cell-2\\\" style=\\\"text-align:right;\\\">261,090</td> <td class=\\\"cell-3\\\" style=\\\"text-align:right;\\\">7,973</td> <td class=\\\"cell-4\\\" style=\\\"\\\">http://m.yourshot.nationalgeographic.com/</td></tr>\\n<tr><td class=\\\"cell-1\\\" style=\\\"text-align:right;\\\">17,941</td> <td class=\\\"cell-2\\\" style=\\\"text-align:right;\\\">268,917</td> <td class=\\\"cell-3\\\" style=\\\"text-align:right;\\\">9,162</td> <td class=\\\"cell-4\\\" style=\\\"\\\">http://yourshot.nationalgeographic.com/daily-dozen/</td></tr>\\n<tr><td class=\\\"cell-1\\\" style=\\\"text-align:right;\\\">12,578</td> <td class=\\\"cell-2\\\" style=\\\"text-align:right;\\\">416,411</td> <td class=\\\"cell-3\\\" style=\\\"text-align:right;\\\">9,686</td> <td class=\\\"cell-4\\\" style=\\\"\\\">http://yourshot.nationalgeographic.com/assignments-stories/</td></tr>\\n    \\n    <tr><td class=\\\"cell-1\\\" style=\\\"text-align:right;\\\">12,062</td> <td class=\\\"cell-2\\\" style=\\\"text-align:right;\\\">170,855</td> <td class=\\\"cell-3\\\" style=\\\"text-align:right;\\\">12,501</td> <td class=\\\"cell-4\\\" style=\\\"\\\">http://photography.nationalgeographic.com/nature-photographer-of-the-year-2017/gallery/week-9-wildlife/1</td></tr>\\n<tr><td class=\\\"cell-1\\\" style=\\\"text-align:right;\\\">10,713</td> <td class=\\\"cell-2\\\" style=\\\"text-align:right;\\\">155,087</td> <td class=\\\"cell-3\\\" style=\\\"text-align:right;\\\">11,322</td> <td class=\\\"cell-4\\\" style=\\\"\\\">http://photography.nationalgeographic.com/nature-photographer-of-the-year-2017/gallery/week-9-all/1?utm_source=Instagram...</td></tr>\\n<tr><td class=\\\"cell-1\\\" style=\\\"text-align:right;\\\">10,425</td> <td class=\\\"cell-2\\\" style=\\\"text-align:right;\\\">167,445</td> <td class=\\\"cell-3\\\" style=\\\"text-align:right;\\\">10,668</td> <td class=\\\"cell-4\\\" style=\\\"\\\">http://photography.nationalgeographic.com/nature-photographer-of-the-year-2017/</td></tr>\\n<tr><td class=\\\"cell-1\\\" style=\\\"text-align:right;\\\">9,196</td> <td class=\\\"cell-2\\\" style=\\\"text-align:right;\\\">414,641</td> <td class=\\\"cell-3\\\" style=\\\"text-align:right;\\\">11,491</td> <td class=\\\"cell-4\\\" style=\\\"\\\">http://yourshot.nationalgeographic.com/assignments/quest-happiness/</td></tr>\\n<tr><td class=\\\"cell-1\\\" style=\\\"text-align:right;\\\">8,886</td> <td class=\\\"cell-2\\\" style=\\\"text-align:right;\\\">276,701</td> <td class=\\\"cell-3\\\" style=\\\"text-align:right;\\\">6,854</td> <td class=\\\"cell-4\\\" style=\\\"\\\">http://m.yourshot.nationalgeographic.com/photos/</td></tr>\\n<tr><td class=\\\"cell-1\\\" style=\\\"text-align:right;\\\">6,882</td> <td class=\\\"cell-2\\\" style=\\\"text-align:right;\\\">404,393</td> <td class=\\\"cell-3\\\" style=\\\"text-align:right;\\\">10,885</td> <td class=\\\"cell-4\\\" style=\\\"\\\">http://m.yourshot.nationalgeographic.com/daily-dozen/</td></tr>\\n<tr><td class=\\\"cell-1\\\" style=\\\"text-align:right;\\\">6,843</td> <td class=\\\"cell-2\\\" style=\\\"text-align:right;\\\">159,740</td> <td class=\\\"cell-3\\\" style=\\\"text-align:right;\\\">8,835</td> <td class=\\\"cell-4\\\" style=\\\"\\\">http://photography.nationalgeographic.com/nature-photographer-of-the-year-2017/enter</td></tr>\\n    </tbody>\\n\")"
      ]
     },
     "metadata": {},
     "output_type": "display_data"
    }
   ],
   "source": [
    "topUrlsFAPVSB(TV,UP)"
   ]
  },
  {
   "cell_type": "code",
   "execution_count": 19,
   "metadata": {
    "collapsed": false,
    "input_collapsed": false,
    "scrolled": false
   },
   "outputs": [
    {
     "data": {
      "text/html": [
       "<div class=\"dswbOutputText\"><h1 class=\"chart_title\" style=\"color:#ccc\">Peak Arrivals for Your Shot</h1><h3 class=\"chart_info\" style=\"color:#ccc\">November 9, 2017 23:59:00 to November 16, 2017 23:59:00 Local Time</h3></div>"
      ]
     },
     "metadata": {},
     "output_type": "display_data"
    },
    {
     "data": {
      "text/html": [
       "    <table  class=\"dataframe-table\">\n",
       "    <thead><tr><th class=\"cell-1\" style=\"\"></th> <th class=\"cell-2\" style=\"\">Date</th> <th class=\"cell-3\" style=\"\">Page Views</th></tr></thead>\n",
       "    <tbody>\n",
       "    <tr><td class=\"cell-1\" style=\"\">7 Day Peak Day</td> <td class=\"cell-2\" style=\"\">2017-11-15T00:00:00</td> <td class=\"cell-3\" style=\"text-align:right;\">227,437</td></tr>\n",
       "<tr><td class=\"cell-1\" style=\"\">7 Day Peak Hour</td> <td class=\"cell-2\" style=\"\">2017-11-14T18:00:00</td> <td class=\"cell-3\" style=\"text-align:right;\">19,351</td></tr>\n",
       "    \n",
       "    <tr><td class=\"cell-1\" style=\"\">7 Day Peak Minute</td> <td class=\"cell-2\" style=\"\">2017-11-14T18:39:00</td> <td class=\"cell-3\" style=\"text-align:right;\">398</td></tr>\n",
       "    </tbody>\n"
      ],
      "text/plain": [
       "HTML{UTF8String}(\"    <table  class=\\\"dataframe-table\\\">\\n    <thead><tr><th class=\\\"cell-1\\\" style=\\\"\\\"></th> <th class=\\\"cell-2\\\" style=\\\"\\\">Date</th> <th class=\\\"cell-3\\\" style=\\\"\\\">Page Views</th></tr></thead>\\n    <tbody>\\n    <tr><td class=\\\"cell-1\\\" style=\\\"\\\">7 Day Peak Day</td> <td class=\\\"cell-2\\\" style=\\\"\\\">2017-11-15T00:00:00</td> <td class=\\\"cell-3\\\" style=\\\"text-align:right;\\\">227,437</td></tr>\\n<tr><td class=\\\"cell-1\\\" style=\\\"\\\">7 Day Peak Hour</td> <td class=\\\"cell-2\\\" style=\\\"\\\">2017-11-14T18:00:00</td> <td class=\\\"cell-3\\\" style=\\\"text-align:right;\\\">19,351</td></tr>\\n    \\n    <tr><td class=\\\"cell-1\\\" style=\\\"\\\">7 Day Peak Minute</td> <td class=\\\"cell-2\\\" style=\\\"\\\">2017-11-14T18:39:00</td> <td class=\\\"cell-3\\\" style=\\\"text-align:right;\\\">398</td></tr>\\n    </tbody>\\n\")"
      ]
     },
     "metadata": {},
     "output_type": "display_data"
    }
   ],
   "source": [
    "peakTableFAPVSB(TV,UP)"
   ]
  },
  {
   "cell_type": "code",
   "execution_count": 20,
   "metadata": {
    "collapsed": false,
    "input_collapsed": false,
    "scrolled": false
   },
   "outputs": [
    {
     "data": {
      "text/html": [
       "<div class=\"dswbOutputText\"><h1 class=\"chart_title\" style=\"color:#ccc\">Raw Data Stats Including Those above 600 seconds for Your Shot</h1><h3 class=\"chart_info\" style=\"color:#ccc\">November 9, 2017 23:59:00 to November 16, 2017 23:59:00 Local Time</h3></div>"
      ]
     },
     "metadata": {},
     "output_type": "display_data"
    },
    {
     "data": {
      "text/html": [
       "    <table  class=\"dataframe-table\">\n",
       "    <thead><tr><th class=\"cell-1\" style=\"\">unit</th> <th class=\"cell-2\" style=\"\">count</th> <th class=\"cell-3\" style=\"\">mean</th> <th class=\"cell-4\" style=\"\">median</th> <th class=\"cell-5\" style=\"\">stddev</th> <th class=\"cell-6\" style=\"\">min</th> <th class=\"cell-7\" style=\"\">max</th> <th class=\"cell-8\" style=\"\">LowerBy25p</th> <th class=\"cell-9\" style=\"\">UpperBy25p</th> <th class=\"cell-10\" style=\"\">LowerBy3Stddev</th> <th class=\"cell-11\" style=\"\">UpperBy3Stddev</th></tr></thead>\n",
       "    <tbody>\n",
       "    <tr><td class=\"cell-1\" style=\"\">milliseconds</td> <td class=\"cell-2\" style=\"text-align:right;\">1,332,699</td> <td class=\"cell-3\" style=\"text-align:right;\">9,212</td> <td class=\"cell-4\" style=\"text-align:right;\">5,074</td> <td class=\"cell-5\" style=\"text-align:right;\">19,210</td> <td class=\"cell-6\" style=\"text-align:right;\">1,000</td> <td class=\"cell-7\" style=\"text-align:right;\">599,481</td> <td class=\"cell-8\" style=\"text-align:right;\">3,806</td> <td class=\"cell-9\" style=\"text-align:right;\">6,342</td> <td class=\"cell-10\" style=\"text-align:right;\">1,000</td> <td class=\"cell-11\" style=\"text-align:right;\">62,704</td></tr>\n",
       "<tr><td class=\"cell-1\" style=\"\">seconds</td> <td class=\"cell-2\" style=\"text-align:right;\">1,332,699</td> <td class=\"cell-3\" style=\"text-align:right;\">9.212</td> <td class=\"cell-4\" style=\"text-align:right;\">5.074</td> <td class=\"cell-5\" style=\"text-align:right;\">19.21</td> <td class=\"cell-6\" style=\"text-align:right;\">1</td> <td class=\"cell-7\" style=\"text-align:right;\">599.481</td> <td class=\"cell-8\" style=\"text-align:right;\">3.806</td> <td class=\"cell-9\" style=\"text-align:right;\">6.342</td> <td class=\"cell-10\" style=\"text-align:right;\">1</td> <td class=\"cell-11\" style=\"text-align:right;\">62.704</td></tr>\n",
       "    \n",
       "    <tr><td class=\"cell-1\" style=\"\">minutes</td> <td class=\"cell-2\" style=\"text-align:right;\">1,332,699</td> <td class=\"cell-3\" style=\"text-align:right;\">0.2</td> <td class=\"cell-4\" style=\"text-align:right;\">0.1</td> <td class=\"cell-5\" style=\"text-align:right;\">0.3</td> <td class=\"cell-6\" style=\"text-align:right;\">0</td> <td class=\"cell-7\" style=\"text-align:right;\">10</td> <td class=\"cell-8\" style=\"text-align:right;\">0.1</td> <td class=\"cell-9\" style=\"text-align:right;\">0.1</td> <td class=\"cell-10\" style=\"text-align:right;\">0</td> <td class=\"cell-11\" style=\"text-align:right;\">1</td></tr>\n",
       "    </tbody>\n"
      ],
      "text/plain": [
       "HTML{UTF8String}(\"    <table  class=\\\"dataframe-table\\\">\\n    <thead><tr><th class=\\\"cell-1\\\" style=\\\"\\\">unit</th> <th class=\\\"cell-2\\\" style=\\\"\\\">count</th> <th class=\\\"cell-3\\\" style=\\\"\\\">mean</th> <th class=\\\"cell-4\\\" style=\\\"\\\">median</th> <th class=\\\"cell-5\\\" style=\\\"\\\">stddev</th> <th class=\\\"cell-6\\\" style=\\\"\\\">min</th> <th class=\\\"cell-7\\\" style=\\\"\\\">max</th> <th class=\\\"cell-8\\\" style=\\\"\\\">LowerBy25p</th> <th class=\\\"cell-9\\\" style=\\\"\\\">UpperBy25p</th> <th class=\\\"cell-10\\\" style=\\\"\\\">LowerBy3Stddev</th> <th class=\\\"cell-11\\\" style=\\\"\\\">UpperBy3Stddev</th></tr></thead>\\n    <tbody>\\n    <tr><td class=\\\"cell-1\\\" style=\\\"\\\">milliseconds</td> <td class=\\\"cell-2\\\" style=\\\"text-align:right;\\\">1,332,699</td> <td class=\\\"cell-3\\\" style=\\\"text-align:right;\\\">9,212</td> <td class=\\\"cell-4\\\" style=\\\"text-align:right;\\\">5,074</td> <td class=\\\"cell-5\\\" style=\\\"text-align:right;\\\">19,210</td> <td class=\\\"cell-6\\\" style=\\\"text-align:right;\\\">1,000</td> <td class=\\\"cell-7\\\" style=\\\"text-align:right;\\\">599,481</td> <td class=\\\"cell-8\\\" style=\\\"text-align:right;\\\">3,806</td> <td class=\\\"cell-9\\\" style=\\\"text-align:right;\\\">6,342</td> <td class=\\\"cell-10\\\" style=\\\"text-align:right;\\\">1,000</td> <td class=\\\"cell-11\\\" style=\\\"text-align:right;\\\">62,704</td></tr>\\n<tr><td class=\\\"cell-1\\\" style=\\\"\\\">seconds</td> <td class=\\\"cell-2\\\" style=\\\"text-align:right;\\\">1,332,699</td> <td class=\\\"cell-3\\\" style=\\\"text-align:right;\\\">9.212</td> <td class=\\\"cell-4\\\" style=\\\"text-align:right;\\\">5.074</td> <td class=\\\"cell-5\\\" style=\\\"text-align:right;\\\">19.21</td> <td class=\\\"cell-6\\\" style=\\\"text-align:right;\\\">1</td> <td class=\\\"cell-7\\\" style=\\\"text-align:right;\\\">599.481</td> <td class=\\\"cell-8\\\" style=\\\"text-align:right;\\\">3.806</td> <td class=\\\"cell-9\\\" style=\\\"text-align:right;\\\">6.342</td> <td class=\\\"cell-10\\\" style=\\\"text-align:right;\\\">1</td> <td class=\\\"cell-11\\\" style=\\\"text-align:right;\\\">62.704</td></tr>\\n    \\n    <tr><td class=\\\"cell-1\\\" style=\\\"\\\">minutes</td> <td class=\\\"cell-2\\\" style=\\\"text-align:right;\\\">1,332,699</td> <td class=\\\"cell-3\\\" style=\\\"text-align:right;\\\">0.2</td> <td class=\\\"cell-4\\\" style=\\\"text-align:right;\\\">0.1</td> <td class=\\\"cell-5\\\" style=\\\"text-align:right;\\\">0.3</td> <td class=\\\"cell-6\\\" style=\\\"text-align:right;\\\">0</td> <td class=\\\"cell-7\\\" style=\\\"text-align:right;\\\">10</td> <td class=\\\"cell-8\\\" style=\\\"text-align:right;\\\">0.1</td> <td class=\\\"cell-9\\\" style=\\\"text-align:right;\\\">0.1</td> <td class=\\\"cell-10\\\" style=\\\"text-align:right;\\\">0</td> <td class=\\\"cell-11\\\" style=\\\"text-align:right;\\\">1</td></tr>\\n    </tbody>\\n\")"
      ]
     },
     "metadata": {},
     "output_type": "display_data"
    }
   ],
   "source": [
    "statsTableFAPVSB(TV,UP)"
   ]
  },
  {
   "cell_type": "code",
   "execution_count": 10,
   "metadata": {
    "collapsed": true,
    "input_collapsed": false
   },
   "outputs": [],
   "source": [
    "q = query(\"\"\" drop view if exists $(UP.btView);\"\"\")\n",
    "q = query(\"\"\" drop view if exists $(UP.rtView);\"\"\")\n",
    ";"
   ]
  },
  {
   "cell_type": "code",
   "execution_count": null,
   "metadata": {
    "collapsed": true,
    "input_collapsed": true
   },
   "outputs": [],
   "source": []
  }
 ],
 "metadata": {
  "chart_version": "1.0.0",
  "kernelspec": {
   "display_name": "Julia 0.4.7",
   "language": "julia",
   "name": "julia-0.4"
  },
  "language_info": {
   "file_extension": ".jl",
   "mimetype": "application/julia",
   "name": "julia",
   "version": "0.4.7"
  },
  "library_version": "1.0.0",
  "notebook_uuid": "107f82e1-5122-4a64-ba3f-765b352a25d5",
  "readOnly": false
 },
 "nbformat": 4,
 "nbformat_minor": 1
}
