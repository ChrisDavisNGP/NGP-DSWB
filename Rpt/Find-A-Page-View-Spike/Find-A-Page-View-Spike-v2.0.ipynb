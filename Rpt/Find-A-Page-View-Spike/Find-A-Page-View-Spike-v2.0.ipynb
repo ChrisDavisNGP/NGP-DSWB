{
 "cells": [
  {
   "cell_type": "markdown",
   "metadata": {},
   "source": [
    "## Tables and Data Source setup"
   ]
  },
  {
   "cell_type": "code",
   "execution_count": 1,
   "metadata": {
    "collapsed": false,
    "input_collapsed": false,
    "scrolled": true
   },
   "outputs": [
    {
     "name": "stdout",
     "output_type": "stream",
     "text": [
      "Redshift endpoint set: 2017-11-29T15:40:30\n"
     ]
    },
    {
     "data": {
      "text/plain": [
       "\"beacons_4744\""
      ]
     },
     "execution_count": 1,
     "metadata": {},
     "output_type": "execute_result"
    }
   ],
   "source": [
    "using ODBC\n",
    "using DataFrames\n",
    "using DSWB\n",
    "using Formatting\n",
    "\n",
    "dsn = \"dswb-natgeo\" # Redshift endpoint\n",
    "table = \"beacons_4744\" # beacon table name\n",
    "tableRt = \"beacons_4744_rt\"\n",
    "\n",
    "# Connect to Beacon Data\n",
    "setRedshiftEndpoint(dsn)\n",
    "setTable(table)\n",
    "# setTable(tableRt, tableType = \"RESOURCE_TABLE\")\n",
    ";"
   ]
  },
  {
   "cell_type": "code",
   "execution_count": 2,
   "metadata": {
    "collapsed": false,
    "input_collapsed": false
   },
   "outputs": [],
   "source": [
    "include(\"../../Lib/Include-Package-v2.1.jl\")\n",
    ";"
   ]
  },
  {
   "cell_type": "code",
   "execution_count": 3,
   "metadata": {
    "collapsed": false,
    "input_collapsed": false
   },
   "outputs": [
    {
     "name": "stdout",
     "output_type": "stream",
     "text": [
      "November 28, 2017 06:59:00 to November 28, 2017 16:59:00 Local Time\n",
      "November 28, 2017 11:59:00 to November 28, 2017 21:59:00 UTC Time\n"
     ]
    }
   ],
   "source": [
    "#TV = timeVariables(2017,11,15,23,59,2017,11,16,23,59)\n",
    "#TV = weeklyTimeVariables(days=7)\n",
    "TV = yesterdayTimeVariables()\n",
    ";"
   ]
  },
  {
   "cell_type": "code",
   "execution_count": 4,
   "metadata": {
    "collapsed": true,
    "input_collapsed": false,
    "scrolled": true
   },
   "outputs": [],
   "source": [
    "UP = UrlParamsInit(\"Find_A_Page_Spike\")\n",
    "UP.agentOs = \"%\"\n",
    "UP.deviceType = \"%\"\n",
    "UP.limitRows = 250\n",
    "UP.orderBy = \"time\"\n",
    "UP.pageGroup = \"Your Shot\"   #productPageGroup\n",
    "UP.samplesMin = 10\n",
    "UP.sizeMin = 10000\n",
    "UP.timeLowerMs = 2000.0\n",
    "UP.timeUpperMs = 60000.0\n",
    "UP.urlRegEx = \"%\"   #localUrl\n",
    "UP.urlFull = \"%\"\n",
    "UP.usePageLoad=false\n",
    "UrlParamsValidate(UP)\n",
    "\n",
    "SP = ShowParamsInit()\n",
    "SP.criticalPathOnly=true\n",
    "SP.desktop=true\n",
    "SP.devView=false\n",
    "SP.debug=false\n",
    "SP.debugLevel = 0   # Tests use even numbers with > tests, make this an odd number or zero\n",
    "SP.mobile=true\n",
    "ShowParamsValidate(SP)\n",
    "\n",
    ";"
   ]
  },
  {
   "cell_type": "code",
   "execution_count": 5,
   "metadata": {
    "collapsed": false,
    "input_collapsed": false,
    "scrolled": false
   },
   "outputs": [
    {
     "data": {
      "text/html": [
       "<div class=\"dswbOutputText\">\n",
       "    <strong><span class=\"chart_info\" style=\"color:#B1D6ED;\">Using session timeout value of 30 minutes...</strong>\n",
       "</div>\n"
      ]
     },
     "metadata": {},
     "output_type": "display_data"
    },
    {
     "data": {
      "text/html": [
       "<div class=\"dswbOutputText\"><h1 class=\"chart_title\" style=\"color:#ccc\">Concurrent Sessions and Beacons by hour</h1><h3 class=\"chart_info\" style=\"color:#ccc\">November 28, 2017 11:59:00 to November 28, 2017 21:59:00</h3><h5 class=\"chart_lastCalled\" style=\"color:#ccc\">Run at November 29, 2017 15:41:09</h5></div>"
      ]
     },
     "metadata": {},
     "output_type": "display_data"
    },
    {
     "data": {
      "text/html": [
       "    <iframe id=\"timeSeries-HPMDESFDHCPCJKUKPWMRVGTWFFWCIJUS\" class=\"dswbiframe\" width=\"100%\" height=\"600\" src=\"about:blank\" scrolling=\"no\"></iframe>\n",
       "    <script>\n",
       "    (function() {\n",
       "        var iframe = document.getElementById(\"timeSeries-HPMDESFDHCPCJKUKPWMRVGTWFFWCIJUS\");\n",
       "        iframe.timeSeriesRendererLoaded = function(runner) {\n",
       "            iframe.runner = runner;\n",
       "            iframe.runner([[\"x\",\"2017-11-28 11:00:00\",\"2017-11-28 12:00:00\",\"2017-11-28 13:00:00\",\"2017-11-28 14:00:00\",\"2017-11-28 15:00:00\",\"2017-11-28 16:00:00\",\"2017-11-28 17:00:00\",\"2017-11-28 18:00:00\",\"2017-11-28 19:00:00\",\"2017-11-28 20:00:00\",\"2017-11-28 21:00:00\"],[\"data1\",65,1601,1731,1978,2083,2052,1914,1849,1740,1655,1413],[\"data2\",85,6038,7397,7761,8857,8758,7746,7340,6750,6697,5411]],\n",
       "                [\"Sessions\",\"Beacons\"],\n",
       "                [\"hour\",\"Concurrent Sessions\",\"Beacon Count\"],\n",
       "                [\"area-spline\",\"bar\"],\n",
       "                [\"hsla(28, 100%, 86%, 0.9)\",\"hsla(197, 70%, 73%, 0.9)\"],\n",
       "                [],\n",
       "                [\"data2\"],\n",
       "                \"    .c3-line {\\n        stroke: #039BE5;\\n    }\\n\\n    .c3-area {\\n        opacity:0.4;\\n    }\\n\\n    .c3 text {\\n        stroke: #979797 !important;\\n    }\\n\",\n",
       "                [],\n",
       "                {\"point_r\":0,\"axis_y_min\":0,\"axis_x_tick_culling_max\":20,\"axis_y2_min\":0}\n",
       "            );\n",
       "        }\n",
       "        iframe.src = \"/static/graphs/templates/c3Viz_template.html#id=timeSeries-HPMDESFDHCPCJKUKPWMRVGTWFFWCIJUS\";\n",
       "    }());\n",
       "    </script>\n"
      ]
     },
     "metadata": {},
     "output_type": "display_data"
    },
    {
     "data": {
      "text/html": [
       "<div class=\"dswbOutputText\"><h1 class=\"chart_title\" style=\"color:#ccc\">Median Load Times</h1><h3 class=\"chart_info\" style=\"color:#ccc\">November 28, 2017 11:59:00 to November 28, 2017 21:59:00</h3><h5 class=\"chart_lastCalled\" style=\"color:#ccc\">Run at November 29, 2017 15:41:12</h5></div>"
      ]
     },
     "metadata": {},
     "output_type": "display_data"
    },
    {
     "data": {
      "text/html": [
       "    <iframe id=\"timeSeries-WLLVEBFWTIXEGZUKUPQNBXWSEQBMIEVL\" class=\"dswbiframe\" width=\"100%\" height=\"600\" src=\"about:blank\" scrolling=\"no\"></iframe>\n",
       "    <script>\n",
       "    (function() {\n",
       "        var iframe = document.getElementById(\"timeSeries-WLLVEBFWTIXEGZUKUPQNBXWSEQBMIEVL\");\n",
       "        iframe.timeSeriesRendererLoaded = function(runner) {\n",
       "            iframe.runner = runner;\n",
       "            iframe.runner([[\"x\",\"November 28, 2017 11:00:00\",\"November 28, 2017 12:00:00\",\"November 28, 2017 13:00:00\",\"November 28, 2017 14:00:00\",\"November 28, 2017 15:00:00\",\"November 28, 2017 16:00:00\",\"November 28, 2017 17:00:00\",\"November 28, 2017 18:00:00\",\"November 28, 2017 19:00:00\",\"November 28, 2017 20:00:00\",\"November 28, 2017 21:00:00\"],[\"data1\",1505.0,1327.5,748.0,877.0,863.0,837.0,727.0,696.0,714.0,677.0,641.0],[\"data2\",5247.0,4926.5,4449.0,4667.0,4597.0,4475.5,4910.5,4601.0,4509.0,4097.0,4254.0],[\"data3\",7272.0,6452.0,5207.0,5717.0,5507.0,5368.5,5726.0,5352.5,5269.0,4802.0,4939.0]],\n",
       "                [\"Back-end Load Time\",\"Front-end Load Time\",\"Full Page Load Time\",\"Beacon Count\"],\n",
       "                [\"hour\",\"Milliseconds\",\"Count\"],\n",
       "                [\"area\",\"area\",\"spline\",\"line\"],\n",
       "                [\"hsla(130, 61%, 50%, 0.9)\",\"hsla(214, 86%, 60%, 0.9)\",\"hsla(35, 100%, 50%, 0.9)\"],\n",
       "                [[\"data1\",\"data2\"]],\n",
       "                [\"data4\"],\n",
       "                \"\",\n",
       "                [\"data4\"],\n",
       "                {\"axis_y_min\":0,\"axis_y2_min\":0}\n",
       "            );\n",
       "        }\n",
       "        iframe.src = \"/static/graphs/templates/c3Viz_template.html#id=timeSeries-WLLVEBFWTIXEGZUKUPQNBXWSEQBMIEVL\";\n",
       "    }());\n",
       "    </script>\n"
      ]
     },
     "metadata": {},
     "output_type": "display_data"
    },
    {
     "data": {
      "text/html": [
       "<div class=\"dswbOutputText\"><h1 class=\"chart_title\" style=\"color:#ccc\">Top URL Page Views for Your Shot</h1><h3 class=\"chart_info\" style=\"color:#ccc\">Pages Load Used</h3><h3 class=\"chart_info\" style=\"color:#ccc\">November 28, 2017 06:59:00 to November 28, 2017 16:59:00 Local Time</h3></div>"
      ]
     },
     "metadata": {},
     "output_type": "display_data"
    },
    {
     "data": {
      "text/html": [
       "    <table  class=\"dataframe-table\">\n",
       "    <thead><tr><th class=\"cell-1\" style=\"\">Views</th> <th class=\"cell-2\" style=\"\">Url - With Grouping After Parameters Dropped</th></tr></thead>\n",
       "    <tbody>\n",
       "    <tr><td class=\"cell-1\" style=\"text-align:right;\">3,245</td> <td class=\"cell-2\" style=\"\">http://yourshot.nationalgeographic.com</td></tr>\n",
       "<tr><td class=\"cell-1\" style=\"text-align:right;\">1,690</td> <td class=\"cell-2\" style=\"\">http://yourshot.nationalgeographic.com/daily-dozen</td></tr>\n",
       "<tr><td class=\"cell-1\" style=\"text-align:right;\">1,586</td> <td class=\"cell-2\" style=\"\">http://yourshot.nationalgeographic.com/photos</td></tr>\n",
       "<tr><td class=\"cell-1\" style=\"text-align:right;\">1,194</td> <td class=\"cell-2\" style=\"\">http://m.yourshot.nationalgeographic.com</td></tr>\n",
       "<tr><td class=\"cell-1\" style=\"text-align:right;\">899</td> <td class=\"cell-2\" style=\"\">http://yourshot.nationalgeographic.com/assignments-stories</td></tr>\n",
       "<tr><td class=\"cell-1\" style=\"text-align:right;\">849</td> <td class=\"cell-2\" style=\"\">http://yourshot.nationalgeographic.com/search</td></tr>\n",
       "<tr><td class=\"cell-1\" style=\"text-align:right;\">831</td> <td class=\"cell-2\" style=\"\">http://yourshot.nationalgeographic.com/assignments/exploring-time</td></tr>\n",
       "<tr><td class=\"cell-1\" style=\"text-align:right;\">750</td> <td class=\"cell-2\" style=\"\">http://photography.nationalgeographic.com/nature-photographer-of-the-year-2017</td></tr>\n",
       "    \n",
       "    <tr><td class=\"cell-1\" style=\"text-align:right;\">653</td> <td class=\"cell-2\" style=\"\">http://yourshot.nationalgeographic.com/assignments/quest-happiness</td></tr>\n",
       "<tr><td class=\"cell-1\" style=\"text-align:right;\">442</td> <td class=\"cell-2\" style=\"\">http://m.yourshot.nationalgeographic.com/photos</td></tr>\n",
       "<tr><td class=\"cell-1\" style=\"text-align:right;\">391</td> <td class=\"cell-2\" style=\"\">http://m.yourshot.nationalgeographic.com/daily-dozen</td></tr>\n",
       "<tr><td class=\"cell-1\" style=\"text-align:right;\">333</td> <td class=\"cell-2\" style=\"\">http://m.yourshot.nationalgeographic.com/upload</td></tr>\n",
       "<tr><td class=\"cell-1\" style=\"text-align:right;\">324</td> <td class=\"cell-2\" style=\"\">https://members.nationalgeographic.com/account</td></tr>\n",
       "<tr><td class=\"cell-1\" style=\"text-align:right;\">217</td> <td class=\"cell-2\" style=\"\">http://m.yourshot.nationalgeographic.com/assignments-stories</td></tr>\n",
       "<tr><td class=\"cell-1\" style=\"text-align:right;\">180</td> <td class=\"cell-2\" style=\"\">http://yourshot.nationalgeographic.com/profile/1189305</td></tr>\n",
       "    </tbody>\n"
      ],
      "text/plain": [
       "HTML{UTF8String}(\"    <table  class=\\\"dataframe-table\\\">\\n    <thead><tr><th class=\\\"cell-1\\\" style=\\\"\\\">Views</th> <th class=\\\"cell-2\\\" style=\\\"\\\">Url - With Grouping After Parameters Dropped</th></tr></thead>\\n    <tbody>\\n    <tr><td class=\\\"cell-1\\\" style=\\\"text-align:right;\\\">3,245</td> <td class=\\\"cell-2\\\" style=\\\"\\\">http://yourshot.nationalgeographic.com</td></tr>\\n<tr><td class=\\\"cell-1\\\" style=\\\"text-align:right;\\\">1,690</td> <td class=\\\"cell-2\\\" style=\\\"\\\">http://yourshot.nationalgeographic.com/daily-dozen</td></tr>\\n<tr><td class=\\\"cell-1\\\" style=\\\"text-align:right;\\\">1,586</td> <td class=\\\"cell-2\\\" style=\\\"\\\">http://yourshot.nationalgeographic.com/photos</td></tr>\\n<tr><td class=\\\"cell-1\\\" style=\\\"text-align:right;\\\">1,194</td> <td class=\\\"cell-2\\\" style=\\\"\\\">http://m.yourshot.nationalgeographic.com</td></tr>\\n<tr><td class=\\\"cell-1\\\" style=\\\"text-align:right;\\\">899</td> <td class=\\\"cell-2\\\" style=\\\"\\\">http://yourshot.nationalgeographic.com/assignments-stories</td></tr>\\n<tr><td class=\\\"cell-1\\\" style=\\\"text-align:right;\\\">849</td> <td class=\\\"cell-2\\\" style=\\\"\\\">http://yourshot.nationalgeographic.com/search</td></tr>\\n<tr><td class=\\\"cell-1\\\" style=\\\"text-align:right;\\\">831</td> <td class=\\\"cell-2\\\" style=\\\"\\\">http://yourshot.nationalgeographic.com/assignments/exploring-time</td></tr>\\n<tr><td class=\\\"cell-1\\\" style=\\\"text-align:right;\\\">750</td> <td class=\\\"cell-2\\\" style=\\\"\\\">http://photography.nationalgeographic.com/nature-photographer-of-the-year-2017</td></tr>\\n    \\n    <tr><td class=\\\"cell-1\\\" style=\\\"text-align:right;\\\">653</td> <td class=\\\"cell-2\\\" style=\\\"\\\">http://yourshot.nationalgeographic.com/assignments/quest-happiness</td></tr>\\n<tr><td class=\\\"cell-1\\\" style=\\\"text-align:right;\\\">442</td> <td class=\\\"cell-2\\\" style=\\\"\\\">http://m.yourshot.nationalgeographic.com/photos</td></tr>\\n<tr><td class=\\\"cell-1\\\" style=\\\"text-align:right;\\\">391</td> <td class=\\\"cell-2\\\" style=\\\"\\\">http://m.yourshot.nationalgeographic.com/daily-dozen</td></tr>\\n<tr><td class=\\\"cell-1\\\" style=\\\"text-align:right;\\\">333</td> <td class=\\\"cell-2\\\" style=\\\"\\\">http://m.yourshot.nationalgeographic.com/upload</td></tr>\\n<tr><td class=\\\"cell-1\\\" style=\\\"text-align:right;\\\">324</td> <td class=\\\"cell-2\\\" style=\\\"\\\">https://members.nationalgeographic.com/account</td></tr>\\n<tr><td class=\\\"cell-1\\\" style=\\\"text-align:right;\\\">217</td> <td class=\\\"cell-2\\\" style=\\\"\\\">http://m.yourshot.nationalgeographic.com/assignments-stories</td></tr>\\n<tr><td class=\\\"cell-1\\\" style=\\\"text-align:right;\\\">180</td> <td class=\\\"cell-2\\\" style=\\\"\\\">http://yourshot.nationalgeographic.com/profile/1189305</td></tr>\\n    </tbody>\\n\")"
      ]
     },
     "metadata": {},
     "output_type": "display_data"
    },
    {
     "data": {
      "text/html": [
       "    <table  class=\"dataframe-table\">\n",
       "    <thead><tr><th class=\"cell-1\" style=\"\">Views</th> <th class=\"cell-2\" style=\"\">Avg MB</th> <th class=\"cell-3\" style=\"\">Avg MS</th> <th class=\"cell-4\" style=\"\">Url - Individual</th></tr></thead>\n",
       "    <tbody>\n",
       "    <tr><td class=\"cell-1\" style=\"text-align:right;\">2,927</td> <td class=\"cell-2\" style=\"text-align:right;\">268,762</td> <td class=\"cell-3\" style=\"text-align:right;\">7,200</td> <td class=\"cell-4\" style=\"\">http://yourshot.nationalgeographic.com/</td></tr>\n",
       "<tr><td class=\"cell-1\" style=\"text-align:right;\">1,608</td> <td class=\"cell-2\" style=\"text-align:right;\">267,363</td> <td class=\"cell-3\" style=\"text-align:right;\">7,594</td> <td class=\"cell-4\" style=\"\">http://yourshot.nationalgeographic.com/daily-dozen/</td></tr>\n",
       "<tr><td class=\"cell-1\" style=\"text-align:right;\">1,560</td> <td class=\"cell-2\" style=\"text-align:right;\">268,164</td> <td class=\"cell-3\" style=\"text-align:right;\">8,212</td> <td class=\"cell-4\" style=\"\">http://yourshot.nationalgeographic.com/photos/</td></tr>\n",
       "<tr><td class=\"cell-1\" style=\"text-align:right;\">1,042</td> <td class=\"cell-2\" style=\"text-align:right;\">265,479</td> <td class=\"cell-3\" style=\"text-align:right;\">8,590</td> <td class=\"cell-4\" style=\"\">http://m.yourshot.nationalgeographic.com/</td></tr>\n",
       "<tr><td class=\"cell-1\" style=\"text-align:right;\">888</td> <td class=\"cell-2\" style=\"text-align:right;\">408,634</td> <td class=\"cell-3\" style=\"text-align:right;\">8,479</td> <td class=\"cell-4\" style=\"\">http://yourshot.nationalgeographic.com/assignments-stories/</td></tr>\n",
       "<tr><td class=\"cell-1\" style=\"text-align:right;\">812</td> <td class=\"cell-2\" style=\"text-align:right;\">425,566</td> <td class=\"cell-3\" style=\"text-align:right;\">8,993</td> <td class=\"cell-4\" style=\"\">http://yourshot.nationalgeographic.com/assignments/exploring-time/</td></tr>\n",
       "<tr><td class=\"cell-1\" style=\"text-align:right;\">638</td> <td class=\"cell-2\" style=\"text-align:right;\">421,811</td> <td class=\"cell-3\" style=\"text-align:right;\">10,349</td> <td class=\"cell-4\" style=\"\">http://yourshot.nationalgeographic.com/assignments/quest-happiness/</td></tr>\n",
       "<tr><td class=\"cell-1\" style=\"text-align:right;\">436</td> <td class=\"cell-2\" style=\"text-align:right;\">279,915</td> <td class=\"cell-3\" style=\"text-align:right;\">7,752</td> <td class=\"cell-4\" style=\"\">http://m.yourshot.nationalgeographic.com/photos/</td></tr>\n",
       "    \n",
       "    <tr><td class=\"cell-1\" style=\"text-align:right;\">333</td> <td class=\"cell-2\" style=\"text-align:right;\">278,047</td> <td class=\"cell-3\" style=\"text-align:right;\">8,121</td> <td class=\"cell-4\" style=\"\">http://m.yourshot.nationalgeographic.com/upload/</td></tr>\n",
       "<tr><td class=\"cell-1\" style=\"text-align:right;\">276</td> <td class=\"cell-2\" style=\"text-align:right;\">405,377</td> <td class=\"cell-3\" style=\"text-align:right;\">10,198</td> <td class=\"cell-4\" style=\"\">http://m.yourshot.nationalgeographic.com/daily-dozen/</td></tr>\n",
       "<tr><td class=\"cell-1\" style=\"text-align:right;\">266</td> <td class=\"cell-2\" style=\"text-align:right;\">161,197</td> <td class=\"cell-3\" style=\"text-align:right;\">8,944</td> <td class=\"cell-4\" style=\"\">http://photography.nationalgeographic.com/nature-photographer-of-the-year-2017/</td></tr>\n",
       "<tr><td class=\"cell-1\" style=\"text-align:right;\">217</td> <td class=\"cell-2\" style=\"text-align:right;\">281,918</td> <td class=\"cell-3\" style=\"text-align:right;\">7,939</td> <td class=\"cell-4\" style=\"\">http://m.yourshot.nationalgeographic.com/assignments-stories/</td></tr>\n",
       "<tr><td class=\"cell-1\" style=\"text-align:right;\">148</td> <td class=\"cell-2\" style=\"text-align:right;\">162,879</td> <td class=\"cell-3\" style=\"text-align:right;\">7,042</td> <td class=\"cell-4\" style=\"\">http://photography.nationalgeographic.com/nature-photographer-of-the-year-2017/gallery/week-10-all/1</td></tr>\n",
       "<tr><td class=\"cell-1\" style=\"text-align:right;\">141</td> <td class=\"cell-2\" style=\"text-align:right;\">271,519</td> <td class=\"cell-3\" style=\"text-align:right;\">7,653</td> <td class=\"cell-4\" style=\"\">http://yourshot.nationalgeographic.com/categories/animals/</td></tr>\n",
       "<tr><td class=\"cell-1\" style=\"text-align:right;\">119</td> <td class=\"cell-2\" style=\"text-align:right;\">175,117</td> <td class=\"cell-3\" style=\"text-align:right;\">3,928</td> <td class=\"cell-4\" style=\"\">http://photography.nationalgeographic.com/nature-photographer-of-the-year-2016/gallery/week-7-all/1</td></tr>\n",
       "    </tbody>\n"
      ],
      "text/plain": [
       "HTML{UTF8String}(\"    <table  class=\\\"dataframe-table\\\">\\n    <thead><tr><th class=\\\"cell-1\\\" style=\\\"\\\">Views</th> <th class=\\\"cell-2\\\" style=\\\"\\\">Avg MB</th> <th class=\\\"cell-3\\\" style=\\\"\\\">Avg MS</th> <th class=\\\"cell-4\\\" style=\\\"\\\">Url - Individual</th></tr></thead>\\n    <tbody>\\n    <tr><td class=\\\"cell-1\\\" style=\\\"text-align:right;\\\">2,927</td> <td class=\\\"cell-2\\\" style=\\\"text-align:right;\\\">268,762</td> <td class=\\\"cell-3\\\" style=\\\"text-align:right;\\\">7,200</td> <td class=\\\"cell-4\\\" style=\\\"\\\">http://yourshot.nationalgeographic.com/</td></tr>\\n<tr><td class=\\\"cell-1\\\" style=\\\"text-align:right;\\\">1,608</td> <td class=\\\"cell-2\\\" style=\\\"text-align:right;\\\">267,363</td> <td class=\\\"cell-3\\\" style=\\\"text-align:right;\\\">7,594</td> <td class=\\\"cell-4\\\" style=\\\"\\\">http://yourshot.nationalgeographic.com/daily-dozen/</td></tr>\\n<tr><td class=\\\"cell-1\\\" style=\\\"text-align:right;\\\">1,560</td> <td class=\\\"cell-2\\\" style=\\\"text-align:right;\\\">268,164</td> <td class=\\\"cell-3\\\" style=\\\"text-align:right;\\\">8,212</td> <td class=\\\"cell-4\\\" style=\\\"\\\">http://yourshot.nationalgeographic.com/photos/</td></tr>\\n<tr><td class=\\\"cell-1\\\" style=\\\"text-align:right;\\\">1,042</td> <td class=\\\"cell-2\\\" style=\\\"text-align:right;\\\">265,479</td> <td class=\\\"cell-3\\\" style=\\\"text-align:right;\\\">8,590</td> <td class=\\\"cell-4\\\" style=\\\"\\\">http://m.yourshot.nationalgeographic.com/</td></tr>\\n<tr><td class=\\\"cell-1\\\" style=\\\"text-align:right;\\\">888</td> <td class=\\\"cell-2\\\" style=\\\"text-align:right;\\\">408,634</td> <td class=\\\"cell-3\\\" style=\\\"text-align:right;\\\">8,479</td> <td class=\\\"cell-4\\\" style=\\\"\\\">http://yourshot.nationalgeographic.com/assignments-stories/</td></tr>\\n<tr><td class=\\\"cell-1\\\" style=\\\"text-align:right;\\\">812</td> <td class=\\\"cell-2\\\" style=\\\"text-align:right;\\\">425,566</td> <td class=\\\"cell-3\\\" style=\\\"text-align:right;\\\">8,993</td> <td class=\\\"cell-4\\\" style=\\\"\\\">http://yourshot.nationalgeographic.com/assignments/exploring-time/</td></tr>\\n<tr><td class=\\\"cell-1\\\" style=\\\"text-align:right;\\\">638</td> <td class=\\\"cell-2\\\" style=\\\"text-align:right;\\\">421,811</td> <td class=\\\"cell-3\\\" style=\\\"text-align:right;\\\">10,349</td> <td class=\\\"cell-4\\\" style=\\\"\\\">http://yourshot.nationalgeographic.com/assignments/quest-happiness/</td></tr>\\n<tr><td class=\\\"cell-1\\\" style=\\\"text-align:right;\\\">436</td> <td class=\\\"cell-2\\\" style=\\\"text-align:right;\\\">279,915</td> <td class=\\\"cell-3\\\" style=\\\"text-align:right;\\\">7,752</td> <td class=\\\"cell-4\\\" style=\\\"\\\">http://m.yourshot.nationalgeographic.com/photos/</td></tr>\\n    \\n    <tr><td class=\\\"cell-1\\\" style=\\\"text-align:right;\\\">333</td> <td class=\\\"cell-2\\\" style=\\\"text-align:right;\\\">278,047</td> <td class=\\\"cell-3\\\" style=\\\"text-align:right;\\\">8,121</td> <td class=\\\"cell-4\\\" style=\\\"\\\">http://m.yourshot.nationalgeographic.com/upload/</td></tr>\\n<tr><td class=\\\"cell-1\\\" style=\\\"text-align:right;\\\">276</td> <td class=\\\"cell-2\\\" style=\\\"text-align:right;\\\">405,377</td> <td class=\\\"cell-3\\\" style=\\\"text-align:right;\\\">10,198</td> <td class=\\\"cell-4\\\" style=\\\"\\\">http://m.yourshot.nationalgeographic.com/daily-dozen/</td></tr>\\n<tr><td class=\\\"cell-1\\\" style=\\\"text-align:right;\\\">266</td> <td class=\\\"cell-2\\\" style=\\\"text-align:right;\\\">161,197</td> <td class=\\\"cell-3\\\" style=\\\"text-align:right;\\\">8,944</td> <td class=\\\"cell-4\\\" style=\\\"\\\">http://photography.nationalgeographic.com/nature-photographer-of-the-year-2017/</td></tr>\\n<tr><td class=\\\"cell-1\\\" style=\\\"text-align:right;\\\">217</td> <td class=\\\"cell-2\\\" style=\\\"text-align:right;\\\">281,918</td> <td class=\\\"cell-3\\\" style=\\\"text-align:right;\\\">7,939</td> <td class=\\\"cell-4\\\" style=\\\"\\\">http://m.yourshot.nationalgeographic.com/assignments-stories/</td></tr>\\n<tr><td class=\\\"cell-1\\\" style=\\\"text-align:right;\\\">148</td> <td class=\\\"cell-2\\\" style=\\\"text-align:right;\\\">162,879</td> <td class=\\\"cell-3\\\" style=\\\"text-align:right;\\\">7,042</td> <td class=\\\"cell-4\\\" style=\\\"\\\">http://photography.nationalgeographic.com/nature-photographer-of-the-year-2017/gallery/week-10-all/1</td></tr>\\n<tr><td class=\\\"cell-1\\\" style=\\\"text-align:right;\\\">141</td> <td class=\\\"cell-2\\\" style=\\\"text-align:right;\\\">271,519</td> <td class=\\\"cell-3\\\" style=\\\"text-align:right;\\\">7,653</td> <td class=\\\"cell-4\\\" style=\\\"\\\">http://yourshot.nationalgeographic.com/categories/animals/</td></tr>\\n<tr><td class=\\\"cell-1\\\" style=\\\"text-align:right;\\\">119</td> <td class=\\\"cell-2\\\" style=\\\"text-align:right;\\\">175,117</td> <td class=\\\"cell-3\\\" style=\\\"text-align:right;\\\">3,928</td> <td class=\\\"cell-4\\\" style=\\\"\\\">http://photography.nationalgeographic.com/nature-photographer-of-the-year-2016/gallery/week-7-all/1</td></tr>\\n    </tbody>\\n\")"
      ]
     },
     "metadata": {},
     "output_type": "display_data"
    },
    {
     "data": {
      "text/html": [
       "<div class=\"dswbOutputText\"><h1 class=\"chart_title\" style=\"color:#ccc\">Peak Arrivals for Your Shot</h1><h3 class=\"chart_info\" style=\"color:#ccc\">November 28, 2017 06:59:00 to November 28, 2017 16:59:00 Local Time</h3></div>"
      ]
     },
     "metadata": {},
     "output_type": "display_data"
    },
    {
     "data": {
      "text/html": [
       "    <table  class=\"dataframe-table\">\n",
       "    <thead><tr><th class=\"cell-1\" style=\"\"></th> <th class=\"cell-2\" style=\"\">Date</th> <th class=\"cell-3\" style=\"\">Page Views</th></tr></thead>\n",
       "    <tbody>\n",
       "    <tr><td class=\"cell-1\" style=\"\">7 Day Peak Day</td> <td class=\"cell-2\" style=\"\">2017-11-28T00:00:00</td> <td class=\"cell-3\" style=\"text-align:right;\">72,840</td></tr>\n",
       "<tr><td class=\"cell-1\" style=\"\">7 Day Peak Hour</td> <td class=\"cell-2\" style=\"\">2017-11-28T15:00:00</td> <td class=\"cell-3\" style=\"text-align:right;\">8,857</td></tr>\n",
       "    \n",
       "    <tr><td class=\"cell-1\" style=\"\">7 Day Peak Minute</td> <td class=\"cell-2\" style=\"\">2017-11-28T16:04:00</td> <td class=\"cell-3\" style=\"text-align:right;\">195</td></tr>\n",
       "    </tbody>\n"
      ],
      "text/plain": [
       "HTML{UTF8String}(\"    <table  class=\\\"dataframe-table\\\">\\n    <thead><tr><th class=\\\"cell-1\\\" style=\\\"\\\"></th> <th class=\\\"cell-2\\\" style=\\\"\\\">Date</th> <th class=\\\"cell-3\\\" style=\\\"\\\">Page Views</th></tr></thead>\\n    <tbody>\\n    <tr><td class=\\\"cell-1\\\" style=\\\"\\\">7 Day Peak Day</td> <td class=\\\"cell-2\\\" style=\\\"\\\">2017-11-28T00:00:00</td> <td class=\\\"cell-3\\\" style=\\\"text-align:right;\\\">72,840</td></tr>\\n<tr><td class=\\\"cell-1\\\" style=\\\"\\\">7 Day Peak Hour</td> <td class=\\\"cell-2\\\" style=\\\"\\\">2017-11-28T15:00:00</td> <td class=\\\"cell-3\\\" style=\\\"text-align:right;\\\">8,857</td></tr>\\n    \\n    <tr><td class=\\\"cell-1\\\" style=\\\"\\\">7 Day Peak Minute</td> <td class=\\\"cell-2\\\" style=\\\"\\\">2017-11-28T16:04:00</td> <td class=\\\"cell-3\\\" style=\\\"text-align:right;\\\">195</td></tr>\\n    </tbody>\\n\")"
      ]
     },
     "metadata": {},
     "output_type": "display_data"
    },
    {
     "data": {
      "text/html": [
       "<div class=\"dswbOutputText\"><h1 class=\"chart_title\" style=\"color:#ccc\">Raw Data Stats Including Those above 600 seconds for Your Shot</h1><h3 class=\"chart_info\" style=\"color:#ccc\">November 28, 2017 06:59:00 to November 28, 2017 16:59:00 Local Time</h3></div>"
      ]
     },
     "metadata": {},
     "output_type": "display_data"
    },
    {
     "data": {
      "text/html": [
       "    <table  class=\"dataframe-table\">\n",
       "    <thead><tr><th class=\"cell-1\" style=\"\">unit</th> <th class=\"cell-2\" style=\"\">count</th> <th class=\"cell-3\" style=\"\">mean</th> <th class=\"cell-4\" style=\"\">median</th> <th class=\"cell-5\" style=\"\">stddev</th> <th class=\"cell-6\" style=\"\">min</th> <th class=\"cell-7\" style=\"\">max</th> <th class=\"cell-8\" style=\"\">LowerBy25p</th> <th class=\"cell-9\" style=\"\">UpperBy25p</th> <th class=\"cell-10\" style=\"\">LowerBy3Stddev</th> <th class=\"cell-11\" style=\"\">UpperBy3Stddev</th></tr></thead>\n",
       "    <tbody>\n",
       "    <tr><td class=\"cell-1\" style=\"\">milliseconds</td> <td class=\"cell-2\" style=\"text-align:right;\">72,840</td> <td class=\"cell-3\" style=\"text-align:right;\">7,893</td> <td class=\"cell-4\" style=\"text-align:right;\">5,409</td> <td class=\"cell-5\" style=\"text-align:right;\">7,522</td> <td class=\"cell-6\" style=\"text-align:right;\">2,000</td> <td class=\"cell-7\" style=\"text-align:right;\">59,991</td> <td class=\"cell-8\" style=\"text-align:right;\">4,057</td> <td class=\"cell-9\" style=\"text-align:right;\">6,761</td> <td class=\"cell-10\" style=\"text-align:right;\">1,000</td> <td class=\"cell-11\" style=\"text-align:right;\">27,975</td></tr>\n",
       "<tr><td class=\"cell-1\" style=\"\">seconds</td> <td class=\"cell-2\" style=\"text-align:right;\">72,840</td> <td class=\"cell-3\" style=\"text-align:right;\">7.893</td> <td class=\"cell-4\" style=\"text-align:right;\">5.409</td> <td class=\"cell-5\" style=\"text-align:right;\">7.522</td> <td class=\"cell-6\" style=\"text-align:right;\">2</td> <td class=\"cell-7\" style=\"text-align:right;\">59.991</td> <td class=\"cell-8\" style=\"text-align:right;\">4.057</td> <td class=\"cell-9\" style=\"text-align:right;\">6.761</td> <td class=\"cell-10\" style=\"text-align:right;\">1</td> <td class=\"cell-11\" style=\"text-align:right;\">27.975</td></tr>\n",
       "    \n",
       "    <tr><td class=\"cell-1\" style=\"\">minutes</td> <td class=\"cell-2\" style=\"text-align:right;\">72,840</td> <td class=\"cell-3\" style=\"text-align:right;\">0.1</td> <td class=\"cell-4\" style=\"text-align:right;\">0.1</td> <td class=\"cell-5\" style=\"text-align:right;\">0.1</td> <td class=\"cell-6\" style=\"text-align:right;\">0</td> <td class=\"cell-7\" style=\"text-align:right;\">1</td> <td class=\"cell-8\" style=\"text-align:right;\">0.1</td> <td class=\"cell-9\" style=\"text-align:right;\">0.1</td> <td class=\"cell-10\" style=\"text-align:right;\">0</td> <td class=\"cell-11\" style=\"text-align:right;\">0.5</td></tr>\n",
       "    </tbody>\n"
      ],
      "text/plain": [
       "HTML{UTF8String}(\"    <table  class=\\\"dataframe-table\\\">\\n    <thead><tr><th class=\\\"cell-1\\\" style=\\\"\\\">unit</th> <th class=\\\"cell-2\\\" style=\\\"\\\">count</th> <th class=\\\"cell-3\\\" style=\\\"\\\">mean</th> <th class=\\\"cell-4\\\" style=\\\"\\\">median</th> <th class=\\\"cell-5\\\" style=\\\"\\\">stddev</th> <th class=\\\"cell-6\\\" style=\\\"\\\">min</th> <th class=\\\"cell-7\\\" style=\\\"\\\">max</th> <th class=\\\"cell-8\\\" style=\\\"\\\">LowerBy25p</th> <th class=\\\"cell-9\\\" style=\\\"\\\">UpperBy25p</th> <th class=\\\"cell-10\\\" style=\\\"\\\">LowerBy3Stddev</th> <th class=\\\"cell-11\\\" style=\\\"\\\">UpperBy3Stddev</th></tr></thead>\\n    <tbody>\\n    <tr><td class=\\\"cell-1\\\" style=\\\"\\\">milliseconds</td> <td class=\\\"cell-2\\\" style=\\\"text-align:right;\\\">72,840</td> <td class=\\\"cell-3\\\" style=\\\"text-align:right;\\\">7,893</td> <td class=\\\"cell-4\\\" style=\\\"text-align:right;\\\">5,409</td> <td class=\\\"cell-5\\\" style=\\\"text-align:right;\\\">7,522</td> <td class=\\\"cell-6\\\" style=\\\"text-align:right;\\\">2,000</td> <td class=\\\"cell-7\\\" style=\\\"text-align:right;\\\">59,991</td> <td class=\\\"cell-8\\\" style=\\\"text-align:right;\\\">4,057</td> <td class=\\\"cell-9\\\" style=\\\"text-align:right;\\\">6,761</td> <td class=\\\"cell-10\\\" style=\\\"text-align:right;\\\">1,000</td> <td class=\\\"cell-11\\\" style=\\\"text-align:right;\\\">27,975</td></tr>\\n<tr><td class=\\\"cell-1\\\" style=\\\"\\\">seconds</td> <td class=\\\"cell-2\\\" style=\\\"text-align:right;\\\">72,840</td> <td class=\\\"cell-3\\\" style=\\\"text-align:right;\\\">7.893</td> <td class=\\\"cell-4\\\" style=\\\"text-align:right;\\\">5.409</td> <td class=\\\"cell-5\\\" style=\\\"text-align:right;\\\">7.522</td> <td class=\\\"cell-6\\\" style=\\\"text-align:right;\\\">2</td> <td class=\\\"cell-7\\\" style=\\\"text-align:right;\\\">59.991</td> <td class=\\\"cell-8\\\" style=\\\"text-align:right;\\\">4.057</td> <td class=\\\"cell-9\\\" style=\\\"text-align:right;\\\">6.761</td> <td class=\\\"cell-10\\\" style=\\\"text-align:right;\\\">1</td> <td class=\\\"cell-11\\\" style=\\\"text-align:right;\\\">27.975</td></tr>\\n    \\n    <tr><td class=\\\"cell-1\\\" style=\\\"\\\">minutes</td> <td class=\\\"cell-2\\\" style=\\\"text-align:right;\\\">72,840</td> <td class=\\\"cell-3\\\" style=\\\"text-align:right;\\\">0.1</td> <td class=\\\"cell-4\\\" style=\\\"text-align:right;\\\">0.1</td> <td class=\\\"cell-5\\\" style=\\\"text-align:right;\\\">0.1</td> <td class=\\\"cell-6\\\" style=\\\"text-align:right;\\\">0</td> <td class=\\\"cell-7\\\" style=\\\"text-align:right;\\\">1</td> <td class=\\\"cell-8\\\" style=\\\"text-align:right;\\\">0.1</td> <td class=\\\"cell-9\\\" style=\\\"text-align:right;\\\">0.1</td> <td class=\\\"cell-10\\\" style=\\\"text-align:right;\\\">0</td> <td class=\\\"cell-11\\\" style=\\\"text-align:right;\\\">0.5</td></tr>\\n    </tbody>\\n\")"
      ]
     },
     "metadata": {},
     "output_type": "display_data"
    },
    {
     "data": {
      "text/html": [
       "<table class=\"data-frame\"><tr><th></th></tr></table>"
      ],
      "text/plain": [
       "0x0 DataFrames.DataFrame\n"
      ]
     },
     "execution_count": 5,
     "metadata": {},
     "output_type": "execute_result"
    }
   ],
   "source": [
    "findAPageViewSpikeWorkflow(TV,UP,SP)"
   ]
  },
  {
   "cell_type": "code",
   "execution_count": null,
   "metadata": {
    "collapsed": true,
    "input_collapsed": false
   },
   "outputs": [],
   "source": []
  }
 ],
 "metadata": {
  "chart_version": "1.0.0",
  "kernelspec": {
   "display_name": "Julia 0.4.7",
   "language": "julia",
   "name": "julia-0.4"
  },
  "language_info": {
   "file_extension": ".jl",
   "mimetype": "application/julia",
   "name": "julia",
   "version": "0.4.7"
  },
  "library_version": "1.0.0",
  "notebook_uuid": "107f82e1-5122-4a64-ba3f-765b352a25d5",
  "readOnly": false
 },
 "nbformat": 4,
 "nbformat_minor": 1
}
