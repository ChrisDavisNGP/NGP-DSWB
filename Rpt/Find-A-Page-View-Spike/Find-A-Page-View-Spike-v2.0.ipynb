{
 "cells": [
  {
   "cell_type": "markdown",
   "metadata": {},
   "source": [
    "## Tables and Data Source setup"
   ]
  },
  {
   "cell_type": "code",
   "execution_count": 1,
   "metadata": {
    "collapsed": false,
    "input_collapsed": false,
    "scrolled": true
   },
   "outputs": [
    {
     "name": "stdout",
     "output_type": "stream",
     "text": [
      "Redshift endpoint set: 2017-11-27T17:14:34\n"
     ]
    },
    {
     "data": {
      "text/plain": [
       "\"beacons_4744\""
      ]
     },
     "execution_count": 1,
     "metadata": {},
     "output_type": "execute_result"
    }
   ],
   "source": [
    "using ODBC\n",
    "using DataFrames\n",
    "using DSWB\n",
    "using Formatting\n",
    "\n",
    "dsn = \"dswb-natgeo\" # Redshift endpoint\n",
    "table = \"beacons_4744\" # beacon table name\n",
    "tableRt = \"beacons_4744_rt\"\n",
    "\n",
    "# Connect to Beacon Data\n",
    "setRedshiftEndpoint(dsn)\n",
    "setTable(table)\n",
    "# setTable(tableRt, tableType = \"RESOURCE_TABLE\")"
   ]
  },
  {
   "cell_type": "code",
   "execution_count": 2,
   "metadata": {
    "collapsed": false,
    "input_collapsed": false
   },
   "outputs": [
    {
     "ename": "LoadError",
     "evalue": "could not open file /data/notebook_home/NGP-DSWB-Chris/Rpt/Find-A-Page-View-Spike/Find-A-Page-View-Spike-Body-v2.0.jl",
     "output_type": "error",
     "traceback": [
      "could not open file /data/notebook_home/NGP-DSWB-Chris/Rpt/Find-A-Page-View-Spike/Find-A-Page-View-Spike-Body-v2.0.jl",
      "",
      " in include at ./boot.jl:261",
      " in include_from_node1 at ./loading.jl:333"
     ]
    }
   ],
   "source": [
    "# Time & Structures First\n",
    "include(\"../../Lib/Include-Package-v2.1.jl\")\n",
    "include(\"Find-A-Page-View-Spike-Body-v2.0.jl\")\n",
    ";"
   ]
  },
  {
   "cell_type": "code",
   "execution_count": 3,
   "metadata": {
    "collapsed": false,
    "input_collapsed": false
   },
   "outputs": [
    {
     "name": "stdout",
     "output_type": "stream",
     "text": [
      "November 26, 2017 06:59:00 to November 26, 2017 16:59:00 Local Time\n",
      "November 26, 2017 11:59:00 to November 26, 2017 21:59:00 UTC Time\n"
     ]
    }
   ],
   "source": [
    "#TV = timeVariables(2017,11,15,23,59,2017,11,16,23,59)\n",
    "#TV = weeklyTimeVariables(days=7)\n",
    "TV = yesterdayTimeVariables()\n",
    ";"
   ]
  },
  {
   "cell_type": "code",
   "execution_count": 4,
   "metadata": {
    "collapsed": true,
    "input_collapsed": false,
    "scrolled": true
   },
   "outputs": [],
   "source": [
    "UP = UrlParamsInit()\n",
    "UP.agentOs = \"iOS\"\n",
    "UP.beaconTable = table\n",
    "UP.btView = \"$(table)_spike_pview_prod\" #localtable\n",
    "UP.deviceType = \"%\"\n",
    "UP.limitRows = 250\n",
    "UP.orderBy = \"time\"\n",
    "UP.pageGroup = \"Your Shot\"   #productPageGroup\n",
    "UP.resourceTable = tableRt\n",
    "UP.rtView = \"$(tableRt)_spike_pview_prod\" #localtableRt\n",
    "UP.samplesMin = 10\n",
    "UP.sizeMin = 10000\n",
    "UP.timeLowerMs = 2000.0\n",
    "UP.timeUpperMs = 60000.0\n",
    "UP.urlRegEx = \"%\"   #localUrl\n",
    "UP.urlFull = \"%\"\n",
    "UP.usePageLoad=false\n",
    "\n",
    "SP = ShowParamsInit()\n",
    "SP.criticalPathOnly=true\n",
    "SP.desktop=true\n",
    "SP.devView=false\n",
    "SP.debug=false\n",
    "SP.debugLevel = 0   # Tests use even numbers with > tests, make this an odd number or zero\n",
    "SP.mobile=true\n",
    "\n",
    "SG = SoastaGraphsInit()\n",
    "customer = \"Nat Geo\" \n",
    "SG.customer = customer\n",
    ";"
   ]
  },
  {
   "cell_type": "code",
   "execution_count": 5,
   "metadata": {
    "collapsed": false,
    "input_collapsed": false,
    "scrolled": false
   },
   "outputs": [
    {
     "data": {
      "text/html": [
       "<div class=\"dswbOutputText\">\n",
       "    <strong><span class=\"chart_info\" style=\"color:#B1D6ED;\">Using session timeout value of 30 minutes...</strong>\n",
       "</div>\n"
      ]
     },
     "metadata": {},
     "output_type": "display_data"
    },
    {
     "data": {
      "text/html": [
       "<div class=\"dswbOutputText\"><h1 class=\"chart_title\" style=\"color:#ccc\">Concurrent Sessions and Beacons by hour</h1><h3 class=\"chart_info\" style=\"color:#ccc\">November 26, 2017 11:59:00 to November 26, 2017 21:59:00</h3><h5 class=\"chart_lastCalled\" style=\"color:#ccc\">Run at November 27, 2017 17:14:53</h5></div>"
      ]
     },
     "metadata": {},
     "output_type": "display_data"
    },
    {
     "data": {
      "text/html": [
       "    <iframe id=\"timeSeries-GBQUGDLCSHNGEOONCMEWDHQIPHEKLIRQ\" class=\"dswbiframe\" width=\"100%\" height=\"600\" src=\"about:blank\" scrolling=\"no\"></iframe>\n",
       "    <script>\n",
       "    (function() {\n",
       "        var iframe = document.getElementById(\"timeSeries-GBQUGDLCSHNGEOONCMEWDHQIPHEKLIRQ\");\n",
       "        iframe.timeSeriesRendererLoaded = function(runner) {\n",
       "            iframe.runner = runner;\n",
       "            iframe.runner([[\"x\",\"2017-11-26 11:00:00\",\"2017-11-26 12:00:00\",\"2017-11-26 13:00:00\",\"2017-11-26 14:00:00\",\"2017-11-26 15:00:00\",\"2017-11-26 16:00:00\",\"2017-11-26 17:00:00\",\"2017-11-26 18:00:00\",\"2017-11-26 19:00:00\",\"2017-11-26 20:00:00\",\"2017-11-26 21:00:00\"],[\"data1\",47,1271,2509,2336,2128,2026,2024,1866,1743,1718,1601],[\"data2\",76,5181,7218,7617,8398,7325,7705,7259,6883,6133,5943]],\n",
       "                [\"Sessions\",\"Beacons\"],\n",
       "                [\"hour\",\"Concurrent Sessions\",\"Beacon Count\"],\n",
       "                [\"area-spline\",\"bar\"],\n",
       "                [\"hsla(28, 100%, 86%, 0.9)\",\"hsla(197, 70%, 73%, 0.9)\"],\n",
       "                [],\n",
       "                [\"data2\"],\n",
       "                \"    .c3-line {\\n        stroke: #039BE5;\\n    }\\n\\n    .c3-area {\\n        opacity:0.4;\\n    }\\n\\n    .c3 text {\\n        stroke: #979797 !important;\\n    }\\n\",\n",
       "                [],\n",
       "                {\"point_r\":0,\"axis_y_min\":0,\"axis_x_tick_culling_max\":20,\"axis_y2_min\":0}\n",
       "            );\n",
       "        }\n",
       "        iframe.src = \"/static/graphs/templates/c3Viz_template.html#id=timeSeries-GBQUGDLCSHNGEOONCMEWDHQIPHEKLIRQ\";\n",
       "    }());\n",
       "    </script>\n"
      ]
     },
     "metadata": {},
     "output_type": "display_data"
    },
    {
     "data": {
      "text/html": [
       "<div class=\"dswbOutputText\"><h1 class=\"chart_title\" style=\"color:#ccc\">Median Load Times</h1><h3 class=\"chart_info\" style=\"color:#ccc\">November 26, 2017 11:59:00 to November 26, 2017 21:59:00</h3><h5 class=\"chart_lastCalled\" style=\"color:#ccc\">Run at November 27, 2017 17:14:56</h5></div>"
      ]
     },
     "metadata": {},
     "output_type": "display_data"
    },
    {
     "data": {
      "text/html": [
       "    <iframe id=\"timeSeries-LYQJSJPMMBJGLSLECUTICSJJICKLJETH\" class=\"dswbiframe\" width=\"100%\" height=\"600\" src=\"about:blank\" scrolling=\"no\"></iframe>\n",
       "    <script>\n",
       "    (function() {\n",
       "        var iframe = document.getElementById(\"timeSeries-LYQJSJPMMBJGLSLECUTICSJJICKLJETH\");\n",
       "        iframe.timeSeriesRendererLoaded = function(runner) {\n",
       "            iframe.runner = runner;\n",
       "            iframe.runner([[\"x\",\"November 26, 2017 11:00:00\",\"November 26, 2017 12:00:00\",\"November 26, 2017 13:00:00\",\"November 26, 2017 14:00:00\",\"November 26, 2017 15:00:00\",\"November 26, 2017 16:00:00\",\"November 26, 2017 17:00:00\",\"November 26, 2017 18:00:00\",\"November 26, 2017 19:00:00\",\"November 26, 2017 20:00:00\",\"November 26, 2017 21:00:00\"],[\"data1\",769.0,716.0,812.0,857.0,806.0,779.0,792.0,780.0,766.0,685.0,673.0],[\"data2\",5568.0,5064.5,5057.0,5048.5,5122.0,5026.0,4731.0,4587.0,4265.0,4514.0,4549.0],[\"data3\",6968.5,5830.0,6039.0,6045.0,5945.0,5887.0,5591.0,5436.0,5089.0,5228.0,5241.0]],\n",
       "                [\"Back-end Load Time\",\"Front-end Load Time\",\"Full Page Load Time\",\"Beacon Count\"],\n",
       "                [\"hour\",\"Milliseconds\",\"Count\"],\n",
       "                [\"area\",\"area\",\"spline\",\"line\"],\n",
       "                [\"hsla(130, 61%, 50%, 0.9)\",\"hsla(214, 86%, 60%, 0.9)\",\"hsla(35, 100%, 50%, 0.9)\"],\n",
       "                [[\"data1\",\"data2\"]],\n",
       "                [\"data4\"],\n",
       "                \"\",\n",
       "                [\"data4\"],\n",
       "                {\"axis_y_min\":0,\"axis_y2_min\":0}\n",
       "            );\n",
       "        }\n",
       "        iframe.src = \"/static/graphs/templates/c3Viz_template.html#id=timeSeries-LYQJSJPMMBJGLSLECUTICSJJICKLJETH\";\n",
       "    }());\n",
       "    </script>\n"
      ]
     },
     "metadata": {},
     "output_type": "display_data"
    },
    {
     "data": {
      "text/html": [
       "<div class=\"dswbOutputText\"><h1 class=\"chart_title\" style=\"color:#ccc\">Top URL Page Views for Your Shot</h1><h3 class=\"chart_info\" style=\"color:#ccc\">Pages Load Used</h3><h3 class=\"chart_info\" style=\"color:#ccc\">November 26, 2017 06:59:00 to November 26, 2017 16:59:00 Local Time</h3></div>"
      ]
     },
     "metadata": {},
     "output_type": "display_data"
    },
    {
     "data": {
      "text/html": [
       "    <table  class=\"dataframe-table\">\n",
       "    <thead><tr><th class=\"cell-1\" style=\"\">Views</th> <th class=\"cell-2\" style=\"\">Url - With Grouping After Parameters Dropped</th></tr></thead>\n",
       "    <tbody>\n",
       "    <tr><td class=\"cell-1\" style=\"text-align:right;\">4,019</td> <td class=\"cell-2\" style=\"\">http://photography.nationalgeographic.com/nature-photographer-of-the-year-2017/gallery/week-10-aerials/1</td></tr>\n",
       "<tr><td class=\"cell-1\" style=\"text-align:right;\">2,545</td> <td class=\"cell-2\" style=\"\">http://yourshot.nationalgeographic.com</td></tr>\n",
       "<tr><td class=\"cell-1\" style=\"text-align:right;\">1,745</td> <td class=\"cell-2\" style=\"\">http://yourshot.nationalgeographic.com/photos</td></tr>\n",
       "<tr><td class=\"cell-1\" style=\"text-align:right;\">1,129</td> <td class=\"cell-2\" style=\"\">http://m.yourshot.nationalgeographic.com</td></tr>\n",
       "<tr><td class=\"cell-1\" style=\"text-align:right;\">725</td> <td class=\"cell-2\" style=\"\">http://yourshot.nationalgeographic.com/assignments/exploring-time</td></tr>\n",
       "<tr><td class=\"cell-1\" style=\"text-align:right;\">659</td> <td class=\"cell-2\" style=\"\">http://yourshot.nationalgeographic.com/assignments-stories</td></tr>\n",
       "<tr><td class=\"cell-1\" style=\"text-align:right;\">604</td> <td class=\"cell-2\" style=\"\">http://yourshot.nationalgeographic.com/search</td></tr>\n",
       "<tr><td class=\"cell-1\" style=\"text-align:right;\">548</td> <td class=\"cell-2\" style=\"\">http://m.yourshot.nationalgeographic.com/photos</td></tr>\n",
       "    \n",
       "    <tr><td class=\"cell-1\" style=\"text-align:right;\">509</td> <td class=\"cell-2\" style=\"\">http://yourshot.nationalgeographic.com/daily-dozen</td></tr>\n",
       "<tr><td class=\"cell-1\" style=\"text-align:right;\">483</td> <td class=\"cell-2\" style=\"\">http://yourshot.nationalgeographic.com/assignments/quest-happiness</td></tr>\n",
       "<tr><td class=\"cell-1\" style=\"text-align:right;\">441</td> <td class=\"cell-2\" style=\"\">http://photography.nationalgeographic.com/nature-photographer-of-the-year-2017</td></tr>\n",
       "<tr><td class=\"cell-1\" style=\"text-align:right;\">331</td> <td class=\"cell-2\" style=\"\">https://members.nationalgeographic.com/account</td></tr>\n",
       "<tr><td class=\"cell-1\" style=\"text-align:right;\">324</td> <td class=\"cell-2\" style=\"\">http://m.yourshot.nationalgeographic.com/upload</td></tr>\n",
       "<tr><td class=\"cell-1\" style=\"text-align:right;\">236</td> <td class=\"cell-2\" style=\"\">http://photography.nationalgeographic.com/nature-photographer-of-the-year-2017/gallery/week-10-all/1</td></tr>\n",
       "<tr><td class=\"cell-1\" style=\"text-align:right;\">218</td> <td class=\"cell-2\" style=\"\">http://m.yourshot.nationalgeographic.com/assignments-stories</td></tr>\n",
       "    </tbody>\n"
      ],
      "text/plain": [
       "HTML{UTF8String}(\"    <table  class=\\\"dataframe-table\\\">\\n    <thead><tr><th class=\\\"cell-1\\\" style=\\\"\\\">Views</th> <th class=\\\"cell-2\\\" style=\\\"\\\">Url - With Grouping After Parameters Dropped</th></tr></thead>\\n    <tbody>\\n    <tr><td class=\\\"cell-1\\\" style=\\\"text-align:right;\\\">4,019</td> <td class=\\\"cell-2\\\" style=\\\"\\\">http://photography.nationalgeographic.com/nature-photographer-of-the-year-2017/gallery/week-10-aerials/1</td></tr>\\n<tr><td class=\\\"cell-1\\\" style=\\\"text-align:right;\\\">2,545</td> <td class=\\\"cell-2\\\" style=\\\"\\\">http://yourshot.nationalgeographic.com</td></tr>\\n<tr><td class=\\\"cell-1\\\" style=\\\"text-align:right;\\\">1,745</td> <td class=\\\"cell-2\\\" style=\\\"\\\">http://yourshot.nationalgeographic.com/photos</td></tr>\\n<tr><td class=\\\"cell-1\\\" style=\\\"text-align:right;\\\">1,129</td> <td class=\\\"cell-2\\\" style=\\\"\\\">http://m.yourshot.nationalgeographic.com</td></tr>\\n<tr><td class=\\\"cell-1\\\" style=\\\"text-align:right;\\\">725</td> <td class=\\\"cell-2\\\" style=\\\"\\\">http://yourshot.nationalgeographic.com/assignments/exploring-time</td></tr>\\n<tr><td class=\\\"cell-1\\\" style=\\\"text-align:right;\\\">659</td> <td class=\\\"cell-2\\\" style=\\\"\\\">http://yourshot.nationalgeographic.com/assignments-stories</td></tr>\\n<tr><td class=\\\"cell-1\\\" style=\\\"text-align:right;\\\">604</td> <td class=\\\"cell-2\\\" style=\\\"\\\">http://yourshot.nationalgeographic.com/search</td></tr>\\n<tr><td class=\\\"cell-1\\\" style=\\\"text-align:right;\\\">548</td> <td class=\\\"cell-2\\\" style=\\\"\\\">http://m.yourshot.nationalgeographic.com/photos</td></tr>\\n    \\n    <tr><td class=\\\"cell-1\\\" style=\\\"text-align:right;\\\">509</td> <td class=\\\"cell-2\\\" style=\\\"\\\">http://yourshot.nationalgeographic.com/daily-dozen</td></tr>\\n<tr><td class=\\\"cell-1\\\" style=\\\"text-align:right;\\\">483</td> <td class=\\\"cell-2\\\" style=\\\"\\\">http://yourshot.nationalgeographic.com/assignments/quest-happiness</td></tr>\\n<tr><td class=\\\"cell-1\\\" style=\\\"text-align:right;\\\">441</td> <td class=\\\"cell-2\\\" style=\\\"\\\">http://photography.nationalgeographic.com/nature-photographer-of-the-year-2017</td></tr>\\n<tr><td class=\\\"cell-1\\\" style=\\\"text-align:right;\\\">331</td> <td class=\\\"cell-2\\\" style=\\\"\\\">https://members.nationalgeographic.com/account</td></tr>\\n<tr><td class=\\\"cell-1\\\" style=\\\"text-align:right;\\\">324</td> <td class=\\\"cell-2\\\" style=\\\"\\\">http://m.yourshot.nationalgeographic.com/upload</td></tr>\\n<tr><td class=\\\"cell-1\\\" style=\\\"text-align:right;\\\">236</td> <td class=\\\"cell-2\\\" style=\\\"\\\">http://photography.nationalgeographic.com/nature-photographer-of-the-year-2017/gallery/week-10-all/1</td></tr>\\n<tr><td class=\\\"cell-1\\\" style=\\\"text-align:right;\\\">218</td> <td class=\\\"cell-2\\\" style=\\\"\\\">http://m.yourshot.nationalgeographic.com/assignments-stories</td></tr>\\n    </tbody>\\n\")"
      ]
     },
     "metadata": {},
     "output_type": "display_data"
    },
    {
     "data": {
      "text/html": [
       "    <table  class=\"dataframe-table\">\n",
       "    <thead><tr><th class=\"cell-1\" style=\"\">Views</th> <th class=\"cell-2\" style=\"\">Avg MB</th> <th class=\"cell-3\" style=\"\">Avg MS</th> <th class=\"cell-4\" style=\"\">Url - Individual</th></tr></thead>\n",
       "    <tbody>\n",
       "    <tr><td class=\"cell-1\" style=\"text-align:right;\">3,200</td> <td class=\"cell-2\" style=\"text-align:right;\">169,151</td> <td class=\"cell-3\" style=\"text-align:right;\">11,465</td> <td class=\"cell-4\" style=\"\">http://photography.nationalgeographic.com/nature-photographer-of-the-year-2017/gallery/week-10-aerials/1</td></tr>\n",
       "<tr><td class=\"cell-1\" style=\"text-align:right;\">2,325</td> <td class=\"cell-2\" style=\"text-align:right;\">269,381</td> <td class=\"cell-3\" style=\"text-align:right;\">7,719</td> <td class=\"cell-4\" style=\"\">http://yourshot.nationalgeographic.com/</td></tr>\n",
       "<tr><td class=\"cell-1\" style=\"text-align:right;\">1,715</td> <td class=\"cell-2\" style=\"text-align:right;\">266,151</td> <td class=\"cell-3\" style=\"text-align:right;\">8,131</td> <td class=\"cell-4\" style=\"\">http://yourshot.nationalgeographic.com/photos/</td></tr>\n",
       "<tr><td class=\"cell-1\" style=\"text-align:right;\">995</td> <td class=\"cell-2\" style=\"text-align:right;\">263,750</td> <td class=\"cell-3\" style=\"text-align:right;\">8,160</td> <td class=\"cell-4\" style=\"\">http://m.yourshot.nationalgeographic.com/</td></tr>\n",
       "<tr><td class=\"cell-1\" style=\"text-align:right;\">819</td> <td class=\"cell-2\" style=\"text-align:right;\">156,922</td> <td class=\"cell-3\" style=\"text-align:right;\">9,359</td> <td class=\"cell-4\" style=\"\">http://photography.nationalgeographic.com/nature-photographer-of-the-year-2017/gallery/week-10-aerials/1?utm_source=Face...</td></tr>\n",
       "<tr><td class=\"cell-1\" style=\"text-align:right;\">658</td> <td class=\"cell-2\" style=\"text-align:right;\">442,770</td> <td class=\"cell-3\" style=\"text-align:right;\">9,104</td> <td class=\"cell-4\" style=\"\">http://yourshot.nationalgeographic.com/assignments/exploring-time/</td></tr>\n",
       "<tr><td class=\"cell-1\" style=\"text-align:right;\">649</td> <td class=\"cell-2\" style=\"text-align:right;\">435,761</td> <td class=\"cell-3\" style=\"text-align:right;\">7,968</td> <td class=\"cell-4\" style=\"\">http://yourshot.nationalgeographic.com/assignments-stories/</td></tr>\n",
       "<tr><td class=\"cell-1\" style=\"text-align:right;\">541</td> <td class=\"cell-2\" style=\"text-align:right;\">279,313</td> <td class=\"cell-3\" style=\"text-align:right;\">7,981</td> <td class=\"cell-4\" style=\"\">http://m.yourshot.nationalgeographic.com/photos/</td></tr>\n",
       "    \n",
       "    <tr><td class=\"cell-1\" style=\"text-align:right;\">465</td> <td class=\"cell-2\" style=\"text-align:right;\">272,766</td> <td class=\"cell-3\" style=\"text-align:right;\">6,811</td> <td class=\"cell-4\" style=\"\">http://yourshot.nationalgeographic.com/daily-dozen/</td></tr>\n",
       "<tr><td class=\"cell-1\" style=\"text-align:right;\">460</td> <td class=\"cell-2\" style=\"text-align:right;\">411,574</td> <td class=\"cell-3\" style=\"text-align:right;\">10,278</td> <td class=\"cell-4\" style=\"\">http://yourshot.nationalgeographic.com/assignments/quest-happiness/</td></tr>\n",
       "<tr><td class=\"cell-1\" style=\"text-align:right;\">324</td> <td class=\"cell-2\" style=\"text-align:right;\">281,611</td> <td class=\"cell-3\" style=\"text-align:right;\">7,091</td> <td class=\"cell-4\" style=\"\">http://m.yourshot.nationalgeographic.com/upload/</td></tr>\n",
       "<tr><td class=\"cell-1\" style=\"text-align:right;\">231</td> <td class=\"cell-2\" style=\"text-align:right;\">179,006</td> <td class=\"cell-3\" style=\"text-align:right;\">14,345</td> <td class=\"cell-4\" style=\"\">http://photography.nationalgeographic.com/nature-photographer-of-the-year-2017/gallery/week-10-all/1</td></tr>\n",
       "<tr><td class=\"cell-1\" style=\"text-align:right;\">215</td> <td class=\"cell-2\" style=\"text-align:right;\">284,882</td> <td class=\"cell-3\" style=\"text-align:right;\">7,032</td> <td class=\"cell-4\" style=\"\">http://m.yourshot.nationalgeographic.com/assignments-stories/</td></tr>\n",
       "<tr><td class=\"cell-1\" style=\"text-align:right;\">203</td> <td class=\"cell-2\" style=\"text-align:right;\">165,803</td> <td class=\"cell-3\" style=\"text-align:right;\">9,540</td> <td class=\"cell-4\" style=\"\">http://photography.nationalgeographic.com/nature-photographer-of-the-year-2017/</td></tr>\n",
       "<tr><td class=\"cell-1\" style=\"text-align:right;\">183</td> <td class=\"cell-2\" style=\"text-align:right;\">412,520</td> <td class=\"cell-3\" style=\"text-align:right;\">10,998</td> <td class=\"cell-4\" style=\"\">http://m.yourshot.nationalgeographic.com/daily-dozen/</td></tr>\n",
       "    </tbody>\n"
      ],
      "text/plain": [
       "HTML{UTF8String}(\"    <table  class=\\\"dataframe-table\\\">\\n    <thead><tr><th class=\\\"cell-1\\\" style=\\\"\\\">Views</th> <th class=\\\"cell-2\\\" style=\\\"\\\">Avg MB</th> <th class=\\\"cell-3\\\" style=\\\"\\\">Avg MS</th> <th class=\\\"cell-4\\\" style=\\\"\\\">Url - Individual</th></tr></thead>\\n    <tbody>\\n    <tr><td class=\\\"cell-1\\\" style=\\\"text-align:right;\\\">3,200</td> <td class=\\\"cell-2\\\" style=\\\"text-align:right;\\\">169,151</td> <td class=\\\"cell-3\\\" style=\\\"text-align:right;\\\">11,465</td> <td class=\\\"cell-4\\\" style=\\\"\\\">http://photography.nationalgeographic.com/nature-photographer-of-the-year-2017/gallery/week-10-aerials/1</td></tr>\\n<tr><td class=\\\"cell-1\\\" style=\\\"text-align:right;\\\">2,325</td> <td class=\\\"cell-2\\\" style=\\\"text-align:right;\\\">269,381</td> <td class=\\\"cell-3\\\" style=\\\"text-align:right;\\\">7,719</td> <td class=\\\"cell-4\\\" style=\\\"\\\">http://yourshot.nationalgeographic.com/</td></tr>\\n<tr><td class=\\\"cell-1\\\" style=\\\"text-align:right;\\\">1,715</td> <td class=\\\"cell-2\\\" style=\\\"text-align:right;\\\">266,151</td> <td class=\\\"cell-3\\\" style=\\\"text-align:right;\\\">8,131</td> <td class=\\\"cell-4\\\" style=\\\"\\\">http://yourshot.nationalgeographic.com/photos/</td></tr>\\n<tr><td class=\\\"cell-1\\\" style=\\\"text-align:right;\\\">995</td> <td class=\\\"cell-2\\\" style=\\\"text-align:right;\\\">263,750</td> <td class=\\\"cell-3\\\" style=\\\"text-align:right;\\\">8,160</td> <td class=\\\"cell-4\\\" style=\\\"\\\">http://m.yourshot.nationalgeographic.com/</td></tr>\\n<tr><td class=\\\"cell-1\\\" style=\\\"text-align:right;\\\">819</td> <td class=\\\"cell-2\\\" style=\\\"text-align:right;\\\">156,922</td> <td class=\\\"cell-3\\\" style=\\\"text-align:right;\\\">9,359</td> <td class=\\\"cell-4\\\" style=\\\"\\\">http://photography.nationalgeographic.com/nature-photographer-of-the-year-2017/gallery/week-10-aerials/1?utm_source=Face...</td></tr>\\n<tr><td class=\\\"cell-1\\\" style=\\\"text-align:right;\\\">658</td> <td class=\\\"cell-2\\\" style=\\\"text-align:right;\\\">442,770</td> <td class=\\\"cell-3\\\" style=\\\"text-align:right;\\\">9,104</td> <td class=\\\"cell-4\\\" style=\\\"\\\">http://yourshot.nationalgeographic.com/assignments/exploring-time/</td></tr>\\n<tr><td class=\\\"cell-1\\\" style=\\\"text-align:right;\\\">649</td> <td class=\\\"cell-2\\\" style=\\\"text-align:right;\\\">435,761</td> <td class=\\\"cell-3\\\" style=\\\"text-align:right;\\\">7,968</td> <td class=\\\"cell-4\\\" style=\\\"\\\">http://yourshot.nationalgeographic.com/assignments-stories/</td></tr>\\n<tr><td class=\\\"cell-1\\\" style=\\\"text-align:right;\\\">541</td> <td class=\\\"cell-2\\\" style=\\\"text-align:right;\\\">279,313</td> <td class=\\\"cell-3\\\" style=\\\"text-align:right;\\\">7,981</td> <td class=\\\"cell-4\\\" style=\\\"\\\">http://m.yourshot.nationalgeographic.com/photos/</td></tr>\\n    \\n    <tr><td class=\\\"cell-1\\\" style=\\\"text-align:right;\\\">465</td> <td class=\\\"cell-2\\\" style=\\\"text-align:right;\\\">272,766</td> <td class=\\\"cell-3\\\" style=\\\"text-align:right;\\\">6,811</td> <td class=\\\"cell-4\\\" style=\\\"\\\">http://yourshot.nationalgeographic.com/daily-dozen/</td></tr>\\n<tr><td class=\\\"cell-1\\\" style=\\\"text-align:right;\\\">460</td> <td class=\\\"cell-2\\\" style=\\\"text-align:right;\\\">411,574</td> <td class=\\\"cell-3\\\" style=\\\"text-align:right;\\\">10,278</td> <td class=\\\"cell-4\\\" style=\\\"\\\">http://yourshot.nationalgeographic.com/assignments/quest-happiness/</td></tr>\\n<tr><td class=\\\"cell-1\\\" style=\\\"text-align:right;\\\">324</td> <td class=\\\"cell-2\\\" style=\\\"text-align:right;\\\">281,611</td> <td class=\\\"cell-3\\\" style=\\\"text-align:right;\\\">7,091</td> <td class=\\\"cell-4\\\" style=\\\"\\\">http://m.yourshot.nationalgeographic.com/upload/</td></tr>\\n<tr><td class=\\\"cell-1\\\" style=\\\"text-align:right;\\\">231</td> <td class=\\\"cell-2\\\" style=\\\"text-align:right;\\\">179,006</td> <td class=\\\"cell-3\\\" style=\\\"text-align:right;\\\">14,345</td> <td class=\\\"cell-4\\\" style=\\\"\\\">http://photography.nationalgeographic.com/nature-photographer-of-the-year-2017/gallery/week-10-all/1</td></tr>\\n<tr><td class=\\\"cell-1\\\" style=\\\"text-align:right;\\\">215</td> <td class=\\\"cell-2\\\" style=\\\"text-align:right;\\\">284,882</td> <td class=\\\"cell-3\\\" style=\\\"text-align:right;\\\">7,032</td> <td class=\\\"cell-4\\\" style=\\\"\\\">http://m.yourshot.nationalgeographic.com/assignments-stories/</td></tr>\\n<tr><td class=\\\"cell-1\\\" style=\\\"text-align:right;\\\">203</td> <td class=\\\"cell-2\\\" style=\\\"text-align:right;\\\">165,803</td> <td class=\\\"cell-3\\\" style=\\\"text-align:right;\\\">9,540</td> <td class=\\\"cell-4\\\" style=\\\"\\\">http://photography.nationalgeographic.com/nature-photographer-of-the-year-2017/</td></tr>\\n<tr><td class=\\\"cell-1\\\" style=\\\"text-align:right;\\\">183</td> <td class=\\\"cell-2\\\" style=\\\"text-align:right;\\\">412,520</td> <td class=\\\"cell-3\\\" style=\\\"text-align:right;\\\">10,998</td> <td class=\\\"cell-4\\\" style=\\\"\\\">http://m.yourshot.nationalgeographic.com/daily-dozen/</td></tr>\\n    </tbody>\\n\")"
      ]
     },
     "metadata": {},
     "output_type": "display_data"
    },
    {
     "data": {
      "text/html": [
       "<div class=\"dswbOutputText\"><h1 class=\"chart_title\" style=\"color:#ccc\">Peak Arrivals for Your Shot</h1><h3 class=\"chart_info\" style=\"color:#ccc\">November 26, 2017 06:59:00 to November 26, 2017 16:59:00 Local Time</h3></div>"
      ]
     },
     "metadata": {},
     "output_type": "display_data"
    },
    {
     "data": {
      "text/html": [
       "    <table  class=\"dataframe-table\">\n",
       "    <thead><tr><th class=\"cell-1\" style=\"\"></th> <th class=\"cell-2\" style=\"\">Date</th> <th class=\"cell-3\" style=\"\">Page Views</th></tr></thead>\n",
       "    <tbody>\n",
       "    <tr><td class=\"cell-1\" style=\"\">7 Day Peak Day</td> <td class=\"cell-2\" style=\"\">2017-11-26T00:00:00</td> <td class=\"cell-3\" style=\"text-align:right;\">69,738</td></tr>\n",
       "<tr><td class=\"cell-1\" style=\"\">7 Day Peak Hour</td> <td class=\"cell-2\" style=\"\">2017-11-26T15:00:00</td> <td class=\"cell-3\" style=\"text-align:right;\">8,398</td></tr>\n",
       "    \n",
       "    <tr><td class=\"cell-1\" style=\"\">7 Day Peak Minute</td> <td class=\"cell-2\" style=\"\">2017-11-26T15:18:00</td> <td class=\"cell-3\" style=\"text-align:right;\">174</td></tr>\n",
       "    </tbody>\n"
      ],
      "text/plain": [
       "HTML{UTF8String}(\"    <table  class=\\\"dataframe-table\\\">\\n    <thead><tr><th class=\\\"cell-1\\\" style=\\\"\\\"></th> <th class=\\\"cell-2\\\" style=\\\"\\\">Date</th> <th class=\\\"cell-3\\\" style=\\\"\\\">Page Views</th></tr></thead>\\n    <tbody>\\n    <tr><td class=\\\"cell-1\\\" style=\\\"\\\">7 Day Peak Day</td> <td class=\\\"cell-2\\\" style=\\\"\\\">2017-11-26T00:00:00</td> <td class=\\\"cell-3\\\" style=\\\"text-align:right;\\\">69,738</td></tr>\\n<tr><td class=\\\"cell-1\\\" style=\\\"\\\">7 Day Peak Hour</td> <td class=\\\"cell-2\\\" style=\\\"\\\">2017-11-26T15:00:00</td> <td class=\\\"cell-3\\\" style=\\\"text-align:right;\\\">8,398</td></tr>\\n    \\n    <tr><td class=\\\"cell-1\\\" style=\\\"\\\">7 Day Peak Minute</td> <td class=\\\"cell-2\\\" style=\\\"\\\">2017-11-26T15:18:00</td> <td class=\\\"cell-3\\\" style=\\\"text-align:right;\\\">174</td></tr>\\n    </tbody>\\n\")"
      ]
     },
     "metadata": {},
     "output_type": "display_data"
    },
    {
     "data": {
      "text/html": [
       "<div class=\"dswbOutputText\"><h1 class=\"chart_title\" style=\"color:#ccc\">Raw Data Stats Including Those above 600 seconds for Your Shot</h1><h3 class=\"chart_info\" style=\"color:#ccc\">November 26, 2017 06:59:00 to November 26, 2017 16:59:00 Local Time</h3></div>"
      ]
     },
     "metadata": {},
     "output_type": "display_data"
    },
    {
     "data": {
      "text/html": [
       "    <table  class=\"dataframe-table\">\n",
       "    <thead><tr><th class=\"cell-1\" style=\"\">unit</th> <th class=\"cell-2\" style=\"\">count</th> <th class=\"cell-3\" style=\"\">mean</th> <th class=\"cell-4\" style=\"\">median</th> <th class=\"cell-5\" style=\"\">stddev</th> <th class=\"cell-6\" style=\"\">min</th> <th class=\"cell-7\" style=\"\">max</th> <th class=\"cell-8\" style=\"\">LowerBy25p</th> <th class=\"cell-9\" style=\"\">UpperBy25p</th> <th class=\"cell-10\" style=\"\">LowerBy3Stddev</th> <th class=\"cell-11\" style=\"\">UpperBy3Stddev</th></tr></thead>\n",
       "    <tbody>\n",
       "    <tr><td class=\"cell-1\" style=\"\">milliseconds</td> <td class=\"cell-2\" style=\"text-align:right;\">69,738</td> <td class=\"cell-3\" style=\"text-align:right;\">8,107</td> <td class=\"cell-4\" style=\"text-align:right;\">5,646</td> <td class=\"cell-5\" style=\"text-align:right;\">7,520</td> <td class=\"cell-6\" style=\"text-align:right;\">2,000</td> <td class=\"cell-7\" style=\"text-align:right;\">59,974</td> <td class=\"cell-8\" style=\"text-align:right;\">4,234</td> <td class=\"cell-9\" style=\"text-align:right;\">7,058</td> <td class=\"cell-10\" style=\"text-align:right;\">1,000</td> <td class=\"cell-11\" style=\"text-align:right;\">28,206</td></tr>\n",
       "<tr><td class=\"cell-1\" style=\"\">seconds</td> <td class=\"cell-2\" style=\"text-align:right;\">69,738</td> <td class=\"cell-3\" style=\"text-align:right;\">8.107</td> <td class=\"cell-4\" style=\"text-align:right;\">5.646</td> <td class=\"cell-5\" style=\"text-align:right;\">7.52</td> <td class=\"cell-6\" style=\"text-align:right;\">2</td> <td class=\"cell-7\" style=\"text-align:right;\">59.974</td> <td class=\"cell-8\" style=\"text-align:right;\">4.234</td> <td class=\"cell-9\" style=\"text-align:right;\">7.058</td> <td class=\"cell-10\" style=\"text-align:right;\">1</td> <td class=\"cell-11\" style=\"text-align:right;\">28.206</td></tr>\n",
       "    \n",
       "    <tr><td class=\"cell-1\" style=\"\">minutes</td> <td class=\"cell-2\" style=\"text-align:right;\">69,738</td> <td class=\"cell-3\" style=\"text-align:right;\">0.1</td> <td class=\"cell-4\" style=\"text-align:right;\">0.1</td> <td class=\"cell-5\" style=\"text-align:right;\">0.1</td> <td class=\"cell-6\" style=\"text-align:right;\">0</td> <td class=\"cell-7\" style=\"text-align:right;\">1</td> <td class=\"cell-8\" style=\"text-align:right;\">0.1</td> <td class=\"cell-9\" style=\"text-align:right;\">0.1</td> <td class=\"cell-10\" style=\"text-align:right;\">0</td> <td class=\"cell-11\" style=\"text-align:right;\">0.5</td></tr>\n",
       "    </tbody>\n"
      ],
      "text/plain": [
       "HTML{UTF8String}(\"    <table  class=\\\"dataframe-table\\\">\\n    <thead><tr><th class=\\\"cell-1\\\" style=\\\"\\\">unit</th> <th class=\\\"cell-2\\\" style=\\\"\\\">count</th> <th class=\\\"cell-3\\\" style=\\\"\\\">mean</th> <th class=\\\"cell-4\\\" style=\\\"\\\">median</th> <th class=\\\"cell-5\\\" style=\\\"\\\">stddev</th> <th class=\\\"cell-6\\\" style=\\\"\\\">min</th> <th class=\\\"cell-7\\\" style=\\\"\\\">max</th> <th class=\\\"cell-8\\\" style=\\\"\\\">LowerBy25p</th> <th class=\\\"cell-9\\\" style=\\\"\\\">UpperBy25p</th> <th class=\\\"cell-10\\\" style=\\\"\\\">LowerBy3Stddev</th> <th class=\\\"cell-11\\\" style=\\\"\\\">UpperBy3Stddev</th></tr></thead>\\n    <tbody>\\n    <tr><td class=\\\"cell-1\\\" style=\\\"\\\">milliseconds</td> <td class=\\\"cell-2\\\" style=\\\"text-align:right;\\\">69,738</td> <td class=\\\"cell-3\\\" style=\\\"text-align:right;\\\">8,107</td> <td class=\\\"cell-4\\\" style=\\\"text-align:right;\\\">5,646</td> <td class=\\\"cell-5\\\" style=\\\"text-align:right;\\\">7,520</td> <td class=\\\"cell-6\\\" style=\\\"text-align:right;\\\">2,000</td> <td class=\\\"cell-7\\\" style=\\\"text-align:right;\\\">59,974</td> <td class=\\\"cell-8\\\" style=\\\"text-align:right;\\\">4,234</td> <td class=\\\"cell-9\\\" style=\\\"text-align:right;\\\">7,058</td> <td class=\\\"cell-10\\\" style=\\\"text-align:right;\\\">1,000</td> <td class=\\\"cell-11\\\" style=\\\"text-align:right;\\\">28,206</td></tr>\\n<tr><td class=\\\"cell-1\\\" style=\\\"\\\">seconds</td> <td class=\\\"cell-2\\\" style=\\\"text-align:right;\\\">69,738</td> <td class=\\\"cell-3\\\" style=\\\"text-align:right;\\\">8.107</td> <td class=\\\"cell-4\\\" style=\\\"text-align:right;\\\">5.646</td> <td class=\\\"cell-5\\\" style=\\\"text-align:right;\\\">7.52</td> <td class=\\\"cell-6\\\" style=\\\"text-align:right;\\\">2</td> <td class=\\\"cell-7\\\" style=\\\"text-align:right;\\\">59.974</td> <td class=\\\"cell-8\\\" style=\\\"text-align:right;\\\">4.234</td> <td class=\\\"cell-9\\\" style=\\\"text-align:right;\\\">7.058</td> <td class=\\\"cell-10\\\" style=\\\"text-align:right;\\\">1</td> <td class=\\\"cell-11\\\" style=\\\"text-align:right;\\\">28.206</td></tr>\\n    \\n    <tr><td class=\\\"cell-1\\\" style=\\\"\\\">minutes</td> <td class=\\\"cell-2\\\" style=\\\"text-align:right;\\\">69,738</td> <td class=\\\"cell-3\\\" style=\\\"text-align:right;\\\">0.1</td> <td class=\\\"cell-4\\\" style=\\\"text-align:right;\\\">0.1</td> <td class=\\\"cell-5\\\" style=\\\"text-align:right;\\\">0.1</td> <td class=\\\"cell-6\\\" style=\\\"text-align:right;\\\">0</td> <td class=\\\"cell-7\\\" style=\\\"text-align:right;\\\">1</td> <td class=\\\"cell-8\\\" style=\\\"text-align:right;\\\">0.1</td> <td class=\\\"cell-9\\\" style=\\\"text-align:right;\\\">0.1</td> <td class=\\\"cell-10\\\" style=\\\"text-align:right;\\\">0</td> <td class=\\\"cell-11\\\" style=\\\"text-align:right;\\\">0.5</td></tr>\\n    </tbody>\\n\")"
      ]
     },
     "metadata": {},
     "output_type": "display_data"
    },
    {
     "data": {
      "text/html": [
       "<table class=\"data-frame\"><tr><th></th></tr></table>"
      ],
      "text/plain": [
       "0x0 DataFrames.DataFrame\n"
      ]
     },
     "execution_count": 5,
     "metadata": {},
     "output_type": "execute_result"
    }
   ],
   "source": [
    "findAPageViewSpikeWorkflow(TV,UP,SP)"
   ]
  },
  {
   "cell_type": "code",
   "execution_count": 10,
   "metadata": {
    "collapsed": true,
    "input_collapsed": false
   },
   "outputs": [],
   "source": [
    "q = query(\"\"\" drop view if exists $(UP.btView);\"\"\")\n",
    "q = query(\"\"\" drop view if exists $(UP.rtView);\"\"\")\n",
    ";"
   ]
  },
  {
   "cell_type": "code",
   "execution_count": null,
   "metadata": {
    "collapsed": true,
    "input_collapsed": true
   },
   "outputs": [],
   "source": []
  }
 ],
 "metadata": {
  "chart_version": "1.0.0",
  "kernelspec": {
   "display_name": "Julia 0.4.7",
   "language": "julia",
   "name": "julia-0.4"
  },
  "language_info": {
   "file_extension": ".jl",
   "mimetype": "application/julia",
   "name": "julia",
   "version": "0.4.7"
  },
  "library_version": "1.0.0",
  "notebook_uuid": "107f82e1-5122-4a64-ba3f-765b352a25d5",
  "readOnly": false
 },
 "nbformat": 4,
 "nbformat_minor": 1
}
