{
 "cells": [
  {
   "cell_type": "markdown",
   "metadata": {},
   "source": [
    "# Schedule email list\n",
    "# \n",
    "#chris.davis@natgeo.com"
   ]
  },
  {
   "cell_type": "code",
   "execution_count": null,
   "metadata": {
    "collapsed": false,
    "input_collapsed": false
   },
   "outputs": [],
   "source": [
    "using ODBC\n",
    "using DataFrames\n",
    "using DSWB\n",
    "using Formatting\n",
    "using URIParser\n",
    "\n",
    "dsn = \"dswb-natgeo\" # Redshift esetTable(tableRt, tableType = \"RESOURCE_TABLE\")ndpoint\n",
    "table = \"beacons_4744\" # beacon table name\n",
    "tableRt = \"beacons_4744_rt\"\n",
    "\n",
    "# Connect to Beacon Data\n",
    "setRedshiftEndpoint(dsn)\n",
    "setTable(table)\n",
    "setTable(tableRt, tableType = \"RESOURCE_TABLE\")"
   ]
  },
  {
   "cell_type": "code",
   "execution_count": null,
   "metadata": {
    "collapsed": true,
    "input_collapsed": false
   },
   "outputs": [],
   "source": [
    "# Packages\n",
    "\n",
    "include(\"../../Lib/Include-Package-v2.1.jl\")\n"
   ]
  },
  {
   "cell_type": "code",
   "execution_count": null,
   "metadata": {
    "collapsed": false,
    "input_collapsed": false
   },
   "outputs": [],
   "source": [
    "customer = \"National Geographic\" \n",
    "productPageGroup = \"News Article\" # primary page group \n",
    "reportLevel = 10 # 1 for min output, 5 medium output, 10 all output\n",
    "\n",
    "firstAndLast = getBeaconsFirstAndLast()\n",
    "endTime = DateTime(firstAndLast[1,2])\n",
    "startTime = DateTime(endTime - Day(6))\n",
    "\n",
    "#startTime30 = DateTime(endTime - Day(30))\n",
    "#startTime90 = DateTime(endTime - Day(90))\n",
    "\n",
    "datePart = :hour\n",
    "datePart = bestDatePart(startTime,endTime,datePart)\n",
    "timeString = \"$(padDateTime(startTime)) to $(padDateTime(endTime))\"\n",
    "\n",
    "# Set the Time Window\n",
    "#startTime = DateTime(firstAndLast[1,1])\n",
    "startTimeMs = datetimeToMs(startTime)\n",
    "endTimeMs = datetimeToMs(endTime)\n",
    "println(timeString)"
   ]
  },
  {
   "cell_type": "code",
   "execution_count": null,
   "metadata": {
    "collapsed": false,
    "input_collapsed": false
   },
   "outputs": [],
   "source": [
    "#methods(scrubUrlToPrint)"
   ]
  },
  {
   "cell_type": "code",
   "execution_count": null,
   "metadata": {
    "collapsed": false,
    "input_collapsed": false,
    "scrolled": false
   },
   "outputs": [],
   "source": [
    "try\n",
    "    chartConcurrentSessionsAndBeaconsOverTime(startTime, endTime, datePart)\n",
    "catch y\n",
    "    println(\"chartConcurSessions Exception \",y)\n",
    "end"
   ]
  },
  {
   "cell_type": "code",
   "execution_count": null,
   "metadata": {
    "collapsed": false,
    "input_collapsed": false,
    "scrolled": false
   },
   "outputs": [],
   "source": [
    "try\n",
    "    chartLoadTimes(startTime, endTime, datePart)\n",
    "catch y\n",
    "    println(\"chartLoadTimes Exception \",y)\n",
    "end"
   ]
  },
  {
   "cell_type": "code",
   "execution_count": null,
   "metadata": {
    "collapsed": false,
    "input_collapsed": false,
    "scrolled": true
   },
   "outputs": [],
   "source": [
    "showPeakTable(TV,UP,SP;showStartTime30=true,showStartTime90=false)"
   ]
  },
  {
   "cell_type": "code",
   "execution_count": null,
   "metadata": {
    "collapsed": false,
    "input_collapsed": false,
    "scrolled": false
   },
   "outputs": [],
   "source": [
    "topUrlTableByTime(TV,UP,SP)"
   ]
  },
  {
   "cell_type": "code",
   "execution_count": null,
   "metadata": {
    "collapsed": false,
    "input_collapsed": false,
    "scrolled": false
   },
   "outputs": [],
   "source": [
    "pageGroupQuartiles(TV,UP,SP);"
   ]
  },
  {
   "cell_type": "code",
   "execution_count": null,
   "metadata": {
    "collapsed": false,
    "input_collapsed": false,
    "scrolled": true
   },
   "outputs": [],
   "source": [
    "chartActivityImpactByPageGroup(startTime, endTime;n=10);"
   ]
  },
  {
   "cell_type": "code",
   "execution_count": null,
   "metadata": {
    "collapsed": false,
    "input_collapsed": false,
    "scrolled": true
   },
   "outputs": [],
   "source": [
    "try\n",
    "    pageGroupTreemap(TV,UP,SP)\n",
    "catch y\n",
    "    println(\"Exception \",y)\n",
    "end\n"
   ]
  },
  {
   "cell_type": "code",
   "execution_count": null,
   "metadata": {
    "collapsed": false,
    "input_collapsed": false,
    "scrolled": false
   },
   "outputs": [],
   "source": [
    "try\n",
    "    deviceTypeTreemap(TV,UP,SP)\n",
    "catch y\n",
    "    println(\"Exception \",y)\n",
    "end\n",
    ";"
   ]
  },
  {
   "cell_type": "code",
   "execution_count": null,
   "metadata": {
    "collapsed": false,
    "input_collapsed": false,
    "scrolled": false
   },
   "outputs": [],
   "source": [
    "try\n",
    "    browserFamilyTreemap(TV,UP)\n",
    "catch y\n",
    "    println(\"Exception \",y)\n",
    "end\n",
    ";"
   ]
  },
  {
   "cell_type": "code",
   "execution_count": null,
   "metadata": {
    "collapsed": false,
    "input_collapsed": false,
    "scrolled": false
   },
   "outputs": [],
   "source": [
    "try\n",
    "    countryTreemap(TV,UP)\n",
    "catch y\n",
    "    println(\"Exception \",y)\n",
    "end\n",
    ";"
   ]
  },
  {
   "cell_type": "code",
   "execution_count": null,
   "metadata": {
    "collapsed": true,
    "input_collapsed": false
   },
   "outputs": [],
   "source": []
  }
 ],
 "metadata": {
  "chart_version": "1.0.0",
  "kernelspec": {
   "display_name": "Julia 0.4.7",
   "language": "julia",
   "name": "julia-0.4"
  },
  "language_info": {
   "file_extension": ".jl",
   "mimetype": "application/julia",
   "name": "julia",
   "version": "0.4.7"
  },
  "library_version": "1.0.0",
  "notebook_uuid": "ae4ad1dc-b1c9-4d2a-a02c-f18449320a89",
  "readOnly": false
 },
 "nbformat": 4,
 "nbformat_minor": 0
}
