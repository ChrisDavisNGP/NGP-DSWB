{
 "cells": [
  {
   "cell_type": "markdown",
   "metadata": {},
   "source": [
    "## Tables and Data Source setup"
   ]
  },
  {
   "cell_type": "code",
   "execution_count": null,
   "metadata": {
    "collapsed": false,
    "input_collapsed": false,
    "scrolled": true
   },
   "outputs": [],
   "source": [
    "using ODBC\n",
    "using DataFrames\n",
    "using DSWB\n",
    "using Formatting\n",
    "using URIParser\n",
    "\n",
    "dsn = \"dswb-natgeo\" # Redshift esetTable(tableRt, tableType = \"RESOURCE_TABLE\")ndpoint\n",
    "table = \"beacons_4744\" # beacon table name\n",
    "tableRt = \"beacons_4744_rt\"\n",
    "\n",
    "# Connect to Beacon Data\n",
    "setRedshiftEndpoint(dsn)\n",
    "setTable(table)\n",
    "setTable(tableRt, tableType = \"RESOURCE_TABLE\")\n",
    ";"
   ]
  },
  {
   "cell_type": "code",
   "execution_count": null,
   "metadata": {
    "collapsed": false,
    "input_collapsed": false
   },
   "outputs": [],
   "source": [
    "include(\"../../Lib/Include-Package-v2.1.jl\")\n",
    "include(\"../../Lib/URL-Classification-Package-v2.0.jl\")\n",
    ";"
   ]
  },
  {
   "cell_type": "code",
   "execution_count": null,
   "metadata": {
    "collapsed": false,
    "input_collapsed": false
   },
   "outputs": [],
   "source": [
    "TV = timeVariables(2017,11,28,13,59,2017,11,28,14,59)\n",
    "#TV = weeklyTimeVariables(days=2)\n",
    "#TV = yesterdayTimeVariables()\n",
    ";"
   ]
  },
  {
   "cell_type": "code",
   "execution_count": null,
   "metadata": {
    "collapsed": false,
    "input_collapsed": false,
    "scrolled": true
   },
   "outputs": [],
   "source": [
    "UP = UrlParamsInit(\"Individual_Url_3rd_Party\")\n",
    "UP.agentOs = \"%\"\n",
    "UP.deviceType = \"%\"\n",
    "UP.limitRows = 250\n",
    "UP.orderBy = \"time\"\n",
    "UP.pageGroup = \"News Article\"   #productPageGroup\n",
    "UP.samplesMin = 10\n",
    "UP.sizeMin = 10000\n",
    "UP.timeLowerMs = 2000.0\n",
    "UP.timeUpperMs = 60000.0\n",
    "UP.urlRegEx = \"https://news.nationalgeographic.com/2017/11/jesus-tomb-archaeology-jerusalem-christianity-rome%\"   #localUrl\n",
    "UP.urlFull = \"https://news.nationalgeographic.com/2017/11/jesus-tomb-archaeology-jerusalem-christianity-rome\"\n",
    "UP.usePageLoad=false\n",
    "UrlParamsValidate(UP)\n",
    "\n",
    "SP = ShowParamsInit()\n",
    "SP.criticalPathOnly=true\n",
    "SP.desktop=true\n",
    "SP.devView=true\n",
    "SP.debugLevel = 0   # Tests use even numbers with > tests, make this an odd number or zero\n",
    "SP.mobile=true\n",
    "SP.reportLevel=2\n",
    "ShowParamsValidate(SP)\n",
    ";"
   ]
  },
  {
   "cell_type": "code",
   "execution_count": null,
   "metadata": {
    "collapsed": false,
    "input_collapsed": false
   },
   "outputs": [],
   "source": [
    "WellKnownHostDirectory = wellKnownHostEncyclopedia(SP.debug);\n",
    "WellKnownPath = wellKnownPathDictionary(SP.debug);"
   ]
  },
  {
   "cell_type": "code",
   "execution_count": null,
   "metadata": {
    "collapsed": false,
    "input_collapsed": false
   },
   "outputs": [],
   "source": [
    "localTableDF = defaultBeaconsToDF(TV,UP,SP)\n",
    "println(\"Local Beacon Table count is \",size(localTableDF)[1])\n",
    ";"
   ]
  },
  {
   "cell_type": "code",
   "execution_count": null,
   "metadata": {
    "collapsed": false,
    "input_collapsed": false
   },
   "outputs": [],
   "source": [
    "# Stats on the data\n",
    "statsDF = DataFrame()\n",
    "statsDF = beaconStats(TV,UP,SP)\n",
    "UP.timeLowerMs = statsDF[1:1,:q25][1]\n",
    "UP.timeUpperMs = statsDF[1:1,:q75][1]\n",
    ";"
   ]
  },
  {
   "cell_type": "code",
   "execution_count": null,
   "metadata": {
    "collapsed": false,
    "input_collapsed": false,
    "scrolled": true
   },
   "outputs": [],
   "source": [
    "# medium\n",
    "\n",
    "\n",
    "#UP.timeLowerMs = 4.0 * 1000\n",
    "#UP.timeeUpperMs = 5.5 * 1000\n",
    "localTableRtDF = getResourcesForBeacon(TV,UP)\n",
    "println(\"Matching Resource Table count is \",size(localTableRtDF)[1])\n",
    ";"
   ]
  },
  {
   "cell_type": "code",
   "execution_count": null,
   "metadata": {
    "collapsed": false,
    "input_collapsed": false,
    "scrolled": true
   },
   "outputs": [],
   "source": [
    "showAvailableSessions(TV,UP,SP,localTableDF,localTableRtDF)"
   ]
  },
  {
   "cell_type": "code",
   "execution_count": null,
   "metadata": {
    "collapsed": false,
    "input_collapsed": false,
    "scrolled": false
   },
   "outputs": [],
   "source": [
    "try\n",
    "\n",
    "executeSingleSession(TV,UP,SP,7246,\"001000e6-8e6c-4e2f-a784-5310b92bb70b-p0589o\",1511898403122) #    Time=7246\n",
    "executeSingleSession(TV,UP,SP,11062,\"0011d96f-bebb-4ab8-9d14-d769a1437a4c-p057sv\",1511897802059) #    Time=11062\n",
    "executeSingleSession(TV,UP,SP,7992,\"00131162-9fb5-45be-8e3f-4cbe9a12cd7d-p056dy\",1511895966029) #    Time=7992\n",
    "executeSingleSession(TV,UP,SP,9425,\"0014ba63-52d6-410e-94b5-61de7eca7967-p056ss\",1511896506334) #    Time=9425\n",
    "executeSingleSession(TV,UP,SP,17049,\"00183e9b-7b58-4283-9a6d-d3bbe15a97aa-p056ke\",1511896207486) #    Time=17049\n",
    "executeSingleSession(TV,UP,SP,8557,\"00a1f16a-a371-481c-bee5-0f7b1b0eff0d-p0565z\",1511895684053) #    Time=8557\n",
    "executeSingleSession(TV,UP,SP,12941,\"00a1f16a-a371-481c-bee5-0f7b1b0eff0d-p0565z\",1511895689881) #    Time=12941\n",
    "executeSingleSession(TV,UP,SP,6442,\"00a1f16a-a371-481c-bee5-0f7b1b0eff0d-p0565z\",1511896224547) #    Time=6442\n",
    "executeSingleSession(TV,UP,SP,7328,\"00a1f16a-a371-481c-bee5-0f7b1b0eff0d-p0565z\",1511896225609) #    Time=7328\n",
    "executeSingleSession(TV,UP,SP,10989,\"00c2e890-9fe2-4678-8a24-c3aa0a55b39e-p05867\",1511898299583) #    Time=10989\n",
    "\n",
    "    catch y\n",
    "    println(\"studySession Exception \",y)\n",
    "end  "
   ]
  },
  {
   "cell_type": "code",
   "execution_count": null,
   "metadata": {
    "collapsed": false,
    "input_collapsed": false
   },
   "outputs": [],
   "source": [
    "println(SP.debugLevel)"
   ]
  },
  {
   "cell_type": "code",
   "execution_count": null,
   "metadata": {
    "collapsed": true,
    "input_collapsed": true
   },
   "outputs": [],
   "source": []
  }
 ],
 "metadata": {
  "chart_version": "1.0.0",
  "kernelspec": {
   "display_name": "Julia 0.4.7",
   "language": "julia",
   "name": "julia-0.4"
  },
  "language_info": {
   "file_extension": ".jl",
   "mimetype": "application/julia",
   "name": "julia",
   "version": "0.4.7"
  },
  "library_version": "1.0.0",
  "notebook_uuid": "98324c99-cae7-4abd-b0f9-20a85feb0272",
  "readOnly": false
 },
 "nbformat": 4,
 "nbformat_minor": 0
}
