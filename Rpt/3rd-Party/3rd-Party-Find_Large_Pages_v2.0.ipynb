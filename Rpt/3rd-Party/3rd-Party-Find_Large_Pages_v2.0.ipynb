{
 "cells": [
  {
   "cell_type": "code",
   "execution_count": null,
   "metadata": {
    "collapsed": false,
    "input_collapsed": false
   },
   "outputs": [],
   "source": [
    "using ODBC\n",
    "using DataFrames\n",
    "using DSWB\n",
    "using Formatting\n",
    "\n",
    "dsn = \"dswb-natgeo\" # Redshift esetTable(tableRt, tableType = \"RESOURCE_TABLE\")ndpoint\n",
    "table = \"beacons_4744\" # beacon table name\n",
    "tableRt = \"beacons_4744_rt\"\n",
    "\n",
    "# Connect to Beacon Data\n",
    "setRedshiftEndpoint(dsn)\n",
    "setTable(tableRt, tableType = \"RESOURCE_TABLE\")\n",
    "setTable(table)"
   ]
  },
  {
   "cell_type": "code",
   "execution_count": null,
   "metadata": {
    "collapsed": false,
    "input_collapsed": false
   },
   "outputs": [],
   "source": [
    "# Packages\n",
    "include(\"../../Lib/Include-Package-v2.1.jl\")\n",
    "\n",
    "# Time values (tv.) structure created in include above, so init time here\n",
    "#TV = timeVariables(2017,1,2,2,30,2017,1,2,2,45);\n",
    "TV = timeVariables(2017,3,8,6,0,2017,3,8,11,59);\n",
    "#TV = weeklyTimeVariables(days=7);"
   ]
  },
  {
   "cell_type": "code",
   "execution_count": null,
   "metadata": {
    "collapsed": false,
    "input_collapsed": false
   },
   "outputs": [],
   "source": [
    "customer = \"Nat Geo\" \n",
    "productPageGroup = \"News Article\" # primary page group\n",
    "localUrl = \"http://news.nationalgeographic.com/news/2014/05/140518-dogs-war-canines-soldiers-troops-military-japanese-prisoner/\"\n",
    "localTable = \"$(table)_Find_Large_Page_Url_view\"\n",
    "deviceType = \"Mobile\"\n",
    "linesOutput = 25\n",
    ";"
   ]
  },
  {
   "cell_type": "code",
   "execution_count": null,
   "metadata": {
    "collapsed": false,
    "input_collapsed": false
   },
   "outputs": [],
   "source": [
    "try\n",
    "    query(\"\"\"\\\n",
    "        create or replace view $localTable as (\n",
    "            select * from $table \n",
    "                where \n",
    "                    \"timestamp\" between $(TV.startTimeMsUTC) and $(TV.endTimeMsUTC) and \n",
    "                    page_group ilike '$(productPageGroup)' and\n",
    "                    params_u ilike '$(localUrl)'  and \n",
    "                    $table.user_agent_device_type ilike '$(deviceType)'\n",
    "\n",
    "        )\n",
    "    \"\"\")\n",
    "    cnt = query(\"\"\"SELECT count(*) FROM $localTable\"\"\")\n",
    "    println(\"$localTable count is \",cnt[1,1])\n",
    "catch y\n",
    "    println(\"setupLocalTable Exception \",y)\n",
    "end"
   ]
  },
  {
   "cell_type": "code",
   "execution_count": null,
   "metadata": {
    "collapsed": false,
    "input_collapsed": false
   },
   "outputs": [],
   "source": [
    "try\n",
    "    query(\"\"\"\n",
    "    select \n",
    "        user_agent_device_type,\n",
    "        user_agent_family,\n",
    "    user_agent_os,user_agent_manufacturer,params_ua_vnd,\n",
    "    count(*)\n",
    "    from $localTable\n",
    "    group by \n",
    "        user_agent_device_type,\n",
    "        user_agent_family,\n",
    "    user_agent_os,user_agent_manufacturer,params_ua_vnd\n",
    "    order by count(*) desc\n",
    "    limit 30\n",
    "    \"\"\")\n",
    "catch y\n",
    "    println(\"setupLocalTable Exception \",y)\n",
    "end"
   ]
  },
  {
   "cell_type": "code",
   "execution_count": null,
   "metadata": {
    "collapsed": true,
    "input_collapsed": false
   },
   "outputs": [],
   "source": []
  },
  {
   "cell_type": "code",
   "execution_count": null,
   "metadata": {
    "collapsed": false,
    "input_collapsed": false
   },
   "outputs": [],
   "source": [
    "try\n",
    "    query(\"\"\"\n",
    "    select \n",
    "        user_agent_device_type,\n",
    "        user_agent_family,\n",
    "    geo_netspeed, params_cpu_cnc,user_agent_os,user_agent_osversion,user_agent_manufacturer,params_ua_plt,params_ua_vnd,\n",
    "    count(*)\n",
    "    from $localTable\n",
    "    group by \n",
    "        user_agent_device_type,\n",
    "        user_agent_family,\n",
    "    geo_netspeed, params_cpu_cnc,user_agent_os,user_agent_osversion,user_agent_manufacturer,params_ua_plt,params_ua_vnd\n",
    "    order by count(*) desc\n",
    "    limit 25\n",
    "    \"\"\")\n",
    "catch y\n",
    "    println(\"setupLocalTable Exception \",y)\n",
    "end"
   ]
  },
  {
   "cell_type": "code",
   "execution_count": null,
   "metadata": {
    "collapsed": false,
    "input_collapsed": false
   },
   "outputs": [],
   "source": [
    "try\n",
    "    query(\"\"\"\n",
    "    select \n",
    "        user_agent_device_type,\n",
    "        user_agent_family,\n",
    "        params_scr_xy,\n",
    "    geo_cc, geo_netspeed, params_cpu_cnc,params_scr_bpp,params_scr_dpx,params_scr_mtp,params_scr_orn,user_agent_os,user_agent_osversion,user_agent_manufacturer,params_ua_plt,params_ua_vnd,\n",
    "    count(*)\n",
    "    from $localTable\n",
    "    group by \n",
    "        user_agent_device_type,\n",
    "        user_agent_family,\n",
    "        params_scr_xy,\n",
    "    geo_cc, geo_netspeed, params_cpu_cnc,params_scr_bpp,params_scr_dpx,params_scr_mtp,params_scr_orn,user_agent_os,user_agent_osversion,user_agent_manufacturer,params_ua_plt,params_ua_vnd\n",
    "    order by count(*) desc\n",
    "    limit 25\n",
    "    \"\"\")\n",
    "catch y\n",
    "    println(\"setupLocalTable Exception \",y)\n",
    "end"
   ]
  },
  {
   "cell_type": "code",
   "execution_count": null,
   "metadata": {
    "collapsed": false,
    "input_collapsed": false
   },
   "outputs": [],
   "source": [
    "try\n",
    "    query(\"\"\"SELECT * FROM $localTable limit 3\"\"\")\n",
    "catch y\n",
    "    println(\"setupLocalTable Exception \",y)\n",
    "end"
   ]
  },
  {
   "cell_type": "code",
   "execution_count": null,
   "metadata": {
    "collapsed": false,
    "input_collapsed": false,
    "scrolled": false
   },
   "outputs": [],
   "source": [
    "joinTablesTest = DataFrame()\n",
    "\n",
    "try\n",
    "    joinTablesTest = query(\"\"\"\\\n",
    "    select $tableRt.*\n",
    "    from $localTable join $tableRt\n",
    "    on $localTable.session_id = $tableRt.session_id and $localTable.\"timestamp\" = $tableRt.\"timestamp\"\n",
    "    where $tableRt.encoded_size > 1\n",
    "    limit 3\n",
    "    \"\"\");\n",
    "\n",
    "    beautifyDF(joinTablesTest[1:min(linesOutput,end),:])\n",
    "catch y\n",
    "    println(\"bigTable5 Exception \",y)\n",
    "end\n",
    "#display(joinTables)"
   ]
  },
  {
   "cell_type": "code",
   "execution_count": null,
   "metadata": {
    "collapsed": false,
    "input_collapsed": false,
    "scrolled": false
   },
   "outputs": [],
   "source": [
    "joinTables = DataFrame()\n",
    "\n",
    "try\n",
    "    joinTables = query(\"\"\"\\\n",
    "    select \n",
    "        $tableRt.url as urlgroup,\n",
    "        $localTable.user_agent_device_type,\n",
    "        $localTable.user_agent_family as useragentfamily,\n",
    "        $localTable.params_scr_xy,\n",
    "        $localTable.session_id,\n",
    "        $localTable.\"timestamp\",\n",
    "        sum($tableRt.encoded_size) as encoded,\n",
    "        sum($tableRt.transferred_size) as transferred,\n",
    "        sum($tableRt.decoded_size) as decoded,\n",
    "        count(*)\n",
    "    from $localTable join $tableRt\n",
    "    on $localTable.session_id = $tableRt.session_id and $localTable.\"timestamp\" = $tableRt.\"timestamp\"\n",
    "    where $tableRt.encoded_size > 1\n",
    "    group by $tableRt.url,$localTable.user_agent_device_type,$localTable.user_agent_family,\n",
    "        $localTable.params_scr_xy,$localTable.session_id,$localTable.\"timestamp\"\n",
    "    order by encoded desc\n",
    "    \"\"\");\n",
    "\n",
    "    scrubUrlToPrint(SP,joinTables,:urlgroup)\n",
    "    beautifyDF(joinTables[1:min(linesOutput,end),:])\n",
    "catch y\n",
    "    println(\"bigTable5 Exception \",y)\n",
    "end\n",
    "#display(joinTables)"
   ]
  },
  {
   "cell_type": "code",
   "execution_count": null,
   "metadata": {
    "collapsed": false,
    "input_collapsed": false
   },
   "outputs": [],
   "source": [
    "#topSessionId = joinTables[1:1,:session_id]\n",
    "#topTimeStamp = joinTables[1:1,:timestamp]\n",
    "#println(\"tsi=\",topSessionId,\" tts=\", topTimeStamp)\n",
    "\n",
    "joinTableSummary = DataFrame()\n",
    "joinTableSummary[:useragentfamily] = \"delete\"\n",
    "joinTableSummary[:session_id] = \"\"\n",
    "joinTableSummary[:timestamp] = 0\n",
    "joinTableSummary[:encoded] = 0\n",
    "joinTableSummary[:transferred] = 0\n",
    "joinTableSummary[:decoded] = 0\n",
    "joinTableSummary[:count] = 0\n",
    "\n",
    "sort!(joinTables,cols=[order(:encoded,rev=true)])\n",
    "for subDf in groupby(joinTables,:useragentfamily)\n",
    "    #beautifyDF(subDf[1:1,:])\n",
    "    i = 1\n",
    "    for row in eachrow(subDf)\n",
    "        if (i == 1) \n",
    "            i +=1\n",
    "            push!(joinTableSummary,[row[:useragentfamily],row[:session_id],row[:timestamp],row[:encoded],row[:transferred],row[:decoded],row[:count]])\n",
    "        end            \n",
    "    end\n",
    "end\n",
    "\n",
    "i = 1\n",
    "for x in joinTableSummary[:,:useragentfamily]\n",
    "    if x == \"delete\"\n",
    "        deleterows!(joinTableSummary,i)\n",
    "    end\n",
    "    i += 1\n",
    "end\n",
    "sort!(joinTableSummary,cols=[order(:encoded,rev=true)])\n",
    ";\n"
   ]
  },
  {
   "cell_type": "code",
   "execution_count": null,
   "metadata": {
    "collapsed": false,
    "input_collapsed": false,
    "scrolled": false
   },
   "outputs": [],
   "source": [
    "beautifyDF(joinTableSummary[1:min(linesOutput,end),[:useragentfamily,:encoded,:transferred,:decoded]])"
   ]
  },
  {
   "cell_type": "code",
   "execution_count": null,
   "metadata": {
    "collapsed": true,
    "input_collapsed": false
   },
   "outputs": [],
   "source": []
  },
  {
   "cell_type": "code",
   "execution_count": null,
   "metadata": {
    "collapsed": false,
    "input_collapsed": false
   },
   "outputs": [],
   "source": [
    "function detailsPrint(localTable::ASCIIString,tableRt::ASCIIString,joinTableSummary::DataFrame,row::Int64)\n",
    "    try\n",
    "        topSessionId = joinTableSummary[row:row,:session_id][1]\n",
    "        topTimeStamp = joinTableSummary[row:row,:timestamp][1]\n",
    "        topTitle = joinTableSummary[row:row,:urlgroup][1]\n",
    "\n",
    "        joinTablesDetails = query(\"\"\"\\\n",
    "        select \n",
    "        $tableRt.start_time,\n",
    "        $tableRt.encoded_size,\n",
    "        $tableRt.transferred_size,\n",
    "        $tableRt.decoded_size,\n",
    "        $tableRt.url as urlgroup\n",
    "        from $localTable join $tableRt\n",
    "        on $localTable.session_id = $tableRt.session_id and $localTable.\"timestamp\" = $tableRt.\"timestamp\"\n",
    "        where \n",
    "        $localTable.session_id = '$(topSessionId)' and\n",
    "        $localTable.\"timestamp\" = $(topTimeStamp) and \n",
    "        $tableRt.encoded_size > 1000000\n",
    "        order by $tableRt.start_time\n",
    "        \"\"\");\n",
    "\n",
    "        displayTitle(chart_title = \"Large Requests for: $(topTitle)\", chart_info = [TV.timeString], showTimeStamp=false)\n",
    "        scrubUrlToPrint(SP,joinTablesDetails,:urlgroup)\n",
    "        beautifyDF(joinTablesDetails[1:end,:])\n",
    "    catch y\n",
    "        println(\"bigTable5 Exception \",y)\n",
    "    end\n",
    "end\n"
   ]
  },
  {
   "cell_type": "code",
   "execution_count": null,
   "metadata": {
    "collapsed": false,
    "input_collapsed": false
   },
   "outputs": [],
   "source": [
    "function statsTableDF2(table::ASCIIString,productPageGroup::ASCIIString,localUrl::ASCIIString,deviceType::ASCIIString,startTimeMs::Int64, endTimeMs::Int64)\n",
    "    try\n",
    "        #println(localUrl)\n",
    "        \n",
    "        localStats = query(\"\"\"\\\n",
    "        select timers_t_done from $table where \n",
    "        page_group ilike '$(productPageGroup)' and\n",
    "        params_u ilike '$(localUrl)' and\n",
    "        user_agent_device_type ilike '$(deviceType)' and        \n",
    "        \"timestamp\" between $startTimeMs and $endTimeMs and\n",
    "        params_rt_quit IS NULL\n",
    "        \"\"\");\n",
    "        return localStats\n",
    "    catch y\n",
    "        println(\"statsTableDF Exception \",y)\n",
    "    end\n",
    "end\n",
    "\n"
   ]
  },
  {
   "cell_type": "code",
   "execution_count": null,
   "metadata": {
    "collapsed": false,
    "input_collapsed": false
   },
   "outputs": [],
   "source": [
    "\n",
    "\n",
    "function statsDetailsPrint2(localTable::ASCIIString,tableRt::ASCIIString,joinTableSummary::DataFrame,row::Int64)\n",
    "    try\n",
    "        topUrl = string(joinTableSummary[row:row,:urlgroup][1],\"%\")\n",
    "        topTitle = joinTableSummary[row:row,:urlgroup][1]\n",
    "        \n",
    "        dispDMT = DataFrame(RefGroup=[\"\",\"\",\"\"],Unit=[\"\",\"\",\"\"],Count=[0,0,0],Mean=[0.0,0.0,0.0],Median=[0.0,0.0,0.0],Min=[0.0,0.0,0.0],Max=[0.0,0.0,0.0])\n",
    "        \n",
    "        statsFullDF2 = statsTableDF2(localTable,productPageGroup,topUrl,\"Desktop\",TV.startTimeMsUTC,TV.endTimeMsUTC)\n",
    "        dispDMT[1:1,:RefGroup] = \"Desktop\"\n",
    "        if (size(statsFullDF2)[1] > 0)\n",
    "            statsDF2 = basicStats(statsFullDF2)\n",
    "            dispDMT[1:1,:Unit] = statsDF2[2:2,:unit]\n",
    "            dispDMT[1:1,:Count] = statsDF2[2:2,:count]\n",
    "            dispDMT[1:1,:Mean] = statsDF2[2:2,:mean]\n",
    "            dispDMT[1:1,:Median] = statsDF2[2:2,:median]\n",
    "            dispDMT[1:1,:Min] = statsDF2[2:2,:min]\n",
    "            dispDMT[1:1,:Max] = statsDF2[2:2,:max]\n",
    "        end\n",
    "        statsFullDF2 = statsTableDF2(localTable,productPageGroup,topUrl,\"Mobile\",TV.startTimeMsUTC,TV.endTimeMsUTC)\n",
    "        dispDMT[2:2,:RefGroup] = \"Mobile\"\n",
    "        if (size(statsFullDF2)[1] > 0)\n",
    "            statsDF2 = basicStats(statsFullDF2)\n",
    "            dispDMT[2:2,:Unit] = statsDF2[2:2,:unit]\n",
    "            dispDMT[2:2,:Count] = statsDF2[2:2,:count]\n",
    "            dispDMT[2:2,:Mean] = statsDF2[2:2,:mean]\n",
    "            dispDMT[2:2,:Median] = statsDF2[2:2,:median]\n",
    "            dispDMT[2:2,:Min] = statsDF2[2:2,:min]\n",
    "            dispDMT[2:2,:Max] = statsDF2[2:2,:max]\n",
    "        end\n",
    "        statsFullDF2 = statsTableDF2(localTable,productPageGroup,topUrl,\"Tablet\",TV.startTimeMsUTC,TV.endTimeMsUTC)\n",
    "        dispDMT[3:3,:RefGroup] = \"Tablet\"\n",
    "        if (size(statsFullDF2)[1] > 0)\n",
    "            statsDF2 = basicStats(statsFullDF2)\n",
    "            dispDMT[3:3,:Unit] = statsDF2[2:2,:unit]\n",
    "            dispDMT[3:3,:Count] = statsDF2[2:2,:count]\n",
    "            dispDMT[3:3,:Mean] = statsDF2[2:2,:mean]\n",
    "            dispDMT[3:3,:Median] = statsDF2[2:2,:median]\n",
    "            dispDMT[3:3,:Min] = statsDF2[2:2,:min]\n",
    "            dispDMT[3:3,:Max] = statsDF2[2:2,:max]\n",
    "        end\n",
    "\n",
    "        displayTitle(chart_title = \"Large Request Stats for: $(topTitle)\", chart_info = [TV.timeString], showTimeStamp=false)\n",
    "        beautifyDF(dispDMT)\n",
    "    catch y\n",
    "        println(\"statsTableDF2 Exception \",y)\n",
    "    end\n",
    "end\n"
   ]
  },
  {
   "cell_type": "code",
   "execution_count": null,
   "metadata": {
    "collapsed": false,
    "input_collapsed": false,
    "scrolled": false
   },
   "outputs": [],
   "source": [
    "i = 0\n",
    "for row in eachrow(joinTableSummary)\n",
    "    i += 1\n",
    "    detailsPrint(localTable,tableRt,joinTableSummary,i)\n",
    "    statsDetailsPrint2(localTable,tableRt,joinTableSummary,i)\n",
    "    if (i >= linesOutput)\n",
    "        break;\n",
    "    end\n",
    "end\n",
    ";"
   ]
  },
  {
   "cell_type": "code",
   "execution_count": null,
   "metadata": {
    "collapsed": true,
    "input_collapsed": false
   },
   "outputs": [],
   "source": []
  }
 ],
 "metadata": {
  "kernelspec": {
   "display_name": "Julia 0.4.7",
   "language": "julia",
   "name": "julia-0.4"
  },
  "language_info": {
   "file_extension": ".jl",
   "mimetype": "application/julia",
   "name": "julia",
   "version": "0.4.7"
  },
  "library_version": "1.0.0",
  "notebook_uuid": "42e92df6-f35c-485f-9ec2-3e59d31c50e3",
  "readOnly": false
 },
 "nbformat": 4,
 "nbformat_minor": 0
}
