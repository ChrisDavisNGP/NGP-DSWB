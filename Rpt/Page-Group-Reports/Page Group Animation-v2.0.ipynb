{
 "cells": [
  {
   "cell_type": "markdown",
   "metadata": {},
   "source": [
    "## Tables and Data Source setup"
   ]
  },
  {
   "cell_type": "code",
   "execution_count": 1,
   "metadata": {
    "collapsed": false,
    "input_collapsed": false,
    "scrolled": true
   },
   "outputs": [
    {
     "name": "stdout",
     "output_type": "stream",
     "text": [
      "Set Redshift endpoint done. 2016-12-24T13:35:34\n"
     ]
    },
    {
     "data": {
      "text/plain": [
       "\"beacons_4744\""
      ]
     },
     "execution_count": 1,
     "metadata": {},
     "output_type": "execute_result"
    }
   ],
   "source": [
    "using ODBC\n",
    "using DataFrames\n",
    "using DSWB\n",
    "using Formatting\n",
    "\n",
    "dsn = \"dswb-natgeo\" # Redshift endpoint\n",
    "table = \"beacons_4744\" # beacon table name\n",
    "tableRt = \"beacons_4744_rt\"\n",
    "\n",
    "# Connect to Beacon Data\n",
    "setRedshiftEndpoint(dsn)\n",
    "setTable(table)\n",
    "\n",
    "# setTable(tableRt, tableType = \"RESOURCE_TABLE\")"
   ]
  },
  {
   "cell_type": "code",
   "execution_count": 2,
   "metadata": {
    "collapsed": true,
    "input_collapsed": false
   },
   "outputs": [],
   "source": [
    "# Packages\n",
    "include(\"../../Lib/Include-Package-v2.1.jl\")\n",
    ";"
   ]
  },
  {
   "cell_type": "markdown",
   "metadata": {},
   "source": [
    "## Constants to Edit"
   ]
  },
  {
   "cell_type": "code",
   "execution_count": 3,
   "metadata": {
    "collapsed": false,
    "input_collapsed": false,
    "scrolled": true
   },
   "outputs": [
    {
     "name": "stdout",
     "output_type": "stream",
     "text": [
      "December 21, 2016 19:00:00 to December 21, 2016 23:59:00 Local\n",
      "December 22, 2016 00:00:00 to December 22, 2016 04:59:00 UTC\n"
     ]
    }
   ],
   "source": [
    "customer = \"Nat Geo\" \n",
    "productPageGroup = \"News Article\" # primary page group \n",
    "localTable = \"$(table)_productPage_view_prod\"\n",
    "localTableRt = \"$(tableRt)_productPage_view_prod\"\n",
    "\n",
    "TV = timeVariables(2016,12,21,19,0,2016,12,21,23,59);\n"
   ]
  },
  {
   "cell_type": "code",
   "execution_count": 5,
   "metadata": {
    "collapsed": false,
    "input_collapsed": false
   },
   "outputs": [
    {
     "data": {
      "text/plain": [
       "\"beacons_4744_productPage_view_prod\""
      ]
     },
     "execution_count": 5,
     "metadata": {},
     "output_type": "execute_result"
    }
   ],
   "source": [
    "# Create view to query only product page_group\n",
    "query(\"\"\"create or replace view $localTable as (select * from $table where page_group = '$(productPageGroup)' and \"timestamp\" between $(TV.startTimeMsUTC) and $(TV.endTimeMsUTC))\"\"\")\n",
    "\n",
    "setTable(localTable)\n",
    "\n",
    "# Some routines use the unload events, some do not.  First count is all beacons such as page view and unload\n",
    "# where beacon_type = 'page view'\n",
    "#query(\"\"\"SELECT count(*) FROM $localTable\"\"\")\n"
   ]
  },
  {
   "cell_type": "code",
   "execution_count": 6,
   "metadata": {
    "collapsed": false,
    "input_collapsed": false
   },
   "outputs": [
    {
     "data": {
      "text/plain": [
       "(58466,17)"
      ]
     },
     "execution_count": 6,
     "metadata": {},
     "output_type": "execute_result"
    }
   ],
   "source": [
    "retailer_results = getLatestResults(hours=1, minutes=30, table_name=\"$(localTable)\")\n",
    "size(retailer_results)"
   ]
  },
  {
   "cell_type": "code",
   "execution_count": 8,
   "metadata": {
    "collapsed": false,
    "input_collapsed": false
   },
   "outputs": [
    {
     "data": {
      "text/html": [
       "<table class=\"data-frame\"><tr><th></th><th>page_group</th><th>params_u</th><th>geo_cc</th><th>geo_netspeed</th><th>user_agent_family</th><th>params_dom_sz</th><th>params_dom_ln</th><th>params_dom_script</th><th>params_dom_img</th><th>timers_t_done</th></tr><tr><th>1</th><td>News Article</td><td>http://news.nationalgeographic.com/2016/12/wildlife-watch-taiz-zoo-animals-starving-leopard-war/?utm_source=Facebook&amp;utm_medium=Social&amp;utm_content=link_fb20161221news-yemenzoo&amp;utm_campaign=Content&amp;sf47775853=1</td><td>NA</td><td>NA</td><td>Facebook</td><td>181810</td><td>879</td><td>61</td><td>4</td><td>3952</td></tr><tr><th>2</th><td>News Article</td><td>http://news.nationalgeographic.com/2016/12/wildlife-watch-taiz-zoo-animals-starving-leopard-war/</td><td>FI</td><td>Cable/DSL</td><td>Facebook</td><td>181431</td><td>881</td><td>61</td><td>4</td><td>7957</td></tr><tr><th>3</th><td>News Article</td><td>http://news.nationalgeographic.com/2016/12/wildlife-watch-taiz-zoo-animals-starving-leopard-war/?utm_source=Facebook&amp;utm_medium=Social&amp;utm_content=link_fb20161221news-yemenzoo&amp;utm_campaign=Content&amp;sf47775853=1</td><td>NA</td><td>NA</td><td>Facebook</td><td>181506</td><td>877</td><td>61</td><td>4</td><td>2193</td></tr><tr><th>4</th><td>News Article</td><td>http://news.nationalgeographic.com/2016/12/uncontacted-tribe-amazon-brazil-photos/?utm_source=Facebook&amp;utm_medium=Social&amp;utm_content=link_fb20161221news-uncontactedtribe&amp;utm_campaign=Content&amp;sf47820891=1</td><td>SI</td><td>NA</td><td>Facebook</td><td>199742</td><td>1061</td><td>58</td><td>6</td><td>6797</td></tr><tr><th>5</th><td>News Article</td><td>http://news.nationalgeographic.com/2016/12/uncontacted-tribe-amazon-brazil-photos/?utm_source=Facebook&amp;utm_medium=Social&amp;utm_content=link_fb20161221news-uncontactedtribe&amp;utm_campaign=Content&amp;sf47820891=1</td><td>AE</td><td>NA</td><td>Facebook</td><td>198394</td><td>1056</td><td>57</td><td>6</td><td>9283</td></tr><tr><th>6</th><td>News Article</td><td>http://news.nationalgeographic.com/2016/12/uncontacted-tribe-amazon-brazil-photos/?utm_source=Facebook&amp;utm_medium=Social&amp;utm_content=link_fb20161221news-uncontactedtribe&amp;utm_campaign=Content&amp;sf47820891=1</td><td>GB</td><td>Cable/DSL</td><td>Facebook</td><td>198499</td><td>1055</td><td>58</td><td>6</td><td>13155</td></tr><tr><th>7</th><td>News Article</td><td>http://news.nationalgeographic.com/2016/12/uncontacted-tribe-amazon-brazil-photos/?utm_source=Facebook&amp;utm_medium=Social&amp;utm_content=link_fb20161221news-uncontactedtribe&amp;utm_campaign=Content&amp;sf47820891=1</td><td>JO</td><td>NA</td><td>Facebook</td><td>200149</td><td>1062</td><td>58</td><td>6</td><td>29919</td></tr><tr><th>8</th><td>News Article</td><td>http://news.nationalgeographic.com/2016/12/uncontacted-tribe-amazon-brazil-photos/?utm_source=Facebook&amp;utm_medium=Social&amp;utm_content=link_fb20161221news-uncontactedtribe&amp;utm_campaign=Content&amp;sf47820891=1</td><td>DE</td><td>Cable/DSL</td><td>Facebook</td><td>197775</td><td>1055</td><td>57</td><td>6</td><td>15279</td></tr><tr><th>9</th><td>News Article</td><td>http://news.nationalgeographic.com/2016/07/animals-oldest-sponges-whales-fish/?utm_source=Facebook&amp;utm_medium=Social&amp;utm_content=link_fbp20161221news-waqoldest&amp;utm_campaign=Content&amp;sf47782561=1</td><td>MU</td><td>NA</td><td>Facebook</td><td>198518</td><td>1076</td><td>60</td><td>7</td><td>29707</td></tr><tr><th>10</th><td>News Article</td><td>http://news.nationalgeographic.com/2016/12/uncontacted-tribe-amazon-brazil-photos/?utm_source=Facebook&amp;utm_medium=Social&amp;utm_content=link_fb20161221news-uncontactedtribe&amp;utm_campaign=Content&amp;sf47820891=1</td><td>NL</td><td>Cable/DSL</td><td>Facebook</td><td>200201</td><td>1062</td><td>58</td><td>6</td><td>21347</td></tr><tr><th>11</th><td>News Article</td><td>http://news.nationalgeographic.com/2016/12/uncontacted-tribe-amazon-brazil-photos/?utm_source=Facebook&amp;utm_medium=Social&amp;utm_content=link_fb20161221news-uncontactedtribe&amp;utm_campaign=Content&amp;sf47820891=1</td><td>AE</td><td>NA</td><td>Facebook</td><td>215428</td><td>1095</td><td>57</td><td>12</td><td>18409</td></tr><tr><th>12</th><td>News Article</td><td>http://news.nationalgeographic.com/2016/12/uncontacted-tribe-amazon-brazil-photos/?utm_source=Facebook&amp;utm_medium=Social&amp;utm_content=link_fb20161221news-uncontactedtribe&amp;utm_campaign=Content&amp;sf47820891=1</td><td>IN</td><td>NA</td><td>Facebook</td><td>198783</td><td>1057</td><td>57</td><td>6</td><td>12615</td></tr><tr><th>13</th><td>News Article</td><td>http://news.nationalgeographic.com/2016/12/uncontacted-tribe-amazon-brazil-photos/?utm_source=Facebook&amp;utm_medium=Social&amp;utm_content=link_fb20161221news-uncontactedtribe&amp;utm_campaign=Content&amp;sf47820891=1</td><td>IN</td><td>Cellular</td><td>Facebook</td><td>202726</td><td>1064</td><td>58</td><td>7</td><td>27174</td></tr><tr><th>14</th><td>News Article</td><td>http://news.nationalgeographic.com/2016/10/star-trek-warp-drive-interstellar-travel-space-astronomy-science/</td><td>IN</td><td>NA</td><td>Chrome</td><td>185345</td><td>862</td><td>65</td><td>4</td><td>11143</td></tr><tr><th>15</th><td>News Article</td><td>http://news.nationalgeographic.com/2016/12/uncontacted-tribe-amazon-brazil-photos/</td><td>IN</td><td>Cellular</td><td>Facebook</td><td>209106</td><td>1109</td><td>57</td><td>7</td><td>32667</td></tr><tr><th>16</th><td>News Article</td><td>http://news.nationalgeographic.com/2016/12/uncontacted-tribe-amazon-brazil-photos/?utm_source=Facebook&amp;utm_medium=Social&amp;utm_content=link_fb20161221news-uncontactedtribe&amp;utm_campaign=Content&amp;sf47820891=1</td><td>AE</td><td>NA</td><td>Facebook</td><td>204273</td><td>1074</td><td>58</td><td>9</td><td>22791</td></tr><tr><th>17</th><td>News Article</td><td>http://news.nationalgeographic.com/2016/12/uncontacted-tribe-amazon-brazil-photos/?utm_source=Facebook&amp;utm_medium=Social&amp;utm_content=link_fb20161221news-uncontactedtribe&amp;utm_campaign=Content&amp;sf47820891=1</td><td>GB</td><td>Cable/DSL</td><td>Facebook</td><td>198419</td><td>1056</td><td>57</td><td>6</td><td>8107</td></tr><tr><th>18</th><td>News Article</td><td>http://news.nationalgeographic.com/2016/12/uncontacted-tribe-amazon-brazil-photos/?utm_source=Facebook&amp;utm_medium=Social&amp;utm_content=link_fb20161221news-uncontactedtribe&amp;utm_campaign=Content&amp;sf47820891=1</td><td>IN</td><td>Cable/DSL</td><td>Chrome</td><td>199631</td><td>1030</td><td>58</td><td>6</td><td>21201</td></tr><tr><th>19</th><td>News Article</td><td>http://news.nationalgeographic.com/2016/12/uncontacted-tribe-amazon-brazil-photos/?utm_source=Facebook&amp;utm_medium=Social&amp;utm_content=link_fb20161221news-uncontactedtribe&amp;utm_campaign=Content&amp;sf47820891=1</td><td>IN</td><td>Cellular</td><td>Facebook</td><td>200598</td><td>1064</td><td>59</td><td>6</td><td>28209</td></tr><tr><th>20</th><td>News Article</td><td>http://news.nationalgeographic.com/2016/12/uncontacted-tribe-amazon-brazil-photos/?utm_source=Facebook&amp;utm_medium=Social&amp;utm_content=link_fb20161221news-uncontactedtribe&amp;utm_campaign=Content&amp;sf47820891=1</td><td>RO</td><td>Cable/DSL</td><td>Facebook</td><td>200093</td><td>1062</td><td>58</td><td>6</td><td>9876</td></tr><tr><th>21</th><td>News Article</td><td>http://news.nationalgeographic.com/2016/12/uncontacted-tribe-amazon-brazil-photos/?utm_source=Facebook&amp;utm_medium=Social&amp;utm_content=link_fb20161221news-uncontactedtribe&amp;utm_campaign=Content&amp;sf47820891=1</td><td>MA</td><td>NA</td><td>Chrome</td><td>203372</td><td>1040</td><td>61</td><td>6</td><td>68626</td></tr><tr><th>22</th><td>News Article</td><td>http://news.nationalgeographic.com/2016/12/uncontacted-tribe-amazon-brazil-photos/?utm_source=Facebook&amp;utm_medium=Social&amp;utm_content=link_fb20161221news-uncontactedtribe&amp;utm_campaign=Content&amp;sf47820891=1</td><td>GB</td><td>Cable/DSL</td><td>Facebook</td><td>198665</td><td>1057</td><td>57</td><td>6</td><td>2762</td></tr><tr><th>23</th><td>News Article</td><td>http://news.nationalgeographic.com/2016/12/uncontacted-tribe-amazon-brazil-photos/?utm_source=Facebook&amp;utm_medium=Social&amp;utm_content=link_fb20161221news-uncontactedtribe&amp;utm_campaign=Content&amp;sf47820891=1</td><td>GB</td><td>Cable/DSL</td><td>Facebook</td><td>203385</td><td>1057</td><td>61</td><td>6</td><td>10111</td></tr><tr><th>24</th><td>News Article</td><td>http://news.nationalgeographic.com/2016/12/uncontacted-tribe-amazon-brazil-photos/?utm_source=Facebook&amp;utm_medium=Social&amp;utm_content=link_fb20161221news-uncontactedtribe&amp;utm_campaign=Content&amp;sf47820891=1</td><td>GB</td><td>Cable/DSL</td><td>Facebook</td><td>199279</td><td>1058</td><td>58</td><td>6</td><td>10500</td></tr><tr><th>25</th><td>News Article</td><td>http://news.nationalgeographic.com/2016/12/uncontacted-tribe-amazon-brazil-photos/?utm_source=Facebook&amp;utm_medium=Social&amp;utm_content=link_fb20161221news-uncontactedtribe&amp;utm_campaign=Content&amp;sf47820891=1</td><td>FR</td><td>Cable/DSL</td><td>Facebook</td><td>198513</td><td>1055</td><td>57</td><td>6</td><td>3605</td></tr><tr><th>26</th><td>News Article</td><td>http://news.nationalgeographic.com/2016/12/uncontacted-tribe-amazon-brazil-photos/?utm_source=Facebook&amp;utm_medium=Social&amp;utm_content=link_fb20161221news-uncontactedtribe&amp;utm_campaign=Content&amp;sf47820891=1</td><td>PL</td><td>Cellular</td><td>Facebook</td><td>198408</td><td>1056</td><td>57</td><td>6</td><td>9028</td></tr><tr><th>27</th><td>News Article</td><td>http://news.nationalgeographic.com/2016/12/uncontacted-tribe-amazon-brazil-photos/?utm_source=Facebook&amp;utm_medium=Social&amp;utm_content=link_fb20161221news-uncontactedtribe&amp;utm_campaign=Content&amp;sf47820891=1</td><td>PK</td><td>NA</td><td>Chrome</td><td>224863</td><td>1068</td><td>62</td><td>13</td><td>52518</td></tr><tr><th>28</th><td>News Article</td><td>http://news.nationalgeographic.com/2016/12/uncontacted-tribe-amazon-brazil-photos/?utm_source=Facebook&amp;utm_medium=Social&amp;utm_content=link_fb20161221news-uncontactedtribe&amp;utm_campaign=Content&amp;sf47820891=1</td><td>RO</td><td>NA</td><td>Chrome Mobile</td><td>198757</td><td>1059</td><td>57</td><td>6</td><td>9992</td></tr><tr><th>29</th><td>News Article</td><td>http://news.nationalgeographic.com/2016/12/uncontacted-tribe-amazon-brazil-photos/?utm_source=Facebook&amp;utm_medium=Social&amp;utm_content=link_fb20161221news-uncontactedtribe&amp;utm_campaign=Content&amp;sf47820891=1</td><td>RO</td><td>NA</td><td>Facebook</td><td>199747</td><td>1072</td><td>57</td><td>6</td><td>8857</td></tr><tr><th>30</th><td>News Article</td><td>http://news.nationalgeographic.com/2016/12/uncontacted-tribe-amazon-brazil-photos/?utm_source=Facebook&amp;utm_medium=Social&amp;utm_content=link_fb20161221news-uncontactedtribe&amp;utm_campaign=Content&amp;sf47820891=1</td><td>TR</td><td>Cellular</td><td>Mobile Safari</td><td>200693</td><td>1062</td><td>58</td><td>6</td><td>8763</td></tr><tr><th>&vellip;</th><td>&vellip;</td><td>&vellip;</td><td>&vellip;</td><td>&vellip;</td><td>&vellip;</td><td>&vellip;</td><td>&vellip;</td><td>&vellip;</td><td>&vellip;</td><td>&vellip;</td></tr></table>"
      ],
      "text/plain": [
       "58466x10 DataFrames.DataFrame\n",
       "│ Row   │ page_group     │\n",
       "┝━━━━━━━┿━━━━━━━━━━━━━━━━┥\n",
       "│ 1     │ \"News Article\" │\n",
       "│ 2     │ \"News Article\" │\n",
       "│ 3     │ \"News Article\" │\n",
       "│ 4     │ \"News Article\" │\n",
       "│ 5     │ \"News Article\" │\n",
       "│ 6     │ \"News Article\" │\n",
       "│ 7     │ \"News Article\" │\n",
       "│ 8     │ \"News Article\" │\n",
       "│ 9     │ \"News Article\" │\n",
       "│ 10    │ \"News Article\" │\n",
       "│ 11    │ \"News Article\" │\n",
       "⋮\n",
       "│ 58455 │ \"News Article\" │\n",
       "│ 58456 │ \"News Article\" │\n",
       "│ 58457 │ \"News Article\" │\n",
       "│ 58458 │ \"News Article\" │\n",
       "│ 58459 │ \"News Article\" │\n",
       "│ 58460 │ \"News Article\" │\n",
       "│ 58461 │ \"News Article\" │\n",
       "│ 58462 │ \"News Article\" │\n",
       "│ 58463 │ \"News Article\" │\n",
       "│ 58464 │ \"News Article\" │\n",
       "│ 58465 │ \"News Article\" │\n",
       "│ 58466 │ \"News Article\" │\n",
       "\n",
       "│ Row   │ params_u                                                                                                                                                                                                            │\n",
       "┝━━━━━━━┿━━━━━━━━━━━━━━━━━━━━━━━━━━━━━━━━━━━━━━━━━━━━━━━━━━━━━━━━━━━━━━━━━━━━━━━━━━━━━━━━━━━━━━━━━━━━━━━━━━━━━━━━━━━━━━━━━━━━━━━━━━━━━━━━━━━━━━━━━━━━━━━━━━━━━━━━━━━━━━━━━━━━━━━━━━━━━━━━━━━━━━━━━━━━━━━━━━━━━━━━━━━━━━━━━━━━━┥\n",
       "│ 1     │ \"http://news.nationalgeographic.com/2016/12/wildlife-watch-taiz-zoo-animals-starving-leopard-war/?utm_source=Facebook&utm_medium=Social&utm_content=link_fb20161221news-yemenzoo&utm_campaign=Content&sf47775853=1\" │\n",
       "│ 2     │ \"http://news.nationalgeographic.com/2016/12/wildlife-watch-taiz-zoo-animals-starving-leopard-war/\"                                                                                                                  │\n",
       "│ 3     │ \"http://news.nationalgeographic.com/2016/12/wildlife-watch-taiz-zoo-animals-starving-leopard-war/?utm_source=Facebook&utm_medium=Social&utm_content=link_fb20161221news-yemenzoo&utm_campaign=Content&sf47775853=1\" │\n",
       "│ 4     │ \"http://news.nationalgeographic.com/2016/12/uncontacted-tribe-amazon-brazil-photos/?utm_source=Facebook&utm_medium=Social&utm_content=link_fb20161221news-uncontactedtribe&utm_campaign=Content&sf47820891=1\"       │\n",
       "│ 5     │ \"http://news.nationalgeographic.com/2016/12/uncontacted-tribe-amazon-brazil-photos/?utm_source=Facebook&utm_medium=Social&utm_content=link_fb20161221news-uncontactedtribe&utm_campaign=Content&sf47820891=1\"       │\n",
       "│ 6     │ \"http://news.nationalgeographic.com/2016/12/uncontacted-tribe-amazon-brazil-photos/?utm_source=Facebook&utm_medium=Social&utm_content=link_fb20161221news-uncontactedtribe&utm_campaign=Content&sf47820891=1\"       │\n",
       "│ 7     │ \"http://news.nationalgeographic.com/2016/12/uncontacted-tribe-amazon-brazil-photos/?utm_source=Facebook&utm_medium=Social&utm_content=link_fb20161221news-uncontactedtribe&utm_campaign=Content&sf47820891=1\"       │\n",
       "│ 8     │ \"http://news.nationalgeographic.com/2016/12/uncontacted-tribe-amazon-brazil-photos/?utm_source=Facebook&utm_medium=Social&utm_content=link_fb20161221news-uncontactedtribe&utm_campaign=Content&sf47820891=1\"       │\n",
       "│ 9     │ \"http://news.nationalgeographic.com/2016/07/animals-oldest-sponges-whales-fish/?utm_source=Facebook&utm_medium=Social&utm_content=link_fbp20161221news-waqoldest&utm_campaign=Content&sf47782561=1\"                 │\n",
       "│ 10    │ \"http://news.nationalgeographic.com/2016/12/uncontacted-tribe-amazon-brazil-photos/?utm_source=Facebook&utm_medium=Social&utm_content=link_fb20161221news-uncontactedtribe&utm_campaign=Content&sf47820891=1\"       │\n",
       "│ 11    │ \"http://news.nationalgeographic.com/2016/12/uncontacted-tribe-amazon-brazil-photos/?utm_source=Facebook&utm_medium=Social&utm_content=link_fb20161221news-uncontactedtribe&utm_campaign=Content&sf47820891=1\"       │\n",
       "⋮\n",
       "│ 58455 │ \"http://news.nationalgeographic.com/2016/12/uncontacted-tribe-amazon-brazil-photos/?utm_source=Facebook&utm_medium=Social&utm_content=link_fb20161221news-uncontactedtribe&utm_campaign=Content&sf47820891=1\"       │\n",
       "│ 58456 │ \"http://news.nationalgeographic.com/2016/07/animals-oldest-sponges-whales-fish/?utm_source=Facebook&utm_medium=Social&utm_content=link_fbp20161221news-waqoldest&utm_campaign=Content&sf47782561=1\"                 │\n",
       "│ 58457 │ \"http://news.nationalgeographic.com/2016/12/uncontacted-tribe-amazon-brazil-photos/?utm_source=Facebook&utm_medium=Social&utm_content=link_fb20161221news-uncontactedtribe&utm_campaign=Content&sf47820891=1\"       │\n",
       "│ 58458 │ \"http://news.nationalgeographic.com/2016/12/uncontacted-tribe-amazon-brazil-photos/?utm_source=Facebook&utm_medium=Social&utm_content=link_fb20161221news-uncontactedtribe&utm_campaign=Content&sf47820891=1\"       │\n",
       "│ 58459 │ \"http://news.nationalgeographic.com/2016/12/uncontacted-tribe-amazon-brazil-photos/?utm_source=Facebook&utm_medium=Social&utm_content=link_fb20161221news-uncontactedtribe&utm_campaign=Content&sf47820891=1\"       │\n",
       "│ 58460 │ \"http://news.nationalgeographic.com/2016/12/uncontacted-tribe-amazon-brazil-photos/?utm_source=Facebook&utm_medium=Social&utm_content=link_fb20161221news-uncontactedtribe&utm_campaign=Content&sf47820891=1\"       │\n",
       "│ 58461 │ \"http://news.nationalgeographic.com/2016/12/uncontacted-tribe-amazon-brazil-photos/?utm_source=Facebook&utm_medium=Social&utm_content=link_fb20161221news-uncontactedtribe&utm_campaign=Content&sf47820891=1\"       │\n",
       "│ 58462 │ \"http://news.nationalgeographic.com/2016/12/uncontacted-tribe-amazon-brazil-photos/?utm_source=Facebook&utm_medium=Social&utm_content=link_fb20161221news-uncontactedtribe&utm_campaign=Content&sf47820891=1\"       │\n",
       "│ 58463 │ \"http://news.nationalgeographic.com/2016/12/uncontacted-tribe-amazon-brazil-photos/?utm_source=Facebook&utm_medium=Social&utm_content=link_fb20161221news-uncontactedtribe&utm_campaign=Content&sf47820891=1\"       │\n",
       "│ 58464 │ \"http://news.nationalgeographic.com/2016/12/uncontacted-tribe-amazon-brazil-photos/?utm_source=Facebook&utm_medium=Social&utm_content=link_fb20161221news-uncontactedtribe&utm_campaign=Content&sf47820891=1\"       │\n",
       "│ 58465 │ \"http://news.nationalgeographic.com/2016/12/uncontacted-tribe-amazon-brazil-photos/?utm_source=Facebook&utm_medium=Social&utm_content=link_fb20161221news-uncontactedtribe&utm_campaign=Content&sf47820891=1\"       │\n",
       "│ 58466 │ \"http://news.nationalgeographic.com/2016/12/uncontacted-tribe-amazon-brazil-photos/?utm_source=Facebook&utm_medium=Social&utm_content=link_fb20161221news-uncontactedtribe&utm_campaign=Content&sf47820891=1\"       │\n",
       "\n",
       "│ Row   │ geo_cc │ geo_netspeed │ user_agent_family │ params_dom_sz │\n",
       "┝━━━━━━━┿━━━━━━━━┿━━━━━━━━━━━━━━┿━━━━━━━━━━━━━━━━━━━┿━━━━━━━━━━━━━━━┥\n",
       "│ 1     │ NA     │ NA           │ \"Facebook\"        │ 181810        │\n",
       "│ 2     │ \"FI\"   │ \"Cable/DSL\"  │ \"Facebook\"        │ 181431        │\n",
       "│ 3     │ NA     │ NA           │ \"Facebook\"        │ 181506        │\n",
       "│ 4     │ \"SI\"   │ NA           │ \"Facebook\"        │ 199742        │\n",
       "│ 5     │ \"AE\"   │ NA           │ \"Facebook\"        │ 198394        │\n",
       "│ 6     │ \"GB\"   │ \"Cable/DSL\"  │ \"Facebook\"        │ 198499        │\n",
       "│ 7     │ \"JO\"   │ NA           │ \"Facebook\"        │ 200149        │\n",
       "│ 8     │ \"DE\"   │ \"Cable/DSL\"  │ \"Facebook\"        │ 197775        │\n",
       "│ 9     │ \"MU\"   │ NA           │ \"Facebook\"        │ 198518        │\n",
       "│ 10    │ \"NL\"   │ \"Cable/DSL\"  │ \"Facebook\"        │ 200201        │\n",
       "│ 11    │ \"AE\"   │ NA           │ \"Facebook\"        │ 215428        │\n",
       "⋮\n",
       "│ 58455 │ \"US\"   │ \"Cable/DSL\"  │ \"Facebook\"        │ 180079        │\n",
       "│ 58456 │ \"US\"   │ \"Cellular\"   │ \"Chrome Mobile\"   │ 197699        │\n",
       "│ 58457 │ \"MX\"   │ \"Cable/DSL\"  │ \"Facebook\"        │ 198622        │\n",
       "│ 58458 │ \"US\"   │ \"Cable/DSL\"  │ \"Facebook\"        │ 198714        │\n",
       "│ 58459 │ \"US\"   │ \"Cable/DSL\"  │ \"Facebook\"        │ 198779        │\n",
       "│ 58460 │ \"US\"   │ \"Cable/DSL\"  │ \"Facebook\"        │ 206198        │\n",
       "│ 58461 │ \"PH\"   │ \"Cable/DSL\"  │ \"Facebook\"        │ 212823        │\n",
       "│ 58462 │ \"US\"   │ \"Cable/DSL\"  │ \"Facebook\"        │ 198488        │\n",
       "│ 58463 │ \"US\"   │ NA           │ \"Facebook\"        │ 199516        │\n",
       "│ 58464 │ \"US\"   │ \"Cable/DSL\"  │ \"Facebook\"        │ 203466        │\n",
       "│ 58465 │ \"MX\"   │ \"Cable/DSL\"  │ \"Facebook\"        │ 195298        │\n",
       "│ 58466 │ \"CA\"   │ \"Cellular\"   │ \"Facebook\"        │ 205262        │\n",
       "\n",
       "│ Row   │ params_dom_ln │ params_dom_script │ params_dom_img │ timers_t_done │\n",
       "┝━━━━━━━┿━━━━━━━━━━━━━━━┿━━━━━━━━━━━━━━━━━━━┿━━━━━━━━━━━━━━━━┿━━━━━━━━━━━━━━━┥\n",
       "│ 1     │ 879           │ 61                │ 4              │ 3952          │\n",
       "│ 2     │ 881           │ 61                │ 4              │ 7957          │\n",
       "│ 3     │ 877           │ 61                │ 4              │ 2193          │\n",
       "│ 4     │ 1061          │ 58                │ 6              │ 6797          │\n",
       "│ 5     │ 1056          │ 57                │ 6              │ 9283          │\n",
       "│ 6     │ 1055          │ 58                │ 6              │ 13155         │\n",
       "│ 7     │ 1062          │ 58                │ 6              │ 29919         │\n",
       "│ 8     │ 1055          │ 57                │ 6              │ 15279         │\n",
       "│ 9     │ 1076          │ 60                │ 7              │ 29707         │\n",
       "│ 10    │ 1062          │ 58                │ 6              │ 21347         │\n",
       "│ 11    │ 1095          │ 57                │ 12             │ 18409         │\n",
       "⋮\n",
       "│ 58455 │ 1015          │ 56                │ 6              │ 7486          │\n",
       "│ 58456 │ 1074          │ 62                │ 7              │ 11674         │\n",
       "│ 58457 │ 1057          │ 58                │ 6              │ 15343         │\n",
       "│ 58458 │ 1060          │ 57                │ 6              │ 2475          │\n",
       "│ 58459 │ 1061          │ 58                │ 6              │ 3101          │\n",
       "│ 58460 │ 1072          │ 59                │ 8              │ 26125         │\n",
       "│ 58461 │ 1094          │ 61                │ 11             │ 110091        │\n",
       "│ 58462 │ 1059          │ 58                │ 6              │ 2276          │\n",
       "│ 58463 │ 1059          │ 57                │ 6              │ 13089         │\n",
       "│ 58464 │ 1059          │ 60                │ 6              │ 7284          │\n",
       "│ 58465 │ 1044          │ 56                │ 6              │ 21747         │\n",
       "│ 58466 │ 1076          │ 62                │ 6              │ 10469         │"
      ]
     },
     "execution_count": 8,
     "metadata": {},
     "output_type": "execute_result"
    }
   ],
   "source": [
    "# drop some of the fields to make the output easier to read\n",
    "\n",
    "#delete!(retailer_results,[:geo_rg,:geo_city,:geo_org,:user_agent_major,:user_agent_osversion,:user_agent_os,:user_agent_model,:referrer])\n",
    "delete!(retailer_results,[:geo_rg,:geo_city,:geo_org,:user_agent_major,:user_agent_osversion,:user_agent_os,:user_agent_model])"
   ]
  },
  {
   "cell_type": "code",
   "execution_count": 9,
   "metadata": {
    "collapsed": false,
    "input_collapsed": false,
    "scrolled": false
   },
   "outputs": [
    {
     "data": {
      "text/html": [
       "<h2 class=\"chart_info\">Attempting to cluster beacons</h2>\n",
       "<p class=\"chart_info\">Got 58466 beacons, looking at timers_t_done</p>\n"
      ]
     },
     "metadata": {},
     "output_type": "display_data"
    },
    {
     "data": {
      "text/html": [
       "<h3 class=\"chart_info\">Data split first pass</h3>\n"
      ]
     },
     "metadata": {},
     "output_type": "display_data"
    },
    {
     "data": {
      "text/html": [
       "\t<p class=\"chart_info\" id=\"progress-0.6366210239345458\">Attempting to split data into its component dimensions... <span></span></p>\n",
       "\t<script>\n",
       "\twindow[\"progress-0.6366210239345458\"] = function(text, id) {\n",
       "\t\tvar p = document.getElementById(\"progress-0.6366210239345458\");\n",
       "\t\tif(p) {\n",
       "\t\t\tp = p.getElementsByTagName(\"span\")[0];\n",
       "\t\t\tp.innerText = text;\n",
       "\t\t}\n",
       "\n",
       "\t\tif(id) {\n",
       "\t\t\tvar addedNode = document.getElementById(id);\n",
       "\t\t\tif(addedNode) {\n",
       "\t\t\t\tvar output_area = addedNode.parentNode.parentNode;\n",
       "\t\t\t\tif(output_area) {\n",
       "\t\t\t\t\toutput_area.style.display=\"none\";\n",
       "\t\t\t\t}\n",
       "\t\t\t}\n",
       "\t\t}\n",
       "\t}\n"
      ]
     },
     "metadata": {},
     "output_type": "display_data"
    },
    {
     "data": {
      "text/html": [
       "<script id=\"progress-script-0.662727145897186\">window[\"progress-0.6366210239345458\"](\"3\", \"progress-script-0.662727145897186\");</script>"
      ]
     },
     "metadata": {},
     "output_type": "display_data"
    },
    {
     "data": {
      "text/html": [
       "<script id=\"progress-script-0.5514623840215616\">window[\"progress-0.6366210239345458\"](\"9\", \"progress-script-0.5514623840215616\");</script>"
      ]
     },
     "metadata": {},
     "output_type": "display_data"
    },
    {
     "data": {
      "text/html": [
       "<script id=\"progress-script-0.4658014052041426\">window[\"progress-0.6366210239345458\"](\"13\", \"progress-script-0.4658014052041426\");</script>"
      ]
     },
     "metadata": {},
     "output_type": "display_data"
    },
    {
     "data": {
      "text/html": [
       "<script id=\"progress-script-0.04813758486020414\">window[\"progress-0.6366210239345458\"](\"19\", \"progress-script-0.04813758486020414\");</script>"
      ]
     },
     "metadata": {},
     "output_type": "display_data"
    },
    {
     "data": {
      "text/html": [
       "<script id=\"progress-script-0.5554866970016208\">window[\"progress-0.6366210239345458\"](\"23\", \"progress-script-0.5554866970016208\");</script>"
      ]
     },
     "metadata": {},
     "output_type": "display_data"
    },
    {
     "data": {
      "text/html": [
       "<script id=\"progress-script-0.07915617191545987\">window[\"progress-0.6366210239345458\"](\"24 ✓\", \"progress-script-0.07915617191545987\");</script>"
      ]
     },
     "metadata": {},
     "output_type": "display_data"
    },
    {
     "data": {
      "text/html": [
       "<p class=\"chart_info\">Got 3 dimensions with 24 values.</p>\n",
       "<h4 class=\"chart_title\">Primary histogram:</h4>\n"
      ]
     },
     "metadata": {},
     "output_type": "display_data"
    },
    {
     "data": {
      "text/html": [
       "<iframe id=\"histogram-viz-0.9106311828476112\" width=\"100%\" height=\"350\" scrolling=\"no\" src=\"about:blank\"></iframe>\n",
       "<script id=\"histogram-viz-primary-0.9106311828476112\">\n",
       "(function() {\n",
       "\tvar iframe = document.getElementById(\"histogram-viz-0.9106311828476112\");\n",
       "\n",
       "\tiframe.loaded = function(runner) {\n",
       "\t\tiframe.runner = runner;\n",
       "\t\tiframe.runner([632,5682,5970,6489,5258,4298,3656,2934,2630,2355,2095,1835,1512,1393,1181,1109,958,809,737,642,542,464,398,409,320,4157], [534,2306,4077,5849,7621,9393,11164,12936,14708,16479,18251,20023,21795,23566,25338,27110,28882,30653,32425,34197,35968,37740,39512,41284,43055,44827,598171], 11572);\n",
       "\t}\n",
       "\n",
       "\tiframe.src = \"/static/components/clustering/histogram.html#id=histogram-viz-0.9106311828476112\";\n",
       "}());\n",
       "</script>\n",
       "\t"
      ]
     },
     "metadata": {},
     "output_type": "display_data"
    },
    {
     "data": {
      "text/html": [
       "<h3 class=\"chart_title\">Dimension Co-Occurrence</h3>\n",
       "<p class=\"chart_info\">Building dimension tree...</p>\n"
      ]
     },
     "metadata": {},
     "output_type": "display_data"
    },
    {
     "data": {
      "text/html": [
       "<p class=\"chart_info\">Built tree with 45 nodes.</p>\n"
      ]
     },
     "metadata": {},
     "output_type": "display_data"
    },
    {
     "data": {
      "text/html": [
       "\t<p class=\"chart_info\" id=\"progress-0.020179983147307068\">Calculating dimension co-occurrence... <span></span></p>\n",
       "\t<script>\n",
       "\twindow[\"progress-0.020179983147307068\"] = function(text, id) {\n",
       "\t\tvar p = document.getElementById(\"progress-0.020179983147307068\");\n",
       "\t\tif(p) {\n",
       "\t\t\tp = p.getElementsByTagName(\"span\")[0];\n",
       "\t\t\tp.innerText = text;\n",
       "\t\t}\n",
       "\n",
       "\t\tif(id) {\n",
       "\t\t\tvar addedNode = document.getElementById(id);\n",
       "\t\t\tif(addedNode) {\n",
       "\t\t\t\tvar output_area = addedNode.parentNode.parentNode;\n",
       "\t\t\t\tif(output_area) {\n",
       "\t\t\t\t\toutput_area.style.display=\"none\";\n",
       "\t\t\t\t}\n",
       "\t\t\t}\n",
       "\t\t}\n",
       "\t}\n"
      ]
     },
     "metadata": {},
     "output_type": "display_data"
    },
    {
     "data": {
      "text/html": [
       "<iframe id=\"dimension-viz-0.22809887222342762\" width=\"100%\" scrolling=\"no\" src=\"about:blank\"></iframe><script id=\"dimension-viz-primary-0.22809887222342762\" style=\"display:none;\">\n",
       "(function() {\n",
       "\tvar iframe = document.getElementById(\"dimension-viz-0.22809887222342762\"), container;\n",
       "\tif(!iframe) {\n",
       "\t\tiframe = document.createElement(\"iframe\");\n",
       "\t\tiframe.id=\"dimension-viz-0.22809887222342762\";\n",
       "\t\tiframe.width=(window.innerHeight * 1.2);\n",
       "\t\tiframe.scrolling=\"no\";\n",
       "\t\tiframe.src=\"about:blank\";\n",
       "\t\tiframe.style.float=\"left\";\n",
       "\t\tiframe.style.border=\"solid 1px #1a1a1a\";\n",
       "\t\tiframe.style.borderRadius=\"50px\";\n",
       "\t\tiframe.style.padding=\"0 30px\";\n",
       "\t\tiframe.style.margin=\"0 60px 0 0\";\n",
       "\n",
       "\t\tif(\"\" === \"\") {\n",
       "\t\t\tcontainer = document.getElementById(\"dimension-viz-primary-0.22809887222342762\").parentNode;\n",
       "\t\t}\n",
       "\t\telse {\n",
       "\t\t\tcontainer = document.getElementById(\"\");\n",
       "\t\t\tcontainer.parentNode.style.height = container.offsetHeight + \"px\";\n",
       "\t\t}\n",
       "\n",
       "\t\tcontainer.appendChild(iframe);\n",
       "\t\tcontainer.style.width  = [].filter.call(container.childNodes, function(n) { return n.nodeName === \"IFRAME\"; }).map(function(n) { return (n.offsetWidth||n.width) + 60; }).reduce(function(p, n) { return p+n; }, 0) + \"px\";\n",
       "\t\tcontainer.style.height = Math.max(container.offsetHeight, window.innerHeight + 80) + \"px\";\n",
       "\t}\n",
       "\tiframe.height = window.innerHeight - 80;\n",
       "\tiframe.style.height = iframe.height + \"px\";\n",
       "\tiframe.style.width = (iframe.height*1.2) + \"px\";\n",
       "\n",
       "\tiframe.data = iframe.data || {};\n",
       "\tiframe.data.nodes = [{\"key\":\"user_agent_family\",\"name\":\"user_agent_family\",\"parent\":\"\",\"index\":0,\"children\":[\"Puffin\",\"Mobile Safari UIWebView\",\"Mobile Safari\",\"Safari\",\"IE\",\"Chrome\",\"Facebook\",\"Firefox\",\"Chrome Mobile\",\"user_agent_major\"]},{\"key\":\"referrer\",\"name\":\"referrer\",\"parent\":\"\",\"index\":0,\"children\":[]},{\"key\":\"Puffin\",\"name\":\"Puffin\",\"median\":1174,\"histogram\":[14,0,0,0,0,0,1,0,0,0,0,0,0,0,0,0,0,0,0,0,0,0,0,0,0,0],\"count\":16,\"parent\":\"user_agent_family\",\"index\":13,\"children\":[]},{\"key\":\"Cable/DSL\",\"name\":\"Cable/DSL\",\"median\":10540,\"histogram\":[483,4236,4099,4377,3382,2748,2284,1792,1599,1419,1245,1074,840,813,655,602,519,474,402,359,302,243,223,242,178,2296],\"count\":36886,\"parent\":\"geo_netspeed\",\"index\":22,\"children\":[]},{\"key\":\"Firefox\",\"name\":\"Firefox\",\"median\":13932,\"histogram\":[24,109,117,96,89,88,71,69,51,49,48,43,32,31,30,29,20,19,14,21,14,9,8,14,8,153],\"count\":1256,\"parent\":\"user_agent_family\",\"index\":20,\"children\":[]},{\"key\":\"user_agent_device_type\",\"name\":\"user_agent_device_type\",\"parent\":\"\",\"index\":0,\"children\":[]},{\"key\":\"TR\",\"name\":\"TR\",\"median\":16731,\"histogram\":[1,3,20,26,37,27,25,19,22,22,13,26,18,9,16,15,12,8,4,6,1,8,2,11,3,11],\"count\":365,\"parent\":\"geo_cc\",\"index\":7,\"children\":[]},{\"key\":\"AU\",\"name\":\"AU\",\"median\":13950,\"histogram\":[19,53,143,124,233,225,245,196,145,124,113,80,67,54,56,48,41,44,50,27,25,25,19,15,14,147],\"count\":2332,\"parent\":\"geo_cc\",\"index\":6,\"children\":[]},{\"key\":\"imgs_10\",\"name\":\"imgs_10\",\"parent\":\"\",\"index\":0,\"children\":[]},{\"key\":\"GB\",\"name\":\"GB\",\"median\":10624,\"histogram\":[2,103,80,122,79,71,65,40,40,35,25,27,20,25,18,17,16,11,8,4,4,4,8,5,7,32],\"count\":868,\"parent\":\"geo_cc\",\"index\":4,\"children\":[]},{\"key\":\"Safari\",\"name\":\"Safari\",\"median\":6978,\"histogram\":[29,201,181,112,89,53,43,34,24,24,16,13,12,9,5,5,9,5,7,2,6,1,3,7,3,71],\"count\":964,\"parent\":\"user_agent_family\",\"index\":16,\"children\":[]},{\"key\":\"Mobile Safari\",\"name\":\"Mobile Safari\",\"median\":6911,\"histogram\":[115,643,714,573,415,286,204,121,109,77,68,35,28,20,19,20,27,14,16,12,7,11,7,4,5,156],\"count\":3706,\"parent\":\"user_agent_family\",\"index\":15,\"children\":[]},{\"key\":\"Cellular\",\"name\":\"Cellular\",\"median\":12724,\"histogram\":[44,730,1021,1201,1061,833,690,591,504,497,423,352,326,263,255,235,208,160,171,121,120,100,85,82,64,859],\"count\":10996,\"parent\":\"geo_netspeed\",\"index\":24,\"children\":[]},{\"key\":\"PH\",\"name\":\"PH\",\"median\":25752,\"histogram\":[2,24,42,76,116,128,138,139,128,139,110,108,107,91,87,85,77,67,66,68,51,53,52,49,35,697],\"count\":2735,\"parent\":\"geo_cc\",\"index\":12,\"children\":[]},{\"key\":\"Corporate\",\"name\":\"Corporate\",\"median\":10584,\"histogram\":[36,219,220,224,179,150,131,79,95,73,57,51,48,36,26,42,26,19,16,19,12,13,12,13,10,144],\"count\":1950,\"parent\":\"geo_netspeed\",\"index\":23,\"children\":[]},{\"key\":\"US\",\"name\":\"US\",\"median\":8828,\"histogram\":[490,4370,4139,4496,3223,2408,1922,1432,1258,1069,916,759,574,536,419,376,333,290,246,206,172,135,133,122,112,1433],\"count\":31570,\"parent\":\"geo_cc\",\"index\":2,\"children\":[]},{\"key\":\"geo_org\",\"name\":\"geo_org\",\"parent\":\"\",\"index\":0,\"children\":[]},{\"key\":\"geo_netspeed\",\"name\":\"geo_netspeed\",\"parent\":\"\",\"index\":0,\"children\":[\"Cable/DSL\",\"Corporate\",\"Cellular\",\"Dialup\"]},{\"key\":\"geo_rg\",\"name\":\"geo_rg\",\"parent\":\"geo_cc\",\"index\":0,\"children\":[\"geo_city\"]},{\"key\":\"Facebook\",\"name\":\"Facebook\",\"median\":12229,\"histogram\":[286,3447,3370,4312,3406,2793,2429,1973,1743,1585,1443,1276,1053,981,836,769,675,586,528,454,383,344,267,292,244,2709],\"count\":38184,\"parent\":\"user_agent_family\",\"index\":19,\"children\":[]},{\"key\":\"nodes_1000\",\"name\":\"nodes_1000\",\"parent\":\"\",\"index\":0,\"children\":[]},{\"key\":\"geo_cc\",\"name\":\"geo_cc\",\"parent\":\"\",\"index\":0,\"children\":[\"US\",\"CA\",\"GB\",\"SG\",\"AU\",\"TR\",\"MX\",\"MY\",\"IN\",\"ZA\",\"PH\",\"geo_rg\"]},{\"key\":\"IE\",\"name\":\"IE\",\"median\":8275,\"histogram\":[16,52,68,49,28,25,21,16,15,8,11,8,9,3,2,5,5,3,4,5,2,1,1,1,3,32],\"count\":393,\"parent\":\"user_agent_family\",\"index\":17,\"children\":[]},{\"key\":\"ab_test\",\"name\":\"ab_test\",\"parent\":\"\",\"index\":0,\"children\":[]},{\"key\":\"Dialup\",\"name\":\"Dialup\",\"median\":14560,\"histogram\":[5,91,103,142,121,124,102,87,78,70,64,64,57,50,36,49,29,22,28,25,14,23,9,13,14,119],\"count\":1539,\"parent\":\"geo_netspeed\",\"index\":25,\"children\":[]},{\"key\":\"user_agent_os\",\"name\":\"user_agent_os\",\"parent\":\"\",\"index\":0,\"children\":[\"user_agent_osversion\"]},{\"key\":\"ZA\",\"name\":\"ZA\",\"median\":24608,\"histogram\":[0,0,3,6,11,23,28,45,50,52,45,31,23,35,19,31,26,22,26,21,16,16,14,14,14,96],\"count\":667,\"parent\":\"geo_cc\",\"index\":11,\"children\":[]},{\"key\":\"user_agent_model\",\"name\":\"user_agent_model\",\"parent\":\"\",\"index\":0,\"children\":[]},{\"key\":\"Chrome Mobile\",\"name\":\"Chrome Mobile\",\"median\":17902,\"histogram\":[1,9,88,267,358,376,338,316,320,284,266,215,205,179,157,155,122,84,87,79,77,39,53,43,26,465],\"count\":4609,\"parent\":\"user_agent_family\",\"index\":21,\"children\":[]},{\"key\":\"page_index\",\"name\":\"page_index\",\"parent\":\"\",\"index\":0,\"children\":[]},{\"key\":\"page_group\",\"name\":\"page_group\",\"parent\":\"\",\"index\":0,\"children\":[]},{\"key\":\"user_agent_major\",\"name\":\"user_agent_major\",\"parent\":\"user_agent_family\",\"index\":0,\"children\":[]},{\"key\":\"MX\",\"name\":\"MX\",\"median\":16766,\"histogram\":[4,30,47,65,83,74,50,55,48,36,35,37,38,32,32,19,21,14,24,14,16,14,14,12,6,109],\"count\":929,\"parent\":\"geo_cc\",\"index\":8,\"children\":[]},{\"key\":\"scripts_10\",\"name\":\"scripts_10\",\"parent\":\"\",\"index\":0,\"children\":[]},{\"key\":\"CA\",\"name\":\"CA\",\"median\":9478,\"histogram\":[61,558,574,602,417,357,261,192,178,164,169,141,106,92,68,66,53,37,39,25,23,16,23,14,12,210],\"count\":4458,\"parent\":\"geo_cc\",\"index\":3,\"children\":[]},{\"key\":\"geo_city\",\"name\":\"geo_city\",\"parent\":\"geo_rg\",\"index\":0,\"children\":[]},{\"key\":\"IN\",\"name\":\"IN\",\"median\":23178,\"histogram\":[0,25,48,47,73,72,74,92,94,88,89,63,86,76,52,73,66,51,42,44,55,29,27,22,26,249],\"count\":1663,\"parent\":\"geo_cc\",\"index\":10,\"children\":[]},{\"key\":\"tcp_windows\",\"name\":\"tcp_windows\",\"parent\":\"\",\"index\":0,\"children\":[]},{\"key\":\"navigation_type\",\"name\":\"navigation_type\",\"parent\":\"\",\"index\":0,\"children\":[]},{\"key\":\"SG\",\"name\":\"SG\",\"median\":12047,\"histogram\":[5,70,121,98,84,62,71,46,27,34,36,37,31,29,17,23,25,14,17,14,13,8,8,6,6,53],\"count\":955,\"parent\":\"geo_cc\",\"index\":5,\"children\":[]},{\"key\":\"user_agent_osversion\",\"name\":\"user_agent_osversion\",\"parent\":\"user_agent_os\",\"index\":0,\"children\":[]},{\"key\":\"Chrome\",\"name\":\"Chrome\",\"median\":9425,\"histogram\":[103,812,958,685,613,484,400,298,277,245,166,157,109,107,87,82,62,74,50,47,37,42,41,35,22,366],\"count\":6359,\"parent\":\"user_agent_family\",\"index\":18,\"children\":[]},{\"key\":\"Mobile Safari UIWebView\",\"name\":\"Mobile Safari UIWebView\",\"median\":6242,\"histogram\":[40,305,340,270,136,109,79,42,24,27,14,18,16,9,8,8,9,4,2,0,2,1,1,4,4,54],\"count\":1526,\"parent\":\"user_agent_family\",\"index\":14,\"children\":[]},{\"key\":\"MY\",\"name\":\"MY\",\"median\":19700,\"histogram\":[1,33,50,45,64,63,50,49,49,47,55,40,27,46,26,32,24,19,24,30,20,17,10,15,17,136],\"count\":989,\"parent\":\"geo_cc\",\"index\":9,\"children\":[]},{\"name\":\"\",\"index\":0,\"children\":[\"page_group\",\"page_index\",\"navigation_type\",\"tcp_windows\",\"nodes_1000\",\"scripts_10\",\"imgs_10\",\"geo_cc\",\"referrer\",\"user_agent_family\",\"user_agent_os\",\"user_agent_model\",\"user_agent_device_type\",\"geo_org\",\"geo_netspeed\",\"ab_test\"]}];\n",
       "\tiframe.data.thresholds = [534,2306,4077,5849,7621,9393,11164,12936,14708,16479,18251,20023,21795,23566,25338,27110,28882,30653,32425,34197,35968,37740,39512,41284,43055,44827,598171];\n",
       "\tiframe.data.links = iframe.data.links || [];\n",
       "\n",
       "\tiframe.loaded = function(runner, startAndInitAnimation) {\n",
       "\t\tiframe.runner = runner;\n",
       "\t\tiframe.startAndInitAnimation = startAndInitAnimation;\n",
       "\t\tiframe.runner(iframe.data);\n",
       "\t};\n",
       "\n",
       "\tiframe.src = \"/static/components/clustering/edge_bundling.html#id=dimension-viz-0.22809887222342762\";\n",
       "}());\n",
       "</script>\n",
       "\t"
      ]
     },
     "metadata": {},
     "output_type": "display_data"
    },
    {
     "data": {
      "text/html": [
       "<script id=\"progress-script-0.12474074497550958\">window[\"progress-0.020179983147307068\"](\"121\", \"progress-script-0.12474074497550958\");</script>"
      ]
     },
     "metadata": {},
     "output_type": "display_data"
    },
    {
     "data": {
      "text/html": [
       "<script id=\"dimension-viz-update-0.22809887222342762-0.7018200108462498\">\n",
       "(function() {\n",
       "\tvar iframe = document.getElementById(\"dimension-viz-0.22809887222342762\");\n",
       "\n",
       "\tif(iframe) {\n",
       "\t\tiframe.data.minWeight = 2;\n",
       "\t\tiframe.data.maxWeight = 23267;\n",
       "\n",
       "\t\tvar links = [{\"intensity\":14667,\"tgtdim\":\"geo_cc\",\"weight\":1699,\"histogram\":[2,21,68,63,162,174,193,167,108,94,85,67,53,39,49,34,30,35,42,20,19,20,14,13,13,114],\"targetuniqueness\":6,\"source\":19,\"sourceuniqueness\":74,\"target\":6,\"srcdim\":\"user_agent_family\"},{\"intensity\":9939,\"tgtdim\":\"geo_cc\",\"weight\":2876,\"histogram\":[33,310,319,433,265,244,176,122,117,112,121,96,79,69,46,44,32,27,23,16,15,14,16,9,6,132],\"targetuniqueness\":9,\"source\":19,\"sourceuniqueness\":66,\"target\":3,\"srcdim\":\"user_agent_family\"},{\"intensity\":10242,\"tgtdim\":\"geo_cc\",\"weight\":632,\"histogram\":[1,66,59,92,67,57,51,28,30,22,21,18,12,15,13,9,13,8,8,3,4,1,4,1,6,23],\"targetuniqueness\":2,\"source\":19,\"sourceuniqueness\":75,\"target\":4,\"srcdim\":\"user_agent_family\"},{\"intensity\":25309,\"tgtdim\":\"geo_cc\",\"weight\":1109,\"histogram\":[0,2,11,22,32,35,45,50,68,60,64,47,58,61,37,57,56,40,33,33,43,25,20,19,24,167],\"targetuniqueness\":4,\"source\":19,\"sourceuniqueness\":69,\"target\":10,\"srcdim\":\"user_agent_family\"},{\"intensity\":17771,\"tgtdim\":\"geo_cc\",\"weight\":695,\"histogram\":[4,20,30,49,58,56,34,41,34,25,30,31,36,23,29,13,18,13,21,10,14,12,12,10,4,68],\"targetuniqueness\":2,\"source\":19,\"sourceuniqueness\":77,\"target\":8,\"srcdim\":\"user_agent_family\"},{\"intensity\":21341,\"tgtdim\":\"geo_cc\",\"weight\":734,\"histogram\":[1,14,22,23,42,43,39,37,46,34,45,33,20,38,20,27,18,18,21,26,17,13,7,10,17,103],\"targetuniqueness\":2,\"source\":19,\"sourceuniqueness\":76,\"target\":9,\"srcdim\":\"user_agent_family\"},{\"intensity\":28046,\"tgtdim\":\"geo_cc\",\"weight\":1892,\"histogram\":[0,4,12,23,57,76,84,99,87,96,81,76,83,68,70,64,60,46,54,57,41,37,39,37,25,516],\"targetuniqueness\":6,\"source\":19,\"sourceuniqueness\":70,\"target\":12,\"srcdim\":\"user_agent_family\"},{\"intensity\":12522,\"tgtdim\":\"geo_cc\",\"weight\":728,\"histogram\":[2,39,91,77,66,45,55,36,20,27,30,27,22,21,12,21,21,14,17,14,13,6,5,5,5,37],\"targetuniqueness\":2,\"source\":19,\"sourceuniqueness\":77,\"target\":5,\"srcdim\":\"user_agent_family\"},{\"intensity\":17384,\"tgtdim\":\"geo_cc\",\"weight\":299,\"histogram\":[1,1,14,19,31,19,23,16,17,19,10,21,16,7,15,13,11,7,3,5,1,7,2,10,3,8],\"targetuniqueness\":1,\"source\":19,\"sourceuniqueness\":84,\"target\":7,\"srcdim\":\"user_agent_family\"},{\"intensity\":8728,\"tgtdim\":\"geo_cc\",\"weight\":19481,\"histogram\":[220,2738,2367,3039,2050,1495,1209,884,762,651,554,474,357,326,263,216,190,175,150,117,102,84,76,79,81,822],\"targetuniqueness\":63,\"source\":19,\"sourceuniqueness\":63,\"target\":2,\"srcdim\":\"user_agent_family\"},{\"intensity\":24128,\"tgtdim\":\"geo_cc\",\"weight\":572,\"histogram\":[0,0,3,5,10,20,24,42,46,47,38,25,17,27,12,23,19,19,24,20,14,13,13,14,12,85],\"targetuniqueness\":2,\"source\":19,\"sourceuniqueness\":88,\"target\":11,\"srcdim\":\"user_agent_family\"},{\"intensity\":9275,\"tgtdim\":\"geo_cc\",\"weight\":27,\"histogram\":[0,0,6,7,1,3,4,2,0,1,0,0,0,0,0,0,0,0,0,0,0,0,0,1,0,2],\"targetuniqueness\":9,\"source\":17,\"sourceuniqueness\":1,\"target\":6,\"srcdim\":\"user_agent_family\"},{\"intensity\":7531,\"tgtdim\":\"geo_cc\",\"weight\":47,\"histogram\":[1,6,14,3,2,5,3,2,4,0,0,1,1,0,0,2,0,0,0,1,0,0,0,0,0,2],\"targetuniqueness\":15,\"source\":17,\"sourceuniqueness\":1,\"target\":3,\"srcdim\":\"user_agent_family\"},{\"intensity\":35881,\"tgtdim\":\"geo_cc\",\"weight\":3,\"histogram\":[0,0,0,0,1,0,0,0,0,0,0,0,0,0,0,0,0,0,0,1,0,0,0,0,0,1],\"targetuniqueness\":1,\"source\":17,\"sourceuniqueness\":0,\"target\":4,\"srcdim\":\"user_agent_family\"},{\"intensity\":22024,\"tgtdim\":\"geo_cc\",\"weight\":6,\"histogram\":[0,0,0,1,0,0,0,1,1,0,0,0,0,0,0,1,0,0,0,1,1,0,0,0,0,0],\"targetuniqueness\":2,\"source\":17,\"sourceuniqueness\":0,\"target\":10,\"srcdim\":\"user_agent_family\"},{\"intensity\":19065,\"tgtdim\":\"geo_cc\",\"weight\":3,\"histogram\":[0,0,0,0,0,0,0,1,0,0,1,0,0,0,0,0,0,0,0,0,0,0,0,0,0,1],\"targetuniqueness\":1,\"source\":17,\"sourceuniqueness\":0,\"target\":9,\"srcdim\":\"user_agent_family\"},{\"intensity\":20104,\"tgtdim\":\"geo_cc\",\"weight\":8,\"histogram\":[0,0,0,2,0,0,0,1,0,1,0,0,1,0,0,0,0,0,1,0,0,0,0,0,0,2],\"targetuniqueness\":3,\"source\":17,\"sourceuniqueness\":0,\"target\":12,\"srcdim\":\"user_agent_family\"},{\"intensity\":16796,\"tgtdim\":\"geo_cc\",\"weight\":6,\"histogram\":[0,1,1,0,0,0,0,0,1,1,0,0,0,0,0,0,0,0,0,0,0,0,0,0,1,1],\"targetuniqueness\":2,\"source\":17,\"sourceuniqueness\":1,\"target\":5,\"srcdim\":\"user_agent_family\"},{\"intensity\":6649,\"tgtdim\":\"geo_cc\",\"weight\":3,\"histogram\":[0,1,0,1,0,1,0,0,0,0,0,0,0,0,0,0,0,0,0,0,0,0,0,0,0,0],\"targetuniqueness\":1,\"source\":17,\"sourceuniqueness\":1,\"target\":7,\"srcdim\":\"user_agent_family\"},{\"intensity\":7600,\"tgtdim\":\"geo_cc\",\"weight\":211,\"histogram\":[11,32,38,25,16,11,11,6,7,2,7,6,6,2,0,2,3,3,1,2,0,0,1,0,1,18],\"targetuniqueness\":67,\"source\":17,\"sourceuniqueness\":1,\"target\":2,\"srcdim\":\"user_agent_family\"},{\"intensity\":11574,\"tgtdim\":\"geo_cc\",\"weight\":8,\"histogram\":[0,0,1,0,0,3,3,0,0,0,0,0,0,0,0,0,0,1,0,0,0,0,0,0,0,0],\"targetuniqueness\":1,\"source\":14,\"sourceuniqueness\":0,\"target\":6,\"srcdim\":\"user_agent_family\"},{\"intensity\":6218,\"tgtdim\":\"geo_cc\",\"weight\":82,\"histogram\":[2,18,15,14,5,7,4,3,1,5,1,0,0,0,1,1,1,0,0,0,0,0,0,0,0,4],\"targetuniqueness\":6,\"source\":14,\"sourceuniqueness\":2,\"target\":3,\"srcdim\":\"user_agent_family\"},{\"intensity\":3010,\"tgtdim\":\"geo_cc\",\"weight\":7,\"histogram\":[0,5,0,2,0,0,0,0,0,0,0,0,0,0,0,0,0,0,0,0,0,0,0,0,0,0],\"targetuniqueness\":0,\"source\":14,\"sourceuniqueness\":1,\"target\":4,\"srcdim\":\"user_agent_family\"},{\"intensity\":15420,\"tgtdim\":\"geo_cc\",\"weight\":7,\"histogram\":[0,0,0,0,0,0,1,2,1,1,0,0,1,0,0,0,0,1,0,0,0,0,0,0,0,0],\"targetuniqueness\":0,\"source\":14,\"sourceuniqueness\":0,\"target\":10,\"srcdim\":\"user_agent_family\"},{\"intensity\":11755,\"tgtdim\":\"geo_cc\",\"weight\":3,\"histogram\":[0,0,0,0,0,1,1,0,0,0,0,0,0,0,0,0,0,0,0,0,0,0,0,0,0,1],\"targetuniqueness\":0,\"source\":14,\"sourceuniqueness\":0,\"target\":8,\"srcdim\":\"user_agent_family\"},{\"intensity\":103311,\"tgtdim\":\"geo_cc\",\"weight\":2,\"histogram\":[0,0,0,0,0,0,0,0,0,0,0,0,0,0,0,0,0,0,0,0,0,0,0,0,1,1],\"targetuniqueness\":0,\"source\":14,\"sourceuniqueness\":0,\"target\":12,\"srcdim\":\"user_agent_family\"},{\"intensity\":10864,\"tgtdim\":\"geo_cc\",\"weight\":3,\"histogram\":[0,0,1,0,0,1,1,0,0,0,0,0,0,0,0,0,0,0,0,0,0,0,0,0,0,0],\"targetuniqueness\":0,\"source\":14,\"sourceuniqueness\":0,\"target\":5,\"srcdim\":\"user_agent_family\"},{\"intensity\":6074,\"tgtdim\":\"geo_cc\",\"weight\":1357,\"histogram\":[38,278,318,247,124,89,62,36,19,19,13,16,13,8,7,5,8,2,2,0,2,1,0,4,3,43],\"targetuniqueness\":92,\"source\":14,\"sourceuniqueness\":4,\"target\":2,\"srcdim\":\"user_agent_family\"},{\"intensity\":27462,\"tgtdim\":\"geo_cc\",\"weight\":3,\"histogram\":[0,0,0,0,0,1,0,0,0,0,0,0,0,0,0,1,0,0,0,0,0,0,1,0,0,0],\"targetuniqueness\":0,\"source\":14,\"sourceuniqueness\":0,\"target\":11,\"srcdim\":\"user_agent_family\"},{\"intensity\":13556,\"tgtdim\":\"geo_cc\",\"weight\":36,\"histogram\":[0,0,5,7,2,1,2,2,1,4,3,2,0,2,0,0,1,0,1,0,0,0,0,0,0,3],\"targetuniqueness\":4,\"source\":16,\"sourceuniqueness\":2,\"target\":6,\"srcdim\":\"user_agent_family\"},{\"intensity\":5446,\"tgtdim\":\"geo_cc\",\"weight\":110,\"histogram\":[2,27,30,15,10,5,5,0,1,2,3,1,2,0,0,1,0,0,0,0,0,0,0,0,0,6],\"targetuniqueness\":13,\"source\":16,\"sourceuniqueness\":3,\"target\":3,\"srcdim\":\"user_agent_family\"},{\"intensity\":3934,\"tgtdim\":\"geo_cc\",\"weight\":10,\"histogram\":[0,5,2,0,0,0,0,0,1,1,0,0,0,0,0,0,0,0,0,0,0,0,0,0,0,1],\"targetuniqueness\":1,\"source\":16,\"sourceuniqueness\":1,\"target\":4,\"srcdim\":\"user_agent_family\"},{\"intensity\":17040,\"tgtdim\":\"geo_cc\",\"weight\":8,\"histogram\":[0,0,2,0,0,0,0,0,1,3,0,0,0,0,0,0,0,0,0,0,0,0,0,0,0,2],\"targetuniqueness\":1,\"source\":16,\"sourceuniqueness\":0,\"target\":10,\"srcdim\":\"user_agent_family\"},{\"intensity\":15243,\"tgtdim\":\"geo_cc\",\"weight\":8,\"histogram\":[0,0,1,0,0,1,0,2,1,0,0,0,0,0,0,0,0,0,0,0,0,0,0,0,0,3],\"targetuniqueness\":1,\"source\":16,\"sourceuniqueness\":1,\"target\":8,\"srcdim\":\"user_agent_family\"},{\"intensity\":23050,\"tgtdim\":\"geo_cc\",\"weight\":4,\"histogram\":[0,0,0,1,0,0,0,0,0,0,0,0,1,1,0,0,0,0,0,0,0,0,0,0,0,1],\"targetuniqueness\":0,\"source\":16,\"sourceuniqueness\":0,\"target\":9,\"srcdim\":\"user_agent_family\"},{\"intensity\":17758,\"tgtdim\":\"geo_cc\",\"weight\":7,\"histogram\":[0,0,0,1,1,0,0,1,0,1,0,0,0,0,0,0,0,1,0,0,0,0,1,0,0,1],\"targetuniqueness\":1,\"source\":16,\"sourceuniqueness\":0,\"target\":12,\"srcdim\":\"user_agent_family\"},{\"intensity\":9724,\"tgtdim\":\"geo_cc\",\"weight\":16,\"histogram\":[0,4,1,1,1,2,1,0,0,1,0,0,0,0,0,0,0,0,0,0,0,0,0,0,0,5],\"targetuniqueness\":2,\"source\":16,\"sourceuniqueness\":2,\"target\":5,\"srcdim\":\"user_agent_family\"},{\"intensity\":6166,\"tgtdim\":\"geo_cc\",\"weight\":637,\"histogram\":[25,147,128,73,59,36,28,23,15,9,5,6,5,4,4,3,7,3,5,2,5,1,2,7,2,33],\"targetuniqueness\":76,\"source\":16,\"sourceuniqueness\":2,\"target\":2,\"srcdim\":\"user_agent_family\"},{\"intensity\":8488,\"tgtdim\":\"geo_cc\",\"weight\":281,\"histogram\":[17,29,40,32,46,21,21,10,11,11,9,4,4,2,1,6,2,1,1,2,1,2,3,0,0,5],\"targetuniqueness\":6,\"source\":18,\"sourceuniqueness\":12,\"target\":6,\"srcdim\":\"user_agent_family\"},{\"intensity\":6379,\"tgtdim\":\"geo_cc\",\"weight\":532,\"histogram\":[14,125,109,63,55,27,30,18,15,7,6,11,6,6,6,4,3,6,3,2,2,0,0,1,2,11],\"targetuniqueness\":11,\"source\":18,\"sourceuniqueness\":12,\"target\":3,\"srcdim\":\"user_agent_family\"},{\"intensity\":6945,\"tgtdim\":\"geo_cc\",\"weight\":76,\"histogram\":[1,20,6,15,5,6,4,2,4,1,0,3,0,3,0,0,0,1,0,0,0,1,2,1,0,1],\"targetuniqueness\":2,\"source\":18,\"sourceuniqueness\":9,\"target\":4,\"srcdim\":\"user_agent_family\"},{\"intensity\":12462,\"tgtdim\":\"geo_cc\",\"weight\":276,\"histogram\":[0,17,30,17,31,29,18,19,14,12,8,7,13,5,6,4,1,4,3,4,4,1,2,1,0,26],\"targetuniqueness\":6,\"source\":18,\"sourceuniqueness\":17,\"target\":10,\"srcdim\":\"user_agent_family\"},{\"intensity\":13089,\"tgtdim\":\"geo_cc\",\"weight\":111,\"histogram\":[0,7,7,12,13,9,7,7,7,7,4,2,1,2,3,4,1,0,2,2,2,0,0,0,1,11],\"targetuniqueness\":2,\"source\":18,\"sourceuniqueness\":12,\"target\":8,\"srcdim\":\"user_agent_family\"},{\"intensity\":9814,\"tgtdim\":\"geo_cc\",\"weight\":158,\"histogram\":[0,16,25,17,17,16,6,9,2,9,6,3,0,2,4,1,3,1,0,1,2,2,2,0,0,14],\"targetuniqueness\":3,\"source\":18,\"sourceuniqueness\":16,\"target\":9,\"srcdim\":\"user_agent_family\"},{\"intensity\":16367,\"tgtdim\":\"geo_cc\",\"weight\":584,\"histogram\":[2,20,28,44,48,43,49,29,32,32,18,23,15,16,15,13,9,18,10,6,6,11,7,8,4,78],\"targetuniqueness\":12,\"source\":18,\"sourceuniqueness\":22,\"target\":12,\"srcdim\":\"user_agent_family\"},{\"intensity\":7754,\"tgtdim\":\"geo_cc\",\"weight\":115,\"histogram\":[3,22,19,12,12,7,9,4,2,3,1,3,3,3,2,2,2,0,0,0,0,2,1,0,0,3],\"targetuniqueness\":2,\"source\":18,\"sourceuniqueness\":12,\"target\":5,\"srcdim\":\"user_agent_family\"},{\"intensity\":9862,\"tgtdim\":\"geo_cc\",\"weight\":22,\"histogram\":[0,1,4,2,3,4,0,2,3,1,0,0,1,0,0,0,0,0,0,0,0,0,0,0,0,1],\"targetuniqueness\":0,\"source\":18,\"sourceuniqueness\":6,\"target\":7,\"srcdim\":\"user_agent_family\"},{\"intensity\":7965,\"tgtdim\":\"geo_cc\",\"weight\":2657,\"histogram\":[57,451,469,296,234,197,146,107,97,96,67,51,41,46,21,25,27,26,15,16,13,14,17,7,8,113],\"targetuniqueness\":55,\"source\":18,\"sourceuniqueness\":9,\"target\":2,\"srcdim\":\"user_agent_family\"},{\"intensity\":20246,\"tgtdim\":\"geo_cc\",\"weight\":20,\"histogram\":[0,0,0,1,1,1,1,2,1,1,2,3,0,1,0,0,0,0,1,0,0,0,0,0,1,4],\"targetuniqueness\":0,\"source\":18,\"sourceuniqueness\":3,\"target\":11,\"srcdim\":\"user_agent_family\"},{\"intensity\":11930,\"tgtdim\":\"geo_cc\",\"weight\":95,\"histogram\":[0,1,8,8,11,13,13,5,9,8,2,1,0,0,0,2,2,2,2,0,0,1,0,0,0,7],\"targetuniqueness\":3,\"source\":15,\"sourceuniqueness\":4,\"target\":6,\"srcdim\":\"user_agent_family\"},{\"intensity\":8354,\"tgtdim\":\"geo_cc\",\"weight\":269,\"histogram\":[4,30,48,35,39,30,8,9,7,7,9,4,2,3,2,2,2,2,2,1,1,0,0,0,1,21],\"targetuniqueness\":8,\"source\":15,\"sourceuniqueness\":6,\"target\":3,\"srcdim\":\"user_agent_family\"},{\"intensity\":6250,\"tgtdim\":\"geo_cc\",\"weight\":32,\"histogram\":[0,7,6,7,0,0,2,2,2,1,1,1,1,0,0,1,0,0,0,0,0,0,0,0,0,1],\"targetuniqueness\":1,\"source\":15,\"sourceuniqueness\":4,\"target\":4,\"srcdim\":\"user_agent_family\"},{\"intensity\":16022,\"tgtdim\":\"geo_cc\",\"weight\":31,\"histogram\":[0,1,0,2,3,0,5,4,2,3,2,1,0,0,0,0,0,0,0,1,0,0,0,0,1,6],\"targetuniqueness\":1,\"source\":15,\"sourceuniqueness\":2,\"target\":10,\"srcdim\":\"user_agent_family\"},{\"intensity\":11958,\"tgtdim\":\"geo_cc\",\"weight\":27,\"histogram\":[0,0,4,1,5,2,4,1,2,2,0,0,0,0,0,0,0,0,1,1,0,0,0,0,0,4],\"targetuniqueness\":1,\"source\":15,\"sourceuniqueness\":3,\"target\":8,\"srcdim\":\"user_agent_family\"},{\"intensity\":15687,\"tgtdim\":\"geo_cc\",\"weight\":16,\"histogram\":[0,1,1,1,1,1,2,1,0,0,1,0,3,0,0,0,2,0,0,0,0,0,0,1,0,1],\"targetuniqueness\":0,\"source\":15,\"sourceuniqueness\":2,\"target\":9,\"srcdim\":\"user_agent_family\"},{\"intensity\":16941,\"tgtdim\":\"geo_cc\",\"weight\":25,\"histogram\":[0,0,0,1,2,3,1,2,3,1,3,2,0,0,1,0,1,0,0,0,0,0,0,0,1,4],\"targetuniqueness\":1,\"source\":15,\"sourceuniqueness\":1,\"target\":12,\"srcdim\":\"user_agent_family\"},{\"intensity\":7333,\"tgtdim\":\"geo_cc\",\"weight\":21,\"histogram\":[0,4,5,4,0,3,2,1,0,0,1,0,0,1,0,0,0,0,0,0,0,0,0,0,0,0],\"targetuniqueness\":1,\"source\":15,\"sourceuniqueness\":2,\"target\":5,\"srcdim\":\"user_agent_family\"},{\"intensity\":8763,\"tgtdim\":\"geo_cc\",\"weight\":9,\"histogram\":[0,0,1,3,1,2,1,0,0,0,0,0,0,0,0,0,1,0,0,0,0,0,0,0,0,0],\"targetuniqueness\":0,\"source\":15,\"sourceuniqueness\":3,\"target\":7,\"srcdim\":\"user_agent_family\"},{\"intensity\":6239,\"tgtdim\":\"geo_cc\",\"weight\":2883,\"histogram\":[110,587,614,467,318,192,136,74,69,44,40,23,15,15,15,12,15,9,9,9,6,8,6,1,2,87],\"targetuniqueness\":84,\"source\":15,\"sourceuniqueness\":9,\"target\":2,\"srcdim\":\"user_agent_family\"},{\"intensity\":19889,\"tgtdim\":\"geo_cc\",\"weight\":13,\"histogram\":[0,0,0,0,0,0,2,0,2,2,1,0,2,1,0,1,1,1,0,0,0,0,0,0,0,0],\"targetuniqueness\":0,\"source\":15,\"sourceuniqueness\":2,\"target\":11,\"srcdim\":\"user_agent_family\"},{\"intensity\":1174,\"tgtdim\":\"geo_cc\",\"weight\":16,\"histogram\":[14,0,0,0,0,0,1,0,0,0,0,0,0,0,0,0,0,0,0,0,0,0,0,0,0,0],\"targetuniqueness\":100,\"source\":13,\"sourceuniqueness\":0,\"target\":2,\"srcdim\":\"user_agent_family\"},{\"intensity\":14430,\"tgtdim\":\"geo_cc\",\"weight\":45,\"histogram\":[0,2,8,1,5,2,3,2,6,3,3,1,2,0,0,1,0,1,0,2,1,0,0,0,0,2],\"targetuniqueness\":5,\"source\":20,\"sourceuniqueness\":2,\"target\":6,\"srcdim\":\"user_agent_family\"},{\"intensity\":8484,\"tgtdim\":\"geo_cc\",\"weight\":122,\"histogram\":[4,21,17,14,9,11,7,6,0,5,6,2,3,0,2,2,5,0,0,0,0,0,0,1,0,7],\"targetuniqueness\":13,\"source\":20,\"sourceuniqueness\":3,\"target\":3,\"srcdim\":\"user_agent_family\"},{\"intensity\":10744,\"tgtdim\":\"geo_cc\",\"weight\":13,\"histogram\":[0,0,3,3,0,1,1,0,0,1,0,1,0,0,1,1,0,0,0,0,0,1,0,0,0,0],\"targetuniqueness\":1,\"source\":20,\"sourceuniqueness\":2,\"target\":4,\"srcdim\":\"user_agent_family\"},{\"intensity\":15655,\"tgtdim\":\"geo_cc\",\"weight\":57,\"histogram\":[0,5,4,4,3,4,2,4,3,1,3,0,2,1,2,0,1,0,1,2,0,0,0,0,1,14],\"targetuniqueness\":6,\"source\":20,\"sourceuniqueness\":4,\"target\":10,\"srcdim\":\"user_agent_family\"},{\"intensity\":9977,\"tgtdim\":\"geo_cc\",\"weight\":19,\"histogram\":[0,1,4,1,3,2,0,1,0,0,1,0,0,1,0,0,1,0,0,1,0,0,0,1,0,2],\"targetuniqueness\":2,\"source\":20,\"sourceuniqueness\":2,\"target\":8,\"srcdim\":\"user_agent_family\"},{\"intensity\":16588,\"tgtdim\":\"geo_cc\",\"weight\":19,\"histogram\":[0,2,2,1,2,1,1,0,0,1,0,1,0,2,1,0,0,0,0,1,0,0,0,0,0,4],\"targetuniqueness\":2,\"source\":20,\"sourceuniqueness\":2,\"target\":9,\"srcdim\":\"user_agent_family\"},{\"intensity\":21467,\"tgtdim\":\"geo_cc\",\"weight\":65,\"histogram\":[0,0,2,4,4,3,2,3,5,4,2,4,2,3,0,1,0,0,0,0,1,0,3,3,1,18],\"targetuniqueness\":7,\"source\":20,\"sourceuniqueness\":2,\"target\":12,\"srcdim\":\"user_agent_family\"},{\"intensity\":19900,\"tgtdim\":\"geo_cc\",\"weight\":13,\"histogram\":[0,0,1,0,3,1,1,0,0,0,1,0,2,0,0,0,0,0,0,0,0,0,1,0,0,3],\"targetuniqueness\":1,\"source\":20,\"sourceuniqueness\":1,\"target\":5,\"srcdim\":\"user_agent_family\"},{\"intensity\":13996,\"tgtdim\":\"geo_cc\",\"weight\":2,\"histogram\":[0,0,0,1,0,0,0,0,0,0,0,1,0,0,0,0,0,0,0,0,0,0,0,0,0,0],\"targetuniqueness\":0,\"source\":20,\"sourceuniqueness\":1,\"target\":7,\"srcdim\":\"user_agent_family\"},{\"intensity\":12878,\"tgtdim\":\"geo_cc\",\"weight\":549,\"histogram\":[11,59,52,44,43,36,31,32,26,18,21,22,13,16,8,14,6,13,8,7,2,4,4,3,3,53],\"targetuniqueness\":60,\"source\":20,\"sourceuniqueness\":2,\"target\":2,\"srcdim\":\"user_agent_family\"},{\"intensity\":25514,\"tgtdim\":\"geo_cc\",\"weight\":4,\"histogram\":[0,0,0,0,0,0,0,0,0,1,0,0,0,1,0,1,0,0,0,0,1,0,0,0,0,0],\"targetuniqueness\":0,\"source\":20,\"sourceuniqueness\":1,\"target\":11,\"srcdim\":\"user_agent_family\"},{\"intensity\":23230,\"tgtdim\":\"geo_cc\",\"weight\":114,\"histogram\":[0,0,3,4,1,4,5,8,8,3,10,5,7,9,5,5,6,3,3,3,4,2,2,1,1,12],\"targetuniqueness\":3,\"source\":21,\"sourceuniqueness\":5,\"target\":6,\"srcdim\":\"user_agent_family\"},{\"intensity\":16158,\"tgtdim\":\"geo_cc\",\"weight\":295,\"histogram\":[0,0,10,15,23,25,24,25,30,22,15,16,11,8,10,9,7,2,7,3,4,0,3,3,3,20],\"targetuniqueness\":7,\"source\":21,\"sourceuniqueness\":7,\"target\":3,\"srcdim\":\"user_agent_family\"},{\"intensity\":18378,\"tgtdim\":\"geo_cc\",\"weight\":70,\"histogram\":[0,0,2,2,6,5,5,6,3,6,2,3,4,5,3,3,3,2,0,0,0,1,2,1,1,5],\"targetuniqueness\":2,\"source\":21,\"sourceuniqueness\":8,\"target\":4,\"srcdim\":\"user_agent_family\"},{\"intensity\":28586,\"tgtdim\":\"geo_cc\",\"weight\":117,\"histogram\":[0,0,0,0,1,3,1,6,2,4,8,5,11,5,5,10,8,5,4,3,7,1,4,1,0,23],\"targetuniqueness\":3,\"source\":21,\"sourceuniqueness\":7,\"target\":10,\"srcdim\":\"user_agent_family\"},{\"intensity\":28686,\"tgtdim\":\"geo_cc\",\"weight\":40,\"histogram\":[0,0,0,0,1,3,2,1,3,0,0,3,1,5,0,1,1,1,0,0,0,2,1,0,1,14],\"targetuniqueness\":1,\"source\":21,\"sourceuniqueness\":4,\"target\":8,\"srcdim\":\"user_agent_family\"},{\"intensity\":31400,\"tgtdim\":\"geo_cc\",\"weight\":36,\"histogram\":[0,0,0,2,1,2,1,1,0,2,2,1,1,2,0,2,1,0,1,1,1,1,1,3,0,10],\"targetuniqueness\":1,\"source\":21,\"sourceuniqueness\":4,\"target\":9,\"srcdim\":\"user_agent_family\"},{\"intensity\":50029,\"tgtdim\":\"geo_cc\",\"weight\":111,\"histogram\":[0,0,0,0,2,2,1,3,0,3,2,2,2,1,1,6,6,2,1,4,3,3,1,1,3,62],\"targetuniqueness\":3,\"source\":21,\"sourceuniqueness\":4,\"target\":12,\"srcdim\":\"user_agent_family\"},{\"intensity\":20480,\"tgtdim\":\"geo_cc\",\"weight\":49,\"histogram\":[0,0,1,4,2,2,2,5,3,2,3,7,4,4,2,0,2,0,0,0,0,0,1,1,0,4],\"targetuniqueness\":1,\"source\":21,\"sourceuniqueness\":5,\"target\":5,\"srcdim\":\"user_agent_family\"},{\"intensity\":21410,\"tgtdim\":\"geo_cc\",\"weight\":22,\"histogram\":[0,0,0,0,0,0,1,1,1,2,3,4,1,2,0,1,0,1,1,1,0,1,0,1,0,1],\"targetuniqueness\":1,\"source\":21,\"sourceuniqueness\":6,\"target\":7,\"srcdim\":\"user_agent_family\"},{\"intensity\":15442,\"tgtdim\":\"geo_cc\",\"weight\":3046,\"histogram\":[1,8,65,235,308,307,264,235,232,203,180,132,102,98,83,83,61,48,45,48,32,18,24,20,8,206],\"targetuniqueness\":77,\"source\":21,\"sourceuniqueness\":10,\"target\":2,\"srcdim\":\"user_agent_family\"},{\"intensity\":28390,\"tgtdim\":\"geo_cc\",\"weight\":36,\"histogram\":[0,0,0,0,0,0,0,0,0,1,3,2,1,3,5,5,3,1,1,1,1,3,0,0,1,5],\"targetuniqueness\":1,\"source\":21,\"sourceuniqueness\":6,\"target\":11,\"srcdim\":\"user_agent_family\"},{\"intensity\":14371,\"tgtdim\":\"geo_cc\",\"weight\":128,\"histogram\":[0,3,8,4,12,17,8,13,3,10,12,6,1,5,3,2,0,1,3,1,2,3,0,1,1,9],\"targetuniqueness\":15,\"source\":25,\"sourceuniqueness\":6,\"target\":6,\"srcdim\":\"geo_netspeed\"},{\"intensity\":6770,\"tgtdim\":\"geo_cc\",\"weight\":44,\"histogram\":[0,11,4,10,4,2,4,2,1,0,0,2,2,0,0,0,0,0,1,0,0,0,0,0,0,1],\"targetuniqueness\":5,\"source\":25,\"sourceuniqueness\":1,\"target\":3,\"srcdim\":\"geo_netspeed\"},{\"intensity\":6374,\"tgtdim\":\"geo_cc\",\"weight\":9,\"histogram\":[0,2,2,2,1,0,0,1,1,0,0,0,0,0,0,0,0,0,0,0,0,0,0,0,0,0],\"targetuniqueness\":1,\"source\":25,\"sourceuniqueness\":1,\"target\":4,\"srcdim\":\"geo_netspeed\"},{\"intensity\":16762,\"tgtdim\":\"geo_cc\",\"weight\":44,\"histogram\":[0,1,2,4,6,2,1,2,3,4,4,0,2,1,0,2,1,2,1,0,0,1,0,0,0,5],\"targetuniqueness\":5,\"source\":25,\"sourceuniqueness\":4,\"target\":10,\"srcdim\":\"geo_netspeed\"},{\"intensity\":12130,\"tgtdim\":\"geo_cc\",\"weight\":101,\"histogram\":[0,7,7,10,14,8,7,3,6,2,3,4,3,3,2,2,1,0,2,2,2,1,0,1,1,10],\"targetuniqueness\":12,\"source\":25,\"sourceuniqueness\":12,\"target\":8,\"srcdim\":\"geo_netspeed\"},{\"intensity\":19491,\"tgtdim\":\"geo_cc\",\"weight\":97,\"histogram\":[1,5,10,7,5,10,3,1,2,2,4,4,2,3,2,6,3,1,3,4,1,3,1,0,2,12],\"targetuniqueness\":12,\"source\":25,\"sourceuniqueness\":11,\"target\":9,\"srcdim\":\"geo_netspeed\"},{\"intensity\":25332,\"tgtdim\":\"geo_cc\",\"weight\":41,\"histogram\":[0,0,3,1,4,2,2,1,2,0,0,3,1,2,0,3,0,0,2,1,0,1,1,1,1,10],\"targetuniqueness\":5,\"source\":25,\"sourceuniqueness\":2,\"target\":12,\"srcdim\":\"geo_netspeed\"},{\"intensity\":12724,\"tgtdim\":\"geo_cc\",\"weight\":14,\"histogram\":[0,2,2,2,0,1,0,0,1,2,1,0,0,0,1,0,0,0,0,0,0,1,0,0,0,1],\"targetuniqueness\":2,\"source\":25,\"sourceuniqueness\":2,\"target\":5,\"srcdim\":\"geo_netspeed\"},{\"intensity\":15574,\"tgtdim\":\"geo_cc\",\"weight\":20,\"histogram\":[0,0,1,2,2,1,2,2,0,2,1,1,0,1,1,1,0,0,1,0,0,0,0,1,1,0],\"targetuniqueness\":2,\"source\":25,\"sourceuniqueness\":7,\"target\":7,\"srcdim\":\"geo_netspeed\"},{\"intensity\":10541,\"tgtdim\":\"geo_cc\",\"weight\":337,\"histogram\":[4,45,31,49,22,24,21,12,16,10,13,13,11,13,3,9,8,2,4,4,2,1,1,0,2,17],\"targetuniqueness\":40,\"source\":25,\"sourceuniqueness\":1,\"target\":2,\"srcdim\":\"geo_netspeed\"},{\"intensity\":13878,\"tgtdim\":\"geo_cc\",\"weight\":1792,\"histogram\":[18,41,120,108,183,158,183,141,112,89,87,65,53,37,45,37,33,37,34,24,17,18,16,11,11,114],\"targetuniqueness\":6,\"source\":22,\"sourceuniqueness\":79,\"target\":6,\"srcdim\":\"geo_netspeed\"},{\"intensity\":9061,\"tgtdim\":\"geo_cc\",\"weight\":3223,\"histogram\":[45,421,438,443,315,256,190,138,129,122,118,101,81,70,42,51,36,24,19,16,13,13,14,7,7,114],\"targetuniqueness\":10,\"source\":22,\"sourceuniqueness\":90,\"target\":3,\"srcdim\":\"geo_netspeed\"},{\"intensity\":9862,\"tgtdim\":\"geo_cc\",\"weight\":590,\"histogram\":[2,77,56,90,55,52,52,25,26,21,15,18,12,16,8,13,5,6,4,3,2,3,3,4,3,19],\"targetuniqueness\":2,\"source\":22,\"sourceuniqueness\":80,\"target\":4,\"srcdim\":\"geo_netspeed\"},{\"intensity\":22508,\"tgtdim\":\"geo_cc\",\"weight\":405,\"histogram\":[0,9,16,17,26,26,20,16,17,12,14,20,23,13,8,16,10,12,10,17,10,7,6,8,8,64],\"targetuniqueness\":1,\"source\":22,\"sourceuniqueness\":34,\"target\":10,\"srcdim\":\"geo_netspeed\"},{\"intensity\":17552,\"tgtdim\":\"geo_cc\",\"weight\":640,\"histogram\":[3,20,32,36,50,51,31,39,37,30,29,26,24,22,23,12,16,10,17,10,11,13,13,10,3,72],\"targetuniqueness\":2,\"source\":22,\"sourceuniqueness\":78,\"target\":8,\"srcdim\":\"geo_netspeed\"},{\"intensity\":16971,\"tgtdim\":\"geo_cc\",\"weight\":607,\"histogram\":[0,26,31,35,53,46,35,35,34,30,36,21,12,25,11,17,12,12,13,13,13,4,5,9,10,69],\"targetuniqueness\":2,\"source\":22,\"sourceuniqueness\":66,\"target\":9,\"srcdim\":\"geo_netspeed\"},{\"intensity\":25896,\"tgtdim\":\"geo_cc\",\"weight\":2286,\"histogram\":[1,23,33,64,99,103,113,120,104,123,87,87,89,73,68,65,60,57,55,58,44,45,45,43,29,598],\"targetuniqueness\":7,\"source\":22,\"sourceuniqueness\":93,\"target\":12,\"srcdim\":\"geo_netspeed\"},{\"intensity\":11160,\"tgtdim\":\"geo_cc\",\"weight\":321,\"histogram\":[2,39,33,31,33,23,25,15,9,9,5,9,13,10,6,7,12,4,3,4,4,1,3,3,0,18],\"targetuniqueness\":1,\"source\":22,\"sourceuniqueness\":38,\"target\":5,\"srcdim\":\"geo_netspeed\"},{\"intensity\":17555,\"tgtdim\":\"geo_cc\",\"weight\":122,\"histogram\":[0,1,4,11,9,11,7,6,9,8,7,7,6,2,5,3,5,5,0,4,0,2,0,6,0,4],\"targetuniqueness\":0,\"source\":22,\"sourceuniqueness\":44,\"target\":7,\"srcdim\":\"geo_netspeed\"},{\"intensity\":8337,\"tgtdim\":\"geo_cc\",\"weight\":21529,\"histogram\":[378,3323,2927,3121,2137,1614,1276,948,833,704,619,496,344,361,269,228,213,198,162,136,113,87,86,77,71,808],\"targetuniqueness\":68,\"source\":22,\"sourceuniqueness\":71,\"target\":2,\"srcdim\":\"geo_netspeed\"},{\"intensity\":23130,\"tgtdim\":\"geo_cc\",\"weight\":180,\"histogram\":[0,0,2,4,3,10,7,14,13,9,11,11,9,6,5,10,9,6,2,4,4,2,5,5,7,22],\"targetuniqueness\":1,\"source\":22,\"sourceuniqueness\":39,\"target\":11,\"srcdim\":\"geo_netspeed\"},{\"intensity\":14458,\"tgtdim\":\"geo_cc\",\"weight\":326,\"histogram\":[1,2,7,6,32,40,41,37,22,21,11,7,12,12,8,6,6,5,12,2,5,4,3,3,2,19],\"targetuniqueness\":3,\"source\":24,\"sourceuniqueness\":14,\"target\":6,\"srcdim\":\"geo_netspeed\"},{\"intensity\":10283,\"tgtdim\":\"geo_cc\",\"weight\":314,\"histogram\":[4,30,30,48,26,33,15,13,11,14,13,16,6,5,7,5,5,6,3,1,4,1,1,2,0,15],\"targetuniqueness\":3,\"source\":24,\"sourceuniqueness\":9,\"target\":3,\"srcdim\":\"geo_netspeed\"},{\"intensity\":9495,\"tgtdim\":\"geo_cc\",\"weight\":132,\"histogram\":[0,13,16,19,17,10,4,7,5,8,5,1,3,4,7,0,4,1,1,0,1,0,2,0,2,2],\"targetuniqueness\":1,\"source\":24,\"sourceuniqueness\":18,\"target\":4,\"srcdim\":\"geo_netspeed\"},{\"intensity\":24677,\"tgtdim\":\"geo_cc\",\"weight\":742,\"histogram\":[0,2,12,9,15,23,29,44,45,51,48,31,41,38,25,41,38,22,19,16,31,13,11,10,10,118],\"targetuniqueness\":8,\"source\":24,\"sourceuniqueness\":62,\"target\":10,\"srcdim\":\"geo_netspeed\"},{\"intensity\":22310,\"tgtdim\":\"geo_cc\",\"weight\":75,\"histogram\":[0,1,4,10,6,3,1,2,3,2,1,2,7,3,4,2,1,2,4,2,0,0,0,0,0,15],\"targetuniqueness\":1,\"source\":24,\"sourceuniqueness\":9,\"target\":8,\"srcdim\":\"geo_netspeed\"},{\"intensity\":27096,\"tgtdim\":\"geo_cc\",\"weight\":217,\"histogram\":[0,0,3,0,4,6,10,11,11,12,11,11,9,13,8,8,9,6,6,10,6,6,4,4,4,45],\"targetuniqueness\":2,\"source\":24,\"sourceuniqueness\":24,\"target\":9,\"srcdim\":\"geo_netspeed\"},{\"intensity\":12696,\"tgtdim\":\"geo_cc\",\"weight\":508,\"histogram\":[1,17,66,56,46,34,39,29,15,14,27,22,16,17,8,15,9,9,13,10,6,3,5,3,5,23],\"targetuniqueness\":5,\"source\":24,\"sourceuniqueness\":59,\"target\":5,\"srcdim\":\"geo_netspeed\"},{\"intensity\":16215,\"tgtdim\":\"geo_cc\",\"weight\":138,\"histogram\":[0,0,7,11,16,11,12,4,9,8,3,11,7,3,7,6,5,3,2,2,0,2,0,3,2,4],\"targetuniqueness\":1,\"source\":24,\"sourceuniqueness\":49,\"target\":7,\"srcdim\":\"geo_netspeed\"},{\"intensity\":10079,\"tgtdim\":\"geo_cc\",\"weight\":6657,\"histogram\":[34,606,782,933,762,546,425,332,280,263,211,171,151,106,111,96,75,64,62,41,44,34,35,30,27,436],\"targetuniqueness\":71,\"source\":24,\"sourceuniqueness\":22,\"target\":2,\"srcdim\":\"geo_netspeed\"},{\"intensity\":25658,\"tgtdim\":\"geo_cc\",\"weight\":278,\"histogram\":[0,0,0,1,3,5,12,16,22,28,20,6,7,17,10,15,12,10,17,9,6,8,6,6,4,38],\"targetuniqueness\":3,\"source\":24,\"sourceuniqueness\":61,\"target\":11,\"srcdim\":\"geo_netspeed\"},{\"intensity\":8312,\"tgtdim\":\"geo_cc\",\"weight\":13,\"histogram\":[0,3,0,2,2,4,1,0,1,0,0,0,0,0,0,0,0,0,0,0,0,0,0,0,0,0],\"targetuniqueness\":1,\"source\":23,\"sourceuniqueness\":1,\"target\":6,\"srcdim\":\"geo_netspeed\"},{\"intensity\":11939,\"tgtdim\":\"geo_cc\",\"weight\":17,\"histogram\":[1,0,1,1,3,2,1,0,0,0,2,0,2,1,0,0,1,0,0,0,0,0,0,0,0,2],\"targetuniqueness\":1,\"source\":23,\"sourceuniqueness\":0,\"target\":3,\"srcdim\":\"geo_netspeed\"},{\"intensity\":6013,\"tgtdim\":\"geo_cc\",\"weight\":7,\"histogram\":[0,1,2,1,0,1,0,0,0,0,0,0,0,0,0,0,0,0,0,1,0,0,0,1,0,0],\"targetuniqueness\":0,\"source\":23,\"sourceuniqueness\":1,\"target\":4,\"srcdim\":\"geo_netspeed\"},{\"intensity\":12390,\"tgtdim\":\"geo_cc\",\"weight\":10,\"histogram\":[0,0,0,1,3,0,1,1,1,2,0,1,0,0,0,0,0,0,0,0,0,0,0,0,0,0],\"targetuniqueness\":1,\"source\":23,\"sourceuniqueness\":1,\"target\":10,\"srcdim\":\"geo_netspeed\"},{\"intensity\":23363,\"tgtdim\":\"geo_cc\",\"weight\":142,\"histogram\":[1,0,1,5,5,10,8,7,9,7,8,5,7,5,6,7,6,4,6,3,2,3,3,2,2,20],\"targetuniqueness\":8,\"source\":23,\"sourceuniqueness\":6,\"target\":12,\"srcdim\":\"geo_netspeed\"},{\"intensity\":17324,\"tgtdim\":\"geo_cc\",\"weight\":12,\"histogram\":[1,0,3,0,0,1,0,0,0,3,0,1,0,0,0,1,0,0,0,0,0,0,0,0,0,2],\"targetuniqueness\":1,\"source\":23,\"sourceuniqueness\":1,\"target\":5,\"srcdim\":\"geo_netspeed\"},{\"intensity\":9798,\"tgtdim\":\"geo_cc\",\"weight\":1624,\"histogram\":[32,210,193,192,153,123,110,70,79,56,42,39,37,26,19,31,18,15,9,15,10,10,8,10,7,110],\"targetuniqueness\":89,\"source\":23,\"sourceuniqueness\":5,\"target\":2,\"srcdim\":\"geo_netspeed\"},{\"intensity\":10631,\"tgtdim\":\"user_agent_family\",\"weight\":257,\"histogram\":[1,21,40,23,26,24,25,14,14,7,5,6,4,5,2,5,3,0,4,2,1,4,4,3,0,14],\"targetuniqueness\":18,\"source\":25,\"sourceuniqueness\":5,\"target\":18,\"srcdim\":\"geo_netspeed\"},{\"intensity\":22342,\"tgtdim\":\"user_agent_family\",\"weight\":88,\"histogram\":[0,0,1,4,4,8,2,7,5,4,6,1,5,4,1,7,2,3,6,1,3,2,0,0,2,10],\"targetuniqueness\":6,\"source\":25,\"sourceuniqueness\":2,\"target\":21,\"srcdim\":\"geo_netspeed\"},{\"intensity\":15247,\"tgtdim\":\"user_agent_family\",\"weight\":953,\"histogram\":[3,55,44,90,72,80,62,52,44,44,43,45,37,30,30,33,19,18,15,18,8,16,4,7,11,73],\"targetuniqueness\":66,\"source\":25,\"sourceuniqueness\":3,\"target\":19,\"srcdim\":\"geo_netspeed\"},{\"intensity\":14560,\"tgtdim\":\"user_agent_family\",\"weight\":47,\"histogram\":[0,3,2,7,3,4,1,5,3,5,0,1,2,2,1,0,0,0,0,2,1,0,0,2,0,3],\"targetuniqueness\":3,\"source\":25,\"sourceuniqueness\":5,\"target\":20,\"srcdim\":\"geo_netspeed\"},{\"intensity\":14534,\"tgtdim\":\"user_agent_family\",\"weight\":10,\"histogram\":[0,1,1,0,1,0,1,1,1,0,0,1,0,0,0,0,0,0,0,0,0,0,0,0,0,3],\"targetuniqueness\":1,\"source\":25,\"sourceuniqueness\":3,\"target\":17,\"srcdim\":\"geo_netspeed\"},{\"intensity\":9004,\"tgtdim\":\"user_agent_family\",\"weight\":46,\"histogram\":[0,5,8,4,9,3,6,2,1,0,1,1,2,0,0,0,1,0,0,0,0,0,0,0,0,3],\"targetuniqueness\":3,\"source\":25,\"sourceuniqueness\":1,\"target\":15,\"srcdim\":\"geo_netspeed\"},{\"intensity\":5985,\"tgtdim\":\"user_agent_family\",\"weight\":9,\"histogram\":[1,2,1,2,0,0,0,0,0,0,0,0,0,0,0,1,2,0,0,0,0,0,0,0,0,0],\"targetuniqueness\":1,\"source\":25,\"sourceuniqueness\":1,\"target\":14,\"srcdim\":\"geo_netspeed\"},{\"intensity\":9877,\"tgtdim\":\"user_agent_family\",\"weight\":32,\"histogram\":[0,3,1,9,1,4,2,1,0,2,3,0,1,3,0,0,0,0,1,0,0,0,0,0,0,1],\"targetuniqueness\":2,\"source\":25,\"sourceuniqueness\":4,\"target\":16,\"srcdim\":\"geo_netspeed\"},{\"intensity\":8765,\"tgtdim\":\"user_agent_family\",\"weight\":4582,\"histogram\":[86,652,726,524,442,340,266,209,189,178,112,101,67,73,48,53,37,54,30,31,30,27,30,20,14,243],\"targetuniqueness\":13,\"source\":22,\"sourceuniqueness\":85,\"target\":18,\"srcdim\":\"geo_netspeed\"},{\"intensity\":16990,\"tgtdim\":\"user_agent_family\",\"weight\":2739,\"histogram\":[0,7,65,187,226,229,208,196,198,164,166,130,118,100,84,78,75,51,41,41,41,21,25,26,16,246],\"targetuniqueness\":8,\"source\":22,\"sourceuniqueness\":65,\"target\":21,\"srcdim\":\"geo_netspeed\"},{\"intensity\":11185,\"tgtdim\":\"user_agent_family\",\"weight\":23267,\"histogram\":[223,2513,2190,2830,2111,1751,1505,1163,1025,922,825,729,564,567,469,407,348,327,288,253,202,171,144,164,132,1444],\"targetuniqueness\":64,\"source\":22,\"sourceuniqueness\":69,\"target\":19,\"srcdim\":\"geo_netspeed\"},{\"intensity\":13263,\"tgtdim\":\"user_agent_family\",\"weight\":893,\"histogram\":[21,83,86,72,67,61,48,50,40,35,40,31,24,21,15,17,11,16,11,11,10,6,6,11,3,97],\"targetuniqueness\":2,\"source\":22,\"sourceuniqueness\":87,\"target\":20,\"srcdim\":\"geo_netspeed\"},{\"intensity\":7889,\"tgtdim\":\"user_agent_family\",\"weight\":286,\"histogram\":[13,42,47,35,21,22,13,13,8,5,8,6,7,2,0,3,4,2,3,4,1,1,1,1,2,22],\"targetuniqueness\":1,\"source\":22,\"sourceuniqueness\":84,\"target\":17,\"srcdim\":\"geo_netspeed\"},{\"intensity\":6711,\"tgtdim\":\"user_agent_family\",\"weight\":2409,\"histogram\":[80,438,481,368,271,181,127,74,65,51,48,24,16,11,12,14,15,7,9,7,2,6,6,4,5,87],\"targetuniqueness\":7,\"source\":22,\"sourceuniqueness\":71,\"target\":15,\"srcdim\":\"geo_netspeed\"},{\"intensity\":6042,\"tgtdim\":\"user_agent_family\",\"weight\":1126,\"histogram\":[30,248,257,200,103,76,54,28,15,17,8,10,9,8,5,6,6,3,1,0,2,1,1,3,2,33],\"targetuniqueness\":3,\"source\":22,\"sourceuniqueness\":79,\"target\":14,\"srcdim\":\"geo_netspeed\"},{\"intensity\":6372,\"tgtdim\":\"user_agent_family\",\"weight\":802,\"histogram\":[27,175,162,96,77,41,31,26,20,17,8,10,10,5,4,3,8,5,5,2,6,1,2,6,3,52],\"targetuniqueness\":2,\"source\":22,\"sourceuniqueness\":91,\"target\":16,\"srcdim\":\"geo_netspeed\"},{\"intensity\":14640,\"tgtdim\":\"user_agent_family\",\"weight\":213,\"histogram\":[2,5,20,17,20,19,13,13,11,10,7,7,8,6,6,7,4,4,3,2,4,2,1,2,0,20],\"targetuniqueness\":2,\"source\":24,\"sourceuniqueness\":4,\"target\":18,\"srcdim\":\"geo_netspeed\"},{\"intensity\":18518,\"tgtdim\":\"user_agent_family\",\"weight\":1195,\"histogram\":[0,0,14,51,95,96,87,79,81,84,71,53,52,46,43,48,23,19,25,24,17,7,19,11,4,146],\"targetuniqueness\":11,\"source\":24,\"sourceuniqueness\":29,\"target\":21,\"srcdim\":\"geo_netspeed\"},{\"intensity\":12825,\"tgtdim\":\"user_agent_family\",\"weight\":8255,\"histogram\":[24,538,762,929,801,605,504,453,381,373,318,271,241,198,188,174,168,129,133,89,92,85,62,68,56,613],\"targetuniqueness\":77,\"source\":24,\"sourceuniqueness\":25,\"target\":19,\"srcdim\":\"geo_netspeed\"},{\"intensity\":19797,\"tgtdim\":\"user_agent_family\",\"weight\":39,\"histogram\":[0,1,1,2,3,2,5,4,0,0,3,1,1,0,2,1,0,0,0,1,0,1,0,0,2,9],\"targetuniqueness\":0,\"source\":24,\"sourceuniqueness\":4,\"target\":20,\"srcdim\":\"geo_netspeed\"},{\"intensity\":14178,\"tgtdim\":\"user_agent_family\",\"weight\":14,\"histogram\":[0,1,3,1,2,0,0,0,0,0,1,0,2,0,0,0,0,1,0,0,1,0,0,0,1,1],\"targetuniqueness\":0,\"source\":24,\"sourceuniqueness\":4,\"target\":17,\"srcdim\":\"geo_netspeed\"},{\"intensity\":7042,\"tgtdim\":\"user_agent_family\",\"weight\":804,\"histogram\":[17,135,154,132,97,69,45,22,23,17,9,5,6,3,5,2,5,4,5,2,3,3,1,0,0,40],\"targetuniqueness\":7,\"source\":24,\"sourceuniqueness\":24,\"target\":15,\"srcdim\":\"geo_netspeed\"},{\"intensity\":6976,\"tgtdim\":\"user_agent_family\",\"weight\":224,\"histogram\":[1,35,48,41,23,22,13,9,2,6,5,3,3,0,0,0,1,0,0,0,0,0,0,1,1,10],\"targetuniqueness\":2,\"source\":24,\"sourceuniqueness\":16,\"target\":14,\"srcdim\":\"geo_netspeed\"},{\"intensity\":13162,\"tgtdim\":\"user_agent_family\",\"weight\":16,\"histogram\":[0,2,2,0,1,1,2,0,2,1,1,1,1,0,1,0,0,0,0,0,0,0,1,0,0,0],\"targetuniqueness\":0,\"source\":24,\"sourceuniqueness\":2,\"target\":16,\"srcdim\":\"geo_netspeed\"},{\"intensity\":9358,\"tgtdim\":\"user_agent_family\",\"weight\":350,\"histogram\":[10,54,45,32,36,35,29,14,13,17,8,6,8,5,5,2,2,3,0,3,0,1,1,2,3,16],\"targetuniqueness\":19,\"source\":23,\"sourceuniqueness\":6,\"target\":18,\"srcdim\":\"geo_netspeed\"},{\"intensity\":15829,\"tgtdim\":\"user_agent_family\",\"weight\":167,\"histogram\":[1,1,4,10,16,17,16,7,15,9,8,8,1,6,5,7,7,2,1,4,3,3,1,1,1,13],\"targetuniqueness\":9,\"source\":23,\"sourceuniqueness\":4,\"target\":21,\"srcdim\":\"geo_netspeed\"},{\"intensity\":11118,\"tgtdim\":\"user_agent_family\",\"weight\":1036,\"histogram\":[11,117,105,117,95,77,62,42,52,37,32,28,32,19,14,23,12,13,14,7,7,8,8,10,6,88],\"targetuniqueness\":55,\"source\":23,\"sourceuniqueness\":3,\"target\":19,\"srcdim\":\"geo_netspeed\"},{\"intensity\":12732,\"tgtdim\":\"user_agent_family\",\"weight\":49,\"histogram\":[1,5,11,3,2,2,2,3,2,1,0,1,1,1,0,5,2,0,0,1,0,0,1,0,0,5],\"targetuniqueness\":3,\"source\":23,\"sourceuniqueness\":5,\"target\":20,\"srcdim\":\"geo_netspeed\"},{\"intensity\":7542,\"tgtdim\":\"user_agent_family\",\"weight\":32,\"histogram\":[1,4,5,6,3,0,2,0,1,2,1,1,0,1,0,1,0,0,1,1,0,0,0,0,0,2],\"targetuniqueness\":2,\"source\":23,\"sourceuniqueness\":9,\"target\":17,\"srcdim\":\"geo_netspeed\"},{\"intensity\":7235,\"tgtdim\":\"user_agent_family\",\"weight\":145,\"histogram\":[6,23,24,26,12,10,9,4,6,4,2,1,3,2,1,2,1,0,0,1,1,1,0,0,0,6],\"targetuniqueness\":8,\"source\":23,\"sourceuniqueness\":4,\"target\":15,\"srcdim\":\"geo_netspeed\"},{\"intensity\":7550,\"tgtdim\":\"user_agent_family\",\"weight\":65,\"histogram\":[4,6,10,13,5,1,7,4,3,2,0,2,2,1,1,0,0,0,0,0,0,0,0,0,0,4],\"targetuniqueness\":3,\"source\":23,\"sourceuniqueness\":5,\"target\":14,\"srcdim\":\"geo_netspeed\"},{\"intensity\":6226,\"tgtdim\":\"user_agent_family\",\"weight\":29,\"histogram\":[1,8,5,2,2,2,2,3,0,0,1,0,0,0,0,0,0,0,0,0,0,0,0,0,0,3],\"targetuniqueness\":2,\"source\":23,\"sourceuniqueness\":3,\"target\":16,\"srcdim\":\"geo_netspeed\"}];\n",
       "\n",
       "\t\tif(!iframe.runner) {\n",
       "\t\t\tiframe.data.links = iframe.data.links.concat(links);\n",
       "\t\t}\n",
       "\t\telse {\n",
       "\t\t\tiframe.data.links = links;\n",
       "\t\t\tiframe.runner({ links: iframe.data.links, minWeight: iframe.data.minWeight, maxWeight: iframe.data.maxWeight, append:true });\n",
       "\t\t}\n",
       "\t}\n",
       "\n",
       "\tvar node = document.getElementById(\"dimension-viz-update-0.22809887222342762-0.7018200108462498\");\n",
       "\tif(node) {\n",
       "\t\tvar output_area = node.parentNode.parentNode;\n",
       "\t\tif(output_area) {\n",
       "\t\t\toutput_area.style.display=\"none\";\n",
       "\t\t}\n",
       "\t}\n",
       "}());\n",
       "</script>\n",
       "\t"
      ]
     },
     "metadata": {},
     "output_type": "display_data"
    },
    {
     "data": {
      "text/html": [
       "<script id=\"progress-script-0.1904800073163364\">window[\"progress-0.020179983147307068\"](\"153 ✓\", \"progress-script-0.1904800073163364\");</script>"
      ]
     },
     "metadata": {},
     "output_type": "display_data"
    },
    {
     "data": {
      "text/html": [
       "<script id=\"dimension-viz-update-0.22809887222342762-0.8991093016505931\">\n",
       "(function() {\n",
       "\tvar iframe = document.getElementById(\"dimension-viz-0.22809887222342762\");\n",
       "\tvar bStartAnimation = false;\n",
       "\tiframe.addEventListener(\"load\", function() {\n",
       "\t\tif (!bStartAnimation) {\n",
       "\t\t\tiframe.startAndInitAnimation([22,24,25,23]);\n",
       "\t\t}\n",
       "\t})\n",
       "\tif (iframe.startAndInitAnimation) {\n",
       "\t\tiframe.startAndInitAnimation([22,24,25,23]);\n",
       "\t\tbStartAnimation = true;\n",
       "\t}\n",
       "}());\n",
       "</script>\n"
      ]
     },
     "metadata": {},
     "output_type": "display_data"
    },
    {
     "data": {
      "text/html": [
       "<h3 class=\"chart_info\">Beacon groups</h3>\n",
       "<p class=\"chart_info\">Generating beacon groups...</p>\n"
      ]
     },
     "metadata": {},
     "output_type": "display_data"
    },
    {
     "data": {
      "text/html": [
       "<p>Created 11 groups.</p>\n"
      ]
     },
     "metadata": {},
     "output_type": "display_data"
    },
    {
     "name": "stderr",
     "output_type": "stream",
     "text": [
      "WARNING: rep{T <: Integer}(x::AbstractVector, lengths::AbstractVector{T}) is deprecated.\n",
      " in depwarn at deprecated.jl:73\n",
      " in rep at /home/ubuntu/.julia/v0.4/DataArrays/src/deprecated.jl:123\n",
      " in combine at /home/ubuntu/.julia/v0.4/DataFrames/src/groupeddataframe/grouping.jl:213\n",
      " in getAllDimensionValues at /home/ubuntu/datascienceworkbench/lib/Modules/DSWB/src/Clustering.jl:674\n",
      " in doit at /home/ubuntu/datascienceworkbench/lib/Modules/DSWB/src/Clustering.jl:2182\n",
      " in include_string at loading.jl:282\n",
      " in execute_request_0x535c5df2 at /home/ubuntu/.julia/v0.4/IJulia/src/execute_request.jl:183\n",
      " in eventloop at /home/ubuntu/.julia/v0.4/IJulia/src/IJulia.jl:143\n",
      " in anonymous at task.jl:447\n",
      "while loading In[9], in expression starting on line 1\n"
     ]
    }
   ],
   "source": [
    "doit(retailer_results, showDimensionViz=true, showProgress=true);"
   ]
  },
  {
   "cell_type": "code",
   "execution_count": 10,
   "metadata": {
    "collapsed": false,
    "input_collapsed": false
   },
   "outputs": [
    {
     "data": {
      "text/html": [
       "<table class=\"data-frame\"><tr><th></th></tr></table>"
      ],
      "text/plain": [
       "0x0 DataFrames.DataFrame\n"
      ]
     },
     "execution_count": 10,
     "metadata": {},
     "output_type": "execute_result"
    }
   ],
   "source": [
    "q = query(\"\"\" drop view if exists $localTable;\"\"\")\n",
    "q = query(\"\"\" drop view if exists $localTableRt;\"\"\")"
   ]
  },
  {
   "cell_type": "code",
   "execution_count": null,
   "metadata": {
    "collapsed": true,
    "input_collapsed": true
   },
   "outputs": [],
   "source": []
  }
 ],
 "metadata": {
  "chart_version": "1.0.0",
  "kernelspec": {
   "display_name": "Julia 0.4.7",
   "language": "julia",
   "name": "julia-0.4"
  },
  "language_info": {
   "file_extension": ".jl",
   "mimetype": "application/julia",
   "name": "julia",
   "version": "0.4.7"
  },
  "library_version": "1.0.0",
  "notebook_uuid": "55822c66-6fec-4266-9183-4b087f98161b",
  "readOnly": false
 },
 "nbformat": 4,
 "nbformat_minor": 0
}
