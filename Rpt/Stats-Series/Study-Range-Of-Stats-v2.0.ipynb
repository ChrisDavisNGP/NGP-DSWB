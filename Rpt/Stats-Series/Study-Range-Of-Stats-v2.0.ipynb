{
 "cells": [
  {
   "cell_type": "markdown",
   "metadata": {},
   "source": [
    "## Tables and Data Source setup"
   ]
  },
  {
   "cell_type": "code",
   "execution_count": 1,
   "metadata": {
    "collapsed": false,
    "input_collapsed": false,
    "scrolled": true
   },
   "outputs": [
    {
     "name": "stdout",
     "output_type": "stream",
     "text": [
      "Redshift endpoint set: 2017-11-29T12:34:51\n"
     ]
    }
   ],
   "source": [
    "using ODBC\n",
    "using DataFrames\n",
    "using DSWB\n",
    "using Formatting\n",
    "using Distributions\n",
    "\n",
    "dsn = \"dswb-natgeo\" # Redshift endpoint\n",
    "table = \"beacons_4744\" # beacon table name\n",
    "tableRt = \"beacons_4744_rt\"\n",
    "\n",
    "# Connect to Beacon Data\n",
    "setRedshiftEndpoint(dsn)\n",
    "setTable(table)\n",
    "# setTable(tableRt, tableType = \"RESOURCE_TABLE\")\n",
    ";"
   ]
  },
  {
   "cell_type": "code",
   "execution_count": 2,
   "metadata": {
    "collapsed": false,
    "input_collapsed": false
   },
   "outputs": [],
   "source": [
    "include(\"../../Lib/Include-Package-v2.1.jl\")\n",
    ";"
   ]
  },
  {
   "cell_type": "code",
   "execution_count": 3,
   "metadata": {
    "collapsed": false,
    "input_collapsed": false
   },
   "outputs": [
    {
     "name": "stdout",
     "output_type": "stream",
     "text": [
      "November 28, 2017 06:59:00 to November 28, 2017 16:59:00 Local Time\n",
      "November 28, 2017 11:59:00 to November 28, 2017 21:59:00 UTC Time\n"
     ]
    }
   ],
   "source": [
    "#TV = timeVariables(2017,6,8,2,0,2017,6,8,12,59)\n",
    "#TV = weeklyTimeVariables(days=1)\n",
    "TV = yesterdayTimeVariables()\n",
    ";"
   ]
  },
  {
   "cell_type": "code",
   "execution_count": 4,
   "metadata": {
    "collapsed": false,
    "input_collapsed": false,
    "scrolled": true
   },
   "outputs": [],
   "source": [
    "UP = UrlParamsInit()\n",
    "UP.agentOs = \"%\"\n",
    "UP.btView = \"$(table)_StudyStats_pview_prod\"\n",
    "UP.deviceType = \"Mobile\"\n",
    "UP.pageGroup = \"News Article\"\n",
    "UP.rtView = \"$(tableRt)_StudyStats_pview_prod\"\n",
    "UP.timeLowerMs = 2000.0\n",
    "UP.timeUpperMs = 600000.0\n",
    "UP.urlRegEx = \"%\"\n",
    "\n",
    "SP = ShowParamsInit()\n",
    "SP.criticalPathOnly=true\n",
    "SP.desktop=true\n",
    "SP.devView=false\n",
    "SP.debug=true\n",
    "SP.debugLevel = 10   # Tests use even numbers with > tests, make this an odd number or zero\n",
    "SP.mobile=true\n",
    "SP.showLines = 25\n",
    "ShowParamsValidate(SP)\n",
    ";\n"
   ]
  },
  {
   "cell_type": "code",
   "execution_count": 5,
   "metadata": {
    "collapsed": false,
    "input_collapsed": false
   },
   "outputs": [
    {
     "name": "stdout",
     "output_type": "stream",
     "text": [
      "Low=1000 High=600000\n",
      "beacons_4744_StudyStats_pview_prod count is 77978\n"
     ]
    }
   ],
   "source": [
    "defaultBeaconView(TV,UP,SP)\n",
    "setTable(UP.btView)\n",
    ";"
   ]
  },
  {
   "cell_type": "code",
   "execution_count": 6,
   "metadata": {
    "collapsed": false,
    "input_collapsed": false
   },
   "outputs": [
    {
     "data": {
      "text/html": [
       "<div class=\"dswbOutputText\"><h1 class=\"chart_title\" style=\"color:#ccc\">Raw Data Stats Including Those above 600 seconds for News Article</h1><h3 class=\"chart_info\" style=\"color:#ccc\">November 28, 2017 06:59:00 to November 28, 2017 16:59:00 Local Time</h3></div>"
      ]
     },
     "metadata": {},
     "output_type": "display_data"
    },
    {
     "data": {
      "text/html": [
       "    <table  class=\"dataframe-table\">\n",
       "    <thead><tr><th class=\"cell-1\" style=\"\">unit</th> <th class=\"cell-2\" style=\"\">count</th> <th class=\"cell-3\" style=\"\">mean</th> <th class=\"cell-4\" style=\"\">median</th> <th class=\"cell-5\" style=\"\">stddev</th> <th class=\"cell-6\" style=\"\">min</th> <th class=\"cell-7\" style=\"\">max</th> <th class=\"cell-8\" style=\"\">LowerBy25p</th> <th class=\"cell-9\" style=\"\">UpperBy25p</th> <th class=\"cell-10\" style=\"\">LowerBy3Stddev</th> <th class=\"cell-11\" style=\"\">UpperBy3Stddev</th></tr></thead>\n",
       "    <tbody>\n",
       "    <tr><td class=\"cell-1\" style=\"\">milliseconds</td> <td class=\"cell-2\" style=\"text-align:right;\">77,878</td> <td class=\"cell-3\" style=\"text-align:right;\">25,216</td> <td class=\"cell-4\" style=\"text-align:right;\">16,496</td> <td class=\"cell-5\" style=\"text-align:right;\">31,952</td> <td class=\"cell-6\" style=\"text-align:right;\">1,066</td> <td class=\"cell-7\" style=\"text-align:right;\">595,984</td> <td class=\"cell-8\" style=\"text-align:right;\">12,372</td> <td class=\"cell-9\" style=\"text-align:right;\">20,620</td> <td class=\"cell-10\" style=\"text-align:right;\">1,000</td> <td class=\"cell-11\" style=\"text-align:right;\">112,352</td></tr>\n",
       "<tr><td class=\"cell-1\" style=\"\">seconds</td> <td class=\"cell-2\" style=\"text-align:right;\">77,878</td> <td class=\"cell-3\" style=\"text-align:right;\">25.216</td> <td class=\"cell-4\" style=\"text-align:right;\">16.496</td> <td class=\"cell-5\" style=\"text-align:right;\">31.952</td> <td class=\"cell-6\" style=\"text-align:right;\">1.066</td> <td class=\"cell-7\" style=\"text-align:right;\">595.984</td> <td class=\"cell-8\" style=\"text-align:right;\">12.372</td> <td class=\"cell-9\" style=\"text-align:right;\">20.62</td> <td class=\"cell-10\" style=\"text-align:right;\">1</td> <td class=\"cell-11\" style=\"text-align:right;\">112.352</td></tr>\n",
       "    \n",
       "    <tr><td class=\"cell-1\" style=\"\">minutes</td> <td class=\"cell-2\" style=\"text-align:right;\">77,878</td> <td class=\"cell-3\" style=\"text-align:right;\">0.4</td> <td class=\"cell-4\" style=\"text-align:right;\">0.3</td> <td class=\"cell-5\" style=\"text-align:right;\">0.5</td> <td class=\"cell-6\" style=\"text-align:right;\">0</td> <td class=\"cell-7\" style=\"text-align:right;\">9.9</td> <td class=\"cell-8\" style=\"text-align:right;\">0.2</td> <td class=\"cell-9\" style=\"text-align:right;\">0.3</td> <td class=\"cell-10\" style=\"text-align:right;\">0</td> <td class=\"cell-11\" style=\"text-align:right;\">1.9</td></tr>\n",
       "    </tbody>\n"
      ],
      "text/plain": [
       "HTML{UTF8String}(\"    <table  class=\\\"dataframe-table\\\">\\n    <thead><tr><th class=\\\"cell-1\\\" style=\\\"\\\">unit</th> <th class=\\\"cell-2\\\" style=\\\"\\\">count</th> <th class=\\\"cell-3\\\" style=\\\"\\\">mean</th> <th class=\\\"cell-4\\\" style=\\\"\\\">median</th> <th class=\\\"cell-5\\\" style=\\\"\\\">stddev</th> <th class=\\\"cell-6\\\" style=\\\"\\\">min</th> <th class=\\\"cell-7\\\" style=\\\"\\\">max</th> <th class=\\\"cell-8\\\" style=\\\"\\\">LowerBy25p</th> <th class=\\\"cell-9\\\" style=\\\"\\\">UpperBy25p</th> <th class=\\\"cell-10\\\" style=\\\"\\\">LowerBy3Stddev</th> <th class=\\\"cell-11\\\" style=\\\"\\\">UpperBy3Stddev</th></tr></thead>\\n    <tbody>\\n    <tr><td class=\\\"cell-1\\\" style=\\\"\\\">milliseconds</td> <td class=\\\"cell-2\\\" style=\\\"text-align:right;\\\">77,878</td> <td class=\\\"cell-3\\\" style=\\\"text-align:right;\\\">25,216</td> <td class=\\\"cell-4\\\" style=\\\"text-align:right;\\\">16,496</td> <td class=\\\"cell-5\\\" style=\\\"text-align:right;\\\">31,952</td> <td class=\\\"cell-6\\\" style=\\\"text-align:right;\\\">1,066</td> <td class=\\\"cell-7\\\" style=\\\"text-align:right;\\\">595,984</td> <td class=\\\"cell-8\\\" style=\\\"text-align:right;\\\">12,372</td> <td class=\\\"cell-9\\\" style=\\\"text-align:right;\\\">20,620</td> <td class=\\\"cell-10\\\" style=\\\"text-align:right;\\\">1,000</td> <td class=\\\"cell-11\\\" style=\\\"text-align:right;\\\">112,352</td></tr>\\n<tr><td class=\\\"cell-1\\\" style=\\\"\\\">seconds</td> <td class=\\\"cell-2\\\" style=\\\"text-align:right;\\\">77,878</td> <td class=\\\"cell-3\\\" style=\\\"text-align:right;\\\">25.216</td> <td class=\\\"cell-4\\\" style=\\\"text-align:right;\\\">16.496</td> <td class=\\\"cell-5\\\" style=\\\"text-align:right;\\\">31.952</td> <td class=\\\"cell-6\\\" style=\\\"text-align:right;\\\">1.066</td> <td class=\\\"cell-7\\\" style=\\\"text-align:right;\\\">595.984</td> <td class=\\\"cell-8\\\" style=\\\"text-align:right;\\\">12.372</td> <td class=\\\"cell-9\\\" style=\\\"text-align:right;\\\">20.62</td> <td class=\\\"cell-10\\\" style=\\\"text-align:right;\\\">1</td> <td class=\\\"cell-11\\\" style=\\\"text-align:right;\\\">112.352</td></tr>\\n    \\n    <tr><td class=\\\"cell-1\\\" style=\\\"\\\">minutes</td> <td class=\\\"cell-2\\\" style=\\\"text-align:right;\\\">77,878</td> <td class=\\\"cell-3\\\" style=\\\"text-align:right;\\\">0.4</td> <td class=\\\"cell-4\\\" style=\\\"text-align:right;\\\">0.3</td> <td class=\\\"cell-5\\\" style=\\\"text-align:right;\\\">0.5</td> <td class=\\\"cell-6\\\" style=\\\"text-align:right;\\\">0</td> <td class=\\\"cell-7\\\" style=\\\"text-align:right;\\\">9.9</td> <td class=\\\"cell-8\\\" style=\\\"text-align:right;\\\">0.2</td> <td class=\\\"cell-9\\\" style=\\\"text-align:right;\\\">0.3</td> <td class=\\\"cell-10\\\" style=\\\"text-align:right;\\\">0</td> <td class=\\\"cell-11\\\" style=\\\"text-align:right;\\\">1.9</td></tr>\\n    </tbody>\\n\")"
      ]
     },
     "metadata": {},
     "output_type": "display_data"
    }
   ],
   "source": [
    "rawStatsSROS(TV,UP)\n",
    ";"
   ]
  },
  {
   "cell_type": "code",
   "execution_count": 7,
   "metadata": {
    "collapsed": false,
    "input_collapsed": false
   },
   "outputs": [
    {
     "data": {
      "text/html": [
       "    <table  class=\"dataframe-table\">\n",
       "    <thead><tr><th class=\"cell-1\" style=\"\">datetime</th> <th class=\"cell-2\" style=\"\">year</th> <th class=\"cell-3\" style=\"\">month</th> <th class=\"cell-4\" style=\"\">day</th> <th class=\"cell-5\" style=\"\">hour</th> <th class=\"cell-6\" style=\"\">unit</th> <th class=\"cell-7\" style=\"\">count</th> <th class=\"cell-8\" style=\"\">mean</th> <th class=\"cell-9\" style=\"\">median</th> <th class=\"cell-10\" style=\"\">stddev</th> <th class=\"cell-11\" style=\"\">variance</th> <th class=\"cell-12\" style=\"\">min</th> <th class=\"cell-13\" style=\"\">max</th> <th class=\"cell-14\" style=\"\">q25</th> <th class=\"cell-15\" style=\"\">q75</th> <th class=\"cell-16\" style=\"\">kurtosis</th> <th class=\"cell-17\" style=\"\">skewness</th> <th class=\"cell-18\" style=\"\">entropy</th> <th class=\"cell-19\" style=\"\">modes</th> <th class=\"cell-20\" style=\"\">LowerBy3Stddev</th> <th class=\"cell-21\" style=\"\">UpperBy3Stddev</th></tr></thead>\n",
       "    <tbody>\n",
       "    <tr><td class=\"cell-1\" style=\"\">2017-11-28T11:00:00</td> <td class=\"cell-2\" style=\"text-align:right;\">2,017</td> <td class=\"cell-3\" style=\"text-align:right;\">11</td> <td class=\"cell-4\" style=\"text-align:right;\">28</td> <td class=\"cell-5\" style=\"text-align:right;\">11</td> <td class=\"cell-6\" style=\"\">seconds</td> <td class=\"cell-7\" style=\"text-align:right;\">6,944</td> <td class=\"cell-8\" style=\"text-align:right;\">20.986</td> <td class=\"cell-9\" style=\"text-align:right;\">12.421</td> <td class=\"cell-10\" style=\"text-align:right;\">31.624</td> <td class=\"cell-11\" style=\"text-align:right;\">1,000,056.708</td> <td class=\"cell-12\" style=\"text-align:right;\">1.011</td> <td class=\"cell-13\" style=\"text-align:right;\">558.191</td> <td class=\"cell-14\" style=\"text-align:right;\">6.824</td> <td class=\"cell-15\" style=\"text-align:right;\">23.942</td> <td class=\"cell-16\" style=\"text-align:right;\">86.47235</td> <td class=\"cell-17\" style=\"text-align:right;\">7.539699</td> <td class=\"cell-18\" style=\"text-align:right;\">-1,527,079,498.215205</td> <td class=\"cell-19\" style=\"text-align:right;\">6,753</td> <td class=\"cell-20\" style=\"text-align:right;\">1</td> <td class=\"cell-21\" style=\"text-align:right;\">107.293</td></tr>\n",
       "<tr><td class=\"cell-1\" style=\"\">2017-11-28T12:00:00</td> <td class=\"cell-2\" style=\"text-align:right;\">2,017</td> <td class=\"cell-3\" style=\"text-align:right;\">11</td> <td class=\"cell-4\" style=\"text-align:right;\">28</td> <td class=\"cell-5\" style=\"text-align:right;\">12</td> <td class=\"cell-6\" style=\"\">seconds</td> <td class=\"cell-7\" style=\"text-align:right;\">13,231</td> <td class=\"cell-8\" style=\"text-align:right;\">20.748</td> <td class=\"cell-9\" style=\"text-align:right;\">12.447</td> <td class=\"cell-10\" style=\"text-align:right;\">29.548</td> <td class=\"cell-11\" style=\"text-align:right;\">873,059.35</td> <td class=\"cell-12\" style=\"text-align:right;\">0.668</td> <td class=\"cell-13\" style=\"text-align:right;\">549.608</td> <td class=\"cell-14\" style=\"text-align:right;\">6.81</td> <td class=\"cell-15\" style=\"text-align:right;\">24.403</td> <td class=\"cell-16\" style=\"text-align:right;\">85.52379</td> <td class=\"cell-17\" style=\"text-align:right;\">7.289786</td> <td class=\"cell-18\" style=\"text-align:right;\">-2,865,693,599.142038</td> <td class=\"cell-19\" style=\"text-align:right;\">6,361</td> <td class=\"cell-20\" style=\"text-align:right;\">1</td> <td class=\"cell-21\" style=\"text-align:right;\">101.091</td></tr>\n",
       "<tr><td class=\"cell-1\" style=\"\">2017-11-28T13:00:00</td> <td class=\"cell-2\" style=\"text-align:right;\">2,017</td> <td class=\"cell-3\" style=\"text-align:right;\">11</td> <td class=\"cell-4\" style=\"text-align:right;\">28</td> <td class=\"cell-5\" style=\"text-align:right;\">13</td> <td class=\"cell-6\" style=\"\">seconds</td> <td class=\"cell-7\" style=\"text-align:right;\">23,715</td> <td class=\"cell-8\" style=\"text-align:right;\">19.483</td> <td class=\"cell-9\" style=\"text-align:right;\">11.248</td> <td class=\"cell-10\" style=\"text-align:right;\">28.709</td> <td class=\"cell-11\" style=\"text-align:right;\">824,202.135</td> <td class=\"cell-12\" style=\"text-align:right;\">0.001</td> <td class=\"cell-13\" style=\"text-align:right;\">547.827</td> <td class=\"cell-14\" style=\"text-align:right;\">6.499</td> <td class=\"cell-15\" style=\"text-align:right;\">22.452</td> <td class=\"cell-16\" style=\"text-align:right;\">83.747322</td> <td class=\"cell-17\" style=\"text-align:right;\">7.32673</td> <td class=\"cell-18\" style=\"text-align:right;\">-4,802,705,750.507926</td> <td class=\"cell-19\" style=\"text-align:right;\">7,176</td> <td class=\"cell-20\" style=\"text-align:right;\">1</td> <td class=\"cell-21\" style=\"text-align:right;\">97.375</td></tr>\n",
       "<tr><td class=\"cell-1\" style=\"\">2017-11-28T14:00:00</td> <td class=\"cell-2\" style=\"text-align:right;\">2,017</td> <td class=\"cell-3\" style=\"text-align:right;\">11</td> <td class=\"cell-4\" style=\"text-align:right;\">28</td> <td class=\"cell-5\" style=\"text-align:right;\">14</td> <td class=\"cell-6\" style=\"\">seconds</td> <td class=\"cell-7\" style=\"text-align:right;\">25,646</td> <td class=\"cell-8\" style=\"text-align:right;\">19.209</td> <td class=\"cell-9\" style=\"text-align:right;\">10.938</td> <td class=\"cell-10\" style=\"text-align:right;\">28.591</td> <td class=\"cell-11\" style=\"text-align:right;\">817,455.081</td> <td class=\"cell-12\" style=\"text-align:right;\">0.888</td> <td class=\"cell-13\" style=\"text-align:right;\">583.299</td> <td class=\"cell-14\" style=\"text-align:right;\">6.356</td> <td class=\"cell-15\" style=\"text-align:right;\">21.946</td> <td class=\"cell-16\" style=\"text-align:right;\">90.079693</td> <td class=\"cell-17\" style=\"text-align:right;\">7.432544</td> <td class=\"cell-18\" style=\"text-align:right;\">-5,118,243,914.094378</td> <td class=\"cell-19\" style=\"text-align:right;\">5,328</td> <td class=\"cell-20\" style=\"text-align:right;\">1</td> <td class=\"cell-21\" style=\"text-align:right;\">96.711</td></tr>\n",
       "<tr><td class=\"cell-1\" style=\"\">2017-11-28T15:00:00</td> <td class=\"cell-2\" style=\"text-align:right;\">2,017</td> <td class=\"cell-3\" style=\"text-align:right;\">11</td> <td class=\"cell-4\" style=\"text-align:right;\">28</td> <td class=\"cell-5\" style=\"text-align:right;\">15</td> <td class=\"cell-6\" style=\"\">seconds</td> <td class=\"cell-7\" style=\"text-align:right;\">23,645</td> <td class=\"cell-8\" style=\"text-align:right;\">18.643</td> <td class=\"cell-9\" style=\"text-align:right;\">10.301</td> <td class=\"cell-10\" style=\"text-align:right;\">28.819</td> <td class=\"cell-11\" style=\"text-align:right;\">830,520.897</td> <td class=\"cell-12\" style=\"text-align:right;\">0.773</td> <td class=\"cell-13\" style=\"text-align:right;\">594.584</td> <td class=\"cell-14\" style=\"text-align:right;\">6.069</td> <td class=\"cell-15\" style=\"text-align:right;\">21.267</td> <td class=\"cell-16\" style=\"text-align:right;\">110.180166</td> <td class=\"cell-17\" style=\"text-align:right;\">8.231683</td> <td class=\"cell-18\" style=\"text-align:right;\">-4,574,373,977.461535</td> <td class=\"cell-19\" style=\"text-align:right;\">5,558</td> <td class=\"cell-20\" style=\"text-align:right;\">1</td> <td class=\"cell-21\" style=\"text-align:right;\">96.758</td></tr>\n",
       "<tr><td class=\"cell-1\" style=\"\">2017-11-28T16:00:00</td> <td class=\"cell-2\" style=\"text-align:right;\">2,017</td> <td class=\"cell-3\" style=\"text-align:right;\">11</td> <td class=\"cell-4\" style=\"text-align:right;\">28</td> <td class=\"cell-5\" style=\"text-align:right;\">16</td> <td class=\"cell-6\" style=\"\">seconds</td> <td class=\"cell-7\" style=\"text-align:right;\">22,623</td> <td class=\"cell-8\" style=\"text-align:right;\">18.332</td> <td class=\"cell-9\" style=\"text-align:right;\">10.239</td> <td class=\"cell-10\" style=\"text-align:right;\">28.256</td> <td class=\"cell-11\" style=\"text-align:right;\">798,404.768</td> <td class=\"cell-12\" style=\"text-align:right;\">0.713</td> <td class=\"cell-13\" style=\"text-align:right;\">593.882</td> <td class=\"cell-14\" style=\"text-align:right;\">5.964</td> <td class=\"cell-15\" style=\"text-align:right;\">20.896</td> <td class=\"cell-16\" style=\"text-align:right;\">106.826483</td> <td class=\"cell-17\" style=\"text-align:right;\">8.134146</td> <td class=\"cell-18\" style=\"text-align:right;\">-4,295,525,212.086632</td> <td class=\"cell-19\" style=\"text-align:right;\">6,343</td> <td class=\"cell-20\" style=\"text-align:right;\">1</td> <td class=\"cell-21\" style=\"text-align:right;\">95.007</td></tr>\n",
       "    \n",
       "    <tr><td class=\"cell-1\" style=\"\">2017-11-28T17:00:00</td> <td class=\"cell-2\" style=\"text-align:right;\">2,017</td> <td class=\"cell-3\" style=\"text-align:right;\">11</td> <td class=\"cell-4\" style=\"text-align:right;\">28</td> <td class=\"cell-5\" style=\"text-align:right;\">17</td> <td class=\"cell-6\" style=\"\">seconds</td> <td class=\"cell-7\" style=\"text-align:right;\">21,581</td> <td class=\"cell-8\" style=\"text-align:right;\">17.761</td> <td class=\"cell-9\" style=\"text-align:right;\">10.039</td> <td class=\"cell-10\" style=\"text-align:right;\">25.538</td> <td class=\"cell-11\" style=\"text-align:right;\">652,174.59</td> <td class=\"cell-12\" style=\"text-align:right;\">0.003</td> <td class=\"cell-13\" style=\"text-align:right;\">595.984</td> <td class=\"cell-14\" style=\"text-align:right;\">5.89</td> <td class=\"cell-15\" style=\"text-align:right;\">20.397</td> <td class=\"cell-16\" style=\"text-align:right;\">94.662363</td> <td class=\"cell-17\" style=\"text-align:right;\">7.30741</td> <td class=\"cell-18\" style=\"text-align:right;\">-3,948,129,562.482722</td> <td class=\"cell-19\" style=\"text-align:right;\">5,118</td> <td class=\"cell-20\" style=\"text-align:right;\">1</td> <td class=\"cell-21\" style=\"text-align:right;\">86.653</td></tr>\n",
       "<tr><td class=\"cell-1\" style=\"\">2017-11-28T18:00:00</td> <td class=\"cell-2\" style=\"text-align:right;\">2,017</td> <td class=\"cell-3\" style=\"text-align:right;\">11</td> <td class=\"cell-4\" style=\"text-align:right;\">28</td> <td class=\"cell-5\" style=\"text-align:right;\">18</td> <td class=\"cell-6\" style=\"\">seconds</td> <td class=\"cell-7\" style=\"text-align:right;\">19,939</td> <td class=\"cell-8\" style=\"text-align:right;\">18.043</td> <td class=\"cell-9\" style=\"text-align:right;\">9.965</td> <td class=\"cell-10\" style=\"text-align:right;\">27.497</td> <td class=\"cell-11\" style=\"text-align:right;\">756,078.861</td> <td class=\"cell-12\" style=\"text-align:right;\">0.164</td> <td class=\"cell-13\" style=\"text-align:right;\">568.188</td> <td class=\"cell-14\" style=\"text-align:right;\">5.876</td> <td class=\"cell-15\" style=\"text-align:right;\">20.062</td> <td class=\"cell-16\" style=\"text-align:right;\">92.356364</td> <td class=\"cell-17\" style=\"text-align:right;\">7.488628</td> <td class=\"cell-18\" style=\"text-align:right;\">-3,722,630,461.112288</td> <td class=\"cell-19\" style=\"text-align:right;\">5,353</td> <td class=\"cell-20\" style=\"text-align:right;\">1</td> <td class=\"cell-21\" style=\"text-align:right;\">92.456</td></tr>\n",
       "<tr><td class=\"cell-1\" style=\"\">2017-11-28T19:00:00</td> <td class=\"cell-2\" style=\"text-align:right;\">2,017</td> <td class=\"cell-3\" style=\"text-align:right;\">11</td> <td class=\"cell-4\" style=\"text-align:right;\">28</td> <td class=\"cell-5\" style=\"text-align:right;\">19</td> <td class=\"cell-6\" style=\"\">seconds</td> <td class=\"cell-7\" style=\"text-align:right;\">19,473</td> <td class=\"cell-8\" style=\"text-align:right;\">17.812</td> <td class=\"cell-9\" style=\"text-align:right;\">9.832</td> <td class=\"cell-10\" style=\"text-align:right;\">27.586</td> <td class=\"cell-11\" style=\"text-align:right;\">760,963.839</td> <td class=\"cell-12\" style=\"text-align:right;\">0.888</td> <td class=\"cell-13\" style=\"text-align:right;\">587.468</td> <td class=\"cell-14\" style=\"text-align:right;\">5.783</td> <td class=\"cell-15\" style=\"text-align:right;\">20.201</td> <td class=\"cell-16\" style=\"text-align:right;\">109.04721</td> <td class=\"cell-17\" style=\"text-align:right;\">8.216459</td> <td class=\"cell-18\" style=\"text-align:right;\">-3,583,941,773.914464</td> <td class=\"cell-19\" style=\"text-align:right;\">7,138</td> <td class=\"cell-20\" style=\"text-align:right;\">1</td> <td class=\"cell-21\" style=\"text-align:right;\">92.59</td></tr>\n",
       "<tr><td class=\"cell-1\" style=\"\">2017-11-28T20:00:00</td> <td class=\"cell-2\" style=\"text-align:right;\">2,017</td> <td class=\"cell-3\" style=\"text-align:right;\">11</td> <td class=\"cell-4\" style=\"text-align:right;\">28</td> <td class=\"cell-5\" style=\"text-align:right;\">20</td> <td class=\"cell-6\" style=\"\">seconds</td> <td class=\"cell-7\" style=\"text-align:right;\">19,608</td> <td class=\"cell-8\" style=\"text-align:right;\">17.518</td> <td class=\"cell-9\" style=\"text-align:right;\">9.842</td> <td class=\"cell-10\" style=\"text-align:right;\">25.72</td> <td class=\"cell-11\" style=\"text-align:right;\">661,533.011</td> <td class=\"cell-12\" style=\"text-align:right;\">0.698</td> <td class=\"cell-13\" style=\"text-align:right;\">599.833</td> <td class=\"cell-14\" style=\"text-align:right;\">5.817</td> <td class=\"cell-15\" style=\"text-align:right;\">19.986</td> <td class=\"cell-16\" style=\"text-align:right;\">108.13294</td> <td class=\"cell-17\" style=\"text-align:right;\">7.80025</td> <td class=\"cell-18\" style=\"text-align:right;\">-3,535,358,999.156096</td> <td class=\"cell-19\" style=\"text-align:right;\">5,590</td> <td class=\"cell-20\" style=\"text-align:right;\">1</td> <td class=\"cell-21\" style=\"text-align:right;\">87.002</td></tr>\n",
       "<tr><td class=\"cell-1\" style=\"\">2017-11-28T21:00:00</td> <td class=\"cell-2\" style=\"text-align:right;\">2,017</td> <td class=\"cell-3\" style=\"text-align:right;\">11</td> <td class=\"cell-4\" style=\"text-align:right;\">28</td> <td class=\"cell-5\" style=\"text-align:right;\">21</td> <td class=\"cell-6\" style=\"\">seconds</td> <td class=\"cell-7\" style=\"text-align:right;\">18,364</td> <td class=\"cell-8\" style=\"text-align:right;\">17.81</td> <td class=\"cell-9\" style=\"text-align:right;\">10.111</td> <td class=\"cell-10\" style=\"text-align:right;\">27.163</td> <td class=\"cell-11\" style=\"text-align:right;\">737,809.917</td> <td class=\"cell-12\" style=\"text-align:right;\">0.914</td> <td class=\"cell-13\" style=\"text-align:right;\">585.322</td> <td class=\"cell-14\" style=\"text-align:right;\">5.934</td> <td class=\"cell-15\" style=\"text-align:right;\">20.333</td> <td class=\"cell-16\" style=\"text-align:right;\">102.472896</td> <td class=\"cell-17\" style=\"text-align:right;\">8.000132</td> <td class=\"cell-18\" style=\"text-align:right;\">-3,374,888,039.268781</td> <td class=\"cell-19\" style=\"text-align:right;\">6,657</td> <td class=\"cell-20\" style=\"text-align:right;\">1</td> <td class=\"cell-21\" style=\"text-align:right;\">91.6</td></tr>\n",
       "    </tbody>\n"
      ],
      "text/plain": [
       "HTML{UTF8String}(\"    <table  class=\\\"dataframe-table\\\">\\n    <thead><tr><th class=\\\"cell-1\\\" style=\\\"\\\">datetime</th> <th class=\\\"cell-2\\\" style=\\\"\\\">year</th> <th class=\\\"cell-3\\\" style=\\\"\\\">month</th> <th class=\\\"cell-4\\\" style=\\\"\\\">day</th> <th class=\\\"cell-5\\\" style=\\\"\\\">hour</th> <th class=\\\"cell-6\\\" style=\\\"\\\">unit</th> <th class=\\\"cell-7\\\" style=\\\"\\\">count</th> <th class=\\\"cell-8\\\" style=\\\"\\\">mean</th> <th class=\\\"cell-9\\\" style=\\\"\\\">median</th> <th class=\\\"cell-10\\\" style=\\\"\\\">stddev</th> <th class=\\\"cell-11\\\" style=\\\"\\\">variance</th> <th class=\\\"cell-12\\\" style=\\\"\\\">min</th> <th class=\\\"cell-13\\\" style=\\\"\\\">max</th> <th class=\\\"cell-14\\\" style=\\\"\\\">q25</th> <th class=\\\"cell-15\\\" style=\\\"\\\">q75</th> <th class=\\\"cell-16\\\" style=\\\"\\\">kurtosis</th> <th class=\\\"cell-17\\\" style=\\\"\\\">skewness</th> <th class=\\\"cell-18\\\" style=\\\"\\\">entropy</th> <th class=\\\"cell-19\\\" style=\\\"\\\">modes</th> <th class=\\\"cell-20\\\" style=\\\"\\\">LowerBy3Stddev</th> <th class=\\\"cell-21\\\" style=\\\"\\\">UpperBy3Stddev</th></tr></thead>\\n    <tbody>\\n    <tr><td class=\\\"cell-1\\\" style=\\\"\\\">2017-11-28T11:00:00</td> <td class=\\\"cell-2\\\" style=\\\"text-align:right;\\\">2,017</td> <td class=\\\"cell-3\\\" style=\\\"text-align:right;\\\">11</td> <td class=\\\"cell-4\\\" style=\\\"text-align:right;\\\">28</td> <td class=\\\"cell-5\\\" style=\\\"text-align:right;\\\">11</td> <td class=\\\"cell-6\\\" style=\\\"\\\">seconds</td> <td class=\\\"cell-7\\\" style=\\\"text-align:right;\\\">6,944</td> <td class=\\\"cell-8\\\" style=\\\"text-align:right;\\\">20.986</td> <td class=\\\"cell-9\\\" style=\\\"text-align:right;\\\">12.421</td> <td class=\\\"cell-10\\\" style=\\\"text-align:right;\\\">31.624</td> <td class=\\\"cell-11\\\" style=\\\"text-align:right;\\\">1,000,056.708</td> <td class=\\\"cell-12\\\" style=\\\"text-align:right;\\\">1.011</td> <td class=\\\"cell-13\\\" style=\\\"text-align:right;\\\">558.191</td> <td class=\\\"cell-14\\\" style=\\\"text-align:right;\\\">6.824</td> <td class=\\\"cell-15\\\" style=\\\"text-align:right;\\\">23.942</td> <td class=\\\"cell-16\\\" style=\\\"text-align:right;\\\">86.47235</td> <td class=\\\"cell-17\\\" style=\\\"text-align:right;\\\">7.539699</td> <td class=\\\"cell-18\\\" style=\\\"text-align:right;\\\">-1,527,079,498.215205</td> <td class=\\\"cell-19\\\" style=\\\"text-align:right;\\\">6,753</td> <td class=\\\"cell-20\\\" style=\\\"text-align:right;\\\">1</td> <td class=\\\"cell-21\\\" style=\\\"text-align:right;\\\">107.293</td></tr>\\n<tr><td class=\\\"cell-1\\\" style=\\\"\\\">2017-11-28T12:00:00</td> <td class=\\\"cell-2\\\" style=\\\"text-align:right;\\\">2,017</td> <td class=\\\"cell-3\\\" style=\\\"text-align:right;\\\">11</td> <td class=\\\"cell-4\\\" style=\\\"text-align:right;\\\">28</td> <td class=\\\"cell-5\\\" style=\\\"text-align:right;\\\">12</td> <td class=\\\"cell-6\\\" style=\\\"\\\">seconds</td> <td class=\\\"cell-7\\\" style=\\\"text-align:right;\\\">13,231</td> <td class=\\\"cell-8\\\" style=\\\"text-align:right;\\\">20.748</td> <td class=\\\"cell-9\\\" style=\\\"text-align:right;\\\">12.447</td> <td class=\\\"cell-10\\\" style=\\\"text-align:right;\\\">29.548</td> <td class=\\\"cell-11\\\" style=\\\"text-align:right;\\\">873,059.35</td> <td class=\\\"cell-12\\\" style=\\\"text-align:right;\\\">0.668</td> <td class=\\\"cell-13\\\" style=\\\"text-align:right;\\\">549.608</td> <td class=\\\"cell-14\\\" style=\\\"text-align:right;\\\">6.81</td> <td class=\\\"cell-15\\\" style=\\\"text-align:right;\\\">24.403</td> <td class=\\\"cell-16\\\" style=\\\"text-align:right;\\\">85.52379</td> <td class=\\\"cell-17\\\" style=\\\"text-align:right;\\\">7.289786</td> <td class=\\\"cell-18\\\" style=\\\"text-align:right;\\\">-2,865,693,599.142038</td> <td class=\\\"cell-19\\\" style=\\\"text-align:right;\\\">6,361</td> <td class=\\\"cell-20\\\" style=\\\"text-align:right;\\\">1</td> <td class=\\\"cell-21\\\" style=\\\"text-align:right;\\\">101.091</td></tr>\\n<tr><td class=\\\"cell-1\\\" style=\\\"\\\">2017-11-28T13:00:00</td> <td class=\\\"cell-2\\\" style=\\\"text-align:right;\\\">2,017</td> <td class=\\\"cell-3\\\" style=\\\"text-align:right;\\\">11</td> <td class=\\\"cell-4\\\" style=\\\"text-align:right;\\\">28</td> <td class=\\\"cell-5\\\" style=\\\"text-align:right;\\\">13</td> <td class=\\\"cell-6\\\" style=\\\"\\\">seconds</td> <td class=\\\"cell-7\\\" style=\\\"text-align:right;\\\">23,715</td> <td class=\\\"cell-8\\\" style=\\\"text-align:right;\\\">19.483</td> <td class=\\\"cell-9\\\" style=\\\"text-align:right;\\\">11.248</td> <td class=\\\"cell-10\\\" style=\\\"text-align:right;\\\">28.709</td> <td class=\\\"cell-11\\\" style=\\\"text-align:right;\\\">824,202.135</td> <td class=\\\"cell-12\\\" style=\\\"text-align:right;\\\">0.001</td> <td class=\\\"cell-13\\\" style=\\\"text-align:right;\\\">547.827</td> <td class=\\\"cell-14\\\" style=\\\"text-align:right;\\\">6.499</td> <td class=\\\"cell-15\\\" style=\\\"text-align:right;\\\">22.452</td> <td class=\\\"cell-16\\\" style=\\\"text-align:right;\\\">83.747322</td> <td class=\\\"cell-17\\\" style=\\\"text-align:right;\\\">7.32673</td> <td class=\\\"cell-18\\\" style=\\\"text-align:right;\\\">-4,802,705,750.507926</td> <td class=\\\"cell-19\\\" style=\\\"text-align:right;\\\">7,176</td> <td class=\\\"cell-20\\\" style=\\\"text-align:right;\\\">1</td> <td class=\\\"cell-21\\\" style=\\\"text-align:right;\\\">97.375</td></tr>\\n<tr><td class=\\\"cell-1\\\" style=\\\"\\\">2017-11-28T14:00:00</td> <td class=\\\"cell-2\\\" style=\\\"text-align:right;\\\">2,017</td> <td class=\\\"cell-3\\\" style=\\\"text-align:right;\\\">11</td> <td class=\\\"cell-4\\\" style=\\\"text-align:right;\\\">28</td> <td class=\\\"cell-5\\\" style=\\\"text-align:right;\\\">14</td> <td class=\\\"cell-6\\\" style=\\\"\\\">seconds</td> <td class=\\\"cell-7\\\" style=\\\"text-align:right;\\\">25,646</td> <td class=\\\"cell-8\\\" style=\\\"text-align:right;\\\">19.209</td> <td class=\\\"cell-9\\\" style=\\\"text-align:right;\\\">10.938</td> <td class=\\\"cell-10\\\" style=\\\"text-align:right;\\\">28.591</td> <td class=\\\"cell-11\\\" style=\\\"text-align:right;\\\">817,455.081</td> <td class=\\\"cell-12\\\" style=\\\"text-align:right;\\\">0.888</td> <td class=\\\"cell-13\\\" style=\\\"text-align:right;\\\">583.299</td> <td class=\\\"cell-14\\\" style=\\\"text-align:right;\\\">6.356</td> <td class=\\\"cell-15\\\" style=\\\"text-align:right;\\\">21.946</td> <td class=\\\"cell-16\\\" style=\\\"text-align:right;\\\">90.079693</td> <td class=\\\"cell-17\\\" style=\\\"text-align:right;\\\">7.432544</td> <td class=\\\"cell-18\\\" style=\\\"text-align:right;\\\">-5,118,243,914.094378</td> <td class=\\\"cell-19\\\" style=\\\"text-align:right;\\\">5,328</td> <td class=\\\"cell-20\\\" style=\\\"text-align:right;\\\">1</td> <td class=\\\"cell-21\\\" style=\\\"text-align:right;\\\">96.711</td></tr>\\n<tr><td class=\\\"cell-1\\\" style=\\\"\\\">2017-11-28T15:00:00</td> <td class=\\\"cell-2\\\" style=\\\"text-align:right;\\\">2,017</td> <td class=\\\"cell-3\\\" style=\\\"text-align:right;\\\">11</td> <td class=\\\"cell-4\\\" style=\\\"text-align:right;\\\">28</td> <td class=\\\"cell-5\\\" style=\\\"text-align:right;\\\">15</td> <td class=\\\"cell-6\\\" style=\\\"\\\">seconds</td> <td class=\\\"cell-7\\\" style=\\\"text-align:right;\\\">23,645</td> <td class=\\\"cell-8\\\" style=\\\"text-align:right;\\\">18.643</td> <td class=\\\"cell-9\\\" style=\\\"text-align:right;\\\">10.301</td> <td class=\\\"cell-10\\\" style=\\\"text-align:right;\\\">28.819</td> <td class=\\\"cell-11\\\" style=\\\"text-align:right;\\\">830,520.897</td> <td class=\\\"cell-12\\\" style=\\\"text-align:right;\\\">0.773</td> <td class=\\\"cell-13\\\" style=\\\"text-align:right;\\\">594.584</td> <td class=\\\"cell-14\\\" style=\\\"text-align:right;\\\">6.069</td> <td class=\\\"cell-15\\\" style=\\\"text-align:right;\\\">21.267</td> <td class=\\\"cell-16\\\" style=\\\"text-align:right;\\\">110.180166</td> <td class=\\\"cell-17\\\" style=\\\"text-align:right;\\\">8.231683</td> <td class=\\\"cell-18\\\" style=\\\"text-align:right;\\\">-4,574,373,977.461535</td> <td class=\\\"cell-19\\\" style=\\\"text-align:right;\\\">5,558</td> <td class=\\\"cell-20\\\" style=\\\"text-align:right;\\\">1</td> <td class=\\\"cell-21\\\" style=\\\"text-align:right;\\\">96.758</td></tr>\\n<tr><td class=\\\"cell-1\\\" style=\\\"\\\">2017-11-28T16:00:00</td> <td class=\\\"cell-2\\\" style=\\\"text-align:right;\\\">2,017</td> <td class=\\\"cell-3\\\" style=\\\"text-align:right;\\\">11</td> <td class=\\\"cell-4\\\" style=\\\"text-align:right;\\\">28</td> <td class=\\\"cell-5\\\" style=\\\"text-align:right;\\\">16</td> <td class=\\\"cell-6\\\" style=\\\"\\\">seconds</td> <td class=\\\"cell-7\\\" style=\\\"text-align:right;\\\">22,623</td> <td class=\\\"cell-8\\\" style=\\\"text-align:right;\\\">18.332</td> <td class=\\\"cell-9\\\" style=\\\"text-align:right;\\\">10.239</td> <td class=\\\"cell-10\\\" style=\\\"text-align:right;\\\">28.256</td> <td class=\\\"cell-11\\\" style=\\\"text-align:right;\\\">798,404.768</td> <td class=\\\"cell-12\\\" style=\\\"text-align:right;\\\">0.713</td> <td class=\\\"cell-13\\\" style=\\\"text-align:right;\\\">593.882</td> <td class=\\\"cell-14\\\" style=\\\"text-align:right;\\\">5.964</td> <td class=\\\"cell-15\\\" style=\\\"text-align:right;\\\">20.896</td> <td class=\\\"cell-16\\\" style=\\\"text-align:right;\\\">106.826483</td> <td class=\\\"cell-17\\\" style=\\\"text-align:right;\\\">8.134146</td> <td class=\\\"cell-18\\\" style=\\\"text-align:right;\\\">-4,295,525,212.086632</td> <td class=\\\"cell-19\\\" style=\\\"text-align:right;\\\">6,343</td> <td class=\\\"cell-20\\\" style=\\\"text-align:right;\\\">1</td> <td class=\\\"cell-21\\\" style=\\\"text-align:right;\\\">95.007</td></tr>\\n    \\n    <tr><td class=\\\"cell-1\\\" style=\\\"\\\">2017-11-28T17:00:00</td> <td class=\\\"cell-2\\\" style=\\\"text-align:right;\\\">2,017</td> <td class=\\\"cell-3\\\" style=\\\"text-align:right;\\\">11</td> <td class=\\\"cell-4\\\" style=\\\"text-align:right;\\\">28</td> <td class=\\\"cell-5\\\" style=\\\"text-align:right;\\\">17</td> <td class=\\\"cell-6\\\" style=\\\"\\\">seconds</td> <td class=\\\"cell-7\\\" style=\\\"text-align:right;\\\">21,581</td> <td class=\\\"cell-8\\\" style=\\\"text-align:right;\\\">17.761</td> <td class=\\\"cell-9\\\" style=\\\"text-align:right;\\\">10.039</td> <td class=\\\"cell-10\\\" style=\\\"text-align:right;\\\">25.538</td> <td class=\\\"cell-11\\\" style=\\\"text-align:right;\\\">652,174.59</td> <td class=\\\"cell-12\\\" style=\\\"text-align:right;\\\">0.003</td> <td class=\\\"cell-13\\\" style=\\\"text-align:right;\\\">595.984</td> <td class=\\\"cell-14\\\" style=\\\"text-align:right;\\\">5.89</td> <td class=\\\"cell-15\\\" style=\\\"text-align:right;\\\">20.397</td> <td class=\\\"cell-16\\\" style=\\\"text-align:right;\\\">94.662363</td> <td class=\\\"cell-17\\\" style=\\\"text-align:right;\\\">7.30741</td> <td class=\\\"cell-18\\\" style=\\\"text-align:right;\\\">-3,948,129,562.482722</td> <td class=\\\"cell-19\\\" style=\\\"text-align:right;\\\">5,118</td> <td class=\\\"cell-20\\\" style=\\\"text-align:right;\\\">1</td> <td class=\\\"cell-21\\\" style=\\\"text-align:right;\\\">86.653</td></tr>\\n<tr><td class=\\\"cell-1\\\" style=\\\"\\\">2017-11-28T18:00:00</td> <td class=\\\"cell-2\\\" style=\\\"text-align:right;\\\">2,017</td> <td class=\\\"cell-3\\\" style=\\\"text-align:right;\\\">11</td> <td class=\\\"cell-4\\\" style=\\\"text-align:right;\\\">28</td> <td class=\\\"cell-5\\\" style=\\\"text-align:right;\\\">18</td> <td class=\\\"cell-6\\\" style=\\\"\\\">seconds</td> <td class=\\\"cell-7\\\" style=\\\"text-align:right;\\\">19,939</td> <td class=\\\"cell-8\\\" style=\\\"text-align:right;\\\">18.043</td> <td class=\\\"cell-9\\\" style=\\\"text-align:right;\\\">9.965</td> <td class=\\\"cell-10\\\" style=\\\"text-align:right;\\\">27.497</td> <td class=\\\"cell-11\\\" style=\\\"text-align:right;\\\">756,078.861</td> <td class=\\\"cell-12\\\" style=\\\"text-align:right;\\\">0.164</td> <td class=\\\"cell-13\\\" style=\\\"text-align:right;\\\">568.188</td> <td class=\\\"cell-14\\\" style=\\\"text-align:right;\\\">5.876</td> <td class=\\\"cell-15\\\" style=\\\"text-align:right;\\\">20.062</td> <td class=\\\"cell-16\\\" style=\\\"text-align:right;\\\">92.356364</td> <td class=\\\"cell-17\\\" style=\\\"text-align:right;\\\">7.488628</td> <td class=\\\"cell-18\\\" style=\\\"text-align:right;\\\">-3,722,630,461.112288</td> <td class=\\\"cell-19\\\" style=\\\"text-align:right;\\\">5,353</td> <td class=\\\"cell-20\\\" style=\\\"text-align:right;\\\">1</td> <td class=\\\"cell-21\\\" style=\\\"text-align:right;\\\">92.456</td></tr>\\n<tr><td class=\\\"cell-1\\\" style=\\\"\\\">2017-11-28T19:00:00</td> <td class=\\\"cell-2\\\" style=\\\"text-align:right;\\\">2,017</td> <td class=\\\"cell-3\\\" style=\\\"text-align:right;\\\">11</td> <td class=\\\"cell-4\\\" style=\\\"text-align:right;\\\">28</td> <td class=\\\"cell-5\\\" style=\\\"text-align:right;\\\">19</td> <td class=\\\"cell-6\\\" style=\\\"\\\">seconds</td> <td class=\\\"cell-7\\\" style=\\\"text-align:right;\\\">19,473</td> <td class=\\\"cell-8\\\" style=\\\"text-align:right;\\\">17.812</td> <td class=\\\"cell-9\\\" style=\\\"text-align:right;\\\">9.832</td> <td class=\\\"cell-10\\\" style=\\\"text-align:right;\\\">27.586</td> <td class=\\\"cell-11\\\" style=\\\"text-align:right;\\\">760,963.839</td> <td class=\\\"cell-12\\\" style=\\\"text-align:right;\\\">0.888</td> <td class=\\\"cell-13\\\" style=\\\"text-align:right;\\\">587.468</td> <td class=\\\"cell-14\\\" style=\\\"text-align:right;\\\">5.783</td> <td class=\\\"cell-15\\\" style=\\\"text-align:right;\\\">20.201</td> <td class=\\\"cell-16\\\" style=\\\"text-align:right;\\\">109.04721</td> <td class=\\\"cell-17\\\" style=\\\"text-align:right;\\\">8.216459</td> <td class=\\\"cell-18\\\" style=\\\"text-align:right;\\\">-3,583,941,773.914464</td> <td class=\\\"cell-19\\\" style=\\\"text-align:right;\\\">7,138</td> <td class=\\\"cell-20\\\" style=\\\"text-align:right;\\\">1</td> <td class=\\\"cell-21\\\" style=\\\"text-align:right;\\\">92.59</td></tr>\\n<tr><td class=\\\"cell-1\\\" style=\\\"\\\">2017-11-28T20:00:00</td> <td class=\\\"cell-2\\\" style=\\\"text-align:right;\\\">2,017</td> <td class=\\\"cell-3\\\" style=\\\"text-align:right;\\\">11</td> <td class=\\\"cell-4\\\" style=\\\"text-align:right;\\\">28</td> <td class=\\\"cell-5\\\" style=\\\"text-align:right;\\\">20</td> <td class=\\\"cell-6\\\" style=\\\"\\\">seconds</td> <td class=\\\"cell-7\\\" style=\\\"text-align:right;\\\">19,608</td> <td class=\\\"cell-8\\\" style=\\\"text-align:right;\\\">17.518</td> <td class=\\\"cell-9\\\" style=\\\"text-align:right;\\\">9.842</td> <td class=\\\"cell-10\\\" style=\\\"text-align:right;\\\">25.72</td> <td class=\\\"cell-11\\\" style=\\\"text-align:right;\\\">661,533.011</td> <td class=\\\"cell-12\\\" style=\\\"text-align:right;\\\">0.698</td> <td class=\\\"cell-13\\\" style=\\\"text-align:right;\\\">599.833</td> <td class=\\\"cell-14\\\" style=\\\"text-align:right;\\\">5.817</td> <td class=\\\"cell-15\\\" style=\\\"text-align:right;\\\">19.986</td> <td class=\\\"cell-16\\\" style=\\\"text-align:right;\\\">108.13294</td> <td class=\\\"cell-17\\\" style=\\\"text-align:right;\\\">7.80025</td> <td class=\\\"cell-18\\\" style=\\\"text-align:right;\\\">-3,535,358,999.156096</td> <td class=\\\"cell-19\\\" style=\\\"text-align:right;\\\">5,590</td> <td class=\\\"cell-20\\\" style=\\\"text-align:right;\\\">1</td> <td class=\\\"cell-21\\\" style=\\\"text-align:right;\\\">87.002</td></tr>\\n<tr><td class=\\\"cell-1\\\" style=\\\"\\\">2017-11-28T21:00:00</td> <td class=\\\"cell-2\\\" style=\\\"text-align:right;\\\">2,017</td> <td class=\\\"cell-3\\\" style=\\\"text-align:right;\\\">11</td> <td class=\\\"cell-4\\\" style=\\\"text-align:right;\\\">28</td> <td class=\\\"cell-5\\\" style=\\\"text-align:right;\\\">21</td> <td class=\\\"cell-6\\\" style=\\\"\\\">seconds</td> <td class=\\\"cell-7\\\" style=\\\"text-align:right;\\\">18,364</td> <td class=\\\"cell-8\\\" style=\\\"text-align:right;\\\">17.81</td> <td class=\\\"cell-9\\\" style=\\\"text-align:right;\\\">10.111</td> <td class=\\\"cell-10\\\" style=\\\"text-align:right;\\\">27.163</td> <td class=\\\"cell-11\\\" style=\\\"text-align:right;\\\">737,809.917</td> <td class=\\\"cell-12\\\" style=\\\"text-align:right;\\\">0.914</td> <td class=\\\"cell-13\\\" style=\\\"text-align:right;\\\">585.322</td> <td class=\\\"cell-14\\\" style=\\\"text-align:right;\\\">5.934</td> <td class=\\\"cell-15\\\" style=\\\"text-align:right;\\\">20.333</td> <td class=\\\"cell-16\\\" style=\\\"text-align:right;\\\">102.472896</td> <td class=\\\"cell-17\\\" style=\\\"text-align:right;\\\">8.000132</td> <td class=\\\"cell-18\\\" style=\\\"text-align:right;\\\">-3,374,888,039.268781</td> <td class=\\\"cell-19\\\" style=\\\"text-align:right;\\\">6,657</td> <td class=\\\"cell-20\\\" style=\\\"text-align:right;\\\">1</td> <td class=\\\"cell-21\\\" style=\\\"text-align:right;\\\">91.6</td></tr>\\n    </tbody>\\n\")"
      ]
     },
     "metadata": {},
     "output_type": "display_data"
    }
   ],
   "source": [
    "# Todo Convert to UTC, improve\n",
    "AllStatsDF = createAllStatsDF(TV,UP)\n",
    ";   "
   ]
  },
  {
   "cell_type": "code",
   "execution_count": 10,
   "metadata": {
    "collapsed": false,
    "input_collapsed": false,
    "scrolled": false
   },
   "outputs": [
    {
     "data": {
      "text/html": [
       "<div class=\"dswbOutputText\"><h1 class=\"chart_title\" style=\"color:#ccc\">News Article Page Group</h1><h5 class=\"chart_lastCalled\" style=\"color:#ccc\">Run at November 29, 2017 12:28:29</h5></div>"
      ]
     },
     "metadata": {},
     "output_type": "display_data"
    },
    {
     "data": {
      "text/html": [
       "    <iframe id=\"timeSeries-XCKLCZPDMZHGXVTDOAJVLIPRKKVWLHQN\" class=\"dswbiframe\" width=\"100%\" height=\"600\" src=\"about:blank\" scrolling=\"no\"></iframe>\n",
       "    <script>\n",
       "    (function() {\n",
       "        var iframe = document.getElementById(\"timeSeries-XCKLCZPDMZHGXVTDOAJVLIPRKKVWLHQN\");\n",
       "        iframe.timeSeriesRendererLoaded = function(runner) {\n",
       "            iframe.runner = runner;\n",
       "            iframe.runner([[\"x\",\"November 28, 2017 11:00:00\",\"November 28, 2017 12:00:00\",\"November 28, 2017 13:00:00\",\"November 28, 2017 14:00:00\",\"November 28, 2017 15:00:00\",\"November 28, 2017 16:00:00\",\"November 28, 2017 17:00:00\",\"November 28, 2017 18:00:00\",\"November 28, 2017 19:00:00\",\"November 28, 2017 20:00:00\",\"November 28, 2017 21:00:00\"],[\"data1\",20.986,20.748,19.483,19.209,18.643,18.332,17.761,18.043,17.812,17.518,17.81],[\"data2\",12.421,12.447,11.248,10.938,10.301,10.239,10.039,9.965,9.832,9.842,10.111],[\"data3\",31.624,29.548,28.709,28.591,28.819,28.256,25.538,27.497,27.586,25.72,27.163]],\n",
       "                [\"Mean\",\"Median\",\"Standard Deviation\"],\n",
       "                [\"Mean\",\"Median\",\"Standard Dev\"],\n",
       "                [\"line\",\"line\",\"line\"],\n",
       "                [\"hsla(214, 86%, 60%, 0.9)\",\"hsla(130, 61%, 50%, 0.9)\",\"hsla(35, 100%, 50%, 0.9)\",\"hsla(0, 100%, 60%, 0.9)\",\"hsla(207, 34%, 49%, 0.9)\",\"hsla(80, 61%, 50%, 0.9)\",\"hsla(181, 72%, 56%, 0.9)\",\"hsla(330, 100%, 71%, 0.9)\",\"hsla(55, 74%, 68%, 0.9)\",\"hsla(116, 26%, 64%, 0.9)\",\"hsla(34, 49%, 65%, 0.9)\",\"hsla(197, 70%, 73%, 0.9)\",\"hsla(300, 47%, 74%, 0.9)\",\"hsla(28, 100%, 86%, 0.9)\",\"hsla(181, 26%, 50%, 0.9)\",\"hsla(17, 100%, 74%, 0.9)\"],\n",
       "                [],\n",
       "                [],\n",
       "                \"\",\n",
       "                [],\n",
       "                {}\n",
       "            );\n",
       "        }\n",
       "        iframe.src = \"/static/graphs/templates/c3Viz_template.html#id=timeSeries-XCKLCZPDMZHGXVTDOAJVLIPRKKVWLHQN\";\n",
       "    }());\n",
       "    </script>\n"
      ]
     },
     "metadata": {},
     "output_type": "display_data"
    }
   ],
   "source": [
    "drawC3VizConverter(UP,AllStatsDF;graphType=1)\n",
    ";"
   ]
  },
  {
   "cell_type": "code",
   "execution_count": 11,
   "metadata": {
    "collapsed": false,
    "input_collapsed": false
   },
   "outputs": [
    {
     "data": {
      "text/html": [
       "<div class=\"dswbOutputText\"><h1 class=\"chart_title\" style=\"color:#ccc\">News Article Page Group</h1><h5 class=\"chart_lastCalled\" style=\"color:#ccc\">Run at November 29, 2017 12:28:36</h5></div>"
      ]
     },
     "metadata": {},
     "output_type": "display_data"
    },
    {
     "data": {
      "text/html": [
       "    <iframe id=\"timeSeries-MFBXYRVFLZJHNTPGPCSGVBGTEYZDDOPK\" class=\"dswbiframe\" width=\"100%\" height=\"600\" src=\"about:blank\" scrolling=\"no\"></iframe>\n",
       "    <script>\n",
       "    (function() {\n",
       "        var iframe = document.getElementById(\"timeSeries-MFBXYRVFLZJHNTPGPCSGVBGTEYZDDOPK\");\n",
       "        iframe.timeSeriesRendererLoaded = function(runner) {\n",
       "            iframe.runner = runner;\n",
       "            iframe.runner([[\"x\",\"November 28, 2017 11:00:00\",\"November 28, 2017 12:00:00\",\"November 28, 2017 13:00:00\",\"November 28, 2017 14:00:00\",\"November 28, 2017 15:00:00\",\"November 28, 2017 16:00:00\",\"November 28, 2017 17:00:00\",\"November 28, 2017 18:00:00\",\"November 28, 2017 19:00:00\",\"November 28, 2017 20:00:00\",\"November 28, 2017 21:00:00\"],[\"data1\",6.824,6.81,6.499,6.356,6.069,5.964,5.89,5.876,5.783,5.817,5.934],[\"data2\",12.421,12.447,11.248,10.938,10.301,10.239,10.039,9.965,9.832,9.842,10.111],[\"data3\",23.942,24.403,22.452,21.946,21.267,20.896,20.397,20.062,20.201,19.986,20.333]],\n",
       "                [\"Q25\",\"Q50\",\"Q75\"],\n",
       "                [\"Seconds\"],\n",
       "                [\"line\",\"line\"],\n",
       "                [\"hsla(214, 86%, 60%, 0.9)\",\"hsla(130, 61%, 50%, 0.9)\",\"hsla(35, 100%, 50%, 0.9)\",\"hsla(0, 100%, 60%, 0.9)\",\"hsla(207, 34%, 49%, 0.9)\",\"hsla(80, 61%, 50%, 0.9)\",\"hsla(181, 72%, 56%, 0.9)\",\"hsla(330, 100%, 71%, 0.9)\",\"hsla(55, 74%, 68%, 0.9)\",\"hsla(116, 26%, 64%, 0.9)\",\"hsla(34, 49%, 65%, 0.9)\",\"hsla(197, 70%, 73%, 0.9)\",\"hsla(300, 47%, 74%, 0.9)\",\"hsla(28, 100%, 86%, 0.9)\",\"hsla(181, 26%, 50%, 0.9)\",\"hsla(17, 100%, 74%, 0.9)\"],\n",
       "                [],\n",
       "                [],\n",
       "                \"\",\n",
       "                [],\n",
       "                {}\n",
       "            );\n",
       "        }\n",
       "        iframe.src = \"/static/graphs/templates/c3Viz_template.html#id=timeSeries-MFBXYRVFLZJHNTPGPCSGVBGTEYZDDOPK\";\n",
       "    }());\n",
       "    </script>\n"
      ]
     },
     "metadata": {},
     "output_type": "display_data"
    }
   ],
   "source": [
    "drawC3VizConverter(UP,AllStatsDF;graphType=2)\n",
    ";"
   ]
  },
  {
   "cell_type": "code",
   "execution_count": 12,
   "metadata": {
    "collapsed": false,
    "input_collapsed": false
   },
   "outputs": [
    {
     "data": {
      "text/html": [
       "<div class=\"dswbOutputText\"><h1 class=\"chart_title\" style=\"color:#ccc\">News Article Page Group</h1><h5 class=\"chart_lastCalled\" style=\"color:#ccc\">Run at November 29, 2017 12:28:43</h5></div>"
      ]
     },
     "metadata": {},
     "output_type": "display_data"
    },
    {
     "data": {
      "text/html": [
       "    <iframe id=\"timeSeries-FPRKOBVWVGQRVAMBBJEIXCEXYXOLOBRK\" class=\"dswbiframe\" width=\"100%\" height=\"600\" src=\"about:blank\" scrolling=\"no\"></iframe>\n",
       "    <script>\n",
       "    (function() {\n",
       "        var iframe = document.getElementById(\"timeSeries-FPRKOBVWVGQRVAMBBJEIXCEXYXOLOBRK\");\n",
       "        iframe.timeSeriesRendererLoaded = function(runner) {\n",
       "            iframe.runner = runner;\n",
       "            iframe.runner([[\"x\",\"November 28, 2017 11:00:00\",\"November 28, 2017 12:00:00\",\"November 28, 2017 13:00:00\",\"November 28, 2017 14:00:00\",\"November 28, 2017 15:00:00\",\"November 28, 2017 16:00:00\",\"November 28, 2017 17:00:00\",\"November 28, 2017 18:00:00\",\"November 28, 2017 19:00:00\",\"November 28, 2017 20:00:00\",\"November 28, 2017 21:00:00\"],[\"data1\",86.47234964117223,85.52379033419366,83.74732199261841,90.0796933035336,110.18016551806015,106.8264826178644,94.66236328602872,92.35636401673776,109.04721046329395,108.13293958425454,102.47289636630667]],\n",
       "                [\"Kurtosis\"],\n",
       "                [\"Seconds\"],\n",
       "                [\"line\"],\n",
       "                [\"hsla(214, 86%, 60%, 0.9)\",\"hsla(130, 61%, 50%, 0.9)\",\"hsla(35, 100%, 50%, 0.9)\",\"hsla(0, 100%, 60%, 0.9)\",\"hsla(207, 34%, 49%, 0.9)\",\"hsla(80, 61%, 50%, 0.9)\",\"hsla(181, 72%, 56%, 0.9)\",\"hsla(330, 100%, 71%, 0.9)\",\"hsla(55, 74%, 68%, 0.9)\",\"hsla(116, 26%, 64%, 0.9)\",\"hsla(34, 49%, 65%, 0.9)\",\"hsla(197, 70%, 73%, 0.9)\",\"hsla(300, 47%, 74%, 0.9)\",\"hsla(28, 100%, 86%, 0.9)\",\"hsla(181, 26%, 50%, 0.9)\",\"hsla(17, 100%, 74%, 0.9)\"],\n",
       "                [],\n",
       "                [],\n",
       "                \"\",\n",
       "                [],\n",
       "                {}\n",
       "            );\n",
       "        }\n",
       "        iframe.src = \"/static/graphs/templates/c3Viz_template.html#id=timeSeries-FPRKOBVWVGQRVAMBBJEIXCEXYXOLOBRK\";\n",
       "    }());\n",
       "    </script>\n"
      ]
     },
     "metadata": {},
     "output_type": "display_data"
    }
   ],
   "source": [
    "drawC3VizConverter(UP,AllStatsDF;graphType=3)\n",
    ";"
   ]
  },
  {
   "cell_type": "code",
   "execution_count": 13,
   "metadata": {
    "collapsed": false,
    "input_collapsed": false
   },
   "outputs": [
    {
     "data": {
      "text/html": [
       "<div class=\"dswbOutputText\"><h1 class=\"chart_title\" style=\"color:#ccc\">News Article Page Group</h1><h5 class=\"chart_lastCalled\" style=\"color:#ccc\">Run at November 29, 2017 12:28:49</h5></div>"
      ]
     },
     "metadata": {},
     "output_type": "display_data"
    },
    {
     "data": {
      "text/html": [
       "    <iframe id=\"timeSeries-SMCGGCENLQVOGEOIVBRWBSSACTBCQKMN\" class=\"dswbiframe\" width=\"100%\" height=\"600\" src=\"about:blank\" scrolling=\"no\"></iframe>\n",
       "    <script>\n",
       "    (function() {\n",
       "        var iframe = document.getElementById(\"timeSeries-SMCGGCENLQVOGEOIVBRWBSSACTBCQKMN\");\n",
       "        iframe.timeSeriesRendererLoaded = function(runner) {\n",
       "            iframe.runner = runner;\n",
       "            iframe.runner([[\"x\",\"November 28, 2017 11:00:00\",\"November 28, 2017 12:00:00\",\"November 28, 2017 13:00:00\",\"November 28, 2017 14:00:00\",\"November 28, 2017 15:00:00\",\"November 28, 2017 16:00:00\",\"November 28, 2017 17:00:00\",\"November 28, 2017 18:00:00\",\"November 28, 2017 19:00:00\",\"November 28, 2017 20:00:00\",\"November 28, 2017 21:00:00\"],[\"data1\",7.539698655501524,7.289785977399342,7.3267303409969875,7.432543882697241,8.231682520256777,8.134146116735513,7.307410400620869,7.4886277324361705,8.21645938625082,7.800249654977801,8.000131973142809]],\n",
       "                [\"Skewness\"],\n",
       "                [\"Seconds\"],\n",
       "                [\"line\"],\n",
       "                [\"hsla(214, 86%, 60%, 0.9)\",\"hsla(130, 61%, 50%, 0.9)\",\"hsla(35, 100%, 50%, 0.9)\",\"hsla(0, 100%, 60%, 0.9)\",\"hsla(207, 34%, 49%, 0.9)\",\"hsla(80, 61%, 50%, 0.9)\",\"hsla(181, 72%, 56%, 0.9)\",\"hsla(330, 100%, 71%, 0.9)\",\"hsla(55, 74%, 68%, 0.9)\",\"hsla(116, 26%, 64%, 0.9)\",\"hsla(34, 49%, 65%, 0.9)\",\"hsla(197, 70%, 73%, 0.9)\",\"hsla(300, 47%, 74%, 0.9)\",\"hsla(28, 100%, 86%, 0.9)\",\"hsla(181, 26%, 50%, 0.9)\",\"hsla(17, 100%, 74%, 0.9)\"],\n",
       "                [],\n",
       "                [],\n",
       "                \"\",\n",
       "                [],\n",
       "                {}\n",
       "            );\n",
       "        }\n",
       "        iframe.src = \"/static/graphs/templates/c3Viz_template.html#id=timeSeries-SMCGGCENLQVOGEOIVBRWBSSACTBCQKMN\";\n",
       "    }());\n",
       "    </script>\n"
      ]
     },
     "metadata": {},
     "output_type": "display_data"
    }
   ],
   "source": [
    "drawC3VizConverter(UP,AllStatsDF;graphType=4)\n",
    ";"
   ]
  },
  {
   "cell_type": "code",
   "execution_count": 14,
   "metadata": {
    "collapsed": false,
    "input_collapsed": false
   },
   "outputs": [
    {
     "data": {
      "text/html": [
       "<div class=\"dswbOutputText\"><h1 class=\"chart_title\" style=\"color:#ccc\">News Article Page Group</h1><h5 class=\"chart_lastCalled\" style=\"color:#ccc\">Run at November 29, 2017 12:28:57</h5></div>"
      ]
     },
     "metadata": {},
     "output_type": "display_data"
    },
    {
     "data": {
      "text/html": [
       "    <iframe id=\"timeSeries-QCDCNSSWVIHXUOBBJICCBUCYQZQQKBUM\" class=\"dswbiframe\" width=\"100%\" height=\"600\" src=\"about:blank\" scrolling=\"no\"></iframe>\n",
       "    <script>\n",
       "    (function() {\n",
       "        var iframe = document.getElementById(\"timeSeries-QCDCNSSWVIHXUOBBJICCBUCYQZQQKBUM\");\n",
       "        iframe.timeSeriesRendererLoaded = function(runner) {\n",
       "            iframe.runner = runner;\n",
       "            iframe.runner([[\"x\",\"November 28, 2017 11:00:00\",\"November 28, 2017 12:00:00\",\"November 28, 2017 13:00:00\",\"November 28, 2017 14:00:00\",\"November 28, 2017 15:00:00\",\"November 28, 2017 16:00:00\",\"November 28, 2017 17:00:00\",\"November 28, 2017 18:00:00\",\"November 28, 2017 19:00:00\",\"November 28, 2017 20:00:00\",\"November 28, 2017 21:00:00\"],[\"data1\",-1.5270794982152054e9,-2.8656935991420426e9,-4.802705750507905e9,-5.11824391409437e9,-4.5743739774615345e9,-4.295525212086631e9,-3.948129562482724e9,-3.7226304611122904e9,-3.583941773914456e9,-3.5353589991560817e9,-3.374888039268777e9]],\n",
       "                [\"Entropy\"],\n",
       "                [\"Seconds\"],\n",
       "                [\"line\"],\n",
       "                [\"hsla(214, 86%, 60%, 0.9)\",\"hsla(130, 61%, 50%, 0.9)\",\"hsla(35, 100%, 50%, 0.9)\",\"hsla(0, 100%, 60%, 0.9)\",\"hsla(207, 34%, 49%, 0.9)\",\"hsla(80, 61%, 50%, 0.9)\",\"hsla(181, 72%, 56%, 0.9)\",\"hsla(330, 100%, 71%, 0.9)\",\"hsla(55, 74%, 68%, 0.9)\",\"hsla(116, 26%, 64%, 0.9)\",\"hsla(34, 49%, 65%, 0.9)\",\"hsla(197, 70%, 73%, 0.9)\",\"hsla(300, 47%, 74%, 0.9)\",\"hsla(28, 100%, 86%, 0.9)\",\"hsla(181, 26%, 50%, 0.9)\",\"hsla(17, 100%, 74%, 0.9)\"],\n",
       "                [],\n",
       "                [],\n",
       "                \"\",\n",
       "                [],\n",
       "                {}\n",
       "            );\n",
       "        }\n",
       "        iframe.src = \"/static/graphs/templates/c3Viz_template.html#id=timeSeries-QCDCNSSWVIHXUOBBJICCBUCYQZQQKBUM\";\n",
       "    }());\n",
       "    </script>\n"
      ]
     },
     "metadata": {},
     "output_type": "display_data"
    }
   ],
   "source": [
    "drawC3VizConverter(UP,AllStatsDF;graphType=5)\n",
    ";"
   ]
  },
  {
   "cell_type": "code",
   "execution_count": 15,
   "metadata": {
    "collapsed": false,
    "input_collapsed": false
   },
   "outputs": [
    {
     "data": {
      "text/html": [
       "<div class=\"dswbOutputText\"><h1 class=\"chart_title\" style=\"color:#ccc\">News Article Page Group</h1><h5 class=\"chart_lastCalled\" style=\"color:#ccc\">Run at November 29, 2017 12:29:02</h5></div>"
      ]
     },
     "metadata": {},
     "output_type": "display_data"
    },
    {
     "data": {
      "text/html": [
       "    <iframe id=\"timeSeries-HIBCNORBSQSXJOPVJWPHKIDFWIRBVQCB\" class=\"dswbiframe\" width=\"100%\" height=\"600\" src=\"about:blank\" scrolling=\"no\"></iframe>\n",
       "    <script>\n",
       "    (function() {\n",
       "        var iframe = document.getElementById(\"timeSeries-HIBCNORBSQSXJOPVJWPHKIDFWIRBVQCB\");\n",
       "        iframe.timeSeriesRendererLoaded = function(runner) {\n",
       "            iframe.runner = runner;\n",
       "            iframe.runner([[\"x\",\"November 28, 2017 11:00:00\",\"November 28, 2017 12:00:00\",\"November 28, 2017 13:00:00\",\"November 28, 2017 14:00:00\",\"November 28, 2017 15:00:00\",\"November 28, 2017 16:00:00\",\"November 28, 2017 17:00:00\",\"November 28, 2017 18:00:00\",\"November 28, 2017 19:00:00\",\"November 28, 2017 20:00:00\",\"November 28, 2017 21:00:00\"],[\"data1\",6753,6361,7176,5328,5558,6343,5118,5353,7138,5590,6657]],\n",
       "                [\"Modes\"],\n",
       "                [\"Seconds\"],\n",
       "                [\"line\"],\n",
       "                [\"hsla(214, 86%, 60%, 0.9)\",\"hsla(130, 61%, 50%, 0.9)\",\"hsla(35, 100%, 50%, 0.9)\",\"hsla(0, 100%, 60%, 0.9)\",\"hsla(207, 34%, 49%, 0.9)\",\"hsla(80, 61%, 50%, 0.9)\",\"hsla(181, 72%, 56%, 0.9)\",\"hsla(330, 100%, 71%, 0.9)\",\"hsla(55, 74%, 68%, 0.9)\",\"hsla(116, 26%, 64%, 0.9)\",\"hsla(34, 49%, 65%, 0.9)\",\"hsla(197, 70%, 73%, 0.9)\",\"hsla(300, 47%, 74%, 0.9)\",\"hsla(28, 100%, 86%, 0.9)\",\"hsla(181, 26%, 50%, 0.9)\",\"hsla(17, 100%, 74%, 0.9)\"],\n",
       "                [],\n",
       "                [],\n",
       "                \"\",\n",
       "                [],\n",
       "                {}\n",
       "            );\n",
       "        }\n",
       "        iframe.src = \"/static/graphs/templates/c3Viz_template.html#id=timeSeries-HIBCNORBSQSXJOPVJWPHKIDFWIRBVQCB\";\n",
       "    }());\n",
       "    </script>\n"
      ]
     },
     "metadata": {},
     "output_type": "display_data"
    }
   ],
   "source": [
    "drawC3VizConverter(UP,AllStatsDF;graphType=6)\n",
    ";"
   ]
  },
  {
   "cell_type": "code",
   "execution_count": 13,
   "metadata": {
    "collapsed": true,
    "input_collapsed": false
   },
   "outputs": [],
   "source": [
    "q = query(\"\"\" drop view if exists $(UP.btView);\"\"\")\n",
    "q = query(\"\"\" drop view if exists $(UP.rtView);\"\"\")\n",
    ";"
   ]
  }
 ],
 "metadata": {
  "chart_version": "1.0.0",
  "kernelspec": {
   "display_name": "Julia 0.4.7",
   "language": "julia",
   "name": "julia-0.4"
  },
  "language_info": {
   "file_extension": ".jl",
   "mimetype": "application/julia",
   "name": "julia",
   "version": "0.4.7"
  },
  "library_version": "1.0.0",
  "notebook_uuid": "dda3663d-0418-4a99-a9cf-97c5d1020c3f",
  "readOnly": false
 },
 "nbformat": 4,
 "nbformat_minor": 0
}
