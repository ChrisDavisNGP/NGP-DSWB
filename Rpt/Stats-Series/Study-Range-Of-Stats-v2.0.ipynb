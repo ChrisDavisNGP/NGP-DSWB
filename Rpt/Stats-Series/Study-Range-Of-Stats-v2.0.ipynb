{
 "cells": [
  {
   "cell_type": "markdown",
   "metadata": {},
   "source": [
    "## Tables and Data Source setup"
   ]
  },
  {
   "cell_type": "code",
   "execution_count": null,
   "metadata": {
    "collapsed": false,
    "input_collapsed": false,
    "scrolled": true
   },
   "outputs": [],
   "source": [
    "using ODBC\n",
    "using DataFrames\n",
    "using DSWB\n",
    "using Formatting\n",
    "using Distributions\n",
    "\n",
    "dsn = \"dswb-natgeo\" # Redshift endpoint\n",
    "table = \"beacons_4744\" # beacon table name\n",
    "tableRt = \"beacons_4744_rt\"\n",
    "\n",
    "# Connect to Beacon Data\n",
    "setRedshiftEndpoint(dsn)\n",
    "setTable(table)\n",
    "# setTable(tableRt, tableType = \"RESOURCE_TABLE\")\n",
    ";"
   ]
  },
  {
   "cell_type": "code",
   "execution_count": null,
   "metadata": {
    "collapsed": false,
    "input_collapsed": false
   },
   "outputs": [],
   "source": [
    "include(\"../../Lib/Include-Package-v2.1.jl\")\n",
    ";"
   ]
  },
  {
   "cell_type": "code",
   "execution_count": null,
   "metadata": {
    "collapsed": false,
    "input_collapsed": false
   },
   "outputs": [],
   "source": [
    "#TV = timeVariables(2017,6,8,2,0,2017,6,8,12,59)\n",
    "#TV = weeklyTimeVariables(days=1)\n",
    "TV = yesterdayTimeVariables()\n",
    ";"
   ]
  },
  {
   "cell_type": "code",
   "execution_count": null,
   "metadata": {
    "collapsed": false,
    "input_collapsed": false,
    "scrolled": true
   },
   "outputs": [],
   "source": [
    "UP = UrlParamsInit(\"Study_Range_Of_Stats\")\n",
    "UP.agentOs = \"%\"\n",
    "UP.deviceType = \"Mobile\"\n",
    "UP.pageGroup = \"News Article\"\n",
    "UP.timeLowerMs = 2000.0\n",
    "UP.timeUpperMs = 600000.0\n",
    "UP.urlRegEx = \"%\"\n",
    "\n",
    "SP = ShowParamsInit()\n",
    "SP.criticalPathOnly=true\n",
    "SP.devView=false\n",
    "SP.debugLevel = 10   # Tests use even numbers with > tests, make this an odd number or zero\n",
    "SP.showLines = 25\n",
    "ShowParamsValidate(SP)\n",
    ";\n"
   ]
  },
  {
   "cell_type": "code",
   "execution_count": null,
   "metadata": {
    "collapsed": false,
    "input_collapsed": false
   },
   "outputs": [],
   "source": [
    "defaultBeaconCreateView(TV,UP,SP)\n",
    "setTable(UP.btView)\n",
    ";"
   ]
  },
  {
   "cell_type": "code",
   "execution_count": null,
   "metadata": {
    "collapsed": false,
    "input_collapsed": false
   },
   "outputs": [],
   "source": [
    "rawStatsSROS(TV,UP)\n",
    ";"
   ]
  },
  {
   "cell_type": "code",
   "execution_count": null,
   "metadata": {
    "collapsed": false,
    "input_collapsed": false
   },
   "outputs": [],
   "source": [
    "# Todo Convert to UTC, improve\n",
    "AllStatsDF = createAllStatsDF(TV,UP)\n",
    ";   "
   ]
  },
  {
   "cell_type": "code",
   "execution_count": null,
   "metadata": {
    "collapsed": false,
    "input_collapsed": false,
    "scrolled": false
   },
   "outputs": [],
   "source": [
    "drawC3VizConverter(UP,AllStatsDF;graphType=1)\n",
    ";"
   ]
  },
  {
   "cell_type": "code",
   "execution_count": null,
   "metadata": {
    "collapsed": false,
    "input_collapsed": false
   },
   "outputs": [],
   "source": [
    "drawC3VizConverter(UP,AllStatsDF;graphType=2)\n",
    ";"
   ]
  },
  {
   "cell_type": "code",
   "execution_count": null,
   "metadata": {
    "collapsed": false,
    "input_collapsed": false
   },
   "outputs": [],
   "source": [
    "drawC3VizConverter(UP,AllStatsDF;graphType=3)\n",
    ";"
   ]
  },
  {
   "cell_type": "code",
   "execution_count": null,
   "metadata": {
    "collapsed": false,
    "input_collapsed": false
   },
   "outputs": [],
   "source": [
    "drawC3VizConverter(UP,AllStatsDF;graphType=4)\n",
    ";"
   ]
  },
  {
   "cell_type": "code",
   "execution_count": null,
   "metadata": {
    "collapsed": false,
    "input_collapsed": false
   },
   "outputs": [],
   "source": [
    "drawC3VizConverter(UP,AllStatsDF;graphType=5)\n",
    ";"
   ]
  },
  {
   "cell_type": "code",
   "execution_count": null,
   "metadata": {
    "collapsed": false,
    "input_collapsed": false
   },
   "outputs": [],
   "source": [
    "drawC3VizConverter(UP,AllStatsDF;graphType=6)\n",
    ";"
   ]
  },
  {
   "cell_type": "code",
   "execution_count": null,
   "metadata": {
    "collapsed": true,
    "input_collapsed": false
   },
   "outputs": [],
   "source": [
    "q = query(\"\"\" drop view if exists $(UP.btView);\"\"\")\n",
    "q = query(\"\"\" drop view if exists $(UP.rtView);\"\"\")\n",
    ";"
   ]
  }
 ],
 "metadata": {
  "chart_version": "1.0.0",
  "kernelspec": {
   "display_name": "Julia 0.4.7",
   "language": "julia",
   "name": "julia-0.4"
  },
  "language_info": {
   "file_extension": ".jl",
   "mimetype": "application/julia",
   "name": "julia",
   "version": "0.4.7"
  },
  "library_version": "1.0.0",
  "notebook_uuid": "dda3663d-0418-4a99-a9cf-97c5d1020c3f",
  "readOnly": false
 },
 "nbformat": 4,
 "nbformat_minor": 0
}
