{
 "cells": [
  {
   "cell_type": "markdown",
   "metadata": {},
   "source": [
    "## Tables and Data Source setup"
   ]
  },
  {
   "cell_type": "code",
   "execution_count": 1,
   "metadata": {
    "collapsed": false,
    "input_collapsed": false,
    "scrolled": true
   },
   "outputs": [
    {
     "name": "stdout",
     "output_type": "stream",
     "text": [
      "Redshift endpoint set: 2017-07-31T11:00:07\n"
     ]
    },
    {
     "data": {
      "text/plain": [
       "\"beacons_4744\""
      ]
     },
     "execution_count": 1,
     "metadata": {},
     "output_type": "execute_result"
    }
   ],
   "source": [
    "using ODBC\n",
    "using DataFrames\n",
    "using DSWB\n",
    "using Formatting\n",
    "\n",
    "dsn = \"dswb-natgeo\" # Redshift endpoint\n",
    "table = \"beacons_4744\" # beacon table name\n",
    "tableRt = \"beacons_4744_rt\"\n",
    "\n",
    "# Connect to Beacon Data\n",
    "setRedshiftEndpoint(dsn)\n",
    "setTable(table)\n",
    "# setTable(tableRt, tableType = \"RESOURCE_TABLE\")"
   ]
  },
  {
   "cell_type": "code",
   "execution_count": 2,
   "metadata": {
    "collapsed": false,
    "input_collapsed": false
   },
   "outputs": [
    {
     "name": "stdout",
     "output_type": "stream",
     "text": [
      "July 29, 2017 23:59:00 to July 30, 2017 23:59:00 Local Time\n",
      "July 30, 2017 03:59:00 to July 31, 2017 03:59:00 UTC Time\n"
     ]
    }
   ],
   "source": [
    "# Time & Structures First\n",
    "include(\"../../Lib/Include-Package-v2.1.jl\")\n",
    "include(\"Find-Top-WPF-Pages-Body-v2.0.jl\")\n",
    ";"
   ]
  },
  {
   "cell_type": "code",
   "execution_count": 2,
   "metadata": {
    "collapsed": false,
    "input_collapsed": false
   },
   "outputs": [
    {
     "name": "stdout",
     "output_type": "stream",
     "text": [
      "July 29, 2017 23:59:00 to July 30, 2017 23:59:00 Local Time\n",
      "July 30, 2017 03:59:00 to July 31, 2017 03:59:00 UTC Time\n"
     ]
    }
   ],
   "source": [
    "TV = weeklyTimeVariables(days=1)\n",
    "#TV = timeVariables(2017,6,8,10,59,2017,6,8,12,59)\n",
    "#TV = yesterdayTimeVariables()\n"
   ]
  },
  {
   "cell_type": "code",
   "execution_count": 3,
   "metadata": {
    "collapsed": true,
    "input_collapsed": false
   },
   "outputs": [],
   "source": [
    "UP = UrlParamsInit()\n",
    "UP.beaconTable = table   #table\n",
    "UP.resourceTable = tableRt\n",
    "UP.btView = \"$(table)_wpf_pview_prod\" #localtable\n",
    "UP.rtView = \"$(tableRt)_wpf_pview_prod\" #localtableRt\n",
    "UP.pageGroup = \"Your Shot\"   #productPageGroup\n",
    "UP.urlRegEx = \"%\"   #localUrl\n",
    "UP.deviceType = \"Mobile\"\n",
    "\n",
    "SG = SoastaGraphsInit()\n",
    "customer = \"Nat Geo\" \n",
    "SG.customer = customer\n",
    ";"
   ]
  },
  {
   "cell_type": "code",
   "execution_count": 4,
   "metadata": {
    "collapsed": false,
    "input_collapsed": false
   },
   "outputs": [
    {
     "data": {
      "text/html": [
       "    <table  class=\"dataframe-table\">\n",
       "    <thead><tr><th class=\"cell-1\" style=\"\">page group</th> <th class=\"cell-2\" style=\"\">page views</th></tr></thead>\n",
       "    <tbody>\n",
       "    <tr><td class=\"cell-1\" style=\"\">Ocean WPF</td> <td class=\"cell-2\" style=\"text-align:right;\">3,175</td></tr>\n",
       "<tr><td class=\"cell-1\" style=\"\">Travel WPF</td> <td class=\"cell-2\" style=\"text-align:right;\">1,861</td></tr>\n",
       "<tr><td class=\"cell-1\" style=\"\">Games WPF</td> <td class=\"cell-2\" style=\"text-align:right;\">1,832</td></tr>\n",
       "<tr><td class=\"cell-1\" style=\"\">Photography WPF</td> <td class=\"cell-2\" style=\"text-align:right;\">1,646</td></tr>\n",
       "<tr><td class=\"cell-1\" style=\"\">Environment WPF</td> <td class=\"cell-2\" style=\"text-align:right;\">1,180</td></tr>\n",
       "    \n",
       "    <tr><td class=\"cell-1\" style=\"\">Animals WPF</td> <td class=\"cell-2\" style=\"text-align:right;\">982</td></tr>\n",
       "<tr><td class=\"cell-1\" style=\"\">Science WPF</td> <td class=\"cell-2\" style=\"text-align:right;\">558</td></tr>\n",
       "<tr><td class=\"cell-1\" style=\"\">Adventure WPF</td> <td class=\"cell-2\" style=\"text-align:right;\">225</td></tr>\n",
       "<tr><td class=\"cell-1\" style=\"\">Movies WPF</td> <td class=\"cell-2\" style=\"text-align:right;\">209</td></tr>\n",
       "    </tbody>\n"
      ],
      "text/plain": [
       "HTML{UTF8String}(\"    <table  class=\\\"dataframe-table\\\">\\n    <thead><tr><th class=\\\"cell-1\\\" style=\\\"\\\">page group</th> <th class=\\\"cell-2\\\" style=\\\"\\\">page views</th></tr></thead>\\n    <tbody>\\n    <tr><td class=\\\"cell-1\\\" style=\\\"\\\">Ocean WPF</td> <td class=\\\"cell-2\\\" style=\\\"text-align:right;\\\">3,175</td></tr>\\n<tr><td class=\\\"cell-1\\\" style=\\\"\\\">Travel WPF</td> <td class=\\\"cell-2\\\" style=\\\"text-align:right;\\\">1,861</td></tr>\\n<tr><td class=\\\"cell-1\\\" style=\\\"\\\">Games WPF</td> <td class=\\\"cell-2\\\" style=\\\"text-align:right;\\\">1,832</td></tr>\\n<tr><td class=\\\"cell-1\\\" style=\\\"\\\">Photography WPF</td> <td class=\\\"cell-2\\\" style=\\\"text-align:right;\\\">1,646</td></tr>\\n<tr><td class=\\\"cell-1\\\" style=\\\"\\\">Environment WPF</td> <td class=\\\"cell-2\\\" style=\\\"text-align:right;\\\">1,180</td></tr>\\n    \\n    <tr><td class=\\\"cell-1\\\" style=\\\"\\\">Animals WPF</td> <td class=\\\"cell-2\\\" style=\\\"text-align:right;\\\">982</td></tr>\\n<tr><td class=\\\"cell-1\\\" style=\\\"\\\">Science WPF</td> <td class=\\\"cell-2\\\" style=\\\"text-align:right;\\\">558</td></tr>\\n<tr><td class=\\\"cell-1\\\" style=\\\"\\\">Adventure WPF</td> <td class=\\\"cell-2\\\" style=\\\"text-align:right;\\\">225</td></tr>\\n<tr><td class=\\\"cell-1\\\" style=\\\"\\\">Movies WPF</td> <td class=\\\"cell-2\\\" style=\\\"text-align:right;\\\">209</td></tr>\\n    </tbody>\\n\")"
      ]
     },
     "metadata": {},
     "output_type": "display_data"
    }
   ],
   "source": [
    "cleanupTableFTWP(tv,UP)\n",
    ";"
   ]
  },
  {
   "cell_type": "code",
   "execution_count": 5,
   "metadata": {
    "collapsed": false,
    "input_collapsed": false
   },
   "outputs": [
    {
     "data": {
      "text/plain": [
       "wpfLimitedTable (generic function with 1 method)"
      ]
     },
     "execution_count": 5,
     "metadata": {},
     "output_type": "execute_result"
    }
   ],
   "source": [
    "function wpfLimitedTable(localTable::ASCIIString,table::ASCIIString,productPageGroup::ASCIIString,startTimeMs::Int64, endTimeMs::Int64)\n",
    "    try\n",
    "        query(\"\"\"\\\n",
    "            drop view if exists $localTable\n",
    "        \"\"\")\n",
    "        \n",
    "        query(\"\"\"\\\n",
    "            create or replace view $localTable as \n",
    "                (select * from $table where\n",
    "                    beacon_type = 'page view'\n",
    "                    and \"timestamp\" between $startTimeMs and $endTimeMs\n",
    "                    and page_group = '$(productPageGroup)'\n",
    "                )\n",
    "        \"\"\")\n",
    "\n",
    "    catch y\n",
    "        println(\"unLimitedTable Exception\",y)\n",
    "    end\n",
    "end\n",
    "\n"
   ]
  },
  {
   "cell_type": "code",
   "execution_count": 6,
   "metadata": {
    "collapsed": false,
    "input_collapsed": false,
    "scrolled": false
   },
   "outputs": [
    {
     "data": {
      "text/html": [
       "<div class=\"dswbOutputText\"><h1 class=\"chart_title\" style=\"color:#ccc\">Top 10000 (min 10) WPF URLs for Adventure WPF</h1><h3 class=\"chart_info\" style=\"color:#ccc\">Note: If you see AEM URL's in this list tell Chris Davis</h3><h3 class=\"chart_info\" style=\"color:#ccc\">July 29, 2017 23:59:00 to July 30, 2017 23:59:00 Local Time</h3></div>"
      ]
     },
     "metadata": {},
     "output_type": "display_data"
    },
    {
     "data": {
      "text/html": [
       "    <table  class=\"dataframe-table\">\n",
       "    <thead><tr><th class=\"cell-1\" style=\"\">Views</th> <th class=\"cell-2\" style=\"\">Url - Adventure WPF</th></tr></thead>\n",
       "    <tbody>\n",
       "    <tr><td class=\"cell-1\" style=\"text-align:right;\">96</td> <td class=\"cell-2\" style=\"\">http://adventure.nationalgeographic.com/adventure/everest</td></tr>\n",
       "<tr><td class=\"cell-1\" style=\"text-align:right;\">73</td> <td class=\"cell-2\" style=\"\">http://adventure.nationalgeographic.com/adventure/trips/family-trips</td></tr>\n",
       "    \n",
       "    <tr><td class=\"cell-1\" style=\"text-align:right;\">19</td> <td class=\"cell-2\" style=\"\">http://adventure.nationalgeographic.com/adventure/trips/adventure-towns</td></tr>\n",
       "<tr><td class=\"cell-1\" style=\"text-align:right;\">12</td> <td class=\"cell-2\" style=\"\">http://adventure.nationalgeographic.com/adventure/trips/best-trails/worlds-best-summit-hikes</td></tr>\n",
       "    </tbody>\n"
      ],
      "text/plain": [
       "HTML{UTF8String}(\"    <table  class=\\\"dataframe-table\\\">\\n    <thead><tr><th class=\\\"cell-1\\\" style=\\\"\\\">Views</th> <th class=\\\"cell-2\\\" style=\\\"\\\">Url - Adventure WPF</th></tr></thead>\\n    <tbody>\\n    <tr><td class=\\\"cell-1\\\" style=\\\"text-align:right;\\\">96</td> <td class=\\\"cell-2\\\" style=\\\"\\\">http://adventure.nationalgeographic.com/adventure/everest</td></tr>\\n<tr><td class=\\\"cell-1\\\" style=\\\"text-align:right;\\\">73</td> <td class=\\\"cell-2\\\" style=\\\"\\\">http://adventure.nationalgeographic.com/adventure/trips/family-trips</td></tr>\\n    \\n    <tr><td class=\\\"cell-1\\\" style=\\\"text-align:right;\\\">19</td> <td class=\\\"cell-2\\\" style=\\\"\\\">http://adventure.nationalgeographic.com/adventure/trips/adventure-towns</td></tr>\\n<tr><td class=\\\"cell-1\\\" style=\\\"text-align:right;\\\">12</td> <td class=\\\"cell-2\\\" style=\\\"\\\">http://adventure.nationalgeographic.com/adventure/trips/best-trails/worlds-best-summit-hikes</td></tr>\\n    </tbody>\\n\")"
      ]
     },
     "metadata": {},
     "output_type": "display_data"
    }
   ],
   "source": [
    "firstAndLast(UP.btView,\"Adventure WPF\";rowLimit=10000,beaconsLimit=10,paginate=true);\n"
   ]
  },
  {
   "cell_type": "code",
   "execution_count": 7,
   "metadata": {
    "collapsed": false,
    "input_collapsed": false,
    "scrolled": false
   },
   "outputs": [
    {
     "data": {
      "text/html": [
       "<div class=\"dswbOutputText\"><h1 class=\"chart_title\" style=\"color:#ccc\">Top 10000 (min 10) WPF URLs for Animals WPF</h1><h3 class=\"chart_info\" style=\"color:#ccc\">Note: If you see AEM URL's in this list tell Chris Davis</h3><h3 class=\"chart_info\" style=\"color:#ccc\">July 29, 2017 23:59:00 to July 30, 2017 23:59:00 Local Time</h3></div>"
      ]
     },
     "metadata": {},
     "output_type": "display_data"
    },
    {
     "data": {
      "text/html": [
       "    <table  class=\"dataframe-table\">\n",
       "    <thead><tr><th class=\"cell-1\" style=\"\">Views</th> <th class=\"cell-2\" style=\"\">Url - Animals WPF</th></tr></thead>\n",
       "    <tbody>\n",
       "    <tr><td class=\"cell-1\" style=\"text-align:right;\">137</td> <td class=\"cell-2\" style=\"\">http://animals.nationalgeographic.com/animals/birding/backyard-bird-identifier</td></tr>\n",
       "<tr><td class=\"cell-1\" style=\"text-align:right;\">96</td> <td class=\"cell-2\" style=\"\">http://animals.nationalgeographic.com/animals/sharks</td></tr>\n",
       "<tr><td class=\"cell-1\" style=\"text-align:right;\">92</td> <td class=\"cell-2\" style=\"\">http://animals.nationalgeographic.com/animals/wild/events-monster-bash/worlds-weirdest-pictures</td></tr>\n",
       "<tr><td class=\"cell-1\" style=\"text-align:right;\">85</td> <td class=\"cell-2\" style=\"\">http://animals.nationalgeographic.com/animals/wild/shows-deadly-60/pictures</td></tr>\n",
       "<tr><td class=\"cell-1\" style=\"text-align:right;\">83</td> <td class=\"cell-2\" style=\"\">http://animals.nationalgeographic.com/animals/birding/bird-photos</td></tr>\n",
       "<tr><td class=\"cell-1\" style=\"text-align:right;\">81</td> <td class=\"cell-2\" style=\"\">http://animals.nationalgeographic.com/animals/quiz</td></tr>\n",
       "<tr><td class=\"cell-1\" style=\"text-align:right;\">51</td> <td class=\"cell-2\" style=\"\">http://animals.nationalgeographic.com/animals/birding/backyard-birds-all</td></tr>\n",
       "<tr><td class=\"cell-1\" style=\"text-align:right;\">45</td> <td class=\"cell-2\" style=\"\">http://animals.nationalgeographic.com/animals/bugs</td></tr>\n",
       "<tr><td class=\"cell-1\" style=\"text-align:right;\">38</td> <td class=\"cell-2\" style=\"\">http://animals.nationalgeographic.com/animals/big-cats/facts</td></tr>\n",
       "    \n",
       "    <tr><td class=\"cell-1\" style=\"text-align:right;\">31</td> <td class=\"cell-2\" style=\"\">http://animals.nationalgeographic.com/animals/two-truths-one-lie-quiz</td></tr>\n",
       "<tr><td class=\"cell-1\" style=\"text-align:right;\">31</td> <td class=\"cell-2\" style=\"\">http://animals.nationalgeographic.com/animals/big-cats-initiative/lion-decline-map</td></tr>\n",
       "<tr><td class=\"cell-1\" style=\"text-align:right;\">25</td> <td class=\"cell-2\" style=\"\">http://animals.nationalgeographic.com/animals/wolf-quiz</td></tr>\n",
       "<tr><td class=\"cell-1\" style=\"text-align:right;\">18</td> <td class=\"cell-2\" style=\"\">http://animals.nationalgeographic.com/animals/wild/shows-deadly-60/fun-facts</td></tr>\n",
       "<tr><td class=\"cell-1\" style=\"text-align:right;\">16</td> <td class=\"cell-2\" style=\"\">http://animals.nationalgeographic.com/animals/crittercam</td></tr>\n",
       "<tr><td class=\"cell-1\" style=\"text-align:right;\">13</td> <td class=\"cell-2\" style=\"\">http://animals.nationalgeographic.com/animals/wild/shows-deadly-60</td></tr>\n",
       "<tr><td class=\"cell-1\" style=\"text-align:right;\">12</td> <td class=\"cell-2\" style=\"\">http://animals.nationalgeographic.com/animals/crittercam-wildcam</td></tr>\n",
       "<tr><td class=\"cell-1\" style=\"text-align:right;\">11</td> <td class=\"cell-2\" style=\"\">http://animals.nationalgeographic.com/animals/fish/sand-tiger-shark</td></tr>\n",
       "<tr><td class=\"cell-1\" style=\"text-align:right;\">11</td> <td class=\"cell-2\" style=\"\">http://animals.nationalgeographic.com/animals/big-cats-initiative/our-approach</td></tr>\n",
       "    </tbody>\n"
      ],
      "text/plain": [
       "HTML{UTF8String}(\"    <table  class=\\\"dataframe-table\\\">\\n    <thead><tr><th class=\\\"cell-1\\\" style=\\\"\\\">Views</th> <th class=\\\"cell-2\\\" style=\\\"\\\">Url - Animals WPF</th></tr></thead>\\n    <tbody>\\n    <tr><td class=\\\"cell-1\\\" style=\\\"text-align:right;\\\">137</td> <td class=\\\"cell-2\\\" style=\\\"\\\">http://animals.nationalgeographic.com/animals/birding/backyard-bird-identifier</td></tr>\\n<tr><td class=\\\"cell-1\\\" style=\\\"text-align:right;\\\">96</td> <td class=\\\"cell-2\\\" style=\\\"\\\">http://animals.nationalgeographic.com/animals/sharks</td></tr>\\n<tr><td class=\\\"cell-1\\\" style=\\\"text-align:right;\\\">92</td> <td class=\\\"cell-2\\\" style=\\\"\\\">http://animals.nationalgeographic.com/animals/wild/events-monster-bash/worlds-weirdest-pictures</td></tr>\\n<tr><td class=\\\"cell-1\\\" style=\\\"text-align:right;\\\">85</td> <td class=\\\"cell-2\\\" style=\\\"\\\">http://animals.nationalgeographic.com/animals/wild/shows-deadly-60/pictures</td></tr>\\n<tr><td class=\\\"cell-1\\\" style=\\\"text-align:right;\\\">83</td> <td class=\\\"cell-2\\\" style=\\\"\\\">http://animals.nationalgeographic.com/animals/birding/bird-photos</td></tr>\\n<tr><td class=\\\"cell-1\\\" style=\\\"text-align:right;\\\">81</td> <td class=\\\"cell-2\\\" style=\\\"\\\">http://animals.nationalgeographic.com/animals/quiz</td></tr>\\n<tr><td class=\\\"cell-1\\\" style=\\\"text-align:right;\\\">51</td> <td class=\\\"cell-2\\\" style=\\\"\\\">http://animals.nationalgeographic.com/animals/birding/backyard-birds-all</td></tr>\\n<tr><td class=\\\"cell-1\\\" style=\\\"text-align:right;\\\">45</td> <td class=\\\"cell-2\\\" style=\\\"\\\">http://animals.nationalgeographic.com/animals/bugs</td></tr>\\n<tr><td class=\\\"cell-1\\\" style=\\\"text-align:right;\\\">38</td> <td class=\\\"cell-2\\\" style=\\\"\\\">http://animals.nationalgeographic.com/animals/big-cats/facts</td></tr>\\n    \\n    <tr><td class=\\\"cell-1\\\" style=\\\"text-align:right;\\\">31</td> <td class=\\\"cell-2\\\" style=\\\"\\\">http://animals.nationalgeographic.com/animals/two-truths-one-lie-quiz</td></tr>\\n<tr><td class=\\\"cell-1\\\" style=\\\"text-align:right;\\\">31</td> <td class=\\\"cell-2\\\" style=\\\"\\\">http://animals.nationalgeographic.com/animals/big-cats-initiative/lion-decline-map</td></tr>\\n<tr><td class=\\\"cell-1\\\" style=\\\"text-align:right;\\\">25</td> <td class=\\\"cell-2\\\" style=\\\"\\\">http://animals.nationalgeographic.com/animals/wolf-quiz</td></tr>\\n<tr><td class=\\\"cell-1\\\" style=\\\"text-align:right;\\\">18</td> <td class=\\\"cell-2\\\" style=\\\"\\\">http://animals.nationalgeographic.com/animals/wild/shows-deadly-60/fun-facts</td></tr>\\n<tr><td class=\\\"cell-1\\\" style=\\\"text-align:right;\\\">16</td> <td class=\\\"cell-2\\\" style=\\\"\\\">http://animals.nationalgeographic.com/animals/crittercam</td></tr>\\n<tr><td class=\\\"cell-1\\\" style=\\\"text-align:right;\\\">13</td> <td class=\\\"cell-2\\\" style=\\\"\\\">http://animals.nationalgeographic.com/animals/wild/shows-deadly-60</td></tr>\\n<tr><td class=\\\"cell-1\\\" style=\\\"text-align:right;\\\">12</td> <td class=\\\"cell-2\\\" style=\\\"\\\">http://animals.nationalgeographic.com/animals/crittercam-wildcam</td></tr>\\n<tr><td class=\\\"cell-1\\\" style=\\\"text-align:right;\\\">11</td> <td class=\\\"cell-2\\\" style=\\\"\\\">http://animals.nationalgeographic.com/animals/fish/sand-tiger-shark</td></tr>\\n<tr><td class=\\\"cell-1\\\" style=\\\"text-align:right;\\\">11</td> <td class=\\\"cell-2\\\" style=\\\"\\\">http://animals.nationalgeographic.com/animals/big-cats-initiative/our-approach</td></tr>\\n    </tbody>\\n\")"
      ]
     },
     "metadata": {},
     "output_type": "display_data"
    },
    {
     "data": {
      "text/html": [
       "<div class=\"dswbOutputText\"><h1 class=\"chart_title\" style=\"color:#ccc\">Top 10000 (min 10) WPF URLs for Environment WPF</h1><h3 class=\"chart_info\" style=\"color:#ccc\">Note: If you see AEM URL's in this list tell Chris Davis</h3><h3 class=\"chart_info\" style=\"color:#ccc\">July 29, 2017 23:59:00 to July 30, 2017 23:59:00 Local Time</h3></div>"
      ]
     },
     "metadata": {},
     "output_type": "display_data"
    },
    {
     "data": {
      "text/html": [
       "    <table  class=\"dataframe-table\">\n",
       "    <thead><tr><th class=\"cell-1\" style=\"\">Views</th> <th class=\"cell-2\" style=\"\">Url - Environment WPF</th></tr></thead>\n",
       "    <tbody>\n",
       "    <tr><td class=\"cell-1\" style=\"text-align:right;\">107</td> <td class=\"cell-2\" style=\"\">http://environment.nationalgeographic.com/environment/photos/scariest-freshwater-animals</td></tr>\n",
       "<tr><td class=\"cell-1\" style=\"text-align:right;\">76</td> <td class=\"cell-2\" style=\"\">http://environment.nationalgeographic.com/environment/freshwater/change-the-course/colorado-river-map</td></tr>\n",
       "<tr><td class=\"cell-1\" style=\"text-align:right;\">74</td> <td class=\"cell-2\" style=\"\">http://environment.nationalgeographic.com/environment/habitats/last-of-amazon</td></tr>\n",
       "<tr><td class=\"cell-1\" style=\"text-align:right;\">54</td> <td class=\"cell-2\" style=\"\">http://environment.nationalgeographic.com/environment/sustainable-earth/11-of-the-fastest-growing-green-jobs</td></tr>\n",
       "<tr><td class=\"cell-1\" style=\"text-align:right;\">47</td> <td class=\"cell-2\" style=\"\">http://environment.nationalgeographic.com/environment/photos/freshwater-insects</td></tr>\n",
       "<tr><td class=\"cell-1\" style=\"text-align:right;\">39</td> <td class=\"cell-2\" style=\"\">http://environment.nationalgeographic.com/environment/global-warming/missing-carbon</td></tr>\n",
       "<tr><td class=\"cell-1\" style=\"text-align:right;\">35</td> <td class=\"cell-2\" style=\"\">http://environment.nationalgeographic.com/environment/green-guide/buying-guides/car/environmental-impact</td></tr>\n",
       "<tr><td class=\"cell-1\" style=\"text-align:right;\">30</td> <td class=\"cell-2\" style=\"\">http://environment.nationalgeographic.com/environment/freshwater/alligator-gar</td></tr>\n",
       "<tr><td class=\"cell-1\" style=\"text-align:right;\">27</td> <td class=\"cell-2\" style=\"\">http://environment.nationalgeographic.com/environment/freshwater/gar</td></tr>\n",
       "<tr><td class=\"cell-1\" style=\"text-align:right;\">25</td> <td class=\"cell-2\" style=\"\">http://environment.nationalgeographic.com/environment/green-guide/plants-that-will-suck-your-yard-dry</td></tr>\n",
       "<tr><td class=\"cell-1\" style=\"text-align:right;\">25</td> <td class=\"cell-2\" style=\"\">http://environment.nationalgeographic.com/environment/photos/tsunami-general</td></tr>\n",
       "    \n",
       "    <tr><td class=\"cell-1\" style=\"text-align:right;\">21</td> <td class=\"cell-2\" style=\"\">http://environment.nationalgeographic.com/environment/global-warming/food-how-altered</td></tr>\n",
       "<tr><td class=\"cell-1\" style=\"text-align:right;\">20</td> <td class=\"cell-2\" style=\"\">http://environment.nationalgeographic.com/amobee/a3d-ad-loader.html</td></tr>\n",
       "<tr><td class=\"cell-1\" style=\"text-align:right;\">18</td> <td class=\"cell-2\" style=\"\">http://environment.nationalgeographic.com/environment/freshwater/arapaima</td></tr>\n",
       "<tr><td class=\"cell-1\" style=\"text-align:right;\">15</td> <td class=\"cell-2\" style=\"\">http://environment.nationalgeographic.com/environment/freshwater/embedded-water</td></tr>\n",
       "<tr><td class=\"cell-1\" style=\"text-align:right;\">14</td> <td class=\"cell-2\" style=\"\">http://environment.nationalgeographic.com/environment/freshwater/lake-sturgeon</td></tr>\n",
       "<tr><td class=\"cell-1\" style=\"text-align:right;\">13</td> <td class=\"cell-2\" style=\"\">http://environment.nationalgeographic.com/environment/photos/megafishes-gallery</td></tr>\n",
       "<tr><td class=\"cell-1\" style=\"text-align:right;\">13</td> <td class=\"cell-2\" style=\"\">http://environment.nationalgeographic.com/environment/green-guide/buying-guide/air-conditioner/environmental-impact</td></tr>\n",
       "<tr><td class=\"cell-1\" style=\"text-align:right;\">12</td> <td class=\"cell-2\" style=\"\">http://environment.nationalgeographic.com/environment/national-geographic-sustainability/carbon-footprint</td></tr>\n",
       "<tr><td class=\"cell-1\" style=\"text-align:right;\">12</td> <td class=\"cell-2\" style=\"\">http://environment.nationalgeographic.com/environment/energy/great-energy-challenge/big-energy-question/how-to-make-our-...</td></tr>\n",
       "<tr><td class=\"cell-1\" style=\"text-align:right;\">11</td> <td class=\"cell-2\" style=\"\">http://environment.nationalgeographic.com/environment/photos/grasslands-prairies-savannas</td></tr>\n",
       "    </tbody>\n"
      ],
      "text/plain": [
       "HTML{UTF8String}(\"    <table  class=\\\"dataframe-table\\\">\\n    <thead><tr><th class=\\\"cell-1\\\" style=\\\"\\\">Views</th> <th class=\\\"cell-2\\\" style=\\\"\\\">Url - Environment WPF</th></tr></thead>\\n    <tbody>\\n    <tr><td class=\\\"cell-1\\\" style=\\\"text-align:right;\\\">107</td> <td class=\\\"cell-2\\\" style=\\\"\\\">http://environment.nationalgeographic.com/environment/photos/scariest-freshwater-animals</td></tr>\\n<tr><td class=\\\"cell-1\\\" style=\\\"text-align:right;\\\">76</td> <td class=\\\"cell-2\\\" style=\\\"\\\">http://environment.nationalgeographic.com/environment/freshwater/change-the-course/colorado-river-map</td></tr>\\n<tr><td class=\\\"cell-1\\\" style=\\\"text-align:right;\\\">74</td> <td class=\\\"cell-2\\\" style=\\\"\\\">http://environment.nationalgeographic.com/environment/habitats/last-of-amazon</td></tr>\\n<tr><td class=\\\"cell-1\\\" style=\\\"text-align:right;\\\">54</td> <td class=\\\"cell-2\\\" style=\\\"\\\">http://environment.nationalgeographic.com/environment/sustainable-earth/11-of-the-fastest-growing-green-jobs</td></tr>\\n<tr><td class=\\\"cell-1\\\" style=\\\"text-align:right;\\\">47</td> <td class=\\\"cell-2\\\" style=\\\"\\\">http://environment.nationalgeographic.com/environment/photos/freshwater-insects</td></tr>\\n<tr><td class=\\\"cell-1\\\" style=\\\"text-align:right;\\\">39</td> <td class=\\\"cell-2\\\" style=\\\"\\\">http://environment.nationalgeographic.com/environment/global-warming/missing-carbon</td></tr>\\n<tr><td class=\\\"cell-1\\\" style=\\\"text-align:right;\\\">35</td> <td class=\\\"cell-2\\\" style=\\\"\\\">http://environment.nationalgeographic.com/environment/green-guide/buying-guides/car/environmental-impact</td></tr>\\n<tr><td class=\\\"cell-1\\\" style=\\\"text-align:right;\\\">30</td> <td class=\\\"cell-2\\\" style=\\\"\\\">http://environment.nationalgeographic.com/environment/freshwater/alligator-gar</td></tr>\\n<tr><td class=\\\"cell-1\\\" style=\\\"text-align:right;\\\">27</td> <td class=\\\"cell-2\\\" style=\\\"\\\">http://environment.nationalgeographic.com/environment/freshwater/gar</td></tr>\\n<tr><td class=\\\"cell-1\\\" style=\\\"text-align:right;\\\">25</td> <td class=\\\"cell-2\\\" style=\\\"\\\">http://environment.nationalgeographic.com/environment/green-guide/plants-that-will-suck-your-yard-dry</td></tr>\\n<tr><td class=\\\"cell-1\\\" style=\\\"text-align:right;\\\">25</td> <td class=\\\"cell-2\\\" style=\\\"\\\">http://environment.nationalgeographic.com/environment/photos/tsunami-general</td></tr>\\n    \\n    <tr><td class=\\\"cell-1\\\" style=\\\"text-align:right;\\\">21</td> <td class=\\\"cell-2\\\" style=\\\"\\\">http://environment.nationalgeographic.com/environment/global-warming/food-how-altered</td></tr>\\n<tr><td class=\\\"cell-1\\\" style=\\\"text-align:right;\\\">20</td> <td class=\\\"cell-2\\\" style=\\\"\\\">http://environment.nationalgeographic.com/amobee/a3d-ad-loader.html</td></tr>\\n<tr><td class=\\\"cell-1\\\" style=\\\"text-align:right;\\\">18</td> <td class=\\\"cell-2\\\" style=\\\"\\\">http://environment.nationalgeographic.com/environment/freshwater/arapaima</td></tr>\\n<tr><td class=\\\"cell-1\\\" style=\\\"text-align:right;\\\">15</td> <td class=\\\"cell-2\\\" style=\\\"\\\">http://environment.nationalgeographic.com/environment/freshwater/embedded-water</td></tr>\\n<tr><td class=\\\"cell-1\\\" style=\\\"text-align:right;\\\">14</td> <td class=\\\"cell-2\\\" style=\\\"\\\">http://environment.nationalgeographic.com/environment/freshwater/lake-sturgeon</td></tr>\\n<tr><td class=\\\"cell-1\\\" style=\\\"text-align:right;\\\">13</td> <td class=\\\"cell-2\\\" style=\\\"\\\">http://environment.nationalgeographic.com/environment/photos/megafishes-gallery</td></tr>\\n<tr><td class=\\\"cell-1\\\" style=\\\"text-align:right;\\\">13</td> <td class=\\\"cell-2\\\" style=\\\"\\\">http://environment.nationalgeographic.com/environment/green-guide/buying-guide/air-conditioner/environmental-impact</td></tr>\\n<tr><td class=\\\"cell-1\\\" style=\\\"text-align:right;\\\">12</td> <td class=\\\"cell-2\\\" style=\\\"\\\">http://environment.nationalgeographic.com/environment/national-geographic-sustainability/carbon-footprint</td></tr>\\n<tr><td class=\\\"cell-1\\\" style=\\\"text-align:right;\\\">12</td> <td class=\\\"cell-2\\\" style=\\\"\\\">http://environment.nationalgeographic.com/environment/energy/great-energy-challenge/big-energy-question/how-to-make-our-...</td></tr>\\n<tr><td class=\\\"cell-1\\\" style=\\\"text-align:right;\\\">11</td> <td class=\\\"cell-2\\\" style=\\\"\\\">http://environment.nationalgeographic.com/environment/photos/grasslands-prairies-savannas</td></tr>\\n    </tbody>\\n\")"
      ]
     },
     "metadata": {},
     "output_type": "display_data"
    },
    {
     "data": {
      "text/html": [
       "<div class=\"dswbOutputText\"><h1 class=\"chart_title\" style=\"color:#ccc\">Top 10000 (min 10) WPF URLs for Games WPF</h1><h3 class=\"chart_info\" style=\"color:#ccc\">Note: If you see AEM URL's in this list tell Chris Davis</h3><h3 class=\"chart_info\" style=\"color:#ccc\">July 29, 2017 23:59:00 to July 30, 2017 23:59:00 Local Time</h3></div>"
      ]
     },
     "metadata": {},
     "output_type": "display_data"
    },
    {
     "data": {
      "text/html": [
       "    <table  class=\"dataframe-table\">\n",
       "    <thead><tr><th class=\"cell-1\" style=\"\">Views</th> <th class=\"cell-2\" style=\"\">Url - Games WPF</th></tr></thead>\n",
       "    <tbody>\n",
       "    <tr><td class=\"cell-1\" style=\"text-align:right;\">1,589</td> <td class=\"cell-2\" style=\"\">http://www.nationalgeographic.com/games/photo-puzzle-jigsaw</td></tr>\n",
       "<tr><td class=\"cell-1\" style=\"text-align:right;\">132</td> <td class=\"cell-2\" style=\"\">http://games.nationalgeographic.com/games/photo-puzzle-jigsaw</td></tr>\n",
       "    \n",
       "    <tr><td class=\"cell-1\" style=\"text-align:right;\">81</td> <td class=\"cell-2\" style=\"\">http://games.nationalgeographic.com</td></tr>\n",
       "<tr><td class=\"cell-1\" style=\"text-align:right;\">23</td> <td class=\"cell-2\" style=\"\">http://games.nationalgeographic.com/games/puzzles-quizzes</td></tr>\n",
       "    </tbody>\n"
      ],
      "text/plain": [
       "HTML{UTF8String}(\"    <table  class=\\\"dataframe-table\\\">\\n    <thead><tr><th class=\\\"cell-1\\\" style=\\\"\\\">Views</th> <th class=\\\"cell-2\\\" style=\\\"\\\">Url - Games WPF</th></tr></thead>\\n    <tbody>\\n    <tr><td class=\\\"cell-1\\\" style=\\\"text-align:right;\\\">1,589</td> <td class=\\\"cell-2\\\" style=\\\"\\\">http://www.nationalgeographic.com/games/photo-puzzle-jigsaw</td></tr>\\n<tr><td class=\\\"cell-1\\\" style=\\\"text-align:right;\\\">132</td> <td class=\\\"cell-2\\\" style=\\\"\\\">http://games.nationalgeographic.com/games/photo-puzzle-jigsaw</td></tr>\\n    \\n    <tr><td class=\\\"cell-1\\\" style=\\\"text-align:right;\\\">81</td> <td class=\\\"cell-2\\\" style=\\\"\\\">http://games.nationalgeographic.com</td></tr>\\n<tr><td class=\\\"cell-1\\\" style=\\\"text-align:right;\\\">23</td> <td class=\\\"cell-2\\\" style=\\\"\\\">http://games.nationalgeographic.com/games/puzzles-quizzes</td></tr>\\n    </tbody>\\n\")"
      ]
     },
     "metadata": {},
     "output_type": "display_data"
    },
    {
     "data": {
      "text/html": [
       "<div class=\"dswbOutputText\"><h1 class=\"chart_title\" style=\"color:#ccc\">Top 10000 (min 10) WPF URLs for Images WPF</h1><h3 class=\"chart_info\" style=\"color:#ccc\">Note: If you see AEM URL's in this list tell Chris Davis</h3><h3 class=\"chart_info\" style=\"color:#ccc\">July 29, 2017 23:59:00 to July 30, 2017 23:59:00 Local Time</h3></div>"
      ]
     },
     "metadata": {},
     "output_type": "display_data"
    },
    {
     "data": {
      "text/html": [
       "<div class=\"dswbOutputText\"><h1 class=\"chart_title\" style=\"color:#ccc\">Top 10000 (min 10) WPF URLs for Movies WPF</h1><h3 class=\"chart_info\" style=\"color:#ccc\">Note: If you see AEM URL's in this list tell Chris Davis</h3><h3 class=\"chart_info\" style=\"color:#ccc\">July 29, 2017 23:59:00 to July 30, 2017 23:59:00 Local Time</h3></div>"
      ]
     },
     "metadata": {},
     "output_type": "display_data"
    },
    {
     "data": {
      "text/html": [
       "    <table  class=\"dataframe-table\">\n",
       "    <thead><tr><th class=\"cell-1\" style=\"\">Views</th> <th class=\"cell-2\" style=\"\">Url - Movies WPF</th></tr></thead>\n",
       "    <tbody>\n",
       "    <tr><td class=\"cell-1\" style=\"text-align:right;\">83</td> <td class=\"cell-2\" style=\"\">http://movies.nationalgeographic.com/movies</td></tr>\n",
       "<tr><td class=\"cell-1\" style=\"text-align:right;\">25</td> <td class=\"cell-2\" style=\"\">http://movies.nationalgeographic.com/movies/extreme-weather</td></tr>\n",
       "    \n",
       "    <tr><td class=\"cell-1\" style=\"text-align:right;\">12</td> <td class=\"cell-2\" style=\"\">http://movies.nationalgeographic.com/movies/restrepo</td></tr>\n",
       "<tr><td class=\"cell-1\" style=\"text-align:right;\">11</td> <td class=\"cell-2\" style=\"\">http://movies.nationalgeographic.com/movies/robots</td></tr>\n",
       "    </tbody>\n"
      ],
      "text/plain": [
       "HTML{UTF8String}(\"    <table  class=\\\"dataframe-table\\\">\\n    <thead><tr><th class=\\\"cell-1\\\" style=\\\"\\\">Views</th> <th class=\\\"cell-2\\\" style=\\\"\\\">Url - Movies WPF</th></tr></thead>\\n    <tbody>\\n    <tr><td class=\\\"cell-1\\\" style=\\\"text-align:right;\\\">83</td> <td class=\\\"cell-2\\\" style=\\\"\\\">http://movies.nationalgeographic.com/movies</td></tr>\\n<tr><td class=\\\"cell-1\\\" style=\\\"text-align:right;\\\">25</td> <td class=\\\"cell-2\\\" style=\\\"\\\">http://movies.nationalgeographic.com/movies/extreme-weather</td></tr>\\n    \\n    <tr><td class=\\\"cell-1\\\" style=\\\"text-align:right;\\\">12</td> <td class=\\\"cell-2\\\" style=\\\"\\\">http://movies.nationalgeographic.com/movies/restrepo</td></tr>\\n<tr><td class=\\\"cell-1\\\" style=\\\"text-align:right;\\\">11</td> <td class=\\\"cell-2\\\" style=\\\"\\\">http://movies.nationalgeographic.com/movies/robots</td></tr>\\n    </tbody>\\n\")"
      ]
     },
     "metadata": {},
     "output_type": "display_data"
    },
    {
     "data": {
      "text/html": [
       "<div class=\"dswbOutputText\"><h1 class=\"chart_title\" style=\"color:#ccc\">Top 10000 (min 10) WPF URLs for Ocean WPF</h1><h3 class=\"chart_info\" style=\"color:#ccc\">Note: If you see AEM URL's in this list tell Chris Davis</h3><h3 class=\"chart_info\" style=\"color:#ccc\">July 29, 2017 23:59:00 to July 30, 2017 23:59:00 Local Time</h3></div>"
      ]
     },
     "metadata": {},
     "output_type": "display_data"
    },
    {
     "data": {
      "text/html": [
       "    <table  class=\"dataframe-table\">\n",
       "    <thead><tr><th class=\"cell-1\" style=\"\">Views</th> <th class=\"cell-2\" style=\"\">Url - Ocean WPF</th></tr></thead>\n",
       "    <tbody>\n",
       "    <tr><td class=\"cell-1\" style=\"text-align:right;\">1,116</td> <td class=\"cell-2\" style=\"\">http://ocean.nationalgeographic.com/ocean/photos/deep-sea-creatures</td></tr>\n",
       "<tr><td class=\"cell-1\" style=\"text-align:right;\">228</td> <td class=\"cell-2\" style=\"\">http://ocean.nationalgeographic.com/ocean/photos/colossal-sea-creatures</td></tr>\n",
       "<tr><td class=\"cell-1\" style=\"text-align:right;\">144</td> <td class=\"cell-2\" style=\"\">http://ocean.nationalgeographic.com/ocean/photos/strange-looking-sea-creatures</td></tr>\n",
       "<tr><td class=\"cell-1\" style=\"text-align:right;\">130</td> <td class=\"cell-2\" style=\"\">http://ocean.nationalgeographic.com/ocean/take-action/10-things-you-can-do-to-save-the-ocean</td></tr>\n",
       "<tr><td class=\"cell-1\" style=\"text-align:right;\">118</td> <td class=\"cell-2\" style=\"\">http://ocean.nationalgeographic.com/ocean/photos/ocean-rays</td></tr>\n",
       "<tr><td class=\"cell-1\" style=\"text-align:right;\">116</td> <td class=\"cell-2\" style=\"\">http://ocean.nationalgeographic.com/ocean/photos/toxic-sea-creatures</td></tr>\n",
       "<tr><td class=\"cell-1\" style=\"text-align:right;\">105</td> <td class=\"cell-2\" style=\"\">http://ocean.nationalgeographic.com/ocean/photos/dangerous-sea-creatures</td></tr>\n",
       "<tr><td class=\"cell-1\" style=\"text-align:right;\">98</td> <td class=\"cell-2\" style=\"\">http://ocean.nationalgeographic.com/ocean/photos/marine-worms</td></tr>\n",
       "<tr><td class=\"cell-1\" style=\"text-align:right;\">90</td> <td class=\"cell-2\" style=\"\">http://ocean.nationalgeographic.com/ocean/photos/ocean-jellyfish</td></tr>\n",
       "<tr><td class=\"cell-1\" style=\"text-align:right;\">85</td> <td class=\"cell-2\" style=\"\">http://ocean.nationalgeographic.com/ocean/photos/colorful-sea-creatures</td></tr>\n",
       "<tr><td class=\"cell-1\" style=\"text-align:right;\">66</td> <td class=\"cell-2\" style=\"\">http://ocean.nationalgeographic.com/ocean/photos/oceans</td></tr>\n",
       "<tr><td class=\"cell-1\" style=\"text-align:right;\">64</td> <td class=\"cell-2\" style=\"\">http://ocean.nationalgeographic.com/ocean/photos/discovering-titanic</td></tr>\n",
       "<tr><td class=\"cell-1\" style=\"text-align:right;\">59</td> <td class=\"cell-2\" style=\"\">http://ocean.nationalgeographic.com/take-action/marine-food-chain</td></tr>\n",
       "    \n",
       "    <tr><td class=\"cell-1\" style=\"text-align:right;\">54</td> <td class=\"cell-2\" style=\"\">http://ocean.nationalgeographic.com/ocean/photos/translucent-sea-creatures</td></tr>\n",
       "<tr><td class=\"cell-1\" style=\"text-align:right;\">51</td> <td class=\"cell-2\" style=\"\">http://ocean.nationalgeographic.com/ocean/photos/unique-sea-creatures</td></tr>\n",
       "<tr><td class=\"cell-1\" style=\"text-align:right;\">47</td> <td class=\"cell-2\" style=\"\">http://ocean.nationalgeographic.com/ocean/photos/squid</td></tr>\n",
       "<tr><td class=\"cell-1\" style=\"text-align:right;\">46</td> <td class=\"cell-2\" style=\"\">http://ocean.nationalgeographic.com/ocean/photos/us-marine-protected-areas</td></tr>\n",
       "<tr><td class=\"cell-1\" style=\"text-align:right;\">43</td> <td class=\"cell-2\" style=\"\">http://ocean.nationalgeographic.com/ocean/photos/sea-urchins</td></tr>\n",
       "<tr><td class=\"cell-1\" style=\"text-align:right;\">41</td> <td class=\"cell-2\" style=\"\">http://ocean.nationalgeographic.com/ocean/photos/sea-birds</td></tr>\n",
       "<tr><td class=\"cell-1\" style=\"text-align:right;\">35</td> <td class=\"cell-2\" style=\"\">http://ocean.nationalgeographic.com/ocean/photos/nudibranchs</td></tr>\n",
       "<tr><td class=\"cell-1\" style=\"text-align:right;\">33</td> <td class=\"cell-2\" style=\"\">http://ocean.nationalgeographic.com/ocean/photos/ocean-corals</td></tr>\n",
       "<tr><td class=\"cell-1\" style=\"text-align:right;\">30</td> <td class=\"cell-2\" style=\"\">http://ocean.nationalgeographic.com/ocean/photos/electroreceptive-fish</td></tr>\n",
       "<tr><td class=\"cell-1\" style=\"text-align:right;\">29</td> <td class=\"cell-2\" style=\"\">http://ocean.nationalgeographic.com/ocean/photos/marine-species-under-threat</td></tr>\n",
       "<tr><td class=\"cell-1\" style=\"text-align:right;\">22</td> <td class=\"cell-2\" style=\"\">http://ocean.nationalgeographic.com/ocean/photos/starfish</td></tr>\n",
       "<tr><td class=\"cell-1\" style=\"text-align:right;\">21</td> <td class=\"cell-2\" style=\"\">http://ocean.nationalgeographic.com/ocean/photos/oceans-galleries-main</td></tr>\n",
       "    </tbody>\n"
      ],
      "text/plain": [
       "HTML{UTF8String}(\"    <table  class=\\\"dataframe-table\\\">\\n    <thead><tr><th class=\\\"cell-1\\\" style=\\\"\\\">Views</th> <th class=\\\"cell-2\\\" style=\\\"\\\">Url - Ocean WPF</th></tr></thead>\\n    <tbody>\\n    <tr><td class=\\\"cell-1\\\" style=\\\"text-align:right;\\\">1,116</td> <td class=\\\"cell-2\\\" style=\\\"\\\">http://ocean.nationalgeographic.com/ocean/photos/deep-sea-creatures</td></tr>\\n<tr><td class=\\\"cell-1\\\" style=\\\"text-align:right;\\\">228</td> <td class=\\\"cell-2\\\" style=\\\"\\\">http://ocean.nationalgeographic.com/ocean/photos/colossal-sea-creatures</td></tr>\\n<tr><td class=\\\"cell-1\\\" style=\\\"text-align:right;\\\">144</td> <td class=\\\"cell-2\\\" style=\\\"\\\">http://ocean.nationalgeographic.com/ocean/photos/strange-looking-sea-creatures</td></tr>\\n<tr><td class=\\\"cell-1\\\" style=\\\"text-align:right;\\\">130</td> <td class=\\\"cell-2\\\" style=\\\"\\\">http://ocean.nationalgeographic.com/ocean/take-action/10-things-you-can-do-to-save-the-ocean</td></tr>\\n<tr><td class=\\\"cell-1\\\" style=\\\"text-align:right;\\\">118</td> <td class=\\\"cell-2\\\" style=\\\"\\\">http://ocean.nationalgeographic.com/ocean/photos/ocean-rays</td></tr>\\n<tr><td class=\\\"cell-1\\\" style=\\\"text-align:right;\\\">116</td> <td class=\\\"cell-2\\\" style=\\\"\\\">http://ocean.nationalgeographic.com/ocean/photos/toxic-sea-creatures</td></tr>\\n<tr><td class=\\\"cell-1\\\" style=\\\"text-align:right;\\\">105</td> <td class=\\\"cell-2\\\" style=\\\"\\\">http://ocean.nationalgeographic.com/ocean/photos/dangerous-sea-creatures</td></tr>\\n<tr><td class=\\\"cell-1\\\" style=\\\"text-align:right;\\\">98</td> <td class=\\\"cell-2\\\" style=\\\"\\\">http://ocean.nationalgeographic.com/ocean/photos/marine-worms</td></tr>\\n<tr><td class=\\\"cell-1\\\" style=\\\"text-align:right;\\\">90</td> <td class=\\\"cell-2\\\" style=\\\"\\\">http://ocean.nationalgeographic.com/ocean/photos/ocean-jellyfish</td></tr>\\n<tr><td class=\\\"cell-1\\\" style=\\\"text-align:right;\\\">85</td> <td class=\\\"cell-2\\\" style=\\\"\\\">http://ocean.nationalgeographic.com/ocean/photos/colorful-sea-creatures</td></tr>\\n<tr><td class=\\\"cell-1\\\" style=\\\"text-align:right;\\\">66</td> <td class=\\\"cell-2\\\" style=\\\"\\\">http://ocean.nationalgeographic.com/ocean/photos/oceans</td></tr>\\n<tr><td class=\\\"cell-1\\\" style=\\\"text-align:right;\\\">64</td> <td class=\\\"cell-2\\\" style=\\\"\\\">http://ocean.nationalgeographic.com/ocean/photos/discovering-titanic</td></tr>\\n<tr><td class=\\\"cell-1\\\" style=\\\"text-align:right;\\\">59</td> <td class=\\\"cell-2\\\" style=\\\"\\\">http://ocean.nationalgeographic.com/take-action/marine-food-chain</td></tr>\\n    \\n    <tr><td class=\\\"cell-1\\\" style=\\\"text-align:right;\\\">54</td> <td class=\\\"cell-2\\\" style=\\\"\\\">http://ocean.nationalgeographic.com/ocean/photos/translucent-sea-creatures</td></tr>\\n<tr><td class=\\\"cell-1\\\" style=\\\"text-align:right;\\\">51</td> <td class=\\\"cell-2\\\" style=\\\"\\\">http://ocean.nationalgeographic.com/ocean/photos/unique-sea-creatures</td></tr>\\n<tr><td class=\\\"cell-1\\\" style=\\\"text-align:right;\\\">47</td> <td class=\\\"cell-2\\\" style=\\\"\\\">http://ocean.nationalgeographic.com/ocean/photos/squid</td></tr>\\n<tr><td class=\\\"cell-1\\\" style=\\\"text-align:right;\\\">46</td> <td class=\\\"cell-2\\\" style=\\\"\\\">http://ocean.nationalgeographic.com/ocean/photos/us-marine-protected-areas</td></tr>\\n<tr><td class=\\\"cell-1\\\" style=\\\"text-align:right;\\\">43</td> <td class=\\\"cell-2\\\" style=\\\"\\\">http://ocean.nationalgeographic.com/ocean/photos/sea-urchins</td></tr>\\n<tr><td class=\\\"cell-1\\\" style=\\\"text-align:right;\\\">41</td> <td class=\\\"cell-2\\\" style=\\\"\\\">http://ocean.nationalgeographic.com/ocean/photos/sea-birds</td></tr>\\n<tr><td class=\\\"cell-1\\\" style=\\\"text-align:right;\\\">35</td> <td class=\\\"cell-2\\\" style=\\\"\\\">http://ocean.nationalgeographic.com/ocean/photos/nudibranchs</td></tr>\\n<tr><td class=\\\"cell-1\\\" style=\\\"text-align:right;\\\">33</td> <td class=\\\"cell-2\\\" style=\\\"\\\">http://ocean.nationalgeographic.com/ocean/photos/ocean-corals</td></tr>\\n<tr><td class=\\\"cell-1\\\" style=\\\"text-align:right;\\\">30</td> <td class=\\\"cell-2\\\" style=\\\"\\\">http://ocean.nationalgeographic.com/ocean/photos/electroreceptive-fish</td></tr>\\n<tr><td class=\\\"cell-1\\\" style=\\\"text-align:right;\\\">29</td> <td class=\\\"cell-2\\\" style=\\\"\\\">http://ocean.nationalgeographic.com/ocean/photos/marine-species-under-threat</td></tr>\\n<tr><td class=\\\"cell-1\\\" style=\\\"text-align:right;\\\">22</td> <td class=\\\"cell-2\\\" style=\\\"\\\">http://ocean.nationalgeographic.com/ocean/photos/starfish</td></tr>\\n<tr><td class=\\\"cell-1\\\" style=\\\"text-align:right;\\\">21</td> <td class=\\\"cell-2\\\" style=\\\"\\\">http://ocean.nationalgeographic.com/ocean/photos/oceans-galleries-main</td></tr>\\n    </tbody>\\n\")"
      ]
     },
     "metadata": {},
     "output_type": "display_data"
    },
    {
     "data": {
      "text/html": [
       "    <table  class=\"dataframe-table\">\n",
       "    <thead><tr><th class=\"cell-1\" style=\"\">Views</th> <th class=\"cell-2\" style=\"\">Url - Ocean WPF</th></tr></thead>\n",
       "    <tbody>\n",
       "    <tr><td class=\"cell-1\" style=\"text-align:right;\">20</td> <td class=\"cell-2\" style=\"\">http://ocean.nationalgeographic.com/ocean/photos/coral-reefs</td></tr>\n",
       "<tr><td class=\"cell-1\" style=\"text-align:right;\">19</td> <td class=\"cell-2\" style=\"\">http://ocean.nationalgeographic.com/ocean/photos/sea-anemone</td></tr>\n",
       "<tr><td class=\"cell-1\" style=\"text-align:right;\">17</td> <td class=\"cell-2\" style=\"\">http://ocean.nationalgeographic.com/ocean/photos/sea-creature-survival-skills</td></tr>\n",
       "<tr><td class=\"cell-1\" style=\"text-align:right;\">17</td> <td class=\"cell-2\" style=\"\">http://ocean.nationalgeographic.com/ocean/photos/ocean-pollution</td></tr>\n",
       "<tr><td class=\"cell-1\" style=\"text-align:right;\">16</td> <td class=\"cell-2\" style=\"\">http://ocean.nationalgeographic.com/ocean/take-action/seafood-substitutions</td></tr>\n",
       "<tr><td class=\"cell-1\" style=\"text-align:right;\">14</td> <td class=\"cell-2\" style=\"\">http://ocean.nationalgeographic.com/ocean/underwater-exploration</td></tr>\n",
       "    \n",
       "    <tr><td class=\"cell-1\" style=\"text-align:right;\">13</td> <td class=\"cell-2\" style=\"\">http://ocean.nationalgeographic.com/ocean/photos/sea-level-rise</td></tr>\n",
       "<tr><td class=\"cell-1\" style=\"text-align:right;\">12</td> <td class=\"cell-2\" style=\"\">http://ocean.nationalgeographic.com/ocean/protect</td></tr>\n",
       "<tr><td class=\"cell-1\" style=\"text-align:right;\">12</td> <td class=\"cell-2\" style=\"\">http://ocean.nationalgeographic.com/ocean/photos/ocean-reefs</td></tr>\n",
       "<tr><td class=\"cell-1\" style=\"text-align:right;\">12</td> <td class=\"cell-2\" style=\"\">http://ocean.nationalgeographic.com/ocean/photos/marine-microbes</td></tr>\n",
       "<tr><td class=\"cell-1\" style=\"text-align:right;\">12</td> <td class=\"cell-2\" style=\"\">http://ocean.nationalgeographic.com/ocean/photos/undersea-camouflage</td></tr>\n",
       "<tr><td class=\"cell-1\" style=\"text-align:right;\">11</td> <td class=\"cell-2\" style=\"\">http://ocean.nationalgeographic.com/ocean/photos/ocean-wildlife</td></tr>\n",
       "    </tbody>\n"
      ],
      "text/plain": [
       "HTML{UTF8String}(\"    <table  class=\\\"dataframe-table\\\">\\n    <thead><tr><th class=\\\"cell-1\\\" style=\\\"\\\">Views</th> <th class=\\\"cell-2\\\" style=\\\"\\\">Url - Ocean WPF</th></tr></thead>\\n    <tbody>\\n    <tr><td class=\\\"cell-1\\\" style=\\\"text-align:right;\\\">20</td> <td class=\\\"cell-2\\\" style=\\\"\\\">http://ocean.nationalgeographic.com/ocean/photos/coral-reefs</td></tr>\\n<tr><td class=\\\"cell-1\\\" style=\\\"text-align:right;\\\">19</td> <td class=\\\"cell-2\\\" style=\\\"\\\">http://ocean.nationalgeographic.com/ocean/photos/sea-anemone</td></tr>\\n<tr><td class=\\\"cell-1\\\" style=\\\"text-align:right;\\\">17</td> <td class=\\\"cell-2\\\" style=\\\"\\\">http://ocean.nationalgeographic.com/ocean/photos/sea-creature-survival-skills</td></tr>\\n<tr><td class=\\\"cell-1\\\" style=\\\"text-align:right;\\\">17</td> <td class=\\\"cell-2\\\" style=\\\"\\\">http://ocean.nationalgeographic.com/ocean/photos/ocean-pollution</td></tr>\\n<tr><td class=\\\"cell-1\\\" style=\\\"text-align:right;\\\">16</td> <td class=\\\"cell-2\\\" style=\\\"\\\">http://ocean.nationalgeographic.com/ocean/take-action/seafood-substitutions</td></tr>\\n<tr><td class=\\\"cell-1\\\" style=\\\"text-align:right;\\\">14</td> <td class=\\\"cell-2\\\" style=\\\"\\\">http://ocean.nationalgeographic.com/ocean/underwater-exploration</td></tr>\\n    \\n    <tr><td class=\\\"cell-1\\\" style=\\\"text-align:right;\\\">13</td> <td class=\\\"cell-2\\\" style=\\\"\\\">http://ocean.nationalgeographic.com/ocean/photos/sea-level-rise</td></tr>\\n<tr><td class=\\\"cell-1\\\" style=\\\"text-align:right;\\\">12</td> <td class=\\\"cell-2\\\" style=\\\"\\\">http://ocean.nationalgeographic.com/ocean/protect</td></tr>\\n<tr><td class=\\\"cell-1\\\" style=\\\"text-align:right;\\\">12</td> <td class=\\\"cell-2\\\" style=\\\"\\\">http://ocean.nationalgeographic.com/ocean/photos/ocean-reefs</td></tr>\\n<tr><td class=\\\"cell-1\\\" style=\\\"text-align:right;\\\">12</td> <td class=\\\"cell-2\\\" style=\\\"\\\">http://ocean.nationalgeographic.com/ocean/photos/marine-microbes</td></tr>\\n<tr><td class=\\\"cell-1\\\" style=\\\"text-align:right;\\\">12</td> <td class=\\\"cell-2\\\" style=\\\"\\\">http://ocean.nationalgeographic.com/ocean/photos/undersea-camouflage</td></tr>\\n<tr><td class=\\\"cell-1\\\" style=\\\"text-align:right;\\\">11</td> <td class=\\\"cell-2\\\" style=\\\"\\\">http://ocean.nationalgeographic.com/ocean/photos/ocean-wildlife</td></tr>\\n    </tbody>\\n\")"
      ]
     },
     "metadata": {},
     "output_type": "display_data"
    },
    {
     "data": {
      "text/html": [
       "<div class=\"dswbOutputText\"><h1 class=\"chart_title\" style=\"color:#ccc\">Top 10000 (min 10) WPF URLs for Photography WPF</h1><h3 class=\"chart_info\" style=\"color:#ccc\">Note: If you see AEM URL's in this list tell Chris Davis</h3><h3 class=\"chart_info\" style=\"color:#ccc\">July 29, 2017 23:59:00 to July 30, 2017 23:59:00 Local Time</h3></div>"
      ]
     },
     "metadata": {},
     "output_type": "display_data"
    },
    {
     "data": {
      "text/html": [
       "    <table  class=\"dataframe-table\">\n",
       "    <thead><tr><th class=\"cell-1\" style=\"\">Views</th> <th class=\"cell-2\" style=\"\">Url - Photography WPF</th></tr></thead>\n",
       "    <tbody>\n",
       "    <tr><td class=\"cell-1\" style=\"text-align:right;\">350</td> <td class=\"cell-2\" style=\"\">http://photography.nationalgeographic.com/nature-photographer-of-the-year-2016/gallery/week-7-all/1</td></tr>\n",
       "<tr><td class=\"cell-1\" style=\"text-align:right;\">207</td> <td class=\"cell-2\" style=\"\">http://photography.nationalgeographic.com/nature-photographer-of-the-year-2016/gallery/winners-all/1</td></tr>\n",
       "<tr><td class=\"cell-1\" style=\"text-align:right;\">163</td> <td class=\"cell-2\" style=\"\">http://photography.nationalgeographic.com/nature-photographer-of-the-year-2016</td></tr>\n",
       "<tr><td class=\"cell-1\" style=\"text-align:right;\">130</td> <td class=\"cell-2\" style=\"\">http://photography.nationalgeographic.com/photography/photo-of-the-day/landscapes</td></tr>\n",
       "<tr><td class=\"cell-1\" style=\"text-align:right;\">59</td> <td class=\"cell-2\" style=\"\">http://photography.nationalgeographic.com/photography/photo-of-the-day/nature-weather</td></tr>\n",
       "<tr><td class=\"cell-1\" style=\"text-align:right;\">53</td> <td class=\"cell-2\" style=\"\">http://photography.nationalgeographic.com/nature-photographer-of-the-year-2016/wallpapers/winners-all/1</td></tr>\n",
       "<tr><td class=\"cell-1\" style=\"text-align:right;\">51</td> <td class=\"cell-2\" style=\"\">http://photography.nationalgeographic.com/photography/photo-of-the-day/people-culture</td></tr>\n",
       "<tr><td class=\"cell-1\" style=\"text-align:right;\">46</td> <td class=\"cell-2\" style=\"\">http://photography.nationalgeographic.com/nature-photographer-of-the-year-2016/wallpapers/week-11-landscape/1</td></tr>\n",
       "<tr><td class=\"cell-1\" style=\"text-align:right;\">45</td> <td class=\"cell-2\" style=\"\">http://photography.nationalgeographic.com/photography/photo-of-the-day/animals</td></tr>\n",
       "    \n",
       "    <tr><td class=\"cell-1\" style=\"text-align:right;\">45</td> <td class=\"cell-2\" style=\"\">http://photography.nationalgeographic.com/nature-photographer-of-the-year-2016/wallpapers/week-11-animal-portraits/6</td></tr>\n",
       "<tr><td class=\"cell-1\" style=\"text-align:right;\">43</td> <td class=\"cell-2\" style=\"\">http://photography.nationalgeographic.com/photography/photo-of-the-day/archive</td></tr>\n",
       "<tr><td class=\"cell-1\" style=\"text-align:right;\">31</td> <td class=\"cell-2\" style=\"\">http://photography.nationalgeographic.com/nature-photographer-of-the-year-2016/gallery/winners-animal-portraits/1</td></tr>\n",
       "<tr><td class=\"cell-1\" style=\"text-align:right;\">25</td> <td class=\"cell-2\" style=\"\">http://photography.nationalgeographic.com/photography/photo-of-the-day/travel</td></tr>\n",
       "<tr><td class=\"cell-1\" style=\"text-align:right;\">21</td> <td class=\"cell-2\" style=\"\">http://photography.nationalgeographic.com/contest-2015</td></tr>\n",
       "<tr><td class=\"cell-1\" style=\"text-align:right;\">19</td> <td class=\"cell-2\" style=\"\">http://photography.nationalgeographic.com/nature-photographer-of-the-year-2016/gallery/winners-environmental-issues/1</td></tr>\n",
       "<tr><td class=\"cell-1\" style=\"text-align:right;\">18</td> <td class=\"cell-2\" style=\"\">http://photography.nationalgeographic.com/photography/photo-of-the-day/underwater</td></tr>\n",
       "<tr><td class=\"cell-1\" style=\"text-align:right;\">17</td> <td class=\"cell-2\" style=\"\">http://photography.nationalgeographic.com/nature-photographer-of-the-year-2016/gallery/winners-landscape/1</td></tr>\n",
       "<tr><td class=\"cell-1\" style=\"text-align:right;\">15</td> <td class=\"cell-2\" style=\"\">http://photography.nationalgeographic.com/photography/photo-of-the-day/black-white</td></tr>\n",
       "    </tbody>\n"
      ],
      "text/plain": [
       "HTML{UTF8String}(\"    <table  class=\\\"dataframe-table\\\">\\n    <thead><tr><th class=\\\"cell-1\\\" style=\\\"\\\">Views</th> <th class=\\\"cell-2\\\" style=\\\"\\\">Url - Photography WPF</th></tr></thead>\\n    <tbody>\\n    <tr><td class=\\\"cell-1\\\" style=\\\"text-align:right;\\\">350</td> <td class=\\\"cell-2\\\" style=\\\"\\\">http://photography.nationalgeographic.com/nature-photographer-of-the-year-2016/gallery/week-7-all/1</td></tr>\\n<tr><td class=\\\"cell-1\\\" style=\\\"text-align:right;\\\">207</td> <td class=\\\"cell-2\\\" style=\\\"\\\">http://photography.nationalgeographic.com/nature-photographer-of-the-year-2016/gallery/winners-all/1</td></tr>\\n<tr><td class=\\\"cell-1\\\" style=\\\"text-align:right;\\\">163</td> <td class=\\\"cell-2\\\" style=\\\"\\\">http://photography.nationalgeographic.com/nature-photographer-of-the-year-2016</td></tr>\\n<tr><td class=\\\"cell-1\\\" style=\\\"text-align:right;\\\">130</td> <td class=\\\"cell-2\\\" style=\\\"\\\">http://photography.nationalgeographic.com/photography/photo-of-the-day/landscapes</td></tr>\\n<tr><td class=\\\"cell-1\\\" style=\\\"text-align:right;\\\">59</td> <td class=\\\"cell-2\\\" style=\\\"\\\">http://photography.nationalgeographic.com/photography/photo-of-the-day/nature-weather</td></tr>\\n<tr><td class=\\\"cell-1\\\" style=\\\"text-align:right;\\\">53</td> <td class=\\\"cell-2\\\" style=\\\"\\\">http://photography.nationalgeographic.com/nature-photographer-of-the-year-2016/wallpapers/winners-all/1</td></tr>\\n<tr><td class=\\\"cell-1\\\" style=\\\"text-align:right;\\\">51</td> <td class=\\\"cell-2\\\" style=\\\"\\\">http://photography.nationalgeographic.com/photography/photo-of-the-day/people-culture</td></tr>\\n<tr><td class=\\\"cell-1\\\" style=\\\"text-align:right;\\\">46</td> <td class=\\\"cell-2\\\" style=\\\"\\\">http://photography.nationalgeographic.com/nature-photographer-of-the-year-2016/wallpapers/week-11-landscape/1</td></tr>\\n<tr><td class=\\\"cell-1\\\" style=\\\"text-align:right;\\\">45</td> <td class=\\\"cell-2\\\" style=\\\"\\\">http://photography.nationalgeographic.com/photography/photo-of-the-day/animals</td></tr>\\n    \\n    <tr><td class=\\\"cell-1\\\" style=\\\"text-align:right;\\\">45</td> <td class=\\\"cell-2\\\" style=\\\"\\\">http://photography.nationalgeographic.com/nature-photographer-of-the-year-2016/wallpapers/week-11-animal-portraits/6</td></tr>\\n<tr><td class=\\\"cell-1\\\" style=\\\"text-align:right;\\\">43</td> <td class=\\\"cell-2\\\" style=\\\"\\\">http://photography.nationalgeographic.com/photography/photo-of-the-day/archive</td></tr>\\n<tr><td class=\\\"cell-1\\\" style=\\\"text-align:right;\\\">31</td> <td class=\\\"cell-2\\\" style=\\\"\\\">http://photography.nationalgeographic.com/nature-photographer-of-the-year-2016/gallery/winners-animal-portraits/1</td></tr>\\n<tr><td class=\\\"cell-1\\\" style=\\\"text-align:right;\\\">25</td> <td class=\\\"cell-2\\\" style=\\\"\\\">http://photography.nationalgeographic.com/photography/photo-of-the-day/travel</td></tr>\\n<tr><td class=\\\"cell-1\\\" style=\\\"text-align:right;\\\">21</td> <td class=\\\"cell-2\\\" style=\\\"\\\">http://photography.nationalgeographic.com/contest-2015</td></tr>\\n<tr><td class=\\\"cell-1\\\" style=\\\"text-align:right;\\\">19</td> <td class=\\\"cell-2\\\" style=\\\"\\\">http://photography.nationalgeographic.com/nature-photographer-of-the-year-2016/gallery/winners-environmental-issues/1</td></tr>\\n<tr><td class=\\\"cell-1\\\" style=\\\"text-align:right;\\\">18</td> <td class=\\\"cell-2\\\" style=\\\"\\\">http://photography.nationalgeographic.com/photography/photo-of-the-day/underwater</td></tr>\\n<tr><td class=\\\"cell-1\\\" style=\\\"text-align:right;\\\">17</td> <td class=\\\"cell-2\\\" style=\\\"\\\">http://photography.nationalgeographic.com/nature-photographer-of-the-year-2016/gallery/winners-landscape/1</td></tr>\\n<tr><td class=\\\"cell-1\\\" style=\\\"text-align:right;\\\">15</td> <td class=\\\"cell-2\\\" style=\\\"\\\">http://photography.nationalgeographic.com/photography/photo-of-the-day/black-white</td></tr>\\n    </tbody>\\n\")"
      ]
     },
     "metadata": {},
     "output_type": "display_data"
    },
    {
     "data": {
      "text/html": [
       "<div class=\"dswbOutputText\"><h1 class=\"chart_title\" style=\"color:#ccc\">Top 10000 (min 10) WPF URLs for Science WPF</h1><h3 class=\"chart_info\" style=\"color:#ccc\">Note: If you see AEM URL's in this list tell Chris Davis</h3><h3 class=\"chart_info\" style=\"color:#ccc\">July 29, 2017 23:59:00 to July 30, 2017 23:59:00 Local Time</h3></div>"
      ]
     },
     "metadata": {},
     "output_type": "display_data"
    },
    {
     "data": {
      "text/html": [
       "    <table  class=\"dataframe-table\">\n",
       "    <thead><tr><th class=\"cell-1\" style=\"\">Views</th> <th class=\"cell-2\" style=\"\">Url - Science WPF</th></tr></thead>\n",
       "    <tbody>\n",
       "    <tr><td class=\"cell-1\" style=\"text-align:right;\">54</td> <td class=\"cell-2\" style=\"\">http://science.nationalgeographic.com/science/prehistoric-world/permian-extinction</td></tr>\n",
       "<tr><td class=\"cell-1\" style=\"text-align:right;\">53</td> <td class=\"cell-2\" style=\"\">http://science.nationalgeographic.com/science/photos/brain</td></tr>\n",
       "<tr><td class=\"cell-1\" style=\"text-align:right;\">40</td> <td class=\"cell-2\" style=\"\">http://science.nationalgeographic.com/science/photos/moon-exploration-gallery</td></tr>\n",
       "<tr><td class=\"cell-1\" style=\"text-align:right;\">24</td> <td class=\"cell-2\" style=\"\">http://science.nationalgeographic.com/science/space/solar-system/solar-eclipse-article</td></tr>\n",
       "<tr><td class=\"cell-1\" style=\"text-align:right;\">21</td> <td class=\"cell-2\" style=\"\">http://science.nationalgeographic.com/science/prehistoric-world/prehistoric-time-line</td></tr>\n",
       "<tr><td class=\"cell-1\" style=\"text-align:right;\">20</td> <td class=\"cell-2\" style=\"\">http://science.nationalgeographic.com/science/photos/moon-gallery</td></tr>\n",
       "<tr><td class=\"cell-1\" style=\"text-align:right;\">15</td> <td class=\"cell-2\" style=\"\">http://science.nationalgeographic.com/science/photos/minerals</td></tr>\n",
       "    \n",
       "    <tr><td class=\"cell-1\" style=\"text-align:right;\">15</td> <td class=\"cell-2\" style=\"\">http://science.nationalgeographic.com/science/health-and-human-body/human-body/fat-costs</td></tr>\n",
       "<tr><td class=\"cell-1\" style=\"text-align:right;\">15</td> <td class=\"cell-2\" style=\"\">http://science.nationalgeographic.com/science/archaeology/photos/gobekli-tepe</td></tr>\n",
       "<tr><td class=\"cell-1\" style=\"text-align:right;\">14</td> <td class=\"cell-2\" style=\"\">http://science.nationalgeographic.com/science/photos/gems</td></tr>\n",
       "<tr><td class=\"cell-1\" style=\"text-align:right;\">13</td> <td class=\"cell-2\" style=\"\">http://science.nationalgeographic.com/science/photos/hubble-images-gallery</td></tr>\n",
       "<tr><td class=\"cell-1\" style=\"text-align:right;\">12</td> <td class=\"cell-2\" style=\"\">http://science.nationalgeographic.com/science/photos/earth-moon-gallery</td></tr>\n",
       "<tr><td class=\"cell-1\" style=\"text-align:right;\">12</td> <td class=\"cell-2\" style=\"\">http://science.nationalgeographic.com/science/photos/permian-period</td></tr>\n",
       "    </tbody>\n"
      ],
      "text/plain": [
       "HTML{UTF8String}(\"    <table  class=\\\"dataframe-table\\\">\\n    <thead><tr><th class=\\\"cell-1\\\" style=\\\"\\\">Views</th> <th class=\\\"cell-2\\\" style=\\\"\\\">Url - Science WPF</th></tr></thead>\\n    <tbody>\\n    <tr><td class=\\\"cell-1\\\" style=\\\"text-align:right;\\\">54</td> <td class=\\\"cell-2\\\" style=\\\"\\\">http://science.nationalgeographic.com/science/prehistoric-world/permian-extinction</td></tr>\\n<tr><td class=\\\"cell-1\\\" style=\\\"text-align:right;\\\">53</td> <td class=\\\"cell-2\\\" style=\\\"\\\">http://science.nationalgeographic.com/science/photos/brain</td></tr>\\n<tr><td class=\\\"cell-1\\\" style=\\\"text-align:right;\\\">40</td> <td class=\\\"cell-2\\\" style=\\\"\\\">http://science.nationalgeographic.com/science/photos/moon-exploration-gallery</td></tr>\\n<tr><td class=\\\"cell-1\\\" style=\\\"text-align:right;\\\">24</td> <td class=\\\"cell-2\\\" style=\\\"\\\">http://science.nationalgeographic.com/science/space/solar-system/solar-eclipse-article</td></tr>\\n<tr><td class=\\\"cell-1\\\" style=\\\"text-align:right;\\\">21</td> <td class=\\\"cell-2\\\" style=\\\"\\\">http://science.nationalgeographic.com/science/prehistoric-world/prehistoric-time-line</td></tr>\\n<tr><td class=\\\"cell-1\\\" style=\\\"text-align:right;\\\">20</td> <td class=\\\"cell-2\\\" style=\\\"\\\">http://science.nationalgeographic.com/science/photos/moon-gallery</td></tr>\\n<tr><td class=\\\"cell-1\\\" style=\\\"text-align:right;\\\">15</td> <td class=\\\"cell-2\\\" style=\\\"\\\">http://science.nationalgeographic.com/science/photos/minerals</td></tr>\\n    \\n    <tr><td class=\\\"cell-1\\\" style=\\\"text-align:right;\\\">15</td> <td class=\\\"cell-2\\\" style=\\\"\\\">http://science.nationalgeographic.com/science/health-and-human-body/human-body/fat-costs</td></tr>\\n<tr><td class=\\\"cell-1\\\" style=\\\"text-align:right;\\\">15</td> <td class=\\\"cell-2\\\" style=\\\"\\\">http://science.nationalgeographic.com/science/archaeology/photos/gobekli-tepe</td></tr>\\n<tr><td class=\\\"cell-1\\\" style=\\\"text-align:right;\\\">14</td> <td class=\\\"cell-2\\\" style=\\\"\\\">http://science.nationalgeographic.com/science/photos/gems</td></tr>\\n<tr><td class=\\\"cell-1\\\" style=\\\"text-align:right;\\\">13</td> <td class=\\\"cell-2\\\" style=\\\"\\\">http://science.nationalgeographic.com/science/photos/hubble-images-gallery</td></tr>\\n<tr><td class=\\\"cell-1\\\" style=\\\"text-align:right;\\\">12</td> <td class=\\\"cell-2\\\" style=\\\"\\\">http://science.nationalgeographic.com/science/photos/earth-moon-gallery</td></tr>\\n<tr><td class=\\\"cell-1\\\" style=\\\"text-align:right;\\\">12</td> <td class=\\\"cell-2\\\" style=\\\"\\\">http://science.nationalgeographic.com/science/photos/permian-period</td></tr>\\n    </tbody>\\n\")"
      ]
     },
     "metadata": {},
     "output_type": "display_data"
    },
    {
     "data": {
      "text/html": [
       "<div class=\"dswbOutputText\"><h1 class=\"chart_title\" style=\"color:#ccc\">Top 10000 (min 10) WPF URLs for Travel WPF</h1><h3 class=\"chart_info\" style=\"color:#ccc\">Note: If you see AEM URL's in this list tell Chris Davis</h3><h3 class=\"chart_info\" style=\"color:#ccc\">July 29, 2017 23:59:00 to July 30, 2017 23:59:00 Local Time</h3></div>"
      ]
     },
     "metadata": {},
     "output_type": "display_data"
    },
    {
     "data": {
      "text/html": [
       "    <table  class=\"dataframe-table\">\n",
       "    <thead><tr><th class=\"cell-1\" style=\"\">Views</th> <th class=\"cell-2\" style=\"\">Url - Travel WPF</th></tr></thead>\n",
       "    <tbody>\n",
       "    <tr><td class=\"cell-1\" style=\"text-align:right;\">204</td> <td class=\"cell-2\" style=\"\">http://travel.nationalgeographic.com/travel/americas-best-road-trips</td></tr>\n",
       "<tr><td class=\"cell-1\" style=\"text-align:right;\">92</td> <td class=\"cell-2\" style=\"\">http://travel.nationalgeographic.com/photographer-of-the-year-2016/wallpapers/winners-all/1</td></tr>\n",
       "<tr><td class=\"cell-1\" style=\"text-align:right;\">55</td> <td class=\"cell-2\" style=\"\">http://travel.nationalgeographic.com/travel/travel-photos</td></tr>\n",
       "<tr><td class=\"cell-1\" style=\"text-align:right;\">45</td> <td class=\"cell-2\" style=\"\">http://travel.nationalgeographic.com/_E2_80_A6/peoples-choice-all/15</td></tr>\n",
       "<tr><td class=\"cell-1\" style=\"text-align:right;\">44</td> <td class=\"cell-2\" style=\"\">http://travel.nationalgeographic.com/travel/national-parks</td></tr>\n",
       "<tr><td class=\"cell-1\" style=\"text-align:right;\">35</td> <td class=\"cell-2\" style=\"\">http://travel.nationalgeographic.com/travel/countries/patagonia-photos</td></tr>\n",
       "<tr><td class=\"cell-1\" style=\"text-align:right;\">31</td> <td class=\"cell-2\" style=\"\">http://travel.nationalgeographic.com/travel/city-guides/budapest-hungary</td></tr>\n",
       "<tr><td class=\"cell-1\" style=\"text-align:right;\">30</td> <td class=\"cell-2\" style=\"\">http://travel.nationalgeographic.com/photographer-of-the-year-2016/gallery/winners-all/1</td></tr>\n",
       "<tr><td class=\"cell-1\" style=\"text-align:right;\">30</td> <td class=\"cell-2\" style=\"\">http://travel.nationalgeographic.com/photo-contest-2015/gallery/winners-all/1</td></tr>\n",
       "<tr><td class=\"cell-1\" style=\"text-align:right;\">27</td> <td class=\"cell-2\" style=\"\">http://travel.nationalgeographic.com/travel/countries/beach-photos</td></tr>\n",
       "<tr><td class=\"cell-1\" style=\"text-align:right;\">26</td> <td class=\"cell-2\" style=\"\">http://travel.nationalgeographic.com/travel/travel-quizzes</td></tr>\n",
       "<tr><td class=\"cell-1\" style=\"text-align:right;\">25</td> <td class=\"cell-2\" style=\"\">http://travel.nationalgeographic.com/travel/countries/scotland-photos</td></tr>\n",
       "<tr><td class=\"cell-1\" style=\"text-align:right;\">21</td> <td class=\"cell-2\" style=\"\">http://travel.nationalgeographic.com/travel/parks/european-parks</td></tr>\n",
       "    \n",
       "    <tr><td class=\"cell-1\" style=\"text-align:right;\">20</td> <td class=\"cell-2\" style=\"\">http://travel.nationalgeographic.com/travel/countries/tattoos-piercings-scarification-photos</td></tr>\n",
       "<tr><td class=\"cell-1\" style=\"text-align:right;\">19</td> <td class=\"cell-2\" style=\"\">http://travel.nationalgeographic.com/travel/parks/canada-national-parks</td></tr>\n",
       "<tr><td class=\"cell-1\" style=\"text-align:right;\">18</td> <td class=\"cell-2\" style=\"\">http://travel.nationalgeographic.com/travel/enduring-voices</td></tr>\n",
       "<tr><td class=\"cell-1\" style=\"text-align:right;\">17</td> <td class=\"cell-2\" style=\"\">http://travel.nationalgeographic.com/travel/countries/your-architecture-photos</td></tr>\n",
       "<tr><td class=\"cell-1\" style=\"text-align:right;\">16</td> <td class=\"cell-2\" style=\"\">http://travel.nationalgeographic.com/travel/365-photos/side-street-stockholm-sweden</td></tr>\n",
       "<tr><td class=\"cell-1\" style=\"text-align:right;\">16</td> <td class=\"cell-2\" style=\"\">http://travel.nationalgeographic.com/travel/continents/africa</td></tr>\n",
       "<tr><td class=\"cell-1\" style=\"text-align:right;\">15</td> <td class=\"cell-2\" style=\"\">http://travel.nationalgeographic.com/travel/countries/castles-photos</td></tr>\n",
       "<tr><td class=\"cell-1\" style=\"text-align:right;\">15</td> <td class=\"cell-2\" style=\"\">http://travel.nationalgeographic.com/travel/city-guides/paris-walking-tour-2</td></tr>\n",
       "<tr><td class=\"cell-1\" style=\"text-align:right;\">14</td> <td class=\"cell-2\" style=\"\">http://travel.nationalgeographic.com/photo-contest-2015/gallery/week-11-all/35</td></tr>\n",
       "<tr><td class=\"cell-1\" style=\"text-align:right;\">13</td> <td class=\"cell-2\" style=\"\">http://travel.nationalgeographic.com/travel/365-photos/sunrise-mount-fitz-roy-argentina</td></tr>\n",
       "<tr><td class=\"cell-1\" style=\"text-align:right;\">11</td> <td class=\"cell-2\" style=\"\">http://travel.nationalgeographic.com/travel/road-trips/four-corners-southwest-map</td></tr>\n",
       "<tr><td class=\"cell-1\" style=\"text-align:right;\">11</td> <td class=\"cell-2\" style=\"\">http://travel.nationalgeographic.com/travel/traveler-magazine/archives</td></tr>\n",
       "    </tbody>\n"
      ],
      "text/plain": [
       "HTML{UTF8String}(\"    <table  class=\\\"dataframe-table\\\">\\n    <thead><tr><th class=\\\"cell-1\\\" style=\\\"\\\">Views</th> <th class=\\\"cell-2\\\" style=\\\"\\\">Url - Travel WPF</th></tr></thead>\\n    <tbody>\\n    <tr><td class=\\\"cell-1\\\" style=\\\"text-align:right;\\\">204</td> <td class=\\\"cell-2\\\" style=\\\"\\\">http://travel.nationalgeographic.com/travel/americas-best-road-trips</td></tr>\\n<tr><td class=\\\"cell-1\\\" style=\\\"text-align:right;\\\">92</td> <td class=\\\"cell-2\\\" style=\\\"\\\">http://travel.nationalgeographic.com/photographer-of-the-year-2016/wallpapers/winners-all/1</td></tr>\\n<tr><td class=\\\"cell-1\\\" style=\\\"text-align:right;\\\">55</td> <td class=\\\"cell-2\\\" style=\\\"\\\">http://travel.nationalgeographic.com/travel/travel-photos</td></tr>\\n<tr><td class=\\\"cell-1\\\" style=\\\"text-align:right;\\\">45</td> <td class=\\\"cell-2\\\" style=\\\"\\\">http://travel.nationalgeographic.com/_E2_80_A6/peoples-choice-all/15</td></tr>\\n<tr><td class=\\\"cell-1\\\" style=\\\"text-align:right;\\\">44</td> <td class=\\\"cell-2\\\" style=\\\"\\\">http://travel.nationalgeographic.com/travel/national-parks</td></tr>\\n<tr><td class=\\\"cell-1\\\" style=\\\"text-align:right;\\\">35</td> <td class=\\\"cell-2\\\" style=\\\"\\\">http://travel.nationalgeographic.com/travel/countries/patagonia-photos</td></tr>\\n<tr><td class=\\\"cell-1\\\" style=\\\"text-align:right;\\\">31</td> <td class=\\\"cell-2\\\" style=\\\"\\\">http://travel.nationalgeographic.com/travel/city-guides/budapest-hungary</td></tr>\\n<tr><td class=\\\"cell-1\\\" style=\\\"text-align:right;\\\">30</td> <td class=\\\"cell-2\\\" style=\\\"\\\">http://travel.nationalgeographic.com/photographer-of-the-year-2016/gallery/winners-all/1</td></tr>\\n<tr><td class=\\\"cell-1\\\" style=\\\"text-align:right;\\\">30</td> <td class=\\\"cell-2\\\" style=\\\"\\\">http://travel.nationalgeographic.com/photo-contest-2015/gallery/winners-all/1</td></tr>\\n<tr><td class=\\\"cell-1\\\" style=\\\"text-align:right;\\\">27</td> <td class=\\\"cell-2\\\" style=\\\"\\\">http://travel.nationalgeographic.com/travel/countries/beach-photos</td></tr>\\n<tr><td class=\\\"cell-1\\\" style=\\\"text-align:right;\\\">26</td> <td class=\\\"cell-2\\\" style=\\\"\\\">http://travel.nationalgeographic.com/travel/travel-quizzes</td></tr>\\n<tr><td class=\\\"cell-1\\\" style=\\\"text-align:right;\\\">25</td> <td class=\\\"cell-2\\\" style=\\\"\\\">http://travel.nationalgeographic.com/travel/countries/scotland-photos</td></tr>\\n<tr><td class=\\\"cell-1\\\" style=\\\"text-align:right;\\\">21</td> <td class=\\\"cell-2\\\" style=\\\"\\\">http://travel.nationalgeographic.com/travel/parks/european-parks</td></tr>\\n    \\n    <tr><td class=\\\"cell-1\\\" style=\\\"text-align:right;\\\">20</td> <td class=\\\"cell-2\\\" style=\\\"\\\">http://travel.nationalgeographic.com/travel/countries/tattoos-piercings-scarification-photos</td></tr>\\n<tr><td class=\\\"cell-1\\\" style=\\\"text-align:right;\\\">19</td> <td class=\\\"cell-2\\\" style=\\\"\\\">http://travel.nationalgeographic.com/travel/parks/canada-national-parks</td></tr>\\n<tr><td class=\\\"cell-1\\\" style=\\\"text-align:right;\\\">18</td> <td class=\\\"cell-2\\\" style=\\\"\\\">http://travel.nationalgeographic.com/travel/enduring-voices</td></tr>\\n<tr><td class=\\\"cell-1\\\" style=\\\"text-align:right;\\\">17</td> <td class=\\\"cell-2\\\" style=\\\"\\\">http://travel.nationalgeographic.com/travel/countries/your-architecture-photos</td></tr>\\n<tr><td class=\\\"cell-1\\\" style=\\\"text-align:right;\\\">16</td> <td class=\\\"cell-2\\\" style=\\\"\\\">http://travel.nationalgeographic.com/travel/365-photos/side-street-stockholm-sweden</td></tr>\\n<tr><td class=\\\"cell-1\\\" style=\\\"text-align:right;\\\">16</td> <td class=\\\"cell-2\\\" style=\\\"\\\">http://travel.nationalgeographic.com/travel/continents/africa</td></tr>\\n<tr><td class=\\\"cell-1\\\" style=\\\"text-align:right;\\\">15</td> <td class=\\\"cell-2\\\" style=\\\"\\\">http://travel.nationalgeographic.com/travel/countries/castles-photos</td></tr>\\n<tr><td class=\\\"cell-1\\\" style=\\\"text-align:right;\\\">15</td> <td class=\\\"cell-2\\\" style=\\\"\\\">http://travel.nationalgeographic.com/travel/city-guides/paris-walking-tour-2</td></tr>\\n<tr><td class=\\\"cell-1\\\" style=\\\"text-align:right;\\\">14</td> <td class=\\\"cell-2\\\" style=\\\"\\\">http://travel.nationalgeographic.com/photo-contest-2015/gallery/week-11-all/35</td></tr>\\n<tr><td class=\\\"cell-1\\\" style=\\\"text-align:right;\\\">13</td> <td class=\\\"cell-2\\\" style=\\\"\\\">http://travel.nationalgeographic.com/travel/365-photos/sunrise-mount-fitz-roy-argentina</td></tr>\\n<tr><td class=\\\"cell-1\\\" style=\\\"text-align:right;\\\">11</td> <td class=\\\"cell-2\\\" style=\\\"\\\">http://travel.nationalgeographic.com/travel/road-trips/four-corners-southwest-map</td></tr>\\n<tr><td class=\\\"cell-1\\\" style=\\\"text-align:right;\\\">11</td> <td class=\\\"cell-2\\\" style=\\\"\\\">http://travel.nationalgeographic.com/travel/traveler-magazine/archives</td></tr>\\n    </tbody>\\n\")"
      ]
     },
     "metadata": {},
     "output_type": "display_data"
    },
    {
     "data": {
      "text/html": [
       "    <table  class=\"dataframe-table\">\n",
       "    <thead><tr><th class=\"cell-1\" style=\"\">Views</th> <th class=\"cell-2\" style=\"\">Url - Travel WPF</th></tr></thead>\n",
       "    <tbody>\n",
       "    <tr><td class=\"cell-1\" style=\"text-align:right;\">11</td> <td class=\"cell-2\" style=\"\">http://travel.nationalgeographic.com/travel/continents/north-america</td></tr>\n",
       "<tr><td class=\"cell-1\" style=\"text-align:right;\">11</td> <td class=\"cell-2\" style=\"\">http://travel.nationalgeographic.com/travel/i-heart-quebec-city</td></tr>\n",
       "    \n",
       "    <tr><td class=\"cell-1\" style=\"text-align:right;\">11</td> <td class=\"cell-2\" style=\"\">http://travel.nationalgeographic.com/travel/city-guides/paris-walking-tour-3</td></tr>\n",
       "    </tbody>\n"
      ],
      "text/plain": [
       "HTML{UTF8String}(\"    <table  class=\\\"dataframe-table\\\">\\n    <thead><tr><th class=\\\"cell-1\\\" style=\\\"\\\">Views</th> <th class=\\\"cell-2\\\" style=\\\"\\\">Url - Travel WPF</th></tr></thead>\\n    <tbody>\\n    <tr><td class=\\\"cell-1\\\" style=\\\"text-align:right;\\\">11</td> <td class=\\\"cell-2\\\" style=\\\"\\\">http://travel.nationalgeographic.com/travel/continents/north-america</td></tr>\\n<tr><td class=\\\"cell-1\\\" style=\\\"text-align:right;\\\">11</td> <td class=\\\"cell-2\\\" style=\\\"\\\">http://travel.nationalgeographic.com/travel/i-heart-quebec-city</td></tr>\\n    \\n    <tr><td class=\\\"cell-1\\\" style=\\\"text-align:right;\\\">11</td> <td class=\\\"cell-2\\\" style=\\\"\\\">http://travel.nationalgeographic.com/travel/city-guides/paris-walking-tour-3</td></tr>\\n    </tbody>\\n\")"
      ]
     },
     "metadata": {},
     "output_type": "display_data"
    },
    {
     "name": "stdout",
     "output_type": "stream",
     "text": [
      "scrubUrlToPrint Exception KeyError(:urlgroup)\n",
      "topUrlTable Exception KeyError(:count)\n"
     ]
    }
   ],
   "source": [
    "firstAndLast(UP.btView,\"Animals WPF\",rowLimit=10000,beaconsLimit=10,paginate=true);\n",
    "firstAndLast(UP.btView,\"Environment WPF\",rowLimit=10000,beaconsLimit=10,paginate=true);\n",
    "firstAndLast(UP.btView,\"Games WPF\",rowLimit=10000,beaconsLimit=10,paginate=true);\n",
    "firstAndLast(UP.btView,\"Images WPF\",rowLimit=10000,beaconsLimit=10,paginate=true);\n",
    "firstAndLast(UP.btView,\"Movies WPF\",rowLimit=10000,beaconsLimit=10,paginate=true);\n",
    "firstAndLast(UP.btView,\"Ocean WPF\",rowLimit=10000,beaconsLimit=10,paginate=true);\n",
    "firstAndLast(UP.btView,\"Photography WPF\",rowLimit=10000,beaconsLimit=10,paginate=true);\n",
    "firstAndLast(UP.btView,\"Science WPF\",rowLimit=10000,beaconsLimit=10,paginate=true);\n",
    "firstAndLast(UP.btView,\"Travel WPF\",rowLimit=10000,beaconsLimit=10,paginate=true);"
   ]
  },
  {
   "cell_type": "code",
   "execution_count": 8,
   "metadata": {
    "collapsed": true,
    "input_collapsed": true
   },
   "outputs": [],
   "source": []
  }
 ],
 "metadata": {
  "chart_version": "1.0.0",
  "kernelspec": {
   "display_name": "Julia 0.4.7",
   "language": "julia",
   "name": "julia-0.4"
  },
  "language_info": {
   "file_extension": ".jl",
   "mimetype": "application/julia",
   "name": "julia",
   "version": "0.4.7"
  },
  "library_version": "1.0.0",
  "notebook_uuid": "cd8eadc9-0398-4ae4-92aa-1efa40c56050",
  "readOnly": false
 },
 "nbformat": 4,
 "nbformat_minor": 0
}
