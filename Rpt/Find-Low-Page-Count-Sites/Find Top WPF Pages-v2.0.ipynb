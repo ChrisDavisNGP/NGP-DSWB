{
 "cells": [
  {
   "cell_type": "markdown",
   "metadata": {},
   "source": [
    "## Tables and Data Source setup"
   ]
  },
  {
   "cell_type": "code",
   "execution_count": null,
   "metadata": {
    "collapsed": false,
    "input_collapsed": false,
    "scrolled": true
   },
   "outputs": [],
   "source": [
    "using ODBC\n",
    "using DataFrames\n",
    "using DSWB\n",
    "using Formatting\n",
    "\n",
    "dsn = \"dswb-natgeo\" # Redshift endpoint\n",
    "table = \"beacons_4744\" # beacon table name\n",
    "tableRt = \"beacons_4744_rt\"\n",
    "\n",
    "# Connect to Beacon Data\n",
    "setRedshiftEndpoint(dsn)\n",
    "setTable(table)\n",
    "# setTable(tableRt, tableType = \"RESOURCE_TABLE\")\n",
    ";"
   ]
  },
  {
   "cell_type": "code",
   "execution_count": null,
   "metadata": {
    "collapsed": false,
    "input_collapsed": false
   },
   "outputs": [],
   "source": [
    "include(\"../../Lib/Include-Package-v2.1.jl\")\n",
    ";"
   ]
  },
  {
   "cell_type": "code",
   "execution_count": null,
   "metadata": {
    "collapsed": false,
    "input_collapsed": false
   },
   "outputs": [],
   "source": [
    "TV = weeklyTimeVariables(days=1)\n",
    "#TV = timeVariables(2017,6,8,10,59,2017,6,8,12,59)\n",
    "#TV = yesterdayTimeVariables()\n",
    ";"
   ]
  },
  {
   "cell_type": "code",
   "execution_count": null,
   "metadata": {
    "collapsed": true,
    "input_collapsed": false
   },
   "outputs": [],
   "source": [
    "UP = UrlParamsInit()\n",
    "UP.agentOs = \"%\"\n",
    "UP.btView = \"$(table)_top_page_pview_prod\" #localtable\n",
    "UP.deviceType = \"%\"\n",
    "UP.limitRows = 250\n",
    "UP.orderBy = \"time\"\n",
    "UP.pageGroup = \"%\"   #productPageGroup\n",
    "UP.rtView = \"$(tableRt)_top_page_pview_prod\" #localtableRt\n",
    "UP.samplesMin = 10\n",
    "UP.sizeMin = 10000\n",
    "UP.timeLowerMs = 2000.0\n",
    "UP.timeUpperMs = 60000.0\n",
    "UP.urlRegEx = \"%\"   #localUrl\n",
    "UP.urlFull = \"%\"\n",
    "UP.usePageLoad=false\n",
    "UrlParamsValidate(UP)\n",
    "\n",
    "SP = ShowParamsInit()\n",
    "SP.criticalPathOnly=true\n",
    "SP.desktop=true\n",
    "SP.devView=false\n",
    "SP.debug=false\n",
    "SP.debugLevel = 0   # Tests use even numbers with > tests, make this an odd number or zero\n",
    "SP.mobile=true\n",
    "ShowParamsValidate(SP)\n",
    ";"
   ]
  },
  {
   "cell_type": "code",
   "execution_count": null,
   "metadata": {
    "collapsed": false,
    "input_collapsed": false
   },
   "outputs": [],
   "source": [
    "cleanupTableFTWP(tv,UP)\n",
    ";"
   ]
  },
  {
   "cell_type": "code",
   "execution_count": null,
   "metadata": {
    "collapsed": false,
    "input_collapsed": false,
    "scrolled": false
   },
   "outputs": [],
   "source": [
    "displayTopUrlsByCount(TV,UP,SP,\"Adventure WPF\";rowLimit=10000,beaconsLimit=10,paginate=true);\n",
    "displayTopUrlsByCount(TV,UP,SP,\"Animals WPF\",rowLimit=10000,beaconsLimit=10,paginate=true);\n",
    "displayTopUrlsByCount(TV,UP,SP,\"Environment WPF\",rowLimit=10000,beaconsLimit=10,paginate=true);\n",
    "displayTopUrlsByCount(TV,UP,SP,\"Games WPF\",rowLimit=10000,beaconsLimit=10,paginate=true);\n",
    "displayTopUrlsByCount(TV,UP,SP,\"Images WPF\",rowLimit=10000,beaconsLimit=10,paginate=true);\n",
    "displayTopUrlsByCount(TV,UP,SP,\"Movies WPF\",rowLimit=10000,beaconsLimit=10,paginate=true);\n",
    "displayTopUrlsByCount(TV,UP,SP,\"Ocean WPF\",rowLimit=10000,beaconsLimit=10,paginate=true);\n",
    "displayTopUrlsByCount(TV,UP,SP,\"Photography WPF\",rowLimit=10000,beaconsLimit=10,paginate=true);\n",
    "displayTopUrlsByCount(TV,UP,SP,\"Science WPF\",rowLimit=10000,beaconsLimit=10,paginate=true);\n",
    "displayTopUrlsByCount(TV,UP,SP,\"Travel WPF\",rowLimit=10000,beaconsLimit=10,paginate=true);"
   ]
  },
  {
   "cell_type": "code",
   "execution_count": null,
   "metadata": {
    "collapsed": true,
    "input_collapsed": false
   },
   "outputs": [],
   "source": []
  }
 ],
 "metadata": {
  "chart_version": "1.0.0",
  "kernelspec": {
   "display_name": "Julia 0.4.7",
   "language": "julia",
   "name": "julia-0.4"
  },
  "language_info": {
   "file_extension": ".jl",
   "mimetype": "application/julia",
   "name": "julia",
   "version": "0.4.7"
  },
  "library_version": "1.0.0",
  "notebook_uuid": "cd8eadc9-0398-4ae4-92aa-1efa40c56050",
  "readOnly": false
 },
 "nbformat": 4,
 "nbformat_minor": 0
}
