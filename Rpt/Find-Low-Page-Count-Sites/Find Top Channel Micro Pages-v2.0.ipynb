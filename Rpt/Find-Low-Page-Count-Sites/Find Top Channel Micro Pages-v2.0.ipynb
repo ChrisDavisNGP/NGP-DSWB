{
 "cells": [
  {
   "cell_type": "markdown",
   "metadata": {},
   "source": [
    "## Tables and Data Source setup"
   ]
  },
  {
   "cell_type": "code",
   "execution_count": 1,
   "metadata": {
    "collapsed": false,
    "input_collapsed": false,
    "scrolled": true
   },
   "outputs": [
    {
     "name": "stdout",
     "output_type": "stream",
     "text": [
      "Redshift endpoint set: 2017-11-20T16:56:33\n"
     ]
    },
    {
     "data": {
      "text/plain": [
       "\"beacons_4744\""
      ]
     },
     "execution_count": 1,
     "metadata": {},
     "output_type": "execute_result"
    }
   ],
   "source": [
    "using ODBC\n",
    "using DataFrames\n",
    "using DSWB\n",
    "using Formatting\n",
    "\n",
    "dsn = \"dswb-natgeo\" # Redshift endpoint\n",
    "table = \"beacons_4744\" # beacon table name\n",
    "tableRt = \"beacons_4744_rt\"\n",
    "\n",
    "# Connect to Beacon Data\n",
    "setRedshiftEndpoint(dsn)\n",
    "setTable(table)\n",
    "# setTable(tableRt, tableType = \"RESOURCE_TABLE\")"
   ]
  },
  {
   "cell_type": "code",
   "execution_count": 2,
   "metadata": {
    "collapsed": false,
    "input_collapsed": false
   },
   "outputs": [],
   "source": [
    "# Time & Structures First\n",
    "include(\"../../Lib/Include-Package-v2.1.jl\")\n",
    "include(\"Find-Top-WPF-Pages-Body-v2.0.jl\")\n",
    ";"
   ]
  },
  {
   "cell_type": "code",
   "execution_count": 3,
   "metadata": {
    "collapsed": false,
    "input_collapsed": false
   },
   "outputs": [
    {
     "name": "stdout",
     "output_type": "stream",
     "text": [
      "November 18, 2017 23:59:00 to November 19, 2017 23:59:00 Local Time\n",
      "November 19, 2017 04:59:00 to November 20, 2017 04:59:00 UTC Time\n"
     ]
    },
    {
     "data": {
      "text/plain": [
       "TimeVars(2017-11-18T23:59:00,2017-11-19T23:59:00,1511049540000,1511135940000,2017-11-19T04:59:00,2017-11-20T04:59:00,1511067540000,1511153940000,:hour,\"November 18, 2017 23:59:00 to November 19, 2017 23:59:00 Local Time\",\"November 19, 2017 04:59:00 to November 20, 2017 04:59:00 UTC Time\")"
      ]
     },
     "execution_count": 3,
     "metadata": {},
     "output_type": "execute_result"
    }
   ],
   "source": [
    "TV = weeklyTimeVariables(days=1)\n",
    "#TV = timeVariables(2017,6,8,10,59,2017,6,8,12,59)\n",
    "#TV = yesterdayTimeVariables()"
   ]
  },
  {
   "cell_type": "code",
   "execution_count": 4,
   "metadata": {
    "collapsed": true,
    "input_collapsed": false
   },
   "outputs": [],
   "source": [
    "UP = UrlParamsInit()\n",
    "UP.beaconTable = table   #table\n",
    "UP.resourceTable = tableRt\n",
    "UP.btView = \"$(table)_wpf_pview_prod\" #localtable\n",
    "UP.rtView = \"$(tableRt)_wpf_pview_prod\" #localtableRt\n",
    "UP.pageGroup = \"%\"   #productPageGroup\n",
    "UP.urlRegEx = \"%\"   #localUrl\n",
    "UP.deviceType = \"%\"\n",
    "\n",
    "SG = SoastaGraphsInit()\n",
    "customer = \"Nat Geo\" \n",
    "SG.customer = customer\n",
    ";"
   ]
  },
  {
   "cell_type": "code",
   "execution_count": 5,
   "metadata": {
    "collapsed": false,
    "input_collapsed": false
   },
   "outputs": [
    {
     "data": {
      "text/plain": [
       "wpfLimitedTable (generic function with 1 method)"
      ]
     },
     "execution_count": 5,
     "metadata": {},
     "output_type": "execute_result"
    }
   ],
   "source": [
    "function wpfLimitedTable(localTable::ASCIIString,table::ASCIIString,productPageGroup::ASCIIString,startTimeMs::Int64, endTimeMs::Int64)\n",
    "    try\n",
    "        query(\"\"\"\\\n",
    "            drop view if exists $localTable\n",
    "        \"\"\")\n",
    "        \n",
    "        query(\"\"\"\\\n",
    "            create or replace view $localTable as \n",
    "                (select * from $table where\n",
    "                    beacon_type = 'page view'\n",
    "                    and \"timestamp\" between $startTimeMs and $endTimeMs\n",
    "                    and page_group = '$(productPageGroup)'\n",
    "                )\n",
    "        \"\"\")\n",
    "\n",
    "    catch y\n",
    "        println(\"unLimitedTable Exception\",y)\n",
    "    end\n",
    "end\n",
    "\n"
   ]
  },
  {
   "cell_type": "code",
   "execution_count": 6,
   "metadata": {
    "collapsed": false,
    "input_collapsed": false
   },
   "outputs": [],
   "source": [
    "#include(\"/data/notebook_home/Production/Bodies/Find-Top-WPF-Pages-Body-v1.0.jl\")\n",
    "#firstAndLast(UP.btView,\"Errors\";            rowLimit=10000,beaconsLimit=0,paginate=true);"
   ]
  },
  {
   "cell_type": "code",
   "execution_count": null,
   "metadata": {
    "collapsed": true,
    "input_collapsed": true
   },
   "outputs": [],
   "source": []
  },
  {
   "cell_type": "code",
   "execution_count": 7,
   "metadata": {
    "collapsed": false,
    "input_collapsed": false,
    "scrolled": false
   },
   "outputs": [
    {
     "data": {
      "text/html": [
       "<div class=\"dswbOutputText\"><h1 class=\"chart_title\" style=\"color:#ccc\">Channel</h1></div>"
      ]
     },
     "metadata": {},
     "output_type": "display_data"
    },
    {
     "data": {
      "text/html": [
       "<div class=\"dswbOutputText\"><h1 class=\"chart_title\" style=\"color:#ccc\">Top 10000 (min 0) URLs for Channel Microsite</h1><h3 class=\"chart_info\" style=\"color:#ccc\">Note: If you see AEM URL's in this list tell Chris Davis</h3><h3 class=\"chart_info\" style=\"color:#ccc\">November 18, 2017 23:59:00 to November 19, 2017 23:59:00 Local Time</h3></div>"
      ]
     },
     "metadata": {},
     "output_type": "display_data"
    },
    {
     "data": {
      "text/html": [
       "    <table  class=\"dataframe-table\">\n",
       "    <thead><tr><th class=\"cell-1\" style=\"\">Views</th> <th class=\"cell-2\" style=\"\">Url - Channel Microsite</th></tr></thead>\n",
       "    <tbody>\n",
       "    <tr><td class=\"cell-1\" style=\"text-align:right;\">1</td> <td class=\"cell-2\" style=\"\">https://www.nationalgeographic.com/jane-the-movie</td></tr>\n",
       "    \n",
       "    <tr><td class=\"cell-1\" style=\"text-align:right;\">1</td> <td class=\"cell-2\" style=\"\">https://createyourcover.nationalgeographic.com/create</td></tr>\n",
       "    </tbody>\n"
      ],
      "text/plain": [
       "HTML{UTF8String}(\"    <table  class=\\\"dataframe-table\\\">\\n    <thead><tr><th class=\\\"cell-1\\\" style=\\\"\\\">Views</th> <th class=\\\"cell-2\\\" style=\\\"\\\">Url - Channel Microsite</th></tr></thead>\\n    <tbody>\\n    <tr><td class=\\\"cell-1\\\" style=\\\"text-align:right;\\\">1</td> <td class=\\\"cell-2\\\" style=\\\"\\\">https://www.nationalgeographic.com/jane-the-movie</td></tr>\\n    \\n    <tr><td class=\\\"cell-1\\\" style=\\\"text-align:right;\\\">1</td> <td class=\\\"cell-2\\\" style=\\\"\\\">https://createyourcover.nationalgeographic.com/create</td></tr>\\n    </tbody>\\n\")"
      ]
     },
     "metadata": {},
     "output_type": "display_data"
    },
    {
     "data": {
      "text/html": [
       "<div class=\"dswbOutputText\"><h1 class=\"chart_title\" style=\"color:#ccc\">Top 10000 (min 0) URLs for Channel Legacy - No Page Views</h1></div>"
      ]
     },
     "metadata": {},
     "output_type": "display_data"
    }
   ],
   "source": [
    "displayTitle(chart_title = \"Channel\", showTimeStamp=false)\n",
    "firstAndLast(TV,UP,\"Channel Microsite\";rowLimit=10000,beaconsLimit=0,paginate=true);\n",
    "firstAndLast(TV,UP,\"Channel Legacy\";   rowLimit=10000,beaconsLimit=0,paginate=true);"
   ]
  },
  {
   "cell_type": "code",
   "execution_count": 8,
   "metadata": {
    "collapsed": false,
    "input_collapsed": false,
    "scrolled": false
   },
   "outputs": [
    {
     "data": {
      "text/html": [
       "<div class=\"dswbOutputText\"><h1 class=\"chart_title\" style=\"color:#ccc\">Small Groups</h1></div>"
      ]
     },
     "metadata": {},
     "output_type": "display_data"
    },
    {
     "data": {
      "text/html": [
       "<div class=\"dswbOutputText\"><h1 class=\"chart_title\" style=\"color:#ccc\">Top 10000 (min 0) URLs for Education</h1><h3 class=\"chart_info\" style=\"color:#ccc\">Note: If you see AEM URL's in this list tell Chris Davis</h3><h3 class=\"chart_info\" style=\"color:#ccc\">August 5, 2017 23:59:00 to August 6, 2017 23:59:00 Local Time</h3></div>"
      ]
     },
     "metadata": {},
     "output_type": "display_data"
    },
    {
     "data": {
      "text/html": [
       "    <table  class=\"dataframe-table\">\n",
       "    <thead><tr><th class=\"cell-1\" style=\"\">Views</th> <th class=\"cell-2\" style=\"\">Url - Education</th></tr></thead>\n",
       "    <tbody>\n",
       "    <tr><td class=\"cell-1\" style=\"text-align:right;\">19</td> <td class=\"cell-2\" style=\"\">http://planetfood.education.nationalgeographic.com</td></tr>\n",
       "<tr><td class=\"cell-1\" style=\"text-align:right;\">15</td> <td class=\"cell-2\" style=\"\">http://planetfood.education.nationalgeographic.com/meal-select</td></tr>\n",
       "<tr><td class=\"cell-1\" style=\"text-align:right;\">14</td> <td class=\"cell-2\" style=\"\">http://planetfood.education.nationalgeographic.com/meal-badge-1</td></tr>\n",
       "<tr><td class=\"cell-1\" style=\"text-align:right;\">13</td> <td class=\"cell-2\" style=\"\">http://planetfood.education.nationalgeographic.com/meal-map</td></tr>\n",
       "<tr><td class=\"cell-1\" style=\"text-align:right;\">8</td> <td class=\"cell-2\" style=\"\">http://planetfood.education.nationalgeographic.com/meal-summary</td></tr>\n",
       "<tr><td class=\"cell-1\" style=\"text-align:right;\">7</td> <td class=\"cell-2\" style=\"\">http://planetfood.education.nationalgeographic.com/choc-badge-1</td></tr>\n",
       "<tr><td class=\"cell-1\" style=\"text-align:right;\">6</td> <td class=\"cell-2\" style=\"\">http://planetfood.education.nationalgeographic.com/chocolate-intro</td></tr>\n",
       "<tr><td class=\"cell-1\" style=\"text-align:right;\">4</td> <td class=\"cell-2\" style=\"\">http://planetfood.education.nationalgeographic.com/chocolate-interaction-1-question</td></tr>\n",
       "<tr><td class=\"cell-1\" style=\"text-align:right;\">3</td> <td class=\"cell-2\" style=\"\">http://planetfood.education.nationalgeographic.com/chocolate-interaction-3-question</td></tr>\n",
       "<tr><td class=\"cell-1\" style=\"text-align:right;\">3</td> <td class=\"cell-2\" style=\"\">http://planetfood.education.nationalgeographic.com/chocolate-interaction-4</td></tr>\n",
       "<tr><td class=\"cell-1\" style=\"text-align:right;\">3</td> <td class=\"cell-2\" style=\"\">http://planetfood.education.nationalgeographic.com/chocolate-interaction-2</td></tr>\n",
       "<tr><td class=\"cell-1\" style=\"text-align:right;\">3</td> <td class=\"cell-2\" style=\"\">http://planetfood.education.nationalgeographic.com/chocolate-interaction-5</td></tr>\n",
       "<tr><td class=\"cell-1\" style=\"text-align:right;\">3</td> <td class=\"cell-2\" style=\"\">http://planetfood.education.nationalgeographic.com/chocolate-interaction-2-question</td></tr>\n",
       "    \n",
       "    <tr><td class=\"cell-1\" style=\"text-align:right;\">3</td> <td class=\"cell-2\" style=\"\">http://planetfood.education.nationalgeographic.com/chocolate-interaction-5-question</td></tr>\n",
       "<tr><td class=\"cell-1\" style=\"text-align:right;\">3</td> <td class=\"cell-2\" style=\"\">http://planetfood.education.nationalgeographic.com/chocolate-interaction-4-question</td></tr>\n",
       "<tr><td class=\"cell-1\" style=\"text-align:right;\">3</td> <td class=\"cell-2\" style=\"\">http://planetfood.education.nationalgeographic.com/chocolate-interaction-3</td></tr>\n",
       "<tr><td class=\"cell-1\" style=\"text-align:right;\">3</td> <td class=\"cell-2\" style=\"\">http://planetfood.education.nationalgeographic.com/chocolate-interaction-1</td></tr>\n",
       "<tr><td class=\"cell-1\" style=\"text-align:right;\">2</td> <td class=\"cell-2\" style=\"\">http://planetfood.education.nationalgeographic.com/chocolate-interaction-6</td></tr>\n",
       "<tr><td class=\"cell-1\" style=\"text-align:right;\">2</td> <td class=\"cell-2\" style=\"\">http://globalcloset.education.nationalgeographic.com</td></tr>\n",
       "<tr><td class=\"cell-1\" style=\"text-align:right;\">2</td> <td class=\"cell-2\" style=\"\">http://planetfood.education.nationalgeographic.com/meal-badge-2</td></tr>\n",
       "<tr><td class=\"cell-1\" style=\"text-align:right;\">2</td> <td class=\"cell-2\" style=\"\">http://globalcloset.education.nationalgeographic.com/jeans-part1</td></tr>\n",
       "<tr><td class=\"cell-1\" style=\"text-align:right;\">1</td> <td class=\"cell-2\" style=\"\">http://globalcloset.education.nationalgeographic.com/jeans-intro</td></tr>\n",
       "<tr><td class=\"cell-1\" style=\"text-align:right;\">1</td> <td class=\"cell-2\" style=\"\">http://planetfood.education.nationalgeographic.com/chocolate-summary</td></tr>\n",
       "<tr><td class=\"cell-1\" style=\"text-align:right;\">1</td> <td class=\"cell-2\" style=\"\">http://planetfood.education.nationalgeographic.com/meal-badge-3</td></tr>\n",
       "<tr><td class=\"cell-1\" style=\"text-align:right;\">1</td> <td class=\"cell-2\" style=\"\">http://planetfood.education.nationalgeographic.com/chocolate-interaction-6-question</td></tr>\n",
       "    </tbody>\n"
      ],
      "text/plain": [
       "HTML{UTF8String}(\"    <table  class=\\\"dataframe-table\\\">\\n    <thead><tr><th class=\\\"cell-1\\\" style=\\\"\\\">Views</th> <th class=\\\"cell-2\\\" style=\\\"\\\">Url - Education</th></tr></thead>\\n    <tbody>\\n    <tr><td class=\\\"cell-1\\\" style=\\\"text-align:right;\\\">19</td> <td class=\\\"cell-2\\\" style=\\\"\\\">http://planetfood.education.nationalgeographic.com</td></tr>\\n<tr><td class=\\\"cell-1\\\" style=\\\"text-align:right;\\\">15</td> <td class=\\\"cell-2\\\" style=\\\"\\\">http://planetfood.education.nationalgeographic.com/meal-select</td></tr>\\n<tr><td class=\\\"cell-1\\\" style=\\\"text-align:right;\\\">14</td> <td class=\\\"cell-2\\\" style=\\\"\\\">http://planetfood.education.nationalgeographic.com/meal-badge-1</td></tr>\\n<tr><td class=\\\"cell-1\\\" style=\\\"text-align:right;\\\">13</td> <td class=\\\"cell-2\\\" style=\\\"\\\">http://planetfood.education.nationalgeographic.com/meal-map</td></tr>\\n<tr><td class=\\\"cell-1\\\" style=\\\"text-align:right;\\\">8</td> <td class=\\\"cell-2\\\" style=\\\"\\\">http://planetfood.education.nationalgeographic.com/meal-summary</td></tr>\\n<tr><td class=\\\"cell-1\\\" style=\\\"text-align:right;\\\">7</td> <td class=\\\"cell-2\\\" style=\\\"\\\">http://planetfood.education.nationalgeographic.com/choc-badge-1</td></tr>\\n<tr><td class=\\\"cell-1\\\" style=\\\"text-align:right;\\\">6</td> <td class=\\\"cell-2\\\" style=\\\"\\\">http://planetfood.education.nationalgeographic.com/chocolate-intro</td></tr>\\n<tr><td class=\\\"cell-1\\\" style=\\\"text-align:right;\\\">4</td> <td class=\\\"cell-2\\\" style=\\\"\\\">http://planetfood.education.nationalgeographic.com/chocolate-interaction-1-question</td></tr>\\n<tr><td class=\\\"cell-1\\\" style=\\\"text-align:right;\\\">3</td> <td class=\\\"cell-2\\\" style=\\\"\\\">http://planetfood.education.nationalgeographic.com/chocolate-interaction-3-question</td></tr>\\n<tr><td class=\\\"cell-1\\\" style=\\\"text-align:right;\\\">3</td> <td class=\\\"cell-2\\\" style=\\\"\\\">http://planetfood.education.nationalgeographic.com/chocolate-interaction-4</td></tr>\\n<tr><td class=\\\"cell-1\\\" style=\\\"text-align:right;\\\">3</td> <td class=\\\"cell-2\\\" style=\\\"\\\">http://planetfood.education.nationalgeographic.com/chocolate-interaction-2</td></tr>\\n<tr><td class=\\\"cell-1\\\" style=\\\"text-align:right;\\\">3</td> <td class=\\\"cell-2\\\" style=\\\"\\\">http://planetfood.education.nationalgeographic.com/chocolate-interaction-5</td></tr>\\n<tr><td class=\\\"cell-1\\\" style=\\\"text-align:right;\\\">3</td> <td class=\\\"cell-2\\\" style=\\\"\\\">http://planetfood.education.nationalgeographic.com/chocolate-interaction-2-question</td></tr>\\n    \\n    <tr><td class=\\\"cell-1\\\" style=\\\"text-align:right;\\\">3</td> <td class=\\\"cell-2\\\" style=\\\"\\\">http://planetfood.education.nationalgeographic.com/chocolate-interaction-5-question</td></tr>\\n<tr><td class=\\\"cell-1\\\" style=\\\"text-align:right;\\\">3</td> <td class=\\\"cell-2\\\" style=\\\"\\\">http://planetfood.education.nationalgeographic.com/chocolate-interaction-4-question</td></tr>\\n<tr><td class=\\\"cell-1\\\" style=\\\"text-align:right;\\\">3</td> <td class=\\\"cell-2\\\" style=\\\"\\\">http://planetfood.education.nationalgeographic.com/chocolate-interaction-3</td></tr>\\n<tr><td class=\\\"cell-1\\\" style=\\\"text-align:right;\\\">3</td> <td class=\\\"cell-2\\\" style=\\\"\\\">http://planetfood.education.nationalgeographic.com/chocolate-interaction-1</td></tr>\\n<tr><td class=\\\"cell-1\\\" style=\\\"text-align:right;\\\">2</td> <td class=\\\"cell-2\\\" style=\\\"\\\">http://planetfood.education.nationalgeographic.com/chocolate-interaction-6</td></tr>\\n<tr><td class=\\\"cell-1\\\" style=\\\"text-align:right;\\\">2</td> <td class=\\\"cell-2\\\" style=\\\"\\\">http://globalcloset.education.nationalgeographic.com</td></tr>\\n<tr><td class=\\\"cell-1\\\" style=\\\"text-align:right;\\\">2</td> <td class=\\\"cell-2\\\" style=\\\"\\\">http://planetfood.education.nationalgeographic.com/meal-badge-2</td></tr>\\n<tr><td class=\\\"cell-1\\\" style=\\\"text-align:right;\\\">2</td> <td class=\\\"cell-2\\\" style=\\\"\\\">http://globalcloset.education.nationalgeographic.com/jeans-part1</td></tr>\\n<tr><td class=\\\"cell-1\\\" style=\\\"text-align:right;\\\">1</td> <td class=\\\"cell-2\\\" style=\\\"\\\">http://globalcloset.education.nationalgeographic.com/jeans-intro</td></tr>\\n<tr><td class=\\\"cell-1\\\" style=\\\"text-align:right;\\\">1</td> <td class=\\\"cell-2\\\" style=\\\"\\\">http://planetfood.education.nationalgeographic.com/chocolate-summary</td></tr>\\n<tr><td class=\\\"cell-1\\\" style=\\\"text-align:right;\\\">1</td> <td class=\\\"cell-2\\\" style=\\\"\\\">http://planetfood.education.nationalgeographic.com/meal-badge-3</td></tr>\\n<tr><td class=\\\"cell-1\\\" style=\\\"text-align:right;\\\">1</td> <td class=\\\"cell-2\\\" style=\\\"\\\">http://planetfood.education.nationalgeographic.com/chocolate-interaction-6-question</td></tr>\\n    </tbody>\\n\")"
      ]
     },
     "metadata": {},
     "output_type": "display_data"
    },
    {
     "data": {
      "text/html": [
       "<div class=\"dswbOutputText\"><h1 class=\"chart_title\" style=\"color:#ccc\">Top 10000 (min 0) URLs for Errors</h1><h3 class=\"chart_info\" style=\"color:#ccc\">Note: If you see AEM URL's in this list tell Chris Davis</h3><h3 class=\"chart_info\" style=\"color:#ccc\">August 5, 2017 23:59:00 to August 6, 2017 23:59:00 Local Time</h3></div>"
      ]
     },
     "metadata": {},
     "output_type": "display_data"
    },
    {
     "data": {
      "text/html": [
       "<div class=\"dswbOutputText\"><h1 class=\"chart_title\" style=\"color:#ccc\">Top 10000 (min 0) URLs for Expedition Granted</h1><h3 class=\"chart_info\" style=\"color:#ccc\">Note: If you see AEM URL's in this list tell Chris Davis</h3><h3 class=\"chart_info\" style=\"color:#ccc\">August 5, 2017 23:59:00 to August 6, 2017 23:59:00 Local Time</h3></div>"
      ]
     },
     "metadata": {},
     "output_type": "display_data"
    },
    {
     "data": {
      "text/html": [
       "    <table  class=\"dataframe-table\">\n",
       "    <thead><tr><th class=\"cell-1\" style=\"\">Views</th> <th class=\"cell-2\" style=\"\">Url - Expedition Granted</th></tr></thead>\n",
       "    <tbody>\n",
       "    <tr><td class=\"cell-1\" style=\"text-align:right;\">5</td> <td class=\"cell-2\" style=\"\">http://expeditiongranted.nationalgeographic.com/submit</td></tr>\n",
       "<tr><td class=\"cell-1\" style=\"text-align:right;\">3</td> <td class=\"cell-2\" style=\"\">http://expeditiongranted.nationalgeographic.com</td></tr>\n",
       "<tr><td class=\"cell-1\" style=\"text-align:right;\">1</td> <td class=\"cell-2\" style=\"\">http://expeditiongranted.nationalgeographic.com/project/get-pumped-about-nature-a-new-film-series-for-a-ne</td></tr>\n",
       "    \n",
       "    <tr><td class=\"cell-1\" style=\"text-align:right;\">1</td> <td class=\"cell-2\" style=\"\">http://expeditiongranted.nationalgeographic.com/project/adams-calendar-the-cradle-of-humankind</td></tr>\n",
       "<tr><td class=\"cell-1\" style=\"text-align:right;\">1</td> <td class=\"cell-2\" style=\"\">http://expeditiongranted.nationalgeographic.com/faq</td></tr>\n",
       "    </tbody>\n"
      ],
      "text/plain": [
       "HTML{UTF8String}(\"    <table  class=\\\"dataframe-table\\\">\\n    <thead><tr><th class=\\\"cell-1\\\" style=\\\"\\\">Views</th> <th class=\\\"cell-2\\\" style=\\\"\\\">Url - Expedition Granted</th></tr></thead>\\n    <tbody>\\n    <tr><td class=\\\"cell-1\\\" style=\\\"text-align:right;\\\">5</td> <td class=\\\"cell-2\\\" style=\\\"\\\">http://expeditiongranted.nationalgeographic.com/submit</td></tr>\\n<tr><td class=\\\"cell-1\\\" style=\\\"text-align:right;\\\">3</td> <td class=\\\"cell-2\\\" style=\\\"\\\">http://expeditiongranted.nationalgeographic.com</td></tr>\\n<tr><td class=\\\"cell-1\\\" style=\\\"text-align:right;\\\">1</td> <td class=\\\"cell-2\\\" style=\\\"\\\">http://expeditiongranted.nationalgeographic.com/project/get-pumped-about-nature-a-new-film-series-for-a-ne</td></tr>\\n    \\n    <tr><td class=\\\"cell-1\\\" style=\\\"text-align:right;\\\">1</td> <td class=\\\"cell-2\\\" style=\\\"\\\">http://expeditiongranted.nationalgeographic.com/project/adams-calendar-the-cradle-of-humankind</td></tr>\\n<tr><td class=\\\"cell-1\\\" style=\\\"text-align:right;\\\">1</td> <td class=\\\"cell-2\\\" style=\\\"\\\">http://expeditiongranted.nationalgeographic.com/faq</td></tr>\\n    </tbody>\\n\")"
      ]
     },
     "metadata": {},
     "output_type": "display_data"
    },
    {
     "data": {
      "text/html": [
       "<div class=\"dswbOutputText\"><h1 class=\"chart_title\" style=\"color:#ccc\">Top 10000 (min 0) URLs for Kids MyShot - No Page Views</h1></div>"
      ]
     },
     "metadata": {},
     "output_type": "display_data"
    },
    {
     "data": {
      "text/html": [
       "<div class=\"dswbOutputText\"><h1 class=\"chart_title\" style=\"color:#ccc\">Top 10000 (min 0) URLs for Index PHP - No Page Views</h1></div>"
      ]
     },
     "metadata": {},
     "output_type": "display_data"
    },
    {
     "data": {
      "text/html": [
       "<div class=\"dswbOutputText\"><h1 class=\"chart_title\" style=\"color:#ccc\">Top 10000 (min 0) URLs for News EC2 - No Page Views</h1></div>"
      ]
     },
     "metadata": {},
     "output_type": "display_data"
    },
    {
     "data": {
      "text/html": [
       "<div class=\"dswbOutputText\"><h1 class=\"chart_title\" style=\"color:#ccc\">Top 10000 (min 0) URLs for Radio</h1><h3 class=\"chart_info\" style=\"color:#ccc\">Note: If you see AEM URL's in this list tell Chris Davis</h3><h3 class=\"chart_info\" style=\"color:#ccc\">August 5, 2017 23:59:00 to August 6, 2017 23:59:00 Local Time</h3></div>"
      ]
     },
     "metadata": {},
     "output_type": "display_data"
    },
    {
     "data": {
      "text/html": [
       "    <table  class=\"dataframe-table\">\n",
       "    <thead><tr><th class=\"cell-1\" style=\"\">Views</th> <th class=\"cell-2\" style=\"\">Url - Radio</th></tr></thead>\n",
       "    <tbody>\n",
       "    <tr><td class=\"cell-1\" style=\"text-align:right;\">9</td> <td class=\"cell-2\" style=\"\">http://radio.nationalgeographic.com/radio/where-to-listen</td></tr>\n",
       "<tr><td class=\"cell-1\" style=\"text-align:right;\">2</td> <td class=\"cell-2\" style=\"\">http://radio.nationalgeographic.com/radio/ng-weekend-archive</td></tr>\n",
       "    \n",
       "    <tr><td class=\"cell-1\" style=\"text-align:right;\">1</td> <td class=\"cell-2\" style=\"\">http://radio.nationalgeographic.com/radio/environment-minutes</td></tr>\n",
       "    </tbody>\n"
      ],
      "text/plain": [
       "HTML{UTF8String}(\"    <table  class=\\\"dataframe-table\\\">\\n    <thead><tr><th class=\\\"cell-1\\\" style=\\\"\\\">Views</th> <th class=\\\"cell-2\\\" style=\\\"\\\">Url - Radio</th></tr></thead>\\n    <tbody>\\n    <tr><td class=\\\"cell-1\\\" style=\\\"text-align:right;\\\">9</td> <td class=\\\"cell-2\\\" style=\\\"\\\">http://radio.nationalgeographic.com/radio/where-to-listen</td></tr>\\n<tr><td class=\\\"cell-1\\\" style=\\\"text-align:right;\\\">2</td> <td class=\\\"cell-2\\\" style=\\\"\\\">http://radio.nationalgeographic.com/radio/ng-weekend-archive</td></tr>\\n    \\n    <tr><td class=\\\"cell-1\\\" style=\\\"text-align:right;\\\">1</td> <td class=\\\"cell-2\\\" style=\\\"\\\">http://radio.nationalgeographic.com/radio/environment-minutes</td></tr>\\n    </tbody>\\n\")"
      ]
     },
     "metadata": {},
     "output_type": "display_data"
    },
    {
     "data": {
      "text/html": [
       "<div class=\"dswbOutputText\"><h1 class=\"chart_title\" style=\"color:#ccc\">Top 10000 (min 0) URLs for Sponsored</h1><h3 class=\"chart_info\" style=\"color:#ccc\">Note: If you see AEM URL's in this list tell Chris Davis</h3><h3 class=\"chart_info\" style=\"color:#ccc\">August 5, 2017 23:59:00 to August 6, 2017 23:59:00 Local Time</h3></div>"
      ]
     },
     "metadata": {},
     "output_type": "display_data"
    },
    {
     "data": {
      "text/html": [
       "    <table  class=\"dataframe-table\">\n",
       "    <thead><tr><th class=\"cell-1\" style=\"\">Views</th> <th class=\"cell-2\" style=\"\">Url - Sponsored</th></tr></thead>\n",
       "    <tbody>\n",
       "    <tr><td class=\"cell-1\" style=\"text-align:right;\">16</td> <td class=\"cell-2\" style=\"\">http://www.nationalgeographic.com/microsoft/sevenwonders</td></tr>\n",
       "<tr><td class=\"cell-1\" style=\"text-align:right;\">3</td> <td class=\"cell-2\" style=\"\">http://www.nationalgeographic.com/microsoft/victoriafalls</td></tr>\n",
       "<tr><td class=\"cell-1\" style=\"text-align:right;\">3</td> <td class=\"cell-2\" style=\"\">http://www.nationalgeographic.com/microsoft/paricutin</td></tr>\n",
       "<tr><td class=\"cell-1\" style=\"text-align:right;\">1</td> <td class=\"cell-2\" style=\"\">http://www.nationalgeographic.com/microsoft/rio/map.html</td></tr>\n",
       "<tr><td class=\"cell-1\" style=\"text-align:right;\">1</td> <td class=\"cell-2\" style=\"\">http://www.nationalgeographic.com/microsoft/victoriafalls/gallery-zoomtodiscover.html</td></tr>\n",
       "    \n",
       "    <tr><td class=\"cell-1\" style=\"text-align:right;\">1</td> <td class=\"cell-2\" style=\"\">http://www.nationalgeographic.com/microsoft/victoriafalls/journal.html</td></tr>\n",
       "<tr><td class=\"cell-1\" style=\"text-align:right;\">1</td> <td class=\"cell-2\" style=\"\">http://www.nationalgeographic.com/microsoft/rio</td></tr>\n",
       "<tr><td class=\"cell-1\" style=\"text-align:right;\">1</td> <td class=\"cell-2\" style=\"\">http://www.nationalgeographic.com/cisco/case-study-lake-district.html</td></tr>\n",
       "<tr><td class=\"cell-1\" style=\"text-align:right;\">1</td> <td class=\"cell-2\" style=\"\">http://www.nationalgeographic.com/cisco</td></tr>\n",
       "    </tbody>\n"
      ],
      "text/plain": [
       "HTML{UTF8String}(\"    <table  class=\\\"dataframe-table\\\">\\n    <thead><tr><th class=\\\"cell-1\\\" style=\\\"\\\">Views</th> <th class=\\\"cell-2\\\" style=\\\"\\\">Url - Sponsored</th></tr></thead>\\n    <tbody>\\n    <tr><td class=\\\"cell-1\\\" style=\\\"text-align:right;\\\">16</td> <td class=\\\"cell-2\\\" style=\\\"\\\">http://www.nationalgeographic.com/microsoft/sevenwonders</td></tr>\\n<tr><td class=\\\"cell-1\\\" style=\\\"text-align:right;\\\">3</td> <td class=\\\"cell-2\\\" style=\\\"\\\">http://www.nationalgeographic.com/microsoft/victoriafalls</td></tr>\\n<tr><td class=\\\"cell-1\\\" style=\\\"text-align:right;\\\">3</td> <td class=\\\"cell-2\\\" style=\\\"\\\">http://www.nationalgeographic.com/microsoft/paricutin</td></tr>\\n<tr><td class=\\\"cell-1\\\" style=\\\"text-align:right;\\\">1</td> <td class=\\\"cell-2\\\" style=\\\"\\\">http://www.nationalgeographic.com/microsoft/rio/map.html</td></tr>\\n<tr><td class=\\\"cell-1\\\" style=\\\"text-align:right;\\\">1</td> <td class=\\\"cell-2\\\" style=\\\"\\\">http://www.nationalgeographic.com/microsoft/victoriafalls/gallery-zoomtodiscover.html</td></tr>\\n    \\n    <tr><td class=\\\"cell-1\\\" style=\\\"text-align:right;\\\">1</td> <td class=\\\"cell-2\\\" style=\\\"\\\">http://www.nationalgeographic.com/microsoft/victoriafalls/journal.html</td></tr>\\n<tr><td class=\\\"cell-1\\\" style=\\\"text-align:right;\\\">1</td> <td class=\\\"cell-2\\\" style=\\\"\\\">http://www.nationalgeographic.com/microsoft/rio</td></tr>\\n<tr><td class=\\\"cell-1\\\" style=\\\"text-align:right;\\\">1</td> <td class=\\\"cell-2\\\" style=\\\"\\\">http://www.nationalgeographic.com/cisco/case-study-lake-district.html</td></tr>\\n<tr><td class=\\\"cell-1\\\" style=\\\"text-align:right;\\\">1</td> <td class=\\\"cell-2\\\" style=\\\"\\\">http://www.nationalgeographic.com/cisco</td></tr>\\n    </tbody>\\n\")"
      ]
     },
     "metadata": {},
     "output_type": "display_data"
    },
    {
     "data": {
      "text/html": [
       "<div class=\"dswbOutputText\"><h1 class=\"chart_title\" style=\"color:#ccc\">Top 10000 (min 0) URLs for Tickets</h1><h3 class=\"chart_info\" style=\"color:#ccc\">Note: If you see AEM URL's in this list tell Chris Davis</h3><h3 class=\"chart_info\" style=\"color:#ccc\">August 5, 2017 23:59:00 to August 6, 2017 23:59:00 Local Time</h3></div>"
      ]
     },
     "metadata": {},
     "output_type": "display_data"
    },
    {
     "data": {
      "text/html": [
       "    <table  class=\"dataframe-table\">\n",
       "    <thead><tr><th class=\"cell-1\" style=\"\">Views</th> <th class=\"cell-2\" style=\"\">Url - Tickets</th></tr></thead>\n",
       "    <tbody>\n",
       "    <tr><td class=\"cell-1\" style=\"text-align:right;\">105</td> <td class=\"cell-2\" style=\"\">http://tickets.nationalgeographic.com/single/SelectSeating.aspx</td></tr>\n",
       "<tr><td class=\"cell-1\" style=\"text-align:right;\">51</td> <td class=\"cell-2\" style=\"\">https://tickets.nationalgeographic.com/cart/cart.aspx</td></tr>\n",
       "<tr><td class=\"cell-1\" style=\"text-align:right;\">50</td> <td class=\"cell-2\" style=\"\">http://tickets.nationalgeographic.com/single/eventlisting.aspx</td></tr>\n",
       "<tr><td class=\"cell-1\" style=\"text-align:right;\">47</td> <td class=\"cell-2\" style=\"\">http://tickets.nationalgeographic.com/single/EventListing.aspx</td></tr>\n",
       "<tr><td class=\"cell-1\" style=\"text-align:right;\">36</td> <td class=\"cell-2\" style=\"\">https://tickets.nationalgeographic.com/cart/precart.aspx</td></tr>\n",
       "<tr><td class=\"cell-1\" style=\"text-align:right;\">30</td> <td class=\"cell-2\" style=\"\">https://tickets.nationalgeographic.com/account/login.aspx</td></tr>\n",
       "<tr><td class=\"cell-1\" style=\"text-align:right;\">29</td> <td class=\"cell-2\" style=\"\">https://tickets.nationalgeographic.com/checkout/shipping.aspx</td></tr>\n",
       "<tr><td class=\"cell-1\" style=\"text-align:right;\">17</td> <td class=\"cell-2\" style=\"\">http://tickets.nationalgeographic.com/auxiliary/psDetail.aspx</td></tr>\n",
       "<tr><td class=\"cell-1\" style=\"text-align:right;\">15</td> <td class=\"cell-2\" style=\"\">http://tickets.nationalgeographic.com/auxiliary/Reserve.aspx</td></tr>\n",
       "<tr><td class=\"cell-1\" style=\"text-align:right;\">14</td> <td class=\"cell-2\" style=\"\">https://tickets.nationalgeographic.com/account/register.aspx</td></tr>\n",
       "<tr><td class=\"cell-1\" style=\"text-align:right;\">14</td> <td class=\"cell-2\" style=\"\">https://tickets.nationalgeographic.com/checkout/payment.aspx</td></tr>\n",
       "<tr><td class=\"cell-1\" style=\"text-align:right;\">13</td> <td class=\"cell-2\" style=\"\">https://tickets.nationalgeographic.com/checkout/receipt.aspx</td></tr>\n",
       "<tr><td class=\"cell-1\" style=\"text-align:right;\">12</td> <td class=\"cell-2\" style=\"\">http://tickets.nationalgeographic.com/Default.aspx</td></tr>\n",
       "    \n",
       "    <tr><td class=\"cell-1\" style=\"text-align:right;\">7</td> <td class=\"cell-2\" style=\"\">http://tickets.nationalgeographic.com/auxiliary/auxlisting.aspx</td></tr>\n",
       "<tr><td class=\"cell-1\" style=\"text-align:right;\">6</td> <td class=\"cell-2\" style=\"\">http://tickets.nationalgeographic.com</td></tr>\n",
       "<tr><td class=\"cell-1\" style=\"text-align:right;\">5</td> <td class=\"cell-2\" style=\"\">https://tickets.nationalgeographic.com/single/SelectSeating.aspx</td></tr>\n",
       "<tr><td class=\"cell-1\" style=\"text-align:right;\">4</td> <td class=\"cell-2\" style=\"\">https://tickets.nationalgeographic.com/account/logout.aspx</td></tr>\n",
       "<tr><td class=\"cell-1\" style=\"text-align:right;\">4</td> <td class=\"cell-2\" style=\"\">https://tickets.nationalgeographic.com/Default.aspx</td></tr>\n",
       "<tr><td class=\"cell-1\" style=\"text-align:right;\">4</td> <td class=\"cell-2\" style=\"\">http://tickets.nationalgeographic.com/single/psDetail.aspx</td></tr>\n",
       "<tr><td class=\"cell-1\" style=\"text-align:right;\">4</td> <td class=\"cell-2\" style=\"\">http://tickets.nationalgeographic.com/single/eventDetail.aspx</td></tr>\n",
       "<tr><td class=\"cell-1\" style=\"text-align:right;\">3</td> <td class=\"cell-2\" style=\"\">https://tickets.nationalgeographic.com/account/shortreg.aspx</td></tr>\n",
       "<tr><td class=\"cell-1\" style=\"text-align:right;\">3</td> <td class=\"cell-2\" style=\"\">https://tickets.nationalgeographic.com</td></tr>\n",
       "<tr><td class=\"cell-1\" style=\"text-align:right;\">2</td> <td class=\"cell-2\" style=\"\">http://tickets.nationalgeographic.com/subscription/packages.aspx</td></tr>\n",
       "<tr><td class=\"cell-1\" style=\"text-align:right;\">2</td> <td class=\"cell-2\" style=\"\">https://tickets.nationalgeographic.com/account/forgot.aspx</td></tr>\n",
       "<tr><td class=\"cell-1\" style=\"text-align:right;\">2</td> <td class=\"cell-2\" style=\"\">http://tickets.nationalgeographic.com/subscription/packageDetail.aspx</td></tr>\n",
       "    </tbody>\n"
      ],
      "text/plain": [
       "HTML{UTF8String}(\"    <table  class=\\\"dataframe-table\\\">\\n    <thead><tr><th class=\\\"cell-1\\\" style=\\\"\\\">Views</th> <th class=\\\"cell-2\\\" style=\\\"\\\">Url - Tickets</th></tr></thead>\\n    <tbody>\\n    <tr><td class=\\\"cell-1\\\" style=\\\"text-align:right;\\\">105</td> <td class=\\\"cell-2\\\" style=\\\"\\\">http://tickets.nationalgeographic.com/single/SelectSeating.aspx</td></tr>\\n<tr><td class=\\\"cell-1\\\" style=\\\"text-align:right;\\\">51</td> <td class=\\\"cell-2\\\" style=\\\"\\\">https://tickets.nationalgeographic.com/cart/cart.aspx</td></tr>\\n<tr><td class=\\\"cell-1\\\" style=\\\"text-align:right;\\\">50</td> <td class=\\\"cell-2\\\" style=\\\"\\\">http://tickets.nationalgeographic.com/single/eventlisting.aspx</td></tr>\\n<tr><td class=\\\"cell-1\\\" style=\\\"text-align:right;\\\">47</td> <td class=\\\"cell-2\\\" style=\\\"\\\">http://tickets.nationalgeographic.com/single/EventListing.aspx</td></tr>\\n<tr><td class=\\\"cell-1\\\" style=\\\"text-align:right;\\\">36</td> <td class=\\\"cell-2\\\" style=\\\"\\\">https://tickets.nationalgeographic.com/cart/precart.aspx</td></tr>\\n<tr><td class=\\\"cell-1\\\" style=\\\"text-align:right;\\\">30</td> <td class=\\\"cell-2\\\" style=\\\"\\\">https://tickets.nationalgeographic.com/account/login.aspx</td></tr>\\n<tr><td class=\\\"cell-1\\\" style=\\\"text-align:right;\\\">29</td> <td class=\\\"cell-2\\\" style=\\\"\\\">https://tickets.nationalgeographic.com/checkout/shipping.aspx</td></tr>\\n<tr><td class=\\\"cell-1\\\" style=\\\"text-align:right;\\\">17</td> <td class=\\\"cell-2\\\" style=\\\"\\\">http://tickets.nationalgeographic.com/auxiliary/psDetail.aspx</td></tr>\\n<tr><td class=\\\"cell-1\\\" style=\\\"text-align:right;\\\">15</td> <td class=\\\"cell-2\\\" style=\\\"\\\">http://tickets.nationalgeographic.com/auxiliary/Reserve.aspx</td></tr>\\n<tr><td class=\\\"cell-1\\\" style=\\\"text-align:right;\\\">14</td> <td class=\\\"cell-2\\\" style=\\\"\\\">https://tickets.nationalgeographic.com/account/register.aspx</td></tr>\\n<tr><td class=\\\"cell-1\\\" style=\\\"text-align:right;\\\">14</td> <td class=\\\"cell-2\\\" style=\\\"\\\">https://tickets.nationalgeographic.com/checkout/payment.aspx</td></tr>\\n<tr><td class=\\\"cell-1\\\" style=\\\"text-align:right;\\\">13</td> <td class=\\\"cell-2\\\" style=\\\"\\\">https://tickets.nationalgeographic.com/checkout/receipt.aspx</td></tr>\\n<tr><td class=\\\"cell-1\\\" style=\\\"text-align:right;\\\">12</td> <td class=\\\"cell-2\\\" style=\\\"\\\">http://tickets.nationalgeographic.com/Default.aspx</td></tr>\\n    \\n    <tr><td class=\\\"cell-1\\\" style=\\\"text-align:right;\\\">7</td> <td class=\\\"cell-2\\\" style=\\\"\\\">http://tickets.nationalgeographic.com/auxiliary/auxlisting.aspx</td></tr>\\n<tr><td class=\\\"cell-1\\\" style=\\\"text-align:right;\\\">6</td> <td class=\\\"cell-2\\\" style=\\\"\\\">http://tickets.nationalgeographic.com</td></tr>\\n<tr><td class=\\\"cell-1\\\" style=\\\"text-align:right;\\\">5</td> <td class=\\\"cell-2\\\" style=\\\"\\\">https://tickets.nationalgeographic.com/single/SelectSeating.aspx</td></tr>\\n<tr><td class=\\\"cell-1\\\" style=\\\"text-align:right;\\\">4</td> <td class=\\\"cell-2\\\" style=\\\"\\\">https://tickets.nationalgeographic.com/account/logout.aspx</td></tr>\\n<tr><td class=\\\"cell-1\\\" style=\\\"text-align:right;\\\">4</td> <td class=\\\"cell-2\\\" style=\\\"\\\">https://tickets.nationalgeographic.com/Default.aspx</td></tr>\\n<tr><td class=\\\"cell-1\\\" style=\\\"text-align:right;\\\">4</td> <td class=\\\"cell-2\\\" style=\\\"\\\">http://tickets.nationalgeographic.com/single/psDetail.aspx</td></tr>\\n<tr><td class=\\\"cell-1\\\" style=\\\"text-align:right;\\\">4</td> <td class=\\\"cell-2\\\" style=\\\"\\\">http://tickets.nationalgeographic.com/single/eventDetail.aspx</td></tr>\\n<tr><td class=\\\"cell-1\\\" style=\\\"text-align:right;\\\">3</td> <td class=\\\"cell-2\\\" style=\\\"\\\">https://tickets.nationalgeographic.com/account/shortreg.aspx</td></tr>\\n<tr><td class=\\\"cell-1\\\" style=\\\"text-align:right;\\\">3</td> <td class=\\\"cell-2\\\" style=\\\"\\\">https://tickets.nationalgeographic.com</td></tr>\\n<tr><td class=\\\"cell-1\\\" style=\\\"text-align:right;\\\">2</td> <td class=\\\"cell-2\\\" style=\\\"\\\">http://tickets.nationalgeographic.com/subscription/packages.aspx</td></tr>\\n<tr><td class=\\\"cell-1\\\" style=\\\"text-align:right;\\\">2</td> <td class=\\\"cell-2\\\" style=\\\"\\\">https://tickets.nationalgeographic.com/account/forgot.aspx</td></tr>\\n<tr><td class=\\\"cell-1\\\" style=\\\"text-align:right;\\\">2</td> <td class=\\\"cell-2\\\" style=\\\"\\\">http://tickets.nationalgeographic.com/subscription/packageDetail.aspx</td></tr>\\n    </tbody>\\n\")"
      ]
     },
     "metadata": {},
     "output_type": "display_data"
    },
    {
     "data": {
      "text/html": [
       "    <table  class=\"dataframe-table\">\n",
       "    <thead><tr><th class=\"cell-1\" style=\"\">Views</th> <th class=\"cell-2\" style=\"\">Url - Tickets</th></tr></thead>\n",
       "    <tbody>\n",
       "    <tr><td class=\"cell-1\" style=\"text-align:right;\">1</td> <td class=\"cell-2\" style=\"\">https://tickets.nationalgeographic.com/single/EventListing.aspx</td></tr>\n",
       "<tr><td class=\"cell-1\" style=\"text-align:right;\">1</td> <td class=\"cell-2\" style=\"\">http://tickets.nationalgeographic.com/single/PSDetail.aspx</td></tr>\n",
       "<tr><td class=\"cell-1\" style=\"text-align:right;\">1</td> <td class=\"cell-2\" style=\"\">https://tickets.nationalgeographic.com/account/history.aspx</td></tr>\n",
       "    \n",
       "    <tr><td class=\"cell-1\" style=\"text-align:right;\">1</td> <td class=\"cell-2\" style=\"\">http://tickets.nationalgeographic.com/auxiliary/PSDetail.aspx</td></tr>\n",
       "<tr><td class=\"cell-1\" style=\"text-align:right;\">1</td> <td class=\"cell-2\" style=\"\">http://tickets.nationalgeographic.com/single/EventDetail.aspx</td></tr>\n",
       "<tr><td class=\"cell-1\" style=\"text-align:right;\">1</td> <td class=\"cell-2\" style=\"\">https://tickets.nationalgeographic.com/account/account.aspx</td></tr>\n",
       "    </tbody>\n"
      ],
      "text/plain": [
       "HTML{UTF8String}(\"    <table  class=\\\"dataframe-table\\\">\\n    <thead><tr><th class=\\\"cell-1\\\" style=\\\"\\\">Views</th> <th class=\\\"cell-2\\\" style=\\\"\\\">Url - Tickets</th></tr></thead>\\n    <tbody>\\n    <tr><td class=\\\"cell-1\\\" style=\\\"text-align:right;\\\">1</td> <td class=\\\"cell-2\\\" style=\\\"\\\">https://tickets.nationalgeographic.com/single/EventListing.aspx</td></tr>\\n<tr><td class=\\\"cell-1\\\" style=\\\"text-align:right;\\\">1</td> <td class=\\\"cell-2\\\" style=\\\"\\\">http://tickets.nationalgeographic.com/single/PSDetail.aspx</td></tr>\\n<tr><td class=\\\"cell-1\\\" style=\\\"text-align:right;\\\">1</td> <td class=\\\"cell-2\\\" style=\\\"\\\">https://tickets.nationalgeographic.com/account/history.aspx</td></tr>\\n    \\n    <tr><td class=\\\"cell-1\\\" style=\\\"text-align:right;\\\">1</td> <td class=\\\"cell-2\\\" style=\\\"\\\">http://tickets.nationalgeographic.com/auxiliary/PSDetail.aspx</td></tr>\\n<tr><td class=\\\"cell-1\\\" style=\\\"text-align:right;\\\">1</td> <td class=\\\"cell-2\\\" style=\\\"\\\">http://tickets.nationalgeographic.com/single/EventDetail.aspx</td></tr>\\n<tr><td class=\\\"cell-1\\\" style=\\\"text-align:right;\\\">1</td> <td class=\\\"cell-2\\\" style=\\\"\\\">https://tickets.nationalgeographic.com/account/account.aspx</td></tr>\\n    </tbody>\\n\")"
      ]
     },
     "metadata": {},
     "output_type": "display_data"
    },
    {
     "data": {
      "text/html": [
       "<div class=\"dswbOutputText\"><h1 class=\"chart_title\" style=\"color:#ccc\">Top 10000 (min 0) URLs for Travel Subs</h1><h3 class=\"chart_info\" style=\"color:#ccc\">Note: If you see AEM URL's in this list tell Chris Davis</h3><h3 class=\"chart_info\" style=\"color:#ccc\">August 5, 2017 23:59:00 to August 6, 2017 23:59:00 Local Time</h3></div>"
      ]
     },
     "metadata": {},
     "output_type": "display_data"
    },
    {
     "data": {
      "text/html": [
       "    <table  class=\"dataframe-table\">\n",
       "    <thead><tr><th class=\"cell-1\" style=\"\">Views</th> <th class=\"cell-2\" style=\"\">Url - Travel Subs</th></tr></thead>\n",
       "    <tbody>\n",
       "    <tr><td class=\"cell-1\" style=\"text-align:right;\">197</td> <td class=\"cell-2\" style=\"\">https://ngtravelersubs.nationalgeographic.com/servlet/Show</td></tr>\n",
       "<tr><td class=\"cell-1\" style=\"text-align:right;\">20</td> <td class=\"cell-2\" style=\"\">https://ngtravelersubs.nationalgeographic.com/servlet/&MSRSMAG=TR&EFK1=&EFK2=&EFK3=&MSCCMPLX=MULTISEM3</td></tr>\n",
       "<tr><td class=\"cell-1\" style=\"text-align:right;\">2</td> <td class=\"cell-2\" style=\"\">https://ngtravelersubs.nationalgeographic.com/wes/servlet/EKMultipleLookupServlet</td></tr>\n",
       "<tr><td class=\"cell-1\" style=\"text-align:right;\">1</td> <td class=\"cell-2\" style=\"\">https://ngtravelersubs.nationalgeographic.com/servlet/WESNULL=WESNULL,WESPAGE=WESRETURNCODE=0,WESPAGE=OrderPages/tr/1311/thanks_prt_15A1.jsp&MSRSMAG=TR&EFK1=TRAKW5&EFK2=TRAKW4&EFK3=TRAKW6&MSCCMPLX=MULTISEM3</td></tr>\n",
       "    \n",
       "    <tr><td class=\"cell-1\" style=\"text-align:right;\">1</td> <td class=\"cell-2\" style=\"\">https://ngtravelersubs.nationalgeographic.com/wes/servlet/WESRETURNCODE=REQUIREDFIELDS,WESPAGE=OrderPages/tr/1311/gift_15A3.jsp,%20WESERRORTEXT=Please%20enter%20all%20required%20fields.&MSRSMAG=TR&EFK1=TRAKW9&EFK2=TRAKW7&EFK3=TRAKXA&MSCCMPLX=NGMSEMJ5</td></tr>\n",
       "<tr><td class=\"cell-1\" style=\"text-align:right;\">1</td> <td class=\"cell-2\" style=\"\">https://ngtravelersubs.nationalgeographic.com/servlet/&MSRSMAG=TR&EFK1=&EFK2=&EFK3=&MSCCMPLX=NGMTYPXS6</td></tr>\n",
       "<tr><td class=\"cell-1\" style=\"text-align:right;\">1</td> <td class=\"cell-2\" style=\"\">https://ngtravelersubs.nationalgeographic.com/wes/servlet/Gift2</td></tr>\n",
       "<tr><td class=\"cell-1\" style=\"text-align:right;\">1</td> <td class=\"cell-2\" style=\"\">https://ngtravelersubs.nationalgeographic.com/wes/servlet/Show</td></tr>\n",
       "    </tbody>\n"
      ],
      "text/plain": [
       "HTML{UTF8String}(\"    <table  class=\\\"dataframe-table\\\">\\n    <thead><tr><th class=\\\"cell-1\\\" style=\\\"\\\">Views</th> <th class=\\\"cell-2\\\" style=\\\"\\\">Url - Travel Subs</th></tr></thead>\\n    <tbody>\\n    <tr><td class=\\\"cell-1\\\" style=\\\"text-align:right;\\\">197</td> <td class=\\\"cell-2\\\" style=\\\"\\\">https://ngtravelersubs.nationalgeographic.com/servlet/Show</td></tr>\\n<tr><td class=\\\"cell-1\\\" style=\\\"text-align:right;\\\">20</td> <td class=\\\"cell-2\\\" style=\\\"\\\">https://ngtravelersubs.nationalgeographic.com/servlet/&MSRSMAG=TR&EFK1=&EFK2=&EFK3=&MSCCMPLX=MULTISEM3</td></tr>\\n<tr><td class=\\\"cell-1\\\" style=\\\"text-align:right;\\\">2</td> <td class=\\\"cell-2\\\" style=\\\"\\\">https://ngtravelersubs.nationalgeographic.com/wes/servlet/EKMultipleLookupServlet</td></tr>\\n<tr><td class=\\\"cell-1\\\" style=\\\"text-align:right;\\\">1</td> <td class=\\\"cell-2\\\" style=\\\"\\\">https://ngtravelersubs.nationalgeographic.com/servlet/WESNULL=WESNULL,WESPAGE=WESRETURNCODE=0,WESPAGE=OrderPages/tr/1311/thanks_prt_15A1.jsp&MSRSMAG=TR&EFK1=TRAKW5&EFK2=TRAKW4&EFK3=TRAKW6&MSCCMPLX=MULTISEM3</td></tr>\\n    \\n    <tr><td class=\\\"cell-1\\\" style=\\\"text-align:right;\\\">1</td> <td class=\\\"cell-2\\\" style=\\\"\\\">https://ngtravelersubs.nationalgeographic.com/wes/servlet/WESRETURNCODE=REQUIREDFIELDS,WESPAGE=OrderPages/tr/1311/gift_15A3.jsp,%20WESERRORTEXT=Please%20enter%20all%20required%20fields.&MSRSMAG=TR&EFK1=TRAKW9&EFK2=TRAKW7&EFK3=TRAKXA&MSCCMPLX=NGMSEMJ5</td></tr>\\n<tr><td class=\\\"cell-1\\\" style=\\\"text-align:right;\\\">1</td> <td class=\\\"cell-2\\\" style=\\\"\\\">https://ngtravelersubs.nationalgeographic.com/servlet/&MSRSMAG=TR&EFK1=&EFK2=&EFK3=&MSCCMPLX=NGMTYPXS6</td></tr>\\n<tr><td class=\\\"cell-1\\\" style=\\\"text-align:right;\\\">1</td> <td class=\\\"cell-2\\\" style=\\\"\\\">https://ngtravelersubs.nationalgeographic.com/wes/servlet/Gift2</td></tr>\\n<tr><td class=\\\"cell-1\\\" style=\\\"text-align:right;\\\">1</td> <td class=\\\"cell-2\\\" style=\\\"\\\">https://ngtravelersubs.nationalgeographic.com/wes/servlet/Show</td></tr>\\n    </tbody>\\n\")"
      ]
     },
     "metadata": {},
     "output_type": "display_data"
    },
    {
     "data": {
      "text/html": [
       "<div class=\"dswbOutputText\"><h1 class=\"chart_title\" style=\"color:#ccc\">Top 10000 (min 0) URLs for Video AMP</h1><h3 class=\"chart_info\" style=\"color:#ccc\">Note: If you see AEM URL's in this list tell Chris Davis</h3><h3 class=\"chart_info\" style=\"color:#ccc\">August 5, 2017 23:59:00 to August 6, 2017 23:59:00 Local Time</h3></div>"
      ]
     },
     "metadata": {},
     "output_type": "display_data"
    }
   ],
   "source": [
    "displayTitle(chart_title = \"Small Groups\", showTimeStamp=false)\n",
    "\n",
    "firstAndLast(TV,UP,\"Education\";         rowLimit=10000,beaconsLimit=0,paginate=true);\n",
    "firstAndLast(TV,UP,\"Errors\";            rowLimit=10000,beaconsLimit=0,paginate=true);\n",
    "firstAndLast(TV,UP,\"Expedition Granted\";rowLimit=10000,beaconsLimit=0,paginate=true);\n",
    "firstAndLast(TV,UP,\"Kids MyShot\";       rowLimit=10000,beaconsLimit=0,paginate=true);\n",
    "firstAndLast(TV,UP,\"Index PHP\";         rowLimit=10000,beaconsLimit=0,paginate=true);\n",
    "firstAndLast(TV,UP,\"News EC2\";          rowLimit=10000,beaconsLimit=0,paginate=true);\n",
    "firstAndLast(TV,UP,\"Radio\";             rowLimit=10000,beaconsLimit=0,paginate=true);\n",
    "firstAndLast(TV,UP,\"Sponsored\";         rowLimit=10000,beaconsLimit=0,paginate=true);\n",
    "firstAndLast(TV,UP,\"Tickets\";           rowLimit=10000,beaconsLimit=0,paginate=true);\n",
    "firstAndLast(TV,UP,\"Travel Subs\";       rowLimit=10000,beaconsLimit=0,paginate=true);\n",
    "firstAndLast(TV,UP,\"Video AMP\";         rowLimit=10000,beaconsLimit=0,paginate=true);\n"
   ]
  },
  {
   "cell_type": "code",
   "execution_count": 9,
   "metadata": {
    "collapsed": false,
    "input_collapsed": false,
    "scrolled": false
   },
   "outputs": [
    {
     "data": {
      "text/html": [
       "<div class=\"dswbOutputText\"><h1 class=\"chart_title\" style=\"color:#ccc\">Medium Groups</h1></div>"
      ]
     },
     "metadata": {},
     "output_type": "display_data"
    },
    {
     "data": {
      "text/html": [
       "<div class=\"dswbOutputText\"><h1 class=\"chart_title\" style=\"color:#ccc\">Top 10000 (min 20) URLs for Help</h1><h3 class=\"chart_info\" style=\"color:#ccc\">Note: If you see AEM URL's in this list tell Chris Davis</h3><h3 class=\"chart_info\" style=\"color:#ccc\">August 5, 2017 23:59:00 to August 6, 2017 23:59:00 Local Time</h3></div>"
      ]
     },
     "metadata": {},
     "output_type": "display_data"
    },
    {
     "data": {
      "text/html": [
       "    <table  class=\"dataframe-table\">\n",
       "    <thead><tr><th class=\"cell-1\" style=\"\">Views</th> <th class=\"cell-2\" style=\"\">Url - Help</th></tr></thead>\n",
       "    <tbody>\n",
       "    <tr><td class=\"cell-1\" style=\"text-align:right;\">499</td> <td class=\"cell-2\" style=\"\">http://help.nationalgeographic.com/customer/portal/topics/486394-your-shot-beta/articles</td></tr>\n",
       "<tr><td class=\"cell-1\" style=\"text-align:right;\">348</td> <td class=\"cell-2\" style=\"\">http://help.nationalgeographic.com/customer/portal/articles/1449965-how-many-continents-are-there-</td></tr>\n",
       "<tr><td class=\"cell-1\" style=\"text-align:right;\">223</td> <td class=\"cell-2\" style=\"\">http://help.nationalgeographic.com</td></tr>\n",
       "<tr><td class=\"cell-1\" style=\"text-align:right;\">176</td> <td class=\"cell-2\" style=\"\">http://help.nationalgeographic.com/customer/portal/articles/1069715-national-geographic-magazine-subscription-customer-service</td></tr>\n",
       "<tr><td class=\"cell-1\" style=\"text-align:right;\">147</td> <td class=\"cell-2\" style=\"\">http://help.nationalgeographic.com/customer/portal/topics/607742-careers/articles</td></tr>\n",
       "<tr><td class=\"cell-1\" style=\"text-align:right;\">136</td> <td class=\"cell-2\" style=\"\">http://help.nationalgeographic.com/customer/portal/emails/new</td></tr>\n",
       "<tr><td class=\"cell-1\" style=\"text-align:right;\">129</td> <td class=\"cell-2\" style=\"\">http://help.nationalgeographic.com/customer/portal/articles/1409678-how-can-i-be-a-photographer-for-national-geographic-</td></tr>\n",
       "<tr><td class=\"cell-1\" style=\"text-align:right;\">127</td> <td class=\"cell-2\" style=\"\">http://help.nationalgeographic.com/customer/portal/articles/search</td></tr>\n",
       "<tr><td class=\"cell-1\" style=\"text-align:right;\">117</td> <td class=\"cell-2\" style=\"\">http://help.nationalgeographic.com/customer/en/portal/articles/1409687-does-national-geographic-offer-internships-</td></tr>\n",
       "<tr><td class=\"cell-1\" style=\"text-align:right;\">99</td> <td class=\"cell-2\" style=\"\">http://help.nationalgeographic.com/customer/portal/articles/1450060-what-is-the-world-s-longest-river-</td></tr>\n",
       "<tr><td class=\"cell-1\" style=\"text-align:right;\">96</td> <td class=\"cell-2\" style=\"\">http://help.nationalgeographic.com/customer/en/portal/articles/1081018-when-i-submit-a-photo-to-your-shot-do-i-retain-the-copyright-to-the-photograph-</td></tr>\n",
       "<tr><td class=\"cell-1\" style=\"text-align:right;\">71</td> <td class=\"cell-2\" style=\"\">http://help.nationalgeographic.com/customer/en/portal/articles/1906164-how-can-i-work-for-national-geographic-</td></tr>\n",
       "<tr><td class=\"cell-1\" style=\"text-align:right;\">57</td> <td class=\"cell-2\" style=\"\">http://help.nationalgeographic.com/customer/en/portal/articles/1081034-how-many-photos-can-i-submit-when-does-the-quota-reset-</td></tr>\n",
       "    \n",
       "    <tr><td class=\"cell-1\" style=\"text-align:right;\">57</td> <td class=\"cell-2\" style=\"\">http://help.nationalgeographic.com/customer/en/portal/topics/486394-your-shot-community-support/articles</td></tr>\n",
       "<tr><td class=\"cell-1\" style=\"text-align:right;\">50</td> <td class=\"cell-2\" style=\"\">http://help.nationalgeographic.com/customer/en/portal/articles/1142311-how-can-i-submit-or-upload-a-photo-to-your-shot-</td></tr>\n",
       "<tr><td class=\"cell-1\" style=\"text-align:right;\">49</td> <td class=\"cell-2\" style=\"\">http://help.nationalgeographic.com/customer/portal/articles/1450076-what-is-the-world-s-largest-desert-</td></tr>\n",
       "<tr><td class=\"cell-1\" style=\"text-align:right;\">49</td> <td class=\"cell-2\" style=\"\">http://help.nationalgeographic.com/customer/portal/articles/1906164-how-can-i-work-for-national-geographic-</td></tr>\n",
       "<tr><td class=\"cell-1\" style=\"text-align:right;\">46</td> <td class=\"cell-2\" style=\"\">http://help.nationalgeographic.com/customer/en/portal/articles/1101486-what-are-assignments-and-stories-how-do-they-work-</td></tr>\n",
       "<tr><td class=\"cell-1\" style=\"text-align:right;\">44</td> <td class=\"cell-2\" style=\"\">http://help.nationalgeographic.com/customer/en/portal/articles/1101484--how-can-i-submit-a-photo-for-the-daily-dozen-</td></tr>\n",
       "<tr><td class=\"cell-1\" style=\"text-align:right;\">36</td> <td class=\"cell-2\" style=\"\">http://help.nationalgeographic.com/customer/portal/emails/completed</td></tr>\n",
       "<tr><td class=\"cell-1\" style=\"text-align:right;\">31</td> <td class=\"cell-2\" style=\"\">http://help.nationalgeographic.com/customer/portal/articles/1446597-what-can-i-do-with-my-old-national-geographic-magazines-</td></tr>\n",
       "<tr><td class=\"cell-1\" style=\"text-align:right;\">30</td> <td class=\"cell-2\" style=\"\">http://help.nationalgeographic.com/customer/portal/articles/1446583-how-do-i-look-up-articles-and-obtain-back-issues-</td></tr>\n",
       "<tr><td class=\"cell-1\" style=\"text-align:right;\">29</td> <td class=\"cell-2\" style=\"\">http://help.nationalgeographic.com/customer/en/portal/articles/1409680-how-can-i-become-a-national-geographic-explorer-</td></tr>\n",
       "<tr><td class=\"cell-1\" style=\"text-align:right;\">26</td> <td class=\"cell-2\" style=\"\">http://help.nationalgeographic.com/customer/portal/articles/757556</td></tr>\n",
       "<tr><td class=\"cell-1\" style=\"text-align:right;\">24</td> <td class=\"cell-2\" style=\"\">http://help.nationalgeographic.com/customer/en/portal/articles/1409678-how-can-i-be-a-photographer-for-national-geographic-</td></tr>\n",
       "    </tbody>\n"
      ],
      "text/plain": [
       "HTML{UTF8String}(\"    <table  class=\\\"dataframe-table\\\">\\n    <thead><tr><th class=\\\"cell-1\\\" style=\\\"\\\">Views</th> <th class=\\\"cell-2\\\" style=\\\"\\\">Url - Help</th></tr></thead>\\n    <tbody>\\n    <tr><td class=\\\"cell-1\\\" style=\\\"text-align:right;\\\">499</td> <td class=\\\"cell-2\\\" style=\\\"\\\">http://help.nationalgeographic.com/customer/portal/topics/486394-your-shot-beta/articles</td></tr>\\n<tr><td class=\\\"cell-1\\\" style=\\\"text-align:right;\\\">348</td> <td class=\\\"cell-2\\\" style=\\\"\\\">http://help.nationalgeographic.com/customer/portal/articles/1449965-how-many-continents-are-there-</td></tr>\\n<tr><td class=\\\"cell-1\\\" style=\\\"text-align:right;\\\">223</td> <td class=\\\"cell-2\\\" style=\\\"\\\">http://help.nationalgeographic.com</td></tr>\\n<tr><td class=\\\"cell-1\\\" style=\\\"text-align:right;\\\">176</td> <td class=\\\"cell-2\\\" style=\\\"\\\">http://help.nationalgeographic.com/customer/portal/articles/1069715-national-geographic-magazine-subscription-customer-service</td></tr>\\n<tr><td class=\\\"cell-1\\\" style=\\\"text-align:right;\\\">147</td> <td class=\\\"cell-2\\\" style=\\\"\\\">http://help.nationalgeographic.com/customer/portal/topics/607742-careers/articles</td></tr>\\n<tr><td class=\\\"cell-1\\\" style=\\\"text-align:right;\\\">136</td> <td class=\\\"cell-2\\\" style=\\\"\\\">http://help.nationalgeographic.com/customer/portal/emails/new</td></tr>\\n<tr><td class=\\\"cell-1\\\" style=\\\"text-align:right;\\\">129</td> <td class=\\\"cell-2\\\" style=\\\"\\\">http://help.nationalgeographic.com/customer/portal/articles/1409678-how-can-i-be-a-photographer-for-national-geographic-</td></tr>\\n<tr><td class=\\\"cell-1\\\" style=\\\"text-align:right;\\\">127</td> <td class=\\\"cell-2\\\" style=\\\"\\\">http://help.nationalgeographic.com/customer/portal/articles/search</td></tr>\\n<tr><td class=\\\"cell-1\\\" style=\\\"text-align:right;\\\">117</td> <td class=\\\"cell-2\\\" style=\\\"\\\">http://help.nationalgeographic.com/customer/en/portal/articles/1409687-does-national-geographic-offer-internships-</td></tr>\\n<tr><td class=\\\"cell-1\\\" style=\\\"text-align:right;\\\">99</td> <td class=\\\"cell-2\\\" style=\\\"\\\">http://help.nationalgeographic.com/customer/portal/articles/1450060-what-is-the-world-s-longest-river-</td></tr>\\n<tr><td class=\\\"cell-1\\\" style=\\\"text-align:right;\\\">96</td> <td class=\\\"cell-2\\\" style=\\\"\\\">http://help.nationalgeographic.com/customer/en/portal/articles/1081018-when-i-submit-a-photo-to-your-shot-do-i-retain-the-copyright-to-the-photograph-</td></tr>\\n<tr><td class=\\\"cell-1\\\" style=\\\"text-align:right;\\\">71</td> <td class=\\\"cell-2\\\" style=\\\"\\\">http://help.nationalgeographic.com/customer/en/portal/articles/1906164-how-can-i-work-for-national-geographic-</td></tr>\\n<tr><td class=\\\"cell-1\\\" style=\\\"text-align:right;\\\">57</td> <td class=\\\"cell-2\\\" style=\\\"\\\">http://help.nationalgeographic.com/customer/en/portal/articles/1081034-how-many-photos-can-i-submit-when-does-the-quota-reset-</td></tr>\\n    \\n    <tr><td class=\\\"cell-1\\\" style=\\\"text-align:right;\\\">57</td> <td class=\\\"cell-2\\\" style=\\\"\\\">http://help.nationalgeographic.com/customer/en/portal/topics/486394-your-shot-community-support/articles</td></tr>\\n<tr><td class=\\\"cell-1\\\" style=\\\"text-align:right;\\\">50</td> <td class=\\\"cell-2\\\" style=\\\"\\\">http://help.nationalgeographic.com/customer/en/portal/articles/1142311-how-can-i-submit-or-upload-a-photo-to-your-shot-</td></tr>\\n<tr><td class=\\\"cell-1\\\" style=\\\"text-align:right;\\\">49</td> <td class=\\\"cell-2\\\" style=\\\"\\\">http://help.nationalgeographic.com/customer/portal/articles/1450076-what-is-the-world-s-largest-desert-</td></tr>\\n<tr><td class=\\\"cell-1\\\" style=\\\"text-align:right;\\\">49</td> <td class=\\\"cell-2\\\" style=\\\"\\\">http://help.nationalgeographic.com/customer/portal/articles/1906164-how-can-i-work-for-national-geographic-</td></tr>\\n<tr><td class=\\\"cell-1\\\" style=\\\"text-align:right;\\\">46</td> <td class=\\\"cell-2\\\" style=\\\"\\\">http://help.nationalgeographic.com/customer/en/portal/articles/1101486-what-are-assignments-and-stories-how-do-they-work-</td></tr>\\n<tr><td class=\\\"cell-1\\\" style=\\\"text-align:right;\\\">44</td> <td class=\\\"cell-2\\\" style=\\\"\\\">http://help.nationalgeographic.com/customer/en/portal/articles/1101484--how-can-i-submit-a-photo-for-the-daily-dozen-</td></tr>\\n<tr><td class=\\\"cell-1\\\" style=\\\"text-align:right;\\\">36</td> <td class=\\\"cell-2\\\" style=\\\"\\\">http://help.nationalgeographic.com/customer/portal/emails/completed</td></tr>\\n<tr><td class=\\\"cell-1\\\" style=\\\"text-align:right;\\\">31</td> <td class=\\\"cell-2\\\" style=\\\"\\\">http://help.nationalgeographic.com/customer/portal/articles/1446597-what-can-i-do-with-my-old-national-geographic-magazines-</td></tr>\\n<tr><td class=\\\"cell-1\\\" style=\\\"text-align:right;\\\">30</td> <td class=\\\"cell-2\\\" style=\\\"\\\">http://help.nationalgeographic.com/customer/portal/articles/1446583-how-do-i-look-up-articles-and-obtain-back-issues-</td></tr>\\n<tr><td class=\\\"cell-1\\\" style=\\\"text-align:right;\\\">29</td> <td class=\\\"cell-2\\\" style=\\\"\\\">http://help.nationalgeographic.com/customer/en/portal/articles/1409680-how-can-i-become-a-national-geographic-explorer-</td></tr>\\n<tr><td class=\\\"cell-1\\\" style=\\\"text-align:right;\\\">26</td> <td class=\\\"cell-2\\\" style=\\\"\\\">http://help.nationalgeographic.com/customer/portal/articles/757556</td></tr>\\n<tr><td class=\\\"cell-1\\\" style=\\\"text-align:right;\\\">24</td> <td class=\\\"cell-2\\\" style=\\\"\\\">http://help.nationalgeographic.com/customer/en/portal/articles/1409678-how-can-i-be-a-photographer-for-national-geographic-</td></tr>\\n    </tbody>\\n\")"
      ]
     },
     "metadata": {},
     "output_type": "display_data"
    },
    {
     "data": {
      "text/html": [
       "    <table  class=\"dataframe-table\">\n",
       "    <thead><tr><th class=\"cell-1\" style=\"\">Views</th> <th class=\"cell-2\" style=\"\">Url - Help</th></tr></thead>\n",
       "    <tbody>\n",
       "    <tr><td class=\"cell-1\" style=\"text-align:right;\">23</td> <td class=\"cell-2\" style=\"\">http://help.nationalgeographic.com/customer/portal/articles/1409680-how-can-i-become-a-national-geographic-explorer-</td></tr>\n",
       "<tr><td class=\"cell-1\" style=\"text-align:right;\">23</td> <td class=\"cell-2\" style=\"\">http://help.nationalgeographic.com/customer/portal/articles/1069717-ng-traveler-magazine-subscription-customer-service</td></tr>\n",
       "<tr><td class=\"cell-1\" style=\"text-align:right;\">22</td> <td class=\"cell-2\" style=\"\">http://help.nationalgeographic.com/customer/portal/articles/2030657-ng-history-magazine-customer-service</td></tr>\n",
       "    \n",
       "    <tr><td class=\"cell-1\" style=\"text-align:right;\">21</td> <td class=\"cell-2\" style=\"\">http://help.nationalgeographic.com/customer/en/portal/articles/1069715-national-geographic-magazine-subscription-customer-service</td></tr>\n",
       "<tr><td class=\"cell-1\" style=\"text-align:right;\">21</td> <td class=\"cell-2\" style=\"\">http://help.nationalgeographic.com/customer/portal/articles/1409682-how-can-i-write-for-national-geographic-</td></tr>\n",
       "<tr><td class=\"cell-1\" style=\"text-align:right;\">21</td> <td class=\"cell-2\" style=\"\">http://help.nationalgeographic.com/customer/portal/articles/939496-how-can-i-update-my-account-information-for-my-community-profile-</td></tr>\n",
       "    </tbody>\n"
      ],
      "text/plain": [
       "HTML{UTF8String}(\"    <table  class=\\\"dataframe-table\\\">\\n    <thead><tr><th class=\\\"cell-1\\\" style=\\\"\\\">Views</th> <th class=\\\"cell-2\\\" style=\\\"\\\">Url - Help</th></tr></thead>\\n    <tbody>\\n    <tr><td class=\\\"cell-1\\\" style=\\\"text-align:right;\\\">23</td> <td class=\\\"cell-2\\\" style=\\\"\\\">http://help.nationalgeographic.com/customer/portal/articles/1409680-how-can-i-become-a-national-geographic-explorer-</td></tr>\\n<tr><td class=\\\"cell-1\\\" style=\\\"text-align:right;\\\">23</td> <td class=\\\"cell-2\\\" style=\\\"\\\">http://help.nationalgeographic.com/customer/portal/articles/1069717-ng-traveler-magazine-subscription-customer-service</td></tr>\\n<tr><td class=\\\"cell-1\\\" style=\\\"text-align:right;\\\">22</td> <td class=\\\"cell-2\\\" style=\\\"\\\">http://help.nationalgeographic.com/customer/portal/articles/2030657-ng-history-magazine-customer-service</td></tr>\\n    \\n    <tr><td class=\\\"cell-1\\\" style=\\\"text-align:right;\\\">21</td> <td class=\\\"cell-2\\\" style=\\\"\\\">http://help.nationalgeographic.com/customer/en/portal/articles/1069715-national-geographic-magazine-subscription-customer-service</td></tr>\\n<tr><td class=\\\"cell-1\\\" style=\\\"text-align:right;\\\">21</td> <td class=\\\"cell-2\\\" style=\\\"\\\">http://help.nationalgeographic.com/customer/portal/articles/1409682-how-can-i-write-for-national-geographic-</td></tr>\\n<tr><td class=\\\"cell-1\\\" style=\\\"text-align:right;\\\">21</td> <td class=\\\"cell-2\\\" style=\\\"\\\">http://help.nationalgeographic.com/customer/portal/articles/939496-how-can-i-update-my-account-information-for-my-community-profile-</td></tr>\\n    </tbody>\\n\")"
      ]
     },
     "metadata": {},
     "output_type": "display_data"
    },
    {
     "data": {
      "text/html": [
       "<div class=\"dswbOutputText\"><h1 class=\"chart_title\" style=\"color:#ccc\">Top 10000 (min 20) URLs for Travel WP</h1><h3 class=\"chart_info\" style=\"color:#ccc\">Note: If you see AEM URL's in this list tell Chris Davis</h3><h3 class=\"chart_info\" style=\"color:#ccc\">August 5, 2017 23:59:00 to August 6, 2017 23:59:00 Local Time</h3></div>"
      ]
     },
     "metadata": {},
     "output_type": "display_data"
    },
    {
     "data": {
      "text/html": [
       "    <table  class=\"dataframe-table\">\n",
       "    <thead><tr><th class=\"cell-1\" style=\"\">Views</th> <th class=\"cell-2\" style=\"\">Url - Travel WP</th></tr></thead>\n",
       "    <tbody>\n",
       "    <tr><td class=\"cell-1\" style=\"text-align:right;\">206</td> <td class=\"cell-2\" style=\"\">http://intelligenttravel.nationalgeographic.com/2012/12/28/the-10-best-chocolatiers-in-the-world</td></tr>\n",
       "<tr><td class=\"cell-1\" style=\"text-align:right;\">201</td> <td class=\"cell-2\" style=\"\">http://intelligenttravel.nationalgeographic.com/2013/09/05/how-to-turn-your-car-into-a-camper</td></tr>\n",
       "<tr><td class=\"cell-1\" style=\"text-align:right;\">168</td> <td class=\"cell-2\" style=\"\">http://intelligenttravel.nationalgeographic.com/2013/07/29/the-truth-about-bedbugs</td></tr>\n",
       "<tr><td class=\"cell-1\" style=\"text-align:right;\">99</td> <td class=\"cell-2\" style=\"\">http://intelligenttravel.nationalgeographic.com/2013/01/22/so-you-want-to-be-a-tour-guide-afitz</td></tr>\n",
       "<tr><td class=\"cell-1\" style=\"text-align:right;\">57</td> <td class=\"cell-2\" style=\"\">http://intelligenttravel.nationalgeographic.com/2013/06/14/how-to-become-a-nat-geo-photographer</td></tr>\n",
       "<tr><td class=\"cell-1\" style=\"text-align:right;\">43</td> <td class=\"cell-2\" style=\"\">http://intelligenttravel.nationalgeographic.com/2012/02/24/the-10-rules-of-packing</td></tr>\n",
       "<tr><td class=\"cell-1\" style=\"text-align:right;\">41</td> <td class=\"cell-2\" style=\"\">http://intelligenttravel.nationalgeographic.com/2013/08/20/the-quieter-side-of-ibiza</td></tr>\n",
       "<tr><td class=\"cell-1\" style=\"text-align:right;\">36</td> <td class=\"cell-2\" style=\"\">http://intelligenttravel.nationalgeographic.com/2014/05/12/9-foodie-favorites-in-williamsburg</td></tr>\n",
       "    \n",
       "    <tr><td class=\"cell-1\" style=\"text-align:right;\">35</td> <td class=\"cell-2\" style=\"\">http://intelligenttravel.nationalgeographic.com/2009/03/19/blogging_through_israel_bobbin</td></tr>\n",
       "<tr><td class=\"cell-1\" style=\"text-align:right;\">32</td> <td class=\"cell-2\" style=\"\">http://intelligenttravel.nationalgeographic.com/2015/09/15/tackling-tellurides-via-ferrata</td></tr>\n",
       "<tr><td class=\"cell-1\" style=\"text-align:right;\">29</td> <td class=\"cell-2\" style=\"\">http://intelligenttravel.nationalgeographic.com/2010/01/29/top_ten_sights_in_western_cana</td></tr>\n",
       "<tr><td class=\"cell-1\" style=\"text-align:right;\">27</td> <td class=\"cell-2\" style=\"\">http://intelligenttravel.nationalgeographic.com/2015/03/27/seven-perfect-days-in-belize</td></tr>\n",
       "<tr><td class=\"cell-1\" style=\"text-align:right;\">27</td> <td class=\"cell-2\" style=\"\">http://intelligenttravel.nationalgeographic.com/2013/02/14/how-to-pack-for-weekend-trips-afitz</td></tr>\n",
       "<tr><td class=\"cell-1\" style=\"text-align:right;\">26</td> <td class=\"cell-2\" style=\"\">http://intelligenttravel.nationalgeographic.com/2016/02/01/the-plantation-every-american-should-visit</td></tr>\n",
       "<tr><td class=\"cell-1\" style=\"text-align:right;\">26</td> <td class=\"cell-2\" style=\"\">http://intelligenttravel.nationalgeographic.com/2015/11/11/neighborhood-watch-san-antonios-pearl-district-texas-afitz</td></tr>\n",
       "<tr><td class=\"cell-1\" style=\"text-align:right;\">22</td> <td class=\"cell-2\" style=\"\">http://intelligenttravel.nationalgeographic.com/2015/01/16/lisbon-like-a-local</td></tr>\n",
       "    </tbody>\n"
      ],
      "text/plain": [
       "HTML{UTF8String}(\"    <table  class=\\\"dataframe-table\\\">\\n    <thead><tr><th class=\\\"cell-1\\\" style=\\\"\\\">Views</th> <th class=\\\"cell-2\\\" style=\\\"\\\">Url - Travel WP</th></tr></thead>\\n    <tbody>\\n    <tr><td class=\\\"cell-1\\\" style=\\\"text-align:right;\\\">206</td> <td class=\\\"cell-2\\\" style=\\\"\\\">http://intelligenttravel.nationalgeographic.com/2012/12/28/the-10-best-chocolatiers-in-the-world</td></tr>\\n<tr><td class=\\\"cell-1\\\" style=\\\"text-align:right;\\\">201</td> <td class=\\\"cell-2\\\" style=\\\"\\\">http://intelligenttravel.nationalgeographic.com/2013/09/05/how-to-turn-your-car-into-a-camper</td></tr>\\n<tr><td class=\\\"cell-1\\\" style=\\\"text-align:right;\\\">168</td> <td class=\\\"cell-2\\\" style=\\\"\\\">http://intelligenttravel.nationalgeographic.com/2013/07/29/the-truth-about-bedbugs</td></tr>\\n<tr><td class=\\\"cell-1\\\" style=\\\"text-align:right;\\\">99</td> <td class=\\\"cell-2\\\" style=\\\"\\\">http://intelligenttravel.nationalgeographic.com/2013/01/22/so-you-want-to-be-a-tour-guide-afitz</td></tr>\\n<tr><td class=\\\"cell-1\\\" style=\\\"text-align:right;\\\">57</td> <td class=\\\"cell-2\\\" style=\\\"\\\">http://intelligenttravel.nationalgeographic.com/2013/06/14/how-to-become-a-nat-geo-photographer</td></tr>\\n<tr><td class=\\\"cell-1\\\" style=\\\"text-align:right;\\\">43</td> <td class=\\\"cell-2\\\" style=\\\"\\\">http://intelligenttravel.nationalgeographic.com/2012/02/24/the-10-rules-of-packing</td></tr>\\n<tr><td class=\\\"cell-1\\\" style=\\\"text-align:right;\\\">41</td> <td class=\\\"cell-2\\\" style=\\\"\\\">http://intelligenttravel.nationalgeographic.com/2013/08/20/the-quieter-side-of-ibiza</td></tr>\\n<tr><td class=\\\"cell-1\\\" style=\\\"text-align:right;\\\">36</td> <td class=\\\"cell-2\\\" style=\\\"\\\">http://intelligenttravel.nationalgeographic.com/2014/05/12/9-foodie-favorites-in-williamsburg</td></tr>\\n    \\n    <tr><td class=\\\"cell-1\\\" style=\\\"text-align:right;\\\">35</td> <td class=\\\"cell-2\\\" style=\\\"\\\">http://intelligenttravel.nationalgeographic.com/2009/03/19/blogging_through_israel_bobbin</td></tr>\\n<tr><td class=\\\"cell-1\\\" style=\\\"text-align:right;\\\">32</td> <td class=\\\"cell-2\\\" style=\\\"\\\">http://intelligenttravel.nationalgeographic.com/2015/09/15/tackling-tellurides-via-ferrata</td></tr>\\n<tr><td class=\\\"cell-1\\\" style=\\\"text-align:right;\\\">29</td> <td class=\\\"cell-2\\\" style=\\\"\\\">http://intelligenttravel.nationalgeographic.com/2010/01/29/top_ten_sights_in_western_cana</td></tr>\\n<tr><td class=\\\"cell-1\\\" style=\\\"text-align:right;\\\">27</td> <td class=\\\"cell-2\\\" style=\\\"\\\">http://intelligenttravel.nationalgeographic.com/2015/03/27/seven-perfect-days-in-belize</td></tr>\\n<tr><td class=\\\"cell-1\\\" style=\\\"text-align:right;\\\">27</td> <td class=\\\"cell-2\\\" style=\\\"\\\">http://intelligenttravel.nationalgeographic.com/2013/02/14/how-to-pack-for-weekend-trips-afitz</td></tr>\\n<tr><td class=\\\"cell-1\\\" style=\\\"text-align:right;\\\">26</td> <td class=\\\"cell-2\\\" style=\\\"\\\">http://intelligenttravel.nationalgeographic.com/2016/02/01/the-plantation-every-american-should-visit</td></tr>\\n<tr><td class=\\\"cell-1\\\" style=\\\"text-align:right;\\\">26</td> <td class=\\\"cell-2\\\" style=\\\"\\\">http://intelligenttravel.nationalgeographic.com/2015/11/11/neighborhood-watch-san-antonios-pearl-district-texas-afitz</td></tr>\\n<tr><td class=\\\"cell-1\\\" style=\\\"text-align:right;\\\">22</td> <td class=\\\"cell-2\\\" style=\\\"\\\">http://intelligenttravel.nationalgeographic.com/2015/01/16/lisbon-like-a-local</td></tr>\\n    </tbody>\\n\")"
      ]
     },
     "metadata": {},
     "output_type": "display_data"
    }
   ],
   "source": [
    "displayTitle(chart_title = \"Medium Groups\", showTimeStamp=false)\n",
    "\n",
    "firstAndLast(TV,UP,\"Help\";              rowLimit=10000,beaconsLimit=20,paginate=true);\n",
    "firstAndLast(TV,UP,\"Travel WP\";         rowLimit=10000,beaconsLimit=20,paginate=true);\n"
   ]
  },
  {
   "cell_type": "code",
   "execution_count": 10,
   "metadata": {
    "collapsed": false,
    "input_collapsed": false,
    "scrolled": false
   },
   "outputs": [
    {
     "data": {
      "text/html": [
       "<div class=\"dswbOutputText\"><h1 class=\"chart_title\" style=\"color:#ccc\">Unclassified</h1></div>"
      ]
     },
     "metadata": {},
     "output_type": "display_data"
    },
    {
     "data": {
      "text/html": [
       "<div class=\"dswbOutputText\"><h1 class=\"chart_title\" style=\"color:#ccc\">Top 10000 (min 1) URLs for Nat Geo Site</h1><h3 class=\"chart_info\" style=\"color:#ccc\">Note: If you see AEM URL's in this list tell Chris Davis</h3><h3 class=\"chart_info\" style=\"color:#ccc\">August 5, 2017 23:59:00 to August 6, 2017 23:59:00 Local Time</h3></div>"
      ]
     },
     "metadata": {},
     "output_type": "display_data"
    },
    {
     "data": {
      "text/html": [
       "    <table  class=\"dataframe-table\">\n",
       "    <thead><tr><th class=\"cell-1\" style=\"\">Views</th> <th class=\"cell-2\" style=\"\">Url - Nat Geo Site</th></tr></thead>\n",
       "    <tbody>\n",
       "    <tr><td class=\"cell-1\" style=\"text-align:right;\">330</td> <td class=\"cell-2\" style=\"\">http://www.nationalgeographic.com/amobee/a3d-ad-loader.html</td></tr>\n",
       "<tr><td class=\"cell-1\" style=\"text-align:right;\">108</td> <td class=\"cell-2\" style=\"\">http://www.nationalgeographic.com/content/ngdotcom/en_US/games/photo-puzzle-jigsaw.html</td></tr>\n",
       "<tr><td class=\"cell-1\" style=\"text-align:right;\">101</td> <td class=\"cell-2\" style=\"\">http://www.nationalgeographic.com/content/ngdotcom/en_US/games.html</td></tr>\n",
       "<tr><td class=\"cell-1\" style=\"text-align:right;\">94</td> <td class=\"cell-2\" style=\"\">http://www.nationalgeographic.com</td></tr>\n",
       "<tr><td class=\"cell-1\" style=\"text-align:right;\">33</td> <td class=\"cell-2\" style=\"\">http://www.nationalgeographic.com/content/adventure/en_US/features/adventurers-of-the-year</td></tr>\n",
       "<tr><td class=\"cell-1\" style=\"text-align:right;\">29</td> <td class=\"cell-2\" style=\"\">http://www.nationalgeographic.com/newsletter/whitelist</td></tr>\n",
       "<tr><td class=\"cell-1\" style=\"text-align:right;\">21</td> <td class=\"cell-2\" style=\"\">http://www.nationalgeographic.com/backend-proxy/geobee/quiz/today</td></tr>\n",
       "<tr><td class=\"cell-1\" style=\"text-align:right;\">16</td> <td class=\"cell-2\" style=\"\">http://www.nationalgeographic.com/astrobiology/distant-oasis</td></tr>\n",
       "<tr><td class=\"cell-1\" style=\"text-align:right;\">14</td> <td class=\"cell-2\" style=\"\">http://www.nationalgeographic.com/honeyhunters</td></tr>\n",
       "<tr><td class=\"cell-1\" style=\"text-align:right;\">14</td> <td class=\"cell-2\" style=\"\">http://www.nationalgeographic.com/plus</td></tr>\n",
       "<tr><td class=\"cell-1\" style=\"text-align:right;\">12</td> <td class=\"cell-2\" style=\"\">http://www.nationalgeographic.com/projects/magazines/l/multisubs/kids-sem.html</td></tr>\n",
       "<tr><td class=\"cell-1\" style=\"text-align:right;\">11</td> <td class=\"cell-2\" style=\"\">http://www.nationalgeographic.com/rockabox/rockabox_buster.html</td></tr>\n",
       "<tr><td class=\"cell-1\" style=\"text-align:right;\">11</td> <td class=\"cell-2\" style=\"\">http://www.nationalgeographic.com/uk</td></tr>\n",
       "    \n",
       "    <tr><td class=\"cell-1\" style=\"text-align:right;\">11</td> <td class=\"cell-2\" style=\"\">http://www.nationalgeographic.com/astrobiology/distant-oasis/index-mobile.html</td></tr>\n",
       "<tr><td class=\"cell-1\" style=\"text-align:right;\">10</td> <td class=\"cell-2\" style=\"\">http://www.nationalgeographic.com/advertising/frame/300x250.html</td></tr>\n",
       "<tr><td class=\"cell-1\" style=\"text-align:right;\">8</td> <td class=\"cell-2\" style=\"\">http://www.nationalgeographic.com/americannile/mobile.html</td></tr>\n",
       "<tr><td class=\"cell-1\" style=\"text-align:right;\">8</td> <td class=\"cell-2\" style=\"\">http://www.nationalgeographic.com/content/travel/en_US/destinations.html</td></tr>\n",
       "<tr><td class=\"cell-1\" style=\"text-align:right;\">7</td> <td class=\"cell-2\" style=\"\">http://www.nationalgeographic.com/corrections</td></tr>\n",
       "<tr><td class=\"cell-1\" style=\"text-align:right;\">7</td> <td class=\"cell-2\" style=\"\">http://www.nationalgeographic.com/complete-national-geographic</td></tr>\n",
       "<tr><td class=\"cell-1\" style=\"text-align:right;\">7</td> <td class=\"cell-2\" style=\"\">http://www.nationalgeographic.com/photo-of-the-day</td></tr>\n",
       "<tr><td class=\"cell-1\" style=\"text-align:right;\">7</td> <td class=\"cell-2\" style=\"\">http://www.nationalgeographic.com/discoverjapancontest</td></tr>\n",
       "<tr><td class=\"cell-1\" style=\"text-align:right;\">7</td> <td class=\"cell-2\" style=\"\">http://www.nationalgeographic.com/ap_index</td></tr>\n",
       "<tr><td class=\"cell-1\" style=\"text-align:right;\">6</td> <td class=\"cell-2\" style=\"\">http://www.nationalgeographic.com/flashtalking/ftlocal.html</td></tr>\n",
       "<tr><td class=\"cell-1\" style=\"text-align:right;\">6</td> <td class=\"cell-2\" style=\"\">http://www.nationalgeographic.com/astrobiology</td></tr>\n",
       "<tr><td class=\"cell-1\" style=\"text-align:right;\">6</td> <td class=\"cell-2\" style=\"\">http://www.nationalgeographic.com/redirect/category_redirect</td></tr>\n",
       "    </tbody>\n"
      ],
      "text/plain": [
       "HTML{UTF8String}(\"    <table  class=\\\"dataframe-table\\\">\\n    <thead><tr><th class=\\\"cell-1\\\" style=\\\"\\\">Views</th> <th class=\\\"cell-2\\\" style=\\\"\\\">Url - Nat Geo Site</th></tr></thead>\\n    <tbody>\\n    <tr><td class=\\\"cell-1\\\" style=\\\"text-align:right;\\\">330</td> <td class=\\\"cell-2\\\" style=\\\"\\\">http://www.nationalgeographic.com/amobee/a3d-ad-loader.html</td></tr>\\n<tr><td class=\\\"cell-1\\\" style=\\\"text-align:right;\\\">108</td> <td class=\\\"cell-2\\\" style=\\\"\\\">http://www.nationalgeographic.com/content/ngdotcom/en_US/games/photo-puzzle-jigsaw.html</td></tr>\\n<tr><td class=\\\"cell-1\\\" style=\\\"text-align:right;\\\">101</td> <td class=\\\"cell-2\\\" style=\\\"\\\">http://www.nationalgeographic.com/content/ngdotcom/en_US/games.html</td></tr>\\n<tr><td class=\\\"cell-1\\\" style=\\\"text-align:right;\\\">94</td> <td class=\\\"cell-2\\\" style=\\\"\\\">http://www.nationalgeographic.com</td></tr>\\n<tr><td class=\\\"cell-1\\\" style=\\\"text-align:right;\\\">33</td> <td class=\\\"cell-2\\\" style=\\\"\\\">http://www.nationalgeographic.com/content/adventure/en_US/features/adventurers-of-the-year</td></tr>\\n<tr><td class=\\\"cell-1\\\" style=\\\"text-align:right;\\\">29</td> <td class=\\\"cell-2\\\" style=\\\"\\\">http://www.nationalgeographic.com/newsletter/whitelist</td></tr>\\n<tr><td class=\\\"cell-1\\\" style=\\\"text-align:right;\\\">21</td> <td class=\\\"cell-2\\\" style=\\\"\\\">http://www.nationalgeographic.com/backend-proxy/geobee/quiz/today</td></tr>\\n<tr><td class=\\\"cell-1\\\" style=\\\"text-align:right;\\\">16</td> <td class=\\\"cell-2\\\" style=\\\"\\\">http://www.nationalgeographic.com/astrobiology/distant-oasis</td></tr>\\n<tr><td class=\\\"cell-1\\\" style=\\\"text-align:right;\\\">14</td> <td class=\\\"cell-2\\\" style=\\\"\\\">http://www.nationalgeographic.com/honeyhunters</td></tr>\\n<tr><td class=\\\"cell-1\\\" style=\\\"text-align:right;\\\">14</td> <td class=\\\"cell-2\\\" style=\\\"\\\">http://www.nationalgeographic.com/plus</td></tr>\\n<tr><td class=\\\"cell-1\\\" style=\\\"text-align:right;\\\">12</td> <td class=\\\"cell-2\\\" style=\\\"\\\">http://www.nationalgeographic.com/projects/magazines/l/multisubs/kids-sem.html</td></tr>\\n<tr><td class=\\\"cell-1\\\" style=\\\"text-align:right;\\\">11</td> <td class=\\\"cell-2\\\" style=\\\"\\\">http://www.nationalgeographic.com/rockabox/rockabox_buster.html</td></tr>\\n<tr><td class=\\\"cell-1\\\" style=\\\"text-align:right;\\\">11</td> <td class=\\\"cell-2\\\" style=\\\"\\\">http://www.nationalgeographic.com/uk</td></tr>\\n    \\n    <tr><td class=\\\"cell-1\\\" style=\\\"text-align:right;\\\">11</td> <td class=\\\"cell-2\\\" style=\\\"\\\">http://www.nationalgeographic.com/astrobiology/distant-oasis/index-mobile.html</td></tr>\\n<tr><td class=\\\"cell-1\\\" style=\\\"text-align:right;\\\">10</td> <td class=\\\"cell-2\\\" style=\\\"\\\">http://www.nationalgeographic.com/advertising/frame/300x250.html</td></tr>\\n<tr><td class=\\\"cell-1\\\" style=\\\"text-align:right;\\\">8</td> <td class=\\\"cell-2\\\" style=\\\"\\\">http://www.nationalgeographic.com/americannile/mobile.html</td></tr>\\n<tr><td class=\\\"cell-1\\\" style=\\\"text-align:right;\\\">8</td> <td class=\\\"cell-2\\\" style=\\\"\\\">http://www.nationalgeographic.com/content/travel/en_US/destinations.html</td></tr>\\n<tr><td class=\\\"cell-1\\\" style=\\\"text-align:right;\\\">7</td> <td class=\\\"cell-2\\\" style=\\\"\\\">http://www.nationalgeographic.com/corrections</td></tr>\\n<tr><td class=\\\"cell-1\\\" style=\\\"text-align:right;\\\">7</td> <td class=\\\"cell-2\\\" style=\\\"\\\">http://www.nationalgeographic.com/complete-national-geographic</td></tr>\\n<tr><td class=\\\"cell-1\\\" style=\\\"text-align:right;\\\">7</td> <td class=\\\"cell-2\\\" style=\\\"\\\">http://www.nationalgeographic.com/photo-of-the-day</td></tr>\\n<tr><td class=\\\"cell-1\\\" style=\\\"text-align:right;\\\">7</td> <td class=\\\"cell-2\\\" style=\\\"\\\">http://www.nationalgeographic.com/discoverjapancontest</td></tr>\\n<tr><td class=\\\"cell-1\\\" style=\\\"text-align:right;\\\">7</td> <td class=\\\"cell-2\\\" style=\\\"\\\">http://www.nationalgeographic.com/ap_index</td></tr>\\n<tr><td class=\\\"cell-1\\\" style=\\\"text-align:right;\\\">6</td> <td class=\\\"cell-2\\\" style=\\\"\\\">http://www.nationalgeographic.com/flashtalking/ftlocal.html</td></tr>\\n<tr><td class=\\\"cell-1\\\" style=\\\"text-align:right;\\\">6</td> <td class=\\\"cell-2\\\" style=\\\"\\\">http://www.nationalgeographic.com/astrobiology</td></tr>\\n<tr><td class=\\\"cell-1\\\" style=\\\"text-align:right;\\\">6</td> <td class=\\\"cell-2\\\" style=\\\"\\\">http://www.nationalgeographic.com/redirect/category_redirect</td></tr>\\n    </tbody>\\n\")"
      ]
     },
     "metadata": {},
     "output_type": "display_data"
    },
    {
     "data": {
      "text/html": [
       "    <table  class=\"dataframe-table\">\n",
       "    <thead><tr><th class=\"cell-1\" style=\"\">Views</th> <th class=\"cell-2\" style=\"\">Url - Nat Geo Site</th></tr></thead>\n",
       "    <tbody>\n",
       "    <tr><td class=\"cell-1\" style=\"text-align:right;\">6</td> <td class=\"cell-2\" style=\"\">http://www.nationalgeographic.com/americannile</td></tr>\n",
       "<tr><td class=\"cell-1\" style=\"text-align:right;\">6</td> <td class=\"cell-2\" style=\"\">http://www.nationalgeographic.com/complete-national-geographic/faq</td></tr>\n",
       "<tr><td class=\"cell-1\" style=\"text-align:right;\">5</td> <td class=\"cell-2\" style=\"\">http://www.nationalgeographic.com/plus.</td></tr>\n",
       "<tr><td class=\"cell-1\" style=\"text-align:right;\">5</td> <td class=\"cell-2\" style=\"\">http://www.nationalgeographic.com/au</td></tr>\n",
       "<tr><td class=\"cell-1\" style=\"text-align:right;\">5</td> <td class=\"cell-2\" style=\"\">http://www.nationalgeographic.com/honeyhunters360</td></tr>\n",
       "<tr><td class=\"cell-1\" style=\"text-align:right;\">4</td> <td class=\"cell-2\" style=\"\">http://www.nationalgeographic.com/archaeologyandhistory/archaeology/stonehenge</td></tr>\n",
       "<tr><td class=\"cell-1\" style=\"text-align:right;\">4</td> <td class=\"cell-2\" style=\"\">http://www.nationalgeographic.com/eregtest/list/15</td></tr>\n",
       "<tr><td class=\"cell-1\" style=\"text-align:right;\">4</td> <td class=\"cell-2\" style=\"\">http://www.nationalgeographic.com/europe/exploration/grants</td></tr>\n",
       "<tr><td class=\"cell-1\" style=\"text-align:right;\">4</td> <td class=\"cell-2\" style=\"\">http://www.nationalgeographic.com/content/magazine/en_US/2017/08/shortfin-mako-fastest-shark-ocean.html</td></tr>\n",
       "<tr><td class=\"cell-1\" style=\"text-align:right;\">3</td> <td class=\"cell-2\" style=\"\">http://www.nationalgeographic.com/wallpaper/photography/photos/milestones-photography/afghan-girl-portrait</td></tr>\n",
       "<tr><td class=\"cell-1\" style=\"text-align:right;\">3</td> <td class=\"cell-2\" style=\"\">http://www.nationalgeographic.com/content/photography/objects/collections/antarctica-archive</td></tr>\n",
       "<tr><td class=\"cell-1\" style=\"text-align:right;\">3</td> <td class=\"cell-2\" style=\"\">http://www.nationalgeographic.com/year-in-review-2013</td></tr>\n",
       "<tr><td class=\"cell-1\" style=\"text-align:right;\">3</td> <td class=\"cell-2\" style=\"\">http://www.nationalgeographic.com/honeyhunters360,</td></tr>\n",
       "    \n",
       "    <tr><td class=\"cell-1\" style=\"text-align:right;\">3</td> <td class=\"cell-2\" style=\"\">http://www.nationalgeographic.com/honeyhunter360</td></tr>\n",
       "<tr><td class=\"cell-1\" style=\"text-align:right;\">3</td> <td class=\"cell-2\" style=\"\">http://www.nationalgeographic.com/features/140114-bee-native-macro-photography-insects-science</td></tr>\n",
       "<tr><td class=\"cell-1\" style=\"text-align:right;\">3</td> <td class=\"cell-2\" style=\"\">http://www.nationalgeographic.com/in</td></tr>\n",
       "<tr><td class=\"cell-1\" style=\"text-align:right;\">3</td> <td class=\"cell-2\" style=\"\">http://www.nationalgeographic.com/monstersofthedeep</td></tr>\n",
       "<tr><td class=\"cell-1\" style=\"text-align:right;\">3</td> <td class=\"cell-2\" style=\"\">http://www.nationalgeographic.com/sunrise-to-sunset</td></tr>\n",
       "<tr><td class=\"cell-1\" style=\"text-align:right;\">3</td> <td class=\"cell-2\" style=\"\">http://www.nationalgeographic.com/photos/hubble-images-gallery</td></tr>\n",
       "<tr><td class=\"cell-1\" style=\"text-align:right;\">3</td> <td class=\"cell-2\" style=\"\">http://www.nationalgeographic.com/remembering-9-11/pictures-memory-remains</td></tr>\n",
       "<tr><td class=\"cell-1\" style=\"text-align:right;\">3</td> <td class=\"cell-2\" style=\"\">http://www.nationalgeographic.com/wallpaper/photography/photo-tips/nature-landscape-photos/dawn-lake-ontario</td></tr>\n",
       "<tr><td class=\"cell-1\" style=\"text-align:right;\">3</td> <td class=\"cell-2\" style=\"\">http://www.nationalgeographic.com/destinations/Olympic_National_Park/Hoh_Rain_Forest_to_the_Pacific_Beaches.html</td></tr>\n",
       "<tr><td class=\"cell-1\" style=\"text-align:right;\">3</td> <td class=\"cell-2\" style=\"\">http://www.nationalgeographic.com/active-uscan</td></tr>\n",
       "<tr><td class=\"cell-1\" style=\"text-align:right;\">3</td> <td class=\"cell-2\" style=\"\">http://www.nationalgeographic.com/ebooklets/e_ultimate_photo_guidepdf</td></tr>\n",
       "<tr><td class=\"cell-1\" style=\"text-align:right;\">3</td> <td class=\"cell-2\" style=\"\">http://www.nationalgeographic.com/activatw-uscan</td></tr>\n",
       "    </tbody>\n"
      ],
      "text/plain": [
       "HTML{UTF8String}(\"    <table  class=\\\"dataframe-table\\\">\\n    <thead><tr><th class=\\\"cell-1\\\" style=\\\"\\\">Views</th> <th class=\\\"cell-2\\\" style=\\\"\\\">Url - Nat Geo Site</th></tr></thead>\\n    <tbody>\\n    <tr><td class=\\\"cell-1\\\" style=\\\"text-align:right;\\\">6</td> <td class=\\\"cell-2\\\" style=\\\"\\\">http://www.nationalgeographic.com/americannile</td></tr>\\n<tr><td class=\\\"cell-1\\\" style=\\\"text-align:right;\\\">6</td> <td class=\\\"cell-2\\\" style=\\\"\\\">http://www.nationalgeographic.com/complete-national-geographic/faq</td></tr>\\n<tr><td class=\\\"cell-1\\\" style=\\\"text-align:right;\\\">5</td> <td class=\\\"cell-2\\\" style=\\\"\\\">http://www.nationalgeographic.com/plus.</td></tr>\\n<tr><td class=\\\"cell-1\\\" style=\\\"text-align:right;\\\">5</td> <td class=\\\"cell-2\\\" style=\\\"\\\">http://www.nationalgeographic.com/au</td></tr>\\n<tr><td class=\\\"cell-1\\\" style=\\\"text-align:right;\\\">5</td> <td class=\\\"cell-2\\\" style=\\\"\\\">http://www.nationalgeographic.com/honeyhunters360</td></tr>\\n<tr><td class=\\\"cell-1\\\" style=\\\"text-align:right;\\\">4</td> <td class=\\\"cell-2\\\" style=\\\"\\\">http://www.nationalgeographic.com/archaeologyandhistory/archaeology/stonehenge</td></tr>\\n<tr><td class=\\\"cell-1\\\" style=\\\"text-align:right;\\\">4</td> <td class=\\\"cell-2\\\" style=\\\"\\\">http://www.nationalgeographic.com/eregtest/list/15</td></tr>\\n<tr><td class=\\\"cell-1\\\" style=\\\"text-align:right;\\\">4</td> <td class=\\\"cell-2\\\" style=\\\"\\\">http://www.nationalgeographic.com/europe/exploration/grants</td></tr>\\n<tr><td class=\\\"cell-1\\\" style=\\\"text-align:right;\\\">4</td> <td class=\\\"cell-2\\\" style=\\\"\\\">http://www.nationalgeographic.com/content/magazine/en_US/2017/08/shortfin-mako-fastest-shark-ocean.html</td></tr>\\n<tr><td class=\\\"cell-1\\\" style=\\\"text-align:right;\\\">3</td> <td class=\\\"cell-2\\\" style=\\\"\\\">http://www.nationalgeographic.com/wallpaper/photography/photos/milestones-photography/afghan-girl-portrait</td></tr>\\n<tr><td class=\\\"cell-1\\\" style=\\\"text-align:right;\\\">3</td> <td class=\\\"cell-2\\\" style=\\\"\\\">http://www.nationalgeographic.com/content/photography/objects/collections/antarctica-archive</td></tr>\\n<tr><td class=\\\"cell-1\\\" style=\\\"text-align:right;\\\">3</td> <td class=\\\"cell-2\\\" style=\\\"\\\">http://www.nationalgeographic.com/year-in-review-2013</td></tr>\\n<tr><td class=\\\"cell-1\\\" style=\\\"text-align:right;\\\">3</td> <td class=\\\"cell-2\\\" style=\\\"\\\">http://www.nationalgeographic.com/honeyhunters360,</td></tr>\\n    \\n    <tr><td class=\\\"cell-1\\\" style=\\\"text-align:right;\\\">3</td> <td class=\\\"cell-2\\\" style=\\\"\\\">http://www.nationalgeographic.com/honeyhunter360</td></tr>\\n<tr><td class=\\\"cell-1\\\" style=\\\"text-align:right;\\\">3</td> <td class=\\\"cell-2\\\" style=\\\"\\\">http://www.nationalgeographic.com/features/140114-bee-native-macro-photography-insects-science</td></tr>\\n<tr><td class=\\\"cell-1\\\" style=\\\"text-align:right;\\\">3</td> <td class=\\\"cell-2\\\" style=\\\"\\\">http://www.nationalgeographic.com/in</td></tr>\\n<tr><td class=\\\"cell-1\\\" style=\\\"text-align:right;\\\">3</td> <td class=\\\"cell-2\\\" style=\\\"\\\">http://www.nationalgeographic.com/monstersofthedeep</td></tr>\\n<tr><td class=\\\"cell-1\\\" style=\\\"text-align:right;\\\">3</td> <td class=\\\"cell-2\\\" style=\\\"\\\">http://www.nationalgeographic.com/sunrise-to-sunset</td></tr>\\n<tr><td class=\\\"cell-1\\\" style=\\\"text-align:right;\\\">3</td> <td class=\\\"cell-2\\\" style=\\\"\\\">http://www.nationalgeographic.com/photos/hubble-images-gallery</td></tr>\\n<tr><td class=\\\"cell-1\\\" style=\\\"text-align:right;\\\">3</td> <td class=\\\"cell-2\\\" style=\\\"\\\">http://www.nationalgeographic.com/remembering-9-11/pictures-memory-remains</td></tr>\\n<tr><td class=\\\"cell-1\\\" style=\\\"text-align:right;\\\">3</td> <td class=\\\"cell-2\\\" style=\\\"\\\">http://www.nationalgeographic.com/wallpaper/photography/photo-tips/nature-landscape-photos/dawn-lake-ontario</td></tr>\\n<tr><td class=\\\"cell-1\\\" style=\\\"text-align:right;\\\">3</td> <td class=\\\"cell-2\\\" style=\\\"\\\">http://www.nationalgeographic.com/destinations/Olympic_National_Park/Hoh_Rain_Forest_to_the_Pacific_Beaches.html</td></tr>\\n<tr><td class=\\\"cell-1\\\" style=\\\"text-align:right;\\\">3</td> <td class=\\\"cell-2\\\" style=\\\"\\\">http://www.nationalgeographic.com/active-uscan</td></tr>\\n<tr><td class=\\\"cell-1\\\" style=\\\"text-align:right;\\\">3</td> <td class=\\\"cell-2\\\" style=\\\"\\\">http://www.nationalgeographic.com/ebooklets/e_ultimate_photo_guidepdf</td></tr>\\n<tr><td class=\\\"cell-1\\\" style=\\\"text-align:right;\\\">3</td> <td class=\\\"cell-2\\\" style=\\\"\\\">http://www.nationalgeographic.com/activatw-uscan</td></tr>\\n    </tbody>\\n\")"
      ]
     },
     "metadata": {},
     "output_type": "display_data"
    },
    {
     "data": {
      "text/html": [
       "    <table  class=\"dataframe-table\">\n",
       "    <thead><tr><th class=\"cell-1\" style=\"\">Views</th> <th class=\"cell-2\" style=\"\">Url - Nat Geo Site</th></tr></thead>\n",
       "    <tbody>\n",
       "    <tr><td class=\"cell-1\" style=\"text-align:right;\">3</td> <td class=\"cell-2\" style=\"\">http://www.nationalgeographic.com/destinations/San_Francisco/Napa_Valley_and_the_Pacific.html</td></tr>\n",
       "<tr><td class=\"cell-1\" style=\"text-align:right;\">2</td> <td class=\"cell-2\" style=\"\">http://www.nationalgeographic.com/convert/distaCaIc.htm</td></tr>\n",
       "<tr><td class=\"cell-1\" style=\"text-align:right;\">2</td> <td class=\"cell-2\" style=\"\">http://www.nationalgeographic.com/printaposter</td></tr>\n",
       "<tr><td class=\"cell-1\" style=\"text-align:right;\">2</td> <td class=\"cell-2\" style=\"\">http://www.nationalgeographic.com/prototype/topics/prototype-african-lion-responsive</td></tr>\n",
       "<tr><td class=\"cell-1\" style=\"text-align:right;\">2</td> <td class=\"cell-2\" style=\"\">http://www.nationalgeographic.com/gecpartnershowcase</td></tr>\n",
       "<tr><td class=\"cell-1\" style=\"text-align:right;\">2</td> <td class=\"cell-2\" style=\"\">http://www.nationalgeographic.com/index4mobile.html</td></tr>\n",
       "<tr><td class=\"cell-1\" style=\"text-align:right;\">2</td> <td class=\"cell-2\" style=\"\">http://www.nationalgeographic.com/europe/exploration</td></tr>\n",
       "<tr><td class=\"cell-1\" style=\"text-align:right;\">2</td> <td class=\"cell-2\" style=\"\">http://www.nationalgeographic.com/content/contributors/en_US/s/photographer-stephanie-sinclair.html</td></tr>\n",
       "<tr><td class=\"cell-1\" style=\"text-align:right;\">2</td> <td class=\"cell-2\" style=\"\">http://www.nationalgeographic.com/encyclopedia/water-cycle</td></tr>\n",
       "<tr><td class=\"cell-1\" style=\"text-align:right;\">2</td> <td class=\"cell-2\" style=\"\">http://www.nationalgeographic.com/europe/exploration/contact</td></tr>\n",
       "<tr><td class=\"cell-1\" style=\"text-align:right;\">2</td> <td class=\"cell-2\" style=\"\">http://www.nationalgeographic.com/contest-2016</td></tr>\n",
       "<tr><td class=\"cell-1\" style=\"text-align:right;\">2</td> <td class=\"cell-2\" style=\"\">http://www.nationalgeographic.com/astrobiology/goldilocks-worlds</td></tr>\n",
       "    \n",
       "    <tr><td class=\"cell-1\" style=\"text-align:right;\">2</td> <td class=\"cell-2\" style=\"\">http://www.nationalgeographic.com/mobile/apps/national-parks-by-national-geographic</td></tr>\n",
       "<tr><td class=\"cell-1\" style=\"text-align:right;\">2</td> <td class=\"cell-2\" style=\"\">http://www.nationalgeographic.com/taxes</td></tr>\n",
       "<tr><td class=\"cell-1\" style=\"text-align:right;\">2</td> <td class=\"cell-2\" style=\"\">http://www.nationalgeographic.com/energizer</td></tr>\n",
       "<tr><td class=\"cell-1\" style=\"text-align:right;\">2</td> <td class=\"cell-2\" style=\"\">http://www.nationalgeographic.com/%E2%80%A6/dinosaur-nodosaur-foss%E2%80%A6</td></tr>\n",
       "<tr><td class=\"cell-1\" style=\"text-align:right;\">2</td> <td class=\"cell-2\" style=\"\">http://www.nationalgeographic.com/chiquibul</td></tr>\n",
       "<tr><td class=\"cell-1\" style=\"text-align:right;\">2</td> <td class=\"cell-2\" style=\"\">http://www.nationalgeographic.com/content/science/en_US/space.html</td></tr>\n",
       "<tr><td class=\"cell-1\" style=\"text-align:right;\">2</td> <td class=\"cell-2\" style=\"\">http://www.nationalgeographic.com/eregtest/list/1</td></tr>\n",
       "<tr><td class=\"cell-1\" style=\"text-align:right;\">2</td> <td class=\"cell-2\" style=\"\">http://www.nationalgeographic.com/activity/introduction-to-contour-maps/ar%20a=1</td></tr>\n",
       "<tr><td class=\"cell-1\" style=\"text-align:right;\">2</td> <td class=\"cell-2\" style=\"\">http://www.nationalgeographic.com/honey/hunters360</td></tr>\n",
       "<tr><td class=\"cell-1\" style=\"text-align:right;\">2</td> <td class=\"cell-2\" style=\"\">http://www.nationalgeographic.com/hummingbirds</td></tr>\n",
       "<tr><td class=\"cell-1\" style=\"text-align:right;\">2</td> <td class=\"cell-2\" style=\"\">http://www.nationalgeographic.com/animal-trade</td></tr>\n",
       "    </tbody>\n"
      ],
      "text/plain": [
       "HTML{UTF8String}(\"    <table  class=\\\"dataframe-table\\\">\\n    <thead><tr><th class=\\\"cell-1\\\" style=\\\"\\\">Views</th> <th class=\\\"cell-2\\\" style=\\\"\\\">Url - Nat Geo Site</th></tr></thead>\\n    <tbody>\\n    <tr><td class=\\\"cell-1\\\" style=\\\"text-align:right;\\\">3</td> <td class=\\\"cell-2\\\" style=\\\"\\\">http://www.nationalgeographic.com/destinations/San_Francisco/Napa_Valley_and_the_Pacific.html</td></tr>\\n<tr><td class=\\\"cell-1\\\" style=\\\"text-align:right;\\\">2</td> <td class=\\\"cell-2\\\" style=\\\"\\\">http://www.nationalgeographic.com/convert/distaCaIc.htm</td></tr>\\n<tr><td class=\\\"cell-1\\\" style=\\\"text-align:right;\\\">2</td> <td class=\\\"cell-2\\\" style=\\\"\\\">http://www.nationalgeographic.com/printaposter</td></tr>\\n<tr><td class=\\\"cell-1\\\" style=\\\"text-align:right;\\\">2</td> <td class=\\\"cell-2\\\" style=\\\"\\\">http://www.nationalgeographic.com/prototype/topics/prototype-african-lion-responsive</td></tr>\\n<tr><td class=\\\"cell-1\\\" style=\\\"text-align:right;\\\">2</td> <td class=\\\"cell-2\\\" style=\\\"\\\">http://www.nationalgeographic.com/gecpartnershowcase</td></tr>\\n<tr><td class=\\\"cell-1\\\" style=\\\"text-align:right;\\\">2</td> <td class=\\\"cell-2\\\" style=\\\"\\\">http://www.nationalgeographic.com/index4mobile.html</td></tr>\\n<tr><td class=\\\"cell-1\\\" style=\\\"text-align:right;\\\">2</td> <td class=\\\"cell-2\\\" style=\\\"\\\">http://www.nationalgeographic.com/europe/exploration</td></tr>\\n<tr><td class=\\\"cell-1\\\" style=\\\"text-align:right;\\\">2</td> <td class=\\\"cell-2\\\" style=\\\"\\\">http://www.nationalgeographic.com/content/contributors/en_US/s/photographer-stephanie-sinclair.html</td></tr>\\n<tr><td class=\\\"cell-1\\\" style=\\\"text-align:right;\\\">2</td> <td class=\\\"cell-2\\\" style=\\\"\\\">http://www.nationalgeographic.com/encyclopedia/water-cycle</td></tr>\\n<tr><td class=\\\"cell-1\\\" style=\\\"text-align:right;\\\">2</td> <td class=\\\"cell-2\\\" style=\\\"\\\">http://www.nationalgeographic.com/europe/exploration/contact</td></tr>\\n<tr><td class=\\\"cell-1\\\" style=\\\"text-align:right;\\\">2</td> <td class=\\\"cell-2\\\" style=\\\"\\\">http://www.nationalgeographic.com/contest-2016</td></tr>\\n<tr><td class=\\\"cell-1\\\" style=\\\"text-align:right;\\\">2</td> <td class=\\\"cell-2\\\" style=\\\"\\\">http://www.nationalgeographic.com/astrobiology/goldilocks-worlds</td></tr>\\n    \\n    <tr><td class=\\\"cell-1\\\" style=\\\"text-align:right;\\\">2</td> <td class=\\\"cell-2\\\" style=\\\"\\\">http://www.nationalgeographic.com/mobile/apps/national-parks-by-national-geographic</td></tr>\\n<tr><td class=\\\"cell-1\\\" style=\\\"text-align:right;\\\">2</td> <td class=\\\"cell-2\\\" style=\\\"\\\">http://www.nationalgeographic.com/taxes</td></tr>\\n<tr><td class=\\\"cell-1\\\" style=\\\"text-align:right;\\\">2</td> <td class=\\\"cell-2\\\" style=\\\"\\\">http://www.nationalgeographic.com/energizer</td></tr>\\n<tr><td class=\\\"cell-1\\\" style=\\\"text-align:right;\\\">2</td> <td class=\\\"cell-2\\\" style=\\\"\\\">http://www.nationalgeographic.com/%E2%80%A6/dinosaur-nodosaur-foss%E2%80%A6</td></tr>\\n<tr><td class=\\\"cell-1\\\" style=\\\"text-align:right;\\\">2</td> <td class=\\\"cell-2\\\" style=\\\"\\\">http://www.nationalgeographic.com/chiquibul</td></tr>\\n<tr><td class=\\\"cell-1\\\" style=\\\"text-align:right;\\\">2</td> <td class=\\\"cell-2\\\" style=\\\"\\\">http://www.nationalgeographic.com/content/science/en_US/space.html</td></tr>\\n<tr><td class=\\\"cell-1\\\" style=\\\"text-align:right;\\\">2</td> <td class=\\\"cell-2\\\" style=\\\"\\\">http://www.nationalgeographic.com/eregtest/list/1</td></tr>\\n<tr><td class=\\\"cell-1\\\" style=\\\"text-align:right;\\\">2</td> <td class=\\\"cell-2\\\" style=\\\"\\\">http://www.nationalgeographic.com/activity/introduction-to-contour-maps/ar%20a=1</td></tr>\\n<tr><td class=\\\"cell-1\\\" style=\\\"text-align:right;\\\">2</td> <td class=\\\"cell-2\\\" style=\\\"\\\">http://www.nationalgeographic.com/honey/hunters360</td></tr>\\n<tr><td class=\\\"cell-1\\\" style=\\\"text-align:right;\\\">2</td> <td class=\\\"cell-2\\\" style=\\\"\\\">http://www.nationalgeographic.com/hummingbirds</td></tr>\\n<tr><td class=\\\"cell-1\\\" style=\\\"text-align:right;\\\">2</td> <td class=\\\"cell-2\\\" style=\\\"\\\">http://www.nationalgeographic.com/animal-trade</td></tr>\\n    </tbody>\\n\")"
      ]
     },
     "metadata": {},
     "output_type": "display_data"
    },
    {
     "data": {
      "text/html": [
       "<div class=\"dswbOutputText\"><h1 class=\"chart_title\" style=\"color:#ccc\">Top 10000 (min 1) URLs for Unknown</h1><h3 class=\"chart_info\" style=\"color:#ccc\">Note: If you see AEM URL's in this list tell Chris Davis</h3><h3 class=\"chart_info\" style=\"color:#ccc\">August 5, 2017 23:59:00 to August 6, 2017 23:59:00 Local Time</h3></div>"
      ]
     },
     "metadata": {},
     "output_type": "display_data"
    },
    {
     "data": {
      "text/html": [
       "<div class=\"dswbOutputText\"><h1 class=\"chart_title\" style=\"color:#ccc\">Top 10000 (min 1) URLs for (No Page Group)</h1><h3 class=\"chart_info\" style=\"color:#ccc\">Note: If you see AEM URL's in this list tell Chris Davis</h3><h3 class=\"chart_info\" style=\"color:#ccc\">August 5, 2017 23:59:00 to August 6, 2017 23:59:00 Local Time</h3></div>"
      ]
     },
     "metadata": {},
     "output_type": "display_data"
    },
    {
     "data": {
      "text/html": [
       "    <table  class=\"dataframe-table\">\n",
       "    <thead><tr><th class=\"cell-1\" style=\"\">Views</th> <th class=\"cell-2\" style=\"\">Url - (No Page Group)</th></tr></thead>\n",
       "    <tbody>\n",
       "    <tr><td class=\"cell-1\" style=\"text-align:right;\">1,573</td> <td class=\"cell-2\" style=\"\">https://createyourcover.nationalgeographic.com</td></tr>\n",
       "<tr><td class=\"cell-1\" style=\"text-align:right;\">286</td> <td class=\"cell-2\" style=\"\">https://createyourcover.nationalgeographic.com/create</td></tr>\n",
       "<tr><td class=\"cell-1\" style=\"text-align:right;\">6</td> <td class=\"cell-2\" style=\"\">https://www-s.nationalgeographic.com/aem-proxy</td></tr>\n",
       "    \n",
       "    <tr><td class=\"cell-1\" style=\"text-align:right;\">2</td> <td class=\"cell-2\" style=\"\">https://createyourcover.nationalgeographic.com/c/house-ad-campaign</td></tr>\n",
       "<tr><td class=\"cell-1\" style=\"text-align:right;\">2</td> <td class=\"cell-2\" style=\"\">http://channel-beta.nationalgeographic.com/faq/authentication/authentication</td></tr>\n",
       "<tr><td class=\"cell-1\" style=\"text-align:right;\">2</td> <td class=\"cell-2\" style=\"\">http://news.nationalgeographic.com/2017</td></tr>\n",
       "    </tbody>\n"
      ],
      "text/plain": [
       "HTML{UTF8String}(\"    <table  class=\\\"dataframe-table\\\">\\n    <thead><tr><th class=\\\"cell-1\\\" style=\\\"\\\">Views</th> <th class=\\\"cell-2\\\" style=\\\"\\\">Url - (No Page Group)</th></tr></thead>\\n    <tbody>\\n    <tr><td class=\\\"cell-1\\\" style=\\\"text-align:right;\\\">1,573</td> <td class=\\\"cell-2\\\" style=\\\"\\\">https://createyourcover.nationalgeographic.com</td></tr>\\n<tr><td class=\\\"cell-1\\\" style=\\\"text-align:right;\\\">286</td> <td class=\\\"cell-2\\\" style=\\\"\\\">https://createyourcover.nationalgeographic.com/create</td></tr>\\n<tr><td class=\\\"cell-1\\\" style=\\\"text-align:right;\\\">6</td> <td class=\\\"cell-2\\\" style=\\\"\\\">https://www-s.nationalgeographic.com/aem-proxy</td></tr>\\n    \\n    <tr><td class=\\\"cell-1\\\" style=\\\"text-align:right;\\\">2</td> <td class=\\\"cell-2\\\" style=\\\"\\\">https://createyourcover.nationalgeographic.com/c/house-ad-campaign</td></tr>\\n<tr><td class=\\\"cell-1\\\" style=\\\"text-align:right;\\\">2</td> <td class=\\\"cell-2\\\" style=\\\"\\\">http://channel-beta.nationalgeographic.com/faq/authentication/authentication</td></tr>\\n<tr><td class=\\\"cell-1\\\" style=\\\"text-align:right;\\\">2</td> <td class=\\\"cell-2\\\" style=\\\"\\\">http://news.nationalgeographic.com/2017</td></tr>\\n    </tbody>\\n\")"
      ]
     },
     "metadata": {},
     "output_type": "display_data"
    }
   ],
   "source": [
    "displayTitle(chart_title = \"Unclassified\", showTimeStamp=false)\n",
    "\n",
    "firstAndLast(TV,UP,\"Nat Geo Site\";      rowLimit=10000,beaconsLimit=1,paginate=true);\n",
    "firstAndLast(TV,UP,\"Unknown\";           rowLimit=10000,beaconsLimit=1,paginate=true);\n",
    "firstAndLast(TV,UP,\"(No Page Group)\";   rowLimit=10000,beaconsLimit=1,paginate=true);"
   ]
  },
  {
   "cell_type": "code",
   "execution_count": 11,
   "metadata": {
    "collapsed": false,
    "input_collapsed": false,
    "scrolled": false
   },
   "outputs": [
    {
     "data": {
      "text/html": [
       "<div class=\"dswbOutputText\"><h1 class=\"chart_title\" style=\"color:#ccc\">Cheeta</h1></div>"
      ]
     },
     "metadata": {},
     "output_type": "display_data"
    },
    {
     "data": {
      "text/html": [
       "<div class=\"dswbOutputText\"><h1 class=\"chart_title\" style=\"color:#ccc\">Top 10000 (min 5) URLs for Cheeta CMS</h1><h3 class=\"chart_info\" style=\"color:#ccc\">Note: If you see AEM URL's in this list tell Chris Davis</h3><h3 class=\"chart_info\" style=\"color:#ccc\">August 5, 2017 23:59:00 to August 6, 2017 23:59:00 Local Time</h3></div>"
      ]
     },
     "metadata": {},
     "output_type": "display_data"
    },
    {
     "data": {
      "text/html": [
       "    <table  class=\"dataframe-table\">\n",
       "    <thead><tr><th class=\"cell-1\" style=\"\">Views</th> <th class=\"cell-2\" style=\"\">Url - Cheeta CMS</th></tr></thead>\n",
       "    <tbody>\n",
       "    <tr><td class=\"cell-1\" style=\"text-align:right;\">232</td> <td class=\"cell-2\" style=\"\">http://maps.nationalgeographic.com/maps/map-machine</td></tr>\n",
       "<tr><td class=\"cell-1\" style=\"text-align:right;\">46</td> <td class=\"cell-2\" style=\"\">http://maps.nationalgeographic.com/maps/print-collection/world-map-classic.html</td></tr>\n",
       "<tr><td class=\"cell-1\" style=\"text-align:right;\">6</td> <td class=\"cell-2\" style=\"\">http://books.nationalgeographic.com/books</td></tr>\n",
       "    \n",
       "    <tr><td class=\"cell-1\" style=\"text-align:right;\">6</td> <td class=\"cell-2\" style=\"\">http://maps.nationalgeographic.com/maps/atlas/europe-geopolitical.html</td></tr>\n",
       "<tr><td class=\"cell-1\" style=\"text-align:right;\">6</td> <td class=\"cell-2\" style=\"\">http://maps.nationalgeographic.com/maps/atlas/puzzles.html</td></tr>\n",
       "    </tbody>\n"
      ],
      "text/plain": [
       "HTML{UTF8String}(\"    <table  class=\\\"dataframe-table\\\">\\n    <thead><tr><th class=\\\"cell-1\\\" style=\\\"\\\">Views</th> <th class=\\\"cell-2\\\" style=\\\"\\\">Url - Cheeta CMS</th></tr></thead>\\n    <tbody>\\n    <tr><td class=\\\"cell-1\\\" style=\\\"text-align:right;\\\">232</td> <td class=\\\"cell-2\\\" style=\\\"\\\">http://maps.nationalgeographic.com/maps/map-machine</td></tr>\\n<tr><td class=\\\"cell-1\\\" style=\\\"text-align:right;\\\">46</td> <td class=\\\"cell-2\\\" style=\\\"\\\">http://maps.nationalgeographic.com/maps/print-collection/world-map-classic.html</td></tr>\\n<tr><td class=\\\"cell-1\\\" style=\\\"text-align:right;\\\">6</td> <td class=\\\"cell-2\\\" style=\\\"\\\">http://books.nationalgeographic.com/books</td></tr>\\n    \\n    <tr><td class=\\\"cell-1\\\" style=\\\"text-align:right;\\\">6</td> <td class=\\\"cell-2\\\" style=\\\"\\\">http://maps.nationalgeographic.com/maps/atlas/europe-geopolitical.html</td></tr>\\n<tr><td class=\\\"cell-1\\\" style=\\\"text-align:right;\\\">6</td> <td class=\\\"cell-2\\\" style=\\\"\\\">http://maps.nationalgeographic.com/maps/atlas/puzzles.html</td></tr>\\n    </tbody>\\n\")"
      ]
     },
     "metadata": {},
     "output_type": "display_data"
    },
    {
     "data": {
      "text/html": [
       "<div class=\"dswbOutputText\"><h1 class=\"chart_title\" style=\"color:#ccc\">Top 10000 (min 25) URLs for Cheeta NGM</h1><h3 class=\"chart_info\" style=\"color:#ccc\">Note: If you see AEM URL's in this list tell Chris Davis</h3><h3 class=\"chart_info\" style=\"color:#ccc\">August 5, 2017 23:59:00 to August 6, 2017 23:59:00 Local Time</h3></div>"
      ]
     },
     "metadata": {},
     "output_type": "display_data"
    },
    {
     "data": {
      "text/html": [
       "    <table  class=\"dataframe-table\">\n",
       "    <thead><tr><th class=\"cell-1\" style=\"\">Views</th> <th class=\"cell-2\" style=\"\">Url - Cheeta NGM</th></tr></thead>\n",
       "    <tbody>\n",
       "    <tr><td class=\"cell-1\" style=\"text-align:right;\">1,377</td> <td class=\"cell-2\" style=\"\">https://ngmdomsubs.nationalgeographic.com/servlet/Show</td></tr>\n",
       "<tr><td class=\"cell-1\" style=\"text-align:right;\">897</td> <td class=\"cell-2\" style=\"\">https://ngmintlsubs.nationalgeographic.com/servlet/Show</td></tr>\n",
       "<tr><td class=\"cell-1\" style=\"text-align:right;\">129</td> <td class=\"cell-2\" style=\"\">http://ngm.nationalgeographic.com/2008/11/tarahumara-people/gorney-text</td></tr>\n",
       "<tr><td class=\"cell-1\" style=\"text-align:right;\">102</td> <td class=\"cell-2\" style=\"\">http://ngm.nationalgeographic.com/wallpaper/download</td></tr>\n",
       "<tr><td class=\"cell-1\" style=\"text-align:right;\">89</td> <td class=\"cell-2\" style=\"\">http://ngm.nationalgeographic.com/wallpaper</td></tr>\n",
       "<tr><td class=\"cell-1\" style=\"text-align:right;\">81</td> <td class=\"cell-2\" style=\"\">https://ngmdomsubs.nationalgeographic.com/servlet/&MSRSMAG=NG&EFK1=&EFK2=&EFK3=&MSCCMPLX=NGMSEMJ5</td></tr>\n",
       "<tr><td class=\"cell-1\" style=\"text-align:right;\">73</td> <td class=\"cell-2\" style=\"\">http://ngm.nationalgeographic.com/features/world/asia/lebanon/phoenicians-text.html</td></tr>\n",
       "<tr><td class=\"cell-1\" style=\"text-align:right;\">72</td> <td class=\"cell-2\" style=\"\">http://ngm.nationalgeographic.com/2011/06/gobekli-tepe/mann-text</td></tr>\n",
       "<tr><td class=\"cell-1\" style=\"text-align:right;\">72</td> <td class=\"cell-2\" style=\"\">http://ngm.nationalgeographic.com/2014/02/il-duomo/mueller-text</td></tr>\n",
       "<tr><td class=\"cell-1\" style=\"text-align:right;\">63</td> <td class=\"cell-2\" style=\"\">http://ngm.nationalgeographic.com/2015/10/sea-wolves/mcgrath-text</td></tr>\n",
       "<tr><td class=\"cell-1\" style=\"text-align:right;\">57</td> <td class=\"cell-2\" style=\"\">http://ngm.nationalgeographic.com/2008/11/crystal-giants/shea-text</td></tr>\n",
       "<tr><td class=\"cell-1\" style=\"text-align:right;\">50</td> <td class=\"cell-2\" style=\"\">http://ngm.nationalgeographic.com/2013/10/changing-faces/funderburg-text</td></tr>\n",
       "<tr><td class=\"cell-1\" style=\"text-align:right;\">49</td> <td class=\"cell-2\" style=\"\">http://ngm.nationalgeographic.com/2013/10/power-of-photography/draper-text</td></tr>\n",
       "    \n",
       "    <tr><td class=\"cell-1\" style=\"text-align:right;\">49</td> <td class=\"cell-2\" style=\"\">http://ngm.nationalgeographic.com/2014/04/coal/nijhuis-text</td></tr>\n",
       "<tr><td class=\"cell-1\" style=\"text-align:right;\">48</td> <td class=\"cell-2\" style=\"\">https://ngmintlsubs.nationalgeographic.com/wes/servlet/EKMultipleLookupServlet</td></tr>\n",
       "<tr><td class=\"cell-1\" style=\"text-align:right;\">48</td> <td class=\"cell-2\" style=\"\">http://ngm.nationalgeographic.com/2013/03/125-bonobos/quammen-text</td></tr>\n",
       "<tr><td class=\"cell-1\" style=\"text-align:right;\">45</td> <td class=\"cell-2\" style=\"\">https://ngmdomsubs.nationalgeographic.com/wes/servlet/EKMultipleLookupServlet</td></tr>\n",
       "<tr><td class=\"cell-1\" style=\"text-align:right;\">44</td> <td class=\"cell-2\" style=\"\">http://ngm.nationalgeographic.com/2013/06/125-everest-maxed-out/jenkins-text</td></tr>\n",
       "<tr><td class=\"cell-1\" style=\"text-align:right;\">43</td> <td class=\"cell-2\" style=\"\">http://ngm.nationalgeographic.com/2011/10/teenage-brains/dobbs-text</td></tr>\n",
       "<tr><td class=\"cell-1\" style=\"text-align:right;\">42</td> <td class=\"cell-2\" style=\"\">http://ngm.nationalgeographic.com/2015/02/climate-change-economics/florida-coast-map</td></tr>\n",
       "<tr><td class=\"cell-1\" style=\"text-align:right;\">42</td> <td class=\"cell-2\" style=\"\">http://ngm.nationalgeographic.com/2014/08/neolithic-orkney/smith-text</td></tr>\n",
       "<tr><td class=\"cell-1\" style=\"text-align:right;\">40</td> <td class=\"cell-2\" style=\"\">http://ngm.nationalgeographic.com/2008/02/black-pharaohs/robert-draper-text/1</td></tr>\n",
       "<tr><td class=\"cell-1\" style=\"text-align:right;\">40</td> <td class=\"cell-2\" style=\"\">http://ngm.nationalgeographic.com/2011/03/age-of-man/kolbert-text</td></tr>\n",
       "<tr><td class=\"cell-1\" style=\"text-align:right;\">37</td> <td class=\"cell-2\" style=\"\">http://ngm.nationalgeographic.com/2011/07/cleopatra/brown-text</td></tr>\n",
       "<tr><td class=\"cell-1\" style=\"text-align:right;\">37</td> <td class=\"cell-2\" style=\"\">http://ngm.nationalgeographic.com/2009/02/north-korea/oneill-text</td></tr>\n",
       "    </tbody>\n"
      ],
      "text/plain": [
       "HTML{UTF8String}(\"    <table  class=\\\"dataframe-table\\\">\\n    <thead><tr><th class=\\\"cell-1\\\" style=\\\"\\\">Views</th> <th class=\\\"cell-2\\\" style=\\\"\\\">Url - Cheeta NGM</th></tr></thead>\\n    <tbody>\\n    <tr><td class=\\\"cell-1\\\" style=\\\"text-align:right;\\\">1,377</td> <td class=\\\"cell-2\\\" style=\\\"\\\">https://ngmdomsubs.nationalgeographic.com/servlet/Show</td></tr>\\n<tr><td class=\\\"cell-1\\\" style=\\\"text-align:right;\\\">897</td> <td class=\\\"cell-2\\\" style=\\\"\\\">https://ngmintlsubs.nationalgeographic.com/servlet/Show</td></tr>\\n<tr><td class=\\\"cell-1\\\" style=\\\"text-align:right;\\\">129</td> <td class=\\\"cell-2\\\" style=\\\"\\\">http://ngm.nationalgeographic.com/2008/11/tarahumara-people/gorney-text</td></tr>\\n<tr><td class=\\\"cell-1\\\" style=\\\"text-align:right;\\\">102</td> <td class=\\\"cell-2\\\" style=\\\"\\\">http://ngm.nationalgeographic.com/wallpaper/download</td></tr>\\n<tr><td class=\\\"cell-1\\\" style=\\\"text-align:right;\\\">89</td> <td class=\\\"cell-2\\\" style=\\\"\\\">http://ngm.nationalgeographic.com/wallpaper</td></tr>\\n<tr><td class=\\\"cell-1\\\" style=\\\"text-align:right;\\\">81</td> <td class=\\\"cell-2\\\" style=\\\"\\\">https://ngmdomsubs.nationalgeographic.com/servlet/&MSRSMAG=NG&EFK1=&EFK2=&EFK3=&MSCCMPLX=NGMSEMJ5</td></tr>\\n<tr><td class=\\\"cell-1\\\" style=\\\"text-align:right;\\\">73</td> <td class=\\\"cell-2\\\" style=\\\"\\\">http://ngm.nationalgeographic.com/features/world/asia/lebanon/phoenicians-text.html</td></tr>\\n<tr><td class=\\\"cell-1\\\" style=\\\"text-align:right;\\\">72</td> <td class=\\\"cell-2\\\" style=\\\"\\\">http://ngm.nationalgeographic.com/2011/06/gobekli-tepe/mann-text</td></tr>\\n<tr><td class=\\\"cell-1\\\" style=\\\"text-align:right;\\\">72</td> <td class=\\\"cell-2\\\" style=\\\"\\\">http://ngm.nationalgeographic.com/2014/02/il-duomo/mueller-text</td></tr>\\n<tr><td class=\\\"cell-1\\\" style=\\\"text-align:right;\\\">63</td> <td class=\\\"cell-2\\\" style=\\\"\\\">http://ngm.nationalgeographic.com/2015/10/sea-wolves/mcgrath-text</td></tr>\\n<tr><td class=\\\"cell-1\\\" style=\\\"text-align:right;\\\">57</td> <td class=\\\"cell-2\\\" style=\\\"\\\">http://ngm.nationalgeographic.com/2008/11/crystal-giants/shea-text</td></tr>\\n<tr><td class=\\\"cell-1\\\" style=\\\"text-align:right;\\\">50</td> <td class=\\\"cell-2\\\" style=\\\"\\\">http://ngm.nationalgeographic.com/2013/10/changing-faces/funderburg-text</td></tr>\\n<tr><td class=\\\"cell-1\\\" style=\\\"text-align:right;\\\">49</td> <td class=\\\"cell-2\\\" style=\\\"\\\">http://ngm.nationalgeographic.com/2013/10/power-of-photography/draper-text</td></tr>\\n    \\n    <tr><td class=\\\"cell-1\\\" style=\\\"text-align:right;\\\">49</td> <td class=\\\"cell-2\\\" style=\\\"\\\">http://ngm.nationalgeographic.com/2014/04/coal/nijhuis-text</td></tr>\\n<tr><td class=\\\"cell-1\\\" style=\\\"text-align:right;\\\">48</td> <td class=\\\"cell-2\\\" style=\\\"\\\">https://ngmintlsubs.nationalgeographic.com/wes/servlet/EKMultipleLookupServlet</td></tr>\\n<tr><td class=\\\"cell-1\\\" style=\\\"text-align:right;\\\">48</td> <td class=\\\"cell-2\\\" style=\\\"\\\">http://ngm.nationalgeographic.com/2013/03/125-bonobos/quammen-text</td></tr>\\n<tr><td class=\\\"cell-1\\\" style=\\\"text-align:right;\\\">45</td> <td class=\\\"cell-2\\\" style=\\\"\\\">https://ngmdomsubs.nationalgeographic.com/wes/servlet/EKMultipleLookupServlet</td></tr>\\n<tr><td class=\\\"cell-1\\\" style=\\\"text-align:right;\\\">44</td> <td class=\\\"cell-2\\\" style=\\\"\\\">http://ngm.nationalgeographic.com/2013/06/125-everest-maxed-out/jenkins-text</td></tr>\\n<tr><td class=\\\"cell-1\\\" style=\\\"text-align:right;\\\">43</td> <td class=\\\"cell-2\\\" style=\\\"\\\">http://ngm.nationalgeographic.com/2011/10/teenage-brains/dobbs-text</td></tr>\\n<tr><td class=\\\"cell-1\\\" style=\\\"text-align:right;\\\">42</td> <td class=\\\"cell-2\\\" style=\\\"\\\">http://ngm.nationalgeographic.com/2015/02/climate-change-economics/florida-coast-map</td></tr>\\n<tr><td class=\\\"cell-1\\\" style=\\\"text-align:right;\\\">42</td> <td class=\\\"cell-2\\\" style=\\\"\\\">http://ngm.nationalgeographic.com/2014/08/neolithic-orkney/smith-text</td></tr>\\n<tr><td class=\\\"cell-1\\\" style=\\\"text-align:right;\\\">40</td> <td class=\\\"cell-2\\\" style=\\\"\\\">http://ngm.nationalgeographic.com/2008/02/black-pharaohs/robert-draper-text/1</td></tr>\\n<tr><td class=\\\"cell-1\\\" style=\\\"text-align:right;\\\">40</td> <td class=\\\"cell-2\\\" style=\\\"\\\">http://ngm.nationalgeographic.com/2011/03/age-of-man/kolbert-text</td></tr>\\n<tr><td class=\\\"cell-1\\\" style=\\\"text-align:right;\\\">37</td> <td class=\\\"cell-2\\\" style=\\\"\\\">http://ngm.nationalgeographic.com/2011/07/cleopatra/brown-text</td></tr>\\n<tr><td class=\\\"cell-1\\\" style=\\\"text-align:right;\\\">37</td> <td class=\\\"cell-2\\\" style=\\\"\\\">http://ngm.nationalgeographic.com/2009/02/north-korea/oneill-text</td></tr>\\n    </tbody>\\n\")"
      ]
     },
     "metadata": {},
     "output_type": "display_data"
    },
    {
     "data": {
      "text/html": [
       "    <table  class=\"dataframe-table\">\n",
       "    <thead><tr><th class=\"cell-1\" style=\"\">Views</th> <th class=\"cell-2\" style=\"\">Url - Cheeta NGM</th></tr></thead>\n",
       "    <tbody>\n",
       "    <tr><td class=\"cell-1\" style=\"text-align:right;\">36</td> <td class=\"cell-2\" style=\"\">http://ngm.nationalgeographic.com/2015/04/pine-beetles/rosner-text</td></tr>\n",
       "<tr><td class=\"cell-1\" style=\"text-align:right;\">36</td> <td class=\"cell-2\" style=\"\">http://ngm.nationalgeographic.com/2011/03/age-of-man/map-interactive</td></tr>\n",
       "<tr><td class=\"cell-1\" style=\"text-align:right;\">32</td> <td class=\"cell-2\" style=\"\">http://ngm.nationalgeographic.com/big-idea/07/mars</td></tr>\n",
       "<tr><td class=\"cell-1\" style=\"text-align:right;\">31</td> <td class=\"cell-2\" style=\"\">http://ngm.nationalgeographic.com/2011/01/cahokia/hodges-text</td></tr>\n",
       "<tr><td class=\"cell-1\" style=\"text-align:right;\">30</td> <td class=\"cell-2\" style=\"\">http://ngm.nationalgeographic.com/2015/03/science-doubters/achenbach-text</td></tr>\n",
       "<tr><td class=\"cell-1\" style=\"text-align:right;\">30</td> <td class=\"cell-2\" style=\"\">http://ngm.nationalgeographic.com/2013/06/125-everest-maxed-out/everest-photography</td></tr>\n",
       "<tr><td class=\"cell-1\" style=\"text-align:right;\">30</td> <td class=\"cell-2\" style=\"\">http://ngm.nationalgeographic.com/2011/12/king-james-bible/nicolson-text</td></tr>\n",
       "    \n",
       "    <tr><td class=\"cell-1\" style=\"text-align:right;\">30</td> <td class=\"cell-2\" style=\"\">http://ngm.nationalgeographic.com/2013/10/changing-faces/schoeller-photography</td></tr>\n",
       "<tr><td class=\"cell-1\" style=\"text-align:right;\">29</td> <td class=\"cell-2\" style=\"\">http://ngm.nationalgeographic.com/2010/02/cubic-foot/liittschwager-photography</td></tr>\n",
       "<tr><td class=\"cell-1\" style=\"text-align:right;\">28</td> <td class=\"cell-2\" style=\"\">http://ngm.nationalgeographic.com/2012/11/vikings-and-indians/pringle-text</td></tr>\n",
       "<tr><td class=\"cell-1\" style=\"text-align:right;\">27</td> <td class=\"cell-2\" style=\"\">http://ngm.nationalgeographic.com/2011/11/iceman-autopsy/hall-text</td></tr>\n",
       "<tr><td class=\"cell-1\" style=\"text-align:right;\">26</td> <td class=\"cell-2\" style=\"\">http://ngm.nationalgeographic.com/2014/05/shipbreakers/gwin-text</td></tr>\n",
       "<tr><td class=\"cell-1\" style=\"text-align:right;\">26</td> <td class=\"cell-2\" style=\"\">http://ngm.nationalgeographic.com/2007/07/iceman/hall-text</td></tr>\n",
       "<tr><td class=\"cell-1\" style=\"text-align:right;\">26</td> <td class=\"cell-2\" style=\"\">http://ngm.nationalgeographic.com/2011/06/child-brides/gorney-text</td></tr>\n",
       "    </tbody>\n"
      ],
      "text/plain": [
       "HTML{UTF8String}(\"    <table  class=\\\"dataframe-table\\\">\\n    <thead><tr><th class=\\\"cell-1\\\" style=\\\"\\\">Views</th> <th class=\\\"cell-2\\\" style=\\\"\\\">Url - Cheeta NGM</th></tr></thead>\\n    <tbody>\\n    <tr><td class=\\\"cell-1\\\" style=\\\"text-align:right;\\\">36</td> <td class=\\\"cell-2\\\" style=\\\"\\\">http://ngm.nationalgeographic.com/2015/04/pine-beetles/rosner-text</td></tr>\\n<tr><td class=\\\"cell-1\\\" style=\\\"text-align:right;\\\">36</td> <td class=\\\"cell-2\\\" style=\\\"\\\">http://ngm.nationalgeographic.com/2011/03/age-of-man/map-interactive</td></tr>\\n<tr><td class=\\\"cell-1\\\" style=\\\"text-align:right;\\\">32</td> <td class=\\\"cell-2\\\" style=\\\"\\\">http://ngm.nationalgeographic.com/big-idea/07/mars</td></tr>\\n<tr><td class=\\\"cell-1\\\" style=\\\"text-align:right;\\\">31</td> <td class=\\\"cell-2\\\" style=\\\"\\\">http://ngm.nationalgeographic.com/2011/01/cahokia/hodges-text</td></tr>\\n<tr><td class=\\\"cell-1\\\" style=\\\"text-align:right;\\\">30</td> <td class=\\\"cell-2\\\" style=\\\"\\\">http://ngm.nationalgeographic.com/2015/03/science-doubters/achenbach-text</td></tr>\\n<tr><td class=\\\"cell-1\\\" style=\\\"text-align:right;\\\">30</td> <td class=\\\"cell-2\\\" style=\\\"\\\">http://ngm.nationalgeographic.com/2013/06/125-everest-maxed-out/everest-photography</td></tr>\\n<tr><td class=\\\"cell-1\\\" style=\\\"text-align:right;\\\">30</td> <td class=\\\"cell-2\\\" style=\\\"\\\">http://ngm.nationalgeographic.com/2011/12/king-james-bible/nicolson-text</td></tr>\\n    \\n    <tr><td class=\\\"cell-1\\\" style=\\\"text-align:right;\\\">30</td> <td class=\\\"cell-2\\\" style=\\\"\\\">http://ngm.nationalgeographic.com/2013/10/changing-faces/schoeller-photography</td></tr>\\n<tr><td class=\\\"cell-1\\\" style=\\\"text-align:right;\\\">29</td> <td class=\\\"cell-2\\\" style=\\\"\\\">http://ngm.nationalgeographic.com/2010/02/cubic-foot/liittschwager-photography</td></tr>\\n<tr><td class=\\\"cell-1\\\" style=\\\"text-align:right;\\\">28</td> <td class=\\\"cell-2\\\" style=\\\"\\\">http://ngm.nationalgeographic.com/2012/11/vikings-and-indians/pringle-text</td></tr>\\n<tr><td class=\\\"cell-1\\\" style=\\\"text-align:right;\\\">27</td> <td class=\\\"cell-2\\\" style=\\\"\\\">http://ngm.nationalgeographic.com/2011/11/iceman-autopsy/hall-text</td></tr>\\n<tr><td class=\\\"cell-1\\\" style=\\\"text-align:right;\\\">26</td> <td class=\\\"cell-2\\\" style=\\\"\\\">http://ngm.nationalgeographic.com/2014/05/shipbreakers/gwin-text</td></tr>\\n<tr><td class=\\\"cell-1\\\" style=\\\"text-align:right;\\\">26</td> <td class=\\\"cell-2\\\" style=\\\"\\\">http://ngm.nationalgeographic.com/2007/07/iceman/hall-text</td></tr>\\n<tr><td class=\\\"cell-1\\\" style=\\\"text-align:right;\\\">26</td> <td class=\\\"cell-2\\\" style=\\\"\\\">http://ngm.nationalgeographic.com/2011/06/child-brides/gorney-text</td></tr>\\n    </tbody>\\n\")"
      ]
     },
     "metadata": {},
     "output_type": "display_data"
    }
   ],
   "source": [
    "displayTitle(chart_title = \"Cheeta\", showTimeStamp=false)\n",
    "firstAndLast(TV,UP,\"Cheeta CMS\";        rowLimit=10000,beaconsLimit=5,paginate=true);\n",
    "firstAndLast(TV,UP,\"Cheeta NGM\";        rowLimit=10000,beaconsLimit=25,paginate=true);"
   ]
  },
  {
   "cell_type": "code",
   "execution_count": 12,
   "metadata": {
    "collapsed": true,
    "input_collapsed": true
   },
   "outputs": [],
   "source": []
  }
 ],
 "metadata": {
  "chart_version": "1.0.0",
  "kernelspec": {
   "display_name": "Julia 0.4.7",
   "language": "julia",
   "name": "julia-0.4"
  },
  "language_info": {
   "file_extension": ".jl",
   "mimetype": "application/julia",
   "name": "julia",
   "version": "0.4.7"
  },
  "library_version": "1.0.0",
  "notebook_uuid": "101b03d2-81d5-4189-bf7b-847c3089ca0c",
  "readOnly": false
 },
 "nbformat": 4,
 "nbformat_minor": 0
}
