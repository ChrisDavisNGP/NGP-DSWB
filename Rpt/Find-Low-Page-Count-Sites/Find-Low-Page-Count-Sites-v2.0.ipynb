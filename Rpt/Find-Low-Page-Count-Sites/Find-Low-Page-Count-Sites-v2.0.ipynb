{
 "cells": [
  {
   "cell_type": "markdown",
   "metadata": {},
   "source": [
    "## Tables and Data Source setup"
   ]
  },
  {
   "cell_type": "code",
   "execution_count": 1,
   "metadata": {
    "collapsed": false,
    "input_collapsed": false,
    "scrolled": true
   },
   "outputs": [
    {
     "name": "stdout",
     "output_type": "stream",
     "text": [
      "Redshift endpoint set: 2017-11-20T16:24:24\n"
     ]
    },
    {
     "data": {
      "text/plain": [
       "\"beacons_4744\""
      ]
     },
     "execution_count": 1,
     "metadata": {},
     "output_type": "execute_result"
    }
   ],
   "source": [
    "using ODBC\n",
    "using DataFrames\n",
    "using DSWB\n",
    "using Formatting\n",
    "\n",
    "dsn = \"dswb-natgeo\" # Redshift endpoint\n",
    "table = \"beacons_4744\" # beacon table name\n",
    "tableRt = \"beacons_4744_rt\"\n",
    "\n",
    "# Connect to Beacon Data\n",
    "setRedshiftEndpoint(dsn)\n",
    "setTable(table)\n",
    "# setTable(tableRt, tableType = \"RESOURCE_TABLE\")"
   ]
  },
  {
   "cell_type": "code",
   "execution_count": 15,
   "metadata": {
    "collapsed": false,
    "input_collapsed": false
   },
   "outputs": [],
   "source": [
    "# Time & Structures First\n",
    "include(\"../../Lib/Include-Package-v2.1.jl\")\n",
    "include(\"Find-Top-WPF-Pages-Body-v2.0.jl\")\n",
    ";"
   ]
  },
  {
   "cell_type": "code",
   "execution_count": 13,
   "metadata": {
    "collapsed": false,
    "input_collapsed": false
   },
   "outputs": [
    {
     "name": "stdout",
     "output_type": "stream",
     "text": [
      "November 18, 2017 23:59:00 to November 19, 2017 23:59:00 Local Time\n",
      "November 19, 2017 04:59:00 to November 20, 2017 04:59:00 UTC Time\n"
     ]
    }
   ],
   "source": [
    "TV = weeklyTimeVariables(days=1)\n",
    "#TV = timeVariables(2017,6,8,10,59,2017,6,8,12,59)\n",
    "#TV = yesterdayTimeVariables()\n",
    ";"
   ]
  },
  {
   "cell_type": "code",
   "execution_count": 4,
   "metadata": {
    "collapsed": true,
    "input_collapsed": false
   },
   "outputs": [],
   "source": [
    "UP = UrlParamsInit()\n",
    "UP.agentOs = \"%\"\n",
    "UP.beaconTable = table\n",
    "UP.btView = \"$(table)_wpf_pview_prod\" #localtable\n",
    "UP.deviceType = \"%\"\n",
    "UP.limitRows = 250\n",
    "UP.orderBy = \"time\"\n",
    "UP.pageGroup = \"%\"   #productPageGroup\n",
    "UP.resourceTable = tableRt\n",
    "UP.rtView = \"$(tableRt)_wpf_pview_prod\" #localtableRt\n",
    "UP.samplesMin = 10\n",
    "UP.sizeMin = 10000\n",
    "UP.timeLowerMs = 2000.0\n",
    "UP.timeUpperMs = 60000.0\n",
    "UP.urlRegEx = \"%\"   #localUrl\n",
    "UP.urlFull = \"%\"\n",
    "UP.usePageLoad=false\n",
    "\n",
    "SP = ShowParamsInit()\n",
    "SP.criticalPathOnly=true\n",
    "SP.desktop=true\n",
    "SP.devView=false\n",
    "SP.debug=false\n",
    "SP.debugLevel = 0   # Tests use even numbers with > tests, make this an odd number or zero\n",
    "SP.mobile=true\n",
    "\n",
    ";"
   ]
  },
  {
   "cell_type": "code",
   "execution_count": 5,
   "metadata": {
    "collapsed": false,
    "input_collapsed": false
   },
   "outputs": [
    {
     "data": {
      "text/plain": [
       "wpfLimitedTable (generic function with 1 method)"
      ]
     },
     "execution_count": 5,
     "metadata": {},
     "output_type": "execute_result"
    }
   ],
   "source": [
    "function wpfLimitedTable(localTable::ASCIIString,table::ASCIIString,productPageGroup::ASCIIString,startTimeMs::Int64, endTimeMs::Int64)\n",
    "    try\n",
    "        query(\"\"\"\\\n",
    "            drop view if exists $localTable\n",
    "        \"\"\")\n",
    "        \n",
    "        query(\"\"\"\\\n",
    "            create or replace view $localTable as \n",
    "                (select * from $table where\n",
    "                    beacon_type = 'page view'\n",
    "                    and \"timestamp\" between $startTimeMs and $endTimeMs\n",
    "                    and page_group = '$(productPageGroup)'\n",
    "                )\n",
    "        \"\"\")\n",
    "\n",
    "    catch y\n",
    "        println(\"unLimitedTable Exception\",y)\n",
    "    end\n",
    "end\n",
    "\n"
   ]
  },
  {
   "cell_type": "code",
   "execution_count": 6,
   "metadata": {
    "collapsed": false,
    "input_collapsed": false
   },
   "outputs": [],
   "source": [
    "#include(\"/data/notebook_home/Production/Bodies/Find-Top-WPF-Pages-Body-v1.0.jl\")\n",
    "#firstAndLast(UP.btView,\"Errors\";            rowLimit=10000,beaconsLimit=0,paginate=true);"
   ]
  },
  {
   "cell_type": "code",
   "execution_count": 16,
   "metadata": {
    "collapsed": false,
    "input_collapsed": false,
    "scrolled": false
   },
   "outputs": [
    {
     "data": {
      "text/html": [
       "<div class=\"dswbOutputText\"><h1 class=\"chart_title\" style=\"color:#ccc\">Channel</h1></div>"
      ]
     },
     "metadata": {},
     "output_type": "display_data"
    },
    {
     "data": {
      "text/html": [
       "<div class=\"dswbOutputText\"><h1 class=\"chart_title\" style=\"color:#ccc\">Top 10000 (min 0) URLs for Channel Microsite</h1><h3 class=\"chart_info\" style=\"color:#ccc\">Note: If you see AEM URL's in this list tell Chris Davis</h3><h3 class=\"chart_info\" style=\"color:#ccc\">November 18, 2017 23:59:00 to November 19, 2017 23:59:00 Local Time</h3></div>"
      ]
     },
     "metadata": {},
     "output_type": "display_data"
    },
    {
     "data": {
      "text/html": [
       "    <table  class=\"dataframe-table\">\n",
       "    <thead><tr><th class=\"cell-1\" style=\"\">Views</th> <th class=\"cell-2\" style=\"\">Url - Channel Microsite</th></tr></thead>\n",
       "    <tbody>\n",
       "    <tr><td class=\"cell-1\" style=\"text-align:right;\">1</td> <td class=\"cell-2\" style=\"\">https://www.nationalgeographic.com/jane-the-movie</td></tr>\n",
       "    \n",
       "    <tr><td class=\"cell-1\" style=\"text-align:right;\">1</td> <td class=\"cell-2\" style=\"\">https://createyourcover.nationalgeographic.com/create</td></tr>\n",
       "    </tbody>\n"
      ],
      "text/plain": [
       "HTML{UTF8String}(\"    <table  class=\\\"dataframe-table\\\">\\n    <thead><tr><th class=\\\"cell-1\\\" style=\\\"\\\">Views</th> <th class=\\\"cell-2\\\" style=\\\"\\\">Url - Channel Microsite</th></tr></thead>\\n    <tbody>\\n    <tr><td class=\\\"cell-1\\\" style=\\\"text-align:right;\\\">1</td> <td class=\\\"cell-2\\\" style=\\\"\\\">https://www.nationalgeographic.com/jane-the-movie</td></tr>\\n    \\n    <tr><td class=\\\"cell-1\\\" style=\\\"text-align:right;\\\">1</td> <td class=\\\"cell-2\\\" style=\\\"\\\">https://createyourcover.nationalgeographic.com/create</td></tr>\\n    </tbody>\\n\")"
      ]
     },
     "metadata": {},
     "output_type": "display_data"
    },
    {
     "data": {
      "text/html": [
       "<div class=\"dswbOutputText\"><h1 class=\"chart_title\" style=\"color:#ccc\">Top 10000 (min 0) URLs for Channel Legacy - No Page Views</h1></div>"
      ]
     },
     "metadata": {},
     "output_type": "display_data"
    }
   ],
   "source": [
    "displayTitle(chart_title = \"Channel\", showTimeStamp=false)\n",
    "firstAndLast(TV,UP,\"Channel Microsite\";rowLimit=10000,beaconsLimit=0,paginate=true);\n",
    "firstAndLast(TV,UP,\"Channel Legacy\";   rowLimit=10000,beaconsLimit=0,paginate=true);"
   ]
  },
  {
   "cell_type": "code",
   "execution_count": 17,
   "metadata": {
    "collapsed": false,
    "input_collapsed": false,
    "scrolled": false
   },
   "outputs": [
    {
     "data": {
      "text/html": [
       "<div class=\"dswbOutputText\"><h1 class=\"chart_title\" style=\"color:#ccc\">Small Groups</h1></div>"
      ]
     },
     "metadata": {},
     "output_type": "display_data"
    },
    {
     "data": {
      "text/html": [
       "<div class=\"dswbOutputText\"><h1 class=\"chart_title\" style=\"color:#ccc\">Top 10000 (min 10) URLs for Education - No Page Views</h1></div>"
      ]
     },
     "metadata": {},
     "output_type": "display_data"
    },
    {
     "data": {
      "text/html": [
       "<div class=\"dswbOutputText\"><h1 class=\"chart_title\" style=\"color:#ccc\">Top 10000 (min 0) URLs for Errors - No Page Views</h1></div>"
      ]
     },
     "metadata": {},
     "output_type": "display_data"
    },
    {
     "data": {
      "text/html": [
       "<div class=\"dswbOutputText\"><h1 class=\"chart_title\" style=\"color:#ccc\">Top 10000 (min 0) URLs for Expedition Granted - No Page Views</h1></div>"
      ]
     },
     "metadata": {},
     "output_type": "display_data"
    },
    {
     "data": {
      "text/html": [
       "<div class=\"dswbOutputText\"><h1 class=\"chart_title\" style=\"color:#ccc\">Top 10000 (min 0) URLs for Kids MyShot - No Page Views</h1></div>"
      ]
     },
     "metadata": {},
     "output_type": "display_data"
    },
    {
     "data": {
      "text/html": [
       "<div class=\"dswbOutputText\"><h1 class=\"chart_title\" style=\"color:#ccc\">Top 10000 (min 0) URLs for Index PHP - No Page Views</h1></div>"
      ]
     },
     "metadata": {},
     "output_type": "display_data"
    },
    {
     "data": {
      "text/html": [
       "<div class=\"dswbOutputText\"><h1 class=\"chart_title\" style=\"color:#ccc\">Top 10000 (min 0) URLs for News EC2 - No Page Views</h1></div>"
      ]
     },
     "metadata": {},
     "output_type": "display_data"
    },
    {
     "data": {
      "text/html": [
       "<div class=\"dswbOutputText\"><h1 class=\"chart_title\" style=\"color:#ccc\">Top 10000 (min 0) URLs for Radio - No Page Views</h1></div>"
      ]
     },
     "metadata": {},
     "output_type": "display_data"
    },
    {
     "data": {
      "text/html": [
       "<div class=\"dswbOutputText\"><h1 class=\"chart_title\" style=\"color:#ccc\">Top 10000 (min 0) URLs for Sponsored</h1><h3 class=\"chart_info\" style=\"color:#ccc\">Note: If you see AEM URL's in this list tell Chris Davis</h3><h3 class=\"chart_info\" style=\"color:#ccc\">November 18, 2017 23:59:00 to November 19, 2017 23:59:00 Local Time</h3></div>"
      ]
     },
     "metadata": {},
     "output_type": "display_data"
    },
    {
     "data": {
      "text/html": [
       "    <table  class=\"dataframe-table\">\n",
       "    <thead><tr><th class=\"cell-1\" style=\"\">Views</th> <th class=\"cell-2\" style=\"\">Url - Sponsored</th></tr></thead>\n",
       "    <tbody>\n",
       "    <tr><td class=\"cell-1\" style=\"text-align:right;\">2</td> <td class=\"cell-2\" style=\"\">https://www.nationalgeographic.com/voteyourmainstreet</td></tr>\n",
       "    \n",
       "    <tr><td class=\"cell-1\" style=\"text-align:right;\">1</td> <td class=\"cell-2\" style=\"\">http://www.nationalgeographic.com/voteyourmainstreet</td></tr>\n",
       "    </tbody>\n"
      ],
      "text/plain": [
       "HTML{UTF8String}(\"    <table  class=\\\"dataframe-table\\\">\\n    <thead><tr><th class=\\\"cell-1\\\" style=\\\"\\\">Views</th> <th class=\\\"cell-2\\\" style=\\\"\\\">Url - Sponsored</th></tr></thead>\\n    <tbody>\\n    <tr><td class=\\\"cell-1\\\" style=\\\"text-align:right;\\\">2</td> <td class=\\\"cell-2\\\" style=\\\"\\\">https://www.nationalgeographic.com/voteyourmainstreet</td></tr>\\n    \\n    <tr><td class=\\\"cell-1\\\" style=\\\"text-align:right;\\\">1</td> <td class=\\\"cell-2\\\" style=\\\"\\\">http://www.nationalgeographic.com/voteyourmainstreet</td></tr>\\n    </tbody>\\n\")"
      ]
     },
     "metadata": {},
     "output_type": "display_data"
    },
    {
     "data": {
      "text/html": [
       "<div class=\"dswbOutputText\"><h1 class=\"chart_title\" style=\"color:#ccc\">Top 10000 (min 10) URLs for Tickets - No Page Views</h1></div>"
      ]
     },
     "metadata": {},
     "output_type": "display_data"
    },
    {
     "data": {
      "text/html": [
       "<div class=\"dswbOutputText\"><h1 class=\"chart_title\" style=\"color:#ccc\">Top 10000 (min 0) URLs for Travel Subs</h1><h3 class=\"chart_info\" style=\"color:#ccc\">Note: If you see AEM URL's in this list tell Chris Davis</h3><h3 class=\"chart_info\" style=\"color:#ccc\">November 18, 2017 23:59:00 to November 19, 2017 23:59:00 Local Time</h3></div>"
      ]
     },
     "metadata": {},
     "output_type": "display_data"
    },
    {
     "data": {
      "text/html": [
       "<div class=\"dswbOutputText\"><h1 class=\"chart_title\" style=\"color:#ccc\">Top 10000 (min 0) URLs for Video AMP - No Page Views</h1></div>"
      ]
     },
     "metadata": {},
     "output_type": "display_data"
    }
   ],
   "source": [
    "displayTitle(chart_title = \"Small Groups\", showTimeStamp=false)\n",
    "\n",
    "firstAndLast(TV,UP,\"Education\";         rowLimit=10000,beaconsLimit=10,paginate=true);\n",
    "firstAndLast(TV,UP,\"Errors\";            rowLimit=10000,beaconsLimit=0,paginate=true);\n",
    "firstAndLast(TV,UP,\"Expedition Granted\";rowLimit=10000,beaconsLimit=0,paginate=true);\n",
    "firstAndLast(TV,UP,\"Kids MyShot\";       rowLimit=10000,beaconsLimit=0,paginate=true);\n",
    "firstAndLast(TV,UP,\"Index PHP\";         rowLimit=10000,beaconsLimit=0,paginate=true);\n",
    "firstAndLast(TV,UP,\"News EC2\";          rowLimit=10000,beaconsLimit=0,paginate=true);\n",
    "firstAndLast(TV,UP,\"Radio\";             rowLimit=10000,beaconsLimit=0,paginate=true);\n",
    "firstAndLast(TV,UP,\"Sponsored\";         rowLimit=10000,beaconsLimit=0,paginate=true);\n",
    "firstAndLast(TV,UP,\"Tickets\";           rowLimit=10000,beaconsLimit=10,paginate=true);\n",
    "firstAndLast(TV,UP,\"Travel Subs\";       rowLimit=10000,beaconsLimit=0,paginate=true);\n",
    "firstAndLast(TV,UP,\"Video AMP\";         rowLimit=10000,beaconsLimit=0,paginate=true);\n"
   ]
  },
  {
   "cell_type": "code",
   "execution_count": 18,
   "metadata": {
    "collapsed": false,
    "input_collapsed": false,
    "scrolled": false
   },
   "outputs": [
    {
     "data": {
      "text/html": [
       "<div class=\"dswbOutputText\"><h1 class=\"chart_title\" style=\"color:#ccc\">Medium Groups</h1></div>"
      ]
     },
     "metadata": {},
     "output_type": "display_data"
    },
    {
     "data": {
      "text/html": [
       "<div class=\"dswbOutputText\"><h1 class=\"chart_title\" style=\"color:#ccc\">Top 10000 (min 50) URLs for Help</h1><h3 class=\"chart_info\" style=\"color:#ccc\">Note: If you see AEM URL's in this list tell Chris Davis</h3><h3 class=\"chart_info\" style=\"color:#ccc\">November 18, 2017 23:59:00 to November 19, 2017 23:59:00 Local Time</h3></div>"
      ]
     },
     "metadata": {},
     "output_type": "display_data"
    },
    {
     "data": {
      "text/html": [
       "<div class=\"dswbOutputText\"><h1 class=\"chart_title\" style=\"color:#ccc\">Top 10000 (min 20) URLs for Travel WP</h1><h3 class=\"chart_info\" style=\"color:#ccc\">Note: If you see AEM URL's in this list tell Chris Davis</h3><h3 class=\"chart_info\" style=\"color:#ccc\">November 18, 2017 23:59:00 to November 19, 2017 23:59:00 Local Time</h3></div>"
      ]
     },
     "metadata": {},
     "output_type": "display_data"
    }
   ],
   "source": [
    "displayTitle(chart_title = \"Medium Groups\", showTimeStamp=false)\n",
    "\n",
    "firstAndLast(TV,UP,\"Help\";              rowLimit=10000,beaconsLimit=50,paginate=true);\n",
    "firstAndLast(TV,UP,\"Travel WP\";         rowLimit=10000,beaconsLimit=20,paginate=true);\n"
   ]
  },
  {
   "cell_type": "code",
   "execution_count": 19,
   "metadata": {
    "collapsed": false,
    "input_collapsed": false,
    "scrolled": false
   },
   "outputs": [
    {
     "data": {
      "text/html": [
       "<div class=\"dswbOutputText\"><h1 class=\"chart_title\" style=\"color:#ccc\">Unclassified</h1></div>"
      ]
     },
     "metadata": {},
     "output_type": "display_data"
    },
    {
     "data": {
      "text/html": [
       "<div class=\"dswbOutputText\"><h1 class=\"chart_title\" style=\"color:#ccc\">Top 10000 (min 10) URLs for Nat Geo Site</h1><h3 class=\"chart_info\" style=\"color:#ccc\">Note: If you see AEM URL's in this list tell Chris Davis</h3><h3 class=\"chart_info\" style=\"color:#ccc\">November 18, 2017 23:59:00 to November 19, 2017 23:59:00 Local Time</h3></div>"
      ]
     },
     "metadata": {},
     "output_type": "display_data"
    },
    {
     "data": {
      "text/html": [
       "    <table  class=\"dataframe-table\">\n",
       "    <thead><tr><th class=\"cell-1\" style=\"\">Views</th> <th class=\"cell-2\" style=\"\">Url - Nat Geo Site</th></tr></thead>\n",
       "    <tbody>\n",
       "    <tr><td class=\"cell-1\" style=\"text-align:right;\">2,304</td> <td class=\"cell-2\" style=\"\">https://www.nationalgeographic.com/seo.jpg</td></tr>\n",
       "<tr><td class=\"cell-1\" style=\"text-align:right;\">264</td> <td class=\"cell-2\" style=\"\">https://www.nationalgeographic.com/content/dam/video/rights-exempt/safari-live/Mara_JamesHendry%252520(4)%252520crop.jpg</td></tr>\n",
       "<tr><td class=\"cell-1\" style=\"text-align:right;\">67</td> <td class=\"cell-2\" style=\"\">https://www.nationalgeographic.com</td></tr>\n",
       "<tr><td class=\"cell-1\" style=\"text-align:right;\">41</td> <td class=\"cell-2\" style=\"\">https://www.nationalgeographic.com/uk</td></tr>\n",
       "    \n",
       "    <tr><td class=\"cell-1\" style=\"text-align:right;\">29</td> <td class=\"cell-2\" style=\"\">https://www.nationalgeographic.com/family/easy-science-experiments-for-kids-to-try</td></tr>\n",
       "<tr><td class=\"cell-1\" style=\"text-align:right;\">13</td> <td class=\"cell-2\" style=\"\">https://www.nationalgeographic.com/content/photography/objects/collections/bride-groom-wedding-archival-photos</td></tr>\n",
       "<tr><td class=\"cell-1\" style=\"text-align:right;\">12</td> <td class=\"cell-2\" style=\"\">https://www.nationalgeographic.com/photo-of-the-day</td></tr>\n",
       "    </tbody>\n"
      ],
      "text/plain": [
       "HTML{UTF8String}(\"    <table  class=\\\"dataframe-table\\\">\\n    <thead><tr><th class=\\\"cell-1\\\" style=\\\"\\\">Views</th> <th class=\\\"cell-2\\\" style=\\\"\\\">Url - Nat Geo Site</th></tr></thead>\\n    <tbody>\\n    <tr><td class=\\\"cell-1\\\" style=\\\"text-align:right;\\\">2,304</td> <td class=\\\"cell-2\\\" style=\\\"\\\">https://www.nationalgeographic.com/seo.jpg</td></tr>\\n<tr><td class=\\\"cell-1\\\" style=\\\"text-align:right;\\\">264</td> <td class=\\\"cell-2\\\" style=\\\"\\\">https://www.nationalgeographic.com/content/dam/video/rights-exempt/safari-live/Mara_JamesHendry%252520(4)%252520crop.jpg</td></tr>\\n<tr><td class=\\\"cell-1\\\" style=\\\"text-align:right;\\\">67</td> <td class=\\\"cell-2\\\" style=\\\"\\\">https://www.nationalgeographic.com</td></tr>\\n<tr><td class=\\\"cell-1\\\" style=\\\"text-align:right;\\\">41</td> <td class=\\\"cell-2\\\" style=\\\"\\\">https://www.nationalgeographic.com/uk</td></tr>\\n    \\n    <tr><td class=\\\"cell-1\\\" style=\\\"text-align:right;\\\">29</td> <td class=\\\"cell-2\\\" style=\\\"\\\">https://www.nationalgeographic.com/family/easy-science-experiments-for-kids-to-try</td></tr>\\n<tr><td class=\\\"cell-1\\\" style=\\\"text-align:right;\\\">13</td> <td class=\\\"cell-2\\\" style=\\\"\\\">https://www.nationalgeographic.com/content/photography/objects/collections/bride-groom-wedding-archival-photos</td></tr>\\n<tr><td class=\\\"cell-1\\\" style=\\\"text-align:right;\\\">12</td> <td class=\\\"cell-2\\\" style=\\\"\\\">https://www.nationalgeographic.com/photo-of-the-day</td></tr>\\n    </tbody>\\n\")"
      ]
     },
     "metadata": {},
     "output_type": "display_data"
    },
    {
     "data": {
      "text/html": [
       "<div class=\"dswbOutputText\"><h1 class=\"chart_title\" style=\"color:#ccc\">Top 10000 (min 1) URLs for Unknown</h1><h3 class=\"chart_info\" style=\"color:#ccc\">Note: If you see AEM URL's in this list tell Chris Davis</h3><h3 class=\"chart_info\" style=\"color:#ccc\">November 18, 2017 23:59:00 to November 19, 2017 23:59:00 Local Time</h3></div>"
      ]
     },
     "metadata": {},
     "output_type": "display_data"
    },
    {
     "data": {
      "text/html": [
       "<div class=\"dswbOutputText\"><h1 class=\"chart_title\" style=\"color:#ccc\">Top 10000 (min 1) URLs for (No Page Group)</h1><h3 class=\"chart_info\" style=\"color:#ccc\">Note: If you see AEM URL's in this list tell Chris Davis</h3><h3 class=\"chart_info\" style=\"color:#ccc\">November 18, 2017 23:59:00 to November 19, 2017 23:59:00 Local Time</h3></div>"
      ]
     },
     "metadata": {},
     "output_type": "display_data"
    },
    {
     "data": {
      "text/html": [
       "    <table  class=\"dataframe-table\">\n",
       "    <thead><tr><th class=\"cell-1\" style=\"\">Views</th> <th class=\"cell-2\" style=\"\">Url - (No Page Group)</th></tr></thead>\n",
       "    <tbody>\n",
       "    <tr><td class=\"cell-1\" style=\"text-align:right;\">21</td> <td class=\"cell-2\" style=\"\">http://travel.nationalgeographic.com/photo-contest-2015/gallery/winners-all/1</td></tr>\n",
       "<tr><td class=\"cell-1\" style=\"text-align:right;\">7</td> <td class=\"cell-2\" style=\"\">https://www-s.nationalgeographic.com/aem-proxy</td></tr>\n",
       "<tr><td class=\"cell-1\" style=\"text-align:right;\">7</td> <td class=\"cell-2\" style=\"\">http://travel.nationalgeographic.com/photo-contest-2015/gallery/week-11-all/35</td></tr>\n",
       "<tr><td class=\"cell-1\" style=\"text-align:right;\">4</td> <td class=\"cell-2\" style=\"\">http://travel.nationalgeographic.com/photo-contest-2015/gallery/week-10-all/27</td></tr>\n",
       "<tr><td class=\"cell-1\" style=\"text-align:right;\">3</td> <td class=\"cell-2\" style=\"\">https://www.nationalgeographic.com/2014/03/140331-global-warming-climate-change-ipcc-animals-science-environment</td></tr>\n",
       "<tr><td class=\"cell-1\" style=\"text-align:right;\">2</td> <td class=\"cell-2\" style=\"\">https://www.nationalgeographic.com/2016/02/160206-American-trophy-hunting-wildlife-conservation</td></tr>\n",
       "<tr><td class=\"cell-1\" style=\"text-align:right;\">2</td> <td class=\"cell-2\" style=\"\">http://photography.nationalgeographic.com/photography</td></tr>\n",
       "    \n",
       "    <tr><td class=\"cell-1\" style=\"text-align:right;\">2</td> <td class=\"cell-2\" style=\"\">https://news.nationalgeographic.com/2017</td></tr>\n",
       "<tr><td class=\"cell-1\" style=\"text-align:right;\">2</td> <td class=\"cell-2\" style=\"\">http://travel.nationalgeographic.com/travel/countries/patagonia-photos</td></tr>\n",
       "<tr><td class=\"cell-1\" style=\"text-align:right;\">2</td> <td class=\"cell-2\" style=\"\">https://mmdb.nationalgeographic.com/api/v1/members</td></tr>\n",
       "<tr><td class=\"cell-1\" style=\"text-align:right;\">2</td> <td class=\"cell-2\" style=\"\">http://travel.nationalgeographic.com/photo-contest-2015/wallpapers/week-12-all/19</td></tr>\n",
       "<tr><td class=\"cell-1\" style=\"text-align:right;\">2</td> <td class=\"cell-2\" style=\"\">http://animals.nationalgeographic.com/animals/photos/arctic-animals</td></tr>\n",
       "<tr><td class=\"cell-1\" style=\"text-align:right;\">2</td> <td class=\"cell-2\" style=\"\">https://news.nationalgeographic.com/2017/1</td></tr>\n",
       "<tr><td class=\"cell-1\" style=\"text-align:right;\">2</td> <td class=\"cell-2\" style=\"\">http://travel.nationalgeographic.com/photo-contest-2015/gallery/week-11-all/5</td></tr>\n",
       "    </tbody>\n"
      ],
      "text/plain": [
       "HTML{UTF8String}(\"    <table  class=\\\"dataframe-table\\\">\\n    <thead><tr><th class=\\\"cell-1\\\" style=\\\"\\\">Views</th> <th class=\\\"cell-2\\\" style=\\\"\\\">Url - (No Page Group)</th></tr></thead>\\n    <tbody>\\n    <tr><td class=\\\"cell-1\\\" style=\\\"text-align:right;\\\">21</td> <td class=\\\"cell-2\\\" style=\\\"\\\">http://travel.nationalgeographic.com/photo-contest-2015/gallery/winners-all/1</td></tr>\\n<tr><td class=\\\"cell-1\\\" style=\\\"text-align:right;\\\">7</td> <td class=\\\"cell-2\\\" style=\\\"\\\">https://www-s.nationalgeographic.com/aem-proxy</td></tr>\\n<tr><td class=\\\"cell-1\\\" style=\\\"text-align:right;\\\">7</td> <td class=\\\"cell-2\\\" style=\\\"\\\">http://travel.nationalgeographic.com/photo-contest-2015/gallery/week-11-all/35</td></tr>\\n<tr><td class=\\\"cell-1\\\" style=\\\"text-align:right;\\\">4</td> <td class=\\\"cell-2\\\" style=\\\"\\\">http://travel.nationalgeographic.com/photo-contest-2015/gallery/week-10-all/27</td></tr>\\n<tr><td class=\\\"cell-1\\\" style=\\\"text-align:right;\\\">3</td> <td class=\\\"cell-2\\\" style=\\\"\\\">https://www.nationalgeographic.com/2014/03/140331-global-warming-climate-change-ipcc-animals-science-environment</td></tr>\\n<tr><td class=\\\"cell-1\\\" style=\\\"text-align:right;\\\">2</td> <td class=\\\"cell-2\\\" style=\\\"\\\">https://www.nationalgeographic.com/2016/02/160206-American-trophy-hunting-wildlife-conservation</td></tr>\\n<tr><td class=\\\"cell-1\\\" style=\\\"text-align:right;\\\">2</td> <td class=\\\"cell-2\\\" style=\\\"\\\">http://photography.nationalgeographic.com/photography</td></tr>\\n    \\n    <tr><td class=\\\"cell-1\\\" style=\\\"text-align:right;\\\">2</td> <td class=\\\"cell-2\\\" style=\\\"\\\">https://news.nationalgeographic.com/2017</td></tr>\\n<tr><td class=\\\"cell-1\\\" style=\\\"text-align:right;\\\">2</td> <td class=\\\"cell-2\\\" style=\\\"\\\">http://travel.nationalgeographic.com/travel/countries/patagonia-photos</td></tr>\\n<tr><td class=\\\"cell-1\\\" style=\\\"text-align:right;\\\">2</td> <td class=\\\"cell-2\\\" style=\\\"\\\">https://mmdb.nationalgeographic.com/api/v1/members</td></tr>\\n<tr><td class=\\\"cell-1\\\" style=\\\"text-align:right;\\\">2</td> <td class=\\\"cell-2\\\" style=\\\"\\\">http://travel.nationalgeographic.com/photo-contest-2015/wallpapers/week-12-all/19</td></tr>\\n<tr><td class=\\\"cell-1\\\" style=\\\"text-align:right;\\\">2</td> <td class=\\\"cell-2\\\" style=\\\"\\\">http://animals.nationalgeographic.com/animals/photos/arctic-animals</td></tr>\\n<tr><td class=\\\"cell-1\\\" style=\\\"text-align:right;\\\">2</td> <td class=\\\"cell-2\\\" style=\\\"\\\">https://news.nationalgeographic.com/2017/1</td></tr>\\n<tr><td class=\\\"cell-1\\\" style=\\\"text-align:right;\\\">2</td> <td class=\\\"cell-2\\\" style=\\\"\\\">http://travel.nationalgeographic.com/photo-contest-2015/gallery/week-11-all/5</td></tr>\\n    </tbody>\\n\")"
      ]
     },
     "metadata": {},
     "output_type": "display_data"
    }
   ],
   "source": [
    "displayTitle(chart_title = \"Unclassified\", showTimeStamp=false)\n",
    "\n",
    "firstAndLast(TV,UP,\"Nat Geo Site\";      rowLimit=10000,beaconsLimit=10,paginate=true);\n",
    "firstAndLast(TV,UP,\"Unknown\";           rowLimit=10000,beaconsLimit=1,paginate=true);\n",
    "firstAndLast(TV,UP,\"(No Page Group)\";   rowLimit=10000,beaconsLimit=1,paginate=true);"
   ]
  },
  {
   "cell_type": "code",
   "execution_count": 20,
   "metadata": {
    "collapsed": false,
    "input_collapsed": false,
    "scrolled": false
   },
   "outputs": [
    {
     "data": {
      "text/html": [
       "<div class=\"dswbOutputText\"><h1 class=\"chart_title\" style=\"color:#ccc\">Cheeta</h1></div>"
      ]
     },
     "metadata": {},
     "output_type": "display_data"
    },
    {
     "data": {
      "text/html": [
       "<div class=\"dswbOutputText\"><h1 class=\"chart_title\" style=\"color:#ccc\">Top 10000 (min 5) URLs for Cheeta CMS - No Page Views</h1></div>"
      ]
     },
     "metadata": {},
     "output_type": "display_data"
    },
    {
     "data": {
      "text/html": [
       "<div class=\"dswbOutputText\"><h1 class=\"chart_title\" style=\"color:#ccc\">Top 10000 (min 100) URLs for Cheeta NGM</h1><h3 class=\"chart_info\" style=\"color:#ccc\">Note: If you see AEM URL's in this list tell Chris Davis</h3><h3 class=\"chart_info\" style=\"color:#ccc\">November 18, 2017 23:59:00 to November 19, 2017 23:59:00 Local Time</h3></div>"
      ]
     },
     "metadata": {},
     "output_type": "display_data"
    }
   ],
   "source": [
    "displayTitle(chart_title = \"Cheeta\", showTimeStamp=false)\n",
    "firstAndLast(TV,UP,\"Cheeta CMS\";        rowLimit=10000,beaconsLimit=5,paginate=true);\n",
    "firstAndLast(TV,UP,\"Cheeta NGM\";        rowLimit=10000,beaconsLimit=100,paginate=true);"
   ]
  },
  {
   "cell_type": "code",
   "execution_count": 12,
   "metadata": {
    "collapsed": true,
    "input_collapsed": true
   },
   "outputs": [],
   "source": []
  }
 ],
 "metadata": {
  "chart_version": "1.0.0",
  "kernelspec": {
   "display_name": "Julia 0.4.7",
   "language": "julia",
   "name": "julia-0.4"
  },
  "language_info": {
   "file_extension": ".jl",
   "mimetype": "application/julia",
   "name": "julia",
   "version": "0.4.7"
  },
  "library_version": "1.0.0",
  "notebook_uuid": "be863b55-dede-4316-8555-55fe704f980e",
  "readOnly": false
 },
 "nbformat": 4,
 "nbformat_minor": 0
}
