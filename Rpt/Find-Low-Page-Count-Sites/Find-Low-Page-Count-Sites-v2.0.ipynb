{
 "cells": [
  {
   "cell_type": "markdown",
   "metadata": {},
   "source": [
    "## Tables and Data Source setup"
   ]
  },
  {
   "cell_type": "code",
   "execution_count": 1,
   "metadata": {
    "collapsed": false,
    "input_collapsed": false,
    "scrolled": true
   },
   "outputs": [
    {
     "name": "stdout",
     "output_type": "stream",
     "text": [
      "Redshift endpoint set: 2017-11-12T13:00:07\n"
     ]
    },
    {
     "data": {
      "text/plain": [
       "\"beacons_4744\""
      ]
     },
     "execution_count": 1,
     "metadata": {},
     "output_type": "execute_result"
    }
   ],
   "source": [
    "using ODBC\n",
    "using DataFrames\n",
    "using DSWB\n",
    "using Formatting\n",
    "\n",
    "dsn = \"dswb-natgeo\" # Redshift endpoint\n",
    "table = \"beacons_4744\" # beacon table name\n",
    "tableRt = \"beacons_4744_rt\"\n",
    "\n",
    "# Connect to Beacon Data\n",
    "setRedshiftEndpoint(dsn)\n",
    "setTable(table)\n",
    "# setTable(tableRt, tableType = \"RESOURCE_TABLE\")"
   ]
  },
  {
   "cell_type": "code",
   "execution_count": 2,
   "metadata": {
    "collapsed": false,
    "input_collapsed": false
   },
   "outputs": [
    {
     "name": "stdout",
     "output_type": "stream",
     "text": [
      "November 10, 2017 23:59:00 to November 11, 2017 23:59:00 Local Time\n",
      "November 11, 2017 04:59:00 to November 12, 2017 04:59:00 UTC Time\n"
     ]
    }
   ],
   "source": [
    "# Packages\n",
    "include(\"/data/notebook_home/Production/Lib/Include-Package-v1.0.jl\")\n",
    "include(\"/data/notebook_home/Production/Bodies/Find-Top-WPF-Pages-Body-v1.0.jl\")\n",
    "\n",
    "weeklyTimeVariables(days=1)\n",
    "#timeVariables(2017,6,8,10,59,2017,6,8,12,59)\n",
    "#yesterdayTimeVariables()\n"
   ]
  },
  {
   "cell_type": "code",
   "execution_count": 3,
   "metadata": {
    "collapsed": true,
    "input_collapsed": false
   },
   "outputs": [],
   "source": [
    "UP = UrlParamsInit()\n",
    "UP.beaconTable = table   #table\n",
    "UP.resourceTable = tableRt\n",
    "UP.btView = \"$(table)_wpf_pview_prod\" #localtable\n",
    "UP.rtView = \"$(tableRt)_wpf_pview_prod\" #localtableRt\n",
    "UP.pageGroup = \"%\"   #productPageGroup\n",
    "UP.urlRegEx = \"%\"   #localUrl\n",
    "UP.deviceType = \"%\"\n",
    "\n",
    "SG = SoastaGraphsInit()\n",
    "customer = \"Nat Geo\" \n",
    "SG.customer = customer\n",
    ";"
   ]
  },
  {
   "cell_type": "code",
   "execution_count": 4,
   "metadata": {
    "collapsed": false,
    "input_collapsed": false
   },
   "outputs": [
    {
     "data": {
      "text/plain": [
       "wpfLimitedTable (generic function with 1 method)"
      ]
     },
     "execution_count": 4,
     "metadata": {},
     "output_type": "execute_result"
    }
   ],
   "source": [
    "function wpfLimitedTable(localTable::ASCIIString,table::ASCIIString,productPageGroup::ASCIIString,startTimeMs::Int64, endTimeMs::Int64)\n",
    "    try\n",
    "        query(\"\"\"\\\n",
    "            drop view if exists $localTable\n",
    "        \"\"\")\n",
    "        \n",
    "        query(\"\"\"\\\n",
    "            create or replace view $localTable as \n",
    "                (select * from $table where\n",
    "                    beacon_type = 'page view'\n",
    "                    and \"timestamp\" between $startTimeMs and $endTimeMs\n",
    "                    and page_group = '$(productPageGroup)'\n",
    "                )\n",
    "        \"\"\")\n",
    "\n",
    "    catch y\n",
    "        println(\"unLimitedTable Exception\",y)\n",
    "    end\n",
    "end\n",
    "\n"
   ]
  },
  {
   "cell_type": "code",
   "execution_count": 5,
   "metadata": {
    "collapsed": false,
    "input_collapsed": false
   },
   "outputs": [],
   "source": [
    "#include(\"/data/notebook_home/Production/Bodies/Find-Top-WPF-Pages-Body-v1.0.jl\")\n",
    "#firstAndLast(UP.btView,\"Errors\";            rowLimit=10000,beaconsLimit=0,paginate=true);"
   ]
  },
  {
   "cell_type": "code",
   "execution_count": 6,
   "metadata": {
    "collapsed": true,
    "input_collapsed": true
   },
   "outputs": [],
   "source": []
  },
  {
   "cell_type": "code",
   "execution_count": 7,
   "metadata": {
    "collapsed": false,
    "input_collapsed": false,
    "scrolled": false
   },
   "outputs": [
    {
     "data": {
      "text/html": [
       "<div class=\"dswbOutputText\"><h1 class=\"chart_title\" style=\"color:#ccc\">Channel</h1></div>"
      ]
     },
     "metadata": {},
     "output_type": "display_data"
    },
    {
     "data": {
      "text/html": [
       "<div class=\"dswbOutputText\"><h1 class=\"chart_title\" style=\"color:#ccc\">Top 10000 (min 0) URLs for Channel Microsite</h1><h3 class=\"chart_info\" style=\"color:#ccc\">Note: If you see AEM URL's in this list tell Chris Davis</h3><h3 class=\"chart_info\" style=\"color:#ccc\">November 10, 2017 23:59:00 to November 11, 2017 23:59:00 Local Time</h3></div>"
      ]
     },
     "metadata": {},
     "output_type": "display_data"
    },
    {
     "data": {
      "text/html": [
       "    <table  class=\"dataframe-table\">\n",
       "    <thead><tr><th class=\"cell-1\" style=\"\">Views</th> <th class=\"cell-2\" style=\"\">Url - Channel Microsite</th></tr></thead>\n",
       "    <tbody>\n",
       "    <tr><td class=\"cell-1\" style=\"text-align:right;\">1</td> <td class=\"cell-2\" style=\"\">http://storyofgod.nationalgeographic.com/miracles/globe</td></tr>\n",
       "<tr><td class=\"cell-1\" style=\"text-align:right;\">1</td> <td class=\"cell-2\" style=\"\">https://createyourcover.nationalgeographic.com/create</td></tr>\n",
       "    \n",
       "    <tr><td class=\"cell-1\" style=\"text-align:right;\">1</td> <td class=\"cell-2\" style=\"\">https://www.nationalgeographic.com/jane-the-movie/screenings/toronto</td></tr>\n",
       "<tr><td class=\"cell-1\" style=\"text-align:right;\">1</td> <td class=\"cell-2\" style=\"\">https://createyourcover.nationalgeographic.com</td></tr>\n",
       "    </tbody>\n"
      ],
      "text/plain": [
       "HTML{UTF8String}(\"    <table  class=\\\"dataframe-table\\\">\\n    <thead><tr><th class=\\\"cell-1\\\" style=\\\"\\\">Views</th> <th class=\\\"cell-2\\\" style=\\\"\\\">Url - Channel Microsite</th></tr></thead>\\n    <tbody>\\n    <tr><td class=\\\"cell-1\\\" style=\\\"text-align:right;\\\">1</td> <td class=\\\"cell-2\\\" style=\\\"\\\">http://storyofgod.nationalgeographic.com/miracles/globe</td></tr>\\n<tr><td class=\\\"cell-1\\\" style=\\\"text-align:right;\\\">1</td> <td class=\\\"cell-2\\\" style=\\\"\\\">https://createyourcover.nationalgeographic.com/create</td></tr>\\n    \\n    <tr><td class=\\\"cell-1\\\" style=\\\"text-align:right;\\\">1</td> <td class=\\\"cell-2\\\" style=\\\"\\\">https://www.nationalgeographic.com/jane-the-movie/screenings/toronto</td></tr>\\n<tr><td class=\\\"cell-1\\\" style=\\\"text-align:right;\\\">1</td> <td class=\\\"cell-2\\\" style=\\\"\\\">https://createyourcover.nationalgeographic.com</td></tr>\\n    </tbody>\\n\")"
      ]
     },
     "metadata": {},
     "output_type": "display_data"
    },
    {
     "data": {
      "text/html": [
       "<div class=\"dswbOutputText\"><h1 class=\"chart_title\" style=\"color:#ccc\">Top 10000 (min 0) URLs for Channel Legacy - No Page Views</h1></div>"
      ]
     },
     "metadata": {},
     "output_type": "display_data"
    }
   ],
   "source": [
    "displayTitle(chart_title = \"Channel\", showTimeStamp=false)\n",
    "firstAndLast(UP.btView,\"Channel Microsite\";rowLimit=10000,beaconsLimit=0,paginate=true);\n",
    "firstAndLast(UP.btView,\"Channel Legacy\";   rowLimit=10000,beaconsLimit=0,paginate=true);"
   ]
  },
  {
   "cell_type": "code",
   "execution_count": 8,
   "metadata": {
    "collapsed": false,
    "input_collapsed": false,
    "scrolled": false
   },
   "outputs": [
    {
     "data": {
      "text/html": [
       "<div class=\"dswbOutputText\"><h1 class=\"chart_title\" style=\"color:#ccc\">Small Groups</h1></div>"
      ]
     },
     "metadata": {},
     "output_type": "display_data"
    },
    {
     "data": {
      "text/html": [
       "<div class=\"dswbOutputText\"><h1 class=\"chart_title\" style=\"color:#ccc\">Top 10000 (min 10) URLs for Education - No Page Views</h1></div>"
      ]
     },
     "metadata": {},
     "output_type": "display_data"
    },
    {
     "data": {
      "text/html": [
       "<div class=\"dswbOutputText\"><h1 class=\"chart_title\" style=\"color:#ccc\">Top 10000 (min 0) URLs for Errors - No Page Views</h1></div>"
      ]
     },
     "metadata": {},
     "output_type": "display_data"
    },
    {
     "data": {
      "text/html": [
       "<div class=\"dswbOutputText\"><h1 class=\"chart_title\" style=\"color:#ccc\">Top 10000 (min 0) URLs for Expedition Granted - No Page Views</h1></div>"
      ]
     },
     "metadata": {},
     "output_type": "display_data"
    },
    {
     "data": {
      "text/html": [
       "<div class=\"dswbOutputText\"><h1 class=\"chart_title\" style=\"color:#ccc\">Top 10000 (min 0) URLs for Kids MyShot - No Page Views</h1></div>"
      ]
     },
     "metadata": {},
     "output_type": "display_data"
    },
    {
     "data": {
      "text/html": [
       "<div class=\"dswbOutputText\"><h1 class=\"chart_title\" style=\"color:#ccc\">Top 10000 (min 0) URLs for Index PHP - No Page Views</h1></div>"
      ]
     },
     "metadata": {},
     "output_type": "display_data"
    },
    {
     "data": {
      "text/html": [
       "<div class=\"dswbOutputText\"><h1 class=\"chart_title\" style=\"color:#ccc\">Top 10000 (min 0) URLs for News EC2 - No Page Views</h1></div>"
      ]
     },
     "metadata": {},
     "output_type": "display_data"
    },
    {
     "data": {
      "text/html": [
       "<div class=\"dswbOutputText\"><h1 class=\"chart_title\" style=\"color:#ccc\">Top 10000 (min 0) URLs for Radio - No Page Views</h1></div>"
      ]
     },
     "metadata": {},
     "output_type": "display_data"
    },
    {
     "data": {
      "text/html": [
       "<div class=\"dswbOutputText\"><h1 class=\"chart_title\" style=\"color:#ccc\">Top 10000 (min 0) URLs for Sponsored</h1><h3 class=\"chart_info\" style=\"color:#ccc\">Note: If you see AEM URL's in this list tell Chris Davis</h3><h3 class=\"chart_info\" style=\"color:#ccc\">November 10, 2017 23:59:00 to November 11, 2017 23:59:00 Local Time</h3></div>"
      ]
     },
     "metadata": {},
     "output_type": "display_data"
    },
    {
     "data": {
      "text/html": [
       "    <table  class=\"dataframe-table\">\n",
       "    <thead><tr><th class=\"cell-1\" style=\"\">Views</th> <th class=\"cell-2\" style=\"\">Url - Sponsored</th></tr></thead>\n",
       "    <tbody>\n",
       "    <tr><td class=\"cell-1\" style=\"text-align:right;\">5</td> <td class=\"cell-2\" style=\"\">https://www.nationalgeographic.com/voteyourmainstreet</td></tr>\n",
       "    \n",
       "    <tr><td class=\"cell-1\" style=\"text-align:right;\">1</td> <td class=\"cell-2\" style=\"\">https://www.nationalgeographic.com/mymaviccontest</td></tr>\n",
       "    </tbody>\n"
      ],
      "text/plain": [
       "HTML{UTF8String}(\"    <table  class=\\\"dataframe-table\\\">\\n    <thead><tr><th class=\\\"cell-1\\\" style=\\\"\\\">Views</th> <th class=\\\"cell-2\\\" style=\\\"\\\">Url - Sponsored</th></tr></thead>\\n    <tbody>\\n    <tr><td class=\\\"cell-1\\\" style=\\\"text-align:right;\\\">5</td> <td class=\\\"cell-2\\\" style=\\\"\\\">https://www.nationalgeographic.com/voteyourmainstreet</td></tr>\\n    \\n    <tr><td class=\\\"cell-1\\\" style=\\\"text-align:right;\\\">1</td> <td class=\\\"cell-2\\\" style=\\\"\\\">https://www.nationalgeographic.com/mymaviccontest</td></tr>\\n    </tbody>\\n\")"
      ]
     },
     "metadata": {},
     "output_type": "display_data"
    },
    {
     "data": {
      "text/html": [
       "<div class=\"dswbOutputText\"><h1 class=\"chart_title\" style=\"color:#ccc\">Top 10000 (min 10) URLs for Tickets</h1><h3 class=\"chart_info\" style=\"color:#ccc\">Note: If you see AEM URL's in this list tell Chris Davis</h3><h3 class=\"chart_info\" style=\"color:#ccc\">November 10, 2017 23:59:00 to November 11, 2017 23:59:00 Local Time</h3></div>"
      ]
     },
     "metadata": {},
     "output_type": "display_data"
    },
    {
     "data": {
      "text/html": [
       "<div class=\"dswbOutputText\"><h1 class=\"chart_title\" style=\"color:#ccc\">Top 10000 (min 0) URLs for Travel Subs</h1><h3 class=\"chart_info\" style=\"color:#ccc\">Note: If you see AEM URL's in this list tell Chris Davis</h3><h3 class=\"chart_info\" style=\"color:#ccc\">November 10, 2017 23:59:00 to November 11, 2017 23:59:00 Local Time</h3></div>"
      ]
     },
     "metadata": {},
     "output_type": "display_data"
    },
    {
     "data": {
      "text/html": [
       "<div class=\"dswbOutputText\"><h1 class=\"chart_title\" style=\"color:#ccc\">Top 10000 (min 0) URLs for Video AMP</h1><h3 class=\"chart_info\" style=\"color:#ccc\">Note: If you see AEM URL's in this list tell Chris Davis</h3><h3 class=\"chart_info\" style=\"color:#ccc\">November 10, 2017 23:59:00 to November 11, 2017 23:59:00 Local Time</h3></div>"
      ]
     },
     "metadata": {},
     "output_type": "display_data"
    }
   ],
   "source": [
    "displayTitle(chart_title = \"Small Groups\", showTimeStamp=false)\n",
    "\n",
    "firstAndLast(UP.btView,\"Education\";         rowLimit=10000,beaconsLimit=10,paginate=true);\n",
    "firstAndLast(UP.btView,\"Errors\";            rowLimit=10000,beaconsLimit=0,paginate=true);\n",
    "firstAndLast(UP.btView,\"Expedition Granted\";rowLimit=10000,beaconsLimit=0,paginate=true);\n",
    "firstAndLast(UP.btView,\"Kids MyShot\";       rowLimit=10000,beaconsLimit=0,paginate=true);\n",
    "firstAndLast(UP.btView,\"Index PHP\";         rowLimit=10000,beaconsLimit=0,paginate=true);\n",
    "firstAndLast(UP.btView,\"News EC2\";          rowLimit=10000,beaconsLimit=0,paginate=true);\n",
    "firstAndLast(UP.btView,\"Radio\";             rowLimit=10000,beaconsLimit=0,paginate=true);\n",
    "firstAndLast(UP.btView,\"Sponsored\";         rowLimit=10000,beaconsLimit=0,paginate=true);\n",
    "firstAndLast(UP.btView,\"Tickets\";           rowLimit=10000,beaconsLimit=10,paginate=true);\n",
    "firstAndLast(UP.btView,\"Travel Subs\";       rowLimit=10000,beaconsLimit=0,paginate=true);\n",
    "firstAndLast(UP.btView,\"Video AMP\";         rowLimit=10000,beaconsLimit=0,paginate=true);\n"
   ]
  },
  {
   "cell_type": "code",
   "execution_count": 9,
   "metadata": {
    "collapsed": false,
    "input_collapsed": false,
    "scrolled": false
   },
   "outputs": [
    {
     "data": {
      "text/html": [
       "<div class=\"dswbOutputText\"><h1 class=\"chart_title\" style=\"color:#ccc\">Medium Groups</h1></div>"
      ]
     },
     "metadata": {},
     "output_type": "display_data"
    },
    {
     "data": {
      "text/html": [
       "<div class=\"dswbOutputText\"><h1 class=\"chart_title\" style=\"color:#ccc\">Top 10000 (min 50) URLs for Help</h1><h3 class=\"chart_info\" style=\"color:#ccc\">Note: If you see AEM URL's in this list tell Chris Davis</h3><h3 class=\"chart_info\" style=\"color:#ccc\">November 10, 2017 23:59:00 to November 11, 2017 23:59:00 Local Time</h3></div>"
      ]
     },
     "metadata": {},
     "output_type": "display_data"
    },
    {
     "data": {
      "text/html": [
       "<div class=\"dswbOutputText\"><h1 class=\"chart_title\" style=\"color:#ccc\">Top 10000 (min 20) URLs for Travel WP</h1><h3 class=\"chart_info\" style=\"color:#ccc\">Note: If you see AEM URL's in this list tell Chris Davis</h3><h3 class=\"chart_info\" style=\"color:#ccc\">November 10, 2017 23:59:00 to November 11, 2017 23:59:00 Local Time</h3></div>"
      ]
     },
     "metadata": {},
     "output_type": "display_data"
    }
   ],
   "source": [
    "displayTitle(chart_title = \"Medium Groups\", showTimeStamp=false)\n",
    "\n",
    "firstAndLast(UP.btView,\"Help\";              rowLimit=10000,beaconsLimit=50,paginate=true);\n",
    "firstAndLast(UP.btView,\"Travel WP\";         rowLimit=10000,beaconsLimit=20,paginate=true);\n"
   ]
  },
  {
   "cell_type": "code",
   "execution_count": 10,
   "metadata": {
    "collapsed": false,
    "input_collapsed": false,
    "scrolled": false
   },
   "outputs": [
    {
     "data": {
      "text/html": [
       "<div class=\"dswbOutputText\"><h1 class=\"chart_title\" style=\"color:#ccc\">Unclassified</h1></div>"
      ]
     },
     "metadata": {},
     "output_type": "display_data"
    },
    {
     "data": {
      "text/html": [
       "<div class=\"dswbOutputText\"><h1 class=\"chart_title\" style=\"color:#ccc\">Top 10000 (min 10) URLs for Nat Geo Site</h1><h3 class=\"chart_info\" style=\"color:#ccc\">Note: If you see AEM URL's in this list tell Chris Davis</h3><h3 class=\"chart_info\" style=\"color:#ccc\">November 10, 2017 23:59:00 to November 11, 2017 23:59:00 Local Time</h3></div>"
      ]
     },
     "metadata": {},
     "output_type": "display_data"
    },
    {
     "data": {
      "text/html": [
       "    <table  class=\"dataframe-table\">\n",
       "    <thead><tr><th class=\"cell-1\" style=\"\">Views</th> <th class=\"cell-2\" style=\"\">Url - Nat Geo Site</th></tr></thead>\n",
       "    <tbody>\n",
       "    <tr><td class=\"cell-1\" style=\"text-align:right;\">1,855</td> <td class=\"cell-2\" style=\"\">https://www.nationalgeographic.com/family/easy-science-experiments-for-kids-to-try</td></tr>\n",
       "<tr><td class=\"cell-1\" style=\"text-align:right;\">130</td> <td class=\"cell-2\" style=\"\">https://www.nationalgeographic.com</td></tr>\n",
       "    \n",
       "    <tr><td class=\"cell-1\" style=\"text-align:right;\">61</td> <td class=\"cell-2\" style=\"\">https://www.nationalgeographic.com/seo.jpg</td></tr>\n",
       "<tr><td class=\"cell-1\" style=\"text-align:right;\">22</td> <td class=\"cell-2\" style=\"\">https://www.nationalgeographic.com/family/easy-science-experiments-for-kids-to-try.html</td></tr>\n",
       "    </tbody>\n"
      ],
      "text/plain": [
       "HTML{UTF8String}(\"    <table  class=\\\"dataframe-table\\\">\\n    <thead><tr><th class=\\\"cell-1\\\" style=\\\"\\\">Views</th> <th class=\\\"cell-2\\\" style=\\\"\\\">Url - Nat Geo Site</th></tr></thead>\\n    <tbody>\\n    <tr><td class=\\\"cell-1\\\" style=\\\"text-align:right;\\\">1,855</td> <td class=\\\"cell-2\\\" style=\\\"\\\">https://www.nationalgeographic.com/family/easy-science-experiments-for-kids-to-try</td></tr>\\n<tr><td class=\\\"cell-1\\\" style=\\\"text-align:right;\\\">130</td> <td class=\\\"cell-2\\\" style=\\\"\\\">https://www.nationalgeographic.com</td></tr>\\n    \\n    <tr><td class=\\\"cell-1\\\" style=\\\"text-align:right;\\\">61</td> <td class=\\\"cell-2\\\" style=\\\"\\\">https://www.nationalgeographic.com/seo.jpg</td></tr>\\n<tr><td class=\\\"cell-1\\\" style=\\\"text-align:right;\\\">22</td> <td class=\\\"cell-2\\\" style=\\\"\\\">https://www.nationalgeographic.com/family/easy-science-experiments-for-kids-to-try.html</td></tr>\\n    </tbody>\\n\")"
      ]
     },
     "metadata": {},
     "output_type": "display_data"
    },
    {
     "data": {
      "text/html": [
       "<div class=\"dswbOutputText\"><h1 class=\"chart_title\" style=\"color:#ccc\">Top 10000 (min 1) URLs for Unknown</h1><h3 class=\"chart_info\" style=\"color:#ccc\">Note: If you see AEM URL's in this list tell Chris Davis</h3><h3 class=\"chart_info\" style=\"color:#ccc\">November 10, 2017 23:59:00 to November 11, 2017 23:59:00 Local Time</h3></div>"
      ]
     },
     "metadata": {},
     "output_type": "display_data"
    },
    {
     "data": {
      "text/html": [
       "<div class=\"dswbOutputText\"><h1 class=\"chart_title\" style=\"color:#ccc\">Top 10000 (min 1) URLs for (No Page Group)</h1><h3 class=\"chart_info\" style=\"color:#ccc\">Note: If you see AEM URL's in this list tell Chris Davis</h3><h3 class=\"chart_info\" style=\"color:#ccc\">November 10, 2017 23:59:00 to November 11, 2017 23:59:00 Local Time</h3></div>"
      ]
     },
     "metadata": {},
     "output_type": "display_data"
    }
   ],
   "source": [
    "displayTitle(chart_title = \"Unclassified\", showTimeStamp=false)\n",
    "\n",
    "firstAndLast(UP.btView,\"Nat Geo Site\";      rowLimit=10000,beaconsLimit=10,paginate=true);\n",
    "firstAndLast(UP.btView,\"Unknown\";           rowLimit=10000,beaconsLimit=1,paginate=true);\n",
    "firstAndLast(UP.btView,\"(No Page Group)\";   rowLimit=10000,beaconsLimit=1,paginate=true);"
   ]
  },
  {
   "cell_type": "code",
   "execution_count": 11,
   "metadata": {
    "collapsed": false,
    "input_collapsed": false,
    "scrolled": false
   },
   "outputs": [
    {
     "data": {
      "text/html": [
       "<div class=\"dswbOutputText\"><h1 class=\"chart_title\" style=\"color:#ccc\">Cheeta</h1></div>"
      ]
     },
     "metadata": {},
     "output_type": "display_data"
    },
    {
     "data": {
      "text/html": [
       "<div class=\"dswbOutputText\"><h1 class=\"chart_title\" style=\"color:#ccc\">Top 10000 (min 5) URLs for Cheeta CMS - No Page Views</h1></div>"
      ]
     },
     "metadata": {},
     "output_type": "display_data"
    },
    {
     "data": {
      "text/html": [
       "<div class=\"dswbOutputText\"><h1 class=\"chart_title\" style=\"color:#ccc\">Top 10000 (min 100) URLs for Cheeta NGM</h1><h3 class=\"chart_info\" style=\"color:#ccc\">Note: If you see AEM URL's in this list tell Chris Davis</h3><h3 class=\"chart_info\" style=\"color:#ccc\">November 10, 2017 23:59:00 to November 11, 2017 23:59:00 Local Time</h3></div>"
      ]
     },
     "metadata": {},
     "output_type": "display_data"
    }
   ],
   "source": [
    "displayTitle(chart_title = \"Cheeta\", showTimeStamp=false)\n",
    "firstAndLast(UP.btView,\"Cheeta CMS\";        rowLimit=10000,beaconsLimit=5,paginate=true);\n",
    "firstAndLast(UP.btView,\"Cheeta NGM\";        rowLimit=10000,beaconsLimit=100,paginate=true);"
   ]
  },
  {
   "cell_type": "code",
   "execution_count": 12,
   "metadata": {
    "collapsed": true,
    "input_collapsed": true
   },
   "outputs": [],
   "source": []
  }
 ],
 "metadata": {
  "chart_version": "1.0.0",
  "kernelspec": {
   "display_name": "Julia 0.4.7",
   "language": "julia",
   "name": "julia-0.4"
  },
  "language_info": {
   "file_extension": ".jl",
   "mimetype": "application/julia",
   "name": "julia",
   "version": "0.4.7"
  },
  "library_version": "1.0.0",
  "notebook_uuid": "be863b55-dede-4316-8555-55fe704f980e",
  "readOnly": false
 },
 "nbformat": 4,
 "nbformat_minor": 0
}
