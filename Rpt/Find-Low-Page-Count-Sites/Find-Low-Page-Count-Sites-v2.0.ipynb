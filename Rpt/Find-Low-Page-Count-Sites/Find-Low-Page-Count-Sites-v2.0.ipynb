{
 "cells": [
  {
   "cell_type": "markdown",
   "metadata": {},
   "source": [
    "## Tables and Data Source setup"
   ]
  },
  {
   "cell_type": "code",
   "execution_count": null,
   "metadata": {
    "collapsed": false,
    "input_collapsed": false,
    "scrolled": true
   },
   "outputs": [],
   "source": [
    "using ODBC\n",
    "using DataFrames\n",
    "using DSWB\n",
    "using Formatting\n",
    "\n",
    "dsn = \"dswb-natgeo\" # Redshift endpoint\n",
    "table = \"beacons_4744\" # beacon table name\n",
    "tableRt = \"beacons_4744_rt\"\n",
    "\n",
    "# Connect to Beacon Data\n",
    "setRedshiftEndpoint(dsn)\n",
    "setTable(table)\n",
    "# setTable(tableRt, tableType = \"RESOURCE_TABLE\")\n",
    ";"
   ]
  },
  {
   "cell_type": "code",
   "execution_count": null,
   "metadata": {
    "collapsed": false,
    "input_collapsed": false
   },
   "outputs": [],
   "source": [
    "include(\"../../Lib/Include-Package-v2.1.jl\")\n",
    ";"
   ]
  },
  {
   "cell_type": "code",
   "execution_count": null,
   "metadata": {
    "collapsed": false,
    "input_collapsed": false
   },
   "outputs": [],
   "source": [
    "TV = weeklyTimeVariables(days=1)\n",
    "#TV = timeVariables(2017,6,8,10,59,2017,6,8,12,59)\n",
    "#TV = yesterdayTimeVariables()\n",
    ";"
   ]
  },
  {
   "cell_type": "code",
   "execution_count": null,
   "metadata": {
    "collapsed": true,
    "input_collapsed": false
   },
   "outputs": [],
   "source": [
    "UP = UrlParamsInit(\"Find_Low_Page_Count\")\n",
    "UP.agentOs = \"%\"\n",
    "UP.deviceType = \"%\"\n",
    "UP.limitRows = 250\n",
    "UP.pageGroup = \"%\"   #productPageGroup\n",
    "UP.samplesMin = 10\n",
    "UP.sizeMin = 10000\n",
    "UP.timeLowerMs = 2000.0\n",
    "UP.timeUpperMs = 60000.0\n",
    "UP.urlRegEx = \"%\"   #localUrl\n",
    "UP.urlFull = \"%\"\n",
    "UP.usePageLoad=false\n",
    "UrlParamsValidate(UP)\n",
    "\n",
    "SP = ShowParamsInit()\n",
    "SP.criticalPathOnly=true\n",
    "SP.desktop=true\n",
    "SP.devView=false\n",
    "SP.debugLevel = 0   # Tests use even numbers with > tests, make this an odd number or zero\n",
    "SP.mobile=true\n",
    "ShowParamsValidate(SP)\n",
    ";"
   ]
  },
  {
   "cell_type": "code",
   "execution_count": null,
   "metadata": {
    "collapsed": false,
    "input_collapsed": false,
    "scrolled": false
   },
   "outputs": [],
   "source": [
    "displayTitle(chart_title = \"Channel\", showTimeStamp=false)\n",
    "displayTopUrlsByCount(TV,UP,SP,\"Channel Microsite\";rowLimit=10000,beaconsLimit=0,paginate=true);\n",
    "displayTopUrlsByCount(TV,UP,SP,\"Channel Legacy\";   rowLimit=10000,beaconsLimit=0,paginate=true);"
   ]
  },
  {
   "cell_type": "code",
   "execution_count": null,
   "metadata": {
    "collapsed": false,
    "input_collapsed": false,
    "scrolled": false
   },
   "outputs": [],
   "source": [
    "displayTitle(chart_title = \"Small Groups\", showTimeStamp=false)\n",
    "displayTopUrlsByCount(TV,UP,SP,\"Education\";         rowLimit=10000,beaconsLimit=10,paginate=true);\n",
    "displayTopUrlsByCount(TV,UP,SP,\"Errors\";            rowLimit=10000,beaconsLimit=0,paginate=true);\n",
    "displayTopUrlsByCount(TV,UP,SP,\"Expedition Granted\";rowLimit=10000,beaconsLimit=0,paginate=true);\n",
    "displayTopUrlsByCount(TV,UP,SP,\"Kids MyShot\";       rowLimit=10000,beaconsLimit=0,paginate=true);\n",
    "displayTopUrlsByCount(TV,UP,SP,\"Index PHP\";         rowLimit=10000,beaconsLimit=0,paginate=true);\n",
    "displayTopUrlsByCount(TV,UP,SP,\"News EC2\";          rowLimit=10000,beaconsLimit=0,paginate=true);\n",
    "displayTopUrlsByCount(TV,UP,SP,\"Radio\";             rowLimit=10000,beaconsLimit=0,paginate=true);\n",
    "displayTopUrlsByCount(TV,UP,SP,\"Sponsored\";         rowLimit=10000,beaconsLimit=0,paginate=true);\n",
    "displayTopUrlsByCount(TV,UP,SP,\"Tickets\";           rowLimit=10000,beaconsLimit=10,paginate=true);\n",
    "displayTopUrlsByCount(TV,UP,SP,\"Travel Subs\";       rowLimit=10000,beaconsLimit=0,paginate=true);\n",
    "displayTopUrlsByCount(TV,UP,SP,\"Video AMP\";         rowLimit=10000,beaconsLimit=0,paginate=true);"
   ]
  },
  {
   "cell_type": "code",
   "execution_count": null,
   "metadata": {
    "collapsed": false,
    "input_collapsed": false,
    "scrolled": false
   },
   "outputs": [],
   "source": [
    "displayTitle(chart_title = \"Medium Groups\", showTimeStamp=false)\n",
    "displayTopUrlsByCount(TV,UP,SP,\"Help\";              rowLimit=10000,beaconsLimit=50,paginate=true);\n",
    "displayTopUrlsByCount(TV,UP,SP,\"Travel WP\";         rowLimit=10000,beaconsLimit=20,paginate=true);"
   ]
  },
  {
   "cell_type": "code",
   "execution_count": null,
   "metadata": {
    "collapsed": false,
    "input_collapsed": false,
    "scrolled": false
   },
   "outputs": [],
   "source": [
    "displayTitle(chart_title = \"Unclassified\", showTimeStamp=false)\n",
    "displayTopUrlsByCount(TV,UP,SP,\"Nat Geo Site\";      rowLimit=10000,beaconsLimit=10,paginate=true);\n",
    "displayTopUrlsByCount(TV,UP,SP,\"Unknown\";           rowLimit=10000,beaconsLimit=1,paginate=true);\n",
    "displayTopUrlsByCount(TV,UP,SP,\"(No Page Group)\";   rowLimit=10000,beaconsLimit=1,paginate=true);"
   ]
  },
  {
   "cell_type": "code",
   "execution_count": null,
   "metadata": {
    "collapsed": false,
    "input_collapsed": false,
    "scrolled": false
   },
   "outputs": [],
   "source": [
    "#No Segment Data displayTitle(chart_title = \"Cheeta\", showTimeStamp=false)\n",
    "#displayTopUrlsByCount(TV,UP,SP,\"Cheeta CMS\";        rowLimit=10000,beaconsLimit=5,paginate=true);\n",
    "#displayTopUrlsByCount(TV,UP,SP,\"Cheeta NGM\";        rowLimit=10000,beaconsLimit=100,paginate=true);"
   ]
  },
  {
   "cell_type": "code",
   "execution_count": null,
   "metadata": {
    "collapsed": true,
    "input_collapsed": false
   },
   "outputs": [],
   "source": []
  }
 ],
 "metadata": {
  "chart_version": "1.0.0",
  "kernelspec": {
   "display_name": "Julia 0.4.7",
   "language": "julia",
   "name": "julia-0.4"
  },
  "language_info": {
   "file_extension": ".jl",
   "mimetype": "application/julia",
   "name": "julia",
   "version": "0.4.7"
  },
  "library_version": "1.0.0",
  "notebook_uuid": "be863b55-dede-4316-8555-55fe704f980e",
  "readOnly": false
 },
 "nbformat": 4,
 "nbformat_minor": 0
}
