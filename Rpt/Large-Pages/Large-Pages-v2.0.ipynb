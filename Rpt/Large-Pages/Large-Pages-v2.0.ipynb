{
 "cells": [
  {
   "cell_type": "code",
   "execution_count": 1,
   "metadata": {
    "collapsed": false,
    "input_collapsed": false
   },
   "outputs": [
    {
     "name": "stdout",
     "output_type": "stream",
     "text": [
      "Redshift endpoint set: 2017-11-14T08:12:08\n"
     ]
    },
    {
     "data": {
      "text/plain": [
       "\"beacons_4744_rt\""
      ]
     },
     "execution_count": 1,
     "metadata": {},
     "output_type": "execute_result"
    }
   ],
   "source": [
    "using ODBC\n",
    "using DataFrames\n",
    "using DSWB\n",
    "using Formatting\n",
    "\n",
    "dsn = \"dswb-natgeo\" # Redshift esetTable(tableRt, tableType = \"RESOURCE_TABLE\")ndpoint\n",
    "table = \"beacons_4744\" # beacon table name\n",
    "tableRt = \"beacons_4744_rt\"\n",
    "\n",
    "# Connect to Beacon Data\n",
    "setRedshiftEndpoint(dsn)\n",
    "setTable(table)\n",
    "setTable(tableRt, tableType = \"RESOURCE_TABLE\")"
   ]
  },
  {
   "cell_type": "code",
   "execution_count": 2,
   "metadata": {
    "collapsed": false,
    "input_collapsed": false
   },
   "outputs": [
    {
     "name": "stdout",
     "output_type": "stream",
     "text": [
      "November 6, 2017 23:59:00 to November 13, 2017 23:59:00 Local Time\n",
      "November 7, 2017 04:59:00 to November 14, 2017 04:59:00 UTC Time\n"
     ]
    }
   ],
   "source": [
    "# Packages\n",
    "include(\"/data/notebook_home/Production/Lib/Include-Package-v1.0.jl\")\n",
    "include(\"/data/notebook_home/Production/Bodies/Find-Large-Pages-Body-v1.0.jl\")\n",
    "\n",
    "#timeVariables(2017,6,8,10,59,2017,6,8,12,59)\n",
    "weeklyTimeVariables(days=7);\n",
    "#yesterdayTimeVariables()\n",
    ";"
   ]
  },
  {
   "cell_type": "code",
   "execution_count": 3,
   "metadata": {
    "collapsed": false,
    "input_collapsed": false
   },
   "outputs": [],
   "source": [
    "UP = UrlParamsInit()\n",
    "UP.beaconTable = table   #table\n",
    "UP.resourceTable = tableRt\n",
    "UP.btView = \"$(table)_find_large_pages_pview_prod\" #localtable\n",
    "UP.rtView = \"$(tableRt)_find_large_pages_pview_prod\" #localtableRt\n",
    "UP.pageGroup = \"Magazine AEM\"   #productPageGroup\n",
    "UP.urlRegEx = \"%\"   #localUrl\n",
    "UP.deviceType = \"Mobile\"\n",
    "\n",
    "SG = SoastaGraphsInit()\n",
    "customer = \"Nat Geo\" \n",
    "SG.customer = customer\n",
    "\n",
    "SP = ShowParamsInit()\n",
    "SP.debugLevel = 10;\n",
    "SP.debug = true;\n",
    ";\n",
    "\n",
    "linesOutput = 5\n",
    ";"
   ]
  },
  {
   "cell_type": "code",
   "execution_count": 4,
   "metadata": {
    "collapsed": false,
    "input_collapsed": false
   },
   "outputs": [
    {
     "name": "stdout",
     "output_type": "stream",
     "text": [
      "beacons_4744_find_large_pages_pview_prod count is 278017\n"
     ]
    }
   ],
   "source": [
    "defaultTableFLP(tv,UP)\n",
    ";"
   ]
  },
  {
   "cell_type": "code",
   "execution_count": 5,
   "metadata": {
    "collapsed": false,
    "input_collapsed": false,
    "scrolled": false
   },
   "outputs": [
    {
     "data": {
      "text/html": [
       "    <table  class=\"dataframe-table\">\n",
       "    <thead><tr><th class=\"cell-1\" style=\"\">urlgroup</th> <th class=\"cell-2\" style=\"\">session id</th> <th class=\"cell-3\" style=\"\">timestamp</th> <th class=\"cell-4\" style=\"\">encoded</th> <th class=\"cell-5\" style=\"\">transferred</th> <th class=\"cell-6\" style=\"\">decoded</th> <th class=\"cell-7\" style=\"\">count</th></tr></thead>\n",
       "    <tbody>\n",
       "    <tr><td class=\"cell-1\" style=\"\">https://www.nationalgeographic.com/magazine/2017/03/vikings-ships-realm-raiders-scandinavian</td> <td class=\"cell-2\" style=\"\">5a8c99f1-0024-45a9-b249-38175f96ca8b-oz2iv2</td> <td class=\"cell-3\" style=\"text-align:right;\">2017-11-07T22:10:38.465</td> <td class=\"cell-4\" style=\"text-align:right;\">64,639,106</td> <td class=\"cell-5\" style=\"text-align:right;\">118,534</td> <td class=\"cell-6\" style=\"text-align:right;\">3,795,251</td> <td class=\"cell-7\" style=\"text-align:right;\">83</td></tr>\n",
       "<tr><td class=\"cell-1\" style=\"\">https://www.nationalgeographic.com/magazine/2017/07/the-science-of-hummingbirds</td> <td class=\"cell-2\" style=\"\">9faa809e-3d48-4483-8428-1938c8479e9a-oza921</td> <td class=\"cell-3\" style=\"text-align:right;\">2017-11-12T02:19:06.271</td> <td class=\"cell-4\" style=\"text-align:right;\">43,064,565</td> <td class=\"cell-5\" style=\"text-align:right;\">42,974,841</td> <td class=\"cell-6\" style=\"text-align:right;\">4,955,283</td> <td class=\"cell-7\" style=\"text-align:right;\">36</td></tr>\n",
       "<tr><td class=\"cell-1\" style=\"\">https://www.nationalgeographic.com/magazine/2017/07/the-science-of-hummingbirds</td> <td class=\"cell-2\" style=\"\">9faa809e-3d48-4483-8428-1938c8479e9a-ozadgw</td> <td class=\"cell-3\" style=\"text-align:right;\">2017-11-12T03:57:29.16</td> <td class=\"cell-4\" style=\"text-align:right;\">36,613,227</td> <td class=\"cell-5\" style=\"text-align:right;\">36,471,103</td> <td class=\"cell-6\" style=\"text-align:right;\">5,112,594</td> <td class=\"cell-7\" style=\"text-align:right;\">44</td></tr>\n",
       "    \n",
       "    <tr><td class=\"cell-1\" style=\"\">https://www.nationalgeographic.com/magazine/2017/03/vikings-ships-realm-raiders-scandinavian</td> <td class=\"cell-2\" style=\"\">23cffd3e-bfa8-4da4-be22-ee026b7eb5ba-ozc5k0</td> <td class=\"cell-3\" style=\"text-align:right;\">2017-11-13T02:58:14.733</td> <td class=\"cell-4\" style=\"text-align:right;\">32,971,265</td> <td class=\"cell-5\" style=\"text-align:right;\">32,813,481</td> <td class=\"cell-6\" style=\"text-align:right;\">3,651,821</td> <td class=\"cell-7\" style=\"text-align:right;\">59</td></tr>\n",
       "<tr><td class=\"cell-1\" style=\"\">https://www.nationalgeographic.com/magazine/2017/03/vikings-ships-realm-raiders-scandinavian</td> <td class=\"cell-2\" style=\"\">90c618f0-09b2-4222-a303-634cdcc441bf-oz8w67</td> <td class=\"cell-3\" style=\"text-align:right;\">2017-11-11T08:42:26.202</td> <td class=\"cell-4\" style=\"text-align:right;\">32,931,224</td> <td class=\"cell-5\" style=\"text-align:right;\">32,846,247</td> <td class=\"cell-6\" style=\"text-align:right;\">3,557,963</td> <td class=\"cell-7\" style=\"text-align:right;\">57</td></tr>\n",
       "    </tbody>\n"
      ],
      "text/plain": [
       "HTML{UTF8String}(\"    <table  class=\\\"dataframe-table\\\">\\n    <thead><tr><th class=\\\"cell-1\\\" style=\\\"\\\">urlgroup</th> <th class=\\\"cell-2\\\" style=\\\"\\\">session id</th> <th class=\\\"cell-3\\\" style=\\\"\\\">timestamp</th> <th class=\\\"cell-4\\\" style=\\\"\\\">encoded</th> <th class=\\\"cell-5\\\" style=\\\"\\\">transferred</th> <th class=\\\"cell-6\\\" style=\\\"\\\">decoded</th> <th class=\\\"cell-7\\\" style=\\\"\\\">count</th></tr></thead>\\n    <tbody>\\n    <tr><td class=\\\"cell-1\\\" style=\\\"\\\">https://www.nationalgeographic.com/magazine/2017/03/vikings-ships-realm-raiders-scandinavian</td> <td class=\\\"cell-2\\\" style=\\\"\\\">5a8c99f1-0024-45a9-b249-38175f96ca8b-oz2iv2</td> <td class=\\\"cell-3\\\" style=\\\"text-align:right;\\\">2017-11-07T22:10:38.465</td> <td class=\\\"cell-4\\\" style=\\\"text-align:right;\\\">64,639,106</td> <td class=\\\"cell-5\\\" style=\\\"text-align:right;\\\">118,534</td> <td class=\\\"cell-6\\\" style=\\\"text-align:right;\\\">3,795,251</td> <td class=\\\"cell-7\\\" style=\\\"text-align:right;\\\">83</td></tr>\\n<tr><td class=\\\"cell-1\\\" style=\\\"\\\">https://www.nationalgeographic.com/magazine/2017/07/the-science-of-hummingbirds</td> <td class=\\\"cell-2\\\" style=\\\"\\\">9faa809e-3d48-4483-8428-1938c8479e9a-oza921</td> <td class=\\\"cell-3\\\" style=\\\"text-align:right;\\\">2017-11-12T02:19:06.271</td> <td class=\\\"cell-4\\\" style=\\\"text-align:right;\\\">43,064,565</td> <td class=\\\"cell-5\\\" style=\\\"text-align:right;\\\">42,974,841</td> <td class=\\\"cell-6\\\" style=\\\"text-align:right;\\\">4,955,283</td> <td class=\\\"cell-7\\\" style=\\\"text-align:right;\\\">36</td></tr>\\n<tr><td class=\\\"cell-1\\\" style=\\\"\\\">https://www.nationalgeographic.com/magazine/2017/07/the-science-of-hummingbirds</td> <td class=\\\"cell-2\\\" style=\\\"\\\">9faa809e-3d48-4483-8428-1938c8479e9a-ozadgw</td> <td class=\\\"cell-3\\\" style=\\\"text-align:right;\\\">2017-11-12T03:57:29.16</td> <td class=\\\"cell-4\\\" style=\\\"text-align:right;\\\">36,613,227</td> <td class=\\\"cell-5\\\" style=\\\"text-align:right;\\\">36,471,103</td> <td class=\\\"cell-6\\\" style=\\\"text-align:right;\\\">5,112,594</td> <td class=\\\"cell-7\\\" style=\\\"text-align:right;\\\">44</td></tr>\\n    \\n    <tr><td class=\\\"cell-1\\\" style=\\\"\\\">https://www.nationalgeographic.com/magazine/2017/03/vikings-ships-realm-raiders-scandinavian</td> <td class=\\\"cell-2\\\" style=\\\"\\\">23cffd3e-bfa8-4da4-be22-ee026b7eb5ba-ozc5k0</td> <td class=\\\"cell-3\\\" style=\\\"text-align:right;\\\">2017-11-13T02:58:14.733</td> <td class=\\\"cell-4\\\" style=\\\"text-align:right;\\\">32,971,265</td> <td class=\\\"cell-5\\\" style=\\\"text-align:right;\\\">32,813,481</td> <td class=\\\"cell-6\\\" style=\\\"text-align:right;\\\">3,651,821</td> <td class=\\\"cell-7\\\" style=\\\"text-align:right;\\\">59</td></tr>\\n<tr><td class=\\\"cell-1\\\" style=\\\"\\\">https://www.nationalgeographic.com/magazine/2017/03/vikings-ships-realm-raiders-scandinavian</td> <td class=\\\"cell-2\\\" style=\\\"\\\">90c618f0-09b2-4222-a303-634cdcc441bf-oz8w67</td> <td class=\\\"cell-3\\\" style=\\\"text-align:right;\\\">2017-11-11T08:42:26.202</td> <td class=\\\"cell-4\\\" style=\\\"text-align:right;\\\">32,931,224</td> <td class=\\\"cell-5\\\" style=\\\"text-align:right;\\\">32,846,247</td> <td class=\\\"cell-6\\\" style=\\\"text-align:right;\\\">3,557,963</td> <td class=\\\"cell-7\\\" style=\\\"text-align:right;\\\">57</td></tr>\\n    </tbody>\\n\")"
      ]
     },
     "metadata": {},
     "output_type": "display_data"
    }
   ],
   "source": [
    "joinTables = DataFrame()\n",
    "joinTables = joinTableTableFLP(tv,UP)\n",
    ";"
   ]
  },
  {
   "cell_type": "code",
   "execution_count": 6,
   "metadata": {
    "collapsed": false,
    "input_collapsed": false
   },
   "outputs": [
    {
     "data": {
      "text/html": [
       "    <table  class=\"dataframe-table\">\n",
       "    <thead><tr><th class=\"cell-1\" style=\"\">urlgroup</th> <th class=\"cell-2\" style=\"\">encoded</th> <th class=\"cell-3\" style=\"\">transferred</th> <th class=\"cell-4\" style=\"\">decoded</th></tr></thead>\n",
       "    <tbody>\n",
       "    <tr><td class=\"cell-1\" style=\"\">https://www.nationalgeographic.com/magazine/2017/03/vikings-ships-realm-raiders-scandinavian</td> <td class=\"cell-2\" style=\"text-align:right;\">64,639,106</td> <td class=\"cell-3\" style=\"text-align:right;\">118,534</td> <td class=\"cell-4\" style=\"text-align:right;\">3,795,251</td></tr>\n",
       "<tr><td class=\"cell-1\" style=\"\">https://www.nationalgeographic.com/magazine/2017/07/the-science-of-hummingbirds</td> <td class=\"cell-2\" style=\"text-align:right;\">43,064,565</td> <td class=\"cell-3\" style=\"text-align:right;\">42,974,841</td> <td class=\"cell-4\" style=\"text-align:right;\">4,955,283</td></tr>\n",
       "<tr><td class=\"cell-1\" style=\"\">https://www.nationalgeographic.com/magazine/2017/06/nodosaur-3d-interactive-dinosaur-fossil</td> <td class=\"cell-2\" style=\"text-align:right;\">31,922,702</td> <td class=\"cell-3\" style=\"text-align:right;\">30,322,061</td> <td class=\"cell-4\" style=\"\"></td></tr>\n",
       "    \n",
       "    <tr><td class=\"cell-1\" style=\"\">https://www.nationalgeographic.com/magazine/2017/01/children-explain-how-gender-affects-their-lives</td> <td class=\"cell-2\" style=\"text-align:right;\">30,057,377</td> <td class=\"cell-3\" style=\"text-align:right;\">29,668,159</td> <td class=\"cell-4\" style=\"text-align:right;\">209,278</td></tr>\n",
       "<tr><td class=\"cell-1\" style=\"\">https://www.nationalgeographic.com/magazine/2016/05/yellowstone-national-parks-supervolcano-animation</td> <td class=\"cell-2\" style=\"text-align:right;\">28,687,712</td> <td class=\"cell-3\" style=\"text-align:right;\">114,057</td> <td class=\"cell-4\" style=\"text-align:right;\">3,444,328</td></tr>\n",
       "    </tbody>\n"
      ],
      "text/plain": [
       "HTML{UTF8String}(\"    <table  class=\\\"dataframe-table\\\">\\n    <thead><tr><th class=\\\"cell-1\\\" style=\\\"\\\">urlgroup</th> <th class=\\\"cell-2\\\" style=\\\"\\\">encoded</th> <th class=\\\"cell-3\\\" style=\\\"\\\">transferred</th> <th class=\\\"cell-4\\\" style=\\\"\\\">decoded</th></tr></thead>\\n    <tbody>\\n    <tr><td class=\\\"cell-1\\\" style=\\\"\\\">https://www.nationalgeographic.com/magazine/2017/03/vikings-ships-realm-raiders-scandinavian</td> <td class=\\\"cell-2\\\" style=\\\"text-align:right;\\\">64,639,106</td> <td class=\\\"cell-3\\\" style=\\\"text-align:right;\\\">118,534</td> <td class=\\\"cell-4\\\" style=\\\"text-align:right;\\\">3,795,251</td></tr>\\n<tr><td class=\\\"cell-1\\\" style=\\\"\\\">https://www.nationalgeographic.com/magazine/2017/07/the-science-of-hummingbirds</td> <td class=\\\"cell-2\\\" style=\\\"text-align:right;\\\">43,064,565</td> <td class=\\\"cell-3\\\" style=\\\"text-align:right;\\\">42,974,841</td> <td class=\\\"cell-4\\\" style=\\\"text-align:right;\\\">4,955,283</td></tr>\\n<tr><td class=\\\"cell-1\\\" style=\\\"\\\">https://www.nationalgeographic.com/magazine/2017/06/nodosaur-3d-interactive-dinosaur-fossil</td> <td class=\\\"cell-2\\\" style=\\\"text-align:right;\\\">31,922,702</td> <td class=\\\"cell-3\\\" style=\\\"text-align:right;\\\">30,322,061</td> <td class=\\\"cell-4\\\" style=\\\"\\\"></td></tr>\\n    \\n    <tr><td class=\\\"cell-1\\\" style=\\\"\\\">https://www.nationalgeographic.com/magazine/2017/01/children-explain-how-gender-affects-their-lives</td> <td class=\\\"cell-2\\\" style=\\\"text-align:right;\\\">30,057,377</td> <td class=\\\"cell-3\\\" style=\\\"text-align:right;\\\">29,668,159</td> <td class=\\\"cell-4\\\" style=\\\"text-align:right;\\\">209,278</td></tr>\\n<tr><td class=\\\"cell-1\\\" style=\\\"\\\">https://www.nationalgeographic.com/magazine/2016/05/yellowstone-national-parks-supervolcano-animation</td> <td class=\\\"cell-2\\\" style=\\\"text-align:right;\\\">28,687,712</td> <td class=\\\"cell-3\\\" style=\\\"text-align:right;\\\">114,057</td> <td class=\\\"cell-4\\\" style=\\\"text-align:right;\\\">3,444,328</td></tr>\\n    </tbody>\\n\")"
      ]
     },
     "metadata": {},
     "output_type": "display_data"
    }
   ],
   "source": [
    "joinTableSummary = DataFrame()\n",
    "joinTableSummary = joinTableSummaryFLP(joinTables)\n",
    "beautifyDF(joinTableSummary[1:min(linesOutput,end),[:urlgroup,:encoded,:transferred,:decoded]])\n",
    ";"
   ]
  },
  {
   "cell_type": "code",
   "execution_count": 7,
   "metadata": {
    "collapsed": false,
    "input_collapsed": false,
    "scrolled": false
   },
   "outputs": [
    {
     "data": {
      "text/html": [
       "<div class=\"dswbOutputText\"><h1 class=\"chart_title\" style=\"color:#ccc\">Large Requests for: https://www.nationalgeographic.com/magazine/2017/03/vikings-ships-realm-raiders-scandinavian</h1><h3 class=\"chart_info\" style=\"color:#ccc\">November 6, 2017 23:59:00 to November 13, 2017 23:59:00 Local Time</h3></div>"
      ]
     },
     "metadata": {},
     "output_type": "display_data"
    },
    {
     "data": {
      "text/html": [
       "    <table  class=\"dataframe-table\">\n",
       "    <thead><tr><th class=\"cell-1\" style=\"\">start time</th> <th class=\"cell-2\" style=\"\">encoded size</th> <th class=\"cell-3\" style=\"\">transferred size</th> <th class=\"cell-4\" style=\"\">decoded size</th> <th class=\"cell-5\" style=\"\">urlgroup</th></tr></thead>\n",
       "    <tbody>\n",
       "    <tr><td class=\"cell-1\" style=\"text-align:right;\">1,090</td> <td class=\"cell-2\" style=\"text-align:right;\">3,379,446</td> <td class=\"cell-3\" style=\"text-align:right;\">0</td> <td class=\"cell-4\" style=\"\"></td> <td class=\"cell-5\" style=\"\">https://www.nationalgeographic.com/interactive-assets/nggraphics/vikingsettlements-graphic/build-2017-03-27_16-28-31/assets/img/ship-graphic-mobile-tablet.png</td></tr>\n",
       "<tr><td class=\"cell-1\" style=\"text-align:right;\">1,091</td> <td class=\"cell-2\" style=\"text-align:right;\">9,262,700</td> <td class=\"cell-3\" style=\"text-align:right;\">0</td> <td class=\"cell-4\" style=\"\"></td> <td class=\"cell-5\" style=\"\">https://www.nationalgeographic.com/interactive-assets/nggraphics/vikingsettlements-graphic/build-2017-03-27_16-28-31/assets/img/ship-graphic-desktop.png</td></tr>\n",
       "<tr><td class=\"cell-1\" style=\"text-align:right;\">1,092</td> <td class=\"cell-2\" style=\"text-align:right;\">1,835,535</td> <td class=\"cell-3\" style=\"text-align:right;\">0</td> <td class=\"cell-4\" style=\"\"></td> <td class=\"cell-5\" style=\"\">https://www.nationalgeographic.com/interactive-assets/nggraphics/vikingsettlements-graphic/build-2017-03-27_16-28-31/assets/img/graphic-mobile-tablet.png</td></tr>\n",
       "<tr><td class=\"cell-1\" style=\"text-align:right;\">1,093</td> <td class=\"cell-2\" style=\"text-align:right;\">5,684,155</td> <td class=\"cell-3\" style=\"text-align:right;\">0</td> <td class=\"cell-4\" style=\"\"></td> <td class=\"cell-5\" style=\"\">https://www.nationalgeographic.com/interactive-assets/nggraphics/vikingsettlements-graphic/build-2017-03-27_16-28-31/assets/img/graphic-desktop.png</td></tr>\n",
       "<tr><td class=\"cell-1\" style=\"text-align:right;\">1,104</td> <td class=\"cell-2\" style=\"text-align:right;\">3,231,654</td> <td class=\"cell-3\" style=\"text-align:right;\">0</td> <td class=\"cell-4\" style=\"\"></td> <td class=\"cell-5\" style=\"\">https://www.nationalgeographic.com/interactive-assets/nggraphics/vikingsettlements-graphic/build-2017-03-27_16-28-31/assets/img/couples_both-tablet.png</td></tr>\n",
       "<tr><td class=\"cell-1\" style=\"text-align:right;\">1,105</td> <td class=\"cell-2\" style=\"text-align:right;\">3,048,454</td> <td class=\"cell-3\" style=\"text-align:right;\">0</td> <td class=\"cell-4\" style=\"\"></td> <td class=\"cell-5\" style=\"\">https://www.nationalgeographic.com/interactive-assets/nggraphics/vikingsettlements-graphic/build-2017-03-27_16-28-31/assets/img/couples_rus-tablet.png</td></tr>\n",
       "<tr><td class=\"cell-1\" style=\"text-align:right;\">1,105</td> <td class=\"cell-2\" style=\"text-align:right;\">3,536,378</td> <td class=\"cell-3\" style=\"text-align:right;\">0</td> <td class=\"cell-4\" style=\"\"></td> <td class=\"cell-5\" style=\"\">https://www.nationalgeographic.com/interactive-assets/nggraphics/vikingsettlements-graphic/build-2017-03-27_16-28-31/assets/img/couples_both-desktop.png</td></tr>\n",
       "    \n",
       "    <tr><td class=\"cell-1\" style=\"text-align:right;\">1,353</td> <td class=\"cell-2\" style=\"text-align:right;\">3,379,446</td> <td class=\"cell-3\" style=\"text-align:right;\">0</td> <td class=\"cell-4\" style=\"\"></td> <td class=\"cell-5\" style=\"\">https://www.nationalgeographic.com/interactive-assets/nggraphics/vikingsettlements-graphic/build-2017-03-27_16-28-31/assets/img/ship-graphic-mobile-tablet.png</td></tr>\n",
       "<tr><td class=\"cell-1\" style=\"text-align:right;\">1,353</td> <td class=\"cell-2\" style=\"text-align:right;\">9,262,700</td> <td class=\"cell-3\" style=\"text-align:right;\">0</td> <td class=\"cell-4\" style=\"\"></td> <td class=\"cell-5\" style=\"\">https://www.nationalgeographic.com/interactive-assets/nggraphics/vikingsettlements-graphic/build-2017-03-27_16-28-31/assets/img/ship-graphic-desktop.png</td></tr>\n",
       "<tr><td class=\"cell-1\" style=\"text-align:right;\">1,354</td> <td class=\"cell-2\" style=\"text-align:right;\">3,231,654</td> <td class=\"cell-3\" style=\"text-align:right;\">0</td> <td class=\"cell-4\" style=\"\"></td> <td class=\"cell-5\" style=\"\">https://www.nationalgeographic.com/interactive-assets/nggraphics/vikingsettlements-graphic/build-2017-03-27_16-28-31/assets/img/couples_both-tablet.png</td></tr>\n",
       "<tr><td class=\"cell-1\" style=\"text-align:right;\">1,354</td> <td class=\"cell-2\" style=\"text-align:right;\">3,536,378</td> <td class=\"cell-3\" style=\"text-align:right;\">0</td> <td class=\"cell-4\" style=\"\"></td> <td class=\"cell-5\" style=\"\">https://www.nationalgeographic.com/interactive-assets/nggraphics/vikingsettlements-graphic/build-2017-03-27_16-28-31/assets/img/couples_both-desktop.png</td></tr>\n",
       "<tr><td class=\"cell-1\" style=\"text-align:right;\">1,354</td> <td class=\"cell-2\" style=\"text-align:right;\">1,835,535</td> <td class=\"cell-3\" style=\"text-align:right;\">0</td> <td class=\"cell-4\" style=\"\"></td> <td class=\"cell-5\" style=\"\">https://www.nationalgeographic.com/interactive-assets/nggraphics/vikingsettlements-graphic/build-2017-03-27_16-28-31/assets/img/graphic-mobile-tablet.png</td></tr>\n",
       "<tr><td class=\"cell-1\" style=\"text-align:right;\">1,354</td> <td class=\"cell-2\" style=\"text-align:right;\">5,684,155</td> <td class=\"cell-3\" style=\"text-align:right;\">0</td> <td class=\"cell-4\" style=\"\"></td> <td class=\"cell-5\" style=\"\">https://www.nationalgeographic.com/interactive-assets/nggraphics/vikingsettlements-graphic/build-2017-03-27_16-28-31/assets/img/graphic-desktop.png</td></tr>\n",
       "<tr><td class=\"cell-1\" style=\"text-align:right;\">1,355</td> <td class=\"cell-2\" style=\"text-align:right;\">3,048,454</td> <td class=\"cell-3\" style=\"text-align:right;\">0</td> <td class=\"cell-4\" style=\"\"></td> <td class=\"cell-5\" style=\"\">https://www.nationalgeographic.com/interactive-assets/nggraphics/vikingsettlements-graphic/build-2017-03-27_16-28-31/assets/img/couples_rus-tablet.png</td></tr>\n",
       "    </tbody>\n"
      ],
      "text/plain": [
       "HTML{UTF8String}(\"    <table  class=\\\"dataframe-table\\\">\\n    <thead><tr><th class=\\\"cell-1\\\" style=\\\"\\\">start time</th> <th class=\\\"cell-2\\\" style=\\\"\\\">encoded size</th> <th class=\\\"cell-3\\\" style=\\\"\\\">transferred size</th> <th class=\\\"cell-4\\\" style=\\\"\\\">decoded size</th> <th class=\\\"cell-5\\\" style=\\\"\\\">urlgroup</th></tr></thead>\\n    <tbody>\\n    <tr><td class=\\\"cell-1\\\" style=\\\"text-align:right;\\\">1,090</td> <td class=\\\"cell-2\\\" style=\\\"text-align:right;\\\">3,379,446</td> <td class=\\\"cell-3\\\" style=\\\"text-align:right;\\\">0</td> <td class=\\\"cell-4\\\" style=\\\"\\\"></td> <td class=\\\"cell-5\\\" style=\\\"\\\">https://www.nationalgeographic.com/interactive-assets/nggraphics/vikingsettlements-graphic/build-2017-03-27_16-28-31/assets/img/ship-graphic-mobile-tablet.png</td></tr>\\n<tr><td class=\\\"cell-1\\\" style=\\\"text-align:right;\\\">1,091</td> <td class=\\\"cell-2\\\" style=\\\"text-align:right;\\\">9,262,700</td> <td class=\\\"cell-3\\\" style=\\\"text-align:right;\\\">0</td> <td class=\\\"cell-4\\\" style=\\\"\\\"></td> <td class=\\\"cell-5\\\" style=\\\"\\\">https://www.nationalgeographic.com/interactive-assets/nggraphics/vikingsettlements-graphic/build-2017-03-27_16-28-31/assets/img/ship-graphic-desktop.png</td></tr>\\n<tr><td class=\\\"cell-1\\\" style=\\\"text-align:right;\\\">1,092</td> <td class=\\\"cell-2\\\" style=\\\"text-align:right;\\\">1,835,535</td> <td class=\\\"cell-3\\\" style=\\\"text-align:right;\\\">0</td> <td class=\\\"cell-4\\\" style=\\\"\\\"></td> <td class=\\\"cell-5\\\" style=\\\"\\\">https://www.nationalgeographic.com/interactive-assets/nggraphics/vikingsettlements-graphic/build-2017-03-27_16-28-31/assets/img/graphic-mobile-tablet.png</td></tr>\\n<tr><td class=\\\"cell-1\\\" style=\\\"text-align:right;\\\">1,093</td> <td class=\\\"cell-2\\\" style=\\\"text-align:right;\\\">5,684,155</td> <td class=\\\"cell-3\\\" style=\\\"text-align:right;\\\">0</td> <td class=\\\"cell-4\\\" style=\\\"\\\"></td> <td class=\\\"cell-5\\\" style=\\\"\\\">https://www.nationalgeographic.com/interactive-assets/nggraphics/vikingsettlements-graphic/build-2017-03-27_16-28-31/assets/img/graphic-desktop.png</td></tr>\\n<tr><td class=\\\"cell-1\\\" style=\\\"text-align:right;\\\">1,104</td> <td class=\\\"cell-2\\\" style=\\\"text-align:right;\\\">3,231,654</td> <td class=\\\"cell-3\\\" style=\\\"text-align:right;\\\">0</td> <td class=\\\"cell-4\\\" style=\\\"\\\"></td> <td class=\\\"cell-5\\\" style=\\\"\\\">https://www.nationalgeographic.com/interactive-assets/nggraphics/vikingsettlements-graphic/build-2017-03-27_16-28-31/assets/img/couples_both-tablet.png</td></tr>\\n<tr><td class=\\\"cell-1\\\" style=\\\"text-align:right;\\\">1,105</td> <td class=\\\"cell-2\\\" style=\\\"text-align:right;\\\">3,048,454</td> <td class=\\\"cell-3\\\" style=\\\"text-align:right;\\\">0</td> <td class=\\\"cell-4\\\" style=\\\"\\\"></td> <td class=\\\"cell-5\\\" style=\\\"\\\">https://www.nationalgeographic.com/interactive-assets/nggraphics/vikingsettlements-graphic/build-2017-03-27_16-28-31/assets/img/couples_rus-tablet.png</td></tr>\\n<tr><td class=\\\"cell-1\\\" style=\\\"text-align:right;\\\">1,105</td> <td class=\\\"cell-2\\\" style=\\\"text-align:right;\\\">3,536,378</td> <td class=\\\"cell-3\\\" style=\\\"text-align:right;\\\">0</td> <td class=\\\"cell-4\\\" style=\\\"\\\"></td> <td class=\\\"cell-5\\\" style=\\\"\\\">https://www.nationalgeographic.com/interactive-assets/nggraphics/vikingsettlements-graphic/build-2017-03-27_16-28-31/assets/img/couples_both-desktop.png</td></tr>\\n    \\n    <tr><td class=\\\"cell-1\\\" style=\\\"text-align:right;\\\">1,353</td> <td class=\\\"cell-2\\\" style=\\\"text-align:right;\\\">3,379,446</td> <td class=\\\"cell-3\\\" style=\\\"text-align:right;\\\">0</td> <td class=\\\"cell-4\\\" style=\\\"\\\"></td> <td class=\\\"cell-5\\\" style=\\\"\\\">https://www.nationalgeographic.com/interactive-assets/nggraphics/vikingsettlements-graphic/build-2017-03-27_16-28-31/assets/img/ship-graphic-mobile-tablet.png</td></tr>\\n<tr><td class=\\\"cell-1\\\" style=\\\"text-align:right;\\\">1,353</td> <td class=\\\"cell-2\\\" style=\\\"text-align:right;\\\">9,262,700</td> <td class=\\\"cell-3\\\" style=\\\"text-align:right;\\\">0</td> <td class=\\\"cell-4\\\" style=\\\"\\\"></td> <td class=\\\"cell-5\\\" style=\\\"\\\">https://www.nationalgeographic.com/interactive-assets/nggraphics/vikingsettlements-graphic/build-2017-03-27_16-28-31/assets/img/ship-graphic-desktop.png</td></tr>\\n<tr><td class=\\\"cell-1\\\" style=\\\"text-align:right;\\\">1,354</td> <td class=\\\"cell-2\\\" style=\\\"text-align:right;\\\">3,231,654</td> <td class=\\\"cell-3\\\" style=\\\"text-align:right;\\\">0</td> <td class=\\\"cell-4\\\" style=\\\"\\\"></td> <td class=\\\"cell-5\\\" style=\\\"\\\">https://www.nationalgeographic.com/interactive-assets/nggraphics/vikingsettlements-graphic/build-2017-03-27_16-28-31/assets/img/couples_both-tablet.png</td></tr>\\n<tr><td class=\\\"cell-1\\\" style=\\\"text-align:right;\\\">1,354</td> <td class=\\\"cell-2\\\" style=\\\"text-align:right;\\\">3,536,378</td> <td class=\\\"cell-3\\\" style=\\\"text-align:right;\\\">0</td> <td class=\\\"cell-4\\\" style=\\\"\\\"></td> <td class=\\\"cell-5\\\" style=\\\"\\\">https://www.nationalgeographic.com/interactive-assets/nggraphics/vikingsettlements-graphic/build-2017-03-27_16-28-31/assets/img/couples_both-desktop.png</td></tr>\\n<tr><td class=\\\"cell-1\\\" style=\\\"text-align:right;\\\">1,354</td> <td class=\\\"cell-2\\\" style=\\\"text-align:right;\\\">1,835,535</td> <td class=\\\"cell-3\\\" style=\\\"text-align:right;\\\">0</td> <td class=\\\"cell-4\\\" style=\\\"\\\"></td> <td class=\\\"cell-5\\\" style=\\\"\\\">https://www.nationalgeographic.com/interactive-assets/nggraphics/vikingsettlements-graphic/build-2017-03-27_16-28-31/assets/img/graphic-mobile-tablet.png</td></tr>\\n<tr><td class=\\\"cell-1\\\" style=\\\"text-align:right;\\\">1,354</td> <td class=\\\"cell-2\\\" style=\\\"text-align:right;\\\">5,684,155</td> <td class=\\\"cell-3\\\" style=\\\"text-align:right;\\\">0</td> <td class=\\\"cell-4\\\" style=\\\"\\\"></td> <td class=\\\"cell-5\\\" style=\\\"\\\">https://www.nationalgeographic.com/interactive-assets/nggraphics/vikingsettlements-graphic/build-2017-03-27_16-28-31/assets/img/graphic-desktop.png</td></tr>\\n<tr><td class=\\\"cell-1\\\" style=\\\"text-align:right;\\\">1,355</td> <td class=\\\"cell-2\\\" style=\\\"text-align:right;\\\">3,048,454</td> <td class=\\\"cell-3\\\" style=\\\"text-align:right;\\\">0</td> <td class=\\\"cell-4\\\" style=\\\"\\\"></td> <td class=\\\"cell-5\\\" style=\\\"\\\">https://www.nationalgeographic.com/interactive-assets/nggraphics/vikingsettlements-graphic/build-2017-03-27_16-28-31/assets/img/couples_rus-tablet.png</td></tr>\\n    </tbody>\\n\")"
      ]
     },
     "metadata": {},
     "output_type": "display_data"
    },
    {
     "data": {
      "text/html": [
       "<div class=\"dswbOutputText\"><h1 class=\"chart_title\" style=\"color:#ccc\">Large Request Stats for: https://www.nationalgeographic.com/magazine/2017/03/vikings-ships-realm-raiders-scandinavian</h1><h3 class=\"chart_info\" style=\"color:#ccc\">November 6, 2017 23:59:00 to November 13, 2017 23:59:00 Local Time</h3></div>"
      ]
     },
     "metadata": {},
     "output_type": "display_data"
    },
    {
     "data": {
      "text/html": [
       "    <table  class=\"dataframe-table\">\n",
       "    <thead><tr><th class=\"cell-1\" style=\"\">RefGroup</th> <th class=\"cell-2\" style=\"\">Unit</th> <th class=\"cell-3\" style=\"\">Count</th> <th class=\"cell-4\" style=\"\">Mean</th> <th class=\"cell-5\" style=\"\">Median</th> <th class=\"cell-6\" style=\"\">Min</th> <th class=\"cell-7\" style=\"\">Max</th></tr></thead>\n",
       "    <tbody>\n",
       "    <tr><td class=\"cell-1\" style=\"\">Desktop</td> <td class=\"cell-2\" style=\"\">seconds</td> <td class=\"cell-3\" style=\"text-align:right;\">131</td> <td class=\"cell-4\" style=\"text-align:right;\">27.19</td> <td class=\"cell-5\" style=\"text-align:right;\">13.092</td> <td class=\"cell-6\" style=\"text-align:right;\">1.838</td> <td class=\"cell-7\" style=\"text-align:right;\">260.761</td></tr>\n",
       "<tr><td class=\"cell-1\" style=\"\">Mobile</td> <td class=\"cell-2\" style=\"\">seconds</td> <td class=\"cell-3\" style=\"text-align:right;\">30</td> <td class=\"cell-4\" style=\"text-align:right;\">37.363</td> <td class=\"cell-5\" style=\"text-align:right;\">18.194</td> <td class=\"cell-6\" style=\"text-align:right;\">4.806</td> <td class=\"cell-7\" style=\"text-align:right;\">257.762</td></tr>\n",
       "    \n",
       "    <tr><td class=\"cell-1\" style=\"\">Tablet</td> <td class=\"cell-2\" style=\"\">seconds</td> <td class=\"cell-3\" style=\"text-align:right;\">8</td> <td class=\"cell-4\" style=\"text-align:right;\">35.717</td> <td class=\"cell-5\" style=\"text-align:right;\">12.168</td> <td class=\"cell-6\" style=\"text-align:right;\">2.979</td> <td class=\"cell-7\" style=\"text-align:right;\">181.628</td></tr>\n",
       "    </tbody>\n"
      ],
      "text/plain": [
       "HTML{UTF8String}(\"    <table  class=\\\"dataframe-table\\\">\\n    <thead><tr><th class=\\\"cell-1\\\" style=\\\"\\\">RefGroup</th> <th class=\\\"cell-2\\\" style=\\\"\\\">Unit</th> <th class=\\\"cell-3\\\" style=\\\"\\\">Count</th> <th class=\\\"cell-4\\\" style=\\\"\\\">Mean</th> <th class=\\\"cell-5\\\" style=\\\"\\\">Median</th> <th class=\\\"cell-6\\\" style=\\\"\\\">Min</th> <th class=\\\"cell-7\\\" style=\\\"\\\">Max</th></tr></thead>\\n    <tbody>\\n    <tr><td class=\\\"cell-1\\\" style=\\\"\\\">Desktop</td> <td class=\\\"cell-2\\\" style=\\\"\\\">seconds</td> <td class=\\\"cell-3\\\" style=\\\"text-align:right;\\\">131</td> <td class=\\\"cell-4\\\" style=\\\"text-align:right;\\\">27.19</td> <td class=\\\"cell-5\\\" style=\\\"text-align:right;\\\">13.092</td> <td class=\\\"cell-6\\\" style=\\\"text-align:right;\\\">1.838</td> <td class=\\\"cell-7\\\" style=\\\"text-align:right;\\\">260.761</td></tr>\\n<tr><td class=\\\"cell-1\\\" style=\\\"\\\">Mobile</td> <td class=\\\"cell-2\\\" style=\\\"\\\">seconds</td> <td class=\\\"cell-3\\\" style=\\\"text-align:right;\\\">30</td> <td class=\\\"cell-4\\\" style=\\\"text-align:right;\\\">37.363</td> <td class=\\\"cell-5\\\" style=\\\"text-align:right;\\\">18.194</td> <td class=\\\"cell-6\\\" style=\\\"text-align:right;\\\">4.806</td> <td class=\\\"cell-7\\\" style=\\\"text-align:right;\\\">257.762</td></tr>\\n    \\n    <tr><td class=\\\"cell-1\\\" style=\\\"\\\">Tablet</td> <td class=\\\"cell-2\\\" style=\\\"\\\">seconds</td> <td class=\\\"cell-3\\\" style=\\\"text-align:right;\\\">8</td> <td class=\\\"cell-4\\\" style=\\\"text-align:right;\\\">35.717</td> <td class=\\\"cell-5\\\" style=\\\"text-align:right;\\\">12.168</td> <td class=\\\"cell-6\\\" style=\\\"text-align:right;\\\">2.979</td> <td class=\\\"cell-7\\\" style=\\\"text-align:right;\\\">181.628</td></tr>\\n    </tbody>\\n\")"
      ]
     },
     "metadata": {},
     "output_type": "display_data"
    },
    {
     "data": {
      "text/html": [
       "<div class=\"dswbOutputText\"><h1 class=\"chart_title\" style=\"color:#ccc\">Large Requests for: https://www.nationalgeographic.com/magazine/2017/07/the-science-of-hummingbirds</h1><h3 class=\"chart_info\" style=\"color:#ccc\">November 6, 2017 23:59:00 to November 13, 2017 23:59:00 Local Time</h3></div>"
      ]
     },
     "metadata": {},
     "output_type": "display_data"
    },
    {
     "data": {
      "text/html": [
       "    <table  class=\"dataframe-table\">\n",
       "    <thead><tr><th class=\"cell-1\" style=\"\">start time</th> <th class=\"cell-2\" style=\"\">encoded size</th> <th class=\"cell-3\" style=\"\">transferred size</th> <th class=\"cell-4\" style=\"\">decoded size</th> <th class=\"cell-5\" style=\"\">urlgroup</th></tr></thead>\n",
       "    <tbody>\n",
       "    <tr><td class=\"cell-1\" style=\"text-align:right;\">19,104</td> <td class=\"cell-2\" style=\"text-align:right;\">3,508,194</td> <td class=\"cell-3\" style=\"text-align:right;\">3,508,578</td> <td class=\"cell-4\" style=\"\"></td> <td class=\"cell-5\" style=\"\">https://www.nationalgeographic.com/interactive-assets/nggraphics/ngm-hummingbirds/build-2017-07-07_10-39-04/ngm-assets/videos/intro-1920.mp4</td></tr>\n",
       "<tr><td class=\"cell-1\" style=\"text-align:right;\">19,105</td> <td class=\"cell-2\" style=\"text-align:right;\">3,196,752</td> <td class=\"cell-3\" style=\"text-align:right;\">3,197,139</td> <td class=\"cell-4\" style=\"\"></td> <td class=\"cell-5\" style=\"\">https://www.nationalgeographic.com/interactive-assets/nggraphics/ngm-hummingbirds/build-2017-07-07_10-39-04/ngm-assets/videos/basic-1920.mp4</td></tr>\n",
       "<tr><td class=\"cell-1\" style=\"text-align:right;\">19,106</td> <td class=\"cell-2\" style=\"text-align:right;\">13,533,307</td> <td class=\"cell-3\" style=\"text-align:right;\">13,533,694</td> <td class=\"cell-4\" style=\"\"></td> <td class=\"cell-5\" style=\"\">https://www.nationalgeographic.com/interactive-assets/nggraphics/ngm-hummingbirds/build-2017-07-07_10-39-04/ngm-assets/videos/tongue0-1920.mp4</td></tr>\n",
       "    \n",
       "    <tr><td class=\"cell-1\" style=\"text-align:right;\">19,106</td> <td class=\"cell-2\" style=\"text-align:right;\">14,610,578</td> <td class=\"cell-3\" style=\"text-align:right;\">14,610,965</td> <td class=\"cell-4\" style=\"\"></td> <td class=\"cell-5\" style=\"\">https://www.nationalgeographic.com/interactive-assets/nggraphics/ngm-hummingbirds/build-2017-07-07_10-39-04/ngm-assets/videos/tongue1-1920.mp4</td></tr>\n",
       "<tr><td class=\"cell-1\" style=\"text-align:right;\">19,106</td> <td class=\"cell-2\" style=\"text-align:right;\">4,121,568</td> <td class=\"cell-3\" style=\"text-align:right;\">4,121,952</td> <td class=\"cell-4\" style=\"\"></td> <td class=\"cell-5\" style=\"\">https://www.nationalgeographic.com/interactive-assets/nggraphics/ngm-hummingbirds/build-2017-07-07_10-39-04/ngm-assets/videos/brain-1920.mp4</td></tr>\n",
       "<tr><td class=\"cell-1\" style=\"text-align:right;\">19,107</td> <td class=\"cell-2\" style=\"text-align:right;\">2,800,459</td> <td class=\"cell-3\" style=\"text-align:right;\">2,800,843</td> <td class=\"cell-4\" style=\"\"></td> <td class=\"cell-5\" style=\"\">https://www.nationalgeographic.com/interactive-assets/nggraphics/ngm-hummingbirds/build-2017-07-07_10-39-04/ngm-assets/videos/wing1-1920.mp4</td></tr>\n",
       "    </tbody>\n"
      ],
      "text/plain": [
       "HTML{UTF8String}(\"    <table  class=\\\"dataframe-table\\\">\\n    <thead><tr><th class=\\\"cell-1\\\" style=\\\"\\\">start time</th> <th class=\\\"cell-2\\\" style=\\\"\\\">encoded size</th> <th class=\\\"cell-3\\\" style=\\\"\\\">transferred size</th> <th class=\\\"cell-4\\\" style=\\\"\\\">decoded size</th> <th class=\\\"cell-5\\\" style=\\\"\\\">urlgroup</th></tr></thead>\\n    <tbody>\\n    <tr><td class=\\\"cell-1\\\" style=\\\"text-align:right;\\\">19,104</td> <td class=\\\"cell-2\\\" style=\\\"text-align:right;\\\">3,508,194</td> <td class=\\\"cell-3\\\" style=\\\"text-align:right;\\\">3,508,578</td> <td class=\\\"cell-4\\\" style=\\\"\\\"></td> <td class=\\\"cell-5\\\" style=\\\"\\\">https://www.nationalgeographic.com/interactive-assets/nggraphics/ngm-hummingbirds/build-2017-07-07_10-39-04/ngm-assets/videos/intro-1920.mp4</td></tr>\\n<tr><td class=\\\"cell-1\\\" style=\\\"text-align:right;\\\">19,105</td> <td class=\\\"cell-2\\\" style=\\\"text-align:right;\\\">3,196,752</td> <td class=\\\"cell-3\\\" style=\\\"text-align:right;\\\">3,197,139</td> <td class=\\\"cell-4\\\" style=\\\"\\\"></td> <td class=\\\"cell-5\\\" style=\\\"\\\">https://www.nationalgeographic.com/interactive-assets/nggraphics/ngm-hummingbirds/build-2017-07-07_10-39-04/ngm-assets/videos/basic-1920.mp4</td></tr>\\n<tr><td class=\\\"cell-1\\\" style=\\\"text-align:right;\\\">19,106</td> <td class=\\\"cell-2\\\" style=\\\"text-align:right;\\\">13,533,307</td> <td class=\\\"cell-3\\\" style=\\\"text-align:right;\\\">13,533,694</td> <td class=\\\"cell-4\\\" style=\\\"\\\"></td> <td class=\\\"cell-5\\\" style=\\\"\\\">https://www.nationalgeographic.com/interactive-assets/nggraphics/ngm-hummingbirds/build-2017-07-07_10-39-04/ngm-assets/videos/tongue0-1920.mp4</td></tr>\\n    \\n    <tr><td class=\\\"cell-1\\\" style=\\\"text-align:right;\\\">19,106</td> <td class=\\\"cell-2\\\" style=\\\"text-align:right;\\\">14,610,578</td> <td class=\\\"cell-3\\\" style=\\\"text-align:right;\\\">14,610,965</td> <td class=\\\"cell-4\\\" style=\\\"\\\"></td> <td class=\\\"cell-5\\\" style=\\\"\\\">https://www.nationalgeographic.com/interactive-assets/nggraphics/ngm-hummingbirds/build-2017-07-07_10-39-04/ngm-assets/videos/tongue1-1920.mp4</td></tr>\\n<tr><td class=\\\"cell-1\\\" style=\\\"text-align:right;\\\">19,106</td> <td class=\\\"cell-2\\\" style=\\\"text-align:right;\\\">4,121,568</td> <td class=\\\"cell-3\\\" style=\\\"text-align:right;\\\">4,121,952</td> <td class=\\\"cell-4\\\" style=\\\"\\\"></td> <td class=\\\"cell-5\\\" style=\\\"\\\">https://www.nationalgeographic.com/interactive-assets/nggraphics/ngm-hummingbirds/build-2017-07-07_10-39-04/ngm-assets/videos/brain-1920.mp4</td></tr>\\n<tr><td class=\\\"cell-1\\\" style=\\\"text-align:right;\\\">19,107</td> <td class=\\\"cell-2\\\" style=\\\"text-align:right;\\\">2,800,459</td> <td class=\\\"cell-3\\\" style=\\\"text-align:right;\\\">2,800,843</td> <td class=\\\"cell-4\\\" style=\\\"\\\"></td> <td class=\\\"cell-5\\\" style=\\\"\\\">https://www.nationalgeographic.com/interactive-assets/nggraphics/ngm-hummingbirds/build-2017-07-07_10-39-04/ngm-assets/videos/wing1-1920.mp4</td></tr>\\n    </tbody>\\n\")"
      ]
     },
     "metadata": {},
     "output_type": "display_data"
    },
    {
     "data": {
      "text/html": [
       "<div class=\"dswbOutputText\"><h1 class=\"chart_title\" style=\"color:#ccc\">Large Request Stats for: https://www.nationalgeographic.com/magazine/2017/07/the-science-of-hummingbirds</h1><h3 class=\"chart_info\" style=\"color:#ccc\">November 6, 2017 23:59:00 to November 13, 2017 23:59:00 Local Time</h3></div>"
      ]
     },
     "metadata": {},
     "output_type": "display_data"
    },
    {
     "data": {
      "text/html": [
       "    <table  class=\"dataframe-table\">\n",
       "    <thead><tr><th class=\"cell-1\" style=\"\">RefGroup</th> <th class=\"cell-2\" style=\"\">Unit</th> <th class=\"cell-3\" style=\"\">Count</th> <th class=\"cell-4\" style=\"\">Mean</th> <th class=\"cell-5\" style=\"\">Median</th> <th class=\"cell-6\" style=\"\">Min</th> <th class=\"cell-7\" style=\"\">Max</th></tr></thead>\n",
       "    <tbody>\n",
       "    <tr><td class=\"cell-1\" style=\"\">Desktop</td> <td class=\"cell-2\" style=\"\">seconds</td> <td class=\"cell-3\" style=\"text-align:right;\">98</td> <td class=\"cell-4\" style=\"text-align:right;\">18.646</td> <td class=\"cell-5\" style=\"text-align:right;\">6.658</td> <td class=\"cell-6\" style=\"text-align:right;\">1.635</td> <td class=\"cell-7\" style=\"text-align:right;\">288.706</td></tr>\n",
       "<tr><td class=\"cell-1\" style=\"\">Mobile</td> <td class=\"cell-2\" style=\"\">seconds</td> <td class=\"cell-3\" style=\"text-align:right;\">16</td> <td class=\"cell-4\" style=\"text-align:right;\">19.037</td> <td class=\"cell-5\" style=\"text-align:right;\">12.778</td> <td class=\"cell-6\" style=\"text-align:right;\">2.709</td> <td class=\"cell-7\" style=\"text-align:right;\">84.399</td></tr>\n",
       "    \n",
       "    <tr><td class=\"cell-1\" style=\"\">Tablet</td> <td class=\"cell-2\" style=\"\">seconds</td> <td class=\"cell-3\" style=\"text-align:right;\">9</td> <td class=\"cell-4\" style=\"text-align:right;\">27.305</td> <td class=\"cell-5\" style=\"text-align:right;\">18.214</td> <td class=\"cell-6\" style=\"text-align:right;\">8.184</td> <td class=\"cell-7\" style=\"text-align:right;\">84.393</td></tr>\n",
       "    </tbody>\n"
      ],
      "text/plain": [
       "HTML{UTF8String}(\"    <table  class=\\\"dataframe-table\\\">\\n    <thead><tr><th class=\\\"cell-1\\\" style=\\\"\\\">RefGroup</th> <th class=\\\"cell-2\\\" style=\\\"\\\">Unit</th> <th class=\\\"cell-3\\\" style=\\\"\\\">Count</th> <th class=\\\"cell-4\\\" style=\\\"\\\">Mean</th> <th class=\\\"cell-5\\\" style=\\\"\\\">Median</th> <th class=\\\"cell-6\\\" style=\\\"\\\">Min</th> <th class=\\\"cell-7\\\" style=\\\"\\\">Max</th></tr></thead>\\n    <tbody>\\n    <tr><td class=\\\"cell-1\\\" style=\\\"\\\">Desktop</td> <td class=\\\"cell-2\\\" style=\\\"\\\">seconds</td> <td class=\\\"cell-3\\\" style=\\\"text-align:right;\\\">98</td> <td class=\\\"cell-4\\\" style=\\\"text-align:right;\\\">18.646</td> <td class=\\\"cell-5\\\" style=\\\"text-align:right;\\\">6.658</td> <td class=\\\"cell-6\\\" style=\\\"text-align:right;\\\">1.635</td> <td class=\\\"cell-7\\\" style=\\\"text-align:right;\\\">288.706</td></tr>\\n<tr><td class=\\\"cell-1\\\" style=\\\"\\\">Mobile</td> <td class=\\\"cell-2\\\" style=\\\"\\\">seconds</td> <td class=\\\"cell-3\\\" style=\\\"text-align:right;\\\">16</td> <td class=\\\"cell-4\\\" style=\\\"text-align:right;\\\">19.037</td> <td class=\\\"cell-5\\\" style=\\\"text-align:right;\\\">12.778</td> <td class=\\\"cell-6\\\" style=\\\"text-align:right;\\\">2.709</td> <td class=\\\"cell-7\\\" style=\\\"text-align:right;\\\">84.399</td></tr>\\n    \\n    <tr><td class=\\\"cell-1\\\" style=\\\"\\\">Tablet</td> <td class=\\\"cell-2\\\" style=\\\"\\\">seconds</td> <td class=\\\"cell-3\\\" style=\\\"text-align:right;\\\">9</td> <td class=\\\"cell-4\\\" style=\\\"text-align:right;\\\">27.305</td> <td class=\\\"cell-5\\\" style=\\\"text-align:right;\\\">18.214</td> <td class=\\\"cell-6\\\" style=\\\"text-align:right;\\\">8.184</td> <td class=\\\"cell-7\\\" style=\\\"text-align:right;\\\">84.393</td></tr>\\n    </tbody>\\n\")"
      ]
     },
     "metadata": {},
     "output_type": "display_data"
    },
    {
     "data": {
      "text/html": [
       "<div class=\"dswbOutputText\"><h1 class=\"chart_title\" style=\"color:#ccc\">Large Requests for: https://www.nationalgeographic.com/magazine/2017/06/nodosaur-3d-interactive-dinosaur-fossil</h1><h3 class=\"chart_info\" style=\"color:#ccc\">November 6, 2017 23:59:00 to November 13, 2017 23:59:00 Local Time</h3></div>"
      ]
     },
     "metadata": {},
     "output_type": "display_data"
    },
    {
     "data": {
      "text/html": [
       "    <table  class=\"dataframe-table\">\n",
       "    <thead><tr><th class=\"cell-1\" style=\"\">start time</th> <th class=\"cell-2\" style=\"\">encoded size</th> <th class=\"cell-3\" style=\"\">transferred size</th> <th class=\"cell-4\" style=\"\">decoded size</th> <th class=\"cell-5\" style=\"\">urlgroup</th></tr></thead>\n",
       "    <tbody>\n",
       "    <tr><td class=\"cell-1\" style=\"text-align:right;\">751</td> <td class=\"cell-2\" style=\"text-align:right;\">1,643,385</td> <td class=\"cell-3\" style=\"text-align:right;\">1,643,947</td> <td class=\"cell-4\" style=\"\"></td> <td class=\"cell-5\" style=\"\">https://www.nationalgeographic.com/interactive-assets/nggraphics/ngm-nodosaur/build-2017-08-03_11-06-05/js/base.js</td></tr>\n",
       "<tr><td class=\"cell-1\" style=\"text-align:right;\">1,929</td> <td class=\"cell-2\" style=\"text-align:right;\">1,110,731</td> <td class=\"cell-3\" style=\"text-align:right;\">1,111,295</td> <td class=\"cell-4\" style=\"\"></td> <td class=\"cell-5\" style=\"\">https://www.nationalgeographic.com/etc/designs/platform/v2/scripts/ngs-global.ngsversion.59f29413.js</td></tr>\n",
       "<tr><td class=\"cell-1\" style=\"text-align:right;\">2,426</td> <td class=\"cell-2\" style=\"text-align:right;\">1,841,014</td> <td class=\"cell-3\" style=\"text-align:right;\">1,841,300</td> <td class=\"cell-4\" style=\"\"></td> <td class=\"cell-5\" style=\"\">https://www.nationalgeographic.com/interactive-assets/nggraphics/ngm-nodosaur/build-2017-08-03_11-06-05/assets/models/block2/Nodosaur_block2.pack</td></tr>\n",
       "<tr><td class=\"cell-1\" style=\"text-align:right;\">2,426</td> <td class=\"cell-2\" style=\"text-align:right;\">2,175,913</td> <td class=\"cell-3\" style=\"text-align:right;\">2,176,199</td> <td class=\"cell-4\" style=\"\"></td> <td class=\"cell-5\" style=\"\">https://www.nationalgeographic.com/interactive-assets/nggraphics/ngm-nodosaur/build-2017-08-03_11-06-05/assets/models/block1/Nodosaur_block1.pack</td></tr>\n",
       "<tr><td class=\"cell-1\" style=\"text-align:right;\">2,427</td> <td class=\"cell-2\" style=\"text-align:right;\">2,565,642</td> <td class=\"cell-3\" style=\"text-align:right;\">2,565,928</td> <td class=\"cell-4\" style=\"\"></td> <td class=\"cell-5\" style=\"\">https://www.nationalgeographic.com/interactive-assets/nggraphics/ngm-nodosaur/build-2017-08-03_11-06-05/assets/models/block3/Nodosaur_block3_group2.pack</td></tr>\n",
       "<tr><td class=\"cell-1\" style=\"text-align:right;\">2,427</td> <td class=\"cell-2\" style=\"text-align:right;\">1,753,641</td> <td class=\"cell-3\" style=\"text-align:right;\">1,753,927</td> <td class=\"cell-4\" style=\"\"></td> <td class=\"cell-5\" style=\"\">https://www.nationalgeographic.com/interactive-assets/nggraphics/ngm-nodosaur/build-2017-08-03_11-06-05/assets/models/block3/Nodosaur_block3_group1.pack</td></tr>\n",
       "<tr><td class=\"cell-1\" style=\"text-align:right;\">2,428</td> <td class=\"cell-2\" style=\"text-align:right;\">1,763,115</td> <td class=\"cell-3\" style=\"text-align:right;\">1,763,401</td> <td class=\"cell-4\" style=\"\"></td> <td class=\"cell-5\" style=\"\">https://www.nationalgeographic.com/interactive-assets/nggraphics/ngm-nodosaur/build-2017-08-03_11-06-05/assets/models/block4/Nodosaur_block4_repos1.pack</td></tr>\n",
       "    \n",
       "    <tr><td class=\"cell-1\" style=\"text-align:right;\">2,428</td> <td class=\"cell-2\" style=\"text-align:right;\">1,907,489</td> <td class=\"cell-3\" style=\"text-align:right;\">1,907,775</td> <td class=\"cell-4\" style=\"\"></td> <td class=\"cell-5\" style=\"\">https://www.nationalgeographic.com/interactive-assets/nggraphics/ngm-nodosaur/build-2017-08-03_11-06-05/assets/models/foot1/Nodosaur_foot1_repos1.pack</td></tr>\n",
       "<tr><td class=\"cell-1\" style=\"text-align:right;\">2,429</td> <td class=\"cell-2\" style=\"text-align:right;\">1,544,761</td> <td class=\"cell-3\" style=\"text-align:right;\">1,545,047</td> <td class=\"cell-4\" style=\"\"></td> <td class=\"cell-5\" style=\"\">https://www.nationalgeographic.com/interactive-assets/nggraphics/ngm-nodosaur/build-2017-08-03_11-06-05/assets/models/foot2/Nodosaur_foot2_repos1.pack</td></tr>\n",
       "<tr><td class=\"cell-1\" style=\"text-align:right;\">2,429</td> <td class=\"cell-2\" style=\"text-align:right;\">1,689,597</td> <td class=\"cell-3\" style=\"text-align:right;\">1,689,883</td> <td class=\"cell-4\" style=\"\"></td> <td class=\"cell-5\" style=\"\">https://www.nationalgeographic.com/interactive-assets/nggraphics/ngm-nodosaur/build-2017-08-03_11-06-05/assets/models/head/Nodosaur_head.pack</td></tr>\n",
       "<tr><td class=\"cell-1\" style=\"text-align:right;\">2,429</td> <td class=\"cell-2\" style=\"text-align:right;\">1,520,130</td> <td class=\"cell-3\" style=\"text-align:right;\">1,520,462</td> <td class=\"cell-4\" style=\"\"></td> <td class=\"cell-5\" style=\"\">https://www.nationalgeographic.com/interactive-assets/nggraphics/ngm-nodosaur/build-2017-08-03_11-06-05/assets/models/block1/Nodosaur_block1_color.jpg</td></tr>\n",
       "<tr><td class=\"cell-1\" style=\"text-align:right;\">2,431</td> <td class=\"cell-2\" style=\"text-align:right;\">3,919,683</td> <td class=\"cell-3\" style=\"text-align:right;\">3,920,015</td> <td class=\"cell-4\" style=\"\"></td> <td class=\"cell-5\" style=\"\">https://www.nationalgeographic.com/interactive-assets/nggraphics/ngm-nodosaur/build-2017-08-03_11-06-05/assets/models/block3/block3_multi_plus1EV_hybrid.jpg</td></tr>\n",
       "<tr><td class=\"cell-1\" style=\"text-align:right;\">2,431</td> <td class=\"cell-2\" style=\"text-align:right;\">2,353,710</td> <td class=\"cell-3\" style=\"text-align:right;\">2,354,042</td> <td class=\"cell-4\" style=\"\"></td> <td class=\"cell-5\" style=\"\">https://www.nationalgeographic.com/interactive-assets/nggraphics/ngm-nodosaur/build-2017-08-03_11-06-05/assets/models/block3/Nodosaur_block3_color.jpg</td></tr>\n",
       "<tr><td class=\"cell-1\" style=\"text-align:right;\">3,038</td> <td class=\"cell-2\" style=\"text-align:right;\">1,391,583</td> <td class=\"cell-3\" style=\"text-align:right;\">0</td> <td class=\"cell-4\" style=\"\"></td> <td class=\"cell-5\" style=\"\">https://yastatic.net/sovetnik/_/js/sovetnik.min.js?mbr=true_settings=_7B_22affId_22_3A_221012_22_2C_22clid_22_3A_222210240_22_2C_22applicationName_22_3A_22friGate_22_2C_22browser_22_3A_22chrome_22_2C_22extensionStorage_22_3Atrue_2C_22notificationStat...</td></tr>\n",
       "    </tbody>\n"
      ],
      "text/plain": [
       "HTML{UTF8String}(\"    <table  class=\\\"dataframe-table\\\">\\n    <thead><tr><th class=\\\"cell-1\\\" style=\\\"\\\">start time</th> <th class=\\\"cell-2\\\" style=\\\"\\\">encoded size</th> <th class=\\\"cell-3\\\" style=\\\"\\\">transferred size</th> <th class=\\\"cell-4\\\" style=\\\"\\\">decoded size</th> <th class=\\\"cell-5\\\" style=\\\"\\\">urlgroup</th></tr></thead>\\n    <tbody>\\n    <tr><td class=\\\"cell-1\\\" style=\\\"text-align:right;\\\">751</td> <td class=\\\"cell-2\\\" style=\\\"text-align:right;\\\">1,643,385</td> <td class=\\\"cell-3\\\" style=\\\"text-align:right;\\\">1,643,947</td> <td class=\\\"cell-4\\\" style=\\\"\\\"></td> <td class=\\\"cell-5\\\" style=\\\"\\\">https://www.nationalgeographic.com/interactive-assets/nggraphics/ngm-nodosaur/build-2017-08-03_11-06-05/js/base.js</td></tr>\\n<tr><td class=\\\"cell-1\\\" style=\\\"text-align:right;\\\">1,929</td> <td class=\\\"cell-2\\\" style=\\\"text-align:right;\\\">1,110,731</td> <td class=\\\"cell-3\\\" style=\\\"text-align:right;\\\">1,111,295</td> <td class=\\\"cell-4\\\" style=\\\"\\\"></td> <td class=\\\"cell-5\\\" style=\\\"\\\">https://www.nationalgeographic.com/etc/designs/platform/v2/scripts/ngs-global.ngsversion.59f29413.js</td></tr>\\n<tr><td class=\\\"cell-1\\\" style=\\\"text-align:right;\\\">2,426</td> <td class=\\\"cell-2\\\" style=\\\"text-align:right;\\\">1,841,014</td> <td class=\\\"cell-3\\\" style=\\\"text-align:right;\\\">1,841,300</td> <td class=\\\"cell-4\\\" style=\\\"\\\"></td> <td class=\\\"cell-5\\\" style=\\\"\\\">https://www.nationalgeographic.com/interactive-assets/nggraphics/ngm-nodosaur/build-2017-08-03_11-06-05/assets/models/block2/Nodosaur_block2.pack</td></tr>\\n<tr><td class=\\\"cell-1\\\" style=\\\"text-align:right;\\\">2,426</td> <td class=\\\"cell-2\\\" style=\\\"text-align:right;\\\">2,175,913</td> <td class=\\\"cell-3\\\" style=\\\"text-align:right;\\\">2,176,199</td> <td class=\\\"cell-4\\\" style=\\\"\\\"></td> <td class=\\\"cell-5\\\" style=\\\"\\\">https://www.nationalgeographic.com/interactive-assets/nggraphics/ngm-nodosaur/build-2017-08-03_11-06-05/assets/models/block1/Nodosaur_block1.pack</td></tr>\\n<tr><td class=\\\"cell-1\\\" style=\\\"text-align:right;\\\">2,427</td> <td class=\\\"cell-2\\\" style=\\\"text-align:right;\\\">2,565,642</td> <td class=\\\"cell-3\\\" style=\\\"text-align:right;\\\">2,565,928</td> <td class=\\\"cell-4\\\" style=\\\"\\\"></td> <td class=\\\"cell-5\\\" style=\\\"\\\">https://www.nationalgeographic.com/interactive-assets/nggraphics/ngm-nodosaur/build-2017-08-03_11-06-05/assets/models/block3/Nodosaur_block3_group2.pack</td></tr>\\n<tr><td class=\\\"cell-1\\\" style=\\\"text-align:right;\\\">2,427</td> <td class=\\\"cell-2\\\" style=\\\"text-align:right;\\\">1,753,641</td> <td class=\\\"cell-3\\\" style=\\\"text-align:right;\\\">1,753,927</td> <td class=\\\"cell-4\\\" style=\\\"\\\"></td> <td class=\\\"cell-5\\\" style=\\\"\\\">https://www.nationalgeographic.com/interactive-assets/nggraphics/ngm-nodosaur/build-2017-08-03_11-06-05/assets/models/block3/Nodosaur_block3_group1.pack</td></tr>\\n<tr><td class=\\\"cell-1\\\" style=\\\"text-align:right;\\\">2,428</td> <td class=\\\"cell-2\\\" style=\\\"text-align:right;\\\">1,763,115</td> <td class=\\\"cell-3\\\" style=\\\"text-align:right;\\\">1,763,401</td> <td class=\\\"cell-4\\\" style=\\\"\\\"></td> <td class=\\\"cell-5\\\" style=\\\"\\\">https://www.nationalgeographic.com/interactive-assets/nggraphics/ngm-nodosaur/build-2017-08-03_11-06-05/assets/models/block4/Nodosaur_block4_repos1.pack</td></tr>\\n    \\n    <tr><td class=\\\"cell-1\\\" style=\\\"text-align:right;\\\">2,428</td> <td class=\\\"cell-2\\\" style=\\\"text-align:right;\\\">1,907,489</td> <td class=\\\"cell-3\\\" style=\\\"text-align:right;\\\">1,907,775</td> <td class=\\\"cell-4\\\" style=\\\"\\\"></td> <td class=\\\"cell-5\\\" style=\\\"\\\">https://www.nationalgeographic.com/interactive-assets/nggraphics/ngm-nodosaur/build-2017-08-03_11-06-05/assets/models/foot1/Nodosaur_foot1_repos1.pack</td></tr>\\n<tr><td class=\\\"cell-1\\\" style=\\\"text-align:right;\\\">2,429</td> <td class=\\\"cell-2\\\" style=\\\"text-align:right;\\\">1,544,761</td> <td class=\\\"cell-3\\\" style=\\\"text-align:right;\\\">1,545,047</td> <td class=\\\"cell-4\\\" style=\\\"\\\"></td> <td class=\\\"cell-5\\\" style=\\\"\\\">https://www.nationalgeographic.com/interactive-assets/nggraphics/ngm-nodosaur/build-2017-08-03_11-06-05/assets/models/foot2/Nodosaur_foot2_repos1.pack</td></tr>\\n<tr><td class=\\\"cell-1\\\" style=\\\"text-align:right;\\\">2,429</td> <td class=\\\"cell-2\\\" style=\\\"text-align:right;\\\">1,689,597</td> <td class=\\\"cell-3\\\" style=\\\"text-align:right;\\\">1,689,883</td> <td class=\\\"cell-4\\\" style=\\\"\\\"></td> <td class=\\\"cell-5\\\" style=\\\"\\\">https://www.nationalgeographic.com/interactive-assets/nggraphics/ngm-nodosaur/build-2017-08-03_11-06-05/assets/models/head/Nodosaur_head.pack</td></tr>\\n<tr><td class=\\\"cell-1\\\" style=\\\"text-align:right;\\\">2,429</td> <td class=\\\"cell-2\\\" style=\\\"text-align:right;\\\">1,520,130</td> <td class=\\\"cell-3\\\" style=\\\"text-align:right;\\\">1,520,462</td> <td class=\\\"cell-4\\\" style=\\\"\\\"></td> <td class=\\\"cell-5\\\" style=\\\"\\\">https://www.nationalgeographic.com/interactive-assets/nggraphics/ngm-nodosaur/build-2017-08-03_11-06-05/assets/models/block1/Nodosaur_block1_color.jpg</td></tr>\\n<tr><td class=\\\"cell-1\\\" style=\\\"text-align:right;\\\">2,431</td> <td class=\\\"cell-2\\\" style=\\\"text-align:right;\\\">3,919,683</td> <td class=\\\"cell-3\\\" style=\\\"text-align:right;\\\">3,920,015</td> <td class=\\\"cell-4\\\" style=\\\"\\\"></td> <td class=\\\"cell-5\\\" style=\\\"\\\">https://www.nationalgeographic.com/interactive-assets/nggraphics/ngm-nodosaur/build-2017-08-03_11-06-05/assets/models/block3/block3_multi_plus1EV_hybrid.jpg</td></tr>\\n<tr><td class=\\\"cell-1\\\" style=\\\"text-align:right;\\\">2,431</td> <td class=\\\"cell-2\\\" style=\\\"text-align:right;\\\">2,353,710</td> <td class=\\\"cell-3\\\" style=\\\"text-align:right;\\\">2,354,042</td> <td class=\\\"cell-4\\\" style=\\\"\\\"></td> <td class=\\\"cell-5\\\" style=\\\"\\\">https://www.nationalgeographic.com/interactive-assets/nggraphics/ngm-nodosaur/build-2017-08-03_11-06-05/assets/models/block3/Nodosaur_block3_color.jpg</td></tr>\\n<tr><td class=\\\"cell-1\\\" style=\\\"text-align:right;\\\">3,038</td> <td class=\\\"cell-2\\\" style=\\\"text-align:right;\\\">1,391,583</td> <td class=\\\"cell-3\\\" style=\\\"text-align:right;\\\">0</td> <td class=\\\"cell-4\\\" style=\\\"\\\"></td> <td class=\\\"cell-5\\\" style=\\\"\\\">https://yastatic.net/sovetnik/_/js/sovetnik.min.js?mbr=true_settings=_7B_22affId_22_3A_221012_22_2C_22clid_22_3A_222210240_22_2C_22applicationName_22_3A_22friGate_22_2C_22browser_22_3A_22chrome_22_2C_22extensionStorage_22_3Atrue_2C_22notificationStat...</td></tr>\\n    </tbody>\\n\")"
      ]
     },
     "metadata": {},
     "output_type": "display_data"
    },
    {
     "data": {
      "text/html": [
       "<div class=\"dswbOutputText\"><h1 class=\"chart_title\" style=\"color:#ccc\">Large Request Stats for: https://www.nationalgeographic.com/magazine/2017/06/nodosaur-3d-interactive-dinosaur-fossil</h1><h3 class=\"chart_info\" style=\"color:#ccc\">November 6, 2017 23:59:00 to November 13, 2017 23:59:00 Local Time</h3></div>"
      ]
     },
     "metadata": {},
     "output_type": "display_data"
    },
    {
     "data": {
      "text/html": [
       "    <table  class=\"dataframe-table\">\n",
       "    <thead><tr><th class=\"cell-1\" style=\"\">RefGroup</th> <th class=\"cell-2\" style=\"\">Unit</th> <th class=\"cell-3\" style=\"\">Count</th> <th class=\"cell-4\" style=\"\">Mean</th> <th class=\"cell-5\" style=\"\">Median</th> <th class=\"cell-6\" style=\"\">Min</th> <th class=\"cell-7\" style=\"\">Max</th></tr></thead>\n",
       "    <tbody>\n",
       "    <tr><td class=\"cell-1\" style=\"\">Desktop</td> <td class=\"cell-2\" style=\"\">seconds</td> <td class=\"cell-3\" style=\"text-align:right;\">1,369</td> <td class=\"cell-4\" style=\"text-align:right;\">31.934</td> <td class=\"cell-5\" style=\"text-align:right;\">16.216</td> <td class=\"cell-6\" style=\"text-align:right;\">1.339</td> <td class=\"cell-7\" style=\"text-align:right;\">563.149</td></tr>\n",
       "<tr><td class=\"cell-1\" style=\"\">Mobile</td> <td class=\"cell-2\" style=\"\">seconds</td> <td class=\"cell-3\" style=\"text-align:right;\">262</td> <td class=\"cell-4\" style=\"text-align:right;\">28.705</td> <td class=\"cell-5\" style=\"text-align:right;\">19.426</td> <td class=\"cell-6\" style=\"text-align:right;\">3.224</td> <td class=\"cell-7\" style=\"text-align:right;\">164.33</td></tr>\n",
       "    \n",
       "    <tr><td class=\"cell-1\" style=\"\">Tablet</td> <td class=\"cell-2\" style=\"\">seconds</td> <td class=\"cell-3\" style=\"text-align:right;\">58</td> <td class=\"cell-4\" style=\"text-align:right;\">28.094</td> <td class=\"cell-5\" style=\"text-align:right;\">21.424</td> <td class=\"cell-6\" style=\"text-align:right;\">4.286</td> <td class=\"cell-7\" style=\"text-align:right;\">189.185</td></tr>\n",
       "    </tbody>\n"
      ],
      "text/plain": [
       "HTML{UTF8String}(\"    <table  class=\\\"dataframe-table\\\">\\n    <thead><tr><th class=\\\"cell-1\\\" style=\\\"\\\">RefGroup</th> <th class=\\\"cell-2\\\" style=\\\"\\\">Unit</th> <th class=\\\"cell-3\\\" style=\\\"\\\">Count</th> <th class=\\\"cell-4\\\" style=\\\"\\\">Mean</th> <th class=\\\"cell-5\\\" style=\\\"\\\">Median</th> <th class=\\\"cell-6\\\" style=\\\"\\\">Min</th> <th class=\\\"cell-7\\\" style=\\\"\\\">Max</th></tr></thead>\\n    <tbody>\\n    <tr><td class=\\\"cell-1\\\" style=\\\"\\\">Desktop</td> <td class=\\\"cell-2\\\" style=\\\"\\\">seconds</td> <td class=\\\"cell-3\\\" style=\\\"text-align:right;\\\">1,369</td> <td class=\\\"cell-4\\\" style=\\\"text-align:right;\\\">31.934</td> <td class=\\\"cell-5\\\" style=\\\"text-align:right;\\\">16.216</td> <td class=\\\"cell-6\\\" style=\\\"text-align:right;\\\">1.339</td> <td class=\\\"cell-7\\\" style=\\\"text-align:right;\\\">563.149</td></tr>\\n<tr><td class=\\\"cell-1\\\" style=\\\"\\\">Mobile</td> <td class=\\\"cell-2\\\" style=\\\"\\\">seconds</td> <td class=\\\"cell-3\\\" style=\\\"text-align:right;\\\">262</td> <td class=\\\"cell-4\\\" style=\\\"text-align:right;\\\">28.705</td> <td class=\\\"cell-5\\\" style=\\\"text-align:right;\\\">19.426</td> <td class=\\\"cell-6\\\" style=\\\"text-align:right;\\\">3.224</td> <td class=\\\"cell-7\\\" style=\\\"text-align:right;\\\">164.33</td></tr>\\n    \\n    <tr><td class=\\\"cell-1\\\" style=\\\"\\\">Tablet</td> <td class=\\\"cell-2\\\" style=\\\"\\\">seconds</td> <td class=\\\"cell-3\\\" style=\\\"text-align:right;\\\">58</td> <td class=\\\"cell-4\\\" style=\\\"text-align:right;\\\">28.094</td> <td class=\\\"cell-5\\\" style=\\\"text-align:right;\\\">21.424</td> <td class=\\\"cell-6\\\" style=\\\"text-align:right;\\\">4.286</td> <td class=\\\"cell-7\\\" style=\\\"text-align:right;\\\">189.185</td></tr>\\n    </tbody>\\n\")"
      ]
     },
     "metadata": {},
     "output_type": "display_data"
    },
    {
     "data": {
      "text/html": [
       "<div class=\"dswbOutputText\"><h1 class=\"chart_title\" style=\"color:#ccc\">Large Requests for: https://www.nationalgeographic.com/magazine/2017/01/children-explain-how-gender-affects-their-lives</h1><h3 class=\"chart_info\" style=\"color:#ccc\">November 6, 2017 23:59:00 to November 13, 2017 23:59:00 Local Time</h3></div>"
      ]
     },
     "metadata": {},
     "output_type": "display_data"
    },
    {
     "data": {
      "text/html": [
       "    <table  class=\"dataframe-table\">\n",
       "    <thead><tr><th class=\"cell-1\" style=\"\">start time</th> <th class=\"cell-2\" style=\"\">encoded size</th> <th class=\"cell-3\" style=\"\">transferred size</th> <th class=\"cell-4\" style=\"\">decoded size</th> <th class=\"cell-5\" style=\"\">urlgroup</th></tr></thead>\n",
       "    <tbody>\n",
       "    <tr><td class=\"cell-1\" style=\"text-align:right;\">2,468</td> <td class=\"cell-2\" style=\"text-align:right;\">1,110,731</td> <td class=\"cell-3\" style=\"text-align:right;\">1,111,197</td> <td class=\"cell-4\" style=\"\"></td> <td class=\"cell-5\" style=\"\">https://www.nationalgeographic.com/etc/designs/platform/v2/scripts/ngs-global.ngsversion.59f29413.js</td></tr>\n",
       "<tr><td class=\"cell-1\" style=\"text-align:right;\">3,185</td> <td class=\"cell-2\" style=\"text-align:right;\">1,035,469</td> <td class=\"cell-3\" style=\"text-align:right;\">1,035,876</td> <td class=\"cell-4\" style=\"\"></td> <td class=\"cell-5\" style=\"\">https://www.nationalgeographic.com/content/dam/magazine/rights-exempt/2017/01/NineLives/04NineLives_2048.jpg</td></tr>\n",
       "<tr><td class=\"cell-1\" style=\"text-align:right;\">3,187</td> <td class=\"cell-2\" style=\"text-align:right;\">1,025,966</td> <td class=\"cell-3\" style=\"text-align:right;\">1,026,373</td> <td class=\"cell-4\" style=\"\"></td> <td class=\"cell-5\" style=\"\">https://www.nationalgeographic.com/content/dam/magazine/rights-exempt/2017/01/NineLives/07NineLives_2048.jpg</td></tr>\n",
       "<tr><td class=\"cell-1\" style=\"text-align:right;\">3,187</td> <td class=\"cell-2\" style=\"text-align:right;\">1,028,023</td> <td class=\"cell-3\" style=\"text-align:right;\">1,028,430</td> <td class=\"cell-4\" style=\"\"></td> <td class=\"cell-5\" style=\"\">https://www.nationalgeographic.com/content/dam/magazine/rights-exempt/2017/01/NineLives/08NineLives_2048.jpg</td></tr>\n",
       "<tr><td class=\"cell-1\" style=\"text-align:right;\">3,188</td> <td class=\"cell-2\" style=\"text-align:right;\">1,019,890</td> <td class=\"cell-3\" style=\"text-align:right;\">1,020,297</td> <td class=\"cell-4\" style=\"\"></td> <td class=\"cell-5\" style=\"\">https://www.nationalgeographic.com/content/dam/magazine/rights-exempt/2017/01/NineLives/09NineLives_2048.jpg</td></tr>\n",
       "<tr><td class=\"cell-1\" style=\"text-align:right;\">3,233</td> <td class=\"cell-2\" style=\"text-align:right;\">1,036,388</td> <td class=\"cell-3\" style=\"text-align:right;\">1,036,795</td> <td class=\"cell-4\" style=\"\"></td> <td class=\"cell-5\" style=\"\">https://www.nationalgeographic.com/content/dam/magazine/rights-exempt/2017/01/NineLives/11NineLives_2048.jpg</td></tr>\n",
       "<tr><td class=\"cell-1\" style=\"text-align:right;\">3,233</td> <td class=\"cell-2\" style=\"text-align:right;\">1,008,571</td> <td class=\"cell-3\" style=\"text-align:right;\">1,008,978</td> <td class=\"cell-4\" style=\"\"></td> <td class=\"cell-5\" style=\"\">https://www.nationalgeographic.com/content/dam/magazine/rights-exempt/2017/01/NineLives/10NineLives_2048.jpg</td></tr>\n",
       "<tr><td class=\"cell-1\" style=\"text-align:right;\">3,234</td> <td class=\"cell-2\" style=\"text-align:right;\">1,001,394</td> <td class=\"cell-3\" style=\"text-align:right;\">1,001,801</td> <td class=\"cell-4\" style=\"\"></td> <td class=\"cell-5\" style=\"\">https://www.nationalgeographic.com/content/dam/magazine/rights-exempt/2017/01/NineLives/13NineLives_2048.jpg</td></tr>\n",
       "<tr><td class=\"cell-1\" style=\"text-align:right;\">3,235</td> <td class=\"cell-2\" style=\"text-align:right;\">1,023,791</td> <td class=\"cell-3\" style=\"text-align:right;\">1,024,198</td> <td class=\"cell-4\" style=\"\"></td> <td class=\"cell-5\" style=\"\">https://www.nationalgeographic.com/content/dam/magazine/rights-exempt/2017/01/NineLives/15NineLives_2048.jpg</td></tr>\n",
       "    \n",
       "    <tr><td class=\"cell-1\" style=\"text-align:right;\">3,235</td> <td class=\"cell-2\" style=\"text-align:right;\">1,032,819</td> <td class=\"cell-3\" style=\"text-align:right;\">1,033,226</td> <td class=\"cell-4\" style=\"\"></td> <td class=\"cell-5\" style=\"\">https://www.nationalgeographic.com/content/dam/magazine/rights-exempt/2017/01/NineLives/16NineLives_2048.jpg</td></tr>\n",
       "<tr><td class=\"cell-1\" style=\"text-align:right;\">3,235</td> <td class=\"cell-2\" style=\"text-align:right;\">1,013,658</td> <td class=\"cell-3\" style=\"text-align:right;\">1,014,065</td> <td class=\"cell-4\" style=\"\"></td> <td class=\"cell-5\" style=\"\">https://www.nationalgeographic.com/content/dam/magazine/rights-exempt/2017/01/NineLives/14NineLives_2048.jpg</td></tr>\n",
       "<tr><td class=\"cell-1\" style=\"text-align:right;\">3,236</td> <td class=\"cell-2\" style=\"text-align:right;\">1,016,805</td> <td class=\"cell-3\" style=\"text-align:right;\">1,017,212</td> <td class=\"cell-4\" style=\"\"></td> <td class=\"cell-5\" style=\"\">https://www.nationalgeographic.com/content/dam/magazine/rights-exempt/2017/01/NineLives/17NineLives_2048.jpg</td></tr>\n",
       "<tr><td class=\"cell-1\" style=\"text-align:right;\">3,236</td> <td class=\"cell-2\" style=\"text-align:right;\">1,016,079</td> <td class=\"cell-3\" style=\"text-align:right;\">1,016,486</td> <td class=\"cell-4\" style=\"\"></td> <td class=\"cell-5\" style=\"\">https://www.nationalgeographic.com/content/dam/magazine/rights-exempt/2017/01/NineLives/18NineLives_2048.jpg</td></tr>\n",
       "<tr><td class=\"cell-1\" style=\"text-align:right;\">3,256</td> <td class=\"cell-2\" style=\"text-align:right;\">1,013,926</td> <td class=\"cell-3\" style=\"text-align:right;\">1,014,333</td> <td class=\"cell-4\" style=\"\"></td> <td class=\"cell-5\" style=\"\">https://www.nationalgeographic.com/content/dam/magazine/rights-exempt/2017/01/NineLives/19NineLives_2048.jpg</td></tr>\n",
       "<tr><td class=\"cell-1\" style=\"text-align:right;\">3,257</td> <td class=\"cell-2\" style=\"text-align:right;\">1,042,447</td> <td class=\"cell-3\" style=\"text-align:right;\">1,042,854</td> <td class=\"cell-4\" style=\"\"></td> <td class=\"cell-5\" style=\"\">https://www.nationalgeographic.com/content/dam/magazine/rights-exempt/2017/01/NineLives/20NineLives_2048.jpg</td></tr>\n",
       "<tr><td class=\"cell-1\" style=\"text-align:right;\">3,258</td> <td class=\"cell-2\" style=\"text-align:right;\">1,013,127</td> <td class=\"cell-3\" style=\"text-align:right;\">1,013,534</td> <td class=\"cell-4\" style=\"\"></td> <td class=\"cell-5\" style=\"\">https://www.nationalgeographic.com/content/dam/magazine/rights-exempt/2017/01/NineLives/24NineLives_2048.jpg</td></tr>\n",
       "<tr><td class=\"cell-1\" style=\"text-align:right;\">3,259</td> <td class=\"cell-2\" style=\"text-align:right;\">1,016,027</td> <td class=\"cell-3\" style=\"text-align:right;\">1,016,434</td> <td class=\"cell-4\" style=\"\"></td> <td class=\"cell-5\" style=\"\">https://www.nationalgeographic.com/content/dam/magazine/rights-exempt/2017/01/NineLives/25NineLives_2048.jpg</td></tr>\n",
       "<tr><td class=\"cell-1\" style=\"text-align:right;\">3,259</td> <td class=\"cell-2\" style=\"text-align:right;\">1,020,101</td> <td class=\"cell-3\" style=\"text-align:right;\">1,020,508</td> <td class=\"cell-4\" style=\"\"></td> <td class=\"cell-5\" style=\"\">https://www.nationalgeographic.com/content/dam/magazine/rights-exempt/2017/01/NineLives/27NineLives_2048.jpg</td></tr>\n",
       "    </tbody>\n"
      ],
      "text/plain": [
       "HTML{UTF8String}(\"    <table  class=\\\"dataframe-table\\\">\\n    <thead><tr><th class=\\\"cell-1\\\" style=\\\"\\\">start time</th> <th class=\\\"cell-2\\\" style=\\\"\\\">encoded size</th> <th class=\\\"cell-3\\\" style=\\\"\\\">transferred size</th> <th class=\\\"cell-4\\\" style=\\\"\\\">decoded size</th> <th class=\\\"cell-5\\\" style=\\\"\\\">urlgroup</th></tr></thead>\\n    <tbody>\\n    <tr><td class=\\\"cell-1\\\" style=\\\"text-align:right;\\\">2,468</td> <td class=\\\"cell-2\\\" style=\\\"text-align:right;\\\">1,110,731</td> <td class=\\\"cell-3\\\" style=\\\"text-align:right;\\\">1,111,197</td> <td class=\\\"cell-4\\\" style=\\\"\\\"></td> <td class=\\\"cell-5\\\" style=\\\"\\\">https://www.nationalgeographic.com/etc/designs/platform/v2/scripts/ngs-global.ngsversion.59f29413.js</td></tr>\\n<tr><td class=\\\"cell-1\\\" style=\\\"text-align:right;\\\">3,185</td> <td class=\\\"cell-2\\\" style=\\\"text-align:right;\\\">1,035,469</td> <td class=\\\"cell-3\\\" style=\\\"text-align:right;\\\">1,035,876</td> <td class=\\\"cell-4\\\" style=\\\"\\\"></td> <td class=\\\"cell-5\\\" style=\\\"\\\">https://www.nationalgeographic.com/content/dam/magazine/rights-exempt/2017/01/NineLives/04NineLives_2048.jpg</td></tr>\\n<tr><td class=\\\"cell-1\\\" style=\\\"text-align:right;\\\">3,187</td> <td class=\\\"cell-2\\\" style=\\\"text-align:right;\\\">1,025,966</td> <td class=\\\"cell-3\\\" style=\\\"text-align:right;\\\">1,026,373</td> <td class=\\\"cell-4\\\" style=\\\"\\\"></td> <td class=\\\"cell-5\\\" style=\\\"\\\">https://www.nationalgeographic.com/content/dam/magazine/rights-exempt/2017/01/NineLives/07NineLives_2048.jpg</td></tr>\\n<tr><td class=\\\"cell-1\\\" style=\\\"text-align:right;\\\">3,187</td> <td class=\\\"cell-2\\\" style=\\\"text-align:right;\\\">1,028,023</td> <td class=\\\"cell-3\\\" style=\\\"text-align:right;\\\">1,028,430</td> <td class=\\\"cell-4\\\" style=\\\"\\\"></td> <td class=\\\"cell-5\\\" style=\\\"\\\">https://www.nationalgeographic.com/content/dam/magazine/rights-exempt/2017/01/NineLives/08NineLives_2048.jpg</td></tr>\\n<tr><td class=\\\"cell-1\\\" style=\\\"text-align:right;\\\">3,188</td> <td class=\\\"cell-2\\\" style=\\\"text-align:right;\\\">1,019,890</td> <td class=\\\"cell-3\\\" style=\\\"text-align:right;\\\">1,020,297</td> <td class=\\\"cell-4\\\" style=\\\"\\\"></td> <td class=\\\"cell-5\\\" style=\\\"\\\">https://www.nationalgeographic.com/content/dam/magazine/rights-exempt/2017/01/NineLives/09NineLives_2048.jpg</td></tr>\\n<tr><td class=\\\"cell-1\\\" style=\\\"text-align:right;\\\">3,233</td> <td class=\\\"cell-2\\\" style=\\\"text-align:right;\\\">1,036,388</td> <td class=\\\"cell-3\\\" style=\\\"text-align:right;\\\">1,036,795</td> <td class=\\\"cell-4\\\" style=\\\"\\\"></td> <td class=\\\"cell-5\\\" style=\\\"\\\">https://www.nationalgeographic.com/content/dam/magazine/rights-exempt/2017/01/NineLives/11NineLives_2048.jpg</td></tr>\\n<tr><td class=\\\"cell-1\\\" style=\\\"text-align:right;\\\">3,233</td> <td class=\\\"cell-2\\\" style=\\\"text-align:right;\\\">1,008,571</td> <td class=\\\"cell-3\\\" style=\\\"text-align:right;\\\">1,008,978</td> <td class=\\\"cell-4\\\" style=\\\"\\\"></td> <td class=\\\"cell-5\\\" style=\\\"\\\">https://www.nationalgeographic.com/content/dam/magazine/rights-exempt/2017/01/NineLives/10NineLives_2048.jpg</td></tr>\\n<tr><td class=\\\"cell-1\\\" style=\\\"text-align:right;\\\">3,234</td> <td class=\\\"cell-2\\\" style=\\\"text-align:right;\\\">1,001,394</td> <td class=\\\"cell-3\\\" style=\\\"text-align:right;\\\">1,001,801</td> <td class=\\\"cell-4\\\" style=\\\"\\\"></td> <td class=\\\"cell-5\\\" style=\\\"\\\">https://www.nationalgeographic.com/content/dam/magazine/rights-exempt/2017/01/NineLives/13NineLives_2048.jpg</td></tr>\\n<tr><td class=\\\"cell-1\\\" style=\\\"text-align:right;\\\">3,235</td> <td class=\\\"cell-2\\\" style=\\\"text-align:right;\\\">1,023,791</td> <td class=\\\"cell-3\\\" style=\\\"text-align:right;\\\">1,024,198</td> <td class=\\\"cell-4\\\" style=\\\"\\\"></td> <td class=\\\"cell-5\\\" style=\\\"\\\">https://www.nationalgeographic.com/content/dam/magazine/rights-exempt/2017/01/NineLives/15NineLives_2048.jpg</td></tr>\\n    \\n    <tr><td class=\\\"cell-1\\\" style=\\\"text-align:right;\\\">3,235</td> <td class=\\\"cell-2\\\" style=\\\"text-align:right;\\\">1,032,819</td> <td class=\\\"cell-3\\\" style=\\\"text-align:right;\\\">1,033,226</td> <td class=\\\"cell-4\\\" style=\\\"\\\"></td> <td class=\\\"cell-5\\\" style=\\\"\\\">https://www.nationalgeographic.com/content/dam/magazine/rights-exempt/2017/01/NineLives/16NineLives_2048.jpg</td></tr>\\n<tr><td class=\\\"cell-1\\\" style=\\\"text-align:right;\\\">3,235</td> <td class=\\\"cell-2\\\" style=\\\"text-align:right;\\\">1,013,658</td> <td class=\\\"cell-3\\\" style=\\\"text-align:right;\\\">1,014,065</td> <td class=\\\"cell-4\\\" style=\\\"\\\"></td> <td class=\\\"cell-5\\\" style=\\\"\\\">https://www.nationalgeographic.com/content/dam/magazine/rights-exempt/2017/01/NineLives/14NineLives_2048.jpg</td></tr>\\n<tr><td class=\\\"cell-1\\\" style=\\\"text-align:right;\\\">3,236</td> <td class=\\\"cell-2\\\" style=\\\"text-align:right;\\\">1,016,805</td> <td class=\\\"cell-3\\\" style=\\\"text-align:right;\\\">1,017,212</td> <td class=\\\"cell-4\\\" style=\\\"\\\"></td> <td class=\\\"cell-5\\\" style=\\\"\\\">https://www.nationalgeographic.com/content/dam/magazine/rights-exempt/2017/01/NineLives/17NineLives_2048.jpg</td></tr>\\n<tr><td class=\\\"cell-1\\\" style=\\\"text-align:right;\\\">3,236</td> <td class=\\\"cell-2\\\" style=\\\"text-align:right;\\\">1,016,079</td> <td class=\\\"cell-3\\\" style=\\\"text-align:right;\\\">1,016,486</td> <td class=\\\"cell-4\\\" style=\\\"\\\"></td> <td class=\\\"cell-5\\\" style=\\\"\\\">https://www.nationalgeographic.com/content/dam/magazine/rights-exempt/2017/01/NineLives/18NineLives_2048.jpg</td></tr>\\n<tr><td class=\\\"cell-1\\\" style=\\\"text-align:right;\\\">3,256</td> <td class=\\\"cell-2\\\" style=\\\"text-align:right;\\\">1,013,926</td> <td class=\\\"cell-3\\\" style=\\\"text-align:right;\\\">1,014,333</td> <td class=\\\"cell-4\\\" style=\\\"\\\"></td> <td class=\\\"cell-5\\\" style=\\\"\\\">https://www.nationalgeographic.com/content/dam/magazine/rights-exempt/2017/01/NineLives/19NineLives_2048.jpg</td></tr>\\n<tr><td class=\\\"cell-1\\\" style=\\\"text-align:right;\\\">3,257</td> <td class=\\\"cell-2\\\" style=\\\"text-align:right;\\\">1,042,447</td> <td class=\\\"cell-3\\\" style=\\\"text-align:right;\\\">1,042,854</td> <td class=\\\"cell-4\\\" style=\\\"\\\"></td> <td class=\\\"cell-5\\\" style=\\\"\\\">https://www.nationalgeographic.com/content/dam/magazine/rights-exempt/2017/01/NineLives/20NineLives_2048.jpg</td></tr>\\n<tr><td class=\\\"cell-1\\\" style=\\\"text-align:right;\\\">3,258</td> <td class=\\\"cell-2\\\" style=\\\"text-align:right;\\\">1,013,127</td> <td class=\\\"cell-3\\\" style=\\\"text-align:right;\\\">1,013,534</td> <td class=\\\"cell-4\\\" style=\\\"\\\"></td> <td class=\\\"cell-5\\\" style=\\\"\\\">https://www.nationalgeographic.com/content/dam/magazine/rights-exempt/2017/01/NineLives/24NineLives_2048.jpg</td></tr>\\n<tr><td class=\\\"cell-1\\\" style=\\\"text-align:right;\\\">3,259</td> <td class=\\\"cell-2\\\" style=\\\"text-align:right;\\\">1,016,027</td> <td class=\\\"cell-3\\\" style=\\\"text-align:right;\\\">1,016,434</td> <td class=\\\"cell-4\\\" style=\\\"\\\"></td> <td class=\\\"cell-5\\\" style=\\\"\\\">https://www.nationalgeographic.com/content/dam/magazine/rights-exempt/2017/01/NineLives/25NineLives_2048.jpg</td></tr>\\n<tr><td class=\\\"cell-1\\\" style=\\\"text-align:right;\\\">3,259</td> <td class=\\\"cell-2\\\" style=\\\"text-align:right;\\\">1,020,101</td> <td class=\\\"cell-3\\\" style=\\\"text-align:right;\\\">1,020,508</td> <td class=\\\"cell-4\\\" style=\\\"\\\"></td> <td class=\\\"cell-5\\\" style=\\\"\\\">https://www.nationalgeographic.com/content/dam/magazine/rights-exempt/2017/01/NineLives/27NineLives_2048.jpg</td></tr>\\n    </tbody>\\n\")"
      ]
     },
     "metadata": {},
     "output_type": "display_data"
    },
    {
     "data": {
      "text/html": [
       "<div class=\"dswbOutputText\"><h1 class=\"chart_title\" style=\"color:#ccc\">Large Request Stats for: https://www.nationalgeographic.com/magazine/2017/01/children-explain-how-gender-affects-their-lives</h1><h3 class=\"chart_info\" style=\"color:#ccc\">November 6, 2017 23:59:00 to November 13, 2017 23:59:00 Local Time</h3></div>"
      ]
     },
     "metadata": {},
     "output_type": "display_data"
    },
    {
     "data": {
      "text/html": [
       "    <table  class=\"dataframe-table\">\n",
       "    <thead><tr><th class=\"cell-1\" style=\"\">RefGroup</th> <th class=\"cell-2\" style=\"\">Unit</th> <th class=\"cell-3\" style=\"\">Count</th> <th class=\"cell-4\" style=\"\">Mean</th> <th class=\"cell-5\" style=\"\">Median</th> <th class=\"cell-6\" style=\"\">Min</th> <th class=\"cell-7\" style=\"\">Max</th></tr></thead>\n",
       "    <tbody>\n",
       "    <tr><td class=\"cell-1\" style=\"\">Desktop</td> <td class=\"cell-2\" style=\"\">seconds</td> <td class=\"cell-3\" style=\"text-align:right;\">522</td> <td class=\"cell-4\" style=\"text-align:right;\">20.469</td> <td class=\"cell-5\" style=\"text-align:right;\">10.998</td> <td class=\"cell-6\" style=\"text-align:right;\">1.177</td> <td class=\"cell-7\" style=\"text-align:right;\">578.932</td></tr>\n",
       "<tr><td class=\"cell-1\" style=\"\">Mobile</td> <td class=\"cell-2\" style=\"\">seconds</td> <td class=\"cell-3\" style=\"text-align:right;\">116</td> <td class=\"cell-4\" style=\"text-align:right;\">17.324</td> <td class=\"cell-5\" style=\"text-align:right;\">10.815</td> <td class=\"cell-6\" style=\"text-align:right;\">3.173</td> <td class=\"cell-7\" style=\"text-align:right;\">135.826</td></tr>\n",
       "    \n",
       "    <tr><td class=\"cell-1\" style=\"\">Tablet</td> <td class=\"cell-2\" style=\"\">seconds</td> <td class=\"cell-3\" style=\"text-align:right;\">29</td> <td class=\"cell-4\" style=\"text-align:right;\">36.661</td> <td class=\"cell-5\" style=\"text-align:right;\">12.3</td> <td class=\"cell-6\" style=\"text-align:right;\">4.705</td> <td class=\"cell-7\" style=\"text-align:right;\">191.252</td></tr>\n",
       "    </tbody>\n"
      ],
      "text/plain": [
       "HTML{UTF8String}(\"    <table  class=\\\"dataframe-table\\\">\\n    <thead><tr><th class=\\\"cell-1\\\" style=\\\"\\\">RefGroup</th> <th class=\\\"cell-2\\\" style=\\\"\\\">Unit</th> <th class=\\\"cell-3\\\" style=\\\"\\\">Count</th> <th class=\\\"cell-4\\\" style=\\\"\\\">Mean</th> <th class=\\\"cell-5\\\" style=\\\"\\\">Median</th> <th class=\\\"cell-6\\\" style=\\\"\\\">Min</th> <th class=\\\"cell-7\\\" style=\\\"\\\">Max</th></tr></thead>\\n    <tbody>\\n    <tr><td class=\\\"cell-1\\\" style=\\\"\\\">Desktop</td> <td class=\\\"cell-2\\\" style=\\\"\\\">seconds</td> <td class=\\\"cell-3\\\" style=\\\"text-align:right;\\\">522</td> <td class=\\\"cell-4\\\" style=\\\"text-align:right;\\\">20.469</td> <td class=\\\"cell-5\\\" style=\\\"text-align:right;\\\">10.998</td> <td class=\\\"cell-6\\\" style=\\\"text-align:right;\\\">1.177</td> <td class=\\\"cell-7\\\" style=\\\"text-align:right;\\\">578.932</td></tr>\\n<tr><td class=\\\"cell-1\\\" style=\\\"\\\">Mobile</td> <td class=\\\"cell-2\\\" style=\\\"\\\">seconds</td> <td class=\\\"cell-3\\\" style=\\\"text-align:right;\\\">116</td> <td class=\\\"cell-4\\\" style=\\\"text-align:right;\\\">17.324</td> <td class=\\\"cell-5\\\" style=\\\"text-align:right;\\\">10.815</td> <td class=\\\"cell-6\\\" style=\\\"text-align:right;\\\">3.173</td> <td class=\\\"cell-7\\\" style=\\\"text-align:right;\\\">135.826</td></tr>\\n    \\n    <tr><td class=\\\"cell-1\\\" style=\\\"\\\">Tablet</td> <td class=\\\"cell-2\\\" style=\\\"\\\">seconds</td> <td class=\\\"cell-3\\\" style=\\\"text-align:right;\\\">29</td> <td class=\\\"cell-4\\\" style=\\\"text-align:right;\\\">36.661</td> <td class=\\\"cell-5\\\" style=\\\"text-align:right;\\\">12.3</td> <td class=\\\"cell-6\\\" style=\\\"text-align:right;\\\">4.705</td> <td class=\\\"cell-7\\\" style=\\\"text-align:right;\\\">191.252</td></tr>\\n    </tbody>\\n\")"
      ]
     },
     "metadata": {},
     "output_type": "display_data"
    },
    {
     "data": {
      "text/html": [
       "<div class=\"dswbOutputText\"><h1 class=\"chart_title\" style=\"color:#ccc\">Large Requests for: https://www.nationalgeographic.com/magazine/2016/05/yellowstone-national-parks-supervolcano-animation</h1><h3 class=\"chart_info\" style=\"color:#ccc\">November 6, 2017 23:59:00 to November 13, 2017 23:59:00 Local Time</h3></div>"
      ]
     },
     "metadata": {},
     "output_type": "display_data"
    },
    {
     "data": {
      "text/html": [
       "    <table  class=\"dataframe-table\">\n",
       "    <thead><tr><th class=\"cell-1\" style=\"\">start time</th> <th class=\"cell-2\" style=\"\">encoded size</th> <th class=\"cell-3\" style=\"\">transferred size</th> <th class=\"cell-4\" style=\"\">decoded size</th> <th class=\"cell-5\" style=\"\">urlgroup</th></tr></thead>\n",
       "    <tbody>\n",
       "    <tr><td class=\"cell-1\" style=\"text-align:right;\">706</td> <td class=\"cell-2\" style=\"text-align:right;\">1,292,313</td> <td class=\"cell-3\" style=\"text-align:right;\">0</td> <td class=\"cell-4\" style=\"\"></td> <td class=\"cell-5\" style=\"\">https://www.nationalgeographic.com/interactive-assets/yellowstone/volcano/v6-3/assets/img/sequence-2a-1920.jpg</td></tr>\n",
       "<tr><td class=\"cell-1\" style=\"text-align:right;\">706</td> <td class=\"cell-2\" style=\"text-align:right;\">1,312,597</td> <td class=\"cell-3\" style=\"text-align:right;\">0</td> <td class=\"cell-4\" style=\"\"></td> <td class=\"cell-5\" style=\"\">https://www.nationalgeographic.com/interactive-assets/yellowstone/volcano/v6-3/assets/img/sequence-2b-1920.jpg</td></tr>\n",
       "<tr><td class=\"cell-1\" style=\"text-align:right;\">2,047</td> <td class=\"cell-2\" style=\"text-align:right;\">1,292,313</td> <td class=\"cell-3\" style=\"text-align:right;\">0</td> <td class=\"cell-4\" style=\"\"></td> <td class=\"cell-5\" style=\"\">https://www.nationalgeographic.com/interactive-assets/yellowstone/volcano/v6-3/assets/img/sequence-2a-1920.jpg</td></tr>\n",
       "<tr><td class=\"cell-1\" style=\"text-align:right;\">2,047</td> <td class=\"cell-2\" style=\"text-align:right;\">1,312,597</td> <td class=\"cell-3\" style=\"text-align:right;\">0</td> <td class=\"cell-4\" style=\"\"></td> <td class=\"cell-5\" style=\"\">https://www.nationalgeographic.com/interactive-assets/yellowstone/volcano/v6-3/assets/img/sequence-2b-1920.jpg</td></tr>\n",
       "<tr><td class=\"cell-1\" style=\"text-align:right;\">2,182</td> <td class=\"cell-2\" style=\"text-align:right;\">3,832,868</td> <td class=\"cell-3\" style=\"text-align:right;\">0</td> <td class=\"cell-4\" style=\"\"></td> <td class=\"cell-5\" style=\"\">https://www.nationalgeographic.com/interactive-assets/yellowstone/volcano/v6-3/assets/video/mp4/sequence-1-768.mp4</td></tr>\n",
       "<tr><td class=\"cell-1\" style=\"text-align:right;\">2,184</td> <td class=\"cell-2\" style=\"text-align:right;\">2,963,946</td> <td class=\"cell-3\" style=\"text-align:right;\">0</td> <td class=\"cell-4\" style=\"\"></td> <td class=\"cell-5\" style=\"\">https://www.nationalgeographic.com/interactive-assets/yellowstone/volcano/v6-3/assets/video/mp4/sequence-3-768.mp4</td></tr>\n",
       "    \n",
       "    <tr><td class=\"cell-1\" style=\"text-align:right;\">2,185</td> <td class=\"cell-2\" style=\"text-align:right;\">2,464,395</td> <td class=\"cell-3\" style=\"text-align:right;\">0</td> <td class=\"cell-4\" style=\"\"></td> <td class=\"cell-5\" style=\"\">https://www.nationalgeographic.com/interactive-assets/yellowstone/volcano/v6-3/assets/video/mp4/sequence-4-768.mp4</td></tr>\n",
       "<tr><td class=\"cell-1\" style=\"text-align:right;\">2,186</td> <td class=\"cell-2\" style=\"text-align:right;\">1,348,429</td> <td class=\"cell-3\" style=\"text-align:right;\">0</td> <td class=\"cell-4\" style=\"\"></td> <td class=\"cell-5\" style=\"\">https://www.nationalgeographic.com/interactive-assets/yellowstone/volcano/v6-3/assets/video/mp4/sequence-5-768.mp4</td></tr>\n",
       "<tr><td class=\"cell-1\" style=\"text-align:right;\">2,190</td> <td class=\"cell-2\" style=\"text-align:right;\">1,494,559</td> <td class=\"cell-3\" style=\"text-align:right;\">0</td> <td class=\"cell-4\" style=\"\"></td> <td class=\"cell-5\" style=\"\">https://www.nationalgeographic.com/interactive-assets/yellowstone/volcano/v6-3/assets/video/mp4/sequence-6-768.mp4</td></tr>\n",
       "<tr><td class=\"cell-1\" style=\"text-align:right;\">2,192</td> <td class=\"cell-2\" style=\"text-align:right;\">3,336,447</td> <td class=\"cell-3\" style=\"text-align:right;\">0</td> <td class=\"cell-4\" style=\"\"></td> <td class=\"cell-5\" style=\"\">https://www.nationalgeographic.com/interactive-assets/yellowstone/volcano/v6-3/assets/video/mp4/sequence-7-768.mp4</td></tr>\n",
       "<tr><td class=\"cell-1\" style=\"text-align:right;\">2,194</td> <td class=\"cell-2\" style=\"text-align:right;\">3,428,544</td> <td class=\"cell-3\" style=\"text-align:right;\">0</td> <td class=\"cell-4\" style=\"\"></td> <td class=\"cell-5\" style=\"\">https://www.nationalgeographic.com/interactive-assets/yellowstone/volcano/v6-3/assets/video/mp4/sequence-8-768.mp4</td></tr>\n",
       "    </tbody>\n"
      ],
      "text/plain": [
       "HTML{UTF8String}(\"    <table  class=\\\"dataframe-table\\\">\\n    <thead><tr><th class=\\\"cell-1\\\" style=\\\"\\\">start time</th> <th class=\\\"cell-2\\\" style=\\\"\\\">encoded size</th> <th class=\\\"cell-3\\\" style=\\\"\\\">transferred size</th> <th class=\\\"cell-4\\\" style=\\\"\\\">decoded size</th> <th class=\\\"cell-5\\\" style=\\\"\\\">urlgroup</th></tr></thead>\\n    <tbody>\\n    <tr><td class=\\\"cell-1\\\" style=\\\"text-align:right;\\\">706</td> <td class=\\\"cell-2\\\" style=\\\"text-align:right;\\\">1,292,313</td> <td class=\\\"cell-3\\\" style=\\\"text-align:right;\\\">0</td> <td class=\\\"cell-4\\\" style=\\\"\\\"></td> <td class=\\\"cell-5\\\" style=\\\"\\\">https://www.nationalgeographic.com/interactive-assets/yellowstone/volcano/v6-3/assets/img/sequence-2a-1920.jpg</td></tr>\\n<tr><td class=\\\"cell-1\\\" style=\\\"text-align:right;\\\">706</td> <td class=\\\"cell-2\\\" style=\\\"text-align:right;\\\">1,312,597</td> <td class=\\\"cell-3\\\" style=\\\"text-align:right;\\\">0</td> <td class=\\\"cell-4\\\" style=\\\"\\\"></td> <td class=\\\"cell-5\\\" style=\\\"\\\">https://www.nationalgeographic.com/interactive-assets/yellowstone/volcano/v6-3/assets/img/sequence-2b-1920.jpg</td></tr>\\n<tr><td class=\\\"cell-1\\\" style=\\\"text-align:right;\\\">2,047</td> <td class=\\\"cell-2\\\" style=\\\"text-align:right;\\\">1,292,313</td> <td class=\\\"cell-3\\\" style=\\\"text-align:right;\\\">0</td> <td class=\\\"cell-4\\\" style=\\\"\\\"></td> <td class=\\\"cell-5\\\" style=\\\"\\\">https://www.nationalgeographic.com/interactive-assets/yellowstone/volcano/v6-3/assets/img/sequence-2a-1920.jpg</td></tr>\\n<tr><td class=\\\"cell-1\\\" style=\\\"text-align:right;\\\">2,047</td> <td class=\\\"cell-2\\\" style=\\\"text-align:right;\\\">1,312,597</td> <td class=\\\"cell-3\\\" style=\\\"text-align:right;\\\">0</td> <td class=\\\"cell-4\\\" style=\\\"\\\"></td> <td class=\\\"cell-5\\\" style=\\\"\\\">https://www.nationalgeographic.com/interactive-assets/yellowstone/volcano/v6-3/assets/img/sequence-2b-1920.jpg</td></tr>\\n<tr><td class=\\\"cell-1\\\" style=\\\"text-align:right;\\\">2,182</td> <td class=\\\"cell-2\\\" style=\\\"text-align:right;\\\">3,832,868</td> <td class=\\\"cell-3\\\" style=\\\"text-align:right;\\\">0</td> <td class=\\\"cell-4\\\" style=\\\"\\\"></td> <td class=\\\"cell-5\\\" style=\\\"\\\">https://www.nationalgeographic.com/interactive-assets/yellowstone/volcano/v6-3/assets/video/mp4/sequence-1-768.mp4</td></tr>\\n<tr><td class=\\\"cell-1\\\" style=\\\"text-align:right;\\\">2,184</td> <td class=\\\"cell-2\\\" style=\\\"text-align:right;\\\">2,963,946</td> <td class=\\\"cell-3\\\" style=\\\"text-align:right;\\\">0</td> <td class=\\\"cell-4\\\" style=\\\"\\\"></td> <td class=\\\"cell-5\\\" style=\\\"\\\">https://www.nationalgeographic.com/interactive-assets/yellowstone/volcano/v6-3/assets/video/mp4/sequence-3-768.mp4</td></tr>\\n    \\n    <tr><td class=\\\"cell-1\\\" style=\\\"text-align:right;\\\">2,185</td> <td class=\\\"cell-2\\\" style=\\\"text-align:right;\\\">2,464,395</td> <td class=\\\"cell-3\\\" style=\\\"text-align:right;\\\">0</td> <td class=\\\"cell-4\\\" style=\\\"\\\"></td> <td class=\\\"cell-5\\\" style=\\\"\\\">https://www.nationalgeographic.com/interactive-assets/yellowstone/volcano/v6-3/assets/video/mp4/sequence-4-768.mp4</td></tr>\\n<tr><td class=\\\"cell-1\\\" style=\\\"text-align:right;\\\">2,186</td> <td class=\\\"cell-2\\\" style=\\\"text-align:right;\\\">1,348,429</td> <td class=\\\"cell-3\\\" style=\\\"text-align:right;\\\">0</td> <td class=\\\"cell-4\\\" style=\\\"\\\"></td> <td class=\\\"cell-5\\\" style=\\\"\\\">https://www.nationalgeographic.com/interactive-assets/yellowstone/volcano/v6-3/assets/video/mp4/sequence-5-768.mp4</td></tr>\\n<tr><td class=\\\"cell-1\\\" style=\\\"text-align:right;\\\">2,190</td> <td class=\\\"cell-2\\\" style=\\\"text-align:right;\\\">1,494,559</td> <td class=\\\"cell-3\\\" style=\\\"text-align:right;\\\">0</td> <td class=\\\"cell-4\\\" style=\\\"\\\"></td> <td class=\\\"cell-5\\\" style=\\\"\\\">https://www.nationalgeographic.com/interactive-assets/yellowstone/volcano/v6-3/assets/video/mp4/sequence-6-768.mp4</td></tr>\\n<tr><td class=\\\"cell-1\\\" style=\\\"text-align:right;\\\">2,192</td> <td class=\\\"cell-2\\\" style=\\\"text-align:right;\\\">3,336,447</td> <td class=\\\"cell-3\\\" style=\\\"text-align:right;\\\">0</td> <td class=\\\"cell-4\\\" style=\\\"\\\"></td> <td class=\\\"cell-5\\\" style=\\\"\\\">https://www.nationalgeographic.com/interactive-assets/yellowstone/volcano/v6-3/assets/video/mp4/sequence-7-768.mp4</td></tr>\\n<tr><td class=\\\"cell-1\\\" style=\\\"text-align:right;\\\">2,194</td> <td class=\\\"cell-2\\\" style=\\\"text-align:right;\\\">3,428,544</td> <td class=\\\"cell-3\\\" style=\\\"text-align:right;\\\">0</td> <td class=\\\"cell-4\\\" style=\\\"\\\"></td> <td class=\\\"cell-5\\\" style=\\\"\\\">https://www.nationalgeographic.com/interactive-assets/yellowstone/volcano/v6-3/assets/video/mp4/sequence-8-768.mp4</td></tr>\\n    </tbody>\\n\")"
      ]
     },
     "metadata": {},
     "output_type": "display_data"
    },
    {
     "data": {
      "text/html": [
       "<div class=\"dswbOutputText\"><h1 class=\"chart_title\" style=\"color:#ccc\">Large Request Stats for: https://www.nationalgeographic.com/magazine/2016/05/yellowstone-national-parks-supervolcano-animation</h1><h3 class=\"chart_info\" style=\"color:#ccc\">November 6, 2017 23:59:00 to November 13, 2017 23:59:00 Local Time</h3></div>"
      ]
     },
     "metadata": {},
     "output_type": "display_data"
    },
    {
     "data": {
      "text/html": [
       "    <table  class=\"dataframe-table\">\n",
       "    <thead><tr><th class=\"cell-1\" style=\"\">RefGroup</th> <th class=\"cell-2\" style=\"\">Unit</th> <th class=\"cell-3\" style=\"\">Count</th> <th class=\"cell-4\" style=\"\">Mean</th> <th class=\"cell-5\" style=\"\">Median</th> <th class=\"cell-6\" style=\"\">Min</th> <th class=\"cell-7\" style=\"\">Max</th></tr></thead>\n",
       "    <tbody>\n",
       "    <tr><td class=\"cell-1\" style=\"\">Desktop</td> <td class=\"cell-2\" style=\"\">seconds</td> <td class=\"cell-3\" style=\"text-align:right;\">813</td> <td class=\"cell-4\" style=\"text-align:right;\">17.432</td> <td class=\"cell-5\" style=\"text-align:right;\">14.456</td> <td class=\"cell-6\" style=\"text-align:right;\">1.512</td> <td class=\"cell-7\" style=\"text-align:right;\">250.823</td></tr>\n",
       "<tr><td class=\"cell-1\" style=\"\">Mobile</td> <td class=\"cell-2\" style=\"\">seconds</td> <td class=\"cell-3\" style=\"text-align:right;\">40</td> <td class=\"cell-4\" style=\"text-align:right;\">20.664</td> <td class=\"cell-5\" style=\"text-align:right;\">18.006</td> <td class=\"cell-6\" style=\"text-align:right;\">3.522</td> <td class=\"cell-7\" style=\"text-align:right;\">71.369</td></tr>\n",
       "    \n",
       "    <tr><td class=\"cell-1\" style=\"\">Tablet</td> <td class=\"cell-2\" style=\"\">seconds</td> <td class=\"cell-3\" style=\"text-align:right;\">23</td> <td class=\"cell-4\" style=\"text-align:right;\">17.335</td> <td class=\"cell-5\" style=\"text-align:right;\">8.671</td> <td class=\"cell-6\" style=\"text-align:right;\">2.415</td> <td class=\"cell-7\" style=\"text-align:right;\">158.17</td></tr>\n",
       "    </tbody>\n"
      ],
      "text/plain": [
       "HTML{UTF8String}(\"    <table  class=\\\"dataframe-table\\\">\\n    <thead><tr><th class=\\\"cell-1\\\" style=\\\"\\\">RefGroup</th> <th class=\\\"cell-2\\\" style=\\\"\\\">Unit</th> <th class=\\\"cell-3\\\" style=\\\"\\\">Count</th> <th class=\\\"cell-4\\\" style=\\\"\\\">Mean</th> <th class=\\\"cell-5\\\" style=\\\"\\\">Median</th> <th class=\\\"cell-6\\\" style=\\\"\\\">Min</th> <th class=\\\"cell-7\\\" style=\\\"\\\">Max</th></tr></thead>\\n    <tbody>\\n    <tr><td class=\\\"cell-1\\\" style=\\\"\\\">Desktop</td> <td class=\\\"cell-2\\\" style=\\\"\\\">seconds</td> <td class=\\\"cell-3\\\" style=\\\"text-align:right;\\\">813</td> <td class=\\\"cell-4\\\" style=\\\"text-align:right;\\\">17.432</td> <td class=\\\"cell-5\\\" style=\\\"text-align:right;\\\">14.456</td> <td class=\\\"cell-6\\\" style=\\\"text-align:right;\\\">1.512</td> <td class=\\\"cell-7\\\" style=\\\"text-align:right;\\\">250.823</td></tr>\\n<tr><td class=\\\"cell-1\\\" style=\\\"\\\">Mobile</td> <td class=\\\"cell-2\\\" style=\\\"\\\">seconds</td> <td class=\\\"cell-3\\\" style=\\\"text-align:right;\\\">40</td> <td class=\\\"cell-4\\\" style=\\\"text-align:right;\\\">20.664</td> <td class=\\\"cell-5\\\" style=\\\"text-align:right;\\\">18.006</td> <td class=\\\"cell-6\\\" style=\\\"text-align:right;\\\">3.522</td> <td class=\\\"cell-7\\\" style=\\\"text-align:right;\\\">71.369</td></tr>\\n    \\n    <tr><td class=\\\"cell-1\\\" style=\\\"\\\">Tablet</td> <td class=\\\"cell-2\\\" style=\\\"\\\">seconds</td> <td class=\\\"cell-3\\\" style=\\\"text-align:right;\\\">23</td> <td class=\\\"cell-4\\\" style=\\\"text-align:right;\\\">17.335</td> <td class=\\\"cell-5\\\" style=\\\"text-align:right;\\\">8.671</td> <td class=\\\"cell-6\\\" style=\\\"text-align:right;\\\">2.415</td> <td class=\\\"cell-7\\\" style=\\\"text-align:right;\\\">158.17</td></tr>\\n    </tbody>\\n\")"
      ]
     },
     "metadata": {},
     "output_type": "display_data"
    }
   ],
   "source": [
    "i = 0\n",
    "for row in eachrow(joinTableSummary)\n",
    "    i += 1\n",
    "    detailsPrintFLP(tv,UP,joinTableSummary,i)\n",
    "    statsDetailsPrintFLP(tv,UP,joinTableSummary,i)\n",
    "    if (i >= linesOutput)\n",
    "        break;\n",
    "    end\n",
    "end\n",
    ";"
   ]
  },
  {
   "cell_type": "code",
   "execution_count": 8,
   "metadata": {
    "collapsed": true,
    "input_collapsed": false
   },
   "outputs": [],
   "source": [
    "q = query(\"\"\" drop view if exists $(UP.btView);\"\"\")\n",
    "q = query(\"\"\" drop view if exists $(UP.rtView);\"\"\")\n",
    ";"
   ]
  }
 ],
 "metadata": {
  "kernelspec": {
   "display_name": "Julia 0.4.7",
   "language": "julia",
   "name": "julia-0.4"
  },
  "language_info": {
   "file_extension": ".jl",
   "mimetype": "application/julia",
   "name": "julia",
   "version": "0.4.7"
  },
  "library_version": "1.0.0",
  "notebook_uuid": "56d3b1d9-34c5-499b-869b-9fe45cbf36cf",
  "readOnly": false
 },
 "nbformat": 4,
 "nbformat_minor": 0
}
