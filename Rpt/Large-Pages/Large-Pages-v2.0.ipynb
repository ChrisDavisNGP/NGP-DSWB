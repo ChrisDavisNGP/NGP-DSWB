{
 "cells": [
  {
   "cell_type": "code",
   "execution_count": 13,
   "metadata": {
    "collapsed": false,
    "input_collapsed": false
   },
   "outputs": [
    {
     "name": "stdout",
     "output_type": "stream",
     "text": [
      "Redshift endpoint set: 2017-11-28T08:43:05\n"
     ]
    },
    {
     "data": {
      "text/plain": [
       "\"beacons_4744_rt\""
      ]
     },
     "execution_count": 13,
     "metadata": {},
     "output_type": "execute_result"
    }
   ],
   "source": [
    "using ODBC\n",
    "using DataFrames\n",
    "using DSWB\n",
    "using Formatting\n",
    "\n",
    "dsn = \"dswb-natgeo\" # Redshift esetTable(tableRt, tableType = \"RESOURCE_TABLE\")ndpoint\n",
    "table = \"beacons_4744\" # beacon table name\n",
    "tableRt = \"beacons_4744_rt\"\n",
    "\n",
    "# Connect to Beacon Data\n",
    "setRedshiftEndpoint(dsn)\n",
    "setTable(table)\n",
    "setTable(tableRt, tableType = \"RESOURCE_TABLE\")"
   ]
  },
  {
   "cell_type": "code",
   "execution_count": 14,
   "metadata": {
    "collapsed": false,
    "input_collapsed": false
   },
   "outputs": [],
   "source": [
    "include(\"../../Lib/Include-Package-v2.1.jl\")\n",
    "include(\"Large-Pages-Body-v2.0.jl\")\n",
    ";"
   ]
  },
  {
   "cell_type": "code",
   "execution_count": 15,
   "metadata": {
    "collapsed": false,
    "input_collapsed": false
   },
   "outputs": [
    {
     "name": "stdout",
     "output_type": "stream",
     "text": [
      "November 27, 2017 06:59:00 to November 27, 2017 16:59:00 Local Time\n",
      "November 27, 2017 11:59:00 to November 27, 2017 21:59:00 UTC Time\n"
     ]
    }
   ],
   "source": [
    "#TV = timeVariables(2017,6,8,10,59,2017,6,8,12,59)\n",
    "#TV = weeklyTimeVariables(days=7);\n",
    "TV = yesterdayTimeVariables()\n",
    ";"
   ]
  },
  {
   "cell_type": "code",
   "execution_count": 27,
   "metadata": {
    "collapsed": false,
    "input_collapsed": false
   },
   "outputs": [],
   "source": [
    "UP = UrlParamsInit()\n",
    "UP.agentOs = \"%\"\n",
    "UP.beaconTable = table\n",
    "UP.btView = \"$(table)_Large_Pages_view\" #localtable\n",
    "UP.deviceType = \"%\"\n",
    "UP.limitRows = 250\n",
    "UP.orderBy = \"time\"\n",
    "UP.pageGroup = \"Magazine AEM\"   #productPageGroup\n",
    "UP.resourceTable = tableRt\n",
    "UP.rtView = \"$(tableRt)_Large_Pages_view\" #localtableRt\n",
    "UP.samplesMin = 10\n",
    "UP.sizeMin = 10000\n",
    "UP.timeLowerMs = 2000.0\n",
    "UP.timeUpperMs = 600000.0\n",
    "UP.urlRegEx = \"%\"   #localUrl\n",
    "UP.urlFull = \"%\"\n",
    "UP.usePageLoad=false\n",
    "\n",
    "SG = SoastaGraphsInit()\n",
    "customer = \"Nat Geo\" \n",
    "SG.customer = customer\n",
    "\n",
    "SP = ShowParamsInit()\n",
    "SP.criticalPathOnly=true\n",
    "SP.desktop=true\n",
    "SP.devView=false\n",
    "SP.debug=true\n",
    "SP.debugLevel = 10   # Tests use even numbers with > tests, make this an odd number or zero\n",
    "SP.mobile=true\n",
    "#SP.showLines = 300\n",
    "SP.showLines = 5\n",
    "\n",
    "linesOutput = 5\n",
    ";"
   ]
  },
  {
   "cell_type": "code",
   "execution_count": 28,
   "metadata": {
    "collapsed": false,
    "input_collapsed": false
   },
   "outputs": [
    {
     "name": "stdout",
     "output_type": "stream",
     "text": [
      "Low=2000 High=600000\n",
      "beacons_4744_Large_Pages_view count is 20126\n"
     ]
    }
   ],
   "source": [
    "defaultBeaconView(TV,UP,SP)\n",
    ";"
   ]
  },
  {
   "cell_type": "code",
   "execution_count": 29,
   "metadata": {
    "collapsed": false,
    "input_collapsed": false,
    "scrolled": false
   },
   "outputs": [
    {
     "data": {
      "text/html": [
       "    <table  class=\"dataframe-table\">\n",
       "    <thead><tr><th class=\"cell-1\" style=\"\">urlgroup</th> <th class=\"cell-2\" style=\"\">session id</th> <th class=\"cell-3\" style=\"\">timestamp</th> <th class=\"cell-4\" style=\"\">encoded</th> <th class=\"cell-5\" style=\"\">transferred</th> <th class=\"cell-6\" style=\"\">decoded</th> <th class=\"cell-7\" style=\"\">count</th></tr></thead>\n",
       "    <tbody>\n",
       "    <tr><td class=\"cell-1\" style=\"\">https://www.nationalgeographic.com/magazine/2017/03/vikings-ships-realm-raiders-scandinavian</td> <td class=\"cell-2\" style=\"\">ac9fe739-2edb-43f3-9b37-1fa5e1c3909f-p02ydh</td> <td class=\"cell-3\" style=\"text-align:right;\">2017-11-27T14:18:04.306</td> <td class=\"cell-4\" style=\"text-align:right;\">32,797,824</td> <td class=\"cell-5\" style=\"text-align:right;\">26,017,743</td> <td class=\"cell-6\" style=\"text-align:right;\">3,585,676</td> <td class=\"cell-7\" style=\"text-align:right;\">58</td></tr>\n",
       "<tr><td class=\"cell-1\" style=\"\">https://www.nationalgeographic.com/magazine/2017/03/vikings-ships-realm-raiders-scandinavian</td> <td class=\"cell-2\" style=\"\">d74cd43e-58e3-4e6d-9c58-174dae73d81b-p036mg</td> <td class=\"cell-3\" style=\"text-align:right;\">2017-11-27T17:16:04.93</td> <td class=\"cell-4\" style=\"text-align:right;\">32,729,670</td> <td class=\"cell-5\" style=\"text-align:right;\">32,655,841</td> <td class=\"cell-6\" style=\"text-align:right;\">3,517,306</td> <td class=\"cell-7\" style=\"text-align:right;\">52</td></tr>\n",
       "<tr><td class=\"cell-1\" style=\"\">https://www.nationalgeographic.com/magazine/2017/06/nodosaur-3d-interactive-dinosaur-fossil</td> <td class=\"cell-2\" style=\"\">00e5ade6-c320-4336-bbd0-8a094a7e93e2-p02vq7</td> <td class=\"cell-3\" style=\"text-align:right;\">2017-11-27T13:29:30.291</td> <td class=\"cell-4\" style=\"text-align:right;\">29,895,318</td> <td class=\"cell-5\" style=\"text-align:right;\">27,434,108</td> <td class=\"cell-6\" style=\"text-align:right;\">93,714</td> <td class=\"cell-7\" style=\"text-align:right;\">45</td></tr>\n",
       "    \n",
       "    <tr><td class=\"cell-1\" style=\"\">https://www.nationalgeographic.com/magazine/2017/01/children-explain-how-gender-affects-their-lives</td> <td class=\"cell-2\" style=\"\">f1e408ee-0fab-4052-9e4c-7ffc878caf14-p03fut</td> <td class=\"cell-3\" style=\"text-align:right;\">2017-11-27T20:35:30.718</td> <td class=\"cell-4\" style=\"text-align:right;\">28,316,512</td> <td class=\"cell-5\" style=\"text-align:right;\">28,229,517</td> <td class=\"cell-6\" style=\"text-align:right;\">4,153,124</td> <td class=\"cell-7\" style=\"text-align:right;\">79</td></tr>\n",
       "<tr><td class=\"cell-1\" style=\"\">https://www.nationalgeographic.com/magazine/2017/01/children-explain-how-gender-affects-their-lives</td> <td class=\"cell-2\" style=\"\">18d15b05-8b1f-49c3-9d66-b69ff6649186-p033d5</td> <td class=\"cell-3\" style=\"text-align:right;\">2017-11-27T16:07:49.793</td> <td class=\"cell-4\" style=\"text-align:right;\">28,166,397</td> <td class=\"cell-5\" style=\"text-align:right;\">27,419,937</td> <td class=\"cell-6\" style=\"text-align:right;\">3,318,782</td> <td class=\"cell-7\" style=\"text-align:right;\">65</td></tr>\n",
       "    </tbody>\n"
      ],
      "text/plain": [
       "HTML{UTF8String}(\"    <table  class=\\\"dataframe-table\\\">\\n    <thead><tr><th class=\\\"cell-1\\\" style=\\\"\\\">urlgroup</th> <th class=\\\"cell-2\\\" style=\\\"\\\">session id</th> <th class=\\\"cell-3\\\" style=\\\"\\\">timestamp</th> <th class=\\\"cell-4\\\" style=\\\"\\\">encoded</th> <th class=\\\"cell-5\\\" style=\\\"\\\">transferred</th> <th class=\\\"cell-6\\\" style=\\\"\\\">decoded</th> <th class=\\\"cell-7\\\" style=\\\"\\\">count</th></tr></thead>\\n    <tbody>\\n    <tr><td class=\\\"cell-1\\\" style=\\\"\\\">https://www.nationalgeographic.com/magazine/2017/03/vikings-ships-realm-raiders-scandinavian</td> <td class=\\\"cell-2\\\" style=\\\"\\\">ac9fe739-2edb-43f3-9b37-1fa5e1c3909f-p02ydh</td> <td class=\\\"cell-3\\\" style=\\\"text-align:right;\\\">2017-11-27T14:18:04.306</td> <td class=\\\"cell-4\\\" style=\\\"text-align:right;\\\">32,797,824</td> <td class=\\\"cell-5\\\" style=\\\"text-align:right;\\\">26,017,743</td> <td class=\\\"cell-6\\\" style=\\\"text-align:right;\\\">3,585,676</td> <td class=\\\"cell-7\\\" style=\\\"text-align:right;\\\">58</td></tr>\\n<tr><td class=\\\"cell-1\\\" style=\\\"\\\">https://www.nationalgeographic.com/magazine/2017/03/vikings-ships-realm-raiders-scandinavian</td> <td class=\\\"cell-2\\\" style=\\\"\\\">d74cd43e-58e3-4e6d-9c58-174dae73d81b-p036mg</td> <td class=\\\"cell-3\\\" style=\\\"text-align:right;\\\">2017-11-27T17:16:04.93</td> <td class=\\\"cell-4\\\" style=\\\"text-align:right;\\\">32,729,670</td> <td class=\\\"cell-5\\\" style=\\\"text-align:right;\\\">32,655,841</td> <td class=\\\"cell-6\\\" style=\\\"text-align:right;\\\">3,517,306</td> <td class=\\\"cell-7\\\" style=\\\"text-align:right;\\\">52</td></tr>\\n<tr><td class=\\\"cell-1\\\" style=\\\"\\\">https://www.nationalgeographic.com/magazine/2017/06/nodosaur-3d-interactive-dinosaur-fossil</td> <td class=\\\"cell-2\\\" style=\\\"\\\">00e5ade6-c320-4336-bbd0-8a094a7e93e2-p02vq7</td> <td class=\\\"cell-3\\\" style=\\\"text-align:right;\\\">2017-11-27T13:29:30.291</td> <td class=\\\"cell-4\\\" style=\\\"text-align:right;\\\">29,895,318</td> <td class=\\\"cell-5\\\" style=\\\"text-align:right;\\\">27,434,108</td> <td class=\\\"cell-6\\\" style=\\\"text-align:right;\\\">93,714</td> <td class=\\\"cell-7\\\" style=\\\"text-align:right;\\\">45</td></tr>\\n    \\n    <tr><td class=\\\"cell-1\\\" style=\\\"\\\">https://www.nationalgeographic.com/magazine/2017/01/children-explain-how-gender-affects-their-lives</td> <td class=\\\"cell-2\\\" style=\\\"\\\">f1e408ee-0fab-4052-9e4c-7ffc878caf14-p03fut</td> <td class=\\\"cell-3\\\" style=\\\"text-align:right;\\\">2017-11-27T20:35:30.718</td> <td class=\\\"cell-4\\\" style=\\\"text-align:right;\\\">28,316,512</td> <td class=\\\"cell-5\\\" style=\\\"text-align:right;\\\">28,229,517</td> <td class=\\\"cell-6\\\" style=\\\"text-align:right;\\\">4,153,124</td> <td class=\\\"cell-7\\\" style=\\\"text-align:right;\\\">79</td></tr>\\n<tr><td class=\\\"cell-1\\\" style=\\\"\\\">https://www.nationalgeographic.com/magazine/2017/01/children-explain-how-gender-affects-their-lives</td> <td class=\\\"cell-2\\\" style=\\\"\\\">18d15b05-8b1f-49c3-9d66-b69ff6649186-p033d5</td> <td class=\\\"cell-3\\\" style=\\\"text-align:right;\\\">2017-11-27T16:07:49.793</td> <td class=\\\"cell-4\\\" style=\\\"text-align:right;\\\">28,166,397</td> <td class=\\\"cell-5\\\" style=\\\"text-align:right;\\\">27,419,937</td> <td class=\\\"cell-6\\\" style=\\\"text-align:right;\\\">3,318,782</td> <td class=\\\"cell-7\\\" style=\\\"text-align:right;\\\">65</td></tr>\\n    </tbody>\\n\")"
      ]
     },
     "metadata": {},
     "output_type": "display_data"
    }
   ],
   "source": [
    "joinTables = DataFrame()\n",
    "joinTables = joinTableTableFLP(TV,UP)\n",
    ";"
   ]
  },
  {
   "cell_type": "code",
   "execution_count": 10,
   "metadata": {
    "collapsed": false,
    "input_collapsed": false
   },
   "outputs": [
    {
     "data": {
      "text/html": [
       "    <table  class=\"dataframe-table\">\n",
       "    <thead><tr><th class=\"cell-1\" style=\"\">urlgroup</th> <th class=\"cell-2\" style=\"\">encoded</th> <th class=\"cell-3\" style=\"\">transferred</th> <th class=\"cell-4\" style=\"\">decoded</th></tr></thead>\n",
       "    <tbody>\n",
       "    <tr><td class=\"cell-1\" style=\"\">https://www.nationalgeographic.com/magazine/2017/03/vikings-ships-realm-raiders-scandinavian</td> <td class=\"cell-2\" style=\"text-align:right;\">32,797,824</td> <td class=\"cell-3\" style=\"text-align:right;\">26,017,743</td> <td class=\"cell-4\" style=\"text-align:right;\">3,585,676</td></tr>\n",
       "<tr><td class=\"cell-1\" style=\"\">https://www.nationalgeographic.com/magazine/2017/06/nodosaur-3d-interactive-dinosaur-fossil</td> <td class=\"cell-2\" style=\"text-align:right;\">29,895,318</td> <td class=\"cell-3\" style=\"text-align:right;\">27,434,108</td> <td class=\"cell-4\" style=\"text-align:right;\">93,714</td></tr>\n",
       "<tr><td class=\"cell-1\" style=\"\">https://www.nationalgeographic.com/magazine/2017/01/children-explain-how-gender-affects-their-lives</td> <td class=\"cell-2\" style=\"text-align:right;\">28,316,512</td> <td class=\"cell-3\" style=\"text-align:right;\">28,229,517</td> <td class=\"cell-4\" style=\"text-align:right;\">4,153,124</td></tr>\n",
       "    \n",
       "    <tr><td class=\"cell-1\" style=\"\">https://www.nationalgeographic.com/magazine/2016/05/yellowstone-national-parks-supervolcano-animation</td> <td class=\"cell-2\" style=\"text-align:right;\">24,642,734</td> <td class=\"cell-3\" style=\"text-align:right;\">24,493,804</td> <td class=\"cell-4\" style=\"text-align:right;\">3,485,433</td></tr>\n",
       "<tr><td class=\"cell-1\" style=\"\">https://www.nationalgeographic.com/magazine/2016/06/looting-isis-antiquities-pipeline</td> <td class=\"cell-2\" style=\"text-align:right;\">23,044,983</td> <td class=\"cell-3\" style=\"text-align:right;\">21,813,205</td> <td class=\"cell-4\" style=\"text-align:right;\">3,395,296</td></tr>\n",
       "    </tbody>\n"
      ],
      "text/plain": [
       "HTML{UTF8String}(\"    <table  class=\\\"dataframe-table\\\">\\n    <thead><tr><th class=\\\"cell-1\\\" style=\\\"\\\">urlgroup</th> <th class=\\\"cell-2\\\" style=\\\"\\\">encoded</th> <th class=\\\"cell-3\\\" style=\\\"\\\">transferred</th> <th class=\\\"cell-4\\\" style=\\\"\\\">decoded</th></tr></thead>\\n    <tbody>\\n    <tr><td class=\\\"cell-1\\\" style=\\\"\\\">https://www.nationalgeographic.com/magazine/2017/03/vikings-ships-realm-raiders-scandinavian</td> <td class=\\\"cell-2\\\" style=\\\"text-align:right;\\\">32,797,824</td> <td class=\\\"cell-3\\\" style=\\\"text-align:right;\\\">26,017,743</td> <td class=\\\"cell-4\\\" style=\\\"text-align:right;\\\">3,585,676</td></tr>\\n<tr><td class=\\\"cell-1\\\" style=\\\"\\\">https://www.nationalgeographic.com/magazine/2017/06/nodosaur-3d-interactive-dinosaur-fossil</td> <td class=\\\"cell-2\\\" style=\\\"text-align:right;\\\">29,895,318</td> <td class=\\\"cell-3\\\" style=\\\"text-align:right;\\\">27,434,108</td> <td class=\\\"cell-4\\\" style=\\\"text-align:right;\\\">93,714</td></tr>\\n<tr><td class=\\\"cell-1\\\" style=\\\"\\\">https://www.nationalgeographic.com/magazine/2017/01/children-explain-how-gender-affects-their-lives</td> <td class=\\\"cell-2\\\" style=\\\"text-align:right;\\\">28,316,512</td> <td class=\\\"cell-3\\\" style=\\\"text-align:right;\\\">28,229,517</td> <td class=\\\"cell-4\\\" style=\\\"text-align:right;\\\">4,153,124</td></tr>\\n    \\n    <tr><td class=\\\"cell-1\\\" style=\\\"\\\">https://www.nationalgeographic.com/magazine/2016/05/yellowstone-national-parks-supervolcano-animation</td> <td class=\\\"cell-2\\\" style=\\\"text-align:right;\\\">24,642,734</td> <td class=\\\"cell-3\\\" style=\\\"text-align:right;\\\">24,493,804</td> <td class=\\\"cell-4\\\" style=\\\"text-align:right;\\\">3,485,433</td></tr>\\n<tr><td class=\\\"cell-1\\\" style=\\\"\\\">https://www.nationalgeographic.com/magazine/2016/06/looting-isis-antiquities-pipeline</td> <td class=\\\"cell-2\\\" style=\\\"text-align:right;\\\">23,044,983</td> <td class=\\\"cell-3\\\" style=\\\"text-align:right;\\\">21,813,205</td> <td class=\\\"cell-4\\\" style=\\\"text-align:right;\\\">3,395,296</td></tr>\\n    </tbody>\\n\")"
      ]
     },
     "metadata": {},
     "output_type": "display_data"
    }
   ],
   "source": [
    "joinTableSummary = DataFrame()\n",
    "joinTableSummary = joinTableSummaryFLP(joinTables)\n",
    "beautifyDF(joinTableSummary[1:min(linesOutput,end),[:urlgroup,:encoded,:transferred,:decoded]])\n",
    ";"
   ]
  },
  {
   "cell_type": "code",
   "execution_count": 11,
   "metadata": {
    "collapsed": false,
    "input_collapsed": false,
    "scrolled": false
   },
   "outputs": [
    {
     "data": {
      "text/html": [
       "<div class=\"dswbOutputText\"><h1 class=\"chart_title\" style=\"color:#ccc\">Large Requests for: https://www.nationalgeographic.com/magazine/2017/03/vikings-ships-realm-raiders-scandinavian</h1><h3 class=\"chart_info\" style=\"color:#ccc\">November 27, 2017 06:59:00 to November 27, 2017 16:59:00 Local Time</h3></div>"
      ]
     },
     "metadata": {},
     "output_type": "display_data"
    },
    {
     "data": {
      "text/html": [
       "    <table  class=\"dataframe-table\">\n",
       "    <thead><tr><th class=\"cell-1\" style=\"\">start time</th> <th class=\"cell-2\" style=\"\">encoded size</th> <th class=\"cell-3\" style=\"\">transferred size</th> <th class=\"cell-4\" style=\"\">decoded size</th> <th class=\"cell-5\" style=\"\">urlgroup</th></tr></thead>\n",
       "    <tbody>\n",
       "    <tr><td class=\"cell-1\" style=\"text-align:right;\">488</td> <td class=\"cell-2\" style=\"text-align:right;\">9,262,700</td> <td class=\"cell-3\" style=\"text-align:right;\">9,263,031</td> <td class=\"cell-4\" style=\"\"></td> <td class=\"cell-5\" style=\"\">https://www.nationalgeographic.com/interactive-assets/nggraphics/vikingsettlements-graphic/build-2017-03-27_16-28-31/assets/img/ship-graphic-desktop.png</td></tr>\n",
       "<tr><td class=\"cell-1\" style=\"text-align:right;\">488</td> <td class=\"cell-2\" style=\"text-align:right;\">3,379,446</td> <td class=\"cell-3\" style=\"text-align:right;\">3,379,777</td> <td class=\"cell-4\" style=\"\"></td> <td class=\"cell-5\" style=\"\">https://www.nationalgeographic.com/interactive-assets/nggraphics/vikingsettlements-graphic/build-2017-03-27_16-28-31/assets/img/ship-graphic-mobile-tablet.png</td></tr>\n",
       "<tr><td class=\"cell-1\" style=\"text-align:right;\">489</td> <td class=\"cell-2\" style=\"text-align:right;\">5,684,155</td> <td class=\"cell-3\" style=\"text-align:right;\">5,684,486</td> <td class=\"cell-4\" style=\"\"></td> <td class=\"cell-5\" style=\"\">https://www.nationalgeographic.com/interactive-assets/nggraphics/vikingsettlements-graphic/build-2017-03-27_16-28-31/assets/img/graphic-desktop.png</td></tr>\n",
       "<tr><td class=\"cell-1\" style=\"text-align:right;\">489</td> <td class=\"cell-2\" style=\"text-align:right;\">3,231,654</td> <td class=\"cell-3\" style=\"text-align:right;\">0</td> <td class=\"cell-4\" style=\"\"></td> <td class=\"cell-5\" style=\"\">https://www.nationalgeographic.com/interactive-assets/nggraphics/vikingsettlements-graphic/build-2017-03-27_16-28-31/assets/img/couples_both-tablet.png</td></tr>\n",
       "    \n",
       "    <tr><td class=\"cell-1\" style=\"text-align:right;\">489</td> <td class=\"cell-2\" style=\"text-align:right;\">3,536,378</td> <td class=\"cell-3\" style=\"text-align:right;\">0</td> <td class=\"cell-4\" style=\"\"></td> <td class=\"cell-5\" style=\"\">https://www.nationalgeographic.com/interactive-assets/nggraphics/vikingsettlements-graphic/build-2017-03-27_16-28-31/assets/img/couples_both-desktop.png</td></tr>\n",
       "<tr><td class=\"cell-1\" style=\"text-align:right;\">489</td> <td class=\"cell-2\" style=\"text-align:right;\">1,835,535</td> <td class=\"cell-3\" style=\"text-align:right;\">1,835,866</td> <td class=\"cell-4\" style=\"\"></td> <td class=\"cell-5\" style=\"\">https://www.nationalgeographic.com/interactive-assets/nggraphics/vikingsettlements-graphic/build-2017-03-27_16-28-31/assets/img/graphic-mobile-tablet.png</td></tr>\n",
       "<tr><td class=\"cell-1\" style=\"text-align:right;\">490</td> <td class=\"cell-2\" style=\"text-align:right;\">3,048,454</td> <td class=\"cell-3\" style=\"text-align:right;\">3,048,785</td> <td class=\"cell-4\" style=\"\"></td> <td class=\"cell-5\" style=\"\">https://www.nationalgeographic.com/interactive-assets/nggraphics/vikingsettlements-graphic/build-2017-03-27_16-28-31/assets/img/couples_rus-tablet.png</td></tr>\n",
       "    </tbody>\n"
      ],
      "text/plain": [
       "HTML{UTF8String}(\"    <table  class=\\\"dataframe-table\\\">\\n    <thead><tr><th class=\\\"cell-1\\\" style=\\\"\\\">start time</th> <th class=\\\"cell-2\\\" style=\\\"\\\">encoded size</th> <th class=\\\"cell-3\\\" style=\\\"\\\">transferred size</th> <th class=\\\"cell-4\\\" style=\\\"\\\">decoded size</th> <th class=\\\"cell-5\\\" style=\\\"\\\">urlgroup</th></tr></thead>\\n    <tbody>\\n    <tr><td class=\\\"cell-1\\\" style=\\\"text-align:right;\\\">488</td> <td class=\\\"cell-2\\\" style=\\\"text-align:right;\\\">9,262,700</td> <td class=\\\"cell-3\\\" style=\\\"text-align:right;\\\">9,263,031</td> <td class=\\\"cell-4\\\" style=\\\"\\\"></td> <td class=\\\"cell-5\\\" style=\\\"\\\">https://www.nationalgeographic.com/interactive-assets/nggraphics/vikingsettlements-graphic/build-2017-03-27_16-28-31/assets/img/ship-graphic-desktop.png</td></tr>\\n<tr><td class=\\\"cell-1\\\" style=\\\"text-align:right;\\\">488</td> <td class=\\\"cell-2\\\" style=\\\"text-align:right;\\\">3,379,446</td> <td class=\\\"cell-3\\\" style=\\\"text-align:right;\\\">3,379,777</td> <td class=\\\"cell-4\\\" style=\\\"\\\"></td> <td class=\\\"cell-5\\\" style=\\\"\\\">https://www.nationalgeographic.com/interactive-assets/nggraphics/vikingsettlements-graphic/build-2017-03-27_16-28-31/assets/img/ship-graphic-mobile-tablet.png</td></tr>\\n<tr><td class=\\\"cell-1\\\" style=\\\"text-align:right;\\\">489</td> <td class=\\\"cell-2\\\" style=\\\"text-align:right;\\\">5,684,155</td> <td class=\\\"cell-3\\\" style=\\\"text-align:right;\\\">5,684,486</td> <td class=\\\"cell-4\\\" style=\\\"\\\"></td> <td class=\\\"cell-5\\\" style=\\\"\\\">https://www.nationalgeographic.com/interactive-assets/nggraphics/vikingsettlements-graphic/build-2017-03-27_16-28-31/assets/img/graphic-desktop.png</td></tr>\\n<tr><td class=\\\"cell-1\\\" style=\\\"text-align:right;\\\">489</td> <td class=\\\"cell-2\\\" style=\\\"text-align:right;\\\">3,231,654</td> <td class=\\\"cell-3\\\" style=\\\"text-align:right;\\\">0</td> <td class=\\\"cell-4\\\" style=\\\"\\\"></td> <td class=\\\"cell-5\\\" style=\\\"\\\">https://www.nationalgeographic.com/interactive-assets/nggraphics/vikingsettlements-graphic/build-2017-03-27_16-28-31/assets/img/couples_both-tablet.png</td></tr>\\n    \\n    <tr><td class=\\\"cell-1\\\" style=\\\"text-align:right;\\\">489</td> <td class=\\\"cell-2\\\" style=\\\"text-align:right;\\\">3,536,378</td> <td class=\\\"cell-3\\\" style=\\\"text-align:right;\\\">0</td> <td class=\\\"cell-4\\\" style=\\\"\\\"></td> <td class=\\\"cell-5\\\" style=\\\"\\\">https://www.nationalgeographic.com/interactive-assets/nggraphics/vikingsettlements-graphic/build-2017-03-27_16-28-31/assets/img/couples_both-desktop.png</td></tr>\\n<tr><td class=\\\"cell-1\\\" style=\\\"text-align:right;\\\">489</td> <td class=\\\"cell-2\\\" style=\\\"text-align:right;\\\">1,835,535</td> <td class=\\\"cell-3\\\" style=\\\"text-align:right;\\\">1,835,866</td> <td class=\\\"cell-4\\\" style=\\\"\\\"></td> <td class=\\\"cell-5\\\" style=\\\"\\\">https://www.nationalgeographic.com/interactive-assets/nggraphics/vikingsettlements-graphic/build-2017-03-27_16-28-31/assets/img/graphic-mobile-tablet.png</td></tr>\\n<tr><td class=\\\"cell-1\\\" style=\\\"text-align:right;\\\">490</td> <td class=\\\"cell-2\\\" style=\\\"text-align:right;\\\">3,048,454</td> <td class=\\\"cell-3\\\" style=\\\"text-align:right;\\\">3,048,785</td> <td class=\\\"cell-4\\\" style=\\\"\\\"></td> <td class=\\\"cell-5\\\" style=\\\"\\\">https://www.nationalgeographic.com/interactive-assets/nggraphics/vikingsettlements-graphic/build-2017-03-27_16-28-31/assets/img/couples_rus-tablet.png</td></tr>\\n    </tbody>\\n\")"
      ]
     },
     "metadata": {},
     "output_type": "display_data"
    },
    {
     "data": {
      "text/html": [
       "<div class=\"dswbOutputText\"><h1 class=\"chart_title\" style=\"color:#ccc\">Large Request Stats for: https://www.nationalgeographic.com/magazine/2017/03/vikings-ships-realm-raiders-scandinavian</h1><h3 class=\"chart_info\" style=\"color:#ccc\">November 27, 2017 06:59:00 to November 27, 2017 16:59:00 Local Time</h3></div>"
      ]
     },
     "metadata": {},
     "output_type": "display_data"
    },
    {
     "data": {
      "text/html": [
       "    <table  class=\"dataframe-table\">\n",
       "    <thead><tr><th class=\"cell-1\" style=\"\">RefGroup</th> <th class=\"cell-2\" style=\"\">Unit</th> <th class=\"cell-3\" style=\"\">Count</th> <th class=\"cell-4\" style=\"\">Mean</th> <th class=\"cell-5\" style=\"\">Median</th> <th class=\"cell-6\" style=\"\">Min</th> <th class=\"cell-7\" style=\"\">Max</th></tr></thead>\n",
       "    <tbody>\n",
       "    <tr><td class=\"cell-1\" style=\"\">Desktop</td> <td class=\"cell-2\" style=\"\">seconds</td> <td class=\"cell-3\" style=\"text-align:right;\">5</td> <td class=\"cell-4\" style=\"text-align:right;\">12.394</td> <td class=\"cell-5\" style=\"text-align:right;\">10.656</td> <td class=\"cell-6\" style=\"text-align:right;\">9.479</td> <td class=\"cell-7\" style=\"text-align:right;\">18.87</td></tr>\n",
       "<tr><td class=\"cell-1\" style=\"\">Mobile</td> <td class=\"cell-2\" style=\"\">seconds</td> <td class=\"cell-3\" style=\"text-align:right;\">1</td> <td class=\"cell-4\" style=\"text-align:right;\">11.993</td> <td class=\"cell-5\" style=\"text-align:right;\">11.993</td> <td class=\"cell-6\" style=\"text-align:right;\">11.993</td> <td class=\"cell-7\" style=\"text-align:right;\">11.993</td></tr>\n",
       "    \n",
       "    <tr><td class=\"cell-1\" style=\"\">Tablet</td> <td class=\"cell-2\" style=\"\">seconds</td> <td class=\"cell-3\" style=\"text-align:right;\">1</td> <td class=\"cell-4\" style=\"text-align:right;\">32.971</td> <td class=\"cell-5\" style=\"text-align:right;\">32.971</td> <td class=\"cell-6\" style=\"text-align:right;\">32.971</td> <td class=\"cell-7\" style=\"text-align:right;\">32.971</td></tr>\n",
       "    </tbody>\n"
      ],
      "text/plain": [
       "HTML{UTF8String}(\"    <table  class=\\\"dataframe-table\\\">\\n    <thead><tr><th class=\\\"cell-1\\\" style=\\\"\\\">RefGroup</th> <th class=\\\"cell-2\\\" style=\\\"\\\">Unit</th> <th class=\\\"cell-3\\\" style=\\\"\\\">Count</th> <th class=\\\"cell-4\\\" style=\\\"\\\">Mean</th> <th class=\\\"cell-5\\\" style=\\\"\\\">Median</th> <th class=\\\"cell-6\\\" style=\\\"\\\">Min</th> <th class=\\\"cell-7\\\" style=\\\"\\\">Max</th></tr></thead>\\n    <tbody>\\n    <tr><td class=\\\"cell-1\\\" style=\\\"\\\">Desktop</td> <td class=\\\"cell-2\\\" style=\\\"\\\">seconds</td> <td class=\\\"cell-3\\\" style=\\\"text-align:right;\\\">5</td> <td class=\\\"cell-4\\\" style=\\\"text-align:right;\\\">12.394</td> <td class=\\\"cell-5\\\" style=\\\"text-align:right;\\\">10.656</td> <td class=\\\"cell-6\\\" style=\\\"text-align:right;\\\">9.479</td> <td class=\\\"cell-7\\\" style=\\\"text-align:right;\\\">18.87</td></tr>\\n<tr><td class=\\\"cell-1\\\" style=\\\"\\\">Mobile</td> <td class=\\\"cell-2\\\" style=\\\"\\\">seconds</td> <td class=\\\"cell-3\\\" style=\\\"text-align:right;\\\">1</td> <td class=\\\"cell-4\\\" style=\\\"text-align:right;\\\">11.993</td> <td class=\\\"cell-5\\\" style=\\\"text-align:right;\\\">11.993</td> <td class=\\\"cell-6\\\" style=\\\"text-align:right;\\\">11.993</td> <td class=\\\"cell-7\\\" style=\\\"text-align:right;\\\">11.993</td></tr>\\n    \\n    <tr><td class=\\\"cell-1\\\" style=\\\"\\\">Tablet</td> <td class=\\\"cell-2\\\" style=\\\"\\\">seconds</td> <td class=\\\"cell-3\\\" style=\\\"text-align:right;\\\">1</td> <td class=\\\"cell-4\\\" style=\\\"text-align:right;\\\">32.971</td> <td class=\\\"cell-5\\\" style=\\\"text-align:right;\\\">32.971</td> <td class=\\\"cell-6\\\" style=\\\"text-align:right;\\\">32.971</td> <td class=\\\"cell-7\\\" style=\\\"text-align:right;\\\">32.971</td></tr>\\n    </tbody>\\n\")"
      ]
     },
     "metadata": {},
     "output_type": "display_data"
    },
    {
     "data": {
      "text/html": [
       "<div class=\"dswbOutputText\"><h1 class=\"chart_title\" style=\"color:#ccc\">Large Requests for: https://www.nationalgeographic.com/magazine/2017/06/nodosaur-3d-interactive-dinosaur-fossil</h1><h3 class=\"chart_info\" style=\"color:#ccc\">November 27, 2017 06:59:00 to November 27, 2017 16:59:00 Local Time</h3></div>"
      ]
     },
     "metadata": {},
     "output_type": "display_data"
    },
    {
     "data": {
      "text/html": [
       "    <table  class=\"dataframe-table\">\n",
       "    <thead><tr><th class=\"cell-1\" style=\"\">start time</th> <th class=\"cell-2\" style=\"\">encoded size</th> <th class=\"cell-3\" style=\"\">transferred size</th> <th class=\"cell-4\" style=\"\">decoded size</th> <th class=\"cell-5\" style=\"\">urlgroup</th></tr></thead>\n",
       "    <tbody>\n",
       "    <tr><td class=\"cell-1\" style=\"text-align:right;\">610</td> <td class=\"cell-2\" style=\"text-align:right;\">1,643,385</td> <td class=\"cell-3\" style=\"text-align:right;\">1,643,777</td> <td class=\"cell-4\" style=\"\"></td> <td class=\"cell-5\" style=\"\">https://www.nationalgeographic.com/interactive-assets/nggraphics/ngm-nodosaur/build-2017-08-03_11-06-05/js/base.js</td></tr>\n",
       "<tr><td class=\"cell-1\" style=\"text-align:right;\">1,840</td> <td class=\"cell-2\" style=\"text-align:right;\">1,131,987</td> <td class=\"cell-3\" style=\"text-align:right;\">0</td> <td class=\"cell-4\" style=\"\"></td> <td class=\"cell-5\" style=\"\">https://www.nationalgeographic.com/etc/designs/platform/v2/scripts/ngs-global.ngsversion.5a0e519b.js</td></tr>\n",
       "<tr><td class=\"cell-1\" style=\"text-align:right;\">2,224</td> <td class=\"cell-2\" style=\"text-align:right;\">2,175,913</td> <td class=\"cell-3\" style=\"text-align:right;\">2,176,229</td> <td class=\"cell-4\" style=\"\"></td> <td class=\"cell-5\" style=\"\">https://www.nationalgeographic.com/interactive-assets/nggraphics/ngm-nodosaur/build-2017-08-03_11-06-05/assets/models/block1/Nodosaur_block1.pack</td></tr>\n",
       "<tr><td class=\"cell-1\" style=\"text-align:right;\">2,226</td> <td class=\"cell-2\" style=\"text-align:right;\">1,841,014</td> <td class=\"cell-3\" style=\"text-align:right;\">1,841,330</td> <td class=\"cell-4\" style=\"\"></td> <td class=\"cell-5\" style=\"\">https://www.nationalgeographic.com/interactive-assets/nggraphics/ngm-nodosaur/build-2017-08-03_11-06-05/assets/models/block2/Nodosaur_block2.pack</td></tr>\n",
       "<tr><td class=\"cell-1\" style=\"text-align:right;\">2,227</td> <td class=\"cell-2\" style=\"text-align:right;\">2,565,642</td> <td class=\"cell-3\" style=\"text-align:right;\">2,565,958</td> <td class=\"cell-4\" style=\"\"></td> <td class=\"cell-5\" style=\"\">https://www.nationalgeographic.com/interactive-assets/nggraphics/ngm-nodosaur/build-2017-08-03_11-06-05/assets/models/block3/Nodosaur_block3_group2.pack</td></tr>\n",
       "<tr><td class=\"cell-1\" style=\"text-align:right;\">2,227</td> <td class=\"cell-2\" style=\"text-align:right;\">1,753,641</td> <td class=\"cell-3\" style=\"text-align:right;\">1,753,957</td> <td class=\"cell-4\" style=\"\"></td> <td class=\"cell-5\" style=\"\">https://www.nationalgeographic.com/interactive-assets/nggraphics/ngm-nodosaur/build-2017-08-03_11-06-05/assets/models/block3/Nodosaur_block3_group1.pack</td></tr>\n",
       "<tr><td class=\"cell-1\" style=\"text-align:right;\">2,228</td> <td class=\"cell-2\" style=\"text-align:right;\">1,763,115</td> <td class=\"cell-3\" style=\"text-align:right;\">1,763,431</td> <td class=\"cell-4\" style=\"\"></td> <td class=\"cell-5\" style=\"\">https://www.nationalgeographic.com/interactive-assets/nggraphics/ngm-nodosaur/build-2017-08-03_11-06-05/assets/models/block4/Nodosaur_block4_repos1.pack</td></tr>\n",
       "    \n",
       "    <tr><td class=\"cell-1\" style=\"text-align:right;\">2,229</td> <td class=\"cell-2\" style=\"text-align:right;\">1,907,489</td> <td class=\"cell-3\" style=\"text-align:right;\">1,907,805</td> <td class=\"cell-4\" style=\"\"></td> <td class=\"cell-5\" style=\"\">https://www.nationalgeographic.com/interactive-assets/nggraphics/ngm-nodosaur/build-2017-08-03_11-06-05/assets/models/foot1/Nodosaur_foot1_repos1.pack</td></tr>\n",
       "<tr><td class=\"cell-1\" style=\"text-align:right;\">2,230</td> <td class=\"cell-2\" style=\"text-align:right;\">1,544,761</td> <td class=\"cell-3\" style=\"text-align:right;\">1,545,077</td> <td class=\"cell-4\" style=\"\"></td> <td class=\"cell-5\" style=\"\">https://www.nationalgeographic.com/interactive-assets/nggraphics/ngm-nodosaur/build-2017-08-03_11-06-05/assets/models/foot2/Nodosaur_foot2_repos1.pack</td></tr>\n",
       "<tr><td class=\"cell-1\" style=\"text-align:right;\">2,231</td> <td class=\"cell-2\" style=\"text-align:right;\">1,689,597</td> <td class=\"cell-3\" style=\"text-align:right;\">1,689,913</td> <td class=\"cell-4\" style=\"\"></td> <td class=\"cell-5\" style=\"\">https://www.nationalgeographic.com/interactive-assets/nggraphics/ngm-nodosaur/build-2017-08-03_11-06-05/assets/models/head/Nodosaur_head.pack</td></tr>\n",
       "<tr><td class=\"cell-1\" style=\"text-align:right;\">2,231</td> <td class=\"cell-2\" style=\"text-align:right;\">1,520,130</td> <td class=\"cell-3\" style=\"text-align:right;\">1,520,492</td> <td class=\"cell-4\" style=\"\"></td> <td class=\"cell-5\" style=\"\">https://www.nationalgeographic.com/interactive-assets/nggraphics/ngm-nodosaur/build-2017-08-03_11-06-05/assets/models/block1/Nodosaur_block1_color.jpg</td></tr>\n",
       "<tr><td class=\"cell-1\" style=\"text-align:right;\">2,232</td> <td class=\"cell-2\" style=\"text-align:right;\">3,919,683</td> <td class=\"cell-3\" style=\"text-align:right;\">3,920,045</td> <td class=\"cell-4\" style=\"\"></td> <td class=\"cell-5\" style=\"\">https://www.nationalgeographic.com/interactive-assets/nggraphics/ngm-nodosaur/build-2017-08-03_11-06-05/assets/models/block3/block3_multi_plus1EV_hybrid.jpg</td></tr>\n",
       "<tr><td class=\"cell-1\" style=\"text-align:right;\">2,232</td> <td class=\"cell-2\" style=\"text-align:right;\">2,353,710</td> <td class=\"cell-3\" style=\"text-align:right;\">2,354,072</td> <td class=\"cell-4\" style=\"\"></td> <td class=\"cell-5\" style=\"\">https://www.nationalgeographic.com/interactive-assets/nggraphics/ngm-nodosaur/build-2017-08-03_11-06-05/assets/models/block3/Nodosaur_block3_color.jpg</td></tr>\n",
       "    </tbody>\n"
      ],
      "text/plain": [
       "HTML{UTF8String}(\"    <table  class=\\\"dataframe-table\\\">\\n    <thead><tr><th class=\\\"cell-1\\\" style=\\\"\\\">start time</th> <th class=\\\"cell-2\\\" style=\\\"\\\">encoded size</th> <th class=\\\"cell-3\\\" style=\\\"\\\">transferred size</th> <th class=\\\"cell-4\\\" style=\\\"\\\">decoded size</th> <th class=\\\"cell-5\\\" style=\\\"\\\">urlgroup</th></tr></thead>\\n    <tbody>\\n    <tr><td class=\\\"cell-1\\\" style=\\\"text-align:right;\\\">610</td> <td class=\\\"cell-2\\\" style=\\\"text-align:right;\\\">1,643,385</td> <td class=\\\"cell-3\\\" style=\\\"text-align:right;\\\">1,643,777</td> <td class=\\\"cell-4\\\" style=\\\"\\\"></td> <td class=\\\"cell-5\\\" style=\\\"\\\">https://www.nationalgeographic.com/interactive-assets/nggraphics/ngm-nodosaur/build-2017-08-03_11-06-05/js/base.js</td></tr>\\n<tr><td class=\\\"cell-1\\\" style=\\\"text-align:right;\\\">1,840</td> <td class=\\\"cell-2\\\" style=\\\"text-align:right;\\\">1,131,987</td> <td class=\\\"cell-3\\\" style=\\\"text-align:right;\\\">0</td> <td class=\\\"cell-4\\\" style=\\\"\\\"></td> <td class=\\\"cell-5\\\" style=\\\"\\\">https://www.nationalgeographic.com/etc/designs/platform/v2/scripts/ngs-global.ngsversion.5a0e519b.js</td></tr>\\n<tr><td class=\\\"cell-1\\\" style=\\\"text-align:right;\\\">2,224</td> <td class=\\\"cell-2\\\" style=\\\"text-align:right;\\\">2,175,913</td> <td class=\\\"cell-3\\\" style=\\\"text-align:right;\\\">2,176,229</td> <td class=\\\"cell-4\\\" style=\\\"\\\"></td> <td class=\\\"cell-5\\\" style=\\\"\\\">https://www.nationalgeographic.com/interactive-assets/nggraphics/ngm-nodosaur/build-2017-08-03_11-06-05/assets/models/block1/Nodosaur_block1.pack</td></tr>\\n<tr><td class=\\\"cell-1\\\" style=\\\"text-align:right;\\\">2,226</td> <td class=\\\"cell-2\\\" style=\\\"text-align:right;\\\">1,841,014</td> <td class=\\\"cell-3\\\" style=\\\"text-align:right;\\\">1,841,330</td> <td class=\\\"cell-4\\\" style=\\\"\\\"></td> <td class=\\\"cell-5\\\" style=\\\"\\\">https://www.nationalgeographic.com/interactive-assets/nggraphics/ngm-nodosaur/build-2017-08-03_11-06-05/assets/models/block2/Nodosaur_block2.pack</td></tr>\\n<tr><td class=\\\"cell-1\\\" style=\\\"text-align:right;\\\">2,227</td> <td class=\\\"cell-2\\\" style=\\\"text-align:right;\\\">2,565,642</td> <td class=\\\"cell-3\\\" style=\\\"text-align:right;\\\">2,565,958</td> <td class=\\\"cell-4\\\" style=\\\"\\\"></td> <td class=\\\"cell-5\\\" style=\\\"\\\">https://www.nationalgeographic.com/interactive-assets/nggraphics/ngm-nodosaur/build-2017-08-03_11-06-05/assets/models/block3/Nodosaur_block3_group2.pack</td></tr>\\n<tr><td class=\\\"cell-1\\\" style=\\\"text-align:right;\\\">2,227</td> <td class=\\\"cell-2\\\" style=\\\"text-align:right;\\\">1,753,641</td> <td class=\\\"cell-3\\\" style=\\\"text-align:right;\\\">1,753,957</td> <td class=\\\"cell-4\\\" style=\\\"\\\"></td> <td class=\\\"cell-5\\\" style=\\\"\\\">https://www.nationalgeographic.com/interactive-assets/nggraphics/ngm-nodosaur/build-2017-08-03_11-06-05/assets/models/block3/Nodosaur_block3_group1.pack</td></tr>\\n<tr><td class=\\\"cell-1\\\" style=\\\"text-align:right;\\\">2,228</td> <td class=\\\"cell-2\\\" style=\\\"text-align:right;\\\">1,763,115</td> <td class=\\\"cell-3\\\" style=\\\"text-align:right;\\\">1,763,431</td> <td class=\\\"cell-4\\\" style=\\\"\\\"></td> <td class=\\\"cell-5\\\" style=\\\"\\\">https://www.nationalgeographic.com/interactive-assets/nggraphics/ngm-nodosaur/build-2017-08-03_11-06-05/assets/models/block4/Nodosaur_block4_repos1.pack</td></tr>\\n    \\n    <tr><td class=\\\"cell-1\\\" style=\\\"text-align:right;\\\">2,229</td> <td class=\\\"cell-2\\\" style=\\\"text-align:right;\\\">1,907,489</td> <td class=\\\"cell-3\\\" style=\\\"text-align:right;\\\">1,907,805</td> <td class=\\\"cell-4\\\" style=\\\"\\\"></td> <td class=\\\"cell-5\\\" style=\\\"\\\">https://www.nationalgeographic.com/interactive-assets/nggraphics/ngm-nodosaur/build-2017-08-03_11-06-05/assets/models/foot1/Nodosaur_foot1_repos1.pack</td></tr>\\n<tr><td class=\\\"cell-1\\\" style=\\\"text-align:right;\\\">2,230</td> <td class=\\\"cell-2\\\" style=\\\"text-align:right;\\\">1,544,761</td> <td class=\\\"cell-3\\\" style=\\\"text-align:right;\\\">1,545,077</td> <td class=\\\"cell-4\\\" style=\\\"\\\"></td> <td class=\\\"cell-5\\\" style=\\\"\\\">https://www.nationalgeographic.com/interactive-assets/nggraphics/ngm-nodosaur/build-2017-08-03_11-06-05/assets/models/foot2/Nodosaur_foot2_repos1.pack</td></tr>\\n<tr><td class=\\\"cell-1\\\" style=\\\"text-align:right;\\\">2,231</td> <td class=\\\"cell-2\\\" style=\\\"text-align:right;\\\">1,689,597</td> <td class=\\\"cell-3\\\" style=\\\"text-align:right;\\\">1,689,913</td> <td class=\\\"cell-4\\\" style=\\\"\\\"></td> <td class=\\\"cell-5\\\" style=\\\"\\\">https://www.nationalgeographic.com/interactive-assets/nggraphics/ngm-nodosaur/build-2017-08-03_11-06-05/assets/models/head/Nodosaur_head.pack</td></tr>\\n<tr><td class=\\\"cell-1\\\" style=\\\"text-align:right;\\\">2,231</td> <td class=\\\"cell-2\\\" style=\\\"text-align:right;\\\">1,520,130</td> <td class=\\\"cell-3\\\" style=\\\"text-align:right;\\\">1,520,492</td> <td class=\\\"cell-4\\\" style=\\\"\\\"></td> <td class=\\\"cell-5\\\" style=\\\"\\\">https://www.nationalgeographic.com/interactive-assets/nggraphics/ngm-nodosaur/build-2017-08-03_11-06-05/assets/models/block1/Nodosaur_block1_color.jpg</td></tr>\\n<tr><td class=\\\"cell-1\\\" style=\\\"text-align:right;\\\">2,232</td> <td class=\\\"cell-2\\\" style=\\\"text-align:right;\\\">3,919,683</td> <td class=\\\"cell-3\\\" style=\\\"text-align:right;\\\">3,920,045</td> <td class=\\\"cell-4\\\" style=\\\"\\\"></td> <td class=\\\"cell-5\\\" style=\\\"\\\">https://www.nationalgeographic.com/interactive-assets/nggraphics/ngm-nodosaur/build-2017-08-03_11-06-05/assets/models/block3/block3_multi_plus1EV_hybrid.jpg</td></tr>\\n<tr><td class=\\\"cell-1\\\" style=\\\"text-align:right;\\\">2,232</td> <td class=\\\"cell-2\\\" style=\\\"text-align:right;\\\">2,353,710</td> <td class=\\\"cell-3\\\" style=\\\"text-align:right;\\\">2,354,072</td> <td class=\\\"cell-4\\\" style=\\\"\\\"></td> <td class=\\\"cell-5\\\" style=\\\"\\\">https://www.nationalgeographic.com/interactive-assets/nggraphics/ngm-nodosaur/build-2017-08-03_11-06-05/assets/models/block3/Nodosaur_block3_color.jpg</td></tr>\\n    </tbody>\\n\")"
      ]
     },
     "metadata": {},
     "output_type": "display_data"
    },
    {
     "data": {
      "text/html": [
       "<div class=\"dswbOutputText\"><h1 class=\"chart_title\" style=\"color:#ccc\">Large Request Stats for: https://www.nationalgeographic.com/magazine/2017/06/nodosaur-3d-interactive-dinosaur-fossil</h1><h3 class=\"chart_info\" style=\"color:#ccc\">November 27, 2017 06:59:00 to November 27, 2017 16:59:00 Local Time</h3></div>"
      ]
     },
     "metadata": {},
     "output_type": "display_data"
    },
    {
     "data": {
      "text/html": [
       "    <table  class=\"dataframe-table\">\n",
       "    <thead><tr><th class=\"cell-1\" style=\"\">RefGroup</th> <th class=\"cell-2\" style=\"\">Unit</th> <th class=\"cell-3\" style=\"\">Count</th> <th class=\"cell-4\" style=\"\">Mean</th> <th class=\"cell-5\" style=\"\">Median</th> <th class=\"cell-6\" style=\"\">Min</th> <th class=\"cell-7\" style=\"\">Max</th></tr></thead>\n",
       "    <tbody>\n",
       "    <tr><td class=\"cell-1\" style=\"\">Desktop</td> <td class=\"cell-2\" style=\"\">seconds</td> <td class=\"cell-3\" style=\"text-align:right;\">67</td> <td class=\"cell-4\" style=\"text-align:right;\">33.441</td> <td class=\"cell-5\" style=\"text-align:right;\">12.584</td> <td class=\"cell-6\" style=\"text-align:right;\">4.496</td> <td class=\"cell-7\" style=\"text-align:right;\">532.161</td></tr>\n",
       "<tr><td class=\"cell-1\" style=\"\">Mobile</td> <td class=\"cell-2\" style=\"\">seconds</td> <td class=\"cell-3\" style=\"text-align:right;\">8</td> <td class=\"cell-4\" style=\"text-align:right;\">20.062</td> <td class=\"cell-5\" style=\"text-align:right;\">13.66</td> <td class=\"cell-6\" style=\"text-align:right;\">6.275</td> <td class=\"cell-7\" style=\"text-align:right;\">69.1</td></tr>\n",
       "    \n",
       "    <tr><td class=\"cell-1\" style=\"\">Tablet</td> <td class=\"cell-2\" style=\"\">seconds</td> <td class=\"cell-3\" style=\"text-align:right;\">3</td> <td class=\"cell-4\" style=\"text-align:right;\">18.491</td> <td class=\"cell-5\" style=\"text-align:right;\">16.766</td> <td class=\"cell-6\" style=\"text-align:right;\">16.215</td> <td class=\"cell-7\" style=\"text-align:right;\">22.492</td></tr>\n",
       "    </tbody>\n"
      ],
      "text/plain": [
       "HTML{UTF8String}(\"    <table  class=\\\"dataframe-table\\\">\\n    <thead><tr><th class=\\\"cell-1\\\" style=\\\"\\\">RefGroup</th> <th class=\\\"cell-2\\\" style=\\\"\\\">Unit</th> <th class=\\\"cell-3\\\" style=\\\"\\\">Count</th> <th class=\\\"cell-4\\\" style=\\\"\\\">Mean</th> <th class=\\\"cell-5\\\" style=\\\"\\\">Median</th> <th class=\\\"cell-6\\\" style=\\\"\\\">Min</th> <th class=\\\"cell-7\\\" style=\\\"\\\">Max</th></tr></thead>\\n    <tbody>\\n    <tr><td class=\\\"cell-1\\\" style=\\\"\\\">Desktop</td> <td class=\\\"cell-2\\\" style=\\\"\\\">seconds</td> <td class=\\\"cell-3\\\" style=\\\"text-align:right;\\\">67</td> <td class=\\\"cell-4\\\" style=\\\"text-align:right;\\\">33.441</td> <td class=\\\"cell-5\\\" style=\\\"text-align:right;\\\">12.584</td> <td class=\\\"cell-6\\\" style=\\\"text-align:right;\\\">4.496</td> <td class=\\\"cell-7\\\" style=\\\"text-align:right;\\\">532.161</td></tr>\\n<tr><td class=\\\"cell-1\\\" style=\\\"\\\">Mobile</td> <td class=\\\"cell-2\\\" style=\\\"\\\">seconds</td> <td class=\\\"cell-3\\\" style=\\\"text-align:right;\\\">8</td> <td class=\\\"cell-4\\\" style=\\\"text-align:right;\\\">20.062</td> <td class=\\\"cell-5\\\" style=\\\"text-align:right;\\\">13.66</td> <td class=\\\"cell-6\\\" style=\\\"text-align:right;\\\">6.275</td> <td class=\\\"cell-7\\\" style=\\\"text-align:right;\\\">69.1</td></tr>\\n    \\n    <tr><td class=\\\"cell-1\\\" style=\\\"\\\">Tablet</td> <td class=\\\"cell-2\\\" style=\\\"\\\">seconds</td> <td class=\\\"cell-3\\\" style=\\\"text-align:right;\\\">3</td> <td class=\\\"cell-4\\\" style=\\\"text-align:right;\\\">18.491</td> <td class=\\\"cell-5\\\" style=\\\"text-align:right;\\\">16.766</td> <td class=\\\"cell-6\\\" style=\\\"text-align:right;\\\">16.215</td> <td class=\\\"cell-7\\\" style=\\\"text-align:right;\\\">22.492</td></tr>\\n    </tbody>\\n\")"
      ]
     },
     "metadata": {},
     "output_type": "display_data"
    },
    {
     "data": {
      "text/html": [
       "<div class=\"dswbOutputText\"><h1 class=\"chart_title\" style=\"color:#ccc\">Large Requests for: https://www.nationalgeographic.com/magazine/2017/01/children-explain-how-gender-affects-their-lives</h1><h3 class=\"chart_info\" style=\"color:#ccc\">November 27, 2017 06:59:00 to November 27, 2017 16:59:00 Local Time</h3></div>"
      ]
     },
     "metadata": {},
     "output_type": "display_data"
    },
    {
     "data": {
      "text/html": [
       "    <table  class=\"dataframe-table\">\n",
       "    <thead><tr><th class=\"cell-1\" style=\"\">start time</th> <th class=\"cell-2\" style=\"\">encoded size</th> <th class=\"cell-3\" style=\"\">transferred size</th> <th class=\"cell-4\" style=\"\">decoded size</th> <th class=\"cell-5\" style=\"\">urlgroup</th></tr></thead>\n",
       "    <tbody>\n",
       "    <tr><td class=\"cell-1\" style=\"text-align:right;\">1,961</td> <td class=\"cell-2\" style=\"text-align:right;\">1,035,469</td> <td class=\"cell-3\" style=\"text-align:right;\">1,035,846</td> <td class=\"cell-4\" style=\"\"></td> <td class=\"cell-5\" style=\"\">https://www.nationalgeographic.com/content/dam/magazine/rights-exempt/2017/01/NineLives/04NineLives_2048.jpg</td></tr>\n",
       "<tr><td class=\"cell-1\" style=\"text-align:right;\">1,962</td> <td class=\"cell-2\" style=\"text-align:right;\">1,025,966</td> <td class=\"cell-3\" style=\"text-align:right;\">1,026,343</td> <td class=\"cell-4\" style=\"\"></td> <td class=\"cell-5\" style=\"\">https://www.nationalgeographic.com/content/dam/magazine/rights-exempt/2017/01/NineLives/07NineLives_2048.jpg</td></tr>\n",
       "<tr><td class=\"cell-1\" style=\"text-align:right;\">1,962</td> <td class=\"cell-2\" style=\"text-align:right;\">1,028,023</td> <td class=\"cell-3\" style=\"text-align:right;\">1,028,400</td> <td class=\"cell-4\" style=\"\"></td> <td class=\"cell-5\" style=\"\">https://www.nationalgeographic.com/content/dam/magazine/rights-exempt/2017/01/NineLives/08NineLives_2048.jpg</td></tr>\n",
       "<tr><td class=\"cell-1\" style=\"text-align:right;\">1,963</td> <td class=\"cell-2\" style=\"text-align:right;\">1,019,890</td> <td class=\"cell-3\" style=\"text-align:right;\">1,020,267</td> <td class=\"cell-4\" style=\"\"></td> <td class=\"cell-5\" style=\"\">https://www.nationalgeographic.com/content/dam/magazine/rights-exempt/2017/01/NineLives/09NineLives_2048.jpg</td></tr>\n",
       "<tr><td class=\"cell-1\" style=\"text-align:right;\">2,019</td> <td class=\"cell-2\" style=\"text-align:right;\">1,008,571</td> <td class=\"cell-3\" style=\"text-align:right;\">1,008,948</td> <td class=\"cell-4\" style=\"\"></td> <td class=\"cell-5\" style=\"\">https://www.nationalgeographic.com/content/dam/magazine/rights-exempt/2017/01/NineLives/10NineLives_2048.jpg</td></tr>\n",
       "<tr><td class=\"cell-1\" style=\"text-align:right;\">2,020</td> <td class=\"cell-2\" style=\"text-align:right;\">1,001,394</td> <td class=\"cell-3\" style=\"text-align:right;\">1,001,771</td> <td class=\"cell-4\" style=\"\"></td> <td class=\"cell-5\" style=\"\">https://www.nationalgeographic.com/content/dam/magazine/rights-exempt/2017/01/NineLives/13NineLives_2048.jpg</td></tr>\n",
       "<tr><td class=\"cell-1\" style=\"text-align:right;\">2,020</td> <td class=\"cell-2\" style=\"text-align:right;\">1,036,388</td> <td class=\"cell-3\" style=\"text-align:right;\">1,036,765</td> <td class=\"cell-4\" style=\"\"></td> <td class=\"cell-5\" style=\"\">https://www.nationalgeographic.com/content/dam/magazine/rights-exempt/2017/01/NineLives/11NineLives_2048.jpg</td></tr>\n",
       "<tr><td class=\"cell-1\" style=\"text-align:right;\">2,021</td> <td class=\"cell-2\" style=\"text-align:right;\">1,032,819</td> <td class=\"cell-3\" style=\"text-align:right;\">1,033,196</td> <td class=\"cell-4\" style=\"\"></td> <td class=\"cell-5\" style=\"\">https://www.nationalgeographic.com/content/dam/magazine/rights-exempt/2017/01/NineLives/16NineLives_2048.jpg</td></tr>\n",
       "<tr><td class=\"cell-1\" style=\"text-align:right;\">2,021</td> <td class=\"cell-2\" style=\"text-align:right;\">1,023,791</td> <td class=\"cell-3\" style=\"text-align:right;\">1,024,168</td> <td class=\"cell-4\" style=\"\"></td> <td class=\"cell-5\" style=\"\">https://www.nationalgeographic.com/content/dam/magazine/rights-exempt/2017/01/NineLives/15NineLives_2048.jpg</td></tr>\n",
       "    \n",
       "    <tr><td class=\"cell-1\" style=\"text-align:right;\">2,021</td> <td class=\"cell-2\" style=\"text-align:right;\">1,013,658</td> <td class=\"cell-3\" style=\"text-align:right;\">1,014,035</td> <td class=\"cell-4\" style=\"\"></td> <td class=\"cell-5\" style=\"\">https://www.nationalgeographic.com/content/dam/magazine/rights-exempt/2017/01/NineLives/14NineLives_2048.jpg</td></tr>\n",
       "<tr><td class=\"cell-1\" style=\"text-align:right;\">2,022</td> <td class=\"cell-2\" style=\"text-align:right;\">1,016,805</td> <td class=\"cell-3\" style=\"text-align:right;\">1,017,182</td> <td class=\"cell-4\" style=\"\"></td> <td class=\"cell-5\" style=\"\">https://www.nationalgeographic.com/content/dam/magazine/rights-exempt/2017/01/NineLives/17NineLives_2048.jpg</td></tr>\n",
       "<tr><td class=\"cell-1\" style=\"text-align:right;\">2,022</td> <td class=\"cell-2\" style=\"text-align:right;\">1,016,079</td> <td class=\"cell-3\" style=\"text-align:right;\">1,016,456</td> <td class=\"cell-4\" style=\"\"></td> <td class=\"cell-5\" style=\"\">https://www.nationalgeographic.com/content/dam/magazine/rights-exempt/2017/01/NineLives/18NineLives_2048.jpg</td></tr>\n",
       "<tr><td class=\"cell-1\" style=\"text-align:right;\">2,044</td> <td class=\"cell-2\" style=\"text-align:right;\">1,042,447</td> <td class=\"cell-3\" style=\"text-align:right;\">1,042,824</td> <td class=\"cell-4\" style=\"\"></td> <td class=\"cell-5\" style=\"\">https://www.nationalgeographic.com/content/dam/magazine/rights-exempt/2017/01/NineLives/20NineLives_2048.jpg</td></tr>\n",
       "<tr><td class=\"cell-1\" style=\"text-align:right;\">2,044</td> <td class=\"cell-2\" style=\"text-align:right;\">1,013,926</td> <td class=\"cell-3\" style=\"text-align:right;\">1,014,303</td> <td class=\"cell-4\" style=\"\"></td> <td class=\"cell-5\" style=\"\">https://www.nationalgeographic.com/content/dam/magazine/rights-exempt/2017/01/NineLives/19NineLives_2048.jpg</td></tr>\n",
       "<tr><td class=\"cell-1\" style=\"text-align:right;\">2,046</td> <td class=\"cell-2\" style=\"text-align:right;\">1,013,127</td> <td class=\"cell-3\" style=\"text-align:right;\">1,013,504</td> <td class=\"cell-4\" style=\"\"></td> <td class=\"cell-5\" style=\"\">https://www.nationalgeographic.com/content/dam/magazine/rights-exempt/2017/01/NineLives/24NineLives_2048.jpg</td></tr>\n",
       "<tr><td class=\"cell-1\" style=\"text-align:right;\">2,046</td> <td class=\"cell-2\" style=\"text-align:right;\">1,016,027</td> <td class=\"cell-3\" style=\"text-align:right;\">1,016,404</td> <td class=\"cell-4\" style=\"\"></td> <td class=\"cell-5\" style=\"\">https://www.nationalgeographic.com/content/dam/magazine/rights-exempt/2017/01/NineLives/25NineLives_2048.jpg</td></tr>\n",
       "<tr><td class=\"cell-1\" style=\"text-align:right;\">2,047</td> <td class=\"cell-2\" style=\"text-align:right;\">1,020,101</td> <td class=\"cell-3\" style=\"text-align:right;\">1,020,478</td> <td class=\"cell-4\" style=\"\"></td> <td class=\"cell-5\" style=\"\">https://www.nationalgeographic.com/content/dam/magazine/rights-exempt/2017/01/NineLives/27NineLives_2048.jpg</td></tr>\n",
       "    </tbody>\n"
      ],
      "text/plain": [
       "HTML{UTF8String}(\"    <table  class=\\\"dataframe-table\\\">\\n    <thead><tr><th class=\\\"cell-1\\\" style=\\\"\\\">start time</th> <th class=\\\"cell-2\\\" style=\\\"\\\">encoded size</th> <th class=\\\"cell-3\\\" style=\\\"\\\">transferred size</th> <th class=\\\"cell-4\\\" style=\\\"\\\">decoded size</th> <th class=\\\"cell-5\\\" style=\\\"\\\">urlgroup</th></tr></thead>\\n    <tbody>\\n    <tr><td class=\\\"cell-1\\\" style=\\\"text-align:right;\\\">1,961</td> <td class=\\\"cell-2\\\" style=\\\"text-align:right;\\\">1,035,469</td> <td class=\\\"cell-3\\\" style=\\\"text-align:right;\\\">1,035,846</td> <td class=\\\"cell-4\\\" style=\\\"\\\"></td> <td class=\\\"cell-5\\\" style=\\\"\\\">https://www.nationalgeographic.com/content/dam/magazine/rights-exempt/2017/01/NineLives/04NineLives_2048.jpg</td></tr>\\n<tr><td class=\\\"cell-1\\\" style=\\\"text-align:right;\\\">1,962</td> <td class=\\\"cell-2\\\" style=\\\"text-align:right;\\\">1,025,966</td> <td class=\\\"cell-3\\\" style=\\\"text-align:right;\\\">1,026,343</td> <td class=\\\"cell-4\\\" style=\\\"\\\"></td> <td class=\\\"cell-5\\\" style=\\\"\\\">https://www.nationalgeographic.com/content/dam/magazine/rights-exempt/2017/01/NineLives/07NineLives_2048.jpg</td></tr>\\n<tr><td class=\\\"cell-1\\\" style=\\\"text-align:right;\\\">1,962</td> <td class=\\\"cell-2\\\" style=\\\"text-align:right;\\\">1,028,023</td> <td class=\\\"cell-3\\\" style=\\\"text-align:right;\\\">1,028,400</td> <td class=\\\"cell-4\\\" style=\\\"\\\"></td> <td class=\\\"cell-5\\\" style=\\\"\\\">https://www.nationalgeographic.com/content/dam/magazine/rights-exempt/2017/01/NineLives/08NineLives_2048.jpg</td></tr>\\n<tr><td class=\\\"cell-1\\\" style=\\\"text-align:right;\\\">1,963</td> <td class=\\\"cell-2\\\" style=\\\"text-align:right;\\\">1,019,890</td> <td class=\\\"cell-3\\\" style=\\\"text-align:right;\\\">1,020,267</td> <td class=\\\"cell-4\\\" style=\\\"\\\"></td> <td class=\\\"cell-5\\\" style=\\\"\\\">https://www.nationalgeographic.com/content/dam/magazine/rights-exempt/2017/01/NineLives/09NineLives_2048.jpg</td></tr>\\n<tr><td class=\\\"cell-1\\\" style=\\\"text-align:right;\\\">2,019</td> <td class=\\\"cell-2\\\" style=\\\"text-align:right;\\\">1,008,571</td> <td class=\\\"cell-3\\\" style=\\\"text-align:right;\\\">1,008,948</td> <td class=\\\"cell-4\\\" style=\\\"\\\"></td> <td class=\\\"cell-5\\\" style=\\\"\\\">https://www.nationalgeographic.com/content/dam/magazine/rights-exempt/2017/01/NineLives/10NineLives_2048.jpg</td></tr>\\n<tr><td class=\\\"cell-1\\\" style=\\\"text-align:right;\\\">2,020</td> <td class=\\\"cell-2\\\" style=\\\"text-align:right;\\\">1,001,394</td> <td class=\\\"cell-3\\\" style=\\\"text-align:right;\\\">1,001,771</td> <td class=\\\"cell-4\\\" style=\\\"\\\"></td> <td class=\\\"cell-5\\\" style=\\\"\\\">https://www.nationalgeographic.com/content/dam/magazine/rights-exempt/2017/01/NineLives/13NineLives_2048.jpg</td></tr>\\n<tr><td class=\\\"cell-1\\\" style=\\\"text-align:right;\\\">2,020</td> <td class=\\\"cell-2\\\" style=\\\"text-align:right;\\\">1,036,388</td> <td class=\\\"cell-3\\\" style=\\\"text-align:right;\\\">1,036,765</td> <td class=\\\"cell-4\\\" style=\\\"\\\"></td> <td class=\\\"cell-5\\\" style=\\\"\\\">https://www.nationalgeographic.com/content/dam/magazine/rights-exempt/2017/01/NineLives/11NineLives_2048.jpg</td></tr>\\n<tr><td class=\\\"cell-1\\\" style=\\\"text-align:right;\\\">2,021</td> <td class=\\\"cell-2\\\" style=\\\"text-align:right;\\\">1,032,819</td> <td class=\\\"cell-3\\\" style=\\\"text-align:right;\\\">1,033,196</td> <td class=\\\"cell-4\\\" style=\\\"\\\"></td> <td class=\\\"cell-5\\\" style=\\\"\\\">https://www.nationalgeographic.com/content/dam/magazine/rights-exempt/2017/01/NineLives/16NineLives_2048.jpg</td></tr>\\n<tr><td class=\\\"cell-1\\\" style=\\\"text-align:right;\\\">2,021</td> <td class=\\\"cell-2\\\" style=\\\"text-align:right;\\\">1,023,791</td> <td class=\\\"cell-3\\\" style=\\\"text-align:right;\\\">1,024,168</td> <td class=\\\"cell-4\\\" style=\\\"\\\"></td> <td class=\\\"cell-5\\\" style=\\\"\\\">https://www.nationalgeographic.com/content/dam/magazine/rights-exempt/2017/01/NineLives/15NineLives_2048.jpg</td></tr>\\n    \\n    <tr><td class=\\\"cell-1\\\" style=\\\"text-align:right;\\\">2,021</td> <td class=\\\"cell-2\\\" style=\\\"text-align:right;\\\">1,013,658</td> <td class=\\\"cell-3\\\" style=\\\"text-align:right;\\\">1,014,035</td> <td class=\\\"cell-4\\\" style=\\\"\\\"></td> <td class=\\\"cell-5\\\" style=\\\"\\\">https://www.nationalgeographic.com/content/dam/magazine/rights-exempt/2017/01/NineLives/14NineLives_2048.jpg</td></tr>\\n<tr><td class=\\\"cell-1\\\" style=\\\"text-align:right;\\\">2,022</td> <td class=\\\"cell-2\\\" style=\\\"text-align:right;\\\">1,016,805</td> <td class=\\\"cell-3\\\" style=\\\"text-align:right;\\\">1,017,182</td> <td class=\\\"cell-4\\\" style=\\\"\\\"></td> <td class=\\\"cell-5\\\" style=\\\"\\\">https://www.nationalgeographic.com/content/dam/magazine/rights-exempt/2017/01/NineLives/17NineLives_2048.jpg</td></tr>\\n<tr><td class=\\\"cell-1\\\" style=\\\"text-align:right;\\\">2,022</td> <td class=\\\"cell-2\\\" style=\\\"text-align:right;\\\">1,016,079</td> <td class=\\\"cell-3\\\" style=\\\"text-align:right;\\\">1,016,456</td> <td class=\\\"cell-4\\\" style=\\\"\\\"></td> <td class=\\\"cell-5\\\" style=\\\"\\\">https://www.nationalgeographic.com/content/dam/magazine/rights-exempt/2017/01/NineLives/18NineLives_2048.jpg</td></tr>\\n<tr><td class=\\\"cell-1\\\" style=\\\"text-align:right;\\\">2,044</td> <td class=\\\"cell-2\\\" style=\\\"text-align:right;\\\">1,042,447</td> <td class=\\\"cell-3\\\" style=\\\"text-align:right;\\\">1,042,824</td> <td class=\\\"cell-4\\\" style=\\\"\\\"></td> <td class=\\\"cell-5\\\" style=\\\"\\\">https://www.nationalgeographic.com/content/dam/magazine/rights-exempt/2017/01/NineLives/20NineLives_2048.jpg</td></tr>\\n<tr><td class=\\\"cell-1\\\" style=\\\"text-align:right;\\\">2,044</td> <td class=\\\"cell-2\\\" style=\\\"text-align:right;\\\">1,013,926</td> <td class=\\\"cell-3\\\" style=\\\"text-align:right;\\\">1,014,303</td> <td class=\\\"cell-4\\\" style=\\\"\\\"></td> <td class=\\\"cell-5\\\" style=\\\"\\\">https://www.nationalgeographic.com/content/dam/magazine/rights-exempt/2017/01/NineLives/19NineLives_2048.jpg</td></tr>\\n<tr><td class=\\\"cell-1\\\" style=\\\"text-align:right;\\\">2,046</td> <td class=\\\"cell-2\\\" style=\\\"text-align:right;\\\">1,013,127</td> <td class=\\\"cell-3\\\" style=\\\"text-align:right;\\\">1,013,504</td> <td class=\\\"cell-4\\\" style=\\\"\\\"></td> <td class=\\\"cell-5\\\" style=\\\"\\\">https://www.nationalgeographic.com/content/dam/magazine/rights-exempt/2017/01/NineLives/24NineLives_2048.jpg</td></tr>\\n<tr><td class=\\\"cell-1\\\" style=\\\"text-align:right;\\\">2,046</td> <td class=\\\"cell-2\\\" style=\\\"text-align:right;\\\">1,016,027</td> <td class=\\\"cell-3\\\" style=\\\"text-align:right;\\\">1,016,404</td> <td class=\\\"cell-4\\\" style=\\\"\\\"></td> <td class=\\\"cell-5\\\" style=\\\"\\\">https://www.nationalgeographic.com/content/dam/magazine/rights-exempt/2017/01/NineLives/25NineLives_2048.jpg</td></tr>\\n<tr><td class=\\\"cell-1\\\" style=\\\"text-align:right;\\\">2,047</td> <td class=\\\"cell-2\\\" style=\\\"text-align:right;\\\">1,020,101</td> <td class=\\\"cell-3\\\" style=\\\"text-align:right;\\\">1,020,478</td> <td class=\\\"cell-4\\\" style=\\\"\\\"></td> <td class=\\\"cell-5\\\" style=\\\"\\\">https://www.nationalgeographic.com/content/dam/magazine/rights-exempt/2017/01/NineLives/27NineLives_2048.jpg</td></tr>\\n    </tbody>\\n\")"
      ]
     },
     "metadata": {},
     "output_type": "display_data"
    },
    {
     "data": {
      "text/html": [
       "<div class=\"dswbOutputText\"><h1 class=\"chart_title\" style=\"color:#ccc\">Large Request Stats for: https://www.nationalgeographic.com/magazine/2017/01/children-explain-how-gender-affects-their-lives</h1><h3 class=\"chart_info\" style=\"color:#ccc\">November 27, 2017 06:59:00 to November 27, 2017 16:59:00 Local Time</h3></div>"
      ]
     },
     "metadata": {},
     "output_type": "display_data"
    },
    {
     "data": {
      "text/html": [
       "    <table  class=\"dataframe-table\">\n",
       "    <thead><tr><th class=\"cell-1\" style=\"\">RefGroup</th> <th class=\"cell-2\" style=\"\">Unit</th> <th class=\"cell-3\" style=\"\">Count</th> <th class=\"cell-4\" style=\"\">Mean</th> <th class=\"cell-5\" style=\"\">Median</th> <th class=\"cell-6\" style=\"\">Min</th> <th class=\"cell-7\" style=\"\">Max</th></tr></thead>\n",
       "    <tbody>\n",
       "    <tr><td class=\"cell-1\" style=\"\">Desktop</td> <td class=\"cell-2\" style=\"\">seconds</td> <td class=\"cell-3\" style=\"text-align:right;\">29</td> <td class=\"cell-4\" style=\"text-align:right;\">37.311</td> <td class=\"cell-5\" style=\"text-align:right;\">16.045</td> <td class=\"cell-6\" style=\"text-align:right;\">3.292</td> <td class=\"cell-7\" style=\"text-align:right;\">347.804</td></tr>\n",
       "<tr><td class=\"cell-1\" style=\"\">Mobile</td> <td class=\"cell-2\" style=\"\">seconds</td> <td class=\"cell-3\" style=\"text-align:right;\">6</td> <td class=\"cell-4\" style=\"text-align:right;\">38.019</td> <td class=\"cell-5\" style=\"text-align:right;\">22.078</td> <td class=\"cell-6\" style=\"text-align:right;\">5.349</td> <td class=\"cell-7\" style=\"text-align:right;\">129.616</td></tr>\n",
       "    \n",
       "    <tr><td class=\"cell-1\" style=\"\">Tablet</td> <td class=\"cell-2\" style=\"\">seconds</td> <td class=\"cell-3\" style=\"text-align:right;\">1</td> <td class=\"cell-4\" style=\"text-align:right;\">92.575</td> <td class=\"cell-5\" style=\"text-align:right;\">92.575</td> <td class=\"cell-6\" style=\"text-align:right;\">92.575</td> <td class=\"cell-7\" style=\"text-align:right;\">92.575</td></tr>\n",
       "    </tbody>\n"
      ],
      "text/plain": [
       "HTML{UTF8String}(\"    <table  class=\\\"dataframe-table\\\">\\n    <thead><tr><th class=\\\"cell-1\\\" style=\\\"\\\">RefGroup</th> <th class=\\\"cell-2\\\" style=\\\"\\\">Unit</th> <th class=\\\"cell-3\\\" style=\\\"\\\">Count</th> <th class=\\\"cell-4\\\" style=\\\"\\\">Mean</th> <th class=\\\"cell-5\\\" style=\\\"\\\">Median</th> <th class=\\\"cell-6\\\" style=\\\"\\\">Min</th> <th class=\\\"cell-7\\\" style=\\\"\\\">Max</th></tr></thead>\\n    <tbody>\\n    <tr><td class=\\\"cell-1\\\" style=\\\"\\\">Desktop</td> <td class=\\\"cell-2\\\" style=\\\"\\\">seconds</td> <td class=\\\"cell-3\\\" style=\\\"text-align:right;\\\">29</td> <td class=\\\"cell-4\\\" style=\\\"text-align:right;\\\">37.311</td> <td class=\\\"cell-5\\\" style=\\\"text-align:right;\\\">16.045</td> <td class=\\\"cell-6\\\" style=\\\"text-align:right;\\\">3.292</td> <td class=\\\"cell-7\\\" style=\\\"text-align:right;\\\">347.804</td></tr>\\n<tr><td class=\\\"cell-1\\\" style=\\\"\\\">Mobile</td> <td class=\\\"cell-2\\\" style=\\\"\\\">seconds</td> <td class=\\\"cell-3\\\" style=\\\"text-align:right;\\\">6</td> <td class=\\\"cell-4\\\" style=\\\"text-align:right;\\\">38.019</td> <td class=\\\"cell-5\\\" style=\\\"text-align:right;\\\">22.078</td> <td class=\\\"cell-6\\\" style=\\\"text-align:right;\\\">5.349</td> <td class=\\\"cell-7\\\" style=\\\"text-align:right;\\\">129.616</td></tr>\\n    \\n    <tr><td class=\\\"cell-1\\\" style=\\\"\\\">Tablet</td> <td class=\\\"cell-2\\\" style=\\\"\\\">seconds</td> <td class=\\\"cell-3\\\" style=\\\"text-align:right;\\\">1</td> <td class=\\\"cell-4\\\" style=\\\"text-align:right;\\\">92.575</td> <td class=\\\"cell-5\\\" style=\\\"text-align:right;\\\">92.575</td> <td class=\\\"cell-6\\\" style=\\\"text-align:right;\\\">92.575</td> <td class=\\\"cell-7\\\" style=\\\"text-align:right;\\\">92.575</td></tr>\\n    </tbody>\\n\")"
      ]
     },
     "metadata": {},
     "output_type": "display_data"
    },
    {
     "data": {
      "text/html": [
       "<div class=\"dswbOutputText\"><h1 class=\"chart_title\" style=\"color:#ccc\">Large Requests for: https://www.nationalgeographic.com/magazine/2016/05/yellowstone-national-parks-supervolcano-animation</h1><h3 class=\"chart_info\" style=\"color:#ccc\">November 27, 2017 06:59:00 to November 27, 2017 16:59:00 Local Time</h3></div>"
      ]
     },
     "metadata": {},
     "output_type": "display_data"
    },
    {
     "data": {
      "text/html": [
       "    <table  class=\"dataframe-table\">\n",
       "    <thead><tr><th class=\"cell-1\" style=\"\">start time</th> <th class=\"cell-2\" style=\"\">encoded size</th> <th class=\"cell-3\" style=\"\">transferred size</th> <th class=\"cell-4\" style=\"\">decoded size</th> <th class=\"cell-5\" style=\"\">urlgroup</th></tr></thead>\n",
       "    <tbody>\n",
       "    <tr><td class=\"cell-1\" style=\"text-align:right;\">952</td> <td class=\"cell-2\" style=\"text-align:right;\">1,292,313</td> <td class=\"cell-3\" style=\"text-align:right;\">1,292,645</td> <td class=\"cell-4\" style=\"\"></td> <td class=\"cell-5\" style=\"\">https://www.nationalgeographic.com/interactive-assets/yellowstone/volcano/v6-3/assets/img/sequence-2a-1920.jpg</td></tr>\n",
       "<tr><td class=\"cell-1\" style=\"text-align:right;\">953</td> <td class=\"cell-2\" style=\"text-align:right;\">1,312,597</td> <td class=\"cell-3\" style=\"text-align:right;\">1,312,929</td> <td class=\"cell-4\" style=\"\"></td> <td class=\"cell-5\" style=\"\">https://www.nationalgeographic.com/interactive-assets/yellowstone/volcano/v6-3/assets/img/sequence-2b-1920.jpg</td></tr>\n",
       "<tr><td class=\"cell-1\" style=\"text-align:right;\">3,262</td> <td class=\"cell-2\" style=\"text-align:right;\">3,832,868</td> <td class=\"cell-3\" style=\"text-align:right;\">3,833,252</td> <td class=\"cell-4\" style=\"\"></td> <td class=\"cell-5\" style=\"\">https://www.nationalgeographic.com/interactive-assets/yellowstone/volcano/v6-3/assets/video/mp4/sequence-1-768.mp4</td></tr>\n",
       "<tr><td class=\"cell-1\" style=\"text-align:right;\">3,263</td> <td class=\"cell-2\" style=\"text-align:right;\">2,963,946</td> <td class=\"cell-3\" style=\"text-align:right;\">2,964,330</td> <td class=\"cell-4\" style=\"\"></td> <td class=\"cell-5\" style=\"\">https://www.nationalgeographic.com/interactive-assets/yellowstone/volcano/v6-3/assets/video/mp4/sequence-3-768.mp4</td></tr>\n",
       "<tr><td class=\"cell-1\" style=\"text-align:right;\">3,264</td> <td class=\"cell-2\" style=\"text-align:right;\">2,364,643</td> <td class=\"cell-3\" style=\"text-align:right;\">2,365,027</td> <td class=\"cell-4\" style=\"\"></td> <td class=\"cell-5\" style=\"\">https://www.nationalgeographic.com/interactive-assets/yellowstone/volcano/v6-3/assets/video/mp4/sequence-4-768.mp4</td></tr>\n",
       "    \n",
       "    <tr><td class=\"cell-1\" style=\"text-align:right;\">3,265</td> <td class=\"cell-2\" style=\"text-align:right;\">1,348,429</td> <td class=\"cell-3\" style=\"text-align:right;\">1,348,813</td> <td class=\"cell-4\" style=\"\"></td> <td class=\"cell-5\" style=\"\">https://www.nationalgeographic.com/interactive-assets/yellowstone/volcano/v6-3/assets/video/mp4/sequence-5-768.mp4</td></tr>\n",
       "<tr><td class=\"cell-1\" style=\"text-align:right;\">3,267</td> <td class=\"cell-2\" style=\"text-align:right;\">1,494,559</td> <td class=\"cell-3\" style=\"text-align:right;\">1,494,943</td> <td class=\"cell-4\" style=\"\"></td> <td class=\"cell-5\" style=\"\">https://www.nationalgeographic.com/interactive-assets/yellowstone/volcano/v6-3/assets/video/mp4/sequence-6-768.mp4</td></tr>\n",
       "<tr><td class=\"cell-1\" style=\"text-align:right;\">3,268</td> <td class=\"cell-2\" style=\"text-align:right;\">3,336,447</td> <td class=\"cell-3\" style=\"text-align:right;\">3,336,831</td> <td class=\"cell-4\" style=\"\"></td> <td class=\"cell-5\" style=\"\">https://www.nationalgeographic.com/interactive-assets/yellowstone/volcano/v6-3/assets/video/mp4/sequence-7-768.mp4</td></tr>\n",
       "<tr><td class=\"cell-1\" style=\"text-align:right;\">3,272</td> <td class=\"cell-2\" style=\"text-align:right;\">3,428,544</td> <td class=\"cell-3\" style=\"text-align:right;\">3,428,928</td> <td class=\"cell-4\" style=\"\"></td> <td class=\"cell-5\" style=\"\">https://www.nationalgeographic.com/interactive-assets/yellowstone/volcano/v6-3/assets/video/mp4/sequence-8-768.mp4</td></tr>\n",
       "    </tbody>\n"
      ],
      "text/plain": [
       "HTML{UTF8String}(\"    <table  class=\\\"dataframe-table\\\">\\n    <thead><tr><th class=\\\"cell-1\\\" style=\\\"\\\">start time</th> <th class=\\\"cell-2\\\" style=\\\"\\\">encoded size</th> <th class=\\\"cell-3\\\" style=\\\"\\\">transferred size</th> <th class=\\\"cell-4\\\" style=\\\"\\\">decoded size</th> <th class=\\\"cell-5\\\" style=\\\"\\\">urlgroup</th></tr></thead>\\n    <tbody>\\n    <tr><td class=\\\"cell-1\\\" style=\\\"text-align:right;\\\">952</td> <td class=\\\"cell-2\\\" style=\\\"text-align:right;\\\">1,292,313</td> <td class=\\\"cell-3\\\" style=\\\"text-align:right;\\\">1,292,645</td> <td class=\\\"cell-4\\\" style=\\\"\\\"></td> <td class=\\\"cell-5\\\" style=\\\"\\\">https://www.nationalgeographic.com/interactive-assets/yellowstone/volcano/v6-3/assets/img/sequence-2a-1920.jpg</td></tr>\\n<tr><td class=\\\"cell-1\\\" style=\\\"text-align:right;\\\">953</td> <td class=\\\"cell-2\\\" style=\\\"text-align:right;\\\">1,312,597</td> <td class=\\\"cell-3\\\" style=\\\"text-align:right;\\\">1,312,929</td> <td class=\\\"cell-4\\\" style=\\\"\\\"></td> <td class=\\\"cell-5\\\" style=\\\"\\\">https://www.nationalgeographic.com/interactive-assets/yellowstone/volcano/v6-3/assets/img/sequence-2b-1920.jpg</td></tr>\\n<tr><td class=\\\"cell-1\\\" style=\\\"text-align:right;\\\">3,262</td> <td class=\\\"cell-2\\\" style=\\\"text-align:right;\\\">3,832,868</td> <td class=\\\"cell-3\\\" style=\\\"text-align:right;\\\">3,833,252</td> <td class=\\\"cell-4\\\" style=\\\"\\\"></td> <td class=\\\"cell-5\\\" style=\\\"\\\">https://www.nationalgeographic.com/interactive-assets/yellowstone/volcano/v6-3/assets/video/mp4/sequence-1-768.mp4</td></tr>\\n<tr><td class=\\\"cell-1\\\" style=\\\"text-align:right;\\\">3,263</td> <td class=\\\"cell-2\\\" style=\\\"text-align:right;\\\">2,963,946</td> <td class=\\\"cell-3\\\" style=\\\"text-align:right;\\\">2,964,330</td> <td class=\\\"cell-4\\\" style=\\\"\\\"></td> <td class=\\\"cell-5\\\" style=\\\"\\\">https://www.nationalgeographic.com/interactive-assets/yellowstone/volcano/v6-3/assets/video/mp4/sequence-3-768.mp4</td></tr>\\n<tr><td class=\\\"cell-1\\\" style=\\\"text-align:right;\\\">3,264</td> <td class=\\\"cell-2\\\" style=\\\"text-align:right;\\\">2,364,643</td> <td class=\\\"cell-3\\\" style=\\\"text-align:right;\\\">2,365,027</td> <td class=\\\"cell-4\\\" style=\\\"\\\"></td> <td class=\\\"cell-5\\\" style=\\\"\\\">https://www.nationalgeographic.com/interactive-assets/yellowstone/volcano/v6-3/assets/video/mp4/sequence-4-768.mp4</td></tr>\\n    \\n    <tr><td class=\\\"cell-1\\\" style=\\\"text-align:right;\\\">3,265</td> <td class=\\\"cell-2\\\" style=\\\"text-align:right;\\\">1,348,429</td> <td class=\\\"cell-3\\\" style=\\\"text-align:right;\\\">1,348,813</td> <td class=\\\"cell-4\\\" style=\\\"\\\"></td> <td class=\\\"cell-5\\\" style=\\\"\\\">https://www.nationalgeographic.com/interactive-assets/yellowstone/volcano/v6-3/assets/video/mp4/sequence-5-768.mp4</td></tr>\\n<tr><td class=\\\"cell-1\\\" style=\\\"text-align:right;\\\">3,267</td> <td class=\\\"cell-2\\\" style=\\\"text-align:right;\\\">1,494,559</td> <td class=\\\"cell-3\\\" style=\\\"text-align:right;\\\">1,494,943</td> <td class=\\\"cell-4\\\" style=\\\"\\\"></td> <td class=\\\"cell-5\\\" style=\\\"\\\">https://www.nationalgeographic.com/interactive-assets/yellowstone/volcano/v6-3/assets/video/mp4/sequence-6-768.mp4</td></tr>\\n<tr><td class=\\\"cell-1\\\" style=\\\"text-align:right;\\\">3,268</td> <td class=\\\"cell-2\\\" style=\\\"text-align:right;\\\">3,336,447</td> <td class=\\\"cell-3\\\" style=\\\"text-align:right;\\\">3,336,831</td> <td class=\\\"cell-4\\\" style=\\\"\\\"></td> <td class=\\\"cell-5\\\" style=\\\"\\\">https://www.nationalgeographic.com/interactive-assets/yellowstone/volcano/v6-3/assets/video/mp4/sequence-7-768.mp4</td></tr>\\n<tr><td class=\\\"cell-1\\\" style=\\\"text-align:right;\\\">3,272</td> <td class=\\\"cell-2\\\" style=\\\"text-align:right;\\\">3,428,544</td> <td class=\\\"cell-3\\\" style=\\\"text-align:right;\\\">3,428,928</td> <td class=\\\"cell-4\\\" style=\\\"\\\"></td> <td class=\\\"cell-5\\\" style=\\\"\\\">https://www.nationalgeographic.com/interactive-assets/yellowstone/volcano/v6-3/assets/video/mp4/sequence-8-768.mp4</td></tr>\\n    </tbody>\\n\")"
      ]
     },
     "metadata": {},
     "output_type": "display_data"
    },
    {
     "data": {
      "text/html": [
       "<div class=\"dswbOutputText\"><h1 class=\"chart_title\" style=\"color:#ccc\">Large Request Stats for: https://www.nationalgeographic.com/magazine/2016/05/yellowstone-national-parks-supervolcano-animation</h1><h3 class=\"chart_info\" style=\"color:#ccc\">November 27, 2017 06:59:00 to November 27, 2017 16:59:00 Local Time</h3></div>"
      ]
     },
     "metadata": {},
     "output_type": "display_data"
    },
    {
     "data": {
      "text/html": [
       "    <table  class=\"dataframe-table\">\n",
       "    <thead><tr><th class=\"cell-1\" style=\"\">RefGroup</th> <th class=\"cell-2\" style=\"\">Unit</th> <th class=\"cell-3\" style=\"\">Count</th> <th class=\"cell-4\" style=\"\">Mean</th> <th class=\"cell-5\" style=\"\">Median</th> <th class=\"cell-6\" style=\"\">Min</th> <th class=\"cell-7\" style=\"\">Max</th></tr></thead>\n",
       "    <tbody>\n",
       "    <tr><td class=\"cell-1\" style=\"\">Desktop</td> <td class=\"cell-2\" style=\"\">seconds</td> <td class=\"cell-3\" style=\"text-align:right;\">59</td> <td class=\"cell-4\" style=\"text-align:right;\">21.169</td> <td class=\"cell-5\" style=\"text-align:right;\">16.86</td> <td class=\"cell-6\" style=\"text-align:right;\">3.179</td> <td class=\"cell-7\" style=\"text-align:right;\">84.064</td></tr>\n",
       "<tr><td class=\"cell-1\" style=\"\">Mobile</td> <td class=\"cell-2\" style=\"\">seconds</td> <td class=\"cell-3\" style=\"text-align:right;\">3</td> <td class=\"cell-4\" style=\"text-align:right;\">45.565</td> <td class=\"cell-5\" style=\"text-align:right;\">17.069</td> <td class=\"cell-6\" style=\"text-align:right;\">7.67</td> <td class=\"cell-7\" style=\"text-align:right;\">111.955</td></tr>\n",
       "    \n",
       "    <tr><td class=\"cell-1\" style=\"\">Tablet</td> <td class=\"cell-2\" style=\"\">seconds</td> <td class=\"cell-3\" style=\"text-align:right;\">2</td> <td class=\"cell-4\" style=\"text-align:right;\">38.674</td> <td class=\"cell-5\" style=\"text-align:right;\">38.674</td> <td class=\"cell-6\" style=\"text-align:right;\">7.198</td> <td class=\"cell-7\" style=\"text-align:right;\">70.149</td></tr>\n",
       "    </tbody>\n"
      ],
      "text/plain": [
       "HTML{UTF8String}(\"    <table  class=\\\"dataframe-table\\\">\\n    <thead><tr><th class=\\\"cell-1\\\" style=\\\"\\\">RefGroup</th> <th class=\\\"cell-2\\\" style=\\\"\\\">Unit</th> <th class=\\\"cell-3\\\" style=\\\"\\\">Count</th> <th class=\\\"cell-4\\\" style=\\\"\\\">Mean</th> <th class=\\\"cell-5\\\" style=\\\"\\\">Median</th> <th class=\\\"cell-6\\\" style=\\\"\\\">Min</th> <th class=\\\"cell-7\\\" style=\\\"\\\">Max</th></tr></thead>\\n    <tbody>\\n    <tr><td class=\\\"cell-1\\\" style=\\\"\\\">Desktop</td> <td class=\\\"cell-2\\\" style=\\\"\\\">seconds</td> <td class=\\\"cell-3\\\" style=\\\"text-align:right;\\\">59</td> <td class=\\\"cell-4\\\" style=\\\"text-align:right;\\\">21.169</td> <td class=\\\"cell-5\\\" style=\\\"text-align:right;\\\">16.86</td> <td class=\\\"cell-6\\\" style=\\\"text-align:right;\\\">3.179</td> <td class=\\\"cell-7\\\" style=\\\"text-align:right;\\\">84.064</td></tr>\\n<tr><td class=\\\"cell-1\\\" style=\\\"\\\">Mobile</td> <td class=\\\"cell-2\\\" style=\\\"\\\">seconds</td> <td class=\\\"cell-3\\\" style=\\\"text-align:right;\\\">3</td> <td class=\\\"cell-4\\\" style=\\\"text-align:right;\\\">45.565</td> <td class=\\\"cell-5\\\" style=\\\"text-align:right;\\\">17.069</td> <td class=\\\"cell-6\\\" style=\\\"text-align:right;\\\">7.67</td> <td class=\\\"cell-7\\\" style=\\\"text-align:right;\\\">111.955</td></tr>\\n    \\n    <tr><td class=\\\"cell-1\\\" style=\\\"\\\">Tablet</td> <td class=\\\"cell-2\\\" style=\\\"\\\">seconds</td> <td class=\\\"cell-3\\\" style=\\\"text-align:right;\\\">2</td> <td class=\\\"cell-4\\\" style=\\\"text-align:right;\\\">38.674</td> <td class=\\\"cell-5\\\" style=\\\"text-align:right;\\\">38.674</td> <td class=\\\"cell-6\\\" style=\\\"text-align:right;\\\">7.198</td> <td class=\\\"cell-7\\\" style=\\\"text-align:right;\\\">70.149</td></tr>\\n    </tbody>\\n\")"
      ]
     },
     "metadata": {},
     "output_type": "display_data"
    },
    {
     "data": {
      "text/html": [
       "<div class=\"dswbOutputText\"><h1 class=\"chart_title\" style=\"color:#ccc\">Large Requests for: https://www.nationalgeographic.com/magazine/2016/06/looting-isis-antiquities-pipeline</h1><h3 class=\"chart_info\" style=\"color:#ccc\">November 27, 2017 06:59:00 to November 27, 2017 16:59:00 Local Time</h3></div>"
      ]
     },
     "metadata": {},
     "output_type": "display_data"
    },
    {
     "data": {
      "text/html": [
       "    <table  class=\"dataframe-table\">\n",
       "    <thead><tr><th class=\"cell-1\" style=\"\">start time</th> <th class=\"cell-2\" style=\"\">encoded size</th> <th class=\"cell-3\" style=\"\">transferred size</th> <th class=\"cell-4\" style=\"\">decoded size</th> <th class=\"cell-5\" style=\"\">urlgroup</th></tr></thead>\n",
       "    <tbody>\n",
       "    <tr><td class=\"cell-1\" style=\"text-align:right;\">378</td> <td class=\"cell-2\" style=\"text-align:right;\">16,384,636</td> <td class=\"cell-3\" style=\"text-align:right;\">16,384,968</td> <td class=\"cell-4\" style=\"\"></td> <td class=\"cell-5\" style=\"\">https://www.nationalgeographic.com/interactive-assets/looting/v3/assets/img/Looting_Panel1_v6_transparency.gif</td></tr>\n",
       "<tr><td class=\"cell-1\" style=\"text-align:right;\">18,052</td> <td class=\"cell-2\" style=\"text-align:right;\">1,202,219</td> <td class=\"cell-3\" style=\"text-align:right;\">1,202,550</td> <td class=\"cell-4\" style=\"\"></td> <td class=\"cell-5\" style=\"\">https://www.nationalgeographic.com/interactive-assets/looting/v3/assets/img/Panel6-desktop-in.gif?886.5339891839491</td></tr>\n",
       "    \n",
       "    <tr><td class=\"cell-1\" style=\"text-align:right;\">20,489</td> <td class=\"cell-2\" style=\"text-align:right;\">1,341,364</td> <td class=\"cell-3\" style=\"text-align:right;\">1,341,695</td> <td class=\"cell-4\" style=\"\"></td> <td class=\"cell-5\" style=\"\">https://www.nationalgeographic.com/interactive-assets/looting/v3/assets/img/Panel8-desktop-loop.gif</td></tr>\n",
       "    </tbody>\n"
      ],
      "text/plain": [
       "HTML{UTF8String}(\"    <table  class=\\\"dataframe-table\\\">\\n    <thead><tr><th class=\\\"cell-1\\\" style=\\\"\\\">start time</th> <th class=\\\"cell-2\\\" style=\\\"\\\">encoded size</th> <th class=\\\"cell-3\\\" style=\\\"\\\">transferred size</th> <th class=\\\"cell-4\\\" style=\\\"\\\">decoded size</th> <th class=\\\"cell-5\\\" style=\\\"\\\">urlgroup</th></tr></thead>\\n    <tbody>\\n    <tr><td class=\\\"cell-1\\\" style=\\\"text-align:right;\\\">378</td> <td class=\\\"cell-2\\\" style=\\\"text-align:right;\\\">16,384,636</td> <td class=\\\"cell-3\\\" style=\\\"text-align:right;\\\">16,384,968</td> <td class=\\\"cell-4\\\" style=\\\"\\\"></td> <td class=\\\"cell-5\\\" style=\\\"\\\">https://www.nationalgeographic.com/interactive-assets/looting/v3/assets/img/Looting_Panel1_v6_transparency.gif</td></tr>\\n<tr><td class=\\\"cell-1\\\" style=\\\"text-align:right;\\\">18,052</td> <td class=\\\"cell-2\\\" style=\\\"text-align:right;\\\">1,202,219</td> <td class=\\\"cell-3\\\" style=\\\"text-align:right;\\\">1,202,550</td> <td class=\\\"cell-4\\\" style=\\\"\\\"></td> <td class=\\\"cell-5\\\" style=\\\"\\\">https://www.nationalgeographic.com/interactive-assets/looting/v3/assets/img/Panel6-desktop-in.gif?886.5339891839491</td></tr>\\n    \\n    <tr><td class=\\\"cell-1\\\" style=\\\"text-align:right;\\\">20,489</td> <td class=\\\"cell-2\\\" style=\\\"text-align:right;\\\">1,341,364</td> <td class=\\\"cell-3\\\" style=\\\"text-align:right;\\\">1,341,695</td> <td class=\\\"cell-4\\\" style=\\\"\\\"></td> <td class=\\\"cell-5\\\" style=\\\"\\\">https://www.nationalgeographic.com/interactive-assets/looting/v3/assets/img/Panel8-desktop-loop.gif</td></tr>\\n    </tbody>\\n\")"
      ]
     },
     "metadata": {},
     "output_type": "display_data"
    },
    {
     "data": {
      "text/html": [
       "<div class=\"dswbOutputText\"><h1 class=\"chart_title\" style=\"color:#ccc\">Large Request Stats for: https://www.nationalgeographic.com/magazine/2016/06/looting-isis-antiquities-pipeline</h1><h3 class=\"chart_info\" style=\"color:#ccc\">November 27, 2017 06:59:00 to November 27, 2017 16:59:00 Local Time</h3></div>"
      ]
     },
     "metadata": {},
     "output_type": "display_data"
    },
    {
     "data": {
      "text/html": [
       "    <table  class=\"dataframe-table\">\n",
       "    <thead><tr><th class=\"cell-1\" style=\"\">RefGroup</th> <th class=\"cell-2\" style=\"\">Unit</th> <th class=\"cell-3\" style=\"\">Count</th> <th class=\"cell-4\" style=\"\">Mean</th> <th class=\"cell-5\" style=\"\">Median</th> <th class=\"cell-6\" style=\"\">Min</th> <th class=\"cell-7\" style=\"\">Max</th></tr></thead>\n",
       "    <tbody>\n",
       "    <tr><td class=\"cell-1\" style=\"\">Desktop</td> <td class=\"cell-2\" style=\"\">seconds</td> <td class=\"cell-3\" style=\"text-align:right;\">1</td> <td class=\"cell-4\" style=\"text-align:right;\">171.84</td> <td class=\"cell-5\" style=\"text-align:right;\">171.84</td> <td class=\"cell-6\" style=\"text-align:right;\">171.84</td> <td class=\"cell-7\" style=\"text-align:right;\">171.84</td></tr>\n",
       "<tr><td class=\"cell-1\" style=\"\">Mobile</td> <td class=\"cell-2\" style=\"\"></td> <td class=\"cell-3\" style=\"text-align:right;\">0</td> <td class=\"cell-4\" style=\"text-align:right;\">0</td> <td class=\"cell-5\" style=\"text-align:right;\">0</td> <td class=\"cell-6\" style=\"text-align:right;\">0</td> <td class=\"cell-7\" style=\"text-align:right;\">0</td></tr>\n",
       "    \n",
       "    <tr><td class=\"cell-1\" style=\"\">Tablet</td> <td class=\"cell-2\" style=\"\"></td> <td class=\"cell-3\" style=\"text-align:right;\">0</td> <td class=\"cell-4\" style=\"text-align:right;\">0</td> <td class=\"cell-5\" style=\"text-align:right;\">0</td> <td class=\"cell-6\" style=\"text-align:right;\">0</td> <td class=\"cell-7\" style=\"text-align:right;\">0</td></tr>\n",
       "    </tbody>\n"
      ],
      "text/plain": [
       "HTML{UTF8String}(\"    <table  class=\\\"dataframe-table\\\">\\n    <thead><tr><th class=\\\"cell-1\\\" style=\\\"\\\">RefGroup</th> <th class=\\\"cell-2\\\" style=\\\"\\\">Unit</th> <th class=\\\"cell-3\\\" style=\\\"\\\">Count</th> <th class=\\\"cell-4\\\" style=\\\"\\\">Mean</th> <th class=\\\"cell-5\\\" style=\\\"\\\">Median</th> <th class=\\\"cell-6\\\" style=\\\"\\\">Min</th> <th class=\\\"cell-7\\\" style=\\\"\\\">Max</th></tr></thead>\\n    <tbody>\\n    <tr><td class=\\\"cell-1\\\" style=\\\"\\\">Desktop</td> <td class=\\\"cell-2\\\" style=\\\"\\\">seconds</td> <td class=\\\"cell-3\\\" style=\\\"text-align:right;\\\">1</td> <td class=\\\"cell-4\\\" style=\\\"text-align:right;\\\">171.84</td> <td class=\\\"cell-5\\\" style=\\\"text-align:right;\\\">171.84</td> <td class=\\\"cell-6\\\" style=\\\"text-align:right;\\\">171.84</td> <td class=\\\"cell-7\\\" style=\\\"text-align:right;\\\">171.84</td></tr>\\n<tr><td class=\\\"cell-1\\\" style=\\\"\\\">Mobile</td> <td class=\\\"cell-2\\\" style=\\\"\\\"></td> <td class=\\\"cell-3\\\" style=\\\"text-align:right;\\\">0</td> <td class=\\\"cell-4\\\" style=\\\"text-align:right;\\\">0</td> <td class=\\\"cell-5\\\" style=\\\"text-align:right;\\\">0</td> <td class=\\\"cell-6\\\" style=\\\"text-align:right;\\\">0</td> <td class=\\\"cell-7\\\" style=\\\"text-align:right;\\\">0</td></tr>\\n    \\n    <tr><td class=\\\"cell-1\\\" style=\\\"\\\">Tablet</td> <td class=\\\"cell-2\\\" style=\\\"\\\"></td> <td class=\\\"cell-3\\\" style=\\\"text-align:right;\\\">0</td> <td class=\\\"cell-4\\\" style=\\\"text-align:right;\\\">0</td> <td class=\\\"cell-5\\\" style=\\\"text-align:right;\\\">0</td> <td class=\\\"cell-6\\\" style=\\\"text-align:right;\\\">0</td> <td class=\\\"cell-7\\\" style=\\\"text-align:right;\\\">0</td></tr>\\n    </tbody>\\n\")"
      ]
     },
     "metadata": {},
     "output_type": "display_data"
    }
   ],
   "source": [
    "i = 0\n",
    "for row in eachrow(joinTableSummary)\n",
    "    i += 1\n",
    "    detailsPrintFLP(TV,UP,joinTableSummary,i)\n",
    "    statsDetailsPrintFLP(TV,UP,joinTableSummary,i)\n",
    "    if (i >= linesOutput)\n",
    "        break;\n",
    "    end\n",
    "end\n",
    ";"
   ]
  },
  {
   "cell_type": "code",
   "execution_count": null,
   "metadata": {
    "collapsed": true,
    "input_collapsed": false
   },
   "outputs": [],
   "source": [
    "q = query(\"\"\" drop view if exists $(UP.btView);\"\"\")\n",
    "q = query(\"\"\" drop view if exists $(UP.rtView);\"\"\")\n",
    ";"
   ]
  }
 ],
 "metadata": {
  "kernelspec": {
   "display_name": "Julia 0.4.7",
   "language": "julia",
   "name": "julia-0.4"
  },
  "language_info": {
   "file_extension": ".jl",
   "mimetype": "application/julia",
   "name": "julia",
   "version": "0.4.7"
  },
  "library_version": "1.0.0",
  "notebook_uuid": "56d3b1d9-34c5-499b-869b-9fe45cbf36cf",
  "readOnly": false
 },
 "nbformat": 4,
 "nbformat_minor": 0
}
