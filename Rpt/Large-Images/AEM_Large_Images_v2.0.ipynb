{
 "cells": [
  {
   "cell_type": "code",
   "execution_count": 1,
   "metadata": {
    "collapsed": false,
    "input_collapsed": false
   },
   "outputs": [
    {
     "name": "stdout",
     "output_type": "stream",
     "text": [
      "Redshift endpoint set: 2017-11-27T17:40:22\n"
     ]
    }
   ],
   "source": [
    "using ODBC\n",
    "using DataFrames\n",
    "using DSWB\n",
    "using Formatting\n",
    "\n",
    "dsn = \"dswb-natgeo\" # Redshift esetTable(tableRt, tableType = \"RESOURCE_TABLE\")ndpoint\n",
    "table = \"beacons_4744\" # beacon table name\n",
    "tableRt = \"beacons_4744_rt\"\n",
    "\n",
    "# Connect to Beacon Data\n",
    "setRedshiftEndpoint(dsn)\n",
    "setTable(tableRt, tableType = \"RESOURCE_TABLE\")\n",
    "setTable(table)\n",
    ";"
   ]
  },
  {
   "cell_type": "code",
   "execution_count": 2,
   "metadata": {
    "collapsed": false,
    "input_collapsed": false
   },
   "outputs": [],
   "source": [
    "include(\"../../Lib/Include-Package-v2.1.jl\")\n",
    "include(\"AEM-Large-Images-Body-v2.0.jl\")\n",
    ";"
   ]
  },
  {
   "cell_type": "code",
   "execution_count": 3,
   "metadata": {
    "collapsed": false,
    "input_collapsed": true
   },
   "outputs": [
    {
     "name": "stdout",
     "output_type": "stream",
     "text": [
      "November 26, 2017 06:59:00 to November 26, 2017 16:59:00 Local Time\n",
      "November 26, 2017 11:59:00 to November 26, 2017 21:59:00 UTC Time\n"
     ]
    }
   ],
   "source": [
    "#TV = timeVariables(2017,11,15,23,59,2017,11,16,23,59)\n",
    "#TV = weeklyTimeVariables(days=1)\n",
    "TV = yesterdayTimeVariables()\n",
    ";"
   ]
  },
  {
   "cell_type": "code",
   "execution_count": 4,
   "metadata": {
    "collapsed": false,
    "input_collapsed": false
   },
   "outputs": [],
   "source": [
    "\n",
    "UP = UrlParamsInit()\n",
    "UP.agentOs = \"iOS\"\n",
    "UP.beaconTable = table\n",
    "UP.btView = \"$(table)_AEM_Large_Images_view\" #localtable\n",
    "UP.deviceType = \"%\"\n",
    "UP.limitRows = 250\n",
    "UP.orderBy = \"time\"\n",
    "UP.pageGroup = \"%\"   #productPageGroup\n",
    "UP.resourceTable = tableRt\n",
    "UP.rtView = \"$(tableRt)_AEM_Large_Images_view\" #localtableRt\n",
    "UP.samplesMin = 10\n",
    "UP.sizeMin = 10000\n",
    "UP.timeLowerMs = 2000.0\n",
    "UP.timeUpperMs = 60000.0\n",
    "UP.urlRegEx = \"%\"   #localUrl\n",
    "UP.urlFull = \"%\"\n",
    "UP.usePageLoad=false\n",
    "\n",
    "SP = ShowParamsInit()\n",
    "SP.criticalPathOnly=true\n",
    "SP.desktop=true\n",
    "SP.devView=false\n",
    "SP.debug=false\n",
    "SP.debugLevel = 0   # Tests use even numbers with > tests, make this an odd number or zero\n",
    "SP.mobile=true\n",
    "#SP.showLines = 300\n",
    "SP.showLines = 3\n",
    "\n",
    "SG = SoastaGraphsInit()\n",
    "customer = \"Nat Geo\" \n",
    "SG.customer = customer\n",
    "\n",
    ";"
   ]
  },
  {
   "cell_type": "code",
   "execution_count": 5,
   "metadata": {
    "collapsed": false,
    "input_collapsed": false
   },
   "outputs": [
    {
     "name": "stdout",
     "output_type": "stream",
     "text": [
      "Low=2000 High=60000\n"
     ]
    }
   ],
   "source": [
    "#defaultLocalTableALI(tv,UP)\n",
    "defaultBeaconView(TV,UP,SP)\n",
    ";"
   ]
  },
  {
   "cell_type": "code",
   "execution_count": 6,
   "metadata": {
    "collapsed": false,
    "input_collapsed": false,
    "scrolled": false
   },
   "outputs": [
    {
     "data": {
      "text/html": [
       "    <table  class=\"dataframe-table\">\n",
       "    <thead><tr><th class=\"cell-1\" style=\"\">urlgroup</th> <th class=\"cell-2\" style=\"\">session id</th> <th class=\"cell-3\" style=\"\">timestamp</th> <th class=\"cell-4\" style=\"\">encoded</th> <th class=\"cell-5\" style=\"\">transferred</th> <th class=\"cell-6\" style=\"\">decoded</th> <th class=\"cell-7\" style=\"\">count</th></tr></thead>\n",
       "    <tbody>\n",
       "    <tr><td class=\"cell-1\" style=\"\">https://kids.nationalgeographic.com/animals/narwhal</td> <td class=\"cell-2\" style=\"\">75d601a3-d090-447b-9321-56f3dce810e6-p01msb</td> <td class=\"cell-3\" style=\"text-align:right;\">2017-11-26T21:10:50.653</td> <td class=\"cell-4\" style=\"text-align:right;\">327,095,881</td> <td class=\"cell-5\" style=\"text-align:right;\">326,967,182</td> <td class=\"cell-6\" style=\"text-align:right;\">485,204</td> <td class=\"cell-7\" style=\"text-align:right;\">62</td></tr>\n",
       "<tr><td class=\"cell-1\" style=\"\">https://kids.nationalgeographic.com/animals/narwhal</td> <td class=\"cell-2\" style=\"\">4653be81-fa65-4992-bf91-97ef10bcc822-p01e99</td> <td class=\"cell-3\" style=\"text-align:right;\">2017-11-26T18:06:35.511</td> <td class=\"cell-4\" style=\"text-align:right;\">326,621,784</td> <td class=\"cell-5\" style=\"text-align:right;\">326,499,248</td> <td class=\"cell-6\" style=\"text-align:right;\">162,759</td> <td class=\"cell-7\" style=\"text-align:right;\">11</td></tr>\n",
       "    \n",
       "    <tr><td class=\"cell-1\" style=\"\">https://www.nationalgeographic.com/adventure/destinations/united-states/arizona/grand-canyon-national-park/grand-canyon-national-parks-interactive-map</td> <td class=\"cell-2\" style=\"\">5a5c035a-9fca-46da-befe-ee698d04d0f2-p015wo</td> <td class=\"cell-3\" style=\"text-align:right;\">2017-11-26T15:07:44.346</td> <td class=\"cell-4\" style=\"text-align:right;\">63,051,669</td> <td class=\"cell-5\" style=\"text-align:right;\">121,061</td> <td class=\"cell-6\" style=\"text-align:right;\">3,905,373</td> <td class=\"cell-7\" style=\"text-align:right;\">79</td></tr>\n",
       "    </tbody>\n"
      ],
      "text/plain": [
       "HTML{UTF8String}(\"    <table  class=\\\"dataframe-table\\\">\\n    <thead><tr><th class=\\\"cell-1\\\" style=\\\"\\\">urlgroup</th> <th class=\\\"cell-2\\\" style=\\\"\\\">session id</th> <th class=\\\"cell-3\\\" style=\\\"\\\">timestamp</th> <th class=\\\"cell-4\\\" style=\\\"\\\">encoded</th> <th class=\\\"cell-5\\\" style=\\\"\\\">transferred</th> <th class=\\\"cell-6\\\" style=\\\"\\\">decoded</th> <th class=\\\"cell-7\\\" style=\\\"\\\">count</th></tr></thead>\\n    <tbody>\\n    <tr><td class=\\\"cell-1\\\" style=\\\"\\\">https://kids.nationalgeographic.com/animals/narwhal</td> <td class=\\\"cell-2\\\" style=\\\"\\\">75d601a3-d090-447b-9321-56f3dce810e6-p01msb</td> <td class=\\\"cell-3\\\" style=\\\"text-align:right;\\\">2017-11-26T21:10:50.653</td> <td class=\\\"cell-4\\\" style=\\\"text-align:right;\\\">327,095,881</td> <td class=\\\"cell-5\\\" style=\\\"text-align:right;\\\">326,967,182</td> <td class=\\\"cell-6\\\" style=\\\"text-align:right;\\\">485,204</td> <td class=\\\"cell-7\\\" style=\\\"text-align:right;\\\">62</td></tr>\\n<tr><td class=\\\"cell-1\\\" style=\\\"\\\">https://kids.nationalgeographic.com/animals/narwhal</td> <td class=\\\"cell-2\\\" style=\\\"\\\">4653be81-fa65-4992-bf91-97ef10bcc822-p01e99</td> <td class=\\\"cell-3\\\" style=\\\"text-align:right;\\\">2017-11-26T18:06:35.511</td> <td class=\\\"cell-4\\\" style=\\\"text-align:right;\\\">326,621,784</td> <td class=\\\"cell-5\\\" style=\\\"text-align:right;\\\">326,499,248</td> <td class=\\\"cell-6\\\" style=\\\"text-align:right;\\\">162,759</td> <td class=\\\"cell-7\\\" style=\\\"text-align:right;\\\">11</td></tr>\\n    \\n    <tr><td class=\\\"cell-1\\\" style=\\\"\\\">https://www.nationalgeographic.com/adventure/destinations/united-states/arizona/grand-canyon-national-park/grand-canyon-national-parks-interactive-map</td> <td class=\\\"cell-2\\\" style=\\\"\\\">5a5c035a-9fca-46da-befe-ee698d04d0f2-p015wo</td> <td class=\\\"cell-3\\\" style=\\\"text-align:right;\\\">2017-11-26T15:07:44.346</td> <td class=\\\"cell-4\\\" style=\\\"text-align:right;\\\">63,051,669</td> <td class=\\\"cell-5\\\" style=\\\"text-align:right;\\\">121,061</td> <td class=\\\"cell-6\\\" style=\\\"text-align:right;\\\">3,905,373</td> <td class=\\\"cell-7\\\" style=\\\"text-align:right;\\\">79</td></tr>\\n    </tbody>\\n\")"
      ]
     },
     "metadata": {},
     "output_type": "display_data"
    }
   ],
   "source": [
    "joinTables = DataFrame()\n",
    "joinTables = gatherSizeDataALI(UP,SP)\n",
    ";"
   ]
  },
  {
   "cell_type": "code",
   "execution_count": 7,
   "metadata": {
    "collapsed": false,
    "input_collapsed": false,
    "scrolled": false
   },
   "outputs": [
    {
     "data": {
      "text/html": [
       "    <table  class=\"dataframe-table\">\n",
       "    <thead><tr><th class=\"cell-1\" style=\"\">urlgroup</th> <th class=\"cell-2\" style=\"\">encoded</th> <th class=\"cell-3\" style=\"\">transferred</th> <th class=\"cell-4\" style=\"\">decoded</th></tr></thead>\n",
       "    <tbody>\n",
       "    <tr><td class=\"cell-1\" style=\"\">https://kids.nationalgeographic.com/animals/narwhal</td> <td class=\"cell-2\" style=\"text-align:right;\">327,095,881</td> <td class=\"cell-3\" style=\"text-align:right;\">326,967,182</td> <td class=\"cell-4\" style=\"text-align:right;\">485,204</td></tr>\n",
       "<tr><td class=\"cell-1\" style=\"\">https://www.nationalgeographic.com/adventure/destinations/united-states/arizona/grand-canyon-national-park/grand-canyon-national-parks-interactive-map</td> <td class=\"cell-2\" style=\"text-align:right;\">63,051,669</td> <td class=\"cell-3\" style=\"text-align:right;\">121,061</td> <td class=\"cell-4\" style=\"text-align:right;\">3,905,373</td></tr>\n",
       "    \n",
       "    <tr><td class=\"cell-1\" style=\"\">https://www.nationalgeographic.com/travel/lists/19-places-to-indulge-luxury-travel</td> <td class=\"cell-2\" style=\"text-align:right;\">47,037,437</td> <td class=\"cell-3\" style=\"text-align:right;\">47,066,322</td> <td class=\"cell-4\" style=\"text-align:right;\">3,799,506</td></tr>\n",
       "    </tbody>\n"
      ],
      "text/plain": [
       "HTML{UTF8String}(\"    <table  class=\\\"dataframe-table\\\">\\n    <thead><tr><th class=\\\"cell-1\\\" style=\\\"\\\">urlgroup</th> <th class=\\\"cell-2\\\" style=\\\"\\\">encoded</th> <th class=\\\"cell-3\\\" style=\\\"\\\">transferred</th> <th class=\\\"cell-4\\\" style=\\\"\\\">decoded</th></tr></thead>\\n    <tbody>\\n    <tr><td class=\\\"cell-1\\\" style=\\\"\\\">https://kids.nationalgeographic.com/animals/narwhal</td> <td class=\\\"cell-2\\\" style=\\\"text-align:right;\\\">327,095,881</td> <td class=\\\"cell-3\\\" style=\\\"text-align:right;\\\">326,967,182</td> <td class=\\\"cell-4\\\" style=\\\"text-align:right;\\\">485,204</td></tr>\\n<tr><td class=\\\"cell-1\\\" style=\\\"\\\">https://www.nationalgeographic.com/adventure/destinations/united-states/arizona/grand-canyon-national-park/grand-canyon-national-parks-interactive-map</td> <td class=\\\"cell-2\\\" style=\\\"text-align:right;\\\">63,051,669</td> <td class=\\\"cell-3\\\" style=\\\"text-align:right;\\\">121,061</td> <td class=\\\"cell-4\\\" style=\\\"text-align:right;\\\">3,905,373</td></tr>\\n    \\n    <tr><td class=\\\"cell-1\\\" style=\\\"\\\">https://www.nationalgeographic.com/travel/lists/19-places-to-indulge-luxury-travel</td> <td class=\\\"cell-2\\\" style=\\\"text-align:right;\\\">47,037,437</td> <td class=\\\"cell-3\\\" style=\\\"text-align:right;\\\">47,066,322</td> <td class=\\\"cell-4\\\" style=\\\"text-align:right;\\\">3,799,506</td></tr>\\n    </tbody>\\n\")"
      ]
     },
     "metadata": {},
     "output_type": "display_data"
    }
   ],
   "source": [
    "joinTableSummary = DataFrame()\n",
    "joinTableSummary = tableSummaryALI(joinTables,SP)\n",
    ";"
   ]
  },
  {
   "cell_type": "code",
   "execution_count": 8,
   "metadata": {
    "collapsed": false,
    "input_collapsed": false,
    "scrolled": false
   },
   "outputs": [
    {
     "name": "stdout",
     "output_type": "stream",
     "text": [
      "bigTable5 Exception UndefVarError(:tv)\n",
      "statsTableDF2 Exception UndefVarError(:tv)\n",
      "statsTableDF2 Exception UndefVarError(:tv)\n",
      "statsTableDF2 Exception UndefVarError(:tv)\n"
     ]
    }
   ],
   "source": [
    "i = 0\n",
    "for row in eachrow(joinTableSummary)\n",
    "    i += 1\n",
    "    detailsPrint(UP,joinTableSummary,i)\n",
    "    statsDetailsPrint(UP,joinTableSummary,i)\n",
    "    if (i >= SP.showLines)\n",
    "        break;\n",
    "    end\n",
    "end\n",
    ";"
   ]
  },
  {
   "cell_type": "code",
   "execution_count": null,
   "metadata": {
    "collapsed": false,
    "input_collapsed": false
   },
   "outputs": [],
   "source": [
    "q = query(\"\"\" drop view if exists $(UP.btView);\"\"\")\n",
    ";"
   ]
  },
  {
   "cell_type": "code",
   "execution_count": null,
   "metadata": {
    "collapsed": true,
    "input_collapsed": true
   },
   "outputs": [],
   "source": []
  }
 ],
 "metadata": {
  "kernelspec": {
   "display_name": "Julia 0.4.7",
   "language": "julia",
   "name": "julia-0.4"
  },
  "language_info": {
   "file_extension": ".jl",
   "mimetype": "application/julia",
   "name": "julia",
   "version": "0.4.7"
  },
  "library_version": "1.0.0",
  "notebook_uuid": "5a2b42a0-b173-41fe-8af1-3336d062185f",
  "readOnly": false
 },
 "nbformat": 4,
 "nbformat_minor": 0
}
