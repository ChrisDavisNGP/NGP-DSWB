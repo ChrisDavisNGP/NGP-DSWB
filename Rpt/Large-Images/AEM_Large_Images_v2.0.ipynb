{
 "cells": [
  {
   "cell_type": "code",
   "execution_count": 1,
   "metadata": {
    "collapsed": false,
    "input_collapsed": false
   },
   "outputs": [
    {
     "name": "stdout",
     "output_type": "stream",
     "text": [
      "Redshift endpoint set: 2017-11-28T12:30:57\n"
     ]
    }
   ],
   "source": [
    "using ODBC\n",
    "using DataFrames\n",
    "using DSWB\n",
    "using Formatting\n",
    "\n",
    "dsn = \"dswb-natgeo\" # Redshift esetTable(tableRt, tableType = \"RESOURCE_TABLE\")ndpoint\n",
    "table = \"beacons_4744\" # beacon table name\n",
    "tableRt = \"beacons_4744_rt\"\n",
    "\n",
    "# Connect to Beacon Data\n",
    "setRedshiftEndpoint(dsn)\n",
    "setTable(tableRt, tableType = \"RESOURCE_TABLE\")\n",
    "setTable(table)\n",
    ";"
   ]
  },
  {
   "cell_type": "code",
   "execution_count": 2,
   "metadata": {
    "collapsed": false,
    "input_collapsed": false
   },
   "outputs": [],
   "source": [
    "include(\"../../Lib/Include-Package-v2.1.jl\")\n",
    ";"
   ]
  },
  {
   "cell_type": "code",
   "execution_count": 3,
   "metadata": {
    "collapsed": false,
    "input_collapsed": false
   },
   "outputs": [
    {
     "name": "stdout",
     "output_type": "stream",
     "text": [
      "November 27, 2017 06:59:00 to November 27, 2017 16:59:00 Local Time\n",
      "November 27, 2017 11:59:00 to November 27, 2017 21:59:00 UTC Time\n"
     ]
    }
   ],
   "source": [
    "#TV = timeVariables(2017,11,15,23,59,2017,11,16,23,59)\n",
    "#TV = weeklyTimeVariables(days=1)\n",
    "TV = yesterdayTimeVariables()\n",
    ";"
   ]
  },
  {
   "cell_type": "code",
   "execution_count": 4,
   "metadata": {
    "collapsed": false,
    "input_collapsed": false
   },
   "outputs": [],
   "source": [
    "\n",
    "UP = UrlParamsInit()\n",
    "UP.agentOs = \"%\"\n",
    "UP.btView = \"$(table)_AEM_Large_Images_view\" #localtable\n",
    "UP.deviceType = \"%\"\n",
    "UP.limitRows = 250\n",
    "UP.orderBy = \"time\"\n",
    "UP.pageGroup = \"%\"   #productPageGroup\n",
    "UP.rtView = \"$(tableRt)_AEM_Large_Images_view\" #localtableRt\n",
    "UP.samplesMin = 10\n",
    "UP.sizeMin = 10000\n",
    "UP.timeLowerMs = 2000.0\n",
    "UP.timeUpperMs = 60000.0\n",
    "UP.urlRegEx = \"%\"   #localUrl\n",
    "UP.urlFull = \"%\"\n",
    "UP.usePageLoad=false\n",
    "UrlParamsValidate(UP)\n",
    "\n",
    "SP = ShowParamsInit()\n",
    "SP.criticalPathOnly=true\n",
    "SP.desktop=true\n",
    "SP.devView=false\n",
    "SP.debug=false\n",
    "SP.debugLevel = 0   # Tests use even numbers with > tests, make this an odd number or zero\n",
    "SP.mobile=true\n",
    "#SP.showLines = 300\n",
    "SP.showLines = 3\n",
    "ShowParamsValidate(SP)\n",
    "\n",
    ";"
   ]
  },
  {
   "cell_type": "code",
   "execution_count": 5,
   "metadata": {
    "collapsed": false,
    "input_collapsed": false
   },
   "outputs": [
    {
     "data": {
      "text/html": [
       "    <table  class=\"dataframe-table\">\n",
       "    <thead><tr><th class=\"cell-1\" style=\"\">urlgroup</th> <th class=\"cell-2\" style=\"\">session id</th> <th class=\"cell-3\" style=\"\">timestamp</th> <th class=\"cell-4\" style=\"\">encoded</th> <th class=\"cell-5\" style=\"\">transferred</th> <th class=\"cell-6\" style=\"\">decoded</th> <th class=\"cell-7\" style=\"\">count</th></tr></thead>\n",
       "    <tbody>\n",
       "    <tr><td class=\"cell-1\" style=\"\">https://kids.nationalgeographic.com/animals/narwhal</td> <td class=\"cell-2\" style=\"\">883b77ef-de85-4763-b8bd-387f58eb317a-p035vq</td> <td class=\"cell-3\" style=\"text-align:right;\">2017-11-27T17:01:28.844</td> <td class=\"cell-4\" style=\"text-align:right;\">327,134,150</td> <td class=\"cell-5\" style=\"text-align:right;\">327,069,086</td> <td class=\"cell-6\" style=\"text-align:right;\">183,410</td> <td class=\"cell-7\" style=\"text-align:right;\">29</td></tr>\n",
       "<tr><td class=\"cell-1\" style=\"\">https://kids.nationalgeographic.com/animals/narwhal</td> <td class=\"cell-2\" style=\"\">3bfa0408-a683-418f-b1ac-86685e1d6459-p03fpb</td> <td class=\"cell-3\" style=\"text-align:right;\">2017-11-27T20:34:01.17</td> <td class=\"cell-4\" style=\"text-align:right;\">326,527,868</td> <td class=\"cell-5\" style=\"text-align:right;\">326,529,619</td> <td class=\"cell-6\" style=\"\"></td> <td class=\"cell-7\" style=\"text-align:right;\">4</td></tr>\n",
       "    \n",
       "    <tr><td class=\"cell-1\" style=\"\">https://www.nationalgeographic.com/travel/features/best-trips-2017</td> <td class=\"cell-2\" style=\"\">32ca46e4-f409-4a6c-9a2e-cb626102f815-p03boa</td> <td class=\"cell-3\" style=\"text-align:right;\">2017-11-27T19:06:01.47</td> <td class=\"cell-4\" style=\"text-align:right;\">85,262,655</td> <td class=\"cell-5\" style=\"text-align:right;\">85,178,712</td> <td class=\"cell-6\" style=\"text-align:right;\">3,623,039</td> <td class=\"cell-7\" style=\"text-align:right;\">93</td></tr>\n",
       "    </tbody>\n"
      ],
      "text/plain": [
       "HTML{UTF8String}(\"    <table  class=\\\"dataframe-table\\\">\\n    <thead><tr><th class=\\\"cell-1\\\" style=\\\"\\\">urlgroup</th> <th class=\\\"cell-2\\\" style=\\\"\\\">session id</th> <th class=\\\"cell-3\\\" style=\\\"\\\">timestamp</th> <th class=\\\"cell-4\\\" style=\\\"\\\">encoded</th> <th class=\\\"cell-5\\\" style=\\\"\\\">transferred</th> <th class=\\\"cell-6\\\" style=\\\"\\\">decoded</th> <th class=\\\"cell-7\\\" style=\\\"\\\">count</th></tr></thead>\\n    <tbody>\\n    <tr><td class=\\\"cell-1\\\" style=\\\"\\\">https://kids.nationalgeographic.com/animals/narwhal</td> <td class=\\\"cell-2\\\" style=\\\"\\\">883b77ef-de85-4763-b8bd-387f58eb317a-p035vq</td> <td class=\\\"cell-3\\\" style=\\\"text-align:right;\\\">2017-11-27T17:01:28.844</td> <td class=\\\"cell-4\\\" style=\\\"text-align:right;\\\">327,134,150</td> <td class=\\\"cell-5\\\" style=\\\"text-align:right;\\\">327,069,086</td> <td class=\\\"cell-6\\\" style=\\\"text-align:right;\\\">183,410</td> <td class=\\\"cell-7\\\" style=\\\"text-align:right;\\\">29</td></tr>\\n<tr><td class=\\\"cell-1\\\" style=\\\"\\\">https://kids.nationalgeographic.com/animals/narwhal</td> <td class=\\\"cell-2\\\" style=\\\"\\\">3bfa0408-a683-418f-b1ac-86685e1d6459-p03fpb</td> <td class=\\\"cell-3\\\" style=\\\"text-align:right;\\\">2017-11-27T20:34:01.17</td> <td class=\\\"cell-4\\\" style=\\\"text-align:right;\\\">326,527,868</td> <td class=\\\"cell-5\\\" style=\\\"text-align:right;\\\">326,529,619</td> <td class=\\\"cell-6\\\" style=\\\"\\\"></td> <td class=\\\"cell-7\\\" style=\\\"text-align:right;\\\">4</td></tr>\\n    \\n    <tr><td class=\\\"cell-1\\\" style=\\\"\\\">https://www.nationalgeographic.com/travel/features/best-trips-2017</td> <td class=\\\"cell-2\\\" style=\\\"\\\">32ca46e4-f409-4a6c-9a2e-cb626102f815-p03boa</td> <td class=\\\"cell-3\\\" style=\\\"text-align:right;\\\">2017-11-27T19:06:01.47</td> <td class=\\\"cell-4\\\" style=\\\"text-align:right;\\\">85,262,655</td> <td class=\\\"cell-5\\\" style=\\\"text-align:right;\\\">85,178,712</td> <td class=\\\"cell-6\\\" style=\\\"text-align:right;\\\">3,623,039</td> <td class=\\\"cell-7\\\" style=\\\"text-align:right;\\\">93</td></tr>\\n    </tbody>\\n\")"
      ]
     },
     "metadata": {},
     "output_type": "display_data"
    },
    {
     "data": {
      "text/html": [
       "    <table  class=\"dataframe-table\">\n",
       "    <thead><tr><th class=\"cell-1\" style=\"\">urlgroup</th> <th class=\"cell-2\" style=\"\">encoded</th> <th class=\"cell-3\" style=\"\">transferred</th> <th class=\"cell-4\" style=\"\">decoded</th></tr></thead>\n",
       "    <tbody>\n",
       "    <tr><td class=\"cell-1\" style=\"\">https://kids.nationalgeographic.com/animals/narwhal</td> <td class=\"cell-2\" style=\"text-align:right;\">327,134,150</td> <td class=\"cell-3\" style=\"text-align:right;\">327,069,086</td> <td class=\"cell-4\" style=\"text-align:right;\">183,410</td></tr>\n",
       "<tr><td class=\"cell-1\" style=\"\">https://www.nationalgeographic.com/travel/features/best-trips-2017</td> <td class=\"cell-2\" style=\"text-align:right;\">85,262,655</td> <td class=\"cell-3\" style=\"text-align:right;\">85,178,712</td> <td class=\"cell-4\" style=\"text-align:right;\">3,623,039</td></tr>\n",
       "    \n",
       "    <tr><td class=\"cell-1\" style=\"\">https://www.nationalgeographic.com/adventure/destinations/united-states/arizona/grand-canyon-national-park/grand-canyon-national-parks-interactive-map</td> <td class=\"cell-2\" style=\"text-align:right;\">83,446,163</td> <td class=\"cell-3\" style=\"text-align:right;\">83,487,429</td> <td class=\"cell-4\" style=\"text-align:right;\">2,996,769</td></tr>\n",
       "    </tbody>\n"
      ],
      "text/plain": [
       "HTML{UTF8String}(\"    <table  class=\\\"dataframe-table\\\">\\n    <thead><tr><th class=\\\"cell-1\\\" style=\\\"\\\">urlgroup</th> <th class=\\\"cell-2\\\" style=\\\"\\\">encoded</th> <th class=\\\"cell-3\\\" style=\\\"\\\">transferred</th> <th class=\\\"cell-4\\\" style=\\\"\\\">decoded</th></tr></thead>\\n    <tbody>\\n    <tr><td class=\\\"cell-1\\\" style=\\\"\\\">https://kids.nationalgeographic.com/animals/narwhal</td> <td class=\\\"cell-2\\\" style=\\\"text-align:right;\\\">327,134,150</td> <td class=\\\"cell-3\\\" style=\\\"text-align:right;\\\">327,069,086</td> <td class=\\\"cell-4\\\" style=\\\"text-align:right;\\\">183,410</td></tr>\\n<tr><td class=\\\"cell-1\\\" style=\\\"\\\">https://www.nationalgeographic.com/travel/features/best-trips-2017</td> <td class=\\\"cell-2\\\" style=\\\"text-align:right;\\\">85,262,655</td> <td class=\\\"cell-3\\\" style=\\\"text-align:right;\\\">85,178,712</td> <td class=\\\"cell-4\\\" style=\\\"text-align:right;\\\">3,623,039</td></tr>\\n    \\n    <tr><td class=\\\"cell-1\\\" style=\\\"\\\">https://www.nationalgeographic.com/adventure/destinations/united-states/arizona/grand-canyon-national-park/grand-canyon-national-parks-interactive-map</td> <td class=\\\"cell-2\\\" style=\\\"text-align:right;\\\">83,446,163</td> <td class=\\\"cell-3\\\" style=\\\"text-align:right;\\\">83,487,429</td> <td class=\\\"cell-4\\\" style=\\\"text-align:right;\\\">2,996,769</td></tr>\\n    </tbody>\\n\")"
      ]
     },
     "metadata": {},
     "output_type": "display_data"
    },
    {
     "data": {
      "text/html": [
       "<div class=\"dswbOutputText\"><h1 class=\"chart_title\" style=\"color:#ccc\">Large Requests for: https://kids.nationalgeographic.com/animals/narwhal</h1><h3 class=\"chart_info\" style=\"color:#ccc\">November 27, 2017 06:59:00 to November 27, 2017 16:59:00 Local Time</h3></div>"
      ]
     },
     "metadata": {},
     "output_type": "display_data"
    },
    {
     "data": {
      "text/html": [
       "    <table  class=\"dataframe-table\">\n",
       "    <thead><tr><th class=\"cell-1\" style=\"\">start time</th> <th class=\"cell-2\" style=\"\">encoded size</th> <th class=\"cell-3\" style=\"\">transferred size</th> <th class=\"cell-4\" style=\"\">decoded size</th> <th class=\"cell-5\" style=\"\">urlgroup</th></tr></thead>\n",
       "    <tbody>\n",
       "    <tr><td class=\"cell-1\" style=\"text-align:right;\">1,435</td> <td class=\"cell-2\" style=\"text-align:right;\">326,498,798</td> <td class=\"cell-3\" style=\"text-align:right;\">326,499,248</td> <td class=\"cell-4\" style=\"\"></td> <td class=\"cell-5\" style=\"\">https://kids.nationalgeographic.com/content/dam/kids/photos/animals/Mammals/H-P/Narwhal_20map-2.ngsversion.1429722478619.png</td></tr>\n",
       "    \n",
       "    \n",
       "    </tbody>\n"
      ],
      "text/plain": [
       "HTML{UTF8String}(\"    <table  class=\\\"dataframe-table\\\">\\n    <thead><tr><th class=\\\"cell-1\\\" style=\\\"\\\">start time</th> <th class=\\\"cell-2\\\" style=\\\"\\\">encoded size</th> <th class=\\\"cell-3\\\" style=\\\"\\\">transferred size</th> <th class=\\\"cell-4\\\" style=\\\"\\\">decoded size</th> <th class=\\\"cell-5\\\" style=\\\"\\\">urlgroup</th></tr></thead>\\n    <tbody>\\n    <tr><td class=\\\"cell-1\\\" style=\\\"text-align:right;\\\">1,435</td> <td class=\\\"cell-2\\\" style=\\\"text-align:right;\\\">326,498,798</td> <td class=\\\"cell-3\\\" style=\\\"text-align:right;\\\">326,499,248</td> <td class=\\\"cell-4\\\" style=\\\"\\\"></td> <td class=\\\"cell-5\\\" style=\\\"\\\">https://kids.nationalgeographic.com/content/dam/kids/photos/animals/Mammals/H-P/Narwhal_20map-2.ngsversion.1429722478619.png</td></tr>\\n    \\n    \\n    </tbody>\\n\")"
      ]
     },
     "metadata": {},
     "output_type": "display_data"
    },
    {
     "data": {
      "text/html": [
       "<div class=\"dswbOutputText\"><h1 class=\"chart_title\" style=\"color:#ccc\">Large Request Stats for: https://kids.nationalgeographic.com/animals/narwhal</h1><h3 class=\"chart_info\" style=\"color:#ccc\">November 27, 2017 06:59:00 to November 27, 2017 16:59:00 Local Time</h3></div>"
      ]
     },
     "metadata": {},
     "output_type": "display_data"
    },
    {
     "data": {
      "text/html": [
       "    <table  class=\"dataframe-table\">\n",
       "    <thead><tr><th class=\"cell-1\" style=\"\">RefGroup</th> <th class=\"cell-2\" style=\"\">Unit</th> <th class=\"cell-3\" style=\"\">Count</th> <th class=\"cell-4\" style=\"\">Mean</th> <th class=\"cell-5\" style=\"\">Median</th> <th class=\"cell-6\" style=\"\">Min</th> <th class=\"cell-7\" style=\"\">Max</th></tr></thead>\n",
       "    <tbody>\n",
       "    <tr><td class=\"cell-1\" style=\"\">Desktop</td> <td class=\"cell-2\" style=\"\">seconds</td> <td class=\"cell-3\" style=\"text-align:right;\">201,845</td> <td class=\"cell-4\" style=\"text-align:right;\">8.717</td> <td class=\"cell-5\" style=\"text-align:right;\">5.999</td> <td class=\"cell-6\" style=\"text-align:right;\">2</td> <td class=\"cell-7\" style=\"text-align:right;\">59.997</td></tr>\n",
       "<tr><td class=\"cell-1\" style=\"\">Mobile</td> <td class=\"cell-2\" style=\"\">seconds</td> <td class=\"cell-3\" style=\"text-align:right;\">69,198</td> <td class=\"cell-4\" style=\"text-align:right;\">15.775</td> <td class=\"cell-5\" style=\"text-align:right;\">11.764</td> <td class=\"cell-6\" style=\"text-align:right;\">2.002</td> <td class=\"cell-7\" style=\"text-align:right;\">59.997</td></tr>\n",
       "    \n",
       "    <tr><td class=\"cell-1\" style=\"\">Tablet</td> <td class=\"cell-2\" style=\"\">seconds</td> <td class=\"cell-3\" style=\"text-align:right;\">22,626</td> <td class=\"cell-4\" style=\"text-align:right;\">11.911</td> <td class=\"cell-5\" style=\"text-align:right;\">7.688</td> <td class=\"cell-6\" style=\"text-align:right;\">2</td> <td class=\"cell-7\" style=\"text-align:right;\">59.982</td></tr>\n",
       "    </tbody>\n"
      ],
      "text/plain": [
       "HTML{UTF8String}(\"    <table  class=\\\"dataframe-table\\\">\\n    <thead><tr><th class=\\\"cell-1\\\" style=\\\"\\\">RefGroup</th> <th class=\\\"cell-2\\\" style=\\\"\\\">Unit</th> <th class=\\\"cell-3\\\" style=\\\"\\\">Count</th> <th class=\\\"cell-4\\\" style=\\\"\\\">Mean</th> <th class=\\\"cell-5\\\" style=\\\"\\\">Median</th> <th class=\\\"cell-6\\\" style=\\\"\\\">Min</th> <th class=\\\"cell-7\\\" style=\\\"\\\">Max</th></tr></thead>\\n    <tbody>\\n    <tr><td class=\\\"cell-1\\\" style=\\\"\\\">Desktop</td> <td class=\\\"cell-2\\\" style=\\\"\\\">seconds</td> <td class=\\\"cell-3\\\" style=\\\"text-align:right;\\\">201,845</td> <td class=\\\"cell-4\\\" style=\\\"text-align:right;\\\">8.717</td> <td class=\\\"cell-5\\\" style=\\\"text-align:right;\\\">5.999</td> <td class=\\\"cell-6\\\" style=\\\"text-align:right;\\\">2</td> <td class=\\\"cell-7\\\" style=\\\"text-align:right;\\\">59.997</td></tr>\\n<tr><td class=\\\"cell-1\\\" style=\\\"\\\">Mobile</td> <td class=\\\"cell-2\\\" style=\\\"\\\">seconds</td> <td class=\\\"cell-3\\\" style=\\\"text-align:right;\\\">69,198</td> <td class=\\\"cell-4\\\" style=\\\"text-align:right;\\\">15.775</td> <td class=\\\"cell-5\\\" style=\\\"text-align:right;\\\">11.764</td> <td class=\\\"cell-6\\\" style=\\\"text-align:right;\\\">2.002</td> <td class=\\\"cell-7\\\" style=\\\"text-align:right;\\\">59.997</td></tr>\\n    \\n    <tr><td class=\\\"cell-1\\\" style=\\\"\\\">Tablet</td> <td class=\\\"cell-2\\\" style=\\\"\\\">seconds</td> <td class=\\\"cell-3\\\" style=\\\"text-align:right;\\\">22,626</td> <td class=\\\"cell-4\\\" style=\\\"text-align:right;\\\">11.911</td> <td class=\\\"cell-5\\\" style=\\\"text-align:right;\\\">7.688</td> <td class=\\\"cell-6\\\" style=\\\"text-align:right;\\\">2</td> <td class=\\\"cell-7\\\" style=\\\"text-align:right;\\\">59.982</td></tr>\\n    </tbody>\\n\")"
      ]
     },
     "metadata": {},
     "output_type": "display_data"
    },
    {
     "data": {
      "text/html": [
       "<div class=\"dswbOutputText\"><h1 class=\"chart_title\" style=\"color:#ccc\">Large Requests for: https://www.nationalgeographic.com/travel/features/best-trips-2017</h1><h3 class=\"chart_info\" style=\"color:#ccc\">November 27, 2017 06:59:00 to November 27, 2017 16:59:00 Local Time</h3></div>"
      ]
     },
     "metadata": {},
     "output_type": "display_data"
    },
    {
     "data": {
      "text/html": [
       "    <table  class=\"dataframe-table\">\n",
       "    <thead><tr><th class=\"cell-1\" style=\"\">start time</th> <th class=\"cell-2\" style=\"\">encoded size</th> <th class=\"cell-3\" style=\"\">transferred size</th> <th class=\"cell-4\" style=\"\">decoded size</th> <th class=\"cell-5\" style=\"\">urlgroup</th></tr></thead>\n",
       "    <tbody>\n",
       "    <tr><td class=\"cell-1\" style=\"text-align:right;\">419</td> <td class=\"cell-2\" style=\"text-align:right;\">2,210,599</td> <td class=\"cell-3\" style=\"text-align:right;\">2,211,008</td> <td class=\"cell-4\" style=\"\"></td> <td class=\"cell-5\" style=\"\">https://www.nationalgeographic.com/content/dam/travel/rights-exempt/travel-2017/april-may-traveler-cover/april-may-nat-geo-traveler-cover.ngsversion.1...</td></tr>\n",
       "    \n",
       "    \n",
       "    </tbody>\n"
      ],
      "text/plain": [
       "HTML{UTF8String}(\"    <table  class=\\\"dataframe-table\\\">\\n    <thead><tr><th class=\\\"cell-1\\\" style=\\\"\\\">start time</th> <th class=\\\"cell-2\\\" style=\\\"\\\">encoded size</th> <th class=\\\"cell-3\\\" style=\\\"\\\">transferred size</th> <th class=\\\"cell-4\\\" style=\\\"\\\">decoded size</th> <th class=\\\"cell-5\\\" style=\\\"\\\">urlgroup</th></tr></thead>\\n    <tbody>\\n    <tr><td class=\\\"cell-1\\\" style=\\\"text-align:right;\\\">419</td> <td class=\\\"cell-2\\\" style=\\\"text-align:right;\\\">2,210,599</td> <td class=\\\"cell-3\\\" style=\\\"text-align:right;\\\">2,211,008</td> <td class=\\\"cell-4\\\" style=\\\"\\\"></td> <td class=\\\"cell-5\\\" style=\\\"\\\">https://www.nationalgeographic.com/content/dam/travel/rights-exempt/travel-2017/april-may-traveler-cover/april-may-nat-geo-traveler-cover.ngsversion.1...</td></tr>\\n    \\n    \\n    </tbody>\\n\")"
      ]
     },
     "metadata": {},
     "output_type": "display_data"
    },
    {
     "data": {
      "text/html": [
       "<div class=\"dswbOutputText\"><h1 class=\"chart_title\" style=\"color:#ccc\">Large Request Stats for: https://www.nationalgeographic.com/travel/features/best-trips-2017</h1><h3 class=\"chart_info\" style=\"color:#ccc\">November 27, 2017 06:59:00 to November 27, 2017 16:59:00 Local Time</h3></div>"
      ]
     },
     "metadata": {},
     "output_type": "display_data"
    },
    {
     "data": {
      "text/html": [
       "    <table  class=\"dataframe-table\">\n",
       "    <thead><tr><th class=\"cell-1\" style=\"\">RefGroup</th> <th class=\"cell-2\" style=\"\">Unit</th> <th class=\"cell-3\" style=\"\">Count</th> <th class=\"cell-4\" style=\"\">Mean</th> <th class=\"cell-5\" style=\"\">Median</th> <th class=\"cell-6\" style=\"\">Min</th> <th class=\"cell-7\" style=\"\">Max</th></tr></thead>\n",
       "    <tbody>\n",
       "    <tr><td class=\"cell-1\" style=\"\">Desktop</td> <td class=\"cell-2\" style=\"\">seconds</td> <td class=\"cell-3\" style=\"text-align:right;\">201,845</td> <td class=\"cell-4\" style=\"text-align:right;\">8.717</td> <td class=\"cell-5\" style=\"text-align:right;\">5.999</td> <td class=\"cell-6\" style=\"text-align:right;\">2</td> <td class=\"cell-7\" style=\"text-align:right;\">59.997</td></tr>\n",
       "<tr><td class=\"cell-1\" style=\"\">Mobile</td> <td class=\"cell-2\" style=\"\">seconds</td> <td class=\"cell-3\" style=\"text-align:right;\">69,198</td> <td class=\"cell-4\" style=\"text-align:right;\">15.775</td> <td class=\"cell-5\" style=\"text-align:right;\">11.764</td> <td class=\"cell-6\" style=\"text-align:right;\">2.002</td> <td class=\"cell-7\" style=\"text-align:right;\">59.997</td></tr>\n",
       "    \n",
       "    <tr><td class=\"cell-1\" style=\"\">Tablet</td> <td class=\"cell-2\" style=\"\">seconds</td> <td class=\"cell-3\" style=\"text-align:right;\">22,626</td> <td class=\"cell-4\" style=\"text-align:right;\">11.911</td> <td class=\"cell-5\" style=\"text-align:right;\">7.688</td> <td class=\"cell-6\" style=\"text-align:right;\">2</td> <td class=\"cell-7\" style=\"text-align:right;\">59.982</td></tr>\n",
       "    </tbody>\n"
      ],
      "text/plain": [
       "HTML{UTF8String}(\"    <table  class=\\\"dataframe-table\\\">\\n    <thead><tr><th class=\\\"cell-1\\\" style=\\\"\\\">RefGroup</th> <th class=\\\"cell-2\\\" style=\\\"\\\">Unit</th> <th class=\\\"cell-3\\\" style=\\\"\\\">Count</th> <th class=\\\"cell-4\\\" style=\\\"\\\">Mean</th> <th class=\\\"cell-5\\\" style=\\\"\\\">Median</th> <th class=\\\"cell-6\\\" style=\\\"\\\">Min</th> <th class=\\\"cell-7\\\" style=\\\"\\\">Max</th></tr></thead>\\n    <tbody>\\n    <tr><td class=\\\"cell-1\\\" style=\\\"\\\">Desktop</td> <td class=\\\"cell-2\\\" style=\\\"\\\">seconds</td> <td class=\\\"cell-3\\\" style=\\\"text-align:right;\\\">201,845</td> <td class=\\\"cell-4\\\" style=\\\"text-align:right;\\\">8.717</td> <td class=\\\"cell-5\\\" style=\\\"text-align:right;\\\">5.999</td> <td class=\\\"cell-6\\\" style=\\\"text-align:right;\\\">2</td> <td class=\\\"cell-7\\\" style=\\\"text-align:right;\\\">59.997</td></tr>\\n<tr><td class=\\\"cell-1\\\" style=\\\"\\\">Mobile</td> <td class=\\\"cell-2\\\" style=\\\"\\\">seconds</td> <td class=\\\"cell-3\\\" style=\\\"text-align:right;\\\">69,198</td> <td class=\\\"cell-4\\\" style=\\\"text-align:right;\\\">15.775</td> <td class=\\\"cell-5\\\" style=\\\"text-align:right;\\\">11.764</td> <td class=\\\"cell-6\\\" style=\\\"text-align:right;\\\">2.002</td> <td class=\\\"cell-7\\\" style=\\\"text-align:right;\\\">59.997</td></tr>\\n    \\n    <tr><td class=\\\"cell-1\\\" style=\\\"\\\">Tablet</td> <td class=\\\"cell-2\\\" style=\\\"\\\">seconds</td> <td class=\\\"cell-3\\\" style=\\\"text-align:right;\\\">22,626</td> <td class=\\\"cell-4\\\" style=\\\"text-align:right;\\\">11.911</td> <td class=\\\"cell-5\\\" style=\\\"text-align:right;\\\">7.688</td> <td class=\\\"cell-6\\\" style=\\\"text-align:right;\\\">2</td> <td class=\\\"cell-7\\\" style=\\\"text-align:right;\\\">59.982</td></tr>\\n    </tbody>\\n\")"
      ]
     },
     "metadata": {},
     "output_type": "display_data"
    },
    {
     "data": {
      "text/html": [
       "<div class=\"dswbOutputText\"><h1 class=\"chart_title\" style=\"color:#ccc\">Large Requests for: https://www.nationalgeographic.com/adventure/destinations/united-states/arizona/grand-canyon-national-park/grand-canyon-national-parks-interactive-map</h1><h3 class=\"chart_info\" style=\"color:#ccc\">November 27, 2017 06:59:00 to November 27, 2017 16:59:00 Local Time</h3></div>"
      ]
     },
     "metadata": {},
     "output_type": "display_data"
    },
    {
     "data": {
      "text/html": [
       "    <table  class=\"dataframe-table\">\n",
       "    <thead><tr><th class=\"cell-1\" style=\"\">start time</th> <th class=\"cell-2\" style=\"\">encoded size</th> <th class=\"cell-3\" style=\"\">transferred size</th> <th class=\"cell-4\" style=\"\">decoded size</th> <th class=\"cell-5\" style=\"\">urlgroup</th></tr></thead>\n",
       "    <tbody>\n",
       "    <tr><td class=\"cell-1\" style=\"text-align:right;\">1,276</td> <td class=\"cell-2\" style=\"text-align:right;\">2,210,599</td> <td class=\"cell-3\" style=\"text-align:right;\">2,211,008</td> <td class=\"cell-4\" style=\"\"></td> <td class=\"cell-5\" style=\"\">https://www.nationalgeographic.com/content/dam/travel/rights-exempt/travel-2017/april-may-traveler-cover/april-may-nat-geo-traveler-cover.ngsversion.1...</td></tr>\n",
       "    \n",
       "    \n",
       "    </tbody>\n"
      ],
      "text/plain": [
       "HTML{UTF8String}(\"    <table  class=\\\"dataframe-table\\\">\\n    <thead><tr><th class=\\\"cell-1\\\" style=\\\"\\\">start time</th> <th class=\\\"cell-2\\\" style=\\\"\\\">encoded size</th> <th class=\\\"cell-3\\\" style=\\\"\\\">transferred size</th> <th class=\\\"cell-4\\\" style=\\\"\\\">decoded size</th> <th class=\\\"cell-5\\\" style=\\\"\\\">urlgroup</th></tr></thead>\\n    <tbody>\\n    <tr><td class=\\\"cell-1\\\" style=\\\"text-align:right;\\\">1,276</td> <td class=\\\"cell-2\\\" style=\\\"text-align:right;\\\">2,210,599</td> <td class=\\\"cell-3\\\" style=\\\"text-align:right;\\\">2,211,008</td> <td class=\\\"cell-4\\\" style=\\\"\\\"></td> <td class=\\\"cell-5\\\" style=\\\"\\\">https://www.nationalgeographic.com/content/dam/travel/rights-exempt/travel-2017/april-may-traveler-cover/april-may-nat-geo-traveler-cover.ngsversion.1...</td></tr>\\n    \\n    \\n    </tbody>\\n\")"
      ]
     },
     "metadata": {},
     "output_type": "display_data"
    },
    {
     "data": {
      "text/html": [
       "<div class=\"dswbOutputText\"><h1 class=\"chart_title\" style=\"color:#ccc\">Large Request Stats for: https://www.nationalgeographic.com/adventure/destinations/united-states/arizona/grand-canyon-national-park/grand-canyon-national-parks-interactive-map</h1><h3 class=\"chart_info\" style=\"color:#ccc\">November 27, 2017 06:59:00 to November 27, 2017 16:59:00 Local Time</h3></div>"
      ]
     },
     "metadata": {},
     "output_type": "display_data"
    },
    {
     "data": {
      "text/html": [
       "    <table  class=\"dataframe-table\">\n",
       "    <thead><tr><th class=\"cell-1\" style=\"\">RefGroup</th> <th class=\"cell-2\" style=\"\">Unit</th> <th class=\"cell-3\" style=\"\">Count</th> <th class=\"cell-4\" style=\"\">Mean</th> <th class=\"cell-5\" style=\"\">Median</th> <th class=\"cell-6\" style=\"\">Min</th> <th class=\"cell-7\" style=\"\">Max</th></tr></thead>\n",
       "    <tbody>\n",
       "    <tr><td class=\"cell-1\" style=\"\">Desktop</td> <td class=\"cell-2\" style=\"\">seconds</td> <td class=\"cell-3\" style=\"text-align:right;\">201,845</td> <td class=\"cell-4\" style=\"text-align:right;\">8.717</td> <td class=\"cell-5\" style=\"text-align:right;\">5.999</td> <td class=\"cell-6\" style=\"text-align:right;\">2</td> <td class=\"cell-7\" style=\"text-align:right;\">59.997</td></tr>\n",
       "<tr><td class=\"cell-1\" style=\"\">Mobile</td> <td class=\"cell-2\" style=\"\">seconds</td> <td class=\"cell-3\" style=\"text-align:right;\">69,198</td> <td class=\"cell-4\" style=\"text-align:right;\">15.775</td> <td class=\"cell-5\" style=\"text-align:right;\">11.764</td> <td class=\"cell-6\" style=\"text-align:right;\">2.002</td> <td class=\"cell-7\" style=\"text-align:right;\">59.997</td></tr>\n",
       "    \n",
       "    <tr><td class=\"cell-1\" style=\"\">Tablet</td> <td class=\"cell-2\" style=\"\">seconds</td> <td class=\"cell-3\" style=\"text-align:right;\">22,626</td> <td class=\"cell-4\" style=\"text-align:right;\">11.911</td> <td class=\"cell-5\" style=\"text-align:right;\">7.688</td> <td class=\"cell-6\" style=\"text-align:right;\">2</td> <td class=\"cell-7\" style=\"text-align:right;\">59.982</td></tr>\n",
       "    </tbody>\n"
      ],
      "text/plain": [
       "HTML{UTF8String}(\"    <table  class=\\\"dataframe-table\\\">\\n    <thead><tr><th class=\\\"cell-1\\\" style=\\\"\\\">RefGroup</th> <th class=\\\"cell-2\\\" style=\\\"\\\">Unit</th> <th class=\\\"cell-3\\\" style=\\\"\\\">Count</th> <th class=\\\"cell-4\\\" style=\\\"\\\">Mean</th> <th class=\\\"cell-5\\\" style=\\\"\\\">Median</th> <th class=\\\"cell-6\\\" style=\\\"\\\">Min</th> <th class=\\\"cell-7\\\" style=\\\"\\\">Max</th></tr></thead>\\n    <tbody>\\n    <tr><td class=\\\"cell-1\\\" style=\\\"\\\">Desktop</td> <td class=\\\"cell-2\\\" style=\\\"\\\">seconds</td> <td class=\\\"cell-3\\\" style=\\\"text-align:right;\\\">201,845</td> <td class=\\\"cell-4\\\" style=\\\"text-align:right;\\\">8.717</td> <td class=\\\"cell-5\\\" style=\\\"text-align:right;\\\">5.999</td> <td class=\\\"cell-6\\\" style=\\\"text-align:right;\\\">2</td> <td class=\\\"cell-7\\\" style=\\\"text-align:right;\\\">59.997</td></tr>\\n<tr><td class=\\\"cell-1\\\" style=\\\"\\\">Mobile</td> <td class=\\\"cell-2\\\" style=\\\"\\\">seconds</td> <td class=\\\"cell-3\\\" style=\\\"text-align:right;\\\">69,198</td> <td class=\\\"cell-4\\\" style=\\\"text-align:right;\\\">15.775</td> <td class=\\\"cell-5\\\" style=\\\"text-align:right;\\\">11.764</td> <td class=\\\"cell-6\\\" style=\\\"text-align:right;\\\">2.002</td> <td class=\\\"cell-7\\\" style=\\\"text-align:right;\\\">59.997</td></tr>\\n    \\n    <tr><td class=\\\"cell-1\\\" style=\\\"\\\">Tablet</td> <td class=\\\"cell-2\\\" style=\\\"\\\">seconds</td> <td class=\\\"cell-3\\\" style=\\\"text-align:right;\\\">22,626</td> <td class=\\\"cell-4\\\" style=\\\"text-align:right;\\\">11.911</td> <td class=\\\"cell-5\\\" style=\\\"text-align:right;\\\">7.688</td> <td class=\\\"cell-6\\\" style=\\\"text-align:right;\\\">2</td> <td class=\\\"cell-7\\\" style=\\\"text-align:right;\\\">59.982</td></tr>\\n    </tbody>\\n\")"
      ]
     },
     "metadata": {},
     "output_type": "display_data"
    }
   ],
   "source": [
    "aemLargeImagesWorkflow(TV,UP,SP)\n",
    ";"
   ]
  },
  {
   "cell_type": "code",
   "execution_count": null,
   "metadata": {
    "collapsed": true,
    "input_collapsed": false
   },
   "outputs": [],
   "source": []
  }
 ],
 "metadata": {
  "kernelspec": {
   "display_name": "Julia 0.4.7",
   "language": "julia",
   "name": "julia-0.4"
  },
  "language_info": {
   "file_extension": ".jl",
   "mimetype": "application/julia",
   "name": "julia",
   "version": "0.4.7"
  },
  "library_version": "1.0.0",
  "notebook_uuid": "5a2b42a0-b173-41fe-8af1-3336d062185f",
  "readOnly": false
 },
 "nbformat": 4,
 "nbformat_minor": 0
}
