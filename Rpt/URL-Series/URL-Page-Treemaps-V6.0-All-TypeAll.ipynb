{
 "cells": [
  {
   "cell_type": "markdown",
   "metadata": {},
   "source": [
    "## Tables and Data Source setup"
   ]
  },
  {
   "cell_type": "code",
   "execution_count": 1,
   "metadata": {
    "collapsed": false,
    "input_collapsed": false,
    "scrolled": true
   },
   "outputs": [
    {
     "name": "stdout",
     "output_type": "stream",
     "text": [
      "Redshift endpoint set: 2017-11-29T02:07:50\n"
     ]
    }
   ],
   "source": [
    "using ODBC\n",
    "using DataFrames\n",
    "using DSWB\n",
    "using Formatting\n",
    "using URIParser\n",
    "\n",
    "dsn = \"dswb-natgeo\" # Redshift esetTable(tableRt, tableType = \"RESOURCE_TABLE\")ndpoint\n",
    "table = \"beacons_4744\" # beacon table name\n",
    "tableRt = \"beacons_4744_rt\"\n",
    "\n",
    "# Connect to Beacon Data\n",
    "setRedshiftEndpoint(dsn)\n",
    "setTable(table)\n",
    "setTable(tableRt, tableType = \"RESOURCE_TABLE\")\n",
    ";"
   ]
  },
  {
   "cell_type": "code",
   "execution_count": 2,
   "metadata": {
    "collapsed": false,
    "input_collapsed": false
   },
   "outputs": [],
   "source": [
    "include(\"../../Lib/Include-Package-v2.1.jl\")\n",
    "include(\"../../Lib/URL-Classification-Package-v2.0.jl\")\n",
    ";"
   ]
  },
  {
   "cell_type": "code",
   "execution_count": 3,
   "metadata": {
    "collapsed": false,
    "input_collapsed": false
   },
   "outputs": [
    {
     "name": "stdout",
     "output_type": "stream",
     "text": [
      "November 27, 2017 06:59:00 to November 27, 2017 16:59:00 Local Time\n",
      "November 27, 2017 11:59:00 to November 27, 2017 21:59:00 UTC Time\n"
     ]
    }
   ],
   "source": [
    "#TV = timeVariables(2017,6,8,10,59,2017,6,8,12,59)\n",
    "#TV = weeklyTimeVariables(days=1)\n",
    "TV = yesterdayTimeVariables()\n",
    ";"
   ]
  },
  {
   "cell_type": "code",
   "execution_count": 4,
   "metadata": {
    "collapsed": false,
    "input_collapsed": false,
    "scrolled": true
   },
   "outputs": [],
   "source": [
    "UP = UrlParamsInit(\"URL_Page_Treemaps\")\n",
    "UP.agentOs = \"%\"\n",
    "UP.deviceType = \"Mobile\"\n",
    "UP.limitRows = 250\n",
    "UP.orderBy = \"time\"\n",
    "UP.pageGroup = \"Channel\"   #productPageGroup\n",
    "UP.samplesMin = 10\n",
    "UP.sizeMin = 10000\n",
    "UP.timeLowerMs = 2000.0\n",
    "UP.timeUpperMs = 600000.0\n",
    "UP.urlRegEx = \"http://channel.nationalgeographic.com/genius/\"   #localUrl\n",
    "UP.urlFull = \"http://channel.nationalgeographic.com/genius\"\n",
    "UP.usePageLoad=false\n",
    "UrlParamsValidate(UP)\n",
    "\n",
    "SP = ShowParamsInit()\n",
    "SP.criticalPathOnly=true\n",
    "SP.desktop=false\n",
    "SP.devView=false\n",
    "SP.debug=false\n",
    "SP.debugLevel = 0   # Tests use even numbers with > tests, make this an odd number or zero\n",
    "SP.mobile=true\n",
    "#SP.showLines = 300\n",
    "SP.showLines = 25\n",
    "SP.reportLevel = 2\n",
    "ShowParamsValidate(SP)\n",
    "\n",
    "#studySession::ASCIIString\n",
    "#studyTime::Int64\n",
    ";"
   ]
  },
  {
   "cell_type": "code",
   "execution_count": 5,
   "metadata": {
    "collapsed": false,
    "input_collapsed": false,
    "scrolled": true
   },
   "outputs": [
    {
     "name": "stdout",
     "output_type": "stream",
     "text": [
      "beacons_4744 count is (35,246)\n"
     ]
    }
   ],
   "source": [
    "localTableDF = defaultBeaconsToDF(TV,UP,SP)\n",
    "println(\"$table count is \",size(localTableDF))\n",
    ";"
   ]
  },
  {
   "cell_type": "code",
   "execution_count": 6,
   "metadata": {
    "collapsed": false,
    "input_collapsed": false,
    "scrolled": true
   },
   "outputs": [
    {
     "name": "stdout",
     "output_type": "stream",
     "text": [
      "beacons_4744_rt count is (549,27)\n"
     ]
    }
   ],
   "source": [
    "localTableRtDF = treemapsLocalTableRtDF(TV,UP,SP)\n",
    "println(\"$tableRt count is \",size(localTableRtDF))\n",
    ";"
   ]
  },
  {
   "cell_type": "code",
   "execution_count": 7,
   "metadata": {
    "collapsed": false,
    "input_collapsed": false
   },
   "outputs": [
    {
     "data": {
      "text/html": [
       "<div class=\"dswbOutputText\"><h1 class=\"chart_title\" style=\"color:#ccc\">Raw Data Stats for Channel</h1><h3 class=\"chart_info\" style=\"color:#ccc\">November 27, 2017 06:59:00 to November 27, 2017 16:59:00 Local Time</h3></div>"
      ]
     },
     "metadata": {},
     "output_type": "display_data"
    },
    {
     "data": {
      "text/html": [
       "    <table  class=\"dataframe-table\">\n",
       "    <thead><tr><th class=\"cell-1\" style=\"\">unit</th> <th class=\"cell-2\" style=\"\">count</th> <th class=\"cell-3\" style=\"\">mean</th> <th class=\"cell-4\" style=\"\">median</th> <th class=\"cell-5\" style=\"\">stddev</th> <th class=\"cell-6\" style=\"\">variance</th> <th class=\"cell-7\" style=\"\">min</th> <th class=\"cell-8\" style=\"\">max</th> <th class=\"cell-9\" style=\"\">q25</th> <th class=\"cell-10\" style=\"\">q75</th> <th class=\"cell-11\" style=\"\">kurtosis</th> <th class=\"cell-12\" style=\"\">skewness</th> <th class=\"cell-13\" style=\"\">entropy</th> <th class=\"cell-14\" style=\"\">modes</th> <th class=\"cell-15\" style=\"\">LowerBy3Stddev</th> <th class=\"cell-16\" style=\"\">UpperBy3Stddev</th></tr></thead>\n",
       "    <tbody>\n",
       "    <tr><td class=\"cell-1\" style=\"\">milliseconds</td> <td class=\"cell-2\" style=\"text-align:right;\">35</td> <td class=\"cell-3\" style=\"text-align:right;\">30,494</td> <td class=\"cell-4\" style=\"text-align:right;\">18,480</td> <td class=\"cell-5\" style=\"text-align:right;\">46,730</td> <td class=\"cell-6\" style=\"text-align:right;\">2,183,674,219</td> <td class=\"cell-7\" style=\"text-align:right;\">3,669</td> <td class=\"cell-8\" style=\"text-align:right;\">239,001</td> <td class=\"cell-9\" style=\"text-align:right;\">7,926</td> <td class=\"cell-10\" style=\"text-align:right;\">26,802</td> <td class=\"cell-11\" style=\"text-align:right;\">11.2</td> <td class=\"cell-12\" style=\"text-align:right;\">3.4</td> <td class=\"cell-13\" style=\"text-align:right;\">-11,698,501</td> <td class=\"cell-14\" style=\"text-align:right;\">13,444</td> <td class=\"cell-15\" style=\"text-align:right;\">1</td> <td class=\"cell-16\" style=\"text-align:right;\">158,670</td></tr>\n",
       "    \n",
       "    \n",
       "    </tbody>\n"
      ],
      "text/plain": [
       "HTML{UTF8String}(\"    <table  class=\\\"dataframe-table\\\">\\n    <thead><tr><th class=\\\"cell-1\\\" style=\\\"\\\">unit</th> <th class=\\\"cell-2\\\" style=\\\"\\\">count</th> <th class=\\\"cell-3\\\" style=\\\"\\\">mean</th> <th class=\\\"cell-4\\\" style=\\\"\\\">median</th> <th class=\\\"cell-5\\\" style=\\\"\\\">stddev</th> <th class=\\\"cell-6\\\" style=\\\"\\\">variance</th> <th class=\\\"cell-7\\\" style=\\\"\\\">min</th> <th class=\\\"cell-8\\\" style=\\\"\\\">max</th> <th class=\\\"cell-9\\\" style=\\\"\\\">q25</th> <th class=\\\"cell-10\\\" style=\\\"\\\">q75</th> <th class=\\\"cell-11\\\" style=\\\"\\\">kurtosis</th> <th class=\\\"cell-12\\\" style=\\\"\\\">skewness</th> <th class=\\\"cell-13\\\" style=\\\"\\\">entropy</th> <th class=\\\"cell-14\\\" style=\\\"\\\">modes</th> <th class=\\\"cell-15\\\" style=\\\"\\\">LowerBy3Stddev</th> <th class=\\\"cell-16\\\" style=\\\"\\\">UpperBy3Stddev</th></tr></thead>\\n    <tbody>\\n    <tr><td class=\\\"cell-1\\\" style=\\\"\\\">milliseconds</td> <td class=\\\"cell-2\\\" style=\\\"text-align:right;\\\">35</td> <td class=\\\"cell-3\\\" style=\\\"text-align:right;\\\">30,494</td> <td class=\\\"cell-4\\\" style=\\\"text-align:right;\\\">18,480</td> <td class=\\\"cell-5\\\" style=\\\"text-align:right;\\\">46,730</td> <td class=\\\"cell-6\\\" style=\\\"text-align:right;\\\">2,183,674,219</td> <td class=\\\"cell-7\\\" style=\\\"text-align:right;\\\">3,669</td> <td class=\\\"cell-8\\\" style=\\\"text-align:right;\\\">239,001</td> <td class=\\\"cell-9\\\" style=\\\"text-align:right;\\\">7,926</td> <td class=\\\"cell-10\\\" style=\\\"text-align:right;\\\">26,802</td> <td class=\\\"cell-11\\\" style=\\\"text-align:right;\\\">11.2</td> <td class=\\\"cell-12\\\" style=\\\"text-align:right;\\\">3.4</td> <td class=\\\"cell-13\\\" style=\\\"text-align:right;\\\">-11,698,501</td> <td class=\\\"cell-14\\\" style=\\\"text-align:right;\\\">13,444</td> <td class=\\\"cell-15\\\" style=\\\"text-align:right;\\\">1</td> <td class=\\\"cell-16\\\" style=\\\"text-align:right;\\\">158,670</td></tr>\\n    \\n    \\n    </tbody>\\n\")"
      ]
     },
     "metadata": {},
     "output_type": "display_data"
    },
    {
     "name": "stdout",
     "output_type": "stream",
     "text": [
      "Found Time range 1 and 158670\n"
     ]
    }
   ],
   "source": [
    "setRangeUPT(TV,UP,SP)\n",
    ";"
   ]
  },
  {
   "cell_type": "code",
   "execution_count": 8,
   "metadata": {
    "collapsed": false,
    "input_collapsed": false,
    "scrolled": false
   },
   "outputs": [
    {
     "name": "stdout",
     "output_type": "stream",
     "text": [
      "Size=(19,271) Timer=26467 rl=1 ru=158670\n",
      "executeSingleSession(TV,UP,SP,WellKnownHost,WellKnownPath,26467,\"07c49d94-2cb4-4af8-8115-9a245e3b317e-p032id\",1511797648155) #    Time=26467\n",
      "Size=(19,271) Timer=54787 rl=1 ru=158670\n",
      "executeSingleSession(TV,UP,SP,WellKnownHost,WellKnownPath,54787,\"13038ffc-6bc8-4ddf-8ce9-883b7b43ec4b-p02ezn\",1511767194908) #    Time=54787\n",
      "Size=(16,271) Timer=22555 rl=1 ru=158670\n",
      "executeSingleSession(TV,UP,SP,WellKnownHost,WellKnownPath,22555,\"1a8d59ef-6196-4a9d-a8aa-1b3ec2222a75-p02ovp\",1511779980536) #    Time=22555\n",
      "Size=(15,271) Timer=86309 rl=1 ru=158670\n",
      "executeSingleSession(TV,UP,SP,WellKnownHost,WellKnownPath,86309,\"1f1f41dd-629a-432f-afa0-1cdd6689cf01-p02swo\",1511785309191) #    Time=86309\n",
      "Size=(2,271) Timer=3669 rl=1 ru=158670\n",
      "executeSingleSession(TV,UP,SP,WellKnownHost,WellKnownPath,3669,\"201159c2-930a-4309-9fe2-fbd4409bb2ca-p034zy\",1511800894760) #    Time=3669\n",
      "Size=(21,271) Timer=46771 rl=1 ru=158670\n",
      "executeSingleSession(TV,UP,SP,WellKnownHost,WellKnownPath,46771,\"670ab8dc-9c6d-4ea9-8926-93c4f3fa2295-p02yrg\",1511795446798) #    Time=46771\n",
      "Size=(7,271) Timer=23478 rl=1 ru=158670\n",
      "executeSingleSession(TV,UP,SP,WellKnownHost,WellKnownPath,23478,\"670ab8dc-9c6d-4ea9-8926-93c4f3fa2295-p02yrg\",1511795482373) #    Time=23478\n",
      "Size=(12,271) Timer=14754 rl=1 ru=158670\n",
      "executeSingleSession(TV,UP,SP,WellKnownHost,WellKnownPath,14754,\"79f2f608-3bdc-4c67-95ca-7078ea0f6ff3-p02nc8\",1511777975385) #    Time=14754\n",
      "Size=(14,271) Timer=28630 rl=1 ru=158670\n",
      "executeSingleSession(TV,UP,SP,WellKnownHost,WellKnownPath,28630,\"869001a5-ef45-4aec-85f2-56bcda8c94f6-p030by\",1511794829564) #    Time=28630\n",
      "Size=(13,271) Timer=18480 rl=1 ru=158670\n",
      "executeSingleSession(TV,UP,SP,WellKnownHost,WellKnownPath,18480,\"8df184a7-d46c-43d8-ad26-e324c03673b9-p034ci\",1511800023467) #    Time=18480\n",
      "Size=(12,271) Timer=7358 rl=1 ru=158670\n",
      "executeSingleSession(TV,UP,SP,WellKnownHost,WellKnownPath,7358,\"8e986310-e43b-48a7-ad08-06dcd9853c6e-p02ulj\",1511787374194) #    Time=7358\n",
      "Size=(161,271) Timer=32337 rl=1 ru=158670\n",
      "executeSingleSession(TV,UP,SP,WellKnownHost,WellKnownPath,32337,\"92a0853f-5517-4662-a2ae-5085ae07ca10-p02o0d\",1511778864755) #    Time=32337\n",
      "Size=(14,271) Timer=19859 rl=1 ru=158670\n",
      "executeSingleSession(TV,UP,SP,WellKnownHost,WellKnownPath,19859,\"9b25df22-5f86-438b-9fb7-8f9c174f3cae-p0308m\",1511794700069) #    Time=19859\n",
      "Size=(8,271) Timer=12797 rl=1 ru=158670\n",
      "executeSingleSession(TV,UP,SP,WellKnownHost,WellKnownPath,12797,\"9b25df22-5f86-438b-9fb7-8f9c174f3cae-p0308m\",1511794953022) #    Time=12797\n",
      "Size=(14,271) Timer=15287 rl=1 ru=158670\n",
      "executeSingleSession(TV,UP,SP,WellKnownHost,WellKnownPath,15287,\"b8f582c3-240c-4ce3-8a7f-8308b09c3678-p02fzs\",1511768456740) #    Time=15287\n",
      "Size=(7,271) Timer=8333 rl=1 ru=158670\n",
      "executeSingleSession(TV,UP,SP,WellKnownHost,WellKnownPath,8333,\"b94924ed-64f4-4ead-8d9f-4fe5fbcb2536-p02iq2\",1511771986361) #    Time=8333\n",
      "Size=(10,271) Timer=7519 rl=1 ru=158670\n",
      "executeSingleSession(TV,UP,SP,WellKnownHost,WellKnownPath,7519,\"c887bbe7-bdf9-4083-997f-434ba5d2ac4b-p02pzx\",1511781412471) #    Time=7519\n",
      "Size=(17,271) Timer=164887 rl=1 ru=158670\n",
      "Size=(10,271) Timer=13444 rl=1 ru=158670\n",
      "executeSingleSession(TV,UP,SP,WellKnownHost,WellKnownPath,13444,\"e0155b04-679b-46bb-bc15-bf4ba63f7d08-p02tu7\",1511786396219) #    Time=13444\n",
      "Size=(20,271) Timer=6624 rl=1 ru=158670\n",
      "executeSingleSession(TV,UP,SP,WellKnownHost,WellKnownPath,6624,\"e0155b04-679b-46bb-bc15-bf4ba63f7d08-p02tu7\",1511786416175) #    Time=6624\n",
      "Size=(10,271) Timer=29470 rl=1 ru=158670\n",
      "executeSingleSession(TV,UP,SP,WellKnownHost,WellKnownPath,29470,\"e015f3d9-8fc8-49c7-aeab-aea0f8acf783-p02tim\",1511785995477) #    Time=29470\n",
      "Size=(14,271) Timer=5808 rl=1 ru=158670\n",
      "executeSingleSession(TV,UP,SP,WellKnownHost,WellKnownPath,5808,\"e2167bf6-402c-4a80-9179-c39a88dc8fc2-p030k2\",1511795095961) #    Time=5808\n",
      "Size=(21,271) Timer=4274 rl=1 ru=158670\n",
      "executeSingleSession(TV,UP,SP,WellKnownHost,WellKnownPath,4274,\"e2167bf6-402c-4a80-9179-c39a88dc8fc2-p030k2\",1511795643149) #    Time=4274\n",
      "Size=(12,271) Timer=16694 rl=1 ru=158670\n",
      "executeSingleSession(TV,UP,SP,WellKnownHost,WellKnownPath,16694,\"e5bc1f9a-a3b5-45cc-ae00-c93d75ee81cf-p031bs\",1511796104713) #    Time=16694\n",
      "Size=(25,271) Timer=21637 rl=1 ru=158670\n",
      "executeSingleSession(TV,UP,SP,WellKnownHost,WellKnownPath,21637,\"f4db5cbc-a584-43c5-b7f1-424d42748c87-p02p2e\",1511780221557) #    Time=21637\n",
      "Size=(16,271) Timer=25556 rl=1 ru=158670\n",
      "executeSingleSession(TV,UP,SP,WellKnownHost,WellKnownPath,25556,\"f5c6900f-5cd0-4fa0-8c61-464f0ad6f74c-p02lv5\",1511776075721) #    Time=25556\n",
      "Size=(18,271) Timer=25823 rl=1 ru=158670\n",
      "Size=(17,271) Timer=9047 rl=1 ru=158670\n",
      "Size=(5,271) Timer=4684 rl=1 ru=158670\n"
     ]
    }
   ],
   "source": [
    "showAvailableSessions(TV,UP,SP,localTableDF,localTableRtDF)\n",
    ";"
   ]
  },
  {
   "cell_type": "code",
   "execution_count": 9,
   "metadata": {
    "collapsed": false,
    "input_collapsed": false
   },
   "outputs": [],
   "source": [
    "# Individual pages uses the numbers above make the best tree maps\n",
    "\n",
    "# Test 1 \n",
    "studySession = \"07c49d94-2cb4-4af8-8115-9a245e3b317e-p032id\"\n",
    "studyTime =  1511797648155;\n",
    "\n",
    "# Group pages work but obscure gaps and critical path\n",
    "# Test 2\n",
    "#studySession = \"060212ca-9fdb-4b55-9aa9-b2ff9f6c5032-odv5lh\"\n",
    "#studyTime = 0;\n",
    "\n",
    "# Test 3\n",
    "\n",
    "#studySession = \"None\"\n",
    "#studyTime = 0;"
   ]
  },
  {
   "cell_type": "code",
   "execution_count": 10,
   "metadata": {
    "collapsed": false,
    "input_collapsed": false,
    "scrolled": true
   },
   "outputs": [
    {
     "data": {
      "text/html": [
       "<div class=\"dswbOutputText\"><h1 class=\"chart_title\" style=\"color:#ccc\">mPulse Waterfall Finder</h1><h3 class=\"chart_info\" style=\"color:#ccc\">November 27, 2017 10:47 Local Time</h3><h3 class=\"chart_info\" style=\"color:#ccc\">Use the time range and columns below to find your waterfall graph in mPulse.</h3><h3 class=\"chart_info\" style=\"color:#ccc\">Session ID is 07c49d94-2cb4-4af8-8115-9a245e3b317e-p032id</h3></div>"
      ]
     },
     "metadata": {},
     "output_type": "display_data"
    },
    {
     "data": {
      "text/html": [
       "<table class=\"data-frame\"><tr><th></th><th>Page Group</th><th>Country</th><th>Region</th><th>OS Family</th><th>OS Version</th><th>Device Type</th><th>Browser Family</th><th>Browser Version</th></tr><tr><th>1</th><td>Channel</td><td>US</td><td>FL</td><td>iOS</td><td>11</td><td>Mobile</td><td>Mobile Safari</td><td>11</td></tr></table>"
      ],
      "text/plain": [
       "1x8 DataFrames.DataFrame\n",
       "│ Row │ Page Group │ Country │ Region │ OS Family │ OS Version │ Device Type │\n",
       "┝━━━━━┿━━━━━━━━━━━━┿━━━━━━━━━┿━━━━━━━━┿━━━━━━━━━━━┿━━━━━━━━━━━━┿━━━━━━━━━━━━━┥\n",
       "│ 1   │ \"Channel\"  │ \"US\"    │ \"FL\"   │ \"iOS\"     │ \"11\"       │ \"Mobile\"    │\n",
       "\n",
       "│ Row │ Browser Family  │ Browser Version │\n",
       "┝━━━━━┿━━━━━━━━━━━━━━━━━┿━━━━━━━━━━━━━━━━━┥\n",
       "│ 1   │ \"Mobile Safari\" │ 11              │"
      ]
     },
     "metadata": {},
     "output_type": "display_data"
    }
   ],
   "source": [
    "if studyTime > 0 && SP.reportLevel > 0\n",
    "    waterFallFinder(TV,UP,SP,studySession,studyTime)\n",
    "end"
   ]
  },
  {
   "cell_type": "code",
   "execution_count": 11,
   "metadata": {
    "collapsed": false,
    "input_collapsed": false,
    "scrolled": false
   },
   "outputs": [
    {
     "name": "stdout",
     "output_type": "stream",
     "text": [
      "cell generate toppageurl Exception UndefVarError(:LV)\n"
     ]
    }
   ],
   "source": [
    "toppageurl = findTopPageUrlUPT(TV,UP,SP,studySession,studyTime)\n",
    ";"
   ]
  },
  {
   "cell_type": "code",
   "execution_count": null,
   "metadata": {
    "collapsed": false,
    "input_collapsed": false
   },
   "outputs": [],
   "source": [
    "findTopPageViewUPT(TV,UP,SP)\n",
    ";"
   ]
  },
  {
   "cell_type": "code",
   "execution_count": null,
   "metadata": {
    "collapsed": false,
    "input_collapsed": false
   },
   "outputs": [],
   "source": [
    "removeNegitiveTime(toppageurl,:Total)\n",
    "removeNegitiveTime(toppageurl,:Redirect)\n",
    "removeNegitiveTime(toppageurl,:Blocking)\n",
    "removeNegitiveTime(toppageurl,:DNS)\n",
    "removeNegitiveTime(toppageurl,:TCP)\n",
    "removeNegitiveTime(toppageurl,:Request)\n",
    "removeNegitiveTime(toppageurl,:Response)\n",
    "\n",
    "#display(toppageurl[Bool[x < 0 for x in negDf[:blocking]],:])"
   ]
  },
  {
   "cell_type": "code",
   "execution_count": null,
   "metadata": {
    "collapsed": false,
    "input_collapsed": false,
    "scrolled": true
   },
   "outputs": [],
   "source": [
    "WellKnownHostDirectory = wellKnownHostEncyclopedia(SP.debug);\n",
    "WellKnownPath = wellKnownPathDictionary();\n",
    "scrubUrlToPrint(toppageurl);\n",
    "classifyUrl(toppageurl);"
   ]
  },
  {
   "cell_type": "code",
   "execution_count": null,
   "metadata": {
    "collapsed": false,
    "input_collapsed": false
   },
   "outputs": [],
   "source": [
    "#beautifyDF(toppageurl[:,:])"
   ]
  },
  {
   "cell_type": "code",
   "execution_count": null,
   "metadata": {
    "collapsed": false,
    "input_collapsed": false
   },
   "outputs": [],
   "source": [
    "toppageurl = gapAndCriticalPath(toppageurl);"
   ]
  },
  {
   "cell_type": "code",
   "execution_count": null,
   "metadata": {
    "collapsed": false,
    "input_collapsed": false
   },
   "outputs": [],
   "source": [
    "#beautifyDF(toppageurl[:,:])"
   ]
  },
  {
   "cell_type": "code",
   "execution_count": null,
   "metadata": {
    "collapsed": false,
    "input_collapsed": false,
    "scrolled": false
   },
   "outputs": [],
   "source": [
    "criticalPathTreemapV2(TV,UP,SP,UP.urlFull,toppageurl)"
   ]
  },
  {
   "cell_type": "code",
   "execution_count": null,
   "metadata": {
    "collapsed": false,
    "input_collapsed": false
   },
   "outputs": [],
   "source": [
    "# Gap Graph\n",
    "    \n",
    "toppageurl = names!(toppageurl[:,:],\n",
    "[symbol(\"urlpagegroup\"),symbol(\"Start\"),symbol(\"Total\"),symbol(\"Redirect\"),symbol(\"Blocking\"),symbol(\"DNS\"),\n",
    "    symbol(\"TCP\"),symbol(\"Request\"),symbol(\"Response\"),symbol(\"beacons\"),symbol(\"Critical\"),symbol(\"urlgroup\"),\n",
    "    symbol(\"request_count\"),symbol(\"label\"),symbol(\"load_time\"),symbol(\"beacon_time\")])\n",
    "\n",
    "toppageurl[toppageurl[:,12] .== \"Not Blocking\",1] = \"Critical Path (Not Gap)\"\n",
    "toppageurl[toppageurl[:,12] .== \"Not Blocking\",9] = 0\n",
    "toppageurl[toppageurl[:,12] .== \"Not Blocking\",10] = sum(toppageurl[:,:Critical])\n",
    "\n",
    "treeDf = deepcopy(toppageurl)\n",
    "delete!(treeDf,:Start)\n",
    "delete!(treeDf,:Total)\n",
    "delete!(treeDf,:Redirect)\n",
    "delete!(treeDf,:Blocking)\n",
    "delete!(treeDf,:DNS)\n",
    "delete!(treeDf,:TCP)\n",
    "delete!(treeDf,:Request)\n",
    "delete!(treeDf,:Response)\n",
    "delete!(treeDf,:Critical)\n",
    "delete!(treeDf,:urlgroup)\n",
    "delete!(treeDf,:request_count)\n",
    "delete!(treeDf,:beacon_time)\n",
    "\n",
    "fieldNames = [:urlpagegroup]\n",
    "treeDf[:label] = \"Gap\"\n",
    "drawTree(treeDf; titleCol = :label, fieldNames = fieldNames,resourceColors=true)\n",
    "\n",
    "if SP.reportLevel > 1\n",
    "    currentTime = sum(toppageurl[:,:beacons])\n",
    "    if currentTime > 0\n",
    "        list = deepcopy(toppageurl)\n",
    "\n",
    "        list = names!(list,\n",
    "        [symbol(\"urlpagegroup\"),symbol(\"Start\"),symbol(\"Total\"),symbol(\"Redirect\"),symbol(\"Blocking\"),symbol(\"DNS\"),\n",
    "            symbol(\"TCP\"),symbol(\"Request\"),symbol(\"Response\"),symbol(\"Gap\"),symbol(\"Critical\"),symbol(\"urlgroup\"),\n",
    "            symbol(\"request_count\"),symbol(\"label\"),symbol(\"load_time\"),symbol(\"beacon_time\")])\n",
    "\n",
    "        totalPercentTime = sum(list[:,:Gap]) * 0.010\n",
    "        delete!(list,:label)\n",
    "        delete!(list,:request_count)\n",
    "        delete!(list,:load_time)\n",
    "        delete!(list,:Start)\n",
    "        delete!(list,:Redirect)\n",
    "        delete!(list,:Blocking)\n",
    "        delete!(list,:DNS)\n",
    "        delete!(list,:TCP)\n",
    "        delete!(list,:Request)\n",
    "        delete!(list,:Response)\n",
    "        delete!(list,:Critical)\n",
    "        delete!(list,:beacon_time)\n",
    "\n",
    "        sort!(list,cols=[order(:Gap,rev=true)])\n",
    "        if Bool[ismatch(r\"Not Blocking\",x) for x in list[:urlgroup]][1]\n",
    "            deleterows!(list,1)\n",
    "        end\n",
    "\n",
    "        map!(x->replace(x,\"%\",\"\\%\"),list[:,:urlgroup])\n",
    "        displayTitle(chart_title = \"Top Times By Gap Time (ms)\",showTimeStamp=false)\n",
    "        totalPercentTime = list[1:1,:Gap] * 0.1   \n",
    "        list = list[Bool[x > totalPercentTime[1] for x in list[:Gap]],:]\n",
    "        beautifyDF(names!(list[1:min(15,end),:],\n",
    "            [symbol(\"URL Page Group\"),symbol(\"Total Time\"),symbol(\"Gap Time\"),symbol(\"Url Without Params\")]))   \n",
    "    end\n",
    "end"
   ]
  },
  {
   "cell_type": "code",
   "execution_count": null,
   "metadata": {
    "collapsed": false,
    "input_collapsed": false,
    "scrolled": false
   },
   "outputs": [],
   "source": [
    "# End to End Time Display\n",
    "\n",
    "toppageurl = names!(toppageurl[:,:],\n",
    "[symbol(\"urlpagegroup\"),symbol(\"Start\"),symbol(\"beacons\"),symbol(\"Redirect\"),symbol(\"Blocking\"),symbol(\"DNS\"),\n",
    "    symbol(\"TCP\"),symbol(\"Request\"),symbol(\"Response\"),symbol(\"Gap\"),symbol(\"Critical\"),symbol(\"urlgroup\"),\n",
    "    symbol(\"request_count\"),symbol(\"label\"),symbol(\"load_time\"),symbol(\"beacon_time\")])\n",
    "\n",
    "treeDf = deepcopy(toppageurl)\n",
    "delete!(treeDf,:request_count)\n",
    "delete!(treeDf,:Start)\n",
    "delete!(treeDf,:Gap)\n",
    "delete!(treeDf,:Critical)\n",
    "delete!(treeDf,:Redirect)\n",
    "delete!(treeDf,:Blocking)\n",
    "delete!(treeDf,:DNS)\n",
    "delete!(treeDf,:TCP)\n",
    "delete!(treeDf,:Request)\n",
    "delete!(treeDf,:Response)\n",
    "delete!(treeDf,:urlgroup)\n",
    "delete!(treeDf,:beacon_time)\n",
    "\n",
    "fieldNames = [:urlpagegroup]\n",
    "treeDf[:label] = \"End to End Time\"\n",
    "drawTree(treeDf; titleCol = :label, fieldNames = fieldNames,resourceColors=true)\n",
    "\n",
    "if SP.reportLevel > 1\n",
    "    list = deepcopy(toppageurl)\n",
    "\n",
    "    list = names!(list,[symbol(\"urlpagegroup\"),symbol(\"Start\"),symbol(\"Total\"),symbol(\"Redirect\"),symbol(\"Blocking\"),symbol(\"DNS\"),\n",
    "        symbol(\"TCP\"),symbol(\"Request\"),symbol(\"Response\"),symbol(\"gap\"),symbol(\"critical\"),symbol(\"urlgroup\"),\n",
    "        symbol(\"request_count\"),symbol(\"label\"),symbol(\"load_time\"),symbol(\"beacon_time\")])\n",
    "\n",
    "    totalPercentTime = sum(list[:,:Total]) * 0.10\n",
    "\n",
    "    delete!(list,:label)\n",
    "    delete!(list,:request_count)\n",
    "    delete!(list,:load_time)\n",
    "    delete!(list,:gap)\n",
    "    delete!(list,:critical)\n",
    "    delete!(list,:Start)\n",
    "    delete!(list,:Redirect)\n",
    "    delete!(list,:Blocking)\n",
    "    delete!(list,:DNS)\n",
    "    delete!(list,:TCP)\n",
    "    delete!(list,:Request)\n",
    "    delete!(list,:Response)\n",
    "    delete!(list,:beacon_time)\n",
    "\n",
    "    sort!(list,cols=[order(:Total,rev=true)])\n",
    "\n",
    "    titlestring = \"This includes time which is overlapped.\"\n",
    "    title2string = \"Note: beacons field is used for load time and load_time field is used fractional load time\"\n",
    "    displayTitle(chart_title = \"Total Time (K ms) For All Pages In Sample\", chart_info = [titlestring,title2string,TV.timeString],showTimeStamp=false)\n",
    "\n",
    "    totalPercentTime = list[1:1,:Total] * 0.1  \n",
    "    list = list[Bool[x > totalPercentTime[1] for x in list[:Total]],:]\n",
    "    beautifyDF(names!(list[1:min(15,end),:],\n",
    "        [symbol(\"URL Page Group\"),symbol(\"Total Time\"),symbol(\"Url Without Params\")]))\n",
    "end"
   ]
  },
  {
   "cell_type": "markdown",
   "metadata": {},
   "source": [
    "***\n",
    "## Individual Time Fileds (Redirect, Blocking, DNS, TCP, Request, Response)\n",
    "***"
   ]
  },
  {
   "cell_type": "code",
   "execution_count": null,
   "metadata": {
    "collapsed": false,
    "input_collapsed": false,
    "scrolled": false
   },
   "outputs": [],
   "source": [
    "if (SP.reportLevel > 2)\n",
    "\n",
    "    toppageurl = names!(toppageurl[:,:],\n",
    "    [symbol(\"urlpagegroup\"),symbol(\"Start\"),symbol(\"Total\"),symbol(\"Redirect\"),symbol(\"beacons\"),symbol(\"DNS\"),\n",
    "        symbol(\"TCP\"),symbol(\"Request\"),symbol(\"Response\"),symbol(\"gap\"),symbol(\"critical\"),symbol(\"urlgroup\"),\n",
    "        symbol(\"request_count\"),symbol(\"label\"),symbol(\"load_time\"),symbol(\"beacon_time\")])\n",
    "\n",
    "    totalTime = sum(toppageurl[:,:Total])\n",
    "    currentTime = sum(toppageurl[:,:beacons])\n",
    "    if currentTime > 0\n",
    "        titlestring = \"This includes time which is overlapped but does not include the gaps.\"\n",
    "        title2string = \"Note: beacons field is used for load time\"\n",
    "        displayTitle(chart_title = \"Total Time (K ms) For Page\", chart_info = [titlestring,title2string,TV.timeString],showTimeStamp=false)\n",
    "\n",
    "        missingTime = totalTime - currentTime\n",
    "        toppageurl[toppageurl[:,12] .== \"Not Blocking\",1] = \"Not Blocking\"\n",
    "        toppageurl[toppageurl[:,12] .== \"Not Blocking\",4] = 0\n",
    "        toppageurl[toppageurl[:,12] .== \"Not Blocking\",5] = missingTime\n",
    "        fieldNames = [:urlpagegroup]\n",
    "        toppageurl[:label] = \"Blocking Time\"\n",
    "        drawTree(toppageurl; titleCol = :label, fieldNames = fieldNames,resourceColors=true)   \n",
    "\n",
    "        list = deepcopy(toppageurl)\n",
    "\n",
    "        list = names!(list,\n",
    "        [symbol(\"urlpagegroup\"),symbol(\"Start\"),symbol(\"Total\"),symbol(\"Redirect\"),symbol(\"Blocking\"),symbol(\"DNS\"),\n",
    "            symbol(\"TCP\"),symbol(\"Request\"),symbol(\"Response\"),symbol(\"gap\"),symbol(\"critical\"),symbol(\"urlgroup\"),\n",
    "            symbol(\"request_count\"),symbol(\"label\"),symbol(\"load_time\"),symbol(\"beacon_time\")])\n",
    "\n",
    "        delete!(list,:label)\n",
    "        delete!(list,:request_count)\n",
    "        delete!(list,:load_time)\n",
    "        delete!(list,:gap)\n",
    "        delete!(list,:critical)\n",
    "        delete!(list,:Start)\n",
    "        delete!(list,:Redirect)\n",
    "        delete!(list,:DNS)\n",
    "        delete!(list,:TCP)\n",
    "        delete!(list,:Request)\n",
    "        delete!(list,:Response)\n",
    "        delete!(list,:beacon_time)\n",
    "        \n",
    "        sort!(list,cols=[order(:Blocking,rev=true)]);\n",
    "        if Bool[ismatch(r\"Not Blocking\",x) for x in list[:urlgroup]][1]\n",
    "            deleterows!(list,1)\n",
    "        end;\n",
    "\n",
    "        map!(x->replace(x,\"%\",\"\\%\"),list[:,:urlgroup])\n",
    "        totalPercentTime = list[1:1,:Blocking] * 0.1\n",
    "        list = list[Bool[x > totalPercentTime[1] for x in list[:Blocking]],:]\n",
    "        beautifyDF(names!(list[1:min(15,end),:],\n",
    "            [symbol(\"URL Page Group\"),symbol(\"Total Time\"),symbol(\"Blocking Time\"),symbol(\"Url Without Params\")]))\n",
    "    else\n",
    "        println(\"No Blocking time.  Output nothing in report\")\n",
    "    end\n",
    "end"
   ]
  },
  {
   "cell_type": "code",
   "execution_count": null,
   "metadata": {
    "collapsed": false,
    "input_collapsed": false,
    "scrolled": false
   },
   "outputs": [],
   "source": [
    "if (SP.reportLevel > 2)\n",
    "\n",
    "    toppageurl = names!(toppageurl[:,:],\n",
    "    [symbol(\"urlpagegroup\"),symbol(\"Start\"),symbol(\"Total\"),symbol(\"Redirect\"),symbol(\"Blocking\"),symbol(\"DNS\"),\n",
    "        symbol(\"TCP\"),symbol(\"beacons\"),symbol(\"Response\"),symbol(\"gap\"),symbol(\"critical\"),symbol(\"urlgroup\"),\n",
    "        symbol(\"request_count\"),symbol(\"label\"),symbol(\"load_time\"),symbol(\"beacon_time\")])\n",
    "\n",
    "    totalTime = sum(toppageurl[:,:Total])\n",
    "    currentTime = sum(toppageurl[:,:beacons])\n",
    "    if currentTime > 0\n",
    "        titlestring = \"This includes time which is overlapped but does not include the gaps.\"\n",
    "        title2string = \"Note: beacons field is used for load time\"\n",
    "        displayTitle(chart_title = \"Total Time (K ms) For Single Page\", chart_info = [titlestring,title2string,TV.timeString],showTimeStamp=false)\n",
    "\n",
    "        missingTime = totalTime - currentTime\n",
    "        toppageurl[toppageurl[:,12] .== \"Not Blocking\",1] = \"Not Request Time\"\n",
    "        toppageurl[toppageurl[:,12] .== \"Not Blocking\",7] = 0\n",
    "        toppageurl[toppageurl[:,12] .== \"Not Blocking\",8] = missingTime\n",
    "        fieldNames = [:urlpagegroup]\n",
    "        toppageurl[:label] = \"Request Time\"\n",
    "        drawTree(toppageurl; titleCol = :label, fieldNames = fieldNames,resourceColors=true)\n",
    "\n",
    "        list = deepcopy(toppageurl)\n",
    "\n",
    "        list = names!(list,\n",
    "        [symbol(\"urlpagegroup\"),symbol(\"Start\"),symbol(\"Total\"),symbol(\"Redirect\"),symbol(\"Blocking\"),symbol(\"DNS\"),\n",
    "            symbol(\"TCP\"),symbol(\"Request\"),symbol(\"Response\"),symbol(\"gap\"),symbol(\"critical\"),symbol(\"urlgroup\"),\n",
    "            symbol(\"request_count\"),symbol(\"label\"),symbol(\"load_time\"),symbol(\"beacon_time\")])\n",
    "\n",
    "        totalPercentTime = sum(list[:,:Request]) * 0.01\n",
    "        delete!(list,:label)\n",
    "        delete!(list,:request_count)\n",
    "        delete!(list,:load_time)\n",
    "        delete!(list,:gap)\n",
    "        delete!(list,:critical)\n",
    "        delete!(list,:Start)\n",
    "        delete!(list,:Redirect)\n",
    "        delete!(list,:Blocking)\n",
    "        delete!(list,:DNS)\n",
    "        delete!(list,:TCP)\n",
    "        delete!(list,:Response)\n",
    "        delete!(list,:beacon_time)\n",
    "\n",
    "        sort!(list,cols=[order(:Request,rev=true)])\n",
    "        if Bool[ismatch(r\"Not Blocking\",x) for x in list[:urlgroup]][1]    \n",
    "            deleterows!(list,1)\n",
    "        end\n",
    "\n",
    "        map!(x->replace(x,\"%\",\"\\%\"),list[:,:urlgroup])\n",
    "        totalPercentTime = list[1:1,:Request] * 0.1\n",
    "        list = list[Bool[x > totalPercentTime[1] for x in list[:Request]],:]\n",
    "        beautifyDF(names!(list[1:min(15,end),:],\n",
    "            [symbol(\"URL Page Group\"),symbol(\"Total Time\"),symbol(\"Request Time\"),symbol(\"Url Without Params\")]))\n",
    "    else\n",
    "        println(\"No Request time.  Output nothing in report\")\n",
    "    end\n",
    "end"
   ]
  },
  {
   "cell_type": "code",
   "execution_count": null,
   "metadata": {
    "collapsed": false,
    "input_collapsed": false,
    "scrolled": false
   },
   "outputs": [],
   "source": [
    "if (SP.reportLevel > 2)\n",
    "    toppageurl = names!(toppageurl[:,:],\n",
    "    [symbol(\"urlpagegroup\"),symbol(\"Start\"),symbol(\"Total\"),symbol(\"Redirect\"),symbol(\"Blocking\"),symbol(\"DNS\"),\n",
    "        symbol(\"TCP\"),symbol(\"Request\"),symbol(\"beacons\"),symbol(\"gap\"),symbol(\"critical\"),symbol(\"urlgroup\"),\n",
    "        symbol(\"request_count\"),symbol(\"label\"),symbol(\"load_time\"),symbol(\"beacon_time\")])\n",
    "\n",
    "    totalTime = sum(toppageurl[:,:Total])\n",
    "    currentTime = sum(toppageurl[:,:beacons])\n",
    "    if currentTime > 0\n",
    "        titlestring = \"This includes time which is overlapped but does not include the gaps.\"\n",
    "        title2string = \"Note: beacons field is used for load time\"\n",
    "        displayTitle(chart_title = \"Total Time (K ms) For Single Page\", chart_info = [titlestring,title2string,TV.timeString],showTimeStamp=false)\n",
    "\n",
    "        missingTime = totalTime - currentTime\n",
    "        toppageurl[toppageurl[:,12] .== \"Not Blocking\",1] = \"Not Response Time\"\n",
    "        toppageurl[toppageurl[:,12] .== \"Not Blocking\",8] = 0\n",
    "        toppageurl[toppageurl[:,12] .== \"Not Blocking\",9] = missingTime\n",
    "        #display(toppageurl[toppageurl[:,12] .== \"Not Blocking\",:])\n",
    "        fieldNames = [:urlpagegroup]\n",
    "        toppageurl[:label] = \"Response Time\"\n",
    "        drawTree(toppageurl; titleCol = :label, fieldNames = fieldNames,resourceColors=true)\n",
    "        \n",
    "\n",
    "        list = deepcopy(toppageurl)\n",
    "\n",
    "        list = names!(list,\n",
    "        [symbol(\"urlpagegroup\"),symbol(\"Start\"),symbol(\"Total\"),symbol(\"Redirect\"),symbol(\"Blocking\"),symbol(\"DNS\"),\n",
    "            symbol(\"TCP\"),symbol(\"Request\"),symbol(\"Response\"),symbol(\"gap\"),symbol(\"critical\"),symbol(\"urlgroup\"),\n",
    "            symbol(\"request_count\"),symbol(\"label\"),symbol(\"load_time\"),symbol(\"beacon_time\")])\n",
    "\n",
    "        totalPercentTime = sum(list[:,:Response]) * 0.01\n",
    "        delete!(list,:label)\n",
    "        delete!(list,:request_count)\n",
    "        delete!(list,:load_time)\n",
    "        delete!(list,:gap)\n",
    "        delete!(list,:critical)\n",
    "        delete!(list,:Start)\n",
    "        delete!(list,:Redirect)\n",
    "        delete!(list,:Blocking)\n",
    "        delete!(list,:DNS)\n",
    "        delete!(list,:TCP)\n",
    "        delete!(list,:Request)\n",
    "        delete!(list,:beacon_time)\n",
    "\n",
    "        sort!(list,cols=[order(:Response,rev=true)])\n",
    "        if Bool[ismatch(r\"Not Blocking\",x) for x in list[:urlgroup]][1]\n",
    "            deleterows!(list,1)\n",
    "        end\n",
    "\n",
    "        totalPercentTime = list[1:1,:Response] * 0.1   \n",
    "        list = list[Bool[x > totalPercentTime[1] for x in list[:Response]],:]\n",
    "        beautifyDF(names!(list[1:min(15,end),:],\n",
    "            [symbol(\"URL Page Group\"),symbol(\"Total Time\"),symbol(\"Response Time\"),symbol(\"Url Without Params\")]))\n",
    "    else\n",
    "        println(\"No Response time.  Output nothing in report\")\n",
    "    end\n",
    "end"
   ]
  },
  {
   "cell_type": "code",
   "execution_count": null,
   "metadata": {
    "collapsed": true,
    "input_collapsed": true
   },
   "outputs": [],
   "source": []
  },
  {
   "cell_type": "code",
   "execution_count": null,
   "metadata": {
    "collapsed": false,
    "input_collapsed": false,
    "scrolled": false
   },
   "outputs": [],
   "source": [
    "if (SP.reportLevel > 2)\n",
    "\n",
    "    toppageurl = names!(toppageurl[:,:],\n",
    "    [symbol(\"urlpagegroup\"),symbol(\"Start\"),symbol(\"Total\"),symbol(\"Redirect\"),symbol(\"Blocking\"),symbol(\"beacons\"),\n",
    "        symbol(\"TCP\"),symbol(\"Request\"),symbol(\"Response\"),symbol(\"gap\"),symbol(\"critical\"),symbol(\"urlgroup\"),\n",
    "        symbol(\"request_count\"),symbol(\"label\"),symbol(\"load_time\"),symbol(\"beacon_time\")])\n",
    "\n",
    "    currentTime = sum(toppageurl[:,:beacons])\n",
    "    if currentTime > 0\n",
    "        totalTime = sum(toppageurl[:,:Total])\n",
    "        titlestring = \"This includes time which is overlapped but does not include the gaps.\"\n",
    "        title2string = \"Note: beacons field is used for load time and load_time field is used for count of requests\"\n",
    "        displayTitle(chart_title = \"Total Time (K ms) For Single Page\", chart_info = [titlestring,title2string,TV.timeString],showTimeStamp=false)\n",
    "\n",
    "        missingTime = totalTime - currentTime\n",
    "        toppageurl[toppageurl[:,12] .== \"Not Blocking\",1] = \"Not DNS\"\n",
    "        toppageurl[toppageurl[:,12] .== \"Not Blocking\",5] = 0\n",
    "        toppageurl[toppageurl[:,12] .== \"Not Blocking\",6] = missingTime\n",
    "        fieldNames = [:urlpagegroup]\n",
    "        toppageurl[:label] = \"DNS Time\"\n",
    "        drawTree(toppageurl; titleCol = :label, fieldNames = fieldNames,resourceColors=true)\n",
    "\n",
    "        list = deepcopy(toppageurl)\n",
    "\n",
    "        list = names!(list,\n",
    "        [symbol(\"urlpagegroup\"),symbol(\"Start\"),symbol(\"Total\"),symbol(\"Redirect\"),symbol(\"Blocking\"),symbol(\"DNS\"),\n",
    "            symbol(\"TCP\"),symbol(\"Request\"),symbol(\"Response\"),symbol(\"gap\"),symbol(\"critical\"),symbol(\"urlgroup\"),\n",
    "            symbol(\"request_count\"),symbol(\"label\"),symbol(\"load_time\"),symbol(\"beacon_time\")])\n",
    "\n",
    "        totalPercentTime = sum(list[:,:Total]) * 0.01\n",
    "        delete!(list,:label)\n",
    "        delete!(list,:request_count)\n",
    "        delete!(list,:load_time)\n",
    "        delete!(list,:gap)\n",
    "        delete!(list,:critical)\n",
    "        delete!(list,:Start)\n",
    "        delete!(list,:Redirect)\n",
    "        delete!(list,:Blocking)\n",
    "        delete!(list,:TCP)\n",
    "        delete!(list,:Request)\n",
    "        delete!(list,:Response)\n",
    "        delete!(list,:beacon_time)\n",
    "\n",
    "        sort!(list,cols=[order(:DNS,rev=true)])\n",
    "        if Bool[ismatch(r\"Not Blocking\",x) for x in list[:urlgroup]][1]\n",
    "            deleterows!(list,1)\n",
    "        end\n",
    "\n",
    "        map!(x->replace(x,\"%\",\"\\%\"),list[:,:urlgroup])\n",
    "        totalPercentTime = list[1:1,:DNS] * 0.1   \n",
    "        list = list[Bool[x > totalPercentTime[1] for x in list[:DNS]],:]\n",
    "        beautifyDF(names!(list[1:min(15,end),:],\n",
    "            [symbol(\"URL Page Group\"),symbol(\"Total Time\"),symbol(\"DNS Time\"),symbol(\"Url Without Params\")]))\n",
    "    else\n",
    "        println(\"No DNS time.  Output nothing in report\")\n",
    "    end\n",
    "end"
   ]
  },
  {
   "cell_type": "code",
   "execution_count": null,
   "metadata": {
    "collapsed": false,
    "input_collapsed": false,
    "scrolled": false
   },
   "outputs": [],
   "source": [
    "if (SP.reportLevel > 2)\n",
    "    toppageurl = names!(toppageurl[:,:],\n",
    "    [symbol(\"urlpagegroup\"),symbol(\"Start\"),symbol(\"Total\"),symbol(\"Redirect\"),symbol(\"Blocking\"),symbol(\"DNS\"),\n",
    "        symbol(\"beacons\"),symbol(\"Request\"),symbol(\"Response\"),symbol(\"gap\"),symbol(\"critical\"),symbol(\"urlgroup\"),\n",
    "        symbol(\"request_count\"),symbol(\"label\"),symbol(\"load_time\"),symbol(\"beacon_time\")])\n",
    "\n",
    "    totalTime = sum(toppageurl[:,:Total])\n",
    "    currentTime = sum(toppageurl[:,:beacons])\n",
    "    if currentTime > 0\n",
    "        titlestring = \"This includes time which is overlapped but does not include the gaps.\"\n",
    "        title2string = \"Note: beacons field is used for load time\"\n",
    "        displayTitle(chart_title = \"Total Time (K ms) For Single Page\", chart_info = [titlestring,title2string,TV.timeString],showTimeStamp=false)\n",
    "\n",
    "        missingTime = totalTime - currentTime\n",
    "        toppageurl[toppageurl[:,12] .== \"Not Blocking\",1] = \"Not TCP\"\n",
    "        toppageurl[toppageurl[:,12] .== \"Not Blocking\",6] = 0\n",
    "        toppageurl[toppageurl[:,12] .== \"Not Blocking\",7] = missingTime\n",
    "        fieldNames = [:urlpagegroup]\n",
    "        toppageurl[:label] = \"TCP Time\"\n",
    "        drawTree(toppageurl; titleCol = :label, fieldNames = fieldNames,resourceColors=true)\n",
    "\n",
    "        list = deepcopy(toppageurl)\n",
    "\n",
    "        list = names!(list,\n",
    "        [symbol(\"urlpagegroup\"),symbol(\"Start\"),symbol(\"Total\"),symbol(\"Redirect\"),symbol(\"Blocking\"),symbol(\"DNS\"),\n",
    "            symbol(\"TCP\"),symbol(\"Request\"),symbol(\"Response\"),symbol(\"gap\"),symbol(\"critical\"),symbol(\"urlgroup\"),\n",
    "            symbol(\"request_count\"),symbol(\"label\"),symbol(\"load_time\"),symbol(\"beacon_time\")])\n",
    "\n",
    "        totalPercentTime = sum(list[:,:TCP]) * 0.10\n",
    "        delete!(list,:label)\n",
    "        delete!(list,:request_count)\n",
    "        delete!(list,:load_time)\n",
    "        delete!(list,:gap)\n",
    "        delete!(list,:critical)\n",
    "        delete!(list,:Start)\n",
    "        delete!(list,:Redirect)\n",
    "        delete!(list,:Blocking)\n",
    "        delete!(list,:DNS)\n",
    "        delete!(list,:Request)\n",
    "        delete!(list,:Response)    \n",
    "        delete!(list,:beacon_time)\n",
    "\n",
    "        sort!(list,cols=[order(:TCP,rev=true)])\n",
    "        if Bool[ismatch(r\"Not Blocking\",x) for x in list[:urlgroup]][1]\n",
    "            deleterows!(list,1)\n",
    "        end\n",
    "\n",
    "        map!(x->replace(x,\"%\",\"\\%\"),list[:,:urlgroup])\n",
    "        totalPercentTime = list[1:1,:TCP] * 0.1   \n",
    "        list = list[Bool[x > totalPercentTime[1] for x in list[:TCP]],:]\n",
    "        beautifyDF(names!(list[1:min(15,end),:],\n",
    "            [symbol(\"URL Page Group\"),symbol(\"Total Time\"),symbol(\"TCP Time\"),symbol(\"Url Without Params\")]))\n",
    "    else\n",
    "        println(\"No TCP time.  Output nothing in report\")\n",
    "    end\n",
    "end"
   ]
  },
  {
   "cell_type": "code",
   "execution_count": null,
   "metadata": {
    "collapsed": false,
    "input_collapsed": false,
    "scrolled": false
   },
   "outputs": [],
   "source": [
    "if (SP.reportLevel > 2)\n",
    "\n",
    "    toppageurl = names!(toppageurl[:,:],\n",
    "    [symbol(\"urlpagegroup\"),symbol(\"Start\"),symbol(\"Total\"),symbol(\"beacons\"),symbol(\"Blocking\"),symbol(\"DNS\"),\n",
    "        symbol(\"TCP\"),symbol(\"Request\"),symbol(\"Response\"),symbol(\"gap\"),symbol(\"critical\"),symbol(\"urlgroup\"),\n",
    "        symbol(\"request_count\"),symbol(\"label\"),symbol(\"load_time\"),symbol(\"beacon_time\")])\n",
    "\n",
    "    totalTime = sum(toppageurl[:,:Total])\n",
    "    currentTime = sum(toppageurl[:,:beacons])\n",
    "\n",
    "    if currentTime > 0\n",
    "        missingTime = totalTime - currentTime\n",
    "        toppageurl[toppageurl[:,12] .== \"Not Blocking\",1] = \"Not Redirecting\"\n",
    "        toppageurl[toppageurl[:,12] .== \"Not Blocking\",3] = 0\n",
    "        toppageurl[toppageurl[:,12] .== \"Not Blocking\",4] = missingTime\n",
    "        fieldNames = [:urlpagegroup]\n",
    "        toppageurl[:label] = \"Redirect Time\"\n",
    "        drawTree(toppageurl; titleCol = :label, fieldNames = fieldNames,resourceColors=true)\n",
    "\n",
    "        list = deepcopy(toppageurl)\n",
    "\n",
    "        list = names!(list,\n",
    "        [symbol(\"urlpagegroup\"),symbol(\"Start\"),symbol(\"Total\"),symbol(\"Redirect\"),symbol(\"Blocking\"),symbol(\"DNS\"),\n",
    "            symbol(\"TCP\"),symbol(\"Request\"),symbol(\"Response\"),symbol(\"gap\"),symbol(\"critical\"),symbol(\"urlgroup\"),\n",
    "            symbol(\"request_count\"),symbol(\"label\"),symbol(\"load_time\"),symbol(\"beacon_time\")])\n",
    "\n",
    "        delete!(list,:label)\n",
    "        delete!(list,:request_count)\n",
    "        delete!(list,:load_time)\n",
    "        delete!(list,:gap)\n",
    "        delete!(list,:critical)\n",
    "        delete!(list,:Start)\n",
    "        delete!(list,:Blocking)\n",
    "        delete!(list,:DNS)\n",
    "        delete!(list,:TCP)\n",
    "        delete!(list,:Request)\n",
    "        delete!(list,:Response)\n",
    "        delete!(list,:beacon_time)      \n",
    "\n",
    "        sort!(list,cols=[order(:Redirect,rev=true)]);\n",
    "        if Bool[ismatch(r\"Not Blocking\",x) for x in list[:urlgroup]][1]\n",
    "            deleterows!(list,1)\n",
    "        end\n",
    "\n",
    "        totalPercentTime = sum(list[:,:Redirect]) * 0.01\n",
    "        displayTitle(chart_title = \"Top Times (ms)\",showTimeStamp=false)\n",
    "\n",
    "        map!(x->replace(x,\"%\",\"\\%\"),list[:,:urlgroup])\n",
    "        totalPercentTime = list[1:1,:Redirect] * 0.1   \n",
    "        list = list[Bool[x > totalPercentTime[1] for x in list[:Redirect]],:]\n",
    "        beautifyDF(names!(list[1:min(15,end),:],\n",
    "            [symbol(\"URL Page Group\"),symbol(\"Total Time\"),symbol(\"Redirect Time\"),symbol(\"Url Without Params\")]))\n",
    "    else\n",
    "        println(\"No redirect time.  Output nothing in report\")\n",
    "    end\n",
    "end"
   ]
  },
  {
   "cell_type": "code",
   "execution_count": null,
   "metadata": {
    "collapsed": false,
    "input_collapsed": false,
    "scrolled": false
   },
   "outputs": [],
   "source": []
  },
  {
   "cell_type": "markdown",
   "metadata": {
    "collapsed": true,
    "input_collapsed": true
   },
   "source": [
    "***\n",
    "## Group By Host and Ungrouped Non-Production Reports (Needs to be converted to not use views.)\n",
    "***"
   ]
  },
  {
   "cell_type": "code",
   "execution_count": null,
   "metadata": {
    "collapsed": false,
    "input_collapsed": false,
    "scrolled": false
   },
   "outputs": [],
   "source": [
    "if (SP.reportLevel > 11)\n",
    "    if studyTime > 0\n",
    "        topurl = query(\"\"\"\\\n",
    "        select substring(url for position('/' in substring(url from 9)) +7) urlgroup,\n",
    "        avg(CASE WHEN (response_last_byte = 0) THEN (0) ELSE (response_last_byte-start_time) END) as load_time,\n",
    "        avg(CASE WHEN (response_last_byte = 0) THEN (0) ELSE (response_last_byte-start_time) END) as beacons,\n",
    "        count(*) as request_count\n",
    "        FROM $(tableRt)\n",
    "        where session_id = '$(studySession)' and \"timestamp\" = '$(studyTime)'\n",
    "        group by urlgroup\n",
    "        \"\"\");\n",
    "    elseif (studySession != \"None\")\n",
    "        topurl = query(\"\"\"\\\n",
    "        select substring(url for position('/' in substring(url from 9)) +7) urlgroup,\n",
    "        avg(CASE WHEN (response_last_byte = 0) THEN (0) ELSE (response_last_byte-start_time) END) as load_time,\n",
    "        avg(CASE WHEN (response_last_byte = 0) THEN (0) ELSE (response_last_byte-start_time) END) as beacons,\n",
    "        count(*) as request_count\n",
    "        FROM $(localTableRt)\n",
    "        where session_id = '$(studySession)'\n",
    "        group by urlgroup\n",
    "        \"\"\");\n",
    "    else\n",
    "        topurl = query(\"\"\"\\\n",
    "        select substring(url for position('/' in substring(url from 9)) +7) urlgroup,\n",
    "        avg(CASE WHEN (response_last_byte = 0) THEN (0) ELSE (response_last_byte-start_time) END) as load_time,\n",
    "        avg(CASE WHEN (response_last_byte = 0) THEN (0) ELSE (response_last_byte-start_time) END) as beacons,\n",
    "        count(*) as request_count\n",
    "        FROM $(localTableRt)\n",
    "        group by urlgroup\n",
    "        \"\"\");    \n",
    "    end\n",
    "\n",
    "    #displayTitle(chart_title = \"Top URL Page Views for $(productPageGroup)\", chart_info = [timeString],showTimeStamp=false)\n",
    "    #topurl = names!(topurl[:,:],[symbol(\"beacons\"),symbol(\"urlgroup\"),symbol(\"load_time\"),symbol(\"start_time\"),symbol(\"redirect\"),symbol(\"blocking\"),symbol(\"dns\"),symbol(\"tcp\"),symbol(\"request\"),symbol(\"response\")])\n",
    "    topurl = names!(topurl[:,:],[symbol(\"urlgroup\"),symbol(\"load_time_int\"),symbol(\"beacons\"),symbol(\"request_count\")]);\n",
    "\n",
    "    # Note: this cell turns the :urlgroup from a URL to a string.  Run cell above each time before this cell\n",
    "\n",
    "    topurl[:load_time] = 0.0\n",
    "    i = 0\n",
    "    for url in topurl[:,:urlgroup]\n",
    "        i += 1\n",
    "        #@show url\n",
    "        uri = URI(url) \n",
    "        #@show uri,uri.path,uri.scheme,uri.host\n",
    "        #println(\"\")\n",
    "\n",
    "        topurl[i:i,:urlgroup] = uri.host\n",
    "        topurl[i:i,:load_time] = (topurl[i:i,:load_time_int]) / 1000.0\n",
    "\n",
    "    end\n",
    "\n",
    "    titlestring = \"This includes time which is overlapped but does not include the gaps.\"\n",
    "    title2string = \"Note: beacons field is used for load time and load_time field is used for count of requests\"\n",
    "    displayTitle(chart_title = \"Total Time (K ms) For Single Page\", chart_info = [titlestring,title2string,TV.timeString],showTimeStamp=false)\n",
    "\n",
    "    fieldNames = [:urlgroup]\n",
    "    topurl[:x1] = \"Grouped By Host\"\n",
    "    drawTree(topurl; titleCol = :x1, fieldNames = fieldNames,resourceColors=true)\n",
    "end"
   ]
  },
  {
   "cell_type": "code",
   "execution_count": null,
   "metadata": {
    "collapsed": true,
    "input_collapsed": true
   },
   "outputs": [],
   "source": []
  },
  {
   "cell_type": "code",
   "execution_count": null,
   "metadata": {
    "collapsed": false,
    "input_collapsed": false,
    "scrolled": false
   },
   "outputs": [],
   "source": [
    "if (reportLevel > 11)\n",
    "    if (studyTime > 0)\n",
    "        topdetailurl = query(\"\"\"\\\n",
    "        select\n",
    "        CASE WHEN (position('?' in url) > 0) then trim('/' from (substring(url for position('?' in substring(url from 9)) +7))) else trim('/' from url) end as urlgroup,\n",
    "        CASE WHEN (response_last_byte = 0) THEN (0) ELSE (response_last_byte-start_time) END as load_time,\n",
    "        CASE WHEN (response_last_byte = 0) THEN (0) ELSE (response_last_byte-start_time) END as beacons,\n",
    "        1 as request_count\n",
    "        FROM $(tableRt) where session_id = '$(studySession)' and \"timestamp\" = '$(studyTime)'\n",
    "        \"\"\");\n",
    "    elseif (studySession != \"None\")\n",
    "        topdetailurl = query(\"\"\"\\\n",
    "        select\n",
    "        CASE WHEN (position('?' in url) > 0) then trim('/' from (substring(url for position('?' in substring(url from 9)) +7))) else trim('/' from url) end as urlgroup,\n",
    "        avg(CASE WHEN (response_last_byte = 0) THEN (0) ELSE (response_last_byte-start_time) END) as load_time,\n",
    "        avg(CASE WHEN (response_last_byte = 0) THEN (0) ELSE (response_last_byte-start_time) END) as beacons,\n",
    "        count(*) as request_count\n",
    "        FROM $(localTableRt) where session_id = '$(studySession)'\n",
    "        group by urlgroup\n",
    "        \"\"\");\n",
    "    else\n",
    "        topdetailurl = query(\"\"\"\\\n",
    "        select\n",
    "        CASE WHEN (position('?' in url) > 0) then trim('/' from (substring(url for position('?' in substring(url from 9)) +7))) else trim('/' from url) end as urlgroup,\n",
    "        avg(CASE WHEN (response_last_byte = 0) THEN (0) ELSE (response_last_byte-start_time) END) as load_time,\n",
    "        avg(CASE WHEN (response_last_byte = 0) THEN (0) ELSE (response_last_byte-start_time) END) as beacons,\n",
    "        count(*) as request_count\n",
    "        FROM $(localTableRt)\n",
    "        group by urlgroup\n",
    "        \"\"\");   \n",
    "    end\n",
    "\n",
    "    #topdetailurl = names!(topurl[:,:],[symbol(\"beacons\"),symbol(\"urlgroup\"),symbol(\"load_time\"),symbol(\"start_time\"),symbol(\"redirect\"),symbol(\"blocking\"),symbol(\"dns\"),symbol(\"tcp\"),symbol(\"request\"),symbol(\"response\")])\n",
    "    topdetailurl = names!(topdetailurl[:,:],[symbol(\"urlgroup\"),symbol(\"load_time_int\"),symbol(\"beacons\"),symbol(\"request_count\")]);\n",
    "\n",
    "    # Note: this cell turns the :urlgroup from a URL to a string.  Run cell above each time before this cell\n",
    "\n",
    "    topdetailurl[:load_time] = 0.0\n",
    "\n",
    "    i = 0\n",
    "    for url in topdetailurl[:,:urlgroup]\n",
    "        i += 1\n",
    "        #@show url\n",
    "        uri = URI(url)\n",
    "        newuristring = uri.host * uri.path\n",
    "        #println(\"$(newuristring)\")\n",
    "        topdetailurl[i:i,:urlgroup] = newuristring\n",
    "        topdetailurl[i:i,:load_time] = (topdetailurl[i:i,:load_time_int]) / 1000.0\n",
    "    end\n",
    "\n",
    "    treeDf = deepcopy(topdetailurl)\n",
    "    delete!(treeDf,:load_time_int)\n",
    "    delete!(treeDf,:request_count)\n",
    "    #display(treeDf[1:10,:])\n",
    "\n",
    "    titlestring = \"This includes time which is overlapped but does not include the gaps.\"\n",
    "    title2string = \"Note: beacons field is used for load time and load_time field is used for count of requests\"\n",
    "    displayTitle(chart_title = \"Total Time (K ms) For Single Page\", chart_info = [titlestring,title2string,TV.timeString],showTimeStamp=false)\n",
    "\n",
    "    fieldNames = [:urlgroup]\n",
    "    treeDf[:label] = \"All URLs\"\n",
    "    drawTree(treeDf; titleCol = :label, fieldNames = fieldNames,resourceColors=true)\n",
    "    \n",
    "end"
   ]
  },
  {
   "cell_type": "code",
   "execution_count": null,
   "metadata": {
    "collapsed": true,
    "input_collapsed": false
   },
   "outputs": [],
   "source": [
    "q = query(\"\"\" drop view if exists $(UP.btView);\"\"\")\n",
    "q = query(\"\"\" drop view if exists $(UP.rtView);\"\"\")\n",
    ";"
   ]
  }
 ],
 "metadata": {
  "chart_version": "1.0.0",
  "kernelspec": {
   "display_name": "Julia 0.4.7",
   "language": "julia",
   "name": "julia-0.4"
  },
  "language_info": {
   "file_extension": ".jl",
   "mimetype": "application/julia",
   "name": "julia",
   "version": "0.4.7"
  },
  "library_version": "1.0.0",
  "notebook_uuid": "b5a381e7-be41-4bd6-a5bb-95015cb3d535",
  "readOnly": false
 },
 "nbformat": 4,
 "nbformat_minor": 0
}
