{
 "cells": [
  {
   "cell_type": "markdown",
   "metadata": {},
   "source": [
    "## Tables and Data Source setup"
   ]
  },
  {
   "cell_type": "code",
   "execution_count": 1,
   "metadata": {
    "collapsed": false,
    "input_collapsed": false,
    "scrolled": true
   },
   "outputs": [
    {
     "name": "stdout",
     "output_type": "stream",
     "text": [
      "Redshift endpoint set: 2017-11-29T15:28:26\n"
     ]
    }
   ],
   "source": [
    "using ODBC\n",
    "using DataFrames\n",
    "using DSWB\n",
    "using Formatting\n",
    "\n",
    "dsn = \"dswb-natgeo\" # Redshift esetTable(tableRt, tableType = \"RESOURCE_TABLE\")ndpoint\n",
    "table = \"beacons_4744\" # beacon table name\n",
    "tableRt = \"beacons_4744_rt\"\n",
    "\n",
    "# Connect to Beacon Data\n",
    "setRedshiftEndpoint(dsn)\n",
    "setTable(table)\n",
    "setTable(tableRt, tableType = \"RESOURCE_TABLE\")\n",
    ";"
   ]
  },
  {
   "cell_type": "code",
   "execution_count": 2,
   "metadata": {
    "collapsed": false,
    "input_collapsed": false
   },
   "outputs": [],
   "source": [
    "include(\"../../Lib/Include-Package-v2.1.jl\")\n",
    ";"
   ]
  },
  {
   "cell_type": "code",
   "execution_count": 3,
   "metadata": {
    "collapsed": false,
    "input_collapsed": false
   },
   "outputs": [
    {
     "name": "stdout",
     "output_type": "stream",
     "text": [
      "November 28, 2017 06:59:00 to November 28, 2017 16:59:00 Local Time\n",
      "November 28, 2017 11:59:00 to November 28, 2017 21:59:00 UTC Time\n"
     ]
    }
   ],
   "source": [
    "#TV = timeVariables(2017,6,14,6,0,2017,6,15,0,5)\n",
    "#TV = weeklyTimeVariables(days=1)\n",
    "TV = yesterdayTimeVariables()\n",
    ";"
   ]
  },
  {
   "cell_type": "code",
   "execution_count": 4,
   "metadata": {
    "collapsed": false,
    "input_collapsed": false,
    "scrolled": true
   },
   "outputs": [],
   "source": [
    "UP = UrlParamsInit()\n",
    "UP.agentOs = \"%\"\n",
    "UP.btView = \"$(table)_URL_Details_view_prod\" #localtable\n",
    "UP.deviceType = \"Mobile\"\n",
    "UP.limitRows = 250\n",
    "UP.orderBy = \"time\"\n",
    "UP.pageGroup = \"Channel\"   #productPageGroup\n",
    "UP.rtView = \"$(tableRt)_URL_Details_view_prod\" #localtableRt\n",
    "UP.samplesMin = 10\n",
    "UP.sizeMin = 10000\n",
    "UP.timeLowerMs = 2000.0\n",
    "UP.timeUpperMs = 600000.0\n",
    "UP.urlRegEx = \"%channel.nationalgeographic.com/genius%\"   #localUrl\n",
    "UP.urlFull = \"http://channel.nationalgeographic.com/genius/\"\n",
    "UP.usePageLoad=false\n",
    "UrlParamsValidate(UP)\n",
    "\n",
    "SP = ShowParamsInit()\n",
    "SP.criticalPathOnly=true\n",
    "SP.desktop=false\n",
    "SP.devView=false\n",
    "SP.debug=false\n",
    "SP.debugLevel = 0   # Tests use even numbers with > tests, make this an odd number or zero\n",
    "SP.mobile=true\n",
    "SP.showLines = 25\n",
    "SP.reportLevel = 2\n",
    "ShowParamsValidate(SP)\n",
    ";"
   ]
  },
  {
   "cell_type": "code",
   "execution_count": 5,
   "metadata": {
    "collapsed": false,
    "input_collapsed": false,
    "scrolled": false
   },
   "outputs": [
    {
     "name": "stdout",
     "output_type": "stream",
     "text": [
      "Low=2000 High=600000\n",
      "beacons_4744_URL_Details_view_prod count is 174\n"
     ]
    },
    {
     "data": {
      "text/html": [
       "<div class=\"dswbOutputText\">\n",
       "    <strong><span class=\"chart_info\" style=\"color:#B1D6ED;\">Using session timeout value of 30 minutes...</strong>\n",
       "</div>\n"
      ]
     },
     "metadata": {},
     "output_type": "display_data"
    },
    {
     "data": {
      "text/html": [
       "<div class=\"dswbOutputText\"><h1 class=\"chart_title\" style=\"color:#ccc\">Concurrent Sessions and Beacons by hour</h1><h3 class=\"chart_info\" style=\"color:#ccc\">November 28, 2017 11:59:00 to November 28, 2017 21:59:00</h3><h5 class=\"chart_lastCalled\" style=\"color:#ccc\">Run at November 29, 2017 15:29:13</h5></div>"
      ]
     },
     "metadata": {},
     "output_type": "display_data"
    },
    {
     "data": {
      "text/html": [
       "    <iframe id=\"timeSeries-MIMSLYHRTJZNPTIBUWSCMTPIHNHJABHO\" class=\"dswbiframe\" width=\"100%\" height=\"600\" src=\"about:blank\" scrolling=\"no\"></iframe>\n",
       "    <script>\n",
       "    (function() {\n",
       "        var iframe = document.getElementById(\"timeSeries-MIMSLYHRTJZNPTIBUWSCMTPIHNHJABHO\");\n",
       "        iframe.timeSeriesRendererLoaded = function(runner) {\n",
       "            iframe.runner = runner;\n",
       "            iframe.runner([[\"x\",\"2017-11-28 11:00:00\",\"2017-11-28 12:00:00\",\"2017-11-28 13:00:00\",\"2017-11-28 14:00:00\",\"2017-11-28 15:00:00\",\"2017-11-28 16:00:00\",\"2017-11-28 17:00:00\",\"2017-11-28 18:00:00\",\"2017-11-28 19:00:00\",\"2017-11-28 20:00:00\",\"2017-11-28 21:00:00\"],[\"data1\",720,38309,54390,63774,65525,64364,61913,61041,61226,56711,50964],[\"data2\",831,57785,87799,112463,120823,119237,116092,118162,122720,103733,90192]],\n",
       "                [\"Sessions\",\"Beacons\"],\n",
       "                [\"hour\",\"Concurrent Sessions\",\"Beacon Count\"],\n",
       "                [\"area-spline\",\"bar\"],\n",
       "                [\"hsla(28, 100%, 86%, 0.9)\",\"hsla(197, 70%, 73%, 0.9)\"],\n",
       "                [],\n",
       "                [\"data2\"],\n",
       "                \"    .c3-line {\\n        stroke: #039BE5;\\n    }\\n\\n    .c3-area {\\n        opacity:0.4;\\n    }\\n\\n    .c3 text {\\n        stroke: #979797 !important;\\n    }\\n\",\n",
       "                [],\n",
       "                {\"point_r\":0,\"axis_y_min\":0,\"axis_x_tick_culling_max\":20,\"axis_y2_min\":0}\n",
       "            );\n",
       "        }\n",
       "        iframe.src = \"/static/graphs/templates/c3Viz_template.html#id=timeSeries-MIMSLYHRTJZNPTIBUWSCMTPIHNHJABHO\";\n",
       "    }());\n",
       "    </script>\n"
      ]
     },
     "metadata": {},
     "output_type": "display_data"
    },
    {
     "data": {
      "text/html": [
       "<div class=\"dswbOutputText\"><h1 class=\"chart_title\" style=\"color:#ccc\">Median Load Times</h1><h3 class=\"chart_info\" style=\"color:#ccc\">November 28, 2017 11:59:00 to November 28, 2017 21:59:00</h3><h5 class=\"chart_lastCalled\" style=\"color:#ccc\">Run at November 29, 2017 15:29:20</h5></div>"
      ]
     },
     "metadata": {},
     "output_type": "display_data"
    },
    {
     "data": {
      "text/html": [
       "    <iframe id=\"timeSeries-VPQVLXFTXNXNBQXHLPGKQPQLRDEAHRQM\" class=\"dswbiframe\" width=\"100%\" height=\"600\" src=\"about:blank\" scrolling=\"no\"></iframe>\n",
       "    <script>\n",
       "    (function() {\n",
       "        var iframe = document.getElementById(\"timeSeries-VPQVLXFTXNXNBQXHLPGKQPQLRDEAHRQM\");\n",
       "        iframe.timeSeriesRendererLoaded = function(runner) {\n",
       "            iframe.runner = runner;\n",
       "            iframe.runner([[\"x\",\"November 28, 2017 11:00:00\",\"November 28, 2017 12:00:00\",\"November 28, 2017 13:00:00\",\"November 28, 2017 14:00:00\",\"November 28, 2017 15:00:00\",\"November 28, 2017 16:00:00\",\"November 28, 2017 17:00:00\",\"November 28, 2017 18:00:00\",\"November 28, 2017 19:00:00\",\"November 28, 2017 20:00:00\",\"November 28, 2017 21:00:00\"],[\"data1\",638.0,581.0,525.0,426.0,375.0,366.0,343.0,320.0,300.0,340.0,358.0],[\"data2\",8032.0,7516.5,6951.5,6429.0,6089.5,6003.0,5979.0,5721.0,5515.0,5890.0,6139.0],[\"data3\",9087.0,8374.0,7707.0,7085.0,6657.0,6546.0,6497.0,6213.0,5975.0,6382.0,6667.5]],\n",
       "                [\"Back-end Load Time\",\"Front-end Load Time\",\"Full Page Load Time\",\"Beacon Count\"],\n",
       "                [\"hour\",\"Milliseconds\",\"Count\"],\n",
       "                [\"area\",\"area\",\"spline\",\"line\"],\n",
       "                [\"hsla(130, 61%, 50%, 0.9)\",\"hsla(214, 86%, 60%, 0.9)\",\"hsla(35, 100%, 50%, 0.9)\"],\n",
       "                [[\"data1\",\"data2\"]],\n",
       "                [\"data4\"],\n",
       "                \"\",\n",
       "                [\"data4\"],\n",
       "                {\"axis_y_min\":0,\"pageUrl\":\"%channel.nationalgeographic.com/genius%\",\"axis_y2_min\":0}\n",
       "            );\n",
       "        }\n",
       "        iframe.src = \"/static/graphs/templates/c3Viz_template.html#id=timeSeries-VPQVLXFTXNXNBQXHLPGKQPQLRDEAHRQM\";\n",
       "    }());\n",
       "    </script>\n"
      ]
     },
     "metadata": {},
     "output_type": "display_data"
    },
    {
     "data": {
      "text/html": [
       "<div class=\"dswbOutputText\"><h1 class=\"chart_title\" style=\"color:#ccc\">Top URL Page Views for Channel</h1><h3 class=\"chart_info\" style=\"color:#ccc\">November 28, 2017 06:59:00 to November 28, 2017 16:59:00 Local Time</h3></div>"
      ]
     },
     "metadata": {},
     "output_type": "display_data"
    },
    {
     "data": {
      "text/html": [
       "    <table  class=\"dataframe-table\">\n",
       "    <thead><tr><th class=\"cell-1\" style=\"\">Views</th> <th class=\"cell-2\" style=\"\">Url - With Grouping After Parameters Dropped</th></tr></thead>\n",
       "    <tbody>\n",
       "    <tr><td class=\"cell-1\" style=\"text-align:right;\">71</td> <td class=\"cell-2\" style=\"\">http://channel.nationalgeographic.com/genius</td></tr>\n",
       "<tr><td class=\"cell-1\" style=\"text-align:right;\">23</td> <td class=\"cell-2\" style=\"\">http://channel.nationalgeographic.com/genius/videos/einstein-chapter-one1</td></tr>\n",
       "<tr><td class=\"cell-1\" style=\"text-align:right;\">13</td> <td class=\"cell-2\" style=\"\">http://channel.nationalgeographic.com/genius/articles/einsteins-lost-child</td></tr>\n",
       "<tr><td class=\"cell-1\" style=\"text-align:right;\">9</td> <td class=\"cell-2\" style=\"\">http://channel.nationalgeographic.com/genius/articles/a-first-look-at-genius</td></tr>\n",
       "<tr><td class=\"cell-1\" style=\"text-align:right;\">7</td> <td class=\"cell-2\" style=\"\">http://channel.nationalgeographic.com/genius/articles/albert-einsteins-theory-of-infidelity</td></tr>\n",
       "<tr><td class=\"cell-1\" style=\"text-align:right;\">5</td> <td class=\"cell-2\" style=\"\">http://channel.nationalgeographic.com/genius/videos/behind-the-scenes-filming-the-final-shot</td></tr>\n",
       "<tr><td class=\"cell-1\" style=\"text-align:right;\">4</td> <td class=\"cell-2\" style=\"\">http://channel.nationalgeographic.com/genius/videos/unified-field-theory</td></tr>\n",
       "<tr><td class=\"cell-1\" style=\"text-align:right;\">4</td> <td class=\"cell-2\" style=\"\">http://channel.nationalgeographic.com/genius/videos/genius-recap-the-last-chapter</td></tr>\n",
       "<tr><td class=\"cell-1\" style=\"text-align:right;\">3</td> <td class=\"cell-2\" style=\"\">http://channel.nationalgeographic.com/genius/videos/genius-teaser-trailer1</td></tr>\n",
       "<tr><td class=\"cell-1\" style=\"text-align:right;\">3</td> <td class=\"cell-2\" style=\"\">http://channel.nationalgeographic.com/genius/interactives/genius-thought-experiment</td></tr>\n",
       "<tr><td class=\"cell-1\" style=\"text-align:right;\">2</td> <td class=\"cell-2\" style=\"\">http://channel.nationalgeographic.com/genius/videos/einstein-chapter-two</td></tr>\n",
       "<tr><td class=\"cell-1\" style=\"text-align:right;\">2</td> <td class=\"cell-2\" style=\"\">http://channel.nationalgeographic.com/genius/galleries/einsteins-valentines/at/marie-winteler-2112874</td></tr>\n",
       "<tr><td class=\"cell-1\" style=\"text-align:right;\">2</td> <td class=\"cell-2\" style=\"\">http://channel.nationalgeographic.com/genius/videos/falling-in-love</td></tr>\n",
       "    \n",
       "    <tr><td class=\"cell-1\" style=\"text-align:right;\">2</td> <td class=\"cell-2\" style=\"\">http://channel.nationalgeographic.com/genius/videos/when-albert-met-mileva</td></tr>\n",
       "<tr><td class=\"cell-1\" style=\"text-align:right;\">2</td> <td class=\"cell-2\" style=\"\">http://channel.nationalgeographic.com/genius/videos/take-me-back</td></tr>\n",
       "<tr><td class=\"cell-1\" style=\"text-align:right;\">2</td> <td class=\"cell-2\" style=\"\">http://channel.nationalgeographic.com/genius/episodes/einstein-chapter-three</td></tr>\n",
       "<tr><td class=\"cell-1\" style=\"text-align:right;\">2</td> <td class=\"cell-2\" style=\"\">http://channel.nationalgeographic.com/genius/episodes/einstein-chapter-eight</td></tr>\n",
       "<tr><td class=\"cell-1\" style=\"text-align:right;\">2</td> <td class=\"cell-2\" style=\"\">http://channel.nationalgeographic.com/genius/episodes/einstein-chapter-one</td></tr>\n",
       "<tr><td class=\"cell-1\" style=\"text-align:right;\">2</td> <td class=\"cell-2\" style=\"\">http://channel.nationalgeographic.com/genius/videos/time-is-but-a-stubborn-illusion</td></tr>\n",
       "<tr><td class=\"cell-1\" style=\"text-align:right;\">2</td> <td class=\"cell-2\" style=\"\">http://channel.nationalgeographic.com/genius/episodes/einstein-the-last-chapter</td></tr>\n",
       "<tr><td class=\"cell-1\" style=\"text-align:right;\">1</td> <td class=\"cell-2\" style=\"\">http://channel.nationalgeographic.com/genius/videos/genius-recap-chapter-five</td></tr>\n",
       "<tr><td class=\"cell-1\" style=\"text-align:right;\">1</td> <td class=\"cell-2\" style=\"\">http://channel.nationalgeographic.com/genius/galleries/behind-the-scenes-of-genius/at/einsteins-violin-2112564</td></tr>\n",
       "<tr><td class=\"cell-1\" style=\"text-align:right;\">1</td> <td class=\"cell-2\" style=\"\">http://channel.nationalgeographic.com/genius/galleries/einstein-on-music/at/quote-1-2112635</td></tr>\n",
       "<tr><td class=\"cell-1\" style=\"text-align:right;\">1</td> <td class=\"cell-2\" style=\"\">http://channel.nationalgeographic.com/genius/videos/einstein-chapter-nine</td></tr>\n",
       "<tr><td class=\"cell-1\" style=\"text-align:right;\">1</td> <td class=\"cell-2\" style=\"\">http://channel.nationalgeographic.com/genius/articles/einstein-the-rebel</td></tr>\n",
       "    </tbody>\n"
      ],
      "text/plain": [
       "HTML{UTF8String}(\"    <table  class=\\\"dataframe-table\\\">\\n    <thead><tr><th class=\\\"cell-1\\\" style=\\\"\\\">Views</th> <th class=\\\"cell-2\\\" style=\\\"\\\">Url - With Grouping After Parameters Dropped</th></tr></thead>\\n    <tbody>\\n    <tr><td class=\\\"cell-1\\\" style=\\\"text-align:right;\\\">71</td> <td class=\\\"cell-2\\\" style=\\\"\\\">http://channel.nationalgeographic.com/genius</td></tr>\\n<tr><td class=\\\"cell-1\\\" style=\\\"text-align:right;\\\">23</td> <td class=\\\"cell-2\\\" style=\\\"\\\">http://channel.nationalgeographic.com/genius/videos/einstein-chapter-one1</td></tr>\\n<tr><td class=\\\"cell-1\\\" style=\\\"text-align:right;\\\">13</td> <td class=\\\"cell-2\\\" style=\\\"\\\">http://channel.nationalgeographic.com/genius/articles/einsteins-lost-child</td></tr>\\n<tr><td class=\\\"cell-1\\\" style=\\\"text-align:right;\\\">9</td> <td class=\\\"cell-2\\\" style=\\\"\\\">http://channel.nationalgeographic.com/genius/articles/a-first-look-at-genius</td></tr>\\n<tr><td class=\\\"cell-1\\\" style=\\\"text-align:right;\\\">7</td> <td class=\\\"cell-2\\\" style=\\\"\\\">http://channel.nationalgeographic.com/genius/articles/albert-einsteins-theory-of-infidelity</td></tr>\\n<tr><td class=\\\"cell-1\\\" style=\\\"text-align:right;\\\">5</td> <td class=\\\"cell-2\\\" style=\\\"\\\">http://channel.nationalgeographic.com/genius/videos/behind-the-scenes-filming-the-final-shot</td></tr>\\n<tr><td class=\\\"cell-1\\\" style=\\\"text-align:right;\\\">4</td> <td class=\\\"cell-2\\\" style=\\\"\\\">http://channel.nationalgeographic.com/genius/videos/unified-field-theory</td></tr>\\n<tr><td class=\\\"cell-1\\\" style=\\\"text-align:right;\\\">4</td> <td class=\\\"cell-2\\\" style=\\\"\\\">http://channel.nationalgeographic.com/genius/videos/genius-recap-the-last-chapter</td></tr>\\n<tr><td class=\\\"cell-1\\\" style=\\\"text-align:right;\\\">3</td> <td class=\\\"cell-2\\\" style=\\\"\\\">http://channel.nationalgeographic.com/genius/videos/genius-teaser-trailer1</td></tr>\\n<tr><td class=\\\"cell-1\\\" style=\\\"text-align:right;\\\">3</td> <td class=\\\"cell-2\\\" style=\\\"\\\">http://channel.nationalgeographic.com/genius/interactives/genius-thought-experiment</td></tr>\\n<tr><td class=\\\"cell-1\\\" style=\\\"text-align:right;\\\">2</td> <td class=\\\"cell-2\\\" style=\\\"\\\">http://channel.nationalgeographic.com/genius/videos/einstein-chapter-two</td></tr>\\n<tr><td class=\\\"cell-1\\\" style=\\\"text-align:right;\\\">2</td> <td class=\\\"cell-2\\\" style=\\\"\\\">http://channel.nationalgeographic.com/genius/galleries/einsteins-valentines/at/marie-winteler-2112874</td></tr>\\n<tr><td class=\\\"cell-1\\\" style=\\\"text-align:right;\\\">2</td> <td class=\\\"cell-2\\\" style=\\\"\\\">http://channel.nationalgeographic.com/genius/videos/falling-in-love</td></tr>\\n    \\n    <tr><td class=\\\"cell-1\\\" style=\\\"text-align:right;\\\">2</td> <td class=\\\"cell-2\\\" style=\\\"\\\">http://channel.nationalgeographic.com/genius/videos/when-albert-met-mileva</td></tr>\\n<tr><td class=\\\"cell-1\\\" style=\\\"text-align:right;\\\">2</td> <td class=\\\"cell-2\\\" style=\\\"\\\">http://channel.nationalgeographic.com/genius/videos/take-me-back</td></tr>\\n<tr><td class=\\\"cell-1\\\" style=\\\"text-align:right;\\\">2</td> <td class=\\\"cell-2\\\" style=\\\"\\\">http://channel.nationalgeographic.com/genius/episodes/einstein-chapter-three</td></tr>\\n<tr><td class=\\\"cell-1\\\" style=\\\"text-align:right;\\\">2</td> <td class=\\\"cell-2\\\" style=\\\"\\\">http://channel.nationalgeographic.com/genius/episodes/einstein-chapter-eight</td></tr>\\n<tr><td class=\\\"cell-1\\\" style=\\\"text-align:right;\\\">2</td> <td class=\\\"cell-2\\\" style=\\\"\\\">http://channel.nationalgeographic.com/genius/episodes/einstein-chapter-one</td></tr>\\n<tr><td class=\\\"cell-1\\\" style=\\\"text-align:right;\\\">2</td> <td class=\\\"cell-2\\\" style=\\\"\\\">http://channel.nationalgeographic.com/genius/videos/time-is-but-a-stubborn-illusion</td></tr>\\n<tr><td class=\\\"cell-1\\\" style=\\\"text-align:right;\\\">2</td> <td class=\\\"cell-2\\\" style=\\\"\\\">http://channel.nationalgeographic.com/genius/episodes/einstein-the-last-chapter</td></tr>\\n<tr><td class=\\\"cell-1\\\" style=\\\"text-align:right;\\\">1</td> <td class=\\\"cell-2\\\" style=\\\"\\\">http://channel.nationalgeographic.com/genius/videos/genius-recap-chapter-five</td></tr>\\n<tr><td class=\\\"cell-1\\\" style=\\\"text-align:right;\\\">1</td> <td class=\\\"cell-2\\\" style=\\\"\\\">http://channel.nationalgeographic.com/genius/galleries/behind-the-scenes-of-genius/at/einsteins-violin-2112564</td></tr>\\n<tr><td class=\\\"cell-1\\\" style=\\\"text-align:right;\\\">1</td> <td class=\\\"cell-2\\\" style=\\\"\\\">http://channel.nationalgeographic.com/genius/galleries/einstein-on-music/at/quote-1-2112635</td></tr>\\n<tr><td class=\\\"cell-1\\\" style=\\\"text-align:right;\\\">1</td> <td class=\\\"cell-2\\\" style=\\\"\\\">http://channel.nationalgeographic.com/genius/videos/einstein-chapter-nine</td></tr>\\n<tr><td class=\\\"cell-1\\\" style=\\\"text-align:right;\\\">1</td> <td class=\\\"cell-2\\\" style=\\\"\\\">http://channel.nationalgeographic.com/genius/articles/einstein-the-rebel</td></tr>\\n    </tbody>\\n\")"
      ]
     },
     "metadata": {},
     "output_type": "display_data"
    },
    {
     "data": {
      "text/html": [
       "<div class=\"dswbOutputText\"><h1 class=\"chart_title\" style=\"color:#ccc\">Top URL Page Views for Channel</h1><h3 class=\"chart_info\" style=\"color:#ccc\">November 28, 2017 06:59:00 to November 28, 2017 16:59:00 Local Time</h3><h3 class=\"chart_info\" style=\"color:#ccc\">URL: %channel.nationalgeographic.com/genius%</h3><h5 class=\"chart_lastCalled\" style=\"color:#ccc\">Run at November 29, 2017 15:29:24</h5></div>"
      ]
     },
     "metadata": {},
     "output_type": "display_data"
    },
    {
     "data": {
      "text/html": [
       "    <table  class=\"dataframe-table\">\n",
       "    <thead><tr><th class=\"cell-1\" style=\"\">Views</th> <th class=\"cell-2\" style=\"\">Url - With Grouping After Parameters Dropped</th></tr></thead>\n",
       "    <tbody>\n",
       "    <tr><td class=\"cell-1\" style=\"text-align:right;\">71</td> <td class=\"cell-2\" style=\"\">http://channel.nationalgeographic.com/genius/</td></tr>\n",
       "<tr><td class=\"cell-1\" style=\"text-align:right;\">23</td> <td class=\"cell-2\" style=\"\">http://channel.nationalgeographic.com/genius/videos/einstein-chapter-one1/</td></tr>\n",
       "<tr><td class=\"cell-1\" style=\"text-align:right;\">13</td> <td class=\"cell-2\" style=\"\">http://channel.nationalgeographic.com/genius/articles/einsteins-lost-child/</td></tr>\n",
       "<tr><td class=\"cell-1\" style=\"text-align:right;\">8</td> <td class=\"cell-2\" style=\"\">http://channel.nationalgeographic.com/genius/articles/a-first-look-at-genius/</td></tr>\n",
       "<tr><td class=\"cell-1\" style=\"text-align:right;\">7</td> <td class=\"cell-2\" style=\"\">http://channel.nationalgeographic.com/genius/articles/albert-einsteins-theory-of-infidelity/</td></tr>\n",
       "<tr><td class=\"cell-1\" style=\"text-align:right;\">5</td> <td class=\"cell-2\" style=\"\">http://channel.nationalgeographic.com/genius/videos/behind-the-scenes-filming-the-final-shot/</td></tr>\n",
       "<tr><td class=\"cell-1\" style=\"text-align:right;\">4</td> <td class=\"cell-2\" style=\"\">http://channel.nationalgeographic.com/genius/videos/unified-field-theory/</td></tr>\n",
       "<tr><td class=\"cell-1\" style=\"text-align:right;\">4</td> <td class=\"cell-2\" style=\"\">http://channel.nationalgeographic.com/genius/videos/genius-recap-the-last-chapter/</td></tr>\n",
       "<tr><td class=\"cell-1\" style=\"text-align:right;\">3</td> <td class=\"cell-2\" style=\"\">http://channel.nationalgeographic.com/genius/videos/genius-teaser-trailer1/</td></tr>\n",
       "<tr><td class=\"cell-1\" style=\"text-align:right;\">3</td> <td class=\"cell-2\" style=\"\">http://channel.nationalgeographic.com/genius/interactives/genius-thought-experiment/</td></tr>\n",
       "<tr><td class=\"cell-1\" style=\"text-align:right;\">2</td> <td class=\"cell-2\" style=\"\">http://channel.nationalgeographic.com/genius/videos/falling-in-love/</td></tr>\n",
       "<tr><td class=\"cell-1\" style=\"text-align:right;\">2</td> <td class=\"cell-2\" style=\"\">http://channel.nationalgeographic.com/genius/episodes/einstein-chapter-three/</td></tr>\n",
       "<tr><td class=\"cell-1\" style=\"text-align:right;\">2</td> <td class=\"cell-2\" style=\"\">http://channel.nationalgeographic.com/genius/videos/time-is-but-a-stubborn-illusion/</td></tr>\n",
       "    \n",
       "    <tr><td class=\"cell-1\" style=\"text-align:right;\">2</td> <td class=\"cell-2\" style=\"\">http://channel.nationalgeographic.com/genius/videos/einstein-chapter-two/</td></tr>\n",
       "<tr><td class=\"cell-1\" style=\"text-align:right;\">2</td> <td class=\"cell-2\" style=\"\">http://channel.nationalgeographic.com/genius/episodes/einstein-the-last-chapter/</td></tr>\n",
       "<tr><td class=\"cell-1\" style=\"text-align:right;\">2</td> <td class=\"cell-2\" style=\"\">http://channel.nationalgeographic.com/genius/videos/take-me-back/</td></tr>\n",
       "<tr><td class=\"cell-1\" style=\"text-align:right;\">2</td> <td class=\"cell-2\" style=\"\">http://channel.nationalgeographic.com/genius/videos/when-albert-met-mileva/</td></tr>\n",
       "<tr><td class=\"cell-1\" style=\"text-align:right;\">2</td> <td class=\"cell-2\" style=\"\">http://channel.nationalgeographic.com/genius/episodes/einstein-chapter-eight/</td></tr>\n",
       "<tr><td class=\"cell-1\" style=\"text-align:right;\">2</td> <td class=\"cell-2\" style=\"\">http://channel.nationalgeographic.com/genius/galleries/einsteins-valentines/at/marie-winteler-2112874/</td></tr>\n",
       "<tr><td class=\"cell-1\" style=\"text-align:right;\">1</td> <td class=\"cell-2\" style=\"\">http://channel.nationalgeographic.com/genius/videos/dazzle-us/</td></tr>\n",
       "<tr><td class=\"cell-1\" style=\"text-align:right;\">1</td> <td class=\"cell-2\" style=\"\">http://channel.nationalgeographic.com/genius/videos/behind-the-scenes-sets-and-production-design/</td></tr>\n",
       "<tr><td class=\"cell-1\" style=\"text-align:right;\">1</td> <td class=\"cell-2\" style=\"\">http://channel.nationalgeographic.com/genius/videos/einstein-chapter-nine/</td></tr>\n",
       "<tr><td class=\"cell-1\" style=\"text-align:right;\">1</td> <td class=\"cell-2\" style=\"\">http://channel.nationalgeographic.com/genius/videos/einstein-chapter-seven/</td></tr>\n",
       "<tr><td class=\"cell-1\" style=\"text-align:right;\">1</td> <td class=\"cell-2\" style=\"\">http://channel.nationalgeographic.com/genius/videos/nasty-little-witch/</td></tr>\n",
       "<tr><td class=\"cell-1\" style=\"text-align:right;\">1</td> <td class=\"cell-2\" style=\"\">http://channel.nationalgeographic.com/genius/galleries/einstein-on-music/at/quote-1-2112635/</td></tr>\n",
       "    </tbody>\n"
      ],
      "text/plain": [
       "HTML{UTF8String}(\"    <table  class=\\\"dataframe-table\\\">\\n    <thead><tr><th class=\\\"cell-1\\\" style=\\\"\\\">Views</th> <th class=\\\"cell-2\\\" style=\\\"\\\">Url - With Grouping After Parameters Dropped</th></tr></thead>\\n    <tbody>\\n    <tr><td class=\\\"cell-1\\\" style=\\\"text-align:right;\\\">71</td> <td class=\\\"cell-2\\\" style=\\\"\\\">http://channel.nationalgeographic.com/genius/</td></tr>\\n<tr><td class=\\\"cell-1\\\" style=\\\"text-align:right;\\\">23</td> <td class=\\\"cell-2\\\" style=\\\"\\\">http://channel.nationalgeographic.com/genius/videos/einstein-chapter-one1/</td></tr>\\n<tr><td class=\\\"cell-1\\\" style=\\\"text-align:right;\\\">13</td> <td class=\\\"cell-2\\\" style=\\\"\\\">http://channel.nationalgeographic.com/genius/articles/einsteins-lost-child/</td></tr>\\n<tr><td class=\\\"cell-1\\\" style=\\\"text-align:right;\\\">8</td> <td class=\\\"cell-2\\\" style=\\\"\\\">http://channel.nationalgeographic.com/genius/articles/a-first-look-at-genius/</td></tr>\\n<tr><td class=\\\"cell-1\\\" style=\\\"text-align:right;\\\">7</td> <td class=\\\"cell-2\\\" style=\\\"\\\">http://channel.nationalgeographic.com/genius/articles/albert-einsteins-theory-of-infidelity/</td></tr>\\n<tr><td class=\\\"cell-1\\\" style=\\\"text-align:right;\\\">5</td> <td class=\\\"cell-2\\\" style=\\\"\\\">http://channel.nationalgeographic.com/genius/videos/behind-the-scenes-filming-the-final-shot/</td></tr>\\n<tr><td class=\\\"cell-1\\\" style=\\\"text-align:right;\\\">4</td> <td class=\\\"cell-2\\\" style=\\\"\\\">http://channel.nationalgeographic.com/genius/videos/unified-field-theory/</td></tr>\\n<tr><td class=\\\"cell-1\\\" style=\\\"text-align:right;\\\">4</td> <td class=\\\"cell-2\\\" style=\\\"\\\">http://channel.nationalgeographic.com/genius/videos/genius-recap-the-last-chapter/</td></tr>\\n<tr><td class=\\\"cell-1\\\" style=\\\"text-align:right;\\\">3</td> <td class=\\\"cell-2\\\" style=\\\"\\\">http://channel.nationalgeographic.com/genius/videos/genius-teaser-trailer1/</td></tr>\\n<tr><td class=\\\"cell-1\\\" style=\\\"text-align:right;\\\">3</td> <td class=\\\"cell-2\\\" style=\\\"\\\">http://channel.nationalgeographic.com/genius/interactives/genius-thought-experiment/</td></tr>\\n<tr><td class=\\\"cell-1\\\" style=\\\"text-align:right;\\\">2</td> <td class=\\\"cell-2\\\" style=\\\"\\\">http://channel.nationalgeographic.com/genius/videos/falling-in-love/</td></tr>\\n<tr><td class=\\\"cell-1\\\" style=\\\"text-align:right;\\\">2</td> <td class=\\\"cell-2\\\" style=\\\"\\\">http://channel.nationalgeographic.com/genius/episodes/einstein-chapter-three/</td></tr>\\n<tr><td class=\\\"cell-1\\\" style=\\\"text-align:right;\\\">2</td> <td class=\\\"cell-2\\\" style=\\\"\\\">http://channel.nationalgeographic.com/genius/videos/time-is-but-a-stubborn-illusion/</td></tr>\\n    \\n    <tr><td class=\\\"cell-1\\\" style=\\\"text-align:right;\\\">2</td> <td class=\\\"cell-2\\\" style=\\\"\\\">http://channel.nationalgeographic.com/genius/videos/einstein-chapter-two/</td></tr>\\n<tr><td class=\\\"cell-1\\\" style=\\\"text-align:right;\\\">2</td> <td class=\\\"cell-2\\\" style=\\\"\\\">http://channel.nationalgeographic.com/genius/episodes/einstein-the-last-chapter/</td></tr>\\n<tr><td class=\\\"cell-1\\\" style=\\\"text-align:right;\\\">2</td> <td class=\\\"cell-2\\\" style=\\\"\\\">http://channel.nationalgeographic.com/genius/videos/take-me-back/</td></tr>\\n<tr><td class=\\\"cell-1\\\" style=\\\"text-align:right;\\\">2</td> <td class=\\\"cell-2\\\" style=\\\"\\\">http://channel.nationalgeographic.com/genius/videos/when-albert-met-mileva/</td></tr>\\n<tr><td class=\\\"cell-1\\\" style=\\\"text-align:right;\\\">2</td> <td class=\\\"cell-2\\\" style=\\\"\\\">http://channel.nationalgeographic.com/genius/episodes/einstein-chapter-eight/</td></tr>\\n<tr><td class=\\\"cell-1\\\" style=\\\"text-align:right;\\\">2</td> <td class=\\\"cell-2\\\" style=\\\"\\\">http://channel.nationalgeographic.com/genius/galleries/einsteins-valentines/at/marie-winteler-2112874/</td></tr>\\n<tr><td class=\\\"cell-1\\\" style=\\\"text-align:right;\\\">1</td> <td class=\\\"cell-2\\\" style=\\\"\\\">http://channel.nationalgeographic.com/genius/videos/dazzle-us/</td></tr>\\n<tr><td class=\\\"cell-1\\\" style=\\\"text-align:right;\\\">1</td> <td class=\\\"cell-2\\\" style=\\\"\\\">http://channel.nationalgeographic.com/genius/videos/behind-the-scenes-sets-and-production-design/</td></tr>\\n<tr><td class=\\\"cell-1\\\" style=\\\"text-align:right;\\\">1</td> <td class=\\\"cell-2\\\" style=\\\"\\\">http://channel.nationalgeographic.com/genius/videos/einstein-chapter-nine/</td></tr>\\n<tr><td class=\\\"cell-1\\\" style=\\\"text-align:right;\\\">1</td> <td class=\\\"cell-2\\\" style=\\\"\\\">http://channel.nationalgeographic.com/genius/videos/einstein-chapter-seven/</td></tr>\\n<tr><td class=\\\"cell-1\\\" style=\\\"text-align:right;\\\">1</td> <td class=\\\"cell-2\\\" style=\\\"\\\">http://channel.nationalgeographic.com/genius/videos/nasty-little-witch/</td></tr>\\n<tr><td class=\\\"cell-1\\\" style=\\\"text-align:right;\\\">1</td> <td class=\\\"cell-2\\\" style=\\\"\\\">http://channel.nationalgeographic.com/genius/galleries/einstein-on-music/at/quote-1-2112635/</td></tr>\\n    </tbody>\\n\")"
      ]
     },
     "metadata": {},
     "output_type": "display_data"
    },
    {
     "name": "stdout",
     "output_type": "stream",
     "text": [
      "beacons_4744_rt_URL_Details_view_prod count is (14220,27)\n",
      "chartTop LocalTable Exception "
     ]
    },
    {
     "data": {
      "text/html": [
       "<div class=\"dswbOutputText\"><h1 class=\"chart_title\" style=\"color:#ccc\">Median Load Times by url</h1><h3 class=\"chart_info\" style=\"color:#ccc\">Stacked Back-end and Front-end Load Times</h3><h3 class=\"chart_info\" style=\"color:#ccc\">From November 28, 2017 11:59:00 to November 28, 2017 21:59:00</h3><h5 class=\"chart_lastCalled\" style=\"color:#ccc\">Run at November 29, 2017 15:29:28</h5></div>"
      ]
     },
     "metadata": {},
     "output_type": "display_data"
    },
    {
     "data": {
      "text/html": [
       "    <iframe id=\"timeSeries-TROGZHZZJGZLMIAHXWSXSWFZHDFHKEHH\" class=\"dswbiframe\" width=\"100%\" height=\"600\" src=\"about:blank\" scrolling=\"no\"></iframe>\n",
       "    <script>\n",
       "    (function() {\n",
       "        var iframe = document.getElementById(\"timeSeries-TROGZHZZJGZLMIAHXWSXSWFZHDFHKEHH\");\n",
       "        iframe.timeSeriesRendererLoaded = function(runner) {\n",
       "            iframe.runner = runner;\n",
       "            iframe.runner([[\"x\",\"http://channel.nationalgeographic.com/\"],[\"data1\",490.0],[\"data2\",8924.0]],\n",
       "                [\"Back End Load Time\",\"Front end Load Time\"],\n",
       "                [\"url\",\"Load Times (ms)\"],\n",
       "                [\"bar\",\"bar\"],\n",
       "                [\"hsla(130, 61%, 50%, 0.9)\",\"hsla(214, 86%, 60%, 0.9)\"],\n",
       "                [[\"data1\",\"data2\"]],\n",
       "                [],\n",
       "                \"\",\n",
       "                [],\n",
       "                {\"axis_y_min\":0}\n",
       "            );\n",
       "        }\n",
       "        iframe.src = \"/static/graphs/templates/c3VizRotated_template.html#id=timeSeries-TROGZHZZJGZLMIAHXWSXSWFZHDFHKEHH\";\n",
       "    }());\n",
       "    </script>\n"
      ]
     },
     "metadata": {},
     "output_type": "display_data"
    },
    {
     "data": {
      "text/html": [
       "<div class=\"dswbOutputText\"><h1 class=\"chart_title\" style=\"color:#ccc\">Median Load Times by params_u</h1><h3 class=\"chart_info\" style=\"color:#ccc\">Stacked Back-end and Front-end Load Times</h3><h3 class=\"chart_info\" style=\"color:#ccc\">From November 28, 2017 11:59:00 to November 28, 2017 21:59:00</h3><h5 class=\"chart_lastCalled\" style=\"color:#ccc\">Run at November 29, 2017 15:29:31</h5></div>"
      ]
     },
     "metadata": {},
     "output_type": "display_data"
    },
    {
     "data": {
      "text/html": [
       "    <iframe id=\"timeSeries-EPDPQMEQESHAUOWTHLPQEWGDYTXQWPSN\" class=\"dswbiframe\" width=\"100%\" height=\"600\" src=\"about:blank\" scrolling=\"no\"></iframe>\n",
       "    <script>\n",
       "    (function() {\n",
       "        var iframe = document.getElementById(\"timeSeries-EPDPQMEQESHAUOWTHLPQEWGDYTXQWPSN\");\n",
       "        iframe.timeSeriesRendererLoaded = function(runner) {\n",
       "            iframe.runner = runner;\n",
       "            iframe.runner([[\"x\",\"http://channel.nationalgeographic.com/genius/videos/nasty-little-witch/\",\"http://channel.nationalgeographic.com/genius/videos/falling-in-love/\",\"http://channel.nationalgeographic.com/genius/articles/a-first-look-at-genius/\",\"http://channel.nationalgeographic.com/genius/galleries/einsteins-valentines/at/marie-winteler-2112874/\",\"http://channel.nationalgeographic.com/genius/videos/behind-the-scenes-sets-and-production-design/\",\"http://channel.nationalgeographic.com/genius/episodes/einstein-chapter-one/\",\"http://channel.nationalgeographic.com/genius/articles/einstein-the-rebel/\",\"http://channel.nationalgeographic.com/genius/videos/take-me-back/\",\"http://channel.nationalgeographic.com/genius/videos/when-albert-met-mileva/\",\"http://channel.nationalgeographic.com/genius/\",\"http://channel.nationalgeographic.com/genius/articles/albert-einsteins-theory-of-infidelity/\",\"http://channel.nationalgeographic.com/genius/articles/einsteins-lost-child/\",\"http://channel.nationalgeographic.com/genius/videos/character-profile-meet-albert-einstein/\",\"http://channel.nationalgeographic.com/genius/episodes/einstein-chapter-three/\",\"http://channel.nationalgeographic.com/genius/galleries/behind-the-scenes-of-genius/at/einsteins-violin-2112564/\",\"http://channel.nationalgeographic.com/genius/videos/behind-the-scenes-filming-the-final-shot/\",\"http://channel.nationalgeographic.com/genius/videos/einstein-chapter-two/\",\"http://channel.nationalgeographic.com/genius/videos/genius-recap-the-last-chapter/\",\"http://channel.nationalgeographic.com/genius/interactives/genius-thought-experiment/\",\"http://channel.nationalgeographic.com/genius/videos/einstein-chapter-one1/\"],[\"data1\",8503.0,2939.5,1021.5,670.5,977.0,666.0,326.0,844.5,793.0,488.0,691.0,341.0,672.0,368.0,771.0,329.0,308.0,721.5,471.0,431.0],[\"data2\",38982.0,22229.5,20368.5,16431.5,15042.0,15319.0,14626.0,13532.5,11187.0,11231.0,10717.0,10980.0,10124.0,9040.0,7407.0,7570.0,7012.0,6537.5,6160.0,5855.0]],\n",
       "                [\"Back End Load Time\",\"Front end Load Time\"],\n",
       "                [\"params_u\",\"Load Times (ms)\"],\n",
       "                [\"bar\",\"bar\"],\n",
       "                [\"hsla(130, 61%, 50%, 0.9)\",\"hsla(214, 86%, 60%, 0.9)\"],\n",
       "                [[\"data1\",\"data2\"]],\n",
       "                [],\n",
       "                \"\",\n",
       "                [],\n",
       "                {\"axis_y_min\":0}\n",
       "            );\n",
       "        }\n",
       "        iframe.src = \"/static/graphs/templates/c3VizRotated_template.html#id=timeSeries-EPDPQMEQESHAUOWTHLPQEWGDYTXQWPSN\";\n",
       "    }());\n",
       "    </script>\n"
      ]
     },
     "metadata": {},
     "output_type": "display_data"
    },
    {
     "name": "stdout",
     "output_type": "stream",
     "text": [
      "UndefVarError(:chartTopPageResourcesSummary)\n"
     ]
    },
    {
     "ename": "LoadError",
     "evalue": "UndefVarError: chartCacheHitRatioByUrl not defined",
     "output_type": "error",
     "traceback": [
      "UndefVarError: chartCacheHitRatioByUrl not defined",
      "",
      " in urlDetailsWorkflow at /data/notebook_home/NGP-DSWB-Chris/Lib/Workflow-Package-v2.1.jl:335"
     ]
    }
   ],
   "source": [
    "urlDetailsWorkflow(TV,UP,SP)\n",
    ";"
   ]
  },
  {
   "cell_type": "code",
   "execution_count": null,
   "metadata": {
    "collapsed": true,
    "input_collapsed": false
   },
   "outputs": [],
   "source": []
  }
 ],
 "metadata": {
  "chart_version": "1.0.0",
  "kernelspec": {
   "display_name": "Julia 0.4.7",
   "language": "julia",
   "name": "julia-0.4"
  },
  "language_info": {
   "file_extension": ".jl",
   "mimetype": "application/julia",
   "name": "julia",
   "version": "0.4.7"
  },
  "library_version": "1.0.0",
  "notebook_uuid": "167136ea-23c4-41b2-a2e1-ba27c3ef7e37",
  "readOnly": false
 },
 "nbformat": 4,
 "nbformat_minor": 0
}
