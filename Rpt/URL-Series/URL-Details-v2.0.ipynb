{
 "cells": [
  {
   "cell_type": "markdown",
   "metadata": {},
   "source": [
    "## Tables and Data Source setup"
   ]
  },
  {
   "cell_type": "code",
   "execution_count": 1,
   "metadata": {
    "collapsed": false,
    "input_collapsed": false,
    "scrolled": true
   },
   "outputs": [
    {
     "name": "stdout",
     "output_type": "stream",
     "text": [
      "Redshift endpoint set: 2017-11-29T15:38:17\n"
     ]
    }
   ],
   "source": [
    "using ODBC\n",
    "using DataFrames\n",
    "using DSWB\n",
    "using Formatting\n",
    "\n",
    "dsn = \"dswb-natgeo\" # Redshift esetTable(tableRt, tableType = \"RESOURCE_TABLE\")ndpoint\n",
    "table = \"beacons_4744\" # beacon table name\n",
    "tableRt = \"beacons_4744_rt\"\n",
    "\n",
    "# Connect to Beacon Data\n",
    "setRedshiftEndpoint(dsn)\n",
    "setTable(table)\n",
    "setTable(tableRt, tableType = \"RESOURCE_TABLE\")\n",
    ";"
   ]
  },
  {
   "cell_type": "code",
   "execution_count": 2,
   "metadata": {
    "collapsed": false,
    "input_collapsed": false
   },
   "outputs": [],
   "source": [
    "include(\"../../Lib/Include-Package-v2.1.jl\")\n",
    ";"
   ]
  },
  {
   "cell_type": "code",
   "execution_count": 3,
   "metadata": {
    "collapsed": false,
    "input_collapsed": false
   },
   "outputs": [
    {
     "name": "stdout",
     "output_type": "stream",
     "text": [
      "November 28, 2017 06:59:00 to November 28, 2017 16:59:00 Local Time\n",
      "November 28, 2017 11:59:00 to November 28, 2017 21:59:00 UTC Time\n"
     ]
    }
   ],
   "source": [
    "#TV = timeVariables(2017,6,14,6,0,2017,6,15,0,5)\n",
    "#TV = weeklyTimeVariables(days=1)\n",
    "TV = yesterdayTimeVariables()\n",
    ";"
   ]
  },
  {
   "cell_type": "code",
   "execution_count": 4,
   "metadata": {
    "collapsed": false,
    "input_collapsed": false,
    "scrolled": true
   },
   "outputs": [],
   "source": [
    "UP = UrlParamsInit(\"Url_Details\")\n",
    "UP.agentOs = \"%\"\n",
    "UP.deviceType = \"Mobile\"\n",
    "UP.limitRows = 250\n",
    "UP.orderBy = \"time\"\n",
    "UP.pageGroup = \"Channel\"   #productPageGroup\n",
    "UP.samplesMin = 10\n",
    "UP.sizeMin = 10000\n",
    "UP.timeLowerMs = 2000.0\n",
    "UP.timeUpperMs = 600000.0\n",
    "UP.urlRegEx = \"%channel.nationalgeographic.com/genius%\"   #localUrl\n",
    "UP.urlFull = \"http://channel.nationalgeographic.com/genius/\"\n",
    "UP.usePageLoad=false\n",
    "UrlParamsValidate(UP)\n",
    "\n",
    "SP = ShowParamsInit()\n",
    "SP.criticalPathOnly=true\n",
    "SP.desktop=false\n",
    "SP.devView=false\n",
    "SP.debugLevel = 0   # Tests use even numbers with > tests, make this an odd number or zero\n",
    "SP.mobile=true\n",
    "SP.showLines = 25\n",
    "SP.reportLevel = 2\n",
    "ShowParamsValidate(SP)\n",
    ";"
   ]
  },
  {
   "cell_type": "code",
   "execution_count": 5,
   "metadata": {
    "collapsed": false,
    "input_collapsed": false,
    "scrolled": false
   },
   "outputs": [
    {
     "name": "stdout",
     "output_type": "stream",
     "text": [
      "beacons_4744_rt_URL_Details_view_prod count is ("
     ]
    },
    {
     "data": {
      "text/html": [
       "<div class=\"dswbOutputText\">\n",
       "    <strong><span class=\"chart_info\" style=\"color:#B1D6ED;\">Using session timeout value of 30 minutes...</strong>\n",
       "</div>\n"
      ]
     },
     "metadata": {},
     "output_type": "display_data"
    },
    {
     "data": {
      "text/html": [
       "<div class=\"dswbOutputText\"><h1 class=\"chart_title\" style=\"color:#ccc\">Concurrent Sessions and Beacons by hour</h1><h3 class=\"chart_info\" style=\"color:#ccc\">November 28, 2017 11:59:00 to November 28, 2017 21:59:00</h3><h5 class=\"chart_lastCalled\" style=\"color:#ccc\">Run at November 29, 2017 15:39:07</h5></div>"
      ]
     },
     "metadata": {},
     "output_type": "display_data"
    },
    {
     "data": {
      "text/html": [
       "    <iframe id=\"timeSeries-KGQKMHTVVDOMPPSKWKYOBPTZCYUGOHRL\" class=\"dswbiframe\" width=\"100%\" height=\"600\" src=\"about:blank\" scrolling=\"no\"></iframe>\n",
       "    <script>\n",
       "    (function() {\n",
       "        var iframe = document.getElementById(\"timeSeries-KGQKMHTVVDOMPPSKWKYOBPTZCYUGOHRL\");\n",
       "        iframe.timeSeriesRendererLoaded = function(runner) {\n",
       "            iframe.runner = runner;\n",
       "            iframe.runner([[\"x\",\"2017-11-28 11:00:00\",\"2017-11-28 12:00:00\",\"2017-11-28 13:00:00\",\"2017-11-28 14:00:00\",\"2017-11-28 15:00:00\",\"2017-11-28 16:00:00\",\"2017-11-28 17:00:00\",\"2017-11-28 18:00:00\",\"2017-11-28 19:00:00\",\"2017-11-28 20:00:00\",\"2017-11-28 21:00:00\"],[\"data1\",720,38309,54390,63774,65525,64364,61913,61041,61226,56711,50964],[\"data2\",831,57785,87799,112463,120823,119237,116092,118162,122720,103733,90192]],\n",
       "                [\"Sessions\",\"Beacons\"],\n",
       "                [\"hour\",\"Concurrent Sessions\",\"Beacon Count\"],\n",
       "                [\"area-spline\",\"bar\"],\n",
       "                [\"hsla(28, 100%, 86%, 0.9)\",\"hsla(197, 70%, 73%, 0.9)\"],\n",
       "                [],\n",
       "                [\"data2\"],\n",
       "                \"    .c3-line {\\n        stroke: #039BE5;\\n    }\\n\\n    .c3-area {\\n        opacity:0.4;\\n    }\\n\\n    .c3 text {\\n        stroke: #979797 !important;\\n    }\\n\",\n",
       "                [],\n",
       "                {\"point_r\":0,\"axis_y_min\":0,\"axis_x_tick_culling_max\":20,\"axis_y2_min\":0}\n",
       "            );\n",
       "        }\n",
       "        iframe.src = \"/static/graphs/templates/c3Viz_template.html#id=timeSeries-KGQKMHTVVDOMPPSKWKYOBPTZCYUGOHRL\";\n",
       "    }());\n",
       "    </script>\n"
      ]
     },
     "metadata": {},
     "output_type": "display_data"
    },
    {
     "data": {
      "text/html": [
       "<div class=\"dswbOutputText\"><h1 class=\"chart_title\" style=\"color:#ccc\">Median Load Times</h1><h3 class=\"chart_info\" style=\"color:#ccc\">November 28, 2017 11:59:00 to November 28, 2017 21:59:00</h3><h5 class=\"chart_lastCalled\" style=\"color:#ccc\">Run at November 29, 2017 15:39:13</h5></div>"
      ]
     },
     "metadata": {},
     "output_type": "display_data"
    },
    {
     "data": {
      "text/html": [
       "    <iframe id=\"timeSeries-KKBYVFQZHFHSGOMBUKVVREQNQUTOSINE\" class=\"dswbiframe\" width=\"100%\" height=\"600\" src=\"about:blank\" scrolling=\"no\"></iframe>\n",
       "    <script>\n",
       "    (function() {\n",
       "        var iframe = document.getElementById(\"timeSeries-KKBYVFQZHFHSGOMBUKVVREQNQUTOSINE\");\n",
       "        iframe.timeSeriesRendererLoaded = function(runner) {\n",
       "            iframe.runner = runner;\n",
       "            iframe.runner([[\"x\",\"November 28, 2017 11:00:00\",\"November 28, 2017 12:00:00\",\"November 28, 2017 13:00:00\",\"November 28, 2017 14:00:00\",\"November 28, 2017 15:00:00\",\"November 28, 2017 16:00:00\",\"November 28, 2017 17:00:00\",\"November 28, 2017 18:00:00\",\"November 28, 2017 19:00:00\",\"November 28, 2017 20:00:00\",\"November 28, 2017 21:00:00\"],[\"data1\",638.0,581.0,525.0,426.0,375.0,366.0,343.0,320.0,300.0,340.0,358.0],[\"data2\",8032.0,7516.5,6951.5,6429.0,6089.5,6003.0,5979.0,5721.0,5515.0,5890.0,6139.0],[\"data3\",9087.0,8374.0,7707.0,7085.0,6657.0,6546.0,6497.0,6213.0,5975.0,6382.0,6667.5]],\n",
       "                [\"Back-end Load Time\",\"Front-end Load Time\",\"Full Page Load Time\",\"Beacon Count\"],\n",
       "                [\"hour\",\"Milliseconds\",\"Count\"],\n",
       "                [\"area\",\"area\",\"spline\",\"line\"],\n",
       "                [\"hsla(130, 61%, 50%, 0.9)\",\"hsla(214, 86%, 60%, 0.9)\",\"hsla(35, 100%, 50%, 0.9)\"],\n",
       "                [[\"data1\",\"data2\"]],\n",
       "                [\"data4\"],\n",
       "                \"\",\n",
       "                [\"data4\"],\n",
       "                {\"axis_y_min\":0,\"pageUrl\":\"%channel.nationalgeographic.com/genius%\",\"axis_y2_min\":0}\n",
       "            );\n",
       "        }\n",
       "        iframe.src = \"/static/graphs/templates/c3Viz_template.html#id=timeSeries-KKBYVFQZHFHSGOMBUKVVREQNQUTOSINE\";\n",
       "    }());\n",
       "    </script>\n"
      ]
     },
     "metadata": {},
     "output_type": "display_data"
    },
    {
     "data": {
      "text/html": [
       "<div class=\"dswbOutputText\"><h1 class=\"chart_title\" style=\"color:#ccc\">Top URL Page Views for Channel</h1><h3 class=\"chart_info\" style=\"color:#ccc\">November 28, 2017 06:59:00 to November 28, 2017 16:59:00 Local Time</h3></div>"
      ]
     },
     "metadata": {},
     "output_type": "display_data"
    },
    {
     "data": {
      "text/html": [
       "    <table  class=\"dataframe-table\">\n",
       "    <thead><tr><th class=\"cell-1\" style=\"\">Views</th> <th class=\"cell-2\" style=\"\">Url - With Grouping After Parameters Dropped</th></tr></thead>\n",
       "    <tbody>\n",
       "    <tr><td class=\"cell-1\" style=\"text-align:right;\">71</td> <td class=\"cell-2\" style=\"\">http://channel.nationalgeographic.com/genius</td></tr>\n",
       "<tr><td class=\"cell-1\" style=\"text-align:right;\">23</td> <td class=\"cell-2\" style=\"\">http://channel.nationalgeographic.com/genius/videos/einstein-chapter-one1</td></tr>\n",
       "<tr><td class=\"cell-1\" style=\"text-align:right;\">13</td> <td class=\"cell-2\" style=\"\">http://channel.nationalgeographic.com/genius/articles/einsteins-lost-child</td></tr>\n",
       "<tr><td class=\"cell-1\" style=\"text-align:right;\">9</td> <td class=\"cell-2\" style=\"\">http://channel.nationalgeographic.com/genius/articles/a-first-look-at-genius</td></tr>\n",
       "<tr><td class=\"cell-1\" style=\"text-align:right;\">7</td> <td class=\"cell-2\" style=\"\">http://channel.nationalgeographic.com/genius/articles/albert-einsteins-theory-of-infidelity</td></tr>\n",
       "<tr><td class=\"cell-1\" style=\"text-align:right;\">5</td> <td class=\"cell-2\" style=\"\">http://channel.nationalgeographic.com/genius/videos/behind-the-scenes-filming-the-final-shot</td></tr>\n",
       "<tr><td class=\"cell-1\" style=\"text-align:right;\">4</td> <td class=\"cell-2\" style=\"\">http://channel.nationalgeographic.com/genius/videos/unified-field-theory</td></tr>\n",
       "<tr><td class=\"cell-1\" style=\"text-align:right;\">4</td> <td class=\"cell-2\" style=\"\">http://channel.nationalgeographic.com/genius/videos/genius-recap-the-last-chapter</td></tr>\n",
       "<tr><td class=\"cell-1\" style=\"text-align:right;\">3</td> <td class=\"cell-2\" style=\"\">http://channel.nationalgeographic.com/genius/videos/genius-teaser-trailer1</td></tr>\n",
       "<tr><td class=\"cell-1\" style=\"text-align:right;\">3</td> <td class=\"cell-2\" style=\"\">http://channel.nationalgeographic.com/genius/interactives/genius-thought-experiment</td></tr>\n",
       "<tr><td class=\"cell-1\" style=\"text-align:right;\">2</td> <td class=\"cell-2\" style=\"\">http://channel.nationalgeographic.com/genius/videos/falling-in-love</td></tr>\n",
       "<tr><td class=\"cell-1\" style=\"text-align:right;\">2</td> <td class=\"cell-2\" style=\"\">http://channel.nationalgeographic.com/genius/videos/time-is-but-a-stubborn-illusion</td></tr>\n",
       "<tr><td class=\"cell-1\" style=\"text-align:right;\">2</td> <td class=\"cell-2\" style=\"\">http://channel.nationalgeographic.com/genius/videos/einstein-chapter-two</td></tr>\n",
       "    \n",
       "    <tr><td class=\"cell-1\" style=\"text-align:right;\">2</td> <td class=\"cell-2\" style=\"\">http://channel.nationalgeographic.com/genius/episodes/einstein-the-last-chapter</td></tr>\n",
       "<tr><td class=\"cell-1\" style=\"text-align:right;\">2</td> <td class=\"cell-2\" style=\"\">http://channel.nationalgeographic.com/genius/videos/when-albert-met-mileva</td></tr>\n",
       "<tr><td class=\"cell-1\" style=\"text-align:right;\">2</td> <td class=\"cell-2\" style=\"\">http://channel.nationalgeographic.com/genius/episodes/einstein-chapter-three</td></tr>\n",
       "<tr><td class=\"cell-1\" style=\"text-align:right;\">2</td> <td class=\"cell-2\" style=\"\">http://channel.nationalgeographic.com/genius/episodes/einstein-chapter-eight</td></tr>\n",
       "<tr><td class=\"cell-1\" style=\"text-align:right;\">2</td> <td class=\"cell-2\" style=\"\">http://channel.nationalgeographic.com/genius/galleries/einsteins-valentines/at/marie-winteler-2112874</td></tr>\n",
       "<tr><td class=\"cell-1\" style=\"text-align:right;\">2</td> <td class=\"cell-2\" style=\"\">http://channel.nationalgeographic.com/genius/episodes/einstein-chapter-one</td></tr>\n",
       "<tr><td class=\"cell-1\" style=\"text-align:right;\">2</td> <td class=\"cell-2\" style=\"\">http://channel.nationalgeographic.com/genius/videos/take-me-back</td></tr>\n",
       "<tr><td class=\"cell-1\" style=\"text-align:right;\">1</td> <td class=\"cell-2\" style=\"\">http://channel.nationalgeographic.com/genius/videos/dazzle-us</td></tr>\n",
       "<tr><td class=\"cell-1\" style=\"text-align:right;\">1</td> <td class=\"cell-2\" style=\"\">http://channel.nationalgeographic.com/genius/videos/einstein-chapter-nine</td></tr>\n",
       "<tr><td class=\"cell-1\" style=\"text-align:right;\">1</td> <td class=\"cell-2\" style=\"\">http://channel.nationalgeographic.com/genius/videos/nasty-little-witch</td></tr>\n",
       "<tr><td class=\"cell-1\" style=\"text-align:right;\">1</td> <td class=\"cell-2\" style=\"\">http://channel.nationalgeographic.com/genius/galleries/behind-the-scenes-of-genius/at/einsteins-violin-2112564</td></tr>\n",
       "<tr><td class=\"cell-1\" style=\"text-align:right;\">1</td> <td class=\"cell-2\" style=\"\">http://channel.nationalgeographic.com/genius/videos/behind-the-scenes-sets-and-production-design</td></tr>\n",
       "    </tbody>\n"
      ],
      "text/plain": [
       "HTML{UTF8String}(\"    <table  class=\\\"dataframe-table\\\">\\n    <thead><tr><th class=\\\"cell-1\\\" style=\\\"\\\">Views</th> <th class=\\\"cell-2\\\" style=\\\"\\\">Url - With Grouping After Parameters Dropped</th></tr></thead>\\n    <tbody>\\n    <tr><td class=\\\"cell-1\\\" style=\\\"text-align:right;\\\">71</td> <td class=\\\"cell-2\\\" style=\\\"\\\">http://channel.nationalgeographic.com/genius</td></tr>\\n<tr><td class=\\\"cell-1\\\" style=\\\"text-align:right;\\\">23</td> <td class=\\\"cell-2\\\" style=\\\"\\\">http://channel.nationalgeographic.com/genius/videos/einstein-chapter-one1</td></tr>\\n<tr><td class=\\\"cell-1\\\" style=\\\"text-align:right;\\\">13</td> <td class=\\\"cell-2\\\" style=\\\"\\\">http://channel.nationalgeographic.com/genius/articles/einsteins-lost-child</td></tr>\\n<tr><td class=\\\"cell-1\\\" style=\\\"text-align:right;\\\">9</td> <td class=\\\"cell-2\\\" style=\\\"\\\">http://channel.nationalgeographic.com/genius/articles/a-first-look-at-genius</td></tr>\\n<tr><td class=\\\"cell-1\\\" style=\\\"text-align:right;\\\">7</td> <td class=\\\"cell-2\\\" style=\\\"\\\">http://channel.nationalgeographic.com/genius/articles/albert-einsteins-theory-of-infidelity</td></tr>\\n<tr><td class=\\\"cell-1\\\" style=\\\"text-align:right;\\\">5</td> <td class=\\\"cell-2\\\" style=\\\"\\\">http://channel.nationalgeographic.com/genius/videos/behind-the-scenes-filming-the-final-shot</td></tr>\\n<tr><td class=\\\"cell-1\\\" style=\\\"text-align:right;\\\">4</td> <td class=\\\"cell-2\\\" style=\\\"\\\">http://channel.nationalgeographic.com/genius/videos/unified-field-theory</td></tr>\\n<tr><td class=\\\"cell-1\\\" style=\\\"text-align:right;\\\">4</td> <td class=\\\"cell-2\\\" style=\\\"\\\">http://channel.nationalgeographic.com/genius/videos/genius-recap-the-last-chapter</td></tr>\\n<tr><td class=\\\"cell-1\\\" style=\\\"text-align:right;\\\">3</td> <td class=\\\"cell-2\\\" style=\\\"\\\">http://channel.nationalgeographic.com/genius/videos/genius-teaser-trailer1</td></tr>\\n<tr><td class=\\\"cell-1\\\" style=\\\"text-align:right;\\\">3</td> <td class=\\\"cell-2\\\" style=\\\"\\\">http://channel.nationalgeographic.com/genius/interactives/genius-thought-experiment</td></tr>\\n<tr><td class=\\\"cell-1\\\" style=\\\"text-align:right;\\\">2</td> <td class=\\\"cell-2\\\" style=\\\"\\\">http://channel.nationalgeographic.com/genius/videos/falling-in-love</td></tr>\\n<tr><td class=\\\"cell-1\\\" style=\\\"text-align:right;\\\">2</td> <td class=\\\"cell-2\\\" style=\\\"\\\">http://channel.nationalgeographic.com/genius/videos/time-is-but-a-stubborn-illusion</td></tr>\\n<tr><td class=\\\"cell-1\\\" style=\\\"text-align:right;\\\">2</td> <td class=\\\"cell-2\\\" style=\\\"\\\">http://channel.nationalgeographic.com/genius/videos/einstein-chapter-two</td></tr>\\n    \\n    <tr><td class=\\\"cell-1\\\" style=\\\"text-align:right;\\\">2</td> <td class=\\\"cell-2\\\" style=\\\"\\\">http://channel.nationalgeographic.com/genius/episodes/einstein-the-last-chapter</td></tr>\\n<tr><td class=\\\"cell-1\\\" style=\\\"text-align:right;\\\">2</td> <td class=\\\"cell-2\\\" style=\\\"\\\">http://channel.nationalgeographic.com/genius/videos/when-albert-met-mileva</td></tr>\\n<tr><td class=\\\"cell-1\\\" style=\\\"text-align:right;\\\">2</td> <td class=\\\"cell-2\\\" style=\\\"\\\">http://channel.nationalgeographic.com/genius/episodes/einstein-chapter-three</td></tr>\\n<tr><td class=\\\"cell-1\\\" style=\\\"text-align:right;\\\">2</td> <td class=\\\"cell-2\\\" style=\\\"\\\">http://channel.nationalgeographic.com/genius/episodes/einstein-chapter-eight</td></tr>\\n<tr><td class=\\\"cell-1\\\" style=\\\"text-align:right;\\\">2</td> <td class=\\\"cell-2\\\" style=\\\"\\\">http://channel.nationalgeographic.com/genius/galleries/einsteins-valentines/at/marie-winteler-2112874</td></tr>\\n<tr><td class=\\\"cell-1\\\" style=\\\"text-align:right;\\\">2</td> <td class=\\\"cell-2\\\" style=\\\"\\\">http://channel.nationalgeographic.com/genius/episodes/einstein-chapter-one</td></tr>\\n<tr><td class=\\\"cell-1\\\" style=\\\"text-align:right;\\\">2</td> <td class=\\\"cell-2\\\" style=\\\"\\\">http://channel.nationalgeographic.com/genius/videos/take-me-back</td></tr>\\n<tr><td class=\\\"cell-1\\\" style=\\\"text-align:right;\\\">1</td> <td class=\\\"cell-2\\\" style=\\\"\\\">http://channel.nationalgeographic.com/genius/videos/dazzle-us</td></tr>\\n<tr><td class=\\\"cell-1\\\" style=\\\"text-align:right;\\\">1</td> <td class=\\\"cell-2\\\" style=\\\"\\\">http://channel.nationalgeographic.com/genius/videos/einstein-chapter-nine</td></tr>\\n<tr><td class=\\\"cell-1\\\" style=\\\"text-align:right;\\\">1</td> <td class=\\\"cell-2\\\" style=\\\"\\\">http://channel.nationalgeographic.com/genius/videos/nasty-little-witch</td></tr>\\n<tr><td class=\\\"cell-1\\\" style=\\\"text-align:right;\\\">1</td> <td class=\\\"cell-2\\\" style=\\\"\\\">http://channel.nationalgeographic.com/genius/galleries/behind-the-scenes-of-genius/at/einsteins-violin-2112564</td></tr>\\n<tr><td class=\\\"cell-1\\\" style=\\\"text-align:right;\\\">1</td> <td class=\\\"cell-2\\\" style=\\\"\\\">http://channel.nationalgeographic.com/genius/videos/behind-the-scenes-sets-and-production-design</td></tr>\\n    </tbody>\\n\")"
      ]
     },
     "metadata": {},
     "output_type": "display_data"
    },
    {
     "data": {
      "text/html": [
       "<div class=\"dswbOutputText\"><h1 class=\"chart_title\" style=\"color:#ccc\">Top URL Page Views for Channel</h1><h3 class=\"chart_info\" style=\"color:#ccc\">November 28, 2017 06:59:00 to November 28, 2017 16:59:00 Local Time</h3><h3 class=\"chart_info\" style=\"color:#ccc\">URL: %channel.nationalgeographic.com/genius%</h3><h5 class=\"chart_lastCalled\" style=\"color:#ccc\">Run at November 29, 2017 15:39:17</h5></div>"
      ]
     },
     "metadata": {},
     "output_type": "display_data"
    },
    {
     "data": {
      "text/html": [
       "    <table  class=\"dataframe-table\">\n",
       "    <thead><tr><th class=\"cell-1\" style=\"\">Views</th> <th class=\"cell-2\" style=\"\">Url - With Grouping After Parameters Dropped</th></tr></thead>\n",
       "    <tbody>\n",
       "    <tr><td class=\"cell-1\" style=\"text-align:right;\">71</td> <td class=\"cell-2\" style=\"\">http://channel.nationalgeographic.com/genius/</td></tr>\n",
       "<tr><td class=\"cell-1\" style=\"text-align:right;\">23</td> <td class=\"cell-2\" style=\"\">http://channel.nationalgeographic.com/genius/videos/einstein-chapter-one1/</td></tr>\n",
       "<tr><td class=\"cell-1\" style=\"text-align:right;\">13</td> <td class=\"cell-2\" style=\"\">http://channel.nationalgeographic.com/genius/articles/einsteins-lost-child/</td></tr>\n",
       "<tr><td class=\"cell-1\" style=\"text-align:right;\">8</td> <td class=\"cell-2\" style=\"\">http://channel.nationalgeographic.com/genius/articles/a-first-look-at-genius/</td></tr>\n",
       "<tr><td class=\"cell-1\" style=\"text-align:right;\">7</td> <td class=\"cell-2\" style=\"\">http://channel.nationalgeographic.com/genius/articles/albert-einsteins-theory-of-infidelity/</td></tr>\n",
       "<tr><td class=\"cell-1\" style=\"text-align:right;\">5</td> <td class=\"cell-2\" style=\"\">http://channel.nationalgeographic.com/genius/videos/behind-the-scenes-filming-the-final-shot/</td></tr>\n",
       "<tr><td class=\"cell-1\" style=\"text-align:right;\">4</td> <td class=\"cell-2\" style=\"\">http://channel.nationalgeographic.com/genius/videos/unified-field-theory/</td></tr>\n",
       "<tr><td class=\"cell-1\" style=\"text-align:right;\">4</td> <td class=\"cell-2\" style=\"\">http://channel.nationalgeographic.com/genius/videos/genius-recap-the-last-chapter/</td></tr>\n",
       "<tr><td class=\"cell-1\" style=\"text-align:right;\">3</td> <td class=\"cell-2\" style=\"\">http://channel.nationalgeographic.com/genius/videos/genius-teaser-trailer1/</td></tr>\n",
       "<tr><td class=\"cell-1\" style=\"text-align:right;\">3</td> <td class=\"cell-2\" style=\"\">http://channel.nationalgeographic.com/genius/interactives/genius-thought-experiment/</td></tr>\n",
       "<tr><td class=\"cell-1\" style=\"text-align:right;\">2</td> <td class=\"cell-2\" style=\"\">http://channel.nationalgeographic.com/genius/videos/falling-in-love/</td></tr>\n",
       "<tr><td class=\"cell-1\" style=\"text-align:right;\">2</td> <td class=\"cell-2\" style=\"\">http://channel.nationalgeographic.com/genius/episodes/einstein-chapter-three/</td></tr>\n",
       "<tr><td class=\"cell-1\" style=\"text-align:right;\">2</td> <td class=\"cell-2\" style=\"\">http://channel.nationalgeographic.com/genius/videos/time-is-but-a-stubborn-illusion/</td></tr>\n",
       "    \n",
       "    <tr><td class=\"cell-1\" style=\"text-align:right;\">2</td> <td class=\"cell-2\" style=\"\">http://channel.nationalgeographic.com/genius/videos/einstein-chapter-two/</td></tr>\n",
       "<tr><td class=\"cell-1\" style=\"text-align:right;\">2</td> <td class=\"cell-2\" style=\"\">http://channel.nationalgeographic.com/genius/episodes/einstein-the-last-chapter/</td></tr>\n",
       "<tr><td class=\"cell-1\" style=\"text-align:right;\">2</td> <td class=\"cell-2\" style=\"\">http://channel.nationalgeographic.com/genius/videos/take-me-back/</td></tr>\n",
       "<tr><td class=\"cell-1\" style=\"text-align:right;\">2</td> <td class=\"cell-2\" style=\"\">http://channel.nationalgeographic.com/genius/videos/when-albert-met-mileva/</td></tr>\n",
       "<tr><td class=\"cell-1\" style=\"text-align:right;\">2</td> <td class=\"cell-2\" style=\"\">http://channel.nationalgeographic.com/genius/episodes/einstein-chapter-eight/</td></tr>\n",
       "<tr><td class=\"cell-1\" style=\"text-align:right;\">2</td> <td class=\"cell-2\" style=\"\">http://channel.nationalgeographic.com/genius/galleries/einsteins-valentines/at/marie-winteler-2112874/</td></tr>\n",
       "<tr><td class=\"cell-1\" style=\"text-align:right;\">1</td> <td class=\"cell-2\" style=\"\">http://channel.nationalgeographic.com/genius/videos/dazzle-us/</td></tr>\n",
       "<tr><td class=\"cell-1\" style=\"text-align:right;\">1</td> <td class=\"cell-2\" style=\"\">http://channel.nationalgeographic.com/genius/videos/behind-the-scenes-sets-and-production-design/</td></tr>\n",
       "<tr><td class=\"cell-1\" style=\"text-align:right;\">1</td> <td class=\"cell-2\" style=\"\">http://channel.nationalgeographic.com/genius/videos/einstein-chapter-nine/</td></tr>\n",
       "<tr><td class=\"cell-1\" style=\"text-align:right;\">1</td> <td class=\"cell-2\" style=\"\">http://channel.nationalgeographic.com/genius/videos/einstein-chapter-seven/</td></tr>\n",
       "<tr><td class=\"cell-1\" style=\"text-align:right;\">1</td> <td class=\"cell-2\" style=\"\">http://channel.nationalgeographic.com/genius/videos/nasty-little-witch/</td></tr>\n",
       "<tr><td class=\"cell-1\" style=\"text-align:right;\">1</td> <td class=\"cell-2\" style=\"\">http://channel.nationalgeographic.com/genius/galleries/einstein-on-music/at/quote-1-2112635/</td></tr>\n",
       "    </tbody>\n"
      ],
      "text/plain": [
       "HTML{UTF8String}(\"    <table  class=\\\"dataframe-table\\\">\\n    <thead><tr><th class=\\\"cell-1\\\" style=\\\"\\\">Views</th> <th class=\\\"cell-2\\\" style=\\\"\\\">Url - With Grouping After Parameters Dropped</th></tr></thead>\\n    <tbody>\\n    <tr><td class=\\\"cell-1\\\" style=\\\"text-align:right;\\\">71</td> <td class=\\\"cell-2\\\" style=\\\"\\\">http://channel.nationalgeographic.com/genius/</td></tr>\\n<tr><td class=\\\"cell-1\\\" style=\\\"text-align:right;\\\">23</td> <td class=\\\"cell-2\\\" style=\\\"\\\">http://channel.nationalgeographic.com/genius/videos/einstein-chapter-one1/</td></tr>\\n<tr><td class=\\\"cell-1\\\" style=\\\"text-align:right;\\\">13</td> <td class=\\\"cell-2\\\" style=\\\"\\\">http://channel.nationalgeographic.com/genius/articles/einsteins-lost-child/</td></tr>\\n<tr><td class=\\\"cell-1\\\" style=\\\"text-align:right;\\\">8</td> <td class=\\\"cell-2\\\" style=\\\"\\\">http://channel.nationalgeographic.com/genius/articles/a-first-look-at-genius/</td></tr>\\n<tr><td class=\\\"cell-1\\\" style=\\\"text-align:right;\\\">7</td> <td class=\\\"cell-2\\\" style=\\\"\\\">http://channel.nationalgeographic.com/genius/articles/albert-einsteins-theory-of-infidelity/</td></tr>\\n<tr><td class=\\\"cell-1\\\" style=\\\"text-align:right;\\\">5</td> <td class=\\\"cell-2\\\" style=\\\"\\\">http://channel.nationalgeographic.com/genius/videos/behind-the-scenes-filming-the-final-shot/</td></tr>\\n<tr><td class=\\\"cell-1\\\" style=\\\"text-align:right;\\\">4</td> <td class=\\\"cell-2\\\" style=\\\"\\\">http://channel.nationalgeographic.com/genius/videos/unified-field-theory/</td></tr>\\n<tr><td class=\\\"cell-1\\\" style=\\\"text-align:right;\\\">4</td> <td class=\\\"cell-2\\\" style=\\\"\\\">http://channel.nationalgeographic.com/genius/videos/genius-recap-the-last-chapter/</td></tr>\\n<tr><td class=\\\"cell-1\\\" style=\\\"text-align:right;\\\">3</td> <td class=\\\"cell-2\\\" style=\\\"\\\">http://channel.nationalgeographic.com/genius/videos/genius-teaser-trailer1/</td></tr>\\n<tr><td class=\\\"cell-1\\\" style=\\\"text-align:right;\\\">3</td> <td class=\\\"cell-2\\\" style=\\\"\\\">http://channel.nationalgeographic.com/genius/interactives/genius-thought-experiment/</td></tr>\\n<tr><td class=\\\"cell-1\\\" style=\\\"text-align:right;\\\">2</td> <td class=\\\"cell-2\\\" style=\\\"\\\">http://channel.nationalgeographic.com/genius/videos/falling-in-love/</td></tr>\\n<tr><td class=\\\"cell-1\\\" style=\\\"text-align:right;\\\">2</td> <td class=\\\"cell-2\\\" style=\\\"\\\">http://channel.nationalgeographic.com/genius/episodes/einstein-chapter-three/</td></tr>\\n<tr><td class=\\\"cell-1\\\" style=\\\"text-align:right;\\\">2</td> <td class=\\\"cell-2\\\" style=\\\"\\\">http://channel.nationalgeographic.com/genius/videos/time-is-but-a-stubborn-illusion/</td></tr>\\n    \\n    <tr><td class=\\\"cell-1\\\" style=\\\"text-align:right;\\\">2</td> <td class=\\\"cell-2\\\" style=\\\"\\\">http://channel.nationalgeographic.com/genius/videos/einstein-chapter-two/</td></tr>\\n<tr><td class=\\\"cell-1\\\" style=\\\"text-align:right;\\\">2</td> <td class=\\\"cell-2\\\" style=\\\"\\\">http://channel.nationalgeographic.com/genius/episodes/einstein-the-last-chapter/</td></tr>\\n<tr><td class=\\\"cell-1\\\" style=\\\"text-align:right;\\\">2</td> <td class=\\\"cell-2\\\" style=\\\"\\\">http://channel.nationalgeographic.com/genius/videos/take-me-back/</td></tr>\\n<tr><td class=\\\"cell-1\\\" style=\\\"text-align:right;\\\">2</td> <td class=\\\"cell-2\\\" style=\\\"\\\">http://channel.nationalgeographic.com/genius/videos/when-albert-met-mileva/</td></tr>\\n<tr><td class=\\\"cell-1\\\" style=\\\"text-align:right;\\\">2</td> <td class=\\\"cell-2\\\" style=\\\"\\\">http://channel.nationalgeographic.com/genius/episodes/einstein-chapter-eight/</td></tr>\\n<tr><td class=\\\"cell-1\\\" style=\\\"text-align:right;\\\">2</td> <td class=\\\"cell-2\\\" style=\\\"\\\">http://channel.nationalgeographic.com/genius/galleries/einsteins-valentines/at/marie-winteler-2112874/</td></tr>\\n<tr><td class=\\\"cell-1\\\" style=\\\"text-align:right;\\\">1</td> <td class=\\\"cell-2\\\" style=\\\"\\\">http://channel.nationalgeographic.com/genius/videos/dazzle-us/</td></tr>\\n<tr><td class=\\\"cell-1\\\" style=\\\"text-align:right;\\\">1</td> <td class=\\\"cell-2\\\" style=\\\"\\\">http://channel.nationalgeographic.com/genius/videos/behind-the-scenes-sets-and-production-design/</td></tr>\\n<tr><td class=\\\"cell-1\\\" style=\\\"text-align:right;\\\">1</td> <td class=\\\"cell-2\\\" style=\\\"\\\">http://channel.nationalgeographic.com/genius/videos/einstein-chapter-nine/</td></tr>\\n<tr><td class=\\\"cell-1\\\" style=\\\"text-align:right;\\\">1</td> <td class=\\\"cell-2\\\" style=\\\"\\\">http://channel.nationalgeographic.com/genius/videos/einstein-chapter-seven/</td></tr>\\n<tr><td class=\\\"cell-1\\\" style=\\\"text-align:right;\\\">1</td> <td class=\\\"cell-2\\\" style=\\\"\\\">http://channel.nationalgeographic.com/genius/videos/nasty-little-witch/</td></tr>\\n<tr><td class=\\\"cell-1\\\" style=\\\"text-align:right;\\\">1</td> <td class=\\\"cell-2\\\" style=\\\"\\\">http://channel.nationalgeographic.com/genius/galleries/einstein-on-music/at/quote-1-2112635/</td></tr>\\n    </tbody>\\n\")"
      ]
     },
     "metadata": {},
     "output_type": "display_data"
    },
    {
     "data": {
      "text/html": [
       "<div class=\"dswbOutputText\"><h1 class=\"chart_title\" style=\"color:#ccc\">Median Load Times by url</h1><h3 class=\"chart_info\" style=\"color:#ccc\">Stacked Back-end and Front-end Load Times</h3><h3 class=\"chart_info\" style=\"color:#ccc\">From November 28, 2017 11:59:00 to November 28, 2017 21:59:00</h3><h5 class=\"chart_lastCalled\" style=\"color:#ccc\">Run at November 29, 2017 15:39:23</h5></div>"
      ]
     },
     "metadata": {},
     "output_type": "display_data"
    },
    {
     "data": {
      "text/html": [
       "    <iframe id=\"timeSeries-NWSNPXVCPPIKPMSPMJNXGMIDHOGFQPHG\" class=\"dswbiframe\" width=\"100%\" height=\"600\" src=\"about:blank\" scrolling=\"no\"></iframe>\n",
       "    <script>\n",
       "    (function() {\n",
       "        var iframe = document.getElementById(\"timeSeries-NWSNPXVCPPIKPMSPMJNXGMIDHOGFQPHG\");\n",
       "        iframe.timeSeriesRendererLoaded = function(runner) {\n",
       "            iframe.runner = runner;\n",
       "            iframe.runner([[\"x\",\"https://news.nationalgeographic.com/\",\"https://www.nationalgeographic.com/\",\"http://m.yourshot.nationalgeographic.com/\",\"http://channel.nationalgeographic.com/\",\"https://video.nationalgeographic.com/\",\"http://travel.nationalgeographic.com/\",\"http://photography.nationalgeographic.com/\",\"http://yourshot.nationalgeographic.com/\",\"https://kids.nationalgeographic.com/\",\"https://members.nationalgeographic.com/\"],[\"data1\",582.0,436.0,739.0,363.0,658.0,689.5,646.0,777.0,179.0,318.0],[\"data2\",9786.0,7838.0,5655.5,5874.0,5330.0,5102.5,4415.0,4098.0,3746.0,3329.0]],\n",
       "                [\"Back End Load Time\",\"Front end Load Time\"],\n",
       "                [\"url\",\"Load Times (ms)\"],\n",
       "                [\"bar\",\"bar\"],\n",
       "                [\"hsla(130, 61%, 50%, 0.9)\",\"hsla(214, 86%, 60%, 0.9)\"],\n",
       "                [[\"data1\",\"data2\"]],\n",
       "                [],\n",
       "                \"\",\n",
       "                [],\n",
       "                {\"axis_y_min\":0}\n",
       "            );\n",
       "        }\n",
       "        iframe.src = \"/static/graphs/templates/c3VizRotated_template.html#id=timeSeries-NWSNPXVCPPIKPMSPMJNXGMIDHOGFQPHG\";\n",
       "    }());\n",
       "    </script>\n"
      ]
     },
     "metadata": {},
     "output_type": "display_data"
    },
    {
     "data": {
      "text/html": [
       "<div class=\"dswbOutputText\"><h1 class=\"chart_title\" style=\"color:#ccc\">Median Load Times by params_u</h1><h3 class=\"chart_info\" style=\"color:#ccc\">Stacked Back-end and Front-end Load Times</h3><h3 class=\"chart_info\" style=\"color:#ccc\">From November 28, 2017 11:59:00 to November 28, 2017 21:59:00</h3><h5 class=\"chart_lastCalled\" style=\"color:#ccc\">Run at November 29, 2017 15:39:33</h5></div>"
      ]
     },
     "metadata": {},
     "output_type": "display_data"
    },
    {
     "data": {
      "text/html": [
       "    <iframe id=\"timeSeries-HPJFPEGOKZIMZINUSERVWQMTPXLXDJVF\" class=\"dswbiframe\" width=\"100%\" height=\"600\" src=\"about:blank\" scrolling=\"no\"></iframe>\n",
       "    <script>\n",
       "    (function() {\n",
       "        var iframe = document.getElementById(\"timeSeries-HPJFPEGOKZIMZINUSERVWQMTPXLXDJVF\");\n",
       "        iframe.timeSeriesRendererLoaded = function(runner) {\n",
       "            iframe.runner = runner;\n",
       "            iframe.runner([[\"x\",\"https://news.nationalgeographic.com/2017/11/pets-animals-john-bradshaw/?utm_source=Facebook&utm_medium=Social&utm_campaign=NEWS&utm_content=link_fbwd20171128NEWSpetsanimalsjohnbradshaw&sf174492059=1\",\"https://news.nationalgeographic.com/2017/11/jesus-tomb-archaeology-jerusalem-christianity-rome/?utm_source=Facebook&utm_medium=Social&utm_content=link_fb20171128news-jesustombdate&utm_campaign=Content&sf174540048=1\",\"https://news.nationalgeographic.com/2017/11/mount-agung-bali-indonesia-eruption-mudflow-spd/?utm_source=Facebook&utm_medium=Social&utm_content=link_fb20171127news-balivolcano&utm_campaign=Content&sf174484525=1\",\"https://news.nationalgeographic.com/2017/11/jesus-tomb-archaeology-jerusalem-christianity-rome/?utm_source=Facebook&utm_medium=Social&utm_content=link_fb20171128news-jesustombdate&utm_campaign=Content&sf174539581=1\",\"https://news.nationalgeographic.com/2017/11/how-to-see-brightest-supermoon-2017-december-space-science/?utm_source=Facebook&utm_medium=Social&utm_content=link_fb20171127news-supermoon&utm_campaign=Content&sf174424859=1\",\"https://news.nationalgeographic.com/2016/10/spanish-galgo-hunting-dog-killing-welfare/?utm_source=Facebook&utm_medium=Social&utm_content=link_fb20171127news-resurfspanishdogs&utm_campaign=Content&sf173855060=1\",\"http://channel.nationalgeographic.com/original-sin-sex/videos/sex-scandals-in-france/\",\"https://news.nationalgeographic.com/2016/05/160506-death-funeral-burial-cremation-conservation/?utm_source=Facebook&utm_medium=Social&utm_content=link_fb20171125news-resurfcrematedremains5&utm_campaign=Content&sf173864074=1\",\"https://www.nationalgeographic.com/photography/proof/2017/11/aerial-animal-photos/?utm_source=Facebook&utm_medium=Social&utm_content=link_fbp20171128photo-aerialanimalsgallery&utm_campaign=Content&sf174496528=1\",\"https://www.nationalgeographic.com/photography/proof/2017/11/aerial-animal-photos/?utm_source=Facebook&utm_medium=Social&utm_content=link_fb20171127photo-aerialanimals&utm_campaign=Content&sf174486770=1\",\"https://news.nationalgeographic.com/2017/11/pets-animals-john-bradshaw/?utm_source=Facebook&utm_medium=Social&utm_content=link_fb20171127news-petsbooktalk&utm_campaign=Content&sf174448467=1\",\"https://news.nationalgeographic.com/2017/04/pk-mahanandia-cycle-india-sweden-love-untouchable/?utm_source=Facebook&utm_medium=Social&utm_content=link_fbt20171128news-indiaswedenlove&utm_campaign=Content&sf174574469=1\",\"https://www.nationalgeographic.com/environment/natural-disasters/volcanoes/\",\"http://channel.nationalgeographic.com/original-sin-sex/videos/sex-myths/\",\"https://www.nationalgeographic.com/magazine/2017/12/jesus-tomb-archaeology/?utm_source=Twitter&utm_medium=Social&utm_content=link_tw20171128ngm-jesusarchaeology&utm_campaign=Content&sf174578560=1\",\"https://news.nationalgeographic.com/2016/06/largest-dam-removal-elwha-river-restoration-environment/?utm_source=Facebook&utm_medium=Social&utm_content=link_fb20171127news-resurfelwhariver&utm_campaign=Content&sf173855112=1\",\"https://www.nationalgeographic.com/environment/global-warming/deforestation/\",\"https://www.nationalgeographic.com/environment/global-warming/pollution/\",\"https://www.nationalgeographic.com/photography/proof/2017/11/aerial-animal-photos/?utm_source=Instagram&utm_medium=Social&utm_content=link_ig20171128animalsfromabove&utm_campaign=naturephotographercontest\",\"https://www.nationalgeographic.com/environment/global-warming/global-warming-effects/\"],[\"data1\",1206.0,1028.0,1174.0,939.0,952.0,1136.5,445.0,1087.5,1083.5,1014.0,980.0,1052.0,271.5,397.0,844.0,951.0,331.0,323.0,449.0,330.0],[\"data2\",15863.5,15222.0,14842.0,14785.0,14631.0,14369.0,14277.0,12919.5,12534.5,12588.0,12253.0,12106.0,12587.0,12428.0,11970.5,11793.0,12337.5,11803.5,11324.5,11216.0]],\n",
       "                [\"Back End Load Time\",\"Front end Load Time\"],\n",
       "                [\"params_u\",\"Load Times (ms)\"],\n",
       "                [\"bar\",\"bar\"],\n",
       "                [\"hsla(130, 61%, 50%, 0.9)\",\"hsla(214, 86%, 60%, 0.9)\"],\n",
       "                [[\"data1\",\"data2\"]],\n",
       "                [],\n",
       "                \"\",\n",
       "                [],\n",
       "                {\"axis_y_min\":0}\n",
       "            );\n",
       "        }\n",
       "        iframe.src = \"/static/graphs/templates/c3VizRotated_template.html#id=timeSeries-HPJFPEGOKZIMZINUSERVWQMTPXLXDJVF\";\n",
       "    }());\n",
       "    </script>\n"
      ]
     },
     "metadata": {},
     "output_type": "display_data"
    },
    {
     "name": "stdout",
     "output_type": "stream",
     "text": [
      "14220,27)\n"
     ]
    },
    {
     "ename": "LoadError",
     "evalue": "ArgumentError: Length of nms doesn't match length of x.",
     "output_type": "error",
     "traceback": [
      "ArgumentError: Length of nms doesn't match length of x.",
      "",
      " in names! at /home/ubuntu/.julia/v0.4/DataFrames/src/other/index.jl:28",
      " in names! at /home/ubuntu/.julia/v0.4/DataFrames/src/abstractdataframe/abstractdataframe.jl:129",
      " in getBounceRateByLoadTime at /home/ubuntu/datascienceworkbench/lib/Modules/DSWBAnalysis/src/DSWBAnalysis.jl:4261",
      " in chartBouncesVsLoadTimes at /home/ubuntu/datascienceworkbench/lib/Modules/DSWBCharting/src/DSWBCharting.jl:898",
      " in urlDetailsWorkflow at /data/notebook_home/NGP-DSWB-Chris/Lib/Workflow-Package-v2.1.jl:373"
     ]
    }
   ],
   "source": [
    "urlDetailsWorkflow(TV,UP,SP)\n",
    ";"
   ]
  },
  {
   "cell_type": "code",
   "execution_count": null,
   "metadata": {
    "collapsed": true,
    "input_collapsed": false
   },
   "outputs": [],
   "source": []
  }
 ],
 "metadata": {
  "chart_version": "1.0.0",
  "kernelspec": {
   "display_name": "Julia 0.4.7",
   "language": "julia",
   "name": "julia-0.4"
  },
  "language_info": {
   "file_extension": ".jl",
   "mimetype": "application/julia",
   "name": "julia",
   "version": "0.4.7"
  },
  "library_version": "1.0.0",
  "notebook_uuid": "167136ea-23c4-41b2-a2e1-ba27c3ef7e37",
  "readOnly": false
 },
 "nbformat": 4,
 "nbformat_minor": 0
}
