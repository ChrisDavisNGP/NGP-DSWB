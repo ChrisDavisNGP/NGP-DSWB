{
 "cells": [
  {
   "cell_type": "markdown",
   "metadata": {},
   "source": [
    "## Tables and Data Source setup"
   ]
  },
  {
   "cell_type": "code",
   "execution_count": 1,
   "metadata": {
    "collapsed": false,
    "input_collapsed": false,
    "scrolled": true
   },
   "outputs": [
    {
     "name": "stdout",
     "output_type": "stream",
     "text": [
      "Redshift endpoint set: 2017-11-06T11:30:53\n"
     ]
    },
    {
     "data": {
      "text/plain": [
       "\"beacons_4744\""
      ]
     },
     "execution_count": 1,
     "metadata": {},
     "output_type": "execute_result"
    }
   ],
   "source": [
    "using ODBC\n",
    "using DataFrames\n",
    "using DSWB\n",
    "using Formatting\n",
    "\n",
    "dsn = \"dswb-natgeo\" # Redshift endpoint\n",
    "table = \"beacons_4744\" # beacon table name\n",
    "tableRt = \"beacons_4744_rt\"\n",
    "\n",
    "# Connect to Beacon Data\n",
    "setRedshiftEndpoint(dsn)\n",
    "setTable(table)\n",
    "# setTable(tableRt, tableType = \"RESOURCE_TABLE\")"
   ]
  },
  {
   "cell_type": "code",
   "execution_count": 2,
   "metadata": {
    "collapsed": false,
    "input_collapsed": false
   },
   "outputs": [
    {
     "name": "stdout",
     "output_type": "stream",
     "text": [
      "November 4, 2017 23:59:00 to November 5, 2017 23:59:00 Local Time\n",
      "November 5, 2017 03:59:00 to November 6, 2017 04:59:00 UTC Time\n"
     ]
    }
   ],
   "source": [
    "# Packages\n",
    "include(\"/data/notebook_home/Production/Lib/Include-Package-v1.0.jl\")\n",
    "include(\"/data/notebook_home/Production/Bodies/Find-Top-WPF-Pages-Body-v1.0.jl\")\n",
    "\n",
    "TV = weeklyTimeVariables(days=1)\n",
    "#TV = timeVariables(2017,6,8,10,59,2017,6,8,12,59)\n",
    "#TV = yesterdayTimeVariables()\n"
   ]
  },
  {
   "cell_type": "code",
   "execution_count": 3,
   "metadata": {
    "collapsed": true,
    "input_collapsed": false
   },
   "outputs": [],
   "source": [
    "UP = UrlParamsInit()\n",
    "UP.beaconTable = table   #table\n",
    "UP.resourceTable = tableRt\n",
    "UP.btView = \"$(table)_wpf_pview_prod\" #localtable\n",
    "UP.rtView = \"$(tableRt)_wpf_pview_prod\" #localtableRt\n",
    "UP.pageGroup = \"%\"   #productPageGroup\n",
    "UP.urlRegEx = \"%\"   #localUrl\n",
    "UP.deviceType = \"%\"\n",
    "\n",
    "SG = SoastaGraphsInit()\n",
    "customer = \"Nat Geo\" \n",
    "SG.customer = customer\n",
    ";"
   ]
  },
  {
   "cell_type": "code",
   "execution_count": 4,
   "metadata": {
    "collapsed": false,
    "input_collapsed": false,
    "scrolled": true
   },
   "outputs": [
    {
     "data": {
      "text/plain": [
       "wpfLimitedTable (generic function with 1 method)"
      ]
     },
     "execution_count": 4,
     "metadata": {},
     "output_type": "execute_result"
    }
   ],
   "source": [
    "function wpfLimitedTable(localTable::ASCIIString,table::ASCIIString,productPageGroup::ASCIIString,startTimeMs::Int64, endTimeMs::Int64)\n",
    "    try\n",
    "        query(\"\"\"\\\n",
    "            drop view if exists $localTable\n",
    "        \"\"\")\n",
    "        \n",
    "        query(\"\"\"\\\n",
    "            create or replace view $localTable as \n",
    "                (select * from $table where\n",
    "                    beacon_type = 'page view'\n",
    "                    and \"timestamp\" between $startTimeMs and $endTimeMs\n",
    "                    and page_group = '$(productPageGroup)'\n",
    "                )\n",
    "        \"\"\")\n",
    "\n",
    "    catch y\n",
    "        println(\"unLimitedTable Exception\",y)\n",
    "    end\n",
    "end\n",
    "\n"
   ]
  },
  {
   "cell_type": "code",
   "execution_count": 9,
   "metadata": {
    "collapsed": false,
    "input_collapsed": false,
    "scrolled": false
   },
   "outputs": [
    {
     "data": {
      "text/html": [
       "<div class=\"dswbOutputText\"><h1 class=\"chart_title\" style=\"color:#ccc\">Missing Groups</h1></div>"
      ]
     },
     "metadata": {},
     "output_type": "display_data"
    },
    {
     "data": {
      "text/html": [
       "<div class=\"dswbOutputText\"><h1 class=\"chart_title\" style=\"color:#ccc\">Top 10000 (min 0) URLs for Channel Microsite</h1><h3 class=\"chart_info\" style=\"color:#ccc\">Note: If you see AEM URL's in this list tell Chris Davis</h3><h3 class=\"chart_info\" style=\"color:#ccc\">November 4, 2017 23:59:00 to November 5, 2017 23:59:00 Local Time</h3></div>"
      ]
     },
     "metadata": {},
     "output_type": "display_data"
    },
    {
     "data": {
      "text/html": [
       "    <table  class=\"dataframe-table\">\n",
       "    <thead><tr><th class=\"cell-1\" style=\"\">Views</th> <th class=\"cell-2\" style=\"\">Url - Channel Microsite</th></tr></thead>\n",
       "    <tbody>\n",
       "    <tr><td class=\"cell-1\" style=\"text-align:right;\">1,410</td> <td class=\"cell-2\" style=\"\">https://www.nationalgeographic.com/jane-the-movie</td></tr>\n",
       "<tr><td class=\"cell-1\" style=\"text-align:right;\">1,162</td> <td class=\"cell-2\" style=\"\">https://www.nationalgeographic.com/jane-the-movie/screenings</td></tr>\n",
       "<tr><td class=\"cell-1\" style=\"text-align:right;\">86</td> <td class=\"cell-2\" style=\"\">https://createyourcover.nationalgeographic.com</td></tr>\n",
       "<tr><td class=\"cell-1\" style=\"text-align:right;\">54</td> <td class=\"cell-2\" style=\"\">http://breakthrough.nationalgeographic.com</td></tr>\n",
       "<tr><td class=\"cell-1\" style=\"text-align:right;\">45</td> <td class=\"cell-2\" style=\"\">https://www.nationalgeographic.com/jane-the-movie/resources</td></tr>\n",
       "<tr><td class=\"cell-1\" style=\"text-align:right;\">31</td> <td class=\"cell-2\" style=\"\">http://killingjesus.nationalgeographic.com</td></tr>\n",
       "<tr><td class=\"cell-1\" style=\"text-align:right;\">24</td> <td class=\"cell-2\" style=\"\">https://createyourcover.nationalgeographic.com/create</td></tr>\n",
       "<tr><td class=\"cell-1\" style=\"text-align:right;\">20</td> <td class=\"cell-2\" style=\"\">https://www.nationalgeographic.com/jane-the-movie/press</td></tr>\n",
       "<tr><td class=\"cell-1\" style=\"text-align:right;\">9</td> <td class=\"cell-2\" style=\"\">https://www.nationalgeographic.com/jane-the-movie/hollywood-bowl</td></tr>\n",
       "<tr><td class=\"cell-1\" style=\"text-align:right;\">6</td> <td class=\"cell-2\" style=\"\">http://storyofgod.nationalgeographic.com/miracles/globe</td></tr>\n",
       "<tr><td class=\"cell-1\" style=\"text-align:right;\">3</td> <td class=\"cell-2\" style=\"\">http://breakthrough.nationalgeographic.com/human</td></tr>\n",
       "    \n",
       "    <tr><td class=\"cell-1\" style=\"text-align:right;\">3</td> <td class=\"cell-2\" style=\"\">http://breakthrough.nationalgeographic.com/aging</td></tr>\n",
       "<tr><td class=\"cell-1\" style=\"text-align:right;\">3</td> <td class=\"cell-2\" style=\"\">http://saintsandstrangers.nationalgeographic.com</td></tr>\n",
       "<tr><td class=\"cell-1\" style=\"text-align:right;\">3</td> <td class=\"cell-2\" style=\"\">http://breakthrough.nationalgeographic.com/aging/aging-drugs</td></tr>\n",
       "<tr><td class=\"cell-1\" style=\"text-align:right;\">2</td> <td class=\"cell-2\" style=\"\">http://storyofgod.nationalgeographic.com/evil/globe</td></tr>\n",
       "<tr><td class=\"cell-1\" style=\"text-align:right;\">2</td> <td class=\"cell-2\" style=\"\">http://storyofgod.nationalgeographic.com/beyond-death/globe</td></tr>\n",
       "<tr><td class=\"cell-1\" style=\"text-align:right;\">2</td> <td class=\"cell-2\" style=\"\">http://saintsandstrangers.nationalgeographic.com/manifest.html</td></tr>\n",
       "<tr><td class=\"cell-1\" style=\"text-align:right;\">2</td> <td class=\"cell-2\" style=\"\">http://storyofgod.nationalgeographic.com/miracles/globe/newyork-newyork-solow-tower</td></tr>\n",
       "<tr><td class=\"cell-1\" style=\"text-align:right;\">1</td> <td class=\"cell-2\" style=\"\">http://storyofgod.nationalgeographic.com/apocalypse/globe</td></tr>\n",
       "<tr><td class=\"cell-1\" style=\"text-align:right;\">1</td> <td class=\"cell-2\" style=\"\">http://breakthrough.nationalgeographic.com/brain</td></tr>\n",
       "<tr><td class=\"cell-1\" style=\"text-align:right;\">1</td> <td class=\"cell-2\" style=\"\">http://www.nationalgeographic.com/jane-the-movie/screenings</td></tr>\n",
       "<tr><td class=\"cell-1\" style=\"text-align:right;\">1</td> <td class=\"cell-2\" style=\"\">http://storyofgod.nationalgeographic.com/who-is-god/globe</td></tr>\n",
       "    </tbody>\n"
      ],
      "text/plain": [
       "HTML{UTF8String}(\"    <table  class=\\\"dataframe-table\\\">\\n    <thead><tr><th class=\\\"cell-1\\\" style=\\\"\\\">Views</th> <th class=\\\"cell-2\\\" style=\\\"\\\">Url - Channel Microsite</th></tr></thead>\\n    <tbody>\\n    <tr><td class=\\\"cell-1\\\" style=\\\"text-align:right;\\\">1,410</td> <td class=\\\"cell-2\\\" style=\\\"\\\">https://www.nationalgeographic.com/jane-the-movie</td></tr>\\n<tr><td class=\\\"cell-1\\\" style=\\\"text-align:right;\\\">1,162</td> <td class=\\\"cell-2\\\" style=\\\"\\\">https://www.nationalgeographic.com/jane-the-movie/screenings</td></tr>\\n<tr><td class=\\\"cell-1\\\" style=\\\"text-align:right;\\\">86</td> <td class=\\\"cell-2\\\" style=\\\"\\\">https://createyourcover.nationalgeographic.com</td></tr>\\n<tr><td class=\\\"cell-1\\\" style=\\\"text-align:right;\\\">54</td> <td class=\\\"cell-2\\\" style=\\\"\\\">http://breakthrough.nationalgeographic.com</td></tr>\\n<tr><td class=\\\"cell-1\\\" style=\\\"text-align:right;\\\">45</td> <td class=\\\"cell-2\\\" style=\\\"\\\">https://www.nationalgeographic.com/jane-the-movie/resources</td></tr>\\n<tr><td class=\\\"cell-1\\\" style=\\\"text-align:right;\\\">31</td> <td class=\\\"cell-2\\\" style=\\\"\\\">http://killingjesus.nationalgeographic.com</td></tr>\\n<tr><td class=\\\"cell-1\\\" style=\\\"text-align:right;\\\">24</td> <td class=\\\"cell-2\\\" style=\\\"\\\">https://createyourcover.nationalgeographic.com/create</td></tr>\\n<tr><td class=\\\"cell-1\\\" style=\\\"text-align:right;\\\">20</td> <td class=\\\"cell-2\\\" style=\\\"\\\">https://www.nationalgeographic.com/jane-the-movie/press</td></tr>\\n<tr><td class=\\\"cell-1\\\" style=\\\"text-align:right;\\\">9</td> <td class=\\\"cell-2\\\" style=\\\"\\\">https://www.nationalgeographic.com/jane-the-movie/hollywood-bowl</td></tr>\\n<tr><td class=\\\"cell-1\\\" style=\\\"text-align:right;\\\">6</td> <td class=\\\"cell-2\\\" style=\\\"\\\">http://storyofgod.nationalgeographic.com/miracles/globe</td></tr>\\n<tr><td class=\\\"cell-1\\\" style=\\\"text-align:right;\\\">3</td> <td class=\\\"cell-2\\\" style=\\\"\\\">http://breakthrough.nationalgeographic.com/human</td></tr>\\n    \\n    <tr><td class=\\\"cell-1\\\" style=\\\"text-align:right;\\\">3</td> <td class=\\\"cell-2\\\" style=\\\"\\\">http://breakthrough.nationalgeographic.com/aging</td></tr>\\n<tr><td class=\\\"cell-1\\\" style=\\\"text-align:right;\\\">3</td> <td class=\\\"cell-2\\\" style=\\\"\\\">http://saintsandstrangers.nationalgeographic.com</td></tr>\\n<tr><td class=\\\"cell-1\\\" style=\\\"text-align:right;\\\">3</td> <td class=\\\"cell-2\\\" style=\\\"\\\">http://breakthrough.nationalgeographic.com/aging/aging-drugs</td></tr>\\n<tr><td class=\\\"cell-1\\\" style=\\\"text-align:right;\\\">2</td> <td class=\\\"cell-2\\\" style=\\\"\\\">http://storyofgod.nationalgeographic.com/evil/globe</td></tr>\\n<tr><td class=\\\"cell-1\\\" style=\\\"text-align:right;\\\">2</td> <td class=\\\"cell-2\\\" style=\\\"\\\">http://storyofgod.nationalgeographic.com/beyond-death/globe</td></tr>\\n<tr><td class=\\\"cell-1\\\" style=\\\"text-align:right;\\\">2</td> <td class=\\\"cell-2\\\" style=\\\"\\\">http://saintsandstrangers.nationalgeographic.com/manifest.html</td></tr>\\n<tr><td class=\\\"cell-1\\\" style=\\\"text-align:right;\\\">2</td> <td class=\\\"cell-2\\\" style=\\\"\\\">http://storyofgod.nationalgeographic.com/miracles/globe/newyork-newyork-solow-tower</td></tr>\\n<tr><td class=\\\"cell-1\\\" style=\\\"text-align:right;\\\">1</td> <td class=\\\"cell-2\\\" style=\\\"\\\">http://storyofgod.nationalgeographic.com/apocalypse/globe</td></tr>\\n<tr><td class=\\\"cell-1\\\" style=\\\"text-align:right;\\\">1</td> <td class=\\\"cell-2\\\" style=\\\"\\\">http://breakthrough.nationalgeographic.com/brain</td></tr>\\n<tr><td class=\\\"cell-1\\\" style=\\\"text-align:right;\\\">1</td> <td class=\\\"cell-2\\\" style=\\\"\\\">http://www.nationalgeographic.com/jane-the-movie/screenings</td></tr>\\n<tr><td class=\\\"cell-1\\\" style=\\\"text-align:right;\\\">1</td> <td class=\\\"cell-2\\\" style=\\\"\\\">http://storyofgod.nationalgeographic.com/who-is-god/globe</td></tr>\\n    </tbody>\\n\")"
      ]
     },
     "metadata": {},
     "output_type": "display_data"
    },
    {
     "data": {
      "text/html": [
       "<div class=\"dswbOutputText\"><h1 class=\"chart_title\" style=\"color:#ccc\">Top 10000 (min 100) URLs for Cheeta NGM</h1><h3 class=\"chart_info\" style=\"color:#ccc\">Note: If you see AEM URL's in this list tell Chris Davis</h3><h3 class=\"chart_info\" style=\"color:#ccc\">November 4, 2017 23:59:00 to November 5, 2017 23:59:00 Local Time</h3></div>"
      ]
     },
     "metadata": {},
     "output_type": "display_data"
    },
    {
     "data": {
      "text/html": [
       "    <table  class=\"dataframe-table\">\n",
       "    <thead><tr><th class=\"cell-1\" style=\"\">Views</th> <th class=\"cell-2\" style=\"\">Url - Cheeta NGM</th></tr></thead>\n",
       "    <tbody>\n",
       "    <tr><td class=\"cell-1\" style=\"text-align:right;\">2,335</td> <td class=\"cell-2\" style=\"\">https://ngmdomsubs.nationalgeographic.com/servlet/Show</td></tr>\n",
       "<tr><td class=\"cell-1\" style=\"text-align:right;\">266</td> <td class=\"cell-2\" style=\"\">https://ngmintlsubs.nationalgeographic.com/servlet/Show</td></tr>\n",
       "<tr><td class=\"cell-1\" style=\"text-align:right;\">187</td> <td class=\"cell-2\" style=\"\">http://ngm.nationalgeographic.com/2007/05/jamestown/jamestown-standalone</td></tr>\n",
       "<tr><td class=\"cell-1\" style=\"text-align:right;\">175</td> <td class=\"cell-2\" style=\"\">http://ngm.nationalgeographic.com/2014/02/il-duomo/mueller-text</td></tr>\n",
       "    \n",
       "    <tr><td class=\"cell-1\" style=\"text-align:right;\">148</td> <td class=\"cell-2\" style=\"\">http://ngm.nationalgeographic.com/2014/08/franz-josef-land/quammen-text</td></tr>\n",
       "<tr><td class=\"cell-1\" style=\"text-align:right;\">133</td> <td class=\"cell-2\" style=\"\">http://ngm.nationalgeographic.com/2012/02/lost-da-vinci/o-neill-text</td></tr>\n",
       "<tr><td class=\"cell-1\" style=\"text-align:right;\">104</td> <td class=\"cell-2\" style=\"\">http://ngm.nationalgeographic.com/2013/10/changing-faces/funderburg-text</td></tr>\n",
       "<tr><td class=\"cell-1\" style=\"text-align:right;\">103</td> <td class=\"cell-2\" style=\"\">http://ngm.nationalgeographic.com/2013/10/power-of-photography/draper-text</td></tr>\n",
       "    </tbody>\n"
      ],
      "text/plain": [
       "HTML{UTF8String}(\"    <table  class=\\\"dataframe-table\\\">\\n    <thead><tr><th class=\\\"cell-1\\\" style=\\\"\\\">Views</th> <th class=\\\"cell-2\\\" style=\\\"\\\">Url - Cheeta NGM</th></tr></thead>\\n    <tbody>\\n    <tr><td class=\\\"cell-1\\\" style=\\\"text-align:right;\\\">2,335</td> <td class=\\\"cell-2\\\" style=\\\"\\\">https://ngmdomsubs.nationalgeographic.com/servlet/Show</td></tr>\\n<tr><td class=\\\"cell-1\\\" style=\\\"text-align:right;\\\">266</td> <td class=\\\"cell-2\\\" style=\\\"\\\">https://ngmintlsubs.nationalgeographic.com/servlet/Show</td></tr>\\n<tr><td class=\\\"cell-1\\\" style=\\\"text-align:right;\\\">187</td> <td class=\\\"cell-2\\\" style=\\\"\\\">http://ngm.nationalgeographic.com/2007/05/jamestown/jamestown-standalone</td></tr>\\n<tr><td class=\\\"cell-1\\\" style=\\\"text-align:right;\\\">175</td> <td class=\\\"cell-2\\\" style=\\\"\\\">http://ngm.nationalgeographic.com/2014/02/il-duomo/mueller-text</td></tr>\\n    \\n    <tr><td class=\\\"cell-1\\\" style=\\\"text-align:right;\\\">148</td> <td class=\\\"cell-2\\\" style=\\\"\\\">http://ngm.nationalgeographic.com/2014/08/franz-josef-land/quammen-text</td></tr>\\n<tr><td class=\\\"cell-1\\\" style=\\\"text-align:right;\\\">133</td> <td class=\\\"cell-2\\\" style=\\\"\\\">http://ngm.nationalgeographic.com/2012/02/lost-da-vinci/o-neill-text</td></tr>\\n<tr><td class=\\\"cell-1\\\" style=\\\"text-align:right;\\\">104</td> <td class=\\\"cell-2\\\" style=\\\"\\\">http://ngm.nationalgeographic.com/2013/10/changing-faces/funderburg-text</td></tr>\\n<tr><td class=\\\"cell-1\\\" style=\\\"text-align:right;\\\">103</td> <td class=\\\"cell-2\\\" style=\\\"\\\">http://ngm.nationalgeographic.com/2013/10/power-of-photography/draper-text</td></tr>\\n    </tbody>\\n\")"
      ]
     },
     "metadata": {},
     "output_type": "display_data"
    },
    {
     "data": {
      "text/html": [
       "<div class=\"dswbOutputText\"><h1 class=\"chart_title\" style=\"color:#ccc\">Top 10000 (min 30) URLs for Food</h1><h3 class=\"chart_info\" style=\"color:#ccc\">Note: If you see AEM URL's in this list tell Chris Davis</h3><h3 class=\"chart_info\" style=\"color:#ccc\">November 4, 2017 23:59:00 to November 5, 2017 23:59:00 Local Time</h3></div>"
      ]
     },
     "metadata": {},
     "output_type": "display_data"
    },
    {
     "data": {
      "text/html": [
       "    <table  class=\"dataframe-table\">\n",
       "    <thead><tr><th class=\"cell-1\" style=\"\">Views</th> <th class=\"cell-2\" style=\"\">Url - Food</th></tr></thead>\n",
       "    <tbody>\n",
       "    <tr><td class=\"cell-1\" style=\"text-align:right;\">291</td> <td class=\"cell-2\" style=\"\">https://www.nationalgeographic.com/foodfeatures/feeding-9-billion</td></tr>\n",
       "<tr><td class=\"cell-1\" style=\"text-align:right;\">219</td> <td class=\"cell-2\" style=\"\">https://www.nationalgeographic.com/foodfeatures/evolution-of-diet</td></tr>\n",
       "<tr><td class=\"cell-1\" style=\"text-align:right;\">184</td> <td class=\"cell-2\" style=\"\">http://theplate.nationalgeographic.com/2014/04/21/how-was-ketchup-invented</td></tr>\n",
       "<tr><td class=\"cell-1\" style=\"text-align:right;\">169</td> <td class=\"cell-2\" style=\"\">https://www.nationalgeographic.com/foodfeatures/hunger</td></tr>\n",
       "<tr><td class=\"cell-1\" style=\"text-align:right;\">83</td> <td class=\"cell-2\" style=\"\">http://theplate.nationalgeographic.com/2014/05/21/hot-off-the-griddle-heres-the-history-of-pancakes</td></tr>\n",
       "<tr><td class=\"cell-1\" style=\"text-align:right;\">71</td> <td class=\"cell-2\" style=\"\">http://theplate.nationalgeographic.com/2015/02/09/fruit-or-vegetable</td></tr>\n",
       "<tr><td class=\"cell-1\" style=\"text-align:right;\">64</td> <td class=\"cell-2\" style=\"\">https://www.nationalgeographic.com/foodfeatures/green-revolution</td></tr>\n",
       "<tr><td class=\"cell-1\" style=\"text-align:right;\">45</td> <td class=\"cell-2\" style=\"\">http://theplate.nationalgeographic.com/2016/05/17/scientists-say-gmo-foods-are-safe-public-skepticism-remains</td></tr>\n",
       "    \n",
       "    <tr><td class=\"cell-1\" style=\"text-align:right;\">45</td> <td class=\"cell-2\" style=\"\">http://theplate.nationalgeographic.com/2016/04/01/april-fools-kiwi-banana-hybrid-video</td></tr>\n",
       "<tr><td class=\"cell-1\" style=\"text-align:right;\">40</td> <td class=\"cell-2\" style=\"\">https://www.nationalgeographic.com/foodfeatures/meat</td></tr>\n",
       "<tr><td class=\"cell-1\" style=\"text-align:right;\">39</td> <td class=\"cell-2\" style=\"\">http://theplate.nationalgeographic.com/2014/12/23/visions-of-sugarplums</td></tr>\n",
       "<tr><td class=\"cell-1\" style=\"text-align:right;\">37</td> <td class=\"cell-2\" style=\"\">https://www.nationalgeographic.com/foodfeatures/aquaculture</td></tr>\n",
       "<tr><td class=\"cell-1\" style=\"text-align:right;\">33</td> <td class=\"cell-2\" style=\"\">http://theplate.nationalgeographic.com/2014/10/23/plain-vanilla</td></tr>\n",
       "<tr><td class=\"cell-1\" style=\"text-align:right;\">33</td> <td class=\"cell-2\" style=\"\">http://theplate.nationalgeographic.com/2015/06/15/surviving-the-sneaky-psychology-of-supermarkets</td></tr>\n",
       "<tr><td class=\"cell-1\" style=\"text-align:right;\">32</td> <td class=\"cell-2\" style=\"\">http://theplate.nationalgeographic.com/2014/07/22/history-of-apples</td></tr>\n",
       "    </tbody>\n"
      ],
      "text/plain": [
       "HTML{UTF8String}(\"    <table  class=\\\"dataframe-table\\\">\\n    <thead><tr><th class=\\\"cell-1\\\" style=\\\"\\\">Views</th> <th class=\\\"cell-2\\\" style=\\\"\\\">Url - Food</th></tr></thead>\\n    <tbody>\\n    <tr><td class=\\\"cell-1\\\" style=\\\"text-align:right;\\\">291</td> <td class=\\\"cell-2\\\" style=\\\"\\\">https://www.nationalgeographic.com/foodfeatures/feeding-9-billion</td></tr>\\n<tr><td class=\\\"cell-1\\\" style=\\\"text-align:right;\\\">219</td> <td class=\\\"cell-2\\\" style=\\\"\\\">https://www.nationalgeographic.com/foodfeatures/evolution-of-diet</td></tr>\\n<tr><td class=\\\"cell-1\\\" style=\\\"text-align:right;\\\">184</td> <td class=\\\"cell-2\\\" style=\\\"\\\">http://theplate.nationalgeographic.com/2014/04/21/how-was-ketchup-invented</td></tr>\\n<tr><td class=\\\"cell-1\\\" style=\\\"text-align:right;\\\">169</td> <td class=\\\"cell-2\\\" style=\\\"\\\">https://www.nationalgeographic.com/foodfeatures/hunger</td></tr>\\n<tr><td class=\\\"cell-1\\\" style=\\\"text-align:right;\\\">83</td> <td class=\\\"cell-2\\\" style=\\\"\\\">http://theplate.nationalgeographic.com/2014/05/21/hot-off-the-griddle-heres-the-history-of-pancakes</td></tr>\\n<tr><td class=\\\"cell-1\\\" style=\\\"text-align:right;\\\">71</td> <td class=\\\"cell-2\\\" style=\\\"\\\">http://theplate.nationalgeographic.com/2015/02/09/fruit-or-vegetable</td></tr>\\n<tr><td class=\\\"cell-1\\\" style=\\\"text-align:right;\\\">64</td> <td class=\\\"cell-2\\\" style=\\\"\\\">https://www.nationalgeographic.com/foodfeatures/green-revolution</td></tr>\\n<tr><td class=\\\"cell-1\\\" style=\\\"text-align:right;\\\">45</td> <td class=\\\"cell-2\\\" style=\\\"\\\">http://theplate.nationalgeographic.com/2016/05/17/scientists-say-gmo-foods-are-safe-public-skepticism-remains</td></tr>\\n    \\n    <tr><td class=\\\"cell-1\\\" style=\\\"text-align:right;\\\">45</td> <td class=\\\"cell-2\\\" style=\\\"\\\">http://theplate.nationalgeographic.com/2016/04/01/april-fools-kiwi-banana-hybrid-video</td></tr>\\n<tr><td class=\\\"cell-1\\\" style=\\\"text-align:right;\\\">40</td> <td class=\\\"cell-2\\\" style=\\\"\\\">https://www.nationalgeographic.com/foodfeatures/meat</td></tr>\\n<tr><td class=\\\"cell-1\\\" style=\\\"text-align:right;\\\">39</td> <td class=\\\"cell-2\\\" style=\\\"\\\">http://theplate.nationalgeographic.com/2014/12/23/visions-of-sugarplums</td></tr>\\n<tr><td class=\\\"cell-1\\\" style=\\\"text-align:right;\\\">37</td> <td class=\\\"cell-2\\\" style=\\\"\\\">https://www.nationalgeographic.com/foodfeatures/aquaculture</td></tr>\\n<tr><td class=\\\"cell-1\\\" style=\\\"text-align:right;\\\">33</td> <td class=\\\"cell-2\\\" style=\\\"\\\">http://theplate.nationalgeographic.com/2014/10/23/plain-vanilla</td></tr>\\n<tr><td class=\\\"cell-1\\\" style=\\\"text-align:right;\\\">33</td> <td class=\\\"cell-2\\\" style=\\\"\\\">http://theplate.nationalgeographic.com/2015/06/15/surviving-the-sneaky-psychology-of-supermarkets</td></tr>\\n<tr><td class=\\\"cell-1\\\" style=\\\"text-align:right;\\\">32</td> <td class=\\\"cell-2\\\" style=\\\"\\\">http://theplate.nationalgeographic.com/2014/07/22/history-of-apples</td></tr>\\n    </tbody>\\n\")"
      ]
     },
     "metadata": {},
     "output_type": "display_data"
    },
    {
     "data": {
      "text/html": [
       "<div class=\"dswbOutputText\"><h1 class=\"chart_title\" style=\"color:#ccc\">Top 10000 (min 15) URLs for Interactive</h1><h3 class=\"chart_info\" style=\"color:#ccc\">Note: If you see AEM URL's in this list tell Chris Davis</h3><h3 class=\"chart_info\" style=\"color:#ccc\">November 4, 2017 23:59:00 to November 5, 2017 23:59:00 Local Time</h3></div>"
      ]
     },
     "metadata": {},
     "output_type": "display_data"
    },
    {
     "data": {
      "text/html": [
       "    <table  class=\"dataframe-table\">\n",
       "    <thead><tr><th class=\"cell-1\" style=\"\">Views</th> <th class=\"cell-2\" style=\"\">Url - Interactive</th></tr></thead>\n",
       "    <tbody>\n",
       "    <tr><td class=\"cell-1\" style=\"text-align:right;\">519</td> <td class=\"cell-2\" style=\"\">https://www.nationalgeographic.com/healing-soldiers</td></tr>\n",
       "<tr><td class=\"cell-1\" style=\"text-align:right;\">328</td> <td class=\"cell-2\" style=\"\">https://www.nationalgeographic.com/news-features/son-doong-cave/2</td></tr>\n",
       "<tr><td class=\"cell-1\" style=\"text-align:right;\">274</td> <td class=\"cell-2\" style=\"\">https://www.nationalgeographic.com/what-the-world-eats</td></tr>\n",
       "<tr><td class=\"cell-1\" style=\"text-align:right;\">146</td> <td class=\"cell-2\" style=\"\">https://www.nationalgeographic.com/new-york-city-skyline-tallest-midtown-manhattan</td></tr>\n",
       "<tr><td class=\"cell-1\" style=\"text-align:right;\">124</td> <td class=\"cell-2\" style=\"\">https://www.nationalgeographic.com/healing-soldiers/blast-force.html</td></tr>\n",
       "<tr><td class=\"cell-1\" style=\"text-align:right;\">88</td> <td class=\"cell-2\" style=\"\">https://www.nationalgeographic.com/trajan-column/article.html</td></tr>\n",
       "<tr><td class=\"cell-1\" style=\"text-align:right;\">88</td> <td class=\"cell-2\" style=\"\">https://www.nationalgeographic.com/deextinction</td></tr>\n",
       "<tr><td class=\"cell-1\" style=\"text-align:right;\">65</td> <td class=\"cell-2\" style=\"\">https://www.nationalgeographic.com/climate-change/how-to-live-with-it/crops.html</td></tr>\n",
       "<tr><td class=\"cell-1\" style=\"text-align:right;\">46</td> <td class=\"cell-2\" style=\"\">https://www.nationalgeographic.com/climate-change/how-to-fix-it/you.html</td></tr>\n",
       "<tr><td class=\"cell-1\" style=\"text-align:right;\">38</td> <td class=\"cell-2\" style=\"\">https://www.nationalgeographic.com/taking-back-detroit/see-detroit.html</td></tr>\n",
       "    \n",
       "    <tr><td class=\"cell-1\" style=\"text-align:right;\">33</td> <td class=\"cell-2\" style=\"\">https://www.nationalgeographic.com/climate-change/how-to-fix-it</td></tr>\n",
       "<tr><td class=\"cell-1\" style=\"text-align:right;\">25</td> <td class=\"cell-2\" style=\"\">https://www.nationalgeographic.com/power-of-parks</td></tr>\n",
       "<tr><td class=\"cell-1\" style=\"text-align:right;\">24</td> <td class=\"cell-2\" style=\"\">https://www.nationalgeographic.com/healing-soldiers/index.html</td></tr>\n",
       "<tr><td class=\"cell-1\" style=\"text-align:right;\">24</td> <td class=\"cell-2\" style=\"\">https://www.nationalgeographic.com/unchartedwaters</td></tr>\n",
       "<tr><td class=\"cell-1\" style=\"text-align:right;\">23</td> <td class=\"cell-2\" style=\"\">https://www.nationalgeographic.com/new-york-city-skyline-tallest-midtown-manhattan/article.html</td></tr>\n",
       "<tr><td class=\"cell-1\" style=\"text-align:right;\">21</td> <td class=\"cell-2\" style=\"\">https://www.nationalgeographic.com/climate-change/how-to-live-with-it/health.html</td></tr>\n",
       "<tr><td class=\"cell-1\" style=\"text-align:right;\">21</td> <td class=\"cell-2\" style=\"\">https://www.nationalgeographic.com/deextinction/selected-species-extinctions-since-1600</td></tr>\n",
       "<tr><td class=\"cell-1\" style=\"text-align:right;\">20</td> <td class=\"cell-2\" style=\"\">https://www.nationalgeographic.com/tracking-ivory/article.html</td></tr>\n",
       "<tr><td class=\"cell-1\" style=\"text-align:right;\">17</td> <td class=\"cell-2\" style=\"\">https://www.nationalgeographic.com/trajan-column/index.html</td></tr>\n",
       "    </tbody>\n"
      ],
      "text/plain": [
       "HTML{UTF8String}(\"    <table  class=\\\"dataframe-table\\\">\\n    <thead><tr><th class=\\\"cell-1\\\" style=\\\"\\\">Views</th> <th class=\\\"cell-2\\\" style=\\\"\\\">Url - Interactive</th></tr></thead>\\n    <tbody>\\n    <tr><td class=\\\"cell-1\\\" style=\\\"text-align:right;\\\">519</td> <td class=\\\"cell-2\\\" style=\\\"\\\">https://www.nationalgeographic.com/healing-soldiers</td></tr>\\n<tr><td class=\\\"cell-1\\\" style=\\\"text-align:right;\\\">328</td> <td class=\\\"cell-2\\\" style=\\\"\\\">https://www.nationalgeographic.com/news-features/son-doong-cave/2</td></tr>\\n<tr><td class=\\\"cell-1\\\" style=\\\"text-align:right;\\\">274</td> <td class=\\\"cell-2\\\" style=\\\"\\\">https://www.nationalgeographic.com/what-the-world-eats</td></tr>\\n<tr><td class=\\\"cell-1\\\" style=\\\"text-align:right;\\\">146</td> <td class=\\\"cell-2\\\" style=\\\"\\\">https://www.nationalgeographic.com/new-york-city-skyline-tallest-midtown-manhattan</td></tr>\\n<tr><td class=\\\"cell-1\\\" style=\\\"text-align:right;\\\">124</td> <td class=\\\"cell-2\\\" style=\\\"\\\">https://www.nationalgeographic.com/healing-soldiers/blast-force.html</td></tr>\\n<tr><td class=\\\"cell-1\\\" style=\\\"text-align:right;\\\">88</td> <td class=\\\"cell-2\\\" style=\\\"\\\">https://www.nationalgeographic.com/trajan-column/article.html</td></tr>\\n<tr><td class=\\\"cell-1\\\" style=\\\"text-align:right;\\\">88</td> <td class=\\\"cell-2\\\" style=\\\"\\\">https://www.nationalgeographic.com/deextinction</td></tr>\\n<tr><td class=\\\"cell-1\\\" style=\\\"text-align:right;\\\">65</td> <td class=\\\"cell-2\\\" style=\\\"\\\">https://www.nationalgeographic.com/climate-change/how-to-live-with-it/crops.html</td></tr>\\n<tr><td class=\\\"cell-1\\\" style=\\\"text-align:right;\\\">46</td> <td class=\\\"cell-2\\\" style=\\\"\\\">https://www.nationalgeographic.com/climate-change/how-to-fix-it/you.html</td></tr>\\n<tr><td class=\\\"cell-1\\\" style=\\\"text-align:right;\\\">38</td> <td class=\\\"cell-2\\\" style=\\\"\\\">https://www.nationalgeographic.com/taking-back-detroit/see-detroit.html</td></tr>\\n    \\n    <tr><td class=\\\"cell-1\\\" style=\\\"text-align:right;\\\">33</td> <td class=\\\"cell-2\\\" style=\\\"\\\">https://www.nationalgeographic.com/climate-change/how-to-fix-it</td></tr>\\n<tr><td class=\\\"cell-1\\\" style=\\\"text-align:right;\\\">25</td> <td class=\\\"cell-2\\\" style=\\\"\\\">https://www.nationalgeographic.com/power-of-parks</td></tr>\\n<tr><td class=\\\"cell-1\\\" style=\\\"text-align:right;\\\">24</td> <td class=\\\"cell-2\\\" style=\\\"\\\">https://www.nationalgeographic.com/healing-soldiers/index.html</td></tr>\\n<tr><td class=\\\"cell-1\\\" style=\\\"text-align:right;\\\">24</td> <td class=\\\"cell-2\\\" style=\\\"\\\">https://www.nationalgeographic.com/unchartedwaters</td></tr>\\n<tr><td class=\\\"cell-1\\\" style=\\\"text-align:right;\\\">23</td> <td class=\\\"cell-2\\\" style=\\\"\\\">https://www.nationalgeographic.com/new-york-city-skyline-tallest-midtown-manhattan/article.html</td></tr>\\n<tr><td class=\\\"cell-1\\\" style=\\\"text-align:right;\\\">21</td> <td class=\\\"cell-2\\\" style=\\\"\\\">https://www.nationalgeographic.com/climate-change/how-to-live-with-it/health.html</td></tr>\\n<tr><td class=\\\"cell-1\\\" style=\\\"text-align:right;\\\">21</td> <td class=\\\"cell-2\\\" style=\\\"\\\">https://www.nationalgeographic.com/deextinction/selected-species-extinctions-since-1600</td></tr>\\n<tr><td class=\\\"cell-1\\\" style=\\\"text-align:right;\\\">20</td> <td class=\\\"cell-2\\\" style=\\\"\\\">https://www.nationalgeographic.com/tracking-ivory/article.html</td></tr>\\n<tr><td class=\\\"cell-1\\\" style=\\\"text-align:right;\\\">17</td> <td class=\\\"cell-2\\\" style=\\\"\\\">https://www.nationalgeographic.com/trajan-column/index.html</td></tr>\\n    </tbody>\\n\")"
      ]
     },
     "metadata": {},
     "output_type": "display_data"
    },
    {
     "data": {
      "text/html": [
       "<div class=\"dswbOutputText\"><h1 class=\"chart_title\" style=\"color:#ccc\">Top 10000 (min 30) URLs for Help</h1><h3 class=\"chart_info\" style=\"color:#ccc\">Note: If you see AEM URL's in this list tell Chris Davis</h3><h3 class=\"chart_info\" style=\"color:#ccc\">November 4, 2017 23:59:00 to November 5, 2017 23:59:00 Local Time</h3></div>"
      ]
     },
     "metadata": {},
     "output_type": "display_data"
    },
    {
     "data": {
      "text/html": [
       "    <table  class=\"dataframe-table\">\n",
       "    <thead><tr><th class=\"cell-1\" style=\"\">Views</th> <th class=\"cell-2\" style=\"\">Url - Help</th></tr></thead>\n",
       "    <tbody>\n",
       "    <tr><td class=\"cell-1\" style=\"text-align:right;\">463</td> <td class=\"cell-2\" style=\"\">http://help.nationalgeographic.com/customer/portal/topics/486394-your-shot-beta/articles</td></tr>\n",
       "<tr><td class=\"cell-1\" style=\"text-align:right;\">368</td> <td class=\"cell-2\" style=\"\">http://help.nationalgeographic.com/customer/portal/articles/1449965-how-many-continents-are-there-</td></tr>\n",
       "<tr><td class=\"cell-1\" style=\"text-align:right;\">218</td> <td class=\"cell-2\" style=\"\">http://help.nationalgeographic.com</td></tr>\n",
       "<tr><td class=\"cell-1\" style=\"text-align:right;\">211</td> <td class=\"cell-2\" style=\"\">http://help.nationalgeographic.com/customer/portal/articles/1069715-national-geographic-magazine-subscription-customer-service</td></tr>\n",
       "<tr><td class=\"cell-1\" style=\"text-align:right;\">165</td> <td class=\"cell-2\" style=\"\">http://help.nationalgeographic.com/customer/portal/articles/1409678-how-can-i-be-a-photographer-for-national-geographic-</td></tr>\n",
       "<tr><td class=\"cell-1\" style=\"text-align:right;\">147</td> <td class=\"cell-2\" style=\"\">http://help.nationalgeographic.com/customer/en/portal/articles/1409687-does-national-geographic-offer-internships-</td></tr>\n",
       "<tr><td class=\"cell-1\" style=\"text-align:right;\">134</td> <td class=\"cell-2\" style=\"\">http://help.nationalgeographic.com/customer/portal/articles/search</td></tr>\n",
       "<tr><td class=\"cell-1\" style=\"text-align:right;\">130</td> <td class=\"cell-2\" style=\"\">http://help.nationalgeographic.com/customer/portal/topics/607742-careers/articles</td></tr>\n",
       "<tr><td class=\"cell-1\" style=\"text-align:right;\">115</td> <td class=\"cell-2\" style=\"\">http://help.nationalgeographic.com/customer/portal/emails/new</td></tr>\n",
       "<tr><td class=\"cell-1\" style=\"text-align:right;\">82</td> <td class=\"cell-2\" style=\"\">http://help.nationalgeographic.com/customer/portal/articles/1450060-what-is-the-world-s-longest-river-</td></tr>\n",
       "<tr><td class=\"cell-1\" style=\"text-align:right;\">81</td> <td class=\"cell-2\" style=\"\">http://help.nationalgeographic.com/customer/en/portal/articles/1081018-when-i-submit-a-photo-to-your-shot-do-i-retain-the-copyright-to-the-photograph-</td></tr>\n",
       "    \n",
       "    <tr><td class=\"cell-1\" style=\"text-align:right;\">61</td> <td class=\"cell-2\" style=\"\">http://help.nationalgeographic.com/customer/portal/articles/1906164-how-can-i-work-for-national-geographic-</td></tr>\n",
       "<tr><td class=\"cell-1\" style=\"text-align:right;\">59</td> <td class=\"cell-2\" style=\"\">http://help.nationalgeographic.com/customer/en/portal/articles/1906164-how-can-i-work-for-national-geographic-</td></tr>\n",
       "<tr><td class=\"cell-1\" style=\"text-align:right;\">55</td> <td class=\"cell-2\" style=\"\">http://help.nationalgeographic.com/customer/en/portal/articles/1101486-what-are-assignments-and-stories-how-do-they-work-</td></tr>\n",
       "<tr><td class=\"cell-1\" style=\"text-align:right;\">46</td> <td class=\"cell-2\" style=\"\">http://help.nationalgeographic.com/customer/portal/emails/completed</td></tr>\n",
       "<tr><td class=\"cell-1\" style=\"text-align:right;\">45</td> <td class=\"cell-2\" style=\"\">http://help.nationalgeographic.com/customer/en/portal/articles/1081034-how-many-photos-can-i-submit-when-does-the-quota-reset-</td></tr>\n",
       "<tr><td class=\"cell-1\" style=\"text-align:right;\">44</td> <td class=\"cell-2\" style=\"\">http://help.nationalgeographic.com/customer/en/portal/topics/486394-your-shot-community-support/articles</td></tr>\n",
       "<tr><td class=\"cell-1\" style=\"text-align:right;\">44</td> <td class=\"cell-2\" style=\"\">http://help.nationalgeographic.com/customer/portal/articles/1147045-where-are-the-jigsaw-puzzles-</td></tr>\n",
       "<tr><td class=\"cell-1\" style=\"text-align:right;\">38</td> <td class=\"cell-2\" style=\"\">http://help.nationalgeographic.com/customer/en/portal/articles/1142311-how-can-i-submit-or-upload-a-photo-to-your-shot-</td></tr>\n",
       "<tr><td class=\"cell-1\" style=\"text-align:right;\">37</td> <td class=\"cell-2\" style=\"\">http://help.nationalgeographic.com/customer/en/portal/articles/1101484--how-can-i-submit-a-photo-for-the-daily-dozen-</td></tr>\n",
       "<tr><td class=\"cell-1\" style=\"text-align:right;\">34</td> <td class=\"cell-2\" style=\"\">http://help.nationalgeographic.com/customer/portal/articles/1409682-how-can-i-write-for-national-geographic-</td></tr>\n",
       "<tr><td class=\"cell-1\" style=\"text-align:right;\">31</td> <td class=\"cell-2\" style=\"\">http://help.nationalgeographic.com/customer/portal/articles/1446597-what-can-i-do-with-my-old-national-geographic-magazines-</td></tr>\n",
       "    </tbody>\n"
      ],
      "text/plain": [
       "HTML{UTF8String}(\"    <table  class=\\\"dataframe-table\\\">\\n    <thead><tr><th class=\\\"cell-1\\\" style=\\\"\\\">Views</th> <th class=\\\"cell-2\\\" style=\\\"\\\">Url - Help</th></tr></thead>\\n    <tbody>\\n    <tr><td class=\\\"cell-1\\\" style=\\\"text-align:right;\\\">463</td> <td class=\\\"cell-2\\\" style=\\\"\\\">http://help.nationalgeographic.com/customer/portal/topics/486394-your-shot-beta/articles</td></tr>\\n<tr><td class=\\\"cell-1\\\" style=\\\"text-align:right;\\\">368</td> <td class=\\\"cell-2\\\" style=\\\"\\\">http://help.nationalgeographic.com/customer/portal/articles/1449965-how-many-continents-are-there-</td></tr>\\n<tr><td class=\\\"cell-1\\\" style=\\\"text-align:right;\\\">218</td> <td class=\\\"cell-2\\\" style=\\\"\\\">http://help.nationalgeographic.com</td></tr>\\n<tr><td class=\\\"cell-1\\\" style=\\\"text-align:right;\\\">211</td> <td class=\\\"cell-2\\\" style=\\\"\\\">http://help.nationalgeographic.com/customer/portal/articles/1069715-national-geographic-magazine-subscription-customer-service</td></tr>\\n<tr><td class=\\\"cell-1\\\" style=\\\"text-align:right;\\\">165</td> <td class=\\\"cell-2\\\" style=\\\"\\\">http://help.nationalgeographic.com/customer/portal/articles/1409678-how-can-i-be-a-photographer-for-national-geographic-</td></tr>\\n<tr><td class=\\\"cell-1\\\" style=\\\"text-align:right;\\\">147</td> <td class=\\\"cell-2\\\" style=\\\"\\\">http://help.nationalgeographic.com/customer/en/portal/articles/1409687-does-national-geographic-offer-internships-</td></tr>\\n<tr><td class=\\\"cell-1\\\" style=\\\"text-align:right;\\\">134</td> <td class=\\\"cell-2\\\" style=\\\"\\\">http://help.nationalgeographic.com/customer/portal/articles/search</td></tr>\\n<tr><td class=\\\"cell-1\\\" style=\\\"text-align:right;\\\">130</td> <td class=\\\"cell-2\\\" style=\\\"\\\">http://help.nationalgeographic.com/customer/portal/topics/607742-careers/articles</td></tr>\\n<tr><td class=\\\"cell-1\\\" style=\\\"text-align:right;\\\">115</td> <td class=\\\"cell-2\\\" style=\\\"\\\">http://help.nationalgeographic.com/customer/portal/emails/new</td></tr>\\n<tr><td class=\\\"cell-1\\\" style=\\\"text-align:right;\\\">82</td> <td class=\\\"cell-2\\\" style=\\\"\\\">http://help.nationalgeographic.com/customer/portal/articles/1450060-what-is-the-world-s-longest-river-</td></tr>\\n<tr><td class=\\\"cell-1\\\" style=\\\"text-align:right;\\\">81</td> <td class=\\\"cell-2\\\" style=\\\"\\\">http://help.nationalgeographic.com/customer/en/portal/articles/1081018-when-i-submit-a-photo-to-your-shot-do-i-retain-the-copyright-to-the-photograph-</td></tr>\\n    \\n    <tr><td class=\\\"cell-1\\\" style=\\\"text-align:right;\\\">61</td> <td class=\\\"cell-2\\\" style=\\\"\\\">http://help.nationalgeographic.com/customer/portal/articles/1906164-how-can-i-work-for-national-geographic-</td></tr>\\n<tr><td class=\\\"cell-1\\\" style=\\\"text-align:right;\\\">59</td> <td class=\\\"cell-2\\\" style=\\\"\\\">http://help.nationalgeographic.com/customer/en/portal/articles/1906164-how-can-i-work-for-national-geographic-</td></tr>\\n<tr><td class=\\\"cell-1\\\" style=\\\"text-align:right;\\\">55</td> <td class=\\\"cell-2\\\" style=\\\"\\\">http://help.nationalgeographic.com/customer/en/portal/articles/1101486-what-are-assignments-and-stories-how-do-they-work-</td></tr>\\n<tr><td class=\\\"cell-1\\\" style=\\\"text-align:right;\\\">46</td> <td class=\\\"cell-2\\\" style=\\\"\\\">http://help.nationalgeographic.com/customer/portal/emails/completed</td></tr>\\n<tr><td class=\\\"cell-1\\\" style=\\\"text-align:right;\\\">45</td> <td class=\\\"cell-2\\\" style=\\\"\\\">http://help.nationalgeographic.com/customer/en/portal/articles/1081034-how-many-photos-can-i-submit-when-does-the-quota-reset-</td></tr>\\n<tr><td class=\\\"cell-1\\\" style=\\\"text-align:right;\\\">44</td> <td class=\\\"cell-2\\\" style=\\\"\\\">http://help.nationalgeographic.com/customer/en/portal/topics/486394-your-shot-community-support/articles</td></tr>\\n<tr><td class=\\\"cell-1\\\" style=\\\"text-align:right;\\\">44</td> <td class=\\\"cell-2\\\" style=\\\"\\\">http://help.nationalgeographic.com/customer/portal/articles/1147045-where-are-the-jigsaw-puzzles-</td></tr>\\n<tr><td class=\\\"cell-1\\\" style=\\\"text-align:right;\\\">38</td> <td class=\\\"cell-2\\\" style=\\\"\\\">http://help.nationalgeographic.com/customer/en/portal/articles/1142311-how-can-i-submit-or-upload-a-photo-to-your-shot-</td></tr>\\n<tr><td class=\\\"cell-1\\\" style=\\\"text-align:right;\\\">37</td> <td class=\\\"cell-2\\\" style=\\\"\\\">http://help.nationalgeographic.com/customer/en/portal/articles/1101484--how-can-i-submit-a-photo-for-the-daily-dozen-</td></tr>\\n<tr><td class=\\\"cell-1\\\" style=\\\"text-align:right;\\\">34</td> <td class=\\\"cell-2\\\" style=\\\"\\\">http://help.nationalgeographic.com/customer/portal/articles/1409682-how-can-i-write-for-national-geographic-</td></tr>\\n<tr><td class=\\\"cell-1\\\" style=\\\"text-align:right;\\\">31</td> <td class=\\\"cell-2\\\" style=\\\"\\\">http://help.nationalgeographic.com/customer/portal/articles/1446597-what-can-i-do-with-my-old-national-geographic-magazines-</td></tr>\\n    </tbody>\\n\")"
      ]
     },
     "metadata": {},
     "output_type": "display_data"
    },
    {
     "data": {
      "text/html": [
       "<div class=\"dswbOutputText\"><h1 class=\"chart_title\" style=\"color:#ccc\">Top 10000 (min 50) URLs for Phenomena</h1><h3 class=\"chart_info\" style=\"color:#ccc\">Note: If you see AEM URL's in this list tell Chris Davis</h3><h3 class=\"chart_info\" style=\"color:#ccc\">November 4, 2017 23:59:00 to November 5, 2017 23:59:00 Local Time</h3></div>"
      ]
     },
     "metadata": {},
     "output_type": "display_data"
    },
    {
     "data": {
      "text/html": [
       "    <table  class=\"dataframe-table\">\n",
       "    <thead><tr><th class=\"cell-1\" style=\"\">Views</th> <th class=\"cell-2\" style=\"\">Url - Phenomena</th></tr></thead>\n",
       "    <tbody>\n",
       "    <tr><td class=\"cell-1\" style=\"text-align:right;\">231</td> <td class=\"cell-2\" style=\"\">http://phenomena.nationalgeographic.com</td></tr>\n",
       "<tr><td class=\"cell-1\" style=\"text-align:right;\">214</td> <td class=\"cell-2\" style=\"\">http://phenomena.nationalgeographic.com/2015/08/19/whos-the-first-person-in-history-whose-name-we-know</td></tr>\n",
       "<tr><td class=\"cell-1\" style=\"text-align:right;\">204</td> <td class=\"cell-2\" style=\"\">http://phenomena.nationalgeographic.com/2014/07/03/natures-most-amazing-eyes-just-got-a-bit-weirder</td></tr>\n",
       "<tr><td class=\"cell-1\" style=\"text-align:right;\">200</td> <td class=\"cell-2\" style=\"\">http://phenomena.nationalgeographic.com/2015/05/15/this-is-what-happens-when-you-use-rat-poison-flymageddon</td></tr>\n",
       "<tr><td class=\"cell-1\" style=\"text-align:right;\">135</td> <td class=\"cell-2\" style=\"\">http://phenomena.nationalgeographic.com/2013/10/30/heres-what-happens-when-a-tick-bites-you</td></tr>\n",
       "<tr><td class=\"cell-1\" style=\"text-align:right;\">131</td> <td class=\"cell-2\" style=\"\">http://phenomena.nationalgeographic.com/2013/10/23/how-many-cells-are-in-your-body</td></tr>\n",
       "<tr><td class=\"cell-1\" style=\"text-align:right;\">124</td> <td class=\"cell-2\" style=\"\">http://phenomena.nationalgeographic.com/2014/01/15/birds-that-fly-in-a-v-formation-use-an-amazing-trick</td></tr>\n",
       "<tr><td class=\"cell-1\" style=\"text-align:right;\">101</td> <td class=\"cell-2\" style=\"\">http://phenomena.nationalgeographic.com/2015/08/14/yes-rats-can-swim-up-your-toilet-and-it-gets-worse-than-that</td></tr>\n",
       "<tr><td class=\"cell-1\" style=\"text-align:right;\">87</td> <td class=\"cell-2\" style=\"\">http://phenomena.nationalgeographic.com/2013/01/02/the-norovirus-a-study-in-puked-perfection</td></tr>\n",
       "<tr><td class=\"cell-1\" style=\"text-align:right;\">84</td> <td class=\"cell-2\" style=\"\">http://phenomena.nationalgeographic.com/2014/04/21/the-tragic-story-of-how-einsteins-brain-was-stolen-and-wasnt-even-special</td></tr>\n",
       "<tr><td class=\"cell-1\" style=\"text-align:right;\">83</td> <td class=\"cell-2\" style=\"\">http://phenomena.nationalgeographic.com/2013/06/06/how-chickens-lost-their-penises-ducks-kept-theirs</td></tr>\n",
       "<tr><td class=\"cell-1\" style=\"text-align:right;\">81</td> <td class=\"cell-2\" style=\"\">http://phenomena.nationalgeographic.com/2013/08/06/heres-what-happens-inside-you-when-a-mosquito-bites</td></tr>\n",
       "    \n",
       "    <tr><td class=\"cell-1\" style=\"text-align:right;\">81</td> <td class=\"cell-2\" style=\"\">http://phenomena.nationalgeographic.com/2014/04/28/how-many-people-are-wrongly-convicted-researchers-do-the-math</td></tr>\n",
       "<tr><td class=\"cell-1\" style=\"text-align:right;\">74</td> <td class=\"cell-2\" style=\"\">http://phenomena.nationalgeographic.com/2013/04/11/why-does-music-feel-so-good</td></tr>\n",
       "<tr><td class=\"cell-1\" style=\"text-align:right;\">65</td> <td class=\"cell-2\" style=\"\">http://phenomena.nationalgeographic.com/2014/02/26/how-the-blind-dream</td></tr>\n",
       "<tr><td class=\"cell-1\" style=\"text-align:right;\">62</td> <td class=\"cell-2\" style=\"\">http://phenomena.nationalgeographic.com/2015/12/14/you-cant-buy-antibiotics-over-the-counter-can-you-yes-you-can</td></tr>\n",
       "<tr><td class=\"cell-1\" style=\"text-align:right;\">59</td> <td class=\"cell-2\" style=\"\">http://phenomena.nationalgeographic.com/2013/06/27/the-myth-of-the-komodo-dragons-dirty-mouth</td></tr>\n",
       "<tr><td class=\"cell-1\" style=\"text-align:right;\">58</td> <td class=\"cell-2\" style=\"\">http://phenomena.nationalgeographic.com/2015/08/03/why-do-people-sometimes-like-stinky-things</td></tr>\n",
       "<tr><td class=\"cell-1\" style=\"text-align:right;\">56</td> <td class=\"cell-2\" style=\"\">http://phenomena.nationalgeographic.com/2013/05/14/3-d-scans-caterpillars-transforming-butterflies-metamorphosis</td></tr>\n",
       "<tr><td class=\"cell-1\" style=\"text-align:right;\">53</td> <td class=\"cell-2\" style=\"\">http://phenomena.nationalgeographic.com/2014/03/24/scientists-predict-our-galaxys-death</td></tr>\n",
       "<tr><td class=\"cell-1\" style=\"text-align:right;\">52</td> <td class=\"cell-2\" style=\"\">http://phenomena.nationalgeographic.com/blog/all-over-the-map</td></tr>\n",
       "<tr><td class=\"cell-1\" style=\"text-align:right;\">52</td> <td class=\"cell-2\" style=\"\">http://phenomena.nationalgeographic.com/2013/02/28/tongue-eating-fish-parasites-never-cease-to-amaze</td></tr>\n",
       "<tr><td class=\"cell-1\" style=\"text-align:right;\">51</td> <td class=\"cell-2\" style=\"\">http://phenomena.nationalgeographic.com/blog/not-exactly-rocket-science</td></tr>\n",
       "    </tbody>\n"
      ],
      "text/plain": [
       "HTML{UTF8String}(\"    <table  class=\\\"dataframe-table\\\">\\n    <thead><tr><th class=\\\"cell-1\\\" style=\\\"\\\">Views</th> <th class=\\\"cell-2\\\" style=\\\"\\\">Url - Phenomena</th></tr></thead>\\n    <tbody>\\n    <tr><td class=\\\"cell-1\\\" style=\\\"text-align:right;\\\">231</td> <td class=\\\"cell-2\\\" style=\\\"\\\">http://phenomena.nationalgeographic.com</td></tr>\\n<tr><td class=\\\"cell-1\\\" style=\\\"text-align:right;\\\">214</td> <td class=\\\"cell-2\\\" style=\\\"\\\">http://phenomena.nationalgeographic.com/2015/08/19/whos-the-first-person-in-history-whose-name-we-know</td></tr>\\n<tr><td class=\\\"cell-1\\\" style=\\\"text-align:right;\\\">204</td> <td class=\\\"cell-2\\\" style=\\\"\\\">http://phenomena.nationalgeographic.com/2014/07/03/natures-most-amazing-eyes-just-got-a-bit-weirder</td></tr>\\n<tr><td class=\\\"cell-1\\\" style=\\\"text-align:right;\\\">200</td> <td class=\\\"cell-2\\\" style=\\\"\\\">http://phenomena.nationalgeographic.com/2015/05/15/this-is-what-happens-when-you-use-rat-poison-flymageddon</td></tr>\\n<tr><td class=\\\"cell-1\\\" style=\\\"text-align:right;\\\">135</td> <td class=\\\"cell-2\\\" style=\\\"\\\">http://phenomena.nationalgeographic.com/2013/10/30/heres-what-happens-when-a-tick-bites-you</td></tr>\\n<tr><td class=\\\"cell-1\\\" style=\\\"text-align:right;\\\">131</td> <td class=\\\"cell-2\\\" style=\\\"\\\">http://phenomena.nationalgeographic.com/2013/10/23/how-many-cells-are-in-your-body</td></tr>\\n<tr><td class=\\\"cell-1\\\" style=\\\"text-align:right;\\\">124</td> <td class=\\\"cell-2\\\" style=\\\"\\\">http://phenomena.nationalgeographic.com/2014/01/15/birds-that-fly-in-a-v-formation-use-an-amazing-trick</td></tr>\\n<tr><td class=\\\"cell-1\\\" style=\\\"text-align:right;\\\">101</td> <td class=\\\"cell-2\\\" style=\\\"\\\">http://phenomena.nationalgeographic.com/2015/08/14/yes-rats-can-swim-up-your-toilet-and-it-gets-worse-than-that</td></tr>\\n<tr><td class=\\\"cell-1\\\" style=\\\"text-align:right;\\\">87</td> <td class=\\\"cell-2\\\" style=\\\"\\\">http://phenomena.nationalgeographic.com/2013/01/02/the-norovirus-a-study-in-puked-perfection</td></tr>\\n<tr><td class=\\\"cell-1\\\" style=\\\"text-align:right;\\\">84</td> <td class=\\\"cell-2\\\" style=\\\"\\\">http://phenomena.nationalgeographic.com/2014/04/21/the-tragic-story-of-how-einsteins-brain-was-stolen-and-wasnt-even-special</td></tr>\\n<tr><td class=\\\"cell-1\\\" style=\\\"text-align:right;\\\">83</td> <td class=\\\"cell-2\\\" style=\\\"\\\">http://phenomena.nationalgeographic.com/2013/06/06/how-chickens-lost-their-penises-ducks-kept-theirs</td></tr>\\n<tr><td class=\\\"cell-1\\\" style=\\\"text-align:right;\\\">81</td> <td class=\\\"cell-2\\\" style=\\\"\\\">http://phenomena.nationalgeographic.com/2013/08/06/heres-what-happens-inside-you-when-a-mosquito-bites</td></tr>\\n    \\n    <tr><td class=\\\"cell-1\\\" style=\\\"text-align:right;\\\">81</td> <td class=\\\"cell-2\\\" style=\\\"\\\">http://phenomena.nationalgeographic.com/2014/04/28/how-many-people-are-wrongly-convicted-researchers-do-the-math</td></tr>\\n<tr><td class=\\\"cell-1\\\" style=\\\"text-align:right;\\\">74</td> <td class=\\\"cell-2\\\" style=\\\"\\\">http://phenomena.nationalgeographic.com/2013/04/11/why-does-music-feel-so-good</td></tr>\\n<tr><td class=\\\"cell-1\\\" style=\\\"text-align:right;\\\">65</td> <td class=\\\"cell-2\\\" style=\\\"\\\">http://phenomena.nationalgeographic.com/2014/02/26/how-the-blind-dream</td></tr>\\n<tr><td class=\\\"cell-1\\\" style=\\\"text-align:right;\\\">62</td> <td class=\\\"cell-2\\\" style=\\\"\\\">http://phenomena.nationalgeographic.com/2015/12/14/you-cant-buy-antibiotics-over-the-counter-can-you-yes-you-can</td></tr>\\n<tr><td class=\\\"cell-1\\\" style=\\\"text-align:right;\\\">59</td> <td class=\\\"cell-2\\\" style=\\\"\\\">http://phenomena.nationalgeographic.com/2013/06/27/the-myth-of-the-komodo-dragons-dirty-mouth</td></tr>\\n<tr><td class=\\\"cell-1\\\" style=\\\"text-align:right;\\\">58</td> <td class=\\\"cell-2\\\" style=\\\"\\\">http://phenomena.nationalgeographic.com/2015/08/03/why-do-people-sometimes-like-stinky-things</td></tr>\\n<tr><td class=\\\"cell-1\\\" style=\\\"text-align:right;\\\">56</td> <td class=\\\"cell-2\\\" style=\\\"\\\">http://phenomena.nationalgeographic.com/2013/05/14/3-d-scans-caterpillars-transforming-butterflies-metamorphosis</td></tr>\\n<tr><td class=\\\"cell-1\\\" style=\\\"text-align:right;\\\">53</td> <td class=\\\"cell-2\\\" style=\\\"\\\">http://phenomena.nationalgeographic.com/2014/03/24/scientists-predict-our-galaxys-death</td></tr>\\n<tr><td class=\\\"cell-1\\\" style=\\\"text-align:right;\\\">52</td> <td class=\\\"cell-2\\\" style=\\\"\\\">http://phenomena.nationalgeographic.com/blog/all-over-the-map</td></tr>\\n<tr><td class=\\\"cell-1\\\" style=\\\"text-align:right;\\\">52</td> <td class=\\\"cell-2\\\" style=\\\"\\\">http://phenomena.nationalgeographic.com/2013/02/28/tongue-eating-fish-parasites-never-cease-to-amaze</td></tr>\\n<tr><td class=\\\"cell-1\\\" style=\\\"text-align:right;\\\">51</td> <td class=\\\"cell-2\\\" style=\\\"\\\">http://phenomena.nationalgeographic.com/blog/not-exactly-rocket-science</td></tr>\\n    </tbody>\\n\")"
      ]
     },
     "metadata": {},
     "output_type": "display_data"
    },
    {
     "data": {
      "text/html": [
       "<div class=\"dswbOutputText\"><h1 class=\"chart_title\" style=\"color:#ccc\">Top 10000 (min 20) URLs for Ocean</h1><h3 class=\"chart_info\" style=\"color:#ccc\">Note: If you see AEM URL's in this list tell Chris Davis</h3><h3 class=\"chart_info\" style=\"color:#ccc\">November 4, 2017 23:59:00 to November 5, 2017 23:59:00 Local Time</h3></div>"
      ]
     },
     "metadata": {},
     "output_type": "display_data"
    },
    {
     "data": {
      "text/html": [
       "    <table  class=\"dataframe-table\">\n",
       "    <thead><tr><th class=\"cell-1\" style=\"\">Views</th> <th class=\"cell-2\" style=\"\">Url - Ocean</th></tr></thead>\n",
       "    <tbody>\n",
       "    <tr><td class=\"cell-1\" style=\"text-align:right;\">250</td> <td class=\"cell-2\" style=\"\">http://ocean.nationalgeographic.com/ocean/take-action/10-things-you-can-do-to-save-the-ocean</td></tr>\n",
       "<tr><td class=\"cell-1\" style=\"text-align:right;\">130</td> <td class=\"cell-2\" style=\"\">http://ocean.nationalgeographic.com/ocean/photos/strange-looking-sea-creatures</td></tr>\n",
       "<tr><td class=\"cell-1\" style=\"text-align:right;\">117</td> <td class=\"cell-2\" style=\"\">http://ocean.nationalgeographic.com/ocean/photos/colossal-sea-creatures</td></tr>\n",
       "<tr><td class=\"cell-1\" style=\"text-align:right;\">86</td> <td class=\"cell-2\" style=\"\">http://ocean.nationalgeographic.com/ocean/photos/colorful-sea-creatures</td></tr>\n",
       "<tr><td class=\"cell-1\" style=\"text-align:right;\">67</td> <td class=\"cell-2\" style=\"\">http://ocean.nationalgeographic.com/ocean/photos/dangerous-sea-creatures</td></tr>\n",
       "<tr><td class=\"cell-1\" style=\"text-align:right;\">62</td> <td class=\"cell-2\" style=\"\">http://ocean.nationalgeographic.com/ocean/photos/ocean-rays</td></tr>\n",
       "<tr><td class=\"cell-1\" style=\"text-align:right;\">55</td> <td class=\"cell-2\" style=\"\">http://ocean.nationalgeographic.com/ocean/photos/toxic-sea-creatures</td></tr>\n",
       "<tr><td class=\"cell-1\" style=\"text-align:right;\">55</td> <td class=\"cell-2\" style=\"\">http://ocean.nationalgeographic.com/ocean/photos/ocean-jellyfish</td></tr>\n",
       "<tr><td class=\"cell-1\" style=\"text-align:right;\">49</td> <td class=\"cell-2\" style=\"\">http://ocean.nationalgeographic.com/critical-issues-sea-level-rise</td></tr>\n",
       "<tr><td class=\"cell-1\" style=\"text-align:right;\">45</td> <td class=\"cell-2\" style=\"\">http://ocean.nationalgeographic.com/ocean/photos/oceans</td></tr>\n",
       "    \n",
       "    <tr><td class=\"cell-1\" style=\"text-align:right;\">36</td> <td class=\"cell-2\" style=\"\">http://ocean.nationalgeographic.com/ocean/photos/unique-sea-creatures</td></tr>\n",
       "<tr><td class=\"cell-1\" style=\"text-align:right;\">36</td> <td class=\"cell-2\" style=\"\">http://ocean.nationalgeographic.com/ocean/photos/oceans-galleries-main</td></tr>\n",
       "<tr><td class=\"cell-1\" style=\"text-align:right;\">31</td> <td class=\"cell-2\" style=\"\">http://ocean.nationalgeographic.com/ocean/photos/ocean-pollution</td></tr>\n",
       "<tr><td class=\"cell-1\" style=\"text-align:right;\">30</td> <td class=\"cell-2\" style=\"\">http://ocean.nationalgeographic.com/ocean/photos/ocean-corals</td></tr>\n",
       "<tr><td class=\"cell-1\" style=\"text-align:right;\">30</td> <td class=\"cell-2\" style=\"\">http://ocean.nationalgeographic.com/ocean/photos/marine-worms</td></tr>\n",
       "<tr><td class=\"cell-1\" style=\"text-align:right;\">27</td> <td class=\"cell-2\" style=\"\">http://ocean.nationalgeographic.com/ocean/photos/sea-urchins</td></tr>\n",
       "<tr><td class=\"cell-1\" style=\"text-align:right;\">24</td> <td class=\"cell-2\" style=\"\">http://ocean.nationalgeographic.com/ocean/photos/undersea-camouflage</td></tr>\n",
       "<tr><td class=\"cell-1\" style=\"text-align:right;\">23</td> <td class=\"cell-2\" style=\"\">http://ocean.nationalgeographic.com/ocean/photos/us-marine-protected-areas</td></tr>\n",
       "<tr><td class=\"cell-1\" style=\"text-align:right;\">22</td> <td class=\"cell-2\" style=\"\">http://ocean.nationalgeographic.com/ocean/photos/sea-birds</td></tr>\n",
       "    </tbody>\n"
      ],
      "text/plain": [
       "HTML{UTF8String}(\"    <table  class=\\\"dataframe-table\\\">\\n    <thead><tr><th class=\\\"cell-1\\\" style=\\\"\\\">Views</th> <th class=\\\"cell-2\\\" style=\\\"\\\">Url - Ocean</th></tr></thead>\\n    <tbody>\\n    <tr><td class=\\\"cell-1\\\" style=\\\"text-align:right;\\\">250</td> <td class=\\\"cell-2\\\" style=\\\"\\\">http://ocean.nationalgeographic.com/ocean/take-action/10-things-you-can-do-to-save-the-ocean</td></tr>\\n<tr><td class=\\\"cell-1\\\" style=\\\"text-align:right;\\\">130</td> <td class=\\\"cell-2\\\" style=\\\"\\\">http://ocean.nationalgeographic.com/ocean/photos/strange-looking-sea-creatures</td></tr>\\n<tr><td class=\\\"cell-1\\\" style=\\\"text-align:right;\\\">117</td> <td class=\\\"cell-2\\\" style=\\\"\\\">http://ocean.nationalgeographic.com/ocean/photos/colossal-sea-creatures</td></tr>\\n<tr><td class=\\\"cell-1\\\" style=\\\"text-align:right;\\\">86</td> <td class=\\\"cell-2\\\" style=\\\"\\\">http://ocean.nationalgeographic.com/ocean/photos/colorful-sea-creatures</td></tr>\\n<tr><td class=\\\"cell-1\\\" style=\\\"text-align:right;\\\">67</td> <td class=\\\"cell-2\\\" style=\\\"\\\">http://ocean.nationalgeographic.com/ocean/photos/dangerous-sea-creatures</td></tr>\\n<tr><td class=\\\"cell-1\\\" style=\\\"text-align:right;\\\">62</td> <td class=\\\"cell-2\\\" style=\\\"\\\">http://ocean.nationalgeographic.com/ocean/photos/ocean-rays</td></tr>\\n<tr><td class=\\\"cell-1\\\" style=\\\"text-align:right;\\\">55</td> <td class=\\\"cell-2\\\" style=\\\"\\\">http://ocean.nationalgeographic.com/ocean/photos/toxic-sea-creatures</td></tr>\\n<tr><td class=\\\"cell-1\\\" style=\\\"text-align:right;\\\">55</td> <td class=\\\"cell-2\\\" style=\\\"\\\">http://ocean.nationalgeographic.com/ocean/photos/ocean-jellyfish</td></tr>\\n<tr><td class=\\\"cell-1\\\" style=\\\"text-align:right;\\\">49</td> <td class=\\\"cell-2\\\" style=\\\"\\\">http://ocean.nationalgeographic.com/critical-issues-sea-level-rise</td></tr>\\n<tr><td class=\\\"cell-1\\\" style=\\\"text-align:right;\\\">45</td> <td class=\\\"cell-2\\\" style=\\\"\\\">http://ocean.nationalgeographic.com/ocean/photos/oceans</td></tr>\\n    \\n    <tr><td class=\\\"cell-1\\\" style=\\\"text-align:right;\\\">36</td> <td class=\\\"cell-2\\\" style=\\\"\\\">http://ocean.nationalgeographic.com/ocean/photos/unique-sea-creatures</td></tr>\\n<tr><td class=\\\"cell-1\\\" style=\\\"text-align:right;\\\">36</td> <td class=\\\"cell-2\\\" style=\\\"\\\">http://ocean.nationalgeographic.com/ocean/photos/oceans-galleries-main</td></tr>\\n<tr><td class=\\\"cell-1\\\" style=\\\"text-align:right;\\\">31</td> <td class=\\\"cell-2\\\" style=\\\"\\\">http://ocean.nationalgeographic.com/ocean/photos/ocean-pollution</td></tr>\\n<tr><td class=\\\"cell-1\\\" style=\\\"text-align:right;\\\">30</td> <td class=\\\"cell-2\\\" style=\\\"\\\">http://ocean.nationalgeographic.com/ocean/photos/ocean-corals</td></tr>\\n<tr><td class=\\\"cell-1\\\" style=\\\"text-align:right;\\\">30</td> <td class=\\\"cell-2\\\" style=\\\"\\\">http://ocean.nationalgeographic.com/ocean/photos/marine-worms</td></tr>\\n<tr><td class=\\\"cell-1\\\" style=\\\"text-align:right;\\\">27</td> <td class=\\\"cell-2\\\" style=\\\"\\\">http://ocean.nationalgeographic.com/ocean/photos/sea-urchins</td></tr>\\n<tr><td class=\\\"cell-1\\\" style=\\\"text-align:right;\\\">24</td> <td class=\\\"cell-2\\\" style=\\\"\\\">http://ocean.nationalgeographic.com/ocean/photos/undersea-camouflage</td></tr>\\n<tr><td class=\\\"cell-1\\\" style=\\\"text-align:right;\\\">23</td> <td class=\\\"cell-2\\\" style=\\\"\\\">http://ocean.nationalgeographic.com/ocean/photos/us-marine-protected-areas</td></tr>\\n<tr><td class=\\\"cell-1\\\" style=\\\"text-align:right;\\\">22</td> <td class=\\\"cell-2\\\" style=\\\"\\\">http://ocean.nationalgeographic.com/ocean/photos/sea-birds</td></tr>\\n    </tbody>\\n\")"
      ]
     },
     "metadata": {},
     "output_type": "display_data"
    },
    {
     "data": {
      "text/html": [
       "<div class=\"dswbOutputText\"><h1 class=\"chart_title\" style=\"color:#ccc\">Top 10000 (min 0) URLs for Sponsored</h1><h3 class=\"chart_info\" style=\"color:#ccc\">Note: If you see AEM URL's in this list tell Chris Davis</h3><h3 class=\"chart_info\" style=\"color:#ccc\">November 4, 2017 23:59:00 to November 5, 2017 23:59:00 Local Time</h3></div>"
      ]
     },
     "metadata": {},
     "output_type": "display_data"
    },
    {
     "data": {
      "text/html": [
       "    <table  class=\"dataframe-table\">\n",
       "    <thead><tr><th class=\"cell-1\" style=\"\">Views</th> <th class=\"cell-2\" style=\"\">Url - Sponsored</th></tr></thead>\n",
       "    <tbody>\n",
       "    <tr><td class=\"cell-1\" style=\"text-align:right;\">149</td> <td class=\"cell-2\" style=\"\">https://www.nationalgeographic.com/voteyourmainstreet</td></tr>\n",
       "<tr><td class=\"cell-1\" style=\"text-align:right;\">47</td> <td class=\"cell-2\" style=\"\">https://www.nationalgeographic.com/staralliance20</td></tr>\n",
       "<tr><td class=\"cell-1\" style=\"text-align:right;\">46</td> <td class=\"cell-2\" style=\"\">https://www.nationalgeographic.com/mymaviccontest</td></tr>\n",
       "<tr><td class=\"cell-1\" style=\"text-align:right;\">10</td> <td class=\"cell-2\" style=\"\">https://www.nationalgeographic.com/microsoft/sevenwonders</td></tr>\n",
       "<tr><td class=\"cell-1\" style=\"text-align:right;\">9</td> <td class=\"cell-2\" style=\"\">https://www.nationalgeographic.com/microsoft/victoriafalls</td></tr>\n",
       "<tr><td class=\"cell-1\" style=\"text-align:right;\">2</td> <td class=\"cell-2\" style=\"\">https://www.nationalgeographic.com/microsoft/americanwest/tips.html</td></tr>\n",
       "<tr><td class=\"cell-1\" style=\"text-align:right;\">2</td> <td class=\"cell-2\" style=\"\">https://www.nationalgeographic.com/cisco/digital-transformation-stories.html</td></tr>\n",
       "    \n",
       "    <tr><td class=\"cell-1\" style=\"text-align:right;\">1</td> <td class=\"cell-2\" style=\"\">https://www.nationalgeographic.com/microsoft/everest</td></tr>\n",
       "<tr><td class=\"cell-1\" style=\"text-align:right;\">1</td> <td class=\"cell-2\" style=\"\">https://www.nationalgeographic.com/microsoft/paricutin</td></tr>\n",
       "<tr><td class=\"cell-1\" style=\"text-align:right;\">1</td> <td class=\"cell-2\" style=\"\">https://www.nationalgeographic.com/microsoft/americanwest</td></tr>\n",
       "<tr><td class=\"cell-1\" style=\"text-align:right;\">1</td> <td class=\"cell-2\" style=\"\">https://www.nationalgeographic.com/microsoft/victoriafalls/journal.html</td></tr>\n",
       "<tr><td class=\"cell-1\" style=\"text-align:right;\">1</td> <td class=\"cell-2\" style=\"\">https://www.nationalgeographic.com/staralliance</td></tr>\n",
       "<tr><td class=\"cell-1\" style=\"text-align:right;\">1</td> <td class=\"cell-2\" style=\"\">https://www.nationalgeographic.com/microsoft/rio</td></tr>\n",
       "<tr><td class=\"cell-1\" style=\"text-align:right;\">1</td> <td class=\"cell-2\" style=\"\">https://www.nationalgeographic.com/microsoft/auroraborealis</td></tr>\n",
       "    </tbody>\n"
      ],
      "text/plain": [
       "HTML{UTF8String}(\"    <table  class=\\\"dataframe-table\\\">\\n    <thead><tr><th class=\\\"cell-1\\\" style=\\\"\\\">Views</th> <th class=\\\"cell-2\\\" style=\\\"\\\">Url - Sponsored</th></tr></thead>\\n    <tbody>\\n    <tr><td class=\\\"cell-1\\\" style=\\\"text-align:right;\\\">149</td> <td class=\\\"cell-2\\\" style=\\\"\\\">https://www.nationalgeographic.com/voteyourmainstreet</td></tr>\\n<tr><td class=\\\"cell-1\\\" style=\\\"text-align:right;\\\">47</td> <td class=\\\"cell-2\\\" style=\\\"\\\">https://www.nationalgeographic.com/staralliance20</td></tr>\\n<tr><td class=\\\"cell-1\\\" style=\\\"text-align:right;\\\">46</td> <td class=\\\"cell-2\\\" style=\\\"\\\">https://www.nationalgeographic.com/mymaviccontest</td></tr>\\n<tr><td class=\\\"cell-1\\\" style=\\\"text-align:right;\\\">10</td> <td class=\\\"cell-2\\\" style=\\\"\\\">https://www.nationalgeographic.com/microsoft/sevenwonders</td></tr>\\n<tr><td class=\\\"cell-1\\\" style=\\\"text-align:right;\\\">9</td> <td class=\\\"cell-2\\\" style=\\\"\\\">https://www.nationalgeographic.com/microsoft/victoriafalls</td></tr>\\n<tr><td class=\\\"cell-1\\\" style=\\\"text-align:right;\\\">2</td> <td class=\\\"cell-2\\\" style=\\\"\\\">https://www.nationalgeographic.com/microsoft/americanwest/tips.html</td></tr>\\n<tr><td class=\\\"cell-1\\\" style=\\\"text-align:right;\\\">2</td> <td class=\\\"cell-2\\\" style=\\\"\\\">https://www.nationalgeographic.com/cisco/digital-transformation-stories.html</td></tr>\\n    \\n    <tr><td class=\\\"cell-1\\\" style=\\\"text-align:right;\\\">1</td> <td class=\\\"cell-2\\\" style=\\\"\\\">https://www.nationalgeographic.com/microsoft/everest</td></tr>\\n<tr><td class=\\\"cell-1\\\" style=\\\"text-align:right;\\\">1</td> <td class=\\\"cell-2\\\" style=\\\"\\\">https://www.nationalgeographic.com/microsoft/paricutin</td></tr>\\n<tr><td class=\\\"cell-1\\\" style=\\\"text-align:right;\\\">1</td> <td class=\\\"cell-2\\\" style=\\\"\\\">https://www.nationalgeographic.com/microsoft/americanwest</td></tr>\\n<tr><td class=\\\"cell-1\\\" style=\\\"text-align:right;\\\">1</td> <td class=\\\"cell-2\\\" style=\\\"\\\">https://www.nationalgeographic.com/microsoft/victoriafalls/journal.html</td></tr>\\n<tr><td class=\\\"cell-1\\\" style=\\\"text-align:right;\\\">1</td> <td class=\\\"cell-2\\\" style=\\\"\\\">https://www.nationalgeographic.com/staralliance</td></tr>\\n<tr><td class=\\\"cell-1\\\" style=\\\"text-align:right;\\\">1</td> <td class=\\\"cell-2\\\" style=\\\"\\\">https://www.nationalgeographic.com/microsoft/rio</td></tr>\\n<tr><td class=\\\"cell-1\\\" style=\\\"text-align:right;\\\">1</td> <td class=\\\"cell-2\\\" style=\\\"\\\">https://www.nationalgeographic.com/microsoft/auroraborealis</td></tr>\\n    </tbody>\\n\")"
      ]
     },
     "metadata": {},
     "output_type": "display_data"
    },
    {
     "data": {
      "text/html": [
       "<div class=\"dswbOutputText\"><h1 class=\"chart_title\" style=\"color:#ccc\">Top 10000 (min 10) URLs for Tickets</h1><h3 class=\"chart_info\" style=\"color:#ccc\">Note: If you see AEM URL's in this list tell Chris Davis</h3><h3 class=\"chart_info\" style=\"color:#ccc\">November 4, 2017 23:59:00 to November 5, 2017 23:59:00 Local Time</h3></div>"
      ]
     },
     "metadata": {},
     "output_type": "display_data"
    },
    {
     "data": {
      "text/html": [
       "    <table  class=\"dataframe-table\">\n",
       "    <thead><tr><th class=\"cell-1\" style=\"\">Views</th> <th class=\"cell-2\" style=\"\">Url - Tickets</th></tr></thead>\n",
       "    <tbody>\n",
       "    <tr><td class=\"cell-1\" style=\"text-align:right;\">108</td> <td class=\"cell-2\" style=\"\">http://tickets.nationalgeographic.com/single/SelectSeating.aspx</td></tr>\n",
       "<tr><td class=\"cell-1\" style=\"text-align:right;\">85</td> <td class=\"cell-2\" style=\"\">http://tickets.nationalgeographic.com/single/eventlisting.aspx</td></tr>\n",
       "<tr><td class=\"cell-1\" style=\"text-align:right;\">44</td> <td class=\"cell-2\" style=\"\">https://tickets.nationalgeographic.com/account/login.aspx</td></tr>\n",
       "<tr><td class=\"cell-1\" style=\"text-align:right;\">40</td> <td class=\"cell-2\" style=\"\">https://tickets.nationalgeographic.com/cart/cart.aspx</td></tr>\n",
       "<tr><td class=\"cell-1\" style=\"text-align:right;\">39</td> <td class=\"cell-2\" style=\"\">https://tickets.nationalgeographic.com/cart/precart.aspx</td></tr>\n",
       "<tr><td class=\"cell-1\" style=\"text-align:right;\">32</td> <td class=\"cell-2\" style=\"\">https://tickets.nationalgeographic.com/checkout/shipping.aspx</td></tr>\n",
       "    \n",
       "    <tr><td class=\"cell-1\" style=\"text-align:right;\">22</td> <td class=\"cell-2\" style=\"\">http://tickets.nationalgeographic.com/single/EventListing.aspx</td></tr>\n",
       "<tr><td class=\"cell-1\" style=\"text-align:right;\">21</td> <td class=\"cell-2\" style=\"\">https://tickets.nationalgeographic.com/account/register.aspx</td></tr>\n",
       "<tr><td class=\"cell-1\" style=\"text-align:right;\">17</td> <td class=\"cell-2\" style=\"\">https://tickets.nationalgeographic.com/checkout/receipt.aspx</td></tr>\n",
       "<tr><td class=\"cell-1\" style=\"text-align:right;\">15</td> <td class=\"cell-2\" style=\"\">https://tickets.nationalgeographic.com/checkout/payment.aspx</td></tr>\n",
       "<tr><td class=\"cell-1\" style=\"text-align:right;\">13</td> <td class=\"cell-2\" style=\"\">http://tickets.nationalgeographic.com/single/PSDetail.aspx</td></tr>\n",
       "<tr><td class=\"cell-1\" style=\"text-align:right;\">13</td> <td class=\"cell-2\" style=\"\">https://tickets.nationalgeographic.com/account/shortreg.aspx</td></tr>\n",
       "    </tbody>\n"
      ],
      "text/plain": [
       "HTML{UTF8String}(\"    <table  class=\\\"dataframe-table\\\">\\n    <thead><tr><th class=\\\"cell-1\\\" style=\\\"\\\">Views</th> <th class=\\\"cell-2\\\" style=\\\"\\\">Url - Tickets</th></tr></thead>\\n    <tbody>\\n    <tr><td class=\\\"cell-1\\\" style=\\\"text-align:right;\\\">108</td> <td class=\\\"cell-2\\\" style=\\\"\\\">http://tickets.nationalgeographic.com/single/SelectSeating.aspx</td></tr>\\n<tr><td class=\\\"cell-1\\\" style=\\\"text-align:right;\\\">85</td> <td class=\\\"cell-2\\\" style=\\\"\\\">http://tickets.nationalgeographic.com/single/eventlisting.aspx</td></tr>\\n<tr><td class=\\\"cell-1\\\" style=\\\"text-align:right;\\\">44</td> <td class=\\\"cell-2\\\" style=\\\"\\\">https://tickets.nationalgeographic.com/account/login.aspx</td></tr>\\n<tr><td class=\\\"cell-1\\\" style=\\\"text-align:right;\\\">40</td> <td class=\\\"cell-2\\\" style=\\\"\\\">https://tickets.nationalgeographic.com/cart/cart.aspx</td></tr>\\n<tr><td class=\\\"cell-1\\\" style=\\\"text-align:right;\\\">39</td> <td class=\\\"cell-2\\\" style=\\\"\\\">https://tickets.nationalgeographic.com/cart/precart.aspx</td></tr>\\n<tr><td class=\\\"cell-1\\\" style=\\\"text-align:right;\\\">32</td> <td class=\\\"cell-2\\\" style=\\\"\\\">https://tickets.nationalgeographic.com/checkout/shipping.aspx</td></tr>\\n    \\n    <tr><td class=\\\"cell-1\\\" style=\\\"text-align:right;\\\">22</td> <td class=\\\"cell-2\\\" style=\\\"\\\">http://tickets.nationalgeographic.com/single/EventListing.aspx</td></tr>\\n<tr><td class=\\\"cell-1\\\" style=\\\"text-align:right;\\\">21</td> <td class=\\\"cell-2\\\" style=\\\"\\\">https://tickets.nationalgeographic.com/account/register.aspx</td></tr>\\n<tr><td class=\\\"cell-1\\\" style=\\\"text-align:right;\\\">17</td> <td class=\\\"cell-2\\\" style=\\\"\\\">https://tickets.nationalgeographic.com/checkout/receipt.aspx</td></tr>\\n<tr><td class=\\\"cell-1\\\" style=\\\"text-align:right;\\\">15</td> <td class=\\\"cell-2\\\" style=\\\"\\\">https://tickets.nationalgeographic.com/checkout/payment.aspx</td></tr>\\n<tr><td class=\\\"cell-1\\\" style=\\\"text-align:right;\\\">13</td> <td class=\\\"cell-2\\\" style=\\\"\\\">http://tickets.nationalgeographic.com/single/PSDetail.aspx</td></tr>\\n<tr><td class=\\\"cell-1\\\" style=\\\"text-align:right;\\\">13</td> <td class=\\\"cell-2\\\" style=\\\"\\\">https://tickets.nationalgeographic.com/account/shortreg.aspx</td></tr>\\n    </tbody>\\n\")"
      ]
     },
     "metadata": {},
     "output_type": "display_data"
    },
    {
     "data": {
      "text/html": [
       "<div class=\"dswbOutputText\"><h1 class=\"chart_title\" style=\"color:#ccc\">Top 10000 (min 15) URLs for Travel WP</h1><h3 class=\"chart_info\" style=\"color:#ccc\">Note: If you see AEM URL's in this list tell Chris Davis</h3><h3 class=\"chart_info\" style=\"color:#ccc\">November 4, 2017 23:59:00 to November 5, 2017 23:59:00 Local Time</h3></div>"
      ]
     },
     "metadata": {},
     "output_type": "display_data"
    },
    {
     "data": {
      "text/html": [
       "    <table  class=\"dataframe-table\">\n",
       "    <thead><tr><th class=\"cell-1\" style=\"\">Views</th> <th class=\"cell-2\" style=\"\">Url - Travel WP</th></tr></thead>\n",
       "    <tbody>\n",
       "    <tr><td class=\"cell-1\" style=\"text-align:right;\">238</td> <td class=\"cell-2\" style=\"\">http://intelligenttravel.nationalgeographic.com/2012/12/28/the-10-best-chocolatiers-in-the-world</td></tr>\n",
       "<tr><td class=\"cell-1\" style=\"text-align:right;\">111</td> <td class=\"cell-2\" style=\"\">http://intelligenttravel.nationalgeographic.com/2013/09/05/how-to-turn-your-car-into-a-camper</td></tr>\n",
       "<tr><td class=\"cell-1\" style=\"text-align:right;\">106</td> <td class=\"cell-2\" style=\"\">http://intelligenttravel.nationalgeographic.com/2013/01/22/so-you-want-to-be-a-tour-guide-afitz</td></tr>\n",
       "<tr><td class=\"cell-1\" style=\"text-align:right;\">94</td> <td class=\"cell-2\" style=\"\">http://intelligenttravel.nationalgeographic.com/2013/07/29/the-truth-about-bedbugs</td></tr>\n",
       "<tr><td class=\"cell-1\" style=\"text-align:right;\">68</td> <td class=\"cell-2\" style=\"\">http://intelligenttravel.nationalgeographic.com/2012/12/11/why-you-should-visit-montreal-in-december-afitz</td></tr>\n",
       "<tr><td class=\"cell-1\" style=\"text-align:right;\">68</td> <td class=\"cell-2\" style=\"\">http://intelligenttravel.nationalgeographic.com/2015/05/26/jane-goodall-what-i-know</td></tr>\n",
       "<tr><td class=\"cell-1\" style=\"text-align:right;\">62</td> <td class=\"cell-2\" style=\"\">http://intelligenttravel.nationalgeographic.com/2013/06/14/how-to-become-a-nat-geo-photographer</td></tr>\n",
       "<tr><td class=\"cell-1\" style=\"text-align:right;\">38</td> <td class=\"cell-2\" style=\"\">http://intelligenttravel.nationalgeographic.com/2009/03/19/blogging_through_israel_bobbin</td></tr>\n",
       "<tr><td class=\"cell-1\" style=\"text-align:right;\">38</td> <td class=\"cell-2\" style=\"\">http://intelligenttravel.nationalgeographic.com/2015/03/27/seven-perfect-days-in-belize</td></tr>\n",
       "<tr><td class=\"cell-1\" style=\"text-align:right;\">37</td> <td class=\"cell-2\" style=\"\">http://intelligenttravel.nationalgeographic.com/2014/12/04/why-i-love-london-in-the-winter</td></tr>\n",
       "    \n",
       "    <tr><td class=\"cell-1\" style=\"text-align:right;\">37</td> <td class=\"cell-2\" style=\"\">http://intelligenttravel.nationalgeographic.com/2009/09/17/50_places_of_a_lifetime_1</td></tr>\n",
       "<tr><td class=\"cell-1\" style=\"text-align:right;\">37</td> <td class=\"cell-2\" style=\"\">http://intelligenttravel.nationalgeographic.com/2011/09/28/i-heart-my-city-rachels-dakar-senegal</td></tr>\n",
       "<tr><td class=\"cell-1\" style=\"text-align:right;\">37</td> <td class=\"cell-2\" style=\"\">http://intelligenttravel.nationalgeographic.com/2015/11/11/neighborhood-watch-san-antonios-pearl-district-texas-afitz</td></tr>\n",
       "<tr><td class=\"cell-1\" style=\"text-align:right;\">32</td> <td class=\"cell-2\" style=\"\">http://intelligenttravel.nationalgeographic.com/2010/01/29/top_ten_sights_in_western_cana</td></tr>\n",
       "<tr><td class=\"cell-1\" style=\"text-align:right;\">30</td> <td class=\"cell-2\" style=\"\">http://intelligenttravel.nationalgeographic.com/2012/02/24/the-10-rules-of-packing</td></tr>\n",
       "<tr><td class=\"cell-1\" style=\"text-align:right;\">28</td> <td class=\"cell-2\" style=\"\">http://intelligenttravel.nationalgeographic.com</td></tr>\n",
       "<tr><td class=\"cell-1\" style=\"text-align:right;\">27</td> <td class=\"cell-2\" style=\"\">http://intelligenttravel.nationalgeographic.com/2013/02/14/how-to-pack-for-weekend-trips-afitz</td></tr>\n",
       "<tr><td class=\"cell-1\" style=\"text-align:right;\">26</td> <td class=\"cell-2\" style=\"\">http://intelligenttravel.nationalgeographic.com/2010/11/12/slide_down_the_great_wall</td></tr>\n",
       "<tr><td class=\"cell-1\" style=\"text-align:right;\">16</td> <td class=\"cell-2\" style=\"\">http://intelligenttravel.nationalgeographic.com/2015/09/29/travel-sketching-101</td></tr>\n",
       "    </tbody>\n"
      ],
      "text/plain": [
       "HTML{UTF8String}(\"    <table  class=\\\"dataframe-table\\\">\\n    <thead><tr><th class=\\\"cell-1\\\" style=\\\"\\\">Views</th> <th class=\\\"cell-2\\\" style=\\\"\\\">Url - Travel WP</th></tr></thead>\\n    <tbody>\\n    <tr><td class=\\\"cell-1\\\" style=\\\"text-align:right;\\\">238</td> <td class=\\\"cell-2\\\" style=\\\"\\\">http://intelligenttravel.nationalgeographic.com/2012/12/28/the-10-best-chocolatiers-in-the-world</td></tr>\\n<tr><td class=\\\"cell-1\\\" style=\\\"text-align:right;\\\">111</td> <td class=\\\"cell-2\\\" style=\\\"\\\">http://intelligenttravel.nationalgeographic.com/2013/09/05/how-to-turn-your-car-into-a-camper</td></tr>\\n<tr><td class=\\\"cell-1\\\" style=\\\"text-align:right;\\\">106</td> <td class=\\\"cell-2\\\" style=\\\"\\\">http://intelligenttravel.nationalgeographic.com/2013/01/22/so-you-want-to-be-a-tour-guide-afitz</td></tr>\\n<tr><td class=\\\"cell-1\\\" style=\\\"text-align:right;\\\">94</td> <td class=\\\"cell-2\\\" style=\\\"\\\">http://intelligenttravel.nationalgeographic.com/2013/07/29/the-truth-about-bedbugs</td></tr>\\n<tr><td class=\\\"cell-1\\\" style=\\\"text-align:right;\\\">68</td> <td class=\\\"cell-2\\\" style=\\\"\\\">http://intelligenttravel.nationalgeographic.com/2012/12/11/why-you-should-visit-montreal-in-december-afitz</td></tr>\\n<tr><td class=\\\"cell-1\\\" style=\\\"text-align:right;\\\">68</td> <td class=\\\"cell-2\\\" style=\\\"\\\">http://intelligenttravel.nationalgeographic.com/2015/05/26/jane-goodall-what-i-know</td></tr>\\n<tr><td class=\\\"cell-1\\\" style=\\\"text-align:right;\\\">62</td> <td class=\\\"cell-2\\\" style=\\\"\\\">http://intelligenttravel.nationalgeographic.com/2013/06/14/how-to-become-a-nat-geo-photographer</td></tr>\\n<tr><td class=\\\"cell-1\\\" style=\\\"text-align:right;\\\">38</td> <td class=\\\"cell-2\\\" style=\\\"\\\">http://intelligenttravel.nationalgeographic.com/2009/03/19/blogging_through_israel_bobbin</td></tr>\\n<tr><td class=\\\"cell-1\\\" style=\\\"text-align:right;\\\">38</td> <td class=\\\"cell-2\\\" style=\\\"\\\">http://intelligenttravel.nationalgeographic.com/2015/03/27/seven-perfect-days-in-belize</td></tr>\\n<tr><td class=\\\"cell-1\\\" style=\\\"text-align:right;\\\">37</td> <td class=\\\"cell-2\\\" style=\\\"\\\">http://intelligenttravel.nationalgeographic.com/2014/12/04/why-i-love-london-in-the-winter</td></tr>\\n    \\n    <tr><td class=\\\"cell-1\\\" style=\\\"text-align:right;\\\">37</td> <td class=\\\"cell-2\\\" style=\\\"\\\">http://intelligenttravel.nationalgeographic.com/2009/09/17/50_places_of_a_lifetime_1</td></tr>\\n<tr><td class=\\\"cell-1\\\" style=\\\"text-align:right;\\\">37</td> <td class=\\\"cell-2\\\" style=\\\"\\\">http://intelligenttravel.nationalgeographic.com/2011/09/28/i-heart-my-city-rachels-dakar-senegal</td></tr>\\n<tr><td class=\\\"cell-1\\\" style=\\\"text-align:right;\\\">37</td> <td class=\\\"cell-2\\\" style=\\\"\\\">http://intelligenttravel.nationalgeographic.com/2015/11/11/neighborhood-watch-san-antonios-pearl-district-texas-afitz</td></tr>\\n<tr><td class=\\\"cell-1\\\" style=\\\"text-align:right;\\\">32</td> <td class=\\\"cell-2\\\" style=\\\"\\\">http://intelligenttravel.nationalgeographic.com/2010/01/29/top_ten_sights_in_western_cana</td></tr>\\n<tr><td class=\\\"cell-1\\\" style=\\\"text-align:right;\\\">30</td> <td class=\\\"cell-2\\\" style=\\\"\\\">http://intelligenttravel.nationalgeographic.com/2012/02/24/the-10-rules-of-packing</td></tr>\\n<tr><td class=\\\"cell-1\\\" style=\\\"text-align:right;\\\">28</td> <td class=\\\"cell-2\\\" style=\\\"\\\">http://intelligenttravel.nationalgeographic.com</td></tr>\\n<tr><td class=\\\"cell-1\\\" style=\\\"text-align:right;\\\">27</td> <td class=\\\"cell-2\\\" style=\\\"\\\">http://intelligenttravel.nationalgeographic.com/2013/02/14/how-to-pack-for-weekend-trips-afitz</td></tr>\\n<tr><td class=\\\"cell-1\\\" style=\\\"text-align:right;\\\">26</td> <td class=\\\"cell-2\\\" style=\\\"\\\">http://intelligenttravel.nationalgeographic.com/2010/11/12/slide_down_the_great_wall</td></tr>\\n<tr><td class=\\\"cell-1\\\" style=\\\"text-align:right;\\\">16</td> <td class=\\\"cell-2\\\" style=\\\"\\\">http://intelligenttravel.nationalgeographic.com/2015/09/29/travel-sketching-101</td></tr>\\n    </tbody>\\n\")"
      ]
     },
     "metadata": {},
     "output_type": "display_data"
    },
    {
     "data": {
      "text/html": [
       "<div class=\"dswbOutputText\"><h1 class=\"chart_title\" style=\"color:#ccc\">Top 10000 (min 0) URLs for Video AMP</h1><h3 class=\"chart_info\" style=\"color:#ccc\">Note: If you see AEM URL's in this list tell Chris Davis</h3><h3 class=\"chart_info\" style=\"color:#ccc\">November 4, 2017 23:59:00 to November 5, 2017 23:59:00 Local Time</h3></div>"
      ]
     },
     "metadata": {},
     "output_type": "display_data"
    }
   ],
   "source": [
    "displayTitle(chart_title = \"Missing Groups\", showTimeStamp=false)\n",
    "\n",
    "firstAndLast(UP.btView,\"Channel Microsite\";rowLimit=10000,beaconsLimit=0,paginate=true);\n",
    "firstAndLast(UP.btView,\"Cheeta NGM\";        rowLimit=10000,beaconsLimit=100,paginate=true);\n",
    "firstAndLast(UP.btView,\"Food\";              rowLimit=10000,beaconsLimit=30,paginate=true);\n",
    "firstAndLast(UP.btView,\"Interactive\";      rowLimit=10000,beaconsLimit=15,paginate=true);\n",
    "firstAndLast(UP.btView,\"Help\";              rowLimit=10000,beaconsLimit=30,paginate=true);\n",
    "firstAndLast(UP.btView,\"Phenomena\";         rowLimit=10000,beaconsLimit=50,paginate=true);\n",
    "firstAndLast(UP.btView,\"Ocean\";              rowLimit=10000,beaconsLimit=20,paginate=true);\n",
    "firstAndLast(UP.btView,\"Sponsored\";         rowLimit=10000,beaconsLimit=0,paginate=true);\n",
    "firstAndLast(UP.btView,\"Tickets\";           rowLimit=10000,beaconsLimit=10,paginate=true);\n",
    "firstAndLast(UP.btView,\"Travel WP\";       rowLimit=10000,beaconsLimit=15,paginate=true);\n",
    "firstAndLast(UP.btView,\"Video AMP\";         rowLimit=10000,beaconsLimit=0,paginate=true);\n"
   ]
  },
  {
   "cell_type": "code",
   "execution_count": null,
   "metadata": {
    "collapsed": true,
    "input_collapsed": true
   },
   "outputs": [],
   "source": []
  }
 ],
 "metadata": {
  "chart_version": "1.0.0",
  "kernelspec": {
   "display_name": "Julia 0.4.7",
   "language": "julia",
   "name": "julia-0.4"
  },
  "language_info": {
   "file_extension": ".jl",
   "mimetype": "application/julia",
   "name": "julia",
   "version": "0.4.7"
  },
  "library_version": "1.0.0",
  "notebook_uuid": "7753c2b4-9005-4803-8ae2-8fb69c8c02a4",
  "readOnly": false
 },
 "nbformat": 4,
 "nbformat_minor": 0
}
