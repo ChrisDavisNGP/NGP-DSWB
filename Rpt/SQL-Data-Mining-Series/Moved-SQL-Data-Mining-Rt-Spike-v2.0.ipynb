{
 "cells": [
  {
   "cell_type": "markdown",
   "metadata": {},
   "source": [
    "***\n",
    "## RT Beacons\n",
    "***"
   ]
  },
  {
   "cell_type": "code",
   "execution_count": null,
   "metadata": {
    "collapsed": false,
    "input_collapsed": false
   },
   "outputs": [],
   "source": [
    "using ODBC\n",
    "using DataFrames\n",
    "using DSWB\n",
    "using Formatting\n",
    "\n",
    "dsn = \"dswb-natgeo\" # Redshift endpoint\n",
    "table = \"beacons_4744\" # beacon table name\n",
    "tableRt = \"beacons_4744_rt\"\n",
    "\n",
    "# Connect to Beacon Data\n",
    "setRedshiftEndpoint(dsn)\n",
    "setTable(tableRt, tableType = \"RESOURCE_TABLE\")\n",
    "#setTable(table)\n",
    ";"
   ]
  },
  {
   "cell_type": "markdown",
   "metadata": {
    "collapsed": false,
    "input_collapsed": false
   },
   "source": [
    "***\n",
    "## 1.2 Beacons Table & Schema\n",
    "***"
   ]
  },
  {
   "cell_type": "code",
   "execution_count": null,
   "metadata": {
    "collapsed": true,
    "input_collapsed": false
   },
   "outputs": [],
   "source": [
    "include(\"../../Lib/Include-Package-v2.1.jl\")\n",
    ";"
   ]
  },
  {
   "cell_type": "code",
   "execution_count": null,
   "metadata": {
    "collapsed": false,
    "input_collapsed": false
   },
   "outputs": [],
   "source": [
    "# Create temp tables for Normal timeframe and Spike timeframe\n",
    "\n",
    "urlNormal = UrlParamsInit()\n",
    "urlSpike = UrlParamsInit()\n",
    "urlCache = UrlParamsInit()\n",
    "urlSummary = UrlParamsInit()\n",
    "\n",
    "urlNormal.resourceTable = tableRt\n",
    "urlNormal.rtView = \"$(table)_rtnormal_view_prod\"\n",
    "\n",
    "urlSpike.resourceTable = tableRt\n",
    "urlSpike.rtView = \"$(table)_rtspike_view_prod\"\n",
    "\n",
    "timeNormal = anyTimeVar(2017,6,7,11,49,2017,6,7,11,59)\n",
    "timeSpike  = anyTimeVar(2017,6,8,11,49,2017,6,8,11,59)\n",
    "\n",
    "query(\"\"\"create or replace view $(urlNormal.rtView) as (select * from $(urlNormal.resourceTable) where \"timestamp\" between $(timeNormal.startTimeMsUTC) and $(timeNormal.endTimeMsUTC))\"\"\")\n",
    "query(\"\"\"create or replace view $(urlSpike.rtView)  as (select * from $(urlSpike.resourceTable)  where \"timestamp\" between  $(timeSpike.startTimeMsUTC) and  $(timeSpike.endTimeMsUTC))\"\"\")\n"
   ]
  },
  {
   "cell_type": "code",
   "execution_count": null,
   "metadata": {
    "collapsed": false,
    "input_collapsed": false
   },
   "outputs": [],
   "source": [
    "query(\"\"\"SELECT count(*) FROM $(urlNormal.rtView)\"\"\")"
   ]
  },
  {
   "cell_type": "code",
   "execution_count": null,
   "metadata": {
    "collapsed": false,
    "input_collapsed": false,
    "scrolled": true
   },
   "outputs": [],
   "source": [
    "query(\"\"\"SELECT count(*) FROM $(urlSpike.rtView)\"\"\")"
   ]
  },
  {
   "cell_type": "markdown",
   "metadata": {},
   "source": [
    "***\n",
    "## Request Counters By URL Group\n",
    "***"
   ]
  },
  {
   "cell_type": "code",
   "execution_count": null,
   "metadata": {
    "collapsed": false,
    "input_collapsed": false,
    "scrolled": false
   },
   "outputs": [],
   "source": [
    "requestCountByGroupSDMRS(timeNormal,urlNormal,\"Normal\")\n",
    "requestCountByGroupSDMRS(timeSpike,urlSpike,\"Spike\")"
   ]
  },
  {
   "cell_type": "markdown",
   "metadata": {},
   "source": [
    "***\n",
    "## Blocking Requests By URL Groups Across All Sessions\n",
    "***"
   ]
  },
  {
   "cell_type": "code",
   "execution_count": null,
   "metadata": {
    "collapsed": false,
    "input_collapsed": false,
    "scrolled": false
   },
   "outputs": [],
   "source": [
    "blockingRequestCountByGroupSDMRS(timeNormal,urlNormal,\"Normal\")\n",
    "blockingRequestCountByGroupSDMRS(timeSpike,urlSpike,\"Spike\")\n",
    ";"
   ]
  },
  {
   "cell_type": "markdown",
   "metadata": {},
   "source": [
    "***\n",
    "## Non Cache Requests Total By URL Groups Across All Sessions\n",
    "***"
   ]
  },
  {
   "cell_type": "code",
   "execution_count": null,
   "metadata": {
    "collapsed": false,
    "input_collapsed": false
   },
   "outputs": [],
   "source": [
    "nonCacheRequestCountByGroupSDMRS(timeNormal,urlNormal,\"Normal\")\n",
    "nonCacheRequestCountByGroupSDMRS(timeSpike,urlSpike,\"Spike\")\n",
    ";"
   ]
  },
  {
   "cell_type": "markdown",
   "metadata": {},
   "source": [
    "***\n",
    "##Create the Cache Ratio\n",
    "***"
   ]
  },
  {
   "cell_type": "code",
   "execution_count": null,
   "metadata": {
    "collapsed": false,
    "input_collapsed": false,
    "scrolled": false
   },
   "outputs": [],
   "source": [
    "cacheHitRatioSDMRS(timeNormal,urlNormal,\"Normal\")\n",
    "cacheHitRatioSDMRS(timeSpike,urlSpike,\"Spike\")\n",
    ";"
   ]
  },
  {
   "cell_type": "markdown",
   "metadata": {},
   "source": [
    "***\n",
    "## All Done\n",
    "***"
   ]
  },
  {
   "cell_type": "code",
   "execution_count": null,
   "metadata": {
    "collapsed": false,
    "input_collapsed": false
   },
   "outputs": [],
   "source": [
    "q = query(\"\"\" drop view if exists $(urlNormal.rtView);\"\"\")\n",
    "q = query(\"\"\" drop view if exists $(urlSpike.rtView);\"\"\")\n",
    ";"
   ]
  },
  {
   "cell_type": "code",
   "execution_count": null,
   "metadata": {
    "collapsed": true,
    "input_collapsed": true
   },
   "outputs": [],
   "source": []
  }
 ],
 "metadata": {
  "celltoolbar": "Raw Cell Format",
  "kernelspec": {
   "display_name": "Julia 0.4.7",
   "language": "julia",
   "name": "julia-0.4"
  },
  "language_info": {
   "file_extension": ".jl",
   "mimetype": "application/julia",
   "name": "julia",
   "version": "0.4.7"
  },
  "library_version": "1.0.0",
  "notebook_uuid": "223698a6-ade0-4161-8dd6-a7e3995abf69",
  "readOnly": false
 },
 "nbformat": 4,
 "nbformat_minor": 0
}
