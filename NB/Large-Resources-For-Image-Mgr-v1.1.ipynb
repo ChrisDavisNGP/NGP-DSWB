{
 "cells": [
  {
   "cell_type": "code",
   "execution_count": 1,
   "metadata": {
    "collapsed": false,
    "input_collapsed": false
   },
   "outputs": [
    {
     "name": "stdout",
     "output_type": "stream",
     "text": [
      "Redshift endpoint set: 2017-06-20T00:19:50\n"
     ]
    },
    {
     "data": {
      "text/plain": [
       "\"beacons_4744\""
      ]
     },
     "execution_count": 1,
     "metadata": {},
     "output_type": "execute_result"
    }
   ],
   "source": [
    "using ODBC\n",
    "using DataFrames\n",
    "using DSWB\n",
    "using Formatting\n",
    "\n",
    "dsn = \"dswb-natgeo\" # Redshift esetTable(tableRt, tableType = \"RESOURCE_TABLE\")ndpoint\n",
    "table = \"beacons_4744\" # beacon table name\n",
    "tableRt = \"beacons_4744_rt\"\n",
    "\n",
    "# Connect to Beacon Data\n",
    "setRedshiftEndpoint(dsn)\n",
    "setTable(tableRt, tableType = \"RESOURCE_TABLE\")\n",
    "setTable(table)"
   ]
  },
  {
   "cell_type": "code",
   "execution_count": 2,
   "metadata": {
    "collapsed": false,
    "input_collapsed": false
   },
   "outputs": [
    {
     "name": "stdout",
     "output_type": "stream",
     "text": [
      "June 11, 2017 23:59:00 to June 18, 2017 23:59:00 Local Time\n",
      "June 12, 2017 03:59:00 to June 19, 2017 03:59:00 UTC Time\n"
     ]
    }
   ],
   "source": [
    "# Packages\n",
    "include(\"/data/notebook_home/Production/Lib/Include-Package-v1.1.jl\")\n",
    "include(\"/data/notebook_home/Production/Bodies/Large-Resources-For-Image-Mgr-Body-v1.1.jl\")\n",
    "\n",
    "#timeVariables(2017,6,17,10,0,2017,6,17,10,59);\n",
    "weeklyTimeVariables(days=7);"
   ]
  },
  {
   "cell_type": "code",
   "execution_count": 3,
   "metadata": {
    "collapsed": false,
    "input_collapsed": false
   },
   "outputs": [],
   "source": [
    "UP = UrlParamsInit()\n",
    "UP.btView = \"$(table)_Large_Resources_For_Image_Mgr_view\" #localtable\n",
    "UP.pageGroup = \"%\"   #productPageGroup\n",
    "UP.urlRegEx = \"%\"   #localUrl\n",
    "UP.deviceType = \"%\"\n",
    "UP.sizeMin = 200000\n",
    "\n",
    "SG = SoastaGraphsInit()\n",
    "\n",
    "SP = ShowParamsInit()\n",
    "SP.debugLevel = 0\n",
    "\n",
    "LV = LocalVars(10,\"%\")\n",
    ";"
   ]
  },
  {
   "cell_type": "code",
   "execution_count": 4,
   "metadata": {
    "collapsed": false,
    "input_collapsed": false
   },
   "outputs": [
    {
     "name": "stdout",
     "output_type": "stream",
     "text": [
      "Low=1000 High=600000\n"
     ]
    }
   ],
   "source": [
    "#defaultLocalTableAemOnlyALR(tv,UP)\n",
    "defaultBeaconView(tv,UP,SP)\n",
    ";"
   ]
  },
  {
   "cell_type": "code",
   "execution_count": 5,
   "metadata": {
    "collapsed": false,
    "input_collapsed": false,
    "scrolled": false
   },
   "outputs": [
    {
     "name": "stdout",
     "output_type": "stream",
     "text": [
      "\"\",\"\",\".*/astrobiology/.*\",\"Astrobiology\",5,\"http://www.nationalgeographic.com/astrobiology/images/MM8277_131011_00642.jpg\"\n",
      "\"\",\"\",\".*/myaway/.*\",\"Myaway\",8,\"http://www.nationalgeographic.com/myaway/img/slide-5-mobile.jpg\"\n",
      "\"\",\"\",\".*/usofadventure/.*\",\"Us Of Adventure\",1,\"http://www.nationalgeographic.com/usofadventure/img/video/natgeo-charlotte.jpg\"\n",
      "\"\",\"\",\".*/taking-back-detroit/.*\",\"Taking Back Detroit\",45,\"http://www.nationalgeographic.com/taking-back-detroit/img/grid/grid_1536/Img4_1536.jpg\"\n",
      "\"\",\"\",\".*/hubble-timeline/.*\",\"Hubble Timeline\",9,\"http://www.nationalgeographic.com/hubble-timeline/img/Launch_0.jpg\"\n",
      "\"\",\"\",\".*/love-collection-.*\",\"Love Collection\",12,\"http://www.nationalgeographic.com/love-collection-2014/imgs/LoveCollection-YourShotLove.jpg\"\n",
      "\"\",\"\",\".*/tracking-ivory/.*\",\"Tracking Ivory\",47,\"http://www.nationalgeographic.com/tracking-ivory/assets/img/ivory1_1536.jpg\"\n",
      "\"\",\"\",\".*/discoverjapancontest/.*\",\"Discover Japan Contest\",2,\"http://www.nationalgeographic.com/discoverjapancontest/img/01.jpg\"\n",
      "\"Sponsor\",\"None\",\".*/unchartedwaters/.*\",\"Unchartedwaters\",1,\"http://www.nationalgeographic.com/unchartedwaters/assets/img/homepage/video-fpo-update.jpg\"\n",
      "\"\",\"\",\".*/journeytojordan/.*\",\"Journey To Jordan\",5,\"http://www.nationalgeographic.com/journeytojordan/assets/img/city-view-mobile.jpg\"\n",
      "\"\",\"\",\".*/cosmic-dawn/.*\",\"Cosmic Dawn\",4,\"http://www.nationalgeographic.com/cosmic-dawn/images/MM8208_121121-007676.jpg\"\n",
      "\"\",\"\",\".*/foodfeatures/.*\",\"Food Features\",226,\"http://www.nationalgeographic.com/foodfeatures/land-grab/africa-animation/img_africa_animation/map4a.jpg\"\n",
      "\"\",\"\",\".*/promo/ngtseminars/.*\",\"Promo Ngtseminars\",1,\"http://www.nationalgeographic.com/promo/ngtseminars/assets/series/BeyelerLauren_03.jpg\"\n",
      "\"\",\"\",\".*/news-features/son-doong-cave/.*\",\"News Features Son-doong-cave\",1,\"http://www.nationalgeographic.com/news-features/son-doong-cave/2/img/intro1.jpg\"\n",
      "\"\",\"\",\".*/environment/global-warming/.*\",\"Global Warming\",12,\"http://www.nationalgeographic.com/environment/global-warming/global-warming-causes/_jcr_content/content/image.img.jpg/1484334010735.adapt.945.1.true.jpg\"\n",
      "\"\",\"\",\".*/west-snow-fail/.*\",\"West Snow Fail\",9,\"http://www.nationalgeographic.com/west-snow-fail/img/Gallery_4_1024.jpg\"\n",
      "\"\",\"\",\".*/contributors/r/melody-rowell/.*\",\"Contributors Melody Rowell\",3,\"http://www.nationalgeographic.com/contributors/r/melody-rowell/_jcr_content/content/image.img.jpg/1488578414245.adapt.1190.1.true.jpg\"\n",
      "\"\",\"\",\".*/impact-report-.*\",\"Impact Report\",9,\"http://www.nationalgeographic.com/impact-report-2014/imgs/bg_habitats.jpg\"\n",
      "\"\",\"\",\".*/alwaysexploring/.*\",\"Always Exploring\",4,\"http://www.nationalgeographic.com/alwaysexploring/css/img/slide6.jpg\"\n",
      "\"\",\"\",\".*/americannile/.*\",\"American Nile\",24,\"http://www.nationalgeographic.com/americannile/img/NationalGeographic_1394981.jpg\"\n",
      "\"Sponsor\",\"None\",\".*/stellaartois/.*\",\"Stella Artois\",4,\"http://www.nationalgeographic.com/stellaartois/assets/img/infographic/slide1-wcopy.jpg\"\n",
      "\"\",\"\",\".*/people-and-culture/.*\",\"People And Culture\",3,\"http://www.nationalgeographic.com/people-and-culture/food/the-plate/2016/05/usda-recognizes-urban-growers-as-farmers--not-hobbyists/_jcr_content/content/image.img.jpg/1464365744176.adapt.1900.1.true.jpg\"\n",
      "\"\",\"\",\".*/magazines/pdf/.*\",\"Magazines Pdf\",262,\"http://www.nationalgeographic.com/magazines/pdf/040517_int/static/img/carousel/cover.jpg\"\n",
      "\"\",\"\",\".*/gecpartnershowcase/.*\",\"Gec Partner Showcase\",2,\"http://www.nationalgeographic.com/gecpartnershowcase/images/whitepaper10.jpg\"\n",
      "\"Image Mgr(2)\",\"MedHigh\",\".*/interactive-assets/.*\",\"Interactive Assets\",1167,\"http://www.nationalgeographic.com/interactive-assets/ireland-tour/v16/assets/img/00_dunlace-castle-ireland_m.jpg\"\n",
      "\"\",\"\",\".*/voteyourpark/.*\",\"Vote Your Park\",1,\"http://www.nationalgeographic.com/voteyourpark/img/hero.jpg\"\n",
      "\"\",\"\",\".*/hurricane-katrina-new-orleans.*\",\"Hurricane Katrina\",10,\"http://www.nationalgeographic.com/hurricane-katrina-new-orleans-anniversary/assets/img/katrinaGallery/06_Bo_Dollis_1536.jpg\"\n",
      "\"\",\"\",\".*/loveswitzerland/.*\",\"Love Switzerland\",5,\"http://www.nationalgeographic.com/loveswitzerland/img/slide1-mobile.jpg\"\n",
      "\"\",\"\",\".*/memorablemoments/.*\",\"Memorable Moments\",5,\"http://www.nationalgeographic.com/memorablemoments/img/carousel/mobile/princess.jpg\"\n",
      "\"Sponsor\",\"None\",\".*/microsoft/.*\",\"Microsoft\",18,\"http://www.nationalgeographic.com/microsoft/victoriafalls/images/galleries/smokethatthunders/image2.jpg\"\n",
      "\"Sponsor\",\"None\",\".*/cisco/.*\",\"Cisco\",18,\"http://www.nationalgeographic.com/cisco/img/TackleFlooding2.jpg\"\n",
      "\"Image Mgr(1)\",\"Default\",\".*/content/dam/.*\",\"Content Dam\",3579,\"http://www.nationalgeographic.com/content/dam/travel/rights-exempt/Travel-2016/IT/2016-04/feel-good-travel/yala-national-park-elephants-safari-sri-lanka.adapt.1190.1.jpg\"\n",
      "\"\",\"\",\".*/china-caves/.*\",\"China Caves\",22,\"http://www.nationalgeographic.com/china-caves/supercave-iframe/assets/images/5c.jpg\"\n",
      "\"\",\"\",\".*/travelmarketplace/.*\",\"Travel Marketplace\",4,\"http://www.nationalgeographic.com/travelmarketplace/img/MRC-Logo.jpg\"\n",
      "\"Sponsor\",\"None\",\".*/subaru/.*\",\"Subaru\",1,\"http://www.nationalgeographic.com/subaru/img/04.jpg\"\n",
      "\"\",\"\",\".*/giftguide/.*\",\"Gift Guide\",12,\"http://www.nationalgeographic.com/giftguide/imgs/tumblr_mpdlmfL7Pk1s7f3fyo1_1280.jpg\"\n",
      "\"\",\"\",\".*/year-in-review-.*\",\"Year In Review\",49,\"http://www.nationalgeographic.com/year-in-review-2013/assets/i/index/2013/space-05-1575682.jpg\"\n",
      "\"\",\"\",\".*/worldlegacyawards/.*\",\"World Legacy Awards\",4,\"http://www.nationalgeographic.com/worldlegacyawards/images/gallery2016.jpg\"\n",
      "\"\",\"\",\".*/sunrise-to-sunset/.*\",\"Sunrise To Sunset\",1,\"http://www.nationalgeographic.com/sunrise-to-sunset/img/hero-bg.jpg\"\n",
      "\"\",\"\",\".*/new-york-city-skyline-tallest.*\",\"New York Skyline\",23,\"http://www.nationalgeographic.com/new-york-city-skyline-tallest-midtown-manhattan/assets/img/skyline-downtown/downtown-3.jpg\"\n",
      "\"\",\"\",\".*/adventure/features/.*\",\"Adventure Features\",1,\"http://www.nationalgeographic.com/adventure/features/everest/first-woman-to-climb-everest-junko-tabei-dies/_jcr_content/content/image.img.jpg/1477323546496.adapt.590.1.true.jpg\"\n",
      "\"\",\"\",\".*/trajan-column/.*\",\"Trajan Column\",14,\"http://www.nationalgeographic.com/trajan-column/img/column_article/graphic_web.jpg\"\n",
      "\"Sponsor\",\"None\",\".*/visitpandora/.*\",\"Visit Pandora\",9,\"http://www.nationalgeographic.com/visitpandora/assets/img/pandora-bg-cropped-tall.jpg\"\n",
      "\"\",\"\",\".*/annual-report-.*\",\"Annual Report\",5,\"http://www.nationalgeographic.com/annual-report-2014/img/fallback.jpg\"\n",
      "\"Sponsor\",\"None\",\".*/visitcalifornia/.*\",\"Visit California\",10,\"http://www.nationalgeographic.com/visitcalifornia/img/slide-3-mobile.jpg\"\n",
      "\"\",\"\",\".*/healing-soldiers/.*\",\"Healing Soldiers\",8,\"http://www.nationalgeographic.com/healing-soldiers/img/soldierInfoModule/wester.jpg\"\n",
      "\"\",\"\",\".*/magazines/l/multisubs/images/.*\",\"Magazines Multisubs\",7,\"http://www.nationalgeographic.com/magazines/l/multisubs/images/cover_ngt_xlarge.jpg\"\n",
      "\"\",\"\",\".*/magazine/201.*\",\"Magazine 20xx\",20,\"http://www.nationalgeographic.com/magazine/2016/07/forensic-science-justice-crime-evidence/_jcr_content/content/image.img.jpg/1488232843831.adapt.1900.1.true.jpg\"\n",
      "\"\",\"\",\".*/climate-change/.*\",\"Climate Change\",13,\"http://www.nationalgeographic.com/climate-change/how-to-live-with-it/assets/img/landingPages/adaptation_sm.jpg\"\n"
     ]
    }
   ],
   "source": [
    "LV.fileType = \"%jpg\"\n",
    "imagesDf = resourceImages(tv,UP,SP,LV)\n",
    "if (size(imagesDf)[1] > 0)\n",
    "    idImageMgrPolicy(SP,LV,imagesDf)\n",
    "end\n",
    ";"
   ]
  },
  {
   "cell_type": "code",
   "execution_count": 6,
   "metadata": {
    "collapsed": false,
    "input_collapsed": false
   },
   "outputs": [
    {
     "name": "stdout",
     "output_type": "stream",
     "text": [
      "\"\",\"\",\".*/astrobiology/.*\",\"Astrobiology\",8,\"http://www.nationalgeographic.com/astrobiology/images/interactive/parallax/AstroParallaxR_bodies.png\"\n",
      "\"\",\"\",\".*/myaway/.*\",\"Myaway\",1,\"http://www.nationalgeographic.com/myaway/img/how-to-enter-bg.png\"\n",
      "\"\",\"\",\".*/taking-back-detroit/.*\",\"Taking Back Detroit\",3,\"http://www.nationalgeographic.com/taking-back-detroit/img/maps/Detroit_mobile_woodbridge.png\"\n",
      "\"\",\"\",\".*/tracking-ivory/.*\",\"Tracking Ivory\",1,\"http://www.nationalgeographic.com/tracking-ivory/assets/img/maps/slides/map_opener_tusk_sm.png\"\n",
      "\"Sponsor\",\"None\",\".*/unchartedwaters/.*\",\"Unchartedwaters\",55,\"http://www.nationalgeographic.com/unchartedwaters/assets/img/homepage/question-4-crisis@2x.png\"\n",
      "\"\",\"\",\".*/cosmic-dawn/.*\",\"Cosmic Dawn\",9,\"http://www.nationalgeographic.com/cosmic-dawn/timelinePngs/howItEnds/End5.png\"\n",
      "\"\",\"\",\".*/foodfeatures/.*\",\"Food Features\",16,\"http://www.nationalgeographic.com/foodfeatures/meat/images/graphic_numbers_web.png\"\n",
      "\"\",\"\",\".*/news-features/son-doong-cave/.*\",\"News Features Son-doong-cave\",4,\"http://www.nationalgeographic.com/news-features/son-doong-cave/2/SonDoong360data/floorplan/entrance_panogroup82.png\"\n",
      "\"\",\"\",\".*/impact-report-.*\",\"Impact Report\",1,\"http://www.nationalgeographic.com/impact-report-2014/imgs/natgeo-cover.png\"\n",
      "\"\",\"\",\".*/alwaysexploring/.*\",\"Always Exploring\",1,\"http://www.nationalgeographic.com/alwaysexploring/css/img/astroman.png\"\n",
      "\"\",\"\",\".*/americannile/.*\",\"American Nile\",3,\"http://www.nationalgeographic.com/americannile/img/ch3.png\"\n",
      "\"Sponsor\",\"None\",\".*/stellaartois/.*\",\"Stella Artois\",1,\"http://www.nationalgeographic.com/stellaartois/assets/img/hero-chalice.png\"\n",
      "\"\",\"\",\".*/magazines/pdf/.*\",\"Magazines Pdf\",10,\"http://www.nationalgeographic.com/magazines/pdf/0524-03/static/img/carousel/viking1.png\"\n",
      "\"Image Mgr(2)\",\"MedHigh\",\".*/interactive-assets/.*\",\"Interactive Assets\",75,\"http://www.nationalgeographic.com/interactive-assets/nggraphics/birthofbooze-map/build-2017-02-11_12-34-58/graphic-mobile-tablet.png\"\n",
      "\"\",\"\",\".*/voteyourpark/.*\",\"Vote Your Park\",4,\"http://www.nationalgeographic.com/voteyourpark/img/parks/yosemite/thumb.png\"\n",
      "\"Image Mgr(1)\",\"Default\",\".*/content/dam/.*\",\"Content Dam\",158,\"http://www.nationalgeographic.com/content/dam/natgeo/video/mpx/640/a/av/ava/avalanches-101.mp4/jcr:content/renditions/cq5dam.thumbnail.319.319.png\"\n",
      "\"\",\"\",\".*/china-caves/.*\",\"China Caves\",9,\"http://www.nationalgeographic.com/china-caves/supercave-iframe/assets/videos/step1-poster.png\"\n",
      "\"\",\"\",\".*/travelmarketplace/.*\",\"Travel Marketplace\",1,\"http://www.nationalgeographic.com/travelmarketplace/img/visit-montana-logo.png\"\n",
      "\"\",\"\",\".*/worldlegacyawards/.*\",\"World Legacy Awards\",12,\"http://www.nationalgeographic.com/worldlegacyawards/images/winners-finalist-hero.png\"\n",
      "\"\",\"\",\".*/sunrise-to-sunset/.*\",\"Sunrise To Sunset\",1,\"http://www.nationalgeographic.com/sunrise-to-sunset/img/winner.png\"\n",
      "\"Sponsor\",\"None\",\".*/visitpandora/.*\",\"Visit Pandora\",2,\"http://www.nationalgeographic.com/visitpandora/assets/img/banshee2.png\"\n",
      "\"\",\"\",\".*/staralliance20/.*\",\"Star Alliance\",3,\"http://www.nationalgeographic.com/staralliance20/assets/img/section5-fpo-sm.png\"\n",
      "\"\",\"\",\".*/mindsuckers/.*\",\"Mindsuckers\",17,\"http://www.nationalgeographic.com/mindsuckers/contents/wasp/assets/img/ws-02_2.png\"\n"
     ]
    }
   ],
   "source": [
    "LV.fileType = \"%png\"\n",
    "imagesDf = resourceImages(tv,UP,SP,LV)\n",
    "if (size(imagesDf)[1] > 0)\n",
    "    idImageMgrPolicy(SP,LV,imagesDf)\n",
    "end\n",
    ";"
   ]
  },
  {
   "cell_type": "code",
   "execution_count": 7,
   "metadata": {
    "collapsed": false,
    "input_collapsed": false
   },
   "outputs": [
    {
     "name": "stdout",
     "output_type": "stream",
     "text": [
      "\"Image Mgr(1)\",\"Default\",\".*/content/dam/.*\",\"Content Dam\",1,\"http://www.nationalgeographic.com/content/dam/ngdotcom/rights-exempt/channelpromos2/fromtheashes.jpeg\"\n"
     ]
    }
   ],
   "source": [
    "LV.fileType = \"%jpeg\"\n",
    "imagesDf = resourceImages(tv,UP,SP,LV)\n",
    "if (size(imagesDf)[1] > 0)\n",
    "    idImageMgrPolicy(SP,LV,imagesDf)\n",
    "end\n",
    ";"
   ]
  },
  {
   "cell_type": "code",
   "execution_count": 8,
   "metadata": {
    "collapsed": false,
    "input_collapsed": false
   },
   "outputs": [
    {
     "name": "stdout",
     "output_type": "stream",
     "text": [
      "\"\",\"\",\".*/taking-back-detroit/.*\",\"Taking Back Detroit\",3,\"http://www.nationalgeographic.com/taking-back-detroit/vid/TEXTURAL_2.gif\"\n",
      "\"\",\"\",\".*/cosmic-dawn/.*\",\"Cosmic Dawn\",1,\"http://www.nationalgeographic.com/cosmic-dawn/images/sunburst.gif\"\n",
      "\"\",\"\",\".*/americannile/.*\",\"American Nile\",4,\"http://www.nationalgeographic.com/americannile/img/col-river-kremmling.gif\"\n",
      "\"Image Mgr(2)\",\"MedHigh\",\".*/interactive-assets/.*\",\"Interactive Assets\",21,\"http://www.nationalgeographic.com/interactive-assets/nggraphics/ngm-Akhenaten-Graphic/build-2017-04-21_14-21-01/img/sculp-reduced-right.gif\"\n",
      "\"\",\"\",\".*/giftguide/.*\",\"Gift Guide\",3,\"http://www.nationalgeographic.com/giftguide/imgs/StopWatch-Animated.gif\"\n"
     ]
    }
   ],
   "source": [
    "LV.fileType = \"%gif\"\n",
    "imagesDf = resourceImages(tv,UP,SP,LV)\n",
    "if (size(imagesDf)[1] > 0)\n",
    "    idImageMgrPolicy(SP,LV,imagesDf)\n",
    "end\n",
    ";"
   ]
  },
  {
   "cell_type": "code",
   "execution_count": 9,
   "metadata": {
    "collapsed": false,
    "input_collapsed": false
   },
   "outputs": [],
   "source": [
    "LV.fileType = \"%imviewer\"\n",
    "imagesDf = resourceImages(tv,UP,SP,LV)\n",
    "if (size(imagesDf)[1] > 0)\n",
    "    idImageMgrPolicy(SP,LV,imagesDf)\n",
    "end\n",
    ";"
   ]
  },
  {
   "cell_type": "code",
   "execution_count": 10,
   "metadata": {
    "collapsed": false,
    "input_collapsed": false
   },
   "outputs": [
    {
     "name": "stdout",
     "output_type": "stream",
     "text": [
      "\"\",\"\",\".*/astrobiology/.*\",\"Astrobiology\",5,\"http://www.nationalgeographic.com/astrobiology/images/svg/Astrobiology_Graphic_768.svg\"\n",
      "\"\",\"\",\".*/hubble-timeline/.*\",\"Hubble Timeline\",2,\"http://www.nationalgeographic.com/hubble-timeline/img/mobile1_0-01.svg\"\n",
      "\"\",\"\",\".*/clean-water-access-.*\",\"Clean Water Access\",1,\"http://www.nationalgeographic.com/clean-water-access-around-the-world/assets/images/Map.svg\"\n",
      "\"Image Mgr(2)\",\"MedHigh\",\".*/interactive-assets/.*\",\"Interactive Assets\",1,\"http://www.nationalgeographic.com/interactive-assets/blindness/v9/assets/img/eye-cataracs-01.svg\"\n",
      "\"\",\"\",\".*/climate-change/.*\",\"Climate Change\",4,\"http://www.nationalgeographic.com/climate-change/how-to-live-with-it/assets/img/svg-optimized/spread-water.svg\"\n"
     ]
    }
   ],
   "source": [
    "LV.fileType = \"%svg\"\n",
    "imagesDf = resourceImages(tv,UP,SP,LV)\n",
    "if (size(imagesDf)[1] > 0)\n",
    "    idImageMgrPolicy(SP,LV,imagesDf)\n",
    "end\n",
    ";"
   ]
  },
  {
   "cell_type": "code",
   "execution_count": 11,
   "metadata": {
    "collapsed": false,
    "input_collapsed": false
   },
   "outputs": [
    {
     "name": "stdout",
     "output_type": "stream",
     "text": [
      "\"Image Mgr(1)\",\"Default\",\".*/content/dam/.*\",\"Content Dam\",1,\"http://www.nationalgeographic.com/content/dam/ngdotcom/rights-exempt/channelpromos2/fromtheashes.jpeg\"\n"
     ]
    }
   ],
   "source": [
    "LV.fileType = \"%jpeg\"\n",
    "imagesDf = resourceImages(tv,UP,SP,LV)\n",
    "if (size(imagesDf)[1] > 0)\n",
    "    idImageMgrPolicy(SP,LV,imagesDf)\n",
    "end\n",
    ";"
   ]
  },
  {
   "cell_type": "code",
   "execution_count": 12,
   "metadata": {
    "collapsed": true,
    "input_collapsed": false
   },
   "outputs": [],
   "source": [
    "q = query(\"\"\" drop view if exists $(UP.btView);\"\"\")\n",
    ";"
   ]
  }
 ],
 "metadata": {
  "kernelspec": {
   "display_name": "Julia 0.4.7",
   "language": "julia",
   "name": "julia-0.4"
  },
  "language_info": {
   "file_extension": ".jl",
   "mimetype": "application/julia",
   "name": "julia",
   "version": "0.4.7"
  },
  "library_version": "1.0.0",
  "notebook_uuid": "960146f1-83af-48ff-954e-8a869165531f",
  "readOnly": false
 },
 "nbformat": 4,
 "nbformat_minor": 0
}
