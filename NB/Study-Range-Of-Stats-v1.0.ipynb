{
 "cells": [
  {
   "cell_type": "markdown",
   "metadata": {},
   "source": [
    "## Tables and Data Source setup"
   ]
  },
  {
   "cell_type": "code",
   "execution_count": 1,
   "metadata": {
    "collapsed": false,
    "input_collapsed": false,
    "scrolled": true
   },
   "outputs": [
    {
     "name": "stdout",
     "output_type": "stream",
     "text": [
      "Redshift endpoint set: 2017-06-10T19:10:45\n"
     ]
    },
    {
     "data": {
      "text/plain": [
       "\"beacons_4744\""
      ]
     },
     "execution_count": 1,
     "metadata": {},
     "output_type": "execute_result"
    }
   ],
   "source": [
    "using ODBC\n",
    "using DataFrames\n",
    "using DSWB\n",
    "using Formatting\n",
    "using Distributions\n",
    "\n",
    "dsn = \"dswb-natgeo\" # Redshift endpoint\n",
    "table = \"beacons_4744\" # beacon table name\n",
    "tableRt = \"beacons_4744_rt\"\n",
    "\n",
    "# Connect to Beacon Data\n",
    "setRedshiftEndpoint(dsn)\n",
    "setTable(table)\n",
    "# setTable(tableRt, tableType = \"RESOURCE_TABLE\")"
   ]
  },
  {
   "cell_type": "code",
   "execution_count": 2,
   "metadata": {
    "collapsed": false,
    "input_collapsed": false
   },
   "outputs": [
    {
     "name": "stdout",
     "output_type": "stream",
     "text": [
      "June 8, 2017 02:00:00 to June 8, 2017 12:59:00 Local Time\n",
      "June 8, 2017 06:00:00 to June 8, 2017 16:59:00 UTC Time\n"
     ]
    }
   ],
   "source": [
    "# Packages\n",
    "#include(\"/data/notebook_home/Production/Bodies/Page-Group-Details-Body-v1.0.jl\")\n",
    "include(\"/data/notebook_home/Production/Lib/Include-Package-v1.0.jl\")\n",
    "include(\"/data/notebook_home/Production/Bodies/Study-Range-Of-Stats-Body-v1.0.jl\")\n",
    "\n",
    "timeVariables(2017,6,8,2,0,2017,6,8,12,59)\n",
    "#weeklyTimeVariables(days=1)\n",
    "#yesterdayTimeVariables()\n",
    ";"
   ]
  },
  {
   "cell_type": "code",
   "execution_count": 3,
   "metadata": {
    "collapsed": false,
    "input_collapsed": false,
    "scrolled": true
   },
   "outputs": [],
   "source": [
    "UP = UrlParamsInit()\n",
    "UP.beaconTable = table   #table\n",
    "UP.resourceTable = tableRt\n",
    "UP.btView = \"$(table)_StudyStats_pview_prod\" #localtable\n",
    "UP.rtView = \"$(tableRt)_StudyStats_pview_prod\" #localtableRt\n",
    "UP.pageGroup = \"News Article\"   #productPageGroup\n",
    "UP.urlRegEx = \"%\"   #localUrl\n",
    "UP.deviceType = \"Mobile\"\n",
    "\n",
    "MP = UrlParamsInit()\n",
    "MP.beaconTable = table   #table\n",
    "MP.resourceTable = tableRt\n",
    "MP.btView = \"$(table)_StudyStatsMobile_pview_prod\" #localtable\n",
    "MP.rtView = \"$(tableRt)_StudyStatsMobile_pview_prod\" #localtableRt\n",
    "MP.pageGroup = UP.pageGroup\n",
    "MP.urlRegEx = UP.urlRegEx\n",
    "MP.deviceType = \"Mobile\"\n",
    "\n",
    "DP = UrlParamsInit()\n",
    "DP.beaconTable = table   #table\n",
    "DP.resourceTable = tableRt\n",
    "DP.btView = \"$(table)_StudyStatsDesktop_pview_prod\" #localtable\n",
    "DP.rtView = \"$(tableRt)_StudyStatsDesktop_pview_prod\" #localtableRt\n",
    "DP.pageGroup = UP.pageGroup\n",
    "DP.urlRegEx = UP.urlRegEx\n",
    "DP.deviceType = \"Desktop\"\n",
    "\n",
    "SG = SoastaGraphsInit()\n",
    "customer = \"Nat Geo\" \n",
    "SG.customer = customer\n",
    "\n",
    "#SP = ShowParamsInit()\n",
    "#SP.debugLevel = 10;\n",
    "#SP.debug = true;\n",
    "\n",
    "#LV = LocalVars(0,0,0)\n",
    "#LV.linesOutput = 25\n",
    "#;\n"
   ]
  },
  {
   "cell_type": "code",
   "execution_count": 4,
   "metadata": {
    "collapsed": false,
    "input_collapsed": false
   },
   "outputs": [],
   "source": [
    "pageGroupDetailsTables(UP.btView,MP.btView,DP.btView,UP.beaconTable,UP.pageGroup,tv.startTimeMsUTC,tv.endTimeMsUTC)\n",
    "setTable(UP.btView);"
   ]
  },
  {
   "cell_type": "code",
   "execution_count": 5,
   "metadata": {
    "collapsed": false,
    "input_collapsed": false
   },
   "outputs": [
    {
     "data": {
      "text/html": [
       "<div class=\"dswbOutputText\"><h1 class=\"chart_title\" style=\"color:#ccc\">Raw Data Stats Including Those above 600 seconds for News Article</h1><h3 class=\"chart_info\" style=\"color:#ccc\">June 8, 2017 02:00:00 to June 8, 2017 12:59:00 Local Time</h3></div>"
      ]
     },
     "metadata": {},
     "output_type": "display_data"
    },
    {
     "data": {
      "text/html": [
       "    <table  class=\"dataframe-table\">\n",
       "    <thead><tr><th class=\"cell-1\" style=\"\">unit</th> <th class=\"cell-2\" style=\"\">count</th> <th class=\"cell-3\" style=\"\">mean</th> <th class=\"cell-4\" style=\"\">median</th> <th class=\"cell-5\" style=\"\">stddev</th> <th class=\"cell-6\" style=\"\">min</th> <th class=\"cell-7\" style=\"\">max</th> <th class=\"cell-8\" style=\"\">LowerBy25p</th> <th class=\"cell-9\" style=\"\">UpperBy25p</th> <th class=\"cell-10\" style=\"\">LowerBy3Stddev</th> <th class=\"cell-11\" style=\"\">UpperBy3Stddev</th></tr></thead>\n",
       "    <tbody>\n",
       "    <tr><td class=\"cell-1\" style=\"\">milliseconds</td> <td class=\"cell-2\" style=\"text-align:right;\">209,179</td> <td class=\"cell-3\" style=\"text-align:right;\">14,378</td> <td class=\"cell-4\" style=\"text-align:right;\">8,077</td> <td class=\"cell-5\" style=\"text-align:right;\">29,610</td> <td class=\"cell-6\" style=\"text-align:right;\">0</td> <td class=\"cell-7\" style=\"text-align:right;\">7,448,534</td> <td class=\"cell-8\" style=\"text-align:right;\">6,058</td> <td class=\"cell-9\" style=\"text-align:right;\">10,096</td> <td class=\"cell-10\" style=\"text-align:right;\">1,000</td> <td class=\"cell-11\" style=\"text-align:right;\">96,907</td></tr>\n",
       "<tr><td class=\"cell-1\" style=\"\">seconds</td> <td class=\"cell-2\" style=\"text-align:right;\">209,179</td> <td class=\"cell-3\" style=\"text-align:right;\">14.378</td> <td class=\"cell-4\" style=\"text-align:right;\">8.077</td> <td class=\"cell-5\" style=\"text-align:right;\">29.61</td> <td class=\"cell-6\" style=\"text-align:right;\">0</td> <td class=\"cell-7\" style=\"text-align:right;\">7,448.534</td> <td class=\"cell-8\" style=\"text-align:right;\">6.058</td> <td class=\"cell-9\" style=\"text-align:right;\">10.096</td> <td class=\"cell-10\" style=\"text-align:right;\">1</td> <td class=\"cell-11\" style=\"text-align:right;\">96.907</td></tr>\n",
       "    \n",
       "    <tr><td class=\"cell-1\" style=\"\">minutes</td> <td class=\"cell-2\" style=\"text-align:right;\">209,179</td> <td class=\"cell-3\" style=\"text-align:right;\">0.2</td> <td class=\"cell-4\" style=\"text-align:right;\">0.1</td> <td class=\"cell-5\" style=\"text-align:right;\">0.5</td> <td class=\"cell-6\" style=\"text-align:right;\">0</td> <td class=\"cell-7\" style=\"text-align:right;\">124.1</td> <td class=\"cell-8\" style=\"text-align:right;\">0.1</td> <td class=\"cell-9\" style=\"text-align:right;\">0.2</td> <td class=\"cell-10\" style=\"text-align:right;\">0</td> <td class=\"cell-11\" style=\"text-align:right;\">1.6</td></tr>\n",
       "    </tbody>\n"
      ],
      "text/plain": [
       "HTML{UTF8String}(\"    <table  class=\\\"dataframe-table\\\">\\n    <thead><tr><th class=\\\"cell-1\\\" style=\\\"\\\">unit</th> <th class=\\\"cell-2\\\" style=\\\"\\\">count</th> <th class=\\\"cell-3\\\" style=\\\"\\\">mean</th> <th class=\\\"cell-4\\\" style=\\\"\\\">median</th> <th class=\\\"cell-5\\\" style=\\\"\\\">stddev</th> <th class=\\\"cell-6\\\" style=\\\"\\\">min</th> <th class=\\\"cell-7\\\" style=\\\"\\\">max</th> <th class=\\\"cell-8\\\" style=\\\"\\\">LowerBy25p</th> <th class=\\\"cell-9\\\" style=\\\"\\\">UpperBy25p</th> <th class=\\\"cell-10\\\" style=\\\"\\\">LowerBy3Stddev</th> <th class=\\\"cell-11\\\" style=\\\"\\\">UpperBy3Stddev</th></tr></thead>\\n    <tbody>\\n    <tr><td class=\\\"cell-1\\\" style=\\\"\\\">milliseconds</td> <td class=\\\"cell-2\\\" style=\\\"text-align:right;\\\">209,179</td> <td class=\\\"cell-3\\\" style=\\\"text-align:right;\\\">14,378</td> <td class=\\\"cell-4\\\" style=\\\"text-align:right;\\\">8,077</td> <td class=\\\"cell-5\\\" style=\\\"text-align:right;\\\">29,610</td> <td class=\\\"cell-6\\\" style=\\\"text-align:right;\\\">0</td> <td class=\\\"cell-7\\\" style=\\\"text-align:right;\\\">7,448,534</td> <td class=\\\"cell-8\\\" style=\\\"text-align:right;\\\">6,058</td> <td class=\\\"cell-9\\\" style=\\\"text-align:right;\\\">10,096</td> <td class=\\\"cell-10\\\" style=\\\"text-align:right;\\\">1,000</td> <td class=\\\"cell-11\\\" style=\\\"text-align:right;\\\">96,907</td></tr>\\n<tr><td class=\\\"cell-1\\\" style=\\\"\\\">seconds</td> <td class=\\\"cell-2\\\" style=\\\"text-align:right;\\\">209,179</td> <td class=\\\"cell-3\\\" style=\\\"text-align:right;\\\">14.378</td> <td class=\\\"cell-4\\\" style=\\\"text-align:right;\\\">8.077</td> <td class=\\\"cell-5\\\" style=\\\"text-align:right;\\\">29.61</td> <td class=\\\"cell-6\\\" style=\\\"text-align:right;\\\">0</td> <td class=\\\"cell-7\\\" style=\\\"text-align:right;\\\">7,448.534</td> <td class=\\\"cell-8\\\" style=\\\"text-align:right;\\\">6.058</td> <td class=\\\"cell-9\\\" style=\\\"text-align:right;\\\">10.096</td> <td class=\\\"cell-10\\\" style=\\\"text-align:right;\\\">1</td> <td class=\\\"cell-11\\\" style=\\\"text-align:right;\\\">96.907</td></tr>\\n    \\n    <tr><td class=\\\"cell-1\\\" style=\\\"\\\">minutes</td> <td class=\\\"cell-2\\\" style=\\\"text-align:right;\\\">209,179</td> <td class=\\\"cell-3\\\" style=\\\"text-align:right;\\\">0.2</td> <td class=\\\"cell-4\\\" style=\\\"text-align:right;\\\">0.1</td> <td class=\\\"cell-5\\\" style=\\\"text-align:right;\\\">0.5</td> <td class=\\\"cell-6\\\" style=\\\"text-align:right;\\\">0</td> <td class=\\\"cell-7\\\" style=\\\"text-align:right;\\\">124.1</td> <td class=\\\"cell-8\\\" style=\\\"text-align:right;\\\">0.1</td> <td class=\\\"cell-9\\\" style=\\\"text-align:right;\\\">0.2</td> <td class=\\\"cell-10\\\" style=\\\"text-align:right;\\\">0</td> <td class=\\\"cell-11\\\" style=\\\"text-align:right;\\\">1.6</td></tr>\\n    </tbody>\\n\")"
      ]
     },
     "metadata": {},
     "output_type": "display_data"
    }
   ],
   "source": [
    "rawStatsSROS(tv,UP)\n",
    ";"
   ]
  },
  {
   "cell_type": "code",
   "execution_count": 6,
   "metadata": {
    "collapsed": false,
    "input_collapsed": false
   },
   "outputs": [
    {
     "data": {
      "text/html": [
       "    <table  class=\"dataframe-table\">\n",
       "    <thead><tr><th class=\"cell-1\" style=\"\">datetime</th> <th class=\"cell-2\" style=\"\">year</th> <th class=\"cell-3\" style=\"\">month</th> <th class=\"cell-4\" style=\"\">day</th> <th class=\"cell-5\" style=\"\">hour</th> <th class=\"cell-6\" style=\"\">unit</th> <th class=\"cell-7\" style=\"\">count</th> <th class=\"cell-8\" style=\"\">mean</th> <th class=\"cell-9\" style=\"\">median</th> <th class=\"cell-10\" style=\"\">stddev</th> <th class=\"cell-11\" style=\"\">variance</th> <th class=\"cell-12\" style=\"\">min</th> <th class=\"cell-13\" style=\"\">max</th> <th class=\"cell-14\" style=\"\">q25</th> <th class=\"cell-15\" style=\"\">q75</th> <th class=\"cell-16\" style=\"\">kurtosis</th> <th class=\"cell-17\" style=\"\">skewness</th> <th class=\"cell-18\" style=\"\">entropy</th> <th class=\"cell-19\" style=\"\">modes</th> <th class=\"cell-20\" style=\"\">LowerBy3Stddev</th> <th class=\"cell-21\" style=\"\">UpperBy3Stddev</th></tr></thead>\n",
       "    <tbody>\n",
       "    <tr><td class=\"cell-1\" style=\"\">2017-06-08T06:00:00</td> <td class=\"cell-2\" style=\"text-align:right;\">2,017</td> <td class=\"cell-3\" style=\"text-align:right;\">6</td> <td class=\"cell-4\" style=\"text-align:right;\">8</td> <td class=\"cell-5\" style=\"text-align:right;\">6</td> <td class=\"cell-6\" style=\"\">seconds</td> <td class=\"cell-7\" style=\"text-align:right;\">19,786</td> <td class=\"cell-8\" style=\"text-align:right;\">14.639</td> <td class=\"cell-9\" style=\"text-align:right;\">8.426</td> <td class=\"cell-10\" style=\"text-align:right;\">24.218</td> <td class=\"cell-11\" style=\"text-align:right;\">586,516.447</td> <td class=\"cell-12\" style=\"text-align:right;\">0.024</td> <td class=\"cell-13\" style=\"text-align:right;\">550.657</td> <td class=\"cell-14\" style=\"text-align:right;\">4.478</td> <td class=\"cell-15\" style=\"text-align:right;\">16.206</td> <td class=\"cell-16\" style=\"text-align:right;\">125.924571</td> <td class=\"cell-17\" style=\"text-align:right;\">8.884389</td> <td class=\"cell-18\" style=\"text-align:right;\">-2,946,212,529.471984</td> <td class=\"cell-19\" style=\"text-align:right;\">3,219</td> <td class=\"cell-20\" style=\"text-align:right;\">1</td> <td class=\"cell-21\" style=\"text-align:right;\">81.08</td></tr>\n",
       "<tr><td class=\"cell-1\" style=\"\">2017-06-08T07:00:00</td> <td class=\"cell-2\" style=\"text-align:right;\">2,017</td> <td class=\"cell-3\" style=\"text-align:right;\">6</td> <td class=\"cell-4\" style=\"text-align:right;\">8</td> <td class=\"cell-5\" style=\"text-align:right;\">7</td> <td class=\"cell-6\" style=\"\">seconds</td> <td class=\"cell-7\" style=\"text-align:right;\">17,321</td> <td class=\"cell-8\" style=\"text-align:right;\">14.709</td> <td class=\"cell-9\" style=\"text-align:right;\">8.33</td> <td class=\"cell-10\" style=\"text-align:right;\">24.657</td> <td class=\"cell-11\" style=\"text-align:right;\">607,981.415</td> <td class=\"cell-12\" style=\"text-align:right;\">0.363</td> <td class=\"cell-13\" style=\"text-align:right;\">584.402</td> <td class=\"cell-14\" style=\"text-align:right;\">4.42</td> <td class=\"cell-15\" style=\"text-align:right;\">16.209</td> <td class=\"cell-16\" style=\"text-align:right;\">114.194951</td> <td class=\"cell-17\" style=\"text-align:right;\">8.537869</td> <td class=\"cell-18\" style=\"text-align:right;\">-2,596,504,175.114229</td> <td class=\"cell-19\" style=\"text-align:right;\">4,421</td> <td class=\"cell-20\" style=\"text-align:right;\">1</td> <td class=\"cell-21\" style=\"text-align:right;\">82.301</td></tr>\n",
       "<tr><td class=\"cell-1\" style=\"\">2017-06-08T08:00:00</td> <td class=\"cell-2\" style=\"text-align:right;\">2,017</td> <td class=\"cell-3\" style=\"text-align:right;\">6</td> <td class=\"cell-4\" style=\"text-align:right;\">8</td> <td class=\"cell-5\" style=\"text-align:right;\">8</td> <td class=\"cell-6\" style=\"\">seconds</td> <td class=\"cell-7\" style=\"text-align:right;\">15,960</td> <td class=\"cell-8\" style=\"text-align:right;\">14.582</td> <td class=\"cell-9\" style=\"text-align:right;\">8.078</td> <td class=\"cell-10\" style=\"text-align:right;\">25.385</td> <td class=\"cell-11\" style=\"text-align:right;\">644,414.55</td> <td class=\"cell-12\" style=\"text-align:right;\">0.191</td> <td class=\"cell-13\" style=\"text-align:right;\">587.658</td> <td class=\"cell-14\" style=\"text-align:right;\">4.303</td> <td class=\"cell-15\" style=\"text-align:right;\">15.875</td> <td class=\"cell-16\" style=\"text-align:right;\">142.552103</td> <td class=\"cell-17\" style=\"text-align:right;\">9.413971</td> <td class=\"cell-18\" style=\"text-align:right;\">-2,374,158,344.484723</td> <td class=\"cell-19\" style=\"text-align:right;\">3,323</td> <td class=\"cell-20\" style=\"text-align:right;\">1</td> <td class=\"cell-21\" style=\"text-align:right;\">84.233</td></tr>\n",
       "<tr><td class=\"cell-1\" style=\"\">2017-06-08T09:00:00</td> <td class=\"cell-2\" style=\"text-align:right;\">2,017</td> <td class=\"cell-3\" style=\"text-align:right;\">6</td> <td class=\"cell-4\" style=\"text-align:right;\">8</td> <td class=\"cell-5\" style=\"text-align:right;\">9</td> <td class=\"cell-6\" style=\"\">seconds</td> <td class=\"cell-7\" style=\"text-align:right;\">15,506</td> <td class=\"cell-8\" style=\"text-align:right;\">14.196</td> <td class=\"cell-9\" style=\"text-align:right;\">8.161</td> <td class=\"cell-10\" style=\"text-align:right;\">23.663</td> <td class=\"cell-11\" style=\"text-align:right;\">559,944.679</td> <td class=\"cell-12\" style=\"text-align:right;\">0.412</td> <td class=\"cell-13\" style=\"text-align:right;\">579.344</td> <td class=\"cell-14\" style=\"text-align:right;\">4.321</td> <td class=\"cell-15\" style=\"text-align:right;\">15.848</td> <td class=\"cell-16\" style=\"text-align:right;\">176.129842</td> <td class=\"cell-17\" style=\"text-align:right;\">10.283762</td> <td class=\"cell-18\" style=\"text-align:right;\">-2,230,948,667.877148</td> <td class=\"cell-19\" style=\"text-align:right;\">3,341</td> <td class=\"cell-20\" style=\"text-align:right;\">1</td> <td class=\"cell-21\" style=\"text-align:right;\">79.15</td></tr>\n",
       "<tr><td class=\"cell-1\" style=\"\">2017-06-08T10:00:00</td> <td class=\"cell-2\" style=\"text-align:right;\">2,017</td> <td class=\"cell-3\" style=\"text-align:right;\">6</td> <td class=\"cell-4\" style=\"text-align:right;\">8</td> <td class=\"cell-5\" style=\"text-align:right;\">10</td> <td class=\"cell-6\" style=\"\">seconds</td> <td class=\"cell-7\" style=\"text-align:right;\">16,869</td> <td class=\"cell-8\" style=\"text-align:right;\">14.43</td> <td class=\"cell-9\" style=\"text-align:right;\">8.324</td> <td class=\"cell-10\" style=\"text-align:right;\">23.883</td> <td class=\"cell-11\" style=\"text-align:right;\">570,382.474</td> <td class=\"cell-12\" style=\"text-align:right;\">0.12</td> <td class=\"cell-13\" style=\"text-align:right;\">596.217</td> <td class=\"cell-14\" style=\"text-align:right;\">4.424</td> <td class=\"cell-15\" style=\"text-align:right;\">16.177</td> <td class=\"cell-16\" style=\"text-align:right;\">144.767356</td> <td class=\"cell-17\" style=\"text-align:right;\">9.351338</td> <td class=\"cell-18\" style=\"text-align:right;\">-2,471,739,905.938087</td> <td class=\"cell-19\" style=\"text-align:right;\">3,852</td> <td class=\"cell-20\" style=\"text-align:right;\">1</td> <td class=\"cell-21\" style=\"text-align:right;\">79.973</td></tr>\n",
       "<tr><td class=\"cell-1\" style=\"\">2017-06-08T11:00:00</td> <td class=\"cell-2\" style=\"text-align:right;\">2,017</td> <td class=\"cell-3\" style=\"text-align:right;\">6</td> <td class=\"cell-4\" style=\"text-align:right;\">8</td> <td class=\"cell-5\" style=\"text-align:right;\">11</td> <td class=\"cell-6\" style=\"\">seconds</td> <td class=\"cell-7\" style=\"text-align:right;\">19,647</td> <td class=\"cell-8\" style=\"text-align:right;\">14.352</td> <td class=\"cell-9\" style=\"text-align:right;\">8.24</td> <td class=\"cell-10\" style=\"text-align:right;\">23.233</td> <td class=\"cell-11\" style=\"text-align:right;\">539,749.691</td> <td class=\"cell-12\" style=\"text-align:right;\">0.21</td> <td class=\"cell-13\" style=\"text-align:right;\">587.908</td> <td class=\"cell-14\" style=\"text-align:right;\">4.386</td> <td class=\"cell-15\" style=\"text-align:right;\">16.151</td> <td class=\"cell-16\" style=\"text-align:right;\">146.307155</td> <td class=\"cell-17\" style=\"text-align:right;\">9.247076</td> <td class=\"cell-18\" style=\"text-align:right;\">-2,859,803,198.578892</td> <td class=\"cell-19\" style=\"text-align:right;\">2,925</td> <td class=\"cell-20\" style=\"text-align:right;\">1</td> <td class=\"cell-21\" style=\"text-align:right;\">77.939</td></tr>\n",
       "    \n",
       "    <tr><td class=\"cell-1\" style=\"\">2017-06-08T12:00:00</td> <td class=\"cell-2\" style=\"text-align:right;\">2,017</td> <td class=\"cell-3\" style=\"text-align:right;\">6</td> <td class=\"cell-4\" style=\"text-align:right;\">8</td> <td class=\"cell-5\" style=\"text-align:right;\">12</td> <td class=\"cell-6\" style=\"\">seconds</td> <td class=\"cell-7\" style=\"text-align:right;\">21,254</td> <td class=\"cell-8\" style=\"text-align:right;\">14.364</td> <td class=\"cell-9\" style=\"text-align:right;\">8.067</td> <td class=\"cell-10\" style=\"text-align:right;\">23.44</td> <td class=\"cell-11\" style=\"text-align:right;\">549,435.428</td> <td class=\"cell-12\" style=\"text-align:right;\">0.203</td> <td class=\"cell-13\" style=\"text-align:right;\">571.359</td> <td class=\"cell-14\" style=\"text-align:right;\">4.364</td> <td class=\"cell-15\" style=\"text-align:right;\">15.732</td> <td class=\"cell-16\" style=\"text-align:right;\">126.095712</td> <td class=\"cell-17\" style=\"text-align:right;\">8.591952</td> <td class=\"cell-18\" style=\"text-align:right;\">-3,101,123,051.796371</td> <td class=\"cell-19\" style=\"text-align:right;\">3,684</td> <td class=\"cell-20\" style=\"text-align:right;\">1</td> <td class=\"cell-21\" style=\"text-align:right;\">78.387</td></tr>\n",
       "<tr><td class=\"cell-1\" style=\"\">2017-06-08T13:00:00</td> <td class=\"cell-2\" style=\"text-align:right;\">2,017</td> <td class=\"cell-3\" style=\"text-align:right;\">6</td> <td class=\"cell-4\" style=\"text-align:right;\">8</td> <td class=\"cell-5\" style=\"text-align:right;\">13</td> <td class=\"cell-6\" style=\"\">seconds</td> <td class=\"cell-7\" style=\"text-align:right;\">21,884</td> <td class=\"cell-8\" style=\"text-align:right;\">14.26</td> <td class=\"cell-9\" style=\"text-align:right;\">7.992</td> <td class=\"cell-10\" style=\"text-align:right;\">24.574</td> <td class=\"cell-11\" style=\"text-align:right;\">603,905.307</td> <td class=\"cell-12\" style=\"text-align:right;\">0.3</td> <td class=\"cell-13\" style=\"text-align:right;\">591.506</td> <td class=\"cell-14\" style=\"text-align:right;\">4.188</td> <td class=\"cell-15\" style=\"text-align:right;\">15.502</td> <td class=\"cell-16\" style=\"text-align:right;\">142.556899</td> <td class=\"cell-17\" style=\"text-align:right;\">9.312556</td> <td class=\"cell-18\" style=\"text-align:right;\">-3,176,086,437.74562</td> <td class=\"cell-19\" style=\"text-align:right;\">3,224</td> <td class=\"cell-20\" style=\"text-align:right;\">1</td> <td class=\"cell-21\" style=\"text-align:right;\">81.714</td></tr>\n",
       "<tr><td class=\"cell-1\" style=\"\">2017-06-08T14:00:00</td> <td class=\"cell-2\" style=\"text-align:right;\">2,017</td> <td class=\"cell-3\" style=\"text-align:right;\">6</td> <td class=\"cell-4\" style=\"text-align:right;\">8</td> <td class=\"cell-5\" style=\"text-align:right;\">14</td> <td class=\"cell-6\" style=\"\">seconds</td> <td class=\"cell-7\" style=\"text-align:right;\">20,070</td> <td class=\"cell-8\" style=\"text-align:right;\">14.513</td> <td class=\"cell-9\" style=\"text-align:right;\">7.912</td> <td class=\"cell-10\" style=\"text-align:right;\">24.993</td> <td class=\"cell-11\" style=\"text-align:right;\">624,663.228</td> <td class=\"cell-12\" style=\"text-align:right;\">0.185</td> <td class=\"cell-13\" style=\"text-align:right;\">594.337</td> <td class=\"cell-14\" style=\"text-align:right;\">4.224</td> <td class=\"cell-15\" style=\"text-align:right;\">15.837</td> <td class=\"cell-16\" style=\"text-align:right;\">136.995955</td> <td class=\"cell-17\" style=\"text-align:right;\">9.138873</td> <td class=\"cell-18\" style=\"text-align:right;\">-2,971,349,710.388607</td> <td class=\"cell-19\" style=\"text-align:right;\">3,138</td> <td class=\"cell-20\" style=\"text-align:right;\">1</td> <td class=\"cell-21\" style=\"text-align:right;\">82.891</td></tr>\n",
       "<tr><td class=\"cell-1\" style=\"\">2017-06-08T15:00:00</td> <td class=\"cell-2\" style=\"text-align:right;\">2,017</td> <td class=\"cell-3\" style=\"text-align:right;\">6</td> <td class=\"cell-4\" style=\"text-align:right;\">8</td> <td class=\"cell-5\" style=\"text-align:right;\">15</td> <td class=\"cell-6\" style=\"\">seconds</td> <td class=\"cell-7\" style=\"text-align:right;\">19,904</td> <td class=\"cell-8\" style=\"text-align:right;\">13.832</td> <td class=\"cell-9\" style=\"text-align:right;\">7.672</td> <td class=\"cell-10\" style=\"text-align:right;\">24.05</td> <td class=\"cell-11\" style=\"text-align:right;\">578,388.633</td> <td class=\"cell-12\" style=\"text-align:right;\">0.26</td> <td class=\"cell-13\" style=\"text-align:right;\">592.535</td> <td class=\"cell-14\" style=\"text-align:right;\">4.12</td> <td class=\"cell-15\" style=\"text-align:right;\">15.238</td> <td class=\"cell-16\" style=\"text-align:right;\">167.897624</td> <td class=\"cell-17\" style=\"text-align:right;\">10.195838</td> <td class=\"cell-18\" style=\"text-align:right;\">-2,792,181,435.163929</td> <td class=\"cell-19\" style=\"text-align:right;\">2,651</td> <td class=\"cell-20\" style=\"text-align:right;\">1</td> <td class=\"cell-21\" style=\"text-align:right;\">79.822</td></tr>\n",
       "<tr><td class=\"cell-1\" style=\"\">2017-06-08T16:00:00</td> <td class=\"cell-2\" style=\"text-align:right;\">2,017</td> <td class=\"cell-3\" style=\"text-align:right;\">6</td> <td class=\"cell-4\" style=\"text-align:right;\">8</td> <td class=\"cell-5\" style=\"text-align:right;\">16</td> <td class=\"cell-6\" style=\"\">seconds</td> <td class=\"cell-7\" style=\"text-align:right;\">18,626</td> <td class=\"cell-8\" style=\"text-align:right;\">14.324</td> <td class=\"cell-9\" style=\"text-align:right;\">7.85</td> <td class=\"cell-10\" style=\"text-align:right;\">26.517</td> <td class=\"cell-11\" style=\"text-align:right;\">703,174.217</td> <td class=\"cell-12\" style=\"text-align:right;\">0.109</td> <td class=\"cell-13\" style=\"text-align:right;\">583.455</td> <td class=\"cell-14\" style=\"text-align:right;\">4.169</td> <td class=\"cell-15\" style=\"text-align:right;\">15.304</td> <td class=\"cell-16\" style=\"text-align:right;\">143.776958</td> <td class=\"cell-17\" style=\"text-align:right;\">9.824813</td> <td class=\"cell-18\" style=\"text-align:right;\">-2,726,180,074.943322</td> <td class=\"cell-19\" style=\"text-align:right;\">3,662</td> <td class=\"cell-20\" style=\"text-align:right;\">1</td> <td class=\"cell-21\" style=\"text-align:right;\">87.401</td></tr>\n",
       "    </tbody>\n"
      ],
      "text/plain": [
       "HTML{UTF8String}(\"    <table  class=\\\"dataframe-table\\\">\\n    <thead><tr><th class=\\\"cell-1\\\" style=\\\"\\\">datetime</th> <th class=\\\"cell-2\\\" style=\\\"\\\">year</th> <th class=\\\"cell-3\\\" style=\\\"\\\">month</th> <th class=\\\"cell-4\\\" style=\\\"\\\">day</th> <th class=\\\"cell-5\\\" style=\\\"\\\">hour</th> <th class=\\\"cell-6\\\" style=\\\"\\\">unit</th> <th class=\\\"cell-7\\\" style=\\\"\\\">count</th> <th class=\\\"cell-8\\\" style=\\\"\\\">mean</th> <th class=\\\"cell-9\\\" style=\\\"\\\">median</th> <th class=\\\"cell-10\\\" style=\\\"\\\">stddev</th> <th class=\\\"cell-11\\\" style=\\\"\\\">variance</th> <th class=\\\"cell-12\\\" style=\\\"\\\">min</th> <th class=\\\"cell-13\\\" style=\\\"\\\">max</th> <th class=\\\"cell-14\\\" style=\\\"\\\">q25</th> <th class=\\\"cell-15\\\" style=\\\"\\\">q75</th> <th class=\\\"cell-16\\\" style=\\\"\\\">kurtosis</th> <th class=\\\"cell-17\\\" style=\\\"\\\">skewness</th> <th class=\\\"cell-18\\\" style=\\\"\\\">entropy</th> <th class=\\\"cell-19\\\" style=\\\"\\\">modes</th> <th class=\\\"cell-20\\\" style=\\\"\\\">LowerBy3Stddev</th> <th class=\\\"cell-21\\\" style=\\\"\\\">UpperBy3Stddev</th></tr></thead>\\n    <tbody>\\n    <tr><td class=\\\"cell-1\\\" style=\\\"\\\">2017-06-08T06:00:00</td> <td class=\\\"cell-2\\\" style=\\\"text-align:right;\\\">2,017</td> <td class=\\\"cell-3\\\" style=\\\"text-align:right;\\\">6</td> <td class=\\\"cell-4\\\" style=\\\"text-align:right;\\\">8</td> <td class=\\\"cell-5\\\" style=\\\"text-align:right;\\\">6</td> <td class=\\\"cell-6\\\" style=\\\"\\\">seconds</td> <td class=\\\"cell-7\\\" style=\\\"text-align:right;\\\">19,786</td> <td class=\\\"cell-8\\\" style=\\\"text-align:right;\\\">14.639</td> <td class=\\\"cell-9\\\" style=\\\"text-align:right;\\\">8.426</td> <td class=\\\"cell-10\\\" style=\\\"text-align:right;\\\">24.218</td> <td class=\\\"cell-11\\\" style=\\\"text-align:right;\\\">586,516.447</td> <td class=\\\"cell-12\\\" style=\\\"text-align:right;\\\">0.024</td> <td class=\\\"cell-13\\\" style=\\\"text-align:right;\\\">550.657</td> <td class=\\\"cell-14\\\" style=\\\"text-align:right;\\\">4.478</td> <td class=\\\"cell-15\\\" style=\\\"text-align:right;\\\">16.206</td> <td class=\\\"cell-16\\\" style=\\\"text-align:right;\\\">125.924571</td> <td class=\\\"cell-17\\\" style=\\\"text-align:right;\\\">8.884389</td> <td class=\\\"cell-18\\\" style=\\\"text-align:right;\\\">-2,946,212,529.471984</td> <td class=\\\"cell-19\\\" style=\\\"text-align:right;\\\">3,219</td> <td class=\\\"cell-20\\\" style=\\\"text-align:right;\\\">1</td> <td class=\\\"cell-21\\\" style=\\\"text-align:right;\\\">81.08</td></tr>\\n<tr><td class=\\\"cell-1\\\" style=\\\"\\\">2017-06-08T07:00:00</td> <td class=\\\"cell-2\\\" style=\\\"text-align:right;\\\">2,017</td> <td class=\\\"cell-3\\\" style=\\\"text-align:right;\\\">6</td> <td class=\\\"cell-4\\\" style=\\\"text-align:right;\\\">8</td> <td class=\\\"cell-5\\\" style=\\\"text-align:right;\\\">7</td> <td class=\\\"cell-6\\\" style=\\\"\\\">seconds</td> <td class=\\\"cell-7\\\" style=\\\"text-align:right;\\\">17,321</td> <td class=\\\"cell-8\\\" style=\\\"text-align:right;\\\">14.709</td> <td class=\\\"cell-9\\\" style=\\\"text-align:right;\\\">8.33</td> <td class=\\\"cell-10\\\" style=\\\"text-align:right;\\\">24.657</td> <td class=\\\"cell-11\\\" style=\\\"text-align:right;\\\">607,981.415</td> <td class=\\\"cell-12\\\" style=\\\"text-align:right;\\\">0.363</td> <td class=\\\"cell-13\\\" style=\\\"text-align:right;\\\">584.402</td> <td class=\\\"cell-14\\\" style=\\\"text-align:right;\\\">4.42</td> <td class=\\\"cell-15\\\" style=\\\"text-align:right;\\\">16.209</td> <td class=\\\"cell-16\\\" style=\\\"text-align:right;\\\">114.194951</td> <td class=\\\"cell-17\\\" style=\\\"text-align:right;\\\">8.537869</td> <td class=\\\"cell-18\\\" style=\\\"text-align:right;\\\">-2,596,504,175.114229</td> <td class=\\\"cell-19\\\" style=\\\"text-align:right;\\\">4,421</td> <td class=\\\"cell-20\\\" style=\\\"text-align:right;\\\">1</td> <td class=\\\"cell-21\\\" style=\\\"text-align:right;\\\">82.301</td></tr>\\n<tr><td class=\\\"cell-1\\\" style=\\\"\\\">2017-06-08T08:00:00</td> <td class=\\\"cell-2\\\" style=\\\"text-align:right;\\\">2,017</td> <td class=\\\"cell-3\\\" style=\\\"text-align:right;\\\">6</td> <td class=\\\"cell-4\\\" style=\\\"text-align:right;\\\">8</td> <td class=\\\"cell-5\\\" style=\\\"text-align:right;\\\">8</td> <td class=\\\"cell-6\\\" style=\\\"\\\">seconds</td> <td class=\\\"cell-7\\\" style=\\\"text-align:right;\\\">15,960</td> <td class=\\\"cell-8\\\" style=\\\"text-align:right;\\\">14.582</td> <td class=\\\"cell-9\\\" style=\\\"text-align:right;\\\">8.078</td> <td class=\\\"cell-10\\\" style=\\\"text-align:right;\\\">25.385</td> <td class=\\\"cell-11\\\" style=\\\"text-align:right;\\\">644,414.55</td> <td class=\\\"cell-12\\\" style=\\\"text-align:right;\\\">0.191</td> <td class=\\\"cell-13\\\" style=\\\"text-align:right;\\\">587.658</td> <td class=\\\"cell-14\\\" style=\\\"text-align:right;\\\">4.303</td> <td class=\\\"cell-15\\\" style=\\\"text-align:right;\\\">15.875</td> <td class=\\\"cell-16\\\" style=\\\"text-align:right;\\\">142.552103</td> <td class=\\\"cell-17\\\" style=\\\"text-align:right;\\\">9.413971</td> <td class=\\\"cell-18\\\" style=\\\"text-align:right;\\\">-2,374,158,344.484723</td> <td class=\\\"cell-19\\\" style=\\\"text-align:right;\\\">3,323</td> <td class=\\\"cell-20\\\" style=\\\"text-align:right;\\\">1</td> <td class=\\\"cell-21\\\" style=\\\"text-align:right;\\\">84.233</td></tr>\\n<tr><td class=\\\"cell-1\\\" style=\\\"\\\">2017-06-08T09:00:00</td> <td class=\\\"cell-2\\\" style=\\\"text-align:right;\\\">2,017</td> <td class=\\\"cell-3\\\" style=\\\"text-align:right;\\\">6</td> <td class=\\\"cell-4\\\" style=\\\"text-align:right;\\\">8</td> <td class=\\\"cell-5\\\" style=\\\"text-align:right;\\\">9</td> <td class=\\\"cell-6\\\" style=\\\"\\\">seconds</td> <td class=\\\"cell-7\\\" style=\\\"text-align:right;\\\">15,506</td> <td class=\\\"cell-8\\\" style=\\\"text-align:right;\\\">14.196</td> <td class=\\\"cell-9\\\" style=\\\"text-align:right;\\\">8.161</td> <td class=\\\"cell-10\\\" style=\\\"text-align:right;\\\">23.663</td> <td class=\\\"cell-11\\\" style=\\\"text-align:right;\\\">559,944.679</td> <td class=\\\"cell-12\\\" style=\\\"text-align:right;\\\">0.412</td> <td class=\\\"cell-13\\\" style=\\\"text-align:right;\\\">579.344</td> <td class=\\\"cell-14\\\" style=\\\"text-align:right;\\\">4.321</td> <td class=\\\"cell-15\\\" style=\\\"text-align:right;\\\">15.848</td> <td class=\\\"cell-16\\\" style=\\\"text-align:right;\\\">176.129842</td> <td class=\\\"cell-17\\\" style=\\\"text-align:right;\\\">10.283762</td> <td class=\\\"cell-18\\\" style=\\\"text-align:right;\\\">-2,230,948,667.877148</td> <td class=\\\"cell-19\\\" style=\\\"text-align:right;\\\">3,341</td> <td class=\\\"cell-20\\\" style=\\\"text-align:right;\\\">1</td> <td class=\\\"cell-21\\\" style=\\\"text-align:right;\\\">79.15</td></tr>\\n<tr><td class=\\\"cell-1\\\" style=\\\"\\\">2017-06-08T10:00:00</td> <td class=\\\"cell-2\\\" style=\\\"text-align:right;\\\">2,017</td> <td class=\\\"cell-3\\\" style=\\\"text-align:right;\\\">6</td> <td class=\\\"cell-4\\\" style=\\\"text-align:right;\\\">8</td> <td class=\\\"cell-5\\\" style=\\\"text-align:right;\\\">10</td> <td class=\\\"cell-6\\\" style=\\\"\\\">seconds</td> <td class=\\\"cell-7\\\" style=\\\"text-align:right;\\\">16,869</td> <td class=\\\"cell-8\\\" style=\\\"text-align:right;\\\">14.43</td> <td class=\\\"cell-9\\\" style=\\\"text-align:right;\\\">8.324</td> <td class=\\\"cell-10\\\" style=\\\"text-align:right;\\\">23.883</td> <td class=\\\"cell-11\\\" style=\\\"text-align:right;\\\">570,382.474</td> <td class=\\\"cell-12\\\" style=\\\"text-align:right;\\\">0.12</td> <td class=\\\"cell-13\\\" style=\\\"text-align:right;\\\">596.217</td> <td class=\\\"cell-14\\\" style=\\\"text-align:right;\\\">4.424</td> <td class=\\\"cell-15\\\" style=\\\"text-align:right;\\\">16.177</td> <td class=\\\"cell-16\\\" style=\\\"text-align:right;\\\">144.767356</td> <td class=\\\"cell-17\\\" style=\\\"text-align:right;\\\">9.351338</td> <td class=\\\"cell-18\\\" style=\\\"text-align:right;\\\">-2,471,739,905.938087</td> <td class=\\\"cell-19\\\" style=\\\"text-align:right;\\\">3,852</td> <td class=\\\"cell-20\\\" style=\\\"text-align:right;\\\">1</td> <td class=\\\"cell-21\\\" style=\\\"text-align:right;\\\">79.973</td></tr>\\n<tr><td class=\\\"cell-1\\\" style=\\\"\\\">2017-06-08T11:00:00</td> <td class=\\\"cell-2\\\" style=\\\"text-align:right;\\\">2,017</td> <td class=\\\"cell-3\\\" style=\\\"text-align:right;\\\">6</td> <td class=\\\"cell-4\\\" style=\\\"text-align:right;\\\">8</td> <td class=\\\"cell-5\\\" style=\\\"text-align:right;\\\">11</td> <td class=\\\"cell-6\\\" style=\\\"\\\">seconds</td> <td class=\\\"cell-7\\\" style=\\\"text-align:right;\\\">19,647</td> <td class=\\\"cell-8\\\" style=\\\"text-align:right;\\\">14.352</td> <td class=\\\"cell-9\\\" style=\\\"text-align:right;\\\">8.24</td> <td class=\\\"cell-10\\\" style=\\\"text-align:right;\\\">23.233</td> <td class=\\\"cell-11\\\" style=\\\"text-align:right;\\\">539,749.691</td> <td class=\\\"cell-12\\\" style=\\\"text-align:right;\\\">0.21</td> <td class=\\\"cell-13\\\" style=\\\"text-align:right;\\\">587.908</td> <td class=\\\"cell-14\\\" style=\\\"text-align:right;\\\">4.386</td> <td class=\\\"cell-15\\\" style=\\\"text-align:right;\\\">16.151</td> <td class=\\\"cell-16\\\" style=\\\"text-align:right;\\\">146.307155</td> <td class=\\\"cell-17\\\" style=\\\"text-align:right;\\\">9.247076</td> <td class=\\\"cell-18\\\" style=\\\"text-align:right;\\\">-2,859,803,198.578892</td> <td class=\\\"cell-19\\\" style=\\\"text-align:right;\\\">2,925</td> <td class=\\\"cell-20\\\" style=\\\"text-align:right;\\\">1</td> <td class=\\\"cell-21\\\" style=\\\"text-align:right;\\\">77.939</td></tr>\\n    \\n    <tr><td class=\\\"cell-1\\\" style=\\\"\\\">2017-06-08T12:00:00</td> <td class=\\\"cell-2\\\" style=\\\"text-align:right;\\\">2,017</td> <td class=\\\"cell-3\\\" style=\\\"text-align:right;\\\">6</td> <td class=\\\"cell-4\\\" style=\\\"text-align:right;\\\">8</td> <td class=\\\"cell-5\\\" style=\\\"text-align:right;\\\">12</td> <td class=\\\"cell-6\\\" style=\\\"\\\">seconds</td> <td class=\\\"cell-7\\\" style=\\\"text-align:right;\\\">21,254</td> <td class=\\\"cell-8\\\" style=\\\"text-align:right;\\\">14.364</td> <td class=\\\"cell-9\\\" style=\\\"text-align:right;\\\">8.067</td> <td class=\\\"cell-10\\\" style=\\\"text-align:right;\\\">23.44</td> <td class=\\\"cell-11\\\" style=\\\"text-align:right;\\\">549,435.428</td> <td class=\\\"cell-12\\\" style=\\\"text-align:right;\\\">0.203</td> <td class=\\\"cell-13\\\" style=\\\"text-align:right;\\\">571.359</td> <td class=\\\"cell-14\\\" style=\\\"text-align:right;\\\">4.364</td> <td class=\\\"cell-15\\\" style=\\\"text-align:right;\\\">15.732</td> <td class=\\\"cell-16\\\" style=\\\"text-align:right;\\\">126.095712</td> <td class=\\\"cell-17\\\" style=\\\"text-align:right;\\\">8.591952</td> <td class=\\\"cell-18\\\" style=\\\"text-align:right;\\\">-3,101,123,051.796371</td> <td class=\\\"cell-19\\\" style=\\\"text-align:right;\\\">3,684</td> <td class=\\\"cell-20\\\" style=\\\"text-align:right;\\\">1</td> <td class=\\\"cell-21\\\" style=\\\"text-align:right;\\\">78.387</td></tr>\\n<tr><td class=\\\"cell-1\\\" style=\\\"\\\">2017-06-08T13:00:00</td> <td class=\\\"cell-2\\\" style=\\\"text-align:right;\\\">2,017</td> <td class=\\\"cell-3\\\" style=\\\"text-align:right;\\\">6</td> <td class=\\\"cell-4\\\" style=\\\"text-align:right;\\\">8</td> <td class=\\\"cell-5\\\" style=\\\"text-align:right;\\\">13</td> <td class=\\\"cell-6\\\" style=\\\"\\\">seconds</td> <td class=\\\"cell-7\\\" style=\\\"text-align:right;\\\">21,884</td> <td class=\\\"cell-8\\\" style=\\\"text-align:right;\\\">14.26</td> <td class=\\\"cell-9\\\" style=\\\"text-align:right;\\\">7.992</td> <td class=\\\"cell-10\\\" style=\\\"text-align:right;\\\">24.574</td> <td class=\\\"cell-11\\\" style=\\\"text-align:right;\\\">603,905.307</td> <td class=\\\"cell-12\\\" style=\\\"text-align:right;\\\">0.3</td> <td class=\\\"cell-13\\\" style=\\\"text-align:right;\\\">591.506</td> <td class=\\\"cell-14\\\" style=\\\"text-align:right;\\\">4.188</td> <td class=\\\"cell-15\\\" style=\\\"text-align:right;\\\">15.502</td> <td class=\\\"cell-16\\\" style=\\\"text-align:right;\\\">142.556899</td> <td class=\\\"cell-17\\\" style=\\\"text-align:right;\\\">9.312556</td> <td class=\\\"cell-18\\\" style=\\\"text-align:right;\\\">-3,176,086,437.74562</td> <td class=\\\"cell-19\\\" style=\\\"text-align:right;\\\">3,224</td> <td class=\\\"cell-20\\\" style=\\\"text-align:right;\\\">1</td> <td class=\\\"cell-21\\\" style=\\\"text-align:right;\\\">81.714</td></tr>\\n<tr><td class=\\\"cell-1\\\" style=\\\"\\\">2017-06-08T14:00:00</td> <td class=\\\"cell-2\\\" style=\\\"text-align:right;\\\">2,017</td> <td class=\\\"cell-3\\\" style=\\\"text-align:right;\\\">6</td> <td class=\\\"cell-4\\\" style=\\\"text-align:right;\\\">8</td> <td class=\\\"cell-5\\\" style=\\\"text-align:right;\\\">14</td> <td class=\\\"cell-6\\\" style=\\\"\\\">seconds</td> <td class=\\\"cell-7\\\" style=\\\"text-align:right;\\\">20,070</td> <td class=\\\"cell-8\\\" style=\\\"text-align:right;\\\">14.513</td> <td class=\\\"cell-9\\\" style=\\\"text-align:right;\\\">7.912</td> <td class=\\\"cell-10\\\" style=\\\"text-align:right;\\\">24.993</td> <td class=\\\"cell-11\\\" style=\\\"text-align:right;\\\">624,663.228</td> <td class=\\\"cell-12\\\" style=\\\"text-align:right;\\\">0.185</td> <td class=\\\"cell-13\\\" style=\\\"text-align:right;\\\">594.337</td> <td class=\\\"cell-14\\\" style=\\\"text-align:right;\\\">4.224</td> <td class=\\\"cell-15\\\" style=\\\"text-align:right;\\\">15.837</td> <td class=\\\"cell-16\\\" style=\\\"text-align:right;\\\">136.995955</td> <td class=\\\"cell-17\\\" style=\\\"text-align:right;\\\">9.138873</td> <td class=\\\"cell-18\\\" style=\\\"text-align:right;\\\">-2,971,349,710.388607</td> <td class=\\\"cell-19\\\" style=\\\"text-align:right;\\\">3,138</td> <td class=\\\"cell-20\\\" style=\\\"text-align:right;\\\">1</td> <td class=\\\"cell-21\\\" style=\\\"text-align:right;\\\">82.891</td></tr>\\n<tr><td class=\\\"cell-1\\\" style=\\\"\\\">2017-06-08T15:00:00</td> <td class=\\\"cell-2\\\" style=\\\"text-align:right;\\\">2,017</td> <td class=\\\"cell-3\\\" style=\\\"text-align:right;\\\">6</td> <td class=\\\"cell-4\\\" style=\\\"text-align:right;\\\">8</td> <td class=\\\"cell-5\\\" style=\\\"text-align:right;\\\">15</td> <td class=\\\"cell-6\\\" style=\\\"\\\">seconds</td> <td class=\\\"cell-7\\\" style=\\\"text-align:right;\\\">19,904</td> <td class=\\\"cell-8\\\" style=\\\"text-align:right;\\\">13.832</td> <td class=\\\"cell-9\\\" style=\\\"text-align:right;\\\">7.672</td> <td class=\\\"cell-10\\\" style=\\\"text-align:right;\\\">24.05</td> <td class=\\\"cell-11\\\" style=\\\"text-align:right;\\\">578,388.633</td> <td class=\\\"cell-12\\\" style=\\\"text-align:right;\\\">0.26</td> <td class=\\\"cell-13\\\" style=\\\"text-align:right;\\\">592.535</td> <td class=\\\"cell-14\\\" style=\\\"text-align:right;\\\">4.12</td> <td class=\\\"cell-15\\\" style=\\\"text-align:right;\\\">15.238</td> <td class=\\\"cell-16\\\" style=\\\"text-align:right;\\\">167.897624</td> <td class=\\\"cell-17\\\" style=\\\"text-align:right;\\\">10.195838</td> <td class=\\\"cell-18\\\" style=\\\"text-align:right;\\\">-2,792,181,435.163929</td> <td class=\\\"cell-19\\\" style=\\\"text-align:right;\\\">2,651</td> <td class=\\\"cell-20\\\" style=\\\"text-align:right;\\\">1</td> <td class=\\\"cell-21\\\" style=\\\"text-align:right;\\\">79.822</td></tr>\\n<tr><td class=\\\"cell-1\\\" style=\\\"\\\">2017-06-08T16:00:00</td> <td class=\\\"cell-2\\\" style=\\\"text-align:right;\\\">2,017</td> <td class=\\\"cell-3\\\" style=\\\"text-align:right;\\\">6</td> <td class=\\\"cell-4\\\" style=\\\"text-align:right;\\\">8</td> <td class=\\\"cell-5\\\" style=\\\"text-align:right;\\\">16</td> <td class=\\\"cell-6\\\" style=\\\"\\\">seconds</td> <td class=\\\"cell-7\\\" style=\\\"text-align:right;\\\">18,626</td> <td class=\\\"cell-8\\\" style=\\\"text-align:right;\\\">14.324</td> <td class=\\\"cell-9\\\" style=\\\"text-align:right;\\\">7.85</td> <td class=\\\"cell-10\\\" style=\\\"text-align:right;\\\">26.517</td> <td class=\\\"cell-11\\\" style=\\\"text-align:right;\\\">703,174.217</td> <td class=\\\"cell-12\\\" style=\\\"text-align:right;\\\">0.109</td> <td class=\\\"cell-13\\\" style=\\\"text-align:right;\\\">583.455</td> <td class=\\\"cell-14\\\" style=\\\"text-align:right;\\\">4.169</td> <td class=\\\"cell-15\\\" style=\\\"text-align:right;\\\">15.304</td> <td class=\\\"cell-16\\\" style=\\\"text-align:right;\\\">143.776958</td> <td class=\\\"cell-17\\\" style=\\\"text-align:right;\\\">9.824813</td> <td class=\\\"cell-18\\\" style=\\\"text-align:right;\\\">-2,726,180,074.943322</td> <td class=\\\"cell-19\\\" style=\\\"text-align:right;\\\">3,662</td> <td class=\\\"cell-20\\\" style=\\\"text-align:right;\\\">1</td> <td class=\\\"cell-21\\\" style=\\\"text-align:right;\\\">87.401</td></tr>\\n    </tbody>\\n\")"
      ]
     },
     "metadata": {},
     "output_type": "display_data"
    }
   ],
   "source": [
    "# Todo Convert to UTC, improve\n",
    "AllStatsDF = createAllStatsDF(tv,UP)\n",
    ";   "
   ]
  },
  {
   "cell_type": "code",
   "execution_count": 7,
   "metadata": {
    "collapsed": false,
    "input_collapsed": false,
    "scrolled": false
   },
   "outputs": [
    {
     "data": {
      "text/html": [
       "<div class=\"dswbOutputText\"><h1 class=\"chart_title\" style=\"color:#ccc\">News Article Page Group</h1><h5 class=\"chart_lastCalled\" style=\"color:#ccc\">Run at June 10, 2017 19:10:59</h5></div>"
      ]
     },
     "metadata": {},
     "output_type": "display_data"
    },
    {
     "data": {
      "text/html": [
       "    <iframe id=\"timeSeries-QNGTWKBPRQENYEYXQORQSVPATTOONRTT\" class=\"dswbiframe\" width=\"100%\" height=\"600\" src=\"about:blank\" scrolling=\"no\"></iframe>\n",
       "    <script>\n",
       "    (function() {\n",
       "        var iframe = document.getElementById(\"timeSeries-QNGTWKBPRQENYEYXQORQSVPATTOONRTT\");\n",
       "        iframe.timeSeriesRendererLoaded = function(runner) {\n",
       "            iframe.runner = runner;\n",
       "            iframe.runner([[\"x\",\"June 8, 2017 06:00:00\",\"June 8, 2017 07:00:00\",\"June 8, 2017 08:00:00\",\"June 8, 2017 09:00:00\",\"June 8, 2017 10:00:00\",\"June 8, 2017 11:00:00\",\"June 8, 2017 12:00:00\",\"June 8, 2017 13:00:00\",\"June 8, 2017 14:00:00\",\"June 8, 2017 15:00:00\",\"June 8, 2017 16:00:00\"],[\"data1\",14.639,14.709,14.582,14.196,14.43,14.352,14.364,14.26,14.513,13.832,14.324],[\"data2\",8.426,8.33,8.078,8.161,8.324,8.24,8.067,7.992,7.912,7.672,7.85],[\"data3\",24.218,24.657,25.385,23.663,23.883,23.233,23.44,24.574,24.993,24.05,26.517]],\n",
       "                [\"Mean\",\"Median\",\"Standard Deviation\"],\n",
       "                [\"Mean\",\"Median\",\"Standard Dev\"],\n",
       "                [\"line\",\"line\",\"line\"],\n",
       "                [\"hsla(214, 86%, 60%, 0.9)\",\"hsla(130, 61%, 50%, 0.9)\",\"hsla(35, 100%, 50%, 0.9)\",\"hsla(0, 100%, 60%, 0.9)\",\"hsla(207, 34%, 49%, 0.9)\",\"hsla(80, 61%, 50%, 0.9)\",\"hsla(181, 72%, 56%, 0.9)\",\"hsla(330, 100%, 71%, 0.9)\",\"hsla(55, 74%, 68%, 0.9)\",\"hsla(116, 26%, 64%, 0.9)\",\"hsla(34, 49%, 65%, 0.9)\",\"hsla(197, 70%, 73%, 0.9)\",\"hsla(300, 47%, 74%, 0.9)\",\"hsla(28, 100%, 86%, 0.9)\",\"hsla(181, 26%, 50%, 0.9)\",\"hsla(17, 100%, 74%, 0.9)\"],\n",
       "                [],\n",
       "                [],\n",
       "                \"\",\n",
       "                [],\n",
       "                {}\n",
       "            );\n",
       "        }\n",
       "        iframe.src = \"/static/graphs/templates/c3Viz_template.html#id=timeSeries-QNGTWKBPRQENYEYXQORQSVPATTOONRTT\";\n",
       "    }());\n",
       "    </script>\n"
      ]
     },
     "metadata": {},
     "output_type": "display_data"
    }
   ],
   "source": [
    "drawC3VizConverter(UP,AllStatsDF;graphType=1)\n",
    ";"
   ]
  },
  {
   "cell_type": "code",
   "execution_count": 8,
   "metadata": {
    "collapsed": false,
    "input_collapsed": false
   },
   "outputs": [
    {
     "data": {
      "text/html": [
       "<div class=\"dswbOutputText\"><h1 class=\"chart_title\" style=\"color:#ccc\">News Article Page Group</h1><h5 class=\"chart_lastCalled\" style=\"color:#ccc\">Run at June 10, 2017 19:11:00</h5></div>"
      ]
     },
     "metadata": {},
     "output_type": "display_data"
    },
    {
     "data": {
      "text/html": [
       "    <iframe id=\"timeSeries-INUWCLRQNRYOGLRLVIPPXBEJKHBRJPEW\" class=\"dswbiframe\" width=\"100%\" height=\"600\" src=\"about:blank\" scrolling=\"no\"></iframe>\n",
       "    <script>\n",
       "    (function() {\n",
       "        var iframe = document.getElementById(\"timeSeries-INUWCLRQNRYOGLRLVIPPXBEJKHBRJPEW\");\n",
       "        iframe.timeSeriesRendererLoaded = function(runner) {\n",
       "            iframe.runner = runner;\n",
       "            iframe.runner([[\"x\",\"June 8, 2017 06:00:00\",\"June 8, 2017 07:00:00\",\"June 8, 2017 08:00:00\",\"June 8, 2017 09:00:00\",\"June 8, 2017 10:00:00\",\"June 8, 2017 11:00:00\",\"June 8, 2017 12:00:00\",\"June 8, 2017 13:00:00\",\"June 8, 2017 14:00:00\",\"June 8, 2017 15:00:00\",\"June 8, 2017 16:00:00\"],[\"data1\",4.478,4.42,4.303,4.321,4.424,4.386,4.364,4.188,4.224,4.12,4.169],[\"data2\",8.426,8.33,8.078,8.161,8.324,8.24,8.067,7.992,7.912,7.672,7.85],[\"data3\",16.206,16.209,15.875,15.848,16.177,16.151,15.732,15.502,15.837,15.238,15.304]],\n",
       "                [\"Q25\",\"Q50\",\"Q75\"],\n",
       "                [\"Seconds\"],\n",
       "                [\"line\",\"line\"],\n",
       "                [\"hsla(214, 86%, 60%, 0.9)\",\"hsla(130, 61%, 50%, 0.9)\",\"hsla(35, 100%, 50%, 0.9)\",\"hsla(0, 100%, 60%, 0.9)\",\"hsla(207, 34%, 49%, 0.9)\",\"hsla(80, 61%, 50%, 0.9)\",\"hsla(181, 72%, 56%, 0.9)\",\"hsla(330, 100%, 71%, 0.9)\",\"hsla(55, 74%, 68%, 0.9)\",\"hsla(116, 26%, 64%, 0.9)\",\"hsla(34, 49%, 65%, 0.9)\",\"hsla(197, 70%, 73%, 0.9)\",\"hsla(300, 47%, 74%, 0.9)\",\"hsla(28, 100%, 86%, 0.9)\",\"hsla(181, 26%, 50%, 0.9)\",\"hsla(17, 100%, 74%, 0.9)\"],\n",
       "                [],\n",
       "                [],\n",
       "                \"\",\n",
       "                [],\n",
       "                {}\n",
       "            );\n",
       "        }\n",
       "        iframe.src = \"/static/graphs/templates/c3Viz_template.html#id=timeSeries-INUWCLRQNRYOGLRLVIPPXBEJKHBRJPEW\";\n",
       "    }());\n",
       "    </script>\n"
      ]
     },
     "metadata": {},
     "output_type": "display_data"
    }
   ],
   "source": [
    "drawC3VizConverter(UP,AllStatsDF;graphType=2)\n",
    ";"
   ]
  },
  {
   "cell_type": "code",
   "execution_count": 9,
   "metadata": {
    "collapsed": false,
    "input_collapsed": false
   },
   "outputs": [
    {
     "data": {
      "text/html": [
       "<div class=\"dswbOutputText\"><h1 class=\"chart_title\" style=\"color:#ccc\">News Article Page Group</h1><h5 class=\"chart_lastCalled\" style=\"color:#ccc\">Run at June 10, 2017 19:11:00</h5></div>"
      ]
     },
     "metadata": {},
     "output_type": "display_data"
    },
    {
     "data": {
      "text/html": [
       "    <iframe id=\"timeSeries-KLMPIHHDWXGIXXNIBXVIVHBIUFNTMBDK\" class=\"dswbiframe\" width=\"100%\" height=\"600\" src=\"about:blank\" scrolling=\"no\"></iframe>\n",
       "    <script>\n",
       "    (function() {\n",
       "        var iframe = document.getElementById(\"timeSeries-KLMPIHHDWXGIXXNIBXVIVHBIUFNTMBDK\");\n",
       "        iframe.timeSeriesRendererLoaded = function(runner) {\n",
       "            iframe.runner = runner;\n",
       "            iframe.runner([[\"x\",\"June 8, 2017 06:00:00\",\"June 8, 2017 07:00:00\",\"June 8, 2017 08:00:00\",\"June 8, 2017 09:00:00\",\"June 8, 2017 10:00:00\",\"June 8, 2017 11:00:00\",\"June 8, 2017 12:00:00\",\"June 8, 2017 13:00:00\",\"June 8, 2017 14:00:00\",\"June 8, 2017 15:00:00\",\"June 8, 2017 16:00:00\"],[\"data1\",125.92457129888646,114.19495146947776,142.5521029810869,176.12984176690628,144.7673564826588,146.3071549311078,126.0957120287377,142.55689868939214,136.99595459980287,167.8976243219058,143.77695832451565]],\n",
       "                [\"Kurtosis\"],\n",
       "                [\"Seconds\"],\n",
       "                [\"line\"],\n",
       "                [\"hsla(214, 86%, 60%, 0.9)\",\"hsla(130, 61%, 50%, 0.9)\",\"hsla(35, 100%, 50%, 0.9)\",\"hsla(0, 100%, 60%, 0.9)\",\"hsla(207, 34%, 49%, 0.9)\",\"hsla(80, 61%, 50%, 0.9)\",\"hsla(181, 72%, 56%, 0.9)\",\"hsla(330, 100%, 71%, 0.9)\",\"hsla(55, 74%, 68%, 0.9)\",\"hsla(116, 26%, 64%, 0.9)\",\"hsla(34, 49%, 65%, 0.9)\",\"hsla(197, 70%, 73%, 0.9)\",\"hsla(300, 47%, 74%, 0.9)\",\"hsla(28, 100%, 86%, 0.9)\",\"hsla(181, 26%, 50%, 0.9)\",\"hsla(17, 100%, 74%, 0.9)\"],\n",
       "                [],\n",
       "                [],\n",
       "                \"\",\n",
       "                [],\n",
       "                {}\n",
       "            );\n",
       "        }\n",
       "        iframe.src = \"/static/graphs/templates/c3Viz_template.html#id=timeSeries-KLMPIHHDWXGIXXNIBXVIVHBIUFNTMBDK\";\n",
       "    }());\n",
       "    </script>\n"
      ]
     },
     "metadata": {},
     "output_type": "display_data"
    }
   ],
   "source": [
    "drawC3VizConverter(UP,AllStatsDF;graphType=3)\n",
    ";"
   ]
  },
  {
   "cell_type": "code",
   "execution_count": 10,
   "metadata": {
    "collapsed": false,
    "input_collapsed": false
   },
   "outputs": [
    {
     "data": {
      "text/html": [
       "<div class=\"dswbOutputText\"><h1 class=\"chart_title\" style=\"color:#ccc\">News Article Page Group</h1><h5 class=\"chart_lastCalled\" style=\"color:#ccc\">Run at June 10, 2017 19:11:00</h5></div>"
      ]
     },
     "metadata": {},
     "output_type": "display_data"
    },
    {
     "data": {
      "text/html": [
       "    <iframe id=\"timeSeries-WCRSYGYOCRXSRDJOIEUEERMACAKHYEGU\" class=\"dswbiframe\" width=\"100%\" height=\"600\" src=\"about:blank\" scrolling=\"no\"></iframe>\n",
       "    <script>\n",
       "    (function() {\n",
       "        var iframe = document.getElementById(\"timeSeries-WCRSYGYOCRXSRDJOIEUEERMACAKHYEGU\");\n",
       "        iframe.timeSeriesRendererLoaded = function(runner) {\n",
       "            iframe.runner = runner;\n",
       "            iframe.runner([[\"x\",\"June 8, 2017 06:00:00\",\"June 8, 2017 07:00:00\",\"June 8, 2017 08:00:00\",\"June 8, 2017 09:00:00\",\"June 8, 2017 10:00:00\",\"June 8, 2017 11:00:00\",\"June 8, 2017 12:00:00\",\"June 8, 2017 13:00:00\",\"June 8, 2017 14:00:00\",\"June 8, 2017 15:00:00\",\"June 8, 2017 16:00:00\"],[\"data1\",8.88438937846361,8.537868855146748,9.41397142131152,10.283762096578494,9.351338231924595,9.247076161914062,8.591952215033468,9.312555895199385,9.138872994368327,10.195837634452792,9.824813220053583]],\n",
       "                [\"Skewness\"],\n",
       "                [\"Seconds\"],\n",
       "                [\"line\"],\n",
       "                [\"hsla(214, 86%, 60%, 0.9)\",\"hsla(130, 61%, 50%, 0.9)\",\"hsla(35, 100%, 50%, 0.9)\",\"hsla(0, 100%, 60%, 0.9)\",\"hsla(207, 34%, 49%, 0.9)\",\"hsla(80, 61%, 50%, 0.9)\",\"hsla(181, 72%, 56%, 0.9)\",\"hsla(330, 100%, 71%, 0.9)\",\"hsla(55, 74%, 68%, 0.9)\",\"hsla(116, 26%, 64%, 0.9)\",\"hsla(34, 49%, 65%, 0.9)\",\"hsla(197, 70%, 73%, 0.9)\",\"hsla(300, 47%, 74%, 0.9)\",\"hsla(28, 100%, 86%, 0.9)\",\"hsla(181, 26%, 50%, 0.9)\",\"hsla(17, 100%, 74%, 0.9)\"],\n",
       "                [],\n",
       "                [],\n",
       "                \"\",\n",
       "                [],\n",
       "                {}\n",
       "            );\n",
       "        }\n",
       "        iframe.src = \"/static/graphs/templates/c3Viz_template.html#id=timeSeries-WCRSYGYOCRXSRDJOIEUEERMACAKHYEGU\";\n",
       "    }());\n",
       "    </script>\n"
      ]
     },
     "metadata": {},
     "output_type": "display_data"
    }
   ],
   "source": [
    "drawC3VizConverter(UP,AllStatsDF;graphType=4)\n",
    ";"
   ]
  },
  {
   "cell_type": "code",
   "execution_count": 11,
   "metadata": {
    "collapsed": false,
    "input_collapsed": false
   },
   "outputs": [
    {
     "data": {
      "text/html": [
       "<div class=\"dswbOutputText\"><h1 class=\"chart_title\" style=\"color:#ccc\">News Article Page Group</h1><h5 class=\"chart_lastCalled\" style=\"color:#ccc\">Run at June 10, 2017 19:11:00</h5></div>"
      ]
     },
     "metadata": {},
     "output_type": "display_data"
    },
    {
     "data": {
      "text/html": [
       "    <iframe id=\"timeSeries-WOYIVATNAHBHMYXTRDBKWXPYTSBJDTOE\" class=\"dswbiframe\" width=\"100%\" height=\"600\" src=\"about:blank\" scrolling=\"no\"></iframe>\n",
       "    <script>\n",
       "    (function() {\n",
       "        var iframe = document.getElementById(\"timeSeries-WOYIVATNAHBHMYXTRDBKWXPYTSBJDTOE\");\n",
       "        iframe.timeSeriesRendererLoaded = function(runner) {\n",
       "            iframe.runner = runner;\n",
       "            iframe.runner([[\"x\",\"June 8, 2017 06:00:00\",\"June 8, 2017 07:00:00\",\"June 8, 2017 08:00:00\",\"June 8, 2017 09:00:00\",\"June 8, 2017 10:00:00\",\"June 8, 2017 11:00:00\",\"June 8, 2017 12:00:00\",\"June 8, 2017 13:00:00\",\"June 8, 2017 14:00:00\",\"June 8, 2017 15:00:00\",\"June 8, 2017 16:00:00\"],[\"data1\",-2.9462125294719844e9,-2.596504175114229e9,-2.3741583444847226e9,-2.230948667877148e9,-2.4717399059380865e9,-2.8598031985788918e9,-3.1011230517963715e9,-3.1760864377456203e9,-2.971349710388607e9,-2.7921814351639295e9,-2.726180074943322e9]],\n",
       "                [\"Entropy\"],\n",
       "                [\"Seconds\"],\n",
       "                [\"line\"],\n",
       "                [\"hsla(214, 86%, 60%, 0.9)\",\"hsla(130, 61%, 50%, 0.9)\",\"hsla(35, 100%, 50%, 0.9)\",\"hsla(0, 100%, 60%, 0.9)\",\"hsla(207, 34%, 49%, 0.9)\",\"hsla(80, 61%, 50%, 0.9)\",\"hsla(181, 72%, 56%, 0.9)\",\"hsla(330, 100%, 71%, 0.9)\",\"hsla(55, 74%, 68%, 0.9)\",\"hsla(116, 26%, 64%, 0.9)\",\"hsla(34, 49%, 65%, 0.9)\",\"hsla(197, 70%, 73%, 0.9)\",\"hsla(300, 47%, 74%, 0.9)\",\"hsla(28, 100%, 86%, 0.9)\",\"hsla(181, 26%, 50%, 0.9)\",\"hsla(17, 100%, 74%, 0.9)\"],\n",
       "                [],\n",
       "                [],\n",
       "                \"\",\n",
       "                [],\n",
       "                {}\n",
       "            );\n",
       "        }\n",
       "        iframe.src = \"/static/graphs/templates/c3Viz_template.html#id=timeSeries-WOYIVATNAHBHMYXTRDBKWXPYTSBJDTOE\";\n",
       "    }());\n",
       "    </script>\n"
      ]
     },
     "metadata": {},
     "output_type": "display_data"
    }
   ],
   "source": [
    "drawC3VizConverter(UP,AllStatsDF;graphType=5)\n",
    ";"
   ]
  },
  {
   "cell_type": "code",
   "execution_count": 12,
   "metadata": {
    "collapsed": false,
    "input_collapsed": false
   },
   "outputs": [
    {
     "data": {
      "text/html": [
       "<div class=\"dswbOutputText\"><h1 class=\"chart_title\" style=\"color:#ccc\">News Article Page Group</h1><h5 class=\"chart_lastCalled\" style=\"color:#ccc\">Run at June 10, 2017 19:11:00</h5></div>"
      ]
     },
     "metadata": {},
     "output_type": "display_data"
    },
    {
     "data": {
      "text/html": [
       "    <iframe id=\"timeSeries-KSVUEKQGSRCCOBCLYTSLDBQPPWDWISLT\" class=\"dswbiframe\" width=\"100%\" height=\"600\" src=\"about:blank\" scrolling=\"no\"></iframe>\n",
       "    <script>\n",
       "    (function() {\n",
       "        var iframe = document.getElementById(\"timeSeries-KSVUEKQGSRCCOBCLYTSLDBQPPWDWISLT\");\n",
       "        iframe.timeSeriesRendererLoaded = function(runner) {\n",
       "            iframe.runner = runner;\n",
       "            iframe.runner([[\"x\",\"June 8, 2017 06:00:00\",\"June 8, 2017 07:00:00\",\"June 8, 2017 08:00:00\",\"June 8, 2017 09:00:00\",\"June 8, 2017 10:00:00\",\"June 8, 2017 11:00:00\",\"June 8, 2017 12:00:00\",\"June 8, 2017 13:00:00\",\"June 8, 2017 14:00:00\",\"June 8, 2017 15:00:00\",\"June 8, 2017 16:00:00\"],[\"data1\",3219,4421,3323,3341,3852,2925,3684,3224,3138,2651,3662]],\n",
       "                [\"Modes\"],\n",
       "                [\"Seconds\"],\n",
       "                [\"line\"],\n",
       "                [\"hsla(214, 86%, 60%, 0.9)\",\"hsla(130, 61%, 50%, 0.9)\",\"hsla(35, 100%, 50%, 0.9)\",\"hsla(0, 100%, 60%, 0.9)\",\"hsla(207, 34%, 49%, 0.9)\",\"hsla(80, 61%, 50%, 0.9)\",\"hsla(181, 72%, 56%, 0.9)\",\"hsla(330, 100%, 71%, 0.9)\",\"hsla(55, 74%, 68%, 0.9)\",\"hsla(116, 26%, 64%, 0.9)\",\"hsla(34, 49%, 65%, 0.9)\",\"hsla(197, 70%, 73%, 0.9)\",\"hsla(300, 47%, 74%, 0.9)\",\"hsla(28, 100%, 86%, 0.9)\",\"hsla(181, 26%, 50%, 0.9)\",\"hsla(17, 100%, 74%, 0.9)\"],\n",
       "                [],\n",
       "                [],\n",
       "                \"\",\n",
       "                [],\n",
       "                {}\n",
       "            );\n",
       "        }\n",
       "        iframe.src = \"/static/graphs/templates/c3Viz_template.html#id=timeSeries-KSVUEKQGSRCCOBCLYTSLDBQPPWDWISLT\";\n",
       "    }());\n",
       "    </script>\n"
      ]
     },
     "metadata": {},
     "output_type": "display_data"
    }
   ],
   "source": [
    "drawC3VizConverter(UP,AllStatsDF;graphType=6)\n",
    ";"
   ]
  },
  {
   "cell_type": "code",
   "execution_count": 13,
   "metadata": {
    "collapsed": true,
    "input_collapsed": false
   },
   "outputs": [],
   "source": [
    "q = query(\"\"\" drop view if exists $(UP.btView);\"\"\")\n",
    "q = query(\"\"\" drop view if exists $(UP.rtView);\"\"\")\n",
    "q = query(\"\"\" drop view if exists $(MP.btView);\"\"\")\n",
    "q = query(\"\"\" drop view if exists $(MP.rtView);\"\"\")\n",
    "q = query(\"\"\" drop view if exists $(DP.btView);\"\"\")\n",
    "q = query(\"\"\" drop view if exists $(DP.rtView);\"\"\")\n",
    ";"
   ]
  }
 ],
 "metadata": {
  "chart_version": "1.0.0",
  "kernelspec": {
   "display_name": "Julia 0.4.7",
   "language": "julia",
   "name": "julia-0.4"
  },
  "language_info": {
   "file_extension": ".jl",
   "mimetype": "application/julia",
   "name": "julia",
   "version": "0.4.7"
  },
  "library_version": "1.0.0",
  "notebook_uuid": "dda3663d-0418-4a99-a9cf-97c5d1020c3f",
  "readOnly": false
 },
 "nbformat": 4,
 "nbformat_minor": 0
}
