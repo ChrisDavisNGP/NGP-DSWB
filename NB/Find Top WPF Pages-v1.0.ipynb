{
 "cells": [
  {
   "cell_type": "markdown",
   "metadata": {},
   "source": [
    "## Tables and Data Source setup"
   ]
  },
  {
   "cell_type": "code",
   "execution_count": 1,
   "metadata": {
    "collapsed": false,
    "input_collapsed": false,
    "scrolled": true
   },
   "outputs": [
    {
     "name": "stdout",
     "output_type": "stream",
     "text": [
      "Redshift endpoint set: 2017-06-14T17:00:07\n"
     ]
    },
    {
     "data": {
      "text/plain": [
       "\"beacons_4744\""
      ]
     },
     "execution_count": 1,
     "metadata": {},
     "output_type": "execute_result"
    }
   ],
   "source": [
    "using ODBC\n",
    "using DataFrames\n",
    "using DSWB\n",
    "using Formatting\n",
    "\n",
    "dsn = \"dswb-natgeo\" # Redshift endpoint\n",
    "table = \"beacons_4744\" # beacon table name\n",
    "tableRt = \"beacons_4744_rt\"\n",
    "\n",
    "# Connect to Beacon Data\n",
    "setRedshiftEndpoint(dsn)\n",
    "setTable(table)\n",
    "# setTable(tableRt, tableType = \"RESOURCE_TABLE\")"
   ]
  },
  {
   "cell_type": "code",
   "execution_count": 2,
   "metadata": {
    "collapsed": false,
    "input_collapsed": false
   },
   "outputs": [
    {
     "name": "stdout",
     "output_type": "stream",
     "text": [
      "June 6, 2017 23:59:00 to June 13, 2017 23:59:00 Local Time\n",
      "June 7, 2017 03:59:00 to June 14, 2017 03:59:00 UTC Time\n"
     ]
    }
   ],
   "source": [
    "# Packages\n",
    "include(\"/data/notebook_home/Production/Lib/Include-Package-v1.0.jl\")\n",
    "include(\"/data/notebook_home/Production/Bodies/Find-Top-WPF-Pages-Body-v1.0.jl\")\n",
    "\n",
    "weeklyTimeVariables(days=7)\n",
    "#timeVariables(2017,6,8,10,59,2017,6,8,12,59)\n",
    "#yesterdayTimeVariables()\n"
   ]
  },
  {
   "cell_type": "code",
   "execution_count": 3,
   "metadata": {
    "collapsed": true,
    "input_collapsed": false
   },
   "outputs": [],
   "source": [
    "UP = UrlParamsInit()\n",
    "UP.beaconTable = table   #table\n",
    "UP.resourceTable = tableRt\n",
    "UP.btView = \"$(table)_wpf_pview_prod\" #localtable\n",
    "UP.rtView = \"$(tableRt)_wpf_pview_prod\" #localtableRt\n",
    "UP.pageGroup = \"Your Shot\"   #productPageGroup\n",
    "UP.urlRegEx = \"%\"   #localUrl\n",
    "UP.deviceType = \"Mobile\"\n",
    "\n",
    "SG = SoastaGraphsInit()\n",
    "customer = \"Nat Geo\" \n",
    "SG.customer = customer\n",
    ";"
   ]
  },
  {
   "cell_type": "code",
   "execution_count": 4,
   "metadata": {
    "collapsed": false,
    "input_collapsed": false
   },
   "outputs": [
    {
     "data": {
      "text/html": [
       "    <table  class=\"dataframe-table\">\n",
       "    <thead><tr><th class=\"cell-1\" style=\"\">page group</th> <th class=\"cell-2\" style=\"\">page views</th> <th class=\"cell-3\" style=\"\">per day</th></tr></thead>\n",
       "    <tbody>\n",
       "    <tr><td class=\"cell-1\" style=\"\">Travel WPF</td> <td class=\"cell-2\" style=\"text-align:right;\">178,219</td> <td class=\"cell-3\" style=\"text-align:right;\">25,459</td></tr>\n",
       "<tr><td class=\"cell-1\" style=\"\">Magazine NGM</td> <td class=\"cell-2\" style=\"text-align:right;\">121,603</td> <td class=\"cell-3\" style=\"text-align:right;\">17,371</td></tr>\n",
       "<tr><td class=\"cell-1\" style=\"\">Animals WPF</td> <td class=\"cell-2\" style=\"text-align:right;\">50,142</td> <td class=\"cell-3\" style=\"text-align:right;\">7,163</td></tr>\n",
       "<tr><td class=\"cell-1\" style=\"\">Ocean WPF</td> <td class=\"cell-2\" style=\"text-align:right;\">23,199</td> <td class=\"cell-3\" style=\"text-align:right;\">3,314</td></tr>\n",
       "<tr><td class=\"cell-1\" style=\"\">Photography WPF</td> <td class=\"cell-2\" style=\"text-align:right;\">12,974</td> <td class=\"cell-3\" style=\"text-align:right;\">1,853</td></tr>\n",
       "    \n",
       "    <tr><td class=\"cell-1\" style=\"\">Environment WPF</td> <td class=\"cell-2\" style=\"text-align:right;\">10,743</td> <td class=\"cell-3\" style=\"text-align:right;\">1,534</td></tr>\n",
       "<tr><td class=\"cell-1\" style=\"\">Science WPF</td> <td class=\"cell-2\" style=\"text-align:right;\">3,662</td> <td class=\"cell-3\" style=\"text-align:right;\">523</td></tr>\n",
       "<tr><td class=\"cell-1\" style=\"\">Games WPF</td> <td class=\"cell-2\" style=\"text-align:right;\">2,060</td> <td class=\"cell-3\" style=\"text-align:right;\">294</td></tr>\n",
       "<tr><td class=\"cell-1\" style=\"\">Adventure WPF</td> <td class=\"cell-2\" style=\"text-align:right;\">1,912</td> <td class=\"cell-3\" style=\"text-align:right;\">273</td></tr>\n",
       "<tr><td class=\"cell-1\" style=\"\">Movies WPF</td> <td class=\"cell-2\" style=\"text-align:right;\">1,691</td> <td class=\"cell-3\" style=\"text-align:right;\">241</td></tr>\n",
       "    </tbody>\n"
      ],
      "text/plain": [
       "HTML{UTF8String}(\"    <table  class=\\\"dataframe-table\\\">\\n    <thead><tr><th class=\\\"cell-1\\\" style=\\\"\\\">page group</th> <th class=\\\"cell-2\\\" style=\\\"\\\">page views</th> <th class=\\\"cell-3\\\" style=\\\"\\\">per day</th></tr></thead>\\n    <tbody>\\n    <tr><td class=\\\"cell-1\\\" style=\\\"\\\">Travel WPF</td> <td class=\\\"cell-2\\\" style=\\\"text-align:right;\\\">178,219</td> <td class=\\\"cell-3\\\" style=\\\"text-align:right;\\\">25,459</td></tr>\\n<tr><td class=\\\"cell-1\\\" style=\\\"\\\">Magazine NGM</td> <td class=\\\"cell-2\\\" style=\\\"text-align:right;\\\">121,603</td> <td class=\\\"cell-3\\\" style=\\\"text-align:right;\\\">17,371</td></tr>\\n<tr><td class=\\\"cell-1\\\" style=\\\"\\\">Animals WPF</td> <td class=\\\"cell-2\\\" style=\\\"text-align:right;\\\">50,142</td> <td class=\\\"cell-3\\\" style=\\\"text-align:right;\\\">7,163</td></tr>\\n<tr><td class=\\\"cell-1\\\" style=\\\"\\\">Ocean WPF</td> <td class=\\\"cell-2\\\" style=\\\"text-align:right;\\\">23,199</td> <td class=\\\"cell-3\\\" style=\\\"text-align:right;\\\">3,314</td></tr>\\n<tr><td class=\\\"cell-1\\\" style=\\\"\\\">Photography WPF</td> <td class=\\\"cell-2\\\" style=\\\"text-align:right;\\\">12,974</td> <td class=\\\"cell-3\\\" style=\\\"text-align:right;\\\">1,853</td></tr>\\n    \\n    <tr><td class=\\\"cell-1\\\" style=\\\"\\\">Environment WPF</td> <td class=\\\"cell-2\\\" style=\\\"text-align:right;\\\">10,743</td> <td class=\\\"cell-3\\\" style=\\\"text-align:right;\\\">1,534</td></tr>\\n<tr><td class=\\\"cell-1\\\" style=\\\"\\\">Science WPF</td> <td class=\\\"cell-2\\\" style=\\\"text-align:right;\\\">3,662</td> <td class=\\\"cell-3\\\" style=\\\"text-align:right;\\\">523</td></tr>\\n<tr><td class=\\\"cell-1\\\" style=\\\"\\\">Games WPF</td> <td class=\\\"cell-2\\\" style=\\\"text-align:right;\\\">2,060</td> <td class=\\\"cell-3\\\" style=\\\"text-align:right;\\\">294</td></tr>\\n<tr><td class=\\\"cell-1\\\" style=\\\"\\\">Adventure WPF</td> <td class=\\\"cell-2\\\" style=\\\"text-align:right;\\\">1,912</td> <td class=\\\"cell-3\\\" style=\\\"text-align:right;\\\">273</td></tr>\\n<tr><td class=\\\"cell-1\\\" style=\\\"\\\">Movies WPF</td> <td class=\\\"cell-2\\\" style=\\\"text-align:right;\\\">1,691</td> <td class=\\\"cell-3\\\" style=\\\"text-align:right;\\\">241</td></tr>\\n    </tbody>\\n\")"
      ]
     },
     "metadata": {},
     "output_type": "display_data"
    }
   ],
   "source": [
    "cleanupTableFTWP(tv,UP)\n",
    ";"
   ]
  },
  {
   "cell_type": "code",
   "execution_count": 5,
   "metadata": {
    "collapsed": false,
    "input_collapsed": false,
    "scrolled": false
   },
   "outputs": [
    {
     "data": {
      "text/html": [
       "<div class=\"dswbOutputText\"><h1 class=\"chart_title\" style=\"color:#ccc\">Top 20 (min 1000) WPF URLs for Adventure WPF</h1><h3 class=\"chart_info\" style=\"color:#ccc\">Note: If you see AEM URL's in this list tell Chris Davis</h3><h3 class=\"chart_info\" style=\"color:#ccc\">June 6, 2017 23:59:00 to June 13, 2017 23:59:00 Local Time</h3></div>"
      ]
     },
     "metadata": {},
     "output_type": "display_data"
    },
    {
     "data": {
      "text/html": [
       "    <table  class=\"dataframe-table\">\n",
       "    <thead><tr><th class=\"cell-1\" style=\"\">Views</th> <th class=\"cell-2\" style=\"\">Url - With Grouping After Parameters Dropped</th></tr></thead>\n",
       "    <tbody>\n",
       "    \n",
       "    \n",
       "    \n",
       "    </tbody>\n"
      ],
      "text/plain": [
       "HTML{UTF8String}(\"    <table  class=\\\"dataframe-table\\\">\\n    <thead><tr><th class=\\\"cell-1\\\" style=\\\"\\\">Views</th> <th class=\\\"cell-2\\\" style=\\\"\\\">Url - With Grouping After Parameters Dropped</th></tr></thead>\\n    <tbody>\\n    \\n    \\n    \\n    </tbody>\\n\")"
      ]
     },
     "metadata": {},
     "output_type": "display_data"
    },
    {
     "data": {
      "text/html": [
       "<div class=\"dswbOutputText\"><h1 class=\"chart_title\" style=\"color:#ccc\">Top 20 (min 1000) WPF URLs for Animals WPF</h1><h3 class=\"chart_info\" style=\"color:#ccc\">Note: If you see AEM URL's in this list tell Chris Davis</h3><h3 class=\"chart_info\" style=\"color:#ccc\">June 6, 2017 23:59:00 to June 13, 2017 23:59:00 Local Time</h3></div>"
      ]
     },
     "metadata": {},
     "output_type": "display_data"
    },
    {
     "data": {
      "text/html": [
       "    <table  class=\"dataframe-table\">\n",
       "    <thead><tr><th class=\"cell-1\" style=\"\">Views</th> <th class=\"cell-2\" style=\"\">Url - With Grouping After Parameters Dropped</th></tr></thead>\n",
       "    <tbody>\n",
       "    <tr><td class=\"cell-1\" style=\"text-align:right;\">1,414</td> <td class=\"cell-2\" style=\"\">http://animals.nationalgeographic.com/animals/birding/backyard-bird-identifier</td></tr>\n",
       "<tr><td class=\"cell-1\" style=\"text-align:right;\">1,306</td> <td class=\"cell-2\" style=\"\">http://animals.nationalgeographic.com/animals/bugs/firefly</td></tr>\n",
       "    \n",
       "    <tr><td class=\"cell-1\" style=\"text-align:right;\">1,058</td> <td class=\"cell-2\" style=\"\">http://animals.nationalgeographic.com/animals/photos</td></tr>\n",
       "<tr><td class=\"cell-1\" style=\"text-align:right;\">1,011</td> <td class=\"cell-2\" style=\"\">http://animals.nationalgeographic.com/animals/bugs/wasp</td></tr>\n",
       "    </tbody>\n"
      ],
      "text/plain": [
       "HTML{UTF8String}(\"    <table  class=\\\"dataframe-table\\\">\\n    <thead><tr><th class=\\\"cell-1\\\" style=\\\"\\\">Views</th> <th class=\\\"cell-2\\\" style=\\\"\\\">Url - With Grouping After Parameters Dropped</th></tr></thead>\\n    <tbody>\\n    <tr><td class=\\\"cell-1\\\" style=\\\"text-align:right;\\\">1,414</td> <td class=\\\"cell-2\\\" style=\\\"\\\">http://animals.nationalgeographic.com/animals/birding/backyard-bird-identifier</td></tr>\\n<tr><td class=\\\"cell-1\\\" style=\\\"text-align:right;\\\">1,306</td> <td class=\\\"cell-2\\\" style=\\\"\\\">http://animals.nationalgeographic.com/animals/bugs/firefly</td></tr>\\n    \\n    <tr><td class=\\\"cell-1\\\" style=\\\"text-align:right;\\\">1,058</td> <td class=\\\"cell-2\\\" style=\\\"\\\">http://animals.nationalgeographic.com/animals/photos</td></tr>\\n<tr><td class=\\\"cell-1\\\" style=\\\"text-align:right;\\\">1,011</td> <td class=\\\"cell-2\\\" style=\\\"\\\">http://animals.nationalgeographic.com/animals/bugs/wasp</td></tr>\\n    </tbody>\\n\")"
      ]
     },
     "metadata": {},
     "output_type": "display_data"
    },
    {
     "data": {
      "text/html": [
       "<div class=\"dswbOutputText\"><h1 class=\"chart_title\" style=\"color:#ccc\">Top 20 (min 1000) WPF URLs for Environment WPF</h1><h3 class=\"chart_info\" style=\"color:#ccc\">Note: If you see AEM URL's in this list tell Chris Davis</h3><h3 class=\"chart_info\" style=\"color:#ccc\">June 6, 2017 23:59:00 to June 13, 2017 23:59:00 Local Time</h3></div>"
      ]
     },
     "metadata": {},
     "output_type": "display_data"
    },
    {
     "data": {
      "text/html": [
       "    <table  class=\"dataframe-table\">\n",
       "    <thead><tr><th class=\"cell-1\" style=\"\">Views</th> <th class=\"cell-2\" style=\"\">Url - With Grouping After Parameters Dropped</th></tr></thead>\n",
       "    <tbody>\n",
       "    \n",
       "    \n",
       "    \n",
       "    </tbody>\n"
      ],
      "text/plain": [
       "HTML{UTF8String}(\"    <table  class=\\\"dataframe-table\\\">\\n    <thead><tr><th class=\\\"cell-1\\\" style=\\\"\\\">Views</th> <th class=\\\"cell-2\\\" style=\\\"\\\">Url - With Grouping After Parameters Dropped</th></tr></thead>\\n    <tbody>\\n    \\n    \\n    \\n    </tbody>\\n\")"
      ]
     },
     "metadata": {},
     "output_type": "display_data"
    },
    {
     "data": {
      "text/html": [
       "<div class=\"dswbOutputText\"><h1 class=\"chart_title\" style=\"color:#ccc\">Top 20 (min 50) WPF URLs for Games WPF</h1><h3 class=\"chart_info\" style=\"color:#ccc\">Note: If you see AEM URL's in this list tell Chris Davis</h3><h3 class=\"chart_info\" style=\"color:#ccc\">June 6, 2017 23:59:00 to June 13, 2017 23:59:00 Local Time</h3></div>"
      ]
     },
     "metadata": {},
     "output_type": "display_data"
    },
    {
     "data": {
      "text/html": [
       "    <table  class=\"dataframe-table\">\n",
       "    <thead><tr><th class=\"cell-1\" style=\"\">Views</th> <th class=\"cell-2\" style=\"\">Url - With Grouping After Parameters Dropped</th></tr></thead>\n",
       "    <tbody>\n",
       "    <tr><td class=\"cell-1\" style=\"text-align:right;\">1,183</td> <td class=\"cell-2\" style=\"\">http://games.nationalgeographic.com/games/photo-puzzle-jigsaw</td></tr>\n",
       "<tr><td class=\"cell-1\" style=\"text-align:right;\">558</td> <td class=\"cell-2\" style=\"\">http://games.nationalgeographic.com</td></tr>\n",
       "    \n",
       "    <tr><td class=\"cell-1\" style=\"text-align:right;\">140</td> <td class=\"cell-2\" style=\"\">http://games.nationalgeographic.com/games/puzzles-quizzes</td></tr>\n",
       "<tr><td class=\"cell-1\" style=\"text-align:right;\">131</td> <td class=\"cell-2\" style=\"\">http://brainjitsu.nationalgeographic.com</td></tr>\n",
       "    </tbody>\n"
      ],
      "text/plain": [
       "HTML{UTF8String}(\"    <table  class=\\\"dataframe-table\\\">\\n    <thead><tr><th class=\\\"cell-1\\\" style=\\\"\\\">Views</th> <th class=\\\"cell-2\\\" style=\\\"\\\">Url - With Grouping After Parameters Dropped</th></tr></thead>\\n    <tbody>\\n    <tr><td class=\\\"cell-1\\\" style=\\\"text-align:right;\\\">1,183</td> <td class=\\\"cell-2\\\" style=\\\"\\\">http://games.nationalgeographic.com/games/photo-puzzle-jigsaw</td></tr>\\n<tr><td class=\\\"cell-1\\\" style=\\\"text-align:right;\\\">558</td> <td class=\\\"cell-2\\\" style=\\\"\\\">http://games.nationalgeographic.com</td></tr>\\n    \\n    <tr><td class=\\\"cell-1\\\" style=\\\"text-align:right;\\\">140</td> <td class=\\\"cell-2\\\" style=\\\"\\\">http://games.nationalgeographic.com/games/puzzles-quizzes</td></tr>\\n<tr><td class=\\\"cell-1\\\" style=\\\"text-align:right;\\\">131</td> <td class=\\\"cell-2\\\" style=\\\"\\\">http://brainjitsu.nationalgeographic.com</td></tr>\\n    </tbody>\\n\")"
      ]
     },
     "metadata": {},
     "output_type": "display_data"
    },
    {
     "data": {
      "text/html": [
       "<div class=\"dswbOutputText\"><h1 class=\"chart_title\" style=\"color:#ccc\">Top 20 (min 2) WPF URLs for Images WPF</h1><h3 class=\"chart_info\" style=\"color:#ccc\">Note: If you see AEM URL's in this list tell Chris Davis</h3><h3 class=\"chart_info\" style=\"color:#ccc\">June 6, 2017 23:59:00 to June 13, 2017 23:59:00 Local Time</h3></div>"
      ]
     },
     "metadata": {},
     "output_type": "display_data"
    },
    {
     "data": {
      "text/html": [
       "    <table  class=\"dataframe-table\">\n",
       "    <thead><tr><th class=\"cell-1\" style=\"\">Views</th> <th class=\"cell-2\" style=\"\">Url - With Grouping After Parameters Dropped</th></tr></thead>\n",
       "    <tbody>\n",
       "    <tr><td class=\"cell-1\" style=\"text-align:right;\">10</td> <td class=\"cell-2\" style=\"\">http://images.nationalgeographic.com/Games/GeographyGames</td></tr>\n",
       "    \n",
       "    <tr><td class=\"cell-1\" style=\"text-align:right;\">3</td> <td class=\"cell-2\" style=\"\">http://images.nationalgeographic.com/etc/designs/platform/v3/images/favicon.ico</td></tr>\n",
       "    </tbody>\n"
      ],
      "text/plain": [
       "HTML{UTF8String}(\"    <table  class=\\\"dataframe-table\\\">\\n    <thead><tr><th class=\\\"cell-1\\\" style=\\\"\\\">Views</th> <th class=\\\"cell-2\\\" style=\\\"\\\">Url - With Grouping After Parameters Dropped</th></tr></thead>\\n    <tbody>\\n    <tr><td class=\\\"cell-1\\\" style=\\\"text-align:right;\\\">10</td> <td class=\\\"cell-2\\\" style=\\\"\\\">http://images.nationalgeographic.com/Games/GeographyGames</td></tr>\\n    \\n    <tr><td class=\\\"cell-1\\\" style=\\\"text-align:right;\\\">3</td> <td class=\\\"cell-2\\\" style=\\\"\\\">http://images.nationalgeographic.com/etc/designs/platform/v3/images/favicon.ico</td></tr>\\n    </tbody>\\n\")"
      ]
     },
     "metadata": {},
     "output_type": "display_data"
    },
    {
     "data": {
      "text/html": [
       "<div class=\"dswbOutputText\"><h1 class=\"chart_title\" style=\"color:#ccc\">Top 20 (min 2) WPF URLs for Movies WPF</h1><h3 class=\"chart_info\" style=\"color:#ccc\">Note: If you see AEM URL's in this list tell Chris Davis</h3><h3 class=\"chart_info\" style=\"color:#ccc\">June 6, 2017 23:59:00 to June 13, 2017 23:59:00 Local Time</h3></div>"
      ]
     },
     "metadata": {},
     "output_type": "display_data"
    },
    {
     "data": {
      "text/html": [
       "    <table  class=\"dataframe-table\">\n",
       "    <thead><tr><th class=\"cell-1\" style=\"\">Views</th> <th class=\"cell-2\" style=\"\">Url - With Grouping After Parameters Dropped</th></tr></thead>\n",
       "    <tbody>\n",
       "    <tr><td class=\"cell-1\" style=\"text-align:right;\">472</td> <td class=\"cell-2\" style=\"\">http://movies.nationalgeographic.com/movies</td></tr>\n",
       "<tr><td class=\"cell-1\" style=\"text-align:right;\">315</td> <td class=\"cell-2\" style=\"\">http://movies.nationalgeographic.com/movies/extreme-weather</td></tr>\n",
       "<tr><td class=\"cell-1\" style=\"text-align:right;\">223</td> <td class=\"cell-2\" style=\"\">http://movies.nationalgeographic.com/movies/restrepo</td></tr>\n",
       "<tr><td class=\"cell-1\" style=\"text-align:right;\">75</td> <td class=\"cell-2\" style=\"\">http://movies.nationalgeographic.com/movies/restrepo/junger-hetherington</td></tr>\n",
       "<tr><td class=\"cell-1\" style=\"text-align:right;\">66</td> <td class=\"cell-2\" style=\"\">http://movies.nationalgeographic.com/movies/all-movies</td></tr>\n",
       "<tr><td class=\"cell-1\" style=\"text-align:right;\">58</td> <td class=\"cell-2\" style=\"\">http://movies.nationalgeographic.com/movies/mysteries-of-the-unseen-world</td></tr>\n",
       "<tr><td class=\"cell-1\" style=\"text-align:right;\">56</td> <td class=\"cell-2\" style=\"\">http://movies.nationalgeographic.com/movies/submit-your-film-proposal</td></tr>\n",
       "<tr><td class=\"cell-1\" style=\"text-align:right;\">50</td> <td class=\"cell-2\" style=\"\">http://movies.nationalgeographic.com/movies/pandas</td></tr>\n",
       "<tr><td class=\"cell-1\" style=\"text-align:right;\">37</td> <td class=\"cell-2\" style=\"\">http://movies.nationalgeographic.com/movies/mysteries-of-the-unseen-world/photos</td></tr>\n",
       "<tr><td class=\"cell-1\" style=\"text-align:right;\">35</td> <td class=\"cell-2\" style=\"\">http://movies.nationalgeographic.com/movies/last-lions</td></tr>\n",
       "    \n",
       "    <tr><td class=\"cell-1\" style=\"text-align:right;\">31</td> <td class=\"cell-2\" style=\"\">http://movies.nationalgeographic.com/movies/life-in-a-day</td></tr>\n",
       "<tr><td class=\"cell-1\" style=\"text-align:right;\">30</td> <td class=\"cell-2\" style=\"\">http://movies.nationalgeographic.com/movies/desert-flower</td></tr>\n",
       "<tr><td class=\"cell-1\" style=\"text-align:right;\">28</td> <td class=\"cell-2\" style=\"\">http://movies.nationalgeographic.com/movies/robots</td></tr>\n",
       "<tr><td class=\"cell-1\" style=\"text-align:right;\">26</td> <td class=\"cell-2\" style=\"\">http://movies.nationalgeographic.com/movies/wildest-weather</td></tr>\n",
       "<tr><td class=\"cell-1\" style=\"text-align:right;\">25</td> <td class=\"cell-2\" style=\"\">http://movies.nationalgeographic.com/movies/asteroid</td></tr>\n",
       "<tr><td class=\"cell-1\" style=\"text-align:right;\">22</td> <td class=\"cell-2\" style=\"\">http://movies.nationalgeographic.com/movies/flying-monsters</td></tr>\n",
       "<tr><td class=\"cell-1\" style=\"text-align:right;\">15</td> <td class=\"cell-2\" style=\"\">http://movies.nationalgeographic.com/movies/the-wildest-dream</td></tr>\n",
       "<tr><td class=\"cell-1\" style=\"text-align:right;\">15</td> <td class=\"cell-2\" style=\"\">http://movies.nationalgeographic.com/movies/contact</td></tr>\n",
       "<tr><td class=\"cell-1\" style=\"text-align:right;\">14</td> <td class=\"cell-2\" style=\"\">http://movies.nationalgeographic.com/movies/mysteries-of-the-unseen-world/about-the-film</td></tr>\n",
       "<tr><td class=\"cell-1\" style=\"text-align:right;\">11</td> <td class=\"cell-2\" style=\"\">http://movies.nationalgeographic.com/movies/to-space-and-back</td></tr>\n",
       "    </tbody>\n"
      ],
      "text/plain": [
       "HTML{UTF8String}(\"    <table  class=\\\"dataframe-table\\\">\\n    <thead><tr><th class=\\\"cell-1\\\" style=\\\"\\\">Views</th> <th class=\\\"cell-2\\\" style=\\\"\\\">Url - With Grouping After Parameters Dropped</th></tr></thead>\\n    <tbody>\\n    <tr><td class=\\\"cell-1\\\" style=\\\"text-align:right;\\\">472</td> <td class=\\\"cell-2\\\" style=\\\"\\\">http://movies.nationalgeographic.com/movies</td></tr>\\n<tr><td class=\\\"cell-1\\\" style=\\\"text-align:right;\\\">315</td> <td class=\\\"cell-2\\\" style=\\\"\\\">http://movies.nationalgeographic.com/movies/extreme-weather</td></tr>\\n<tr><td class=\\\"cell-1\\\" style=\\\"text-align:right;\\\">223</td> <td class=\\\"cell-2\\\" style=\\\"\\\">http://movies.nationalgeographic.com/movies/restrepo</td></tr>\\n<tr><td class=\\\"cell-1\\\" style=\\\"text-align:right;\\\">75</td> <td class=\\\"cell-2\\\" style=\\\"\\\">http://movies.nationalgeographic.com/movies/restrepo/junger-hetherington</td></tr>\\n<tr><td class=\\\"cell-1\\\" style=\\\"text-align:right;\\\">66</td> <td class=\\\"cell-2\\\" style=\\\"\\\">http://movies.nationalgeographic.com/movies/all-movies</td></tr>\\n<tr><td class=\\\"cell-1\\\" style=\\\"text-align:right;\\\">58</td> <td class=\\\"cell-2\\\" style=\\\"\\\">http://movies.nationalgeographic.com/movies/mysteries-of-the-unseen-world</td></tr>\\n<tr><td class=\\\"cell-1\\\" style=\\\"text-align:right;\\\">56</td> <td class=\\\"cell-2\\\" style=\\\"\\\">http://movies.nationalgeographic.com/movies/submit-your-film-proposal</td></tr>\\n<tr><td class=\\\"cell-1\\\" style=\\\"text-align:right;\\\">50</td> <td class=\\\"cell-2\\\" style=\\\"\\\">http://movies.nationalgeographic.com/movies/pandas</td></tr>\\n<tr><td class=\\\"cell-1\\\" style=\\\"text-align:right;\\\">37</td> <td class=\\\"cell-2\\\" style=\\\"\\\">http://movies.nationalgeographic.com/movies/mysteries-of-the-unseen-world/photos</td></tr>\\n<tr><td class=\\\"cell-1\\\" style=\\\"text-align:right;\\\">35</td> <td class=\\\"cell-2\\\" style=\\\"\\\">http://movies.nationalgeographic.com/movies/last-lions</td></tr>\\n    \\n    <tr><td class=\\\"cell-1\\\" style=\\\"text-align:right;\\\">31</td> <td class=\\\"cell-2\\\" style=\\\"\\\">http://movies.nationalgeographic.com/movies/life-in-a-day</td></tr>\\n<tr><td class=\\\"cell-1\\\" style=\\\"text-align:right;\\\">30</td> <td class=\\\"cell-2\\\" style=\\\"\\\">http://movies.nationalgeographic.com/movies/desert-flower</td></tr>\\n<tr><td class=\\\"cell-1\\\" style=\\\"text-align:right;\\\">28</td> <td class=\\\"cell-2\\\" style=\\\"\\\">http://movies.nationalgeographic.com/movies/robots</td></tr>\\n<tr><td class=\\\"cell-1\\\" style=\\\"text-align:right;\\\">26</td> <td class=\\\"cell-2\\\" style=\\\"\\\">http://movies.nationalgeographic.com/movies/wildest-weather</td></tr>\\n<tr><td class=\\\"cell-1\\\" style=\\\"text-align:right;\\\">25</td> <td class=\\\"cell-2\\\" style=\\\"\\\">http://movies.nationalgeographic.com/movies/asteroid</td></tr>\\n<tr><td class=\\\"cell-1\\\" style=\\\"text-align:right;\\\">22</td> <td class=\\\"cell-2\\\" style=\\\"\\\">http://movies.nationalgeographic.com/movies/flying-monsters</td></tr>\\n<tr><td class=\\\"cell-1\\\" style=\\\"text-align:right;\\\">15</td> <td class=\\\"cell-2\\\" style=\\\"\\\">http://movies.nationalgeographic.com/movies/the-wildest-dream</td></tr>\\n<tr><td class=\\\"cell-1\\\" style=\\\"text-align:right;\\\">15</td> <td class=\\\"cell-2\\\" style=\\\"\\\">http://movies.nationalgeographic.com/movies/contact</td></tr>\\n<tr><td class=\\\"cell-1\\\" style=\\\"text-align:right;\\\">14</td> <td class=\\\"cell-2\\\" style=\\\"\\\">http://movies.nationalgeographic.com/movies/mysteries-of-the-unseen-world/about-the-film</td></tr>\\n<tr><td class=\\\"cell-1\\\" style=\\\"text-align:right;\\\">11</td> <td class=\\\"cell-2\\\" style=\\\"\\\">http://movies.nationalgeographic.com/movies/to-space-and-back</td></tr>\\n    </tbody>\\n\")"
      ]
     },
     "metadata": {},
     "output_type": "display_data"
    },
    {
     "data": {
      "text/html": [
       "<div class=\"dswbOutputText\"><h1 class=\"chart_title\" style=\"color:#ccc\">Top 20 (min 500) WPF URLs for Ocean WPF</h1><h3 class=\"chart_info\" style=\"color:#ccc\">Note: If you see AEM URL's in this list tell Chris Davis</h3><h3 class=\"chart_info\" style=\"color:#ccc\">June 6, 2017 23:59:00 to June 13, 2017 23:59:00 Local Time</h3></div>"
      ]
     },
     "metadata": {},
     "output_type": "display_data"
    },
    {
     "data": {
      "text/html": [
       "    <table  class=\"dataframe-table\">\n",
       "    <thead><tr><th class=\"cell-1\" style=\"\">Views</th> <th class=\"cell-2\" style=\"\">Url - With Grouping After Parameters Dropped</th></tr></thead>\n",
       "    <tbody>\n",
       "    <tr><td class=\"cell-1\" style=\"text-align:right;\">6,199</td> <td class=\"cell-2\" style=\"\">http://ocean.nationalgeographic.com/ocean/photos/deep-sea-creatures</td></tr>\n",
       "<tr><td class=\"cell-1\" style=\"text-align:right;\">1,452</td> <td class=\"cell-2\" style=\"\">http://ocean.nationalgeographic.com/ocean/take-action/10-things-you-can-do-to-save-the-ocean</td></tr>\n",
       "<tr><td class=\"cell-1\" style=\"text-align:right;\">992</td> <td class=\"cell-2\" style=\"\">http://ocean.nationalgeographic.com/ocean/photos/strange-looking-sea-creatures</td></tr>\n",
       "<tr><td class=\"cell-1\" style=\"text-align:right;\">913</td> <td class=\"cell-2\" style=\"\">http://ocean.nationalgeographic.com/ocean/photos/colossal-sea-creatures</td></tr>\n",
       "<tr><td class=\"cell-1\" style=\"text-align:right;\">897</td> <td class=\"cell-2\" style=\"\">http://ocean.nationalgeographic.com/take-action/marine-food-chain</td></tr>\n",
       "<tr><td class=\"cell-1\" style=\"text-align:right;\">858</td> <td class=\"cell-2\" style=\"\">http://ocean.nationalgeographic.com/ocean/explore/pristine-seas/critical-issues-marine-pollution</td></tr>\n",
       "<tr><td class=\"cell-1\" style=\"text-align:right;\">815</td> <td class=\"cell-2\" style=\"\">http://ocean.nationalgeographic.com/ocean/explore/pristine-seas/critical-issues-ocean-acidification</td></tr>\n",
       "    \n",
       "    <tr><td class=\"cell-1\" style=\"text-align:right;\">787</td> <td class=\"cell-2\" style=\"\">http://ocean.nationalgeographic.com/ocean/photos/colorful-sea-creatures</td></tr>\n",
       "<tr><td class=\"cell-1\" style=\"text-align:right;\">628</td> <td class=\"cell-2\" style=\"\">http://ocean.nationalgeographic.com/ocean/photos/dangerous-sea-creatures</td></tr>\n",
       "<tr><td class=\"cell-1\" style=\"text-align:right;\">602</td> <td class=\"cell-2\" style=\"\">http://ocean.nationalgeographic.com/ocean/explore/pristine-seas/critical-issues-sea-temperature-rise</td></tr>\n",
       "<tr><td class=\"cell-1\" style=\"text-align:right;\">573</td> <td class=\"cell-2\" style=\"\">http://ocean.nationalgeographic.com/ocean/photos/ocean-rays</td></tr>\n",
       "<tr><td class=\"cell-1\" style=\"text-align:right;\">523</td> <td class=\"cell-2\" style=\"\">http://ocean.nationalgeographic.com/ocean/photos/toxic-sea-creatures</td></tr>\n",
       "<tr><td class=\"cell-1\" style=\"text-align:right;\">505</td> <td class=\"cell-2\" style=\"\">http://ocean.nationalgeographic.com/ocean/explore/pristine-seas/critical-issues-overfishing</td></tr>\n",
       "    </tbody>\n"
      ],
      "text/plain": [
       "HTML{UTF8String}(\"    <table  class=\\\"dataframe-table\\\">\\n    <thead><tr><th class=\\\"cell-1\\\" style=\\\"\\\">Views</th> <th class=\\\"cell-2\\\" style=\\\"\\\">Url - With Grouping After Parameters Dropped</th></tr></thead>\\n    <tbody>\\n    <tr><td class=\\\"cell-1\\\" style=\\\"text-align:right;\\\">6,199</td> <td class=\\\"cell-2\\\" style=\\\"\\\">http://ocean.nationalgeographic.com/ocean/photos/deep-sea-creatures</td></tr>\\n<tr><td class=\\\"cell-1\\\" style=\\\"text-align:right;\\\">1,452</td> <td class=\\\"cell-2\\\" style=\\\"\\\">http://ocean.nationalgeographic.com/ocean/take-action/10-things-you-can-do-to-save-the-ocean</td></tr>\\n<tr><td class=\\\"cell-1\\\" style=\\\"text-align:right;\\\">992</td> <td class=\\\"cell-2\\\" style=\\\"\\\">http://ocean.nationalgeographic.com/ocean/photos/strange-looking-sea-creatures</td></tr>\\n<tr><td class=\\\"cell-1\\\" style=\\\"text-align:right;\\\">913</td> <td class=\\\"cell-2\\\" style=\\\"\\\">http://ocean.nationalgeographic.com/ocean/photos/colossal-sea-creatures</td></tr>\\n<tr><td class=\\\"cell-1\\\" style=\\\"text-align:right;\\\">897</td> <td class=\\\"cell-2\\\" style=\\\"\\\">http://ocean.nationalgeographic.com/take-action/marine-food-chain</td></tr>\\n<tr><td class=\\\"cell-1\\\" style=\\\"text-align:right;\\\">858</td> <td class=\\\"cell-2\\\" style=\\\"\\\">http://ocean.nationalgeographic.com/ocean/explore/pristine-seas/critical-issues-marine-pollution</td></tr>\\n<tr><td class=\\\"cell-1\\\" style=\\\"text-align:right;\\\">815</td> <td class=\\\"cell-2\\\" style=\\\"\\\">http://ocean.nationalgeographic.com/ocean/explore/pristine-seas/critical-issues-ocean-acidification</td></tr>\\n    \\n    <tr><td class=\\\"cell-1\\\" style=\\\"text-align:right;\\\">787</td> <td class=\\\"cell-2\\\" style=\\\"\\\">http://ocean.nationalgeographic.com/ocean/photos/colorful-sea-creatures</td></tr>\\n<tr><td class=\\\"cell-1\\\" style=\\\"text-align:right;\\\">628</td> <td class=\\\"cell-2\\\" style=\\\"\\\">http://ocean.nationalgeographic.com/ocean/photos/dangerous-sea-creatures</td></tr>\\n<tr><td class=\\\"cell-1\\\" style=\\\"text-align:right;\\\">602</td> <td class=\\\"cell-2\\\" style=\\\"\\\">http://ocean.nationalgeographic.com/ocean/explore/pristine-seas/critical-issues-sea-temperature-rise</td></tr>\\n<tr><td class=\\\"cell-1\\\" style=\\\"text-align:right;\\\">573</td> <td class=\\\"cell-2\\\" style=\\\"\\\">http://ocean.nationalgeographic.com/ocean/photos/ocean-rays</td></tr>\\n<tr><td class=\\\"cell-1\\\" style=\\\"text-align:right;\\\">523</td> <td class=\\\"cell-2\\\" style=\\\"\\\">http://ocean.nationalgeographic.com/ocean/photos/toxic-sea-creatures</td></tr>\\n<tr><td class=\\\"cell-1\\\" style=\\\"text-align:right;\\\">505</td> <td class=\\\"cell-2\\\" style=\\\"\\\">http://ocean.nationalgeographic.com/ocean/explore/pristine-seas/critical-issues-overfishing</td></tr>\\n    </tbody>\\n\")"
      ]
     },
     "metadata": {},
     "output_type": "display_data"
    },
    {
     "data": {
      "text/html": [
       "<div class=\"dswbOutputText\"><h1 class=\"chart_title\" style=\"color:#ccc\">Top 20 (min 1000) WPF URLs for Photography WPF</h1><h3 class=\"chart_info\" style=\"color:#ccc\">Note: If you see AEM URL's in this list tell Chris Davis</h3><h3 class=\"chart_info\" style=\"color:#ccc\">June 6, 2017 23:59:00 to June 13, 2017 23:59:00 Local Time</h3></div>"
      ]
     },
     "metadata": {},
     "output_type": "display_data"
    },
    {
     "data": {
      "text/html": [
       "    <table  class=\"dataframe-table\">\n",
       "    <thead><tr><th class=\"cell-1\" style=\"\">Views</th> <th class=\"cell-2\" style=\"\">Url - With Grouping After Parameters Dropped</th></tr></thead>\n",
       "    <tbody>\n",
       "    <tr><td class=\"cell-1\" style=\"text-align:right;\">1,631</td> <td class=\"cell-2\" style=\"\">http://photography.nationalgeographic.com/nature-photographer-of-the-year-2016/gallery/week-7-all/1</td></tr>\n",
       "<tr><td class=\"cell-1\" style=\"text-align:right;\">1,552</td> <td class=\"cell-2\" style=\"\">http://photography.nationalgeographic.com/nature-photographer-of-the-year-2016/gallery/winners-all/1</td></tr>\n",
       "    \n",
       "    <tr><td class=\"cell-1\" style=\"text-align:right;\">1,362</td> <td class=\"cell-2\" style=\"\">http://photography.nationalgeographic.com/nature-photographer-of-the-year-2016</td></tr>\n",
       "<tr><td class=\"cell-1\" style=\"text-align:right;\">1,177</td> <td class=\"cell-2\" style=\"\">http://photography.nationalgeographic.com/photography/photo-of-the-day/landscapes</td></tr>\n",
       "    </tbody>\n"
      ],
      "text/plain": [
       "HTML{UTF8String}(\"    <table  class=\\\"dataframe-table\\\">\\n    <thead><tr><th class=\\\"cell-1\\\" style=\\\"\\\">Views</th> <th class=\\\"cell-2\\\" style=\\\"\\\">Url - With Grouping After Parameters Dropped</th></tr></thead>\\n    <tbody>\\n    <tr><td class=\\\"cell-1\\\" style=\\\"text-align:right;\\\">1,631</td> <td class=\\\"cell-2\\\" style=\\\"\\\">http://photography.nationalgeographic.com/nature-photographer-of-the-year-2016/gallery/week-7-all/1</td></tr>\\n<tr><td class=\\\"cell-1\\\" style=\\\"text-align:right;\\\">1,552</td> <td class=\\\"cell-2\\\" style=\\\"\\\">http://photography.nationalgeographic.com/nature-photographer-of-the-year-2016/gallery/winners-all/1</td></tr>\\n    \\n    <tr><td class=\\\"cell-1\\\" style=\\\"text-align:right;\\\">1,362</td> <td class=\\\"cell-2\\\" style=\\\"\\\">http://photography.nationalgeographic.com/nature-photographer-of-the-year-2016</td></tr>\\n<tr><td class=\\\"cell-1\\\" style=\\\"text-align:right;\\\">1,177</td> <td class=\\\"cell-2\\\" style=\\\"\\\">http://photography.nationalgeographic.com/photography/photo-of-the-day/landscapes</td></tr>\\n    </tbody>\\n\")"
      ]
     },
     "metadata": {},
     "output_type": "display_data"
    },
    {
     "data": {
      "text/html": [
       "<div class=\"dswbOutputText\"><h1 class=\"chart_title\" style=\"color:#ccc\">Top 20 (min 1000) WPF URLs for Science WPF</h1><h3 class=\"chart_info\" style=\"color:#ccc\">Note: If you see AEM URL's in this list tell Chris Davis</h3><h3 class=\"chart_info\" style=\"color:#ccc\">June 6, 2017 23:59:00 to June 13, 2017 23:59:00 Local Time</h3></div>"
      ]
     },
     "metadata": {},
     "output_type": "display_data"
    },
    {
     "data": {
      "text/html": [
       "    <table  class=\"dataframe-table\">\n",
       "    <thead><tr><th class=\"cell-1\" style=\"\">Views</th> <th class=\"cell-2\" style=\"\">Url - With Grouping After Parameters Dropped</th></tr></thead>\n",
       "    <tbody>\n",
       "    \n",
       "    \n",
       "    \n",
       "    </tbody>\n"
      ],
      "text/plain": [
       "HTML{UTF8String}(\"    <table  class=\\\"dataframe-table\\\">\\n    <thead><tr><th class=\\\"cell-1\\\" style=\\\"\\\">Views</th> <th class=\\\"cell-2\\\" style=\\\"\\\">Url - With Grouping After Parameters Dropped</th></tr></thead>\\n    <tbody>\\n    \\n    \\n    \\n    </tbody>\\n\")"
      ]
     },
     "metadata": {},
     "output_type": "display_data"
    },
    {
     "data": {
      "text/html": [
       "<div class=\"dswbOutputText\"><h1 class=\"chart_title\" style=\"color:#ccc\">Top 20 (min 1000) WPF URLs for Travel WPF</h1><h3 class=\"chart_info\" style=\"color:#ccc\">Note: If you see AEM URL's in this list tell Chris Davis</h3><h3 class=\"chart_info\" style=\"color:#ccc\">June 6, 2017 23:59:00 to June 13, 2017 23:59:00 Local Time</h3></div>"
      ]
     },
     "metadata": {},
     "output_type": "display_data"
    },
    {
     "data": {
      "text/html": [
       "    <table  class=\"dataframe-table\">\n",
       "    <thead><tr><th class=\"cell-1\" style=\"\">Views</th> <th class=\"cell-2\" style=\"\">Url - With Grouping After Parameters Dropped</th></tr></thead>\n",
       "    <tbody>\n",
       "    <tr><td class=\"cell-1\" style=\"text-align:right;\">21,279</td> <td class=\"cell-2\" style=\"\">http://travel.nationalgeographic.com/photographer-of-the-year-2017</td></tr>\n",
       "<tr><td class=\"cell-1\" style=\"text-align:right;\">4,790</td> <td class=\"cell-2\" style=\"\">http://travel.nationalgeographic.com/photographer-of-the-year-2017/enter</td></tr>\n",
       "<tr><td class=\"cell-1\" style=\"text-align:right;\">3,683</td> <td class=\"cell-2\" style=\"\">http://travel.nationalgeographic.com/photographer-of-the-year-2017/gallery/week-7-all/22</td></tr>\n",
       "<tr><td class=\"cell-1\" style=\"text-align:right;\">2,734</td> <td class=\"cell-2\" style=\"\">http://travel.nationalgeographic.com/photographer-of-the-year-2017/gallery/week-7-all/30</td></tr>\n",
       "<tr><td class=\"cell-1\" style=\"text-align:right;\">2,616</td> <td class=\"cell-2\" style=\"\">http://travel.nationalgeographic.com/photographer-of-the-year-2017/gallery/week-7-nature/1</td></tr>\n",
       "<tr><td class=\"cell-1\" style=\"text-align:right;\">2,584</td> <td class=\"cell-2\" style=\"\">http://travel.nationalgeographic.com/photographer-of-the-year-2017/gallery/week-6-all/1</td></tr>\n",
       "<tr><td class=\"cell-1\" style=\"text-align:right;\">2,498</td> <td class=\"cell-2\" style=\"\">http://travel.nationalgeographic.com/travel/americas-best-road-trips</td></tr>\n",
       "<tr><td class=\"cell-1\" style=\"text-align:right;\">2,210</td> <td class=\"cell-2\" style=\"\">http://intelligenttravel.nationalgeographic.com/2012/12/28/the-10-best-chocolatiers-in-the-world</td></tr>\n",
       "<tr><td class=\"cell-1\" style=\"text-align:right;\">1,808</td> <td class=\"cell-2\" style=\"\">http://intelligenttravel.nationalgeographic.com/2013/09/05/how-to-turn-your-car-into-a-camper</td></tr>\n",
       "    \n",
       "    <tr><td class=\"cell-1\" style=\"text-align:right;\">1,665</td> <td class=\"cell-2\" style=\"\">http://travel.nationalgeographic.com/photographer-of-the-year-2017/wallpapers/week-6-all/29</td></tr>\n",
       "<tr><td class=\"cell-1\" style=\"text-align:right;\">1,500</td> <td class=\"cell-2\" style=\"\">http://travel.nationalgeographic.com/photographer-of-the-year-2017/gallery/week-7-nature/5</td></tr>\n",
       "<tr><td class=\"cell-1\" style=\"text-align:right;\">1,317</td> <td class=\"cell-2\" style=\"\">http://travel.nationalgeographic.com/travel/destinations-a-z</td></tr>\n",
       "<tr><td class=\"cell-1\" style=\"text-align:right;\">1,234</td> <td class=\"cell-2\" style=\"\">http://intelligenttravel.nationalgeographic.com/2013/07/29/the-truth-about-bedbugs</td></tr>\n",
       "<tr><td class=\"cell-1\" style=\"text-align:right;\">1,154</td> <td class=\"cell-2\" style=\"\">http://travel.nationalgeographic.com/photographer-of-the-year-2017/gallery/week-7-all/1</td></tr>\n",
       "<tr><td class=\"cell-1\" style=\"text-align:right;\">1,114</td> <td class=\"cell-2\" style=\"\">http://travel.nationalgeographic.com/photographer-of-the-year-2017/gallery/week-7-cities/6</td></tr>\n",
       "<tr><td class=\"cell-1\" style=\"text-align:right;\">1,097</td> <td class=\"cell-2\" style=\"\">http://travel.nationalgeographic.com/photographer-of-the-year-2016/wallpapers/winners-all/1</td></tr>\n",
       "<tr><td class=\"cell-1\" style=\"text-align:right;\">1,023</td> <td class=\"cell-2\" style=\"\">http://travel.nationalgeographic.com/photographer-of-the-year-2017/rules</td></tr>\n",
       "<tr><td class=\"cell-1\" style=\"text-align:right;\">1,014</td> <td class=\"cell-2\" style=\"\">http://travel.nationalgeographic.com/photographer-of-the-year-2017/wallpapers/week-6-all/1</td></tr>\n",
       "    </tbody>\n"
      ],
      "text/plain": [
       "HTML{UTF8String}(\"    <table  class=\\\"dataframe-table\\\">\\n    <thead><tr><th class=\\\"cell-1\\\" style=\\\"\\\">Views</th> <th class=\\\"cell-2\\\" style=\\\"\\\">Url - With Grouping After Parameters Dropped</th></tr></thead>\\n    <tbody>\\n    <tr><td class=\\\"cell-1\\\" style=\\\"text-align:right;\\\">21,279</td> <td class=\\\"cell-2\\\" style=\\\"\\\">http://travel.nationalgeographic.com/photographer-of-the-year-2017</td></tr>\\n<tr><td class=\\\"cell-1\\\" style=\\\"text-align:right;\\\">4,790</td> <td class=\\\"cell-2\\\" style=\\\"\\\">http://travel.nationalgeographic.com/photographer-of-the-year-2017/enter</td></tr>\\n<tr><td class=\\\"cell-1\\\" style=\\\"text-align:right;\\\">3,683</td> <td class=\\\"cell-2\\\" style=\\\"\\\">http://travel.nationalgeographic.com/photographer-of-the-year-2017/gallery/week-7-all/22</td></tr>\\n<tr><td class=\\\"cell-1\\\" style=\\\"text-align:right;\\\">2,734</td> <td class=\\\"cell-2\\\" style=\\\"\\\">http://travel.nationalgeographic.com/photographer-of-the-year-2017/gallery/week-7-all/30</td></tr>\\n<tr><td class=\\\"cell-1\\\" style=\\\"text-align:right;\\\">2,616</td> <td class=\\\"cell-2\\\" style=\\\"\\\">http://travel.nationalgeographic.com/photographer-of-the-year-2017/gallery/week-7-nature/1</td></tr>\\n<tr><td class=\\\"cell-1\\\" style=\\\"text-align:right;\\\">2,584</td> <td class=\\\"cell-2\\\" style=\\\"\\\">http://travel.nationalgeographic.com/photographer-of-the-year-2017/gallery/week-6-all/1</td></tr>\\n<tr><td class=\\\"cell-1\\\" style=\\\"text-align:right;\\\">2,498</td> <td class=\\\"cell-2\\\" style=\\\"\\\">http://travel.nationalgeographic.com/travel/americas-best-road-trips</td></tr>\\n<tr><td class=\\\"cell-1\\\" style=\\\"text-align:right;\\\">2,210</td> <td class=\\\"cell-2\\\" style=\\\"\\\">http://intelligenttravel.nationalgeographic.com/2012/12/28/the-10-best-chocolatiers-in-the-world</td></tr>\\n<tr><td class=\\\"cell-1\\\" style=\\\"text-align:right;\\\">1,808</td> <td class=\\\"cell-2\\\" style=\\\"\\\">http://intelligenttravel.nationalgeographic.com/2013/09/05/how-to-turn-your-car-into-a-camper</td></tr>\\n    \\n    <tr><td class=\\\"cell-1\\\" style=\\\"text-align:right;\\\">1,665</td> <td class=\\\"cell-2\\\" style=\\\"\\\">http://travel.nationalgeographic.com/photographer-of-the-year-2017/wallpapers/week-6-all/29</td></tr>\\n<tr><td class=\\\"cell-1\\\" style=\\\"text-align:right;\\\">1,500</td> <td class=\\\"cell-2\\\" style=\\\"\\\">http://travel.nationalgeographic.com/photographer-of-the-year-2017/gallery/week-7-nature/5</td></tr>\\n<tr><td class=\\\"cell-1\\\" style=\\\"text-align:right;\\\">1,317</td> <td class=\\\"cell-2\\\" style=\\\"\\\">http://travel.nationalgeographic.com/travel/destinations-a-z</td></tr>\\n<tr><td class=\\\"cell-1\\\" style=\\\"text-align:right;\\\">1,234</td> <td class=\\\"cell-2\\\" style=\\\"\\\">http://intelligenttravel.nationalgeographic.com/2013/07/29/the-truth-about-bedbugs</td></tr>\\n<tr><td class=\\\"cell-1\\\" style=\\\"text-align:right;\\\">1,154</td> <td class=\\\"cell-2\\\" style=\\\"\\\">http://travel.nationalgeographic.com/photographer-of-the-year-2017/gallery/week-7-all/1</td></tr>\\n<tr><td class=\\\"cell-1\\\" style=\\\"text-align:right;\\\">1,114</td> <td class=\\\"cell-2\\\" style=\\\"\\\">http://travel.nationalgeographic.com/photographer-of-the-year-2017/gallery/week-7-cities/6</td></tr>\\n<tr><td class=\\\"cell-1\\\" style=\\\"text-align:right;\\\">1,097</td> <td class=\\\"cell-2\\\" style=\\\"\\\">http://travel.nationalgeographic.com/photographer-of-the-year-2016/wallpapers/winners-all/1</td></tr>\\n<tr><td class=\\\"cell-1\\\" style=\\\"text-align:right;\\\">1,023</td> <td class=\\\"cell-2\\\" style=\\\"\\\">http://travel.nationalgeographic.com/photographer-of-the-year-2017/rules</td></tr>\\n<tr><td class=\\\"cell-1\\\" style=\\\"text-align:right;\\\">1,014</td> <td class=\\\"cell-2\\\" style=\\\"\\\">http://travel.nationalgeographic.com/photographer-of-the-year-2017/wallpapers/week-6-all/1</td></tr>\\n    </tbody>\\n\")"
      ]
     },
     "metadata": {},
     "output_type": "display_data"
    }
   ],
   "source": [
    "firstAndLast(UP.btView,\"Adventure WPF\";rowLimit=20,beaconsLimit=1000);\n",
    "firstAndLast(UP.btView,\"Animals WPF\",rowLimit=20,beaconsLimit=1000);\n",
    "firstAndLast(UP.btView,\"Environment WPF\",rowLimit=20,beaconsLimit=1000);\n",
    "firstAndLast(UP.btView,\"Games WPF\",rowLimit=20,beaconsLimit=50);\n",
    "firstAndLast(UP.btView,\"Images WPF\",rowLimit=20,beaconsLimit=2);\n",
    "firstAndLast(UP.btView,\"Movies WPF\",rowLimit=20,beaconsLimit=2);\n",
    "firstAndLast(UP.btView,\"Ocean WPF\",rowLimit=20,beaconsLimit=500);\n",
    "firstAndLast(UP.btView,\"Photography WPF\",rowLimit=20,beaconsLimit=1000);\n",
    "firstAndLast(UP.btView,\"Science WPF\",rowLimit=20,beaconsLimit=1000);\n",
    "firstAndLast(UP.btView,\"Travel WPF\",rowLimit=20,beaconsLimit=1000);"
   ]
  },
  {
   "cell_type": "code",
   "execution_count": 6,
   "metadata": {
    "collapsed": true,
    "input_collapsed": true
   },
   "outputs": [],
   "source": []
  }
 ],
 "metadata": {
  "chart_version": "1.0.0",
  "kernelspec": {
   "display_name": "Julia 0.4.7",
   "language": "julia",
   "name": "julia-0.4"
  },
  "language_info": {
   "file_extension": ".jl",
   "mimetype": "application/julia",
   "name": "julia",
   "version": "0.4.7"
  },
  "library_version": "1.0.0",
  "notebook_uuid": "23e7e97c-c678-4de9-b75c-f19ac2185437",
  "readOnly": false
 },
 "nbformat": 4,
 "nbformat_minor": 0
}
