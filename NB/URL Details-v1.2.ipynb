{
 "cells": [
  {
   "cell_type": "markdown",
   "metadata": {},
   "source": [
    "## Tables and Data Source setup"
   ]
  },
  {
   "cell_type": "code",
   "execution_count": 1,
   "metadata": {
    "collapsed": false,
    "input_collapsed": false,
    "scrolled": true
   },
   "outputs": [
    {
     "name": "stdout",
     "output_type": "stream",
     "text": [
      "Redshift endpoint set: 2017-06-11T20:05:49\n"
     ]
    },
    {
     "data": {
      "text/plain": [
       "\"beacons_4744_rt\""
      ]
     },
     "execution_count": 1,
     "metadata": {},
     "output_type": "execute_result"
    }
   ],
   "source": [
    "using ODBC\n",
    "using DataFrames\n",
    "using DSWB\n",
    "using Formatting\n",
    "\n",
    "dsn = \"dswb-natgeo\" # Redshift esetTable(tableRt, tableType = \"RESOURCE_TABLE\")ndpoint\n",
    "table = \"beacons_4744\" # beacon table name\n",
    "tableRt = \"beacons_4744_rt\"\n",
    "\n",
    "# Connect to Beacon Data\n",
    "setRedshiftEndpoint(dsn)\n",
    "setTable(table)\n",
    "setTable(tableRt, tableType = \"RESOURCE_TABLE\")"
   ]
  },
  {
   "cell_type": "code",
   "execution_count": 2,
   "metadata": {
    "collapsed": false,
    "input_collapsed": false
   },
   "outputs": [
    {
     "name": "stdout",
     "output_type": "stream",
     "text": [
      "June 8, 2017 11:59:00 to June 8, 2017 12:59:00 Local Time\n",
      "June 8, 2017 15:59:00 to June 8, 2017 16:59:00 UTC Time\n"
     ]
    }
   ],
   "source": [
    "# Packages\n",
    "include(\"/data/notebook_home/Production/Lib/Include-Package-v1.0.jl\")\n",
    "#include(\"/data/notebook_home/Production/Bodies/Page-Group-Details-Body-v1.0.jl\")\n",
    "include(\"/data/notebook_home/Production/Bodies/Url-Details-Body-v1.0.jl\")\n",
    "\n",
    "timeVariables(2017,6,8,11,59,2017,6,8,12,59)\n",
    "#weeklyTimeVariables(days=1)\n",
    "#yesterdayTimeVariables()\n",
    ";"
   ]
  },
  {
   "cell_type": "code",
   "execution_count": 3,
   "metadata": {
    "collapsed": false,
    "input_collapsed": false,
    "scrolled": true
   },
   "outputs": [],
   "source": [
    "UP = UrlParamsInit()\n",
    "UP.beaconTable = table   #table\n",
    "UP.resourceTable = tableRt\n",
    "UP.btView = \"$(table)_URL_Details_view_prod\" #localtable\n",
    "UP.rtView = \"$(tableRt)_URL_Details_view_prod\" #localtableRt\n",
    "UP.pageGroup = \"Your Shot\"   #productPageGroup\n",
    "UP.urlRegEx = \"%yourshot.nationalgeographic.com/photos%\"   #localUrl\n",
    "UP.urlFull = \"http://yourshot.nationalgeographic.com/photos\"\n",
    "UP.deviceType = \"Mobile\"\n",
    "\n",
    "SG = SoastaGraphsInit()\n",
    "customer = \"Nat Geo\" \n",
    "SG.customer = customer\n",
    "\n",
    "SP = ShowParamsInit()\n",
    "SP.debugLevel = 10;\n",
    "SP.debug = true;\n",
    ";\n",
    "\n",
    "LV = LocalVars(0)\n",
    "LV.linesOutput = 25\n",
    ";"
   ]
  },
  {
   "cell_type": "code",
   "execution_count": 4,
   "metadata": {
    "collapsed": false,
    "input_collapsed": false
   },
   "outputs": [
    {
     "name": "stdout",
     "output_type": "stream",
     "text": [
      "beacons_4744_URL_Details_view_prod count is (4183,246)\n"
     ]
    }
   ],
   "source": [
    "defaultBeaconViewUDB(tv,UP)\n",
    ";"
   ]
  },
  {
   "cell_type": "code",
   "execution_count": 5,
   "metadata": {
    "collapsed": false,
    "input_collapsed": false,
    "scrolled": true
   },
   "outputs": [
    {
     "name": "stdout",
     "output_type": "stream",
     "text": [
      "beacons_4744_rt_URL_Details_view_prod count is (14239546,27)\n"
     ]
    }
   ],
   "source": [
    "defaultResourceView(tv,UP)\n",
    ";"
   ]
  },
  {
   "cell_type": "markdown",
   "metadata": {},
   "source": [
    "***\n",
    "\n",
    "## Start Analyzing The Local Data Set Specific to URL and Time Range\n",
    "\n",
    "***"
   ]
  },
  {
   "cell_type": "code",
   "execution_count": 6,
   "metadata": {
    "collapsed": false,
    "input_collapsed": false
   },
   "outputs": [
    {
     "data": {
      "text/html": [
       "<div class=\"dswbOutputText\">\n",
       "    <strong><span class=\"chart_info\" style=\"color:#B1D6ED;\">Using session timeout value of 30 minutes...</strong>\n",
       "</div>\n"
      ]
     },
     "metadata": {},
     "output_type": "display_data"
    },
    {
     "data": {
      "text/html": [
       "<div class=\"dswbOutputText\"><h1 class=\"chart_title\" style=\"color:#ccc\">Concurrent Sessions and Beacons by minute</h1><h3 class=\"chart_info\" style=\"color:#ccc\">June 8, 2017 15:59:00 to June 8, 2017 16:59:00</h3><h5 class=\"chart_lastCalled\" style=\"color:#ccc\">Run at June 11, 2017 20:10:46</h5></div>"
      ]
     },
     "metadata": {},
     "output_type": "display_data"
    },
    {
     "data": {
      "text/html": [
       "    <iframe id=\"timeSeries-OQVBPPPJJVWFTOWOUBQEZPIQVGTCRATH\" class=\"dswbiframe\" width=\"100%\" height=\"600\" src=\"about:blank\" scrolling=\"no\"></iframe>\n",
       "    <script>\n",
       "    (function() {\n",
       "        var iframe = document.getElementById(\"timeSeries-OQVBPPPJJVWFTOWOUBQEZPIQVGTCRATH\");\n",
       "        iframe.timeSeriesRendererLoaded = function(runner) {\n",
       "            iframe.runner = runner;\n",
       "            iframe.runner([[\"x\",\"2017-06-08 15:59:00\",\"2017-06-08 16:00:00\",\"2017-06-08 16:01:00\",\"2017-06-08 16:02:00\",\"2017-06-08 16:03:00\",\"2017-06-08 16:04:00\",\"2017-06-08 16:05:00\",\"2017-06-08 16:06:00\",\"2017-06-08 16:07:00\",\"2017-06-08 16:08:00\",\"2017-06-08 16:09:00\",\"2017-06-08 16:10:00\",\"2017-06-08 16:11:00\",\"2017-06-08 16:12:00\",\"2017-06-08 16:13:00\",\"2017-06-08 16:14:00\",\"2017-06-08 16:15:00\",\"2017-06-08 16:16:00\",\"2017-06-08 16:17:00\",\"2017-06-08 16:18:00\",\"2017-06-08 16:19:00\",\"2017-06-08 16:20:00\",\"2017-06-08 16:21:00\",\"2017-06-08 16:22:00\",\"2017-06-08 16:23:00\",\"2017-06-08 16:24:00\",\"2017-06-08 16:25:00\",\"2017-06-08 16:26:00\",\"2017-06-08 16:27:00\",\"2017-06-08 16:28:00\",\"2017-06-08 16:29:00\",\"2017-06-08 16:30:00\",\"2017-06-08 16:31:00\",\"2017-06-08 16:32:00\",\"2017-06-08 16:33:00\",\"2017-06-08 16:34:00\",\"2017-06-08 16:35:00\",\"2017-06-08 16:36:00\",\"2017-06-08 16:37:00\",\"2017-06-08 16:38:00\",\"2017-06-08 16:39:00\",\"2017-06-08 16:40:00\",\"2017-06-08 16:41:00\",\"2017-06-08 16:42:00\",\"2017-06-08 16:43:00\",\"2017-06-08 16:44:00\",\"2017-06-08 16:45:00\",\"2017-06-08 16:46:00\",\"2017-06-08 16:47:00\",\"2017-06-08 16:48:00\",\"2017-06-08 16:49:00\",\"2017-06-08 16:50:00\",\"2017-06-08 16:51:00\",\"2017-06-08 16:52:00\",\"2017-06-08 16:53:00\",\"2017-06-08 16:54:00\",\"2017-06-08 16:55:00\",\"2017-06-08 16:56:00\",\"2017-06-08 16:57:00\",\"2017-06-08 16:58:00\"],[\"data1\",41,45,38,36,38,47,48,32,41,42,38,47,47,44,43,35,48,41,50,50,36,45,44,48,37,39,41,45,39,47,39,27,28,28,41,33,27,29,29,25,24,30,29,44,39,44,31,43,36,47,32,42,46,35,38,46,34,36,32,37],[\"data2\",68,74,61,63,74,74,74,51,71,66,61,92,77,83,59,71,88,68,80,94,65,60,77,92,50,69,67,78,62,70,71,55,49,48,72,59,52,38,42,33,46,55,48,78,61,67,48,76,51,71,64,86,85,67,74,87,57,74,84,63]],\n",
       "                [\"Sessions\",\"Beacons\"],\n",
       "                [\"minute\",\"Concurrent Sessions\",\"Beacon Count\"],\n",
       "                [\"area-spline\",\"bar\"],\n",
       "                [\"hsla(28, 100%, 86%, 0.9)\",\"hsla(197, 70%, 73%, 0.9)\"],\n",
       "                [],\n",
       "                [\"data2\"],\n",
       "                \"    .c3-line {\\n        stroke: #039BE5;\\n    }\\n\\n    .c3-area {\\n        opacity:0.4;\\n    }\\n\\n    .c3 text {\\n        stroke: #979797 !important;\\n    }\\n\",\n",
       "                [],\n",
       "                {\"point_r\":0,\"axis_y_min\":0,\"axis_x_tick_culling_max\":20,\"axis_y2_min\":0}\n",
       "            );\n",
       "        }\n",
       "        iframe.src = \"/static/graphs/templates/c3Viz_template.html#id=timeSeries-OQVBPPPJJVWFTOWOUBQEZPIQVGTCRATH\";\n",
       "    }());\n",
       "    </script>\n"
      ]
     },
     "metadata": {},
     "output_type": "display_data"
    }
   ],
   "source": [
    "#displayTitle(chart_title = \"Concurrent Sessions and Beacons for $(productPageGroup)\", chart_info = [timeString])\n",
    "chartConcurrentSessionsAndBeaconsOverTime(tv.startTimeUTC, tv.endTimeUTC, tv.datePart)"
   ]
  },
  {
   "cell_type": "code",
   "execution_count": 7,
   "metadata": {
    "collapsed": false,
    "input_collapsed": false,
    "scrolled": false
   },
   "outputs": [
    {
     "data": {
      "text/html": [
       "<div class=\"dswbOutputText\"><h1 class=\"chart_title\" style=\"color:#ccc\">Median Load Times</h1><h3 class=\"chart_info\" style=\"color:#ccc\">June 8, 2017 15:59:00 to June 8, 2017 16:59:00</h3><h5 class=\"chart_lastCalled\" style=\"color:#ccc\">Run at June 11, 2017 20:10:50</h5></div>"
      ]
     },
     "metadata": {},
     "output_type": "display_data"
    },
    {
     "data": {
      "text/html": [
       "    <iframe id=\"timeSeries-VNIPCLCXXXONFPVWOYWFRBQPBDIBGSJO\" class=\"dswbiframe\" width=\"100%\" height=\"600\" src=\"about:blank\" scrolling=\"no\"></iframe>\n",
       "    <script>\n",
       "    (function() {\n",
       "        var iframe = document.getElementById(\"timeSeries-VNIPCLCXXXONFPVWOYWFRBQPBDIBGSJO\");\n",
       "        iframe.timeSeriesRendererLoaded = function(runner) {\n",
       "            iframe.runner = runner;\n",
       "            iframe.runner([[\"x\",\"June 8, 2017 15:59:00\",\"June 8, 2017 16:00:00\",\"June 8, 2017 16:01:00\",\"June 8, 2017 16:02:00\",\"June 8, 2017 16:03:00\",\"June 8, 2017 16:04:00\",\"June 8, 2017 16:05:00\",\"June 8, 2017 16:06:00\",\"June 8, 2017 16:07:00\",\"June 8, 2017 16:08:00\",\"June 8, 2017 16:09:00\",\"June 8, 2017 16:10:00\",\"June 8, 2017 16:11:00\",\"June 8, 2017 16:12:00\",\"June 8, 2017 16:13:00\",\"June 8, 2017 16:14:00\",\"June 8, 2017 16:15:00\",\"June 8, 2017 16:16:00\",\"June 8, 2017 16:17:00\",\"June 8, 2017 16:18:00\",\"June 8, 2017 16:19:00\",\"June 8, 2017 16:20:00\",\"June 8, 2017 16:21:00\",\"June 8, 2017 16:22:00\",\"June 8, 2017 16:23:00\",\"June 8, 2017 16:24:00\",\"June 8, 2017 16:25:00\",\"June 8, 2017 16:26:00\",\"June 8, 2017 16:27:00\",\"June 8, 2017 16:28:00\",\"June 8, 2017 16:29:00\",\"June 8, 2017 16:30:00\",\"June 8, 2017 16:31:00\",\"June 8, 2017 16:32:00\",\"June 8, 2017 16:33:00\",\"June 8, 2017 16:34:00\",\"June 8, 2017 16:35:00\",\"June 8, 2017 16:36:00\",\"June 8, 2017 16:37:00\",\"June 8, 2017 16:38:00\",\"June 8, 2017 16:39:00\",\"June 8, 2017 16:40:00\",\"June 8, 2017 16:41:00\",\"June 8, 2017 16:42:00\",\"June 8, 2017 16:43:00\",\"June 8, 2017 16:44:00\",\"June 8, 2017 16:45:00\",\"June 8, 2017 16:46:00\",\"June 8, 2017 16:47:00\",\"June 8, 2017 16:48:00\",\"June 8, 2017 16:49:00\",\"June 8, 2017 16:50:00\",\"June 8, 2017 16:51:00\",\"June 8, 2017 16:52:00\",\"June 8, 2017 16:53:00\",\"June 8, 2017 16:54:00\",\"June 8, 2017 16:55:00\",\"June 8, 2017 16:56:00\",\"June 8, 2017 16:57:00\",\"June 8, 2017 16:58:00\",\"June 8, 2017 16:59:00\"],[\"data1\",2052.0,1801.0,1748.0,1430.0,1644.5,1188.0,1369.0,1322.0,1718.0,880.5,1159.0,770.0,707.5,732.0,832.0,668.0,691.5,721.5,683.5,1060.5,728.0,693.5,773.0,698.0,1581.5,1442.0,1457.0,719.5,682.0,1193.5,1001.0,690.0,640.0,815.0,660.0,681.0,780.5,877.0,1037.0,939.0,706.0,691.0,720.0,713.5,726.0,662.0,703.0,807.5,981.0,754.5,945.0,842.5,817.0,935.0,1137.0,728.5,774.0,966.5,804.5,773.0,null],[\"data2\",4840.0,4125.0,3954.5,4019.0,6292.5,3195.5,2690.0,2404.0,2527.0,2891.0,2625.5,2568.0,2260.5,2121.0,3223.0,2499.0,2331.5,3656.5,2311.5,2809.0,2160.0,3549.5,2147.0,3883.5,3339.5,1817.0,2233.0,4316.0,2629.0,2685.5,2281.0,1788.0,2312.0,2965.5,2161.0,2081.0,3242.0,3458.0,2631.5,3698.0,3033.0,6080.0,3252.0,2717.0,2917.0,3291.0,3909.0,3188.0,3210.0,3167.0,1959.0,1822.0,2860.0,3006.0,3232.5,2428.0,3240.0,2283.0,1694.5,2035.0,null],[\"data3\",7219.5,6201.0,5342.0,5177.0,7771.0,4547.0,4228.0,3976.0,4382.0,3792.0,4017.0,3667.5,2928.0,2909.0,4180.0,3098.0,3082.5,4554.0,3028.5,3700.0,2809.0,4230.0,2916.0,5088.0,4686.5,3444.0,4570.0,4829.0,3454.5,4090.0,3486.0,2614.0,2832.0,3953.5,2837.5,2900.0,3838.0,4312.0,3634.0,4914.0,3868.0,7505.0,3818.0,3475.0,3619.0,3962.0,4514.0,3893.5,4143.0,3928.5,3187.5,2696.0,3523.0,4318.0,4534.5,3258.0,4015.0,2994.0,2574.0,2799.0,null]],\n",
       "                [\"Back-end Load Time\",\"Front-end Load Time\",\"Full Page Load Time\",\"Beacon Count\"],\n",
       "                [\"minute\",\"Milliseconds\",\"Count\"],\n",
       "                [\"area\",\"area\",\"spline\",\"line\"],\n",
       "                [\"hsla(130, 61%, 50%, 0.9)\",\"hsla(214, 86%, 60%, 0.9)\",\"hsla(35, 100%, 50%, 0.9)\"],\n",
       "                [[\"data1\",\"data2\"]],\n",
       "                [\"data4\"],\n",
       "                \"\",\n",
       "                [\"data4\"],\n",
       "                {\"axis_y_min\":0,\"pageUrl\":\"%yourshot.nationalgeographic.com/photos%\",\"axis_y2_min\":0}\n",
       "            );\n",
       "        }\n",
       "        iframe.src = \"/static/graphs/templates/c3Viz_template.html#id=timeSeries-VNIPCLCXXXONFPVWOYWFRBQPBDIBGSJO\";\n",
       "    }());\n",
       "    </script>\n"
      ]
     },
     "metadata": {},
     "output_type": "display_data"
    }
   ],
   "source": [
    "chartLoadTimes(tv.startTimeUTC, tv.endTimeUTC, tv.datePart, pageUrl=UP.urlRegEx)"
   ]
  },
  {
   "cell_type": "code",
   "execution_count": 8,
   "metadata": {
    "collapsed": false,
    "input_collapsed": false
   },
   "outputs": [
    {
     "data": {
      "text/html": [
       "<div class=\"dswbOutputText\"><h1 class=\"chart_title\" style=\"color:#ccc\">Top URL Page Views for Your Shot</h1><h3 class=\"chart_info\" style=\"color:#ccc\">June 8, 2017 11:59:00 to June 8, 2017 12:59:00 Local Time</h3></div>"
      ]
     },
     "metadata": {},
     "output_type": "display_data"
    },
    {
     "data": {
      "text/html": [
       "    <table  class=\"dataframe-table\">\n",
       "    <thead><tr><th class=\"cell-1\" style=\"\">Views</th> <th class=\"cell-2\" style=\"\">Url - With Grouping After Parameters Dropped</th></tr></thead>\n",
       "    <tbody>\n",
       "    <tr><td class=\"cell-1\" style=\"text-align:right;\">245</td> <td class=\"cell-2\" style=\"\">http://yourshot.nationalgeographic.com/photos</td></tr>\n",
       "<tr><td class=\"cell-1\" style=\"text-align:right;\">81</td> <td class=\"cell-2\" style=\"\">http://m.yourshot.nationalgeographic.com/photos</td></tr>\n",
       "<tr><td class=\"cell-1\" style=\"text-align:right;\">22</td> <td class=\"cell-2\" style=\"\">http://m.yourshot.nationalgeographic.com/photos/10003984</td></tr>\n",
       "<tr><td class=\"cell-1\" style=\"text-align:right;\">15</td> <td class=\"cell-2\" style=\"\">http://yourshot.nationalgeographic.com/photos/10396098</td></tr>\n",
       "<tr><td class=\"cell-1\" style=\"text-align:right;\">12</td> <td class=\"cell-2\" style=\"\">http://yourshot.nationalgeographic.com/photos/10396698</td></tr>\n",
       "<tr><td class=\"cell-1\" style=\"text-align:right;\">11</td> <td class=\"cell-2\" style=\"\">http://yourshot.nationalgeographic.com/photos/10383065</td></tr>\n",
       "<tr><td class=\"cell-1\" style=\"text-align:right;\">11</td> <td class=\"cell-2\" style=\"\">http://yourshot.nationalgeographic.com/photos/10395656</td></tr>\n",
       "<tr><td class=\"cell-1\" style=\"text-align:right;\">11</td> <td class=\"cell-2\" style=\"\">http://yourshot.nationalgeographic.com/photos/10397134</td></tr>\n",
       "<tr><td class=\"cell-1\" style=\"text-align:right;\">11</td> <td class=\"cell-2\" style=\"\">http://yourshot.nationalgeographic.com/photos/10397081</td></tr>\n",
       "<tr><td class=\"cell-1\" style=\"text-align:right;\">10</td> <td class=\"cell-2\" style=\"\">http://yourshot.nationalgeographic.com/photos/10385017</td></tr>\n",
       "<tr><td class=\"cell-1\" style=\"text-align:right;\">9</td> <td class=\"cell-2\" style=\"\">http://yourshot.nationalgeographic.com/photos/10386965</td></tr>\n",
       "<tr><td class=\"cell-1\" style=\"text-align:right;\">9</td> <td class=\"cell-2\" style=\"\">http://yourshot.nationalgeographic.com/photos/8633817</td></tr>\n",
       "<tr><td class=\"cell-1\" style=\"text-align:right;\">9</td> <td class=\"cell-2\" style=\"\">http://yourshot.nationalgeographic.com/photos/10383563</td></tr>\n",
       "    \n",
       "    <tr><td class=\"cell-1\" style=\"text-align:right;\">9</td> <td class=\"cell-2\" style=\"\">http://yourshot.nationalgeographic.com/photos/10397152</td></tr>\n",
       "<tr><td class=\"cell-1\" style=\"text-align:right;\">9</td> <td class=\"cell-2\" style=\"\">http://yourshot.nationalgeographic.com/photos/10397197</td></tr>\n",
       "<tr><td class=\"cell-1\" style=\"text-align:right;\">9</td> <td class=\"cell-2\" style=\"\">http://m.yourshot.nationalgeographic.com/photos/8633817</td></tr>\n",
       "<tr><td class=\"cell-1\" style=\"text-align:right;\">8</td> <td class=\"cell-2\" style=\"\">http://m.yourshot.nationalgeographic.com/photos/10373467</td></tr>\n",
       "<tr><td class=\"cell-1\" style=\"text-align:right;\">8</td> <td class=\"cell-2\" style=\"\">http://yourshot.nationalgeographic.com/photos/10384403</td></tr>\n",
       "<tr><td class=\"cell-1\" style=\"text-align:right;\">8</td> <td class=\"cell-2\" style=\"\">http://yourshot.nationalgeographic.com/photos/10397133</td></tr>\n",
       "<tr><td class=\"cell-1\" style=\"text-align:right;\">8</td> <td class=\"cell-2\" style=\"\">http://yourshot.nationalgeographic.com/photos/10321953</td></tr>\n",
       "<tr><td class=\"cell-1\" style=\"text-align:right;\">8</td> <td class=\"cell-2\" style=\"\">http://yourshot.nationalgeographic.com/photos/10388928</td></tr>\n",
       "<tr><td class=\"cell-1\" style=\"text-align:right;\">7</td> <td class=\"cell-2\" style=\"\">http://yourshot.nationalgeographic.com/photos/10396094</td></tr>\n",
       "<tr><td class=\"cell-1\" style=\"text-align:right;\">7</td> <td class=\"cell-2\" style=\"\">http://yourshot.nationalgeographic.com/photos/10396950</td></tr>\n",
       "<tr><td class=\"cell-1\" style=\"text-align:right;\">7</td> <td class=\"cell-2\" style=\"\">http://yourshot.nationalgeographic.com/photos/10385106</td></tr>\n",
       "<tr><td class=\"cell-1\" style=\"text-align:right;\">7</td> <td class=\"cell-2\" style=\"\">http://yourshot.nationalgeographic.com/photos/10397376</td></tr>\n",
       "    </tbody>\n"
      ],
      "text/plain": [
       "HTML{UTF8String}(\"    <table  class=\\\"dataframe-table\\\">\\n    <thead><tr><th class=\\\"cell-1\\\" style=\\\"\\\">Views</th> <th class=\\\"cell-2\\\" style=\\\"\\\">Url - With Grouping After Parameters Dropped</th></tr></thead>\\n    <tbody>\\n    <tr><td class=\\\"cell-1\\\" style=\\\"text-align:right;\\\">245</td> <td class=\\\"cell-2\\\" style=\\\"\\\">http://yourshot.nationalgeographic.com/photos</td></tr>\\n<tr><td class=\\\"cell-1\\\" style=\\\"text-align:right;\\\">81</td> <td class=\\\"cell-2\\\" style=\\\"\\\">http://m.yourshot.nationalgeographic.com/photos</td></tr>\\n<tr><td class=\\\"cell-1\\\" style=\\\"text-align:right;\\\">22</td> <td class=\\\"cell-2\\\" style=\\\"\\\">http://m.yourshot.nationalgeographic.com/photos/10003984</td></tr>\\n<tr><td class=\\\"cell-1\\\" style=\\\"text-align:right;\\\">15</td> <td class=\\\"cell-2\\\" style=\\\"\\\">http://yourshot.nationalgeographic.com/photos/10396098</td></tr>\\n<tr><td class=\\\"cell-1\\\" style=\\\"text-align:right;\\\">12</td> <td class=\\\"cell-2\\\" style=\\\"\\\">http://yourshot.nationalgeographic.com/photos/10396698</td></tr>\\n<tr><td class=\\\"cell-1\\\" style=\\\"text-align:right;\\\">11</td> <td class=\\\"cell-2\\\" style=\\\"\\\">http://yourshot.nationalgeographic.com/photos/10383065</td></tr>\\n<tr><td class=\\\"cell-1\\\" style=\\\"text-align:right;\\\">11</td> <td class=\\\"cell-2\\\" style=\\\"\\\">http://yourshot.nationalgeographic.com/photos/10395656</td></tr>\\n<tr><td class=\\\"cell-1\\\" style=\\\"text-align:right;\\\">11</td> <td class=\\\"cell-2\\\" style=\\\"\\\">http://yourshot.nationalgeographic.com/photos/10397134</td></tr>\\n<tr><td class=\\\"cell-1\\\" style=\\\"text-align:right;\\\">11</td> <td class=\\\"cell-2\\\" style=\\\"\\\">http://yourshot.nationalgeographic.com/photos/10397081</td></tr>\\n<tr><td class=\\\"cell-1\\\" style=\\\"text-align:right;\\\">10</td> <td class=\\\"cell-2\\\" style=\\\"\\\">http://yourshot.nationalgeographic.com/photos/10385017</td></tr>\\n<tr><td class=\\\"cell-1\\\" style=\\\"text-align:right;\\\">9</td> <td class=\\\"cell-2\\\" style=\\\"\\\">http://yourshot.nationalgeographic.com/photos/10386965</td></tr>\\n<tr><td class=\\\"cell-1\\\" style=\\\"text-align:right;\\\">9</td> <td class=\\\"cell-2\\\" style=\\\"\\\">http://yourshot.nationalgeographic.com/photos/8633817</td></tr>\\n<tr><td class=\\\"cell-1\\\" style=\\\"text-align:right;\\\">9</td> <td class=\\\"cell-2\\\" style=\\\"\\\">http://yourshot.nationalgeographic.com/photos/10383563</td></tr>\\n    \\n    <tr><td class=\\\"cell-1\\\" style=\\\"text-align:right;\\\">9</td> <td class=\\\"cell-2\\\" style=\\\"\\\">http://yourshot.nationalgeographic.com/photos/10397152</td></tr>\\n<tr><td class=\\\"cell-1\\\" style=\\\"text-align:right;\\\">9</td> <td class=\\\"cell-2\\\" style=\\\"\\\">http://yourshot.nationalgeographic.com/photos/10397197</td></tr>\\n<tr><td class=\\\"cell-1\\\" style=\\\"text-align:right;\\\">9</td> <td class=\\\"cell-2\\\" style=\\\"\\\">http://m.yourshot.nationalgeographic.com/photos/8633817</td></tr>\\n<tr><td class=\\\"cell-1\\\" style=\\\"text-align:right;\\\">8</td> <td class=\\\"cell-2\\\" style=\\\"\\\">http://m.yourshot.nationalgeographic.com/photos/10373467</td></tr>\\n<tr><td class=\\\"cell-1\\\" style=\\\"text-align:right;\\\">8</td> <td class=\\\"cell-2\\\" style=\\\"\\\">http://yourshot.nationalgeographic.com/photos/10384403</td></tr>\\n<tr><td class=\\\"cell-1\\\" style=\\\"text-align:right;\\\">8</td> <td class=\\\"cell-2\\\" style=\\\"\\\">http://yourshot.nationalgeographic.com/photos/10397133</td></tr>\\n<tr><td class=\\\"cell-1\\\" style=\\\"text-align:right;\\\">8</td> <td class=\\\"cell-2\\\" style=\\\"\\\">http://yourshot.nationalgeographic.com/photos/10321953</td></tr>\\n<tr><td class=\\\"cell-1\\\" style=\\\"text-align:right;\\\">8</td> <td class=\\\"cell-2\\\" style=\\\"\\\">http://yourshot.nationalgeographic.com/photos/10388928</td></tr>\\n<tr><td class=\\\"cell-1\\\" style=\\\"text-align:right;\\\">7</td> <td class=\\\"cell-2\\\" style=\\\"\\\">http://yourshot.nationalgeographic.com/photos/10396094</td></tr>\\n<tr><td class=\\\"cell-1\\\" style=\\\"text-align:right;\\\">7</td> <td class=\\\"cell-2\\\" style=\\\"\\\">http://yourshot.nationalgeographic.com/photos/10396950</td></tr>\\n<tr><td class=\\\"cell-1\\\" style=\\\"text-align:right;\\\">7</td> <td class=\\\"cell-2\\\" style=\\\"\\\">http://yourshot.nationalgeographic.com/photos/10385106</td></tr>\\n<tr><td class=\\\"cell-1\\\" style=\\\"text-align:right;\\\">7</td> <td class=\\\"cell-2\\\" style=\\\"\\\">http://yourshot.nationalgeographic.com/photos/10397376</td></tr>\\n    </tbody>\\n\")"
      ]
     },
     "metadata": {},
     "output_type": "display_data"
    }
   ],
   "source": [
    "topPageViewsUDB(tv,UP,LV)\n",
    ";"
   ]
  },
  {
   "cell_type": "code",
   "execution_count": 9,
   "metadata": {
    "collapsed": false,
    "input_collapsed": false,
    "scrolled": true
   },
   "outputs": [
    {
     "data": {
      "text/html": [
       "<div class=\"dswbOutputText\"><h1 class=\"chart_title\" style=\"color:#ccc\">Top URL Page Views for Your Shot</h1><h3 class=\"chart_info\" style=\"color:#ccc\">June 8, 2017 11:59:00 to June 8, 2017 12:59:00 Local Time</h3><h3 class=\"chart_info\" style=\"color:#ccc\">URL: %yourshot.nationalgeographic.com/photos%</h3><h5 class=\"chart_lastCalled\" style=\"color:#ccc\">Run at June 11, 2017 20:10:53</h5></div>"
      ]
     },
     "metadata": {},
     "output_type": "display_data"
    },
    {
     "data": {
      "text/html": [
       "    <table  class=\"dataframe-table\">\n",
       "    <thead><tr><th class=\"cell-1\" style=\"\">Views</th> <th class=\"cell-2\" style=\"\">Url - With Grouping After Parameters Dropped</th></tr></thead>\n",
       "    <tbody>\n",
       "    <tr><td class=\"cell-1\" style=\"text-align:right;\">245</td> <td class=\"cell-2\" style=\"\">http://yourshot.nationalgeographic.com/photos/</td></tr>\n",
       "<tr><td class=\"cell-1\" style=\"text-align:right;\">74</td> <td class=\"cell-2\" style=\"\">http://m.yourshot.nationalgeographic.com/photos/</td></tr>\n",
       "<tr><td class=\"cell-1\" style=\"text-align:right;\">15</td> <td class=\"cell-2\" style=\"\">http://yourshot.nationalgeographic.com/photos/10396098/</td></tr>\n",
       "<tr><td class=\"cell-1\" style=\"text-align:right;\">12</td> <td class=\"cell-2\" style=\"\">http://yourshot.nationalgeographic.com/photos/10396698/</td></tr>\n",
       "<tr><td class=\"cell-1\" style=\"text-align:right;\">11</td> <td class=\"cell-2\" style=\"\">http://yourshot.nationalgeographic.com/photos/10397081/</td></tr>\n",
       "<tr><td class=\"cell-1\" style=\"text-align:right;\">11</td> <td class=\"cell-2\" style=\"\">http://yourshot.nationalgeographic.com/photos/10397134/</td></tr>\n",
       "<tr><td class=\"cell-1\" style=\"text-align:right;\">11</td> <td class=\"cell-2\" style=\"\">http://yourshot.nationalgeographic.com/photos/10395656/</td></tr>\n",
       "<tr><td class=\"cell-1\" style=\"text-align:right;\">11</td> <td class=\"cell-2\" style=\"\">http://yourshot.nationalgeographic.com/photos/10383065/</td></tr>\n",
       "<tr><td class=\"cell-1\" style=\"text-align:right;\">11</td> <td class=\"cell-2\" style=\"\">http://m.yourshot.nationalgeographic.com/photos/10003984/?ys_referrer=http%3A%2F%2Fm.facebook.com%2F</td></tr>\n",
       "<tr><td class=\"cell-1\" style=\"text-align:right;\">10</td> <td class=\"cell-2\" style=\"\">http://yourshot.nationalgeographic.com/photos/10385017/</td></tr>\n",
       "<tr><td class=\"cell-1\" style=\"text-align:right;\">9</td> <td class=\"cell-2\" style=\"\">http://yourshot.nationalgeographic.com/photos/10386965/</td></tr>\n",
       "<tr><td class=\"cell-1\" style=\"text-align:right;\">9</td> <td class=\"cell-2\" style=\"\">http://yourshot.nationalgeographic.com/photos/10397152/</td></tr>\n",
       "<tr><td class=\"cell-1\" style=\"text-align:right;\">9</td> <td class=\"cell-2\" style=\"\">http://yourshot.nationalgeographic.com/photos/10397197/</td></tr>\n",
       "    \n",
       "    <tr><td class=\"cell-1\" style=\"text-align:right;\">9</td> <td class=\"cell-2\" style=\"\">http://yourshot.nationalgeographic.com/photos/10383563/</td></tr>\n",
       "<tr><td class=\"cell-1\" style=\"text-align:right;\">8</td> <td class=\"cell-2\" style=\"\">http://yourshot.nationalgeographic.com/photos/10397133/</td></tr>\n",
       "<tr><td class=\"cell-1\" style=\"text-align:right;\">8</td> <td class=\"cell-2\" style=\"\">http://yourshot.nationalgeographic.com/photos/10388928/</td></tr>\n",
       "<tr><td class=\"cell-1\" style=\"text-align:right;\">8</td> <td class=\"cell-2\" style=\"\">http://yourshot.nationalgeographic.com/photos/8633817/</td></tr>\n",
       "<tr><td class=\"cell-1\" style=\"text-align:right;\">8</td> <td class=\"cell-2\" style=\"\">http://yourshot.nationalgeographic.com/photos/10384403/</td></tr>\n",
       "<tr><td class=\"cell-1\" style=\"text-align:right;\">8</td> <td class=\"cell-2\" style=\"\">http://yourshot.nationalgeographic.com/photos/10321953/</td></tr>\n",
       "<tr><td class=\"cell-1\" style=\"text-align:right;\">7</td> <td class=\"cell-2\" style=\"\">http://m.yourshot.nationalgeographic.com/photos/10373467/?ys_referrer=http%3A%2F%2Fm.facebook.com%2F</td></tr>\n",
       "<tr><td class=\"cell-1\" style=\"text-align:right;\">7</td> <td class=\"cell-2\" style=\"\">http://m.yourshot.nationalgeographic.com/photos/10003984/?ys_referrer=http%3A%2F%2Fm.facebook.com</td></tr>\n",
       "<tr><td class=\"cell-1\" style=\"text-align:right;\">7</td> <td class=\"cell-2\" style=\"\">http://yourshot.nationalgeographic.com/photos/10396950/</td></tr>\n",
       "<tr><td class=\"cell-1\" style=\"text-align:right;\">7</td> <td class=\"cell-2\" style=\"\">http://yourshot.nationalgeographic.com/photos/10396094/</td></tr>\n",
       "<tr><td class=\"cell-1\" style=\"text-align:right;\">7</td> <td class=\"cell-2\" style=\"\">http://yourshot.nationalgeographic.com/photos/10003984/</td></tr>\n",
       "<tr><td class=\"cell-1\" style=\"text-align:right;\">7</td> <td class=\"cell-2\" style=\"\">http://yourshot.nationalgeographic.com/photos/10397376/</td></tr>\n",
       "    </tbody>\n"
      ],
      "text/plain": [
       "HTML{UTF8String}(\"    <table  class=\\\"dataframe-table\\\">\\n    <thead><tr><th class=\\\"cell-1\\\" style=\\\"\\\">Views</th> <th class=\\\"cell-2\\\" style=\\\"\\\">Url - With Grouping After Parameters Dropped</th></tr></thead>\\n    <tbody>\\n    <tr><td class=\\\"cell-1\\\" style=\\\"text-align:right;\\\">245</td> <td class=\\\"cell-2\\\" style=\\\"\\\">http://yourshot.nationalgeographic.com/photos/</td></tr>\\n<tr><td class=\\\"cell-1\\\" style=\\\"text-align:right;\\\">74</td> <td class=\\\"cell-2\\\" style=\\\"\\\">http://m.yourshot.nationalgeographic.com/photos/</td></tr>\\n<tr><td class=\\\"cell-1\\\" style=\\\"text-align:right;\\\">15</td> <td class=\\\"cell-2\\\" style=\\\"\\\">http://yourshot.nationalgeographic.com/photos/10396098/</td></tr>\\n<tr><td class=\\\"cell-1\\\" style=\\\"text-align:right;\\\">12</td> <td class=\\\"cell-2\\\" style=\\\"\\\">http://yourshot.nationalgeographic.com/photos/10396698/</td></tr>\\n<tr><td class=\\\"cell-1\\\" style=\\\"text-align:right;\\\">11</td> <td class=\\\"cell-2\\\" style=\\\"\\\">http://yourshot.nationalgeographic.com/photos/10397081/</td></tr>\\n<tr><td class=\\\"cell-1\\\" style=\\\"text-align:right;\\\">11</td> <td class=\\\"cell-2\\\" style=\\\"\\\">http://yourshot.nationalgeographic.com/photos/10397134/</td></tr>\\n<tr><td class=\\\"cell-1\\\" style=\\\"text-align:right;\\\">11</td> <td class=\\\"cell-2\\\" style=\\\"\\\">http://yourshot.nationalgeographic.com/photos/10395656/</td></tr>\\n<tr><td class=\\\"cell-1\\\" style=\\\"text-align:right;\\\">11</td> <td class=\\\"cell-2\\\" style=\\\"\\\">http://yourshot.nationalgeographic.com/photos/10383065/</td></tr>\\n<tr><td class=\\\"cell-1\\\" style=\\\"text-align:right;\\\">11</td> <td class=\\\"cell-2\\\" style=\\\"\\\">http://m.yourshot.nationalgeographic.com/photos/10003984/?ys_referrer=http%3A%2F%2Fm.facebook.com%2F</td></tr>\\n<tr><td class=\\\"cell-1\\\" style=\\\"text-align:right;\\\">10</td> <td class=\\\"cell-2\\\" style=\\\"\\\">http://yourshot.nationalgeographic.com/photos/10385017/</td></tr>\\n<tr><td class=\\\"cell-1\\\" style=\\\"text-align:right;\\\">9</td> <td class=\\\"cell-2\\\" style=\\\"\\\">http://yourshot.nationalgeographic.com/photos/10386965/</td></tr>\\n<tr><td class=\\\"cell-1\\\" style=\\\"text-align:right;\\\">9</td> <td class=\\\"cell-2\\\" style=\\\"\\\">http://yourshot.nationalgeographic.com/photos/10397152/</td></tr>\\n<tr><td class=\\\"cell-1\\\" style=\\\"text-align:right;\\\">9</td> <td class=\\\"cell-2\\\" style=\\\"\\\">http://yourshot.nationalgeographic.com/photos/10397197/</td></tr>\\n    \\n    <tr><td class=\\\"cell-1\\\" style=\\\"text-align:right;\\\">9</td> <td class=\\\"cell-2\\\" style=\\\"\\\">http://yourshot.nationalgeographic.com/photos/10383563/</td></tr>\\n<tr><td class=\\\"cell-1\\\" style=\\\"text-align:right;\\\">8</td> <td class=\\\"cell-2\\\" style=\\\"\\\">http://yourshot.nationalgeographic.com/photos/10397133/</td></tr>\\n<tr><td class=\\\"cell-1\\\" style=\\\"text-align:right;\\\">8</td> <td class=\\\"cell-2\\\" style=\\\"\\\">http://yourshot.nationalgeographic.com/photos/10388928/</td></tr>\\n<tr><td class=\\\"cell-1\\\" style=\\\"text-align:right;\\\">8</td> <td class=\\\"cell-2\\\" style=\\\"\\\">http://yourshot.nationalgeographic.com/photos/8633817/</td></tr>\\n<tr><td class=\\\"cell-1\\\" style=\\\"text-align:right;\\\">8</td> <td class=\\\"cell-2\\\" style=\\\"\\\">http://yourshot.nationalgeographic.com/photos/10384403/</td></tr>\\n<tr><td class=\\\"cell-1\\\" style=\\\"text-align:right;\\\">8</td> <td class=\\\"cell-2\\\" style=\\\"\\\">http://yourshot.nationalgeographic.com/photos/10321953/</td></tr>\\n<tr><td class=\\\"cell-1\\\" style=\\\"text-align:right;\\\">7</td> <td class=\\\"cell-2\\\" style=\\\"\\\">http://m.yourshot.nationalgeographic.com/photos/10373467/?ys_referrer=http%3A%2F%2Fm.facebook.com%2F</td></tr>\\n<tr><td class=\\\"cell-1\\\" style=\\\"text-align:right;\\\">7</td> <td class=\\\"cell-2\\\" style=\\\"\\\">http://m.yourshot.nationalgeographic.com/photos/10003984/?ys_referrer=http%3A%2F%2Fm.facebook.com</td></tr>\\n<tr><td class=\\\"cell-1\\\" style=\\\"text-align:right;\\\">7</td> <td class=\\\"cell-2\\\" style=\\\"\\\">http://yourshot.nationalgeographic.com/photos/10396950/</td></tr>\\n<tr><td class=\\\"cell-1\\\" style=\\\"text-align:right;\\\">7</td> <td class=\\\"cell-2\\\" style=\\\"\\\">http://yourshot.nationalgeographic.com/photos/10396094/</td></tr>\\n<tr><td class=\\\"cell-1\\\" style=\\\"text-align:right;\\\">7</td> <td class=\\\"cell-2\\\" style=\\\"\\\">http://yourshot.nationalgeographic.com/photos/10003984/</td></tr>\\n<tr><td class=\\\"cell-1\\\" style=\\\"text-align:right;\\\">7</td> <td class=\\\"cell-2\\\" style=\\\"\\\">http://yourshot.nationalgeographic.com/photos/10397376/</td></tr>\\n    </tbody>\\n\")"
      ]
     },
     "metadata": {},
     "output_type": "display_data"
    }
   ],
   "source": [
    "topUrlPageViewsUDB(tv,UP,LV)\n",
    ";"
   ]
  },
  {
   "cell_type": "code",
   "execution_count": 12,
   "metadata": {
    "collapsed": false,
    "input_collapsed": false
   },
   "outputs": [
    {
     "ename": "LoadError",
     "evalue": "UndefVarError: chartTopPageResourcesSummary not defined",
     "output_type": "error",
     "traceback": [
      "UndefVarError: chartTopPageResourcesSummary not defined",
      ""
     ]
    }
   ],
   "source": [
    "methods(chartTopPageResourcesSummary)"
   ]
  },
  {
   "cell_type": "code",
   "execution_count": 11,
   "metadata": {
    "collapsed": false,
    "input_collapsed": false,
    "scrolled": false
   },
   "outputs": [
    {
     "name": "stdout",
     "output_type": "stream",
     "text": [
      "chartTop LocalTable Exception UndefVarError(:chartTopPageResourcesSummary)\n"
     ]
    },
    {
     "data": {
      "text/plain": [
       "\"beacons_4744_URL_Details_view_prod\""
      ]
     },
     "execution_count": 11,
     "metadata": {},
     "output_type": "execute_result"
    }
   ],
   "source": [
    "#fail thresholdValues = [1000, 10000, 100000]\n",
    "#fail chartRes = chartResponseTimesVsTargets(startTime, endTime, datePart, thresholdValues)\n",
    "setTable(UP.rtView, tableType = \"RESOURCE_TABLE\")\n",
    "try\n",
    "    chartRes = chartTopPageResourcesSummary(tv.startTimeUTC, tv.endTimeUTC, beaconTable=UP.btView, resourceTable=UP.rtView,n=10,minPercentage=0.05)\n",
    "    display(chartRes[1:20,:])\n",
    "catch y\n",
    "    println(\"chartTop LocalTable Exception \",y)\n",
    "end\n",
    "\n",
    "setTable(UP.btView)\n"
   ]
  },
  {
   "cell_type": "code",
   "execution_count": null,
   "metadata": {
    "collapsed": false,
    "input_collapsed": false
   },
   "outputs": [],
   "source": [
    "chartMedianLoadTimesByDimension(tv.startTimeUTC,tv.endTimeUTC,dimension=:url,minPercentage=0.1)\n",
    "chartMedianLoadTimesByDimension(tv.startTimeUTC,tv.endTimeUTC,dimension=:params_u,minPercentage=0.1)"
   ]
  },
  {
   "cell_type": "code",
   "execution_count": null,
   "metadata": {
    "collapsed": false,
    "input_collapsed": false,
    "scrolled": false
   },
   "outputs": [],
   "source": [
    "setTable(UP.rtView, tableType = \"RESOURCE_TABLE\")\n",
    "chartRes = chartCacheHitRatioByUrl(tv.startTimeUTC, tv.endTimeUTC, minPercentage=0.1)\n",
    "setTable(UP.btView)\n",
    "display(chartRes)"
   ]
  },
  {
   "cell_type": "code",
   "execution_count": null,
   "metadata": {
    "collapsed": false,
    "input_collapsed": false,
    "scrolled": false
   },
   "outputs": [],
   "source": [
    "#setTable(localTableRt, tableType = \"RESOURCE_TABLE\")\n",
    "#chartTopPageResourcesSummary(startTime, endTime)\n",
    "#chartTopPageResourcesSummary(startTime, endTime, datepart = datePart)\n",
    "#setTable(localTable)\n",
    "#display(chartRes)\n"
   ]
  },
  {
   "cell_type": "code",
   "execution_count": null,
   "metadata": {
    "collapsed": false,
    "input_collapsed": false,
    "scrolled": false
   },
   "outputs": [],
   "source": [
    "setTable(UP.rtView, tableType = \"RESOURCE_TABLE\")\n",
    "chartRes = chartResourceResponseTimeDistribution(tv.startTimeUTC, tv.endTimeUTC,url=UP.urlRegEx)\n",
    "setTable(UP.btView)\n",
    "display(chartRes)"
   ]
  },
  {
   "cell_type": "code",
   "execution_count": null,
   "metadata": {
    "collapsed": false,
    "input_collapsed": false
   },
   "outputs": [],
   "source": [
    "setTable(UP.rtView, tableType = \"RESOURCE_TABLE\")\n",
    "#chartRes = chartResourceResponseTimeDistribution(startTime, endTime,url=\"http://phenomena.nationalgeographic.com/files/2016/05/BH91DH.jpg\")\n",
    "chartRes = chartResourceResponseTimeDistribution(tv.startTimeUTC, tv.endTimeUTC)\n",
    "setTable(UP.btView)\n",
    "display(chartRes)"
   ]
  },
  {
   "cell_type": "code",
   "execution_count": null,
   "metadata": {
    "collapsed": false,
    "input_collapsed": false,
    "scrolled": false
   },
   "outputs": [],
   "source": [
    "chartPercentageOfBeaconsBelowThresholdStackedBar(tv.startTimeUTC, tv.endTimeUTC, tv.datePart; pageGroup =UP.pageGroup, threshold = 6000, url=UP.urlRegEx)"
   ]
  },
  {
   "cell_type": "code",
   "execution_count": null,
   "metadata": {
    "collapsed": false,
    "input_collapsed": false,
    "scrolled": false
   },
   "outputs": [],
   "source": [
    "chartBouncesVsLoadTimes(tv.startTimeUTC, tv.endTimeUTC, url=UP.urlFull)\n",
    "#chartBouncesVsLoadTimes(startTime, endTime)"
   ]
  },
  {
   "cell_type": "markdown",
   "metadata": {},
   "source": [
    "***\n",
    "\n",
    "##Examine Load Times\n",
    "\n",
    "***"
   ]
  },
  {
   "cell_type": "code",
   "execution_count": null,
   "metadata": {
    "collapsed": false,
    "input_collapsed": false
   },
   "outputs": [],
   "source": [
    "setTable(UP.rtView, tableType = \"RESOURCE_TABLE\")\n",
    "responseDist = getResourceResponseTimeDistribution(tv.startTimeUTC,tv.endTimeUTC, n=15, url=UP.urlFull)\n",
    "setTable(UP.btView)\n",
    "display(responseDist)"
   ]
  },
  {
   "cell_type": "code",
   "execution_count": null,
   "metadata": {
    "collapsed": false,
    "input_collapsed": false,
    "scrolled": false
   },
   "outputs": [],
   "source": [
    "#localTableRtDF[Bool[ismatch(r\".*transamerica.*\",x) for x in localTableRtDF[:url]],:]"
   ]
  },
  {
   "cell_type": "code",
   "execution_count": null,
   "metadata": {
    "collapsed": false,
    "input_collapsed": false,
    "scrolled": false
   },
   "outputs": [],
   "source": [
    "#localTableRtDF[Bool[ismatch(r\".*goldengatefog.*\",x) for x in localTableRtDF[:url]],:]"
   ]
  },
  {
   "cell_type": "code",
   "execution_count": null,
   "metadata": {
    "collapsed": false,
    "input_collapsed": false,
    "scrolled": false
   },
   "outputs": [],
   "source": [
    "perfsessionLength = getAggregateSessionLengthAndDurationByLoadTime(tv.startTimeUTC, tv.endTimeUTC, url=UP.urlFull)\n",
    "c3 = drawC3Viz(perfsessionLength; columnNames=[:load_time,:total,:avg_length], axisLabels=[\"Page Load Times\",\"Completed Sessions\", \"Average Session Length\"],dataNames=[\"Completed Sessions\", \n",
    "    \"Average Session Length\", \"Average Session Duration\"], mPulseWidget=false, chart_title=\"Top URL Page Load for $(productPageGroup) Page Group\", y2Data=[\"data2\"], vizTypes=[\"area\",\"line\"])\n",
    ";"
   ]
  },
  {
   "cell_type": "code",
   "execution_count": null,
   "metadata": {
    "collapsed": false,
    "input_collapsed": false,
    "scrolled": false
   },
   "outputs": [],
   "source": [
    "#chartLoadTimes(startTime, endTime, :minute, pageGroup=productPageGroup)\n",
    "#chartLoadTimes(startTime, endTime, :minute)\n",
    "\n",
    "chartMedianLoadTimesByDimension(tv.startTimeUTC, tv.endTimeUTC; dimension=:user_agent_device_type, n=15, orderBy=\"frontend\", minPercentage=0.001)"
   ]
  },
  {
   "cell_type": "code",
   "execution_count": null,
   "metadata": {
    "collapsed": false,
    "input_collapsed": false,
    "scrolled": false
   },
   "outputs": [],
   "source": [
    "chartMedianLoadTimesByDimension(tv.startTimeUTC,tv.endTimeUTC,dimension=:geo_cc,minPercentage=2.5,n=10)"
   ]
  },
  {
   "cell_type": "markdown",
   "metadata": {},
   "source": [
    "***\n",
    "\n",
    "## Who Is Using This URL\n",
    "\n",
    "***"
   ]
  },
  {
   "cell_type": "code",
   "execution_count": null,
   "metadata": {
    "collapsed": false,
    "input_collapsed": false
   },
   "outputs": [],
   "source": [
    "localTable = UP.btView\n",
    "productPageGroup = UP.pageGroup\n",
    "customRefPGD()"
   ]
  },
  {
   "cell_type": "code",
   "execution_count": null,
   "metadata": {
    "collapsed": false,
    "input_collapsed": false,
    "scrolled": false
   },
   "outputs": [],
   "source": [
    "stdRefPGD()"
   ]
  },
  {
   "cell_type": "code",
   "execution_count": null,
   "metadata": {
    "collapsed": false,
    "input_collapsed": false,
    "scrolled": false
   },
   "outputs": [],
   "source": [
    "\n",
    "chartMedianLoadTimesByDimension(tv.startTimeUTC,tv.endTimeUTC,dimension=:http_referrer,minPercentage=0.5)\n",
    "t1 = getMedianLoadTimesByDimension(tv.startTimeUTC,tv.endTimeUTC,dimension=:http_referrer,minPercentage=0.5)\n",
    "display(t1)\n",
    "\n",
    "chartMedianLoadTimesByDimension(tv.startTimeUTC,tv.endTimeUTC,dimension=:params_r,minPercentage=0.5)\n",
    "t2 = getMedianLoadTimesByDimension(tv.startTimeUTC,tv.endTimeUTC,dimension=:params_r,minPercentage=0.5)\n",
    "display(t2)\n",
    "\n"
   ]
  },
  {
   "cell_type": "markdown",
   "metadata": {},
   "source": [
    "***\n",
    "\n",
    "## How are the page views being used\n",
    "\n",
    "***"
   ]
  },
  {
   "cell_type": "code",
   "execution_count": null,
   "metadata": {
    "collapsed": false,
    "input_collapsed": false,
    "scrolled": false
   },
   "outputs": [],
   "source": [
    "treemapsPGD()"
   ]
  },
  {
   "cell_type": "code",
   "execution_count": null,
   "metadata": {
    "collapsed": false,
    "input_collapsed": false,
    "scrolled": false
   },
   "outputs": [],
   "source": [
    "result10 = getAllPaths(tv.startTimeUTC, tv.endTimeUTC; n=30, f=getAbandonPaths,useurls=true);\n",
    "drawSunburst(result10[1]; totalPaths=result10[3])"
   ]
  },
  {
   "cell_type": "code",
   "execution_count": null,
   "metadata": {
    "collapsed": false,
    "input_collapsed": false
   },
   "outputs": [],
   "source": [
    "q = query(\"\"\" drop view if exists $(UP.btView);\"\"\")\n",
    "q = query(\"\"\" drop view if exists $(UP.rtView);\"\"\")\n",
    ";"
   ]
  },
  {
   "cell_type": "code",
   "execution_count": null,
   "metadata": {
    "collapsed": true,
    "input_collapsed": true
   },
   "outputs": [],
   "source": []
  }
 ],
 "metadata": {
  "chart_version": "1.0.0",
  "kernelspec": {
   "display_name": "Julia 0.4.7",
   "language": "julia",
   "name": "julia-0.4"
  },
  "language_info": {
   "file_extension": ".jl",
   "mimetype": "application/julia",
   "name": "julia",
   "version": "0.4.7"
  },
  "library_version": "1.0.0",
  "notebook_uuid": "167136ea-23c4-41b2-a2e1-ba27c3ef7e37",
  "readOnly": false
 },
 "nbformat": 4,
 "nbformat_minor": 0
}
