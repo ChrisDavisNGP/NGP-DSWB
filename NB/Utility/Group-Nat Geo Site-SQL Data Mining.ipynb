{
 "cells": [
  {
   "cell_type": "code",
   "execution_count": 1,
   "metadata": {
    "collapsed": false,
    "input_collapsed": false
   },
   "outputs": [
    {
     "name": "stdout",
     "output_type": "stream",
     "text": [
      "Redshift endpoint set: 2017-06-13T11:30:55\n"
     ]
    },
    {
     "data": {
      "text/plain": [
       "\"beacons_4744\""
      ]
     },
     "execution_count": 1,
     "metadata": {},
     "output_type": "execute_result"
    }
   ],
   "source": [
    "using ODBC\n",
    "using DataFrames\n",
    "using DSWB\n",
    "using Formatting\n",
    "\n",
    "dsn = \"dswb-natgeo\" # Redshift endpoint\n",
    "table = \"beacons_4744\" # beacon table name\n",
    "tableRt = \"beacons_4744_rt\"\n",
    "\n",
    "# Connect to Beacon Data\n",
    "setRedshiftEndpoint(dsn)\n",
    "setTable(table)"
   ]
  },
  {
   "cell_type": "code",
   "execution_count": 2,
   "metadata": {
    "collapsed": false,
    "input_collapsed": false,
    "scrolled": true
   },
   "outputs": [
    {
     "name": "stdout",
     "output_type": "stream",
     "text": [
      "June 5, 2017 23:59:00 to June 12, 2017 23:59:00 Local Time\n",
      "June 6, 2017 03:59:00 to June 13, 2017 03:59:00 UTC Time\n"
     ]
    }
   ],
   "source": [
    "include(\"/data/notebook_home/Production/Lib/Include-Package-v1.0.jl\")\n",
    "include(\"/data/notebook_home/Production/Bodies/Group-NatGeo-Site-Sql-Data-Mining-Body-v1.0.jl\")\n",
    "\n",
    "#timeVariables(2017,6,8,10,59,2017,6,8,12,59)\n",
    "weeklyTimeVariables(days=7)\n",
    "#yesterdayTimeVariables()\n",
    ";"
   ]
  },
  {
   "cell_type": "code",
   "execution_count": 3,
   "metadata": {
    "collapsed": false,
    "input_collapsed": false
   },
   "outputs": [],
   "source": [
    "UP = UrlParamsInit()\n",
    "UP.beaconTable = table   #table\n",
    "UP.resourceTable = tableRt\n",
    "UP.btView = \"$(table)_sql_nat_geo_site_view\" #localtable\n",
    "UP.rtView = \"$(tableRt)_sql_nat_geo_site_view\" #localtableRt\n",
    "UP.pageGroup = \"Nat Geo Site\"   #productPageGroup\n",
    "UP.urlRegEx = \"%\"   #localUrl\n",
    "UP.deviceType = \"%\"\n",
    "\n",
    "SG = SoastaGraphsInit()\n",
    "customer = \"Nat Geo\" \n",
    "SG.customer = customer\n",
    "\n",
    "SP = ShowParamsInit()\n",
    "SP.debugLevel = 10;\n",
    "SP.debug = true;\n",
    ";\n",
    "\n",
    "LV = LocalVars(0)\n",
    "LV.linesOutput = 25\n",
    ";\n",
    "\n"
   ]
  },
  {
   "cell_type": "code",
   "execution_count": 4,
   "metadata": {
    "collapsed": false,
    "input_collapsed": false
   },
   "outputs": [
    {
     "name": "stdout",
     "output_type": "stream",
     "text": [
      "beacons_4744_sql_nat_geo_site_view count is 16205\n"
     ]
    }
   ],
   "source": [
    "defaultTableGNGSSDM(tv,UP)\n",
    ";"
   ]
  },
  {
   "cell_type": "code",
   "execution_count": 5,
   "metadata": {
    "collapsed": false,
    "input_collapsed": false
   },
   "outputs": [
    {
     "data": {
      "text/html": [
       "    <table  class=\"dataframe-table\">\n",
       "    <thead><tr><th class=\"cell-1\" style=\"\">url</th> <th class=\"cell-2\" style=\"\">count</th></tr></thead>\n",
       "    <tbody>\n",
       "    <tr><td class=\"cell-1\" style=\"\">http://www.nationalgeographic.com/</td> <td class=\"cell-2\" style=\"text-align:right;\">16,205</td></tr>\n",
       "    \n",
       "    \n",
       "    </tbody>\n"
      ],
      "text/plain": [
       "HTML{UTF8String}(\"    <table  class=\\\"dataframe-table\\\">\\n    <thead><tr><th class=\\\"cell-1\\\" style=\\\"\\\">url</th> <th class=\\\"cell-2\\\" style=\\\"\\\">count</th></tr></thead>\\n    <tbody>\\n    <tr><td class=\\\"cell-1\\\" style=\\\"\\\">http://www.nationalgeographic.com/</td> <td class=\\\"cell-2\\\" style=\\\"text-align:right;\\\">16,205</td></tr>\\n    \\n    \\n    </tbody>\\n\")"
      ]
     },
     "metadata": {},
     "output_type": "display_data"
    }
   ],
   "source": [
    "test1GNGSSDM(UP,LV)\n",
    ";"
   ]
  },
  {
   "cell_type": "code",
   "execution_count": 6,
   "metadata": {
    "collapsed": false,
    "input_collapsed": false,
    "scrolled": false
   },
   "outputs": [
    {
     "data": {
      "text/html": [
       "    <table  class=\"dataframe-table\">\n",
       "    <thead><tr><th class=\"cell-1\" style=\"\">count</th> <th class=\"cell-2\" style=\"\">url</th> <th class=\"cell-3\" style=\"\">params u</th></tr></thead>\n",
       "    <tbody>\n",
       "    <tr><td class=\"cell-1\" style=\"text-align:right;\">5,358</td> <td class=\"cell-2\" style=\"\">http://www.nationalgeographic.com/</td> <td class=\"cell-3\" style=\"\">http://www.nationalgeographic.com/maps/</td></tr>\n",
       "<tr><td class=\"cell-1\" style=\"text-align:right;\">2,300</td> <td class=\"cell-2\" style=\"\">http://www.nationalgeographic.com/</td> <td class=\"cell-3\" style=\"\">http://www.nationalgeographic.com/?isfromtac=1</td></tr>\n",
       "<tr><td class=\"cell-1\" style=\"text-align:right;\">444</td> <td class=\"cell-2\" style=\"\">http://www.nationalgeographic.com/</td> <td class=\"cell-3\" style=\"\">http://www.nationalgeographic.com/honeyhunters360/</td></tr>\n",
       "<tr><td class=\"cell-1\" style=\"text-align:right;\">255</td> <td class=\"cell-2\" style=\"\">http://www.nationalgeographic.com/</td> <td class=\"cell-3\" style=\"\">http://www.nationalgeographic.com/</td></tr>\n",
       "<tr><td class=\"cell-1\" style=\"text-align:right;\">245</td> <td class=\"cell-2\" style=\"\">http://www.nationalgeographic.com/</td> <td class=\"cell-3\" style=\"\">http://www.nationalgeographic.com/astrobiology/distant-oasis/index-mobile.html</td></tr>\n",
       "<tr><td class=\"cell-1\" style=\"text-align:right;\">217</td> <td class=\"cell-2\" style=\"\">http://www.nationalgeographic.com/</td> <td class=\"cell-3\" style=\"\">http://www.nationalgeographic.com/uk/</td></tr>\n",
       "<tr><td class=\"cell-1\" style=\"text-align:right;\">203</td> <td class=\"cell-2\" style=\"\">http://www.nationalgeographic.com/</td> <td class=\"cell-3\" style=\"\">http://www.nationalgeographic.com/backend-proxy/geobee/quiz/today/</td></tr>\n",
       "<tr><td class=\"cell-1\" style=\"text-align:right;\">180</td> <td class=\"cell-2\" style=\"\">http://www.nationalgeographic.com/</td> <td class=\"cell-3\" style=\"\">http://www.nationalgeographic.com/astrobiology/distant-oasis/</td></tr>\n",
       "<tr><td class=\"cell-1\" style=\"text-align:right;\">141</td> <td class=\"cell-2\" style=\"\">http://www.nationalgeographic.com/</td> <td class=\"cell-3\" style=\"\">http://www.nationalgeographic.com/complete-national-geographic/</td></tr>\n",
       "<tr><td class=\"cell-1\" style=\"text-align:right;\">126</td> <td class=\"cell-2\" style=\"\">http://www.nationalgeographic.com/</td> <td class=\"cell-3\" style=\"\">http://www.nationalgeographic.com/annual-report-2014/</td></tr>\n",
       "<tr><td class=\"cell-1\" style=\"text-align:right;\">121</td> <td class=\"cell-2\" style=\"\">http://www.nationalgeographic.com/</td> <td class=\"cell-3\" style=\"\">http://www.nationalgeographic.com/photo-of-the-day/</td></tr>\n",
       "<tr><td class=\"cell-1\" style=\"text-align:right;\">111</td> <td class=\"cell-2\" style=\"\">http://www.nationalgeographic.com/</td> <td class=\"cell-3\" style=\"\">http://www.nationalgeographic.com/maps/geotourism/</td></tr>\n",
       "<tr><td class=\"cell-1\" style=\"text-align:right;\">110</td> <td class=\"cell-2\" style=\"\">http://www.nationalgeographic.com/</td> <td class=\"cell-3\" style=\"\">http://www.nationalgeographic.com/maps/geotourism/about/</td></tr>\n",
       "    \n",
       "    <tr><td class=\"cell-1\" style=\"text-align:right;\">107</td> <td class=\"cell-2\" style=\"\">http://www.nationalgeographic.com/</td> <td class=\"cell-3\" style=\"\">http://www.nationalgeographic.com/redirect/category_redirect/</td></tr>\n",
       "<tr><td class=\"cell-1\" style=\"text-align:right;\">98</td> <td class=\"cell-2\" style=\"\">http://www.nationalgeographic.com/</td> <td class=\"cell-3\" style=\"\">http://www.nationalgeographic.com/maps/about</td></tr>\n",
       "<tr><td class=\"cell-1\" style=\"text-align:right;\">93</td> <td class=\"cell-2\" style=\"\">http://www.nationalgeographic.com/</td> <td class=\"cell-3\" style=\"\">http://www.nationalgeographic.com/visitpandora/?CMP=BAC-CRT%7C10650499%7C1150004%7C142172789%7C82258530%7C1413240</td></tr>\n",
       "<tr><td class=\"cell-1\" style=\"text-align:right;\">91</td> <td class=\"cell-2\" style=\"\">http://www.nationalgeographic.com/</td> <td class=\"cell-3\" style=\"\">http://www.nationalgeographic.com/discoverjapancontest/</td></tr>\n",
       "<tr><td class=\"cell-1\" style=\"text-align:right;\">88</td> <td class=\"cell-2\" style=\"\">http://www.nationalgeographic.com/</td> <td class=\"cell-3\" style=\"\">http://www.nationalgeographic.com/content/science/objects/collections/hubble</td></tr>\n",
       "<tr><td class=\"cell-1\" style=\"text-align:right;\">87</td> <td class=\"cell-2\" style=\"\">http://www.nationalgeographic.com/</td> <td class=\"cell-3\" style=\"\">http://www.nationalgeographic.com/projects/magazines/l/multisubs/kids-sem.html</td></tr>\n",
       "<tr><td class=\"cell-1\" style=\"text-align:right;\">87</td> <td class=\"cell-2\" style=\"\">http://www.nationalgeographic.com/</td> <td class=\"cell-3\" style=\"\">http://www.nationalgeographic.com/visitpandora/?CMP=BAC-CRT%7C10650499%7C1150004%7C142174909%7C82258530%7C1413241</td></tr>\n",
       "<tr><td class=\"cell-1\" style=\"text-align:right;\">85</td> <td class=\"cell-2\" style=\"\">http://www.nationalgeographic.com/</td> <td class=\"cell-3\" style=\"\">http://www.nationalgeographic.com/astrobiology/</td></tr>\n",
       "<tr><td class=\"cell-1\" style=\"text-align:right;\">84</td> <td class=\"cell-2\" style=\"\">http://www.nationalgeographic.com/</td> <td class=\"cell-3\" style=\"\">http://www.nationalgeographic.com/maps/national-geographics-cartogaphic-typefaces/</td></tr>\n",
       "<tr><td class=\"cell-1\" style=\"text-align:right;\">79</td> <td class=\"cell-2\" style=\"\">http://www.nationalgeographic.com/</td> <td class=\"cell-3\" style=\"\">http://www.nationalgeographic.com/corrections/</td></tr>\n",
       "<tr><td class=\"cell-1\" style=\"text-align:right;\">74</td> <td class=\"cell-2\" style=\"\">http://www.nationalgeographic.com/</td> <td class=\"cell-3\" style=\"\">http://www.nationalgeographic.com/visitpandora/?CMP=BAC-CRT|10650499|1150004|142172789|82258530|1413240</td></tr>\n",
       "<tr><td class=\"cell-1\" style=\"text-align:right;\">66</td> <td class=\"cell-2\" style=\"\">http://www.nationalgeographic.com/</td> <td class=\"cell-3\" style=\"\">http://www.nationalgeographic.com/americannile/</td></tr>\n",
       "    </tbody>\n"
      ],
      "text/plain": [
       "HTML{UTF8String}(\"    <table  class=\\\"dataframe-table\\\">\\n    <thead><tr><th class=\\\"cell-1\\\" style=\\\"\\\">count</th> <th class=\\\"cell-2\\\" style=\\\"\\\">url</th> <th class=\\\"cell-3\\\" style=\\\"\\\">params u</th></tr></thead>\\n    <tbody>\\n    <tr><td class=\\\"cell-1\\\" style=\\\"text-align:right;\\\">5,358</td> <td class=\\\"cell-2\\\" style=\\\"\\\">http://www.nationalgeographic.com/</td> <td class=\\\"cell-3\\\" style=\\\"\\\">http://www.nationalgeographic.com/maps/</td></tr>\\n<tr><td class=\\\"cell-1\\\" style=\\\"text-align:right;\\\">2,300</td> <td class=\\\"cell-2\\\" style=\\\"\\\">http://www.nationalgeographic.com/</td> <td class=\\\"cell-3\\\" style=\\\"\\\">http://www.nationalgeographic.com/?isfromtac=1</td></tr>\\n<tr><td class=\\\"cell-1\\\" style=\\\"text-align:right;\\\">444</td> <td class=\\\"cell-2\\\" style=\\\"\\\">http://www.nationalgeographic.com/</td> <td class=\\\"cell-3\\\" style=\\\"\\\">http://www.nationalgeographic.com/honeyhunters360/</td></tr>\\n<tr><td class=\\\"cell-1\\\" style=\\\"text-align:right;\\\">255</td> <td class=\\\"cell-2\\\" style=\\\"\\\">http://www.nationalgeographic.com/</td> <td class=\\\"cell-3\\\" style=\\\"\\\">http://www.nationalgeographic.com/</td></tr>\\n<tr><td class=\\\"cell-1\\\" style=\\\"text-align:right;\\\">245</td> <td class=\\\"cell-2\\\" style=\\\"\\\">http://www.nationalgeographic.com/</td> <td class=\\\"cell-3\\\" style=\\\"\\\">http://www.nationalgeographic.com/astrobiology/distant-oasis/index-mobile.html</td></tr>\\n<tr><td class=\\\"cell-1\\\" style=\\\"text-align:right;\\\">217</td> <td class=\\\"cell-2\\\" style=\\\"\\\">http://www.nationalgeographic.com/</td> <td class=\\\"cell-3\\\" style=\\\"\\\">http://www.nationalgeographic.com/uk/</td></tr>\\n<tr><td class=\\\"cell-1\\\" style=\\\"text-align:right;\\\">203</td> <td class=\\\"cell-2\\\" style=\\\"\\\">http://www.nationalgeographic.com/</td> <td class=\\\"cell-3\\\" style=\\\"\\\">http://www.nationalgeographic.com/backend-proxy/geobee/quiz/today/</td></tr>\\n<tr><td class=\\\"cell-1\\\" style=\\\"text-align:right;\\\">180</td> <td class=\\\"cell-2\\\" style=\\\"\\\">http://www.nationalgeographic.com/</td> <td class=\\\"cell-3\\\" style=\\\"\\\">http://www.nationalgeographic.com/astrobiology/distant-oasis/</td></tr>\\n<tr><td class=\\\"cell-1\\\" style=\\\"text-align:right;\\\">141</td> <td class=\\\"cell-2\\\" style=\\\"\\\">http://www.nationalgeographic.com/</td> <td class=\\\"cell-3\\\" style=\\\"\\\">http://www.nationalgeographic.com/complete-national-geographic/</td></tr>\\n<tr><td class=\\\"cell-1\\\" style=\\\"text-align:right;\\\">126</td> <td class=\\\"cell-2\\\" style=\\\"\\\">http://www.nationalgeographic.com/</td> <td class=\\\"cell-3\\\" style=\\\"\\\">http://www.nationalgeographic.com/annual-report-2014/</td></tr>\\n<tr><td class=\\\"cell-1\\\" style=\\\"text-align:right;\\\">121</td> <td class=\\\"cell-2\\\" style=\\\"\\\">http://www.nationalgeographic.com/</td> <td class=\\\"cell-3\\\" style=\\\"\\\">http://www.nationalgeographic.com/photo-of-the-day/</td></tr>\\n<tr><td class=\\\"cell-1\\\" style=\\\"text-align:right;\\\">111</td> <td class=\\\"cell-2\\\" style=\\\"\\\">http://www.nationalgeographic.com/</td> <td class=\\\"cell-3\\\" style=\\\"\\\">http://www.nationalgeographic.com/maps/geotourism/</td></tr>\\n<tr><td class=\\\"cell-1\\\" style=\\\"text-align:right;\\\">110</td> <td class=\\\"cell-2\\\" style=\\\"\\\">http://www.nationalgeographic.com/</td> <td class=\\\"cell-3\\\" style=\\\"\\\">http://www.nationalgeographic.com/maps/geotourism/about/</td></tr>\\n    \\n    <tr><td class=\\\"cell-1\\\" style=\\\"text-align:right;\\\">107</td> <td class=\\\"cell-2\\\" style=\\\"\\\">http://www.nationalgeographic.com/</td> <td class=\\\"cell-3\\\" style=\\\"\\\">http://www.nationalgeographic.com/redirect/category_redirect/</td></tr>\\n<tr><td class=\\\"cell-1\\\" style=\\\"text-align:right;\\\">98</td> <td class=\\\"cell-2\\\" style=\\\"\\\">http://www.nationalgeographic.com/</td> <td class=\\\"cell-3\\\" style=\\\"\\\">http://www.nationalgeographic.com/maps/about</td></tr>\\n<tr><td class=\\\"cell-1\\\" style=\\\"text-align:right;\\\">93</td> <td class=\\\"cell-2\\\" style=\\\"\\\">http://www.nationalgeographic.com/</td> <td class=\\\"cell-3\\\" style=\\\"\\\">http://www.nationalgeographic.com/visitpandora/?CMP=BAC-CRT%7C10650499%7C1150004%7C142172789%7C82258530%7C1413240</td></tr>\\n<tr><td class=\\\"cell-1\\\" style=\\\"text-align:right;\\\">91</td> <td class=\\\"cell-2\\\" style=\\\"\\\">http://www.nationalgeographic.com/</td> <td class=\\\"cell-3\\\" style=\\\"\\\">http://www.nationalgeographic.com/discoverjapancontest/</td></tr>\\n<tr><td class=\\\"cell-1\\\" style=\\\"text-align:right;\\\">88</td> <td class=\\\"cell-2\\\" style=\\\"\\\">http://www.nationalgeographic.com/</td> <td class=\\\"cell-3\\\" style=\\\"\\\">http://www.nationalgeographic.com/content/science/objects/collections/hubble</td></tr>\\n<tr><td class=\\\"cell-1\\\" style=\\\"text-align:right;\\\">87</td> <td class=\\\"cell-2\\\" style=\\\"\\\">http://www.nationalgeographic.com/</td> <td class=\\\"cell-3\\\" style=\\\"\\\">http://www.nationalgeographic.com/projects/magazines/l/multisubs/kids-sem.html</td></tr>\\n<tr><td class=\\\"cell-1\\\" style=\\\"text-align:right;\\\">87</td> <td class=\\\"cell-2\\\" style=\\\"\\\">http://www.nationalgeographic.com/</td> <td class=\\\"cell-3\\\" style=\\\"\\\">http://www.nationalgeographic.com/visitpandora/?CMP=BAC-CRT%7C10650499%7C1150004%7C142174909%7C82258530%7C1413241</td></tr>\\n<tr><td class=\\\"cell-1\\\" style=\\\"text-align:right;\\\">85</td> <td class=\\\"cell-2\\\" style=\\\"\\\">http://www.nationalgeographic.com/</td> <td class=\\\"cell-3\\\" style=\\\"\\\">http://www.nationalgeographic.com/astrobiology/</td></tr>\\n<tr><td class=\\\"cell-1\\\" style=\\\"text-align:right;\\\">84</td> <td class=\\\"cell-2\\\" style=\\\"\\\">http://www.nationalgeographic.com/</td> <td class=\\\"cell-3\\\" style=\\\"\\\">http://www.nationalgeographic.com/maps/national-geographics-cartogaphic-typefaces/</td></tr>\\n<tr><td class=\\\"cell-1\\\" style=\\\"text-align:right;\\\">79</td> <td class=\\\"cell-2\\\" style=\\\"\\\">http://www.nationalgeographic.com/</td> <td class=\\\"cell-3\\\" style=\\\"\\\">http://www.nationalgeographic.com/corrections/</td></tr>\\n<tr><td class=\\\"cell-1\\\" style=\\\"text-align:right;\\\">74</td> <td class=\\\"cell-2\\\" style=\\\"\\\">http://www.nationalgeographic.com/</td> <td class=\\\"cell-3\\\" style=\\\"\\\">http://www.nationalgeographic.com/visitpandora/?CMP=BAC-CRT|10650499|1150004|142172789|82258530|1413240</td></tr>\\n<tr><td class=\\\"cell-1\\\" style=\\\"text-align:right;\\\">66</td> <td class=\\\"cell-2\\\" style=\\\"\\\">http://www.nationalgeographic.com/</td> <td class=\\\"cell-3\\\" style=\\\"\\\">http://www.nationalgeographic.com/americannile/</td></tr>\\n    </tbody>\\n\")"
      ]
     },
     "metadata": {},
     "output_type": "display_data"
    }
   ],
   "source": [
    "test2GNGSSDM(UP,LV)\n",
    ";"
   ]
  },
  {
   "cell_type": "code",
   "execution_count": 7,
   "metadata": {
    "collapsed": false,
    "input_collapsed": false,
    "scrolled": false
   },
   "outputs": [
    {
     "data": {
      "text/html": [
       "    <table  class=\"dataframe-table\">\n",
       "    <thead><tr><th class=\"cell-1\" style=\"\">page views</th> <th class=\"cell-2\" style=\"\">url landing in nat geo site default group</th></tr></thead>\n",
       "    <tbody>\n",
       "    <tr><td class=\"cell-1\" style=\"text-align:right;\">2,300</td> <td class=\"cell-2\" style=\"\">http://www.nationalgeographic.com/?isfromtac=1</td></tr>\n",
       "<tr><td class=\"cell-1\" style=\"text-align:right;\">59</td> <td class=\"cell-2\" style=\"\">http://www.nationalgeographic.com/?scrlybrkr</td></tr>\n",
       "<tr><td class=\"cell-1\" style=\"text-align:right;\">56</td> <td class=\"cell-2\" style=\"\">http://www.nationalgeographic.com/?rptregcta=join_np&rptregcampaign=20130927_modalpopup_membership_hp</td></tr>\n",
       "<tr><td class=\"cell-1\" style=\"text-align:right;\">34</td> <td class=\"cell-2\" style=\"\">http://www.nationalgeographic.com/?rptregcta=signin&rptregcampaign=20150305_membership_ren_vanity</td></tr>\n",
       "<tr><td class=\"cell-1\" style=\"text-align:right;\">28</td> <td class=\"cell-2\" style=\"\">http://www.nationalgeographic.com/?titleID=1632694871&catID=2</td></tr>\n",
       "<tr><td class=\"cell-1\" style=\"text-align:right;\">22</td> <td class=\"cell-2\" style=\"\">http://www.nationalgeographic.com/?rptregcta=create_np&rptregcampaign=20130816_modalpopup_membership_hp_all</td></tr>\n",
       "<tr><td class=\"cell-1\" style=\"text-align:right;\">16</td> <td class=\"cell-2\" style=\"\">http://www.nationalgeographic.com/?source=NavAniFact</td></tr>\n",
       "<tr><td class=\"cell-1\" style=\"text-align:right;\">16</td> <td class=\"cell-2\" style=\"\">http://www.nationalgeographic.com/?source=email_inside</td></tr>\n",
       "<tr><td class=\"cell-1\" style=\"text-align:right;\">12</td> <td class=\"cell-2\" style=\"\">http://www.nationalgeographic.com/?</td></tr>\n",
       "<tr><td class=\"cell-1\" style=\"text-align:right;\">11</td> <td class=\"cell-2\" style=\"\">http://www.nationalgeographic.com/?msc=mediariver</td></tr>\n",
       "<tr><td class=\"cell-1\" style=\"text-align:right;\">10</td> <td class=\"cell-2\" style=\"\">http://www.nationalgeographic.com/?rptregcta=reg_np&rptregcampaign=20130912_modalpopup_membership_hp_all_c</td></tr>\n",
       "<tr><td class=\"cell-1\" style=\"text-align:right;\">10</td> <td class=\"cell-2\" style=\"\">http://www.nationalgeographic.com/?source=G1801&kwid=animal%20info|811696014</td></tr>\n",
       "<tr><td class=\"cell-1\" style=\"text-align:right;\">8</td> <td class=\"cell-2\" style=\"\">http://www.nationalgeographic.com/?user_id=14597580&email=semarxen%40verizon.net&conf=666e69d4-4231-4ad1-bda9-65655e720e48</td></tr>\n",
       "    \n",
       "    <tr><td class=\"cell-1\" style=\"text-align:right;\">7</td> <td class=\"cell-2\" style=\"\">http://www.nationalgeographic.com/?fs=www7.nationalgeographic.com</td></tr>\n",
       "<tr><td class=\"cell-1\" style=\"text-align:right;\">7</td> <td class=\"cell-2\" style=\"\">http://www.nationalgeographic.com/?rptregcta=create_np&rptregcampaign=20130702_modalpopup_membership_hp_search</td></tr>\n",
       "<tr><td class=\"cell-1\" style=\"text-align:right;\">7</td> <td class=\"cell-2\" style=\"\">http://www.nationalgeographic.com/?source=link_fb20110608whyoceansmattervideo</td></tr>\n",
       "<tr><td class=\"cell-1\" style=\"text-align:right;\">6</td> <td class=\"cell-2\" style=\"\">http://www.nationalgeographic.com/?gclid=CKejqYLM-MkCFckdgQodxr4PEw&gclsrc=aw.ds</td></tr>\n",
       "<tr><td class=\"cell-1\" style=\"text-align:right;\">6</td> <td class=\"cell-2\" style=\"\">http://www.nationalgeographic.com/?source=abt20140909_t1_nav_hp_home</td></tr>\n",
       "<tr><td class=\"cell-1\" style=\"text-align:right;\">6</td> <td class=\"cell-2\" style=\"\">http://www.nationalgeographic.com/?qq=national%20geographic</td></tr>\n",
       "<tr><td class=\"cell-1\" style=\"text-align:right;\">6</td> <td class=\"cell-2\" style=\"\">http://www.nationalgeographic.com/?rptregcta=create_np&rptregcampaign=20130812_modalpopup_membership_hp_all_c</td></tr>\n",
       "<tr><td class=\"cell-1\" style=\"text-align:right;\">5</td> <td class=\"cell-2\" style=\"\">http://www.nationalgeographic.com/?source=abt20140909_t2_hp_logo</td></tr>\n",
       "<tr><td class=\"cell-1\" style=\"text-align:right;\">5</td> <td class=\"cell-2\" style=\"\">http://www.nationalgeographic.com/?rptregcta=create_np&rptregcampaign=20130718_modalpopup_membership_hp_all</td></tr>\n",
       "<tr><td class=\"cell-1\" style=\"text-align:right;\">5</td> <td class=\"cell-2\" style=\"\">http://www.nationalgeographic.com/?m=Watching%2520undefined%2520http%253A%252F%252Ftinyurl%252Ecom%252F34txk52</td></tr>\n",
       "<tr><td class=\"cell-1\" style=\"text-align:right;\">4</td> <td class=\"cell-2\" style=\"\">http://www.nationalgeographic.com/?rptregcta=create_p&rptregcampaign=20130723_modalpopup_membership_hp_all_t2</td></tr>\n",
       "<tr><td class=\"cell-1\" style=\"text-align:right;\">4</td> <td class=\"cell-2\" style=\"\">http://www.nationalgeographic.com/?from=groupmessage&isappinstalled=0</td></tr>\n",
       "    </tbody>\n"
      ],
      "text/plain": [
       "HTML{UTF8String}(\"    <table  class=\\\"dataframe-table\\\">\\n    <thead><tr><th class=\\\"cell-1\\\" style=\\\"\\\">page views</th> <th class=\\\"cell-2\\\" style=\\\"\\\">url landing in nat geo site default group</th></tr></thead>\\n    <tbody>\\n    <tr><td class=\\\"cell-1\\\" style=\\\"text-align:right;\\\">2,300</td> <td class=\\\"cell-2\\\" style=\\\"\\\">http://www.nationalgeographic.com/?isfromtac=1</td></tr>\\n<tr><td class=\\\"cell-1\\\" style=\\\"text-align:right;\\\">59</td> <td class=\\\"cell-2\\\" style=\\\"\\\">http://www.nationalgeographic.com/?scrlybrkr</td></tr>\\n<tr><td class=\\\"cell-1\\\" style=\\\"text-align:right;\\\">56</td> <td class=\\\"cell-2\\\" style=\\\"\\\">http://www.nationalgeographic.com/?rptregcta=join_np&rptregcampaign=20130927_modalpopup_membership_hp</td></tr>\\n<tr><td class=\\\"cell-1\\\" style=\\\"text-align:right;\\\">34</td> <td class=\\\"cell-2\\\" style=\\\"\\\">http://www.nationalgeographic.com/?rptregcta=signin&rptregcampaign=20150305_membership_ren_vanity</td></tr>\\n<tr><td class=\\\"cell-1\\\" style=\\\"text-align:right;\\\">28</td> <td class=\\\"cell-2\\\" style=\\\"\\\">http://www.nationalgeographic.com/?titleID=1632694871&catID=2</td></tr>\\n<tr><td class=\\\"cell-1\\\" style=\\\"text-align:right;\\\">22</td> <td class=\\\"cell-2\\\" style=\\\"\\\">http://www.nationalgeographic.com/?rptregcta=create_np&rptregcampaign=20130816_modalpopup_membership_hp_all</td></tr>\\n<tr><td class=\\\"cell-1\\\" style=\\\"text-align:right;\\\">16</td> <td class=\\\"cell-2\\\" style=\\\"\\\">http://www.nationalgeographic.com/?source=NavAniFact</td></tr>\\n<tr><td class=\\\"cell-1\\\" style=\\\"text-align:right;\\\">16</td> <td class=\\\"cell-2\\\" style=\\\"\\\">http://www.nationalgeographic.com/?source=email_inside</td></tr>\\n<tr><td class=\\\"cell-1\\\" style=\\\"text-align:right;\\\">12</td> <td class=\\\"cell-2\\\" style=\\\"\\\">http://www.nationalgeographic.com/?</td></tr>\\n<tr><td class=\\\"cell-1\\\" style=\\\"text-align:right;\\\">11</td> <td class=\\\"cell-2\\\" style=\\\"\\\">http://www.nationalgeographic.com/?msc=mediariver</td></tr>\\n<tr><td class=\\\"cell-1\\\" style=\\\"text-align:right;\\\">10</td> <td class=\\\"cell-2\\\" style=\\\"\\\">http://www.nationalgeographic.com/?rptregcta=reg_np&rptregcampaign=20130912_modalpopup_membership_hp_all_c</td></tr>\\n<tr><td class=\\\"cell-1\\\" style=\\\"text-align:right;\\\">10</td> <td class=\\\"cell-2\\\" style=\\\"\\\">http://www.nationalgeographic.com/?source=G1801&kwid=animal%20info|811696014</td></tr>\\n<tr><td class=\\\"cell-1\\\" style=\\\"text-align:right;\\\">8</td> <td class=\\\"cell-2\\\" style=\\\"\\\">http://www.nationalgeographic.com/?user_id=14597580&email=semarxen%40verizon.net&conf=666e69d4-4231-4ad1-bda9-65655e720e48</td></tr>\\n    \\n    <tr><td class=\\\"cell-1\\\" style=\\\"text-align:right;\\\">7</td> <td class=\\\"cell-2\\\" style=\\\"\\\">http://www.nationalgeographic.com/?fs=www7.nationalgeographic.com</td></tr>\\n<tr><td class=\\\"cell-1\\\" style=\\\"text-align:right;\\\">7</td> <td class=\\\"cell-2\\\" style=\\\"\\\">http://www.nationalgeographic.com/?rptregcta=create_np&rptregcampaign=20130702_modalpopup_membership_hp_search</td></tr>\\n<tr><td class=\\\"cell-1\\\" style=\\\"text-align:right;\\\">7</td> <td class=\\\"cell-2\\\" style=\\\"\\\">http://www.nationalgeographic.com/?source=link_fb20110608whyoceansmattervideo</td></tr>\\n<tr><td class=\\\"cell-1\\\" style=\\\"text-align:right;\\\">6</td> <td class=\\\"cell-2\\\" style=\\\"\\\">http://www.nationalgeographic.com/?gclid=CKejqYLM-MkCFckdgQodxr4PEw&gclsrc=aw.ds</td></tr>\\n<tr><td class=\\\"cell-1\\\" style=\\\"text-align:right;\\\">6</td> <td class=\\\"cell-2\\\" style=\\\"\\\">http://www.nationalgeographic.com/?source=abt20140909_t1_nav_hp_home</td></tr>\\n<tr><td class=\\\"cell-1\\\" style=\\\"text-align:right;\\\">6</td> <td class=\\\"cell-2\\\" style=\\\"\\\">http://www.nationalgeographic.com/?qq=national%20geographic</td></tr>\\n<tr><td class=\\\"cell-1\\\" style=\\\"text-align:right;\\\">6</td> <td class=\\\"cell-2\\\" style=\\\"\\\">http://www.nationalgeographic.com/?rptregcta=create_np&rptregcampaign=20130812_modalpopup_membership_hp_all_c</td></tr>\\n<tr><td class=\\\"cell-1\\\" style=\\\"text-align:right;\\\">5</td> <td class=\\\"cell-2\\\" style=\\\"\\\">http://www.nationalgeographic.com/?source=abt20140909_t2_hp_logo</td></tr>\\n<tr><td class=\\\"cell-1\\\" style=\\\"text-align:right;\\\">5</td> <td class=\\\"cell-2\\\" style=\\\"\\\">http://www.nationalgeographic.com/?rptregcta=create_np&rptregcampaign=20130718_modalpopup_membership_hp_all</td></tr>\\n<tr><td class=\\\"cell-1\\\" style=\\\"text-align:right;\\\">5</td> <td class=\\\"cell-2\\\" style=\\\"\\\">http://www.nationalgeographic.com/?m=Watching%2520undefined%2520http%253A%252F%252Ftinyurl%252Ecom%252F34txk52</td></tr>\\n<tr><td class=\\\"cell-1\\\" style=\\\"text-align:right;\\\">4</td> <td class=\\\"cell-2\\\" style=\\\"\\\">http://www.nationalgeographic.com/?rptregcta=create_p&rptregcampaign=20130723_modalpopup_membership_hp_all_t2</td></tr>\\n<tr><td class=\\\"cell-1\\\" style=\\\"text-align:right;\\\">4</td> <td class=\\\"cell-2\\\" style=\\\"\\\">http://www.nationalgeographic.com/?from=groupmessage&isappinstalled=0</td></tr>\\n    </tbody>\\n\")"
      ]
     },
     "metadata": {},
     "output_type": "display_data"
    }
   ],
   "source": [
    "test3GNGSSDM(UP,LV)\n",
    ";"
   ]
  },
  {
   "cell_type": "code",
   "execution_count": 8,
   "metadata": {
    "collapsed": false,
    "input_collapsed": false
   },
   "outputs": [],
   "source": [
    "q = query(\"\"\" drop view if exists $(UP.btView);\"\"\")\n",
    "q = query(\"\"\" drop view if exists $(UP.rtView);\"\"\")\n",
    ";"
   ]
  }
 ],
 "metadata": {
  "celltoolbar": "Raw Cell Format",
  "kernelspec": {
   "display_name": "Julia 0.4.7",
   "language": "julia",
   "name": "julia-0.4"
  },
  "language_info": {
   "file_extension": ".jl",
   "mimetype": "application/julia",
   "name": "julia",
   "version": "0.4.7"
  },
  "library_version": "1.0.0",
  "notebook_uuid": "952451a4-bb18-4d08-a2e8-694dcf3d9916",
  "readOnly": false
 },
 "nbformat": 4,
 "nbformat_minor": 0
}
