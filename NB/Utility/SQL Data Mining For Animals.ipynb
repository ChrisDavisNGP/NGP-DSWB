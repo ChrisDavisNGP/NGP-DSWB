{
 "cells": [
  {
   "cell_type": "code",
   "execution_count": 1,
   "metadata": {
    "collapsed": false,
    "input_collapsed": false
   },
   "outputs": [
    {
     "name": "stdout",
     "output_type": "stream",
     "text": [
      "Redshift endpoint set: 2017-06-13T12:55:16\n"
     ]
    },
    {
     "data": {
      "text/plain": [
       "\"beacons_4744\""
      ]
     },
     "execution_count": 1,
     "metadata": {},
     "output_type": "execute_result"
    }
   ],
   "source": [
    "using ODBC\n",
    "using DataFrames\n",
    "using DSWB\n",
    "using Formatting\n",
    "\n",
    "dsn = \"dswb-natgeo\" # Redshift endpoint\n",
    "table = \"beacons_4744\" # beacon table name\n",
    "tableRt = \"beacons_4744_rt\"\n",
    "\n",
    "# Connect to Beacon Data\n",
    "setRedshiftEndpoint(dsn)\n",
    "setTable(table)"
   ]
  },
  {
   "cell_type": "code",
   "execution_count": 6,
   "metadata": {
    "collapsed": false,
    "input_collapsed": false,
    "scrolled": true
   },
   "outputs": [
    {
     "name": "stdout",
     "output_type": "stream",
     "text": [
      "June 11, 2017 23:59:00 to June 12, 2017 23:59:00 Local Time\n",
      "June 12, 2017 03:59:00 to June 13, 2017 03:59:00 UTC Time\n"
     ]
    }
   ],
   "source": [
    "# Packages\n",
    "include(\"/data/notebook_home/Production/Lib/Include-Package-v1.0.jl\")\n",
    "include(\"/data/notebook_home/Production/Bodies/SQL-Data-Mining-For-Group-Body-v1.0.jl\")\n",
    "\n",
    "#timeVariables(2017,6,8,10,59,2017,6,8,12,59)\n",
    "weeklyTimeVariables(days=1)\n",
    "#yesterdayTimeVariables()\n",
    ";"
   ]
  },
  {
   "cell_type": "code",
   "execution_count": 7,
   "metadata": {
    "collapsed": false,
    "input_collapsed": false
   },
   "outputs": [],
   "source": [
    "UP = UrlParamsInit()\n",
    "UP.beaconTable = table   #table\n",
    "UP.resourceTable = tableRt\n",
    "UP.btView = \"$(table)_SQL_Data_Mining_For_Group_pview_prod\" #localtable\n",
    "UP.rtView = \"$(tableRt)_SQL_Data_Mining_For_Group_pview_prod\" #localtableRt\n",
    "UP.pageGroup = \"%\"   #productPageGroup\n",
    "UP.urlRegEx = \"%\"   #localUrl\n",
    "UP.deviceType = \"Mobile\"\n",
    "\n",
    "SG = SoastaGraphsInit()\n",
    "customer = \"Nat Geo\" \n",
    "SG.customer = customer\n",
    "\n",
    "SP = ShowParamsInit()\n",
    "SP.debugLevel = 10;\n",
    "SP.debug = true;\n",
    ";\n",
    "\n",
    "LV = LocalVars(0)\n",
    "LV.linesOutput = 25\n",
    ";"
   ]
  },
  {
   "cell_type": "code",
   "execution_count": 9,
   "metadata": {
    "collapsed": false,
    "input_collapsed": false,
    "scrolled": false
   },
   "outputs": [
    {
     "data": {
      "text/html": [
       "<div class=\"dswbOutputText\"><h1 class=\"chart_title\" style=\"color:#ccc\">Top Beacons Counts (limit 25) For Animals WPF</h1><h3 class=\"chart_info\" style=\"color:#ccc\">June 11, 2017 23:59:00 to June 12, 2017 23:59:00 Local Time</h3></div>"
      ]
     },
     "metadata": {},
     "output_type": "display_data"
    },
    {
     "data": {
      "text/html": [
       "    <table  class=\"dataframe-table\">\n",
       "    <thead><tr><th class=\"cell-1\" style=\"\">count</th> <th class=\"cell-2\" style=\"\">url</th> <th class=\"cell-3\" style=\"\">params u</th></tr></thead>\n",
       "    <tbody>\n",
       "    <tr><td class=\"cell-1\" style=\"text-align:right;\">230</td> <td class=\"cell-2\" style=\"\">http://animals.nationalgeographic.com/</td> <td class=\"cell-3\" style=\"\">http://animals.nationalgeographic.com/animals/bugs/firefly/</td></tr>\n",
       "<tr><td class=\"cell-1\" style=\"text-align:right;\">227</td> <td class=\"cell-2\" style=\"\">http://animals.nationalgeographic.com/</td> <td class=\"cell-3\" style=\"\">http://animals.nationalgeographic.com/animals/prehistoric/tyrannosaurus-rex/</td></tr>\n",
       "<tr><td class=\"cell-1\" style=\"text-align:right;\">222</td> <td class=\"cell-2\" style=\"\">http://animals.nationalgeographic.com/</td> <td class=\"cell-3\" style=\"\">http://animals.nationalgeographic.com/animals/fish/whale-shark/</td></tr>\n",
       "<tr><td class=\"cell-1\" style=\"text-align:right;\">209</td> <td class=\"cell-2\" style=\"\">http://animals.nationalgeographic.com/</td> <td class=\"cell-3\" style=\"\">http://animals.nationalgeographic.com/animals/birding/backyard-bird-identifier/</td></tr>\n",
       "<tr><td class=\"cell-1\" style=\"text-align:right;\">209</td> <td class=\"cell-2\" style=\"\">http://animals.nationalgeographic.com/</td> <td class=\"cell-3\" style=\"\">http://animals.nationalgeographic.com/animals/bugs/wasp/</td></tr>\n",
       "<tr><td class=\"cell-1\" style=\"text-align:right;\">201</td> <td class=\"cell-2\" style=\"\">http://animals.nationalgeographic.com/</td> <td class=\"cell-3\" style=\"\">http://animals.nationalgeographic.com/animals/fish/stingray/</td></tr>\n",
       "<tr><td class=\"cell-1\" style=\"text-align:right;\">197</td> <td class=\"cell-2\" style=\"\">http://animals.nationalgeographic.com/</td> <td class=\"cell-3\" style=\"\">http://animals.nationalgeographic.com/animals/bugs/ladybug/</td></tr>\n",
       "<tr><td class=\"cell-1\" style=\"text-align:right;\">182</td> <td class=\"cell-2\" style=\"\">http://animals.nationalgeographic.com/</td> <td class=\"cell-3\" style=\"\">http://animals.nationalgeographic.com/animals/invertebrates/starfish/</td></tr>\n",
       "<tr><td class=\"cell-1\" style=\"text-align:right;\">179</td> <td class=\"cell-2\" style=\"\">http://animals.nationalgeographic.com/</td> <td class=\"cell-3\" style=\"\">http://animals.nationalgeographic.com/animals/photos/</td></tr>\n",
       "<tr><td class=\"cell-1\" style=\"text-align:right;\">175</td> <td class=\"cell-2\" style=\"\">http://animals.nationalgeographic.com/</td> <td class=\"cell-3\" style=\"\">http://animals.nationalgeographic.com/animals/fish/pufferfish/</td></tr>\n",
       "<tr><td class=\"cell-1\" style=\"text-align:right;\">168</td> <td class=\"cell-2\" style=\"\">http://animals.nationalgeographic.com/</td> <td class=\"cell-3\" style=\"\">http://animals.nationalgeographic.com/animals/photos/snakes/</td></tr>\n",
       "<tr><td class=\"cell-1\" style=\"text-align:right;\">164</td> <td class=\"cell-2\" style=\"\">http://animals.nationalgeographic.com/</td> <td class=\"cell-3\" style=\"\">http://animals.nationalgeographic.com/animals/invertebrates/portuguese-man-of-war/</td></tr>\n",
       "<tr><td class=\"cell-1\" style=\"text-align:right;\">162</td> <td class=\"cell-2\" style=\"\">http://animals.nationalgeographic.com/</td> <td class=\"cell-3\" style=\"\">http://animals.nationalgeographic.com/animals/fish/great-white-shark/</td></tr>\n",
       "    \n",
       "    <tr><td class=\"cell-1\" style=\"text-align:right;\">162</td> <td class=\"cell-2\" style=\"\">http://animals.nationalgeographic.com/</td> <td class=\"cell-3\" style=\"\">http://animals.nationalgeographic.com/animals/fish/tiger-shark/</td></tr>\n",
       "<tr><td class=\"cell-1\" style=\"text-align:right;\">158</td> <td class=\"cell-2\" style=\"\">http://animals.nationalgeographic.com/</td> <td class=\"cell-3\" style=\"\">http://animals.nationalgeographic.com/animals/fish/hammerhead-shark/</td></tr>\n",
       "<tr><td class=\"cell-1\" style=\"text-align:right;\">153</td> <td class=\"cell-2\" style=\"\">http://animals.nationalgeographic.com/</td> <td class=\"cell-3\" style=\"\">http://animals.nationalgeographic.com/animals/fish/anglerfish/</td></tr>\n",
       "<tr><td class=\"cell-1\" style=\"text-align:right;\">149</td> <td class=\"cell-2\" style=\"\">http://animals.nationalgeographic.com/</td> <td class=\"cell-3\" style=\"\">http://animals.nationalgeographic.com/animals/bugs/honeybee/</td></tr>\n",
       "<tr><td class=\"cell-1\" style=\"text-align:right;\">145</td> <td class=\"cell-2\" style=\"\">http://animals.nationalgeographic.com/</td> <td class=\"cell-3\" style=\"\">http://animals.nationalgeographic.com/animals/fish/</td></tr>\n",
       "<tr><td class=\"cell-1\" style=\"text-align:right;\">145</td> <td class=\"cell-2\" style=\"\">http://animals.nationalgeographic.com/</td> <td class=\"cell-3\" style=\"\">http://animals.nationalgeographic.com/animals/wild/shows-deadly-60/pictures/</td></tr>\n",
       "<tr><td class=\"cell-1\" style=\"text-align:right;\">143</td> <td class=\"cell-2\" style=\"\">http://animals.nationalgeographic.com/</td> <td class=\"cell-3\" style=\"\">http://animals.nationalgeographic.com/animals/photos/birds-of-prey-photos/</td></tr>\n",
       "<tr><td class=\"cell-1\" style=\"text-align:right;\">141</td> <td class=\"cell-2\" style=\"\">http://animals.nationalgeographic.com/</td> <td class=\"cell-3\" style=\"\">http://animals.nationalgeographic.com/animals/bugs/ant/</td></tr>\n",
       "<tr><td class=\"cell-1\" style=\"text-align:right;\">139</td> <td class=\"cell-2\" style=\"\">http://animals.nationalgeographic.com/</td> <td class=\"cell-3\" style=\"\">http://animals.nationalgeographic.com/animals/photos/sharks/</td></tr>\n",
       "<tr><td class=\"cell-1\" style=\"text-align:right;\">134</td> <td class=\"cell-2\" style=\"\">http://animals.nationalgeographic.com/</td> <td class=\"cell-3\" style=\"\">http://animals.nationalgeographic.com/animals/bugs/mosquito/</td></tr>\n",
       "<tr><td class=\"cell-1\" style=\"text-align:right;\">130</td> <td class=\"cell-2\" style=\"\">http://animals.nationalgeographic.com/</td> <td class=\"cell-3\" style=\"\">http://animals.nationalgeographic.com/animals/photos/lions/</td></tr>\n",
       "<tr><td class=\"cell-1\" style=\"text-align:right;\">126</td> <td class=\"cell-2\" style=\"\">http://animals.nationalgeographic.com/</td> <td class=\"cell-3\" style=\"\">http://animals.nationalgeographic.com/animals/photos/tigers/</td></tr>\n",
       "    </tbody>\n"
      ],
      "text/plain": [
       "HTML{UTF8String}(\"    <table  class=\\\"dataframe-table\\\">\\n    <thead><tr><th class=\\\"cell-1\\\" style=\\\"\\\">count</th> <th class=\\\"cell-2\\\" style=\\\"\\\">url</th> <th class=\\\"cell-3\\\" style=\\\"\\\">params u</th></tr></thead>\\n    <tbody>\\n    <tr><td class=\\\"cell-1\\\" style=\\\"text-align:right;\\\">230</td> <td class=\\\"cell-2\\\" style=\\\"\\\">http://animals.nationalgeographic.com/</td> <td class=\\\"cell-3\\\" style=\\\"\\\">http://animals.nationalgeographic.com/animals/bugs/firefly/</td></tr>\\n<tr><td class=\\\"cell-1\\\" style=\\\"text-align:right;\\\">227</td> <td class=\\\"cell-2\\\" style=\\\"\\\">http://animals.nationalgeographic.com/</td> <td class=\\\"cell-3\\\" style=\\\"\\\">http://animals.nationalgeographic.com/animals/prehistoric/tyrannosaurus-rex/</td></tr>\\n<tr><td class=\\\"cell-1\\\" style=\\\"text-align:right;\\\">222</td> <td class=\\\"cell-2\\\" style=\\\"\\\">http://animals.nationalgeographic.com/</td> <td class=\\\"cell-3\\\" style=\\\"\\\">http://animals.nationalgeographic.com/animals/fish/whale-shark/</td></tr>\\n<tr><td class=\\\"cell-1\\\" style=\\\"text-align:right;\\\">209</td> <td class=\\\"cell-2\\\" style=\\\"\\\">http://animals.nationalgeographic.com/</td> <td class=\\\"cell-3\\\" style=\\\"\\\">http://animals.nationalgeographic.com/animals/birding/backyard-bird-identifier/</td></tr>\\n<tr><td class=\\\"cell-1\\\" style=\\\"text-align:right;\\\">209</td> <td class=\\\"cell-2\\\" style=\\\"\\\">http://animals.nationalgeographic.com/</td> <td class=\\\"cell-3\\\" style=\\\"\\\">http://animals.nationalgeographic.com/animals/bugs/wasp/</td></tr>\\n<tr><td class=\\\"cell-1\\\" style=\\\"text-align:right;\\\">201</td> <td class=\\\"cell-2\\\" style=\\\"\\\">http://animals.nationalgeographic.com/</td> <td class=\\\"cell-3\\\" style=\\\"\\\">http://animals.nationalgeographic.com/animals/fish/stingray/</td></tr>\\n<tr><td class=\\\"cell-1\\\" style=\\\"text-align:right;\\\">197</td> <td class=\\\"cell-2\\\" style=\\\"\\\">http://animals.nationalgeographic.com/</td> <td class=\\\"cell-3\\\" style=\\\"\\\">http://animals.nationalgeographic.com/animals/bugs/ladybug/</td></tr>\\n<tr><td class=\\\"cell-1\\\" style=\\\"text-align:right;\\\">182</td> <td class=\\\"cell-2\\\" style=\\\"\\\">http://animals.nationalgeographic.com/</td> <td class=\\\"cell-3\\\" style=\\\"\\\">http://animals.nationalgeographic.com/animals/invertebrates/starfish/</td></tr>\\n<tr><td class=\\\"cell-1\\\" style=\\\"text-align:right;\\\">179</td> <td class=\\\"cell-2\\\" style=\\\"\\\">http://animals.nationalgeographic.com/</td> <td class=\\\"cell-3\\\" style=\\\"\\\">http://animals.nationalgeographic.com/animals/photos/</td></tr>\\n<tr><td class=\\\"cell-1\\\" style=\\\"text-align:right;\\\">175</td> <td class=\\\"cell-2\\\" style=\\\"\\\">http://animals.nationalgeographic.com/</td> <td class=\\\"cell-3\\\" style=\\\"\\\">http://animals.nationalgeographic.com/animals/fish/pufferfish/</td></tr>\\n<tr><td class=\\\"cell-1\\\" style=\\\"text-align:right;\\\">168</td> <td class=\\\"cell-2\\\" style=\\\"\\\">http://animals.nationalgeographic.com/</td> <td class=\\\"cell-3\\\" style=\\\"\\\">http://animals.nationalgeographic.com/animals/photos/snakes/</td></tr>\\n<tr><td class=\\\"cell-1\\\" style=\\\"text-align:right;\\\">164</td> <td class=\\\"cell-2\\\" style=\\\"\\\">http://animals.nationalgeographic.com/</td> <td class=\\\"cell-3\\\" style=\\\"\\\">http://animals.nationalgeographic.com/animals/invertebrates/portuguese-man-of-war/</td></tr>\\n<tr><td class=\\\"cell-1\\\" style=\\\"text-align:right;\\\">162</td> <td class=\\\"cell-2\\\" style=\\\"\\\">http://animals.nationalgeographic.com/</td> <td class=\\\"cell-3\\\" style=\\\"\\\">http://animals.nationalgeographic.com/animals/fish/great-white-shark/</td></tr>\\n    \\n    <tr><td class=\\\"cell-1\\\" style=\\\"text-align:right;\\\">162</td> <td class=\\\"cell-2\\\" style=\\\"\\\">http://animals.nationalgeographic.com/</td> <td class=\\\"cell-3\\\" style=\\\"\\\">http://animals.nationalgeographic.com/animals/fish/tiger-shark/</td></tr>\\n<tr><td class=\\\"cell-1\\\" style=\\\"text-align:right;\\\">158</td> <td class=\\\"cell-2\\\" style=\\\"\\\">http://animals.nationalgeographic.com/</td> <td class=\\\"cell-3\\\" style=\\\"\\\">http://animals.nationalgeographic.com/animals/fish/hammerhead-shark/</td></tr>\\n<tr><td class=\\\"cell-1\\\" style=\\\"text-align:right;\\\">153</td> <td class=\\\"cell-2\\\" style=\\\"\\\">http://animals.nationalgeographic.com/</td> <td class=\\\"cell-3\\\" style=\\\"\\\">http://animals.nationalgeographic.com/animals/fish/anglerfish/</td></tr>\\n<tr><td class=\\\"cell-1\\\" style=\\\"text-align:right;\\\">149</td> <td class=\\\"cell-2\\\" style=\\\"\\\">http://animals.nationalgeographic.com/</td> <td class=\\\"cell-3\\\" style=\\\"\\\">http://animals.nationalgeographic.com/animals/bugs/honeybee/</td></tr>\\n<tr><td class=\\\"cell-1\\\" style=\\\"text-align:right;\\\">145</td> <td class=\\\"cell-2\\\" style=\\\"\\\">http://animals.nationalgeographic.com/</td> <td class=\\\"cell-3\\\" style=\\\"\\\">http://animals.nationalgeographic.com/animals/fish/</td></tr>\\n<tr><td class=\\\"cell-1\\\" style=\\\"text-align:right;\\\">145</td> <td class=\\\"cell-2\\\" style=\\\"\\\">http://animals.nationalgeographic.com/</td> <td class=\\\"cell-3\\\" style=\\\"\\\">http://animals.nationalgeographic.com/animals/wild/shows-deadly-60/pictures/</td></tr>\\n<tr><td class=\\\"cell-1\\\" style=\\\"text-align:right;\\\">143</td> <td class=\\\"cell-2\\\" style=\\\"\\\">http://animals.nationalgeographic.com/</td> <td class=\\\"cell-3\\\" style=\\\"\\\">http://animals.nationalgeographic.com/animals/photos/birds-of-prey-photos/</td></tr>\\n<tr><td class=\\\"cell-1\\\" style=\\\"text-align:right;\\\">141</td> <td class=\\\"cell-2\\\" style=\\\"\\\">http://animals.nationalgeographic.com/</td> <td class=\\\"cell-3\\\" style=\\\"\\\">http://animals.nationalgeographic.com/animals/bugs/ant/</td></tr>\\n<tr><td class=\\\"cell-1\\\" style=\\\"text-align:right;\\\">139</td> <td class=\\\"cell-2\\\" style=\\\"\\\">http://animals.nationalgeographic.com/</td> <td class=\\\"cell-3\\\" style=\\\"\\\">http://animals.nationalgeographic.com/animals/photos/sharks/</td></tr>\\n<tr><td class=\\\"cell-1\\\" style=\\\"text-align:right;\\\">134</td> <td class=\\\"cell-2\\\" style=\\\"\\\">http://animals.nationalgeographic.com/</td> <td class=\\\"cell-3\\\" style=\\\"\\\">http://animals.nationalgeographic.com/animals/bugs/mosquito/</td></tr>\\n<tr><td class=\\\"cell-1\\\" style=\\\"text-align:right;\\\">130</td> <td class=\\\"cell-2\\\" style=\\\"\\\">http://animals.nationalgeographic.com/</td> <td class=\\\"cell-3\\\" style=\\\"\\\">http://animals.nationalgeographic.com/animals/photos/lions/</td></tr>\\n<tr><td class=\\\"cell-1\\\" style=\\\"text-align:right;\\\">126</td> <td class=\\\"cell-2\\\" style=\\\"\\\">http://animals.nationalgeographic.com/</td> <td class=\\\"cell-3\\\" style=\\\"\\\">http://animals.nationalgeographic.com/animals/photos/tigers/</td></tr>\\n    </tbody>\\n\")"
      ]
     },
     "metadata": {},
     "output_type": "display_data"
    },
    {
     "data": {
      "text/html": [
       "<div class=\"dswbOutputText\"><h1 class=\"chart_title\" style=\"color:#ccc\">Top Beacons Counts (limit 25) For Animals AEM</h1><h3 class=\"chart_info\" style=\"color:#ccc\">June 11, 2017 23:59:00 to June 12, 2017 23:59:00 Local Time</h3></div>"
      ]
     },
     "metadata": {},
     "output_type": "display_data"
    },
    {
     "data": {
      "text/html": [
       "    <table  class=\"dataframe-table\">\n",
       "    <thead><tr><th class=\"cell-1\" style=\"\">count</th> <th class=\"cell-2\" style=\"\">url</th> <th class=\"cell-3\" style=\"\">params u</th></tr></thead>\n",
       "    <tbody>\n",
       "    <tr><td class=\"cell-1\" style=\"text-align:right;\">1,017</td> <td class=\"cell-2\" style=\"\">http://www.nationalgeographic.com/</td> <td class=\"cell-3\" style=\"\">http://www.nationalgeographic.com/animals/mammals/g/giraffe/</td></tr>\n",
       "<tr><td class=\"cell-1\" style=\"text-align:right;\">943</td> <td class=\"cell-2\" style=\"\">http://www.nationalgeographic.com/</td> <td class=\"cell-3\" style=\"\">http://www.nationalgeographic.com/animals/index/</td></tr>\n",
       "<tr><td class=\"cell-1\" style=\"text-align:right;\">673</td> <td class=\"cell-2\" style=\"\">http://www.nationalgeographic.com/</td> <td class=\"cell-3\" style=\"\">http://www.nationalgeographic.com/animals/</td></tr>\n",
       "<tr><td class=\"cell-1\" style=\"text-align:right;\">487</td> <td class=\"cell-2\" style=\"\">http://www.nationalgeographic.com/</td> <td class=\"cell-3\" style=\"\">http://www.nationalgeographic.com/animals/mammals/b/blue-whale/</td></tr>\n",
       "<tr><td class=\"cell-1\" style=\"text-align:right;\">453</td> <td class=\"cell-2\" style=\"\">http://www.nationalgeographic.com/</td> <td class=\"cell-3\" style=\"\">http://www.nationalgeographic.com/animals/mammals/r/red-panda/</td></tr>\n",
       "<tr><td class=\"cell-1\" style=\"text-align:right;\">397</td> <td class=\"cell-2\" style=\"\">http://www.nationalgeographic.com/</td> <td class=\"cell-3\" style=\"\">http://www.nationalgeographic.com/animals/invertebrates/group/black-widow-spiders/</td></tr>\n",
       "<tr><td class=\"cell-1\" style=\"text-align:right;\">386</td> <td class=\"cell-2\" style=\"\">http://www.nationalgeographic.com/</td> <td class=\"cell-3\" style=\"\">http://www.nationalgeographic.com/animals/mammals/r/red-fox/</td></tr>\n",
       "<tr><td class=\"cell-1\" style=\"text-align:right;\">383</td> <td class=\"cell-2\" style=\"\">http://www.nationalgeographic.com/</td> <td class=\"cell-3\" style=\"\">http://www.nationalgeographic.com/animals/mammals/a/african-elephant/</td></tr>\n",
       "<tr><td class=\"cell-1\" style=\"text-align:right;\">374</td> <td class=\"cell-2\" style=\"\">http://www.nationalgeographic.com/</td> <td class=\"cell-3\" style=\"\">http://www.nationalgeographic.com/animals/mammals/g/gray-wolf/</td></tr>\n",
       "<tr><td class=\"cell-1\" style=\"text-align:right;\">351</td> <td class=\"cell-2\" style=\"\">http://www.nationalgeographic.com/</td> <td class=\"cell-3\" style=\"\">http://www.nationalgeographic.com/animals/mammals/j/jaguar/</td></tr>\n",
       "<tr><td class=\"cell-1\" style=\"text-align:right;\">339</td> <td class=\"cell-2\" style=\"\">http://www.nationalgeographic.com/</td> <td class=\"cell-3\" style=\"\">http://www.nationalgeographic.com/animals/mammals/o/orca/</td></tr>\n",
       "<tr><td class=\"cell-1\" style=\"text-align:right;\">296</td> <td class=\"cell-2\" style=\"\">http://www.nationalgeographic.com/</td> <td class=\"cell-3\" style=\"\">http://www.nationalgeographic.com/animals/birds/group/peacocks/</td></tr>\n",
       "<tr><td class=\"cell-1\" style=\"text-align:right;\">294</td> <td class=\"cell-2\" style=\"\">http://www.nationalgeographic.com/</td> <td class=\"cell-3\" style=\"\">http://www.nationalgeographic.com/animals/mammals/a/arctic-fox/</td></tr>\n",
       "    \n",
       "    <tr><td class=\"cell-1\" style=\"text-align:right;\">281</td> <td class=\"cell-2\" style=\"\">http://www.nationalgeographic.com/</td> <td class=\"cell-3\" style=\"\">http://www.nationalgeographic.com/animals/mammals/p/platypus/</td></tr>\n",
       "<tr><td class=\"cell-1\" style=\"text-align:right;\">268</td> <td class=\"cell-2\" style=\"\">http://www.nationalgeographic.com/</td> <td class=\"cell-3\" style=\"\">http://www.nationalgeographic.com/animals/mammals/a/african-lion/</td></tr>\n",
       "<tr><td class=\"cell-1\" style=\"text-align:right;\">267</td> <td class=\"cell-2\" style=\"\">http://www.nationalgeographic.com/</td> <td class=\"cell-3\" style=\"\">http://www.nationalgeographic.com/animals/mammals/f/fennec-fox/</td></tr>\n",
       "<tr><td class=\"cell-1\" style=\"text-align:right;\">255</td> <td class=\"cell-2\" style=\"\">http://www.nationalgeographic.com/</td> <td class=\"cell-3\" style=\"\">http://www.nationalgeographic.com/animals/invertebrates/p/praying-mantis/</td></tr>\n",
       "<tr><td class=\"cell-1\" style=\"text-align:right;\">249</td> <td class=\"cell-2\" style=\"\">http://www.nationalgeographic.com/</td> <td class=\"cell-3\" style=\"\">http://www.nationalgeographic.com/animals/?source=sitenav</td></tr>\n",
       "<tr><td class=\"cell-1\" style=\"text-align:right;\">224</td> <td class=\"cell-2\" style=\"\">http://www.nationalgeographic.com/</td> <td class=\"cell-3\" style=\"\">http://www.nationalgeographic.com/animals/mammals/n/narwhal/</td></tr>\n",
       "<tr><td class=\"cell-1\" style=\"text-align:right;\">221</td> <td class=\"cell-2\" style=\"\">http://www.nationalgeographic.com/</td> <td class=\"cell-3\" style=\"\">http://www.nationalgeographic.com/animals/mammals/b/bengal-tiger/</td></tr>\n",
       "<tr><td class=\"cell-1\" style=\"text-align:right;\">219</td> <td class=\"cell-2\" style=\"\">http://www.nationalgeographic.com/</td> <td class=\"cell-3\" style=\"\">http://www.nationalgeographic.com/animals/mammals/c/coyote/</td></tr>\n",
       "<tr><td class=\"cell-1\" style=\"text-align:right;\">212</td> <td class=\"cell-2\" style=\"\">http://www.nationalgeographic.com/</td> <td class=\"cell-3\" style=\"\">http://www.nationalgeographic.com/animals/mammals/g/giant-panda/</td></tr>\n",
       "<tr><td class=\"cell-1\" style=\"text-align:right;\">210</td> <td class=\"cell-2\" style=\"\">http://www.nationalgeographic.com/</td> <td class=\"cell-3\" style=\"\">http://www.nationalgeographic.com/animals/mammals/group/porcupines/</td></tr>\n",
       "<tr><td class=\"cell-1\" style=\"text-align:right;\">209</td> <td class=\"cell-2\" style=\"\">http://www.nationalgeographic.com/</td> <td class=\"cell-3\" style=\"\">http://www.nationalgeographic.com/animals/reptiles/k/king-cobra/</td></tr>\n",
       "<tr><td class=\"cell-1\" style=\"text-align:right;\">203</td> <td class=\"cell-2\" style=\"\">http://www.nationalgeographic.com/</td> <td class=\"cell-3\" style=\"\">http://www.nationalgeographic.com/animals/mammals/a/african-wild-dog/</td></tr>\n",
       "    </tbody>\n"
      ],
      "text/plain": [
       "HTML{UTF8String}(\"    <table  class=\\\"dataframe-table\\\">\\n    <thead><tr><th class=\\\"cell-1\\\" style=\\\"\\\">count</th> <th class=\\\"cell-2\\\" style=\\\"\\\">url</th> <th class=\\\"cell-3\\\" style=\\\"\\\">params u</th></tr></thead>\\n    <tbody>\\n    <tr><td class=\\\"cell-1\\\" style=\\\"text-align:right;\\\">1,017</td> <td class=\\\"cell-2\\\" style=\\\"\\\">http://www.nationalgeographic.com/</td> <td class=\\\"cell-3\\\" style=\\\"\\\">http://www.nationalgeographic.com/animals/mammals/g/giraffe/</td></tr>\\n<tr><td class=\\\"cell-1\\\" style=\\\"text-align:right;\\\">943</td> <td class=\\\"cell-2\\\" style=\\\"\\\">http://www.nationalgeographic.com/</td> <td class=\\\"cell-3\\\" style=\\\"\\\">http://www.nationalgeographic.com/animals/index/</td></tr>\\n<tr><td class=\\\"cell-1\\\" style=\\\"text-align:right;\\\">673</td> <td class=\\\"cell-2\\\" style=\\\"\\\">http://www.nationalgeographic.com/</td> <td class=\\\"cell-3\\\" style=\\\"\\\">http://www.nationalgeographic.com/animals/</td></tr>\\n<tr><td class=\\\"cell-1\\\" style=\\\"text-align:right;\\\">487</td> <td class=\\\"cell-2\\\" style=\\\"\\\">http://www.nationalgeographic.com/</td> <td class=\\\"cell-3\\\" style=\\\"\\\">http://www.nationalgeographic.com/animals/mammals/b/blue-whale/</td></tr>\\n<tr><td class=\\\"cell-1\\\" style=\\\"text-align:right;\\\">453</td> <td class=\\\"cell-2\\\" style=\\\"\\\">http://www.nationalgeographic.com/</td> <td class=\\\"cell-3\\\" style=\\\"\\\">http://www.nationalgeographic.com/animals/mammals/r/red-panda/</td></tr>\\n<tr><td class=\\\"cell-1\\\" style=\\\"text-align:right;\\\">397</td> <td class=\\\"cell-2\\\" style=\\\"\\\">http://www.nationalgeographic.com/</td> <td class=\\\"cell-3\\\" style=\\\"\\\">http://www.nationalgeographic.com/animals/invertebrates/group/black-widow-spiders/</td></tr>\\n<tr><td class=\\\"cell-1\\\" style=\\\"text-align:right;\\\">386</td> <td class=\\\"cell-2\\\" style=\\\"\\\">http://www.nationalgeographic.com/</td> <td class=\\\"cell-3\\\" style=\\\"\\\">http://www.nationalgeographic.com/animals/mammals/r/red-fox/</td></tr>\\n<tr><td class=\\\"cell-1\\\" style=\\\"text-align:right;\\\">383</td> <td class=\\\"cell-2\\\" style=\\\"\\\">http://www.nationalgeographic.com/</td> <td class=\\\"cell-3\\\" style=\\\"\\\">http://www.nationalgeographic.com/animals/mammals/a/african-elephant/</td></tr>\\n<tr><td class=\\\"cell-1\\\" style=\\\"text-align:right;\\\">374</td> <td class=\\\"cell-2\\\" style=\\\"\\\">http://www.nationalgeographic.com/</td> <td class=\\\"cell-3\\\" style=\\\"\\\">http://www.nationalgeographic.com/animals/mammals/g/gray-wolf/</td></tr>\\n<tr><td class=\\\"cell-1\\\" style=\\\"text-align:right;\\\">351</td> <td class=\\\"cell-2\\\" style=\\\"\\\">http://www.nationalgeographic.com/</td> <td class=\\\"cell-3\\\" style=\\\"\\\">http://www.nationalgeographic.com/animals/mammals/j/jaguar/</td></tr>\\n<tr><td class=\\\"cell-1\\\" style=\\\"text-align:right;\\\">339</td> <td class=\\\"cell-2\\\" style=\\\"\\\">http://www.nationalgeographic.com/</td> <td class=\\\"cell-3\\\" style=\\\"\\\">http://www.nationalgeographic.com/animals/mammals/o/orca/</td></tr>\\n<tr><td class=\\\"cell-1\\\" style=\\\"text-align:right;\\\">296</td> <td class=\\\"cell-2\\\" style=\\\"\\\">http://www.nationalgeographic.com/</td> <td class=\\\"cell-3\\\" style=\\\"\\\">http://www.nationalgeographic.com/animals/birds/group/peacocks/</td></tr>\\n<tr><td class=\\\"cell-1\\\" style=\\\"text-align:right;\\\">294</td> <td class=\\\"cell-2\\\" style=\\\"\\\">http://www.nationalgeographic.com/</td> <td class=\\\"cell-3\\\" style=\\\"\\\">http://www.nationalgeographic.com/animals/mammals/a/arctic-fox/</td></tr>\\n    \\n    <tr><td class=\\\"cell-1\\\" style=\\\"text-align:right;\\\">281</td> <td class=\\\"cell-2\\\" style=\\\"\\\">http://www.nationalgeographic.com/</td> <td class=\\\"cell-3\\\" style=\\\"\\\">http://www.nationalgeographic.com/animals/mammals/p/platypus/</td></tr>\\n<tr><td class=\\\"cell-1\\\" style=\\\"text-align:right;\\\">268</td> <td class=\\\"cell-2\\\" style=\\\"\\\">http://www.nationalgeographic.com/</td> <td class=\\\"cell-3\\\" style=\\\"\\\">http://www.nationalgeographic.com/animals/mammals/a/african-lion/</td></tr>\\n<tr><td class=\\\"cell-1\\\" style=\\\"text-align:right;\\\">267</td> <td class=\\\"cell-2\\\" style=\\\"\\\">http://www.nationalgeographic.com/</td> <td class=\\\"cell-3\\\" style=\\\"\\\">http://www.nationalgeographic.com/animals/mammals/f/fennec-fox/</td></tr>\\n<tr><td class=\\\"cell-1\\\" style=\\\"text-align:right;\\\">255</td> <td class=\\\"cell-2\\\" style=\\\"\\\">http://www.nationalgeographic.com/</td> <td class=\\\"cell-3\\\" style=\\\"\\\">http://www.nationalgeographic.com/animals/invertebrates/p/praying-mantis/</td></tr>\\n<tr><td class=\\\"cell-1\\\" style=\\\"text-align:right;\\\">249</td> <td class=\\\"cell-2\\\" style=\\\"\\\">http://www.nationalgeographic.com/</td> <td class=\\\"cell-3\\\" style=\\\"\\\">http://www.nationalgeographic.com/animals/?source=sitenav</td></tr>\\n<tr><td class=\\\"cell-1\\\" style=\\\"text-align:right;\\\">224</td> <td class=\\\"cell-2\\\" style=\\\"\\\">http://www.nationalgeographic.com/</td> <td class=\\\"cell-3\\\" style=\\\"\\\">http://www.nationalgeographic.com/animals/mammals/n/narwhal/</td></tr>\\n<tr><td class=\\\"cell-1\\\" style=\\\"text-align:right;\\\">221</td> <td class=\\\"cell-2\\\" style=\\\"\\\">http://www.nationalgeographic.com/</td> <td class=\\\"cell-3\\\" style=\\\"\\\">http://www.nationalgeographic.com/animals/mammals/b/bengal-tiger/</td></tr>\\n<tr><td class=\\\"cell-1\\\" style=\\\"text-align:right;\\\">219</td> <td class=\\\"cell-2\\\" style=\\\"\\\">http://www.nationalgeographic.com/</td> <td class=\\\"cell-3\\\" style=\\\"\\\">http://www.nationalgeographic.com/animals/mammals/c/coyote/</td></tr>\\n<tr><td class=\\\"cell-1\\\" style=\\\"text-align:right;\\\">212</td> <td class=\\\"cell-2\\\" style=\\\"\\\">http://www.nationalgeographic.com/</td> <td class=\\\"cell-3\\\" style=\\\"\\\">http://www.nationalgeographic.com/animals/mammals/g/giant-panda/</td></tr>\\n<tr><td class=\\\"cell-1\\\" style=\\\"text-align:right;\\\">210</td> <td class=\\\"cell-2\\\" style=\\\"\\\">http://www.nationalgeographic.com/</td> <td class=\\\"cell-3\\\" style=\\\"\\\">http://www.nationalgeographic.com/animals/mammals/group/porcupines/</td></tr>\\n<tr><td class=\\\"cell-1\\\" style=\\\"text-align:right;\\\">209</td> <td class=\\\"cell-2\\\" style=\\\"\\\">http://www.nationalgeographic.com/</td> <td class=\\\"cell-3\\\" style=\\\"\\\">http://www.nationalgeographic.com/animals/reptiles/k/king-cobra/</td></tr>\\n<tr><td class=\\\"cell-1\\\" style=\\\"text-align:right;\\\">203</td> <td class=\\\"cell-2\\\" style=\\\"\\\">http://www.nationalgeographic.com/</td> <td class=\\\"cell-3\\\" style=\\\"\\\">http://www.nationalgeographic.com/animals/mammals/a/african-wild-dog/</td></tr>\\n    </tbody>\\n\")"
      ]
     },
     "metadata": {},
     "output_type": "display_data"
    }
   ],
   "source": [
    "UP.pageGroup = \"Animals WPF\"\n",
    "displayGroup(tv,UP,LV)\n",
    "\n",
    "UP.pageGroup = \"Animals AEM\"\n",
    "displayGroup(tv,UP,LV)\n",
    ";"
   ]
  },
  {
   "cell_type": "code",
   "execution_count": null,
   "metadata": {
    "collapsed": true,
    "input_collapsed": false
   },
   "outputs": [],
   "source": []
  }
 ],
 "metadata": {
  "celltoolbar": "Raw Cell Format",
  "kernelspec": {
   "display_name": "Julia 0.4.7",
   "language": "julia",
   "name": "julia-0.4"
  },
  "language_info": {
   "file_extension": ".jl",
   "mimetype": "application/julia",
   "name": "julia",
   "version": "0.4.7"
  },
  "library_version": "1.0.0",
  "notebook_uuid": "dff7ce27-74ce-4c8c-9f8c-cec32a0dcfab",
  "readOnly": false
 },
 "nbformat": 4,
 "nbformat_minor": 0
}
