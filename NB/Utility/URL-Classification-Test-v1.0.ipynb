{
 "cells": [
  {
   "cell_type": "markdown",
   "metadata": {},
   "source": [
    "## Tables and Data Source setup"
   ]
  },
  {
   "cell_type": "code",
   "execution_count": 9,
   "metadata": {
    "collapsed": false,
    "input_collapsed": false,
    "scrolled": true
   },
   "outputs": [
    {
     "name": "stdout",
     "output_type": "stream",
     "text": [
      "Set Redshift endpoint done. 2017-01-12T19:50:41\n"
     ]
    },
    {
     "data": {
      "text/plain": [
       "\"beacons_4744_rt\""
      ]
     },
     "execution_count": 9,
     "metadata": {},
     "output_type": "execute_result"
    }
   ],
   "source": [
    "using ODBC\n",
    "using DataFrames\n",
    "using DSWB\n",
    "using Formatting\n",
    "using URIParser\n",
    "\n",
    "dsn = \"dswb-natgeo\" # Redshift esetTable(tableRt, tableType = \"RESOURCE_TABLE\")ndpoint\n",
    "table = \"beacons_4744\" # beacon table name\n",
    "tableRt = \"beacons_4744_rt\"\n",
    "\n",
    "# Connect to Beacon Data\n",
    "setRedshiftEndpoint(dsn)\n",
    "setTable(table)\n",
    "setTable(tableRt, tableType = \"RESOURCE_TABLE\")"
   ]
  },
  {
   "cell_type": "code",
   "execution_count": 10,
   "metadata": {
    "collapsed": false,
    "input_collapsed": false
   },
   "outputs": [
    {
     "name": "stdout",
     "output_type": "stream",
     "text": [
      "January 11, 2017 13:10:00 to January 11, 2017 13:40:00 Local Time\n",
      "January 11, 2017 18:10:00 to January 11, 2017 18:40:00 UTC Time\n"
     ]
    }
   ],
   "source": [
    "# Packages\n",
    "\n",
    "include(\"/data/notebook_home/Production/Bodies/3rd-Party-Body-TypeAll-v1.0.jl\")\n",
    "include(\"/data/notebook_home/Production/Lib/Include-Package-v1.0.jl\")\n",
    "\n",
    "# Time values (tv.) structure created in include above, so init time here\n",
    "timeVariables(2017,1,11,13,10,2017,1,11,13,40);"
   ]
  },
  {
   "cell_type": "code",
   "execution_count": 11,
   "metadata": {
    "collapsed": false,
    "input_collapsed": false,
    "scrolled": true
   },
   "outputs": [],
   "source": [
    "customer = \"Nat Geo\" \n",
    "#productPageGroup = \"Channel\" # primary page group \n",
    "reportLevel = 10 # 1 for min output, 5 medium output, 10 all output\n",
    "\n",
    "#localUrl = \"%news.nationalgeographic.com/2016/12/new-arapaima-species-discovered-guyana-fish%\"\n",
    "#localUrlFull = \"http://news.nationalgeographic.com/2016/12/new-arapaima-species-discovered-guyana-fish\"\n",
    "localUrl = \"%\"\n",
    "localUrlFull = \"%\"\n",
    "#deviceType = \"Desktop\"\n",
    ";"
   ]
  },
  {
   "cell_type": "code",
   "execution_count": 12,
   "metadata": {
    "collapsed": false,
    "input_collapsed": false,
    "scrolled": false
   },
   "outputs": [],
   "source": [
    "#typeAllBody(table,startTimeMs,endTimeMs,timeString,\"News Article\",\"%\",\"Desktop\")\n",
    "\n",
    "    #oppageurl = DataFrame()\n",
    "\n",
    "    #ry\n",
    "    toppageurl = query(\"\"\"\\\n",
    "        select \n",
    "           'None' as urlpagegroup,\n",
    "           CASE WHEN (position('?' in url) > 0) then trim('/' from (substring(url for position('?' in substring(url from 9)) +7))) else trim('/' from url) end as urlgroup\n",
    "        FROM $tableRt\n",
    "          where\n",
    "          \"timestamp\" between $(tv.startTimeMsUTC) and $(tv.endTimeMsUTC)\n",
    "           group by urlgroup,urlpagegroup\n",
    "            \"\"\");    \n",
    "\n",
    "\n",
    "    #atch y\n",
    "    #   println(\"allPageUrlUrlTableDF Exception \",y)\n",
    "    #nd\n",
    "\n",
    "#        toppageurl = names!(toppageurl[:,:],\n",
    "#        [symbol(\"urlpagegroup\"),symbol(\"Start\"),symbol(\"Total\"),symbol(\"Redirect\"),symbol(\"Blocking\"),symbol(\"DNS\"),\n",
    "#            symbol(\"TCP\"),symbol(\"Request\"),symbol(\"Response\"),symbol(\"Gap\"),symbol(\"Critical\"),symbol(\"urlgroup\"),\n",
    "#            symbol(\"request_count\"),symbol(\"label\"),symbol(\"load_time\"),symbol(\"beacon_time\")]);\n",
    "        \n",
    "\n"
   ]
  },
  {
   "cell_type": "code",
   "execution_count": 13,
   "metadata": {
    "collapsed": false,
    "input_collapsed": false
   },
   "outputs": [],
   "source": [
    "        # Debug\n",
    "        toppageurlbackup = deepcopy(toppageurl);        \n",
    "        \n"
   ]
  },
  {
   "cell_type": "code",
   "execution_count": 14,
   "metadata": {
    "collapsed": false,
    "input_collapsed": false,
    "scrolled": false
   },
   "outputs": [],
   "source": [
    "include(\"/data/notebook_home/Production/Lib/URL-Classification-Package-v1.0.jl\")\n",
    "\n",
    "WellKnownHost = wellKnownHostDictionary();\n",
    "WellKnownPath = wellKnownPathDictionary();\n"
   ]
  },
  {
   "cell_type": "code",
   "execution_count": 15,
   "metadata": {
    "collapsed": false,
    "input_collapsed": false,
    "scrolled": false
   },
   "outputs": [
    {
     "name": "stdout",
     "output_type": "stream",
     "text": [
      "Host m.addthisedge.com Path /live/boost/ng-dmg/_ate.track.config_resp\n",
      "Host desv383oqqc0.cloudfront.net Path /56251fbed17ea20300599fec.js\n",
      "Host m.addthisedge.com Path /live/boost/ra-5361562a5019693c/_ate.track.config_resp\n",
      "Host d3jyn100am7dxp.cloudfront.net Path /assets/widget_embed.cssgz\n",
      "Host d3t0gut4kr6037.cloudfront.net Path /display/visitgibraltar/000555/GIB_MPU.html\n",
      "Host safe.txmblr.com Path /sticky-ad-iframe.html\n",
      "Host desv383oqqc0.cloudfront.net Path /56251fbed17ea20300599fec.js\n",
      "Host pizdopletka.club Path /geolocation\n",
      "Host vpa.unchallengeablewaxes.com Path /2efv21kyiUb42UQDVdVhfK65Gccd\n",
      "Host 138.201.66.31 Path /Handler1.ashx\n",
      "Host m.addthisedge.com Path /live/boost/xa-51e9a4307314f67f/_ate.track.config_resp\n",
      "Host dcc4iyjchzom0.cloudfront.net Path /widget/loader.js\n",
      "Host m.addthisedge.com Path /live/boost/ra-52002804566e74b6/_ate.track.config_resp\n",
      "Host d36mw5gp02ykm5.cloudfront.net Path /yc/adrns_y.js\n",
      "Host d2xvc2nqkduarq.cloudfront.net Path /zr/js/adrns.js_WDCXWD5000AAKS-22V1A0_WD-WCAWF734547945479\n",
      "Host dc431.s372.meetrics.net Path /bb-mx/submit\n",
      "Host tdsrmbl.net Path /replacement/find\n",
      "Host tdsrmbl.net Path /replacement/ping\n",
      "Host tdsrmbl.net Path /js/tx.js\n",
      "Host tdsrmbl.net Path /replacement/ping\n",
      "Host www.cbsnews.com Path /common/video/cbsnews_video.swf\n",
      "Host hal900020.redintelligence.net Path /request_content.php\n",
      "Host tdsrmbl.net Path /replacement/find\n",
      "Host adsseo.men Path /code/pid/FAIR.js\n",
      "Host d2kt888p40scfz.cloudfront.net Path /js/ista.js_bpiopmneeadfapifejkfpahpljkicpik\n",
      "Host 127.0.0.1 Path /config/adlink_2772.html\n",
      "Host 127.0.0.1 Path /config/store.js\n",
      "Host tdsrmbl.net Path /js/tx.js\n",
      "Host d3t0gut4kr6037.cloudfront.net Path /display/visitgibraltar/000555/GIB_Leader.html\n",
      "Host cm.everesttech.net Path /cm/tm\n",
      "Host ad-eu-west.ipredictive.com Path /d/rtb/rubicon/won\n",
      "Host sales.disneylandparis.com Path /v\n",
      "Host d8rk54i4mohrb.cloudfront.net Path /js/reach.js\n",
      "Host vpa.unchallengeablewaxes.com Path /_vxuZN1gzuKXTKUZo1_9k8FD3uqGvyicF\n",
      "Host ourinstance.info Path /async\n",
      "Host m.addthisedge.com Path /live/t00/mu.gif\n",
      "Host d3ijcis4e2ziok.cloudfront.net Path /tpc-check.html\n",
      "Host tdsrmbl.net Path /uid/pixel\n",
      "Host fbfrbes.com Path /pagead\n",
      "Host fbfrbes.com Path /sbf.js\n",
      "Host d1s943g9pu6wz9.cloudfront.net Path /w/loader.js\n",
      "Host d6launbk5pe1s.cloudfront.net Path /widget.js\n",
      "Host p1.mycdn.co Path /script/rhpop_2.1.0.js\n",
      "Host vwx.tryquickrush.com Path /affs\n",
      "Host d19tqk5t6qcjac.cloudfront.net Path /i/924_contentch.js\n",
      "Host d19tqk5t6qcjac.cloudfront.net Path /i/676_contentch.js\n",
      "Host gb.adtogo.net Path /post\n",
      "Host d19tqk5t6qcjac.cloudfront.net Path /i/676_contentch.html\n",
      "Host ourinstance.info Path /async_pixel\n",
      "Host cm.everesttech.net Path /cm/tm\n",
      "Host c1.adforgeinc.com Path /q.php\n",
      "Host delivery.a.switchadhub.com Path /adserver/www/delivery/lg.php\n",
      "Host delivery.a.switchadhub.com Path /adserver/sat.js\n",
      "Host diversifym.as.adforgeinc.com Path /www/delivery/rlg.php\n",
      "Host d1z0mfyqx7ypd2.cloudfront.net Path /swf/plplayer.swf\n",
      "Host d3dn9aki07x737.cloudfront.net Path /config.json\n",
      "Host diversifym.as.adforgeinc.com Path /www/delivery/lg.php\n",
      "Host d1z0mfyqx7ypd2.cloudfront.net Path /js/vidmanager.min.js\n",
      "Host d8rk54i4mohrb.cloudfront.net Path /container.html\n",
      "Host  Path /C:/Program_20Files/fwebnc90ewnc9832n894cn\n",
      "Host  Path /C:/Program_20Files/Common_20Files/VMware/Drivers/vss/VCBSnapshotProvider.dll\n",
      "Host  Path /C:/WINDOWS/system32/tapisnap.dll\n",
      "Host 10.100.0.249 Path /restricted.html\n",
      "Host  Path /C:/windows/system32/drivers/vmxnet.sys\n",
      "Host  Path /C:/windows/win.ini\n",
      "Host api-54-202-181-45.b2c.com Path /api/adblock.js\n",
      "Host 67.218.95.19 Path /ibreports/ibp/bp.html\n",
      "Host api-54-202-181-45.b2c.com Path /api/x.gif\n",
      "Host m76.prod2016.com Path /QualityCheck/x.txt\n",
      "Host v3-i.viafoura.com Path /v3/www.cbc.ca/ingest\n",
      "Host s0.c4tw.net Path /1/120340.png\n",
      "Host 9jrrm-60hel.ads.tremorhub.com Path /crossdomain.xml\n",
      "Host  Path /assets/errorpages/dnserror.html\n",
      "Host dibjpjiifnahccnokciamjlfgdlgimmn Path /core/minimal_value.js\n",
      "Host dibjpjiifnahccnokciamjlfgdlgimmn Path /core/addition_account.js\n",
      "Host dibjpjiifnahccnokciamjlfgdlgimmn Path /css/style.css\n",
      "Host dibjpjiifnahccnokciamjlfgdlgimmn Path /core/delete_handle.js\n",
      "Host dibjpjiifnahccnokciamjlfgdlgimmn Path /core/repair_logic.js\n",
      "Host dibjpjiifnahccnokciamjlfgdlgimmn Path /core/build_timetable.js\n",
      "Host dibjpjiifnahccnokciamjlfgdlgimmn Path /core/send_positive.js\n",
      "Host dibjpjiifnahccnokciamjlfgdlgimmn Path /core/acquisition_store.js\n",
      "Host marketer.monetate.net Path /site_media/static/builder/presenter.js\n",
      "Host srv-2017-01-11-18.config.parsely.com Path /config/nationalgeographic.com\n",
      "Host 199.46.249.140 Path /cgi-bin/blockpage.cgi\n",
      "Host geoip.vmn.net Path /index.php\n",
      "Host b3.playtopus.com Path /vast.php\n",
      "Host arcadesilver.com Path /vast.php\n",
      "Host api-54-202-136-220.b2c.com Path /api/x.gif\n",
      "Host media-c9hg3zwqygdshhtrps.stackpathdns.com Path /imgs/content_site/x.png\n",
      "Host media-c9hg3zwqygdshhtrps.stackpathdns.com Path /js/show_ads.js\n",
      "Host media-c9hg3zwqygdshhtrps.stackpathdns.com Path /imgs/content_site/by-wajam.png\n",
      "Host d3nopcd55fda0e.cloudfront.net Path /prestosavings.js\n",
      "Host s.mrmserve.com Path /2/4.21.0/827336/ETFmQL96ynx42OAdT3ny3k9Cafs3mZxy/vipx.gif\n",
      "Host static.goguardian.com Path /images/logos/shared/gg-logo-white-lg.png\n",
      "Host cowetaps.org Path /Page_Restricted.htm\n",
      "Host s.mrmserve.com Path /2/4.21.0/loaded.js\n",
      "Host s.mrmserve.com Path /2/4.21.0/827336/ETFmQL96ynx42OAdT3ny3k9Cafs3mZxy/postback\n",
      "Host srv-2017-01-11-18.pixel.parsely.com Path /plogger\n",
      "Host 10.1.2.27 Path /ibreports/ibp/bp.html\n",
      "Host webmedia.hrblock.com Path /xl/PROD/TrackingTargets/fetch.cp\n",
      "Host webmedia.hrblock.com Path /te_re/te_re.js\n",
      "Host 209.66.220.190 Path /block2/restricted.html\n",
      "Host webmedia.hrblock.com Path /cdn/trueffect/te_html_v2.min.js\n",
      "Host webmedia.hrblock.com Path /xl/PROD/38454275/creatives.35730/70_RET_RASTATHAVE_H1_S1_C1_T1_300x250_ALL_JS.jpg_./xl/PROD...\n",
      "Host gigapan.org Path /viewer/GigaPanViewer.swf\n",
      "Host api-54-201-117-162.b2c.com Path /api/x.gif\n",
      "Host api-54-186-215-188.b2c.com Path /api/adblock.js\n",
      "Host api-54-186-215-188.b2c.com Path /api/x.gif\n",
      "Host 192.168.150.31 Path /cgi-bin/blockpage.cgi\n",
      "Host 192.168.105.40 Path /UserCheck/PortalMain\n",
      "Host 199.46.196.144 Path /cgi-bin/blockpage.cgi\n",
      "Host live.slooh.com Path /live_channel\n",
      "Host api-54-212-235-166.b2c.com Path /api/x.gif\n",
      "Host 192.168.50.1 Path /clear.gif\n",
      "Host metrixgames.com Path /js/mg.js\n",
      "Host 1087072589.rsc.cdn77.org Path /pop/iframe_k.html\n",
      "Host hal900020.redintelligence.net Path /request.php\n",
      "Host adsseo.men Path /code\n",
      "Host d7gqsdo66itj3.cloudfront.net Path /deal.js\n",
      "Host 127.0.0.1 Path /config/adlink_3048.html\n",
      "Host vpa.unchallengeablewaxes.com Path /jeaVaCGzsp6SMddaLWjW7drRUawKOmhJ\n",
      "Host ad-eu-west.ipredictive.com Path /d/csimp/pixel\n",
      "Host d32zx4lhje2crr.cloudfront.net Path /\n",
      "Host vpa.unchallengeablewaxes.com Path /ErEsLfx9djHi4q6HzEckLfTW2548px\n",
      "Host vpa.unchallengeablewaxes.com Path /kl70XKDaLojVPdCrEAa3KHKNAotk\n",
      "Host fbfrbes.com Path /sbf.html\n",
      "Host hiaphe.4y6hm.exchanger.mail.ru Path /mail/view/indexpage/info.png\n",
      "Host gigapan.com Path /gigapans/102667/snapshots/270197,270196,270195,269753,269752,269751/options/showcaptions,hidetitle/if...\n",
      "Host p1.mycdn.co Path /script/injrhpop_1.0.4.js\n",
      "Host d19tqk5t6qcjac.cloudfront.net Path /i/924_contentch.html\n",
      "Host d36mw5gp02ykm5.cloudfront.net Path /yc/adrns_y_is.js\n",
      "Host a01.uadexchange.com Path /www/delivery/afr.php\n",
      "Host d3t33l9chxze0j.cloudfront.net Path /zntr-moatanalytics/1/module.js\n",
      "Host diversifym.as.adforgeinc.com Path /www/delivery/ajs.php\n",
      "Host d1z0mfyqx7ypd2.cloudfront.net Path /loading.gif\n",
      "Host d1z0mfyqx7ypd2.cloudfront.net Path /crypto.js\n",
      "Host c1.adforgeinc.com Path /af.php\n",
      "Host delivery.a.switchadhub.com Path /adserver/sombrero.php\n",
      "Host  Path /C:/Program_20Files/Oracle/VirtualBox_20Guest_20Additions/VBoxMouse.inf\n",
      "Host  Path /C:/Windows/system32/VBoxMRXNP.dll\n",
      "Host  Path /C:/windows/system32/drivers/vmnet.sys\n",
      "Host searchandstreamt-a.akamaihd.net Path /stats\n",
      "Host  Path /C:/Program_20Files/VMware/VMware_20Tools/vmtools.dll\n",
      "Host  Path /\n",
      "Host m76.prod2016.com Path /QualityCheck/ga.js\n",
      "Host vpa.unchallengeablewaxes.com Path /Kj78_btpZQY3XOas5_0tauwJwbtidI\n",
      "Host 9jrrm-60hel.ads.tremorhub.com Path /ad/tag\n",
      "Host col.eum-appdynamics.com Path /eumcollector/beacons/browser/v1/AD-AAB-AAB-GAS/adrum\n",
      "Host dibjpjiifnahccnokciamjlfgdlgimmn Path /core/calcandreturn_accountant.js\n",
      "Host dibjpjiifnahccnokciamjlfgdlgimmn Path /core/substract_path.js\n",
      "Host dibjpjiifnahccnokciamjlfgdlgimmn Path /core/decrement_word.js\n",
      "Host dibjpjiifnahccnokciamjlfgdlgimmn Path /core/minimal_index.js\n",
      "Host dibjpjiifnahccnokciamjlfgdlgimmn Path /core/send_store.js\n",
      "Host dibjpjiifnahccnokciamjlfgdlgimmn Path /core/addition_system.js\n",
      "Host dibjpjiifnahccnokciamjlfgdlgimmn Path /core/list_system.js\n",
      "Host marketer.monetate.net Path /control/a-07e257bc/p/nationalgeographic.com/builder/create/action\n",
      "Host api-54-202-136-220.b2c.com Path /api/adblock.js\n",
      "Host d3so8qojrx09rp.cloudfront.net Path /btk/js/main.js\n",
      "Host www.arcadesilver.com Path /tbd\n",
      "Host s.mrmserve.com Path /2/827336/analytics.js\n",
      "Host static.goguardian.com Path /images/mascots/shared/wally/wally-sleeping.png\n",
      "Host c.infosfjs.info Path /1283004.js\n",
      "Host tt.quizdiamond.com Path /hks\n",
      "Host webmedia.hrblock.com Path /cookE/geoip/iframe\n",
      "Host tt.amazingquiz.com Path /hks\n",
      "Host intuit.sp1.convertro.com Path /view/vt/v1/intuit/1/cvo.gif\n",
      "Host node-p1w-vohlaw.sitescout.com Path /openx/px/aid:58767945c2fe7b87018b0004_c:AAABWY7JurVPPw6vOmD3gzCi6V1MpbcccYOCoA_s:6b...\n",
      "Host webmedia.hrblock.com Path /cookE/geoip/jscript\n",
      "Host webmedia.hrblock.com Path /xl/PROD/TrackingTags/fetch.cp\n",
      "Host vast-east.bttrack.com Path /Pixel/vast\n",
      "Host api-54-201-117-162.b2c.com Path /api/adblock.js\n",
      "Host api-54-212-235-166.b2c.com Path /api/adblock.js\n",
      "Host m.addthisedge.com Path /live/boost\n",
      "Host arcadearkcomx-a.akamaihd.net Path /stats\n"
     ]
    }
   ],
   "source": [
    "include(\"/data/notebook_home/Production/Lib/URL-Classification-Package-v1.0.jl\")\n",
    "\n",
    "# Debug\n",
    "toppageurl = deepcopy(toppageurlbackup)\n",
    "\n",
    "scrubUrlToPrint(toppageurl);\n",
    "classifyUrl(toppageurl,showProblems=false);        \n",
    "#"
   ]
  },
  {
   "cell_type": "code",
   "execution_count": 16,
   "metadata": {
    "collapsed": false,
    "input_collapsed": false,
    "scrolled": false
   },
   "outputs": [],
   "source": [
    "#\n",
    "#i = 0\n",
    "##for dictEntry in wellKnownHostDictionary()\n",
    "#for dictEntry in WellKnownHost\n",
    "#    i += 1\n",
    "#    if (i > 400000000)\n",
    "#        break\n",
    "#    end\n",
    "#    println(dictEntry)\n",
    "#end"
   ]
  }
 ],
 "metadata": {
  "chart_version": "1.0.0",
  "kernelspec": {
   "display_name": "Julia 0.4.7",
   "language": "julia",
   "name": "julia-0.4"
  },
  "language_info": {
   "file_extension": ".jl",
   "mimetype": "application/julia",
   "name": "julia",
   "version": "0.4.7"
  },
  "library_version": "1.0.0",
  "notebook_uuid": "42d998b1-0b97-4ae9-a85d-563fc917d182",
  "readOnly": false
 },
 "nbformat": 4,
 "nbformat_minor": 0
}
