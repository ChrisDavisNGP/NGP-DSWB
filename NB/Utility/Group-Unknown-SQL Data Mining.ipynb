{
 "cells": [
  {
   "cell_type": "code",
   "execution_count": 5,
   "metadata": {
    "collapsed": false,
    "input_collapsed": false
   },
   "outputs": [
    {
     "name": "stdout",
     "output_type": "stream",
     "text": [
      "Redshift endpoint set: 2017-06-13T11:30:02\n"
     ]
    },
    {
     "data": {
      "text/plain": [
       "\"beacons_4744\""
      ]
     },
     "execution_count": 5,
     "metadata": {},
     "output_type": "execute_result"
    }
   ],
   "source": [
    "using ODBC\n",
    "using DataFrames\n",
    "using DSWB\n",
    "using Formatting\n",
    "\n",
    "dsn = \"dswb-natgeo\" # Redshift endpoint\n",
    "table = \"beacons_4744\" # beacon table name\n",
    "tableRt = \"beacons_4744_rt\"\n",
    "\n",
    "# Connect to Beacon Data\n",
    "setRedshiftEndpoint(dsn)\n",
    "setTable(table)"
   ]
  },
  {
   "cell_type": "code",
   "execution_count": 9,
   "metadata": {
    "collapsed": false,
    "input_collapsed": false,
    "scrolled": true
   },
   "outputs": [
    {
     "name": "stdout",
     "output_type": "stream",
     "text": [
      "June 5, 2017 23:59:00 to June 12, 2017 23:59:00 Local Time\n",
      "June 6, 2017 03:59:00 to June 13, 2017 03:59:00 UTC Time\n"
     ]
    }
   ],
   "source": [
    "include(\"/data/notebook_home/Production/Lib/Include-Package-v1.0.jl\")\n",
    "include(\"/data/notebook_home/Production/Bodies/Group-NatGeo-Site-Sql-Data-Mining-Body-v1.0.jl\")\n",
    "\n",
    "#timeVariables(2017,6,8,10,59,2017,6,8,12,59)\n",
    "weeklyTimeVariables(days=7)\n",
    "#yesterdayTimeVariables()\n",
    ";"
   ]
  },
  {
   "cell_type": "code",
   "execution_count": 10,
   "metadata": {
    "collapsed": false,
    "input_collapsed": false
   },
   "outputs": [],
   "source": [
    "UP = UrlParamsInit()\n",
    "UP.beaconTable = table   #table\n",
    "UP.resourceTable = tableRt\n",
    "UP.btView = \"$(table)_sql_no_page_group_view\"\n",
    "UP.rtView = \"$(tableRt)_sql_no_page_group_view\"\n",
    "UP.pageGroup = \"Unknown\"   #productPageGroup\n",
    "UP.urlRegEx = \"%\"   #localUrl\n",
    "UP.deviceType = \"%\"\n",
    "\n",
    "SG = SoastaGraphsInit()\n",
    "customer = \"Nat Geo\" \n",
    "SG.customer = customer\n",
    "\n",
    "SP = ShowParamsInit()\n",
    "SP.debugLevel = 10;\n",
    "SP.debug = true;\n",
    ";\n",
    "\n",
    "LV = LocalVars(0)\n",
    "LV.linesOutput = 25\n",
    ";"
   ]
  },
  {
   "cell_type": "code",
   "execution_count": 11,
   "metadata": {
    "collapsed": false,
    "input_collapsed": false
   },
   "outputs": [
    {
     "name": "stdout",
     "output_type": "stream",
     "text": [
      "beacons_4744_sql_no_page_group_view count is 653\n"
     ]
    }
   ],
   "source": [
    "defaultTableGNGSSDM(tv,UP)\n",
    ";"
   ]
  },
  {
   "cell_type": "code",
   "execution_count": 12,
   "metadata": {
    "collapsed": false,
    "input_collapsed": true
   },
   "outputs": [
    {
     "data": {
      "text/html": [
       "    <table  class=\"dataframe-table\">\n",
       "    <thead><tr><th class=\"cell-1\" style=\"\">url</th> <th class=\"cell-2\" style=\"\">count</th></tr></thead>\n",
       "    <tbody>\n",
       "    <tr><td class=\"cell-1\" style=\"\">http://www.nationalgeographic.com/</td> <td class=\"cell-2\" style=\"text-align:right;\">653</td></tr>\n",
       "    \n",
       "    \n",
       "    </tbody>\n"
      ],
      "text/plain": [
       "HTML{UTF8String}(\"    <table  class=\\\"dataframe-table\\\">\\n    <thead><tr><th class=\\\"cell-1\\\" style=\\\"\\\">url</th> <th class=\\\"cell-2\\\" style=\\\"\\\">count</th></tr></thead>\\n    <tbody>\\n    <tr><td class=\\\"cell-1\\\" style=\\\"\\\">http://www.nationalgeographic.com/</td> <td class=\\\"cell-2\\\" style=\\\"text-align:right;\\\">653</td></tr>\\n    \\n    \\n    </tbody>\\n\")"
      ]
     },
     "metadata": {},
     "output_type": "display_data"
    }
   ],
   "source": [
    "test1GNGSSDM(UP,LV)\n",
    ";"
   ]
  },
  {
   "cell_type": "code",
   "execution_count": 13,
   "metadata": {
    "collapsed": false,
    "input_collapsed": false
   },
   "outputs": [
    {
     "data": {
      "text/html": [
       "    <table  class=\"dataframe-table\">\n",
       "    <thead><tr><th class=\"cell-1\" style=\"\">count</th> <th class=\"cell-2\" style=\"\">url</th> <th class=\"cell-3\" style=\"\">params u</th></tr></thead>\n",
       "    <tbody>\n",
       "    <tr><td class=\"cell-1\" style=\"text-align:right;\">35</td> <td class=\"cell-2\" style=\"\">http://www.nationalgeographic.com/</td> <td class=\"cell-3\" style=\"\">http://www.nationalgeographic.com/?utm_source=NatGeocom&utm_medium=Email&utm_content=CommentNotification&utm_campaign=Membership</td></tr>\n",
       "<tr><td class=\"cell-1\" style=\"text-align:right;\">9</td> <td class=\"cell-2\" style=\"\">http://www.nationalgeographic.com/</td> <td class=\"cell-3\" style=\"\">http://www.nationalgeographic.com/?utm_source=NatGeocom&utm_medium=Email&utm_content=pom_20160410&utm_campaign=Content&utm_rd=17639590</td></tr>\n",
       "<tr><td class=\"cell-1\" style=\"text-align:right;\">8</td> <td class=\"cell-2\" style=\"\">http://www.nationalgeographic.com/</td> <td class=\"cell-3\" style=\"\">http://www.nationalgeographic.com/?utm_source=NatGeocom&utm_medium=Email&utm_content=member_welcome_1&utm_campaign=Membership</td></tr>\n",
       "<tr><td class=\"cell-1\" style=\"text-align:right;\">8</td> <td class=\"cell-2\" style=\"\">http://www.nationalgeographic.com/</td> <td class=\"cell-3\" style=\"\">http://www.nationalgeographic.com/?utm_source=NatGeocom&utm_medium=Email&utm_content=Monetate_Lightbox_Signup&utm_campaign=Content&utm_rd=624921739</td></tr>\n",
       "<tr><td class=\"cell-1\" style=\"text-align:right;\">7</td> <td class=\"cell-2\" style=\"\">http://www.nationalgeographic.com/</td> <td class=\"cell-3\" style=\"\">http://www.nationalgeographic.com/?utm_source=NGdotcom-Travel&utm_medium=Email&utm_content=201700608_Travel_Newsletter&utm_campaign=NGdotcom&utm_rd=16191715535</td></tr>\n",
       "<tr><td class=\"cell-1\" style=\"text-align:right;\">6</td> <td class=\"cell-2\" style=\"\">http://www.nationalgeographic.com/</td> <td class=\"cell-3\" style=\"\">http://www.nationalgeographic.com/?utm_source=NatGeocom&utm_medium=Email&utm_content=geno_notification_email6&utm_campaign=Content</td></tr>\n",
       "<tr><td class=\"cell-1\" style=\"text-align:right;\">5</td> <td class=\"cell-2\" style=\"\">http://www.nationalgeographic.com/</td> <td class=\"cell-3\" style=\"\">http://www.nationalgeographic.com/?utm_source=NatGeocom&utm_medium=Email&utm_content=ReplyNotification&utm_campaign=Membership</td></tr>\n",
       "<tr><td class=\"cell-1\" style=\"text-align:right;\">5</td> <td class=\"cell-2\" style=\"\">http://www.nationalgeographic.com/</td> <td class=\"cell-3\" style=\"\">http://www.nationalgeographic.com/?utm_source=NatGeocom&utm_medium=Email&utm_content=multi_20160426&utm_campaign=MultiProduct&utm_rd=15553712</td></tr>\n",
       "<tr><td class=\"cell-1\" style=\"text-align:right;\">5</td> <td class=\"cell-2\" style=\"\">http://www.nationalgeographic.com/</td> <td class=\"cell-3\" style=\"\">http://www.nationalgeographic.com/?utm_source=NatGeocom&utm_medium=Email&utm_content=Message8&utm_campaign=WelcomeSeries&utm_rd=18452639315</td></tr>\n",
       "<tr><td class=\"cell-1\" style=\"text-align:right;\">5</td> <td class=\"cell-2\" style=\"\">http://www.nationalgeographic.com/</td> <td class=\"cell-3\" style=\"\">http://www.nationalgeographic.com/?utm_source=NatGeocom&utm_medium=Email&utm_content=StoreMsg1_Handraisers&utm_campaign=WelcomeSeries&utm_rd=18457469695</td></tr>\n",
       "<tr><td class=\"cell-1\" style=\"text-align:right;\">5</td> <td class=\"cell-2\" style=\"\">http://www.nationalgeographic.com/</td> <td class=\"cell-3\" style=\"\">http://www.nationalgeographic.com/?utm_source=NatGeocom&utm_medium=Email&utm_content=Monetate_Lightbox_Signup&utm_campaign=Content&utm_rd=634529797</td></tr>\n",
       "<tr><td class=\"cell-1\" style=\"text-align:right;\">5</td> <td class=\"cell-2\" style=\"\">http://www.nationalgeographic.com/</td> <td class=\"cell-3\" style=\"\">http://www.nationalgeographic.com/?utm_source=NatGeocom&utm_medium=Email&utm_content=inside_20170611&utm_campaign=Content&utm_rd=1495668406</td></tr>\n",
       "<tr><td class=\"cell-1\" style=\"text-align:right;\">4</td> <td class=\"cell-2\" style=\"\">http://www.nationalgeographic.com/</td> <td class=\"cell-3\" style=\"\">http://www.nationalgeographic.com/?utm_source=NatGeocom&utm_medium=Email&utm_content=Monetate_Lightbox_Signup&utm_campaign=Content&utm_rd=18456664135</td></tr>\n",
       "    \n",
       "    <tr><td class=\"cell-1\" style=\"text-align:right;\">4</td> <td class=\"cell-2\" style=\"\">http://www.nationalgeographic.com/</td> <td class=\"cell-3\" style=\"\">http://www.nationalgeographic.com/?utm_source=NatGeocom&utm_medium=Email&utm_content=Preference_D00&utm_campaign=Reactivation_Series&utm_rd=1625533512</td></tr>\n",
       "<tr><td class=\"cell-1\" style=\"text-align:right;\">4</td> <td class=\"cell-2\" style=\"\">http://www.nationalgeographic.com/</td> <td class=\"cell-3\" style=\"\">http://www.nationalgeographic.com/?utm_source=NatGeocom&utm_medium=Email&utm_content=Look_Newsletter_20170423&utm_campaign=Look_Newsletter&utm_rd=7691938155</td></tr>\n",
       "<tr><td class=\"cell-1\" style=\"text-align:right;\">4</td> <td class=\"cell-2\" style=\"\">http://www.nationalgeographic.com/</td> <td class=\"cell-3\" style=\"\">http://www.nationalgeographic.com/?utm_source=NatGeocom&utm_medium=Email&utm_content=multi_20150729&utm_campaign=MultiProduct</td></tr>\n",
       "<tr><td class=\"cell-1\" style=\"text-align:right;\">4</td> <td class=\"cell-2\" style=\"\">http://www.nationalgeographic.com/</td> <td class=\"cell-3\" style=\"\">http://www.nationalgeographic.com/?utm_source=NatGeocom&utm_medium=Email&utm_content=yourshot_20170528&utm_campaign=Content&utm_rd=18444956675</td></tr>\n",
       "<tr><td class=\"cell-1\" style=\"text-align:right;\">3</td> <td class=\"cell-2\" style=\"\">http://www.nationalgeographic.com/</td> <td class=\"cell-3\" style=\"\">http://www.nationalgeographic.com/?utm_source=NatGeocom&utm_medium=Email&utm_content=Look_Newsletter_20170604&utm_campaign=Look_Newsletter&utm_rd=15622580655</td></tr>\n",
       "<tr><td class=\"cell-1\" style=\"text-align:right;\">3</td> <td class=\"cell-2\" style=\"\">http://www.nationalgeographic.com/</td> <td class=\"cell-3\" style=\"\">http://www.nationalgeographic.com/?utm_source=NatGeocom&utm_medium=Email&utm_content=Monetate_Lightbox_Signup&utm_campaign=Content&utm_rd=941539768</td></tr>\n",
       "<tr><td class=\"cell-1\" style=\"text-align:right;\">3</td> <td class=\"cell-2\" style=\"\">http://www.nationalgeographic.com/</td> <td class=\"cell-3\" style=\"\">http://www.nationalgeographic.com/?utm_source=NatGeocom&utm_medium=Email&utm_content=pom_20170326&utm_campaign=Content&utm_rd=16382424</td></tr>\n",
       "<tr><td class=\"cell-1\" style=\"text-align:right;\">3</td> <td class=\"cell-2\" style=\"\">http://www.nationalgeographic.com/</td> <td class=\"cell-3\" style=\"\">http://www.nationalgeographic.com/?utm_source=NatGeocom&utm_medium=Email&utm_content=Monetate_Lightbox_Signup&utm_campaign=Content&utm_rd=16068219435</td></tr>\n",
       "<tr><td class=\"cell-1\" style=\"text-align:right;\">3</td> <td class=\"cell-2\" style=\"\">http://www.nationalgeographic.com/</td> <td class=\"cell-3\" style=\"\">http://www.nationalgeographic.com/?utm_source=NatGeocom&utm_medium=Email&utm_content=Look_Newsletter_20170604&utm_campaign=Look_Newsletter&utm_rd=18263440215</td></tr>\n",
       "<tr><td class=\"cell-1\" style=\"text-align:right;\">3</td> <td class=\"cell-2\" style=\"\">http://www.nationalgeographic.com/</td> <td class=\"cell-3\" style=\"\">http://www.nationalgeographic.com/?utm_source=NatGeocom&utm_medium=Email&utm_content=helix_welcome&utm_campaign=Content</td></tr>\n",
       "<tr><td class=\"cell-1\" style=\"text-align:right;\">3</td> <td class=\"cell-2\" style=\"\">http://www.nationalgeographic.com/</td> <td class=\"cell-3\" style=\"\">http://www.nationalgeographic.com/?utm_source=NatGeocom&utm_medium=Email&utm_content=yourshot_20170528&utm_campaign=Content&utm_rd=1346422606</td></tr>\n",
       "<tr><td class=\"cell-1\" style=\"text-align:right;\">3</td> <td class=\"cell-2\" style=\"\">http://www.nationalgeographic.com/</td> <td class=\"cell-3\" style=\"\">http://www.nationalgeographic.com/?utm_source=NatGeocom&utm_medium=Email&utm_content=Message8&utm_campaign=WelcomeSeries&utm_rd=18454356475</td></tr>\n",
       "    </tbody>\n"
      ],
      "text/plain": [
       "HTML{UTF8String}(\"    <table  class=\\\"dataframe-table\\\">\\n    <thead><tr><th class=\\\"cell-1\\\" style=\\\"\\\">count</th> <th class=\\\"cell-2\\\" style=\\\"\\\">url</th> <th class=\\\"cell-3\\\" style=\\\"\\\">params u</th></tr></thead>\\n    <tbody>\\n    <tr><td class=\\\"cell-1\\\" style=\\\"text-align:right;\\\">35</td> <td class=\\\"cell-2\\\" style=\\\"\\\">http://www.nationalgeographic.com/</td> <td class=\\\"cell-3\\\" style=\\\"\\\">http://www.nationalgeographic.com/?utm_source=NatGeocom&utm_medium=Email&utm_content=CommentNotification&utm_campaign=Membership</td></tr>\\n<tr><td class=\\\"cell-1\\\" style=\\\"text-align:right;\\\">9</td> <td class=\\\"cell-2\\\" style=\\\"\\\">http://www.nationalgeographic.com/</td> <td class=\\\"cell-3\\\" style=\\\"\\\">http://www.nationalgeographic.com/?utm_source=NatGeocom&utm_medium=Email&utm_content=pom_20160410&utm_campaign=Content&utm_rd=17639590</td></tr>\\n<tr><td class=\\\"cell-1\\\" style=\\\"text-align:right;\\\">8</td> <td class=\\\"cell-2\\\" style=\\\"\\\">http://www.nationalgeographic.com/</td> <td class=\\\"cell-3\\\" style=\\\"\\\">http://www.nationalgeographic.com/?utm_source=NatGeocom&utm_medium=Email&utm_content=member_welcome_1&utm_campaign=Membership</td></tr>\\n<tr><td class=\\\"cell-1\\\" style=\\\"text-align:right;\\\">8</td> <td class=\\\"cell-2\\\" style=\\\"\\\">http://www.nationalgeographic.com/</td> <td class=\\\"cell-3\\\" style=\\\"\\\">http://www.nationalgeographic.com/?utm_source=NatGeocom&utm_medium=Email&utm_content=Monetate_Lightbox_Signup&utm_campaign=Content&utm_rd=624921739</td></tr>\\n<tr><td class=\\\"cell-1\\\" style=\\\"text-align:right;\\\">7</td> <td class=\\\"cell-2\\\" style=\\\"\\\">http://www.nationalgeographic.com/</td> <td class=\\\"cell-3\\\" style=\\\"\\\">http://www.nationalgeographic.com/?utm_source=NGdotcom-Travel&utm_medium=Email&utm_content=201700608_Travel_Newsletter&utm_campaign=NGdotcom&utm_rd=16191715535</td></tr>\\n<tr><td class=\\\"cell-1\\\" style=\\\"text-align:right;\\\">6</td> <td class=\\\"cell-2\\\" style=\\\"\\\">http://www.nationalgeographic.com/</td> <td class=\\\"cell-3\\\" style=\\\"\\\">http://www.nationalgeographic.com/?utm_source=NatGeocom&utm_medium=Email&utm_content=geno_notification_email6&utm_campaign=Content</td></tr>\\n<tr><td class=\\\"cell-1\\\" style=\\\"text-align:right;\\\">5</td> <td class=\\\"cell-2\\\" style=\\\"\\\">http://www.nationalgeographic.com/</td> <td class=\\\"cell-3\\\" style=\\\"\\\">http://www.nationalgeographic.com/?utm_source=NatGeocom&utm_medium=Email&utm_content=ReplyNotification&utm_campaign=Membership</td></tr>\\n<tr><td class=\\\"cell-1\\\" style=\\\"text-align:right;\\\">5</td> <td class=\\\"cell-2\\\" style=\\\"\\\">http://www.nationalgeographic.com/</td> <td class=\\\"cell-3\\\" style=\\\"\\\">http://www.nationalgeographic.com/?utm_source=NatGeocom&utm_medium=Email&utm_content=multi_20160426&utm_campaign=MultiProduct&utm_rd=15553712</td></tr>\\n<tr><td class=\\\"cell-1\\\" style=\\\"text-align:right;\\\">5</td> <td class=\\\"cell-2\\\" style=\\\"\\\">http://www.nationalgeographic.com/</td> <td class=\\\"cell-3\\\" style=\\\"\\\">http://www.nationalgeographic.com/?utm_source=NatGeocom&utm_medium=Email&utm_content=Message8&utm_campaign=WelcomeSeries&utm_rd=18452639315</td></tr>\\n<tr><td class=\\\"cell-1\\\" style=\\\"text-align:right;\\\">5</td> <td class=\\\"cell-2\\\" style=\\\"\\\">http://www.nationalgeographic.com/</td> <td class=\\\"cell-3\\\" style=\\\"\\\">http://www.nationalgeographic.com/?utm_source=NatGeocom&utm_medium=Email&utm_content=StoreMsg1_Handraisers&utm_campaign=WelcomeSeries&utm_rd=18457469695</td></tr>\\n<tr><td class=\\\"cell-1\\\" style=\\\"text-align:right;\\\">5</td> <td class=\\\"cell-2\\\" style=\\\"\\\">http://www.nationalgeographic.com/</td> <td class=\\\"cell-3\\\" style=\\\"\\\">http://www.nationalgeographic.com/?utm_source=NatGeocom&utm_medium=Email&utm_content=Monetate_Lightbox_Signup&utm_campaign=Content&utm_rd=634529797</td></tr>\\n<tr><td class=\\\"cell-1\\\" style=\\\"text-align:right;\\\">5</td> <td class=\\\"cell-2\\\" style=\\\"\\\">http://www.nationalgeographic.com/</td> <td class=\\\"cell-3\\\" style=\\\"\\\">http://www.nationalgeographic.com/?utm_source=NatGeocom&utm_medium=Email&utm_content=inside_20170611&utm_campaign=Content&utm_rd=1495668406</td></tr>\\n<tr><td class=\\\"cell-1\\\" style=\\\"text-align:right;\\\">4</td> <td class=\\\"cell-2\\\" style=\\\"\\\">http://www.nationalgeographic.com/</td> <td class=\\\"cell-3\\\" style=\\\"\\\">http://www.nationalgeographic.com/?utm_source=NatGeocom&utm_medium=Email&utm_content=Monetate_Lightbox_Signup&utm_campaign=Content&utm_rd=18456664135</td></tr>\\n    \\n    <tr><td class=\\\"cell-1\\\" style=\\\"text-align:right;\\\">4</td> <td class=\\\"cell-2\\\" style=\\\"\\\">http://www.nationalgeographic.com/</td> <td class=\\\"cell-3\\\" style=\\\"\\\">http://www.nationalgeographic.com/?utm_source=NatGeocom&utm_medium=Email&utm_content=Preference_D00&utm_campaign=Reactivation_Series&utm_rd=1625533512</td></tr>\\n<tr><td class=\\\"cell-1\\\" style=\\\"text-align:right;\\\">4</td> <td class=\\\"cell-2\\\" style=\\\"\\\">http://www.nationalgeographic.com/</td> <td class=\\\"cell-3\\\" style=\\\"\\\">http://www.nationalgeographic.com/?utm_source=NatGeocom&utm_medium=Email&utm_content=Look_Newsletter_20170423&utm_campaign=Look_Newsletter&utm_rd=7691938155</td></tr>\\n<tr><td class=\\\"cell-1\\\" style=\\\"text-align:right;\\\">4</td> <td class=\\\"cell-2\\\" style=\\\"\\\">http://www.nationalgeographic.com/</td> <td class=\\\"cell-3\\\" style=\\\"\\\">http://www.nationalgeographic.com/?utm_source=NatGeocom&utm_medium=Email&utm_content=multi_20150729&utm_campaign=MultiProduct</td></tr>\\n<tr><td class=\\\"cell-1\\\" style=\\\"text-align:right;\\\">4</td> <td class=\\\"cell-2\\\" style=\\\"\\\">http://www.nationalgeographic.com/</td> <td class=\\\"cell-3\\\" style=\\\"\\\">http://www.nationalgeographic.com/?utm_source=NatGeocom&utm_medium=Email&utm_content=yourshot_20170528&utm_campaign=Content&utm_rd=18444956675</td></tr>\\n<tr><td class=\\\"cell-1\\\" style=\\\"text-align:right;\\\">3</td> <td class=\\\"cell-2\\\" style=\\\"\\\">http://www.nationalgeographic.com/</td> <td class=\\\"cell-3\\\" style=\\\"\\\">http://www.nationalgeographic.com/?utm_source=NatGeocom&utm_medium=Email&utm_content=Look_Newsletter_20170604&utm_campaign=Look_Newsletter&utm_rd=15622580655</td></tr>\\n<tr><td class=\\\"cell-1\\\" style=\\\"text-align:right;\\\">3</td> <td class=\\\"cell-2\\\" style=\\\"\\\">http://www.nationalgeographic.com/</td> <td class=\\\"cell-3\\\" style=\\\"\\\">http://www.nationalgeographic.com/?utm_source=NatGeocom&utm_medium=Email&utm_content=Monetate_Lightbox_Signup&utm_campaign=Content&utm_rd=941539768</td></tr>\\n<tr><td class=\\\"cell-1\\\" style=\\\"text-align:right;\\\">3</td> <td class=\\\"cell-2\\\" style=\\\"\\\">http://www.nationalgeographic.com/</td> <td class=\\\"cell-3\\\" style=\\\"\\\">http://www.nationalgeographic.com/?utm_source=NatGeocom&utm_medium=Email&utm_content=pom_20170326&utm_campaign=Content&utm_rd=16382424</td></tr>\\n<tr><td class=\\\"cell-1\\\" style=\\\"text-align:right;\\\">3</td> <td class=\\\"cell-2\\\" style=\\\"\\\">http://www.nationalgeographic.com/</td> <td class=\\\"cell-3\\\" style=\\\"\\\">http://www.nationalgeographic.com/?utm_source=NatGeocom&utm_medium=Email&utm_content=Monetate_Lightbox_Signup&utm_campaign=Content&utm_rd=16068219435</td></tr>\\n<tr><td class=\\\"cell-1\\\" style=\\\"text-align:right;\\\">3</td> <td class=\\\"cell-2\\\" style=\\\"\\\">http://www.nationalgeographic.com/</td> <td class=\\\"cell-3\\\" style=\\\"\\\">http://www.nationalgeographic.com/?utm_source=NatGeocom&utm_medium=Email&utm_content=Look_Newsletter_20170604&utm_campaign=Look_Newsletter&utm_rd=18263440215</td></tr>\\n<tr><td class=\\\"cell-1\\\" style=\\\"text-align:right;\\\">3</td> <td class=\\\"cell-2\\\" style=\\\"\\\">http://www.nationalgeographic.com/</td> <td class=\\\"cell-3\\\" style=\\\"\\\">http://www.nationalgeographic.com/?utm_source=NatGeocom&utm_medium=Email&utm_content=helix_welcome&utm_campaign=Content</td></tr>\\n<tr><td class=\\\"cell-1\\\" style=\\\"text-align:right;\\\">3</td> <td class=\\\"cell-2\\\" style=\\\"\\\">http://www.nationalgeographic.com/</td> <td class=\\\"cell-3\\\" style=\\\"\\\">http://www.nationalgeographic.com/?utm_source=NatGeocom&utm_medium=Email&utm_content=yourshot_20170528&utm_campaign=Content&utm_rd=1346422606</td></tr>\\n<tr><td class=\\\"cell-1\\\" style=\\\"text-align:right;\\\">3</td> <td class=\\\"cell-2\\\" style=\\\"\\\">http://www.nationalgeographic.com/</td> <td class=\\\"cell-3\\\" style=\\\"\\\">http://www.nationalgeographic.com/?utm_source=NatGeocom&utm_medium=Email&utm_content=Message8&utm_campaign=WelcomeSeries&utm_rd=18454356475</td></tr>\\n    </tbody>\\n\")"
      ]
     },
     "metadata": {},
     "output_type": "display_data"
    }
   ],
   "source": [
    "test2GNGSSDM(UP,LV)\n",
    ";"
   ]
  },
  {
   "cell_type": "code",
   "execution_count": 14,
   "metadata": {
    "collapsed": false,
    "input_collapsed": false
   },
   "outputs": [
    {
     "data": {
      "text/html": [
       "    <table  class=\"dataframe-table\">\n",
       "    <thead><tr><th class=\"cell-1\" style=\"\">page views</th> <th class=\"cell-2\" style=\"\">url landing in nat geo site default group</th></tr></thead>\n",
       "    <tbody>\n",
       "    <tr><td class=\"cell-1\" style=\"text-align:right;\">35</td> <td class=\"cell-2\" style=\"\">http://www.nationalgeographic.com/?utm_source=NatGeocom&utm_medium=Email&utm_content=CommentNotification&utm_campaign=Membership</td></tr>\n",
       "<tr><td class=\"cell-1\" style=\"text-align:right;\">9</td> <td class=\"cell-2\" style=\"\">http://www.nationalgeographic.com/?utm_source=NatGeocom&utm_medium=Email&utm_content=pom_20160410&utm_campaign=Content&utm_rd=17639590</td></tr>\n",
       "<tr><td class=\"cell-1\" style=\"text-align:right;\">8</td> <td class=\"cell-2\" style=\"\">http://www.nationalgeographic.com/?utm_source=NatGeocom&utm_medium=Email&utm_content=Monetate_Lightbox_Signup&utm_campaign=Content&utm_rd=624921739</td></tr>\n",
       "<tr><td class=\"cell-1\" style=\"text-align:right;\">8</td> <td class=\"cell-2\" style=\"\">http://www.nationalgeographic.com/?utm_source=NatGeocom&utm_medium=Email&utm_content=member_welcome_1&utm_campaign=Membership</td></tr>\n",
       "<tr><td class=\"cell-1\" style=\"text-align:right;\">7</td> <td class=\"cell-2\" style=\"\">http://www.nationalgeographic.com/?utm_source=NGdotcom-Travel&utm_medium=Email&utm_content=201700608_Travel_Newsletter&utm_campaign=NGdotcom&utm_rd=16191715535</td></tr>\n",
       "<tr><td class=\"cell-1\" style=\"text-align:right;\">6</td> <td class=\"cell-2\" style=\"\">http://www.nationalgeographic.com/?utm_source=NatGeocom&utm_medium=Email&utm_content=geno_notification_email6&utm_campaign=Content</td></tr>\n",
       "<tr><td class=\"cell-1\" style=\"text-align:right;\">5</td> <td class=\"cell-2\" style=\"\">http://www.nationalgeographic.com/?utm_source=NatGeocom&utm_medium=Email&utm_content=Monetate_Lightbox_Signup&utm_campaign=Content&utm_rd=634529797</td></tr>\n",
       "<tr><td class=\"cell-1\" style=\"text-align:right;\">5</td> <td class=\"cell-2\" style=\"\">http://www.nationalgeographic.com/?utm_source=NatGeocom&utm_medium=Email&utm_content=Message8&utm_campaign=WelcomeSeries&utm_rd=18452639315</td></tr>\n",
       "<tr><td class=\"cell-1\" style=\"text-align:right;\">5</td> <td class=\"cell-2\" style=\"\">http://www.nationalgeographic.com/?utm_source=NatGeocom&utm_medium=Email&utm_content=multi_20160426&utm_campaign=MultiProduct&utm_rd=15553712</td></tr>\n",
       "<tr><td class=\"cell-1\" style=\"text-align:right;\">5</td> <td class=\"cell-2\" style=\"\">http://www.nationalgeographic.com/?utm_source=NatGeocom&utm_medium=Email&utm_content=StoreMsg1_Handraisers&utm_campaign=WelcomeSeries&utm_rd=18457469695</td></tr>\n",
       "<tr><td class=\"cell-1\" style=\"text-align:right;\">5</td> <td class=\"cell-2\" style=\"\">http://www.nationalgeographic.com/?utm_source=NatGeocom&utm_medium=Email&utm_content=ReplyNotification&utm_campaign=Membership</td></tr>\n",
       "<tr><td class=\"cell-1\" style=\"text-align:right;\">5</td> <td class=\"cell-2\" style=\"\">http://www.nationalgeographic.com/?utm_source=NatGeocom&utm_medium=Email&utm_content=inside_20170611&utm_campaign=Content&utm_rd=1495668406</td></tr>\n",
       "<tr><td class=\"cell-1\" style=\"text-align:right;\">4</td> <td class=\"cell-2\" style=\"\">http://www.nationalgeographic.com/?utm_source=NatGeocom&utm_medium=Email&utm_content=yourshot_20170528&utm_campaign=Content&utm_rd=18444956675</td></tr>\n",
       "    \n",
       "    <tr><td class=\"cell-1\" style=\"text-align:right;\">4</td> <td class=\"cell-2\" style=\"\">http://www.nationalgeographic.com/?utm_source=NatGeocom&utm_medium=Email&utm_content=Preference_D00&utm_campaign=Reactivation_Series&utm_rd=1625533512</td></tr>\n",
       "<tr><td class=\"cell-1\" style=\"text-align:right;\">4</td> <td class=\"cell-2\" style=\"\">http://www.nationalgeographic.com/?utm_source=NatGeocom&utm_medium=Email&utm_content=Look_Newsletter_20170423&utm_campaign=Look_Newsletter&utm_rd=7691938155</td></tr>\n",
       "<tr><td class=\"cell-1\" style=\"text-align:right;\">4</td> <td class=\"cell-2\" style=\"\">http://www.nationalgeographic.com/?utm_source=NatGeocom&utm_medium=Email&utm_content=Monetate_Lightbox_Signup&utm_campaign=Content&utm_rd=18456664135</td></tr>\n",
       "<tr><td class=\"cell-1\" style=\"text-align:right;\">4</td> <td class=\"cell-2\" style=\"\">http://www.nationalgeographic.com/?utm_source=NatGeocom&utm_medium=Email&utm_content=multi_20150729&utm_campaign=MultiProduct</td></tr>\n",
       "<tr><td class=\"cell-1\" style=\"text-align:right;\">3</td> <td class=\"cell-2\" style=\"\">http://www.nationalgeographic.com/?utm_source=NatGeocom&utm_medium=Email&utm_content=Look_Newsletter_20170604&utm_campaign=Look_Newsletter&utm_rd=12940177635</td></tr>\n",
       "<tr><td class=\"cell-1\" style=\"text-align:right;\">3</td> <td class=\"cell-2\" style=\"\">http://www.nationalgeographic.com/?utm_source=NatGeocom&utm_medium=Email&utm_content=Monetate_Lightbox_Signup&utm_campaign=Content&utm_rd=941539768</td></tr>\n",
       "<tr><td class=\"cell-1\" style=\"text-align:right;\">3</td> <td class=\"cell-2\" style=\"\">http://www.nationalgeographic.com/?utm_source=NatGeocom&utm_medium=Email&utm_content=Look_Newsletter_20170604&utm_campaign=Look_Newsletter&utm_rd=15622580655</td></tr>\n",
       "<tr><td class=\"cell-1\" style=\"text-align:right;\">3</td> <td class=\"cell-2\" style=\"\">http://www.nationalgeographic.com/?utm_source=NatGeocom&utm_medium=Email&utm_content=pom_20170326&utm_campaign=Content&utm_rd=16382424</td></tr>\n",
       "<tr><td class=\"cell-1\" style=\"text-align:right;\">3</td> <td class=\"cell-2\" style=\"\">http://www.nationalgeographic.com/?utm_source=NatGeocom&utm_medium=Email&utm_content=Message8&utm_campaign=WelcomeSeries&utm_rd=18454356475</td></tr>\n",
       "<tr><td class=\"cell-1\" style=\"text-align:right;\">3</td> <td class=\"cell-2\" style=\"\">http://www.nationalgeographic.com/?utm_source=NatGeocom&utm_medium=Email&utm_content=Look_Newsletter_20170604&utm_campaign=Look_Newsletter&utm_rd=18263440215</td></tr>\n",
       "<tr><td class=\"cell-1\" style=\"text-align:right;\">3</td> <td class=\"cell-2\" style=\"\">http://www.nationalgeographic.com/?utm_source=NatGeocom&utm_medium=Email&utm_content=Monetate_Lightbox_Signup&utm_campaign=Content&utm_rd=15592498575</td></tr>\n",
       "<tr><td class=\"cell-1\" style=\"text-align:right;\">3</td> <td class=\"cell-2\" style=\"\">http://www.nationalgeographic.com/?utm_source=NatGeocom&utm_medium=Email&utm_content=multi_30140331&utm_campaign=MultiProduct</td></tr>\n",
       "    </tbody>\n"
      ],
      "text/plain": [
       "HTML{UTF8String}(\"    <table  class=\\\"dataframe-table\\\">\\n    <thead><tr><th class=\\\"cell-1\\\" style=\\\"\\\">page views</th> <th class=\\\"cell-2\\\" style=\\\"\\\">url landing in nat geo site default group</th></tr></thead>\\n    <tbody>\\n    <tr><td class=\\\"cell-1\\\" style=\\\"text-align:right;\\\">35</td> <td class=\\\"cell-2\\\" style=\\\"\\\">http://www.nationalgeographic.com/?utm_source=NatGeocom&utm_medium=Email&utm_content=CommentNotification&utm_campaign=Membership</td></tr>\\n<tr><td class=\\\"cell-1\\\" style=\\\"text-align:right;\\\">9</td> <td class=\\\"cell-2\\\" style=\\\"\\\">http://www.nationalgeographic.com/?utm_source=NatGeocom&utm_medium=Email&utm_content=pom_20160410&utm_campaign=Content&utm_rd=17639590</td></tr>\\n<tr><td class=\\\"cell-1\\\" style=\\\"text-align:right;\\\">8</td> <td class=\\\"cell-2\\\" style=\\\"\\\">http://www.nationalgeographic.com/?utm_source=NatGeocom&utm_medium=Email&utm_content=Monetate_Lightbox_Signup&utm_campaign=Content&utm_rd=624921739</td></tr>\\n<tr><td class=\\\"cell-1\\\" style=\\\"text-align:right;\\\">8</td> <td class=\\\"cell-2\\\" style=\\\"\\\">http://www.nationalgeographic.com/?utm_source=NatGeocom&utm_medium=Email&utm_content=member_welcome_1&utm_campaign=Membership</td></tr>\\n<tr><td class=\\\"cell-1\\\" style=\\\"text-align:right;\\\">7</td> <td class=\\\"cell-2\\\" style=\\\"\\\">http://www.nationalgeographic.com/?utm_source=NGdotcom-Travel&utm_medium=Email&utm_content=201700608_Travel_Newsletter&utm_campaign=NGdotcom&utm_rd=16191715535</td></tr>\\n<tr><td class=\\\"cell-1\\\" style=\\\"text-align:right;\\\">6</td> <td class=\\\"cell-2\\\" style=\\\"\\\">http://www.nationalgeographic.com/?utm_source=NatGeocom&utm_medium=Email&utm_content=geno_notification_email6&utm_campaign=Content</td></tr>\\n<tr><td class=\\\"cell-1\\\" style=\\\"text-align:right;\\\">5</td> <td class=\\\"cell-2\\\" style=\\\"\\\">http://www.nationalgeographic.com/?utm_source=NatGeocom&utm_medium=Email&utm_content=Monetate_Lightbox_Signup&utm_campaign=Content&utm_rd=634529797</td></tr>\\n<tr><td class=\\\"cell-1\\\" style=\\\"text-align:right;\\\">5</td> <td class=\\\"cell-2\\\" style=\\\"\\\">http://www.nationalgeographic.com/?utm_source=NatGeocom&utm_medium=Email&utm_content=Message8&utm_campaign=WelcomeSeries&utm_rd=18452639315</td></tr>\\n<tr><td class=\\\"cell-1\\\" style=\\\"text-align:right;\\\">5</td> <td class=\\\"cell-2\\\" style=\\\"\\\">http://www.nationalgeographic.com/?utm_source=NatGeocom&utm_medium=Email&utm_content=multi_20160426&utm_campaign=MultiProduct&utm_rd=15553712</td></tr>\\n<tr><td class=\\\"cell-1\\\" style=\\\"text-align:right;\\\">5</td> <td class=\\\"cell-2\\\" style=\\\"\\\">http://www.nationalgeographic.com/?utm_source=NatGeocom&utm_medium=Email&utm_content=StoreMsg1_Handraisers&utm_campaign=WelcomeSeries&utm_rd=18457469695</td></tr>\\n<tr><td class=\\\"cell-1\\\" style=\\\"text-align:right;\\\">5</td> <td class=\\\"cell-2\\\" style=\\\"\\\">http://www.nationalgeographic.com/?utm_source=NatGeocom&utm_medium=Email&utm_content=ReplyNotification&utm_campaign=Membership</td></tr>\\n<tr><td class=\\\"cell-1\\\" style=\\\"text-align:right;\\\">5</td> <td class=\\\"cell-2\\\" style=\\\"\\\">http://www.nationalgeographic.com/?utm_source=NatGeocom&utm_medium=Email&utm_content=inside_20170611&utm_campaign=Content&utm_rd=1495668406</td></tr>\\n<tr><td class=\\\"cell-1\\\" style=\\\"text-align:right;\\\">4</td> <td class=\\\"cell-2\\\" style=\\\"\\\">http://www.nationalgeographic.com/?utm_source=NatGeocom&utm_medium=Email&utm_content=yourshot_20170528&utm_campaign=Content&utm_rd=18444956675</td></tr>\\n    \\n    <tr><td class=\\\"cell-1\\\" style=\\\"text-align:right;\\\">4</td> <td class=\\\"cell-2\\\" style=\\\"\\\">http://www.nationalgeographic.com/?utm_source=NatGeocom&utm_medium=Email&utm_content=Preference_D00&utm_campaign=Reactivation_Series&utm_rd=1625533512</td></tr>\\n<tr><td class=\\\"cell-1\\\" style=\\\"text-align:right;\\\">4</td> <td class=\\\"cell-2\\\" style=\\\"\\\">http://www.nationalgeographic.com/?utm_source=NatGeocom&utm_medium=Email&utm_content=Look_Newsletter_20170423&utm_campaign=Look_Newsletter&utm_rd=7691938155</td></tr>\\n<tr><td class=\\\"cell-1\\\" style=\\\"text-align:right;\\\">4</td> <td class=\\\"cell-2\\\" style=\\\"\\\">http://www.nationalgeographic.com/?utm_source=NatGeocom&utm_medium=Email&utm_content=Monetate_Lightbox_Signup&utm_campaign=Content&utm_rd=18456664135</td></tr>\\n<tr><td class=\\\"cell-1\\\" style=\\\"text-align:right;\\\">4</td> <td class=\\\"cell-2\\\" style=\\\"\\\">http://www.nationalgeographic.com/?utm_source=NatGeocom&utm_medium=Email&utm_content=multi_20150729&utm_campaign=MultiProduct</td></tr>\\n<tr><td class=\\\"cell-1\\\" style=\\\"text-align:right;\\\">3</td> <td class=\\\"cell-2\\\" style=\\\"\\\">http://www.nationalgeographic.com/?utm_source=NatGeocom&utm_medium=Email&utm_content=Look_Newsletter_20170604&utm_campaign=Look_Newsletter&utm_rd=12940177635</td></tr>\\n<tr><td class=\\\"cell-1\\\" style=\\\"text-align:right;\\\">3</td> <td class=\\\"cell-2\\\" style=\\\"\\\">http://www.nationalgeographic.com/?utm_source=NatGeocom&utm_medium=Email&utm_content=Monetate_Lightbox_Signup&utm_campaign=Content&utm_rd=941539768</td></tr>\\n<tr><td class=\\\"cell-1\\\" style=\\\"text-align:right;\\\">3</td> <td class=\\\"cell-2\\\" style=\\\"\\\">http://www.nationalgeographic.com/?utm_source=NatGeocom&utm_medium=Email&utm_content=Look_Newsletter_20170604&utm_campaign=Look_Newsletter&utm_rd=15622580655</td></tr>\\n<tr><td class=\\\"cell-1\\\" style=\\\"text-align:right;\\\">3</td> <td class=\\\"cell-2\\\" style=\\\"\\\">http://www.nationalgeographic.com/?utm_source=NatGeocom&utm_medium=Email&utm_content=pom_20170326&utm_campaign=Content&utm_rd=16382424</td></tr>\\n<tr><td class=\\\"cell-1\\\" style=\\\"text-align:right;\\\">3</td> <td class=\\\"cell-2\\\" style=\\\"\\\">http://www.nationalgeographic.com/?utm_source=NatGeocom&utm_medium=Email&utm_content=Message8&utm_campaign=WelcomeSeries&utm_rd=18454356475</td></tr>\\n<tr><td class=\\\"cell-1\\\" style=\\\"text-align:right;\\\">3</td> <td class=\\\"cell-2\\\" style=\\\"\\\">http://www.nationalgeographic.com/?utm_source=NatGeocom&utm_medium=Email&utm_content=Look_Newsletter_20170604&utm_campaign=Look_Newsletter&utm_rd=18263440215</td></tr>\\n<tr><td class=\\\"cell-1\\\" style=\\\"text-align:right;\\\">3</td> <td class=\\\"cell-2\\\" style=\\\"\\\">http://www.nationalgeographic.com/?utm_source=NatGeocom&utm_medium=Email&utm_content=Monetate_Lightbox_Signup&utm_campaign=Content&utm_rd=15592498575</td></tr>\\n<tr><td class=\\\"cell-1\\\" style=\\\"text-align:right;\\\">3</td> <td class=\\\"cell-2\\\" style=\\\"\\\">http://www.nationalgeographic.com/?utm_source=NatGeocom&utm_medium=Email&utm_content=multi_30140331&utm_campaign=MultiProduct</td></tr>\\n    </tbody>\\n\")"
      ]
     },
     "metadata": {},
     "output_type": "display_data"
    }
   ],
   "source": [
    "test3GNGSSDM(UP,LV)\n",
    ";"
   ]
  },
  {
   "cell_type": "code",
   "execution_count": 15,
   "metadata": {
    "collapsed": false,
    "input_collapsed": false
   },
   "outputs": [],
   "source": [
    "q = query(\"\"\" drop view if exists $(UP.btView);\"\"\")\n",
    "q = query(\"\"\" drop view if exists $(UP.rtView);\"\"\")\n",
    ";"
   ]
  }
 ],
 "metadata": {
  "celltoolbar": "Raw Cell Format",
  "kernelspec": {
   "display_name": "Julia 0.4.7",
   "language": "julia",
   "name": "julia-0.4"
  },
  "language_info": {
   "file_extension": ".jl",
   "mimetype": "application/julia",
   "name": "julia",
   "version": "0.4.7"
  },
  "library_version": "1.0.0",
  "notebook_uuid": "46ce5438-2cb3-4c40-baa1-88cf7fd07f67",
  "readOnly": false
 },
 "nbformat": 4,
 "nbformat_minor": 0
}
