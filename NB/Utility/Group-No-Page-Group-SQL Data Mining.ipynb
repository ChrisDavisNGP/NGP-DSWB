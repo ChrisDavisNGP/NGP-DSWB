{
 "cells": [
  {
   "cell_type": "code",
   "execution_count": 1,
   "metadata": {
    "collapsed": false,
    "input_collapsed": false
   },
   "outputs": [
    {
     "name": "stdout",
     "output_type": "stream",
     "text": [
      "Redshift endpoint set: 2017-06-13T13:21:27\n"
     ]
    },
    {
     "data": {
      "text/plain": [
       "\"beacons_4744\""
      ]
     },
     "execution_count": 1,
     "metadata": {},
     "output_type": "execute_result"
    }
   ],
   "source": [
    "using ODBC\n",
    "using DataFrames\n",
    "using DSWB\n",
    "using Formatting\n",
    "\n",
    "dsn = \"dswb-natgeo\" # Redshift endpoint\n",
    "table = \"beacons_4744\" # beacon table name\n",
    "tableRt = \"beacons_4744_rt\"\n",
    "\n",
    "# Connect to Beacon Data\n",
    "setRedshiftEndpoint(dsn)\n",
    "setTable(table)"
   ]
  },
  {
   "cell_type": "code",
   "execution_count": 2,
   "metadata": {
    "collapsed": false,
    "input_collapsed": false,
    "scrolled": true
   },
   "outputs": [
    {
     "name": "stdout",
     "output_type": "stream",
     "text": [
      "June 5, 2017 23:59:00 to June 12, 2017 23:59:00 Local Time\n",
      "June 6, 2017 03:59:00 to June 13, 2017 03:59:00 UTC Time\n"
     ]
    }
   ],
   "source": [
    "include(\"/data/notebook_home/Production/Lib/Include-Package-v1.0.jl\")\n",
    "include(\"/data/notebook_home/Production/Bodies/Group-NatGeo-Site-Sql-Data-Mining-Body-v1.0.jl\")\n",
    "\n",
    "#timeVariables(2017,6,8,10,59,2017,6,8,12,59)\n",
    "weeklyTimeVariables(days=7)\n",
    "#yesterdayTimeVariables()\n",
    ";"
   ]
  },
  {
   "cell_type": "code",
   "execution_count": 3,
   "metadata": {
    "collapsed": false,
    "input_collapsed": false
   },
   "outputs": [],
   "source": [
    "UP = UrlParamsInit()\n",
    "UP.beaconTable = table   #table\n",
    "UP.resourceTable = tableRt\n",
    "UP.btView = \"$(table)_sql_no_page_group_view\"\n",
    "UP.rtView = \"$(tableRt)_sql_no_page_group_view\"\n",
    "UP.pageGroup = \"(No Page Group)\"   #productPageGroup\n",
    "UP.urlRegEx = \"%\"   #localUrl\n",
    "UP.deviceType = \"%\"\n",
    "\n",
    "SG = SoastaGraphsInit()\n",
    "customer = \"Nat Geo\" \n",
    "SG.customer = customer\n",
    "\n",
    "SP = ShowParamsInit()\n",
    "SP.debugLevel = 10;\n",
    "SP.debug = true;\n",
    ";\n",
    "\n",
    "LV = LocalVars(0)\n",
    "LV.linesOutput = 25\n",
    ";"
   ]
  },
  {
   "cell_type": "code",
   "execution_count": 4,
   "metadata": {
    "collapsed": false,
    "input_collapsed": false
   },
   "outputs": [
    {
     "name": "stdout",
     "output_type": "stream",
     "text": [
      "beacons_4744_sql_no_page_group_view count is 704\n"
     ]
    }
   ],
   "source": [
    "defaultTableGNGSSDM(tv,UP)\n",
    ";"
   ]
  },
  {
   "cell_type": "code",
   "execution_count": 5,
   "metadata": {
    "collapsed": false,
    "input_collapsed": true
   },
   "outputs": [
    {
     "data": {
      "text/html": [
       "    <table  class=\"dataframe-table\">\n",
       "    <thead><tr><th class=\"cell-1\" style=\"\">url</th> <th class=\"cell-2\" style=\"\">count</th></tr></thead>\n",
       "    <tbody>\n",
       "    <tr><td class=\"cell-1\" style=\"\">http://explorer.nationalgeographic.com/</td> <td class=\"cell-2\" style=\"text-align:right;\">138</td></tr>\n",
       "<tr><td class=\"cell-1\" style=\"\">http://ec2-54-173-224-57.kids.aws.nationalgeographic.com/</td> <td class=\"cell-2\" style=\"text-align:right;\">81</td></tr>\n",
       "<tr><td class=\"cell-1\" style=\"\">http://admin.nationalgeographic.com/</td> <td class=\"cell-2\" style=\"text-align:right;\">52</td></tr>\n",
       "<tr><td class=\"cell-1\" style=\"\">http://ec2-54-173-224-57.www-lodges.aws.nationalgeographic.com/</td> <td class=\"cell-2\" style=\"text-align:right;\">49</td></tr>\n",
       "<tr><td class=\"cell-1\" style=\"\">http://relay.nationalgeographic.com/</td> <td class=\"cell-2\" style=\"text-align:right;\">48</td></tr>\n",
       "<tr><td class=\"cell-1\" style=\"\">http://www.nationalgeographic.com/</td> <td class=\"cell-2\" style=\"text-align:right;\">48</td></tr>\n",
       "<tr><td class=\"cell-1\" style=\"\">https://members-test3.nationalgeographic.com/</td> <td class=\"cell-2\" style=\"text-align:right;\">46</td></tr>\n",
       "<tr><td class=\"cell-1\" style=\"\">http://news.nationalgeographic.com/</td> <td class=\"cell-2\" style=\"text-align:right;\">44</td></tr>\n",
       "<tr><td class=\"cell-1\" style=\"\">https://ec2-54-173-224-57.www-lodges.aws.nationalgeographic.com/</td> <td class=\"cell-2\" style=\"text-align:right;\">31</td></tr>\n",
       "<tr><td class=\"cell-1\" style=\"\">https://ec2-54-173-224-57.kids.aws.nationalgeographic.com/</td> <td class=\"cell-2\" style=\"text-align:right;\">28</td></tr>\n",
       "<tr><td class=\"cell-1\" style=\"\">http://books.nationalgeographic.com/</td> <td class=\"cell-2\" style=\"text-align:right;\">20</td></tr>\n",
       "<tr><td class=\"cell-1\" style=\"\">http://channel-beta.nationalgeographic.com/</td> <td class=\"cell-2\" style=\"text-align:right;\">18</td></tr>\n",
       "<tr><td class=\"cell-1\" style=\"\">http://ec2-54-236-4-32.www.aws.nationalgeographic.com/</td> <td class=\"cell-2\" style=\"text-align:right;\">16</td></tr>\n",
       "    \n",
       "    <tr><td class=\"cell-1\" style=\"\">http://magma.nationalgeographic.com/</td> <td class=\"cell-2\" style=\"text-align:right;\">13</td></tr>\n",
       "<tr><td class=\"cell-1\" style=\"\">http://cg.nationalgeographic.com/</td> <td class=\"cell-2\" style=\"text-align:right;\">12</td></tr>\n",
       "<tr><td class=\"cell-1\" style=\"\">http://live.wpf.test.nationalgeographic.com/</td> <td class=\"cell-2\" style=\"text-align:right;\">9</td></tr>\n",
       "<tr><td class=\"cell-1\" style=\"\">https://matrix.static.nationalgeographic.com/</td> <td class=\"cell-2\" style=\"text-align:right;\">6</td></tr>\n",
       "<tr><td class=\"cell-1\" style=\"\">https://createyourcover.nationalgeographic.com/</td> <td class=\"cell-2\" style=\"text-align:right;\">6</td></tr>\n",
       "<tr><td class=\"cell-1\" style=\"\">http://style-guide.nationalgeographic.com/</td> <td class=\"cell-2\" style=\"text-align:right;\">5</td></tr>\n",
       "<tr><td class=\"cell-1\" style=\"\">https://mmdb.nationalgeographic.com/</td> <td class=\"cell-2\" style=\"text-align:right;\">4</td></tr>\n",
       "<tr><td class=\"cell-1\" style=\"\">http://newswatch.nationalgeographic.com/</td> <td class=\"cell-2\" style=\"text-align:right;\">4</td></tr>\n",
       "<tr><td class=\"cell-1\" style=\"\">https://members-test1.nationalgeographic.com/</td> <td class=\"cell-2\" style=\"text-align:right;\">4</td></tr>\n",
       "<tr><td class=\"cell-1\" style=\"\">http://locallive.nationalgeographic.com/</td> <td class=\"cell-2\" style=\"text-align:right;\">3</td></tr>\n",
       "<tr><td class=\"cell-1\" style=\"\">http://www-qa6.nationalgeographic.com/</td> <td class=\"cell-2\" style=\"text-align:right;\">2</td></tr>\n",
       "<tr><td class=\"cell-1\" style=\"\">https://ec2-54-173-224-57.www.aws.nationalgeographic.com/</td> <td class=\"cell-2\" style=\"text-align:right;\">2</td></tr>\n",
       "    </tbody>\n"
      ],
      "text/plain": [
       "HTML{UTF8String}(\"    <table  class=\\\"dataframe-table\\\">\\n    <thead><tr><th class=\\\"cell-1\\\" style=\\\"\\\">url</th> <th class=\\\"cell-2\\\" style=\\\"\\\">count</th></tr></thead>\\n    <tbody>\\n    <tr><td class=\\\"cell-1\\\" style=\\\"\\\">http://explorer.nationalgeographic.com/</td> <td class=\\\"cell-2\\\" style=\\\"text-align:right;\\\">138</td></tr>\\n<tr><td class=\\\"cell-1\\\" style=\\\"\\\">http://ec2-54-173-224-57.kids.aws.nationalgeographic.com/</td> <td class=\\\"cell-2\\\" style=\\\"text-align:right;\\\">81</td></tr>\\n<tr><td class=\\\"cell-1\\\" style=\\\"\\\">http://admin.nationalgeographic.com/</td> <td class=\\\"cell-2\\\" style=\\\"text-align:right;\\\">52</td></tr>\\n<tr><td class=\\\"cell-1\\\" style=\\\"\\\">http://ec2-54-173-224-57.www-lodges.aws.nationalgeographic.com/</td> <td class=\\\"cell-2\\\" style=\\\"text-align:right;\\\">49</td></tr>\\n<tr><td class=\\\"cell-1\\\" style=\\\"\\\">http://relay.nationalgeographic.com/</td> <td class=\\\"cell-2\\\" style=\\\"text-align:right;\\\">48</td></tr>\\n<tr><td class=\\\"cell-1\\\" style=\\\"\\\">http://www.nationalgeographic.com/</td> <td class=\\\"cell-2\\\" style=\\\"text-align:right;\\\">48</td></tr>\\n<tr><td class=\\\"cell-1\\\" style=\\\"\\\">https://members-test3.nationalgeographic.com/</td> <td class=\\\"cell-2\\\" style=\\\"text-align:right;\\\">46</td></tr>\\n<tr><td class=\\\"cell-1\\\" style=\\\"\\\">http://news.nationalgeographic.com/</td> <td class=\\\"cell-2\\\" style=\\\"text-align:right;\\\">44</td></tr>\\n<tr><td class=\\\"cell-1\\\" style=\\\"\\\">https://ec2-54-173-224-57.www-lodges.aws.nationalgeographic.com/</td> <td class=\\\"cell-2\\\" style=\\\"text-align:right;\\\">31</td></tr>\\n<tr><td class=\\\"cell-1\\\" style=\\\"\\\">https://ec2-54-173-224-57.kids.aws.nationalgeographic.com/</td> <td class=\\\"cell-2\\\" style=\\\"text-align:right;\\\">28</td></tr>\\n<tr><td class=\\\"cell-1\\\" style=\\\"\\\">http://books.nationalgeographic.com/</td> <td class=\\\"cell-2\\\" style=\\\"text-align:right;\\\">20</td></tr>\\n<tr><td class=\\\"cell-1\\\" style=\\\"\\\">http://channel-beta.nationalgeographic.com/</td> <td class=\\\"cell-2\\\" style=\\\"text-align:right;\\\">18</td></tr>\\n<tr><td class=\\\"cell-1\\\" style=\\\"\\\">http://ec2-54-236-4-32.www.aws.nationalgeographic.com/</td> <td class=\\\"cell-2\\\" style=\\\"text-align:right;\\\">16</td></tr>\\n    \\n    <tr><td class=\\\"cell-1\\\" style=\\\"\\\">http://magma.nationalgeographic.com/</td> <td class=\\\"cell-2\\\" style=\\\"text-align:right;\\\">13</td></tr>\\n<tr><td class=\\\"cell-1\\\" style=\\\"\\\">http://cg.nationalgeographic.com/</td> <td class=\\\"cell-2\\\" style=\\\"text-align:right;\\\">12</td></tr>\\n<tr><td class=\\\"cell-1\\\" style=\\\"\\\">http://live.wpf.test.nationalgeographic.com/</td> <td class=\\\"cell-2\\\" style=\\\"text-align:right;\\\">9</td></tr>\\n<tr><td class=\\\"cell-1\\\" style=\\\"\\\">https://matrix.static.nationalgeographic.com/</td> <td class=\\\"cell-2\\\" style=\\\"text-align:right;\\\">6</td></tr>\\n<tr><td class=\\\"cell-1\\\" style=\\\"\\\">https://createyourcover.nationalgeographic.com/</td> <td class=\\\"cell-2\\\" style=\\\"text-align:right;\\\">6</td></tr>\\n<tr><td class=\\\"cell-1\\\" style=\\\"\\\">http://style-guide.nationalgeographic.com/</td> <td class=\\\"cell-2\\\" style=\\\"text-align:right;\\\">5</td></tr>\\n<tr><td class=\\\"cell-1\\\" style=\\\"\\\">https://mmdb.nationalgeographic.com/</td> <td class=\\\"cell-2\\\" style=\\\"text-align:right;\\\">4</td></tr>\\n<tr><td class=\\\"cell-1\\\" style=\\\"\\\">http://newswatch.nationalgeographic.com/</td> <td class=\\\"cell-2\\\" style=\\\"text-align:right;\\\">4</td></tr>\\n<tr><td class=\\\"cell-1\\\" style=\\\"\\\">https://members-test1.nationalgeographic.com/</td> <td class=\\\"cell-2\\\" style=\\\"text-align:right;\\\">4</td></tr>\\n<tr><td class=\\\"cell-1\\\" style=\\\"\\\">http://locallive.nationalgeographic.com/</td> <td class=\\\"cell-2\\\" style=\\\"text-align:right;\\\">3</td></tr>\\n<tr><td class=\\\"cell-1\\\" style=\\\"\\\">http://www-qa6.nationalgeographic.com/</td> <td class=\\\"cell-2\\\" style=\\\"text-align:right;\\\">2</td></tr>\\n<tr><td class=\\\"cell-1\\\" style=\\\"\\\">https://ec2-54-173-224-57.www.aws.nationalgeographic.com/</td> <td class=\\\"cell-2\\\" style=\\\"text-align:right;\\\">2</td></tr>\\n    </tbody>\\n\")"
      ]
     },
     "metadata": {},
     "output_type": "display_data"
    }
   ],
   "source": [
    "test1GNGSSDM(UP,LV)\n",
    ";"
   ]
  },
  {
   "cell_type": "code",
   "execution_count": 6,
   "metadata": {
    "collapsed": false,
    "input_collapsed": false
   },
   "outputs": [
    {
     "data": {
      "text/html": [
       "    <table  class=\"dataframe-table\">\n",
       "    <thead><tr><th class=\"cell-1\" style=\"\">count</th> <th class=\"cell-2\" style=\"\">url</th> <th class=\"cell-3\" style=\"\">params u</th></tr></thead>\n",
       "    <tbody>\n",
       "    <tr><td class=\"cell-1\" style=\"text-align:right;\">79</td> <td class=\"cell-2\" style=\"\">http://explorer.nationalgeographic.com/</td> <td class=\"cell-3\" style=\"\">http://explorer.nationalgeographic.com/vr-video/hallucinogenic-honey-hunters-360/</td></tr>\n",
       "<tr><td class=\"cell-1\" style=\"text-align:right;\">39</td> <td class=\"cell-2\" style=\"\">http://relay.nationalgeographic.com/</td> <td class=\"cell-3\" style=\"\">http://relay.nationalgeographic.com/proxy/distribution/public/amp/2015/11/151117-cats-cucumbers-videos-behavior</td></tr>\n",
       "<tr><td class=\"cell-1\" style=\"text-align:right;\">15</td> <td class=\"cell-2\" style=\"\">http://explorer.nationalgeographic.com/</td> <td class=\"cell-3\" style=\"\">http://explorer.nationalgeographic.com/correspondent/justin-hall/</td></tr>\n",
       "<tr><td class=\"cell-1\" style=\"text-align:right;\">14</td> <td class=\"cell-2\" style=\"\">http://ec2-54-173-224-57.kids.aws.nationalgeographic.com/</td> <td class=\"cell-3\" style=\"\">http://ec2-54-173-224-57.kids.aws.nationalgeographic.com/games/</td></tr>\n",
       "<tr><td class=\"cell-1\" style=\"text-align:right;\">14</td> <td class=\"cell-2\" style=\"\">http://www.nationalgeographic.com/</td> <td class=\"cell-3\" style=\"\">http://www.nationalgeographic.com/2017/</td></tr>\n",
       "<tr><td class=\"cell-1\" style=\"text-align:right;\">14</td> <td class=\"cell-2\" style=\"\">http://news.nationalgeographic.com/</td> <td class=\"cell-3\" style=\"\">http://news.nationalgeographic.com/2014/october/141004-hajj-islam-pilgrimage-photos-religion/</td></tr>\n",
       "<tr><td class=\"cell-1\" style=\"text-align:right;\">13</td> <td class=\"cell-2\" style=\"\">https://members-test3.nationalgeographic.com/</td> <td class=\"cell-3\" style=\"\">https://members-test3.nationalgeographic.com/settings/account/</td></tr>\n",
       "<tr><td class=\"cell-1\" style=\"text-align:right;\">13</td> <td class=\"cell-2\" style=\"\">http://ec2-54-173-224-57.kids.aws.nationalgeographic.com/</td> <td class=\"cell-3\" style=\"\">http://ec2-54-173-224-57.kids.aws.nationalgeographic.com/animals/</td></tr>\n",
       "<tr><td class=\"cell-1\" style=\"text-align:right;\">12</td> <td class=\"cell-2\" style=\"\">http://ec2-54-236-4-32.www.aws.nationalgeographic.com/</td> <td class=\"cell-3\" style=\"\">http://ec2-54-236-4-32.www.aws.nationalgeographic.com/</td></tr>\n",
       "<tr><td class=\"cell-1\" style=\"text-align:right;\">12</td> <td class=\"cell-2\" style=\"\">http://ec2-54-173-224-57.kids.aws.nationalgeographic.com/</td> <td class=\"cell-3\" style=\"\">http://ec2-54-173-224-57.kids.aws.nationalgeographic.com/videos/</td></tr>\n",
       "<tr><td class=\"cell-1\" style=\"text-align:right;\">12</td> <td class=\"cell-2\" style=\"\">https://members-test3.nationalgeographic.com/</td> <td class=\"cell-3\" style=\"\">https://members-test3.nationalgeographic.com/account/</td></tr>\n",
       "<tr><td class=\"cell-1\" style=\"text-align:right;\">10</td> <td class=\"cell-2\" style=\"\">https://ec2-54-173-224-57.www-lodges.aws.nationalgeographic.com/</td> <td class=\"cell-3\" style=\"\">https://ec2-54-173-224-57.www-lodges.aws.nationalgeographic.com/lodges/view-all/</td></tr>\n",
       "<tr><td class=\"cell-1\" style=\"text-align:right;\">10</td> <td class=\"cell-2\" style=\"\">http://channel-beta.nationalgeographic.com/</td> <td class=\"cell-3\" style=\"\">http://channel-beta.nationalgeographic.com/faq/authentication/authentication</td></tr>\n",
       "    \n",
       "    <tr><td class=\"cell-1\" style=\"text-align:right;\">9</td> <td class=\"cell-2\" style=\"\">http://ec2-54-173-224-57.www-lodges.aws.nationalgeographic.com/</td> <td class=\"cell-3\" style=\"\">http://ec2-54-173-224-57.www-lodges.aws.nationalgeographic.com/</td></tr>\n",
       "<tr><td class=\"cell-1\" style=\"text-align:right;\">9</td> <td class=\"cell-2\" style=\"\">https://members-test3.nationalgeographic.com/</td> <td class=\"cell-3\" style=\"\">https://members-test3.nationalgeographic.com/settings/benefits/</td></tr>\n",
       "<tr><td class=\"cell-1\" style=\"text-align:right;\">8</td> <td class=\"cell-2\" style=\"\">http://explorer.nationalgeographic.com/</td> <td class=\"cell-3\" style=\"\">http://explorer.nationalgeographic.com/</td></tr>\n",
       "<tr><td class=\"cell-1\" style=\"text-align:right;\">7</td> <td class=\"cell-2\" style=\"\">http://explorer.nationalgeographic.com/</td> <td class=\"cell-3\" style=\"\">http://explorer.nationalgeographic.com/correspondent/</td></tr>\n",
       "<tr><td class=\"cell-1\" style=\"text-align:right;\">7</td> <td class=\"cell-2\" style=\"\">http://explorer.nationalgeographic.com/</td> <td class=\"cell-3\" style=\"\">http://explorer.nationalgeographic.com/correspondent/francesca-fiorentini/</td></tr>\n",
       "<tr><td class=\"cell-1\" style=\"text-align:right;\">7</td> <td class=\"cell-2\" style=\"\">http://ec2-54-173-224-57.www-lodges.aws.nationalgeographic.com/</td> <td class=\"cell-3\" style=\"\">http://ec2-54-173-224-57.www-lodges.aws.nationalgeographic.com/lodges/view-all/</td></tr>\n",
       "<tr><td class=\"cell-1\" style=\"text-align:right;\">7</td> <td class=\"cell-2\" style=\"\">http://explorer.nationalgeographic.com/</td> <td class=\"cell-3\" style=\"\">http://explorer.nationalgeographic.com/correspondent/tania-rashid/</td></tr>\n",
       "<tr><td class=\"cell-1\" style=\"text-align:right;\">7</td> <td class=\"cell-2\" style=\"\">http://admin.nationalgeographic.com/</td> <td class=\"cell-3\" style=\"\">http://admin.nationalgeographic.com/science/space/space-exploration-timeline/</td></tr>\n",
       "<tr><td class=\"cell-1\" style=\"text-align:right;\">6</td> <td class=\"cell-2\" style=\"\">http://ec2-54-173-224-57.www-lodges.aws.nationalgeographic.com/</td> <td class=\"cell-3\" style=\"\">http://ec2-54-173-224-57.www-lodges.aws.nationalgeographic.com/three-ways-to-stay/private-expeditions/</td></tr>\n",
       "<tr><td class=\"cell-1\" style=\"text-align:right;\">6</td> <td class=\"cell-2\" style=\"\">http://ec2-54-173-224-57.kids.aws.nationalgeographic.com/</td> <td class=\"cell-3\" style=\"\">http://ec2-54-173-224-57.kids.aws.nationalgeographic.com/videos/brain-games/</td></tr>\n",
       "<tr><td class=\"cell-1\" style=\"text-align:right;\">5</td> <td class=\"cell-2\" style=\"\">http://news.nationalgeographic.com/</td> <td class=\"cell-3\" style=\"\">http://news.nationalgeographic.com/2017/</td></tr>\n",
       "<tr><td class=\"cell-1\" style=\"text-align:right;\">5</td> <td class=\"cell-2\" style=\"\">https://createyourcover.nationalgeographic.com/</td> <td class=\"cell-3\" style=\"\">https://createyourcover.nationalgeographic.com/</td></tr>\n",
       "    </tbody>\n"
      ],
      "text/plain": [
       "HTML{UTF8String}(\"    <table  class=\\\"dataframe-table\\\">\\n    <thead><tr><th class=\\\"cell-1\\\" style=\\\"\\\">count</th> <th class=\\\"cell-2\\\" style=\\\"\\\">url</th> <th class=\\\"cell-3\\\" style=\\\"\\\">params u</th></tr></thead>\\n    <tbody>\\n    <tr><td class=\\\"cell-1\\\" style=\\\"text-align:right;\\\">79</td> <td class=\\\"cell-2\\\" style=\\\"\\\">http://explorer.nationalgeographic.com/</td> <td class=\\\"cell-3\\\" style=\\\"\\\">http://explorer.nationalgeographic.com/vr-video/hallucinogenic-honey-hunters-360/</td></tr>\\n<tr><td class=\\\"cell-1\\\" style=\\\"text-align:right;\\\">39</td> <td class=\\\"cell-2\\\" style=\\\"\\\">http://relay.nationalgeographic.com/</td> <td class=\\\"cell-3\\\" style=\\\"\\\">http://relay.nationalgeographic.com/proxy/distribution/public/amp/2015/11/151117-cats-cucumbers-videos-behavior</td></tr>\\n<tr><td class=\\\"cell-1\\\" style=\\\"text-align:right;\\\">15</td> <td class=\\\"cell-2\\\" style=\\\"\\\">http://explorer.nationalgeographic.com/</td> <td class=\\\"cell-3\\\" style=\\\"\\\">http://explorer.nationalgeographic.com/correspondent/justin-hall/</td></tr>\\n<tr><td class=\\\"cell-1\\\" style=\\\"text-align:right;\\\">14</td> <td class=\\\"cell-2\\\" style=\\\"\\\">http://ec2-54-173-224-57.kids.aws.nationalgeographic.com/</td> <td class=\\\"cell-3\\\" style=\\\"\\\">http://ec2-54-173-224-57.kids.aws.nationalgeographic.com/games/</td></tr>\\n<tr><td class=\\\"cell-1\\\" style=\\\"text-align:right;\\\">14</td> <td class=\\\"cell-2\\\" style=\\\"\\\">http://www.nationalgeographic.com/</td> <td class=\\\"cell-3\\\" style=\\\"\\\">http://www.nationalgeographic.com/2017/</td></tr>\\n<tr><td class=\\\"cell-1\\\" style=\\\"text-align:right;\\\">14</td> <td class=\\\"cell-2\\\" style=\\\"\\\">http://news.nationalgeographic.com/</td> <td class=\\\"cell-3\\\" style=\\\"\\\">http://news.nationalgeographic.com/2014/october/141004-hajj-islam-pilgrimage-photos-religion/</td></tr>\\n<tr><td class=\\\"cell-1\\\" style=\\\"text-align:right;\\\">13</td> <td class=\\\"cell-2\\\" style=\\\"\\\">https://members-test3.nationalgeographic.com/</td> <td class=\\\"cell-3\\\" style=\\\"\\\">https://members-test3.nationalgeographic.com/settings/account/</td></tr>\\n<tr><td class=\\\"cell-1\\\" style=\\\"text-align:right;\\\">13</td> <td class=\\\"cell-2\\\" style=\\\"\\\">http://ec2-54-173-224-57.kids.aws.nationalgeographic.com/</td> <td class=\\\"cell-3\\\" style=\\\"\\\">http://ec2-54-173-224-57.kids.aws.nationalgeographic.com/animals/</td></tr>\\n<tr><td class=\\\"cell-1\\\" style=\\\"text-align:right;\\\">12</td> <td class=\\\"cell-2\\\" style=\\\"\\\">http://ec2-54-236-4-32.www.aws.nationalgeographic.com/</td> <td class=\\\"cell-3\\\" style=\\\"\\\">http://ec2-54-236-4-32.www.aws.nationalgeographic.com/</td></tr>\\n<tr><td class=\\\"cell-1\\\" style=\\\"text-align:right;\\\">12</td> <td class=\\\"cell-2\\\" style=\\\"\\\">http://ec2-54-173-224-57.kids.aws.nationalgeographic.com/</td> <td class=\\\"cell-3\\\" style=\\\"\\\">http://ec2-54-173-224-57.kids.aws.nationalgeographic.com/videos/</td></tr>\\n<tr><td class=\\\"cell-1\\\" style=\\\"text-align:right;\\\">12</td> <td class=\\\"cell-2\\\" style=\\\"\\\">https://members-test3.nationalgeographic.com/</td> <td class=\\\"cell-3\\\" style=\\\"\\\">https://members-test3.nationalgeographic.com/account/</td></tr>\\n<tr><td class=\\\"cell-1\\\" style=\\\"text-align:right;\\\">10</td> <td class=\\\"cell-2\\\" style=\\\"\\\">https://ec2-54-173-224-57.www-lodges.aws.nationalgeographic.com/</td> <td class=\\\"cell-3\\\" style=\\\"\\\">https://ec2-54-173-224-57.www-lodges.aws.nationalgeographic.com/lodges/view-all/</td></tr>\\n<tr><td class=\\\"cell-1\\\" style=\\\"text-align:right;\\\">10</td> <td class=\\\"cell-2\\\" style=\\\"\\\">http://channel-beta.nationalgeographic.com/</td> <td class=\\\"cell-3\\\" style=\\\"\\\">http://channel-beta.nationalgeographic.com/faq/authentication/authentication</td></tr>\\n    \\n    <tr><td class=\\\"cell-1\\\" style=\\\"text-align:right;\\\">9</td> <td class=\\\"cell-2\\\" style=\\\"\\\">http://ec2-54-173-224-57.www-lodges.aws.nationalgeographic.com/</td> <td class=\\\"cell-3\\\" style=\\\"\\\">http://ec2-54-173-224-57.www-lodges.aws.nationalgeographic.com/</td></tr>\\n<tr><td class=\\\"cell-1\\\" style=\\\"text-align:right;\\\">9</td> <td class=\\\"cell-2\\\" style=\\\"\\\">https://members-test3.nationalgeographic.com/</td> <td class=\\\"cell-3\\\" style=\\\"\\\">https://members-test3.nationalgeographic.com/settings/benefits/</td></tr>\\n<tr><td class=\\\"cell-1\\\" style=\\\"text-align:right;\\\">8</td> <td class=\\\"cell-2\\\" style=\\\"\\\">http://explorer.nationalgeographic.com/</td> <td class=\\\"cell-3\\\" style=\\\"\\\">http://explorer.nationalgeographic.com/</td></tr>\\n<tr><td class=\\\"cell-1\\\" style=\\\"text-align:right;\\\">7</td> <td class=\\\"cell-2\\\" style=\\\"\\\">http://explorer.nationalgeographic.com/</td> <td class=\\\"cell-3\\\" style=\\\"\\\">http://explorer.nationalgeographic.com/correspondent/</td></tr>\\n<tr><td class=\\\"cell-1\\\" style=\\\"text-align:right;\\\">7</td> <td class=\\\"cell-2\\\" style=\\\"\\\">http://explorer.nationalgeographic.com/</td> <td class=\\\"cell-3\\\" style=\\\"\\\">http://explorer.nationalgeographic.com/correspondent/francesca-fiorentini/</td></tr>\\n<tr><td class=\\\"cell-1\\\" style=\\\"text-align:right;\\\">7</td> <td class=\\\"cell-2\\\" style=\\\"\\\">http://ec2-54-173-224-57.www-lodges.aws.nationalgeographic.com/</td> <td class=\\\"cell-3\\\" style=\\\"\\\">http://ec2-54-173-224-57.www-lodges.aws.nationalgeographic.com/lodges/view-all/</td></tr>\\n<tr><td class=\\\"cell-1\\\" style=\\\"text-align:right;\\\">7</td> <td class=\\\"cell-2\\\" style=\\\"\\\">http://explorer.nationalgeographic.com/</td> <td class=\\\"cell-3\\\" style=\\\"\\\">http://explorer.nationalgeographic.com/correspondent/tania-rashid/</td></tr>\\n<tr><td class=\\\"cell-1\\\" style=\\\"text-align:right;\\\">7</td> <td class=\\\"cell-2\\\" style=\\\"\\\">http://admin.nationalgeographic.com/</td> <td class=\\\"cell-3\\\" style=\\\"\\\">http://admin.nationalgeographic.com/science/space/space-exploration-timeline/</td></tr>\\n<tr><td class=\\\"cell-1\\\" style=\\\"text-align:right;\\\">6</td> <td class=\\\"cell-2\\\" style=\\\"\\\">http://ec2-54-173-224-57.www-lodges.aws.nationalgeographic.com/</td> <td class=\\\"cell-3\\\" style=\\\"\\\">http://ec2-54-173-224-57.www-lodges.aws.nationalgeographic.com/three-ways-to-stay/private-expeditions/</td></tr>\\n<tr><td class=\\\"cell-1\\\" style=\\\"text-align:right;\\\">6</td> <td class=\\\"cell-2\\\" style=\\\"\\\">http://ec2-54-173-224-57.kids.aws.nationalgeographic.com/</td> <td class=\\\"cell-3\\\" style=\\\"\\\">http://ec2-54-173-224-57.kids.aws.nationalgeographic.com/videos/brain-games/</td></tr>\\n<tr><td class=\\\"cell-1\\\" style=\\\"text-align:right;\\\">5</td> <td class=\\\"cell-2\\\" style=\\\"\\\">http://news.nationalgeographic.com/</td> <td class=\\\"cell-3\\\" style=\\\"\\\">http://news.nationalgeographic.com/2017/</td></tr>\\n<tr><td class=\\\"cell-1\\\" style=\\\"text-align:right;\\\">5</td> <td class=\\\"cell-2\\\" style=\\\"\\\">https://createyourcover.nationalgeographic.com/</td> <td class=\\\"cell-3\\\" style=\\\"\\\">https://createyourcover.nationalgeographic.com/</td></tr>\\n    </tbody>\\n\")"
      ]
     },
     "metadata": {},
     "output_type": "display_data"
    }
   ],
   "source": [
    "test2GNGSSDM(UP,LV)\n",
    ";"
   ]
  },
  {
   "cell_type": "code",
   "execution_count": 7,
   "metadata": {
    "collapsed": false,
    "input_collapsed": false
   },
   "outputs": [
    {
     "data": {
      "text/html": [
       "    <table  class=\"dataframe-table\">\n",
       "    <thead><tr></tr></thead>\n",
       "    <tbody>\n",
       "    \n",
       "    \n",
       "    \n",
       "    </tbody>\n"
      ],
      "text/plain": [
       "HTML{UTF8String}(\"    <table  class=\\\"dataframe-table\\\">\\n    <thead><tr></tr></thead>\\n    <tbody>\\n    \\n    \\n    \\n    </tbody>\\n\")"
      ]
     },
     "metadata": {},
     "output_type": "display_data"
    }
   ],
   "source": [
    "test3GNGSSDM(UP,LV)\n",
    ";"
   ]
  },
  {
   "cell_type": "code",
   "execution_count": 8,
   "metadata": {
    "collapsed": false,
    "input_collapsed": false
   },
   "outputs": [],
   "source": [
    "q = query(\"\"\" drop view if exists $(UP.btView);\"\"\")\n",
    "q = query(\"\"\" drop view if exists $(UP.rtView);\"\"\")\n",
    ";"
   ]
  }
 ],
 "metadata": {
  "celltoolbar": "Raw Cell Format",
  "kernelspec": {
   "display_name": "Julia 0.4.7",
   "language": "julia",
   "name": "julia-0.4"
  },
  "language_info": {
   "file_extension": ".jl",
   "mimetype": "application/julia",
   "name": "julia",
   "version": "0.4.7"
  },
  "library_version": "1.0.0",
  "notebook_uuid": "452e1ce0-1a7e-49c9-a9c4-f645efc06fe9",
  "readOnly": false
 },
 "nbformat": 4,
 "nbformat_minor": 0
}
