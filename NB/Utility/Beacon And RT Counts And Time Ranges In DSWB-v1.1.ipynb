{
 "cells": [
  {
   "cell_type": "markdown",
   "metadata": {
    "collapsed": true,
    "input_collapsed": false
   },
   "source": [
    "***\n",
    "## Beacons And RT Counts And Time Ranges In DSWB\n",
    "***\n",
    "# Use this to find the range of data available.  Beacon table has a much longer duration so times may vary for both\n"
   ]
  },
  {
   "cell_type": "code",
   "execution_count": 1,
   "metadata": {
    "collapsed": false,
    "input_collapsed": false,
    "scrolled": true
   },
   "outputs": [
    {
     "name": "stdout",
     "output_type": "stream",
     "text": [
      "Redshift endpoint set: 2017-05-25T14:41:51\n"
     ]
    }
   ],
   "source": [
    "using DSWB\n",
    "setRedshiftEndpoint(\"dswb-natgeo\")\n",
    "setTable(\"beacons_4744\");"
   ]
  },
  {
   "cell_type": "code",
   "execution_count": 2,
   "metadata": {
    "collapsed": false,
    "input_collapsed": false,
    "scrolled": true
   },
   "outputs": [
    {
     "name": "stdout",
     "output_type": "stream",
     "text": [
      "WARNING: This function will soon be deprecated.  Please look into using the following function instead: getBeaconCount\n"
     ]
    }
   ],
   "source": [
    "bc = getBeaconCount();\n",
    "all = getBeaconsFirstAndLast();\n",
    "bcType = getBeaconCountByType();"
   ]
  },
  {
   "cell_type": "code",
   "execution_count": 7,
   "metadata": {
    "collapsed": false,
    "input_collapsed": false
   },
   "outputs": [
    {
     "data": {
      "text/html": [
       "3 methods for generic function <b>getBeaconCount</b>:<ul><li> getBeaconCount() at <a href=\"file:///home/ubuntu/datascienceworkbench/lib/Modules/DSWBAnalysis/src/DSWBAnalysis.jl\" target=\"_blank\">/home/ubuntu/datascienceworkbench/lib/Modules/DSWBAnalysis/src/DSWBAnalysis.jl:610</a><li> getBeaconCount(startTime::<b>DateTime</b>) at <a href=\"file:///home/ubuntu/datascienceworkbench/lib/Modules/DSWBAnalysis/src/DSWBAnalysis.jl\" target=\"_blank\">/home/ubuntu/datascienceworkbench/lib/Modules/DSWBAnalysis/src/DSWBAnalysis.jl:610</a><li> getBeaconCount(startTime::<b>DateTime</b>, endTime::<b>DateTime</b>) at <a href=\"file:///home/ubuntu/datascienceworkbench/lib/Modules/DSWBAnalysis/src/DSWBAnalysis.jl\" target=\"_blank\">/home/ubuntu/datascienceworkbench/lib/Modules/DSWBAnalysis/src/DSWBAnalysis.jl:610</a></ul>"
      ],
      "text/plain": [
       "# 3 methods for generic function \"getBeaconCount\":\n",
       "getBeaconCount() at /home/ubuntu/datascienceworkbench/lib/Modules/DSWBAnalysis/src/DSWBAnalysis.jl:610\n",
       "getBeaconCount(startTime::DateTime) at /home/ubuntu/datascienceworkbench/lib/Modules/DSWBAnalysis/src/DSWBAnalysis.jl:610\n",
       "getBeaconCount(startTime::DateTime, endTime::DateTime) at /home/ubuntu/datascienceworkbench/lib/Modules/DSWBAnalysis/src/DSWBAnalysis.jl:610"
      ]
     },
     "execution_count": 7,
     "metadata": {},
     "output_type": "execute_result"
    },
    {
     "name": "stderr",
     "output_type": "stream",
     "text": [
      "fatal: Not a git repository (or any of the parent directories): .git\n",
      "fatal: Not a git repository (or any of the parent directories): .git\n",
      "fatal: Not a git repository (or any of the parent directories): .git\n"
     ]
    }
   ],
   "source": [
    "methods(getBeaconCount)"
   ]
  },
  {
   "cell_type": "code",
   "execution_count": 3,
   "metadata": {
    "collapsed": false,
    "input_collapsed": false
   },
   "outputs": [
    {
     "data": {
      "text/html": [
       "    <table  class=\"dataframe-table\">\n",
       "    <thead><tr><th class=\"cell-1\" style=\"\">Beacon Count</th></tr></thead>\n",
       "    <tbody>\n",
       "    <tr><td class=\"cell-1\" style=\"text-align:right;\">164,784,311</td></tr>\n",
       "    \n",
       "    \n",
       "    </tbody>\n"
      ],
      "text/plain": [
       "HTML{UTF8String}(\"    <table  class=\\\"dataframe-table\\\">\\n    <thead><tr><th class=\\\"cell-1\\\" style=\\\"\\\">Beacon Count</th></tr></thead>\\n    <tbody>\\n    <tr><td class=\\\"cell-1\\\" style=\\\"text-align:right;\\\">164,784,311</td></tr>\\n    \\n    \\n    </tbody>\\n\")"
      ]
     },
     "metadata": {},
     "output_type": "display_data"
    },
    {
     "data": {
      "text/html": [
       "    <table  class=\"dataframe-table\">\n",
       "    <thead><tr><th class=\"cell-1\" style=\"\">First Beacon</th> <th class=\"cell-2\" style=\"\">Last Beacon</th></tr></thead>\n",
       "    <tbody>\n",
       "    <tr><td class=\"cell-1\" style=\"\">2017-02-14T04:10:19</td> <td class=\"cell-2\" style=\"\">2017-05-24T23:59:59</td></tr>\n",
       "    \n",
       "    \n",
       "    </tbody>\n"
      ],
      "text/plain": [
       "HTML{UTF8String}(\"    <table  class=\\\"dataframe-table\\\">\\n    <thead><tr><th class=\\\"cell-1\\\" style=\\\"\\\">First Beacon</th> <th class=\\\"cell-2\\\" style=\\\"\\\">Last Beacon</th></tr></thead>\\n    <tbody>\\n    <tr><td class=\\\"cell-1\\\" style=\\\"\\\">2017-02-14T04:10:19</td> <td class=\\\"cell-2\\\" style=\\\"\\\">2017-05-24T23:59:59</td></tr>\\n    \\n    \\n    </tbody>\\n\")"
      ]
     },
     "metadata": {},
     "output_type": "display_data"
    },
    {
     "data": {
      "text/html": [
       "    <table  class=\"dataframe-table\">\n",
       "    <thead><tr><th class=\"cell-1\" style=\"\">Beacon Count</th> <th class=\"cell-2\" style=\"\">Beacon Type</th></tr></thead>\n",
       "    <tbody>\n",
       "    <tr><td class=\"cell-1\" style=\"\">page view</td> <td class=\"cell-2\" style=\"text-align:right;\">164,643,026</td></tr>\n",
       "<tr><td class=\"cell-1\" style=\"\">unload</td> <td class=\"cell-2\" style=\"text-align:right;\">86,512,962</td></tr>\n",
       "    \n",
       "    <tr><td class=\"cell-1\" style=\"\">error</td> <td class=\"cell-2\" style=\"text-align:right;\">143,732</td></tr>\n",
       "    </tbody>\n"
      ],
      "text/plain": [
       "HTML{UTF8String}(\"    <table  class=\\\"dataframe-table\\\">\\n    <thead><tr><th class=\\\"cell-1\\\" style=\\\"\\\">Beacon Count</th> <th class=\\\"cell-2\\\" style=\\\"\\\">Beacon Type</th></tr></thead>\\n    <tbody>\\n    <tr><td class=\\\"cell-1\\\" style=\\\"\\\">page view</td> <td class=\\\"cell-2\\\" style=\\\"text-align:right;\\\">164,643,026</td></tr>\\n<tr><td class=\\\"cell-1\\\" style=\\\"\\\">unload</td> <td class=\\\"cell-2\\\" style=\\\"text-align:right;\\\">86,512,962</td></tr>\\n    \\n    <tr><td class=\\\"cell-1\\\" style=\\\"\\\">error</td> <td class=\\\"cell-2\\\" style=\\\"text-align:right;\\\">143,732</td></tr>\\n    </tbody>\\n\")"
      ]
     },
     "metadata": {},
     "output_type": "display_data"
    }
   ],
   "source": [
    "beautifyDF(names!(bc[:,:],[symbol(\"Beacon Count\")]))\n",
    "beautifyDF(all)\n",
    "beautifyDF(names!(bcType[:,:],[symbol(\"Beacon Count\"),symbol(\"Beacon Type\")]))\n"
   ]
  },
  {
   "cell_type": "code",
   "execution_count": 4,
   "metadata": {
    "collapsed": false,
    "input_collapsed": false
   },
   "outputs": [],
   "source": [
    "setTable(\"beacons_4744_rt\", tableType = \"RESOURCE_TABLE\");\n",
    "\n",
    "rtcnt = query(\"\"\"select count(*) from beacons_4744_rt\"\"\");"
   ]
  },
  {
   "cell_type": "code",
   "execution_count": 5,
   "metadata": {
    "collapsed": false,
    "input_collapsed": false,
    "scrolled": true
   },
   "outputs": [],
   "source": [
    "maxRt = query(\"\"\"\\\n",
    "select max(\"timestamp\") from beacons_4744_rt\n",
    "\"\"\");\n",
    "\n",
    "minRt = query(\"\"\"\\\n",
    "select min(\"timestamp\") from beacons_4744_rt\n",
    "\"\"\");\n",
    "\n",
    "minStr = msToDateTime(minRt[1,:min]);\n",
    "maxStr = msToDateTime(maxRt[1,:max]);\n",
    "\n",
    "printDf = DataFrame();\n",
    "printDf[:minStr] = minStr;\n",
    "printDf[:maxStr] = maxStr;\n",
    ";"
   ]
  },
  {
   "cell_type": "code",
   "execution_count": 6,
   "metadata": {
    "collapsed": false,
    "input_collapsed": false
   },
   "outputs": [
    {
     "data": {
      "text/html": [
       "    <table  class=\"dataframe-table\">\n",
       "    <thead><tr><th class=\"cell-1\" style=\"\">Resource Timing Count</th></tr></thead>\n",
       "    <tbody>\n",
       "    <tr><td class=\"cell-1\" style=\"text-align:right;\">525,636,927</td></tr>\n",
       "    \n",
       "    \n",
       "    </tbody>\n"
      ],
      "text/plain": [
       "HTML{UTF8String}(\"    <table  class=\\\"dataframe-table\\\">\\n    <thead><tr><th class=\\\"cell-1\\\" style=\\\"\\\">Resource Timing Count</th></tr></thead>\\n    <tbody>\\n    <tr><td class=\\\"cell-1\\\" style=\\\"text-align:right;\\\">525,636,927</td></tr>\\n    \\n    \\n    </tbody>\\n\")"
      ]
     },
     "metadata": {},
     "output_type": "display_data"
    },
    {
     "data": {
      "text/html": [
       "    <table  class=\"dataframe-table\">\n",
       "    <thead><tr><th class=\"cell-1\" style=\"\">First RT</th> <th class=\"cell-2\" style=\"\">Last RT</th></tr></thead>\n",
       "    <tbody>\n",
       "    <tr><td class=\"cell-1\" style=\"\">2017-05-18T04:11:29</td> <td class=\"cell-2\" style=\"\">2017-05-25T00:00:00</td></tr>\n",
       "    \n",
       "    \n",
       "    </tbody>\n"
      ],
      "text/plain": [
       "HTML{UTF8String}(\"    <table  class=\\\"dataframe-table\\\">\\n    <thead><tr><th class=\\\"cell-1\\\" style=\\\"\\\">First RT</th> <th class=\\\"cell-2\\\" style=\\\"\\\">Last RT</th></tr></thead>\\n    <tbody>\\n    <tr><td class=\\\"cell-1\\\" style=\\\"\\\">2017-05-18T04:11:29</td> <td class=\\\"cell-2\\\" style=\\\"\\\">2017-05-25T00:00:00</td></tr>\\n    \\n    \\n    </tbody>\\n\")"
      ]
     },
     "metadata": {},
     "output_type": "display_data"
    }
   ],
   "source": [
    "beautifyDF(names!(rtcnt[:,:],[symbol(\"Resource Timing Count\")]))\n",
    "beautifyDF(names!(printDf[:,:],[symbol(\"First RT\"),symbol(\"Last RT\")]))"
   ]
  },
  {
   "cell_type": "code",
   "execution_count": null,
   "metadata": {
    "collapsed": true,
    "input_collapsed": false
   },
   "outputs": [],
   "source": []
  }
 ],
 "metadata": {
  "kernelspec": {
   "display_name": "Julia 0.4.7",
   "language": "julia",
   "name": "julia-0.4"
  },
  "language": "Julia",
  "language_info": {
   "file_extension": ".jl",
   "mimetype": "application/julia",
   "name": "julia",
   "version": "0.4.7"
  },
  "library_version": "1.0.0",
  "notebook_uuid": "468d6dfb-67d0-446e-b51b-5062d972a150",
  "readOnly": false
 },
 "nbformat": 4,
 "nbformat_minor": 0
}
