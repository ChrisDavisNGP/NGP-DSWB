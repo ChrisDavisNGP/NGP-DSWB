{
 "cells": [
  {
   "cell_type": "markdown",
   "metadata": {},
   "source": [
    "## Tables and Data Source setup"
   ]
  },
  {
   "cell_type": "code",
   "execution_count": 1,
   "metadata": {
    "collapsed": false,
    "input_collapsed": false,
    "scrolled": true
   },
   "outputs": [
    {
     "name": "stdout",
     "output_type": "stream",
     "text": [
      "Redshift endpoint set: 2017-06-12T16:17:12\n"
     ]
    }
   ],
   "source": [
    "using ODBC\n",
    "using DataFrames\n",
    "using DSWB\n",
    "using Formatting\n",
    "using URIParser\n",
    "using JSON\n",
    "\n",
    "dsn = \"dswb-natgeo\" # Redshift esetTable(tableRt, tableType = \"RESOURCE_TABLE\")ndpoint\n",
    "table = \"beacons_4744\" # beacon table name\n",
    "tableRt = \"beacons_4744_rt\"\n",
    "\n",
    "# Connect to Beacon Data\n",
    "setRedshiftEndpoint(dsn)\n",
    "setTable(table)\n",
    "setTable(tableRt, tableType = \"RESOURCE_TABLE\")\n",
    ";"
   ]
  },
  {
   "cell_type": "code",
   "execution_count": 4,
   "metadata": {
    "collapsed": false,
    "input_collapsed": false
   },
   "outputs": [
    {
     "name": "stdout",
     "output_type": "stream",
     "text": [
      "June 4, 2017 23:59:00 to June 11, 2017 23:59:00 Local Time\n",
      "June 5, 2017 03:59:00 to June 12, 2017 03:59:00 UTC Time\n"
     ]
    }
   ],
   "source": [
    "# Packages\n",
    "\n",
    "include(\"/data/notebook_home/Production/Lib/Include-Package-v1.0.jl\")\n",
    "include(\"/data/notebook_home/Production/Bodies/Individual-Streamline-Body-v2.0.jl\")\n",
    "\n",
    "#timeVariables(2017,5,9,16,0,2017,5,9,16,59)\n",
    "weeklyTimeVariables(days=7)\n",
    "#yesterdayTimeVariables()\n",
    ";"
   ]
  },
  {
   "cell_type": "code",
   "execution_count": 5,
   "metadata": {
    "collapsed": false,
    "input_collapsed": false
   },
   "outputs": [],
   "source": [
    "# This is the Mobile Only, Time Based report\n",
    "\n",
    "UP = UrlParamsInit()\n",
    "UP.beaconTable = table\n",
    "UP.resourceTable = tableRt\n",
    "UP.pageGroup = \"%\"\n",
    "UP.urlRegEx = \"%\"\n",
    "UP.urlFull = \"%\"\n",
    "#UP.limitRows = 3\n",
    "UP.limitRows = 250\n",
    "UP.samplesMin = 10\n",
    "UP.sizeMin = 10000\n",
    "UP.usePageLoad=false\n",
    "UP.timeLowerMs = 2000.0\n",
    "UP.timeUpperMs = 60000.0\n",
    "UP.orderBy = \"time\"\n",
    "UP.deviceType = \"mobile\"\n",
    "\n",
    "SP = ShowParamsInit()\n",
    "SP.desktop=false\n",
    "SP.mobile=true\n",
    "SP.devView=false\n",
    "SP.criticalPathOnly=true\n",
    "SP.debug=false\n",
    "SP.debugLevel = 0   # Tests use even numbers with > tests, make this an odd number or zero\n",
    "\n",
    "LV = LocalVars(false) #useJSon = false\n",
    ";"
   ]
  },
  {
   "cell_type": "code",
   "execution_count": 6,
   "metadata": {
    "collapsed": false,
    "input_collapsed": false
   },
   "outputs": [],
   "source": [
    "urlListDF = returnMatchingUrlTableV2(UP,tv.startTimeMsUTC,tv.endTimeMsUTC)\n",
    "if (SP.debugLevel > 4)\n",
    "    beautifyDF(urlListDF[1:min(3,end),:])\n",
    "end\n",
    "\n",
    "newListDF = urlListDF[Bool[x > UP.samplesMin for x in urlListDF[:cnt]],:]\n",
    "topUrlList = newListDF[:urlgroup]\n",
    "topUrls = cleanupTopUrlTable(topUrlList)\n",
    "if (SP.debugLevel > 8)\n",
    "    println(topUrls)\n",
    "end\n",
    ";"
   ]
  },
  {
   "cell_type": "code",
   "execution_count": 7,
   "metadata": {
    "collapsed": false,
    "input_collapsed": false,
    "scrolled": false
   },
   "outputs": [
    {
     "data": {
      "text/html": [
       "    <table  class=\"dataframe-table\">\n",
       "    <thead><tr><th class=\"cell-1\" style=\"\">Recent Urls (Sorted By Time Descending; Min Samples  10 ; Top  3  Page Views)</th> <th class=\"cell-2\" style=\"\">Time</th> <th class=\"cell-3\" style=\"\">Request Made</th> <th class=\"cell-4\" style=\"\">Page Size</th> <th class=\"cell-5\" style=\"\">Samples</th></tr></thead>\n",
       "    <tbody>\n",
       "    <tr><td class=\"cell-1\" style=\"\">/news.nationalgeographic.com/2017/06/wildlife-watch-china-donkey-tigers-zoo/%</td> <td class=\"cell-2\" style=\"text-align:right;\">18,225</td> <td class=\"cell-3\" style=\"text-align:right;\">79</td> <td class=\"cell-4\" style=\"text-align:right;\">813,745</td> <td class=\"cell-5\" style=\"text-align:right;\">33,800</td></tr>\n",
       "<tr><td class=\"cell-1\" style=\"\">/news.nationalgeographic.com/2017/06/spider-wasp-huntsman-australia-ibis-video/%</td> <td class=\"cell-2\" style=\"text-align:right;\">17,897</td> <td class=\"cell-3\" style=\"text-align:right;\">98</td> <td class=\"cell-4\" style=\"text-align:right;\">839,910</td> <td class=\"cell-5\" style=\"text-align:right;\">10,603</td></tr>\n",
       "    \n",
       "    <tr><td class=\"cell-1\" style=\"\">/news.nationalgeographic.com/2017/06/baby-bird-dinosaur-burmese-amber-fossil/%</td> <td class=\"cell-2\" style=\"text-align:right;\">16,950</td> <td class=\"cell-3\" style=\"text-align:right;\">95</td> <td class=\"cell-4\" style=\"text-align:right;\">972,855</td> <td class=\"cell-5\" style=\"text-align:right;\">45,209</td></tr>\n",
       "    </tbody>\n"
      ],
      "text/plain": [
       "HTML{UTF8String}(\"    <table  class=\\\"dataframe-table\\\">\\n    <thead><tr><th class=\\\"cell-1\\\" style=\\\"\\\">Recent Urls (Sorted By Time Descending; Min Samples  10 ; Top  3  Page Views)</th> <th class=\\\"cell-2\\\" style=\\\"\\\">Time</th> <th class=\\\"cell-3\\\" style=\\\"\\\">Request Made</th> <th class=\\\"cell-4\\\" style=\\\"\\\">Page Size</th> <th class=\\\"cell-5\\\" style=\\\"\\\">Samples</th></tr></thead>\\n    <tbody>\\n    <tr><td class=\\\"cell-1\\\" style=\\\"\\\">/news.nationalgeographic.com/2017/06/wildlife-watch-china-donkey-tigers-zoo/%</td> <td class=\\\"cell-2\\\" style=\\\"text-align:right;\\\">18,225</td> <td class=\\\"cell-3\\\" style=\\\"text-align:right;\\\">79</td> <td class=\\\"cell-4\\\" style=\\\"text-align:right;\\\">813,745</td> <td class=\\\"cell-5\\\" style=\\\"text-align:right;\\\">33,800</td></tr>\\n<tr><td class=\\\"cell-1\\\" style=\\\"\\\">/news.nationalgeographic.com/2017/06/spider-wasp-huntsman-australia-ibis-video/%</td> <td class=\\\"cell-2\\\" style=\\\"text-align:right;\\\">17,897</td> <td class=\\\"cell-3\\\" style=\\\"text-align:right;\\\">98</td> <td class=\\\"cell-4\\\" style=\\\"text-align:right;\\\">839,910</td> <td class=\\\"cell-5\\\" style=\\\"text-align:right;\\\">10,603</td></tr>\\n    \\n    <tr><td class=\\\"cell-1\\\" style=\\\"\\\">/news.nationalgeographic.com/2017/06/baby-bird-dinosaur-burmese-amber-fossil/%</td> <td class=\\\"cell-2\\\" style=\\\"text-align:right;\\\">16,950</td> <td class=\\\"cell-3\\\" style=\\\"text-align:right;\\\">95</td> <td class=\\\"cell-4\\\" style=\\\"text-align:right;\\\">972,855</td> <td class=\\\"cell-5\\\" style=\\\"text-align:right;\\\">45,209</td></tr>\\n    </tbody>\\n\")"
      ]
     },
     "metadata": {},
     "output_type": "display_data"
    }
   ],
   "source": [
    "finalUrlTableOutput(UP,SP,topUrls,tv.startTimeMs,tv.endTimeMs)\n",
    ";"
   ]
  },
  {
   "cell_type": "code",
   "execution_count": 6,
   "metadata": {
    "collapsed": true,
    "input_collapsed": true
   },
   "outputs": [],
   "source": []
  }
 ],
 "metadata": {
  "chart_version": "1.0.0",
  "kernelspec": {
   "display_name": "Julia 0.4.7",
   "language": "julia",
   "name": "julia-0.4"
  },
  "language_info": {
   "file_extension": ".jl",
   "mimetype": "application/julia",
   "name": "julia",
   "version": "0.4.7"
  },
  "library_version": "1.0.0",
  "notebook_uuid": "346ca9a4-0b57-4806-b0b4-b526d2cc47ec",
  "readOnly": false
 },
 "nbformat": 4,
 "nbformat_minor": 0
}
