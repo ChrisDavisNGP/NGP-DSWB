{
 "cells": [
  {
   "cell_type": "code",
   "execution_count": 1,
   "metadata": {
    "collapsed": false,
    "input_collapsed": false
   },
   "outputs": [
    {
     "name": "stdout",
     "output_type": "stream",
     "text": [
      "Redshift endpoint set: 2017-06-12T07:00:11\n"
     ]
    },
    {
     "data": {
      "text/plain": [
       "\"beacons_4744_rt\""
      ]
     },
     "execution_count": 1,
     "metadata": {},
     "output_type": "execute_result"
    }
   ],
   "source": [
    "using ODBC\n",
    "using DataFrames\n",
    "using DSWB\n",
    "using Formatting\n",
    "\n",
    "dsn = \"dswb-natgeo\" # Redshift esetTable(tableRt, tableType = \"RESOURCE_TABLE\")ndpoint\n",
    "table = \"beacons_4744\" # beacon table name\n",
    "tableRt = \"beacons_4744_rt\"\n",
    "\n",
    "# Connect to Beacon Data\n",
    "setRedshiftEndpoint(dsn)\n",
    "setTable(table)\n",
    "setTable(tableRt, tableType = \"RESOURCE_TABLE\")"
   ]
  },
  {
   "cell_type": "code",
   "execution_count": 2,
   "metadata": {
    "collapsed": false,
    "input_collapsed": false
   },
   "outputs": [
    {
     "name": "stdout",
     "output_type": "stream",
     "text": [
      "June 8, 2017 10:59:00 to June 8, 2017 12:59:00 Local Time\n",
      "June 8, 2017 14:59:00 to June 8, 2017 16:59:00 UTC Time\n"
     ]
    }
   ],
   "source": [
    "# Packages\n",
    "include(\"/data/notebook_home/Production/Lib/Include-Package-v1.0.jl\")\n",
    "include(\"/data/notebook_home/Production/Bodies/Find-Large-Pages-Body-v1.0.jl\")\n",
    "\n",
    "timeVariables(2017,6,8,10,59,2017,6,8,12,59)\n",
    "#weeklyTimeVariables(days=7);\n",
    "#yesterdayTimeVariables()\n",
    ";"
   ]
  },
  {
   "cell_type": "code",
   "execution_count": 3,
   "metadata": {
    "collapsed": false,
    "input_collapsed": false
   },
   "outputs": [],
   "source": [
    "UP = UrlParamsInit()\n",
    "UP.beaconTable = table   #table\n",
    "UP.resourceTable = tableRt\n",
    "UP.btView = \"$(table)_find_large_pages_pview_prod\" #localtable\n",
    "UP.rtView = \"$(tableRt)_find_large_pages_pview_prod\" #localtableRt\n",
    "UP.pageGroup = \"Magazine AEM\"   #productPageGroup\n",
    "UP.urlRegEx = \"%\"   #localUrl\n",
    "UP.deviceType = \"Mobile\"\n",
    "\n",
    "SG = SoastaGraphsInit()\n",
    "customer = \"Nat Geo\" \n",
    "SG.customer = customer\n",
    "\n",
    "SP = ShowParamsInit()\n",
    "SP.debugLevel = 10;\n",
    "SP.debug = true;\n",
    ";\n",
    "\n",
    "linesOutput = 5\n",
    ";"
   ]
  },
  {
   "cell_type": "code",
   "execution_count": 4,
   "metadata": {
    "collapsed": false,
    "input_collapsed": false
   },
   "outputs": [
    {
     "name": "stdout",
     "output_type": "stream",
     "text": [
      "beacons_4744_find_large_pages_pview_prod count is 3567\n"
     ]
    }
   ],
   "source": [
    "defaultTableFLP(tv,UP)\n",
    ";"
   ]
  },
  {
   "cell_type": "code",
   "execution_count": 5,
   "metadata": {
    "collapsed": false,
    "input_collapsed": false,
    "scrolled": false
   },
   "outputs": [
    {
     "data": {
      "text/html": [
       "    <table  class=\"dataframe-table\">\n",
       "    <thead><tr><th class=\"cell-1\" style=\"\">urlgroup</th> <th class=\"cell-2\" style=\"\">session id</th> <th class=\"cell-3\" style=\"\">timestamp</th> <th class=\"cell-4\" style=\"\">encoded</th> <th class=\"cell-5\" style=\"\">transferred</th> <th class=\"cell-6\" style=\"\">decoded</th> <th class=\"cell-7\" style=\"\">count</th></tr></thead>\n",
       "    <tbody>\n",
       "    <tr><td class=\"cell-1\" style=\"\">http://www.nationalgeographic.com/magazine/2017/06/nodosaur-3d-interactive-dinosaur-fossil</td> <td class=\"cell-2\" style=\"\">319c20ed-898f-4faa-9262-8622a382f515-or8laz</td> <td class=\"cell-3\" style=\"text-align:right;\">2017-06-08T16:20:45.545</td> <td class=\"cell-4\" style=\"text-align:right;\">21,869,826</td> <td class=\"cell-5\" style=\"text-align:right;\">21,121,963</td> <td class=\"cell-6\" style=\"text-align:right;\">4,643,001</td> <td class=\"cell-7\" style=\"text-align:right;\">64</td></tr>\n",
       "<tr><td class=\"cell-1\" style=\"\">http://www.nationalgeographic.com/magazine/2017/06/nodosaur-3d-interactive-dinosaur-fossil</td> <td class=\"cell-2\" style=\"\">4fb5034d-cf68-4e32-b2fd-38c55dd48ec8-or8ihn</td> <td class=\"cell-3\" style=\"text-align:right;\">2017-06-08T15:20:51.858</td> <td class=\"cell-4\" style=\"text-align:right;\">21,864,550</td> <td class=\"cell-5\" style=\"text-align:right;\">21,219,374</td> <td class=\"cell-6\" style=\"text-align:right;\">4,775,486</td> <td class=\"cell-7\" style=\"text-align:right;\">65</td></tr>\n",
       "<tr><td class=\"cell-1\" style=\"\">http://www.nationalgeographic.com/magazine/2017/06/nodosaur-3d-interactive-dinosaur-fossil</td> <td class=\"cell-2\" style=\"\">ef987542-b837-4537-81ac-e47f4f5e55cd-or8hwi</td> <td class=\"cell-3\" style=\"text-align:right;\">2017-06-08T15:07:12.489</td> <td class=\"cell-4\" style=\"text-align:right;\">21,862,299</td> <td class=\"cell-5\" style=\"text-align:right;\">21,168,234</td> <td class=\"cell-6\" style=\"text-align:right;\">4,623,764</td> <td class=\"cell-7\" style=\"text-align:right;\">63</td></tr>\n",
       "    \n",
       "    <tr><td class=\"cell-1\" style=\"\">http://www.nationalgeographic.com/magazine/2017/06/nodosaur-3d-interactive-dinosaur-fossil</td> <td class=\"cell-2\" style=\"\">bfcf98ff-f13f-44be-ae4a-254bb6aedb06-or8j2s</td> <td class=\"cell-3\" style=\"text-align:right;\">2017-06-08T15:38:44.36</td> <td class=\"cell-4\" style=\"text-align:right;\">21,862,205</td> <td class=\"cell-5\" style=\"text-align:right;\">21,165,630</td> <td class=\"cell-6\" style=\"text-align:right;\">4,623,556</td> <td class=\"cell-7\" style=\"text-align:right;\">61</td></tr>\n",
       "<tr><td class=\"cell-1\" style=\"\">http://www.nationalgeographic.com/magazine/2017/06/nodosaur-3d-interactive-dinosaur-fossil</td> <td class=\"cell-2\" style=\"\">2f127560-5ca3-4aec-95cb-0acdad4d20c6-orba8m</td> <td class=\"cell-3\" style=\"text-align:right;\">2017-06-08T16:11:45.108</td> <td class=\"cell-4\" style=\"text-align:right;\">21,854,675</td> <td class=\"cell-5\" style=\"text-align:right;\">21,365,350</td> <td class=\"cell-6\" style=\"text-align:right;\">4,752,141</td> <td class=\"cell-7\" style=\"text-align:right;\">62</td></tr>\n",
       "    </tbody>\n"
      ],
      "text/plain": [
       "HTML{UTF8String}(\"    <table  class=\\\"dataframe-table\\\">\\n    <thead><tr><th class=\\\"cell-1\\\" style=\\\"\\\">urlgroup</th> <th class=\\\"cell-2\\\" style=\\\"\\\">session id</th> <th class=\\\"cell-3\\\" style=\\\"\\\">timestamp</th> <th class=\\\"cell-4\\\" style=\\\"\\\">encoded</th> <th class=\\\"cell-5\\\" style=\\\"\\\">transferred</th> <th class=\\\"cell-6\\\" style=\\\"\\\">decoded</th> <th class=\\\"cell-7\\\" style=\\\"\\\">count</th></tr></thead>\\n    <tbody>\\n    <tr><td class=\\\"cell-1\\\" style=\\\"\\\">http://www.nationalgeographic.com/magazine/2017/06/nodosaur-3d-interactive-dinosaur-fossil</td> <td class=\\\"cell-2\\\" style=\\\"\\\">319c20ed-898f-4faa-9262-8622a382f515-or8laz</td> <td class=\\\"cell-3\\\" style=\\\"text-align:right;\\\">2017-06-08T16:20:45.545</td> <td class=\\\"cell-4\\\" style=\\\"text-align:right;\\\">21,869,826</td> <td class=\\\"cell-5\\\" style=\\\"text-align:right;\\\">21,121,963</td> <td class=\\\"cell-6\\\" style=\\\"text-align:right;\\\">4,643,001</td> <td class=\\\"cell-7\\\" style=\\\"text-align:right;\\\">64</td></tr>\\n<tr><td class=\\\"cell-1\\\" style=\\\"\\\">http://www.nationalgeographic.com/magazine/2017/06/nodosaur-3d-interactive-dinosaur-fossil</td> <td class=\\\"cell-2\\\" style=\\\"\\\">4fb5034d-cf68-4e32-b2fd-38c55dd48ec8-or8ihn</td> <td class=\\\"cell-3\\\" style=\\\"text-align:right;\\\">2017-06-08T15:20:51.858</td> <td class=\\\"cell-4\\\" style=\\\"text-align:right;\\\">21,864,550</td> <td class=\\\"cell-5\\\" style=\\\"text-align:right;\\\">21,219,374</td> <td class=\\\"cell-6\\\" style=\\\"text-align:right;\\\">4,775,486</td> <td class=\\\"cell-7\\\" style=\\\"text-align:right;\\\">65</td></tr>\\n<tr><td class=\\\"cell-1\\\" style=\\\"\\\">http://www.nationalgeographic.com/magazine/2017/06/nodosaur-3d-interactive-dinosaur-fossil</td> <td class=\\\"cell-2\\\" style=\\\"\\\">ef987542-b837-4537-81ac-e47f4f5e55cd-or8hwi</td> <td class=\\\"cell-3\\\" style=\\\"text-align:right;\\\">2017-06-08T15:07:12.489</td> <td class=\\\"cell-4\\\" style=\\\"text-align:right;\\\">21,862,299</td> <td class=\\\"cell-5\\\" style=\\\"text-align:right;\\\">21,168,234</td> <td class=\\\"cell-6\\\" style=\\\"text-align:right;\\\">4,623,764</td> <td class=\\\"cell-7\\\" style=\\\"text-align:right;\\\">63</td></tr>\\n    \\n    <tr><td class=\\\"cell-1\\\" style=\\\"\\\">http://www.nationalgeographic.com/magazine/2017/06/nodosaur-3d-interactive-dinosaur-fossil</td> <td class=\\\"cell-2\\\" style=\\\"\\\">bfcf98ff-f13f-44be-ae4a-254bb6aedb06-or8j2s</td> <td class=\\\"cell-3\\\" style=\\\"text-align:right;\\\">2017-06-08T15:38:44.36</td> <td class=\\\"cell-4\\\" style=\\\"text-align:right;\\\">21,862,205</td> <td class=\\\"cell-5\\\" style=\\\"text-align:right;\\\">21,165,630</td> <td class=\\\"cell-6\\\" style=\\\"text-align:right;\\\">4,623,556</td> <td class=\\\"cell-7\\\" style=\\\"text-align:right;\\\">61</td></tr>\\n<tr><td class=\\\"cell-1\\\" style=\\\"\\\">http://www.nationalgeographic.com/magazine/2017/06/nodosaur-3d-interactive-dinosaur-fossil</td> <td class=\\\"cell-2\\\" style=\\\"\\\">2f127560-5ca3-4aec-95cb-0acdad4d20c6-orba8m</td> <td class=\\\"cell-3\\\" style=\\\"text-align:right;\\\">2017-06-08T16:11:45.108</td> <td class=\\\"cell-4\\\" style=\\\"text-align:right;\\\">21,854,675</td> <td class=\\\"cell-5\\\" style=\\\"text-align:right;\\\">21,365,350</td> <td class=\\\"cell-6\\\" style=\\\"text-align:right;\\\">4,752,141</td> <td class=\\\"cell-7\\\" style=\\\"text-align:right;\\\">62</td></tr>\\n    </tbody>\\n\")"
      ]
     },
     "metadata": {},
     "output_type": "display_data"
    }
   ],
   "source": [
    "joinTables = DataFrame()\n",
    "joinTables = joinTableTableFLP(tv,UP)\n",
    ";"
   ]
  },
  {
   "cell_type": "code",
   "execution_count": 6,
   "metadata": {
    "collapsed": false,
    "input_collapsed": false
   },
   "outputs": [
    {
     "data": {
      "text/html": [
       "    <table  class=\"dataframe-table\">\n",
       "    <thead><tr><th class=\"cell-1\" style=\"\">urlgroup</th> <th class=\"cell-2\" style=\"\">encoded</th> <th class=\"cell-3\" style=\"\">transferred</th> <th class=\"cell-4\" style=\"\">decoded</th></tr></thead>\n",
       "    <tbody>\n",
       "    <tr><td class=\"cell-1\" style=\"\">http://www.nationalgeographic.com/magazine/2017/06/nodosaur-3d-interactive-dinosaur-fossil</td> <td class=\"cell-2\" style=\"text-align:right;\">21,869,826</td> <td class=\"cell-3\" style=\"text-align:right;\">21,121,963</td> <td class=\"cell-4\" style=\"text-align:right;\">4,643,001</td></tr>\n",
       "<tr><td class=\"cell-1\" style=\"\">http://www.nationalgeographic.com/magazine/2016/05/yellowstone-national-parks-supervolcano-animation</td> <td class=\"cell-2\" style=\"text-align:right;\">18,149,530</td> <td class=\"cell-3\" style=\"text-align:right;\">17,508,404</td> <td class=\"cell-4\" style=\"text-align:right;\">3,491,451</td></tr>\n",
       "<tr><td class=\"cell-1\" style=\"\">http://www.nationalgeographic.com/magazine/2016/10/europe-immigration-muslim-refugees-portraits</td> <td class=\"cell-2\" style=\"text-align:right;\">16,595,853</td> <td class=\"cell-3\" style=\"text-align:right;\">16,441,482</td> <td class=\"cell-4\" style=\"text-align:right;\">3,434,840</td></tr>\n",
       "    \n",
       "    <tr><td class=\"cell-1\" style=\"\">http://www.nationalgeographic.com/magazine/2016/06/shark-species-family-tree-ocean-ecosystem-predator</td> <td class=\"cell-2\" style=\"text-align:right;\">11,713,623</td> <td class=\"cell-3\" style=\"text-align:right;\">11,724,210</td> <td class=\"cell-4\" style=\"text-align:right;\">2,226,179</td></tr>\n",
       "<tr><td class=\"cell-1\" style=\"\">http://www.nationalgeographic.com/magazine/2016/05/yellowstone-national-parks-elk-migration-map</td> <td class=\"cell-2\" style=\"text-align:right;\">10,299,901</td> <td class=\"cell-3\" style=\"text-align:right;\">10,244,862</td> <td class=\"cell-4\" style=\"text-align:right;\">3,680,307</td></tr>\n",
       "    </tbody>\n"
      ],
      "text/plain": [
       "HTML{UTF8String}(\"    <table  class=\\\"dataframe-table\\\">\\n    <thead><tr><th class=\\\"cell-1\\\" style=\\\"\\\">urlgroup</th> <th class=\\\"cell-2\\\" style=\\\"\\\">encoded</th> <th class=\\\"cell-3\\\" style=\\\"\\\">transferred</th> <th class=\\\"cell-4\\\" style=\\\"\\\">decoded</th></tr></thead>\\n    <tbody>\\n    <tr><td class=\\\"cell-1\\\" style=\\\"\\\">http://www.nationalgeographic.com/magazine/2017/06/nodosaur-3d-interactive-dinosaur-fossil</td> <td class=\\\"cell-2\\\" style=\\\"text-align:right;\\\">21,869,826</td> <td class=\\\"cell-3\\\" style=\\\"text-align:right;\\\">21,121,963</td> <td class=\\\"cell-4\\\" style=\\\"text-align:right;\\\">4,643,001</td></tr>\\n<tr><td class=\\\"cell-1\\\" style=\\\"\\\">http://www.nationalgeographic.com/magazine/2016/05/yellowstone-national-parks-supervolcano-animation</td> <td class=\\\"cell-2\\\" style=\\\"text-align:right;\\\">18,149,530</td> <td class=\\\"cell-3\\\" style=\\\"text-align:right;\\\">17,508,404</td> <td class=\\\"cell-4\\\" style=\\\"text-align:right;\\\">3,491,451</td></tr>\\n<tr><td class=\\\"cell-1\\\" style=\\\"\\\">http://www.nationalgeographic.com/magazine/2016/10/europe-immigration-muslim-refugees-portraits</td> <td class=\\\"cell-2\\\" style=\\\"text-align:right;\\\">16,595,853</td> <td class=\\\"cell-3\\\" style=\\\"text-align:right;\\\">16,441,482</td> <td class=\\\"cell-4\\\" style=\\\"text-align:right;\\\">3,434,840</td></tr>\\n    \\n    <tr><td class=\\\"cell-1\\\" style=\\\"\\\">http://www.nationalgeographic.com/magazine/2016/06/shark-species-family-tree-ocean-ecosystem-predator</td> <td class=\\\"cell-2\\\" style=\\\"text-align:right;\\\">11,713,623</td> <td class=\\\"cell-3\\\" style=\\\"text-align:right;\\\">11,724,210</td> <td class=\\\"cell-4\\\" style=\\\"text-align:right;\\\">2,226,179</td></tr>\\n<tr><td class=\\\"cell-1\\\" style=\\\"\\\">http://www.nationalgeographic.com/magazine/2016/05/yellowstone-national-parks-elk-migration-map</td> <td class=\\\"cell-2\\\" style=\\\"text-align:right;\\\">10,299,901</td> <td class=\\\"cell-3\\\" style=\\\"text-align:right;\\\">10,244,862</td> <td class=\\\"cell-4\\\" style=\\\"text-align:right;\\\">3,680,307</td></tr>\\n    </tbody>\\n\")"
      ]
     },
     "metadata": {},
     "output_type": "display_data"
    }
   ],
   "source": [
    "joinTableSummary = DataFrame()\n",
    "joinTableSummary = joinTableSummaryFLP(joinTables)\n",
    "beautifyDF(joinTableSummary[1:min(linesOutput,end),[:urlgroup,:encoded,:transferred,:decoded]])\n",
    ";"
   ]
  },
  {
   "cell_type": "code",
   "execution_count": 7,
   "metadata": {
    "collapsed": false,
    "input_collapsed": false,
    "scrolled": false
   },
   "outputs": [
    {
     "data": {
      "text/html": [
       "<div class=\"dswbOutputText\"><h1 class=\"chart_title\" style=\"color:#ccc\">Large Requests for: http://www.nationalgeographic.com/magazine/2017/06/nodosaur-3d-interactive-dinosaur-fossil</h1><h3 class=\"chart_info\" style=\"color:#ccc\">June 8, 2017 10:59:00 to June 8, 2017 12:59:00 Local Time</h3></div>"
      ]
     },
     "metadata": {},
     "output_type": "display_data"
    },
    {
     "data": {
      "text/html": [
       "    <table  class=\"dataframe-table\">\n",
       "    <thead><tr><th class=\"cell-1\" style=\"\">start time</th> <th class=\"cell-2\" style=\"\">encoded size</th> <th class=\"cell-3\" style=\"\">transferred size</th> <th class=\"cell-4\" style=\"\">decoded size</th> <th class=\"cell-5\" style=\"\">urlgroup</th></tr></thead>\n",
       "    <tbody>\n",
       "    <tr><td class=\"cell-1\" style=\"text-align:right;\">2,563</td> <td class=\"cell-2\" style=\"text-align:right;\">1,841,014</td> <td class=\"cell-3\" style=\"text-align:right;\">1,845,907</td> <td class=\"cell-4\" style=\"\"></td> <td class=\"cell-5\" style=\"\">http://www.nationalgeographic.com/interactive-assets/nggraphics/ngm-nodosaur/build-2017-05-15_16-07-57/assets/models/block2/Nodosaur_block2.pack</td></tr>\n",
       "<tr><td class=\"cell-1\" style=\"text-align:right;\">2,563</td> <td class=\"cell-2\" style=\"text-align:right;\">2,175,913</td> <td class=\"cell-3\" style=\"text-align:right;\">2,177,554</td> <td class=\"cell-4\" style=\"\"></td> <td class=\"cell-5\" style=\"\">http://www.nationalgeographic.com/interactive-assets/nggraphics/ngm-nodosaur/build-2017-05-15_16-07-57/assets/models/block1/Nodosaur_block1.pack</td></tr>\n",
       "<tr><td class=\"cell-1\" style=\"text-align:right;\">2,564</td> <td class=\"cell-2\" style=\"text-align:right;\">2,565,642</td> <td class=\"cell-3\" style=\"text-align:right;\">2,567,895</td> <td class=\"cell-4\" style=\"\"></td> <td class=\"cell-5\" style=\"\">http://www.nationalgeographic.com/interactive-assets/nggraphics/ngm-nodosaur/build-2017-05-15_16-07-57/assets/models/block3/Nodosaur_block3_group2.pack</td></tr>\n",
       "<tr><td class=\"cell-1\" style=\"text-align:right;\">2,564</td> <td class=\"cell-2\" style=\"text-align:right;\">1,753,641</td> <td class=\"cell-3\" style=\"text-align:right;\">1,754,778</td> <td class=\"cell-4\" style=\"\"></td> <td class=\"cell-5\" style=\"\">http://www.nationalgeographic.com/interactive-assets/nggraphics/ngm-nodosaur/build-2017-05-15_16-07-57/assets/models/block3/Nodosaur_block3_group1.pack</td></tr>\n",
       "<tr><td class=\"cell-1\" style=\"text-align:right;\">2,565</td> <td class=\"cell-2\" style=\"text-align:right;\">1,763,115</td> <td class=\"cell-3\" style=\"text-align:right;\">1,764,504</td> <td class=\"cell-4\" style=\"\"></td> <td class=\"cell-5\" style=\"\">http://www.nationalgeographic.com/interactive-assets/nggraphics/ngm-nodosaur/build-2017-05-15_16-07-57/assets/models/block4/Nodosaur_block4_repos1.pack</td></tr>\n",
       "    \n",
       "    <tr><td class=\"cell-1\" style=\"text-align:right;\">2,565</td> <td class=\"cell-2\" style=\"text-align:right;\">1,907,489</td> <td class=\"cell-3\" style=\"text-align:right;\">1,909,694</td> <td class=\"cell-4\" style=\"\"></td> <td class=\"cell-5\" style=\"\">http://www.nationalgeographic.com/interactive-assets/nggraphics/ngm-nodosaur/build-2017-05-15_16-07-57/assets/models/foot1/Nodosaur_foot1_repos1.pack</td></tr>\n",
       "<tr><td class=\"cell-1\" style=\"text-align:right;\">2,566</td> <td class=\"cell-2\" style=\"text-align:right;\">1,544,761</td> <td class=\"cell-3\" style=\"text-align:right;\">1,546,570</td> <td class=\"cell-4\" style=\"\"></td> <td class=\"cell-5\" style=\"\">http://www.nationalgeographic.com/interactive-assets/nggraphics/ngm-nodosaur/build-2017-05-15_16-07-57/assets/models/foot2/Nodosaur_foot2_repos1.pack</td></tr>\n",
       "<tr><td class=\"cell-1\" style=\"text-align:right;\">2,566</td> <td class=\"cell-2\" style=\"text-align:right;\">1,689,597</td> <td class=\"cell-3\" style=\"text-align:right;\">1,692,450</td> <td class=\"cell-4\" style=\"\"></td> <td class=\"cell-5\" style=\"\">http://www.nationalgeographic.com/interactive-assets/nggraphics/ngm-nodosaur/build-2017-05-15_16-07-57/assets/models/head/Nodosaur_head.pack</td></tr>\n",
       "<tr><td class=\"cell-1\" style=\"text-align:right;\">2,567</td> <td class=\"cell-2\" style=\"text-align:right;\">1,383,593</td> <td class=\"cell-3\" style=\"text-align:right;\">1,383,964</td> <td class=\"cell-4\" style=\"\"></td> <td class=\"cell-5\" style=\"\">http://www.nationalgeographic.com/interactive-assets/nggraphics/ngm-nodosaur/build-2017-05-15_16-07-57/assets/models/block3/block3_multi_plus1EV_hybrid.jpg</td></tr>\n",
       "<tr><td class=\"cell-1\" style=\"text-align:right;\">2,567</td> <td class=\"cell-2\" style=\"text-align:right;\">1,557,197</td> <td class=\"cell-3\" style=\"text-align:right;\">1,557,529</td> <td class=\"cell-4\" style=\"\"></td> <td class=\"cell-5\" style=\"\">http://www.nationalgeographic.com/interactive-assets/nggraphics/ngm-nodosaur/build-2017-05-15_16-07-57/assets/models/block3/Nodosaur_block3_color.jpg</td></tr>\n",
       "    </tbody>\n"
      ],
      "text/plain": [
       "HTML{UTF8String}(\"    <table  class=\\\"dataframe-table\\\">\\n    <thead><tr><th class=\\\"cell-1\\\" style=\\\"\\\">start time</th> <th class=\\\"cell-2\\\" style=\\\"\\\">encoded size</th> <th class=\\\"cell-3\\\" style=\\\"\\\">transferred size</th> <th class=\\\"cell-4\\\" style=\\\"\\\">decoded size</th> <th class=\\\"cell-5\\\" style=\\\"\\\">urlgroup</th></tr></thead>\\n    <tbody>\\n    <tr><td class=\\\"cell-1\\\" style=\\\"text-align:right;\\\">2,563</td> <td class=\\\"cell-2\\\" style=\\\"text-align:right;\\\">1,841,014</td> <td class=\\\"cell-3\\\" style=\\\"text-align:right;\\\">1,845,907</td> <td class=\\\"cell-4\\\" style=\\\"\\\"></td> <td class=\\\"cell-5\\\" style=\\\"\\\">http://www.nationalgeographic.com/interactive-assets/nggraphics/ngm-nodosaur/build-2017-05-15_16-07-57/assets/models/block2/Nodosaur_block2.pack</td></tr>\\n<tr><td class=\\\"cell-1\\\" style=\\\"text-align:right;\\\">2,563</td> <td class=\\\"cell-2\\\" style=\\\"text-align:right;\\\">2,175,913</td> <td class=\\\"cell-3\\\" style=\\\"text-align:right;\\\">2,177,554</td> <td class=\\\"cell-4\\\" style=\\\"\\\"></td> <td class=\\\"cell-5\\\" style=\\\"\\\">http://www.nationalgeographic.com/interactive-assets/nggraphics/ngm-nodosaur/build-2017-05-15_16-07-57/assets/models/block1/Nodosaur_block1.pack</td></tr>\\n<tr><td class=\\\"cell-1\\\" style=\\\"text-align:right;\\\">2,564</td> <td class=\\\"cell-2\\\" style=\\\"text-align:right;\\\">2,565,642</td> <td class=\\\"cell-3\\\" style=\\\"text-align:right;\\\">2,567,895</td> <td class=\\\"cell-4\\\" style=\\\"\\\"></td> <td class=\\\"cell-5\\\" style=\\\"\\\">http://www.nationalgeographic.com/interactive-assets/nggraphics/ngm-nodosaur/build-2017-05-15_16-07-57/assets/models/block3/Nodosaur_block3_group2.pack</td></tr>\\n<tr><td class=\\\"cell-1\\\" style=\\\"text-align:right;\\\">2,564</td> <td class=\\\"cell-2\\\" style=\\\"text-align:right;\\\">1,753,641</td> <td class=\\\"cell-3\\\" style=\\\"text-align:right;\\\">1,754,778</td> <td class=\\\"cell-4\\\" style=\\\"\\\"></td> <td class=\\\"cell-5\\\" style=\\\"\\\">http://www.nationalgeographic.com/interactive-assets/nggraphics/ngm-nodosaur/build-2017-05-15_16-07-57/assets/models/block3/Nodosaur_block3_group1.pack</td></tr>\\n<tr><td class=\\\"cell-1\\\" style=\\\"text-align:right;\\\">2,565</td> <td class=\\\"cell-2\\\" style=\\\"text-align:right;\\\">1,763,115</td> <td class=\\\"cell-3\\\" style=\\\"text-align:right;\\\">1,764,504</td> <td class=\\\"cell-4\\\" style=\\\"\\\"></td> <td class=\\\"cell-5\\\" style=\\\"\\\">http://www.nationalgeographic.com/interactive-assets/nggraphics/ngm-nodosaur/build-2017-05-15_16-07-57/assets/models/block4/Nodosaur_block4_repos1.pack</td></tr>\\n    \\n    <tr><td class=\\\"cell-1\\\" style=\\\"text-align:right;\\\">2,565</td> <td class=\\\"cell-2\\\" style=\\\"text-align:right;\\\">1,907,489</td> <td class=\\\"cell-3\\\" style=\\\"text-align:right;\\\">1,909,694</td> <td class=\\\"cell-4\\\" style=\\\"\\\"></td> <td class=\\\"cell-5\\\" style=\\\"\\\">http://www.nationalgeographic.com/interactive-assets/nggraphics/ngm-nodosaur/build-2017-05-15_16-07-57/assets/models/foot1/Nodosaur_foot1_repos1.pack</td></tr>\\n<tr><td class=\\\"cell-1\\\" style=\\\"text-align:right;\\\">2,566</td> <td class=\\\"cell-2\\\" style=\\\"text-align:right;\\\">1,544,761</td> <td class=\\\"cell-3\\\" style=\\\"text-align:right;\\\">1,546,570</td> <td class=\\\"cell-4\\\" style=\\\"\\\"></td> <td class=\\\"cell-5\\\" style=\\\"\\\">http://www.nationalgeographic.com/interactive-assets/nggraphics/ngm-nodosaur/build-2017-05-15_16-07-57/assets/models/foot2/Nodosaur_foot2_repos1.pack</td></tr>\\n<tr><td class=\\\"cell-1\\\" style=\\\"text-align:right;\\\">2,566</td> <td class=\\\"cell-2\\\" style=\\\"text-align:right;\\\">1,689,597</td> <td class=\\\"cell-3\\\" style=\\\"text-align:right;\\\">1,692,450</td> <td class=\\\"cell-4\\\" style=\\\"\\\"></td> <td class=\\\"cell-5\\\" style=\\\"\\\">http://www.nationalgeographic.com/interactive-assets/nggraphics/ngm-nodosaur/build-2017-05-15_16-07-57/assets/models/head/Nodosaur_head.pack</td></tr>\\n<tr><td class=\\\"cell-1\\\" style=\\\"text-align:right;\\\">2,567</td> <td class=\\\"cell-2\\\" style=\\\"text-align:right;\\\">1,383,593</td> <td class=\\\"cell-3\\\" style=\\\"text-align:right;\\\">1,383,964</td> <td class=\\\"cell-4\\\" style=\\\"\\\"></td> <td class=\\\"cell-5\\\" style=\\\"\\\">http://www.nationalgeographic.com/interactive-assets/nggraphics/ngm-nodosaur/build-2017-05-15_16-07-57/assets/models/block3/block3_multi_plus1EV_hybrid.jpg</td></tr>\\n<tr><td class=\\\"cell-1\\\" style=\\\"text-align:right;\\\">2,567</td> <td class=\\\"cell-2\\\" style=\\\"text-align:right;\\\">1,557,197</td> <td class=\\\"cell-3\\\" style=\\\"text-align:right;\\\">1,557,529</td> <td class=\\\"cell-4\\\" style=\\\"\\\"></td> <td class=\\\"cell-5\\\" style=\\\"\\\">http://www.nationalgeographic.com/interactive-assets/nggraphics/ngm-nodosaur/build-2017-05-15_16-07-57/assets/models/block3/Nodosaur_block3_color.jpg</td></tr>\\n    </tbody>\\n\")"
      ]
     },
     "metadata": {},
     "output_type": "display_data"
    },
    {
     "data": {
      "text/html": [
       "<div class=\"dswbOutputText\"><h1 class=\"chart_title\" style=\"color:#ccc\">Large Request Stats for: http://www.nationalgeographic.com/magazine/2017/06/nodosaur-3d-interactive-dinosaur-fossil</h1><h3 class=\"chart_info\" style=\"color:#ccc\">June 8, 2017 10:59:00 to June 8, 2017 12:59:00 Local Time</h3></div>"
      ]
     },
     "metadata": {},
     "output_type": "display_data"
    },
    {
     "data": {
      "text/html": [
       "    <table  class=\"dataframe-table\">\n",
       "    <thead><tr><th class=\"cell-1\" style=\"\">RefGroup</th> <th class=\"cell-2\" style=\"\">Unit</th> <th class=\"cell-3\" style=\"\">Count</th> <th class=\"cell-4\" style=\"\">Mean</th> <th class=\"cell-5\" style=\"\">Median</th> <th class=\"cell-6\" style=\"\">Min</th> <th class=\"cell-7\" style=\"\">Max</th></tr></thead>\n",
       "    <tbody>\n",
       "    <tr><td class=\"cell-1\" style=\"\">Desktop</td> <td class=\"cell-2\" style=\"\">seconds</td> <td class=\"cell-3\" style=\"text-align:right;\">55</td> <td class=\"cell-4\" style=\"text-align:right;\">21.698</td> <td class=\"cell-5\" style=\"text-align:right;\">13.525</td> <td class=\"cell-6\" style=\"text-align:right;\">2.956</td> <td class=\"cell-7\" style=\"text-align:right;\">153.476</td></tr>\n",
       "<tr><td class=\"cell-1\" style=\"\">Mobile</td> <td class=\"cell-2\" style=\"\">seconds</td> <td class=\"cell-3\" style=\"text-align:right;\">20</td> <td class=\"cell-4\" style=\"text-align:right;\">31.619</td> <td class=\"cell-5\" style=\"text-align:right;\">22</td> <td class=\"cell-6\" style=\"text-align:right;\">9.692</td> <td class=\"cell-7\" style=\"text-align:right;\">100.06</td></tr>\n",
       "    \n",
       "    <tr><td class=\"cell-1\" style=\"\">Tablet</td> <td class=\"cell-2\" style=\"\">seconds</td> <td class=\"cell-3\" style=\"text-align:right;\">5</td> <td class=\"cell-4\" style=\"text-align:right;\">29.105</td> <td class=\"cell-5\" style=\"text-align:right;\">25.23</td> <td class=\"cell-6\" style=\"text-align:right;\">6.737</td> <td class=\"cell-7\" style=\"text-align:right;\">56.973</td></tr>\n",
       "    </tbody>\n"
      ],
      "text/plain": [
       "HTML{UTF8String}(\"    <table  class=\\\"dataframe-table\\\">\\n    <thead><tr><th class=\\\"cell-1\\\" style=\\\"\\\">RefGroup</th> <th class=\\\"cell-2\\\" style=\\\"\\\">Unit</th> <th class=\\\"cell-3\\\" style=\\\"\\\">Count</th> <th class=\\\"cell-4\\\" style=\\\"\\\">Mean</th> <th class=\\\"cell-5\\\" style=\\\"\\\">Median</th> <th class=\\\"cell-6\\\" style=\\\"\\\">Min</th> <th class=\\\"cell-7\\\" style=\\\"\\\">Max</th></tr></thead>\\n    <tbody>\\n    <tr><td class=\\\"cell-1\\\" style=\\\"\\\">Desktop</td> <td class=\\\"cell-2\\\" style=\\\"\\\">seconds</td> <td class=\\\"cell-3\\\" style=\\\"text-align:right;\\\">55</td> <td class=\\\"cell-4\\\" style=\\\"text-align:right;\\\">21.698</td> <td class=\\\"cell-5\\\" style=\\\"text-align:right;\\\">13.525</td> <td class=\\\"cell-6\\\" style=\\\"text-align:right;\\\">2.956</td> <td class=\\\"cell-7\\\" style=\\\"text-align:right;\\\">153.476</td></tr>\\n<tr><td class=\\\"cell-1\\\" style=\\\"\\\">Mobile</td> <td class=\\\"cell-2\\\" style=\\\"\\\">seconds</td> <td class=\\\"cell-3\\\" style=\\\"text-align:right;\\\">20</td> <td class=\\\"cell-4\\\" style=\\\"text-align:right;\\\">31.619</td> <td class=\\\"cell-5\\\" style=\\\"text-align:right;\\\">22</td> <td class=\\\"cell-6\\\" style=\\\"text-align:right;\\\">9.692</td> <td class=\\\"cell-7\\\" style=\\\"text-align:right;\\\">100.06</td></tr>\\n    \\n    <tr><td class=\\\"cell-1\\\" style=\\\"\\\">Tablet</td> <td class=\\\"cell-2\\\" style=\\\"\\\">seconds</td> <td class=\\\"cell-3\\\" style=\\\"text-align:right;\\\">5</td> <td class=\\\"cell-4\\\" style=\\\"text-align:right;\\\">29.105</td> <td class=\\\"cell-5\\\" style=\\\"text-align:right;\\\">25.23</td> <td class=\\\"cell-6\\\" style=\\\"text-align:right;\\\">6.737</td> <td class=\\\"cell-7\\\" style=\\\"text-align:right;\\\">56.973</td></tr>\\n    </tbody>\\n\")"
      ]
     },
     "metadata": {},
     "output_type": "display_data"
    },
    {
     "data": {
      "text/html": [
       "<div class=\"dswbOutputText\"><h1 class=\"chart_title\" style=\"color:#ccc\">Large Requests for: http://www.nationalgeographic.com/magazine/2016/05/yellowstone-national-parks-supervolcano-animation</h1><h3 class=\"chart_info\" style=\"color:#ccc\">June 8, 2017 10:59:00 to June 8, 2017 12:59:00 Local Time</h3></div>"
      ]
     },
     "metadata": {},
     "output_type": "display_data"
    },
    {
     "data": {
      "text/html": [
       "    <table  class=\"dataframe-table\">\n",
       "    <thead><tr><th class=\"cell-1\" style=\"\">start time</th> <th class=\"cell-2\" style=\"\">encoded size</th> <th class=\"cell-3\" style=\"\">transferred size</th> <th class=\"cell-4\" style=\"\">decoded size</th> <th class=\"cell-5\" style=\"\">urlgroup</th></tr></thead>\n",
       "    <tbody>\n",
       "    <tr><td class=\"cell-1\" style=\"text-align:right;\">1,888</td> <td class=\"cell-2\" style=\"text-align:right;\">2,963,946</td> <td class=\"cell-3\" style=\"text-align:right;\">2,964,306</td> <td class=\"cell-4\" style=\"\"></td> <td class=\"cell-5\" style=\"\">http://nationalgeographic.com/interactive-assets/yellowstone/volcano/v6-3/assets/video/mp4/sequence-3-768.mp4</td></tr>\n",
       "<tr><td class=\"cell-1\" style=\"text-align:right;\">1,888</td> <td class=\"cell-2\" style=\"text-align:right;\">3,832,868</td> <td class=\"cell-3\" style=\"text-align:right;\">3,833,228</td> <td class=\"cell-4\" style=\"\"></td> <td class=\"cell-5\" style=\"\">http://nationalgeographic.com/interactive-assets/yellowstone/volcano/v6-3/assets/video/mp4/sequence-1-768.mp4</td></tr>\n",
       "<tr><td class=\"cell-1\" style=\"text-align:right;\">2,743</td> <td class=\"cell-2\" style=\"text-align:right;\">2,464,395</td> <td class=\"cell-3\" style=\"text-align:right;\">2,464,755</td> <td class=\"cell-4\" style=\"\"></td> <td class=\"cell-5\" style=\"\">http://nationalgeographic.com/interactive-assets/yellowstone/volcano/v6-3/assets/video/mp4/sequence-4-768.mp4</td></tr>\n",
       "    \n",
       "    <tr><td class=\"cell-1\" style=\"text-align:right;\">2,744</td> <td class=\"cell-2\" style=\"text-align:right;\">1,348,429</td> <td class=\"cell-3\" style=\"text-align:right;\">1,348,789</td> <td class=\"cell-4\" style=\"\"></td> <td class=\"cell-5\" style=\"\">http://nationalgeographic.com/interactive-assets/yellowstone/volcano/v6-3/assets/video/mp4/sequence-5-768.mp4</td></tr>\n",
       "<tr><td class=\"cell-1\" style=\"text-align:right;\">2,747</td> <td class=\"cell-2\" style=\"text-align:right;\">1,494,559</td> <td class=\"cell-3\" style=\"text-align:right;\">1,494,919</td> <td class=\"cell-4\" style=\"\"></td> <td class=\"cell-5\" style=\"\">http://nationalgeographic.com/interactive-assets/yellowstone/volcano/v6-3/assets/video/mp4/sequence-6-768.mp4</td></tr>\n",
       "<tr><td class=\"cell-1\" style=\"text-align:right;\">2,748</td> <td class=\"cell-2\" style=\"text-align:right;\">3,336,447</td> <td class=\"cell-3\" style=\"text-align:right;\">3,336,807</td> <td class=\"cell-4\" style=\"\"></td> <td class=\"cell-5\" style=\"\">http://nationalgeographic.com/interactive-assets/yellowstone/volcano/v6-3/assets/video/mp4/sequence-7-768.mp4</td></tr>\n",
       "    </tbody>\n"
      ],
      "text/plain": [
       "HTML{UTF8String}(\"    <table  class=\\\"dataframe-table\\\">\\n    <thead><tr><th class=\\\"cell-1\\\" style=\\\"\\\">start time</th> <th class=\\\"cell-2\\\" style=\\\"\\\">encoded size</th> <th class=\\\"cell-3\\\" style=\\\"\\\">transferred size</th> <th class=\\\"cell-4\\\" style=\\\"\\\">decoded size</th> <th class=\\\"cell-5\\\" style=\\\"\\\">urlgroup</th></tr></thead>\\n    <tbody>\\n    <tr><td class=\\\"cell-1\\\" style=\\\"text-align:right;\\\">1,888</td> <td class=\\\"cell-2\\\" style=\\\"text-align:right;\\\">2,963,946</td> <td class=\\\"cell-3\\\" style=\\\"text-align:right;\\\">2,964,306</td> <td class=\\\"cell-4\\\" style=\\\"\\\"></td> <td class=\\\"cell-5\\\" style=\\\"\\\">http://nationalgeographic.com/interactive-assets/yellowstone/volcano/v6-3/assets/video/mp4/sequence-3-768.mp4</td></tr>\\n<tr><td class=\\\"cell-1\\\" style=\\\"text-align:right;\\\">1,888</td> <td class=\\\"cell-2\\\" style=\\\"text-align:right;\\\">3,832,868</td> <td class=\\\"cell-3\\\" style=\\\"text-align:right;\\\">3,833,228</td> <td class=\\\"cell-4\\\" style=\\\"\\\"></td> <td class=\\\"cell-5\\\" style=\\\"\\\">http://nationalgeographic.com/interactive-assets/yellowstone/volcano/v6-3/assets/video/mp4/sequence-1-768.mp4</td></tr>\\n<tr><td class=\\\"cell-1\\\" style=\\\"text-align:right;\\\">2,743</td> <td class=\\\"cell-2\\\" style=\\\"text-align:right;\\\">2,464,395</td> <td class=\\\"cell-3\\\" style=\\\"text-align:right;\\\">2,464,755</td> <td class=\\\"cell-4\\\" style=\\\"\\\"></td> <td class=\\\"cell-5\\\" style=\\\"\\\">http://nationalgeographic.com/interactive-assets/yellowstone/volcano/v6-3/assets/video/mp4/sequence-4-768.mp4</td></tr>\\n    \\n    <tr><td class=\\\"cell-1\\\" style=\\\"text-align:right;\\\">2,744</td> <td class=\\\"cell-2\\\" style=\\\"text-align:right;\\\">1,348,429</td> <td class=\\\"cell-3\\\" style=\\\"text-align:right;\\\">1,348,789</td> <td class=\\\"cell-4\\\" style=\\\"\\\"></td> <td class=\\\"cell-5\\\" style=\\\"\\\">http://nationalgeographic.com/interactive-assets/yellowstone/volcano/v6-3/assets/video/mp4/sequence-5-768.mp4</td></tr>\\n<tr><td class=\\\"cell-1\\\" style=\\\"text-align:right;\\\">2,747</td> <td class=\\\"cell-2\\\" style=\\\"text-align:right;\\\">1,494,559</td> <td class=\\\"cell-3\\\" style=\\\"text-align:right;\\\">1,494,919</td> <td class=\\\"cell-4\\\" style=\\\"\\\"></td> <td class=\\\"cell-5\\\" style=\\\"\\\">http://nationalgeographic.com/interactive-assets/yellowstone/volcano/v6-3/assets/video/mp4/sequence-6-768.mp4</td></tr>\\n<tr><td class=\\\"cell-1\\\" style=\\\"text-align:right;\\\">2,748</td> <td class=\\\"cell-2\\\" style=\\\"text-align:right;\\\">3,336,447</td> <td class=\\\"cell-3\\\" style=\\\"text-align:right;\\\">3,336,807</td> <td class=\\\"cell-4\\\" style=\\\"\\\"></td> <td class=\\\"cell-5\\\" style=\\\"\\\">http://nationalgeographic.com/interactive-assets/yellowstone/volcano/v6-3/assets/video/mp4/sequence-7-768.mp4</td></tr>\\n    </tbody>\\n\")"
      ]
     },
     "metadata": {},
     "output_type": "display_data"
    },
    {
     "data": {
      "text/html": [
       "<div class=\"dswbOutputText\"><h1 class=\"chart_title\" style=\"color:#ccc\">Large Request Stats for: http://www.nationalgeographic.com/magazine/2016/05/yellowstone-national-parks-supervolcano-animation</h1><h3 class=\"chart_info\" style=\"color:#ccc\">June 8, 2017 10:59:00 to June 8, 2017 12:59:00 Local Time</h3></div>"
      ]
     },
     "metadata": {},
     "output_type": "display_data"
    },
    {
     "data": {
      "text/html": [
       "    <table  class=\"dataframe-table\">\n",
       "    <thead><tr><th class=\"cell-1\" style=\"\">RefGroup</th> <th class=\"cell-2\" style=\"\">Unit</th> <th class=\"cell-3\" style=\"\">Count</th> <th class=\"cell-4\" style=\"\">Mean</th> <th class=\"cell-5\" style=\"\">Median</th> <th class=\"cell-6\" style=\"\">Min</th> <th class=\"cell-7\" style=\"\">Max</th></tr></thead>\n",
       "    <tbody>\n",
       "    <tr><td class=\"cell-1\" style=\"\">Desktop</td> <td class=\"cell-2\" style=\"\">seconds</td> <td class=\"cell-3\" style=\"text-align:right;\">1</td> <td class=\"cell-4\" style=\"text-align:right;\">7.712</td> <td class=\"cell-5\" style=\"text-align:right;\">7.712</td> <td class=\"cell-6\" style=\"text-align:right;\">7.712</td> <td class=\"cell-7\" style=\"text-align:right;\">7.712</td></tr>\n",
       "<tr><td class=\"cell-1\" style=\"\">Mobile</td> <td class=\"cell-2\" style=\"\">seconds</td> <td class=\"cell-3\" style=\"text-align:right;\">1</td> <td class=\"cell-4\" style=\"text-align:right;\">6.011</td> <td class=\"cell-5\" style=\"text-align:right;\">6.011</td> <td class=\"cell-6\" style=\"text-align:right;\">6.011</td> <td class=\"cell-7\" style=\"text-align:right;\">6.011</td></tr>\n",
       "    \n",
       "    <tr><td class=\"cell-1\" style=\"\">Tablet</td> <td class=\"cell-2\" style=\"\">seconds</td> <td class=\"cell-3\" style=\"text-align:right;\">1</td> <td class=\"cell-4\" style=\"text-align:right;\">25.502</td> <td class=\"cell-5\" style=\"text-align:right;\">25.502</td> <td class=\"cell-6\" style=\"text-align:right;\">25.502</td> <td class=\"cell-7\" style=\"text-align:right;\">25.502</td></tr>\n",
       "    </tbody>\n"
      ],
      "text/plain": [
       "HTML{UTF8String}(\"    <table  class=\\\"dataframe-table\\\">\\n    <thead><tr><th class=\\\"cell-1\\\" style=\\\"\\\">RefGroup</th> <th class=\\\"cell-2\\\" style=\\\"\\\">Unit</th> <th class=\\\"cell-3\\\" style=\\\"\\\">Count</th> <th class=\\\"cell-4\\\" style=\\\"\\\">Mean</th> <th class=\\\"cell-5\\\" style=\\\"\\\">Median</th> <th class=\\\"cell-6\\\" style=\\\"\\\">Min</th> <th class=\\\"cell-7\\\" style=\\\"\\\">Max</th></tr></thead>\\n    <tbody>\\n    <tr><td class=\\\"cell-1\\\" style=\\\"\\\">Desktop</td> <td class=\\\"cell-2\\\" style=\\\"\\\">seconds</td> <td class=\\\"cell-3\\\" style=\\\"text-align:right;\\\">1</td> <td class=\\\"cell-4\\\" style=\\\"text-align:right;\\\">7.712</td> <td class=\\\"cell-5\\\" style=\\\"text-align:right;\\\">7.712</td> <td class=\\\"cell-6\\\" style=\\\"text-align:right;\\\">7.712</td> <td class=\\\"cell-7\\\" style=\\\"text-align:right;\\\">7.712</td></tr>\\n<tr><td class=\\\"cell-1\\\" style=\\\"\\\">Mobile</td> <td class=\\\"cell-2\\\" style=\\\"\\\">seconds</td> <td class=\\\"cell-3\\\" style=\\\"text-align:right;\\\">1</td> <td class=\\\"cell-4\\\" style=\\\"text-align:right;\\\">6.011</td> <td class=\\\"cell-5\\\" style=\\\"text-align:right;\\\">6.011</td> <td class=\\\"cell-6\\\" style=\\\"text-align:right;\\\">6.011</td> <td class=\\\"cell-7\\\" style=\\\"text-align:right;\\\">6.011</td></tr>\\n    \\n    <tr><td class=\\\"cell-1\\\" style=\\\"\\\">Tablet</td> <td class=\\\"cell-2\\\" style=\\\"\\\">seconds</td> <td class=\\\"cell-3\\\" style=\\\"text-align:right;\\\">1</td> <td class=\\\"cell-4\\\" style=\\\"text-align:right;\\\">25.502</td> <td class=\\\"cell-5\\\" style=\\\"text-align:right;\\\">25.502</td> <td class=\\\"cell-6\\\" style=\\\"text-align:right;\\\">25.502</td> <td class=\\\"cell-7\\\" style=\\\"text-align:right;\\\">25.502</td></tr>\\n    </tbody>\\n\")"
      ]
     },
     "metadata": {},
     "output_type": "display_data"
    },
    {
     "data": {
      "text/html": [
       "<div class=\"dswbOutputText\"><h1 class=\"chart_title\" style=\"color:#ccc\">Large Requests for: http://www.nationalgeographic.com/magazine/2016/10/europe-immigration-muslim-refugees-portraits</h1><h3 class=\"chart_info\" style=\"color:#ccc\">June 8, 2017 10:59:00 to June 8, 2017 12:59:00 Local Time</h3></div>"
      ]
     },
     "metadata": {},
     "output_type": "display_data"
    },
    {
     "data": {
      "text/html": [
       "    <table  class=\"dataframe-table\">\n",
       "    <thead><tr><th class=\"cell-1\" style=\"\">start time</th> <th class=\"cell-2\" style=\"\">encoded size</th> <th class=\"cell-3\" style=\"\">transferred size</th> <th class=\"cell-4\" style=\"\">decoded size</th> <th class=\"cell-5\" style=\"\">urlgroup</th></tr></thead>\n",
       "    <tbody>\n",
       "    <tr><td class=\"cell-1\" style=\"text-align:right;\">2,127</td> <td class=\"cell-2\" style=\"text-align:right;\">1,831,383</td> <td class=\"cell-3\" style=\"text-align:right;\">1,831,714</td> <td class=\"cell-4\" style=\"\"></td> <td class=\"cell-5\" style=\"\">http://www.nationalgeographic.com/interactive-assets/new-europeans/v27/assets/vid/gif/Syrian-3Children-CCF-GIF.mp4</td></tr>\n",
       "<tr><td class=\"cell-1\" style=\"text-align:right;\">2,128</td> <td class=\"cell-2\" style=\"text-align:right;\">1,017,470</td> <td class=\"cell-3\" style=\"text-align:right;\">1,017,801</td> <td class=\"cell-4\" style=\"\"></td> <td class=\"cell-5\" style=\"\">http://www.nationalgeographic.com/interactive-assets/new-europeans/v27/assets/vid/gif/Turkish-IpekIpekcioglu-CCF-GIF.mp4</td></tr>\n",
       "<tr><td class=\"cell-1\" style=\"text-align:right;\">2,130</td> <td class=\"cell-2\" style=\"text-align:right;\">1,467,883</td> <td class=\"cell-3\" style=\"text-align:right;\">1,468,214</td> <td class=\"cell-4\" style=\"\"></td> <td class=\"cell-5\" style=\"\">http://www.nationalgeographic.com/interactive-assets/new-europeans/v27/assets/vid/gif/Somalia-HalimoMohamedMoalin-Purple-CCF-GIF.mp4</td></tr>\n",
       "    \n",
       "    <tr><td class=\"cell-1\" style=\"text-align:right;\">3,324</td> <td class=\"cell-2\" style=\"text-align:right;\">1,831,383</td> <td class=\"cell-3\" style=\"text-align:right;\">1,831,767</td> <td class=\"cell-4\" style=\"\"></td> <td class=\"cell-5\" style=\"\">http://www.nationalgeographic.com/interactive-assets/new-europeans/v27/assets/vid/gif/Syrian-3Children-CCF-GIF.mp4</td></tr>\n",
       "<tr><td class=\"cell-1\" style=\"text-align:right;\">3,325</td> <td class=\"cell-2\" style=\"text-align:right;\">1,017,470</td> <td class=\"cell-3\" style=\"text-align:right;\">1,017,854</td> <td class=\"cell-4\" style=\"\"></td> <td class=\"cell-5\" style=\"\">http://www.nationalgeographic.com/interactive-assets/new-europeans/v27/assets/vid/gif/Turkish-IpekIpekcioglu-CCF-GIF.mp4</td></tr>\n",
       "<tr><td class=\"cell-1\" style=\"text-align:right;\">3,332</td> <td class=\"cell-2\" style=\"text-align:right;\">1,467,883</td> <td class=\"cell-3\" style=\"text-align:right;\">1,468,267</td> <td class=\"cell-4\" style=\"\"></td> <td class=\"cell-5\" style=\"\">http://www.nationalgeographic.com/interactive-assets/new-europeans/v27/assets/vid/gif/Somalia-HalimoMohamedMoalin-Purple-CCF-GIF.mp4</td></tr>\n",
       "    </tbody>\n"
      ],
      "text/plain": [
       "HTML{UTF8String}(\"    <table  class=\\\"dataframe-table\\\">\\n    <thead><tr><th class=\\\"cell-1\\\" style=\\\"\\\">start time</th> <th class=\\\"cell-2\\\" style=\\\"\\\">encoded size</th> <th class=\\\"cell-3\\\" style=\\\"\\\">transferred size</th> <th class=\\\"cell-4\\\" style=\\\"\\\">decoded size</th> <th class=\\\"cell-5\\\" style=\\\"\\\">urlgroup</th></tr></thead>\\n    <tbody>\\n    <tr><td class=\\\"cell-1\\\" style=\\\"text-align:right;\\\">2,127</td> <td class=\\\"cell-2\\\" style=\\\"text-align:right;\\\">1,831,383</td> <td class=\\\"cell-3\\\" style=\\\"text-align:right;\\\">1,831,714</td> <td class=\\\"cell-4\\\" style=\\\"\\\"></td> <td class=\\\"cell-5\\\" style=\\\"\\\">http://www.nationalgeographic.com/interactive-assets/new-europeans/v27/assets/vid/gif/Syrian-3Children-CCF-GIF.mp4</td></tr>\\n<tr><td class=\\\"cell-1\\\" style=\\\"text-align:right;\\\">2,128</td> <td class=\\\"cell-2\\\" style=\\\"text-align:right;\\\">1,017,470</td> <td class=\\\"cell-3\\\" style=\\\"text-align:right;\\\">1,017,801</td> <td class=\\\"cell-4\\\" style=\\\"\\\"></td> <td class=\\\"cell-5\\\" style=\\\"\\\">http://www.nationalgeographic.com/interactive-assets/new-europeans/v27/assets/vid/gif/Turkish-IpekIpekcioglu-CCF-GIF.mp4</td></tr>\\n<tr><td class=\\\"cell-1\\\" style=\\\"text-align:right;\\\">2,130</td> <td class=\\\"cell-2\\\" style=\\\"text-align:right;\\\">1,467,883</td> <td class=\\\"cell-3\\\" style=\\\"text-align:right;\\\">1,468,214</td> <td class=\\\"cell-4\\\" style=\\\"\\\"></td> <td class=\\\"cell-5\\\" style=\\\"\\\">http://www.nationalgeographic.com/interactive-assets/new-europeans/v27/assets/vid/gif/Somalia-HalimoMohamedMoalin-Purple-CCF-GIF.mp4</td></tr>\\n    \\n    <tr><td class=\\\"cell-1\\\" style=\\\"text-align:right;\\\">3,324</td> <td class=\\\"cell-2\\\" style=\\\"text-align:right;\\\">1,831,383</td> <td class=\\\"cell-3\\\" style=\\\"text-align:right;\\\">1,831,767</td> <td class=\\\"cell-4\\\" style=\\\"\\\"></td> <td class=\\\"cell-5\\\" style=\\\"\\\">http://www.nationalgeographic.com/interactive-assets/new-europeans/v27/assets/vid/gif/Syrian-3Children-CCF-GIF.mp4</td></tr>\\n<tr><td class=\\\"cell-1\\\" style=\\\"text-align:right;\\\">3,325</td> <td class=\\\"cell-2\\\" style=\\\"text-align:right;\\\">1,017,470</td> <td class=\\\"cell-3\\\" style=\\\"text-align:right;\\\">1,017,854</td> <td class=\\\"cell-4\\\" style=\\\"\\\"></td> <td class=\\\"cell-5\\\" style=\\\"\\\">http://www.nationalgeographic.com/interactive-assets/new-europeans/v27/assets/vid/gif/Turkish-IpekIpekcioglu-CCF-GIF.mp4</td></tr>\\n<tr><td class=\\\"cell-1\\\" style=\\\"text-align:right;\\\">3,332</td> <td class=\\\"cell-2\\\" style=\\\"text-align:right;\\\">1,467,883</td> <td class=\\\"cell-3\\\" style=\\\"text-align:right;\\\">1,468,267</td> <td class=\\\"cell-4\\\" style=\\\"\\\"></td> <td class=\\\"cell-5\\\" style=\\\"\\\">http://www.nationalgeographic.com/interactive-assets/new-europeans/v27/assets/vid/gif/Somalia-HalimoMohamedMoalin-Purple-CCF-GIF.mp4</td></tr>\\n    </tbody>\\n\")"
      ]
     },
     "metadata": {},
     "output_type": "display_data"
    },
    {
     "data": {
      "text/html": [
       "<div class=\"dswbOutputText\"><h1 class=\"chart_title\" style=\"color:#ccc\">Large Request Stats for: http://www.nationalgeographic.com/magazine/2016/10/europe-immigration-muslim-refugees-portraits</h1><h3 class=\"chart_info\" style=\"color:#ccc\">June 8, 2017 10:59:00 to June 8, 2017 12:59:00 Local Time</h3></div>"
      ]
     },
     "metadata": {},
     "output_type": "display_data"
    },
    {
     "data": {
      "text/html": [
       "    <table  class=\"dataframe-table\">\n",
       "    <thead><tr><th class=\"cell-1\" style=\"\">RefGroup</th> <th class=\"cell-2\" style=\"\">Unit</th> <th class=\"cell-3\" style=\"\">Count</th> <th class=\"cell-4\" style=\"\">Mean</th> <th class=\"cell-5\" style=\"\">Median</th> <th class=\"cell-6\" style=\"\">Min</th> <th class=\"cell-7\" style=\"\">Max</th></tr></thead>\n",
       "    <tbody>\n",
       "    <tr><td class=\"cell-1\" style=\"\">Desktop</td> <td class=\"cell-2\" style=\"\">seconds</td> <td class=\"cell-3\" style=\"text-align:right;\">5</td> <td class=\"cell-4\" style=\"text-align:right;\">3.937</td> <td class=\"cell-5\" style=\"text-align:right;\">4.361</td> <td class=\"cell-6\" style=\"text-align:right;\">2.039</td> <td class=\"cell-7\" style=\"text-align:right;\">5.105</td></tr>\n",
       "<tr><td class=\"cell-1\" style=\"\">Mobile</td> <td class=\"cell-2\" style=\"\">seconds</td> <td class=\"cell-3\" style=\"text-align:right;\">4</td> <td class=\"cell-4\" style=\"text-align:right;\">18.426</td> <td class=\"cell-5\" style=\"text-align:right;\">16.651</td> <td class=\"cell-6\" style=\"text-align:right;\">12.679</td> <td class=\"cell-7\" style=\"text-align:right;\">27.722</td></tr>\n",
       "    \n",
       "    <tr><td class=\"cell-1\" style=\"\">Tablet</td> <td class=\"cell-2\" style=\"\"></td> <td class=\"cell-3\" style=\"text-align:right;\">0</td> <td class=\"cell-4\" style=\"text-align:right;\">0</td> <td class=\"cell-5\" style=\"text-align:right;\">0</td> <td class=\"cell-6\" style=\"text-align:right;\">0</td> <td class=\"cell-7\" style=\"text-align:right;\">0</td></tr>\n",
       "    </tbody>\n"
      ],
      "text/plain": [
       "HTML{UTF8String}(\"    <table  class=\\\"dataframe-table\\\">\\n    <thead><tr><th class=\\\"cell-1\\\" style=\\\"\\\">RefGroup</th> <th class=\\\"cell-2\\\" style=\\\"\\\">Unit</th> <th class=\\\"cell-3\\\" style=\\\"\\\">Count</th> <th class=\\\"cell-4\\\" style=\\\"\\\">Mean</th> <th class=\\\"cell-5\\\" style=\\\"\\\">Median</th> <th class=\\\"cell-6\\\" style=\\\"\\\">Min</th> <th class=\\\"cell-7\\\" style=\\\"\\\">Max</th></tr></thead>\\n    <tbody>\\n    <tr><td class=\\\"cell-1\\\" style=\\\"\\\">Desktop</td> <td class=\\\"cell-2\\\" style=\\\"\\\">seconds</td> <td class=\\\"cell-3\\\" style=\\\"text-align:right;\\\">5</td> <td class=\\\"cell-4\\\" style=\\\"text-align:right;\\\">3.937</td> <td class=\\\"cell-5\\\" style=\\\"text-align:right;\\\">4.361</td> <td class=\\\"cell-6\\\" style=\\\"text-align:right;\\\">2.039</td> <td class=\\\"cell-7\\\" style=\\\"text-align:right;\\\">5.105</td></tr>\\n<tr><td class=\\\"cell-1\\\" style=\\\"\\\">Mobile</td> <td class=\\\"cell-2\\\" style=\\\"\\\">seconds</td> <td class=\\\"cell-3\\\" style=\\\"text-align:right;\\\">4</td> <td class=\\\"cell-4\\\" style=\\\"text-align:right;\\\">18.426</td> <td class=\\\"cell-5\\\" style=\\\"text-align:right;\\\">16.651</td> <td class=\\\"cell-6\\\" style=\\\"text-align:right;\\\">12.679</td> <td class=\\\"cell-7\\\" style=\\\"text-align:right;\\\">27.722</td></tr>\\n    \\n    <tr><td class=\\\"cell-1\\\" style=\\\"\\\">Tablet</td> <td class=\\\"cell-2\\\" style=\\\"\\\"></td> <td class=\\\"cell-3\\\" style=\\\"text-align:right;\\\">0</td> <td class=\\\"cell-4\\\" style=\\\"text-align:right;\\\">0</td> <td class=\\\"cell-5\\\" style=\\\"text-align:right;\\\">0</td> <td class=\\\"cell-6\\\" style=\\\"text-align:right;\\\">0</td> <td class=\\\"cell-7\\\" style=\\\"text-align:right;\\\">0</td></tr>\\n    </tbody>\\n\")"
      ]
     },
     "metadata": {},
     "output_type": "display_data"
    },
    {
     "data": {
      "text/html": [
       "<div class=\"dswbOutputText\"><h1 class=\"chart_title\" style=\"color:#ccc\">Large Requests for: http://www.nationalgeographic.com/magazine/2016/06/shark-species-family-tree-ocean-ecosystem-predator</h1><h3 class=\"chart_info\" style=\"color:#ccc\">June 8, 2017 10:59:00 to June 8, 2017 12:59:00 Local Time</h3></div>"
      ]
     },
     "metadata": {},
     "output_type": "display_data"
    },
    {
     "data": {
      "text/html": [
       "    <table  class=\"dataframe-table\">\n",
       "    <thead><tr><th class=\"cell-1\" style=\"\">start time</th> <th class=\"cell-2\" style=\"\">encoded size</th> <th class=\"cell-3\" style=\"\">transferred size</th> <th class=\"cell-4\" style=\"\">decoded size</th> <th class=\"cell-5\" style=\"\">urlgroup</th></tr></thead>\n",
       "    <tbody>\n",
       "    <tr><td class=\"cell-1\" style=\"text-align:right;\">532</td> <td class=\"cell-2\" style=\"text-align:right;\">1,392,852</td> <td class=\"cell-3\" style=\"text-align:right;\">1,393,183</td> <td class=\"cell-4\" style=\"\"></td> <td class=\"cell-5\" style=\"\">http://www.nationalgeographic.com/interactive-assets/sharks/v33/assets/img/updated/Display/SharkInteractive_Whale_1536.png</td></tr>\n",
       "<tr><td class=\"cell-1\" style=\"text-align:right;\">532</td> <td class=\"cell-2\" style=\"text-align:right;\">1,599,585</td> <td class=\"cell-3\" style=\"text-align:right;\">1,599,956</td> <td class=\"cell-4\" style=\"\"></td> <td class=\"cell-5\" style=\"\">http://www.nationalgeographic.com/interactive-assets/sharks/v33/assets/img/updated/Display/ScubeDiver_GifAnimation_V2_Display.gif</td></tr>\n",
       "    \n",
       "    <tr><td class=\"cell-1\" style=\"text-align:right;\">534</td> <td class=\"cell-2\" style=\"text-align:right;\">2,624,842</td> <td class=\"cell-3\" style=\"text-align:right;\">2,625,173</td> <td class=\"cell-4\" style=\"\"></td> <td class=\"cell-5\" style=\"\">http://www.nationalgeographic.com/interactive-assets/sharks/v33/assets/img/updated/Display/SharkInteractive_Megalodon_1536.png</td></tr>\n",
       "<tr><td class=\"cell-1\" style=\"text-align:right;\">863</td> <td class=\"cell-2\" style=\"text-align:right;\">2,031,350</td> <td class=\"cell-3\" style=\"text-align:right;\">2,031,735</td> <td class=\"cell-4\" style=\"\"></td> <td class=\"cell-5\" style=\"\">http://www.nationalgeographic.com/interactive-assets/sharks/v33/assets/audio/scuba.mp3</td></tr>\n",
       "    </tbody>\n"
      ],
      "text/plain": [
       "HTML{UTF8String}(\"    <table  class=\\\"dataframe-table\\\">\\n    <thead><tr><th class=\\\"cell-1\\\" style=\\\"\\\">start time</th> <th class=\\\"cell-2\\\" style=\\\"\\\">encoded size</th> <th class=\\\"cell-3\\\" style=\\\"\\\">transferred size</th> <th class=\\\"cell-4\\\" style=\\\"\\\">decoded size</th> <th class=\\\"cell-5\\\" style=\\\"\\\">urlgroup</th></tr></thead>\\n    <tbody>\\n    <tr><td class=\\\"cell-1\\\" style=\\\"text-align:right;\\\">532</td> <td class=\\\"cell-2\\\" style=\\\"text-align:right;\\\">1,392,852</td> <td class=\\\"cell-3\\\" style=\\\"text-align:right;\\\">1,393,183</td> <td class=\\\"cell-4\\\" style=\\\"\\\"></td> <td class=\\\"cell-5\\\" style=\\\"\\\">http://www.nationalgeographic.com/interactive-assets/sharks/v33/assets/img/updated/Display/SharkInteractive_Whale_1536.png</td></tr>\\n<tr><td class=\\\"cell-1\\\" style=\\\"text-align:right;\\\">532</td> <td class=\\\"cell-2\\\" style=\\\"text-align:right;\\\">1,599,585</td> <td class=\\\"cell-3\\\" style=\\\"text-align:right;\\\">1,599,956</td> <td class=\\\"cell-4\\\" style=\\\"\\\"></td> <td class=\\\"cell-5\\\" style=\\\"\\\">http://www.nationalgeographic.com/interactive-assets/sharks/v33/assets/img/updated/Display/ScubeDiver_GifAnimation_V2_Display.gif</td></tr>\\n    \\n    <tr><td class=\\\"cell-1\\\" style=\\\"text-align:right;\\\">534</td> <td class=\\\"cell-2\\\" style=\\\"text-align:right;\\\">2,624,842</td> <td class=\\\"cell-3\\\" style=\\\"text-align:right;\\\">2,625,173</td> <td class=\\\"cell-4\\\" style=\\\"\\\"></td> <td class=\\\"cell-5\\\" style=\\\"\\\">http://www.nationalgeographic.com/interactive-assets/sharks/v33/assets/img/updated/Display/SharkInteractive_Megalodon_1536.png</td></tr>\\n<tr><td class=\\\"cell-1\\\" style=\\\"text-align:right;\\\">863</td> <td class=\\\"cell-2\\\" style=\\\"text-align:right;\\\">2,031,350</td> <td class=\\\"cell-3\\\" style=\\\"text-align:right;\\\">2,031,735</td> <td class=\\\"cell-4\\\" style=\\\"\\\"></td> <td class=\\\"cell-5\\\" style=\\\"\\\">http://www.nationalgeographic.com/interactive-assets/sharks/v33/assets/audio/scuba.mp3</td></tr>\\n    </tbody>\\n\")"
      ]
     },
     "metadata": {},
     "output_type": "display_data"
    },
    {
     "data": {
      "text/html": [
       "<div class=\"dswbOutputText\"><h1 class=\"chart_title\" style=\"color:#ccc\">Large Request Stats for: http://www.nationalgeographic.com/magazine/2016/06/shark-species-family-tree-ocean-ecosystem-predator</h1><h3 class=\"chart_info\" style=\"color:#ccc\">June 8, 2017 10:59:00 to June 8, 2017 12:59:00 Local Time</h3></div>"
      ]
     },
     "metadata": {},
     "output_type": "display_data"
    },
    {
     "data": {
      "text/html": [
       "    <table  class=\"dataframe-table\">\n",
       "    <thead><tr><th class=\"cell-1\" style=\"\">RefGroup</th> <th class=\"cell-2\" style=\"\">Unit</th> <th class=\"cell-3\" style=\"\">Count</th> <th class=\"cell-4\" style=\"\">Mean</th> <th class=\"cell-5\" style=\"\">Median</th> <th class=\"cell-6\" style=\"\">Min</th> <th class=\"cell-7\" style=\"\">Max</th></tr></thead>\n",
       "    <tbody>\n",
       "    <tr><td class=\"cell-1\" style=\"\">Desktop</td> <td class=\"cell-2\" style=\"\">seconds</td> <td class=\"cell-3\" style=\"text-align:right;\">20</td> <td class=\"cell-4\" style=\"text-align:right;\">4.35</td> <td class=\"cell-5\" style=\"text-align:right;\">3.804</td> <td class=\"cell-6\" style=\"text-align:right;\">1.395</td> <td class=\"cell-7\" style=\"text-align:right;\">10.944</td></tr>\n",
       "<tr><td class=\"cell-1\" style=\"\">Mobile</td> <td class=\"cell-2\" style=\"\">seconds</td> <td class=\"cell-3\" style=\"text-align:right;\">6</td> <td class=\"cell-4\" style=\"text-align:right;\">20.874</td> <td class=\"cell-5\" style=\"text-align:right;\">11.25</td> <td class=\"cell-6\" style=\"text-align:right;\">3.254</td> <td class=\"cell-7\" style=\"text-align:right;\">51.55</td></tr>\n",
       "    \n",
       "    <tr><td class=\"cell-1\" style=\"\">Tablet</td> <td class=\"cell-2\" style=\"\"></td> <td class=\"cell-3\" style=\"text-align:right;\">0</td> <td class=\"cell-4\" style=\"text-align:right;\">0</td> <td class=\"cell-5\" style=\"text-align:right;\">0</td> <td class=\"cell-6\" style=\"text-align:right;\">0</td> <td class=\"cell-7\" style=\"text-align:right;\">0</td></tr>\n",
       "    </tbody>\n"
      ],
      "text/plain": [
       "HTML{UTF8String}(\"    <table  class=\\\"dataframe-table\\\">\\n    <thead><tr><th class=\\\"cell-1\\\" style=\\\"\\\">RefGroup</th> <th class=\\\"cell-2\\\" style=\\\"\\\">Unit</th> <th class=\\\"cell-3\\\" style=\\\"\\\">Count</th> <th class=\\\"cell-4\\\" style=\\\"\\\">Mean</th> <th class=\\\"cell-5\\\" style=\\\"\\\">Median</th> <th class=\\\"cell-6\\\" style=\\\"\\\">Min</th> <th class=\\\"cell-7\\\" style=\\\"\\\">Max</th></tr></thead>\\n    <tbody>\\n    <tr><td class=\\\"cell-1\\\" style=\\\"\\\">Desktop</td> <td class=\\\"cell-2\\\" style=\\\"\\\">seconds</td> <td class=\\\"cell-3\\\" style=\\\"text-align:right;\\\">20</td> <td class=\\\"cell-4\\\" style=\\\"text-align:right;\\\">4.35</td> <td class=\\\"cell-5\\\" style=\\\"text-align:right;\\\">3.804</td> <td class=\\\"cell-6\\\" style=\\\"text-align:right;\\\">1.395</td> <td class=\\\"cell-7\\\" style=\\\"text-align:right;\\\">10.944</td></tr>\\n<tr><td class=\\\"cell-1\\\" style=\\\"\\\">Mobile</td> <td class=\\\"cell-2\\\" style=\\\"\\\">seconds</td> <td class=\\\"cell-3\\\" style=\\\"text-align:right;\\\">6</td> <td class=\\\"cell-4\\\" style=\\\"text-align:right;\\\">20.874</td> <td class=\\\"cell-5\\\" style=\\\"text-align:right;\\\">11.25</td> <td class=\\\"cell-6\\\" style=\\\"text-align:right;\\\">3.254</td> <td class=\\\"cell-7\\\" style=\\\"text-align:right;\\\">51.55</td></tr>\\n    \\n    <tr><td class=\\\"cell-1\\\" style=\\\"\\\">Tablet</td> <td class=\\\"cell-2\\\" style=\\\"\\\"></td> <td class=\\\"cell-3\\\" style=\\\"text-align:right;\\\">0</td> <td class=\\\"cell-4\\\" style=\\\"text-align:right;\\\">0</td> <td class=\\\"cell-5\\\" style=\\\"text-align:right;\\\">0</td> <td class=\\\"cell-6\\\" style=\\\"text-align:right;\\\">0</td> <td class=\\\"cell-7\\\" style=\\\"text-align:right;\\\">0</td></tr>\\n    </tbody>\\n\")"
      ]
     },
     "metadata": {},
     "output_type": "display_data"
    },
    {
     "data": {
      "text/html": [
       "<div class=\"dswbOutputText\"><h1 class=\"chart_title\" style=\"color:#ccc\">Large Requests for: http://www.nationalgeographic.com/magazine/2016/05/yellowstone-national-parks-elk-migration-map</h1><h3 class=\"chart_info\" style=\"color:#ccc\">June 8, 2017 10:59:00 to June 8, 2017 12:59:00 Local Time</h3></div>"
      ]
     },
     "metadata": {},
     "output_type": "display_data"
    },
    {
     "data": {
      "text/html": [
       "    <table  class=\"dataframe-table\">\n",
       "    <thead><tr><th class=\"cell-1\" style=\"\">start time</th> <th class=\"cell-2\" style=\"\">encoded size</th> <th class=\"cell-3\" style=\"\">transferred size</th> <th class=\"cell-4\" style=\"\">decoded size</th> <th class=\"cell-5\" style=\"\">urlgroup</th></tr></thead>\n",
       "    <tbody>\n",
       "    <tr><td class=\"cell-1\" style=\"text-align:right;\">1,147</td> <td class=\"cell-2\" style=\"text-align:right;\">4,462,859</td> <td class=\"cell-3\" style=\"text-align:right;\">4,463,243</td> <td class=\"cell-4\" style=\"\"></td> <td class=\"cell-5\" style=\"\">http://www.nationalgeographic.com/interactive-assets/yellowstone/elk-migration/v4-3/assets/video/Elk-Intro-V1.mp4</td></tr>\n",
       "    \n",
       "    <tr><td class=\"cell-1\" style=\"text-align:right;\">1,318</td> <td class=\"cell-2\" style=\"text-align:right;\">3,151,801</td> <td class=\"cell-3\" style=\"text-align:right;\">3,152,133</td> <td class=\"cell-4\" style=\"\"></td> <td class=\"cell-5\" style=\"\">http://www.nationalgeographic.com/interactive-assets/yellowstone/elk-migration/v4-3/assets/data/vectors/superherd/AllRep_mar_mar_V3.geo.txt</td></tr>\n",
       "    </tbody>\n"
      ],
      "text/plain": [
       "HTML{UTF8String}(\"    <table  class=\\\"dataframe-table\\\">\\n    <thead><tr><th class=\\\"cell-1\\\" style=\\\"\\\">start time</th> <th class=\\\"cell-2\\\" style=\\\"\\\">encoded size</th> <th class=\\\"cell-3\\\" style=\\\"\\\">transferred size</th> <th class=\\\"cell-4\\\" style=\\\"\\\">decoded size</th> <th class=\\\"cell-5\\\" style=\\\"\\\">urlgroup</th></tr></thead>\\n    <tbody>\\n    <tr><td class=\\\"cell-1\\\" style=\\\"text-align:right;\\\">1,147</td> <td class=\\\"cell-2\\\" style=\\\"text-align:right;\\\">4,462,859</td> <td class=\\\"cell-3\\\" style=\\\"text-align:right;\\\">4,463,243</td> <td class=\\\"cell-4\\\" style=\\\"\\\"></td> <td class=\\\"cell-5\\\" style=\\\"\\\">http://www.nationalgeographic.com/interactive-assets/yellowstone/elk-migration/v4-3/assets/video/Elk-Intro-V1.mp4</td></tr>\\n    \\n    <tr><td class=\\\"cell-1\\\" style=\\\"text-align:right;\\\">1,318</td> <td class=\\\"cell-2\\\" style=\\\"text-align:right;\\\">3,151,801</td> <td class=\\\"cell-3\\\" style=\\\"text-align:right;\\\">3,152,133</td> <td class=\\\"cell-4\\\" style=\\\"\\\"></td> <td class=\\\"cell-5\\\" style=\\\"\\\">http://www.nationalgeographic.com/interactive-assets/yellowstone/elk-migration/v4-3/assets/data/vectors/superherd/AllRep_mar_mar_V3.geo.txt</td></tr>\\n    </tbody>\\n\")"
      ]
     },
     "metadata": {},
     "output_type": "display_data"
    },
    {
     "data": {
      "text/html": [
       "<div class=\"dswbOutputText\"><h1 class=\"chart_title\" style=\"color:#ccc\">Large Request Stats for: http://www.nationalgeographic.com/magazine/2016/05/yellowstone-national-parks-elk-migration-map</h1><h3 class=\"chart_info\" style=\"color:#ccc\">June 8, 2017 10:59:00 to June 8, 2017 12:59:00 Local Time</h3></div>"
      ]
     },
     "metadata": {},
     "output_type": "display_data"
    },
    {
     "data": {
      "text/html": [
       "    <table  class=\"dataframe-table\">\n",
       "    <thead><tr><th class=\"cell-1\" style=\"\">RefGroup</th> <th class=\"cell-2\" style=\"\">Unit</th> <th class=\"cell-3\" style=\"\">Count</th> <th class=\"cell-4\" style=\"\">Mean</th> <th class=\"cell-5\" style=\"\">Median</th> <th class=\"cell-6\" style=\"\">Min</th> <th class=\"cell-7\" style=\"\">Max</th></tr></thead>\n",
       "    <tbody>\n",
       "    <tr><td class=\"cell-1\" style=\"\">Desktop</td> <td class=\"cell-2\" style=\"\">seconds</td> <td class=\"cell-3\" style=\"text-align:right;\">2</td> <td class=\"cell-4\" style=\"text-align:right;\">5.062</td> <td class=\"cell-5\" style=\"text-align:right;\">5.062</td> <td class=\"cell-6\" style=\"text-align:right;\">4.488</td> <td class=\"cell-7\" style=\"text-align:right;\">5.637</td></tr>\n",
       "<tr><td class=\"cell-1\" style=\"\">Mobile</td> <td class=\"cell-2\" style=\"\"></td> <td class=\"cell-3\" style=\"text-align:right;\">0</td> <td class=\"cell-4\" style=\"text-align:right;\">0</td> <td class=\"cell-5\" style=\"text-align:right;\">0</td> <td class=\"cell-6\" style=\"text-align:right;\">0</td> <td class=\"cell-7\" style=\"text-align:right;\">0</td></tr>\n",
       "    \n",
       "    <tr><td class=\"cell-1\" style=\"\">Tablet</td> <td class=\"cell-2\" style=\"\"></td> <td class=\"cell-3\" style=\"text-align:right;\">0</td> <td class=\"cell-4\" style=\"text-align:right;\">0</td> <td class=\"cell-5\" style=\"text-align:right;\">0</td> <td class=\"cell-6\" style=\"text-align:right;\">0</td> <td class=\"cell-7\" style=\"text-align:right;\">0</td></tr>\n",
       "    </tbody>\n"
      ],
      "text/plain": [
       "HTML{UTF8String}(\"    <table  class=\\\"dataframe-table\\\">\\n    <thead><tr><th class=\\\"cell-1\\\" style=\\\"\\\">RefGroup</th> <th class=\\\"cell-2\\\" style=\\\"\\\">Unit</th> <th class=\\\"cell-3\\\" style=\\\"\\\">Count</th> <th class=\\\"cell-4\\\" style=\\\"\\\">Mean</th> <th class=\\\"cell-5\\\" style=\\\"\\\">Median</th> <th class=\\\"cell-6\\\" style=\\\"\\\">Min</th> <th class=\\\"cell-7\\\" style=\\\"\\\">Max</th></tr></thead>\\n    <tbody>\\n    <tr><td class=\\\"cell-1\\\" style=\\\"\\\">Desktop</td> <td class=\\\"cell-2\\\" style=\\\"\\\">seconds</td> <td class=\\\"cell-3\\\" style=\\\"text-align:right;\\\">2</td> <td class=\\\"cell-4\\\" style=\\\"text-align:right;\\\">5.062</td> <td class=\\\"cell-5\\\" style=\\\"text-align:right;\\\">5.062</td> <td class=\\\"cell-6\\\" style=\\\"text-align:right;\\\">4.488</td> <td class=\\\"cell-7\\\" style=\\\"text-align:right;\\\">5.637</td></tr>\\n<tr><td class=\\\"cell-1\\\" style=\\\"\\\">Mobile</td> <td class=\\\"cell-2\\\" style=\\\"\\\"></td> <td class=\\\"cell-3\\\" style=\\\"text-align:right;\\\">0</td> <td class=\\\"cell-4\\\" style=\\\"text-align:right;\\\">0</td> <td class=\\\"cell-5\\\" style=\\\"text-align:right;\\\">0</td> <td class=\\\"cell-6\\\" style=\\\"text-align:right;\\\">0</td> <td class=\\\"cell-7\\\" style=\\\"text-align:right;\\\">0</td></tr>\\n    \\n    <tr><td class=\\\"cell-1\\\" style=\\\"\\\">Tablet</td> <td class=\\\"cell-2\\\" style=\\\"\\\"></td> <td class=\\\"cell-3\\\" style=\\\"text-align:right;\\\">0</td> <td class=\\\"cell-4\\\" style=\\\"text-align:right;\\\">0</td> <td class=\\\"cell-5\\\" style=\\\"text-align:right;\\\">0</td> <td class=\\\"cell-6\\\" style=\\\"text-align:right;\\\">0</td> <td class=\\\"cell-7\\\" style=\\\"text-align:right;\\\">0</td></tr>\\n    </tbody>\\n\")"
      ]
     },
     "metadata": {},
     "output_type": "display_data"
    }
   ],
   "source": [
    "i = 0\n",
    "for row in eachrow(joinTableSummary)\n",
    "    i += 1\n",
    "    detailsPrintFLP(tv,UP,joinTableSummary,i)\n",
    "    statsDetailsPrintFLP(tv,UP,joinTableSummary,i)\n",
    "    if (i >= linesOutput)\n",
    "        break;\n",
    "    end\n",
    "end\n",
    ";"
   ]
  },
  {
   "cell_type": "code",
   "execution_count": 8,
   "metadata": {
    "collapsed": true,
    "input_collapsed": false
   },
   "outputs": [],
   "source": [
    "q = query(\"\"\" drop view if exists $(UP.btView);\"\"\")\n",
    "q = query(\"\"\" drop view if exists $(UP.rtView);\"\"\")\n",
    ";"
   ]
  }
 ],
 "metadata": {
  "kernelspec": {
   "display_name": "Julia 0.4.7",
   "language": "julia",
   "name": "julia-0.4"
  },
  "language_info": {
   "file_extension": ".jl",
   "mimetype": "application/julia",
   "name": "julia",
   "version": "0.4.7"
  },
  "library_version": "1.0.0",
  "notebook_uuid": "56d3b1d9-34c5-499b-869b-9fe45cbf36cf",
  "readOnly": false
 },
 "nbformat": 4,
 "nbformat_minor": 0
}
