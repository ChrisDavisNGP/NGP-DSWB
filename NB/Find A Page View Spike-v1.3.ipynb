{
 "cells": [
  {
   "cell_type": "markdown",
   "metadata": {},
   "source": [
    "## Tables and Data Source setup"
   ]
  },
  {
   "cell_type": "code",
   "execution_count": 1,
   "metadata": {
    "collapsed": false,
    "input_collapsed": false,
    "scrolled": true
   },
   "outputs": [
    {
     "name": "stdout",
     "output_type": "stream",
     "text": [
      "Redshift endpoint set: 2017-06-09T08:42:19\n"
     ]
    },
    {
     "data": {
      "text/plain": [
       "\"beacons_4744\""
      ]
     },
     "execution_count": 1,
     "metadata": {},
     "output_type": "execute_result"
    }
   ],
   "source": [
    "using ODBC\n",
    "using DataFrames\n",
    "using DSWB\n",
    "using Formatting\n",
    "\n",
    "dsn = \"dswb-natgeo\" # Redshift endpoint\n",
    "table = \"beacons_4744\" # beacon table name\n",
    "tableRt = \"beacons_4744_rt\"\n",
    "\n",
    "# Connect to Beacon Data\n",
    "setRedshiftEndpoint(dsn)\n",
    "setTable(table)\n",
    "# setTable(tableRt, tableType = \"RESOURCE_TABLE\")"
   ]
  },
  {
   "cell_type": "code",
   "execution_count": 28,
   "metadata": {
    "collapsed": false,
    "input_collapsed": false
   },
   "outputs": [
    {
     "name": "stdout",
     "output_type": "stream",
     "text": [
      "June 8, 2017 10:59:00 to June 8, 2017 12:59:00 Local Time\n",
      "June 8, 2017 14:59:00 to June 8, 2017 16:59:00 UTC Time\n"
     ]
    }
   ],
   "source": [
    "# Packages\n",
    "include(\"/data/notebook_home/Production/Lib/Include-Package-v1.0.jl\")\n",
    "include(\"/data/notebook_home/Production/Bodies/Find-A-Page-View-Spike-Body-v1.3.jl\")\n",
    "\n",
    "timeVariables(2017,6,8,10,59,2017,6,8,12,59)\n",
    "#weeklyTimeVariables(days=1)\n",
    "#yesterdayTimeVariables()\n",
    ";"
   ]
  },
  {
   "cell_type": "code",
   "execution_count": 29,
   "metadata": {
    "collapsed": false,
    "input_collapsed": false,
    "scrolled": true
   },
   "outputs": [],
   "source": [
    "UP = UrlParamsInit()\n",
    "UP.beaconTable = table   #table\n",
    "UP.resourceTable = tableRt\n",
    "UP.btView = \"$(table)_spike_pview_prod\" #localtable\n",
    "UP.rtView = \"$(tableRt)_spike_pview_prod\" #localtableRt\n",
    "UP.pageGroup = \"Your Shot\"   #productPageGroup\n",
    "UP.urlRegEx = \"%\"   #localUrl\n",
    "UP.deviceType = \"Mobile\"\n",
    "\n",
    "SG = SoastaGraphsInit()\n",
    "customer = \"Nat Geo\" \n",
    "SG.customer = customer\n",
    ";"
   ]
  },
  {
   "cell_type": "code",
   "execution_count": 30,
   "metadata": {
    "collapsed": false,
    "input_collapsed": false,
    "scrolled": false
   },
   "outputs": [
    {
     "data": {
      "text/html": [
       "<div class=\"dswbOutputText\">\n",
       "    <strong><span class=\"chart_info\" style=\"color:#B1D6ED;\">Using session timeout value of 30 minutes...</strong>\n",
       "</div>\n"
      ]
     },
     "metadata": {},
     "output_type": "display_data"
    },
    {
     "data": {
      "text/html": [
       "<div class=\"dswbOutputText\"><h1 class=\"chart_title\" style=\"color:#ccc\">Concurrent Sessions and Beacons by minute</h1><h3 class=\"chart_info\" style=\"color:#ccc\">June 8, 2017 14:59:00 to June 8, 2017 16:59:00</h3><h5 class=\"chart_lastCalled\" style=\"color:#ccc\">Run at June 9, 2017 09:19:56</h5></div>"
      ]
     },
     "metadata": {},
     "output_type": "display_data"
    },
    {
     "data": {
      "text/html": [
       "    <iframe id=\"timeSeries-MOJYUJUMESBCIFKTTSQEEFSKTYEVESBS\" class=\"dswbiframe\" width=\"100%\" height=\"600\" src=\"about:blank\" scrolling=\"no\"></iframe>\n",
       "    <script>\n",
       "    (function() {\n",
       "        var iframe = document.getElementById(\"timeSeries-MOJYUJUMESBCIFKTTSQEEFSKTYEVESBS\");\n",
       "        iframe.timeSeriesRendererLoaded = function(runner) {\n",
       "            iframe.runner = runner;\n",
       "            iframe.runner([[\"x\",\"2017-06-08 14:59:00\",\"2017-06-08 15:00:00\",\"2017-06-08 15:01:00\",\"2017-06-08 15:02:00\",\"2017-06-08 15:03:00\",\"2017-06-08 15:04:00\",\"2017-06-08 15:05:00\",\"2017-06-08 15:06:00\",\"2017-06-08 15:07:00\",\"2017-06-08 15:08:00\",\"2017-06-08 15:09:00\",\"2017-06-08 15:10:00\",\"2017-06-08 15:11:00\",\"2017-06-08 15:12:00\",\"2017-06-08 15:13:00\",\"2017-06-08 15:14:00\",\"2017-06-08 15:15:00\",\"2017-06-08 15:16:00\",\"2017-06-08 15:17:00\",\"2017-06-08 15:18:00\",\"2017-06-08 15:19:00\",\"2017-06-08 15:20:00\",\"2017-06-08 15:21:00\",\"2017-06-08 15:22:00\",\"2017-06-08 15:23:00\",\"2017-06-08 15:24:00\",\"2017-06-08 15:25:00\",\"2017-06-08 15:26:00\",\"2017-06-08 15:27:00\",\"2017-06-08 15:28:00\",\"2017-06-08 15:29:00\",\"2017-06-08 15:30:00\",\"2017-06-08 15:31:00\",\"2017-06-08 15:32:00\",\"2017-06-08 15:33:00\",\"2017-06-08 15:34:00\",\"2017-06-08 15:35:00\",\"2017-06-08 15:36:00\",\"2017-06-08 15:37:00\",\"2017-06-08 15:38:00\",\"2017-06-08 15:39:00\",\"2017-06-08 15:40:00\",\"2017-06-08 15:41:00\",\"2017-06-08 15:42:00\",\"2017-06-08 15:43:00\",\"2017-06-08 15:44:00\",\"2017-06-08 15:45:00\",\"2017-06-08 15:46:00\",\"2017-06-08 15:47:00\",\"2017-06-08 15:48:00\",\"2017-06-08 15:49:00\",\"2017-06-08 15:50:00\",\"2017-06-08 15:51:00\",\"2017-06-08 15:52:00\",\"2017-06-08 15:53:00\",\"2017-06-08 15:54:00\",\"2017-06-08 15:55:00\",\"2017-06-08 15:56:00\",\"2017-06-08 15:57:00\",\"2017-06-08 15:58:00\",\"2017-06-08 15:59:00\",\"2017-06-08 16:00:00\",\"2017-06-08 16:01:00\",\"2017-06-08 16:02:00\",\"2017-06-08 16:03:00\",\"2017-06-08 16:04:00\",\"2017-06-08 16:05:00\",\"2017-06-08 16:06:00\",\"2017-06-08 16:07:00\",\"2017-06-08 16:08:00\",\"2017-06-08 16:09:00\",\"2017-06-08 16:10:00\",\"2017-06-08 16:11:00\",\"2017-06-08 16:12:00\",\"2017-06-08 16:13:00\",\"2017-06-08 16:14:00\",\"2017-06-08 16:15:00\",\"2017-06-08 16:16:00\",\"2017-06-08 16:17:00\",\"2017-06-08 16:18:00\",\"2017-06-08 16:19:00\",\"2017-06-08 16:20:00\",\"2017-06-08 16:21:00\",\"2017-06-08 16:22:00\",\"2017-06-08 16:23:00\",\"2017-06-08 16:24:00\",\"2017-06-08 16:25:00\",\"2017-06-08 16:26:00\",\"2017-06-08 16:27:00\",\"2017-06-08 16:28:00\",\"2017-06-08 16:29:00\",\"2017-06-08 16:30:00\",\"2017-06-08 16:31:00\",\"2017-06-08 16:32:00\",\"2017-06-08 16:33:00\",\"2017-06-08 16:34:00\",\"2017-06-08 16:35:00\",\"2017-06-08 16:36:00\",\"2017-06-08 16:37:00\",\"2017-06-08 16:38:00\",\"2017-06-08 16:39:00\",\"2017-06-08 16:40:00\",\"2017-06-08 16:41:00\",\"2017-06-08 16:42:00\",\"2017-06-08 16:43:00\",\"2017-06-08 16:44:00\",\"2017-06-08 16:45:00\",\"2017-06-08 16:46:00\",\"2017-06-08 16:47:00\",\"2017-06-08 16:48:00\",\"2017-06-08 16:49:00\",\"2017-06-08 16:50:00\",\"2017-06-08 16:51:00\",\"2017-06-08 16:52:00\",\"2017-06-08 16:53:00\",\"2017-06-08 16:54:00\",\"2017-06-08 16:55:00\",\"2017-06-08 16:56:00\",\"2017-06-08 16:57:00\",\"2017-06-08 16:58:00\"],[\"data1\",82,73,78,68,80,84,89,88,89,88,81,74,76,82,90,109,88,93,91,73,94,87,96,94,72,71,76,74,61,70,72,79,78,78,101,82,80,81,91,85,92,94,97,99,79,99,92,89,99,81,68,83,86,91,88,85,71,82,79,88,90,90,75,83,78,77,91,66,87,85,79,89,103,92,78,67,78,80,92,90,82,83,80,94,87,77,81,86,81,88,87,72,80,67,76,71,64,67,64,77,61,61,64,76,79,76,73,86,88,85,89,81,84,79,76,87,79,75,78,79],[\"data2\",117,109,110,104,115,126,126,130,142,144,114,110,122,114,133,185,142,151,161,127,151,149,137,147,118,123,122,122,108,115,132,144,140,136,142,131,136,127,164,131,131,148,137,148,129,162,136,128,174,132,124,137,140,139,134,127,111,131,127,126,146,145,124,142,137,123,141,108,144,140,130,168,170,157,118,126,151,133,152,161,139,132,143,172,132,135,129,149,141,156,148,115,129,110,141,133,109,110,110,115,108,115,121,150,129,121,114,156,137,137,146,154,164,139,145,153,130,144,161,130]],\n",
       "                [\"Sessions\",\"Beacons\"],\n",
       "                [\"minute\",\"Concurrent Sessions\",\"Beacon Count\"],\n",
       "                [\"area-spline\",\"bar\"],\n",
       "                [\"hsla(28, 100%, 86%, 0.9)\",\"hsla(197, 70%, 73%, 0.9)\"],\n",
       "                [],\n",
       "                [\"data2\"],\n",
       "                \"    .c3-line {\\n        stroke: #039BE5;\\n    }\\n\\n    .c3-area {\\n        opacity:0.4;\\n    }\\n\\n    .c3 text {\\n        stroke: #979797 !important;\\n    }\\n\",\n",
       "                [],\n",
       "                {\"point_r\":0,\"axis_y_min\":0,\"axis_x_tick_culling_max\":20,\"axis_y2_min\":0}\n",
       "            );\n",
       "        }\n",
       "        iframe.src = \"/static/graphs/templates/c3Viz_template.html#id=timeSeries-MOJYUJUMESBCIFKTTSQEEFSKTYEVESBS\";\n",
       "    }());\n",
       "    </script>\n"
      ]
     },
     "metadata": {},
     "output_type": "display_data"
    }
   ],
   "source": [
    "sessionsBeacons(tv,UP)"
   ]
  },
  {
   "cell_type": "code",
   "execution_count": 31,
   "metadata": {
    "collapsed": false,
    "input_collapsed": false,
    "scrolled": false
   },
   "outputs": [
    {
     "data": {
      "text/html": [
       "<div class=\"dswbOutputText\"><h1 class=\"chart_title\" style=\"color:#ccc\">Median Load Times</h1><h3 class=\"chart_info\" style=\"color:#ccc\">June 8, 2017 14:59:00 to June 8, 2017 16:59:00</h3><h5 class=\"chart_lastCalled\" style=\"color:#ccc\">Run at June 9, 2017 09:20:06</h5></div>"
      ]
     },
     "metadata": {},
     "output_type": "display_data"
    },
    {
     "data": {
      "text/html": [
       "    <iframe id=\"timeSeries-QCWQWCFHSITSDLHPQTFCNTEIRRCUDPDT\" class=\"dswbiframe\" width=\"100%\" height=\"600\" src=\"about:blank\" scrolling=\"no\"></iframe>\n",
       "    <script>\n",
       "    (function() {\n",
       "        var iframe = document.getElementById(\"timeSeries-QCWQWCFHSITSDLHPQTFCNTEIRRCUDPDT\");\n",
       "        iframe.timeSeriesRendererLoaded = function(runner) {\n",
       "            iframe.runner = runner;\n",
       "            iframe.runner([[\"x\",\"June 8, 2017 14:59:00\",\"June 8, 2017 15:00:00\",\"June 8, 2017 15:01:00\",\"June 8, 2017 15:02:00\",\"June 8, 2017 15:03:00\",\"June 8, 2017 15:04:00\",\"June 8, 2017 15:05:00\",\"June 8, 2017 15:06:00\",\"June 8, 2017 15:07:00\",\"June 8, 2017 15:08:00\",\"June 8, 2017 15:09:00\",\"June 8, 2017 15:10:00\",\"June 8, 2017 15:11:00\",\"June 8, 2017 15:12:00\",\"June 8, 2017 15:13:00\",\"June 8, 2017 15:14:00\",\"June 8, 2017 15:15:00\",\"June 8, 2017 15:16:00\",\"June 8, 2017 15:17:00\",\"June 8, 2017 15:18:00\",\"June 8, 2017 15:19:00\",\"June 8, 2017 15:20:00\",\"June 8, 2017 15:21:00\",\"June 8, 2017 15:22:00\",\"June 8, 2017 15:23:00\",\"June 8, 2017 15:24:00\",\"June 8, 2017 15:25:00\",\"June 8, 2017 15:26:00\",\"June 8, 2017 15:27:00\",\"June 8, 2017 15:28:00\",\"June 8, 2017 15:29:00\",\"June 8, 2017 15:30:00\",\"June 8, 2017 15:31:00\",\"June 8, 2017 15:32:00\",\"June 8, 2017 15:33:00\",\"June 8, 2017 15:34:00\",\"June 8, 2017 15:35:00\",\"June 8, 2017 15:36:00\",\"June 8, 2017 15:37:00\",\"June 8, 2017 15:38:00\",\"June 8, 2017 15:39:00\",\"June 8, 2017 15:40:00\",\"June 8, 2017 15:41:00\",\"June 8, 2017 15:42:00\",\"June 8, 2017 15:43:00\",\"June 8, 2017 15:44:00\",\"June 8, 2017 15:45:00\",\"June 8, 2017 15:46:00\",\"June 8, 2017 15:47:00\",\"June 8, 2017 15:48:00\",\"June 8, 2017 15:49:00\",\"June 8, 2017 15:50:00\",\"June 8, 2017 15:51:00\",\"June 8, 2017 15:52:00\",\"June 8, 2017 15:53:00\",\"June 8, 2017 15:54:00\",\"June 8, 2017 15:55:00\",\"June 8, 2017 15:56:00\",\"June 8, 2017 15:57:00\",\"June 8, 2017 15:58:00\",\"June 8, 2017 15:59:00\",\"June 8, 2017 16:00:00\",\"June 8, 2017 16:01:00\",\"June 8, 2017 16:02:00\",\"June 8, 2017 16:03:00\",\"June 8, 2017 16:04:00\",\"June 8, 2017 16:05:00\",\"June 8, 2017 16:06:00\",\"June 8, 2017 16:07:00\",\"June 8, 2017 16:08:00\",\"June 8, 2017 16:09:00\",\"June 8, 2017 16:10:00\",\"June 8, 2017 16:11:00\",\"June 8, 2017 16:12:00\",\"June 8, 2017 16:13:00\",\"June 8, 2017 16:14:00\",\"June 8, 2017 16:15:00\",\"June 8, 2017 16:16:00\",\"June 8, 2017 16:17:00\",\"June 8, 2017 16:18:00\",\"June 8, 2017 16:19:00\",\"June 8, 2017 16:20:00\",\"June 8, 2017 16:21:00\",\"June 8, 2017 16:22:00\",\"June 8, 2017 16:23:00\",\"June 8, 2017 16:24:00\",\"June 8, 2017 16:25:00\",\"June 8, 2017 16:26:00\",\"June 8, 2017 16:27:00\",\"June 8, 2017 16:28:00\",\"June 8, 2017 16:29:00\",\"June 8, 2017 16:30:00\",\"June 8, 2017 16:31:00\",\"June 8, 2017 16:32:00\",\"June 8, 2017 16:33:00\",\"June 8, 2017 16:34:00\",\"June 8, 2017 16:35:00\",\"June 8, 2017 16:36:00\",\"June 8, 2017 16:37:00\",\"June 8, 2017 16:38:00\",\"June 8, 2017 16:39:00\",\"June 8, 2017 16:40:00\",\"June 8, 2017 16:41:00\",\"June 8, 2017 16:42:00\",\"June 8, 2017 16:43:00\",\"June 8, 2017 16:44:00\",\"June 8, 2017 16:45:00\",\"June 8, 2017 16:46:00\",\"June 8, 2017 16:47:00\",\"June 8, 2017 16:48:00\",\"June 8, 2017 16:49:00\",\"June 8, 2017 16:50:00\",\"June 8, 2017 16:51:00\",\"June 8, 2017 16:52:00\",\"June 8, 2017 16:53:00\",\"June 8, 2017 16:54:00\",\"June 8, 2017 16:55:00\",\"June 8, 2017 16:56:00\",\"June 8, 2017 16:57:00\",\"June 8, 2017 16:58:00\",\"June 8, 2017 16:59:00\"],[\"data1\",2007.0,1969.0,1774.5,1644.0,1648.0,1778.0,2062.5,2109.5,1832.5,2175.0,1544.0,2043.5,1717.5,1667.0,2346.0,1754.0,1897.5,2464.0,1984.5,2010.5,2956.0,2088.5,2603.0,1543.0,1485.0,1540.0,1458.5,1675.5,1816.0,1926.0,2064.0,1881.5,2057.0,1808.0,1531.0,1399.0,1681.0,1716.0,1829.0,2340.0,1835.0,2470.5,2432.0,2487.0,2210.0,2009.0,2045.5,2064.0,1762.0,1493.0,997.0,1598.0,1730.0,971.0,1380.0,1588.0,1449.0,1926.0,1882.0,1644.0,1617.0,1666.5,1334.0,1210.0,1244.0,1134.5,1185.5,1220.0,1319.5,832.0,1031.5,717.0,622.5,659.0,698.0,653.5,684.0,690.5,627.5,973.0,689.0,601.5,707.0,680.0,1191.5,1163.0,1117.0,704.0,643.0,1008.5,795.0,666.0,611.0,800.0,609.0,681.0,696.0,670.0,922.5,702.0,681.0,598.5,611.0,688.5,647.0,628.0,678.0,715.0,792.0,751.5,820.5,770.0,766.5,762.0,991.0,650.0,749.0,827.0,728.0,694.0,null],[\"data2\",4284.0,4127.0,4051.5,4278.0,4968.0,5276.0,6093.5,3833.0,3845.0,4633.0,4656.0,4669.5,3453.5,3563.5,3713.0,4367.0,3510.0,3285.0,3499.0,3233.0,3649.0,3912.5,4371.0,3684.5,2982.5,3334.0,3956.0,3867.5,3286.0,3565.5,2958.0,3085.5,2811.0,4388.0,5038.5,3339.5,4563.0,3180.0,2869.0,3514.0,3359.5,3411.0,3973.0,3338.5,3726.0,3701.0,3655.5,3415.0,3516.5,3208.0,3339.0,3415.0,4255.0,3796.0,3214.0,4047.5,3370.0,3228.0,3329.5,4766.5,4657.0,4678.0,4593.0,4736.0,5719.0,4192.0,3733.0,3295.0,3362.0,3742.0,3506.0,3639.0,3467.5,3471.0,4035.5,3387.0,3153.0,4410.0,3716.5,3360.0,3305.0,4247.0,3123.0,4545.0,3981.0,2881.0,2630.0,4450.5,3572.0,3103.5,3471.0,3072.0,4869.0,4071.0,3287.0,3875.0,3483.0,4043.5,3749.0,4202.0,5004.0,5110.0,3776.0,3751.5,4159.0,3914.0,4416.5,3880.0,3940.0,4174.0,3744.5,3353.5,3623.5,3473.0,3887.0,3413.0,3960.0,2946.0,2863.0,3369.5,null],[\"data3\",6628.0,6096.0,5910.5,6528.0,6790.0,7252.0,8300.0,6473.0,6208.0,6563.0,5868.5,6173.5,5235.5,5205.0,7440.0,6357.0,5715.5,5736.0,5859.0,5475.0,6305.0,6158.0,6667.0,5610.0,5441.5,4981.0,5590.5,5816.5,5150.5,6327.0,5208.5,5001.0,4824.5,6302.0,6369.5,5234.0,6246.0,5087.0,4841.0,6110.0,5854.0,6084.5,6943.0,6490.5,6194.0,5980.0,5630.5,6024.0,5286.0,5133.0,4591.0,5044.0,6052.5,4827.0,5019.5,5918.0,4726.0,5292.0,5271.0,6496.0,6113.0,6294.0,5866.5,5853.5,6739.0,5139.0,4809.0,4517.5,4661.0,4360.5,4758.5,4526.5,4053.5,4103.0,5118.5,4344.5,3933.0,5266.0,4289.0,4304.0,4055.0,5014.5,3932.0,5617.0,5359.0,4289.0,4631.0,5089.0,4355.0,4264.5,4142.5,3521.0,5480.0,5116.0,3996.0,4883.0,4115.0,4793.0,4674.5,4916.0,5789.5,5850.0,4388.0,4528.5,4672.0,4983.0,5102.0,4463.5,4871.0,4939.0,4409.0,4382.0,4492.5,4363.0,5541.0,4092.0,4773.0,4245.0,3729.0,4337.5,null]],\n",
       "                [\"Back-end Load Time\",\"Front-end Load Time\",\"Full Page Load Time\",\"Beacon Count\"],\n",
       "                [\"minute\",\"Milliseconds\",\"Count\"],\n",
       "                [\"area\",\"area\",\"spline\",\"line\"],\n",
       "                [\"hsla(130, 61%, 50%, 0.9)\",\"hsla(214, 86%, 60%, 0.9)\",\"hsla(35, 100%, 50%, 0.9)\"],\n",
       "                [[\"data1\",\"data2\"]],\n",
       "                [\"data4\"],\n",
       "                \"\",\n",
       "                [\"data4\"],\n",
       "                {\"axis_y_min\":0,\"axis_y2_min\":0}\n",
       "            );\n",
       "        }\n",
       "        iframe.src = \"/static/graphs/templates/c3Viz_template.html#id=timeSeries-QCWQWCFHSITSDLHPQTFCNTEIRRCUDPDT\";\n",
       "    }());\n",
       "    </script>\n"
      ]
     },
     "metadata": {},
     "output_type": "display_data"
    }
   ],
   "source": [
    "loadTimeFAPVSB(tv,UP)"
   ]
  },
  {
   "cell_type": "code",
   "execution_count": 32,
   "metadata": {
    "collapsed": false,
    "input_collapsed": false,
    "scrolled": false
   },
   "outputs": [
    {
     "data": {
      "text/html": [
       "<div class=\"dswbOutputText\"><h1 class=\"chart_title\" style=\"color:#ccc\">Top URL Page Views for Your Shot</h1><h3 class=\"chart_info\" style=\"color:#ccc\">Pages Load Used</h3><h3 class=\"chart_info\" style=\"color:#ccc\">June 8, 2017 10:59:00 to June 8, 2017 12:59:00 Local Time</h3></div>"
      ]
     },
     "metadata": {},
     "output_type": "display_data"
    },
    {
     "data": {
      "text/html": [
       "    <table  class=\"dataframe-table\">\n",
       "    <thead><tr><th class=\"cell-1\" style=\"\">Views</th> <th class=\"cell-2\" style=\"\">Url - With Grouping After Parameters Dropped</th></tr></thead>\n",
       "    <tbody>\n",
       "    <tr><td class=\"cell-1\" style=\"text-align:right;\">2,687</td> <td class=\"cell-2\" style=\"\">http://yourshot.nationalgeographic.com</td></tr>\n",
       "<tr><td class=\"cell-1\" style=\"text-align:right;\">1,748</td> <td class=\"cell-2\" style=\"\">http://yourshot.nationalgeographic.com/photos</td></tr>\n",
       "<tr><td class=\"cell-1\" style=\"text-align:right;\">1,632</td> <td class=\"cell-2\" style=\"\">http://m.yourshot.nationalgeographic.com</td></tr>\n",
       "<tr><td class=\"cell-1\" style=\"text-align:right;\">1,076</td> <td class=\"cell-2\" style=\"\">http://yourshot.nationalgeographic.com/daily-dozen</td></tr>\n",
       "<tr><td class=\"cell-1\" style=\"text-align:right;\">767</td> <td class=\"cell-2\" style=\"\">http://yourshot.nationalgeographic.com/assignments-stories</td></tr>\n",
       "<tr><td class=\"cell-1\" style=\"text-align:right;\">708</td> <td class=\"cell-2\" style=\"\">http://m.yourshot.nationalgeographic.com/photos</td></tr>\n",
       "<tr><td class=\"cell-1\" style=\"text-align:right;\">630</td> <td class=\"cell-2\" style=\"\">http://www.nationalgeographic.com/games/photo-puzzle-jigsaw</td></tr>\n",
       "<tr><td class=\"cell-1\" style=\"text-align:right;\">567</td> <td class=\"cell-2\" style=\"\">http://yourshot.nationalgeographic.com/search</td></tr>\n",
       "    \n",
       "    <tr><td class=\"cell-1\" style=\"text-align:right;\">541</td> <td class=\"cell-2\" style=\"\">http://yourshot.nationalgeographic.com/assignments/traditions-around-world</td></tr>\n",
       "<tr><td class=\"cell-1\" style=\"text-align:right;\">350</td> <td class=\"cell-2\" style=\"\">http://m.yourshot.nationalgeographic.com/daily-dozen</td></tr>\n",
       "<tr><td class=\"cell-1\" style=\"text-align:right;\">318</td> <td class=\"cell-2\" style=\"\">http://m.yourshot.nationalgeographic.com/upload</td></tr>\n",
       "<tr><td class=\"cell-1\" style=\"text-align:right;\">315</td> <td class=\"cell-2\" style=\"\">http://m.yourshot.nationalgeographic.com/stories/why-we-love-pets</td></tr>\n",
       "<tr><td class=\"cell-1\" style=\"text-align:right;\">277</td> <td class=\"cell-2\" style=\"\">http://m.yourshot.nationalgeographic.com/assignments-stories</td></tr>\n",
       "<tr><td class=\"cell-1\" style=\"text-align:right;\">211</td> <td class=\"cell-2\" style=\"\">http://yourshot.nationalgeographic.com/stories/why-we-love-pets</td></tr>\n",
       "<tr><td class=\"cell-1\" style=\"text-align:right;\">196</td> <td class=\"cell-2\" style=\"\">http://yourshot.nationalgeographic.com/tags/protecttheselands</td></tr>\n",
       "    </tbody>\n"
      ],
      "text/plain": [
       "HTML{UTF8String}(\"    <table  class=\\\"dataframe-table\\\">\\n    <thead><tr><th class=\\\"cell-1\\\" style=\\\"\\\">Views</th> <th class=\\\"cell-2\\\" style=\\\"\\\">Url - With Grouping After Parameters Dropped</th></tr></thead>\\n    <tbody>\\n    <tr><td class=\\\"cell-1\\\" style=\\\"text-align:right;\\\">2,687</td> <td class=\\\"cell-2\\\" style=\\\"\\\">http://yourshot.nationalgeographic.com</td></tr>\\n<tr><td class=\\\"cell-1\\\" style=\\\"text-align:right;\\\">1,748</td> <td class=\\\"cell-2\\\" style=\\\"\\\">http://yourshot.nationalgeographic.com/photos</td></tr>\\n<tr><td class=\\\"cell-1\\\" style=\\\"text-align:right;\\\">1,632</td> <td class=\\\"cell-2\\\" style=\\\"\\\">http://m.yourshot.nationalgeographic.com</td></tr>\\n<tr><td class=\\\"cell-1\\\" style=\\\"text-align:right;\\\">1,076</td> <td class=\\\"cell-2\\\" style=\\\"\\\">http://yourshot.nationalgeographic.com/daily-dozen</td></tr>\\n<tr><td class=\\\"cell-1\\\" style=\\\"text-align:right;\\\">767</td> <td class=\\\"cell-2\\\" style=\\\"\\\">http://yourshot.nationalgeographic.com/assignments-stories</td></tr>\\n<tr><td class=\\\"cell-1\\\" style=\\\"text-align:right;\\\">708</td> <td class=\\\"cell-2\\\" style=\\\"\\\">http://m.yourshot.nationalgeographic.com/photos</td></tr>\\n<tr><td class=\\\"cell-1\\\" style=\\\"text-align:right;\\\">630</td> <td class=\\\"cell-2\\\" style=\\\"\\\">http://www.nationalgeographic.com/games/photo-puzzle-jigsaw</td></tr>\\n<tr><td class=\\\"cell-1\\\" style=\\\"text-align:right;\\\">567</td> <td class=\\\"cell-2\\\" style=\\\"\\\">http://yourshot.nationalgeographic.com/search</td></tr>\\n    \\n    <tr><td class=\\\"cell-1\\\" style=\\\"text-align:right;\\\">541</td> <td class=\\\"cell-2\\\" style=\\\"\\\">http://yourshot.nationalgeographic.com/assignments/traditions-around-world</td></tr>\\n<tr><td class=\\\"cell-1\\\" style=\\\"text-align:right;\\\">350</td> <td class=\\\"cell-2\\\" style=\\\"\\\">http://m.yourshot.nationalgeographic.com/daily-dozen</td></tr>\\n<tr><td class=\\\"cell-1\\\" style=\\\"text-align:right;\\\">318</td> <td class=\\\"cell-2\\\" style=\\\"\\\">http://m.yourshot.nationalgeographic.com/upload</td></tr>\\n<tr><td class=\\\"cell-1\\\" style=\\\"text-align:right;\\\">315</td> <td class=\\\"cell-2\\\" style=\\\"\\\">http://m.yourshot.nationalgeographic.com/stories/why-we-love-pets</td></tr>\\n<tr><td class=\\\"cell-1\\\" style=\\\"text-align:right;\\\">277</td> <td class=\\\"cell-2\\\" style=\\\"\\\">http://m.yourshot.nationalgeographic.com/assignments-stories</td></tr>\\n<tr><td class=\\\"cell-1\\\" style=\\\"text-align:right;\\\">211</td> <td class=\\\"cell-2\\\" style=\\\"\\\">http://yourshot.nationalgeographic.com/stories/why-we-love-pets</td></tr>\\n<tr><td class=\\\"cell-1\\\" style=\\\"text-align:right;\\\">196</td> <td class=\\\"cell-2\\\" style=\\\"\\\">http://yourshot.nationalgeographic.com/tags/protecttheselands</td></tr>\\n    </tbody>\\n\")"
      ]
     },
     "metadata": {},
     "output_type": "display_data"
    },
    {
     "data": {
      "text/html": [
       "    <table  class=\"dataframe-table\">\n",
       "    <thead><tr><th class=\"cell-1\" style=\"\">Views</th> <th class=\"cell-2\" style=\"\">Avg MB</th> <th class=\"cell-3\" style=\"\">Avg MS</th> <th class=\"cell-4\" style=\"\">Url - Individual</th></tr></thead>\n",
       "    <tbody>\n",
       "    <tr><td class=\"cell-1\" style=\"text-align:right;\">2,561</td> <td class=\"cell-2\" style=\"text-align:right;\">260,386</td> <td class=\"cell-3\" style=\"text-align:right;\">7,039</td> <td class=\"cell-4\" style=\"\">http://yourshot.nationalgeographic.com/</td></tr>\n",
       "<tr><td class=\"cell-1\" style=\"text-align:right;\">1,748</td> <td class=\"cell-2\" style=\"text-align:right;\">253,125</td> <td class=\"cell-3\" style=\"text-align:right;\">7,606</td> <td class=\"cell-4\" style=\"\">http://yourshot.nationalgeographic.com/photos/</td></tr>\n",
       "<tr><td class=\"cell-1\" style=\"text-align:right;\">1,437</td> <td class=\"cell-2\" style=\"text-align:right;\">242,627</td> <td class=\"cell-3\" style=\"text-align:right;\">7,247</td> <td class=\"cell-4\" style=\"\">http://m.yourshot.nationalgeographic.com/</td></tr>\n",
       "<tr><td class=\"cell-1\" style=\"text-align:right;\">994</td> <td class=\"cell-2\" style=\"text-align:right;\">269,263</td> <td class=\"cell-3\" style=\"text-align:right;\">8,164</td> <td class=\"cell-4\" style=\"\">http://yourshot.nationalgeographic.com/daily-dozen/</td></tr>\n",
       "<tr><td class=\"cell-1\" style=\"text-align:right;\">765</td> <td class=\"cell-2\" style=\"text-align:right;\">398,853</td> <td class=\"cell-3\" style=\"text-align:right;\">10,312</td> <td class=\"cell-4\" style=\"\">http://yourshot.nationalgeographic.com/assignments-stories/</td></tr>\n",
       "<tr><td class=\"cell-1\" style=\"text-align:right;\">698</td> <td class=\"cell-2\" style=\"text-align:right;\">263,498</td> <td class=\"cell-3\" style=\"text-align:right;\">6,126</td> <td class=\"cell-4\" style=\"\">http://m.yourshot.nationalgeographic.com/photos/</td></tr>\n",
       "<tr><td class=\"cell-1\" style=\"text-align:right;\">620</td> <td class=\"cell-2\" style=\"text-align:right;\">190,260</td> <td class=\"cell-3\" style=\"text-align:right;\">35,015</td> <td class=\"cell-4\" style=\"\">http://www.nationalgeographic.com/games/photo-puzzle-jigsaw/</td></tr>\n",
       "<tr><td class=\"cell-1\" style=\"text-align:right;\">538</td> <td class=\"cell-2\" style=\"text-align:right;\">413,986</td> <td class=\"cell-3\" style=\"text-align:right;\">12,206</td> <td class=\"cell-4\" style=\"\">http://yourshot.nationalgeographic.com/assignments/traditions-around-world/</td></tr>\n",
       "    \n",
       "    <tr><td class=\"cell-1\" style=\"text-align:right;\">318</td> <td class=\"cell-2\" style=\"text-align:right;\">255,921</td> <td class=\"cell-3\" style=\"text-align:right;\">7,991</td> <td class=\"cell-4\" style=\"\">http://m.yourshot.nationalgeographic.com/upload/</td></tr>\n",
       "<tr><td class=\"cell-1\" style=\"text-align:right;\">300</td> <td class=\"cell-2\" style=\"text-align:right;\">392,249</td> <td class=\"cell-3\" style=\"text-align:right;\">11,167</td> <td class=\"cell-4\" style=\"\">http://m.yourshot.nationalgeographic.com/daily-dozen/</td></tr>\n",
       "<tr><td class=\"cell-1\" style=\"text-align:right;\">275</td> <td class=\"cell-2\" style=\"text-align:right;\">264,458</td> <td class=\"cell-3\" style=\"text-align:right;\">5,416</td> <td class=\"cell-4\" style=\"\">http://m.yourshot.nationalgeographic.com/assignments-stories/</td></tr>\n",
       "<tr><td class=\"cell-1\" style=\"text-align:right;\">199</td> <td class=\"cell-2\" style=\"text-align:right;\">730,500</td> <td class=\"cell-3\" style=\"text-align:right;\">17,667</td> <td class=\"cell-4\" style=\"\">http://yourshot.nationalgeographic.com/stories/why-we-love-pets/?utm_source=Facebook</td></tr>\n",
       "<tr><td class=\"cell-1\" style=\"text-align:right;\">191</td> <td class=\"cell-2\" style=\"text-align:right;\">280,288</td> <td class=\"cell-3\" style=\"text-align:right;\">9,376</td> <td class=\"cell-4\" style=\"\">http://yourshot.nationalgeographic.com/tags/protecttheselands/</td></tr>\n",
       "<tr><td class=\"cell-1\" style=\"text-align:right;\">177</td> <td class=\"cell-2\" style=\"text-align:right;\">362,938</td> <td class=\"cell-3\" style=\"text-align:right;\">8,254</td> <td class=\"cell-4\" style=\"\">http://yourshot.nationalgeographic.com/profile/905490/</td></tr>\n",
       "<tr><td class=\"cell-1\" style=\"text-align:right;\">173</td> <td class=\"cell-2\" style=\"text-align:right;\">726,810</td> <td class=\"cell-3\" style=\"text-align:right;\">17,388</td> <td class=\"cell-4\" style=\"\">http://m.yourshot.nationalgeographic.com/stories/why-we-love-pets/?utm_source=Facebook</td></tr>\n",
       "    </tbody>\n"
      ],
      "text/plain": [
       "HTML{UTF8String}(\"    <table  class=\\\"dataframe-table\\\">\\n    <thead><tr><th class=\\\"cell-1\\\" style=\\\"\\\">Views</th> <th class=\\\"cell-2\\\" style=\\\"\\\">Avg MB</th> <th class=\\\"cell-3\\\" style=\\\"\\\">Avg MS</th> <th class=\\\"cell-4\\\" style=\\\"\\\">Url - Individual</th></tr></thead>\\n    <tbody>\\n    <tr><td class=\\\"cell-1\\\" style=\\\"text-align:right;\\\">2,561</td> <td class=\\\"cell-2\\\" style=\\\"text-align:right;\\\">260,386</td> <td class=\\\"cell-3\\\" style=\\\"text-align:right;\\\">7,039</td> <td class=\\\"cell-4\\\" style=\\\"\\\">http://yourshot.nationalgeographic.com/</td></tr>\\n<tr><td class=\\\"cell-1\\\" style=\\\"text-align:right;\\\">1,748</td> <td class=\\\"cell-2\\\" style=\\\"text-align:right;\\\">253,125</td> <td class=\\\"cell-3\\\" style=\\\"text-align:right;\\\">7,606</td> <td class=\\\"cell-4\\\" style=\\\"\\\">http://yourshot.nationalgeographic.com/photos/</td></tr>\\n<tr><td class=\\\"cell-1\\\" style=\\\"text-align:right;\\\">1,437</td> <td class=\\\"cell-2\\\" style=\\\"text-align:right;\\\">242,627</td> <td class=\\\"cell-3\\\" style=\\\"text-align:right;\\\">7,247</td> <td class=\\\"cell-4\\\" style=\\\"\\\">http://m.yourshot.nationalgeographic.com/</td></tr>\\n<tr><td class=\\\"cell-1\\\" style=\\\"text-align:right;\\\">994</td> <td class=\\\"cell-2\\\" style=\\\"text-align:right;\\\">269,263</td> <td class=\\\"cell-3\\\" style=\\\"text-align:right;\\\">8,164</td> <td class=\\\"cell-4\\\" style=\\\"\\\">http://yourshot.nationalgeographic.com/daily-dozen/</td></tr>\\n<tr><td class=\\\"cell-1\\\" style=\\\"text-align:right;\\\">765</td> <td class=\\\"cell-2\\\" style=\\\"text-align:right;\\\">398,853</td> <td class=\\\"cell-3\\\" style=\\\"text-align:right;\\\">10,312</td> <td class=\\\"cell-4\\\" style=\\\"\\\">http://yourshot.nationalgeographic.com/assignments-stories/</td></tr>\\n<tr><td class=\\\"cell-1\\\" style=\\\"text-align:right;\\\">698</td> <td class=\\\"cell-2\\\" style=\\\"text-align:right;\\\">263,498</td> <td class=\\\"cell-3\\\" style=\\\"text-align:right;\\\">6,126</td> <td class=\\\"cell-4\\\" style=\\\"\\\">http://m.yourshot.nationalgeographic.com/photos/</td></tr>\\n<tr><td class=\\\"cell-1\\\" style=\\\"text-align:right;\\\">620</td> <td class=\\\"cell-2\\\" style=\\\"text-align:right;\\\">190,260</td> <td class=\\\"cell-3\\\" style=\\\"text-align:right;\\\">35,015</td> <td class=\\\"cell-4\\\" style=\\\"\\\">http://www.nationalgeographic.com/games/photo-puzzle-jigsaw/</td></tr>\\n<tr><td class=\\\"cell-1\\\" style=\\\"text-align:right;\\\">538</td> <td class=\\\"cell-2\\\" style=\\\"text-align:right;\\\">413,986</td> <td class=\\\"cell-3\\\" style=\\\"text-align:right;\\\">12,206</td> <td class=\\\"cell-4\\\" style=\\\"\\\">http://yourshot.nationalgeographic.com/assignments/traditions-around-world/</td></tr>\\n    \\n    <tr><td class=\\\"cell-1\\\" style=\\\"text-align:right;\\\">318</td> <td class=\\\"cell-2\\\" style=\\\"text-align:right;\\\">255,921</td> <td class=\\\"cell-3\\\" style=\\\"text-align:right;\\\">7,991</td> <td class=\\\"cell-4\\\" style=\\\"\\\">http://m.yourshot.nationalgeographic.com/upload/</td></tr>\\n<tr><td class=\\\"cell-1\\\" style=\\\"text-align:right;\\\">300</td> <td class=\\\"cell-2\\\" style=\\\"text-align:right;\\\">392,249</td> <td class=\\\"cell-3\\\" style=\\\"text-align:right;\\\">11,167</td> <td class=\\\"cell-4\\\" style=\\\"\\\">http://m.yourshot.nationalgeographic.com/daily-dozen/</td></tr>\\n<tr><td class=\\\"cell-1\\\" style=\\\"text-align:right;\\\">275</td> <td class=\\\"cell-2\\\" style=\\\"text-align:right;\\\">264,458</td> <td class=\\\"cell-3\\\" style=\\\"text-align:right;\\\">5,416</td> <td class=\\\"cell-4\\\" style=\\\"\\\">http://m.yourshot.nationalgeographic.com/assignments-stories/</td></tr>\\n<tr><td class=\\\"cell-1\\\" style=\\\"text-align:right;\\\">199</td> <td class=\\\"cell-2\\\" style=\\\"text-align:right;\\\">730,500</td> <td class=\\\"cell-3\\\" style=\\\"text-align:right;\\\">17,667</td> <td class=\\\"cell-4\\\" style=\\\"\\\">http://yourshot.nationalgeographic.com/stories/why-we-love-pets/?utm_source=Facebook</td></tr>\\n<tr><td class=\\\"cell-1\\\" style=\\\"text-align:right;\\\">191</td> <td class=\\\"cell-2\\\" style=\\\"text-align:right;\\\">280,288</td> <td class=\\\"cell-3\\\" style=\\\"text-align:right;\\\">9,376</td> <td class=\\\"cell-4\\\" style=\\\"\\\">http://yourshot.nationalgeographic.com/tags/protecttheselands/</td></tr>\\n<tr><td class=\\\"cell-1\\\" style=\\\"text-align:right;\\\">177</td> <td class=\\\"cell-2\\\" style=\\\"text-align:right;\\\">362,938</td> <td class=\\\"cell-3\\\" style=\\\"text-align:right;\\\">8,254</td> <td class=\\\"cell-4\\\" style=\\\"\\\">http://yourshot.nationalgeographic.com/profile/905490/</td></tr>\\n<tr><td class=\\\"cell-1\\\" style=\\\"text-align:right;\\\">173</td> <td class=\\\"cell-2\\\" style=\\\"text-align:right;\\\">726,810</td> <td class=\\\"cell-3\\\" style=\\\"text-align:right;\\\">17,388</td> <td class=\\\"cell-4\\\" style=\\\"\\\">http://m.yourshot.nationalgeographic.com/stories/why-we-love-pets/?utm_source=Facebook</td></tr>\\n    </tbody>\\n\")"
      ]
     },
     "metadata": {},
     "output_type": "display_data"
    }
   ],
   "source": [
    "topUrlsFAPVSB(tv,UP)"
   ]
  },
  {
   "cell_type": "code",
   "execution_count": 33,
   "metadata": {
    "collapsed": false,
    "input_collapsed": false,
    "scrolled": false
   },
   "outputs": [
    {
     "data": {
      "text/html": [
       "<div class=\"dswbOutputText\"><h1 class=\"chart_title\" style=\"color:#ccc\">Peak Arrivals for Your Shot</h1><h3 class=\"chart_info\" style=\"color:#ccc\">June 8, 2017 10:59:00 to June 8, 2017 12:59:00 Local Time</h3></div>"
      ]
     },
     "metadata": {},
     "output_type": "display_data"
    },
    {
     "data": {
      "text/html": [
       "    <table  class=\"dataframe-table\">\n",
       "    <thead><tr><th class=\"cell-1\" style=\"\"></th> <th class=\"cell-2\" style=\"\">Date</th> <th class=\"cell-3\" style=\"\">Page Views</th></tr></thead>\n",
       "    <tbody>\n",
       "    <tr><td class=\"cell-1\" style=\"\">7 Day Peak Day</td> <td class=\"cell-2\" style=\"\">2017-06-08T00:00:00</td> <td class=\"cell-3\" style=\"text-align:right;\">16,196</td></tr>\n",
       "<tr><td class=\"cell-1\" style=\"\">7 Day Peak Hour</td> <td class=\"cell-2\" style=\"\">2017-06-08T16:00:00</td> <td class=\"cell-3\" style=\"text-align:right;\">8,072</td></tr>\n",
       "    \n",
       "    <tr><td class=\"cell-1\" style=\"\">7 Day Peak Minute</td> <td class=\"cell-2\" style=\"\">2017-06-08T15:14:00</td> <td class=\"cell-3\" style=\"text-align:right;\">185</td></tr>\n",
       "    </tbody>\n"
      ],
      "text/plain": [
       "HTML{UTF8String}(\"    <table  class=\\\"dataframe-table\\\">\\n    <thead><tr><th class=\\\"cell-1\\\" style=\\\"\\\"></th> <th class=\\\"cell-2\\\" style=\\\"\\\">Date</th> <th class=\\\"cell-3\\\" style=\\\"\\\">Page Views</th></tr></thead>\\n    <tbody>\\n    <tr><td class=\\\"cell-1\\\" style=\\\"\\\">7 Day Peak Day</td> <td class=\\\"cell-2\\\" style=\\\"\\\">2017-06-08T00:00:00</td> <td class=\\\"cell-3\\\" style=\\\"text-align:right;\\\">16,196</td></tr>\\n<tr><td class=\\\"cell-1\\\" style=\\\"\\\">7 Day Peak Hour</td> <td class=\\\"cell-2\\\" style=\\\"\\\">2017-06-08T16:00:00</td> <td class=\\\"cell-3\\\" style=\\\"text-align:right;\\\">8,072</td></tr>\\n    \\n    <tr><td class=\\\"cell-1\\\" style=\\\"\\\">7 Day Peak Minute</td> <td class=\\\"cell-2\\\" style=\\\"\\\">2017-06-08T15:14:00</td> <td class=\\\"cell-3\\\" style=\\\"text-align:right;\\\">185</td></tr>\\n    </tbody>\\n\")"
      ]
     },
     "metadata": {},
     "output_type": "display_data"
    }
   ],
   "source": [
    "peakTableFAPVSB(tv,UP)"
   ]
  },
  {
   "cell_type": "code",
   "execution_count": 34,
   "metadata": {
    "collapsed": false,
    "input_collapsed": false,
    "scrolled": false
   },
   "outputs": [
    {
     "data": {
      "text/html": [
       "<div class=\"dswbOutputText\"><h1 class=\"chart_title\" style=\"color:#ccc\">Raw Data Stats Including Those above 600 seconds for Your Shot</h1><h3 class=\"chart_info\" style=\"color:#ccc\">June 8, 2017 10:59:00 to June 8, 2017 12:59:00 Local Time</h3></div>"
      ]
     },
     "metadata": {},
     "output_type": "display_data"
    },
    {
     "data": {
      "text/html": [
       "    <table  class=\"dataframe-table\">\n",
       "    <thead><tr><th class=\"cell-1\" style=\"\">unit</th> <th class=\"cell-2\" style=\"\">count</th> <th class=\"cell-3\" style=\"\">mean</th> <th class=\"cell-4\" style=\"\">median</th> <th class=\"cell-5\" style=\"\">stddev</th> <th class=\"cell-6\" style=\"\">min</th> <th class=\"cell-7\" style=\"\">max</th> <th class=\"cell-8\" style=\"\">LowerBy25p</th> <th class=\"cell-9\" style=\"\">UpperBy25p</th> <th class=\"cell-10\" style=\"\">LowerBy3Stddev</th> <th class=\"cell-11\" style=\"\">UpperBy3Stddev</th></tr></thead>\n",
       "    <tbody>\n",
       "    <tr><td class=\"cell-1\" style=\"\">milliseconds</td> <td class=\"cell-2\" style=\"text-align:right;\">16,196</td> <td class=\"cell-3\" style=\"text-align:right;\">10,785</td> <td class=\"cell-4\" style=\"text-align:right;\">5,308</td> <td class=\"cell-5\" style=\"text-align:right;\">29,185</td> <td class=\"cell-6\" style=\"text-align:right;\">1,001</td> <td class=\"cell-7\" style=\"text-align:right;\">597,218</td> <td class=\"cell-8\" style=\"text-align:right;\">3,981</td> <td class=\"cell-9\" style=\"text-align:right;\">6,635</td> <td class=\"cell-10\" style=\"text-align:right;\">1,000</td> <td class=\"cell-11\" style=\"text-align:right;\">92,863</td></tr>\n",
       "<tr><td class=\"cell-1\" style=\"\">seconds</td> <td class=\"cell-2\" style=\"text-align:right;\">16,196</td> <td class=\"cell-3\" style=\"text-align:right;\">10.785</td> <td class=\"cell-4\" style=\"text-align:right;\">5.308</td> <td class=\"cell-5\" style=\"text-align:right;\">29.185</td> <td class=\"cell-6\" style=\"text-align:right;\">1.001</td> <td class=\"cell-7\" style=\"text-align:right;\">597.218</td> <td class=\"cell-8\" style=\"text-align:right;\">3.981</td> <td class=\"cell-9\" style=\"text-align:right;\">6.635</td> <td class=\"cell-10\" style=\"text-align:right;\">1</td> <td class=\"cell-11\" style=\"text-align:right;\">92.863</td></tr>\n",
       "    \n",
       "    <tr><td class=\"cell-1\" style=\"\">minutes</td> <td class=\"cell-2\" style=\"text-align:right;\">16,196</td> <td class=\"cell-3\" style=\"text-align:right;\">0.2</td> <td class=\"cell-4\" style=\"text-align:right;\">0.1</td> <td class=\"cell-5\" style=\"text-align:right;\">0.5</td> <td class=\"cell-6\" style=\"text-align:right;\">0</td> <td class=\"cell-7\" style=\"text-align:right;\">10</td> <td class=\"cell-8\" style=\"text-align:right;\">0.1</td> <td class=\"cell-9\" style=\"text-align:right;\">0.1</td> <td class=\"cell-10\" style=\"text-align:right;\">0</td> <td class=\"cell-11\" style=\"text-align:right;\">1.5</td></tr>\n",
       "    </tbody>\n"
      ],
      "text/plain": [
       "HTML{UTF8String}(\"    <table  class=\\\"dataframe-table\\\">\\n    <thead><tr><th class=\\\"cell-1\\\" style=\\\"\\\">unit</th> <th class=\\\"cell-2\\\" style=\\\"\\\">count</th> <th class=\\\"cell-3\\\" style=\\\"\\\">mean</th> <th class=\\\"cell-4\\\" style=\\\"\\\">median</th> <th class=\\\"cell-5\\\" style=\\\"\\\">stddev</th> <th class=\\\"cell-6\\\" style=\\\"\\\">min</th> <th class=\\\"cell-7\\\" style=\\\"\\\">max</th> <th class=\\\"cell-8\\\" style=\\\"\\\">LowerBy25p</th> <th class=\\\"cell-9\\\" style=\\\"\\\">UpperBy25p</th> <th class=\\\"cell-10\\\" style=\\\"\\\">LowerBy3Stddev</th> <th class=\\\"cell-11\\\" style=\\\"\\\">UpperBy3Stddev</th></tr></thead>\\n    <tbody>\\n    <tr><td class=\\\"cell-1\\\" style=\\\"\\\">milliseconds</td> <td class=\\\"cell-2\\\" style=\\\"text-align:right;\\\">16,196</td> <td class=\\\"cell-3\\\" style=\\\"text-align:right;\\\">10,785</td> <td class=\\\"cell-4\\\" style=\\\"text-align:right;\\\">5,308</td> <td class=\\\"cell-5\\\" style=\\\"text-align:right;\\\">29,185</td> <td class=\\\"cell-6\\\" style=\\\"text-align:right;\\\">1,001</td> <td class=\\\"cell-7\\\" style=\\\"text-align:right;\\\">597,218</td> <td class=\\\"cell-8\\\" style=\\\"text-align:right;\\\">3,981</td> <td class=\\\"cell-9\\\" style=\\\"text-align:right;\\\">6,635</td> <td class=\\\"cell-10\\\" style=\\\"text-align:right;\\\">1,000</td> <td class=\\\"cell-11\\\" style=\\\"text-align:right;\\\">92,863</td></tr>\\n<tr><td class=\\\"cell-1\\\" style=\\\"\\\">seconds</td> <td class=\\\"cell-2\\\" style=\\\"text-align:right;\\\">16,196</td> <td class=\\\"cell-3\\\" style=\\\"text-align:right;\\\">10.785</td> <td class=\\\"cell-4\\\" style=\\\"text-align:right;\\\">5.308</td> <td class=\\\"cell-5\\\" style=\\\"text-align:right;\\\">29.185</td> <td class=\\\"cell-6\\\" style=\\\"text-align:right;\\\">1.001</td> <td class=\\\"cell-7\\\" style=\\\"text-align:right;\\\">597.218</td> <td class=\\\"cell-8\\\" style=\\\"text-align:right;\\\">3.981</td> <td class=\\\"cell-9\\\" style=\\\"text-align:right;\\\">6.635</td> <td class=\\\"cell-10\\\" style=\\\"text-align:right;\\\">1</td> <td class=\\\"cell-11\\\" style=\\\"text-align:right;\\\">92.863</td></tr>\\n    \\n    <tr><td class=\\\"cell-1\\\" style=\\\"\\\">minutes</td> <td class=\\\"cell-2\\\" style=\\\"text-align:right;\\\">16,196</td> <td class=\\\"cell-3\\\" style=\\\"text-align:right;\\\">0.2</td> <td class=\\\"cell-4\\\" style=\\\"text-align:right;\\\">0.1</td> <td class=\\\"cell-5\\\" style=\\\"text-align:right;\\\">0.5</td> <td class=\\\"cell-6\\\" style=\\\"text-align:right;\\\">0</td> <td class=\\\"cell-7\\\" style=\\\"text-align:right;\\\">10</td> <td class=\\\"cell-8\\\" style=\\\"text-align:right;\\\">0.1</td> <td class=\\\"cell-9\\\" style=\\\"text-align:right;\\\">0.1</td> <td class=\\\"cell-10\\\" style=\\\"text-align:right;\\\">0</td> <td class=\\\"cell-11\\\" style=\\\"text-align:right;\\\">1.5</td></tr>\\n    </tbody>\\n\")"
      ]
     },
     "metadata": {},
     "output_type": "display_data"
    }
   ],
   "source": [
    "statsTableFAPVSB(tv,UP)"
   ]
  },
  {
   "cell_type": "code",
   "execution_count": 36,
   "metadata": {
    "collapsed": false,
    "input_collapsed": false
   },
   "outputs": [],
   "source": [
    "q = query(\"\"\" drop view if exists $(UP.btView);\"\"\")\n",
    "q = query(\"\"\" drop view if exists $(UP.rtView);\"\"\")\n",
    ";"
   ]
  }
 ],
 "metadata": {
  "chart_version": "1.0.0",
  "kernelspec": {
   "display_name": "Julia 0.4.7",
   "language": "julia",
   "name": "julia-0.4"
  },
  "language_info": {
   "file_extension": ".jl",
   "mimetype": "application/julia",
   "name": "julia",
   "version": "0.4.7"
  },
  "library_version": "1.0.0",
  "notebook_uuid": "c6ef0c0e-d51b-4514-b49d-4592e3fb2534",
  "readOnly": false
 },
 "nbformat": 4,
 "nbformat_minor": 0
}
