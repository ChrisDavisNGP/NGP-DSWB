{
 "cells": [
  {
   "cell_type": "markdown",
   "metadata": {},
   "source": [
    "***\n",
    "## RT Beacons\n",
    "***"
   ]
  },
  {
   "cell_type": "code",
   "execution_count": 1,
   "metadata": {
    "collapsed": false,
    "input_collapsed": false
   },
   "outputs": [
    {
     "name": "stdout",
     "output_type": "stream",
     "text": [
      "Redshift endpoint set: 2017-06-09T20:32:44\n"
     ]
    },
    {
     "data": {
      "text/plain": [
       "\"beacons_4744_rt\""
      ]
     },
     "execution_count": 1,
     "metadata": {},
     "output_type": "execute_result"
    }
   ],
   "source": [
    "using ODBC\n",
    "using DataFrames\n",
    "using DSWB\n",
    "using Formatting\n",
    "\n",
    "dsn = \"dswb-natgeo\" # Redshift endpoint\n",
    "table = \"beacons_4744\" # beacon table name\n",
    "tableRt = \"beacons_4744_rt\"\n",
    "\n",
    "# Connect to Beacon Data\n",
    "setRedshiftEndpoint(dsn)\n",
    "setTable(tableRt, tableType = \"RESOURCE_TABLE\")\n",
    "#setTable(table)"
   ]
  },
  {
   "cell_type": "markdown",
   "metadata": {
    "collapsed": false,
    "input_collapsed": false
   },
   "source": [
    "***\n",
    "## 1.2 Beacons Table & Schema\n",
    "***"
   ]
  },
  {
   "cell_type": "code",
   "execution_count": 2,
   "metadata": {
    "collapsed": true,
    "input_collapsed": false
   },
   "outputs": [],
   "source": [
    "# Packages\n",
    "include(\"/data/notebook_home/Production/Lib/Include-Package-v1.0.jl\")\n",
    "include(\"/data/notebook_home/Production/Bodies/SQL-Data-Mining-Rt-Spike-Body-v1.0.jl\")"
   ]
  },
  {
   "cell_type": "code",
   "execution_count": 3,
   "metadata": {
    "collapsed": false,
    "input_collapsed": false
   },
   "outputs": [
    {
     "name": "stdout",
     "output_type": "stream",
     "text": [
      "June 7, 2017 11:49:00 to June 7, 2017 11:59:00 Local Time\n",
      "June 7, 2017 15:49:00 to June 7, 2017 15:59:00 UTC Time\n",
      "June 8, 2017 11:49:00 to June 8, 2017 11:59:00 Local Time\n",
      "June 8, 2017 15:49:00 to June 8, 2017 15:59:00 UTC Time\n"
     ]
    },
    {
     "data": {
      "text/html": [
       "<table class=\"data-frame\"><tr><th></th></tr></table>"
      ],
      "text/plain": [
       "0x0 DataFrames.DataFrame\n"
      ]
     },
     "execution_count": 3,
     "metadata": {},
     "output_type": "execute_result"
    }
   ],
   "source": [
    "# Create temp tables for Normal timeframe and Spike timeframe\n",
    "\n",
    "urlNormal = UrlParamsInit()\n",
    "urlSpike = UrlParamsInit()\n",
    "urlCache = UrlParamsInit()\n",
    "urlSummary = UrlParamsInit()\n",
    "\n",
    "urlNormal.resourceTable = tableRt\n",
    "urlNormal.rtView = \"$(table)_rtnormal_view_prod\"\n",
    "\n",
    "urlSpike.resourceTable = tableRt\n",
    "urlSpike.rtView = \"$(table)_rtspike_view_prod\"\n",
    "\n",
    "timeNormal = anyTimeVar(2017,6,7,11,49,2017,6,7,11,59)\n",
    "timeSpike  = anyTimeVar(2017,6,8,11,49,2017,6,8,11,59)\n",
    "\n",
    "query(\"\"\"create or replace view $(urlNormal.rtView) as (select * from $(urlNormal.resourceTable) where \"timestamp\" between $(timeNormal.startTimeMsUTC) and $(timeNormal.endTimeMsUTC))\"\"\")\n",
    "query(\"\"\"create or replace view $(urlSpike.rtView)  as (select * from $(urlSpike.resourceTable)  where \"timestamp\" between  $(timeSpike.startTimeMsUTC) and  $(timeSpike.endTimeMsUTC))\"\"\")\n"
   ]
  },
  {
   "cell_type": "code",
   "execution_count": 4,
   "metadata": {
    "collapsed": false,
    "input_collapsed": false
   },
   "outputs": [
    {
     "data": {
      "text/html": [
       "<table class=\"data-frame\"><tr><th></th><th>count</th></tr><tr><th>1</th><td>847812</td></tr></table>"
      ],
      "text/plain": [
       "1x1 DataFrames.DataFrame\n",
       "│ Row │ count  │\n",
       "┝━━━━━┿━━━━━━━━┥\n",
       "│ 1   │ 847812 │"
      ]
     },
     "execution_count": 4,
     "metadata": {},
     "output_type": "execute_result"
    }
   ],
   "source": [
    "query(\"\"\"SELECT count(*) FROM $(urlNormal.rtView)\"\"\")"
   ]
  },
  {
   "cell_type": "code",
   "execution_count": 5,
   "metadata": {
    "collapsed": false,
    "input_collapsed": false,
    "scrolled": true
   },
   "outputs": [
    {
     "data": {
      "text/html": [
       "<table class=\"data-frame\"><tr><th></th><th>count</th></tr><tr><th>1</th><td>761511</td></tr></table>"
      ],
      "text/plain": [
       "1x1 DataFrames.DataFrame\n",
       "│ Row │ count  │\n",
       "┝━━━━━┿━━━━━━━━┥\n",
       "│ 1   │ 761511 │"
      ]
     },
     "execution_count": 5,
     "metadata": {},
     "output_type": "execute_result"
    }
   ],
   "source": [
    "query(\"\"\"SELECT count(*) FROM $(urlSpike.rtView)\"\"\")"
   ]
  },
  {
   "cell_type": "markdown",
   "metadata": {},
   "source": [
    "***\n",
    "## Request Counters By URL Group\n",
    "***"
   ]
  },
  {
   "cell_type": "code",
   "execution_count": 6,
   "metadata": {
    "collapsed": false,
    "input_collapsed": false,
    "scrolled": false
   },
   "outputs": [
    {
     "data": {
      "text/html": [
       "<div class=\"dswbOutputText\"><h1 class=\"chart_title\" style=\"color:#ccc\">Normal: Request Counts By URL Group</h1><h3 class=\"chart_info\" style=\"color:#ccc\">June 7, 2017 11:49:00 to June 7, 2017 11:59:00 Local Time</h3></div>"
      ]
     },
     "metadata": {},
     "output_type": "display_data"
    },
    {
     "data": {
      "text/html": [
       "    <table  class=\"dataframe-table\">\n",
       "    <thead><tr><th class=\"cell-1\" style=\"\">reqcnt</th> <th class=\"cell-2\" style=\"\">urlgroup</th></tr></thead>\n",
       "    <tbody>\n",
       "    <tr><td class=\"cell-1\" style=\"text-align:right;\">66,097</td> <td class=\"cell-2\" style=\"\">http://kids.nationalgeographic.com</td></tr>\n",
       "<tr><td class=\"cell-1\" style=\"text-align:right;\">60,040</td> <td class=\"cell-2\" style=\"\">http://www.nationalgeographic.com</td></tr>\n",
       "<tr><td class=\"cell-1\" style=\"text-align:right;\">51,670</td> <td class=\"cell-2\" style=\"\">http://yourshot.nationalgeographic.com</td></tr>\n",
       "<tr><td class=\"cell-1\" style=\"text-align:right;\">46,596</td> <td class=\"cell-2\" style=\"\">http://www.google-analytics.com</td></tr>\n",
       "<tr><td class=\"cell-1\" style=\"text-align:right;\">33,112</td> <td class=\"cell-2\" style=\"\">https://securepubads.g.doubleclick.net</td></tr>\n",
       "<tr><td class=\"cell-1\" style=\"text-align:right;\">30,233</td> <td class=\"cell-2\" style=\"\">https://www.facebook.com</td></tr>\n",
       "<tr><td class=\"cell-1\" style=\"text-align:right;\">27,295</td> <td class=\"cell-2\" style=\"\">http://assets.nationalgeographic.com</td></tr>\n",
       "<tr><td class=\"cell-1\" style=\"text-align:right;\">27,259</td> <td class=\"cell-2\" style=\"\">https://tpc.googlesyndication.com</td></tr>\n",
       "    \n",
       "    <tr><td class=\"cell-1\" style=\"text-align:right;\">24,846</td> <td class=\"cell-2\" style=\"\">http://channel.nationalgeographic.com</td></tr>\n",
       "<tr><td class=\"cell-1\" style=\"text-align:right;\">23,708</td> <td class=\"cell-2\" style=\"\">http://news.nationalgeographic.com</td></tr>\n",
       "<tr><td class=\"cell-1\" style=\"text-align:right;\">20,411</td> <td class=\"cell-2\" style=\"\">http://fonts.ngeo.com</td></tr>\n",
       "<tr><td class=\"cell-1\" style=\"text-align:right;\">20,077</td> <td class=\"cell-2\" style=\"\">http://cdn.video.nationalgeographic.com</td></tr>\n",
       "<tr><td class=\"cell-1\" style=\"text-align:right;\">17,588</td> <td class=\"cell-2\" style=\"\">http://images.nationalgeographic.com</td></tr>\n",
       "<tr><td class=\"cell-1\" style=\"text-align:right;\">14,712</td> <td class=\"cell-2\" style=\"\">http://dc8xl0ndzn2cb.cloudfront.net</td></tr>\n",
       "<tr><td class=\"cell-1\" style=\"text-align:right;\">13,064</td> <td class=\"cell-2\" style=\"\">http://connect.facebook.net</td></tr>\n",
       "    </tbody>\n"
      ],
      "text/plain": [
       "HTML{UTF8String}(\"    <table  class=\\\"dataframe-table\\\">\\n    <thead><tr><th class=\\\"cell-1\\\" style=\\\"\\\">reqcnt</th> <th class=\\\"cell-2\\\" style=\\\"\\\">urlgroup</th></tr></thead>\\n    <tbody>\\n    <tr><td class=\\\"cell-1\\\" style=\\\"text-align:right;\\\">66,097</td> <td class=\\\"cell-2\\\" style=\\\"\\\">http://kids.nationalgeographic.com</td></tr>\\n<tr><td class=\\\"cell-1\\\" style=\\\"text-align:right;\\\">60,040</td> <td class=\\\"cell-2\\\" style=\\\"\\\">http://www.nationalgeographic.com</td></tr>\\n<tr><td class=\\\"cell-1\\\" style=\\\"text-align:right;\\\">51,670</td> <td class=\\\"cell-2\\\" style=\\\"\\\">http://yourshot.nationalgeographic.com</td></tr>\\n<tr><td class=\\\"cell-1\\\" style=\\\"text-align:right;\\\">46,596</td> <td class=\\\"cell-2\\\" style=\\\"\\\">http://www.google-analytics.com</td></tr>\\n<tr><td class=\\\"cell-1\\\" style=\\\"text-align:right;\\\">33,112</td> <td class=\\\"cell-2\\\" style=\\\"\\\">https://securepubads.g.doubleclick.net</td></tr>\\n<tr><td class=\\\"cell-1\\\" style=\\\"text-align:right;\\\">30,233</td> <td class=\\\"cell-2\\\" style=\\\"\\\">https://www.facebook.com</td></tr>\\n<tr><td class=\\\"cell-1\\\" style=\\\"text-align:right;\\\">27,295</td> <td class=\\\"cell-2\\\" style=\\\"\\\">http://assets.nationalgeographic.com</td></tr>\\n<tr><td class=\\\"cell-1\\\" style=\\\"text-align:right;\\\">27,259</td> <td class=\\\"cell-2\\\" style=\\\"\\\">https://tpc.googlesyndication.com</td></tr>\\n    \\n    <tr><td class=\\\"cell-1\\\" style=\\\"text-align:right;\\\">24,846</td> <td class=\\\"cell-2\\\" style=\\\"\\\">http://channel.nationalgeographic.com</td></tr>\\n<tr><td class=\\\"cell-1\\\" style=\\\"text-align:right;\\\">23,708</td> <td class=\\\"cell-2\\\" style=\\\"\\\">http://news.nationalgeographic.com</td></tr>\\n<tr><td class=\\\"cell-1\\\" style=\\\"text-align:right;\\\">20,411</td> <td class=\\\"cell-2\\\" style=\\\"\\\">http://fonts.ngeo.com</td></tr>\\n<tr><td class=\\\"cell-1\\\" style=\\\"text-align:right;\\\">20,077</td> <td class=\\\"cell-2\\\" style=\\\"\\\">http://cdn.video.nationalgeographic.com</td></tr>\\n<tr><td class=\\\"cell-1\\\" style=\\\"text-align:right;\\\">17,588</td> <td class=\\\"cell-2\\\" style=\\\"\\\">http://images.nationalgeographic.com</td></tr>\\n<tr><td class=\\\"cell-1\\\" style=\\\"text-align:right;\\\">14,712</td> <td class=\\\"cell-2\\\" style=\\\"\\\">http://dc8xl0ndzn2cb.cloudfront.net</td></tr>\\n<tr><td class=\\\"cell-1\\\" style=\\\"text-align:right;\\\">13,064</td> <td class=\\\"cell-2\\\" style=\\\"\\\">http://connect.facebook.net</td></tr>\\n    </tbody>\\n\")"
      ]
     },
     "metadata": {},
     "output_type": "display_data"
    },
    {
     "data": {
      "text/html": [
       "<div class=\"dswbOutputText\"><h1 class=\"chart_title\" style=\"color:#ccc\">Spike: Request Counts By URL Group</h1><h3 class=\"chart_info\" style=\"color:#ccc\">June 8, 2017 11:49:00 to June 8, 2017 11:59:00 Local Time</h3></div>"
      ]
     },
     "metadata": {},
     "output_type": "display_data"
    },
    {
     "data": {
      "text/html": [
       "    <table  class=\"dataframe-table\">\n",
       "    <thead><tr><th class=\"cell-1\" style=\"\">reqcnt</th> <th class=\"cell-2\" style=\"\">urlgroup</th></tr></thead>\n",
       "    <tbody>\n",
       "    <tr><td class=\"cell-1\" style=\"text-align:right;\">58,353</td> <td class=\"cell-2\" style=\"\">http://kids.nationalgeographic.com</td></tr>\n",
       "<tr><td class=\"cell-1\" style=\"text-align:right;\">51,512</td> <td class=\"cell-2\" style=\"\">http://www.nationalgeographic.com</td></tr>\n",
       "<tr><td class=\"cell-1\" style=\"text-align:right;\">42,558</td> <td class=\"cell-2\" style=\"\">http://www.google-analytics.com</td></tr>\n",
       "<tr><td class=\"cell-1\" style=\"text-align:right;\">42,251</td> <td class=\"cell-2\" style=\"\">http://yourshot.nationalgeographic.com</td></tr>\n",
       "<tr><td class=\"cell-1\" style=\"text-align:right;\">33,251</td> <td class=\"cell-2\" style=\"\">https://securepubads.g.doubleclick.net</td></tr>\n",
       "<tr><td class=\"cell-1\" style=\"text-align:right;\">28,707</td> <td class=\"cell-2\" style=\"\">https://tpc.googlesyndication.com</td></tr>\n",
       "<tr><td class=\"cell-1\" style=\"text-align:right;\">26,799</td> <td class=\"cell-2\" style=\"\">https://www.facebook.com</td></tr>\n",
       "<tr><td class=\"cell-1\" style=\"text-align:right;\">26,285</td> <td class=\"cell-2\" style=\"\">http://news.nationalgeographic.com</td></tr>\n",
       "    \n",
       "    <tr><td class=\"cell-1\" style=\"text-align:right;\">21,764</td> <td class=\"cell-2\" style=\"\">http://assets.nationalgeographic.com</td></tr>\n",
       "<tr><td class=\"cell-1\" style=\"text-align:right;\">18,715</td> <td class=\"cell-2\" style=\"\">http://fonts.ngeo.com</td></tr>\n",
       "<tr><td class=\"cell-1\" style=\"text-align:right;\">18,495</td> <td class=\"cell-2\" style=\"\">http://channel.nationalgeographic.com</td></tr>\n",
       "<tr><td class=\"cell-1\" style=\"text-align:right;\">13,630</td> <td class=\"cell-2\" style=\"\">http://images.nationalgeographic.com</td></tr>\n",
       "<tr><td class=\"cell-1\" style=\"text-align:right;\">13,343</td> <td class=\"cell-2\" style=\"\">http://dc8xl0ndzn2cb.cloudfront.net</td></tr>\n",
       "<tr><td class=\"cell-1\" style=\"text-align:right;\">12,008</td> <td class=\"cell-2\" style=\"\">http://connect.facebook.net</td></tr>\n",
       "<tr><td class=\"cell-1\" style=\"text-align:right;\">11,769</td> <td class=\"cell-2\" style=\"\">http://cdn.video.nationalgeographic.com</td></tr>\n",
       "    </tbody>\n"
      ],
      "text/plain": [
       "HTML{UTF8String}(\"    <table  class=\\\"dataframe-table\\\">\\n    <thead><tr><th class=\\\"cell-1\\\" style=\\\"\\\">reqcnt</th> <th class=\\\"cell-2\\\" style=\\\"\\\">urlgroup</th></tr></thead>\\n    <tbody>\\n    <tr><td class=\\\"cell-1\\\" style=\\\"text-align:right;\\\">58,353</td> <td class=\\\"cell-2\\\" style=\\\"\\\">http://kids.nationalgeographic.com</td></tr>\\n<tr><td class=\\\"cell-1\\\" style=\\\"text-align:right;\\\">51,512</td> <td class=\\\"cell-2\\\" style=\\\"\\\">http://www.nationalgeographic.com</td></tr>\\n<tr><td class=\\\"cell-1\\\" style=\\\"text-align:right;\\\">42,558</td> <td class=\\\"cell-2\\\" style=\\\"\\\">http://www.google-analytics.com</td></tr>\\n<tr><td class=\\\"cell-1\\\" style=\\\"text-align:right;\\\">42,251</td> <td class=\\\"cell-2\\\" style=\\\"\\\">http://yourshot.nationalgeographic.com</td></tr>\\n<tr><td class=\\\"cell-1\\\" style=\\\"text-align:right;\\\">33,251</td> <td class=\\\"cell-2\\\" style=\\\"\\\">https://securepubads.g.doubleclick.net</td></tr>\\n<tr><td class=\\\"cell-1\\\" style=\\\"text-align:right;\\\">28,707</td> <td class=\\\"cell-2\\\" style=\\\"\\\">https://tpc.googlesyndication.com</td></tr>\\n<tr><td class=\\\"cell-1\\\" style=\\\"text-align:right;\\\">26,799</td> <td class=\\\"cell-2\\\" style=\\\"\\\">https://www.facebook.com</td></tr>\\n<tr><td class=\\\"cell-1\\\" style=\\\"text-align:right;\\\">26,285</td> <td class=\\\"cell-2\\\" style=\\\"\\\">http://news.nationalgeographic.com</td></tr>\\n    \\n    <tr><td class=\\\"cell-1\\\" style=\\\"text-align:right;\\\">21,764</td> <td class=\\\"cell-2\\\" style=\\\"\\\">http://assets.nationalgeographic.com</td></tr>\\n<tr><td class=\\\"cell-1\\\" style=\\\"text-align:right;\\\">18,715</td> <td class=\\\"cell-2\\\" style=\\\"\\\">http://fonts.ngeo.com</td></tr>\\n<tr><td class=\\\"cell-1\\\" style=\\\"text-align:right;\\\">18,495</td> <td class=\\\"cell-2\\\" style=\\\"\\\">http://channel.nationalgeographic.com</td></tr>\\n<tr><td class=\\\"cell-1\\\" style=\\\"text-align:right;\\\">13,630</td> <td class=\\\"cell-2\\\" style=\\\"\\\">http://images.nationalgeographic.com</td></tr>\\n<tr><td class=\\\"cell-1\\\" style=\\\"text-align:right;\\\">13,343</td> <td class=\\\"cell-2\\\" style=\\\"\\\">http://dc8xl0ndzn2cb.cloudfront.net</td></tr>\\n<tr><td class=\\\"cell-1\\\" style=\\\"text-align:right;\\\">12,008</td> <td class=\\\"cell-2\\\" style=\\\"\\\">http://connect.facebook.net</td></tr>\\n<tr><td class=\\\"cell-1\\\" style=\\\"text-align:right;\\\">11,769</td> <td class=\\\"cell-2\\\" style=\\\"\\\">http://cdn.video.nationalgeographic.com</td></tr>\\n    </tbody>\\n\")"
      ]
     },
     "metadata": {},
     "output_type": "display_data"
    }
   ],
   "source": [
    "requestCountByGroupSDMRS(timeNormal,urlNormal,\"Normal\")\n",
    "requestCountByGroupSDMRS(timeSpike,urlSpike,\"Spike\")"
   ]
  },
  {
   "cell_type": "markdown",
   "metadata": {},
   "source": [
    "***\n",
    "## Blocking Requests By URL Groups Across All Sessions\n",
    "***"
   ]
  },
  {
   "cell_type": "code",
   "execution_count": 7,
   "metadata": {
    "collapsed": false,
    "input_collapsed": false,
    "scrolled": false
   },
   "outputs": [
    {
     "data": {
      "text/html": [
       "<div class=\"dswbOutputText\"><h1 class=\"chart_title\" style=\"color:#ccc\">Normal: Blocking Requests By URL Groups Across All Sessions</h1><h3 class=\"chart_info\" style=\"color:#ccc\">June 7, 2017 11:49:00 to June 7, 2017 11:59:00 Local Time</h3></div>"
      ]
     },
     "metadata": {},
     "output_type": "display_data"
    },
    {
     "data": {
      "text/html": [
       "    <table  class=\"dataframe-table\">\n",
       "    <thead><tr><th class=\"cell-1\" style=\"\">reqcnt</th> <th class=\"cell-2\" style=\"\">totalblk</th> <th class=\"cell-3\" style=\"\">avgblk</th> <th class=\"cell-4\" style=\"\">urlgroup</th></tr></thead>\n",
       "    <tbody>\n",
       "    <tr><td class=\"cell-1\" style=\"text-align:right;\">28,480</td> <td class=\"cell-2\" style=\"text-align:right;\">38,601,803</td> <td class=\"cell-3\" style=\"text-align:right;\">1,355</td> <td class=\"cell-4\" style=\"\">http://yourshot.nationalgeographic.com</td></tr>\n",
       "<tr><td class=\"cell-1\" style=\"text-align:right;\">16,549</td> <td class=\"cell-2\" style=\"text-align:right;\">29,472,136</td> <td class=\"cell-3\" style=\"text-align:right;\">1,780</td> <td class=\"cell-4\" style=\"\">http://channel.nationalgeographic.com</td></tr>\n",
       "<tr><td class=\"cell-1\" style=\"text-align:right;\">44,404</td> <td class=\"cell-2\" style=\"text-align:right;\">12,906,404</td> <td class=\"cell-3\" style=\"text-align:right;\">290</td> <td class=\"cell-4\" style=\"\">http://www.nationalgeographic.com</td></tr>\n",
       "<tr><td class=\"cell-1\" style=\"text-align:right;\">47,291</td> <td class=\"cell-2\" style=\"text-align:right;\">12,666,678</td> <td class=\"cell-3\" style=\"text-align:right;\">267</td> <td class=\"cell-4\" style=\"\">http://kids.nationalgeographic.com</td></tr>\n",
       "<tr><td class=\"cell-1\" style=\"text-align:right;\">20,209</td> <td class=\"cell-2\" style=\"text-align:right;\">3,649,382</td> <td class=\"cell-3\" style=\"text-align:right;\">180</td> <td class=\"cell-4\" style=\"\">http://news.nationalgeographic.com</td></tr>\n",
       "<tr><td class=\"cell-1\" style=\"text-align:right;\">30,385</td> <td class=\"cell-2\" style=\"text-align:right;\">3,168,028</td> <td class=\"cell-3\" style=\"text-align:right;\">104</td> <td class=\"cell-4\" style=\"\">https://securepubads.g.doubleclick.net</td></tr>\n",
       "<tr><td class=\"cell-1\" style=\"text-align:right;\">12,590</td> <td class=\"cell-2\" style=\"text-align:right;\">2,739,873</td> <td class=\"cell-3\" style=\"text-align:right;\">217</td> <td class=\"cell-4\" style=\"\">http://www.google-analytics.com</td></tr>\n",
       "<tr><td class=\"cell-1\" style=\"text-align:right;\">3,670</td> <td class=\"cell-2\" style=\"text-align:right;\">2,376,145</td> <td class=\"cell-3\" style=\"text-align:right;\">647</td> <td class=\"cell-4\" style=\"\">http://voices.nationalgeographic.com</td></tr>\n",
       "<tr><td class=\"cell-1\" style=\"text-align:right;\">7,752</td> <td class=\"cell-2\" style=\"text-align:right;\">1,966,752</td> <td class=\"cell-3\" style=\"text-align:right;\">253</td> <td class=\"cell-4\" style=\"\">http://s7.addthis.com</td></tr>\n",
       "<tr><td class=\"cell-1\" style=\"text-align:right;\">1,161</td> <td class=\"cell-2\" style=\"text-align:right;\">1,869,640</td> <td class=\"cell-3\" style=\"text-align:right;\">1,610</td> <td class=\"cell-4\" style=\"\">http://images.nationalgeographic.com</td></tr>\n",
       "<tr><td class=\"cell-1\" style=\"text-align:right;\">1,139</td> <td class=\"cell-2\" style=\"text-align:right;\">1,824,995</td> <td class=\"cell-3\" style=\"text-align:right;\">1,602</td> <td class=\"cell-4\" style=\"\">http://phenomena.nationalgeographic.com</td></tr>\n",
       "<tr><td class=\"cell-1\" style=\"text-align:right;\">1,722</td> <td class=\"cell-2\" style=\"text-align:right;\">1,727,037</td> <td class=\"cell-3\" style=\"text-align:right;\">1,002</td> <td class=\"cell-4\" style=\"\">http://m.yourshot.nationalgeographic.com</td></tr>\n",
       "<tr><td class=\"cell-1\" style=\"text-align:right;\">14,445</td> <td class=\"cell-2\" style=\"text-align:right;\">1,532,491</td> <td class=\"cell-3\" style=\"text-align:right;\">106</td> <td class=\"cell-4\" style=\"\">https://tpc.googlesyndication.com</td></tr>\n",
       "<tr><td class=\"cell-1\" style=\"text-align:right;\">1,774</td> <td class=\"cell-2\" style=\"text-align:right;\">1,214,145</td> <td class=\"cell-3\" style=\"text-align:right;\">684</td> <td class=\"cell-4\" style=\"\">http://5808312.fls.doubleclick.net</td></tr>\n",
       "<tr><td class=\"cell-1\" style=\"text-align:right;\">5,615</td> <td class=\"cell-2\" style=\"text-align:right;\">1,083,855</td> <td class=\"cell-3\" style=\"text-align:right;\">193</td> <td class=\"cell-4\" style=\"\">http://www.googletagservices.com</td></tr>\n",
       "    \n",
       "    <tr><td class=\"cell-1\" style=\"text-align:right;\">916</td> <td class=\"cell-2\" style=\"text-align:right;\">1,025,340</td> <td class=\"cell-3\" style=\"text-align:right;\">1,119</td> <td class=\"cell-4\" style=\"\">http://adventureblog.nationalgeographic.com</td></tr>\n",
       "<tr><td class=\"cell-1\" style=\"text-align:right;\">1,574</td> <td class=\"cell-2\" style=\"text-align:right;\">1,025,178</td> <td class=\"cell-3\" style=\"text-align:right;\">651</td> <td class=\"cell-4\" style=\"\">https://members.nationalgeographic.com</td></tr>\n",
       "<tr><td class=\"cell-1\" style=\"text-align:right;\">2,100</td> <td class=\"cell-2\" style=\"text-align:right;\">1,001,618</td> <td class=\"cell-3\" style=\"text-align:right;\">476</td> <td class=\"cell-4\" style=\"\">http://ngm.nationalgeographic.com</td></tr>\n",
       "<tr><td class=\"cell-1\" style=\"text-align:right;\">6,361</td> <td class=\"cell-2\" style=\"text-align:right;\">978,060</td> <td class=\"cell-3\" style=\"text-align:right;\">153</td> <td class=\"cell-4\" style=\"\">http://pagead2.googlesyndication.com</td></tr>\n",
       "<tr><td class=\"cell-1\" style=\"text-align:right;\">2,185</td> <td class=\"cell-2\" style=\"text-align:right;\">732,361</td> <td class=\"cell-3\" style=\"text-align:right;\">335</td> <td class=\"cell-4\" style=\"\">http://video.nationalgeographic.com</td></tr>\n",
       "<tr><td class=\"cell-1\" style=\"text-align:right;\">3,906</td> <td class=\"cell-2\" style=\"text-align:right;\">623,533</td> <td class=\"cell-3\" style=\"text-align:right;\">159</td> <td class=\"cell-4\" style=\"\">http://ajax.googleapis.com</td></tr>\n",
       "<tr><td class=\"cell-1\" style=\"text-align:right;\">2,252</td> <td class=\"cell-2\" style=\"text-align:right;\">591,163</td> <td class=\"cell-3\" style=\"text-align:right;\">262</td> <td class=\"cell-4\" style=\"\">https://genographic.nationalgeographic.com</td></tr>\n",
       "<tr><td class=\"cell-1\" style=\"text-align:right;\">952</td> <td class=\"cell-2\" style=\"text-align:right;\">517,746</td> <td class=\"cell-3\" style=\"text-align:right;\">543</td> <td class=\"cell-4\" style=\"\">https://ngmdomsubs.nationalgeographic.com</td></tr>\n",
       "<tr><td class=\"cell-1\" style=\"text-align:right;\">614</td> <td class=\"cell-2\" style=\"text-align:right;\">430,670</td> <td class=\"cell-3\" style=\"text-align:right;\">701</td> <td class=\"cell-4\" style=\"\">http://tvblogs.nationalgeographic.com</td></tr>\n",
       "<tr><td class=\"cell-1\" style=\"text-align:right;\">430</td> <td class=\"cell-2\" style=\"text-align:right;\">398,833</td> <td class=\"cell-3\" style=\"text-align:right;\">927</td> <td class=\"cell-4\" style=\"\">http://proof.nationalgeographic.com</td></tr>\n",
       "<tr><td class=\"cell-1\" style=\"text-align:right;\">603</td> <td class=\"cell-2\" style=\"text-align:right;\">379,342</td> <td class=\"cell-3\" style=\"text-align:right;\">629</td> <td class=\"cell-4\" style=\"\">https://apis.google.com</td></tr>\n",
       "<tr><td class=\"cell-1\" style=\"text-align:right;\">712</td> <td class=\"cell-2\" style=\"text-align:right;\">346,889</td> <td class=\"cell-3\" style=\"text-align:right;\">487</td> <td class=\"cell-4\" style=\"\">http://intelligenttravel.nationalgeographic.com</td></tr>\n",
       "<tr><td class=\"cell-1\" style=\"text-align:right;\">346</td> <td class=\"cell-2\" style=\"text-align:right;\">332,356</td> <td class=\"cell-3\" style=\"text-align:right;\">960</td> <td class=\"cell-4\" style=\"\">http://cdn.video.nationalgeographic.com</td></tr>\n",
       "<tr><td class=\"cell-1\" style=\"text-align:right;\">1,920</td> <td class=\"cell-2\" style=\"text-align:right;\">311,067</td> <td class=\"cell-3\" style=\"text-align:right;\">162</td> <td class=\"cell-4\" style=\"\">https://www.facebook.com</td></tr>\n",
       "<tr><td class=\"cell-1\" style=\"text-align:right;\">362</td> <td class=\"cell-2\" style=\"text-align:right;\">295,464</td> <td class=\"cell-3\" style=\"text-align:right;\">816</td> <td class=\"cell-4\" style=\"\">http://pix.us.criteo.net</td></tr>\n",
       "    </tbody>\n"
      ],
      "text/plain": [
       "HTML{UTF8String}(\"    <table  class=\\\"dataframe-table\\\">\\n    <thead><tr><th class=\\\"cell-1\\\" style=\\\"\\\">reqcnt</th> <th class=\\\"cell-2\\\" style=\\\"\\\">totalblk</th> <th class=\\\"cell-3\\\" style=\\\"\\\">avgblk</th> <th class=\\\"cell-4\\\" style=\\\"\\\">urlgroup</th></tr></thead>\\n    <tbody>\\n    <tr><td class=\\\"cell-1\\\" style=\\\"text-align:right;\\\">28,480</td> <td class=\\\"cell-2\\\" style=\\\"text-align:right;\\\">38,601,803</td> <td class=\\\"cell-3\\\" style=\\\"text-align:right;\\\">1,355</td> <td class=\\\"cell-4\\\" style=\\\"\\\">http://yourshot.nationalgeographic.com</td></tr>\\n<tr><td class=\\\"cell-1\\\" style=\\\"text-align:right;\\\">16,549</td> <td class=\\\"cell-2\\\" style=\\\"text-align:right;\\\">29,472,136</td> <td class=\\\"cell-3\\\" style=\\\"text-align:right;\\\">1,780</td> <td class=\\\"cell-4\\\" style=\\\"\\\">http://channel.nationalgeographic.com</td></tr>\\n<tr><td class=\\\"cell-1\\\" style=\\\"text-align:right;\\\">44,404</td> <td class=\\\"cell-2\\\" style=\\\"text-align:right;\\\">12,906,404</td> <td class=\\\"cell-3\\\" style=\\\"text-align:right;\\\">290</td> <td class=\\\"cell-4\\\" style=\\\"\\\">http://www.nationalgeographic.com</td></tr>\\n<tr><td class=\\\"cell-1\\\" style=\\\"text-align:right;\\\">47,291</td> <td class=\\\"cell-2\\\" style=\\\"text-align:right;\\\">12,666,678</td> <td class=\\\"cell-3\\\" style=\\\"text-align:right;\\\">267</td> <td class=\\\"cell-4\\\" style=\\\"\\\">http://kids.nationalgeographic.com</td></tr>\\n<tr><td class=\\\"cell-1\\\" style=\\\"text-align:right;\\\">20,209</td> <td class=\\\"cell-2\\\" style=\\\"text-align:right;\\\">3,649,382</td> <td class=\\\"cell-3\\\" style=\\\"text-align:right;\\\">180</td> <td class=\\\"cell-4\\\" style=\\\"\\\">http://news.nationalgeographic.com</td></tr>\\n<tr><td class=\\\"cell-1\\\" style=\\\"text-align:right;\\\">30,385</td> <td class=\\\"cell-2\\\" style=\\\"text-align:right;\\\">3,168,028</td> <td class=\\\"cell-3\\\" style=\\\"text-align:right;\\\">104</td> <td class=\\\"cell-4\\\" style=\\\"\\\">https://securepubads.g.doubleclick.net</td></tr>\\n<tr><td class=\\\"cell-1\\\" style=\\\"text-align:right;\\\">12,590</td> <td class=\\\"cell-2\\\" style=\\\"text-align:right;\\\">2,739,873</td> <td class=\\\"cell-3\\\" style=\\\"text-align:right;\\\">217</td> <td class=\\\"cell-4\\\" style=\\\"\\\">http://www.google-analytics.com</td></tr>\\n<tr><td class=\\\"cell-1\\\" style=\\\"text-align:right;\\\">3,670</td> <td class=\\\"cell-2\\\" style=\\\"text-align:right;\\\">2,376,145</td> <td class=\\\"cell-3\\\" style=\\\"text-align:right;\\\">647</td> <td class=\\\"cell-4\\\" style=\\\"\\\">http://voices.nationalgeographic.com</td></tr>\\n<tr><td class=\\\"cell-1\\\" style=\\\"text-align:right;\\\">7,752</td> <td class=\\\"cell-2\\\" style=\\\"text-align:right;\\\">1,966,752</td> <td class=\\\"cell-3\\\" style=\\\"text-align:right;\\\">253</td> <td class=\\\"cell-4\\\" style=\\\"\\\">http://s7.addthis.com</td></tr>\\n<tr><td class=\\\"cell-1\\\" style=\\\"text-align:right;\\\">1,161</td> <td class=\\\"cell-2\\\" style=\\\"text-align:right;\\\">1,869,640</td> <td class=\\\"cell-3\\\" style=\\\"text-align:right;\\\">1,610</td> <td class=\\\"cell-4\\\" style=\\\"\\\">http://images.nationalgeographic.com</td></tr>\\n<tr><td class=\\\"cell-1\\\" style=\\\"text-align:right;\\\">1,139</td> <td class=\\\"cell-2\\\" style=\\\"text-align:right;\\\">1,824,995</td> <td class=\\\"cell-3\\\" style=\\\"text-align:right;\\\">1,602</td> <td class=\\\"cell-4\\\" style=\\\"\\\">http://phenomena.nationalgeographic.com</td></tr>\\n<tr><td class=\\\"cell-1\\\" style=\\\"text-align:right;\\\">1,722</td> <td class=\\\"cell-2\\\" style=\\\"text-align:right;\\\">1,727,037</td> <td class=\\\"cell-3\\\" style=\\\"text-align:right;\\\">1,002</td> <td class=\\\"cell-4\\\" style=\\\"\\\">http://m.yourshot.nationalgeographic.com</td></tr>\\n<tr><td class=\\\"cell-1\\\" style=\\\"text-align:right;\\\">14,445</td> <td class=\\\"cell-2\\\" style=\\\"text-align:right;\\\">1,532,491</td> <td class=\\\"cell-3\\\" style=\\\"text-align:right;\\\">106</td> <td class=\\\"cell-4\\\" style=\\\"\\\">https://tpc.googlesyndication.com</td></tr>\\n<tr><td class=\\\"cell-1\\\" style=\\\"text-align:right;\\\">1,774</td> <td class=\\\"cell-2\\\" style=\\\"text-align:right;\\\">1,214,145</td> <td class=\\\"cell-3\\\" style=\\\"text-align:right;\\\">684</td> <td class=\\\"cell-4\\\" style=\\\"\\\">http://5808312.fls.doubleclick.net</td></tr>\\n<tr><td class=\\\"cell-1\\\" style=\\\"text-align:right;\\\">5,615</td> <td class=\\\"cell-2\\\" style=\\\"text-align:right;\\\">1,083,855</td> <td class=\\\"cell-3\\\" style=\\\"text-align:right;\\\">193</td> <td class=\\\"cell-4\\\" style=\\\"\\\">http://www.googletagservices.com</td></tr>\\n    \\n    <tr><td class=\\\"cell-1\\\" style=\\\"text-align:right;\\\">916</td> <td class=\\\"cell-2\\\" style=\\\"text-align:right;\\\">1,025,340</td> <td class=\\\"cell-3\\\" style=\\\"text-align:right;\\\">1,119</td> <td class=\\\"cell-4\\\" style=\\\"\\\">http://adventureblog.nationalgeographic.com</td></tr>\\n<tr><td class=\\\"cell-1\\\" style=\\\"text-align:right;\\\">1,574</td> <td class=\\\"cell-2\\\" style=\\\"text-align:right;\\\">1,025,178</td> <td class=\\\"cell-3\\\" style=\\\"text-align:right;\\\">651</td> <td class=\\\"cell-4\\\" style=\\\"\\\">https://members.nationalgeographic.com</td></tr>\\n<tr><td class=\\\"cell-1\\\" style=\\\"text-align:right;\\\">2,100</td> <td class=\\\"cell-2\\\" style=\\\"text-align:right;\\\">1,001,618</td> <td class=\\\"cell-3\\\" style=\\\"text-align:right;\\\">476</td> <td class=\\\"cell-4\\\" style=\\\"\\\">http://ngm.nationalgeographic.com</td></tr>\\n<tr><td class=\\\"cell-1\\\" style=\\\"text-align:right;\\\">6,361</td> <td class=\\\"cell-2\\\" style=\\\"text-align:right;\\\">978,060</td> <td class=\\\"cell-3\\\" style=\\\"text-align:right;\\\">153</td> <td class=\\\"cell-4\\\" style=\\\"\\\">http://pagead2.googlesyndication.com</td></tr>\\n<tr><td class=\\\"cell-1\\\" style=\\\"text-align:right;\\\">2,185</td> <td class=\\\"cell-2\\\" style=\\\"text-align:right;\\\">732,361</td> <td class=\\\"cell-3\\\" style=\\\"text-align:right;\\\">335</td> <td class=\\\"cell-4\\\" style=\\\"\\\">http://video.nationalgeographic.com</td></tr>\\n<tr><td class=\\\"cell-1\\\" style=\\\"text-align:right;\\\">3,906</td> <td class=\\\"cell-2\\\" style=\\\"text-align:right;\\\">623,533</td> <td class=\\\"cell-3\\\" style=\\\"text-align:right;\\\">159</td> <td class=\\\"cell-4\\\" style=\\\"\\\">http://ajax.googleapis.com</td></tr>\\n<tr><td class=\\\"cell-1\\\" style=\\\"text-align:right;\\\">2,252</td> <td class=\\\"cell-2\\\" style=\\\"text-align:right;\\\">591,163</td> <td class=\\\"cell-3\\\" style=\\\"text-align:right;\\\">262</td> <td class=\\\"cell-4\\\" style=\\\"\\\">https://genographic.nationalgeographic.com</td></tr>\\n<tr><td class=\\\"cell-1\\\" style=\\\"text-align:right;\\\">952</td> <td class=\\\"cell-2\\\" style=\\\"text-align:right;\\\">517,746</td> <td class=\\\"cell-3\\\" style=\\\"text-align:right;\\\">543</td> <td class=\\\"cell-4\\\" style=\\\"\\\">https://ngmdomsubs.nationalgeographic.com</td></tr>\\n<tr><td class=\\\"cell-1\\\" style=\\\"text-align:right;\\\">614</td> <td class=\\\"cell-2\\\" style=\\\"text-align:right;\\\">430,670</td> <td class=\\\"cell-3\\\" style=\\\"text-align:right;\\\">701</td> <td class=\\\"cell-4\\\" style=\\\"\\\">http://tvblogs.nationalgeographic.com</td></tr>\\n<tr><td class=\\\"cell-1\\\" style=\\\"text-align:right;\\\">430</td> <td class=\\\"cell-2\\\" style=\\\"text-align:right;\\\">398,833</td> <td class=\\\"cell-3\\\" style=\\\"text-align:right;\\\">927</td> <td class=\\\"cell-4\\\" style=\\\"\\\">http://proof.nationalgeographic.com</td></tr>\\n<tr><td class=\\\"cell-1\\\" style=\\\"text-align:right;\\\">603</td> <td class=\\\"cell-2\\\" style=\\\"text-align:right;\\\">379,342</td> <td class=\\\"cell-3\\\" style=\\\"text-align:right;\\\">629</td> <td class=\\\"cell-4\\\" style=\\\"\\\">https://apis.google.com</td></tr>\\n<tr><td class=\\\"cell-1\\\" style=\\\"text-align:right;\\\">712</td> <td class=\\\"cell-2\\\" style=\\\"text-align:right;\\\">346,889</td> <td class=\\\"cell-3\\\" style=\\\"text-align:right;\\\">487</td> <td class=\\\"cell-4\\\" style=\\\"\\\">http://intelligenttravel.nationalgeographic.com</td></tr>\\n<tr><td class=\\\"cell-1\\\" style=\\\"text-align:right;\\\">346</td> <td class=\\\"cell-2\\\" style=\\\"text-align:right;\\\">332,356</td> <td class=\\\"cell-3\\\" style=\\\"text-align:right;\\\">960</td> <td class=\\\"cell-4\\\" style=\\\"\\\">http://cdn.video.nationalgeographic.com</td></tr>\\n<tr><td class=\\\"cell-1\\\" style=\\\"text-align:right;\\\">1,920</td> <td class=\\\"cell-2\\\" style=\\\"text-align:right;\\\">311,067</td> <td class=\\\"cell-3\\\" style=\\\"text-align:right;\\\">162</td> <td class=\\\"cell-4\\\" style=\\\"\\\">https://www.facebook.com</td></tr>\\n<tr><td class=\\\"cell-1\\\" style=\\\"text-align:right;\\\">362</td> <td class=\\\"cell-2\\\" style=\\\"text-align:right;\\\">295,464</td> <td class=\\\"cell-3\\\" style=\\\"text-align:right;\\\">816</td> <td class=\\\"cell-4\\\" style=\\\"\\\">http://pix.us.criteo.net</td></tr>\\n    </tbody>\\n\")"
      ]
     },
     "metadata": {},
     "output_type": "display_data"
    },
    {
     "data": {
      "text/html": [
       "<div class=\"dswbOutputText\"><h1 class=\"chart_title\" style=\"color:#ccc\">Spike: Blocking Requests By URL Groups Across All Sessions</h1><h3 class=\"chart_info\" style=\"color:#ccc\">June 8, 2017 11:49:00 to June 8, 2017 11:59:00 Local Time</h3></div>"
      ]
     },
     "metadata": {},
     "output_type": "display_data"
    },
    {
     "data": {
      "text/html": [
       "    <table  class=\"dataframe-table\">\n",
       "    <thead><tr><th class=\"cell-1\" style=\"\">reqcnt</th> <th class=\"cell-2\" style=\"\">totalblk</th> <th class=\"cell-3\" style=\"\">avgblk</th> <th class=\"cell-4\" style=\"\">urlgroup</th></tr></thead>\n",
       "    <tbody>\n",
       "    <tr><td class=\"cell-1\" style=\"text-align:right;\">25,568</td> <td class=\"cell-2\" style=\"text-align:right;\">49,618,141</td> <td class=\"cell-3\" style=\"text-align:right;\">1,940</td> <td class=\"cell-4\" style=\"\">http://yourshot.nationalgeographic.com</td></tr>\n",
       "<tr><td class=\"cell-1\" style=\"text-align:right;\">12,485</td> <td class=\"cell-2\" style=\"text-align:right;\">20,562,042</td> <td class=\"cell-3\" style=\"text-align:right;\">1,646</td> <td class=\"cell-4\" style=\"\">http://channel.nationalgeographic.com</td></tr>\n",
       "<tr><td class=\"cell-1\" style=\"text-align:right;\">42,201</td> <td class=\"cell-2\" style=\"text-align:right;\">14,307,493</td> <td class=\"cell-3\" style=\"text-align:right;\">339</td> <td class=\"cell-4\" style=\"\">http://kids.nationalgeographic.com</td></tr>\n",
       "<tr><td class=\"cell-1\" style=\"text-align:right;\">37,727</td> <td class=\"cell-2\" style=\"text-align:right;\">8,233,700</td> <td class=\"cell-3\" style=\"text-align:right;\">218</td> <td class=\"cell-4\" style=\"\">http://www.nationalgeographic.com</td></tr>\n",
       "<tr><td class=\"cell-1\" style=\"text-align:right;\">1,317</td> <td class=\"cell-2\" style=\"text-align:right;\">4,732,990</td> <td class=\"cell-3\" style=\"text-align:right;\">3,593</td> <td class=\"cell-4\" style=\"\">http://images.nationalgeographic.com</td></tr>\n",
       "<tr><td class=\"cell-1\" style=\"text-align:right;\">22,971</td> <td class=\"cell-2\" style=\"text-align:right;\">3,854,633</td> <td class=\"cell-3\" style=\"text-align:right;\">167</td> <td class=\"cell-4\" style=\"\">http://news.nationalgeographic.com</td></tr>\n",
       "<tr><td class=\"cell-1\" style=\"text-align:right;\">3,777</td> <td class=\"cell-2\" style=\"text-align:right;\">3,550,618</td> <td class=\"cell-3\" style=\"text-align:right;\">940</td> <td class=\"cell-4\" style=\"\">http://voices.nationalgeographic.com</td></tr>\n",
       "<tr><td class=\"cell-1\" style=\"text-align:right;\">30,866</td> <td class=\"cell-2\" style=\"text-align:right;\">3,355,308</td> <td class=\"cell-3\" style=\"text-align:right;\">108</td> <td class=\"cell-4\" style=\"\">https://securepubads.g.doubleclick.net</td></tr>\n",
       "<tr><td class=\"cell-1\" style=\"text-align:right;\">11,378</td> <td class=\"cell-2\" style=\"text-align:right;\">2,339,105</td> <td class=\"cell-3\" style=\"text-align:right;\">205</td> <td class=\"cell-4\" style=\"\">http://www.google-analytics.com</td></tr>\n",
       "<tr><td class=\"cell-1\" style=\"text-align:right;\">14,818</td> <td class=\"cell-2\" style=\"text-align:right;\">1,964,022</td> <td class=\"cell-3\" style=\"text-align:right;\">132</td> <td class=\"cell-4\" style=\"\">https://tpc.googlesyndication.com</td></tr>\n",
       "<tr><td class=\"cell-1\" style=\"text-align:right;\">6,792</td> <td class=\"cell-2\" style=\"text-align:right;\">1,618,590</td> <td class=\"cell-3\" style=\"text-align:right;\">238</td> <td class=\"cell-4\" style=\"\">http://s7.addthis.com</td></tr>\n",
       "<tr><td class=\"cell-1\" style=\"text-align:right;\">1,225</td> <td class=\"cell-2\" style=\"text-align:right;\">1,432,112</td> <td class=\"cell-3\" style=\"text-align:right;\">1,169</td> <td class=\"cell-4\" style=\"\">http://m.yourshot.nationalgeographic.com</td></tr>\n",
       "<tr><td class=\"cell-1\" style=\"text-align:right;\">5,156</td> <td class=\"cell-2\" style=\"text-align:right;\">1,092,174</td> <td class=\"cell-3\" style=\"text-align:right;\">211</td> <td class=\"cell-4\" style=\"\">http://www.googletagservices.com</td></tr>\n",
       "<tr><td class=\"cell-1\" style=\"text-align:right;\">1,420</td> <td class=\"cell-2\" style=\"text-align:right;\">1,053,207</td> <td class=\"cell-3\" style=\"text-align:right;\">741</td> <td class=\"cell-4\" style=\"\">http://5808312.fls.doubleclick.net</td></tr>\n",
       "<tr><td class=\"cell-1\" style=\"text-align:right;\">1,128</td> <td class=\"cell-2\" style=\"text-align:right;\">983,534</td> <td class=\"cell-3\" style=\"text-align:right;\">871</td> <td class=\"cell-4\" style=\"\">http://phenomena.nationalgeographic.com</td></tr>\n",
       "    \n",
       "    <tr><td class=\"cell-1\" style=\"text-align:right;\">6,248</td> <td class=\"cell-2\" style=\"text-align:right;\">965,378</td> <td class=\"cell-3\" style=\"text-align:right;\">154</td> <td class=\"cell-4\" style=\"\">http://pagead2.googlesyndication.com</td></tr>\n",
       "<tr><td class=\"cell-1\" style=\"text-align:right;\">718</td> <td class=\"cell-2\" style=\"text-align:right;\">817,693</td> <td class=\"cell-3\" style=\"text-align:right;\">1,138</td> <td class=\"cell-4\" style=\"\">http://proof.nationalgeographic.com</td></tr>\n",
       "<tr><td class=\"cell-1\" style=\"text-align:right;\">3,596</td> <td class=\"cell-2\" style=\"text-align:right;\">704,874</td> <td class=\"cell-3\" style=\"text-align:right;\">196</td> <td class=\"cell-4\" style=\"\">http://ajax.googleapis.com</td></tr>\n",
       "<tr><td class=\"cell-1\" style=\"text-align:right;\">563</td> <td class=\"cell-2\" style=\"text-align:right;\">696,031</td> <td class=\"cell-3\" style=\"text-align:right;\">1,236</td> <td class=\"cell-4\" style=\"\">http://tvblogs.nationalgeographic.com</td></tr>\n",
       "<tr><td class=\"cell-1\" style=\"text-align:right;\">1,112</td> <td class=\"cell-2\" style=\"text-align:right;\">668,761</td> <td class=\"cell-3\" style=\"text-align:right;\">601</td> <td class=\"cell-4\" style=\"\">https://members.nationalgeographic.com</td></tr>\n",
       "<tr><td class=\"cell-1\" style=\"text-align:right;\">1,413</td> <td class=\"cell-2\" style=\"text-align:right;\">619,852</td> <td class=\"cell-3\" style=\"text-align:right;\">438</td> <td class=\"cell-4\" style=\"\">http://ngm.nationalgeographic.com</td></tr>\n",
       "<tr><td class=\"cell-1\" style=\"text-align:right;\">2,314</td> <td class=\"cell-2\" style=\"text-align:right;\">558,782</td> <td class=\"cell-3\" style=\"text-align:right;\">241</td> <td class=\"cell-4\" style=\"\">https://genographic.nationalgeographic.com</td></tr>\n",
       "<tr><td class=\"cell-1\" style=\"text-align:right;\">1,178</td> <td class=\"cell-2\" style=\"text-align:right;\">519,460</td> <td class=\"cell-3\" style=\"text-align:right;\">440</td> <td class=\"cell-4\" style=\"\">http://video.nationalgeographic.com</td></tr>\n",
       "<tr><td class=\"cell-1\" style=\"text-align:right;\">120</td> <td class=\"cell-2\" style=\"text-align:right;\">440,535</td> <td class=\"cell-3\" style=\"text-align:right;\">3,671</td> <td class=\"cell-4\" style=\"\">http://geniusexperiment.nationalgeographic.com</td></tr>\n",
       "<tr><td class=\"cell-1\" style=\"text-align:right;\">985</td> <td class=\"cell-2\" style=\"text-align:right;\">408,518</td> <td class=\"cell-3\" style=\"text-align:right;\">414</td> <td class=\"cell-4\" style=\"\">https://assets.nationalgeographic.com</td></tr>\n",
       "<tr><td class=\"cell-1\" style=\"text-align:right;\">1,519</td> <td class=\"cell-2\" style=\"text-align:right;\">408,467</td> <td class=\"cell-3\" style=\"text-align:right;\">268</td> <td class=\"cell-4\" style=\"\">http://s0.2mdn.net</td></tr>\n",
       "<tr><td class=\"cell-1\" style=\"text-align:right;\">1,605</td> <td class=\"cell-2\" style=\"text-align:right;\">344,176</td> <td class=\"cell-3\" style=\"text-align:right;\">214</td> <td class=\"cell-4\" style=\"\">https://www.facebook.com</td></tr>\n",
       "<tr><td class=\"cell-1\" style=\"text-align:right;\">642</td> <td class=\"cell-2\" style=\"text-align:right;\">321,646</td> <td class=\"cell-3\" style=\"text-align:right;\">501</td> <td class=\"cell-4\" style=\"\">http://pix.eu.criteo.net</td></tr>\n",
       "<tr><td class=\"cell-1\" style=\"text-align:right;\">835</td> <td class=\"cell-2\" style=\"text-align:right;\">302,727</td> <td class=\"cell-3\" style=\"text-align:right;\">362</td> <td class=\"cell-4\" style=\"\">http://connect.facebook.net</td></tr>\n",
       "<tr><td class=\"cell-1\" style=\"text-align:right;\">438</td> <td class=\"cell-2\" style=\"text-align:right;\">275,279</td> <td class=\"cell-3\" style=\"text-align:right;\">628</td> <td class=\"cell-4\" style=\"\">http://adventureblog.nationalgeographic.com</td></tr>\n",
       "    </tbody>\n"
      ],
      "text/plain": [
       "HTML{UTF8String}(\"    <table  class=\\\"dataframe-table\\\">\\n    <thead><tr><th class=\\\"cell-1\\\" style=\\\"\\\">reqcnt</th> <th class=\\\"cell-2\\\" style=\\\"\\\">totalblk</th> <th class=\\\"cell-3\\\" style=\\\"\\\">avgblk</th> <th class=\\\"cell-4\\\" style=\\\"\\\">urlgroup</th></tr></thead>\\n    <tbody>\\n    <tr><td class=\\\"cell-1\\\" style=\\\"text-align:right;\\\">25,568</td> <td class=\\\"cell-2\\\" style=\\\"text-align:right;\\\">49,618,141</td> <td class=\\\"cell-3\\\" style=\\\"text-align:right;\\\">1,940</td> <td class=\\\"cell-4\\\" style=\\\"\\\">http://yourshot.nationalgeographic.com</td></tr>\\n<tr><td class=\\\"cell-1\\\" style=\\\"text-align:right;\\\">12,485</td> <td class=\\\"cell-2\\\" style=\\\"text-align:right;\\\">20,562,042</td> <td class=\\\"cell-3\\\" style=\\\"text-align:right;\\\">1,646</td> <td class=\\\"cell-4\\\" style=\\\"\\\">http://channel.nationalgeographic.com</td></tr>\\n<tr><td class=\\\"cell-1\\\" style=\\\"text-align:right;\\\">42,201</td> <td class=\\\"cell-2\\\" style=\\\"text-align:right;\\\">14,307,493</td> <td class=\\\"cell-3\\\" style=\\\"text-align:right;\\\">339</td> <td class=\\\"cell-4\\\" style=\\\"\\\">http://kids.nationalgeographic.com</td></tr>\\n<tr><td class=\\\"cell-1\\\" style=\\\"text-align:right;\\\">37,727</td> <td class=\\\"cell-2\\\" style=\\\"text-align:right;\\\">8,233,700</td> <td class=\\\"cell-3\\\" style=\\\"text-align:right;\\\">218</td> <td class=\\\"cell-4\\\" style=\\\"\\\">http://www.nationalgeographic.com</td></tr>\\n<tr><td class=\\\"cell-1\\\" style=\\\"text-align:right;\\\">1,317</td> <td class=\\\"cell-2\\\" style=\\\"text-align:right;\\\">4,732,990</td> <td class=\\\"cell-3\\\" style=\\\"text-align:right;\\\">3,593</td> <td class=\\\"cell-4\\\" style=\\\"\\\">http://images.nationalgeographic.com</td></tr>\\n<tr><td class=\\\"cell-1\\\" style=\\\"text-align:right;\\\">22,971</td> <td class=\\\"cell-2\\\" style=\\\"text-align:right;\\\">3,854,633</td> <td class=\\\"cell-3\\\" style=\\\"text-align:right;\\\">167</td> <td class=\\\"cell-4\\\" style=\\\"\\\">http://news.nationalgeographic.com</td></tr>\\n<tr><td class=\\\"cell-1\\\" style=\\\"text-align:right;\\\">3,777</td> <td class=\\\"cell-2\\\" style=\\\"text-align:right;\\\">3,550,618</td> <td class=\\\"cell-3\\\" style=\\\"text-align:right;\\\">940</td> <td class=\\\"cell-4\\\" style=\\\"\\\">http://voices.nationalgeographic.com</td></tr>\\n<tr><td class=\\\"cell-1\\\" style=\\\"text-align:right;\\\">30,866</td> <td class=\\\"cell-2\\\" style=\\\"text-align:right;\\\">3,355,308</td> <td class=\\\"cell-3\\\" style=\\\"text-align:right;\\\">108</td> <td class=\\\"cell-4\\\" style=\\\"\\\">https://securepubads.g.doubleclick.net</td></tr>\\n<tr><td class=\\\"cell-1\\\" style=\\\"text-align:right;\\\">11,378</td> <td class=\\\"cell-2\\\" style=\\\"text-align:right;\\\">2,339,105</td> <td class=\\\"cell-3\\\" style=\\\"text-align:right;\\\">205</td> <td class=\\\"cell-4\\\" style=\\\"\\\">http://www.google-analytics.com</td></tr>\\n<tr><td class=\\\"cell-1\\\" style=\\\"text-align:right;\\\">14,818</td> <td class=\\\"cell-2\\\" style=\\\"text-align:right;\\\">1,964,022</td> <td class=\\\"cell-3\\\" style=\\\"text-align:right;\\\">132</td> <td class=\\\"cell-4\\\" style=\\\"\\\">https://tpc.googlesyndication.com</td></tr>\\n<tr><td class=\\\"cell-1\\\" style=\\\"text-align:right;\\\">6,792</td> <td class=\\\"cell-2\\\" style=\\\"text-align:right;\\\">1,618,590</td> <td class=\\\"cell-3\\\" style=\\\"text-align:right;\\\">238</td> <td class=\\\"cell-4\\\" style=\\\"\\\">http://s7.addthis.com</td></tr>\\n<tr><td class=\\\"cell-1\\\" style=\\\"text-align:right;\\\">1,225</td> <td class=\\\"cell-2\\\" style=\\\"text-align:right;\\\">1,432,112</td> <td class=\\\"cell-3\\\" style=\\\"text-align:right;\\\">1,169</td> <td class=\\\"cell-4\\\" style=\\\"\\\">http://m.yourshot.nationalgeographic.com</td></tr>\\n<tr><td class=\\\"cell-1\\\" style=\\\"text-align:right;\\\">5,156</td> <td class=\\\"cell-2\\\" style=\\\"text-align:right;\\\">1,092,174</td> <td class=\\\"cell-3\\\" style=\\\"text-align:right;\\\">211</td> <td class=\\\"cell-4\\\" style=\\\"\\\">http://www.googletagservices.com</td></tr>\\n<tr><td class=\\\"cell-1\\\" style=\\\"text-align:right;\\\">1,420</td> <td class=\\\"cell-2\\\" style=\\\"text-align:right;\\\">1,053,207</td> <td class=\\\"cell-3\\\" style=\\\"text-align:right;\\\">741</td> <td class=\\\"cell-4\\\" style=\\\"\\\">http://5808312.fls.doubleclick.net</td></tr>\\n<tr><td class=\\\"cell-1\\\" style=\\\"text-align:right;\\\">1,128</td> <td class=\\\"cell-2\\\" style=\\\"text-align:right;\\\">983,534</td> <td class=\\\"cell-3\\\" style=\\\"text-align:right;\\\">871</td> <td class=\\\"cell-4\\\" style=\\\"\\\">http://phenomena.nationalgeographic.com</td></tr>\\n    \\n    <tr><td class=\\\"cell-1\\\" style=\\\"text-align:right;\\\">6,248</td> <td class=\\\"cell-2\\\" style=\\\"text-align:right;\\\">965,378</td> <td class=\\\"cell-3\\\" style=\\\"text-align:right;\\\">154</td> <td class=\\\"cell-4\\\" style=\\\"\\\">http://pagead2.googlesyndication.com</td></tr>\\n<tr><td class=\\\"cell-1\\\" style=\\\"text-align:right;\\\">718</td> <td class=\\\"cell-2\\\" style=\\\"text-align:right;\\\">817,693</td> <td class=\\\"cell-3\\\" style=\\\"text-align:right;\\\">1,138</td> <td class=\\\"cell-4\\\" style=\\\"\\\">http://proof.nationalgeographic.com</td></tr>\\n<tr><td class=\\\"cell-1\\\" style=\\\"text-align:right;\\\">3,596</td> <td class=\\\"cell-2\\\" style=\\\"text-align:right;\\\">704,874</td> <td class=\\\"cell-3\\\" style=\\\"text-align:right;\\\">196</td> <td class=\\\"cell-4\\\" style=\\\"\\\">http://ajax.googleapis.com</td></tr>\\n<tr><td class=\\\"cell-1\\\" style=\\\"text-align:right;\\\">563</td> <td class=\\\"cell-2\\\" style=\\\"text-align:right;\\\">696,031</td> <td class=\\\"cell-3\\\" style=\\\"text-align:right;\\\">1,236</td> <td class=\\\"cell-4\\\" style=\\\"\\\">http://tvblogs.nationalgeographic.com</td></tr>\\n<tr><td class=\\\"cell-1\\\" style=\\\"text-align:right;\\\">1,112</td> <td class=\\\"cell-2\\\" style=\\\"text-align:right;\\\">668,761</td> <td class=\\\"cell-3\\\" style=\\\"text-align:right;\\\">601</td> <td class=\\\"cell-4\\\" style=\\\"\\\">https://members.nationalgeographic.com</td></tr>\\n<tr><td class=\\\"cell-1\\\" style=\\\"text-align:right;\\\">1,413</td> <td class=\\\"cell-2\\\" style=\\\"text-align:right;\\\">619,852</td> <td class=\\\"cell-3\\\" style=\\\"text-align:right;\\\">438</td> <td class=\\\"cell-4\\\" style=\\\"\\\">http://ngm.nationalgeographic.com</td></tr>\\n<tr><td class=\\\"cell-1\\\" style=\\\"text-align:right;\\\">2,314</td> <td class=\\\"cell-2\\\" style=\\\"text-align:right;\\\">558,782</td> <td class=\\\"cell-3\\\" style=\\\"text-align:right;\\\">241</td> <td class=\\\"cell-4\\\" style=\\\"\\\">https://genographic.nationalgeographic.com</td></tr>\\n<tr><td class=\\\"cell-1\\\" style=\\\"text-align:right;\\\">1,178</td> <td class=\\\"cell-2\\\" style=\\\"text-align:right;\\\">519,460</td> <td class=\\\"cell-3\\\" style=\\\"text-align:right;\\\">440</td> <td class=\\\"cell-4\\\" style=\\\"\\\">http://video.nationalgeographic.com</td></tr>\\n<tr><td class=\\\"cell-1\\\" style=\\\"text-align:right;\\\">120</td> <td class=\\\"cell-2\\\" style=\\\"text-align:right;\\\">440,535</td> <td class=\\\"cell-3\\\" style=\\\"text-align:right;\\\">3,671</td> <td class=\\\"cell-4\\\" style=\\\"\\\">http://geniusexperiment.nationalgeographic.com</td></tr>\\n<tr><td class=\\\"cell-1\\\" style=\\\"text-align:right;\\\">985</td> <td class=\\\"cell-2\\\" style=\\\"text-align:right;\\\">408,518</td> <td class=\\\"cell-3\\\" style=\\\"text-align:right;\\\">414</td> <td class=\\\"cell-4\\\" style=\\\"\\\">https://assets.nationalgeographic.com</td></tr>\\n<tr><td class=\\\"cell-1\\\" style=\\\"text-align:right;\\\">1,519</td> <td class=\\\"cell-2\\\" style=\\\"text-align:right;\\\">408,467</td> <td class=\\\"cell-3\\\" style=\\\"text-align:right;\\\">268</td> <td class=\\\"cell-4\\\" style=\\\"\\\">http://s0.2mdn.net</td></tr>\\n<tr><td class=\\\"cell-1\\\" style=\\\"text-align:right;\\\">1,605</td> <td class=\\\"cell-2\\\" style=\\\"text-align:right;\\\">344,176</td> <td class=\\\"cell-3\\\" style=\\\"text-align:right;\\\">214</td> <td class=\\\"cell-4\\\" style=\\\"\\\">https://www.facebook.com</td></tr>\\n<tr><td class=\\\"cell-1\\\" style=\\\"text-align:right;\\\">642</td> <td class=\\\"cell-2\\\" style=\\\"text-align:right;\\\">321,646</td> <td class=\\\"cell-3\\\" style=\\\"text-align:right;\\\">501</td> <td class=\\\"cell-4\\\" style=\\\"\\\">http://pix.eu.criteo.net</td></tr>\\n<tr><td class=\\\"cell-1\\\" style=\\\"text-align:right;\\\">835</td> <td class=\\\"cell-2\\\" style=\\\"text-align:right;\\\">302,727</td> <td class=\\\"cell-3\\\" style=\\\"text-align:right;\\\">362</td> <td class=\\\"cell-4\\\" style=\\\"\\\">http://connect.facebook.net</td></tr>\\n<tr><td class=\\\"cell-1\\\" style=\\\"text-align:right;\\\">438</td> <td class=\\\"cell-2\\\" style=\\\"text-align:right;\\\">275,279</td> <td class=\\\"cell-3\\\" style=\\\"text-align:right;\\\">628</td> <td class=\\\"cell-4\\\" style=\\\"\\\">http://adventureblog.nationalgeographic.com</td></tr>\\n    </tbody>\\n\")"
      ]
     },
     "metadata": {},
     "output_type": "display_data"
    }
   ],
   "source": [
    "blockingRequestCountByGroupSDMRS(timeNormal,urlNormal,\"Normal\")\n",
    "blockingRequestCountByGroupSDMRS(timeSpike,urlSpike,\"Spike\")\n",
    ";"
   ]
  },
  {
   "cell_type": "markdown",
   "metadata": {},
   "source": [
    "***\n",
    "## Non Cache Requests Total By URL Groups Across All Sessions\n",
    "***"
   ]
  },
  {
   "cell_type": "code",
   "execution_count": 8,
   "metadata": {
    "collapsed": false,
    "input_collapsed": false
   },
   "outputs": [
    {
     "data": {
      "text/html": [
       "<div class=\"dswbOutputText\"><h1 class=\"chart_title\" style=\"color:#ccc\">Normal: Non Cache Requests Total By URL Groups Across All Sessions</h1><h3 class=\"chart_info\" style=\"color:#ccc\">June 7, 2017 11:49:00 to June 7, 2017 11:59:00 Local Time</h3></div>"
      ]
     },
     "metadata": {},
     "output_type": "display_data"
    },
    {
     "data": {
      "text/html": [
       "    <table  class=\"dataframe-table\">\n",
       "    <thead><tr><th class=\"cell-1\" style=\"\">count</th> <th class=\"cell-2\" style=\"\">urlgroup</th></tr></thead>\n",
       "    <tbody>\n",
       "    <tr><td class=\"cell-1\" style=\"text-align:right;\">49,134</td> <td class=\"cell-2\" style=\"\">http://www.nationalgeographic.com</td></tr>\n",
       "<tr><td class=\"cell-1\" style=\"text-align:right;\">42,432</td> <td class=\"cell-2\" style=\"\">http://www.google-analytics.com</td></tr>\n",
       "<tr><td class=\"cell-1\" style=\"text-align:right;\">33,197</td> <td class=\"cell-2\" style=\"\">http://kids.nationalgeographic.com</td></tr>\n",
       "<tr><td class=\"cell-1\" style=\"text-align:right;\">29,834</td> <td class=\"cell-2\" style=\"\">https://www.facebook.com</td></tr>\n",
       "<tr><td class=\"cell-1\" style=\"text-align:right;\">27,059</td> <td class=\"cell-2\" style=\"\">http://yourshot.nationalgeographic.com</td></tr>\n",
       "<tr><td class=\"cell-1\" style=\"text-align:right;\">25,767</td> <td class=\"cell-2\" style=\"\">https://securepubads.g.doubleclick.net</td></tr>\n",
       "<tr><td class=\"cell-1\" style=\"text-align:right;\">24,959</td> <td class=\"cell-2\" style=\"\">http://assets.nationalgeographic.com</td></tr>\n",
       "<tr><td class=\"cell-1\" style=\"text-align:right;\">19,351</td> <td class=\"cell-2\" style=\"\">http://news.nationalgeographic.com</td></tr>\n",
       "    \n",
       "    <tr><td class=\"cell-1\" style=\"text-align:right;\">18,439</td> <td class=\"cell-2\" style=\"\">http://cdn.video.nationalgeographic.com</td></tr>\n",
       "<tr><td class=\"cell-1\" style=\"text-align:right;\">16,059</td> <td class=\"cell-2\" style=\"\">http://channel.nationalgeographic.com</td></tr>\n",
       "<tr><td class=\"cell-1\" style=\"text-align:right;\">15,757</td> <td class=\"cell-2\" style=\"\">http://fonts.ngeo.com</td></tr>\n",
       "<tr><td class=\"cell-1\" style=\"text-align:right;\">14,468</td> <td class=\"cell-2\" style=\"\">http://images.nationalgeographic.com</td></tr>\n",
       "<tr><td class=\"cell-1\" style=\"text-align:right;\">14,157</td> <td class=\"cell-2\" style=\"\">https://tpc.googlesyndication.com</td></tr>\n",
       "<tr><td class=\"cell-1\" style=\"text-align:right;\">14,066</td> <td class=\"cell-2\" style=\"\">http://dc8xl0ndzn2cb.cloudfront.net</td></tr>\n",
       "<tr><td class=\"cell-1\" style=\"text-align:right;\">12,708</td> <td class=\"cell-2\" style=\"\">http://connect.facebook.net</td></tr>\n",
       "    </tbody>\n"
      ],
      "text/plain": [
       "HTML{UTF8String}(\"    <table  class=\\\"dataframe-table\\\">\\n    <thead><tr><th class=\\\"cell-1\\\" style=\\\"\\\">count</th> <th class=\\\"cell-2\\\" style=\\\"\\\">urlgroup</th></tr></thead>\\n    <tbody>\\n    <tr><td class=\\\"cell-1\\\" style=\\\"text-align:right;\\\">49,134</td> <td class=\\\"cell-2\\\" style=\\\"\\\">http://www.nationalgeographic.com</td></tr>\\n<tr><td class=\\\"cell-1\\\" style=\\\"text-align:right;\\\">42,432</td> <td class=\\\"cell-2\\\" style=\\\"\\\">http://www.google-analytics.com</td></tr>\\n<tr><td class=\\\"cell-1\\\" style=\\\"text-align:right;\\\">33,197</td> <td class=\\\"cell-2\\\" style=\\\"\\\">http://kids.nationalgeographic.com</td></tr>\\n<tr><td class=\\\"cell-1\\\" style=\\\"text-align:right;\\\">29,834</td> <td class=\\\"cell-2\\\" style=\\\"\\\">https://www.facebook.com</td></tr>\\n<tr><td class=\\\"cell-1\\\" style=\\\"text-align:right;\\\">27,059</td> <td class=\\\"cell-2\\\" style=\\\"\\\">http://yourshot.nationalgeographic.com</td></tr>\\n<tr><td class=\\\"cell-1\\\" style=\\\"text-align:right;\\\">25,767</td> <td class=\\\"cell-2\\\" style=\\\"\\\">https://securepubads.g.doubleclick.net</td></tr>\\n<tr><td class=\\\"cell-1\\\" style=\\\"text-align:right;\\\">24,959</td> <td class=\\\"cell-2\\\" style=\\\"\\\">http://assets.nationalgeographic.com</td></tr>\\n<tr><td class=\\\"cell-1\\\" style=\\\"text-align:right;\\\">19,351</td> <td class=\\\"cell-2\\\" style=\\\"\\\">http://news.nationalgeographic.com</td></tr>\\n    \\n    <tr><td class=\\\"cell-1\\\" style=\\\"text-align:right;\\\">18,439</td> <td class=\\\"cell-2\\\" style=\\\"\\\">http://cdn.video.nationalgeographic.com</td></tr>\\n<tr><td class=\\\"cell-1\\\" style=\\\"text-align:right;\\\">16,059</td> <td class=\\\"cell-2\\\" style=\\\"\\\">http://channel.nationalgeographic.com</td></tr>\\n<tr><td class=\\\"cell-1\\\" style=\\\"text-align:right;\\\">15,757</td> <td class=\\\"cell-2\\\" style=\\\"\\\">http://fonts.ngeo.com</td></tr>\\n<tr><td class=\\\"cell-1\\\" style=\\\"text-align:right;\\\">14,468</td> <td class=\\\"cell-2\\\" style=\\\"\\\">http://images.nationalgeographic.com</td></tr>\\n<tr><td class=\\\"cell-1\\\" style=\\\"text-align:right;\\\">14,157</td> <td class=\\\"cell-2\\\" style=\\\"\\\">https://tpc.googlesyndication.com</td></tr>\\n<tr><td class=\\\"cell-1\\\" style=\\\"text-align:right;\\\">14,066</td> <td class=\\\"cell-2\\\" style=\\\"\\\">http://dc8xl0ndzn2cb.cloudfront.net</td></tr>\\n<tr><td class=\\\"cell-1\\\" style=\\\"text-align:right;\\\">12,708</td> <td class=\\\"cell-2\\\" style=\\\"\\\">http://connect.facebook.net</td></tr>\\n    </tbody>\\n\")"
      ]
     },
     "metadata": {},
     "output_type": "display_data"
    },
    {
     "data": {
      "text/html": [
       "<div class=\"dswbOutputText\"><h1 class=\"chart_title\" style=\"color:#ccc\">Spike: Non Cache Requests Total By URL Groups Across All Sessions</h1><h3 class=\"chart_info\" style=\"color:#ccc\">June 8, 2017 11:49:00 to June 8, 2017 11:59:00 Local Time</h3></div>"
      ]
     },
     "metadata": {},
     "output_type": "display_data"
    },
    {
     "data": {
      "text/html": [
       "    <table  class=\"dataframe-table\">\n",
       "    <thead><tr><th class=\"cell-1\" style=\"\">count</th> <th class=\"cell-2\" style=\"\">urlgroup</th></tr></thead>\n",
       "    <tbody>\n",
       "    <tr><td class=\"cell-1\" style=\"text-align:right;\">42,704</td> <td class=\"cell-2\" style=\"\">http://www.nationalgeographic.com</td></tr>\n",
       "<tr><td class=\"cell-1\" style=\"text-align:right;\">39,038</td> <td class=\"cell-2\" style=\"\">http://www.google-analytics.com</td></tr>\n",
       "<tr><td class=\"cell-1\" style=\"text-align:right;\">32,824</td> <td class=\"cell-2\" style=\"\">http://kids.nationalgeographic.com</td></tr>\n",
       "<tr><td class=\"cell-1\" style=\"text-align:right;\">26,448</td> <td class=\"cell-2\" style=\"\">https://www.facebook.com</td></tr>\n",
       "<tr><td class=\"cell-1\" style=\"text-align:right;\">26,090</td> <td class=\"cell-2\" style=\"\">https://securepubads.g.doubleclick.net</td></tr>\n",
       "<tr><td class=\"cell-1\" style=\"text-align:right;\">24,344</td> <td class=\"cell-2\" style=\"\">http://yourshot.nationalgeographic.com</td></tr>\n",
       "<tr><td class=\"cell-1\" style=\"text-align:right;\">21,540</td> <td class=\"cell-2\" style=\"\">http://news.nationalgeographic.com</td></tr>\n",
       "<tr><td class=\"cell-1\" style=\"text-align:right;\">20,175</td> <td class=\"cell-2\" style=\"\">http://assets.nationalgeographic.com</td></tr>\n",
       "    \n",
       "    <tr><td class=\"cell-1\" style=\"text-align:right;\">14,959</td> <td class=\"cell-2\" style=\"\">https://tpc.googlesyndication.com</td></tr>\n",
       "<tr><td class=\"cell-1\" style=\"text-align:right;\">14,815</td> <td class=\"cell-2\" style=\"\">http://fonts.ngeo.com</td></tr>\n",
       "<tr><td class=\"cell-1\" style=\"text-align:right;\">12,865</td> <td class=\"cell-2\" style=\"\">http://dc8xl0ndzn2cb.cloudfront.net</td></tr>\n",
       "<tr><td class=\"cell-1\" style=\"text-align:right;\">12,213</td> <td class=\"cell-2\" style=\"\">http://channel.nationalgeographic.com</td></tr>\n",
       "<tr><td class=\"cell-1\" style=\"text-align:right;\">11,682</td> <td class=\"cell-2\" style=\"\">http://connect.facebook.net</td></tr>\n",
       "<tr><td class=\"cell-1\" style=\"text-align:right;\">11,644</td> <td class=\"cell-2\" style=\"\">http://images.nationalgeographic.com</td></tr>\n",
       "<tr><td class=\"cell-1\" style=\"text-align:right;\">11,070</td> <td class=\"cell-2\" style=\"\">http://cdn.video.nationalgeographic.com</td></tr>\n",
       "    </tbody>\n"
      ],
      "text/plain": [
       "HTML{UTF8String}(\"    <table  class=\\\"dataframe-table\\\">\\n    <thead><tr><th class=\\\"cell-1\\\" style=\\\"\\\">count</th> <th class=\\\"cell-2\\\" style=\\\"\\\">urlgroup</th></tr></thead>\\n    <tbody>\\n    <tr><td class=\\\"cell-1\\\" style=\\\"text-align:right;\\\">42,704</td> <td class=\\\"cell-2\\\" style=\\\"\\\">http://www.nationalgeographic.com</td></tr>\\n<tr><td class=\\\"cell-1\\\" style=\\\"text-align:right;\\\">39,038</td> <td class=\\\"cell-2\\\" style=\\\"\\\">http://www.google-analytics.com</td></tr>\\n<tr><td class=\\\"cell-1\\\" style=\\\"text-align:right;\\\">32,824</td> <td class=\\\"cell-2\\\" style=\\\"\\\">http://kids.nationalgeographic.com</td></tr>\\n<tr><td class=\\\"cell-1\\\" style=\\\"text-align:right;\\\">26,448</td> <td class=\\\"cell-2\\\" style=\\\"\\\">https://www.facebook.com</td></tr>\\n<tr><td class=\\\"cell-1\\\" style=\\\"text-align:right;\\\">26,090</td> <td class=\\\"cell-2\\\" style=\\\"\\\">https://securepubads.g.doubleclick.net</td></tr>\\n<tr><td class=\\\"cell-1\\\" style=\\\"text-align:right;\\\">24,344</td> <td class=\\\"cell-2\\\" style=\\\"\\\">http://yourshot.nationalgeographic.com</td></tr>\\n<tr><td class=\\\"cell-1\\\" style=\\\"text-align:right;\\\">21,540</td> <td class=\\\"cell-2\\\" style=\\\"\\\">http://news.nationalgeographic.com</td></tr>\\n<tr><td class=\\\"cell-1\\\" style=\\\"text-align:right;\\\">20,175</td> <td class=\\\"cell-2\\\" style=\\\"\\\">http://assets.nationalgeographic.com</td></tr>\\n    \\n    <tr><td class=\\\"cell-1\\\" style=\\\"text-align:right;\\\">14,959</td> <td class=\\\"cell-2\\\" style=\\\"\\\">https://tpc.googlesyndication.com</td></tr>\\n<tr><td class=\\\"cell-1\\\" style=\\\"text-align:right;\\\">14,815</td> <td class=\\\"cell-2\\\" style=\\\"\\\">http://fonts.ngeo.com</td></tr>\\n<tr><td class=\\\"cell-1\\\" style=\\\"text-align:right;\\\">12,865</td> <td class=\\\"cell-2\\\" style=\\\"\\\">http://dc8xl0ndzn2cb.cloudfront.net</td></tr>\\n<tr><td class=\\\"cell-1\\\" style=\\\"text-align:right;\\\">12,213</td> <td class=\\\"cell-2\\\" style=\\\"\\\">http://channel.nationalgeographic.com</td></tr>\\n<tr><td class=\\\"cell-1\\\" style=\\\"text-align:right;\\\">11,682</td> <td class=\\\"cell-2\\\" style=\\\"\\\">http://connect.facebook.net</td></tr>\\n<tr><td class=\\\"cell-1\\\" style=\\\"text-align:right;\\\">11,644</td> <td class=\\\"cell-2\\\" style=\\\"\\\">http://images.nationalgeographic.com</td></tr>\\n<tr><td class=\\\"cell-1\\\" style=\\\"text-align:right;\\\">11,070</td> <td class=\\\"cell-2\\\" style=\\\"\\\">http://cdn.video.nationalgeographic.com</td></tr>\\n    </tbody>\\n\")"
      ]
     },
     "metadata": {},
     "output_type": "display_data"
    }
   ],
   "source": [
    "nonCacheRequestCountByGroupSDMRS(timeNormal,urlNormal,\"Normal\")\n",
    "nonCacheRequestCountByGroupSDMRS(timeSpike,urlSpike,\"Spike\")\n",
    ";"
   ]
  },
  {
   "cell_type": "markdown",
   "metadata": {},
   "source": [
    "***\n",
    "##Create the Cache Ratio\n",
    "***"
   ]
  },
  {
   "cell_type": "code",
   "execution_count": 9,
   "metadata": {
    "collapsed": false,
    "input_collapsed": false,
    "scrolled": false
   },
   "outputs": [
    {
     "data": {
      "text/html": [
       "<div class=\"dswbOutputText\"><h1 class=\"chart_title\" style=\"color:#ccc\">Normal: Cache Hit Ratio By URL Groups Across All Sessions</h1><h3 class=\"chart_info\" style=\"color:#ccc\">June 7, 2017 11:49:00 to June 7, 2017 11:59:00 Local Time</h3></div>"
      ]
     },
     "metadata": {},
     "output_type": "display_data"
    },
    {
     "data": {
      "text/html": [
       "    <table  class=\"dataframe-table\">\n",
       "    <thead><tr><th class=\"cell-1\" style=\"\">Url Group</th> <th class=\"cell-2\" style=\"\">Not Cached Cnt</th> <th class=\"cell-3\" style=\"\">Cached Cnt</th> <th class=\"cell-4\" style=\"\">Cached Ratio</th></tr></thead>\n",
       "    <tbody>\n",
       "    <tr><td class=\"cell-1\" style=\"\">http://www.nationalgeographic.com</td> <td class=\"cell-2\" style=\"text-align:right;\">49,134</td> <td class=\"cell-3\" style=\"text-align:right;\">10,832</td> <td class=\"cell-4\" style=\"text-align:right;\">18.063569</td></tr>\n",
       "<tr><td class=\"cell-1\" style=\"\">http://www.google-analytics.com</td> <td class=\"cell-2\" style=\"text-align:right;\">42,432</td> <td class=\"cell-3\" style=\"text-align:right;\">4,161</td> <td class=\"cell-4\" style=\"text-align:right;\">8.930526</td></tr>\n",
       "<tr><td class=\"cell-1\" style=\"\">http://kids.nationalgeographic.com</td> <td class=\"cell-2\" style=\"text-align:right;\">33,197</td> <td class=\"cell-3\" style=\"text-align:right;\">32,877</td> <td class=\"cell-4\" style=\"text-align:right;\">49.757847</td></tr>\n",
       "<tr><td class=\"cell-1\" style=\"\">https://www.facebook.com</td> <td class=\"cell-2\" style=\"text-align:right;\">29,834</td> <td class=\"cell-3\" style=\"text-align:right;\">393</td> <td class=\"cell-4\" style=\"text-align:right;\">1.300162</td></tr>\n",
       "<tr><td class=\"cell-1\" style=\"\">http://yourshot.nationalgeographic.com</td> <td class=\"cell-2\" style=\"text-align:right;\">27,059</td> <td class=\"cell-3\" style=\"text-align:right;\">24,594</td> <td class=\"cell-4\" style=\"text-align:right;\">47.613885</td></tr>\n",
       "<tr><td class=\"cell-1\" style=\"\">https://securepubads.g.doubleclick.net</td> <td class=\"cell-2\" style=\"text-align:right;\">25,767</td> <td class=\"cell-3\" style=\"text-align:right;\">7,332</td> <td class=\"cell-4\" style=\"text-align:right;\">22.151727</td></tr>\n",
       "<tr><td class=\"cell-1\" style=\"\">http://assets.nationalgeographic.com</td> <td class=\"cell-2\" style=\"text-align:right;\">24,959</td> <td class=\"cell-3\" style=\"text-align:right;\">2,336</td> <td class=\"cell-4\" style=\"text-align:right;\">8.558344</td></tr>\n",
       "<tr><td class=\"cell-1\" style=\"\">http://news.nationalgeographic.com</td> <td class=\"cell-2\" style=\"text-align:right;\">19,351</td> <td class=\"cell-3\" style=\"text-align:right;\">4,344</td> <td class=\"cell-4\" style=\"text-align:right;\">18.332982</td></tr>\n",
       "<tr><td class=\"cell-1\" style=\"\">http://cdn.video.nationalgeographic.com</td> <td class=\"cell-2\" style=\"text-align:right;\">18,439</td> <td class=\"cell-3\" style=\"text-align:right;\">1,638</td> <td class=\"cell-4\" style=\"text-align:right;\">8.158589</td></tr>\n",
       "<tr><td class=\"cell-1\" style=\"\">http://channel.nationalgeographic.com</td> <td class=\"cell-2\" style=\"text-align:right;\">16,059</td> <td class=\"cell-3\" style=\"text-align:right;\">8,770</td> <td class=\"cell-4\" style=\"text-align:right;\">35.3216</td></tr>\n",
       "<tr><td class=\"cell-1\" style=\"\">http://fonts.ngeo.com</td> <td class=\"cell-2\" style=\"text-align:right;\">15,757</td> <td class=\"cell-3\" style=\"text-align:right;\">4,654</td> <td class=\"cell-4\" style=\"text-align:right;\">22.801431</td></tr>\n",
       "<tr><td class=\"cell-1\" style=\"\">http://images.nationalgeographic.com</td> <td class=\"cell-2\" style=\"text-align:right;\">14,468</td> <td class=\"cell-3\" style=\"text-align:right;\">3,120</td> <td class=\"cell-4\" style=\"text-align:right;\">17.739368</td></tr>\n",
       "<tr><td class=\"cell-1\" style=\"\">https://tpc.googlesyndication.com</td> <td class=\"cell-2\" style=\"text-align:right;\">14,157</td> <td class=\"cell-3\" style=\"text-align:right;\">13,097</td> <td class=\"cell-4\" style=\"text-align:right;\">48.055331</td></tr>\n",
       "<tr><td class=\"cell-1\" style=\"\">http://dc8xl0ndzn2cb.cloudfront.net</td> <td class=\"cell-2\" style=\"text-align:right;\">14,066</td> <td class=\"cell-3\" style=\"text-align:right;\">646</td> <td class=\"cell-4\" style=\"text-align:right;\">4.390973</td></tr>\n",
       "<tr><td class=\"cell-1\" style=\"\">http://connect.facebook.net</td> <td class=\"cell-2\" style=\"text-align:right;\">12,708</td> <td class=\"cell-3\" style=\"text-align:right;\">356</td> <td class=\"cell-4\" style=\"text-align:right;\">2.725046</td></tr>\n",
       "    \n",
       "    <tr><td class=\"cell-1\" style=\"\">http://e.monetate.net</td> <td class=\"cell-2\" style=\"text-align:right;\">10,397</td> <td class=\"cell-3\" style=\"text-align:right;\">1,354</td> <td class=\"cell-4\" style=\"text-align:right;\">11.522424</td></tr>\n",
       "<tr><td class=\"cell-1\" style=\"\">https://d.turn.com</td> <td class=\"cell-2\" style=\"text-align:right;\">9,978</td> <td class=\"cell-3\" style=\"text-align:right;\">154</td> <td class=\"cell-4\" style=\"text-align:right;\">1.519937</td></tr>\n",
       "<tr><td class=\"cell-1\" style=\"\">https://px.moatads.com</td> <td class=\"cell-2\" style=\"text-align:right;\">9,292</td> <td class=\"cell-3\" style=\"text-align:right;\">215</td> <td class=\"cell-4\" style=\"text-align:right;\">2.261492</td></tr>\n",
       "<tr><td class=\"cell-1\" style=\"\">http://www.googletagmanager.com</td> <td class=\"cell-2\" style=\"text-align:right;\">8,297</td> <td class=\"cell-3\" style=\"text-align:right;\">369</td> <td class=\"cell-4\" style=\"text-align:right;\">4.25802</td></tr>\n",
       "<tr><td class=\"cell-1\" style=\"\">http://pixel.keywee.co</td> <td class=\"cell-2\" style=\"text-align:right;\">7,851</td> <td class=\"cell-3\" style=\"text-align:right;\">39</td> <td class=\"cell-4\" style=\"text-align:right;\">0.494297</td></tr>\n",
       "<tr><td class=\"cell-1\" style=\"\">http://s7.addthis.com</td> <td class=\"cell-2\" style=\"text-align:right;\">7,768</td> <td class=\"cell-3\" style=\"text-align:right;\">2,007</td> <td class=\"cell-4\" style=\"text-align:right;\">20.531969</td></tr>\n",
       "<tr><td class=\"cell-1\" style=\"\">http://b.scorecardresearch.com</td> <td class=\"cell-2\" style=\"text-align:right;\">7,753</td> <td class=\"cell-3\" style=\"text-align:right;\">766</td> <td class=\"cell-4\" style=\"text-align:right;\">8.991666</td></tr>\n",
       "<tr><td class=\"cell-1\" style=\"\">http://tpc.googlesyndication.com</td> <td class=\"cell-2\" style=\"text-align:right;\">7,419</td> <td class=\"cell-3\" style=\"text-align:right;\">485</td> <td class=\"cell-4\" style=\"text-align:right;\">6.136134</td></tr>\n",
       "<tr><td class=\"cell-1\" style=\"\">https://sync.tidaltv.com</td> <td class=\"cell-2\" style=\"text-align:right;\">6,894</td> <td class=\"cell-3\" style=\"text-align:right;\">464</td> <td class=\"cell-4\" style=\"text-align:right;\">6.306061</td></tr>\n",
       "<tr><td class=\"cell-1\" style=\"\">http://edge.quantserve.com</td> <td class=\"cell-2\" style=\"text-align:right;\">6,733</td> <td class=\"cell-3\" style=\"text-align:right;\">448</td> <td class=\"cell-4\" style=\"text-align:right;\">6.238685</td></tr>\n",
       "<tr><td class=\"cell-1\" style=\"\">http://pixel.quantserve.com</td> <td class=\"cell-2\" style=\"text-align:right;\">6,676</td> <td class=\"cell-3\" style=\"text-align:right;\">131</td> <td class=\"cell-4\" style=\"text-align:right;\">1.924489</td></tr>\n",
       "<tr><td class=\"cell-1\" style=\"\">http://rules.quantcount.com</td> <td class=\"cell-2\" style=\"text-align:right;\">6,651</td> <td class=\"cell-3\" style=\"text-align:right;\">363</td> <td class=\"cell-4\" style=\"text-align:right;\">5.175364</td></tr>\n",
       "<tr><td class=\"cell-1\" style=\"\">http://js.moatads.com</td> <td class=\"cell-2\" style=\"text-align:right;\">6,535</td> <td class=\"cell-3\" style=\"text-align:right;\">1,946</td> <td class=\"cell-4\" style=\"text-align:right;\">22.945407</td></tr>\n",
       "<tr><td class=\"cell-1\" style=\"\">http://natgeovideo.s3.amazonaws.com</td> <td class=\"cell-2\" style=\"text-align:right;\">6,185</td> <td class=\"cell-3\" style=\"text-align:right;\">712</td> <td class=\"cell-4\" style=\"text-align:right;\">10.323329</td></tr>\n",
       "<tr><td class=\"cell-1\" style=\"\">https://assets.nationalgeographic.com</td> <td class=\"cell-2\" style=\"text-align:right;\">5,837</td> <td class=\"cell-3\" style=\"text-align:right;\">467</td> <td class=\"cell-4\" style=\"text-align:right;\">7.407995</td></tr>\n",
       "    </tbody>\n"
      ],
      "text/plain": [
       "HTML{UTF8String}(\"    <table  class=\\\"dataframe-table\\\">\\n    <thead><tr><th class=\\\"cell-1\\\" style=\\\"\\\">Url Group</th> <th class=\\\"cell-2\\\" style=\\\"\\\">Not Cached Cnt</th> <th class=\\\"cell-3\\\" style=\\\"\\\">Cached Cnt</th> <th class=\\\"cell-4\\\" style=\\\"\\\">Cached Ratio</th></tr></thead>\\n    <tbody>\\n    <tr><td class=\\\"cell-1\\\" style=\\\"\\\">http://www.nationalgeographic.com</td> <td class=\\\"cell-2\\\" style=\\\"text-align:right;\\\">49,134</td> <td class=\\\"cell-3\\\" style=\\\"text-align:right;\\\">10,832</td> <td class=\\\"cell-4\\\" style=\\\"text-align:right;\\\">18.063569</td></tr>\\n<tr><td class=\\\"cell-1\\\" style=\\\"\\\">http://www.google-analytics.com</td> <td class=\\\"cell-2\\\" style=\\\"text-align:right;\\\">42,432</td> <td class=\\\"cell-3\\\" style=\\\"text-align:right;\\\">4,161</td> <td class=\\\"cell-4\\\" style=\\\"text-align:right;\\\">8.930526</td></tr>\\n<tr><td class=\\\"cell-1\\\" style=\\\"\\\">http://kids.nationalgeographic.com</td> <td class=\\\"cell-2\\\" style=\\\"text-align:right;\\\">33,197</td> <td class=\\\"cell-3\\\" style=\\\"text-align:right;\\\">32,877</td> <td class=\\\"cell-4\\\" style=\\\"text-align:right;\\\">49.757847</td></tr>\\n<tr><td class=\\\"cell-1\\\" style=\\\"\\\">https://www.facebook.com</td> <td class=\\\"cell-2\\\" style=\\\"text-align:right;\\\">29,834</td> <td class=\\\"cell-3\\\" style=\\\"text-align:right;\\\">393</td> <td class=\\\"cell-4\\\" style=\\\"text-align:right;\\\">1.300162</td></tr>\\n<tr><td class=\\\"cell-1\\\" style=\\\"\\\">http://yourshot.nationalgeographic.com</td> <td class=\\\"cell-2\\\" style=\\\"text-align:right;\\\">27,059</td> <td class=\\\"cell-3\\\" style=\\\"text-align:right;\\\">24,594</td> <td class=\\\"cell-4\\\" style=\\\"text-align:right;\\\">47.613885</td></tr>\\n<tr><td class=\\\"cell-1\\\" style=\\\"\\\">https://securepubads.g.doubleclick.net</td> <td class=\\\"cell-2\\\" style=\\\"text-align:right;\\\">25,767</td> <td class=\\\"cell-3\\\" style=\\\"text-align:right;\\\">7,332</td> <td class=\\\"cell-4\\\" style=\\\"text-align:right;\\\">22.151727</td></tr>\\n<tr><td class=\\\"cell-1\\\" style=\\\"\\\">http://assets.nationalgeographic.com</td> <td class=\\\"cell-2\\\" style=\\\"text-align:right;\\\">24,959</td> <td class=\\\"cell-3\\\" style=\\\"text-align:right;\\\">2,336</td> <td class=\\\"cell-4\\\" style=\\\"text-align:right;\\\">8.558344</td></tr>\\n<tr><td class=\\\"cell-1\\\" style=\\\"\\\">http://news.nationalgeographic.com</td> <td class=\\\"cell-2\\\" style=\\\"text-align:right;\\\">19,351</td> <td class=\\\"cell-3\\\" style=\\\"text-align:right;\\\">4,344</td> <td class=\\\"cell-4\\\" style=\\\"text-align:right;\\\">18.332982</td></tr>\\n<tr><td class=\\\"cell-1\\\" style=\\\"\\\">http://cdn.video.nationalgeographic.com</td> <td class=\\\"cell-2\\\" style=\\\"text-align:right;\\\">18,439</td> <td class=\\\"cell-3\\\" style=\\\"text-align:right;\\\">1,638</td> <td class=\\\"cell-4\\\" style=\\\"text-align:right;\\\">8.158589</td></tr>\\n<tr><td class=\\\"cell-1\\\" style=\\\"\\\">http://channel.nationalgeographic.com</td> <td class=\\\"cell-2\\\" style=\\\"text-align:right;\\\">16,059</td> <td class=\\\"cell-3\\\" style=\\\"text-align:right;\\\">8,770</td> <td class=\\\"cell-4\\\" style=\\\"text-align:right;\\\">35.3216</td></tr>\\n<tr><td class=\\\"cell-1\\\" style=\\\"\\\">http://fonts.ngeo.com</td> <td class=\\\"cell-2\\\" style=\\\"text-align:right;\\\">15,757</td> <td class=\\\"cell-3\\\" style=\\\"text-align:right;\\\">4,654</td> <td class=\\\"cell-4\\\" style=\\\"text-align:right;\\\">22.801431</td></tr>\\n<tr><td class=\\\"cell-1\\\" style=\\\"\\\">http://images.nationalgeographic.com</td> <td class=\\\"cell-2\\\" style=\\\"text-align:right;\\\">14,468</td> <td class=\\\"cell-3\\\" style=\\\"text-align:right;\\\">3,120</td> <td class=\\\"cell-4\\\" style=\\\"text-align:right;\\\">17.739368</td></tr>\\n<tr><td class=\\\"cell-1\\\" style=\\\"\\\">https://tpc.googlesyndication.com</td> <td class=\\\"cell-2\\\" style=\\\"text-align:right;\\\">14,157</td> <td class=\\\"cell-3\\\" style=\\\"text-align:right;\\\">13,097</td> <td class=\\\"cell-4\\\" style=\\\"text-align:right;\\\">48.055331</td></tr>\\n<tr><td class=\\\"cell-1\\\" style=\\\"\\\">http://dc8xl0ndzn2cb.cloudfront.net</td> <td class=\\\"cell-2\\\" style=\\\"text-align:right;\\\">14,066</td> <td class=\\\"cell-3\\\" style=\\\"text-align:right;\\\">646</td> <td class=\\\"cell-4\\\" style=\\\"text-align:right;\\\">4.390973</td></tr>\\n<tr><td class=\\\"cell-1\\\" style=\\\"\\\">http://connect.facebook.net</td> <td class=\\\"cell-2\\\" style=\\\"text-align:right;\\\">12,708</td> <td class=\\\"cell-3\\\" style=\\\"text-align:right;\\\">356</td> <td class=\\\"cell-4\\\" style=\\\"text-align:right;\\\">2.725046</td></tr>\\n    \\n    <tr><td class=\\\"cell-1\\\" style=\\\"\\\">http://e.monetate.net</td> <td class=\\\"cell-2\\\" style=\\\"text-align:right;\\\">10,397</td> <td class=\\\"cell-3\\\" style=\\\"text-align:right;\\\">1,354</td> <td class=\\\"cell-4\\\" style=\\\"text-align:right;\\\">11.522424</td></tr>\\n<tr><td class=\\\"cell-1\\\" style=\\\"\\\">https://d.turn.com</td> <td class=\\\"cell-2\\\" style=\\\"text-align:right;\\\">9,978</td> <td class=\\\"cell-3\\\" style=\\\"text-align:right;\\\">154</td> <td class=\\\"cell-4\\\" style=\\\"text-align:right;\\\">1.519937</td></tr>\\n<tr><td class=\\\"cell-1\\\" style=\\\"\\\">https://px.moatads.com</td> <td class=\\\"cell-2\\\" style=\\\"text-align:right;\\\">9,292</td> <td class=\\\"cell-3\\\" style=\\\"text-align:right;\\\">215</td> <td class=\\\"cell-4\\\" style=\\\"text-align:right;\\\">2.261492</td></tr>\\n<tr><td class=\\\"cell-1\\\" style=\\\"\\\">http://www.googletagmanager.com</td> <td class=\\\"cell-2\\\" style=\\\"text-align:right;\\\">8,297</td> <td class=\\\"cell-3\\\" style=\\\"text-align:right;\\\">369</td> <td class=\\\"cell-4\\\" style=\\\"text-align:right;\\\">4.25802</td></tr>\\n<tr><td class=\\\"cell-1\\\" style=\\\"\\\">http://pixel.keywee.co</td> <td class=\\\"cell-2\\\" style=\\\"text-align:right;\\\">7,851</td> <td class=\\\"cell-3\\\" style=\\\"text-align:right;\\\">39</td> <td class=\\\"cell-4\\\" style=\\\"text-align:right;\\\">0.494297</td></tr>\\n<tr><td class=\\\"cell-1\\\" style=\\\"\\\">http://s7.addthis.com</td> <td class=\\\"cell-2\\\" style=\\\"text-align:right;\\\">7,768</td> <td class=\\\"cell-3\\\" style=\\\"text-align:right;\\\">2,007</td> <td class=\\\"cell-4\\\" style=\\\"text-align:right;\\\">20.531969</td></tr>\\n<tr><td class=\\\"cell-1\\\" style=\\\"\\\">http://b.scorecardresearch.com</td> <td class=\\\"cell-2\\\" style=\\\"text-align:right;\\\">7,753</td> <td class=\\\"cell-3\\\" style=\\\"text-align:right;\\\">766</td> <td class=\\\"cell-4\\\" style=\\\"text-align:right;\\\">8.991666</td></tr>\\n<tr><td class=\\\"cell-1\\\" style=\\\"\\\">http://tpc.googlesyndication.com</td> <td class=\\\"cell-2\\\" style=\\\"text-align:right;\\\">7,419</td> <td class=\\\"cell-3\\\" style=\\\"text-align:right;\\\">485</td> <td class=\\\"cell-4\\\" style=\\\"text-align:right;\\\">6.136134</td></tr>\\n<tr><td class=\\\"cell-1\\\" style=\\\"\\\">https://sync.tidaltv.com</td> <td class=\\\"cell-2\\\" style=\\\"text-align:right;\\\">6,894</td> <td class=\\\"cell-3\\\" style=\\\"text-align:right;\\\">464</td> <td class=\\\"cell-4\\\" style=\\\"text-align:right;\\\">6.306061</td></tr>\\n<tr><td class=\\\"cell-1\\\" style=\\\"\\\">http://edge.quantserve.com</td> <td class=\\\"cell-2\\\" style=\\\"text-align:right;\\\">6,733</td> <td class=\\\"cell-3\\\" style=\\\"text-align:right;\\\">448</td> <td class=\\\"cell-4\\\" style=\\\"text-align:right;\\\">6.238685</td></tr>\\n<tr><td class=\\\"cell-1\\\" style=\\\"\\\">http://pixel.quantserve.com</td> <td class=\\\"cell-2\\\" style=\\\"text-align:right;\\\">6,676</td> <td class=\\\"cell-3\\\" style=\\\"text-align:right;\\\">131</td> <td class=\\\"cell-4\\\" style=\\\"text-align:right;\\\">1.924489</td></tr>\\n<tr><td class=\\\"cell-1\\\" style=\\\"\\\">http://rules.quantcount.com</td> <td class=\\\"cell-2\\\" style=\\\"text-align:right;\\\">6,651</td> <td class=\\\"cell-3\\\" style=\\\"text-align:right;\\\">363</td> <td class=\\\"cell-4\\\" style=\\\"text-align:right;\\\">5.175364</td></tr>\\n<tr><td class=\\\"cell-1\\\" style=\\\"\\\">http://js.moatads.com</td> <td class=\\\"cell-2\\\" style=\\\"text-align:right;\\\">6,535</td> <td class=\\\"cell-3\\\" style=\\\"text-align:right;\\\">1,946</td> <td class=\\\"cell-4\\\" style=\\\"text-align:right;\\\">22.945407</td></tr>\\n<tr><td class=\\\"cell-1\\\" style=\\\"\\\">http://natgeovideo.s3.amazonaws.com</td> <td class=\\\"cell-2\\\" style=\\\"text-align:right;\\\">6,185</td> <td class=\\\"cell-3\\\" style=\\\"text-align:right;\\\">712</td> <td class=\\\"cell-4\\\" style=\\\"text-align:right;\\\">10.323329</td></tr>\\n<tr><td class=\\\"cell-1\\\" style=\\\"\\\">https://assets.nationalgeographic.com</td> <td class=\\\"cell-2\\\" style=\\\"text-align:right;\\\">5,837</td> <td class=\\\"cell-3\\\" style=\\\"text-align:right;\\\">467</td> <td class=\\\"cell-4\\\" style=\\\"text-align:right;\\\">7.407995</td></tr>\\n    </tbody>\\n\")"
      ]
     },
     "metadata": {},
     "output_type": "display_data"
    },
    {
     "data": {
      "text/html": [
       "<div class=\"dswbOutputText\"><h1 class=\"chart_title\" style=\"color:#ccc\">Spike: Cache Hit Ratio By URL Groups Across All Sessions</h1><h3 class=\"chart_info\" style=\"color:#ccc\">June 8, 2017 11:49:00 to June 8, 2017 11:59:00 Local Time</h3></div>"
      ]
     },
     "metadata": {},
     "output_type": "display_data"
    },
    {
     "data": {
      "text/html": [
       "    <table  class=\"dataframe-table\">\n",
       "    <thead><tr><th class=\"cell-1\" style=\"\">Url Group</th> <th class=\"cell-2\" style=\"\">Not Cached Cnt</th> <th class=\"cell-3\" style=\"\">Cached Cnt</th> <th class=\"cell-4\" style=\"\">Cached Ratio</th></tr></thead>\n",
       "    <tbody>\n",
       "    <tr><td class=\"cell-1\" style=\"\">http://www.nationalgeographic.com</td> <td class=\"cell-2\" style=\"text-align:right;\">42,704</td> <td class=\"cell-3\" style=\"text-align:right;\">8,764</td> <td class=\"cell-4\" style=\"text-align:right;\">17.028056</td></tr>\n",
       "<tr><td class=\"cell-1\" style=\"\">http://www.google-analytics.com</td> <td class=\"cell-2\" style=\"text-align:right;\">39,038</td> <td class=\"cell-3\" style=\"text-align:right;\">3,512</td> <td class=\"cell-4\" style=\"text-align:right;\">8.253819</td></tr>\n",
       "<tr><td class=\"cell-1\" style=\"\">http://kids.nationalgeographic.com</td> <td class=\"cell-2\" style=\"text-align:right;\">32,824</td> <td class=\"cell-3\" style=\"text-align:right;\">25,512</td> <td class=\"cell-4\" style=\"text-align:right;\">43.732858</td></tr>\n",
       "<tr><td class=\"cell-1\" style=\"\">https://www.facebook.com</td> <td class=\"cell-2\" style=\"text-align:right;\">26,448</td> <td class=\"cell-3\" style=\"text-align:right;\">342</td> <td class=\"cell-4\" style=\"text-align:right;\">1.276596</td></tr>\n",
       "<tr><td class=\"cell-1\" style=\"\">https://securepubads.g.doubleclick.net</td> <td class=\"cell-2\" style=\"text-align:right;\">26,090</td> <td class=\"cell-3\" style=\"text-align:right;\">7,144</td> <td class=\"cell-4\" style=\"text-align:right;\">21.496058</td></tr>\n",
       "<tr><td class=\"cell-1\" style=\"\">http://yourshot.nationalgeographic.com</td> <td class=\"cell-2\" style=\"text-align:right;\">24,344</td> <td class=\"cell-3\" style=\"text-align:right;\">17,867</td> <td class=\"cell-4\" style=\"text-align:right;\">42.327829</td></tr>\n",
       "<tr><td class=\"cell-1\" style=\"\">http://news.nationalgeographic.com</td> <td class=\"cell-2\" style=\"text-align:right;\">21,540</td> <td class=\"cell-3\" style=\"text-align:right;\">4,735</td> <td class=\"cell-4\" style=\"text-align:right;\">18.020932</td></tr>\n",
       "<tr><td class=\"cell-1\" style=\"\">http://assets.nationalgeographic.com</td> <td class=\"cell-2\" style=\"text-align:right;\">20,175</td> <td class=\"cell-3\" style=\"text-align:right;\">1,589</td> <td class=\"cell-4\" style=\"text-align:right;\">7.301048</td></tr>\n",
       "<tr><td class=\"cell-1\" style=\"\">https://tpc.googlesyndication.com</td> <td class=\"cell-2\" style=\"text-align:right;\">14,959</td> <td class=\"cell-3\" style=\"text-align:right;\">13,735</td> <td class=\"cell-4\" style=\"text-align:right;\">47.86715</td></tr>\n",
       "<tr><td class=\"cell-1\" style=\"\">http://fonts.ngeo.com</td> <td class=\"cell-2\" style=\"text-align:right;\">14,815</td> <td class=\"cell-3\" style=\"text-align:right;\">3,900</td> <td class=\"cell-4\" style=\"text-align:right;\">20.838899</td></tr>\n",
       "<tr><td class=\"cell-1\" style=\"\">http://dc8xl0ndzn2cb.cloudfront.net</td> <td class=\"cell-2\" style=\"text-align:right;\">12,865</td> <td class=\"cell-3\" style=\"text-align:right;\">477</td> <td class=\"cell-4\" style=\"text-align:right;\">3.575176</td></tr>\n",
       "<tr><td class=\"cell-1\" style=\"\">http://channel.nationalgeographic.com</td> <td class=\"cell-2\" style=\"text-align:right;\">12,213</td> <td class=\"cell-3\" style=\"text-align:right;\">6,250</td> <td class=\"cell-4\" style=\"text-align:right;\">33.851487</td></tr>\n",
       "<tr><td class=\"cell-1\" style=\"\">http://connect.facebook.net</td> <td class=\"cell-2\" style=\"text-align:right;\">11,682</td> <td class=\"cell-3\" style=\"text-align:right;\">326</td> <td class=\"cell-4\" style=\"text-align:right;\">2.714857</td></tr>\n",
       "<tr><td class=\"cell-1\" style=\"\">http://images.nationalgeographic.com</td> <td class=\"cell-2\" style=\"text-align:right;\">11,644</td> <td class=\"cell-3\" style=\"text-align:right;\">1,986</td> <td class=\"cell-4\" style=\"text-align:right;\">14.5708</td></tr>\n",
       "<tr><td class=\"cell-1\" style=\"\">http://cdn.video.nationalgeographic.com</td> <td class=\"cell-2\" style=\"text-align:right;\">11,070</td> <td class=\"cell-3\" style=\"text-align:right;\">699</td> <td class=\"cell-4\" style=\"text-align:right;\">5.939332</td></tr>\n",
       "    \n",
       "    <tr><td class=\"cell-1\" style=\"\">http://e.monetate.net</td> <td class=\"cell-2\" style=\"text-align:right;\">9,794</td> <td class=\"cell-3\" style=\"text-align:right;\">1,122</td> <td class=\"cell-4\" style=\"text-align:right;\">10.27849</td></tr>\n",
       "<tr><td class=\"cell-1\" style=\"\">https://px.moatads.com</td> <td class=\"cell-2\" style=\"text-align:right;\">9,447</td> <td class=\"cell-3\" style=\"text-align:right;\">113</td> <td class=\"cell-4\" style=\"text-align:right;\">1.182008</td></tr>\n",
       "<tr><td class=\"cell-1\" style=\"\">https://d.turn.com</td> <td class=\"cell-2\" style=\"text-align:right;\">9,239</td> <td class=\"cell-3\" style=\"text-align:right;\">145</td> <td class=\"cell-4\" style=\"text-align:right;\">1.545183</td></tr>\n",
       "<tr><td class=\"cell-1\" style=\"\">http://www.googletagmanager.com</td> <td class=\"cell-2\" style=\"text-align:right;\">7,330</td> <td class=\"cell-3\" style=\"text-align:right;\">259</td> <td class=\"cell-4\" style=\"text-align:right;\">3.412834</td></tr>\n",
       "<tr><td class=\"cell-1\" style=\"\">http://js.moatads.com</td> <td class=\"cell-2\" style=\"text-align:right;\">7,200</td> <td class=\"cell-3\" style=\"text-align:right;\">2,087</td> <td class=\"cell-4\" style=\"text-align:right;\">22.472273</td></tr>\n",
       "<tr><td class=\"cell-1\" style=\"\">http://pixel.keywee.co</td> <td class=\"cell-2\" style=\"text-align:right;\">7,113</td> <td class=\"cell-3\" style=\"text-align:right;\">50</td> <td class=\"cell-4\" style=\"text-align:right;\">0.698032</td></tr>\n",
       "<tr><td class=\"cell-1\" style=\"\">http://tpc.googlesyndication.com</td> <td class=\"cell-2\" style=\"text-align:right;\">7,075</td> <td class=\"cell-3\" style=\"text-align:right;\">516</td> <td class=\"cell-4\" style=\"text-align:right;\">6.797523</td></tr>\n",
       "<tr><td class=\"cell-1\" style=\"\">http://b.scorecardresearch.com</td> <td class=\"cell-2\" style=\"text-align:right;\">7,031</td> <td class=\"cell-3\" style=\"text-align:right;\">736</td> <td class=\"cell-4\" style=\"text-align:right;\">9.475988</td></tr>\n",
       "<tr><td class=\"cell-1\" style=\"\">http://s7.addthis.com</td> <td class=\"cell-2\" style=\"text-align:right;\">6,707</td> <td class=\"cell-3\" style=\"text-align:right;\">1,553</td> <td class=\"cell-4\" style=\"text-align:right;\">18.801453</td></tr>\n",
       "<tr><td class=\"cell-1\" style=\"\">https://sync.tidaltv.com</td> <td class=\"cell-2\" style=\"text-align:right;\">6,491</td> <td class=\"cell-3\" style=\"text-align:right;\">369</td> <td class=\"cell-4\" style=\"text-align:right;\">5.379009</td></tr>\n",
       "<tr><td class=\"cell-1\" style=\"\">http://edge.quantserve.com</td> <td class=\"cell-2\" style=\"text-align:right;\">6,168</td> <td class=\"cell-3\" style=\"text-align:right;\">389</td> <td class=\"cell-4\" style=\"text-align:right;\">5.932591</td></tr>\n",
       "<tr><td class=\"cell-1\" style=\"\">http://rules.quantcount.com</td> <td class=\"cell-2\" style=\"text-align:right;\">6,158</td> <td class=\"cell-3\" style=\"text-align:right;\">246</td> <td class=\"cell-4\" style=\"text-align:right;\">3.841349</td></tr>\n",
       "<tr><td class=\"cell-1\" style=\"\">http://player.foxdcg.com</td> <td class=\"cell-2\" style=\"text-align:right;\">6,128</td> <td class=\"cell-3\" style=\"text-align:right;\">139</td> <td class=\"cell-4\" style=\"text-align:right;\">2.217967</td></tr>\n",
       "<tr><td class=\"cell-1\" style=\"\">http://pixel.quantserve.com</td> <td class=\"cell-2\" style=\"text-align:right;\">6,041</td> <td class=\"cell-3\" style=\"text-align:right;\">128</td> <td class=\"cell-4\" style=\"text-align:right;\">2.074891</td></tr>\n",
       "<tr><td class=\"cell-1\" style=\"\">http://pagead2.googlesyndication.com</td> <td class=\"cell-2\" style=\"text-align:right;\">5,690</td> <td class=\"cell-3\" style=\"text-align:right;\">1,321</td> <td class=\"cell-4\" style=\"text-align:right;\">18.84182</td></tr>\n",
       "    </tbody>\n"
      ],
      "text/plain": [
       "HTML{UTF8String}(\"    <table  class=\\\"dataframe-table\\\">\\n    <thead><tr><th class=\\\"cell-1\\\" style=\\\"\\\">Url Group</th> <th class=\\\"cell-2\\\" style=\\\"\\\">Not Cached Cnt</th> <th class=\\\"cell-3\\\" style=\\\"\\\">Cached Cnt</th> <th class=\\\"cell-4\\\" style=\\\"\\\">Cached Ratio</th></tr></thead>\\n    <tbody>\\n    <tr><td class=\\\"cell-1\\\" style=\\\"\\\">http://www.nationalgeographic.com</td> <td class=\\\"cell-2\\\" style=\\\"text-align:right;\\\">42,704</td> <td class=\\\"cell-3\\\" style=\\\"text-align:right;\\\">8,764</td> <td class=\\\"cell-4\\\" style=\\\"text-align:right;\\\">17.028056</td></tr>\\n<tr><td class=\\\"cell-1\\\" style=\\\"\\\">http://www.google-analytics.com</td> <td class=\\\"cell-2\\\" style=\\\"text-align:right;\\\">39,038</td> <td class=\\\"cell-3\\\" style=\\\"text-align:right;\\\">3,512</td> <td class=\\\"cell-4\\\" style=\\\"text-align:right;\\\">8.253819</td></tr>\\n<tr><td class=\\\"cell-1\\\" style=\\\"\\\">http://kids.nationalgeographic.com</td> <td class=\\\"cell-2\\\" style=\\\"text-align:right;\\\">32,824</td> <td class=\\\"cell-3\\\" style=\\\"text-align:right;\\\">25,512</td> <td class=\\\"cell-4\\\" style=\\\"text-align:right;\\\">43.732858</td></tr>\\n<tr><td class=\\\"cell-1\\\" style=\\\"\\\">https://www.facebook.com</td> <td class=\\\"cell-2\\\" style=\\\"text-align:right;\\\">26,448</td> <td class=\\\"cell-3\\\" style=\\\"text-align:right;\\\">342</td> <td class=\\\"cell-4\\\" style=\\\"text-align:right;\\\">1.276596</td></tr>\\n<tr><td class=\\\"cell-1\\\" style=\\\"\\\">https://securepubads.g.doubleclick.net</td> <td class=\\\"cell-2\\\" style=\\\"text-align:right;\\\">26,090</td> <td class=\\\"cell-3\\\" style=\\\"text-align:right;\\\">7,144</td> <td class=\\\"cell-4\\\" style=\\\"text-align:right;\\\">21.496058</td></tr>\\n<tr><td class=\\\"cell-1\\\" style=\\\"\\\">http://yourshot.nationalgeographic.com</td> <td class=\\\"cell-2\\\" style=\\\"text-align:right;\\\">24,344</td> <td class=\\\"cell-3\\\" style=\\\"text-align:right;\\\">17,867</td> <td class=\\\"cell-4\\\" style=\\\"text-align:right;\\\">42.327829</td></tr>\\n<tr><td class=\\\"cell-1\\\" style=\\\"\\\">http://news.nationalgeographic.com</td> <td class=\\\"cell-2\\\" style=\\\"text-align:right;\\\">21,540</td> <td class=\\\"cell-3\\\" style=\\\"text-align:right;\\\">4,735</td> <td class=\\\"cell-4\\\" style=\\\"text-align:right;\\\">18.020932</td></tr>\\n<tr><td class=\\\"cell-1\\\" style=\\\"\\\">http://assets.nationalgeographic.com</td> <td class=\\\"cell-2\\\" style=\\\"text-align:right;\\\">20,175</td> <td class=\\\"cell-3\\\" style=\\\"text-align:right;\\\">1,589</td> <td class=\\\"cell-4\\\" style=\\\"text-align:right;\\\">7.301048</td></tr>\\n<tr><td class=\\\"cell-1\\\" style=\\\"\\\">https://tpc.googlesyndication.com</td> <td class=\\\"cell-2\\\" style=\\\"text-align:right;\\\">14,959</td> <td class=\\\"cell-3\\\" style=\\\"text-align:right;\\\">13,735</td> <td class=\\\"cell-4\\\" style=\\\"text-align:right;\\\">47.86715</td></tr>\\n<tr><td class=\\\"cell-1\\\" style=\\\"\\\">http://fonts.ngeo.com</td> <td class=\\\"cell-2\\\" style=\\\"text-align:right;\\\">14,815</td> <td class=\\\"cell-3\\\" style=\\\"text-align:right;\\\">3,900</td> <td class=\\\"cell-4\\\" style=\\\"text-align:right;\\\">20.838899</td></tr>\\n<tr><td class=\\\"cell-1\\\" style=\\\"\\\">http://dc8xl0ndzn2cb.cloudfront.net</td> <td class=\\\"cell-2\\\" style=\\\"text-align:right;\\\">12,865</td> <td class=\\\"cell-3\\\" style=\\\"text-align:right;\\\">477</td> <td class=\\\"cell-4\\\" style=\\\"text-align:right;\\\">3.575176</td></tr>\\n<tr><td class=\\\"cell-1\\\" style=\\\"\\\">http://channel.nationalgeographic.com</td> <td class=\\\"cell-2\\\" style=\\\"text-align:right;\\\">12,213</td> <td class=\\\"cell-3\\\" style=\\\"text-align:right;\\\">6,250</td> <td class=\\\"cell-4\\\" style=\\\"text-align:right;\\\">33.851487</td></tr>\\n<tr><td class=\\\"cell-1\\\" style=\\\"\\\">http://connect.facebook.net</td> <td class=\\\"cell-2\\\" style=\\\"text-align:right;\\\">11,682</td> <td class=\\\"cell-3\\\" style=\\\"text-align:right;\\\">326</td> <td class=\\\"cell-4\\\" style=\\\"text-align:right;\\\">2.714857</td></tr>\\n<tr><td class=\\\"cell-1\\\" style=\\\"\\\">http://images.nationalgeographic.com</td> <td class=\\\"cell-2\\\" style=\\\"text-align:right;\\\">11,644</td> <td class=\\\"cell-3\\\" style=\\\"text-align:right;\\\">1,986</td> <td class=\\\"cell-4\\\" style=\\\"text-align:right;\\\">14.5708</td></tr>\\n<tr><td class=\\\"cell-1\\\" style=\\\"\\\">http://cdn.video.nationalgeographic.com</td> <td class=\\\"cell-2\\\" style=\\\"text-align:right;\\\">11,070</td> <td class=\\\"cell-3\\\" style=\\\"text-align:right;\\\">699</td> <td class=\\\"cell-4\\\" style=\\\"text-align:right;\\\">5.939332</td></tr>\\n    \\n    <tr><td class=\\\"cell-1\\\" style=\\\"\\\">http://e.monetate.net</td> <td class=\\\"cell-2\\\" style=\\\"text-align:right;\\\">9,794</td> <td class=\\\"cell-3\\\" style=\\\"text-align:right;\\\">1,122</td> <td class=\\\"cell-4\\\" style=\\\"text-align:right;\\\">10.27849</td></tr>\\n<tr><td class=\\\"cell-1\\\" style=\\\"\\\">https://px.moatads.com</td> <td class=\\\"cell-2\\\" style=\\\"text-align:right;\\\">9,447</td> <td class=\\\"cell-3\\\" style=\\\"text-align:right;\\\">113</td> <td class=\\\"cell-4\\\" style=\\\"text-align:right;\\\">1.182008</td></tr>\\n<tr><td class=\\\"cell-1\\\" style=\\\"\\\">https://d.turn.com</td> <td class=\\\"cell-2\\\" style=\\\"text-align:right;\\\">9,239</td> <td class=\\\"cell-3\\\" style=\\\"text-align:right;\\\">145</td> <td class=\\\"cell-4\\\" style=\\\"text-align:right;\\\">1.545183</td></tr>\\n<tr><td class=\\\"cell-1\\\" style=\\\"\\\">http://www.googletagmanager.com</td> <td class=\\\"cell-2\\\" style=\\\"text-align:right;\\\">7,330</td> <td class=\\\"cell-3\\\" style=\\\"text-align:right;\\\">259</td> <td class=\\\"cell-4\\\" style=\\\"text-align:right;\\\">3.412834</td></tr>\\n<tr><td class=\\\"cell-1\\\" style=\\\"\\\">http://js.moatads.com</td> <td class=\\\"cell-2\\\" style=\\\"text-align:right;\\\">7,200</td> <td class=\\\"cell-3\\\" style=\\\"text-align:right;\\\">2,087</td> <td class=\\\"cell-4\\\" style=\\\"text-align:right;\\\">22.472273</td></tr>\\n<tr><td class=\\\"cell-1\\\" style=\\\"\\\">http://pixel.keywee.co</td> <td class=\\\"cell-2\\\" style=\\\"text-align:right;\\\">7,113</td> <td class=\\\"cell-3\\\" style=\\\"text-align:right;\\\">50</td> <td class=\\\"cell-4\\\" style=\\\"text-align:right;\\\">0.698032</td></tr>\\n<tr><td class=\\\"cell-1\\\" style=\\\"\\\">http://tpc.googlesyndication.com</td> <td class=\\\"cell-2\\\" style=\\\"text-align:right;\\\">7,075</td> <td class=\\\"cell-3\\\" style=\\\"text-align:right;\\\">516</td> <td class=\\\"cell-4\\\" style=\\\"text-align:right;\\\">6.797523</td></tr>\\n<tr><td class=\\\"cell-1\\\" style=\\\"\\\">http://b.scorecardresearch.com</td> <td class=\\\"cell-2\\\" style=\\\"text-align:right;\\\">7,031</td> <td class=\\\"cell-3\\\" style=\\\"text-align:right;\\\">736</td> <td class=\\\"cell-4\\\" style=\\\"text-align:right;\\\">9.475988</td></tr>\\n<tr><td class=\\\"cell-1\\\" style=\\\"\\\">http://s7.addthis.com</td> <td class=\\\"cell-2\\\" style=\\\"text-align:right;\\\">6,707</td> <td class=\\\"cell-3\\\" style=\\\"text-align:right;\\\">1,553</td> <td class=\\\"cell-4\\\" style=\\\"text-align:right;\\\">18.801453</td></tr>\\n<tr><td class=\\\"cell-1\\\" style=\\\"\\\">https://sync.tidaltv.com</td> <td class=\\\"cell-2\\\" style=\\\"text-align:right;\\\">6,491</td> <td class=\\\"cell-3\\\" style=\\\"text-align:right;\\\">369</td> <td class=\\\"cell-4\\\" style=\\\"text-align:right;\\\">5.379009</td></tr>\\n<tr><td class=\\\"cell-1\\\" style=\\\"\\\">http://edge.quantserve.com</td> <td class=\\\"cell-2\\\" style=\\\"text-align:right;\\\">6,168</td> <td class=\\\"cell-3\\\" style=\\\"text-align:right;\\\">389</td> <td class=\\\"cell-4\\\" style=\\\"text-align:right;\\\">5.932591</td></tr>\\n<tr><td class=\\\"cell-1\\\" style=\\\"\\\">http://rules.quantcount.com</td> <td class=\\\"cell-2\\\" style=\\\"text-align:right;\\\">6,158</td> <td class=\\\"cell-3\\\" style=\\\"text-align:right;\\\">246</td> <td class=\\\"cell-4\\\" style=\\\"text-align:right;\\\">3.841349</td></tr>\\n<tr><td class=\\\"cell-1\\\" style=\\\"\\\">http://player.foxdcg.com</td> <td class=\\\"cell-2\\\" style=\\\"text-align:right;\\\">6,128</td> <td class=\\\"cell-3\\\" style=\\\"text-align:right;\\\">139</td> <td class=\\\"cell-4\\\" style=\\\"text-align:right;\\\">2.217967</td></tr>\\n<tr><td class=\\\"cell-1\\\" style=\\\"\\\">http://pixel.quantserve.com</td> <td class=\\\"cell-2\\\" style=\\\"text-align:right;\\\">6,041</td> <td class=\\\"cell-3\\\" style=\\\"text-align:right;\\\">128</td> <td class=\\\"cell-4\\\" style=\\\"text-align:right;\\\">2.074891</td></tr>\\n<tr><td class=\\\"cell-1\\\" style=\\\"\\\">http://pagead2.googlesyndication.com</td> <td class=\\\"cell-2\\\" style=\\\"text-align:right;\\\">5,690</td> <td class=\\\"cell-3\\\" style=\\\"text-align:right;\\\">1,321</td> <td class=\\\"cell-4\\\" style=\\\"text-align:right;\\\">18.84182</td></tr>\\n    </tbody>\\n\")"
      ]
     },
     "metadata": {},
     "output_type": "display_data"
    }
   ],
   "source": [
    "cacheHitRatioSDMRS(timeNormal,urlNormal,\"Normal\")\n",
    "cacheHitRatioSDMRS(timeSpike,urlSpike,\"Spike\")\n",
    ";"
   ]
  },
  {
   "cell_type": "markdown",
   "metadata": {},
   "source": [
    "***\n",
    "## All Done\n",
    "***"
   ]
  },
  {
   "cell_type": "code",
   "execution_count": 10,
   "metadata": {
    "collapsed": false,
    "input_collapsed": false
   },
   "outputs": [],
   "source": [
    "q = query(\"\"\" drop view if exists $(urlNormal.rtView);\"\"\")\n",
    "q = query(\"\"\" drop view if exists $(urlSpike.rtView);\"\"\")\n",
    ";"
   ]
  },
  {
   "cell_type": "code",
   "execution_count": null,
   "metadata": {
    "collapsed": true,
    "input_collapsed": true
   },
   "outputs": [],
   "source": []
  }
 ],
 "metadata": {
  "celltoolbar": "Raw Cell Format",
  "kernelspec": {
   "display_name": "Julia 0.4.7",
   "language": "julia",
   "name": "julia-0.4"
  },
  "language_info": {
   "file_extension": ".jl",
   "mimetype": "application/julia",
   "name": "julia",
   "version": "0.4.7"
  },
  "library_version": "1.0.0",
  "notebook_uuid": "223698a6-ade0-4161-8dd6-a7e3995abf69",
  "readOnly": false
 },
 "nbformat": 4,
 "nbformat_minor": 0
}
