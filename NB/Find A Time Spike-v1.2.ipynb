{
 "cells": [
  {
   "cell_type": "markdown",
   "metadata": {},
   "source": [
    "## Tables and Data Source setup"
   ]
  },
  {
   "cell_type": "code",
   "execution_count": 1,
   "metadata": {
    "collapsed": false,
    "input_collapsed": false,
    "scrolled": true
   },
   "outputs": [
    {
     "name": "stdout",
     "output_type": "stream",
     "text": [
      "Redshift endpoint set: 2017-06-09T10:01:24\n"
     ]
    },
    {
     "data": {
      "text/plain": [
       "\"beacons_4744\""
      ]
     },
     "execution_count": 1,
     "metadata": {},
     "output_type": "execute_result"
    }
   ],
   "source": [
    "using ODBC\n",
    "using DataFrames\n",
    "using DSWB\n",
    "using Formatting\n",
    "\n",
    "dsn = \"dswb-natgeo\" # Redshift endpoint\n",
    "table = \"beacons_4744\" # beacon table name\n",
    "tableRt = \"beacons_4744_rt\"\n",
    "\n",
    "# Connect to Beacon Data\n",
    "setRedshiftEndpoint(dsn)\n",
    "setTable(table)\n",
    "# setTable(tableRt, tableType = \"RESOURCE_TABLE\")"
   ]
  },
  {
   "cell_type": "code",
   "execution_count": 2,
   "metadata": {
    "collapsed": false,
    "input_collapsed": false
   },
   "outputs": [
    {
     "name": "stdout",
     "output_type": "stream",
     "text": [
      "June 8, 2017 10:59:00 to June 8, 2017 12:59:00 Local Time\n",
      "June 8, 2017 14:59:00 to June 8, 2017 16:59:00 UTC Time\n"
     ]
    }
   ],
   "source": [
    "# Packages\n",
    "include(\"/data/notebook_home/Production/Lib/Include-Package-v1.0.jl\")\n",
    "include(\"/data/notebook_home/Production/Bodies/Find-A-Time-Spike-Body-v1.2.jl\")\n",
    "\n",
    "timeVariables(2017,6,8,10,59,2017,6,8,12,59)\n",
    "#weeklyTimeVariables(days=1)\n",
    "#yesterdayTimeVariables()\n",
    ";"
   ]
  },
  {
   "cell_type": "code",
   "execution_count": 3,
   "metadata": {
    "collapsed": false,
    "input_collapsed": false,
    "scrolled": true
   },
   "outputs": [],
   "source": [
    "UP = UrlParamsInit()\n",
    "UP.beaconTable = table   #table\n",
    "UP.resourceTable = tableRt\n",
    "UP.btView = \"$(table)_tspike_pview_prod\" #localtable\n",
    "UP.rtView = \"$(tableRt)_tspike_pview_prod\" #localtableRt\n",
    "UP.pageGroup = \"Your Shot\"   #productPageGroup\n",
    "UP.urlRegEx = \"%\"   #localUrl\n",
    "UP.deviceType = \"Mobile\"\n",
    "\n",
    "SG = SoastaGraphsInit()\n",
    "customer = \"Nat Geo\" \n",
    "SG.customer = customer\n",
    "\n",
    "SP = ShowParamsInit()\n",
    "SP.debugLevel = 10;\n",
    "SP.debug = true;\n",
    ";"
   ]
  },
  {
   "cell_type": "code",
   "execution_count": 4,
   "metadata": {
    "collapsed": false,
    "input_collapsed": false
   },
   "outputs": [],
   "source": [
    "defaultTableFATS(tv,UP)\n",
    ";"
   ]
  },
  {
   "cell_type": "code",
   "execution_count": 5,
   "metadata": {
    "collapsed": false,
    "input_collapsed": false
   },
   "outputs": [],
   "source": [
    "#try\n",
    "#    setTable(UP.btView)\n",
    "#    firstAndLast = getBeaconsFirstAndLast()\n",
    "#catch y\n",
    "#    println(\"firstLast exception \",y)\n",
    "#end    "
   ]
  },
  {
   "cell_type": "code",
   "execution_count": 6,
   "metadata": {
    "collapsed": false,
    "input_collapsed": false,
    "scrolled": true
   },
   "outputs": [
    {
     "data": {
      "text/html": [
       "<div class=\"dswbOutputText\"><h1 class=\"chart_title\" style=\"color:#ccc\">Raw Data Stats Including Those above 600 seconds for Your Shot</h1><h3 class=\"chart_info\" style=\"color:#ccc\">June 8, 2017 10:59:00 to June 8, 2017 12:59:00 Local Time</h3></div>"
      ]
     },
     "metadata": {},
     "output_type": "display_data"
    },
    {
     "data": {
      "text/html": [
       "    <table  class=\"dataframe-table\">\n",
       "    <thead><tr><th class=\"cell-1\" style=\"\">unit</th> <th class=\"cell-2\" style=\"\">count</th> <th class=\"cell-3\" style=\"\">mean</th> <th class=\"cell-4\" style=\"\">median</th> <th class=\"cell-5\" style=\"\">stddev</th> <th class=\"cell-6\" style=\"\">min</th> <th class=\"cell-7\" style=\"\">max</th> <th class=\"cell-8\" style=\"\">LowerBy25p</th> <th class=\"cell-9\" style=\"\">UpperBy25p</th> <th class=\"cell-10\" style=\"\">LowerBy3Stddev</th> <th class=\"cell-11\" style=\"\">UpperBy3Stddev</th></tr></thead>\n",
       "    <tbody>\n",
       "    <tr><td class=\"cell-1\" style=\"\">milliseconds</td> <td class=\"cell-2\" style=\"text-align:right;\">16,274</td> <td class=\"cell-3\" style=\"text-align:right;\">10,778</td> <td class=\"cell-4\" style=\"text-align:right;\">5,280</td> <td class=\"cell-5\" style=\"text-align:right;\">29,570</td> <td class=\"cell-6\" style=\"text-align:right;\">239</td> <td class=\"cell-7\" style=\"text-align:right;\">664,250</td> <td class=\"cell-8\" style=\"text-align:right;\">3,960</td> <td class=\"cell-9\" style=\"text-align:right;\">6,600</td> <td class=\"cell-10\" style=\"text-align:right;\">1,000</td> <td class=\"cell-11\" style=\"text-align:right;\">93,990</td></tr>\n",
       "<tr><td class=\"cell-1\" style=\"\">seconds</td> <td class=\"cell-2\" style=\"text-align:right;\">16,274</td> <td class=\"cell-3\" style=\"text-align:right;\">10.778</td> <td class=\"cell-4\" style=\"text-align:right;\">5.28</td> <td class=\"cell-5\" style=\"text-align:right;\">29.57</td> <td class=\"cell-6\" style=\"text-align:right;\">0.239</td> <td class=\"cell-7\" style=\"text-align:right;\">664.25</td> <td class=\"cell-8\" style=\"text-align:right;\">3.96</td> <td class=\"cell-9\" style=\"text-align:right;\">6.6</td> <td class=\"cell-10\" style=\"text-align:right;\">1</td> <td class=\"cell-11\" style=\"text-align:right;\">93.99</td></tr>\n",
       "    \n",
       "    <tr><td class=\"cell-1\" style=\"\">minutes</td> <td class=\"cell-2\" style=\"text-align:right;\">16,274</td> <td class=\"cell-3\" style=\"text-align:right;\">0.2</td> <td class=\"cell-4\" style=\"text-align:right;\">0.1</td> <td class=\"cell-5\" style=\"text-align:right;\">0.5</td> <td class=\"cell-6\" style=\"text-align:right;\">0</td> <td class=\"cell-7\" style=\"text-align:right;\">11.1</td> <td class=\"cell-8\" style=\"text-align:right;\">0.1</td> <td class=\"cell-9\" style=\"text-align:right;\">0.1</td> <td class=\"cell-10\" style=\"text-align:right;\">0</td> <td class=\"cell-11\" style=\"text-align:right;\">1.6</td></tr>\n",
       "    </tbody>\n"
      ],
      "text/plain": [
       "HTML{UTF8String}(\"    <table  class=\\\"dataframe-table\\\">\\n    <thead><tr><th class=\\\"cell-1\\\" style=\\\"\\\">unit</th> <th class=\\\"cell-2\\\" style=\\\"\\\">count</th> <th class=\\\"cell-3\\\" style=\\\"\\\">mean</th> <th class=\\\"cell-4\\\" style=\\\"\\\">median</th> <th class=\\\"cell-5\\\" style=\\\"\\\">stddev</th> <th class=\\\"cell-6\\\" style=\\\"\\\">min</th> <th class=\\\"cell-7\\\" style=\\\"\\\">max</th> <th class=\\\"cell-8\\\" style=\\\"\\\">LowerBy25p</th> <th class=\\\"cell-9\\\" style=\\\"\\\">UpperBy25p</th> <th class=\\\"cell-10\\\" style=\\\"\\\">LowerBy3Stddev</th> <th class=\\\"cell-11\\\" style=\\\"\\\">UpperBy3Stddev</th></tr></thead>\\n    <tbody>\\n    <tr><td class=\\\"cell-1\\\" style=\\\"\\\">milliseconds</td> <td class=\\\"cell-2\\\" style=\\\"text-align:right;\\\">16,274</td> <td class=\\\"cell-3\\\" style=\\\"text-align:right;\\\">10,778</td> <td class=\\\"cell-4\\\" style=\\\"text-align:right;\\\">5,280</td> <td class=\\\"cell-5\\\" style=\\\"text-align:right;\\\">29,570</td> <td class=\\\"cell-6\\\" style=\\\"text-align:right;\\\">239</td> <td class=\\\"cell-7\\\" style=\\\"text-align:right;\\\">664,250</td> <td class=\\\"cell-8\\\" style=\\\"text-align:right;\\\">3,960</td> <td class=\\\"cell-9\\\" style=\\\"text-align:right;\\\">6,600</td> <td class=\\\"cell-10\\\" style=\\\"text-align:right;\\\">1,000</td> <td class=\\\"cell-11\\\" style=\\\"text-align:right;\\\">93,990</td></tr>\\n<tr><td class=\\\"cell-1\\\" style=\\\"\\\">seconds</td> <td class=\\\"cell-2\\\" style=\\\"text-align:right;\\\">16,274</td> <td class=\\\"cell-3\\\" style=\\\"text-align:right;\\\">10.778</td> <td class=\\\"cell-4\\\" style=\\\"text-align:right;\\\">5.28</td> <td class=\\\"cell-5\\\" style=\\\"text-align:right;\\\">29.57</td> <td class=\\\"cell-6\\\" style=\\\"text-align:right;\\\">0.239</td> <td class=\\\"cell-7\\\" style=\\\"text-align:right;\\\">664.25</td> <td class=\\\"cell-8\\\" style=\\\"text-align:right;\\\">3.96</td> <td class=\\\"cell-9\\\" style=\\\"text-align:right;\\\">6.6</td> <td class=\\\"cell-10\\\" style=\\\"text-align:right;\\\">1</td> <td class=\\\"cell-11\\\" style=\\\"text-align:right;\\\">93.99</td></tr>\\n    \\n    <tr><td class=\\\"cell-1\\\" style=\\\"\\\">minutes</td> <td class=\\\"cell-2\\\" style=\\\"text-align:right;\\\">16,274</td> <td class=\\\"cell-3\\\" style=\\\"text-align:right;\\\">0.2</td> <td class=\\\"cell-4\\\" style=\\\"text-align:right;\\\">0.1</td> <td class=\\\"cell-5\\\" style=\\\"text-align:right;\\\">0.5</td> <td class=\\\"cell-6\\\" style=\\\"text-align:right;\\\">0</td> <td class=\\\"cell-7\\\" style=\\\"text-align:right;\\\">11.1</td> <td class=\\\"cell-8\\\" style=\\\"text-align:right;\\\">0.1</td> <td class=\\\"cell-9\\\" style=\\\"text-align:right;\\\">0.1</td> <td class=\\\"cell-10\\\" style=\\\"text-align:right;\\\">0</td> <td class=\\\"cell-11\\\" style=\\\"text-align:right;\\\">1.6</td></tr>\\n    </tbody>\\n\")"
      ]
     },
     "metadata": {},
     "output_type": "display_data"
    }
   ],
   "source": [
    "statsDF = DataFrame()\n",
    "\n",
    "statsDF = rawStatsFATS(tv,UP)\n",
    ";"
   ]
  },
  {
   "cell_type": "code",
   "execution_count": 7,
   "metadata": {
    "collapsed": false,
    "input_collapsed": false
   },
   "outputs": [],
   "source": [
    "localStats2 = DataFrame()\n",
    "\n",
    "localStats2 = localStatsFATS(tv,UP,statsDF)\n",
    ";"
   ]
  },
  {
   "cell_type": "code",
   "execution_count": 8,
   "metadata": {
    "collapsed": false,
    "input_collapsed": false
   },
   "outputs": [],
   "source": [
    "#studySession = \"fd8c6953-ac8e-4ace-8ad7-51eb8d6eebc3-oifn7l\"\n",
    "#studyTime = 1482151207938\n",
    "#waterFallFinder(table,studySession,studyTime,tv)"
   ]
  },
  {
   "cell_type": "code",
   "execution_count": 9,
   "metadata": {
    "collapsed": false,
    "input_collapsed": false,
    "scrolled": true
   },
   "outputs": [
    {
     "data": {
      "text/html": [
       "<div class=\"dswbOutputText\"><h1 class=\"chart_title\" style=\"color:#ccc\">Table Data Stats Outside 3 Stddev for Your Shot</h1><h3 class=\"chart_info\" style=\"color:#ccc\">June 8, 2017 10:59:00 to June 8, 2017 12:59:00 Local Time</h3></div>"
      ]
     },
     "metadata": {},
     "output_type": "display_data"
    },
    {
     "data": {
      "text/html": [
       "    <table  class=\"dataframe-table\">\n",
       "    <thead><tr><th class=\"cell-1\" style=\"\">unit</th> <th class=\"cell-2\" style=\"\">count</th> <th class=\"cell-3\" style=\"\">mean</th> <th class=\"cell-4\" style=\"\">median</th> <th class=\"cell-5\" style=\"\">stddev</th> <th class=\"cell-6\" style=\"\">min</th> <th class=\"cell-7\" style=\"\">max</th> <th class=\"cell-8\" style=\"\">rangeLowerBy25p</th> <th class=\"cell-9\" style=\"\">rangeUpperBy25p</th> <th class=\"cell-10\" style=\"\">rangeLowerByStd</th> <th class=\"cell-11\" style=\"\">rangeUpperByStd</th></tr></thead>\n",
       "    <tbody>\n",
       "    <tr><td class=\"cell-1\" style=\"\">milliseconds</td> <td class=\"cell-2\" style=\"text-align:right;\">6,510</td> <td class=\"cell-3\" style=\"text-align:right;\">23,897</td> <td class=\"cell-4\" style=\"text-align:right;\">11,085</td> <td class=\"cell-5\" style=\"text-align:right;\">98,997</td> <td class=\"cell-6\" style=\"text-align:right;\">6,601</td> <td class=\"cell-7\" style=\"text-align:right;\">6,189,478</td> <td class=\"cell-8\" style=\"text-align:right;\">8,314</td> <td class=\"cell-9\" style=\"text-align:right;\">13,856</td> <td class=\"cell-10\" style=\"text-align:right;\">1</td> <td class=\"cell-11\" style=\"text-align:right;\">308,076</td></tr>\n",
       "<tr><td class=\"cell-1\" style=\"\">seconds</td> <td class=\"cell-2\" style=\"text-align:right;\">6,510</td> <td class=\"cell-3\" style=\"text-align:right;\">23.897</td> <td class=\"cell-4\" style=\"text-align:right;\">11.085</td> <td class=\"cell-5\" style=\"text-align:right;\">98.997</td> <td class=\"cell-6\" style=\"text-align:right;\">6.601</td> <td class=\"cell-7\" style=\"text-align:right;\">6,189.478</td> <td class=\"cell-8\" style=\"text-align:right;\">8.314</td> <td class=\"cell-9\" style=\"text-align:right;\">13.856</td> <td class=\"cell-10\" style=\"text-align:right;\">0.001</td> <td class=\"cell-11\" style=\"text-align:right;\">308.076</td></tr>\n",
       "    \n",
       "    <tr><td class=\"cell-1\" style=\"\">minutes</td> <td class=\"cell-2\" style=\"text-align:right;\">6,510</td> <td class=\"cell-3\" style=\"text-align:right;\">0.4</td> <td class=\"cell-4\" style=\"text-align:right;\">0.2</td> <td class=\"cell-5\" style=\"text-align:right;\">1.6</td> <td class=\"cell-6\" style=\"text-align:right;\">0.1</td> <td class=\"cell-7\" style=\"text-align:right;\">103.2</td> <td class=\"cell-8\" style=\"text-align:right;\">0.1</td> <td class=\"cell-9\" style=\"text-align:right;\">0.2</td> <td class=\"cell-10\" style=\"text-align:right;\">0</td> <td class=\"cell-11\" style=\"text-align:right;\">5.1</td></tr>\n",
       "    </tbody>\n"
      ],
      "text/plain": [
       "HTML{UTF8String}(\"    <table  class=\\\"dataframe-table\\\">\\n    <thead><tr><th class=\\\"cell-1\\\" style=\\\"\\\">unit</th> <th class=\\\"cell-2\\\" style=\\\"\\\">count</th> <th class=\\\"cell-3\\\" style=\\\"\\\">mean</th> <th class=\\\"cell-4\\\" style=\\\"\\\">median</th> <th class=\\\"cell-5\\\" style=\\\"\\\">stddev</th> <th class=\\\"cell-6\\\" style=\\\"\\\">min</th> <th class=\\\"cell-7\\\" style=\\\"\\\">max</th> <th class=\\\"cell-8\\\" style=\\\"\\\">rangeLowerBy25p</th> <th class=\\\"cell-9\\\" style=\\\"\\\">rangeUpperBy25p</th> <th class=\\\"cell-10\\\" style=\\\"\\\">rangeLowerByStd</th> <th class=\\\"cell-11\\\" style=\\\"\\\">rangeUpperByStd</th></tr></thead>\\n    <tbody>\\n    <tr><td class=\\\"cell-1\\\" style=\\\"\\\">milliseconds</td> <td class=\\\"cell-2\\\" style=\\\"text-align:right;\\\">6,510</td> <td class=\\\"cell-3\\\" style=\\\"text-align:right;\\\">23,897</td> <td class=\\\"cell-4\\\" style=\\\"text-align:right;\\\">11,085</td> <td class=\\\"cell-5\\\" style=\\\"text-align:right;\\\">98,997</td> <td class=\\\"cell-6\\\" style=\\\"text-align:right;\\\">6,601</td> <td class=\\\"cell-7\\\" style=\\\"text-align:right;\\\">6,189,478</td> <td class=\\\"cell-8\\\" style=\\\"text-align:right;\\\">8,314</td> <td class=\\\"cell-9\\\" style=\\\"text-align:right;\\\">13,856</td> <td class=\\\"cell-10\\\" style=\\\"text-align:right;\\\">1</td> <td class=\\\"cell-11\\\" style=\\\"text-align:right;\\\">308,076</td></tr>\\n<tr><td class=\\\"cell-1\\\" style=\\\"\\\">seconds</td> <td class=\\\"cell-2\\\" style=\\\"text-align:right;\\\">6,510</td> <td class=\\\"cell-3\\\" style=\\\"text-align:right;\\\">23.897</td> <td class=\\\"cell-4\\\" style=\\\"text-align:right;\\\">11.085</td> <td class=\\\"cell-5\\\" style=\\\"text-align:right;\\\">98.997</td> <td class=\\\"cell-6\\\" style=\\\"text-align:right;\\\">6.601</td> <td class=\\\"cell-7\\\" style=\\\"text-align:right;\\\">6,189.478</td> <td class=\\\"cell-8\\\" style=\\\"text-align:right;\\\">8.314</td> <td class=\\\"cell-9\\\" style=\\\"text-align:right;\\\">13.856</td> <td class=\\\"cell-10\\\" style=\\\"text-align:right;\\\">0.001</td> <td class=\\\"cell-11\\\" style=\\\"text-align:right;\\\">308.076</td></tr>\\n    \\n    <tr><td class=\\\"cell-1\\\" style=\\\"\\\">minutes</td> <td class=\\\"cell-2\\\" style=\\\"text-align:right;\\\">6,510</td> <td class=\\\"cell-3\\\" style=\\\"text-align:right;\\\">0.4</td> <td class=\\\"cell-4\\\" style=\\\"text-align:right;\\\">0.2</td> <td class=\\\"cell-5\\\" style=\\\"text-align:right;\\\">1.6</td> <td class=\\\"cell-6\\\" style=\\\"text-align:right;\\\">0.1</td> <td class=\\\"cell-7\\\" style=\\\"text-align:right;\\\">103.2</td> <td class=\\\"cell-8\\\" style=\\\"text-align:right;\\\">0.1</td> <td class=\\\"cell-9\\\" style=\\\"text-align:right;\\\">0.2</td> <td class=\\\"cell-10\\\" style=\\\"text-align:right;\\\">0</td> <td class=\\\"cell-11\\\" style=\\\"text-align:right;\\\">5.1</td></tr>\\n    </tbody>\\n\")"
      ]
     },
     "metadata": {},
     "output_type": "display_data"
    }
   ],
   "source": [
    "longTimesFATS(tv,UP,localStats2)\n",
    ";"
   ]
  },
  {
   "cell_type": "code",
   "execution_count": 10,
   "metadata": {
    "collapsed": false,
    "input_collapsed": false,
    "scrolled": false
   },
   "outputs": [
    {
     "ename": "LoadError",
     "evalue": "ArgumentError: Non-digit character encountered",
     "output_type": "error",
     "traceback": [
      "ArgumentError: Non-digit character encountered",
      "",
      " in getslot at dates/io.jl:143",
      " in parse at dates/io.jl:158",
      " in call at dates/io.jl:202",
      " in anonymous at /home/ubuntu/datascienceworkbench/lib/Modules/DSWBUtilities/src/DSWBUtilities.jl:1152",
      " [inlined code] from /home/ubuntu/.julia/v0.4/DataArrays/src/broadcast.jl:59",
      " in _F_ at /home/ubuntu/.julia/v0.4/DataArrays/src/broadcast.jl:164",
      " in map! at /home/ubuntu/.julia/v0.4/DataArrays/src/broadcast.jl:214",
      " in formatDatepartOutput at /home/ubuntu/datascienceworkbench/lib/Modules/DSWBUtilities/src/DSWBUtilities.jl:1152",
      " in getBeaconsBelowThresholdOverTime at /home/ubuntu/datascienceworkbench/lib/Modules/DSWBAnalysis/src/DSWBAnalysis.jl:3730",
      " in chartPercentageOfBeaconsBelowThresholdStackedBar at /home/ubuntu/datascienceworkbench/lib/Modules/DSWBCharting/src/DSWBCharting.jl:2029"
     ]
    }
   ],
   "source": [
    "setTable(UP.btView)\n",
    "#chartPercentageOfBeaconsBelowThresholdStackedBar(tv.startTimeUTC, tv.endTimeUTC, tv.datePart; table=UP.btView)\n",
    "chartPercentageOfBeaconsBelowThresholdStackedBar(tv.startTimeUTC, tv.endTimeUTC, tv.datePart)"
   ]
  },
  {
   "cell_type": "code",
   "execution_count": 11,
   "metadata": {
    "collapsed": false,
    "input_collapsed": false,
    "scrolled": false
   },
   "outputs": [],
   "source": [
    "#setTable(table)\n",
    "#chartPercentageOfBeaconsBelowThresholdStackedBar(tv.startTime, tv.endTime, tv.datePart; pageGroup=productPageGroup)"
   ]
  },
  {
   "cell_type": "code",
   "execution_count": 12,
   "metadata": {
    "collapsed": false,
    "input_collapsed": false
   },
   "outputs": [],
   "source": [
    "#println(medianThreshold)\n",
    "#thresholdValues = [1000;10000;100000]\n",
    "#chartResponseTimesVsTargets(startTime, endTime, :minute, thresholdValues)"
   ]
  },
  {
   "cell_type": "code",
   "execution_count": 13,
   "metadata": {
    "collapsed": false,
    "input_collapsed": false
   },
   "outputs": [],
   "source": [
    "#chartPercentageOfBeaconsBelowThresholdTimeSeries(tv.startTimeUTC, tv.endTimeUTC, tv.datePart; threshold=medianThreshold)\n",
    "# See getBeaconsBelowThresholdOverTime(startTime::DateTime, endTime::DateTime, datepart::Symbol)\n",
    "#\n",
    "#::DataFrame - This function returns a DataFrame with the first column as the dateparts between the given start and end time. \n",
    "#The second column gives the number of beacons whose timer was below the given threshold. \n",
    "#The third column gives the number of beacons whose timer was above the given threshold. \n",
    "#The fourth column gives the total count of beacons for that time. \n",
    "#The fifth column gives the percentage of beacons below the threshold. \n",
    "#The sixth column gives the percentage of beacons above the threshold.\n"
   ]
  },
  {
   "cell_type": "code",
   "execution_count": 14,
   "metadata": {
    "collapsed": false,
    "input_collapsed": false,
    "scrolled": false
   },
   "outputs": [
    {
     "data": {
      "text/html": [
       "<div class=\"dswbOutputText\"><h1 class=\"chart_title\" style=\"color:#ccc\">Median Load Times</h1><h3 class=\"chart_info\" style=\"color:#ccc\">June 8, 2017 14:59:00 to June 8, 2017 16:59:00</h3><h5 class=\"chart_lastCalled\" style=\"color:#ccc\">Run at June 9, 2017 10:01:41</h5></div>"
      ]
     },
     "metadata": {},
     "output_type": "display_data"
    },
    {
     "data": {
      "text/html": [
       "    <iframe id=\"timeSeries-SZMSGENOKVRJUTDLOSJROVRYHGKOPKQL\" class=\"dswbiframe\" width=\"100%\" height=\"600\" src=\"about:blank\" scrolling=\"no\"></iframe>\n",
       "    <script>\n",
       "    (function() {\n",
       "        var iframe = document.getElementById(\"timeSeries-SZMSGENOKVRJUTDLOSJROVRYHGKOPKQL\");\n",
       "        iframe.timeSeriesRendererLoaded = function(runner) {\n",
       "            iframe.runner = runner;\n",
       "            iframe.runner([[\"x\",\"June 8, 2017 14:59:00\",\"June 8, 2017 15:00:00\",\"June 8, 2017 15:01:00\",\"June 8, 2017 15:02:00\",\"June 8, 2017 15:03:00\",\"June 8, 2017 15:04:00\",\"June 8, 2017 15:05:00\",\"June 8, 2017 15:06:00\",\"June 8, 2017 15:07:00\",\"June 8, 2017 15:08:00\",\"June 8, 2017 15:09:00\",\"June 8, 2017 15:10:00\",\"June 8, 2017 15:11:00\",\"June 8, 2017 15:12:00\",\"June 8, 2017 15:13:00\",\"June 8, 2017 15:14:00\",\"June 8, 2017 15:15:00\",\"June 8, 2017 15:16:00\",\"June 8, 2017 15:17:00\",\"June 8, 2017 15:18:00\",\"June 8, 2017 15:19:00\",\"June 8, 2017 15:20:00\",\"June 8, 2017 15:21:00\",\"June 8, 2017 15:22:00\",\"June 8, 2017 15:23:00\",\"June 8, 2017 15:24:00\",\"June 8, 2017 15:25:00\",\"June 8, 2017 15:26:00\",\"June 8, 2017 15:27:00\",\"June 8, 2017 15:28:00\",\"June 8, 2017 15:29:00\",\"June 8, 2017 15:30:00\",\"June 8, 2017 15:31:00\",\"June 8, 2017 15:32:00\",\"June 8, 2017 15:33:00\",\"June 8, 2017 15:34:00\",\"June 8, 2017 15:35:00\",\"June 8, 2017 15:36:00\",\"June 8, 2017 15:37:00\",\"June 8, 2017 15:38:00\",\"June 8, 2017 15:39:00\",\"June 8, 2017 15:40:00\",\"June 8, 2017 15:41:00\",\"June 8, 2017 15:42:00\",\"June 8, 2017 15:43:00\",\"June 8, 2017 15:44:00\",\"June 8, 2017 15:45:00\",\"June 8, 2017 15:46:00\",\"June 8, 2017 15:47:00\",\"June 8, 2017 15:48:00\",\"June 8, 2017 15:49:00\",\"June 8, 2017 15:50:00\",\"June 8, 2017 15:51:00\",\"June 8, 2017 15:52:00\",\"June 8, 2017 15:53:00\",\"June 8, 2017 15:54:00\",\"June 8, 2017 15:55:00\",\"June 8, 2017 15:56:00\",\"June 8, 2017 15:57:00\",\"June 8, 2017 15:58:00\",\"June 8, 2017 15:59:00\",\"June 8, 2017 16:00:00\",\"June 8, 2017 16:01:00\",\"June 8, 2017 16:02:00\",\"June 8, 2017 16:03:00\",\"June 8, 2017 16:04:00\",\"June 8, 2017 16:05:00\",\"June 8, 2017 16:06:00\",\"June 8, 2017 16:07:00\",\"June 8, 2017 16:08:00\",\"June 8, 2017 16:09:00\",\"June 8, 2017 16:10:00\",\"June 8, 2017 16:11:00\",\"June 8, 2017 16:12:00\",\"June 8, 2017 16:13:00\",\"June 8, 2017 16:14:00\",\"June 8, 2017 16:15:00\",\"June 8, 2017 16:16:00\",\"June 8, 2017 16:17:00\",\"June 8, 2017 16:18:00\",\"June 8, 2017 16:19:00\",\"June 8, 2017 16:20:00\",\"June 8, 2017 16:21:00\",\"June 8, 2017 16:22:00\",\"June 8, 2017 16:23:00\",\"June 8, 2017 16:24:00\",\"June 8, 2017 16:25:00\",\"June 8, 2017 16:26:00\",\"June 8, 2017 16:27:00\",\"June 8, 2017 16:28:00\",\"June 8, 2017 16:29:00\",\"June 8, 2017 16:30:00\",\"June 8, 2017 16:31:00\",\"June 8, 2017 16:32:00\",\"June 8, 2017 16:33:00\",\"June 8, 2017 16:34:00\",\"June 8, 2017 16:35:00\",\"June 8, 2017 16:36:00\",\"June 8, 2017 16:37:00\",\"June 8, 2017 16:38:00\",\"June 8, 2017 16:39:00\",\"June 8, 2017 16:40:00\",\"June 8, 2017 16:41:00\",\"June 8, 2017 16:42:00\",\"June 8, 2017 16:43:00\",\"June 8, 2017 16:44:00\",\"June 8, 2017 16:45:00\",\"June 8, 2017 16:46:00\",\"June 8, 2017 16:47:00\",\"June 8, 2017 16:48:00\",\"June 8, 2017 16:49:00\",\"June 8, 2017 16:50:00\",\"June 8, 2017 16:51:00\",\"June 8, 2017 16:52:00\",\"June 8, 2017 16:53:00\",\"June 8, 2017 16:54:00\",\"June 8, 2017 16:55:00\",\"June 8, 2017 16:56:00\",\"June 8, 2017 16:57:00\",\"June 8, 2017 16:58:00\",\"June 8, 2017 16:59:00\"],[\"data1\",2007.0,1969.0,1774.5,1644.0,1639.0,1778.0,2114.5,2088.0,1832.5,2175.0,1544.0,2043.5,1717.5,1667.0,2408.0,1754.0,1897.5,2464.0,1984.5,2010.5,2737.0,2069.0,2593.5,1543.0,1463.0,1540.0,1447.0,1675.5,1816.0,1926.0,2064.0,1881.5,2057.0,1808.0,1524.5,1399.0,1681.0,1705.0,1829.0,2313.0,1831.0,2470.5,2432.0,2487.0,2183.5,2009.0,2045.0,2064.0,1762.0,1493.0,997.0,1597.0,1730.0,971.0,1350.0,1571.0,1449.0,1921.0,1882.0,1644.0,1614.5,1666.5,1334.0,1206.0,1205.0,1134.5,1184.0,1219.0,1319.5,828.0,994.0,709.5,622.5,659.0,698.0,653.5,684.0,684.5,627.5,970.5,684.0,601.5,705.0,675.0,1184.0,1130.0,1117.0,704.0,643.0,1008.5,795.0,659.5,611.0,800.0,609.0,681.0,696.0,670.0,922.5,696.0,681.0,597.0,611.0,688.5,647.0,623.0,668.0,715.0,788.5,748.0,820.5,770.0,766.5,762.0,991.0,650.0,749.0,827.0,720.5,694.0,null],[\"data2\",4284.0,4127.0,4051.5,4278.0,4909.0,5276.0,6093.5,3830.0,3845.0,4633.0,4656.0,4669.5,3453.5,3563.5,3713.0,4367.0,3510.0,3285.0,3499.0,3233.0,3567.0,3865.0,4336.0,3684.5,2953.5,3334.0,3956.0,3867.5,3286.0,3565.5,2958.0,3085.5,2811.0,4388.0,5030.0,3339.5,4563.0,3149.0,2861.0,3502.0,3325.0,3411.0,3973.0,3338.5,3599.0,3678.0,3652.0,3415.0,3516.5,3208.0,3339.0,3368.0,4255.0,3796.0,3137.5,4041.0,3370.0,3220.0,3329.5,4766.5,4596.0,4678.0,4593.0,4550.0,5601.0,4192.0,3558.0,3264.0,3362.0,3685.0,3454.5,3627.0,3467.5,3471.0,4035.5,3387.0,3153.0,4376.0,3716.5,3334.5,3268.0,4247.0,3111.5,4024.0,3972.0,2783.0,2630.0,4450.5,3515.0,3103.5,3471.0,2989.0,4869.0,4071.0,3287.0,3875.0,3483.0,4043.5,3749.0,4098.0,5004.0,4934.0,3776.0,3751.5,4159.0,3890.0,4277.0,3880.0,3935.0,4166.0,3744.5,3343.0,3623.5,3473.0,3887.0,3413.0,3960.0,2946.0,2830.0,3351.0,null],[\"data3\",6628.0,6096.0,5910.5,6528.0,6650.0,7252.0,8276.0,6473.0,6208.0,6563.0,5868.5,6173.5,5235.5,5205.0,7426.0,6357.0,5715.5,5736.0,5859.0,5475.0,6249.0,6101.0,6657.0,5610.0,5349.5,4981.0,5556.0,5816.5,5150.5,6327.0,5208.5,5001.0,4824.5,6302.0,6304.0,5234.0,6246.0,4998.5,4835.0,6043.0,5814.5,6084.5,6943.0,6490.5,6085.0,5974.0,5614.0,6024.0,5286.0,5133.0,4591.0,5012.5,6052.5,4827.0,5014.0,5910.5,4726.0,5264.5,5271.0,6496.0,6021.0,6294.0,5866.5,5663.5,6656.0,5139.0,4762.0,4448.5,4661.0,4301.0,4734.5,4477.5,4053.5,4103.0,5118.5,4344.5,3933.0,5195.0,4289.0,4270.5,4044.0,5014.5,3922.0,5313.0,5300.0,4278.0,4631.0,5089.0,4336.0,4264.5,4142.5,3473.0,5480.0,5116.0,3996.0,4883.0,4115.0,4793.0,4674.5,4914.0,5789.5,5659.5,4388.0,4528.5,4672.0,4865.0,5093.0,4463.5,4816.0,4784.0,4409.0,4358.0,4492.5,4363.0,5541.0,4092.0,4773.0,4245.0,3656.5,4281.0,null]],\n",
       "                [\"Back-end Load Time\",\"Front-end Load Time\",\"Full Page Load Time\",\"Beacon Count\"],\n",
       "                [\"minute\",\"Milliseconds\",\"Count\"],\n",
       "                [\"area\",\"area\",\"spline\",\"line\"],\n",
       "                [\"hsla(130, 61%, 50%, 0.9)\",\"hsla(214, 86%, 60%, 0.9)\",\"hsla(35, 100%, 50%, 0.9)\"],\n",
       "                [[\"data1\",\"data2\"]],\n",
       "                [\"data4\"],\n",
       "                \"\",\n",
       "                [\"data4\"],\n",
       "                {\"axis_y_min\":0,\"axis_y2_min\":0}\n",
       "            );\n",
       "        }\n",
       "        iframe.src = \"/static/graphs/templates/c3Viz_template.html#id=timeSeries-SZMSGENOKVRJUTDLOSJROVRYHGKOPKQL\";\n",
       "    }());\n",
       "    </script>\n"
      ]
     },
     "metadata": {},
     "output_type": "display_data"
    }
   ],
   "source": [
    "#displayTitle(chart_title = \"Median Load Times for $(productPageGroup)\", chart_info = [timeString])\n",
    "setTable(UP.btView)\n",
    "chartLoadTimes(tv.startTimeUTC, tv.endTimeUTC, tv.datePart)\n",
    "#setTable(UP.beaconTable)\n",
    "#chartLoadTimes(tv.startTime, tv.endTime, tv.datePart)\n",
    "#chartLoadTimes(startTime, endTime, :second)"
   ]
  },
  {
   "cell_type": "code",
   "execution_count": 15,
   "metadata": {
    "collapsed": false,
    "input_collapsed": false,
    "scrolled": false
   },
   "outputs": [
    {
     "data": {
      "text/html": [
       "<div class=\"dswbOutputText\"><h1 class=\"chart_title\" style=\"color:#ccc\">Session Duration Quartiles By minute</h1><h3 class=\"chart_info\" style=\"color:#ccc\">June 8, 2017 14:59:00 to June 8, 2017 16:59:00</h3><h3 class=\"chart_info\" style=\"color:#ccc\">Lower Percentile: 0.05</h3><h3 class=\"chart_info\" style=\"color:#ccc\">Upper Percentile: 0.95</h3><h5 class=\"chart_lastCalled\" style=\"color:#ccc\">Run at June 9, 2017 10:01:45</h5></div>"
      ]
     },
     "metadata": {},
     "output_type": "display_data"
    },
    {
     "data": {
      "text/html": [
       "    <iframe id=\"boxplots-YYEIZXTVHQKXCMKZRFMHBSMLMOSDWFAJ\" class=\"dswbiframe\" width=\"100%\" height=\"800\" src=\"about:blank\" scrolling=\"no\"></iframe>\n",
       "    <script>\n",
       "    (function() {\n",
       "        var iframe = document.getElementById(\"boxplots-YYEIZXTVHQKXCMKZRFMHBSMLMOSDWFAJ\");\n",
       "        iframe.boxplotsRendererLoaded = function(runner) {\n",
       "            iframe.runner = runner;\n",
       "            iframe.runner(\n",
       "                {\"median_color\":\"#ff9800\",\"tooltipTuples\":[[\"Minimum\",\"min\"],[\"Lower Quartile\",\"lower_quartile\"],[\"Median\",\"median\"],[\"Upper Quartile\",\"upper_quartile\"],[\"Max\",\"max\"],[\"IQR\",\"iqr\"],[\"Count\",\"count\"]],\"legendNums\":[330.746,779.906],\"yAxisLabel\":\"Session Duration (Seconds)\",\"centerline_color\":\"grey\",\"maxYValue\":-1,\"legend_colors\":[\"#29B6F6\",\"#2196F3\",\"#0277BD\"],\"boxPlotData\":[{\"median\":261.7025,\"box_name\":\"2017-06-08T14:59:00\",\"max\":6653.59,\"min\":10.756,\"iqr\":1234.2150000000001,\"upper_quartile\":1252.151,\"count\":8,\"box_color\":\"#0277BD\",\"lower_quartile\":17.936},{\"median\":60.485,\"box_name\":\"2017-06-08T15:00:00\",\"max\":2992.314,\"min\":21.246,\"iqr\":385.543,\"upper_quartile\":420.531,\"count\":9,\"box_color\":\"#2196F3\",\"lower_quartile\":34.988},{\"median\":314.6005,\"box_name\":\"2017-06-08T15:01:00\",\"max\":4343.035,\"min\":3.85,\"iqr\":2317.9790000000003,\"upper_quartile\":2371.815,\"count\":10,\"box_color\":\"#0277BD\",\"lower_quartile\":53.836},{\"median\":73.629,\"box_name\":\"2017-06-08T15:02:00\",\"max\":1341.411,\"min\":12.272,\"iqr\":75.114,\"upper_quartile\":114.752,\"count\":14,\"box_color\":\"#29B6F6\",\"lower_quartile\":39.638},{\"median\":281.253,\"box_name\":\"2017-06-08T15:03:00\",\"max\":3659.417,\"min\":23.621,\"iqr\":409.305,\"upper_quartile\":477.644,\"count\":13,\"box_color\":\"#2196F3\",\"lower_quartile\":68.339},{\"median\":181.3555,\"box_name\":\"2017-06-08T15:04:00\",\"max\":4737.733,\"min\":34.316,\"iqr\":808.7239999999999,\"upper_quartile\":933.804,\"count\":14,\"box_color\":\"#0277BD\",\"lower_quartile\":125.08},{\"median\":399.163,\"box_name\":\"2017-06-08T15:05:00\",\"max\":3876.96,\"min\":10.773,\"iqr\":1795.431,\"upper_quartile\":1834.587,\"count\":20,\"box_color\":\"#0277BD\",\"lower_quartile\":39.156},{\"median\":362.595,\"box_name\":\"2017-06-08T15:06:00\",\"max\":2687.493,\"min\":30.673,\"iqr\":486.75399999999996,\"upper_quartile\":601.358,\"count\":13,\"box_color\":\"#2196F3\",\"lower_quartile\":114.604},{\"median\":142.644,\"box_name\":\"2017-06-08T15:07:00\",\"max\":2847.469,\"min\":8.207,\"iqr\":789.481,\"upper_quartile\":816.533,\"count\":19,\"box_color\":\"#0277BD\",\"lower_quartile\":27.052},{\"median\":302.101,\"box_name\":\"2017-06-08T15:08:00\",\"max\":1659.753,\"min\":10.762,\"iqr\":606.925,\"upper_quartile\":692.822,\"count\":19,\"box_color\":\"#2196F3\",\"lower_quartile\":85.897},{\"median\":104.008,\"box_name\":\"2017-06-08T15:09:00\",\"max\":890.989,\"min\":2.058,\"iqr\":212.48700000000002,\"upper_quartile\":250.735,\"count\":9,\"box_color\":\"#29B6F6\",\"lower_quartile\":38.248},{\"median\":287.778,\"box_name\":\"2017-06-08T15:10:00\",\"max\":6131.896,\"min\":12.801,\"iqr\":1650.693,\"upper_quartile\":1697.251,\"count\":15,\"box_color\":\"#0277BD\",\"lower_quartile\":46.558},{\"median\":378.946,\"box_name\":\"2017-06-08T15:11:00\",\"max\":5878.771,\"min\":4.934,\"iqr\":1211.0140000000001,\"upper_quartile\":1229.288,\"count\":15,\"box_color\":\"#0277BD\",\"lower_quartile\":18.274},{\"median\":270.546,\"box_name\":\"2017-06-08T15:12:00\",\"max\":2624.578,\"min\":8.138,\"iqr\":451.817,\"upper_quartile\":508.145,\"count\":20,\"box_color\":\"#2196F3\",\"lower_quartile\":56.328},{\"median\":277.867,\"box_name\":\"2017-06-08T15:13:00\",\"max\":3393.513,\"min\":6.548,\"iqr\":439.276,\"upper_quartile\":502.527,\"count\":16,\"box_color\":\"#2196F3\",\"lower_quartile\":63.251},{\"median\":51.746,\"box_name\":\"2017-06-08T15:14:00\",\"max\":2904.624,\"min\":19.304,\"iqr\":709.678,\"upper_quartile\":743.587,\"count\":21,\"box_color\":\"#2196F3\",\"lower_quartile\":33.909},{\"median\":157.722,\"box_name\":\"2017-06-08T15:15:00\",\"max\":3685.17,\"min\":21.355,\"iqr\":247.326,\"upper_quartile\":310.63,\"count\":18,\"box_color\":\"#29B6F6\",\"lower_quartile\":63.304},{\"median\":252.956,\"box_name\":\"2017-06-08T15:16:00\",\"max\":1568.66,\"min\":21.234,\"iqr\":469.03000000000003,\"upper_quartile\":506.343,\"count\":15,\"box_color\":\"#2196F3\",\"lower_quartile\":37.313},{\"median\":226.136,\"box_name\":\"2017-06-08T15:17:00\",\"max\":3413.25,\"min\":0.025,\"iqr\":295.69500000000005,\"upper_quartile\":444.569,\"count\":13,\"box_color\":\"#29B6F6\",\"lower_quartile\":148.874},{\"median\":131.66,\"box_name\":\"2017-06-08T15:18:00\",\"max\":515.593,\"min\":21.702,\"iqr\":294.253,\"upper_quartile\":337.897,\"count\":10,\"box_color\":\"#29B6F6\",\"lower_quartile\":43.644},{\"median\":110.234,\"box_name\":\"2017-06-08T15:19:00\",\"max\":5665.691,\"min\":2.903,\"iqr\":567.876,\"upper_quartile\":620.674,\"count\":17,\"box_color\":\"#2196F3\",\"lower_quartile\":52.798},{\"median\":62.795,\"box_name\":\"2017-06-08T15:20:00\",\"max\":784.872,\"min\":7.604,\"iqr\":142.227,\"upper_quartile\":159.762,\"count\":15,\"box_color\":\"#29B6F6\",\"lower_quartile\":17.535},{\"median\":102.62,\"box_name\":\"2017-06-08T15:21:00\",\"max\":1454.728,\"min\":3.926,\"iqr\":239.44299999999998,\"upper_quartile\":254.446,\"count\":13,\"box_color\":\"#29B6F6\",\"lower_quartile\":15.003},{\"median\":626.693,\"box_name\":\"2017-06-08T15:22:00\",\"max\":5604.584,\"min\":8.174,\"iqr\":1892.465,\"upper_quartile\":2027.724,\"count\":17,\"box_color\":\"#0277BD\",\"lower_quartile\":135.259},{\"median\":350.5725,\"box_name\":\"2017-06-08T15:23:00\",\"max\":3702.391,\"min\":4.631,\"iqr\":779.906,\"upper_quartile\":819.63,\"count\":10,\"box_color\":\"#2196F3\",\"lower_quartile\":39.724},{\"median\":131.851,\"box_name\":\"2017-06-08T15:24:00\",\"max\":940.544,\"min\":8.899,\"iqr\":604.205,\"upper_quartile\":644.498,\"count\":7,\"box_color\":\"#2196F3\",\"lower_quartile\":40.293},{\"median\":377.5135,\"box_name\":\"2017-06-08T15:25:00\",\"max\":3561.549,\"min\":12.417,\"iqr\":806.364,\"upper_quartile\":874.513,\"count\":18,\"box_color\":\"#0277BD\",\"lower_quartile\":68.149},{\"median\":397.034,\"box_name\":\"2017-06-08T15:26:00\",\"max\":2543.542,\"min\":26.917,\"iqr\":639.675,\"upper_quartile\":696.179,\"count\":15,\"box_color\":\"#2196F3\",\"lower_quartile\":56.504},{\"median\":62.129,\"box_name\":\"2017-06-08T15:27:00\",\"max\":2544.47,\"min\":10.641,\"iqr\":805.394,\"upper_quartile\":823.316,\"count\":12,\"box_color\":\"#0277BD\",\"lower_quartile\":17.922},{\"median\":666.833,\"box_name\":\"2017-06-08T15:28:00\",\"max\":3132.321,\"min\":22.696,\"iqr\":834.2389999999999,\"upper_quartile\":904.185,\"count\":15,\"box_color\":\"#0277BD\",\"lower_quartile\":69.946},{\"median\":581.327,\"box_name\":\"2017-06-08T15:29:00\",\"max\":4881.391,\"min\":14.816,\"iqr\":1898.9199999999998,\"upper_quartile\":1970.609,\"count\":15,\"box_color\":\"#0277BD\",\"lower_quartile\":71.689},{\"median\":217.5025,\"box_name\":\"2017-06-08T15:30:00\",\"max\":2341.767,\"min\":25.641,\"iqr\":997.957,\"upper_quartile\":1049.79,\"count\":14,\"box_color\":\"#0277BD\",\"lower_quartile\":51.833},{\"median\":56.847,\"box_name\":\"2017-06-08T15:31:00\",\"max\":633.778,\"min\":7.322,\"iqr\":75.614,\"upper_quartile\":95.462,\"count\":8,\"box_color\":\"#29B6F6\",\"lower_quartile\":19.848},{\"median\":330.91,\"box_name\":\"2017-06-08T15:32:00\",\"max\":3237.056,\"min\":35.969,\"iqr\":1042.433,\"upper_quartile\":1122.387,\"count\":17,\"box_color\":\"#0277BD\",\"lower_quartile\":79.954},{\"median\":661.583,\"box_name\":\"2017-06-08T15:33:00\",\"max\":2817.747,\"min\":52.431,\"iqr\":1465.1779999999999,\"upper_quartile\":1537.916,\"count\":12,\"box_color\":\"#0277BD\",\"lower_quartile\":72.738},{\"median\":222.559,\"box_name\":\"2017-06-08T15:34:00\",\"max\":4730.261,\"min\":7.925,\"iqr\":1034.094,\"upper_quartile\":1125.195,\"count\":13,\"box_color\":\"#0277BD\",\"lower_quartile\":91.101},{\"median\":275.926,\"box_name\":\"2017-06-08T15:35:00\",\"max\":4510.649,\"min\":18.823,\"iqr\":785.4549999999999,\"upper_quartile\":827.997,\"count\":12,\"box_color\":\"#0277BD\",\"lower_quartile\":42.542},{\"median\":113.096,\"box_name\":\"2017-06-08T15:36:00\",\"max\":1291.045,\"min\":10.917,\"iqr\":293.686,\"upper_quartile\":333.414,\"count\":13,\"box_color\":\"#29B6F6\",\"lower_quartile\":39.728},{\"median\":447.884,\"box_name\":\"2017-06-08T15:37:00\",\"max\":4873.302,\"min\":13.332,\"iqr\":1624.167,\"upper_quartile\":1696.906,\"count\":15,\"box_color\":\"#0277BD\",\"lower_quartile\":72.739},{\"median\":645.0465,\"box_name\":\"2017-06-08T15:38:00\",\"max\":4427.984,\"min\":26.593,\"iqr\":2135.893,\"upper_quartile\":2251.264,\"count\":14,\"box_color\":\"#0277BD\",\"lower_quartile\":115.371},{\"median\":171.311,\"box_name\":\"2017-06-08T15:39:00\",\"max\":3732.694,\"min\":31.583,\"iqr\":667.956,\"upper_quartile\":714.429,\"count\":15,\"box_color\":\"#2196F3\",\"lower_quartile\":46.473},{\"median\":127.353,\"box_name\":\"2017-06-08T15:40:00\",\"max\":1672.681,\"min\":9.206,\"iqr\":729.163,\"upper_quartile\":749.485,\"count\":15,\"box_color\":\"#2196F3\",\"lower_quartile\":20.322},{\"median\":101.755,\"box_name\":\"2017-06-08T15:41:00\",\"max\":3154.407,\"min\":16.278,\"iqr\":274.17199999999997,\"upper_quartile\":328.347,\"count\":14,\"box_color\":\"#29B6F6\",\"lower_quartile\":54.175},{\"median\":268.206,\"box_name\":\"2017-06-08T15:42:00\",\"max\":1825.847,\"min\":12.808,\"iqr\":475.86400000000003,\"upper_quartile\":533.912,\"count\":20,\"box_color\":\"#2196F3\",\"lower_quartile\":58.048},{\"median\":143.358,\"box_name\":\"2017-06-08T15:43:00\",\"max\":984.745,\"min\":24.197,\"iqr\":202.156,\"upper_quartile\":260.752,\"count\":16,\"box_color\":\"#29B6F6\",\"lower_quartile\":58.596},{\"median\":91.219,\"box_name\":\"2017-06-08T15:44:00\",\"max\":4418.038,\"min\":3.761,\"iqr\":564.528,\"upper_quartile\":581.994,\"count\":19,\"box_color\":\"#2196F3\",\"lower_quartile\":17.466},{\"median\":409.255,\"box_name\":\"2017-06-08T15:45:00\",\"max\":1916.534,\"min\":11.376,\"iqr\":1073.824,\"upper_quartile\":1184.083,\"count\":19,\"box_color\":\"#0277BD\",\"lower_quartile\":110.259},{\"median\":437.4295,\"box_name\":\"2017-06-08T15:46:00\",\"max\":2794.895,\"min\":9.201,\"iqr\":1088.9799999999998,\"upper_quartile\":1150.543,\"count\":16,\"box_color\":\"#0277BD\",\"lower_quartile\":61.563},{\"median\":212.806,\"box_name\":\"2017-06-08T15:47:00\",\"max\":1737.731,\"min\":16.316,\"iqr\":773.3090000000001,\"upper_quartile\":823.099,\"count\":19,\"box_color\":\"#2196F3\",\"lower_quartile\":49.79},{\"median\":684.758,\"box_name\":\"2017-06-08T15:48:00\",\"max\":3379.639,\"min\":7.589,\"iqr\":1701.412,\"upper_quartile\":1721.664,\"count\":13,\"box_color\":\"#0277BD\",\"lower_quartile\":20.252},{\"median\":244.1415,\"box_name\":\"2017-06-08T15:49:00\",\"max\":2688.734,\"min\":11.323,\"iqr\":498.317,\"upper_quartile\":522.419,\"count\":8,\"box_color\":\"#2196F3\",\"lower_quartile\":24.102},{\"median\":339.648,\"box_name\":\"2017-06-08T15:50:00\",\"max\":3998.927,\"min\":12.995,\"iqr\":1006.9460000000001,\"upper_quartile\":1051.958,\"count\":17,\"box_color\":\"#0277BD\",\"lower_quartile\":45.012},{\"median\":324.337,\"box_name\":\"2017-06-08T15:51:00\",\"max\":1650.726,\"min\":51.124,\"iqr\":624.6030000000001,\"upper_quartile\":722.565,\"count\":8,\"box_color\":\"#2196F3\",\"lower_quartile\":97.962},{\"median\":615.0265,\"box_name\":\"2017-06-08T15:52:00\",\"max\":2148.849,\"min\":21.458,\"iqr\":792.6000000000001,\"upper_quartile\":1056.17,\"count\":14,\"box_color\":\"#0277BD\",\"lower_quartile\":263.57},{\"median\":235.276,\"box_name\":\"2017-06-08T15:53:00\",\"max\":3758.997,\"min\":5.662,\"iqr\":650.687,\"upper_quartile\":706.71,\"count\":12,\"box_color\":\"#2196F3\",\"lower_quartile\":56.023},{\"median\":135.353,\"box_name\":\"2017-06-08T15:54:00\",\"max\":2127.614,\"min\":10.642,\"iqr\":645.401,\"upper_quartile\":668.962,\"count\":15,\"box_color\":\"#2196F3\",\"lower_quartile\":23.561},{\"median\":203.465,\"box_name\":\"2017-06-08T15:55:00\",\"max\":3551.964,\"min\":8.964,\"iqr\":1379.947,\"upper_quartile\":1450.109,\"count\":15,\"box_color\":\"#0277BD\",\"lower_quartile\":70.162},{\"median\":898.404,\"box_name\":\"2017-06-08T15:56:00\",\"max\":3729.353,\"min\":4.524,\"iqr\":2025.0299999999997,\"upper_quartile\":2118.325,\"count\":15,\"box_color\":\"#0277BD\",\"lower_quartile\":93.295},{\"median\":248.996,\"box_name\":\"2017-06-08T15:57:00\",\"max\":2500.997,\"min\":31.122,\"iqr\":1432.393,\"upper_quartile\":1503.45,\"count\":9,\"box_color\":\"#0277BD\",\"lower_quartile\":71.057},{\"median\":318.541,\"box_name\":\"2017-06-08T15:58:00\",\"max\":2959.256,\"min\":31.61,\"iqr\":1735.184,\"upper_quartile\":1819.22,\"count\":25,\"box_color\":\"#0277BD\",\"lower_quartile\":84.036},{\"median\":203.301,\"box_name\":\"2017-06-08T15:59:00\",\"max\":3557.37,\"min\":17.083,\"iqr\":772.581,\"upper_quartile\":821.938,\"count\":17,\"box_color\":\"#2196F3\",\"lower_quartile\":49.357},{\"median\":234.953,\"box_name\":\"2017-06-08T16:00:00\",\"max\":2289.857,\"min\":3.169,\"iqr\":455.349,\"upper_quartile\":518.01,\"count\":15,\"box_color\":\"#2196F3\",\"lower_quartile\":62.661},{\"median\":170.7075,\"box_name\":\"2017-06-08T16:01:00\",\"max\":3457.454,\"min\":3.158,\"iqr\":1564.918,\"upper_quartile\":1591.647,\"count\":10,\"box_color\":\"#0277BD\",\"lower_quartile\":26.729},{\"median\":179.124,\"box_name\":\"2017-06-08T16:02:00\",\"max\":3293.147,\"min\":7.172,\"iqr\":1596.346,\"upper_quartile\":1630.59,\"count\":13,\"box_color\":\"#0277BD\",\"lower_quartile\":34.244},{\"median\":108.222,\"box_name\":\"2017-06-08T16:03:00\",\"max\":3300.481,\"min\":0.19,\"iqr\":481.47800000000007,\"upper_quartile\":532.58,\"count\":17,\"box_color\":\"#2196F3\",\"lower_quartile\":51.102},{\"median\":105.3995,\"box_name\":\"2017-06-08T16:04:00\",\"max\":2015.054,\"min\":4.589,\"iqr\":259.375,\"upper_quartile\":300.17,\"count\":14,\"box_color\":\"#29B6F6\",\"lower_quartile\":40.795},{\"median\":389.2605,\"box_name\":\"2017-06-08T16:05:00\",\"max\":3114.183,\"min\":4.756,\"iqr\":1431.092,\"upper_quartile\":1461.192,\"count\":18,\"box_color\":\"#0277BD\",\"lower_quartile\":30.1},{\"median\":127.456,\"box_name\":\"2017-06-08T16:06:00\",\"max\":2503.823,\"min\":11.196,\"iqr\":226.00500000000002,\"upper_quartile\":284.028,\"count\":10,\"box_color\":\"#29B6F6\",\"lower_quartile\":58.023},{\"median\":576.1855,\"box_name\":\"2017-06-08T16:07:00\",\"max\":871.144,\"min\":55.319,\"iqr\":583.841,\"upper_quartile\":720.097,\"count\":8,\"box_color\":\"#2196F3\",\"lower_quartile\":136.256},{\"median\":73.3065,\"box_name\":\"2017-06-08T16:08:00\",\"max\":1978.948,\"min\":0.051,\"iqr\":273.063,\"upper_quartile\":283.188,\"count\":18,\"box_color\":\"#29B6F6\",\"lower_quartile\":10.125},{\"median\":425.115,\"box_name\":\"2017-06-08T16:09:00\",\"max\":2978.04,\"min\":8.075,\"iqr\":1840.719,\"upper_quartile\":1948.568,\"count\":19,\"box_color\":\"#0277BD\",\"lower_quartile\":107.849},{\"median\":86.0495,\"box_name\":\"2017-06-08T16:10:00\",\"max\":850.925,\"min\":0.408,\"iqr\":211.947,\"upper_quartile\":221.865,\"count\":20,\"box_color\":\"#29B6F6\",\"lower_quartile\":9.918},{\"median\":401.21,\"box_name\":\"2017-06-08T16:11:00\",\"max\":2627.28,\"min\":28.079,\"iqr\":1645.163,\"upper_quartile\":1715.901,\"count\":22,\"box_color\":\"#0277BD\",\"lower_quartile\":70.738},{\"median\":83.23,\"box_name\":\"2017-06-08T16:12:00\",\"max\":2697.067,\"min\":8.981,\"iqr\":685.4739999999999,\"upper_quartile\":726.568,\"count\":11,\"box_color\":\"#2196F3\",\"lower_quartile\":41.094},{\"median\":196.8005,\"box_name\":\"2017-06-08T16:13:00\",\"max\":2477.711,\"min\":1.827,\"iqr\":868.4350000000001,\"upper_quartile\":908.657,\"count\":16,\"box_color\":\"#0277BD\",\"lower_quartile\":40.222},{\"median\":46.854,\"box_name\":\"2017-06-08T16:14:00\",\"max\":1570.738,\"min\":7.091,\"iqr\":194.22199999999998,\"upper_quartile\":211.1,\"count\":17,\"box_color\":\"#29B6F6\",\"lower_quartile\":16.878},{\"median\":41.447,\"box_name\":\"2017-06-08T16:15:00\",\"max\":2578.204,\"min\":6.315,\"iqr\":573.471,\"upper_quartile\":583.364,\"count\":11,\"box_color\":\"#2196F3\",\"lower_quartile\":9.893},{\"median\":307.877,\"box_name\":\"2017-06-08T16:16:00\",\"max\":1818.25,\"min\":7.501,\"iqr\":1035.69,\"upper_quartile\":1115.209,\"count\":14,\"box_color\":\"#0277BD\",\"lower_quartile\":79.519},{\"median\":282.4255,\"box_name\":\"2017-06-08T16:17:00\",\"max\":2297.734,\"min\":5.079,\"iqr\":678.6890000000001,\"upper_quartile\":762.152,\"count\":20,\"box_color\":\"#2196F3\",\"lower_quartile\":83.463},{\"median\":83.67,\"box_name\":\"2017-06-08T16:18:00\",\"max\":2168.728,\"min\":12.665,\"iqr\":728.841,\"upper_quartile\":782.159,\"count\":21,\"box_color\":\"#2196F3\",\"lower_quartile\":53.318},{\"median\":863.12,\"box_name\":\"2017-06-08T16:19:00\",\"max\":2334.86,\"min\":15.163,\"iqr\":1902.091,\"upper_quartile\":2092.234,\"count\":14,\"box_color\":\"#0277BD\",\"lower_quartile\":190.143},{\"median\":111.409,\"box_name\":\"2017-06-08T16:20:00\",\"max\":2254.279,\"min\":11.025,\"iqr\":439.403,\"upper_quartile\":459.492,\"count\":12,\"box_color\":\"#2196F3\",\"lower_quartile\":20.089},{\"median\":190.155,\"box_name\":\"2017-06-08T16:21:00\",\"max\":2254.152,\"min\":13.743,\"iqr\":890.832,\"upper_quartile\":919.347,\"count\":18,\"box_color\":\"#0277BD\",\"lower_quartile\":28.515},{\"median\":89.269,\"box_name\":\"2017-06-08T16:22:00\",\"max\":2185.664,\"min\":6.562,\"iqr\":284.516,\"upper_quartile\":308.297,\"count\":19,\"box_color\":\"#29B6F6\",\"lower_quartile\":23.781},{\"median\":248.9115,\"box_name\":\"2017-06-08T16:23:00\",\"max\":1903.703,\"min\":16.169,\"iqr\":1145.191,\"upper_quartile\":1242.166,\"count\":20,\"box_color\":\"#0277BD\",\"lower_quartile\":96.975},{\"median\":50.19,\"box_name\":\"2017-06-08T16:24:00\",\"max\":588.779,\"min\":2.007,\"iqr\":118.91199999999999,\"upper_quartile\":121.71,\"count\":8,\"box_color\":\"#29B6F6\",\"lower_quartile\":2.798},{\"median\":198.683,\"box_name\":\"2017-06-08T16:25:00\",\"max\":2005.508,\"min\":51.286,\"iqr\":907.806,\"upper_quartile\":1000.798,\"count\":13,\"box_color\":\"#0277BD\",\"lower_quartile\":92.992},{\"median\":256.114,\"box_name\":\"2017-06-08T16:26:00\",\"max\":1914.164,\"min\":23.884,\"iqr\":666.5759999999999,\"upper_quartile\":792.622,\"count\":13,\"box_color\":\"#2196F3\",\"lower_quartile\":126.046},{\"median\":63.449,\"box_name\":\"2017-06-08T16:27:00\",\"max\":1335.806,\"min\":4.501,\"iqr\":364.211,\"upper_quartile\":394.351,\"count\":15,\"box_color\":\"#2196F3\",\"lower_quartile\":30.14},{\"median\":93.195,\"box_name\":\"2017-06-08T16:28:00\",\"max\":1680.27,\"min\":1.282,\"iqr\":354.46700000000004,\"upper_quartile\":368.345,\"count\":15,\"box_color\":\"#2196F3\",\"lower_quartile\":13.878},{\"median\":74.5905,\"box_name\":\"2017-06-08T16:29:00\",\"max\":1721.514,\"min\":4.889,\"iqr\":296.959,\"upper_quartile\":326.647,\"count\":14,\"box_color\":\"#29B6F6\",\"lower_quartile\":29.688},{\"median\":37.88,\"box_name\":\"2017-06-08T16:30:00\",\"max\":598.698,\"min\":4.177,\"iqr\":45.001999999999995,\"upper_quartile\":60.406,\"count\":6,\"box_color\":\"#29B6F6\",\"lower_quartile\":15.404},{\"median\":154.334,\"box_name\":\"2017-06-08T16:31:00\",\"max\":1572.09,\"min\":6.956,\"iqr\":330.746,\"upper_quartile\":376.57,\"count\":17,\"box_color\":\"#29B6F6\",\"lower_quartile\":45.824},{\"median\":266.809,\"box_name\":\"2017-06-08T16:32:00\",\"max\":1558.454,\"min\":0.912,\"iqr\":655.8870000000001,\"upper_quartile\":708.479,\"count\":10,\"box_color\":\"#2196F3\",\"lower_quartile\":52.592},{\"median\":214.181,\"box_name\":\"2017-06-08T16:33:00\",\"max\":1088.076,\"min\":7.786,\"iqr\":409.913,\"upper_quartile\":496.302,\"count\":12,\"box_color\":\"#2196F3\",\"lower_quartile\":86.389},{\"median\":197.148,\"box_name\":\"2017-06-08T16:34:00\",\"max\":1229.107,\"min\":3.856,\"iqr\":273.153,\"upper_quartile\":297.661,\"count\":12,\"box_color\":\"#29B6F6\",\"lower_quartile\":24.508},{\"median\":530.3005,\"box_name\":\"2017-06-08T16:35:00\",\"max\":1151.708,\"min\":30.525,\"iqr\":973.5640000000001,\"upper_quartile\":1115.044,\"count\":6,\"box_color\":\"#0277BD\",\"lower_quartile\":141.48},{\"median\":50.3185,\"box_name\":\"2017-06-08T16:36:00\",\"max\":551.727,\"min\":5.555,\"iqr\":219.59,\"upper_quartile\":235.036,\"count\":14,\"box_color\":\"#29B6F6\",\"lower_quartile\":15.446},{\"median\":92.671,\"box_name\":\"2017-06-08T16:37:00\",\"max\":958.862,\"min\":10.699,\"iqr\":322.861,\"upper_quartile\":358.397,\"count\":14,\"box_color\":\"#29B6F6\",\"lower_quartile\":35.536},{\"median\":40.07,\"box_name\":\"2017-06-08T16:38:00\",\"max\":1004.928,\"min\":5.204,\"iqr\":229.425,\"upper_quartile\":243.923,\"count\":13,\"box_color\":\"#29B6F6\",\"lower_quartile\":14.498},{\"median\":230.406,\"box_name\":\"2017-06-08T16:39:00\",\"max\":1077.75,\"min\":7.28,\"iqr\":408.073,\"upper_quartile\":423.549,\"count\":9,\"box_color\":\"#2196F3\",\"lower_quartile\":15.476},{\"median\":121.5755,\"box_name\":\"2017-06-08T16:40:00\",\"max\":1092.956,\"min\":25.611,\"iqr\":155.778,\"upper_quartile\":244.653,\"count\":8,\"box_color\":\"#29B6F6\",\"lower_quartile\":88.875},{\"median\":312.543,\"box_name\":\"2017-06-08T16:41:00\",\"max\":1022.252,\"min\":8.884,\"iqr\":411.89,\"upper_quartile\":502.789,\"count\":6,\"box_color\":\"#2196F3\",\"lower_quartile\":90.899},{\"median\":41.289,\"box_name\":\"2017-06-08T16:42:00\",\"max\":691.387,\"min\":0.535,\"iqr\":112.297,\"upper_quartile\":124.151,\"count\":12,\"box_color\":\"#29B6F6\",\"lower_quartile\":11.854},{\"median\":193.935,\"box_name\":\"2017-06-08T16:43:00\",\"max\":842.966,\"min\":7.243,\"iqr\":502.94100000000003,\"upper_quartile\":550.11,\"count\":15,\"box_color\":\"#2196F3\",\"lower_quartile\":47.169},{\"median\":234.0825,\"box_name\":\"2017-06-08T16:44:00\",\"max\":667.042,\"min\":13.502,\"iqr\":405.51800000000003,\"upper_quartile\":468.399,\"count\":16,\"box_color\":\"#2196F3\",\"lower_quartile\":62.881},{\"median\":443.864,\"box_name\":\"2017-06-08T16:45:00\",\"max\":724.666,\"min\":8.047,\"iqr\":644.073,\"upper_quartile\":680.805,\"count\":12,\"box_color\":\"#2196F3\",\"lower_quartile\":36.732},{\"median\":124.855,\"box_name\":\"2017-06-08T16:46:00\",\"max\":590.62,\"min\":3.729,\"iqr\":290.75800000000004,\"upper_quartile\":330.958,\"count\":16,\"box_color\":\"#29B6F6\",\"lower_quartile\":40.2},{\"median\":39.218,\"box_name\":\"2017-06-08T16:47:00\",\"max\":672.901,\"min\":3.947,\"iqr\":175.727,\"upper_quartile\":207.553,\"count\":13,\"box_color\":\"#29B6F6\",\"lower_quartile\":31.826},{\"median\":129.259,\"box_name\":\"2017-06-08T16:48:00\",\"max\":637.687,\"min\":3.69,\"iqr\":192.788,\"upper_quartile\":219.318,\"count\":17,\"box_color\":\"#29B6F6\",\"lower_quartile\":26.53},{\"median\":81.687,\"box_name\":\"2017-06-08T16:49:00\",\"max\":555.366,\"min\":12.377,\"iqr\":201.647,\"upper_quartile\":235.97,\"count\":19,\"box_color\":\"#29B6F6\",\"lower_quartile\":34.323},{\"median\":37.886,\"box_name\":\"2017-06-08T16:50:00\",\"max\":472.223,\"min\":4.567,\"iqr\":67.71499999999999,\"upper_quartile\":75.463,\"count\":8,\"box_color\":\"#29B6F6\",\"lower_quartile\":7.748},{\"median\":103.925,\"box_name\":\"2017-06-08T16:51:00\",\"max\":478.995,\"min\":8.241,\"iqr\":240.458,\"upper_quartile\":270.56,\"count\":18,\"box_color\":\"#29B6F6\",\"lower_quartile\":30.102},{\"median\":60.908,\"box_name\":\"2017-06-08T16:52:00\",\"max\":393.555,\"min\":2.611,\"iqr\":62.445,\"upper_quartile\":87.42,\"count\":16,\"box_color\":\"#29B6F6\",\"lower_quartile\":24.975},{\"median\":86.2905,\"box_name\":\"2017-06-08T16:53:00\",\"max\":311.71,\"min\":0.589,\"iqr\":139.484,\"upper_quartile\":149.55,\"count\":16,\"box_color\":\"#29B6F6\",\"lower_quartile\":10.066},{\"median\":105.2245,\"box_name\":\"2017-06-08T16:54:00\",\"max\":240.486,\"min\":6.88,\"iqr\":130.58499999999998,\"upper_quartile\":144.754,\"count\":12,\"box_color\":\"#29B6F6\",\"lower_quartile\":14.169},{\"median\":57.4545,\"box_name\":\"2017-06-08T16:55:00\",\"max\":188.445,\"min\":10.442,\"iqr\":86.83800000000001,\"upper_quartile\":102.724,\"count\":8,\"box_color\":\"#29B6F6\",\"lower_quartile\":15.886},{\"median\":47.407,\"box_name\":\"2017-06-08T16:56:00\",\"max\":110.516,\"min\":0.624,\"iqr\":47.866,\"upper_quartile\":56.681,\"count\":8,\"box_color\":\"#29B6F6\",\"lower_quartile\":8.815},{\"median\":57.477,\"box_name\":\"2017-06-08T16:57:00\",\"max\":113.73,\"min\":2.31,\"iqr\":48.425,\"upper_quartile\":67.767,\"count\":8,\"box_color\":\"#29B6F6\",\"lower_quartile\":19.342},{\"median\":20.521,\"box_name\":\"2017-06-08T16:58:00\",\"max\":33.609,\"min\":0.148,\"iqr\":9.518,\"upper_quartile\":26.053,\"count\":9,\"box_color\":\"#29B6F6\",\"lower_quartile\":16.535},{\"median\":{},\"box_name\":\"2017-06-08T16:59:00\",\"max\":{},\"min\":{},\"iqr\":{},\"upper_quartile\":{},\"count\":{},\"box_color\":\"#0277BD\",\"lower_quartile\":{}}],\"legend_label\":\"Inner Quartile Range\"}\n",
       "            );\n",
       "        }\n",
       "        iframe.src = \"/static/graphs/templates/boxplots_template.html#id=boxplots-YYEIZXTVHQKXCMKZRFMHBSMLMOSDWFAJ\";\n",
       "    }());\n",
       "    </script>\n"
      ]
     },
     "metadata": {},
     "output_type": "display_data"
    }
   ],
   "source": [
    "setTable(UP.btView)\n",
    "chartSessionDurationQuantilesByDatepart(tv.startTimeUTC, tv.endTimeUTC, tv.datePart)"
   ]
  },
  {
   "cell_type": "code",
   "execution_count": 16,
   "metadata": {
    "collapsed": false,
    "input_collapsed": false,
    "scrolled": false
   },
   "outputs": [
    {
     "data": {
      "text/html": [
       "<div class=\"dswbOutputText\"><h1 class=\"chart_title\" style=\"color:#ccc\">Top 20 URLs by Median Full Page Load Time</h1><h3 class=\"chart_info\" style=\"color:#ccc\">Page Group = All Page Groups</h3><h3 class=\"chart_info\" style=\"color:#ccc\">June 8, 2017 14:59:00 to June 8, 2017 16:59:00</h3><h5 class=\"chart_lastCalled\" style=\"color:#ccc\">Run at June 9, 2017 10:01:47</h5></div>"
      ]
     },
     "metadata": {},
     "output_type": "display_data"
    },
    {
     "data": {
      "text/html": [
       "    <iframe id=\"timeSeries-HFIHTJRQBSXPTDNUOUHWXBRVRMRFFVUU\" class=\"dswbiframe\" width=\"100%\" height=\"600\" src=\"about:blank\" scrolling=\"no\"></iframe>\n",
       "    <script>\n",
       "    (function() {\n",
       "        var iframe = document.getElementById(\"timeSeries-HFIHTJRQBSXPTDNUOUHWXBRVRMRFFVUU\");\n",
       "        iframe.timeSeriesRendererLoaded = function(runner) {\n",
       "            iframe.runner = runner;\n",
       "            iframe.runner([[\"x\",\"http://m.yourshot.nationalgeographic.com/photos/2931561/\",\"http://yourshot.nationalgeographic.com/profile/1109132/\",\"http://yourshot.nationalgeographic.com/profile/1326487/\",\"http://yourshot.nationalgeographic.com/profile/1506244/\",\"http://yourshot.nationalgeographic.com/photos/1556947/\",\"http://yourshot.nationalgeographic.com/profile/289870/\",\"http://yourshot.nationalgeographic.com/profile/827553/\",\"http://m.yourshot.nationalgeographic.com/photos/10214333/\",\"http://yourshot.nationalgeographic.com/tags/people/\",\"http://yourshot.nationalgeographic.com/photos/5312587/\",\"http://yourshot.nationalgeographic.com/photos/5690299/\",\"http://yourshot.nationalgeographic.com/tags/city1/\",\"http://yourshot.nationalgeographic.com/profile/1497570/\",\"http://m.yourshot.nationalgeographic.com/stories/spark-genius/\",\"http://m.yourshot.nationalgeographic.com/assignments/spark-genius/\",\"http://m.yourshot.nationalgeographic.com/photos/10396843/\",\"http://m.yourshot.nationalgeographic.com/?ys_referrer=http%3A%2F%2Fwww.nationalgeographic.com%2Fsearch%2F%3Fq%3DYourshot\",\"http://m.yourshot.nationalgeographic.com/stories/spark-genius/?utm_source=Facebook&utm_medium=Social&utm_content=link_fbp20170607ys-chasinggeniusYSstory&utm_campaign=Content&sf86308967=1&ys_referrer=http%3A%2F%2Fm.facebook.com%2F\",\"http://yourshot.nationalgeographic.com/photos/6181074/\",\"http://yourshot.nationalgeographic.com/profile/17395/\"],[\"data1\",null,null,null,null,null,null,155439.0,108003.0,104460.5,91824.0,89324.5,84703.0,81215.0,77582.0,76602.5,72865.5,72554.5,70063.0,69185.5,68989.5]],\n",
       "                [\"Median Full Page Load Time\"],\n",
       "                [\"\",\"\"],\n",
       "                [\"bar\"],\n",
       "                [\"hsla(214, 86%, 60%, 0.9)\",\"hsla(130, 61%, 50%, 0.9)\",\"hsla(35, 100%, 50%, 0.9)\",\"hsla(0, 100%, 60%, 0.9)\",\"hsla(207, 34%, 49%, 0.9)\",\"hsla(80, 61%, 50%, 0.9)\",\"hsla(181, 72%, 56%, 0.9)\",\"hsla(330, 100%, 71%, 0.9)\",\"hsla(55, 74%, 68%, 0.9)\",\"hsla(116, 26%, 64%, 0.9)\",\"hsla(34, 49%, 65%, 0.9)\",\"hsla(197, 70%, 73%, 0.9)\",\"hsla(300, 47%, 74%, 0.9)\",\"hsla(28, 100%, 86%, 0.9)\",\"hsla(181, 26%, 50%, 0.9)\",\"hsla(17, 100%, 74%, 0.9)\"],\n",
       "                [],\n",
       "                [],\n",
       "                \"\",\n",
       "                [],\n",
       "                {\"axis_y_min\":0}\n",
       "            );\n",
       "        }\n",
       "        iframe.src = \"/static/graphs/templates/c3VizRotated_template.html#id=timeSeries-HFIHTJRQBSXPTDNUOUHWXBRVRMRFFVUU\";\n",
       "    }());\n",
       "    </script>\n"
      ]
     },
     "metadata": {},
     "output_type": "display_data"
    }
   ],
   "source": [
    "chartTopURLsByLoadTime(tv.startTimeUTC, tv.endTimeUTC)"
   ]
  },
  {
   "cell_type": "code",
   "execution_count": 17,
   "metadata": {
    "collapsed": false,
    "input_collapsed": false
   },
   "outputs": [],
   "source": [
    "#usually no bounces\n",
    "\n",
    "#chartBounceRateByDatepart(startTime, endTime, datePart)\n",
    "#chartBounceRateByDimension(startTime, endTime; dimension=\"minute\", n=15, minPercentage=0.01, beaconType=\"page view\", pageGroup=[productPageGroup], country=[\"US\"], device=[\"Desktop\"])\n",
    "#chartBounceRateByDimension(startTime, endTime; dimension=\"page_group\", n=15, minPercentage=0.01, beaconType=\"page view\", pageGroup=[productPageGroup], country=[\"US\"], device=[\"Desktop\"])\n"
   ]
  },
  {
   "cell_type": "code",
   "execution_count": 18,
   "metadata": {
    "collapsed": false,
    "input_collapsed": false,
    "scrolled": false
   },
   "outputs": [
    {
     "data": {
      "text/html": [
       "<div class=\"dswbOutputText\">\n",
       "    <strong><span class=\"chart_info\" style=\"color:#B1D6ED;\">Using session timeout value of 30 minutes...</strong>\n",
       "</div>\n"
      ]
     },
     "metadata": {},
     "output_type": "display_data"
    },
    {
     "data": {
      "text/html": [
       "<div class=\"dswbOutputText\"><h1 class=\"chart_title\" style=\"color:#ccc\">Concurrent Sessions and Beacons by minute</h1><h3 class=\"chart_info\" style=\"color:#ccc\">June 8, 2017 14:59:00 to June 8, 2017 16:59:00</h3><h5 class=\"chart_lastCalled\" style=\"color:#ccc\">Run at June 9, 2017 10:01:49</h5></div>"
      ]
     },
     "metadata": {},
     "output_type": "display_data"
    },
    {
     "data": {
      "text/html": [
       "    <iframe id=\"timeSeries-DSBBVXLLUSFZOWPFLTHTZIBBCPBDTJNK\" class=\"dswbiframe\" width=\"100%\" height=\"600\" src=\"about:blank\" scrolling=\"no\"></iframe>\n",
       "    <script>\n",
       "    (function() {\n",
       "        var iframe = document.getElementById(\"timeSeries-DSBBVXLLUSFZOWPFLTHTZIBBCPBDTJNK\");\n",
       "        iframe.timeSeriesRendererLoaded = function(runner) {\n",
       "            iframe.runner = runner;\n",
       "            iframe.runner([[\"x\",\"2017-06-08 14:59:00\",\"2017-06-08 15:00:00\",\"2017-06-08 15:01:00\",\"2017-06-08 15:02:00\",\"2017-06-08 15:03:00\",\"2017-06-08 15:04:00\",\"2017-06-08 15:05:00\",\"2017-06-08 15:06:00\",\"2017-06-08 15:07:00\",\"2017-06-08 15:08:00\",\"2017-06-08 15:09:00\",\"2017-06-08 15:10:00\",\"2017-06-08 15:11:00\",\"2017-06-08 15:12:00\",\"2017-06-08 15:13:00\",\"2017-06-08 15:14:00\",\"2017-06-08 15:15:00\",\"2017-06-08 15:16:00\",\"2017-06-08 15:17:00\",\"2017-06-08 15:18:00\",\"2017-06-08 15:19:00\",\"2017-06-08 15:20:00\",\"2017-06-08 15:21:00\",\"2017-06-08 15:22:00\",\"2017-06-08 15:23:00\",\"2017-06-08 15:24:00\",\"2017-06-08 15:25:00\",\"2017-06-08 15:26:00\",\"2017-06-08 15:27:00\",\"2017-06-08 15:28:00\",\"2017-06-08 15:29:00\",\"2017-06-08 15:30:00\",\"2017-06-08 15:31:00\",\"2017-06-08 15:32:00\",\"2017-06-08 15:33:00\",\"2017-06-08 15:34:00\",\"2017-06-08 15:35:00\",\"2017-06-08 15:36:00\",\"2017-06-08 15:37:00\",\"2017-06-08 15:38:00\",\"2017-06-08 15:39:00\",\"2017-06-08 15:40:00\",\"2017-06-08 15:41:00\",\"2017-06-08 15:42:00\",\"2017-06-08 15:43:00\",\"2017-06-08 15:44:00\",\"2017-06-08 15:45:00\",\"2017-06-08 15:46:00\",\"2017-06-08 15:47:00\",\"2017-06-08 15:48:00\",\"2017-06-08 15:49:00\",\"2017-06-08 15:50:00\",\"2017-06-08 15:51:00\",\"2017-06-08 15:52:00\",\"2017-06-08 15:53:00\",\"2017-06-08 15:54:00\",\"2017-06-08 15:55:00\",\"2017-06-08 15:56:00\",\"2017-06-08 15:57:00\",\"2017-06-08 15:58:00\",\"2017-06-08 15:59:00\",\"2017-06-08 16:00:00\",\"2017-06-08 16:01:00\",\"2017-06-08 16:02:00\",\"2017-06-08 16:03:00\",\"2017-06-08 16:04:00\",\"2017-06-08 16:05:00\",\"2017-06-08 16:06:00\",\"2017-06-08 16:07:00\",\"2017-06-08 16:08:00\",\"2017-06-08 16:09:00\",\"2017-06-08 16:10:00\",\"2017-06-08 16:11:00\",\"2017-06-08 16:12:00\",\"2017-06-08 16:13:00\",\"2017-06-08 16:14:00\",\"2017-06-08 16:15:00\",\"2017-06-08 16:16:00\",\"2017-06-08 16:17:00\",\"2017-06-08 16:18:00\",\"2017-06-08 16:19:00\",\"2017-06-08 16:20:00\",\"2017-06-08 16:21:00\",\"2017-06-08 16:22:00\",\"2017-06-08 16:23:00\",\"2017-06-08 16:24:00\",\"2017-06-08 16:25:00\",\"2017-06-08 16:26:00\",\"2017-06-08 16:27:00\",\"2017-06-08 16:28:00\",\"2017-06-08 16:29:00\",\"2017-06-08 16:30:00\",\"2017-06-08 16:31:00\",\"2017-06-08 16:32:00\",\"2017-06-08 16:33:00\",\"2017-06-08 16:34:00\",\"2017-06-08 16:35:00\",\"2017-06-08 16:36:00\",\"2017-06-08 16:37:00\",\"2017-06-08 16:38:00\",\"2017-06-08 16:39:00\",\"2017-06-08 16:40:00\",\"2017-06-08 16:41:00\",\"2017-06-08 16:42:00\",\"2017-06-08 16:43:00\",\"2017-06-08 16:44:00\",\"2017-06-08 16:45:00\",\"2017-06-08 16:46:00\",\"2017-06-08 16:47:00\",\"2017-06-08 16:48:00\",\"2017-06-08 16:49:00\",\"2017-06-08 16:50:00\",\"2017-06-08 16:51:00\",\"2017-06-08 16:52:00\",\"2017-06-08 16:53:00\",\"2017-06-08 16:54:00\",\"2017-06-08 16:55:00\",\"2017-06-08 16:56:00\",\"2017-06-08 16:57:00\",\"2017-06-08 16:58:00\"],[\"data1\",82,73,78,68,80,84,89,89,89,88,81,74,76,82,90,109,88,93,91,73,94,87,96,94,73,71,76,74,61,70,72,79,78,78,101,82,80,81,91,86,92,94,97,99,81,99,92,89,99,81,68,83,86,91,88,85,71,82,79,88,90,90,75,83,79,77,91,66,87,85,79,89,103,92,78,67,78,80,92,90,82,83,81,94,87,77,81,86,81,88,87,73,80,67,76,71,64,67,64,77,61,61,64,76,79,77,74,86,89,85,89,81,84,79,76,87,79,75,78,79],[\"data2\",117,109,110,104,117,126,128,131,142,144,114,110,122,114,134,185,142,151,161,127,154,150,138,147,120,123,123,122,108,115,132,144,140,136,143,131,136,128,165,132,132,148,137,148,131,163,137,128,174,132,124,138,140,139,136,128,111,132,127,126,147,145,124,144,141,123,144,110,144,143,132,170,170,157,118,126,151,135,152,162,140,132,144,179,133,137,129,149,143,156,148,116,129,110,141,133,109,110,110,117,108,116,121,150,129,123,115,156,138,140,146,155,164,139,145,153,130,144,162,131]],\n",
       "                [\"Sessions\",\"Beacons\"],\n",
       "                [\"minute\",\"Concurrent Sessions\",\"Beacon Count\"],\n",
       "                [\"area-spline\",\"bar\"],\n",
       "                [\"hsla(28, 100%, 86%, 0.9)\",\"hsla(197, 70%, 73%, 0.9)\"],\n",
       "                [],\n",
       "                [\"data2\"],\n",
       "                \"    .c3-line {\\n        stroke: #039BE5;\\n    }\\n\\n    .c3-area {\\n        opacity:0.4;\\n    }\\n\\n    .c3 text {\\n        stroke: #979797 !important;\\n    }\\n\",\n",
       "                [],\n",
       "                {\"point_r\":0,\"axis_y_min\":0,\"axis_x_tick_culling_max\":20,\"axis_y2_min\":0}\n",
       "            );\n",
       "        }\n",
       "        iframe.src = \"/static/graphs/templates/c3Viz_template.html#id=timeSeries-DSBBVXLLUSFZOWPFLTHTZIBBCPBDTJNK\";\n",
       "    }());\n",
       "    </script>\n"
      ]
     },
     "metadata": {},
     "output_type": "display_data"
    }
   ],
   "source": [
    "#displayTitle(chart_title = \"Concurrent Sessions and Beacons for $(productPageGroup)\", chart_info = [timeString])\n",
    "chartConcurrentSessionsAndBeaconsOverTime(tv.startTimeUTC, tv.endTimeUTC, tv.datePart)"
   ]
  },
  {
   "cell_type": "code",
   "execution_count": 19,
   "metadata": {
    "collapsed": false,
    "input_collapsed": false,
    "scrolled": false
   },
   "outputs": [
    {
     "data": {
      "text/html": [
       "<div class=\"dswbOutputText\"><h1 class=\"chart_title\" style=\"color:#ccc\">Points above 3 Standard Dev</h1><h3 class=\"chart_info\" style=\"color:#ccc\">These are the long points only limited to the first 500</h3><h5 class=\"chart_lastCalled\" style=\"color:#ccc\">Run at June 9, 2017 10:01:49</h5></div>"
      ]
     },
     "metadata": {},
     "output_type": "display_data"
    },
    {
     "data": {
      "text/html": [
       "    <iframe id=\"timeSeries-UMLJWFIUGWNKJHZWSPFPLEKXOWBMWTAV\" class=\"dswbiframe\" width=\"100%\" height=\"600\" src=\"about:blank\" scrolling=\"no\"></iframe>\n",
       "    <script>\n",
       "    (function() {\n",
       "        var iframe = document.getElementById(\"timeSeries-UMLJWFIUGWNKJHZWSPFPLEKXOWBMWTAV\");\n",
       "        iframe.timeSeriesRendererLoaded = function(runner) {\n",
       "            iframe.runner = runner;\n",
       "            iframe.runner([[\"x\",1496933951517,1496933985271,1496933943885,1496933951111,1496933969196,1496933993303,1496933971130,1496933989117,1496933957605,1496933987974,1496933944008,1496933975550,1496933962194,1496933986731,1496933996921,1496933965423,1496933982752,1496933984177,1496933949422,1496933954693,1496933971516,1496933966888,1496933989316,1496933959930,1496933983170,1496933944660,1496933958776,1496933976379,1496933976861,1496934207188,1496934255462,1496934313024,1496934602656,1496934620766,1496934913787,1496934934942,1496935002332,1496935363723,1496935379014,1496935632555,1496935652453,1496935748973,1496935755712,1496935757924,1496936460770,1496936472769,1496936487119,1496936801116,1496937072652,1496937192138,1496937572426,1496934198694,1496934255188,1496934327875,1496934639415,1496934699848,1496935009556,1496935057672,1496935078656,1496935312405,1496935313765,1496935316777,1496935319827,1496935733070,1496936010416,1496936090523,1496936146385,1496936353573,1496936454986,1496936461455,1496936477479,1496936497909,1496936498356,1496936782477,1496936833085,1496936838981,1496936877171,1496936877885,1496937070563,1496937202021,1496937441318,1496934184891,1496934231764,1496934262219,1496934302972,1496934304499,1496934306017,1496934624028,1496934963643,1496935423444,1496935630199,1496935651524,1496935692585,1496936043818,1496936046687,1496936116910,1496936123827,1496936354696,1496936460382,1496936757027,1496937488404,1496937490961,1496937586274,1496934180414,1496934205064,1496934234922,1496934269685,1496934281007,1496934309212,1496934334229,1496934352416,1496934633083,1496934638184,1496934666221,1496935050124,1496935268001,1496935423223,1496935707276,1496935792685,1496933955308,1496933959393,1496933983622,1496933994978,1496933964120,1496933990056,1496933959667,1496933968617,1496933945913,1496933979007,1496933998749,1496933955273,1496933956675,1496933954957,1496933956408,1496933952458,1496933969385,1496933988920,1496933954416,1496933973671,1496933979657,1496933998682,1496933942099,1496933945820,1496933971684,1496933942619,1496933954724,1496933941767,1496933945842,1496933969134,1496933997490,1496933964521,1496933967358,1496934211467,1496934240551,1496934246880,1496934273625,1496935002111,1496935284388,1496935638127,1496935687284,1496935715074,1496935781782,1496936096787,1496936365393,1496936396976,1496936755468,1496936846436,1496937089652,1496937140776,1496937588548,1496934213822,1496934230218,1496934243567,1496934264960,1496934321015,1496934343287,1496934657096,1496934983170,1496935042609,1496935057647,1496935271995,1496935311748,1496935312944,1496935316267,1496935330254,1496935358308,1496935361988,1496935717724,1496936011227,1496936012825,1496936019603,1496936042168,1496936146033,1496936152477,1496936154298,1496936158754,1496936366959,1496936379049,1496936411783,1496936425325,1496936430640,1496936435353,1496936439410,1496936443970,1496936471521,1496936476924,1496936512006,1496936517644,1496936701150,1496936763464,1496936784765,1496936794546,1496936833292,1496936835938,1496936836501,1496936838105,1496936847155,1496936863715,1496936874609,1496936875949,1496937085153,1496937114050,1496937170125,1496937557519,1496934200142,1496934249186,1496934304992,1496934648822,1496934928650,1496934991207,1496935307589,1496935313959,1496935346694,1496935375612,1496935381124,1496935381601,1496936013366,1496936017526,1496936031557,1496936126635,1496936418933,1496936464322,1496936476661,1496936496810,1496936739517,1496937066926,1496937507391,1496937559614,1496934254282,1496934303195,1496934315059,1496934338863,1496934642403,1496934970643,1496935008570,1496935064859,1496935270411,1496935406078,1496935431084,1496935715065,1496935779135,1496935985772,1496936119154,1496936395058,1496936499095,1496936731904,1496936737894,1496936771076,1496936784287,1496936801907,1496936835057,1496936846248,1496936866795,1496937130278,1496937219045,1496937219842,1496937444765,1496937586833,1496937587589,1496934301812,1496934308373,1496934317438,1496934321571,1496934341155,1496934353405,1496934595807,1496934686655,1496934923641,1496934976808,1496934998028,1496934999589,1496934999955,1496935067642,1496935335554,1496935386252,1496936403844,1496936430089,1496936707258,1496936750966,1496936753372,1496936805221,1496937205937,1496937213947,1496937554786,1496937585633,1496934358821,1496934959955,1496934982318,1496935062757,1496935311114,1496935982428,1496936412674,1496936501188,1496936800226,1496936872240,1496937081146,1496937133174,1496937168619,1496937592188,1496934231096,1496934284616,1496934312415,1496934564873,1496934587414,1496934624657,1496934955926,1496935720751,1496935726601,1496935730088,1496935736657,1496935774940,1496936013570,1496936018606,1496936025448,1496936043421,1496936087124,1496936121549,1496936129067,1496936808462,1496936827343,1496936830682,1496937542147,1496937567401,1496934201651,1496934265714,1496934303499,1496934572629,1496934612068,1496934613866,1496935050689,1496935285100,1496935302729,1496935382720,1496935983511,1496935432630,1496935439721,1496936009773,1496936016887,1496936097569,1496936115304,1496936118112,1496936141107,1496936142436,1496936149741,1496936396333,1496936490980,1496936867224,1496937513139,1496934181443,1496934192658,1496934269963,1496934299466,1496934341167,1496934680428,1496935263261,1496935330983,1496936067351,1496936083505,1496936136441,1496936146074,1496936404716,1496937068365,1496937201742,1496937544754,1496937578200,1496937588635,1496934278217,1496934284078,1496934311475,1496934315053,1496934334918,1496934358340,1496934931008,1496935411082,1496935642857,1496935713607,1496935716012,1496935720081,1496935747695,1496936048445,1496936454722,1496936458334,1496936705541,1496936765358,1496936802343,1496936817606,1496936824588,1496936868990,1496936877917,1496937094266,1496937110745,1496937151128,1496937237274,1496937485414,1496937501811,1496937549149,1496937580074,1496934195452,1496934242233,1496934285172,1496934318021,1496934328794,1496934349889,1496934559135,1496934639097,1496934690128,1496934907587,1496934927578,1496934946324,1496934998795,1496934999792,1496935069160,1496935273299,1496935624408,1496935669485,1496935784720,1496936135102,1496936139871,1496936151320,1496936360521,1496936394426,1496936442810,1496936506719,1496936702548,1496936809953,1496936817624,1496936820634,1496937159743,1496937182082,1496937479232,1496934350224,1496934925464,1496935021471,1496935671945,1496935712374,1496936122959,1496936145422,1496936419134,1496936448686,1496936704542,1496936744260,1496936872631,1496937583589,1496934201297,1496934241251,1496934277094,1496934321117,1496934336544,1496934349636,1496934556781,1496934718180,1496934973789,1496936031322,1496936448230,1496936483027,1496936496070,1496936736700,1496936828615,1496937067768,1496937115985,1496937183536,1496937187666,1496937462463,1496937552304,1496934229593,1496934275987,1496934291933,1496934304838,1496934307808,1496934331728,1496934350395,1496934677138,1496936344163,1496936376201,1496936466204,1496936702934,1496936820904,1496937527263,1496937591364,1496934324012],[\"data1\",11848,7415,23051,201883,14046,15000,13159,7903,7703,10147,12353,20816,36310,8183,8320,7383,7442,19907,6628,9141,11650,6745,15226,6778,9089,7577,10919,19558,17942,11746,7200,44557,10898,14794,7833,15892,12992,16149,11531,13024,8193,15817,74701,8865,18431,15529,11609,16870,10502,10276,24823,7248,29429,12949,7927,9530,31762,11365,12001,22631,14165,19195,20971,17095,21324,10289,12209,6809,15378,11954,13885,15463,8198,7910,10674,16902,10938,8493,7958,14965,10688,14133,19970,7888,40983,40247,44387,22963,13430,7863,18873,11642,9646,19963,12614,10859,11050,12468,8749,13031,67408,9934,26480,12531,8911,25477,69692,26545,25067,26346,10461,13890,45622,10959,15735,11684,7125,90354,9076,6622,13902,29816,10264,18554,11372,25612,8250,66419,9078,13836,10381,6668,9082,15253,7591,11534,16083,8071,7843,26918,13366,11857,8113,21938,12272,7409,7085,16248,8571,70736,15289,6993,9115,8851,8577,16188,9975,7141,17209,7037,12176,10625,9750,15805,9340,7264,9840,8804,15165,8632,21457,10115,8313,10437,12751,25392,15315,50930,20880,14526,17078,19696,21147,21699,9340,10244,8788,16992,7827,11871,13935,23515,14218,9754,13228,8328,9010,7342,16332,10328,22176,8425,20346,49610,7230,11126,28090,7233,10969,13020,27272,14558,11143,16266,10060,12604,9066,12780,9478,16714,7239,10748,15678,11724,11530,6931,41045,7259,10413,9980,20943,11573,10514,16271,11150,72667,7557,30407,6936,6701,18860,10870,8795,8662,35569,10403,8674,8667,12354,10563,15822,18191,24969,13564,9021,12770,9656,9631,14474,8444,10156,12087,13340,6782,7468,10865,15345,39370,10357,6767,51808,21116,8995,7644,7043,6864,8793,18713,8006,8037,7150,11427,9989,7352,11320,10388,6696,9655,12442,24880,27970,20444,43617,8684,7565,11177,13052,10373,19905,29149,21947,7383,12092,16056,9725,11536,11708,19905,8329,17921,61518,36836,12042,12249,6756,15445,13033,25778,12003,8170,8005,9238,7071,10510,22687,21775,8014,15473,8280,8601,12500,8311,15730,17480,9283,23551,10739,7071,20774,7705,9040,9266,9347,14337,16049,12035,8178,13926,26909,7775,7921,7530,63310,7905,7250,8946,21612,10175,15778,9795,10111,9684,10008,32628,7177,9443,7184,23626,7867,7937,16294,18011,7947,64579,17136,7656,32005,16621,38215,33900,11486,32883,24420,33830,14356,10947,31019,12958,16675,49911,12515,11448,10973,8110,47684,9075,10228,8106,9733,6885,11707,17492,52972,35208,10873,25848,9639,23919,6841,11541,12738,9571,10586,15857,11279,8627,9841,6900,7648,6652,8342,8835,6733,7297,9109,11489,11250,9835,8121,28303,32587,43969,12951,12285,9655,20154,10962,7845,11192,24133,9480,12782,8035,11573,9961,10796,10640,6987,17485,6810,7951,6862,571482,22115,35430,33149,108421,26974,32151,6619,9664,8745,15131,13690,8401,7073,8862,9291,15026,9153,32390,10128,23346,7090,34457,27349,6868,20702,20234,17146,28285,26631,21509,15598,8570,8317,9434,8258,7699,9191,7630,12045,8895,12492,10484,6674,7916,18168,14249,13038],[\"data2\",\"f5112a05-b3cf-432c-9da9-a5786bac6d1f-or8geg\",\"70138e36-d581-439d-9405-9c7c1f98a416-or8hju\",\"c2d91a56-f366-4849-97c0-98b3d109e6f7-or8ht0\",null,null,\"a15c38ed-28dc-4964-b294-367370c04ae4-or8hk4\",\"491aad96-164b-45f2-b41c-36b1218bc01d-or8hms\",\"491aad96-164b-45f2-b41c-36b1218bc01d-or8hms\",\"6e635a89-df44-48ff-ab86-247b3cde9328-or8h8g\",\"6086c655-f138-4d53-b950-cca40d4b121f-or8h33\",\"6a15f502-a240-4500-8280-e88a26f9a92a-or8gs5\",\"98c89588-dca3-4b7a-a5c1-facf0e176039-or8hmv\",\"bcd27344-ee7c-4bc0-8eef-de7b279414c6-or8hlw\",\"d18957ad-3324-45b7-ac88-18750a6375c3-or8hku\",\"088b1c91-caca-4b93-a5df-31f7b8722314-or8gmt\",\"b625de66-afec-47bf-bf42-8a360750d286-or8hmu\",\"55feb9d4-3437-4c9b-b1e0-d75c1270fb0d-or8h98\",\"2c589381-6126-4911-8720-26cee8e51604-or8hmy\",\"416c1906-ceab-4125-bff7-be056dfe53c0-or8hmf\",\"92060934-8c72-43ab-a4f5-f11c18989b35-or8f9q\",\"91ccd200-2b20-4b15-acf2-ad0121fc95cf-or8h1l\",\"fbca7221-ed38-4503-8664-614404380d94-or8hmw\",\"2491736a-6ac0-44fc-8c0f-21699145ce05-or8hc7\",\"f236ab3a-5719-499c-8b94-f5e53551d4f3-or8heh\",\"f236ab3a-5719-499c-8b94-f5e53551d4f3-or8heh\",\"20474d5d-876d-4408-8910-6d9aeaf45442-or86ri\",\"a0367f1d-95d0-49db-8575-5f37af973cf2-or8hk4\",\"87adefea-4cb4-45b5-a342-704cd9ca86f8-or89wn\",\"fc728a15-e447-48a7-b381-caa03ad964e5-or8gvp\",\"02f30378-b53d-4ad4-aa1c-0d3dcc9128b7-or8htf\",\"a443f192-0abe-4943-aefe-889097852e9e-or8htl\",\"b3d18e80-b4d3-410e-a3d4-e1d311bc5332-or8fda\",\"b3d18e80-b4d3-410e-a3d4-e1d311bc5332-or8fda\",\"b3d18e80-b4d3-410e-a3d4-e1d311bc5332-or8fda\",null,\"a3097cd9-1e7e-4f67-a467-805a81345c30-or8ich\",\"0db8d560-d419-4f61-a388-be494fde1b6d-or8i03\",\"4cc01aa9-af8c-4e14-93e3-b93922def875-or8hur\",\"08a762bd-6f50-4adb-a84f-78173b180e0d-or8ik9\",\"93e2c4f6-dcf0-44d2-8c90-b4760cdc3954-or8iw0\",\"4cc01aa9-af8c-4e14-93e3-b93922def875-or8hur\",\"3d41b6c3-4e68-47d6-96f6-b8533e696837-or8izl\",\"b3d18e80-b4d3-410e-a3d4-e1d311bc5332-or8fda\",\"4cc01aa9-af8c-4e14-93e3-b93922def875-or8hur\",\"99ce9058-53e1-4a60-9637-ac5db888b871-or8jjt\",\"c8891eeb-7d74-4c26-a0a9-9f6c25e57f7b-or8jk8\",\"08a762bd-6f50-4adb-a84f-78173b180e0d-or8ik9\",\"c8891eeb-7d74-4c26-a0a9-9f6c25e57f7b-or8jk8\",\"5c9dba6e-df1c-4b23-91b4-f3efbd4eff0a-or8jmd\",\"a1df12c2-ba22-498e-b3e0-83518616f26d-or8k4e\",\"62971872-7273-4427-afbe-4b02955908a2-or8kb4\",\"51e1c913-e55c-4769-891e-64389540f330-or8g77\",\"d48363a6-775b-4132-bdf9-a4378ef42f53-or8hub\",\"e4564dd9-27ba-457b-97f8-a4a8e437b21e-or7ka6\",\"a0a850af-66ab-4b58-a561-90b1c6a90be0-or8ht2\",\"d48363a6-775b-4132-bdf9-a4378ef42f53-or8hub\",\"e3f6e8d9-c356-4c3f-9988-eeed08218b4b-or8if6\",\"835b935f-a8fa-4778-8949-002d7c6d5bb1-or8igw\",\"7a51d09b-4f44-484e-8a67-970c0f62388c-or8be6\",\"835b935f-a8fa-4778-8949-002d7c6d5bb1-or8igt\",\"835b935f-a8fa-4778-8949-002d7c6d5bb1-or8igt\",\"835b935f-a8fa-4778-8949-002d7c6d5bb1-or8igt\",\"835b935f-a8fa-4778-8949-002d7c6d5bb1-or8igt\",null,\"72331940-3fb0-4f72-bd26-106b36ed9fbc-or8izt\",\"fa919c7b-0c46-4abd-987c-5ba57eedf8fe-or8j7p\",\"80892731-599d-44d4-a097-5711aab0633a-or8j7k\",\"63b4540a-f317-47bf-842b-7a43d6355e48-or8h1o\",\"64008a9c-7166-46f2-90b1-015f70afb3e5-or8jjr\",\"7a51d09b-4f44-484e-8a67-970c0f62388c-or8be6\",\"1071b1ac-cb38-4570-ad60-4d630664d8f4-or8jhu\",\"a0a850af-66ab-4b58-a561-90b1c6a90be0-or8ht2\",\"368765bf-0079-4a58-892d-92a093c9d4d5-or8jkh\",\"da3f1f23-0122-4fd7-9b34-b7aadc49148f-or8jsw\",\"80892731-599d-44d4-a097-5711aab0633a-or8j7k\",\"80892731-599d-44d4-a097-5711aab0633a-or8j7k\",\"80892731-599d-44d4-a097-5711aab0633a-or8j7k\",\"80892731-599d-44d4-a097-5711aab0633a-or8j7k\",\"a3d0f691-2dd1-4143-bae6-82e02353c459-or8j6o\",\"ceac7cbb-0659-45db-a9ab-ca59e4767b6f-or8k26\",\"a3d0f691-2dd1-4143-bae6-82e02353c459-or8j6o\",\"7e53f4e0-c2ed-4448-8ee6-f26b1e39a974-or8fyt\",\"972c408c-2f1d-4ea3-b46d-72aacce9f79e-or8htq\",\"082584c7-b76d-463c-a707-eb84a35b929b-or8i5p\",\"8c500af1-62b1-414a-a2fa-2d64c2330993-or8huv\",\"8c500af1-62b1-414a-a2fa-2d64c2330993-or8huv\",\"8c500af1-62b1-414a-a2fa-2d64c2330993-or8huv\",\"8c500af1-62b1-414a-a2fa-2d64c2330993-or8huu\",\"3fb7863c-4260-4d2c-93e9-09d0652897b0-or8ied\",\"725d9f7d-4779-4758-b28b-2a76ed9735dc-or8imo\",\"46f6abc5-42a7-40b2-9e5a-dd5a6d979754-or8irc\",\"46f6abc5-42a7-40b2-9e5a-dd5a6d979754-or8irc\",\"7e53f4e0-c2ed-4448-8ee6-f26b1e39a974-or8fyt\",\"7fd8f4c2-1bca-4b88-9c98-34ce5dfd54bd-or8i5t\",\"80892731-599d-44d4-a097-5711aab0633a-or8j7k\",\"80892731-599d-44d4-a097-5711aab0633a-or8j7k\",\"7fd8f4c2-1bca-4b88-9c98-34ce5dfd54bd-or8i5t\",\"7e53f4e0-c2ed-4448-8ee6-f26b1e39a974-or8fyt\",\"7fd8f4c2-1bca-4b88-9c98-34ce5dfd54bd-or8i5t\",\"7e53f4e0-c2ed-4448-8ee6-f26b1e39a974-or8fyt\",\"e094d23e-aa94-484e-b358-55c3be634f38-or8ka7\",\"6e098142-3123-4b95-ac1b-bc4e51ab7b28-or8kco\",\"c40de8d9-1cbf-4859-8770-fbfdf5034807-or8kca\",\"3e9013f0-43bf-4f85-8f4c-13e74ae1684e-or8hs4\",\"25175a83-06b9-4d00-8084-9c3bc8dfa04d-or8hsn\",\"a8022886-d82d-49dc-af3a-0fda16b195cf-or8hth\",\"e0d892c4-033e-42a1-a3ce-fecd0643ac00-or8hq7\",\"a8022886-d82d-49dc-af3a-0fda16b195cf-or8hth\",\"a8022886-d82d-49dc-af3a-0fda16b195cf-or8hth\",\"e0d892c4-033e-42a1-a3ce-fecd0643ac00-or8hq7\",\"1a3db77f-4226-458f-8364-b6fade7d04bd-or8hx3\",\"e0d892c4-033e-42a1-a3ce-fecd0643ac00-or8hq7\",\"e0d892c4-033e-42a1-a3ce-fecd0643ac00-or8hq7\",\"e0d892c4-033e-42a1-a3ce-fecd0643ac00-or8hq7\",\"3f7a405c-7b3e-4a81-a363-5064dd69d276-or8hl0\",\"97ed3691-2c15-4f87-add4-2eca0158a3e3-or8ilt\",\"86fbcb53-ffb0-4c6e-83d1-ed2a5f396567-or8ikx\",\"edca263b-31b9-403b-8136-e88d7141589b-or8iwc\",\"a9994afe-2505-4067-b2d1-e7f5d691c5ee-or8j1j\",\"70138e36-d581-439d-9405-9c7c1f98a416-or8hju\",\"28ca33ee-aa59-4f66-a609-946b0cc11152-or8fvt\",\"f5112a05-b3cf-432c-9da9-a5786bac6d1f-or8geg\",\"f5112a05-b3cf-432c-9da9-a5786bac6d1f-or8geg\",\"c698cbf4-ecd1-4c4e-ab42-7312656702c3-or8hri\",\"c698cbf4-ecd1-4c4e-ab42-7312656702c3-or8hri\",\"a15c38ed-28dc-4964-b294-367370c04ae4-or8hk4\",\"3f7a405c-7b3e-4a81-a363-5064dd69d276-or8hl0\",null,\"e5da0887-9099-4a01-a071-2352e3c6f5da-or8h7h\",\"93f3d69c-d6cd-4f0f-a72e-b16959c30259-or8hl8\",\"8f4b0b70-3745-4dbb-87df-3e55e7003b24-or8hg8\",\"82b872a6-bb2a-4f0a-98c4-e638fbb339d5-or8h1o\",\"b8020f82-f878-4552-bd15-3dee4852f486-or8bym\",\"540ffcf4-ef88-47d0-a807-731a1e3801be-or8h1r\",\"c71b8250-9e01-4c4b-81c8-b459680b30be-or8hky\",\"2ff1bdb1-7adc-41da-9954-9cbbc890577f-or8hp9\",\"270583fb-39d7-453f-a09a-22b8ca4d5d8d-or8hjf\",\"4f7ba699-b2df-49f0-b671-1b2ca2b602fe-or8fsx\",\"92060934-8c72-43ab-a4f5-f11c18989b35-or8f9q\",\"0cef6ad6-5985-40a9-a719-9455069c6e6e-or8g96\",\"a6cdb404-390b-41b6-ad84-deb55caf9e08-or8fm7\",\"b1811953-f2b4-4f8b-81c0-ffcd17dc3824-or8hm2\",\"55c59816-290a-4b71-b432-f205392eb3b1-or8he9\",\"4e0dc3e3-26a6-4065-861c-5c3bb6e951a1-or8h42\",\"2491736a-6ac0-44fc-8c0f-21699145ce05-or8hc7\",\"817349a5-4ba9-40c1-bd1c-e418cf69390a-or8hmj\",\"b4feb732-374c-48ff-9b00-7bb85d642c41-or8g6j\",\"9391aa9d-579c-474d-b612-62ece2cd9a33-or8hgo\",\"ee35a0cc-d328-4f00-881d-741c5822d723-or8hmw\",\"4d0ba84a-82a9-4f12-802b-015aeb7710b0-or8hlq\",\"e3ae3e40-2432-4612-a144-1a71d0170c99-or8gwn\",\"e8c67239-68ca-458f-999e-a8b5412ada55-or8hmw\",\"a443f192-0abe-4943-aefe-889097852e9e-or8htl\",\"a443f192-0abe-4943-aefe-889097852e9e-or8htl\",\"4e36e261-b457-49cb-b19a-68c6b7f6d72f-or8hvk\",\"f5112a05-b3cf-432c-9da9-a5786bac6d1f-or8geg\",\"4bfca8db-31d7-4420-8c81-43cd52eb1853-or8iet\",\"c57433f5-6d69-40e6-8765-24b65c5f0c45-or8hrn\",\"4cc01aa9-af8c-4e14-93e3-b93922def875-or8hur\",\"32bbe6a2-7dc7-41d9-b3af-8816a779e9c9-or8iyo\",\"4cc01aa9-af8c-4e14-93e3-b93922def875-or8hur\",\"4cc01aa9-af8c-4e14-93e3-b93922def875-or8hur\",\"f6bc9faa-9107-471d-bdfb-5a0e4681fc50-or8j9j\",\"9dabb04b-3092-4cdc-af34-30a8a757e191-or8jh8\",\"9dabb04b-3092-4cdc-af34-30a8a757e191-or8jh8\",\"fb395671-6970-4893-87ba-131f9cc83fb2-or8jrp\",\"fb395671-6970-4893-87ba-131f9cc83fb2-or8jrp\",\"3519abb6-801c-49bd-999c-3fd9a2a1f2fe-or8k2h\",\"3519abb6-801c-49bd-999c-3fd9a2a1f2fe-or8k2h\",\"0e917404-f3d6-4b81-99e6-ef46f714750e-or8ke8\",\"a0a850af-66ab-4b58-a561-90b1c6a90be0-or8ht2\",\"a0a850af-66ab-4b58-a561-90b1c6a90be0-or8ht2\",\"a0a850af-66ab-4b58-a561-90b1c6a90be0-or8ht2\",\"a0a850af-66ab-4b58-a561-90b1c6a90be0-or8ht2\",\"a0a850af-66ab-4b58-a561-90b1c6a90be0-or8ht2\",\"3867cf76-dece-44eb-820f-f0d7afa5ad94-or8huf\",\"c8f2fcd8-b5b7-4033-bf13-ff6b8d90661a-or8i4z\",\"d48363a6-775b-4132-bdf9-a4378ef42f53-or8hub\",\"7a51d09b-4f44-484e-8a67-970c0f62388c-or8be6\",\"835b935f-a8fa-4778-8949-002d7c6d5bb1-or8igw\",\"d83e3d39-abfa-4947-8e7b-4c53a06893d5-or8ilf\",\"7a51d09b-4f44-484e-8a67-970c0f62388c-or8be6\",\"835b935f-a8fa-4778-8949-002d7c6d5bb1-or8igt\",\"835b935f-a8fa-4778-8949-002d7c6d5bb1-or8igt\",\"3b56a3e0-02b8-4c6c-a5ef-38b2d49bfebb-or8iop\",\"4b753341-7f3f-42ab-b758-af49742684b7-or8ipg\",\"c698cbf4-ecd1-4c4e-ab42-7312656702c3-or8hri\",\"ef9ff716-80fb-41b6-902a-21de4ef4c341-or8iz9\",\"a0a850af-66ab-4b58-a561-90b1c6a90be0-or8ht2\",\"72331940-3fb0-4f72-bd26-106b36ed9fbc-or8izt\",\"a3d0f691-2dd1-4143-bae6-82e02353c459-or8j6o\",\"a0a850af-66ab-4b58-a561-90b1c6a90be0-or8ht2\",\"80892731-599d-44d4-a097-5711aab0633a-or8j7k\",\"80892731-599d-44d4-a097-5711aab0633a-or8j7k\",\"80892731-599d-44d4-a097-5711aab0633a-or8j7k\",\"80892731-599d-44d4-a097-5711aab0633a-or8j7k\",\"fa919c7b-0c46-4abd-987c-5ba57eedf8fe-or8j7p\",\"1071b1ac-cb38-4570-ad60-4d630664d8f4-or8jhu\",\"7a51d09b-4f44-484e-8a67-970c0f62388c-or8be6\",\"7a51d09b-4f44-484e-8a67-970c0f62388c-or8be6\",\"d48363a6-775b-4132-bdf9-a4378ef42f53-or8hub\",\"1071b1ac-cb38-4570-ad60-4d630664d8f4-or8jhu\",\"fa919c7b-0c46-4abd-987c-5ba57eedf8fe-or8j7p\",\"d48363a6-775b-4132-bdf9-a4378ef42f53-or8hub\",\"c5edf29f-166c-40bc-abc1-a5feaa880f96-or8jhp\",\"7a51d09b-4f44-484e-8a67-970c0f62388c-or8be6\",\"fa919c7b-0c46-4abd-987c-5ba57eedf8fe-or8j7p\",\"7a51d09b-4f44-484e-8a67-970c0f62388c-or8be6\",\"a3d0f691-2dd1-4143-bae6-82e02353c459-or8j6o\",\"7a51d09b-4f44-484e-8a67-970c0f62388c-or8be6\",\"25f7a18d-c1af-46eb-bdcf-d13f208dc51d-or8jsl\",\"7a51d09b-4f44-484e-8a67-970c0f62388c-or8be6\",\"80892731-599d-44d4-a097-5711aab0633a-or8j7k\",\"80892731-599d-44d4-a097-5711aab0633a-or8j7k\",\"80892731-599d-44d4-a097-5711aab0633a-or8j7k\",\"80892731-599d-44d4-a097-5711aab0633a-or8j7k\",\"da3f1f23-0122-4fd7-9b34-b7aadc49148f-or8jsw\",\"a0a850af-66ab-4b58-a561-90b1c6a90be0-or8ht2\",\"7a51d09b-4f44-484e-8a67-970c0f62388c-or8be6\",\"63b4540a-f317-47bf-842b-7a43d6355e48-or8h1o\",\"63b4540a-f317-47bf-842b-7a43d6355e48-or8h1o\",\"63b4540a-f317-47bf-842b-7a43d6355e48-or8h1o\",\"ceac7cbb-0659-45db-a9ab-ca59e4767b6f-or8k26\",\"a3d0f691-2dd1-4143-bae6-82e02353c459-or8j6o\",\"7e53f4e0-c2ed-4448-8ee6-f26b1e39a974-or8fyt\",\"41dd0a6f-aa62-4afd-b00b-0943fa5cfaf1-or8hup\",\"8c500af1-62b1-414a-a2fa-2d64c2330993-or8huv\",\"7fd8f4c2-1bca-4b88-9c98-34ce5dfd54bd-or8i5t\",\"ccc12039-25d4-4277-89ea-71fe8f70e28e-or8hjm\",\"ccc12039-25d4-4277-89ea-71fe8f70e28e-or8hjm\",\"16680fb8-d508-42aa-8e43-d538cada00ad-or8inq\",\"ccc12039-25d4-4277-89ea-71fe8f70e28e-or8hjm\",\"725d9f7d-4779-4758-b28b-2a76ed9735dc-or8imo\",\"3baaf188-81ce-438f-a1e0-5168b980855f-or8ip4\",\"7fd8f4c2-1bca-4b88-9c98-34ce5dfd54bd-or8i5t\",\"7fd8f4c2-1bca-4b88-9c98-34ce5dfd54bd-or8i5t\",\"97ed3691-2c15-4f87-add4-2eca0158a3e3-or8ilt\",\"edca263b-31b9-403b-8136-e88d7141589b-or8iwc\",\"86fbcb53-ffb0-4c6e-83d1-ed2a5f396567-or8ikx\",\"86fbcb53-ffb0-4c6e-83d1-ed2a5f396567-or8ikx\",\"86fbcb53-ffb0-4c6e-83d1-ed2a5f396567-or8ikx\",\"d6b17f14-b1f4-4960-ad6e-fdeb9a31a96c-or8imx\",\"edca263b-31b9-403b-8136-e88d7141589b-or8iwc\",null,\"aa61d5b2-c79f-4811-9187-f76286e4819d-or8jr4\",\"6b82464f-a5c1-4e5a-8b17-a31fff416a53-or8fyb\",\"86fbcb53-ffb0-4c6e-83d1-ed2a5f396567-or8ikx\",null,\"95186951-a348-46b2-a5c7-b52a30c91fd7-or8htz\",null,\"0c8f29ee-55bf-4397-94ec-c3f89ed402c1-or8hpp\",\"1f01b58d-17d9-447d-85a8-1e8c3e611750-or8hww\",\"ab36a5d4-4a27-4f44-bd3a-0dd90d78f717-or8gs5\",\"52111747-81e1-4797-845b-b2068a330bea-or8iek\",\"52111747-81e1-4797-845b-b2068a330bea-or8iek\",\"201d010e-5c4a-43f9-9137-42ac53bfb2c0-or8i9a\",\"6cbd9e4d-e51a-4d6f-aae6-a3890425d29a-or8h47\",\"6cbd9e4d-e51a-4d6f-aae6-a3890425d29a-or8h47\",\"157a4343-ec46-4e7a-9dfd-ad8cd08f50cc-or8ik4\",\"3a59ad08-3bb7-46dd-9518-eb5f8b2443d2-or8izc\",\"6cbd9e4d-e51a-4d6f-aae6-a3890425d29a-or8h47\",\"827e5627-9269-4dd7-aec3-497a242cbb1e-or8gul\",\"0f078f6c-225b-4e05-a464-5bdd9a8d04b1-or8j9e\",\"5589d0fc-6fb9-4029-b7cb-1ce7a7c9f9be-or8jfu\",\"82c001c9-b2c3-42ff-889b-cc7aaa914694-or8j0l\",\"4b524f36-2ebc-41d4-82a1-69d65a6a89dc-or8jo5\",\"d6b17f14-b1f4-4960-ad6e-fdeb9a31a96c-or8jm3\",\"982c0d21-56bd-4535-9f3f-a230701b050c-or8jm2\",\"4b524f36-2ebc-41d4-82a1-69d65a6a89dc-or8jo5\",\"c76ef612-7d06-4640-bd3f-85fd47fa62ca-or8jtn\",\"e5da0887-9099-4a01-a071-2352e3c6f5da-or8h7h\",\"a943e148-098a-4d9c-bcb1-c76e3cb73fd4-or8iu5\",\"4b524f36-2ebc-41d4-82a1-69d65a6a89dc-or8jo5\",\"d6b17f14-b1f4-4960-ad6e-fdeb9a31a96c-or8jm3\",\"052e946f-94cf-47b2-9d92-96d9a2c069d5-or8k58\",\"d6b17f14-b1f4-4960-ad6e-fdeb9a31a96c-or8jm3\",\"4b524f36-2ebc-41d4-82a1-69d65a6a89dc-or8jo5\",\"827e5627-9269-4dd7-aec3-497a242cbb1e-or8gul\",\"827e5627-9269-4dd7-aec3-497a242cbb1e-or8gul\",\"3bf3810e-67ae-4c06-88d0-62a6f3adc6e0-or8hsw\",\"710388c4-8f27-4e01-b564-399adf4710ef-or8fkp\",\"3bf3810e-67ae-4c06-88d0-62a6f3adc6e0-or8hsw\",\"3bf3810e-67ae-4c06-88d0-62a6f3adc6e0-or8hsw\",\"3bf3810e-67ae-4c06-88d0-62a6f3adc6e0-or8hsw\",\"79d15ba7-ca57-400b-aa84-3c3dccc6511a-or8hxh\",\"e79597e3-9788-4401-9b78-d56d5396f4fd-or8i24\",\"ab292b1f-6720-4bcb-a4b5-8a9409cfade8-or8gop\",\"ab292b1f-6720-4bcb-a4b5-8a9409cfade8-or8gop\",\"ab292b1f-6720-4bcb-a4b5-8a9409cfade8-or8gop\",\"ab292b1f-6720-4bcb-a4b5-8a9409cfade8-or8gop\",\"ab292b1f-6720-4bcb-a4b5-8a9409cfade8-or8gop\",\"ab292b1f-6720-4bcb-a4b5-8a9409cfade8-or8gop\",\"ab292b1f-6720-4bcb-a4b5-8a9409cfade8-or8gop\",\"e31a6902-22e1-4653-90dd-16b4fbf3650d-or8iox\",\"ab292b1f-6720-4bcb-a4b5-8a9409cfade8-or8gop\",\"ab292b1f-6720-4bcb-a4b5-8a9409cfade8-or8gop\",\"164b996a-78da-4613-a372-f457bfc3f799-or8i0h\",\"ab292b1f-6720-4bcb-a4b5-8a9409cfade8-or8gop\",\"f9dce856-e017-40c7-9ae8-b38412963212-or8fs9\",\"ab292b1f-6720-4bcb-a4b5-8a9409cfade8-or8gop\",\"ab292b1f-6720-4bcb-a4b5-8a9409cfade8-or8gop\",\"fb149d4e-52e1-47aa-8c57-0f8ffc0687ac-or8k4u\",\"ab292b1f-6720-4bcb-a4b5-8a9409cfade8-or8gop\",\"8e6bee03-dbeb-4dbb-a20f-f35a7260a23d-or8kea\",\"0785e4ab-4af7-4a90-bbf6-3f5c1ebac906-or8kbz\",\"3015729e-03ca-43ae-ae13-ffb0446c33d0-or8hkz\",\"f35bf404-db34-471e-888f-5ccbeccd40bb-or8i5r\",\"f35bf404-db34-471e-888f-5ccbeccd40bb-or8i5r\",\"cd188714-23ec-4516-9e19-19daa22cd703-or8gij\",\"b0b9a61d-9891-4da6-9e50-f91db279b40c-or8io0\",\"12caddc3-6857-4c73-8402-7280bc12f4c5-or7ljx\",\"d706e7a6-9cc1-4dfc-8001-b90755c06a58-or8jgt\",\"80de6343-eedc-4fd3-ad90-3918c9abae8e-or8jl2\",\"d2a8ba91-76f8-4de3-8c9b-7af71d06c4fb-or8j0h\",\"d2a8ba91-76f8-4de3-8c9b-7af71d06c4fb-or8j0h\",\"50a4bc74-92d9-444f-b4b9-bf4f67ab8b33-or8jkj\",\"1cd8d9cd-2359-47a2-b5f4-98c882583de6-or8k2p\",\"3aa16e25-d865-4298-b2cb-f692677c91ec-or8idz\",\"31333f3e-e4a2-4aae-801c-80fee4b37a7d-or8kfc\",\"ceb29df0-1cc3-4252-a801-d10a2b5b6fa3-or8gkn\",\"62458e44-0cc7-4385-8c96-580b21e42cd5-or7c57\",\"ceb29df0-1cc3-4252-a801-d10a2b5b6fa3-or8gkn\",\"ceb29df0-1cc3-4252-a801-d10a2b5b6fa3-or8gkn\",\"ceb29df0-1cc3-4252-a801-d10a2b5b6fa3-or8gkn\",\"ceb29df0-1cc3-4252-a801-d10a2b5b6fa3-or8gkn\",\"ceb29df0-1cc3-4252-a801-d10a2b5b6fa3-or8gkn\",\"62458e44-0cc7-4385-8c96-580b21e42cd5-or7c57\",\"f529d674-0900-4200-8f6b-4d5ae81b4d6a-or8izj\",\"62458e44-0cc7-4385-8c96-580b21e42cd5-or7c57\",\"6dbe0798-f9b7-42cc-8413-aceff63e28b8-or8izz\",\"44b3c45d-b08d-45be-b551-83fd1dd140ea-or8ily\",\"fd0291f3-17f8-4c59-8c5c-a3cc47c82f5c-or8j7p\",\"274ea679-153c-4c11-b299-085218331191-or8j5m\",\"e0d892c4-033e-42a1-a3ce-fecd0643ac00-or8hq7\",\"ce57df49-2571-47e5-b7a6-c3f2a74362aa-or8ivb\",\"e0d892c4-033e-42a1-a3ce-fecd0643ac00-or8hq7\",\"ce57df49-2571-47e5-b7a6-c3f2a74362aa-or8ivb\",\"ce57df49-2571-47e5-b7a6-c3f2a74362aa-or8ivb\",\"7443a927-8419-4f4e-b9dc-23ef470a04ea-or8jtc\",\"96fac70f-7418-4a3b-8e78-1e2fb90fe139-or8jub\",\"7443a927-8419-4f4e-b9dc-23ef470a04ea-or8jtc\",\"cc0a76ad-8156-455b-ac8b-4b32a65002f1-or8ke3\",\"c72b10e0-c712-4552-8e39-f20e4c8d6c7d-or8kdn\",\"4bd9e4be-1582-4d14-a207-98f6f12bf666-or8h7p\",\"1e2b4cdd-42df-4461-a2da-9db8c2fb8d96-or8hup\",\"1e2b4cdd-42df-4461-a2da-9db8c2fb8d96-or8hup\",\"0ecddca5-6c16-4751-bdeb-a19fc97f6abe-or8i1o\",\"4cc01aa9-af8c-4e14-93e3-b93922def875-or8hur\",\"538d3ec7-7f99-4643-9beb-e40835a0fd96-or8i3u\",\"0e917404-f3d6-4b81-99e6-ef46f714750e-or8g5c\",\"4cc01aa9-af8c-4e14-93e3-b93922def875-or8hur\",\"4cc01aa9-af8c-4e14-93e3-b93922def875-or8hur\",\"e0d892c4-033e-42a1-a3ce-fecd0643ac00-or8hq7\",\"d7597c32-09fb-454c-bf01-5b8aa4255126-or8hmr\",\"7e53f4e0-c2ed-4448-8ee6-f26b1e39a974-or8fyt\",\"4474707f-05fc-4415-94f0-6b360d7ba05a-or8irq\",\"7fd8f4c2-1bca-4b88-9c98-34ce5dfd54bd-or8i5t\",null,\"7fd8f4c2-1bca-4b88-9c98-34ce5dfd54bd-or8i5t\",\"80892731-599d-44d4-a097-5711aab0633a-or8j7k\",\"80892731-599d-44d4-a097-5711aab0633a-or8j7k\",\"80892731-599d-44d4-a097-5711aab0633a-or8j7k\",\"80892731-599d-44d4-a097-5711aab0633a-or8j7k\",\"46f6abc5-42a7-40b2-9e5a-dd5a6d979754-or8irc\",\"7fd8f4c2-1bca-4b88-9c98-34ce5dfd54bd-or8i5t\",\"8f4b0b70-3745-4dbb-87df-3e55e7003b24-or8jeh\",\"b07ae074-29b6-4c82-bc10-7725c5c17910-or8jvf\",\"c40de8d9-1cbf-4859-8770-fbfdf5034807-or8kca\",\"25175a83-06b9-4d00-8084-9c3bc8dfa04d-or8hsn\",\"25175a83-06b9-4d00-8084-9c3bc8dfa04d-or8hsn\",\"fe5b5ffb-5469-411b-a0dd-a0b86ca1960d-or8hto\",\"e0d892c4-033e-42a1-a3ce-fecd0643ac00-or8hq7\",\"1a3db77f-4226-458f-8364-b6fade7d04bd-or8hx3\",\"7c23715f-2ba9-4da1-b166-56eb1354ba1b-or8h43\",\"d6c33b55-943e-44c7-b720-b104c8ac0c5b-or8h2h\",\"5d2a7e66-0a76-44e0-affd-7b0cc8666ef0-or8ioc\",\"7c23715f-2ba9-4da1-b166-56eb1354ba1b-or8h43\",\"94872006-1c47-43fb-ad92-2813a04fc788-or8j9f\",\"edca263b-31b9-403b-8136-e88d7141589b-or8iwc\",\"7c23715f-2ba9-4da1-b166-56eb1354ba1b-or8h43\",\"edca263b-31b9-403b-8136-e88d7141589b-or8iwc\",\"12eee450-e76a-4490-a2ab-ce5b5026dd27-or8k09\",\"5892bf9e-1ef4-45ce-a0dd-6289446a21e1-or8k3t\",\"612cdd4e-a5a7-422f-9566-934f47fb8a6e-or8kdi\",\"612cdd4e-a5a7-422f-9566-934f47fb8a6e-or8kdi\",\"fa919c7b-0c46-4abd-987c-5ba57eedf8fe-or8kfb\",\"ae142539-08fd-4ab3-acdb-32ef9e4b53a9-or8huq\",\"827e5627-9269-4dd7-aec3-497a242cbb1e-or8gul\",\"827e5627-9269-4dd7-aec3-497a242cbb1e-or8gul\",\"e5da0887-9099-4a01-a071-2352e3c6f5da-or8h7h\",\"4daae064-2d0b-4eca-98d1-abb54cf0d2c6-or8hku\",\"0c8f29ee-55bf-4397-94ec-c3f89ed402c1-or8hpp\",\"2a8bf563-7f83-4a11-97db-bd5360ce2480-or8idm\",\"157a4343-ec46-4e7a-9dfd-ad8cd08f50cc-or8ik4\",\"e5da0887-9099-4a01-a071-2352e3c6f5da-or8h7h\",\"6cbd9e4d-e51a-4d6f-aae6-a3890425d29a-or8h47\",\"52111747-81e1-4797-845b-b2068a330bea-or8iek\",\"60ef82f1-5d99-46cc-8891-3cf7ad9e11a5-or8izo\",\"6cbd9e4d-e51a-4d6f-aae6-a3890425d29a-or8h47\",\"6cbd9e4d-e51a-4d6f-aae6-a3890425d29a-or8h47\",\"827e5627-9269-4dd7-aec3-497a242cbb1e-or8gul\",\"827e5627-9269-4dd7-aec3-497a242cbb1e-or8gul\",\"827e5627-9269-4dd7-aec3-497a242cbb1e-or8gul\",\"982c0d21-56bd-4535-9f3f-a230701b050c-or8jm2\",\"d6b17f14-b1f4-4960-ad6e-fdeb9a31a96c-or8jm3\",\"a943e148-098a-4d9c-bcb1-c76e3cb73fd4-or8iu5\",\"d6b17f14-b1f4-4960-ad6e-fdeb9a31a96c-or8jm3\",\"982c0d21-56bd-4535-9f3f-a230701b050c-or8jm2\",\"5589d0fc-6fb9-4029-b7cb-1ce7a7c9f9be-or8jfu\",\"4b524f36-2ebc-41d4-82a1-69d65a6a89dc-or8jo5\",\"7fc263e3-d36e-4838-8210-9661ae583fd9-or8k0n\",\"4b524f36-2ebc-41d4-82a1-69d65a6a89dc-or8jo5\",\"4b524f36-2ebc-41d4-82a1-69d65a6a89dc-or8jo5\",\"4b524f36-2ebc-41d4-82a1-69d65a6a89dc-or8jo5\",\"827e5627-9269-4dd7-aec3-497a242cbb1e-or8gul\",\"4b524f36-2ebc-41d4-82a1-69d65a6a89dc-or8jo5\",\"4b524f36-2ebc-41d4-82a1-69d65a6a89dc-or8jo5\",\"3bf3810e-67ae-4c06-88d0-62a6f3adc6e0-or8hsw\",\"19f530de-4c0c-446e-b5df-c2abfb292fb6-or8hui\",\"3bf3810e-67ae-4c06-88d0-62a6f3adc6e0-or8hsw\",\"7d317bf6-864b-410f-9360-9c67889500c6-or8hwf\",\"7d317bf6-864b-410f-9360-9c67889500c6-or8hwf\",\"19f530de-4c0c-446e-b5df-c2abfb292fb6-or8hui\",\"710388c4-8f27-4e01-b564-399adf4710ef-or8fkp\",\"ab292b1f-6720-4bcb-a4b5-8a9409cfade8-or8gop\",\"62f33c35-f6d4-4ba4-b9d4-78b268316fbc-or8hfg\",\"ab292b1f-6720-4bcb-a4b5-8a9409cfade8-or8gop\",\"ab292b1f-6720-4bcb-a4b5-8a9409cfade8-or8gop\",\"ab292b1f-6720-4bcb-a4b5-8a9409cfade8-or8gop\",\"ab292b1f-6720-4bcb-a4b5-8a9409cfade8-or8gop\",\"ab292b1f-6720-4bcb-a4b5-8a9409cfade8-or8gop\",\"ab292b1f-6720-4bcb-a4b5-8a9409cfade8-or8gop\",\"ab292b1f-6720-4bcb-a4b5-8a9409cfade8-or8gop\",\"62f33c35-f6d4-4ba4-b9d4-78b268316fbc-or8hfg\",\"62f33c35-f6d4-4ba4-b9d4-78b268316fbc-or8hfg\",\"62f33c35-f6d4-4ba4-b9d4-78b268316fbc-or8hfg\",\"ab292b1f-6720-4bcb-a4b5-8a9409cfade8-or8gop\",\"05eb0d46-2f4f-4d8e-9b00-5fad4a9ffb45-or8jb8\",\"05eb0d46-2f4f-4d8e-9b00-5fad4a9ffb45-or8jb8\",\"ab292b1f-6720-4bcb-a4b5-8a9409cfade8-or8gop\",null,\"ab292b1f-6720-4bcb-a4b5-8a9409cfade8-or8gop\",\"87efa9c6-9f4b-4c38-9e26-9c32833542e4-or8jkp\",\"4cb0e9ff-9046-4aa1-906b-3b3f845ce7cb-or8jow\",\"4cb0e9ff-9046-4aa1-906b-3b3f845ce7cb-or8jow\",\"ab292b1f-6720-4bcb-a4b5-8a9409cfade8-or8gop\",\"ab292b1f-6720-4bcb-a4b5-8a9409cfade8-or8gop\",\"ab292b1f-6720-4bcb-a4b5-8a9409cfade8-or8gop\",\"ab292b1f-6720-4bcb-a4b5-8a9409cfade8-or8gop\",\"7b69483a-0b13-4b2e-99a9-90d9f7e3355e-or8kcg\",\"6e098142-3123-4b95-ac1b-bc4e51ab7b28-or8gqt\",\"f35bf404-db34-471e-888f-5ccbeccd40bb-or8i5r\",\"3ed29d7d-34a8-467a-9d65-2d29c791ba65-or8i0g\",\"12caddc3-6857-4c73-8402-7280bc12f4c5-or7ljx\",\"12caddc3-6857-4c73-8402-7280bc12f4c5-or7ljx\",\"12caddc3-6857-4c73-8402-7280bc12f4c5-or7ljx\",\"12caddc3-6857-4c73-8402-7280bc12f4c5-or7ljx\",\"3aa16e25-d865-4298-b2cb-f692677c91ec-or8idz\",\"d706e7a6-9cc1-4dfc-8001-b90755c06a58-or8jgt\",\"aeddc9d1-5cf2-4f26-bab0-171a83c720a7-or8jr9\",\"50a4bc74-92d9-444f-b4b9-bf4f67ab8b33-or8jkj\",\"02006497-98b5-46fa-80eb-1273dde85644-or8hkk\",null,\"62458e44-0cc7-4385-8c96-580b21e42cd5-or7c57\",\"ceb29df0-1cc3-4252-a801-d10a2b5b6fa3-or8gkn\",\"ceb29df0-1cc3-4252-a801-d10a2b5b6fa3-or8gkn\",\"d9b938e1-2c51-4157-a563-bc1fce5b8528-or8hvp\",\"ceb29df0-1cc3-4252-a801-d10a2b5b6fa3-or8gkn\",\"48c4f9c7-dd29-4814-90a1-afa6c8baa607-or8gw3\",\"ceb29df0-1cc3-4252-a801-d10a2b5b6fa3-or8gkn\",\"ceb29df0-1cc3-4252-a801-d10a2b5b6fa3-or8gkn\",\"62778fdd-8913-4f23-b6e4-7a098e8a3b7a-or8iec\",\"62519c82-e221-4b89-9853-ac5ff1739ab9-or8j7s\",\"dcb61633-9137-483a-a4e3-ca480988d872-or8j2r\",\"e0d892c4-033e-42a1-a3ce-fecd0643ac00-or8hq7\",\"d7597c32-09fb-454c-bf01-5b8aa4255126-or8hmr\",\"5d2a7e66-0a76-44e0-affd-7b0cc8666ef0-or8jry\",\"d1ad378e-c204-4411-aab0-166c3ee6ea12-or8jty\",\"e0d892c4-033e-42a1-a3ce-fecd0643ac00-or8hq7\",\"e0d892c4-033e-42a1-a3ce-fecd0643ac00-or8hq7\",\"e0d892c4-033e-42a1-a3ce-fecd0643ac00-or8hq7\",\"ecc8bd53-4248-4bc6-9022-91466bb3a8fc-or8juy\",\"e0d892c4-033e-42a1-a3ce-fecd0643ac00-or8hq7\",\"e0d892c4-033e-42a1-a3ce-fecd0643ac00-or8hq7\",\"defbbf97-bf8c-4912-bcb4-eaaec470d938-or8htn\",\"defbbf97-bf8c-4912-bcb4-eaaec470d938-or8htn\",\"defbbf97-bf8c-4912-bcb4-eaaec470d938-or8htn\",\"defbbf97-bf8c-4912-bcb4-eaaec470d938-or8htn\",\"3aca039c-02ce-4031-b098-61247be30e1c-or8h15\",\"d7f1453f-9160-40ab-b64d-a0be83882a84-or8hwx\",\"6dfa8406-8782-42bc-88d6-1e9e43b892bf-or8hxj\",\"9fda0f63-feb3-4483-be92-ba74621b44c2-or8he0\",\"d706e7a6-9cc1-4dfc-8001-b90755c06a58-or8jgt\",\"d706e7a6-9cc1-4dfc-8001-b90755c06a58-or8jgt\",\"e4e6e7a9-4ee0-40b0-94b8-c56d47eda917-or8jk4\",\"f29ff904-7b2e-4776-a11a-6375cec65506-or8jqw\",\"4096086d-dbe5-4e47-b2b2-dc6a7f92d8ff-or8ju0\",\"eee63d46-fd2d-4c93-bf30-ed494ba4dd8c-or8kci\",\"ecc8bd53-4248-4bc6-9022-91466bb3a8fc-or8juy\",\"fc1d6752-7714-4674-8d54-6f99cc2136b6-or8hwf\"]],\n",
       "                [\"Current Long Page Views Completed\"],\n",
       "                [\"Timestamps\",\"Milliseconds to Finish\"],\n",
       "                [],\n",
       "                [\"#EEC584\",\"rgb(85,134,140)\"],\n",
       "                [],\n",
       "                [],\n",
       "                \"\",\n",
       "                [],\n",
       "                {\"point_r\":2}\n",
       "            );\n",
       "        }\n",
       "        iframe.src = \"/static/graphs/templates/c3Viz_template.html#id=timeSeries-UMLJWFIUGWNKJHZWSPFPLEKXOWBMWTAV\";\n",
       "    }());\n",
       "    </script>\n"
      ]
     },
     "metadata": {},
     "output_type": "display_data"
    }
   ],
   "source": [
    "graphLongTimesFATS(localStats2)\n",
    ";"
   ]
  },
  {
   "cell_type": "code",
   "execution_count": 20,
   "metadata": {
    "collapsed": true,
    "input_collapsed": false
   },
   "outputs": [],
   "source": [
    "# Need Resource table here"
   ]
  },
  {
   "cell_type": "code",
   "execution_count": 21,
   "metadata": {
    "collapsed": false,
    "input_collapsed": false
   },
   "outputs": [],
   "source": [
    "#chartResourceResponseTimeDistribution(startTime, endTime)"
   ]
  },
  {
   "cell_type": "code",
   "execution_count": 22,
   "metadata": {
    "collapsed": true,
    "input_collapsed": false
   },
   "outputs": [],
   "source": [
    "q = query(\"\"\" drop view if exists $(UP.btView);\"\"\")\n",
    "q = query(\"\"\" drop view if exists $(UP.rtView);\"\"\")\n",
    ";"
   ]
  }
 ],
 "metadata": {
  "chart_version": "1.0.0",
  "kernelspec": {
   "display_name": "Julia 0.4.7",
   "language": "julia",
   "name": "julia-0.4"
  },
  "language_info": {
   "file_extension": ".jl",
   "mimetype": "application/julia",
   "name": "julia",
   "version": "0.4.7"
  },
  "library_version": "1.0.0",
  "notebook_uuid": "d25477b1-0073-44e5-9178-5700a0c80718",
  "readOnly": false
 },
 "nbformat": 4,
 "nbformat_minor": 0
}
