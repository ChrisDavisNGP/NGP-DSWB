{
 "cells": [
  {
   "cell_type": "code",
   "execution_count": 1,
   "metadata": {
    "collapsed": false,
    "input_collapsed": false
   },
   "outputs": [
    {
     "name": "stdout",
     "output_type": "stream",
     "text": [
      "Redshift endpoint set: 2017-06-09T01:29:14\n"
     ]
    },
    {
     "data": {
      "text/plain": [
       "\"beacons_4744\""
      ]
     },
     "execution_count": 1,
     "metadata": {},
     "output_type": "execute_result"
    }
   ],
   "source": [
    "using ODBC\n",
    "using DataFrames\n",
    "using DSWB\n",
    "using Formatting\n",
    "\n",
    "dsn = \"dswb-natgeo\" # Redshift esetTable(tableRt, tableType = \"RESOURCE_TABLE\")ndpoint\n",
    "table = \"beacons_4744\" # beacon table name\n",
    "tableRt = \"beacons_4744_rt\"\n",
    "\n",
    "# Connect to Beacon Data\n",
    "setRedshiftEndpoint(dsn)\n",
    "setTable(tableRt, tableType = \"RESOURCE_TABLE\")\n",
    "setTable(table)"
   ]
  },
  {
   "cell_type": "code",
   "execution_count": 2,
   "metadata": {
    "collapsed": false,
    "input_collapsed": false
   },
   "outputs": [
    {
     "name": "stdout",
     "output_type": "stream",
     "text": [
      "June 7, 2017 10:00:00 to June 7, 2017 10:09:00 Local Time\n",
      "June 7, 2017 14:00:00 to June 7, 2017 14:09:00 UTC Time\n"
     ]
    }
   ],
   "source": [
    "# Packages\n",
    "include(\"/data/notebook_home/Production/Lib/Include-Package-v1.0.jl\")\n",
    "include(\"/data/notebook_home/Production/Bodies/AEM-Large-Images-Body-v1.0.jl\")\n",
    "\n",
    "# Time values (tv.) structure created in include above, so init time here\n",
    "#timeVariables(2017,1,2,2,30,2017,1,2,2,45);\n",
    "timeVariables(2017,6,7,10,0,2017,6,7,10,9);\n",
    "#weeklyTimeVariables(days=1);"
   ]
  },
  {
   "cell_type": "code",
   "execution_count": 3,
   "metadata": {
    "collapsed": false,
    "input_collapsed": false
   },
   "outputs": [],
   "source": [
    "UP = UrlParamsInit()\n",
    "UP.beaconTable = table   #table\n",
    "UP.resourceTable = tableRt\n",
    "UP.btView = \"$(table)_AEM_Large_Images_view\" #localtable\n",
    "UP.pageGroup = \"%\"   #productPageGroup\n",
    "UP.urlRegEx = \"%\"   #localUrl\n",
    "UP.deviceType = \"mobile\"\n",
    "\n",
    "SG = SoastaGraphsInit()\n",
    "customer = \"Nat Geo\" \n",
    "SG.customer = customer\n",
    "\n",
    "linesOutput = 3\n",
    ";"
   ]
  },
  {
   "cell_type": "code",
   "execution_count": 4,
   "metadata": {
    "collapsed": false,
    "input_collapsed": false
   },
   "outputs": [
    {
     "name": "stdout",
     "output_type": "stream",
     "text": [
      "beacons_4744_AEM_Large_Images_view count is 449\n"
     ]
    }
   ],
   "source": [
    "defaultLocalTableALI(tv,UP)\n",
    ";"
   ]
  },
  {
   "cell_type": "code",
   "execution_count": 5,
   "metadata": {
    "collapsed": false,
    "input_collapsed": false,
    "scrolled": false
   },
   "outputs": [
    {
     "data": {
      "text/html": [
       "    <table  class=\"dataframe-table\">\n",
       "    <thead><tr><th class=\"cell-1\" style=\"\">urlgroup</th> <th class=\"cell-2\" style=\"\">session id</th> <th class=\"cell-3\" style=\"\">timestamp</th> <th class=\"cell-4\" style=\"\">encoded</th> <th class=\"cell-5\" style=\"\">transferred</th> <th class=\"cell-6\" style=\"\">decoded</th> <th class=\"cell-7\" style=\"\">count</th></tr></thead>\n",
       "    <tbody>\n",
       "    <tr><td class=\"cell-1\" style=\"\">http://www.nationalgeographic.com/magazines/pdf/060717_dom/indexB6.html</td> <td class=\"cell-2\" style=\"\">872dcb04-713c-44a9-b128-103fc55cfaf7-or6kc6</td> <td class=\"cell-3\" style=\"text-align:right;\">2017-06-07T14:02:35.218</td> <td class=\"cell-4\" style=\"text-align:right;\">5,375,126</td> <td class=\"cell-5\" style=\"text-align:right;\">5,388,342</td> <td class=\"cell-6\" style=\"text-align:right;\">316,376</td> <td class=\"cell-7\" style=\"text-align:right;\">32</td></tr>\n",
       "<tr><td class=\"cell-1\" style=\"\">http://www.nationalgeographic.com/magazines/pdf/060717_dom/indexB6.html</td> <td class=\"cell-2\" style=\"\">4abf4cc6-8f62-499e-bd36-ac1809eb8aae-or6k2e</td> <td class=\"cell-3\" style=\"text-align:right;\">2017-06-07T14:00:34.937</td> <td class=\"cell-4\" style=\"text-align:right;\">5,375,126</td> <td class=\"cell-5\" style=\"text-align:right;\">5,412,934</td> <td class=\"cell-6\" style=\"text-align:right;\">316,376</td> <td class=\"cell-7\" style=\"text-align:right;\">32</td></tr>\n",
       "    \n",
       "    <tr><td class=\"cell-1\" style=\"\">http://www.nationalgeographic.com/magazines/pdf/060717_dom/indexC4.html</td> <td class=\"cell-2\" style=\"\">a0139114-cefe-438d-bac6-bad833ba9565-or6kkt</td> <td class=\"cell-3\" style=\"text-align:right;\">2017-06-07T14:07:47.409</td> <td class=\"cell-4\" style=\"text-align:right;\">5,375,126</td> <td class=\"cell-5\" style=\"text-align:right;\">5,376,237</td> <td class=\"cell-6\" style=\"text-align:right;\">316,376</td> <td class=\"cell-7\" style=\"text-align:right;\">32</td></tr>\n",
       "    </tbody>\n"
      ],
      "text/plain": [
       "HTML{UTF8String}(\"    <table  class=\\\"dataframe-table\\\">\\n    <thead><tr><th class=\\\"cell-1\\\" style=\\\"\\\">urlgroup</th> <th class=\\\"cell-2\\\" style=\\\"\\\">session id</th> <th class=\\\"cell-3\\\" style=\\\"\\\">timestamp</th> <th class=\\\"cell-4\\\" style=\\\"\\\">encoded</th> <th class=\\\"cell-5\\\" style=\\\"\\\">transferred</th> <th class=\\\"cell-6\\\" style=\\\"\\\">decoded</th> <th class=\\\"cell-7\\\" style=\\\"\\\">count</th></tr></thead>\\n    <tbody>\\n    <tr><td class=\\\"cell-1\\\" style=\\\"\\\">http://www.nationalgeographic.com/magazines/pdf/060717_dom/indexB6.html</td> <td class=\\\"cell-2\\\" style=\\\"\\\">872dcb04-713c-44a9-b128-103fc55cfaf7-or6kc6</td> <td class=\\\"cell-3\\\" style=\\\"text-align:right;\\\">2017-06-07T14:02:35.218</td> <td class=\\\"cell-4\\\" style=\\\"text-align:right;\\\">5,375,126</td> <td class=\\\"cell-5\\\" style=\\\"text-align:right;\\\">5,388,342</td> <td class=\\\"cell-6\\\" style=\\\"text-align:right;\\\">316,376</td> <td class=\\\"cell-7\\\" style=\\\"text-align:right;\\\">32</td></tr>\\n<tr><td class=\\\"cell-1\\\" style=\\\"\\\">http://www.nationalgeographic.com/magazines/pdf/060717_dom/indexB6.html</td> <td class=\\\"cell-2\\\" style=\\\"\\\">4abf4cc6-8f62-499e-bd36-ac1809eb8aae-or6k2e</td> <td class=\\\"cell-3\\\" style=\\\"text-align:right;\\\">2017-06-07T14:00:34.937</td> <td class=\\\"cell-4\\\" style=\\\"text-align:right;\\\">5,375,126</td> <td class=\\\"cell-5\\\" style=\\\"text-align:right;\\\">5,412,934</td> <td class=\\\"cell-6\\\" style=\\\"text-align:right;\\\">316,376</td> <td class=\\\"cell-7\\\" style=\\\"text-align:right;\\\">32</td></tr>\\n    \\n    <tr><td class=\\\"cell-1\\\" style=\\\"\\\">http://www.nationalgeographic.com/magazines/pdf/060717_dom/indexC4.html</td> <td class=\\\"cell-2\\\" style=\\\"\\\">a0139114-cefe-438d-bac6-bad833ba9565-or6kkt</td> <td class=\\\"cell-3\\\" style=\\\"text-align:right;\\\">2017-06-07T14:07:47.409</td> <td class=\\\"cell-4\\\" style=\\\"text-align:right;\\\">5,375,126</td> <td class=\\\"cell-5\\\" style=\\\"text-align:right;\\\">5,376,237</td> <td class=\\\"cell-6\\\" style=\\\"text-align:right;\\\">316,376</td> <td class=\\\"cell-7\\\" style=\\\"text-align:right;\\\">32</td></tr>\\n    </tbody>\\n\")"
      ]
     },
     "metadata": {},
     "output_type": "display_data"
    }
   ],
   "source": [
    "joinTables = DataFrame()\n",
    "joinTables = gatherSizeDataALI(UP,linesOutput)\n",
    ";"
   ]
  },
  {
   "cell_type": "code",
   "execution_count": 6,
   "metadata": {
    "collapsed": false,
    "input_collapsed": false,
    "scrolled": true
   },
   "outputs": [
    {
     "data": {
      "text/html": [
       "    <table  class=\"dataframe-table\">\n",
       "    <thead><tr><th class=\"cell-1\" style=\"\">urlgroup</th> <th class=\"cell-2\" style=\"\">encoded</th> <th class=\"cell-3\" style=\"\">transferred</th> <th class=\"cell-4\" style=\"\">decoded</th></tr></thead>\n",
       "    <tbody>\n",
       "    <tr><td class=\"cell-1\" style=\"\">http://www.nationalgeographic.com/magazines/pdf/060717_dom/indexB6.html</td> <td class=\"cell-2\" style=\"text-align:right;\">5,375,126</td> <td class=\"cell-3\" style=\"text-align:right;\">5,388,342</td> <td class=\"cell-4\" style=\"text-align:right;\">316,376</td></tr>\n",
       "<tr><td class=\"cell-1\" style=\"\">http://www.nationalgeographic.com/magazines/pdf/060717_dom/indexC4.html</td> <td class=\"cell-2\" style=\"text-align:right;\">5,375,126</td> <td class=\"cell-3\" style=\"text-align:right;\">5,376,237</td> <td class=\"cell-4\" style=\"text-align:right;\">316,376</td></tr>\n",
       "    \n",
       "    <tr><td class=\"cell-1\" style=\"\">http://www.nationalgeographic.com/travel</td> <td class=\"cell-2\" style=\"text-align:right;\">3,676,998</td> <td class=\"cell-3\" style=\"text-align:right;\">24,770</td> <td class=\"cell-4\" style=\"text-align:right;\">2,682,007</td></tr>\n",
       "    </tbody>\n"
      ],
      "text/plain": [
       "HTML{UTF8String}(\"    <table  class=\\\"dataframe-table\\\">\\n    <thead><tr><th class=\\\"cell-1\\\" style=\\\"\\\">urlgroup</th> <th class=\\\"cell-2\\\" style=\\\"\\\">encoded</th> <th class=\\\"cell-3\\\" style=\\\"\\\">transferred</th> <th class=\\\"cell-4\\\" style=\\\"\\\">decoded</th></tr></thead>\\n    <tbody>\\n    <tr><td class=\\\"cell-1\\\" style=\\\"\\\">http://www.nationalgeographic.com/magazines/pdf/060717_dom/indexB6.html</td> <td class=\\\"cell-2\\\" style=\\\"text-align:right;\\\">5,375,126</td> <td class=\\\"cell-3\\\" style=\\\"text-align:right;\\\">5,388,342</td> <td class=\\\"cell-4\\\" style=\\\"text-align:right;\\\">316,376</td></tr>\\n<tr><td class=\\\"cell-1\\\" style=\\\"\\\">http://www.nationalgeographic.com/magazines/pdf/060717_dom/indexC4.html</td> <td class=\\\"cell-2\\\" style=\\\"text-align:right;\\\">5,375,126</td> <td class=\\\"cell-3\\\" style=\\\"text-align:right;\\\">5,376,237</td> <td class=\\\"cell-4\\\" style=\\\"text-align:right;\\\">316,376</td></tr>\\n    \\n    <tr><td class=\\\"cell-1\\\" style=\\\"\\\">http://www.nationalgeographic.com/travel</td> <td class=\\\"cell-2\\\" style=\\\"text-align:right;\\\">3,676,998</td> <td class=\\\"cell-3\\\" style=\\\"text-align:right;\\\">24,770</td> <td class=\\\"cell-4\\\" style=\\\"text-align:right;\\\">2,682,007</td></tr>\\n    </tbody>\\n\")"
      ]
     },
     "metadata": {},
     "output_type": "display_data"
    }
   ],
   "source": [
    "joinTableSummary = DataFrame()\n",
    "joinTableSummary = tableSummaryALI(joinTables)\n",
    ";"
   ]
  },
  {
   "cell_type": "code",
   "execution_count": 7,
   "metadata": {
    "collapsed": false,
    "input_collapsed": false,
    "scrolled": false
   },
   "outputs": [
    {
     "data": {
      "text/html": [
       "<div class=\"dswbOutputText\"><h1 class=\"chart_title\" style=\"color:#ccc\">Large Request Stats for: http://www.nationalgeographic.com/magazines/pdf/060717_dom/indexB6.html</h1><h3 class=\"chart_info\" style=\"color:#ccc\">June 7, 2017 10:00:00 to June 7, 2017 10:09:00 Local Time</h3></div>"
      ]
     },
     "metadata": {},
     "output_type": "display_data"
    },
    {
     "data": {
      "text/html": [
       "    <table  class=\"dataframe-table\">\n",
       "    <thead><tr><th class=\"cell-1\" style=\"\">RefGroup</th> <th class=\"cell-2\" style=\"\">Unit</th> <th class=\"cell-3\" style=\"\">Count</th> <th class=\"cell-4\" style=\"\">Mean</th> <th class=\"cell-5\" style=\"\">Median</th> <th class=\"cell-6\" style=\"\">Min</th> <th class=\"cell-7\" style=\"\">Max</th></tr></thead>\n",
       "    <tbody>\n",
       "    <tr><td class=\"cell-1\" style=\"\">Desktop</td> <td class=\"cell-2\" style=\"\"></td> <td class=\"cell-3\" style=\"text-align:right;\">0</td> <td class=\"cell-4\" style=\"text-align:right;\">0</td> <td class=\"cell-5\" style=\"text-align:right;\">0</td> <td class=\"cell-6\" style=\"text-align:right;\">0</td> <td class=\"cell-7\" style=\"text-align:right;\">0</td></tr>\n",
       "<tr><td class=\"cell-1\" style=\"\">Mobile</td> <td class=\"cell-2\" style=\"\">seconds</td> <td class=\"cell-3\" style=\"text-align:right;\">440</td> <td class=\"cell-4\" style=\"text-align:right;\">13.065</td> <td class=\"cell-5\" style=\"text-align:right;\">8.06</td> <td class=\"cell-6\" style=\"text-align:right;\">0.638</td> <td class=\"cell-7\" style=\"text-align:right;\">99.995</td></tr>\n",
       "    \n",
       "    <tr><td class=\"cell-1\" style=\"\">Tablet</td> <td class=\"cell-2\" style=\"\"></td> <td class=\"cell-3\" style=\"text-align:right;\">0</td> <td class=\"cell-4\" style=\"text-align:right;\">0</td> <td class=\"cell-5\" style=\"text-align:right;\">0</td> <td class=\"cell-6\" style=\"text-align:right;\">0</td> <td class=\"cell-7\" style=\"text-align:right;\">0</td></tr>\n",
       "    </tbody>\n"
      ],
      "text/plain": [
       "HTML{UTF8String}(\"    <table  class=\\\"dataframe-table\\\">\\n    <thead><tr><th class=\\\"cell-1\\\" style=\\\"\\\">RefGroup</th> <th class=\\\"cell-2\\\" style=\\\"\\\">Unit</th> <th class=\\\"cell-3\\\" style=\\\"\\\">Count</th> <th class=\\\"cell-4\\\" style=\\\"\\\">Mean</th> <th class=\\\"cell-5\\\" style=\\\"\\\">Median</th> <th class=\\\"cell-6\\\" style=\\\"\\\">Min</th> <th class=\\\"cell-7\\\" style=\\\"\\\">Max</th></tr></thead>\\n    <tbody>\\n    <tr><td class=\\\"cell-1\\\" style=\\\"\\\">Desktop</td> <td class=\\\"cell-2\\\" style=\\\"\\\"></td> <td class=\\\"cell-3\\\" style=\\\"text-align:right;\\\">0</td> <td class=\\\"cell-4\\\" style=\\\"text-align:right;\\\">0</td> <td class=\\\"cell-5\\\" style=\\\"text-align:right;\\\">0</td> <td class=\\\"cell-6\\\" style=\\\"text-align:right;\\\">0</td> <td class=\\\"cell-7\\\" style=\\\"text-align:right;\\\">0</td></tr>\\n<tr><td class=\\\"cell-1\\\" style=\\\"\\\">Mobile</td> <td class=\\\"cell-2\\\" style=\\\"\\\">seconds</td> <td class=\\\"cell-3\\\" style=\\\"text-align:right;\\\">440</td> <td class=\\\"cell-4\\\" style=\\\"text-align:right;\\\">13.065</td> <td class=\\\"cell-5\\\" style=\\\"text-align:right;\\\">8.06</td> <td class=\\\"cell-6\\\" style=\\\"text-align:right;\\\">0.638</td> <td class=\\\"cell-7\\\" style=\\\"text-align:right;\\\">99.995</td></tr>\\n    \\n    <tr><td class=\\\"cell-1\\\" style=\\\"\\\">Tablet</td> <td class=\\\"cell-2\\\" style=\\\"\\\"></td> <td class=\\\"cell-3\\\" style=\\\"text-align:right;\\\">0</td> <td class=\\\"cell-4\\\" style=\\\"text-align:right;\\\">0</td> <td class=\\\"cell-5\\\" style=\\\"text-align:right;\\\">0</td> <td class=\\\"cell-6\\\" style=\\\"text-align:right;\\\">0</td> <td class=\\\"cell-7\\\" style=\\\"text-align:right;\\\">0</td></tr>\\n    </tbody>\\n\")"
      ]
     },
     "metadata": {},
     "output_type": "display_data"
    },
    {
     "data": {
      "text/html": [
       "<div class=\"dswbOutputText\"><h1 class=\"chart_title\" style=\"color:#ccc\">Large Request Stats for: http://www.nationalgeographic.com/magazines/pdf/060717_dom/indexC4.html</h1><h3 class=\"chart_info\" style=\"color:#ccc\">June 7, 2017 10:00:00 to June 7, 2017 10:09:00 Local Time</h3></div>"
      ]
     },
     "metadata": {},
     "output_type": "display_data"
    },
    {
     "data": {
      "text/html": [
       "    <table  class=\"dataframe-table\">\n",
       "    <thead><tr><th class=\"cell-1\" style=\"\">RefGroup</th> <th class=\"cell-2\" style=\"\">Unit</th> <th class=\"cell-3\" style=\"\">Count</th> <th class=\"cell-4\" style=\"\">Mean</th> <th class=\"cell-5\" style=\"\">Median</th> <th class=\"cell-6\" style=\"\">Min</th> <th class=\"cell-7\" style=\"\">Max</th></tr></thead>\n",
       "    <tbody>\n",
       "    <tr><td class=\"cell-1\" style=\"\">Desktop</td> <td class=\"cell-2\" style=\"\"></td> <td class=\"cell-3\" style=\"text-align:right;\">0</td> <td class=\"cell-4\" style=\"text-align:right;\">0</td> <td class=\"cell-5\" style=\"text-align:right;\">0</td> <td class=\"cell-6\" style=\"text-align:right;\">0</td> <td class=\"cell-7\" style=\"text-align:right;\">0</td></tr>\n",
       "<tr><td class=\"cell-1\" style=\"\">Mobile</td> <td class=\"cell-2\" style=\"\">seconds</td> <td class=\"cell-3\" style=\"text-align:right;\">440</td> <td class=\"cell-4\" style=\"text-align:right;\">13.065</td> <td class=\"cell-5\" style=\"text-align:right;\">8.06</td> <td class=\"cell-6\" style=\"text-align:right;\">0.638</td> <td class=\"cell-7\" style=\"text-align:right;\">99.995</td></tr>\n",
       "    \n",
       "    <tr><td class=\"cell-1\" style=\"\">Tablet</td> <td class=\"cell-2\" style=\"\"></td> <td class=\"cell-3\" style=\"text-align:right;\">0</td> <td class=\"cell-4\" style=\"text-align:right;\">0</td> <td class=\"cell-5\" style=\"text-align:right;\">0</td> <td class=\"cell-6\" style=\"text-align:right;\">0</td> <td class=\"cell-7\" style=\"text-align:right;\">0</td></tr>\n",
       "    </tbody>\n"
      ],
      "text/plain": [
       "HTML{UTF8String}(\"    <table  class=\\\"dataframe-table\\\">\\n    <thead><tr><th class=\\\"cell-1\\\" style=\\\"\\\">RefGroup</th> <th class=\\\"cell-2\\\" style=\\\"\\\">Unit</th> <th class=\\\"cell-3\\\" style=\\\"\\\">Count</th> <th class=\\\"cell-4\\\" style=\\\"\\\">Mean</th> <th class=\\\"cell-5\\\" style=\\\"\\\">Median</th> <th class=\\\"cell-6\\\" style=\\\"\\\">Min</th> <th class=\\\"cell-7\\\" style=\\\"\\\">Max</th></tr></thead>\\n    <tbody>\\n    <tr><td class=\\\"cell-1\\\" style=\\\"\\\">Desktop</td> <td class=\\\"cell-2\\\" style=\\\"\\\"></td> <td class=\\\"cell-3\\\" style=\\\"text-align:right;\\\">0</td> <td class=\\\"cell-4\\\" style=\\\"text-align:right;\\\">0</td> <td class=\\\"cell-5\\\" style=\\\"text-align:right;\\\">0</td> <td class=\\\"cell-6\\\" style=\\\"text-align:right;\\\">0</td> <td class=\\\"cell-7\\\" style=\\\"text-align:right;\\\">0</td></tr>\\n<tr><td class=\\\"cell-1\\\" style=\\\"\\\">Mobile</td> <td class=\\\"cell-2\\\" style=\\\"\\\">seconds</td> <td class=\\\"cell-3\\\" style=\\\"text-align:right;\\\">440</td> <td class=\\\"cell-4\\\" style=\\\"text-align:right;\\\">13.065</td> <td class=\\\"cell-5\\\" style=\\\"text-align:right;\\\">8.06</td> <td class=\\\"cell-6\\\" style=\\\"text-align:right;\\\">0.638</td> <td class=\\\"cell-7\\\" style=\\\"text-align:right;\\\">99.995</td></tr>\\n    \\n    <tr><td class=\\\"cell-1\\\" style=\\\"\\\">Tablet</td> <td class=\\\"cell-2\\\" style=\\\"\\\"></td> <td class=\\\"cell-3\\\" style=\\\"text-align:right;\\\">0</td> <td class=\\\"cell-4\\\" style=\\\"text-align:right;\\\">0</td> <td class=\\\"cell-5\\\" style=\\\"text-align:right;\\\">0</td> <td class=\\\"cell-6\\\" style=\\\"text-align:right;\\\">0</td> <td class=\\\"cell-7\\\" style=\\\"text-align:right;\\\">0</td></tr>\\n    </tbody>\\n\")"
      ]
     },
     "metadata": {},
     "output_type": "display_data"
    },
    {
     "data": {
      "text/html": [
       "<div class=\"dswbOutputText\"><h1 class=\"chart_title\" style=\"color:#ccc\">Large Requests for: http://www.nationalgeographic.com/travel</h1><h3 class=\"chart_info\" style=\"color:#ccc\">June 7, 2017 10:00:00 to June 7, 2017 10:09:00 Local Time</h3></div>"
      ]
     },
     "metadata": {},
     "output_type": "display_data"
    },
    {
     "data": {
      "text/html": [
       "    <table  class=\"dataframe-table\">\n",
       "    <thead><tr><th class=\"cell-1\" style=\"\">start time</th> <th class=\"cell-2\" style=\"\">encoded size</th> <th class=\"cell-3\" style=\"\">transferred size</th> <th class=\"cell-4\" style=\"\">decoded size</th> <th class=\"cell-5\" style=\"\">urlgroup</th></tr></thead>\n",
       "    <tbody>\n",
       "    <tr><td class=\"cell-1\" style=\"text-align:right;\">677</td> <td class=\"cell-2\" style=\"text-align:right;\">2,210,599</td> <td class=\"cell-3\" style=\"text-align:right;\">0</td> <td class=\"cell-4\" style=\"\"></td> <td class=\"cell-5\" style=\"\">http://www.nationalgeographic.com/content/dam/travel/rights-exempt/travel-2017/april-may-traveler-cover/april-may-nat-geo-traveler-cover.ngsversion.1493316249727.jpg</td></tr>\n",
       "    \n",
       "    \n",
       "    </tbody>\n"
      ],
      "text/plain": [
       "HTML{UTF8String}(\"    <table  class=\\\"dataframe-table\\\">\\n    <thead><tr><th class=\\\"cell-1\\\" style=\\\"\\\">start time</th> <th class=\\\"cell-2\\\" style=\\\"\\\">encoded size</th> <th class=\\\"cell-3\\\" style=\\\"\\\">transferred size</th> <th class=\\\"cell-4\\\" style=\\\"\\\">decoded size</th> <th class=\\\"cell-5\\\" style=\\\"\\\">urlgroup</th></tr></thead>\\n    <tbody>\\n    <tr><td class=\\\"cell-1\\\" style=\\\"text-align:right;\\\">677</td> <td class=\\\"cell-2\\\" style=\\\"text-align:right;\\\">2,210,599</td> <td class=\\\"cell-3\\\" style=\\\"text-align:right;\\\">0</td> <td class=\\\"cell-4\\\" style=\\\"\\\"></td> <td class=\\\"cell-5\\\" style=\\\"\\\">http://www.nationalgeographic.com/content/dam/travel/rights-exempt/travel-2017/april-may-traveler-cover/april-may-nat-geo-traveler-cover.ngsversion.1493316249727.jpg</td></tr>\\n    \\n    \\n    </tbody>\\n\")"
      ]
     },
     "metadata": {},
     "output_type": "display_data"
    },
    {
     "data": {
      "text/html": [
       "<div class=\"dswbOutputText\"><h1 class=\"chart_title\" style=\"color:#ccc\">Large Request Stats for: http://www.nationalgeographic.com/travel</h1><h3 class=\"chart_info\" style=\"color:#ccc\">June 7, 2017 10:00:00 to June 7, 2017 10:09:00 Local Time</h3></div>"
      ]
     },
     "metadata": {},
     "output_type": "display_data"
    },
    {
     "data": {
      "text/html": [
       "    <table  class=\"dataframe-table\">\n",
       "    <thead><tr><th class=\"cell-1\" style=\"\">RefGroup</th> <th class=\"cell-2\" style=\"\">Unit</th> <th class=\"cell-3\" style=\"\">Count</th> <th class=\"cell-4\" style=\"\">Mean</th> <th class=\"cell-5\" style=\"\">Median</th> <th class=\"cell-6\" style=\"\">Min</th> <th class=\"cell-7\" style=\"\">Max</th></tr></thead>\n",
       "    <tbody>\n",
       "    <tr><td class=\"cell-1\" style=\"\">Desktop</td> <td class=\"cell-2\" style=\"\"></td> <td class=\"cell-3\" style=\"text-align:right;\">0</td> <td class=\"cell-4\" style=\"text-align:right;\">0</td> <td class=\"cell-5\" style=\"text-align:right;\">0</td> <td class=\"cell-6\" style=\"text-align:right;\">0</td> <td class=\"cell-7\" style=\"text-align:right;\">0</td></tr>\n",
       "<tr><td class=\"cell-1\" style=\"\">Mobile</td> <td class=\"cell-2\" style=\"\">seconds</td> <td class=\"cell-3\" style=\"text-align:right;\">440</td> <td class=\"cell-4\" style=\"text-align:right;\">13.065</td> <td class=\"cell-5\" style=\"text-align:right;\">8.06</td> <td class=\"cell-6\" style=\"text-align:right;\">0.638</td> <td class=\"cell-7\" style=\"text-align:right;\">99.995</td></tr>\n",
       "    \n",
       "    <tr><td class=\"cell-1\" style=\"\">Tablet</td> <td class=\"cell-2\" style=\"\"></td> <td class=\"cell-3\" style=\"text-align:right;\">0</td> <td class=\"cell-4\" style=\"text-align:right;\">0</td> <td class=\"cell-5\" style=\"text-align:right;\">0</td> <td class=\"cell-6\" style=\"text-align:right;\">0</td> <td class=\"cell-7\" style=\"text-align:right;\">0</td></tr>\n",
       "    </tbody>\n"
      ],
      "text/plain": [
       "HTML{UTF8String}(\"    <table  class=\\\"dataframe-table\\\">\\n    <thead><tr><th class=\\\"cell-1\\\" style=\\\"\\\">RefGroup</th> <th class=\\\"cell-2\\\" style=\\\"\\\">Unit</th> <th class=\\\"cell-3\\\" style=\\\"\\\">Count</th> <th class=\\\"cell-4\\\" style=\\\"\\\">Mean</th> <th class=\\\"cell-5\\\" style=\\\"\\\">Median</th> <th class=\\\"cell-6\\\" style=\\\"\\\">Min</th> <th class=\\\"cell-7\\\" style=\\\"\\\">Max</th></tr></thead>\\n    <tbody>\\n    <tr><td class=\\\"cell-1\\\" style=\\\"\\\">Desktop</td> <td class=\\\"cell-2\\\" style=\\\"\\\"></td> <td class=\\\"cell-3\\\" style=\\\"text-align:right;\\\">0</td> <td class=\\\"cell-4\\\" style=\\\"text-align:right;\\\">0</td> <td class=\\\"cell-5\\\" style=\\\"text-align:right;\\\">0</td> <td class=\\\"cell-6\\\" style=\\\"text-align:right;\\\">0</td> <td class=\\\"cell-7\\\" style=\\\"text-align:right;\\\">0</td></tr>\\n<tr><td class=\\\"cell-1\\\" style=\\\"\\\">Mobile</td> <td class=\\\"cell-2\\\" style=\\\"\\\">seconds</td> <td class=\\\"cell-3\\\" style=\\\"text-align:right;\\\">440</td> <td class=\\\"cell-4\\\" style=\\\"text-align:right;\\\">13.065</td> <td class=\\\"cell-5\\\" style=\\\"text-align:right;\\\">8.06</td> <td class=\\\"cell-6\\\" style=\\\"text-align:right;\\\">0.638</td> <td class=\\\"cell-7\\\" style=\\\"text-align:right;\\\">99.995</td></tr>\\n    \\n    <tr><td class=\\\"cell-1\\\" style=\\\"\\\">Tablet</td> <td class=\\\"cell-2\\\" style=\\\"\\\"></td> <td class=\\\"cell-3\\\" style=\\\"text-align:right;\\\">0</td> <td class=\\\"cell-4\\\" style=\\\"text-align:right;\\\">0</td> <td class=\\\"cell-5\\\" style=\\\"text-align:right;\\\">0</td> <td class=\\\"cell-6\\\" style=\\\"text-align:right;\\\">0</td> <td class=\\\"cell-7\\\" style=\\\"text-align:right;\\\">0</td></tr>\\n    </tbody>\\n\")"
      ]
     },
     "metadata": {},
     "output_type": "display_data"
    }
   ],
   "source": [
    "i = 0\n",
    "for row in eachrow(joinTableSummary)\n",
    "    i += 1\n",
    "    detailsPrint(UP,joinTableSummary,i)\n",
    "    statsDetailsPrint(UP,joinTableSummary,i)\n",
    "    if (i >= linesOutput)\n",
    "        break;\n",
    "    end\n",
    "end\n",
    ";"
   ]
  },
  {
   "cell_type": "code",
   "execution_count": 8,
   "metadata": {
    "collapsed": false,
    "input_collapsed": false
   },
   "outputs": [],
   "source": [
    "q = query(\"\"\" drop view if exists $(UP.btView);\"\"\")\n",
    ";"
   ]
  },
  {
   "cell_type": "code",
   "execution_count": null,
   "metadata": {
    "collapsed": true,
    "input_collapsed": true
   },
   "outputs": [],
   "source": []
  }
 ],
 "metadata": {
  "kernelspec": {
   "display_name": "Julia 0.4.7",
   "language": "julia",
   "name": "julia-0.4"
  },
  "language_info": {
   "file_extension": ".jl",
   "mimetype": "application/julia",
   "name": "julia",
   "version": "0.4.7"
  },
  "library_version": "1.0.0",
  "notebook_uuid": "693f7c0f-aebf-45a1-a1b7-a80df723a2f7",
  "readOnly": false
 },
 "nbformat": 4,
 "nbformat_minor": 0
}
